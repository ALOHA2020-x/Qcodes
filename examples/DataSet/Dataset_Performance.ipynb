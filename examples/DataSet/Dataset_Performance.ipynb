{
 "cells": [
  {
   "cell_type": "markdown",
   "metadata": {},
   "source": [
    "# DataSet Performance\n",
    "\n",
    "This notebook shows the trade-off between inserting data into a database row-by-row and as binary blobs. Inserting the data row-by-row means that we have direct access to all the data and may perform queries directly on the values of the data. On the other hand, as we shall see, this is much slower than inserting the data directly as binary blobs."
   ]
  },
  {
   "cell_type": "markdown",
   "metadata": {},
   "source": [
    "First, we choose a new location for the database to ensure that we don't add a bunch of benchmarking data to the default one."
   ]
  },
  {
   "cell_type": "code",
   "execution_count": 1,
   "metadata": {
    "execution": {
     "iopub.execute_input": "2021-03-31T19:01:30.514413Z",
     "iopub.status.busy": "2021-03-31T19:01:30.513718Z",
     "iopub.status.idle": "2021-03-31T19:01:31.536240Z",
     "shell.execute_reply": "2021-03-31T19:01:31.535622Z"
    }
   },
   "outputs": [
    {
     "name": "stdout",
     "output_type": "stream",
     "text": [
      "Logging hadn't been started.\n",
      "Activating auto-logging. Current session state plus future input saved.\n",
      "Filename       : /home/runner/.qcodes/logs/command_history.log\n",
      "Mode           : append\n",
      "Output logging : True\n",
      "Raw input log  : False\n",
      "Timestamping   : True\n",
      "State          : active\n"
     ]
    },
    {
     "name": "stdout",
     "output_type": "stream",
     "text": [
      "Qcodes Logfile : /home/runner/.qcodes/logs/210331-4553-qcodes.log\n"
     ]
    }
   ],
   "source": [
    "import os\n",
    "cwd = os.getcwd()\n",
    "import qcodes as qc\n",
    "qc.config[\"core\"][\"db_location\"] = os.path.join(cwd, 'testing.db')\n"
   ]
  },
  {
   "cell_type": "code",
   "execution_count": 2,
   "metadata": {
    "execution": {
     "iopub.execute_input": "2021-03-31T19:01:31.543575Z",
     "iopub.status.busy": "2021-03-31T19:01:31.541958Z",
     "iopub.status.idle": "2021-03-31T19:01:31.783359Z",
     "shell.execute_reply": "2021-03-31T19:01:31.782306Z"
    }
   },
   "outputs": [],
   "source": [
    "%matplotlib inline\n",
    "import time\n",
    "import matplotlib.pyplot as plt\n",
    "import numpy as np\n",
    "\n",
    "import qcodes as qc\n",
    "from qcodes.instrument.parameter import ManualParameter\n",
    "from qcodes.dataset.experiment_container import (Experiment,\n",
    "                                                 load_last_experiment,\n",
    "                                                 new_experiment)\n",
    "from qcodes.dataset.sqlite.database import initialise_database\n",
    "from qcodes import load_or_create_experiment\n",
    "from qcodes.dataset.measurements import Measurement"
   ]
  },
  {
   "cell_type": "code",
   "execution_count": 3,
   "metadata": {
    "execution": {
     "iopub.execute_input": "2021-03-31T19:01:31.787497Z",
     "iopub.status.busy": "2021-03-31T19:01:31.786928Z",
     "iopub.status.idle": "2021-03-31T19:01:31.856288Z",
     "shell.execute_reply": "2021-03-31T19:01:31.855532Z"
    }
   },
   "outputs": [
    {
     "name": "stdout",
     "output_type": "stream",
     "text": [
      "\r",
      "0it [00:00, ?it/s]"
     ]
    },
    {
     "name": "stdout",
     "output_type": "stream",
     "text": [
      "\r",
      "Upgrading database; v0 -> v1: : 0it [00:00, ?it/s]"
     ]
    },
    {
     "name": "stdout",
     "output_type": "stream",
     "text": [
      "\r",
      "Upgrading database; v0 -> v1: : 0it [00:00, ?it/s]"
     ]
    },
    {
     "name": "stdout",
     "output_type": "stream",
     "text": [
      "\n",
      "\r",
      "  0%|          | 0/1 [00:00<?, ?it/s]"
     ]
    },
    {
     "name": "stdout",
     "output_type": "stream",
     "text": [
      "\r",
      "Upgrading database; v1 -> v2:   0%|          | 0/1 [00:00<?, ?it/s]"
     ]
    },
    {
     "name": "stdout",
     "output_type": "stream",
     "text": [
      "\r",
      "Upgrading database; v1 -> v2: 100%|██████████| 1/1 [00:00<00:00, 394.39it/s]"
     ]
    },
    {
     "name": "stdout",
     "output_type": "stream",
     "text": [
      "\n",
      "\r",
      "0it [00:00, ?it/s]"
     ]
    },
    {
     "name": "stdout",
     "output_type": "stream",
     "text": [
      "\r",
      "Upgrading database; v2 -> v3: : 0it [00:00, ?it/s]"
     ]
    },
    {
     "name": "stdout",
     "output_type": "stream",
     "text": [
      "\r",
      "Upgrading database; v2 -> v3: : 0it [00:00, ?it/s]"
     ]
    },
    {
     "name": "stdout",
     "output_type": "stream",
     "text": [
      "\n",
      "\r",
      "0it [00:00, ?it/s]"
     ]
    },
    {
     "name": "stdout",
     "output_type": "stream",
     "text": [
      "\r",
      "Upgrading database; v3 -> v4: : 0it [00:00, ?it/s]"
     ]
    },
    {
     "name": "stdout",
     "output_type": "stream",
     "text": [
      "\r",
      "Upgrading database; v3 -> v4: : 0it [00:00, ?it/s]"
     ]
    },
    {
     "name": "stdout",
     "output_type": "stream",
     "text": [
      "\n",
      "\r",
      "  0%|          | 0/1 [00:00<?, ?it/s]"
     ]
    },
    {
     "name": "stdout",
     "output_type": "stream",
     "text": [
      "\r",
      "Upgrading database; v4 -> v5:   0%|          | 0/1 [00:00<?, ?it/s]"
     ]
    },
    {
     "name": "stdout",
     "output_type": "stream",
     "text": [
      "\r",
      "Upgrading database; v4 -> v5: 100%|██████████| 1/1 [00:00<00:00, 405.68it/s]"
     ]
    },
    {
     "name": "stdout",
     "output_type": "stream",
     "text": [
      "\n",
      "\r",
      "0it [00:00, ?it/s]"
     ]
    },
    {
     "name": "stdout",
     "output_type": "stream",
     "text": [
      "\r",
      "Upgrading database; v5 -> v6: : 0it [00:00, ?it/s]"
     ]
    },
    {
     "name": "stdout",
     "output_type": "stream",
     "text": [
      "\r",
      "Upgrading database; v5 -> v6: : 0it [00:00, ?it/s]"
     ]
    },
    {
     "name": "stdout",
     "output_type": "stream",
     "text": [
      "\n",
      "\r",
      "  0%|          | 0/1 [00:00<?, ?it/s]"
     ]
    },
    {
     "name": "stdout",
     "output_type": "stream",
     "text": [
      "\r",
      "Upgrading database; v6 -> v7:   0%|          | 0/1 [00:00<?, ?it/s]"
     ]
    },
    {
     "name": "stdout",
     "output_type": "stream",
     "text": [
      "\r",
      "Upgrading database; v6 -> v7: 100%|██████████| 1/1 [00:00<00:00, 297.66it/s]"
     ]
    },
    {
     "name": "stdout",
     "output_type": "stream",
     "text": [
      "\n",
      "\r",
      "  0%|          | 0/1 [00:00<?, ?it/s]"
     ]
    },
    {
     "name": "stdout",
     "output_type": "stream",
     "text": [
      "\r",
      "Upgrading database; v7 -> v8:   0%|          | 0/1 [00:00<?, ?it/s]"
     ]
    },
    {
     "name": "stdout",
     "output_type": "stream",
     "text": [
      "\r",
      "Upgrading database; v7 -> v8: 100%|██████████| 1/1 [00:00<00:00, 479.90it/s]"
     ]
    },
    {
     "name": "stdout",
     "output_type": "stream",
     "text": [
      "\n",
      "\r",
      "  0%|          | 0/1 [00:00<?, ?it/s]"
     ]
    },
    {
     "name": "stdout",
     "output_type": "stream",
     "text": [
      "\r",
      "Upgrading database; v8 -> v9:   0%|          | 0/1 [00:00<?, ?it/s]"
     ]
    },
    {
     "name": "stdout",
     "output_type": "stream",
     "text": [
      "\r",
      "Upgrading database; v8 -> v9: 100%|██████████| 1/1 [00:00<00:00, 926.92it/s]"
     ]
    },
    {
     "name": "stdout",
     "output_type": "stream",
     "text": [
      "\n"
     ]
    }
   ],
   "source": [
    "initialise_database()\n",
    "exp = load_or_create_experiment(experiment_name='tutorial_exp', sample_name=\"no sample\")"
   ]
  },
  {
   "cell_type": "markdown",
   "metadata": {},
   "source": [
    "Here, we define a simple function to benchmark the time it takes to insert n points with either numeric or array data type.\n",
    "We will compare both the time used to call ``add_result`` and the time used for the full measurement."
   ]
  },
  {
   "cell_type": "code",
   "execution_count": 4,
   "metadata": {
    "execution": {
     "iopub.execute_input": "2021-03-31T19:01:31.865280Z",
     "iopub.status.busy": "2021-03-31T19:01:31.864702Z",
     "iopub.status.idle": "2021-03-31T19:01:31.868340Z",
     "shell.execute_reply": "2021-03-31T19:01:31.867832Z"
    }
   },
   "outputs": [],
   "source": [
    "def insert_data(paramtype, npoints, nreps=1):\n",
    "\n",
    "    meas = Measurement(exp=exp)\n",
    "\n",
    "    x1 = ManualParameter('x1')\n",
    "    x2 = ManualParameter('x2')\n",
    "    x3 = ManualParameter('x3')\n",
    "    y1 = ManualParameter('y1')\n",
    "    y2 = ManualParameter('y2')\n",
    "\n",
    "    meas.register_parameter(x1, paramtype=paramtype)\n",
    "    meas.register_parameter(x2, paramtype=paramtype)\n",
    "    meas.register_parameter(x3, paramtype=paramtype)\n",
    "    meas.register_parameter(y1, setpoints=[x1, x2, x3],\n",
    "                            paramtype=paramtype)\n",
    "    meas.register_parameter(y2, setpoints=[x1, x2, x3],\n",
    "                            paramtype=paramtype)\n",
    "    start = time.perf_counter()\n",
    "    with meas.run() as datasaver:\n",
    "        start_adding = time.perf_counter()\n",
    "        for i in range(nreps):\n",
    "            datasaver.add_result((x1, np.random.rand(npoints)),\n",
    "                                 (x2, np.random.rand(npoints)),\n",
    "                                 (x3, np.random.rand(npoints)),\n",
    "                                 (y1, np.random.rand(npoints)),\n",
    "                                 (y2, np.random.rand(npoints)))\n",
    "        stop_adding = time.perf_counter()\n",
    "        run_id = datasaver.run_id\n",
    "    stop = time.perf_counter()\n",
    "    tot_time = stop - start\n",
    "    add_time = stop_adding - start_adding\n",
    "    return tot_time, add_time, run_id"
   ]
  },
  {
   "cell_type": "markdown",
   "metadata": {},
   "source": [
    "## Comparison between numeric/array data and binary blob"
   ]
  },
  {
   "cell_type": "markdown",
   "metadata": {},
   "source": [
    "### Case1: Short experiment time"
   ]
  },
  {
   "cell_type": "code",
   "execution_count": 5,
   "metadata": {
    "execution": {
     "iopub.execute_input": "2021-03-31T19:01:31.875282Z",
     "iopub.status.busy": "2021-03-31T19:01:31.874555Z",
     "iopub.status.idle": "2021-03-31T19:01:32.685721Z",
     "shell.execute_reply": "2021-03-31T19:01:32.685198Z"
    }
   },
   "outputs": [
    {
     "name": "stdout",
     "output_type": "stream",
     "text": [
      "Starting experimental run with id: 1. \n",
      "Starting experimental run with id: 2. \n",
      "Starting experimental run with id: 3. \n",
      "Starting experimental run with id: 4. \n",
      "Starting experimental run with id: 5. \n"
     ]
    },
    {
     "name": "stdout",
     "output_type": "stream",
     "text": [
      "Starting experimental run with id: 6. \n"
     ]
    },
    {
     "name": "stdout",
     "output_type": "stream",
     "text": [
      "Starting experimental run with id: 7. \n"
     ]
    },
    {
     "name": "stdout",
     "output_type": "stream",
     "text": [
      "Starting experimental run with id: 8. \n",
      "Starting experimental run with id: 9. \n"
     ]
    },
    {
     "name": "stdout",
     "output_type": "stream",
     "text": [
      "Starting experimental run with id: 10. \n",
      "Starting experimental run with id: 11. \n"
     ]
    },
    {
     "name": "stdout",
     "output_type": "stream",
     "text": [
      "Starting experimental run with id: 12. \n",
      "Starting experimental run with id: 13. \n"
     ]
    },
    {
     "name": "stdout",
     "output_type": "stream",
     "text": [
      "Starting experimental run with id: 14. \n"
     ]
    }
   ],
   "source": [
    "sizes = [1,500,1000,2000,3000,4000,5000]\n",
    "t_numeric = []\n",
    "t_numeric_add = []\n",
    "t_array = []\n",
    "t_array_add = []\n",
    "for size in sizes:\n",
    "    tn, tna, run_id_n =  insert_data('numeric', size)\n",
    "    t_numeric.append(tn)\n",
    "    t_numeric_add.append(tna)\n",
    "\n",
    "    ta, taa, run_id_a =  insert_data('array', size)\n",
    "    t_array.append(ta)\n",
    "    t_array_add.append(taa)"
   ]
  },
  {
   "cell_type": "code",
   "execution_count": 6,
   "metadata": {
    "execution": {
     "iopub.execute_input": "2021-03-31T19:01:32.704385Z",
     "iopub.status.busy": "2021-03-31T19:01:32.703813Z",
     "iopub.status.idle": "2021-03-31T19:01:32.898037Z",
     "shell.execute_reply": "2021-03-31T19:01:32.897553Z"
    }
   },
   "outputs": [
    {
     "data": {
      "image/png": "[encoded data removed]",
      "text/plain": [
       "<Figure size 432x288 with 1 Axes>"
      ]
     },
     "metadata": {
      "needs_background": "light"
     },
     "output_type": "display_data"
    }
   ],
   "source": [
    "fig, ax = plt.subplots(1,1)\n",
    "ax.plot(sizes, t_numeric, 'o-', label='Inserting row-by-row')\n",
    "ax.plot(sizes, t_numeric_add, 'o-', label='Inserting row-by-row: add_result only')\n",
    "ax.plot(sizes, t_array, 'd-', label='Inserting as binary blob')\n",
    "ax.plot(sizes, t_array_add, 'd-', label='Inserting as binary blob: add_result only')\n",
    "ax.legend()\n",
    "ax.set_xlabel('Array length')\n",
    "ax.set_ylabel('Time (s)')\n",
    "fig.tight_layout()"
   ]
  },
  {
   "cell_type": "markdown",
   "metadata": {},
   "source": [
    "As shown in the latter figure, the time to setup and and close the experiment is approximately 0.4 sec. In case of small array sizes, the difference between inserting values of data as arrays and inserting them row-by-row is relatively unimportant. At larger array sizes, i.e. above 10000 points, the cost of writing data as individual datapoints starts to become important.\n"
   ]
  },
  {
   "cell_type": "markdown",
   "metadata": {},
   "source": [
    "### Case2: Long experiment time "
   ]
  },
  {
   "cell_type": "code",
   "execution_count": 7,
   "metadata": {
    "execution": {
     "iopub.execute_input": "2021-03-31T19:01:32.905446Z",
     "iopub.status.busy": "2021-03-31T19:01:32.904861Z",
     "iopub.status.idle": "2021-03-31T19:02:29.091279Z",
     "shell.execute_reply": "2021-03-31T19:02:29.091770Z"
    }
   },
   "outputs": [
    {
     "name": "stdout",
     "output_type": "stream",
     "text": [
      "Starting experimental run with id: 15. \n",
      "Starting experimental run with id: 16. \n",
      "Starting experimental run with id: 17. \n"
     ]
    },
    {
     "name": "stdout",
     "output_type": "stream",
     "text": [
      "Starting experimental run with id: 18. \n",
      "Starting experimental run with id: 19. \n"
     ]
    },
    {
     "name": "stdout",
     "output_type": "stream",
     "text": [
      "Starting experimental run with id: 20. \n"
     ]
    },
    {
     "name": "stdout",
     "output_type": "stream",
     "text": [
      "Starting experimental run with id: 21. \n"
     ]
    },
    {
     "name": "stdout",
     "output_type": "stream",
     "text": [
      "Starting experimental run with id: 22. \n"
     ]
    },
    {
     "name": "stdout",
     "output_type": "stream",
     "text": [
      "Starting experimental run with id: 23. \n"
     ]
    },
    {
     "name": "stdout",
     "output_type": "stream",
     "text": [
      "Starting experimental run with id: 24. \n"
     ]
    },
    {
     "name": "stdout",
     "output_type": "stream",
     "text": [
      "Starting experimental run with id: 25. \n"
     ]
    },
    {
     "name": "stdout",
     "output_type": "stream",
     "text": [
      "Starting experimental run with id: 26. \n"
     ]
    },
    {
     "name": "stdout",
     "output_type": "stream",
     "text": [
      "Starting experimental run with id: 27. \n"
     ]
    },
    {
     "name": "stdout",
     "output_type": "stream",
     "text": [
      "Starting experimental run with id: 28. \n"
     ]
    }
   ],
   "source": [
    "sizes = [1,500,1000,2000,3000,4000,5000]\n",
    "nreps = 100\n",
    "t_numeric = []\n",
    "t_numeric_add = []\n",
    "t_numeric_run_ids = []\n",
    "t_array = []\n",
    "t_array_add = []\n",
    "t_array_run_ids = []\n",
    "for size in sizes:\n",
    "    tn, tna, run_id_n =  insert_data('numeric', size, nreps=nreps)\n",
    "    t_numeric.append(tn)\n",
    "    t_numeric_add.append(tna)\n",
    "    t_numeric_run_ids.append(run_id_n)\n",
    "\n",
    "    ta, taa, run_id_a =  insert_data('array', size, nreps=nreps)\n",
    "    t_array.append(ta)\n",
    "    t_array_add.append(taa)\n",
    "    t_array_run_ids.append(run_id_a)"
   ]
  },
  {
   "cell_type": "code",
   "execution_count": 8,
   "metadata": {
    "execution": {
     "iopub.execute_input": "2021-03-31T19:02:29.096738Z",
     "iopub.status.busy": "2021-03-31T19:02:29.096172Z",
     "iopub.status.idle": "2021-03-31T19:02:29.280224Z",
     "shell.execute_reply": "2021-03-31T19:02:29.281047Z"
    },
    "scrolled": true
   },
   "outputs": [
    {
     "data": {
      "image/png": "[encoded data removed]",
      "text/plain": [
       "<Figure size 432x288 with 1 Axes>"
      ]
     },
     "metadata": {
      "needs_background": "light"
     },
     "output_type": "display_data"
    }
   ],
   "source": [
    "fig, ax = plt.subplots(1,1)\n",
    "ax.plot(sizes, t_numeric, 'o-', label='Inserting row-by-row')\n",
    "ax.plot(sizes, t_numeric_add, 'o-', label='Inserting row-by-row: add_result only')\n",
    "ax.plot(sizes, t_array, 'd-', label='Inserting as binary blob')\n",
    "ax.plot(sizes, t_array_add, 'd-', label='Inserting as binary blob: add_result only')\n",
    "ax.legend()\n",
    "ax.set_xlabel('Array length')\n",
    "ax.set_ylabel('Time (s)')\n",
    "fig.tight_layout()"
   ]
  },
  {
   "cell_type": "markdown",
   "metadata": {},
   "source": [
    "However, as we increase the length of the experiment, as seen here by repeating the insertion 100 times, we see a big difference between inserting values of the data row-by-row and inserting it as a binary blob."
   ]
  },
  {
   "cell_type": "markdown",
   "metadata": {},
   "source": [
    "## Loading the data "
   ]
  },
  {
   "cell_type": "code",
   "execution_count": 9,
   "metadata": {
    "execution": {
     "iopub.execute_input": "2021-03-31T19:02:29.284791Z",
     "iopub.status.busy": "2021-03-31T19:02:29.283678Z",
     "iopub.status.idle": "2021-03-31T19:02:29.288751Z",
     "shell.execute_reply": "2021-03-31T19:02:29.289536Z"
    }
   },
   "outputs": [],
   "source": [
    "from qcodes.dataset.data_set import load_by_id\n",
    "from qcodes.dataset.data_export import get_data_by_id"
   ]
  },
  {
   "cell_type": "markdown",
   "metadata": {},
   "source": [
    "As usual you can load the data by using the ``load_by_id`` function but you will notice that the different storage methods\n",
    "are reflected in shape of the data as it is retrieved. "
   ]
  },
  {
   "cell_type": "code",
   "execution_count": 10,
   "metadata": {
    "execution": {
     "iopub.execute_input": "2021-03-31T19:02:29.293092Z",
     "iopub.status.busy": "2021-03-31T19:02:29.291998Z",
     "iopub.status.idle": "2021-03-31T19:02:29.297114Z",
     "shell.execute_reply": "2021-03-31T19:02:29.296626Z"
    }
   },
   "outputs": [],
   "source": [
    "run_id_n = t_numeric_run_ids[0]\n",
    "run_id_a = t_array_run_ids[0]"
   ]
  },
  {
   "cell_type": "code",
   "execution_count": 11,
   "metadata": {
    "execution": {
     "iopub.execute_input": "2021-03-31T19:02:29.300846Z",
     "iopub.status.busy": "2021-03-31T19:02:29.300281Z",
     "iopub.status.idle": "2021-03-31T19:02:29.312392Z",
     "shell.execute_reply": "2021-03-31T19:02:29.311888Z"
    },
    "scrolled": true
   },
   "outputs": [
    {
     "data": {
      "text/plain": [
       "{'x1': {'x1': array([1.51910372e-02, 1.51910372e-02, 4.04915073e-01, 4.04915073e-01,\n",
       "         1.42476351e-01, 1.42476351e-01, 5.25367013e-01, 5.25367013e-01,\n",
       "         4.74648586e-03, 4.74648586e-03, 5.90867669e-01, 5.90867669e-01,\n",
       "         7.55633590e-01, 7.55633590e-01, 4.76437694e-01, 4.76437694e-01,\n",
       "         4.34946169e-01, 4.34946169e-01, 7.18166552e-01, 7.18166552e-01,\n",
       "         2.69995357e-01, 2.69995357e-01, 3.06179421e-01, 3.06179421e-01,\n",
       "         9.31054332e-04, 9.31054332e-04, 1.60185082e-01, 1.60185082e-01,\n",
       "         3.47014810e-02, 3.47014810e-02, 4.19921052e-01, 4.19921052e-01,\n",
       "         2.22580624e-01, 2.22580624e-01, 7.04697262e-01, 7.04697262e-01,\n",
       "         5.61950020e-01, 5.61950020e-01, 1.09086658e-02, 1.09086658e-02,\n",
       "         5.44113221e-01, 5.44113221e-01, 1.00322486e-01, 1.00322486e-01,\n",
       "         8.25707973e-01, 8.25707973e-01, 3.37720405e-01, 3.37720405e-01,\n",
       "         3.95531880e-01, 3.95531880e-01, 1.87372141e-01, 1.87372141e-01,\n",
       "         3.57681441e-01, 3.57681441e-01, 4.71606767e-01, 4.71606767e-01,\n",
       "         2.00332452e-01, 2.00332452e-01, 5.17924910e-01, 5.17924910e-01,\n",
       "         9.20375361e-01, 9.20375361e-01, 6.22638190e-01, 6.22638190e-01,\n",
       "         8.18945584e-01, 8.18945584e-01, 6.32714835e-01, 6.32714835e-01,\n",
       "         3.13920359e-02, 3.13920359e-02, 2.70013011e-01, 2.70013011e-01,\n",
       "         8.16077220e-01, 8.16077220e-01, 8.01778255e-01, 8.01778255e-01,\n",
       "         1.54977558e-01, 1.54977558e-01, 4.45475545e-01, 4.45475545e-01,\n",
       "         9.58959998e-01, 9.58959998e-01, 1.70620887e-01, 1.70620887e-01,\n",
       "         1.25464134e-01, 1.25464134e-01, 1.55302633e-01, 1.55302633e-01,\n",
       "         5.58622189e-01, 5.58622189e-01, 5.53634861e-01, 5.53634861e-01,\n",
       "         7.51743849e-01, 7.51743849e-01, 1.27021738e-01, 1.27021738e-01,\n",
       "         4.55340229e-01, 4.55340229e-01, 8.83049894e-01, 8.83049894e-01,\n",
       "         6.09659265e-01, 6.09659265e-01, 4.79840761e-02, 4.79840761e-02,\n",
       "         9.02260511e-01, 9.02260511e-01, 3.42152214e-01, 3.42152214e-01,\n",
       "         5.00533552e-01, 5.00533552e-01, 6.13958061e-01, 6.13958061e-01,\n",
       "         7.21120473e-01, 7.21120473e-01, 7.63546362e-02, 7.63546362e-02,\n",
       "         7.38054888e-01, 7.38054888e-01, 7.94121200e-01, 7.94121200e-01,\n",
       "         5.20248804e-01, 5.20248804e-01, 2.64326159e-02, 2.64326159e-02,\n",
       "         9.81691097e-02, 9.81691097e-02, 6.02504371e-01, 6.02504371e-01,\n",
       "         5.77010127e-01, 5.77010127e-01, 8.69995176e-01, 8.69995176e-01,\n",
       "         6.83223553e-01, 6.83223553e-01, 3.46797167e-01, 3.46797167e-01,\n",
       "         2.23206387e-02, 2.23206387e-02, 6.97551423e-02, 6.97551423e-02,\n",
       "         6.43188833e-01, 6.43188833e-01, 5.64000937e-01, 5.64000937e-01,\n",
       "         2.91156366e-01, 2.91156366e-01, 8.85660225e-01, 8.85660225e-01,\n",
       "         5.43479091e-01, 5.43479091e-01, 7.47980969e-01, 7.47980969e-01,\n",
       "         3.00264802e-01, 3.00264802e-01, 7.07991556e-01, 7.07991556e-01,\n",
       "         9.42885540e-01, 9.42885540e-01, 7.64161791e-01, 7.64161791e-01,\n",
       "         5.14836637e-01, 5.14836637e-01, 9.77066780e-01, 9.77066780e-01,\n",
       "         6.99494970e-01, 6.99494970e-01, 2.27081580e-02, 2.27081580e-02,\n",
       "         1.23569703e-01, 1.23569703e-01, 8.09018383e-01, 8.09018383e-01,\n",
       "         1.50502511e-01, 1.50502511e-01, 8.43403034e-01, 8.43403034e-01,\n",
       "         6.92590459e-01, 6.92590459e-01, 1.11976967e-01, 1.11976967e-01,\n",
       "         4.54333314e-01, 4.54333314e-01, 6.97248957e-01, 6.97248957e-01,\n",
       "         2.82424303e-01, 2.82424303e-01, 2.67772549e-01, 2.67772549e-01,\n",
       "         9.80742576e-01, 9.80742576e-01, 6.50806269e-01, 6.50806269e-01,\n",
       "         7.71025274e-01, 7.71025274e-01, 2.56155639e-01, 2.56155639e-01,\n",
       "         4.88179370e-01, 4.88179370e-01, 7.89217362e-01, 7.89217362e-01])}}"
      ]
     },
     "execution_count": 1,
     "metadata": {},
     "output_type": "execute_result"
    }
   ],
   "source": [
    "ds = load_by_id(run_id_n)\n",
    "ds.get_parameter_data('x1')"
   ]
  },
  {
   "cell_type": "markdown",
   "metadata": {},
   "source": [
    "And a dataset stored as binary arrays"
   ]
  },
  {
   "cell_type": "code",
   "execution_count": 12,
   "metadata": {
    "execution": {
     "iopub.execute_input": "2021-03-31T19:02:29.316168Z",
     "iopub.status.busy": "2021-03-31T19:02:29.315516Z",
     "iopub.status.idle": "2021-03-31T19:02:29.375487Z",
     "shell.execute_reply": "2021-03-31T19:02:29.374621Z"
    },
    "scrolled": true
   },
   "outputs": [
    {
     "data": {
      "text/plain": [
       "{'x1': {'x1': array([[0.18935279],\n",
       "         [0.18935279],\n",
       "         [0.99917924],\n",
       "         [0.99917924],\n",
       "         [0.7300135 ],\n",
       "         [0.7300135 ],\n",
       "         [0.2056112 ],\n",
       "         [0.2056112 ],\n",
       "         [0.411067  ],\n",
       "         [0.411067  ],\n",
       "         [0.24754599],\n",
       "         [0.24754599],\n",
       "         [0.61391885],\n",
       "         [0.61391885],\n",
       "         [0.8370335 ],\n",
       "         [0.8370335 ],\n",
       "         [0.56148009],\n",
       "         [0.56148009],\n",
       "         [0.61191839],\n",
       "         [0.61191839],\n",
       "         [0.74944401],\n",
       "         [0.74944401],\n",
       "         [0.93937094],\n",
       "         [0.93937094],\n",
       "         [0.50382848],\n",
       "         [0.50382848],\n",
       "         [0.14363645],\n",
       "         [0.14363645],\n",
       "         [0.21277518],\n",
       "         [0.21277518],\n",
       "         [0.15787292],\n",
       "         [0.15787292],\n",
       "         [0.76488183],\n",
       "         [0.76488183],\n",
       "         [0.70829644],\n",
       "         [0.70829644],\n",
       "         [0.48994495],\n",
       "         [0.48994495],\n",
       "         [0.04217841],\n",
       "         [0.04217841],\n",
       "         [0.75203794],\n",
       "         [0.75203794],\n",
       "         [0.79385712],\n",
       "         [0.79385712],\n",
       "         [0.89211947],\n",
       "         [0.89211947],\n",
       "         [0.51559848],\n",
       "         [0.51559848],\n",
       "         [0.02132518],\n",
       "         [0.02132518],\n",
       "         [0.24550098],\n",
       "         [0.24550098],\n",
       "         [0.28309596],\n",
       "         [0.28309596],\n",
       "         [0.28800253],\n",
       "         [0.28800253],\n",
       "         [0.7390375 ],\n",
       "         [0.7390375 ],\n",
       "         [0.43050601],\n",
       "         [0.43050601],\n",
       "         [0.46614882],\n",
       "         [0.46614882],\n",
       "         [0.54138286],\n",
       "         [0.54138286],\n",
       "         [0.957992  ],\n",
       "         [0.957992  ],\n",
       "         [0.63929459],\n",
       "         [0.63929459],\n",
       "         [0.28587101],\n",
       "         [0.28587101],\n",
       "         [0.59510471],\n",
       "         [0.59510471],\n",
       "         [0.57566174],\n",
       "         [0.57566174],\n",
       "         [0.19292255],\n",
       "         [0.19292255],\n",
       "         [0.05107834],\n",
       "         [0.05107834],\n",
       "         [0.16669468],\n",
       "         [0.16669468],\n",
       "         [0.94015377],\n",
       "         [0.94015377],\n",
       "         [0.29697456],\n",
       "         [0.29697456],\n",
       "         [0.72669894],\n",
       "         [0.72669894],\n",
       "         [0.28725299],\n",
       "         [0.28725299],\n",
       "         [0.33245205],\n",
       "         [0.33245205],\n",
       "         [0.8918269 ],\n",
       "         [0.8918269 ],\n",
       "         [0.11606075],\n",
       "         [0.11606075],\n",
       "         [0.75647368],\n",
       "         [0.75647368],\n",
       "         [0.39466237],\n",
       "         [0.39466237],\n",
       "         [0.2195927 ],\n",
       "         [0.2195927 ],\n",
       "         [0.54461149],\n",
       "         [0.54461149],\n",
       "         [0.75864415],\n",
       "         [0.75864415],\n",
       "         [0.95046179],\n",
       "         [0.95046179],\n",
       "         [0.65289635],\n",
       "         [0.65289635],\n",
       "         [0.02713247],\n",
       "         [0.02713247],\n",
       "         [0.03011848],\n",
       "         [0.03011848],\n",
       "         [0.77898082],\n",
       "         [0.77898082],\n",
       "         [0.52582188],\n",
       "         [0.52582188],\n",
       "         [0.18988823],\n",
       "         [0.18988823],\n",
       "         [0.27835169],\n",
       "         [0.27835169],\n",
       "         [0.14144597],\n",
       "         [0.14144597],\n",
       "         [0.13169269],\n",
       "         [0.13169269],\n",
       "         [0.60737908],\n",
       "         [0.60737908],\n",
       "         [0.28314592],\n",
       "         [0.28314592],\n",
       "         [0.13374111],\n",
       "         [0.13374111],\n",
       "         [0.56078536],\n",
       "         [0.56078536],\n",
       "         [0.77802676],\n",
       "         [0.77802676],\n",
       "         [0.48495496],\n",
       "         [0.48495496],\n",
       "         [0.56515023],\n",
       "         [0.56515023],\n",
       "         [0.12711941],\n",
       "         [0.12711941],\n",
       "         [0.79530633],\n",
       "         [0.79530633],\n",
       "         [0.52332828],\n",
       "         [0.52332828],\n",
       "         [0.88513868],\n",
       "         [0.88513868],\n",
       "         [0.03964105],\n",
       "         [0.03964105],\n",
       "         [0.67438228],\n",
       "         [0.67438228],\n",
       "         [0.57024196],\n",
       "         [0.57024196],\n",
       "         [0.93210263],\n",
       "         [0.93210263],\n",
       "         [0.40163873],\n",
       "         [0.40163873],\n",
       "         [0.08365053],\n",
       "         [0.08365053],\n",
       "         [0.28020754],\n",
       "         [0.28020754],\n",
       "         [0.78075802],\n",
       "         [0.78075802],\n",
       "         [0.32089447],\n",
       "         [0.32089447],\n",
       "         [0.64592399],\n",
       "         [0.64592399],\n",
       "         [0.68985345],\n",
       "         [0.68985345],\n",
       "         [0.004785  ],\n",
       "         [0.004785  ],\n",
       "         [0.50900376],\n",
       "         [0.50900376],\n",
       "         [0.15676065],\n",
       "         [0.15676065],\n",
       "         [0.3329589 ],\n",
       "         [0.3329589 ],\n",
       "         [0.04727037],\n",
       "         [0.04727037],\n",
       "         [0.59930076],\n",
       "         [0.59930076],\n",
       "         [0.68052135],\n",
       "         [0.68052135],\n",
       "         [0.0027947 ],\n",
       "         [0.0027947 ],\n",
       "         [0.07218981],\n",
       "         [0.07218981],\n",
       "         [0.83280309],\n",
       "         [0.83280309],\n",
       "         [0.7271684 ],\n",
       "         [0.7271684 ],\n",
       "         [0.1232468 ],\n",
       "         [0.1232468 ],\n",
       "         [0.14354509],\n",
       "         [0.14354509],\n",
       "         [0.88603164],\n",
       "         [0.88603164],\n",
       "         [0.4883265 ],\n",
       "         [0.4883265 ],\n",
       "         [0.76501426],\n",
       "         [0.76501426]])}}"
      ]
     },
     "execution_count": 1,
     "metadata": {},
     "output_type": "execute_result"
    }
   ],
   "source": [
    "ds = load_by_id(run_id_a)\n",
    "ds.get_parameter_data('x1')"
   ]
  },
  {
   "cell_type": "code",
   "execution_count": null,
   "metadata": {},
   "outputs": [],
   "source": []
  }
 ],
 "metadata": {
  "kernelspec": {
   "display_name": "Python 3",
   "language": "python",
   "name": "python3"
  },
  "language_info": {
   "codemirror_mode": {
    "name": "ipython",
    "version": 3
   },
   "file_extension": ".py",
   "mimetype": "text/x-python",
   "name": "python",
   "nbconvert_exporter": "python",
   "pygments_lexer": "ipython3",
   "version": "3.7.10"
  },
  "nbsphinx": {
   "timeout": 600
  },
  "toc": {
   "base_numbering": 1,
   "nav_menu": {},
   "number_sections": true,
   "sideBar": true,
   "skip_h1_title": false,
   "title_cell": "Table of Contents",
   "title_sidebar": "Contents",
   "toc_cell": false,
   "toc_position": {},
   "toc_section_display": true,
   "toc_window_display": false
  },
  "varInspector": {
   "cols": {
    "lenName": 16,
    "lenType": 16,
    "lenVar": 40
   },
   "kernels_config": {
    "python": {
     "delete_cmd_postfix": "",
     "delete_cmd_prefix": "del ",
     "library": "var_list.py",
     "varRefreshCmd": "print(var_dic_list())"
    },
    "r": {
     "delete_cmd_postfix": ") ",
     "delete_cmd_prefix": "rm(",
     "library": "var_list.r",
     "varRefreshCmd": "cat(var_dic_list()) "
    }
   },
   "types_to_exclude": [
    "module",
    "function",
    "builtin_function_or_method",
    "instance",
    "_Feature"
   ],
   "window_display": false
  }
 },
 "nbformat": 4,
 "nbformat_minor": 2
}
