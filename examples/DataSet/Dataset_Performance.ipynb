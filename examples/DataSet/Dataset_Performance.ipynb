{
 "cells": [
  {
   "cell_type": "markdown",
   "metadata": {},
   "source": [
    "# DataSet Performance\n",
    "\n",
    "This notebook shows the trade-off between inserting data into a database row-by-row and as binary blobs. Inserting the data row-by-row means that we have direct access to all the data and may perform queries directly on the values of the data. On the other hand, as we shall see, this is much slower than inserting the data directly as binary blobs."
   ]
  },
  {
   "cell_type": "markdown",
   "metadata": {},
   "source": [
    "First, we choose a new location for the database to ensure that we don't add a bunch of benchmarking data to the default one."
   ]
  },
  {
   "cell_type": "code",
   "execution_count": 1,
   "metadata": {},
   "outputs": [
    {
     "name": "stdout",
     "output_type": "stream",
     "text": [
      "Logging hadn't been started.\n",
      "Activating auto-logging. Current session state plus future input saved.\n",
      "Filename       : /home/vsts/.qcodes/logs/command_history.log\n",
      "Mode           : append\n",
      "Output logging : True\n",
      "Raw input log  : False\n",
      "Timestamping   : True\n",
      "State          : active\n"
     ]
    },
    {
     "name": "stdout",
     "output_type": "stream",
     "text": [
      "Qcodes Logfile : /home/vsts/.qcodes/logs/200420-19506-qcodes.log\n"
     ]
    }
   ],
   "source": [
    "import os\n",
    "cwd = os.getcwd()\n",
    "import qcodes as qc\n",
    "qc.config[\"core\"][\"db_location\"] = os.path.join(cwd, 'testing.db')\n"
   ]
  },
  {
   "cell_type": "code",
   "execution_count": 2,
   "metadata": {},
   "outputs": [],
   "source": [
    "%matplotlib inline\n",
    "import time\n",
    "import matplotlib.pyplot as plt\n",
    "import numpy as np\n",
    "\n",
    "import qcodes as qc\n",
    "from qcodes.instrument.parameter import ManualParameter\n",
    "from qcodes.dataset.experiment_container import (Experiment,\n",
    "                                                 load_last_experiment,\n",
    "                                                 new_experiment)\n",
    "from qcodes.dataset.sqlite.database import initialise_database\n",
    "from qcodes import load_or_create_experiment\n",
    "from qcodes.dataset.measurements import Measurement"
   ]
  },
  {
   "cell_type": "code",
   "execution_count": 3,
   "metadata": {},
   "outputs": [
    {
     "name": "stdout",
     "output_type": "stream",
     "text": [
      "\r",
      "0it [00:00, ?it/s]"
     ]
    },
    {
     "name": "stdout",
     "output_type": "stream",
     "text": [
      "\r",
      "Upgrading database; v0 -> v1: : 0it [00:00, ?it/s]"
     ]
    },
    {
     "name": "stdout",
     "output_type": "stream",
     "text": [
      "\r",
      "Upgrading database; v0 -> v1: : 0it [00:00, ?it/s]"
     ]
    },
    {
     "name": "stdout",
     "output_type": "stream",
     "text": [
      "\n",
      "\r",
      "  0%|          | 0/1 [00:00<?, ?it/s]"
     ]
    },
    {
     "name": "stdout",
     "output_type": "stream",
     "text": [
      "\r",
      "Upgrading database; v1 -> v2:   0%|          | 0/1 [00:00<?, ?it/s]"
     ]
    },
    {
     "name": "stdout",
     "output_type": "stream",
     "text": [
      "\r",
      "Upgrading database; v1 -> v2: 100%|██████████| 1/1 [00:00<00:00, 754.78it/s]"
     ]
    },
    {
     "name": "stdout",
     "output_type": "stream",
     "text": [
      "\n",
      "\r",
      "0it [00:00, ?it/s]"
     ]
    },
    {
     "name": "stdout",
     "output_type": "stream",
     "text": [
      "\r",
      "Upgrading database; v2 -> v3: : 0it [00:00, ?it/s]"
     ]
    },
    {
     "name": "stdout",
     "output_type": "stream",
     "text": [
      "\r",
      "Upgrading database; v2 -> v3: : 0it [00:00, ?it/s]"
     ]
    },
    {
     "name": "stdout",
     "output_type": "stream",
     "text": [
      "\n",
      "\r",
      "0it [00:00, ?it/s]"
     ]
    },
    {
     "name": "stdout",
     "output_type": "stream",
     "text": [
      "\r",
      "Upgrading database; v3 -> v4: : 0it [00:00, ?it/s]"
     ]
    },
    {
     "name": "stdout",
     "output_type": "stream",
     "text": [
      "\r",
      "Upgrading database; v3 -> v4: : 0it [00:00, ?it/s]"
     ]
    },
    {
     "name": "stdout",
     "output_type": "stream",
     "text": [
      "\n",
      "\r",
      "  0%|          | 0/1 [00:00<?, ?it/s]"
     ]
    },
    {
     "name": "stdout",
     "output_type": "stream",
     "text": [
      "\r",
      "Upgrading database; v4 -> v5:   0%|          | 0/1 [00:00<?, ?it/s]"
     ]
    },
    {
     "name": "stdout",
     "output_type": "stream",
     "text": [
      "\r",
      "Upgrading database; v4 -> v5: 100%|██████████| 1/1 [00:00<00:00, 849.57it/s]"
     ]
    },
    {
     "name": "stdout",
     "output_type": "stream",
     "text": [
      "\n",
      "\r",
      "0it [00:00, ?it/s]"
     ]
    },
    {
     "name": "stdout",
     "output_type": "stream",
     "text": [
      "\r",
      "Upgrading database; v5 -> v6: : 0it [00:00, ?it/s]"
     ]
    },
    {
     "name": "stdout",
     "output_type": "stream",
     "text": [
      "\r",
      "Upgrading database; v5 -> v6: : 0it [00:00, ?it/s]"
     ]
    },
    {
     "name": "stdout",
     "output_type": "stream",
     "text": [
      "\n",
      "\r",
      "  0%|          | 0/1 [00:00<?, ?it/s]"
     ]
    },
    {
     "name": "stdout",
     "output_type": "stream",
     "text": [
      "\r",
      "Upgrading database; v6 -> v7:   0%|          | 0/1 [00:00<?, ?it/s]"
     ]
    },
    {
     "name": "stdout",
     "output_type": "stream",
     "text": [
      "\r",
      "Upgrading database; v6 -> v7: 100%|██████████| 1/1 [00:00<00:00, 415.57it/s]"
     ]
    },
    {
     "name": "stdout",
     "output_type": "stream",
     "text": [
      "\n",
      "\r",
      "  0%|          | 0/1 [00:00<?, ?it/s]"
     ]
    },
    {
     "name": "stdout",
     "output_type": "stream",
     "text": [
      "\r",
      "Upgrading database; v7 -> v8:   0%|          | 0/1 [00:00<?, ?it/s]"
     ]
    },
    {
     "name": "stdout",
     "output_type": "stream",
     "text": [
      "\r",
      "Upgrading database; v7 -> v8: 100%|██████████| 1/1 [00:00<00:00, 677.05it/s]"
     ]
    },
    {
     "name": "stdout",
     "output_type": "stream",
     "text": [
      "\n",
      "\r",
      "  0%|          | 0/1 [00:00<?, ?it/s]"
     ]
    },
    {
     "name": "stdout",
     "output_type": "stream",
     "text": [
      "\r",
      "Upgrading database; v8 -> v9:   0%|          | 0/1 [00:00<?, ?it/s]"
     ]
    },
    {
     "name": "stdout",
     "output_type": "stream",
     "text": [
      "\r",
      "Upgrading database; v8 -> v9: 100%|██████████| 1/1 [00:00<00:00, 849.91it/s]"
     ]
    },
    {
     "name": "stdout",
     "output_type": "stream",
     "text": [
      "\n"
     ]
    }
   ],
   "source": [
    "initialise_database()\n",
    "exp = load_or_create_experiment(experiment_name='tutorial_exp', sample_name=\"no sample\")"
   ]
  },
  {
   "cell_type": "markdown",
   "metadata": {},
   "source": [
    "Here, we define a simple function to benchmark the time it takes to insert n points with either numeric or array data type.\n",
    "We will compare both the time used to call ``add_result`` and the time used for the full measurement."
   ]
  },
  {
   "cell_type": "code",
   "execution_count": 4,
   "metadata": {},
   "outputs": [],
   "source": [
    "def insert_data(paramtype, npoints, nreps=1):\n",
    "\n",
    "    meas = Measurement(exp=exp)\n",
    "\n",
    "    x1 = ManualParameter('x1')\n",
    "    x2 = ManualParameter('x2')\n",
    "    x3 = ManualParameter('x3')\n",
    "    y1 = ManualParameter('y1')\n",
    "    y2 = ManualParameter('y2')\n",
    "\n",
    "    meas.register_parameter(x1, paramtype=paramtype)\n",
    "    meas.register_parameter(x2, paramtype=paramtype)\n",
    "    meas.register_parameter(x3, paramtype=paramtype)\n",
    "    meas.register_parameter(y1, setpoints=[x1, x2, x3],\n",
    "                            paramtype=paramtype)\n",
    "    meas.register_parameter(y2, setpoints=[x1, x2, x3],\n",
    "                            paramtype=paramtype)\n",
    "    start = time.perf_counter()\n",
    "    with meas.run() as datasaver:\n",
    "        start_adding = time.perf_counter()\n",
    "        for i in range(nreps):\n",
    "            datasaver.add_result((x1, np.random.rand(npoints)),\n",
    "                                 (x2, np.random.rand(npoints)),\n",
    "                                 (x3, np.random.rand(npoints)),\n",
    "                                 (y1, np.random.rand(npoints)),\n",
    "                                 (y2, np.random.rand(npoints)))\n",
    "        stop_adding = time.perf_counter()\n",
    "        run_id = datasaver.run_id\n",
    "    stop = time.perf_counter()\n",
    "    tot_time = stop - start\n",
    "    add_time = stop_adding - start_adding\n",
    "    return tot_time, add_time, run_id"
   ]
  },
  {
   "cell_type": "markdown",
   "metadata": {},
   "source": [
    "## Comparison between numeric/array data and binary blob"
   ]
  },
  {
   "cell_type": "markdown",
   "metadata": {},
   "source": [
    "### Case1: Short experiment time"
   ]
  },
  {
   "cell_type": "code",
   "execution_count": 5,
   "metadata": {},
   "outputs": [
    {
     "name": "stdout",
     "output_type": "stream",
     "text": [
      "Starting experimental run with id: 1. \n",
      "Starting experimental run with id: 2. \n",
      "Starting experimental run with id: 3. \n"
     ]
    },
    {
     "name": "stdout",
     "output_type": "stream",
     "text": [
      "Starting experimental run with id: 4. \n"
     ]
    },
    {
     "name": "stdout",
     "output_type": "stream",
     "text": [
      "Starting experimental run with id: 5. \n"
     ]
    },
    {
     "name": "stdout",
     "output_type": "stream",
     "text": [
      "Starting experimental run with id: 6. \n"
     ]
    },
    {
     "name": "stdout",
     "output_type": "stream",
     "text": [
      "Starting experimental run with id: 7. \n"
     ]
    },
    {
     "name": "stdout",
     "output_type": "stream",
     "text": [
      "Starting experimental run with id: 8. \n"
     ]
    },
    {
     "name": "stdout",
     "output_type": "stream",
     "text": [
      "Starting experimental run with id: 9. \n"
     ]
    },
    {
     "name": "stdout",
     "output_type": "stream",
     "text": [
      "Starting experimental run with id: 10. \n",
      "Starting experimental run with id: 11. \n"
     ]
    },
    {
     "name": "stdout",
     "output_type": "stream",
     "text": [
      "Starting experimental run with id: 12. \n",
      "Starting experimental run with id: 13. \n"
     ]
    },
    {
     "name": "stdout",
     "output_type": "stream",
     "text": [
      "Starting experimental run with id: 14. \n"
     ]
    }
   ],
   "source": [
    "sizes = [1,500,1000,2000,3000,4000,5000]\n",
    "t_numeric = []\n",
    "t_numeric_add = []\n",
    "t_array = []\n",
    "t_array_add = []\n",
    "for size in sizes:\n",
    "    tn, tna, run_id_n =  insert_data('numeric', size)\n",
    "    t_numeric.append(tn)\n",
    "    t_numeric_add.append(tna)\n",
    "\n",
    "    ta, taa, run_id_a =  insert_data('array', size)\n",
    "    t_array.append(ta)\n",
    "    t_array_add.append(taa)"
   ]
  },
  {
   "cell_type": "code",
   "execution_count": 6,
   "metadata": {},
   "outputs": [
    {
     "data": {
      "image/png": "[encoded data removed]",
      "text/plain": [
       "<Figure size 432x288 with 1 Axes>"
      ]
     },
     "metadata": {
      "needs_background": "light"
     },
     "output_type": "display_data"
    }
   ],
   "source": [
    "fig, ax = plt.subplots(1,1)\n",
    "ax.plot(sizes, t_numeric, 'o-', label='Inserting row-by-row')\n",
    "ax.plot(sizes, t_numeric_add, 'o-', label='Inserting row-by-row: add_result only')\n",
    "ax.plot(sizes, t_array, 'd-', label='Inserting as binary blob')\n",
    "ax.plot(sizes, t_array_add, 'd-', label='Inserting as binary blob: add_result only')\n",
    "ax.legend()\n",
    "ax.set_xlabel('Array length')\n",
    "ax.set_ylabel('Time (s)')\n",
    "fig.tight_layout()"
   ]
  },
  {
   "cell_type": "markdown",
   "metadata": {},
   "source": [
    "As shown in the latter figure, the time to setup and and close the experiment is approximately 0.4 sec. In case of small array sizes, the difference between inserting values of data as arrays and inserting them row-by-row is relatively unimportant. At larger array sizes, i.e. above 10000 points, the cost of writing data as individual datapoints starts to become important.\n"
   ]
  },
  {
   "cell_type": "markdown",
   "metadata": {},
   "source": [
    "### Case2: Long experiment time "
   ]
  },
  {
   "cell_type": "code",
   "execution_count": 7,
   "metadata": {},
   "outputs": [
    {
     "name": "stdout",
     "output_type": "stream",
     "text": [
      "Starting experimental run with id: 15. \n",
      "Starting experimental run with id: 16. \n",
      "Starting experimental run with id: 17. \n"
     ]
    },
    {
     "name": "stdout",
     "output_type": "stream",
     "text": [
      "Starting experimental run with id: 18. \n",
      "Starting experimental run with id: 19. \n"
     ]
    },
    {
     "name": "stdout",
     "output_type": "stream",
     "text": [
      "Starting experimental run with id: 20. \n"
     ]
    },
    {
     "name": "stdout",
     "output_type": "stream",
     "text": [
      "Starting experimental run with id: 21. \n"
     ]
    },
    {
     "name": "stdout",
     "output_type": "stream",
     "text": [
      "Starting experimental run with id: 22. \n"
     ]
    },
    {
     "name": "stdout",
     "output_type": "stream",
     "text": [
      "Starting experimental run with id: 23. \n"
     ]
    },
    {
     "name": "stdout",
     "output_type": "stream",
     "text": [
      "Starting experimental run with id: 24. \n"
     ]
    },
    {
     "name": "stdout",
     "output_type": "stream",
     "text": [
      "Starting experimental run with id: 25. \n"
     ]
    },
    {
     "name": "stdout",
     "output_type": "stream",
     "text": [
      "Starting experimental run with id: 26. \n"
     ]
    },
    {
     "name": "stdout",
     "output_type": "stream",
     "text": [
      "Starting experimental run with id: 27. \n"
     ]
    },
    {
     "name": "stdout",
     "output_type": "stream",
     "text": [
      "Starting experimental run with id: 28. \n"
     ]
    }
   ],
   "source": [
    "sizes = [1,500,1000,2000,3000,4000,5000]\n",
    "nreps = 100\n",
    "t_numeric = []\n",
    "t_numeric_add = []\n",
    "t_numeric_run_ids = []\n",
    "t_array = []\n",
    "t_array_add = []\n",
    "t_array_run_ids = []\n",
    "for size in sizes:\n",
    "    tn, tna, run_id_n =  insert_data('numeric', size, nreps=nreps)\n",
    "    t_numeric.append(tn)\n",
    "    t_numeric_add.append(tna)\n",
    "    t_numeric_run_ids.append(run_id_n)\n",
    "\n",
    "    ta, taa, run_id_a =  insert_data('array', size, nreps=nreps)\n",
    "    t_array.append(ta)\n",
    "    t_array_add.append(taa)\n",
    "    t_array_run_ids.append(run_id_a)"
   ]
  },
  {
   "cell_type": "code",
   "execution_count": 8,
   "metadata": {
    "scrolled": true
   },
   "outputs": [
    {
     "data": {
      "image/png": "[encoded data removed]",
      "text/plain": [
       "<Figure size 432x288 with 1 Axes>"
      ]
     },
     "metadata": {
      "needs_background": "light"
     },
     "output_type": "display_data"
    }
   ],
   "source": [
    "fig, ax = plt.subplots(1,1)\n",
    "ax.plot(sizes, t_numeric, 'o-', label='Inserting row-by-row')\n",
    "ax.plot(sizes, t_numeric_add, 'o-', label='Inserting row-by-row: add_result only')\n",
    "ax.plot(sizes, t_array, 'd-', label='Inserting as binary blob')\n",
    "ax.plot(sizes, t_array_add, 'd-', label='Inserting as binary blob: add_result only')\n",
    "ax.legend()\n",
    "ax.set_xlabel('Array length')\n",
    "ax.set_ylabel('Time (s)')\n",
    "fig.tight_layout()"
   ]
  },
  {
   "cell_type": "markdown",
   "metadata": {},
   "source": [
    "However, as we increase the length of the experiment, as seen here by repeating the insertion 100 times, we see a big difference between inserting values of the data row-by-row and inserting it as a binary blob."
   ]
  },
  {
   "cell_type": "markdown",
   "metadata": {},
   "source": [
    "## Loading the data "
   ]
  },
  {
   "cell_type": "code",
   "execution_count": 9,
   "metadata": {},
   "outputs": [],
   "source": [
    "from qcodes.dataset.data_set import load_by_id\n",
    "from qcodes.dataset.data_export import get_data_by_id"
   ]
  },
  {
   "cell_type": "markdown",
   "metadata": {},
   "source": [
    "As usual you can load the data by using the ``load_by_id`` function but you will notice that the different storage methods\n",
    "are reflected in shape of the data as it is retrieved. "
   ]
  },
  {
   "cell_type": "code",
   "execution_count": 10,
   "metadata": {},
   "outputs": [],
   "source": [
    "run_id_n = t_numeric_run_ids[0]\n",
    "run_id_a = t_array_run_ids[0]"
   ]
  },
  {
   "cell_type": "code",
   "execution_count": 11,
   "metadata": {
    "scrolled": true
   },
   "outputs": [
    {
     "data": {
      "text/plain": [
       "{'x1': {'x1': array([0.09280517, 0.09280517, 0.30895681, 0.30895681, 0.50050914,\n",
       "         0.50050914, 0.56581129, 0.56581129, 0.49428891, 0.49428891,\n",
       "         0.93630787, 0.93630787, 0.94465928, 0.94465928, 0.71071314,\n",
       "         0.71071314, 0.49275459, 0.49275459, 0.24634827, 0.24634827,\n",
       "         0.61888858, 0.61888858, 0.75381777, 0.75381777, 0.07021516,\n",
       "         0.07021516, 0.66504214, 0.66504214, 0.80950308, 0.80950308,\n",
       "         0.18107684, 0.18107684, 0.65797474, 0.65797474, 0.96794545,\n",
       "         0.96794545, 0.22966352, 0.22966352, 0.60110307, 0.60110307,\n",
       "         0.97730512, 0.97730512, 0.3918475 , 0.3918475 , 0.52115926,\n",
       "         0.52115926, 0.10233061, 0.10233061, 0.32637705, 0.32637705,\n",
       "         0.80806522, 0.80806522, 0.89883455, 0.89883455, 0.95145988,\n",
       "         0.95145988, 0.16671474, 0.16671474, 0.05367487, 0.05367487,\n",
       "         0.01379245, 0.01379245, 0.98129863, 0.98129863, 0.3866281 ,\n",
       "         0.3866281 , 0.65712815, 0.65712815, 0.67413414, 0.67413414,\n",
       "         0.00542824, 0.00542824, 0.55964505, 0.55964505, 0.5962865 ,\n",
       "         0.5962865 , 0.40332405, 0.40332405, 0.54091677, 0.54091677,\n",
       "         0.22167132, 0.22167132, 0.81047359, 0.81047359, 0.19684703,\n",
       "         0.19684703, 0.70862814, 0.70862814, 0.04198791, 0.04198791,\n",
       "         0.39028804, 0.39028804, 0.19844201, 0.19844201, 0.75174878,\n",
       "         0.75174878, 0.2827772 , 0.2827772 , 0.19554686, 0.19554686,\n",
       "         0.45001854, 0.45001854, 0.58422169, 0.58422169, 0.66209738,\n",
       "         0.66209738, 0.43180729, 0.43180729, 0.98832929, 0.98832929,\n",
       "         0.6798291 , 0.6798291 , 0.82557477, 0.82557477, 0.25675534,\n",
       "         0.25675534, 0.30150226, 0.30150226, 0.0062791 , 0.0062791 ,\n",
       "         0.89059935, 0.89059935, 0.11263809, 0.11263809, 0.61914902,\n",
       "         0.61914902, 0.49679814, 0.49679814, 0.54866551, 0.54866551,\n",
       "         0.13757104, 0.13757104, 0.71450365, 0.71450365, 0.52906208,\n",
       "         0.52906208, 0.6737449 , 0.6737449 , 0.9797042 , 0.9797042 ,\n",
       "         0.74650134, 0.74650134, 0.30207665, 0.30207665, 0.20766376,\n",
       "         0.20766376, 0.25884627, 0.25884627, 0.48676099, 0.48676099,\n",
       "         0.88139641, 0.88139641, 0.01511239, 0.01511239, 0.12994963,\n",
       "         0.12994963, 0.26283705, 0.26283705, 0.19245015, 0.19245015,\n",
       "         0.56029998, 0.56029998, 0.2823047 , 0.2823047 , 0.60051427,\n",
       "         0.60051427, 0.44748295, 0.44748295, 0.2232224 , 0.2232224 ,\n",
       "         0.96892875, 0.96892875, 0.01167126, 0.01167126, 0.39211412,\n",
       "         0.39211412, 0.3970491 , 0.3970491 , 0.57839343, 0.57839343,\n",
       "         0.75537788, 0.75537788, 0.18131002, 0.18131002, 0.72252836,\n",
       "         0.72252836, 0.7267045 , 0.7267045 , 0.64983528, 0.64983528,\n",
       "         0.53634848, 0.53634848, 0.20669956, 0.20669956, 0.24000469,\n",
       "         0.24000469, 0.31786411, 0.31786411, 0.33131657, 0.33131657])}}"
      ]
     },
     "execution_count": 11,
     "metadata": {},
     "output_type": "execute_result"
    }
   ],
   "source": [
    "ds = load_by_id(run_id_n)\n",
    "ds.get_parameter_data('x1')"
   ]
  },
  {
   "cell_type": "markdown",
   "metadata": {},
   "source": [
    "And a dataset stored as binary arrays"
   ]
  },
  {
   "cell_type": "code",
   "execution_count": 12,
   "metadata": {
    "scrolled": true
   },
   "outputs": [
    {
     "data": {
      "text/plain": [
       "{'x1': {'x1': array([[0.486548  ],\n",
       "         [0.486548  ],\n",
       "         [0.03936189],\n",
       "         [0.03936189],\n",
       "         [0.96072279],\n",
       "         [0.96072279],\n",
       "         [0.43426736],\n",
       "         [0.43426736],\n",
       "         [0.12347029],\n",
       "         [0.12347029],\n",
       "         [0.17750881],\n",
       "         [0.17750881],\n",
       "         [0.53723896],\n",
       "         [0.53723896],\n",
       "         [0.05579697],\n",
       "         [0.05579697],\n",
       "         [0.00544452],\n",
       "         [0.00544452],\n",
       "         [0.77577301],\n",
       "         [0.77577301],\n",
       "         [0.85035616],\n",
       "         [0.85035616],\n",
       "         [0.96055855],\n",
       "         [0.96055855],\n",
       "         [0.44302139],\n",
       "         [0.44302139],\n",
       "         [0.25395878],\n",
       "         [0.25395878],\n",
       "         [0.2451326 ],\n",
       "         [0.2451326 ],\n",
       "         [0.68430982],\n",
       "         [0.68430982],\n",
       "         [0.2946064 ],\n",
       "         [0.2946064 ],\n",
       "         [0.9243688 ],\n",
       "         [0.9243688 ],\n",
       "         [0.91800325],\n",
       "         [0.91800325],\n",
       "         [0.42824002],\n",
       "         [0.42824002],\n",
       "         [0.58775887],\n",
       "         [0.58775887],\n",
       "         [0.58401457],\n",
       "         [0.58401457],\n",
       "         [0.31837343],\n",
       "         [0.31837343],\n",
       "         [0.32952089],\n",
       "         [0.32952089],\n",
       "         [0.3102909 ],\n",
       "         [0.3102909 ],\n",
       "         [0.98988881],\n",
       "         [0.98988881],\n",
       "         [0.29226242],\n",
       "         [0.29226242],\n",
       "         [0.08879937],\n",
       "         [0.08879937],\n",
       "         [0.52998452],\n",
       "         [0.52998452],\n",
       "         [0.74588786],\n",
       "         [0.74588786],\n",
       "         [0.51612521],\n",
       "         [0.51612521],\n",
       "         [0.81765942],\n",
       "         [0.81765942],\n",
       "         [0.68766387],\n",
       "         [0.68766387],\n",
       "         [0.61648707],\n",
       "         [0.61648707],\n",
       "         [0.36229746],\n",
       "         [0.36229746],\n",
       "         [0.61859949],\n",
       "         [0.61859949],\n",
       "         [0.14974703],\n",
       "         [0.14974703],\n",
       "         [0.36801594],\n",
       "         [0.36801594],\n",
       "         [0.88225331],\n",
       "         [0.88225331],\n",
       "         [0.8294669 ],\n",
       "         [0.8294669 ],\n",
       "         [0.67272586],\n",
       "         [0.67272586],\n",
       "         [0.86187006],\n",
       "         [0.86187006],\n",
       "         [0.40138294],\n",
       "         [0.40138294],\n",
       "         [0.58209347],\n",
       "         [0.58209347],\n",
       "         [0.56629772],\n",
       "         [0.56629772],\n",
       "         [0.25059909],\n",
       "         [0.25059909],\n",
       "         [0.15710908],\n",
       "         [0.15710908],\n",
       "         [0.48959637],\n",
       "         [0.48959637],\n",
       "         [0.13501504],\n",
       "         [0.13501504],\n",
       "         [0.25706005],\n",
       "         [0.25706005],\n",
       "         [0.05867077],\n",
       "         [0.05867077],\n",
       "         [0.1265145 ],\n",
       "         [0.1265145 ],\n",
       "         [0.88541744],\n",
       "         [0.88541744],\n",
       "         [0.62495234],\n",
       "         [0.62495234],\n",
       "         [0.15412936],\n",
       "         [0.15412936],\n",
       "         [0.91943708],\n",
       "         [0.91943708],\n",
       "         [0.14411078],\n",
       "         [0.14411078],\n",
       "         [0.84703475],\n",
       "         [0.84703475],\n",
       "         [0.74791272],\n",
       "         [0.74791272],\n",
       "         [0.08222431],\n",
       "         [0.08222431],\n",
       "         [0.57688729],\n",
       "         [0.57688729],\n",
       "         [0.56163145],\n",
       "         [0.56163145],\n",
       "         [0.59236642],\n",
       "         [0.59236642],\n",
       "         [0.46084688],\n",
       "         [0.46084688],\n",
       "         [0.74648447],\n",
       "         [0.74648447],\n",
       "         [0.51541031],\n",
       "         [0.51541031],\n",
       "         [0.59673841],\n",
       "         [0.59673841],\n",
       "         [0.7848462 ],\n",
       "         [0.7848462 ],\n",
       "         [0.04055338],\n",
       "         [0.04055338],\n",
       "         [0.026927  ],\n",
       "         [0.026927  ],\n",
       "         [0.64326757],\n",
       "         [0.64326757],\n",
       "         [0.76543528],\n",
       "         [0.76543528],\n",
       "         [0.3266445 ],\n",
       "         [0.3266445 ],\n",
       "         [0.91682022],\n",
       "         [0.91682022],\n",
       "         [0.85714283],\n",
       "         [0.85714283],\n",
       "         [0.78950057],\n",
       "         [0.78950057],\n",
       "         [0.40851614],\n",
       "         [0.40851614],\n",
       "         [0.33327157],\n",
       "         [0.33327157],\n",
       "         [0.37552377],\n",
       "         [0.37552377],\n",
       "         [0.09385022],\n",
       "         [0.09385022],\n",
       "         [0.72827615],\n",
       "         [0.72827615],\n",
       "         [0.6684613 ],\n",
       "         [0.6684613 ],\n",
       "         [0.80202226],\n",
       "         [0.80202226],\n",
       "         [0.68878666],\n",
       "         [0.68878666],\n",
       "         [0.90112655],\n",
       "         [0.90112655],\n",
       "         [0.89782686],\n",
       "         [0.89782686],\n",
       "         [0.69293066],\n",
       "         [0.69293066],\n",
       "         [0.0807405 ],\n",
       "         [0.0807405 ],\n",
       "         [0.92883649],\n",
       "         [0.92883649],\n",
       "         [0.29271794],\n",
       "         [0.29271794],\n",
       "         [0.57946913],\n",
       "         [0.57946913],\n",
       "         [0.17963848],\n",
       "         [0.17963848],\n",
       "         [0.8027785 ],\n",
       "         [0.8027785 ],\n",
       "         [0.82409248],\n",
       "         [0.82409248],\n",
       "         [0.92827178],\n",
       "         [0.92827178],\n",
       "         [0.85058791],\n",
       "         [0.85058791],\n",
       "         [0.24124963],\n",
       "         [0.24124963],\n",
       "         [0.66961821],\n",
       "         [0.66961821],\n",
       "         [0.6817092 ],\n",
       "         [0.6817092 ],\n",
       "         [0.02937414],\n",
       "         [0.02937414]])}}"
      ]
     },
     "execution_count": 12,
     "metadata": {},
     "output_type": "execute_result"
    }
   ],
   "source": [
    "ds = load_by_id(run_id_a)\n",
    "ds.get_parameter_data('x1')"
   ]
  },
  {
   "cell_type": "code",
   "execution_count": null,
   "metadata": {},
   "outputs": [],
   "source": []
  }
 ],
 "metadata": {
  "kernelspec": {
   "display_name": "Python 3",
   "language": "python",
   "name": "python3"
  },
  "language_info": {
   "codemirror_mode": {
    "name": "ipython",
    "version": 3
   },
   "file_extension": ".py",
   "mimetype": "text/x-python",
   "name": "python",
   "nbconvert_exporter": "python",
   "pygments_lexer": "ipython3",
   "version": "3.7.7"
  },
  "nbsphinx": {
   "timeout": 600
  },
  "toc": {
   "base_numbering": 1,
   "nav_menu": {},
   "number_sections": true,
   "sideBar": true,
   "skip_h1_title": false,
   "title_cell": "Table of Contents",
   "title_sidebar": "Contents",
   "toc_cell": false,
   "toc_position": {},
   "toc_section_display": true,
   "toc_window_display": false
  },
  "varInspector": {
   "cols": {
    "lenName": 16,
    "lenType": 16,
    "lenVar": 40
   },
   "kernels_config": {
    "python": {
     "delete_cmd_postfix": "",
     "delete_cmd_prefix": "del ",
     "library": "var_list.py",
     "varRefreshCmd": "print(var_dic_list())"
    },
    "r": {
     "delete_cmd_postfix": ") ",
     "delete_cmd_prefix": "rm(",
     "library": "var_list.r",
     "varRefreshCmd": "cat(var_dic_list()) "
    }
   },
   "types_to_exclude": [
    "module",
    "function",
    "builtin_function_or_method",
    "instance",
    "_Feature"
   ],
   "window_display": false
  }
 },
 "nbformat": 4,
 "nbformat_minor": 2
}
