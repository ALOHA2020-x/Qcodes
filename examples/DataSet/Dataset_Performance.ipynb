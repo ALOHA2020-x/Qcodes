{
 "cells": [
  {
   "cell_type": "markdown",
   "metadata": {},
   "source": [
    "# DataSet Performance\n",
    "\n",
    "This notebook shows the trade-off between inserting data into a database row-by-row and as binary blobs. Inserting the data row-by-row means that we have direct access to all the data and may perform queries directly on the values of the data. On the other hand, as we shall see, this is much slower than inserting the data directly as binary blobs."
   ]
  },
  {
   "cell_type": "markdown",
   "metadata": {},
   "source": [
    "First, we choose a new location for the database to ensure that we don't add a bunch of benchmarking data to the default one."
   ]
  },
  {
   "cell_type": "code",
   "execution_count": 1,
   "metadata": {
    "execution": {
     "iopub.execute_input": "2021-05-19T10:23:45.361445Z",
     "iopub.status.busy": "2021-05-19T10:23:45.360873Z",
     "iopub.status.idle": "2021-05-19T10:23:46.587292Z",
     "shell.execute_reply": "2021-05-19T10:23:46.586057Z"
    }
   },
   "outputs": [
    {
     "name": "stdout",
     "output_type": "stream",
     "text": [
      "Logging hadn't been started.\n",
      "Activating auto-logging. Current session state plus future input saved.\n",
      "Filename       : /home/runner/.qcodes/logs/command_history.log\n",
      "Mode           : append\n",
      "Output logging : True\n",
      "Raw input log  : False\n",
      "Timestamping   : True\n",
      "State          : active\n"
     ]
    },
    {
     "name": "stdout",
     "output_type": "stream",
     "text": [
      "Qcodes Logfile : /home/runner/.qcodes/logs/210519-4876-qcodes.log\n"
     ]
    }
   ],
   "source": [
    "import os\n",
    "cwd = os.getcwd()\n",
    "import qcodes as qc\n",
    "qc.config[\"core\"][\"db_location\"] = os.path.join(cwd, 'testing.db')\n"
   ]
  },
  {
   "cell_type": "code",
   "execution_count": 2,
   "metadata": {
    "execution": {
     "iopub.execute_input": "2021-05-19T10:23:46.594396Z",
     "iopub.status.busy": "2021-05-19T10:23:46.593247Z",
     "iopub.status.idle": "2021-05-19T10:23:46.801830Z",
     "shell.execute_reply": "2021-05-19T10:23:46.800478Z"
    }
   },
   "outputs": [],
   "source": [
    "%matplotlib inline\n",
    "import time\n",
    "import matplotlib.pyplot as plt\n",
    "import numpy as np\n",
    "\n",
    "import qcodes as qc\n",
    "from qcodes.instrument.parameter import ManualParameter\n",
    "from qcodes.dataset.experiment_container import (Experiment,\n",
    "                                                 load_last_experiment,\n",
    "                                                 new_experiment)\n",
    "from qcodes.dataset.sqlite.database import initialise_database\n",
    "from qcodes import load_or_create_experiment\n",
    "from qcodes.dataset.measurements import Measurement"
   ]
  },
  {
   "cell_type": "code",
   "execution_count": 3,
   "metadata": {
    "execution": {
     "iopub.execute_input": "2021-05-19T10:23:46.805665Z",
     "iopub.status.busy": "2021-05-19T10:23:46.805086Z",
     "iopub.status.idle": "2021-05-19T10:23:46.874709Z",
     "shell.execute_reply": "2021-05-19T10:23:46.874187Z"
    }
   },
   "outputs": [
    {
     "name": "stdout",
     "output_type": "stream",
     "text": [
      "\r",
      "0it [00:00, ?it/s]"
     ]
    },
    {
     "name": "stdout",
     "output_type": "stream",
     "text": [
      "\r",
      "Upgrading database; v0 -> v1: : 0it [00:00, ?it/s]"
     ]
    },
    {
     "name": "stdout",
     "output_type": "stream",
     "text": [
      "\r",
      "Upgrading database; v0 -> v1: : 0it [00:00, ?it/s]"
     ]
    },
    {
     "name": "stdout",
     "output_type": "stream",
     "text": [
      "\n",
      "\r",
      "  0%|          | 0/1 [00:00<?, ?it/s]"
     ]
    },
    {
     "name": "stdout",
     "output_type": "stream",
     "text": [
      "\r",
      "Upgrading database; v1 -> v2:   0%|          | 0/1 [00:00<?, ?it/s]"
     ]
    },
    {
     "name": "stdout",
     "output_type": "stream",
     "text": [
      "\r",
      "Upgrading database; v1 -> v2: 100%|██████████| 1/1 [00:00<00:00, 752.21it/s]"
     ]
    },
    {
     "name": "stdout",
     "output_type": "stream",
     "text": [
      "\n",
      "\r",
      "0it [00:00, ?it/s]"
     ]
    },
    {
     "name": "stdout",
     "output_type": "stream",
     "text": [
      "\r",
      "Upgrading database; v2 -> v3: : 0it [00:00, ?it/s]"
     ]
    },
    {
     "name": "stdout",
     "output_type": "stream",
     "text": [
      "\r",
      "Upgrading database; v2 -> v3: : 0it [00:00, ?it/s]"
     ]
    },
    {
     "name": "stdout",
     "output_type": "stream",
     "text": [
      "\n",
      "\r",
      "0it [00:00, ?it/s]"
     ]
    },
    {
     "name": "stdout",
     "output_type": "stream",
     "text": [
      "\r",
      "Upgrading database; v3 -> v4: : 0it [00:00, ?it/s]"
     ]
    },
    {
     "name": "stdout",
     "output_type": "stream",
     "text": [
      "\r",
      "Upgrading database; v3 -> v4: : 0it [00:00, ?it/s]"
     ]
    },
    {
     "name": "stdout",
     "output_type": "stream",
     "text": [
      "\n",
      "\r",
      "  0%|          | 0/1 [00:00<?, ?it/s]"
     ]
    },
    {
     "name": "stdout",
     "output_type": "stream",
     "text": [
      "\r",
      "Upgrading database; v4 -> v5:   0%|          | 0/1 [00:00<?, ?it/s]"
     ]
    },
    {
     "name": "stdout",
     "output_type": "stream",
     "text": [
      "\r",
      "Upgrading database; v4 -> v5: 100%|██████████| 1/1 [00:00<00:00, 732.63it/s]"
     ]
    },
    {
     "name": "stdout",
     "output_type": "stream",
     "text": [
      "\n",
      "\r",
      "0it [00:00, ?it/s]"
     ]
    },
    {
     "name": "stdout",
     "output_type": "stream",
     "text": [
      "\r",
      "Upgrading database; v5 -> v6: : 0it [00:00, ?it/s]"
     ]
    },
    {
     "name": "stdout",
     "output_type": "stream",
     "text": [
      "\r",
      "Upgrading database; v5 -> v6: : 0it [00:00, ?it/s]"
     ]
    },
    {
     "name": "stdout",
     "output_type": "stream",
     "text": [
      "\n",
      "\r",
      "  0%|          | 0/1 [00:00<?, ?it/s]"
     ]
    },
    {
     "name": "stdout",
     "output_type": "stream",
     "text": [
      "\r",
      "Upgrading database; v6 -> v7:   0%|          | 0/1 [00:00<?, ?it/s]"
     ]
    },
    {
     "name": "stdout",
     "output_type": "stream",
     "text": [
      "\r",
      "Upgrading database; v6 -> v7: 100%|██████████| 1/1 [00:00<00:00, 461.62it/s]"
     ]
    },
    {
     "name": "stdout",
     "output_type": "stream",
     "text": [
      "\n",
      "\r",
      "  0%|          | 0/1 [00:00<?, ?it/s]"
     ]
    },
    {
     "name": "stdout",
     "output_type": "stream",
     "text": [
      "\r",
      "Upgrading database; v7 -> v8:   0%|          | 0/1 [00:00<?, ?it/s]"
     ]
    },
    {
     "name": "stdout",
     "output_type": "stream",
     "text": [
      "\r",
      "Upgrading database; v7 -> v8: 100%|██████████| 1/1 [00:00<00:00, 868.93it/s]"
     ]
    },
    {
     "name": "stdout",
     "output_type": "stream",
     "text": [
      "\n",
      "\r",
      "  0%|          | 0/1 [00:00<?, ?it/s]"
     ]
    },
    {
     "name": "stdout",
     "output_type": "stream",
     "text": [
      "\r",
      "Upgrading database; v8 -> v9:   0%|          | 0/1 [00:00<?, ?it/s]"
     ]
    },
    {
     "name": "stdout",
     "output_type": "stream",
     "text": [
      "\r",
      "Upgrading database; v8 -> v9: 100%|██████████| 1/1 [00:00<00:00, 922.64it/s]"
     ]
    },
    {
     "name": "stdout",
     "output_type": "stream",
     "text": [
      "\n"
     ]
    }
   ],
   "source": [
    "initialise_database()\n",
    "exp = load_or_create_experiment(experiment_name='tutorial_exp', sample_name=\"no sample\")"
   ]
  },
  {
   "cell_type": "markdown",
   "metadata": {},
   "source": [
    "Here, we define a simple function to benchmark the time it takes to insert n points with either numeric or array data type.\n",
    "We will compare both the time used to call ``add_result`` and the time used for the full measurement."
   ]
  },
  {
   "cell_type": "code",
   "execution_count": 4,
   "metadata": {
    "execution": {
     "iopub.execute_input": "2021-05-19T10:23:46.884280Z",
     "iopub.status.busy": "2021-05-19T10:23:46.883001Z",
     "iopub.status.idle": "2021-05-19T10:23:46.884943Z",
     "shell.execute_reply": "2021-05-19T10:23:46.885429Z"
    }
   },
   "outputs": [],
   "source": [
    "def insert_data(paramtype, npoints, nreps=1):\n",
    "\n",
    "    meas = Measurement(exp=exp)\n",
    "\n",
    "    x1 = ManualParameter('x1')\n",
    "    x2 = ManualParameter('x2')\n",
    "    x3 = ManualParameter('x3')\n",
    "    y1 = ManualParameter('y1')\n",
    "    y2 = ManualParameter('y2')\n",
    "\n",
    "    meas.register_parameter(x1, paramtype=paramtype)\n",
    "    meas.register_parameter(x2, paramtype=paramtype)\n",
    "    meas.register_parameter(x3, paramtype=paramtype)\n",
    "    meas.register_parameter(y1, setpoints=[x1, x2, x3],\n",
    "                            paramtype=paramtype)\n",
    "    meas.register_parameter(y2, setpoints=[x1, x2, x3],\n",
    "                            paramtype=paramtype)\n",
    "    start = time.perf_counter()\n",
    "    with meas.run() as datasaver:\n",
    "        start_adding = time.perf_counter()\n",
    "        for i in range(nreps):\n",
    "            datasaver.add_result((x1, np.random.rand(npoints)),\n",
    "                                 (x2, np.random.rand(npoints)),\n",
    "                                 (x3, np.random.rand(npoints)),\n",
    "                                 (y1, np.random.rand(npoints)),\n",
    "                                 (y2, np.random.rand(npoints)))\n",
    "        stop_adding = time.perf_counter()\n",
    "        run_id = datasaver.run_id\n",
    "    stop = time.perf_counter()\n",
    "    tot_time = stop - start\n",
    "    add_time = stop_adding - start_adding\n",
    "    return tot_time, add_time, run_id"
   ]
  },
  {
   "cell_type": "markdown",
   "metadata": {},
   "source": [
    "## Comparison between numeric/array data and binary blob"
   ]
  },
  {
   "cell_type": "markdown",
   "metadata": {},
   "source": [
    "### Case1: Short experiment time"
   ]
  },
  {
   "cell_type": "code",
   "execution_count": 5,
   "metadata": {
    "execution": {
     "iopub.execute_input": "2021-05-19T10:23:46.891671Z",
     "iopub.status.busy": "2021-05-19T10:23:46.890881Z",
     "iopub.status.idle": "2021-05-19T10:23:47.729903Z",
     "shell.execute_reply": "2021-05-19T10:23:47.729357Z"
    }
   },
   "outputs": [
    {
     "name": "stdout",
     "output_type": "stream",
     "text": [
      "Starting experimental run with id: 1. \n",
      "Starting experimental run with id: 2. \n",
      "Starting experimental run with id: 3. \n"
     ]
    },
    {
     "name": "stdout",
     "output_type": "stream",
     "text": [
      "Starting experimental run with id: 4. \n"
     ]
    },
    {
     "name": "stdout",
     "output_type": "stream",
     "text": [
      "Starting experimental run with id: 5. "
     ]
    },
    {
     "name": "stdout",
     "output_type": "stream",
     "text": [
      "\n"
     ]
    },
    {
     "name": "stdout",
     "output_type": "stream",
     "text": [
      "Starting experimental run with id: 6. \n"
     ]
    },
    {
     "name": "stdout",
     "output_type": "stream",
     "text": [
      "Starting experimental run with id: 7. \n",
      "Starting experimental run with id: 8. \n",
      "Starting experimental run with id: 9. \n"
     ]
    },
    {
     "name": "stdout",
     "output_type": "stream",
     "text": [
      "Starting experimental run with id: 10. \n",
      "Starting experimental run with id: 11. \n",
      "Starting experimental run with id: 12. \n",
      "Starting experimental run with id: 13. \n"
     ]
    },
    {
     "name": "stdout",
     "output_type": "stream",
     "text": [
      "Starting experimental run with id: 14. \n"
     ]
    }
   ],
   "source": [
    "sizes = [1,500,1000,2000,3000,4000,5000]\n",
    "t_numeric = []\n",
    "t_numeric_add = []\n",
    "t_array = []\n",
    "t_array_add = []\n",
    "for size in sizes:\n",
    "    tn, tna, run_id_n =  insert_data('numeric', size)\n",
    "    t_numeric.append(tn)\n",
    "    t_numeric_add.append(tna)\n",
    "\n",
    "    ta, taa, run_id_a =  insert_data('array', size)\n",
    "    t_array.append(ta)\n",
    "    t_array_add.append(taa)"
   ]
  },
  {
   "cell_type": "code",
   "execution_count": 6,
   "metadata": {
    "execution": {
     "iopub.execute_input": "2021-05-19T10:23:47.748517Z",
     "iopub.status.busy": "2021-05-19T10:23:47.736066Z",
     "iopub.status.idle": "2021-05-19T10:23:47.968607Z",
     "shell.execute_reply": "2021-05-19T10:23:47.967479Z"
    }
   },
   "outputs": [
    {
     "data": {
      "image/png": "[encoded data removed]",
      "text/plain": [
       "<Figure size 432x288 with 1 Axes>"
      ]
     },
     "metadata": {
      "needs_background": "light"
     },
     "output_type": "display_data"
    }
   ],
   "source": [
    "fig, ax = plt.subplots(1,1)\n",
    "ax.plot(sizes, t_numeric, 'o-', label='Inserting row-by-row')\n",
    "ax.plot(sizes, t_numeric_add, 'o-', label='Inserting row-by-row: add_result only')\n",
    "ax.plot(sizes, t_array, 'd-', label='Inserting as binary blob')\n",
    "ax.plot(sizes, t_array_add, 'd-', label='Inserting as binary blob: add_result only')\n",
    "ax.legend()\n",
    "ax.set_xlabel('Array length')\n",
    "ax.set_ylabel('Time (s)')\n",
    "fig.tight_layout()"
   ]
  },
  {
   "cell_type": "markdown",
   "metadata": {},
   "source": [
    "As shown in the latter figure, the time to setup and and close the experiment is approximately 0.4 sec. In case of small array sizes, the difference between inserting values of data as arrays and inserting them row-by-row is relatively unimportant. At larger array sizes, i.e. above 10000 points, the cost of writing data as individual datapoints starts to become important.\n"
   ]
  },
  {
   "cell_type": "markdown",
   "metadata": {},
   "source": [
    "### Case2: Long experiment time "
   ]
  },
  {
   "cell_type": "code",
   "execution_count": 7,
   "metadata": {
    "execution": {
     "iopub.execute_input": "2021-05-19T10:23:47.977522Z",
     "iopub.status.busy": "2021-05-19T10:23:47.975286Z",
     "iopub.status.idle": "2021-05-19T10:24:46.115064Z",
     "shell.execute_reply": "2021-05-19T10:24:46.115543Z"
    }
   },
   "outputs": [
    {
     "name": "stdout",
     "output_type": "stream",
     "text": [
      "Starting experimental run with id: 15. \n",
      "Starting experimental run with id: 16. \n",
      "Starting experimental run with id: 17. \n"
     ]
    },
    {
     "name": "stdout",
     "output_type": "stream",
     "text": [
      "Starting experimental run with id: 18. \n",
      "Starting experimental run with id: 19. \n"
     ]
    },
    {
     "name": "stdout",
     "output_type": "stream",
     "text": [
      "Starting experimental run with id: 20. \n"
     ]
    },
    {
     "name": "stdout",
     "output_type": "stream",
     "text": [
      "Starting experimental run with id: 21. \n"
     ]
    },
    {
     "name": "stdout",
     "output_type": "stream",
     "text": [
      "Starting experimental run with id: 22. \n"
     ]
    },
    {
     "name": "stdout",
     "output_type": "stream",
     "text": [
      "Starting experimental run with id: 23. \n"
     ]
    },
    {
     "name": "stdout",
     "output_type": "stream",
     "text": [
      "Starting experimental run with id: 24. \n"
     ]
    },
    {
     "name": "stdout",
     "output_type": "stream",
     "text": [
      "Starting experimental run with id: 25. \n"
     ]
    },
    {
     "name": "stdout",
     "output_type": "stream",
     "text": [
      "Starting experimental run with id: 26. \n"
     ]
    },
    {
     "name": "stdout",
     "output_type": "stream",
     "text": [
      "Starting experimental run with id: 27. \n"
     ]
    },
    {
     "name": "stdout",
     "output_type": "stream",
     "text": [
      "Starting experimental run with id: 28. \n"
     ]
    }
   ],
   "source": [
    "sizes = [1,500,1000,2000,3000,4000,5000]\n",
    "nreps = 100\n",
    "t_numeric = []\n",
    "t_numeric_add = []\n",
    "t_numeric_run_ids = []\n",
    "t_array = []\n",
    "t_array_add = []\n",
    "t_array_run_ids = []\n",
    "for size in sizes:\n",
    "    tn, tna, run_id_n =  insert_data('numeric', size, nreps=nreps)\n",
    "    t_numeric.append(tn)\n",
    "    t_numeric_add.append(tna)\n",
    "    t_numeric_run_ids.append(run_id_n)\n",
    "\n",
    "    ta, taa, run_id_a =  insert_data('array', size, nreps=nreps)\n",
    "    t_array.append(ta)\n",
    "    t_array_add.append(taa)\n",
    "    t_array_run_ids.append(run_id_a)"
   ]
  },
  {
   "cell_type": "code",
   "execution_count": 8,
   "metadata": {
    "execution": {
     "iopub.execute_input": "2021-05-19T10:24:46.160275Z",
     "iopub.status.busy": "2021-05-19T10:24:46.159078Z",
     "iopub.status.idle": "2021-05-19T10:24:46.352748Z",
     "shell.execute_reply": "2021-05-19T10:24:46.352222Z"
    },
    "scrolled": true
   },
   "outputs": [
    {
     "data": {
      "image/png": "[encoded data removed]",
      "text/plain": [
       "<Figure size 432x288 with 1 Axes>"
      ]
     },
     "metadata": {
      "needs_background": "light"
     },
     "output_type": "display_data"
    }
   ],
   "source": [
    "fig, ax = plt.subplots(1,1)\n",
    "ax.plot(sizes, t_numeric, 'o-', label='Inserting row-by-row')\n",
    "ax.plot(sizes, t_numeric_add, 'o-', label='Inserting row-by-row: add_result only')\n",
    "ax.plot(sizes, t_array, 'd-', label='Inserting as binary blob')\n",
    "ax.plot(sizes, t_array_add, 'd-', label='Inserting as binary blob: add_result only')\n",
    "ax.legend()\n",
    "ax.set_xlabel('Array length')\n",
    "ax.set_ylabel('Time (s)')\n",
    "fig.tight_layout()"
   ]
  },
  {
   "cell_type": "markdown",
   "metadata": {},
   "source": [
    "However, as we increase the length of the experiment, as seen here by repeating the insertion 100 times, we see a big difference between inserting values of the data row-by-row and inserting it as a binary blob."
   ]
  },
  {
   "cell_type": "markdown",
   "metadata": {},
   "source": [
    "## Loading the data "
   ]
  },
  {
   "cell_type": "code",
   "execution_count": 9,
   "metadata": {
    "execution": {
     "iopub.execute_input": "2021-05-19T10:24:46.358347Z",
     "iopub.status.busy": "2021-05-19T10:24:46.357156Z",
     "iopub.status.idle": "2021-05-19T10:24:46.358985Z",
     "shell.execute_reply": "2021-05-19T10:24:46.359453Z"
    }
   },
   "outputs": [],
   "source": [
    "from qcodes.dataset.data_set import load_by_id"
   ]
  },
  {
   "cell_type": "markdown",
   "metadata": {},
   "source": [
    "As usual you can load the data by using the ``load_by_id`` function but you will notice that the different storage methods\n",
    "are reflected in shape of the data as it is retrieved. "
   ]
  },
  {
   "cell_type": "code",
   "execution_count": 10,
   "metadata": {
    "execution": {
     "iopub.execute_input": "2021-05-19T10:24:46.364589Z",
     "iopub.status.busy": "2021-05-19T10:24:46.363406Z",
     "iopub.status.idle": "2021-05-19T10:24:46.365267Z",
     "shell.execute_reply": "2021-05-19T10:24:46.365719Z"
    }
   },
   "outputs": [],
   "source": [
    "run_id_n = t_numeric_run_ids[0]\n",
    "run_id_a = t_array_run_ids[0]"
   ]
  },
  {
   "cell_type": "code",
   "execution_count": 11,
   "metadata": {
    "execution": {
     "iopub.execute_input": "2021-05-19T10:24:46.369322Z",
     "iopub.status.busy": "2021-05-19T10:24:46.368790Z",
     "iopub.status.idle": "2021-05-19T10:24:46.379330Z",
     "shell.execute_reply": "2021-05-19T10:24:46.378834Z"
    },
    "scrolled": true
   },
   "outputs": [
    {
     "data": {
      "text/plain": [
       "{'x1': {'x1': array([0.76275051, 0.76275051, 0.35786435, 0.35786435, 0.09156969,\n",
       "         0.09156969, 0.25186492, 0.25186492, 0.30939826, 0.30939826,\n",
       "         0.40153196, 0.40153196, 0.97897644, 0.97897644, 0.2712119 ,\n",
       "         0.2712119 , 0.53272141, 0.53272141, 0.07874665, 0.07874665,\n",
       "         0.552085  , 0.552085  , 0.7850624 , 0.7850624 , 0.22299075,\n",
       "         0.22299075, 0.9634712 , 0.9634712 , 0.61581835, 0.61581835,\n",
       "         0.94827624, 0.94827624, 0.95197681, 0.95197681, 0.01041851,\n",
       "         0.01041851, 0.32853988, 0.32853988, 0.57971894, 0.57971894,\n",
       "         0.02470817, 0.02470817, 0.09144619, 0.09144619, 0.95922027,\n",
       "         0.95922027, 0.94551161, 0.94551161, 0.61010006, 0.61010006,\n",
       "         0.95380295, 0.95380295, 0.94349762, 0.94349762, 0.67867121,\n",
       "         0.67867121, 0.31919251, 0.31919251, 0.11835435, 0.11835435,\n",
       "         0.93163   , 0.93163   , 0.11447963, 0.11447963, 0.21327559,\n",
       "         0.21327559, 0.11685225, 0.11685225, 0.89218326, 0.89218326,\n",
       "         0.05970827, 0.05970827, 0.85831173, 0.85831173, 0.57377335,\n",
       "         0.57377335, 0.99266181, 0.99266181, 0.13148023, 0.13148023,\n",
       "         0.31043923, 0.31043923, 0.97115334, 0.97115334, 0.43038678,\n",
       "         0.43038678, 0.25816428, 0.25816428, 0.34305891, 0.34305891,\n",
       "         0.63918759, 0.63918759, 0.95651555, 0.95651555, 0.05929683,\n",
       "         0.05929683, 0.30068595, 0.30068595, 0.932332  , 0.932332  ,\n",
       "         0.58682826, 0.58682826, 0.57183213, 0.57183213, 0.8153704 ,\n",
       "         0.8153704 , 0.6832957 , 0.6832957 , 0.11445148, 0.11445148,\n",
       "         0.33596168, 0.33596168, 0.53633067, 0.53633067, 0.93667167,\n",
       "         0.93667167, 0.99793797, 0.99793797, 0.56331287, 0.56331287,\n",
       "         0.05648121, 0.05648121, 0.80715782, 0.80715782, 0.16621766,\n",
       "         0.16621766, 0.14977396, 0.14977396, 0.44850371, 0.44850371,\n",
       "         0.75016404, 0.75016404, 0.23663201, 0.23663201, 0.93663099,\n",
       "         0.93663099, 0.9770174 , 0.9770174 , 0.85134178, 0.85134178,\n",
       "         0.60479965, 0.60479965, 0.92576797, 0.92576797, 0.661755  ,\n",
       "         0.661755  , 0.9820228 , 0.9820228 , 0.56655627, 0.56655627,\n",
       "         0.43273783, 0.43273783, 0.29735877, 0.29735877, 0.97702244,\n",
       "         0.97702244, 0.5618638 , 0.5618638 , 0.25721069, 0.25721069,\n",
       "         0.53393942, 0.53393942, 0.01360112, 0.01360112, 0.22415738,\n",
       "         0.22415738, 0.38400029, 0.38400029, 0.18126747, 0.18126747,\n",
       "         0.64794216, 0.64794216, 0.03657355, 0.03657355, 0.52104092,\n",
       "         0.52104092, 0.67400121, 0.67400121, 0.29155033, 0.29155033,\n",
       "         0.08429245, 0.08429245, 0.51885169, 0.51885169, 0.89908541,\n",
       "         0.89908541, 0.90592636, 0.90592636, 0.10916156, 0.10916156,\n",
       "         0.97715909, 0.97715909, 0.2441641 , 0.2441641 , 0.45609708,\n",
       "         0.45609708, 0.87588992, 0.87588992, 0.32937625, 0.32937625])}}"
      ]
     },
     "execution_count": 1,
     "metadata": {},
     "output_type": "execute_result"
    }
   ],
   "source": [
    "ds = load_by_id(run_id_n)\n",
    "ds.get_parameter_data('x1')"
   ]
  },
  {
   "cell_type": "markdown",
   "metadata": {},
   "source": [
    "And a dataset stored as binary arrays"
   ]
  },
  {
   "cell_type": "code",
   "execution_count": 12,
   "metadata": {
    "execution": {
     "iopub.execute_input": "2021-05-19T10:24:46.382983Z",
     "iopub.status.busy": "2021-05-19T10:24:46.382424Z",
     "iopub.status.idle": "2021-05-19T10:24:46.444834Z",
     "shell.execute_reply": "2021-05-19T10:24:46.445687Z"
    },
    "scrolled": true
   },
   "outputs": [
    {
     "data": {
      "text/plain": [
       "{'x1': {'x1': array([[0.50927587],\n",
       "         [0.50927587],\n",
       "         [0.8994759 ],\n",
       "         [0.8994759 ],\n",
       "         [0.60797663],\n",
       "         [0.60797663],\n",
       "         [0.02845265],\n",
       "         [0.02845265],\n",
       "         [0.08567924],\n",
       "         [0.08567924],\n",
       "         [0.18477676],\n",
       "         [0.18477676],\n",
       "         [0.88299412],\n",
       "         [0.88299412],\n",
       "         [0.78298869],\n",
       "         [0.78298869],\n",
       "         [0.35036702],\n",
       "         [0.35036702],\n",
       "         [0.43716223],\n",
       "         [0.43716223],\n",
       "         [0.01434439],\n",
       "         [0.01434439],\n",
       "         [0.20371203],\n",
       "         [0.20371203],\n",
       "         [0.1158832 ],\n",
       "         [0.1158832 ],\n",
       "         [0.41932826],\n",
       "         [0.41932826],\n",
       "         [0.48197112],\n",
       "         [0.48197112],\n",
       "         [0.00819359],\n",
       "         [0.00819359],\n",
       "         [0.14411675],\n",
       "         [0.14411675],\n",
       "         [0.32282545],\n",
       "         [0.32282545],\n",
       "         [0.69995641],\n",
       "         [0.69995641],\n",
       "         [0.86052715],\n",
       "         [0.86052715],\n",
       "         [0.2705724 ],\n",
       "         [0.2705724 ],\n",
       "         [0.46752991],\n",
       "         [0.46752991],\n",
       "         [0.27186097],\n",
       "         [0.27186097],\n",
       "         [0.62789176],\n",
       "         [0.62789176],\n",
       "         [0.97035964],\n",
       "         [0.97035964],\n",
       "         [0.86943906],\n",
       "         [0.86943906],\n",
       "         [0.49502331],\n",
       "         [0.49502331],\n",
       "         [0.83698709],\n",
       "         [0.83698709],\n",
       "         [0.62986126],\n",
       "         [0.62986126],\n",
       "         [0.78856917],\n",
       "         [0.78856917],\n",
       "         [0.82190776],\n",
       "         [0.82190776],\n",
       "         [0.72975938],\n",
       "         [0.72975938],\n",
       "         [0.92646126],\n",
       "         [0.92646126],\n",
       "         [0.42979278],\n",
       "         [0.42979278],\n",
       "         [0.0939346 ],\n",
       "         [0.0939346 ],\n",
       "         [0.73989649],\n",
       "         [0.73989649],\n",
       "         [0.1728551 ],\n",
       "         [0.1728551 ],\n",
       "         [0.17773224],\n",
       "         [0.17773224],\n",
       "         [0.91464902],\n",
       "         [0.91464902],\n",
       "         [0.89718779],\n",
       "         [0.89718779],\n",
       "         [0.07644375],\n",
       "         [0.07644375],\n",
       "         [0.69776906],\n",
       "         [0.69776906],\n",
       "         [0.85210175],\n",
       "         [0.85210175],\n",
       "         [0.60171393],\n",
       "         [0.60171393],\n",
       "         [0.01093268],\n",
       "         [0.01093268],\n",
       "         [0.18333519],\n",
       "         [0.18333519],\n",
       "         [0.83583959],\n",
       "         [0.83583959],\n",
       "         [0.57546902],\n",
       "         [0.57546902],\n",
       "         [0.09926771],\n",
       "         [0.09926771],\n",
       "         [0.82228173],\n",
       "         [0.82228173],\n",
       "         [0.02128615],\n",
       "         [0.02128615],\n",
       "         [0.93534278],\n",
       "         [0.93534278],\n",
       "         [0.20682348],\n",
       "         [0.20682348],\n",
       "         [0.1812938 ],\n",
       "         [0.1812938 ],\n",
       "         [0.07946672],\n",
       "         [0.07946672],\n",
       "         [0.07203924],\n",
       "         [0.07203924],\n",
       "         [0.72922651],\n",
       "         [0.72922651],\n",
       "         [0.11863815],\n",
       "         [0.11863815],\n",
       "         [0.55280638],\n",
       "         [0.55280638],\n",
       "         [0.10584632],\n",
       "         [0.10584632],\n",
       "         [0.2516755 ],\n",
       "         [0.2516755 ],\n",
       "         [0.29693314],\n",
       "         [0.29693314],\n",
       "         [0.44838507],\n",
       "         [0.44838507],\n",
       "         [0.48299178],\n",
       "         [0.48299178],\n",
       "         [0.18425728],\n",
       "         [0.18425728],\n",
       "         [0.08953978],\n",
       "         [0.08953978],\n",
       "         [0.18871914],\n",
       "         [0.18871914],\n",
       "         [0.2975062 ],\n",
       "         [0.2975062 ],\n",
       "         [0.02226865],\n",
       "         [0.02226865],\n",
       "         [0.62644792],\n",
       "         [0.62644792],\n",
       "         [0.04492254],\n",
       "         [0.04492254],\n",
       "         [0.65543709],\n",
       "         [0.65543709],\n",
       "         [0.95750665],\n",
       "         [0.95750665],\n",
       "         [0.56527605],\n",
       "         [0.56527605],\n",
       "         [0.01240211],\n",
       "         [0.01240211],\n",
       "         [0.52860764],\n",
       "         [0.52860764],\n",
       "         [0.47922536],\n",
       "         [0.47922536],\n",
       "         [0.50273242],\n",
       "         [0.50273242],\n",
       "         [0.68338505],\n",
       "         [0.68338505],\n",
       "         [0.17999668],\n",
       "         [0.17999668],\n",
       "         [0.49043777],\n",
       "         [0.49043777],\n",
       "         [0.93121873],\n",
       "         [0.93121873],\n",
       "         [0.87303737],\n",
       "         [0.87303737],\n",
       "         [0.35683851],\n",
       "         [0.35683851],\n",
       "         [0.90841237],\n",
       "         [0.90841237],\n",
       "         [0.6283883 ],\n",
       "         [0.6283883 ],\n",
       "         [0.13570529],\n",
       "         [0.13570529],\n",
       "         [0.97922087],\n",
       "         [0.97922087],\n",
       "         [0.00832263],\n",
       "         [0.00832263],\n",
       "         [0.3612311 ],\n",
       "         [0.3612311 ],\n",
       "         [0.64151577],\n",
       "         [0.64151577],\n",
       "         [0.6910971 ],\n",
       "         [0.6910971 ],\n",
       "         [0.36796891],\n",
       "         [0.36796891],\n",
       "         [0.93125253],\n",
       "         [0.93125253],\n",
       "         [0.02863091],\n",
       "         [0.02863091],\n",
       "         [0.0449171 ],\n",
       "         [0.0449171 ],\n",
       "         [0.52176895],\n",
       "         [0.52176895],\n",
       "         [0.25997313],\n",
       "         [0.25997313],\n",
       "         [0.70038129],\n",
       "         [0.70038129],\n",
       "         [0.73129784],\n",
       "         [0.73129784]])}}"
      ]
     },
     "execution_count": 1,
     "metadata": {},
     "output_type": "execute_result"
    }
   ],
   "source": [
    "ds = load_by_id(run_id_a)\n",
    "ds.get_parameter_data('x1')"
   ]
  },
  {
   "cell_type": "code",
   "execution_count": null,
   "metadata": {},
   "outputs": [],
   "source": []
  }
 ],
 "metadata": {
  "kernelspec": {
   "display_name": "Python 3",
   "language": "python",
   "name": "python3"
  },
  "language_info": {
   "codemirror_mode": {
    "name": "ipython",
    "version": 3
   },
   "file_extension": ".py",
   "mimetype": "text/x-python",
   "name": "python",
   "nbconvert_exporter": "python",
   "pygments_lexer": "ipython3",
   "version": "3.7.10"
  },
  "nbsphinx": {
   "timeout": 600
  },
  "toc": {
   "base_numbering": 1,
   "nav_menu": {},
   "number_sections": true,
   "sideBar": true,
   "skip_h1_title": false,
   "title_cell": "Table of Contents",
   "title_sidebar": "Contents",
   "toc_cell": false,
   "toc_position": {},
   "toc_section_display": true,
   "toc_window_display": false
  },
  "varInspector": {
   "cols": {
    "lenName": 16,
    "lenType": 16,
    "lenVar": 40
   },
   "kernels_config": {
    "python": {
     "delete_cmd_postfix": "",
     "delete_cmd_prefix": "del ",
     "library": "var_list.py",
     "varRefreshCmd": "print(var_dic_list())"
    },
    "r": {
     "delete_cmd_postfix": ") ",
     "delete_cmd_prefix": "rm(",
     "library": "var_list.r",
     "varRefreshCmd": "cat(var_dic_list()) "
    }
   },
   "types_to_exclude": [
    "module",
    "function",
    "builtin_function_or_method",
    "instance",
    "_Feature"
   ],
   "window_display": false
  }
 },
 "nbformat": 4,
 "nbformat_minor": 4
}
