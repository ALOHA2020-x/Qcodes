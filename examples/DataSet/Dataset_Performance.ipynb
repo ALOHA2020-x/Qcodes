{
 "cells": [
  {
   "cell_type": "markdown",
   "metadata": {},
   "source": [
    "# DataSet Performance\n",
    "\n",
    "This notebook shows the trade-off between inserting data into a database row-by-row and as binary blobs. Inserting the data row-by-row means that we have direct access to all the data and may perform queries directly on the values of the data. On the other hand, as we shall see, this is much slower than inserting the data directly as binary blobs."
   ]
  },
  {
   "cell_type": "markdown",
   "metadata": {},
   "source": [
    "First, we choose a new location for the database to ensure that we don't add a bunch of benchmarking data to the default one."
   ]
  },
  {
   "cell_type": "code",
   "execution_count": 1,
   "metadata": {},
   "outputs": [
    {
     "name": "stdout",
     "output_type": "stream",
     "text": [
      "Logging hadn't been started.\n",
      "Activating auto-logging. Current session state plus future input saved.\n",
      "Filename       : /home/vsts/.qcodes/logs/command_history.log\n",
      "Mode           : append\n",
      "Output logging : True\n",
      "Raw input log  : False\n",
      "Timestamping   : True\n",
      "State          : active\n"
     ]
    },
    {
     "name": "stdout",
     "output_type": "stream",
     "text": [
      "Qcodes Logfile : /home/vsts/.qcodes/logs/200227-18617-qcodes.log\n"
     ]
    }
   ],
   "source": [
    "import os\n",
    "cwd = os.getcwd()\n",
    "import qcodes as qc\n",
    "qc.config[\"core\"][\"db_location\"] = os.path.join(cwd, 'testing.db')\n"
   ]
  },
  {
   "cell_type": "code",
   "execution_count": 2,
   "metadata": {},
   "outputs": [],
   "source": [
    "%matplotlib inline\n",
    "import time\n",
    "import matplotlib.pyplot as plt\n",
    "import numpy as np\n",
    "\n",
    "import qcodes as qc\n",
    "from qcodes.instrument.parameter import ManualParameter\n",
    "from qcodes.dataset.experiment_container import (Experiment,\n",
    "                                                 load_last_experiment,\n",
    "                                                 new_experiment)\n",
    "from qcodes.dataset.sqlite.database import initialise_database\n",
    "from qcodes import load_or_create_experiment\n",
    "from qcodes.dataset.measurements import Measurement"
   ]
  },
  {
   "cell_type": "code",
   "execution_count": 3,
   "metadata": {},
   "outputs": [
    {
     "name": "stdout",
     "output_type": "stream",
     "text": [
      "\r",
      "0it [00:00, ?it/s]"
     ]
    },
    {
     "name": "stdout",
     "output_type": "stream",
     "text": [
      "\r",
      "Upgrading database; v0 -> v1: : 0it [00:00, ?it/s]"
     ]
    },
    {
     "name": "stdout",
     "output_type": "stream",
     "text": [
      "\r",
      "Upgrading database; v0 -> v1: : 0it [00:00, ?it/s]"
     ]
    },
    {
     "name": "stdout",
     "output_type": "stream",
     "text": [
      "\n",
      "\r",
      "  0%|          | 0/1 [00:00<?, ?it/s]"
     ]
    },
    {
     "name": "stdout",
     "output_type": "stream",
     "text": [
      "\r",
      "Upgrading database; v1 -> v2:   0%|          | 0/1 [00:00<?, ?it/s]"
     ]
    },
    {
     "name": "stdout",
     "output_type": "stream",
     "text": [
      "\r",
      "Upgrading database; v1 -> v2: 100%|██████████| 1/1 [00:00<00:00, 858.61it/s]"
     ]
    },
    {
     "name": "stdout",
     "output_type": "stream",
     "text": [
      "\n",
      "\r",
      "0it [00:00, ?it/s]"
     ]
    },
    {
     "name": "stdout",
     "output_type": "stream",
     "text": [
      "\r",
      "Upgrading database; v2 -> v3: : 0it [00:00, ?it/s]"
     ]
    },
    {
     "name": "stdout",
     "output_type": "stream",
     "text": [
      "\r",
      "Upgrading database; v2 -> v3: : 0it [00:00, ?it/s]"
     ]
    },
    {
     "name": "stdout",
     "output_type": "stream",
     "text": [
      "\n",
      "\r",
      "0it [00:00, ?it/s]"
     ]
    },
    {
     "name": "stdout",
     "output_type": "stream",
     "text": [
      "\r",
      "Upgrading database; v3 -> v4: : 0it [00:00, ?it/s]"
     ]
    },
    {
     "name": "stdout",
     "output_type": "stream",
     "text": [
      "\r",
      "Upgrading database; v3 -> v4: : 0it [00:00, ?it/s]"
     ]
    },
    {
     "name": "stdout",
     "output_type": "stream",
     "text": [
      "\n",
      "\r",
      "  0%|          | 0/1 [00:00<?, ?it/s]"
     ]
    },
    {
     "name": "stdout",
     "output_type": "stream",
     "text": [
      "\r",
      "Upgrading database; v4 -> v5:   0%|          | 0/1 [00:00<?, ?it/s]"
     ]
    },
    {
     "name": "stdout",
     "output_type": "stream",
     "text": [
      "\r",
      "Upgrading database; v4 -> v5: 100%|██████████| 1/1 [00:00<00:00, 947.65it/s]"
     ]
    },
    {
     "name": "stdout",
     "output_type": "stream",
     "text": [
      "\n",
      "\r",
      "0it [00:00, ?it/s]"
     ]
    },
    {
     "name": "stdout",
     "output_type": "stream",
     "text": [
      "\r",
      "Upgrading database; v5 -> v6: : 0it [00:00, ?it/s]"
     ]
    },
    {
     "name": "stdout",
     "output_type": "stream",
     "text": [
      "\r",
      "Upgrading database; v5 -> v6: : 0it [00:00, ?it/s]"
     ]
    },
    {
     "name": "stdout",
     "output_type": "stream",
     "text": [
      "\n",
      "\r",
      "  0%|          | 0/1 [00:00<?, ?it/s]"
     ]
    },
    {
     "name": "stdout",
     "output_type": "stream",
     "text": [
      "\r",
      "Upgrading database; v6 -> v7:   0%|          | 0/1 [00:00<?, ?it/s]"
     ]
    },
    {
     "name": "stdout",
     "output_type": "stream",
     "text": [
      "\r",
      "Upgrading database; v6 -> v7: 100%|██████████| 1/1 [00:00<00:00, 480.28it/s]"
     ]
    },
    {
     "name": "stdout",
     "output_type": "stream",
     "text": [
      "\n",
      "\r",
      "  0%|          | 0/1 [00:00<?, ?it/s]"
     ]
    },
    {
     "name": "stdout",
     "output_type": "stream",
     "text": [
      "\r",
      "Upgrading database; v7 -> v8:   0%|          | 0/1 [00:00<?, ?it/s]"
     ]
    },
    {
     "name": "stdout",
     "output_type": "stream",
     "text": [
      "\r",
      "Upgrading database; v7 -> v8: 100%|██████████| 1/1 [00:00<00:00, 679.90it/s]"
     ]
    },
    {
     "name": "stdout",
     "output_type": "stream",
     "text": [
      "\n",
      "\r",
      "  0%|          | 0/1 [00:00<?, ?it/s]"
     ]
    },
    {
     "name": "stdout",
     "output_type": "stream",
     "text": [
      "\r",
      "Upgrading database; v8 -> v9:   0%|          | 0/1 [00:00<?, ?it/s]"
     ]
    },
    {
     "name": "stdout",
     "output_type": "stream",
     "text": [
      "\r",
      "Upgrading database; v8 -> v9: 100%|██████████| 1/1 [00:00<00:00, 1318.55it/s]"
     ]
    },
    {
     "name": "stdout",
     "output_type": "stream",
     "text": [
      "\n"
     ]
    }
   ],
   "source": [
    "initialise_database()\n",
    "exp = load_or_create_experiment(experiment_name='tutorial_exp', sample_name=\"no sample\")"
   ]
  },
  {
   "cell_type": "markdown",
   "metadata": {},
   "source": [
    "Here, we define a simple function to benchmark the time it takes to insert n points with either numeric or array data type.\n",
    "We will compare both the time used to call ``add_result`` and the time used for the full measurement."
   ]
  },
  {
   "cell_type": "code",
   "execution_count": 4,
   "metadata": {},
   "outputs": [],
   "source": [
    "def insert_data(paramtype, npoints, nreps=1):\n",
    "\n",
    "    meas = Measurement(exp=exp)\n",
    "\n",
    "    x1 = ManualParameter('x1')\n",
    "    x2 = ManualParameter('x2')\n",
    "    x3 = ManualParameter('x3')\n",
    "    y1 = ManualParameter('y1')\n",
    "    y2 = ManualParameter('y2')\n",
    "\n",
    "    meas.register_parameter(x1, paramtype=paramtype)\n",
    "    meas.register_parameter(x2, paramtype=paramtype)\n",
    "    meas.register_parameter(x3, paramtype=paramtype)\n",
    "    meas.register_parameter(y1, setpoints=[x1, x2, x3],\n",
    "                            paramtype=paramtype)\n",
    "    meas.register_parameter(y2, setpoints=[x1, x2, x3],\n",
    "                            paramtype=paramtype)\n",
    "    start = time.perf_counter()\n",
    "    with meas.run() as datasaver:\n",
    "        start_adding = time.perf_counter()\n",
    "        for i in range(nreps):\n",
    "            datasaver.add_result((x1, np.random.rand(npoints)),\n",
    "                                 (x2, np.random.rand(npoints)),\n",
    "                                 (x3, np.random.rand(npoints)),\n",
    "                                 (y1, np.random.rand(npoints)),\n",
    "                                 (y2, np.random.rand(npoints)))\n",
    "        stop_adding = time.perf_counter()\n",
    "        run_id = datasaver.run_id\n",
    "    stop = time.perf_counter()\n",
    "    tot_time = stop - start\n",
    "    add_time = stop_adding - start_adding\n",
    "    return tot_time, add_time, run_id"
   ]
  },
  {
   "cell_type": "markdown",
   "metadata": {},
   "source": [
    "## Comparison between numeric/array data and binary blob"
   ]
  },
  {
   "cell_type": "markdown",
   "metadata": {},
   "source": [
    "### Case1: Short experiment time"
   ]
  },
  {
   "cell_type": "code",
   "execution_count": 5,
   "metadata": {},
   "outputs": [
    {
     "name": "stdout",
     "output_type": "stream",
     "text": [
      "Starting experimental run with id: 1. \n",
      "Starting experimental run with id: 2. \n",
      "Starting experimental run with id: 3. \n",
      "Starting experimental run with id: 4. \n"
     ]
    },
    {
     "name": "stdout",
     "output_type": "stream",
     "text": [
      "Starting experimental run with id: 5. \n"
     ]
    },
    {
     "name": "stdout",
     "output_type": "stream",
     "text": [
      "Starting experimental run with id: 6. \n",
      "Starting experimental run with id: 7. \n"
     ]
    },
    {
     "name": "stdout",
     "output_type": "stream",
     "text": [
      "Starting experimental run with id: 8. \n",
      "Starting experimental run with id: 9. \n"
     ]
    },
    {
     "name": "stdout",
     "output_type": "stream",
     "text": [
      "Starting experimental run with id: 10. \n",
      "Starting experimental run with id: 11. \n"
     ]
    },
    {
     "name": "stdout",
     "output_type": "stream",
     "text": [
      "Starting experimental run with id: 12. \n"
     ]
    },
    {
     "name": "stdout",
     "output_type": "stream",
     "text": [
      "Starting experimental run with id: 13. \n"
     ]
    },
    {
     "name": "stdout",
     "output_type": "stream",
     "text": [
      "Starting experimental run with id: 14. \n"
     ]
    }
   ],
   "source": [
    "sizes = [1,500,1000,2000,3000,4000,5000]\n",
    "t_numeric = []\n",
    "t_numeric_add = []\n",
    "t_array = []\n",
    "t_array_add = []\n",
    "for size in sizes:\n",
    "    tn, tna, run_id_n =  insert_data('numeric', size)\n",
    "    t_numeric.append(tn)\n",
    "    t_numeric_add.append(tna)\n",
    "\n",
    "    ta, taa, run_id_a =  insert_data('array', size)\n",
    "    t_array.append(ta)\n",
    "    t_array_add.append(taa)"
   ]
  },
  {
   "cell_type": "code",
   "execution_count": 6,
   "metadata": {},
   "outputs": [
    {
     "data": {
      "image/png": "[encoded data removed]",
      "text/plain": [
       "<Figure size 432x288 with 1 Axes>"
      ]
     },
     "metadata": {
      "needs_background": "light"
     },
     "output_type": "display_data"
    }
   ],
   "source": [
    "fig, ax = plt.subplots(1,1)\n",
    "ax.plot(sizes, t_numeric, 'o-', label='Inserting row-by-row')\n",
    "ax.plot(sizes, t_numeric_add, 'o-', label='Inserting row-by-row: add_result only')\n",
    "ax.plot(sizes, t_array, 'd-', label='Inserting as binary blob')\n",
    "ax.plot(sizes, t_array_add, 'd-', label='Inserting as binary blob: add_result only')\n",
    "ax.legend()\n",
    "ax.set_xlabel('Array length')\n",
    "ax.set_ylabel('Time (s)')\n",
    "fig.tight_layout()"
   ]
  },
  {
   "cell_type": "markdown",
   "metadata": {},
   "source": [
    "As shown in the latter figure, the time to setup and and close the experiment is approximately 0.4 sec. In case of small array sizes, the difference between inserting values of data as arrays and inserting them row-by-row is relatively unimportant. At larger array sizes, i.e. above 10000 points, the cost of writing data as individual datapoints starts to become important.\n"
   ]
  },
  {
   "cell_type": "markdown",
   "metadata": {},
   "source": [
    "### Case2: Long experiment time "
   ]
  },
  {
   "cell_type": "code",
   "execution_count": 7,
   "metadata": {},
   "outputs": [
    {
     "name": "stdout",
     "output_type": "stream",
     "text": [
      "Starting experimental run with id: 15. \n",
      "Starting experimental run with id: 16. \n",
      "Starting experimental run with id: 17. \n"
     ]
    },
    {
     "name": "stdout",
     "output_type": "stream",
     "text": [
      "Starting experimental run with id: 18. \n",
      "Starting experimental run with id: 19. \n"
     ]
    },
    {
     "name": "stdout",
     "output_type": "stream",
     "text": [
      "Starting experimental run with id: 20. \n"
     ]
    },
    {
     "name": "stdout",
     "output_type": "stream",
     "text": [
      "Starting experimental run with id: 21. \n"
     ]
    },
    {
     "name": "stdout",
     "output_type": "stream",
     "text": [
      "Starting experimental run with id: 22. \n"
     ]
    },
    {
     "name": "stdout",
     "output_type": "stream",
     "text": [
      "Starting experimental run with id: 23. \n"
     ]
    },
    {
     "name": "stdout",
     "output_type": "stream",
     "text": [
      "Starting experimental run with id: 24. \n"
     ]
    },
    {
     "name": "stdout",
     "output_type": "stream",
     "text": [
      "Starting experimental run with id: 25. \n"
     ]
    },
    {
     "name": "stdout",
     "output_type": "stream",
     "text": [
      "Starting experimental run with id: 26. \n"
     ]
    },
    {
     "name": "stdout",
     "output_type": "stream",
     "text": [
      "Starting experimental run with id: 27. \n"
     ]
    },
    {
     "name": "stdout",
     "output_type": "stream",
     "text": [
      "Starting experimental run with id: 28. \n"
     ]
    }
   ],
   "source": [
    "sizes = [1,500,1000,2000,3000,4000,5000]\n",
    "nreps = 100\n",
    "t_numeric = []\n",
    "t_numeric_add = []\n",
    "t_numeric_run_ids = []\n",
    "t_array = []\n",
    "t_array_add = []\n",
    "t_array_run_ids = []\n",
    "for size in sizes:\n",
    "    tn, tna, run_id_n =  insert_data('numeric', size, nreps=nreps)\n",
    "    t_numeric.append(tn)\n",
    "    t_numeric_add.append(tna)\n",
    "    t_numeric_run_ids.append(run_id_n)\n",
    "\n",
    "    ta, taa, run_id_a =  insert_data('array', size, nreps=nreps)\n",
    "    t_array.append(ta)\n",
    "    t_array_add.append(taa)\n",
    "    t_array_run_ids.append(run_id_a)"
   ]
  },
  {
   "cell_type": "code",
   "execution_count": 8,
   "metadata": {
    "scrolled": true
   },
   "outputs": [
    {
     "data": {
      "image/png": "[encoded data removed]",
      "text/plain": [
       "<Figure size 432x288 with 1 Axes>"
      ]
     },
     "metadata": {
      "needs_background": "light"
     },
     "output_type": "display_data"
    }
   ],
   "source": [
    "fig, ax = plt.subplots(1,1)\n",
    "ax.plot(sizes, t_numeric, 'o-', label='Inserting row-by-row')\n",
    "ax.plot(sizes, t_numeric_add, 'o-', label='Inserting row-by-row: add_result only')\n",
    "ax.plot(sizes, t_array, 'd-', label='Inserting as binary blob')\n",
    "ax.plot(sizes, t_array_add, 'd-', label='Inserting as binary blob: add_result only')\n",
    "ax.legend()\n",
    "ax.set_xlabel('Array length')\n",
    "ax.set_ylabel('Time (s)')\n",
    "fig.tight_layout()"
   ]
  },
  {
   "cell_type": "markdown",
   "metadata": {},
   "source": [
    "However, as we increase the length of the experiment, as seen here by repeating the insertion 100 times, we see a big difference between inserting values of the data row-by-row and inserting it as a binary blob."
   ]
  },
  {
   "cell_type": "markdown",
   "metadata": {},
   "source": [
    "## Loading the data "
   ]
  },
  {
   "cell_type": "code",
   "execution_count": 9,
   "metadata": {},
   "outputs": [],
   "source": [
    "from qcodes.dataset.data_set import load_by_id\n",
    "from qcodes.dataset.data_export import get_data_by_id"
   ]
  },
  {
   "cell_type": "markdown",
   "metadata": {},
   "source": [
    "As usual you can load the data by using the ``load_by_id`` function but you will notice that the different storage methods\n",
    "are reflected in shape of the data as it is retrieved. "
   ]
  },
  {
   "cell_type": "code",
   "execution_count": 10,
   "metadata": {},
   "outputs": [],
   "source": [
    "run_id_n = t_numeric_run_ids[0]\n",
    "run_id_a = t_array_run_ids[0]"
   ]
  },
  {
   "cell_type": "code",
   "execution_count": 11,
   "metadata": {
    "scrolled": true
   },
   "outputs": [
    {
     "data": {
      "text/plain": [
       "{'x1': {'x1': array([0.6544177 , 0.6544177 , 0.62826123, 0.62826123, 0.85141995,\n",
       "         0.85141995, 0.84823997, 0.84823997, 0.40895207, 0.40895207,\n",
       "         0.21905607, 0.21905607, 0.81852344, 0.81852344, 0.89297169,\n",
       "         0.89297169, 0.39356923, 0.39356923, 0.63367125, 0.63367125,\n",
       "         0.66068034, 0.66068034, 0.28311678, 0.28311678, 0.5426084 ,\n",
       "         0.5426084 , 0.49566316, 0.49566316, 0.28202154, 0.28202154,\n",
       "         0.15168016, 0.15168016, 0.1828034 , 0.1828034 , 0.0812711 ,\n",
       "         0.0812711 , 0.10759689, 0.10759689, 0.50278883, 0.50278883,\n",
       "         0.70423282, 0.70423282, 0.33139639, 0.33139639, 0.81647884,\n",
       "         0.81647884, 0.70206166, 0.70206166, 0.23383585, 0.23383585,\n",
       "         0.40221139, 0.40221139, 0.62890478, 0.62890478, 0.29191035,\n",
       "         0.29191035, 0.05072397, 0.05072397, 0.13354332, 0.13354332,\n",
       "         0.74213221, 0.74213221, 0.20624565, 0.20624565, 0.31010374,\n",
       "         0.31010374, 0.58596212, 0.58596212, 0.93283155, 0.93283155,\n",
       "         0.62687938, 0.62687938, 0.7438937 , 0.7438937 , 0.93272168,\n",
       "         0.93272168, 0.0858545 , 0.0858545 , 0.30753652, 0.30753652,\n",
       "         0.28991571, 0.28991571, 0.25338817, 0.25338817, 0.11308716,\n",
       "         0.11308716, 0.74088129, 0.74088129, 0.74779847, 0.74779847,\n",
       "         0.79763305, 0.79763305, 0.04571667, 0.04571667, 0.81472079,\n",
       "         0.81472079, 0.0014013 , 0.0014013 , 0.01633292, 0.01633292,\n",
       "         0.44600833, 0.44600833, 0.87220674, 0.87220674, 0.52631692,\n",
       "         0.52631692, 0.67180651, 0.67180651, 0.46011668, 0.46011668,\n",
       "         0.5436057 , 0.5436057 , 0.23500796, 0.23500796, 0.12848895,\n",
       "         0.12848895, 0.08743932, 0.08743932, 0.23341243, 0.23341243,\n",
       "         0.56772607, 0.56772607, 0.45350993, 0.45350993, 0.64982088,\n",
       "         0.64982088, 0.99821205, 0.99821205, 0.56142045, 0.56142045,\n",
       "         0.77529903, 0.77529903, 0.28369584, 0.28369584, 0.02804653,\n",
       "         0.02804653, 0.1029338 , 0.1029338 , 0.83234982, 0.83234982,\n",
       "         0.66229973, 0.66229973, 0.35579128, 0.35579128, 0.42170311,\n",
       "         0.42170311, 0.53519864, 0.53519864, 0.85857465, 0.85857465,\n",
       "         0.15528553, 0.15528553, 0.09396264, 0.09396264, 0.81428224,\n",
       "         0.81428224, 0.34221103, 0.34221103, 0.20422882, 0.20422882,\n",
       "         0.72380074, 0.72380074, 0.04364829, 0.04364829, 0.12783716,\n",
       "         0.12783716, 0.89431184, 0.89431184, 0.6848363 , 0.6848363 ,\n",
       "         0.89366051, 0.89366051, 0.34478574, 0.34478574, 0.0423814 ,\n",
       "         0.0423814 , 0.92774485, 0.92774485, 0.97612135, 0.97612135,\n",
       "         0.55719158, 0.55719158, 0.47180177, 0.47180177, 0.4473692 ,\n",
       "         0.4473692 , 0.35911689, 0.35911689, 0.98531281, 0.98531281,\n",
       "         0.05500076, 0.05500076, 0.54824897, 0.54824897, 0.74740934,\n",
       "         0.74740934, 0.37496958, 0.37496958, 0.19753652, 0.19753652])}}"
      ]
     },
     "execution_count": 11,
     "metadata": {},
     "output_type": "execute_result"
    }
   ],
   "source": [
    "ds = load_by_id(run_id_n)\n",
    "ds.get_parameter_data('x1')"
   ]
  },
  {
   "cell_type": "markdown",
   "metadata": {},
   "source": [
    "And a dataset stored as binary arrays"
   ]
  },
  {
   "cell_type": "code",
   "execution_count": 12,
   "metadata": {
    "scrolled": true
   },
   "outputs": [
    {
     "data": {
      "text/plain": [
       "{'x1': {'x1': array([[0.97044286],\n",
       "         [0.97044286],\n",
       "         [0.08922929],\n",
       "         [0.08922929],\n",
       "         [0.61856818],\n",
       "         [0.61856818],\n",
       "         [0.68452486],\n",
       "         [0.68452486],\n",
       "         [0.07703081],\n",
       "         [0.07703081],\n",
       "         [0.41662543],\n",
       "         [0.41662543],\n",
       "         [0.47360336],\n",
       "         [0.47360336],\n",
       "         [0.91746404],\n",
       "         [0.91746404],\n",
       "         [0.34761598],\n",
       "         [0.34761598],\n",
       "         [0.96460628],\n",
       "         [0.96460628],\n",
       "         [0.10186874],\n",
       "         [0.10186874],\n",
       "         [0.63243813],\n",
       "         [0.63243813],\n",
       "         [0.47615085],\n",
       "         [0.47615085],\n",
       "         [0.1869991 ],\n",
       "         [0.1869991 ],\n",
       "         [0.13922495],\n",
       "         [0.13922495],\n",
       "         [0.49839737],\n",
       "         [0.49839737],\n",
       "         [0.96026989],\n",
       "         [0.96026989],\n",
       "         [0.45027721],\n",
       "         [0.45027721],\n",
       "         [0.58829063],\n",
       "         [0.58829063],\n",
       "         [0.44126836],\n",
       "         [0.44126836],\n",
       "         [0.08567799],\n",
       "         [0.08567799],\n",
       "         [0.71413565],\n",
       "         [0.71413565],\n",
       "         [0.33367007],\n",
       "         [0.33367007],\n",
       "         [0.66871521],\n",
       "         [0.66871521],\n",
       "         [0.76985456],\n",
       "         [0.76985456],\n",
       "         [0.53818958],\n",
       "         [0.53818958],\n",
       "         [0.27231163],\n",
       "         [0.27231163],\n",
       "         [0.185157  ],\n",
       "         [0.185157  ],\n",
       "         [0.03903339],\n",
       "         [0.03903339],\n",
       "         [0.58804188],\n",
       "         [0.58804188],\n",
       "         [0.1874903 ],\n",
       "         [0.1874903 ],\n",
       "         [0.04827688],\n",
       "         [0.04827688],\n",
       "         [0.13194036],\n",
       "         [0.13194036],\n",
       "         [0.13009653],\n",
       "         [0.13009653],\n",
       "         [0.82071958],\n",
       "         [0.82071958],\n",
       "         [0.44938509],\n",
       "         [0.44938509],\n",
       "         [0.32643989],\n",
       "         [0.32643989],\n",
       "         [0.54753314],\n",
       "         [0.54753314],\n",
       "         [0.58826619],\n",
       "         [0.58826619],\n",
       "         [0.82449013],\n",
       "         [0.82449013],\n",
       "         [0.05376636],\n",
       "         [0.05376636],\n",
       "         [0.47089844],\n",
       "         [0.47089844],\n",
       "         [0.73341388],\n",
       "         [0.73341388],\n",
       "         [0.049782  ],\n",
       "         [0.049782  ],\n",
       "         [0.19621043],\n",
       "         [0.19621043],\n",
       "         [0.36982575],\n",
       "         [0.36982575],\n",
       "         [0.58196897],\n",
       "         [0.58196897],\n",
       "         [0.58659269],\n",
       "         [0.58659269],\n",
       "         [0.63071825],\n",
       "         [0.63071825],\n",
       "         [0.08967114],\n",
       "         [0.08967114],\n",
       "         [0.3621546 ],\n",
       "         [0.3621546 ],\n",
       "         [0.01231365],\n",
       "         [0.01231365],\n",
       "         [0.63081911],\n",
       "         [0.63081911],\n",
       "         [0.21712743],\n",
       "         [0.21712743],\n",
       "         [0.11289735],\n",
       "         [0.11289735],\n",
       "         [0.82480668],\n",
       "         [0.82480668],\n",
       "         [0.09082974],\n",
       "         [0.09082974],\n",
       "         [0.51895351],\n",
       "         [0.51895351],\n",
       "         [0.9865923 ],\n",
       "         [0.9865923 ],\n",
       "         [0.23615451],\n",
       "         [0.23615451],\n",
       "         [0.35224462],\n",
       "         [0.35224462],\n",
       "         [0.64151797],\n",
       "         [0.64151797],\n",
       "         [0.56851531],\n",
       "         [0.56851531],\n",
       "         [0.34230312],\n",
       "         [0.34230312],\n",
       "         [0.53096177],\n",
       "         [0.53096177],\n",
       "         [0.63015165],\n",
       "         [0.63015165],\n",
       "         [0.25346221],\n",
       "         [0.25346221],\n",
       "         [0.93258702],\n",
       "         [0.93258702],\n",
       "         [0.96365611],\n",
       "         [0.96365611],\n",
       "         [0.77062002],\n",
       "         [0.77062002],\n",
       "         [0.78997469],\n",
       "         [0.78997469],\n",
       "         [0.20460021],\n",
       "         [0.20460021],\n",
       "         [0.36639683],\n",
       "         [0.36639683],\n",
       "         [0.77605031],\n",
       "         [0.77605031],\n",
       "         [0.02958809],\n",
       "         [0.02958809],\n",
       "         [0.10026212],\n",
       "         [0.10026212],\n",
       "         [0.73246381],\n",
       "         [0.73246381],\n",
       "         [0.6535719 ],\n",
       "         [0.6535719 ],\n",
       "         [0.68736767],\n",
       "         [0.68736767],\n",
       "         [0.21046292],\n",
       "         [0.21046292],\n",
       "         [0.75680763],\n",
       "         [0.75680763],\n",
       "         [0.04625996],\n",
       "         [0.04625996],\n",
       "         [0.01409207],\n",
       "         [0.01409207],\n",
       "         [0.53996097],\n",
       "         [0.53996097],\n",
       "         [0.97616317],\n",
       "         [0.97616317],\n",
       "         [0.37004028],\n",
       "         [0.37004028],\n",
       "         [0.69219081],\n",
       "         [0.69219081],\n",
       "         [0.20458633],\n",
       "         [0.20458633],\n",
       "         [0.14366448],\n",
       "         [0.14366448],\n",
       "         [0.73054604],\n",
       "         [0.73054604],\n",
       "         [0.58751701],\n",
       "         [0.58751701],\n",
       "         [0.49062109],\n",
       "         [0.49062109],\n",
       "         [0.54077492],\n",
       "         [0.54077492],\n",
       "         [0.16051958],\n",
       "         [0.16051958],\n",
       "         [0.84443414],\n",
       "         [0.84443414],\n",
       "         [0.48213774],\n",
       "         [0.48213774],\n",
       "         [0.12678433],\n",
       "         [0.12678433],\n",
       "         [0.86342437],\n",
       "         [0.86342437],\n",
       "         [0.8366515 ],\n",
       "         [0.8366515 ],\n",
       "         [0.25104423],\n",
       "         [0.25104423]])}}"
      ]
     },
     "execution_count": 12,
     "metadata": {},
     "output_type": "execute_result"
    }
   ],
   "source": [
    "ds = load_by_id(run_id_a)\n",
    "ds.get_parameter_data('x1')"
   ]
  },
  {
   "cell_type": "code",
   "execution_count": null,
   "metadata": {},
   "outputs": [],
   "source": []
  }
 ],
 "metadata": {
  "kernelspec": {
   "display_name": "Python 3",
   "language": "python",
   "name": "python3"
  },
  "language_info": {
   "codemirror_mode": {
    "name": "ipython",
    "version": 3
   },
   "file_extension": ".py",
   "mimetype": "text/x-python",
   "name": "python",
   "nbconvert_exporter": "python",
   "pygments_lexer": "ipython3",
   "version": "3.7.5"
  },
  "nbsphinx": {
   "timeout": 600
  },
  "toc": {
   "base_numbering": 1,
   "nav_menu": {},
   "number_sections": true,
   "sideBar": true,
   "skip_h1_title": false,
   "title_cell": "Table of Contents",
   "title_sidebar": "Contents",
   "toc_cell": false,
   "toc_position": {},
   "toc_section_display": true,
   "toc_window_display": false
  },
  "varInspector": {
   "cols": {
    "lenName": 16,
    "lenType": 16,
    "lenVar": 40
   },
   "kernels_config": {
    "python": {
     "delete_cmd_postfix": "",
     "delete_cmd_prefix": "del ",
     "library": "var_list.py",
     "varRefreshCmd": "print(var_dic_list())"
    },
    "r": {
     "delete_cmd_postfix": ") ",
     "delete_cmd_prefix": "rm(",
     "library": "var_list.r",
     "varRefreshCmd": "cat(var_dic_list()) "
    }
   },
   "types_to_exclude": [
    "module",
    "function",
    "builtin_function_or_method",
    "instance",
    "_Feature"
   ],
   "window_display": false
  }
 },
 "nbformat": 4,
 "nbformat_minor": 2
}
