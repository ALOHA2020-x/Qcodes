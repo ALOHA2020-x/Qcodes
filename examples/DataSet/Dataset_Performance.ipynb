{
 "cells": [
  {
   "cell_type": "markdown",
   "metadata": {},
   "source": [
    "# DataSet Performance\n",
    "\n",
    "This notebook shows the trade-off between inserting data into a database row-by-row and as binary blobs. Inserting the data row-by-row means that we have direct access to all the data and may perform queries directly on the values of the data. On the other hand, as we shall see, this is much slower than inserting the data directly as binary blobs."
   ]
  },
  {
   "cell_type": "markdown",
   "metadata": {},
   "source": [
    "First, we choose a new location for the database to ensure that we don't add a bunch of benchmarking data to the default one."
   ]
  },
  {
   "cell_type": "code",
   "execution_count": 1,
   "metadata": {
    "execution": {
     "iopub.execute_input": "2020-10-27T18:46:25.202580Z",
     "iopub.status.busy": "2020-10-27T18:46:25.202030Z",
     "iopub.status.idle": "2020-10-27T18:46:26.176571Z",
     "shell.execute_reply": "2020-10-27T18:46:26.176039Z"
    }
   },
   "outputs": [
    {
     "name": "stdout",
     "output_type": "stream",
     "text": [
      "Logging hadn't been started.\n",
      "Activating auto-logging. Current session state plus future input saved.\n",
      "Filename       : /home/vsts/.qcodes/logs/command_history.log\n",
      "Mode           : append\n",
      "Output logging : True\n",
      "Raw input log  : False\n",
      "Timestamping   : True\n",
      "State          : active\n"
     ]
    },
    {
     "name": "stdout",
     "output_type": "stream",
     "text": [
      "Qcodes Logfile : /home/vsts/.qcodes/logs/201027-14493-qcodes.log\n"
     ]
    }
   ],
   "source": [
    "import os\n",
    "cwd = os.getcwd()\n",
    "import qcodes as qc\n",
    "qc.config[\"core\"][\"db_location\"] = os.path.join(cwd, 'testing.db')\n"
   ]
  },
  {
   "cell_type": "code",
   "execution_count": 2,
   "metadata": {
    "execution": {
     "iopub.execute_input": "2020-10-27T18:46:26.183064Z",
     "iopub.status.busy": "2020-10-27T18:46:26.181535Z",
     "iopub.status.idle": "2020-10-27T18:46:26.352025Z",
     "shell.execute_reply": "2020-10-27T18:46:26.351161Z"
    }
   },
   "outputs": [],
   "source": [
    "%matplotlib inline\n",
    "import time\n",
    "import matplotlib.pyplot as plt\n",
    "import numpy as np\n",
    "\n",
    "import qcodes as qc\n",
    "from qcodes.instrument.parameter import ManualParameter\n",
    "from qcodes.dataset.experiment_container import (Experiment,\n",
    "                                                 load_last_experiment,\n",
    "                                                 new_experiment)\n",
    "from qcodes.dataset.sqlite.database import initialise_database\n",
    "from qcodes import load_or_create_experiment\n",
    "from qcodes.dataset.measurements import Measurement"
   ]
  },
  {
   "cell_type": "code",
   "execution_count": 3,
   "metadata": {
    "execution": {
     "iopub.execute_input": "2020-10-27T18:46:26.356167Z",
     "iopub.status.busy": "2020-10-27T18:46:26.355239Z",
     "iopub.status.idle": "2020-10-27T18:46:26.448231Z",
     "shell.execute_reply": "2020-10-27T18:46:26.447658Z"
    }
   },
   "outputs": [
    {
     "name": "stdout",
     "output_type": "stream",
     "text": [
      "\r",
      "0it [00:00, ?it/s]"
     ]
    },
    {
     "name": "stdout",
     "output_type": "stream",
     "text": [
      "\r",
      "Upgrading database; v0 -> v1: : 0it [00:00, ?it/s]"
     ]
    },
    {
     "name": "stdout",
     "output_type": "stream",
     "text": [
      "\r",
      "Upgrading database; v0 -> v1: : 0it [00:00, ?it/s]"
     ]
    },
    {
     "name": "stdout",
     "output_type": "stream",
     "text": [
      "\n",
      "\r",
      "  0%|          | 0/1 [00:00<?, ?it/s]"
     ]
    },
    {
     "name": "stdout",
     "output_type": "stream",
     "text": [
      "\r",
      "Upgrading database; v1 -> v2:   0%|          | 0/1 [00:00<?, ?it/s]"
     ]
    },
    {
     "name": "stdout",
     "output_type": "stream",
     "text": [
      "\r",
      "Upgrading database; v1 -> v2: 100%|██████████| 1/1 [00:00<00:00, 519.87it/s]"
     ]
    },
    {
     "name": "stdout",
     "output_type": "stream",
     "text": [
      "\n",
      "\r",
      "0it [00:00, ?it/s]"
     ]
    },
    {
     "name": "stdout",
     "output_type": "stream",
     "text": [
      "\r",
      "Upgrading database; v2 -> v3: : 0it [00:00, ?it/s]"
     ]
    },
    {
     "name": "stdout",
     "output_type": "stream",
     "text": [
      "\r",
      "Upgrading database; v2 -> v3: : 0it [00:00, ?it/s]"
     ]
    },
    {
     "name": "stdout",
     "output_type": "stream",
     "text": [
      "\n",
      "\r",
      "0it [00:00, ?it/s]"
     ]
    },
    {
     "name": "stdout",
     "output_type": "stream",
     "text": [
      "\r",
      "Upgrading database; v3 -> v4: : 0it [00:00, ?it/s]"
     ]
    },
    {
     "name": "stdout",
     "output_type": "stream",
     "text": [
      "\r",
      "Upgrading database; v3 -> v4: : 0it [00:00, ?it/s]"
     ]
    },
    {
     "name": "stdout",
     "output_type": "stream",
     "text": [
      "\n",
      "\r",
      "  0%|          | 0/1 [00:00<?, ?it/s]"
     ]
    },
    {
     "name": "stdout",
     "output_type": "stream",
     "text": [
      "\r",
      "Upgrading database; v4 -> v5:   0%|          | 0/1 [00:00<?, ?it/s]"
     ]
    },
    {
     "name": "stdout",
     "output_type": "stream",
     "text": [
      "\r",
      "Upgrading database; v4 -> v5: 100%|██████████| 1/1 [00:00<00:00, 949.58it/s]"
     ]
    },
    {
     "name": "stdout",
     "output_type": "stream",
     "text": [
      "\n",
      "\r",
      "0it [00:00, ?it/s]"
     ]
    },
    {
     "name": "stdout",
     "output_type": "stream",
     "text": [
      "\r",
      "Upgrading database; v5 -> v6: : 0it [00:00, ?it/s]"
     ]
    },
    {
     "name": "stdout",
     "output_type": "stream",
     "text": [
      "\r",
      "Upgrading database; v5 -> v6: : 0it [00:00, ?it/s]"
     ]
    },
    {
     "name": "stdout",
     "output_type": "stream",
     "text": [
      "\n",
      "\r",
      "  0%|          | 0/1 [00:00<?, ?it/s]"
     ]
    },
    {
     "name": "stdout",
     "output_type": "stream",
     "text": [
      "\r",
      "Upgrading database; v6 -> v7:   0%|          | 0/1 [00:00<?, ?it/s]"
     ]
    },
    {
     "name": "stdout",
     "output_type": "stream",
     "text": [
      "\r",
      "Upgrading database; v6 -> v7: 100%|██████████| 1/1 [00:00<00:00, 432.98it/s]"
     ]
    },
    {
     "name": "stdout",
     "output_type": "stream",
     "text": [
      "\n",
      "\r",
      "  0%|          | 0/1 [00:00<?, ?it/s]"
     ]
    },
    {
     "name": "stdout",
     "output_type": "stream",
     "text": [
      "\r",
      "Upgrading database; v7 -> v8:   0%|          | 0/1 [00:00<?, ?it/s]"
     ]
    },
    {
     "name": "stdout",
     "output_type": "stream",
     "text": [
      "\r",
      "Upgrading database; v7 -> v8: 100%|██████████| 1/1 [00:00<00:00, 972.25it/s]"
     ]
    },
    {
     "name": "stdout",
     "output_type": "stream",
     "text": [
      "\n",
      "\r",
      "  0%|          | 0/1 [00:00<?, ?it/s]"
     ]
    },
    {
     "name": "stdout",
     "output_type": "stream",
     "text": [
      "\r",
      "Upgrading database; v8 -> v9:   0%|          | 0/1 [00:00<?, ?it/s]"
     ]
    },
    {
     "name": "stdout",
     "output_type": "stream",
     "text": [
      "\r",
      "Upgrading database; v8 -> v9: 100%|██████████| 1/1 [00:00<00:00, 653.11it/s]"
     ]
    },
    {
     "name": "stdout",
     "output_type": "stream",
     "text": [
      "\n"
     ]
    }
   ],
   "source": [
    "initialise_database()\n",
    "exp = load_or_create_experiment(experiment_name='tutorial_exp', sample_name=\"no sample\")"
   ]
  },
  {
   "cell_type": "markdown",
   "metadata": {},
   "source": [
    "Here, we define a simple function to benchmark the time it takes to insert n points with either numeric or array data type.\n",
    "We will compare both the time used to call ``add_result`` and the time used for the full measurement."
   ]
  },
  {
   "cell_type": "code",
   "execution_count": 4,
   "metadata": {
    "execution": {
     "iopub.execute_input": "2020-10-27T18:46:26.456428Z",
     "iopub.status.busy": "2020-10-27T18:46:26.455265Z",
     "iopub.status.idle": "2020-10-27T18:46:26.456981Z",
     "shell.execute_reply": "2020-10-27T18:46:26.457393Z"
    }
   },
   "outputs": [],
   "source": [
    "def insert_data(paramtype, npoints, nreps=1):\n",
    "\n",
    "    meas = Measurement(exp=exp)\n",
    "\n",
    "    x1 = ManualParameter('x1')\n",
    "    x2 = ManualParameter('x2')\n",
    "    x3 = ManualParameter('x3')\n",
    "    y1 = ManualParameter('y1')\n",
    "    y2 = ManualParameter('y2')\n",
    "\n",
    "    meas.register_parameter(x1, paramtype=paramtype)\n",
    "    meas.register_parameter(x2, paramtype=paramtype)\n",
    "    meas.register_parameter(x3, paramtype=paramtype)\n",
    "    meas.register_parameter(y1, setpoints=[x1, x2, x3],\n",
    "                            paramtype=paramtype)\n",
    "    meas.register_parameter(y2, setpoints=[x1, x2, x3],\n",
    "                            paramtype=paramtype)\n",
    "    start = time.perf_counter()\n",
    "    with meas.run() as datasaver:\n",
    "        start_adding = time.perf_counter()\n",
    "        for i in range(nreps):\n",
    "            datasaver.add_result((x1, np.random.rand(npoints)),\n",
    "                                 (x2, np.random.rand(npoints)),\n",
    "                                 (x3, np.random.rand(npoints)),\n",
    "                                 (y1, np.random.rand(npoints)),\n",
    "                                 (y2, np.random.rand(npoints)))\n",
    "        stop_adding = time.perf_counter()\n",
    "        run_id = datasaver.run_id\n",
    "    stop = time.perf_counter()\n",
    "    tot_time = stop - start\n",
    "    add_time = stop_adding - start_adding\n",
    "    return tot_time, add_time, run_id"
   ]
  },
  {
   "cell_type": "markdown",
   "metadata": {},
   "source": [
    "## Comparison between numeric/array data and binary blob"
   ]
  },
  {
   "cell_type": "markdown",
   "metadata": {},
   "source": [
    "### Case1: Short experiment time"
   ]
  },
  {
   "cell_type": "code",
   "execution_count": 5,
   "metadata": {
    "execution": {
     "iopub.execute_input": "2020-10-27T18:46:26.463041Z",
     "iopub.status.busy": "2020-10-27T18:46:26.462489Z",
     "iopub.status.idle": "2020-10-27T18:46:27.198945Z",
     "shell.execute_reply": "2020-10-27T18:46:27.198391Z"
    }
   },
   "outputs": [
    {
     "name": "stdout",
     "output_type": "stream",
     "text": [
      "Starting experimental run with id: 1. \n",
      "Starting experimental run with id: 2. \n",
      "Starting experimental run with id: 3. \n",
      "Starting experimental run with id: 4. \n",
      "Starting experimental run with id: 5. \n"
     ]
    },
    {
     "name": "stdout",
     "output_type": "stream",
     "text": [
      "Starting experimental run with id: 6. \n"
     ]
    },
    {
     "name": "stdout",
     "output_type": "stream",
     "text": [
      "Starting experimental run with id: 7. \n"
     ]
    },
    {
     "name": "stdout",
     "output_type": "stream",
     "text": [
      "Starting experimental run with id: 8. \n",
      "Starting experimental run with id: 9. \n"
     ]
    },
    {
     "name": "stdout",
     "output_type": "stream",
     "text": [
      "Starting experimental run with id: 10. \n",
      "Starting experimental run with id: 11. \n"
     ]
    },
    {
     "name": "stdout",
     "output_type": "stream",
     "text": [
      "Starting experimental run with id: 12. \n",
      "Starting experimental run with id: 13. \n"
     ]
    },
    {
     "name": "stdout",
     "output_type": "stream",
     "text": [
      "Starting experimental run with id: 14. \n"
     ]
    }
   ],
   "source": [
    "sizes = [1,500,1000,2000,3000,4000,5000]\n",
    "t_numeric = []\n",
    "t_numeric_add = []\n",
    "t_array = []\n",
    "t_array_add = []\n",
    "for size in sizes:\n",
    "    tn, tna, run_id_n =  insert_data('numeric', size)\n",
    "    t_numeric.append(tn)\n",
    "    t_numeric_add.append(tna)\n",
    "\n",
    "    ta, taa, run_id_a =  insert_data('array', size)\n",
    "    t_array.append(ta)\n",
    "    t_array_add.append(taa)"
   ]
  },
  {
   "cell_type": "code",
   "execution_count": 6,
   "metadata": {
    "execution": {
     "iopub.execute_input": "2020-10-27T18:46:27.210920Z",
     "iopub.status.busy": "2020-10-27T18:46:27.210387Z",
     "iopub.status.idle": "2020-10-27T18:46:27.428882Z",
     "shell.execute_reply": "2020-10-27T18:46:27.428226Z"
    }
   },
   "outputs": [
    {
     "data": {
      "image/png": "[encoded data removed]",
      "text/plain": [
       "<Figure size 432x288 with 1 Axes>"
      ]
     },
     "metadata": {
      "needs_background": "light"
     },
     "output_type": "display_data"
    }
   ],
   "source": [
    "fig, ax = plt.subplots(1,1)\n",
    "ax.plot(sizes, t_numeric, 'o-', label='Inserting row-by-row')\n",
    "ax.plot(sizes, t_numeric_add, 'o-', label='Inserting row-by-row: add_result only')\n",
    "ax.plot(sizes, t_array, 'd-', label='Inserting as binary blob')\n",
    "ax.plot(sizes, t_array_add, 'd-', label='Inserting as binary blob: add_result only')\n",
    "ax.legend()\n",
    "ax.set_xlabel('Array length')\n",
    "ax.set_ylabel('Time (s)')\n",
    "fig.tight_layout()"
   ]
  },
  {
   "cell_type": "markdown",
   "metadata": {},
   "source": [
    "As shown in the latter figure, the time to setup and and close the experiment is approximately 0.4 sec. In case of small array sizes, the difference between inserting values of data as arrays and inserting them row-by-row is relatively unimportant. At larger array sizes, i.e. above 10000 points, the cost of writing data as individual datapoints starts to become important.\n"
   ]
  },
  {
   "cell_type": "markdown",
   "metadata": {},
   "source": [
    "### Case2: Long experiment time "
   ]
  },
  {
   "cell_type": "code",
   "execution_count": 7,
   "metadata": {
    "execution": {
     "iopub.execute_input": "2020-10-27T18:46:27.435624Z",
     "iopub.status.busy": "2020-10-27T18:46:27.433663Z",
     "iopub.status.idle": "2020-10-27T18:47:20.013894Z",
     "shell.execute_reply": "2020-10-27T18:47:20.012923Z"
    }
   },
   "outputs": [
    {
     "name": "stdout",
     "output_type": "stream",
     "text": [
      "Starting experimental run with id: 15. \n",
      "Starting experimental run with id: 16. \n",
      "Starting experimental run with id: 17. \n"
     ]
    },
    {
     "name": "stdout",
     "output_type": "stream",
     "text": [
      "Starting experimental run with id: 18. \n",
      "Starting experimental run with id: 19. \n"
     ]
    },
    {
     "name": "stdout",
     "output_type": "stream",
     "text": [
      "Starting experimental run with id: 20. \n"
     ]
    },
    {
     "name": "stdout",
     "output_type": "stream",
     "text": [
      "Starting experimental run with id: 21. \n"
     ]
    },
    {
     "name": "stdout",
     "output_type": "stream",
     "text": [
      "Starting experimental run with id: 22. \n"
     ]
    },
    {
     "name": "stdout",
     "output_type": "stream",
     "text": [
      "Starting experimental run with id: 23. \n"
     ]
    },
    {
     "name": "stdout",
     "output_type": "stream",
     "text": [
      "Starting experimental run with id: 24. \n"
     ]
    },
    {
     "name": "stdout",
     "output_type": "stream",
     "text": [
      "Starting experimental run with id: 25. \n"
     ]
    },
    {
     "name": "stdout",
     "output_type": "stream",
     "text": [
      "Starting experimental run with id: 26. \n"
     ]
    },
    {
     "name": "stdout",
     "output_type": "stream",
     "text": [
      "Starting experimental run with id: 27. \n"
     ]
    },
    {
     "name": "stdout",
     "output_type": "stream",
     "text": [
      "Starting experimental run with id: 28. \n"
     ]
    }
   ],
   "source": [
    "sizes = [1,500,1000,2000,3000,4000,5000]\n",
    "nreps = 100\n",
    "t_numeric = []\n",
    "t_numeric_add = []\n",
    "t_numeric_run_ids = []\n",
    "t_array = []\n",
    "t_array_add = []\n",
    "t_array_run_ids = []\n",
    "for size in sizes:\n",
    "    tn, tna, run_id_n =  insert_data('numeric', size, nreps=nreps)\n",
    "    t_numeric.append(tn)\n",
    "    t_numeric_add.append(tna)\n",
    "    t_numeric_run_ids.append(run_id_n)\n",
    "\n",
    "    ta, taa, run_id_a =  insert_data('array', size, nreps=nreps)\n",
    "    t_array.append(ta)\n",
    "    t_array_add.append(taa)\n",
    "    t_array_run_ids.append(run_id_a)"
   ]
  },
  {
   "cell_type": "code",
   "execution_count": 8,
   "metadata": {
    "execution": {
     "iopub.execute_input": "2020-10-27T18:47:20.036102Z",
     "iopub.status.busy": "2020-10-27T18:47:20.030497Z",
     "iopub.status.idle": "2020-10-27T18:47:20.240437Z",
     "shell.execute_reply": "2020-10-27T18:47:20.241054Z"
    },
    "scrolled": true
   },
   "outputs": [
    {
     "data": {
      "image/png": "[encoded data removed]",
      "text/plain": [
       "<Figure size 432x288 with 1 Axes>"
      ]
     },
     "metadata": {
      "needs_background": "light"
     },
     "output_type": "display_data"
    }
   ],
   "source": [
    "fig, ax = plt.subplots(1,1)\n",
    "ax.plot(sizes, t_numeric, 'o-', label='Inserting row-by-row')\n",
    "ax.plot(sizes, t_numeric_add, 'o-', label='Inserting row-by-row: add_result only')\n",
    "ax.plot(sizes, t_array, 'd-', label='Inserting as binary blob')\n",
    "ax.plot(sizes, t_array_add, 'd-', label='Inserting as binary blob: add_result only')\n",
    "ax.legend()\n",
    "ax.set_xlabel('Array length')\n",
    "ax.set_ylabel('Time (s)')\n",
    "fig.tight_layout()"
   ]
  },
  {
   "cell_type": "markdown",
   "metadata": {},
   "source": [
    "However, as we increase the length of the experiment, as seen here by repeating the insertion 100 times, we see a big difference between inserting values of the data row-by-row and inserting it as a binary blob."
   ]
  },
  {
   "cell_type": "markdown",
   "metadata": {},
   "source": [
    "## Loading the data "
   ]
  },
  {
   "cell_type": "code",
   "execution_count": 9,
   "metadata": {
    "execution": {
     "iopub.execute_input": "2020-10-27T18:47:20.245534Z",
     "iopub.status.busy": "2020-10-27T18:47:20.244979Z",
     "iopub.status.idle": "2020-10-27T18:47:20.248501Z",
     "shell.execute_reply": "2020-10-27T18:47:20.248056Z"
    }
   },
   "outputs": [],
   "source": [
    "from qcodes.dataset.data_set import load_by_id\n",
    "from qcodes.dataset.data_export import get_data_by_id"
   ]
  },
  {
   "cell_type": "markdown",
   "metadata": {},
   "source": [
    "As usual you can load the data by using the ``load_by_id`` function but you will notice that the different storage methods\n",
    "are reflected in shape of the data as it is retrieved. "
   ]
  },
  {
   "cell_type": "code",
   "execution_count": 10,
   "metadata": {
    "execution": {
     "iopub.execute_input": "2020-10-27T18:47:20.252952Z",
     "iopub.status.busy": "2020-10-27T18:47:20.251633Z",
     "iopub.status.idle": "2020-10-27T18:47:20.253700Z",
     "shell.execute_reply": "2020-10-27T18:47:20.254198Z"
    }
   },
   "outputs": [],
   "source": [
    "run_id_n = t_numeric_run_ids[0]\n",
    "run_id_a = t_array_run_ids[0]"
   ]
  },
  {
   "cell_type": "code",
   "execution_count": 11,
   "metadata": {
    "execution": {
     "iopub.execute_input": "2020-10-27T18:47:20.258279Z",
     "iopub.status.busy": "2020-10-27T18:47:20.257719Z",
     "iopub.status.idle": "2020-10-27T18:47:20.266976Z",
     "shell.execute_reply": "2020-10-27T18:47:20.267411Z"
    },
    "scrolled": true
   },
   "outputs": [
    {
     "data": {
      "text/plain": [
       "{'x1': {'x1': array([0.25884964, 0.25884964, 0.870046  , 0.870046  , 0.44953819,\n",
       "         0.44953819, 0.46081151, 0.46081151, 0.20779269, 0.20779269,\n",
       "         0.62355198, 0.62355198, 0.97606939, 0.97606939, 0.39088702,\n",
       "         0.39088702, 0.40792712, 0.40792712, 0.53877335, 0.53877335,\n",
       "         0.40404732, 0.40404732, 0.44988008, 0.44988008, 0.14850362,\n",
       "         0.14850362, 0.14991102, 0.14991102, 0.80073818, 0.80073818,\n",
       "         0.05106744, 0.05106744, 0.03516892, 0.03516892, 0.03495635,\n",
       "         0.03495635, 0.70380336, 0.70380336, 0.38612037, 0.38612037,\n",
       "         0.61964442, 0.61964442, 0.56702341, 0.56702341, 0.31138073,\n",
       "         0.31138073, 0.47163543, 0.47163543, 0.47948849, 0.47948849,\n",
       "         0.4974265 , 0.4974265 , 0.76429306, 0.76429306, 0.61217535,\n",
       "         0.61217535, 0.20169697, 0.20169697, 0.13049476, 0.13049476,\n",
       "         0.74879123, 0.74879123, 0.67988617, 0.67988617, 0.3326145 ,\n",
       "         0.3326145 , 0.60457564, 0.60457564, 0.75482208, 0.75482208,\n",
       "         0.38298276, 0.38298276, 0.70617337, 0.70617337, 0.71535078,\n",
       "         0.71535078, 0.10567407, 0.10567407, 0.37899911, 0.37899911,\n",
       "         0.74810462, 0.74810462, 0.66889125, 0.66889125, 0.95866279,\n",
       "         0.95866279, 0.32768636, 0.32768636, 0.18724927, 0.18724927,\n",
       "         0.41477779, 0.41477779, 0.1860258 , 0.1860258 , 0.51084719,\n",
       "         0.51084719, 0.24428648, 0.24428648, 0.35794074, 0.35794074,\n",
       "         0.39539891, 0.39539891, 0.64081255, 0.64081255, 0.01004198,\n",
       "         0.01004198, 0.82009226, 0.82009226, 0.79611995, 0.79611995,\n",
       "         0.31966316, 0.31966316, 0.90336424, 0.90336424, 0.49639081,\n",
       "         0.49639081, 0.0613075 , 0.0613075 , 0.66432492, 0.66432492,\n",
       "         0.32723924, 0.32723924, 0.9076516 , 0.9076516 , 0.45026516,\n",
       "         0.45026516, 0.95818727, 0.95818727, 0.69546311, 0.69546311,\n",
       "         0.15620404, 0.15620404, 0.98440228, 0.98440228, 0.94564553,\n",
       "         0.94564553, 0.21998853, 0.21998853, 0.9394838 , 0.9394838 ,\n",
       "         0.62050365, 0.62050365, 0.7438022 , 0.7438022 , 0.42239301,\n",
       "         0.42239301, 0.50946539, 0.50946539, 0.6008801 , 0.6008801 ,\n",
       "         0.43154936, 0.43154936, 0.80568757, 0.80568757, 0.12210898,\n",
       "         0.12210898, 0.98938034, 0.98938034, 0.95709293, 0.95709293,\n",
       "         0.95434288, 0.95434288, 0.42071053, 0.42071053, 0.30437172,\n",
       "         0.30437172, 0.80975007, 0.80975007, 0.67331107, 0.67331107,\n",
       "         0.70092328, 0.70092328, 0.02056441, 0.02056441, 0.51004146,\n",
       "         0.51004146, 0.03450805, 0.03450805, 0.48133417, 0.48133417,\n",
       "         0.41997943, 0.41997943, 0.28017746, 0.28017746, 0.60471206,\n",
       "         0.60471206, 0.18210259, 0.18210259, 0.30234957, 0.30234957,\n",
       "         0.69009488, 0.69009488, 0.96445007, 0.96445007, 0.0437574 ,\n",
       "         0.0437574 , 0.01793287, 0.01793287, 0.1034709 , 0.1034709 ])}}"
      ]
     },
     "execution_count": 1,
     "metadata": {},
     "output_type": "execute_result"
    }
   ],
   "source": [
    "ds = load_by_id(run_id_n)\n",
    "ds.get_parameter_data('x1')"
   ]
  },
  {
   "cell_type": "markdown",
   "metadata": {},
   "source": [
    "And a dataset stored as binary arrays"
   ]
  },
  {
   "cell_type": "code",
   "execution_count": 12,
   "metadata": {
    "execution": {
     "iopub.execute_input": "2020-10-27T18:47:20.270668Z",
     "iopub.status.busy": "2020-10-27T18:47:20.270143Z",
     "iopub.status.idle": "2020-10-27T18:47:20.320778Z",
     "shell.execute_reply": "2020-10-27T18:47:20.321257Z"
    },
    "scrolled": true
   },
   "outputs": [
    {
     "data": {
      "text/plain": [
       "{'x1': {'x1': array([[0.72077286],\n",
       "         [0.72077286],\n",
       "         [0.63169214],\n",
       "         [0.63169214],\n",
       "         [0.96902681],\n",
       "         [0.96902681],\n",
       "         [0.29672768],\n",
       "         [0.29672768],\n",
       "         [0.77651793],\n",
       "         [0.77651793],\n",
       "         [0.97013019],\n",
       "         [0.97013019],\n",
       "         [0.15108722],\n",
       "         [0.15108722],\n",
       "         [0.3921128 ],\n",
       "         [0.3921128 ],\n",
       "         [0.54043083],\n",
       "         [0.54043083],\n",
       "         [0.66910305],\n",
       "         [0.66910305],\n",
       "         [0.21244405],\n",
       "         [0.21244405],\n",
       "         [0.42979811],\n",
       "         [0.42979811],\n",
       "         [0.80285757],\n",
       "         [0.80285757],\n",
       "         [0.54612603],\n",
       "         [0.54612603],\n",
       "         [0.15018473],\n",
       "         [0.15018473],\n",
       "         [0.3081217 ],\n",
       "         [0.3081217 ],\n",
       "         [0.50354626],\n",
       "         [0.50354626],\n",
       "         [0.60281001],\n",
       "         [0.60281001],\n",
       "         [0.27461271],\n",
       "         [0.27461271],\n",
       "         [0.43803194],\n",
       "         [0.43803194],\n",
       "         [0.83834621],\n",
       "         [0.83834621],\n",
       "         [0.05425353],\n",
       "         [0.05425353],\n",
       "         [0.6625285 ],\n",
       "         [0.6625285 ],\n",
       "         [0.16990685],\n",
       "         [0.16990685],\n",
       "         [0.16307251],\n",
       "         [0.16307251],\n",
       "         [0.77309258],\n",
       "         [0.77309258],\n",
       "         [0.44469849],\n",
       "         [0.44469849],\n",
       "         [0.14400476],\n",
       "         [0.14400476],\n",
       "         [0.40664732],\n",
       "         [0.40664732],\n",
       "         [0.20746406],\n",
       "         [0.20746406],\n",
       "         [0.61661816],\n",
       "         [0.61661816],\n",
       "         [0.63416906],\n",
       "         [0.63416906],\n",
       "         [0.27731135],\n",
       "         [0.27731135],\n",
       "         [0.28516508],\n",
       "         [0.28516508],\n",
       "         [0.31809314],\n",
       "         [0.31809314],\n",
       "         [0.78207298],\n",
       "         [0.78207298],\n",
       "         [0.32156996],\n",
       "         [0.32156996],\n",
       "         [0.02462108],\n",
       "         [0.02462108],\n",
       "         [0.88492211],\n",
       "         [0.88492211],\n",
       "         [0.00429672],\n",
       "         [0.00429672],\n",
       "         [0.91417023],\n",
       "         [0.91417023],\n",
       "         [0.51334957],\n",
       "         [0.51334957],\n",
       "         [0.36690644],\n",
       "         [0.36690644],\n",
       "         [0.80875533],\n",
       "         [0.80875533],\n",
       "         [0.39938949],\n",
       "         [0.39938949],\n",
       "         [0.08096606],\n",
       "         [0.08096606],\n",
       "         [0.48039516],\n",
       "         [0.48039516],\n",
       "         [0.10365939],\n",
       "         [0.10365939],\n",
       "         [0.5799101 ],\n",
       "         [0.5799101 ],\n",
       "         [0.63902001],\n",
       "         [0.63902001],\n",
       "         [0.28637248],\n",
       "         [0.28637248],\n",
       "         [0.4170594 ],\n",
       "         [0.4170594 ],\n",
       "         [0.33827481],\n",
       "         [0.33827481],\n",
       "         [0.0395271 ],\n",
       "         [0.0395271 ],\n",
       "         [0.26403279],\n",
       "         [0.26403279],\n",
       "         [0.31439334],\n",
       "         [0.31439334],\n",
       "         [0.34474651],\n",
       "         [0.34474651],\n",
       "         [0.15992506],\n",
       "         [0.15992506],\n",
       "         [0.20612537],\n",
       "         [0.20612537],\n",
       "         [0.2302113 ],\n",
       "         [0.2302113 ],\n",
       "         [0.98786456],\n",
       "         [0.98786456],\n",
       "         [0.50006434],\n",
       "         [0.50006434],\n",
       "         [0.7817735 ],\n",
       "         [0.7817735 ],\n",
       "         [0.1901309 ],\n",
       "         [0.1901309 ],\n",
       "         [0.54500281],\n",
       "         [0.54500281],\n",
       "         [0.43224258],\n",
       "         [0.43224258],\n",
       "         [0.15645854],\n",
       "         [0.15645854],\n",
       "         [0.1799382 ],\n",
       "         [0.1799382 ],\n",
       "         [0.99933031],\n",
       "         [0.99933031],\n",
       "         [0.80659521],\n",
       "         [0.80659521],\n",
       "         [0.38467234],\n",
       "         [0.38467234],\n",
       "         [0.26793618],\n",
       "         [0.26793618],\n",
       "         [0.6512305 ],\n",
       "         [0.6512305 ],\n",
       "         [0.44544549],\n",
       "         [0.44544549],\n",
       "         [0.07800781],\n",
       "         [0.07800781],\n",
       "         [0.61512013],\n",
       "         [0.61512013],\n",
       "         [0.50431441],\n",
       "         [0.50431441],\n",
       "         [0.4371793 ],\n",
       "         [0.4371793 ],\n",
       "         [0.39204263],\n",
       "         [0.39204263],\n",
       "         [0.53754556],\n",
       "         [0.53754556],\n",
       "         [0.72474013],\n",
       "         [0.72474013],\n",
       "         [0.80608478],\n",
       "         [0.80608478],\n",
       "         [0.77514566],\n",
       "         [0.77514566],\n",
       "         [0.46061084],\n",
       "         [0.46061084],\n",
       "         [0.12425289],\n",
       "         [0.12425289],\n",
       "         [0.52019833],\n",
       "         [0.52019833],\n",
       "         [0.34159636],\n",
       "         [0.34159636],\n",
       "         [0.68851172],\n",
       "         [0.68851172],\n",
       "         [0.82284677],\n",
       "         [0.82284677],\n",
       "         [0.55619698],\n",
       "         [0.55619698],\n",
       "         [0.98266412],\n",
       "         [0.98266412],\n",
       "         [0.06139353],\n",
       "         [0.06139353],\n",
       "         [0.59865061],\n",
       "         [0.59865061],\n",
       "         [0.40890087],\n",
       "         [0.40890087],\n",
       "         [0.67602218],\n",
       "         [0.67602218],\n",
       "         [0.81540374],\n",
       "         [0.81540374],\n",
       "         [0.68768629],\n",
       "         [0.68768629],\n",
       "         [0.16975841],\n",
       "         [0.16975841],\n",
       "         [0.64938639],\n",
       "         [0.64938639],\n",
       "         [0.0082124 ],\n",
       "         [0.0082124 ]])}}"
      ]
     },
     "execution_count": 1,
     "metadata": {},
     "output_type": "execute_result"
    }
   ],
   "source": [
    "ds = load_by_id(run_id_a)\n",
    "ds.get_parameter_data('x1')"
   ]
  },
  {
   "cell_type": "code",
   "execution_count": null,
   "metadata": {},
   "outputs": [],
   "source": []
  }
 ],
 "metadata": {
  "kernelspec": {
   "display_name": "Python 3",
   "language": "python",
   "name": "python3"
  },
  "language_info": {
   "codemirror_mode": {
    "name": "ipython",
    "version": 3
   },
   "file_extension": ".py",
   "mimetype": "text/x-python",
   "name": "python",
   "nbconvert_exporter": "python",
   "pygments_lexer": "ipython3",
   "version": "3.7.7"
  },
  "nbsphinx": {
   "timeout": 600
  },
  "toc": {
   "base_numbering": 1,
   "nav_menu": {},
   "number_sections": true,
   "sideBar": true,
   "skip_h1_title": false,
   "title_cell": "Table of Contents",
   "title_sidebar": "Contents",
   "toc_cell": false,
   "toc_position": {},
   "toc_section_display": true,
   "toc_window_display": false
  },
  "varInspector": {
   "cols": {
    "lenName": 16,
    "lenType": 16,
    "lenVar": 40
   },
   "kernels_config": {
    "python": {
     "delete_cmd_postfix": "",
     "delete_cmd_prefix": "del ",
     "library": "var_list.py",
     "varRefreshCmd": "print(var_dic_list())"
    },
    "r": {
     "delete_cmd_postfix": ") ",
     "delete_cmd_prefix": "rm(",
     "library": "var_list.r",
     "varRefreshCmd": "cat(var_dic_list()) "
    }
   },
   "types_to_exclude": [
    "module",
    "function",
    "builtin_function_or_method",
    "instance",
    "_Feature"
   ],
   "window_display": false
  }
 },
 "nbformat": 4,
 "nbformat_minor": 2
}
