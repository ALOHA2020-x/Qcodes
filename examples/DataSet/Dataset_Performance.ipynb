{
 "cells": [
  {
   "cell_type": "markdown",
   "metadata": {},
   "source": [
    "# DataSet Performance\n",
    "\n",
    "This notebook shows the trade-off between inserting data into a database row-by-row and as binary blobs. Inserting the data row-by-row means that we have direct access to all the data and may perform queries directly on the values of the data. On the other hand, as we shall see, this is much slower than inserting the data directly as binary blobs."
   ]
  },
  {
   "cell_type": "markdown",
   "metadata": {},
   "source": [
    "First, we choose a new location for the database to ensure that we don't add a bunch of benchmarking data to the default one."
   ]
  },
  {
   "cell_type": "code",
   "execution_count": 1,
   "metadata": {
    "execution": {
     "iopub.execute_input": "2020-10-30T10:35:15.524866Z",
     "iopub.status.busy": "2020-10-30T10:35:15.524303Z",
     "iopub.status.idle": "2020-10-30T10:35:16.488751Z",
     "shell.execute_reply": "2020-10-30T10:35:16.489239Z"
    }
   },
   "outputs": [
    {
     "name": "stdout",
     "output_type": "stream",
     "text": [
      "Logging hadn't been started.\n",
      "Activating auto-logging. Current session state plus future input saved.\n",
      "Filename       : /home/vsts/.qcodes/logs/command_history.log\n",
      "Mode           : append\n",
      "Output logging : True\n",
      "Raw input log  : False\n",
      "Timestamping   : True\n",
      "State          : active\n"
     ]
    },
    {
     "name": "stdout",
     "output_type": "stream",
     "text": [
      "Qcodes Logfile : /home/vsts/.qcodes/logs/201030-14238-qcodes.log\n"
     ]
    }
   ],
   "source": [
    "import os\n",
    "cwd = os.getcwd()\n",
    "import qcodes as qc\n",
    "qc.config[\"core\"][\"db_location\"] = os.path.join(cwd, 'testing.db')\n"
   ]
  },
  {
   "cell_type": "code",
   "execution_count": 2,
   "metadata": {
    "execution": {
     "iopub.execute_input": "2020-10-30T10:35:16.495818Z",
     "iopub.status.busy": "2020-10-30T10:35:16.494728Z",
     "iopub.status.idle": "2020-10-30T10:35:16.664003Z",
     "shell.execute_reply": "2020-10-30T10:35:16.663186Z"
    }
   },
   "outputs": [],
   "source": [
    "%matplotlib inline\n",
    "import time\n",
    "import matplotlib.pyplot as plt\n",
    "import numpy as np\n",
    "\n",
    "import qcodes as qc\n",
    "from qcodes.instrument.parameter import ManualParameter\n",
    "from qcodes.dataset.experiment_container import (Experiment,\n",
    "                                                 load_last_experiment,\n",
    "                                                 new_experiment)\n",
    "from qcodes.dataset.sqlite.database import initialise_database\n",
    "from qcodes import load_or_create_experiment\n",
    "from qcodes.dataset.measurements import Measurement"
   ]
  },
  {
   "cell_type": "code",
   "execution_count": 3,
   "metadata": {
    "execution": {
     "iopub.execute_input": "2020-10-30T10:35:16.668031Z",
     "iopub.status.busy": "2020-10-30T10:35:16.667137Z",
     "iopub.status.idle": "2020-10-30T10:35:16.771111Z",
     "shell.execute_reply": "2020-10-30T10:35:16.771552Z"
    }
   },
   "outputs": [
    {
     "name": "stdout",
     "output_type": "stream",
     "text": [
      "\r",
      "0it [00:00, ?it/s]"
     ]
    },
    {
     "name": "stdout",
     "output_type": "stream",
     "text": [
      "\r",
      "Upgrading database; v0 -> v1: : 0it [00:00, ?it/s]"
     ]
    },
    {
     "name": "stdout",
     "output_type": "stream",
     "text": [
      "\r",
      "Upgrading database; v0 -> v1: : 0it [00:00, ?it/s]"
     ]
    },
    {
     "name": "stdout",
     "output_type": "stream",
     "text": [
      "\n",
      "\r",
      "  0%|          | 0/1 [00:00<?, ?it/s]"
     ]
    },
    {
     "name": "stdout",
     "output_type": "stream",
     "text": [
      "\r",
      "Upgrading database; v1 -> v2:   0%|          | 0/1 [00:00<?, ?it/s]"
     ]
    },
    {
     "name": "stdout",
     "output_type": "stream",
     "text": [
      "\r",
      "Upgrading database; v1 -> v2: 100%|██████████| 1/1 [00:00<00:00, 523.05it/s]"
     ]
    },
    {
     "name": "stdout",
     "output_type": "stream",
     "text": [
      "\n",
      "\r",
      "0it [00:00, ?it/s]"
     ]
    },
    {
     "name": "stdout",
     "output_type": "stream",
     "text": [
      "\r",
      "Upgrading database; v2 -> v3: : 0it [00:00, ?it/s]"
     ]
    },
    {
     "name": "stdout",
     "output_type": "stream",
     "text": [
      "\r",
      "Upgrading database; v2 -> v3: : 0it [00:00, ?it/s]"
     ]
    },
    {
     "name": "stdout",
     "output_type": "stream",
     "text": [
      "\n",
      "\r",
      "0it [00:00, ?it/s]"
     ]
    },
    {
     "name": "stdout",
     "output_type": "stream",
     "text": [
      "\r",
      "Upgrading database; v3 -> v4: : 0it [00:00, ?it/s]"
     ]
    },
    {
     "name": "stdout",
     "output_type": "stream",
     "text": [
      "\r",
      "Upgrading database; v3 -> v4: : 0it [00:00, ?it/s]"
     ]
    },
    {
     "name": "stdout",
     "output_type": "stream",
     "text": [
      "\n",
      "\r",
      "  0%|          | 0/1 [00:00<?, ?it/s]"
     ]
    },
    {
     "name": "stdout",
     "output_type": "stream",
     "text": [
      "\r",
      "Upgrading database; v4 -> v5:   0%|          | 0/1 [00:00<?, ?it/s]"
     ]
    },
    {
     "name": "stdout",
     "output_type": "stream",
     "text": [
      "\r",
      "Upgrading database; v4 -> v5: 100%|██████████| 1/1 [00:00<00:00, 887.12it/s]"
     ]
    },
    {
     "name": "stdout",
     "output_type": "stream",
     "text": [
      "\n",
      "\r",
      "0it [00:00, ?it/s]"
     ]
    },
    {
     "name": "stdout",
     "output_type": "stream",
     "text": [
      "\r",
      "Upgrading database; v5 -> v6: : 0it [00:00, ?it/s]"
     ]
    },
    {
     "name": "stdout",
     "output_type": "stream",
     "text": [
      "\r",
      "Upgrading database; v5 -> v6: : 0it [00:00, ?it/s]"
     ]
    },
    {
     "name": "stdout",
     "output_type": "stream",
     "text": [
      "\n",
      "\r",
      "  0%|          | 0/1 [00:00<?, ?it/s]"
     ]
    },
    {
     "name": "stdout",
     "output_type": "stream",
     "text": [
      "\r",
      "Upgrading database; v6 -> v7:   0%|          | 0/1 [00:00<?, ?it/s]"
     ]
    },
    {
     "name": "stdout",
     "output_type": "stream",
     "text": [
      "\r",
      "Upgrading database; v6 -> v7: 100%|██████████| 1/1 [00:00<00:00, 331.09it/s]"
     ]
    },
    {
     "name": "stdout",
     "output_type": "stream",
     "text": [
      "\n",
      "\r",
      "  0%|          | 0/1 [00:00<?, ?it/s]"
     ]
    },
    {
     "name": "stdout",
     "output_type": "stream",
     "text": [
      "\r",
      "Upgrading database; v7 -> v8:   0%|          | 0/1 [00:00<?, ?it/s]"
     ]
    },
    {
     "name": "stdout",
     "output_type": "stream",
     "text": [
      "\r",
      "Upgrading database; v7 -> v8: 100%|██████████| 1/1 [00:00<00:00, 578.37it/s]"
     ]
    },
    {
     "name": "stdout",
     "output_type": "stream",
     "text": [
      "\n",
      "\r",
      "  0%|          | 0/1 [00:00<?, ?it/s]"
     ]
    },
    {
     "name": "stdout",
     "output_type": "stream",
     "text": [
      "\r",
      "Upgrading database; v8 -> v9:   0%|          | 0/1 [00:00<?, ?it/s]"
     ]
    },
    {
     "name": "stdout",
     "output_type": "stream",
     "text": [
      "\r",
      "Upgrading database; v8 -> v9: 100%|██████████| 1/1 [00:00<00:00, 1440.85it/s]"
     ]
    },
    {
     "name": "stdout",
     "output_type": "stream",
     "text": [
      "\n"
     ]
    }
   ],
   "source": [
    "initialise_database()\n",
    "exp = load_or_create_experiment(experiment_name='tutorial_exp', sample_name=\"no sample\")"
   ]
  },
  {
   "cell_type": "markdown",
   "metadata": {},
   "source": [
    "Here, we define a simple function to benchmark the time it takes to insert n points with either numeric or array data type.\n",
    "We will compare both the time used to call ``add_result`` and the time used for the full measurement."
   ]
  },
  {
   "cell_type": "code",
   "execution_count": 4,
   "metadata": {
    "execution": {
     "iopub.execute_input": "2020-10-30T10:35:16.779427Z",
     "iopub.status.busy": "2020-10-30T10:35:16.778870Z",
     "iopub.status.idle": "2020-10-30T10:35:16.782321Z",
     "shell.execute_reply": "2020-10-30T10:35:16.782745Z"
    }
   },
   "outputs": [],
   "source": [
    "def insert_data(paramtype, npoints, nreps=1):\n",
    "\n",
    "    meas = Measurement(exp=exp)\n",
    "\n",
    "    x1 = ManualParameter('x1')\n",
    "    x2 = ManualParameter('x2')\n",
    "    x3 = ManualParameter('x3')\n",
    "    y1 = ManualParameter('y1')\n",
    "    y2 = ManualParameter('y2')\n",
    "\n",
    "    meas.register_parameter(x1, paramtype=paramtype)\n",
    "    meas.register_parameter(x2, paramtype=paramtype)\n",
    "    meas.register_parameter(x3, paramtype=paramtype)\n",
    "    meas.register_parameter(y1, setpoints=[x1, x2, x3],\n",
    "                            paramtype=paramtype)\n",
    "    meas.register_parameter(y2, setpoints=[x1, x2, x3],\n",
    "                            paramtype=paramtype)\n",
    "    start = time.perf_counter()\n",
    "    with meas.run() as datasaver:\n",
    "        start_adding = time.perf_counter()\n",
    "        for i in range(nreps):\n",
    "            datasaver.add_result((x1, np.random.rand(npoints)),\n",
    "                                 (x2, np.random.rand(npoints)),\n",
    "                                 (x3, np.random.rand(npoints)),\n",
    "                                 (y1, np.random.rand(npoints)),\n",
    "                                 (y2, np.random.rand(npoints)))\n",
    "        stop_adding = time.perf_counter()\n",
    "        run_id = datasaver.run_id\n",
    "    stop = time.perf_counter()\n",
    "    tot_time = stop - start\n",
    "    add_time = stop_adding - start_adding\n",
    "    return tot_time, add_time, run_id"
   ]
  },
  {
   "cell_type": "markdown",
   "metadata": {},
   "source": [
    "## Comparison between numeric/array data and binary blob"
   ]
  },
  {
   "cell_type": "markdown",
   "metadata": {},
   "source": [
    "### Case1: Short experiment time"
   ]
  },
  {
   "cell_type": "code",
   "execution_count": 5,
   "metadata": {
    "execution": {
     "iopub.execute_input": "2020-10-30T10:35:16.789050Z",
     "iopub.status.busy": "2020-10-30T10:35:16.787576Z",
     "iopub.status.idle": "2020-10-30T10:35:17.605104Z",
     "shell.execute_reply": "2020-10-30T10:35:17.605851Z"
    }
   },
   "outputs": [
    {
     "name": "stdout",
     "output_type": "stream",
     "text": [
      "Starting experimental run with id: 1. \n",
      "Starting experimental run with id: 2. \n",
      "Starting experimental run with id: 3. \n",
      "Starting experimental run with id: 4. \n",
      "Starting experimental run with id: 5. \n"
     ]
    },
    {
     "name": "stdout",
     "output_type": "stream",
     "text": [
      "Starting experimental run with id: 6. \n"
     ]
    },
    {
     "name": "stdout",
     "output_type": "stream",
     "text": [
      "Starting experimental run with id: 7. \n"
     ]
    },
    {
     "name": "stdout",
     "output_type": "stream",
     "text": [
      "Starting experimental run with id: 8. \n",
      "Starting experimental run with id: 9. \n"
     ]
    },
    {
     "name": "stdout",
     "output_type": "stream",
     "text": [
      "Starting experimental run with id: 10. \n",
      "Starting experimental run with id: 11. \n"
     ]
    },
    {
     "name": "stdout",
     "output_type": "stream",
     "text": [
      "Starting experimental run with id: 12. \n"
     ]
    },
    {
     "name": "stdout",
     "output_type": "stream",
     "text": [
      "Starting experimental run with id: 13. \n"
     ]
    },
    {
     "name": "stdout",
     "output_type": "stream",
     "text": [
      "Starting experimental run with id: 14. \n"
     ]
    }
   ],
   "source": [
    "sizes = [1,500,1000,2000,3000,4000,5000]\n",
    "t_numeric = []\n",
    "t_numeric_add = []\n",
    "t_array = []\n",
    "t_array_add = []\n",
    "for size in sizes:\n",
    "    tn, tna, run_id_n =  insert_data('numeric', size)\n",
    "    t_numeric.append(tn)\n",
    "    t_numeric_add.append(tna)\n",
    "\n",
    "    ta, taa, run_id_a =  insert_data('array', size)\n",
    "    t_array.append(ta)\n",
    "    t_array_add.append(taa)"
   ]
  },
  {
   "cell_type": "code",
   "execution_count": 6,
   "metadata": {
    "execution": {
     "iopub.execute_input": "2020-10-30T10:35:17.633977Z",
     "iopub.status.busy": "2020-10-30T10:35:17.623098Z",
     "iopub.status.idle": "2020-10-30T10:35:17.810268Z",
     "shell.execute_reply": "2020-10-30T10:35:17.810908Z"
    }
   },
   "outputs": [
    {
     "data": {
      "image/png": "[encoded data removed]",
      "text/plain": [
       "<Figure size 432x288 with 1 Axes>"
      ]
     },
     "metadata": {
      "needs_background": "light"
     },
     "output_type": "display_data"
    }
   ],
   "source": [
    "fig, ax = plt.subplots(1,1)\n",
    "ax.plot(sizes, t_numeric, 'o-', label='Inserting row-by-row')\n",
    "ax.plot(sizes, t_numeric_add, 'o-', label='Inserting row-by-row: add_result only')\n",
    "ax.plot(sizes, t_array, 'd-', label='Inserting as binary blob')\n",
    "ax.plot(sizes, t_array_add, 'd-', label='Inserting as binary blob: add_result only')\n",
    "ax.legend()\n",
    "ax.set_xlabel('Array length')\n",
    "ax.set_ylabel('Time (s)')\n",
    "fig.tight_layout()"
   ]
  },
  {
   "cell_type": "markdown",
   "metadata": {},
   "source": [
    "As shown in the latter figure, the time to setup and and close the experiment is approximately 0.4 sec. In case of small array sizes, the difference between inserting values of data as arrays and inserting them row-by-row is relatively unimportant. At larger array sizes, i.e. above 10000 points, the cost of writing data as individual datapoints starts to become important.\n"
   ]
  },
  {
   "cell_type": "markdown",
   "metadata": {},
   "source": [
    "### Case2: Long experiment time "
   ]
  },
  {
   "cell_type": "code",
   "execution_count": 7,
   "metadata": {
    "execution": {
     "iopub.execute_input": "2020-10-30T10:35:17.817596Z",
     "iopub.status.busy": "2020-10-30T10:35:17.816449Z",
     "iopub.status.idle": "2020-10-30T10:36:14.509386Z",
     "shell.execute_reply": "2020-10-30T10:36:14.508887Z"
    }
   },
   "outputs": [
    {
     "name": "stdout",
     "output_type": "stream",
     "text": [
      "Starting experimental run with id: 15. \n",
      "Starting experimental run with id: 16. \n",
      "Starting experimental run with id: 17. \n"
     ]
    },
    {
     "name": "stdout",
     "output_type": "stream",
     "text": [
      "Starting experimental run with id: 18. \n",
      "Starting experimental run with id: 19. \n"
     ]
    },
    {
     "name": "stdout",
     "output_type": "stream",
     "text": [
      "Starting experimental run with id: 20. \n"
     ]
    },
    {
     "name": "stdout",
     "output_type": "stream",
     "text": [
      "Starting experimental run with id: 21. \n"
     ]
    },
    {
     "name": "stdout",
     "output_type": "stream",
     "text": [
      "Starting experimental run with id: 22. \n"
     ]
    },
    {
     "name": "stdout",
     "output_type": "stream",
     "text": [
      "Starting experimental run with id: 23. \n"
     ]
    },
    {
     "name": "stdout",
     "output_type": "stream",
     "text": [
      "Starting experimental run with id: 24. \n"
     ]
    },
    {
     "name": "stdout",
     "output_type": "stream",
     "text": [
      "Starting experimental run with id: 25. \n"
     ]
    },
    {
     "name": "stdout",
     "output_type": "stream",
     "text": [
      "Starting experimental run with id: 26. \n"
     ]
    },
    {
     "name": "stdout",
     "output_type": "stream",
     "text": [
      "Starting experimental run with id: 27. \n"
     ]
    },
    {
     "name": "stdout",
     "output_type": "stream",
     "text": [
      "Starting experimental run with id: 28. \n"
     ]
    }
   ],
   "source": [
    "sizes = [1,500,1000,2000,3000,4000,5000]\n",
    "nreps = 100\n",
    "t_numeric = []\n",
    "t_numeric_add = []\n",
    "t_numeric_run_ids = []\n",
    "t_array = []\n",
    "t_array_add = []\n",
    "t_array_run_ids = []\n",
    "for size in sizes:\n",
    "    tn, tna, run_id_n =  insert_data('numeric', size, nreps=nreps)\n",
    "    t_numeric.append(tn)\n",
    "    t_numeric_add.append(tna)\n",
    "    t_numeric_run_ids.append(run_id_n)\n",
    "\n",
    "    ta, taa, run_id_a =  insert_data('array', size, nreps=nreps)\n",
    "    t_array.append(ta)\n",
    "    t_array_add.append(taa)\n",
    "    t_array_run_ids.append(run_id_a)"
   ]
  },
  {
   "cell_type": "code",
   "execution_count": 8,
   "metadata": {
    "execution": {
     "iopub.execute_input": "2020-10-30T10:36:14.545225Z",
     "iopub.status.busy": "2020-10-30T10:36:14.535743Z",
     "iopub.status.idle": "2020-10-30T10:36:14.725781Z",
     "shell.execute_reply": "2020-10-30T10:36:14.725264Z"
    },
    "scrolled": true
   },
   "outputs": [
    {
     "data": {
      "image/png": "[encoded data removed]",
      "text/plain": [
       "<Figure size 432x288 with 1 Axes>"
      ]
     },
     "metadata": {
      "needs_background": "light"
     },
     "output_type": "display_data"
    }
   ],
   "source": [
    "fig, ax = plt.subplots(1,1)\n",
    "ax.plot(sizes, t_numeric, 'o-', label='Inserting row-by-row')\n",
    "ax.plot(sizes, t_numeric_add, 'o-', label='Inserting row-by-row: add_result only')\n",
    "ax.plot(sizes, t_array, 'd-', label='Inserting as binary blob')\n",
    "ax.plot(sizes, t_array_add, 'd-', label='Inserting as binary blob: add_result only')\n",
    "ax.legend()\n",
    "ax.set_xlabel('Array length')\n",
    "ax.set_ylabel('Time (s)')\n",
    "fig.tight_layout()"
   ]
  },
  {
   "cell_type": "markdown",
   "metadata": {},
   "source": [
    "However, as we increase the length of the experiment, as seen here by repeating the insertion 100 times, we see a big difference between inserting values of the data row-by-row and inserting it as a binary blob."
   ]
  },
  {
   "cell_type": "markdown",
   "metadata": {},
   "source": [
    "## Loading the data "
   ]
  },
  {
   "cell_type": "code",
   "execution_count": 9,
   "metadata": {
    "execution": {
     "iopub.execute_input": "2020-10-30T10:36:14.730706Z",
     "iopub.status.busy": "2020-10-30T10:36:14.729457Z",
     "iopub.status.idle": "2020-10-30T10:36:14.731688Z",
     "shell.execute_reply": "2020-10-30T10:36:14.732109Z"
    }
   },
   "outputs": [],
   "source": [
    "from qcodes.dataset.data_set import load_by_id\n",
    "from qcodes.dataset.data_export import get_data_by_id"
   ]
  },
  {
   "cell_type": "markdown",
   "metadata": {},
   "source": [
    "As usual you can load the data by using the ``load_by_id`` function but you will notice that the different storage methods\n",
    "are reflected in shape of the data as it is retrieved. "
   ]
  },
  {
   "cell_type": "code",
   "execution_count": 10,
   "metadata": {
    "execution": {
     "iopub.execute_input": "2020-10-30T10:36:14.737862Z",
     "iopub.status.busy": "2020-10-30T10:36:14.735080Z",
     "iopub.status.idle": "2020-10-30T10:36:14.738458Z",
     "shell.execute_reply": "2020-10-30T10:36:14.738914Z"
    }
   },
   "outputs": [],
   "source": [
    "run_id_n = t_numeric_run_ids[0]\n",
    "run_id_a = t_array_run_ids[0]"
   ]
  },
  {
   "cell_type": "code",
   "execution_count": 11,
   "metadata": {
    "execution": {
     "iopub.execute_input": "2020-10-30T10:36:14.741943Z",
     "iopub.status.busy": "2020-10-30T10:36:14.741368Z",
     "iopub.status.idle": "2020-10-30T10:36:14.750470Z",
     "shell.execute_reply": "2020-10-30T10:36:14.750951Z"
    },
    "scrolled": true
   },
   "outputs": [
    {
     "data": {
      "text/plain": [
       "{'x1': {'x1': array([0.24117038, 0.24117038, 0.15395457, 0.15395457, 0.21117856,\n",
       "         0.21117856, 0.38329944, 0.38329944, 0.4297097 , 0.4297097 ,\n",
       "         0.18221641, 0.18221641, 0.66693454, 0.66693454, 0.76494274,\n",
       "         0.76494274, 0.1881364 , 0.1881364 , 0.16263195, 0.16263195,\n",
       "         0.93504024, 0.93504024, 0.88711035, 0.88711035, 0.26207008,\n",
       "         0.26207008, 0.82235973, 0.82235973, 0.29124227, 0.29124227,\n",
       "         0.29801208, 0.29801208, 0.19571004, 0.19571004, 0.15007096,\n",
       "         0.15007096, 0.4726746 , 0.4726746 , 0.94403066, 0.94403066,\n",
       "         0.25090258, 0.25090258, 0.17239742, 0.17239742, 0.68958592,\n",
       "         0.68958592, 0.09447561, 0.09447561, 0.54932589, 0.54932589,\n",
       "         0.77046237, 0.77046237, 0.57065944, 0.57065944, 0.14832514,\n",
       "         0.14832514, 0.51841035, 0.51841035, 0.45766071, 0.45766071,\n",
       "         0.57123985, 0.57123985, 0.14777198, 0.14777198, 0.87201004,\n",
       "         0.87201004, 0.18255216, 0.18255216, 0.84191098, 0.84191098,\n",
       "         0.66409207, 0.66409207, 0.24666715, 0.24666715, 0.21267716,\n",
       "         0.21267716, 0.39271179, 0.39271179, 0.5282632 , 0.5282632 ,\n",
       "         0.96512367, 0.96512367, 0.32762717, 0.32762717, 0.4758063 ,\n",
       "         0.4758063 , 0.10131836, 0.10131836, 0.67655532, 0.67655532,\n",
       "         0.3912364 , 0.3912364 , 0.0443223 , 0.0443223 , 0.97948148,\n",
       "         0.97948148, 0.11786696, 0.11786696, 0.76599011, 0.76599011,\n",
       "         0.67572521, 0.67572521, 0.91501186, 0.91501186, 0.88314341,\n",
       "         0.88314341, 0.29330935, 0.29330935, 0.5563968 , 0.5563968 ,\n",
       "         0.06950465, 0.06950465, 0.45529101, 0.45529101, 0.39221327,\n",
       "         0.39221327, 0.76953146, 0.76953146, 0.48980073, 0.48980073,\n",
       "         0.99814466, 0.99814466, 0.04524653, 0.04524653, 0.5083704 ,\n",
       "         0.5083704 , 0.29255018, 0.29255018, 0.57140416, 0.57140416,\n",
       "         0.43965739, 0.43965739, 0.40840456, 0.40840456, 0.16608243,\n",
       "         0.16608243, 0.55796452, 0.55796452, 0.06497851, 0.06497851,\n",
       "         0.78661817, 0.78661817, 0.6133886 , 0.6133886 , 0.47867447,\n",
       "         0.47867447, 0.71145604, 0.71145604, 0.69151539, 0.69151539,\n",
       "         0.8465436 , 0.8465436 , 0.4705081 , 0.4705081 , 0.89830981,\n",
       "         0.89830981, 0.08823064, 0.08823064, 0.96123934, 0.96123934,\n",
       "         0.211047  , 0.211047  , 0.01229525, 0.01229525, 0.51223068,\n",
       "         0.51223068, 0.16486471, 0.16486471, 0.54882945, 0.54882945,\n",
       "         0.71850059, 0.71850059, 0.78114005, 0.78114005, 0.24080882,\n",
       "         0.24080882, 0.7076159 , 0.7076159 , 0.14485438, 0.14485438,\n",
       "         0.86445722, 0.86445722, 0.12357686, 0.12357686, 0.81444363,\n",
       "         0.81444363, 0.7462    , 0.7462    , 0.70010249, 0.70010249,\n",
       "         0.38647123, 0.38647123, 0.06126602, 0.06126602, 0.85437196,\n",
       "         0.85437196, 0.95536518, 0.95536518, 0.62538961, 0.62538961])}}"
      ]
     },
     "execution_count": 1,
     "metadata": {},
     "output_type": "execute_result"
    }
   ],
   "source": [
    "ds = load_by_id(run_id_n)\n",
    "ds.get_parameter_data('x1')"
   ]
  },
  {
   "cell_type": "markdown",
   "metadata": {},
   "source": [
    "And a dataset stored as binary arrays"
   ]
  },
  {
   "cell_type": "code",
   "execution_count": 12,
   "metadata": {
    "execution": {
     "iopub.execute_input": "2020-10-30T10:36:14.754406Z",
     "iopub.status.busy": "2020-10-30T10:36:14.753843Z",
     "iopub.status.idle": "2020-10-30T10:36:14.814691Z",
     "shell.execute_reply": "2020-10-30T10:36:14.814162Z"
    },
    "scrolled": true
   },
   "outputs": [
    {
     "data": {
      "text/plain": [
       "{'x1': {'x1': array([[0.07296471],\n",
       "         [0.07296471],\n",
       "         [0.98719721],\n",
       "         [0.98719721],\n",
       "         [0.15225258],\n",
       "         [0.15225258],\n",
       "         [0.35857162],\n",
       "         [0.35857162],\n",
       "         [0.30463675],\n",
       "         [0.30463675],\n",
       "         [0.6153197 ],\n",
       "         [0.6153197 ],\n",
       "         [0.05359753],\n",
       "         [0.05359753],\n",
       "         [0.75952944],\n",
       "         [0.75952944],\n",
       "         [0.68933343],\n",
       "         [0.68933343],\n",
       "         [0.6461452 ],\n",
       "         [0.6461452 ],\n",
       "         [0.47993467],\n",
       "         [0.47993467],\n",
       "         [0.85302449],\n",
       "         [0.85302449],\n",
       "         [0.87346314],\n",
       "         [0.87346314],\n",
       "         [0.83343673],\n",
       "         [0.83343673],\n",
       "         [0.94800284],\n",
       "         [0.94800284],\n",
       "         [0.58751315],\n",
       "         [0.58751315],\n",
       "         [0.96865245],\n",
       "         [0.96865245],\n",
       "         [0.54102932],\n",
       "         [0.54102932],\n",
       "         [0.35166579],\n",
       "         [0.35166579],\n",
       "         [0.39601315],\n",
       "         [0.39601315],\n",
       "         [0.60176421],\n",
       "         [0.60176421],\n",
       "         [0.10516951],\n",
       "         [0.10516951],\n",
       "         [0.52175919],\n",
       "         [0.52175919],\n",
       "         [0.58305904],\n",
       "         [0.58305904],\n",
       "         [0.01358622],\n",
       "         [0.01358622],\n",
       "         [0.35891944],\n",
       "         [0.35891944],\n",
       "         [0.63190308],\n",
       "         [0.63190308],\n",
       "         [0.48630128],\n",
       "         [0.48630128],\n",
       "         [0.02466203],\n",
       "         [0.02466203],\n",
       "         [0.26277433],\n",
       "         [0.26277433],\n",
       "         [0.1776406 ],\n",
       "         [0.1776406 ],\n",
       "         [0.99775508],\n",
       "         [0.99775508],\n",
       "         [0.47821044],\n",
       "         [0.47821044],\n",
       "         [0.8420978 ],\n",
       "         [0.8420978 ],\n",
       "         [0.23934151],\n",
       "         [0.23934151],\n",
       "         [0.38384735],\n",
       "         [0.38384735],\n",
       "         [0.58231288],\n",
       "         [0.58231288],\n",
       "         [0.74397564],\n",
       "         [0.74397564],\n",
       "         [0.39716414],\n",
       "         [0.39716414],\n",
       "         [0.04948867],\n",
       "         [0.04948867],\n",
       "         [0.47072335],\n",
       "         [0.47072335],\n",
       "         [0.29449406],\n",
       "         [0.29449406],\n",
       "         [0.4972469 ],\n",
       "         [0.4972469 ],\n",
       "         [0.39363625],\n",
       "         [0.39363625],\n",
       "         [0.41656934],\n",
       "         [0.41656934],\n",
       "         [0.1311621 ],\n",
       "         [0.1311621 ],\n",
       "         [0.64218126],\n",
       "         [0.64218126],\n",
       "         [0.34895539],\n",
       "         [0.34895539],\n",
       "         [0.65128537],\n",
       "         [0.65128537],\n",
       "         [0.14842893],\n",
       "         [0.14842893],\n",
       "         [0.6478861 ],\n",
       "         [0.6478861 ],\n",
       "         [0.02727603],\n",
       "         [0.02727603],\n",
       "         [0.94476624],\n",
       "         [0.94476624],\n",
       "         [0.25204219],\n",
       "         [0.25204219],\n",
       "         [0.78888707],\n",
       "         [0.78888707],\n",
       "         [0.70084099],\n",
       "         [0.70084099],\n",
       "         [0.05680739],\n",
       "         [0.05680739],\n",
       "         [0.27845393],\n",
       "         [0.27845393],\n",
       "         [0.60215173],\n",
       "         [0.60215173],\n",
       "         [0.22770918],\n",
       "         [0.22770918],\n",
       "         [0.78433716],\n",
       "         [0.78433716],\n",
       "         [0.36682585],\n",
       "         [0.36682585],\n",
       "         [0.28179949],\n",
       "         [0.28179949],\n",
       "         [0.47130398],\n",
       "         [0.47130398],\n",
       "         [0.41793558],\n",
       "         [0.41793558],\n",
       "         [0.86994071],\n",
       "         [0.86994071],\n",
       "         [0.72569081],\n",
       "         [0.72569081],\n",
       "         [0.08333666],\n",
       "         [0.08333666],\n",
       "         [0.04367785],\n",
       "         [0.04367785],\n",
       "         [0.15070659],\n",
       "         [0.15070659],\n",
       "         [0.01603181],\n",
       "         [0.01603181],\n",
       "         [0.42631247],\n",
       "         [0.42631247],\n",
       "         [0.28355975],\n",
       "         [0.28355975],\n",
       "         [0.70252122],\n",
       "         [0.70252122],\n",
       "         [0.28396761],\n",
       "         [0.28396761],\n",
       "         [0.29414074],\n",
       "         [0.29414074],\n",
       "         [0.90747332],\n",
       "         [0.90747332],\n",
       "         [0.73174218],\n",
       "         [0.73174218],\n",
       "         [0.23120438],\n",
       "         [0.23120438],\n",
       "         [0.89650123],\n",
       "         [0.89650123],\n",
       "         [0.56014606],\n",
       "         [0.56014606],\n",
       "         [0.56100742],\n",
       "         [0.56100742],\n",
       "         [0.64129626],\n",
       "         [0.64129626],\n",
       "         [0.90857207],\n",
       "         [0.90857207],\n",
       "         [0.7206121 ],\n",
       "         [0.7206121 ],\n",
       "         [0.03397589],\n",
       "         [0.03397589],\n",
       "         [0.32349474],\n",
       "         [0.32349474],\n",
       "         [0.25946835],\n",
       "         [0.25946835],\n",
       "         [0.93234745],\n",
       "         [0.93234745],\n",
       "         [0.17090141],\n",
       "         [0.17090141],\n",
       "         [0.0037596 ],\n",
       "         [0.0037596 ],\n",
       "         [0.97906819],\n",
       "         [0.97906819],\n",
       "         [0.83818242],\n",
       "         [0.83818242],\n",
       "         [0.76689766],\n",
       "         [0.76689766],\n",
       "         [0.45280389],\n",
       "         [0.45280389],\n",
       "         [0.30591732],\n",
       "         [0.30591732],\n",
       "         [0.60051326],\n",
       "         [0.60051326],\n",
       "         [0.1802673 ],\n",
       "         [0.1802673 ],\n",
       "         [0.9855939 ],\n",
       "         [0.9855939 ],\n",
       "         [0.56401928],\n",
       "         [0.56401928]])}}"
      ]
     },
     "execution_count": 1,
     "metadata": {},
     "output_type": "execute_result"
    }
   ],
   "source": [
    "ds = load_by_id(run_id_a)\n",
    "ds.get_parameter_data('x1')"
   ]
  },
  {
   "cell_type": "code",
   "execution_count": null,
   "metadata": {},
   "outputs": [],
   "source": []
  }
 ],
 "metadata": {
  "kernelspec": {
   "display_name": "Python 3",
   "language": "python",
   "name": "python3"
  },
  "language_info": {
   "codemirror_mode": {
    "name": "ipython",
    "version": 3
   },
   "file_extension": ".py",
   "mimetype": "text/x-python",
   "name": "python",
   "nbconvert_exporter": "python",
   "pygments_lexer": "ipython3",
   "version": "3.7.9"
  },
  "nbsphinx": {
   "timeout": 600
  },
  "toc": {
   "base_numbering": 1,
   "nav_menu": {},
   "number_sections": true,
   "sideBar": true,
   "skip_h1_title": false,
   "title_cell": "Table of Contents",
   "title_sidebar": "Contents",
   "toc_cell": false,
   "toc_position": {},
   "toc_section_display": true,
   "toc_window_display": false
  },
  "varInspector": {
   "cols": {
    "lenName": 16,
    "lenType": 16,
    "lenVar": 40
   },
   "kernels_config": {
    "python": {
     "delete_cmd_postfix": "",
     "delete_cmd_prefix": "del ",
     "library": "var_list.py",
     "varRefreshCmd": "print(var_dic_list())"
    },
    "r": {
     "delete_cmd_postfix": ") ",
     "delete_cmd_prefix": "rm(",
     "library": "var_list.r",
     "varRefreshCmd": "cat(var_dic_list()) "
    }
   },
   "types_to_exclude": [
    "module",
    "function",
    "builtin_function_or_method",
    "instance",
    "_Feature"
   ],
   "window_display": false
  }
 },
 "nbformat": 4,
 "nbformat_minor": 2
}
