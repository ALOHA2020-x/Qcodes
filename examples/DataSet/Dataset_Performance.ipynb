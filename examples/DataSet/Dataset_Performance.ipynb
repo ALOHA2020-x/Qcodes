{
 "cells": [
  {
   "cell_type": "markdown",
   "metadata": {},
   "source": [
    "# DataSet Performance\n",
    "\n",
    "This notebook shows the trade-off between inserting data into a database row-by-row and as binary blobs. Inserting the data row-by-row means that we have direct access to all the data and may perform queries directly on the values of the data. On the other hand, as we shall see, this is much slower than inserting the data directly as binary blobs."
   ]
  },
  {
   "cell_type": "markdown",
   "metadata": {},
   "source": [
    "First, we choose a new location for the database to ensure that we don't add a bunch of benchmarking data to the default one."
   ]
  },
  {
   "cell_type": "code",
   "execution_count": 1,
   "metadata": {},
   "outputs": [
    {
     "name": "stdout",
     "output_type": "stream",
     "text": [
      "Logging hadn't been started.\n",
      "Activating auto-logging. Current session state plus future input saved.\n",
      "Filename       : /home/vsts/.qcodes/logs/command_history.log\n",
      "Mode           : append\n",
      "Output logging : True\n",
      "Raw input log  : False\n",
      "Timestamping   : True\n",
      "State          : active\n"
     ]
    },
    {
     "name": "stdout",
     "output_type": "stream",
     "text": [
      "Qcodes Logfile : /home/vsts/.qcodes/logs/200609-20330-qcodes.log\n"
     ]
    }
   ],
   "source": [
    "import os\n",
    "cwd = os.getcwd()\n",
    "import qcodes as qc\n",
    "qc.config[\"core\"][\"db_location\"] = os.path.join(cwd, 'testing.db')\n"
   ]
  },
  {
   "cell_type": "code",
   "execution_count": 2,
   "metadata": {},
   "outputs": [],
   "source": [
    "%matplotlib inline\n",
    "import time\n",
    "import matplotlib.pyplot as plt\n",
    "import numpy as np\n",
    "\n",
    "import qcodes as qc\n",
    "from qcodes.instrument.parameter import ManualParameter\n",
    "from qcodes.dataset.experiment_container import (Experiment,\n",
    "                                                 load_last_experiment,\n",
    "                                                 new_experiment)\n",
    "from qcodes.dataset.sqlite.database import initialise_database\n",
    "from qcodes import load_or_create_experiment\n",
    "from qcodes.dataset.measurements import Measurement"
   ]
  },
  {
   "cell_type": "code",
   "execution_count": 3,
   "metadata": {},
   "outputs": [
    {
     "name": "stdout",
     "output_type": "stream",
     "text": [
      "\r",
      "0it [00:00, ?it/s]"
     ]
    },
    {
     "name": "stdout",
     "output_type": "stream",
     "text": [
      "\r",
      "Upgrading database; v0 -> v1: : 0it [00:00, ?it/s]"
     ]
    },
    {
     "name": "stdout",
     "output_type": "stream",
     "text": [
      "\r",
      "Upgrading database; v0 -> v1: : 0it [00:00, ?it/s]"
     ]
    },
    {
     "name": "stdout",
     "output_type": "stream",
     "text": [
      "\n",
      "\r",
      "  0%|          | 0/1 [00:00<?, ?it/s]"
     ]
    },
    {
     "name": "stdout",
     "output_type": "stream",
     "text": [
      "\r",
      "Upgrading database; v1 -> v2:   0%|          | 0/1 [00:00<?, ?it/s]"
     ]
    },
    {
     "name": "stdout",
     "output_type": "stream",
     "text": [
      "\r",
      "Upgrading database; v1 -> v2: 100%|██████████| 1/1 [00:00<00:00, 645.67it/s]"
     ]
    },
    {
     "name": "stdout",
     "output_type": "stream",
     "text": [
      "\n",
      "\r",
      "0it [00:00, ?it/s]"
     ]
    },
    {
     "name": "stdout",
     "output_type": "stream",
     "text": [
      "\r",
      "Upgrading database; v2 -> v3: : 0it [00:00, ?it/s]"
     ]
    },
    {
     "name": "stdout",
     "output_type": "stream",
     "text": [
      "\r",
      "Upgrading database; v2 -> v3: : 0it [00:00, ?it/s]"
     ]
    },
    {
     "name": "stdout",
     "output_type": "stream",
     "text": [
      "\n",
      "\r",
      "0it [00:00, ?it/s]"
     ]
    },
    {
     "name": "stdout",
     "output_type": "stream",
     "text": [
      "\r",
      "Upgrading database; v3 -> v4: : 0it [00:00, ?it/s]"
     ]
    },
    {
     "name": "stdout",
     "output_type": "stream",
     "text": [
      "\r",
      "Upgrading database; v3 -> v4: : 0it [00:00, ?it/s]"
     ]
    },
    {
     "name": "stdout",
     "output_type": "stream",
     "text": [
      "\n",
      "\r",
      "  0%|          | 0/1 [00:00<?, ?it/s]"
     ]
    },
    {
     "name": "stdout",
     "output_type": "stream",
     "text": [
      "\r",
      "Upgrading database; v4 -> v5:   0%|          | 0/1 [00:00<?, ?it/s]"
     ]
    },
    {
     "name": "stdout",
     "output_type": "stream",
     "text": [
      "\r",
      "Upgrading database; v4 -> v5: 100%|██████████| 1/1 [00:00<00:00, 707.90it/s]"
     ]
    },
    {
     "name": "stdout",
     "output_type": "stream",
     "text": [
      "\n",
      "\r",
      "0it [00:00, ?it/s]"
     ]
    },
    {
     "name": "stdout",
     "output_type": "stream",
     "text": [
      "\r",
      "Upgrading database; v5 -> v6: : 0it [00:00, ?it/s]"
     ]
    },
    {
     "name": "stdout",
     "output_type": "stream",
     "text": [
      "\r",
      "Upgrading database; v5 -> v6: : 0it [00:00, ?it/s]"
     ]
    },
    {
     "name": "stdout",
     "output_type": "stream",
     "text": [
      "\n",
      "\r",
      "  0%|          | 0/1 [00:00<?, ?it/s]"
     ]
    },
    {
     "name": "stdout",
     "output_type": "stream",
     "text": [
      "\r",
      "Upgrading database; v6 -> v7:   0%|          | 0/1 [00:00<?, ?it/s]"
     ]
    },
    {
     "name": "stdout",
     "output_type": "stream",
     "text": [
      "\r",
      "Upgrading database; v6 -> v7: 100%|██████████| 1/1 [00:00<00:00, 53.97it/s]"
     ]
    },
    {
     "name": "stdout",
     "output_type": "stream",
     "text": [
      "\n",
      "\r",
      "  0%|          | 0/1 [00:00<?, ?it/s]"
     ]
    },
    {
     "name": "stdout",
     "output_type": "stream",
     "text": [
      "\r",
      "Upgrading database; v7 -> v8:   0%|          | 0/1 [00:00<?, ?it/s]"
     ]
    },
    {
     "name": "stdout",
     "output_type": "stream",
     "text": [
      "\r",
      "Upgrading database; v7 -> v8: 100%|██████████| 1/1 [00:00<00:00, 821.77it/s]"
     ]
    },
    {
     "name": "stdout",
     "output_type": "stream",
     "text": [
      "\n"
     ]
    },
    {
     "name": "stdout",
     "output_type": "stream",
     "text": [
      "\r",
      "  0%|          | 0/1 [00:00<?, ?it/s]"
     ]
    },
    {
     "name": "stdout",
     "output_type": "stream",
     "text": [
      "\r",
      "Upgrading database; v8 -> v9:   0%|          | 0/1 [00:00<?, ?it/s]"
     ]
    },
    {
     "name": "stdout",
     "output_type": "stream",
     "text": [
      "\r",
      "Upgrading database; v8 -> v9: 100%|██████████| 1/1 [00:00<00:00, 764.97it/s]"
     ]
    },
    {
     "name": "stdout",
     "output_type": "stream",
     "text": [
      "\n"
     ]
    }
   ],
   "source": [
    "initialise_database()\n",
    "exp = load_or_create_experiment(experiment_name='tutorial_exp', sample_name=\"no sample\")"
   ]
  },
  {
   "cell_type": "markdown",
   "metadata": {},
   "source": [
    "Here, we define a simple function to benchmark the time it takes to insert n points with either numeric or array data type.\n",
    "We will compare both the time used to call ``add_result`` and the time used for the full measurement."
   ]
  },
  {
   "cell_type": "code",
   "execution_count": 4,
   "metadata": {},
   "outputs": [],
   "source": [
    "def insert_data(paramtype, npoints, nreps=1):\n",
    "\n",
    "    meas = Measurement(exp=exp)\n",
    "\n",
    "    x1 = ManualParameter('x1')\n",
    "    x2 = ManualParameter('x2')\n",
    "    x3 = ManualParameter('x3')\n",
    "    y1 = ManualParameter('y1')\n",
    "    y2 = ManualParameter('y2')\n",
    "\n",
    "    meas.register_parameter(x1, paramtype=paramtype)\n",
    "    meas.register_parameter(x2, paramtype=paramtype)\n",
    "    meas.register_parameter(x3, paramtype=paramtype)\n",
    "    meas.register_parameter(y1, setpoints=[x1, x2, x3],\n",
    "                            paramtype=paramtype)\n",
    "    meas.register_parameter(y2, setpoints=[x1, x2, x3],\n",
    "                            paramtype=paramtype)\n",
    "    start = time.perf_counter()\n",
    "    with meas.run() as datasaver:\n",
    "        start_adding = time.perf_counter()\n",
    "        for i in range(nreps):\n",
    "            datasaver.add_result((x1, np.random.rand(npoints)),\n",
    "                                 (x2, np.random.rand(npoints)),\n",
    "                                 (x3, np.random.rand(npoints)),\n",
    "                                 (y1, np.random.rand(npoints)),\n",
    "                                 (y2, np.random.rand(npoints)))\n",
    "        stop_adding = time.perf_counter()\n",
    "        run_id = datasaver.run_id\n",
    "    stop = time.perf_counter()\n",
    "    tot_time = stop - start\n",
    "    add_time = stop_adding - start_adding\n",
    "    return tot_time, add_time, run_id"
   ]
  },
  {
   "cell_type": "markdown",
   "metadata": {},
   "source": [
    "## Comparison between numeric/array data and binary blob"
   ]
  },
  {
   "cell_type": "markdown",
   "metadata": {},
   "source": [
    "### Case1: Short experiment time"
   ]
  },
  {
   "cell_type": "code",
   "execution_count": 5,
   "metadata": {},
   "outputs": [
    {
     "name": "stdout",
     "output_type": "stream",
     "text": [
      "Starting experimental run with id: 1. \n"
     ]
    },
    {
     "name": "stdout",
     "output_type": "stream",
     "text": [
      "Starting experimental run with id: 2. \n",
      "Starting experimental run with id: 3. \n"
     ]
    },
    {
     "name": "stdout",
     "output_type": "stream",
     "text": [
      "Starting experimental run with id: 4. \n"
     ]
    },
    {
     "name": "stdout",
     "output_type": "stream",
     "text": [
      "Starting experimental run with id: 5. \n",
      "Starting experimental run with id: 6. \n"
     ]
    },
    {
     "name": "stdout",
     "output_type": "stream",
     "text": [
      "Starting experimental run with id: 7. \n",
      "Starting experimental run with id: 8. \n"
     ]
    },
    {
     "name": "stdout",
     "output_type": "stream",
     "text": [
      "Starting experimental run with id: 9. \n",
      "Starting experimental run with id: 10. \n"
     ]
    },
    {
     "name": "stdout",
     "output_type": "stream",
     "text": [
      "Starting experimental run with id: 11. \n",
      "Starting experimental run with id: 12. \n"
     ]
    },
    {
     "name": "stdout",
     "output_type": "stream",
     "text": [
      "Starting experimental run with id: 13. \n"
     ]
    },
    {
     "name": "stdout",
     "output_type": "stream",
     "text": [
      "Starting experimental run with id: 14. \n"
     ]
    }
   ],
   "source": [
    "sizes = [1,500,1000,2000,3000,4000,5000]\n",
    "t_numeric = []\n",
    "t_numeric_add = []\n",
    "t_array = []\n",
    "t_array_add = []\n",
    "for size in sizes:\n",
    "    tn, tna, run_id_n =  insert_data('numeric', size)\n",
    "    t_numeric.append(tn)\n",
    "    t_numeric_add.append(tna)\n",
    "\n",
    "    ta, taa, run_id_a =  insert_data('array', size)\n",
    "    t_array.append(ta)\n",
    "    t_array_add.append(taa)"
   ]
  },
  {
   "cell_type": "code",
   "execution_count": 6,
   "metadata": {},
   "outputs": [
    {
     "data": {
      "image/png": "[encoded data removed]",
      "text/plain": [
       "<Figure size 432x288 with 1 Axes>"
      ]
     },
     "metadata": {
      "needs_background": "light"
     },
     "output_type": "display_data"
    }
   ],
   "source": [
    "fig, ax = plt.subplots(1,1)\n",
    "ax.plot(sizes, t_numeric, 'o-', label='Inserting row-by-row')\n",
    "ax.plot(sizes, t_numeric_add, 'o-', label='Inserting row-by-row: add_result only')\n",
    "ax.plot(sizes, t_array, 'd-', label='Inserting as binary blob')\n",
    "ax.plot(sizes, t_array_add, 'd-', label='Inserting as binary blob: add_result only')\n",
    "ax.legend()\n",
    "ax.set_xlabel('Array length')\n",
    "ax.set_ylabel('Time (s)')\n",
    "fig.tight_layout()"
   ]
  },
  {
   "cell_type": "markdown",
   "metadata": {},
   "source": [
    "As shown in the latter figure, the time to setup and and close the experiment is approximately 0.4 sec. In case of small array sizes, the difference between inserting values of data as arrays and inserting them row-by-row is relatively unimportant. At larger array sizes, i.e. above 10000 points, the cost of writing data as individual datapoints starts to become important.\n"
   ]
  },
  {
   "cell_type": "markdown",
   "metadata": {},
   "source": [
    "### Case2: Long experiment time "
   ]
  },
  {
   "cell_type": "code",
   "execution_count": 7,
   "metadata": {},
   "outputs": [
    {
     "name": "stdout",
     "output_type": "stream",
     "text": [
      "Starting experimental run with id: 15. \n",
      "Starting experimental run with id: 16. \n"
     ]
    },
    {
     "name": "stdout",
     "output_type": "stream",
     "text": [
      "Starting experimental run with id: 17. \n"
     ]
    },
    {
     "name": "stdout",
     "output_type": "stream",
     "text": [
      "Starting experimental run with id: 18. \n",
      "Starting experimental run with id: 19. \n"
     ]
    },
    {
     "name": "stdout",
     "output_type": "stream",
     "text": [
      "Starting experimental run with id: 20. \n"
     ]
    },
    {
     "name": "stdout",
     "output_type": "stream",
     "text": [
      "Starting experimental run with id: 21. \n"
     ]
    },
    {
     "name": "stdout",
     "output_type": "stream",
     "text": [
      "Starting experimental run with id: 22. \n"
     ]
    },
    {
     "name": "stdout",
     "output_type": "stream",
     "text": [
      "Starting experimental run with id: 23. \n"
     ]
    },
    {
     "name": "stdout",
     "output_type": "stream",
     "text": [
      "Starting experimental run with id: 24. \n"
     ]
    },
    {
     "name": "stdout",
     "output_type": "stream",
     "text": [
      "Starting experimental run with id: 25. \n"
     ]
    },
    {
     "name": "stdout",
     "output_type": "stream",
     "text": [
      "Starting experimental run with id: 26. \n"
     ]
    },
    {
     "name": "stdout",
     "output_type": "stream",
     "text": [
      "Starting experimental run with id: 27. \n"
     ]
    },
    {
     "name": "stdout",
     "output_type": "stream",
     "text": [
      "Starting experimental run with id: 28. \n"
     ]
    }
   ],
   "source": [
    "sizes = [1,500,1000,2000,3000,4000,5000]\n",
    "nreps = 100\n",
    "t_numeric = []\n",
    "t_numeric_add = []\n",
    "t_numeric_run_ids = []\n",
    "t_array = []\n",
    "t_array_add = []\n",
    "t_array_run_ids = []\n",
    "for size in sizes:\n",
    "    tn, tna, run_id_n =  insert_data('numeric', size, nreps=nreps)\n",
    "    t_numeric.append(tn)\n",
    "    t_numeric_add.append(tna)\n",
    "    t_numeric_run_ids.append(run_id_n)\n",
    "\n",
    "    ta, taa, run_id_a =  insert_data('array', size, nreps=nreps)\n",
    "    t_array.append(ta)\n",
    "    t_array_add.append(taa)\n",
    "    t_array_run_ids.append(run_id_a)"
   ]
  },
  {
   "cell_type": "code",
   "execution_count": 8,
   "metadata": {
    "scrolled": true
   },
   "outputs": [
    {
     "data": {
      "image/png": "[encoded data removed]",
      "text/plain": [
       "<Figure size 432x288 with 1 Axes>"
      ]
     },
     "metadata": {
      "needs_background": "light"
     },
     "output_type": "display_data"
    }
   ],
   "source": [
    "fig, ax = plt.subplots(1,1)\n",
    "ax.plot(sizes, t_numeric, 'o-', label='Inserting row-by-row')\n",
    "ax.plot(sizes, t_numeric_add, 'o-', label='Inserting row-by-row: add_result only')\n",
    "ax.plot(sizes, t_array, 'd-', label='Inserting as binary blob')\n",
    "ax.plot(sizes, t_array_add, 'd-', label='Inserting as binary blob: add_result only')\n",
    "ax.legend()\n",
    "ax.set_xlabel('Array length')\n",
    "ax.set_ylabel('Time (s)')\n",
    "fig.tight_layout()"
   ]
  },
  {
   "cell_type": "markdown",
   "metadata": {},
   "source": [
    "However, as we increase the length of the experiment, as seen here by repeating the insertion 100 times, we see a big difference between inserting values of the data row-by-row and inserting it as a binary blob."
   ]
  },
  {
   "cell_type": "markdown",
   "metadata": {},
   "source": [
    "## Loading the data "
   ]
  },
  {
   "cell_type": "code",
   "execution_count": 9,
   "metadata": {},
   "outputs": [],
   "source": [
    "from qcodes.dataset.data_set import load_by_id\n",
    "from qcodes.dataset.data_export import get_data_by_id"
   ]
  },
  {
   "cell_type": "markdown",
   "metadata": {},
   "source": [
    "As usual you can load the data by using the ``load_by_id`` function but you will notice that the different storage methods\n",
    "are reflected in shape of the data as it is retrieved. "
   ]
  },
  {
   "cell_type": "code",
   "execution_count": 10,
   "metadata": {},
   "outputs": [],
   "source": [
    "run_id_n = t_numeric_run_ids[0]\n",
    "run_id_a = t_array_run_ids[0]"
   ]
  },
  {
   "cell_type": "code",
   "execution_count": 11,
   "metadata": {
    "scrolled": true
   },
   "outputs": [
    {
     "data": {
      "text/plain": [
       "{'x1': {'x1': array([0.61665858, 0.61665858, 0.51205593, 0.51205593, 0.63063659,\n",
       "         0.63063659, 0.32505271, 0.32505271, 0.55207941, 0.55207941,\n",
       "         0.84917684, 0.84917684, 0.5516489 , 0.5516489 , 0.68556675,\n",
       "         0.68556675, 0.96487391, 0.96487391, 0.1502788 , 0.1502788 ,\n",
       "         0.66428412, 0.66428412, 0.3923538 , 0.3923538 , 0.40418709,\n",
       "         0.40418709, 0.20633915, 0.20633915, 0.86186594, 0.86186594,\n",
       "         0.16785651, 0.16785651, 0.69914777, 0.69914777, 0.62207111,\n",
       "         0.62207111, 0.82042321, 0.82042321, 0.24890986, 0.24890986,\n",
       "         0.08104792, 0.08104792, 0.84030607, 0.84030607, 0.43097768,\n",
       "         0.43097768, 0.54133083, 0.54133083, 0.59937586, 0.59937586,\n",
       "         0.48433327, 0.48433327, 0.18968782, 0.18968782, 0.32255222,\n",
       "         0.32255222, 0.2014859 , 0.2014859 , 0.54027266, 0.54027266,\n",
       "         0.45723955, 0.45723955, 0.41819139, 0.41819139, 0.72064281,\n",
       "         0.72064281, 0.49609599, 0.49609599, 0.07823554, 0.07823554,\n",
       "         0.31361906, 0.31361906, 0.31965067, 0.31965067, 0.99418441,\n",
       "         0.99418441, 0.78676502, 0.78676502, 0.87669964, 0.87669964,\n",
       "         0.61700057, 0.61700057, 0.05688879, 0.05688879, 0.91004075,\n",
       "         0.91004075, 0.32937107, 0.32937107, 0.82376931, 0.82376931,\n",
       "         0.33030857, 0.33030857, 0.41176211, 0.41176211, 0.4198794 ,\n",
       "         0.4198794 , 0.99459778, 0.99459778, 0.78648095, 0.78648095,\n",
       "         0.78134991, 0.78134991, 0.41733266, 0.41733266, 0.78045592,\n",
       "         0.78045592, 0.45268199, 0.45268199, 0.86780886, 0.86780886,\n",
       "         0.37568254, 0.37568254, 0.75979377, 0.75979377, 0.53902554,\n",
       "         0.53902554, 0.42718066, 0.42718066, 0.35015517, 0.35015517,\n",
       "         0.34922329, 0.34922329, 0.09560947, 0.09560947, 0.48727956,\n",
       "         0.48727956, 0.61294915, 0.61294915, 0.9982073 , 0.9982073 ,\n",
       "         0.1973367 , 0.1973367 , 0.94323281, 0.94323281, 0.44850839,\n",
       "         0.44850839, 0.97926794, 0.97926794, 0.76927464, 0.76927464,\n",
       "         0.2201513 , 0.2201513 , 0.84123086, 0.84123086, 0.64892765,\n",
       "         0.64892765, 0.64940283, 0.64940283, 0.37396125, 0.37396125,\n",
       "         0.33164929, 0.33164929, 0.17306341, 0.17306341, 0.49946791,\n",
       "         0.49946791, 0.97984955, 0.97984955, 0.89566223, 0.89566223,\n",
       "         0.79598217, 0.79598217, 0.02419772, 0.02419772, 0.84932999,\n",
       "         0.84932999, 0.65163251, 0.65163251, 0.0939792 , 0.0939792 ,\n",
       "         0.18200601, 0.18200601, 0.3753275 , 0.3753275 , 0.08421187,\n",
       "         0.08421187, 0.36991463, 0.36991463, 0.41591012, 0.41591012,\n",
       "         0.84589993, 0.84589993, 0.11621266, 0.11621266, 0.25678088,\n",
       "         0.25678088, 0.45643648, 0.45643648, 0.84076671, 0.84076671,\n",
       "         0.19098893, 0.19098893, 0.41621301, 0.41621301, 0.29937606,\n",
       "         0.29937606, 0.92792179, 0.92792179, 0.3837176 , 0.3837176 ])}}"
      ]
     },
     "execution_count": 11,
     "metadata": {},
     "output_type": "execute_result"
    }
   ],
   "source": [
    "ds = load_by_id(run_id_n)\n",
    "ds.get_parameter_data('x1')"
   ]
  },
  {
   "cell_type": "markdown",
   "metadata": {},
   "source": [
    "And a dataset stored as binary arrays"
   ]
  },
  {
   "cell_type": "code",
   "execution_count": 12,
   "metadata": {
    "scrolled": true
   },
   "outputs": [
    {
     "data": {
      "text/plain": [
       "{'x1': {'x1': array([[0.47790861],\n",
       "         [0.47790861],\n",
       "         [0.10743475],\n",
       "         [0.10743475],\n",
       "         [0.39618301],\n",
       "         [0.39618301],\n",
       "         [0.62484802],\n",
       "         [0.62484802],\n",
       "         [0.53124704],\n",
       "         [0.53124704],\n",
       "         [0.30528824],\n",
       "         [0.30528824],\n",
       "         [0.31814286],\n",
       "         [0.31814286],\n",
       "         [0.47533301],\n",
       "         [0.47533301],\n",
       "         [0.78253049],\n",
       "         [0.78253049],\n",
       "         [0.09222332],\n",
       "         [0.09222332],\n",
       "         [0.96458741],\n",
       "         [0.96458741],\n",
       "         [0.13397688],\n",
       "         [0.13397688],\n",
       "         [0.51437198],\n",
       "         [0.51437198],\n",
       "         [0.12964183],\n",
       "         [0.12964183],\n",
       "         [0.32835846],\n",
       "         [0.32835846],\n",
       "         [0.5036009 ],\n",
       "         [0.5036009 ],\n",
       "         [0.78724339],\n",
       "         [0.78724339],\n",
       "         [0.91062382],\n",
       "         [0.91062382],\n",
       "         [0.38935145],\n",
       "         [0.38935145],\n",
       "         [0.53800425],\n",
       "         [0.53800425],\n",
       "         [0.02857718],\n",
       "         [0.02857718],\n",
       "         [0.3574014 ],\n",
       "         [0.3574014 ],\n",
       "         [0.33640901],\n",
       "         [0.33640901],\n",
       "         [0.95690357],\n",
       "         [0.95690357],\n",
       "         [0.58129416],\n",
       "         [0.58129416],\n",
       "         [0.14414827],\n",
       "         [0.14414827],\n",
       "         [0.6968742 ],\n",
       "         [0.6968742 ],\n",
       "         [0.38985755],\n",
       "         [0.38985755],\n",
       "         [0.3140588 ],\n",
       "         [0.3140588 ],\n",
       "         [0.7137636 ],\n",
       "         [0.7137636 ],\n",
       "         [0.36329484],\n",
       "         [0.36329484],\n",
       "         [0.56317509],\n",
       "         [0.56317509],\n",
       "         [0.85037145],\n",
       "         [0.85037145],\n",
       "         [0.75364722],\n",
       "         [0.75364722],\n",
       "         [0.06941696],\n",
       "         [0.06941696],\n",
       "         [0.01998317],\n",
       "         [0.01998317],\n",
       "         [0.36551774],\n",
       "         [0.36551774],\n",
       "         [0.84727708],\n",
       "         [0.84727708],\n",
       "         [0.21646127],\n",
       "         [0.21646127],\n",
       "         [0.19845776],\n",
       "         [0.19845776],\n",
       "         [0.3174852 ],\n",
       "         [0.3174852 ],\n",
       "         [0.63669946],\n",
       "         [0.63669946],\n",
       "         [0.35450592],\n",
       "         [0.35450592],\n",
       "         [0.15598263],\n",
       "         [0.15598263],\n",
       "         [0.67803847],\n",
       "         [0.67803847],\n",
       "         [0.80958708],\n",
       "         [0.80958708],\n",
       "         [0.28455419],\n",
       "         [0.28455419],\n",
       "         [0.62448084],\n",
       "         [0.62448084],\n",
       "         [0.41758975],\n",
       "         [0.41758975],\n",
       "         [0.57062836],\n",
       "         [0.57062836],\n",
       "         [0.51355748],\n",
       "         [0.51355748],\n",
       "         [0.27363633],\n",
       "         [0.27363633],\n",
       "         [0.43768569],\n",
       "         [0.43768569],\n",
       "         [0.35875014],\n",
       "         [0.35875014],\n",
       "         [0.05224599],\n",
       "         [0.05224599],\n",
       "         [0.3458324 ],\n",
       "         [0.3458324 ],\n",
       "         [0.24547915],\n",
       "         [0.24547915],\n",
       "         [0.1700663 ],\n",
       "         [0.1700663 ],\n",
       "         [0.29398662],\n",
       "         [0.29398662],\n",
       "         [0.54903435],\n",
       "         [0.54903435],\n",
       "         [0.82196614],\n",
       "         [0.82196614],\n",
       "         [0.13848919],\n",
       "         [0.13848919],\n",
       "         [0.10366412],\n",
       "         [0.10366412],\n",
       "         [0.10496755],\n",
       "         [0.10496755],\n",
       "         [0.15845681],\n",
       "         [0.15845681],\n",
       "         [0.10550531],\n",
       "         [0.10550531],\n",
       "         [0.9779002 ],\n",
       "         [0.9779002 ],\n",
       "         [0.04754323],\n",
       "         [0.04754323],\n",
       "         [0.2851693 ],\n",
       "         [0.2851693 ],\n",
       "         [0.1992933 ],\n",
       "         [0.1992933 ],\n",
       "         [0.60489931],\n",
       "         [0.60489931],\n",
       "         [0.70355615],\n",
       "         [0.70355615],\n",
       "         [0.09488947],\n",
       "         [0.09488947],\n",
       "         [0.56274869],\n",
       "         [0.56274869],\n",
       "         [0.82257806],\n",
       "         [0.82257806],\n",
       "         [0.71198147],\n",
       "         [0.71198147],\n",
       "         [0.64510504],\n",
       "         [0.64510504],\n",
       "         [0.05939957],\n",
       "         [0.05939957],\n",
       "         [0.66599873],\n",
       "         [0.66599873],\n",
       "         [0.78670613],\n",
       "         [0.78670613],\n",
       "         [0.18550082],\n",
       "         [0.18550082],\n",
       "         [0.47983045],\n",
       "         [0.47983045],\n",
       "         [0.24392854],\n",
       "         [0.24392854],\n",
       "         [0.78818676],\n",
       "         [0.78818676],\n",
       "         [0.7737356 ],\n",
       "         [0.7737356 ],\n",
       "         [0.81669054],\n",
       "         [0.81669054],\n",
       "         [0.54028292],\n",
       "         [0.54028292],\n",
       "         [0.93555098],\n",
       "         [0.93555098],\n",
       "         [0.46863699],\n",
       "         [0.46863699],\n",
       "         [0.09563818],\n",
       "         [0.09563818],\n",
       "         [0.94845662],\n",
       "         [0.94845662],\n",
       "         [0.91874795],\n",
       "         [0.91874795],\n",
       "         [0.28533438],\n",
       "         [0.28533438],\n",
       "         [0.98476591],\n",
       "         [0.98476591],\n",
       "         [0.01213494],\n",
       "         [0.01213494],\n",
       "         [0.48718232],\n",
       "         [0.48718232],\n",
       "         [0.25420098],\n",
       "         [0.25420098],\n",
       "         [0.34214325],\n",
       "         [0.34214325],\n",
       "         [0.51230433],\n",
       "         [0.51230433],\n",
       "         [0.9811226 ],\n",
       "         [0.9811226 ]])}}"
      ]
     },
     "execution_count": 12,
     "metadata": {},
     "output_type": "execute_result"
    }
   ],
   "source": [
    "ds = load_by_id(run_id_a)\n",
    "ds.get_parameter_data('x1')"
   ]
  },
  {
   "cell_type": "code",
   "execution_count": null,
   "metadata": {},
   "outputs": [],
   "source": []
  }
 ],
 "metadata": {
  "kernelspec": {
   "display_name": "Python 3",
   "language": "python",
   "name": "python3"
  },
  "language_info": {
   "codemirror_mode": {
    "name": "ipython",
    "version": 3
   },
   "file_extension": ".py",
   "mimetype": "text/x-python",
   "name": "python",
   "nbconvert_exporter": "python",
   "pygments_lexer": "ipython3",
   "version": "3.7.7"
  },
  "nbsphinx": {
   "timeout": 600
  },
  "toc": {
   "base_numbering": 1,
   "nav_menu": {},
   "number_sections": true,
   "sideBar": true,
   "skip_h1_title": false,
   "title_cell": "Table of Contents",
   "title_sidebar": "Contents",
   "toc_cell": false,
   "toc_position": {},
   "toc_section_display": true,
   "toc_window_display": false
  },
  "varInspector": {
   "cols": {
    "lenName": 16,
    "lenType": 16,
    "lenVar": 40
   },
   "kernels_config": {
    "python": {
     "delete_cmd_postfix": "",
     "delete_cmd_prefix": "del ",
     "library": "var_list.py",
     "varRefreshCmd": "print(var_dic_list())"
    },
    "r": {
     "delete_cmd_postfix": ") ",
     "delete_cmd_prefix": "rm(",
     "library": "var_list.r",
     "varRefreshCmd": "cat(var_dic_list()) "
    }
   },
   "types_to_exclude": [
    "module",
    "function",
    "builtin_function_or_method",
    "instance",
    "_Feature"
   ],
   "window_display": false
  }
 },
 "nbformat": 4,
 "nbformat_minor": 2
}
