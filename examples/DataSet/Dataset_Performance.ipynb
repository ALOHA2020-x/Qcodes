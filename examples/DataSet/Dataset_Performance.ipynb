{
 "cells": [
  {
   "cell_type": "markdown",
   "metadata": {},
   "source": [
    "# DataSet Performance\n",
    "\n",
    "This notebook shows the trade-off between inserting data into a database row-by-row and as binary blobs. Inserting the data row-by-row means that we have direct access to all the data and may perform queries directly on the values of the data. On the other hand, as we shall see, this is much slower than inserting the data directly as binary blobs."
   ]
  },
  {
   "cell_type": "markdown",
   "metadata": {},
   "source": [
    "First, we choose a new location for the database to ensure that we don't add a bunch of benchmarking data to the default one."
   ]
  },
  {
   "cell_type": "code",
   "execution_count": 1,
   "metadata": {
    "execution": {
     "iopub.execute_input": "2020-12-29T06:56:31.989545Z",
     "iopub.status.busy": "2020-12-29T06:56:31.989032Z",
     "iopub.status.idle": "2020-12-29T06:56:33.056938Z",
     "shell.execute_reply": "2020-12-29T06:56:33.056235Z"
    }
   },
   "outputs": [
    {
     "name": "stdout",
     "output_type": "stream",
     "text": [
      "Logging hadn't been started.\n",
      "Activating auto-logging. Current session state plus future input saved.\n",
      "Filename       : /home/vsts/.qcodes/logs/command_history.log\n",
      "Mode           : append\n",
      "Output logging : True\n",
      "Raw input log  : False\n",
      "Timestamping   : True\n",
      "State          : active\n"
     ]
    },
    {
     "name": "stdout",
     "output_type": "stream",
     "text": [
      "Qcodes Logfile : /home/vsts/.qcodes/logs/201229-13550-qcodes.log\n"
     ]
    }
   ],
   "source": [
    "import os\n",
    "cwd = os.getcwd()\n",
    "import qcodes as qc\n",
    "qc.config[\"core\"][\"db_location\"] = os.path.join(cwd, 'testing.db')\n"
   ]
  },
  {
   "cell_type": "code",
   "execution_count": 2,
   "metadata": {
    "execution": {
     "iopub.execute_input": "2020-12-29T06:56:33.066212Z",
     "iopub.status.busy": "2020-12-29T06:56:33.062881Z",
     "iopub.status.idle": "2020-12-29T06:56:33.264423Z",
     "shell.execute_reply": "2020-12-29T06:56:33.263313Z"
    }
   },
   "outputs": [],
   "source": [
    "%matplotlib inline\n",
    "import time\n",
    "import matplotlib.pyplot as plt\n",
    "import numpy as np\n",
    "\n",
    "import qcodes as qc\n",
    "from qcodes.instrument.parameter import ManualParameter\n",
    "from qcodes.dataset.experiment_container import (Experiment,\n",
    "                                                 load_last_experiment,\n",
    "                                                 new_experiment)\n",
    "from qcodes.dataset.sqlite.database import initialise_database\n",
    "from qcodes import load_or_create_experiment\n",
    "from qcodes.dataset.measurements import Measurement"
   ]
  },
  {
   "cell_type": "code",
   "execution_count": 3,
   "metadata": {
    "execution": {
     "iopub.execute_input": "2020-12-29T06:56:33.268251Z",
     "iopub.status.busy": "2020-12-29T06:56:33.267704Z",
     "iopub.status.idle": "2020-12-29T06:56:33.429625Z",
     "shell.execute_reply": "2020-12-29T06:56:33.430154Z"
    }
   },
   "outputs": [
    {
     "name": "stdout",
     "output_type": "stream",
     "text": [
      "\r",
      "0it [00:00, ?it/s]"
     ]
    },
    {
     "name": "stdout",
     "output_type": "stream",
     "text": [
      "\r",
      "Upgrading database; v0 -> v1: : 0it [00:00, ?it/s]"
     ]
    },
    {
     "name": "stdout",
     "output_type": "stream",
     "text": [
      "\r",
      "Upgrading database; v0 -> v1: : 0it [00:00, ?it/s]"
     ]
    },
    {
     "name": "stdout",
     "output_type": "stream",
     "text": [
      "\n",
      "\r",
      "  0%|          | 0/1 [00:00<?, ?it/s]"
     ]
    },
    {
     "name": "stdout",
     "output_type": "stream",
     "text": [
      "\r",
      "Upgrading database; v1 -> v2:   0%|          | 0/1 [00:00<?, ?it/s]"
     ]
    },
    {
     "name": "stdout",
     "output_type": "stream",
     "text": [
      "\r",
      "Upgrading database; v1 -> v2: 100%|██████████| 1/1 [00:00<00:00, 558.94it/s]"
     ]
    },
    {
     "name": "stdout",
     "output_type": "stream",
     "text": [
      "\n",
      "\r",
      "0it [00:00, ?it/s]"
     ]
    },
    {
     "name": "stdout",
     "output_type": "stream",
     "text": [
      "\r",
      "Upgrading database; v2 -> v3: : 0it [00:00, ?it/s]"
     ]
    },
    {
     "name": "stdout",
     "output_type": "stream",
     "text": [
      "\r",
      "Upgrading database; v2 -> v3: : 0it [00:00, ?it/s]"
     ]
    },
    {
     "name": "stdout",
     "output_type": "stream",
     "text": [
      "\n",
      "\r",
      "0it [00:00, ?it/s]"
     ]
    },
    {
     "name": "stdout",
     "output_type": "stream",
     "text": [
      "\r",
      "Upgrading database; v3 -> v4: : 0it [00:00, ?it/s]"
     ]
    },
    {
     "name": "stdout",
     "output_type": "stream",
     "text": [
      "\r",
      "Upgrading database; v3 -> v4: : 0it [00:00, ?it/s]"
     ]
    },
    {
     "name": "stdout",
     "output_type": "stream",
     "text": [
      "\n",
      "\r",
      "  0%|          | 0/1 [00:00<?, ?it/s]"
     ]
    },
    {
     "name": "stdout",
     "output_type": "stream",
     "text": [
      "\r",
      "Upgrading database; v4 -> v5:   0%|          | 0/1 [00:00<?, ?it/s]"
     ]
    },
    {
     "name": "stdout",
     "output_type": "stream",
     "text": [
      "\r",
      "Upgrading database; v4 -> v5: 100%|██████████| 1/1 [00:00<00:00, 412.42it/s]"
     ]
    },
    {
     "name": "stdout",
     "output_type": "stream",
     "text": [
      "\n",
      "\r",
      "0it [00:00, ?it/s]"
     ]
    },
    {
     "name": "stdout",
     "output_type": "stream",
     "text": [
      "\r",
      "Upgrading database; v5 -> v6: : 0it [00:00, ?it/s]"
     ]
    },
    {
     "name": "stdout",
     "output_type": "stream",
     "text": [
      "\r",
      "Upgrading database; v5 -> v6: : 0it [00:00, ?it/s]"
     ]
    },
    {
     "name": "stdout",
     "output_type": "stream",
     "text": [
      "\n",
      "\r",
      "  0%|          | 0/1 [00:00<?, ?it/s]"
     ]
    },
    {
     "name": "stdout",
     "output_type": "stream",
     "text": [
      "\r",
      "Upgrading database; v6 -> v7:   0%|          | 0/1 [00:00<?, ?it/s]"
     ]
    },
    {
     "name": "stdout",
     "output_type": "stream",
     "text": [
      "\r",
      "Upgrading database; v6 -> v7: 100%|██████████| 1/1 [00:00<00:00, 183.64it/s]"
     ]
    },
    {
     "name": "stdout",
     "output_type": "stream",
     "text": [
      "\n",
      "\r",
      "  0%|          | 0/1 [00:00<?, ?it/s]"
     ]
    },
    {
     "name": "stdout",
     "output_type": "stream",
     "text": [
      "\r",
      "Upgrading database; v7 -> v8:   0%|          | 0/1 [00:00<?, ?it/s]"
     ]
    },
    {
     "name": "stdout",
     "output_type": "stream",
     "text": [
      "\r",
      "Upgrading database; v7 -> v8: 100%|██████████| 1/1 [00:00<00:00, 514.58it/s]"
     ]
    },
    {
     "name": "stdout",
     "output_type": "stream",
     "text": [
      "\n",
      "\r",
      "  0%|          | 0/1 [00:00<?, ?it/s]"
     ]
    },
    {
     "name": "stdout",
     "output_type": "stream",
     "text": [
      "\r",
      "Upgrading database; v8 -> v9:   0%|          | 0/1 [00:00<?, ?it/s]"
     ]
    },
    {
     "name": "stdout",
     "output_type": "stream",
     "text": [
      "\r",
      "Upgrading database; v8 -> v9: 100%|██████████| 1/1 [00:00<00:00, 455.85it/s]"
     ]
    },
    {
     "name": "stdout",
     "output_type": "stream",
     "text": [
      "\n"
     ]
    }
   ],
   "source": [
    "initialise_database()\n",
    "exp = load_or_create_experiment(experiment_name='tutorial_exp', sample_name=\"no sample\")"
   ]
  },
  {
   "cell_type": "markdown",
   "metadata": {},
   "source": [
    "Here, we define a simple function to benchmark the time it takes to insert n points with either numeric or array data type.\n",
    "We will compare both the time used to call ``add_result`` and the time used for the full measurement."
   ]
  },
  {
   "cell_type": "code",
   "execution_count": 4,
   "metadata": {
    "execution": {
     "iopub.execute_input": "2020-12-29T06:56:33.439313Z",
     "iopub.status.busy": "2020-12-29T06:56:33.438712Z",
     "iopub.status.idle": "2020-12-29T06:56:33.442557Z",
     "shell.execute_reply": "2020-12-29T06:56:33.441803Z"
    }
   },
   "outputs": [],
   "source": [
    "def insert_data(paramtype, npoints, nreps=1):\n",
    "\n",
    "    meas = Measurement(exp=exp)\n",
    "\n",
    "    x1 = ManualParameter('x1')\n",
    "    x2 = ManualParameter('x2')\n",
    "    x3 = ManualParameter('x3')\n",
    "    y1 = ManualParameter('y1')\n",
    "    y2 = ManualParameter('y2')\n",
    "\n",
    "    meas.register_parameter(x1, paramtype=paramtype)\n",
    "    meas.register_parameter(x2, paramtype=paramtype)\n",
    "    meas.register_parameter(x3, paramtype=paramtype)\n",
    "    meas.register_parameter(y1, setpoints=[x1, x2, x3],\n",
    "                            paramtype=paramtype)\n",
    "    meas.register_parameter(y2, setpoints=[x1, x2, x3],\n",
    "                            paramtype=paramtype)\n",
    "    start = time.perf_counter()\n",
    "    with meas.run() as datasaver:\n",
    "        start_adding = time.perf_counter()\n",
    "        for i in range(nreps):\n",
    "            datasaver.add_result((x1, np.random.rand(npoints)),\n",
    "                                 (x2, np.random.rand(npoints)),\n",
    "                                 (x3, np.random.rand(npoints)),\n",
    "                                 (y1, np.random.rand(npoints)),\n",
    "                                 (y2, np.random.rand(npoints)))\n",
    "        stop_adding = time.perf_counter()\n",
    "        run_id = datasaver.run_id\n",
    "    stop = time.perf_counter()\n",
    "    tot_time = stop - start\n",
    "    add_time = stop_adding - start_adding\n",
    "    return tot_time, add_time, run_id"
   ]
  },
  {
   "cell_type": "markdown",
   "metadata": {},
   "source": [
    "## Comparison between numeric/array data and binary blob"
   ]
  },
  {
   "cell_type": "markdown",
   "metadata": {},
   "source": [
    "### Case1: Short experiment time"
   ]
  },
  {
   "cell_type": "code",
   "execution_count": 5,
   "metadata": {
    "execution": {
     "iopub.execute_input": "2020-12-29T06:56:33.448939Z",
     "iopub.status.busy": "2020-12-29T06:56:33.447788Z",
     "iopub.status.idle": "2020-12-29T06:56:35.071957Z",
     "shell.execute_reply": "2020-12-29T06:56:35.070955Z"
    }
   },
   "outputs": [
    {
     "name": "stdout",
     "output_type": "stream",
     "text": [
      "Starting experimental run with id: 1. \n",
      "Starting experimental run with id: 2. \n"
     ]
    },
    {
     "name": "stdout",
     "output_type": "stream",
     "text": [
      "Starting experimental run with id: 3. \n"
     ]
    },
    {
     "name": "stdout",
     "output_type": "stream",
     "text": [
      "Starting experimental run with id: 4. \n",
      "Starting experimental run with id: 5. \n"
     ]
    },
    {
     "name": "stdout",
     "output_type": "stream",
     "text": [
      "Starting experimental run with id: 6. \n",
      "Starting experimental run with id: 7. \n"
     ]
    },
    {
     "name": "stdout",
     "output_type": "stream",
     "text": [
      "Starting experimental run with id: 8. \n",
      "Starting experimental run with id: 9. \n"
     ]
    },
    {
     "name": "stdout",
     "output_type": "stream",
     "text": [
      "Starting experimental run with id: 10. \n",
      "Starting experimental run with id: 11. \n"
     ]
    },
    {
     "name": "stdout",
     "output_type": "stream",
     "text": [
      "Starting experimental run with id: 12. \n",
      "Starting experimental run with id: 13. \n"
     ]
    },
    {
     "name": "stdout",
     "output_type": "stream",
     "text": [
      "Starting experimental run with id: 14. \n"
     ]
    }
   ],
   "source": [
    "sizes = [1,500,1000,2000,3000,4000,5000]\n",
    "t_numeric = []\n",
    "t_numeric_add = []\n",
    "t_array = []\n",
    "t_array_add = []\n",
    "for size in sizes:\n",
    "    tn, tna, run_id_n =  insert_data('numeric', size)\n",
    "    t_numeric.append(tn)\n",
    "    t_numeric_add.append(tna)\n",
    "\n",
    "    ta, taa, run_id_a =  insert_data('array', size)\n",
    "    t_array.append(ta)\n",
    "    t_array_add.append(taa)"
   ]
  },
  {
   "cell_type": "code",
   "execution_count": 6,
   "metadata": {
    "execution": {
     "iopub.execute_input": "2020-12-29T06:56:35.078502Z",
     "iopub.status.busy": "2020-12-29T06:56:35.076609Z",
     "iopub.status.idle": "2020-12-29T06:56:35.311648Z",
     "shell.execute_reply": "2020-12-29T06:56:35.311018Z"
    }
   },
   "outputs": [
    {
     "data": {
      "image/png": "[encoded data removed]",
      "text/plain": [
       "<Figure size 432x288 with 1 Axes>"
      ]
     },
     "metadata": {
      "needs_background": "light"
     },
     "output_type": "display_data"
    }
   ],
   "source": [
    "fig, ax = plt.subplots(1,1)\n",
    "ax.plot(sizes, t_numeric, 'o-', label='Inserting row-by-row')\n",
    "ax.plot(sizes, t_numeric_add, 'o-', label='Inserting row-by-row: add_result only')\n",
    "ax.plot(sizes, t_array, 'd-', label='Inserting as binary blob')\n",
    "ax.plot(sizes, t_array_add, 'd-', label='Inserting as binary blob: add_result only')\n",
    "ax.legend()\n",
    "ax.set_xlabel('Array length')\n",
    "ax.set_ylabel('Time (s)')\n",
    "fig.tight_layout()"
   ]
  },
  {
   "cell_type": "markdown",
   "metadata": {},
   "source": [
    "As shown in the latter figure, the time to setup and and close the experiment is approximately 0.4 sec. In case of small array sizes, the difference between inserting values of data as arrays and inserting them row-by-row is relatively unimportant. At larger array sizes, i.e. above 10000 points, the cost of writing data as individual datapoints starts to become important.\n"
   ]
  },
  {
   "cell_type": "markdown",
   "metadata": {},
   "source": [
    "### Case2: Long experiment time "
   ]
  },
  {
   "cell_type": "code",
   "execution_count": 7,
   "metadata": {
    "execution": {
     "iopub.execute_input": "2020-12-29T06:56:35.320321Z",
     "iopub.status.busy": "2020-12-29T06:56:35.319703Z",
     "iopub.status.idle": "2020-12-29T06:57:36.241461Z",
     "shell.execute_reply": "2020-12-29T06:57:36.242232Z"
    }
   },
   "outputs": [
    {
     "name": "stdout",
     "output_type": "stream",
     "text": [
      "Starting experimental run with id: 15. \n",
      "Starting experimental run with id: 16. \n",
      "Starting experimental run with id: 17. \n"
     ]
    },
    {
     "name": "stdout",
     "output_type": "stream",
     "text": [
      "Starting experimental run with id: 18. \n",
      "Starting experimental run with id: 19. \n"
     ]
    },
    {
     "name": "stdout",
     "output_type": "stream",
     "text": [
      "Starting experimental run with id: 20. \n"
     ]
    },
    {
     "name": "stdout",
     "output_type": "stream",
     "text": [
      "Starting experimental run with id: 21. \n"
     ]
    },
    {
     "name": "stdout",
     "output_type": "stream",
     "text": [
      "Starting experimental run with id: 22. \n"
     ]
    },
    {
     "name": "stdout",
     "output_type": "stream",
     "text": [
      "Starting experimental run with id: 23. \n"
     ]
    },
    {
     "name": "stdout",
     "output_type": "stream",
     "text": [
      "Starting experimental run with id: 24. \n"
     ]
    },
    {
     "name": "stdout",
     "output_type": "stream",
     "text": [
      "Starting experimental run with id: 25. \n"
     ]
    },
    {
     "name": "stdout",
     "output_type": "stream",
     "text": [
      "Starting experimental run with id: 26. \n"
     ]
    },
    {
     "name": "stdout",
     "output_type": "stream",
     "text": [
      "Starting experimental run with id: 27. \n"
     ]
    },
    {
     "name": "stdout",
     "output_type": "stream",
     "text": [
      "Starting experimental run with id: 28. \n"
     ]
    }
   ],
   "source": [
    "sizes = [1,500,1000,2000,3000,4000,5000]\n",
    "nreps = 100\n",
    "t_numeric = []\n",
    "t_numeric_add = []\n",
    "t_numeric_run_ids = []\n",
    "t_array = []\n",
    "t_array_add = []\n",
    "t_array_run_ids = []\n",
    "for size in sizes:\n",
    "    tn, tna, run_id_n =  insert_data('numeric', size, nreps=nreps)\n",
    "    t_numeric.append(tn)\n",
    "    t_numeric_add.append(tna)\n",
    "    t_numeric_run_ids.append(run_id_n)\n",
    "\n",
    "    ta, taa, run_id_a =  insert_data('array', size, nreps=nreps)\n",
    "    t_array.append(ta)\n",
    "    t_array_add.append(taa)\n",
    "    t_array_run_ids.append(run_id_a)"
   ]
  },
  {
   "cell_type": "code",
   "execution_count": 8,
   "metadata": {
    "execution": {
     "iopub.execute_input": "2020-12-29T06:57:36.282024Z",
     "iopub.status.busy": "2020-12-29T06:57:36.246776Z",
     "iopub.status.idle": "2020-12-29T06:57:36.445563Z",
     "shell.execute_reply": "2020-12-29T06:57:36.446105Z"
    },
    "scrolled": true
   },
   "outputs": [
    {
     "data": {
      "image/png": "[encoded data removed]",
      "text/plain": [
       "<Figure size 432x288 with 1 Axes>"
      ]
     },
     "metadata": {
      "needs_background": "light"
     },
     "output_type": "display_data"
    }
   ],
   "source": [
    "fig, ax = plt.subplots(1,1)\n",
    "ax.plot(sizes, t_numeric, 'o-', label='Inserting row-by-row')\n",
    "ax.plot(sizes, t_numeric_add, 'o-', label='Inserting row-by-row: add_result only')\n",
    "ax.plot(sizes, t_array, 'd-', label='Inserting as binary blob')\n",
    "ax.plot(sizes, t_array_add, 'd-', label='Inserting as binary blob: add_result only')\n",
    "ax.legend()\n",
    "ax.set_xlabel('Array length')\n",
    "ax.set_ylabel('Time (s)')\n",
    "fig.tight_layout()"
   ]
  },
  {
   "cell_type": "markdown",
   "metadata": {},
   "source": [
    "However, as we increase the length of the experiment, as seen here by repeating the insertion 100 times, we see a big difference between inserting values of the data row-by-row and inserting it as a binary blob."
   ]
  },
  {
   "cell_type": "markdown",
   "metadata": {},
   "source": [
    "## Loading the data "
   ]
  },
  {
   "cell_type": "code",
   "execution_count": 9,
   "metadata": {
    "execution": {
     "iopub.execute_input": "2020-12-29T06:57:36.450457Z",
     "iopub.status.busy": "2020-12-29T06:57:36.449501Z",
     "iopub.status.idle": "2020-12-29T06:57:36.452828Z",
     "shell.execute_reply": "2020-12-29T06:57:36.452259Z"
    }
   },
   "outputs": [],
   "source": [
    "from qcodes.dataset.data_set import load_by_id\n",
    "from qcodes.dataset.data_export import get_data_by_id"
   ]
  },
  {
   "cell_type": "markdown",
   "metadata": {},
   "source": [
    "As usual you can load the data by using the ``load_by_id`` function but you will notice that the different storage methods\n",
    "are reflected in shape of the data as it is retrieved. "
   ]
  },
  {
   "cell_type": "code",
   "execution_count": 10,
   "metadata": {
    "execution": {
     "iopub.execute_input": "2020-12-29T06:57:36.456531Z",
     "iopub.status.busy": "2020-12-29T06:57:36.455991Z",
     "iopub.status.idle": "2020-12-29T06:57:36.457947Z",
     "shell.execute_reply": "2020-12-29T06:57:36.458477Z"
    }
   },
   "outputs": [],
   "source": [
    "run_id_n = t_numeric_run_ids[0]\n",
    "run_id_a = t_array_run_ids[0]"
   ]
  },
  {
   "cell_type": "code",
   "execution_count": 11,
   "metadata": {
    "execution": {
     "iopub.execute_input": "2020-12-29T06:57:36.461880Z",
     "iopub.status.busy": "2020-12-29T06:57:36.461370Z",
     "iopub.status.idle": "2020-12-29T06:57:36.471706Z",
     "shell.execute_reply": "2020-12-29T06:57:36.471121Z"
    },
    "scrolled": true
   },
   "outputs": [
    {
     "data": {
      "text/plain": [
       "{'x1': {'x1': array([0.73814899, 0.73814899, 0.48977338, 0.48977338, 0.30270476,\n",
       "         0.30270476, 0.96693182, 0.96693182, 0.98696388, 0.98696388,\n",
       "         0.80996444, 0.80996444, 0.74097014, 0.74097014, 0.30759548,\n",
       "         0.30759548, 0.49838539, 0.49838539, 0.25568762, 0.25568762,\n",
       "         0.16786803, 0.16786803, 0.64162944, 0.64162944, 0.02141021,\n",
       "         0.02141021, 0.80281574, 0.80281574, 0.41694901, 0.41694901,\n",
       "         0.91163715, 0.91163715, 0.44671258, 0.44671258, 0.74888435,\n",
       "         0.74888435, 0.77938963, 0.77938963, 0.46531736, 0.46531736,\n",
       "         0.75620159, 0.75620159, 0.69564123, 0.69564123, 0.91238671,\n",
       "         0.91238671, 0.56875507, 0.56875507, 0.12875882, 0.12875882,\n",
       "         0.98241318, 0.98241318, 0.43195792, 0.43195792, 0.99711522,\n",
       "         0.99711522, 0.36103972, 0.36103972, 0.05804987, 0.05804987,\n",
       "         0.5678985 , 0.5678985 , 0.99265439, 0.99265439, 0.1919608 ,\n",
       "         0.1919608 , 0.9934509 , 0.9934509 , 0.66562769, 0.66562769,\n",
       "         0.99262407, 0.99262407, 0.68409697, 0.68409697, 0.85581543,\n",
       "         0.85581543, 0.95207315, 0.95207315, 0.61932581, 0.61932581,\n",
       "         0.87882907, 0.87882907, 0.72300311, 0.72300311, 0.26748776,\n",
       "         0.26748776, 0.01585338, 0.01585338, 0.77418246, 0.77418246,\n",
       "         0.892652  , 0.892652  , 0.92410629, 0.92410629, 0.67267692,\n",
       "         0.67267692, 0.00633421, 0.00633421, 0.01052599, 0.01052599,\n",
       "         0.56204289, 0.56204289, 0.49485194, 0.49485194, 0.77315508,\n",
       "         0.77315508, 0.12132598, 0.12132598, 0.12610244, 0.12610244,\n",
       "         0.57214712, 0.57214712, 0.06258356, 0.06258356, 0.94683741,\n",
       "         0.94683741, 0.64913851, 0.64913851, 0.88397138, 0.88397138,\n",
       "         0.76326128, 0.76326128, 0.60000091, 0.60000091, 0.79273196,\n",
       "         0.79273196, 0.5828418 , 0.5828418 , 0.54476629, 0.54476629,\n",
       "         0.88474492, 0.88474492, 0.24038202, 0.24038202, 0.45341654,\n",
       "         0.45341654, 0.21776534, 0.21776534, 0.2841412 , 0.2841412 ,\n",
       "         0.34524086, 0.34524086, 0.89850152, 0.89850152, 0.33381708,\n",
       "         0.33381708, 0.60311291, 0.60311291, 0.84880224, 0.84880224,\n",
       "         0.69123422, 0.69123422, 0.42843161, 0.42843161, 0.45121456,\n",
       "         0.45121456, 0.68566138, 0.68566138, 0.29039471, 0.29039471,\n",
       "         0.97682869, 0.97682869, 0.51163989, 0.51163989, 0.74645348,\n",
       "         0.74645348, 0.80282803, 0.80282803, 0.8754376 , 0.8754376 ,\n",
       "         0.38524434, 0.38524434, 0.51709963, 0.51709963, 0.70162591,\n",
       "         0.70162591, 0.08548592, 0.08548592, 0.97657903, 0.97657903,\n",
       "         0.31830918, 0.31830918, 0.92963433, 0.92963433, 0.91286795,\n",
       "         0.91286795, 0.10990073, 0.10990073, 0.95695261, 0.95695261,\n",
       "         0.33907029, 0.33907029, 0.31754747, 0.31754747, 0.79089559,\n",
       "         0.79089559, 0.83100046, 0.83100046, 0.38961074, 0.38961074])}}"
      ]
     },
     "execution_count": 1,
     "metadata": {},
     "output_type": "execute_result"
    }
   ],
   "source": [
    "ds = load_by_id(run_id_n)\n",
    "ds.get_parameter_data('x1')"
   ]
  },
  {
   "cell_type": "markdown",
   "metadata": {},
   "source": [
    "And a dataset stored as binary arrays"
   ]
  },
  {
   "cell_type": "code",
   "execution_count": 12,
   "metadata": {
    "execution": {
     "iopub.execute_input": "2020-12-29T06:57:36.474987Z",
     "iopub.status.busy": "2020-12-29T06:57:36.474463Z",
     "iopub.status.idle": "2020-12-29T06:57:36.533022Z",
     "shell.execute_reply": "2020-12-29T06:57:36.533642Z"
    },
    "scrolled": true
   },
   "outputs": [
    {
     "data": {
      "text/plain": [
       "{'x1': {'x1': array([[0.40352026],\n",
       "         [0.40352026],\n",
       "         [0.30221267],\n",
       "         [0.30221267],\n",
       "         [0.27352089],\n",
       "         [0.27352089],\n",
       "         [0.75496706],\n",
       "         [0.75496706],\n",
       "         [0.02326944],\n",
       "         [0.02326944],\n",
       "         [0.78477395],\n",
       "         [0.78477395],\n",
       "         [0.88794928],\n",
       "         [0.88794928],\n",
       "         [0.86328113],\n",
       "         [0.86328113],\n",
       "         [0.23287224],\n",
       "         [0.23287224],\n",
       "         [0.1164566 ],\n",
       "         [0.1164566 ],\n",
       "         [0.67286113],\n",
       "         [0.67286113],\n",
       "         [0.22233113],\n",
       "         [0.22233113],\n",
       "         [0.63501061],\n",
       "         [0.63501061],\n",
       "         [0.10370071],\n",
       "         [0.10370071],\n",
       "         [0.52739806],\n",
       "         [0.52739806],\n",
       "         [0.14267759],\n",
       "         [0.14267759],\n",
       "         [0.79722332],\n",
       "         [0.79722332],\n",
       "         [0.9143888 ],\n",
       "         [0.9143888 ],\n",
       "         [0.38443749],\n",
       "         [0.38443749],\n",
       "         [0.65883914],\n",
       "         [0.65883914],\n",
       "         [0.12610082],\n",
       "         [0.12610082],\n",
       "         [0.8884829 ],\n",
       "         [0.8884829 ],\n",
       "         [0.79010684],\n",
       "         [0.79010684],\n",
       "         [0.01530109],\n",
       "         [0.01530109],\n",
       "         [0.83329611],\n",
       "         [0.83329611],\n",
       "         [0.26838612],\n",
       "         [0.26838612],\n",
       "         [0.60462294],\n",
       "         [0.60462294],\n",
       "         [0.30742144],\n",
       "         [0.30742144],\n",
       "         [0.26100143],\n",
       "         [0.26100143],\n",
       "         [0.31376931],\n",
       "         [0.31376931],\n",
       "         [0.17208202],\n",
       "         [0.17208202],\n",
       "         [0.66049729],\n",
       "         [0.66049729],\n",
       "         [0.83760287],\n",
       "         [0.83760287],\n",
       "         [0.45428869],\n",
       "         [0.45428869],\n",
       "         [0.14933658],\n",
       "         [0.14933658],\n",
       "         [0.90986547],\n",
       "         [0.90986547],\n",
       "         [0.25950003],\n",
       "         [0.25950003],\n",
       "         [0.12231508],\n",
       "         [0.12231508],\n",
       "         [0.42293802],\n",
       "         [0.42293802],\n",
       "         [0.09943992],\n",
       "         [0.09943992],\n",
       "         [0.96457127],\n",
       "         [0.96457127],\n",
       "         [0.95256682],\n",
       "         [0.95256682],\n",
       "         [0.58191809],\n",
       "         [0.58191809],\n",
       "         [0.80605989],\n",
       "         [0.80605989],\n",
       "         [0.93964928],\n",
       "         [0.93964928],\n",
       "         [0.21780799],\n",
       "         [0.21780799],\n",
       "         [0.88279323],\n",
       "         [0.88279323],\n",
       "         [0.34512776],\n",
       "         [0.34512776],\n",
       "         [0.22859874],\n",
       "         [0.22859874],\n",
       "         [0.07685048],\n",
       "         [0.07685048],\n",
       "         [0.68835406],\n",
       "         [0.68835406],\n",
       "         [0.99983828],\n",
       "         [0.99983828],\n",
       "         [0.27235898],\n",
       "         [0.27235898],\n",
       "         [0.938222  ],\n",
       "         [0.938222  ],\n",
       "         [0.64651212],\n",
       "         [0.64651212],\n",
       "         [0.25951542],\n",
       "         [0.25951542],\n",
       "         [0.34970925],\n",
       "         [0.34970925],\n",
       "         [0.39987094],\n",
       "         [0.39987094],\n",
       "         [0.41012373],\n",
       "         [0.41012373],\n",
       "         [0.83296407],\n",
       "         [0.83296407],\n",
       "         [0.13478956],\n",
       "         [0.13478956],\n",
       "         [0.15017238],\n",
       "         [0.15017238],\n",
       "         [0.38556316],\n",
       "         [0.38556316],\n",
       "         [0.44525548],\n",
       "         [0.44525548],\n",
       "         [0.13437389],\n",
       "         [0.13437389],\n",
       "         [0.61296302],\n",
       "         [0.61296302],\n",
       "         [0.84120914],\n",
       "         [0.84120914],\n",
       "         [0.74715641],\n",
       "         [0.74715641],\n",
       "         [0.5937892 ],\n",
       "         [0.5937892 ],\n",
       "         [0.73311196],\n",
       "         [0.73311196],\n",
       "         [0.12959681],\n",
       "         [0.12959681],\n",
       "         [0.1225773 ],\n",
       "         [0.1225773 ],\n",
       "         [0.95959877],\n",
       "         [0.95959877],\n",
       "         [0.19120483],\n",
       "         [0.19120483],\n",
       "         [0.85409187],\n",
       "         [0.85409187],\n",
       "         [0.22836216],\n",
       "         [0.22836216],\n",
       "         [0.770123  ],\n",
       "         [0.770123  ],\n",
       "         [0.07678694],\n",
       "         [0.07678694],\n",
       "         [0.63049781],\n",
       "         [0.63049781],\n",
       "         [0.07257593],\n",
       "         [0.07257593],\n",
       "         [0.36350076],\n",
       "         [0.36350076],\n",
       "         [0.0817667 ],\n",
       "         [0.0817667 ],\n",
       "         [0.8223381 ],\n",
       "         [0.8223381 ],\n",
       "         [0.66787708],\n",
       "         [0.66787708],\n",
       "         [0.42404398],\n",
       "         [0.42404398],\n",
       "         [0.91753125],\n",
       "         [0.91753125],\n",
       "         [0.71094102],\n",
       "         [0.71094102],\n",
       "         [0.52702293],\n",
       "         [0.52702293],\n",
       "         [0.32325357],\n",
       "         [0.32325357],\n",
       "         [0.7890269 ],\n",
       "         [0.7890269 ],\n",
       "         [0.77646585],\n",
       "         [0.77646585],\n",
       "         [0.5905376 ],\n",
       "         [0.5905376 ],\n",
       "         [0.60062142],\n",
       "         [0.60062142],\n",
       "         [0.74726579],\n",
       "         [0.74726579],\n",
       "         [0.3114247 ],\n",
       "         [0.3114247 ],\n",
       "         [0.24936535],\n",
       "         [0.24936535],\n",
       "         [0.68784066],\n",
       "         [0.68784066],\n",
       "         [0.87206554],\n",
       "         [0.87206554],\n",
       "         [0.00988095],\n",
       "         [0.00988095],\n",
       "         [0.72375131],\n",
       "         [0.72375131]])}}"
      ]
     },
     "execution_count": 1,
     "metadata": {},
     "output_type": "execute_result"
    }
   ],
   "source": [
    "ds = load_by_id(run_id_a)\n",
    "ds.get_parameter_data('x1')"
   ]
  },
  {
   "cell_type": "code",
   "execution_count": null,
   "metadata": {},
   "outputs": [],
   "source": []
  }
 ],
 "metadata": {
  "kernelspec": {
   "display_name": "Python 3",
   "language": "python",
   "name": "python3"
  },
  "language_info": {
   "codemirror_mode": {
    "name": "ipython",
    "version": 3
   },
   "file_extension": ".py",
   "mimetype": "text/x-python",
   "name": "python",
   "nbconvert_exporter": "python",
   "pygments_lexer": "ipython3",
   "version": "3.7.9"
  },
  "nbsphinx": {
   "timeout": 600
  },
  "toc": {
   "base_numbering": 1,
   "nav_menu": {},
   "number_sections": true,
   "sideBar": true,
   "skip_h1_title": false,
   "title_cell": "Table of Contents",
   "title_sidebar": "Contents",
   "toc_cell": false,
   "toc_position": {},
   "toc_section_display": true,
   "toc_window_display": false
  },
  "varInspector": {
   "cols": {
    "lenName": 16,
    "lenType": 16,
    "lenVar": 40
   },
   "kernels_config": {
    "python": {
     "delete_cmd_postfix": "",
     "delete_cmd_prefix": "del ",
     "library": "var_list.py",
     "varRefreshCmd": "print(var_dic_list())"
    },
    "r": {
     "delete_cmd_postfix": ") ",
     "delete_cmd_prefix": "rm(",
     "library": "var_list.r",
     "varRefreshCmd": "cat(var_dic_list()) "
    }
   },
   "types_to_exclude": [
    "module",
    "function",
    "builtin_function_or_method",
    "instance",
    "_Feature"
   ],
   "window_display": false
  }
 },
 "nbformat": 4,
 "nbformat_minor": 2
}
