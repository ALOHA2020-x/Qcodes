{
 "cells": [
  {
   "cell_type": "markdown",
   "metadata": {},
   "source": [
    "# DataSet Performance\n",
    "\n",
    "This notebook shows the trade-off between inserting data into a database row-by-row and as binary blobs. Inserting the data row-by-row means that we have direct access to all the data and may perform queries directly on the values of the data. On the other hand, as we shall see, this is much slower than inserting the data directly as binary blobs."
   ]
  },
  {
   "cell_type": "markdown",
   "metadata": {},
   "source": [
    "First, we choose a new location for the database to ensure that we don't add a bunch of benchmarking data to the default one."
   ]
  },
  {
   "cell_type": "code",
   "execution_count": 1,
   "metadata": {
    "execution": {
     "iopub.execute_input": "2021-05-28T16:26:22.891982Z",
     "iopub.status.busy": "2021-05-28T16:26:22.891408Z",
     "iopub.status.idle": "2021-05-28T16:26:24.163807Z",
     "shell.execute_reply": "2021-05-28T16:26:24.162462Z"
    }
   },
   "outputs": [
    {
     "name": "stdout",
     "output_type": "stream",
     "text": [
      "Logging hadn't been started.\n",
      "Activating auto-logging. Current session state plus future input saved.\n",
      "Filename       : /home/runner/.qcodes/logs/command_history.log\n",
      "Mode           : append\n",
      "Output logging : True\n",
      "Raw input log  : False\n",
      "Timestamping   : True\n",
      "State          : active\n"
     ]
    },
    {
     "name": "stdout",
     "output_type": "stream",
     "text": [
      "Qcodes Logfile : /home/runner/.qcodes/logs/210528-4427-qcodes.log\n"
     ]
    }
   ],
   "source": [
    "import os\n",
    "cwd = os.getcwd()\n",
    "import qcodes as qc\n",
    "qc.config[\"core\"][\"db_location\"] = os.path.join(cwd, 'testing.db')\n"
   ]
  },
  {
   "cell_type": "code",
   "execution_count": 2,
   "metadata": {
    "execution": {
     "iopub.execute_input": "2021-05-28T16:26:24.171466Z",
     "iopub.status.busy": "2021-05-28T16:26:24.170174Z",
     "iopub.status.idle": "2021-05-28T16:26:24.385863Z",
     "shell.execute_reply": "2021-05-28T16:26:24.383564Z"
    }
   },
   "outputs": [],
   "source": [
    "%matplotlib inline\n",
    "import time\n",
    "import matplotlib.pyplot as plt\n",
    "import numpy as np\n",
    "\n",
    "import qcodes as qc\n",
    "from qcodes.instrument.parameter import ManualParameter\n",
    "from qcodes.dataset.experiment_container import (Experiment,\n",
    "                                                 load_last_experiment,\n",
    "                                                 new_experiment)\n",
    "from qcodes.dataset.sqlite.database import initialise_database\n",
    "from qcodes import load_or_create_experiment\n",
    "from qcodes.dataset.measurements import Measurement"
   ]
  },
  {
   "cell_type": "code",
   "execution_count": 3,
   "metadata": {
    "execution": {
     "iopub.execute_input": "2021-05-28T16:26:24.389789Z",
     "iopub.status.busy": "2021-05-28T16:26:24.389200Z",
     "iopub.status.idle": "2021-05-28T16:26:24.503522Z",
     "shell.execute_reply": "2021-05-28T16:26:24.503997Z"
    }
   },
   "outputs": [
    {
     "name": "stdout",
     "output_type": "stream",
     "text": [
      "\r",
      "0it [00:00, ?it/s]"
     ]
    },
    {
     "name": "stdout",
     "output_type": "stream",
     "text": [
      "\r",
      "Upgrading database; v0 -> v1: : 0it [00:00, ?it/s]"
     ]
    },
    {
     "name": "stdout",
     "output_type": "stream",
     "text": [
      "\r",
      "Upgrading database; v0 -> v1: : 0it [00:00, ?it/s]"
     ]
    },
    {
     "name": "stdout",
     "output_type": "stream",
     "text": [
      "\n",
      "\r",
      "  0%|          | 0/1 [00:00<?, ?it/s]"
     ]
    },
    {
     "name": "stdout",
     "output_type": "stream",
     "text": [
      "\r",
      "Upgrading database; v1 -> v2:   0%|          | 0/1 [00:00<?, ?it/s]"
     ]
    },
    {
     "name": "stdout",
     "output_type": "stream",
     "text": [
      "\r",
      "Upgrading database; v1 -> v2: 100%|██████████| 1/1 [00:00<00:00, 445.63it/s]"
     ]
    },
    {
     "name": "stdout",
     "output_type": "stream",
     "text": [
      "\n",
      "\r",
      "0it [00:00, ?it/s]"
     ]
    },
    {
     "name": "stdout",
     "output_type": "stream",
     "text": [
      "\r",
      "Upgrading database; v2 -> v3: : 0it [00:00, ?it/s]"
     ]
    },
    {
     "name": "stdout",
     "output_type": "stream",
     "text": [
      "\r",
      "Upgrading database; v2 -> v3: : 0it [00:00, ?it/s]"
     ]
    },
    {
     "name": "stdout",
     "output_type": "stream",
     "text": [
      "\n",
      "\r",
      "0it [00:00, ?it/s]"
     ]
    },
    {
     "name": "stdout",
     "output_type": "stream",
     "text": [
      "\r",
      "Upgrading database; v3 -> v4: : 0it [00:00, ?it/s]"
     ]
    },
    {
     "name": "stdout",
     "output_type": "stream",
     "text": [
      "\r",
      "Upgrading database; v3 -> v4: : 0it [00:00, ?it/s]"
     ]
    },
    {
     "name": "stdout",
     "output_type": "stream",
     "text": [
      "\n",
      "\r",
      "  0%|          | 0/1 [00:00<?, ?it/s]"
     ]
    },
    {
     "name": "stdout",
     "output_type": "stream",
     "text": [
      "\r",
      "Upgrading database; v4 -> v5:   0%|          | 0/1 [00:00<?, ?it/s]"
     ]
    },
    {
     "name": "stdout",
     "output_type": "stream",
     "text": [
      "\r",
      "Upgrading database; v4 -> v5: 100%|██████████| 1/1 [00:00<00:00, 137.39it/s]"
     ]
    },
    {
     "name": "stdout",
     "output_type": "stream",
     "text": [
      "\n",
      "\r",
      "0it [00:00, ?it/s]"
     ]
    },
    {
     "name": "stdout",
     "output_type": "stream",
     "text": [
      "\r",
      "Upgrading database; v5 -> v6: : 0it [00:00, ?it/s]"
     ]
    },
    {
     "name": "stdout",
     "output_type": "stream",
     "text": [
      "\r",
      "Upgrading database; v5 -> v6: : 0it [00:00, ?it/s]"
     ]
    },
    {
     "name": "stdout",
     "output_type": "stream",
     "text": [
      "\n",
      "\r",
      "  0%|          | 0/1 [00:00<?, ?it/s]"
     ]
    },
    {
     "name": "stdout",
     "output_type": "stream",
     "text": [
      "\r",
      "Upgrading database; v6 -> v7:   0%|          | 0/1 [00:00<?, ?it/s]"
     ]
    },
    {
     "name": "stdout",
     "output_type": "stream",
     "text": [
      "\r",
      "Upgrading database; v6 -> v7: 100%|██████████| 1/1 [00:00<00:00, 252.43it/s]"
     ]
    },
    {
     "name": "stdout",
     "output_type": "stream",
     "text": [
      "\n",
      "\r",
      "  0%|          | 0/1 [00:00<?, ?it/s]"
     ]
    },
    {
     "name": "stdout",
     "output_type": "stream",
     "text": [
      "\r",
      "Upgrading database; v7 -> v8:   0%|          | 0/1 [00:00<?, ?it/s]"
     ]
    },
    {
     "name": "stdout",
     "output_type": "stream",
     "text": [
      "\r",
      "Upgrading database; v7 -> v8: 100%|██████████| 1/1 [00:00<00:00, 382.38it/s]"
     ]
    },
    {
     "name": "stdout",
     "output_type": "stream",
     "text": [
      "\n",
      "\r",
      "  0%|          | 0/1 [00:00<?, ?it/s]"
     ]
    },
    {
     "name": "stdout",
     "output_type": "stream",
     "text": [
      "\r",
      "Upgrading database; v8 -> v9:   0%|          | 0/1 [00:00<?, ?it/s]"
     ]
    },
    {
     "name": "stdout",
     "output_type": "stream",
     "text": [
      "\r",
      "Upgrading database; v8 -> v9: 100%|██████████| 1/1 [00:00<00:00, 486.13it/s]"
     ]
    },
    {
     "name": "stdout",
     "output_type": "stream",
     "text": [
      "\n"
     ]
    }
   ],
   "source": [
    "initialise_database()\n",
    "exp = load_or_create_experiment(experiment_name='tutorial_exp', sample_name=\"no sample\")"
   ]
  },
  {
   "cell_type": "markdown",
   "metadata": {},
   "source": [
    "Here, we define a simple function to benchmark the time it takes to insert n points with either numeric or array data type.\n",
    "We will compare both the time used to call ``add_result`` and the time used for the full measurement."
   ]
  },
  {
   "cell_type": "code",
   "execution_count": 4,
   "metadata": {
    "execution": {
     "iopub.execute_input": "2021-05-28T16:26:24.516071Z",
     "iopub.status.busy": "2021-05-28T16:26:24.514690Z",
     "iopub.status.idle": "2021-05-28T16:26:24.516730Z",
     "shell.execute_reply": "2021-05-28T16:26:24.517207Z"
    }
   },
   "outputs": [],
   "source": [
    "def insert_data(paramtype, npoints, nreps=1):\n",
    "\n",
    "    meas = Measurement(exp=exp)\n",
    "\n",
    "    x1 = ManualParameter('x1')\n",
    "    x2 = ManualParameter('x2')\n",
    "    x3 = ManualParameter('x3')\n",
    "    y1 = ManualParameter('y1')\n",
    "    y2 = ManualParameter('y2')\n",
    "\n",
    "    meas.register_parameter(x1, paramtype=paramtype)\n",
    "    meas.register_parameter(x2, paramtype=paramtype)\n",
    "    meas.register_parameter(x3, paramtype=paramtype)\n",
    "    meas.register_parameter(y1, setpoints=[x1, x2, x3],\n",
    "                            paramtype=paramtype)\n",
    "    meas.register_parameter(y2, setpoints=[x1, x2, x3],\n",
    "                            paramtype=paramtype)\n",
    "    start = time.perf_counter()\n",
    "    with meas.run() as datasaver:\n",
    "        start_adding = time.perf_counter()\n",
    "        for i in range(nreps):\n",
    "            datasaver.add_result((x1, np.random.rand(npoints)),\n",
    "                                 (x2, np.random.rand(npoints)),\n",
    "                                 (x3, np.random.rand(npoints)),\n",
    "                                 (y1, np.random.rand(npoints)),\n",
    "                                 (y2, np.random.rand(npoints)))\n",
    "        stop_adding = time.perf_counter()\n",
    "        run_id = datasaver.run_id\n",
    "    stop = time.perf_counter()\n",
    "    tot_time = stop - start\n",
    "    add_time = stop_adding - start_adding\n",
    "    return tot_time, add_time, run_id"
   ]
  },
  {
   "cell_type": "markdown",
   "metadata": {},
   "source": [
    "## Comparison between numeric/array data and binary blob"
   ]
  },
  {
   "cell_type": "markdown",
   "metadata": {},
   "source": [
    "### Case1: Short experiment time"
   ]
  },
  {
   "cell_type": "code",
   "execution_count": 5,
   "metadata": {
    "execution": {
     "iopub.execute_input": "2021-05-28T16:26:24.523379Z",
     "iopub.status.busy": "2021-05-28T16:26:24.522766Z",
     "iopub.status.idle": "2021-05-28T16:26:25.472614Z",
     "shell.execute_reply": "2021-05-28T16:26:25.472103Z"
    }
   },
   "outputs": [
    {
     "name": "stdout",
     "output_type": "stream",
     "text": [
      "Starting experimental run with id: 1. \n",
      "Starting experimental run with id: 2. \n",
      "Starting experimental run with id: 3. \n"
     ]
    },
    {
     "name": "stdout",
     "output_type": "stream",
     "text": [
      "Starting experimental run with id: 4. "
     ]
    },
    {
     "name": "stdout",
     "output_type": "stream",
     "text": [
      "\n"
     ]
    },
    {
     "name": "stdout",
     "output_type": "stream",
     "text": [
      "Starting experimental run with id: 5. \n"
     ]
    },
    {
     "name": "stdout",
     "output_type": "stream",
     "text": [
      "Starting experimental run with id: 6. \n",
      "Starting experimental run with id: 7. \n",
      "Starting experimental run with id: 8. \n"
     ]
    },
    {
     "name": "stdout",
     "output_type": "stream",
     "text": [
      "Starting experimental run with id: 9. \n"
     ]
    },
    {
     "name": "stdout",
     "output_type": "stream",
     "text": [
      "Starting experimental run with id: 10. \n",
      "Starting experimental run with id: 11. \n"
     ]
    },
    {
     "name": "stdout",
     "output_type": "stream",
     "text": [
      "Starting experimental run with id: 12. \n",
      "Starting experimental run with id: 13. \n"
     ]
    },
    {
     "name": "stdout",
     "output_type": "stream",
     "text": [
      "Starting experimental run with id: 14. \n"
     ]
    }
   ],
   "source": [
    "sizes = [1,500,1000,2000,3000,4000,5000]\n",
    "t_numeric = []\n",
    "t_numeric_add = []\n",
    "t_array = []\n",
    "t_array_add = []\n",
    "for size in sizes:\n",
    "    tn, tna, run_id_n =  insert_data('numeric', size)\n",
    "    t_numeric.append(tn)\n",
    "    t_numeric_add.append(tna)\n",
    "\n",
    "    ta, taa, run_id_a =  insert_data('array', size)\n",
    "    t_array.append(ta)\n",
    "    t_array_add.append(taa)"
   ]
  },
  {
   "cell_type": "code",
   "execution_count": 6,
   "metadata": {
    "execution": {
     "iopub.execute_input": "2021-05-28T16:26:25.477838Z",
     "iopub.status.busy": "2021-05-28T16:26:25.477246Z",
     "iopub.status.idle": "2021-05-28T16:26:25.726108Z",
     "shell.execute_reply": "2021-05-28T16:26:25.725569Z"
    }
   },
   "outputs": [
    {
     "data": {
      "image/png": "[encoded data removed]",
      "text/plain": [
       "<Figure size 432x288 with 1 Axes>"
      ]
     },
     "metadata": {
      "needs_background": "light"
     },
     "output_type": "display_data"
    }
   ],
   "source": [
    "fig, ax = plt.subplots(1,1)\n",
    "ax.plot(sizes, t_numeric, 'o-', label='Inserting row-by-row')\n",
    "ax.plot(sizes, t_numeric_add, 'o-', label='Inserting row-by-row: add_result only')\n",
    "ax.plot(sizes, t_array, 'd-', label='Inserting as binary blob')\n",
    "ax.plot(sizes, t_array_add, 'd-', label='Inserting as binary blob: add_result only')\n",
    "ax.legend()\n",
    "ax.set_xlabel('Array length')\n",
    "ax.set_ylabel('Time (s)')\n",
    "fig.tight_layout()"
   ]
  },
  {
   "cell_type": "markdown",
   "metadata": {},
   "source": [
    "As shown in the latter figure, the time to setup and and close the experiment is approximately 0.4 sec. In case of small array sizes, the difference between inserting values of data as arrays and inserting them row-by-row is relatively unimportant. At larger array sizes, i.e. above 10000 points, the cost of writing data as individual datapoints starts to become important.\n"
   ]
  },
  {
   "cell_type": "markdown",
   "metadata": {},
   "source": [
    "### Case2: Long experiment time "
   ]
  },
  {
   "cell_type": "code",
   "execution_count": 7,
   "metadata": {
    "execution": {
     "iopub.execute_input": "2021-05-28T16:26:25.733701Z",
     "iopub.status.busy": "2021-05-28T16:26:25.732574Z",
     "iopub.status.idle": "2021-05-28T16:27:23.721486Z",
     "shell.execute_reply": "2021-05-28T16:27:23.721966Z"
    }
   },
   "outputs": [
    {
     "name": "stdout",
     "output_type": "stream",
     "text": [
      "Starting experimental run with id: 15. \n",
      "Starting experimental run with id: 16. \n",
      "Starting experimental run with id: 17. \n"
     ]
    },
    {
     "name": "stdout",
     "output_type": "stream",
     "text": [
      "Starting experimental run with id: 18. \n",
      "Starting experimental run with id: 19. \n"
     ]
    },
    {
     "name": "stdout",
     "output_type": "stream",
     "text": [
      "Starting experimental run with id: 20. \n"
     ]
    },
    {
     "name": "stdout",
     "output_type": "stream",
     "text": [
      "Starting experimental run with id: 21. \n"
     ]
    },
    {
     "name": "stdout",
     "output_type": "stream",
     "text": [
      "Starting experimental run with id: 22. \n"
     ]
    },
    {
     "name": "stdout",
     "output_type": "stream",
     "text": [
      "Starting experimental run with id: 23. \n"
     ]
    },
    {
     "name": "stdout",
     "output_type": "stream",
     "text": [
      "Starting experimental run with id: 24. \n"
     ]
    },
    {
     "name": "stdout",
     "output_type": "stream",
     "text": [
      "Starting experimental run with id: 25. \n"
     ]
    },
    {
     "name": "stdout",
     "output_type": "stream",
     "text": [
      "Starting experimental run with id: 26. \n"
     ]
    },
    {
     "name": "stdout",
     "output_type": "stream",
     "text": [
      "Starting experimental run with id: 27. \n"
     ]
    },
    {
     "name": "stdout",
     "output_type": "stream",
     "text": [
      "Starting experimental run with id: 28. \n"
     ]
    }
   ],
   "source": [
    "sizes = [1,500,1000,2000,3000,4000,5000]\n",
    "nreps = 100\n",
    "t_numeric = []\n",
    "t_numeric_add = []\n",
    "t_numeric_run_ids = []\n",
    "t_array = []\n",
    "t_array_add = []\n",
    "t_array_run_ids = []\n",
    "for size in sizes:\n",
    "    tn, tna, run_id_n =  insert_data('numeric', size, nreps=nreps)\n",
    "    t_numeric.append(tn)\n",
    "    t_numeric_add.append(tna)\n",
    "    t_numeric_run_ids.append(run_id_n)\n",
    "\n",
    "    ta, taa, run_id_a =  insert_data('array', size, nreps=nreps)\n",
    "    t_array.append(ta)\n",
    "    t_array_add.append(taa)\n",
    "    t_array_run_ids.append(run_id_a)"
   ]
  },
  {
   "cell_type": "code",
   "execution_count": 8,
   "metadata": {
    "execution": {
     "iopub.execute_input": "2021-05-28T16:27:23.741702Z",
     "iopub.status.busy": "2021-05-28T16:27:23.727922Z",
     "iopub.status.idle": "2021-05-28T16:27:23.947769Z",
     "shell.execute_reply": "2021-05-28T16:27:23.947214Z"
    },
    "scrolled": true
   },
   "outputs": [
    {
     "data": {
      "image/png": "[encoded data removed]",
      "text/plain": [
       "<Figure size 432x288 with 1 Axes>"
      ]
     },
     "metadata": {
      "needs_background": "light"
     },
     "output_type": "display_data"
    }
   ],
   "source": [
    "fig, ax = plt.subplots(1,1)\n",
    "ax.plot(sizes, t_numeric, 'o-', label='Inserting row-by-row')\n",
    "ax.plot(sizes, t_numeric_add, 'o-', label='Inserting row-by-row: add_result only')\n",
    "ax.plot(sizes, t_array, 'd-', label='Inserting as binary blob')\n",
    "ax.plot(sizes, t_array_add, 'd-', label='Inserting as binary blob: add_result only')\n",
    "ax.legend()\n",
    "ax.set_xlabel('Array length')\n",
    "ax.set_ylabel('Time (s)')\n",
    "fig.tight_layout()"
   ]
  },
  {
   "cell_type": "markdown",
   "metadata": {},
   "source": [
    "However, as we increase the length of the experiment, as seen here by repeating the insertion 100 times, we see a big difference between inserting values of the data row-by-row and inserting it as a binary blob."
   ]
  },
  {
   "cell_type": "markdown",
   "metadata": {},
   "source": [
    "## Loading the data "
   ]
  },
  {
   "cell_type": "code",
   "execution_count": 9,
   "metadata": {
    "execution": {
     "iopub.execute_input": "2021-05-28T16:27:23.953126Z",
     "iopub.status.busy": "2021-05-28T16:27:23.951885Z",
     "iopub.status.idle": "2021-05-28T16:27:23.953867Z",
     "shell.execute_reply": "2021-05-28T16:27:23.954350Z"
    }
   },
   "outputs": [],
   "source": [
    "from qcodes.dataset.data_set import load_by_id"
   ]
  },
  {
   "cell_type": "markdown",
   "metadata": {},
   "source": [
    "As usual you can load the data by using the ``load_by_id`` function but you will notice that the different storage methods\n",
    "are reflected in shape of the data as it is retrieved. "
   ]
  },
  {
   "cell_type": "code",
   "execution_count": 10,
   "metadata": {
    "execution": {
     "iopub.execute_input": "2021-05-28T16:27:23.959539Z",
     "iopub.status.busy": "2021-05-28T16:27:23.958049Z",
     "iopub.status.idle": "2021-05-28T16:27:23.960190Z",
     "shell.execute_reply": "2021-05-28T16:27:23.960659Z"
    }
   },
   "outputs": [],
   "source": [
    "run_id_n = t_numeric_run_ids[0]\n",
    "run_id_a = t_array_run_ids[0]"
   ]
  },
  {
   "cell_type": "code",
   "execution_count": 11,
   "metadata": {
    "execution": {
     "iopub.execute_input": "2021-05-28T16:27:23.964481Z",
     "iopub.status.busy": "2021-05-28T16:27:23.963910Z",
     "iopub.status.idle": "2021-05-28T16:27:23.974129Z",
     "shell.execute_reply": "2021-05-28T16:27:23.974613Z"
    },
    "scrolled": true
   },
   "outputs": [
    {
     "data": {
      "text/plain": [
       "{'x1': {'x1': array([0.56931752, 0.56931752, 0.1959919 , 0.1959919 , 0.36590316,\n",
       "         0.36590316, 0.87835596, 0.87835596, 0.78903485, 0.78903485,\n",
       "         0.55854675, 0.55854675, 0.09858496, 0.09858496, 0.53858489,\n",
       "         0.53858489, 0.16559019, 0.16559019, 0.84247995, 0.84247995,\n",
       "         0.28967342, 0.28967342, 0.27813095, 0.27813095, 0.27919139,\n",
       "         0.27919139, 0.15455705, 0.15455705, 0.35224564, 0.35224564,\n",
       "         0.07071336, 0.07071336, 0.63927909, 0.63927909, 0.15442638,\n",
       "         0.15442638, 0.62628419, 0.62628419, 0.39374721, 0.39374721,\n",
       "         0.90336764, 0.90336764, 0.58012611, 0.58012611, 0.69679368,\n",
       "         0.69679368, 0.48250573, 0.48250573, 0.33209856, 0.33209856,\n",
       "         0.80723529, 0.80723529, 0.02895787, 0.02895787, 0.71192796,\n",
       "         0.71192796, 0.56707782, 0.56707782, 0.12171688, 0.12171688,\n",
       "         0.82639398, 0.82639398, 0.9134096 , 0.9134096 , 0.64568714,\n",
       "         0.64568714, 0.47656758, 0.47656758, 0.99936475, 0.99936475,\n",
       "         0.59405891, 0.59405891, 0.78353359, 0.78353359, 0.99647207,\n",
       "         0.99647207, 0.04511411, 0.04511411, 0.36493245, 0.36493245,\n",
       "         0.82179073, 0.82179073, 0.6071826 , 0.6071826 , 0.57810039,\n",
       "         0.57810039, 0.848525  , 0.848525  , 0.14827735, 0.14827735,\n",
       "         0.63817229, 0.63817229, 0.99129151, 0.99129151, 0.84734297,\n",
       "         0.84734297, 0.3045962 , 0.3045962 , 0.31558687, 0.31558687,\n",
       "         0.15684404, 0.15684404, 0.89944741, 0.89944741, 0.17887635,\n",
       "         0.17887635, 0.61749241, 0.61749241, 0.37614369, 0.37614369,\n",
       "         0.86913283, 0.86913283, 0.61927827, 0.61927827, 0.44488872,\n",
       "         0.44488872, 0.08053451, 0.08053451, 0.47082767, 0.47082767,\n",
       "         0.01630912, 0.01630912, 0.48708565, 0.48708565, 0.55742388,\n",
       "         0.55742388, 0.31451169, 0.31451169, 0.23763278, 0.23763278,\n",
       "         0.59409831, 0.59409831, 0.43817096, 0.43817096, 0.04714872,\n",
       "         0.04714872, 0.99815971, 0.99815971, 0.07606778, 0.07606778,\n",
       "         0.75578784, 0.75578784, 0.9256684 , 0.9256684 , 0.81868021,\n",
       "         0.81868021, 0.28617742, 0.28617742, 0.19769528, 0.19769528,\n",
       "         0.9955512 , 0.9955512 , 0.62246317, 0.62246317, 0.03168359,\n",
       "         0.03168359, 0.67274429, 0.67274429, 0.32224095, 0.32224095,\n",
       "         0.36908413, 0.36908413, 0.35142025, 0.35142025, 0.12623192,\n",
       "         0.12623192, 0.20153249, 0.20153249, 0.17398173, 0.17398173,\n",
       "         0.89937375, 0.89937375, 0.52235737, 0.52235737, 0.95135304,\n",
       "         0.95135304, 0.1882966 , 0.1882966 , 0.09102939, 0.09102939,\n",
       "         0.29995968, 0.29995968, 0.34999838, 0.34999838, 0.1326293 ,\n",
       "         0.1326293 , 0.71471109, 0.71471109, 0.29900012, 0.29900012,\n",
       "         0.80829034, 0.80829034, 0.48423561, 0.48423561, 0.69770528,\n",
       "         0.69770528, 0.83369892, 0.83369892, 0.2766955 , 0.2766955 ])}}"
      ]
     },
     "execution_count": 1,
     "metadata": {},
     "output_type": "execute_result"
    }
   ],
   "source": [
    "ds = load_by_id(run_id_n)\n",
    "ds.get_parameter_data('x1')"
   ]
  },
  {
   "cell_type": "markdown",
   "metadata": {},
   "source": [
    "And a dataset stored as binary arrays"
   ]
  },
  {
   "cell_type": "code",
   "execution_count": 12,
   "metadata": {
    "execution": {
     "iopub.execute_input": "2021-05-28T16:27:23.979264Z",
     "iopub.status.busy": "2021-05-28T16:27:23.978682Z",
     "iopub.status.idle": "2021-05-28T16:27:24.050432Z",
     "shell.execute_reply": "2021-05-28T16:27:24.050940Z"
    },
    "scrolled": true
   },
   "outputs": [
    {
     "data": {
      "text/plain": [
       "{'x1': {'x1': array([[0.71906918],\n",
       "         [0.71906918],\n",
       "         [0.39145414],\n",
       "         [0.39145414],\n",
       "         [0.8243668 ],\n",
       "         [0.8243668 ],\n",
       "         [0.53772823],\n",
       "         [0.53772823],\n",
       "         [0.83334218],\n",
       "         [0.83334218],\n",
       "         [0.94517752],\n",
       "         [0.94517752],\n",
       "         [0.00538337],\n",
       "         [0.00538337],\n",
       "         [0.88078365],\n",
       "         [0.88078365],\n",
       "         [0.42575167],\n",
       "         [0.42575167],\n",
       "         [0.55598028],\n",
       "         [0.55598028],\n",
       "         [0.78660751],\n",
       "         [0.78660751],\n",
       "         [0.70644197],\n",
       "         [0.70644197],\n",
       "         [0.21507927],\n",
       "         [0.21507927],\n",
       "         [0.54817164],\n",
       "         [0.54817164],\n",
       "         [0.01512538],\n",
       "         [0.01512538],\n",
       "         [0.15958121],\n",
       "         [0.15958121],\n",
       "         [0.74643828],\n",
       "         [0.74643828],\n",
       "         [0.71875049],\n",
       "         [0.71875049],\n",
       "         [0.11572848],\n",
       "         [0.11572848],\n",
       "         [0.59530477],\n",
       "         [0.59530477],\n",
       "         [0.20499254],\n",
       "         [0.20499254],\n",
       "         [0.19194474],\n",
       "         [0.19194474],\n",
       "         [0.52008994],\n",
       "         [0.52008994],\n",
       "         [0.63830283],\n",
       "         [0.63830283],\n",
       "         [0.02597598],\n",
       "         [0.02597598],\n",
       "         [0.45223941],\n",
       "         [0.45223941],\n",
       "         [0.05830967],\n",
       "         [0.05830967],\n",
       "         [0.86489937],\n",
       "         [0.86489937],\n",
       "         [0.44835964],\n",
       "         [0.44835964],\n",
       "         [0.17613151],\n",
       "         [0.17613151],\n",
       "         [0.2402917 ],\n",
       "         [0.2402917 ],\n",
       "         [0.34394088],\n",
       "         [0.34394088],\n",
       "         [0.79656576],\n",
       "         [0.79656576],\n",
       "         [0.93672468],\n",
       "         [0.93672468],\n",
       "         [0.10650323],\n",
       "         [0.10650323],\n",
       "         [0.19494291],\n",
       "         [0.19494291],\n",
       "         [0.523307  ],\n",
       "         [0.523307  ],\n",
       "         [0.72328862],\n",
       "         [0.72328862],\n",
       "         [0.63936503],\n",
       "         [0.63936503],\n",
       "         [0.50400605],\n",
       "         [0.50400605],\n",
       "         [0.47631485],\n",
       "         [0.47631485],\n",
       "         [0.81567775],\n",
       "         [0.81567775],\n",
       "         [0.0547334 ],\n",
       "         [0.0547334 ],\n",
       "         [0.49745505],\n",
       "         [0.49745505],\n",
       "         [0.50265916],\n",
       "         [0.50265916],\n",
       "         [0.73175399],\n",
       "         [0.73175399],\n",
       "         [0.09784086],\n",
       "         [0.09784086],\n",
       "         [0.42745435],\n",
       "         [0.42745435],\n",
       "         [0.41660319],\n",
       "         [0.41660319],\n",
       "         [0.36301206],\n",
       "         [0.36301206],\n",
       "         [0.16225986],\n",
       "         [0.16225986],\n",
       "         [0.20232869],\n",
       "         [0.20232869],\n",
       "         [0.02371988],\n",
       "         [0.02371988],\n",
       "         [0.50692535],\n",
       "         [0.50692535],\n",
       "         [0.18710348],\n",
       "         [0.18710348],\n",
       "         [0.04302816],\n",
       "         [0.04302816],\n",
       "         [0.83489106],\n",
       "         [0.83489106],\n",
       "         [0.94296889],\n",
       "         [0.94296889],\n",
       "         [0.75144421],\n",
       "         [0.75144421],\n",
       "         [0.64658183],\n",
       "         [0.64658183],\n",
       "         [0.79283194],\n",
       "         [0.79283194],\n",
       "         [0.16400476],\n",
       "         [0.16400476],\n",
       "         [0.47022261],\n",
       "         [0.47022261],\n",
       "         [0.36736954],\n",
       "         [0.36736954],\n",
       "         [0.23691388],\n",
       "         [0.23691388],\n",
       "         [0.10271197],\n",
       "         [0.10271197],\n",
       "         [0.47479652],\n",
       "         [0.47479652],\n",
       "         [0.94280909],\n",
       "         [0.94280909],\n",
       "         [0.64368165],\n",
       "         [0.64368165],\n",
       "         [0.8896599 ],\n",
       "         [0.8896599 ],\n",
       "         [0.19024628],\n",
       "         [0.19024628],\n",
       "         [0.69365546],\n",
       "         [0.69365546],\n",
       "         [0.1645498 ],\n",
       "         [0.1645498 ],\n",
       "         [0.07354104],\n",
       "         [0.07354104],\n",
       "         [0.98997579],\n",
       "         [0.98997579],\n",
       "         [0.01559994],\n",
       "         [0.01559994],\n",
       "         [0.03934488],\n",
       "         [0.03934488],\n",
       "         [0.18334162],\n",
       "         [0.18334162],\n",
       "         [0.87477009],\n",
       "         [0.87477009],\n",
       "         [0.13499549],\n",
       "         [0.13499549],\n",
       "         [0.77663936],\n",
       "         [0.77663936],\n",
       "         [0.05687193],\n",
       "         [0.05687193],\n",
       "         [0.87360461],\n",
       "         [0.87360461],\n",
       "         [0.88863472],\n",
       "         [0.88863472],\n",
       "         [0.97331165],\n",
       "         [0.97331165],\n",
       "         [0.560741  ],\n",
       "         [0.560741  ],\n",
       "         [0.68295931],\n",
       "         [0.68295931],\n",
       "         [0.15659521],\n",
       "         [0.15659521],\n",
       "         [0.45949745],\n",
       "         [0.45949745],\n",
       "         [0.95327597],\n",
       "         [0.95327597],\n",
       "         [0.39049065],\n",
       "         [0.39049065],\n",
       "         [0.44125584],\n",
       "         [0.44125584],\n",
       "         [0.77028052],\n",
       "         [0.77028052],\n",
       "         [0.08355862],\n",
       "         [0.08355862],\n",
       "         [0.71411931],\n",
       "         [0.71411931],\n",
       "         [0.38705943],\n",
       "         [0.38705943],\n",
       "         [0.48893881],\n",
       "         [0.48893881],\n",
       "         [0.43995832],\n",
       "         [0.43995832],\n",
       "         [0.87082897],\n",
       "         [0.87082897],\n",
       "         [0.76770772],\n",
       "         [0.76770772]])}}"
      ]
     },
     "execution_count": 1,
     "metadata": {},
     "output_type": "execute_result"
    }
   ],
   "source": [
    "ds = load_by_id(run_id_a)\n",
    "ds.get_parameter_data('x1')"
   ]
  },
  {
   "cell_type": "code",
   "execution_count": null,
   "metadata": {},
   "outputs": [],
   "source": []
  }
 ],
 "metadata": {
  "kernelspec": {
   "display_name": "Python 3",
   "language": "python",
   "name": "python3"
  },
  "language_info": {
   "codemirror_mode": {
    "name": "ipython",
    "version": 3
   },
   "file_extension": ".py",
   "mimetype": "text/x-python",
   "name": "python",
   "nbconvert_exporter": "python",
   "pygments_lexer": "ipython3",
   "version": "3.7.10"
  },
  "nbsphinx": {
   "timeout": 600
  },
  "toc": {
   "base_numbering": 1,
   "nav_menu": {},
   "number_sections": true,
   "sideBar": true,
   "skip_h1_title": false,
   "title_cell": "Table of Contents",
   "title_sidebar": "Contents",
   "toc_cell": false,
   "toc_position": {},
   "toc_section_display": true,
   "toc_window_display": false
  },
  "varInspector": {
   "cols": {
    "lenName": 16,
    "lenType": 16,
    "lenVar": 40
   },
   "kernels_config": {
    "python": {
     "delete_cmd_postfix": "",
     "delete_cmd_prefix": "del ",
     "library": "var_list.py",
     "varRefreshCmd": "print(var_dic_list())"
    },
    "r": {
     "delete_cmd_postfix": ") ",
     "delete_cmd_prefix": "rm(",
     "library": "var_list.r",
     "varRefreshCmd": "cat(var_dic_list()) "
    }
   },
   "types_to_exclude": [
    "module",
    "function",
    "builtin_function_or_method",
    "instance",
    "_Feature"
   ],
   "window_display": false
  }
 },
 "nbformat": 4,
 "nbformat_minor": 4
}
