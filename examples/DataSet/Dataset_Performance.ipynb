{
 "cells": [
  {
   "cell_type": "markdown",
   "metadata": {},
   "source": [
    "# DataSet Performance\n",
    "\n",
    "This notebook shows the trade-off between inserting data into a database row-by-row and as binary blobs. Inserting the data row-by-row means that we have direct access to all the data and may perform queries directly on the values of the data. On the other hand, as we shall see, this is much slower than inserting the data directly as binary blobs."
   ]
  },
  {
   "cell_type": "markdown",
   "metadata": {},
   "source": [
    "First, we choose a new location for the database to ensure that we don't add a bunch of benchmarking data to the default one."
   ]
  },
  {
   "cell_type": "code",
   "execution_count": 1,
   "metadata": {
    "execution": {
     "iopub.execute_input": "2020-09-18T14:38:15.443436Z",
     "iopub.status.busy": "2020-09-18T14:38:15.442858Z",
     "iopub.status.idle": "2020-09-18T14:38:16.444476Z",
     "shell.execute_reply": "2020-09-18T14:38:16.443991Z"
    }
   },
   "outputs": [
    {
     "name": "stdout",
     "output_type": "stream",
     "text": [
      "Logging hadn't been started.\n",
      "Activating auto-logging. Current session state plus future input saved.\n",
      "Filename       : /home/vsts/.qcodes/logs/command_history.log\n",
      "Mode           : append\n",
      "Output logging : True\n",
      "Raw input log  : False\n",
      "Timestamping   : True\n",
      "State          : active\n"
     ]
    },
    {
     "name": "stdout",
     "output_type": "stream",
     "text": [
      "Qcodes Logfile : /home/vsts/.qcodes/logs/200918-19278-qcodes.log\n"
     ]
    }
   ],
   "source": [
    "import os\n",
    "cwd = os.getcwd()\n",
    "import qcodes as qc\n",
    "qc.config[\"core\"][\"db_location\"] = os.path.join(cwd, 'testing.db')\n"
   ]
  },
  {
   "cell_type": "code",
   "execution_count": 2,
   "metadata": {
    "execution": {
     "iopub.execute_input": "2020-09-18T14:38:16.450664Z",
     "iopub.status.busy": "2020-09-18T14:38:16.449816Z",
     "iopub.status.idle": "2020-09-18T14:38:16.619211Z",
     "shell.execute_reply": "2020-09-18T14:38:16.618380Z"
    }
   },
   "outputs": [],
   "source": [
    "%matplotlib inline\n",
    "import time\n",
    "import matplotlib.pyplot as plt\n",
    "import numpy as np\n",
    "\n",
    "import qcodes as qc\n",
    "from qcodes.instrument.parameter import ManualParameter\n",
    "from qcodes.dataset.experiment_container import (Experiment,\n",
    "                                                 load_last_experiment,\n",
    "                                                 new_experiment)\n",
    "from qcodes.dataset.sqlite.database import initialise_database\n",
    "from qcodes import load_or_create_experiment\n",
    "from qcodes.dataset.measurements import Measurement"
   ]
  },
  {
   "cell_type": "code",
   "execution_count": 3,
   "metadata": {
    "execution": {
     "iopub.execute_input": "2020-09-18T14:38:16.624397Z",
     "iopub.status.busy": "2020-09-18T14:38:16.623802Z",
     "iopub.status.idle": "2020-09-18T14:38:16.701638Z",
     "shell.execute_reply": "2020-09-18T14:38:16.701085Z"
    }
   },
   "outputs": [
    {
     "name": "stdout",
     "output_type": "stream",
     "text": [
      "\r",
      "0it [00:00, ?it/s]"
     ]
    },
    {
     "name": "stdout",
     "output_type": "stream",
     "text": [
      "\r",
      "Upgrading database; v0 -> v1: : 0it [00:00, ?it/s]"
     ]
    },
    {
     "name": "stdout",
     "output_type": "stream",
     "text": [
      "\r",
      "Upgrading database; v0 -> v1: : 0it [00:00, ?it/s]"
     ]
    },
    {
     "name": "stdout",
     "output_type": "stream",
     "text": [
      "\n",
      "\r",
      "  0%|          | 0/1 [00:00<?, ?it/s]"
     ]
    },
    {
     "name": "stdout",
     "output_type": "stream",
     "text": [
      "\r",
      "Upgrading database; v1 -> v2:   0%|          | 0/1 [00:00<?, ?it/s]"
     ]
    },
    {
     "name": "stdout",
     "output_type": "stream",
     "text": [
      "\r",
      "Upgrading database; v1 -> v2: 100%|██████████| 1/1 [00:00<00:00, 484.27it/s]"
     ]
    },
    {
     "name": "stdout",
     "output_type": "stream",
     "text": [
      "\n",
      "\r",
      "0it [00:00, ?it/s]"
     ]
    },
    {
     "name": "stdout",
     "output_type": "stream",
     "text": [
      "\r",
      "Upgrading database; v2 -> v3: : 0it [00:00, ?it/s]"
     ]
    },
    {
     "name": "stdout",
     "output_type": "stream",
     "text": [
      "\r",
      "Upgrading database; v2 -> v3: : 0it [00:00, ?it/s]"
     ]
    },
    {
     "name": "stdout",
     "output_type": "stream",
     "text": [
      "\n",
      "\r",
      "0it [00:00, ?it/s]"
     ]
    },
    {
     "name": "stdout",
     "output_type": "stream",
     "text": [
      "\r",
      "Upgrading database; v3 -> v4: : 0it [00:00, ?it/s]"
     ]
    },
    {
     "name": "stdout",
     "output_type": "stream",
     "text": [
      "\r",
      "Upgrading database; v3 -> v4: : 0it [00:00, ?it/s]"
     ]
    },
    {
     "name": "stdout",
     "output_type": "stream",
     "text": [
      "\n",
      "\r",
      "  0%|          | 0/1 [00:00<?, ?it/s]"
     ]
    },
    {
     "name": "stdout",
     "output_type": "stream",
     "text": [
      "\r",
      "Upgrading database; v4 -> v5:   0%|          | 0/1 [00:00<?, ?it/s]"
     ]
    },
    {
     "name": "stdout",
     "output_type": "stream",
     "text": [
      "\r",
      "Upgrading database; v4 -> v5: 100%|██████████| 1/1 [00:00<00:00, 472.97it/s]"
     ]
    },
    {
     "name": "stdout",
     "output_type": "stream",
     "text": [
      "\n",
      "\r",
      "0it [00:00, ?it/s]"
     ]
    },
    {
     "name": "stdout",
     "output_type": "stream",
     "text": [
      "\r",
      "Upgrading database; v5 -> v6: : 0it [00:00, ?it/s]"
     ]
    },
    {
     "name": "stdout",
     "output_type": "stream",
     "text": [
      "\r",
      "Upgrading database; v5 -> v6: : 0it [00:00, ?it/s]"
     ]
    },
    {
     "name": "stdout",
     "output_type": "stream",
     "text": [
      "\n",
      "\r",
      "  0%|          | 0/1 [00:00<?, ?it/s]"
     ]
    },
    {
     "name": "stdout",
     "output_type": "stream",
     "text": [
      "\r",
      "Upgrading database; v6 -> v7:   0%|          | 0/1 [00:00<?, ?it/s]"
     ]
    },
    {
     "name": "stdout",
     "output_type": "stream",
     "text": [
      "\r",
      "Upgrading database; v6 -> v7: 100%|██████████| 1/1 [00:00<00:00, 340.23it/s]"
     ]
    },
    {
     "name": "stdout",
     "output_type": "stream",
     "text": [
      "\n",
      "\r",
      "  0%|          | 0/1 [00:00<?, ?it/s]"
     ]
    },
    {
     "name": "stdout",
     "output_type": "stream",
     "text": [
      "\r",
      "Upgrading database; v7 -> v8:   0%|          | 0/1 [00:00<?, ?it/s]"
     ]
    },
    {
     "name": "stdout",
     "output_type": "stream",
     "text": [
      "\r",
      "Upgrading database; v7 -> v8: 100%|██████████| 1/1 [00:00<00:00, 838.02it/s]"
     ]
    },
    {
     "name": "stdout",
     "output_type": "stream",
     "text": [
      "\n",
      "\r",
      "  0%|          | 0/1 [00:00<?, ?it/s]"
     ]
    },
    {
     "name": "stdout",
     "output_type": "stream",
     "text": [
      "\r",
      "Upgrading database; v8 -> v9:   0%|          | 0/1 [00:00<?, ?it/s]"
     ]
    },
    {
     "name": "stdout",
     "output_type": "stream",
     "text": [
      "\r",
      "Upgrading database; v8 -> v9: 100%|██████████| 1/1 [00:00<00:00, 446.82it/s]"
     ]
    },
    {
     "name": "stdout",
     "output_type": "stream",
     "text": [
      "\n"
     ]
    }
   ],
   "source": [
    "initialise_database()\n",
    "exp = load_or_create_experiment(experiment_name='tutorial_exp', sample_name=\"no sample\")"
   ]
  },
  {
   "cell_type": "markdown",
   "metadata": {},
   "source": [
    "Here, we define a simple function to benchmark the time it takes to insert n points with either numeric or array data type.\n",
    "We will compare both the time used to call ``add_result`` and the time used for the full measurement."
   ]
  },
  {
   "cell_type": "code",
   "execution_count": 4,
   "metadata": {
    "execution": {
     "iopub.execute_input": "2020-09-18T14:38:16.711012Z",
     "iopub.status.busy": "2020-09-18T14:38:16.709909Z",
     "iopub.status.idle": "2020-09-18T14:38:16.711532Z",
     "shell.execute_reply": "2020-09-18T14:38:16.712037Z"
    }
   },
   "outputs": [],
   "source": [
    "def insert_data(paramtype, npoints, nreps=1):\n",
    "\n",
    "    meas = Measurement(exp=exp)\n",
    "\n",
    "    x1 = ManualParameter('x1')\n",
    "    x2 = ManualParameter('x2')\n",
    "    x3 = ManualParameter('x3')\n",
    "    y1 = ManualParameter('y1')\n",
    "    y2 = ManualParameter('y2')\n",
    "\n",
    "    meas.register_parameter(x1, paramtype=paramtype)\n",
    "    meas.register_parameter(x2, paramtype=paramtype)\n",
    "    meas.register_parameter(x3, paramtype=paramtype)\n",
    "    meas.register_parameter(y1, setpoints=[x1, x2, x3],\n",
    "                            paramtype=paramtype)\n",
    "    meas.register_parameter(y2, setpoints=[x1, x2, x3],\n",
    "                            paramtype=paramtype)\n",
    "    start = time.perf_counter()\n",
    "    with meas.run() as datasaver:\n",
    "        start_adding = time.perf_counter()\n",
    "        for i in range(nreps):\n",
    "            datasaver.add_result((x1, np.random.rand(npoints)),\n",
    "                                 (x2, np.random.rand(npoints)),\n",
    "                                 (x3, np.random.rand(npoints)),\n",
    "                                 (y1, np.random.rand(npoints)),\n",
    "                                 (y2, np.random.rand(npoints)))\n",
    "        stop_adding = time.perf_counter()\n",
    "        run_id = datasaver.run_id\n",
    "    stop = time.perf_counter()\n",
    "    tot_time = stop - start\n",
    "    add_time = stop_adding - start_adding\n",
    "    return tot_time, add_time, run_id"
   ]
  },
  {
   "cell_type": "markdown",
   "metadata": {},
   "source": [
    "## Comparison between numeric/array data and binary blob"
   ]
  },
  {
   "cell_type": "markdown",
   "metadata": {},
   "source": [
    "### Case1: Short experiment time"
   ]
  },
  {
   "cell_type": "code",
   "execution_count": 5,
   "metadata": {
    "execution": {
     "iopub.execute_input": "2020-09-18T14:38:16.717257Z",
     "iopub.status.busy": "2020-09-18T14:38:16.716745Z",
     "iopub.status.idle": "2020-09-18T14:38:17.552108Z",
     "shell.execute_reply": "2020-09-18T14:38:17.551621Z"
    }
   },
   "outputs": [
    {
     "name": "stdout",
     "output_type": "stream",
     "text": [
      "Starting experimental run with id: 1. \n",
      "Starting experimental run with id: 2. \n",
      "Starting experimental run with id: 3. \n",
      "Starting experimental run with id: 4. \n"
     ]
    },
    {
     "name": "stdout",
     "output_type": "stream",
     "text": [
      "Starting experimental run with id: 5. \n"
     ]
    },
    {
     "name": "stdout",
     "output_type": "stream",
     "text": [
      "Starting experimental run with id: 6. \n",
      "Starting experimental run with id: 7. \n"
     ]
    },
    {
     "name": "stdout",
     "output_type": "stream",
     "text": [
      "Starting experimental run with id: 8. \n",
      "Starting experimental run with id: 9. \n"
     ]
    },
    {
     "name": "stdout",
     "output_type": "stream",
     "text": [
      "Starting experimental run with id: 10. \n",
      "Starting experimental run with id: 11. \n"
     ]
    },
    {
     "name": "stdout",
     "output_type": "stream",
     "text": [
      "Starting experimental run with id: 12. \n",
      "Starting experimental run with id: 13. \n"
     ]
    },
    {
     "name": "stdout",
     "output_type": "stream",
     "text": [
      "Starting experimental run with id: 14. \n"
     ]
    }
   ],
   "source": [
    "sizes = [1,500,1000,2000,3000,4000,5000]\n",
    "t_numeric = []\n",
    "t_numeric_add = []\n",
    "t_array = []\n",
    "t_array_add = []\n",
    "for size in sizes:\n",
    "    tn, tna, run_id_n =  insert_data('numeric', size)\n",
    "    t_numeric.append(tn)\n",
    "    t_numeric_add.append(tna)\n",
    "\n",
    "    ta, taa, run_id_a =  insert_data('array', size)\n",
    "    t_array.append(ta)\n",
    "    t_array_add.append(taa)"
   ]
  },
  {
   "cell_type": "code",
   "execution_count": 6,
   "metadata": {
    "execution": {
     "iopub.execute_input": "2020-09-18T14:38:17.557153Z",
     "iopub.status.busy": "2020-09-18T14:38:17.556603Z",
     "iopub.status.idle": "2020-09-18T14:38:17.748392Z",
     "shell.execute_reply": "2020-09-18T14:38:17.747970Z"
    }
   },
   "outputs": [
    {
     "data": {
      "image/png": "[encoded data removed]",
      "text/plain": [
       "<Figure size 432x288 with 1 Axes>"
      ]
     },
     "metadata": {
      "needs_background": "light"
     },
     "output_type": "display_data"
    }
   ],
   "source": [
    "fig, ax = plt.subplots(1,1)\n",
    "ax.plot(sizes, t_numeric, 'o-', label='Inserting row-by-row')\n",
    "ax.plot(sizes, t_numeric_add, 'o-', label='Inserting row-by-row: add_result only')\n",
    "ax.plot(sizes, t_array, 'd-', label='Inserting as binary blob')\n",
    "ax.plot(sizes, t_array_add, 'd-', label='Inserting as binary blob: add_result only')\n",
    "ax.legend()\n",
    "ax.set_xlabel('Array length')\n",
    "ax.set_ylabel('Time (s)')\n",
    "fig.tight_layout()"
   ]
  },
  {
   "cell_type": "markdown",
   "metadata": {},
   "source": [
    "As shown in the latter figure, the time to setup and and close the experiment is approximately 0.4 sec. In case of small array sizes, the difference between inserting values of data as arrays and inserting them row-by-row is relatively unimportant. At larger array sizes, i.e. above 10000 points, the cost of writing data as individual datapoints starts to become important.\n"
   ]
  },
  {
   "cell_type": "markdown",
   "metadata": {},
   "source": [
    "### Case2: Long experiment time "
   ]
  },
  {
   "cell_type": "code",
   "execution_count": 7,
   "metadata": {
    "execution": {
     "iopub.execute_input": "2020-09-18T14:38:17.755772Z",
     "iopub.status.busy": "2020-09-18T14:38:17.755190Z",
     "iopub.status.idle": "2020-09-18T14:39:15.710540Z",
     "shell.execute_reply": "2020-09-18T14:39:15.709937Z"
    }
   },
   "outputs": [
    {
     "name": "stdout",
     "output_type": "stream",
     "text": [
      "Starting experimental run with id: 15. \n",
      "Starting experimental run with id: 16. \n",
      "Starting experimental run with id: 17. \n"
     ]
    },
    {
     "name": "stdout",
     "output_type": "stream",
     "text": [
      "Starting experimental run with id: 18. \n",
      "Starting experimental run with id: 19. \n"
     ]
    },
    {
     "name": "stdout",
     "output_type": "stream",
     "text": [
      "Starting experimental run with id: 20. \n"
     ]
    },
    {
     "name": "stdout",
     "output_type": "stream",
     "text": [
      "Starting experimental run with id: 21. \n"
     ]
    },
    {
     "name": "stdout",
     "output_type": "stream",
     "text": [
      "Starting experimental run with id: 22. \n"
     ]
    },
    {
     "name": "stdout",
     "output_type": "stream",
     "text": [
      "Starting experimental run with id: 23. \n"
     ]
    },
    {
     "name": "stdout",
     "output_type": "stream",
     "text": [
      "Starting experimental run with id: 24. \n"
     ]
    },
    {
     "name": "stdout",
     "output_type": "stream",
     "text": [
      "Starting experimental run with id: 25. \n"
     ]
    },
    {
     "name": "stdout",
     "output_type": "stream",
     "text": [
      "Starting experimental run with id: 26. \n"
     ]
    },
    {
     "name": "stdout",
     "output_type": "stream",
     "text": [
      "Starting experimental run with id: 27. \n"
     ]
    },
    {
     "name": "stdout",
     "output_type": "stream",
     "text": [
      "Starting experimental run with id: 28. \n"
     ]
    }
   ],
   "source": [
    "sizes = [1,500,1000,2000,3000,4000,5000]\n",
    "nreps = 100\n",
    "t_numeric = []\n",
    "t_numeric_add = []\n",
    "t_numeric_run_ids = []\n",
    "t_array = []\n",
    "t_array_add = []\n",
    "t_array_run_ids = []\n",
    "for size in sizes:\n",
    "    tn, tna, run_id_n =  insert_data('numeric', size, nreps=nreps)\n",
    "    t_numeric.append(tn)\n",
    "    t_numeric_add.append(tna)\n",
    "    t_numeric_run_ids.append(run_id_n)\n",
    "\n",
    "    ta, taa, run_id_a =  insert_data('array', size, nreps=nreps)\n",
    "    t_array.append(ta)\n",
    "    t_array_add.append(taa)\n",
    "    t_array_run_ids.append(run_id_a)"
   ]
  },
  {
   "cell_type": "code",
   "execution_count": 8,
   "metadata": {
    "execution": {
     "iopub.execute_input": "2020-09-18T14:39:15.719923Z",
     "iopub.status.busy": "2020-09-18T14:39:15.715854Z",
     "iopub.status.idle": "2020-09-18T14:39:15.911385Z",
     "shell.execute_reply": "2020-09-18T14:39:15.910717Z"
    },
    "scrolled": true
   },
   "outputs": [
    {
     "data": {
      "image/png": "[encoded data removed]",
      "text/plain": [
       "<Figure size 432x288 with 1 Axes>"
      ]
     },
     "metadata": {
      "needs_background": "light"
     },
     "output_type": "display_data"
    }
   ],
   "source": [
    "fig, ax = plt.subplots(1,1)\n",
    "ax.plot(sizes, t_numeric, 'o-', label='Inserting row-by-row')\n",
    "ax.plot(sizes, t_numeric_add, 'o-', label='Inserting row-by-row: add_result only')\n",
    "ax.plot(sizes, t_array, 'd-', label='Inserting as binary blob')\n",
    "ax.plot(sizes, t_array_add, 'd-', label='Inserting as binary blob: add_result only')\n",
    "ax.legend()\n",
    "ax.set_xlabel('Array length')\n",
    "ax.set_ylabel('Time (s)')\n",
    "fig.tight_layout()"
   ]
  },
  {
   "cell_type": "markdown",
   "metadata": {},
   "source": [
    "However, as we increase the length of the experiment, as seen here by repeating the insertion 100 times, we see a big difference between inserting values of the data row-by-row and inserting it as a binary blob."
   ]
  },
  {
   "cell_type": "markdown",
   "metadata": {},
   "source": [
    "## Loading the data "
   ]
  },
  {
   "cell_type": "code",
   "execution_count": 9,
   "metadata": {
    "execution": {
     "iopub.execute_input": "2020-09-18T14:39:15.916028Z",
     "iopub.status.busy": "2020-09-18T14:39:15.915129Z",
     "iopub.status.idle": "2020-09-18T14:39:15.919320Z",
     "shell.execute_reply": "2020-09-18T14:39:15.918689Z"
    }
   },
   "outputs": [],
   "source": [
    "from qcodes.dataset.data_set import load_by_id\n",
    "from qcodes.dataset.data_export import get_data_by_id"
   ]
  },
  {
   "cell_type": "markdown",
   "metadata": {},
   "source": [
    "As usual you can load the data by using the ``load_by_id`` function but you will notice that the different storage methods\n",
    "are reflected in shape of the data as it is retrieved. "
   ]
  },
  {
   "cell_type": "code",
   "execution_count": 10,
   "metadata": {
    "execution": {
     "iopub.execute_input": "2020-09-18T14:39:15.923536Z",
     "iopub.status.busy": "2020-09-18T14:39:15.923016Z",
     "iopub.status.idle": "2020-09-18T14:39:15.926538Z",
     "shell.execute_reply": "2020-09-18T14:39:15.925770Z"
    }
   },
   "outputs": [],
   "source": [
    "run_id_n = t_numeric_run_ids[0]\n",
    "run_id_a = t_array_run_ids[0]"
   ]
  },
  {
   "cell_type": "code",
   "execution_count": 11,
   "metadata": {
    "execution": {
     "iopub.execute_input": "2020-09-18T14:39:15.930168Z",
     "iopub.status.busy": "2020-09-18T14:39:15.929578Z",
     "iopub.status.idle": "2020-09-18T14:39:15.939258Z",
     "shell.execute_reply": "2020-09-18T14:39:15.939818Z"
    },
    "scrolled": true
   },
   "outputs": [
    {
     "data": {
      "text/plain": [
       "{'x1': {'x1': array([0.79836018, 0.79836018, 0.18650525, 0.18650525, 0.83366753,\n",
       "         0.83366753, 0.35095879, 0.35095879, 0.81006474, 0.81006474,\n",
       "         0.43217595, 0.43217595, 0.79416302, 0.79416302, 0.3796678 ,\n",
       "         0.3796678 , 0.4830288 , 0.4830288 , 0.55276094, 0.55276094,\n",
       "         0.24922385, 0.24922385, 0.30239771, 0.30239771, 0.6421756 ,\n",
       "         0.6421756 , 0.62997854, 0.62997854, 0.26264447, 0.26264447,\n",
       "         0.57878953, 0.57878953, 0.65310758, 0.65310758, 0.81169236,\n",
       "         0.81169236, 0.90937477, 0.90937477, 0.76395778, 0.76395778,\n",
       "         0.27334007, 0.27334007, 0.7787362 , 0.7787362 , 0.75790423,\n",
       "         0.75790423, 0.26058926, 0.26058926, 0.38485827, 0.38485827,\n",
       "         0.80688541, 0.80688541, 0.28614779, 0.28614779, 0.05883978,\n",
       "         0.05883978, 0.79155122, 0.79155122, 0.75058691, 0.75058691,\n",
       "         0.99389775, 0.99389775, 0.17906442, 0.17906442, 0.78178869,\n",
       "         0.78178869, 0.2602052 , 0.2602052 , 0.05610439, 0.05610439,\n",
       "         0.81607431, 0.81607431, 0.46914249, 0.46914249, 0.39823043,\n",
       "         0.39823043, 0.59307673, 0.59307673, 0.17693498, 0.17693498,\n",
       "         0.30143163, 0.30143163, 0.41460192, 0.41460192, 0.08192966,\n",
       "         0.08192966, 0.07375819, 0.07375819, 0.418198  , 0.418198  ,\n",
       "         0.2577777 , 0.2577777 , 0.36856783, 0.36856783, 0.13744918,\n",
       "         0.13744918, 0.1791585 , 0.1791585 , 0.93390814, 0.93390814,\n",
       "         0.60791445, 0.60791445, 0.0861344 , 0.0861344 , 0.21267357,\n",
       "         0.21267357, 0.27660672, 0.27660672, 0.91347881, 0.91347881,\n",
       "         0.51270591, 0.51270591, 0.57019173, 0.57019173, 0.93776105,\n",
       "         0.93776105, 0.52857723, 0.52857723, 0.54301481, 0.54301481,\n",
       "         0.93250946, 0.93250946, 0.0637797 , 0.0637797 , 0.54591163,\n",
       "         0.54591163, 0.54191289, 0.54191289, 0.10225867, 0.10225867,\n",
       "         0.40912375, 0.40912375, 0.09038511, 0.09038511, 0.37373879,\n",
       "         0.37373879, 0.56931087, 0.56931087, 0.5276183 , 0.5276183 ,\n",
       "         0.71902882, 0.71902882, 0.92912507, 0.92912507, 0.26219251,\n",
       "         0.26219251, 0.56820192, 0.56820192, 0.14550227, 0.14550227,\n",
       "         0.35805885, 0.35805885, 0.61096845, 0.61096845, 0.58601176,\n",
       "         0.58601176, 0.04120367, 0.04120367, 0.22555094, 0.22555094,\n",
       "         0.18453507, 0.18453507, 0.10933092, 0.10933092, 0.17262368,\n",
       "         0.17262368, 0.94168158, 0.94168158, 0.44804762, 0.44804762,\n",
       "         0.26267801, 0.26267801, 0.91435242, 0.91435242, 0.3222267 ,\n",
       "         0.3222267 , 0.10084387, 0.10084387, 0.36428057, 0.36428057,\n",
       "         0.0875713 , 0.0875713 , 0.91893071, 0.91893071, 0.94786275,\n",
       "         0.94786275, 0.59079712, 0.59079712, 0.1976165 , 0.1976165 ,\n",
       "         0.14628039, 0.14628039, 0.69214089, 0.69214089, 0.68114188,\n",
       "         0.68114188, 0.84417494, 0.84417494, 0.82092435, 0.82092435])}}"
      ]
     },
     "execution_count": 1,
     "metadata": {},
     "output_type": "execute_result"
    }
   ],
   "source": [
    "ds = load_by_id(run_id_n)\n",
    "ds.get_parameter_data('x1')"
   ]
  },
  {
   "cell_type": "markdown",
   "metadata": {},
   "source": [
    "And a dataset stored as binary arrays"
   ]
  },
  {
   "cell_type": "code",
   "execution_count": 12,
   "metadata": {
    "execution": {
     "iopub.execute_input": "2020-09-18T14:39:15.944526Z",
     "iopub.status.busy": "2020-09-18T14:39:15.944012Z",
     "iopub.status.idle": "2020-09-18T14:39:15.999826Z",
     "shell.execute_reply": "2020-09-18T14:39:16.000746Z"
    },
    "scrolled": true
   },
   "outputs": [
    {
     "data": {
      "text/plain": [
       "{'x1': {'x1': array([[0.26693894],\n",
       "         [0.26693894],\n",
       "         [0.50981599],\n",
       "         [0.50981599],\n",
       "         [0.00670919],\n",
       "         [0.00670919],\n",
       "         [0.27839813],\n",
       "         [0.27839813],\n",
       "         [0.25080187],\n",
       "         [0.25080187],\n",
       "         [0.21064829],\n",
       "         [0.21064829],\n",
       "         [0.47493215],\n",
       "         [0.47493215],\n",
       "         [0.53343383],\n",
       "         [0.53343383],\n",
       "         [0.15271654],\n",
       "         [0.15271654],\n",
       "         [0.23186274],\n",
       "         [0.23186274],\n",
       "         [0.01831965],\n",
       "         [0.01831965],\n",
       "         [0.75848294],\n",
       "         [0.75848294],\n",
       "         [0.30819379],\n",
       "         [0.30819379],\n",
       "         [0.16104832],\n",
       "         [0.16104832],\n",
       "         [0.43248637],\n",
       "         [0.43248637],\n",
       "         [0.24057646],\n",
       "         [0.24057646],\n",
       "         [0.52311205],\n",
       "         [0.52311205],\n",
       "         [0.13220895],\n",
       "         [0.13220895],\n",
       "         [0.81365978],\n",
       "         [0.81365978],\n",
       "         [0.12350028],\n",
       "         [0.12350028],\n",
       "         [0.63445775],\n",
       "         [0.63445775],\n",
       "         [0.54142803],\n",
       "         [0.54142803],\n",
       "         [0.76535676],\n",
       "         [0.76535676],\n",
       "         [0.86324025],\n",
       "         [0.86324025],\n",
       "         [0.81265418],\n",
       "         [0.81265418],\n",
       "         [0.55960476],\n",
       "         [0.55960476],\n",
       "         [0.0729253 ],\n",
       "         [0.0729253 ],\n",
       "         [0.30198345],\n",
       "         [0.30198345],\n",
       "         [0.13470838],\n",
       "         [0.13470838],\n",
       "         [0.88742885],\n",
       "         [0.88742885],\n",
       "         [0.95917274],\n",
       "         [0.95917274],\n",
       "         [0.43881575],\n",
       "         [0.43881575],\n",
       "         [0.83640605],\n",
       "         [0.83640605],\n",
       "         [0.79661047],\n",
       "         [0.79661047],\n",
       "         [0.50782748],\n",
       "         [0.50782748],\n",
       "         [0.41452319],\n",
       "         [0.41452319],\n",
       "         [0.76699387],\n",
       "         [0.76699387],\n",
       "         [0.7788444 ],\n",
       "         [0.7788444 ],\n",
       "         [0.49029438],\n",
       "         [0.49029438],\n",
       "         [0.28879743],\n",
       "         [0.28879743],\n",
       "         [0.9815844 ],\n",
       "         [0.9815844 ],\n",
       "         [0.63872178],\n",
       "         [0.63872178],\n",
       "         [0.11613172],\n",
       "         [0.11613172],\n",
       "         [0.43467766],\n",
       "         [0.43467766],\n",
       "         [0.69900928],\n",
       "         [0.69900928],\n",
       "         [0.52280289],\n",
       "         [0.52280289],\n",
       "         [0.42270828],\n",
       "         [0.42270828],\n",
       "         [0.32774324],\n",
       "         [0.32774324],\n",
       "         [0.5510753 ],\n",
       "         [0.5510753 ],\n",
       "         [0.89231486],\n",
       "         [0.89231486],\n",
       "         [0.56047798],\n",
       "         [0.56047798],\n",
       "         [0.48608313],\n",
       "         [0.48608313],\n",
       "         [0.84511747],\n",
       "         [0.84511747],\n",
       "         [0.67496958],\n",
       "         [0.67496958],\n",
       "         [0.75250534],\n",
       "         [0.75250534],\n",
       "         [0.45280889],\n",
       "         [0.45280889],\n",
       "         [0.82267849],\n",
       "         [0.82267849],\n",
       "         [0.19600939],\n",
       "         [0.19600939],\n",
       "         [0.01575232],\n",
       "         [0.01575232],\n",
       "         [0.06803742],\n",
       "         [0.06803742],\n",
       "         [0.13581188],\n",
       "         [0.13581188],\n",
       "         [0.40204016],\n",
       "         [0.40204016],\n",
       "         [0.92304988],\n",
       "         [0.92304988],\n",
       "         [0.53577496],\n",
       "         [0.53577496],\n",
       "         [0.30151098],\n",
       "         [0.30151098],\n",
       "         [0.45769354],\n",
       "         [0.45769354],\n",
       "         [0.32726232],\n",
       "         [0.32726232],\n",
       "         [0.93581193],\n",
       "         [0.93581193],\n",
       "         [0.42918664],\n",
       "         [0.42918664],\n",
       "         [0.5531709 ],\n",
       "         [0.5531709 ],\n",
       "         [0.54892039],\n",
       "         [0.54892039],\n",
       "         [0.7898973 ],\n",
       "         [0.7898973 ],\n",
       "         [0.7870887 ],\n",
       "         [0.7870887 ],\n",
       "         [0.53796051],\n",
       "         [0.53796051],\n",
       "         [0.4847062 ],\n",
       "         [0.4847062 ],\n",
       "         [0.33120711],\n",
       "         [0.33120711],\n",
       "         [0.54307036],\n",
       "         [0.54307036],\n",
       "         [0.94434628],\n",
       "         [0.94434628],\n",
       "         [0.68159335],\n",
       "         [0.68159335],\n",
       "         [0.61085284],\n",
       "         [0.61085284],\n",
       "         [0.61467077],\n",
       "         [0.61467077],\n",
       "         [0.25550299],\n",
       "         [0.25550299],\n",
       "         [0.74834507],\n",
       "         [0.74834507],\n",
       "         [0.69987877],\n",
       "         [0.69987877],\n",
       "         [0.87058441],\n",
       "         [0.87058441],\n",
       "         [0.5186508 ],\n",
       "         [0.5186508 ],\n",
       "         [0.44282155],\n",
       "         [0.44282155],\n",
       "         [0.66823218],\n",
       "         [0.66823218],\n",
       "         [0.27550016],\n",
       "         [0.27550016],\n",
       "         [0.6299349 ],\n",
       "         [0.6299349 ],\n",
       "         [0.14955835],\n",
       "         [0.14955835],\n",
       "         [0.79738885],\n",
       "         [0.79738885],\n",
       "         [0.86584012],\n",
       "         [0.86584012],\n",
       "         [0.91796688],\n",
       "         [0.91796688],\n",
       "         [0.24805284],\n",
       "         [0.24805284],\n",
       "         [0.37591748],\n",
       "         [0.37591748],\n",
       "         [0.19072221],\n",
       "         [0.19072221],\n",
       "         [0.32466192],\n",
       "         [0.32466192],\n",
       "         [0.69219041],\n",
       "         [0.69219041],\n",
       "         [0.65170045],\n",
       "         [0.65170045]])}}"
      ]
     },
     "execution_count": 1,
     "metadata": {},
     "output_type": "execute_result"
    }
   ],
   "source": [
    "ds = load_by_id(run_id_a)\n",
    "ds.get_parameter_data('x1')"
   ]
  },
  {
   "cell_type": "code",
   "execution_count": null,
   "metadata": {},
   "outputs": [],
   "source": []
  }
 ],
 "metadata": {
  "kernelspec": {
   "display_name": "Python 3",
   "language": "python",
   "name": "python3"
  },
  "language_info": {
   "codemirror_mode": {
    "name": "ipython",
    "version": 3
   },
   "file_extension": ".py",
   "mimetype": "text/x-python",
   "name": "python",
   "nbconvert_exporter": "python",
   "pygments_lexer": "ipython3",
   "version": "3.7.7"
  },
  "nbsphinx": {
   "timeout": 600
  },
  "toc": {
   "base_numbering": 1,
   "nav_menu": {},
   "number_sections": true,
   "sideBar": true,
   "skip_h1_title": false,
   "title_cell": "Table of Contents",
   "title_sidebar": "Contents",
   "toc_cell": false,
   "toc_position": {},
   "toc_section_display": true,
   "toc_window_display": false
  },
  "varInspector": {
   "cols": {
    "lenName": 16,
    "lenType": 16,
    "lenVar": 40
   },
   "kernels_config": {
    "python": {
     "delete_cmd_postfix": "",
     "delete_cmd_prefix": "del ",
     "library": "var_list.py",
     "varRefreshCmd": "print(var_dic_list())"
    },
    "r": {
     "delete_cmd_postfix": ") ",
     "delete_cmd_prefix": "rm(",
     "library": "var_list.r",
     "varRefreshCmd": "cat(var_dic_list()) "
    }
   },
   "types_to_exclude": [
    "module",
    "function",
    "builtin_function_or_method",
    "instance",
    "_Feature"
   ],
   "window_display": false
  }
 },
 "nbformat": 4,
 "nbformat_minor": 2
}
