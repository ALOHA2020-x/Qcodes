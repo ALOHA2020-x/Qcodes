{
 "cells": [
  {
   "cell_type": "markdown",
   "metadata": {},
   "source": [
    "# DataSet Performance\n",
    "\n",
    "This notebook shows the trade-off between inserting data into a database row-by-row and as binary blobs. Inserting the data row-by-row means that we have direct access to all the data and may perform queries directly on the values of the data. On the other hand, as we shall see, this is much slower than inserting the data directly as binary blobs."
   ]
  },
  {
   "cell_type": "markdown",
   "metadata": {},
   "source": [
    "First, we choose a new location for the database to ensure that we don't add a bunch of benchmarking data to the default one."
   ]
  },
  {
   "cell_type": "code",
   "execution_count": 1,
   "metadata": {
    "execution": {
     "iopub.execute_input": "2021-04-20T12:42:58.204046Z",
     "iopub.status.busy": "2021-04-20T12:42:58.203235Z",
     "iopub.status.idle": "2021-04-20T12:42:59.171396Z",
     "shell.execute_reply": "2021-04-20T12:42:59.170357Z"
    }
   },
   "outputs": [
    {
     "name": "stdout",
     "output_type": "stream",
     "text": [
      "Logging hadn't been started.\n",
      "Activating auto-logging. Current session state plus future input saved.\n",
      "Filename       : /home/runner/.qcodes/logs/command_history.log\n",
      "Mode           : append\n",
      "Output logging : True\n",
      "Raw input log  : False\n",
      "Timestamping   : True\n",
      "State          : active\n"
     ]
    },
    {
     "name": "stdout",
     "output_type": "stream",
     "text": [
      "Qcodes Logfile : /home/runner/.qcodes/logs/210420-4563-qcodes.log\n"
     ]
    }
   ],
   "source": [
    "import os\n",
    "cwd = os.getcwd()\n",
    "import qcodes as qc\n",
    "qc.config[\"core\"][\"db_location\"] = os.path.join(cwd, 'testing.db')\n"
   ]
  },
  {
   "cell_type": "code",
   "execution_count": 2,
   "metadata": {
    "execution": {
     "iopub.execute_input": "2021-04-20T12:42:59.178510Z",
     "iopub.status.busy": "2021-04-20T12:42:59.177215Z",
     "iopub.status.idle": "2021-04-20T12:42:59.405211Z",
     "shell.execute_reply": "2021-04-20T12:42:59.406042Z"
    }
   },
   "outputs": [],
   "source": [
    "%matplotlib inline\n",
    "import time\n",
    "import matplotlib.pyplot as plt\n",
    "import numpy as np\n",
    "\n",
    "import qcodes as qc\n",
    "from qcodes.instrument.parameter import ManualParameter\n",
    "from qcodes.dataset.experiment_container import (Experiment,\n",
    "                                                 load_last_experiment,\n",
    "                                                 new_experiment)\n",
    "from qcodes.dataset.sqlite.database import initialise_database\n",
    "from qcodes import load_or_create_experiment\n",
    "from qcodes.dataset.measurements import Measurement"
   ]
  },
  {
   "cell_type": "code",
   "execution_count": 3,
   "metadata": {
    "execution": {
     "iopub.execute_input": "2021-04-20T12:42:59.412026Z",
     "iopub.status.busy": "2021-04-20T12:42:59.410414Z",
     "iopub.status.idle": "2021-04-20T12:42:59.474012Z",
     "shell.execute_reply": "2021-04-20T12:42:59.473481Z"
    }
   },
   "outputs": [
    {
     "name": "stdout",
     "output_type": "stream",
     "text": [
      "\r",
      "0it [00:00, ?it/s]"
     ]
    },
    {
     "name": "stdout",
     "output_type": "stream",
     "text": [
      "\r",
      "Upgrading database; v0 -> v1: : 0it [00:00, ?it/s]"
     ]
    },
    {
     "name": "stdout",
     "output_type": "stream",
     "text": [
      "\r",
      "Upgrading database; v0 -> v1: : 0it [00:00, ?it/s]"
     ]
    },
    {
     "name": "stdout",
     "output_type": "stream",
     "text": [
      "\n",
      "\r",
      "  0%|          | 0/1 [00:00<?, ?it/s]"
     ]
    },
    {
     "name": "stdout",
     "output_type": "stream",
     "text": [
      "\r",
      "Upgrading database; v1 -> v2:   0%|          | 0/1 [00:00<?, ?it/s]"
     ]
    },
    {
     "name": "stdout",
     "output_type": "stream",
     "text": [
      "\r",
      "Upgrading database; v1 -> v2: 100%|██████████| 1/1 [00:00<00:00, 1231.08it/s]"
     ]
    },
    {
     "name": "stdout",
     "output_type": "stream",
     "text": [
      "\n",
      "\r",
      "0it [00:00, ?it/s]"
     ]
    },
    {
     "name": "stdout",
     "output_type": "stream",
     "text": [
      "\r",
      "Upgrading database; v2 -> v3: : 0it [00:00, ?it/s]"
     ]
    },
    {
     "name": "stdout",
     "output_type": "stream",
     "text": [
      "\r",
      "Upgrading database; v2 -> v3: : 0it [00:00, ?it/s]"
     ]
    },
    {
     "name": "stdout",
     "output_type": "stream",
     "text": [
      "\n",
      "\r",
      "0it [00:00, ?it/s]"
     ]
    },
    {
     "name": "stdout",
     "output_type": "stream",
     "text": [
      "\r",
      "Upgrading database; v3 -> v4: : 0it [00:00, ?it/s]"
     ]
    },
    {
     "name": "stdout",
     "output_type": "stream",
     "text": [
      "\r",
      "Upgrading database; v3 -> v4: : 0it [00:00, ?it/s]"
     ]
    },
    {
     "name": "stdout",
     "output_type": "stream",
     "text": [
      "\n",
      "\r",
      "  0%|          | 0/1 [00:00<?, ?it/s]"
     ]
    },
    {
     "name": "stdout",
     "output_type": "stream",
     "text": [
      "\r",
      "Upgrading database; v4 -> v5:   0%|          | 0/1 [00:00<?, ?it/s]"
     ]
    },
    {
     "name": "stdout",
     "output_type": "stream",
     "text": [
      "\r",
      "Upgrading database; v4 -> v5: 100%|██████████| 1/1 [00:00<00:00, 651.09it/s]"
     ]
    },
    {
     "name": "stdout",
     "output_type": "stream",
     "text": [
      "\n",
      "\r",
      "0it [00:00, ?it/s]"
     ]
    },
    {
     "name": "stdout",
     "output_type": "stream",
     "text": [
      "\r",
      "Upgrading database; v5 -> v6: : 0it [00:00, ?it/s]"
     ]
    },
    {
     "name": "stdout",
     "output_type": "stream",
     "text": [
      "\r",
      "Upgrading database; v5 -> v6: : 0it [00:00, ?it/s]"
     ]
    },
    {
     "name": "stdout",
     "output_type": "stream",
     "text": [
      "\n",
      "\r",
      "  0%|          | 0/1 [00:00<?, ?it/s]"
     ]
    },
    {
     "name": "stdout",
     "output_type": "stream",
     "text": [
      "\r",
      "Upgrading database; v6 -> v7:   0%|          | 0/1 [00:00<?, ?it/s]"
     ]
    },
    {
     "name": "stdout",
     "output_type": "stream",
     "text": [
      "\r",
      "Upgrading database; v6 -> v7: 100%|██████████| 1/1 [00:00<00:00, 425.73it/s]"
     ]
    },
    {
     "name": "stdout",
     "output_type": "stream",
     "text": [
      "\n",
      "\r",
      "  0%|          | 0/1 [00:00<?, ?it/s]"
     ]
    },
    {
     "name": "stdout",
     "output_type": "stream",
     "text": [
      "\r",
      "Upgrading database; v7 -> v8:   0%|          | 0/1 [00:00<?, ?it/s]"
     ]
    },
    {
     "name": "stdout",
     "output_type": "stream",
     "text": [
      "\r",
      "Upgrading database; v7 -> v8: 100%|██████████| 1/1 [00:00<00:00, 796.34it/s]"
     ]
    },
    {
     "name": "stdout",
     "output_type": "stream",
     "text": [
      "\n",
      "\r",
      "  0%|          | 0/1 [00:00<?, ?it/s]"
     ]
    },
    {
     "name": "stdout",
     "output_type": "stream",
     "text": [
      "\r",
      "Upgrading database; v8 -> v9:   0%|          | 0/1 [00:00<?, ?it/s]"
     ]
    },
    {
     "name": "stdout",
     "output_type": "stream",
     "text": [
      "\r",
      "Upgrading database; v8 -> v9: 100%|██████████| 1/1 [00:00<00:00, 751.67it/s]"
     ]
    },
    {
     "name": "stdout",
     "output_type": "stream",
     "text": [
      "\n"
     ]
    }
   ],
   "source": [
    "initialise_database()\n",
    "exp = load_or_create_experiment(experiment_name='tutorial_exp', sample_name=\"no sample\")"
   ]
  },
  {
   "cell_type": "markdown",
   "metadata": {},
   "source": [
    "Here, we define a simple function to benchmark the time it takes to insert n points with either numeric or array data type.\n",
    "We will compare both the time used to call ``add_result`` and the time used for the full measurement."
   ]
  },
  {
   "cell_type": "code",
   "execution_count": 4,
   "metadata": {
    "execution": {
     "iopub.execute_input": "2021-04-20T12:42:59.483302Z",
     "iopub.status.busy": "2021-04-20T12:42:59.481928Z",
     "iopub.status.idle": "2021-04-20T12:42:59.483962Z",
     "shell.execute_reply": "2021-04-20T12:42:59.484470Z"
    }
   },
   "outputs": [],
   "source": [
    "def insert_data(paramtype, npoints, nreps=1):\n",
    "\n",
    "    meas = Measurement(exp=exp)\n",
    "\n",
    "    x1 = ManualParameter('x1')\n",
    "    x2 = ManualParameter('x2')\n",
    "    x3 = ManualParameter('x3')\n",
    "    y1 = ManualParameter('y1')\n",
    "    y2 = ManualParameter('y2')\n",
    "\n",
    "    meas.register_parameter(x1, paramtype=paramtype)\n",
    "    meas.register_parameter(x2, paramtype=paramtype)\n",
    "    meas.register_parameter(x3, paramtype=paramtype)\n",
    "    meas.register_parameter(y1, setpoints=[x1, x2, x3],\n",
    "                            paramtype=paramtype)\n",
    "    meas.register_parameter(y2, setpoints=[x1, x2, x3],\n",
    "                            paramtype=paramtype)\n",
    "    start = time.perf_counter()\n",
    "    with meas.run() as datasaver:\n",
    "        start_adding = time.perf_counter()\n",
    "        for i in range(nreps):\n",
    "            datasaver.add_result((x1, np.random.rand(npoints)),\n",
    "                                 (x2, np.random.rand(npoints)),\n",
    "                                 (x3, np.random.rand(npoints)),\n",
    "                                 (y1, np.random.rand(npoints)),\n",
    "                                 (y2, np.random.rand(npoints)))\n",
    "        stop_adding = time.perf_counter()\n",
    "        run_id = datasaver.run_id\n",
    "    stop = time.perf_counter()\n",
    "    tot_time = stop - start\n",
    "    add_time = stop_adding - start_adding\n",
    "    return tot_time, add_time, run_id"
   ]
  },
  {
   "cell_type": "markdown",
   "metadata": {},
   "source": [
    "## Comparison between numeric/array data and binary blob"
   ]
  },
  {
   "cell_type": "markdown",
   "metadata": {},
   "source": [
    "### Case1: Short experiment time"
   ]
  },
  {
   "cell_type": "code",
   "execution_count": 5,
   "metadata": {
    "execution": {
     "iopub.execute_input": "2021-04-20T12:42:59.491364Z",
     "iopub.status.busy": "2021-04-20T12:42:59.490789Z",
     "iopub.status.idle": "2021-04-20T12:43:00.295703Z",
     "shell.execute_reply": "2021-04-20T12:43:00.294639Z"
    }
   },
   "outputs": [
    {
     "name": "stdout",
     "output_type": "stream",
     "text": [
      "Starting experimental run with id: 1. \n",
      "Starting experimental run with id: 2. \n",
      "Starting experimental run with id: 3. \n",
      "Starting experimental run with id: 4. \n",
      "Starting experimental run with id: 5. \n"
     ]
    },
    {
     "name": "stdout",
     "output_type": "stream",
     "text": [
      "Starting experimental run with id: 6. \n"
     ]
    },
    {
     "name": "stdout",
     "output_type": "stream",
     "text": [
      "Starting experimental run with id: 7. \n"
     ]
    },
    {
     "name": "stdout",
     "output_type": "stream",
     "text": [
      "Starting experimental run with id: 8. \n",
      "Starting experimental run with id: 9. \n"
     ]
    },
    {
     "name": "stdout",
     "output_type": "stream",
     "text": [
      "Starting experimental run with id: 10. \n",
      "Starting experimental run with id: 11. \n"
     ]
    },
    {
     "name": "stdout",
     "output_type": "stream",
     "text": [
      "Starting experimental run with id: 12. \n",
      "Starting experimental run with id: 13. \n",
      "Starting experimental run with id: 14. \n"
     ]
    }
   ],
   "source": [
    "sizes = [1,500,1000,2000,3000,4000,5000]\n",
    "t_numeric = []\n",
    "t_numeric_add = []\n",
    "t_array = []\n",
    "t_array_add = []\n",
    "for size in sizes:\n",
    "    tn, tna, run_id_n =  insert_data('numeric', size)\n",
    "    t_numeric.append(tn)\n",
    "    t_numeric_add.append(tna)\n",
    "\n",
    "    ta, taa, run_id_a =  insert_data('array', size)\n",
    "    t_array.append(ta)\n",
    "    t_array_add.append(taa)"
   ]
  },
  {
   "cell_type": "code",
   "execution_count": 6,
   "metadata": {
    "execution": {
     "iopub.execute_input": "2021-04-20T12:43:00.314404Z",
     "iopub.status.busy": "2021-04-20T12:43:00.311806Z",
     "iopub.status.idle": "2021-04-20T12:43:00.501026Z",
     "shell.execute_reply": "2021-04-20T12:43:00.501884Z"
    }
   },
   "outputs": [
    {
     "data": {
      "image/png": "[encoded data removed]",
      "text/plain": [
       "<Figure size 432x288 with 1 Axes>"
      ]
     },
     "metadata": {
      "needs_background": "light"
     },
     "output_type": "display_data"
    }
   ],
   "source": [
    "fig, ax = plt.subplots(1,1)\n",
    "ax.plot(sizes, t_numeric, 'o-', label='Inserting row-by-row')\n",
    "ax.plot(sizes, t_numeric_add, 'o-', label='Inserting row-by-row: add_result only')\n",
    "ax.plot(sizes, t_array, 'd-', label='Inserting as binary blob')\n",
    "ax.plot(sizes, t_array_add, 'd-', label='Inserting as binary blob: add_result only')\n",
    "ax.legend()\n",
    "ax.set_xlabel('Array length')\n",
    "ax.set_ylabel('Time (s)')\n",
    "fig.tight_layout()"
   ]
  },
  {
   "cell_type": "markdown",
   "metadata": {},
   "source": [
    "As shown in the latter figure, the time to setup and and close the experiment is approximately 0.4 sec. In case of small array sizes, the difference between inserting values of data as arrays and inserting them row-by-row is relatively unimportant. At larger array sizes, i.e. above 10000 points, the cost of writing data as individual datapoints starts to become important.\n"
   ]
  },
  {
   "cell_type": "markdown",
   "metadata": {},
   "source": [
    "### Case2: Long experiment time "
   ]
  },
  {
   "cell_type": "code",
   "execution_count": 7,
   "metadata": {
    "execution": {
     "iopub.execute_input": "2021-04-20T12:43:00.509389Z",
     "iopub.status.busy": "2021-04-20T12:43:00.508836Z",
     "iopub.status.idle": "2021-04-20T12:43:53.815373Z",
     "shell.execute_reply": "2021-04-20T12:43:53.816239Z"
    }
   },
   "outputs": [
    {
     "name": "stdout",
     "output_type": "stream",
     "text": [
      "Starting experimental run with id: 15. \n",
      "Starting experimental run with id: 16. \n",
      "Starting experimental run with id: 17. \n"
     ]
    },
    {
     "name": "stdout",
     "output_type": "stream",
     "text": [
      "Starting experimental run with id: 18. \n"
     ]
    },
    {
     "name": "stdout",
     "output_type": "stream",
     "text": [
      "Starting experimental run with id: 19. \n"
     ]
    },
    {
     "name": "stdout",
     "output_type": "stream",
     "text": [
      "Starting experimental run with id: 20. \n"
     ]
    },
    {
     "name": "stdout",
     "output_type": "stream",
     "text": [
      "Starting experimental run with id: 21. \n"
     ]
    },
    {
     "name": "stdout",
     "output_type": "stream",
     "text": [
      "Starting experimental run with id: 22. \n"
     ]
    },
    {
     "name": "stdout",
     "output_type": "stream",
     "text": [
      "Starting experimental run with id: 23. \n"
     ]
    },
    {
     "name": "stdout",
     "output_type": "stream",
     "text": [
      "Starting experimental run with id: 24. \n"
     ]
    },
    {
     "name": "stdout",
     "output_type": "stream",
     "text": [
      "Starting experimental run with id: 25. \n"
     ]
    },
    {
     "name": "stdout",
     "output_type": "stream",
     "text": [
      "Starting experimental run with id: 26. \n"
     ]
    },
    {
     "name": "stdout",
     "output_type": "stream",
     "text": [
      "Starting experimental run with id: 27. \n"
     ]
    },
    {
     "name": "stdout",
     "output_type": "stream",
     "text": [
      "Starting experimental run with id: 28. \n"
     ]
    }
   ],
   "source": [
    "sizes = [1,500,1000,2000,3000,4000,5000]\n",
    "nreps = 100\n",
    "t_numeric = []\n",
    "t_numeric_add = []\n",
    "t_numeric_run_ids = []\n",
    "t_array = []\n",
    "t_array_add = []\n",
    "t_array_run_ids = []\n",
    "for size in sizes:\n",
    "    tn, tna, run_id_n =  insert_data('numeric', size, nreps=nreps)\n",
    "    t_numeric.append(tn)\n",
    "    t_numeric_add.append(tna)\n",
    "    t_numeric_run_ids.append(run_id_n)\n",
    "\n",
    "    ta, taa, run_id_a =  insert_data('array', size, nreps=nreps)\n",
    "    t_array.append(ta)\n",
    "    t_array_add.append(taa)\n",
    "    t_array_run_ids.append(run_id_a)"
   ]
  },
  {
   "cell_type": "code",
   "execution_count": 8,
   "metadata": {
    "execution": {
     "iopub.execute_input": "2021-04-20T12:43:53.837077Z",
     "iopub.status.busy": "2021-04-20T12:43:53.822144Z",
     "iopub.status.idle": "2021-04-20T12:43:53.995161Z",
     "shell.execute_reply": "2021-04-20T12:43:53.996018Z"
    },
    "scrolled": true
   },
   "outputs": [
    {
     "data": {
      "image/png": "[encoded data removed]",
      "text/plain": [
       "<Figure size 432x288 with 1 Axes>"
      ]
     },
     "metadata": {
      "needs_background": "light"
     },
     "output_type": "display_data"
    }
   ],
   "source": [
    "fig, ax = plt.subplots(1,1)\n",
    "ax.plot(sizes, t_numeric, 'o-', label='Inserting row-by-row')\n",
    "ax.plot(sizes, t_numeric_add, 'o-', label='Inserting row-by-row: add_result only')\n",
    "ax.plot(sizes, t_array, 'd-', label='Inserting as binary blob')\n",
    "ax.plot(sizes, t_array_add, 'd-', label='Inserting as binary blob: add_result only')\n",
    "ax.legend()\n",
    "ax.set_xlabel('Array length')\n",
    "ax.set_ylabel('Time (s)')\n",
    "fig.tight_layout()"
   ]
  },
  {
   "cell_type": "markdown",
   "metadata": {},
   "source": [
    "However, as we increase the length of the experiment, as seen here by repeating the insertion 100 times, we see a big difference between inserting values of the data row-by-row and inserting it as a binary blob."
   ]
  },
  {
   "cell_type": "markdown",
   "metadata": {},
   "source": [
    "## Loading the data "
   ]
  },
  {
   "cell_type": "code",
   "execution_count": 9,
   "metadata": {
    "execution": {
     "iopub.execute_input": "2021-04-20T12:43:53.999701Z",
     "iopub.status.busy": "2021-04-20T12:43:53.998569Z",
     "iopub.status.idle": "2021-04-20T12:43:54.003283Z",
     "shell.execute_reply": "2021-04-20T12:43:54.004042Z"
    }
   },
   "outputs": [],
   "source": [
    "from qcodes.dataset.data_set import load_by_id"
   ]
  },
  {
   "cell_type": "markdown",
   "metadata": {},
   "source": [
    "As usual you can load the data by using the ``load_by_id`` function but you will notice that the different storage methods\n",
    "are reflected in shape of the data as it is retrieved. "
   ]
  },
  {
   "cell_type": "code",
   "execution_count": 10,
   "metadata": {
    "execution": {
     "iopub.execute_input": "2021-04-20T12:43:54.007541Z",
     "iopub.status.busy": "2021-04-20T12:43:54.006432Z",
     "iopub.status.idle": "2021-04-20T12:43:54.010867Z",
     "shell.execute_reply": "2021-04-20T12:43:54.011624Z"
    }
   },
   "outputs": [],
   "source": [
    "run_id_n = t_numeric_run_ids[0]\n",
    "run_id_a = t_array_run_ids[0]"
   ]
  },
  {
   "cell_type": "code",
   "execution_count": 11,
   "metadata": {
    "execution": {
     "iopub.execute_input": "2021-04-20T12:43:54.015010Z",
     "iopub.status.busy": "2021-04-20T12:43:54.014060Z",
     "iopub.status.idle": "2021-04-20T12:43:54.026942Z",
     "shell.execute_reply": "2021-04-20T12:43:54.026431Z"
    },
    "scrolled": true
   },
   "outputs": [
    {
     "data": {
      "text/plain": [
       "{'x1': {'x1': array([6.16668070e-01, 6.16668070e-01, 4.61156804e-01, 4.61156804e-01,\n",
       "         1.85339629e-01, 1.85339629e-01, 9.85678803e-01, 9.85678803e-01,\n",
       "         6.38504482e-01, 6.38504482e-01, 4.75049876e-01, 4.75049876e-01,\n",
       "         5.52768982e-01, 5.52768982e-01, 4.01270760e-01, 4.01270760e-01,\n",
       "         1.01387148e-01, 1.01387148e-01, 1.11086232e-01, 1.11086232e-01,\n",
       "         5.81910365e-01, 5.81910365e-01, 8.35401399e-01, 8.35401399e-01,\n",
       "         8.20886939e-01, 8.20886939e-01, 4.27663774e-01, 4.27663774e-01,\n",
       "         6.49475812e-01, 6.49475812e-01, 7.10612619e-01, 7.10612619e-01,\n",
       "         3.71340323e-01, 3.71340323e-01, 9.05256341e-01, 9.05256341e-01,\n",
       "         2.57812675e-01, 2.57812675e-01, 4.72916313e-01, 4.72916313e-01,\n",
       "         1.41322785e-01, 1.41322785e-01, 2.46948065e-01, 2.46948065e-01,\n",
       "         3.94817317e-01, 3.94817317e-01, 3.47783071e-01, 3.47783071e-01,\n",
       "         4.47928758e-01, 4.47928758e-01, 8.48211180e-01, 8.48211180e-01,\n",
       "         4.63397301e-01, 4.63397301e-01, 6.98287886e-01, 6.98287886e-01,\n",
       "         7.26650002e-01, 7.26650002e-01, 7.39097704e-01, 7.39097704e-01,\n",
       "         1.71467829e-01, 1.71467829e-01, 3.74275433e-01, 3.74275433e-01,\n",
       "         3.53375941e-01, 3.53375941e-01, 3.79136789e-01, 3.79136789e-01,\n",
       "         2.41841436e-01, 2.41841436e-01, 5.97608854e-01, 5.97608854e-01,\n",
       "         3.52541128e-01, 3.52541128e-01, 2.78101022e-01, 2.78101022e-01,\n",
       "         1.17998029e-01, 1.17998029e-01, 5.81479097e-01, 5.81479097e-01,\n",
       "         5.01723418e-01, 5.01723418e-01, 2.93699409e-01, 2.93699409e-01,\n",
       "         9.54967428e-02, 9.54967428e-02, 3.34401380e-01, 3.34401380e-01,\n",
       "         3.79632123e-01, 3.79632123e-01, 7.18017002e-01, 7.18017002e-01,\n",
       "         1.14578429e-01, 1.14578429e-01, 2.05443471e-01, 2.05443471e-01,\n",
       "         8.17180387e-01, 8.17180387e-01, 6.81098798e-01, 6.81098798e-01,\n",
       "         7.11665383e-01, 7.11665383e-01, 9.90066689e-01, 9.90066689e-01,\n",
       "         9.16555539e-01, 9.16555539e-01, 3.18846614e-01, 3.18846614e-01,\n",
       "         6.35909387e-01, 6.35909387e-01, 2.95162372e-01, 2.95162372e-01,\n",
       "         3.00401128e-01, 3.00401128e-01, 4.92216137e-01, 4.92216137e-01,\n",
       "         5.28759366e-01, 5.28759366e-01, 7.97419765e-01, 7.97419765e-01,\n",
       "         4.58353701e-01, 4.58353701e-01, 6.67158020e-01, 6.67158020e-01,\n",
       "         8.55635010e-01, 8.55635010e-01, 6.02269753e-01, 6.02269753e-01,\n",
       "         9.48966075e-01, 9.48966075e-01, 3.87066274e-01, 3.87066274e-01,\n",
       "         2.13789832e-01, 2.13789832e-01, 1.54833377e-01, 1.54833377e-01,\n",
       "         4.93889340e-01, 4.93889340e-01, 9.19579761e-01, 9.19579761e-01,\n",
       "         2.69648492e-02, 2.69648492e-02, 3.62622440e-01, 3.62622440e-01,\n",
       "         1.56658762e-01, 1.56658762e-01, 6.23530132e-01, 6.23530132e-01,\n",
       "         8.84506313e-01, 8.84506313e-01, 2.37557311e-01, 2.37557311e-01,\n",
       "         9.71860614e-01, 9.71860614e-01, 6.52712017e-01, 6.52712017e-01,\n",
       "         9.43701061e-01, 9.43701061e-01, 6.79451943e-01, 6.79451943e-01,\n",
       "         7.51586738e-01, 7.51586738e-01, 6.54064873e-01, 6.54064873e-01,\n",
       "         2.33431628e-01, 2.33431628e-01, 6.85711772e-01, 6.85711772e-01,\n",
       "         7.92512016e-02, 7.92512016e-02, 6.10987203e-01, 6.10987203e-01,\n",
       "         8.84370635e-01, 8.84370635e-01, 5.77667399e-01, 5.77667399e-01,\n",
       "         7.29204906e-01, 7.29204906e-01, 3.71048822e-01, 3.71048822e-01,\n",
       "         1.76660001e-01, 1.76660001e-01, 6.96840304e-02, 6.96840304e-02,\n",
       "         9.44729685e-01, 9.44729685e-01, 5.92380874e-01, 5.92380874e-01,\n",
       "         1.82533649e-01, 1.82533649e-01, 3.36726672e-02, 3.36726672e-02,\n",
       "         8.64348606e-01, 8.64348606e-01, 2.37931145e-01, 2.37931145e-01,\n",
       "         7.75303062e-04, 7.75303062e-04, 3.19056390e-01, 3.19056390e-01])}}"
      ]
     },
     "execution_count": 1,
     "metadata": {},
     "output_type": "execute_result"
    }
   ],
   "source": [
    "ds = load_by_id(run_id_n)\n",
    "ds.get_parameter_data('x1')"
   ]
  },
  {
   "cell_type": "markdown",
   "metadata": {},
   "source": [
    "And a dataset stored as binary arrays"
   ]
  },
  {
   "cell_type": "code",
   "execution_count": 12,
   "metadata": {
    "execution": {
     "iopub.execute_input": "2021-04-20T12:43:54.030885Z",
     "iopub.status.busy": "2021-04-20T12:43:54.030311Z",
     "iopub.status.idle": "2021-04-20T12:43:54.087389Z",
     "shell.execute_reply": "2021-04-20T12:43:54.086850Z"
    },
    "scrolled": true
   },
   "outputs": [
    {
     "data": {
      "text/plain": [
       "{'x1': {'x1': array([[0.14784871],\n",
       "         [0.14784871],\n",
       "         [0.02502031],\n",
       "         [0.02502031],\n",
       "         [0.83432066],\n",
       "         [0.83432066],\n",
       "         [0.99236179],\n",
       "         [0.99236179],\n",
       "         [0.60097595],\n",
       "         [0.60097595],\n",
       "         [0.70735844],\n",
       "         [0.70735844],\n",
       "         [0.59666037],\n",
       "         [0.59666037],\n",
       "         [0.43478013],\n",
       "         [0.43478013],\n",
       "         [0.58989419],\n",
       "         [0.58989419],\n",
       "         [0.57195159],\n",
       "         [0.57195159],\n",
       "         [0.07626633],\n",
       "         [0.07626633],\n",
       "         [0.14697856],\n",
       "         [0.14697856],\n",
       "         [0.30234713],\n",
       "         [0.30234713],\n",
       "         [0.24150536],\n",
       "         [0.24150536],\n",
       "         [0.88113444],\n",
       "         [0.88113444],\n",
       "         [0.0807006 ],\n",
       "         [0.0807006 ],\n",
       "         [0.88289096],\n",
       "         [0.88289096],\n",
       "         [0.00344454],\n",
       "         [0.00344454],\n",
       "         [0.79220459],\n",
       "         [0.79220459],\n",
       "         [0.59339709],\n",
       "         [0.59339709],\n",
       "         [0.43448234],\n",
       "         [0.43448234],\n",
       "         [0.25914112],\n",
       "         [0.25914112],\n",
       "         [0.3361127 ],\n",
       "         [0.3361127 ],\n",
       "         [0.97484012],\n",
       "         [0.97484012],\n",
       "         [0.6719939 ],\n",
       "         [0.6719939 ],\n",
       "         [0.80580962],\n",
       "         [0.80580962],\n",
       "         [0.27799965],\n",
       "         [0.27799965],\n",
       "         [0.47144597],\n",
       "         [0.47144597],\n",
       "         [0.02182474],\n",
       "         [0.02182474],\n",
       "         [0.62738669],\n",
       "         [0.62738669],\n",
       "         [0.35117928],\n",
       "         [0.35117928],\n",
       "         [0.12459165],\n",
       "         [0.12459165],\n",
       "         [0.3717069 ],\n",
       "         [0.3717069 ],\n",
       "         [0.99468256],\n",
       "         [0.99468256],\n",
       "         [0.62887704],\n",
       "         [0.62887704],\n",
       "         [0.93878499],\n",
       "         [0.93878499],\n",
       "         [0.7683296 ],\n",
       "         [0.7683296 ],\n",
       "         [0.27767871],\n",
       "         [0.27767871],\n",
       "         [0.36034857],\n",
       "         [0.36034857],\n",
       "         [0.06800431],\n",
       "         [0.06800431],\n",
       "         [0.26092955],\n",
       "         [0.26092955],\n",
       "         [0.36220989],\n",
       "         [0.36220989],\n",
       "         [0.97396975],\n",
       "         [0.97396975],\n",
       "         [0.77097498],\n",
       "         [0.77097498],\n",
       "         [0.61376885],\n",
       "         [0.61376885],\n",
       "         [0.01461028],\n",
       "         [0.01461028],\n",
       "         [0.7935943 ],\n",
       "         [0.7935943 ],\n",
       "         [0.31468504],\n",
       "         [0.31468504],\n",
       "         [0.83544997],\n",
       "         [0.83544997],\n",
       "         [0.49894549],\n",
       "         [0.49894549],\n",
       "         [0.51242902],\n",
       "         [0.51242902],\n",
       "         [0.49324948],\n",
       "         [0.49324948],\n",
       "         [0.43375301],\n",
       "         [0.43375301],\n",
       "         [0.26958988],\n",
       "         [0.26958988],\n",
       "         [0.35945072],\n",
       "         [0.35945072],\n",
       "         [0.21367291],\n",
       "         [0.21367291],\n",
       "         [0.68503984],\n",
       "         [0.68503984],\n",
       "         [0.54746942],\n",
       "         [0.54746942],\n",
       "         [0.44212264],\n",
       "         [0.44212264],\n",
       "         [0.70570332],\n",
       "         [0.70570332],\n",
       "         [0.5489593 ],\n",
       "         [0.5489593 ],\n",
       "         [0.19717054],\n",
       "         [0.19717054],\n",
       "         [0.60875093],\n",
       "         [0.60875093],\n",
       "         [0.1448854 ],\n",
       "         [0.1448854 ],\n",
       "         [0.79809735],\n",
       "         [0.79809735],\n",
       "         [0.99269908],\n",
       "         [0.99269908],\n",
       "         [0.69014357],\n",
       "         [0.69014357],\n",
       "         [0.93281884],\n",
       "         [0.93281884],\n",
       "         [0.43431439],\n",
       "         [0.43431439],\n",
       "         [0.95820483],\n",
       "         [0.95820483],\n",
       "         [0.21113479],\n",
       "         [0.21113479],\n",
       "         [0.54236334],\n",
       "         [0.54236334],\n",
       "         [0.45623503],\n",
       "         [0.45623503],\n",
       "         [0.89305496],\n",
       "         [0.89305496],\n",
       "         [0.97865451],\n",
       "         [0.97865451],\n",
       "         [0.04871067],\n",
       "         [0.04871067],\n",
       "         [0.50483177],\n",
       "         [0.50483177],\n",
       "         [0.51303484],\n",
       "         [0.51303484],\n",
       "         [0.29838479],\n",
       "         [0.29838479],\n",
       "         [0.63607655],\n",
       "         [0.63607655],\n",
       "         [0.06671055],\n",
       "         [0.06671055],\n",
       "         [0.04736334],\n",
       "         [0.04736334],\n",
       "         [0.07121692],\n",
       "         [0.07121692],\n",
       "         [0.70560703],\n",
       "         [0.70560703],\n",
       "         [0.24744592],\n",
       "         [0.24744592],\n",
       "         [0.66642333],\n",
       "         [0.66642333],\n",
       "         [0.57309155],\n",
       "         [0.57309155],\n",
       "         [0.57879513],\n",
       "         [0.57879513],\n",
       "         [0.68783054],\n",
       "         [0.68783054],\n",
       "         [0.54835268],\n",
       "         [0.54835268],\n",
       "         [0.92508906],\n",
       "         [0.92508906],\n",
       "         [0.31194252],\n",
       "         [0.31194252],\n",
       "         [0.56338101],\n",
       "         [0.56338101],\n",
       "         [0.43572712],\n",
       "         [0.43572712],\n",
       "         [0.47485471],\n",
       "         [0.47485471],\n",
       "         [0.62912715],\n",
       "         [0.62912715],\n",
       "         [0.38317418],\n",
       "         [0.38317418],\n",
       "         [0.5012517 ],\n",
       "         [0.5012517 ],\n",
       "         [0.99134394],\n",
       "         [0.99134394],\n",
       "         [0.51872914],\n",
       "         [0.51872914]])}}"
      ]
     },
     "execution_count": 1,
     "metadata": {},
     "output_type": "execute_result"
    }
   ],
   "source": [
    "ds = load_by_id(run_id_a)\n",
    "ds.get_parameter_data('x1')"
   ]
  },
  {
   "cell_type": "code",
   "execution_count": null,
   "metadata": {},
   "outputs": [],
   "source": []
  }
 ],
 "metadata": {
  "kernelspec": {
   "display_name": "Python 3",
   "language": "python",
   "name": "python3"
  },
  "language_info": {
   "codemirror_mode": {
    "name": "ipython",
    "version": 3
   },
   "file_extension": ".py",
   "mimetype": "text/x-python",
   "name": "python",
   "nbconvert_exporter": "python",
   "pygments_lexer": "ipython3",
   "version": "3.7.10"
  },
  "nbsphinx": {
   "timeout": 600
  },
  "toc": {
   "base_numbering": 1,
   "nav_menu": {},
   "number_sections": true,
   "sideBar": true,
   "skip_h1_title": false,
   "title_cell": "Table of Contents",
   "title_sidebar": "Contents",
   "toc_cell": false,
   "toc_position": {},
   "toc_section_display": true,
   "toc_window_display": false
  },
  "varInspector": {
   "cols": {
    "lenName": 16,
    "lenType": 16,
    "lenVar": 40
   },
   "kernels_config": {
    "python": {
     "delete_cmd_postfix": "",
     "delete_cmd_prefix": "del ",
     "library": "var_list.py",
     "varRefreshCmd": "print(var_dic_list())"
    },
    "r": {
     "delete_cmd_postfix": ") ",
     "delete_cmd_prefix": "rm(",
     "library": "var_list.r",
     "varRefreshCmd": "cat(var_dic_list()) "
    }
   },
   "types_to_exclude": [
    "module",
    "function",
    "builtin_function_or_method",
    "instance",
    "_Feature"
   ],
   "window_display": false
  }
 },
 "nbformat": 4,
 "nbformat_minor": 4
}
