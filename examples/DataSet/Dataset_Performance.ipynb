{
 "cells": [
  {
   "cell_type": "markdown",
   "metadata": {},
   "source": [
    "# DataSet Performance\n",
    "\n",
    "This notebook shows the trade-off between inserting data into a database row-by-row and as binary blobs. Inserting the data row-by-row means that we have direct access to all the data and may perform queries directly on the values of the data. On the other hand, as we shall see, this is much slower than inserting the data directly as binary blobs."
   ]
  },
  {
   "cell_type": "markdown",
   "metadata": {},
   "source": [
    "First, we choose a new location for the database to ensure that we don't add a bunch of benchmarking data to the default one."
   ]
  },
  {
   "cell_type": "code",
   "execution_count": 1,
   "metadata": {
    "execution": {
     "iopub.execute_input": "2020-09-18T09:14:16.136482Z",
     "iopub.status.busy": "2020-09-18T09:14:16.135898Z",
     "iopub.status.idle": "2020-09-18T09:14:17.280387Z",
     "shell.execute_reply": "2020-09-18T09:14:17.280893Z"
    }
   },
   "outputs": [
    {
     "name": "stdout",
     "output_type": "stream",
     "text": [
      "Logging hadn't been started.\n",
      "Activating auto-logging. Current session state plus future input saved.\n",
      "Filename       : /home/vsts/.qcodes/logs/command_history.log\n",
      "Mode           : append\n",
      "Output logging : True\n",
      "Raw input log  : False\n",
      "Timestamping   : True\n",
      "State          : active\n"
     ]
    },
    {
     "name": "stdout",
     "output_type": "stream",
     "text": [
      "Qcodes Logfile : /home/vsts/.qcodes/logs/200918-18861-qcodes.log\n"
     ]
    }
   ],
   "source": [
    "import os\n",
    "cwd = os.getcwd()\n",
    "import qcodes as qc\n",
    "qc.config[\"core\"][\"db_location\"] = os.path.join(cwd, 'testing.db')\n"
   ]
  },
  {
   "cell_type": "code",
   "execution_count": 2,
   "metadata": {
    "execution": {
     "iopub.execute_input": "2020-09-18T09:14:17.288288Z",
     "iopub.status.busy": "2020-09-18T09:14:17.287128Z",
     "iopub.status.idle": "2020-09-18T09:14:17.481191Z",
     "shell.execute_reply": "2020-09-18T09:14:17.480524Z"
    }
   },
   "outputs": [],
   "source": [
    "%matplotlib inline\n",
    "import time\n",
    "import matplotlib.pyplot as plt\n",
    "import numpy as np\n",
    "\n",
    "import qcodes as qc\n",
    "from qcodes.instrument.parameter import ManualParameter\n",
    "from qcodes.dataset.experiment_container import (Experiment,\n",
    "                                                 load_last_experiment,\n",
    "                                                 new_experiment)\n",
    "from qcodes.dataset.sqlite.database import initialise_database\n",
    "from qcodes import load_or_create_experiment\n",
    "from qcodes.dataset.measurements import Measurement"
   ]
  },
  {
   "cell_type": "code",
   "execution_count": 3,
   "metadata": {
    "execution": {
     "iopub.execute_input": "2020-09-18T09:14:17.486139Z",
     "iopub.status.busy": "2020-09-18T09:14:17.485268Z",
     "iopub.status.idle": "2020-09-18T09:14:17.570369Z",
     "shell.execute_reply": "2020-09-18T09:14:17.570929Z"
    }
   },
   "outputs": [
    {
     "name": "stdout",
     "output_type": "stream",
     "text": [
      "\r",
      "0it [00:00, ?it/s]"
     ]
    },
    {
     "name": "stdout",
     "output_type": "stream",
     "text": [
      "\r",
      "Upgrading database; v0 -> v1: : 0it [00:00, ?it/s]"
     ]
    },
    {
     "name": "stdout",
     "output_type": "stream",
     "text": [
      "\r",
      "Upgrading database; v0 -> v1: : 0it [00:00, ?it/s]"
     ]
    },
    {
     "name": "stdout",
     "output_type": "stream",
     "text": [
      "\n",
      "\r",
      "  0%|          | 0/1 [00:00<?, ?it/s]"
     ]
    },
    {
     "name": "stdout",
     "output_type": "stream",
     "text": [
      "\r",
      "Upgrading database; v1 -> v2:   0%|          | 0/1 [00:00<?, ?it/s]"
     ]
    },
    {
     "name": "stdout",
     "output_type": "stream",
     "text": [
      "\r",
      "Upgrading database; v1 -> v2: 100%|██████████| 1/1 [00:00<00:00, 322.24it/s]"
     ]
    },
    {
     "name": "stdout",
     "output_type": "stream",
     "text": [
      "\n",
      "\r",
      "0it [00:00, ?it/s]"
     ]
    },
    {
     "name": "stdout",
     "output_type": "stream",
     "text": [
      "\r",
      "Upgrading database; v2 -> v3: : 0it [00:00, ?it/s]"
     ]
    },
    {
     "name": "stdout",
     "output_type": "stream",
     "text": [
      "\r",
      "Upgrading database; v2 -> v3: : 0it [00:00, ?it/s]"
     ]
    },
    {
     "name": "stdout",
     "output_type": "stream",
     "text": [
      "\n",
      "\r",
      "0it [00:00, ?it/s]"
     ]
    },
    {
     "name": "stdout",
     "output_type": "stream",
     "text": [
      "\r",
      "Upgrading database; v3 -> v4: : 0it [00:00, ?it/s]"
     ]
    },
    {
     "name": "stdout",
     "output_type": "stream",
     "text": [
      "\r",
      "Upgrading database; v3 -> v4: : 0it [00:00, ?it/s]"
     ]
    },
    {
     "name": "stdout",
     "output_type": "stream",
     "text": [
      "\n",
      "\r",
      "  0%|          | 0/1 [00:00<?, ?it/s]"
     ]
    },
    {
     "name": "stdout",
     "output_type": "stream",
     "text": [
      "\r",
      "Upgrading database; v4 -> v5:   0%|          | 0/1 [00:00<?, ?it/s]"
     ]
    },
    {
     "name": "stdout",
     "output_type": "stream",
     "text": [
      "\r",
      "Upgrading database; v4 -> v5: 100%|██████████| 1/1 [00:00<00:00, 329.69it/s]"
     ]
    },
    {
     "name": "stdout",
     "output_type": "stream",
     "text": [
      "\n",
      "\r",
      "0it [00:00, ?it/s]"
     ]
    },
    {
     "name": "stdout",
     "output_type": "stream",
     "text": [
      "\r",
      "Upgrading database; v5 -> v6: : 0it [00:00, ?it/s]"
     ]
    },
    {
     "name": "stdout",
     "output_type": "stream",
     "text": [
      "\r",
      "Upgrading database; v5 -> v6: : 0it [00:00, ?it/s]"
     ]
    },
    {
     "name": "stdout",
     "output_type": "stream",
     "text": [
      "\n",
      "\r",
      "  0%|          | 0/1 [00:00<?, ?it/s]"
     ]
    },
    {
     "name": "stdout",
     "output_type": "stream",
     "text": [
      "\r",
      "Upgrading database; v6 -> v7:   0%|          | 0/1 [00:00<?, ?it/s]"
     ]
    },
    {
     "name": "stdout",
     "output_type": "stream",
     "text": [
      "\r",
      "Upgrading database; v6 -> v7: 100%|██████████| 1/1 [00:00<00:00, 231.97it/s]"
     ]
    },
    {
     "name": "stdout",
     "output_type": "stream",
     "text": [
      "\n",
      "\r",
      "  0%|          | 0/1 [00:00<?, ?it/s]"
     ]
    },
    {
     "name": "stdout",
     "output_type": "stream",
     "text": [
      "\r",
      "Upgrading database; v7 -> v8:   0%|          | 0/1 [00:00<?, ?it/s]"
     ]
    },
    {
     "name": "stdout",
     "output_type": "stream",
     "text": [
      "\r",
      "Upgrading database; v7 -> v8: 100%|██████████| 1/1 [00:00<00:00, 394.39it/s]"
     ]
    },
    {
     "name": "stdout",
     "output_type": "stream",
     "text": [
      "\n",
      "\r",
      "  0%|          | 0/1 [00:00<?, ?it/s]"
     ]
    },
    {
     "name": "stdout",
     "output_type": "stream",
     "text": [
      "\r",
      "Upgrading database; v8 -> v9:   0%|          | 0/1 [00:00<?, ?it/s]"
     ]
    },
    {
     "name": "stdout",
     "output_type": "stream",
     "text": [
      "\r",
      "Upgrading database; v8 -> v9: 100%|██████████| 1/1 [00:00<00:00, 473.61it/s]"
     ]
    },
    {
     "name": "stdout",
     "output_type": "stream",
     "text": [
      "\n"
     ]
    }
   ],
   "source": [
    "initialise_database()\n",
    "exp = load_or_create_experiment(experiment_name='tutorial_exp', sample_name=\"no sample\")"
   ]
  },
  {
   "cell_type": "markdown",
   "metadata": {},
   "source": [
    "Here, we define a simple function to benchmark the time it takes to insert n points with either numeric or array data type.\n",
    "We will compare both the time used to call ``add_result`` and the time used for the full measurement."
   ]
  },
  {
   "cell_type": "code",
   "execution_count": 4,
   "metadata": {
    "execution": {
     "iopub.execute_input": "2020-09-18T09:14:17.580013Z",
     "iopub.status.busy": "2020-09-18T09:14:17.578225Z",
     "iopub.status.idle": "2020-09-18T09:14:17.583048Z",
     "shell.execute_reply": "2020-09-18T09:14:17.582506Z"
    }
   },
   "outputs": [],
   "source": [
    "def insert_data(paramtype, npoints, nreps=1):\n",
    "\n",
    "    meas = Measurement(exp=exp)\n",
    "\n",
    "    x1 = ManualParameter('x1')\n",
    "    x2 = ManualParameter('x2')\n",
    "    x3 = ManualParameter('x3')\n",
    "    y1 = ManualParameter('y1')\n",
    "    y2 = ManualParameter('y2')\n",
    "\n",
    "    meas.register_parameter(x1, paramtype=paramtype)\n",
    "    meas.register_parameter(x2, paramtype=paramtype)\n",
    "    meas.register_parameter(x3, paramtype=paramtype)\n",
    "    meas.register_parameter(y1, setpoints=[x1, x2, x3],\n",
    "                            paramtype=paramtype)\n",
    "    meas.register_parameter(y2, setpoints=[x1, x2, x3],\n",
    "                            paramtype=paramtype)\n",
    "    start = time.perf_counter()\n",
    "    with meas.run() as datasaver:\n",
    "        start_adding = time.perf_counter()\n",
    "        for i in range(nreps):\n",
    "            datasaver.add_result((x1, np.random.rand(npoints)),\n",
    "                                 (x2, np.random.rand(npoints)),\n",
    "                                 (x3, np.random.rand(npoints)),\n",
    "                                 (y1, np.random.rand(npoints)),\n",
    "                                 (y2, np.random.rand(npoints)))\n",
    "        stop_adding = time.perf_counter()\n",
    "        run_id = datasaver.run_id\n",
    "    stop = time.perf_counter()\n",
    "    tot_time = stop - start\n",
    "    add_time = stop_adding - start_adding\n",
    "    return tot_time, add_time, run_id"
   ]
  },
  {
   "cell_type": "markdown",
   "metadata": {},
   "source": [
    "## Comparison between numeric/array data and binary blob"
   ]
  },
  {
   "cell_type": "markdown",
   "metadata": {},
   "source": [
    "### Case1: Short experiment time"
   ]
  },
  {
   "cell_type": "code",
   "execution_count": 5,
   "metadata": {
    "execution": {
     "iopub.execute_input": "2020-09-18T09:14:17.590362Z",
     "iopub.status.busy": "2020-09-18T09:14:17.589053Z",
     "iopub.status.idle": "2020-09-18T09:14:18.521074Z",
     "shell.execute_reply": "2020-09-18T09:14:18.520527Z"
    }
   },
   "outputs": [
    {
     "name": "stdout",
     "output_type": "stream",
     "text": [
      "Starting experimental run with id: 1. \n",
      "Starting experimental run with id: 2. \n",
      "Starting experimental run with id: 3. \n"
     ]
    },
    {
     "name": "stdout",
     "output_type": "stream",
     "text": [
      "Starting experimental run with id: 4. \n"
     ]
    },
    {
     "name": "stdout",
     "output_type": "stream",
     "text": [
      "Starting experimental run with id: 5. \n"
     ]
    },
    {
     "name": "stdout",
     "output_type": "stream",
     "text": [
      "Starting experimental run with id: 6. \n"
     ]
    },
    {
     "name": "stdout",
     "output_type": "stream",
     "text": [
      "Starting experimental run with id: 7. \n",
      "Starting experimental run with id: 8. \n"
     ]
    },
    {
     "name": "stdout",
     "output_type": "stream",
     "text": [
      "Starting experimental run with id: 9. \n"
     ]
    },
    {
     "name": "stdout",
     "output_type": "stream",
     "text": [
      "Starting experimental run with id: 10. \n",
      "Starting experimental run with id: 11. \n"
     ]
    },
    {
     "name": "stdout",
     "output_type": "stream",
     "text": [
      "Starting experimental run with id: 12. \n"
     ]
    },
    {
     "name": "stdout",
     "output_type": "stream",
     "text": [
      "Starting experimental run with id: 13. \n"
     ]
    },
    {
     "name": "stdout",
     "output_type": "stream",
     "text": [
      "Starting experimental run with id: 14. \n"
     ]
    }
   ],
   "source": [
    "sizes = [1,500,1000,2000,3000,4000,5000]\n",
    "t_numeric = []\n",
    "t_numeric_add = []\n",
    "t_array = []\n",
    "t_array_add = []\n",
    "for size in sizes:\n",
    "    tn, tna, run_id_n =  insert_data('numeric', size)\n",
    "    t_numeric.append(tn)\n",
    "    t_numeric_add.append(tna)\n",
    "\n",
    "    ta, taa, run_id_a =  insert_data('array', size)\n",
    "    t_array.append(ta)\n",
    "    t_array_add.append(taa)"
   ]
  },
  {
   "cell_type": "code",
   "execution_count": 6,
   "metadata": {
    "execution": {
     "iopub.execute_input": "2020-09-18T09:14:18.526372Z",
     "iopub.status.busy": "2020-09-18T09:14:18.525763Z",
     "iopub.status.idle": "2020-09-18T09:14:18.768611Z",
     "shell.execute_reply": "2020-09-18T09:14:18.767930Z"
    }
   },
   "outputs": [
    {
     "data": {
      "image/png": "[encoded data removed]",
      "text/plain": [
       "<Figure size 432x288 with 1 Axes>"
      ]
     },
     "metadata": {
      "needs_background": "light"
     },
     "output_type": "display_data"
    }
   ],
   "source": [
    "fig, ax = plt.subplots(1,1)\n",
    "ax.plot(sizes, t_numeric, 'o-', label='Inserting row-by-row')\n",
    "ax.plot(sizes, t_numeric_add, 'o-', label='Inserting row-by-row: add_result only')\n",
    "ax.plot(sizes, t_array, 'd-', label='Inserting as binary blob')\n",
    "ax.plot(sizes, t_array_add, 'd-', label='Inserting as binary blob: add_result only')\n",
    "ax.legend()\n",
    "ax.set_xlabel('Array length')\n",
    "ax.set_ylabel('Time (s)')\n",
    "fig.tight_layout()"
   ]
  },
  {
   "cell_type": "markdown",
   "metadata": {},
   "source": [
    "As shown in the latter figure, the time to setup and and close the experiment is approximately 0.4 sec. In case of small array sizes, the difference between inserting values of data as arrays and inserting them row-by-row is relatively unimportant. At larger array sizes, i.e. above 10000 points, the cost of writing data as individual datapoints starts to become important.\n"
   ]
  },
  {
   "cell_type": "markdown",
   "metadata": {},
   "source": [
    "### Case2: Long experiment time "
   ]
  },
  {
   "cell_type": "code",
   "execution_count": 7,
   "metadata": {
    "execution": {
     "iopub.execute_input": "2020-09-18T09:14:18.775697Z",
     "iopub.status.busy": "2020-09-18T09:14:18.775140Z",
     "iopub.status.idle": "2020-09-18T09:15:19.855180Z",
     "shell.execute_reply": "2020-09-18T09:15:19.855620Z"
    }
   },
   "outputs": [
    {
     "name": "stdout",
     "output_type": "stream",
     "text": [
      "Starting experimental run with id: 15. \n",
      "Starting experimental run with id: 16. \n",
      "Starting experimental run with id: 17. \n"
     ]
    },
    {
     "name": "stdout",
     "output_type": "stream",
     "text": [
      "Starting experimental run with id: 18. \n",
      "Starting experimental run with id: 19. \n"
     ]
    },
    {
     "name": "stdout",
     "output_type": "stream",
     "text": [
      "Starting experimental run with id: 20. \n"
     ]
    },
    {
     "name": "stdout",
     "output_type": "stream",
     "text": [
      "Starting experimental run with id: 21. \n"
     ]
    },
    {
     "name": "stdout",
     "output_type": "stream",
     "text": [
      "Starting experimental run with id: 22. \n"
     ]
    },
    {
     "name": "stdout",
     "output_type": "stream",
     "text": [
      "Starting experimental run with id: 23. \n"
     ]
    },
    {
     "name": "stdout",
     "output_type": "stream",
     "text": [
      "Starting experimental run with id: 24. \n"
     ]
    },
    {
     "name": "stdout",
     "output_type": "stream",
     "text": [
      "Starting experimental run with id: 25. \n"
     ]
    },
    {
     "name": "stdout",
     "output_type": "stream",
     "text": [
      "Starting experimental run with id: 26. \n"
     ]
    },
    {
     "name": "stdout",
     "output_type": "stream",
     "text": [
      "Starting experimental run with id: 27. \n"
     ]
    },
    {
     "name": "stdout",
     "output_type": "stream",
     "text": [
      "Starting experimental run with id: 28. \n"
     ]
    }
   ],
   "source": [
    "sizes = [1,500,1000,2000,3000,4000,5000]\n",
    "nreps = 100\n",
    "t_numeric = []\n",
    "t_numeric_add = []\n",
    "t_numeric_run_ids = []\n",
    "t_array = []\n",
    "t_array_add = []\n",
    "t_array_run_ids = []\n",
    "for size in sizes:\n",
    "    tn, tna, run_id_n =  insert_data('numeric', size, nreps=nreps)\n",
    "    t_numeric.append(tn)\n",
    "    t_numeric_add.append(tna)\n",
    "    t_numeric_run_ids.append(run_id_n)\n",
    "\n",
    "    ta, taa, run_id_a =  insert_data('array', size, nreps=nreps)\n",
    "    t_array.append(ta)\n",
    "    t_array_add.append(taa)\n",
    "    t_array_run_ids.append(run_id_a)"
   ]
  },
  {
   "cell_type": "code",
   "execution_count": 8,
   "metadata": {
    "execution": {
     "iopub.execute_input": "2020-09-18T09:15:19.861039Z",
     "iopub.status.busy": "2020-09-18T09:15:19.860486Z",
     "iopub.status.idle": "2020-09-18T09:15:20.108712Z",
     "shell.execute_reply": "2020-09-18T09:15:20.109216Z"
    },
    "scrolled": true
   },
   "outputs": [
    {
     "data": {
      "image/png": "[encoded data removed]",
      "text/plain": [
       "<Figure size 432x288 with 1 Axes>"
      ]
     },
     "metadata": {
      "needs_background": "light"
     },
     "output_type": "display_data"
    }
   ],
   "source": [
    "fig, ax = plt.subplots(1,1)\n",
    "ax.plot(sizes, t_numeric, 'o-', label='Inserting row-by-row')\n",
    "ax.plot(sizes, t_numeric_add, 'o-', label='Inserting row-by-row: add_result only')\n",
    "ax.plot(sizes, t_array, 'd-', label='Inserting as binary blob')\n",
    "ax.plot(sizes, t_array_add, 'd-', label='Inserting as binary blob: add_result only')\n",
    "ax.legend()\n",
    "ax.set_xlabel('Array length')\n",
    "ax.set_ylabel('Time (s)')\n",
    "fig.tight_layout()"
   ]
  },
  {
   "cell_type": "markdown",
   "metadata": {},
   "source": [
    "However, as we increase the length of the experiment, as seen here by repeating the insertion 100 times, we see a big difference between inserting values of the data row-by-row and inserting it as a binary blob."
   ]
  },
  {
   "cell_type": "markdown",
   "metadata": {},
   "source": [
    "## Loading the data "
   ]
  },
  {
   "cell_type": "code",
   "execution_count": 9,
   "metadata": {
    "execution": {
     "iopub.execute_input": "2020-09-18T09:15:20.115130Z",
     "iopub.status.busy": "2020-09-18T09:15:20.114019Z",
     "iopub.status.idle": "2020-09-18T09:15:20.115976Z",
     "shell.execute_reply": "2020-09-18T09:15:20.116461Z"
    }
   },
   "outputs": [],
   "source": [
    "from qcodes.dataset.data_set import load_by_id\n",
    "from qcodes.dataset.data_export import get_data_by_id"
   ]
  },
  {
   "cell_type": "markdown",
   "metadata": {},
   "source": [
    "As usual you can load the data by using the ``load_by_id`` function but you will notice that the different storage methods\n",
    "are reflected in shape of the data as it is retrieved. "
   ]
  },
  {
   "cell_type": "code",
   "execution_count": 10,
   "metadata": {
    "execution": {
     "iopub.execute_input": "2020-09-18T09:15:20.121230Z",
     "iopub.status.busy": "2020-09-18T09:15:20.120041Z",
     "iopub.status.idle": "2020-09-18T09:15:20.121751Z",
     "shell.execute_reply": "2020-09-18T09:15:20.122289Z"
    }
   },
   "outputs": [],
   "source": [
    "run_id_n = t_numeric_run_ids[0]\n",
    "run_id_a = t_array_run_ids[0]"
   ]
  },
  {
   "cell_type": "code",
   "execution_count": 11,
   "metadata": {
    "execution": {
     "iopub.execute_input": "2020-09-18T09:15:20.133054Z",
     "iopub.status.busy": "2020-09-18T09:15:20.131863Z",
     "iopub.status.idle": "2020-09-18T09:15:20.135124Z",
     "shell.execute_reply": "2020-09-18T09:15:20.135758Z"
    },
    "scrolled": true
   },
   "outputs": [
    {
     "data": {
      "text/plain": [
       "{'x1': {'x1': array([0.72421187, 0.72421187, 0.41025304, 0.41025304, 0.99933312,\n",
       "         0.99933312, 0.09946915, 0.09946915, 0.1576237 , 0.1576237 ,\n",
       "         0.13248952, 0.13248952, 0.55242879, 0.55242879, 0.59539558,\n",
       "         0.59539558, 0.2326062 , 0.2326062 , 0.16032274, 0.16032274,\n",
       "         0.95484245, 0.95484245, 0.50383133, 0.50383133, 0.80823926,\n",
       "         0.80823926, 0.5376106 , 0.5376106 , 0.01312329, 0.01312329,\n",
       "         0.48239242, 0.48239242, 0.75078048, 0.75078048, 0.60944504,\n",
       "         0.60944504, 0.25639921, 0.25639921, 0.2303455 , 0.2303455 ,\n",
       "         0.87135785, 0.87135785, 0.21068396, 0.21068396, 0.23117257,\n",
       "         0.23117257, 0.27952229, 0.27952229, 0.43169212, 0.43169212,\n",
       "         0.58024461, 0.58024461, 0.19773275, 0.19773275, 0.64570238,\n",
       "         0.64570238, 0.88288323, 0.88288323, 0.89160468, 0.89160468,\n",
       "         0.36292948, 0.36292948, 0.86698111, 0.86698111, 0.36646956,\n",
       "         0.36646956, 0.75628692, 0.75628692, 0.75212386, 0.75212386,\n",
       "         0.3807474 , 0.3807474 , 0.48529446, 0.48529446, 0.73800602,\n",
       "         0.73800602, 0.27980078, 0.27980078, 0.60982171, 0.60982171,\n",
       "         0.19336182, 0.19336182, 0.26054567, 0.26054567, 0.75806207,\n",
       "         0.75806207, 0.22257296, 0.22257296, 0.70500728, 0.70500728,\n",
       "         0.16472943, 0.16472943, 0.81631485, 0.81631485, 0.30229425,\n",
       "         0.30229425, 0.17455948, 0.17455948, 0.34031531, 0.34031531,\n",
       "         0.31349353, 0.31349353, 0.10301623, 0.10301623, 0.26217247,\n",
       "         0.26217247, 0.02150986, 0.02150986, 0.84375652, 0.84375652,\n",
       "         0.85193245, 0.85193245, 0.04364324, 0.04364324, 0.51742685,\n",
       "         0.51742685, 0.17033361, 0.17033361, 0.80502038, 0.80502038,\n",
       "         0.5788618 , 0.5788618 , 0.41819596, 0.41819596, 0.92958293,\n",
       "         0.92958293, 0.80782775, 0.80782775, 0.26833321, 0.26833321,\n",
       "         0.32505071, 0.32505071, 0.89893417, 0.89893417, 0.39388007,\n",
       "         0.39388007, 0.3284233 , 0.3284233 , 0.51023144, 0.51023144,\n",
       "         0.56831746, 0.56831746, 0.06718004, 0.06718004, 0.56984735,\n",
       "         0.56984735, 0.60044808, 0.60044808, 0.72693696, 0.72693696,\n",
       "         0.03480025, 0.03480025, 0.17117482, 0.17117482, 0.14156724,\n",
       "         0.14156724, 0.23507486, 0.23507486, 0.75169043, 0.75169043,\n",
       "         0.19475477, 0.19475477, 0.4716573 , 0.4716573 , 0.74028206,\n",
       "         0.74028206, 0.31381923, 0.31381923, 0.38692107, 0.38692107,\n",
       "         0.71023959, 0.71023959, 0.16660113, 0.16660113, 0.75802548,\n",
       "         0.75802548, 0.81451185, 0.81451185, 0.31010492, 0.31010492,\n",
       "         0.51507869, 0.51507869, 0.15020693, 0.15020693, 0.50346687,\n",
       "         0.50346687, 0.09912582, 0.09912582, 0.93449729, 0.93449729,\n",
       "         0.95845801, 0.95845801, 0.74863192, 0.74863192, 0.28563601,\n",
       "         0.28563601, 0.76001044, 0.76001044, 0.13182599, 0.13182599])}}"
      ]
     },
     "execution_count": 1,
     "metadata": {},
     "output_type": "execute_result"
    }
   ],
   "source": [
    "ds = load_by_id(run_id_n)\n",
    "ds.get_parameter_data('x1')"
   ]
  },
  {
   "cell_type": "markdown",
   "metadata": {},
   "source": [
    "And a dataset stored as binary arrays"
   ]
  },
  {
   "cell_type": "code",
   "execution_count": 12,
   "metadata": {
    "execution": {
     "iopub.execute_input": "2020-09-18T09:15:20.139447Z",
     "iopub.status.busy": "2020-09-18T09:15:20.138891Z",
     "iopub.status.idle": "2020-09-18T09:15:20.198898Z",
     "shell.execute_reply": "2020-09-18T09:15:20.199391Z"
    },
    "scrolled": true
   },
   "outputs": [
    {
     "data": {
      "text/plain": [
       "{'x1': {'x1': array([[0.02801488],\n",
       "         [0.02801488],\n",
       "         [0.18705859],\n",
       "         [0.18705859],\n",
       "         [0.8682176 ],\n",
       "         [0.8682176 ],\n",
       "         [0.6874948 ],\n",
       "         [0.6874948 ],\n",
       "         [0.45688431],\n",
       "         [0.45688431],\n",
       "         [0.20497269],\n",
       "         [0.20497269],\n",
       "         [0.25846568],\n",
       "         [0.25846568],\n",
       "         [0.18582756],\n",
       "         [0.18582756],\n",
       "         [0.23492454],\n",
       "         [0.23492454],\n",
       "         [0.5738651 ],\n",
       "         [0.5738651 ],\n",
       "         [0.06956349],\n",
       "         [0.06956349],\n",
       "         [0.79066047],\n",
       "         [0.79066047],\n",
       "         [0.62626476],\n",
       "         [0.62626476],\n",
       "         [0.08111448],\n",
       "         [0.08111448],\n",
       "         [0.35114755],\n",
       "         [0.35114755],\n",
       "         [0.84837754],\n",
       "         [0.84837754],\n",
       "         [0.5077244 ],\n",
       "         [0.5077244 ],\n",
       "         [0.73429001],\n",
       "         [0.73429001],\n",
       "         [0.59338591],\n",
       "         [0.59338591],\n",
       "         [0.42822423],\n",
       "         [0.42822423],\n",
       "         [0.50730398],\n",
       "         [0.50730398],\n",
       "         [0.28984861],\n",
       "         [0.28984861],\n",
       "         [0.0063314 ],\n",
       "         [0.0063314 ],\n",
       "         [0.94789346],\n",
       "         [0.94789346],\n",
       "         [0.03268325],\n",
       "         [0.03268325],\n",
       "         [0.48276377],\n",
       "         [0.48276377],\n",
       "         [0.41609628],\n",
       "         [0.41609628],\n",
       "         [0.0042258 ],\n",
       "         [0.0042258 ],\n",
       "         [0.68567544],\n",
       "         [0.68567544],\n",
       "         [0.22187491],\n",
       "         [0.22187491],\n",
       "         [0.12602851],\n",
       "         [0.12602851],\n",
       "         [0.08518743],\n",
       "         [0.08518743],\n",
       "         [0.54596189],\n",
       "         [0.54596189],\n",
       "         [0.64691375],\n",
       "         [0.64691375],\n",
       "         [0.44323599],\n",
       "         [0.44323599],\n",
       "         [0.0235186 ],\n",
       "         [0.0235186 ],\n",
       "         [0.85226812],\n",
       "         [0.85226812],\n",
       "         [0.47545575],\n",
       "         [0.47545575],\n",
       "         [0.19948171],\n",
       "         [0.19948171],\n",
       "         [0.57591472],\n",
       "         [0.57591472],\n",
       "         [0.99236915],\n",
       "         [0.99236915],\n",
       "         [0.69751978],\n",
       "         [0.69751978],\n",
       "         [0.91230007],\n",
       "         [0.91230007],\n",
       "         [0.67243678],\n",
       "         [0.67243678],\n",
       "         [0.19513005],\n",
       "         [0.19513005],\n",
       "         [0.50819857],\n",
       "         [0.50819857],\n",
       "         [0.21610681],\n",
       "         [0.21610681],\n",
       "         [0.0155745 ],\n",
       "         [0.0155745 ],\n",
       "         [0.53940278],\n",
       "         [0.53940278],\n",
       "         [0.78233336],\n",
       "         [0.78233336],\n",
       "         [0.18838291],\n",
       "         [0.18838291],\n",
       "         [0.05613795],\n",
       "         [0.05613795],\n",
       "         [0.86031759],\n",
       "         [0.86031759],\n",
       "         [0.67387432],\n",
       "         [0.67387432],\n",
       "         [0.88396027],\n",
       "         [0.88396027],\n",
       "         [0.80740321],\n",
       "         [0.80740321],\n",
       "         [0.03253718],\n",
       "         [0.03253718],\n",
       "         [0.24324865],\n",
       "         [0.24324865],\n",
       "         [0.60388883],\n",
       "         [0.60388883],\n",
       "         [0.89819378],\n",
       "         [0.89819378],\n",
       "         [0.5851662 ],\n",
       "         [0.5851662 ],\n",
       "         [0.86373386],\n",
       "         [0.86373386],\n",
       "         [0.35678648],\n",
       "         [0.35678648],\n",
       "         [0.73866297],\n",
       "         [0.73866297],\n",
       "         [0.6883606 ],\n",
       "         [0.6883606 ],\n",
       "         [0.97180694],\n",
       "         [0.97180694],\n",
       "         [0.77279065],\n",
       "         [0.77279065],\n",
       "         [0.83070383],\n",
       "         [0.83070383],\n",
       "         [0.74151245],\n",
       "         [0.74151245],\n",
       "         [0.63860053],\n",
       "         [0.63860053],\n",
       "         [0.61267283],\n",
       "         [0.61267283],\n",
       "         [0.62805258],\n",
       "         [0.62805258],\n",
       "         [0.54188066],\n",
       "         [0.54188066],\n",
       "         [0.92416536],\n",
       "         [0.92416536],\n",
       "         [0.91578032],\n",
       "         [0.91578032],\n",
       "         [0.45237647],\n",
       "         [0.45237647],\n",
       "         [0.31402343],\n",
       "         [0.31402343],\n",
       "         [0.72791681],\n",
       "         [0.72791681],\n",
       "         [0.62858168],\n",
       "         [0.62858168],\n",
       "         [0.24924585],\n",
       "         [0.24924585],\n",
       "         [0.19690737],\n",
       "         [0.19690737],\n",
       "         [0.02840475],\n",
       "         [0.02840475],\n",
       "         [0.9466246 ],\n",
       "         [0.9466246 ],\n",
       "         [0.78871418],\n",
       "         [0.78871418],\n",
       "         [0.95417335],\n",
       "         [0.95417335],\n",
       "         [0.80593299],\n",
       "         [0.80593299],\n",
       "         [0.44470291],\n",
       "         [0.44470291],\n",
       "         [0.25964168],\n",
       "         [0.25964168],\n",
       "         [0.60987955],\n",
       "         [0.60987955],\n",
       "         [0.99001431],\n",
       "         [0.99001431],\n",
       "         [0.17457962],\n",
       "         [0.17457962],\n",
       "         [0.93584023],\n",
       "         [0.93584023],\n",
       "         [0.33202399],\n",
       "         [0.33202399],\n",
       "         [0.14276254],\n",
       "         [0.14276254],\n",
       "         [0.66229645],\n",
       "         [0.66229645],\n",
       "         [0.63368355],\n",
       "         [0.63368355],\n",
       "         [0.05427882],\n",
       "         [0.05427882],\n",
       "         [0.047015  ],\n",
       "         [0.047015  ],\n",
       "         [0.560605  ],\n",
       "         [0.560605  ],\n",
       "         [0.25253025],\n",
       "         [0.25253025]])}}"
      ]
     },
     "execution_count": 1,
     "metadata": {},
     "output_type": "execute_result"
    }
   ],
   "source": [
    "ds = load_by_id(run_id_a)\n",
    "ds.get_parameter_data('x1')"
   ]
  },
  {
   "cell_type": "code",
   "execution_count": null,
   "metadata": {},
   "outputs": [],
   "source": []
  }
 ],
 "metadata": {
  "kernelspec": {
   "display_name": "Python 3",
   "language": "python",
   "name": "python3"
  },
  "language_info": {
   "codemirror_mode": {
    "name": "ipython",
    "version": 3
   },
   "file_extension": ".py",
   "mimetype": "text/x-python",
   "name": "python",
   "nbconvert_exporter": "python",
   "pygments_lexer": "ipython3",
   "version": "3.7.7"
  },
  "nbsphinx": {
   "timeout": 600
  },
  "toc": {
   "base_numbering": 1,
   "nav_menu": {},
   "number_sections": true,
   "sideBar": true,
   "skip_h1_title": false,
   "title_cell": "Table of Contents",
   "title_sidebar": "Contents",
   "toc_cell": false,
   "toc_position": {},
   "toc_section_display": true,
   "toc_window_display": false
  },
  "varInspector": {
   "cols": {
    "lenName": 16,
    "lenType": 16,
    "lenVar": 40
   },
   "kernels_config": {
    "python": {
     "delete_cmd_postfix": "",
     "delete_cmd_prefix": "del ",
     "library": "var_list.py",
     "varRefreshCmd": "print(var_dic_list())"
    },
    "r": {
     "delete_cmd_postfix": ") ",
     "delete_cmd_prefix": "rm(",
     "library": "var_list.r",
     "varRefreshCmd": "cat(var_dic_list()) "
    }
   },
   "types_to_exclude": [
    "module",
    "function",
    "builtin_function_or_method",
    "instance",
    "_Feature"
   ],
   "window_display": false
  }
 },
 "nbformat": 4,
 "nbformat_minor": 2
}
