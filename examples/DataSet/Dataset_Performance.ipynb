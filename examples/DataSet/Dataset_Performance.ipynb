{
 "cells": [
  {
   "cell_type": "markdown",
   "metadata": {},
   "source": [
    "# DataSet Performance\n",
    "\n",
    "This notebook shows the trade-off between inserting data into a database row-by-row and as binary blobs. Inserting the data row-by-row means that we have direct access to all the data and may perform queries directly on the values of the data. On the other hand, as we shall see, this is much slower than inserting the data directly as binary blobs."
   ]
  },
  {
   "cell_type": "markdown",
   "metadata": {},
   "source": [
    "First, we choose a new location for the database to ensure that we don't add a bunch of benchmarking data to the default one."
   ]
  },
  {
   "cell_type": "code",
   "execution_count": 1,
   "metadata": {
    "execution": {
     "iopub.execute_input": "2020-10-15T09:28:45.042163Z",
     "iopub.status.busy": "2020-10-15T09:28:45.041606Z",
     "iopub.status.idle": "2020-10-15T09:28:46.132601Z",
     "shell.execute_reply": "2020-10-15T09:28:46.131606Z"
    }
   },
   "outputs": [
    {
     "name": "stdout",
     "output_type": "stream",
     "text": [
      "Logging hadn't been started.\n",
      "Activating auto-logging. Current session state plus future input saved.\n",
      "Filename       : /home/vsts/.qcodes/logs/command_history.log\n",
      "Mode           : append\n",
      "Output logging : True\n",
      "Raw input log  : False\n",
      "Timestamping   : True\n",
      "State          : active\n"
     ]
    },
    {
     "name": "stdout",
     "output_type": "stream",
     "text": [
      "Qcodes Logfile : /home/vsts/.qcodes/logs/201015-14908-qcodes.log\n"
     ]
    }
   ],
   "source": [
    "import os\n",
    "cwd = os.getcwd()\n",
    "import qcodes as qc\n",
    "qc.config[\"core\"][\"db_location\"] = os.path.join(cwd, 'testing.db')\n"
   ]
  },
  {
   "cell_type": "code",
   "execution_count": 2,
   "metadata": {
    "execution": {
     "iopub.execute_input": "2020-10-15T09:28:46.139350Z",
     "iopub.status.busy": "2020-10-15T09:28:46.138799Z",
     "iopub.status.idle": "2020-10-15T09:28:46.342341Z",
     "shell.execute_reply": "2020-10-15T09:28:46.341175Z"
    }
   },
   "outputs": [],
   "source": [
    "%matplotlib inline\n",
    "import time\n",
    "import matplotlib.pyplot as plt\n",
    "import numpy as np\n",
    "\n",
    "import qcodes as qc\n",
    "from qcodes.instrument.parameter import ManualParameter\n",
    "from qcodes.dataset.experiment_container import (Experiment,\n",
    "                                                 load_last_experiment,\n",
    "                                                 new_experiment)\n",
    "from qcodes.dataset.sqlite.database import initialise_database\n",
    "from qcodes import load_or_create_experiment\n",
    "from qcodes.dataset.measurements import Measurement"
   ]
  },
  {
   "cell_type": "code",
   "execution_count": 3,
   "metadata": {
    "execution": {
     "iopub.execute_input": "2020-10-15T09:28:46.347316Z",
     "iopub.status.busy": "2020-10-15T09:28:46.346469Z",
     "iopub.status.idle": "2020-10-15T09:28:46.477118Z",
     "shell.execute_reply": "2020-10-15T09:28:46.477517Z"
    }
   },
   "outputs": [
    {
     "name": "stdout",
     "output_type": "stream",
     "text": [
      "\r",
      "0it [00:00, ?it/s]"
     ]
    },
    {
     "name": "stdout",
     "output_type": "stream",
     "text": [
      "\r",
      "Upgrading database; v0 -> v1: : 0it [00:00, ?it/s]"
     ]
    },
    {
     "name": "stdout",
     "output_type": "stream",
     "text": [
      "\r",
      "Upgrading database; v0 -> v1: : 0it [00:00, ?it/s]"
     ]
    },
    {
     "name": "stdout",
     "output_type": "stream",
     "text": [
      "\n",
      "\r",
      "  0%|          | 0/1 [00:00<?, ?it/s]"
     ]
    },
    {
     "name": "stdout",
     "output_type": "stream",
     "text": [
      "\r",
      "Upgrading database; v1 -> v2:   0%|          | 0/1 [00:00<?, ?it/s]"
     ]
    },
    {
     "name": "stdout",
     "output_type": "stream",
     "text": [
      "\r",
      "Upgrading database; v1 -> v2: 100%|██████████| 1/1 [00:00<00:00, 426.86it/s]"
     ]
    },
    {
     "name": "stdout",
     "output_type": "stream",
     "text": [
      "\n",
      "\r",
      "0it [00:00, ?it/s]"
     ]
    },
    {
     "name": "stdout",
     "output_type": "stream",
     "text": [
      "\r",
      "Upgrading database; v2 -> v3: : 0it [00:00, ?it/s]"
     ]
    },
    {
     "name": "stdout",
     "output_type": "stream",
     "text": [
      "\r",
      "Upgrading database; v2 -> v3: : 0it [00:00, ?it/s]"
     ]
    },
    {
     "name": "stdout",
     "output_type": "stream",
     "text": [
      "\n",
      "\r",
      "0it [00:00, ?it/s]"
     ]
    },
    {
     "name": "stdout",
     "output_type": "stream",
     "text": [
      "\r",
      "Upgrading database; v3 -> v4: : 0it [00:00, ?it/s]"
     ]
    },
    {
     "name": "stdout",
     "output_type": "stream",
     "text": [
      "\r",
      "Upgrading database; v3 -> v4: : 0it [00:00, ?it/s]"
     ]
    },
    {
     "name": "stdout",
     "output_type": "stream",
     "text": [
      "\n",
      "\r",
      "  0%|          | 0/1 [00:00<?, ?it/s]"
     ]
    },
    {
     "name": "stdout",
     "output_type": "stream",
     "text": [
      "\r",
      "Upgrading database; v4 -> v5:   0%|          | 0/1 [00:00<?, ?it/s]"
     ]
    },
    {
     "name": "stdout",
     "output_type": "stream",
     "text": [
      "\r",
      "Upgrading database; v4 -> v5: 100%|██████████| 1/1 [00:00<00:00, 538.98it/s]"
     ]
    },
    {
     "name": "stdout",
     "output_type": "stream",
     "text": [
      "\n",
      "\r",
      "0it [00:00, ?it/s]"
     ]
    },
    {
     "name": "stdout",
     "output_type": "stream",
     "text": [
      "\r",
      "Upgrading database; v5 -> v6: : 0it [00:00, ?it/s]"
     ]
    },
    {
     "name": "stdout",
     "output_type": "stream",
     "text": [
      "\r",
      "Upgrading database; v5 -> v6: : 0it [00:00, ?it/s]"
     ]
    },
    {
     "name": "stdout",
     "output_type": "stream",
     "text": [
      "\n",
      "\r",
      "  0%|          | 0/1 [00:00<?, ?it/s]"
     ]
    },
    {
     "name": "stdout",
     "output_type": "stream",
     "text": [
      "\r",
      "Upgrading database; v6 -> v7:   0%|          | 0/1 [00:00<?, ?it/s]"
     ]
    },
    {
     "name": "stdout",
     "output_type": "stream",
     "text": [
      "\r",
      "Upgrading database; v6 -> v7: 100%|██████████| 1/1 [00:00<00:00, 251.86it/s]"
     ]
    },
    {
     "name": "stdout",
     "output_type": "stream",
     "text": [
      "\n",
      "\r",
      "  0%|          | 0/1 [00:00<?, ?it/s]"
     ]
    },
    {
     "name": "stdout",
     "output_type": "stream",
     "text": [
      "\r",
      "Upgrading database; v7 -> v8:   0%|          | 0/1 [00:00<?, ?it/s]"
     ]
    },
    {
     "name": "stdout",
     "output_type": "stream",
     "text": [
      "\r",
      "Upgrading database; v7 -> v8: 100%|██████████| 1/1 [00:00<00:00, 429.92it/s]"
     ]
    },
    {
     "name": "stdout",
     "output_type": "stream",
     "text": [
      "\n",
      "\r",
      "  0%|          | 0/1 [00:00<?, ?it/s]"
     ]
    },
    {
     "name": "stdout",
     "output_type": "stream",
     "text": [
      "\r",
      "Upgrading database; v8 -> v9:   0%|          | 0/1 [00:00<?, ?it/s]"
     ]
    },
    {
     "name": "stdout",
     "output_type": "stream",
     "text": [
      "\r",
      "Upgrading database; v8 -> v9: 100%|██████████| 1/1 [00:00<00:00, 457.29it/s]"
     ]
    },
    {
     "name": "stdout",
     "output_type": "stream",
     "text": [
      "\n"
     ]
    }
   ],
   "source": [
    "initialise_database()\n",
    "exp = load_or_create_experiment(experiment_name='tutorial_exp', sample_name=\"no sample\")"
   ]
  },
  {
   "cell_type": "markdown",
   "metadata": {},
   "source": [
    "Here, we define a simple function to benchmark the time it takes to insert n points with either numeric or array data type.\n",
    "We will compare both the time used to call ``add_result`` and the time used for the full measurement."
   ]
  },
  {
   "cell_type": "code",
   "execution_count": 4,
   "metadata": {
    "execution": {
     "iopub.execute_input": "2020-10-15T09:28:46.488333Z",
     "iopub.status.busy": "2020-10-15T09:28:46.487051Z",
     "iopub.status.idle": "2020-10-15T09:28:46.488954Z",
     "shell.execute_reply": "2020-10-15T09:28:46.489509Z"
    }
   },
   "outputs": [],
   "source": [
    "def insert_data(paramtype, npoints, nreps=1):\n",
    "\n",
    "    meas = Measurement(exp=exp)\n",
    "\n",
    "    x1 = ManualParameter('x1')\n",
    "    x2 = ManualParameter('x2')\n",
    "    x3 = ManualParameter('x3')\n",
    "    y1 = ManualParameter('y1')\n",
    "    y2 = ManualParameter('y2')\n",
    "\n",
    "    meas.register_parameter(x1, paramtype=paramtype)\n",
    "    meas.register_parameter(x2, paramtype=paramtype)\n",
    "    meas.register_parameter(x3, paramtype=paramtype)\n",
    "    meas.register_parameter(y1, setpoints=[x1, x2, x3],\n",
    "                            paramtype=paramtype)\n",
    "    meas.register_parameter(y2, setpoints=[x1, x2, x3],\n",
    "                            paramtype=paramtype)\n",
    "    start = time.perf_counter()\n",
    "    with meas.run() as datasaver:\n",
    "        start_adding = time.perf_counter()\n",
    "        for i in range(nreps):\n",
    "            datasaver.add_result((x1, np.random.rand(npoints)),\n",
    "                                 (x2, np.random.rand(npoints)),\n",
    "                                 (x3, np.random.rand(npoints)),\n",
    "                                 (y1, np.random.rand(npoints)),\n",
    "                                 (y2, np.random.rand(npoints)))\n",
    "        stop_adding = time.perf_counter()\n",
    "        run_id = datasaver.run_id\n",
    "    stop = time.perf_counter()\n",
    "    tot_time = stop - start\n",
    "    add_time = stop_adding - start_adding\n",
    "    return tot_time, add_time, run_id"
   ]
  },
  {
   "cell_type": "markdown",
   "metadata": {},
   "source": [
    "## Comparison between numeric/array data and binary blob"
   ]
  },
  {
   "cell_type": "markdown",
   "metadata": {},
   "source": [
    "### Case1: Short experiment time"
   ]
  },
  {
   "cell_type": "code",
   "execution_count": 5,
   "metadata": {
    "execution": {
     "iopub.execute_input": "2020-10-15T09:28:46.496635Z",
     "iopub.status.busy": "2020-10-15T09:28:46.495990Z",
     "iopub.status.idle": "2020-10-15T09:28:47.357081Z",
     "shell.execute_reply": "2020-10-15T09:28:47.357620Z"
    }
   },
   "outputs": [
    {
     "name": "stdout",
     "output_type": "stream",
     "text": [
      "Starting experimental run with id: 1. \n",
      "Starting experimental run with id: 2. \n",
      "Starting experimental run with id: 3. \n",
      "Starting experimental run with id: 4. \n"
     ]
    },
    {
     "name": "stdout",
     "output_type": "stream",
     "text": [
      "Starting experimental run with id: 5. \n"
     ]
    },
    {
     "name": "stdout",
     "output_type": "stream",
     "text": [
      "Starting experimental run with id: 6. \n"
     ]
    },
    {
     "name": "stdout",
     "output_type": "stream",
     "text": [
      "Starting experimental run with id: 7. \n"
     ]
    },
    {
     "name": "stdout",
     "output_type": "stream",
     "text": [
      "Starting experimental run with id: 8. \n",
      "Starting experimental run with id: 9. \n"
     ]
    },
    {
     "name": "stdout",
     "output_type": "stream",
     "text": [
      "Starting experimental run with id: 10. \n",
      "Starting experimental run with id: 11. \n"
     ]
    },
    {
     "name": "stdout",
     "output_type": "stream",
     "text": [
      "Starting experimental run with id: 12. \n"
     ]
    },
    {
     "name": "stdout",
     "output_type": "stream",
     "text": [
      "Starting experimental run with id: 13. \n"
     ]
    },
    {
     "name": "stdout",
     "output_type": "stream",
     "text": [
      "Starting experimental run with id: 14. \n"
     ]
    }
   ],
   "source": [
    "sizes = [1,500,1000,2000,3000,4000,5000]\n",
    "t_numeric = []\n",
    "t_numeric_add = []\n",
    "t_array = []\n",
    "t_array_add = []\n",
    "for size in sizes:\n",
    "    tn, tna, run_id_n =  insert_data('numeric', size)\n",
    "    t_numeric.append(tn)\n",
    "    t_numeric_add.append(tna)\n",
    "\n",
    "    ta, taa, run_id_a =  insert_data('array', size)\n",
    "    t_array.append(ta)\n",
    "    t_array_add.append(taa)"
   ]
  },
  {
   "cell_type": "code",
   "execution_count": 6,
   "metadata": {
    "execution": {
     "iopub.execute_input": "2020-10-15T09:28:47.388593Z",
     "iopub.status.busy": "2020-10-15T09:28:47.375378Z",
     "iopub.status.idle": "2020-10-15T09:28:47.556914Z",
     "shell.execute_reply": "2020-10-15T09:28:47.557476Z"
    }
   },
   "outputs": [
    {
     "data": {
      "image/png": "[encoded data removed]",
      "text/plain": [
       "<Figure size 432x288 with 1 Axes>"
      ]
     },
     "metadata": {
      "needs_background": "light"
     },
     "output_type": "display_data"
    }
   ],
   "source": [
    "fig, ax = plt.subplots(1,1)\n",
    "ax.plot(sizes, t_numeric, 'o-', label='Inserting row-by-row')\n",
    "ax.plot(sizes, t_numeric_add, 'o-', label='Inserting row-by-row: add_result only')\n",
    "ax.plot(sizes, t_array, 'd-', label='Inserting as binary blob')\n",
    "ax.plot(sizes, t_array_add, 'd-', label='Inserting as binary blob: add_result only')\n",
    "ax.legend()\n",
    "ax.set_xlabel('Array length')\n",
    "ax.set_ylabel('Time (s)')\n",
    "fig.tight_layout()"
   ]
  },
  {
   "cell_type": "markdown",
   "metadata": {},
   "source": [
    "As shown in the latter figure, the time to setup and and close the experiment is approximately 0.4 sec. In case of small array sizes, the difference between inserting values of data as arrays and inserting them row-by-row is relatively unimportant. At larger array sizes, i.e. above 10000 points, the cost of writing data as individual datapoints starts to become important.\n"
   ]
  },
  {
   "cell_type": "markdown",
   "metadata": {},
   "source": [
    "### Case2: Long experiment time "
   ]
  },
  {
   "cell_type": "code",
   "execution_count": 7,
   "metadata": {
    "execution": {
     "iopub.execute_input": "2020-10-15T09:28:47.560297Z",
     "iopub.status.busy": "2020-10-15T09:28:47.559747Z",
     "iopub.status.idle": "2020-10-15T09:29:47.357822Z",
     "shell.execute_reply": "2020-10-15T09:29:47.357280Z"
    }
   },
   "outputs": [
    {
     "name": "stdout",
     "output_type": "stream",
     "text": [
      "Starting experimental run with id: 15. \n",
      "Starting experimental run with id: 16. \n",
      "Starting experimental run with id: 17. \n"
     ]
    },
    {
     "name": "stdout",
     "output_type": "stream",
     "text": [
      "Starting experimental run with id: 18. \n",
      "Starting experimental run with id: 19. \n"
     ]
    },
    {
     "name": "stdout",
     "output_type": "stream",
     "text": [
      "Starting experimental run with id: 20. \n"
     ]
    },
    {
     "name": "stdout",
     "output_type": "stream",
     "text": [
      "Starting experimental run with id: 21. \n"
     ]
    },
    {
     "name": "stdout",
     "output_type": "stream",
     "text": [
      "Starting experimental run with id: 22. \n"
     ]
    },
    {
     "name": "stdout",
     "output_type": "stream",
     "text": [
      "Starting experimental run with id: 23. \n"
     ]
    },
    {
     "name": "stdout",
     "output_type": "stream",
     "text": [
      "Starting experimental run with id: 24. \n"
     ]
    },
    {
     "name": "stdout",
     "output_type": "stream",
     "text": [
      "Starting experimental run with id: 25. \n"
     ]
    },
    {
     "name": "stdout",
     "output_type": "stream",
     "text": [
      "Starting experimental run with id: 26. \n"
     ]
    },
    {
     "name": "stdout",
     "output_type": "stream",
     "text": [
      "Starting experimental run with id: 27. \n"
     ]
    },
    {
     "name": "stdout",
     "output_type": "stream",
     "text": [
      "Starting experimental run with id: 28. \n"
     ]
    }
   ],
   "source": [
    "sizes = [1,500,1000,2000,3000,4000,5000]\n",
    "nreps = 100\n",
    "t_numeric = []\n",
    "t_numeric_add = []\n",
    "t_numeric_run_ids = []\n",
    "t_array = []\n",
    "t_array_add = []\n",
    "t_array_run_ids = []\n",
    "for size in sizes:\n",
    "    tn, tna, run_id_n =  insert_data('numeric', size, nreps=nreps)\n",
    "    t_numeric.append(tn)\n",
    "    t_numeric_add.append(tna)\n",
    "    t_numeric_run_ids.append(run_id_n)\n",
    "\n",
    "    ta, taa, run_id_a =  insert_data('array', size, nreps=nreps)\n",
    "    t_array.append(ta)\n",
    "    t_array_add.append(taa)\n",
    "    t_array_run_ids.append(run_id_a)"
   ]
  },
  {
   "cell_type": "code",
   "execution_count": 8,
   "metadata": {
    "execution": {
     "iopub.execute_input": "2020-10-15T09:29:47.402370Z",
     "iopub.status.busy": "2020-10-15T09:29:47.378500Z",
     "iopub.status.idle": "2020-10-15T09:29:47.582551Z",
     "shell.execute_reply": "2020-10-15T09:29:47.582021Z"
    },
    "scrolled": true
   },
   "outputs": [
    {
     "data": {
      "image/png": "[encoded data removed]",
      "text/plain": [
       "<Figure size 432x288 with 1 Axes>"
      ]
     },
     "metadata": {
      "needs_background": "light"
     },
     "output_type": "display_data"
    }
   ],
   "source": [
    "fig, ax = plt.subplots(1,1)\n",
    "ax.plot(sizes, t_numeric, 'o-', label='Inserting row-by-row')\n",
    "ax.plot(sizes, t_numeric_add, 'o-', label='Inserting row-by-row: add_result only')\n",
    "ax.plot(sizes, t_array, 'd-', label='Inserting as binary blob')\n",
    "ax.plot(sizes, t_array_add, 'd-', label='Inserting as binary blob: add_result only')\n",
    "ax.legend()\n",
    "ax.set_xlabel('Array length')\n",
    "ax.set_ylabel('Time (s)')\n",
    "fig.tight_layout()"
   ]
  },
  {
   "cell_type": "markdown",
   "metadata": {},
   "source": [
    "However, as we increase the length of the experiment, as seen here by repeating the insertion 100 times, we see a big difference between inserting values of the data row-by-row and inserting it as a binary blob."
   ]
  },
  {
   "cell_type": "markdown",
   "metadata": {},
   "source": [
    "## Loading the data "
   ]
  },
  {
   "cell_type": "code",
   "execution_count": 9,
   "metadata": {
    "execution": {
     "iopub.execute_input": "2020-10-15T09:29:47.587361Z",
     "iopub.status.busy": "2020-10-15T09:29:47.586384Z",
     "iopub.status.idle": "2020-10-15T09:29:47.589467Z",
     "shell.execute_reply": "2020-10-15T09:29:47.589027Z"
    }
   },
   "outputs": [],
   "source": [
    "from qcodes.dataset.data_set import load_by_id\n",
    "from qcodes.dataset.data_export import get_data_by_id"
   ]
  },
  {
   "cell_type": "markdown",
   "metadata": {},
   "source": [
    "As usual you can load the data by using the ``load_by_id`` function but you will notice that the different storage methods\n",
    "are reflected in shape of the data as it is retrieved. "
   ]
  },
  {
   "cell_type": "code",
   "execution_count": 10,
   "metadata": {
    "execution": {
     "iopub.execute_input": "2020-10-15T09:29:47.593895Z",
     "iopub.status.busy": "2020-10-15T09:29:47.592780Z",
     "iopub.status.idle": "2020-10-15T09:29:47.594492Z",
     "shell.execute_reply": "2020-10-15T09:29:47.595042Z"
    }
   },
   "outputs": [],
   "source": [
    "run_id_n = t_numeric_run_ids[0]\n",
    "run_id_a = t_array_run_ids[0]"
   ]
  },
  {
   "cell_type": "code",
   "execution_count": 11,
   "metadata": {
    "execution": {
     "iopub.execute_input": "2020-10-15T09:29:47.598415Z",
     "iopub.status.busy": "2020-10-15T09:29:47.597861Z",
     "iopub.status.idle": "2020-10-15T09:29:47.607790Z",
     "shell.execute_reply": "2020-10-15T09:29:47.607324Z"
    },
    "scrolled": true
   },
   "outputs": [
    {
     "data": {
      "text/plain": [
       "{'x1': {'x1': array([0.64538892, 0.64538892, 0.57876314, 0.57876314, 0.98913802,\n",
       "         0.98913802, 0.7849304 , 0.7849304 , 0.55128711, 0.55128711,\n",
       "         0.0161012 , 0.0161012 , 0.69341124, 0.69341124, 0.77288326,\n",
       "         0.77288326, 0.8496432 , 0.8496432 , 0.96600207, 0.96600207,\n",
       "         0.78205214, 0.78205214, 0.12855302, 0.12855302, 0.56303084,\n",
       "         0.56303084, 0.50572351, 0.50572351, 0.02982512, 0.02982512,\n",
       "         0.0527411 , 0.0527411 , 0.40766188, 0.40766188, 0.36113963,\n",
       "         0.36113963, 0.42870353, 0.42870353, 0.27476587, 0.27476587,\n",
       "         0.76231474, 0.76231474, 0.37724663, 0.37724663, 0.2671786 ,\n",
       "         0.2671786 , 0.38306123, 0.38306123, 0.63959099, 0.63959099,\n",
       "         0.03531899, 0.03531899, 0.27911392, 0.27911392, 0.0046357 ,\n",
       "         0.0046357 , 0.04019865, 0.04019865, 0.52522504, 0.52522504,\n",
       "         0.29931352, 0.29931352, 0.50402856, 0.50402856, 0.82033967,\n",
       "         0.82033967, 0.70406197, 0.70406197, 0.38292675, 0.38292675,\n",
       "         0.02055447, 0.02055447, 0.85644662, 0.85644662, 0.87522256,\n",
       "         0.87522256, 0.01418685, 0.01418685, 0.36312004, 0.36312004,\n",
       "         0.10126567, 0.10126567, 0.07249898, 0.07249898, 0.3436849 ,\n",
       "         0.3436849 , 0.0751527 , 0.0751527 , 0.17226049, 0.17226049,\n",
       "         0.66598977, 0.66598977, 0.39210098, 0.39210098, 0.6166227 ,\n",
       "         0.6166227 , 0.30235206, 0.30235206, 0.71166329, 0.71166329,\n",
       "         0.55958582, 0.55958582, 0.60001982, 0.60001982, 0.05186389,\n",
       "         0.05186389, 0.41766854, 0.41766854, 0.75336385, 0.75336385,\n",
       "         0.82161655, 0.82161655, 0.25495954, 0.25495954, 0.19826631,\n",
       "         0.19826631, 0.93306979, 0.93306979, 0.02844418, 0.02844418,\n",
       "         0.64574962, 0.64574962, 0.29882306, 0.29882306, 0.8907477 ,\n",
       "         0.8907477 , 0.56393195, 0.56393195, 0.10659385, 0.10659385,\n",
       "         0.16184749, 0.16184749, 0.82304056, 0.82304056, 0.52787734,\n",
       "         0.52787734, 0.76160383, 0.76160383, 0.95755764, 0.95755764,\n",
       "         0.9646903 , 0.9646903 , 0.18971538, 0.18971538, 0.60584956,\n",
       "         0.60584956, 0.89710306, 0.89710306, 0.47634265, 0.47634265,\n",
       "         0.8580748 , 0.8580748 , 0.72520227, 0.72520227, 0.71711332,\n",
       "         0.71711332, 0.5471945 , 0.5471945 , 0.74695032, 0.74695032,\n",
       "         0.8612318 , 0.8612318 , 0.78045865, 0.78045865, 0.16285764,\n",
       "         0.16285764, 0.36067294, 0.36067294, 0.06550346, 0.06550346,\n",
       "         0.74648899, 0.74648899, 0.846375  , 0.846375  , 0.24525971,\n",
       "         0.24525971, 0.4359411 , 0.4359411 , 0.86280984, 0.86280984,\n",
       "         0.6628738 , 0.6628738 , 0.38378564, 0.38378564, 0.91019013,\n",
       "         0.91019013, 0.83391921, 0.83391921, 0.66706794, 0.66706794,\n",
       "         0.33300592, 0.33300592, 0.58979398, 0.58979398, 0.12279592,\n",
       "         0.12279592, 0.48961763, 0.48961763, 0.7560284 , 0.7560284 ])}}"
      ]
     },
     "execution_count": 1,
     "metadata": {},
     "output_type": "execute_result"
    }
   ],
   "source": [
    "ds = load_by_id(run_id_n)\n",
    "ds.get_parameter_data('x1')"
   ]
  },
  {
   "cell_type": "markdown",
   "metadata": {},
   "source": [
    "And a dataset stored as binary arrays"
   ]
  },
  {
   "cell_type": "code",
   "execution_count": 12,
   "metadata": {
    "execution": {
     "iopub.execute_input": "2020-10-15T09:29:47.611575Z",
     "iopub.status.busy": "2020-10-15T09:29:47.611054Z",
     "iopub.status.idle": "2020-10-15T09:29:47.671341Z",
     "shell.execute_reply": "2020-10-15T09:29:47.672310Z"
    },
    "scrolled": true
   },
   "outputs": [
    {
     "data": {
      "text/plain": [
       "{'x1': {'x1': array([[0.35838302],\n",
       "         [0.35838302],\n",
       "         [0.6111783 ],\n",
       "         [0.6111783 ],\n",
       "         [0.251736  ],\n",
       "         [0.251736  ],\n",
       "         [0.81984564],\n",
       "         [0.81984564],\n",
       "         [0.61108617],\n",
       "         [0.61108617],\n",
       "         [0.21028923],\n",
       "         [0.21028923],\n",
       "         [0.33835919],\n",
       "         [0.33835919],\n",
       "         [0.38368607],\n",
       "         [0.38368607],\n",
       "         [0.43490339],\n",
       "         [0.43490339],\n",
       "         [0.66243524],\n",
       "         [0.66243524],\n",
       "         [0.11493572],\n",
       "         [0.11493572],\n",
       "         [0.58980592],\n",
       "         [0.58980592],\n",
       "         [0.75211329],\n",
       "         [0.75211329],\n",
       "         [0.48173518],\n",
       "         [0.48173518],\n",
       "         [0.34063761],\n",
       "         [0.34063761],\n",
       "         [0.12194437],\n",
       "         [0.12194437],\n",
       "         [0.05870556],\n",
       "         [0.05870556],\n",
       "         [0.36687218],\n",
       "         [0.36687218],\n",
       "         [0.11242281],\n",
       "         [0.11242281],\n",
       "         [0.4567642 ],\n",
       "         [0.4567642 ],\n",
       "         [0.62637257],\n",
       "         [0.62637257],\n",
       "         [0.72620767],\n",
       "         [0.72620767],\n",
       "         [0.36256587],\n",
       "         [0.36256587],\n",
       "         [0.91574122],\n",
       "         [0.91574122],\n",
       "         [0.93620317],\n",
       "         [0.93620317],\n",
       "         [0.02003666],\n",
       "         [0.02003666],\n",
       "         [0.20652126],\n",
       "         [0.20652126],\n",
       "         [0.13354399],\n",
       "         [0.13354399],\n",
       "         [0.6469193 ],\n",
       "         [0.6469193 ],\n",
       "         [0.76148082],\n",
       "         [0.76148082],\n",
       "         [0.16611394],\n",
       "         [0.16611394],\n",
       "         [0.09369513],\n",
       "         [0.09369513],\n",
       "         [0.91016059],\n",
       "         [0.91016059],\n",
       "         [0.93941565],\n",
       "         [0.93941565],\n",
       "         [0.89101863],\n",
       "         [0.89101863],\n",
       "         [0.0180311 ],\n",
       "         [0.0180311 ],\n",
       "         [0.93732983],\n",
       "         [0.93732983],\n",
       "         [0.75630616],\n",
       "         [0.75630616],\n",
       "         [0.4878067 ],\n",
       "         [0.4878067 ],\n",
       "         [0.01019847],\n",
       "         [0.01019847],\n",
       "         [0.06177889],\n",
       "         [0.06177889],\n",
       "         [0.99716634],\n",
       "         [0.99716634],\n",
       "         [0.82836078],\n",
       "         [0.82836078],\n",
       "         [0.02323529],\n",
       "         [0.02323529],\n",
       "         [0.83449392],\n",
       "         [0.83449392],\n",
       "         [0.37856041],\n",
       "         [0.37856041],\n",
       "         [0.78200297],\n",
       "         [0.78200297],\n",
       "         [0.85948913],\n",
       "         [0.85948913],\n",
       "         [0.09711813],\n",
       "         [0.09711813],\n",
       "         [0.74023529],\n",
       "         [0.74023529],\n",
       "         [0.88169435],\n",
       "         [0.88169435],\n",
       "         [0.9910034 ],\n",
       "         [0.9910034 ],\n",
       "         [0.66862776],\n",
       "         [0.66862776],\n",
       "         [0.3795784 ],\n",
       "         [0.3795784 ],\n",
       "         [0.22444268],\n",
       "         [0.22444268],\n",
       "         [0.20040144],\n",
       "         [0.20040144],\n",
       "         [0.76536266],\n",
       "         [0.76536266],\n",
       "         [0.14894992],\n",
       "         [0.14894992],\n",
       "         [0.16885409],\n",
       "         [0.16885409],\n",
       "         [0.89804129],\n",
       "         [0.89804129],\n",
       "         [0.74960117],\n",
       "         [0.74960117],\n",
       "         [0.9337415 ],\n",
       "         [0.9337415 ],\n",
       "         [0.97768535],\n",
       "         [0.97768535],\n",
       "         [0.14365002],\n",
       "         [0.14365002],\n",
       "         [0.6597234 ],\n",
       "         [0.6597234 ],\n",
       "         [0.04226101],\n",
       "         [0.04226101],\n",
       "         [0.98298521],\n",
       "         [0.98298521],\n",
       "         [0.42419391],\n",
       "         [0.42419391],\n",
       "         [0.50299952],\n",
       "         [0.50299952],\n",
       "         [0.24611309],\n",
       "         [0.24611309],\n",
       "         [0.28177443],\n",
       "         [0.28177443],\n",
       "         [0.82678852],\n",
       "         [0.82678852],\n",
       "         [0.5008586 ],\n",
       "         [0.5008586 ],\n",
       "         [0.69556906],\n",
       "         [0.69556906],\n",
       "         [0.61387814],\n",
       "         [0.61387814],\n",
       "         [0.72605882],\n",
       "         [0.72605882],\n",
       "         [0.6883348 ],\n",
       "         [0.6883348 ],\n",
       "         [0.76110597],\n",
       "         [0.76110597],\n",
       "         [0.38377563],\n",
       "         [0.38377563],\n",
       "         [0.82981356],\n",
       "         [0.82981356],\n",
       "         [0.77968492],\n",
       "         [0.77968492],\n",
       "         [0.69841019],\n",
       "         [0.69841019],\n",
       "         [0.38688173],\n",
       "         [0.38688173],\n",
       "         [0.36928802],\n",
       "         [0.36928802],\n",
       "         [0.81681025],\n",
       "         [0.81681025],\n",
       "         [0.08431501],\n",
       "         [0.08431501],\n",
       "         [0.65069309],\n",
       "         [0.65069309],\n",
       "         [0.05079424],\n",
       "         [0.05079424],\n",
       "         [0.48677898],\n",
       "         [0.48677898],\n",
       "         [0.42111574],\n",
       "         [0.42111574],\n",
       "         [0.06211514],\n",
       "         [0.06211514],\n",
       "         [0.29021216],\n",
       "         [0.29021216],\n",
       "         [0.76263861],\n",
       "         [0.76263861],\n",
       "         [0.66827669],\n",
       "         [0.66827669],\n",
       "         [0.72441347],\n",
       "         [0.72441347],\n",
       "         [0.43263736],\n",
       "         [0.43263736],\n",
       "         [0.10300894],\n",
       "         [0.10300894],\n",
       "         [0.08403589],\n",
       "         [0.08403589],\n",
       "         [0.21132474],\n",
       "         [0.21132474],\n",
       "         [0.25168173],\n",
       "         [0.25168173]])}}"
      ]
     },
     "execution_count": 1,
     "metadata": {},
     "output_type": "execute_result"
    }
   ],
   "source": [
    "ds = load_by_id(run_id_a)\n",
    "ds.get_parameter_data('x1')"
   ]
  },
  {
   "cell_type": "code",
   "execution_count": null,
   "metadata": {},
   "outputs": [],
   "source": []
  }
 ],
 "metadata": {
  "kernelspec": {
   "display_name": "Python 3",
   "language": "python",
   "name": "python3"
  },
  "language_info": {
   "codemirror_mode": {
    "name": "ipython",
    "version": 3
   },
   "file_extension": ".py",
   "mimetype": "text/x-python",
   "name": "python",
   "nbconvert_exporter": "python",
   "pygments_lexer": "ipython3",
   "version": "3.7.7"
  },
  "nbsphinx": {
   "timeout": 600
  },
  "toc": {
   "base_numbering": 1,
   "nav_menu": {},
   "number_sections": true,
   "sideBar": true,
   "skip_h1_title": false,
   "title_cell": "Table of Contents",
   "title_sidebar": "Contents",
   "toc_cell": false,
   "toc_position": {},
   "toc_section_display": true,
   "toc_window_display": false
  },
  "varInspector": {
   "cols": {
    "lenName": 16,
    "lenType": 16,
    "lenVar": 40
   },
   "kernels_config": {
    "python": {
     "delete_cmd_postfix": "",
     "delete_cmd_prefix": "del ",
     "library": "var_list.py",
     "varRefreshCmd": "print(var_dic_list())"
    },
    "r": {
     "delete_cmd_postfix": ") ",
     "delete_cmd_prefix": "rm(",
     "library": "var_list.r",
     "varRefreshCmd": "cat(var_dic_list()) "
    }
   },
   "types_to_exclude": [
    "module",
    "function",
    "builtin_function_or_method",
    "instance",
    "_Feature"
   ],
   "window_display": false
  }
 },
 "nbformat": 4,
 "nbformat_minor": 2
}
