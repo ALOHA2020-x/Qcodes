{
 "cells": [
  {
   "cell_type": "markdown",
   "metadata": {},
   "source": [
    "# DataSet Performance\n",
    "\n",
    "This notebook shows the trade-off between inserting data into a database row-by-row and as binary blobs. Inserting the data row-by-row means that we have direct access to all the data and may perform queries directly on the values of the data. On the other hand, as we shall see, this is much slower than inserting the data directly as binary blobs."
   ]
  },
  {
   "cell_type": "markdown",
   "metadata": {},
   "source": [
    "First, we choose a new location for the database to ensure that we don't add a bunch of benchmarking data to the default one."
   ]
  },
  {
   "cell_type": "code",
   "execution_count": 1,
   "metadata": {
    "execution": {
     "iopub.execute_input": "2021-05-24T20:37:38.862468Z",
     "iopub.status.busy": "2021-05-24T20:37:38.861822Z",
     "iopub.status.idle": "2021-05-24T20:37:40.202790Z",
     "shell.execute_reply": "2021-05-24T20:37:40.203323Z"
    }
   },
   "outputs": [
    {
     "name": "stdout",
     "output_type": "stream",
     "text": [
      "Logging hadn't been started.\n",
      "Activating auto-logging. Current session state plus future input saved.\n",
      "Filename       : /home/runner/.qcodes/logs/command_history.log\n",
      "Mode           : append\n",
      "Output logging : True\n",
      "Raw input log  : False\n",
      "Timestamping   : True\n",
      "State          : active\n"
     ]
    },
    {
     "name": "stdout",
     "output_type": "stream",
     "text": [
      "Qcodes Logfile : /home/runner/.qcodes/logs/210524-4576-qcodes.log\n"
     ]
    }
   ],
   "source": [
    "import os\n",
    "cwd = os.getcwd()\n",
    "import qcodes as qc\n",
    "qc.config[\"core\"][\"db_location\"] = os.path.join(cwd, 'testing.db')\n"
   ]
  },
  {
   "cell_type": "code",
   "execution_count": 2,
   "metadata": {
    "execution": {
     "iopub.execute_input": "2021-05-24T20:37:40.211077Z",
     "iopub.status.busy": "2021-05-24T20:37:40.210170Z",
     "iopub.status.idle": "2021-05-24T20:37:40.431357Z",
     "shell.execute_reply": "2021-05-24T20:37:40.431884Z"
    }
   },
   "outputs": [],
   "source": [
    "%matplotlib inline\n",
    "import time\n",
    "import matplotlib.pyplot as plt\n",
    "import numpy as np\n",
    "\n",
    "import qcodes as qc\n",
    "from qcodes.instrument.parameter import ManualParameter\n",
    "from qcodes.dataset.experiment_container import (Experiment,\n",
    "                                                 load_last_experiment,\n",
    "                                                 new_experiment)\n",
    "from qcodes.dataset.sqlite.database import initialise_database\n",
    "from qcodes import load_or_create_experiment\n",
    "from qcodes.dataset.measurements import Measurement"
   ]
  },
  {
   "cell_type": "code",
   "execution_count": 3,
   "metadata": {
    "execution": {
     "iopub.execute_input": "2021-05-24T20:37:40.436339Z",
     "iopub.status.busy": "2021-05-24T20:37:40.435542Z",
     "iopub.status.idle": "2021-05-24T20:37:40.524201Z",
     "shell.execute_reply": "2021-05-24T20:37:40.523588Z"
    }
   },
   "outputs": [
    {
     "name": "stdout",
     "output_type": "stream",
     "text": [
      "\r",
      "0it [00:00, ?it/s]"
     ]
    },
    {
     "name": "stdout",
     "output_type": "stream",
     "text": [
      "\r",
      "Upgrading database; v0 -> v1: : 0it [00:00, ?it/s]"
     ]
    },
    {
     "name": "stdout",
     "output_type": "stream",
     "text": [
      "\r",
      "Upgrading database; v0 -> v1: : 0it [00:00, ?it/s]"
     ]
    },
    {
     "name": "stdout",
     "output_type": "stream",
     "text": [
      "\n",
      "\r",
      "  0%|          | 0/1 [00:00<?, ?it/s]"
     ]
    },
    {
     "name": "stdout",
     "output_type": "stream",
     "text": [
      "\r",
      "Upgrading database; v1 -> v2:   0%|          | 0/1 [00:00<?, ?it/s]"
     ]
    },
    {
     "name": "stdout",
     "output_type": "stream",
     "text": [
      "\r",
      "Upgrading database; v1 -> v2: 100%|██████████| 1/1 [00:00<00:00, 384.94it/s]"
     ]
    },
    {
     "name": "stdout",
     "output_type": "stream",
     "text": [
      "\n",
      "\r",
      "0it [00:00, ?it/s]"
     ]
    },
    {
     "name": "stdout",
     "output_type": "stream",
     "text": [
      "\r",
      "Upgrading database; v2 -> v3: : 0it [00:00, ?it/s]"
     ]
    },
    {
     "name": "stdout",
     "output_type": "stream",
     "text": [
      "\r",
      "Upgrading database; v2 -> v3: : 0it [00:00, ?it/s]"
     ]
    },
    {
     "name": "stdout",
     "output_type": "stream",
     "text": [
      "\n",
      "\r",
      "0it [00:00, ?it/s]"
     ]
    },
    {
     "name": "stdout",
     "output_type": "stream",
     "text": [
      "\r",
      "Upgrading database; v3 -> v4: : 0it [00:00, ?it/s]"
     ]
    },
    {
     "name": "stdout",
     "output_type": "stream",
     "text": [
      "\r",
      "Upgrading database; v3 -> v4: : 0it [00:00, ?it/s]"
     ]
    },
    {
     "name": "stdout",
     "output_type": "stream",
     "text": [
      "\n",
      "\r",
      "  0%|          | 0/1 [00:00<?, ?it/s]"
     ]
    },
    {
     "name": "stdout",
     "output_type": "stream",
     "text": [
      "\r",
      "Upgrading database; v4 -> v5:   0%|          | 0/1 [00:00<?, ?it/s]"
     ]
    },
    {
     "name": "stdout",
     "output_type": "stream",
     "text": [
      "\r",
      "Upgrading database; v4 -> v5: 100%|██████████| 1/1 [00:00<00:00, 362.20it/s]"
     ]
    },
    {
     "name": "stdout",
     "output_type": "stream",
     "text": [
      "\n",
      "\r",
      "0it [00:00, ?it/s]"
     ]
    },
    {
     "name": "stdout",
     "output_type": "stream",
     "text": [
      "\r",
      "Upgrading database; v5 -> v6: : 0it [00:00, ?it/s]"
     ]
    },
    {
     "name": "stdout",
     "output_type": "stream",
     "text": [
      "\r",
      "Upgrading database; v5 -> v6: : 0it [00:00, ?it/s]"
     ]
    },
    {
     "name": "stdout",
     "output_type": "stream",
     "text": [
      "\n",
      "\r",
      "  0%|          | 0/1 [00:00<?, ?it/s]"
     ]
    },
    {
     "name": "stdout",
     "output_type": "stream",
     "text": [
      "\r",
      "Upgrading database; v6 -> v7:   0%|          | 0/1 [00:00<?, ?it/s]"
     ]
    },
    {
     "name": "stdout",
     "output_type": "stream",
     "text": [
      "\r",
      "Upgrading database; v6 -> v7: 100%|██████████| 1/1 [00:00<00:00, 241.93it/s]"
     ]
    },
    {
     "name": "stdout",
     "output_type": "stream",
     "text": [
      "\n",
      "\r",
      "  0%|          | 0/1 [00:00<?, ?it/s]"
     ]
    },
    {
     "name": "stdout",
     "output_type": "stream",
     "text": [
      "\r",
      "Upgrading database; v7 -> v8:   0%|          | 0/1 [00:00<?, ?it/s]"
     ]
    },
    {
     "name": "stdout",
     "output_type": "stream",
     "text": [
      "\r",
      "Upgrading database; v7 -> v8: 100%|██████████| 1/1 [00:00<00:00, 455.70it/s]"
     ]
    },
    {
     "name": "stdout",
     "output_type": "stream",
     "text": [
      "\n",
      "\r",
      "  0%|          | 0/1 [00:00<?, ?it/s]"
     ]
    },
    {
     "name": "stdout",
     "output_type": "stream",
     "text": [
      "\r",
      "Upgrading database; v8 -> v9:   0%|          | 0/1 [00:00<?, ?it/s]"
     ]
    },
    {
     "name": "stdout",
     "output_type": "stream",
     "text": [
      "\r",
      "Upgrading database; v8 -> v9: 100%|██████████| 1/1 [00:00<00:00, 420.14it/s]"
     ]
    },
    {
     "name": "stdout",
     "output_type": "stream",
     "text": [
      "\n"
     ]
    }
   ],
   "source": [
    "initialise_database()\n",
    "exp = load_or_create_experiment(experiment_name='tutorial_exp', sample_name=\"no sample\")"
   ]
  },
  {
   "cell_type": "markdown",
   "metadata": {},
   "source": [
    "Here, we define a simple function to benchmark the time it takes to insert n points with either numeric or array data type.\n",
    "We will compare both the time used to call ``add_result`` and the time used for the full measurement."
   ]
  },
  {
   "cell_type": "code",
   "execution_count": 4,
   "metadata": {
    "execution": {
     "iopub.execute_input": "2021-05-24T20:37:40.533838Z",
     "iopub.status.busy": "2021-05-24T20:37:40.533182Z",
     "iopub.status.idle": "2021-05-24T20:37:40.537434Z",
     "shell.execute_reply": "2021-05-24T20:37:40.536866Z"
    }
   },
   "outputs": [],
   "source": [
    "def insert_data(paramtype, npoints, nreps=1):\n",
    "\n",
    "    meas = Measurement(exp=exp)\n",
    "\n",
    "    x1 = ManualParameter('x1')\n",
    "    x2 = ManualParameter('x2')\n",
    "    x3 = ManualParameter('x3')\n",
    "    y1 = ManualParameter('y1')\n",
    "    y2 = ManualParameter('y2')\n",
    "\n",
    "    meas.register_parameter(x1, paramtype=paramtype)\n",
    "    meas.register_parameter(x2, paramtype=paramtype)\n",
    "    meas.register_parameter(x3, paramtype=paramtype)\n",
    "    meas.register_parameter(y1, setpoints=[x1, x2, x3],\n",
    "                            paramtype=paramtype)\n",
    "    meas.register_parameter(y2, setpoints=[x1, x2, x3],\n",
    "                            paramtype=paramtype)\n",
    "    start = time.perf_counter()\n",
    "    with meas.run() as datasaver:\n",
    "        start_adding = time.perf_counter()\n",
    "        for i in range(nreps):\n",
    "            datasaver.add_result((x1, np.random.rand(npoints)),\n",
    "                                 (x2, np.random.rand(npoints)),\n",
    "                                 (x3, np.random.rand(npoints)),\n",
    "                                 (y1, np.random.rand(npoints)),\n",
    "                                 (y2, np.random.rand(npoints)))\n",
    "        stop_adding = time.perf_counter()\n",
    "        run_id = datasaver.run_id\n",
    "    stop = time.perf_counter()\n",
    "    tot_time = stop - start\n",
    "    add_time = stop_adding - start_adding\n",
    "    return tot_time, add_time, run_id"
   ]
  },
  {
   "cell_type": "markdown",
   "metadata": {},
   "source": [
    "## Comparison between numeric/array data and binary blob"
   ]
  },
  {
   "cell_type": "markdown",
   "metadata": {},
   "source": [
    "### Case1: Short experiment time"
   ]
  },
  {
   "cell_type": "code",
   "execution_count": 5,
   "metadata": {
    "execution": {
     "iopub.execute_input": "2021-05-24T20:37:40.545720Z",
     "iopub.status.busy": "2021-05-24T20:37:40.544990Z",
     "iopub.status.idle": "2021-05-24T20:37:41.490102Z",
     "shell.execute_reply": "2021-05-24T20:37:41.489280Z"
    }
   },
   "outputs": [
    {
     "name": "stdout",
     "output_type": "stream",
     "text": [
      "Starting experimental run with id: 1. \n",
      "Starting experimental run with id: 2. \n",
      "Starting experimental run with id: 3. \n"
     ]
    },
    {
     "name": "stdout",
     "output_type": "stream",
     "text": [
      "Starting experimental run with id: 4. \n"
     ]
    },
    {
     "name": "stdout",
     "output_type": "stream",
     "text": [
      "Starting experimental run with id: 5. \n"
     ]
    },
    {
     "name": "stdout",
     "output_type": "stream",
     "text": [
      "Starting experimental run with id: 6. \n",
      "Starting experimental run with id: 7. \n",
      "Starting experimental run with id: 8. \n"
     ]
    },
    {
     "name": "stdout",
     "output_type": "stream",
     "text": [
      "Starting experimental run with id: 9. \n"
     ]
    },
    {
     "name": "stdout",
     "output_type": "stream",
     "text": [
      "Starting experimental run with id: 10. \n",
      "Starting experimental run with id: 11. \n"
     ]
    },
    {
     "name": "stdout",
     "output_type": "stream",
     "text": [
      "Starting experimental run with id: 12. \n"
     ]
    },
    {
     "name": "stdout",
     "output_type": "stream",
     "text": [
      "Starting experimental run with id: 13. \n"
     ]
    },
    {
     "name": "stdout",
     "output_type": "stream",
     "text": [
      "Starting experimental run with id: 14. \n"
     ]
    }
   ],
   "source": [
    "sizes = [1,500,1000,2000,3000,4000,5000]\n",
    "t_numeric = []\n",
    "t_numeric_add = []\n",
    "t_array = []\n",
    "t_array_add = []\n",
    "for size in sizes:\n",
    "    tn, tna, run_id_n =  insert_data('numeric', size)\n",
    "    t_numeric.append(tn)\n",
    "    t_numeric_add.append(tna)\n",
    "\n",
    "    ta, taa, run_id_a =  insert_data('array', size)\n",
    "    t_array.append(ta)\n",
    "    t_array_add.append(taa)"
   ]
  },
  {
   "cell_type": "code",
   "execution_count": 6,
   "metadata": {
    "execution": {
     "iopub.execute_input": "2021-05-24T20:37:41.512342Z",
     "iopub.status.busy": "2021-05-24T20:37:41.511604Z",
     "iopub.status.idle": "2021-05-24T20:37:41.755905Z",
     "shell.execute_reply": "2021-05-24T20:37:41.754952Z"
    }
   },
   "outputs": [
    {
     "data": {
      "image/png": "[encoded data removed]",
      "text/plain": [
       "<Figure size 432x288 with 1 Axes>"
      ]
     },
     "metadata": {
      "needs_background": "light"
     },
     "output_type": "display_data"
    }
   ],
   "source": [
    "fig, ax = plt.subplots(1,1)\n",
    "ax.plot(sizes, t_numeric, 'o-', label='Inserting row-by-row')\n",
    "ax.plot(sizes, t_numeric_add, 'o-', label='Inserting row-by-row: add_result only')\n",
    "ax.plot(sizes, t_array, 'd-', label='Inserting as binary blob')\n",
    "ax.plot(sizes, t_array_add, 'd-', label='Inserting as binary blob: add_result only')\n",
    "ax.legend()\n",
    "ax.set_xlabel('Array length')\n",
    "ax.set_ylabel('Time (s)')\n",
    "fig.tight_layout()"
   ]
  },
  {
   "cell_type": "markdown",
   "metadata": {},
   "source": [
    "As shown in the latter figure, the time to setup and and close the experiment is approximately 0.4 sec. In case of small array sizes, the difference between inserting values of data as arrays and inserting them row-by-row is relatively unimportant. At larger array sizes, i.e. above 10000 points, the cost of writing data as individual datapoints starts to become important.\n"
   ]
  },
  {
   "cell_type": "markdown",
   "metadata": {},
   "source": [
    "### Case2: Long experiment time "
   ]
  },
  {
   "cell_type": "code",
   "execution_count": 7,
   "metadata": {
    "execution": {
     "iopub.execute_input": "2021-05-24T20:37:41.763897Z",
     "iopub.status.busy": "2021-05-24T20:37:41.762666Z",
     "iopub.status.idle": "2021-05-24T20:38:45.634452Z",
     "shell.execute_reply": "2021-05-24T20:38:45.633868Z"
    }
   },
   "outputs": [
    {
     "name": "stdout",
     "output_type": "stream",
     "text": [
      "Starting experimental run with id: 15. \n",
      "Starting experimental run with id: 16. \n"
     ]
    },
    {
     "name": "stdout",
     "output_type": "stream",
     "text": [
      "Starting experimental run with id: 17. \n"
     ]
    },
    {
     "name": "stdout",
     "output_type": "stream",
     "text": [
      "Starting experimental run with id: 18. \n"
     ]
    },
    {
     "name": "stdout",
     "output_type": "stream",
     "text": [
      "Starting experimental run with id: 19. \n"
     ]
    },
    {
     "name": "stdout",
     "output_type": "stream",
     "text": [
      "Starting experimental run with id: 20. \n"
     ]
    },
    {
     "name": "stdout",
     "output_type": "stream",
     "text": [
      "Starting experimental run with id: 21. \n"
     ]
    },
    {
     "name": "stdout",
     "output_type": "stream",
     "text": [
      "Starting experimental run with id: 22. \n"
     ]
    },
    {
     "name": "stdout",
     "output_type": "stream",
     "text": [
      "Starting experimental run with id: 23. \n"
     ]
    },
    {
     "name": "stdout",
     "output_type": "stream",
     "text": [
      "Starting experimental run with id: 24. \n"
     ]
    },
    {
     "name": "stdout",
     "output_type": "stream",
     "text": [
      "Starting experimental run with id: 25. \n"
     ]
    },
    {
     "name": "stdout",
     "output_type": "stream",
     "text": [
      "Starting experimental run with id: 26. \n"
     ]
    },
    {
     "name": "stdout",
     "output_type": "stream",
     "text": [
      "Starting experimental run with id: 27. \n"
     ]
    },
    {
     "name": "stdout",
     "output_type": "stream",
     "text": [
      "Starting experimental run with id: 28. \n"
     ]
    }
   ],
   "source": [
    "sizes = [1,500,1000,2000,3000,4000,5000]\n",
    "nreps = 100\n",
    "t_numeric = []\n",
    "t_numeric_add = []\n",
    "t_numeric_run_ids = []\n",
    "t_array = []\n",
    "t_array_add = []\n",
    "t_array_run_ids = []\n",
    "for size in sizes:\n",
    "    tn, tna, run_id_n =  insert_data('numeric', size, nreps=nreps)\n",
    "    t_numeric.append(tn)\n",
    "    t_numeric_add.append(tna)\n",
    "    t_numeric_run_ids.append(run_id_n)\n",
    "\n",
    "    ta, taa, run_id_a =  insert_data('array', size, nreps=nreps)\n",
    "    t_array.append(ta)\n",
    "    t_array_add.append(taa)\n",
    "    t_array_run_ids.append(run_id_a)"
   ]
  },
  {
   "cell_type": "code",
   "execution_count": 8,
   "metadata": {
    "execution": {
     "iopub.execute_input": "2021-05-24T20:38:45.685519Z",
     "iopub.status.busy": "2021-05-24T20:38:45.683912Z",
     "iopub.status.idle": "2021-05-24T20:38:45.907930Z",
     "shell.execute_reply": "2021-05-24T20:38:45.907340Z"
    },
    "scrolled": true
   },
   "outputs": [
    {
     "data": {
      "image/png": "[encoded data removed]",
      "text/plain": [
       "<Figure size 432x288 with 1 Axes>"
      ]
     },
     "metadata": {
      "needs_background": "light"
     },
     "output_type": "display_data"
    }
   ],
   "source": [
    "fig, ax = plt.subplots(1,1)\n",
    "ax.plot(sizes, t_numeric, 'o-', label='Inserting row-by-row')\n",
    "ax.plot(sizes, t_numeric_add, 'o-', label='Inserting row-by-row: add_result only')\n",
    "ax.plot(sizes, t_array, 'd-', label='Inserting as binary blob')\n",
    "ax.plot(sizes, t_array_add, 'd-', label='Inserting as binary blob: add_result only')\n",
    "ax.legend()\n",
    "ax.set_xlabel('Array length')\n",
    "ax.set_ylabel('Time (s)')\n",
    "fig.tight_layout()"
   ]
  },
  {
   "cell_type": "markdown",
   "metadata": {},
   "source": [
    "However, as we increase the length of the experiment, as seen here by repeating the insertion 100 times, we see a big difference between inserting values of the data row-by-row and inserting it as a binary blob."
   ]
  },
  {
   "cell_type": "markdown",
   "metadata": {},
   "source": [
    "## Loading the data "
   ]
  },
  {
   "cell_type": "code",
   "execution_count": 9,
   "metadata": {
    "execution": {
     "iopub.execute_input": "2021-05-24T20:38:45.912548Z",
     "iopub.status.busy": "2021-05-24T20:38:45.911889Z",
     "iopub.status.idle": "2021-05-24T20:38:45.916047Z",
     "shell.execute_reply": "2021-05-24T20:38:45.916597Z"
    }
   },
   "outputs": [],
   "source": [
    "from qcodes.dataset.data_set import load_by_id"
   ]
  },
  {
   "cell_type": "markdown",
   "metadata": {},
   "source": [
    "As usual you can load the data by using the ``load_by_id`` function but you will notice that the different storage methods\n",
    "are reflected in shape of the data as it is retrieved. "
   ]
  },
  {
   "cell_type": "code",
   "execution_count": 10,
   "metadata": {
    "execution": {
     "iopub.execute_input": "2021-05-24T20:38:45.922252Z",
     "iopub.status.busy": "2021-05-24T20:38:45.920821Z",
     "iopub.status.idle": "2021-05-24T20:38:45.922961Z",
     "shell.execute_reply": "2021-05-24T20:38:45.923510Z"
    }
   },
   "outputs": [],
   "source": [
    "run_id_n = t_numeric_run_ids[0]\n",
    "run_id_a = t_array_run_ids[0]"
   ]
  },
  {
   "cell_type": "code",
   "execution_count": 11,
   "metadata": {
    "execution": {
     "iopub.execute_input": "2021-05-24T20:38:45.927387Z",
     "iopub.status.busy": "2021-05-24T20:38:45.926747Z",
     "iopub.status.idle": "2021-05-24T20:38:45.937465Z",
     "shell.execute_reply": "2021-05-24T20:38:45.938015Z"
    },
    "scrolled": true
   },
   "outputs": [
    {
     "data": {
      "text/plain": [
       "{'x1': {'x1': array([0.83452865, 0.83452865, 0.2279915 , 0.2279915 , 0.47285564,\n",
       "         0.47285564, 0.11959939, 0.11959939, 0.79282567, 0.79282567,\n",
       "         0.75079082, 0.75079082, 0.48509304, 0.48509304, 0.6594735 ,\n",
       "         0.6594735 , 0.34991886, 0.34991886, 0.30552367, 0.30552367,\n",
       "         0.75252144, 0.75252144, 0.60578153, 0.60578153, 0.22051683,\n",
       "         0.22051683, 0.23456143, 0.23456143, 0.17395412, 0.17395412,\n",
       "         0.70330109, 0.70330109, 0.72726397, 0.72726397, 0.25554588,\n",
       "         0.25554588, 0.26855376, 0.26855376, 0.98018412, 0.98018412,\n",
       "         0.14362907, 0.14362907, 0.9686789 , 0.9686789 , 0.61220107,\n",
       "         0.61220107, 0.31054565, 0.31054565, 0.95363141, 0.95363141,\n",
       "         0.11993554, 0.11993554, 0.86371361, 0.86371361, 0.09664126,\n",
       "         0.09664126, 0.07838714, 0.07838714, 0.1749225 , 0.1749225 ,\n",
       "         0.00169689, 0.00169689, 0.95813299, 0.95813299, 0.0300311 ,\n",
       "         0.0300311 , 0.59281521, 0.59281521, 0.65192913, 0.65192913,\n",
       "         0.0040555 , 0.0040555 , 0.73046902, 0.73046902, 0.15713811,\n",
       "         0.15713811, 0.59035621, 0.59035621, 0.98086531, 0.98086531,\n",
       "         0.35494723, 0.35494723, 0.53344443, 0.53344443, 0.3076491 ,\n",
       "         0.3076491 , 0.63972426, 0.63972426, 0.5127645 , 0.5127645 ,\n",
       "         0.93270136, 0.93270136, 0.63759484, 0.63759484, 0.9818049 ,\n",
       "         0.9818049 , 0.43074442, 0.43074442, 0.18826241, 0.18826241,\n",
       "         0.2895971 , 0.2895971 , 0.39679137, 0.39679137, 0.76662713,\n",
       "         0.76662713, 0.44343635, 0.44343635, 0.9100918 , 0.9100918 ,\n",
       "         0.62757569, 0.62757569, 0.14575413, 0.14575413, 0.44102541,\n",
       "         0.44102541, 0.7373428 , 0.7373428 , 0.39585548, 0.39585548,\n",
       "         0.80071618, 0.80071618, 0.35940202, 0.35940202, 0.21280475,\n",
       "         0.21280475, 0.80583372, 0.80583372, 0.8153383 , 0.8153383 ,\n",
       "         0.85518273, 0.85518273, 0.01743156, 0.01743156, 0.6876925 ,\n",
       "         0.6876925 , 0.68202624, 0.68202624, 0.79951146, 0.79951146,\n",
       "         0.40046454, 0.40046454, 0.48399643, 0.48399643, 0.85977679,\n",
       "         0.85977679, 0.66151033, 0.66151033, 0.4443918 , 0.4443918 ,\n",
       "         0.71595153, 0.71595153, 0.28747571, 0.28747571, 0.89378734,\n",
       "         0.89378734, 0.86875612, 0.86875612, 0.41442288, 0.41442288,\n",
       "         0.06709107, 0.06709107, 0.08539072, 0.08539072, 0.19212649,\n",
       "         0.19212649, 0.09007916, 0.09007916, 0.02529669, 0.02529669,\n",
       "         0.48440035, 0.48440035, 0.10006932, 0.10006932, 0.03618696,\n",
       "         0.03618696, 0.59023187, 0.59023187, 0.14584042, 0.14584042,\n",
       "         0.63981645, 0.63981645, 0.0216953 , 0.0216953 , 0.46051605,\n",
       "         0.46051605, 0.90301994, 0.90301994, 0.13880445, 0.13880445,\n",
       "         0.60476383, 0.60476383, 0.21778893, 0.21778893, 0.89127587,\n",
       "         0.89127587, 0.0484361 , 0.0484361 , 0.03364962, 0.03364962])}}"
      ]
     },
     "execution_count": 1,
     "metadata": {},
     "output_type": "execute_result"
    }
   ],
   "source": [
    "ds = load_by_id(run_id_n)\n",
    "ds.get_parameter_data('x1')"
   ]
  },
  {
   "cell_type": "markdown",
   "metadata": {},
   "source": [
    "And a dataset stored as binary arrays"
   ]
  },
  {
   "cell_type": "code",
   "execution_count": 12,
   "metadata": {
    "execution": {
     "iopub.execute_input": "2021-05-24T20:38:45.941930Z",
     "iopub.status.busy": "2021-05-24T20:38:45.941284Z",
     "iopub.status.idle": "2021-05-24T20:38:46.010066Z",
     "shell.execute_reply": "2021-05-24T20:38:46.010623Z"
    },
    "scrolled": true
   },
   "outputs": [
    {
     "data": {
      "text/plain": [
       "{'x1': {'x1': array([[0.28666764],\n",
       "         [0.28666764],\n",
       "         [0.14912052],\n",
       "         [0.14912052],\n",
       "         [0.16307563],\n",
       "         [0.16307563],\n",
       "         [0.85914439],\n",
       "         [0.85914439],\n",
       "         [0.57230494],\n",
       "         [0.57230494],\n",
       "         [0.4096737 ],\n",
       "         [0.4096737 ],\n",
       "         [0.21990565],\n",
       "         [0.21990565],\n",
       "         [0.22243837],\n",
       "         [0.22243837],\n",
       "         [0.77075088],\n",
       "         [0.77075088],\n",
       "         [0.01793569],\n",
       "         [0.01793569],\n",
       "         [0.2202055 ],\n",
       "         [0.2202055 ],\n",
       "         [0.99359797],\n",
       "         [0.99359797],\n",
       "         [0.70691336],\n",
       "         [0.70691336],\n",
       "         [0.15904046],\n",
       "         [0.15904046],\n",
       "         [0.38368437],\n",
       "         [0.38368437],\n",
       "         [0.21107438],\n",
       "         [0.21107438],\n",
       "         [0.73750362],\n",
       "         [0.73750362],\n",
       "         [0.23154495],\n",
       "         [0.23154495],\n",
       "         [0.17340692],\n",
       "         [0.17340692],\n",
       "         [0.71159106],\n",
       "         [0.71159106],\n",
       "         [0.34229999],\n",
       "         [0.34229999],\n",
       "         [0.32850304],\n",
       "         [0.32850304],\n",
       "         [0.52489186],\n",
       "         [0.52489186],\n",
       "         [0.51226703],\n",
       "         [0.51226703],\n",
       "         [0.11624867],\n",
       "         [0.11624867],\n",
       "         [0.82792396],\n",
       "         [0.82792396],\n",
       "         [0.06043037],\n",
       "         [0.06043037],\n",
       "         [0.10445052],\n",
       "         [0.10445052],\n",
       "         [0.92066389],\n",
       "         [0.92066389],\n",
       "         [0.65301647],\n",
       "         [0.65301647],\n",
       "         [0.97879878],\n",
       "         [0.97879878],\n",
       "         [0.03049699],\n",
       "         [0.03049699],\n",
       "         [0.29057023],\n",
       "         [0.29057023],\n",
       "         [0.48257678],\n",
       "         [0.48257678],\n",
       "         [0.74715621],\n",
       "         [0.74715621],\n",
       "         [0.95516232],\n",
       "         [0.95516232],\n",
       "         [0.90586947],\n",
       "         [0.90586947],\n",
       "         [0.47950609],\n",
       "         [0.47950609],\n",
       "         [0.9471807 ],\n",
       "         [0.9471807 ],\n",
       "         [0.01252846],\n",
       "         [0.01252846],\n",
       "         [0.59198691],\n",
       "         [0.59198691],\n",
       "         [0.30730617],\n",
       "         [0.30730617],\n",
       "         [0.41646874],\n",
       "         [0.41646874],\n",
       "         [0.08995274],\n",
       "         [0.08995274],\n",
       "         [0.93734454],\n",
       "         [0.93734454],\n",
       "         [0.57049855],\n",
       "         [0.57049855],\n",
       "         [0.09351256],\n",
       "         [0.09351256],\n",
       "         [0.37740616],\n",
       "         [0.37740616],\n",
       "         [0.75392673],\n",
       "         [0.75392673],\n",
       "         [0.09416479],\n",
       "         [0.09416479],\n",
       "         [0.07821875],\n",
       "         [0.07821875],\n",
       "         [0.7299138 ],\n",
       "         [0.7299138 ],\n",
       "         [0.76538968],\n",
       "         [0.76538968],\n",
       "         [0.40422232],\n",
       "         [0.40422232],\n",
       "         [0.33072452],\n",
       "         [0.33072452],\n",
       "         [0.7289153 ],\n",
       "         [0.7289153 ],\n",
       "         [0.0374582 ],\n",
       "         [0.0374582 ],\n",
       "         [0.80230528],\n",
       "         [0.80230528],\n",
       "         [0.6466159 ],\n",
       "         [0.6466159 ],\n",
       "         [0.01698638],\n",
       "         [0.01698638],\n",
       "         [0.79284712],\n",
       "         [0.79284712],\n",
       "         [0.03561303],\n",
       "         [0.03561303],\n",
       "         [0.10222661],\n",
       "         [0.10222661],\n",
       "         [0.93183453],\n",
       "         [0.93183453],\n",
       "         [0.41128187],\n",
       "         [0.41128187],\n",
       "         [0.97101581],\n",
       "         [0.97101581],\n",
       "         [0.68341913],\n",
       "         [0.68341913],\n",
       "         [0.09603913],\n",
       "         [0.09603913],\n",
       "         [0.85381258],\n",
       "         [0.85381258],\n",
       "         [0.80601937],\n",
       "         [0.80601937],\n",
       "         [0.36696554],\n",
       "         [0.36696554],\n",
       "         [0.59736613],\n",
       "         [0.59736613],\n",
       "         [0.8851313 ],\n",
       "         [0.8851313 ],\n",
       "         [0.53081645],\n",
       "         [0.53081645],\n",
       "         [0.16241235],\n",
       "         [0.16241235],\n",
       "         [0.93404233],\n",
       "         [0.93404233],\n",
       "         [0.33749779],\n",
       "         [0.33749779],\n",
       "         [0.84899977],\n",
       "         [0.84899977],\n",
       "         [0.57390643],\n",
       "         [0.57390643],\n",
       "         [0.94518067],\n",
       "         [0.94518067],\n",
       "         [0.87430334],\n",
       "         [0.87430334],\n",
       "         [0.37959902],\n",
       "         [0.37959902],\n",
       "         [0.31315927],\n",
       "         [0.31315927],\n",
       "         [0.49628426],\n",
       "         [0.49628426],\n",
       "         [0.93297307],\n",
       "         [0.93297307],\n",
       "         [0.87756732],\n",
       "         [0.87756732],\n",
       "         [0.68887149],\n",
       "         [0.68887149],\n",
       "         [0.15436694],\n",
       "         [0.15436694],\n",
       "         [0.32817704],\n",
       "         [0.32817704],\n",
       "         [0.69036491],\n",
       "         [0.69036491],\n",
       "         [0.10608277],\n",
       "         [0.10608277],\n",
       "         [0.02265736],\n",
       "         [0.02265736],\n",
       "         [0.83888629],\n",
       "         [0.83888629],\n",
       "         [0.58888656],\n",
       "         [0.58888656],\n",
       "         [0.06060639],\n",
       "         [0.06060639],\n",
       "         [0.47101885],\n",
       "         [0.47101885],\n",
       "         [0.24426734],\n",
       "         [0.24426734],\n",
       "         [0.45441684],\n",
       "         [0.45441684],\n",
       "         [0.35974088],\n",
       "         [0.35974088],\n",
       "         [0.56467055],\n",
       "         [0.56467055]])}}"
      ]
     },
     "execution_count": 1,
     "metadata": {},
     "output_type": "execute_result"
    }
   ],
   "source": [
    "ds = load_by_id(run_id_a)\n",
    "ds.get_parameter_data('x1')"
   ]
  },
  {
   "cell_type": "code",
   "execution_count": null,
   "metadata": {},
   "outputs": [],
   "source": []
  }
 ],
 "metadata": {
  "kernelspec": {
   "display_name": "Python 3",
   "language": "python",
   "name": "python3"
  },
  "language_info": {
   "codemirror_mode": {
    "name": "ipython",
    "version": 3
   },
   "file_extension": ".py",
   "mimetype": "text/x-python",
   "name": "python",
   "nbconvert_exporter": "python",
   "pygments_lexer": "ipython3",
   "version": "3.7.10"
  },
  "nbsphinx": {
   "timeout": 600
  },
  "toc": {
   "base_numbering": 1,
   "nav_menu": {},
   "number_sections": true,
   "sideBar": true,
   "skip_h1_title": false,
   "title_cell": "Table of Contents",
   "title_sidebar": "Contents",
   "toc_cell": false,
   "toc_position": {},
   "toc_section_display": true,
   "toc_window_display": false
  },
  "varInspector": {
   "cols": {
    "lenName": 16,
    "lenType": 16,
    "lenVar": 40
   },
   "kernels_config": {
    "python": {
     "delete_cmd_postfix": "",
     "delete_cmd_prefix": "del ",
     "library": "var_list.py",
     "varRefreshCmd": "print(var_dic_list())"
    },
    "r": {
     "delete_cmd_postfix": ") ",
     "delete_cmd_prefix": "rm(",
     "library": "var_list.r",
     "varRefreshCmd": "cat(var_dic_list()) "
    }
   },
   "types_to_exclude": [
    "module",
    "function",
    "builtin_function_or_method",
    "instance",
    "_Feature"
   ],
   "window_display": false
  }
 },
 "nbformat": 4,
 "nbformat_minor": 4
}
