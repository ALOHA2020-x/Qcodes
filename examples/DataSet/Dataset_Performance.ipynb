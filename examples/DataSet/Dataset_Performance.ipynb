{
 "cells": [
  {
   "cell_type": "markdown",
   "metadata": {},
   "source": [
    "# DataSet Performance\n",
    "\n",
    "This notebook shows the trade-off between inserting data into a database row-by-row and as binary blobs. Inserting the data row-by-row means that we have direct access to all the data and may perform queries directly on the values of the data. On the other hand, as we shall see, this is much slower than inserting the data directly as binary blobs."
   ]
  },
  {
   "cell_type": "markdown",
   "metadata": {},
   "source": [
    "First, we choose a new location for the database to ensure that we don't add a bunch of benchmarking data to the default one."
   ]
  },
  {
   "cell_type": "code",
   "execution_count": 1,
   "metadata": {},
   "outputs": [
    {
     "name": "stdout",
     "output_type": "stream",
     "text": [
      "Logging hadn't been started.\n",
      "Activating auto-logging. Current session state plus future input saved.\n",
      "Filename       : /home/vsts/.qcodes/logs/command_history.log\n",
      "Mode           : append\n",
      "Output logging : True\n",
      "Raw input log  : False\n",
      "Timestamping   : True\n",
      "State          : active\n"
     ]
    },
    {
     "name": "stdout",
     "output_type": "stream",
     "text": [
      "Qcodes Logfile : /home/vsts/.qcodes/logs/200817-18024-qcodes.log\n"
     ]
    }
   ],
   "source": [
    "import os\n",
    "cwd = os.getcwd()\n",
    "import qcodes as qc\n",
    "qc.config[\"core\"][\"db_location\"] = os.path.join(cwd, 'testing.db')\n"
   ]
  },
  {
   "cell_type": "code",
   "execution_count": 2,
   "metadata": {},
   "outputs": [],
   "source": [
    "%matplotlib inline\n",
    "import time\n",
    "import matplotlib.pyplot as plt\n",
    "import numpy as np\n",
    "\n",
    "import qcodes as qc\n",
    "from qcodes.instrument.parameter import ManualParameter\n",
    "from qcodes.dataset.experiment_container import (Experiment,\n",
    "                                                 load_last_experiment,\n",
    "                                                 new_experiment)\n",
    "from qcodes.dataset.sqlite.database import initialise_database\n",
    "from qcodes import load_or_create_experiment\n",
    "from qcodes.dataset.measurements import Measurement"
   ]
  },
  {
   "cell_type": "code",
   "execution_count": 3,
   "metadata": {},
   "outputs": [
    {
     "name": "stdout",
     "output_type": "stream",
     "text": [
      "\r",
      "0it [00:00, ?it/s]"
     ]
    },
    {
     "name": "stdout",
     "output_type": "stream",
     "text": [
      "\r",
      "Upgrading database; v0 -> v1: : 0it [00:00, ?it/s]"
     ]
    },
    {
     "name": "stdout",
     "output_type": "stream",
     "text": [
      "\r",
      "Upgrading database; v0 -> v1: : 0it [00:00, ?it/s]"
     ]
    },
    {
     "name": "stdout",
     "output_type": "stream",
     "text": [
      "\n",
      "\r",
      "  0%|          | 0/1 [00:00<?, ?it/s]"
     ]
    },
    {
     "name": "stdout",
     "output_type": "stream",
     "text": [
      "\r",
      "Upgrading database; v1 -> v2:   0%|          | 0/1 [00:00<?, ?it/s]"
     ]
    },
    {
     "name": "stdout",
     "output_type": "stream",
     "text": [
      "\r",
      "Upgrading database; v1 -> v2: 100%|██████████| 1/1 [00:00<00:00, 724.66it/s]"
     ]
    },
    {
     "name": "stdout",
     "output_type": "stream",
     "text": [
      "\n",
      "\r",
      "0it [00:00, ?it/s]"
     ]
    },
    {
     "name": "stdout",
     "output_type": "stream",
     "text": [
      "\r",
      "Upgrading database; v2 -> v3: : 0it [00:00, ?it/s]"
     ]
    },
    {
     "name": "stdout",
     "output_type": "stream",
     "text": [
      "\r",
      "Upgrading database; v2 -> v3: : 0it [00:00, ?it/s]"
     ]
    },
    {
     "name": "stdout",
     "output_type": "stream",
     "text": [
      "\n",
      "\r",
      "0it [00:00, ?it/s]"
     ]
    },
    {
     "name": "stdout",
     "output_type": "stream",
     "text": [
      "\r",
      "Upgrading database; v3 -> v4: : 0it [00:00, ?it/s]"
     ]
    },
    {
     "name": "stdout",
     "output_type": "stream",
     "text": [
      "\r",
      "Upgrading database; v3 -> v4: : 0it [00:00, ?it/s]"
     ]
    },
    {
     "name": "stdout",
     "output_type": "stream",
     "text": [
      "\n",
      "\r",
      "  0%|          | 0/1 [00:00<?, ?it/s]"
     ]
    },
    {
     "name": "stdout",
     "output_type": "stream",
     "text": [
      "\r",
      "Upgrading database; v4 -> v5:   0%|          | 0/1 [00:00<?, ?it/s]"
     ]
    },
    {
     "name": "stdout",
     "output_type": "stream",
     "text": [
      "\r",
      "Upgrading database; v4 -> v5: 100%|██████████| 1/1 [00:00<00:00, 687.82it/s]"
     ]
    },
    {
     "name": "stdout",
     "output_type": "stream",
     "text": [
      "\n",
      "\r",
      "0it [00:00, ?it/s]"
     ]
    },
    {
     "name": "stdout",
     "output_type": "stream",
     "text": [
      "\r",
      "Upgrading database; v5 -> v6: : 0it [00:00, ?it/s]"
     ]
    },
    {
     "name": "stdout",
     "output_type": "stream",
     "text": [
      "\r",
      "Upgrading database; v5 -> v6: : 0it [00:00, ?it/s]"
     ]
    },
    {
     "name": "stdout",
     "output_type": "stream",
     "text": [
      "\n",
      "\r",
      "  0%|          | 0/1 [00:00<?, ?it/s]"
     ]
    },
    {
     "name": "stdout",
     "output_type": "stream",
     "text": [
      "\r",
      "Upgrading database; v6 -> v7:   0%|          | 0/1 [00:00<?, ?it/s]"
     ]
    },
    {
     "name": "stdout",
     "output_type": "stream",
     "text": [
      "\r",
      "Upgrading database; v6 -> v7: 100%|██████████| 1/1 [00:00<00:00, 331.23it/s]"
     ]
    },
    {
     "name": "stdout",
     "output_type": "stream",
     "text": [
      "\n",
      "\r",
      "  0%|          | 0/1 [00:00<?, ?it/s]"
     ]
    },
    {
     "name": "stdout",
     "output_type": "stream",
     "text": [
      "\r",
      "Upgrading database; v7 -> v8:   0%|          | 0/1 [00:00<?, ?it/s]"
     ]
    },
    {
     "name": "stdout",
     "output_type": "stream",
     "text": [
      "\r",
      "Upgrading database; v7 -> v8: 100%|██████████| 1/1 [00:00<00:00, 609.02it/s]"
     ]
    },
    {
     "name": "stdout",
     "output_type": "stream",
     "text": [
      "\n",
      "\r",
      "  0%|          | 0/1 [00:00<?, ?it/s]"
     ]
    },
    {
     "name": "stdout",
     "output_type": "stream",
     "text": [
      "\r",
      "Upgrading database; v8 -> v9:   0%|          | 0/1 [00:00<?, ?it/s]"
     ]
    },
    {
     "name": "stdout",
     "output_type": "stream",
     "text": [
      "\r",
      "Upgrading database; v8 -> v9: 100%|██████████| 1/1 [00:00<00:00, 675.09it/s]"
     ]
    },
    {
     "name": "stdout",
     "output_type": "stream",
     "text": [
      "\n"
     ]
    }
   ],
   "source": [
    "initialise_database()\n",
    "exp = load_or_create_experiment(experiment_name='tutorial_exp', sample_name=\"no sample\")"
   ]
  },
  {
   "cell_type": "markdown",
   "metadata": {},
   "source": [
    "Here, we define a simple function to benchmark the time it takes to insert n points with either numeric or array data type.\n",
    "We will compare both the time used to call ``add_result`` and the time used for the full measurement."
   ]
  },
  {
   "cell_type": "code",
   "execution_count": 4,
   "metadata": {},
   "outputs": [],
   "source": [
    "def insert_data(paramtype, npoints, nreps=1):\n",
    "\n",
    "    meas = Measurement(exp=exp)\n",
    "\n",
    "    x1 = ManualParameter('x1')\n",
    "    x2 = ManualParameter('x2')\n",
    "    x3 = ManualParameter('x3')\n",
    "    y1 = ManualParameter('y1')\n",
    "    y2 = ManualParameter('y2')\n",
    "\n",
    "    meas.register_parameter(x1, paramtype=paramtype)\n",
    "    meas.register_parameter(x2, paramtype=paramtype)\n",
    "    meas.register_parameter(x3, paramtype=paramtype)\n",
    "    meas.register_parameter(y1, setpoints=[x1, x2, x3],\n",
    "                            paramtype=paramtype)\n",
    "    meas.register_parameter(y2, setpoints=[x1, x2, x3],\n",
    "                            paramtype=paramtype)\n",
    "    start = time.perf_counter()\n",
    "    with meas.run() as datasaver:\n",
    "        start_adding = time.perf_counter()\n",
    "        for i in range(nreps):\n",
    "            datasaver.add_result((x1, np.random.rand(npoints)),\n",
    "                                 (x2, np.random.rand(npoints)),\n",
    "                                 (x3, np.random.rand(npoints)),\n",
    "                                 (y1, np.random.rand(npoints)),\n",
    "                                 (y2, np.random.rand(npoints)))\n",
    "        stop_adding = time.perf_counter()\n",
    "        run_id = datasaver.run_id\n",
    "    stop = time.perf_counter()\n",
    "    tot_time = stop - start\n",
    "    add_time = stop_adding - start_adding\n",
    "    return tot_time, add_time, run_id"
   ]
  },
  {
   "cell_type": "markdown",
   "metadata": {},
   "source": [
    "## Comparison between numeric/array data and binary blob"
   ]
  },
  {
   "cell_type": "markdown",
   "metadata": {},
   "source": [
    "### Case1: Short experiment time"
   ]
  },
  {
   "cell_type": "code",
   "execution_count": 5,
   "metadata": {},
   "outputs": [
    {
     "name": "stdout",
     "output_type": "stream",
     "text": [
      "Starting experimental run with id: 1. \n",
      "Starting experimental run with id: 2. \n",
      "Starting experimental run with id: 3. \n"
     ]
    },
    {
     "name": "stdout",
     "output_type": "stream",
     "text": [
      "Starting experimental run with id: 4. \n"
     ]
    },
    {
     "name": "stdout",
     "output_type": "stream",
     "text": [
      "Starting experimental run with id: 5. \n",
      "Starting experimental run with id: 6. \n"
     ]
    },
    {
     "name": "stdout",
     "output_type": "stream",
     "text": [
      "Starting experimental run with id: 7. \n",
      "Starting experimental run with id: 8. \n"
     ]
    },
    {
     "name": "stdout",
     "output_type": "stream",
     "text": [
      "Starting experimental run with id: 9. \n"
     ]
    },
    {
     "name": "stdout",
     "output_type": "stream",
     "text": [
      "Starting experimental run with id: 10. \n",
      "Starting experimental run with id: 11. \n"
     ]
    },
    {
     "name": "stdout",
     "output_type": "stream",
     "text": [
      "Starting experimental run with id: 12. \n"
     ]
    },
    {
     "name": "stdout",
     "output_type": "stream",
     "text": [
      "Starting experimental run with id: 13. \n"
     ]
    },
    {
     "name": "stdout",
     "output_type": "stream",
     "text": [
      "Starting experimental run with id: 14. \n"
     ]
    }
   ],
   "source": [
    "sizes = [1,500,1000,2000,3000,4000,5000]\n",
    "t_numeric = []\n",
    "t_numeric_add = []\n",
    "t_array = []\n",
    "t_array_add = []\n",
    "for size in sizes:\n",
    "    tn, tna, run_id_n =  insert_data('numeric', size)\n",
    "    t_numeric.append(tn)\n",
    "    t_numeric_add.append(tna)\n",
    "\n",
    "    ta, taa, run_id_a =  insert_data('array', size)\n",
    "    t_array.append(ta)\n",
    "    t_array_add.append(taa)"
   ]
  },
  {
   "cell_type": "code",
   "execution_count": 6,
   "metadata": {},
   "outputs": [
    {
     "data": {
      "image/png": "[encoded data removed]",
      "text/plain": [
       "<Figure size 432x288 with 1 Axes>"
      ]
     },
     "metadata": {
      "needs_background": "light"
     },
     "output_type": "display_data"
    }
   ],
   "source": [
    "fig, ax = plt.subplots(1,1)\n",
    "ax.plot(sizes, t_numeric, 'o-', label='Inserting row-by-row')\n",
    "ax.plot(sizes, t_numeric_add, 'o-', label='Inserting row-by-row: add_result only')\n",
    "ax.plot(sizes, t_array, 'd-', label='Inserting as binary blob')\n",
    "ax.plot(sizes, t_array_add, 'd-', label='Inserting as binary blob: add_result only')\n",
    "ax.legend()\n",
    "ax.set_xlabel('Array length')\n",
    "ax.set_ylabel('Time (s)')\n",
    "fig.tight_layout()"
   ]
  },
  {
   "cell_type": "markdown",
   "metadata": {},
   "source": [
    "As shown in the latter figure, the time to setup and and close the experiment is approximately 0.4 sec. In case of small array sizes, the difference between inserting values of data as arrays and inserting them row-by-row is relatively unimportant. At larger array sizes, i.e. above 10000 points, the cost of writing data as individual datapoints starts to become important.\n"
   ]
  },
  {
   "cell_type": "markdown",
   "metadata": {},
   "source": [
    "### Case2: Long experiment time "
   ]
  },
  {
   "cell_type": "code",
   "execution_count": 7,
   "metadata": {},
   "outputs": [
    {
     "name": "stdout",
     "output_type": "stream",
     "text": [
      "Starting experimental run with id: 15. \n",
      "Starting experimental run with id: 16. \n",
      "Starting experimental run with id: 17. \n"
     ]
    },
    {
     "name": "stdout",
     "output_type": "stream",
     "text": [
      "Starting experimental run with id: 18. \n",
      "Starting experimental run with id: 19. \n"
     ]
    },
    {
     "name": "stdout",
     "output_type": "stream",
     "text": [
      "Starting experimental run with id: 20. \n"
     ]
    },
    {
     "name": "stdout",
     "output_type": "stream",
     "text": [
      "Starting experimental run with id: 21. \n"
     ]
    },
    {
     "name": "stdout",
     "output_type": "stream",
     "text": [
      "Starting experimental run with id: 22. \n"
     ]
    },
    {
     "name": "stdout",
     "output_type": "stream",
     "text": [
      "Starting experimental run with id: 23. \n"
     ]
    },
    {
     "name": "stdout",
     "output_type": "stream",
     "text": [
      "Starting experimental run with id: 24. \n"
     ]
    },
    {
     "name": "stdout",
     "output_type": "stream",
     "text": [
      "Starting experimental run with id: 25. \n"
     ]
    },
    {
     "name": "stdout",
     "output_type": "stream",
     "text": [
      "Starting experimental run with id: 26. \n"
     ]
    },
    {
     "name": "stdout",
     "output_type": "stream",
     "text": [
      "Starting experimental run with id: 27. \n"
     ]
    },
    {
     "name": "stdout",
     "output_type": "stream",
     "text": [
      "Starting experimental run with id: 28. \n"
     ]
    }
   ],
   "source": [
    "sizes = [1,500,1000,2000,3000,4000,5000]\n",
    "nreps = 100\n",
    "t_numeric = []\n",
    "t_numeric_add = []\n",
    "t_numeric_run_ids = []\n",
    "t_array = []\n",
    "t_array_add = []\n",
    "t_array_run_ids = []\n",
    "for size in sizes:\n",
    "    tn, tna, run_id_n =  insert_data('numeric', size, nreps=nreps)\n",
    "    t_numeric.append(tn)\n",
    "    t_numeric_add.append(tna)\n",
    "    t_numeric_run_ids.append(run_id_n)\n",
    "\n",
    "    ta, taa, run_id_a =  insert_data('array', size, nreps=nreps)\n",
    "    t_array.append(ta)\n",
    "    t_array_add.append(taa)\n",
    "    t_array_run_ids.append(run_id_a)"
   ]
  },
  {
   "cell_type": "code",
   "execution_count": 8,
   "metadata": {
    "scrolled": true
   },
   "outputs": [
    {
     "data": {
      "image/png": "[encoded data removed]",
      "text/plain": [
       "<Figure size 432x288 with 1 Axes>"
      ]
     },
     "metadata": {
      "needs_background": "light"
     },
     "output_type": "display_data"
    }
   ],
   "source": [
    "fig, ax = plt.subplots(1,1)\n",
    "ax.plot(sizes, t_numeric, 'o-', label='Inserting row-by-row')\n",
    "ax.plot(sizes, t_numeric_add, 'o-', label='Inserting row-by-row: add_result only')\n",
    "ax.plot(sizes, t_array, 'd-', label='Inserting as binary blob')\n",
    "ax.plot(sizes, t_array_add, 'd-', label='Inserting as binary blob: add_result only')\n",
    "ax.legend()\n",
    "ax.set_xlabel('Array length')\n",
    "ax.set_ylabel('Time (s)')\n",
    "fig.tight_layout()"
   ]
  },
  {
   "cell_type": "markdown",
   "metadata": {},
   "source": [
    "However, as we increase the length of the experiment, as seen here by repeating the insertion 100 times, we see a big difference between inserting values of the data row-by-row and inserting it as a binary blob."
   ]
  },
  {
   "cell_type": "markdown",
   "metadata": {},
   "source": [
    "## Loading the data "
   ]
  },
  {
   "cell_type": "code",
   "execution_count": 9,
   "metadata": {},
   "outputs": [],
   "source": [
    "from qcodes.dataset.data_set import load_by_id\n",
    "from qcodes.dataset.data_export import get_data_by_id"
   ]
  },
  {
   "cell_type": "markdown",
   "metadata": {},
   "source": [
    "As usual you can load the data by using the ``load_by_id`` function but you will notice that the different storage methods\n",
    "are reflected in shape of the data as it is retrieved. "
   ]
  },
  {
   "cell_type": "code",
   "execution_count": 10,
   "metadata": {},
   "outputs": [],
   "source": [
    "run_id_n = t_numeric_run_ids[0]\n",
    "run_id_a = t_array_run_ids[0]"
   ]
  },
  {
   "cell_type": "code",
   "execution_count": 11,
   "metadata": {
    "scrolled": true
   },
   "outputs": [
    {
     "data": {
      "text/plain": [
       "{'x1': {'x1': array([0.64520961, 0.64520961, 0.73552092, 0.73552092, 0.8307051 ,\n",
       "         0.8307051 , 0.03882182, 0.03882182, 0.81280195, 0.81280195,\n",
       "         0.0644556 , 0.0644556 , 0.50092728, 0.50092728, 0.40249816,\n",
       "         0.40249816, 0.22423205, 0.22423205, 0.20348562, 0.20348562,\n",
       "         0.40560831, 0.40560831, 0.14844691, 0.14844691, 0.04935543,\n",
       "         0.04935543, 0.01748598, 0.01748598, 0.10896768, 0.10896768,\n",
       "         0.12822065, 0.12822065, 0.96389657, 0.96389657, 0.33195689,\n",
       "         0.33195689, 0.61854578, 0.61854578, 0.11749962, 0.11749962,\n",
       "         0.15180916, 0.15180916, 0.51217308, 0.51217308, 0.80341264,\n",
       "         0.80341264, 0.49062733, 0.49062733, 0.16934978, 0.16934978,\n",
       "         0.48920166, 0.48920166, 0.44207704, 0.44207704, 0.98816196,\n",
       "         0.98816196, 0.93977617, 0.93977617, 0.82352419, 0.82352419,\n",
       "         0.68262378, 0.68262378, 0.97968124, 0.97968124, 0.65093888,\n",
       "         0.65093888, 0.44025807, 0.44025807, 0.24023635, 0.24023635,\n",
       "         0.26550971, 0.26550971, 0.9272486 , 0.9272486 , 0.63771354,\n",
       "         0.63771354, 0.72337994, 0.72337994, 0.88410709, 0.88410709,\n",
       "         0.05774518, 0.05774518, 0.48122642, 0.48122642, 0.16933681,\n",
       "         0.16933681, 0.22593731, 0.22593731, 0.37910627, 0.37910627,\n",
       "         0.38752315, 0.38752315, 0.23100409, 0.23100409, 0.73273768,\n",
       "         0.73273768, 0.67942975, 0.67942975, 0.99079578, 0.99079578,\n",
       "         0.47334737, 0.47334737, 0.88850569, 0.88850569, 0.29597524,\n",
       "         0.29597524, 0.40455567, 0.40455567, 0.51053474, 0.51053474,\n",
       "         0.22086439, 0.22086439, 0.92621738, 0.92621738, 0.64002916,\n",
       "         0.64002916, 0.69805824, 0.69805824, 0.73050703, 0.73050703,\n",
       "         0.65742945, 0.65742945, 0.40614694, 0.40614694, 0.76964231,\n",
       "         0.76964231, 0.43010093, 0.43010093, 0.8340866 , 0.8340866 ,\n",
       "         0.71440657, 0.71440657, 0.49649601, 0.49649601, 0.3641795 ,\n",
       "         0.3641795 , 0.39428907, 0.39428907, 0.98105443, 0.98105443,\n",
       "         0.4716548 , 0.4716548 , 0.269187  , 0.269187  , 0.42521943,\n",
       "         0.42521943, 0.42703012, 0.42703012, 0.23732417, 0.23732417,\n",
       "         0.984054  , 0.984054  , 0.52576157, 0.52576157, 0.98642319,\n",
       "         0.98642319, 0.47309444, 0.47309444, 0.15419007, 0.15419007,\n",
       "         0.58315888, 0.58315888, 0.72833483, 0.72833483, 0.96966092,\n",
       "         0.96966092, 0.44725797, 0.44725797, 0.25395687, 0.25395687,\n",
       "         0.78438322, 0.78438322, 0.76723826, 0.76723826, 0.97971499,\n",
       "         0.97971499, 0.10102654, 0.10102654, 0.42748855, 0.42748855,\n",
       "         0.11532378, 0.11532378, 0.71175364, 0.71175364, 0.64701146,\n",
       "         0.64701146, 0.78573305, 0.78573305, 0.64606659, 0.64606659,\n",
       "         0.7396111 , 0.7396111 , 0.79366198, 0.79366198, 0.94656299,\n",
       "         0.94656299, 0.10915463, 0.10915463, 0.74181786, 0.74181786])}}"
      ]
     },
     "execution_count": 11,
     "metadata": {},
     "output_type": "execute_result"
    }
   ],
   "source": [
    "ds = load_by_id(run_id_n)\n",
    "ds.get_parameter_data('x1')"
   ]
  },
  {
   "cell_type": "markdown",
   "metadata": {},
   "source": [
    "And a dataset stored as binary arrays"
   ]
  },
  {
   "cell_type": "code",
   "execution_count": 12,
   "metadata": {
    "scrolled": true
   },
   "outputs": [
    {
     "data": {
      "text/plain": [
       "{'x1': {'x1': array([[1.27769270e-01],\n",
       "         [1.27769270e-01],\n",
       "         [6.34015189e-01],\n",
       "         [6.34015189e-01],\n",
       "         [2.13855879e-01],\n",
       "         [2.13855879e-01],\n",
       "         [3.17857671e-01],\n",
       "         [3.17857671e-01],\n",
       "         [1.56657097e-01],\n",
       "         [1.56657097e-01],\n",
       "         [4.21604338e-01],\n",
       "         [4.21604338e-01],\n",
       "         [3.33046315e-01],\n",
       "         [3.33046315e-01],\n",
       "         [7.20381658e-01],\n",
       "         [7.20381658e-01],\n",
       "         [9.81551509e-01],\n",
       "         [9.81551509e-01],\n",
       "         [8.49616929e-01],\n",
       "         [8.49616929e-01],\n",
       "         [2.71930155e-01],\n",
       "         [2.71930155e-01],\n",
       "         [1.63959199e-01],\n",
       "         [1.63959199e-01],\n",
       "         [8.92182109e-01],\n",
       "         [8.92182109e-01],\n",
       "         [6.28138952e-01],\n",
       "         [6.28138952e-01],\n",
       "         [5.51401078e-01],\n",
       "         [5.51401078e-01],\n",
       "         [2.15819873e-02],\n",
       "         [2.15819873e-02],\n",
       "         [2.11586311e-01],\n",
       "         [2.11586311e-01],\n",
       "         [7.54065395e-01],\n",
       "         [7.54065395e-01],\n",
       "         [7.97214662e-01],\n",
       "         [7.97214662e-01],\n",
       "         [1.01047760e-01],\n",
       "         [1.01047760e-01],\n",
       "         [5.57121768e-01],\n",
       "         [5.57121768e-01],\n",
       "         [4.97301674e-01],\n",
       "         [4.97301674e-01],\n",
       "         [9.60570287e-01],\n",
       "         [9.60570287e-01],\n",
       "         [8.22350746e-05],\n",
       "         [8.22350746e-05],\n",
       "         [8.51700550e-01],\n",
       "         [8.51700550e-01],\n",
       "         [4.87636239e-02],\n",
       "         [4.87636239e-02],\n",
       "         [2.55547617e-01],\n",
       "         [2.55547617e-01],\n",
       "         [4.66933541e-01],\n",
       "         [4.66933541e-01],\n",
       "         [4.46186314e-01],\n",
       "         [4.46186314e-01],\n",
       "         [5.63932021e-02],\n",
       "         [5.63932021e-02],\n",
       "         [1.39218727e-01],\n",
       "         [1.39218727e-01],\n",
       "         [7.96329983e-01],\n",
       "         [7.96329983e-01],\n",
       "         [6.28365742e-01],\n",
       "         [6.28365742e-01],\n",
       "         [7.77659189e-01],\n",
       "         [7.77659189e-01],\n",
       "         [9.27430926e-01],\n",
       "         [9.27430926e-01],\n",
       "         [7.67015080e-01],\n",
       "         [7.67015080e-01],\n",
       "         [4.83365824e-02],\n",
       "         [4.83365824e-02],\n",
       "         [7.23936039e-01],\n",
       "         [7.23936039e-01],\n",
       "         [9.51399542e-01],\n",
       "         [9.51399542e-01],\n",
       "         [9.77332867e-01],\n",
       "         [9.77332867e-01],\n",
       "         [4.61530682e-01],\n",
       "         [4.61530682e-01],\n",
       "         [4.63899719e-01],\n",
       "         [4.63899719e-01],\n",
       "         [4.57526486e-01],\n",
       "         [4.57526486e-01],\n",
       "         [8.54806854e-01],\n",
       "         [8.54806854e-01],\n",
       "         [3.83501306e-01],\n",
       "         [3.83501306e-01],\n",
       "         [3.31205877e-02],\n",
       "         [3.31205877e-02],\n",
       "         [9.39614815e-01],\n",
       "         [9.39614815e-01],\n",
       "         [8.58998651e-01],\n",
       "         [8.58998651e-01],\n",
       "         [5.23925696e-01],\n",
       "         [5.23925696e-01],\n",
       "         [7.86110792e-01],\n",
       "         [7.86110792e-01],\n",
       "         [1.70702830e-01],\n",
       "         [1.70702830e-01],\n",
       "         [9.16122114e-01],\n",
       "         [9.16122114e-01],\n",
       "         [8.89094223e-01],\n",
       "         [8.89094223e-01],\n",
       "         [3.06841248e-01],\n",
       "         [3.06841248e-01],\n",
       "         [1.40140616e-02],\n",
       "         [1.40140616e-02],\n",
       "         [6.50669418e-02],\n",
       "         [6.50669418e-02],\n",
       "         [6.68196242e-01],\n",
       "         [6.68196242e-01],\n",
       "         [7.37629524e-01],\n",
       "         [7.37629524e-01],\n",
       "         [9.50647811e-01],\n",
       "         [9.50647811e-01],\n",
       "         [8.02492539e-01],\n",
       "         [8.02492539e-01],\n",
       "         [2.52456391e-01],\n",
       "         [2.52456391e-01],\n",
       "         [2.71761931e-01],\n",
       "         [2.71761931e-01],\n",
       "         [4.90953231e-01],\n",
       "         [4.90953231e-01],\n",
       "         [2.95685932e-01],\n",
       "         [2.95685932e-01],\n",
       "         [2.87708094e-01],\n",
       "         [2.87708094e-01],\n",
       "         [9.99763688e-01],\n",
       "         [9.99763688e-01],\n",
       "         [6.46329524e-01],\n",
       "         [6.46329524e-01],\n",
       "         [7.65138065e-01],\n",
       "         [7.65138065e-01],\n",
       "         [7.83652513e-01],\n",
       "         [7.83652513e-01],\n",
       "         [6.04285658e-01],\n",
       "         [6.04285658e-01],\n",
       "         [2.17209076e-01],\n",
       "         [2.17209076e-01],\n",
       "         [2.00777833e-01],\n",
       "         [2.00777833e-01],\n",
       "         [6.49388356e-01],\n",
       "         [6.49388356e-01],\n",
       "         [9.18852999e-01],\n",
       "         [9.18852999e-01],\n",
       "         [8.02237204e-01],\n",
       "         [8.02237204e-01],\n",
       "         [2.54737877e-01],\n",
       "         [2.54737877e-01],\n",
       "         [9.77497097e-02],\n",
       "         [9.77497097e-02],\n",
       "         [7.31616208e-01],\n",
       "         [7.31616208e-01],\n",
       "         [2.16428730e-01],\n",
       "         [2.16428730e-01],\n",
       "         [1.89054214e-01],\n",
       "         [1.89054214e-01],\n",
       "         [3.55978788e-02],\n",
       "         [3.55978788e-02],\n",
       "         [9.05545130e-01],\n",
       "         [9.05545130e-01],\n",
       "         [4.66795895e-01],\n",
       "         [4.66795895e-01],\n",
       "         [5.89504727e-01],\n",
       "         [5.89504727e-01],\n",
       "         [7.17563262e-03],\n",
       "         [7.17563262e-03],\n",
       "         [8.71712285e-01],\n",
       "         [8.71712285e-01],\n",
       "         [9.62293675e-01],\n",
       "         [9.62293675e-01],\n",
       "         [3.33361324e-01],\n",
       "         [3.33361324e-01],\n",
       "         [6.09454313e-01],\n",
       "         [6.09454313e-01],\n",
       "         [7.06026551e-01],\n",
       "         [7.06026551e-01],\n",
       "         [4.40050754e-01],\n",
       "         [4.40050754e-01],\n",
       "         [7.13883788e-02],\n",
       "         [7.13883788e-02],\n",
       "         [9.74040033e-01],\n",
       "         [9.74040033e-01],\n",
       "         [7.32619174e-01],\n",
       "         [7.32619174e-01],\n",
       "         [7.23256914e-02],\n",
       "         [7.23256914e-02],\n",
       "         [8.64488753e-01],\n",
       "         [8.64488753e-01],\n",
       "         [8.43546150e-01],\n",
       "         [8.43546150e-01],\n",
       "         [4.80099490e-01],\n",
       "         [4.80099490e-01],\n",
       "         [2.16099845e-01],\n",
       "         [2.16099845e-01],\n",
       "         [3.08207224e-01],\n",
       "         [3.08207224e-01]])}}"
      ]
     },
     "execution_count": 12,
     "metadata": {},
     "output_type": "execute_result"
    }
   ],
   "source": [
    "ds = load_by_id(run_id_a)\n",
    "ds.get_parameter_data('x1')"
   ]
  },
  {
   "cell_type": "code",
   "execution_count": null,
   "metadata": {},
   "outputs": [],
   "source": []
  }
 ],
 "metadata": {
  "kernelspec": {
   "display_name": "Python 3",
   "language": "python",
   "name": "python3"
  },
  "language_info": {
   "codemirror_mode": {
    "name": "ipython",
    "version": 3
   },
   "file_extension": ".py",
   "mimetype": "text/x-python",
   "name": "python",
   "nbconvert_exporter": "python",
   "pygments_lexer": "ipython3",
   "version": "3.7.7"
  },
  "nbsphinx": {
   "timeout": 600
  },
  "toc": {
   "base_numbering": 1,
   "nav_menu": {},
   "number_sections": true,
   "sideBar": true,
   "skip_h1_title": false,
   "title_cell": "Table of Contents",
   "title_sidebar": "Contents",
   "toc_cell": false,
   "toc_position": {},
   "toc_section_display": true,
   "toc_window_display": false
  },
  "varInspector": {
   "cols": {
    "lenName": 16,
    "lenType": 16,
    "lenVar": 40
   },
   "kernels_config": {
    "python": {
     "delete_cmd_postfix": "",
     "delete_cmd_prefix": "del ",
     "library": "var_list.py",
     "varRefreshCmd": "print(var_dic_list())"
    },
    "r": {
     "delete_cmd_postfix": ") ",
     "delete_cmd_prefix": "rm(",
     "library": "var_list.r",
     "varRefreshCmd": "cat(var_dic_list()) "
    }
   },
   "types_to_exclude": [
    "module",
    "function",
    "builtin_function_or_method",
    "instance",
    "_Feature"
   ],
   "window_display": false
  }
 },
 "nbformat": 4,
 "nbformat_minor": 2
}
