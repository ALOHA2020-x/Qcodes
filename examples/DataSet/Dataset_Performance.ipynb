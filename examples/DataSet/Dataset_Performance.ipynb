{
 "cells": [
  {
   "cell_type": "markdown",
   "metadata": {},
   "source": [
    "# DataSet Performance\n",
    "\n",
    "This notebook shows the trade-off between inserting data into a database row-by-row and as binary blobs. Inserting the data row-by-row means that we have direct access to all the data and may perform queries directly on the values of the data. On the other hand, as we shall see, this is much slower than inserting the data directly as binary blobs."
   ]
  },
  {
   "cell_type": "markdown",
   "metadata": {},
   "source": [
    "First, we choose a new location for the database to ensure that we don't add a bunch of benchmarking data to the default one."
   ]
  },
  {
   "cell_type": "code",
   "execution_count": 1,
   "metadata": {
    "execution": {
     "iopub.execute_input": "2021-05-27T15:04:16.834936Z",
     "iopub.status.busy": "2021-05-27T15:04:16.834275Z",
     "iopub.status.idle": "2021-05-27T15:04:18.013974Z",
     "shell.execute_reply": "2021-05-27T15:04:18.013365Z"
    }
   },
   "outputs": [
    {
     "name": "stdout",
     "output_type": "stream",
     "text": [
      "Logging hadn't been started.\n",
      "Activating auto-logging. Current session state plus future input saved.\n",
      "Filename       : /home/runner/.qcodes/logs/command_history.log\n",
      "Mode           : append\n",
      "Output logging : True\n",
      "Raw input log  : False\n",
      "Timestamping   : True\n",
      "State          : active\n"
     ]
    },
    {
     "name": "stdout",
     "output_type": "stream",
     "text": [
      "Qcodes Logfile : /home/runner/.qcodes/logs/210527-4396-qcodes.log\n"
     ]
    }
   ],
   "source": [
    "import os\n",
    "cwd = os.getcwd()\n",
    "import qcodes as qc\n",
    "qc.config[\"core\"][\"db_location\"] = os.path.join(cwd, 'testing.db')\n"
   ]
  },
  {
   "cell_type": "code",
   "execution_count": 2,
   "metadata": {
    "execution": {
     "iopub.execute_input": "2021-05-27T15:04:18.021208Z",
     "iopub.status.busy": "2021-05-27T15:04:18.020036Z",
     "iopub.status.idle": "2021-05-27T15:04:18.214946Z",
     "shell.execute_reply": "2021-05-27T15:04:18.214437Z"
    }
   },
   "outputs": [],
   "source": [
    "%matplotlib inline\n",
    "import time\n",
    "import matplotlib.pyplot as plt\n",
    "import numpy as np\n",
    "\n",
    "import qcodes as qc\n",
    "from qcodes.instrument.parameter import ManualParameter\n",
    "from qcodes.dataset.experiment_container import (Experiment,\n",
    "                                                 load_last_experiment,\n",
    "                                                 new_experiment)\n",
    "from qcodes.dataset.sqlite.database import initialise_database\n",
    "from qcodes import load_or_create_experiment\n",
    "from qcodes.dataset.measurements import Measurement"
   ]
  },
  {
   "cell_type": "code",
   "execution_count": 3,
   "metadata": {
    "execution": {
     "iopub.execute_input": "2021-05-27T15:04:18.218730Z",
     "iopub.status.busy": "2021-05-27T15:04:18.218089Z",
     "iopub.status.idle": "2021-05-27T15:04:18.283221Z",
     "shell.execute_reply": "2021-05-27T15:04:18.282692Z"
    }
   },
   "outputs": [
    {
     "name": "stdout",
     "output_type": "stream",
     "text": [
      "\r",
      "0it [00:00, ?it/s]"
     ]
    },
    {
     "name": "stdout",
     "output_type": "stream",
     "text": [
      "\r",
      "Upgrading database; v0 -> v1: : 0it [00:00, ?it/s]"
     ]
    },
    {
     "name": "stdout",
     "output_type": "stream",
     "text": [
      "\r",
      "Upgrading database; v0 -> v1: : 0it [00:00, ?it/s]"
     ]
    },
    {
     "name": "stdout",
     "output_type": "stream",
     "text": [
      "\n",
      "\r",
      "  0%|          | 0/1 [00:00<?, ?it/s]"
     ]
    },
    {
     "name": "stdout",
     "output_type": "stream",
     "text": [
      "\r",
      "Upgrading database; v1 -> v2:   0%|          | 0/1 [00:00<?, ?it/s]"
     ]
    },
    {
     "name": "stdout",
     "output_type": "stream",
     "text": [
      "\r",
      "Upgrading database; v1 -> v2: 100%|██████████| 1/1 [00:00<00:00, 883.38it/s]"
     ]
    },
    {
     "name": "stdout",
     "output_type": "stream",
     "text": [
      "\n",
      "\r",
      "0it [00:00, ?it/s]"
     ]
    },
    {
     "name": "stdout",
     "output_type": "stream",
     "text": [
      "\r",
      "Upgrading database; v2 -> v3: : 0it [00:00, ?it/s]"
     ]
    },
    {
     "name": "stdout",
     "output_type": "stream",
     "text": [
      "\r",
      "Upgrading database; v2 -> v3: : 0it [00:00, ?it/s]"
     ]
    },
    {
     "name": "stdout",
     "output_type": "stream",
     "text": [
      "\n",
      "\r",
      "0it [00:00, ?it/s]"
     ]
    },
    {
     "name": "stdout",
     "output_type": "stream",
     "text": [
      "\r",
      "Upgrading database; v3 -> v4: : 0it [00:00, ?it/s]"
     ]
    },
    {
     "name": "stdout",
     "output_type": "stream",
     "text": [
      "\r",
      "Upgrading database; v3 -> v4: : 0it [00:00, ?it/s]"
     ]
    },
    {
     "name": "stdout",
     "output_type": "stream",
     "text": [
      "\n",
      "\r",
      "  0%|          | 0/1 [00:00<?, ?it/s]"
     ]
    },
    {
     "name": "stdout",
     "output_type": "stream",
     "text": [
      "\r",
      "Upgrading database; v4 -> v5:   0%|          | 0/1 [00:00<?, ?it/s]"
     ]
    },
    {
     "name": "stdout",
     "output_type": "stream",
     "text": [
      "\r",
      "Upgrading database; v4 -> v5: 100%|██████████| 1/1 [00:00<00:00, 739.21it/s]"
     ]
    },
    {
     "name": "stdout",
     "output_type": "stream",
     "text": [
      "\n",
      "\r",
      "0it [00:00, ?it/s]"
     ]
    },
    {
     "name": "stdout",
     "output_type": "stream",
     "text": [
      "\r",
      "Upgrading database; v5 -> v6: : 0it [00:00, ?it/s]"
     ]
    },
    {
     "name": "stdout",
     "output_type": "stream",
     "text": [
      "\r",
      "Upgrading database; v5 -> v6: : 0it [00:00, ?it/s]"
     ]
    },
    {
     "name": "stdout",
     "output_type": "stream",
     "text": [
      "\n",
      "\r",
      "  0%|          | 0/1 [00:00<?, ?it/s]"
     ]
    },
    {
     "name": "stdout",
     "output_type": "stream",
     "text": [
      "\r",
      "Upgrading database; v6 -> v7:   0%|          | 0/1 [00:00<?, ?it/s]"
     ]
    },
    {
     "name": "stdout",
     "output_type": "stream",
     "text": [
      "\r",
      "Upgrading database; v6 -> v7: 100%|██████████| 1/1 [00:00<00:00, 404.78it/s]"
     ]
    },
    {
     "name": "stdout",
     "output_type": "stream",
     "text": [
      "\n",
      "\r",
      "  0%|          | 0/1 [00:00<?, ?it/s]"
     ]
    },
    {
     "name": "stdout",
     "output_type": "stream",
     "text": [
      "\r",
      "Upgrading database; v7 -> v8:   0%|          | 0/1 [00:00<?, ?it/s]"
     ]
    },
    {
     "name": "stdout",
     "output_type": "stream",
     "text": [
      "\r",
      "Upgrading database; v7 -> v8: 100%|██████████| 1/1 [00:00<00:00, 793.02it/s]"
     ]
    },
    {
     "name": "stdout",
     "output_type": "stream",
     "text": [
      "\n",
      "\r",
      "  0%|          | 0/1 [00:00<?, ?it/s]"
     ]
    },
    {
     "name": "stdout",
     "output_type": "stream",
     "text": [
      "\r",
      "Upgrading database; v8 -> v9:   0%|          | 0/1 [00:00<?, ?it/s]"
     ]
    },
    {
     "name": "stdout",
     "output_type": "stream",
     "text": [
      "\r",
      "Upgrading database; v8 -> v9: 100%|██████████| 1/1 [00:00<00:00, 952.60it/s]"
     ]
    },
    {
     "name": "stdout",
     "output_type": "stream",
     "text": [
      "\n"
     ]
    }
   ],
   "source": [
    "initialise_database()\n",
    "exp = load_or_create_experiment(experiment_name='tutorial_exp', sample_name=\"no sample\")"
   ]
  },
  {
   "cell_type": "markdown",
   "metadata": {},
   "source": [
    "Here, we define a simple function to benchmark the time it takes to insert n points with either numeric or array data type.\n",
    "We will compare both the time used to call ``add_result`` and the time used for the full measurement."
   ]
  },
  {
   "cell_type": "code",
   "execution_count": 4,
   "metadata": {
    "execution": {
     "iopub.execute_input": "2021-05-27T15:04:18.292094Z",
     "iopub.status.busy": "2021-05-27T15:04:18.291517Z",
     "iopub.status.idle": "2021-05-27T15:04:18.295116Z",
     "shell.execute_reply": "2021-05-27T15:04:18.295554Z"
    }
   },
   "outputs": [],
   "source": [
    "def insert_data(paramtype, npoints, nreps=1):\n",
    "\n",
    "    meas = Measurement(exp=exp)\n",
    "\n",
    "    x1 = ManualParameter('x1')\n",
    "    x2 = ManualParameter('x2')\n",
    "    x3 = ManualParameter('x3')\n",
    "    y1 = ManualParameter('y1')\n",
    "    y2 = ManualParameter('y2')\n",
    "\n",
    "    meas.register_parameter(x1, paramtype=paramtype)\n",
    "    meas.register_parameter(x2, paramtype=paramtype)\n",
    "    meas.register_parameter(x3, paramtype=paramtype)\n",
    "    meas.register_parameter(y1, setpoints=[x1, x2, x3],\n",
    "                            paramtype=paramtype)\n",
    "    meas.register_parameter(y2, setpoints=[x1, x2, x3],\n",
    "                            paramtype=paramtype)\n",
    "    start = time.perf_counter()\n",
    "    with meas.run() as datasaver:\n",
    "        start_adding = time.perf_counter()\n",
    "        for i in range(nreps):\n",
    "            datasaver.add_result((x1, np.random.rand(npoints)),\n",
    "                                 (x2, np.random.rand(npoints)),\n",
    "                                 (x3, np.random.rand(npoints)),\n",
    "                                 (y1, np.random.rand(npoints)),\n",
    "                                 (y2, np.random.rand(npoints)))\n",
    "        stop_adding = time.perf_counter()\n",
    "        run_id = datasaver.run_id\n",
    "    stop = time.perf_counter()\n",
    "    tot_time = stop - start\n",
    "    add_time = stop_adding - start_adding\n",
    "    return tot_time, add_time, run_id"
   ]
  },
  {
   "cell_type": "markdown",
   "metadata": {},
   "source": [
    "## Comparison between numeric/array data and binary blob"
   ]
  },
  {
   "cell_type": "markdown",
   "metadata": {},
   "source": [
    "### Case1: Short experiment time"
   ]
  },
  {
   "cell_type": "code",
   "execution_count": 5,
   "metadata": {
    "execution": {
     "iopub.execute_input": "2021-05-27T15:04:18.300661Z",
     "iopub.status.busy": "2021-05-27T15:04:18.299227Z",
     "iopub.status.idle": "2021-05-27T15:04:19.119572Z",
     "shell.execute_reply": "2021-05-27T15:04:19.118967Z"
    }
   },
   "outputs": [
    {
     "name": "stdout",
     "output_type": "stream",
     "text": [
      "Starting experimental run with id: 1. \n",
      "Starting experimental run with id: 2. \n",
      "Starting experimental run with id: 3. \n",
      "Starting experimental run with id: 4. \n"
     ]
    },
    {
     "name": "stdout",
     "output_type": "stream",
     "text": [
      "Starting experimental run with id: 5. \n"
     ]
    },
    {
     "name": "stdout",
     "output_type": "stream",
     "text": [
      "Starting experimental run with id: 6. \n"
     ]
    },
    {
     "name": "stdout",
     "output_type": "stream",
     "text": [
      "Starting experimental run with id: 7. \n",
      "Starting experimental run with id: 8. \n",
      "Starting experimental run with id: 9. \n"
     ]
    },
    {
     "name": "stdout",
     "output_type": "stream",
     "text": [
      "Starting experimental run with id: 10. \n",
      "Starting experimental run with id: 11. \n",
      "Starting experimental run with id: 12. \n",
      "Starting experimental run with id: 13. \n"
     ]
    },
    {
     "name": "stdout",
     "output_type": "stream",
     "text": [
      "Starting experimental run with id: 14. \n"
     ]
    }
   ],
   "source": [
    "sizes = [1,500,1000,2000,3000,4000,5000]\n",
    "t_numeric = []\n",
    "t_numeric_add = []\n",
    "t_array = []\n",
    "t_array_add = []\n",
    "for size in sizes:\n",
    "    tn, tna, run_id_n =  insert_data('numeric', size)\n",
    "    t_numeric.append(tn)\n",
    "    t_numeric_add.append(tna)\n",
    "\n",
    "    ta, taa, run_id_a =  insert_data('array', size)\n",
    "    t_array.append(ta)\n",
    "    t_array_add.append(taa)"
   ]
  },
  {
   "cell_type": "code",
   "execution_count": 6,
   "metadata": {
    "execution": {
     "iopub.execute_input": "2021-05-27T15:04:19.146161Z",
     "iopub.status.busy": "2021-05-27T15:04:19.141705Z",
     "iopub.status.idle": "2021-05-27T15:04:19.415127Z",
     "shell.execute_reply": "2021-05-27T15:04:19.414271Z"
    }
   },
   "outputs": [
    {
     "data": {
      "image/png": "[encoded data removed]",
      "text/plain": [
       "<Figure size 432x288 with 1 Axes>"
      ]
     },
     "metadata": {
      "needs_background": "light"
     },
     "output_type": "display_data"
    }
   ],
   "source": [
    "fig, ax = plt.subplots(1,1)\n",
    "ax.plot(sizes, t_numeric, 'o-', label='Inserting row-by-row')\n",
    "ax.plot(sizes, t_numeric_add, 'o-', label='Inserting row-by-row: add_result only')\n",
    "ax.plot(sizes, t_array, 'd-', label='Inserting as binary blob')\n",
    "ax.plot(sizes, t_array_add, 'd-', label='Inserting as binary blob: add_result only')\n",
    "ax.legend()\n",
    "ax.set_xlabel('Array length')\n",
    "ax.set_ylabel('Time (s)')\n",
    "fig.tight_layout()"
   ]
  },
  {
   "cell_type": "markdown",
   "metadata": {},
   "source": [
    "As shown in the latter figure, the time to setup and and close the experiment is approximately 0.4 sec. In case of small array sizes, the difference between inserting values of data as arrays and inserting them row-by-row is relatively unimportant. At larger array sizes, i.e. above 10000 points, the cost of writing data as individual datapoints starts to become important.\n"
   ]
  },
  {
   "cell_type": "markdown",
   "metadata": {},
   "source": [
    "### Case2: Long experiment time "
   ]
  },
  {
   "cell_type": "code",
   "execution_count": 7,
   "metadata": {
    "execution": {
     "iopub.execute_input": "2021-05-27T15:04:19.422149Z",
     "iopub.status.busy": "2021-05-27T15:04:19.421334Z",
     "iopub.status.idle": "2021-05-27T15:05:12.938461Z",
     "shell.execute_reply": "2021-05-27T15:05:12.937604Z"
    }
   },
   "outputs": [
    {
     "name": "stdout",
     "output_type": "stream",
     "text": [
      "Starting experimental run with id: 15. \n",
      "Starting experimental run with id: 16. \n"
     ]
    },
    {
     "name": "stdout",
     "output_type": "stream",
     "text": [
      "Starting experimental run with id: 17. \n"
     ]
    },
    {
     "name": "stdout",
     "output_type": "stream",
     "text": [
      "Starting experimental run with id: 18. \n",
      "Starting experimental run with id: 19. \n"
     ]
    },
    {
     "name": "stdout",
     "output_type": "stream",
     "text": [
      "Starting experimental run with id: 20. \n"
     ]
    },
    {
     "name": "stdout",
     "output_type": "stream",
     "text": [
      "Starting experimental run with id: 21. \n"
     ]
    },
    {
     "name": "stdout",
     "output_type": "stream",
     "text": [
      "Starting experimental run with id: 22. \n"
     ]
    },
    {
     "name": "stdout",
     "output_type": "stream",
     "text": [
      "Starting experimental run with id: 23. \n"
     ]
    },
    {
     "name": "stdout",
     "output_type": "stream",
     "text": [
      "Starting experimental run with id: 24. \n"
     ]
    },
    {
     "name": "stdout",
     "output_type": "stream",
     "text": [
      "Starting experimental run with id: 25. \n"
     ]
    },
    {
     "name": "stdout",
     "output_type": "stream",
     "text": [
      "Starting experimental run with id: 26. \n"
     ]
    },
    {
     "name": "stdout",
     "output_type": "stream",
     "text": [
      "Starting experimental run with id: 27. \n"
     ]
    },
    {
     "name": "stdout",
     "output_type": "stream",
     "text": [
      "Starting experimental run with id: 28. \n"
     ]
    }
   ],
   "source": [
    "sizes = [1,500,1000,2000,3000,4000,5000]\n",
    "nreps = 100\n",
    "t_numeric = []\n",
    "t_numeric_add = []\n",
    "t_numeric_run_ids = []\n",
    "t_array = []\n",
    "t_array_add = []\n",
    "t_array_run_ids = []\n",
    "for size in sizes:\n",
    "    tn, tna, run_id_n =  insert_data('numeric', size, nreps=nreps)\n",
    "    t_numeric.append(tn)\n",
    "    t_numeric_add.append(tna)\n",
    "    t_numeric_run_ids.append(run_id_n)\n",
    "\n",
    "    ta, taa, run_id_a =  insert_data('array', size, nreps=nreps)\n",
    "    t_array.append(ta)\n",
    "    t_array_add.append(taa)\n",
    "    t_array_run_ids.append(run_id_a)"
   ]
  },
  {
   "cell_type": "code",
   "execution_count": 8,
   "metadata": {
    "execution": {
     "iopub.execute_input": "2021-05-27T15:05:12.985391Z",
     "iopub.status.busy": "2021-05-27T15:05:12.970662Z",
     "iopub.status.idle": "2021-05-27T15:05:13.180686Z",
     "shell.execute_reply": "2021-05-27T15:05:13.181181Z"
    },
    "scrolled": true
   },
   "outputs": [
    {
     "data": {
      "image/png": "[encoded data removed]",
      "text/plain": [
       "<Figure size 432x288 with 1 Axes>"
      ]
     },
     "metadata": {
      "needs_background": "light"
     },
     "output_type": "display_data"
    }
   ],
   "source": [
    "fig, ax = plt.subplots(1,1)\n",
    "ax.plot(sizes, t_numeric, 'o-', label='Inserting row-by-row')\n",
    "ax.plot(sizes, t_numeric_add, 'o-', label='Inserting row-by-row: add_result only')\n",
    "ax.plot(sizes, t_array, 'd-', label='Inserting as binary blob')\n",
    "ax.plot(sizes, t_array_add, 'd-', label='Inserting as binary blob: add_result only')\n",
    "ax.legend()\n",
    "ax.set_xlabel('Array length')\n",
    "ax.set_ylabel('Time (s)')\n",
    "fig.tight_layout()"
   ]
  },
  {
   "cell_type": "markdown",
   "metadata": {},
   "source": [
    "However, as we increase the length of the experiment, as seen here by repeating the insertion 100 times, we see a big difference between inserting values of the data row-by-row and inserting it as a binary blob."
   ]
  },
  {
   "cell_type": "markdown",
   "metadata": {},
   "source": [
    "## Loading the data "
   ]
  },
  {
   "cell_type": "code",
   "execution_count": 9,
   "metadata": {
    "execution": {
     "iopub.execute_input": "2021-05-27T15:05:13.185722Z",
     "iopub.status.busy": "2021-05-27T15:05:13.185147Z",
     "iopub.status.idle": "2021-05-27T15:05:13.189046Z",
     "shell.execute_reply": "2021-05-27T15:05:13.188443Z"
    }
   },
   "outputs": [],
   "source": [
    "from qcodes.dataset.data_set import load_by_id"
   ]
  },
  {
   "cell_type": "markdown",
   "metadata": {},
   "source": [
    "As usual you can load the data by using the ``load_by_id`` function but you will notice that the different storage methods\n",
    "are reflected in shape of the data as it is retrieved. "
   ]
  },
  {
   "cell_type": "code",
   "execution_count": 10,
   "metadata": {
    "execution": {
     "iopub.execute_input": "2021-05-27T15:05:13.193563Z",
     "iopub.status.busy": "2021-05-27T15:05:13.192258Z",
     "iopub.status.idle": "2021-05-27T15:05:13.194194Z",
     "shell.execute_reply": "2021-05-27T15:05:13.194743Z"
    }
   },
   "outputs": [],
   "source": [
    "run_id_n = t_numeric_run_ids[0]\n",
    "run_id_a = t_array_run_ids[0]"
   ]
  },
  {
   "cell_type": "code",
   "execution_count": 11,
   "metadata": {
    "execution": {
     "iopub.execute_input": "2021-05-27T15:05:13.198116Z",
     "iopub.status.busy": "2021-05-27T15:05:13.197546Z",
     "iopub.status.idle": "2021-05-27T15:05:13.206803Z",
     "shell.execute_reply": "2021-05-27T15:05:13.207310Z"
    },
    "scrolled": true
   },
   "outputs": [
    {
     "data": {
      "text/plain": [
       "{'x1': {'x1': array([0.2392664 , 0.2392664 , 0.04684515, 0.04684515, 0.10907201,\n",
       "         0.10907201, 0.11826956, 0.11826956, 0.94946915, 0.94946915,\n",
       "         0.86658386, 0.86658386, 0.9477634 , 0.9477634 , 0.74304073,\n",
       "         0.74304073, 0.34756244, 0.34756244, 0.77859744, 0.77859744,\n",
       "         0.82001131, 0.82001131, 0.27924435, 0.27924435, 0.28084495,\n",
       "         0.28084495, 0.96991767, 0.96991767, 0.0647407 , 0.0647407 ,\n",
       "         0.61473189, 0.61473189, 0.52651037, 0.52651037, 0.0617633 ,\n",
       "         0.0617633 , 0.36522611, 0.36522611, 0.53597342, 0.53597342,\n",
       "         0.37165674, 0.37165674, 0.82413422, 0.82413422, 0.05884851,\n",
       "         0.05884851, 0.94494302, 0.94494302, 0.61733781, 0.61733781,\n",
       "         0.03224367, 0.03224367, 0.18874119, 0.18874119, 0.73554732,\n",
       "         0.73554732, 0.19908762, 0.19908762, 0.08795423, 0.08795423,\n",
       "         0.77015189, 0.77015189, 0.11441949, 0.11441949, 0.43737216,\n",
       "         0.43737216, 0.70695654, 0.70695654, 0.5613926 , 0.5613926 ,\n",
       "         0.25682529, 0.25682529, 0.64253352, 0.64253352, 0.31749858,\n",
       "         0.31749858, 0.23741513, 0.23741513, 0.58961488, 0.58961488,\n",
       "         0.10402798, 0.10402798, 0.08265595, 0.08265595, 0.76939539,\n",
       "         0.76939539, 0.12563472, 0.12563472, 0.75469403, 0.75469403,\n",
       "         0.57533492, 0.57533492, 0.05098613, 0.05098613, 0.44525459,\n",
       "         0.44525459, 0.86043484, 0.86043484, 0.94257185, 0.94257185,\n",
       "         0.41154333, 0.41154333, 0.11647419, 0.11647419, 0.41868425,\n",
       "         0.41868425, 0.20262433, 0.20262433, 0.9618019 , 0.9618019 ,\n",
       "         0.56530369, 0.56530369, 0.27531938, 0.27531938, 0.71525559,\n",
       "         0.71525559, 0.84518923, 0.84518923, 0.28550952, 0.28550952,\n",
       "         0.81689421, 0.81689421, 0.36437054, 0.36437054, 0.94056714,\n",
       "         0.94056714, 0.56049443, 0.56049443, 0.78454979, 0.78454979,\n",
       "         0.43173241, 0.43173241, 0.70256409, 0.70256409, 0.7926035 ,\n",
       "         0.7926035 , 0.91041098, 0.91041098, 0.20715731, 0.20715731,\n",
       "         0.93147662, 0.93147662, 0.17660673, 0.17660673, 0.54966169,\n",
       "         0.54966169, 0.99161605, 0.99161605, 0.10032638, 0.10032638,\n",
       "         0.40990389, 0.40990389, 0.77649744, 0.77649744, 0.87079437,\n",
       "         0.87079437, 0.32345732, 0.32345732, 0.01997868, 0.01997868,\n",
       "         0.31944928, 0.31944928, 0.21702132, 0.21702132, 0.21281961,\n",
       "         0.21281961, 0.82577135, 0.82577135, 0.91667916, 0.91667916,\n",
       "         0.33812553, 0.33812553, 0.24040643, 0.24040643, 0.49439514,\n",
       "         0.49439514, 0.01088583, 0.01088583, 0.7530806 , 0.7530806 ,\n",
       "         0.29915847, 0.29915847, 0.76810793, 0.76810793, 0.15434492,\n",
       "         0.15434492, 0.55821277, 0.55821277, 0.48291186, 0.48291186,\n",
       "         0.53457851, 0.53457851, 0.56473502, 0.56473502, 0.01853444,\n",
       "         0.01853444, 0.16872741, 0.16872741, 0.7453992 , 0.7453992 ])}}"
      ]
     },
     "execution_count": 1,
     "metadata": {},
     "output_type": "execute_result"
    }
   ],
   "source": [
    "ds = load_by_id(run_id_n)\n",
    "ds.get_parameter_data('x1')"
   ]
  },
  {
   "cell_type": "markdown",
   "metadata": {},
   "source": [
    "And a dataset stored as binary arrays"
   ]
  },
  {
   "cell_type": "code",
   "execution_count": 12,
   "metadata": {
    "execution": {
     "iopub.execute_input": "2021-05-27T15:05:13.210678Z",
     "iopub.status.busy": "2021-05-27T15:05:13.210113Z",
     "iopub.status.idle": "2021-05-27T15:05:13.270605Z",
     "shell.execute_reply": "2021-05-27T15:05:13.270022Z"
    },
    "scrolled": true
   },
   "outputs": [
    {
     "data": {
      "text/plain": [
       "{'x1': {'x1': array([[0.96111253],\n",
       "         [0.96111253],\n",
       "         [0.03850786],\n",
       "         [0.03850786],\n",
       "         [0.92387616],\n",
       "         [0.92387616],\n",
       "         [0.67471391],\n",
       "         [0.67471391],\n",
       "         [0.26527822],\n",
       "         [0.26527822],\n",
       "         [0.46081099],\n",
       "         [0.46081099],\n",
       "         [0.65839029],\n",
       "         [0.65839029],\n",
       "         [0.65476711],\n",
       "         [0.65476711],\n",
       "         [0.81544525],\n",
       "         [0.81544525],\n",
       "         [0.52589732],\n",
       "         [0.52589732],\n",
       "         [0.97679504],\n",
       "         [0.97679504],\n",
       "         [0.62282603],\n",
       "         [0.62282603],\n",
       "         [0.71837141],\n",
       "         [0.71837141],\n",
       "         [0.24376185],\n",
       "         [0.24376185],\n",
       "         [0.29668021],\n",
       "         [0.29668021],\n",
       "         [0.22824193],\n",
       "         [0.22824193],\n",
       "         [0.02215692],\n",
       "         [0.02215692],\n",
       "         [0.68620265],\n",
       "         [0.68620265],\n",
       "         [0.10253393],\n",
       "         [0.10253393],\n",
       "         [0.5100633 ],\n",
       "         [0.5100633 ],\n",
       "         [0.25832407],\n",
       "         [0.25832407],\n",
       "         [0.36051102],\n",
       "         [0.36051102],\n",
       "         [0.77131034],\n",
       "         [0.77131034],\n",
       "         [0.37196739],\n",
       "         [0.37196739],\n",
       "         [0.06988289],\n",
       "         [0.06988289],\n",
       "         [0.98136388],\n",
       "         [0.98136388],\n",
       "         [0.80771876],\n",
       "         [0.80771876],\n",
       "         [0.43791304],\n",
       "         [0.43791304],\n",
       "         [0.69400849],\n",
       "         [0.69400849],\n",
       "         [0.34412581],\n",
       "         [0.34412581],\n",
       "         [0.65238962],\n",
       "         [0.65238962],\n",
       "         [0.75775262],\n",
       "         [0.75775262],\n",
       "         [0.42324627],\n",
       "         [0.42324627],\n",
       "         [0.61650979],\n",
       "         [0.61650979],\n",
       "         [0.34994039],\n",
       "         [0.34994039],\n",
       "         [0.01028796],\n",
       "         [0.01028796],\n",
       "         [0.67435563],\n",
       "         [0.67435563],\n",
       "         [0.80718042],\n",
       "         [0.80718042],\n",
       "         [0.95685422],\n",
       "         [0.95685422],\n",
       "         [0.07588155],\n",
       "         [0.07588155],\n",
       "         [0.38944135],\n",
       "         [0.38944135],\n",
       "         [0.80621641],\n",
       "         [0.80621641],\n",
       "         [0.31765876],\n",
       "         [0.31765876],\n",
       "         [0.68791115],\n",
       "         [0.68791115],\n",
       "         [0.83201543],\n",
       "         [0.83201543],\n",
       "         [0.01533645],\n",
       "         [0.01533645],\n",
       "         [0.09956947],\n",
       "         [0.09956947],\n",
       "         [0.99031646],\n",
       "         [0.99031646],\n",
       "         [0.6732529 ],\n",
       "         [0.6732529 ],\n",
       "         [0.81834715],\n",
       "         [0.81834715],\n",
       "         [0.77645127],\n",
       "         [0.77645127],\n",
       "         [0.49021502],\n",
       "         [0.49021502],\n",
       "         [0.79758766],\n",
       "         [0.79758766],\n",
       "         [0.88857818],\n",
       "         [0.88857818],\n",
       "         [0.49819439],\n",
       "         [0.49819439],\n",
       "         [0.52622279],\n",
       "         [0.52622279],\n",
       "         [0.95530315],\n",
       "         [0.95530315],\n",
       "         [0.67934322],\n",
       "         [0.67934322],\n",
       "         [0.52872665],\n",
       "         [0.52872665],\n",
       "         [0.37848853],\n",
       "         [0.37848853],\n",
       "         [0.11179477],\n",
       "         [0.11179477],\n",
       "         [0.65543084],\n",
       "         [0.65543084],\n",
       "         [0.78565576],\n",
       "         [0.78565576],\n",
       "         [0.26550617],\n",
       "         [0.26550617],\n",
       "         [0.95233835],\n",
       "         [0.95233835],\n",
       "         [0.28617092],\n",
       "         [0.28617092],\n",
       "         [0.21082256],\n",
       "         [0.21082256],\n",
       "         [0.38046747],\n",
       "         [0.38046747],\n",
       "         [0.42344459],\n",
       "         [0.42344459],\n",
       "         [0.37057448],\n",
       "         [0.37057448],\n",
       "         [0.01162823],\n",
       "         [0.01162823],\n",
       "         [0.75578007],\n",
       "         [0.75578007],\n",
       "         [0.760067  ],\n",
       "         [0.760067  ],\n",
       "         [0.60589128],\n",
       "         [0.60589128],\n",
       "         [0.59159627],\n",
       "         [0.59159627],\n",
       "         [0.26316228],\n",
       "         [0.26316228],\n",
       "         [0.94307437],\n",
       "         [0.94307437],\n",
       "         [0.32176885],\n",
       "         [0.32176885],\n",
       "         [0.39716139],\n",
       "         [0.39716139],\n",
       "         [0.00242929],\n",
       "         [0.00242929],\n",
       "         [0.32515423],\n",
       "         [0.32515423],\n",
       "         [0.92247758],\n",
       "         [0.92247758],\n",
       "         [0.66661801],\n",
       "         [0.66661801],\n",
       "         [0.58139631],\n",
       "         [0.58139631],\n",
       "         [0.29627168],\n",
       "         [0.29627168],\n",
       "         [0.37949518],\n",
       "         [0.37949518],\n",
       "         [0.36823555],\n",
       "         [0.36823555],\n",
       "         [0.5465558 ],\n",
       "         [0.5465558 ],\n",
       "         [0.89019919],\n",
       "         [0.89019919],\n",
       "         [0.03137126],\n",
       "         [0.03137126],\n",
       "         [0.53083399],\n",
       "         [0.53083399],\n",
       "         [0.43968097],\n",
       "         [0.43968097],\n",
       "         [0.1676245 ],\n",
       "         [0.1676245 ],\n",
       "         [0.19571041],\n",
       "         [0.19571041],\n",
       "         [0.29822977],\n",
       "         [0.29822977],\n",
       "         [0.49736588],\n",
       "         [0.49736588],\n",
       "         [0.47096855],\n",
       "         [0.47096855],\n",
       "         [0.02495075],\n",
       "         [0.02495075],\n",
       "         [0.07250152],\n",
       "         [0.07250152],\n",
       "         [0.9419658 ],\n",
       "         [0.9419658 ]])}}"
      ]
     },
     "execution_count": 1,
     "metadata": {},
     "output_type": "execute_result"
    }
   ],
   "source": [
    "ds = load_by_id(run_id_a)\n",
    "ds.get_parameter_data('x1')"
   ]
  },
  {
   "cell_type": "code",
   "execution_count": null,
   "metadata": {},
   "outputs": [],
   "source": []
  }
 ],
 "metadata": {
  "kernelspec": {
   "display_name": "Python 3",
   "language": "python",
   "name": "python3"
  },
  "language_info": {
   "codemirror_mode": {
    "name": "ipython",
    "version": 3
   },
   "file_extension": ".py",
   "mimetype": "text/x-python",
   "name": "python",
   "nbconvert_exporter": "python",
   "pygments_lexer": "ipython3",
   "version": "3.7.10"
  },
  "nbsphinx": {
   "timeout": 600
  },
  "toc": {
   "base_numbering": 1,
   "nav_menu": {},
   "number_sections": true,
   "sideBar": true,
   "skip_h1_title": false,
   "title_cell": "Table of Contents",
   "title_sidebar": "Contents",
   "toc_cell": false,
   "toc_position": {},
   "toc_section_display": true,
   "toc_window_display": false
  },
  "varInspector": {
   "cols": {
    "lenName": 16,
    "lenType": 16,
    "lenVar": 40
   },
   "kernels_config": {
    "python": {
     "delete_cmd_postfix": "",
     "delete_cmd_prefix": "del ",
     "library": "var_list.py",
     "varRefreshCmd": "print(var_dic_list())"
    },
    "r": {
     "delete_cmd_postfix": ") ",
     "delete_cmd_prefix": "rm(",
     "library": "var_list.r",
     "varRefreshCmd": "cat(var_dic_list()) "
    }
   },
   "types_to_exclude": [
    "module",
    "function",
    "builtin_function_or_method",
    "instance",
    "_Feature"
   ],
   "window_display": false
  }
 },
 "nbformat": 4,
 "nbformat_minor": 4
}
