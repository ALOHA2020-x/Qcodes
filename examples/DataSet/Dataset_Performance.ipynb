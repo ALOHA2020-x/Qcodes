{
 "cells": [
  {
   "cell_type": "markdown",
   "metadata": {},
   "source": [
    "# DataSet Performance\n",
    "\n",
    "This notebook shows the trade-off between inserting data into a database row-by-row and as binary blobs. Inserting the data row-by-row means that we have direct access to all the data and may perform queries directly on the values of the data. On the other hand, as we shall see, this is much slower than inserting the data directly as binary blobs."
   ]
  },
  {
   "cell_type": "markdown",
   "metadata": {},
   "source": [
    "First, we choose a new location for the database to ensure that we don't add a bunch of benchmarking data to the default one."
   ]
  },
  {
   "cell_type": "code",
   "execution_count": 1,
   "metadata": {
    "execution": {
     "iopub.execute_input": "2020-12-17T08:18:03.666432Z",
     "iopub.status.busy": "2020-12-17T08:18:03.665327Z",
     "iopub.status.idle": "2020-12-17T08:18:04.828670Z",
     "shell.execute_reply": "2020-12-17T08:18:04.829191Z"
    }
   },
   "outputs": [
    {
     "name": "stdout",
     "output_type": "stream",
     "text": [
      "Logging hadn't been started.\n",
      "Activating auto-logging. Current session state plus future input saved.\n",
      "Filename       : /home/vsts/.qcodes/logs/command_history.log\n",
      "Mode           : append\n",
      "Output logging : True\n",
      "Raw input log  : False\n",
      "Timestamping   : True\n",
      "State          : active\n"
     ]
    },
    {
     "name": "stdout",
     "output_type": "stream",
     "text": [
      "Qcodes Logfile : /home/vsts/.qcodes/logs/201217-14451-qcodes.log\n"
     ]
    }
   ],
   "source": [
    "import os\n",
    "cwd = os.getcwd()\n",
    "import qcodes as qc\n",
    "qc.config[\"core\"][\"db_location\"] = os.path.join(cwd, 'testing.db')\n"
   ]
  },
  {
   "cell_type": "code",
   "execution_count": 2,
   "metadata": {
    "execution": {
     "iopub.execute_input": "2020-12-17T08:18:04.835945Z",
     "iopub.status.busy": "2020-12-17T08:18:04.835144Z",
     "iopub.status.idle": "2020-12-17T08:18:05.028470Z",
     "shell.execute_reply": "2020-12-17T08:18:05.027497Z"
    }
   },
   "outputs": [],
   "source": [
    "%matplotlib inline\n",
    "import time\n",
    "import matplotlib.pyplot as plt\n",
    "import numpy as np\n",
    "\n",
    "import qcodes as qc\n",
    "from qcodes.instrument.parameter import ManualParameter\n",
    "from qcodes.dataset.experiment_container import (Experiment,\n",
    "                                                 load_last_experiment,\n",
    "                                                 new_experiment)\n",
    "from qcodes.dataset.sqlite.database import initialise_database\n",
    "from qcodes import load_or_create_experiment\n",
    "from qcodes.dataset.measurements import Measurement"
   ]
  },
  {
   "cell_type": "code",
   "execution_count": 3,
   "metadata": {
    "execution": {
     "iopub.execute_input": "2020-12-17T08:18:05.032962Z",
     "iopub.status.busy": "2020-12-17T08:18:05.032052Z",
     "iopub.status.idle": "2020-12-17T08:18:05.173602Z",
     "shell.execute_reply": "2020-12-17T08:18:05.173015Z"
    }
   },
   "outputs": [
    {
     "name": "stdout",
     "output_type": "stream",
     "text": [
      "\r",
      "0it [00:00, ?it/s]"
     ]
    },
    {
     "name": "stdout",
     "output_type": "stream",
     "text": [
      "\r",
      "Upgrading database; v0 -> v1: : 0it [00:00, ?it/s]"
     ]
    },
    {
     "name": "stdout",
     "output_type": "stream",
     "text": [
      "\r",
      "Upgrading database; v0 -> v1: : 0it [00:00, ?it/s]"
     ]
    },
    {
     "name": "stdout",
     "output_type": "stream",
     "text": [
      "\n",
      "\r",
      "  0%|          | 0/1 [00:00<?, ?it/s]"
     ]
    },
    {
     "name": "stdout",
     "output_type": "stream",
     "text": [
      "\r",
      "Upgrading database; v1 -> v2:   0%|          | 0/1 [00:00<?, ?it/s]"
     ]
    },
    {
     "name": "stdout",
     "output_type": "stream",
     "text": [
      "\r",
      "Upgrading database; v1 -> v2: 100%|██████████| 1/1 [00:00<00:00, 523.11it/s]"
     ]
    },
    {
     "name": "stdout",
     "output_type": "stream",
     "text": [
      "\n",
      "\r",
      "0it [00:00, ?it/s]"
     ]
    },
    {
     "name": "stdout",
     "output_type": "stream",
     "text": [
      "\r",
      "Upgrading database; v2 -> v3: : 0it [00:00, ?it/s]"
     ]
    },
    {
     "name": "stdout",
     "output_type": "stream",
     "text": [
      "\r",
      "Upgrading database; v2 -> v3: : 0it [00:00, ?it/s]"
     ]
    },
    {
     "name": "stdout",
     "output_type": "stream",
     "text": [
      "\n",
      "\r",
      "0it [00:00, ?it/s]"
     ]
    },
    {
     "name": "stdout",
     "output_type": "stream",
     "text": [
      "\r",
      "Upgrading database; v3 -> v4: : 0it [00:00, ?it/s]"
     ]
    },
    {
     "name": "stdout",
     "output_type": "stream",
     "text": [
      "\r",
      "Upgrading database; v3 -> v4: : 0it [00:00, ?it/s]"
     ]
    },
    {
     "name": "stdout",
     "output_type": "stream",
     "text": [
      "\n",
      "\r",
      "  0%|          | 0/1 [00:00<?, ?it/s]"
     ]
    },
    {
     "name": "stdout",
     "output_type": "stream",
     "text": [
      "\r",
      "Upgrading database; v4 -> v5:   0%|          | 0/1 [00:00<?, ?it/s]"
     ]
    },
    {
     "name": "stdout",
     "output_type": "stream",
     "text": [
      "\r",
      "Upgrading database; v4 -> v5: 100%|██████████| 1/1 [00:00<00:00, 414.58it/s]"
     ]
    },
    {
     "name": "stdout",
     "output_type": "stream",
     "text": [
      "\n",
      "\r",
      "0it [00:00, ?it/s]"
     ]
    },
    {
     "name": "stdout",
     "output_type": "stream",
     "text": [
      "\r",
      "Upgrading database; v5 -> v6: : 0it [00:00, ?it/s]"
     ]
    },
    {
     "name": "stdout",
     "output_type": "stream",
     "text": [
      "\r",
      "Upgrading database; v5 -> v6: : 0it [00:00, ?it/s]"
     ]
    },
    {
     "name": "stdout",
     "output_type": "stream",
     "text": [
      "\n",
      "\r",
      "  0%|          | 0/1 [00:00<?, ?it/s]"
     ]
    },
    {
     "name": "stdout",
     "output_type": "stream",
     "text": [
      "\r",
      "Upgrading database; v6 -> v7:   0%|          | 0/1 [00:00<?, ?it/s]"
     ]
    },
    {
     "name": "stdout",
     "output_type": "stream",
     "text": [
      "\r",
      "Upgrading database; v6 -> v7: 100%|██████████| 1/1 [00:00<00:00, 82.88it/s]"
     ]
    },
    {
     "name": "stdout",
     "output_type": "stream",
     "text": [
      "\n",
      "\r",
      "  0%|          | 0/1 [00:00<?, ?it/s]"
     ]
    },
    {
     "name": "stdout",
     "output_type": "stream",
     "text": [
      "\r",
      "Upgrading database; v7 -> v8:   0%|          | 0/1 [00:00<?, ?it/s]"
     ]
    },
    {
     "name": "stdout",
     "output_type": "stream",
     "text": [
      "\r",
      "Upgrading database; v7 -> v8: 100%|██████████| 1/1 [00:00<00:00, 604.19it/s]"
     ]
    },
    {
     "name": "stdout",
     "output_type": "stream",
     "text": [
      "\n",
      "\r",
      "  0%|          | 0/1 [00:00<?, ?it/s]"
     ]
    },
    {
     "name": "stdout",
     "output_type": "stream",
     "text": [
      "\r",
      "Upgrading database; v8 -> v9:   0%|          | 0/1 [00:00<?, ?it/s]"
     ]
    },
    {
     "name": "stdout",
     "output_type": "stream",
     "text": [
      "\r",
      "Upgrading database; v8 -> v9: 100%|██████████| 1/1 [00:00<00:00, 444.55it/s]"
     ]
    },
    {
     "name": "stdout",
     "output_type": "stream",
     "text": [
      "\n"
     ]
    }
   ],
   "source": [
    "initialise_database()\n",
    "exp = load_or_create_experiment(experiment_name='tutorial_exp', sample_name=\"no sample\")"
   ]
  },
  {
   "cell_type": "markdown",
   "metadata": {},
   "source": [
    "Here, we define a simple function to benchmark the time it takes to insert n points with either numeric or array data type.\n",
    "We will compare both the time used to call ``add_result`` and the time used for the full measurement."
   ]
  },
  {
   "cell_type": "code",
   "execution_count": 4,
   "metadata": {
    "execution": {
     "iopub.execute_input": "2020-12-17T08:18:05.182193Z",
     "iopub.status.busy": "2020-12-17T08:18:05.181636Z",
     "iopub.status.idle": "2020-12-17T08:18:05.185464Z",
     "shell.execute_reply": "2020-12-17T08:18:05.184879Z"
    }
   },
   "outputs": [],
   "source": [
    "def insert_data(paramtype, npoints, nreps=1):\n",
    "\n",
    "    meas = Measurement(exp=exp)\n",
    "\n",
    "    x1 = ManualParameter('x1')\n",
    "    x2 = ManualParameter('x2')\n",
    "    x3 = ManualParameter('x3')\n",
    "    y1 = ManualParameter('y1')\n",
    "    y2 = ManualParameter('y2')\n",
    "\n",
    "    meas.register_parameter(x1, paramtype=paramtype)\n",
    "    meas.register_parameter(x2, paramtype=paramtype)\n",
    "    meas.register_parameter(x3, paramtype=paramtype)\n",
    "    meas.register_parameter(y1, setpoints=[x1, x2, x3],\n",
    "                            paramtype=paramtype)\n",
    "    meas.register_parameter(y2, setpoints=[x1, x2, x3],\n",
    "                            paramtype=paramtype)\n",
    "    start = time.perf_counter()\n",
    "    with meas.run() as datasaver:\n",
    "        start_adding = time.perf_counter()\n",
    "        for i in range(nreps):\n",
    "            datasaver.add_result((x1, np.random.rand(npoints)),\n",
    "                                 (x2, np.random.rand(npoints)),\n",
    "                                 (x3, np.random.rand(npoints)),\n",
    "                                 (y1, np.random.rand(npoints)),\n",
    "                                 (y2, np.random.rand(npoints)))\n",
    "        stop_adding = time.perf_counter()\n",
    "        run_id = datasaver.run_id\n",
    "    stop = time.perf_counter()\n",
    "    tot_time = stop - start\n",
    "    add_time = stop_adding - start_adding\n",
    "    return tot_time, add_time, run_id"
   ]
  },
  {
   "cell_type": "markdown",
   "metadata": {},
   "source": [
    "## Comparison between numeric/array data and binary blob"
   ]
  },
  {
   "cell_type": "markdown",
   "metadata": {},
   "source": [
    "### Case1: Short experiment time"
   ]
  },
  {
   "cell_type": "code",
   "execution_count": 5,
   "metadata": {
    "execution": {
     "iopub.execute_input": "2020-12-17T08:18:05.191783Z",
     "iopub.status.busy": "2020-12-17T08:18:05.190452Z",
     "iopub.status.idle": "2020-12-17T08:18:06.081609Z",
     "shell.execute_reply": "2020-12-17T08:18:06.080505Z"
    }
   },
   "outputs": [
    {
     "name": "stdout",
     "output_type": "stream",
     "text": [
      "Starting experimental run with id: 1. \n",
      "Starting experimental run with id: 2. \n",
      "Starting experimental run with id: 3. \n",
      "Starting experimental run with id: 4. \n",
      "Starting experimental run with id: 5. \n"
     ]
    },
    {
     "name": "stdout",
     "output_type": "stream",
     "text": [
      "Starting experimental run with id: 6. \n"
     ]
    },
    {
     "name": "stdout",
     "output_type": "stream",
     "text": [
      "Starting experimental run with id: 7. \n"
     ]
    },
    {
     "name": "stdout",
     "output_type": "stream",
     "text": [
      "Starting experimental run with id: 8. \n",
      "Starting experimental run with id: 9. \n"
     ]
    },
    {
     "name": "stdout",
     "output_type": "stream",
     "text": [
      "Starting experimental run with id: 10. \n",
      "Starting experimental run with id: 11. \n"
     ]
    },
    {
     "name": "stdout",
     "output_type": "stream",
     "text": [
      "Starting experimental run with id: 12. \n"
     ]
    },
    {
     "name": "stdout",
     "output_type": "stream",
     "text": [
      "Starting experimental run with id: 13. \n"
     ]
    },
    {
     "name": "stdout",
     "output_type": "stream",
     "text": [
      "Starting experimental run with id: 14. \n"
     ]
    }
   ],
   "source": [
    "sizes = [1,500,1000,2000,3000,4000,5000]\n",
    "t_numeric = []\n",
    "t_numeric_add = []\n",
    "t_array = []\n",
    "t_array_add = []\n",
    "for size in sizes:\n",
    "    tn, tna, run_id_n =  insert_data('numeric', size)\n",
    "    t_numeric.append(tn)\n",
    "    t_numeric_add.append(tna)\n",
    "\n",
    "    ta, taa, run_id_a =  insert_data('array', size)\n",
    "    t_array.append(ta)\n",
    "    t_array_add.append(taa)"
   ]
  },
  {
   "cell_type": "code",
   "execution_count": 6,
   "metadata": {
    "execution": {
     "iopub.execute_input": "2020-12-17T08:18:06.112438Z",
     "iopub.status.busy": "2020-12-17T08:18:06.098844Z",
     "iopub.status.idle": "2020-12-17T08:18:06.292307Z",
     "shell.execute_reply": "2020-12-17T08:18:06.291805Z"
    }
   },
   "outputs": [
    {
     "data": {
      "image/png": "[encoded data removed]",
      "text/plain": [
       "<Figure size 432x288 with 1 Axes>"
      ]
     },
     "metadata": {
      "needs_background": "light"
     },
     "output_type": "display_data"
    }
   ],
   "source": [
    "fig, ax = plt.subplots(1,1)\n",
    "ax.plot(sizes, t_numeric, 'o-', label='Inserting row-by-row')\n",
    "ax.plot(sizes, t_numeric_add, 'o-', label='Inserting row-by-row: add_result only')\n",
    "ax.plot(sizes, t_array, 'd-', label='Inserting as binary blob')\n",
    "ax.plot(sizes, t_array_add, 'd-', label='Inserting as binary blob: add_result only')\n",
    "ax.legend()\n",
    "ax.set_xlabel('Array length')\n",
    "ax.set_ylabel('Time (s)')\n",
    "fig.tight_layout()"
   ]
  },
  {
   "cell_type": "markdown",
   "metadata": {},
   "source": [
    "As shown in the latter figure, the time to setup and and close the experiment is approximately 0.4 sec. In case of small array sizes, the difference between inserting values of data as arrays and inserting them row-by-row is relatively unimportant. At larger array sizes, i.e. above 10000 points, the cost of writing data as individual datapoints starts to become important.\n"
   ]
  },
  {
   "cell_type": "markdown",
   "metadata": {},
   "source": [
    "### Case2: Long experiment time "
   ]
  },
  {
   "cell_type": "code",
   "execution_count": 7,
   "metadata": {
    "execution": {
     "iopub.execute_input": "2020-12-17T08:18:06.299402Z",
     "iopub.status.busy": "2020-12-17T08:18:06.298118Z",
     "iopub.status.idle": "2020-12-17T08:19:07.972687Z",
     "shell.execute_reply": "2020-12-17T08:19:07.972079Z"
    }
   },
   "outputs": [
    {
     "name": "stdout",
     "output_type": "stream",
     "text": [
      "Starting experimental run with id: 15. \n",
      "Starting experimental run with id: 16. \n",
      "Starting experimental run with id: 17. \n"
     ]
    },
    {
     "name": "stdout",
     "output_type": "stream",
     "text": [
      "Starting experimental run with id: 18. \n",
      "Starting experimental run with id: 19. \n"
     ]
    },
    {
     "name": "stdout",
     "output_type": "stream",
     "text": [
      "Starting experimental run with id: 20. \n"
     ]
    },
    {
     "name": "stdout",
     "output_type": "stream",
     "text": [
      "Starting experimental run with id: 21. \n"
     ]
    },
    {
     "name": "stdout",
     "output_type": "stream",
     "text": [
      "Starting experimental run with id: 22. \n"
     ]
    },
    {
     "name": "stdout",
     "output_type": "stream",
     "text": [
      "Starting experimental run with id: 23. \n"
     ]
    },
    {
     "name": "stdout",
     "output_type": "stream",
     "text": [
      "Starting experimental run with id: 24. \n"
     ]
    },
    {
     "name": "stdout",
     "output_type": "stream",
     "text": [
      "Starting experimental run with id: 25. \n"
     ]
    },
    {
     "name": "stdout",
     "output_type": "stream",
     "text": [
      "Starting experimental run with id: 26. \n"
     ]
    },
    {
     "name": "stdout",
     "output_type": "stream",
     "text": [
      "Starting experimental run with id: 27. \n"
     ]
    },
    {
     "name": "stdout",
     "output_type": "stream",
     "text": [
      "Starting experimental run with id: 28. \n"
     ]
    }
   ],
   "source": [
    "sizes = [1,500,1000,2000,3000,4000,5000]\n",
    "nreps = 100\n",
    "t_numeric = []\n",
    "t_numeric_add = []\n",
    "t_numeric_run_ids = []\n",
    "t_array = []\n",
    "t_array_add = []\n",
    "t_array_run_ids = []\n",
    "for size in sizes:\n",
    "    tn, tna, run_id_n =  insert_data('numeric', size, nreps=nreps)\n",
    "    t_numeric.append(tn)\n",
    "    t_numeric_add.append(tna)\n",
    "    t_numeric_run_ids.append(run_id_n)\n",
    "\n",
    "    ta, taa, run_id_a =  insert_data('array', size, nreps=nreps)\n",
    "    t_array.append(ta)\n",
    "    t_array_add.append(taa)\n",
    "    t_array_run_ids.append(run_id_a)"
   ]
  },
  {
   "cell_type": "code",
   "execution_count": 8,
   "metadata": {
    "execution": {
     "iopub.execute_input": "2020-12-17T08:19:08.016277Z",
     "iopub.status.busy": "2020-12-17T08:19:07.989548Z",
     "iopub.status.idle": "2020-12-17T08:19:08.192914Z",
     "shell.execute_reply": "2020-12-17T08:19:08.192435Z"
    },
    "scrolled": true
   },
   "outputs": [
    {
     "data": {
      "image/png": "[encoded data removed]",
      "text/plain": [
       "<Figure size 432x288 with 1 Axes>"
      ]
     },
     "metadata": {
      "needs_background": "light"
     },
     "output_type": "display_data"
    }
   ],
   "source": [
    "fig, ax = plt.subplots(1,1)\n",
    "ax.plot(sizes, t_numeric, 'o-', label='Inserting row-by-row')\n",
    "ax.plot(sizes, t_numeric_add, 'o-', label='Inserting row-by-row: add_result only')\n",
    "ax.plot(sizes, t_array, 'd-', label='Inserting as binary blob')\n",
    "ax.plot(sizes, t_array_add, 'd-', label='Inserting as binary blob: add_result only')\n",
    "ax.legend()\n",
    "ax.set_xlabel('Array length')\n",
    "ax.set_ylabel('Time (s)')\n",
    "fig.tight_layout()"
   ]
  },
  {
   "cell_type": "markdown",
   "metadata": {},
   "source": [
    "However, as we increase the length of the experiment, as seen here by repeating the insertion 100 times, we see a big difference between inserting values of the data row-by-row and inserting it as a binary blob."
   ]
  },
  {
   "cell_type": "markdown",
   "metadata": {},
   "source": [
    "## Loading the data "
   ]
  },
  {
   "cell_type": "code",
   "execution_count": 9,
   "metadata": {
    "execution": {
     "iopub.execute_input": "2020-12-17T08:19:08.197244Z",
     "iopub.status.busy": "2020-12-17T08:19:08.196314Z",
     "iopub.status.idle": "2020-12-17T08:19:08.199391Z",
     "shell.execute_reply": "2020-12-17T08:19:08.198891Z"
    }
   },
   "outputs": [],
   "source": [
    "from qcodes.dataset.data_set import load_by_id\n",
    "from qcodes.dataset.data_export import get_data_by_id"
   ]
  },
  {
   "cell_type": "markdown",
   "metadata": {},
   "source": [
    "As usual you can load the data by using the ``load_by_id`` function but you will notice that the different storage methods\n",
    "are reflected in shape of the data as it is retrieved. "
   ]
  },
  {
   "cell_type": "code",
   "execution_count": 10,
   "metadata": {
    "execution": {
     "iopub.execute_input": "2020-12-17T08:19:08.203833Z",
     "iopub.status.busy": "2020-12-17T08:19:08.202719Z",
     "iopub.status.idle": "2020-12-17T08:19:08.204378Z",
     "shell.execute_reply": "2020-12-17T08:19:08.204910Z"
    }
   },
   "outputs": [],
   "source": [
    "run_id_n = t_numeric_run_ids[0]\n",
    "run_id_a = t_array_run_ids[0]"
   ]
  },
  {
   "cell_type": "code",
   "execution_count": 11,
   "metadata": {
    "execution": {
     "iopub.execute_input": "2020-12-17T08:19:08.208393Z",
     "iopub.status.busy": "2020-12-17T08:19:08.207857Z",
     "iopub.status.idle": "2020-12-17T08:19:08.217941Z",
     "shell.execute_reply": "2020-12-17T08:19:08.217470Z"
    },
    "scrolled": true
   },
   "outputs": [
    {
     "data": {
      "text/plain": [
       "{'x1': {'x1': array([0.34901495, 0.34901495, 0.23104048, 0.23104048, 0.74976422,\n",
       "         0.74976422, 0.70501484, 0.70501484, 0.97818492, 0.97818492,\n",
       "         0.37609236, 0.37609236, 0.41930254, 0.41930254, 0.53604747,\n",
       "         0.53604747, 0.42086502, 0.42086502, 0.21938928, 0.21938928,\n",
       "         0.06079632, 0.06079632, 0.48598744, 0.48598744, 0.08942933,\n",
       "         0.08942933, 0.92941148, 0.92941148, 0.70441864, 0.70441864,\n",
       "         0.36033653, 0.36033653, 0.0639124 , 0.0639124 , 0.39700871,\n",
       "         0.39700871, 0.20013716, 0.20013716, 0.16475967, 0.16475967,\n",
       "         0.62039298, 0.62039298, 0.33159095, 0.33159095, 0.0749782 ,\n",
       "         0.0749782 , 0.18090655, 0.18090655, 0.38713991, 0.38713991,\n",
       "         0.02343761, 0.02343761, 0.83075888, 0.83075888, 0.4856735 ,\n",
       "         0.4856735 , 0.49572871, 0.49572871, 0.47038864, 0.47038864,\n",
       "         0.02529665, 0.02529665, 0.74485185, 0.74485185, 0.84017631,\n",
       "         0.84017631, 0.94519978, 0.94519978, 0.48706689, 0.48706689,\n",
       "         0.44384457, 0.44384457, 0.77537893, 0.77537893, 0.41449619,\n",
       "         0.41449619, 0.7033654 , 0.7033654 , 0.06913255, 0.06913255,\n",
       "         0.09040272, 0.09040272, 0.59340299, 0.59340299, 0.2316316 ,\n",
       "         0.2316316 , 0.50014339, 0.50014339, 0.40204119, 0.40204119,\n",
       "         0.65938926, 0.65938926, 0.2719214 , 0.2719214 , 0.16035542,\n",
       "         0.16035542, 0.43821003, 0.43821003, 0.95604069, 0.95604069,\n",
       "         0.59504692, 0.59504692, 0.3165922 , 0.3165922 , 0.55210261,\n",
       "         0.55210261, 0.29916035, 0.29916035, 0.01931324, 0.01931324,\n",
       "         0.4595602 , 0.4595602 , 0.11878552, 0.11878552, 0.03033552,\n",
       "         0.03033552, 0.983215  , 0.983215  , 0.54796515, 0.54796515,\n",
       "         0.90526629, 0.90526629, 0.71311341, 0.71311341, 0.24908249,\n",
       "         0.24908249, 0.95294752, 0.95294752, 0.2150663 , 0.2150663 ,\n",
       "         0.31387298, 0.31387298, 0.26897832, 0.26897832, 0.0072497 ,\n",
       "         0.0072497 , 0.83899267, 0.83899267, 0.12702341, 0.12702341,\n",
       "         0.89455339, 0.89455339, 0.32365715, 0.32365715, 0.12774263,\n",
       "         0.12774263, 0.2630291 , 0.2630291 , 0.03103204, 0.03103204,\n",
       "         0.52704269, 0.52704269, 0.21002053, 0.21002053, 0.48320474,\n",
       "         0.48320474, 0.43598102, 0.43598102, 0.5615385 , 0.5615385 ,\n",
       "         0.18734024, 0.18734024, 0.31084034, 0.31084034, 0.64319309,\n",
       "         0.64319309, 0.35491245, 0.35491245, 0.02502113, 0.02502113,\n",
       "         0.9439696 , 0.9439696 , 0.88835459, 0.88835459, 0.10754551,\n",
       "         0.10754551, 0.96138655, 0.96138655, 0.6133802 , 0.6133802 ,\n",
       "         0.27905226, 0.27905226, 0.90219506, 0.90219506, 0.87731472,\n",
       "         0.87731472, 0.01314359, 0.01314359, 0.17422013, 0.17422013,\n",
       "         0.82914347, 0.82914347, 0.1645604 , 0.1645604 , 0.3843946 ,\n",
       "         0.3843946 , 0.64579693, 0.64579693, 0.43043131, 0.43043131])}}"
      ]
     },
     "execution_count": 1,
     "metadata": {},
     "output_type": "execute_result"
    }
   ],
   "source": [
    "ds = load_by_id(run_id_n)\n",
    "ds.get_parameter_data('x1')"
   ]
  },
  {
   "cell_type": "markdown",
   "metadata": {},
   "source": [
    "And a dataset stored as binary arrays"
   ]
  },
  {
   "cell_type": "code",
   "execution_count": 12,
   "metadata": {
    "execution": {
     "iopub.execute_input": "2020-12-17T08:19:08.221327Z",
     "iopub.status.busy": "2020-12-17T08:19:08.220786Z",
     "iopub.status.idle": "2020-12-17T08:19:08.283136Z",
     "shell.execute_reply": "2020-12-17T08:19:08.282609Z"
    },
    "scrolled": true
   },
   "outputs": [
    {
     "data": {
      "text/plain": [
       "{'x1': {'x1': array([[0.13180556],\n",
       "         [0.13180556],\n",
       "         [0.46833851],\n",
       "         [0.46833851],\n",
       "         [0.90455665],\n",
       "         [0.90455665],\n",
       "         [0.69391071],\n",
       "         [0.69391071],\n",
       "         [0.27421147],\n",
       "         [0.27421147],\n",
       "         [0.2501536 ],\n",
       "         [0.2501536 ],\n",
       "         [0.80252394],\n",
       "         [0.80252394],\n",
       "         [0.22062917],\n",
       "         [0.22062917],\n",
       "         [0.87402484],\n",
       "         [0.87402484],\n",
       "         [0.3775588 ],\n",
       "         [0.3775588 ],\n",
       "         [0.61341931],\n",
       "         [0.61341931],\n",
       "         [0.23208167],\n",
       "         [0.23208167],\n",
       "         [0.57915489],\n",
       "         [0.57915489],\n",
       "         [0.82713335],\n",
       "         [0.82713335],\n",
       "         [0.33412487],\n",
       "         [0.33412487],\n",
       "         [0.84157627],\n",
       "         [0.84157627],\n",
       "         [0.72790622],\n",
       "         [0.72790622],\n",
       "         [0.36722984],\n",
       "         [0.36722984],\n",
       "         [0.49763119],\n",
       "         [0.49763119],\n",
       "         [0.32534298],\n",
       "         [0.32534298],\n",
       "         [0.12779563],\n",
       "         [0.12779563],\n",
       "         [0.93522263],\n",
       "         [0.93522263],\n",
       "         [0.58256581],\n",
       "         [0.58256581],\n",
       "         [0.32757673],\n",
       "         [0.32757673],\n",
       "         [0.9765004 ],\n",
       "         [0.9765004 ],\n",
       "         [0.37944664],\n",
       "         [0.37944664],\n",
       "         [0.82694848],\n",
       "         [0.82694848],\n",
       "         [0.49037929],\n",
       "         [0.49037929],\n",
       "         [0.27727171],\n",
       "         [0.27727171],\n",
       "         [0.24818488],\n",
       "         [0.24818488],\n",
       "         [0.13213038],\n",
       "         [0.13213038],\n",
       "         [0.41009448],\n",
       "         [0.41009448],\n",
       "         [0.14845827],\n",
       "         [0.14845827],\n",
       "         [0.23921713],\n",
       "         [0.23921713],\n",
       "         [0.39830197],\n",
       "         [0.39830197],\n",
       "         [0.19718969],\n",
       "         [0.19718969],\n",
       "         [0.2035733 ],\n",
       "         [0.2035733 ],\n",
       "         [0.04833207],\n",
       "         [0.04833207],\n",
       "         [0.7881861 ],\n",
       "         [0.7881861 ],\n",
       "         [0.76801758],\n",
       "         [0.76801758],\n",
       "         [0.91030708],\n",
       "         [0.91030708],\n",
       "         [0.74103528],\n",
       "         [0.74103528],\n",
       "         [0.61435317],\n",
       "         [0.61435317],\n",
       "         [0.72313461],\n",
       "         [0.72313461],\n",
       "         [0.60594578],\n",
       "         [0.60594578],\n",
       "         [0.31081221],\n",
       "         [0.31081221],\n",
       "         [0.41054598],\n",
       "         [0.41054598],\n",
       "         [0.81308385],\n",
       "         [0.81308385],\n",
       "         [0.61954268],\n",
       "         [0.61954268],\n",
       "         [0.74568108],\n",
       "         [0.74568108],\n",
       "         [0.30571771],\n",
       "         [0.30571771],\n",
       "         [0.58433133],\n",
       "         [0.58433133],\n",
       "         [0.50239313],\n",
       "         [0.50239313],\n",
       "         [0.53974113],\n",
       "         [0.53974113],\n",
       "         [0.77842612],\n",
       "         [0.77842612],\n",
       "         [0.47809639],\n",
       "         [0.47809639],\n",
       "         [0.65652372],\n",
       "         [0.65652372],\n",
       "         [0.25490243],\n",
       "         [0.25490243],\n",
       "         [0.33144019],\n",
       "         [0.33144019],\n",
       "         [0.96615997],\n",
       "         [0.96615997],\n",
       "         [0.75790259],\n",
       "         [0.75790259],\n",
       "         [0.14936833],\n",
       "         [0.14936833],\n",
       "         [0.89555547],\n",
       "         [0.89555547],\n",
       "         [0.6813344 ],\n",
       "         [0.6813344 ],\n",
       "         [0.10148149],\n",
       "         [0.10148149],\n",
       "         [0.00486782],\n",
       "         [0.00486782],\n",
       "         [0.68903669],\n",
       "         [0.68903669],\n",
       "         [0.38663549],\n",
       "         [0.38663549],\n",
       "         [0.45907923],\n",
       "         [0.45907923],\n",
       "         [0.75987825],\n",
       "         [0.75987825],\n",
       "         [0.59000653],\n",
       "         [0.59000653],\n",
       "         [0.25578676],\n",
       "         [0.25578676],\n",
       "         [0.13216212],\n",
       "         [0.13216212],\n",
       "         [0.44503697],\n",
       "         [0.44503697],\n",
       "         [0.75867783],\n",
       "         [0.75867783],\n",
       "         [0.03775716],\n",
       "         [0.03775716],\n",
       "         [0.23736199],\n",
       "         [0.23736199],\n",
       "         [0.76839102],\n",
       "         [0.76839102],\n",
       "         [0.90406198],\n",
       "         [0.90406198],\n",
       "         [0.58046237],\n",
       "         [0.58046237],\n",
       "         [0.67722535],\n",
       "         [0.67722535],\n",
       "         [0.81128108],\n",
       "         [0.81128108],\n",
       "         [0.01199127],\n",
       "         [0.01199127],\n",
       "         [0.55396516],\n",
       "         [0.55396516],\n",
       "         [0.04869354],\n",
       "         [0.04869354],\n",
       "         [0.62087593],\n",
       "         [0.62087593],\n",
       "         [0.27099041],\n",
       "         [0.27099041],\n",
       "         [0.8110318 ],\n",
       "         [0.8110318 ],\n",
       "         [0.32600723],\n",
       "         [0.32600723],\n",
       "         [0.44203752],\n",
       "         [0.44203752],\n",
       "         [0.02468084],\n",
       "         [0.02468084],\n",
       "         [0.3725883 ],\n",
       "         [0.3725883 ],\n",
       "         [0.95235161],\n",
       "         [0.95235161],\n",
       "         [0.57106639],\n",
       "         [0.57106639],\n",
       "         [0.31913703],\n",
       "         [0.31913703],\n",
       "         [0.65370064],\n",
       "         [0.65370064],\n",
       "         [0.26319175],\n",
       "         [0.26319175],\n",
       "         [0.48428076],\n",
       "         [0.48428076],\n",
       "         [0.70901069],\n",
       "         [0.70901069],\n",
       "         [0.46819192],\n",
       "         [0.46819192]])}}"
      ]
     },
     "execution_count": 1,
     "metadata": {},
     "output_type": "execute_result"
    }
   ],
   "source": [
    "ds = load_by_id(run_id_a)\n",
    "ds.get_parameter_data('x1')"
   ]
  },
  {
   "cell_type": "code",
   "execution_count": null,
   "metadata": {},
   "outputs": [],
   "source": []
  }
 ],
 "metadata": {
  "kernelspec": {
   "display_name": "Python 3",
   "language": "python",
   "name": "python3"
  },
  "language_info": {
   "codemirror_mode": {
    "name": "ipython",
    "version": 3
   },
   "file_extension": ".py",
   "mimetype": "text/x-python",
   "name": "python",
   "nbconvert_exporter": "python",
   "pygments_lexer": "ipython3",
   "version": "3.7.9"
  },
  "nbsphinx": {
   "timeout": 600
  },
  "toc": {
   "base_numbering": 1,
   "nav_menu": {},
   "number_sections": true,
   "sideBar": true,
   "skip_h1_title": false,
   "title_cell": "Table of Contents",
   "title_sidebar": "Contents",
   "toc_cell": false,
   "toc_position": {},
   "toc_section_display": true,
   "toc_window_display": false
  },
  "varInspector": {
   "cols": {
    "lenName": 16,
    "lenType": 16,
    "lenVar": 40
   },
   "kernels_config": {
    "python": {
     "delete_cmd_postfix": "",
     "delete_cmd_prefix": "del ",
     "library": "var_list.py",
     "varRefreshCmd": "print(var_dic_list())"
    },
    "r": {
     "delete_cmd_postfix": ") ",
     "delete_cmd_prefix": "rm(",
     "library": "var_list.r",
     "varRefreshCmd": "cat(var_dic_list()) "
    }
   },
   "types_to_exclude": [
    "module",
    "function",
    "builtin_function_or_method",
    "instance",
    "_Feature"
   ],
   "window_display": false
  }
 },
 "nbformat": 4,
 "nbformat_minor": 2
}
