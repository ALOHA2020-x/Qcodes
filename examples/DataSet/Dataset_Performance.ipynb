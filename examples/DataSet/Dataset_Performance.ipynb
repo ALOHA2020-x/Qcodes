{
 "cells": [
  {
   "cell_type": "markdown",
   "metadata": {},
   "source": [
    "# DataSet Performance\n",
    "\n",
    "This notebook shows the trade-off between inserting data into a database row-by-row and as binary blobs. Inserting the data row-by-row means that we have direct access to all the data and may perform queries directly on the values of the data. On the other hand, as we shall see, this is much slower than inserting the data directly as binary blobs."
   ]
  },
  {
   "cell_type": "markdown",
   "metadata": {},
   "source": [
    "First, we choose a new location for the database to ensure that we don't add a bunch of benchmarking data to the default one."
   ]
  },
  {
   "cell_type": "code",
   "execution_count": 1,
   "metadata": {
    "execution": {
     "iopub.execute_input": "2020-09-24T13:51:57.282019Z",
     "iopub.status.busy": "2020-09-24T13:51:57.281485Z",
     "iopub.status.idle": "2020-09-24T13:51:58.313529Z",
     "shell.execute_reply": "2020-09-24T13:51:58.313007Z"
    }
   },
   "outputs": [
    {
     "name": "stdout",
     "output_type": "stream",
     "text": [
      "Logging hadn't been started.\n",
      "Activating auto-logging. Current session state plus future input saved.\n",
      "Filename       : /home/vsts/.qcodes/logs/command_history.log\n",
      "Mode           : append\n",
      "Output logging : True\n",
      "Raw input log  : False\n",
      "Timestamping   : True\n",
      "State          : active\n"
     ]
    },
    {
     "name": "stdout",
     "output_type": "stream",
     "text": [
      "Qcodes Logfile : /home/vsts/.qcodes/logs/200924-19182-qcodes.log\n"
     ]
    }
   ],
   "source": [
    "import os\n",
    "cwd = os.getcwd()\n",
    "import qcodes as qc\n",
    "qc.config[\"core\"][\"db_location\"] = os.path.join(cwd, 'testing.db')\n"
   ]
  },
  {
   "cell_type": "code",
   "execution_count": 2,
   "metadata": {
    "execution": {
     "iopub.execute_input": "2020-09-24T13:51:58.320075Z",
     "iopub.status.busy": "2020-09-24T13:51:58.319140Z",
     "iopub.status.idle": "2020-09-24T13:51:58.514781Z",
     "shell.execute_reply": "2020-09-24T13:51:58.513859Z"
    }
   },
   "outputs": [],
   "source": [
    "%matplotlib inline\n",
    "import time\n",
    "import matplotlib.pyplot as plt\n",
    "import numpy as np\n",
    "\n",
    "import qcodes as qc\n",
    "from qcodes.instrument.parameter import ManualParameter\n",
    "from qcodes.dataset.experiment_container import (Experiment,\n",
    "                                                 load_last_experiment,\n",
    "                                                 new_experiment)\n",
    "from qcodes.dataset.sqlite.database import initialise_database\n",
    "from qcodes import load_or_create_experiment\n",
    "from qcodes.dataset.measurements import Measurement"
   ]
  },
  {
   "cell_type": "code",
   "execution_count": 3,
   "metadata": {
    "execution": {
     "iopub.execute_input": "2020-09-24T13:51:58.518309Z",
     "iopub.status.busy": "2020-09-24T13:51:58.517371Z",
     "iopub.status.idle": "2020-09-24T13:51:58.639602Z",
     "shell.execute_reply": "2020-09-24T13:51:58.640138Z"
    }
   },
   "outputs": [
    {
     "name": "stdout",
     "output_type": "stream",
     "text": [
      "\r",
      "0it [00:00, ?it/s]"
     ]
    },
    {
     "name": "stdout",
     "output_type": "stream",
     "text": [
      "\r",
      "Upgrading database; v0 -> v1: : 0it [00:00, ?it/s]"
     ]
    },
    {
     "name": "stdout",
     "output_type": "stream",
     "text": [
      "\r",
      "Upgrading database; v0 -> v1: : 0it [00:00, ?it/s]"
     ]
    },
    {
     "name": "stdout",
     "output_type": "stream",
     "text": [
      "\n",
      "\r",
      "  0%|          | 0/1 [00:00<?, ?it/s]"
     ]
    },
    {
     "name": "stdout",
     "output_type": "stream",
     "text": [
      "\r",
      "Upgrading database; v1 -> v2:   0%|          | 0/1 [00:00<?, ?it/s]"
     ]
    },
    {
     "name": "stdout",
     "output_type": "stream",
     "text": [
      "\r",
      "Upgrading database; v1 -> v2: 100%|██████████| 1/1 [00:00<00:00, 522.07it/s]"
     ]
    },
    {
     "name": "stdout",
     "output_type": "stream",
     "text": [
      "\n",
      "\r",
      "0it [00:00, ?it/s]"
     ]
    },
    {
     "name": "stdout",
     "output_type": "stream",
     "text": [
      "\r",
      "Upgrading database; v2 -> v3: : 0it [00:00, ?it/s]"
     ]
    },
    {
     "name": "stdout",
     "output_type": "stream",
     "text": [
      "\r",
      "Upgrading database; v2 -> v3: : 0it [00:00, ?it/s]"
     ]
    },
    {
     "name": "stdout",
     "output_type": "stream",
     "text": [
      "\n",
      "\r",
      "0it [00:00, ?it/s]"
     ]
    },
    {
     "name": "stdout",
     "output_type": "stream",
     "text": [
      "\r",
      "Upgrading database; v3 -> v4: : 0it [00:00, ?it/s]"
     ]
    },
    {
     "name": "stdout",
     "output_type": "stream",
     "text": [
      "\r",
      "Upgrading database; v3 -> v4: : 0it [00:00, ?it/s]"
     ]
    },
    {
     "name": "stdout",
     "output_type": "stream",
     "text": [
      "\n",
      "\r",
      "  0%|          | 0/1 [00:00<?, ?it/s]"
     ]
    },
    {
     "name": "stdout",
     "output_type": "stream",
     "text": [
      "\r",
      "Upgrading database; v4 -> v5:   0%|          | 0/1 [00:00<?, ?it/s]"
     ]
    },
    {
     "name": "stdout",
     "output_type": "stream",
     "text": [
      "\r",
      "Upgrading database; v4 -> v5: 100%|██████████| 1/1 [00:00<00:00, 477.60it/s]"
     ]
    },
    {
     "name": "stdout",
     "output_type": "stream",
     "text": [
      "\n",
      "\r",
      "0it [00:00, ?it/s]"
     ]
    },
    {
     "name": "stdout",
     "output_type": "stream",
     "text": [
      "\r",
      "Upgrading database; v5 -> v6: : 0it [00:00, ?it/s]"
     ]
    },
    {
     "name": "stdout",
     "output_type": "stream",
     "text": [
      "\r",
      "Upgrading database; v5 -> v6: : 0it [00:00, ?it/s]"
     ]
    },
    {
     "name": "stdout",
     "output_type": "stream",
     "text": [
      "\n",
      "\r",
      "  0%|          | 0/1 [00:00<?, ?it/s]"
     ]
    },
    {
     "name": "stdout",
     "output_type": "stream",
     "text": [
      "\r",
      "Upgrading database; v6 -> v7:   0%|          | 0/1 [00:00<?, ?it/s]"
     ]
    },
    {
     "name": "stdout",
     "output_type": "stream",
     "text": [
      "\r",
      "Upgrading database; v6 -> v7: 100%|██████████| 1/1 [00:00<00:00, 376.41it/s]"
     ]
    },
    {
     "name": "stdout",
     "output_type": "stream",
     "text": [
      "\n",
      "\r",
      "  0%|          | 0/1 [00:00<?, ?it/s]"
     ]
    },
    {
     "name": "stdout",
     "output_type": "stream",
     "text": [
      "\r",
      "Upgrading database; v7 -> v8:   0%|          | 0/1 [00:00<?, ?it/s]"
     ]
    },
    {
     "name": "stdout",
     "output_type": "stream",
     "text": [
      "\r",
      "Upgrading database; v7 -> v8: 100%|██████████| 1/1 [00:00<00:00, 595.36it/s]"
     ]
    },
    {
     "name": "stdout",
     "output_type": "stream",
     "text": [
      "\n",
      "\r",
      "  0%|          | 0/1 [00:00<?, ?it/s]"
     ]
    },
    {
     "name": "stdout",
     "output_type": "stream",
     "text": [
      "\r",
      "Upgrading database; v8 -> v9:   0%|          | 0/1 [00:00<?, ?it/s]"
     ]
    },
    {
     "name": "stdout",
     "output_type": "stream",
     "text": [
      "\r",
      "Upgrading database; v8 -> v9: 100%|██████████| 1/1 [00:00<00:00, 468.79it/s]"
     ]
    },
    {
     "name": "stdout",
     "output_type": "stream",
     "text": [
      "\n"
     ]
    }
   ],
   "source": [
    "initialise_database()\n",
    "exp = load_or_create_experiment(experiment_name='tutorial_exp', sample_name=\"no sample\")"
   ]
  },
  {
   "cell_type": "markdown",
   "metadata": {},
   "source": [
    "Here, we define a simple function to benchmark the time it takes to insert n points with either numeric or array data type.\n",
    "We will compare both the time used to call ``add_result`` and the time used for the full measurement."
   ]
  },
  {
   "cell_type": "code",
   "execution_count": 4,
   "metadata": {
    "execution": {
     "iopub.execute_input": "2020-09-24T13:51:58.649075Z",
     "iopub.status.busy": "2020-09-24T13:51:58.648535Z",
     "iopub.status.idle": "2020-09-24T13:51:58.652014Z",
     "shell.execute_reply": "2020-09-24T13:51:58.651467Z"
    }
   },
   "outputs": [],
   "source": [
    "def insert_data(paramtype, npoints, nreps=1):\n",
    "\n",
    "    meas = Measurement(exp=exp)\n",
    "\n",
    "    x1 = ManualParameter('x1')\n",
    "    x2 = ManualParameter('x2')\n",
    "    x3 = ManualParameter('x3')\n",
    "    y1 = ManualParameter('y1')\n",
    "    y2 = ManualParameter('y2')\n",
    "\n",
    "    meas.register_parameter(x1, paramtype=paramtype)\n",
    "    meas.register_parameter(x2, paramtype=paramtype)\n",
    "    meas.register_parameter(x3, paramtype=paramtype)\n",
    "    meas.register_parameter(y1, setpoints=[x1, x2, x3],\n",
    "                            paramtype=paramtype)\n",
    "    meas.register_parameter(y2, setpoints=[x1, x2, x3],\n",
    "                            paramtype=paramtype)\n",
    "    start = time.perf_counter()\n",
    "    with meas.run() as datasaver:\n",
    "        start_adding = time.perf_counter()\n",
    "        for i in range(nreps):\n",
    "            datasaver.add_result((x1, np.random.rand(npoints)),\n",
    "                                 (x2, np.random.rand(npoints)),\n",
    "                                 (x3, np.random.rand(npoints)),\n",
    "                                 (y1, np.random.rand(npoints)),\n",
    "                                 (y2, np.random.rand(npoints)))\n",
    "        stop_adding = time.perf_counter()\n",
    "        run_id = datasaver.run_id\n",
    "    stop = time.perf_counter()\n",
    "    tot_time = stop - start\n",
    "    add_time = stop_adding - start_adding\n",
    "    return tot_time, add_time, run_id"
   ]
  },
  {
   "cell_type": "markdown",
   "metadata": {},
   "source": [
    "## Comparison between numeric/array data and binary blob"
   ]
  },
  {
   "cell_type": "markdown",
   "metadata": {},
   "source": [
    "### Case1: Short experiment time"
   ]
  },
  {
   "cell_type": "code",
   "execution_count": 5,
   "metadata": {
    "execution": {
     "iopub.execute_input": "2020-09-24T13:51:58.657041Z",
     "iopub.status.busy": "2020-09-24T13:51:58.655905Z",
     "iopub.status.idle": "2020-09-24T13:51:59.487905Z",
     "shell.execute_reply": "2020-09-24T13:51:59.488336Z"
    }
   },
   "outputs": [
    {
     "name": "stdout",
     "output_type": "stream",
     "text": [
      "Starting experimental run with id: 1. \n",
      "Starting experimental run with id: 2. \n",
      "Starting experimental run with id: 3. \n",
      "Starting experimental run with id: 4. \n",
      "Starting experimental run with id: 5. \n"
     ]
    },
    {
     "name": "stdout",
     "output_type": "stream",
     "text": [
      "Starting experimental run with id: 6. \n"
     ]
    },
    {
     "name": "stdout",
     "output_type": "stream",
     "text": [
      "Starting experimental run with id: 7. \n"
     ]
    },
    {
     "name": "stdout",
     "output_type": "stream",
     "text": [
      "Starting experimental run with id: 8. \n",
      "Starting experimental run with id: 9. \n"
     ]
    },
    {
     "name": "stdout",
     "output_type": "stream",
     "text": [
      "Starting experimental run with id: 10. \n",
      "Starting experimental run with id: 11. \n"
     ]
    },
    {
     "name": "stdout",
     "output_type": "stream",
     "text": [
      "Starting experimental run with id: 12. \n",
      "Starting experimental run with id: 13. \n"
     ]
    },
    {
     "name": "stdout",
     "output_type": "stream",
     "text": [
      "Starting experimental run with id: 14. \n"
     ]
    }
   ],
   "source": [
    "sizes = [1,500,1000,2000,3000,4000,5000]\n",
    "t_numeric = []\n",
    "t_numeric_add = []\n",
    "t_array = []\n",
    "t_array_add = []\n",
    "for size in sizes:\n",
    "    tn, tna, run_id_n =  insert_data('numeric', size)\n",
    "    t_numeric.append(tn)\n",
    "    t_numeric_add.append(tna)\n",
    "\n",
    "    ta, taa, run_id_a =  insert_data('array', size)\n",
    "    t_array.append(ta)\n",
    "    t_array_add.append(taa)"
   ]
  },
  {
   "cell_type": "code",
   "execution_count": 6,
   "metadata": {
    "execution": {
     "iopub.execute_input": "2020-09-24T13:51:59.505259Z",
     "iopub.status.busy": "2020-09-24T13:51:59.492832Z",
     "iopub.status.idle": "2020-09-24T13:51:59.684162Z",
     "shell.execute_reply": "2020-09-24T13:51:59.684594Z"
    }
   },
   "outputs": [
    {
     "data": {
      "image/png": "[encoded data removed]",
      "text/plain": [
       "<Figure size 432x288 with 1 Axes>"
      ]
     },
     "metadata": {
      "needs_background": "light"
     },
     "output_type": "display_data"
    }
   ],
   "source": [
    "fig, ax = plt.subplots(1,1)\n",
    "ax.plot(sizes, t_numeric, 'o-', label='Inserting row-by-row')\n",
    "ax.plot(sizes, t_numeric_add, 'o-', label='Inserting row-by-row: add_result only')\n",
    "ax.plot(sizes, t_array, 'd-', label='Inserting as binary blob')\n",
    "ax.plot(sizes, t_array_add, 'd-', label='Inserting as binary blob: add_result only')\n",
    "ax.legend()\n",
    "ax.set_xlabel('Array length')\n",
    "ax.set_ylabel('Time (s)')\n",
    "fig.tight_layout()"
   ]
  },
  {
   "cell_type": "markdown",
   "metadata": {},
   "source": [
    "As shown in the latter figure, the time to setup and and close the experiment is approximately 0.4 sec. In case of small array sizes, the difference between inserting values of data as arrays and inserting them row-by-row is relatively unimportant. At larger array sizes, i.e. above 10000 points, the cost of writing data as individual datapoints starts to become important.\n"
   ]
  },
  {
   "cell_type": "markdown",
   "metadata": {},
   "source": [
    "### Case2: Long experiment time "
   ]
  },
  {
   "cell_type": "code",
   "execution_count": 7,
   "metadata": {
    "execution": {
     "iopub.execute_input": "2020-09-24T13:51:59.692083Z",
     "iopub.status.busy": "2020-09-24T13:51:59.691458Z",
     "iopub.status.idle": "2020-09-24T13:52:58.919461Z",
     "shell.execute_reply": "2020-09-24T13:52:58.918306Z"
    }
   },
   "outputs": [
    {
     "name": "stdout",
     "output_type": "stream",
     "text": [
      "Starting experimental run with id: 15. \n",
      "Starting experimental run with id: 16. \n",
      "Starting experimental run with id: 17. \n"
     ]
    },
    {
     "name": "stdout",
     "output_type": "stream",
     "text": [
      "Starting experimental run with id: 18. \n",
      "Starting experimental run with id: 19. \n"
     ]
    },
    {
     "name": "stdout",
     "output_type": "stream",
     "text": [
      "Starting experimental run with id: 20. \n"
     ]
    },
    {
     "name": "stdout",
     "output_type": "stream",
     "text": [
      "Starting experimental run with id: 21. \n"
     ]
    },
    {
     "name": "stdout",
     "output_type": "stream",
     "text": [
      "Starting experimental run with id: 22. \n"
     ]
    },
    {
     "name": "stdout",
     "output_type": "stream",
     "text": [
      "Starting experimental run with id: 23. \n"
     ]
    },
    {
     "name": "stdout",
     "output_type": "stream",
     "text": [
      "Starting experimental run with id: 24. \n"
     ]
    },
    {
     "name": "stdout",
     "output_type": "stream",
     "text": [
      "Starting experimental run with id: 25. \n"
     ]
    },
    {
     "name": "stdout",
     "output_type": "stream",
     "text": [
      "Starting experimental run with id: 26. \n"
     ]
    },
    {
     "name": "stdout",
     "output_type": "stream",
     "text": [
      "Starting experimental run with id: 27. \n"
     ]
    },
    {
     "name": "stdout",
     "output_type": "stream",
     "text": [
      "Starting experimental run with id: 28. \n"
     ]
    }
   ],
   "source": [
    "sizes = [1,500,1000,2000,3000,4000,5000]\n",
    "nreps = 100\n",
    "t_numeric = []\n",
    "t_numeric_add = []\n",
    "t_numeric_run_ids = []\n",
    "t_array = []\n",
    "t_array_add = []\n",
    "t_array_run_ids = []\n",
    "for size in sizes:\n",
    "    tn, tna, run_id_n =  insert_data('numeric', size, nreps=nreps)\n",
    "    t_numeric.append(tn)\n",
    "    t_numeric_add.append(tna)\n",
    "    t_numeric_run_ids.append(run_id_n)\n",
    "\n",
    "    ta, taa, run_id_a =  insert_data('array', size, nreps=nreps)\n",
    "    t_array.append(ta)\n",
    "    t_array_add.append(taa)\n",
    "    t_array_run_ids.append(run_id_a)"
   ]
  },
  {
   "cell_type": "code",
   "execution_count": 8,
   "metadata": {
    "execution": {
     "iopub.execute_input": "2020-09-24T13:52:58.945716Z",
     "iopub.status.busy": "2020-09-24T13:52:58.939109Z",
     "iopub.status.idle": "2020-09-24T13:52:59.126592Z",
     "shell.execute_reply": "2020-09-24T13:52:59.127139Z"
    },
    "scrolled": true
   },
   "outputs": [
    {
     "data": {
      "image/png": "[encoded data removed]",
      "text/plain": [
       "<Figure size 432x288 with 1 Axes>"
      ]
     },
     "metadata": {
      "needs_background": "light"
     },
     "output_type": "display_data"
    }
   ],
   "source": [
    "fig, ax = plt.subplots(1,1)\n",
    "ax.plot(sizes, t_numeric, 'o-', label='Inserting row-by-row')\n",
    "ax.plot(sizes, t_numeric_add, 'o-', label='Inserting row-by-row: add_result only')\n",
    "ax.plot(sizes, t_array, 'd-', label='Inserting as binary blob')\n",
    "ax.plot(sizes, t_array_add, 'd-', label='Inserting as binary blob: add_result only')\n",
    "ax.legend()\n",
    "ax.set_xlabel('Array length')\n",
    "ax.set_ylabel('Time (s)')\n",
    "fig.tight_layout()"
   ]
  },
  {
   "cell_type": "markdown",
   "metadata": {},
   "source": [
    "However, as we increase the length of the experiment, as seen here by repeating the insertion 100 times, we see a big difference between inserting values of the data row-by-row and inserting it as a binary blob."
   ]
  },
  {
   "cell_type": "markdown",
   "metadata": {},
   "source": [
    "## Loading the data "
   ]
  },
  {
   "cell_type": "code",
   "execution_count": 9,
   "metadata": {
    "execution": {
     "iopub.execute_input": "2020-09-24T13:52:59.131553Z",
     "iopub.status.busy": "2020-09-24T13:52:59.130241Z",
     "iopub.status.idle": "2020-09-24T13:52:59.133662Z",
     "shell.execute_reply": "2020-09-24T13:52:59.133183Z"
    }
   },
   "outputs": [],
   "source": [
    "from qcodes.dataset.data_set import load_by_id\n",
    "from qcodes.dataset.data_export import get_data_by_id"
   ]
  },
  {
   "cell_type": "markdown",
   "metadata": {},
   "source": [
    "As usual you can load the data by using the ``load_by_id`` function but you will notice that the different storage methods\n",
    "are reflected in shape of the data as it is retrieved. "
   ]
  },
  {
   "cell_type": "code",
   "execution_count": 10,
   "metadata": {
    "execution": {
     "iopub.execute_input": "2020-09-24T13:52:59.137730Z",
     "iopub.status.busy": "2020-09-24T13:52:59.137181Z",
     "iopub.status.idle": "2020-09-24T13:52:59.140370Z",
     "shell.execute_reply": "2020-09-24T13:52:59.139831Z"
    }
   },
   "outputs": [],
   "source": [
    "run_id_n = t_numeric_run_ids[0]\n",
    "run_id_a = t_array_run_ids[0]"
   ]
  },
  {
   "cell_type": "code",
   "execution_count": 11,
   "metadata": {
    "execution": {
     "iopub.execute_input": "2020-09-24T13:52:59.144514Z",
     "iopub.status.busy": "2020-09-24T13:52:59.143994Z",
     "iopub.status.idle": "2020-09-24T13:52:59.154023Z",
     "shell.execute_reply": "2020-09-24T13:52:59.154703Z"
    },
    "scrolled": true
   },
   "outputs": [
    {
     "data": {
      "text/plain": [
       "{'x1': {'x1': array([0.15012036, 0.15012036, 0.82660521, 0.82660521, 0.83714891,\n",
       "         0.83714891, 0.31169016, 0.31169016, 0.03194124, 0.03194124,\n",
       "         0.02720346, 0.02720346, 0.9228745 , 0.9228745 , 0.97067052,\n",
       "         0.97067052, 0.85892483, 0.85892483, 0.09608676, 0.09608676,\n",
       "         0.84686526, 0.84686526, 0.08128661, 0.08128661, 0.58320717,\n",
       "         0.58320717, 0.74337782, 0.74337782, 0.26323689, 0.26323689,\n",
       "         0.91568083, 0.91568083, 0.36931537, 0.36931537, 0.21446151,\n",
       "         0.21446151, 0.28525787, 0.28525787, 0.07087982, 0.07087982,\n",
       "         0.31561071, 0.31561071, 0.62767031, 0.62767031, 0.07164568,\n",
       "         0.07164568, 0.21366801, 0.21366801, 0.37037157, 0.37037157,\n",
       "         0.15836981, 0.15836981, 0.59782165, 0.59782165, 0.70392099,\n",
       "         0.70392099, 0.00963819, 0.00963819, 0.89224255, 0.89224255,\n",
       "         0.53399746, 0.53399746, 0.02949153, 0.02949153, 0.33270883,\n",
       "         0.33270883, 0.20819222, 0.20819222, 0.97869438, 0.97869438,\n",
       "         0.23403449, 0.23403449, 0.8263753 , 0.8263753 , 0.93799224,\n",
       "         0.93799224, 0.42618327, 0.42618327, 0.24024498, 0.24024498,\n",
       "         0.82584751, 0.82584751, 0.99946485, 0.99946485, 0.53664027,\n",
       "         0.53664027, 0.62507309, 0.62507309, 0.27893219, 0.27893219,\n",
       "         0.33873055, 0.33873055, 0.09945367, 0.09945367, 0.92027446,\n",
       "         0.92027446, 0.21529298, 0.21529298, 0.78366739, 0.78366739,\n",
       "         0.97397857, 0.97397857, 0.02447891, 0.02447891, 0.98901719,\n",
       "         0.98901719, 0.12553444, 0.12553444, 0.2314058 , 0.2314058 ,\n",
       "         0.49888626, 0.49888626, 0.8547242 , 0.8547242 , 0.21287027,\n",
       "         0.21287027, 0.64357771, 0.64357771, 0.88120886, 0.88120886,\n",
       "         0.64438693, 0.64438693, 0.12234019, 0.12234019, 0.617426  ,\n",
       "         0.617426  , 0.38700246, 0.38700246, 0.29940589, 0.29940589,\n",
       "         0.19017167, 0.19017167, 0.37643052, 0.37643052, 0.92922633,\n",
       "         0.92922633, 0.83816662, 0.83816662, 0.46505693, 0.46505693,\n",
       "         0.00850117, 0.00850117, 0.13910792, 0.13910792, 0.62486034,\n",
       "         0.62486034, 0.61581422, 0.61581422, 0.88624243, 0.88624243,\n",
       "         0.76333742, 0.76333742, 0.9227718 , 0.9227718 , 0.92864576,\n",
       "         0.92864576, 0.89974872, 0.89974872, 0.99969129, 0.99969129,\n",
       "         0.75404265, 0.75404265, 0.50035626, 0.50035626, 0.05171145,\n",
       "         0.05171145, 0.91749488, 0.91749488, 0.50942573, 0.50942573,\n",
       "         0.63952399, 0.63952399, 0.16456065, 0.16456065, 0.43311348,\n",
       "         0.43311348, 0.99924712, 0.99924712, 0.44376809, 0.44376809,\n",
       "         0.30809943, 0.30809943, 0.34816665, 0.34816665, 0.05833995,\n",
       "         0.05833995, 0.62894086, 0.62894086, 0.6619282 , 0.6619282 ,\n",
       "         0.31275104, 0.31275104, 0.93136405, 0.93136405, 0.92402189,\n",
       "         0.92402189, 0.83329341, 0.83329341, 0.77175101, 0.77175101])}}"
      ]
     },
     "execution_count": 1,
     "metadata": {},
     "output_type": "execute_result"
    }
   ],
   "source": [
    "ds = load_by_id(run_id_n)\n",
    "ds.get_parameter_data('x1')"
   ]
  },
  {
   "cell_type": "markdown",
   "metadata": {},
   "source": [
    "And a dataset stored as binary arrays"
   ]
  },
  {
   "cell_type": "code",
   "execution_count": 12,
   "metadata": {
    "execution": {
     "iopub.execute_input": "2020-09-24T13:52:59.158144Z",
     "iopub.status.busy": "2020-09-24T13:52:59.157637Z",
     "iopub.status.idle": "2020-09-24T13:52:59.213327Z",
     "shell.execute_reply": "2020-09-24T13:52:59.213779Z"
    },
    "scrolled": true
   },
   "outputs": [
    {
     "data": {
      "text/plain": [
       "{'x1': {'x1': array([[0.54121146],\n",
       "         [0.54121146],\n",
       "         [0.42804871],\n",
       "         [0.42804871],\n",
       "         [0.40854136],\n",
       "         [0.40854136],\n",
       "         [0.96435361],\n",
       "         [0.96435361],\n",
       "         [0.23367288],\n",
       "         [0.23367288],\n",
       "         [0.76232367],\n",
       "         [0.76232367],\n",
       "         [0.76465094],\n",
       "         [0.76465094],\n",
       "         [0.62700751],\n",
       "         [0.62700751],\n",
       "         [0.42546248],\n",
       "         [0.42546248],\n",
       "         [0.70798488],\n",
       "         [0.70798488],\n",
       "         [0.50901787],\n",
       "         [0.50901787],\n",
       "         [0.60859677],\n",
       "         [0.60859677],\n",
       "         [0.2129697 ],\n",
       "         [0.2129697 ],\n",
       "         [0.55264295],\n",
       "         [0.55264295],\n",
       "         [0.16980468],\n",
       "         [0.16980468],\n",
       "         [0.14444305],\n",
       "         [0.14444305],\n",
       "         [0.96812274],\n",
       "         [0.96812274],\n",
       "         [0.73712856],\n",
       "         [0.73712856],\n",
       "         [0.86356514],\n",
       "         [0.86356514],\n",
       "         [0.98403514],\n",
       "         [0.98403514],\n",
       "         [0.75766308],\n",
       "         [0.75766308],\n",
       "         [0.79140561],\n",
       "         [0.79140561],\n",
       "         [0.9062785 ],\n",
       "         [0.9062785 ],\n",
       "         [0.63503412],\n",
       "         [0.63503412],\n",
       "         [0.69179233],\n",
       "         [0.69179233],\n",
       "         [0.88054671],\n",
       "         [0.88054671],\n",
       "         [0.18324248],\n",
       "         [0.18324248],\n",
       "         [0.46138853],\n",
       "         [0.46138853],\n",
       "         [0.0922762 ],\n",
       "         [0.0922762 ],\n",
       "         [0.5371328 ],\n",
       "         [0.5371328 ],\n",
       "         [0.06128577],\n",
       "         [0.06128577],\n",
       "         [0.85789069],\n",
       "         [0.85789069],\n",
       "         [0.50680788],\n",
       "         [0.50680788],\n",
       "         [0.69458622],\n",
       "         [0.69458622],\n",
       "         [0.26068111],\n",
       "         [0.26068111],\n",
       "         [0.96990425],\n",
       "         [0.96990425],\n",
       "         [0.73845915],\n",
       "         [0.73845915],\n",
       "         [0.0196578 ],\n",
       "         [0.0196578 ],\n",
       "         [0.99870399],\n",
       "         [0.99870399],\n",
       "         [0.62692644],\n",
       "         [0.62692644],\n",
       "         [0.72883069],\n",
       "         [0.72883069],\n",
       "         [0.39718025],\n",
       "         [0.39718025],\n",
       "         [0.28428732],\n",
       "         [0.28428732],\n",
       "         [0.94841966],\n",
       "         [0.94841966],\n",
       "         [0.17308243],\n",
       "         [0.17308243],\n",
       "         [0.63353011],\n",
       "         [0.63353011],\n",
       "         [0.02208786],\n",
       "         [0.02208786],\n",
       "         [0.18919836],\n",
       "         [0.18919836],\n",
       "         [0.58654755],\n",
       "         [0.58654755],\n",
       "         [0.44200332],\n",
       "         [0.44200332],\n",
       "         [0.71916369],\n",
       "         [0.71916369],\n",
       "         [0.72733676],\n",
       "         [0.72733676],\n",
       "         [0.4233953 ],\n",
       "         [0.4233953 ],\n",
       "         [0.19190799],\n",
       "         [0.19190799],\n",
       "         [0.83726838],\n",
       "         [0.83726838],\n",
       "         [0.87441521],\n",
       "         [0.87441521],\n",
       "         [0.07696816],\n",
       "         [0.07696816],\n",
       "         [0.22331604],\n",
       "         [0.22331604],\n",
       "         [0.74089934],\n",
       "         [0.74089934],\n",
       "         [0.24810581],\n",
       "         [0.24810581],\n",
       "         [0.80793283],\n",
       "         [0.80793283],\n",
       "         [0.44328391],\n",
       "         [0.44328391],\n",
       "         [0.05850909],\n",
       "         [0.05850909],\n",
       "         [0.03240123],\n",
       "         [0.03240123],\n",
       "         [0.66723253],\n",
       "         [0.66723253],\n",
       "         [0.49441882],\n",
       "         [0.49441882],\n",
       "         [0.58395917],\n",
       "         [0.58395917],\n",
       "         [0.4795001 ],\n",
       "         [0.4795001 ],\n",
       "         [0.99206981],\n",
       "         [0.99206981],\n",
       "         [0.56676366],\n",
       "         [0.56676366],\n",
       "         [0.06119348],\n",
       "         [0.06119348],\n",
       "         [0.18381187],\n",
       "         [0.18381187],\n",
       "         [0.15842492],\n",
       "         [0.15842492],\n",
       "         [0.29330692],\n",
       "         [0.29330692],\n",
       "         [0.91301038],\n",
       "         [0.91301038],\n",
       "         [0.11958159],\n",
       "         [0.11958159],\n",
       "         [0.04077471],\n",
       "         [0.04077471],\n",
       "         [0.05000925],\n",
       "         [0.05000925],\n",
       "         [0.50607966],\n",
       "         [0.50607966],\n",
       "         [0.73091025],\n",
       "         [0.73091025],\n",
       "         [0.45718276],\n",
       "         [0.45718276],\n",
       "         [0.94317521],\n",
       "         [0.94317521],\n",
       "         [0.31101661],\n",
       "         [0.31101661],\n",
       "         [0.63648301],\n",
       "         [0.63648301],\n",
       "         [0.00196798],\n",
       "         [0.00196798],\n",
       "         [0.37662263],\n",
       "         [0.37662263],\n",
       "         [0.11660752],\n",
       "         [0.11660752],\n",
       "         [0.7567546 ],\n",
       "         [0.7567546 ],\n",
       "         [0.8303438 ],\n",
       "         [0.8303438 ],\n",
       "         [0.04782804],\n",
       "         [0.04782804],\n",
       "         [0.61352561],\n",
       "         [0.61352561],\n",
       "         [0.86812175],\n",
       "         [0.86812175],\n",
       "         [0.39096689],\n",
       "         [0.39096689],\n",
       "         [0.70380075],\n",
       "         [0.70380075],\n",
       "         [0.05229303],\n",
       "         [0.05229303],\n",
       "         [0.90705697],\n",
       "         [0.90705697],\n",
       "         [0.47739167],\n",
       "         [0.47739167],\n",
       "         [0.58714578],\n",
       "         [0.58714578],\n",
       "         [0.55678437],\n",
       "         [0.55678437],\n",
       "         [0.44404426],\n",
       "         [0.44404426]])}}"
      ]
     },
     "execution_count": 1,
     "metadata": {},
     "output_type": "execute_result"
    }
   ],
   "source": [
    "ds = load_by_id(run_id_a)\n",
    "ds.get_parameter_data('x1')"
   ]
  },
  {
   "cell_type": "code",
   "execution_count": null,
   "metadata": {},
   "outputs": [],
   "source": []
  }
 ],
 "metadata": {
  "kernelspec": {
   "display_name": "Python 3",
   "language": "python",
   "name": "python3"
  },
  "language_info": {
   "codemirror_mode": {
    "name": "ipython",
    "version": 3
   },
   "file_extension": ".py",
   "mimetype": "text/x-python",
   "name": "python",
   "nbconvert_exporter": "python",
   "pygments_lexer": "ipython3",
   "version": "3.7.7"
  },
  "nbsphinx": {
   "timeout": 600
  },
  "toc": {
   "base_numbering": 1,
   "nav_menu": {},
   "number_sections": true,
   "sideBar": true,
   "skip_h1_title": false,
   "title_cell": "Table of Contents",
   "title_sidebar": "Contents",
   "toc_cell": false,
   "toc_position": {},
   "toc_section_display": true,
   "toc_window_display": false
  },
  "varInspector": {
   "cols": {
    "lenName": 16,
    "lenType": 16,
    "lenVar": 40
   },
   "kernels_config": {
    "python": {
     "delete_cmd_postfix": "",
     "delete_cmd_prefix": "del ",
     "library": "var_list.py",
     "varRefreshCmd": "print(var_dic_list())"
    },
    "r": {
     "delete_cmd_postfix": ") ",
     "delete_cmd_prefix": "rm(",
     "library": "var_list.r",
     "varRefreshCmd": "cat(var_dic_list()) "
    }
   },
   "types_to_exclude": [
    "module",
    "function",
    "builtin_function_or_method",
    "instance",
    "_Feature"
   ],
   "window_display": false
  }
 },
 "nbformat": 4,
 "nbformat_minor": 2
}
