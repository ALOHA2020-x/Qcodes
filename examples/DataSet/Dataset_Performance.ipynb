{
 "cells": [
  {
   "cell_type": "markdown",
   "metadata": {},
   "source": [
    "# DataSet Performance\n",
    "\n",
    "This notebook shows the trade-off between inserting data into a database row-by-row and as binary blobs. Inserting the data row-by-row means that we have direct access to all the data and may perform queries directly on the values of the data. On the other hand, as we shall see, this is much slower than inserting the data directly as binary blobs."
   ]
  },
  {
   "cell_type": "markdown",
   "metadata": {},
   "source": [
    "First, we choose a new location for the database to ensure that we don't add a bunch of benchmarking data to the default one."
   ]
  },
  {
   "cell_type": "code",
   "execution_count": 1,
   "metadata": {
    "execution": {
     "iopub.execute_input": "2021-03-26T14:37:13.561099Z",
     "iopub.status.busy": "2021-03-26T14:37:13.560564Z",
     "iopub.status.idle": "2021-03-26T14:37:14.513146Z",
     "shell.execute_reply": "2021-03-26T14:37:14.512110Z"
    }
   },
   "outputs": [
    {
     "name": "stdout",
     "output_type": "stream",
     "text": [
      "Logging hadn't been started.\n",
      "Activating auto-logging. Current session state plus future input saved.\n",
      "Filename       : /home/runner/.qcodes/logs/command_history.log\n",
      "Mode           : append\n",
      "Output logging : True\n",
      "Raw input log  : False\n",
      "Timestamping   : True\n",
      "State          : active\n"
     ]
    },
    {
     "name": "stdout",
     "output_type": "stream",
     "text": [
      "Qcodes Logfile : /home/runner/.qcodes/logs/210326-4421-qcodes.log\n"
     ]
    }
   ],
   "source": [
    "import os\n",
    "cwd = os.getcwd()\n",
    "import qcodes as qc\n",
    "qc.config[\"core\"][\"db_location\"] = os.path.join(cwd, 'testing.db')\n"
   ]
  },
  {
   "cell_type": "code",
   "execution_count": 2,
   "metadata": {
    "execution": {
     "iopub.execute_input": "2021-03-26T14:37:14.520084Z",
     "iopub.status.busy": "2021-03-26T14:37:14.519490Z",
     "iopub.status.idle": "2021-03-26T14:37:14.737985Z",
     "shell.execute_reply": "2021-03-26T14:37:14.737088Z"
    }
   },
   "outputs": [],
   "source": [
    "%matplotlib inline\n",
    "import time\n",
    "import matplotlib.pyplot as plt\n",
    "import numpy as np\n",
    "\n",
    "import qcodes as qc\n",
    "from qcodes.instrument.parameter import ManualParameter\n",
    "from qcodes.dataset.experiment_container import (Experiment,\n",
    "                                                 load_last_experiment,\n",
    "                                                 new_experiment)\n",
    "from qcodes.dataset.sqlite.database import initialise_database\n",
    "from qcodes import load_or_create_experiment\n",
    "from qcodes.dataset.measurements import Measurement"
   ]
  },
  {
   "cell_type": "code",
   "execution_count": 3,
   "metadata": {
    "execution": {
     "iopub.execute_input": "2021-03-26T14:37:14.741990Z",
     "iopub.status.busy": "2021-03-26T14:37:14.741399Z",
     "iopub.status.idle": "2021-03-26T14:37:14.802948Z",
     "shell.execute_reply": "2021-03-26T14:37:14.802467Z"
    }
   },
   "outputs": [
    {
     "name": "stdout",
     "output_type": "stream",
     "text": [
      "\r",
      "0it [00:00, ?it/s]"
     ]
    },
    {
     "name": "stdout",
     "output_type": "stream",
     "text": [
      "\r",
      "Upgrading database; v0 -> v1: : 0it [00:00, ?it/s]"
     ]
    },
    {
     "name": "stdout",
     "output_type": "stream",
     "text": [
      "\r",
      "Upgrading database; v0 -> v1: : 0it [00:00, ?it/s]"
     ]
    },
    {
     "name": "stdout",
     "output_type": "stream",
     "text": [
      "\n",
      "\r",
      "  0%|          | 0/1 [00:00<?, ?it/s]"
     ]
    },
    {
     "name": "stdout",
     "output_type": "stream",
     "text": [
      "\r",
      "Upgrading database; v1 -> v2:   0%|          | 0/1 [00:00<?, ?it/s]"
     ]
    },
    {
     "name": "stdout",
     "output_type": "stream",
     "text": [
      "\r",
      "Upgrading database; v1 -> v2: 100%|██████████| 1/1 [00:00<00:00, 1029.28it/s]"
     ]
    },
    {
     "name": "stdout",
     "output_type": "stream",
     "text": [
      "\n",
      "\r",
      "0it [00:00, ?it/s]"
     ]
    },
    {
     "name": "stdout",
     "output_type": "stream",
     "text": [
      "\r",
      "Upgrading database; v2 -> v3: : 0it [00:00, ?it/s]"
     ]
    },
    {
     "name": "stdout",
     "output_type": "stream",
     "text": [
      "\r",
      "Upgrading database; v2 -> v3: : 0it [00:00, ?it/s]"
     ]
    },
    {
     "name": "stdout",
     "output_type": "stream",
     "text": [
      "\n",
      "\r",
      "0it [00:00, ?it/s]"
     ]
    },
    {
     "name": "stdout",
     "output_type": "stream",
     "text": [
      "\r",
      "Upgrading database; v3 -> v4: : 0it [00:00, ?it/s]"
     ]
    },
    {
     "name": "stdout",
     "output_type": "stream",
     "text": [
      "\r",
      "Upgrading database; v3 -> v4: : 0it [00:00, ?it/s]"
     ]
    },
    {
     "name": "stdout",
     "output_type": "stream",
     "text": [
      "\n",
      "\r",
      "  0%|          | 0/1 [00:00<?, ?it/s]"
     ]
    },
    {
     "name": "stdout",
     "output_type": "stream",
     "text": [
      "\r",
      "Upgrading database; v4 -> v5:   0%|          | 0/1 [00:00<?, ?it/s]"
     ]
    },
    {
     "name": "stdout",
     "output_type": "stream",
     "text": [
      "\r",
      "Upgrading database; v4 -> v5: 100%|██████████| 1/1 [00:00<00:00, 452.46it/s]"
     ]
    },
    {
     "name": "stdout",
     "output_type": "stream",
     "text": [
      "\n",
      "\r",
      "0it [00:00, ?it/s]"
     ]
    },
    {
     "name": "stdout",
     "output_type": "stream",
     "text": [
      "\r",
      "Upgrading database; v5 -> v6: : 0it [00:00, ?it/s]"
     ]
    },
    {
     "name": "stdout",
     "output_type": "stream",
     "text": [
      "\r",
      "Upgrading database; v5 -> v6: : 0it [00:00, ?it/s]"
     ]
    },
    {
     "name": "stdout",
     "output_type": "stream",
     "text": [
      "\n",
      "\r",
      "  0%|          | 0/1 [00:00<?, ?it/s]"
     ]
    },
    {
     "name": "stdout",
     "output_type": "stream",
     "text": [
      "\r",
      "Upgrading database; v6 -> v7:   0%|          | 0/1 [00:00<?, ?it/s]"
     ]
    },
    {
     "name": "stdout",
     "output_type": "stream",
     "text": [
      "\r",
      "Upgrading database; v6 -> v7: 100%|██████████| 1/1 [00:00<00:00, 437.00it/s]"
     ]
    },
    {
     "name": "stdout",
     "output_type": "stream",
     "text": [
      "\n",
      "\r",
      "  0%|          | 0/1 [00:00<?, ?it/s]"
     ]
    },
    {
     "name": "stdout",
     "output_type": "stream",
     "text": [
      "\r",
      "Upgrading database; v7 -> v8:   0%|          | 0/1 [00:00<?, ?it/s]"
     ]
    },
    {
     "name": "stdout",
     "output_type": "stream",
     "text": [
      "\r",
      "Upgrading database; v7 -> v8: 100%|██████████| 1/1 [00:00<00:00, 570.65it/s]"
     ]
    },
    {
     "name": "stdout",
     "output_type": "stream",
     "text": [
      "\n",
      "\r",
      "  0%|          | 0/1 [00:00<?, ?it/s]"
     ]
    },
    {
     "name": "stdout",
     "output_type": "stream",
     "text": [
      "\r",
      "Upgrading database; v8 -> v9:   0%|          | 0/1 [00:00<?, ?it/s]"
     ]
    },
    {
     "name": "stdout",
     "output_type": "stream",
     "text": [
      "\r",
      "Upgrading database; v8 -> v9: 100%|██████████| 1/1 [00:00<00:00, 841.72it/s]"
     ]
    },
    {
     "name": "stdout",
     "output_type": "stream",
     "text": [
      "\n"
     ]
    }
   ],
   "source": [
    "initialise_database()\n",
    "exp = load_or_create_experiment(experiment_name='tutorial_exp', sample_name=\"no sample\")"
   ]
  },
  {
   "cell_type": "markdown",
   "metadata": {},
   "source": [
    "Here, we define a simple function to benchmark the time it takes to insert n points with either numeric or array data type.\n",
    "We will compare both the time used to call ``add_result`` and the time used for the full measurement."
   ]
  },
  {
   "cell_type": "code",
   "execution_count": 4,
   "metadata": {
    "execution": {
     "iopub.execute_input": "2021-03-26T14:37:14.812129Z",
     "iopub.status.busy": "2021-03-26T14:37:14.810944Z",
     "iopub.status.idle": "2021-03-26T14:37:14.812730Z",
     "shell.execute_reply": "2021-03-26T14:37:14.813156Z"
    }
   },
   "outputs": [],
   "source": [
    "def insert_data(paramtype, npoints, nreps=1):\n",
    "\n",
    "    meas = Measurement(exp=exp)\n",
    "\n",
    "    x1 = ManualParameter('x1')\n",
    "    x2 = ManualParameter('x2')\n",
    "    x3 = ManualParameter('x3')\n",
    "    y1 = ManualParameter('y1')\n",
    "    y2 = ManualParameter('y2')\n",
    "\n",
    "    meas.register_parameter(x1, paramtype=paramtype)\n",
    "    meas.register_parameter(x2, paramtype=paramtype)\n",
    "    meas.register_parameter(x3, paramtype=paramtype)\n",
    "    meas.register_parameter(y1, setpoints=[x1, x2, x3],\n",
    "                            paramtype=paramtype)\n",
    "    meas.register_parameter(y2, setpoints=[x1, x2, x3],\n",
    "                            paramtype=paramtype)\n",
    "    start = time.perf_counter()\n",
    "    with meas.run() as datasaver:\n",
    "        start_adding = time.perf_counter()\n",
    "        for i in range(nreps):\n",
    "            datasaver.add_result((x1, np.random.rand(npoints)),\n",
    "                                 (x2, np.random.rand(npoints)),\n",
    "                                 (x3, np.random.rand(npoints)),\n",
    "                                 (y1, np.random.rand(npoints)),\n",
    "                                 (y2, np.random.rand(npoints)))\n",
    "        stop_adding = time.perf_counter()\n",
    "        run_id = datasaver.run_id\n",
    "    stop = time.perf_counter()\n",
    "    tot_time = stop - start\n",
    "    add_time = stop_adding - start_adding\n",
    "    return tot_time, add_time, run_id"
   ]
  },
  {
   "cell_type": "markdown",
   "metadata": {},
   "source": [
    "## Comparison between numeric/array data and binary blob"
   ]
  },
  {
   "cell_type": "markdown",
   "metadata": {},
   "source": [
    "### Case1: Short experiment time"
   ]
  },
  {
   "cell_type": "code",
   "execution_count": 5,
   "metadata": {
    "execution": {
     "iopub.execute_input": "2021-03-26T14:37:14.819462Z",
     "iopub.status.busy": "2021-03-26T14:37:14.817114Z",
     "iopub.status.idle": "2021-03-26T14:37:15.562995Z",
     "shell.execute_reply": "2021-03-26T14:37:15.563377Z"
    }
   },
   "outputs": [
    {
     "name": "stdout",
     "output_type": "stream",
     "text": [
      "Starting experimental run with id: 1. \n",
      "Starting experimental run with id: 2. \n",
      "Starting experimental run with id: 3. \n",
      "Starting experimental run with id: 4. \n",
      "Starting experimental run with id: 5. \n",
      "Starting experimental run with id: 6. \n"
     ]
    },
    {
     "name": "stdout",
     "output_type": "stream",
     "text": [
      "Starting experimental run with id: 7. \n"
     ]
    },
    {
     "name": "stdout",
     "output_type": "stream",
     "text": [
      "Starting experimental run with id: 8. \n",
      "Starting experimental run with id: 9. \n",
      "Starting experimental run with id: 10. \n"
     ]
    },
    {
     "name": "stdout",
     "output_type": "stream",
     "text": [
      "Starting experimental run with id: 11. \n"
     ]
    },
    {
     "name": "stdout",
     "output_type": "stream",
     "text": [
      "Starting experimental run with id: 12. \n"
     ]
    },
    {
     "name": "stdout",
     "output_type": "stream",
     "text": [
      "Starting experimental run with id: 13. \n",
      "Starting experimental run with id: 14. \n"
     ]
    }
   ],
   "source": [
    "sizes = [1,500,1000,2000,3000,4000,5000]\n",
    "t_numeric = []\n",
    "t_numeric_add = []\n",
    "t_array = []\n",
    "t_array_add = []\n",
    "for size in sizes:\n",
    "    tn, tna, run_id_n =  insert_data('numeric', size)\n",
    "    t_numeric.append(tn)\n",
    "    t_numeric_add.append(tna)\n",
    "\n",
    "    ta, taa, run_id_a =  insert_data('array', size)\n",
    "    t_array.append(ta)\n",
    "    t_array_add.append(taa)"
   ]
  },
  {
   "cell_type": "code",
   "execution_count": 6,
   "metadata": {
    "execution": {
     "iopub.execute_input": "2021-03-26T14:37:15.568183Z",
     "iopub.status.busy": "2021-03-26T14:37:15.567701Z",
     "iopub.status.idle": "2021-03-26T14:37:15.779469Z",
     "shell.execute_reply": "2021-03-26T14:37:15.778989Z"
    }
   },
   "outputs": [
    {
     "data": {
      "image/png": "[encoded data removed]",
      "text/plain": [
       "<Figure size 432x288 with 1 Axes>"
      ]
     },
     "metadata": {
      "needs_background": "light"
     },
     "output_type": "display_data"
    }
   ],
   "source": [
    "fig, ax = plt.subplots(1,1)\n",
    "ax.plot(sizes, t_numeric, 'o-', label='Inserting row-by-row')\n",
    "ax.plot(sizes, t_numeric_add, 'o-', label='Inserting row-by-row: add_result only')\n",
    "ax.plot(sizes, t_array, 'd-', label='Inserting as binary blob')\n",
    "ax.plot(sizes, t_array_add, 'd-', label='Inserting as binary blob: add_result only')\n",
    "ax.legend()\n",
    "ax.set_xlabel('Array length')\n",
    "ax.set_ylabel('Time (s)')\n",
    "fig.tight_layout()"
   ]
  },
  {
   "cell_type": "markdown",
   "metadata": {},
   "source": [
    "As shown in the latter figure, the time to setup and and close the experiment is approximately 0.4 sec. In case of small array sizes, the difference between inserting values of data as arrays and inserting them row-by-row is relatively unimportant. At larger array sizes, i.e. above 10000 points, the cost of writing data as individual datapoints starts to become important.\n"
   ]
  },
  {
   "cell_type": "markdown",
   "metadata": {},
   "source": [
    "### Case2: Long experiment time "
   ]
  },
  {
   "cell_type": "code",
   "execution_count": 7,
   "metadata": {
    "execution": {
     "iopub.execute_input": "2021-03-26T14:37:15.786826Z",
     "iopub.status.busy": "2021-03-26T14:37:15.786179Z",
     "iopub.status.idle": "2021-03-26T14:38:11.611201Z",
     "shell.execute_reply": "2021-03-26T14:38:11.610754Z"
    }
   },
   "outputs": [
    {
     "name": "stdout",
     "output_type": "stream",
     "text": [
      "Starting experimental run with id: 15. \n",
      "Starting experimental run with id: 16. \n",
      "Starting experimental run with id: 17. \n"
     ]
    },
    {
     "name": "stdout",
     "output_type": "stream",
     "text": [
      "Starting experimental run with id: 18. \n",
      "Starting experimental run with id: 19. \n"
     ]
    },
    {
     "name": "stdout",
     "output_type": "stream",
     "text": [
      "Starting experimental run with id: 20. \n"
     ]
    },
    {
     "name": "stdout",
     "output_type": "stream",
     "text": [
      "Starting experimental run with id: 21. \n"
     ]
    },
    {
     "name": "stdout",
     "output_type": "stream",
     "text": [
      "Starting experimental run with id: 22. \n"
     ]
    },
    {
     "name": "stdout",
     "output_type": "stream",
     "text": [
      "Starting experimental run with id: 23. \n"
     ]
    },
    {
     "name": "stdout",
     "output_type": "stream",
     "text": [
      "Starting experimental run with id: 24. \n"
     ]
    },
    {
     "name": "stdout",
     "output_type": "stream",
     "text": [
      "Starting experimental run with id: 25. \n"
     ]
    },
    {
     "name": "stdout",
     "output_type": "stream",
     "text": [
      "Starting experimental run with id: 26. \n"
     ]
    },
    {
     "name": "stdout",
     "output_type": "stream",
     "text": [
      "Starting experimental run with id: 27. \n"
     ]
    },
    {
     "name": "stdout",
     "output_type": "stream",
     "text": [
      "Starting experimental run with id: 28. \n"
     ]
    }
   ],
   "source": [
    "sizes = [1,500,1000,2000,3000,4000,5000]\n",
    "nreps = 100\n",
    "t_numeric = []\n",
    "t_numeric_add = []\n",
    "t_numeric_run_ids = []\n",
    "t_array = []\n",
    "t_array_add = []\n",
    "t_array_run_ids = []\n",
    "for size in sizes:\n",
    "    tn, tna, run_id_n =  insert_data('numeric', size, nreps=nreps)\n",
    "    t_numeric.append(tn)\n",
    "    t_numeric_add.append(tna)\n",
    "    t_numeric_run_ids.append(run_id_n)\n",
    "\n",
    "    ta, taa, run_id_a =  insert_data('array', size, nreps=nreps)\n",
    "    t_array.append(ta)\n",
    "    t_array_add.append(taa)\n",
    "    t_array_run_ids.append(run_id_a)"
   ]
  },
  {
   "cell_type": "code",
   "execution_count": 8,
   "metadata": {
    "execution": {
     "iopub.execute_input": "2021-03-26T14:38:11.648119Z",
     "iopub.status.busy": "2021-03-26T14:38:11.638592Z",
     "iopub.status.idle": "2021-03-26T14:38:11.800746Z",
     "shell.execute_reply": "2021-03-26T14:38:11.801169Z"
    },
    "scrolled": true
   },
   "outputs": [
    {
     "data": {
      "image/png": "[encoded data removed]",
      "text/plain": [
       "<Figure size 432x288 with 1 Axes>"
      ]
     },
     "metadata": {
      "needs_background": "light"
     },
     "output_type": "display_data"
    }
   ],
   "source": [
    "fig, ax = plt.subplots(1,1)\n",
    "ax.plot(sizes, t_numeric, 'o-', label='Inserting row-by-row')\n",
    "ax.plot(sizes, t_numeric_add, 'o-', label='Inserting row-by-row: add_result only')\n",
    "ax.plot(sizes, t_array, 'd-', label='Inserting as binary blob')\n",
    "ax.plot(sizes, t_array_add, 'd-', label='Inserting as binary blob: add_result only')\n",
    "ax.legend()\n",
    "ax.set_xlabel('Array length')\n",
    "ax.set_ylabel('Time (s)')\n",
    "fig.tight_layout()"
   ]
  },
  {
   "cell_type": "markdown",
   "metadata": {},
   "source": [
    "However, as we increase the length of the experiment, as seen here by repeating the insertion 100 times, we see a big difference between inserting values of the data row-by-row and inserting it as a binary blob."
   ]
  },
  {
   "cell_type": "markdown",
   "metadata": {},
   "source": [
    "## Loading the data "
   ]
  },
  {
   "cell_type": "code",
   "execution_count": 9,
   "metadata": {
    "execution": {
     "iopub.execute_input": "2021-03-26T14:38:11.804655Z",
     "iopub.status.busy": "2021-03-26T14:38:11.804184Z",
     "iopub.status.idle": "2021-03-26T14:38:11.807208Z",
     "shell.execute_reply": "2021-03-26T14:38:11.807686Z"
    }
   },
   "outputs": [],
   "source": [
    "from qcodes.dataset.data_set import load_by_id\n",
    "from qcodes.dataset.data_export import get_data_by_id"
   ]
  },
  {
   "cell_type": "markdown",
   "metadata": {},
   "source": [
    "As usual you can load the data by using the ``load_by_id`` function but you will notice that the different storage methods\n",
    "are reflected in shape of the data as it is retrieved. "
   ]
  },
  {
   "cell_type": "code",
   "execution_count": 10,
   "metadata": {
    "execution": {
     "iopub.execute_input": "2021-03-26T14:38:11.811053Z",
     "iopub.status.busy": "2021-03-26T14:38:11.810591Z",
     "iopub.status.idle": "2021-03-26T14:38:11.812588Z",
     "shell.execute_reply": "2021-03-26T14:38:11.812186Z"
    }
   },
   "outputs": [],
   "source": [
    "run_id_n = t_numeric_run_ids[0]\n",
    "run_id_a = t_array_run_ids[0]"
   ]
  },
  {
   "cell_type": "code",
   "execution_count": 11,
   "metadata": {
    "execution": {
     "iopub.execute_input": "2021-03-26T14:38:11.815567Z",
     "iopub.status.busy": "2021-03-26T14:38:11.815081Z",
     "iopub.status.idle": "2021-03-26T14:38:11.823729Z",
     "shell.execute_reply": "2021-03-26T14:38:11.823323Z"
    },
    "scrolled": true
   },
   "outputs": [
    {
     "data": {
      "text/plain": [
       "{'x1': {'x1': array([0.30069648, 0.30069648, 0.86561081, 0.86561081, 0.40432294,\n",
       "         0.40432294, 0.7844756 , 0.7844756 , 0.99578261, 0.99578261,\n",
       "         0.03311728, 0.03311728, 0.8105188 , 0.8105188 , 0.07823308,\n",
       "         0.07823308, 0.44586106, 0.44586106, 0.78766515, 0.78766515,\n",
       "         0.41107019, 0.41107019, 0.67153096, 0.67153096, 0.47195084,\n",
       "         0.47195084, 0.69572848, 0.69572848, 0.16271106, 0.16271106,\n",
       "         0.89476357, 0.89476357, 0.78247802, 0.78247802, 0.51075421,\n",
       "         0.51075421, 0.73828612, 0.73828612, 0.72172854, 0.72172854,\n",
       "         0.75726765, 0.75726765, 0.589061  , 0.589061  , 0.52496258,\n",
       "         0.52496258, 0.26274582, 0.26274582, 0.22502391, 0.22502391,\n",
       "         0.55487441, 0.55487441, 0.22110748, 0.22110748, 0.34050009,\n",
       "         0.34050009, 0.32459433, 0.32459433, 0.80410833, 0.80410833,\n",
       "         0.22189706, 0.22189706, 0.20614262, 0.20614262, 0.0022947 ,\n",
       "         0.0022947 , 0.63496949, 0.63496949, 0.86949278, 0.86949278,\n",
       "         0.23302841, 0.23302841, 0.63277268, 0.63277268, 0.8149072 ,\n",
       "         0.8149072 , 0.97926425, 0.97926425, 0.47955557, 0.47955557,\n",
       "         0.85714195, 0.85714195, 0.73642304, 0.73642304, 0.56148758,\n",
       "         0.56148758, 0.76119344, 0.76119344, 0.62846391, 0.62846391,\n",
       "         0.89244027, 0.89244027, 0.18436816, 0.18436816, 0.75031546,\n",
       "         0.75031546, 0.05861347, 0.05861347, 0.33948145, 0.33948145,\n",
       "         0.94716473, 0.94716473, 0.99345514, 0.99345514, 0.68566632,\n",
       "         0.68566632, 0.52148018, 0.52148018, 0.54060914, 0.54060914,\n",
       "         0.44038338, 0.44038338, 0.14787777, 0.14787777, 0.84626821,\n",
       "         0.84626821, 0.69476143, 0.69476143, 0.17393428, 0.17393428,\n",
       "         0.90799581, 0.90799581, 0.36678163, 0.36678163, 0.5379079 ,\n",
       "         0.5379079 , 0.04549257, 0.04549257, 0.88138576, 0.88138576,\n",
       "         0.13913315, 0.13913315, 0.1906324 , 0.1906324 , 0.96430574,\n",
       "         0.96430574, 0.42291973, 0.42291973, 0.62589951, 0.62589951,\n",
       "         0.44243792, 0.44243792, 0.145548  , 0.145548  , 0.00797266,\n",
       "         0.00797266, 0.00863275, 0.00863275, 0.17949112, 0.17949112,\n",
       "         0.2826566 , 0.2826566 , 0.8012541 , 0.8012541 , 0.06190155,\n",
       "         0.06190155, 0.55846575, 0.55846575, 0.62801083, 0.62801083,\n",
       "         0.48462511, 0.48462511, 0.47268902, 0.47268902, 0.74651741,\n",
       "         0.74651741, 0.44774672, 0.44774672, 0.53054207, 0.53054207,\n",
       "         0.45995801, 0.45995801, 0.08950219, 0.08950219, 0.6398482 ,\n",
       "         0.6398482 , 0.86952606, 0.86952606, 0.76173123, 0.76173123,\n",
       "         0.741886  , 0.741886  , 0.7890115 , 0.7890115 , 0.84406497,\n",
       "         0.84406497, 0.07153721, 0.07153721, 0.32958442, 0.32958442,\n",
       "         0.08992047, 0.08992047, 0.84982263, 0.84982263, 0.32014166,\n",
       "         0.32014166, 0.37483436, 0.37483436, 0.90246372, 0.90246372])}}"
      ]
     },
     "execution_count": 1,
     "metadata": {},
     "output_type": "execute_result"
    }
   ],
   "source": [
    "ds = load_by_id(run_id_n)\n",
    "ds.get_parameter_data('x1')"
   ]
  },
  {
   "cell_type": "markdown",
   "metadata": {},
   "source": [
    "And a dataset stored as binary arrays"
   ]
  },
  {
   "cell_type": "code",
   "execution_count": 12,
   "metadata": {
    "execution": {
     "iopub.execute_input": "2021-03-26T14:38:11.826730Z",
     "iopub.status.busy": "2021-03-26T14:38:11.826184Z",
     "iopub.status.idle": "2021-03-26T14:38:11.880177Z",
     "shell.execute_reply": "2021-03-26T14:38:11.881022Z"
    },
    "scrolled": true
   },
   "outputs": [
    {
     "data": {
      "text/plain": [
       "{'x1': {'x1': array([[0.97262656],\n",
       "         [0.97262656],\n",
       "         [0.09468587],\n",
       "         [0.09468587],\n",
       "         [0.39199046],\n",
       "         [0.39199046],\n",
       "         [0.32893755],\n",
       "         [0.32893755],\n",
       "         [0.03018689],\n",
       "         [0.03018689],\n",
       "         [0.30331075],\n",
       "         [0.30331075],\n",
       "         [0.98914835],\n",
       "         [0.98914835],\n",
       "         [0.53586899],\n",
       "         [0.53586899],\n",
       "         [0.10257554],\n",
       "         [0.10257554],\n",
       "         [0.64201141],\n",
       "         [0.64201141],\n",
       "         [0.09802888],\n",
       "         [0.09802888],\n",
       "         [0.19471748],\n",
       "         [0.19471748],\n",
       "         [0.8667877 ],\n",
       "         [0.8667877 ],\n",
       "         [0.84678255],\n",
       "         [0.84678255],\n",
       "         [0.85455787],\n",
       "         [0.85455787],\n",
       "         [0.8909152 ],\n",
       "         [0.8909152 ],\n",
       "         [0.04457166],\n",
       "         [0.04457166],\n",
       "         [0.68941969],\n",
       "         [0.68941969],\n",
       "         [0.72747213],\n",
       "         [0.72747213],\n",
       "         [0.38367813],\n",
       "         [0.38367813],\n",
       "         [0.09852075],\n",
       "         [0.09852075],\n",
       "         [0.10447426],\n",
       "         [0.10447426],\n",
       "         [0.62097872],\n",
       "         [0.62097872],\n",
       "         [0.41495181],\n",
       "         [0.41495181],\n",
       "         [0.73111618],\n",
       "         [0.73111618],\n",
       "         [0.6707603 ],\n",
       "         [0.6707603 ],\n",
       "         [0.46618851],\n",
       "         [0.46618851],\n",
       "         [0.99248231],\n",
       "         [0.99248231],\n",
       "         [0.04874522],\n",
       "         [0.04874522],\n",
       "         [0.41390677],\n",
       "         [0.41390677],\n",
       "         [0.47999721],\n",
       "         [0.47999721],\n",
       "         [0.63431346],\n",
       "         [0.63431346],\n",
       "         [0.78920251],\n",
       "         [0.78920251],\n",
       "         [0.63145101],\n",
       "         [0.63145101],\n",
       "         [0.94853109],\n",
       "         [0.94853109],\n",
       "         [0.72769704],\n",
       "         [0.72769704],\n",
       "         [0.50514001],\n",
       "         [0.50514001],\n",
       "         [0.17046355],\n",
       "         [0.17046355],\n",
       "         [0.33828511],\n",
       "         [0.33828511],\n",
       "         [0.50835315],\n",
       "         [0.50835315],\n",
       "         [0.21733762],\n",
       "         [0.21733762],\n",
       "         [0.94919286],\n",
       "         [0.94919286],\n",
       "         [0.88670368],\n",
       "         [0.88670368],\n",
       "         [0.72347652],\n",
       "         [0.72347652],\n",
       "         [0.60051785],\n",
       "         [0.60051785],\n",
       "         [0.96252904],\n",
       "         [0.96252904],\n",
       "         [0.80089754],\n",
       "         [0.80089754],\n",
       "         [0.18967356],\n",
       "         [0.18967356],\n",
       "         [0.33660158],\n",
       "         [0.33660158],\n",
       "         [0.34859854],\n",
       "         [0.34859854],\n",
       "         [0.65352399],\n",
       "         [0.65352399],\n",
       "         [0.97106853],\n",
       "         [0.97106853],\n",
       "         [0.88604314],\n",
       "         [0.88604314],\n",
       "         [0.49178358],\n",
       "         [0.49178358],\n",
       "         [0.87421134],\n",
       "         [0.87421134],\n",
       "         [0.26028251],\n",
       "         [0.26028251],\n",
       "         [0.87192491],\n",
       "         [0.87192491],\n",
       "         [0.63957166],\n",
       "         [0.63957166],\n",
       "         [0.59231093],\n",
       "         [0.59231093],\n",
       "         [0.07740659],\n",
       "         [0.07740659],\n",
       "         [0.98498881],\n",
       "         [0.98498881],\n",
       "         [0.07312585],\n",
       "         [0.07312585],\n",
       "         [0.21801819],\n",
       "         [0.21801819],\n",
       "         [0.6126512 ],\n",
       "         [0.6126512 ],\n",
       "         [0.53514813],\n",
       "         [0.53514813],\n",
       "         [0.37374361],\n",
       "         [0.37374361],\n",
       "         [0.05396493],\n",
       "         [0.05396493],\n",
       "         [0.85470862],\n",
       "         [0.85470862],\n",
       "         [0.36990291],\n",
       "         [0.36990291],\n",
       "         [0.63799534],\n",
       "         [0.63799534],\n",
       "         [0.66105747],\n",
       "         [0.66105747],\n",
       "         [0.21828918],\n",
       "         [0.21828918],\n",
       "         [0.58098877],\n",
       "         [0.58098877],\n",
       "         [0.53998026],\n",
       "         [0.53998026],\n",
       "         [0.3068782 ],\n",
       "         [0.3068782 ],\n",
       "         [0.07625496],\n",
       "         [0.07625496],\n",
       "         [0.72386369],\n",
       "         [0.72386369],\n",
       "         [0.62767566],\n",
       "         [0.62767566],\n",
       "         [0.80529836],\n",
       "         [0.80529836],\n",
       "         [0.65731372],\n",
       "         [0.65731372],\n",
       "         [0.25396923],\n",
       "         [0.25396923],\n",
       "         [0.81446705],\n",
       "         [0.81446705],\n",
       "         [0.20667686],\n",
       "         [0.20667686],\n",
       "         [0.04031959],\n",
       "         [0.04031959],\n",
       "         [0.27484515],\n",
       "         [0.27484515],\n",
       "         [0.34245716],\n",
       "         [0.34245716],\n",
       "         [0.42703047],\n",
       "         [0.42703047],\n",
       "         [0.11363485],\n",
       "         [0.11363485],\n",
       "         [0.61371358],\n",
       "         [0.61371358],\n",
       "         [0.42955778],\n",
       "         [0.42955778],\n",
       "         [0.03840238],\n",
       "         [0.03840238],\n",
       "         [0.48524672],\n",
       "         [0.48524672],\n",
       "         [0.92577451],\n",
       "         [0.92577451],\n",
       "         [0.48405396],\n",
       "         [0.48405396],\n",
       "         [0.85588445],\n",
       "         [0.85588445],\n",
       "         [0.92292391],\n",
       "         [0.92292391],\n",
       "         [0.47460982],\n",
       "         [0.47460982],\n",
       "         [0.58333091],\n",
       "         [0.58333091],\n",
       "         [0.75675028],\n",
       "         [0.75675028],\n",
       "         [0.25941325],\n",
       "         [0.25941325]])}}"
      ]
     },
     "execution_count": 1,
     "metadata": {},
     "output_type": "execute_result"
    }
   ],
   "source": [
    "ds = load_by_id(run_id_a)\n",
    "ds.get_parameter_data('x1')"
   ]
  },
  {
   "cell_type": "code",
   "execution_count": null,
   "metadata": {},
   "outputs": [],
   "source": []
  }
 ],
 "metadata": {
  "kernelspec": {
   "display_name": "Python 3",
   "language": "python",
   "name": "python3"
  },
  "language_info": {
   "codemirror_mode": {
    "name": "ipython",
    "version": 3
   },
   "file_extension": ".py",
   "mimetype": "text/x-python",
   "name": "python",
   "nbconvert_exporter": "python",
   "pygments_lexer": "ipython3",
   "version": "3.7.10"
  },
  "nbsphinx": {
   "timeout": 600
  },
  "toc": {
   "base_numbering": 1,
   "nav_menu": {},
   "number_sections": true,
   "sideBar": true,
   "skip_h1_title": false,
   "title_cell": "Table of Contents",
   "title_sidebar": "Contents",
   "toc_cell": false,
   "toc_position": {},
   "toc_section_display": true,
   "toc_window_display": false
  },
  "varInspector": {
   "cols": {
    "lenName": 16,
    "lenType": 16,
    "lenVar": 40
   },
   "kernels_config": {
    "python": {
     "delete_cmd_postfix": "",
     "delete_cmd_prefix": "del ",
     "library": "var_list.py",
     "varRefreshCmd": "print(var_dic_list())"
    },
    "r": {
     "delete_cmd_postfix": ") ",
     "delete_cmd_prefix": "rm(",
     "library": "var_list.r",
     "varRefreshCmd": "cat(var_dic_list()) "
    }
   },
   "types_to_exclude": [
    "module",
    "function",
    "builtin_function_or_method",
    "instance",
    "_Feature"
   ],
   "window_display": false
  }
 },
 "nbformat": 4,
 "nbformat_minor": 2
}
