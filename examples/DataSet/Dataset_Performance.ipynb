{
 "cells": [
  {
   "cell_type": "markdown",
   "metadata": {},
   "source": [
    "# DataSet Performance\n",
    "\n",
    "This notebook shows the trade-off between inserting data into a database row-by-row and as binary blobs. Inserting the data row-by-row means that we have direct access to all the data and may perform queries directly on the values of the data. On the other hand, as we shall see, this is much slower than inserting the data directly as binary blobs."
   ]
  },
  {
   "cell_type": "markdown",
   "metadata": {},
   "source": [
    "First, we choose a new location for the database to ensure that we don't add a bunch of benchmarking data to the default one."
   ]
  },
  {
   "cell_type": "code",
   "execution_count": 1,
   "metadata": {},
   "outputs": [
    {
     "name": "stdout",
     "output_type": "stream",
     "text": [
      "Logging hadn't been started.\n",
      "Activating auto-logging. Current session state plus future input saved.\n",
      "Filename       : /home/vsts/.qcodes/logs/command_history.log\n",
      "Mode           : append\n",
      "Output logging : True\n",
      "Raw input log  : False\n",
      "Timestamping   : True\n",
      "State          : active\n"
     ]
    },
    {
     "name": "stdout",
     "output_type": "stream",
     "text": [
      "Qcodes Logfile : /home/vsts/.qcodes/logs/200207-18244-qcodes.log\n"
     ]
    }
   ],
   "source": [
    "import os\n",
    "cwd = os.getcwd()\n",
    "import qcodes as qc\n",
    "qc.config[\"core\"][\"db_location\"] = os.path.join(cwd, 'testing.db')\n"
   ]
  },
  {
   "cell_type": "code",
   "execution_count": 2,
   "metadata": {},
   "outputs": [],
   "source": [
    "%matplotlib inline\n",
    "import time\n",
    "import matplotlib.pyplot as plt\n",
    "import numpy as np\n",
    "\n",
    "import qcodes as qc\n",
    "from qcodes.instrument.parameter import ManualParameter\n",
    "from qcodes.dataset.experiment_container import (Experiment,\n",
    "                                                 load_last_experiment,\n",
    "                                                 new_experiment)\n",
    "from qcodes.dataset.sqlite.database import initialise_database\n",
    "from qcodes import load_or_create_experiment\n",
    "from qcodes.dataset.measurements import Measurement"
   ]
  },
  {
   "cell_type": "code",
   "execution_count": 3,
   "metadata": {},
   "outputs": [
    {
     "name": "stdout",
     "output_type": "stream",
     "text": [
      "\r",
      "0it [00:00, ?it/s]"
     ]
    },
    {
     "name": "stdout",
     "output_type": "stream",
     "text": [
      "\r",
      "Upgrading database; v0 -> v1: : 0it [00:00, ?it/s]"
     ]
    },
    {
     "name": "stdout",
     "output_type": "stream",
     "text": [
      "\r",
      "Upgrading database; v0 -> v1: : 0it [00:00, ?it/s]"
     ]
    },
    {
     "name": "stdout",
     "output_type": "stream",
     "text": [
      "\n",
      "\r",
      "  0%|          | 0/1 [00:00<?, ?it/s]"
     ]
    },
    {
     "name": "stdout",
     "output_type": "stream",
     "text": [
      "\r",
      "Upgrading database; v1 -> v2:   0%|          | 0/1 [00:00<?, ?it/s]"
     ]
    },
    {
     "name": "stdout",
     "output_type": "stream",
     "text": [
      "\r",
      "Upgrading database; v1 -> v2: 100%|██████████| 1/1 [00:00<00:00, 900.45it/s]"
     ]
    },
    {
     "name": "stdout",
     "output_type": "stream",
     "text": [
      "\n",
      "\r",
      "0it [00:00, ?it/s]"
     ]
    },
    {
     "name": "stdout",
     "output_type": "stream",
     "text": [
      "\r",
      "Upgrading database; v2 -> v3: : 0it [00:00, ?it/s]"
     ]
    },
    {
     "name": "stdout",
     "output_type": "stream",
     "text": [
      "\r",
      "Upgrading database; v2 -> v3: : 0it [00:00, ?it/s]"
     ]
    },
    {
     "name": "stdout",
     "output_type": "stream",
     "text": [
      "\n",
      "\r",
      "0it [00:00, ?it/s]"
     ]
    },
    {
     "name": "stdout",
     "output_type": "stream",
     "text": [
      "\r",
      "Upgrading database; v3 -> v4: : 0it [00:00, ?it/s]"
     ]
    },
    {
     "name": "stdout",
     "output_type": "stream",
     "text": [
      "\r",
      "Upgrading database; v3 -> v4: : 0it [00:00, ?it/s]"
     ]
    },
    {
     "name": "stdout",
     "output_type": "stream",
     "text": [
      "\n",
      "\r",
      "  0%|          | 0/1 [00:00<?, ?it/s]"
     ]
    },
    {
     "name": "stdout",
     "output_type": "stream",
     "text": [
      "\r",
      "Upgrading database; v4 -> v5:   0%|          | 0/1 [00:00<?, ?it/s]"
     ]
    },
    {
     "name": "stdout",
     "output_type": "stream",
     "text": [
      "\r",
      "Upgrading database; v4 -> v5: 100%|██████████| 1/1 [00:00<00:00, 752.88it/s]"
     ]
    },
    {
     "name": "stdout",
     "output_type": "stream",
     "text": [
      "\n",
      "\r",
      "0it [00:00, ?it/s]"
     ]
    },
    {
     "name": "stdout",
     "output_type": "stream",
     "text": [
      "\r",
      "Upgrading database; v5 -> v6: : 0it [00:00, ?it/s]"
     ]
    },
    {
     "name": "stdout",
     "output_type": "stream",
     "text": [
      "\r",
      "Upgrading database; v5 -> v6: : 0it [00:00, ?it/s]"
     ]
    },
    {
     "name": "stdout",
     "output_type": "stream",
     "text": [
      "\n",
      "\r",
      "  0%|          | 0/1 [00:00<?, ?it/s]"
     ]
    },
    {
     "name": "stdout",
     "output_type": "stream",
     "text": [
      "\r",
      "Upgrading database; v6 -> v7:   0%|          | 0/1 [00:00<?, ?it/s]"
     ]
    },
    {
     "name": "stdout",
     "output_type": "stream",
     "text": [
      "\r",
      "Upgrading database; v6 -> v7: 100%|██████████| 1/1 [00:00<00:00, 412.62it/s]"
     ]
    },
    {
     "name": "stdout",
     "output_type": "stream",
     "text": [
      "\n",
      "\r",
      "  0%|          | 0/1 [00:00<?, ?it/s]"
     ]
    },
    {
     "name": "stdout",
     "output_type": "stream",
     "text": [
      "\r",
      "Upgrading database; v7 -> v8:   0%|          | 0/1 [00:00<?, ?it/s]"
     ]
    },
    {
     "name": "stdout",
     "output_type": "stream",
     "text": [
      "\r",
      "Upgrading database; v7 -> v8: 100%|██████████| 1/1 [00:00<00:00, 393.46it/s]"
     ]
    },
    {
     "name": "stdout",
     "output_type": "stream",
     "text": [
      "\n"
     ]
    }
   ],
   "source": [
    "initialise_database()\n",
    "exp = load_or_create_experiment(experiment_name='tutorial_exp', sample_name=\"no sample\")"
   ]
  },
  {
   "cell_type": "markdown",
   "metadata": {},
   "source": [
    "Here, we define a simple function to benchmark the time it takes to insert n points with either numeric or array data type.\n",
    "We will compare both the time used to call ``add_result`` and the time used for the full measurement."
   ]
  },
  {
   "cell_type": "code",
   "execution_count": 4,
   "metadata": {},
   "outputs": [],
   "source": [
    "def insert_data(paramtype, npoints, nreps=1):\n",
    "\n",
    "    meas = Measurement(exp=exp)\n",
    "\n",
    "    x1 = ManualParameter('x1')\n",
    "    x2 = ManualParameter('x2')\n",
    "    x3 = ManualParameter('x3')\n",
    "    y1 = ManualParameter('y1')\n",
    "    y2 = ManualParameter('y2')\n",
    "\n",
    "    meas.register_parameter(x1, paramtype=paramtype)\n",
    "    meas.register_parameter(x2, paramtype=paramtype)\n",
    "    meas.register_parameter(x3, paramtype=paramtype)\n",
    "    meas.register_parameter(y1, setpoints=[x1, x2, x3],\n",
    "                            paramtype=paramtype)\n",
    "    meas.register_parameter(y2, setpoints=[x1, x2, x3],\n",
    "                            paramtype=paramtype)\n",
    "    start = time.perf_counter()\n",
    "    with meas.run() as datasaver:\n",
    "        start_adding = time.perf_counter()\n",
    "        for i in range(nreps):\n",
    "            datasaver.add_result((x1, np.random.rand(npoints)),\n",
    "                                 (x2, np.random.rand(npoints)),\n",
    "                                 (x3, np.random.rand(npoints)),\n",
    "                                 (y1, np.random.rand(npoints)),\n",
    "                                 (y2, np.random.rand(npoints)))\n",
    "        stop_adding = time.perf_counter()\n",
    "        run_id = datasaver.run_id\n",
    "    stop = time.perf_counter()\n",
    "    tot_time = stop - start\n",
    "    add_time = stop_adding - start_adding\n",
    "    return tot_time, add_time, run_id"
   ]
  },
  {
   "cell_type": "markdown",
   "metadata": {},
   "source": [
    "## Comparison between numeric/array data and binary blob"
   ]
  },
  {
   "cell_type": "markdown",
   "metadata": {},
   "source": [
    "### Case1: Short experiment time"
   ]
  },
  {
   "cell_type": "code",
   "execution_count": 5,
   "metadata": {},
   "outputs": [
    {
     "name": "stdout",
     "output_type": "stream",
     "text": [
      "Starting experimental run with id: 1. \n",
      "Starting experimental run with id: 2. \n",
      "Starting experimental run with id: 3. \n",
      "Starting experimental run with id: 4. \n"
     ]
    },
    {
     "name": "stdout",
     "output_type": "stream",
     "text": [
      "Starting experimental run with id: 5. \n"
     ]
    },
    {
     "name": "stdout",
     "output_type": "stream",
     "text": [
      "Starting experimental run with id: 6. \n",
      "Starting experimental run with id: 7. \n"
     ]
    },
    {
     "name": "stdout",
     "output_type": "stream",
     "text": [
      "Starting experimental run with id: 8. \n"
     ]
    },
    {
     "name": "stdout",
     "output_type": "stream",
     "text": [
      "Starting experimental run with id: 9. \n"
     ]
    },
    {
     "name": "stdout",
     "output_type": "stream",
     "text": [
      "Starting experimental run with id: 10. \n",
      "Starting experimental run with id: 11. \n"
     ]
    },
    {
     "name": "stdout",
     "output_type": "stream",
     "text": [
      "Starting experimental run with id: 12. \n"
     ]
    },
    {
     "name": "stdout",
     "output_type": "stream",
     "text": [
      "Starting experimental run with id: 13. \n",
      "Starting experimental run with id: 14. \n"
     ]
    }
   ],
   "source": [
    "sizes = [1,500,1000,2000,3000,4000,5000]\n",
    "t_numeric = []\n",
    "t_numeric_add = []\n",
    "t_array = []\n",
    "t_array_add = []\n",
    "for size in sizes:\n",
    "    tn, tna, run_id_n =  insert_data('numeric', size)\n",
    "    t_numeric.append(tn)\n",
    "    t_numeric_add.append(tna)\n",
    "\n",
    "    ta, taa, run_id_a =  insert_data('array', size)\n",
    "    t_array.append(ta)\n",
    "    t_array_add.append(taa)"
   ]
  },
  {
   "cell_type": "code",
   "execution_count": 6,
   "metadata": {},
   "outputs": [
    {
     "data": {
      "image/png": "[encoded data removed]",
      "text/plain": [
       "<Figure size 432x288 with 1 Axes>"
      ]
     },
     "metadata": {
      "needs_background": "light"
     },
     "output_type": "display_data"
    }
   ],
   "source": [
    "fig, ax = plt.subplots(1,1)\n",
    "ax.plot(sizes, t_numeric, 'o-', label='Inserting row-by-row')\n",
    "ax.plot(sizes, t_numeric_add, 'o-', label='Inserting row-by-row: add_result only')\n",
    "ax.plot(sizes, t_array, 'd-', label='Inserting as binary blob')\n",
    "ax.plot(sizes, t_array_add, 'd-', label='Inserting as binary blob: add_result only')\n",
    "ax.legend()\n",
    "ax.set_xlabel('Array length')\n",
    "ax.set_ylabel('Time (s)')\n",
    "fig.tight_layout()"
   ]
  },
  {
   "cell_type": "markdown",
   "metadata": {},
   "source": [
    "As shown in the latter figure, the time to setup and and close the experiment is approximately 0.4 sec. In case of small array sizes, the difference between inserting values of data as arrays and inserting them row-by-row is relatively unimportant. At larger array sizes, i.e. above 10000 points, the cost of writing data as individual datapoints starts to become important.\n"
   ]
  },
  {
   "cell_type": "markdown",
   "metadata": {},
   "source": [
    "### Case2: Long experiment time "
   ]
  },
  {
   "cell_type": "code",
   "execution_count": 7,
   "metadata": {},
   "outputs": [
    {
     "name": "stdout",
     "output_type": "stream",
     "text": [
      "Starting experimental run with id: 15. \n",
      "Starting experimental run with id: 16. \n",
      "Starting experimental run with id: 17. \n"
     ]
    },
    {
     "name": "stdout",
     "output_type": "stream",
     "text": [
      "Starting experimental run with id: 18. \n",
      "Starting experimental run with id: 19. \n"
     ]
    },
    {
     "name": "stdout",
     "output_type": "stream",
     "text": [
      "Starting experimental run with id: 20. \n"
     ]
    },
    {
     "name": "stdout",
     "output_type": "stream",
     "text": [
      "Starting experimental run with id: 21. \n"
     ]
    },
    {
     "name": "stdout",
     "output_type": "stream",
     "text": [
      "Starting experimental run with id: 22. \n"
     ]
    },
    {
     "name": "stdout",
     "output_type": "stream",
     "text": [
      "Starting experimental run with id: 23. \n"
     ]
    },
    {
     "name": "stdout",
     "output_type": "stream",
     "text": [
      "Starting experimental run with id: 24. \n"
     ]
    },
    {
     "name": "stdout",
     "output_type": "stream",
     "text": [
      "Starting experimental run with id: 25. \n"
     ]
    },
    {
     "name": "stdout",
     "output_type": "stream",
     "text": [
      "Starting experimental run with id: 26. \n"
     ]
    },
    {
     "name": "stdout",
     "output_type": "stream",
     "text": [
      "Starting experimental run with id: 27. \n"
     ]
    },
    {
     "name": "stdout",
     "output_type": "stream",
     "text": [
      "Starting experimental run with id: 28. \n"
     ]
    }
   ],
   "source": [
    "sizes = [1,500,1000,2000,3000,4000,5000]\n",
    "nreps = 100\n",
    "t_numeric = []\n",
    "t_numeric_add = []\n",
    "t_numeric_run_ids = []\n",
    "t_array = []\n",
    "t_array_add = []\n",
    "t_array_run_ids = []\n",
    "for size in sizes:\n",
    "    tn, tna, run_id_n =  insert_data('numeric', size, nreps=nreps)\n",
    "    t_numeric.append(tn)\n",
    "    t_numeric_add.append(tna)\n",
    "    t_numeric_run_ids.append(run_id_n)\n",
    "\n",
    "    ta, taa, run_id_a =  insert_data('array', size, nreps=nreps)\n",
    "    t_array.append(ta)\n",
    "    t_array_add.append(taa)\n",
    "    t_array_run_ids.append(run_id_a)"
   ]
  },
  {
   "cell_type": "code",
   "execution_count": 8,
   "metadata": {
    "scrolled": true
   },
   "outputs": [
    {
     "data": {
      "image/png": "[encoded data removed]",
      "text/plain": [
       "<Figure size 432x288 with 1 Axes>"
      ]
     },
     "metadata": {
      "needs_background": "light"
     },
     "output_type": "display_data"
    }
   ],
   "source": [
    "fig, ax = plt.subplots(1,1)\n",
    "ax.plot(sizes, t_numeric, 'o-', label='Inserting row-by-row')\n",
    "ax.plot(sizes, t_numeric_add, 'o-', label='Inserting row-by-row: add_result only')\n",
    "ax.plot(sizes, t_array, 'd-', label='Inserting as binary blob')\n",
    "ax.plot(sizes, t_array_add, 'd-', label='Inserting as binary blob: add_result only')\n",
    "ax.legend()\n",
    "ax.set_xlabel('Array length')\n",
    "ax.set_ylabel('Time (s)')\n",
    "fig.tight_layout()"
   ]
  },
  {
   "cell_type": "markdown",
   "metadata": {},
   "source": [
    "However, as we increase the length of the experiment, as seen here by repeating the insertion 100 times, we see a big difference between inserting values of the data row-by-row and inserting it as a binary blob."
   ]
  },
  {
   "cell_type": "markdown",
   "metadata": {},
   "source": [
    "## Loading the data "
   ]
  },
  {
   "cell_type": "code",
   "execution_count": 9,
   "metadata": {},
   "outputs": [],
   "source": [
    "from qcodes.dataset.data_set import load_by_id\n",
    "from qcodes.dataset.data_export import get_data_by_id"
   ]
  },
  {
   "cell_type": "markdown",
   "metadata": {},
   "source": [
    "As usual you can load the data by using the ``load_by_id`` function but you will notice that the different storage methods\n",
    "are reflected in shape of the data as it is retrieved. "
   ]
  },
  {
   "cell_type": "code",
   "execution_count": 10,
   "metadata": {},
   "outputs": [],
   "source": [
    "run_id_n = t_numeric_run_ids[0]\n",
    "run_id_a = t_array_run_ids[0]"
   ]
  },
  {
   "cell_type": "code",
   "execution_count": 11,
   "metadata": {
    "scrolled": true
   },
   "outputs": [
    {
     "data": {
      "text/plain": [
       "{'x1': {'x1': array([0.49182611, 0.49182611, 0.64746176, 0.64746176, 0.00379298,\n",
       "         0.00379298, 0.5310433 , 0.5310433 , 0.75341073, 0.75341073,\n",
       "         0.50551735, 0.50551735, 0.32160141, 0.32160141, 0.07502765,\n",
       "         0.07502765, 0.16455694, 0.16455694, 0.5572591 , 0.5572591 ,\n",
       "         0.0750381 , 0.0750381 , 0.43731121, 0.43731121, 0.96672249,\n",
       "         0.96672249, 0.46890763, 0.46890763, 0.61442629, 0.61442629,\n",
       "         0.68597046, 0.68597046, 0.50310695, 0.50310695, 0.95151262,\n",
       "         0.95151262, 0.05008624, 0.05008624, 0.21585052, 0.21585052,\n",
       "         0.25776008, 0.25776008, 0.03853178, 0.03853178, 0.62762356,\n",
       "         0.62762356, 0.37071073, 0.37071073, 0.99223661, 0.99223661,\n",
       "         0.65999672, 0.65999672, 0.44006831, 0.44006831, 0.17258419,\n",
       "         0.17258419, 0.11095807, 0.11095807, 0.45840458, 0.45840458,\n",
       "         0.92835168, 0.92835168, 0.17414135, 0.17414135, 0.29881636,\n",
       "         0.29881636, 0.35006263, 0.35006263, 0.19531003, 0.19531003,\n",
       "         0.25351479, 0.25351479, 0.94413943, 0.94413943, 0.77749868,\n",
       "         0.77749868, 0.85381461, 0.85381461, 0.23227442, 0.23227442,\n",
       "         0.0834153 , 0.0834153 , 0.3081204 , 0.3081204 , 0.67270797,\n",
       "         0.67270797, 0.73246567, 0.73246567, 0.09346996, 0.09346996,\n",
       "         0.99534565, 0.99534565, 0.32312849, 0.32312849, 0.26740843,\n",
       "         0.26740843, 0.4636525 , 0.4636525 , 0.71103264, 0.71103264,\n",
       "         0.53933151, 0.53933151, 0.25391627, 0.25391627, 0.00134121,\n",
       "         0.00134121, 0.63537488, 0.63537488, 0.5892774 , 0.5892774 ,\n",
       "         0.12685191, 0.12685191, 0.47155558, 0.47155558, 0.8874878 ,\n",
       "         0.8874878 , 0.99067352, 0.99067352, 0.93187728, 0.93187728,\n",
       "         0.79998084, 0.79998084, 0.93154871, 0.93154871, 0.21736876,\n",
       "         0.21736876, 0.85422654, 0.85422654, 0.4716496 , 0.4716496 ,\n",
       "         0.50000752, 0.50000752, 0.78085569, 0.78085569, 0.21890305,\n",
       "         0.21890305, 0.74665578, 0.74665578, 0.0485091 , 0.0485091 ,\n",
       "         0.04640963, 0.04640963, 0.92489708, 0.92489708, 0.8033863 ,\n",
       "         0.8033863 , 0.84572912, 0.84572912, 0.17398696, 0.17398696,\n",
       "         0.83206189, 0.83206189, 0.03557448, 0.03557448, 0.38257179,\n",
       "         0.38257179, 0.68841999, 0.68841999, 0.70557386, 0.70557386,\n",
       "         0.79137125, 0.79137125, 0.79109452, 0.79109452, 0.24368512,\n",
       "         0.24368512, 0.62395384, 0.62395384, 0.83316791, 0.83316791,\n",
       "         0.77610217, 0.77610217, 0.18996563, 0.18996563, 0.97158486,\n",
       "         0.97158486, 0.0893519 , 0.0893519 , 0.92273423, 0.92273423,\n",
       "         0.08312836, 0.08312836, 0.09318297, 0.09318297, 0.39681057,\n",
       "         0.39681057, 0.68253933, 0.68253933, 0.87635202, 0.87635202,\n",
       "         0.56114384, 0.56114384, 0.41089235, 0.41089235, 0.02695418,\n",
       "         0.02695418, 0.43365363, 0.43365363, 0.64390857, 0.64390857])}}"
      ]
     },
     "execution_count": 11,
     "metadata": {},
     "output_type": "execute_result"
    }
   ],
   "source": [
    "ds = load_by_id(run_id_n)\n",
    "ds.get_parameter_data('x1')"
   ]
  },
  {
   "cell_type": "markdown",
   "metadata": {},
   "source": [
    "And a dataset stored as binary arrays"
   ]
  },
  {
   "cell_type": "code",
   "execution_count": 12,
   "metadata": {
    "scrolled": true
   },
   "outputs": [
    {
     "data": {
      "text/plain": [
       "{'x1': {'x1': array([[0.64881211],\n",
       "         [0.64881211],\n",
       "         [0.23216709],\n",
       "         [0.23216709],\n",
       "         [0.14708521],\n",
       "         [0.14708521],\n",
       "         [0.33284477],\n",
       "         [0.33284477],\n",
       "         [0.54403116],\n",
       "         [0.54403116],\n",
       "         [0.49427692],\n",
       "         [0.49427692],\n",
       "         [0.16669684],\n",
       "         [0.16669684],\n",
       "         [0.02863347],\n",
       "         [0.02863347],\n",
       "         [0.67623013],\n",
       "         [0.67623013],\n",
       "         [0.42292327],\n",
       "         [0.42292327],\n",
       "         [0.91897189],\n",
       "         [0.91897189],\n",
       "         [0.94284132],\n",
       "         [0.94284132],\n",
       "         [0.932348  ],\n",
       "         [0.932348  ],\n",
       "         [0.20141533],\n",
       "         [0.20141533],\n",
       "         [0.1592201 ],\n",
       "         [0.1592201 ],\n",
       "         [0.61540503],\n",
       "         [0.61540503],\n",
       "         [0.70240844],\n",
       "         [0.70240844],\n",
       "         [0.14067358],\n",
       "         [0.14067358],\n",
       "         [0.30752313],\n",
       "         [0.30752313],\n",
       "         [0.54883626],\n",
       "         [0.54883626],\n",
       "         [0.06496892],\n",
       "         [0.06496892],\n",
       "         [0.8742287 ],\n",
       "         [0.8742287 ],\n",
       "         [0.61545406],\n",
       "         [0.61545406],\n",
       "         [0.22529474],\n",
       "         [0.22529474],\n",
       "         [0.21376807],\n",
       "         [0.21376807],\n",
       "         [0.55557969],\n",
       "         [0.55557969],\n",
       "         [0.97052634],\n",
       "         [0.97052634],\n",
       "         [0.30705369],\n",
       "         [0.30705369],\n",
       "         [0.12932645],\n",
       "         [0.12932645],\n",
       "         [0.45580212],\n",
       "         [0.45580212],\n",
       "         [0.62776928],\n",
       "         [0.62776928],\n",
       "         [0.7070374 ],\n",
       "         [0.7070374 ],\n",
       "         [0.72291026],\n",
       "         [0.72291026],\n",
       "         [0.25853591],\n",
       "         [0.25853591],\n",
       "         [0.61035851],\n",
       "         [0.61035851],\n",
       "         [0.30716362],\n",
       "         [0.30716362],\n",
       "         [0.03429848],\n",
       "         [0.03429848],\n",
       "         [0.41438091],\n",
       "         [0.41438091],\n",
       "         [0.60834681],\n",
       "         [0.60834681],\n",
       "         [0.87596244],\n",
       "         [0.87596244],\n",
       "         [0.81857948],\n",
       "         [0.81857948],\n",
       "         [0.61709576],\n",
       "         [0.61709576],\n",
       "         [0.81963304],\n",
       "         [0.81963304],\n",
       "         [0.41982145],\n",
       "         [0.41982145],\n",
       "         [0.36218668],\n",
       "         [0.36218668],\n",
       "         [0.59803983],\n",
       "         [0.59803983],\n",
       "         [0.1741715 ],\n",
       "         [0.1741715 ],\n",
       "         [0.38088967],\n",
       "         [0.38088967],\n",
       "         [0.46809333],\n",
       "         [0.46809333],\n",
       "         [0.48041798],\n",
       "         [0.48041798],\n",
       "         [0.71461107],\n",
       "         [0.71461107],\n",
       "         [0.58413739],\n",
       "         [0.58413739],\n",
       "         [0.50244601],\n",
       "         [0.50244601],\n",
       "         [0.84844242],\n",
       "         [0.84844242],\n",
       "         [0.43155926],\n",
       "         [0.43155926],\n",
       "         [0.2859941 ],\n",
       "         [0.2859941 ],\n",
       "         [0.25673594],\n",
       "         [0.25673594],\n",
       "         [0.67954629],\n",
       "         [0.67954629],\n",
       "         [0.95001573],\n",
       "         [0.95001573],\n",
       "         [0.2828155 ],\n",
       "         [0.2828155 ],\n",
       "         [0.10591208],\n",
       "         [0.10591208],\n",
       "         [0.26412243],\n",
       "         [0.26412243],\n",
       "         [0.41115244],\n",
       "         [0.41115244],\n",
       "         [0.54460293],\n",
       "         [0.54460293],\n",
       "         [0.44760571],\n",
       "         [0.44760571],\n",
       "         [0.19167156],\n",
       "         [0.19167156],\n",
       "         [0.41682557],\n",
       "         [0.41682557],\n",
       "         [0.2305519 ],\n",
       "         [0.2305519 ],\n",
       "         [0.35357675],\n",
       "         [0.35357675],\n",
       "         [0.22456749],\n",
       "         [0.22456749],\n",
       "         [0.93693454],\n",
       "         [0.93693454],\n",
       "         [0.479317  ],\n",
       "         [0.479317  ],\n",
       "         [0.1940085 ],\n",
       "         [0.1940085 ],\n",
       "         [0.58963062],\n",
       "         [0.58963062],\n",
       "         [0.30403676],\n",
       "         [0.30403676],\n",
       "         [0.45376683],\n",
       "         [0.45376683],\n",
       "         [0.94160226],\n",
       "         [0.94160226],\n",
       "         [0.92435514],\n",
       "         [0.92435514],\n",
       "         [0.08691793],\n",
       "         [0.08691793],\n",
       "         [0.94091017],\n",
       "         [0.94091017],\n",
       "         [0.21290832],\n",
       "         [0.21290832],\n",
       "         [0.84765136],\n",
       "         [0.84765136],\n",
       "         [0.30546548],\n",
       "         [0.30546548],\n",
       "         [0.74063439],\n",
       "         [0.74063439],\n",
       "         [0.52259054],\n",
       "         [0.52259054],\n",
       "         [0.54761404],\n",
       "         [0.54761404],\n",
       "         [0.86370951],\n",
       "         [0.86370951],\n",
       "         [0.83675711],\n",
       "         [0.83675711],\n",
       "         [0.19946982],\n",
       "         [0.19946982],\n",
       "         [0.31406127],\n",
       "         [0.31406127],\n",
       "         [0.12753266],\n",
       "         [0.12753266],\n",
       "         [0.90700441],\n",
       "         [0.90700441],\n",
       "         [0.95092286],\n",
       "         [0.95092286],\n",
       "         [0.37838255],\n",
       "         [0.37838255],\n",
       "         [0.57098627],\n",
       "         [0.57098627],\n",
       "         [0.67348873],\n",
       "         [0.67348873],\n",
       "         [0.45926476],\n",
       "         [0.45926476],\n",
       "         [0.87433796],\n",
       "         [0.87433796],\n",
       "         [0.22272843],\n",
       "         [0.22272843],\n",
       "         [0.64517378],\n",
       "         [0.64517378]])}}"
      ]
     },
     "execution_count": 12,
     "metadata": {},
     "output_type": "execute_result"
    }
   ],
   "source": [
    "ds = load_by_id(run_id_a)\n",
    "ds.get_parameter_data('x1')"
   ]
  },
  {
   "cell_type": "code",
   "execution_count": null,
   "metadata": {},
   "outputs": [],
   "source": []
  }
 ],
 "metadata": {
  "kernelspec": {
   "display_name": "Python 3",
   "language": "python",
   "name": "python3"
  },
  "language_info": {
   "codemirror_mode": {
    "name": "ipython",
    "version": 3
   },
   "file_extension": ".py",
   "mimetype": "text/x-python",
   "name": "python",
   "nbconvert_exporter": "python",
   "pygments_lexer": "ipython3",
   "version": "3.7.5"
  },
  "nbsphinx": {
   "timeout": 600
  },
  "toc": {
   "base_numbering": 1,
   "nav_menu": {},
   "number_sections": true,
   "sideBar": true,
   "skip_h1_title": false,
   "title_cell": "Table of Contents",
   "title_sidebar": "Contents",
   "toc_cell": false,
   "toc_position": {},
   "toc_section_display": true,
   "toc_window_display": false
  },
  "varInspector": {
   "cols": {
    "lenName": 16,
    "lenType": 16,
    "lenVar": 40
   },
   "kernels_config": {
    "python": {
     "delete_cmd_postfix": "",
     "delete_cmd_prefix": "del ",
     "library": "var_list.py",
     "varRefreshCmd": "print(var_dic_list())"
    },
    "r": {
     "delete_cmd_postfix": ") ",
     "delete_cmd_prefix": "rm(",
     "library": "var_list.r",
     "varRefreshCmd": "cat(var_dic_list()) "
    }
   },
   "types_to_exclude": [
    "module",
    "function",
    "builtin_function_or_method",
    "instance",
    "_Feature"
   ],
   "window_display": false
  }
 },
 "nbformat": 4,
 "nbformat_minor": 2
}
