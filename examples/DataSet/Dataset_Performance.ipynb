{
 "cells": [
  {
   "cell_type": "markdown",
   "metadata": {},
   "source": [
    "# DataSet Performance\n",
    "\n",
    "This notebook shows the trade-off between inserting data into a database row-by-row and as binary blobs. Inserting the data row-by-row means that we have direct access to all the data and may perform queries directly on the values of the data. On the other hand, as we shall see, this is much slower than inserting the data directly as binary blobs."
   ]
  },
  {
   "cell_type": "markdown",
   "metadata": {},
   "source": [
    "First, we choose a new location for the database to ensure that we don't add a bunch of benchmarking data to the default one."
   ]
  },
  {
   "cell_type": "code",
   "execution_count": 1,
   "metadata": {
    "execution": {
     "iopub.execute_input": "2021-04-21T13:55:58.032688Z",
     "iopub.status.busy": "2021-04-21T13:55:58.032159Z",
     "iopub.status.idle": "2021-04-21T13:55:59.245176Z",
     "shell.execute_reply": "2021-04-21T13:55:59.244303Z"
    }
   },
   "outputs": [
    {
     "name": "stdout",
     "output_type": "stream",
     "text": [
      "Logging hadn't been started.\n",
      "Activating auto-logging. Current session state plus future input saved.\n",
      "Filename       : /home/runner/.qcodes/logs/command_history.log\n",
      "Mode           : append\n",
      "Output logging : True\n",
      "Raw input log  : False\n",
      "Timestamping   : True\n",
      "State          : active\n"
     ]
    },
    {
     "name": "stdout",
     "output_type": "stream",
     "text": [
      "Qcodes Logfile : /home/runner/.qcodes/logs/210421-4404-qcodes.log\n"
     ]
    }
   ],
   "source": [
    "import os\n",
    "cwd = os.getcwd()\n",
    "import qcodes as qc\n",
    "qc.config[\"core\"][\"db_location\"] = os.path.join(cwd, 'testing.db')\n"
   ]
  },
  {
   "cell_type": "code",
   "execution_count": 2,
   "metadata": {
    "execution": {
     "iopub.execute_input": "2021-04-21T13:55:59.252459Z",
     "iopub.status.busy": "2021-04-21T13:55:59.251330Z",
     "iopub.status.idle": "2021-04-21T13:55:59.475772Z",
     "shell.execute_reply": "2021-04-21T13:55:59.474875Z"
    }
   },
   "outputs": [],
   "source": [
    "%matplotlib inline\n",
    "import time\n",
    "import matplotlib.pyplot as plt\n",
    "import numpy as np\n",
    "\n",
    "import qcodes as qc\n",
    "from qcodes.instrument.parameter import ManualParameter\n",
    "from qcodes.dataset.experiment_container import (Experiment,\n",
    "                                                 load_last_experiment,\n",
    "                                                 new_experiment)\n",
    "from qcodes.dataset.sqlite.database import initialise_database\n",
    "from qcodes import load_or_create_experiment\n",
    "from qcodes.dataset.measurements import Measurement"
   ]
  },
  {
   "cell_type": "code",
   "execution_count": 3,
   "metadata": {
    "execution": {
     "iopub.execute_input": "2021-04-21T13:55:59.481287Z",
     "iopub.status.busy": "2021-04-21T13:55:59.480656Z",
     "iopub.status.idle": "2021-04-21T13:55:59.609872Z",
     "shell.execute_reply": "2021-04-21T13:55:59.609315Z"
    }
   },
   "outputs": [
    {
     "name": "stdout",
     "output_type": "stream",
     "text": [
      "\r",
      "0it [00:00, ?it/s]"
     ]
    },
    {
     "name": "stdout",
     "output_type": "stream",
     "text": [
      "\r",
      "Upgrading database; v0 -> v1: : 0it [00:00, ?it/s]"
     ]
    },
    {
     "name": "stdout",
     "output_type": "stream",
     "text": [
      "\r",
      "Upgrading database; v0 -> v1: : 0it [00:00, ?it/s]"
     ]
    },
    {
     "name": "stdout",
     "output_type": "stream",
     "text": [
      "\n",
      "\r",
      "  0%|          | 0/1 [00:00<?, ?it/s]"
     ]
    },
    {
     "name": "stdout",
     "output_type": "stream",
     "text": [
      "\r",
      "Upgrading database; v1 -> v2:   0%|          | 0/1 [00:00<?, ?it/s]"
     ]
    },
    {
     "name": "stdout",
     "output_type": "stream",
     "text": [
      "\r",
      "Upgrading database; v1 -> v2: 100%|██████████| 1/1 [00:00<00:00, 786.78it/s]"
     ]
    },
    {
     "name": "stdout",
     "output_type": "stream",
     "text": [
      "\n",
      "\r",
      "0it [00:00, ?it/s]"
     ]
    },
    {
     "name": "stdout",
     "output_type": "stream",
     "text": [
      "\r",
      "Upgrading database; v2 -> v3: : 0it [00:00, ?it/s]"
     ]
    },
    {
     "name": "stdout",
     "output_type": "stream",
     "text": [
      "\r",
      "Upgrading database; v2 -> v3: : 0it [00:00, ?it/s]"
     ]
    },
    {
     "name": "stdout",
     "output_type": "stream",
     "text": [
      "\n",
      "\r",
      "0it [00:00, ?it/s]"
     ]
    },
    {
     "name": "stdout",
     "output_type": "stream",
     "text": [
      "\r",
      "Upgrading database; v3 -> v4: : 0it [00:00, ?it/s]"
     ]
    },
    {
     "name": "stdout",
     "output_type": "stream",
     "text": [
      "\r",
      "Upgrading database; v3 -> v4: : 0it [00:00, ?it/s]"
     ]
    },
    {
     "name": "stdout",
     "output_type": "stream",
     "text": [
      "\n",
      "\r",
      "  0%|          | 0/1 [00:00<?, ?it/s]"
     ]
    },
    {
     "name": "stdout",
     "output_type": "stream",
     "text": [
      "\r",
      "Upgrading database; v4 -> v5:   0%|          | 0/1 [00:00<?, ?it/s]"
     ]
    },
    {
     "name": "stdout",
     "output_type": "stream",
     "text": [
      "\r",
      "Upgrading database; v4 -> v5: 100%|██████████| 1/1 [00:00<00:00, 878.39it/s]"
     ]
    },
    {
     "name": "stdout",
     "output_type": "stream",
     "text": [
      "\n",
      "\r",
      "0it [00:00, ?it/s]"
     ]
    },
    {
     "name": "stdout",
     "output_type": "stream",
     "text": [
      "\r",
      "Upgrading database; v5 -> v6: : 0it [00:00, ?it/s]"
     ]
    },
    {
     "name": "stdout",
     "output_type": "stream",
     "text": [
      "\r",
      "Upgrading database; v5 -> v6: : 0it [00:00, ?it/s]"
     ]
    },
    {
     "name": "stdout",
     "output_type": "stream",
     "text": [
      "\n",
      "\r",
      "  0%|          | 0/1 [00:00<?, ?it/s]"
     ]
    },
    {
     "name": "stdout",
     "output_type": "stream",
     "text": [
      "\r",
      "Upgrading database; v6 -> v7:   0%|          | 0/1 [00:00<?, ?it/s]"
     ]
    },
    {
     "name": "stdout",
     "output_type": "stream",
     "text": [
      "\r",
      "Upgrading database; v6 -> v7: 100%|██████████| 1/1 [00:00<00:00, 376.51it/s]"
     ]
    },
    {
     "name": "stdout",
     "output_type": "stream",
     "text": [
      "\n",
      "\r",
      "  0%|          | 0/1 [00:00<?, ?it/s]"
     ]
    },
    {
     "name": "stdout",
     "output_type": "stream",
     "text": [
      "\r",
      "Upgrading database; v7 -> v8:   0%|          | 0/1 [00:00<?, ?it/s]"
     ]
    },
    {
     "name": "stdout",
     "output_type": "stream",
     "text": [
      "\r",
      "Upgrading database; v7 -> v8: 100%|██████████| 1/1 [00:00<00:00, 704.33it/s]"
     ]
    },
    {
     "name": "stdout",
     "output_type": "stream",
     "text": [
      "\n",
      "\r",
      "  0%|          | 0/1 [00:00<?, ?it/s]"
     ]
    },
    {
     "name": "stdout",
     "output_type": "stream",
     "text": [
      "\r",
      "Upgrading database; v8 -> v9:   0%|          | 0/1 [00:00<?, ?it/s]"
     ]
    },
    {
     "name": "stdout",
     "output_type": "stream",
     "text": [
      "\r",
      "Upgrading database; v8 -> v9: 100%|██████████| 1/1 [00:00<00:00, 450.23it/s]"
     ]
    },
    {
     "name": "stdout",
     "output_type": "stream",
     "text": [
      "\n"
     ]
    }
   ],
   "source": [
    "initialise_database()\n",
    "exp = load_or_create_experiment(experiment_name='tutorial_exp', sample_name=\"no sample\")"
   ]
  },
  {
   "cell_type": "markdown",
   "metadata": {},
   "source": [
    "Here, we define a simple function to benchmark the time it takes to insert n points with either numeric or array data type.\n",
    "We will compare both the time used to call ``add_result`` and the time used for the full measurement."
   ]
  },
  {
   "cell_type": "code",
   "execution_count": 4,
   "metadata": {
    "execution": {
     "iopub.execute_input": "2021-04-21T13:55:59.619601Z",
     "iopub.status.busy": "2021-04-21T13:55:59.618991Z",
     "iopub.status.idle": "2021-04-21T13:55:59.622711Z",
     "shell.execute_reply": "2021-04-21T13:55:59.622188Z"
    }
   },
   "outputs": [],
   "source": [
    "def insert_data(paramtype, npoints, nreps=1):\n",
    "\n",
    "    meas = Measurement(exp=exp)\n",
    "\n",
    "    x1 = ManualParameter('x1')\n",
    "    x2 = ManualParameter('x2')\n",
    "    x3 = ManualParameter('x3')\n",
    "    y1 = ManualParameter('y1')\n",
    "    y2 = ManualParameter('y2')\n",
    "\n",
    "    meas.register_parameter(x1, paramtype=paramtype)\n",
    "    meas.register_parameter(x2, paramtype=paramtype)\n",
    "    meas.register_parameter(x3, paramtype=paramtype)\n",
    "    meas.register_parameter(y1, setpoints=[x1, x2, x3],\n",
    "                            paramtype=paramtype)\n",
    "    meas.register_parameter(y2, setpoints=[x1, x2, x3],\n",
    "                            paramtype=paramtype)\n",
    "    start = time.perf_counter()\n",
    "    with meas.run() as datasaver:\n",
    "        start_adding = time.perf_counter()\n",
    "        for i in range(nreps):\n",
    "            datasaver.add_result((x1, np.random.rand(npoints)),\n",
    "                                 (x2, np.random.rand(npoints)),\n",
    "                                 (x3, np.random.rand(npoints)),\n",
    "                                 (y1, np.random.rand(npoints)),\n",
    "                                 (y2, np.random.rand(npoints)))\n",
    "        stop_adding = time.perf_counter()\n",
    "        run_id = datasaver.run_id\n",
    "    stop = time.perf_counter()\n",
    "    tot_time = stop - start\n",
    "    add_time = stop_adding - start_adding\n",
    "    return tot_time, add_time, run_id"
   ]
  },
  {
   "cell_type": "markdown",
   "metadata": {},
   "source": [
    "## Comparison between numeric/array data and binary blob"
   ]
  },
  {
   "cell_type": "markdown",
   "metadata": {},
   "source": [
    "### Case1: Short experiment time"
   ]
  },
  {
   "cell_type": "code",
   "execution_count": 5,
   "metadata": {
    "execution": {
     "iopub.execute_input": "2021-04-21T13:55:59.629501Z",
     "iopub.status.busy": "2021-04-21T13:55:59.628330Z",
     "iopub.status.idle": "2021-04-21T13:56:00.431479Z",
     "shell.execute_reply": "2021-04-21T13:56:00.431931Z"
    }
   },
   "outputs": [
    {
     "name": "stdout",
     "output_type": "stream",
     "text": [
      "Starting experimental run with id: 1. \n",
      "Starting experimental run with id: 2. \n",
      "Starting experimental run with id: 3. \n",
      "Starting experimental run with id: 4. \n",
      "Starting experimental run with id: 5. \n"
     ]
    },
    {
     "name": "stdout",
     "output_type": "stream",
     "text": [
      "Starting experimental run with id: 6. \n"
     ]
    },
    {
     "name": "stdout",
     "output_type": "stream",
     "text": [
      "Starting experimental run with id: 7. \n"
     ]
    },
    {
     "name": "stdout",
     "output_type": "stream",
     "text": [
      "Starting experimental run with id: 8. \n",
      "Starting experimental run with id: 9. \n"
     ]
    },
    {
     "name": "stdout",
     "output_type": "stream",
     "text": [
      "Starting experimental run with id: 10. \n",
      "Starting experimental run with id: 11. \n"
     ]
    },
    {
     "name": "stdout",
     "output_type": "stream",
     "text": [
      "Starting experimental run with id: 12. \n"
     ]
    },
    {
     "name": "stdout",
     "output_type": "stream",
     "text": [
      "Starting experimental run with id: 13. \n"
     ]
    },
    {
     "name": "stdout",
     "output_type": "stream",
     "text": [
      "Starting experimental run with id: 14. \n"
     ]
    }
   ],
   "source": [
    "sizes = [1,500,1000,2000,3000,4000,5000]\n",
    "t_numeric = []\n",
    "t_numeric_add = []\n",
    "t_array = []\n",
    "t_array_add = []\n",
    "for size in sizes:\n",
    "    tn, tna, run_id_n =  insert_data('numeric', size)\n",
    "    t_numeric.append(tn)\n",
    "    t_numeric_add.append(tna)\n",
    "\n",
    "    ta, taa, run_id_a =  insert_data('array', size)\n",
    "    t_array.append(ta)\n",
    "    t_array_add.append(taa)"
   ]
  },
  {
   "cell_type": "code",
   "execution_count": 6,
   "metadata": {
    "execution": {
     "iopub.execute_input": "2021-04-21T13:56:00.457299Z",
     "iopub.status.busy": "2021-04-21T13:56:00.455220Z",
     "iopub.status.idle": "2021-04-21T13:56:00.660164Z",
     "shell.execute_reply": "2021-04-21T13:56:00.659283Z"
    }
   },
   "outputs": [
    {
     "data": {
      "image/png": "[encoded data removed]",
      "text/plain": [
       "<Figure size 432x288 with 1 Axes>"
      ]
     },
     "metadata": {
      "needs_background": "light"
     },
     "output_type": "display_data"
    }
   ],
   "source": [
    "fig, ax = plt.subplots(1,1)\n",
    "ax.plot(sizes, t_numeric, 'o-', label='Inserting row-by-row')\n",
    "ax.plot(sizes, t_numeric_add, 'o-', label='Inserting row-by-row: add_result only')\n",
    "ax.plot(sizes, t_array, 'd-', label='Inserting as binary blob')\n",
    "ax.plot(sizes, t_array_add, 'd-', label='Inserting as binary blob: add_result only')\n",
    "ax.legend()\n",
    "ax.set_xlabel('Array length')\n",
    "ax.set_ylabel('Time (s)')\n",
    "fig.tight_layout()"
   ]
  },
  {
   "cell_type": "markdown",
   "metadata": {},
   "source": [
    "As shown in the latter figure, the time to setup and and close the experiment is approximately 0.4 sec. In case of small array sizes, the difference between inserting values of data as arrays and inserting them row-by-row is relatively unimportant. At larger array sizes, i.e. above 10000 points, the cost of writing data as individual datapoints starts to become important.\n"
   ]
  },
  {
   "cell_type": "markdown",
   "metadata": {},
   "source": [
    "### Case2: Long experiment time "
   ]
  },
  {
   "cell_type": "code",
   "execution_count": 7,
   "metadata": {
    "execution": {
     "iopub.execute_input": "2021-04-21T13:56:00.667675Z",
     "iopub.status.busy": "2021-04-21T13:56:00.665050Z",
     "iopub.status.idle": "2021-04-21T13:56:59.367704Z",
     "shell.execute_reply": "2021-04-21T13:56:59.367064Z"
    }
   },
   "outputs": [
    {
     "name": "stdout",
     "output_type": "stream",
     "text": [
      "Starting experimental run with id: 15. \n",
      "Starting experimental run with id: 16. \n"
     ]
    },
    {
     "name": "stdout",
     "output_type": "stream",
     "text": [
      "Starting experimental run with id: 17. \n"
     ]
    },
    {
     "name": "stdout",
     "output_type": "stream",
     "text": [
      "Starting experimental run with id: 18. \n",
      "Starting experimental run with id: 19. \n"
     ]
    },
    {
     "name": "stdout",
     "output_type": "stream",
     "text": [
      "Starting experimental run with id: 20. \n"
     ]
    },
    {
     "name": "stdout",
     "output_type": "stream",
     "text": [
      "Starting experimental run with id: 21. \n"
     ]
    },
    {
     "name": "stdout",
     "output_type": "stream",
     "text": [
      "Starting experimental run with id: 22. \n"
     ]
    },
    {
     "name": "stdout",
     "output_type": "stream",
     "text": [
      "Starting experimental run with id: 23. \n"
     ]
    },
    {
     "name": "stdout",
     "output_type": "stream",
     "text": [
      "Starting experimental run with id: 24. \n"
     ]
    },
    {
     "name": "stdout",
     "output_type": "stream",
     "text": [
      "Starting experimental run with id: 25. \n"
     ]
    },
    {
     "name": "stdout",
     "output_type": "stream",
     "text": [
      "Starting experimental run with id: 26. \n"
     ]
    },
    {
     "name": "stdout",
     "output_type": "stream",
     "text": [
      "Starting experimental run with id: 27. \n"
     ]
    },
    {
     "name": "stdout",
     "output_type": "stream",
     "text": [
      "Starting experimental run with id: 28. \n"
     ]
    }
   ],
   "source": [
    "sizes = [1,500,1000,2000,3000,4000,5000]\n",
    "nreps = 100\n",
    "t_numeric = []\n",
    "t_numeric_add = []\n",
    "t_numeric_run_ids = []\n",
    "t_array = []\n",
    "t_array_add = []\n",
    "t_array_run_ids = []\n",
    "for size in sizes:\n",
    "    tn, tna, run_id_n =  insert_data('numeric', size, nreps=nreps)\n",
    "    t_numeric.append(tn)\n",
    "    t_numeric_add.append(tna)\n",
    "    t_numeric_run_ids.append(run_id_n)\n",
    "\n",
    "    ta, taa, run_id_a =  insert_data('array', size, nreps=nreps)\n",
    "    t_array.append(ta)\n",
    "    t_array_add.append(taa)\n",
    "    t_array_run_ids.append(run_id_a)"
   ]
  },
  {
   "cell_type": "code",
   "execution_count": 8,
   "metadata": {
    "execution": {
     "iopub.execute_input": "2021-04-21T13:56:59.410966Z",
     "iopub.status.busy": "2021-04-21T13:56:59.387443Z",
     "iopub.status.idle": "2021-04-21T13:56:59.555567Z",
     "shell.execute_reply": "2021-04-21T13:56:59.556151Z"
    },
    "scrolled": true
   },
   "outputs": [
    {
     "data": {
      "image/png": "[encoded data removed]",
      "text/plain": [
       "<Figure size 432x288 with 1 Axes>"
      ]
     },
     "metadata": {
      "needs_background": "light"
     },
     "output_type": "display_data"
    }
   ],
   "source": [
    "fig, ax = plt.subplots(1,1)\n",
    "ax.plot(sizes, t_numeric, 'o-', label='Inserting row-by-row')\n",
    "ax.plot(sizes, t_numeric_add, 'o-', label='Inserting row-by-row: add_result only')\n",
    "ax.plot(sizes, t_array, 'd-', label='Inserting as binary blob')\n",
    "ax.plot(sizes, t_array_add, 'd-', label='Inserting as binary blob: add_result only')\n",
    "ax.legend()\n",
    "ax.set_xlabel('Array length')\n",
    "ax.set_ylabel('Time (s)')\n",
    "fig.tight_layout()"
   ]
  },
  {
   "cell_type": "markdown",
   "metadata": {},
   "source": [
    "However, as we increase the length of the experiment, as seen here by repeating the insertion 100 times, we see a big difference between inserting values of the data row-by-row and inserting it as a binary blob."
   ]
  },
  {
   "cell_type": "markdown",
   "metadata": {},
   "source": [
    "## Loading the data "
   ]
  },
  {
   "cell_type": "code",
   "execution_count": 9,
   "metadata": {
    "execution": {
     "iopub.execute_input": "2021-04-21T13:56:59.559117Z",
     "iopub.status.busy": "2021-04-21T13:56:59.558532Z",
     "iopub.status.idle": "2021-04-21T13:56:59.561760Z",
     "shell.execute_reply": "2021-04-21T13:56:59.562280Z"
    }
   },
   "outputs": [],
   "source": [
    "from qcodes.dataset.data_set import load_by_id"
   ]
  },
  {
   "cell_type": "markdown",
   "metadata": {},
   "source": [
    "As usual you can load the data by using the ``load_by_id`` function but you will notice that the different storage methods\n",
    "are reflected in shape of the data as it is retrieved. "
   ]
  },
  {
   "cell_type": "code",
   "execution_count": 10,
   "metadata": {
    "execution": {
     "iopub.execute_input": "2021-04-21T13:56:59.564962Z",
     "iopub.status.busy": "2021-04-21T13:56:59.564393Z",
     "iopub.status.idle": "2021-04-21T13:56:59.567474Z",
     "shell.execute_reply": "2021-04-21T13:56:59.567966Z"
    }
   },
   "outputs": [],
   "source": [
    "run_id_n = t_numeric_run_ids[0]\n",
    "run_id_a = t_array_run_ids[0]"
   ]
  },
  {
   "cell_type": "code",
   "execution_count": 11,
   "metadata": {
    "execution": {
     "iopub.execute_input": "2021-04-21T13:56:59.570582Z",
     "iopub.status.busy": "2021-04-21T13:56:59.569998Z",
     "iopub.status.idle": "2021-04-21T13:56:59.580985Z",
     "shell.execute_reply": "2021-04-21T13:56:59.580454Z"
    },
    "scrolled": true
   },
   "outputs": [
    {
     "data": {
      "text/plain": [
       "{'x1': {'x1': array([0.75578009, 0.75578009, 0.28122079, 0.28122079, 0.05023724,\n",
       "         0.05023724, 0.20583304, 0.20583304, 0.92249475, 0.92249475,\n",
       "         0.98283547, 0.98283547, 0.9255148 , 0.9255148 , 0.65526539,\n",
       "         0.65526539, 0.42537637, 0.42537637, 0.97495233, 0.97495233,\n",
       "         0.50731429, 0.50731429, 0.34234914, 0.34234914, 0.00807086,\n",
       "         0.00807086, 0.89005183, 0.89005183, 0.87365805, 0.87365805,\n",
       "         0.24045512, 0.24045512, 0.15111291, 0.15111291, 0.93417553,\n",
       "         0.93417553, 0.20130235, 0.20130235, 0.1729364 , 0.1729364 ,\n",
       "         0.06503577, 0.06503577, 0.27105032, 0.27105032, 0.1731875 ,\n",
       "         0.1731875 , 0.98092289, 0.98092289, 0.92830324, 0.92830324,\n",
       "         0.69611925, 0.69611925, 0.81529782, 0.81529782, 0.16062412,\n",
       "         0.16062412, 0.34773444, 0.34773444, 0.55653764, 0.55653764,\n",
       "         0.27929326, 0.27929326, 0.05043282, 0.05043282, 0.24637878,\n",
       "         0.24637878, 0.37978303, 0.37978303, 0.5134157 , 0.5134157 ,\n",
       "         0.7837866 , 0.7837866 , 0.30122128, 0.30122128, 0.27073476,\n",
       "         0.27073476, 0.05522333, 0.05522333, 0.07408314, 0.07408314,\n",
       "         0.58411029, 0.58411029, 0.58062115, 0.58062115, 0.04569278,\n",
       "         0.04569278, 0.42129607, 0.42129607, 0.24900876, 0.24900876,\n",
       "         0.21072282, 0.21072282, 0.24266775, 0.24266775, 0.48633579,\n",
       "         0.48633579, 0.06055728, 0.06055728, 0.11793277, 0.11793277,\n",
       "         0.55705705, 0.55705705, 0.91876824, 0.91876824, 0.0099673 ,\n",
       "         0.0099673 , 0.85255082, 0.85255082, 0.13275802, 0.13275802,\n",
       "         0.28568494, 0.28568494, 0.32890657, 0.32890657, 0.99937681,\n",
       "         0.99937681, 0.53019   , 0.53019   , 0.86657185, 0.86657185,\n",
       "         0.61087015, 0.61087015, 0.43160981, 0.43160981, 0.76214225,\n",
       "         0.76214225, 0.09320793, 0.09320793, 0.84715522, 0.84715522,\n",
       "         0.61742508, 0.61742508, 0.67068983, 0.67068983, 0.37273118,\n",
       "         0.37273118, 0.45840015, 0.45840015, 0.43598997, 0.43598997,\n",
       "         0.06043018, 0.06043018, 0.59190874, 0.59190874, 0.55384399,\n",
       "         0.55384399, 0.17343875, 0.17343875, 0.04264235, 0.04264235,\n",
       "         0.39138123, 0.39138123, 0.32695537, 0.32695537, 0.81613646,\n",
       "         0.81613646, 0.10542344, 0.10542344, 0.27635469, 0.27635469,\n",
       "         0.79019641, 0.79019641, 0.7599219 , 0.7599219 , 0.23566797,\n",
       "         0.23566797, 0.6838905 , 0.6838905 , 0.54142541, 0.54142541,\n",
       "         0.18052849, 0.18052849, 0.80448722, 0.80448722, 0.49886358,\n",
       "         0.49886358, 0.52264163, 0.52264163, 0.63014446, 0.63014446,\n",
       "         0.45788501, 0.45788501, 0.47046848, 0.47046848, 0.19616478,\n",
       "         0.19616478, 0.65424994, 0.65424994, 0.68638954, 0.68638954,\n",
       "         0.29485988, 0.29485988, 0.12979352, 0.12979352, 0.38676719,\n",
       "         0.38676719, 0.3546585 , 0.3546585 , 0.51376895, 0.51376895])}}"
      ]
     },
     "execution_count": 1,
     "metadata": {},
     "output_type": "execute_result"
    }
   ],
   "source": [
    "ds = load_by_id(run_id_n)\n",
    "ds.get_parameter_data('x1')"
   ]
  },
  {
   "cell_type": "markdown",
   "metadata": {},
   "source": [
    "And a dataset stored as binary arrays"
   ]
  },
  {
   "cell_type": "code",
   "execution_count": 12,
   "metadata": {
    "execution": {
     "iopub.execute_input": "2021-04-21T13:56:59.584512Z",
     "iopub.status.busy": "2021-04-21T13:56:59.583907Z",
     "iopub.status.idle": "2021-04-21T13:56:59.640834Z",
     "shell.execute_reply": "2021-04-21T13:56:59.641538Z"
    },
    "scrolled": true
   },
   "outputs": [
    {
     "data": {
      "text/plain": [
       "{'x1': {'x1': array([[0.21438113],\n",
       "         [0.21438113],\n",
       "         [0.35123184],\n",
       "         [0.35123184],\n",
       "         [0.66767012],\n",
       "         [0.66767012],\n",
       "         [0.88848921],\n",
       "         [0.88848921],\n",
       "         [0.02157788],\n",
       "         [0.02157788],\n",
       "         [0.97187189],\n",
       "         [0.97187189],\n",
       "         [0.29726909],\n",
       "         [0.29726909],\n",
       "         [0.79596436],\n",
       "         [0.79596436],\n",
       "         [0.79499994],\n",
       "         [0.79499994],\n",
       "         [0.57188399],\n",
       "         [0.57188399],\n",
       "         [0.58585828],\n",
       "         [0.58585828],\n",
       "         [0.95947078],\n",
       "         [0.95947078],\n",
       "         [0.00369832],\n",
       "         [0.00369832],\n",
       "         [0.78087313],\n",
       "         [0.78087313],\n",
       "         [0.45723009],\n",
       "         [0.45723009],\n",
       "         [0.63933811],\n",
       "         [0.63933811],\n",
       "         [0.61253104],\n",
       "         [0.61253104],\n",
       "         [0.58646034],\n",
       "         [0.58646034],\n",
       "         [0.4348461 ],\n",
       "         [0.4348461 ],\n",
       "         [0.33477064],\n",
       "         [0.33477064],\n",
       "         [0.68985323],\n",
       "         [0.68985323],\n",
       "         [0.53043697],\n",
       "         [0.53043697],\n",
       "         [0.23921481],\n",
       "         [0.23921481],\n",
       "         [0.32851435],\n",
       "         [0.32851435],\n",
       "         [0.65611586],\n",
       "         [0.65611586],\n",
       "         [0.71219615],\n",
       "         [0.71219615],\n",
       "         [0.81381174],\n",
       "         [0.81381174],\n",
       "         [0.87480945],\n",
       "         [0.87480945],\n",
       "         [0.99423351],\n",
       "         [0.99423351],\n",
       "         [0.29316943],\n",
       "         [0.29316943],\n",
       "         [0.13033287],\n",
       "         [0.13033287],\n",
       "         [0.78054565],\n",
       "         [0.78054565],\n",
       "         [0.10387417],\n",
       "         [0.10387417],\n",
       "         [0.06065726],\n",
       "         [0.06065726],\n",
       "         [0.24690113],\n",
       "         [0.24690113],\n",
       "         [0.10000336],\n",
       "         [0.10000336],\n",
       "         [0.09820863],\n",
       "         [0.09820863],\n",
       "         [0.67573396],\n",
       "         [0.67573396],\n",
       "         [0.21529212],\n",
       "         [0.21529212],\n",
       "         [0.8477855 ],\n",
       "         [0.8477855 ],\n",
       "         [0.24781668],\n",
       "         [0.24781668],\n",
       "         [0.89371429],\n",
       "         [0.89371429],\n",
       "         [0.3667553 ],\n",
       "         [0.3667553 ],\n",
       "         [0.3991705 ],\n",
       "         [0.3991705 ],\n",
       "         [0.25076487],\n",
       "         [0.25076487],\n",
       "         [0.900935  ],\n",
       "         [0.900935  ],\n",
       "         [0.08909757],\n",
       "         [0.08909757],\n",
       "         [0.80930416],\n",
       "         [0.80930416],\n",
       "         [0.52959978],\n",
       "         [0.52959978],\n",
       "         [0.99924133],\n",
       "         [0.99924133],\n",
       "         [0.86027154],\n",
       "         [0.86027154],\n",
       "         [0.11859868],\n",
       "         [0.11859868],\n",
       "         [0.11421273],\n",
       "         [0.11421273],\n",
       "         [0.75719795],\n",
       "         [0.75719795],\n",
       "         [0.70223064],\n",
       "         [0.70223064],\n",
       "         [0.10224722],\n",
       "         [0.10224722],\n",
       "         [0.8848654 ],\n",
       "         [0.8848654 ],\n",
       "         [0.05231692],\n",
       "         [0.05231692],\n",
       "         [0.13327429],\n",
       "         [0.13327429],\n",
       "         [0.5274684 ],\n",
       "         [0.5274684 ],\n",
       "         [0.03739366],\n",
       "         [0.03739366],\n",
       "         [0.05560901],\n",
       "         [0.05560901],\n",
       "         [0.03856681],\n",
       "         [0.03856681],\n",
       "         [0.39124796],\n",
       "         [0.39124796],\n",
       "         [0.58245811],\n",
       "         [0.58245811],\n",
       "         [0.94096545],\n",
       "         [0.94096545],\n",
       "         [0.84328217],\n",
       "         [0.84328217],\n",
       "         [0.70951752],\n",
       "         [0.70951752],\n",
       "         [0.77482992],\n",
       "         [0.77482992],\n",
       "         [0.47371726],\n",
       "         [0.47371726],\n",
       "         [0.87550304],\n",
       "         [0.87550304],\n",
       "         [0.12565426],\n",
       "         [0.12565426],\n",
       "         [0.14627357],\n",
       "         [0.14627357],\n",
       "         [0.2527091 ],\n",
       "         [0.2527091 ],\n",
       "         [0.29883452],\n",
       "         [0.29883452],\n",
       "         [0.37051374],\n",
       "         [0.37051374],\n",
       "         [0.33081167],\n",
       "         [0.33081167],\n",
       "         [0.47955486],\n",
       "         [0.47955486],\n",
       "         [0.39806072],\n",
       "         [0.39806072],\n",
       "         [0.50356002],\n",
       "         [0.50356002],\n",
       "         [0.40579534],\n",
       "         [0.40579534],\n",
       "         [0.79932456],\n",
       "         [0.79932456],\n",
       "         [0.95755954],\n",
       "         [0.95755954],\n",
       "         [0.96239812],\n",
       "         [0.96239812],\n",
       "         [0.25833129],\n",
       "         [0.25833129],\n",
       "         [0.4181869 ],\n",
       "         [0.4181869 ],\n",
       "         [0.69955768],\n",
       "         [0.69955768],\n",
       "         [0.42722634],\n",
       "         [0.42722634],\n",
       "         [0.55620404],\n",
       "         [0.55620404],\n",
       "         [0.03524385],\n",
       "         [0.03524385],\n",
       "         [0.15067848],\n",
       "         [0.15067848],\n",
       "         [0.36684336],\n",
       "         [0.36684336],\n",
       "         [0.1511126 ],\n",
       "         [0.1511126 ],\n",
       "         [0.6492719 ],\n",
       "         [0.6492719 ],\n",
       "         [0.35702309],\n",
       "         [0.35702309],\n",
       "         [0.90985144],\n",
       "         [0.90985144],\n",
       "         [0.27421343],\n",
       "         [0.27421343],\n",
       "         [0.05217786],\n",
       "         [0.05217786],\n",
       "         [0.0260813 ],\n",
       "         [0.0260813 ],\n",
       "         [0.91988797],\n",
       "         [0.91988797]])}}"
      ]
     },
     "execution_count": 1,
     "metadata": {},
     "output_type": "execute_result"
    }
   ],
   "source": [
    "ds = load_by_id(run_id_a)\n",
    "ds.get_parameter_data('x1')"
   ]
  },
  {
   "cell_type": "code",
   "execution_count": null,
   "metadata": {},
   "outputs": [],
   "source": []
  }
 ],
 "metadata": {
  "kernelspec": {
   "display_name": "Python 3",
   "language": "python",
   "name": "python3"
  },
  "language_info": {
   "codemirror_mode": {
    "name": "ipython",
    "version": 3
   },
   "file_extension": ".py",
   "mimetype": "text/x-python",
   "name": "python",
   "nbconvert_exporter": "python",
   "pygments_lexer": "ipython3",
   "version": "3.7.10"
  },
  "nbsphinx": {
   "timeout": 600
  },
  "toc": {
   "base_numbering": 1,
   "nav_menu": {},
   "number_sections": true,
   "sideBar": true,
   "skip_h1_title": false,
   "title_cell": "Table of Contents",
   "title_sidebar": "Contents",
   "toc_cell": false,
   "toc_position": {},
   "toc_section_display": true,
   "toc_window_display": false
  },
  "varInspector": {
   "cols": {
    "lenName": 16,
    "lenType": 16,
    "lenVar": 40
   },
   "kernels_config": {
    "python": {
     "delete_cmd_postfix": "",
     "delete_cmd_prefix": "del ",
     "library": "var_list.py",
     "varRefreshCmd": "print(var_dic_list())"
    },
    "r": {
     "delete_cmd_postfix": ") ",
     "delete_cmd_prefix": "rm(",
     "library": "var_list.r",
     "varRefreshCmd": "cat(var_dic_list()) "
    }
   },
   "types_to_exclude": [
    "module",
    "function",
    "builtin_function_or_method",
    "instance",
    "_Feature"
   ],
   "window_display": false
  }
 },
 "nbformat": 4,
 "nbformat_minor": 4
}
