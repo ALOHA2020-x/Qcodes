{
 "cells": [
  {
   "cell_type": "markdown",
   "metadata": {},
   "source": [
    "# DataSet Performance\n",
    "\n",
    "This notebook shows the trade-off between inserting data into a database row-by-row and as binary blobs. Inserting the data row-by-row means that we have direct access to all the data and may perform queries directly on the values of the data. On the other hand, as we shall see, this is much slower than inserting the data directly as binary blobs."
   ]
  },
  {
   "cell_type": "markdown",
   "metadata": {},
   "source": [
    "First, we choose a new location for the database to ensure that we don't add a bunch of benchmarking data to the default one."
   ]
  },
  {
   "cell_type": "code",
   "execution_count": 1,
   "metadata": {},
   "outputs": [
    {
     "name": "stdout",
     "output_type": "stream",
     "text": [
      "Logging hadn't been started.\n",
      "Activating auto-logging. Current session state plus future input saved.\n",
      "Filename       : /home/vsts/.qcodes/logs/command_history.log\n",
      "Mode           : append\n",
      "Output logging : True\n",
      "Raw input log  : False\n",
      "Timestamping   : True\n",
      "State          : active\n"
     ]
    },
    {
     "name": "stdout",
     "output_type": "stream",
     "text": [
      "Qcodes Logfile : /home/vsts/.qcodes/logs/200612-20533-qcodes.log\n"
     ]
    }
   ],
   "source": [
    "import os\n",
    "cwd = os.getcwd()\n",
    "import qcodes as qc\n",
    "qc.config[\"core\"][\"db_location\"] = os.path.join(cwd, 'testing.db')\n"
   ]
  },
  {
   "cell_type": "code",
   "execution_count": 2,
   "metadata": {},
   "outputs": [],
   "source": [
    "%matplotlib inline\n",
    "import time\n",
    "import matplotlib.pyplot as plt\n",
    "import numpy as np\n",
    "\n",
    "import qcodes as qc\n",
    "from qcodes.instrument.parameter import ManualParameter\n",
    "from qcodes.dataset.experiment_container import (Experiment,\n",
    "                                                 load_last_experiment,\n",
    "                                                 new_experiment)\n",
    "from qcodes.dataset.sqlite.database import initialise_database\n",
    "from qcodes import load_or_create_experiment\n",
    "from qcodes.dataset.measurements import Measurement"
   ]
  },
  {
   "cell_type": "code",
   "execution_count": 3,
   "metadata": {},
   "outputs": [
    {
     "name": "stdout",
     "output_type": "stream",
     "text": [
      "\r",
      "0it [00:00, ?it/s]"
     ]
    },
    {
     "name": "stdout",
     "output_type": "stream",
     "text": [
      "\r",
      "Upgrading database; v0 -> v1: : 0it [00:00, ?it/s]"
     ]
    },
    {
     "name": "stdout",
     "output_type": "stream",
     "text": [
      "\r",
      "Upgrading database; v0 -> v1: : 0it [00:00, ?it/s]"
     ]
    },
    {
     "name": "stdout",
     "output_type": "stream",
     "text": [
      "\n",
      "\r",
      "  0%|          | 0/1 [00:00<?, ?it/s]"
     ]
    },
    {
     "name": "stdout",
     "output_type": "stream",
     "text": [
      "\r",
      "Upgrading database; v1 -> v2:   0%|          | 0/1 [00:00<?, ?it/s]"
     ]
    },
    {
     "name": "stdout",
     "output_type": "stream",
     "text": [
      "\r",
      "Upgrading database; v1 -> v2: 100%|██████████| 1/1 [00:00<00:00, 374.32it/s]"
     ]
    },
    {
     "name": "stdout",
     "output_type": "stream",
     "text": [
      "\n",
      "\r",
      "0it [00:00, ?it/s]"
     ]
    },
    {
     "name": "stdout",
     "output_type": "stream",
     "text": [
      "\r",
      "Upgrading database; v2 -> v3: : 0it [00:00, ?it/s]"
     ]
    },
    {
     "name": "stdout",
     "output_type": "stream",
     "text": [
      "\r",
      "Upgrading database; v2 -> v3: : 0it [00:00, ?it/s]"
     ]
    },
    {
     "name": "stdout",
     "output_type": "stream",
     "text": [
      "\n",
      "\r",
      "0it [00:00, ?it/s]"
     ]
    },
    {
     "name": "stdout",
     "output_type": "stream",
     "text": [
      "\r",
      "Upgrading database; v3 -> v4: : 0it [00:00, ?it/s]"
     ]
    },
    {
     "name": "stdout",
     "output_type": "stream",
     "text": [
      "\r",
      "Upgrading database; v3 -> v4: : 0it [00:00, ?it/s]"
     ]
    },
    {
     "name": "stdout",
     "output_type": "stream",
     "text": [
      "\n",
      "\r",
      "  0%|          | 0/1 [00:00<?, ?it/s]"
     ]
    },
    {
     "name": "stdout",
     "output_type": "stream",
     "text": [
      "\r",
      "Upgrading database; v4 -> v5:   0%|          | 0/1 [00:00<?, ?it/s]"
     ]
    },
    {
     "name": "stdout",
     "output_type": "stream",
     "text": [
      "\r",
      "Upgrading database; v4 -> v5: 100%|██████████| 1/1 [00:00<00:00, 606.73it/s]"
     ]
    },
    {
     "name": "stdout",
     "output_type": "stream",
     "text": [
      "\n",
      "\r",
      "0it [00:00, ?it/s]"
     ]
    },
    {
     "name": "stdout",
     "output_type": "stream",
     "text": [
      "\r",
      "Upgrading database; v5 -> v6: : 0it [00:00, ?it/s]"
     ]
    },
    {
     "name": "stdout",
     "output_type": "stream",
     "text": [
      "\r",
      "Upgrading database; v5 -> v6: : 0it [00:00, ?it/s]"
     ]
    },
    {
     "name": "stdout",
     "output_type": "stream",
     "text": [
      "\n",
      "\r",
      "  0%|          | 0/1 [00:00<?, ?it/s]"
     ]
    },
    {
     "name": "stdout",
     "output_type": "stream",
     "text": [
      "\r",
      "Upgrading database; v6 -> v7:   0%|          | 0/1 [00:00<?, ?it/s]"
     ]
    },
    {
     "name": "stdout",
     "output_type": "stream",
     "text": [
      "\r",
      "Upgrading database; v6 -> v7: 100%|██████████| 1/1 [00:00<00:00, 329.53it/s]"
     ]
    },
    {
     "name": "stdout",
     "output_type": "stream",
     "text": [
      "\n",
      "\r",
      "  0%|          | 0/1 [00:00<?, ?it/s]"
     ]
    },
    {
     "name": "stdout",
     "output_type": "stream",
     "text": [
      "\r",
      "Upgrading database; v7 -> v8:   0%|          | 0/1 [00:00<?, ?it/s]"
     ]
    },
    {
     "name": "stdout",
     "output_type": "stream",
     "text": [
      "\r",
      "Upgrading database; v7 -> v8: 100%|██████████| 1/1 [00:00<00:00, 639.57it/s]"
     ]
    },
    {
     "name": "stdout",
     "output_type": "stream",
     "text": [
      "\n",
      "\r",
      "  0%|          | 0/1 [00:00<?, ?it/s]"
     ]
    },
    {
     "name": "stdout",
     "output_type": "stream",
     "text": [
      "\r",
      "Upgrading database; v8 -> v9:   0%|          | 0/1 [00:00<?, ?it/s]"
     ]
    },
    {
     "name": "stdout",
     "output_type": "stream",
     "text": [
      "\r",
      "Upgrading database; v8 -> v9: 100%|██████████| 1/1 [00:00<00:00, 626.58it/s]"
     ]
    },
    {
     "name": "stdout",
     "output_type": "stream",
     "text": [
      "\n"
     ]
    }
   ],
   "source": [
    "initialise_database()\n",
    "exp = load_or_create_experiment(experiment_name='tutorial_exp', sample_name=\"no sample\")"
   ]
  },
  {
   "cell_type": "markdown",
   "metadata": {},
   "source": [
    "Here, we define a simple function to benchmark the time it takes to insert n points with either numeric or array data type.\n",
    "We will compare both the time used to call ``add_result`` and the time used for the full measurement."
   ]
  },
  {
   "cell_type": "code",
   "execution_count": 4,
   "metadata": {},
   "outputs": [],
   "source": [
    "def insert_data(paramtype, npoints, nreps=1):\n",
    "\n",
    "    meas = Measurement(exp=exp)\n",
    "\n",
    "    x1 = ManualParameter('x1')\n",
    "    x2 = ManualParameter('x2')\n",
    "    x3 = ManualParameter('x3')\n",
    "    y1 = ManualParameter('y1')\n",
    "    y2 = ManualParameter('y2')\n",
    "\n",
    "    meas.register_parameter(x1, paramtype=paramtype)\n",
    "    meas.register_parameter(x2, paramtype=paramtype)\n",
    "    meas.register_parameter(x3, paramtype=paramtype)\n",
    "    meas.register_parameter(y1, setpoints=[x1, x2, x3],\n",
    "                            paramtype=paramtype)\n",
    "    meas.register_parameter(y2, setpoints=[x1, x2, x3],\n",
    "                            paramtype=paramtype)\n",
    "    start = time.perf_counter()\n",
    "    with meas.run() as datasaver:\n",
    "        start_adding = time.perf_counter()\n",
    "        for i in range(nreps):\n",
    "            datasaver.add_result((x1, np.random.rand(npoints)),\n",
    "                                 (x2, np.random.rand(npoints)),\n",
    "                                 (x3, np.random.rand(npoints)),\n",
    "                                 (y1, np.random.rand(npoints)),\n",
    "                                 (y2, np.random.rand(npoints)))\n",
    "        stop_adding = time.perf_counter()\n",
    "        run_id = datasaver.run_id\n",
    "    stop = time.perf_counter()\n",
    "    tot_time = stop - start\n",
    "    add_time = stop_adding - start_adding\n",
    "    return tot_time, add_time, run_id"
   ]
  },
  {
   "cell_type": "markdown",
   "metadata": {},
   "source": [
    "## Comparison between numeric/array data and binary blob"
   ]
  },
  {
   "cell_type": "markdown",
   "metadata": {},
   "source": [
    "### Case1: Short experiment time"
   ]
  },
  {
   "cell_type": "code",
   "execution_count": 5,
   "metadata": {},
   "outputs": [
    {
     "name": "stdout",
     "output_type": "stream",
     "text": [
      "Starting experimental run with id: 1. \n",
      "Starting experimental run with id: 2. \n",
      "Starting experimental run with id: 3. \n",
      "Starting experimental run with id: 4. \n"
     ]
    },
    {
     "name": "stdout",
     "output_type": "stream",
     "text": [
      "Starting experimental run with id: 5. \n"
     ]
    },
    {
     "name": "stdout",
     "output_type": "stream",
     "text": [
      "Starting experimental run with id: 6. \n",
      "Starting experimental run with id: 7. \n"
     ]
    },
    {
     "name": "stdout",
     "output_type": "stream",
     "text": [
      "Starting experimental run with id: 8. \n",
      "Starting experimental run with id: 9. \n"
     ]
    },
    {
     "name": "stdout",
     "output_type": "stream",
     "text": [
      "Starting experimental run with id: 10. \n",
      "Starting experimental run with id: 11. \n"
     ]
    },
    {
     "name": "stdout",
     "output_type": "stream",
     "text": [
      "Starting experimental run with id: 12. \n",
      "Starting experimental run with id: 13. \n"
     ]
    },
    {
     "name": "stdout",
     "output_type": "stream",
     "text": [
      "Starting experimental run with id: 14. \n"
     ]
    }
   ],
   "source": [
    "sizes = [1,500,1000,2000,3000,4000,5000]\n",
    "t_numeric = []\n",
    "t_numeric_add = []\n",
    "t_array = []\n",
    "t_array_add = []\n",
    "for size in sizes:\n",
    "    tn, tna, run_id_n =  insert_data('numeric', size)\n",
    "    t_numeric.append(tn)\n",
    "    t_numeric_add.append(tna)\n",
    "\n",
    "    ta, taa, run_id_a =  insert_data('array', size)\n",
    "    t_array.append(ta)\n",
    "    t_array_add.append(taa)"
   ]
  },
  {
   "cell_type": "code",
   "execution_count": 6,
   "metadata": {},
   "outputs": [
    {
     "data": {
      "image/png": "[encoded data removed]",
      "text/plain": [
       "<Figure size 432x288 with 1 Axes>"
      ]
     },
     "metadata": {
      "needs_background": "light"
     },
     "output_type": "display_data"
    }
   ],
   "source": [
    "fig, ax = plt.subplots(1,1)\n",
    "ax.plot(sizes, t_numeric, 'o-', label='Inserting row-by-row')\n",
    "ax.plot(sizes, t_numeric_add, 'o-', label='Inserting row-by-row: add_result only')\n",
    "ax.plot(sizes, t_array, 'd-', label='Inserting as binary blob')\n",
    "ax.plot(sizes, t_array_add, 'd-', label='Inserting as binary blob: add_result only')\n",
    "ax.legend()\n",
    "ax.set_xlabel('Array length')\n",
    "ax.set_ylabel('Time (s)')\n",
    "fig.tight_layout()"
   ]
  },
  {
   "cell_type": "markdown",
   "metadata": {},
   "source": [
    "As shown in the latter figure, the time to setup and and close the experiment is approximately 0.4 sec. In case of small array sizes, the difference between inserting values of data as arrays and inserting them row-by-row is relatively unimportant. At larger array sizes, i.e. above 10000 points, the cost of writing data as individual datapoints starts to become important.\n"
   ]
  },
  {
   "cell_type": "markdown",
   "metadata": {},
   "source": [
    "### Case2: Long experiment time "
   ]
  },
  {
   "cell_type": "code",
   "execution_count": 7,
   "metadata": {},
   "outputs": [
    {
     "name": "stdout",
     "output_type": "stream",
     "text": [
      "Starting experimental run with id: 15. \n",
      "Starting experimental run with id: 16. \n",
      "Starting experimental run with id: 17. \n"
     ]
    },
    {
     "name": "stdout",
     "output_type": "stream",
     "text": [
      "Starting experimental run with id: 18. \n",
      "Starting experimental run with id: 19. \n"
     ]
    },
    {
     "name": "stdout",
     "output_type": "stream",
     "text": [
      "Starting experimental run with id: 20. \n"
     ]
    },
    {
     "name": "stdout",
     "output_type": "stream",
     "text": [
      "Starting experimental run with id: 21. \n"
     ]
    },
    {
     "name": "stdout",
     "output_type": "stream",
     "text": [
      "Starting experimental run with id: 22. \n"
     ]
    },
    {
     "name": "stdout",
     "output_type": "stream",
     "text": [
      "Starting experimental run with id: 23. \n"
     ]
    },
    {
     "name": "stdout",
     "output_type": "stream",
     "text": [
      "Starting experimental run with id: 24. \n"
     ]
    },
    {
     "name": "stdout",
     "output_type": "stream",
     "text": [
      "Starting experimental run with id: 25. \n"
     ]
    },
    {
     "name": "stdout",
     "output_type": "stream",
     "text": [
      "Starting experimental run with id: 26. \n"
     ]
    },
    {
     "name": "stdout",
     "output_type": "stream",
     "text": [
      "Starting experimental run with id: 27. \n"
     ]
    },
    {
     "name": "stdout",
     "output_type": "stream",
     "text": [
      "Starting experimental run with id: 28. \n"
     ]
    }
   ],
   "source": [
    "sizes = [1,500,1000,2000,3000,4000,5000]\n",
    "nreps = 100\n",
    "t_numeric = []\n",
    "t_numeric_add = []\n",
    "t_numeric_run_ids = []\n",
    "t_array = []\n",
    "t_array_add = []\n",
    "t_array_run_ids = []\n",
    "for size in sizes:\n",
    "    tn, tna, run_id_n =  insert_data('numeric', size, nreps=nreps)\n",
    "    t_numeric.append(tn)\n",
    "    t_numeric_add.append(tna)\n",
    "    t_numeric_run_ids.append(run_id_n)\n",
    "\n",
    "    ta, taa, run_id_a =  insert_data('array', size, nreps=nreps)\n",
    "    t_array.append(ta)\n",
    "    t_array_add.append(taa)\n",
    "    t_array_run_ids.append(run_id_a)"
   ]
  },
  {
   "cell_type": "code",
   "execution_count": 8,
   "metadata": {
    "scrolled": true
   },
   "outputs": [
    {
     "data": {
      "image/png": "[encoded data removed]",
      "text/plain": [
       "<Figure size 432x288 with 1 Axes>"
      ]
     },
     "metadata": {
      "needs_background": "light"
     },
     "output_type": "display_data"
    }
   ],
   "source": [
    "fig, ax = plt.subplots(1,1)\n",
    "ax.plot(sizes, t_numeric, 'o-', label='Inserting row-by-row')\n",
    "ax.plot(sizes, t_numeric_add, 'o-', label='Inserting row-by-row: add_result only')\n",
    "ax.plot(sizes, t_array, 'd-', label='Inserting as binary blob')\n",
    "ax.plot(sizes, t_array_add, 'd-', label='Inserting as binary blob: add_result only')\n",
    "ax.legend()\n",
    "ax.set_xlabel('Array length')\n",
    "ax.set_ylabel('Time (s)')\n",
    "fig.tight_layout()"
   ]
  },
  {
   "cell_type": "markdown",
   "metadata": {},
   "source": [
    "However, as we increase the length of the experiment, as seen here by repeating the insertion 100 times, we see a big difference between inserting values of the data row-by-row and inserting it as a binary blob."
   ]
  },
  {
   "cell_type": "markdown",
   "metadata": {},
   "source": [
    "## Loading the data "
   ]
  },
  {
   "cell_type": "code",
   "execution_count": 9,
   "metadata": {},
   "outputs": [],
   "source": [
    "from qcodes.dataset.data_set import load_by_id\n",
    "from qcodes.dataset.data_export import get_data_by_id"
   ]
  },
  {
   "cell_type": "markdown",
   "metadata": {},
   "source": [
    "As usual you can load the data by using the ``load_by_id`` function but you will notice that the different storage methods\n",
    "are reflected in shape of the data as it is retrieved. "
   ]
  },
  {
   "cell_type": "code",
   "execution_count": 10,
   "metadata": {},
   "outputs": [],
   "source": [
    "run_id_n = t_numeric_run_ids[0]\n",
    "run_id_a = t_array_run_ids[0]"
   ]
  },
  {
   "cell_type": "code",
   "execution_count": 11,
   "metadata": {
    "scrolled": true
   },
   "outputs": [
    {
     "data": {
      "text/plain": [
       "{'x1': {'x1': array([0.09193254, 0.09193254, 0.82017394, 0.82017394, 0.17572704,\n",
       "         0.17572704, 0.96084466, 0.96084466, 0.63984628, 0.63984628,\n",
       "         0.85188935, 0.85188935, 0.26168653, 0.26168653, 0.71939464,\n",
       "         0.71939464, 0.06864414, 0.06864414, 0.99349772, 0.99349772,\n",
       "         0.29806304, 0.29806304, 0.66654888, 0.66654888, 0.19780668,\n",
       "         0.19780668, 0.66372676, 0.66372676, 0.43594821, 0.43594821,\n",
       "         0.87618543, 0.87618543, 0.63744083, 0.63744083, 0.5330795 ,\n",
       "         0.5330795 , 0.37631551, 0.37631551, 0.21440183, 0.21440183,\n",
       "         0.42722531, 0.42722531, 0.96066601, 0.96066601, 0.24937149,\n",
       "         0.24937149, 0.97445256, 0.97445256, 0.17369791, 0.17369791,\n",
       "         0.82151008, 0.82151008, 0.74474086, 0.74474086, 0.82177724,\n",
       "         0.82177724, 0.05238226, 0.05238226, 0.3078904 , 0.3078904 ,\n",
       "         0.36024504, 0.36024504, 0.84407   , 0.84407   , 0.21896453,\n",
       "         0.21896453, 0.21280084, 0.21280084, 0.49944956, 0.49944956,\n",
       "         0.83162695, 0.83162695, 0.67587127, 0.67587127, 0.06568732,\n",
       "         0.06568732, 0.96358591, 0.96358591, 0.91617531, 0.91617531,\n",
       "         0.21856268, 0.21856268, 0.18509987, 0.18509987, 0.23055278,\n",
       "         0.23055278, 0.09617712, 0.09617712, 0.50587825, 0.50587825,\n",
       "         0.48421119, 0.48421119, 0.58946559, 0.58946559, 0.12936236,\n",
       "         0.12936236, 0.92109552, 0.92109552, 0.21626913, 0.21626913,\n",
       "         0.94893795, 0.94893795, 0.37043673, 0.37043673, 0.07080309,\n",
       "         0.07080309, 0.04125763, 0.04125763, 0.38351965, 0.38351965,\n",
       "         0.33915397, 0.33915397, 0.96748046, 0.96748046, 0.99157585,\n",
       "         0.99157585, 0.05529739, 0.05529739, 0.43867976, 0.43867976,\n",
       "         0.9592487 , 0.9592487 , 0.59081249, 0.59081249, 0.37571755,\n",
       "         0.37571755, 0.08376775, 0.08376775, 0.68030151, 0.68030151,\n",
       "         0.67686441, 0.67686441, 0.07438797, 0.07438797, 0.47684174,\n",
       "         0.47684174, 0.86809194, 0.86809194, 0.80806618, 0.80806618,\n",
       "         0.64483665, 0.64483665, 0.57824898, 0.57824898, 0.1247475 ,\n",
       "         0.1247475 , 0.50301276, 0.50301276, 0.85536692, 0.85536692,\n",
       "         0.54368177, 0.54368177, 0.42752211, 0.42752211, 0.75437921,\n",
       "         0.75437921, 0.46925898, 0.46925898, 0.14246665, 0.14246665,\n",
       "         0.22006655, 0.22006655, 0.29344427, 0.29344427, 0.9712218 ,\n",
       "         0.9712218 , 0.06854517, 0.06854517, 0.94637199, 0.94637199,\n",
       "         0.64710269, 0.64710269, 0.53119844, 0.53119844, 0.61912242,\n",
       "         0.61912242, 0.86051559, 0.86051559, 0.63543377, 0.63543377,\n",
       "         0.91341743, 0.91341743, 0.89196039, 0.89196039, 0.18704582,\n",
       "         0.18704582, 0.54494057, 0.54494057, 0.9243698 , 0.9243698 ,\n",
       "         0.66375682, 0.66375682, 0.2597355 , 0.2597355 , 0.55102576,\n",
       "         0.55102576, 0.87320799, 0.87320799, 0.90195438, 0.90195438])}}"
      ]
     },
     "execution_count": 11,
     "metadata": {},
     "output_type": "execute_result"
    }
   ],
   "source": [
    "ds = load_by_id(run_id_n)\n",
    "ds.get_parameter_data('x1')"
   ]
  },
  {
   "cell_type": "markdown",
   "metadata": {},
   "source": [
    "And a dataset stored as binary arrays"
   ]
  },
  {
   "cell_type": "code",
   "execution_count": 12,
   "metadata": {
    "scrolled": true
   },
   "outputs": [
    {
     "data": {
      "text/plain": [
       "{'x1': {'x1': array([[0.76135061],\n",
       "         [0.76135061],\n",
       "         [0.06117153],\n",
       "         [0.06117153],\n",
       "         [0.15221622],\n",
       "         [0.15221622],\n",
       "         [0.49030801],\n",
       "         [0.49030801],\n",
       "         [0.94956486],\n",
       "         [0.94956486],\n",
       "         [0.51070612],\n",
       "         [0.51070612],\n",
       "         [0.48980978],\n",
       "         [0.48980978],\n",
       "         [0.40360201],\n",
       "         [0.40360201],\n",
       "         [0.31577597],\n",
       "         [0.31577597],\n",
       "         [0.03448219],\n",
       "         [0.03448219],\n",
       "         [0.2391634 ],\n",
       "         [0.2391634 ],\n",
       "         [0.83840923],\n",
       "         [0.83840923],\n",
       "         [0.11238691],\n",
       "         [0.11238691],\n",
       "         [0.7328724 ],\n",
       "         [0.7328724 ],\n",
       "         [0.10003927],\n",
       "         [0.10003927],\n",
       "         [0.33186217],\n",
       "         [0.33186217],\n",
       "         [0.04005005],\n",
       "         [0.04005005],\n",
       "         [0.07041306],\n",
       "         [0.07041306],\n",
       "         [0.42310153],\n",
       "         [0.42310153],\n",
       "         [0.86082688],\n",
       "         [0.86082688],\n",
       "         [0.00570967],\n",
       "         [0.00570967],\n",
       "         [0.33883063],\n",
       "         [0.33883063],\n",
       "         [0.86509154],\n",
       "         [0.86509154],\n",
       "         [0.02628181],\n",
       "         [0.02628181],\n",
       "         [0.73628965],\n",
       "         [0.73628965],\n",
       "         [0.15364382],\n",
       "         [0.15364382],\n",
       "         [0.1832666 ],\n",
       "         [0.1832666 ],\n",
       "         [0.92093629],\n",
       "         [0.92093629],\n",
       "         [0.85930876],\n",
       "         [0.85930876],\n",
       "         [0.45659753],\n",
       "         [0.45659753],\n",
       "         [0.83688865],\n",
       "         [0.83688865],\n",
       "         [0.5936973 ],\n",
       "         [0.5936973 ],\n",
       "         [0.20629108],\n",
       "         [0.20629108],\n",
       "         [0.7275688 ],\n",
       "         [0.7275688 ],\n",
       "         [0.84281947],\n",
       "         [0.84281947],\n",
       "         [0.85171015],\n",
       "         [0.85171015],\n",
       "         [0.51120368],\n",
       "         [0.51120368],\n",
       "         [0.61607248],\n",
       "         [0.61607248],\n",
       "         [0.53418657],\n",
       "         [0.53418657],\n",
       "         [0.34399087],\n",
       "         [0.34399087],\n",
       "         [0.34933509],\n",
       "         [0.34933509],\n",
       "         [0.39383883],\n",
       "         [0.39383883],\n",
       "         [0.70462773],\n",
       "         [0.70462773],\n",
       "         [0.60114697],\n",
       "         [0.60114697],\n",
       "         [0.85986132],\n",
       "         [0.85986132],\n",
       "         [0.58127566],\n",
       "         [0.58127566],\n",
       "         [0.50777929],\n",
       "         [0.50777929],\n",
       "         [0.30597735],\n",
       "         [0.30597735],\n",
       "         [0.72739072],\n",
       "         [0.72739072],\n",
       "         [0.30019949],\n",
       "         [0.30019949],\n",
       "         [0.27591307],\n",
       "         [0.27591307],\n",
       "         [0.09590037],\n",
       "         [0.09590037],\n",
       "         [0.99547019],\n",
       "         [0.99547019],\n",
       "         [0.73550624],\n",
       "         [0.73550624],\n",
       "         [0.68313698],\n",
       "         [0.68313698],\n",
       "         [0.44279992],\n",
       "         [0.44279992],\n",
       "         [0.35660476],\n",
       "         [0.35660476],\n",
       "         [0.52346842],\n",
       "         [0.52346842],\n",
       "         [0.23467834],\n",
       "         [0.23467834],\n",
       "         [0.98502945],\n",
       "         [0.98502945],\n",
       "         [0.91958282],\n",
       "         [0.91958282],\n",
       "         [0.06145936],\n",
       "         [0.06145936],\n",
       "         [0.15793086],\n",
       "         [0.15793086],\n",
       "         [0.16571814],\n",
       "         [0.16571814],\n",
       "         [0.52313571],\n",
       "         [0.52313571],\n",
       "         [0.93087851],\n",
       "         [0.93087851],\n",
       "         [0.8246504 ],\n",
       "         [0.8246504 ],\n",
       "         [0.18075897],\n",
       "         [0.18075897],\n",
       "         [0.25228114],\n",
       "         [0.25228114],\n",
       "         [0.85284022],\n",
       "         [0.85284022],\n",
       "         [0.0815676 ],\n",
       "         [0.0815676 ],\n",
       "         [0.6572439 ],\n",
       "         [0.6572439 ],\n",
       "         [0.05499869],\n",
       "         [0.05499869],\n",
       "         [0.306923  ],\n",
       "         [0.306923  ],\n",
       "         [0.29641928],\n",
       "         [0.29641928],\n",
       "         [0.40653909],\n",
       "         [0.40653909],\n",
       "         [0.71010767],\n",
       "         [0.71010767],\n",
       "         [0.89492569],\n",
       "         [0.89492569],\n",
       "         [0.3626433 ],\n",
       "         [0.3626433 ],\n",
       "         [0.35087866],\n",
       "         [0.35087866],\n",
       "         [0.18501764],\n",
       "         [0.18501764],\n",
       "         [0.34931218],\n",
       "         [0.34931218],\n",
       "         [0.33729683],\n",
       "         [0.33729683],\n",
       "         [0.91508789],\n",
       "         [0.91508789],\n",
       "         [0.20375252],\n",
       "         [0.20375252],\n",
       "         [0.53563516],\n",
       "         [0.53563516],\n",
       "         [0.4706791 ],\n",
       "         [0.4706791 ],\n",
       "         [0.13432839],\n",
       "         [0.13432839],\n",
       "         [0.55175467],\n",
       "         [0.55175467],\n",
       "         [0.51895275],\n",
       "         [0.51895275],\n",
       "         [0.4562351 ],\n",
       "         [0.4562351 ],\n",
       "         [0.28978316],\n",
       "         [0.28978316],\n",
       "         [0.94156358],\n",
       "         [0.94156358],\n",
       "         [0.42988013],\n",
       "         [0.42988013],\n",
       "         [0.13984768],\n",
       "         [0.13984768],\n",
       "         [0.8530813 ],\n",
       "         [0.8530813 ],\n",
       "         [0.15458283],\n",
       "         [0.15458283],\n",
       "         [0.70521507],\n",
       "         [0.70521507],\n",
       "         [0.53627754],\n",
       "         [0.53627754],\n",
       "         [0.58396541],\n",
       "         [0.58396541]])}}"
      ]
     },
     "execution_count": 12,
     "metadata": {},
     "output_type": "execute_result"
    }
   ],
   "source": [
    "ds = load_by_id(run_id_a)\n",
    "ds.get_parameter_data('x1')"
   ]
  },
  {
   "cell_type": "code",
   "execution_count": null,
   "metadata": {},
   "outputs": [],
   "source": []
  }
 ],
 "metadata": {
  "kernelspec": {
   "display_name": "Python 3",
   "language": "python",
   "name": "python3"
  },
  "language_info": {
   "codemirror_mode": {
    "name": "ipython",
    "version": 3
   },
   "file_extension": ".py",
   "mimetype": "text/x-python",
   "name": "python",
   "nbconvert_exporter": "python",
   "pygments_lexer": "ipython3",
   "version": "3.7.7"
  },
  "nbsphinx": {
   "timeout": 600
  },
  "toc": {
   "base_numbering": 1,
   "nav_menu": {},
   "number_sections": true,
   "sideBar": true,
   "skip_h1_title": false,
   "title_cell": "Table of Contents",
   "title_sidebar": "Contents",
   "toc_cell": false,
   "toc_position": {},
   "toc_section_display": true,
   "toc_window_display": false
  },
  "varInspector": {
   "cols": {
    "lenName": 16,
    "lenType": 16,
    "lenVar": 40
   },
   "kernels_config": {
    "python": {
     "delete_cmd_postfix": "",
     "delete_cmd_prefix": "del ",
     "library": "var_list.py",
     "varRefreshCmd": "print(var_dic_list())"
    },
    "r": {
     "delete_cmd_postfix": ") ",
     "delete_cmd_prefix": "rm(",
     "library": "var_list.r",
     "varRefreshCmd": "cat(var_dic_list()) "
    }
   },
   "types_to_exclude": [
    "module",
    "function",
    "builtin_function_or_method",
    "instance",
    "_Feature"
   ],
   "window_display": false
  }
 },
 "nbformat": 4,
 "nbformat_minor": 2
}
