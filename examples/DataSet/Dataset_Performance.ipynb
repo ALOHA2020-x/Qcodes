{
 "cells": [
  {
   "cell_type": "markdown",
   "metadata": {},
   "source": [
    "# DataSet Performance\n",
    "\n",
    "This notebook shows the trade-off between inserting data into a database row-by-row and as binary blobs. Inserting the data row-by-row means that we have direct access to all the data and may perform queries directly on the values of the data. On the other hand, as we shall see, this is much slower than inserting the data directly as binary blobs."
   ]
  },
  {
   "cell_type": "markdown",
   "metadata": {},
   "source": [
    "First, we choose a new location for the database to ensure that we don't add a bunch of benchmarking data to the default one."
   ]
  },
  {
   "cell_type": "code",
   "execution_count": 1,
   "metadata": {},
   "outputs": [
    {
     "name": "stdout",
     "output_type": "stream",
     "text": [
      "Logging hadn't been started.\n",
      "Activating auto-logging. Current session state plus future input saved.\n",
      "Filename       : /home/vsts/.qcodes/logs/command_history.log\n",
      "Mode           : append\n",
      "Output logging : True\n",
      "Raw input log  : False\n",
      "Timestamping   : True\n",
      "State          : active\n"
     ]
    },
    {
     "name": "stdout",
     "output_type": "stream",
     "text": [
      "Qcodes Logfile : /home/vsts/.qcodes/logs/200804-19077-qcodes.log\n"
     ]
    }
   ],
   "source": [
    "import os\n",
    "cwd = os.getcwd()\n",
    "import qcodes as qc\n",
    "qc.config[\"core\"][\"db_location\"] = os.path.join(cwd, 'testing.db')\n"
   ]
  },
  {
   "cell_type": "code",
   "execution_count": 2,
   "metadata": {},
   "outputs": [],
   "source": [
    "%matplotlib inline\n",
    "import time\n",
    "import matplotlib.pyplot as plt\n",
    "import numpy as np\n",
    "\n",
    "import qcodes as qc\n",
    "from qcodes.instrument.parameter import ManualParameter\n",
    "from qcodes.dataset.experiment_container import (Experiment,\n",
    "                                                 load_last_experiment,\n",
    "                                                 new_experiment)\n",
    "from qcodes.dataset.sqlite.database import initialise_database\n",
    "from qcodes import load_or_create_experiment\n",
    "from qcodes.dataset.measurements import Measurement"
   ]
  },
  {
   "cell_type": "code",
   "execution_count": 3,
   "metadata": {},
   "outputs": [
    {
     "name": "stdout",
     "output_type": "stream",
     "text": [
      "\r",
      "0it [00:00, ?it/s]"
     ]
    },
    {
     "name": "stdout",
     "output_type": "stream",
     "text": [
      "\r",
      "Upgrading database; v0 -> v1: : 0it [00:00, ?it/s]"
     ]
    },
    {
     "name": "stdout",
     "output_type": "stream",
     "text": [
      "\r",
      "Upgrading database; v0 -> v1: : 0it [00:00, ?it/s]"
     ]
    },
    {
     "name": "stdout",
     "output_type": "stream",
     "text": [
      "\n",
      "\r",
      "  0%|          | 0/1 [00:00<?, ?it/s]"
     ]
    },
    {
     "name": "stdout",
     "output_type": "stream",
     "text": [
      "\r",
      "Upgrading database; v1 -> v2:   0%|          | 0/1 [00:00<?, ?it/s]"
     ]
    },
    {
     "name": "stdout",
     "output_type": "stream",
     "text": [
      "\r",
      "Upgrading database; v1 -> v2: 100%|██████████| 1/1 [00:00<00:00, 716.73it/s]"
     ]
    },
    {
     "name": "stdout",
     "output_type": "stream",
     "text": [
      "\n",
      "\r",
      "0it [00:00, ?it/s]"
     ]
    },
    {
     "name": "stdout",
     "output_type": "stream",
     "text": [
      "\r",
      "Upgrading database; v2 -> v3: : 0it [00:00, ?it/s]"
     ]
    },
    {
     "name": "stdout",
     "output_type": "stream",
     "text": [
      "\r",
      "Upgrading database; v2 -> v3: : 0it [00:00, ?it/s]"
     ]
    },
    {
     "name": "stdout",
     "output_type": "stream",
     "text": [
      "\n",
      "\r",
      "0it [00:00, ?it/s]"
     ]
    },
    {
     "name": "stdout",
     "output_type": "stream",
     "text": [
      "\r",
      "Upgrading database; v3 -> v4: : 0it [00:00, ?it/s]"
     ]
    },
    {
     "name": "stdout",
     "output_type": "stream",
     "text": [
      "\r",
      "Upgrading database; v3 -> v4: : 0it [00:00, ?it/s]"
     ]
    },
    {
     "name": "stdout",
     "output_type": "stream",
     "text": [
      "\n",
      "\r",
      "  0%|          | 0/1 [00:00<?, ?it/s]"
     ]
    },
    {
     "name": "stdout",
     "output_type": "stream",
     "text": [
      "\r",
      "Upgrading database; v4 -> v5:   0%|          | 0/1 [00:00<?, ?it/s]"
     ]
    },
    {
     "name": "stdout",
     "output_type": "stream",
     "text": [
      "\r",
      "Upgrading database; v4 -> v5: 100%|██████████| 1/1 [00:00<00:00, 832.04it/s]"
     ]
    },
    {
     "name": "stdout",
     "output_type": "stream",
     "text": [
      "\n",
      "\r",
      "0it [00:00, ?it/s]"
     ]
    },
    {
     "name": "stdout",
     "output_type": "stream",
     "text": [
      "\r",
      "Upgrading database; v5 -> v6: : 0it [00:00, ?it/s]"
     ]
    },
    {
     "name": "stdout",
     "output_type": "stream",
     "text": [
      "\r",
      "Upgrading database; v5 -> v6: : 0it [00:00, ?it/s]"
     ]
    },
    {
     "name": "stdout",
     "output_type": "stream",
     "text": [
      "\n",
      "\r",
      "  0%|          | 0/1 [00:00<?, ?it/s]"
     ]
    },
    {
     "name": "stdout",
     "output_type": "stream",
     "text": [
      "\r",
      "Upgrading database; v6 -> v7:   0%|          | 0/1 [00:00<?, ?it/s]"
     ]
    },
    {
     "name": "stdout",
     "output_type": "stream",
     "text": [
      "\r",
      "Upgrading database; v6 -> v7: 100%|██████████| 1/1 [00:00<00:00, 404.39it/s]"
     ]
    },
    {
     "name": "stdout",
     "output_type": "stream",
     "text": [
      "\n",
      "\r",
      "  0%|          | 0/1 [00:00<?, ?it/s]"
     ]
    },
    {
     "name": "stdout",
     "output_type": "stream",
     "text": [
      "\r",
      "Upgrading database; v7 -> v8:   0%|          | 0/1 [00:00<?, ?it/s]"
     ]
    },
    {
     "name": "stdout",
     "output_type": "stream",
     "text": [
      "\r",
      "Upgrading database; v7 -> v8: 100%|██████████| 1/1 [00:00<00:00, 610.08it/s]"
     ]
    },
    {
     "name": "stdout",
     "output_type": "stream",
     "text": [
      "\n",
      "\r",
      "  0%|          | 0/1 [00:00<?, ?it/s]"
     ]
    },
    {
     "name": "stdout",
     "output_type": "stream",
     "text": [
      "\r",
      "Upgrading database; v8 -> v9:   0%|          | 0/1 [00:00<?, ?it/s]"
     ]
    },
    {
     "name": "stdout",
     "output_type": "stream",
     "text": [
      "\r",
      "Upgrading database; v8 -> v9: 100%|██████████| 1/1 [00:00<00:00, 737.91it/s]"
     ]
    },
    {
     "name": "stdout",
     "output_type": "stream",
     "text": [
      "\n"
     ]
    }
   ],
   "source": [
    "initialise_database()\n",
    "exp = load_or_create_experiment(experiment_name='tutorial_exp', sample_name=\"no sample\")"
   ]
  },
  {
   "cell_type": "markdown",
   "metadata": {},
   "source": [
    "Here, we define a simple function to benchmark the time it takes to insert n points with either numeric or array data type.\n",
    "We will compare both the time used to call ``add_result`` and the time used for the full measurement."
   ]
  },
  {
   "cell_type": "code",
   "execution_count": 4,
   "metadata": {},
   "outputs": [],
   "source": [
    "def insert_data(paramtype, npoints, nreps=1):\n",
    "\n",
    "    meas = Measurement(exp=exp)\n",
    "\n",
    "    x1 = ManualParameter('x1')\n",
    "    x2 = ManualParameter('x2')\n",
    "    x3 = ManualParameter('x3')\n",
    "    y1 = ManualParameter('y1')\n",
    "    y2 = ManualParameter('y2')\n",
    "\n",
    "    meas.register_parameter(x1, paramtype=paramtype)\n",
    "    meas.register_parameter(x2, paramtype=paramtype)\n",
    "    meas.register_parameter(x3, paramtype=paramtype)\n",
    "    meas.register_parameter(y1, setpoints=[x1, x2, x3],\n",
    "                            paramtype=paramtype)\n",
    "    meas.register_parameter(y2, setpoints=[x1, x2, x3],\n",
    "                            paramtype=paramtype)\n",
    "    start = time.perf_counter()\n",
    "    with meas.run() as datasaver:\n",
    "        start_adding = time.perf_counter()\n",
    "        for i in range(nreps):\n",
    "            datasaver.add_result((x1, np.random.rand(npoints)),\n",
    "                                 (x2, np.random.rand(npoints)),\n",
    "                                 (x3, np.random.rand(npoints)),\n",
    "                                 (y1, np.random.rand(npoints)),\n",
    "                                 (y2, np.random.rand(npoints)))\n",
    "        stop_adding = time.perf_counter()\n",
    "        run_id = datasaver.run_id\n",
    "    stop = time.perf_counter()\n",
    "    tot_time = stop - start\n",
    "    add_time = stop_adding - start_adding\n",
    "    return tot_time, add_time, run_id"
   ]
  },
  {
   "cell_type": "markdown",
   "metadata": {},
   "source": [
    "## Comparison between numeric/array data and binary blob"
   ]
  },
  {
   "cell_type": "markdown",
   "metadata": {},
   "source": [
    "### Case1: Short experiment time"
   ]
  },
  {
   "cell_type": "code",
   "execution_count": 5,
   "metadata": {},
   "outputs": [
    {
     "name": "stdout",
     "output_type": "stream",
     "text": [
      "Starting experimental run with id: 1. \n",
      "Starting experimental run with id: 2. \n",
      "Starting experimental run with id: 3. \n"
     ]
    },
    {
     "name": "stdout",
     "output_type": "stream",
     "text": [
      "Starting experimental run with id: 4. \n"
     ]
    },
    {
     "name": "stdout",
     "output_type": "stream",
     "text": [
      "Starting experimental run with id: 5. \n"
     ]
    },
    {
     "name": "stdout",
     "output_type": "stream",
     "text": [
      "Starting experimental run with id: 6. \n",
      "Starting experimental run with id: 7. \n"
     ]
    },
    {
     "name": "stdout",
     "output_type": "stream",
     "text": [
      "Starting experimental run with id: 8. \n",
      "Starting experimental run with id: 9. \n"
     ]
    },
    {
     "name": "stdout",
     "output_type": "stream",
     "text": [
      "Starting experimental run with id: 10. \n",
      "Starting experimental run with id: 11. \n"
     ]
    },
    {
     "name": "stdout",
     "output_type": "stream",
     "text": [
      "Starting experimental run with id: 12. \n",
      "Starting experimental run with id: 13. \n"
     ]
    },
    {
     "name": "stdout",
     "output_type": "stream",
     "text": [
      "Starting experimental run with id: 14. \n"
     ]
    }
   ],
   "source": [
    "sizes = [1,500,1000,2000,3000,4000,5000]\n",
    "t_numeric = []\n",
    "t_numeric_add = []\n",
    "t_array = []\n",
    "t_array_add = []\n",
    "for size in sizes:\n",
    "    tn, tna, run_id_n =  insert_data('numeric', size)\n",
    "    t_numeric.append(tn)\n",
    "    t_numeric_add.append(tna)\n",
    "\n",
    "    ta, taa, run_id_a =  insert_data('array', size)\n",
    "    t_array.append(ta)\n",
    "    t_array_add.append(taa)"
   ]
  },
  {
   "cell_type": "code",
   "execution_count": 6,
   "metadata": {},
   "outputs": [
    {
     "data": {
      "image/png": "[encoded data removed]",
      "text/plain": [
       "<Figure size 432x288 with 1 Axes>"
      ]
     },
     "metadata": {
      "needs_background": "light"
     },
     "output_type": "display_data"
    }
   ],
   "source": [
    "fig, ax = plt.subplots(1,1)\n",
    "ax.plot(sizes, t_numeric, 'o-', label='Inserting row-by-row')\n",
    "ax.plot(sizes, t_numeric_add, 'o-', label='Inserting row-by-row: add_result only')\n",
    "ax.plot(sizes, t_array, 'd-', label='Inserting as binary blob')\n",
    "ax.plot(sizes, t_array_add, 'd-', label='Inserting as binary blob: add_result only')\n",
    "ax.legend()\n",
    "ax.set_xlabel('Array length')\n",
    "ax.set_ylabel('Time (s)')\n",
    "fig.tight_layout()"
   ]
  },
  {
   "cell_type": "markdown",
   "metadata": {},
   "source": [
    "As shown in the latter figure, the time to setup and and close the experiment is approximately 0.4 sec. In case of small array sizes, the difference between inserting values of data as arrays and inserting them row-by-row is relatively unimportant. At larger array sizes, i.e. above 10000 points, the cost of writing data as individual datapoints starts to become important.\n"
   ]
  },
  {
   "cell_type": "markdown",
   "metadata": {},
   "source": [
    "### Case2: Long experiment time "
   ]
  },
  {
   "cell_type": "code",
   "execution_count": 7,
   "metadata": {},
   "outputs": [
    {
     "name": "stdout",
     "output_type": "stream",
     "text": [
      "Starting experimental run with id: 15. \n",
      "Starting experimental run with id: 16. \n",
      "Starting experimental run with id: 17. \n"
     ]
    },
    {
     "name": "stdout",
     "output_type": "stream",
     "text": [
      "Starting experimental run with id: 18. \n",
      "Starting experimental run with id: 19. \n"
     ]
    },
    {
     "name": "stdout",
     "output_type": "stream",
     "text": [
      "Starting experimental run with id: 20. \n"
     ]
    },
    {
     "name": "stdout",
     "output_type": "stream",
     "text": [
      "Starting experimental run with id: 21. \n"
     ]
    },
    {
     "name": "stdout",
     "output_type": "stream",
     "text": [
      "Starting experimental run with id: 22. \n"
     ]
    },
    {
     "name": "stdout",
     "output_type": "stream",
     "text": [
      "Starting experimental run with id: 23. \n"
     ]
    },
    {
     "name": "stdout",
     "output_type": "stream",
     "text": [
      "Starting experimental run with id: 24. \n"
     ]
    },
    {
     "name": "stdout",
     "output_type": "stream",
     "text": [
      "Starting experimental run with id: 25. \n"
     ]
    },
    {
     "name": "stdout",
     "output_type": "stream",
     "text": [
      "Starting experimental run with id: 26. \n"
     ]
    },
    {
     "name": "stdout",
     "output_type": "stream",
     "text": [
      "Starting experimental run with id: 27. \n"
     ]
    },
    {
     "name": "stdout",
     "output_type": "stream",
     "text": [
      "Starting experimental run with id: 28. \n"
     ]
    }
   ],
   "source": [
    "sizes = [1,500,1000,2000,3000,4000,5000]\n",
    "nreps = 100\n",
    "t_numeric = []\n",
    "t_numeric_add = []\n",
    "t_numeric_run_ids = []\n",
    "t_array = []\n",
    "t_array_add = []\n",
    "t_array_run_ids = []\n",
    "for size in sizes:\n",
    "    tn, tna, run_id_n =  insert_data('numeric', size, nreps=nreps)\n",
    "    t_numeric.append(tn)\n",
    "    t_numeric_add.append(tna)\n",
    "    t_numeric_run_ids.append(run_id_n)\n",
    "\n",
    "    ta, taa, run_id_a =  insert_data('array', size, nreps=nreps)\n",
    "    t_array.append(ta)\n",
    "    t_array_add.append(taa)\n",
    "    t_array_run_ids.append(run_id_a)"
   ]
  },
  {
   "cell_type": "code",
   "execution_count": 8,
   "metadata": {
    "scrolled": true
   },
   "outputs": [
    {
     "data": {
      "image/png": "[encoded data removed]",
      "text/plain": [
       "<Figure size 432x288 with 1 Axes>"
      ]
     },
     "metadata": {
      "needs_background": "light"
     },
     "output_type": "display_data"
    }
   ],
   "source": [
    "fig, ax = plt.subplots(1,1)\n",
    "ax.plot(sizes, t_numeric, 'o-', label='Inserting row-by-row')\n",
    "ax.plot(sizes, t_numeric_add, 'o-', label='Inserting row-by-row: add_result only')\n",
    "ax.plot(sizes, t_array, 'd-', label='Inserting as binary blob')\n",
    "ax.plot(sizes, t_array_add, 'd-', label='Inserting as binary blob: add_result only')\n",
    "ax.legend()\n",
    "ax.set_xlabel('Array length')\n",
    "ax.set_ylabel('Time (s)')\n",
    "fig.tight_layout()"
   ]
  },
  {
   "cell_type": "markdown",
   "metadata": {},
   "source": [
    "However, as we increase the length of the experiment, as seen here by repeating the insertion 100 times, we see a big difference between inserting values of the data row-by-row and inserting it as a binary blob."
   ]
  },
  {
   "cell_type": "markdown",
   "metadata": {},
   "source": [
    "## Loading the data "
   ]
  },
  {
   "cell_type": "code",
   "execution_count": 9,
   "metadata": {},
   "outputs": [],
   "source": [
    "from qcodes.dataset.data_set import load_by_id\n",
    "from qcodes.dataset.data_export import get_data_by_id"
   ]
  },
  {
   "cell_type": "markdown",
   "metadata": {},
   "source": [
    "As usual you can load the data by using the ``load_by_id`` function but you will notice that the different storage methods\n",
    "are reflected in shape of the data as it is retrieved. "
   ]
  },
  {
   "cell_type": "code",
   "execution_count": 10,
   "metadata": {},
   "outputs": [],
   "source": [
    "run_id_n = t_numeric_run_ids[0]\n",
    "run_id_a = t_array_run_ids[0]"
   ]
  },
  {
   "cell_type": "code",
   "execution_count": 11,
   "metadata": {
    "scrolled": true
   },
   "outputs": [
    {
     "data": {
      "text/plain": [
       "{'x1': {'x1': array([0.47898462, 0.47898462, 0.79513901, 0.79513901, 0.01502044,\n",
       "         0.01502044, 0.56814222, 0.56814222, 0.44770188, 0.44770188,\n",
       "         0.83139615, 0.83139615, 0.64592153, 0.64592153, 0.44611873,\n",
       "         0.44611873, 0.90371551, 0.90371551, 0.83125517, 0.83125517,\n",
       "         0.12201905, 0.12201905, 0.59768948, 0.59768948, 0.39087446,\n",
       "         0.39087446, 0.04802212, 0.04802212, 0.6554746 , 0.6554746 ,\n",
       "         0.78709788, 0.78709788, 0.65269904, 0.65269904, 0.31879467,\n",
       "         0.31879467, 0.87826531, 0.87826531, 0.37505192, 0.37505192,\n",
       "         0.56263369, 0.56263369, 0.66074308, 0.66074308, 0.38736468,\n",
       "         0.38736468, 0.21765986, 0.21765986, 0.59252974, 0.59252974,\n",
       "         0.03187357, 0.03187357, 0.19712535, 0.19712535, 0.82291061,\n",
       "         0.82291061, 0.42834343, 0.42834343, 0.51300475, 0.51300475,\n",
       "         0.77498225, 0.77498225, 0.93840186, 0.93840186, 0.59984887,\n",
       "         0.59984887, 0.37429935, 0.37429935, 0.32433378, 0.32433378,\n",
       "         0.87361589, 0.87361589, 0.6616958 , 0.6616958 , 0.54936173,\n",
       "         0.54936173, 0.6819606 , 0.6819606 , 0.79299924, 0.79299924,\n",
       "         0.42214336, 0.42214336, 0.58052408, 0.58052408, 0.37944819,\n",
       "         0.37944819, 0.93364647, 0.93364647, 0.20123338, 0.20123338,\n",
       "         0.77176082, 0.77176082, 0.08301223, 0.08301223, 0.56421728,\n",
       "         0.56421728, 0.58849642, 0.58849642, 0.55410513, 0.55410513,\n",
       "         0.66973792, 0.66973792, 0.29885638, 0.29885638, 0.25482846,\n",
       "         0.25482846, 0.42549936, 0.42549936, 0.67935704, 0.67935704,\n",
       "         0.48153326, 0.48153326, 0.11420184, 0.11420184, 0.36303563,\n",
       "         0.36303563, 0.06944485, 0.06944485, 0.21199316, 0.21199316,\n",
       "         0.46821793, 0.46821793, 0.12368296, 0.12368296, 0.06924408,\n",
       "         0.06924408, 0.89749613, 0.89749613, 0.63185774, 0.63185774,\n",
       "         0.62463187, 0.62463187, 0.78835865, 0.78835865, 0.9225577 ,\n",
       "         0.9225577 , 0.11088696, 0.11088696, 0.86547144, 0.86547144,\n",
       "         0.97686041, 0.97686041, 0.80037133, 0.80037133, 0.55576415,\n",
       "         0.55576415, 0.53291219, 0.53291219, 0.83438967, 0.83438967,\n",
       "         0.4488117 , 0.4488117 , 0.65288595, 0.65288595, 0.46619743,\n",
       "         0.46619743, 0.95430578, 0.95430578, 0.02939199, 0.02939199,\n",
       "         0.39097073, 0.39097073, 0.58733836, 0.58733836, 0.02997056,\n",
       "         0.02997056, 0.2669142 , 0.2669142 , 0.61426315, 0.61426315,\n",
       "         0.35055971, 0.35055971, 0.0095952 , 0.0095952 , 0.50545522,\n",
       "         0.50545522, 0.25213904, 0.25213904, 0.46679982, 0.46679982,\n",
       "         0.8928606 , 0.8928606 , 0.50872816, 0.50872816, 0.38030931,\n",
       "         0.38030931, 0.44888688, 0.44888688, 0.36709338, 0.36709338,\n",
       "         0.02627197, 0.02627197, 0.00363232, 0.00363232, 0.99259243,\n",
       "         0.99259243, 0.33947209, 0.33947209, 0.45252608, 0.45252608])}}"
      ]
     },
     "execution_count": 11,
     "metadata": {},
     "output_type": "execute_result"
    }
   ],
   "source": [
    "ds = load_by_id(run_id_n)\n",
    "ds.get_parameter_data('x1')"
   ]
  },
  {
   "cell_type": "markdown",
   "metadata": {},
   "source": [
    "And a dataset stored as binary arrays"
   ]
  },
  {
   "cell_type": "code",
   "execution_count": 12,
   "metadata": {
    "scrolled": true
   },
   "outputs": [
    {
     "data": {
      "text/plain": [
       "{'x1': {'x1': array([[0.23096298],\n",
       "         [0.23096298],\n",
       "         [0.5812815 ],\n",
       "         [0.5812815 ],\n",
       "         [0.41321462],\n",
       "         [0.41321462],\n",
       "         [0.9399737 ],\n",
       "         [0.9399737 ],\n",
       "         [0.77555462],\n",
       "         [0.77555462],\n",
       "         [0.11355764],\n",
       "         [0.11355764],\n",
       "         [0.67168812],\n",
       "         [0.67168812],\n",
       "         [0.11592822],\n",
       "         [0.11592822],\n",
       "         [0.64505632],\n",
       "         [0.64505632],\n",
       "         [0.62619158],\n",
       "         [0.62619158],\n",
       "         [0.65134802],\n",
       "         [0.65134802],\n",
       "         [0.44404935],\n",
       "         [0.44404935],\n",
       "         [0.61741422],\n",
       "         [0.61741422],\n",
       "         [0.46855106],\n",
       "         [0.46855106],\n",
       "         [0.64381105],\n",
       "         [0.64381105],\n",
       "         [0.90011366],\n",
       "         [0.90011366],\n",
       "         [0.23223325],\n",
       "         [0.23223325],\n",
       "         [0.5649863 ],\n",
       "         [0.5649863 ],\n",
       "         [0.38787949],\n",
       "         [0.38787949],\n",
       "         [0.50270367],\n",
       "         [0.50270367],\n",
       "         [0.49798931],\n",
       "         [0.49798931],\n",
       "         [0.15044086],\n",
       "         [0.15044086],\n",
       "         [0.99625231],\n",
       "         [0.99625231],\n",
       "         [0.73409172],\n",
       "         [0.73409172],\n",
       "         [0.33082357],\n",
       "         [0.33082357],\n",
       "         [0.60431268],\n",
       "         [0.60431268],\n",
       "         [0.8525921 ],\n",
       "         [0.8525921 ],\n",
       "         [0.35670567],\n",
       "         [0.35670567],\n",
       "         [0.33268655],\n",
       "         [0.33268655],\n",
       "         [0.21853893],\n",
       "         [0.21853893],\n",
       "         [0.77139157],\n",
       "         [0.77139157],\n",
       "         [0.47301451],\n",
       "         [0.47301451],\n",
       "         [0.78101922],\n",
       "         [0.78101922],\n",
       "         [0.62912762],\n",
       "         [0.62912762],\n",
       "         [0.74309278],\n",
       "         [0.74309278],\n",
       "         [0.10552109],\n",
       "         [0.10552109],\n",
       "         [0.54929528],\n",
       "         [0.54929528],\n",
       "         [0.44307811],\n",
       "         [0.44307811],\n",
       "         [0.72787271],\n",
       "         [0.72787271],\n",
       "         [0.00912221],\n",
       "         [0.00912221],\n",
       "         [0.14368603],\n",
       "         [0.14368603],\n",
       "         [0.47588069],\n",
       "         [0.47588069],\n",
       "         [0.43742616],\n",
       "         [0.43742616],\n",
       "         [0.23196694],\n",
       "         [0.23196694],\n",
       "         [0.04979174],\n",
       "         [0.04979174],\n",
       "         [0.19999449],\n",
       "         [0.19999449],\n",
       "         [0.8517138 ],\n",
       "         [0.8517138 ],\n",
       "         [0.46810349],\n",
       "         [0.46810349],\n",
       "         [0.0640336 ],\n",
       "         [0.0640336 ],\n",
       "         [0.35568607],\n",
       "         [0.35568607],\n",
       "         [0.99220826],\n",
       "         [0.99220826],\n",
       "         [0.51012116],\n",
       "         [0.51012116],\n",
       "         [0.65636028],\n",
       "         [0.65636028],\n",
       "         [0.24422466],\n",
       "         [0.24422466],\n",
       "         [0.52633965],\n",
       "         [0.52633965],\n",
       "         [0.19255715],\n",
       "         [0.19255715],\n",
       "         [0.84455884],\n",
       "         [0.84455884],\n",
       "         [0.53968321],\n",
       "         [0.53968321],\n",
       "         [0.80966164],\n",
       "         [0.80966164],\n",
       "         [0.29746705],\n",
       "         [0.29746705],\n",
       "         [0.19275423],\n",
       "         [0.19275423],\n",
       "         [0.76747449],\n",
       "         [0.76747449],\n",
       "         [0.31154258],\n",
       "         [0.31154258],\n",
       "         [0.49191146],\n",
       "         [0.49191146],\n",
       "         [0.04750723],\n",
       "         [0.04750723],\n",
       "         [0.25297437],\n",
       "         [0.25297437],\n",
       "         [0.74872843],\n",
       "         [0.74872843],\n",
       "         [0.18453165],\n",
       "         [0.18453165],\n",
       "         [0.01296828],\n",
       "         [0.01296828],\n",
       "         [0.85626164],\n",
       "         [0.85626164],\n",
       "         [0.53471404],\n",
       "         [0.53471404],\n",
       "         [0.00396736],\n",
       "         [0.00396736],\n",
       "         [0.99911066],\n",
       "         [0.99911066],\n",
       "         [0.26154471],\n",
       "         [0.26154471],\n",
       "         [0.70597329],\n",
       "         [0.70597329],\n",
       "         [0.37451705],\n",
       "         [0.37451705],\n",
       "         [0.55413451],\n",
       "         [0.55413451],\n",
       "         [0.01756756],\n",
       "         [0.01756756],\n",
       "         [0.7138891 ],\n",
       "         [0.7138891 ],\n",
       "         [0.32181287],\n",
       "         [0.32181287],\n",
       "         [0.63111684],\n",
       "         [0.63111684],\n",
       "         [0.04798613],\n",
       "         [0.04798613],\n",
       "         [0.43739155],\n",
       "         [0.43739155],\n",
       "         [0.10095428],\n",
       "         [0.10095428],\n",
       "         [0.33016793],\n",
       "         [0.33016793],\n",
       "         [0.66326435],\n",
       "         [0.66326435],\n",
       "         [0.79235789],\n",
       "         [0.79235789],\n",
       "         [0.83732415],\n",
       "         [0.83732415],\n",
       "         [0.71221539],\n",
       "         [0.71221539],\n",
       "         [0.59606006],\n",
       "         [0.59606006],\n",
       "         [0.26132679],\n",
       "         [0.26132679],\n",
       "         [0.18177614],\n",
       "         [0.18177614],\n",
       "         [0.75470151],\n",
       "         [0.75470151],\n",
       "         [0.37256948],\n",
       "         [0.37256948],\n",
       "         [0.67211643],\n",
       "         [0.67211643],\n",
       "         [0.87479704],\n",
       "         [0.87479704],\n",
       "         [0.34787304],\n",
       "         [0.34787304],\n",
       "         [0.84060719],\n",
       "         [0.84060719],\n",
       "         [0.64660859],\n",
       "         [0.64660859],\n",
       "         [0.00292481],\n",
       "         [0.00292481]])}}"
      ]
     },
     "execution_count": 12,
     "metadata": {},
     "output_type": "execute_result"
    }
   ],
   "source": [
    "ds = load_by_id(run_id_a)\n",
    "ds.get_parameter_data('x1')"
   ]
  },
  {
   "cell_type": "code",
   "execution_count": null,
   "metadata": {},
   "outputs": [],
   "source": []
  }
 ],
 "metadata": {
  "kernelspec": {
   "display_name": "Python 3",
   "language": "python",
   "name": "python3"
  },
  "language_info": {
   "codemirror_mode": {
    "name": "ipython",
    "version": 3
   },
   "file_extension": ".py",
   "mimetype": "text/x-python",
   "name": "python",
   "nbconvert_exporter": "python",
   "pygments_lexer": "ipython3",
   "version": "3.7.7"
  },
  "nbsphinx": {
   "timeout": 600
  },
  "toc": {
   "base_numbering": 1,
   "nav_menu": {},
   "number_sections": true,
   "sideBar": true,
   "skip_h1_title": false,
   "title_cell": "Table of Contents",
   "title_sidebar": "Contents",
   "toc_cell": false,
   "toc_position": {},
   "toc_section_display": true,
   "toc_window_display": false
  },
  "varInspector": {
   "cols": {
    "lenName": 16,
    "lenType": 16,
    "lenVar": 40
   },
   "kernels_config": {
    "python": {
     "delete_cmd_postfix": "",
     "delete_cmd_prefix": "del ",
     "library": "var_list.py",
     "varRefreshCmd": "print(var_dic_list())"
    },
    "r": {
     "delete_cmd_postfix": ") ",
     "delete_cmd_prefix": "rm(",
     "library": "var_list.r",
     "varRefreshCmd": "cat(var_dic_list()) "
    }
   },
   "types_to_exclude": [
    "module",
    "function",
    "builtin_function_or_method",
    "instance",
    "_Feature"
   ],
   "window_display": false
  }
 },
 "nbformat": 4,
 "nbformat_minor": 2
}
