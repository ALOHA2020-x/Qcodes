{
 "cells": [
  {
   "cell_type": "markdown",
   "metadata": {},
   "source": [
    "# DataSet Performance\n",
    "\n",
    "This notebook shows the trade-off between inserting data into a database row-by-row and as binary blobs. Inserting the data row-by-row means that we have direct access to all the data and may perform queries directly on the values of the data. On the other hand, as we shall see, this is much slower than inserting the data directly as binary blobs."
   ]
  },
  {
   "cell_type": "markdown",
   "metadata": {},
   "source": [
    "First, we choose a new location for the database to ensure that we don't add a bunch of benchmarking data to the default one."
   ]
  },
  {
   "cell_type": "code",
   "execution_count": 1,
   "metadata": {
    "execution": {
     "iopub.execute_input": "2020-09-25T12:42:19.962516Z",
     "iopub.status.busy": "2020-09-25T12:42:19.961851Z",
     "iopub.status.idle": "2020-09-25T12:42:21.045334Z",
     "shell.execute_reply": "2020-09-25T12:42:21.044846Z"
    }
   },
   "outputs": [
    {
     "name": "stdout",
     "output_type": "stream",
     "text": [
      "Logging hadn't been started.\n",
      "Activating auto-logging. Current session state plus future input saved.\n",
      "Filename       : /home/vsts/.qcodes/logs/command_history.log\n",
      "Mode           : append\n",
      "Output logging : True\n",
      "Raw input log  : False\n",
      "Timestamping   : True\n",
      "State          : active\n"
     ]
    },
    {
     "name": "stdout",
     "output_type": "stream",
     "text": [
      "Qcodes Logfile : /home/vsts/.qcodes/logs/200925-19298-qcodes.log\n"
     ]
    }
   ],
   "source": [
    "import os\n",
    "cwd = os.getcwd()\n",
    "import qcodes as qc\n",
    "qc.config[\"core\"][\"db_location\"] = os.path.join(cwd, 'testing.db')\n"
   ]
  },
  {
   "cell_type": "code",
   "execution_count": 2,
   "metadata": {
    "execution": {
     "iopub.execute_input": "2020-09-25T12:42:21.051512Z",
     "iopub.status.busy": "2020-09-25T12:42:21.050665Z",
     "iopub.status.idle": "2020-09-25T12:42:21.245848Z",
     "shell.execute_reply": "2020-09-25T12:42:21.245022Z"
    }
   },
   "outputs": [],
   "source": [
    "%matplotlib inline\n",
    "import time\n",
    "import matplotlib.pyplot as plt\n",
    "import numpy as np\n",
    "\n",
    "import qcodes as qc\n",
    "from qcodes.instrument.parameter import ManualParameter\n",
    "from qcodes.dataset.experiment_container import (Experiment,\n",
    "                                                 load_last_experiment,\n",
    "                                                 new_experiment)\n",
    "from qcodes.dataset.sqlite.database import initialise_database\n",
    "from qcodes import load_or_create_experiment\n",
    "from qcodes.dataset.measurements import Measurement"
   ]
  },
  {
   "cell_type": "code",
   "execution_count": 3,
   "metadata": {
    "execution": {
     "iopub.execute_input": "2020-09-25T12:42:21.250219Z",
     "iopub.status.busy": "2020-09-25T12:42:21.249615Z",
     "iopub.status.idle": "2020-09-25T12:42:21.379542Z",
     "shell.execute_reply": "2020-09-25T12:42:21.380089Z"
    }
   },
   "outputs": [
    {
     "name": "stdout",
     "output_type": "stream",
     "text": [
      "\r",
      "0it [00:00, ?it/s]"
     ]
    },
    {
     "name": "stdout",
     "output_type": "stream",
     "text": [
      "\r",
      "Upgrading database; v0 -> v1: : 0it [00:00, ?it/s]"
     ]
    },
    {
     "name": "stdout",
     "output_type": "stream",
     "text": [
      "\r",
      "Upgrading database; v0 -> v1: : 0it [00:00, ?it/s]"
     ]
    },
    {
     "name": "stdout",
     "output_type": "stream",
     "text": [
      "\n",
      "\r",
      "  0%|          | 0/1 [00:00<?, ?it/s]"
     ]
    },
    {
     "name": "stdout",
     "output_type": "stream",
     "text": [
      "\r",
      "Upgrading database; v1 -> v2:   0%|          | 0/1 [00:00<?, ?it/s]"
     ]
    },
    {
     "name": "stdout",
     "output_type": "stream",
     "text": [
      "\r",
      "Upgrading database; v1 -> v2: 100%|██████████| 1/1 [00:00<00:00, 439.38it/s]"
     ]
    },
    {
     "name": "stdout",
     "output_type": "stream",
     "text": [
      "\n",
      "\r",
      "0it [00:00, ?it/s]"
     ]
    },
    {
     "name": "stdout",
     "output_type": "stream",
     "text": [
      "\r",
      "Upgrading database; v2 -> v3: : 0it [00:00, ?it/s]"
     ]
    },
    {
     "name": "stdout",
     "output_type": "stream",
     "text": [
      "\r",
      "Upgrading database; v2 -> v3: : 0it [00:00, ?it/s]"
     ]
    },
    {
     "name": "stdout",
     "output_type": "stream",
     "text": [
      "\n",
      "\r",
      "0it [00:00, ?it/s]"
     ]
    },
    {
     "name": "stdout",
     "output_type": "stream",
     "text": [
      "\r",
      "Upgrading database; v3 -> v4: : 0it [00:00, ?it/s]"
     ]
    },
    {
     "name": "stdout",
     "output_type": "stream",
     "text": [
      "\r",
      "Upgrading database; v3 -> v4: : 0it [00:00, ?it/s]"
     ]
    },
    {
     "name": "stdout",
     "output_type": "stream",
     "text": [
      "\n",
      "\r",
      "  0%|          | 0/1 [00:00<?, ?it/s]"
     ]
    },
    {
     "name": "stdout",
     "output_type": "stream",
     "text": [
      "\r",
      "Upgrading database; v4 -> v5:   0%|          | 0/1 [00:00<?, ?it/s]"
     ]
    },
    {
     "name": "stdout",
     "output_type": "stream",
     "text": [
      "\r",
      "Upgrading database; v4 -> v5: 100%|██████████| 1/1 [00:00<00:00, 475.65it/s]"
     ]
    },
    {
     "name": "stdout",
     "output_type": "stream",
     "text": [
      "\n",
      "\r",
      "0it [00:00, ?it/s]"
     ]
    },
    {
     "name": "stdout",
     "output_type": "stream",
     "text": [
      "\r",
      "Upgrading database; v5 -> v6: : 0it [00:00, ?it/s]"
     ]
    },
    {
     "name": "stdout",
     "output_type": "stream",
     "text": [
      "\r",
      "Upgrading database; v5 -> v6: : 0it [00:00, ?it/s]"
     ]
    },
    {
     "name": "stdout",
     "output_type": "stream",
     "text": [
      "\n",
      "\r",
      "  0%|          | 0/1 [00:00<?, ?it/s]"
     ]
    },
    {
     "name": "stdout",
     "output_type": "stream",
     "text": [
      "\r",
      "Upgrading database; v6 -> v7:   0%|          | 0/1 [00:00<?, ?it/s]"
     ]
    },
    {
     "name": "stdout",
     "output_type": "stream",
     "text": [
      "\r",
      "Upgrading database; v6 -> v7: 100%|██████████| 1/1 [00:00<00:00, 337.14it/s]"
     ]
    },
    {
     "name": "stdout",
     "output_type": "stream",
     "text": [
      "\n",
      "\r",
      "  0%|          | 0/1 [00:00<?, ?it/s]"
     ]
    },
    {
     "name": "stdout",
     "output_type": "stream",
     "text": [
      "\r",
      "Upgrading database; v7 -> v8:   0%|          | 0/1 [00:00<?, ?it/s]"
     ]
    },
    {
     "name": "stdout",
     "output_type": "stream",
     "text": [
      "\r",
      "Upgrading database; v7 -> v8: 100%|██████████| 1/1 [00:00<00:00, 347.38it/s]"
     ]
    },
    {
     "name": "stdout",
     "output_type": "stream",
     "text": [
      "\n",
      "\r",
      "  0%|          | 0/1 [00:00<?, ?it/s]"
     ]
    },
    {
     "name": "stdout",
     "output_type": "stream",
     "text": [
      "\r",
      "Upgrading database; v8 -> v9:   0%|          | 0/1 [00:00<?, ?it/s]"
     ]
    },
    {
     "name": "stdout",
     "output_type": "stream",
     "text": [
      "\r",
      "Upgrading database; v8 -> v9: 100%|██████████| 1/1 [00:00<00:00, 444.69it/s]"
     ]
    },
    {
     "name": "stdout",
     "output_type": "stream",
     "text": [
      "\n"
     ]
    }
   ],
   "source": [
    "initialise_database()\n",
    "exp = load_or_create_experiment(experiment_name='tutorial_exp', sample_name=\"no sample\")"
   ]
  },
  {
   "cell_type": "markdown",
   "metadata": {},
   "source": [
    "Here, we define a simple function to benchmark the time it takes to insert n points with either numeric or array data type.\n",
    "We will compare both the time used to call ``add_result`` and the time used for the full measurement."
   ]
  },
  {
   "cell_type": "code",
   "execution_count": 4,
   "metadata": {
    "execution": {
     "iopub.execute_input": "2020-09-25T12:42:21.389407Z",
     "iopub.status.busy": "2020-09-25T12:42:21.388847Z",
     "iopub.status.idle": "2020-09-25T12:42:21.391210Z",
     "shell.execute_reply": "2020-09-25T12:42:21.391911Z"
    }
   },
   "outputs": [],
   "source": [
    "def insert_data(paramtype, npoints, nreps=1):\n",
    "\n",
    "    meas = Measurement(exp=exp)\n",
    "\n",
    "    x1 = ManualParameter('x1')\n",
    "    x2 = ManualParameter('x2')\n",
    "    x3 = ManualParameter('x3')\n",
    "    y1 = ManualParameter('y1')\n",
    "    y2 = ManualParameter('y2')\n",
    "\n",
    "    meas.register_parameter(x1, paramtype=paramtype)\n",
    "    meas.register_parameter(x2, paramtype=paramtype)\n",
    "    meas.register_parameter(x3, paramtype=paramtype)\n",
    "    meas.register_parameter(y1, setpoints=[x1, x2, x3],\n",
    "                            paramtype=paramtype)\n",
    "    meas.register_parameter(y2, setpoints=[x1, x2, x3],\n",
    "                            paramtype=paramtype)\n",
    "    start = time.perf_counter()\n",
    "    with meas.run() as datasaver:\n",
    "        start_adding = time.perf_counter()\n",
    "        for i in range(nreps):\n",
    "            datasaver.add_result((x1, np.random.rand(npoints)),\n",
    "                                 (x2, np.random.rand(npoints)),\n",
    "                                 (x3, np.random.rand(npoints)),\n",
    "                                 (y1, np.random.rand(npoints)),\n",
    "                                 (y2, np.random.rand(npoints)))\n",
    "        stop_adding = time.perf_counter()\n",
    "        run_id = datasaver.run_id\n",
    "    stop = time.perf_counter()\n",
    "    tot_time = stop - start\n",
    "    add_time = stop_adding - start_adding\n",
    "    return tot_time, add_time, run_id"
   ]
  },
  {
   "cell_type": "markdown",
   "metadata": {},
   "source": [
    "## Comparison between numeric/array data and binary blob"
   ]
  },
  {
   "cell_type": "markdown",
   "metadata": {},
   "source": [
    "### Case1: Short experiment time"
   ]
  },
  {
   "cell_type": "code",
   "execution_count": 5,
   "metadata": {
    "execution": {
     "iopub.execute_input": "2020-09-25T12:42:21.398683Z",
     "iopub.status.busy": "2020-09-25T12:42:21.397381Z",
     "iopub.status.idle": "2020-09-25T12:42:22.282063Z",
     "shell.execute_reply": "2020-09-25T12:42:22.281315Z"
    }
   },
   "outputs": [
    {
     "name": "stdout",
     "output_type": "stream",
     "text": [
      "Starting experimental run with id: 1. \n",
      "Starting experimental run with id: 2. \n",
      "Starting experimental run with id: 3. \n",
      "Starting experimental run with id: 4. \n"
     ]
    },
    {
     "name": "stdout",
     "output_type": "stream",
     "text": [
      "Starting experimental run with id: 5. \n"
     ]
    },
    {
     "name": "stdout",
     "output_type": "stream",
     "text": [
      "Starting experimental run with id: 6. \n",
      "Starting experimental run with id: 7. \n"
     ]
    },
    {
     "name": "stdout",
     "output_type": "stream",
     "text": [
      "Starting experimental run with id: 8. \n",
      "Starting experimental run with id: 9. \n"
     ]
    },
    {
     "name": "stdout",
     "output_type": "stream",
     "text": [
      "Starting experimental run with id: 10. \n",
      "Starting experimental run with id: 11. \n"
     ]
    },
    {
     "name": "stdout",
     "output_type": "stream",
     "text": [
      "Starting experimental run with id: 12. \n"
     ]
    },
    {
     "name": "stdout",
     "output_type": "stream",
     "text": [
      "Starting experimental run with id: 13. \n"
     ]
    },
    {
     "name": "stdout",
     "output_type": "stream",
     "text": [
      "Starting experimental run with id: 14. \n"
     ]
    }
   ],
   "source": [
    "sizes = [1,500,1000,2000,3000,4000,5000]\n",
    "t_numeric = []\n",
    "t_numeric_add = []\n",
    "t_array = []\n",
    "t_array_add = []\n",
    "for size in sizes:\n",
    "    tn, tna, run_id_n =  insert_data('numeric', size)\n",
    "    t_numeric.append(tn)\n",
    "    t_numeric_add.append(tna)\n",
    "\n",
    "    ta, taa, run_id_a =  insert_data('array', size)\n",
    "    t_array.append(ta)\n",
    "    t_array_add.append(taa)"
   ]
  },
  {
   "cell_type": "code",
   "execution_count": 6,
   "metadata": {
    "execution": {
     "iopub.execute_input": "2020-09-25T12:42:22.300496Z",
     "iopub.status.busy": "2020-09-25T12:42:22.300011Z",
     "iopub.status.idle": "2020-09-25T12:42:22.518737Z",
     "shell.execute_reply": "2020-09-25T12:42:22.517992Z"
    }
   },
   "outputs": [
    {
     "data": {
      "image/png": "[encoded data removed]",
      "text/plain": [
       "<Figure size 432x288 with 1 Axes>"
      ]
     },
     "metadata": {
      "needs_background": "light"
     },
     "output_type": "display_data"
    }
   ],
   "source": [
    "fig, ax = plt.subplots(1,1)\n",
    "ax.plot(sizes, t_numeric, 'o-', label='Inserting row-by-row')\n",
    "ax.plot(sizes, t_numeric_add, 'o-', label='Inserting row-by-row: add_result only')\n",
    "ax.plot(sizes, t_array, 'd-', label='Inserting as binary blob')\n",
    "ax.plot(sizes, t_array_add, 'd-', label='Inserting as binary blob: add_result only')\n",
    "ax.legend()\n",
    "ax.set_xlabel('Array length')\n",
    "ax.set_ylabel('Time (s)')\n",
    "fig.tight_layout()"
   ]
  },
  {
   "cell_type": "markdown",
   "metadata": {},
   "source": [
    "As shown in the latter figure, the time to setup and and close the experiment is approximately 0.4 sec. In case of small array sizes, the difference between inserting values of data as arrays and inserting them row-by-row is relatively unimportant. At larger array sizes, i.e. above 10000 points, the cost of writing data as individual datapoints starts to become important.\n"
   ]
  },
  {
   "cell_type": "markdown",
   "metadata": {},
   "source": [
    "### Case2: Long experiment time "
   ]
  },
  {
   "cell_type": "code",
   "execution_count": 7,
   "metadata": {
    "execution": {
     "iopub.execute_input": "2020-09-25T12:42:22.526217Z",
     "iopub.status.busy": "2020-09-25T12:42:22.525442Z",
     "iopub.status.idle": "2020-09-25T12:43:19.732878Z",
     "shell.execute_reply": "2020-09-25T12:43:19.732365Z"
    }
   },
   "outputs": [
    {
     "name": "stdout",
     "output_type": "stream",
     "text": [
      "Starting experimental run with id: 15. \n",
      "Starting experimental run with id: 16. \n",
      "Starting experimental run with id: 17. \n"
     ]
    },
    {
     "name": "stdout",
     "output_type": "stream",
     "text": [
      "Starting experimental run with id: 18. \n",
      "Starting experimental run with id: 19. \n"
     ]
    },
    {
     "name": "stdout",
     "output_type": "stream",
     "text": [
      "Starting experimental run with id: 20. \n"
     ]
    },
    {
     "name": "stdout",
     "output_type": "stream",
     "text": [
      "Starting experimental run with id: 21. \n"
     ]
    },
    {
     "name": "stdout",
     "output_type": "stream",
     "text": [
      "Starting experimental run with id: 22. \n"
     ]
    },
    {
     "name": "stdout",
     "output_type": "stream",
     "text": [
      "Starting experimental run with id: 23. \n"
     ]
    },
    {
     "name": "stdout",
     "output_type": "stream",
     "text": [
      "Starting experimental run with id: 24. \n"
     ]
    },
    {
     "name": "stdout",
     "output_type": "stream",
     "text": [
      "Starting experimental run with id: 25. \n"
     ]
    },
    {
     "name": "stdout",
     "output_type": "stream",
     "text": [
      "Starting experimental run with id: 26. \n"
     ]
    },
    {
     "name": "stdout",
     "output_type": "stream",
     "text": [
      "Starting experimental run with id: 27. \n"
     ]
    },
    {
     "name": "stdout",
     "output_type": "stream",
     "text": [
      "Starting experimental run with id: 28. \n"
     ]
    }
   ],
   "source": [
    "sizes = [1,500,1000,2000,3000,4000,5000]\n",
    "nreps = 100\n",
    "t_numeric = []\n",
    "t_numeric_add = []\n",
    "t_numeric_run_ids = []\n",
    "t_array = []\n",
    "t_array_add = []\n",
    "t_array_run_ids = []\n",
    "for size in sizes:\n",
    "    tn, tna, run_id_n =  insert_data('numeric', size, nreps=nreps)\n",
    "    t_numeric.append(tn)\n",
    "    t_numeric_add.append(tna)\n",
    "    t_numeric_run_ids.append(run_id_n)\n",
    "\n",
    "    ta, taa, run_id_a =  insert_data('array', size, nreps=nreps)\n",
    "    t_array.append(ta)\n",
    "    t_array_add.append(taa)\n",
    "    t_array_run_ids.append(run_id_a)"
   ]
  },
  {
   "cell_type": "code",
   "execution_count": 8,
   "metadata": {
    "execution": {
     "iopub.execute_input": "2020-09-25T12:43:19.751595Z",
     "iopub.status.busy": "2020-09-25T12:43:19.749781Z",
     "iopub.status.idle": "2020-09-25T12:43:19.974224Z",
     "shell.execute_reply": "2020-09-25T12:43:19.973724Z"
    },
    "scrolled": true
   },
   "outputs": [
    {
     "data": {
      "image/png": "[encoded data removed]",
      "text/plain": [
       "<Figure size 432x288 with 1 Axes>"
      ]
     },
     "metadata": {
      "needs_background": "light"
     },
     "output_type": "display_data"
    }
   ],
   "source": [
    "fig, ax = plt.subplots(1,1)\n",
    "ax.plot(sizes, t_numeric, 'o-', label='Inserting row-by-row')\n",
    "ax.plot(sizes, t_numeric_add, 'o-', label='Inserting row-by-row: add_result only')\n",
    "ax.plot(sizes, t_array, 'd-', label='Inserting as binary blob')\n",
    "ax.plot(sizes, t_array_add, 'd-', label='Inserting as binary blob: add_result only')\n",
    "ax.legend()\n",
    "ax.set_xlabel('Array length')\n",
    "ax.set_ylabel('Time (s)')\n",
    "fig.tight_layout()"
   ]
  },
  {
   "cell_type": "markdown",
   "metadata": {},
   "source": [
    "However, as we increase the length of the experiment, as seen here by repeating the insertion 100 times, we see a big difference between inserting values of the data row-by-row and inserting it as a binary blob."
   ]
  },
  {
   "cell_type": "markdown",
   "metadata": {},
   "source": [
    "## Loading the data "
   ]
  },
  {
   "cell_type": "code",
   "execution_count": 9,
   "metadata": {
    "execution": {
     "iopub.execute_input": "2020-09-25T12:43:19.979260Z",
     "iopub.status.busy": "2020-09-25T12:43:19.978683Z",
     "iopub.status.idle": "2020-09-25T12:43:19.981482Z",
     "shell.execute_reply": "2020-09-25T12:43:19.980904Z"
    }
   },
   "outputs": [],
   "source": [
    "from qcodes.dataset.data_set import load_by_id\n",
    "from qcodes.dataset.data_export import get_data_by_id"
   ]
  },
  {
   "cell_type": "markdown",
   "metadata": {},
   "source": [
    "As usual you can load the data by using the ``load_by_id`` function but you will notice that the different storage methods\n",
    "are reflected in shape of the data as it is retrieved. "
   ]
  },
  {
   "cell_type": "code",
   "execution_count": 10,
   "metadata": {
    "execution": {
     "iopub.execute_input": "2020-09-25T12:43:19.985985Z",
     "iopub.status.busy": "2020-09-25T12:43:19.984669Z",
     "iopub.status.idle": "2020-09-25T12:43:19.986594Z",
     "shell.execute_reply": "2020-09-25T12:43:19.987113Z"
    }
   },
   "outputs": [],
   "source": [
    "run_id_n = t_numeric_run_ids[0]\n",
    "run_id_a = t_array_run_ids[0]"
   ]
  },
  {
   "cell_type": "code",
   "execution_count": 11,
   "metadata": {
    "execution": {
     "iopub.execute_input": "2020-09-25T12:43:19.990429Z",
     "iopub.status.busy": "2020-09-25T12:43:19.989791Z",
     "iopub.status.idle": "2020-09-25T12:43:20.000443Z",
     "shell.execute_reply": "2020-09-25T12:43:19.999515Z"
    },
    "scrolled": true
   },
   "outputs": [
    {
     "data": {
      "text/plain": [
       "{'x1': {'x1': array([0.39377913, 0.39377913, 0.52027957, 0.52027957, 0.83015363,\n",
       "         0.83015363, 0.77937252, 0.77937252, 0.79992082, 0.79992082,\n",
       "         0.00587996, 0.00587996, 0.52941071, 0.52941071, 0.50035061,\n",
       "         0.50035061, 0.81799855, 0.81799855, 0.01767995, 0.01767995,\n",
       "         0.96160089, 0.96160089, 0.09989822, 0.09989822, 0.8894155 ,\n",
       "         0.8894155 , 0.27911179, 0.27911179, 0.08327825, 0.08327825,\n",
       "         0.90481389, 0.90481389, 0.97482835, 0.97482835, 0.71489385,\n",
       "         0.71489385, 0.4752979 , 0.4752979 , 0.5820886 , 0.5820886 ,\n",
       "         0.61655432, 0.61655432, 0.32618262, 0.32618262, 0.63016662,\n",
       "         0.63016662, 0.73231423, 0.73231423, 0.55145565, 0.55145565,\n",
       "         0.94453112, 0.94453112, 0.30336181, 0.30336181, 0.18488977,\n",
       "         0.18488977, 0.15796708, 0.15796708, 0.47177634, 0.47177634,\n",
       "         0.87705464, 0.87705464, 0.51634624, 0.51634624, 0.98336511,\n",
       "         0.98336511, 0.55338465, 0.55338465, 0.46301797, 0.46301797,\n",
       "         0.90492288, 0.90492288, 0.1463866 , 0.1463866 , 0.36736269,\n",
       "         0.36736269, 0.6201815 , 0.6201815 , 0.76284993, 0.76284993,\n",
       "         0.13166971, 0.13166971, 0.94083208, 0.94083208, 0.37132949,\n",
       "         0.37132949, 0.66102275, 0.66102275, 0.23941908, 0.23941908,\n",
       "         0.80071491, 0.80071491, 0.90893214, 0.90893214, 0.26776823,\n",
       "         0.26776823, 0.53412972, 0.53412972, 0.85303048, 0.85303048,\n",
       "         0.83108727, 0.83108727, 0.82012961, 0.82012961, 0.51323613,\n",
       "         0.51323613, 0.16755122, 0.16755122, 0.56443907, 0.56443907,\n",
       "         0.49995599, 0.49995599, 0.51673783, 0.51673783, 0.55125059,\n",
       "         0.55125059, 0.24321851, 0.24321851, 0.4317697 , 0.4317697 ,\n",
       "         0.79658492, 0.79658492, 0.31784655, 0.31784655, 0.87655834,\n",
       "         0.87655834, 0.56104803, 0.56104803, 0.51287934, 0.51287934,\n",
       "         0.81475036, 0.81475036, 0.12281043, 0.12281043, 0.75261504,\n",
       "         0.75261504, 0.69161449, 0.69161449, 0.99601813, 0.99601813,\n",
       "         0.10390322, 0.10390322, 0.60761397, 0.60761397, 0.31597154,\n",
       "         0.31597154, 0.72397651, 0.72397651, 0.19482039, 0.19482039,\n",
       "         0.28964927, 0.28964927, 0.33285946, 0.33285946, 0.91157661,\n",
       "         0.91157661, 0.1238166 , 0.1238166 , 0.50902819, 0.50902819,\n",
       "         0.42492029, 0.42492029, 0.94904383, 0.94904383, 0.85917884,\n",
       "         0.85917884, 0.04997013, 0.04997013, 0.26033869, 0.26033869,\n",
       "         0.86634815, 0.86634815, 0.49314874, 0.49314874, 0.1652591 ,\n",
       "         0.1652591 , 0.87795511, 0.87795511, 0.71549179, 0.71549179,\n",
       "         0.38571946, 0.38571946, 0.1311599 , 0.1311599 , 0.64792183,\n",
       "         0.64792183, 0.07503372, 0.07503372, 0.15339418, 0.15339418,\n",
       "         0.27876322, 0.27876322, 0.29162888, 0.29162888, 0.2884593 ,\n",
       "         0.2884593 , 0.73032073, 0.73032073, 0.04547108, 0.04547108])}}"
      ]
     },
     "execution_count": 1,
     "metadata": {},
     "output_type": "execute_result"
    }
   ],
   "source": [
    "ds = load_by_id(run_id_n)\n",
    "ds.get_parameter_data('x1')"
   ]
  },
  {
   "cell_type": "markdown",
   "metadata": {},
   "source": [
    "And a dataset stored as binary arrays"
   ]
  },
  {
   "cell_type": "code",
   "execution_count": 12,
   "metadata": {
    "execution": {
     "iopub.execute_input": "2020-09-25T12:43:20.003650Z",
     "iopub.status.busy": "2020-09-25T12:43:20.003169Z",
     "iopub.status.idle": "2020-09-25T12:43:20.062406Z",
     "shell.execute_reply": "2020-09-25T12:43:20.062906Z"
    },
    "scrolled": true
   },
   "outputs": [
    {
     "data": {
      "text/plain": [
       "{'x1': {'x1': array([[0.97769176],\n",
       "         [0.97769176],\n",
       "         [0.7044018 ],\n",
       "         [0.7044018 ],\n",
       "         [0.57151098],\n",
       "         [0.57151098],\n",
       "         [0.32791115],\n",
       "         [0.32791115],\n",
       "         [0.86318012],\n",
       "         [0.86318012],\n",
       "         [0.0478863 ],\n",
       "         [0.0478863 ],\n",
       "         [0.79945537],\n",
       "         [0.79945537],\n",
       "         [0.67347918],\n",
       "         [0.67347918],\n",
       "         [0.53488812],\n",
       "         [0.53488812],\n",
       "         [0.84008539],\n",
       "         [0.84008539],\n",
       "         [0.24410383],\n",
       "         [0.24410383],\n",
       "         [0.67605095],\n",
       "         [0.67605095],\n",
       "         [0.85263626],\n",
       "         [0.85263626],\n",
       "         [0.44908379],\n",
       "         [0.44908379],\n",
       "         [0.84674231],\n",
       "         [0.84674231],\n",
       "         [0.67118313],\n",
       "         [0.67118313],\n",
       "         [0.52639285],\n",
       "         [0.52639285],\n",
       "         [0.56748643],\n",
       "         [0.56748643],\n",
       "         [0.7114686 ],\n",
       "         [0.7114686 ],\n",
       "         [0.42811713],\n",
       "         [0.42811713],\n",
       "         [0.95720291],\n",
       "         [0.95720291],\n",
       "         [0.98198664],\n",
       "         [0.98198664],\n",
       "         [0.7889989 ],\n",
       "         [0.7889989 ],\n",
       "         [0.98497576],\n",
       "         [0.98497576],\n",
       "         [0.66587165],\n",
       "         [0.66587165],\n",
       "         [0.98925047],\n",
       "         [0.98925047],\n",
       "         [0.97558281],\n",
       "         [0.97558281],\n",
       "         [0.81084202],\n",
       "         [0.81084202],\n",
       "         [0.55395637],\n",
       "         [0.55395637],\n",
       "         [0.94903337],\n",
       "         [0.94903337],\n",
       "         [0.60244703],\n",
       "         [0.60244703],\n",
       "         [0.04678635],\n",
       "         [0.04678635],\n",
       "         [0.70950953],\n",
       "         [0.70950953],\n",
       "         [0.73424446],\n",
       "         [0.73424446],\n",
       "         [0.86878659],\n",
       "         [0.86878659],\n",
       "         [0.08559213],\n",
       "         [0.08559213],\n",
       "         [0.03397197],\n",
       "         [0.03397197],\n",
       "         [0.92901836],\n",
       "         [0.92901836],\n",
       "         [0.33226717],\n",
       "         [0.33226717],\n",
       "         [0.67610297],\n",
       "         [0.67610297],\n",
       "         [0.9113044 ],\n",
       "         [0.9113044 ],\n",
       "         [0.16134083],\n",
       "         [0.16134083],\n",
       "         [0.36366741],\n",
       "         [0.36366741],\n",
       "         [0.46714489],\n",
       "         [0.46714489],\n",
       "         [0.80258943],\n",
       "         [0.80258943],\n",
       "         [0.87710249],\n",
       "         [0.87710249],\n",
       "         [0.23538862],\n",
       "         [0.23538862],\n",
       "         [0.26742783],\n",
       "         [0.26742783],\n",
       "         [0.61753646],\n",
       "         [0.61753646],\n",
       "         [0.62834902],\n",
       "         [0.62834902],\n",
       "         [0.49392226],\n",
       "         [0.49392226],\n",
       "         [0.57089927],\n",
       "         [0.57089927],\n",
       "         [0.47401625],\n",
       "         [0.47401625],\n",
       "         [0.92590495],\n",
       "         [0.92590495],\n",
       "         [0.9149447 ],\n",
       "         [0.9149447 ],\n",
       "         [0.42928538],\n",
       "         [0.42928538],\n",
       "         [0.06112646],\n",
       "         [0.06112646],\n",
       "         [0.30253027],\n",
       "         [0.30253027],\n",
       "         [0.10077652],\n",
       "         [0.10077652],\n",
       "         [0.40631656],\n",
       "         [0.40631656],\n",
       "         [0.73207873],\n",
       "         [0.73207873],\n",
       "         [0.66513134],\n",
       "         [0.66513134],\n",
       "         [0.5103747 ],\n",
       "         [0.5103747 ],\n",
       "         [0.37363366],\n",
       "         [0.37363366],\n",
       "         [0.67098165],\n",
       "         [0.67098165],\n",
       "         [0.91541759],\n",
       "         [0.91541759],\n",
       "         [0.29061934],\n",
       "         [0.29061934],\n",
       "         [0.39708337],\n",
       "         [0.39708337],\n",
       "         [0.62573602],\n",
       "         [0.62573602],\n",
       "         [0.42389221],\n",
       "         [0.42389221],\n",
       "         [0.38175192],\n",
       "         [0.38175192],\n",
       "         [0.3923356 ],\n",
       "         [0.3923356 ],\n",
       "         [0.92353842],\n",
       "         [0.92353842],\n",
       "         [0.74864541],\n",
       "         [0.74864541],\n",
       "         [0.28750803],\n",
       "         [0.28750803],\n",
       "         [0.6609392 ],\n",
       "         [0.6609392 ],\n",
       "         [0.67098941],\n",
       "         [0.67098941],\n",
       "         [0.1893713 ],\n",
       "         [0.1893713 ],\n",
       "         [0.18256721],\n",
       "         [0.18256721],\n",
       "         [0.61561837],\n",
       "         [0.61561837],\n",
       "         [0.47998146],\n",
       "         [0.47998146],\n",
       "         [0.91410985],\n",
       "         [0.91410985],\n",
       "         [0.70941103],\n",
       "         [0.70941103],\n",
       "         [0.55810018],\n",
       "         [0.55810018],\n",
       "         [0.10548693],\n",
       "         [0.10548693],\n",
       "         [0.42218155],\n",
       "         [0.42218155],\n",
       "         [0.46634774],\n",
       "         [0.46634774],\n",
       "         [0.18022091],\n",
       "         [0.18022091],\n",
       "         [0.18890772],\n",
       "         [0.18890772],\n",
       "         [0.70546564],\n",
       "         [0.70546564],\n",
       "         [0.49574545],\n",
       "         [0.49574545],\n",
       "         [0.87918706],\n",
       "         [0.87918706],\n",
       "         [0.33875059],\n",
       "         [0.33875059],\n",
       "         [0.96096844],\n",
       "         [0.96096844],\n",
       "         [0.84093429],\n",
       "         [0.84093429],\n",
       "         [0.13063135],\n",
       "         [0.13063135],\n",
       "         [0.57228795],\n",
       "         [0.57228795],\n",
       "         [0.67103639],\n",
       "         [0.67103639],\n",
       "         [0.38097702],\n",
       "         [0.38097702],\n",
       "         [0.95848487],\n",
       "         [0.95848487]])}}"
      ]
     },
     "execution_count": 1,
     "metadata": {},
     "output_type": "execute_result"
    }
   ],
   "source": [
    "ds = load_by_id(run_id_a)\n",
    "ds.get_parameter_data('x1')"
   ]
  },
  {
   "cell_type": "code",
   "execution_count": null,
   "metadata": {},
   "outputs": [],
   "source": []
  }
 ],
 "metadata": {
  "kernelspec": {
   "display_name": "Python 3",
   "language": "python",
   "name": "python3"
  },
  "language_info": {
   "codemirror_mode": {
    "name": "ipython",
    "version": 3
   },
   "file_extension": ".py",
   "mimetype": "text/x-python",
   "name": "python",
   "nbconvert_exporter": "python",
   "pygments_lexer": "ipython3",
   "version": "3.7.7"
  },
  "nbsphinx": {
   "timeout": 600
  },
  "toc": {
   "base_numbering": 1,
   "nav_menu": {},
   "number_sections": true,
   "sideBar": true,
   "skip_h1_title": false,
   "title_cell": "Table of Contents",
   "title_sidebar": "Contents",
   "toc_cell": false,
   "toc_position": {},
   "toc_section_display": true,
   "toc_window_display": false
  },
  "varInspector": {
   "cols": {
    "lenName": 16,
    "lenType": 16,
    "lenVar": 40
   },
   "kernels_config": {
    "python": {
     "delete_cmd_postfix": "",
     "delete_cmd_prefix": "del ",
     "library": "var_list.py",
     "varRefreshCmd": "print(var_dic_list())"
    },
    "r": {
     "delete_cmd_postfix": ") ",
     "delete_cmd_prefix": "rm(",
     "library": "var_list.r",
     "varRefreshCmd": "cat(var_dic_list()) "
    }
   },
   "types_to_exclude": [
    "module",
    "function",
    "builtin_function_or_method",
    "instance",
    "_Feature"
   ],
   "window_display": false
  }
 },
 "nbformat": 4,
 "nbformat_minor": 2
}
