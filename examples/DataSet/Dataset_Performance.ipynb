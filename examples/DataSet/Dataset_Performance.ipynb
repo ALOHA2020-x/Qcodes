{
 "cells": [
  {
   "cell_type": "markdown",
   "metadata": {},
   "source": [
    "# DataSet Performance\n",
    "\n",
    "This notebook shows the trade-off between inserting data into a database row-by-row and as binary blobs. Inserting the data row-by-row means that we have direct access to all the data and may perform queries directly on the values of the data. On the other hand, as we shall see, this is much slower than inserting the data directly as binary blobs."
   ]
  },
  {
   "cell_type": "markdown",
   "metadata": {},
   "source": [
    "First, we choose a new location for the database to ensure that we don't add a bunch of benchmarking data to the default one."
   ]
  },
  {
   "cell_type": "code",
   "execution_count": 1,
   "metadata": {
    "execution": {
     "iopub.execute_input": "2021-05-11T09:17:14.275383Z",
     "iopub.status.busy": "2021-05-11T09:17:14.274821Z",
     "iopub.status.idle": "2021-05-11T09:17:15.197869Z",
     "shell.execute_reply": "2021-05-11T09:17:15.196378Z"
    }
   },
   "outputs": [
    {
     "name": "stdout",
     "output_type": "stream",
     "text": [
      "Logging hadn't been started.\n",
      "Activating auto-logging. Current session state plus future input saved.\n",
      "Filename       : /home/runner/.qcodes/logs/command_history.log\n",
      "Mode           : append\n",
      "Output logging : True\n",
      "Raw input log  : False\n",
      "Timestamping   : True\n",
      "State          : active\n"
     ]
    },
    {
     "name": "stdout",
     "output_type": "stream",
     "text": [
      "Qcodes Logfile : /home/runner/.qcodes/logs/210511-4559-qcodes.log\n"
     ]
    }
   ],
   "source": [
    "import os\n",
    "cwd = os.getcwd()\n",
    "import qcodes as qc\n",
    "qc.config[\"core\"][\"db_location\"] = os.path.join(cwd, 'testing.db')\n"
   ]
  },
  {
   "cell_type": "code",
   "execution_count": 2,
   "metadata": {
    "execution": {
     "iopub.execute_input": "2021-05-11T09:17:15.204786Z",
     "iopub.status.busy": "2021-05-11T09:17:15.203726Z",
     "iopub.status.idle": "2021-05-11T09:17:15.367222Z",
     "shell.execute_reply": "2021-05-11T09:17:15.366379Z"
    }
   },
   "outputs": [],
   "source": [
    "%matplotlib inline\n",
    "import time\n",
    "import matplotlib.pyplot as plt\n",
    "import numpy as np\n",
    "\n",
    "import qcodes as qc\n",
    "from qcodes.instrument.parameter import ManualParameter\n",
    "from qcodes.dataset.experiment_container import (Experiment,\n",
    "                                                 load_last_experiment,\n",
    "                                                 new_experiment)\n",
    "from qcodes.dataset.sqlite.database import initialise_database\n",
    "from qcodes import load_or_create_experiment\n",
    "from qcodes.dataset.measurements import Measurement"
   ]
  },
  {
   "cell_type": "code",
   "execution_count": 3,
   "metadata": {
    "execution": {
     "iopub.execute_input": "2021-05-11T09:17:15.370251Z",
     "iopub.status.busy": "2021-05-11T09:17:15.369739Z",
     "iopub.status.idle": "2021-05-11T09:17:15.422303Z",
     "shell.execute_reply": "2021-05-11T09:17:15.421936Z"
    }
   },
   "outputs": [
    {
     "name": "stdout",
     "output_type": "stream",
     "text": [
      "\r",
      "0it [00:00, ?it/s]"
     ]
    },
    {
     "name": "stdout",
     "output_type": "stream",
     "text": [
      "\r",
      "Upgrading database; v0 -> v1: : 0it [00:00, ?it/s]"
     ]
    },
    {
     "name": "stdout",
     "output_type": "stream",
     "text": [
      "\r",
      "Upgrading database; v0 -> v1: : 0it [00:00, ?it/s]"
     ]
    },
    {
     "name": "stdout",
     "output_type": "stream",
     "text": [
      "\n",
      "\r",
      "  0%|          | 0/1 [00:00<?, ?it/s]"
     ]
    },
    {
     "name": "stdout",
     "output_type": "stream",
     "text": [
      "\r",
      "Upgrading database; v1 -> v2:   0%|          | 0/1 [00:00<?, ?it/s]"
     ]
    },
    {
     "name": "stdout",
     "output_type": "stream",
     "text": [
      "\r",
      "Upgrading database; v1 -> v2: 100%|██████████| 1/1 [00:00<00:00, 905.31it/s]"
     ]
    },
    {
     "name": "stdout",
     "output_type": "stream",
     "text": [
      "\n",
      "\r",
      "0it [00:00, ?it/s]"
     ]
    },
    {
     "name": "stdout",
     "output_type": "stream",
     "text": [
      "\r",
      "Upgrading database; v2 -> v3: : 0it [00:00, ?it/s]"
     ]
    },
    {
     "name": "stdout",
     "output_type": "stream",
     "text": [
      "\r",
      "Upgrading database; v2 -> v3: : 0it [00:00, ?it/s]"
     ]
    },
    {
     "name": "stdout",
     "output_type": "stream",
     "text": [
      "\n",
      "\r",
      "0it [00:00, ?it/s]"
     ]
    },
    {
     "name": "stdout",
     "output_type": "stream",
     "text": [
      "\r",
      "Upgrading database; v3 -> v4: : 0it [00:00, ?it/s]"
     ]
    },
    {
     "name": "stdout",
     "output_type": "stream",
     "text": [
      "\r",
      "Upgrading database; v3 -> v4: : 0it [00:00, ?it/s]"
     ]
    },
    {
     "name": "stdout",
     "output_type": "stream",
     "text": [
      "\n",
      "\r",
      "  0%|          | 0/1 [00:00<?, ?it/s]"
     ]
    },
    {
     "name": "stdout",
     "output_type": "stream",
     "text": [
      "\r",
      "Upgrading database; v4 -> v5:   0%|          | 0/1 [00:00<?, ?it/s]"
     ]
    },
    {
     "name": "stdout",
     "output_type": "stream",
     "text": [
      "\r",
      "Upgrading database; v4 -> v5: 100%|██████████| 1/1 [00:00<00:00, 743.28it/s]"
     ]
    },
    {
     "name": "stdout",
     "output_type": "stream",
     "text": [
      "\n",
      "\r",
      "0it [00:00, ?it/s]"
     ]
    },
    {
     "name": "stdout",
     "output_type": "stream",
     "text": [
      "\r",
      "Upgrading database; v5 -> v6: : 0it [00:00, ?it/s]"
     ]
    },
    {
     "name": "stdout",
     "output_type": "stream",
     "text": [
      "\r",
      "Upgrading database; v5 -> v6: : 0it [00:00, ?it/s]"
     ]
    },
    {
     "name": "stdout",
     "output_type": "stream",
     "text": [
      "\n",
      "\r",
      "  0%|          | 0/1 [00:00<?, ?it/s]"
     ]
    },
    {
     "name": "stdout",
     "output_type": "stream",
     "text": [
      "\r",
      "Upgrading database; v6 -> v7:   0%|          | 0/1 [00:00<?, ?it/s]"
     ]
    },
    {
     "name": "stdout",
     "output_type": "stream",
     "text": [
      "\r",
      "Upgrading database; v6 -> v7: 100%|██████████| 1/1 [00:00<00:00, 558.05it/s]"
     ]
    },
    {
     "name": "stdout",
     "output_type": "stream",
     "text": [
      "\n",
      "\r",
      "  0%|          | 0/1 [00:00<?, ?it/s]"
     ]
    },
    {
     "name": "stdout",
     "output_type": "stream",
     "text": [
      "\r",
      "Upgrading database; v7 -> v8:   0%|          | 0/1 [00:00<?, ?it/s]"
     ]
    },
    {
     "name": "stdout",
     "output_type": "stream",
     "text": [
      "\r",
      "Upgrading database; v7 -> v8: 100%|██████████| 1/1 [00:00<00:00, 780.34it/s]"
     ]
    },
    {
     "name": "stdout",
     "output_type": "stream",
     "text": [
      "\n",
      "\r",
      "  0%|          | 0/1 [00:00<?, ?it/s]"
     ]
    },
    {
     "name": "stdout",
     "output_type": "stream",
     "text": [
      "\r",
      "Upgrading database; v8 -> v9:   0%|          | 0/1 [00:00<?, ?it/s]"
     ]
    },
    {
     "name": "stdout",
     "output_type": "stream",
     "text": [
      "\r",
      "Upgrading database; v8 -> v9: 100%|██████████| 1/1 [00:00<00:00, 986.43it/s]"
     ]
    },
    {
     "name": "stdout",
     "output_type": "stream",
     "text": [
      "\n"
     ]
    }
   ],
   "source": [
    "initialise_database()\n",
    "exp = load_or_create_experiment(experiment_name='tutorial_exp', sample_name=\"no sample\")"
   ]
  },
  {
   "cell_type": "markdown",
   "metadata": {},
   "source": [
    "Here, we define a simple function to benchmark the time it takes to insert n points with either numeric or array data type.\n",
    "We will compare both the time used to call ``add_result`` and the time used for the full measurement."
   ]
  },
  {
   "cell_type": "code",
   "execution_count": 4,
   "metadata": {
    "execution": {
     "iopub.execute_input": "2021-05-11T09:17:15.429664Z",
     "iopub.status.busy": "2021-05-11T09:17:15.429247Z",
     "iopub.status.idle": "2021-05-11T09:17:15.432657Z",
     "shell.execute_reply": "2021-05-11T09:17:15.432012Z"
    }
   },
   "outputs": [],
   "source": [
    "def insert_data(paramtype, npoints, nreps=1):\n",
    "\n",
    "    meas = Measurement(exp=exp)\n",
    "\n",
    "    x1 = ManualParameter('x1')\n",
    "    x2 = ManualParameter('x2')\n",
    "    x3 = ManualParameter('x3')\n",
    "    y1 = ManualParameter('y1')\n",
    "    y2 = ManualParameter('y2')\n",
    "\n",
    "    meas.register_parameter(x1, paramtype=paramtype)\n",
    "    meas.register_parameter(x2, paramtype=paramtype)\n",
    "    meas.register_parameter(x3, paramtype=paramtype)\n",
    "    meas.register_parameter(y1, setpoints=[x1, x2, x3],\n",
    "                            paramtype=paramtype)\n",
    "    meas.register_parameter(y2, setpoints=[x1, x2, x3],\n",
    "                            paramtype=paramtype)\n",
    "    start = time.perf_counter()\n",
    "    with meas.run() as datasaver:\n",
    "        start_adding = time.perf_counter()\n",
    "        for i in range(nreps):\n",
    "            datasaver.add_result((x1, np.random.rand(npoints)),\n",
    "                                 (x2, np.random.rand(npoints)),\n",
    "                                 (x3, np.random.rand(npoints)),\n",
    "                                 (y1, np.random.rand(npoints)),\n",
    "                                 (y2, np.random.rand(npoints)))\n",
    "        stop_adding = time.perf_counter()\n",
    "        run_id = datasaver.run_id\n",
    "    stop = time.perf_counter()\n",
    "    tot_time = stop - start\n",
    "    add_time = stop_adding - start_adding\n",
    "    return tot_time, add_time, run_id"
   ]
  },
  {
   "cell_type": "markdown",
   "metadata": {},
   "source": [
    "## Comparison between numeric/array data and binary blob"
   ]
  },
  {
   "cell_type": "markdown",
   "metadata": {},
   "source": [
    "### Case1: Short experiment time"
   ]
  },
  {
   "cell_type": "code",
   "execution_count": 5,
   "metadata": {
    "execution": {
     "iopub.execute_input": "2021-05-11T09:17:15.438651Z",
     "iopub.status.busy": "2021-05-11T09:17:15.437755Z",
     "iopub.status.idle": "2021-05-11T09:17:16.072590Z",
     "shell.execute_reply": "2021-05-11T09:17:16.072208Z"
    }
   },
   "outputs": [
    {
     "name": "stdout",
     "output_type": "stream",
     "text": [
      "Starting experimental run with id: 1. \n",
      "Starting experimental run with id: 2. \n",
      "Starting experimental run with id: 3. \n",
      "Starting experimental run with id: 4. \n",
      "Starting experimental run with id: 5. \n"
     ]
    },
    {
     "name": "stdout",
     "output_type": "stream",
     "text": [
      "Starting experimental run with id: 6. \n"
     ]
    },
    {
     "name": "stdout",
     "output_type": "stream",
     "text": [
      "Starting experimental run with id: 7. \n"
     ]
    },
    {
     "name": "stdout",
     "output_type": "stream",
     "text": [
      "Starting experimental run with id: 8. \n",
      "Starting experimental run with id: 9. \n",
      "Starting experimental run with id: 10. \n",
      "Starting experimental run with id: 11. \n"
     ]
    },
    {
     "name": "stdout",
     "output_type": "stream",
     "text": [
      "Starting experimental run with id: 12. \n",
      "Starting experimental run with id: 13. \n",
      "Starting experimental run with id: 14. \n"
     ]
    }
   ],
   "source": [
    "sizes = [1,500,1000,2000,3000,4000,5000]\n",
    "t_numeric = []\n",
    "t_numeric_add = []\n",
    "t_array = []\n",
    "t_array_add = []\n",
    "for size in sizes:\n",
    "    tn, tna, run_id_n =  insert_data('numeric', size)\n",
    "    t_numeric.append(tn)\n",
    "    t_numeric_add.append(tna)\n",
    "\n",
    "    ta, taa, run_id_a =  insert_data('array', size)\n",
    "    t_array.append(ta)\n",
    "    t_array_add.append(taa)"
   ]
  },
  {
   "cell_type": "code",
   "execution_count": 6,
   "metadata": {
    "execution": {
     "iopub.execute_input": "2021-05-11T09:17:16.089680Z",
     "iopub.status.busy": "2021-05-11T09:17:16.078147Z",
     "iopub.status.idle": "2021-05-11T09:17:16.262146Z",
     "shell.execute_reply": "2021-05-11T09:17:16.262667Z"
    }
   },
   "outputs": [
    {
     "data": {
      "image/png": "[encoded data removed]",
      "text/plain": [
       "<Figure size 432x288 with 1 Axes>"
      ]
     },
     "metadata": {
      "needs_background": "light"
     },
     "output_type": "display_data"
    }
   ],
   "source": [
    "fig, ax = plt.subplots(1,1)\n",
    "ax.plot(sizes, t_numeric, 'o-', label='Inserting row-by-row')\n",
    "ax.plot(sizes, t_numeric_add, 'o-', label='Inserting row-by-row: add_result only')\n",
    "ax.plot(sizes, t_array, 'd-', label='Inserting as binary blob')\n",
    "ax.plot(sizes, t_array_add, 'd-', label='Inserting as binary blob: add_result only')\n",
    "ax.legend()\n",
    "ax.set_xlabel('Array length')\n",
    "ax.set_ylabel('Time (s)')\n",
    "fig.tight_layout()"
   ]
  },
  {
   "cell_type": "markdown",
   "metadata": {},
   "source": [
    "As shown in the latter figure, the time to setup and and close the experiment is approximately 0.4 sec. In case of small array sizes, the difference between inserting values of data as arrays and inserting them row-by-row is relatively unimportant. At larger array sizes, i.e. above 10000 points, the cost of writing data as individual datapoints starts to become important.\n"
   ]
  },
  {
   "cell_type": "markdown",
   "metadata": {},
   "source": [
    "### Case2: Long experiment time "
   ]
  },
  {
   "cell_type": "code",
   "execution_count": 7,
   "metadata": {
    "execution": {
     "iopub.execute_input": "2021-05-11T09:17:16.264726Z",
     "iopub.status.busy": "2021-05-11T09:17:16.264312Z",
     "iopub.status.idle": "2021-05-11T09:18:00.344755Z",
     "shell.execute_reply": "2021-05-11T09:18:00.344219Z"
    }
   },
   "outputs": [
    {
     "name": "stdout",
     "output_type": "stream",
     "text": [
      "Starting experimental run with id: 15. \n",
      "Starting experimental run with id: 16. \n",
      "Starting experimental run with id: 17. \n"
     ]
    },
    {
     "name": "stdout",
     "output_type": "stream",
     "text": [
      "Starting experimental run with id: 18. \n",
      "Starting experimental run with id: 19. \n"
     ]
    },
    {
     "name": "stdout",
     "output_type": "stream",
     "text": [
      "Starting experimental run with id: 20. \n"
     ]
    },
    {
     "name": "stdout",
     "output_type": "stream",
     "text": [
      "Starting experimental run with id: 21. \n"
     ]
    },
    {
     "name": "stdout",
     "output_type": "stream",
     "text": [
      "Starting experimental run with id: 22. \n"
     ]
    },
    {
     "name": "stdout",
     "output_type": "stream",
     "text": [
      "Starting experimental run with id: 23. \n"
     ]
    },
    {
     "name": "stdout",
     "output_type": "stream",
     "text": [
      "Starting experimental run with id: 24. \n"
     ]
    },
    {
     "name": "stdout",
     "output_type": "stream",
     "text": [
      "Starting experimental run with id: 25. \n"
     ]
    },
    {
     "name": "stdout",
     "output_type": "stream",
     "text": [
      "Starting experimental run with id: 26. \n"
     ]
    },
    {
     "name": "stdout",
     "output_type": "stream",
     "text": [
      "Starting experimental run with id: 27. \n"
     ]
    },
    {
     "name": "stdout",
     "output_type": "stream",
     "text": [
      "Starting experimental run with id: 28. \n"
     ]
    }
   ],
   "source": [
    "sizes = [1,500,1000,2000,3000,4000,5000]\n",
    "nreps = 100\n",
    "t_numeric = []\n",
    "t_numeric_add = []\n",
    "t_numeric_run_ids = []\n",
    "t_array = []\n",
    "t_array_add = []\n",
    "t_array_run_ids = []\n",
    "for size in sizes:\n",
    "    tn, tna, run_id_n =  insert_data('numeric', size, nreps=nreps)\n",
    "    t_numeric.append(tn)\n",
    "    t_numeric_add.append(tna)\n",
    "    t_numeric_run_ids.append(run_id_n)\n",
    "\n",
    "    ta, taa, run_id_a =  insert_data('array', size, nreps=nreps)\n",
    "    t_array.append(ta)\n",
    "    t_array_add.append(taa)\n",
    "    t_array_run_ids.append(run_id_a)"
   ]
  },
  {
   "cell_type": "code",
   "execution_count": 8,
   "metadata": {
    "execution": {
     "iopub.execute_input": "2021-05-11T09:18:00.367839Z",
     "iopub.status.busy": "2021-05-11T09:18:00.360056Z",
     "iopub.status.idle": "2021-05-11T09:18:00.513617Z",
     "shell.execute_reply": "2021-05-11T09:18:00.513968Z"
    },
    "scrolled": true
   },
   "outputs": [
    {
     "data": {
      "image/png": "[encoded data removed]",
      "text/plain": [
       "<Figure size 432x288 with 1 Axes>"
      ]
     },
     "metadata": {
      "needs_background": "light"
     },
     "output_type": "display_data"
    }
   ],
   "source": [
    "fig, ax = plt.subplots(1,1)\n",
    "ax.plot(sizes, t_numeric, 'o-', label='Inserting row-by-row')\n",
    "ax.plot(sizes, t_numeric_add, 'o-', label='Inserting row-by-row: add_result only')\n",
    "ax.plot(sizes, t_array, 'd-', label='Inserting as binary blob')\n",
    "ax.plot(sizes, t_array_add, 'd-', label='Inserting as binary blob: add_result only')\n",
    "ax.legend()\n",
    "ax.set_xlabel('Array length')\n",
    "ax.set_ylabel('Time (s)')\n",
    "fig.tight_layout()"
   ]
  },
  {
   "cell_type": "markdown",
   "metadata": {},
   "source": [
    "However, as we increase the length of the experiment, as seen here by repeating the insertion 100 times, we see a big difference between inserting values of the data row-by-row and inserting it as a binary blob."
   ]
  },
  {
   "cell_type": "markdown",
   "metadata": {},
   "source": [
    "## Loading the data "
   ]
  },
  {
   "cell_type": "code",
   "execution_count": 9,
   "metadata": {
    "execution": {
     "iopub.execute_input": "2021-05-11T09:18:00.517237Z",
     "iopub.status.busy": "2021-05-11T09:18:00.516687Z",
     "iopub.status.idle": "2021-05-11T09:18:00.519354Z",
     "shell.execute_reply": "2021-05-11T09:18:00.520002Z"
    }
   },
   "outputs": [],
   "source": [
    "from qcodes.dataset.data_set import load_by_id"
   ]
  },
  {
   "cell_type": "markdown",
   "metadata": {},
   "source": [
    "As usual you can load the data by using the ``load_by_id`` function but you will notice that the different storage methods\n",
    "are reflected in shape of the data as it is retrieved. "
   ]
  },
  {
   "cell_type": "code",
   "execution_count": 10,
   "metadata": {
    "execution": {
     "iopub.execute_input": "2021-05-11T09:18:00.522739Z",
     "iopub.status.busy": "2021-05-11T09:18:00.521922Z",
     "iopub.status.idle": "2021-05-11T09:18:00.525270Z",
     "shell.execute_reply": "2021-05-11T09:18:00.525836Z"
    }
   },
   "outputs": [],
   "source": [
    "run_id_n = t_numeric_run_ids[0]\n",
    "run_id_a = t_array_run_ids[0]"
   ]
  },
  {
   "cell_type": "code",
   "execution_count": 11,
   "metadata": {
    "execution": {
     "iopub.execute_input": "2021-05-11T09:18:00.528767Z",
     "iopub.status.busy": "2021-05-11T09:18:00.527783Z",
     "iopub.status.idle": "2021-05-11T09:18:00.538170Z",
     "shell.execute_reply": "2021-05-11T09:18:00.537443Z"
    },
    "scrolled": true
   },
   "outputs": [
    {
     "data": {
      "text/plain": [
       "{'x1': {'x1': array([0.39313746, 0.39313746, 0.85589583, 0.85589583, 0.752187  ,\n",
       "         0.752187  , 0.68519768, 0.68519768, 0.86508389, 0.86508389,\n",
       "         0.87859713, 0.87859713, 0.61450178, 0.61450178, 0.23657907,\n",
       "         0.23657907, 0.21941902, 0.21941902, 0.56954951, 0.56954951,\n",
       "         0.25550335, 0.25550335, 0.02399686, 0.02399686, 0.31278931,\n",
       "         0.31278931, 0.87387862, 0.87387862, 0.45325427, 0.45325427,\n",
       "         0.57955802, 0.57955802, 0.86207298, 0.86207298, 0.5038645 ,\n",
       "         0.5038645 , 0.89360747, 0.89360747, 0.39143459, 0.39143459,\n",
       "         0.11606983, 0.11606983, 0.49638508, 0.49638508, 0.46421139,\n",
       "         0.46421139, 0.70474907, 0.70474907, 0.9244037 , 0.9244037 ,\n",
       "         0.7344072 , 0.7344072 , 0.03479219, 0.03479219, 0.40449323,\n",
       "         0.40449323, 0.41353723, 0.41353723, 0.89033763, 0.89033763,\n",
       "         0.6182872 , 0.6182872 , 0.56485697, 0.56485697, 0.96789096,\n",
       "         0.96789096, 0.5786152 , 0.5786152 , 0.844804  , 0.844804  ,\n",
       "         0.23231413, 0.23231413, 0.88778905, 0.88778905, 0.59518832,\n",
       "         0.59518832, 0.58223488, 0.58223488, 0.32017418, 0.32017418,\n",
       "         0.27956515, 0.27956515, 0.82355718, 0.82355718, 0.03700112,\n",
       "         0.03700112, 0.24904905, 0.24904905, 0.07904819, 0.07904819,\n",
       "         0.4337934 , 0.4337934 , 0.60208132, 0.60208132, 0.7732587 ,\n",
       "         0.7732587 , 0.07246626, 0.07246626, 0.59568647, 0.59568647,\n",
       "         0.73388754, 0.73388754, 0.00869906, 0.00869906, 0.2493683 ,\n",
       "         0.2493683 , 0.91207667, 0.91207667, 0.18246113, 0.18246113,\n",
       "         0.32388188, 0.32388188, 0.15817135, 0.15817135, 0.17788613,\n",
       "         0.17788613, 0.21493992, 0.21493992, 0.35190561, 0.35190561,\n",
       "         0.90152118, 0.90152118, 0.86476583, 0.86476583, 0.82421714,\n",
       "         0.82421714, 0.47427986, 0.47427986, 0.63844232, 0.63844232,\n",
       "         0.09961906, 0.09961906, 0.50675057, 0.50675057, 0.34541644,\n",
       "         0.34541644, 0.06858282, 0.06858282, 0.73132829, 0.73132829,\n",
       "         0.97899299, 0.97899299, 0.62617057, 0.62617057, 0.33432335,\n",
       "         0.33432335, 0.08136887, 0.08136887, 0.28413654, 0.28413654,\n",
       "         0.7344794 , 0.7344794 , 0.91944851, 0.91944851, 0.44412844,\n",
       "         0.44412844, 0.97852042, 0.97852042, 0.52175635, 0.52175635,\n",
       "         0.03483464, 0.03483464, 0.5643371 , 0.5643371 , 0.67631828,\n",
       "         0.67631828, 0.3663589 , 0.3663589 , 0.21100756, 0.21100756,\n",
       "         0.29647778, 0.29647778, 0.84495909, 0.84495909, 0.65534171,\n",
       "         0.65534171, 0.51470763, 0.51470763, 0.52184462, 0.52184462,\n",
       "         0.78595864, 0.78595864, 0.76715085, 0.76715085, 0.7866487 ,\n",
       "         0.7866487 , 0.6366316 , 0.6366316 , 0.71923765, 0.71923765,\n",
       "         0.04231481, 0.04231481, 0.43044412, 0.43044412, 0.2212007 ,\n",
       "         0.2212007 , 0.63657548, 0.63657548, 0.43273463, 0.43273463])}}"
      ]
     },
     "execution_count": 1,
     "metadata": {},
     "output_type": "execute_result"
    }
   ],
   "source": [
    "ds = load_by_id(run_id_n)\n",
    "ds.get_parameter_data('x1')"
   ]
  },
  {
   "cell_type": "markdown",
   "metadata": {},
   "source": [
    "And a dataset stored as binary arrays"
   ]
  },
  {
   "cell_type": "code",
   "execution_count": 12,
   "metadata": {
    "execution": {
     "iopub.execute_input": "2021-05-11T09:18:00.541087Z",
     "iopub.status.busy": "2021-05-11T09:18:00.540676Z",
     "iopub.status.idle": "2021-05-11T09:18:00.591117Z",
     "shell.execute_reply": "2021-05-11T09:18:00.589899Z"
    },
    "scrolled": true
   },
   "outputs": [
    {
     "data": {
      "text/plain": [
       "{'x1': {'x1': array([[0.74750578],\n",
       "         [0.74750578],\n",
       "         [0.16270619],\n",
       "         [0.16270619],\n",
       "         [0.05347458],\n",
       "         [0.05347458],\n",
       "         [0.83570777],\n",
       "         [0.83570777],\n",
       "         [0.81132408],\n",
       "         [0.81132408],\n",
       "         [0.27985613],\n",
       "         [0.27985613],\n",
       "         [0.97016676],\n",
       "         [0.97016676],\n",
       "         [0.12107856],\n",
       "         [0.12107856],\n",
       "         [0.10268193],\n",
       "         [0.10268193],\n",
       "         [0.50419683],\n",
       "         [0.50419683],\n",
       "         [0.1252365 ],\n",
       "         [0.1252365 ],\n",
       "         [0.6876079 ],\n",
       "         [0.6876079 ],\n",
       "         [0.39012804],\n",
       "         [0.39012804],\n",
       "         [0.88341132],\n",
       "         [0.88341132],\n",
       "         [0.86699   ],\n",
       "         [0.86699   ],\n",
       "         [0.391168  ],\n",
       "         [0.391168  ],\n",
       "         [0.38112815],\n",
       "         [0.38112815],\n",
       "         [0.70197341],\n",
       "         [0.70197341],\n",
       "         [0.68910206],\n",
       "         [0.68910206],\n",
       "         [0.17989509],\n",
       "         [0.17989509],\n",
       "         [0.75197052],\n",
       "         [0.75197052],\n",
       "         [0.02341299],\n",
       "         [0.02341299],\n",
       "         [0.14138299],\n",
       "         [0.14138299],\n",
       "         [0.1195835 ],\n",
       "         [0.1195835 ],\n",
       "         [0.1064645 ],\n",
       "         [0.1064645 ],\n",
       "         [0.90408824],\n",
       "         [0.90408824],\n",
       "         [0.82942379],\n",
       "         [0.82942379],\n",
       "         [0.50215286],\n",
       "         [0.50215286],\n",
       "         [0.95124023],\n",
       "         [0.95124023],\n",
       "         [0.97741371],\n",
       "         [0.97741371],\n",
       "         [0.70233708],\n",
       "         [0.70233708],\n",
       "         [0.7643251 ],\n",
       "         [0.7643251 ],\n",
       "         [0.49588192],\n",
       "         [0.49588192],\n",
       "         [0.18559073],\n",
       "         [0.18559073],\n",
       "         [0.19578914],\n",
       "         [0.19578914],\n",
       "         [0.88946769],\n",
       "         [0.88946769],\n",
       "         [0.59376436],\n",
       "         [0.59376436],\n",
       "         [0.59258171],\n",
       "         [0.59258171],\n",
       "         [0.24942232],\n",
       "         [0.24942232],\n",
       "         [0.28084605],\n",
       "         [0.28084605],\n",
       "         [0.02624188],\n",
       "         [0.02624188],\n",
       "         [0.89461593],\n",
       "         [0.89461593],\n",
       "         [0.96023381],\n",
       "         [0.96023381],\n",
       "         [0.53907034],\n",
       "         [0.53907034],\n",
       "         [0.45426947],\n",
       "         [0.45426947],\n",
       "         [0.89824379],\n",
       "         [0.89824379],\n",
       "         [0.23590746],\n",
       "         [0.23590746],\n",
       "         [0.36443722],\n",
       "         [0.36443722],\n",
       "         [0.759997  ],\n",
       "         [0.759997  ],\n",
       "         [0.81784973],\n",
       "         [0.81784973],\n",
       "         [0.99507819],\n",
       "         [0.99507819],\n",
       "         [0.16213177],\n",
       "         [0.16213177],\n",
       "         [0.17578967],\n",
       "         [0.17578967],\n",
       "         [0.75607244],\n",
       "         [0.75607244],\n",
       "         [0.22419749],\n",
       "         [0.22419749],\n",
       "         [0.19573015],\n",
       "         [0.19573015],\n",
       "         [0.28553025],\n",
       "         [0.28553025],\n",
       "         [0.38619003],\n",
       "         [0.38619003],\n",
       "         [0.09362823],\n",
       "         [0.09362823],\n",
       "         [0.65034402],\n",
       "         [0.65034402],\n",
       "         [0.8794233 ],\n",
       "         [0.8794233 ],\n",
       "         [0.82182278],\n",
       "         [0.82182278],\n",
       "         [0.96390462],\n",
       "         [0.96390462],\n",
       "         [0.8796606 ],\n",
       "         [0.8796606 ],\n",
       "         [0.61171888],\n",
       "         [0.61171888],\n",
       "         [0.99548366],\n",
       "         [0.99548366],\n",
       "         [0.41663697],\n",
       "         [0.41663697],\n",
       "         [0.04671939],\n",
       "         [0.04671939],\n",
       "         [0.48496974],\n",
       "         [0.48496974],\n",
       "         [0.74933951],\n",
       "         [0.74933951],\n",
       "         [0.04563566],\n",
       "         [0.04563566],\n",
       "         [0.84559596],\n",
       "         [0.84559596],\n",
       "         [0.35606576],\n",
       "         [0.35606576],\n",
       "         [0.49174399],\n",
       "         [0.49174399],\n",
       "         [0.69563545],\n",
       "         [0.69563545],\n",
       "         [0.42142342],\n",
       "         [0.42142342],\n",
       "         [0.4576024 ],\n",
       "         [0.4576024 ],\n",
       "         [0.19746596],\n",
       "         [0.19746596],\n",
       "         [0.34507602],\n",
       "         [0.34507602],\n",
       "         [0.75997718],\n",
       "         [0.75997718],\n",
       "         [0.36455943],\n",
       "         [0.36455943],\n",
       "         [0.7185794 ],\n",
       "         [0.7185794 ],\n",
       "         [0.03469708],\n",
       "         [0.03469708],\n",
       "         [0.49215247],\n",
       "         [0.49215247],\n",
       "         [0.87112196],\n",
       "         [0.87112196],\n",
       "         [0.05473806],\n",
       "         [0.05473806],\n",
       "         [0.43329769],\n",
       "         [0.43329769],\n",
       "         [0.09963966],\n",
       "         [0.09963966],\n",
       "         [0.31199664],\n",
       "         [0.31199664],\n",
       "         [0.14754051],\n",
       "         [0.14754051],\n",
       "         [0.30257219],\n",
       "         [0.30257219],\n",
       "         [0.61391962],\n",
       "         [0.61391962],\n",
       "         [0.97455089],\n",
       "         [0.97455089],\n",
       "         [0.52590133],\n",
       "         [0.52590133],\n",
       "         [0.50936764],\n",
       "         [0.50936764],\n",
       "         [0.95765199],\n",
       "         [0.95765199],\n",
       "         [0.99896264],\n",
       "         [0.99896264],\n",
       "         [0.08797226],\n",
       "         [0.08797226],\n",
       "         [0.81646571],\n",
       "         [0.81646571],\n",
       "         [0.46083188],\n",
       "         [0.46083188]])}}"
      ]
     },
     "execution_count": 1,
     "metadata": {},
     "output_type": "execute_result"
    }
   ],
   "source": [
    "ds = load_by_id(run_id_a)\n",
    "ds.get_parameter_data('x1')"
   ]
  },
  {
   "cell_type": "code",
   "execution_count": null,
   "metadata": {},
   "outputs": [],
   "source": []
  }
 ],
 "metadata": {
  "kernelspec": {
   "display_name": "Python 3",
   "language": "python",
   "name": "python3"
  },
  "language_info": {
   "codemirror_mode": {
    "name": "ipython",
    "version": 3
   },
   "file_extension": ".py",
   "mimetype": "text/x-python",
   "name": "python",
   "nbconvert_exporter": "python",
   "pygments_lexer": "ipython3",
   "version": "3.7.10"
  },
  "nbsphinx": {
   "timeout": 600
  },
  "toc": {
   "base_numbering": 1,
   "nav_menu": {},
   "number_sections": true,
   "sideBar": true,
   "skip_h1_title": false,
   "title_cell": "Table of Contents",
   "title_sidebar": "Contents",
   "toc_cell": false,
   "toc_position": {},
   "toc_section_display": true,
   "toc_window_display": false
  },
  "varInspector": {
   "cols": {
    "lenName": 16,
    "lenType": 16,
    "lenVar": 40
   },
   "kernels_config": {
    "python": {
     "delete_cmd_postfix": "",
     "delete_cmd_prefix": "del ",
     "library": "var_list.py",
     "varRefreshCmd": "print(var_dic_list())"
    },
    "r": {
     "delete_cmd_postfix": ") ",
     "delete_cmd_prefix": "rm(",
     "library": "var_list.r",
     "varRefreshCmd": "cat(var_dic_list()) "
    }
   },
   "types_to_exclude": [
    "module",
    "function",
    "builtin_function_or_method",
    "instance",
    "_Feature"
   ],
   "window_display": false
  }
 },
 "nbformat": 4,
 "nbformat_minor": 4
}
