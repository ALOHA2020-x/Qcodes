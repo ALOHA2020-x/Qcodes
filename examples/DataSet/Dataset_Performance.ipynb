{
 "cells": [
  {
   "cell_type": "markdown",
   "metadata": {},
   "source": [
    "# DataSet Performance\n",
    "\n",
    "This notebook shows the trade-off between inserting data into a database row-by-row and as binary blobs. Inserting the data row-by-row means that we have direct access to all the data and may perform queries directly on the values of the data. On the other hand, as we shall see, this is much slower than inserting the data directly as binary blobs."
   ]
  },
  {
   "cell_type": "markdown",
   "metadata": {},
   "source": [
    "First, we choose a new location for the database to ensure that we don't add a bunch of benchmarking data to the default one."
   ]
  },
  {
   "cell_type": "code",
   "execution_count": 1,
   "metadata": {
    "execution": {
     "iopub.execute_input": "2020-10-26T06:05:57.306404Z",
     "iopub.status.busy": "2020-10-26T06:05:57.305438Z",
     "iopub.status.idle": "2020-10-26T06:05:58.649983Z",
     "shell.execute_reply": "2020-10-26T06:05:58.649268Z"
    }
   },
   "outputs": [
    {
     "name": "stdout",
     "output_type": "stream",
     "text": [
      "Logging hadn't been started.\n",
      "Activating auto-logging. Current session state plus future input saved.\n",
      "Filename       : /home/vsts/.qcodes/logs/command_history.log\n",
      "Mode           : append\n",
      "Output logging : True\n",
      "Raw input log  : False\n",
      "Timestamping   : True\n",
      "State          : active\n"
     ]
    },
    {
     "name": "stdout",
     "output_type": "stream",
     "text": [
      "Qcodes Logfile : /home/vsts/.qcodes/logs/201026-14968-qcodes.log\n"
     ]
    }
   ],
   "source": [
    "import os\n",
    "cwd = os.getcwd()\n",
    "import qcodes as qc\n",
    "qc.config[\"core\"][\"db_location\"] = os.path.join(cwd, 'testing.db')\n"
   ]
  },
  {
   "cell_type": "code",
   "execution_count": 2,
   "metadata": {
    "execution": {
     "iopub.execute_input": "2020-10-26T06:05:58.664617Z",
     "iopub.status.busy": "2020-10-26T06:05:58.660544Z",
     "iopub.status.idle": "2020-10-26T06:05:58.917316Z",
     "shell.execute_reply": "2020-10-26T06:05:58.916698Z"
    }
   },
   "outputs": [],
   "source": [
    "%matplotlib inline\n",
    "import time\n",
    "import matplotlib.pyplot as plt\n",
    "import numpy as np\n",
    "\n",
    "import qcodes as qc\n",
    "from qcodes.instrument.parameter import ManualParameter\n",
    "from qcodes.dataset.experiment_container import (Experiment,\n",
    "                                                 load_last_experiment,\n",
    "                                                 new_experiment)\n",
    "from qcodes.dataset.sqlite.database import initialise_database\n",
    "from qcodes import load_or_create_experiment\n",
    "from qcodes.dataset.measurements import Measurement"
   ]
  },
  {
   "cell_type": "code",
   "execution_count": 3,
   "metadata": {
    "execution": {
     "iopub.execute_input": "2020-10-26T06:05:58.922107Z",
     "iopub.status.busy": "2020-10-26T06:05:58.921453Z",
     "iopub.status.idle": "2020-10-26T06:05:59.073006Z",
     "shell.execute_reply": "2020-10-26T06:05:59.072319Z"
    }
   },
   "outputs": [
    {
     "name": "stdout",
     "output_type": "stream",
     "text": [
      "\r",
      "0it [00:00, ?it/s]"
     ]
    },
    {
     "name": "stdout",
     "output_type": "stream",
     "text": [
      "\r",
      "Upgrading database; v0 -> v1: : 0it [00:00, ?it/s]"
     ]
    },
    {
     "name": "stdout",
     "output_type": "stream",
     "text": [
      "\r",
      "Upgrading database; v0 -> v1: : 0it [00:00, ?it/s]"
     ]
    },
    {
     "name": "stdout",
     "output_type": "stream",
     "text": [
      "\n",
      "\r",
      "  0%|          | 0/1 [00:00<?, ?it/s]"
     ]
    },
    {
     "name": "stdout",
     "output_type": "stream",
     "text": [
      "\r",
      "Upgrading database; v1 -> v2:   0%|          | 0/1 [00:00<?, ?it/s]"
     ]
    },
    {
     "name": "stdout",
     "output_type": "stream",
     "text": [
      "\r",
      "Upgrading database; v1 -> v2: 100%|██████████| 1/1 [00:00<00:00, 546.56it/s]"
     ]
    },
    {
     "name": "stdout",
     "output_type": "stream",
     "text": [
      "\n",
      "\r",
      "0it [00:00, ?it/s]"
     ]
    },
    {
     "name": "stdout",
     "output_type": "stream",
     "text": [
      "\r",
      "Upgrading database; v2 -> v3: : 0it [00:00, ?it/s]"
     ]
    },
    {
     "name": "stdout",
     "output_type": "stream",
     "text": [
      "\r",
      "Upgrading database; v2 -> v3: : 0it [00:00, ?it/s]"
     ]
    },
    {
     "name": "stdout",
     "output_type": "stream",
     "text": [
      "\n",
      "\r",
      "0it [00:00, ?it/s]"
     ]
    },
    {
     "name": "stdout",
     "output_type": "stream",
     "text": [
      "\r",
      "Upgrading database; v3 -> v4: : 0it [00:00, ?it/s]"
     ]
    },
    {
     "name": "stdout",
     "output_type": "stream",
     "text": [
      "\r",
      "Upgrading database; v3 -> v4: : 0it [00:00, ?it/s]"
     ]
    },
    {
     "name": "stdout",
     "output_type": "stream",
     "text": [
      "\n",
      "\r",
      "  0%|          | 0/1 [00:00<?, ?it/s]"
     ]
    },
    {
     "name": "stdout",
     "output_type": "stream",
     "text": [
      "\r",
      "Upgrading database; v4 -> v5:   0%|          | 0/1 [00:00<?, ?it/s]"
     ]
    },
    {
     "name": "stdout",
     "output_type": "stream",
     "text": [
      "\r",
      "Upgrading database; v4 -> v5: 100%|██████████| 1/1 [00:00<00:00, 737.52it/s]"
     ]
    },
    {
     "name": "stdout",
     "output_type": "stream",
     "text": [
      "\n",
      "\r",
      "0it [00:00, ?it/s]"
     ]
    },
    {
     "name": "stdout",
     "output_type": "stream",
     "text": [
      "\r",
      "Upgrading database; v5 -> v6: : 0it [00:00, ?it/s]"
     ]
    },
    {
     "name": "stdout",
     "output_type": "stream",
     "text": [
      "\r",
      "Upgrading database; v5 -> v6: : 0it [00:00, ?it/s]"
     ]
    },
    {
     "name": "stdout",
     "output_type": "stream",
     "text": [
      "\n",
      "\r",
      "  0%|          | 0/1 [00:00<?, ?it/s]"
     ]
    },
    {
     "name": "stdout",
     "output_type": "stream",
     "text": [
      "\r",
      "Upgrading database; v6 -> v7:   0%|          | 0/1 [00:00<?, ?it/s]"
     ]
    },
    {
     "name": "stdout",
     "output_type": "stream",
     "text": [
      "\r",
      "Upgrading database; v6 -> v7: 100%|██████████| 1/1 [00:00<00:00, 180.70it/s]"
     ]
    },
    {
     "name": "stdout",
     "output_type": "stream",
     "text": [
      "\n",
      "\r",
      "  0%|          | 0/1 [00:00<?, ?it/s]"
     ]
    },
    {
     "name": "stdout",
     "output_type": "stream",
     "text": [
      "\r",
      "Upgrading database; v7 -> v8:   0%|          | 0/1 [00:00<?, ?it/s]"
     ]
    },
    {
     "name": "stdout",
     "output_type": "stream",
     "text": [
      "\r",
      "Upgrading database; v7 -> v8: 100%|██████████| 1/1 [00:00<00:00, 206.93it/s]"
     ]
    },
    {
     "name": "stdout",
     "output_type": "stream",
     "text": [
      "\n",
      "\r",
      "  0%|          | 0/1 [00:00<?, ?it/s]"
     ]
    },
    {
     "name": "stdout",
     "output_type": "stream",
     "text": [
      "\r",
      "Upgrading database; v8 -> v9:   0%|          | 0/1 [00:00<?, ?it/s]"
     ]
    },
    {
     "name": "stdout",
     "output_type": "stream",
     "text": [
      "\r",
      "Upgrading database; v8 -> v9: 100%|██████████| 1/1 [00:00<00:00, 225.95it/s]"
     ]
    },
    {
     "name": "stdout",
     "output_type": "stream",
     "text": [
      "\n"
     ]
    }
   ],
   "source": [
    "initialise_database()\n",
    "exp = load_or_create_experiment(experiment_name='tutorial_exp', sample_name=\"no sample\")"
   ]
  },
  {
   "cell_type": "markdown",
   "metadata": {},
   "source": [
    "Here, we define a simple function to benchmark the time it takes to insert n points with either numeric or array data type.\n",
    "We will compare both the time used to call ``add_result`` and the time used for the full measurement."
   ]
  },
  {
   "cell_type": "code",
   "execution_count": 4,
   "metadata": {
    "execution": {
     "iopub.execute_input": "2020-10-26T06:05:59.084355Z",
     "iopub.status.busy": "2020-10-26T06:05:59.083267Z",
     "iopub.status.idle": "2020-10-26T06:05:59.086160Z",
     "shell.execute_reply": "2020-10-26T06:05:59.085471Z"
    }
   },
   "outputs": [],
   "source": [
    "def insert_data(paramtype, npoints, nreps=1):\n",
    "\n",
    "    meas = Measurement(exp=exp)\n",
    "\n",
    "    x1 = ManualParameter('x1')\n",
    "    x2 = ManualParameter('x2')\n",
    "    x3 = ManualParameter('x3')\n",
    "    y1 = ManualParameter('y1')\n",
    "    y2 = ManualParameter('y2')\n",
    "\n",
    "    meas.register_parameter(x1, paramtype=paramtype)\n",
    "    meas.register_parameter(x2, paramtype=paramtype)\n",
    "    meas.register_parameter(x3, paramtype=paramtype)\n",
    "    meas.register_parameter(y1, setpoints=[x1, x2, x3],\n",
    "                            paramtype=paramtype)\n",
    "    meas.register_parameter(y2, setpoints=[x1, x2, x3],\n",
    "                            paramtype=paramtype)\n",
    "    start = time.perf_counter()\n",
    "    with meas.run() as datasaver:\n",
    "        start_adding = time.perf_counter()\n",
    "        for i in range(nreps):\n",
    "            datasaver.add_result((x1, np.random.rand(npoints)),\n",
    "                                 (x2, np.random.rand(npoints)),\n",
    "                                 (x3, np.random.rand(npoints)),\n",
    "                                 (y1, np.random.rand(npoints)),\n",
    "                                 (y2, np.random.rand(npoints)))\n",
    "        stop_adding = time.perf_counter()\n",
    "        run_id = datasaver.run_id\n",
    "    stop = time.perf_counter()\n",
    "    tot_time = stop - start\n",
    "    add_time = stop_adding - start_adding\n",
    "    return tot_time, add_time, run_id"
   ]
  },
  {
   "cell_type": "markdown",
   "metadata": {},
   "source": [
    "## Comparison between numeric/array data and binary blob"
   ]
  },
  {
   "cell_type": "markdown",
   "metadata": {},
   "source": [
    "### Case1: Short experiment time"
   ]
  },
  {
   "cell_type": "code",
   "execution_count": 5,
   "metadata": {
    "execution": {
     "iopub.execute_input": "2020-10-26T06:05:59.096247Z",
     "iopub.status.busy": "2020-10-26T06:05:59.095489Z",
     "iopub.status.idle": "2020-10-26T06:06:00.101851Z",
     "shell.execute_reply": "2020-10-26T06:06:00.102471Z"
    }
   },
   "outputs": [
    {
     "name": "stdout",
     "output_type": "stream",
     "text": [
      "Starting experimental run with id: 1. \n",
      "Starting experimental run with id: 2. \n",
      "Starting experimental run with id: 3. \n"
     ]
    },
    {
     "name": "stdout",
     "output_type": "stream",
     "text": [
      "Starting experimental run with id: 4. \n"
     ]
    },
    {
     "name": "stdout",
     "output_type": "stream",
     "text": [
      "Starting experimental run with id: 5. \n"
     ]
    },
    {
     "name": "stdout",
     "output_type": "stream",
     "text": [
      "Starting experimental run with id: 6. \n",
      "Starting experimental run with id: 7. \n"
     ]
    },
    {
     "name": "stdout",
     "output_type": "stream",
     "text": [
      "Starting experimental run with id: 8. \n"
     ]
    },
    {
     "name": "stdout",
     "output_type": "stream",
     "text": [
      "Starting experimental run with id: 9. \n"
     ]
    },
    {
     "name": "stdout",
     "output_type": "stream",
     "text": [
      "Starting experimental run with id: 10. \n",
      "Starting experimental run with id: 11. \n"
     ]
    },
    {
     "name": "stdout",
     "output_type": "stream",
     "text": [
      "Starting experimental run with id: 12. \n",
      "Starting experimental run with id: 13. \n"
     ]
    },
    {
     "name": "stdout",
     "output_type": "stream",
     "text": [
      "Starting experimental run with id: 14. \n"
     ]
    }
   ],
   "source": [
    "sizes = [1,500,1000,2000,3000,4000,5000]\n",
    "t_numeric = []\n",
    "t_numeric_add = []\n",
    "t_array = []\n",
    "t_array_add = []\n",
    "for size in sizes:\n",
    "    tn, tna, run_id_n =  insert_data('numeric', size)\n",
    "    t_numeric.append(tn)\n",
    "    t_numeric_add.append(tna)\n",
    "\n",
    "    ta, taa, run_id_a =  insert_data('array', size)\n",
    "    t_array.append(ta)\n",
    "    t_array_add.append(taa)"
   ]
  },
  {
   "cell_type": "code",
   "execution_count": 6,
   "metadata": {
    "execution": {
     "iopub.execute_input": "2020-10-26T06:06:00.124297Z",
     "iopub.status.busy": "2020-10-26T06:06:00.123628Z",
     "iopub.status.idle": "2020-10-26T06:06:00.355012Z",
     "shell.execute_reply": "2020-10-26T06:06:00.354469Z"
    }
   },
   "outputs": [
    {
     "data": {
      "image/png": "[encoded data removed]",
      "text/plain": [
       "<Figure size 432x288 with 1 Axes>"
      ]
     },
     "metadata": {
      "needs_background": "light"
     },
     "output_type": "display_data"
    }
   ],
   "source": [
    "fig, ax = plt.subplots(1,1)\n",
    "ax.plot(sizes, t_numeric, 'o-', label='Inserting row-by-row')\n",
    "ax.plot(sizes, t_numeric_add, 'o-', label='Inserting row-by-row: add_result only')\n",
    "ax.plot(sizes, t_array, 'd-', label='Inserting as binary blob')\n",
    "ax.plot(sizes, t_array_add, 'd-', label='Inserting as binary blob: add_result only')\n",
    "ax.legend()\n",
    "ax.set_xlabel('Array length')\n",
    "ax.set_ylabel('Time (s)')\n",
    "fig.tight_layout()"
   ]
  },
  {
   "cell_type": "markdown",
   "metadata": {},
   "source": [
    "As shown in the latter figure, the time to setup and and close the experiment is approximately 0.4 sec. In case of small array sizes, the difference between inserting values of data as arrays and inserting them row-by-row is relatively unimportant. At larger array sizes, i.e. above 10000 points, the cost of writing data as individual datapoints starts to become important.\n"
   ]
  },
  {
   "cell_type": "markdown",
   "metadata": {},
   "source": [
    "### Case2: Long experiment time "
   ]
  },
  {
   "cell_type": "code",
   "execution_count": 7,
   "metadata": {
    "execution": {
     "iopub.execute_input": "2020-10-26T06:06:00.361340Z",
     "iopub.status.busy": "2020-10-26T06:06:00.360563Z",
     "iopub.status.idle": "2020-10-26T06:07:09.623508Z",
     "shell.execute_reply": "2020-10-26T06:07:09.624023Z"
    }
   },
   "outputs": [
    {
     "name": "stdout",
     "output_type": "stream",
     "text": [
      "Starting experimental run with id: 15. \n",
      "Starting experimental run with id: 16. \n"
     ]
    },
    {
     "name": "stdout",
     "output_type": "stream",
     "text": [
      "Starting experimental run with id: 17. \n"
     ]
    },
    {
     "name": "stdout",
     "output_type": "stream",
     "text": [
      "Starting experimental run with id: 18. \n"
     ]
    },
    {
     "name": "stdout",
     "output_type": "stream",
     "text": [
      "Starting experimental run with id: 19. \n"
     ]
    },
    {
     "name": "stdout",
     "output_type": "stream",
     "text": [
      "Starting experimental run with id: 20. \n"
     ]
    },
    {
     "name": "stdout",
     "output_type": "stream",
     "text": [
      "Starting experimental run with id: 21. \n"
     ]
    },
    {
     "name": "stdout",
     "output_type": "stream",
     "text": [
      "Starting experimental run with id: 22. \n"
     ]
    },
    {
     "name": "stdout",
     "output_type": "stream",
     "text": [
      "Starting experimental run with id: 23. \n"
     ]
    },
    {
     "name": "stdout",
     "output_type": "stream",
     "text": [
      "Starting experimental run with id: 24. \n"
     ]
    },
    {
     "name": "stdout",
     "output_type": "stream",
     "text": [
      "Starting experimental run with id: 25. \n"
     ]
    },
    {
     "name": "stdout",
     "output_type": "stream",
     "text": [
      "Starting experimental run with id: 26. \n"
     ]
    },
    {
     "name": "stdout",
     "output_type": "stream",
     "text": [
      "Starting experimental run with id: 27. \n"
     ]
    },
    {
     "name": "stdout",
     "output_type": "stream",
     "text": [
      "Starting experimental run with id: 28. \n"
     ]
    }
   ],
   "source": [
    "sizes = [1,500,1000,2000,3000,4000,5000]\n",
    "nreps = 100\n",
    "t_numeric = []\n",
    "t_numeric_add = []\n",
    "t_numeric_run_ids = []\n",
    "t_array = []\n",
    "t_array_add = []\n",
    "t_array_run_ids = []\n",
    "for size in sizes:\n",
    "    tn, tna, run_id_n =  insert_data('numeric', size, nreps=nreps)\n",
    "    t_numeric.append(tn)\n",
    "    t_numeric_add.append(tna)\n",
    "    t_numeric_run_ids.append(run_id_n)\n",
    "\n",
    "    ta, taa, run_id_a =  insert_data('array', size, nreps=nreps)\n",
    "    t_array.append(ta)\n",
    "    t_array_add.append(taa)\n",
    "    t_array_run_ids.append(run_id_a)"
   ]
  },
  {
   "cell_type": "code",
   "execution_count": 8,
   "metadata": {
    "execution": {
     "iopub.execute_input": "2020-10-26T06:07:09.666429Z",
     "iopub.status.busy": "2020-10-26T06:07:09.650962Z",
     "iopub.status.idle": "2020-10-26T06:07:09.881371Z",
     "shell.execute_reply": "2020-10-26T06:07:09.880479Z"
    },
    "scrolled": true
   },
   "outputs": [
    {
     "data": {
      "image/png": "[encoded data removed]",
      "text/plain": [
       "<Figure size 432x288 with 1 Axes>"
      ]
     },
     "metadata": {
      "needs_background": "light"
     },
     "output_type": "display_data"
    }
   ],
   "source": [
    "fig, ax = plt.subplots(1,1)\n",
    "ax.plot(sizes, t_numeric, 'o-', label='Inserting row-by-row')\n",
    "ax.plot(sizes, t_numeric_add, 'o-', label='Inserting row-by-row: add_result only')\n",
    "ax.plot(sizes, t_array, 'd-', label='Inserting as binary blob')\n",
    "ax.plot(sizes, t_array_add, 'd-', label='Inserting as binary blob: add_result only')\n",
    "ax.legend()\n",
    "ax.set_xlabel('Array length')\n",
    "ax.set_ylabel('Time (s)')\n",
    "fig.tight_layout()"
   ]
  },
  {
   "cell_type": "markdown",
   "metadata": {},
   "source": [
    "However, as we increase the length of the experiment, as seen here by repeating the insertion 100 times, we see a big difference between inserting values of the data row-by-row and inserting it as a binary blob."
   ]
  },
  {
   "cell_type": "markdown",
   "metadata": {},
   "source": [
    "## Loading the data "
   ]
  },
  {
   "cell_type": "code",
   "execution_count": 9,
   "metadata": {
    "execution": {
     "iopub.execute_input": "2020-10-26T06:07:09.886261Z",
     "iopub.status.busy": "2020-10-26T06:07:09.885329Z",
     "iopub.status.idle": "2020-10-26T06:07:09.889169Z",
     "shell.execute_reply": "2020-10-26T06:07:09.889793Z"
    }
   },
   "outputs": [],
   "source": [
    "from qcodes.dataset.data_set import load_by_id\n",
    "from qcodes.dataset.data_export import get_data_by_id"
   ]
  },
  {
   "cell_type": "markdown",
   "metadata": {},
   "source": [
    "As usual you can load the data by using the ``load_by_id`` function but you will notice that the different storage methods\n",
    "are reflected in shape of the data as it is retrieved. "
   ]
  },
  {
   "cell_type": "code",
   "execution_count": 10,
   "metadata": {
    "execution": {
     "iopub.execute_input": "2020-10-26T06:07:09.895060Z",
     "iopub.status.busy": "2020-10-26T06:07:09.893513Z",
     "iopub.status.idle": "2020-10-26T06:07:09.898504Z",
     "shell.execute_reply": "2020-10-26T06:07:09.897871Z"
    }
   },
   "outputs": [],
   "source": [
    "run_id_n = t_numeric_run_ids[0]\n",
    "run_id_a = t_array_run_ids[0]"
   ]
  },
  {
   "cell_type": "code",
   "execution_count": 11,
   "metadata": {
    "execution": {
     "iopub.execute_input": "2020-10-26T06:07:09.902503Z",
     "iopub.status.busy": "2020-10-26T06:07:09.901809Z",
     "iopub.status.idle": "2020-10-26T06:07:09.916395Z",
     "shell.execute_reply": "2020-10-26T06:07:09.920096Z"
    },
    "scrolled": true
   },
   "outputs": [
    {
     "data": {
      "text/plain": [
       "{'x1': {'x1': array([0.95850177, 0.95850177, 0.95481172, 0.95481172, 0.73026532,\n",
       "         0.73026532, 0.12902803, 0.12902803, 0.12492674, 0.12492674,\n",
       "         0.46037679, 0.46037679, 0.96152303, 0.96152303, 0.16587586,\n",
       "         0.16587586, 0.23247991, 0.23247991, 0.42591743, 0.42591743,\n",
       "         0.20833988, 0.20833988, 0.81951684, 0.81951684, 0.11286095,\n",
       "         0.11286095, 0.87097715, 0.87097715, 0.07279805, 0.07279805,\n",
       "         0.99911683, 0.99911683, 0.59782357, 0.59782357, 0.7241768 ,\n",
       "         0.7241768 , 0.36672345, 0.36672345, 0.27393584, 0.27393584,\n",
       "         0.1845785 , 0.1845785 , 0.10992802, 0.10992802, 0.51313724,\n",
       "         0.51313724, 0.94026301, 0.94026301, 0.4968431 , 0.4968431 ,\n",
       "         0.05047558, 0.05047558, 0.37668746, 0.37668746, 0.61740586,\n",
       "         0.61740586, 0.6675217 , 0.6675217 , 0.57918343, 0.57918343,\n",
       "         0.1798007 , 0.1798007 , 0.59012405, 0.59012405, 0.81819064,\n",
       "         0.81819064, 0.23621625, 0.23621625, 0.76142579, 0.76142579,\n",
       "         0.82506105, 0.82506105, 0.99502319, 0.99502319, 0.67196726,\n",
       "         0.67196726, 0.61293188, 0.61293188, 0.51568334, 0.51568334,\n",
       "         0.35530658, 0.35530658, 0.60222486, 0.60222486, 0.28946564,\n",
       "         0.28946564, 0.37032442, 0.37032442, 0.926369  , 0.926369  ,\n",
       "         0.28209938, 0.28209938, 0.41312772, 0.41312772, 0.39190077,\n",
       "         0.39190077, 0.41456011, 0.41456011, 0.24819355, 0.24819355,\n",
       "         0.35708684, 0.35708684, 0.94187856, 0.94187856, 0.22677426,\n",
       "         0.22677426, 0.23827976, 0.23827976, 0.86522502, 0.86522502,\n",
       "         0.92593941, 0.92593941, 0.40320264, 0.40320264, 0.91730511,\n",
       "         0.91730511, 0.39559618, 0.39559618, 0.61372308, 0.61372308,\n",
       "         0.69344988, 0.69344988, 0.39773448, 0.39773448, 0.15060961,\n",
       "         0.15060961, 0.13171819, 0.13171819, 0.99471393, 0.99471393,\n",
       "         0.78528541, 0.78528541, 0.30262805, 0.30262805, 0.04005134,\n",
       "         0.04005134, 0.3165677 , 0.3165677 , 0.82194855, 0.82194855,\n",
       "         0.17859838, 0.17859838, 0.67079193, 0.67079193, 0.4992703 ,\n",
       "         0.4992703 , 0.32800483, 0.32800483, 0.28079517, 0.28079517,\n",
       "         0.85469076, 0.85469076, 0.13104107, 0.13104107, 0.7717082 ,\n",
       "         0.7717082 , 0.61032048, 0.61032048, 0.24667665, 0.24667665,\n",
       "         0.2808222 , 0.2808222 , 0.97561485, 0.97561485, 0.70918808,\n",
       "         0.70918808, 0.45645029, 0.45645029, 0.57079292, 0.57079292,\n",
       "         0.34643686, 0.34643686, 0.09710371, 0.09710371, 0.72375026,\n",
       "         0.72375026, 0.9872635 , 0.9872635 , 0.02642317, 0.02642317,\n",
       "         0.0505114 , 0.0505114 , 0.5656893 , 0.5656893 , 0.15112408,\n",
       "         0.15112408, 0.42995062, 0.42995062, 0.15944701, 0.15944701,\n",
       "         0.67937248, 0.67937248, 0.53818754, 0.53818754, 0.00112385,\n",
       "         0.00112385, 0.98494988, 0.98494988, 0.20340573, 0.20340573])}}"
      ]
     },
     "execution_count": 1,
     "metadata": {},
     "output_type": "execute_result"
    }
   ],
   "source": [
    "ds = load_by_id(run_id_n)\n",
    "ds.get_parameter_data('x1')"
   ]
  },
  {
   "cell_type": "markdown",
   "metadata": {},
   "source": [
    "And a dataset stored as binary arrays"
   ]
  },
  {
   "cell_type": "code",
   "execution_count": 12,
   "metadata": {
    "execution": {
     "iopub.execute_input": "2020-10-26T06:07:09.926682Z",
     "iopub.status.busy": "2020-10-26T06:07:09.926059Z",
     "iopub.status.idle": "2020-10-26T06:07:09.994238Z",
     "shell.execute_reply": "2020-10-26T06:07:09.994855Z"
    },
    "scrolled": true
   },
   "outputs": [
    {
     "data": {
      "text/plain": [
       "{'x1': {'x1': array([[0.26042814],\n",
       "         [0.26042814],\n",
       "         [0.59724836],\n",
       "         [0.59724836],\n",
       "         [0.523702  ],\n",
       "         [0.523702  ],\n",
       "         [0.46756696],\n",
       "         [0.46756696],\n",
       "         [0.34713725],\n",
       "         [0.34713725],\n",
       "         [0.73486428],\n",
       "         [0.73486428],\n",
       "         [0.93860421],\n",
       "         [0.93860421],\n",
       "         [0.45934835],\n",
       "         [0.45934835],\n",
       "         [0.06510694],\n",
       "         [0.06510694],\n",
       "         [0.38429863],\n",
       "         [0.38429863],\n",
       "         [0.45528547],\n",
       "         [0.45528547],\n",
       "         [0.80716761],\n",
       "         [0.80716761],\n",
       "         [0.96901835],\n",
       "         [0.96901835],\n",
       "         [0.11988848],\n",
       "         [0.11988848],\n",
       "         [0.31634841],\n",
       "         [0.31634841],\n",
       "         [0.76051214],\n",
       "         [0.76051214],\n",
       "         [0.52529394],\n",
       "         [0.52529394],\n",
       "         [0.60254658],\n",
       "         [0.60254658],\n",
       "         [0.96718581],\n",
       "         [0.96718581],\n",
       "         [0.21059175],\n",
       "         [0.21059175],\n",
       "         [0.82383041],\n",
       "         [0.82383041],\n",
       "         [0.84284657],\n",
       "         [0.84284657],\n",
       "         [0.60794827],\n",
       "         [0.60794827],\n",
       "         [0.76464392],\n",
       "         [0.76464392],\n",
       "         [0.2999107 ],\n",
       "         [0.2999107 ],\n",
       "         [0.80851528],\n",
       "         [0.80851528],\n",
       "         [0.09629103],\n",
       "         [0.09629103],\n",
       "         [0.89092118],\n",
       "         [0.89092118],\n",
       "         [0.20406382],\n",
       "         [0.20406382],\n",
       "         [0.76660792],\n",
       "         [0.76660792],\n",
       "         [0.17531411],\n",
       "         [0.17531411],\n",
       "         [0.23713487],\n",
       "         [0.23713487],\n",
       "         [0.62798728],\n",
       "         [0.62798728],\n",
       "         [0.09731689],\n",
       "         [0.09731689],\n",
       "         [0.91631328],\n",
       "         [0.91631328],\n",
       "         [0.04914041],\n",
       "         [0.04914041],\n",
       "         [0.41093064],\n",
       "         [0.41093064],\n",
       "         [0.44143809],\n",
       "         [0.44143809],\n",
       "         [0.43573052],\n",
       "         [0.43573052],\n",
       "         [0.65930066],\n",
       "         [0.65930066],\n",
       "         [0.04582995],\n",
       "         [0.04582995],\n",
       "         [0.94406785],\n",
       "         [0.94406785],\n",
       "         [0.16109185],\n",
       "         [0.16109185],\n",
       "         [0.19979358],\n",
       "         [0.19979358],\n",
       "         [0.53491704],\n",
       "         [0.53491704],\n",
       "         [0.67165111],\n",
       "         [0.67165111],\n",
       "         [0.90091991],\n",
       "         [0.90091991],\n",
       "         [0.57219213],\n",
       "         [0.57219213],\n",
       "         [0.7851644 ],\n",
       "         [0.7851644 ],\n",
       "         [0.5162175 ],\n",
       "         [0.5162175 ],\n",
       "         [0.12063072],\n",
       "         [0.12063072],\n",
       "         [0.20857848],\n",
       "         [0.20857848],\n",
       "         [0.04472539],\n",
       "         [0.04472539],\n",
       "         [0.3398859 ],\n",
       "         [0.3398859 ],\n",
       "         [0.84734026],\n",
       "         [0.84734026],\n",
       "         [0.52115306],\n",
       "         [0.52115306],\n",
       "         [0.98779884],\n",
       "         [0.98779884],\n",
       "         [0.5957377 ],\n",
       "         [0.5957377 ],\n",
       "         [0.18796673],\n",
       "         [0.18796673],\n",
       "         [0.10235003],\n",
       "         [0.10235003],\n",
       "         [0.47643675],\n",
       "         [0.47643675],\n",
       "         [0.93643847],\n",
       "         [0.93643847],\n",
       "         [0.54994172],\n",
       "         [0.54994172],\n",
       "         [0.02645092],\n",
       "         [0.02645092],\n",
       "         [0.46821019],\n",
       "         [0.46821019],\n",
       "         [0.33043376],\n",
       "         [0.33043376],\n",
       "         [0.05933168],\n",
       "         [0.05933168],\n",
       "         [0.62939672],\n",
       "         [0.62939672],\n",
       "         [0.86039895],\n",
       "         [0.86039895],\n",
       "         [0.81216662],\n",
       "         [0.81216662],\n",
       "         [0.37262513],\n",
       "         [0.37262513],\n",
       "         [0.46093878],\n",
       "         [0.46093878],\n",
       "         [0.6596977 ],\n",
       "         [0.6596977 ],\n",
       "         [0.40906314],\n",
       "         [0.40906314],\n",
       "         [0.38132521],\n",
       "         [0.38132521],\n",
       "         [0.29684893],\n",
       "         [0.29684893],\n",
       "         [0.95232349],\n",
       "         [0.95232349],\n",
       "         [0.17124111],\n",
       "         [0.17124111],\n",
       "         [0.13703954],\n",
       "         [0.13703954],\n",
       "         [0.02724913],\n",
       "         [0.02724913],\n",
       "         [0.65260887],\n",
       "         [0.65260887],\n",
       "         [0.33166505],\n",
       "         [0.33166505],\n",
       "         [0.06048816],\n",
       "         [0.06048816],\n",
       "         [0.59262823],\n",
       "         [0.59262823],\n",
       "         [0.61396026],\n",
       "         [0.61396026],\n",
       "         [0.08157751],\n",
       "         [0.08157751],\n",
       "         [0.00498029],\n",
       "         [0.00498029],\n",
       "         [0.8623057 ],\n",
       "         [0.8623057 ],\n",
       "         [0.99800473],\n",
       "         [0.99800473],\n",
       "         [0.22006122],\n",
       "         [0.22006122],\n",
       "         [0.50032437],\n",
       "         [0.50032437],\n",
       "         [0.58062786],\n",
       "         [0.58062786],\n",
       "         [0.55367818],\n",
       "         [0.55367818],\n",
       "         [0.27084126],\n",
       "         [0.27084126],\n",
       "         [0.73101375],\n",
       "         [0.73101375],\n",
       "         [0.13636074],\n",
       "         [0.13636074],\n",
       "         [0.91260357],\n",
       "         [0.91260357],\n",
       "         [0.77456261],\n",
       "         [0.77456261],\n",
       "         [0.78392723],\n",
       "         [0.78392723],\n",
       "         [0.89282662],\n",
       "         [0.89282662]])}}"
      ]
     },
     "execution_count": 1,
     "metadata": {},
     "output_type": "execute_result"
    }
   ],
   "source": [
    "ds = load_by_id(run_id_a)\n",
    "ds.get_parameter_data('x1')"
   ]
  },
  {
   "cell_type": "code",
   "execution_count": null,
   "metadata": {},
   "outputs": [],
   "source": []
  }
 ],
 "metadata": {
  "kernelspec": {
   "display_name": "Python 3",
   "language": "python",
   "name": "python3"
  },
  "language_info": {
   "codemirror_mode": {
    "name": "ipython",
    "version": 3
   },
   "file_extension": ".py",
   "mimetype": "text/x-python",
   "name": "python",
   "nbconvert_exporter": "python",
   "pygments_lexer": "ipython3",
   "version": "3.7.7"
  },
  "nbsphinx": {
   "timeout": 600
  },
  "toc": {
   "base_numbering": 1,
   "nav_menu": {},
   "number_sections": true,
   "sideBar": true,
   "skip_h1_title": false,
   "title_cell": "Table of Contents",
   "title_sidebar": "Contents",
   "toc_cell": false,
   "toc_position": {},
   "toc_section_display": true,
   "toc_window_display": false
  },
  "varInspector": {
   "cols": {
    "lenName": 16,
    "lenType": 16,
    "lenVar": 40
   },
   "kernels_config": {
    "python": {
     "delete_cmd_postfix": "",
     "delete_cmd_prefix": "del ",
     "library": "var_list.py",
     "varRefreshCmd": "print(var_dic_list())"
    },
    "r": {
     "delete_cmd_postfix": ") ",
     "delete_cmd_prefix": "rm(",
     "library": "var_list.r",
     "varRefreshCmd": "cat(var_dic_list()) "
    }
   },
   "types_to_exclude": [
    "module",
    "function",
    "builtin_function_or_method",
    "instance",
    "_Feature"
   ],
   "window_display": false
  }
 },
 "nbformat": 4,
 "nbformat_minor": 2
}
