{
 "cells": [
  {
   "cell_type": "markdown",
   "metadata": {},
   "source": [
    "# DataSet Performance\n",
    "\n",
    "This notebook shows the trade-off between inserting data into a database row-by-row and as binary blobs. Inserting the data row-by-row means that we have direct access to all the data and may perform queries directly on the values of the data. On the other hand, as we shall see, this is much slower than inserting the data directly as binary blobs."
   ]
  },
  {
   "cell_type": "markdown",
   "metadata": {},
   "source": [
    "First, we choose a new location for the database to ensure that we don't add a bunch of benchmarking data to the default one."
   ]
  },
  {
   "cell_type": "code",
   "execution_count": 1,
   "metadata": {
    "execution": {
     "iopub.execute_input": "2021-04-27T06:51:02.937481Z",
     "iopub.status.busy": "2021-04-27T06:51:02.936286Z",
     "iopub.status.idle": "2021-04-27T06:51:04.263702Z",
     "shell.execute_reply": "2021-04-27T06:51:04.264232Z"
    }
   },
   "outputs": [
    {
     "name": "stdout",
     "output_type": "stream",
     "text": [
      "Logging hadn't been started.\n",
      "Activating auto-logging. Current session state plus future input saved.\n",
      "Filename       : /home/runner/.qcodes/logs/command_history.log\n",
      "Mode           : append\n",
      "Output logging : True\n",
      "Raw input log  : False\n",
      "Timestamping   : True\n",
      "State          : active\n"
     ]
    },
    {
     "name": "stdout",
     "output_type": "stream",
     "text": [
      "Qcodes Logfile : /home/runner/.qcodes/logs/210427-4635-qcodes.log\n"
     ]
    }
   ],
   "source": [
    "import os\n",
    "cwd = os.getcwd()\n",
    "import qcodes as qc\n",
    "qc.config[\"core\"][\"db_location\"] = os.path.join(cwd, 'testing.db')\n"
   ]
  },
  {
   "cell_type": "code",
   "execution_count": 2,
   "metadata": {
    "execution": {
     "iopub.execute_input": "2021-04-27T06:51:04.271963Z",
     "iopub.status.busy": "2021-04-27T06:51:04.270769Z",
     "iopub.status.idle": "2021-04-27T06:51:04.492597Z",
     "shell.execute_reply": "2021-04-27T06:51:04.493134Z"
    }
   },
   "outputs": [],
   "source": [
    "%matplotlib inline\n",
    "import time\n",
    "import matplotlib.pyplot as plt\n",
    "import numpy as np\n",
    "\n",
    "import qcodes as qc\n",
    "from qcodes.instrument.parameter import ManualParameter\n",
    "from qcodes.dataset.experiment_container import (Experiment,\n",
    "                                                 load_last_experiment,\n",
    "                                                 new_experiment)\n",
    "from qcodes.dataset.sqlite.database import initialise_database\n",
    "from qcodes import load_or_create_experiment\n",
    "from qcodes.dataset.measurements import Measurement"
   ]
  },
  {
   "cell_type": "code",
   "execution_count": 3,
   "metadata": {
    "execution": {
     "iopub.execute_input": "2021-04-27T06:51:04.497407Z",
     "iopub.status.busy": "2021-04-27T06:51:04.496719Z",
     "iopub.status.idle": "2021-04-27T06:51:04.634546Z",
     "shell.execute_reply": "2021-04-27T06:51:04.633964Z"
    }
   },
   "outputs": [
    {
     "name": "stdout",
     "output_type": "stream",
     "text": [
      "\r",
      "0it [00:00, ?it/s]"
     ]
    },
    {
     "name": "stdout",
     "output_type": "stream",
     "text": [
      "\r",
      "Upgrading database; v0 -> v1: : 0it [00:00, ?it/s]"
     ]
    },
    {
     "name": "stdout",
     "output_type": "stream",
     "text": [
      "\r",
      "Upgrading database; v0 -> v1: : 0it [00:00, ?it/s]"
     ]
    },
    {
     "name": "stdout",
     "output_type": "stream",
     "text": [
      "\n",
      "\r",
      "  0%|          | 0/1 [00:00<?, ?it/s]"
     ]
    },
    {
     "name": "stdout",
     "output_type": "stream",
     "text": [
      "\r",
      "Upgrading database; v1 -> v2:   0%|          | 0/1 [00:00<?, ?it/s]"
     ]
    },
    {
     "name": "stdout",
     "output_type": "stream",
     "text": [
      "\r",
      "Upgrading database; v1 -> v2: 100%|██████████| 1/1 [00:00<00:00, 427.42it/s]"
     ]
    },
    {
     "name": "stdout",
     "output_type": "stream",
     "text": [
      "\n",
      "\r",
      "0it [00:00, ?it/s]"
     ]
    },
    {
     "name": "stdout",
     "output_type": "stream",
     "text": [
      "\r",
      "Upgrading database; v2 -> v3: : 0it [00:00, ?it/s]"
     ]
    },
    {
     "name": "stdout",
     "output_type": "stream",
     "text": [
      "\r",
      "Upgrading database; v2 -> v3: : 0it [00:00, ?it/s]"
     ]
    },
    {
     "name": "stdout",
     "output_type": "stream",
     "text": [
      "\n",
      "\r",
      "0it [00:00, ?it/s]"
     ]
    },
    {
     "name": "stdout",
     "output_type": "stream",
     "text": [
      "\r",
      "Upgrading database; v3 -> v4: : 0it [00:00, ?it/s]"
     ]
    },
    {
     "name": "stdout",
     "output_type": "stream",
     "text": [
      "\r",
      "Upgrading database; v3 -> v4: : 0it [00:00, ?it/s]"
     ]
    },
    {
     "name": "stdout",
     "output_type": "stream",
     "text": [
      "\n",
      "\r",
      "  0%|          | 0/1 [00:00<?, ?it/s]"
     ]
    },
    {
     "name": "stdout",
     "output_type": "stream",
     "text": [
      "\r",
      "Upgrading database; v4 -> v5:   0%|          | 0/1 [00:00<?, ?it/s]"
     ]
    },
    {
     "name": "stdout",
     "output_type": "stream",
     "text": [
      "\r",
      "Upgrading database; v4 -> v5: 100%|██████████| 1/1 [00:00<00:00, 390.79it/s]"
     ]
    },
    {
     "name": "stdout",
     "output_type": "stream",
     "text": [
      "\n",
      "\r",
      "0it [00:00, ?it/s]"
     ]
    },
    {
     "name": "stdout",
     "output_type": "stream",
     "text": [
      "\r",
      "Upgrading database; v5 -> v6: : 0it [00:00, ?it/s]"
     ]
    },
    {
     "name": "stdout",
     "output_type": "stream",
     "text": [
      "\r",
      "Upgrading database; v5 -> v6: : 0it [00:00, ?it/s]"
     ]
    },
    {
     "name": "stdout",
     "output_type": "stream",
     "text": [
      "\n",
      "\r",
      "  0%|          | 0/1 [00:00<?, ?it/s]"
     ]
    },
    {
     "name": "stdout",
     "output_type": "stream",
     "text": [
      "\r",
      "Upgrading database; v6 -> v7:   0%|          | 0/1 [00:00<?, ?it/s]"
     ]
    },
    {
     "name": "stdout",
     "output_type": "stream",
     "text": [
      "\r",
      "Upgrading database; v6 -> v7: 100%|██████████| 1/1 [00:00<00:00, 304.71it/s]"
     ]
    },
    {
     "name": "stdout",
     "output_type": "stream",
     "text": [
      "\n",
      "\r",
      "  0%|          | 0/1 [00:00<?, ?it/s]"
     ]
    },
    {
     "name": "stdout",
     "output_type": "stream",
     "text": [
      "\r",
      "Upgrading database; v7 -> v8:   0%|          | 0/1 [00:00<?, ?it/s]"
     ]
    },
    {
     "name": "stdout",
     "output_type": "stream",
     "text": [
      "\r",
      "Upgrading database; v7 -> v8: 100%|██████████| 1/1 [00:00<00:00, 524.81it/s]"
     ]
    },
    {
     "name": "stdout",
     "output_type": "stream",
     "text": [
      "\n",
      "\r",
      "  0%|          | 0/1 [00:00<?, ?it/s]"
     ]
    },
    {
     "name": "stdout",
     "output_type": "stream",
     "text": [
      "\r",
      "Upgrading database; v8 -> v9:   0%|          | 0/1 [00:00<?, ?it/s]"
     ]
    },
    {
     "name": "stdout",
     "output_type": "stream",
     "text": [
      "\r",
      "Upgrading database; v8 -> v9: 100%|██████████| 1/1 [00:00<00:00, 1036.14it/s]"
     ]
    },
    {
     "name": "stdout",
     "output_type": "stream",
     "text": [
      "\n"
     ]
    }
   ],
   "source": [
    "initialise_database()\n",
    "exp = load_or_create_experiment(experiment_name='tutorial_exp', sample_name=\"no sample\")"
   ]
  },
  {
   "cell_type": "markdown",
   "metadata": {},
   "source": [
    "Here, we define a simple function to benchmark the time it takes to insert n points with either numeric or array data type.\n",
    "We will compare both the time used to call ``add_result`` and the time used for the full measurement."
   ]
  },
  {
   "cell_type": "code",
   "execution_count": 4,
   "metadata": {
    "execution": {
     "iopub.execute_input": "2021-04-27T06:51:04.645342Z",
     "iopub.status.busy": "2021-04-27T06:51:04.643860Z",
     "iopub.status.idle": "2021-04-27T06:51:04.646190Z",
     "shell.execute_reply": "2021-04-27T06:51:04.646691Z"
    }
   },
   "outputs": [],
   "source": [
    "def insert_data(paramtype, npoints, nreps=1):\n",
    "\n",
    "    meas = Measurement(exp=exp)\n",
    "\n",
    "    x1 = ManualParameter('x1')\n",
    "    x2 = ManualParameter('x2')\n",
    "    x3 = ManualParameter('x3')\n",
    "    y1 = ManualParameter('y1')\n",
    "    y2 = ManualParameter('y2')\n",
    "\n",
    "    meas.register_parameter(x1, paramtype=paramtype)\n",
    "    meas.register_parameter(x2, paramtype=paramtype)\n",
    "    meas.register_parameter(x3, paramtype=paramtype)\n",
    "    meas.register_parameter(y1, setpoints=[x1, x2, x3],\n",
    "                            paramtype=paramtype)\n",
    "    meas.register_parameter(y2, setpoints=[x1, x2, x3],\n",
    "                            paramtype=paramtype)\n",
    "    start = time.perf_counter()\n",
    "    with meas.run() as datasaver:\n",
    "        start_adding = time.perf_counter()\n",
    "        for i in range(nreps):\n",
    "            datasaver.add_result((x1, np.random.rand(npoints)),\n",
    "                                 (x2, np.random.rand(npoints)),\n",
    "                                 (x3, np.random.rand(npoints)),\n",
    "                                 (y1, np.random.rand(npoints)),\n",
    "                                 (y2, np.random.rand(npoints)))\n",
    "        stop_adding = time.perf_counter()\n",
    "        run_id = datasaver.run_id\n",
    "    stop = time.perf_counter()\n",
    "    tot_time = stop - start\n",
    "    add_time = stop_adding - start_adding\n",
    "    return tot_time, add_time, run_id"
   ]
  },
  {
   "cell_type": "markdown",
   "metadata": {},
   "source": [
    "## Comparison between numeric/array data and binary blob"
   ]
  },
  {
   "cell_type": "markdown",
   "metadata": {},
   "source": [
    "### Case1: Short experiment time"
   ]
  },
  {
   "cell_type": "code",
   "execution_count": 5,
   "metadata": {
    "execution": {
     "iopub.execute_input": "2021-04-27T06:51:04.654624Z",
     "iopub.status.busy": "2021-04-27T06:51:04.653955Z",
     "iopub.status.idle": "2021-04-27T06:51:05.522335Z",
     "shell.execute_reply": "2021-04-27T06:51:05.521345Z"
    }
   },
   "outputs": [
    {
     "name": "stdout",
     "output_type": "stream",
     "text": [
      "Starting experimental run with id: 1. \n",
      "Starting experimental run with id: 2. \n",
      "Starting experimental run with id: 3. \n",
      "Starting experimental run with id: 4. \n",
      "Starting experimental run with id: 5. \n"
     ]
    },
    {
     "name": "stdout",
     "output_type": "stream",
     "text": [
      "Starting experimental run with id: 6. \n"
     ]
    },
    {
     "name": "stdout",
     "output_type": "stream",
     "text": [
      "Starting experimental run with id: 7. \n"
     ]
    },
    {
     "name": "stdout",
     "output_type": "stream",
     "text": [
      "Starting experimental run with id: 8. \n",
      "Starting experimental run with id: 9. \n"
     ]
    },
    {
     "name": "stdout",
     "output_type": "stream",
     "text": [
      "Starting experimental run with id: 10. \n",
      "Starting experimental run with id: 11. \n"
     ]
    },
    {
     "name": "stdout",
     "output_type": "stream",
     "text": [
      "Starting experimental run with id: 12. \n"
     ]
    },
    {
     "name": "stdout",
     "output_type": "stream",
     "text": [
      "Starting experimental run with id: 13. \n"
     ]
    },
    {
     "name": "stdout",
     "output_type": "stream",
     "text": [
      "Starting experimental run with id: 14. \n"
     ]
    }
   ],
   "source": [
    "sizes = [1,500,1000,2000,3000,4000,5000]\n",
    "t_numeric = []\n",
    "t_numeric_add = []\n",
    "t_array = []\n",
    "t_array_add = []\n",
    "for size in sizes:\n",
    "    tn, tna, run_id_n =  insert_data('numeric', size)\n",
    "    t_numeric.append(tn)\n",
    "    t_numeric_add.append(tna)\n",
    "\n",
    "    ta, taa, run_id_a =  insert_data('array', size)\n",
    "    t_array.append(ta)\n",
    "    t_array_add.append(taa)"
   ]
  },
  {
   "cell_type": "code",
   "execution_count": 6,
   "metadata": {
    "execution": {
     "iopub.execute_input": "2021-04-27T06:51:05.544298Z",
     "iopub.status.busy": "2021-04-27T06:51:05.538667Z",
     "iopub.status.idle": "2021-04-27T06:51:05.787915Z",
     "shell.execute_reply": "2021-04-27T06:51:05.786958Z"
    }
   },
   "outputs": [
    {
     "data": {
      "image/png": "[encoded data removed]",
      "text/plain": [
       "<Figure size 432x288 with 1 Axes>"
      ]
     },
     "metadata": {
      "needs_background": "light"
     },
     "output_type": "display_data"
    }
   ],
   "source": [
    "fig, ax = plt.subplots(1,1)\n",
    "ax.plot(sizes, t_numeric, 'o-', label='Inserting row-by-row')\n",
    "ax.plot(sizes, t_numeric_add, 'o-', label='Inserting row-by-row: add_result only')\n",
    "ax.plot(sizes, t_array, 'd-', label='Inserting as binary blob')\n",
    "ax.plot(sizes, t_array_add, 'd-', label='Inserting as binary blob: add_result only')\n",
    "ax.legend()\n",
    "ax.set_xlabel('Array length')\n",
    "ax.set_ylabel('Time (s)')\n",
    "fig.tight_layout()"
   ]
  },
  {
   "cell_type": "markdown",
   "metadata": {},
   "source": [
    "As shown in the latter figure, the time to setup and and close the experiment is approximately 0.4 sec. In case of small array sizes, the difference between inserting values of data as arrays and inserting them row-by-row is relatively unimportant. At larger array sizes, i.e. above 10000 points, the cost of writing data as individual datapoints starts to become important.\n"
   ]
  },
  {
   "cell_type": "markdown",
   "metadata": {},
   "source": [
    "### Case2: Long experiment time "
   ]
  },
  {
   "cell_type": "code",
   "execution_count": 7,
   "metadata": {
    "execution": {
     "iopub.execute_input": "2021-04-27T06:51:05.796699Z",
     "iopub.status.busy": "2021-04-27T06:51:05.794467Z",
     "iopub.status.idle": "2021-04-27T06:52:10.814450Z",
     "shell.execute_reply": "2021-04-27T06:52:10.813872Z"
    }
   },
   "outputs": [
    {
     "name": "stdout",
     "output_type": "stream",
     "text": [
      "Starting experimental run with id: 15. \n",
      "Starting experimental run with id: 16. \n"
     ]
    },
    {
     "name": "stdout",
     "output_type": "stream",
     "text": [
      "Starting experimental run with id: 17. \n"
     ]
    },
    {
     "name": "stdout",
     "output_type": "stream",
     "text": [
      "Starting experimental run with id: 18. \n"
     ]
    },
    {
     "name": "stdout",
     "output_type": "stream",
     "text": [
      "Starting experimental run with id: 19. \n"
     ]
    },
    {
     "name": "stdout",
     "output_type": "stream",
     "text": [
      "Starting experimental run with id: 20. \n"
     ]
    },
    {
     "name": "stdout",
     "output_type": "stream",
     "text": [
      "Starting experimental run with id: 21. \n"
     ]
    },
    {
     "name": "stdout",
     "output_type": "stream",
     "text": [
      "Starting experimental run with id: 22. \n"
     ]
    },
    {
     "name": "stdout",
     "output_type": "stream",
     "text": [
      "Starting experimental run with id: 23. \n"
     ]
    },
    {
     "name": "stdout",
     "output_type": "stream",
     "text": [
      "Starting experimental run with id: 24. \n"
     ]
    },
    {
     "name": "stdout",
     "output_type": "stream",
     "text": [
      "Starting experimental run with id: 25. \n"
     ]
    },
    {
     "name": "stdout",
     "output_type": "stream",
     "text": [
      "Starting experimental run with id: 26. \n"
     ]
    },
    {
     "name": "stdout",
     "output_type": "stream",
     "text": [
      "Starting experimental run with id: 27. \n"
     ]
    },
    {
     "name": "stdout",
     "output_type": "stream",
     "text": [
      "Starting experimental run with id: 28. \n"
     ]
    }
   ],
   "source": [
    "sizes = [1,500,1000,2000,3000,4000,5000]\n",
    "nreps = 100\n",
    "t_numeric = []\n",
    "t_numeric_add = []\n",
    "t_numeric_run_ids = []\n",
    "t_array = []\n",
    "t_array_add = []\n",
    "t_array_run_ids = []\n",
    "for size in sizes:\n",
    "    tn, tna, run_id_n =  insert_data('numeric', size, nreps=nreps)\n",
    "    t_numeric.append(tn)\n",
    "    t_numeric_add.append(tna)\n",
    "    t_numeric_run_ids.append(run_id_n)\n",
    "\n",
    "    ta, taa, run_id_a =  insert_data('array', size, nreps=nreps)\n",
    "    t_array.append(ta)\n",
    "    t_array_add.append(taa)\n",
    "    t_array_run_ids.append(run_id_a)"
   ]
  },
  {
   "cell_type": "code",
   "execution_count": 8,
   "metadata": {
    "execution": {
     "iopub.execute_input": "2021-04-27T06:52:10.867005Z",
     "iopub.status.busy": "2021-04-27T06:52:10.835604Z",
     "iopub.status.idle": "2021-04-27T06:52:11.054523Z",
     "shell.execute_reply": "2021-04-27T06:52:11.053980Z"
    },
    "scrolled": true
   },
   "outputs": [
    {
     "data": {
      "image/png": "[encoded data removed]",
      "text/plain": [
       "<Figure size 432x288 with 1 Axes>"
      ]
     },
     "metadata": {
      "needs_background": "light"
     },
     "output_type": "display_data"
    }
   ],
   "source": [
    "fig, ax = plt.subplots(1,1)\n",
    "ax.plot(sizes, t_numeric, 'o-', label='Inserting row-by-row')\n",
    "ax.plot(sizes, t_numeric_add, 'o-', label='Inserting row-by-row: add_result only')\n",
    "ax.plot(sizes, t_array, 'd-', label='Inserting as binary blob')\n",
    "ax.plot(sizes, t_array_add, 'd-', label='Inserting as binary blob: add_result only')\n",
    "ax.legend()\n",
    "ax.set_xlabel('Array length')\n",
    "ax.set_ylabel('Time (s)')\n",
    "fig.tight_layout()"
   ]
  },
  {
   "cell_type": "markdown",
   "metadata": {},
   "source": [
    "However, as we increase the length of the experiment, as seen here by repeating the insertion 100 times, we see a big difference between inserting values of the data row-by-row and inserting it as a binary blob."
   ]
  },
  {
   "cell_type": "markdown",
   "metadata": {},
   "source": [
    "## Loading the data "
   ]
  },
  {
   "cell_type": "code",
   "execution_count": 9,
   "metadata": {
    "execution": {
     "iopub.execute_input": "2021-04-27T06:52:11.060124Z",
     "iopub.status.busy": "2021-04-27T06:52:11.059510Z",
     "iopub.status.idle": "2021-04-27T06:52:11.062855Z",
     "shell.execute_reply": "2021-04-27T06:52:11.063379Z"
    }
   },
   "outputs": [],
   "source": [
    "from qcodes.dataset.data_set import load_by_id"
   ]
  },
  {
   "cell_type": "markdown",
   "metadata": {},
   "source": [
    "As usual you can load the data by using the ``load_by_id`` function but you will notice that the different storage methods\n",
    "are reflected in shape of the data as it is retrieved. "
   ]
  },
  {
   "cell_type": "code",
   "execution_count": 10,
   "metadata": {
    "execution": {
     "iopub.execute_input": "2021-04-27T06:52:11.068130Z",
     "iopub.status.busy": "2021-04-27T06:52:11.067512Z",
     "iopub.status.idle": "2021-04-27T06:52:11.071015Z",
     "shell.execute_reply": "2021-04-27T06:52:11.070467Z"
    }
   },
   "outputs": [],
   "source": [
    "run_id_n = t_numeric_run_ids[0]\n",
    "run_id_a = t_array_run_ids[0]"
   ]
  },
  {
   "cell_type": "code",
   "execution_count": 11,
   "metadata": {
    "execution": {
     "iopub.execute_input": "2021-04-27T06:52:11.075434Z",
     "iopub.status.busy": "2021-04-27T06:52:11.074797Z",
     "iopub.status.idle": "2021-04-27T06:52:11.086014Z",
     "shell.execute_reply": "2021-04-27T06:52:11.086605Z"
    },
    "scrolled": true
   },
   "outputs": [
    {
     "data": {
      "text/plain": [
       "{'x1': {'x1': array([0.54326318, 0.54326318, 0.2709532 , 0.2709532 , 0.14659548,\n",
       "         0.14659548, 0.44991312, 0.44991312, 0.32856969, 0.32856969,\n",
       "         0.11136843, 0.11136843, 0.28870263, 0.28870263, 0.71241348,\n",
       "         0.71241348, 0.27555158, 0.27555158, 0.07219837, 0.07219837,\n",
       "         0.41075693, 0.41075693, 0.91835357, 0.91835357, 0.26320403,\n",
       "         0.26320403, 0.13350348, 0.13350348, 0.68962223, 0.68962223,\n",
       "         0.33065721, 0.33065721, 0.67141668, 0.67141668, 0.91529986,\n",
       "         0.91529986, 0.6214553 , 0.6214553 , 0.77840713, 0.77840713,\n",
       "         0.91924068, 0.91924068, 0.02678752, 0.02678752, 0.80236632,\n",
       "         0.80236632, 0.10786166, 0.10786166, 0.19944698, 0.19944698,\n",
       "         0.63174995, 0.63174995, 0.99113518, 0.99113518, 0.50352148,\n",
       "         0.50352148, 0.64630099, 0.64630099, 0.35649133, 0.35649133,\n",
       "         0.16463705, 0.16463705, 0.6863341 , 0.6863341 , 0.91358365,\n",
       "         0.91358365, 0.15203139, 0.15203139, 0.55828079, 0.55828079,\n",
       "         0.6789696 , 0.6789696 , 0.47663059, 0.47663059, 0.2579291 ,\n",
       "         0.2579291 , 0.30661019, 0.30661019, 0.02282712, 0.02282712,\n",
       "         0.42824669, 0.42824669, 0.81477823, 0.81477823, 0.37165959,\n",
       "         0.37165959, 0.21599127, 0.21599127, 0.57218815, 0.57218815,\n",
       "         0.72307424, 0.72307424, 0.57429394, 0.57429394, 0.92027815,\n",
       "         0.92027815, 0.14743271, 0.14743271, 0.32167818, 0.32167818,\n",
       "         0.64642954, 0.64642954, 0.34511181, 0.34511181, 0.29732252,\n",
       "         0.29732252, 0.89613057, 0.89613057, 0.2271759 , 0.2271759 ,\n",
       "         0.59388604, 0.59388604, 0.87129478, 0.87129478, 0.73606863,\n",
       "         0.73606863, 0.87707997, 0.87707997, 0.59756974, 0.59756974,\n",
       "         0.39916714, 0.39916714, 0.17806158, 0.17806158, 0.49958312,\n",
       "         0.49958312, 0.07106944, 0.07106944, 0.10222934, 0.10222934,\n",
       "         0.99166468, 0.99166468, 0.4621863 , 0.4621863 , 0.5321176 ,\n",
       "         0.5321176 , 0.57319246, 0.57319246, 0.65004255, 0.65004255,\n",
       "         0.25740726, 0.25740726, 0.73194339, 0.73194339, 0.1269673 ,\n",
       "         0.1269673 , 0.63653829, 0.63653829, 0.64835009, 0.64835009,\n",
       "         0.34061304, 0.34061304, 0.03051966, 0.03051966, 0.60164305,\n",
       "         0.60164305, 0.82115476, 0.82115476, 0.01694889, 0.01694889,\n",
       "         0.44895707, 0.44895707, 0.11129519, 0.11129519, 0.40854134,\n",
       "         0.40854134, 0.81551234, 0.81551234, 0.66449279, 0.66449279,\n",
       "         0.84728342, 0.84728342, 0.99425443, 0.99425443, 0.41501693,\n",
       "         0.41501693, 0.64133807, 0.64133807, 0.03930024, 0.03930024,\n",
       "         0.305579  , 0.305579  , 0.44439876, 0.44439876, 0.46055803,\n",
       "         0.46055803, 0.59424315, 0.59424315, 0.32292234, 0.32292234,\n",
       "         0.16495671, 0.16495671, 0.05872746, 0.05872746, 0.41548791,\n",
       "         0.41548791, 0.3907861 , 0.3907861 , 0.28349567, 0.28349567])}}"
      ]
     },
     "execution_count": 1,
     "metadata": {},
     "output_type": "execute_result"
    }
   ],
   "source": [
    "ds = load_by_id(run_id_n)\n",
    "ds.get_parameter_data('x1')"
   ]
  },
  {
   "cell_type": "markdown",
   "metadata": {},
   "source": [
    "And a dataset stored as binary arrays"
   ]
  },
  {
   "cell_type": "code",
   "execution_count": 12,
   "metadata": {
    "execution": {
     "iopub.execute_input": "2021-04-27T06:52:11.090495Z",
     "iopub.status.busy": "2021-04-27T06:52:11.089868Z",
     "iopub.status.idle": "2021-04-27T06:52:11.159406Z",
     "shell.execute_reply": "2021-04-27T06:52:11.159962Z"
    },
    "scrolled": true
   },
   "outputs": [
    {
     "data": {
      "text/plain": [
       "{'x1': {'x1': array([[0.44245649],\n",
       "         [0.44245649],\n",
       "         [0.18953617],\n",
       "         [0.18953617],\n",
       "         [0.45677184],\n",
       "         [0.45677184],\n",
       "         [0.37717595],\n",
       "         [0.37717595],\n",
       "         [0.5989494 ],\n",
       "         [0.5989494 ],\n",
       "         [0.84384334],\n",
       "         [0.84384334],\n",
       "         [0.55571303],\n",
       "         [0.55571303],\n",
       "         [0.75716396],\n",
       "         [0.75716396],\n",
       "         [0.29565845],\n",
       "         [0.29565845],\n",
       "         [0.29711897],\n",
       "         [0.29711897],\n",
       "         [0.74778776],\n",
       "         [0.74778776],\n",
       "         [0.3740927 ],\n",
       "         [0.3740927 ],\n",
       "         [0.22818967],\n",
       "         [0.22818967],\n",
       "         [0.56967741],\n",
       "         [0.56967741],\n",
       "         [0.25767035],\n",
       "         [0.25767035],\n",
       "         [0.16588805],\n",
       "         [0.16588805],\n",
       "         [0.78231158],\n",
       "         [0.78231158],\n",
       "         [0.68889318],\n",
       "         [0.68889318],\n",
       "         [0.14679688],\n",
       "         [0.14679688],\n",
       "         [0.65508055],\n",
       "         [0.65508055],\n",
       "         [0.72292821],\n",
       "         [0.72292821],\n",
       "         [0.83894034],\n",
       "         [0.83894034],\n",
       "         [0.76656776],\n",
       "         [0.76656776],\n",
       "         [0.70652022],\n",
       "         [0.70652022],\n",
       "         [0.00446192],\n",
       "         [0.00446192],\n",
       "         [0.76850209],\n",
       "         [0.76850209],\n",
       "         [0.72546572],\n",
       "         [0.72546572],\n",
       "         [0.94071014],\n",
       "         [0.94071014],\n",
       "         [0.46783917],\n",
       "         [0.46783917],\n",
       "         [0.15725488],\n",
       "         [0.15725488],\n",
       "         [0.33531378],\n",
       "         [0.33531378],\n",
       "         [0.2819117 ],\n",
       "         [0.2819117 ],\n",
       "         [0.80236161],\n",
       "         [0.80236161],\n",
       "         [0.26740812],\n",
       "         [0.26740812],\n",
       "         [0.49261465],\n",
       "         [0.49261465],\n",
       "         [0.92760011],\n",
       "         [0.92760011],\n",
       "         [0.59317796],\n",
       "         [0.59317796],\n",
       "         [0.5461541 ],\n",
       "         [0.5461541 ],\n",
       "         [0.90842743],\n",
       "         [0.90842743],\n",
       "         [0.19586886],\n",
       "         [0.19586886],\n",
       "         [0.15019002],\n",
       "         [0.15019002],\n",
       "         [0.00252087],\n",
       "         [0.00252087],\n",
       "         [0.55074401],\n",
       "         [0.55074401],\n",
       "         [0.06927359],\n",
       "         [0.06927359],\n",
       "         [0.28612434],\n",
       "         [0.28612434],\n",
       "         [0.11855819],\n",
       "         [0.11855819],\n",
       "         [0.45903899],\n",
       "         [0.45903899],\n",
       "         [0.9322294 ],\n",
       "         [0.9322294 ],\n",
       "         [0.02110841],\n",
       "         [0.02110841],\n",
       "         [0.47170666],\n",
       "         [0.47170666],\n",
       "         [0.6130625 ],\n",
       "         [0.6130625 ],\n",
       "         [0.72919959],\n",
       "         [0.72919959],\n",
       "         [0.93604943],\n",
       "         [0.93604943],\n",
       "         [0.13707716],\n",
       "         [0.13707716],\n",
       "         [0.95445095],\n",
       "         [0.95445095],\n",
       "         [0.17846676],\n",
       "         [0.17846676],\n",
       "         [0.51879145],\n",
       "         [0.51879145],\n",
       "         [0.53766644],\n",
       "         [0.53766644],\n",
       "         [0.41067048],\n",
       "         [0.41067048],\n",
       "         [0.96018995],\n",
       "         [0.96018995],\n",
       "         [0.17263871],\n",
       "         [0.17263871],\n",
       "         [0.76138176],\n",
       "         [0.76138176],\n",
       "         [0.52965073],\n",
       "         [0.52965073],\n",
       "         [0.19743128],\n",
       "         [0.19743128],\n",
       "         [0.53460014],\n",
       "         [0.53460014],\n",
       "         [0.25704732],\n",
       "         [0.25704732],\n",
       "         [0.50046927],\n",
       "         [0.50046927],\n",
       "         [0.1549831 ],\n",
       "         [0.1549831 ],\n",
       "         [0.99679652],\n",
       "         [0.99679652],\n",
       "         [0.94150803],\n",
       "         [0.94150803],\n",
       "         [0.08459989],\n",
       "         [0.08459989],\n",
       "         [0.91081507],\n",
       "         [0.91081507],\n",
       "         [0.72464726],\n",
       "         [0.72464726],\n",
       "         [0.51437086],\n",
       "         [0.51437086],\n",
       "         [0.24775285],\n",
       "         [0.24775285],\n",
       "         [0.64589778],\n",
       "         [0.64589778],\n",
       "         [0.24923172],\n",
       "         [0.24923172],\n",
       "         [0.84900945],\n",
       "         [0.84900945],\n",
       "         [0.93617306],\n",
       "         [0.93617306],\n",
       "         [0.91166659],\n",
       "         [0.91166659],\n",
       "         [0.60317456],\n",
       "         [0.60317456],\n",
       "         [0.51367607],\n",
       "         [0.51367607],\n",
       "         [0.48710614],\n",
       "         [0.48710614],\n",
       "         [0.38280981],\n",
       "         [0.38280981],\n",
       "         [0.00155569],\n",
       "         [0.00155569],\n",
       "         [0.37940363],\n",
       "         [0.37940363],\n",
       "         [0.88717187],\n",
       "         [0.88717187],\n",
       "         [0.67758947],\n",
       "         [0.67758947],\n",
       "         [0.3334889 ],\n",
       "         [0.3334889 ],\n",
       "         [0.19044114],\n",
       "         [0.19044114],\n",
       "         [0.49199355],\n",
       "         [0.49199355],\n",
       "         [0.69453995],\n",
       "         [0.69453995],\n",
       "         [0.25956601],\n",
       "         [0.25956601],\n",
       "         [0.84888209],\n",
       "         [0.84888209],\n",
       "         [0.93977619],\n",
       "         [0.93977619],\n",
       "         [0.32353897],\n",
       "         [0.32353897],\n",
       "         [0.59863989],\n",
       "         [0.59863989],\n",
       "         [0.48161756],\n",
       "         [0.48161756],\n",
       "         [0.78247805],\n",
       "         [0.78247805],\n",
       "         [0.18561195],\n",
       "         [0.18561195]])}}"
      ]
     },
     "execution_count": 1,
     "metadata": {},
     "output_type": "execute_result"
    }
   ],
   "source": [
    "ds = load_by_id(run_id_a)\n",
    "ds.get_parameter_data('x1')"
   ]
  },
  {
   "cell_type": "code",
   "execution_count": null,
   "metadata": {},
   "outputs": [],
   "source": []
  }
 ],
 "metadata": {
  "kernelspec": {
   "display_name": "Python 3",
   "language": "python",
   "name": "python3"
  },
  "language_info": {
   "codemirror_mode": {
    "name": "ipython",
    "version": 3
   },
   "file_extension": ".py",
   "mimetype": "text/x-python",
   "name": "python",
   "nbconvert_exporter": "python",
   "pygments_lexer": "ipython3",
   "version": "3.7.10"
  },
  "nbsphinx": {
   "timeout": 600
  },
  "toc": {
   "base_numbering": 1,
   "nav_menu": {},
   "number_sections": true,
   "sideBar": true,
   "skip_h1_title": false,
   "title_cell": "Table of Contents",
   "title_sidebar": "Contents",
   "toc_cell": false,
   "toc_position": {},
   "toc_section_display": true,
   "toc_window_display": false
  },
  "varInspector": {
   "cols": {
    "lenName": 16,
    "lenType": 16,
    "lenVar": 40
   },
   "kernels_config": {
    "python": {
     "delete_cmd_postfix": "",
     "delete_cmd_prefix": "del ",
     "library": "var_list.py",
     "varRefreshCmd": "print(var_dic_list())"
    },
    "r": {
     "delete_cmd_postfix": ") ",
     "delete_cmd_prefix": "rm(",
     "library": "var_list.r",
     "varRefreshCmd": "cat(var_dic_list()) "
    }
   },
   "types_to_exclude": [
    "module",
    "function",
    "builtin_function_or_method",
    "instance",
    "_Feature"
   ],
   "window_display": false
  }
 },
 "nbformat": 4,
 "nbformat_minor": 4
}
