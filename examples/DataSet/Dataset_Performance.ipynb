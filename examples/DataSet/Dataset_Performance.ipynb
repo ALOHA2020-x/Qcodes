{
 "cells": [
  {
   "cell_type": "markdown",
   "metadata": {},
   "source": [
    "# DataSet Performance\n",
    "\n",
    "This notebook shows the trade-off between inserting data into a database row-by-row and as binary blobs. Inserting the data row-by-row means that we have direct access to all the data and may perform queries directly on the values of the data. On the other hand, as we shall see, this is much slower than inserting the data directly as binary blobs."
   ]
  },
  {
   "cell_type": "markdown",
   "metadata": {},
   "source": [
    "First, we choose a new location for the database to ensure that we don't add a bunch of benchmarking data to the default one."
   ]
  },
  {
   "cell_type": "code",
   "execution_count": 1,
   "metadata": {
    "execution": {
     "iopub.execute_input": "2021-03-29T08:28:24.589900Z",
     "iopub.status.busy": "2021-03-29T08:28:24.589327Z",
     "iopub.status.idle": "2021-03-29T08:28:25.513596Z",
     "shell.execute_reply": "2021-03-29T08:28:25.512935Z"
    }
   },
   "outputs": [
    {
     "name": "stdout",
     "output_type": "stream",
     "text": [
      "Logging hadn't been started.\n",
      "Activating auto-logging. Current session state plus future input saved.\n",
      "Filename       : /home/runner/.qcodes/logs/command_history.log\n",
      "Mode           : append\n",
      "Output logging : True\n",
      "Raw input log  : False\n",
      "Timestamping   : True\n",
      "State          : active\n"
     ]
    },
    {
     "name": "stdout",
     "output_type": "stream",
     "text": [
      "Qcodes Logfile : /home/runner/.qcodes/logs/210329-4505-qcodes.log\n"
     ]
    }
   ],
   "source": [
    "import os\n",
    "cwd = os.getcwd()\n",
    "import qcodes as qc\n",
    "qc.config[\"core\"][\"db_location\"] = os.path.join(cwd, 'testing.db')\n"
   ]
  },
  {
   "cell_type": "code",
   "execution_count": 2,
   "metadata": {
    "execution": {
     "iopub.execute_input": "2021-03-29T08:28:25.520157Z",
     "iopub.status.busy": "2021-03-29T08:28:25.519060Z",
     "iopub.status.idle": "2021-03-29T08:28:25.733502Z",
     "shell.execute_reply": "2021-03-29T08:28:25.732942Z"
    }
   },
   "outputs": [],
   "source": [
    "%matplotlib inline\n",
    "import time\n",
    "import matplotlib.pyplot as plt\n",
    "import numpy as np\n",
    "\n",
    "import qcodes as qc\n",
    "from qcodes.instrument.parameter import ManualParameter\n",
    "from qcodes.dataset.experiment_container import (Experiment,\n",
    "                                                 load_last_experiment,\n",
    "                                                 new_experiment)\n",
    "from qcodes.dataset.sqlite.database import initialise_database\n",
    "from qcodes import load_or_create_experiment\n",
    "from qcodes.dataset.measurements import Measurement"
   ]
  },
  {
   "cell_type": "code",
   "execution_count": 3,
   "metadata": {
    "execution": {
     "iopub.execute_input": "2021-03-29T08:28:25.737509Z",
     "iopub.status.busy": "2021-03-29T08:28:25.736739Z",
     "iopub.status.idle": "2021-03-29T08:28:25.795212Z",
     "shell.execute_reply": "2021-03-29T08:28:25.794803Z"
    }
   },
   "outputs": [
    {
     "name": "stdout",
     "output_type": "stream",
     "text": [
      "\r",
      "0it [00:00, ?it/s]"
     ]
    },
    {
     "name": "stdout",
     "output_type": "stream",
     "text": [
      "\r",
      "Upgrading database; v0 -> v1: : 0it [00:00, ?it/s]"
     ]
    },
    {
     "name": "stdout",
     "output_type": "stream",
     "text": [
      "\r",
      "Upgrading database; v0 -> v1: : 0it [00:00, ?it/s]"
     ]
    },
    {
     "name": "stdout",
     "output_type": "stream",
     "text": [
      "\n",
      "\r",
      "  0%|          | 0/1 [00:00<?, ?it/s]"
     ]
    },
    {
     "name": "stdout",
     "output_type": "stream",
     "text": [
      "\r",
      "Upgrading database; v1 -> v2:   0%|          | 0/1 [00:00<?, ?it/s]"
     ]
    },
    {
     "name": "stdout",
     "output_type": "stream",
     "text": [
      "\r",
      "Upgrading database; v1 -> v2: 100%|██████████| 1/1 [00:00<00:00, 524.09it/s]"
     ]
    },
    {
     "name": "stdout",
     "output_type": "stream",
     "text": [
      "\n",
      "\r",
      "0it [00:00, ?it/s]"
     ]
    },
    {
     "name": "stdout",
     "output_type": "stream",
     "text": [
      "\r",
      "Upgrading database; v2 -> v3: : 0it [00:00, ?it/s]"
     ]
    },
    {
     "name": "stdout",
     "output_type": "stream",
     "text": [
      "\r",
      "Upgrading database; v2 -> v3: : 0it [00:00, ?it/s]"
     ]
    },
    {
     "name": "stdout",
     "output_type": "stream",
     "text": [
      "\n",
      "\r",
      "0it [00:00, ?it/s]"
     ]
    },
    {
     "name": "stdout",
     "output_type": "stream",
     "text": [
      "\r",
      "Upgrading database; v3 -> v4: : 0it [00:00, ?it/s]"
     ]
    },
    {
     "name": "stdout",
     "output_type": "stream",
     "text": [
      "\r",
      "Upgrading database; v3 -> v4: : 0it [00:00, ?it/s]"
     ]
    },
    {
     "name": "stdout",
     "output_type": "stream",
     "text": [
      "\n",
      "\r",
      "  0%|          | 0/1 [00:00<?, ?it/s]"
     ]
    },
    {
     "name": "stdout",
     "output_type": "stream",
     "text": [
      "\r",
      "Upgrading database; v4 -> v5:   0%|          | 0/1 [00:00<?, ?it/s]"
     ]
    },
    {
     "name": "stdout",
     "output_type": "stream",
     "text": [
      "\r",
      "Upgrading database; v4 -> v5: 100%|██████████| 1/1 [00:00<00:00, 994.15it/s]"
     ]
    },
    {
     "name": "stdout",
     "output_type": "stream",
     "text": [
      "\n",
      "\r",
      "0it [00:00, ?it/s]"
     ]
    },
    {
     "name": "stdout",
     "output_type": "stream",
     "text": [
      "\r",
      "Upgrading database; v5 -> v6: : 0it [00:00, ?it/s]"
     ]
    },
    {
     "name": "stdout",
     "output_type": "stream",
     "text": [
      "\r",
      "Upgrading database; v5 -> v6: : 0it [00:00, ?it/s]"
     ]
    },
    {
     "name": "stdout",
     "output_type": "stream",
     "text": [
      "\n",
      "\r",
      "  0%|          | 0/1 [00:00<?, ?it/s]"
     ]
    },
    {
     "name": "stdout",
     "output_type": "stream",
     "text": [
      "\r",
      "Upgrading database; v6 -> v7:   0%|          | 0/1 [00:00<?, ?it/s]"
     ]
    },
    {
     "name": "stdout",
     "output_type": "stream",
     "text": [
      "\r",
      "Upgrading database; v6 -> v7: 100%|██████████| 1/1 [00:00<00:00, 341.11it/s]"
     ]
    },
    {
     "name": "stdout",
     "output_type": "stream",
     "text": [
      "\n",
      "\r",
      "  0%|          | 0/1 [00:00<?, ?it/s]"
     ]
    },
    {
     "name": "stdout",
     "output_type": "stream",
     "text": [
      "\r",
      "Upgrading database; v7 -> v8:   0%|          | 0/1 [00:00<?, ?it/s]"
     ]
    },
    {
     "name": "stdout",
     "output_type": "stream",
     "text": [
      "\r",
      "Upgrading database; v7 -> v8: 100%|██████████| 1/1 [00:00<00:00, 1010.43it/s]"
     ]
    },
    {
     "name": "stdout",
     "output_type": "stream",
     "text": [
      "\n",
      "\r",
      "  0%|          | 0/1 [00:00<?, ?it/s]"
     ]
    },
    {
     "name": "stdout",
     "output_type": "stream",
     "text": [
      "\r",
      "Upgrading database; v8 -> v9:   0%|          | 0/1 [00:00<?, ?it/s]"
     ]
    },
    {
     "name": "stdout",
     "output_type": "stream",
     "text": [
      "\r",
      "Upgrading database; v8 -> v9: 100%|██████████| 1/1 [00:00<00:00, 1094.83it/s]"
     ]
    },
    {
     "name": "stdout",
     "output_type": "stream",
     "text": [
      "\n"
     ]
    }
   ],
   "source": [
    "initialise_database()\n",
    "exp = load_or_create_experiment(experiment_name='tutorial_exp', sample_name=\"no sample\")"
   ]
  },
  {
   "cell_type": "markdown",
   "metadata": {},
   "source": [
    "Here, we define a simple function to benchmark the time it takes to insert n points with either numeric or array data type.\n",
    "We will compare both the time used to call ``add_result`` and the time used for the full measurement."
   ]
  },
  {
   "cell_type": "code",
   "execution_count": 4,
   "metadata": {
    "execution": {
     "iopub.execute_input": "2021-03-29T08:28:25.803026Z",
     "iopub.status.busy": "2021-03-29T08:28:25.802540Z",
     "iopub.status.idle": "2021-03-29T08:28:25.805768Z",
     "shell.execute_reply": "2021-03-29T08:28:25.805326Z"
    }
   },
   "outputs": [],
   "source": [
    "def insert_data(paramtype, npoints, nreps=1):\n",
    "\n",
    "    meas = Measurement(exp=exp)\n",
    "\n",
    "    x1 = ManualParameter('x1')\n",
    "    x2 = ManualParameter('x2')\n",
    "    x3 = ManualParameter('x3')\n",
    "    y1 = ManualParameter('y1')\n",
    "    y2 = ManualParameter('y2')\n",
    "\n",
    "    meas.register_parameter(x1, paramtype=paramtype)\n",
    "    meas.register_parameter(x2, paramtype=paramtype)\n",
    "    meas.register_parameter(x3, paramtype=paramtype)\n",
    "    meas.register_parameter(y1, setpoints=[x1, x2, x3],\n",
    "                            paramtype=paramtype)\n",
    "    meas.register_parameter(y2, setpoints=[x1, x2, x3],\n",
    "                            paramtype=paramtype)\n",
    "    start = time.perf_counter()\n",
    "    with meas.run() as datasaver:\n",
    "        start_adding = time.perf_counter()\n",
    "        for i in range(nreps):\n",
    "            datasaver.add_result((x1, np.random.rand(npoints)),\n",
    "                                 (x2, np.random.rand(npoints)),\n",
    "                                 (x3, np.random.rand(npoints)),\n",
    "                                 (y1, np.random.rand(npoints)),\n",
    "                                 (y2, np.random.rand(npoints)))\n",
    "        stop_adding = time.perf_counter()\n",
    "        run_id = datasaver.run_id\n",
    "    stop = time.perf_counter()\n",
    "    tot_time = stop - start\n",
    "    add_time = stop_adding - start_adding\n",
    "    return tot_time, add_time, run_id"
   ]
  },
  {
   "cell_type": "markdown",
   "metadata": {},
   "source": [
    "## Comparison between numeric/array data and binary blob"
   ]
  },
  {
   "cell_type": "markdown",
   "metadata": {},
   "source": [
    "### Case1: Short experiment time"
   ]
  },
  {
   "cell_type": "code",
   "execution_count": 5,
   "metadata": {
    "execution": {
     "iopub.execute_input": "2021-03-29T08:28:25.811500Z",
     "iopub.status.busy": "2021-03-29T08:28:25.810482Z",
     "iopub.status.idle": "2021-03-29T08:28:26.538036Z",
     "shell.execute_reply": "2021-03-29T08:28:26.537212Z"
    }
   },
   "outputs": [
    {
     "name": "stdout",
     "output_type": "stream",
     "text": [
      "Starting experimental run with id: 1. \n",
      "Starting experimental run with id: 2. \n",
      "Starting experimental run with id: 3. \n",
      "Starting experimental run with id: 4. \n",
      "Starting experimental run with id: 5. \n",
      "Starting experimental run with id: 6. \n",
      "Starting experimental run with id: 7. \n"
     ]
    },
    {
     "name": "stdout",
     "output_type": "stream",
     "text": [
      "Starting experimental run with id: 8. \n"
     ]
    },
    {
     "name": "stdout",
     "output_type": "stream",
     "text": [
      "Starting experimental run with id: 9. \n",
      "Starting experimental run with id: 10. \n",
      "Starting experimental run with id: 11. \n"
     ]
    },
    {
     "name": "stdout",
     "output_type": "stream",
     "text": [
      "Starting experimental run with id: 12. \n",
      "Starting experimental run with id: 13. \n",
      "Starting experimental run with id: 14. \n"
     ]
    }
   ],
   "source": [
    "sizes = [1,500,1000,2000,3000,4000,5000]\n",
    "t_numeric = []\n",
    "t_numeric_add = []\n",
    "t_array = []\n",
    "t_array_add = []\n",
    "for size in sizes:\n",
    "    tn, tna, run_id_n =  insert_data('numeric', size)\n",
    "    t_numeric.append(tn)\n",
    "    t_numeric_add.append(tna)\n",
    "\n",
    "    ta, taa, run_id_a =  insert_data('array', size)\n",
    "    t_array.append(ta)\n",
    "    t_array_add.append(taa)"
   ]
  },
  {
   "cell_type": "code",
   "execution_count": 6,
   "metadata": {
    "execution": {
     "iopub.execute_input": "2021-03-29T08:28:26.562423Z",
     "iopub.status.busy": "2021-03-29T08:28:26.553663Z",
     "iopub.status.idle": "2021-03-29T08:28:26.740454Z",
     "shell.execute_reply": "2021-03-29T08:28:26.739672Z"
    }
   },
   "outputs": [
    {
     "data": {
      "image/png": "[encoded data removed]",
      "text/plain": [
       "<Figure size 432x288 with 1 Axes>"
      ]
     },
     "metadata": {
      "needs_background": "light"
     },
     "output_type": "display_data"
    }
   ],
   "source": [
    "fig, ax = plt.subplots(1,1)\n",
    "ax.plot(sizes, t_numeric, 'o-', label='Inserting row-by-row')\n",
    "ax.plot(sizes, t_numeric_add, 'o-', label='Inserting row-by-row: add_result only')\n",
    "ax.plot(sizes, t_array, 'd-', label='Inserting as binary blob')\n",
    "ax.plot(sizes, t_array_add, 'd-', label='Inserting as binary blob: add_result only')\n",
    "ax.legend()\n",
    "ax.set_xlabel('Array length')\n",
    "ax.set_ylabel('Time (s)')\n",
    "fig.tight_layout()"
   ]
  },
  {
   "cell_type": "markdown",
   "metadata": {},
   "source": [
    "As shown in the latter figure, the time to setup and and close the experiment is approximately 0.4 sec. In case of small array sizes, the difference between inserting values of data as arrays and inserting them row-by-row is relatively unimportant. At larger array sizes, i.e. above 10000 points, the cost of writing data as individual datapoints starts to become important.\n"
   ]
  },
  {
   "cell_type": "markdown",
   "metadata": {},
   "source": [
    "### Case2: Long experiment time "
   ]
  },
  {
   "cell_type": "code",
   "execution_count": 7,
   "metadata": {
    "execution": {
     "iopub.execute_input": "2021-03-29T08:28:26.746889Z",
     "iopub.status.busy": "2021-03-29T08:28:26.746100Z",
     "iopub.status.idle": "2021-03-29T08:29:22.291906Z",
     "shell.execute_reply": "2021-03-29T08:29:22.291386Z"
    }
   },
   "outputs": [
    {
     "name": "stdout",
     "output_type": "stream",
     "text": [
      "Starting experimental run with id: 15. \n",
      "Starting experimental run with id: 16. \n",
      "Starting experimental run with id: 17. \n"
     ]
    },
    {
     "name": "stdout",
     "output_type": "stream",
     "text": [
      "Starting experimental run with id: 18. \n",
      "Starting experimental run with id: 19. \n"
     ]
    },
    {
     "name": "stdout",
     "output_type": "stream",
     "text": [
      "Starting experimental run with id: 20. \n"
     ]
    },
    {
     "name": "stdout",
     "output_type": "stream",
     "text": [
      "Starting experimental run with id: 21. \n"
     ]
    },
    {
     "name": "stdout",
     "output_type": "stream",
     "text": [
      "Starting experimental run with id: 22. \n"
     ]
    },
    {
     "name": "stdout",
     "output_type": "stream",
     "text": [
      "Starting experimental run with id: 23. \n"
     ]
    },
    {
     "name": "stdout",
     "output_type": "stream",
     "text": [
      "Starting experimental run with id: 24. \n"
     ]
    },
    {
     "name": "stdout",
     "output_type": "stream",
     "text": [
      "Starting experimental run with id: 25. \n"
     ]
    },
    {
     "name": "stdout",
     "output_type": "stream",
     "text": [
      "Starting experimental run with id: 26. \n"
     ]
    },
    {
     "name": "stdout",
     "output_type": "stream",
     "text": [
      "Starting experimental run with id: 27. \n"
     ]
    },
    {
     "name": "stdout",
     "output_type": "stream",
     "text": [
      "Starting experimental run with id: 28. \n"
     ]
    }
   ],
   "source": [
    "sizes = [1,500,1000,2000,3000,4000,5000]\n",
    "nreps = 100\n",
    "t_numeric = []\n",
    "t_numeric_add = []\n",
    "t_numeric_run_ids = []\n",
    "t_array = []\n",
    "t_array_add = []\n",
    "t_array_run_ids = []\n",
    "for size in sizes:\n",
    "    tn, tna, run_id_n =  insert_data('numeric', size, nreps=nreps)\n",
    "    t_numeric.append(tn)\n",
    "    t_numeric_add.append(tna)\n",
    "    t_numeric_run_ids.append(run_id_n)\n",
    "\n",
    "    ta, taa, run_id_a =  insert_data('array', size, nreps=nreps)\n",
    "    t_array.append(ta)\n",
    "    t_array_add.append(taa)\n",
    "    t_array_run_ids.append(run_id_a)"
   ]
  },
  {
   "cell_type": "code",
   "execution_count": 8,
   "metadata": {
    "execution": {
     "iopub.execute_input": "2021-03-29T08:29:22.313049Z",
     "iopub.status.busy": "2021-03-29T08:29:22.308920Z",
     "iopub.status.idle": "2021-03-29T08:29:22.478545Z",
     "shell.execute_reply": "2021-03-29T08:29:22.478086Z"
    },
    "scrolled": true
   },
   "outputs": [
    {
     "data": {
      "image/png": "[encoded data removed]",
      "text/plain": [
       "<Figure size 432x288 with 1 Axes>"
      ]
     },
     "metadata": {
      "needs_background": "light"
     },
     "output_type": "display_data"
    }
   ],
   "source": [
    "fig, ax = plt.subplots(1,1)\n",
    "ax.plot(sizes, t_numeric, 'o-', label='Inserting row-by-row')\n",
    "ax.plot(sizes, t_numeric_add, 'o-', label='Inserting row-by-row: add_result only')\n",
    "ax.plot(sizes, t_array, 'd-', label='Inserting as binary blob')\n",
    "ax.plot(sizes, t_array_add, 'd-', label='Inserting as binary blob: add_result only')\n",
    "ax.legend()\n",
    "ax.set_xlabel('Array length')\n",
    "ax.set_ylabel('Time (s)')\n",
    "fig.tight_layout()"
   ]
  },
  {
   "cell_type": "markdown",
   "metadata": {},
   "source": [
    "However, as we increase the length of the experiment, as seen here by repeating the insertion 100 times, we see a big difference between inserting values of the data row-by-row and inserting it as a binary blob."
   ]
  },
  {
   "cell_type": "markdown",
   "metadata": {},
   "source": [
    "## Loading the data "
   ]
  },
  {
   "cell_type": "code",
   "execution_count": 9,
   "metadata": {
    "execution": {
     "iopub.execute_input": "2021-03-29T08:29:22.482542Z",
     "iopub.status.busy": "2021-03-29T08:29:22.481665Z",
     "iopub.status.idle": "2021-03-29T08:29:22.484582Z",
     "shell.execute_reply": "2021-03-29T08:29:22.484152Z"
    }
   },
   "outputs": [],
   "source": [
    "from qcodes.dataset.data_set import load_by_id\n",
    "from qcodes.dataset.data_export import get_data_by_id"
   ]
  },
  {
   "cell_type": "markdown",
   "metadata": {},
   "source": [
    "As usual you can load the data by using the ``load_by_id`` function but you will notice that the different storage methods\n",
    "are reflected in shape of the data as it is retrieved. "
   ]
  },
  {
   "cell_type": "code",
   "execution_count": 10,
   "metadata": {
    "execution": {
     "iopub.execute_input": "2021-03-29T08:29:22.487635Z",
     "iopub.status.busy": "2021-03-29T08:29:22.487162Z",
     "iopub.status.idle": "2021-03-29T08:29:22.491600Z",
     "shell.execute_reply": "2021-03-29T08:29:22.491178Z"
    }
   },
   "outputs": [],
   "source": [
    "run_id_n = t_numeric_run_ids[0]\n",
    "run_id_a = t_array_run_ids[0]"
   ]
  },
  {
   "cell_type": "code",
   "execution_count": 11,
   "metadata": {
    "execution": {
     "iopub.execute_input": "2021-03-29T08:29:22.494878Z",
     "iopub.status.busy": "2021-03-29T08:29:22.494400Z",
     "iopub.status.idle": "2021-03-29T08:29:22.505028Z",
     "shell.execute_reply": "2021-03-29T08:29:22.505676Z"
    },
    "scrolled": true
   },
   "outputs": [
    {
     "data": {
      "text/plain": [
       "{'x1': {'x1': array([0.81011015, 0.81011015, 0.99954843, 0.99954843, 0.67867528,\n",
       "         0.67867528, 0.4233812 , 0.4233812 , 0.5203125 , 0.5203125 ,\n",
       "         0.5993345 , 0.5993345 , 0.05736005, 0.05736005, 0.35399017,\n",
       "         0.35399017, 0.64818116, 0.64818116, 0.91562636, 0.91562636,\n",
       "         0.392178  , 0.392178  , 0.30167579, 0.30167579, 0.39093755,\n",
       "         0.39093755, 0.89484752, 0.89484752, 0.02050379, 0.02050379,\n",
       "         0.13040754, 0.13040754, 0.91769913, 0.91769913, 0.6861955 ,\n",
       "         0.6861955 , 0.92256537, 0.92256537, 0.77057787, 0.77057787,\n",
       "         0.89929324, 0.89929324, 0.50851769, 0.50851769, 0.3295346 ,\n",
       "         0.3295346 , 0.13737614, 0.13737614, 0.4122604 , 0.4122604 ,\n",
       "         0.91835748, 0.91835748, 0.21927661, 0.21927661, 0.86689708,\n",
       "         0.86689708, 0.60716219, 0.60716219, 0.18546455, 0.18546455,\n",
       "         0.15243647, 0.15243647, 0.28588783, 0.28588783, 0.88202001,\n",
       "         0.88202001, 0.46614914, 0.46614914, 0.07560315, 0.07560315,\n",
       "         0.51856553, 0.51856553, 0.58543183, 0.58543183, 0.08445479,\n",
       "         0.08445479, 0.26698132, 0.26698132, 0.65111514, 0.65111514,\n",
       "         0.2841794 , 0.2841794 , 0.25911188, 0.25911188, 0.54153768,\n",
       "         0.54153768, 0.07117791, 0.07117791, 0.4288655 , 0.4288655 ,\n",
       "         0.6058286 , 0.6058286 , 0.90287607, 0.90287607, 0.01359726,\n",
       "         0.01359726, 0.3595759 , 0.3595759 , 0.48724006, 0.48724006,\n",
       "         0.11901222, 0.11901222, 0.2407512 , 0.2407512 , 0.71776823,\n",
       "         0.71776823, 0.17635696, 0.17635696, 0.27390125, 0.27390125,\n",
       "         0.9935281 , 0.9935281 , 0.59506096, 0.59506096, 0.77460113,\n",
       "         0.77460113, 0.81499269, 0.81499269, 0.47836968, 0.47836968,\n",
       "         0.37027228, 0.37027228, 0.23373256, 0.23373256, 0.99180574,\n",
       "         0.99180574, 0.37001585, 0.37001585, 0.26638235, 0.26638235,\n",
       "         0.42740643, 0.42740643, 0.78720302, 0.78720302, 0.00237294,\n",
       "         0.00237294, 0.20540598, 0.20540598, 0.55881468, 0.55881468,\n",
       "         0.71779443, 0.71779443, 0.06456182, 0.06456182, 0.89370911,\n",
       "         0.89370911, 0.64862981, 0.64862981, 0.88537488, 0.88537488,\n",
       "         0.63991105, 0.63991105, 0.40527419, 0.40527419, 0.52098145,\n",
       "         0.52098145, 0.39299825, 0.39299825, 0.50460532, 0.50460532,\n",
       "         0.30060554, 0.30060554, 0.8995396 , 0.8995396 , 0.50948352,\n",
       "         0.50948352, 0.31931228, 0.31931228, 0.57910128, 0.57910128,\n",
       "         0.48884421, 0.48884421, 0.81028354, 0.81028354, 0.14904341,\n",
       "         0.14904341, 0.49930655, 0.49930655, 0.26007985, 0.26007985,\n",
       "         0.54383769, 0.54383769, 0.79777819, 0.79777819, 0.69914916,\n",
       "         0.69914916, 0.77772954, 0.77772954, 0.22647899, 0.22647899,\n",
       "         0.32772768, 0.32772768, 0.95709141, 0.95709141, 0.68987054,\n",
       "         0.68987054, 0.0158969 , 0.0158969 , 0.16087197, 0.16087197])}}"
      ]
     },
     "execution_count": 1,
     "metadata": {},
     "output_type": "execute_result"
    }
   ],
   "source": [
    "ds = load_by_id(run_id_n)\n",
    "ds.get_parameter_data('x1')"
   ]
  },
  {
   "cell_type": "markdown",
   "metadata": {},
   "source": [
    "And a dataset stored as binary arrays"
   ]
  },
  {
   "cell_type": "code",
   "execution_count": 12,
   "metadata": {
    "execution": {
     "iopub.execute_input": "2021-03-29T08:29:22.508925Z",
     "iopub.status.busy": "2021-03-29T08:29:22.508447Z",
     "iopub.status.idle": "2021-03-29T08:29:22.560635Z",
     "shell.execute_reply": "2021-03-29T08:29:22.560210Z"
    },
    "scrolled": true
   },
   "outputs": [
    {
     "data": {
      "text/plain": [
       "{'x1': {'x1': array([[0.66067544],\n",
       "         [0.66067544],\n",
       "         [0.27050417],\n",
       "         [0.27050417],\n",
       "         [0.25710378],\n",
       "         [0.25710378],\n",
       "         [0.04355785],\n",
       "         [0.04355785],\n",
       "         [0.18466656],\n",
       "         [0.18466656],\n",
       "         [0.78135361],\n",
       "         [0.78135361],\n",
       "         [0.52989279],\n",
       "         [0.52989279],\n",
       "         [0.32469533],\n",
       "         [0.32469533],\n",
       "         [0.72084891],\n",
       "         [0.72084891],\n",
       "         [0.26340841],\n",
       "         [0.26340841],\n",
       "         [0.84409687],\n",
       "         [0.84409687],\n",
       "         [0.78045834],\n",
       "         [0.78045834],\n",
       "         [0.38900771],\n",
       "         [0.38900771],\n",
       "         [0.95089018],\n",
       "         [0.95089018],\n",
       "         [0.05805558],\n",
       "         [0.05805558],\n",
       "         [0.2188445 ],\n",
       "         [0.2188445 ],\n",
       "         [0.5878224 ],\n",
       "         [0.5878224 ],\n",
       "         [0.90879467],\n",
       "         [0.90879467],\n",
       "         [0.20508493],\n",
       "         [0.20508493],\n",
       "         [0.78137024],\n",
       "         [0.78137024],\n",
       "         [0.7418439 ],\n",
       "         [0.7418439 ],\n",
       "         [0.13288365],\n",
       "         [0.13288365],\n",
       "         [0.04172038],\n",
       "         [0.04172038],\n",
       "         [0.64542874],\n",
       "         [0.64542874],\n",
       "         [0.92177852],\n",
       "         [0.92177852],\n",
       "         [0.50297988],\n",
       "         [0.50297988],\n",
       "         [0.8349844 ],\n",
       "         [0.8349844 ],\n",
       "         [0.4260998 ],\n",
       "         [0.4260998 ],\n",
       "         [0.64416312],\n",
       "         [0.64416312],\n",
       "         [0.2610922 ],\n",
       "         [0.2610922 ],\n",
       "         [0.75140016],\n",
       "         [0.75140016],\n",
       "         [0.4851354 ],\n",
       "         [0.4851354 ],\n",
       "         [0.74058616],\n",
       "         [0.74058616],\n",
       "         [0.68782126],\n",
       "         [0.68782126],\n",
       "         [0.77480574],\n",
       "         [0.77480574],\n",
       "         [0.56657808],\n",
       "         [0.56657808],\n",
       "         [0.76164712],\n",
       "         [0.76164712],\n",
       "         [0.97571234],\n",
       "         [0.97571234],\n",
       "         [0.94415488],\n",
       "         [0.94415488],\n",
       "         [0.12132622],\n",
       "         [0.12132622],\n",
       "         [0.56772621],\n",
       "         [0.56772621],\n",
       "         [0.18564029],\n",
       "         [0.18564029],\n",
       "         [0.73461808],\n",
       "         [0.73461808],\n",
       "         [0.66820135],\n",
       "         [0.66820135],\n",
       "         [0.10351397],\n",
       "         [0.10351397],\n",
       "         [0.8789843 ],\n",
       "         [0.8789843 ],\n",
       "         [0.33729198],\n",
       "         [0.33729198],\n",
       "         [0.7196069 ],\n",
       "         [0.7196069 ],\n",
       "         [0.60708104],\n",
       "         [0.60708104],\n",
       "         [0.25876736],\n",
       "         [0.25876736],\n",
       "         [0.00113067],\n",
       "         [0.00113067],\n",
       "         [0.81560432],\n",
       "         [0.81560432],\n",
       "         [0.33134268],\n",
       "         [0.33134268],\n",
       "         [0.43676891],\n",
       "         [0.43676891],\n",
       "         [0.49646226],\n",
       "         [0.49646226],\n",
       "         [0.75150448],\n",
       "         [0.75150448],\n",
       "         [0.02796272],\n",
       "         [0.02796272],\n",
       "         [0.61995797],\n",
       "         [0.61995797],\n",
       "         [0.32719088],\n",
       "         [0.32719088],\n",
       "         [0.83831497],\n",
       "         [0.83831497],\n",
       "         [0.19920619],\n",
       "         [0.19920619],\n",
       "         [0.02190039],\n",
       "         [0.02190039],\n",
       "         [0.16382239],\n",
       "         [0.16382239],\n",
       "         [0.69312993],\n",
       "         [0.69312993],\n",
       "         [0.51049844],\n",
       "         [0.51049844],\n",
       "         [0.75509728],\n",
       "         [0.75509728],\n",
       "         [0.04022121],\n",
       "         [0.04022121],\n",
       "         [0.62380352],\n",
       "         [0.62380352],\n",
       "         [0.25247864],\n",
       "         [0.25247864],\n",
       "         [0.558518  ],\n",
       "         [0.558518  ],\n",
       "         [0.43243386],\n",
       "         [0.43243386],\n",
       "         [0.17461974],\n",
       "         [0.17461974],\n",
       "         [0.03591176],\n",
       "         [0.03591176],\n",
       "         [0.84113098],\n",
       "         [0.84113098],\n",
       "         [0.65176165],\n",
       "         [0.65176165],\n",
       "         [0.63093002],\n",
       "         [0.63093002],\n",
       "         [0.33413016],\n",
       "         [0.33413016],\n",
       "         [0.31505631],\n",
       "         [0.31505631],\n",
       "         [0.22985261],\n",
       "         [0.22985261],\n",
       "         [0.34597338],\n",
       "         [0.34597338],\n",
       "         [0.34188882],\n",
       "         [0.34188882],\n",
       "         [0.91323635],\n",
       "         [0.91323635],\n",
       "         [0.31508358],\n",
       "         [0.31508358],\n",
       "         [0.41366244],\n",
       "         [0.41366244],\n",
       "         [0.41269072],\n",
       "         [0.41269072],\n",
       "         [0.25709771],\n",
       "         [0.25709771],\n",
       "         [0.08919718],\n",
       "         [0.08919718],\n",
       "         [0.89587814],\n",
       "         [0.89587814],\n",
       "         [0.5710139 ],\n",
       "         [0.5710139 ],\n",
       "         [0.96154327],\n",
       "         [0.96154327],\n",
       "         [0.5701214 ],\n",
       "         [0.5701214 ],\n",
       "         [0.4222852 ],\n",
       "         [0.4222852 ],\n",
       "         [0.79344958],\n",
       "         [0.79344958],\n",
       "         [0.90619003],\n",
       "         [0.90619003],\n",
       "         [0.13261053],\n",
       "         [0.13261053],\n",
       "         [0.9828424 ],\n",
       "         [0.9828424 ],\n",
       "         [0.09096568],\n",
       "         [0.09096568],\n",
       "         [0.42061023],\n",
       "         [0.42061023],\n",
       "         [0.1395087 ],\n",
       "         [0.1395087 ],\n",
       "         [0.35557638],\n",
       "         [0.35557638]])}}"
      ]
     },
     "execution_count": 1,
     "metadata": {},
     "output_type": "execute_result"
    }
   ],
   "source": [
    "ds = load_by_id(run_id_a)\n",
    "ds.get_parameter_data('x1')"
   ]
  },
  {
   "cell_type": "code",
   "execution_count": null,
   "metadata": {},
   "outputs": [],
   "source": []
  }
 ],
 "metadata": {
  "kernelspec": {
   "display_name": "Python 3",
   "language": "python",
   "name": "python3"
  },
  "language_info": {
   "codemirror_mode": {
    "name": "ipython",
    "version": 3
   },
   "file_extension": ".py",
   "mimetype": "text/x-python",
   "name": "python",
   "nbconvert_exporter": "python",
   "pygments_lexer": "ipython3",
   "version": "3.7.10"
  },
  "nbsphinx": {
   "timeout": 600
  },
  "toc": {
   "base_numbering": 1,
   "nav_menu": {},
   "number_sections": true,
   "sideBar": true,
   "skip_h1_title": false,
   "title_cell": "Table of Contents",
   "title_sidebar": "Contents",
   "toc_cell": false,
   "toc_position": {},
   "toc_section_display": true,
   "toc_window_display": false
  },
  "varInspector": {
   "cols": {
    "lenName": 16,
    "lenType": 16,
    "lenVar": 40
   },
   "kernels_config": {
    "python": {
     "delete_cmd_postfix": "",
     "delete_cmd_prefix": "del ",
     "library": "var_list.py",
     "varRefreshCmd": "print(var_dic_list())"
    },
    "r": {
     "delete_cmd_postfix": ") ",
     "delete_cmd_prefix": "rm(",
     "library": "var_list.r",
     "varRefreshCmd": "cat(var_dic_list()) "
    }
   },
   "types_to_exclude": [
    "module",
    "function",
    "builtin_function_or_method",
    "instance",
    "_Feature"
   ],
   "window_display": false
  }
 },
 "nbformat": 4,
 "nbformat_minor": 2
}
