{
 "cells": [
  {
   "cell_type": "markdown",
   "metadata": {},
   "source": [
    "# DataSet Performance\n",
    "\n",
    "This notebook shows the trade-off between inserting data into a database row-by-row and as binary blobs. Inserting the data row-by-row means that we have direct access to all the data and may perform queries directly on the values of the data. On the other hand, as we shall see, this is much slower than inserting the data directly as binary blobs."
   ]
  },
  {
   "cell_type": "markdown",
   "metadata": {},
   "source": [
    "First, we choose a new location for the database to ensure that we don't add a bunch of benchmarking data to the default one."
   ]
  },
  {
   "cell_type": "code",
   "execution_count": 1,
   "metadata": {
    "execution": {
     "iopub.execute_input": "2020-10-27T11:38:13.233433Z",
     "iopub.status.busy": "2020-10-27T11:38:13.232392Z",
     "iopub.status.idle": "2020-10-27T11:38:14.374811Z",
     "shell.execute_reply": "2020-10-27T11:38:14.373830Z"
    }
   },
   "outputs": [
    {
     "name": "stdout",
     "output_type": "stream",
     "text": [
      "Logging hadn't been started.\n",
      "Activating auto-logging. Current session state plus future input saved.\n",
      "Filename       : /home/vsts/.qcodes/logs/command_history.log\n",
      "Mode           : append\n",
      "Output logging : True\n",
      "Raw input log  : False\n",
      "Timestamping   : True\n",
      "State          : active\n"
     ]
    },
    {
     "name": "stdout",
     "output_type": "stream",
     "text": [
      "Qcodes Logfile : /home/vsts/.qcodes/logs/201027-14849-qcodes.log\n"
     ]
    }
   ],
   "source": [
    "import os\n",
    "cwd = os.getcwd()\n",
    "import qcodes as qc\n",
    "qc.config[\"core\"][\"db_location\"] = os.path.join(cwd, 'testing.db')\n"
   ]
  },
  {
   "cell_type": "code",
   "execution_count": 2,
   "metadata": {
    "execution": {
     "iopub.execute_input": "2020-10-27T11:38:14.381584Z",
     "iopub.status.busy": "2020-10-27T11:38:14.380610Z",
     "iopub.status.idle": "2020-10-27T11:38:14.583228Z",
     "shell.execute_reply": "2020-10-27T11:38:14.582331Z"
    }
   },
   "outputs": [],
   "source": [
    "%matplotlib inline\n",
    "import time\n",
    "import matplotlib.pyplot as plt\n",
    "import numpy as np\n",
    "\n",
    "import qcodes as qc\n",
    "from qcodes.instrument.parameter import ManualParameter\n",
    "from qcodes.dataset.experiment_container import (Experiment,\n",
    "                                                 load_last_experiment,\n",
    "                                                 new_experiment)\n",
    "from qcodes.dataset.sqlite.database import initialise_database\n",
    "from qcodes import load_or_create_experiment\n",
    "from qcodes.dataset.measurements import Measurement"
   ]
  },
  {
   "cell_type": "code",
   "execution_count": 3,
   "metadata": {
    "execution": {
     "iopub.execute_input": "2020-10-27T11:38:14.587463Z",
     "iopub.status.busy": "2020-10-27T11:38:14.586589Z",
     "iopub.status.idle": "2020-10-27T11:38:14.693012Z",
     "shell.execute_reply": "2020-10-27T11:38:14.693574Z"
    }
   },
   "outputs": [
    {
     "name": "stdout",
     "output_type": "stream",
     "text": [
      "\r",
      "0it [00:00, ?it/s]"
     ]
    },
    {
     "name": "stdout",
     "output_type": "stream",
     "text": [
      "\r",
      "Upgrading database; v0 -> v1: : 0it [00:00, ?it/s]"
     ]
    },
    {
     "name": "stdout",
     "output_type": "stream",
     "text": [
      "\r",
      "Upgrading database; v0 -> v1: : 0it [00:00, ?it/s]"
     ]
    },
    {
     "name": "stdout",
     "output_type": "stream",
     "text": [
      "\n",
      "\r",
      "  0%|          | 0/1 [00:00<?, ?it/s]"
     ]
    },
    {
     "name": "stdout",
     "output_type": "stream",
     "text": [
      "\r",
      "Upgrading database; v1 -> v2:   0%|          | 0/1 [00:00<?, ?it/s]"
     ]
    },
    {
     "name": "stdout",
     "output_type": "stream",
     "text": [
      "\r",
      "Upgrading database; v1 -> v2: 100%|██████████| 1/1 [00:00<00:00, 431.73it/s]"
     ]
    },
    {
     "name": "stdout",
     "output_type": "stream",
     "text": [
      "\n",
      "\r",
      "0it [00:00, ?it/s]"
     ]
    },
    {
     "name": "stdout",
     "output_type": "stream",
     "text": [
      "\r",
      "Upgrading database; v2 -> v3: : 0it [00:00, ?it/s]"
     ]
    },
    {
     "name": "stdout",
     "output_type": "stream",
     "text": [
      "\r",
      "Upgrading database; v2 -> v3: : 0it [00:00, ?it/s]"
     ]
    },
    {
     "name": "stdout",
     "output_type": "stream",
     "text": [
      "\n",
      "\r",
      "0it [00:00, ?it/s]"
     ]
    },
    {
     "name": "stdout",
     "output_type": "stream",
     "text": [
      "\r",
      "Upgrading database; v3 -> v4: : 0it [00:00, ?it/s]"
     ]
    },
    {
     "name": "stdout",
     "output_type": "stream",
     "text": [
      "\r",
      "Upgrading database; v3 -> v4: : 0it [00:00, ?it/s]"
     ]
    },
    {
     "name": "stdout",
     "output_type": "stream",
     "text": [
      "\n",
      "\r",
      "  0%|          | 0/1 [00:00<?, ?it/s]"
     ]
    },
    {
     "name": "stdout",
     "output_type": "stream",
     "text": [
      "\r",
      "Upgrading database; v4 -> v5:   0%|          | 0/1 [00:00<?, ?it/s]"
     ]
    },
    {
     "name": "stdout",
     "output_type": "stream",
     "text": [
      "\r",
      "Upgrading database; v4 -> v5: 100%|██████████| 1/1 [00:00<00:00, 757.23it/s]"
     ]
    },
    {
     "name": "stdout",
     "output_type": "stream",
     "text": [
      "\n",
      "\r",
      "0it [00:00, ?it/s]"
     ]
    },
    {
     "name": "stdout",
     "output_type": "stream",
     "text": [
      "\r",
      "Upgrading database; v5 -> v6: : 0it [00:00, ?it/s]"
     ]
    },
    {
     "name": "stdout",
     "output_type": "stream",
     "text": [
      "\r",
      "Upgrading database; v5 -> v6: : 0it [00:00, ?it/s]"
     ]
    },
    {
     "name": "stdout",
     "output_type": "stream",
     "text": [
      "\n",
      "\r",
      "  0%|          | 0/1 [00:00<?, ?it/s]"
     ]
    },
    {
     "name": "stdout",
     "output_type": "stream",
     "text": [
      "\r",
      "Upgrading database; v6 -> v7:   0%|          | 0/1 [00:00<?, ?it/s]"
     ]
    },
    {
     "name": "stdout",
     "output_type": "stream",
     "text": [
      "\r",
      "Upgrading database; v6 -> v7: 100%|██████████| 1/1 [00:00<00:00, 377.22it/s]"
     ]
    },
    {
     "name": "stdout",
     "output_type": "stream",
     "text": [
      "\n",
      "\r",
      "  0%|          | 0/1 [00:00<?, ?it/s]"
     ]
    },
    {
     "name": "stdout",
     "output_type": "stream",
     "text": [
      "\r",
      "Upgrading database; v7 -> v8:   0%|          | 0/1 [00:00<?, ?it/s]"
     ]
    },
    {
     "name": "stdout",
     "output_type": "stream",
     "text": [
      "\r",
      "Upgrading database; v7 -> v8: 100%|██████████| 1/1 [00:00<00:00, 883.76it/s]"
     ]
    },
    {
     "name": "stdout",
     "output_type": "stream",
     "text": [
      "\n",
      "\r",
      "  0%|          | 0/1 [00:00<?, ?it/s]"
     ]
    },
    {
     "name": "stdout",
     "output_type": "stream",
     "text": [
      "\r",
      "Upgrading database; v8 -> v9:   0%|          | 0/1 [00:00<?, ?it/s]"
     ]
    },
    {
     "name": "stdout",
     "output_type": "stream",
     "text": [
      "\r",
      "Upgrading database; v8 -> v9: 100%|██████████| 1/1 [00:00<00:00, 381.82it/s]"
     ]
    },
    {
     "name": "stdout",
     "output_type": "stream",
     "text": [
      "\n"
     ]
    }
   ],
   "source": [
    "initialise_database()\n",
    "exp = load_or_create_experiment(experiment_name='tutorial_exp', sample_name=\"no sample\")"
   ]
  },
  {
   "cell_type": "markdown",
   "metadata": {},
   "source": [
    "Here, we define a simple function to benchmark the time it takes to insert n points with either numeric or array data type.\n",
    "We will compare both the time used to call ``add_result`` and the time used for the full measurement."
   ]
  },
  {
   "cell_type": "code",
   "execution_count": 4,
   "metadata": {
    "execution": {
     "iopub.execute_input": "2020-10-27T11:38:14.703395Z",
     "iopub.status.busy": "2020-10-27T11:38:14.702782Z",
     "iopub.status.idle": "2020-10-27T11:38:14.707664Z",
     "shell.execute_reply": "2020-10-27T11:38:14.707123Z"
    }
   },
   "outputs": [],
   "source": [
    "def insert_data(paramtype, npoints, nreps=1):\n",
    "\n",
    "    meas = Measurement(exp=exp)\n",
    "\n",
    "    x1 = ManualParameter('x1')\n",
    "    x2 = ManualParameter('x2')\n",
    "    x3 = ManualParameter('x3')\n",
    "    y1 = ManualParameter('y1')\n",
    "    y2 = ManualParameter('y2')\n",
    "\n",
    "    meas.register_parameter(x1, paramtype=paramtype)\n",
    "    meas.register_parameter(x2, paramtype=paramtype)\n",
    "    meas.register_parameter(x3, paramtype=paramtype)\n",
    "    meas.register_parameter(y1, setpoints=[x1, x2, x3],\n",
    "                            paramtype=paramtype)\n",
    "    meas.register_parameter(y2, setpoints=[x1, x2, x3],\n",
    "                            paramtype=paramtype)\n",
    "    start = time.perf_counter()\n",
    "    with meas.run() as datasaver:\n",
    "        start_adding = time.perf_counter()\n",
    "        for i in range(nreps):\n",
    "            datasaver.add_result((x1, np.random.rand(npoints)),\n",
    "                                 (x2, np.random.rand(npoints)),\n",
    "                                 (x3, np.random.rand(npoints)),\n",
    "                                 (y1, np.random.rand(npoints)),\n",
    "                                 (y2, np.random.rand(npoints)))\n",
    "        stop_adding = time.perf_counter()\n",
    "        run_id = datasaver.run_id\n",
    "    stop = time.perf_counter()\n",
    "    tot_time = stop - start\n",
    "    add_time = stop_adding - start_adding\n",
    "    return tot_time, add_time, run_id"
   ]
  },
  {
   "cell_type": "markdown",
   "metadata": {},
   "source": [
    "## Comparison between numeric/array data and binary blob"
   ]
  },
  {
   "cell_type": "markdown",
   "metadata": {},
   "source": [
    "### Case1: Short experiment time"
   ]
  },
  {
   "cell_type": "code",
   "execution_count": 5,
   "metadata": {
    "execution": {
     "iopub.execute_input": "2020-10-27T11:38:14.715031Z",
     "iopub.status.busy": "2020-10-27T11:38:14.714317Z",
     "iopub.status.idle": "2020-10-27T11:38:15.627350Z",
     "shell.execute_reply": "2020-10-27T11:38:15.626312Z"
    }
   },
   "outputs": [
    {
     "name": "stdout",
     "output_type": "stream",
     "text": [
      "Starting experimental run with id: 1. \n",
      "Starting experimental run with id: 2. \n",
      "Starting experimental run with id: 3. \n",
      "Starting experimental run with id: 4. \n"
     ]
    },
    {
     "name": "stdout",
     "output_type": "stream",
     "text": [
      "Starting experimental run with id: 5. \n"
     ]
    },
    {
     "name": "stdout",
     "output_type": "stream",
     "text": [
      "Starting experimental run with id: 6. \n",
      "Starting experimental run with id: 7. \n"
     ]
    },
    {
     "name": "stdout",
     "output_type": "stream",
     "text": [
      "Starting experimental run with id: 8. \n",
      "Starting experimental run with id: 9. \n"
     ]
    },
    {
     "name": "stdout",
     "output_type": "stream",
     "text": [
      "Starting experimental run with id: 10. \n",
      "Starting experimental run with id: 11. \n"
     ]
    },
    {
     "name": "stdout",
     "output_type": "stream",
     "text": [
      "Starting experimental run with id: 12. \n"
     ]
    },
    {
     "name": "stdout",
     "output_type": "stream",
     "text": [
      "Starting experimental run with id: 13. \n"
     ]
    },
    {
     "name": "stdout",
     "output_type": "stream",
     "text": [
      "Starting experimental run with id: 14. \n"
     ]
    }
   ],
   "source": [
    "sizes = [1,500,1000,2000,3000,4000,5000]\n",
    "t_numeric = []\n",
    "t_numeric_add = []\n",
    "t_array = []\n",
    "t_array_add = []\n",
    "for size in sizes:\n",
    "    tn, tna, run_id_n =  insert_data('numeric', size)\n",
    "    t_numeric.append(tn)\n",
    "    t_numeric_add.append(tna)\n",
    "\n",
    "    ta, taa, run_id_a =  insert_data('array', size)\n",
    "    t_array.append(ta)\n",
    "    t_array_add.append(taa)"
   ]
  },
  {
   "cell_type": "code",
   "execution_count": 6,
   "metadata": {
    "execution": {
     "iopub.execute_input": "2020-10-27T11:38:15.647572Z",
     "iopub.status.busy": "2020-10-27T11:38:15.646817Z",
     "iopub.status.idle": "2020-10-27T11:38:15.871979Z",
     "shell.execute_reply": "2020-10-27T11:38:15.871049Z"
    }
   },
   "outputs": [
    {
     "data": {
      "image/png": "[encoded data removed]",
      "text/plain": [
       "<Figure size 432x288 with 1 Axes>"
      ]
     },
     "metadata": {
      "needs_background": "light"
     },
     "output_type": "display_data"
    }
   ],
   "source": [
    "fig, ax = plt.subplots(1,1)\n",
    "ax.plot(sizes, t_numeric, 'o-', label='Inserting row-by-row')\n",
    "ax.plot(sizes, t_numeric_add, 'o-', label='Inserting row-by-row: add_result only')\n",
    "ax.plot(sizes, t_array, 'd-', label='Inserting as binary blob')\n",
    "ax.plot(sizes, t_array_add, 'd-', label='Inserting as binary blob: add_result only')\n",
    "ax.legend()\n",
    "ax.set_xlabel('Array length')\n",
    "ax.set_ylabel('Time (s)')\n",
    "fig.tight_layout()"
   ]
  },
  {
   "cell_type": "markdown",
   "metadata": {},
   "source": [
    "As shown in the latter figure, the time to setup and and close the experiment is approximately 0.4 sec. In case of small array sizes, the difference between inserting values of data as arrays and inserting them row-by-row is relatively unimportant. At larger array sizes, i.e. above 10000 points, the cost of writing data as individual datapoints starts to become important.\n"
   ]
  },
  {
   "cell_type": "markdown",
   "metadata": {},
   "source": [
    "### Case2: Long experiment time "
   ]
  },
  {
   "cell_type": "code",
   "execution_count": 7,
   "metadata": {
    "execution": {
     "iopub.execute_input": "2020-10-27T11:38:15.880652Z",
     "iopub.status.busy": "2020-10-27T11:38:15.879897Z",
     "iopub.status.idle": "2020-10-27T11:39:20.424420Z",
     "shell.execute_reply": "2020-10-27T11:39:20.423895Z"
    }
   },
   "outputs": [
    {
     "name": "stdout",
     "output_type": "stream",
     "text": [
      "Starting experimental run with id: 15. \n",
      "Starting experimental run with id: 16. \n",
      "Starting experimental run with id: 17. \n"
     ]
    },
    {
     "name": "stdout",
     "output_type": "stream",
     "text": [
      "Starting experimental run with id: 18. \n",
      "Starting experimental run with id: 19. \n"
     ]
    },
    {
     "name": "stdout",
     "output_type": "stream",
     "text": [
      "Starting experimental run with id: 20. \n"
     ]
    },
    {
     "name": "stdout",
     "output_type": "stream",
     "text": [
      "Starting experimental run with id: 21. \n"
     ]
    },
    {
     "name": "stdout",
     "output_type": "stream",
     "text": [
      "Starting experimental run with id: 22. \n"
     ]
    },
    {
     "name": "stdout",
     "output_type": "stream",
     "text": [
      "Starting experimental run with id: 23. \n"
     ]
    },
    {
     "name": "stdout",
     "output_type": "stream",
     "text": [
      "Starting experimental run with id: 24. \n"
     ]
    },
    {
     "name": "stdout",
     "output_type": "stream",
     "text": [
      "Starting experimental run with id: 25. \n"
     ]
    },
    {
     "name": "stdout",
     "output_type": "stream",
     "text": [
      "Starting experimental run with id: 26. \n"
     ]
    },
    {
     "name": "stdout",
     "output_type": "stream",
     "text": [
      "Starting experimental run with id: 27. \n"
     ]
    },
    {
     "name": "stdout",
     "output_type": "stream",
     "text": [
      "Starting experimental run with id: 28. \n"
     ]
    }
   ],
   "source": [
    "sizes = [1,500,1000,2000,3000,4000,5000]\n",
    "nreps = 100\n",
    "t_numeric = []\n",
    "t_numeric_add = []\n",
    "t_numeric_run_ids = []\n",
    "t_array = []\n",
    "t_array_add = []\n",
    "t_array_run_ids = []\n",
    "for size in sizes:\n",
    "    tn, tna, run_id_n =  insert_data('numeric', size, nreps=nreps)\n",
    "    t_numeric.append(tn)\n",
    "    t_numeric_add.append(tna)\n",
    "    t_numeric_run_ids.append(run_id_n)\n",
    "\n",
    "    ta, taa, run_id_a =  insert_data('array', size, nreps=nreps)\n",
    "    t_array.append(ta)\n",
    "    t_array_add.append(taa)\n",
    "    t_array_run_ids.append(run_id_a)"
   ]
  },
  {
   "cell_type": "code",
   "execution_count": 8,
   "metadata": {
    "execution": {
     "iopub.execute_input": "2020-10-27T11:39:20.451569Z",
     "iopub.status.busy": "2020-10-27T11:39:20.447347Z",
     "iopub.status.idle": "2020-10-27T11:39:20.673802Z",
     "shell.execute_reply": "2020-10-27T11:39:20.672921Z"
    },
    "scrolled": true
   },
   "outputs": [
    {
     "data": {
      "image/png": "[encoded data removed]",
      "text/plain": [
       "<Figure size 432x288 with 1 Axes>"
      ]
     },
     "metadata": {
      "needs_background": "light"
     },
     "output_type": "display_data"
    }
   ],
   "source": [
    "fig, ax = plt.subplots(1,1)\n",
    "ax.plot(sizes, t_numeric, 'o-', label='Inserting row-by-row')\n",
    "ax.plot(sizes, t_numeric_add, 'o-', label='Inserting row-by-row: add_result only')\n",
    "ax.plot(sizes, t_array, 'd-', label='Inserting as binary blob')\n",
    "ax.plot(sizes, t_array_add, 'd-', label='Inserting as binary blob: add_result only')\n",
    "ax.legend()\n",
    "ax.set_xlabel('Array length')\n",
    "ax.set_ylabel('Time (s)')\n",
    "fig.tight_layout()"
   ]
  },
  {
   "cell_type": "markdown",
   "metadata": {},
   "source": [
    "However, as we increase the length of the experiment, as seen here by repeating the insertion 100 times, we see a big difference between inserting values of the data row-by-row and inserting it as a binary blob."
   ]
  },
  {
   "cell_type": "markdown",
   "metadata": {},
   "source": [
    "## Loading the data "
   ]
  },
  {
   "cell_type": "code",
   "execution_count": 9,
   "metadata": {
    "execution": {
     "iopub.execute_input": "2020-10-27T11:39:20.679123Z",
     "iopub.status.busy": "2020-10-27T11:39:20.677657Z",
     "iopub.status.idle": "2020-10-27T11:39:20.682784Z",
     "shell.execute_reply": "2020-10-27T11:39:20.682130Z"
    }
   },
   "outputs": [],
   "source": [
    "from qcodes.dataset.data_set import load_by_id\n",
    "from qcodes.dataset.data_export import get_data_by_id"
   ]
  },
  {
   "cell_type": "markdown",
   "metadata": {},
   "source": [
    "As usual you can load the data by using the ``load_by_id`` function but you will notice that the different storage methods\n",
    "are reflected in shape of the data as it is retrieved. "
   ]
  },
  {
   "cell_type": "code",
   "execution_count": 10,
   "metadata": {
    "execution": {
     "iopub.execute_input": "2020-10-27T11:39:20.687096Z",
     "iopub.status.busy": "2020-10-27T11:39:20.686492Z",
     "iopub.status.idle": "2020-10-27T11:39:20.690515Z",
     "shell.execute_reply": "2020-10-27T11:39:20.689989Z"
    }
   },
   "outputs": [],
   "source": [
    "run_id_n = t_numeric_run_ids[0]\n",
    "run_id_a = t_array_run_ids[0]"
   ]
  },
  {
   "cell_type": "code",
   "execution_count": 11,
   "metadata": {
    "execution": {
     "iopub.execute_input": "2020-10-27T11:39:20.694847Z",
     "iopub.status.busy": "2020-10-27T11:39:20.693905Z",
     "iopub.status.idle": "2020-10-27T11:39:20.706840Z",
     "shell.execute_reply": "2020-10-27T11:39:20.706294Z"
    },
    "scrolled": true
   },
   "outputs": [
    {
     "data": {
      "text/plain": [
       "{'x1': {'x1': array([0.89846652, 0.89846652, 0.73287711, 0.73287711, 0.52288951,\n",
       "         0.52288951, 0.40456621, 0.40456621, 0.63302343, 0.63302343,\n",
       "         0.35553772, 0.35553772, 0.6432046 , 0.6432046 , 0.56377726,\n",
       "         0.56377726, 0.85018225, 0.85018225, 0.47306623, 0.47306623,\n",
       "         0.60858934, 0.60858934, 0.15426278, 0.15426278, 0.0617185 ,\n",
       "         0.0617185 , 0.81043588, 0.81043588, 0.2799938 , 0.2799938 ,\n",
       "         0.15711648, 0.15711648, 0.02138838, 0.02138838, 0.86267925,\n",
       "         0.86267925, 0.3556868 , 0.3556868 , 0.37678737, 0.37678737,\n",
       "         0.57900038, 0.57900038, 0.69299603, 0.69299603, 0.08233828,\n",
       "         0.08233828, 0.14996727, 0.14996727, 0.93455748, 0.93455748,\n",
       "         0.56441133, 0.56441133, 0.59795134, 0.59795134, 0.66326131,\n",
       "         0.66326131, 0.78697977, 0.78697977, 0.92970509, 0.92970509,\n",
       "         0.74306309, 0.74306309, 0.84196336, 0.84196336, 0.20231775,\n",
       "         0.20231775, 0.64243108, 0.64243108, 0.15233787, 0.15233787,\n",
       "         0.73168709, 0.73168709, 0.3272481 , 0.3272481 , 0.97960235,\n",
       "         0.97960235, 0.22091367, 0.22091367, 0.84733097, 0.84733097,\n",
       "         0.09093969, 0.09093969, 0.33346684, 0.33346684, 0.76683957,\n",
       "         0.76683957, 0.79461624, 0.79461624, 0.54317825, 0.54317825,\n",
       "         0.32619723, 0.32619723, 0.80007146, 0.80007146, 0.44086203,\n",
       "         0.44086203, 0.80527047, 0.80527047, 0.30703945, 0.30703945,\n",
       "         0.26012845, 0.26012845, 0.12167432, 0.12167432, 0.23522596,\n",
       "         0.23522596, 0.97951635, 0.97951635, 0.38449751, 0.38449751,\n",
       "         0.52028803, 0.52028803, 0.42001512, 0.42001512, 0.36128067,\n",
       "         0.36128067, 0.33346335, 0.33346335, 0.17510851, 0.17510851,\n",
       "         0.78161977, 0.78161977, 0.37537975, 0.37537975, 0.68502701,\n",
       "         0.68502701, 0.3005486 , 0.3005486 , 0.751759  , 0.751759  ,\n",
       "         0.59648923, 0.59648923, 0.49848346, 0.49848346, 0.07542583,\n",
       "         0.07542583, 0.03119409, 0.03119409, 0.31175398, 0.31175398,\n",
       "         0.92084668, 0.92084668, 0.15670984, 0.15670984, 0.67585669,\n",
       "         0.67585669, 0.05429224, 0.05429224, 0.798506  , 0.798506  ,\n",
       "         0.42601785, 0.42601785, 0.01361287, 0.01361287, 0.67267314,\n",
       "         0.67267314, 0.43741805, 0.43741805, 0.04822598, 0.04822598,\n",
       "         0.5577725 , 0.5577725 , 0.9920429 , 0.9920429 , 0.79553139,\n",
       "         0.79553139, 0.66944658, 0.66944658, 0.54107207, 0.54107207,\n",
       "         0.10711728, 0.10711728, 0.43456004, 0.43456004, 0.79962384,\n",
       "         0.79962384, 0.41788619, 0.41788619, 0.98466737, 0.98466737,\n",
       "         0.96932432, 0.96932432, 0.25019184, 0.25019184, 0.89266132,\n",
       "         0.89266132, 0.01939164, 0.01939164, 0.58877639, 0.58877639,\n",
       "         0.20320995, 0.20320995, 0.78172085, 0.78172085, 0.35096439,\n",
       "         0.35096439, 0.83106635, 0.83106635, 0.40901145, 0.40901145])}}"
      ]
     },
     "execution_count": 1,
     "metadata": {},
     "output_type": "execute_result"
    }
   ],
   "source": [
    "ds = load_by_id(run_id_n)\n",
    "ds.get_parameter_data('x1')"
   ]
  },
  {
   "cell_type": "markdown",
   "metadata": {},
   "source": [
    "And a dataset stored as binary arrays"
   ]
  },
  {
   "cell_type": "code",
   "execution_count": 12,
   "metadata": {
    "execution": {
     "iopub.execute_input": "2020-10-27T11:39:20.711150Z",
     "iopub.status.busy": "2020-10-27T11:39:20.710183Z",
     "iopub.status.idle": "2020-10-27T11:39:20.777371Z",
     "shell.execute_reply": "2020-10-27T11:39:20.778134Z"
    },
    "scrolled": true
   },
   "outputs": [
    {
     "data": {
      "text/plain": [
       "{'x1': {'x1': array([[4.15629533e-01],\n",
       "         [4.15629533e-01],\n",
       "         [2.87025710e-01],\n",
       "         [2.87025710e-01],\n",
       "         [5.09327413e-01],\n",
       "         [5.09327413e-01],\n",
       "         [8.94597481e-03],\n",
       "         [8.94597481e-03],\n",
       "         [5.43459031e-01],\n",
       "         [5.43459031e-01],\n",
       "         [9.96594697e-01],\n",
       "         [9.96594697e-01],\n",
       "         [2.60768739e-01],\n",
       "         [2.60768739e-01],\n",
       "         [5.60744701e-02],\n",
       "         [5.60744701e-02],\n",
       "         [1.24562756e-02],\n",
       "         [1.24562756e-02],\n",
       "         [6.42247519e-01],\n",
       "         [6.42247519e-01],\n",
       "         [6.36082775e-01],\n",
       "         [6.36082775e-01],\n",
       "         [8.16733714e-01],\n",
       "         [8.16733714e-01],\n",
       "         [4.70565482e-02],\n",
       "         [4.70565482e-02],\n",
       "         [5.74575147e-01],\n",
       "         [5.74575147e-01],\n",
       "         [9.60388296e-01],\n",
       "         [9.60388296e-01],\n",
       "         [4.28515376e-01],\n",
       "         [4.28515376e-01],\n",
       "         [4.80209428e-01],\n",
       "         [4.80209428e-01],\n",
       "         [2.49431927e-01],\n",
       "         [2.49431927e-01],\n",
       "         [3.44546572e-01],\n",
       "         [3.44546572e-01],\n",
       "         [5.52363997e-01],\n",
       "         [5.52363997e-01],\n",
       "         [2.39360625e-04],\n",
       "         [2.39360625e-04],\n",
       "         [9.47752559e-01],\n",
       "         [9.47752559e-01],\n",
       "         [7.95984215e-01],\n",
       "         [7.95984215e-01],\n",
       "         [2.30711478e-01],\n",
       "         [2.30711478e-01],\n",
       "         [7.04152626e-01],\n",
       "         [7.04152626e-01],\n",
       "         [9.07564516e-01],\n",
       "         [9.07564516e-01],\n",
       "         [4.93693228e-01],\n",
       "         [4.93693228e-01],\n",
       "         [2.12578598e-01],\n",
       "         [2.12578598e-01],\n",
       "         [8.40397905e-01],\n",
       "         [8.40397905e-01],\n",
       "         [5.32180863e-01],\n",
       "         [5.32180863e-01],\n",
       "         [9.37261821e-02],\n",
       "         [9.37261821e-02],\n",
       "         [2.67913693e-01],\n",
       "         [2.67913693e-01],\n",
       "         [2.40619295e-01],\n",
       "         [2.40619295e-01],\n",
       "         [5.72958350e-01],\n",
       "         [5.72958350e-01],\n",
       "         [2.16141512e-01],\n",
       "         [2.16141512e-01],\n",
       "         [7.96155232e-01],\n",
       "         [7.96155232e-01],\n",
       "         [6.82223987e-01],\n",
       "         [6.82223987e-01],\n",
       "         [8.18140824e-01],\n",
       "         [8.18140824e-01],\n",
       "         [3.92045837e-01],\n",
       "         [3.92045837e-01],\n",
       "         [1.40349175e-01],\n",
       "         [1.40349175e-01],\n",
       "         [3.08676350e-01],\n",
       "         [3.08676350e-01],\n",
       "         [5.42928836e-01],\n",
       "         [5.42928836e-01],\n",
       "         [4.45891140e-01],\n",
       "         [4.45891140e-01],\n",
       "         [9.27735846e-01],\n",
       "         [9.27735846e-01],\n",
       "         [1.01145779e-01],\n",
       "         [1.01145779e-01],\n",
       "         [3.97927429e-01],\n",
       "         [3.97927429e-01],\n",
       "         [6.33946033e-01],\n",
       "         [6.33946033e-01],\n",
       "         [6.29559124e-01],\n",
       "         [6.29559124e-01],\n",
       "         [8.94218115e-01],\n",
       "         [8.94218115e-01],\n",
       "         [6.88753409e-01],\n",
       "         [6.88753409e-01],\n",
       "         [2.95541522e-01],\n",
       "         [2.95541522e-01],\n",
       "         [9.46866387e-01],\n",
       "         [9.46866387e-01],\n",
       "         [8.02625941e-01],\n",
       "         [8.02625941e-01],\n",
       "         [8.04403328e-01],\n",
       "         [8.04403328e-01],\n",
       "         [7.20446105e-01],\n",
       "         [7.20446105e-01],\n",
       "         [7.47229366e-01],\n",
       "         [7.47229366e-01],\n",
       "         [4.81679951e-01],\n",
       "         [4.81679951e-01],\n",
       "         [4.67684083e-01],\n",
       "         [4.67684083e-01],\n",
       "         [9.45452917e-01],\n",
       "         [9.45452917e-01],\n",
       "         [1.93104844e-01],\n",
       "         [1.93104844e-01],\n",
       "         [3.05652532e-01],\n",
       "         [3.05652532e-01],\n",
       "         [1.54798879e-01],\n",
       "         [1.54798879e-01],\n",
       "         [2.46359946e-01],\n",
       "         [2.46359946e-01],\n",
       "         [8.96645168e-01],\n",
       "         [8.96645168e-01],\n",
       "         [5.77130775e-01],\n",
       "         [5.77130775e-01],\n",
       "         [4.17560805e-01],\n",
       "         [4.17560805e-01],\n",
       "         [9.89443713e-01],\n",
       "         [9.89443713e-01],\n",
       "         [7.41221011e-01],\n",
       "         [7.41221011e-01],\n",
       "         [7.13016895e-01],\n",
       "         [7.13016895e-01],\n",
       "         [7.25614163e-01],\n",
       "         [7.25614163e-01],\n",
       "         [6.36209585e-01],\n",
       "         [6.36209585e-01],\n",
       "         [8.75919066e-01],\n",
       "         [8.75919066e-01],\n",
       "         [9.56780546e-01],\n",
       "         [9.56780546e-01],\n",
       "         [1.62234033e-03],\n",
       "         [1.62234033e-03],\n",
       "         [2.15347222e-01],\n",
       "         [2.15347222e-01],\n",
       "         [9.32181680e-01],\n",
       "         [9.32181680e-01],\n",
       "         [9.80669415e-01],\n",
       "         [9.80669415e-01],\n",
       "         [7.52570422e-01],\n",
       "         [7.52570422e-01],\n",
       "         [4.16418554e-01],\n",
       "         [4.16418554e-01],\n",
       "         [2.05177967e-02],\n",
       "         [2.05177967e-02],\n",
       "         [9.10220674e-01],\n",
       "         [9.10220674e-01],\n",
       "         [4.25858953e-01],\n",
       "         [4.25858953e-01],\n",
       "         [6.93913439e-01],\n",
       "         [6.93913439e-01],\n",
       "         [7.95671692e-01],\n",
       "         [7.95671692e-01],\n",
       "         [1.67568102e-02],\n",
       "         [1.67568102e-02],\n",
       "         [5.67605312e-01],\n",
       "         [5.67605312e-01],\n",
       "         [9.17179913e-01],\n",
       "         [9.17179913e-01],\n",
       "         [5.54019312e-01],\n",
       "         [5.54019312e-01],\n",
       "         [7.52971560e-01],\n",
       "         [7.52971560e-01],\n",
       "         [3.58955299e-01],\n",
       "         [3.58955299e-01],\n",
       "         [4.94576602e-02],\n",
       "         [4.94576602e-02],\n",
       "         [4.50638545e-01],\n",
       "         [4.50638545e-01],\n",
       "         [2.27052967e-01],\n",
       "         [2.27052967e-01],\n",
       "         [5.11204934e-01],\n",
       "         [5.11204934e-01],\n",
       "         [8.65505531e-01],\n",
       "         [8.65505531e-01],\n",
       "         [9.77997580e-01],\n",
       "         [9.77997580e-01],\n",
       "         [7.31904558e-01],\n",
       "         [7.31904558e-01],\n",
       "         [2.43519813e-01],\n",
       "         [2.43519813e-01],\n",
       "         [3.58011283e-01],\n",
       "         [3.58011283e-01],\n",
       "         [8.17561904e-01],\n",
       "         [8.17561904e-01]])}}"
      ]
     },
     "execution_count": 1,
     "metadata": {},
     "output_type": "execute_result"
    }
   ],
   "source": [
    "ds = load_by_id(run_id_a)\n",
    "ds.get_parameter_data('x1')"
   ]
  },
  {
   "cell_type": "code",
   "execution_count": null,
   "metadata": {},
   "outputs": [],
   "source": []
  }
 ],
 "metadata": {
  "kernelspec": {
   "display_name": "Python 3",
   "language": "python",
   "name": "python3"
  },
  "language_info": {
   "codemirror_mode": {
    "name": "ipython",
    "version": 3
   },
   "file_extension": ".py",
   "mimetype": "text/x-python",
   "name": "python",
   "nbconvert_exporter": "python",
   "pygments_lexer": "ipython3",
   "version": "3.7.7"
  },
  "nbsphinx": {
   "timeout": 600
  },
  "toc": {
   "base_numbering": 1,
   "nav_menu": {},
   "number_sections": true,
   "sideBar": true,
   "skip_h1_title": false,
   "title_cell": "Table of Contents",
   "title_sidebar": "Contents",
   "toc_cell": false,
   "toc_position": {},
   "toc_section_display": true,
   "toc_window_display": false
  },
  "varInspector": {
   "cols": {
    "lenName": 16,
    "lenType": 16,
    "lenVar": 40
   },
   "kernels_config": {
    "python": {
     "delete_cmd_postfix": "",
     "delete_cmd_prefix": "del ",
     "library": "var_list.py",
     "varRefreshCmd": "print(var_dic_list())"
    },
    "r": {
     "delete_cmd_postfix": ") ",
     "delete_cmd_prefix": "rm(",
     "library": "var_list.r",
     "varRefreshCmd": "cat(var_dic_list()) "
    }
   },
   "types_to_exclude": [
    "module",
    "function",
    "builtin_function_or_method",
    "instance",
    "_Feature"
   ],
   "window_display": false
  }
 },
 "nbformat": 4,
 "nbformat_minor": 2
}
