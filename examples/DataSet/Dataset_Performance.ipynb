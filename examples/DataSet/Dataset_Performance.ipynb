{
 "cells": [
  {
   "cell_type": "markdown",
   "metadata": {},
   "source": [
    "# DataSet Performance\n",
    "\n",
    "This notebook shows the trade-off between inserting data into a database row-by-row and as binary blobs. Inserting the data row-by-row means that we have direct access to all the data and may perform queries directly on the values of the data. On the other hand, as we shall see, this is much slower than inserting the data directly as binary blobs."
   ]
  },
  {
   "cell_type": "markdown",
   "metadata": {},
   "source": [
    "First, we choose a new location for the database to ensure that we don't add a bunch of benchmarking data to the default one."
   ]
  },
  {
   "cell_type": "code",
   "execution_count": 1,
   "metadata": {},
   "outputs": [
    {
     "name": "stdout",
     "output_type": "stream",
     "text": [
      "Logging hadn't been started.\n",
      "Activating auto-logging. Current session state plus future input saved.\n",
      "Filename       : /home/vsts/.qcodes/logs/command_history.log\n",
      "Mode           : append\n",
      "Output logging : True\n",
      "Raw input log  : False\n",
      "Timestamping   : True\n",
      "State          : active\n"
     ]
    },
    {
     "name": "stdout",
     "output_type": "stream",
     "text": [
      "Qcodes Logfile : /home/vsts/.qcodes/logs/200416-18411-qcodes.log\n"
     ]
    }
   ],
   "source": [
    "import os\n",
    "cwd = os.getcwd()\n",
    "import qcodes as qc\n",
    "qc.config[\"core\"][\"db_location\"] = os.path.join(cwd, 'testing.db')\n"
   ]
  },
  {
   "cell_type": "code",
   "execution_count": 2,
   "metadata": {},
   "outputs": [],
   "source": [
    "%matplotlib inline\n",
    "import time\n",
    "import matplotlib.pyplot as plt\n",
    "import numpy as np\n",
    "\n",
    "import qcodes as qc\n",
    "from qcodes.instrument.parameter import ManualParameter\n",
    "from qcodes.dataset.experiment_container import (Experiment,\n",
    "                                                 load_last_experiment,\n",
    "                                                 new_experiment)\n",
    "from qcodes.dataset.sqlite.database import initialise_database\n",
    "from qcodes import load_or_create_experiment\n",
    "from qcodes.dataset.measurements import Measurement"
   ]
  },
  {
   "cell_type": "code",
   "execution_count": 3,
   "metadata": {},
   "outputs": [
    {
     "name": "stdout",
     "output_type": "stream",
     "text": [
      "\r",
      "0it [00:00, ?it/s]"
     ]
    },
    {
     "name": "stdout",
     "output_type": "stream",
     "text": [
      "\r",
      "Upgrading database; v0 -> v1: : 0it [00:00, ?it/s]"
     ]
    },
    {
     "name": "stdout",
     "output_type": "stream",
     "text": [
      "\r",
      "Upgrading database; v0 -> v1: : 0it [00:00, ?it/s]"
     ]
    },
    {
     "name": "stdout",
     "output_type": "stream",
     "text": [
      "\n",
      "\r",
      "  0%|          | 0/1 [00:00<?, ?it/s]"
     ]
    },
    {
     "name": "stdout",
     "output_type": "stream",
     "text": [
      "\r",
      "Upgrading database; v1 -> v2:   0%|          | 0/1 [00:00<?, ?it/s]"
     ]
    },
    {
     "name": "stdout",
     "output_type": "stream",
     "text": [
      "\r",
      "Upgrading database; v1 -> v2: 100%|██████████| 1/1 [00:00<00:00, 939.16it/s]"
     ]
    },
    {
     "name": "stdout",
     "output_type": "stream",
     "text": [
      "\n",
      "\r",
      "0it [00:00, ?it/s]"
     ]
    },
    {
     "name": "stdout",
     "output_type": "stream",
     "text": [
      "\r",
      "Upgrading database; v2 -> v3: : 0it [00:00, ?it/s]"
     ]
    },
    {
     "name": "stdout",
     "output_type": "stream",
     "text": [
      "\r",
      "Upgrading database; v2 -> v3: : 0it [00:00, ?it/s]"
     ]
    },
    {
     "name": "stdout",
     "output_type": "stream",
     "text": [
      "\n",
      "\r",
      "0it [00:00, ?it/s]"
     ]
    },
    {
     "name": "stdout",
     "output_type": "stream",
     "text": [
      "\r",
      "Upgrading database; v3 -> v4: : 0it [00:00, ?it/s]"
     ]
    },
    {
     "name": "stdout",
     "output_type": "stream",
     "text": [
      "\r",
      "Upgrading database; v3 -> v4: : 0it [00:00, ?it/s]"
     ]
    },
    {
     "name": "stdout",
     "output_type": "stream",
     "text": [
      "\n",
      "\r",
      "  0%|          | 0/1 [00:00<?, ?it/s]"
     ]
    },
    {
     "name": "stdout",
     "output_type": "stream",
     "text": [
      "\r",
      "Upgrading database; v4 -> v5:   0%|          | 0/1 [00:00<?, ?it/s]"
     ]
    },
    {
     "name": "stdout",
     "output_type": "stream",
     "text": [
      "\r",
      "Upgrading database; v4 -> v5: 100%|██████████| 1/1 [00:00<00:00, 965.76it/s]"
     ]
    },
    {
     "name": "stdout",
     "output_type": "stream",
     "text": [
      "\n",
      "\r",
      "0it [00:00, ?it/s]"
     ]
    },
    {
     "name": "stdout",
     "output_type": "stream",
     "text": [
      "\r",
      "Upgrading database; v5 -> v6: : 0it [00:00, ?it/s]"
     ]
    },
    {
     "name": "stdout",
     "output_type": "stream",
     "text": [
      "\r",
      "Upgrading database; v5 -> v6: : 0it [00:00, ?it/s]"
     ]
    },
    {
     "name": "stdout",
     "output_type": "stream",
     "text": [
      "\n",
      "\r",
      "  0%|          | 0/1 [00:00<?, ?it/s]"
     ]
    },
    {
     "name": "stdout",
     "output_type": "stream",
     "text": [
      "\r",
      "Upgrading database; v6 -> v7:   0%|          | 0/1 [00:00<?, ?it/s]"
     ]
    },
    {
     "name": "stdout",
     "output_type": "stream",
     "text": [
      "\r",
      "Upgrading database; v6 -> v7: 100%|██████████| 1/1 [00:00<00:00, 439.10it/s]"
     ]
    },
    {
     "name": "stdout",
     "output_type": "stream",
     "text": [
      "\n",
      "\r",
      "  0%|          | 0/1 [00:00<?, ?it/s]"
     ]
    },
    {
     "name": "stdout",
     "output_type": "stream",
     "text": [
      "\r",
      "Upgrading database; v7 -> v8:   0%|          | 0/1 [00:00<?, ?it/s]"
     ]
    },
    {
     "name": "stdout",
     "output_type": "stream",
     "text": [
      "\r",
      "Upgrading database; v7 -> v8: 100%|██████████| 1/1 [00:00<00:00, 650.48it/s]"
     ]
    },
    {
     "name": "stdout",
     "output_type": "stream",
     "text": [
      "\n",
      "\r",
      "  0%|          | 0/1 [00:00<?, ?it/s]"
     ]
    },
    {
     "name": "stdout",
     "output_type": "stream",
     "text": [
      "\r",
      "Upgrading database; v8 -> v9:   0%|          | 0/1 [00:00<?, ?it/s]"
     ]
    },
    {
     "name": "stdout",
     "output_type": "stream",
     "text": [
      "\r",
      "Upgrading database; v8 -> v9: 100%|██████████| 1/1 [00:00<00:00, 1015.57it/s]"
     ]
    },
    {
     "name": "stdout",
     "output_type": "stream",
     "text": [
      "\n"
     ]
    }
   ],
   "source": [
    "initialise_database()\n",
    "exp = load_or_create_experiment(experiment_name='tutorial_exp', sample_name=\"no sample\")"
   ]
  },
  {
   "cell_type": "markdown",
   "metadata": {},
   "source": [
    "Here, we define a simple function to benchmark the time it takes to insert n points with either numeric or array data type.\n",
    "We will compare both the time used to call ``add_result`` and the time used for the full measurement."
   ]
  },
  {
   "cell_type": "code",
   "execution_count": 4,
   "metadata": {},
   "outputs": [],
   "source": [
    "def insert_data(paramtype, npoints, nreps=1):\n",
    "\n",
    "    meas = Measurement(exp=exp)\n",
    "\n",
    "    x1 = ManualParameter('x1')\n",
    "    x2 = ManualParameter('x2')\n",
    "    x3 = ManualParameter('x3')\n",
    "    y1 = ManualParameter('y1')\n",
    "    y2 = ManualParameter('y2')\n",
    "\n",
    "    meas.register_parameter(x1, paramtype=paramtype)\n",
    "    meas.register_parameter(x2, paramtype=paramtype)\n",
    "    meas.register_parameter(x3, paramtype=paramtype)\n",
    "    meas.register_parameter(y1, setpoints=[x1, x2, x3],\n",
    "                            paramtype=paramtype)\n",
    "    meas.register_parameter(y2, setpoints=[x1, x2, x3],\n",
    "                            paramtype=paramtype)\n",
    "    start = time.perf_counter()\n",
    "    with meas.run() as datasaver:\n",
    "        start_adding = time.perf_counter()\n",
    "        for i in range(nreps):\n",
    "            datasaver.add_result((x1, np.random.rand(npoints)),\n",
    "                                 (x2, np.random.rand(npoints)),\n",
    "                                 (x3, np.random.rand(npoints)),\n",
    "                                 (y1, np.random.rand(npoints)),\n",
    "                                 (y2, np.random.rand(npoints)))\n",
    "        stop_adding = time.perf_counter()\n",
    "        run_id = datasaver.run_id\n",
    "    stop = time.perf_counter()\n",
    "    tot_time = stop - start\n",
    "    add_time = stop_adding - start_adding\n",
    "    return tot_time, add_time, run_id"
   ]
  },
  {
   "cell_type": "markdown",
   "metadata": {},
   "source": [
    "## Comparison between numeric/array data and binary blob"
   ]
  },
  {
   "cell_type": "markdown",
   "metadata": {},
   "source": [
    "### Case1: Short experiment time"
   ]
  },
  {
   "cell_type": "code",
   "execution_count": 5,
   "metadata": {},
   "outputs": [
    {
     "name": "stdout",
     "output_type": "stream",
     "text": [
      "Starting experimental run with id: 1. \n",
      "Starting experimental run with id: 2. \n",
      "Starting experimental run with id: 3. \n"
     ]
    },
    {
     "name": "stdout",
     "output_type": "stream",
     "text": [
      "Starting experimental run with id: 4. \n"
     ]
    },
    {
     "name": "stdout",
     "output_type": "stream",
     "text": [
      "Starting experimental run with id: 5. \n"
     ]
    },
    {
     "name": "stdout",
     "output_type": "stream",
     "text": [
      "Starting experimental run with id: 6. \n"
     ]
    },
    {
     "name": "stdout",
     "output_type": "stream",
     "text": [
      "Starting experimental run with id: 7. \n"
     ]
    },
    {
     "name": "stdout",
     "output_type": "stream",
     "text": [
      "Starting experimental run with id: 8. \n",
      "Starting experimental run with id: 9. \n"
     ]
    },
    {
     "name": "stdout",
     "output_type": "stream",
     "text": [
      "Starting experimental run with id: 10. \n",
      "Starting experimental run with id: 11. \n"
     ]
    },
    {
     "name": "stdout",
     "output_type": "stream",
     "text": [
      "Starting experimental run with id: 12. \n"
     ]
    },
    {
     "name": "stdout",
     "output_type": "stream",
     "text": [
      "Starting experimental run with id: 13. \n"
     ]
    },
    {
     "name": "stdout",
     "output_type": "stream",
     "text": [
      "Starting experimental run with id: 14. \n"
     ]
    }
   ],
   "source": [
    "sizes = [1,500,1000,2000,3000,4000,5000]\n",
    "t_numeric = []\n",
    "t_numeric_add = []\n",
    "t_array = []\n",
    "t_array_add = []\n",
    "for size in sizes:\n",
    "    tn, tna, run_id_n =  insert_data('numeric', size)\n",
    "    t_numeric.append(tn)\n",
    "    t_numeric_add.append(tna)\n",
    "\n",
    "    ta, taa, run_id_a =  insert_data('array', size)\n",
    "    t_array.append(ta)\n",
    "    t_array_add.append(taa)"
   ]
  },
  {
   "cell_type": "code",
   "execution_count": 6,
   "metadata": {},
   "outputs": [
    {
     "data": {
      "image/png": "[encoded data removed]",
      "text/plain": [
       "<Figure size 432x288 with 1 Axes>"
      ]
     },
     "metadata": {
      "needs_background": "light"
     },
     "output_type": "display_data"
    }
   ],
   "source": [
    "fig, ax = plt.subplots(1,1)\n",
    "ax.plot(sizes, t_numeric, 'o-', label='Inserting row-by-row')\n",
    "ax.plot(sizes, t_numeric_add, 'o-', label='Inserting row-by-row: add_result only')\n",
    "ax.plot(sizes, t_array, 'd-', label='Inserting as binary blob')\n",
    "ax.plot(sizes, t_array_add, 'd-', label='Inserting as binary blob: add_result only')\n",
    "ax.legend()\n",
    "ax.set_xlabel('Array length')\n",
    "ax.set_ylabel('Time (s)')\n",
    "fig.tight_layout()"
   ]
  },
  {
   "cell_type": "markdown",
   "metadata": {},
   "source": [
    "As shown in the latter figure, the time to setup and and close the experiment is approximately 0.4 sec. In case of small array sizes, the difference between inserting values of data as arrays and inserting them row-by-row is relatively unimportant. At larger array sizes, i.e. above 10000 points, the cost of writing data as individual datapoints starts to become important.\n"
   ]
  },
  {
   "cell_type": "markdown",
   "metadata": {},
   "source": [
    "### Case2: Long experiment time "
   ]
  },
  {
   "cell_type": "code",
   "execution_count": 7,
   "metadata": {},
   "outputs": [
    {
     "name": "stdout",
     "output_type": "stream",
     "text": [
      "Starting experimental run with id: 15. \n",
      "Starting experimental run with id: 16. \n",
      "Starting experimental run with id: 17. \n"
     ]
    },
    {
     "name": "stdout",
     "output_type": "stream",
     "text": [
      "Starting experimental run with id: 18. \n",
      "Starting experimental run with id: 19. \n"
     ]
    },
    {
     "name": "stdout",
     "output_type": "stream",
     "text": [
      "Starting experimental run with id: 20. \n"
     ]
    },
    {
     "name": "stdout",
     "output_type": "stream",
     "text": [
      "Starting experimental run with id: 21. \n"
     ]
    },
    {
     "name": "stdout",
     "output_type": "stream",
     "text": [
      "Starting experimental run with id: 22. \n"
     ]
    },
    {
     "name": "stdout",
     "output_type": "stream",
     "text": [
      "Starting experimental run with id: 23. \n"
     ]
    },
    {
     "name": "stdout",
     "output_type": "stream",
     "text": [
      "Starting experimental run with id: 24. \n"
     ]
    },
    {
     "name": "stdout",
     "output_type": "stream",
     "text": [
      "Starting experimental run with id: 25. \n"
     ]
    },
    {
     "name": "stdout",
     "output_type": "stream",
     "text": [
      "Starting experimental run with id: 26. \n"
     ]
    },
    {
     "name": "stdout",
     "output_type": "stream",
     "text": [
      "Starting experimental run with id: 27. \n"
     ]
    },
    {
     "name": "stdout",
     "output_type": "stream",
     "text": [
      "Starting experimental run with id: 28. \n"
     ]
    }
   ],
   "source": [
    "sizes = [1,500,1000,2000,3000,4000,5000]\n",
    "nreps = 100\n",
    "t_numeric = []\n",
    "t_numeric_add = []\n",
    "t_numeric_run_ids = []\n",
    "t_array = []\n",
    "t_array_add = []\n",
    "t_array_run_ids = []\n",
    "for size in sizes:\n",
    "    tn, tna, run_id_n =  insert_data('numeric', size, nreps=nreps)\n",
    "    t_numeric.append(tn)\n",
    "    t_numeric_add.append(tna)\n",
    "    t_numeric_run_ids.append(run_id_n)\n",
    "\n",
    "    ta, taa, run_id_a =  insert_data('array', size, nreps=nreps)\n",
    "    t_array.append(ta)\n",
    "    t_array_add.append(taa)\n",
    "    t_array_run_ids.append(run_id_a)"
   ]
  },
  {
   "cell_type": "code",
   "execution_count": 8,
   "metadata": {
    "scrolled": true
   },
   "outputs": [
    {
     "data": {
      "image/png": "[encoded data removed]",
      "text/plain": [
       "<Figure size 432x288 with 1 Axes>"
      ]
     },
     "metadata": {
      "needs_background": "light"
     },
     "output_type": "display_data"
    }
   ],
   "source": [
    "fig, ax = plt.subplots(1,1)\n",
    "ax.plot(sizes, t_numeric, 'o-', label='Inserting row-by-row')\n",
    "ax.plot(sizes, t_numeric_add, 'o-', label='Inserting row-by-row: add_result only')\n",
    "ax.plot(sizes, t_array, 'd-', label='Inserting as binary blob')\n",
    "ax.plot(sizes, t_array_add, 'd-', label='Inserting as binary blob: add_result only')\n",
    "ax.legend()\n",
    "ax.set_xlabel('Array length')\n",
    "ax.set_ylabel('Time (s)')\n",
    "fig.tight_layout()"
   ]
  },
  {
   "cell_type": "markdown",
   "metadata": {},
   "source": [
    "However, as we increase the length of the experiment, as seen here by repeating the insertion 100 times, we see a big difference between inserting values of the data row-by-row and inserting it as a binary blob."
   ]
  },
  {
   "cell_type": "markdown",
   "metadata": {},
   "source": [
    "## Loading the data "
   ]
  },
  {
   "cell_type": "code",
   "execution_count": 9,
   "metadata": {},
   "outputs": [],
   "source": [
    "from qcodes.dataset.data_set import load_by_id\n",
    "from qcodes.dataset.data_export import get_data_by_id"
   ]
  },
  {
   "cell_type": "markdown",
   "metadata": {},
   "source": [
    "As usual you can load the data by using the ``load_by_id`` function but you will notice that the different storage methods\n",
    "are reflected in shape of the data as it is retrieved. "
   ]
  },
  {
   "cell_type": "code",
   "execution_count": 10,
   "metadata": {},
   "outputs": [],
   "source": [
    "run_id_n = t_numeric_run_ids[0]\n",
    "run_id_a = t_array_run_ids[0]"
   ]
  },
  {
   "cell_type": "code",
   "execution_count": 11,
   "metadata": {
    "scrolled": true
   },
   "outputs": [
    {
     "data": {
      "text/plain": [
       "{'x1': {'x1': array([0.27983923, 0.27983923, 0.49945205, 0.49945205, 0.06052929,\n",
       "         0.06052929, 0.11348606, 0.11348606, 0.82501768, 0.82501768,\n",
       "         0.8391013 , 0.8391013 , 0.39545308, 0.39545308, 0.40936601,\n",
       "         0.40936601, 0.07536669, 0.07536669, 0.88681519, 0.88681519,\n",
       "         0.65435193, 0.65435193, 0.10231454, 0.10231454, 0.09351526,\n",
       "         0.09351526, 0.05763912, 0.05763912, 0.57240875, 0.57240875,\n",
       "         0.91436972, 0.91436972, 0.95161584, 0.95161584, 0.65889688,\n",
       "         0.65889688, 0.07280315, 0.07280315, 0.74364525, 0.74364525,\n",
       "         0.93672687, 0.93672687, 0.62818737, 0.62818737, 0.1202145 ,\n",
       "         0.1202145 , 0.69141717, 0.69141717, 0.08068681, 0.08068681,\n",
       "         0.4137982 , 0.4137982 , 0.90258937, 0.90258937, 0.83883281,\n",
       "         0.83883281, 0.8599698 , 0.8599698 , 0.90177173, 0.90177173,\n",
       "         0.43318121, 0.43318121, 0.9281565 , 0.9281565 , 0.46638483,\n",
       "         0.46638483, 0.21258023, 0.21258023, 0.71658639, 0.71658639,\n",
       "         0.20380551, 0.20380551, 0.745725  , 0.745725  , 0.09175443,\n",
       "         0.09175443, 0.67528051, 0.67528051, 0.24843521, 0.24843521,\n",
       "         0.00550858, 0.00550858, 0.47485497, 0.47485497, 0.01798118,\n",
       "         0.01798118, 0.52882852, 0.52882852, 0.55889024, 0.55889024,\n",
       "         0.8769006 , 0.8769006 , 0.43829461, 0.43829461, 0.10374481,\n",
       "         0.10374481, 0.1369326 , 0.1369326 , 0.10904718, 0.10904718,\n",
       "         0.91638906, 0.91638906, 0.15773058, 0.15773058, 0.23959156,\n",
       "         0.23959156, 0.13293361, 0.13293361, 0.57483721, 0.57483721,\n",
       "         0.91147456, 0.91147456, 0.79466797, 0.79466797, 0.44471161,\n",
       "         0.44471161, 0.59649979, 0.59649979, 0.48297871, 0.48297871,\n",
       "         0.66753263, 0.66753263, 0.81303456, 0.81303456, 0.62880551,\n",
       "         0.62880551, 0.29529168, 0.29529168, 0.33503928, 0.33503928,\n",
       "         0.75745784, 0.75745784, 0.87446078, 0.87446078, 0.12537264,\n",
       "         0.12537264, 0.09871676, 0.09871676, 0.0730767 , 0.0730767 ,\n",
       "         0.61142681, 0.61142681, 0.44457305, 0.44457305, 0.87876032,\n",
       "         0.87876032, 0.03489199, 0.03489199, 0.3064846 , 0.3064846 ,\n",
       "         0.75696401, 0.75696401, 0.56781591, 0.56781591, 0.63783732,\n",
       "         0.63783732, 0.13658961, 0.13658961, 0.50260204, 0.50260204,\n",
       "         0.38303491, 0.38303491, 0.82967084, 0.82967084, 0.57192979,\n",
       "         0.57192979, 0.11779501, 0.11779501, 0.51468209, 0.51468209,\n",
       "         0.92790229, 0.92790229, 0.16274281, 0.16274281, 0.47202144,\n",
       "         0.47202144, 0.9561826 , 0.9561826 , 0.52084612, 0.52084612,\n",
       "         0.18607645, 0.18607645, 0.77646111, 0.77646111, 0.07701198,\n",
       "         0.07701198, 0.12113472, 0.12113472, 0.55859837, 0.55859837,\n",
       "         0.88004762, 0.88004762, 0.8677839 , 0.8677839 , 0.64700982,\n",
       "         0.64700982, 0.41355289, 0.41355289, 0.34438925, 0.34438925])}}"
      ]
     },
     "execution_count": 11,
     "metadata": {},
     "output_type": "execute_result"
    }
   ],
   "source": [
    "ds = load_by_id(run_id_n)\n",
    "ds.get_parameter_data('x1')"
   ]
  },
  {
   "cell_type": "markdown",
   "metadata": {},
   "source": [
    "And a dataset stored as binary arrays"
   ]
  },
  {
   "cell_type": "code",
   "execution_count": 12,
   "metadata": {
    "scrolled": true
   },
   "outputs": [
    {
     "data": {
      "text/plain": [
       "{'x1': {'x1': array([[0.51974955],\n",
       "         [0.51974955],\n",
       "         [0.6060412 ],\n",
       "         [0.6060412 ],\n",
       "         [0.09663158],\n",
       "         [0.09663158],\n",
       "         [0.95181955],\n",
       "         [0.95181955],\n",
       "         [0.81508997],\n",
       "         [0.81508997],\n",
       "         [0.8939196 ],\n",
       "         [0.8939196 ],\n",
       "         [0.49036638],\n",
       "         [0.49036638],\n",
       "         [0.51220864],\n",
       "         [0.51220864],\n",
       "         [0.07142105],\n",
       "         [0.07142105],\n",
       "         [0.00866847],\n",
       "         [0.00866847],\n",
       "         [0.48883324],\n",
       "         [0.48883324],\n",
       "         [0.04591815],\n",
       "         [0.04591815],\n",
       "         [0.19288827],\n",
       "         [0.19288827],\n",
       "         [0.23605025],\n",
       "         [0.23605025],\n",
       "         [0.06905222],\n",
       "         [0.06905222],\n",
       "         [0.5076783 ],\n",
       "         [0.5076783 ],\n",
       "         [0.36204922],\n",
       "         [0.36204922],\n",
       "         [0.28424333],\n",
       "         [0.28424333],\n",
       "         [0.25448116],\n",
       "         [0.25448116],\n",
       "         [0.6765971 ],\n",
       "         [0.6765971 ],\n",
       "         [0.84596987],\n",
       "         [0.84596987],\n",
       "         [0.92185067],\n",
       "         [0.92185067],\n",
       "         [0.0132099 ],\n",
       "         [0.0132099 ],\n",
       "         [0.74596352],\n",
       "         [0.74596352],\n",
       "         [0.63703638],\n",
       "         [0.63703638],\n",
       "         [0.21327626],\n",
       "         [0.21327626],\n",
       "         [0.70213231],\n",
       "         [0.70213231],\n",
       "         [0.32927567],\n",
       "         [0.32927567],\n",
       "         [0.88852607],\n",
       "         [0.88852607],\n",
       "         [0.59906147],\n",
       "         [0.59906147],\n",
       "         [0.71558807],\n",
       "         [0.71558807],\n",
       "         [0.71006452],\n",
       "         [0.71006452],\n",
       "         [0.7026439 ],\n",
       "         [0.7026439 ],\n",
       "         [0.37699291],\n",
       "         [0.37699291],\n",
       "         [0.24241674],\n",
       "         [0.24241674],\n",
       "         [0.82020465],\n",
       "         [0.82020465],\n",
       "         [0.6014133 ],\n",
       "         [0.6014133 ],\n",
       "         [0.81181723],\n",
       "         [0.81181723],\n",
       "         [0.86792784],\n",
       "         [0.86792784],\n",
       "         [0.38224505],\n",
       "         [0.38224505],\n",
       "         [0.49721098],\n",
       "         [0.49721098],\n",
       "         [0.18383   ],\n",
       "         [0.18383   ],\n",
       "         [0.41540986],\n",
       "         [0.41540986],\n",
       "         [0.58942693],\n",
       "         [0.58942693],\n",
       "         [0.0367658 ],\n",
       "         [0.0367658 ],\n",
       "         [0.07647941],\n",
       "         [0.07647941],\n",
       "         [0.83821562],\n",
       "         [0.83821562],\n",
       "         [0.71284162],\n",
       "         [0.71284162],\n",
       "         [0.89384238],\n",
       "         [0.89384238],\n",
       "         [0.07050754],\n",
       "         [0.07050754],\n",
       "         [0.24826539],\n",
       "         [0.24826539],\n",
       "         [0.22261977],\n",
       "         [0.22261977],\n",
       "         [0.43939149],\n",
       "         [0.43939149],\n",
       "         [0.49993967],\n",
       "         [0.49993967],\n",
       "         [0.03445969],\n",
       "         [0.03445969],\n",
       "         [0.73154804],\n",
       "         [0.73154804],\n",
       "         [0.50589956],\n",
       "         [0.50589956],\n",
       "         [0.55311886],\n",
       "         [0.55311886],\n",
       "         [0.29729415],\n",
       "         [0.29729415],\n",
       "         [0.17659485],\n",
       "         [0.17659485],\n",
       "         [0.38696661],\n",
       "         [0.38696661],\n",
       "         [0.40407264],\n",
       "         [0.40407264],\n",
       "         [0.45000333],\n",
       "         [0.45000333],\n",
       "         [0.15354539],\n",
       "         [0.15354539],\n",
       "         [0.90084168],\n",
       "         [0.90084168],\n",
       "         [0.56766604],\n",
       "         [0.56766604],\n",
       "         [0.62750608],\n",
       "         [0.62750608],\n",
       "         [0.25820479],\n",
       "         [0.25820479],\n",
       "         [0.77496516],\n",
       "         [0.77496516],\n",
       "         [0.44526777],\n",
       "         [0.44526777],\n",
       "         [0.35937301],\n",
       "         [0.35937301],\n",
       "         [0.50225312],\n",
       "         [0.50225312],\n",
       "         [0.42807973],\n",
       "         [0.42807973],\n",
       "         [0.06257527],\n",
       "         [0.06257527],\n",
       "         [0.49631669],\n",
       "         [0.49631669],\n",
       "         [0.09899084],\n",
       "         [0.09899084],\n",
       "         [0.54296806],\n",
       "         [0.54296806],\n",
       "         [0.36716113],\n",
       "         [0.36716113],\n",
       "         [0.05434255],\n",
       "         [0.05434255],\n",
       "         [0.3533207 ],\n",
       "         [0.3533207 ],\n",
       "         [0.91540747],\n",
       "         [0.91540747],\n",
       "         [0.71259067],\n",
       "         [0.71259067],\n",
       "         [0.0825364 ],\n",
       "         [0.0825364 ],\n",
       "         [0.8043548 ],\n",
       "         [0.8043548 ],\n",
       "         [0.93560058],\n",
       "         [0.93560058],\n",
       "         [0.19920318],\n",
       "         [0.19920318],\n",
       "         [0.38615967],\n",
       "         [0.38615967],\n",
       "         [0.566504  ],\n",
       "         [0.566504  ],\n",
       "         [0.44782852],\n",
       "         [0.44782852],\n",
       "         [0.66844284],\n",
       "         [0.66844284],\n",
       "         [0.56136383],\n",
       "         [0.56136383],\n",
       "         [0.72761327],\n",
       "         [0.72761327],\n",
       "         [0.78546623],\n",
       "         [0.78546623],\n",
       "         [0.97848179],\n",
       "         [0.97848179],\n",
       "         [0.01278744],\n",
       "         [0.01278744],\n",
       "         [0.72749174],\n",
       "         [0.72749174],\n",
       "         [0.58802089],\n",
       "         [0.58802089],\n",
       "         [0.51256828],\n",
       "         [0.51256828],\n",
       "         [0.00949306],\n",
       "         [0.00949306],\n",
       "         [0.79492535],\n",
       "         [0.79492535]])}}"
      ]
     },
     "execution_count": 12,
     "metadata": {},
     "output_type": "execute_result"
    }
   ],
   "source": [
    "ds = load_by_id(run_id_a)\n",
    "ds.get_parameter_data('x1')"
   ]
  },
  {
   "cell_type": "code",
   "execution_count": null,
   "metadata": {},
   "outputs": [],
   "source": []
  }
 ],
 "metadata": {
  "kernelspec": {
   "display_name": "Python 3",
   "language": "python",
   "name": "python3"
  },
  "language_info": {
   "codemirror_mode": {
    "name": "ipython",
    "version": 3
   },
   "file_extension": ".py",
   "mimetype": "text/x-python",
   "name": "python",
   "nbconvert_exporter": "python",
   "pygments_lexer": "ipython3",
   "version": "3.7.7"
  },
  "nbsphinx": {
   "timeout": 600
  },
  "toc": {
   "base_numbering": 1,
   "nav_menu": {},
   "number_sections": true,
   "sideBar": true,
   "skip_h1_title": false,
   "title_cell": "Table of Contents",
   "title_sidebar": "Contents",
   "toc_cell": false,
   "toc_position": {},
   "toc_section_display": true,
   "toc_window_display": false
  },
  "varInspector": {
   "cols": {
    "lenName": 16,
    "lenType": 16,
    "lenVar": 40
   },
   "kernels_config": {
    "python": {
     "delete_cmd_postfix": "",
     "delete_cmd_prefix": "del ",
     "library": "var_list.py",
     "varRefreshCmd": "print(var_dic_list())"
    },
    "r": {
     "delete_cmd_postfix": ") ",
     "delete_cmd_prefix": "rm(",
     "library": "var_list.r",
     "varRefreshCmd": "cat(var_dic_list()) "
    }
   },
   "types_to_exclude": [
    "module",
    "function",
    "builtin_function_or_method",
    "instance",
    "_Feature"
   ],
   "window_display": false
  }
 },
 "nbformat": 4,
 "nbformat_minor": 2
}
