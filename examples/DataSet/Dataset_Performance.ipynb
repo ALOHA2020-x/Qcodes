{
 "cells": [
  {
   "cell_type": "markdown",
   "metadata": {},
   "source": [
    "# DataSet Performance\n",
    "\n",
    "This notebook shows the trade-off between inserting data into a database row-by-row and as binary blobs. Inserting the data row-by-row means that we have direct access to all the data and may perform queries directly on the values of the data. On the other hand, as we shall see, this is much slower than inserting the data directly as binary blobs."
   ]
  },
  {
   "cell_type": "markdown",
   "metadata": {},
   "source": [
    "First, we choose a new location for the database to ensure that we don't add a bunch of benchmarking data to the default one."
   ]
  },
  {
   "cell_type": "code",
   "execution_count": 1,
   "metadata": {
    "execution": {
     "iopub.execute_input": "2020-11-24T11:25:21.899681Z",
     "iopub.status.busy": "2020-11-24T11:25:21.899112Z",
     "iopub.status.idle": "2020-11-24T11:25:22.918243Z",
     "shell.execute_reply": "2020-11-24T11:25:22.917309Z"
    }
   },
   "outputs": [
    {
     "name": "stdout",
     "output_type": "stream",
     "text": [
      "Logging hadn't been started.\n",
      "Activating auto-logging. Current session state plus future input saved.\n",
      "Filename       : /home/vsts/.qcodes/logs/command_history.log\n",
      "Mode           : append\n",
      "Output logging : True\n",
      "Raw input log  : False\n",
      "Timestamping   : True\n",
      "State          : active\n"
     ]
    },
    {
     "name": "stdout",
     "output_type": "stream",
     "text": [
      "Qcodes Logfile : /home/vsts/.qcodes/logs/201124-14376-qcodes.log\n"
     ]
    }
   ],
   "source": [
    "import os\n",
    "cwd = os.getcwd()\n",
    "import qcodes as qc\n",
    "qc.config[\"core\"][\"db_location\"] = os.path.join(cwd, 'testing.db')\n"
   ]
  },
  {
   "cell_type": "code",
   "execution_count": 2,
   "metadata": {
    "execution": {
     "iopub.execute_input": "2020-11-24T11:25:22.924555Z",
     "iopub.status.busy": "2020-11-24T11:25:22.924051Z",
     "iopub.status.idle": "2020-11-24T11:25:23.103625Z",
     "shell.execute_reply": "2020-11-24T11:25:23.103058Z"
    }
   },
   "outputs": [],
   "source": [
    "%matplotlib inline\n",
    "import time\n",
    "import matplotlib.pyplot as plt\n",
    "import numpy as np\n",
    "\n",
    "import qcodes as qc\n",
    "from qcodes.instrument.parameter import ManualParameter\n",
    "from qcodes.dataset.experiment_container import (Experiment,\n",
    "                                                 load_last_experiment,\n",
    "                                                 new_experiment)\n",
    "from qcodes.dataset.sqlite.database import initialise_database\n",
    "from qcodes import load_or_create_experiment\n",
    "from qcodes.dataset.measurements import Measurement"
   ]
  },
  {
   "cell_type": "code",
   "execution_count": 3,
   "metadata": {
    "execution": {
     "iopub.execute_input": "2020-11-24T11:25:23.107625Z",
     "iopub.status.busy": "2020-11-24T11:25:23.107022Z",
     "iopub.status.idle": "2020-11-24T11:25:23.223355Z",
     "shell.execute_reply": "2020-11-24T11:25:23.223926Z"
    }
   },
   "outputs": [
    {
     "name": "stdout",
     "output_type": "stream",
     "text": [
      "\r",
      "0it [00:00, ?it/s]"
     ]
    },
    {
     "name": "stdout",
     "output_type": "stream",
     "text": [
      "\r",
      "Upgrading database; v0 -> v1: : 0it [00:00, ?it/s]"
     ]
    },
    {
     "name": "stdout",
     "output_type": "stream",
     "text": [
      "\r",
      "Upgrading database; v0 -> v1: : 0it [00:00, ?it/s]"
     ]
    },
    {
     "name": "stdout",
     "output_type": "stream",
     "text": [
      "\n",
      "\r",
      "  0%|          | 0/1 [00:00<?, ?it/s]"
     ]
    },
    {
     "name": "stdout",
     "output_type": "stream",
     "text": [
      "\r",
      "Upgrading database; v1 -> v2:   0%|          | 0/1 [00:00<?, ?it/s]"
     ]
    },
    {
     "name": "stdout",
     "output_type": "stream",
     "text": [
      "\r",
      "Upgrading database; v1 -> v2: 100%|██████████| 1/1 [00:00<00:00, 637.24it/s]"
     ]
    },
    {
     "name": "stdout",
     "output_type": "stream",
     "text": [
      "\n",
      "\r",
      "0it [00:00, ?it/s]"
     ]
    },
    {
     "name": "stdout",
     "output_type": "stream",
     "text": [
      "\r",
      "Upgrading database; v2 -> v3: : 0it [00:00, ?it/s]"
     ]
    },
    {
     "name": "stdout",
     "output_type": "stream",
     "text": [
      "\r",
      "Upgrading database; v2 -> v3: : 0it [00:00, ?it/s]"
     ]
    },
    {
     "name": "stdout",
     "output_type": "stream",
     "text": [
      "\n",
      "\r",
      "0it [00:00, ?it/s]"
     ]
    },
    {
     "name": "stdout",
     "output_type": "stream",
     "text": [
      "\r",
      "Upgrading database; v3 -> v4: : 0it [00:00, ?it/s]"
     ]
    },
    {
     "name": "stdout",
     "output_type": "stream",
     "text": [
      "\r",
      "Upgrading database; v3 -> v4: : 0it [00:00, ?it/s]"
     ]
    },
    {
     "name": "stdout",
     "output_type": "stream",
     "text": [
      "\n",
      "\r",
      "  0%|          | 0/1 [00:00<?, ?it/s]"
     ]
    },
    {
     "name": "stdout",
     "output_type": "stream",
     "text": [
      "\r",
      "Upgrading database; v4 -> v5:   0%|          | 0/1 [00:00<?, ?it/s]"
     ]
    },
    {
     "name": "stdout",
     "output_type": "stream",
     "text": [
      "\r",
      "Upgrading database; v4 -> v5: 100%|██████████| 1/1 [00:00<00:00, 974.51it/s]"
     ]
    },
    {
     "name": "stdout",
     "output_type": "stream",
     "text": [
      "\n",
      "\r",
      "0it [00:00, ?it/s]"
     ]
    },
    {
     "name": "stdout",
     "output_type": "stream",
     "text": [
      "\r",
      "Upgrading database; v5 -> v6: : 0it [00:00, ?it/s]"
     ]
    },
    {
     "name": "stdout",
     "output_type": "stream",
     "text": [
      "\r",
      "Upgrading database; v5 -> v6: : 0it [00:00, ?it/s]"
     ]
    },
    {
     "name": "stdout",
     "output_type": "stream",
     "text": [
      "\n",
      "\r",
      "  0%|          | 0/1 [00:00<?, ?it/s]"
     ]
    },
    {
     "name": "stdout",
     "output_type": "stream",
     "text": [
      "\r",
      "Upgrading database; v6 -> v7:   0%|          | 0/1 [00:00<?, ?it/s]"
     ]
    },
    {
     "name": "stdout",
     "output_type": "stream",
     "text": [
      "\r",
      "Upgrading database; v6 -> v7: 100%|██████████| 1/1 [00:00<00:00, 229.41it/s]"
     ]
    },
    {
     "name": "stdout",
     "output_type": "stream",
     "text": [
      "\n",
      "\r",
      "  0%|          | 0/1 [00:00<?, ?it/s]"
     ]
    },
    {
     "name": "stdout",
     "output_type": "stream",
     "text": [
      "\r",
      "Upgrading database; v7 -> v8:   0%|          | 0/1 [00:00<?, ?it/s]"
     ]
    },
    {
     "name": "stdout",
     "output_type": "stream",
     "text": [
      "\r",
      "Upgrading database; v7 -> v8: 100%|██████████| 1/1 [00:00<00:00, 416.14it/s]"
     ]
    },
    {
     "name": "stdout",
     "output_type": "stream",
     "text": [
      "\n",
      "\r",
      "  0%|          | 0/1 [00:00<?, ?it/s]"
     ]
    },
    {
     "name": "stdout",
     "output_type": "stream",
     "text": [
      "\r",
      "Upgrading database; v8 -> v9:   0%|          | 0/1 [00:00<?, ?it/s]"
     ]
    },
    {
     "name": "stdout",
     "output_type": "stream",
     "text": [
      "\r",
      "Upgrading database; v8 -> v9: 100%|██████████| 1/1 [00:00<00:00, 739.21it/s]"
     ]
    },
    {
     "name": "stdout",
     "output_type": "stream",
     "text": [
      "\n"
     ]
    }
   ],
   "source": [
    "initialise_database()\n",
    "exp = load_or_create_experiment(experiment_name='tutorial_exp', sample_name=\"no sample\")"
   ]
  },
  {
   "cell_type": "markdown",
   "metadata": {},
   "source": [
    "Here, we define a simple function to benchmark the time it takes to insert n points with either numeric or array data type.\n",
    "We will compare both the time used to call ``add_result`` and the time used for the full measurement."
   ]
  },
  {
   "cell_type": "code",
   "execution_count": 4,
   "metadata": {
    "execution": {
     "iopub.execute_input": "2020-11-24T11:25:23.230332Z",
     "iopub.status.busy": "2020-11-24T11:25:23.229607Z",
     "iopub.status.idle": "2020-11-24T11:25:23.233546Z",
     "shell.execute_reply": "2020-11-24T11:25:23.233022Z"
    }
   },
   "outputs": [],
   "source": [
    "def insert_data(paramtype, npoints, nreps=1):\n",
    "\n",
    "    meas = Measurement(exp=exp)\n",
    "\n",
    "    x1 = ManualParameter('x1')\n",
    "    x2 = ManualParameter('x2')\n",
    "    x3 = ManualParameter('x3')\n",
    "    y1 = ManualParameter('y1')\n",
    "    y2 = ManualParameter('y2')\n",
    "\n",
    "    meas.register_parameter(x1, paramtype=paramtype)\n",
    "    meas.register_parameter(x2, paramtype=paramtype)\n",
    "    meas.register_parameter(x3, paramtype=paramtype)\n",
    "    meas.register_parameter(y1, setpoints=[x1, x2, x3],\n",
    "                            paramtype=paramtype)\n",
    "    meas.register_parameter(y2, setpoints=[x1, x2, x3],\n",
    "                            paramtype=paramtype)\n",
    "    start = time.perf_counter()\n",
    "    with meas.run() as datasaver:\n",
    "        start_adding = time.perf_counter()\n",
    "        for i in range(nreps):\n",
    "            datasaver.add_result((x1, np.random.rand(npoints)),\n",
    "                                 (x2, np.random.rand(npoints)),\n",
    "                                 (x3, np.random.rand(npoints)),\n",
    "                                 (y1, np.random.rand(npoints)),\n",
    "                                 (y2, np.random.rand(npoints)))\n",
    "        stop_adding = time.perf_counter()\n",
    "        run_id = datasaver.run_id\n",
    "    stop = time.perf_counter()\n",
    "    tot_time = stop - start\n",
    "    add_time = stop_adding - start_adding\n",
    "    return tot_time, add_time, run_id"
   ]
  },
  {
   "cell_type": "markdown",
   "metadata": {},
   "source": [
    "## Comparison between numeric/array data and binary blob"
   ]
  },
  {
   "cell_type": "markdown",
   "metadata": {},
   "source": [
    "### Case1: Short experiment time"
   ]
  },
  {
   "cell_type": "code",
   "execution_count": 5,
   "metadata": {
    "execution": {
     "iopub.execute_input": "2020-11-24T11:25:23.239434Z",
     "iopub.status.busy": "2020-11-24T11:25:23.238250Z",
     "iopub.status.idle": "2020-11-24T11:25:24.094625Z",
     "shell.execute_reply": "2020-11-24T11:25:24.093833Z"
    }
   },
   "outputs": [
    {
     "name": "stdout",
     "output_type": "stream",
     "text": [
      "Starting experimental run with id: 1. \n",
      "Starting experimental run with id: 2. \n",
      "Starting experimental run with id: 3. \n",
      "Starting experimental run with id: 4. \n",
      "Starting experimental run with id: 5. \n"
     ]
    },
    {
     "name": "stdout",
     "output_type": "stream",
     "text": [
      "Starting experimental run with id: 6. \n"
     ]
    },
    {
     "name": "stdout",
     "output_type": "stream",
     "text": [
      "Starting experimental run with id: 7. \n"
     ]
    },
    {
     "name": "stdout",
     "output_type": "stream",
     "text": [
      "Starting experimental run with id: 8. \n",
      "Starting experimental run with id: 9. \n"
     ]
    },
    {
     "name": "stdout",
     "output_type": "stream",
     "text": [
      "Starting experimental run with id: 10. \n",
      "Starting experimental run with id: 11. \n"
     ]
    },
    {
     "name": "stdout",
     "output_type": "stream",
     "text": [
      "Starting experimental run with id: 12. \n",
      "Starting experimental run with id: 13. \n"
     ]
    },
    {
     "name": "stdout",
     "output_type": "stream",
     "text": [
      "Starting experimental run with id: 14. \n"
     ]
    }
   ],
   "source": [
    "sizes = [1,500,1000,2000,3000,4000,5000]\n",
    "t_numeric = []\n",
    "t_numeric_add = []\n",
    "t_array = []\n",
    "t_array_add = []\n",
    "for size in sizes:\n",
    "    tn, tna, run_id_n =  insert_data('numeric', size)\n",
    "    t_numeric.append(tn)\n",
    "    t_numeric_add.append(tna)\n",
    "\n",
    "    ta, taa, run_id_a =  insert_data('array', size)\n",
    "    t_array.append(ta)\n",
    "    t_array_add.append(taa)"
   ]
  },
  {
   "cell_type": "code",
   "execution_count": 6,
   "metadata": {
    "execution": {
     "iopub.execute_input": "2020-11-24T11:25:24.111807Z",
     "iopub.status.busy": "2020-11-24T11:25:24.111247Z",
     "iopub.status.idle": "2020-11-24T11:25:24.291295Z",
     "shell.execute_reply": "2020-11-24T11:25:24.292086Z"
    }
   },
   "outputs": [
    {
     "data": {
      "image/png": "[encoded data removed]",
      "text/plain": [
       "<Figure size 432x288 with 1 Axes>"
      ]
     },
     "metadata": {
      "needs_background": "light"
     },
     "output_type": "display_data"
    }
   ],
   "source": [
    "fig, ax = plt.subplots(1,1)\n",
    "ax.plot(sizes, t_numeric, 'o-', label='Inserting row-by-row')\n",
    "ax.plot(sizes, t_numeric_add, 'o-', label='Inserting row-by-row: add_result only')\n",
    "ax.plot(sizes, t_array, 'd-', label='Inserting as binary blob')\n",
    "ax.plot(sizes, t_array_add, 'd-', label='Inserting as binary blob: add_result only')\n",
    "ax.legend()\n",
    "ax.set_xlabel('Array length')\n",
    "ax.set_ylabel('Time (s)')\n",
    "fig.tight_layout()"
   ]
  },
  {
   "cell_type": "markdown",
   "metadata": {},
   "source": [
    "As shown in the latter figure, the time to setup and and close the experiment is approximately 0.4 sec. In case of small array sizes, the difference between inserting values of data as arrays and inserting them row-by-row is relatively unimportant. At larger array sizes, i.e. above 10000 points, the cost of writing data as individual datapoints starts to become important.\n"
   ]
  },
  {
   "cell_type": "markdown",
   "metadata": {},
   "source": [
    "### Case2: Long experiment time "
   ]
  },
  {
   "cell_type": "code",
   "execution_count": 7,
   "metadata": {
    "execution": {
     "iopub.execute_input": "2020-11-24T11:25:24.299307Z",
     "iopub.status.busy": "2020-11-24T11:25:24.294600Z",
     "iopub.status.idle": "2020-11-24T11:26:21.721772Z",
     "shell.execute_reply": "2020-11-24T11:26:21.720670Z"
    }
   },
   "outputs": [
    {
     "name": "stdout",
     "output_type": "stream",
     "text": [
      "Starting experimental run with id: 15. \n",
      "Starting experimental run with id: 16. \n",
      "Starting experimental run with id: 17. \n"
     ]
    },
    {
     "name": "stdout",
     "output_type": "stream",
     "text": [
      "Starting experimental run with id: 18. \n",
      "Starting experimental run with id: 19. \n"
     ]
    },
    {
     "name": "stdout",
     "output_type": "stream",
     "text": [
      "Starting experimental run with id: 20. \n"
     ]
    },
    {
     "name": "stdout",
     "output_type": "stream",
     "text": [
      "Starting experimental run with id: 21. \n"
     ]
    },
    {
     "name": "stdout",
     "output_type": "stream",
     "text": [
      "Starting experimental run with id: 22. \n"
     ]
    },
    {
     "name": "stdout",
     "output_type": "stream",
     "text": [
      "Starting experimental run with id: 23. \n"
     ]
    },
    {
     "name": "stdout",
     "output_type": "stream",
     "text": [
      "Starting experimental run with id: 24. \n"
     ]
    },
    {
     "name": "stdout",
     "output_type": "stream",
     "text": [
      "Starting experimental run with id: 25. \n"
     ]
    },
    {
     "name": "stdout",
     "output_type": "stream",
     "text": [
      "Starting experimental run with id: 26. \n"
     ]
    },
    {
     "name": "stdout",
     "output_type": "stream",
     "text": [
      "Starting experimental run with id: 27. \n"
     ]
    },
    {
     "name": "stdout",
     "output_type": "stream",
     "text": [
      "Starting experimental run with id: 28. \n"
     ]
    }
   ],
   "source": [
    "sizes = [1,500,1000,2000,3000,4000,5000]\n",
    "nreps = 100\n",
    "t_numeric = []\n",
    "t_numeric_add = []\n",
    "t_numeric_run_ids = []\n",
    "t_array = []\n",
    "t_array_add = []\n",
    "t_array_run_ids = []\n",
    "for size in sizes:\n",
    "    tn, tna, run_id_n =  insert_data('numeric', size, nreps=nreps)\n",
    "    t_numeric.append(tn)\n",
    "    t_numeric_add.append(tna)\n",
    "    t_numeric_run_ids.append(run_id_n)\n",
    "\n",
    "    ta, taa, run_id_a =  insert_data('array', size, nreps=nreps)\n",
    "    t_array.append(ta)\n",
    "    t_array_add.append(taa)\n",
    "    t_array_run_ids.append(run_id_a)"
   ]
  },
  {
   "cell_type": "code",
   "execution_count": 8,
   "metadata": {
    "execution": {
     "iopub.execute_input": "2020-11-24T11:26:21.759468Z",
     "iopub.status.busy": "2020-11-24T11:26:21.749283Z",
     "iopub.status.idle": "2020-11-24T11:26:21.915772Z",
     "shell.execute_reply": "2020-11-24T11:26:21.916169Z"
    },
    "scrolled": true
   },
   "outputs": [
    {
     "data": {
      "image/png": "[encoded data removed]",
      "text/plain": [
       "<Figure size 432x288 with 1 Axes>"
      ]
     },
     "metadata": {
      "needs_background": "light"
     },
     "output_type": "display_data"
    }
   ],
   "source": [
    "fig, ax = plt.subplots(1,1)\n",
    "ax.plot(sizes, t_numeric, 'o-', label='Inserting row-by-row')\n",
    "ax.plot(sizes, t_numeric_add, 'o-', label='Inserting row-by-row: add_result only')\n",
    "ax.plot(sizes, t_array, 'd-', label='Inserting as binary blob')\n",
    "ax.plot(sizes, t_array_add, 'd-', label='Inserting as binary blob: add_result only')\n",
    "ax.legend()\n",
    "ax.set_xlabel('Array length')\n",
    "ax.set_ylabel('Time (s)')\n",
    "fig.tight_layout()"
   ]
  },
  {
   "cell_type": "markdown",
   "metadata": {},
   "source": [
    "However, as we increase the length of the experiment, as seen here by repeating the insertion 100 times, we see a big difference between inserting values of the data row-by-row and inserting it as a binary blob."
   ]
  },
  {
   "cell_type": "markdown",
   "metadata": {},
   "source": [
    "## Loading the data "
   ]
  },
  {
   "cell_type": "code",
   "execution_count": 9,
   "metadata": {
    "execution": {
     "iopub.execute_input": "2020-11-24T11:26:21.922482Z",
     "iopub.status.busy": "2020-11-24T11:26:21.920906Z",
     "iopub.status.idle": "2020-11-24T11:26:21.927294Z",
     "shell.execute_reply": "2020-11-24T11:26:21.927813Z"
    }
   },
   "outputs": [],
   "source": [
    "from qcodes.dataset.data_set import load_by_id\n",
    "from qcodes.dataset.data_export import get_data_by_id"
   ]
  },
  {
   "cell_type": "markdown",
   "metadata": {},
   "source": [
    "As usual you can load the data by using the ``load_by_id`` function but you will notice that the different storage methods\n",
    "are reflected in shape of the data as it is retrieved. "
   ]
  },
  {
   "cell_type": "code",
   "execution_count": 10,
   "metadata": {
    "execution": {
     "iopub.execute_input": "2020-11-24T11:26:21.931463Z",
     "iopub.status.busy": "2020-11-24T11:26:21.930572Z",
     "iopub.status.idle": "2020-11-24T11:26:21.934674Z",
     "shell.execute_reply": "2020-11-24T11:26:21.934212Z"
    }
   },
   "outputs": [],
   "source": [
    "run_id_n = t_numeric_run_ids[0]\n",
    "run_id_a = t_array_run_ids[0]"
   ]
  },
  {
   "cell_type": "code",
   "execution_count": 11,
   "metadata": {
    "execution": {
     "iopub.execute_input": "2020-11-24T11:26:21.937621Z",
     "iopub.status.busy": "2020-11-24T11:26:21.937168Z",
     "iopub.status.idle": "2020-11-24T11:26:21.945879Z",
     "shell.execute_reply": "2020-11-24T11:26:21.946413Z"
    },
    "scrolled": true
   },
   "outputs": [
    {
     "data": {
      "text/plain": [
       "{'x1': {'x1': array([0.80912945, 0.80912945, 0.81446428, 0.81446428, 0.12314054,\n",
       "         0.12314054, 0.65372087, 0.65372087, 0.00993563, 0.00993563,\n",
       "         0.10835725, 0.10835725, 0.3026452 , 0.3026452 , 0.85399727,\n",
       "         0.85399727, 0.40430018, 0.40430018, 0.87053828, 0.87053828,\n",
       "         0.2394744 , 0.2394744 , 0.25357925, 0.25357925, 0.23190486,\n",
       "         0.23190486, 0.97925063, 0.97925063, 0.95862575, 0.95862575,\n",
       "         0.53817195, 0.53817195, 0.256944  , 0.256944  , 0.25921361,\n",
       "         0.25921361, 0.6933914 , 0.6933914 , 0.06605476, 0.06605476,\n",
       "         0.25259756, 0.25259756, 0.99675619, 0.99675619, 0.62695034,\n",
       "         0.62695034, 0.78797518, 0.78797518, 0.17230859, 0.17230859,\n",
       "         0.09621725, 0.09621725, 0.64779046, 0.64779046, 0.81201116,\n",
       "         0.81201116, 0.56473988, 0.56473988, 0.17822453, 0.17822453,\n",
       "         0.45838068, 0.45838068, 0.37432877, 0.37432877, 0.50216734,\n",
       "         0.50216734, 0.66423692, 0.66423692, 0.08972977, 0.08972977,\n",
       "         0.73951481, 0.73951481, 0.08829495, 0.08829495, 0.68592359,\n",
       "         0.68592359, 0.01231237, 0.01231237, 0.99122113, 0.99122113,\n",
       "         0.14692807, 0.14692807, 0.55875869, 0.55875869, 0.02481355,\n",
       "         0.02481355, 0.19609544, 0.19609544, 0.29087422, 0.29087422,\n",
       "         0.95662295, 0.95662295, 0.91461332, 0.91461332, 0.09609641,\n",
       "         0.09609641, 0.52083576, 0.52083576, 0.67609828, 0.67609828,\n",
       "         0.36103169, 0.36103169, 0.44181905, 0.44181905, 0.02387553,\n",
       "         0.02387553, 0.31259361, 0.31259361, 0.87177316, 0.87177316,\n",
       "         0.34093181, 0.34093181, 0.27738806, 0.27738806, 0.00947233,\n",
       "         0.00947233, 0.94031507, 0.94031507, 0.95580349, 0.95580349,\n",
       "         0.94917343, 0.94917343, 0.10983474, 0.10983474, 0.02802374,\n",
       "         0.02802374, 0.58120852, 0.58120852, 0.68626638, 0.68626638,\n",
       "         0.28896878, 0.28896878, 0.74029346, 0.74029346, 0.9811945 ,\n",
       "         0.9811945 , 0.31253636, 0.31253636, 0.36281533, 0.36281533,\n",
       "         0.80392779, 0.80392779, 0.78291721, 0.78291721, 0.97039758,\n",
       "         0.97039758, 0.46922412, 0.46922412, 0.12704074, 0.12704074,\n",
       "         0.01030474, 0.01030474, 0.51242891, 0.51242891, 0.37803632,\n",
       "         0.37803632, 0.92001589, 0.92001589, 0.26820292, 0.26820292,\n",
       "         0.2757527 , 0.2757527 , 0.04092441, 0.04092441, 0.08394046,\n",
       "         0.08394046, 0.02488052, 0.02488052, 0.11653622, 0.11653622,\n",
       "         0.01947211, 0.01947211, 0.13899432, 0.13899432, 0.42841322,\n",
       "         0.42841322, 0.87351346, 0.87351346, 0.64260119, 0.64260119,\n",
       "         0.50726338, 0.50726338, 0.06139885, 0.06139885, 0.13833363,\n",
       "         0.13833363, 0.75356736, 0.75356736, 0.03393896, 0.03393896,\n",
       "         0.63495939, 0.63495939, 0.54302753, 0.54302753, 0.76914809,\n",
       "         0.76914809, 0.6855424 , 0.6855424 , 0.91994254, 0.91994254])}}"
      ]
     },
     "execution_count": 1,
     "metadata": {},
     "output_type": "execute_result"
    }
   ],
   "source": [
    "ds = load_by_id(run_id_n)\n",
    "ds.get_parameter_data('x1')"
   ]
  },
  {
   "cell_type": "markdown",
   "metadata": {},
   "source": [
    "And a dataset stored as binary arrays"
   ]
  },
  {
   "cell_type": "code",
   "execution_count": 12,
   "metadata": {
    "execution": {
     "iopub.execute_input": "2020-11-24T11:26:21.949874Z",
     "iopub.status.busy": "2020-11-24T11:26:21.949268Z",
     "iopub.status.idle": "2020-11-24T11:26:21.998520Z",
     "shell.execute_reply": "2020-11-24T11:26:21.999200Z"
    },
    "scrolled": true
   },
   "outputs": [
    {
     "data": {
      "text/plain": [
       "{'x1': {'x1': array([[0.05894397],\n",
       "         [0.05894397],\n",
       "         [0.34046537],\n",
       "         [0.34046537],\n",
       "         [0.75890417],\n",
       "         [0.75890417],\n",
       "         [0.48252748],\n",
       "         [0.48252748],\n",
       "         [0.55867022],\n",
       "         [0.55867022],\n",
       "         [0.64089255],\n",
       "         [0.64089255],\n",
       "         [0.59326431],\n",
       "         [0.59326431],\n",
       "         [0.97293386],\n",
       "         [0.97293386],\n",
       "         [0.34353546],\n",
       "         [0.34353546],\n",
       "         [0.09536226],\n",
       "         [0.09536226],\n",
       "         [0.4621285 ],\n",
       "         [0.4621285 ],\n",
       "         [0.5379641 ],\n",
       "         [0.5379641 ],\n",
       "         [0.87855919],\n",
       "         [0.87855919],\n",
       "         [0.87273535],\n",
       "         [0.87273535],\n",
       "         [0.50541671],\n",
       "         [0.50541671],\n",
       "         [0.53832416],\n",
       "         [0.53832416],\n",
       "         [0.58054988],\n",
       "         [0.58054988],\n",
       "         [0.15051526],\n",
       "         [0.15051526],\n",
       "         [0.73690714],\n",
       "         [0.73690714],\n",
       "         [0.45591624],\n",
       "         [0.45591624],\n",
       "         [0.22323164],\n",
       "         [0.22323164],\n",
       "         [0.52674263],\n",
       "         [0.52674263],\n",
       "         [0.7408544 ],\n",
       "         [0.7408544 ],\n",
       "         [0.84047055],\n",
       "         [0.84047055],\n",
       "         [0.24176118],\n",
       "         [0.24176118],\n",
       "         [0.26894838],\n",
       "         [0.26894838],\n",
       "         [0.4411324 ],\n",
       "         [0.4411324 ],\n",
       "         [0.52743841],\n",
       "         [0.52743841],\n",
       "         [0.93475765],\n",
       "         [0.93475765],\n",
       "         [0.19442744],\n",
       "         [0.19442744],\n",
       "         [0.37433563],\n",
       "         [0.37433563],\n",
       "         [0.05813088],\n",
       "         [0.05813088],\n",
       "         [0.84782939],\n",
       "         [0.84782939],\n",
       "         [0.89588142],\n",
       "         [0.89588142],\n",
       "         [0.93428942],\n",
       "         [0.93428942],\n",
       "         [0.04378565],\n",
       "         [0.04378565],\n",
       "         [0.54121272],\n",
       "         [0.54121272],\n",
       "         [0.04148944],\n",
       "         [0.04148944],\n",
       "         [0.60165121],\n",
       "         [0.60165121],\n",
       "         [0.97738432],\n",
       "         [0.97738432],\n",
       "         [0.01403295],\n",
       "         [0.01403295],\n",
       "         [0.67460022],\n",
       "         [0.67460022],\n",
       "         [0.66854776],\n",
       "         [0.66854776],\n",
       "         [0.14138019],\n",
       "         [0.14138019],\n",
       "         [0.40891151],\n",
       "         [0.40891151],\n",
       "         [0.63543697],\n",
       "         [0.63543697],\n",
       "         [0.49094768],\n",
       "         [0.49094768],\n",
       "         [0.71335578],\n",
       "         [0.71335578],\n",
       "         [0.82465814],\n",
       "         [0.82465814],\n",
       "         [0.55732725],\n",
       "         [0.55732725],\n",
       "         [0.19493918],\n",
       "         [0.19493918],\n",
       "         [0.8190597 ],\n",
       "         [0.8190597 ],\n",
       "         [0.12203911],\n",
       "         [0.12203911],\n",
       "         [0.93025009],\n",
       "         [0.93025009],\n",
       "         [0.63764946],\n",
       "         [0.63764946],\n",
       "         [0.31238404],\n",
       "         [0.31238404],\n",
       "         [0.79860437],\n",
       "         [0.79860437],\n",
       "         [0.63510433],\n",
       "         [0.63510433],\n",
       "         [0.18952308],\n",
       "         [0.18952308],\n",
       "         [0.72283195],\n",
       "         [0.72283195],\n",
       "         [0.97415688],\n",
       "         [0.97415688],\n",
       "         [0.21545285],\n",
       "         [0.21545285],\n",
       "         [0.72292542],\n",
       "         [0.72292542],\n",
       "         [0.20324767],\n",
       "         [0.20324767],\n",
       "         [0.51885306],\n",
       "         [0.51885306],\n",
       "         [0.21818959],\n",
       "         [0.21818959],\n",
       "         [0.52841298],\n",
       "         [0.52841298],\n",
       "         [0.02844561],\n",
       "         [0.02844561],\n",
       "         [0.94713   ],\n",
       "         [0.94713   ],\n",
       "         [0.02552204],\n",
       "         [0.02552204],\n",
       "         [0.20997768],\n",
       "         [0.20997768],\n",
       "         [0.28417036],\n",
       "         [0.28417036],\n",
       "         [0.05072892],\n",
       "         [0.05072892],\n",
       "         [0.47547701],\n",
       "         [0.47547701],\n",
       "         [0.10830046],\n",
       "         [0.10830046],\n",
       "         [0.05210697],\n",
       "         [0.05210697],\n",
       "         [0.89135116],\n",
       "         [0.89135116],\n",
       "         [0.18013491],\n",
       "         [0.18013491],\n",
       "         [0.19706923],\n",
       "         [0.19706923],\n",
       "         [0.39105674],\n",
       "         [0.39105674],\n",
       "         [0.50079542],\n",
       "         [0.50079542],\n",
       "         [0.98010815],\n",
       "         [0.98010815],\n",
       "         [0.70897088],\n",
       "         [0.70897088],\n",
       "         [0.93185241],\n",
       "         [0.93185241],\n",
       "         [0.71825886],\n",
       "         [0.71825886],\n",
       "         [0.45517854],\n",
       "         [0.45517854],\n",
       "         [0.40712441],\n",
       "         [0.40712441],\n",
       "         [0.95187506],\n",
       "         [0.95187506],\n",
       "         [0.3159572 ],\n",
       "         [0.3159572 ],\n",
       "         [0.6170748 ],\n",
       "         [0.6170748 ],\n",
       "         [0.31467935],\n",
       "         [0.31467935],\n",
       "         [0.67659463],\n",
       "         [0.67659463],\n",
       "         [0.54075338],\n",
       "         [0.54075338],\n",
       "         [0.69760141],\n",
       "         [0.69760141],\n",
       "         [0.26778498],\n",
       "         [0.26778498],\n",
       "         [0.08599416],\n",
       "         [0.08599416],\n",
       "         [0.40590434],\n",
       "         [0.40590434],\n",
       "         [0.66705323],\n",
       "         [0.66705323],\n",
       "         [0.92435064],\n",
       "         [0.92435064],\n",
       "         [0.63883463],\n",
       "         [0.63883463]])}}"
      ]
     },
     "execution_count": 1,
     "metadata": {},
     "output_type": "execute_result"
    }
   ],
   "source": [
    "ds = load_by_id(run_id_a)\n",
    "ds.get_parameter_data('x1')"
   ]
  },
  {
   "cell_type": "code",
   "execution_count": null,
   "metadata": {},
   "outputs": [],
   "source": []
  }
 ],
 "metadata": {
  "kernelspec": {
   "display_name": "Python 3",
   "language": "python",
   "name": "python3"
  },
  "language_info": {
   "codemirror_mode": {
    "name": "ipython",
    "version": 3
   },
   "file_extension": ".py",
   "mimetype": "text/x-python",
   "name": "python",
   "nbconvert_exporter": "python",
   "pygments_lexer": "ipython3",
   "version": "3.7.9"
  },
  "nbsphinx": {
   "timeout": 600
  },
  "toc": {
   "base_numbering": 1,
   "nav_menu": {},
   "number_sections": true,
   "sideBar": true,
   "skip_h1_title": false,
   "title_cell": "Table of Contents",
   "title_sidebar": "Contents",
   "toc_cell": false,
   "toc_position": {},
   "toc_section_display": true,
   "toc_window_display": false
  },
  "varInspector": {
   "cols": {
    "lenName": 16,
    "lenType": 16,
    "lenVar": 40
   },
   "kernels_config": {
    "python": {
     "delete_cmd_postfix": "",
     "delete_cmd_prefix": "del ",
     "library": "var_list.py",
     "varRefreshCmd": "print(var_dic_list())"
    },
    "r": {
     "delete_cmd_postfix": ") ",
     "delete_cmd_prefix": "rm(",
     "library": "var_list.r",
     "varRefreshCmd": "cat(var_dic_list()) "
    }
   },
   "types_to_exclude": [
    "module",
    "function",
    "builtin_function_or_method",
    "instance",
    "_Feature"
   ],
   "window_display": false
  }
 },
 "nbformat": 4,
 "nbformat_minor": 2
}
