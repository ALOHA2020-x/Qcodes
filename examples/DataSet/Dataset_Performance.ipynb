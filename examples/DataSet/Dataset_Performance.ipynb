{
 "cells": [
  {
   "cell_type": "markdown",
   "metadata": {},
   "source": [
    "# DataSet Performance\n",
    "\n",
    "This notebook shows the trade-off between inserting data into a database row-by-row and as binary blobs. Inserting the data row-by-row means that we have direct access to all the data and may perform queries directly on the values of the data. On the other hand, as we shall see, this is much slower than inserting the data directly as binary blobs."
   ]
  },
  {
   "cell_type": "markdown",
   "metadata": {},
   "source": [
    "First, we choose a new location for the database to ensure that we don't add a bunch of benchmarking data to the default one."
   ]
  },
  {
   "cell_type": "code",
   "execution_count": 1,
   "metadata": {
    "execution": {
     "iopub.execute_input": "2020-10-13T20:25:13.696053Z",
     "iopub.status.busy": "2020-10-13T20:25:13.695094Z",
     "iopub.status.idle": "2020-10-13T20:25:14.738908Z",
     "shell.execute_reply": "2020-10-13T20:25:14.738159Z"
    }
   },
   "outputs": [
    {
     "name": "stdout",
     "output_type": "stream",
     "text": [
      "Logging hadn't been started.\n",
      "Activating auto-logging. Current session state plus future input saved.\n",
      "Filename       : /home/vsts/.qcodes/logs/command_history.log\n",
      "Mode           : append\n",
      "Output logging : True\n",
      "Raw input log  : False\n",
      "Timestamping   : True\n",
      "State          : active\n"
     ]
    },
    {
     "name": "stdout",
     "output_type": "stream",
     "text": [
      "Qcodes Logfile : /home/vsts/.qcodes/logs/201013-14828-qcodes.log\n"
     ]
    }
   ],
   "source": [
    "import os\n",
    "cwd = os.getcwd()\n",
    "import qcodes as qc\n",
    "qc.config[\"core\"][\"db_location\"] = os.path.join(cwd, 'testing.db')\n"
   ]
  },
  {
   "cell_type": "code",
   "execution_count": 2,
   "metadata": {
    "execution": {
     "iopub.execute_input": "2020-10-13T20:25:14.744812Z",
     "iopub.status.busy": "2020-10-13T20:25:14.743899Z",
     "iopub.status.idle": "2020-10-13T20:25:14.927546Z",
     "shell.execute_reply": "2020-10-13T20:25:14.928164Z"
    }
   },
   "outputs": [],
   "source": [
    "%matplotlib inline\n",
    "import time\n",
    "import matplotlib.pyplot as plt\n",
    "import numpy as np\n",
    "\n",
    "import qcodes as qc\n",
    "from qcodes.instrument.parameter import ManualParameter\n",
    "from qcodes.dataset.experiment_container import (Experiment,\n",
    "                                                 load_last_experiment,\n",
    "                                                 new_experiment)\n",
    "from qcodes.dataset.sqlite.database import initialise_database\n",
    "from qcodes import load_or_create_experiment\n",
    "from qcodes.dataset.measurements import Measurement"
   ]
  },
  {
   "cell_type": "code",
   "execution_count": 3,
   "metadata": {
    "execution": {
     "iopub.execute_input": "2020-10-13T20:25:14.932791Z",
     "iopub.status.busy": "2020-10-13T20:25:14.931850Z",
     "iopub.status.idle": "2020-10-13T20:25:15.047125Z",
     "shell.execute_reply": "2020-10-13T20:25:15.047550Z"
    }
   },
   "outputs": [
    {
     "name": "stdout",
     "output_type": "stream",
     "text": [
      "\r",
      "0it [00:00, ?it/s]"
     ]
    },
    {
     "name": "stdout",
     "output_type": "stream",
     "text": [
      "\r",
      "Upgrading database; v0 -> v1: : 0it [00:00, ?it/s]"
     ]
    },
    {
     "name": "stdout",
     "output_type": "stream",
     "text": [
      "\r",
      "Upgrading database; v0 -> v1: : 0it [00:00, ?it/s]"
     ]
    },
    {
     "name": "stdout",
     "output_type": "stream",
     "text": [
      "\n",
      "\r",
      "  0%|          | 0/1 [00:00<?, ?it/s]"
     ]
    },
    {
     "name": "stdout",
     "output_type": "stream",
     "text": [
      "\r",
      "Upgrading database; v1 -> v2:   0%|          | 0/1 [00:00<?, ?it/s]"
     ]
    },
    {
     "name": "stdout",
     "output_type": "stream",
     "text": [
      "\r",
      "Upgrading database; v1 -> v2: 100%|██████████| 1/1 [00:00<00:00, 754.64it/s]"
     ]
    },
    {
     "name": "stdout",
     "output_type": "stream",
     "text": [
      "\n",
      "\r",
      "0it [00:00, ?it/s]"
     ]
    },
    {
     "name": "stdout",
     "output_type": "stream",
     "text": [
      "\r",
      "Upgrading database; v2 -> v3: : 0it [00:00, ?it/s]"
     ]
    },
    {
     "name": "stdout",
     "output_type": "stream",
     "text": [
      "\r",
      "Upgrading database; v2 -> v3: : 0it [00:00, ?it/s]"
     ]
    },
    {
     "name": "stdout",
     "output_type": "stream",
     "text": [
      "\n",
      "\r",
      "0it [00:00, ?it/s]"
     ]
    },
    {
     "name": "stdout",
     "output_type": "stream",
     "text": [
      "\r",
      "Upgrading database; v3 -> v4: : 0it [00:00, ?it/s]"
     ]
    },
    {
     "name": "stdout",
     "output_type": "stream",
     "text": [
      "\r",
      "Upgrading database; v3 -> v4: : 0it [00:00, ?it/s]"
     ]
    },
    {
     "name": "stdout",
     "output_type": "stream",
     "text": [
      "\n",
      "\r",
      "  0%|          | 0/1 [00:00<?, ?it/s]"
     ]
    },
    {
     "name": "stdout",
     "output_type": "stream",
     "text": [
      "\r",
      "Upgrading database; v4 -> v5:   0%|          | 0/1 [00:00<?, ?it/s]"
     ]
    },
    {
     "name": "stdout",
     "output_type": "stream",
     "text": [
      "\r",
      "Upgrading database; v4 -> v5: 100%|██████████| 1/1 [00:00<00:00, 593.76it/s]"
     ]
    },
    {
     "name": "stdout",
     "output_type": "stream",
     "text": [
      "\n",
      "\r",
      "0it [00:00, ?it/s]"
     ]
    },
    {
     "name": "stdout",
     "output_type": "stream",
     "text": [
      "\r",
      "Upgrading database; v5 -> v6: : 0it [00:00, ?it/s]"
     ]
    },
    {
     "name": "stdout",
     "output_type": "stream",
     "text": [
      "\r",
      "Upgrading database; v5 -> v6: : 0it [00:00, ?it/s]"
     ]
    },
    {
     "name": "stdout",
     "output_type": "stream",
     "text": [
      "\n",
      "\r",
      "  0%|          | 0/1 [00:00<?, ?it/s]"
     ]
    },
    {
     "name": "stdout",
     "output_type": "stream",
     "text": [
      "\r",
      "Upgrading database; v6 -> v7:   0%|          | 0/1 [00:00<?, ?it/s]"
     ]
    },
    {
     "name": "stdout",
     "output_type": "stream",
     "text": [
      "\r",
      "Upgrading database; v6 -> v7: 100%|██████████| 1/1 [00:00<00:00, 427.55it/s]"
     ]
    },
    {
     "name": "stdout",
     "output_type": "stream",
     "text": [
      "\n",
      "\r",
      "  0%|          | 0/1 [00:00<?, ?it/s]"
     ]
    },
    {
     "name": "stdout",
     "output_type": "stream",
     "text": [
      "\r",
      "Upgrading database; v7 -> v8:   0%|          | 0/1 [00:00<?, ?it/s]"
     ]
    },
    {
     "name": "stdout",
     "output_type": "stream",
     "text": [
      "\r",
      "Upgrading database; v7 -> v8: 100%|██████████| 1/1 [00:00<00:00, 400.79it/s]"
     ]
    },
    {
     "name": "stdout",
     "output_type": "stream",
     "text": [
      "\n",
      "\r",
      "  0%|          | 0/1 [00:00<?, ?it/s]"
     ]
    },
    {
     "name": "stdout",
     "output_type": "stream",
     "text": [
      "\r",
      "Upgrading database; v8 -> v9:   0%|          | 0/1 [00:00<?, ?it/s]"
     ]
    },
    {
     "name": "stdout",
     "output_type": "stream",
     "text": [
      "\r",
      "Upgrading database; v8 -> v9: 100%|██████████| 1/1 [00:00<00:00, 503.88it/s]"
     ]
    },
    {
     "name": "stdout",
     "output_type": "stream",
     "text": [
      "\n"
     ]
    }
   ],
   "source": [
    "initialise_database()\n",
    "exp = load_or_create_experiment(experiment_name='tutorial_exp', sample_name=\"no sample\")"
   ]
  },
  {
   "cell_type": "markdown",
   "metadata": {},
   "source": [
    "Here, we define a simple function to benchmark the time it takes to insert n points with either numeric or array data type.\n",
    "We will compare both the time used to call ``add_result`` and the time used for the full measurement."
   ]
  },
  {
   "cell_type": "code",
   "execution_count": 4,
   "metadata": {
    "execution": {
     "iopub.execute_input": "2020-10-13T20:25:15.056118Z",
     "iopub.status.busy": "2020-10-13T20:25:15.055618Z",
     "iopub.status.idle": "2020-10-13T20:25:15.059003Z",
     "shell.execute_reply": "2020-10-13T20:25:15.058503Z"
    }
   },
   "outputs": [],
   "source": [
    "def insert_data(paramtype, npoints, nreps=1):\n",
    "\n",
    "    meas = Measurement(exp=exp)\n",
    "\n",
    "    x1 = ManualParameter('x1')\n",
    "    x2 = ManualParameter('x2')\n",
    "    x3 = ManualParameter('x3')\n",
    "    y1 = ManualParameter('y1')\n",
    "    y2 = ManualParameter('y2')\n",
    "\n",
    "    meas.register_parameter(x1, paramtype=paramtype)\n",
    "    meas.register_parameter(x2, paramtype=paramtype)\n",
    "    meas.register_parameter(x3, paramtype=paramtype)\n",
    "    meas.register_parameter(y1, setpoints=[x1, x2, x3],\n",
    "                            paramtype=paramtype)\n",
    "    meas.register_parameter(y2, setpoints=[x1, x2, x3],\n",
    "                            paramtype=paramtype)\n",
    "    start = time.perf_counter()\n",
    "    with meas.run() as datasaver:\n",
    "        start_adding = time.perf_counter()\n",
    "        for i in range(nreps):\n",
    "            datasaver.add_result((x1, np.random.rand(npoints)),\n",
    "                                 (x2, np.random.rand(npoints)),\n",
    "                                 (x3, np.random.rand(npoints)),\n",
    "                                 (y1, np.random.rand(npoints)),\n",
    "                                 (y2, np.random.rand(npoints)))\n",
    "        stop_adding = time.perf_counter()\n",
    "        run_id = datasaver.run_id\n",
    "    stop = time.perf_counter()\n",
    "    tot_time = stop - start\n",
    "    add_time = stop_adding - start_adding\n",
    "    return tot_time, add_time, run_id"
   ]
  },
  {
   "cell_type": "markdown",
   "metadata": {},
   "source": [
    "## Comparison between numeric/array data and binary blob"
   ]
  },
  {
   "cell_type": "markdown",
   "metadata": {},
   "source": [
    "### Case1: Short experiment time"
   ]
  },
  {
   "cell_type": "code",
   "execution_count": 5,
   "metadata": {
    "execution": {
     "iopub.execute_input": "2020-10-13T20:25:15.064954Z",
     "iopub.status.busy": "2020-10-13T20:25:15.063699Z",
     "iopub.status.idle": "2020-10-13T20:25:15.880884Z",
     "shell.execute_reply": "2020-10-13T20:25:15.879970Z"
    }
   },
   "outputs": [
    {
     "name": "stdout",
     "output_type": "stream",
     "text": [
      "Starting experimental run with id: 1. \n",
      "Starting experimental run with id: 2. \n",
      "Starting experimental run with id: 3. \n",
      "Starting experimental run with id: 4. \n",
      "Starting experimental run with id: 5. \n"
     ]
    },
    {
     "name": "stdout",
     "output_type": "stream",
     "text": [
      "Starting experimental run with id: 6. \n"
     ]
    },
    {
     "name": "stdout",
     "output_type": "stream",
     "text": [
      "Starting experimental run with id: 7. \n"
     ]
    },
    {
     "name": "stdout",
     "output_type": "stream",
     "text": [
      "Starting experimental run with id: 8. \n",
      "Starting experimental run with id: 9. \n"
     ]
    },
    {
     "name": "stdout",
     "output_type": "stream",
     "text": [
      "Starting experimental run with id: 10. \n",
      "Starting experimental run with id: 11. \n"
     ]
    },
    {
     "name": "stdout",
     "output_type": "stream",
     "text": [
      "Starting experimental run with id: 12. \n",
      "Starting experimental run with id: 13. \n"
     ]
    },
    {
     "name": "stdout",
     "output_type": "stream",
     "text": [
      "Starting experimental run with id: 14. \n"
     ]
    }
   ],
   "source": [
    "sizes = [1,500,1000,2000,3000,4000,5000]\n",
    "t_numeric = []\n",
    "t_numeric_add = []\n",
    "t_array = []\n",
    "t_array_add = []\n",
    "for size in sizes:\n",
    "    tn, tna, run_id_n =  insert_data('numeric', size)\n",
    "    t_numeric.append(tn)\n",
    "    t_numeric_add.append(tna)\n",
    "\n",
    "    ta, taa, run_id_a =  insert_data('array', size)\n",
    "    t_array.append(ta)\n",
    "    t_array_add.append(taa)"
   ]
  },
  {
   "cell_type": "code",
   "execution_count": 6,
   "metadata": {
    "execution": {
     "iopub.execute_input": "2020-10-13T20:25:15.898355Z",
     "iopub.status.busy": "2020-10-13T20:25:15.897808Z",
     "iopub.status.idle": "2020-10-13T20:25:16.084646Z",
     "shell.execute_reply": "2020-10-13T20:25:16.084162Z"
    }
   },
   "outputs": [
    {
     "data": {
      "image/png": "[encoded data removed]",
      "text/plain": [
       "<Figure size 432x288 with 1 Axes>"
      ]
     },
     "metadata": {
      "needs_background": "light"
     },
     "output_type": "display_data"
    }
   ],
   "source": [
    "fig, ax = plt.subplots(1,1)\n",
    "ax.plot(sizes, t_numeric, 'o-', label='Inserting row-by-row')\n",
    "ax.plot(sizes, t_numeric_add, 'o-', label='Inserting row-by-row: add_result only')\n",
    "ax.plot(sizes, t_array, 'd-', label='Inserting as binary blob')\n",
    "ax.plot(sizes, t_array_add, 'd-', label='Inserting as binary blob: add_result only')\n",
    "ax.legend()\n",
    "ax.set_xlabel('Array length')\n",
    "ax.set_ylabel('Time (s)')\n",
    "fig.tight_layout()"
   ]
  },
  {
   "cell_type": "markdown",
   "metadata": {},
   "source": [
    "As shown in the latter figure, the time to setup and and close the experiment is approximately 0.4 sec. In case of small array sizes, the difference between inserting values of data as arrays and inserting them row-by-row is relatively unimportant. At larger array sizes, i.e. above 10000 points, the cost of writing data as individual datapoints starts to become important.\n"
   ]
  },
  {
   "cell_type": "markdown",
   "metadata": {},
   "source": [
    "### Case2: Long experiment time "
   ]
  },
  {
   "cell_type": "code",
   "execution_count": 7,
   "metadata": {
    "execution": {
     "iopub.execute_input": "2020-10-13T20:25:16.092155Z",
     "iopub.status.busy": "2020-10-13T20:25:16.091351Z",
     "iopub.status.idle": "2020-10-13T20:26:13.955944Z",
     "shell.execute_reply": "2020-10-13T20:26:13.954807Z"
    }
   },
   "outputs": [
    {
     "name": "stdout",
     "output_type": "stream",
     "text": [
      "Starting experimental run with id: 15. \n",
      "Starting experimental run with id: 16. \n",
      "Starting experimental run with id: 17. \n"
     ]
    },
    {
     "name": "stdout",
     "output_type": "stream",
     "text": [
      "Starting experimental run with id: 18. \n",
      "Starting experimental run with id: 19. \n"
     ]
    },
    {
     "name": "stdout",
     "output_type": "stream",
     "text": [
      "Starting experimental run with id: 20. \n"
     ]
    },
    {
     "name": "stdout",
     "output_type": "stream",
     "text": [
      "Starting experimental run with id: 21. \n"
     ]
    },
    {
     "name": "stdout",
     "output_type": "stream",
     "text": [
      "Starting experimental run with id: 22. \n"
     ]
    },
    {
     "name": "stdout",
     "output_type": "stream",
     "text": [
      "Starting experimental run with id: 23. \n"
     ]
    },
    {
     "name": "stdout",
     "output_type": "stream",
     "text": [
      "Starting experimental run with id: 24. \n"
     ]
    },
    {
     "name": "stdout",
     "output_type": "stream",
     "text": [
      "Starting experimental run with id: 25. \n"
     ]
    },
    {
     "name": "stdout",
     "output_type": "stream",
     "text": [
      "Starting experimental run with id: 26. \n"
     ]
    },
    {
     "name": "stdout",
     "output_type": "stream",
     "text": [
      "Starting experimental run with id: 27. \n"
     ]
    },
    {
     "name": "stdout",
     "output_type": "stream",
     "text": [
      "Starting experimental run with id: 28. \n"
     ]
    }
   ],
   "source": [
    "sizes = [1,500,1000,2000,3000,4000,5000]\n",
    "nreps = 100\n",
    "t_numeric = []\n",
    "t_numeric_add = []\n",
    "t_numeric_run_ids = []\n",
    "t_array = []\n",
    "t_array_add = []\n",
    "t_array_run_ids = []\n",
    "for size in sizes:\n",
    "    tn, tna, run_id_n =  insert_data('numeric', size, nreps=nreps)\n",
    "    t_numeric.append(tn)\n",
    "    t_numeric_add.append(tna)\n",
    "    t_numeric_run_ids.append(run_id_n)\n",
    "\n",
    "    ta, taa, run_id_a =  insert_data('array', size, nreps=nreps)\n",
    "    t_array.append(ta)\n",
    "    t_array_add.append(taa)\n",
    "    t_array_run_ids.append(run_id_a)"
   ]
  },
  {
   "cell_type": "code",
   "execution_count": 8,
   "metadata": {
    "execution": {
     "iopub.execute_input": "2020-10-13T20:26:13.975900Z",
     "iopub.status.busy": "2020-10-13T20:26:13.961334Z",
     "iopub.status.idle": "2020-10-13T20:26:14.155271Z",
     "shell.execute_reply": "2020-10-13T20:26:14.154406Z"
    },
    "scrolled": true
   },
   "outputs": [
    {
     "data": {
      "image/png": "[encoded data removed]",
      "text/plain": [
       "<Figure size 432x288 with 1 Axes>"
      ]
     },
     "metadata": {
      "needs_background": "light"
     },
     "output_type": "display_data"
    }
   ],
   "source": [
    "fig, ax = plt.subplots(1,1)\n",
    "ax.plot(sizes, t_numeric, 'o-', label='Inserting row-by-row')\n",
    "ax.plot(sizes, t_numeric_add, 'o-', label='Inserting row-by-row: add_result only')\n",
    "ax.plot(sizes, t_array, 'd-', label='Inserting as binary blob')\n",
    "ax.plot(sizes, t_array_add, 'd-', label='Inserting as binary blob: add_result only')\n",
    "ax.legend()\n",
    "ax.set_xlabel('Array length')\n",
    "ax.set_ylabel('Time (s)')\n",
    "fig.tight_layout()"
   ]
  },
  {
   "cell_type": "markdown",
   "metadata": {},
   "source": [
    "However, as we increase the length of the experiment, as seen here by repeating the insertion 100 times, we see a big difference between inserting values of the data row-by-row and inserting it as a binary blob."
   ]
  },
  {
   "cell_type": "markdown",
   "metadata": {},
   "source": [
    "## Loading the data "
   ]
  },
  {
   "cell_type": "code",
   "execution_count": 9,
   "metadata": {
    "execution": {
     "iopub.execute_input": "2020-10-13T20:26:14.159514Z",
     "iopub.status.busy": "2020-10-13T20:26:14.158721Z",
     "iopub.status.idle": "2020-10-13T20:26:14.162237Z",
     "shell.execute_reply": "2020-10-13T20:26:14.161795Z"
    }
   },
   "outputs": [],
   "source": [
    "from qcodes.dataset.data_set import load_by_id\n",
    "from qcodes.dataset.data_export import get_data_by_id"
   ]
  },
  {
   "cell_type": "markdown",
   "metadata": {},
   "source": [
    "As usual you can load the data by using the ``load_by_id`` function but you will notice that the different storage methods\n",
    "are reflected in shape of the data as it is retrieved. "
   ]
  },
  {
   "cell_type": "code",
   "execution_count": 10,
   "metadata": {
    "execution": {
     "iopub.execute_input": "2020-10-13T20:26:14.165704Z",
     "iopub.status.busy": "2020-10-13T20:26:14.164867Z",
     "iopub.status.idle": "2020-10-13T20:26:14.168304Z",
     "shell.execute_reply": "2020-10-13T20:26:14.167855Z"
    }
   },
   "outputs": [],
   "source": [
    "run_id_n = t_numeric_run_ids[0]\n",
    "run_id_a = t_array_run_ids[0]"
   ]
  },
  {
   "cell_type": "code",
   "execution_count": 11,
   "metadata": {
    "execution": {
     "iopub.execute_input": "2020-10-13T20:26:14.171656Z",
     "iopub.status.busy": "2020-10-13T20:26:14.171137Z",
     "iopub.status.idle": "2020-10-13T20:26:14.180919Z",
     "shell.execute_reply": "2020-10-13T20:26:14.180461Z"
    },
    "scrolled": true
   },
   "outputs": [
    {
     "data": {
      "text/plain": [
       "{'x1': {'x1': array([0.40709681, 0.40709681, 0.43768036, 0.43768036, 0.03047584,\n",
       "         0.03047584, 0.04672779, 0.04672779, 0.63228502, 0.63228502,\n",
       "         0.38270178, 0.38270178, 0.72171343, 0.72171343, 0.07114403,\n",
       "         0.07114403, 0.76918559, 0.76918559, 0.63559252, 0.63559252,\n",
       "         0.59046202, 0.59046202, 0.26971116, 0.26971116, 0.97286415,\n",
       "         0.97286415, 0.64584355, 0.64584355, 0.89173284, 0.89173284,\n",
       "         0.54133969, 0.54133969, 0.11911518, 0.11911518, 0.48909548,\n",
       "         0.48909548, 0.89356484, 0.89356484, 0.38188022, 0.38188022,\n",
       "         0.30573213, 0.30573213, 0.145956  , 0.145956  , 0.98122   ,\n",
       "         0.98122   , 0.10899665, 0.10899665, 0.03143299, 0.03143299,\n",
       "         0.8894801 , 0.8894801 , 0.76209403, 0.76209403, 0.34649812,\n",
       "         0.34649812, 0.32891119, 0.32891119, 0.80595087, 0.80595087,\n",
       "         0.31073356, 0.31073356, 0.80632725, 0.80632725, 0.8308754 ,\n",
       "         0.8308754 , 0.77263651, 0.77263651, 0.25701106, 0.25701106,\n",
       "         0.1058835 , 0.1058835 , 0.77467055, 0.77467055, 0.01981575,\n",
       "         0.01981575, 0.86629883, 0.86629883, 0.99281005, 0.99281005,\n",
       "         0.13155934, 0.13155934, 0.9525288 , 0.9525288 , 0.20310898,\n",
       "         0.20310898, 0.59119606, 0.59119606, 0.41869278, 0.41869278,\n",
       "         0.01834879, 0.01834879, 0.09792597, 0.09792597, 0.40754645,\n",
       "         0.40754645, 0.65585677, 0.65585677, 0.79286146, 0.79286146,\n",
       "         0.16762747, 0.16762747, 0.80713418, 0.80713418, 0.1167513 ,\n",
       "         0.1167513 , 0.78945069, 0.78945069, 0.75497194, 0.75497194,\n",
       "         0.35643707, 0.35643707, 0.84982344, 0.84982344, 0.36937917,\n",
       "         0.36937917, 0.62207398, 0.62207398, 0.97007461, 0.97007461,\n",
       "         0.71848824, 0.71848824, 0.60882751, 0.60882751, 0.35317201,\n",
       "         0.35317201, 0.19068989, 0.19068989, 0.77489056, 0.77489056,\n",
       "         0.82824169, 0.82824169, 0.47737277, 0.47737277, 0.33689035,\n",
       "         0.33689035, 0.28070635, 0.28070635, 0.79136968, 0.79136968,\n",
       "         0.68624229, 0.68624229, 0.5603304 , 0.5603304 , 0.20849795,\n",
       "         0.20849795, 0.55472223, 0.55472223, 0.54874811, 0.54874811,\n",
       "         0.30931278, 0.30931278, 0.10617415, 0.10617415, 0.72922196,\n",
       "         0.72922196, 0.95589177, 0.95589177, 0.70601206, 0.70601206,\n",
       "         0.55931355, 0.55931355, 0.44550935, 0.44550935, 0.57613118,\n",
       "         0.57613118, 0.2414928 , 0.2414928 , 0.85907432, 0.85907432,\n",
       "         0.79074459, 0.79074459, 0.68875216, 0.68875216, 0.04255597,\n",
       "         0.04255597, 0.88552568, 0.88552568, 0.05873246, 0.05873246,\n",
       "         0.19209903, 0.19209903, 0.60799664, 0.60799664, 0.85772874,\n",
       "         0.85772874, 0.17692095, 0.17692095, 0.35559574, 0.35559574,\n",
       "         0.17355766, 0.17355766, 0.19532282, 0.19532282, 0.98038809,\n",
       "         0.98038809, 0.59336858, 0.59336858, 0.9974746 , 0.9974746 ])}}"
      ]
     },
     "execution_count": 1,
     "metadata": {},
     "output_type": "execute_result"
    }
   ],
   "source": [
    "ds = load_by_id(run_id_n)\n",
    "ds.get_parameter_data('x1')"
   ]
  },
  {
   "cell_type": "markdown",
   "metadata": {},
   "source": [
    "And a dataset stored as binary arrays"
   ]
  },
  {
   "cell_type": "code",
   "execution_count": 12,
   "metadata": {
    "execution": {
     "iopub.execute_input": "2020-10-13T20:26:14.184278Z",
     "iopub.status.busy": "2020-10-13T20:26:14.183775Z",
     "iopub.status.idle": "2020-10-13T20:26:14.236980Z",
     "shell.execute_reply": "2020-10-13T20:26:14.237545Z"
    },
    "scrolled": true
   },
   "outputs": [
    {
     "data": {
      "text/plain": [
       "{'x1': {'x1': array([[0.36850951],\n",
       "         [0.36850951],\n",
       "         [0.59266814],\n",
       "         [0.59266814],\n",
       "         [0.4476207 ],\n",
       "         [0.4476207 ],\n",
       "         [0.58295345],\n",
       "         [0.58295345],\n",
       "         [0.36708534],\n",
       "         [0.36708534],\n",
       "         [0.6352514 ],\n",
       "         [0.6352514 ],\n",
       "         [0.98147101],\n",
       "         [0.98147101],\n",
       "         [0.79174206],\n",
       "         [0.79174206],\n",
       "         [0.30310762],\n",
       "         [0.30310762],\n",
       "         [0.94718548],\n",
       "         [0.94718548],\n",
       "         [0.06614335],\n",
       "         [0.06614335],\n",
       "         [0.98403724],\n",
       "         [0.98403724],\n",
       "         [0.88739478],\n",
       "         [0.88739478],\n",
       "         [0.63015578],\n",
       "         [0.63015578],\n",
       "         [0.83156484],\n",
       "         [0.83156484],\n",
       "         [0.42473904],\n",
       "         [0.42473904],\n",
       "         [0.85691161],\n",
       "         [0.85691161],\n",
       "         [0.92364866],\n",
       "         [0.92364866],\n",
       "         [0.64256135],\n",
       "         [0.64256135],\n",
       "         [0.38578377],\n",
       "         [0.38578377],\n",
       "         [0.99779349],\n",
       "         [0.99779349],\n",
       "         [0.7899204 ],\n",
       "         [0.7899204 ],\n",
       "         [0.77028414],\n",
       "         [0.77028414],\n",
       "         [0.1692884 ],\n",
       "         [0.1692884 ],\n",
       "         [0.35779034],\n",
       "         [0.35779034],\n",
       "         [0.84447009],\n",
       "         [0.84447009],\n",
       "         [0.27381804],\n",
       "         [0.27381804],\n",
       "         [0.64037532],\n",
       "         [0.64037532],\n",
       "         [0.84192445],\n",
       "         [0.84192445],\n",
       "         [0.10273922],\n",
       "         [0.10273922],\n",
       "         [0.6062324 ],\n",
       "         [0.6062324 ],\n",
       "         [0.51241002],\n",
       "         [0.51241002],\n",
       "         [0.39325219],\n",
       "         [0.39325219],\n",
       "         [0.12039755],\n",
       "         [0.12039755],\n",
       "         [0.38514307],\n",
       "         [0.38514307],\n",
       "         [0.96954068],\n",
       "         [0.96954068],\n",
       "         [0.67003763],\n",
       "         [0.67003763],\n",
       "         [0.76999035],\n",
       "         [0.76999035],\n",
       "         [0.46836921],\n",
       "         [0.46836921],\n",
       "         [0.37973127],\n",
       "         [0.37973127],\n",
       "         [0.48469452],\n",
       "         [0.48469452],\n",
       "         [0.18025958],\n",
       "         [0.18025958],\n",
       "         [0.71494257],\n",
       "         [0.71494257],\n",
       "         [0.98048563],\n",
       "         [0.98048563],\n",
       "         [0.29640116],\n",
       "         [0.29640116],\n",
       "         [0.64486676],\n",
       "         [0.64486676],\n",
       "         [0.69974425],\n",
       "         [0.69974425],\n",
       "         [0.06623176],\n",
       "         [0.06623176],\n",
       "         [0.16323507],\n",
       "         [0.16323507],\n",
       "         [0.09617235],\n",
       "         [0.09617235],\n",
       "         [0.04638204],\n",
       "         [0.04638204],\n",
       "         [0.73675487],\n",
       "         [0.73675487],\n",
       "         [0.59016832],\n",
       "         [0.59016832],\n",
       "         [0.81271829],\n",
       "         [0.81271829],\n",
       "         [0.49831257],\n",
       "         [0.49831257],\n",
       "         [0.21141021],\n",
       "         [0.21141021],\n",
       "         [0.23421937],\n",
       "         [0.23421937],\n",
       "         [0.6153542 ],\n",
       "         [0.6153542 ],\n",
       "         [0.0806537 ],\n",
       "         [0.0806537 ],\n",
       "         [0.31170854],\n",
       "         [0.31170854],\n",
       "         [0.07646103],\n",
       "         [0.07646103],\n",
       "         [0.8085915 ],\n",
       "         [0.8085915 ],\n",
       "         [0.21555871],\n",
       "         [0.21555871],\n",
       "         [0.70620885],\n",
       "         [0.70620885],\n",
       "         [0.38068169],\n",
       "         [0.38068169],\n",
       "         [0.84666942],\n",
       "         [0.84666942],\n",
       "         [0.75671197],\n",
       "         [0.75671197],\n",
       "         [0.04089754],\n",
       "         [0.04089754],\n",
       "         [0.15639034],\n",
       "         [0.15639034],\n",
       "         [0.87780933],\n",
       "         [0.87780933],\n",
       "         [0.4985584 ],\n",
       "         [0.4985584 ],\n",
       "         [0.08198528],\n",
       "         [0.08198528],\n",
       "         [0.36398274],\n",
       "         [0.36398274],\n",
       "         [0.05972341],\n",
       "         [0.05972341],\n",
       "         [0.00773748],\n",
       "         [0.00773748],\n",
       "         [0.12345378],\n",
       "         [0.12345378],\n",
       "         [0.04191564],\n",
       "         [0.04191564],\n",
       "         [0.57289   ],\n",
       "         [0.57289   ],\n",
       "         [0.78426086],\n",
       "         [0.78426086],\n",
       "         [0.6186228 ],\n",
       "         [0.6186228 ],\n",
       "         [0.66703848],\n",
       "         [0.66703848],\n",
       "         [0.59297347],\n",
       "         [0.59297347],\n",
       "         [0.45903173],\n",
       "         [0.45903173],\n",
       "         [0.87997442],\n",
       "         [0.87997442],\n",
       "         [0.47362048],\n",
       "         [0.47362048],\n",
       "         [0.05578089],\n",
       "         [0.05578089],\n",
       "         [0.26681516],\n",
       "         [0.26681516],\n",
       "         [0.9008242 ],\n",
       "         [0.9008242 ],\n",
       "         [0.72232043],\n",
       "         [0.72232043],\n",
       "         [0.81776367],\n",
       "         [0.81776367],\n",
       "         [0.68035051],\n",
       "         [0.68035051],\n",
       "         [0.10436875],\n",
       "         [0.10436875],\n",
       "         [0.23411848],\n",
       "         [0.23411848],\n",
       "         [0.08602944],\n",
       "         [0.08602944],\n",
       "         [0.32211397],\n",
       "         [0.32211397],\n",
       "         [0.88095191],\n",
       "         [0.88095191],\n",
       "         [0.93428609],\n",
       "         [0.93428609],\n",
       "         [0.37769295],\n",
       "         [0.37769295],\n",
       "         [0.86998501],\n",
       "         [0.86998501],\n",
       "         [0.42796824],\n",
       "         [0.42796824]])}}"
      ]
     },
     "execution_count": 1,
     "metadata": {},
     "output_type": "execute_result"
    }
   ],
   "source": [
    "ds = load_by_id(run_id_a)\n",
    "ds.get_parameter_data('x1')"
   ]
  },
  {
   "cell_type": "code",
   "execution_count": null,
   "metadata": {},
   "outputs": [],
   "source": []
  }
 ],
 "metadata": {
  "kernelspec": {
   "display_name": "Python 3",
   "language": "python",
   "name": "python3"
  },
  "language_info": {
   "codemirror_mode": {
    "name": "ipython",
    "version": 3
   },
   "file_extension": ".py",
   "mimetype": "text/x-python",
   "name": "python",
   "nbconvert_exporter": "python",
   "pygments_lexer": "ipython3",
   "version": "3.7.7"
  },
  "nbsphinx": {
   "timeout": 600
  },
  "toc": {
   "base_numbering": 1,
   "nav_menu": {},
   "number_sections": true,
   "sideBar": true,
   "skip_h1_title": false,
   "title_cell": "Table of Contents",
   "title_sidebar": "Contents",
   "toc_cell": false,
   "toc_position": {},
   "toc_section_display": true,
   "toc_window_display": false
  },
  "varInspector": {
   "cols": {
    "lenName": 16,
    "lenType": 16,
    "lenVar": 40
   },
   "kernels_config": {
    "python": {
     "delete_cmd_postfix": "",
     "delete_cmd_prefix": "del ",
     "library": "var_list.py",
     "varRefreshCmd": "print(var_dic_list())"
    },
    "r": {
     "delete_cmd_postfix": ") ",
     "delete_cmd_prefix": "rm(",
     "library": "var_list.r",
     "varRefreshCmd": "cat(var_dic_list()) "
    }
   },
   "types_to_exclude": [
    "module",
    "function",
    "builtin_function_or_method",
    "instance",
    "_Feature"
   ],
   "window_display": false
  }
 },
 "nbformat": 4,
 "nbformat_minor": 2
}
