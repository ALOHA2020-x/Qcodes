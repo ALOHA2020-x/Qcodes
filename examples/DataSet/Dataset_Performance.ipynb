{
 "cells": [
  {
   "cell_type": "markdown",
   "metadata": {},
   "source": [
    "# DataSet Performance\n",
    "\n",
    "This notebook shows the trade-off between inserting data into a database row-by-row and as binary blobs. Inserting the data row-by-row means that we have direct access to all the data and may perform queries directly on the values of the data. On the other hand, as we shall see, this is much slower than inserting the data directly as binary blobs."
   ]
  },
  {
   "cell_type": "markdown",
   "metadata": {},
   "source": [
    "First, we choose a new location for the database to ensure that we don't add a bunch of benchmarking data to the default one."
   ]
  },
  {
   "cell_type": "code",
   "execution_count": 1,
   "metadata": {},
   "outputs": [
    {
     "name": "stdout",
     "output_type": "stream",
     "text": [
      "Logging hadn't been started.\n",
      "Activating auto-logging. Current session state plus future input saved.\n",
      "Filename       : /home/vsts/.qcodes/logs/command_history.log\n",
      "Mode           : append\n",
      "Output logging : True\n",
      "Raw input log  : False\n",
      "Timestamping   : True\n",
      "State          : active\n"
     ]
    },
    {
     "name": "stdout",
     "output_type": "stream",
     "text": [
      "Qcodes Logfile : /home/vsts/.qcodes/logs/200529-19833-qcodes.log\n"
     ]
    }
   ],
   "source": [
    "import os\n",
    "cwd = os.getcwd()\n",
    "import qcodes as qc\n",
    "qc.config[\"core\"][\"db_location\"] = os.path.join(cwd, 'testing.db')\n"
   ]
  },
  {
   "cell_type": "code",
   "execution_count": 2,
   "metadata": {},
   "outputs": [],
   "source": [
    "%matplotlib inline\n",
    "import time\n",
    "import matplotlib.pyplot as plt\n",
    "import numpy as np\n",
    "\n",
    "import qcodes as qc\n",
    "from qcodes.instrument.parameter import ManualParameter\n",
    "from qcodes.dataset.experiment_container import (Experiment,\n",
    "                                                 load_last_experiment,\n",
    "                                                 new_experiment)\n",
    "from qcodes.dataset.sqlite.database import initialise_database\n",
    "from qcodes import load_or_create_experiment\n",
    "from qcodes.dataset.measurements import Measurement"
   ]
  },
  {
   "cell_type": "code",
   "execution_count": 3,
   "metadata": {},
   "outputs": [
    {
     "name": "stdout",
     "output_type": "stream",
     "text": [
      "\r",
      "0it [00:00, ?it/s]"
     ]
    },
    {
     "name": "stdout",
     "output_type": "stream",
     "text": [
      "\r",
      "Upgrading database; v0 -> v1: : 0it [00:00, ?it/s]"
     ]
    },
    {
     "name": "stdout",
     "output_type": "stream",
     "text": [
      "\r",
      "Upgrading database; v0 -> v1: : 0it [00:00, ?it/s]"
     ]
    },
    {
     "name": "stdout",
     "output_type": "stream",
     "text": [
      "\n",
      "\r",
      "  0%|          | 0/1 [00:00<?, ?it/s]"
     ]
    },
    {
     "name": "stdout",
     "output_type": "stream",
     "text": [
      "\r",
      "Upgrading database; v1 -> v2:   0%|          | 0/1 [00:00<?, ?it/s]"
     ]
    },
    {
     "name": "stdout",
     "output_type": "stream",
     "text": [
      "\r",
      "Upgrading database; v1 -> v2: 100%|██████████| 1/1 [00:00<00:00, 785.30it/s]"
     ]
    },
    {
     "name": "stdout",
     "output_type": "stream",
     "text": [
      "\n",
      "\r",
      "0it [00:00, ?it/s]"
     ]
    },
    {
     "name": "stdout",
     "output_type": "stream",
     "text": [
      "\r",
      "Upgrading database; v2 -> v3: : 0it [00:00, ?it/s]"
     ]
    },
    {
     "name": "stdout",
     "output_type": "stream",
     "text": [
      "\r",
      "Upgrading database; v2 -> v3: : 0it [00:00, ?it/s]"
     ]
    },
    {
     "name": "stdout",
     "output_type": "stream",
     "text": [
      "\n",
      "\r",
      "0it [00:00, ?it/s]"
     ]
    },
    {
     "name": "stdout",
     "output_type": "stream",
     "text": [
      "\r",
      "Upgrading database; v3 -> v4: : 0it [00:00, ?it/s]"
     ]
    },
    {
     "name": "stdout",
     "output_type": "stream",
     "text": [
      "\r",
      "Upgrading database; v3 -> v4: : 0it [00:00, ?it/s]"
     ]
    },
    {
     "name": "stdout",
     "output_type": "stream",
     "text": [
      "\n",
      "\r",
      "  0%|          | 0/1 [00:00<?, ?it/s]"
     ]
    },
    {
     "name": "stdout",
     "output_type": "stream",
     "text": [
      "\r",
      "Upgrading database; v4 -> v5:   0%|          | 0/1 [00:00<?, ?it/s]"
     ]
    },
    {
     "name": "stdout",
     "output_type": "stream",
     "text": [
      "\r",
      "Upgrading database; v4 -> v5: 100%|██████████| 1/1 [00:00<00:00, 696.03it/s]"
     ]
    },
    {
     "name": "stdout",
     "output_type": "stream",
     "text": [
      "\n",
      "\r",
      "0it [00:00, ?it/s]"
     ]
    },
    {
     "name": "stdout",
     "output_type": "stream",
     "text": [
      "\r",
      "Upgrading database; v5 -> v6: : 0it [00:00, ?it/s]"
     ]
    },
    {
     "name": "stdout",
     "output_type": "stream",
     "text": [
      "\r",
      "Upgrading database; v5 -> v6: : 0it [00:00, ?it/s]"
     ]
    },
    {
     "name": "stdout",
     "output_type": "stream",
     "text": [
      "\n",
      "\r",
      "  0%|          | 0/1 [00:00<?, ?it/s]"
     ]
    },
    {
     "name": "stdout",
     "output_type": "stream",
     "text": [
      "\r",
      "Upgrading database; v6 -> v7:   0%|          | 0/1 [00:00<?, ?it/s]"
     ]
    },
    {
     "name": "stdout",
     "output_type": "stream",
     "text": [
      "\r",
      "Upgrading database; v6 -> v7: 100%|██████████| 1/1 [00:00<00:00, 388.94it/s]"
     ]
    },
    {
     "name": "stdout",
     "output_type": "stream",
     "text": [
      "\n",
      "\r",
      "  0%|          | 0/1 [00:00<?, ?it/s]"
     ]
    },
    {
     "name": "stdout",
     "output_type": "stream",
     "text": [
      "\r",
      "Upgrading database; v7 -> v8:   0%|          | 0/1 [00:00<?, ?it/s]"
     ]
    },
    {
     "name": "stdout",
     "output_type": "stream",
     "text": [
      "\r",
      "Upgrading database; v7 -> v8: 100%|██████████| 1/1 [00:00<00:00, 647.47it/s]"
     ]
    },
    {
     "name": "stdout",
     "output_type": "stream",
     "text": [
      "\n",
      "\r",
      "  0%|          | 0/1 [00:00<?, ?it/s]"
     ]
    },
    {
     "name": "stdout",
     "output_type": "stream",
     "text": [
      "\r",
      "Upgrading database; v8 -> v9:   0%|          | 0/1 [00:00<?, ?it/s]"
     ]
    },
    {
     "name": "stdout",
     "output_type": "stream",
     "text": [
      "\r",
      "Upgrading database; v8 -> v9: 100%|██████████| 1/1 [00:00<00:00, 938.95it/s]"
     ]
    },
    {
     "name": "stdout",
     "output_type": "stream",
     "text": [
      "\n"
     ]
    }
   ],
   "source": [
    "initialise_database()\n",
    "exp = load_or_create_experiment(experiment_name='tutorial_exp', sample_name=\"no sample\")"
   ]
  },
  {
   "cell_type": "markdown",
   "metadata": {},
   "source": [
    "Here, we define a simple function to benchmark the time it takes to insert n points with either numeric or array data type.\n",
    "We will compare both the time used to call ``add_result`` and the time used for the full measurement."
   ]
  },
  {
   "cell_type": "code",
   "execution_count": 4,
   "metadata": {},
   "outputs": [],
   "source": [
    "def insert_data(paramtype, npoints, nreps=1):\n",
    "\n",
    "    meas = Measurement(exp=exp)\n",
    "\n",
    "    x1 = ManualParameter('x1')\n",
    "    x2 = ManualParameter('x2')\n",
    "    x3 = ManualParameter('x3')\n",
    "    y1 = ManualParameter('y1')\n",
    "    y2 = ManualParameter('y2')\n",
    "\n",
    "    meas.register_parameter(x1, paramtype=paramtype)\n",
    "    meas.register_parameter(x2, paramtype=paramtype)\n",
    "    meas.register_parameter(x3, paramtype=paramtype)\n",
    "    meas.register_parameter(y1, setpoints=[x1, x2, x3],\n",
    "                            paramtype=paramtype)\n",
    "    meas.register_parameter(y2, setpoints=[x1, x2, x3],\n",
    "                            paramtype=paramtype)\n",
    "    start = time.perf_counter()\n",
    "    with meas.run() as datasaver:\n",
    "        start_adding = time.perf_counter()\n",
    "        for i in range(nreps):\n",
    "            datasaver.add_result((x1, np.random.rand(npoints)),\n",
    "                                 (x2, np.random.rand(npoints)),\n",
    "                                 (x3, np.random.rand(npoints)),\n",
    "                                 (y1, np.random.rand(npoints)),\n",
    "                                 (y2, np.random.rand(npoints)))\n",
    "        stop_adding = time.perf_counter()\n",
    "        run_id = datasaver.run_id\n",
    "    stop = time.perf_counter()\n",
    "    tot_time = stop - start\n",
    "    add_time = stop_adding - start_adding\n",
    "    return tot_time, add_time, run_id"
   ]
  },
  {
   "cell_type": "markdown",
   "metadata": {},
   "source": [
    "## Comparison between numeric/array data and binary blob"
   ]
  },
  {
   "cell_type": "markdown",
   "metadata": {},
   "source": [
    "### Case1: Short experiment time"
   ]
  },
  {
   "cell_type": "code",
   "execution_count": 5,
   "metadata": {},
   "outputs": [
    {
     "name": "stdout",
     "output_type": "stream",
     "text": [
      "Starting experimental run with id: 1. \n",
      "Starting experimental run with id: 2. \n",
      "Starting experimental run with id: 3. \n"
     ]
    },
    {
     "name": "stdout",
     "output_type": "stream",
     "text": [
      "Starting experimental run with id: 4. \n"
     ]
    },
    {
     "name": "stdout",
     "output_type": "stream",
     "text": [
      "Starting experimental run with id: 5. \n"
     ]
    },
    {
     "name": "stdout",
     "output_type": "stream",
     "text": [
      "Starting experimental run with id: 6. \n"
     ]
    },
    {
     "name": "stdout",
     "output_type": "stream",
     "text": [
      "Starting experimental run with id: 7. \n"
     ]
    },
    {
     "name": "stdout",
     "output_type": "stream",
     "text": [
      "Starting experimental run with id: 8. \n"
     ]
    },
    {
     "name": "stdout",
     "output_type": "stream",
     "text": [
      "Starting experimental run with id: 9. \n"
     ]
    },
    {
     "name": "stdout",
     "output_type": "stream",
     "text": [
      "Starting experimental run with id: 10. \n",
      "Starting experimental run with id: 11. \n"
     ]
    },
    {
     "name": "stdout",
     "output_type": "stream",
     "text": [
      "Starting experimental run with id: 12. \n"
     ]
    },
    {
     "name": "stdout",
     "output_type": "stream",
     "text": [
      "Starting experimental run with id: 13. \n"
     ]
    },
    {
     "name": "stdout",
     "output_type": "stream",
     "text": [
      "Starting experimental run with id: 14. \n"
     ]
    }
   ],
   "source": [
    "sizes = [1,500,1000,2000,3000,4000,5000]\n",
    "t_numeric = []\n",
    "t_numeric_add = []\n",
    "t_array = []\n",
    "t_array_add = []\n",
    "for size in sizes:\n",
    "    tn, tna, run_id_n =  insert_data('numeric', size)\n",
    "    t_numeric.append(tn)\n",
    "    t_numeric_add.append(tna)\n",
    "\n",
    "    ta, taa, run_id_a =  insert_data('array', size)\n",
    "    t_array.append(ta)\n",
    "    t_array_add.append(taa)"
   ]
  },
  {
   "cell_type": "code",
   "execution_count": 6,
   "metadata": {},
   "outputs": [
    {
     "data": {
      "image/png": "[encoded data removed]",
      "text/plain": [
       "<Figure size 432x288 with 1 Axes>"
      ]
     },
     "metadata": {
      "needs_background": "light"
     },
     "output_type": "display_data"
    }
   ],
   "source": [
    "fig, ax = plt.subplots(1,1)\n",
    "ax.plot(sizes, t_numeric, 'o-', label='Inserting row-by-row')\n",
    "ax.plot(sizes, t_numeric_add, 'o-', label='Inserting row-by-row: add_result only')\n",
    "ax.plot(sizes, t_array, 'd-', label='Inserting as binary blob')\n",
    "ax.plot(sizes, t_array_add, 'd-', label='Inserting as binary blob: add_result only')\n",
    "ax.legend()\n",
    "ax.set_xlabel('Array length')\n",
    "ax.set_ylabel('Time (s)')\n",
    "fig.tight_layout()"
   ]
  },
  {
   "cell_type": "markdown",
   "metadata": {},
   "source": [
    "As shown in the latter figure, the time to setup and and close the experiment is approximately 0.4 sec. In case of small array sizes, the difference between inserting values of data as arrays and inserting them row-by-row is relatively unimportant. At larger array sizes, i.e. above 10000 points, the cost of writing data as individual datapoints starts to become important.\n"
   ]
  },
  {
   "cell_type": "markdown",
   "metadata": {},
   "source": [
    "### Case2: Long experiment time "
   ]
  },
  {
   "cell_type": "code",
   "execution_count": 7,
   "metadata": {},
   "outputs": [
    {
     "name": "stdout",
     "output_type": "stream",
     "text": [
      "Starting experimental run with id: 15. \n",
      "Starting experimental run with id: 16. \n",
      "Starting experimental run with id: 17. \n"
     ]
    },
    {
     "name": "stdout",
     "output_type": "stream",
     "text": [
      "Starting experimental run with id: 18. \n",
      "Starting experimental run with id: 19. \n"
     ]
    },
    {
     "name": "stdout",
     "output_type": "stream",
     "text": [
      "Starting experimental run with id: 20. \n"
     ]
    },
    {
     "name": "stdout",
     "output_type": "stream",
     "text": [
      "Starting experimental run with id: 21. \n"
     ]
    },
    {
     "name": "stdout",
     "output_type": "stream",
     "text": [
      "Starting experimental run with id: 22. \n"
     ]
    },
    {
     "name": "stdout",
     "output_type": "stream",
     "text": [
      "Starting experimental run with id: 23. \n"
     ]
    },
    {
     "name": "stdout",
     "output_type": "stream",
     "text": [
      "Starting experimental run with id: 24. \n"
     ]
    },
    {
     "name": "stdout",
     "output_type": "stream",
     "text": [
      "Starting experimental run with id: 25. \n"
     ]
    },
    {
     "name": "stdout",
     "output_type": "stream",
     "text": [
      "Starting experimental run with id: 26. \n"
     ]
    },
    {
     "name": "stdout",
     "output_type": "stream",
     "text": [
      "Starting experimental run with id: 27. \n"
     ]
    },
    {
     "name": "stdout",
     "output_type": "stream",
     "text": [
      "Starting experimental run with id: 28. \n"
     ]
    }
   ],
   "source": [
    "sizes = [1,500,1000,2000,3000,4000,5000]\n",
    "nreps = 100\n",
    "t_numeric = []\n",
    "t_numeric_add = []\n",
    "t_numeric_run_ids = []\n",
    "t_array = []\n",
    "t_array_add = []\n",
    "t_array_run_ids = []\n",
    "for size in sizes:\n",
    "    tn, tna, run_id_n =  insert_data('numeric', size, nreps=nreps)\n",
    "    t_numeric.append(tn)\n",
    "    t_numeric_add.append(tna)\n",
    "    t_numeric_run_ids.append(run_id_n)\n",
    "\n",
    "    ta, taa, run_id_a =  insert_data('array', size, nreps=nreps)\n",
    "    t_array.append(ta)\n",
    "    t_array_add.append(taa)\n",
    "    t_array_run_ids.append(run_id_a)"
   ]
  },
  {
   "cell_type": "code",
   "execution_count": 8,
   "metadata": {
    "scrolled": true
   },
   "outputs": [
    {
     "data": {
      "image/png": "[encoded data removed]",
      "text/plain": [
       "<Figure size 432x288 with 1 Axes>"
      ]
     },
     "metadata": {
      "needs_background": "light"
     },
     "output_type": "display_data"
    }
   ],
   "source": [
    "fig, ax = plt.subplots(1,1)\n",
    "ax.plot(sizes, t_numeric, 'o-', label='Inserting row-by-row')\n",
    "ax.plot(sizes, t_numeric_add, 'o-', label='Inserting row-by-row: add_result only')\n",
    "ax.plot(sizes, t_array, 'd-', label='Inserting as binary blob')\n",
    "ax.plot(sizes, t_array_add, 'd-', label='Inserting as binary blob: add_result only')\n",
    "ax.legend()\n",
    "ax.set_xlabel('Array length')\n",
    "ax.set_ylabel('Time (s)')\n",
    "fig.tight_layout()"
   ]
  },
  {
   "cell_type": "markdown",
   "metadata": {},
   "source": [
    "However, as we increase the length of the experiment, as seen here by repeating the insertion 100 times, we see a big difference between inserting values of the data row-by-row and inserting it as a binary blob."
   ]
  },
  {
   "cell_type": "markdown",
   "metadata": {},
   "source": [
    "## Loading the data "
   ]
  },
  {
   "cell_type": "code",
   "execution_count": 9,
   "metadata": {},
   "outputs": [],
   "source": [
    "from qcodes.dataset.data_set import load_by_id\n",
    "from qcodes.dataset.data_export import get_data_by_id"
   ]
  },
  {
   "cell_type": "markdown",
   "metadata": {},
   "source": [
    "As usual you can load the data by using the ``load_by_id`` function but you will notice that the different storage methods\n",
    "are reflected in shape of the data as it is retrieved. "
   ]
  },
  {
   "cell_type": "code",
   "execution_count": 10,
   "metadata": {},
   "outputs": [],
   "source": [
    "run_id_n = t_numeric_run_ids[0]\n",
    "run_id_a = t_array_run_ids[0]"
   ]
  },
  {
   "cell_type": "code",
   "execution_count": 11,
   "metadata": {
    "scrolled": true
   },
   "outputs": [
    {
     "data": {
      "text/plain": [
       "{'x1': {'x1': array([0.66989296, 0.66989296, 0.40854031, 0.40854031, 0.7916764 ,\n",
       "         0.7916764 , 0.38323585, 0.38323585, 0.54315174, 0.54315174,\n",
       "         0.56391636, 0.56391636, 0.7774307 , 0.7774307 , 0.8390431 ,\n",
       "         0.8390431 , 0.21104331, 0.21104331, 0.36593049, 0.36593049,\n",
       "         0.52272865, 0.52272865, 0.7984358 , 0.7984358 , 0.67187305,\n",
       "         0.67187305, 0.66809282, 0.66809282, 0.54681993, 0.54681993,\n",
       "         0.23186634, 0.23186634, 0.89834098, 0.89834098, 0.53146955,\n",
       "         0.53146955, 0.70762589, 0.70762589, 0.93652858, 0.93652858,\n",
       "         0.65575025, 0.65575025, 0.77591539, 0.77591539, 0.17431388,\n",
       "         0.17431388, 0.13554844, 0.13554844, 0.87552291, 0.87552291,\n",
       "         0.1684182 , 0.1684182 , 0.82115436, 0.82115436, 0.24873729,\n",
       "         0.24873729, 0.35258523, 0.35258523, 0.59740195, 0.59740195,\n",
       "         0.20908166, 0.20908166, 0.48300166, 0.48300166, 0.02235663,\n",
       "         0.02235663, 0.43578206, 0.43578206, 0.43187233, 0.43187233,\n",
       "         0.05333155, 0.05333155, 0.61827266, 0.61827266, 0.21897924,\n",
       "         0.21897924, 0.38999541, 0.38999541, 0.08024017, 0.08024017,\n",
       "         0.84038613, 0.84038613, 0.75363535, 0.75363535, 0.05310984,\n",
       "         0.05310984, 0.70674031, 0.70674031, 0.98469315, 0.98469315,\n",
       "         0.36342713, 0.36342713, 0.51168498, 0.51168498, 0.19487852,\n",
       "         0.19487852, 0.13827936, 0.13827936, 0.74101416, 0.74101416,\n",
       "         0.94138388, 0.94138388, 0.29567169, 0.29567169, 0.11731532,\n",
       "         0.11731532, 0.20025049, 0.20025049, 0.62779317, 0.62779317,\n",
       "         0.19331861, 0.19331861, 0.38256957, 0.38256957, 0.87909583,\n",
       "         0.87909583, 0.43927103, 0.43927103, 0.96638689, 0.96638689,\n",
       "         0.74258214, 0.74258214, 0.54070264, 0.54070264, 0.51818206,\n",
       "         0.51818206, 0.77819454, 0.77819454, 0.42064214, 0.42064214,\n",
       "         0.19992171, 0.19992171, 0.24905254, 0.24905254, 0.95698547,\n",
       "         0.95698547, 0.85751628, 0.85751628, 0.61319051, 0.61319051,\n",
       "         0.99990351, 0.99990351, 0.20938118, 0.20938118, 0.31885708,\n",
       "         0.31885708, 0.6273914 , 0.6273914 , 0.66281813, 0.66281813,\n",
       "         0.80233662, 0.80233662, 0.67454254, 0.67454254, 0.50891721,\n",
       "         0.50891721, 0.97325366, 0.97325366, 0.64045438, 0.64045438,\n",
       "         0.51014612, 0.51014612, 0.96061917, 0.96061917, 0.22455822,\n",
       "         0.22455822, 0.07744535, 0.07744535, 0.12105034, 0.12105034,\n",
       "         0.4738472 , 0.4738472 , 0.01590221, 0.01590221, 0.39853916,\n",
       "         0.39853916, 0.85466699, 0.85466699, 0.90715561, 0.90715561,\n",
       "         0.91426947, 0.91426947, 0.64345114, 0.64345114, 0.19337964,\n",
       "         0.19337964, 0.61172871, 0.61172871, 0.03674878, 0.03674878,\n",
       "         0.43889555, 0.43889555, 0.21656527, 0.21656527, 0.3701498 ,\n",
       "         0.3701498 , 0.53074108, 0.53074108, 0.65609097, 0.65609097])}}"
      ]
     },
     "execution_count": 11,
     "metadata": {},
     "output_type": "execute_result"
    }
   ],
   "source": [
    "ds = load_by_id(run_id_n)\n",
    "ds.get_parameter_data('x1')"
   ]
  },
  {
   "cell_type": "markdown",
   "metadata": {},
   "source": [
    "And a dataset stored as binary arrays"
   ]
  },
  {
   "cell_type": "code",
   "execution_count": 12,
   "metadata": {
    "scrolled": true
   },
   "outputs": [
    {
     "data": {
      "text/plain": [
       "{'x1': {'x1': array([[0.54186086],\n",
       "         [0.54186086],\n",
       "         [0.21590894],\n",
       "         [0.21590894],\n",
       "         [0.11052421],\n",
       "         [0.11052421],\n",
       "         [0.75642274],\n",
       "         [0.75642274],\n",
       "         [0.58440581],\n",
       "         [0.58440581],\n",
       "         [0.54620076],\n",
       "         [0.54620076],\n",
       "         [0.82513339],\n",
       "         [0.82513339],\n",
       "         [0.67455094],\n",
       "         [0.67455094],\n",
       "         [0.27210857],\n",
       "         [0.27210857],\n",
       "         [0.13600131],\n",
       "         [0.13600131],\n",
       "         [0.49535392],\n",
       "         [0.49535392],\n",
       "         [0.26050303],\n",
       "         [0.26050303],\n",
       "         [0.28462215],\n",
       "         [0.28462215],\n",
       "         [0.93523972],\n",
       "         [0.93523972],\n",
       "         [0.97825833],\n",
       "         [0.97825833],\n",
       "         [0.33986871],\n",
       "         [0.33986871],\n",
       "         [0.63509024],\n",
       "         [0.63509024],\n",
       "         [0.92337474],\n",
       "         [0.92337474],\n",
       "         [0.65031903],\n",
       "         [0.65031903],\n",
       "         [0.88028708],\n",
       "         [0.88028708],\n",
       "         [0.56422688],\n",
       "         [0.56422688],\n",
       "         [0.47767831],\n",
       "         [0.47767831],\n",
       "         [0.94270424],\n",
       "         [0.94270424],\n",
       "         [0.69109464],\n",
       "         [0.69109464],\n",
       "         [0.81369149],\n",
       "         [0.81369149],\n",
       "         [0.93636513],\n",
       "         [0.93636513],\n",
       "         [0.04517103],\n",
       "         [0.04517103],\n",
       "         [0.93927977],\n",
       "         [0.93927977],\n",
       "         [0.35540637],\n",
       "         [0.35540637],\n",
       "         [0.64975608],\n",
       "         [0.64975608],\n",
       "         [0.07714486],\n",
       "         [0.07714486],\n",
       "         [0.26595909],\n",
       "         [0.26595909],\n",
       "         [0.04908925],\n",
       "         [0.04908925],\n",
       "         [0.17250845],\n",
       "         [0.17250845],\n",
       "         [0.7610881 ],\n",
       "         [0.7610881 ],\n",
       "         [0.01092986],\n",
       "         [0.01092986],\n",
       "         [0.17403613],\n",
       "         [0.17403613],\n",
       "         [0.13135845],\n",
       "         [0.13135845],\n",
       "         [0.07668105],\n",
       "         [0.07668105],\n",
       "         [0.5148127 ],\n",
       "         [0.5148127 ],\n",
       "         [0.6706276 ],\n",
       "         [0.6706276 ],\n",
       "         [0.69775596],\n",
       "         [0.69775596],\n",
       "         [0.15088978],\n",
       "         [0.15088978],\n",
       "         [0.99258615],\n",
       "         [0.99258615],\n",
       "         [0.32468848],\n",
       "         [0.32468848],\n",
       "         [0.935222  ],\n",
       "         [0.935222  ],\n",
       "         [0.12227224],\n",
       "         [0.12227224],\n",
       "         [0.92761295],\n",
       "         [0.92761295],\n",
       "         [0.61135755],\n",
       "         [0.61135755],\n",
       "         [0.09244746],\n",
       "         [0.09244746],\n",
       "         [0.82439304],\n",
       "         [0.82439304],\n",
       "         [0.48908194],\n",
       "         [0.48908194],\n",
       "         [0.59203098],\n",
       "         [0.59203098],\n",
       "         [0.34664065],\n",
       "         [0.34664065],\n",
       "         [0.41681848],\n",
       "         [0.41681848],\n",
       "         [0.61010238],\n",
       "         [0.61010238],\n",
       "         [0.6620072 ],\n",
       "         [0.6620072 ],\n",
       "         [0.48713809],\n",
       "         [0.48713809],\n",
       "         [0.63533863],\n",
       "         [0.63533863],\n",
       "         [0.37579597],\n",
       "         [0.37579597],\n",
       "         [0.60739503],\n",
       "         [0.60739503],\n",
       "         [0.08223941],\n",
       "         [0.08223941],\n",
       "         [0.74240915],\n",
       "         [0.74240915],\n",
       "         [0.74856937],\n",
       "         [0.74856937],\n",
       "         [0.88243061],\n",
       "         [0.88243061],\n",
       "         [0.71227179],\n",
       "         [0.71227179],\n",
       "         [0.59710792],\n",
       "         [0.59710792],\n",
       "         [0.88044397],\n",
       "         [0.88044397],\n",
       "         [0.93930329],\n",
       "         [0.93930329],\n",
       "         [0.42134545],\n",
       "         [0.42134545],\n",
       "         [0.05830013],\n",
       "         [0.05830013],\n",
       "         [0.35910228],\n",
       "         [0.35910228],\n",
       "         [0.95844325],\n",
       "         [0.95844325],\n",
       "         [0.42619628],\n",
       "         [0.42619628],\n",
       "         [0.85916363],\n",
       "         [0.85916363],\n",
       "         [0.37912032],\n",
       "         [0.37912032],\n",
       "         [0.21121072],\n",
       "         [0.21121072],\n",
       "         [0.22160525],\n",
       "         [0.22160525],\n",
       "         [0.87140385],\n",
       "         [0.87140385],\n",
       "         [0.65232287],\n",
       "         [0.65232287],\n",
       "         [0.08379884],\n",
       "         [0.08379884],\n",
       "         [0.3985457 ],\n",
       "         [0.3985457 ],\n",
       "         [0.16725075],\n",
       "         [0.16725075],\n",
       "         [0.09541318],\n",
       "         [0.09541318],\n",
       "         [0.46266065],\n",
       "         [0.46266065],\n",
       "         [0.62093788],\n",
       "         [0.62093788],\n",
       "         [0.39332068],\n",
       "         [0.39332068],\n",
       "         [0.39348242],\n",
       "         [0.39348242],\n",
       "         [0.18235252],\n",
       "         [0.18235252],\n",
       "         [0.24630998],\n",
       "         [0.24630998],\n",
       "         [0.59643358],\n",
       "         [0.59643358],\n",
       "         [0.05863251],\n",
       "         [0.05863251],\n",
       "         [0.66322543],\n",
       "         [0.66322543],\n",
       "         [0.97002022],\n",
       "         [0.97002022],\n",
       "         [0.74131132],\n",
       "         [0.74131132],\n",
       "         [0.84311187],\n",
       "         [0.84311187],\n",
       "         [0.9699136 ],\n",
       "         [0.9699136 ],\n",
       "         [0.85205182],\n",
       "         [0.85205182],\n",
       "         [0.43804641],\n",
       "         [0.43804641],\n",
       "         [0.6467964 ],\n",
       "         [0.6467964 ]])}}"
      ]
     },
     "execution_count": 12,
     "metadata": {},
     "output_type": "execute_result"
    }
   ],
   "source": [
    "ds = load_by_id(run_id_a)\n",
    "ds.get_parameter_data('x1')"
   ]
  },
  {
   "cell_type": "code",
   "execution_count": null,
   "metadata": {},
   "outputs": [],
   "source": []
  }
 ],
 "metadata": {
  "kernelspec": {
   "display_name": "Python 3",
   "language": "python",
   "name": "python3"
  },
  "language_info": {
   "codemirror_mode": {
    "name": "ipython",
    "version": 3
   },
   "file_extension": ".py",
   "mimetype": "text/x-python",
   "name": "python",
   "nbconvert_exporter": "python",
   "pygments_lexer": "ipython3",
   "version": "3.7.7"
  },
  "nbsphinx": {
   "timeout": 600
  },
  "toc": {
   "base_numbering": 1,
   "nav_menu": {},
   "number_sections": true,
   "sideBar": true,
   "skip_h1_title": false,
   "title_cell": "Table of Contents",
   "title_sidebar": "Contents",
   "toc_cell": false,
   "toc_position": {},
   "toc_section_display": true,
   "toc_window_display": false
  },
  "varInspector": {
   "cols": {
    "lenName": 16,
    "lenType": 16,
    "lenVar": 40
   },
   "kernels_config": {
    "python": {
     "delete_cmd_postfix": "",
     "delete_cmd_prefix": "del ",
     "library": "var_list.py",
     "varRefreshCmd": "print(var_dic_list())"
    },
    "r": {
     "delete_cmd_postfix": ") ",
     "delete_cmd_prefix": "rm(",
     "library": "var_list.r",
     "varRefreshCmd": "cat(var_dic_list()) "
    }
   },
   "types_to_exclude": [
    "module",
    "function",
    "builtin_function_or_method",
    "instance",
    "_Feature"
   ],
   "window_display": false
  }
 },
 "nbformat": 4,
 "nbformat_minor": 2
}
