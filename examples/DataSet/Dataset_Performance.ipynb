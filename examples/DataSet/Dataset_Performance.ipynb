{
 "cells": [
  {
   "cell_type": "markdown",
   "metadata": {},
   "source": [
    "# DataSet Performance\n",
    "\n",
    "This notebook shows the trade-off between inserting data into a database row-by-row and as binary blobs. Inserting the data row-by-row means that we have direct access to all the data and may perform queries directly on the values of the data. On the other hand, as we shall see, this is much slower than inserting the data directly as binary blobs."
   ]
  },
  {
   "cell_type": "markdown",
   "metadata": {},
   "source": [
    "First, we choose a new location for the database to ensure that we don't add a bunch of benchmarking data to the default one."
   ]
  },
  {
   "cell_type": "code",
   "execution_count": 1,
   "metadata": {
    "execution": {
     "iopub.execute_input": "2021-01-12T15:23:13.390292Z",
     "iopub.status.busy": "2021-01-12T15:23:13.389786Z",
     "iopub.status.idle": "2021-01-12T15:23:14.476035Z",
     "shell.execute_reply": "2021-01-12T15:23:14.475468Z"
    }
   },
   "outputs": [
    {
     "name": "stdout",
     "output_type": "stream",
     "text": [
      "Logging hadn't been started.\n",
      "Activating auto-logging. Current session state plus future input saved.\n",
      "Filename       : /home/vsts/.qcodes/logs/command_history.log\n",
      "Mode           : append\n",
      "Output logging : True\n",
      "Raw input log  : False\n",
      "Timestamping   : True\n",
      "State          : active\n"
     ]
    },
    {
     "name": "stdout",
     "output_type": "stream",
     "text": [
      "Qcodes Logfile : /home/vsts/.qcodes/logs/210112-13290-qcodes.log\n"
     ]
    }
   ],
   "source": [
    "import os\n",
    "cwd = os.getcwd()\n",
    "import qcodes as qc\n",
    "qc.config[\"core\"][\"db_location\"] = os.path.join(cwd, 'testing.db')\n"
   ]
  },
  {
   "cell_type": "code",
   "execution_count": 2,
   "metadata": {
    "execution": {
     "iopub.execute_input": "2021-01-12T15:23:14.483422Z",
     "iopub.status.busy": "2021-01-12T15:23:14.481609Z",
     "iopub.status.idle": "2021-01-12T15:23:14.672210Z",
     "shell.execute_reply": "2021-01-12T15:23:14.672817Z"
    }
   },
   "outputs": [],
   "source": [
    "%matplotlib inline\n",
    "import time\n",
    "import matplotlib.pyplot as plt\n",
    "import numpy as np\n",
    "\n",
    "import qcodes as qc\n",
    "from qcodes.instrument.parameter import ManualParameter\n",
    "from qcodes.dataset.experiment_container import (Experiment,\n",
    "                                                 load_last_experiment,\n",
    "                                                 new_experiment)\n",
    "from qcodes.dataset.sqlite.database import initialise_database\n",
    "from qcodes import load_or_create_experiment\n",
    "from qcodes.dataset.measurements import Measurement"
   ]
  },
  {
   "cell_type": "code",
   "execution_count": 3,
   "metadata": {
    "execution": {
     "iopub.execute_input": "2021-01-12T15:23:14.676888Z",
     "iopub.status.busy": "2021-01-12T15:23:14.676237Z",
     "iopub.status.idle": "2021-01-12T15:23:14.794536Z",
     "shell.execute_reply": "2021-01-12T15:23:14.793979Z"
    }
   },
   "outputs": [
    {
     "name": "stdout",
     "output_type": "stream",
     "text": [
      "\r",
      "0it [00:00, ?it/s]"
     ]
    },
    {
     "name": "stdout",
     "output_type": "stream",
     "text": [
      "\r",
      "Upgrading database; v0 -> v1: : 0it [00:00, ?it/s]"
     ]
    },
    {
     "name": "stdout",
     "output_type": "stream",
     "text": [
      "\r",
      "Upgrading database; v0 -> v1: : 0it [00:00, ?it/s]"
     ]
    },
    {
     "name": "stdout",
     "output_type": "stream",
     "text": [
      "\n",
      "\r",
      "  0%|          | 0/1 [00:00<?, ?it/s]"
     ]
    },
    {
     "name": "stdout",
     "output_type": "stream",
     "text": [
      "\r",
      "Upgrading database; v1 -> v2:   0%|          | 0/1 [00:00<?, ?it/s]"
     ]
    },
    {
     "name": "stdout",
     "output_type": "stream",
     "text": [
      "\r",
      "Upgrading database; v1 -> v2: 100%|██████████| 1/1 [00:00<00:00, 546.63it/s]"
     ]
    },
    {
     "name": "stdout",
     "output_type": "stream",
     "text": [
      "\n",
      "\r",
      "0it [00:00, ?it/s]"
     ]
    },
    {
     "name": "stdout",
     "output_type": "stream",
     "text": [
      "\r",
      "Upgrading database; v2 -> v3: : 0it [00:00, ?it/s]"
     ]
    },
    {
     "name": "stdout",
     "output_type": "stream",
     "text": [
      "\r",
      "Upgrading database; v2 -> v3: : 0it [00:00, ?it/s]"
     ]
    },
    {
     "name": "stdout",
     "output_type": "stream",
     "text": [
      "\n",
      "\r",
      "0it [00:00, ?it/s]"
     ]
    },
    {
     "name": "stdout",
     "output_type": "stream",
     "text": [
      "\r",
      "Upgrading database; v3 -> v4: : 0it [00:00, ?it/s]"
     ]
    },
    {
     "name": "stdout",
     "output_type": "stream",
     "text": [
      "\r",
      "Upgrading database; v3 -> v4: : 0it [00:00, ?it/s]"
     ]
    },
    {
     "name": "stdout",
     "output_type": "stream",
     "text": [
      "\n",
      "\r",
      "  0%|          | 0/1 [00:00<?, ?it/s]"
     ]
    },
    {
     "name": "stdout",
     "output_type": "stream",
     "text": [
      "\r",
      "Upgrading database; v4 -> v5:   0%|          | 0/1 [00:00<?, ?it/s]"
     ]
    },
    {
     "name": "stdout",
     "output_type": "stream",
     "text": [
      "\r",
      "Upgrading database; v4 -> v5: 100%|██████████| 1/1 [00:00<00:00, 442.39it/s]"
     ]
    },
    {
     "name": "stdout",
     "output_type": "stream",
     "text": [
      "\n",
      "\r",
      "0it [00:00, ?it/s]"
     ]
    },
    {
     "name": "stdout",
     "output_type": "stream",
     "text": [
      "\r",
      "Upgrading database; v5 -> v6: : 0it [00:00, ?it/s]"
     ]
    },
    {
     "name": "stdout",
     "output_type": "stream",
     "text": [
      "\r",
      "Upgrading database; v5 -> v6: : 0it [00:00, ?it/s]"
     ]
    },
    {
     "name": "stdout",
     "output_type": "stream",
     "text": [
      "\n",
      "\r",
      "  0%|          | 0/1 [00:00<?, ?it/s]"
     ]
    },
    {
     "name": "stdout",
     "output_type": "stream",
     "text": [
      "\r",
      "Upgrading database; v6 -> v7:   0%|          | 0/1 [00:00<?, ?it/s]"
     ]
    },
    {
     "name": "stdout",
     "output_type": "stream",
     "text": [
      "\r",
      "Upgrading database; v6 -> v7: 100%|██████████| 1/1 [00:00<00:00, 279.99it/s]"
     ]
    },
    {
     "name": "stdout",
     "output_type": "stream",
     "text": [
      "\n",
      "\r",
      "  0%|          | 0/1 [00:00<?, ?it/s]"
     ]
    },
    {
     "name": "stdout",
     "output_type": "stream",
     "text": [
      "\r",
      "Upgrading database; v7 -> v8:   0%|          | 0/1 [00:00<?, ?it/s]"
     ]
    },
    {
     "name": "stdout",
     "output_type": "stream",
     "text": [
      "\r",
      "Upgrading database; v7 -> v8: 100%|██████████| 1/1 [00:00<00:00, 648.87it/s]"
     ]
    },
    {
     "name": "stdout",
     "output_type": "stream",
     "text": [
      "\n",
      "\r",
      "  0%|          | 0/1 [00:00<?, ?it/s]"
     ]
    },
    {
     "name": "stdout",
     "output_type": "stream",
     "text": [
      "\r",
      "Upgrading database; v8 -> v9:   0%|          | 0/1 [00:00<?, ?it/s]"
     ]
    },
    {
     "name": "stdout",
     "output_type": "stream",
     "text": [
      "\r",
      "Upgrading database; v8 -> v9: 100%|██████████| 1/1 [00:00<00:00, 515.27it/s]"
     ]
    },
    {
     "name": "stdout",
     "output_type": "stream",
     "text": [
      "\n"
     ]
    }
   ],
   "source": [
    "initialise_database()\n",
    "exp = load_or_create_experiment(experiment_name='tutorial_exp', sample_name=\"no sample\")"
   ]
  },
  {
   "cell_type": "markdown",
   "metadata": {},
   "source": [
    "Here, we define a simple function to benchmark the time it takes to insert n points with either numeric or array data type.\n",
    "We will compare both the time used to call ``add_result`` and the time used for the full measurement."
   ]
  },
  {
   "cell_type": "code",
   "execution_count": 4,
   "metadata": {
    "execution": {
     "iopub.execute_input": "2021-01-12T15:23:14.803762Z",
     "iopub.status.busy": "2021-01-12T15:23:14.802623Z",
     "iopub.status.idle": "2021-01-12T15:23:14.804291Z",
     "shell.execute_reply": "2021-01-12T15:23:14.804808Z"
    }
   },
   "outputs": [],
   "source": [
    "def insert_data(paramtype, npoints, nreps=1):\n",
    "\n",
    "    meas = Measurement(exp=exp)\n",
    "\n",
    "    x1 = ManualParameter('x1')\n",
    "    x2 = ManualParameter('x2')\n",
    "    x3 = ManualParameter('x3')\n",
    "    y1 = ManualParameter('y1')\n",
    "    y2 = ManualParameter('y2')\n",
    "\n",
    "    meas.register_parameter(x1, paramtype=paramtype)\n",
    "    meas.register_parameter(x2, paramtype=paramtype)\n",
    "    meas.register_parameter(x3, paramtype=paramtype)\n",
    "    meas.register_parameter(y1, setpoints=[x1, x2, x3],\n",
    "                            paramtype=paramtype)\n",
    "    meas.register_parameter(y2, setpoints=[x1, x2, x3],\n",
    "                            paramtype=paramtype)\n",
    "    start = time.perf_counter()\n",
    "    with meas.run() as datasaver:\n",
    "        start_adding = time.perf_counter()\n",
    "        for i in range(nreps):\n",
    "            datasaver.add_result((x1, np.random.rand(npoints)),\n",
    "                                 (x2, np.random.rand(npoints)),\n",
    "                                 (x3, np.random.rand(npoints)),\n",
    "                                 (y1, np.random.rand(npoints)),\n",
    "                                 (y2, np.random.rand(npoints)))\n",
    "        stop_adding = time.perf_counter()\n",
    "        run_id = datasaver.run_id\n",
    "    stop = time.perf_counter()\n",
    "    tot_time = stop - start\n",
    "    add_time = stop_adding - start_adding\n",
    "    return tot_time, add_time, run_id"
   ]
  },
  {
   "cell_type": "markdown",
   "metadata": {},
   "source": [
    "## Comparison between numeric/array data and binary blob"
   ]
  },
  {
   "cell_type": "markdown",
   "metadata": {},
   "source": [
    "### Case1: Short experiment time"
   ]
  },
  {
   "cell_type": "code",
   "execution_count": 5,
   "metadata": {
    "execution": {
     "iopub.execute_input": "2021-01-12T15:23:14.811010Z",
     "iopub.status.busy": "2021-01-12T15:23:14.809992Z",
     "iopub.status.idle": "2021-01-12T15:23:15.700253Z",
     "shell.execute_reply": "2021-01-12T15:23:15.699752Z"
    }
   },
   "outputs": [
    {
     "name": "stdout",
     "output_type": "stream",
     "text": [
      "Starting experimental run with id: 1. \n",
      "Starting experimental run with id: 2. \n",
      "Starting experimental run with id: 3. \n",
      "Starting experimental run with id: 4. \n",
      "Starting experimental run with id: 5. \n"
     ]
    },
    {
     "name": "stdout",
     "output_type": "stream",
     "text": [
      "Starting experimental run with id: 6. \n"
     ]
    },
    {
     "name": "stdout",
     "output_type": "stream",
     "text": [
      "Starting experimental run with id: 7. \n"
     ]
    },
    {
     "name": "stdout",
     "output_type": "stream",
     "text": [
      "Starting experimental run with id: 8. \n",
      "Starting experimental run with id: 9. \n"
     ]
    },
    {
     "name": "stdout",
     "output_type": "stream",
     "text": [
      "Starting experimental run with id: 10. \n",
      "Starting experimental run with id: 11. \n"
     ]
    },
    {
     "name": "stdout",
     "output_type": "stream",
     "text": [
      "Starting experimental run with id: 12. \n",
      "Starting experimental run with id: 13. \n"
     ]
    },
    {
     "name": "stdout",
     "output_type": "stream",
     "text": [
      "Starting experimental run with id: 14. \n"
     ]
    }
   ],
   "source": [
    "sizes = [1,500,1000,2000,3000,4000,5000]\n",
    "t_numeric = []\n",
    "t_numeric_add = []\n",
    "t_array = []\n",
    "t_array_add = []\n",
    "for size in sizes:\n",
    "    tn, tna, run_id_n =  insert_data('numeric', size)\n",
    "    t_numeric.append(tn)\n",
    "    t_numeric_add.append(tna)\n",
    "\n",
    "    ta, taa, run_id_a =  insert_data('array', size)\n",
    "    t_array.append(ta)\n",
    "    t_array_add.append(taa)"
   ]
  },
  {
   "cell_type": "code",
   "execution_count": 6,
   "metadata": {
    "execution": {
     "iopub.execute_input": "2021-01-12T15:23:15.717967Z",
     "iopub.status.busy": "2021-01-12T15:23:15.717418Z",
     "iopub.status.idle": "2021-01-12T15:23:15.903341Z",
     "shell.execute_reply": "2021-01-12T15:23:15.904103Z"
    }
   },
   "outputs": [
    {
     "data": {
      "image/png": "[encoded data removed]",
      "text/plain": [
       "<Figure size 432x288 with 1 Axes>"
      ]
     },
     "metadata": {
      "needs_background": "light"
     },
     "output_type": "display_data"
    }
   ],
   "source": [
    "fig, ax = plt.subplots(1,1)\n",
    "ax.plot(sizes, t_numeric, 'o-', label='Inserting row-by-row')\n",
    "ax.plot(sizes, t_numeric_add, 'o-', label='Inserting row-by-row: add_result only')\n",
    "ax.plot(sizes, t_array, 'd-', label='Inserting as binary blob')\n",
    "ax.plot(sizes, t_array_add, 'd-', label='Inserting as binary blob: add_result only')\n",
    "ax.legend()\n",
    "ax.set_xlabel('Array length')\n",
    "ax.set_ylabel('Time (s)')\n",
    "fig.tight_layout()"
   ]
  },
  {
   "cell_type": "markdown",
   "metadata": {},
   "source": [
    "As shown in the latter figure, the time to setup and and close the experiment is approximately 0.4 sec. In case of small array sizes, the difference between inserting values of data as arrays and inserting them row-by-row is relatively unimportant. At larger array sizes, i.e. above 10000 points, the cost of writing data as individual datapoints starts to become important.\n"
   ]
  },
  {
   "cell_type": "markdown",
   "metadata": {},
   "source": [
    "### Case2: Long experiment time "
   ]
  },
  {
   "cell_type": "code",
   "execution_count": 7,
   "metadata": {
    "execution": {
     "iopub.execute_input": "2021-01-12T15:23:15.911729Z",
     "iopub.status.busy": "2021-01-12T15:23:15.911097Z",
     "iopub.status.idle": "2021-01-12T15:24:17.480792Z",
     "shell.execute_reply": "2021-01-12T15:24:17.479829Z"
    }
   },
   "outputs": [
    {
     "name": "stdout",
     "output_type": "stream",
     "text": [
      "Starting experimental run with id: 15. \n",
      "Starting experimental run with id: 16. \n",
      "Starting experimental run with id: 17. \n"
     ]
    },
    {
     "name": "stdout",
     "output_type": "stream",
     "text": [
      "Starting experimental run with id: 18. \n",
      "Starting experimental run with id: 19. \n"
     ]
    },
    {
     "name": "stdout",
     "output_type": "stream",
     "text": [
      "Starting experimental run with id: 20. \n"
     ]
    },
    {
     "name": "stdout",
     "output_type": "stream",
     "text": [
      "Starting experimental run with id: 21. \n"
     ]
    },
    {
     "name": "stdout",
     "output_type": "stream",
     "text": [
      "Starting experimental run with id: 22. \n"
     ]
    },
    {
     "name": "stdout",
     "output_type": "stream",
     "text": [
      "Starting experimental run with id: 23. \n"
     ]
    },
    {
     "name": "stdout",
     "output_type": "stream",
     "text": [
      "Starting experimental run with id: 24. \n"
     ]
    },
    {
     "name": "stdout",
     "output_type": "stream",
     "text": [
      "Starting experimental run with id: 25. \n"
     ]
    },
    {
     "name": "stdout",
     "output_type": "stream",
     "text": [
      "Starting experimental run with id: 26. \n"
     ]
    },
    {
     "name": "stdout",
     "output_type": "stream",
     "text": [
      "Starting experimental run with id: 27. \n"
     ]
    },
    {
     "name": "stdout",
     "output_type": "stream",
     "text": [
      "Starting experimental run with id: 28. \n"
     ]
    }
   ],
   "source": [
    "sizes = [1,500,1000,2000,3000,4000,5000]\n",
    "nreps = 100\n",
    "t_numeric = []\n",
    "t_numeric_add = []\n",
    "t_numeric_run_ids = []\n",
    "t_array = []\n",
    "t_array_add = []\n",
    "t_array_run_ids = []\n",
    "for size in sizes:\n",
    "    tn, tna, run_id_n =  insert_data('numeric', size, nreps=nreps)\n",
    "    t_numeric.append(tn)\n",
    "    t_numeric_add.append(tna)\n",
    "    t_numeric_run_ids.append(run_id_n)\n",
    "\n",
    "    ta, taa, run_id_a =  insert_data('array', size, nreps=nreps)\n",
    "    t_array.append(ta)\n",
    "    t_array_add.append(taa)\n",
    "    t_array_run_ids.append(run_id_a)"
   ]
  },
  {
   "cell_type": "code",
   "execution_count": 8,
   "metadata": {
    "execution": {
     "iopub.execute_input": "2021-01-12T15:24:17.510389Z",
     "iopub.status.busy": "2021-01-12T15:24:17.486419Z",
     "iopub.status.idle": "2021-01-12T15:24:17.681070Z",
     "shell.execute_reply": "2021-01-12T15:24:17.681829Z"
    },
    "scrolled": true
   },
   "outputs": [
    {
     "data": {
      "image/png": "[encoded data removed]",
      "text/plain": [
       "<Figure size 432x288 with 1 Axes>"
      ]
     },
     "metadata": {
      "needs_background": "light"
     },
     "output_type": "display_data"
    }
   ],
   "source": [
    "fig, ax = plt.subplots(1,1)\n",
    "ax.plot(sizes, t_numeric, 'o-', label='Inserting row-by-row')\n",
    "ax.plot(sizes, t_numeric_add, 'o-', label='Inserting row-by-row: add_result only')\n",
    "ax.plot(sizes, t_array, 'd-', label='Inserting as binary blob')\n",
    "ax.plot(sizes, t_array_add, 'd-', label='Inserting as binary blob: add_result only')\n",
    "ax.legend()\n",
    "ax.set_xlabel('Array length')\n",
    "ax.set_ylabel('Time (s)')\n",
    "fig.tight_layout()"
   ]
  },
  {
   "cell_type": "markdown",
   "metadata": {},
   "source": [
    "However, as we increase the length of the experiment, as seen here by repeating the insertion 100 times, we see a big difference between inserting values of the data row-by-row and inserting it as a binary blob."
   ]
  },
  {
   "cell_type": "markdown",
   "metadata": {},
   "source": [
    "## Loading the data "
   ]
  },
  {
   "cell_type": "code",
   "execution_count": 9,
   "metadata": {
    "execution": {
     "iopub.execute_input": "2021-01-12T15:24:17.686419Z",
     "iopub.status.busy": "2021-01-12T15:24:17.684440Z",
     "iopub.status.idle": "2021-01-12T15:24:17.690635Z",
     "shell.execute_reply": "2021-01-12T15:24:17.689677Z"
    }
   },
   "outputs": [],
   "source": [
    "from qcodes.dataset.data_set import load_by_id\n",
    "from qcodes.dataset.data_export import get_data_by_id"
   ]
  },
  {
   "cell_type": "markdown",
   "metadata": {},
   "source": [
    "As usual you can load the data by using the ``load_by_id`` function but you will notice that the different storage methods\n",
    "are reflected in shape of the data as it is retrieved. "
   ]
  },
  {
   "cell_type": "code",
   "execution_count": 10,
   "metadata": {
    "execution": {
     "iopub.execute_input": "2021-01-12T15:24:17.694721Z",
     "iopub.status.busy": "2021-01-12T15:24:17.694201Z",
     "iopub.status.idle": "2021-01-12T15:24:17.697621Z",
     "shell.execute_reply": "2021-01-12T15:24:17.697043Z"
    }
   },
   "outputs": [],
   "source": [
    "run_id_n = t_numeric_run_ids[0]\n",
    "run_id_a = t_array_run_ids[0]"
   ]
  },
  {
   "cell_type": "code",
   "execution_count": 11,
   "metadata": {
    "execution": {
     "iopub.execute_input": "2021-01-12T15:24:17.700787Z",
     "iopub.status.busy": "2021-01-12T15:24:17.700282Z",
     "iopub.status.idle": "2021-01-12T15:24:17.709725Z",
     "shell.execute_reply": "2021-01-12T15:24:17.709242Z"
    },
    "scrolled": true
   },
   "outputs": [
    {
     "data": {
      "text/plain": [
       "{'x1': {'x1': array([0.76645355, 0.76645355, 0.42782764, 0.42782764, 0.81474548,\n",
       "         0.81474548, 0.33500045, 0.33500045, 0.35587142, 0.35587142,\n",
       "         0.44225628, 0.44225628, 0.07124819, 0.07124819, 0.95071193,\n",
       "         0.95071193, 0.34962065, 0.34962065, 0.01594587, 0.01594587,\n",
       "         0.58985963, 0.58985963, 0.47694129, 0.47694129, 0.60247703,\n",
       "         0.60247703, 0.983642  , 0.983642  , 0.33649844, 0.33649844,\n",
       "         0.44027691, 0.44027691, 0.00558102, 0.00558102, 0.4850618 ,\n",
       "         0.4850618 , 0.52966686, 0.52966686, 0.50712828, 0.50712828,\n",
       "         0.30767621, 0.30767621, 0.15445297, 0.15445297, 0.23332073,\n",
       "         0.23332073, 0.97275443, 0.97275443, 0.43181765, 0.43181765,\n",
       "         0.28200122, 0.28200122, 0.5584038 , 0.5584038 , 0.27777113,\n",
       "         0.27777113, 0.58195569, 0.58195569, 0.66370487, 0.66370487,\n",
       "         0.55169176, 0.55169176, 0.76484836, 0.76484836, 0.11498892,\n",
       "         0.11498892, 0.4470157 , 0.4470157 , 0.63442856, 0.63442856,\n",
       "         0.4148841 , 0.4148841 , 0.10260216, 0.10260216, 0.28306217,\n",
       "         0.28306217, 0.25297962, 0.25297962, 0.46005275, 0.46005275,\n",
       "         0.15589451, 0.15589451, 0.67704852, 0.67704852, 0.15168742,\n",
       "         0.15168742, 0.19426009, 0.19426009, 0.65398834, 0.65398834,\n",
       "         0.70633446, 0.70633446, 0.0543917 , 0.0543917 , 0.88925736,\n",
       "         0.88925736, 0.60150231, 0.60150231, 0.87109352, 0.87109352,\n",
       "         0.57975576, 0.57975576, 0.03774119, 0.03774119, 0.65203933,\n",
       "         0.65203933, 0.73222158, 0.73222158, 0.3803095 , 0.3803095 ,\n",
       "         0.14442283, 0.14442283, 0.79314591, 0.79314591, 0.67576708,\n",
       "         0.67576708, 0.8030969 , 0.8030969 , 0.45005901, 0.45005901,\n",
       "         0.35037956, 0.35037956, 0.44879095, 0.44879095, 0.70991164,\n",
       "         0.70991164, 0.69328497, 0.69328497, 0.85489906, 0.85489906,\n",
       "         0.78497598, 0.78497598, 0.22985619, 0.22985619, 0.58671572,\n",
       "         0.58671572, 0.49931331, 0.49931331, 0.35995371, 0.35995371,\n",
       "         0.7894935 , 0.7894935 , 0.02684721, 0.02684721, 0.95002824,\n",
       "         0.95002824, 0.4873586 , 0.4873586 , 0.71262155, 0.71262155,\n",
       "         0.35350483, 0.35350483, 0.29617481, 0.29617481, 0.6320503 ,\n",
       "         0.6320503 , 0.76653216, 0.76653216, 0.78108055, 0.78108055,\n",
       "         0.28088206, 0.28088206, 0.90721988, 0.90721988, 0.58896312,\n",
       "         0.58896312, 0.22201125, 0.22201125, 0.77590763, 0.77590763,\n",
       "         0.90228694, 0.90228694, 0.05444427, 0.05444427, 0.42655476,\n",
       "         0.42655476, 0.33008044, 0.33008044, 0.13952029, 0.13952029,\n",
       "         0.29329917, 0.29329917, 0.97001288, 0.97001288, 0.71081042,\n",
       "         0.71081042, 0.51529416, 0.51529416, 0.96097193, 0.96097193,\n",
       "         0.3169323 , 0.3169323 , 0.6237059 , 0.6237059 , 0.49098499,\n",
       "         0.49098499, 0.59894519, 0.59894519, 0.60450607, 0.60450607])}}"
      ]
     },
     "execution_count": 1,
     "metadata": {},
     "output_type": "execute_result"
    }
   ],
   "source": [
    "ds = load_by_id(run_id_n)\n",
    "ds.get_parameter_data('x1')"
   ]
  },
  {
   "cell_type": "markdown",
   "metadata": {},
   "source": [
    "And a dataset stored as binary arrays"
   ]
  },
  {
   "cell_type": "code",
   "execution_count": 12,
   "metadata": {
    "execution": {
     "iopub.execute_input": "2021-01-12T15:24:17.712855Z",
     "iopub.status.busy": "2021-01-12T15:24:17.712333Z",
     "iopub.status.idle": "2021-01-12T15:24:17.767025Z",
     "shell.execute_reply": "2021-01-12T15:24:17.767572Z"
    },
    "scrolled": true
   },
   "outputs": [
    {
     "data": {
      "text/plain": [
       "{'x1': {'x1': array([[0.67820507],\n",
       "         [0.67820507],\n",
       "         [0.08497216],\n",
       "         [0.08497216],\n",
       "         [0.24736841],\n",
       "         [0.24736841],\n",
       "         [0.77733576],\n",
       "         [0.77733576],\n",
       "         [0.48939276],\n",
       "         [0.48939276],\n",
       "         [0.18089874],\n",
       "         [0.18089874],\n",
       "         [0.49437527],\n",
       "         [0.49437527],\n",
       "         [0.62878475],\n",
       "         [0.62878475],\n",
       "         [0.03346141],\n",
       "         [0.03346141],\n",
       "         [0.34277824],\n",
       "         [0.34277824],\n",
       "         [0.36704157],\n",
       "         [0.36704157],\n",
       "         [0.05396524],\n",
       "         [0.05396524],\n",
       "         [0.03875997],\n",
       "         [0.03875997],\n",
       "         [0.08438694],\n",
       "         [0.08438694],\n",
       "         [0.32023746],\n",
       "         [0.32023746],\n",
       "         [0.59221032],\n",
       "         [0.59221032],\n",
       "         [0.55688817],\n",
       "         [0.55688817],\n",
       "         [0.25063836],\n",
       "         [0.25063836],\n",
       "         [0.1440647 ],\n",
       "         [0.1440647 ],\n",
       "         [0.06026527],\n",
       "         [0.06026527],\n",
       "         [0.5703372 ],\n",
       "         [0.5703372 ],\n",
       "         [0.71731444],\n",
       "         [0.71731444],\n",
       "         [0.04225544],\n",
       "         [0.04225544],\n",
       "         [0.35438121],\n",
       "         [0.35438121],\n",
       "         [0.17369276],\n",
       "         [0.17369276],\n",
       "         [0.18751056],\n",
       "         [0.18751056],\n",
       "         [0.51419003],\n",
       "         [0.51419003],\n",
       "         [0.57579413],\n",
       "         [0.57579413],\n",
       "         [0.90417159],\n",
       "         [0.90417159],\n",
       "         [0.61379895],\n",
       "         [0.61379895],\n",
       "         [0.59960879],\n",
       "         [0.59960879],\n",
       "         [0.88079084],\n",
       "         [0.88079084],\n",
       "         [0.82248267],\n",
       "         [0.82248267],\n",
       "         [0.78955106],\n",
       "         [0.78955106],\n",
       "         [0.53784811],\n",
       "         [0.53784811],\n",
       "         [0.11789032],\n",
       "         [0.11789032],\n",
       "         [0.52238397],\n",
       "         [0.52238397],\n",
       "         [0.96351345],\n",
       "         [0.96351345],\n",
       "         [0.1155876 ],\n",
       "         [0.1155876 ],\n",
       "         [0.57006956],\n",
       "         [0.57006956],\n",
       "         [0.39963596],\n",
       "         [0.39963596],\n",
       "         [0.85872381],\n",
       "         [0.85872381],\n",
       "         [0.11482494],\n",
       "         [0.11482494],\n",
       "         [0.14712591],\n",
       "         [0.14712591],\n",
       "         [0.37557862],\n",
       "         [0.37557862],\n",
       "         [0.72842727],\n",
       "         [0.72842727],\n",
       "         [0.17774235],\n",
       "         [0.17774235],\n",
       "         [0.73184764],\n",
       "         [0.73184764],\n",
       "         [0.43638371],\n",
       "         [0.43638371],\n",
       "         [0.72788629],\n",
       "         [0.72788629],\n",
       "         [0.90005939],\n",
       "         [0.90005939],\n",
       "         [0.69364186],\n",
       "         [0.69364186],\n",
       "         [0.22949283],\n",
       "         [0.22949283],\n",
       "         [0.69654663],\n",
       "         [0.69654663],\n",
       "         [0.81474823],\n",
       "         [0.81474823],\n",
       "         [0.13296763],\n",
       "         [0.13296763],\n",
       "         [0.85595303],\n",
       "         [0.85595303],\n",
       "         [0.02257967],\n",
       "         [0.02257967],\n",
       "         [0.89509981],\n",
       "         [0.89509981],\n",
       "         [0.60160698],\n",
       "         [0.60160698],\n",
       "         [0.67261022],\n",
       "         [0.67261022],\n",
       "         [0.75832001],\n",
       "         [0.75832001],\n",
       "         [0.15887178],\n",
       "         [0.15887178],\n",
       "         [0.12178159],\n",
       "         [0.12178159],\n",
       "         [0.61003883],\n",
       "         [0.61003883],\n",
       "         [0.22649876],\n",
       "         [0.22649876],\n",
       "         [0.28681252],\n",
       "         [0.28681252],\n",
       "         [0.59423905],\n",
       "         [0.59423905],\n",
       "         [0.72462477],\n",
       "         [0.72462477],\n",
       "         [0.44819611],\n",
       "         [0.44819611],\n",
       "         [0.21760624],\n",
       "         [0.21760624],\n",
       "         [0.58625761],\n",
       "         [0.58625761],\n",
       "         [0.74257519],\n",
       "         [0.74257519],\n",
       "         [0.47940312],\n",
       "         [0.47940312],\n",
       "         [0.37381669],\n",
       "         [0.37381669],\n",
       "         [0.22578202],\n",
       "         [0.22578202],\n",
       "         [0.40368465],\n",
       "         [0.40368465],\n",
       "         [0.1525874 ],\n",
       "         [0.1525874 ],\n",
       "         [0.12332236],\n",
       "         [0.12332236],\n",
       "         [0.53269185],\n",
       "         [0.53269185],\n",
       "         [0.19765027],\n",
       "         [0.19765027],\n",
       "         [0.11302656],\n",
       "         [0.11302656],\n",
       "         [0.81056731],\n",
       "         [0.81056731],\n",
       "         [0.17664742],\n",
       "         [0.17664742],\n",
       "         [0.96625687],\n",
       "         [0.96625687],\n",
       "         [0.86977902],\n",
       "         [0.86977902],\n",
       "         [0.16540188],\n",
       "         [0.16540188],\n",
       "         [0.05449202],\n",
       "         [0.05449202],\n",
       "         [0.59612719],\n",
       "         [0.59612719],\n",
       "         [0.87914545],\n",
       "         [0.87914545],\n",
       "         [0.95519022],\n",
       "         [0.95519022],\n",
       "         [0.85558566],\n",
       "         [0.85558566],\n",
       "         [0.60434423],\n",
       "         [0.60434423],\n",
       "         [0.77239372],\n",
       "         [0.77239372],\n",
       "         [0.26769584],\n",
       "         [0.26769584],\n",
       "         [0.69077781],\n",
       "         [0.69077781],\n",
       "         [0.63143541],\n",
       "         [0.63143541],\n",
       "         [0.91314379],\n",
       "         [0.91314379],\n",
       "         [0.83261455],\n",
       "         [0.83261455],\n",
       "         [0.69886289],\n",
       "         [0.69886289]])}}"
      ]
     },
     "execution_count": 1,
     "metadata": {},
     "output_type": "execute_result"
    }
   ],
   "source": [
    "ds = load_by_id(run_id_a)\n",
    "ds.get_parameter_data('x1')"
   ]
  },
  {
   "cell_type": "code",
   "execution_count": null,
   "metadata": {},
   "outputs": [],
   "source": []
  }
 ],
 "metadata": {
  "kernelspec": {
   "display_name": "Python 3",
   "language": "python",
   "name": "python3"
  },
  "language_info": {
   "codemirror_mode": {
    "name": "ipython",
    "version": 3
   },
   "file_extension": ".py",
   "mimetype": "text/x-python",
   "name": "python",
   "nbconvert_exporter": "python",
   "pygments_lexer": "ipython3",
   "version": "3.7.9"
  },
  "nbsphinx": {
   "timeout": 600
  },
  "toc": {
   "base_numbering": 1,
   "nav_menu": {},
   "number_sections": true,
   "sideBar": true,
   "skip_h1_title": false,
   "title_cell": "Table of Contents",
   "title_sidebar": "Contents",
   "toc_cell": false,
   "toc_position": {},
   "toc_section_display": true,
   "toc_window_display": false
  },
  "varInspector": {
   "cols": {
    "lenName": 16,
    "lenType": 16,
    "lenVar": 40
   },
   "kernels_config": {
    "python": {
     "delete_cmd_postfix": "",
     "delete_cmd_prefix": "del ",
     "library": "var_list.py",
     "varRefreshCmd": "print(var_dic_list())"
    },
    "r": {
     "delete_cmd_postfix": ") ",
     "delete_cmd_prefix": "rm(",
     "library": "var_list.r",
     "varRefreshCmd": "cat(var_dic_list()) "
    }
   },
   "types_to_exclude": [
    "module",
    "function",
    "builtin_function_or_method",
    "instance",
    "_Feature"
   ],
   "window_display": false
  }
 },
 "nbformat": 4,
 "nbformat_minor": 2
}
