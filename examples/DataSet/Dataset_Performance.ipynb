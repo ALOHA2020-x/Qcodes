{
 "cells": [
  {
   "cell_type": "markdown",
   "metadata": {},
   "source": [
    "# DataSet Performance\n",
    "\n",
    "This notebook shows the trade-off between inserting data into a database row-by-row and as binary blobs. Inserting the data row-by-row means that we have direct access to all the data and may perform queries directly on the values of the data. On the other hand, as we shall see, this is much slower than inserting the data directly as binary blobs."
   ]
  },
  {
   "cell_type": "markdown",
   "metadata": {},
   "source": [
    "First, we choose a new location for the database to ensure that we don't add a bunch of benchmarking data to the default one."
   ]
  },
  {
   "cell_type": "code",
   "execution_count": 1,
   "metadata": {
    "execution": {
     "iopub.execute_input": "2021-02-16T06:18:59.287271Z",
     "iopub.status.busy": "2021-02-16T06:18:59.286195Z",
     "iopub.status.idle": "2021-02-16T06:19:00.185847Z",
     "shell.execute_reply": "2021-02-16T06:19:00.185215Z"
    }
   },
   "outputs": [
    {
     "name": "stdout",
     "output_type": "stream",
     "text": [
      "Logging hadn't been started.\n",
      "Activating auto-logging. Current session state plus future input saved.\n",
      "Filename       : /home/runner/.qcodes/logs/command_history.log\n",
      "Mode           : append\n",
      "Output logging : True\n",
      "Raw input log  : False\n",
      "Timestamping   : True\n",
      "State          : active\n"
     ]
    },
    {
     "name": "stdout",
     "output_type": "stream",
     "text": [
      "Qcodes Logfile : /home/runner/.qcodes/logs/210216-3819-qcodes.log\n"
     ]
    }
   ],
   "source": [
    "import os\n",
    "cwd = os.getcwd()\n",
    "import qcodes as qc\n",
    "qc.config[\"core\"][\"db_location\"] = os.path.join(cwd, 'testing.db')\n"
   ]
  },
  {
   "cell_type": "code",
   "execution_count": 2,
   "metadata": {
    "execution": {
     "iopub.execute_input": "2021-02-16T06:19:00.192906Z",
     "iopub.status.busy": "2021-02-16T06:19:00.191987Z",
     "iopub.status.idle": "2021-02-16T06:19:00.391276Z",
     "shell.execute_reply": "2021-02-16T06:19:00.395468Z"
    }
   },
   "outputs": [],
   "source": [
    "%matplotlib inline\n",
    "import time\n",
    "import matplotlib.pyplot as plt\n",
    "import numpy as np\n",
    "\n",
    "import qcodes as qc\n",
    "from qcodes.instrument.parameter import ManualParameter\n",
    "from qcodes.dataset.experiment_container import (Experiment,\n",
    "                                                 load_last_experiment,\n",
    "                                                 new_experiment)\n",
    "from qcodes.dataset.sqlite.database import initialise_database\n",
    "from qcodes import load_or_create_experiment\n",
    "from qcodes.dataset.measurements import Measurement"
   ]
  },
  {
   "cell_type": "code",
   "execution_count": 3,
   "metadata": {
    "execution": {
     "iopub.execute_input": "2021-02-16T06:19:00.400729Z",
     "iopub.status.busy": "2021-02-16T06:19:00.400037Z",
     "iopub.status.idle": "2021-02-16T06:19:00.522902Z",
     "shell.execute_reply": "2021-02-16T06:19:00.522361Z"
    }
   },
   "outputs": [
    {
     "name": "stdout",
     "output_type": "stream",
     "text": [
      "\r",
      "0it [00:00, ?it/s]"
     ]
    },
    {
     "name": "stdout",
     "output_type": "stream",
     "text": [
      "\r",
      "Upgrading database; v0 -> v1: : 0it [00:00, ?it/s]"
     ]
    },
    {
     "name": "stdout",
     "output_type": "stream",
     "text": [
      "\r",
      "Upgrading database; v0 -> v1: : 0it [00:00, ?it/s]"
     ]
    },
    {
     "name": "stdout",
     "output_type": "stream",
     "text": [
      "\n",
      "\r",
      "  0%|          | 0/1 [00:00<?, ?it/s]"
     ]
    },
    {
     "name": "stdout",
     "output_type": "stream",
     "text": [
      "\r",
      "Upgrading database; v1 -> v2:   0%|          | 0/1 [00:00<?, ?it/s]"
     ]
    },
    {
     "name": "stdout",
     "output_type": "stream",
     "text": [
      "\r",
      "Upgrading database; v1 -> v2: 100%|██████████| 1/1 [00:00<00:00, 432.31it/s]"
     ]
    },
    {
     "name": "stdout",
     "output_type": "stream",
     "text": [
      "\n",
      "\r",
      "0it [00:00, ?it/s]"
     ]
    },
    {
     "name": "stdout",
     "output_type": "stream",
     "text": [
      "\r",
      "Upgrading database; v2 -> v3: : 0it [00:00, ?it/s]"
     ]
    },
    {
     "name": "stdout",
     "output_type": "stream",
     "text": [
      "\r",
      "Upgrading database; v2 -> v3: : 0it [00:00, ?it/s]"
     ]
    },
    {
     "name": "stdout",
     "output_type": "stream",
     "text": [
      "\n",
      "\r",
      "0it [00:00, ?it/s]"
     ]
    },
    {
     "name": "stdout",
     "output_type": "stream",
     "text": [
      "\r",
      "Upgrading database; v3 -> v4: : 0it [00:00, ?it/s]"
     ]
    },
    {
     "name": "stdout",
     "output_type": "stream",
     "text": [
      "\r",
      "Upgrading database; v3 -> v4: : 0it [00:00, ?it/s]"
     ]
    },
    {
     "name": "stdout",
     "output_type": "stream",
     "text": [
      "\n",
      "\r",
      "  0%|          | 0/1 [00:00<?, ?it/s]"
     ]
    },
    {
     "name": "stdout",
     "output_type": "stream",
     "text": [
      "\r",
      "Upgrading database; v4 -> v5:   0%|          | 0/1 [00:00<?, ?it/s]"
     ]
    },
    {
     "name": "stdout",
     "output_type": "stream",
     "text": [
      "\r",
      "Upgrading database; v4 -> v5: 100%|██████████| 1/1 [00:00<00:00, 1079.89it/s]"
     ]
    },
    {
     "name": "stdout",
     "output_type": "stream",
     "text": [
      "\n",
      "\r",
      "0it [00:00, ?it/s]"
     ]
    },
    {
     "name": "stdout",
     "output_type": "stream",
     "text": [
      "\r",
      "Upgrading database; v5 -> v6: : 0it [00:00, ?it/s]"
     ]
    },
    {
     "name": "stdout",
     "output_type": "stream",
     "text": [
      "\r",
      "Upgrading database; v5 -> v6: : 0it [00:00, ?it/s]"
     ]
    },
    {
     "name": "stdout",
     "output_type": "stream",
     "text": [
      "\n",
      "\r",
      "  0%|          | 0/1 [00:00<?, ?it/s]"
     ]
    },
    {
     "name": "stdout",
     "output_type": "stream",
     "text": [
      "\r",
      "Upgrading database; v6 -> v7:   0%|          | 0/1 [00:00<?, ?it/s]"
     ]
    },
    {
     "name": "stdout",
     "output_type": "stream",
     "text": [
      "\r",
      "Upgrading database; v6 -> v7: 100%|██████████| 1/1 [00:00<00:00, 187.46it/s]"
     ]
    },
    {
     "name": "stdout",
     "output_type": "stream",
     "text": [
      "\n",
      "\r",
      "  0%|          | 0/1 [00:00<?, ?it/s]"
     ]
    },
    {
     "name": "stdout",
     "output_type": "stream",
     "text": [
      "\r",
      "Upgrading database; v7 -> v8:   0%|          | 0/1 [00:00<?, ?it/s]"
     ]
    },
    {
     "name": "stdout",
     "output_type": "stream",
     "text": [
      "\r",
      "Upgrading database; v7 -> v8: 100%|██████████| 1/1 [00:00<00:00, 397.30it/s]"
     ]
    },
    {
     "name": "stdout",
     "output_type": "stream",
     "text": [
      "\n",
      "\r",
      "  0%|          | 0/1 [00:00<?, ?it/s]"
     ]
    },
    {
     "name": "stdout",
     "output_type": "stream",
     "text": [
      "\r",
      "Upgrading database; v8 -> v9:   0%|          | 0/1 [00:00<?, ?it/s]"
     ]
    },
    {
     "name": "stdout",
     "output_type": "stream",
     "text": [
      "\r",
      "Upgrading database; v8 -> v9: 100%|██████████| 1/1 [00:00<00:00, 621.29it/s]"
     ]
    },
    {
     "name": "stdout",
     "output_type": "stream",
     "text": [
      "\n"
     ]
    }
   ],
   "source": [
    "initialise_database()\n",
    "exp = load_or_create_experiment(experiment_name='tutorial_exp', sample_name=\"no sample\")"
   ]
  },
  {
   "cell_type": "markdown",
   "metadata": {},
   "source": [
    "Here, we define a simple function to benchmark the time it takes to insert n points with either numeric or array data type.\n",
    "We will compare both the time used to call ``add_result`` and the time used for the full measurement."
   ]
  },
  {
   "cell_type": "code",
   "execution_count": 4,
   "metadata": {
    "execution": {
     "iopub.execute_input": "2021-02-16T06:19:00.531608Z",
     "iopub.status.busy": "2021-02-16T06:19:00.530020Z",
     "iopub.status.idle": "2021-02-16T06:19:00.534777Z",
     "shell.execute_reply": "2021-02-16T06:19:00.535265Z"
    }
   },
   "outputs": [],
   "source": [
    "def insert_data(paramtype, npoints, nreps=1):\n",
    "\n",
    "    meas = Measurement(exp=exp)\n",
    "\n",
    "    x1 = ManualParameter('x1')\n",
    "    x2 = ManualParameter('x2')\n",
    "    x3 = ManualParameter('x3')\n",
    "    y1 = ManualParameter('y1')\n",
    "    y2 = ManualParameter('y2')\n",
    "\n",
    "    meas.register_parameter(x1, paramtype=paramtype)\n",
    "    meas.register_parameter(x2, paramtype=paramtype)\n",
    "    meas.register_parameter(x3, paramtype=paramtype)\n",
    "    meas.register_parameter(y1, setpoints=[x1, x2, x3],\n",
    "                            paramtype=paramtype)\n",
    "    meas.register_parameter(y2, setpoints=[x1, x2, x3],\n",
    "                            paramtype=paramtype)\n",
    "    start = time.perf_counter()\n",
    "    with meas.run() as datasaver:\n",
    "        start_adding = time.perf_counter()\n",
    "        for i in range(nreps):\n",
    "            datasaver.add_result((x1, np.random.rand(npoints)),\n",
    "                                 (x2, np.random.rand(npoints)),\n",
    "                                 (x3, np.random.rand(npoints)),\n",
    "                                 (y1, np.random.rand(npoints)),\n",
    "                                 (y2, np.random.rand(npoints)))\n",
    "        stop_adding = time.perf_counter()\n",
    "        run_id = datasaver.run_id\n",
    "    stop = time.perf_counter()\n",
    "    tot_time = stop - start\n",
    "    add_time = stop_adding - start_adding\n",
    "    return tot_time, add_time, run_id"
   ]
  },
  {
   "cell_type": "markdown",
   "metadata": {},
   "source": [
    "## Comparison between numeric/array data and binary blob"
   ]
  },
  {
   "cell_type": "markdown",
   "metadata": {},
   "source": [
    "### Case1: Short experiment time"
   ]
  },
  {
   "cell_type": "code",
   "execution_count": 5,
   "metadata": {
    "execution": {
     "iopub.execute_input": "2021-02-16T06:19:00.542817Z",
     "iopub.status.busy": "2021-02-16T06:19:00.542095Z",
     "iopub.status.idle": "2021-02-16T06:19:01.398849Z",
     "shell.execute_reply": "2021-02-16T06:19:01.397893Z"
    }
   },
   "outputs": [
    {
     "name": "stdout",
     "output_type": "stream",
     "text": [
      "Starting experimental run with id: 1. \n",
      "Starting experimental run with id: 2. \n",
      "Starting experimental run with id: 3. \n",
      "Starting experimental run with id: 4. \n",
      "Starting experimental run with id: 5. \n"
     ]
    },
    {
     "name": "stdout",
     "output_type": "stream",
     "text": [
      "Starting experimental run with id: 6. \n"
     ]
    },
    {
     "name": "stdout",
     "output_type": "stream",
     "text": [
      "Starting experimental run with id: 7. \n"
     ]
    },
    {
     "name": "stdout",
     "output_type": "stream",
     "text": [
      "Starting experimental run with id: 8. \n",
      "Starting experimental run with id: 9. \n"
     ]
    },
    {
     "name": "stdout",
     "output_type": "stream",
     "text": [
      "Starting experimental run with id: 10. \n",
      "Starting experimental run with id: 11. \n"
     ]
    },
    {
     "name": "stdout",
     "output_type": "stream",
     "text": [
      "Starting experimental run with id: 12. \n",
      "Starting experimental run with id: 13. \n"
     ]
    },
    {
     "name": "stdout",
     "output_type": "stream",
     "text": [
      "Starting experimental run with id: 14. \n"
     ]
    }
   ],
   "source": [
    "sizes = [1,500,1000,2000,3000,4000,5000]\n",
    "t_numeric = []\n",
    "t_numeric_add = []\n",
    "t_array = []\n",
    "t_array_add = []\n",
    "for size in sizes:\n",
    "    tn, tna, run_id_n =  insert_data('numeric', size)\n",
    "    t_numeric.append(tn)\n",
    "    t_numeric_add.append(tna)\n",
    "\n",
    "    ta, taa, run_id_a =  insert_data('array', size)\n",
    "    t_array.append(ta)\n",
    "    t_array_add.append(taa)"
   ]
  },
  {
   "cell_type": "code",
   "execution_count": 6,
   "metadata": {
    "execution": {
     "iopub.execute_input": "2021-02-16T06:19:01.442714Z",
     "iopub.status.busy": "2021-02-16T06:19:01.425984Z",
     "iopub.status.idle": "2021-02-16T06:19:01.602613Z",
     "shell.execute_reply": "2021-02-16T06:19:01.603097Z"
    }
   },
   "outputs": [
    {
     "data": {
      "image/png": "[encoded data removed]",
      "text/plain": [
       "<Figure size 432x288 with 1 Axes>"
      ]
     },
     "metadata": {
      "needs_background": "light"
     },
     "output_type": "display_data"
    }
   ],
   "source": [
    "fig, ax = plt.subplots(1,1)\n",
    "ax.plot(sizes, t_numeric, 'o-', label='Inserting row-by-row')\n",
    "ax.plot(sizes, t_numeric_add, 'o-', label='Inserting row-by-row: add_result only')\n",
    "ax.plot(sizes, t_array, 'd-', label='Inserting as binary blob')\n",
    "ax.plot(sizes, t_array_add, 'd-', label='Inserting as binary blob: add_result only')\n",
    "ax.legend()\n",
    "ax.set_xlabel('Array length')\n",
    "ax.set_ylabel('Time (s)')\n",
    "fig.tight_layout()"
   ]
  },
  {
   "cell_type": "markdown",
   "metadata": {},
   "source": [
    "As shown in the latter figure, the time to setup and and close the experiment is approximately 0.4 sec. In case of small array sizes, the difference between inserting values of data as arrays and inserting them row-by-row is relatively unimportant. At larger array sizes, i.e. above 10000 points, the cost of writing data as individual datapoints starts to become important.\n"
   ]
  },
  {
   "cell_type": "markdown",
   "metadata": {},
   "source": [
    "### Case2: Long experiment time "
   ]
  },
  {
   "cell_type": "code",
   "execution_count": 7,
   "metadata": {
    "execution": {
     "iopub.execute_input": "2021-02-16T06:19:01.610388Z",
     "iopub.status.busy": "2021-02-16T06:19:01.609113Z",
     "iopub.status.idle": "2021-02-16T06:20:01.402599Z",
     "shell.execute_reply": "2021-02-16T06:20:01.402133Z"
    }
   },
   "outputs": [
    {
     "name": "stdout",
     "output_type": "stream",
     "text": [
      "Starting experimental run with id: 15. \n",
      "Starting experimental run with id: 16. \n",
      "Starting experimental run with id: 17. \n"
     ]
    },
    {
     "name": "stdout",
     "output_type": "stream",
     "text": [
      "Starting experimental run with id: 18. \n"
     ]
    },
    {
     "name": "stdout",
     "output_type": "stream",
     "text": [
      "Starting experimental run with id: 19. \n"
     ]
    },
    {
     "name": "stdout",
     "output_type": "stream",
     "text": [
      "Starting experimental run with id: 20. \n"
     ]
    },
    {
     "name": "stdout",
     "output_type": "stream",
     "text": [
      "Starting experimental run with id: 21. \n"
     ]
    },
    {
     "name": "stdout",
     "output_type": "stream",
     "text": [
      "Starting experimental run with id: 22. \n"
     ]
    },
    {
     "name": "stdout",
     "output_type": "stream",
     "text": [
      "Starting experimental run with id: 23. \n"
     ]
    },
    {
     "name": "stdout",
     "output_type": "stream",
     "text": [
      "Starting experimental run with id: 24. \n"
     ]
    },
    {
     "name": "stdout",
     "output_type": "stream",
     "text": [
      "Starting experimental run with id: 25. \n"
     ]
    },
    {
     "name": "stdout",
     "output_type": "stream",
     "text": [
      "Starting experimental run with id: 26. \n"
     ]
    },
    {
     "name": "stdout",
     "output_type": "stream",
     "text": [
      "Starting experimental run with id: 27. \n"
     ]
    },
    {
     "name": "stdout",
     "output_type": "stream",
     "text": [
      "Starting experimental run with id: 28. \n"
     ]
    }
   ],
   "source": [
    "sizes = [1,500,1000,2000,3000,4000,5000]\n",
    "nreps = 100\n",
    "t_numeric = []\n",
    "t_numeric_add = []\n",
    "t_numeric_run_ids = []\n",
    "t_array = []\n",
    "t_array_add = []\n",
    "t_array_run_ids = []\n",
    "for size in sizes:\n",
    "    tn, tna, run_id_n =  insert_data('numeric', size, nreps=nreps)\n",
    "    t_numeric.append(tn)\n",
    "    t_numeric_add.append(tna)\n",
    "    t_numeric_run_ids.append(run_id_n)\n",
    "\n",
    "    ta, taa, run_id_a =  insert_data('array', size, nreps=nreps)\n",
    "    t_array.append(ta)\n",
    "    t_array_add.append(taa)\n",
    "    t_array_run_ids.append(run_id_a)"
   ]
  },
  {
   "cell_type": "code",
   "execution_count": 8,
   "metadata": {
    "execution": {
     "iopub.execute_input": "2021-02-16T06:20:01.443310Z",
     "iopub.status.busy": "2021-02-16T06:20:01.433239Z",
     "iopub.status.idle": "2021-02-16T06:20:01.613592Z",
     "shell.execute_reply": "2021-02-16T06:20:01.614115Z"
    },
    "scrolled": true
   },
   "outputs": [
    {
     "data": {
      "image/png": "[encoded data removed]",
      "text/plain": [
       "<Figure size 432x288 with 1 Axes>"
      ]
     },
     "metadata": {
      "needs_background": "light"
     },
     "output_type": "display_data"
    }
   ],
   "source": [
    "fig, ax = plt.subplots(1,1)\n",
    "ax.plot(sizes, t_numeric, 'o-', label='Inserting row-by-row')\n",
    "ax.plot(sizes, t_numeric_add, 'o-', label='Inserting row-by-row: add_result only')\n",
    "ax.plot(sizes, t_array, 'd-', label='Inserting as binary blob')\n",
    "ax.plot(sizes, t_array_add, 'd-', label='Inserting as binary blob: add_result only')\n",
    "ax.legend()\n",
    "ax.set_xlabel('Array length')\n",
    "ax.set_ylabel('Time (s)')\n",
    "fig.tight_layout()"
   ]
  },
  {
   "cell_type": "markdown",
   "metadata": {},
   "source": [
    "However, as we increase the length of the experiment, as seen here by repeating the insertion 100 times, we see a big difference between inserting values of the data row-by-row and inserting it as a binary blob."
   ]
  },
  {
   "cell_type": "markdown",
   "metadata": {},
   "source": [
    "## Loading the data "
   ]
  },
  {
   "cell_type": "code",
   "execution_count": 9,
   "metadata": {
    "execution": {
     "iopub.execute_input": "2021-02-16T06:20:01.618788Z",
     "iopub.status.busy": "2021-02-16T06:20:01.617794Z",
     "iopub.status.idle": "2021-02-16T06:20:01.620923Z",
     "shell.execute_reply": "2021-02-16T06:20:01.620477Z"
    }
   },
   "outputs": [],
   "source": [
    "from qcodes.dataset.data_set import load_by_id\n",
    "from qcodes.dataset.data_export import get_data_by_id"
   ]
  },
  {
   "cell_type": "markdown",
   "metadata": {},
   "source": [
    "As usual you can load the data by using the ``load_by_id`` function but you will notice that the different storage methods\n",
    "are reflected in shape of the data as it is retrieved. "
   ]
  },
  {
   "cell_type": "code",
   "execution_count": 10,
   "metadata": {
    "execution": {
     "iopub.execute_input": "2021-02-16T06:20:01.625555Z",
     "iopub.status.busy": "2021-02-16T06:20:01.624299Z",
     "iopub.status.idle": "2021-02-16T06:20:01.626195Z",
     "shell.execute_reply": "2021-02-16T06:20:01.626670Z"
    }
   },
   "outputs": [],
   "source": [
    "run_id_n = t_numeric_run_ids[0]\n",
    "run_id_a = t_array_run_ids[0]"
   ]
  },
  {
   "cell_type": "code",
   "execution_count": 11,
   "metadata": {
    "execution": {
     "iopub.execute_input": "2021-02-16T06:20:01.630128Z",
     "iopub.status.busy": "2021-02-16T06:20:01.629549Z",
     "iopub.status.idle": "2021-02-16T06:20:01.638667Z",
     "shell.execute_reply": "2021-02-16T06:20:01.639182Z"
    },
    "scrolled": true
   },
   "outputs": [
    {
     "data": {
      "text/plain": [
       "{'x1': {'x1': array([0.12795104, 0.12795104, 0.66332007, 0.66332007, 0.128657  ,\n",
       "         0.128657  , 0.57450336, 0.57450336, 0.05201551, 0.05201551,\n",
       "         0.78578547, 0.78578547, 0.10419567, 0.10419567, 0.97683792,\n",
       "         0.97683792, 0.99064519, 0.99064519, 0.74851206, 0.74851206,\n",
       "         0.84638718, 0.84638718, 0.20442582, 0.20442582, 0.08169929,\n",
       "         0.08169929, 0.34196292, 0.34196292, 0.17876882, 0.17876882,\n",
       "         0.3207719 , 0.3207719 , 0.88016372, 0.88016372, 0.55665535,\n",
       "         0.55665535, 0.91903009, 0.91903009, 0.61099935, 0.61099935,\n",
       "         0.78018002, 0.78018002, 0.36358487, 0.36358487, 0.03186534,\n",
       "         0.03186534, 0.36492475, 0.36492475, 0.93415255, 0.93415255,\n",
       "         0.97451578, 0.97451578, 0.21851268, 0.21851268, 0.63753843,\n",
       "         0.63753843, 0.0047829 , 0.0047829 , 0.68186317, 0.68186317,\n",
       "         0.32122822, 0.32122822, 0.8921631 , 0.8921631 , 0.96826226,\n",
       "         0.96826226, 0.94862772, 0.94862772, 0.90195351, 0.90195351,\n",
       "         0.92324786, 0.92324786, 0.36902154, 0.36902154, 0.94939878,\n",
       "         0.94939878, 0.03535313, 0.03535313, 0.07407332, 0.07407332,\n",
       "         0.64109558, 0.64109558, 0.07343229, 0.07343229, 0.63682262,\n",
       "         0.63682262, 0.95219744, 0.95219744, 0.09926981, 0.09926981,\n",
       "         0.89214944, 0.89214944, 0.20116752, 0.20116752, 0.28669493,\n",
       "         0.28669493, 0.83689947, 0.83689947, 0.75245563, 0.75245563,\n",
       "         0.23493887, 0.23493887, 0.89009608, 0.89009608, 0.13230736,\n",
       "         0.13230736, 0.44155288, 0.44155288, 0.09194896, 0.09194896,\n",
       "         0.09388647, 0.09388647, 0.19146267, 0.19146267, 0.37099485,\n",
       "         0.37099485, 0.71540743, 0.71540743, 0.66707043, 0.66707043,\n",
       "         0.49471446, 0.49471446, 0.20082852, 0.20082852, 0.57642626,\n",
       "         0.57642626, 0.19247546, 0.19247546, 0.26632997, 0.26632997,\n",
       "         0.45629874, 0.45629874, 0.88968021, 0.88968021, 0.40687056,\n",
       "         0.40687056, 0.48456825, 0.48456825, 0.80741344, 0.80741344,\n",
       "         0.97188859, 0.97188859, 0.77740221, 0.77740221, 0.71480626,\n",
       "         0.71480626, 0.49168655, 0.49168655, 0.40185425, 0.40185425,\n",
       "         0.97035505, 0.97035505, 0.41600919, 0.41600919, 0.04588432,\n",
       "         0.04588432, 0.27438151, 0.27438151, 0.98795864, 0.98795864,\n",
       "         0.14558834, 0.14558834, 0.7637157 , 0.7637157 , 0.64782065,\n",
       "         0.64782065, 0.18400677, 0.18400677, 0.84179599, 0.84179599,\n",
       "         0.80886136, 0.80886136, 0.94847404, 0.94847404, 0.59877372,\n",
       "         0.59877372, 0.7242439 , 0.7242439 , 0.51229896, 0.51229896,\n",
       "         0.19725469, 0.19725469, 0.56306032, 0.56306032, 0.1773809 ,\n",
       "         0.1773809 , 0.16988533, 0.16988533, 0.28575562, 0.28575562,\n",
       "         0.54505307, 0.54505307, 0.34398614, 0.34398614, 0.77480057,\n",
       "         0.77480057, 0.84525249, 0.84525249, 0.41162379, 0.41162379])}}"
      ]
     },
     "execution_count": 1,
     "metadata": {},
     "output_type": "execute_result"
    }
   ],
   "source": [
    "ds = load_by_id(run_id_n)\n",
    "ds.get_parameter_data('x1')"
   ]
  },
  {
   "cell_type": "markdown",
   "metadata": {},
   "source": [
    "And a dataset stored as binary arrays"
   ]
  },
  {
   "cell_type": "code",
   "execution_count": 12,
   "metadata": {
    "execution": {
     "iopub.execute_input": "2021-02-16T06:20:01.642812Z",
     "iopub.status.busy": "2021-02-16T06:20:01.642250Z",
     "iopub.status.idle": "2021-02-16T06:20:01.702622Z",
     "shell.execute_reply": "2021-02-16T06:20:01.703512Z"
    },
    "scrolled": true
   },
   "outputs": [
    {
     "data": {
      "text/plain": [
       "{'x1': {'x1': array([[0.5015661 ],\n",
       "         [0.5015661 ],\n",
       "         [0.577215  ],\n",
       "         [0.577215  ],\n",
       "         [0.13165967],\n",
       "         [0.13165967],\n",
       "         [0.96863995],\n",
       "         [0.96863995],\n",
       "         [0.22867409],\n",
       "         [0.22867409],\n",
       "         [0.99708865],\n",
       "         [0.99708865],\n",
       "         [0.95951664],\n",
       "         [0.95951664],\n",
       "         [0.64197406],\n",
       "         [0.64197406],\n",
       "         [0.88334681],\n",
       "         [0.88334681],\n",
       "         [0.21342405],\n",
       "         [0.21342405],\n",
       "         [0.4141042 ],\n",
       "         [0.4141042 ],\n",
       "         [0.75979849],\n",
       "         [0.75979849],\n",
       "         [0.42130365],\n",
       "         [0.42130365],\n",
       "         [0.48481107],\n",
       "         [0.48481107],\n",
       "         [0.38152882],\n",
       "         [0.38152882],\n",
       "         [0.53536815],\n",
       "         [0.53536815],\n",
       "         [0.59679469],\n",
       "         [0.59679469],\n",
       "         [0.8771486 ],\n",
       "         [0.8771486 ],\n",
       "         [0.56625305],\n",
       "         [0.56625305],\n",
       "         [0.31508507],\n",
       "         [0.31508507],\n",
       "         [0.12663134],\n",
       "         [0.12663134],\n",
       "         [0.14925619],\n",
       "         [0.14925619],\n",
       "         [0.91388704],\n",
       "         [0.91388704],\n",
       "         [0.94194005],\n",
       "         [0.94194005],\n",
       "         [0.38954666],\n",
       "         [0.38954666],\n",
       "         [0.35010045],\n",
       "         [0.35010045],\n",
       "         [0.37730688],\n",
       "         [0.37730688],\n",
       "         [0.16947913],\n",
       "         [0.16947913],\n",
       "         [0.44811024],\n",
       "         [0.44811024],\n",
       "         [0.19983728],\n",
       "         [0.19983728],\n",
       "         [0.4624922 ],\n",
       "         [0.4624922 ],\n",
       "         [0.29428988],\n",
       "         [0.29428988],\n",
       "         [0.47666884],\n",
       "         [0.47666884],\n",
       "         [0.45786563],\n",
       "         [0.45786563],\n",
       "         [0.46088199],\n",
       "         [0.46088199],\n",
       "         [0.03367338],\n",
       "         [0.03367338],\n",
       "         [0.81980105],\n",
       "         [0.81980105],\n",
       "         [0.14334699],\n",
       "         [0.14334699],\n",
       "         [0.49795632],\n",
       "         [0.49795632],\n",
       "         [0.59843055],\n",
       "         [0.59843055],\n",
       "         [0.44508893],\n",
       "         [0.44508893],\n",
       "         [0.92958683],\n",
       "         [0.92958683],\n",
       "         [0.87790055],\n",
       "         [0.87790055],\n",
       "         [0.49317128],\n",
       "         [0.49317128],\n",
       "         [0.36504182],\n",
       "         [0.36504182],\n",
       "         [0.3104878 ],\n",
       "         [0.3104878 ],\n",
       "         [0.17656286],\n",
       "         [0.17656286],\n",
       "         [0.10023803],\n",
       "         [0.10023803],\n",
       "         [0.85967896],\n",
       "         [0.85967896],\n",
       "         [0.72901099],\n",
       "         [0.72901099],\n",
       "         [0.10800361],\n",
       "         [0.10800361],\n",
       "         [0.48731374],\n",
       "         [0.48731374],\n",
       "         [0.41820629],\n",
       "         [0.41820629],\n",
       "         [0.81604351],\n",
       "         [0.81604351],\n",
       "         [0.63236879],\n",
       "         [0.63236879],\n",
       "         [0.74640087],\n",
       "         [0.74640087],\n",
       "         [0.4691317 ],\n",
       "         [0.4691317 ],\n",
       "         [0.07037015],\n",
       "         [0.07037015],\n",
       "         [0.96940836],\n",
       "         [0.96940836],\n",
       "         [0.61634114],\n",
       "         [0.61634114],\n",
       "         [0.06702773],\n",
       "         [0.06702773],\n",
       "         [0.3848607 ],\n",
       "         [0.3848607 ],\n",
       "         [0.83146237],\n",
       "         [0.83146237],\n",
       "         [0.98096991],\n",
       "         [0.98096991],\n",
       "         [0.43468159],\n",
       "         [0.43468159],\n",
       "         [0.56236514],\n",
       "         [0.56236514],\n",
       "         [0.73811629],\n",
       "         [0.73811629],\n",
       "         [0.78269165],\n",
       "         [0.78269165],\n",
       "         [0.50342211],\n",
       "         [0.50342211],\n",
       "         [0.37786099],\n",
       "         [0.37786099],\n",
       "         [0.24803151],\n",
       "         [0.24803151],\n",
       "         [0.29121085],\n",
       "         [0.29121085],\n",
       "         [0.9912087 ],\n",
       "         [0.9912087 ],\n",
       "         [0.74908546],\n",
       "         [0.74908546],\n",
       "         [0.21385752],\n",
       "         [0.21385752],\n",
       "         [0.90098606],\n",
       "         [0.90098606],\n",
       "         [0.06899454],\n",
       "         [0.06899454],\n",
       "         [0.14540275],\n",
       "         [0.14540275],\n",
       "         [0.40111597],\n",
       "         [0.40111597],\n",
       "         [0.48739334],\n",
       "         [0.48739334],\n",
       "         [0.98687479],\n",
       "         [0.98687479],\n",
       "         [0.60526336],\n",
       "         [0.60526336],\n",
       "         [0.97384873],\n",
       "         [0.97384873],\n",
       "         [0.46340757],\n",
       "         [0.46340757],\n",
       "         [0.09539901],\n",
       "         [0.09539901],\n",
       "         [0.78935933],\n",
       "         [0.78935933],\n",
       "         [0.57650116],\n",
       "         [0.57650116],\n",
       "         [0.09218853],\n",
       "         [0.09218853],\n",
       "         [0.74849682],\n",
       "         [0.74849682],\n",
       "         [0.46663263],\n",
       "         [0.46663263],\n",
       "         [0.21327121],\n",
       "         [0.21327121],\n",
       "         [0.07429664],\n",
       "         [0.07429664],\n",
       "         [0.53390542],\n",
       "         [0.53390542],\n",
       "         [0.30479841],\n",
       "         [0.30479841],\n",
       "         [0.68657076],\n",
       "         [0.68657076],\n",
       "         [0.94821403],\n",
       "         [0.94821403],\n",
       "         [0.94787342],\n",
       "         [0.94787342],\n",
       "         [0.96662108],\n",
       "         [0.96662108],\n",
       "         [0.66482471],\n",
       "         [0.66482471],\n",
       "         [0.21317561],\n",
       "         [0.21317561]])}}"
      ]
     },
     "execution_count": 1,
     "metadata": {},
     "output_type": "execute_result"
    }
   ],
   "source": [
    "ds = load_by_id(run_id_a)\n",
    "ds.get_parameter_data('x1')"
   ]
  },
  {
   "cell_type": "code",
   "execution_count": null,
   "metadata": {},
   "outputs": [],
   "source": []
  }
 ],
 "metadata": {
  "kernelspec": {
   "display_name": "Python 3",
   "language": "python",
   "name": "python3"
  },
  "language_info": {
   "codemirror_mode": {
    "name": "ipython",
    "version": 3
   },
   "file_extension": ".py",
   "mimetype": "text/x-python",
   "name": "python",
   "nbconvert_exporter": "python",
   "pygments_lexer": "ipython3",
   "version": "3.7.9"
  },
  "nbsphinx": {
   "timeout": 600
  },
  "toc": {
   "base_numbering": 1,
   "nav_menu": {},
   "number_sections": true,
   "sideBar": true,
   "skip_h1_title": false,
   "title_cell": "Table of Contents",
   "title_sidebar": "Contents",
   "toc_cell": false,
   "toc_position": {},
   "toc_section_display": true,
   "toc_window_display": false
  },
  "varInspector": {
   "cols": {
    "lenName": 16,
    "lenType": 16,
    "lenVar": 40
   },
   "kernels_config": {
    "python": {
     "delete_cmd_postfix": "",
     "delete_cmd_prefix": "del ",
     "library": "var_list.py",
     "varRefreshCmd": "print(var_dic_list())"
    },
    "r": {
     "delete_cmd_postfix": ") ",
     "delete_cmd_prefix": "rm(",
     "library": "var_list.r",
     "varRefreshCmd": "cat(var_dic_list()) "
    }
   },
   "types_to_exclude": [
    "module",
    "function",
    "builtin_function_or_method",
    "instance",
    "_Feature"
   ],
   "window_display": false
  }
 },
 "nbformat": 4,
 "nbformat_minor": 2
}
