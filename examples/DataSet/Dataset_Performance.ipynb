{
 "cells": [
  {
   "cell_type": "markdown",
   "metadata": {},
   "source": [
    "# DataSet Performance\n",
    "\n",
    "This notebook shows the trade-off between inserting data into a database row-by-row and as binary blobs. Inserting the data row-by-row means that we have direct access to all the data and may perform queries directly on the values of the data. On the other hand, as we shall see, this is much slower than inserting the data directly as binary blobs."
   ]
  },
  {
   "cell_type": "markdown",
   "metadata": {},
   "source": [
    "First, we choose a new location for the database to ensure that we don't add a bunch of benchmarking data to the default one."
   ]
  },
  {
   "cell_type": "code",
   "execution_count": 1,
   "metadata": {
    "execution": {
     "iopub.execute_input": "2020-10-28T11:56:47.753181Z",
     "iopub.status.busy": "2020-10-28T11:56:47.752509Z",
     "iopub.status.idle": "2020-10-28T11:56:48.842952Z",
     "shell.execute_reply": "2020-10-28T11:56:48.842324Z"
    }
   },
   "outputs": [
    {
     "name": "stdout",
     "output_type": "stream",
     "text": [
      "Logging hadn't been started.\n",
      "Activating auto-logging. Current session state plus future input saved.\n",
      "Filename       : /home/vsts/.qcodes/logs/command_history.log\n",
      "Mode           : append\n",
      "Output logging : True\n",
      "Raw input log  : False\n",
      "Timestamping   : True\n",
      "State          : active\n"
     ]
    },
    {
     "name": "stdout",
     "output_type": "stream",
     "text": [
      "Qcodes Logfile : /home/vsts/.qcodes/logs/201028-15093-qcodes.log\n"
     ]
    }
   ],
   "source": [
    "import os\n",
    "cwd = os.getcwd()\n",
    "import qcodes as qc\n",
    "qc.config[\"core\"][\"db_location\"] = os.path.join(cwd, 'testing.db')\n"
   ]
  },
  {
   "cell_type": "code",
   "execution_count": 2,
   "metadata": {
    "execution": {
     "iopub.execute_input": "2020-10-28T11:56:48.849755Z",
     "iopub.status.busy": "2020-10-28T11:56:48.849085Z",
     "iopub.status.idle": "2020-10-28T11:56:49.054998Z",
     "shell.execute_reply": "2020-10-28T11:56:49.054338Z"
    }
   },
   "outputs": [],
   "source": [
    "%matplotlib inline\n",
    "import time\n",
    "import matplotlib.pyplot as plt\n",
    "import numpy as np\n",
    "\n",
    "import qcodes as qc\n",
    "from qcodes.instrument.parameter import ManualParameter\n",
    "from qcodes.dataset.experiment_container import (Experiment,\n",
    "                                                 load_last_experiment,\n",
    "                                                 new_experiment)\n",
    "from qcodes.dataset.sqlite.database import initialise_database\n",
    "from qcodes import load_or_create_experiment\n",
    "from qcodes.dataset.measurements import Measurement"
   ]
  },
  {
   "cell_type": "code",
   "execution_count": 3,
   "metadata": {
    "execution": {
     "iopub.execute_input": "2020-10-28T11:56:49.059106Z",
     "iopub.status.busy": "2020-10-28T11:56:49.058459Z",
     "iopub.status.idle": "2020-10-28T11:56:49.183108Z",
     "shell.execute_reply": "2020-10-28T11:56:49.182609Z"
    }
   },
   "outputs": [
    {
     "name": "stdout",
     "output_type": "stream",
     "text": [
      "\r",
      "0it [00:00, ?it/s]"
     ]
    },
    {
     "name": "stdout",
     "output_type": "stream",
     "text": [
      "\r",
      "Upgrading database; v0 -> v1: : 0it [00:00, ?it/s]"
     ]
    },
    {
     "name": "stdout",
     "output_type": "stream",
     "text": [
      "\r",
      "Upgrading database; v0 -> v1: : 0it [00:00, ?it/s]"
     ]
    },
    {
     "name": "stdout",
     "output_type": "stream",
     "text": [
      "\n",
      "\r",
      "  0%|          | 0/1 [00:00<?, ?it/s]"
     ]
    },
    {
     "name": "stdout",
     "output_type": "stream",
     "text": [
      "\r",
      "Upgrading database; v1 -> v2:   0%|          | 0/1 [00:00<?, ?it/s]"
     ]
    },
    {
     "name": "stdout",
     "output_type": "stream",
     "text": [
      "\r",
      "Upgrading database; v1 -> v2: 100%|██████████| 1/1 [00:00<00:00, 684.11it/s]"
     ]
    },
    {
     "name": "stdout",
     "output_type": "stream",
     "text": [
      "\n",
      "\r",
      "0it [00:00, ?it/s]"
     ]
    },
    {
     "name": "stdout",
     "output_type": "stream",
     "text": [
      "\r",
      "Upgrading database; v2 -> v3: : 0it [00:00, ?it/s]"
     ]
    },
    {
     "name": "stdout",
     "output_type": "stream",
     "text": [
      "\r",
      "Upgrading database; v2 -> v3: : 0it [00:00, ?it/s]"
     ]
    },
    {
     "name": "stdout",
     "output_type": "stream",
     "text": [
      "\n",
      "\r",
      "0it [00:00, ?it/s]"
     ]
    },
    {
     "name": "stdout",
     "output_type": "stream",
     "text": [
      "\r",
      "Upgrading database; v3 -> v4: : 0it [00:00, ?it/s]"
     ]
    },
    {
     "name": "stdout",
     "output_type": "stream",
     "text": [
      "\r",
      "Upgrading database; v3 -> v4: : 0it [00:00, ?it/s]"
     ]
    },
    {
     "name": "stdout",
     "output_type": "stream",
     "text": [
      "\n",
      "\r",
      "  0%|          | 0/1 [00:00<?, ?it/s]"
     ]
    },
    {
     "name": "stdout",
     "output_type": "stream",
     "text": [
      "\r",
      "Upgrading database; v4 -> v5:   0%|          | 0/1 [00:00<?, ?it/s]"
     ]
    },
    {
     "name": "stdout",
     "output_type": "stream",
     "text": [
      "\r",
      "Upgrading database; v4 -> v5: 100%|██████████| 1/1 [00:00<00:00, 467.70it/s]"
     ]
    },
    {
     "name": "stdout",
     "output_type": "stream",
     "text": [
      "\n",
      "\r",
      "0it [00:00, ?it/s]"
     ]
    },
    {
     "name": "stdout",
     "output_type": "stream",
     "text": [
      "\r",
      "Upgrading database; v5 -> v6: : 0it [00:00, ?it/s]"
     ]
    },
    {
     "name": "stdout",
     "output_type": "stream",
     "text": [
      "\r",
      "Upgrading database; v5 -> v6: : 0it [00:00, ?it/s]"
     ]
    },
    {
     "name": "stdout",
     "output_type": "stream",
     "text": [
      "\n",
      "\r",
      "  0%|          | 0/1 [00:00<?, ?it/s]"
     ]
    },
    {
     "name": "stdout",
     "output_type": "stream",
     "text": [
      "\r",
      "Upgrading database; v6 -> v7:   0%|          | 0/1 [00:00<?, ?it/s]"
     ]
    },
    {
     "name": "stdout",
     "output_type": "stream",
     "text": [
      "\r",
      "Upgrading database; v6 -> v7: 100%|██████████| 1/1 [00:00<00:00, 329.84it/s]"
     ]
    },
    {
     "name": "stdout",
     "output_type": "stream",
     "text": [
      "\n",
      "\r",
      "  0%|          | 0/1 [00:00<?, ?it/s]"
     ]
    },
    {
     "name": "stdout",
     "output_type": "stream",
     "text": [
      "\r",
      "Upgrading database; v7 -> v8:   0%|          | 0/1 [00:00<?, ?it/s]"
     ]
    },
    {
     "name": "stdout",
     "output_type": "stream",
     "text": [
      "\r",
      "Upgrading database; v7 -> v8: 100%|██████████| 1/1 [00:00<00:00, 648.37it/s]"
     ]
    },
    {
     "name": "stdout",
     "output_type": "stream",
     "text": [
      "\n",
      "\r",
      "  0%|          | 0/1 [00:00<?, ?it/s]"
     ]
    },
    {
     "name": "stdout",
     "output_type": "stream",
     "text": [
      "\r",
      "Upgrading database; v8 -> v9:   0%|          | 0/1 [00:00<?, ?it/s]"
     ]
    },
    {
     "name": "stdout",
     "output_type": "stream",
     "text": [
      "\r",
      "Upgrading database; v8 -> v9: 100%|██████████| 1/1 [00:00<00:00, 731.73it/s]"
     ]
    },
    {
     "name": "stdout",
     "output_type": "stream",
     "text": [
      "\n"
     ]
    }
   ],
   "source": [
    "initialise_database()\n",
    "exp = load_or_create_experiment(experiment_name='tutorial_exp', sample_name=\"no sample\")"
   ]
  },
  {
   "cell_type": "markdown",
   "metadata": {},
   "source": [
    "Here, we define a simple function to benchmark the time it takes to insert n points with either numeric or array data type.\n",
    "We will compare both the time used to call ``add_result`` and the time used for the full measurement."
   ]
  },
  {
   "cell_type": "code",
   "execution_count": 4,
   "metadata": {
    "execution": {
     "iopub.execute_input": "2020-10-28T11:56:49.191567Z",
     "iopub.status.busy": "2020-10-28T11:56:49.189948Z",
     "iopub.status.idle": "2020-10-28T11:56:49.193670Z",
     "shell.execute_reply": "2020-10-28T11:56:49.193193Z"
    }
   },
   "outputs": [],
   "source": [
    "def insert_data(paramtype, npoints, nreps=1):\n",
    "\n",
    "    meas = Measurement(exp=exp)\n",
    "\n",
    "    x1 = ManualParameter('x1')\n",
    "    x2 = ManualParameter('x2')\n",
    "    x3 = ManualParameter('x3')\n",
    "    y1 = ManualParameter('y1')\n",
    "    y2 = ManualParameter('y2')\n",
    "\n",
    "    meas.register_parameter(x1, paramtype=paramtype)\n",
    "    meas.register_parameter(x2, paramtype=paramtype)\n",
    "    meas.register_parameter(x3, paramtype=paramtype)\n",
    "    meas.register_parameter(y1, setpoints=[x1, x2, x3],\n",
    "                            paramtype=paramtype)\n",
    "    meas.register_parameter(y2, setpoints=[x1, x2, x3],\n",
    "                            paramtype=paramtype)\n",
    "    start = time.perf_counter()\n",
    "    with meas.run() as datasaver:\n",
    "        start_adding = time.perf_counter()\n",
    "        for i in range(nreps):\n",
    "            datasaver.add_result((x1, np.random.rand(npoints)),\n",
    "                                 (x2, np.random.rand(npoints)),\n",
    "                                 (x3, np.random.rand(npoints)),\n",
    "                                 (y1, np.random.rand(npoints)),\n",
    "                                 (y2, np.random.rand(npoints)))\n",
    "        stop_adding = time.perf_counter()\n",
    "        run_id = datasaver.run_id\n",
    "    stop = time.perf_counter()\n",
    "    tot_time = stop - start\n",
    "    add_time = stop_adding - start_adding\n",
    "    return tot_time, add_time, run_id"
   ]
  },
  {
   "cell_type": "markdown",
   "metadata": {},
   "source": [
    "## Comparison between numeric/array data and binary blob"
   ]
  },
  {
   "cell_type": "markdown",
   "metadata": {},
   "source": [
    "### Case1: Short experiment time"
   ]
  },
  {
   "cell_type": "code",
   "execution_count": 5,
   "metadata": {
    "execution": {
     "iopub.execute_input": "2020-10-28T11:56:49.200236Z",
     "iopub.status.busy": "2020-10-28T11:56:49.198535Z",
     "iopub.status.idle": "2020-10-28T11:56:50.108197Z",
     "shell.execute_reply": "2020-10-28T11:56:50.108688Z"
    }
   },
   "outputs": [
    {
     "name": "stdout",
     "output_type": "stream",
     "text": [
      "Starting experimental run with id: 1. \n",
      "Starting experimental run with id: 2. \n",
      "Starting experimental run with id: 3. \n",
      "Starting experimental run with id: 4. \n"
     ]
    },
    {
     "name": "stdout",
     "output_type": "stream",
     "text": [
      "Starting experimental run with id: 5. \n"
     ]
    },
    {
     "name": "stdout",
     "output_type": "stream",
     "text": [
      "Starting experimental run with id: 6. \n",
      "Starting experimental run with id: 7. \n"
     ]
    },
    {
     "name": "stdout",
     "output_type": "stream",
     "text": [
      "Starting experimental run with id: 8. \n"
     ]
    },
    {
     "name": "stdout",
     "output_type": "stream",
     "text": [
      "Starting experimental run with id: 9. \n"
     ]
    },
    {
     "name": "stdout",
     "output_type": "stream",
     "text": [
      "Starting experimental run with id: 10. \n",
      "Starting experimental run with id: 11. \n"
     ]
    },
    {
     "name": "stdout",
     "output_type": "stream",
     "text": [
      "Starting experimental run with id: 12. \n"
     ]
    },
    {
     "name": "stdout",
     "output_type": "stream",
     "text": [
      "Starting experimental run with id: 13. \n"
     ]
    },
    {
     "name": "stdout",
     "output_type": "stream",
     "text": [
      "Starting experimental run with id: 14. \n"
     ]
    }
   ],
   "source": [
    "sizes = [1,500,1000,2000,3000,4000,5000]\n",
    "t_numeric = []\n",
    "t_numeric_add = []\n",
    "t_array = []\n",
    "t_array_add = []\n",
    "for size in sizes:\n",
    "    tn, tna, run_id_n =  insert_data('numeric', size)\n",
    "    t_numeric.append(tn)\n",
    "    t_numeric_add.append(tna)\n",
    "\n",
    "    ta, taa, run_id_a =  insert_data('array', size)\n",
    "    t_array.append(ta)\n",
    "    t_array_add.append(taa)"
   ]
  },
  {
   "cell_type": "code",
   "execution_count": 6,
   "metadata": {
    "execution": {
     "iopub.execute_input": "2020-10-28T11:56:50.139520Z",
     "iopub.status.busy": "2020-10-28T11:56:50.126441Z",
     "iopub.status.idle": "2020-10-28T11:56:50.328314Z",
     "shell.execute_reply": "2020-10-28T11:56:50.327756Z"
    }
   },
   "outputs": [
    {
     "data": {
      "image/png": "[encoded data removed]",
      "text/plain": [
       "<Figure size 432x288 with 1 Axes>"
      ]
     },
     "metadata": {
      "needs_background": "light"
     },
     "output_type": "display_data"
    }
   ],
   "source": [
    "fig, ax = plt.subplots(1,1)\n",
    "ax.plot(sizes, t_numeric, 'o-', label='Inserting row-by-row')\n",
    "ax.plot(sizes, t_numeric_add, 'o-', label='Inserting row-by-row: add_result only')\n",
    "ax.plot(sizes, t_array, 'd-', label='Inserting as binary blob')\n",
    "ax.plot(sizes, t_array_add, 'd-', label='Inserting as binary blob: add_result only')\n",
    "ax.legend()\n",
    "ax.set_xlabel('Array length')\n",
    "ax.set_ylabel('Time (s)')\n",
    "fig.tight_layout()"
   ]
  },
  {
   "cell_type": "markdown",
   "metadata": {},
   "source": [
    "As shown in the latter figure, the time to setup and and close the experiment is approximately 0.4 sec. In case of small array sizes, the difference between inserting values of data as arrays and inserting them row-by-row is relatively unimportant. At larger array sizes, i.e. above 10000 points, the cost of writing data as individual datapoints starts to become important.\n"
   ]
  },
  {
   "cell_type": "markdown",
   "metadata": {},
   "source": [
    "### Case2: Long experiment time "
   ]
  },
  {
   "cell_type": "code",
   "execution_count": 7,
   "metadata": {
    "execution": {
     "iopub.execute_input": "2020-10-28T11:56:50.335523Z",
     "iopub.status.busy": "2020-10-28T11:56:50.333152Z",
     "iopub.status.idle": "2020-10-28T11:57:48.805491Z",
     "shell.execute_reply": "2020-10-28T11:57:48.804759Z"
    }
   },
   "outputs": [
    {
     "name": "stdout",
     "output_type": "stream",
     "text": [
      "Starting experimental run with id: 15. \n",
      "Starting experimental run with id: 16. \n",
      "Starting experimental run with id: 17. \n"
     ]
    },
    {
     "name": "stdout",
     "output_type": "stream",
     "text": [
      "Starting experimental run with id: 18. \n",
      "Starting experimental run with id: 19. \n"
     ]
    },
    {
     "name": "stdout",
     "output_type": "stream",
     "text": [
      "Starting experimental run with id: 20. \n"
     ]
    },
    {
     "name": "stdout",
     "output_type": "stream",
     "text": [
      "Starting experimental run with id: 21. \n"
     ]
    },
    {
     "name": "stdout",
     "output_type": "stream",
     "text": [
      "Starting experimental run with id: 22. \n"
     ]
    },
    {
     "name": "stdout",
     "output_type": "stream",
     "text": [
      "Starting experimental run with id: 23. \n"
     ]
    },
    {
     "name": "stdout",
     "output_type": "stream",
     "text": [
      "Starting experimental run with id: 24. \n"
     ]
    },
    {
     "name": "stdout",
     "output_type": "stream",
     "text": [
      "Starting experimental run with id: 25. \n"
     ]
    },
    {
     "name": "stdout",
     "output_type": "stream",
     "text": [
      "Starting experimental run with id: 26. \n"
     ]
    },
    {
     "name": "stdout",
     "output_type": "stream",
     "text": [
      "Starting experimental run with id: 27. \n"
     ]
    },
    {
     "name": "stdout",
     "output_type": "stream",
     "text": [
      "Starting experimental run with id: 28. \n"
     ]
    }
   ],
   "source": [
    "sizes = [1,500,1000,2000,3000,4000,5000]\n",
    "nreps = 100\n",
    "t_numeric = []\n",
    "t_numeric_add = []\n",
    "t_numeric_run_ids = []\n",
    "t_array = []\n",
    "t_array_add = []\n",
    "t_array_run_ids = []\n",
    "for size in sizes:\n",
    "    tn, tna, run_id_n =  insert_data('numeric', size, nreps=nreps)\n",
    "    t_numeric.append(tn)\n",
    "    t_numeric_add.append(tna)\n",
    "    t_numeric_run_ids.append(run_id_n)\n",
    "\n",
    "    ta, taa, run_id_a =  insert_data('array', size, nreps=nreps)\n",
    "    t_array.append(ta)\n",
    "    t_array_add.append(taa)\n",
    "    t_array_run_ids.append(run_id_a)"
   ]
  },
  {
   "cell_type": "code",
   "execution_count": 8,
   "metadata": {
    "execution": {
     "iopub.execute_input": "2020-10-28T11:57:48.853186Z",
     "iopub.status.busy": "2020-10-28T11:57:48.822946Z",
     "iopub.status.idle": "2020-10-28T11:57:49.029942Z",
     "shell.execute_reply": "2020-10-28T11:57:49.029417Z"
    },
    "scrolled": true
   },
   "outputs": [
    {
     "data": {
      "image/png": "[encoded data removed]",
      "text/plain": [
       "<Figure size 432x288 with 1 Axes>"
      ]
     },
     "metadata": {
      "needs_background": "light"
     },
     "output_type": "display_data"
    }
   ],
   "source": [
    "fig, ax = plt.subplots(1,1)\n",
    "ax.plot(sizes, t_numeric, 'o-', label='Inserting row-by-row')\n",
    "ax.plot(sizes, t_numeric_add, 'o-', label='Inserting row-by-row: add_result only')\n",
    "ax.plot(sizes, t_array, 'd-', label='Inserting as binary blob')\n",
    "ax.plot(sizes, t_array_add, 'd-', label='Inserting as binary blob: add_result only')\n",
    "ax.legend()\n",
    "ax.set_xlabel('Array length')\n",
    "ax.set_ylabel('Time (s)')\n",
    "fig.tight_layout()"
   ]
  },
  {
   "cell_type": "markdown",
   "metadata": {},
   "source": [
    "However, as we increase the length of the experiment, as seen here by repeating the insertion 100 times, we see a big difference between inserting values of the data row-by-row and inserting it as a binary blob."
   ]
  },
  {
   "cell_type": "markdown",
   "metadata": {},
   "source": [
    "## Loading the data "
   ]
  },
  {
   "cell_type": "code",
   "execution_count": 9,
   "metadata": {
    "execution": {
     "iopub.execute_input": "2020-10-28T11:57:49.034623Z",
     "iopub.status.busy": "2020-10-28T11:57:49.033527Z",
     "iopub.status.idle": "2020-10-28T11:57:49.036570Z",
     "shell.execute_reply": "2020-10-28T11:57:49.037021Z"
    }
   },
   "outputs": [],
   "source": [
    "from qcodes.dataset.data_set import load_by_id\n",
    "from qcodes.dataset.data_export import get_data_by_id"
   ]
  },
  {
   "cell_type": "markdown",
   "metadata": {},
   "source": [
    "As usual you can load the data by using the ``load_by_id`` function but you will notice that the different storage methods\n",
    "are reflected in shape of the data as it is retrieved. "
   ]
  },
  {
   "cell_type": "code",
   "execution_count": 10,
   "metadata": {
    "execution": {
     "iopub.execute_input": "2020-10-28T11:57:49.041619Z",
     "iopub.status.busy": "2020-10-28T11:57:49.040375Z",
     "iopub.status.idle": "2020-10-28T11:57:49.042275Z",
     "shell.execute_reply": "2020-10-28T11:57:49.042755Z"
    }
   },
   "outputs": [],
   "source": [
    "run_id_n = t_numeric_run_ids[0]\n",
    "run_id_a = t_array_run_ids[0]"
   ]
  },
  {
   "cell_type": "code",
   "execution_count": 11,
   "metadata": {
    "execution": {
     "iopub.execute_input": "2020-10-28T11:57:49.045922Z",
     "iopub.status.busy": "2020-10-28T11:57:49.045387Z",
     "iopub.status.idle": "2020-10-28T11:57:49.055051Z",
     "shell.execute_reply": "2020-10-28T11:57:49.055597Z"
    },
    "scrolled": true
   },
   "outputs": [
    {
     "data": {
      "text/plain": [
       "{'x1': {'x1': array([0.43824875, 0.43824875, 0.29289583, 0.29289583, 0.36745044,\n",
       "         0.36745044, 0.41452534, 0.41452534, 0.68600502, 0.68600502,\n",
       "         0.82852954, 0.82852954, 0.53872665, 0.53872665, 0.06296649,\n",
       "         0.06296649, 0.23955129, 0.23955129, 0.88517531, 0.88517531,\n",
       "         0.45095522, 0.45095522, 0.26613725, 0.26613725, 0.00204307,\n",
       "         0.00204307, 0.69478565, 0.69478565, 0.18301569, 0.18301569,\n",
       "         0.90663129, 0.90663129, 0.80668138, 0.80668138, 0.21707368,\n",
       "         0.21707368, 0.32942497, 0.32942497, 0.06959622, 0.06959622,\n",
       "         0.49583176, 0.49583176, 0.70335711, 0.70335711, 0.67342978,\n",
       "         0.67342978, 0.45838552, 0.45838552, 0.52485161, 0.52485161,\n",
       "         0.17709738, 0.17709738, 0.0027612 , 0.0027612 , 0.2985217 ,\n",
       "         0.2985217 , 0.21873105, 0.21873105, 0.45453297, 0.45453297,\n",
       "         0.20984773, 0.20984773, 0.2108707 , 0.2108707 , 0.34814048,\n",
       "         0.34814048, 0.95317137, 0.95317137, 0.29385873, 0.29385873,\n",
       "         0.90957756, 0.90957756, 0.03300968, 0.03300968, 0.90743224,\n",
       "         0.90743224, 0.95621326, 0.95621326, 0.15366917, 0.15366917,\n",
       "         0.59669675, 0.59669675, 0.50112912, 0.50112912, 0.52847508,\n",
       "         0.52847508, 0.26971794, 0.26971794, 0.86633624, 0.86633624,\n",
       "         0.92378056, 0.92378056, 0.65632309, 0.65632309, 0.18440498,\n",
       "         0.18440498, 0.11023684, 0.11023684, 0.0643223 , 0.0643223 ,\n",
       "         0.97506706, 0.97506706, 0.7399218 , 0.7399218 , 0.26959557,\n",
       "         0.26959557, 0.26725985, 0.26725985, 0.58356314, 0.58356314,\n",
       "         0.17188354, 0.17188354, 0.57028501, 0.57028501, 0.13759823,\n",
       "         0.13759823, 0.4880825 , 0.4880825 , 0.94206395, 0.94206395,\n",
       "         0.11043612, 0.11043612, 0.36301905, 0.36301905, 0.56975122,\n",
       "         0.56975122, 0.2137483 , 0.2137483 , 0.98430878, 0.98430878,\n",
       "         0.66040743, 0.66040743, 0.40755232, 0.40755232, 0.04135618,\n",
       "         0.04135618, 0.0935395 , 0.0935395 , 0.63041283, 0.63041283,\n",
       "         0.10450877, 0.10450877, 0.23473455, 0.23473455, 0.09431232,\n",
       "         0.09431232, 0.99324938, 0.99324938, 0.73430722, 0.73430722,\n",
       "         0.8609525 , 0.8609525 , 0.04540281, 0.04540281, 0.76518878,\n",
       "         0.76518878, 0.43228274, 0.43228274, 0.2391573 , 0.2391573 ,\n",
       "         0.21869257, 0.21869257, 0.21583149, 0.21583149, 0.61871863,\n",
       "         0.61871863, 0.78138633, 0.78138633, 0.69738702, 0.69738702,\n",
       "         0.92695858, 0.92695858, 0.35133047, 0.35133047, 0.1834363 ,\n",
       "         0.1834363 , 0.6944247 , 0.6944247 , 0.57114307, 0.57114307,\n",
       "         0.83818493, 0.83818493, 0.84930739, 0.84930739, 0.93844667,\n",
       "         0.93844667, 0.5381479 , 0.5381479 , 0.11872446, 0.11872446,\n",
       "         0.47687913, 0.47687913, 0.03969267, 0.03969267, 0.05546759,\n",
       "         0.05546759, 0.45299814, 0.45299814, 0.15264507, 0.15264507])}}"
      ]
     },
     "execution_count": 1,
     "metadata": {},
     "output_type": "execute_result"
    }
   ],
   "source": [
    "ds = load_by_id(run_id_n)\n",
    "ds.get_parameter_data('x1')"
   ]
  },
  {
   "cell_type": "markdown",
   "metadata": {},
   "source": [
    "And a dataset stored as binary arrays"
   ]
  },
  {
   "cell_type": "code",
   "execution_count": 12,
   "metadata": {
    "execution": {
     "iopub.execute_input": "2020-10-28T11:57:49.059448Z",
     "iopub.status.busy": "2020-10-28T11:57:49.058840Z",
     "iopub.status.idle": "2020-10-28T11:57:49.121510Z",
     "shell.execute_reply": "2020-10-28T11:57:49.121984Z"
    },
    "scrolled": true
   },
   "outputs": [
    {
     "data": {
      "text/plain": [
       "{'x1': {'x1': array([[0.69498713],\n",
       "         [0.69498713],\n",
       "         [0.56774181],\n",
       "         [0.56774181],\n",
       "         [0.32862441],\n",
       "         [0.32862441],\n",
       "         [0.34566809],\n",
       "         [0.34566809],\n",
       "         [0.06418449],\n",
       "         [0.06418449],\n",
       "         [0.27376684],\n",
       "         [0.27376684],\n",
       "         [0.62796201],\n",
       "         [0.62796201],\n",
       "         [0.41252978],\n",
       "         [0.41252978],\n",
       "         [0.74851766],\n",
       "         [0.74851766],\n",
       "         [0.11016444],\n",
       "         [0.11016444],\n",
       "         [0.70287446],\n",
       "         [0.70287446],\n",
       "         [0.79386965],\n",
       "         [0.79386965],\n",
       "         [0.01222766],\n",
       "         [0.01222766],\n",
       "         [0.27046114],\n",
       "         [0.27046114],\n",
       "         [0.15260225],\n",
       "         [0.15260225],\n",
       "         [0.1888329 ],\n",
       "         [0.1888329 ],\n",
       "         [0.05259969],\n",
       "         [0.05259969],\n",
       "         [0.83710415],\n",
       "         [0.83710415],\n",
       "         [0.90098333],\n",
       "         [0.90098333],\n",
       "         [0.42308595],\n",
       "         [0.42308595],\n",
       "         [0.79989383],\n",
       "         [0.79989383],\n",
       "         [0.23131306],\n",
       "         [0.23131306],\n",
       "         [0.14234354],\n",
       "         [0.14234354],\n",
       "         [0.67334595],\n",
       "         [0.67334595],\n",
       "         [0.42443277],\n",
       "         [0.42443277],\n",
       "         [0.98411202],\n",
       "         [0.98411202],\n",
       "         [0.32422413],\n",
       "         [0.32422413],\n",
       "         [0.75433451],\n",
       "         [0.75433451],\n",
       "         [0.1479108 ],\n",
       "         [0.1479108 ],\n",
       "         [0.24246626],\n",
       "         [0.24246626],\n",
       "         [0.96531862],\n",
       "         [0.96531862],\n",
       "         [0.00960971],\n",
       "         [0.00960971],\n",
       "         [0.17134194],\n",
       "         [0.17134194],\n",
       "         [0.01583398],\n",
       "         [0.01583398],\n",
       "         [0.17685903],\n",
       "         [0.17685903],\n",
       "         [0.31186179],\n",
       "         [0.31186179],\n",
       "         [0.58507996],\n",
       "         [0.58507996],\n",
       "         [0.21891561],\n",
       "         [0.21891561],\n",
       "         [0.81927197],\n",
       "         [0.81927197],\n",
       "         [0.3316259 ],\n",
       "         [0.3316259 ],\n",
       "         [0.60932742],\n",
       "         [0.60932742],\n",
       "         [0.99618087],\n",
       "         [0.99618087],\n",
       "         [0.92291856],\n",
       "         [0.92291856],\n",
       "         [0.32930087],\n",
       "         [0.32930087],\n",
       "         [0.42424425],\n",
       "         [0.42424425],\n",
       "         [0.13032573],\n",
       "         [0.13032573],\n",
       "         [0.74359186],\n",
       "         [0.74359186],\n",
       "         [0.22194933],\n",
       "         [0.22194933],\n",
       "         [0.27263189],\n",
       "         [0.27263189],\n",
       "         [0.16646153],\n",
       "         [0.16646153],\n",
       "         [0.17245594],\n",
       "         [0.17245594],\n",
       "         [0.1558089 ],\n",
       "         [0.1558089 ],\n",
       "         [0.79817029],\n",
       "         [0.79817029],\n",
       "         [0.01819454],\n",
       "         [0.01819454],\n",
       "         [0.42492825],\n",
       "         [0.42492825],\n",
       "         [0.99928008],\n",
       "         [0.99928008],\n",
       "         [0.22212682],\n",
       "         [0.22212682],\n",
       "         [0.78283049],\n",
       "         [0.78283049],\n",
       "         [0.56180653],\n",
       "         [0.56180653],\n",
       "         [0.02577109],\n",
       "         [0.02577109],\n",
       "         [0.84749972],\n",
       "         [0.84749972],\n",
       "         [0.16166818],\n",
       "         [0.16166818],\n",
       "         [0.8315229 ],\n",
       "         [0.8315229 ],\n",
       "         [0.29145761],\n",
       "         [0.29145761],\n",
       "         [0.83763002],\n",
       "         [0.83763002],\n",
       "         [0.27289648],\n",
       "         [0.27289648],\n",
       "         [0.06818132],\n",
       "         [0.06818132],\n",
       "         [0.16587747],\n",
       "         [0.16587747],\n",
       "         [0.74046914],\n",
       "         [0.74046914],\n",
       "         [0.9983617 ],\n",
       "         [0.9983617 ],\n",
       "         [0.70070235],\n",
       "         [0.70070235],\n",
       "         [0.92829876],\n",
       "         [0.92829876],\n",
       "         [0.38830812],\n",
       "         [0.38830812],\n",
       "         [0.7770133 ],\n",
       "         [0.7770133 ],\n",
       "         [0.00514322],\n",
       "         [0.00514322],\n",
       "         [0.85308604],\n",
       "         [0.85308604],\n",
       "         [0.7586268 ],\n",
       "         [0.7586268 ],\n",
       "         [0.04042965],\n",
       "         [0.04042965],\n",
       "         [0.52958535],\n",
       "         [0.52958535],\n",
       "         [0.00173696],\n",
       "         [0.00173696],\n",
       "         [0.46150242],\n",
       "         [0.46150242],\n",
       "         [0.81687673],\n",
       "         [0.81687673],\n",
       "         [0.66042831],\n",
       "         [0.66042831],\n",
       "         [0.3426727 ],\n",
       "         [0.3426727 ],\n",
       "         [0.45488257],\n",
       "         [0.45488257],\n",
       "         [0.35426432],\n",
       "         [0.35426432],\n",
       "         [0.52255366],\n",
       "         [0.52255366],\n",
       "         [0.17664903],\n",
       "         [0.17664903],\n",
       "         [0.05971757],\n",
       "         [0.05971757],\n",
       "         [0.12193836],\n",
       "         [0.12193836],\n",
       "         [0.37293315],\n",
       "         [0.37293315],\n",
       "         [0.5013651 ],\n",
       "         [0.5013651 ],\n",
       "         [0.07698686],\n",
       "         [0.07698686],\n",
       "         [0.4082265 ],\n",
       "         [0.4082265 ],\n",
       "         [0.2215112 ],\n",
       "         [0.2215112 ],\n",
       "         [0.91146722],\n",
       "         [0.91146722],\n",
       "         [0.56935998],\n",
       "         [0.56935998],\n",
       "         [0.86819935],\n",
       "         [0.86819935],\n",
       "         [0.6596702 ],\n",
       "         [0.6596702 ],\n",
       "         [0.26041203],\n",
       "         [0.26041203]])}}"
      ]
     },
     "execution_count": 1,
     "metadata": {},
     "output_type": "execute_result"
    }
   ],
   "source": [
    "ds = load_by_id(run_id_a)\n",
    "ds.get_parameter_data('x1')"
   ]
  },
  {
   "cell_type": "code",
   "execution_count": null,
   "metadata": {},
   "outputs": [],
   "source": []
  }
 ],
 "metadata": {
  "kernelspec": {
   "display_name": "Python 3",
   "language": "python",
   "name": "python3"
  },
  "language_info": {
   "codemirror_mode": {
    "name": "ipython",
    "version": 3
   },
   "file_extension": ".py",
   "mimetype": "text/x-python",
   "name": "python",
   "nbconvert_exporter": "python",
   "pygments_lexer": "ipython3",
   "version": "3.7.7"
  },
  "nbsphinx": {
   "timeout": 600
  },
  "toc": {
   "base_numbering": 1,
   "nav_menu": {},
   "number_sections": true,
   "sideBar": true,
   "skip_h1_title": false,
   "title_cell": "Table of Contents",
   "title_sidebar": "Contents",
   "toc_cell": false,
   "toc_position": {},
   "toc_section_display": true,
   "toc_window_display": false
  },
  "varInspector": {
   "cols": {
    "lenName": 16,
    "lenType": 16,
    "lenVar": 40
   },
   "kernels_config": {
    "python": {
     "delete_cmd_postfix": "",
     "delete_cmd_prefix": "del ",
     "library": "var_list.py",
     "varRefreshCmd": "print(var_dic_list())"
    },
    "r": {
     "delete_cmd_postfix": ") ",
     "delete_cmd_prefix": "rm(",
     "library": "var_list.r",
     "varRefreshCmd": "cat(var_dic_list()) "
    }
   },
   "types_to_exclude": [
    "module",
    "function",
    "builtin_function_or_method",
    "instance",
    "_Feature"
   ],
   "window_display": false
  }
 },
 "nbformat": 4,
 "nbformat_minor": 2
}
