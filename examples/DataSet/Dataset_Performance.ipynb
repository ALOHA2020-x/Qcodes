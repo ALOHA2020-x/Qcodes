{
 "cells": [
  {
   "cell_type": "markdown",
   "metadata": {},
   "source": [
    "# DataSet Performance\n",
    "\n",
    "This notebook shows the trade-off between inserting data into a database row-by-row and as binary blobs. Inserting the data row-by-row means that we have direct access to all the data and may perform queries directly on the values of the data. On the other hand, as we shall see, this is much slower than inserting the data directly as binary blobs."
   ]
  },
  {
   "cell_type": "markdown",
   "metadata": {},
   "source": [
    "First, we choose a new location for the database to ensure that we don't add a bunch of benchmarking data to the default one."
   ]
  },
  {
   "cell_type": "code",
   "execution_count": 1,
   "metadata": {},
   "outputs": [
    {
     "name": "stdout",
     "output_type": "stream",
     "text": [
      "Logging hadn't been started.\n",
      "Activating auto-logging. Current session state plus future input saved.\n",
      "Filename       : /home/vsts/.qcodes/logs/command_history.log\n",
      "Mode           : append\n",
      "Output logging : True\n",
      "Raw input log  : False\n",
      "Timestamping   : True\n",
      "State          : active\n"
     ]
    },
    {
     "name": "stdout",
     "output_type": "stream",
     "text": [
      "Qcodes Logfile : /home/vsts/.qcodes/logs/200609-19081-qcodes.log\n"
     ]
    }
   ],
   "source": [
    "import os\n",
    "cwd = os.getcwd()\n",
    "import qcodes as qc\n",
    "qc.config[\"core\"][\"db_location\"] = os.path.join(cwd, 'testing.db')\n"
   ]
  },
  {
   "cell_type": "code",
   "execution_count": 2,
   "metadata": {},
   "outputs": [],
   "source": [
    "%matplotlib inline\n",
    "import time\n",
    "import matplotlib.pyplot as plt\n",
    "import numpy as np\n",
    "\n",
    "import qcodes as qc\n",
    "from qcodes.instrument.parameter import ManualParameter\n",
    "from qcodes.dataset.experiment_container import (Experiment,\n",
    "                                                 load_last_experiment,\n",
    "                                                 new_experiment)\n",
    "from qcodes.dataset.sqlite.database import initialise_database\n",
    "from qcodes import load_or_create_experiment\n",
    "from qcodes.dataset.measurements import Measurement"
   ]
  },
  {
   "cell_type": "code",
   "execution_count": 3,
   "metadata": {},
   "outputs": [
    {
     "name": "stdout",
     "output_type": "stream",
     "text": [
      "\r",
      "0it [00:00, ?it/s]"
     ]
    },
    {
     "name": "stdout",
     "output_type": "stream",
     "text": [
      "\r",
      "Upgrading database; v0 -> v1: : 0it [00:00, ?it/s]"
     ]
    },
    {
     "name": "stdout",
     "output_type": "stream",
     "text": [
      "\r",
      "Upgrading database; v0 -> v1: : 0it [00:00, ?it/s]"
     ]
    },
    {
     "name": "stdout",
     "output_type": "stream",
     "text": [
      "\n",
      "\r",
      "  0%|          | 0/1 [00:00<?, ?it/s]"
     ]
    },
    {
     "name": "stdout",
     "output_type": "stream",
     "text": [
      "\r",
      "Upgrading database; v1 -> v2:   0%|          | 0/1 [00:00<?, ?it/s]"
     ]
    },
    {
     "name": "stdout",
     "output_type": "stream",
     "text": [
      "\r",
      "Upgrading database; v1 -> v2: 100%|██████████| 1/1 [00:00<00:00, 886.56it/s]"
     ]
    },
    {
     "name": "stdout",
     "output_type": "stream",
     "text": [
      "\n",
      "\r",
      "0it [00:00, ?it/s]"
     ]
    },
    {
     "name": "stdout",
     "output_type": "stream",
     "text": [
      "\r",
      "Upgrading database; v2 -> v3: : 0it [00:00, ?it/s]"
     ]
    },
    {
     "name": "stdout",
     "output_type": "stream",
     "text": [
      "\r",
      "Upgrading database; v2 -> v3: : 0it [00:00, ?it/s]"
     ]
    },
    {
     "name": "stdout",
     "output_type": "stream",
     "text": [
      "\n",
      "\r",
      "0it [00:00, ?it/s]"
     ]
    },
    {
     "name": "stdout",
     "output_type": "stream",
     "text": [
      "\r",
      "Upgrading database; v3 -> v4: : 0it [00:00, ?it/s]"
     ]
    },
    {
     "name": "stdout",
     "output_type": "stream",
     "text": [
      "\r",
      "Upgrading database; v3 -> v4: : 0it [00:00, ?it/s]"
     ]
    },
    {
     "name": "stdout",
     "output_type": "stream",
     "text": [
      "\n",
      "\r",
      "  0%|          | 0/1 [00:00<?, ?it/s]"
     ]
    },
    {
     "name": "stdout",
     "output_type": "stream",
     "text": [
      "\r",
      "Upgrading database; v4 -> v5:   0%|          | 0/1 [00:00<?, ?it/s]"
     ]
    },
    {
     "name": "stdout",
     "output_type": "stream",
     "text": [
      "\r",
      "Upgrading database; v4 -> v5: 100%|██████████| 1/1 [00:00<00:00, 936.86it/s]"
     ]
    },
    {
     "name": "stdout",
     "output_type": "stream",
     "text": [
      "\n",
      "\r",
      "0it [00:00, ?it/s]"
     ]
    },
    {
     "name": "stdout",
     "output_type": "stream",
     "text": [
      "\r",
      "Upgrading database; v5 -> v6: : 0it [00:00, ?it/s]"
     ]
    },
    {
     "name": "stdout",
     "output_type": "stream",
     "text": [
      "\r",
      "Upgrading database; v5 -> v6: : 0it [00:00, ?it/s]"
     ]
    },
    {
     "name": "stdout",
     "output_type": "stream",
     "text": [
      "\n",
      "\r",
      "  0%|          | 0/1 [00:00<?, ?it/s]"
     ]
    },
    {
     "name": "stdout",
     "output_type": "stream",
     "text": [
      "\r",
      "Upgrading database; v6 -> v7:   0%|          | 0/1 [00:00<?, ?it/s]"
     ]
    },
    {
     "name": "stdout",
     "output_type": "stream",
     "text": [
      "\r",
      "Upgrading database; v6 -> v7: 100%|██████████| 1/1 [00:00<00:00, 240.53it/s]"
     ]
    },
    {
     "name": "stdout",
     "output_type": "stream",
     "text": [
      "\n",
      "\r",
      "  0%|          | 0/1 [00:00<?, ?it/s]"
     ]
    },
    {
     "name": "stdout",
     "output_type": "stream",
     "text": [
      "\r",
      "Upgrading database; v7 -> v8:   0%|          | 0/1 [00:00<?, ?it/s]"
     ]
    },
    {
     "name": "stdout",
     "output_type": "stream",
     "text": [
      "\r",
      "Upgrading database; v7 -> v8: 100%|██████████| 1/1 [00:00<00:00, 622.39it/s]"
     ]
    },
    {
     "name": "stdout",
     "output_type": "stream",
     "text": [
      "\n",
      "\r",
      "  0%|          | 0/1 [00:00<?, ?it/s]"
     ]
    },
    {
     "name": "stdout",
     "output_type": "stream",
     "text": [
      "\r",
      "Upgrading database; v8 -> v9:   0%|          | 0/1 [00:00<?, ?it/s]"
     ]
    },
    {
     "name": "stdout",
     "output_type": "stream",
     "text": [
      "\r",
      "Upgrading database; v8 -> v9: 100%|██████████| 1/1 [00:00<00:00, 981.12it/s]"
     ]
    },
    {
     "name": "stdout",
     "output_type": "stream",
     "text": [
      "\n"
     ]
    }
   ],
   "source": [
    "initialise_database()\n",
    "exp = load_or_create_experiment(experiment_name='tutorial_exp', sample_name=\"no sample\")"
   ]
  },
  {
   "cell_type": "markdown",
   "metadata": {},
   "source": [
    "Here, we define a simple function to benchmark the time it takes to insert n points with either numeric or array data type.\n",
    "We will compare both the time used to call ``add_result`` and the time used for the full measurement."
   ]
  },
  {
   "cell_type": "code",
   "execution_count": 4,
   "metadata": {},
   "outputs": [],
   "source": [
    "def insert_data(paramtype, npoints, nreps=1):\n",
    "\n",
    "    meas = Measurement(exp=exp)\n",
    "\n",
    "    x1 = ManualParameter('x1')\n",
    "    x2 = ManualParameter('x2')\n",
    "    x3 = ManualParameter('x3')\n",
    "    y1 = ManualParameter('y1')\n",
    "    y2 = ManualParameter('y2')\n",
    "\n",
    "    meas.register_parameter(x1, paramtype=paramtype)\n",
    "    meas.register_parameter(x2, paramtype=paramtype)\n",
    "    meas.register_parameter(x3, paramtype=paramtype)\n",
    "    meas.register_parameter(y1, setpoints=[x1, x2, x3],\n",
    "                            paramtype=paramtype)\n",
    "    meas.register_parameter(y2, setpoints=[x1, x2, x3],\n",
    "                            paramtype=paramtype)\n",
    "    start = time.perf_counter()\n",
    "    with meas.run() as datasaver:\n",
    "        start_adding = time.perf_counter()\n",
    "        for i in range(nreps):\n",
    "            datasaver.add_result((x1, np.random.rand(npoints)),\n",
    "                                 (x2, np.random.rand(npoints)),\n",
    "                                 (x3, np.random.rand(npoints)),\n",
    "                                 (y1, np.random.rand(npoints)),\n",
    "                                 (y2, np.random.rand(npoints)))\n",
    "        stop_adding = time.perf_counter()\n",
    "        run_id = datasaver.run_id\n",
    "    stop = time.perf_counter()\n",
    "    tot_time = stop - start\n",
    "    add_time = stop_adding - start_adding\n",
    "    return tot_time, add_time, run_id"
   ]
  },
  {
   "cell_type": "markdown",
   "metadata": {},
   "source": [
    "## Comparison between numeric/array data and binary blob"
   ]
  },
  {
   "cell_type": "markdown",
   "metadata": {},
   "source": [
    "### Case1: Short experiment time"
   ]
  },
  {
   "cell_type": "code",
   "execution_count": 5,
   "metadata": {},
   "outputs": [
    {
     "name": "stdout",
     "output_type": "stream",
     "text": [
      "Starting experimental run with id: 1. \n",
      "Starting experimental run with id: 2. \n",
      "Starting experimental run with id: 3. \n"
     ]
    },
    {
     "name": "stdout",
     "output_type": "stream",
     "text": [
      "Starting experimental run with id: 4. \n"
     ]
    },
    {
     "name": "stdout",
     "output_type": "stream",
     "text": [
      "Starting experimental run with id: 5. \n"
     ]
    },
    {
     "name": "stdout",
     "output_type": "stream",
     "text": [
      "Starting experimental run with id: 6. \n",
      "Starting experimental run with id: 7. \n"
     ]
    },
    {
     "name": "stdout",
     "output_type": "stream",
     "text": [
      "Starting experimental run with id: 8. \n"
     ]
    },
    {
     "name": "stdout",
     "output_type": "stream",
     "text": [
      "Starting experimental run with id: 9. \n"
     ]
    },
    {
     "name": "stdout",
     "output_type": "stream",
     "text": [
      "Starting experimental run with id: 10. \n",
      "Starting experimental run with id: 11. \n"
     ]
    },
    {
     "name": "stdout",
     "output_type": "stream",
     "text": [
      "Starting experimental run with id: 12. \n",
      "Starting experimental run with id: 13. \n"
     ]
    },
    {
     "name": "stdout",
     "output_type": "stream",
     "text": [
      "Starting experimental run with id: 14. \n"
     ]
    }
   ],
   "source": [
    "sizes = [1,500,1000,2000,3000,4000,5000]\n",
    "t_numeric = []\n",
    "t_numeric_add = []\n",
    "t_array = []\n",
    "t_array_add = []\n",
    "for size in sizes:\n",
    "    tn, tna, run_id_n =  insert_data('numeric', size)\n",
    "    t_numeric.append(tn)\n",
    "    t_numeric_add.append(tna)\n",
    "\n",
    "    ta, taa, run_id_a =  insert_data('array', size)\n",
    "    t_array.append(ta)\n",
    "    t_array_add.append(taa)"
   ]
  },
  {
   "cell_type": "code",
   "execution_count": 6,
   "metadata": {},
   "outputs": [
    {
     "data": {
      "image/png": "[encoded data removed]",
      "text/plain": [
       "<Figure size 432x288 with 1 Axes>"
      ]
     },
     "metadata": {
      "needs_background": "light"
     },
     "output_type": "display_data"
    }
   ],
   "source": [
    "fig, ax = plt.subplots(1,1)\n",
    "ax.plot(sizes, t_numeric, 'o-', label='Inserting row-by-row')\n",
    "ax.plot(sizes, t_numeric_add, 'o-', label='Inserting row-by-row: add_result only')\n",
    "ax.plot(sizes, t_array, 'd-', label='Inserting as binary blob')\n",
    "ax.plot(sizes, t_array_add, 'd-', label='Inserting as binary blob: add_result only')\n",
    "ax.legend()\n",
    "ax.set_xlabel('Array length')\n",
    "ax.set_ylabel('Time (s)')\n",
    "fig.tight_layout()"
   ]
  },
  {
   "cell_type": "markdown",
   "metadata": {},
   "source": [
    "As shown in the latter figure, the time to setup and and close the experiment is approximately 0.4 sec. In case of small array sizes, the difference between inserting values of data as arrays and inserting them row-by-row is relatively unimportant. At larger array sizes, i.e. above 10000 points, the cost of writing data as individual datapoints starts to become important.\n"
   ]
  },
  {
   "cell_type": "markdown",
   "metadata": {},
   "source": [
    "### Case2: Long experiment time "
   ]
  },
  {
   "cell_type": "code",
   "execution_count": 7,
   "metadata": {},
   "outputs": [
    {
     "name": "stdout",
     "output_type": "stream",
     "text": [
      "Starting experimental run with id: 15. \n",
      "Starting experimental run with id: 16. \n",
      "Starting experimental run with id: 17. \n"
     ]
    },
    {
     "name": "stdout",
     "output_type": "stream",
     "text": [
      "Starting experimental run with id: 18. \n",
      "Starting experimental run with id: 19. \n"
     ]
    },
    {
     "name": "stdout",
     "output_type": "stream",
     "text": [
      "Starting experimental run with id: 20. \n"
     ]
    },
    {
     "name": "stdout",
     "output_type": "stream",
     "text": [
      "Starting experimental run with id: 21. \n"
     ]
    },
    {
     "name": "stdout",
     "output_type": "stream",
     "text": [
      "Starting experimental run with id: 22. \n"
     ]
    },
    {
     "name": "stdout",
     "output_type": "stream",
     "text": [
      "Starting experimental run with id: 23. \n"
     ]
    },
    {
     "name": "stdout",
     "output_type": "stream",
     "text": [
      "Starting experimental run with id: 24. \n"
     ]
    },
    {
     "name": "stdout",
     "output_type": "stream",
     "text": [
      "Starting experimental run with id: 25. \n"
     ]
    },
    {
     "name": "stdout",
     "output_type": "stream",
     "text": [
      "Starting experimental run with id: 26. \n"
     ]
    },
    {
     "name": "stdout",
     "output_type": "stream",
     "text": [
      "Starting experimental run with id: 27. \n"
     ]
    },
    {
     "name": "stdout",
     "output_type": "stream",
     "text": [
      "Starting experimental run with id: 28. \n"
     ]
    }
   ],
   "source": [
    "sizes = [1,500,1000,2000,3000,4000,5000]\n",
    "nreps = 100\n",
    "t_numeric = []\n",
    "t_numeric_add = []\n",
    "t_numeric_run_ids = []\n",
    "t_array = []\n",
    "t_array_add = []\n",
    "t_array_run_ids = []\n",
    "for size in sizes:\n",
    "    tn, tna, run_id_n =  insert_data('numeric', size, nreps=nreps)\n",
    "    t_numeric.append(tn)\n",
    "    t_numeric_add.append(tna)\n",
    "    t_numeric_run_ids.append(run_id_n)\n",
    "\n",
    "    ta, taa, run_id_a =  insert_data('array', size, nreps=nreps)\n",
    "    t_array.append(ta)\n",
    "    t_array_add.append(taa)\n",
    "    t_array_run_ids.append(run_id_a)"
   ]
  },
  {
   "cell_type": "code",
   "execution_count": 8,
   "metadata": {
    "scrolled": true
   },
   "outputs": [
    {
     "data": {
      "image/png": "[encoded data removed]",
      "text/plain": [
       "<Figure size 432x288 with 1 Axes>"
      ]
     },
     "metadata": {
      "needs_background": "light"
     },
     "output_type": "display_data"
    }
   ],
   "source": [
    "fig, ax = plt.subplots(1,1)\n",
    "ax.plot(sizes, t_numeric, 'o-', label='Inserting row-by-row')\n",
    "ax.plot(sizes, t_numeric_add, 'o-', label='Inserting row-by-row: add_result only')\n",
    "ax.plot(sizes, t_array, 'd-', label='Inserting as binary blob')\n",
    "ax.plot(sizes, t_array_add, 'd-', label='Inserting as binary blob: add_result only')\n",
    "ax.legend()\n",
    "ax.set_xlabel('Array length')\n",
    "ax.set_ylabel('Time (s)')\n",
    "fig.tight_layout()"
   ]
  },
  {
   "cell_type": "markdown",
   "metadata": {},
   "source": [
    "However, as we increase the length of the experiment, as seen here by repeating the insertion 100 times, we see a big difference between inserting values of the data row-by-row and inserting it as a binary blob."
   ]
  },
  {
   "cell_type": "markdown",
   "metadata": {},
   "source": [
    "## Loading the data "
   ]
  },
  {
   "cell_type": "code",
   "execution_count": 9,
   "metadata": {},
   "outputs": [],
   "source": [
    "from qcodes.dataset.data_set import load_by_id\n",
    "from qcodes.dataset.data_export import get_data_by_id"
   ]
  },
  {
   "cell_type": "markdown",
   "metadata": {},
   "source": [
    "As usual you can load the data by using the ``load_by_id`` function but you will notice that the different storage methods\n",
    "are reflected in shape of the data as it is retrieved. "
   ]
  },
  {
   "cell_type": "code",
   "execution_count": 10,
   "metadata": {},
   "outputs": [],
   "source": [
    "run_id_n = t_numeric_run_ids[0]\n",
    "run_id_a = t_array_run_ids[0]"
   ]
  },
  {
   "cell_type": "code",
   "execution_count": 11,
   "metadata": {
    "scrolled": true
   },
   "outputs": [
    {
     "data": {
      "text/plain": [
       "{'x1': {'x1': array([0.1827114 , 0.1827114 , 0.87871103, 0.87871103, 0.77994529,\n",
       "         0.77994529, 0.99718619, 0.99718619, 0.09216036, 0.09216036,\n",
       "         0.82833249, 0.82833249, 0.52820339, 0.52820339, 0.72370591,\n",
       "         0.72370591, 0.6806469 , 0.6806469 , 0.51030653, 0.51030653,\n",
       "         0.3124109 , 0.3124109 , 0.99979586, 0.99979586, 0.98640027,\n",
       "         0.98640027, 0.65695533, 0.65695533, 0.21599408, 0.21599408,\n",
       "         0.44615475, 0.44615475, 0.99141782, 0.99141782, 0.36926608,\n",
       "         0.36926608, 0.25046325, 0.25046325, 0.23833242, 0.23833242,\n",
       "         0.85524612, 0.85524612, 0.25409629, 0.25409629, 0.20783993,\n",
       "         0.20783993, 0.07134089, 0.07134089, 0.48645515, 0.48645515,\n",
       "         0.26769276, 0.26769276, 0.94516574, 0.94516574, 0.26575871,\n",
       "         0.26575871, 0.68173732, 0.68173732, 0.85378416, 0.85378416,\n",
       "         0.75173453, 0.75173453, 0.92615162, 0.92615162, 0.8209558 ,\n",
       "         0.8209558 , 0.5202994 , 0.5202994 , 0.81637502, 0.81637502,\n",
       "         0.08710379, 0.08710379, 0.08480466, 0.08480466, 0.73654315,\n",
       "         0.73654315, 0.74514099, 0.74514099, 0.38990096, 0.38990096,\n",
       "         0.31109183, 0.31109183, 0.54858304, 0.54858304, 0.90379252,\n",
       "         0.90379252, 0.56345323, 0.56345323, 0.54153468, 0.54153468,\n",
       "         0.29078263, 0.29078263, 0.40274658, 0.40274658, 0.44316784,\n",
       "         0.44316784, 0.66448986, 0.66448986, 0.67330524, 0.67330524,\n",
       "         0.75755502, 0.75755502, 0.75417085, 0.75417085, 0.73247385,\n",
       "         0.73247385, 0.28882316, 0.28882316, 0.20731259, 0.20731259,\n",
       "         0.7516497 , 0.7516497 , 0.97085226, 0.97085226, 0.99123951,\n",
       "         0.99123951, 0.56798824, 0.56798824, 0.65047913, 0.65047913,\n",
       "         0.62335098, 0.62335098, 0.23168152, 0.23168152, 0.98506584,\n",
       "         0.98506584, 0.15316579, 0.15316579, 0.83051092, 0.83051092,\n",
       "         0.77142516, 0.77142516, 0.95246449, 0.95246449, 0.02156521,\n",
       "         0.02156521, 0.29406237, 0.29406237, 0.08901232, 0.08901232,\n",
       "         0.38549109, 0.38549109, 0.32599077, 0.32599077, 0.5085729 ,\n",
       "         0.5085729 , 0.05061926, 0.05061926, 0.33436643, 0.33436643,\n",
       "         0.64872242, 0.64872242, 0.75468591, 0.75468591, 0.62503719,\n",
       "         0.62503719, 0.1579915 , 0.1579915 , 0.91738573, 0.91738573,\n",
       "         0.7882893 , 0.7882893 , 0.25182628, 0.25182628, 0.14481338,\n",
       "         0.14481338, 0.04023152, 0.04023152, 0.60205161, 0.60205161,\n",
       "         0.14699931, 0.14699931, 0.51170055, 0.51170055, 0.64002071,\n",
       "         0.64002071, 0.70034933, 0.70034933, 0.08027622, 0.08027622,\n",
       "         0.54496243, 0.54496243, 0.73072759, 0.73072759, 0.41652763,\n",
       "         0.41652763, 0.63246652, 0.63246652, 0.71700266, 0.71700266,\n",
       "         0.75340813, 0.75340813, 0.87482741, 0.87482741, 0.38348986,\n",
       "         0.38348986, 0.31783985, 0.31783985, 0.23970282, 0.23970282])}}"
      ]
     },
     "execution_count": 11,
     "metadata": {},
     "output_type": "execute_result"
    }
   ],
   "source": [
    "ds = load_by_id(run_id_n)\n",
    "ds.get_parameter_data('x1')"
   ]
  },
  {
   "cell_type": "markdown",
   "metadata": {},
   "source": [
    "And a dataset stored as binary arrays"
   ]
  },
  {
   "cell_type": "code",
   "execution_count": 12,
   "metadata": {
    "scrolled": true
   },
   "outputs": [
    {
     "data": {
      "text/plain": [
       "{'x1': {'x1': array([[0.6109328 ],\n",
       "         [0.6109328 ],\n",
       "         [0.07768441],\n",
       "         [0.07768441],\n",
       "         [0.54788443],\n",
       "         [0.54788443],\n",
       "         [0.79313585],\n",
       "         [0.79313585],\n",
       "         [0.08926754],\n",
       "         [0.08926754],\n",
       "         [0.92018745],\n",
       "         [0.92018745],\n",
       "         [0.3919355 ],\n",
       "         [0.3919355 ],\n",
       "         [0.13753867],\n",
       "         [0.13753867],\n",
       "         [0.2851076 ],\n",
       "         [0.2851076 ],\n",
       "         [0.65291532],\n",
       "         [0.65291532],\n",
       "         [0.53850016],\n",
       "         [0.53850016],\n",
       "         [0.8457243 ],\n",
       "         [0.8457243 ],\n",
       "         [0.05833123],\n",
       "         [0.05833123],\n",
       "         [0.55808272],\n",
       "         [0.55808272],\n",
       "         [0.13384113],\n",
       "         [0.13384113],\n",
       "         [0.14392771],\n",
       "         [0.14392771],\n",
       "         [0.8534905 ],\n",
       "         [0.8534905 ],\n",
       "         [0.57174893],\n",
       "         [0.57174893],\n",
       "         [0.51613383],\n",
       "         [0.51613383],\n",
       "         [0.16872924],\n",
       "         [0.16872924],\n",
       "         [0.98494702],\n",
       "         [0.98494702],\n",
       "         [0.72468608],\n",
       "         [0.72468608],\n",
       "         [0.48329399],\n",
       "         [0.48329399],\n",
       "         [0.19275437],\n",
       "         [0.19275437],\n",
       "         [0.01040899],\n",
       "         [0.01040899],\n",
       "         [0.50855339],\n",
       "         [0.50855339],\n",
       "         [0.10774019],\n",
       "         [0.10774019],\n",
       "         [0.44835398],\n",
       "         [0.44835398],\n",
       "         [0.98603894],\n",
       "         [0.98603894],\n",
       "         [0.52253234],\n",
       "         [0.52253234],\n",
       "         [0.95693872],\n",
       "         [0.95693872],\n",
       "         [0.11557081],\n",
       "         [0.11557081],\n",
       "         [0.83183946],\n",
       "         [0.83183946],\n",
       "         [0.80867502],\n",
       "         [0.80867502],\n",
       "         [0.889537  ],\n",
       "         [0.889537  ],\n",
       "         [0.78043287],\n",
       "         [0.78043287],\n",
       "         [0.6002042 ],\n",
       "         [0.6002042 ],\n",
       "         [0.31349024],\n",
       "         [0.31349024],\n",
       "         [0.7907999 ],\n",
       "         [0.7907999 ],\n",
       "         [0.44908989],\n",
       "         [0.44908989],\n",
       "         [0.10043087],\n",
       "         [0.10043087],\n",
       "         [0.9587982 ],\n",
       "         [0.9587982 ],\n",
       "         [0.41020562],\n",
       "         [0.41020562],\n",
       "         [0.99276764],\n",
       "         [0.99276764],\n",
       "         [0.03470947],\n",
       "         [0.03470947],\n",
       "         [0.13375681],\n",
       "         [0.13375681],\n",
       "         [0.33156272],\n",
       "         [0.33156272],\n",
       "         [0.49518764],\n",
       "         [0.49518764],\n",
       "         [0.31863463],\n",
       "         [0.31863463],\n",
       "         [0.15342593],\n",
       "         [0.15342593],\n",
       "         [0.82276728],\n",
       "         [0.82276728],\n",
       "         [0.04286565],\n",
       "         [0.04286565],\n",
       "         [0.83098699],\n",
       "         [0.83098699],\n",
       "         [0.72628973],\n",
       "         [0.72628973],\n",
       "         [0.27996147],\n",
       "         [0.27996147],\n",
       "         [0.81838048],\n",
       "         [0.81838048],\n",
       "         [0.43039654],\n",
       "         [0.43039654],\n",
       "         [0.9933506 ],\n",
       "         [0.9933506 ],\n",
       "         [0.6971129 ],\n",
       "         [0.6971129 ],\n",
       "         [0.83644534],\n",
       "         [0.83644534],\n",
       "         [0.12559131],\n",
       "         [0.12559131],\n",
       "         [0.72824195],\n",
       "         [0.72824195],\n",
       "         [0.76342659],\n",
       "         [0.76342659],\n",
       "         [0.55483721],\n",
       "         [0.55483721],\n",
       "         [0.41157507],\n",
       "         [0.41157507],\n",
       "         [0.54014231],\n",
       "         [0.54014231],\n",
       "         [0.56361756],\n",
       "         [0.56361756],\n",
       "         [0.36592881],\n",
       "         [0.36592881],\n",
       "         [0.85488291],\n",
       "         [0.85488291],\n",
       "         [0.0399488 ],\n",
       "         [0.0399488 ],\n",
       "         [0.83425487],\n",
       "         [0.83425487],\n",
       "         [0.34711758],\n",
       "         [0.34711758],\n",
       "         [0.95824752],\n",
       "         [0.95824752],\n",
       "         [0.28032156],\n",
       "         [0.28032156],\n",
       "         [0.96086356],\n",
       "         [0.96086356],\n",
       "         [0.08658353],\n",
       "         [0.08658353],\n",
       "         [0.62751542],\n",
       "         [0.62751542],\n",
       "         [0.38017415],\n",
       "         [0.38017415],\n",
       "         [0.72832494],\n",
       "         [0.72832494],\n",
       "         [0.05679385],\n",
       "         [0.05679385],\n",
       "         [0.51998894],\n",
       "         [0.51998894],\n",
       "         [0.04812653],\n",
       "         [0.04812653],\n",
       "         [0.58593094],\n",
       "         [0.58593094],\n",
       "         [0.59051958],\n",
       "         [0.59051958],\n",
       "         [0.25574046],\n",
       "         [0.25574046],\n",
       "         [0.94667884],\n",
       "         [0.94667884],\n",
       "         [0.5292494 ],\n",
       "         [0.5292494 ],\n",
       "         [0.11763448],\n",
       "         [0.11763448],\n",
       "         [0.04283076],\n",
       "         [0.04283076],\n",
       "         [0.96769359],\n",
       "         [0.96769359],\n",
       "         [0.33274881],\n",
       "         [0.33274881],\n",
       "         [0.18809033],\n",
       "         [0.18809033],\n",
       "         [0.77914449],\n",
       "         [0.77914449],\n",
       "         [0.52255273],\n",
       "         [0.52255273],\n",
       "         [0.78793437],\n",
       "         [0.78793437],\n",
       "         [0.81035003],\n",
       "         [0.81035003],\n",
       "         [0.8040943 ],\n",
       "         [0.8040943 ],\n",
       "         [0.40165515],\n",
       "         [0.40165515],\n",
       "         [0.71089684],\n",
       "         [0.71089684],\n",
       "         [0.72690076],\n",
       "         [0.72690076]])}}"
      ]
     },
     "execution_count": 12,
     "metadata": {},
     "output_type": "execute_result"
    }
   ],
   "source": [
    "ds = load_by_id(run_id_a)\n",
    "ds.get_parameter_data('x1')"
   ]
  },
  {
   "cell_type": "code",
   "execution_count": null,
   "metadata": {},
   "outputs": [],
   "source": []
  }
 ],
 "metadata": {
  "kernelspec": {
   "display_name": "Python 3",
   "language": "python",
   "name": "python3"
  },
  "language_info": {
   "codemirror_mode": {
    "name": "ipython",
    "version": 3
   },
   "file_extension": ".py",
   "mimetype": "text/x-python",
   "name": "python",
   "nbconvert_exporter": "python",
   "pygments_lexer": "ipython3",
   "version": "3.7.7"
  },
  "nbsphinx": {
   "timeout": 600
  },
  "toc": {
   "base_numbering": 1,
   "nav_menu": {},
   "number_sections": true,
   "sideBar": true,
   "skip_h1_title": false,
   "title_cell": "Table of Contents",
   "title_sidebar": "Contents",
   "toc_cell": false,
   "toc_position": {},
   "toc_section_display": true,
   "toc_window_display": false
  },
  "varInspector": {
   "cols": {
    "lenName": 16,
    "lenType": 16,
    "lenVar": 40
   },
   "kernels_config": {
    "python": {
     "delete_cmd_postfix": "",
     "delete_cmd_prefix": "del ",
     "library": "var_list.py",
     "varRefreshCmd": "print(var_dic_list())"
    },
    "r": {
     "delete_cmd_postfix": ") ",
     "delete_cmd_prefix": "rm(",
     "library": "var_list.r",
     "varRefreshCmd": "cat(var_dic_list()) "
    }
   },
   "types_to_exclude": [
    "module",
    "function",
    "builtin_function_or_method",
    "instance",
    "_Feature"
   ],
   "window_display": false
  }
 },
 "nbformat": 4,
 "nbformat_minor": 2
}
