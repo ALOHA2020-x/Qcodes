{
 "cells": [
  {
   "cell_type": "markdown",
   "metadata": {},
   "source": [
    "# DataSet Performance\n",
    "\n",
    "This notebook shows the trade-off between inserting data into a database row-by-row and as binary blobs. Inserting the data row-by-row means that we have direct access to all the data and may perform queries directly on the values of the data. On the other hand, as we shall see, this is much slower than inserting the data directly as binary blobs."
   ]
  },
  {
   "cell_type": "markdown",
   "metadata": {},
   "source": [
    "First, we choose a new location for the database to ensure that we don't add a bunch of benchmarking data to the default one."
   ]
  },
  {
   "cell_type": "code",
   "execution_count": 1,
   "metadata": {
    "execution": {
     "iopub.execute_input": "2021-01-18T10:57:59.740186Z",
     "iopub.status.busy": "2021-01-18T10:57:59.739517Z",
     "iopub.status.idle": "2021-01-18T10:58:00.860812Z",
     "shell.execute_reply": "2021-01-18T10:58:00.861354Z"
    }
   },
   "outputs": [
    {
     "name": "stdout",
     "output_type": "stream",
     "text": [
      "Logging hadn't been started.\n",
      "Activating auto-logging. Current session state plus future input saved.\n",
      "Filename       : /home/vsts/.qcodes/logs/command_history.log\n",
      "Mode           : append\n",
      "Output logging : True\n",
      "Raw input log  : False\n",
      "Timestamping   : True\n",
      "State          : active\n"
     ]
    },
    {
     "name": "stdout",
     "output_type": "stream",
     "text": [
      "Qcodes Logfile : /home/vsts/.qcodes/logs/210118-13448-qcodes.log\n"
     ]
    }
   ],
   "source": [
    "import os\n",
    "cwd = os.getcwd()\n",
    "import qcodes as qc\n",
    "qc.config[\"core\"][\"db_location\"] = os.path.join(cwd, 'testing.db')\n"
   ]
  },
  {
   "cell_type": "code",
   "execution_count": 2,
   "metadata": {
    "execution": {
     "iopub.execute_input": "2021-01-18T10:58:00.869407Z",
     "iopub.status.busy": "2021-01-18T10:58:00.868552Z",
     "iopub.status.idle": "2021-01-18T10:58:01.065510Z",
     "shell.execute_reply": "2021-01-18T10:58:01.064570Z"
    }
   },
   "outputs": [],
   "source": [
    "%matplotlib inline\n",
    "import time\n",
    "import matplotlib.pyplot as plt\n",
    "import numpy as np\n",
    "\n",
    "import qcodes as qc\n",
    "from qcodes.instrument.parameter import ManualParameter\n",
    "from qcodes.dataset.experiment_container import (Experiment,\n",
    "                                                 load_last_experiment,\n",
    "                                                 new_experiment)\n",
    "from qcodes.dataset.sqlite.database import initialise_database\n",
    "from qcodes import load_or_create_experiment\n",
    "from qcodes.dataset.measurements import Measurement"
   ]
  },
  {
   "cell_type": "code",
   "execution_count": 3,
   "metadata": {
    "execution": {
     "iopub.execute_input": "2021-01-18T10:58:01.069682Z",
     "iopub.status.busy": "2021-01-18T10:58:01.069009Z",
     "iopub.status.idle": "2021-01-18T10:58:01.191190Z",
     "shell.execute_reply": "2021-01-18T10:58:01.191717Z"
    }
   },
   "outputs": [
    {
     "name": "stdout",
     "output_type": "stream",
     "text": [
      "\r",
      "0it [00:00, ?it/s]"
     ]
    },
    {
     "name": "stdout",
     "output_type": "stream",
     "text": [
      "\r",
      "Upgrading database; v0 -> v1: : 0it [00:00, ?it/s]"
     ]
    },
    {
     "name": "stdout",
     "output_type": "stream",
     "text": [
      "\r",
      "Upgrading database; v0 -> v1: : 0it [00:00, ?it/s]"
     ]
    },
    {
     "name": "stdout",
     "output_type": "stream",
     "text": [
      "\n",
      "\r",
      "  0%|          | 0/1 [00:00<?, ?it/s]"
     ]
    },
    {
     "name": "stdout",
     "output_type": "stream",
     "text": [
      "\r",
      "Upgrading database; v1 -> v2:   0%|          | 0/1 [00:00<?, ?it/s]"
     ]
    },
    {
     "name": "stdout",
     "output_type": "stream",
     "text": [
      "\r",
      "Upgrading database; v1 -> v2: 100%|██████████| 1/1 [00:00<00:00, 503.52it/s]"
     ]
    },
    {
     "name": "stdout",
     "output_type": "stream",
     "text": [
      "\n",
      "\r",
      "0it [00:00, ?it/s]"
     ]
    },
    {
     "name": "stdout",
     "output_type": "stream",
     "text": [
      "\r",
      "Upgrading database; v2 -> v3: : 0it [00:00, ?it/s]"
     ]
    },
    {
     "name": "stdout",
     "output_type": "stream",
     "text": [
      "\r",
      "Upgrading database; v2 -> v3: : 0it [00:00, ?it/s]"
     ]
    },
    {
     "name": "stdout",
     "output_type": "stream",
     "text": [
      "\n",
      "\r",
      "0it [00:00, ?it/s]"
     ]
    },
    {
     "name": "stdout",
     "output_type": "stream",
     "text": [
      "\r",
      "Upgrading database; v3 -> v4: : 0it [00:00, ?it/s]"
     ]
    },
    {
     "name": "stdout",
     "output_type": "stream",
     "text": [
      "\r",
      "Upgrading database; v3 -> v4: : 0it [00:00, ?it/s]"
     ]
    },
    {
     "name": "stdout",
     "output_type": "stream",
     "text": [
      "\n",
      "\r",
      "  0%|          | 0/1 [00:00<?, ?it/s]"
     ]
    },
    {
     "name": "stdout",
     "output_type": "stream",
     "text": [
      "\r",
      "Upgrading database; v4 -> v5:   0%|          | 0/1 [00:00<?, ?it/s]"
     ]
    },
    {
     "name": "stdout",
     "output_type": "stream",
     "text": [
      "\r",
      "Upgrading database; v4 -> v5: 100%|██████████| 1/1 [00:00<00:00, 432.80it/s]"
     ]
    },
    {
     "name": "stdout",
     "output_type": "stream",
     "text": [
      "\n",
      "\r",
      "0it [00:00, ?it/s]"
     ]
    },
    {
     "name": "stdout",
     "output_type": "stream",
     "text": [
      "\r",
      "Upgrading database; v5 -> v6: : 0it [00:00, ?it/s]"
     ]
    },
    {
     "name": "stdout",
     "output_type": "stream",
     "text": [
      "\r",
      "Upgrading database; v5 -> v6: : 0it [00:00, ?it/s]"
     ]
    },
    {
     "name": "stdout",
     "output_type": "stream",
     "text": [
      "\n",
      "\r",
      "  0%|          | 0/1 [00:00<?, ?it/s]"
     ]
    },
    {
     "name": "stdout",
     "output_type": "stream",
     "text": [
      "\r",
      "Upgrading database; v6 -> v7:   0%|          | 0/1 [00:00<?, ?it/s]"
     ]
    },
    {
     "name": "stdout",
     "output_type": "stream",
     "text": [
      "\r",
      "Upgrading database; v6 -> v7: 100%|██████████| 1/1 [00:00<00:00, 253.13it/s]"
     ]
    },
    {
     "name": "stdout",
     "output_type": "stream",
     "text": [
      "\n",
      "\r",
      "  0%|          | 0/1 [00:00<?, ?it/s]"
     ]
    },
    {
     "name": "stdout",
     "output_type": "stream",
     "text": [
      "\r",
      "Upgrading database; v7 -> v8:   0%|          | 0/1 [00:00<?, ?it/s]"
     ]
    },
    {
     "name": "stdout",
     "output_type": "stream",
     "text": [
      "\r",
      "Upgrading database; v7 -> v8: 100%|██████████| 1/1 [00:00<00:00, 310.28it/s]"
     ]
    },
    {
     "name": "stdout",
     "output_type": "stream",
     "text": [
      "\n",
      "\r",
      "  0%|          | 0/1 [00:00<?, ?it/s]"
     ]
    },
    {
     "name": "stdout",
     "output_type": "stream",
     "text": [
      "\r",
      "Upgrading database; v8 -> v9:   0%|          | 0/1 [00:00<?, ?it/s]"
     ]
    },
    {
     "name": "stdout",
     "output_type": "stream",
     "text": [
      "\r",
      "Upgrading database; v8 -> v9: 100%|██████████| 1/1 [00:00<00:00, 1211.53it/s]"
     ]
    },
    {
     "name": "stdout",
     "output_type": "stream",
     "text": [
      "\n"
     ]
    }
   ],
   "source": [
    "initialise_database()\n",
    "exp = load_or_create_experiment(experiment_name='tutorial_exp', sample_name=\"no sample\")"
   ]
  },
  {
   "cell_type": "markdown",
   "metadata": {},
   "source": [
    "Here, we define a simple function to benchmark the time it takes to insert n points with either numeric or array data type.\n",
    "We will compare both the time used to call ``add_result`` and the time used for the full measurement."
   ]
  },
  {
   "cell_type": "code",
   "execution_count": 4,
   "metadata": {
    "execution": {
     "iopub.execute_input": "2021-01-18T10:58:01.203208Z",
     "iopub.status.busy": "2021-01-18T10:58:01.202550Z",
     "iopub.status.idle": "2021-01-18T10:58:01.206535Z",
     "shell.execute_reply": "2021-01-18T10:58:01.205935Z"
    }
   },
   "outputs": [],
   "source": [
    "def insert_data(paramtype, npoints, nreps=1):\n",
    "\n",
    "    meas = Measurement(exp=exp)\n",
    "\n",
    "    x1 = ManualParameter('x1')\n",
    "    x2 = ManualParameter('x2')\n",
    "    x3 = ManualParameter('x3')\n",
    "    y1 = ManualParameter('y1')\n",
    "    y2 = ManualParameter('y2')\n",
    "\n",
    "    meas.register_parameter(x1, paramtype=paramtype)\n",
    "    meas.register_parameter(x2, paramtype=paramtype)\n",
    "    meas.register_parameter(x3, paramtype=paramtype)\n",
    "    meas.register_parameter(y1, setpoints=[x1, x2, x3],\n",
    "                            paramtype=paramtype)\n",
    "    meas.register_parameter(y2, setpoints=[x1, x2, x3],\n",
    "                            paramtype=paramtype)\n",
    "    start = time.perf_counter()\n",
    "    with meas.run() as datasaver:\n",
    "        start_adding = time.perf_counter()\n",
    "        for i in range(nreps):\n",
    "            datasaver.add_result((x1, np.random.rand(npoints)),\n",
    "                                 (x2, np.random.rand(npoints)),\n",
    "                                 (x3, np.random.rand(npoints)),\n",
    "                                 (y1, np.random.rand(npoints)),\n",
    "                                 (y2, np.random.rand(npoints)))\n",
    "        stop_adding = time.perf_counter()\n",
    "        run_id = datasaver.run_id\n",
    "    stop = time.perf_counter()\n",
    "    tot_time = stop - start\n",
    "    add_time = stop_adding - start_adding\n",
    "    return tot_time, add_time, run_id"
   ]
  },
  {
   "cell_type": "markdown",
   "metadata": {},
   "source": [
    "## Comparison between numeric/array data and binary blob"
   ]
  },
  {
   "cell_type": "markdown",
   "metadata": {},
   "source": [
    "### Case1: Short experiment time"
   ]
  },
  {
   "cell_type": "code",
   "execution_count": 5,
   "metadata": {
    "execution": {
     "iopub.execute_input": "2021-01-18T10:58:01.212981Z",
     "iopub.status.busy": "2021-01-18T10:58:01.212208Z",
     "iopub.status.idle": "2021-01-18T10:58:02.071558Z",
     "shell.execute_reply": "2021-01-18T10:58:02.070941Z"
    }
   },
   "outputs": [
    {
     "name": "stdout",
     "output_type": "stream",
     "text": [
      "Starting experimental run with id: 1. \n",
      "Starting experimental run with id: 2. \n",
      "Starting experimental run with id: 3. \n",
      "Starting experimental run with id: 4. \n"
     ]
    },
    {
     "name": "stdout",
     "output_type": "stream",
     "text": [
      "Starting experimental run with id: 5. \n"
     ]
    },
    {
     "name": "stdout",
     "output_type": "stream",
     "text": [
      "Starting experimental run with id: 6. \n"
     ]
    },
    {
     "name": "stdout",
     "output_type": "stream",
     "text": [
      "Starting experimental run with id: 7. \n"
     ]
    },
    {
     "name": "stdout",
     "output_type": "stream",
     "text": [
      "Starting experimental run with id: 8. \n",
      "Starting experimental run with id: 9. \n"
     ]
    },
    {
     "name": "stdout",
     "output_type": "stream",
     "text": [
      "Starting experimental run with id: 10. \n",
      "Starting experimental run with id: 11. \n"
     ]
    },
    {
     "name": "stdout",
     "output_type": "stream",
     "text": [
      "Starting experimental run with id: 12. \n"
     ]
    },
    {
     "name": "stdout",
     "output_type": "stream",
     "text": [
      "Starting experimental run with id: 13. \n"
     ]
    },
    {
     "name": "stdout",
     "output_type": "stream",
     "text": [
      "Starting experimental run with id: 14. \n"
     ]
    }
   ],
   "source": [
    "sizes = [1,500,1000,2000,3000,4000,5000]\n",
    "t_numeric = []\n",
    "t_numeric_add = []\n",
    "t_array = []\n",
    "t_array_add = []\n",
    "for size in sizes:\n",
    "    tn, tna, run_id_n =  insert_data('numeric', size)\n",
    "    t_numeric.append(tn)\n",
    "    t_numeric_add.append(tna)\n",
    "\n",
    "    ta, taa, run_id_a =  insert_data('array', size)\n",
    "    t_array.append(ta)\n",
    "    t_array_add.append(taa)"
   ]
  },
  {
   "cell_type": "code",
   "execution_count": 6,
   "metadata": {
    "execution": {
     "iopub.execute_input": "2021-01-18T10:58:02.098119Z",
     "iopub.status.busy": "2021-01-18T10:58:02.076777Z",
     "iopub.status.idle": "2021-01-18T10:58:02.311589Z",
     "shell.execute_reply": "2021-01-18T10:58:02.310974Z"
    }
   },
   "outputs": [
    {
     "data": {
      "image/png": "[encoded data removed]",
      "text/plain": [
       "<Figure size 432x288 with 1 Axes>"
      ]
     },
     "metadata": {
      "needs_background": "light"
     },
     "output_type": "display_data"
    }
   ],
   "source": [
    "fig, ax = plt.subplots(1,1)\n",
    "ax.plot(sizes, t_numeric, 'o-', label='Inserting row-by-row')\n",
    "ax.plot(sizes, t_numeric_add, 'o-', label='Inserting row-by-row: add_result only')\n",
    "ax.plot(sizes, t_array, 'd-', label='Inserting as binary blob')\n",
    "ax.plot(sizes, t_array_add, 'd-', label='Inserting as binary blob: add_result only')\n",
    "ax.legend()\n",
    "ax.set_xlabel('Array length')\n",
    "ax.set_ylabel('Time (s)')\n",
    "fig.tight_layout()"
   ]
  },
  {
   "cell_type": "markdown",
   "metadata": {},
   "source": [
    "As shown in the latter figure, the time to setup and and close the experiment is approximately 0.4 sec. In case of small array sizes, the difference between inserting values of data as arrays and inserting them row-by-row is relatively unimportant. At larger array sizes, i.e. above 10000 points, the cost of writing data as individual datapoints starts to become important.\n"
   ]
  },
  {
   "cell_type": "markdown",
   "metadata": {},
   "source": [
    "### Case2: Long experiment time "
   ]
  },
  {
   "cell_type": "code",
   "execution_count": 7,
   "metadata": {
    "execution": {
     "iopub.execute_input": "2021-01-18T10:58:02.319268Z",
     "iopub.status.busy": "2021-01-18T10:58:02.317909Z",
     "iopub.status.idle": "2021-01-18T10:59:04.518039Z",
     "shell.execute_reply": "2021-01-18T10:59:04.518510Z"
    }
   },
   "outputs": [
    {
     "name": "stdout",
     "output_type": "stream",
     "text": [
      "Starting experimental run with id: 15. \n",
      "Starting experimental run with id: 16. \n",
      "Starting experimental run with id: 17. \n"
     ]
    },
    {
     "name": "stdout",
     "output_type": "stream",
     "text": [
      "Starting experimental run with id: 18. \n",
      "Starting experimental run with id: 19. \n"
     ]
    },
    {
     "name": "stdout",
     "output_type": "stream",
     "text": [
      "Starting experimental run with id: 20. \n"
     ]
    },
    {
     "name": "stdout",
     "output_type": "stream",
     "text": [
      "Starting experimental run with id: 21. \n"
     ]
    },
    {
     "name": "stdout",
     "output_type": "stream",
     "text": [
      "Starting experimental run with id: 22. \n"
     ]
    },
    {
     "name": "stdout",
     "output_type": "stream",
     "text": [
      "Starting experimental run with id: 23. \n"
     ]
    },
    {
     "name": "stdout",
     "output_type": "stream",
     "text": [
      "Starting experimental run with id: 24. \n"
     ]
    },
    {
     "name": "stdout",
     "output_type": "stream",
     "text": [
      "Starting experimental run with id: 25. \n"
     ]
    },
    {
     "name": "stdout",
     "output_type": "stream",
     "text": [
      "Starting experimental run with id: 26. \n"
     ]
    },
    {
     "name": "stdout",
     "output_type": "stream",
     "text": [
      "Starting experimental run with id: 27. \n"
     ]
    },
    {
     "name": "stdout",
     "output_type": "stream",
     "text": [
      "Starting experimental run with id: 28. \n"
     ]
    }
   ],
   "source": [
    "sizes = [1,500,1000,2000,3000,4000,5000]\n",
    "nreps = 100\n",
    "t_numeric = []\n",
    "t_numeric_add = []\n",
    "t_numeric_run_ids = []\n",
    "t_array = []\n",
    "t_array_add = []\n",
    "t_array_run_ids = []\n",
    "for size in sizes:\n",
    "    tn, tna, run_id_n =  insert_data('numeric', size, nreps=nreps)\n",
    "    t_numeric.append(tn)\n",
    "    t_numeric_add.append(tna)\n",
    "    t_numeric_run_ids.append(run_id_n)\n",
    "\n",
    "    ta, taa, run_id_a =  insert_data('array', size, nreps=nreps)\n",
    "    t_array.append(ta)\n",
    "    t_array_add.append(taa)\n",
    "    t_array_run_ids.append(run_id_a)"
   ]
  },
  {
   "cell_type": "code",
   "execution_count": 8,
   "metadata": {
    "execution": {
     "iopub.execute_input": "2021-01-18T10:59:04.540538Z",
     "iopub.status.busy": "2021-01-18T10:59:04.533118Z",
     "iopub.status.idle": "2021-01-18T10:59:04.768074Z",
     "shell.execute_reply": "2021-01-18T10:59:04.767472Z"
    },
    "scrolled": true
   },
   "outputs": [
    {
     "data": {
      "image/png": "[encoded data removed]",
      "text/plain": [
       "<Figure size 432x288 with 1 Axes>"
      ]
     },
     "metadata": {
      "needs_background": "light"
     },
     "output_type": "display_data"
    }
   ],
   "source": [
    "fig, ax = plt.subplots(1,1)\n",
    "ax.plot(sizes, t_numeric, 'o-', label='Inserting row-by-row')\n",
    "ax.plot(sizes, t_numeric_add, 'o-', label='Inserting row-by-row: add_result only')\n",
    "ax.plot(sizes, t_array, 'd-', label='Inserting as binary blob')\n",
    "ax.plot(sizes, t_array_add, 'd-', label='Inserting as binary blob: add_result only')\n",
    "ax.legend()\n",
    "ax.set_xlabel('Array length')\n",
    "ax.set_ylabel('Time (s)')\n",
    "fig.tight_layout()"
   ]
  },
  {
   "cell_type": "markdown",
   "metadata": {},
   "source": [
    "However, as we increase the length of the experiment, as seen here by repeating the insertion 100 times, we see a big difference between inserting values of the data row-by-row and inserting it as a binary blob."
   ]
  },
  {
   "cell_type": "markdown",
   "metadata": {},
   "source": [
    "## Loading the data "
   ]
  },
  {
   "cell_type": "code",
   "execution_count": 9,
   "metadata": {
    "execution": {
     "iopub.execute_input": "2021-01-18T10:59:04.773134Z",
     "iopub.status.busy": "2021-01-18T10:59:04.772027Z",
     "iopub.status.idle": "2021-01-18T10:59:04.775877Z",
     "shell.execute_reply": "2021-01-18T10:59:04.775291Z"
    }
   },
   "outputs": [],
   "source": [
    "from qcodes.dataset.data_set import load_by_id\n",
    "from qcodes.dataset.data_export import get_data_by_id"
   ]
  },
  {
   "cell_type": "markdown",
   "metadata": {},
   "source": [
    "As usual you can load the data by using the ``load_by_id`` function but you will notice that the different storage methods\n",
    "are reflected in shape of the data as it is retrieved. "
   ]
  },
  {
   "cell_type": "code",
   "execution_count": 10,
   "metadata": {
    "execution": {
     "iopub.execute_input": "2021-01-18T10:59:04.781356Z",
     "iopub.status.busy": "2021-01-18T10:59:04.779965Z",
     "iopub.status.idle": "2021-01-18T10:59:04.781969Z",
     "shell.execute_reply": "2021-01-18T10:59:04.782603Z"
    }
   },
   "outputs": [],
   "source": [
    "run_id_n = t_numeric_run_ids[0]\n",
    "run_id_a = t_array_run_ids[0]"
   ]
  },
  {
   "cell_type": "code",
   "execution_count": 11,
   "metadata": {
    "execution": {
     "iopub.execute_input": "2021-01-18T10:59:04.786366Z",
     "iopub.status.busy": "2021-01-18T10:59:04.785750Z",
     "iopub.status.idle": "2021-01-18T10:59:04.796763Z",
     "shell.execute_reply": "2021-01-18T10:59:04.797433Z"
    },
    "scrolled": true
   },
   "outputs": [
    {
     "data": {
      "text/plain": [
       "{'x1': {'x1': array([0.23640613, 0.23640613, 0.80914084, 0.80914084, 0.15391707,\n",
       "         0.15391707, 0.06190952, 0.06190952, 0.83536931, 0.83536931,\n",
       "         0.95494995, 0.95494995, 0.24773499, 0.24773499, 0.08376273,\n",
       "         0.08376273, 0.3995448 , 0.3995448 , 0.39952586, 0.39952586,\n",
       "         0.19599312, 0.19599312, 0.45089801, 0.45089801, 0.55578904,\n",
       "         0.55578904, 0.71634098, 0.71634098, 0.55145473, 0.55145473,\n",
       "         0.01468473, 0.01468473, 0.45033854, 0.45033854, 0.24182089,\n",
       "         0.24182089, 0.13663047, 0.13663047, 0.27835732, 0.27835732,\n",
       "         0.36766958, 0.36766958, 0.03077386, 0.03077386, 0.34048946,\n",
       "         0.34048946, 0.38777196, 0.38777196, 0.48009034, 0.48009034,\n",
       "         0.07387391, 0.07387391, 0.39605254, 0.39605254, 0.06132061,\n",
       "         0.06132061, 0.50221158, 0.50221158, 0.59111883, 0.59111883,\n",
       "         0.54442566, 0.54442566, 0.66177014, 0.66177014, 0.21445504,\n",
       "         0.21445504, 0.75007472, 0.75007472, 0.99716859, 0.99716859,\n",
       "         0.3883089 , 0.3883089 , 0.29849757, 0.29849757, 0.17266041,\n",
       "         0.17266041, 0.51206337, 0.51206337, 0.06983377, 0.06983377,\n",
       "         0.67840692, 0.67840692, 0.44390677, 0.44390677, 0.13887608,\n",
       "         0.13887608, 0.28212376, 0.28212376, 0.0303897 , 0.0303897 ,\n",
       "         0.17923179, 0.17923179, 0.70916419, 0.70916419, 0.0863    ,\n",
       "         0.0863    , 0.99557448, 0.99557448, 0.92152545, 0.92152545,\n",
       "         0.31394115, 0.31394115, 0.69380852, 0.69380852, 0.5622434 ,\n",
       "         0.5622434 , 0.64795811, 0.64795811, 0.96331379, 0.96331379,\n",
       "         0.25112308, 0.25112308, 0.56670785, 0.56670785, 0.28333302,\n",
       "         0.28333302, 0.96231514, 0.96231514, 0.63796611, 0.63796611,\n",
       "         0.04530387, 0.04530387, 0.45879771, 0.45879771, 0.44262827,\n",
       "         0.44262827, 0.44069391, 0.44069391, 0.95260761, 0.95260761,\n",
       "         0.27742009, 0.27742009, 0.83193808, 0.83193808, 0.28092625,\n",
       "         0.28092625, 0.40481877, 0.40481877, 0.06762205, 0.06762205,\n",
       "         0.43306596, 0.43306596, 0.1682079 , 0.1682079 , 0.92979708,\n",
       "         0.92979708, 0.41823565, 0.41823565, 0.20399116, 0.20399116,\n",
       "         0.24516684, 0.24516684, 0.60384144, 0.60384144, 0.81031094,\n",
       "         0.81031094, 0.47426992, 0.47426992, 0.13634795, 0.13634795,\n",
       "         0.13245169, 0.13245169, 0.07231971, 0.07231971, 0.32011528,\n",
       "         0.32011528, 0.19570329, 0.19570329, 0.63685245, 0.63685245,\n",
       "         0.80133293, 0.80133293, 0.87324725, 0.87324725, 0.2030751 ,\n",
       "         0.2030751 , 0.53206876, 0.53206876, 0.15858079, 0.15858079,\n",
       "         0.91167247, 0.91167247, 0.96803456, 0.96803456, 0.59551482,\n",
       "         0.59551482, 0.53600215, 0.53600215, 0.11977604, 0.11977604,\n",
       "         0.38756845, 0.38756845, 0.3092305 , 0.3092305 , 0.7334447 ,\n",
       "         0.7334447 , 0.99026968, 0.99026968, 0.16510928, 0.16510928])}}"
      ]
     },
     "execution_count": 1,
     "metadata": {},
     "output_type": "execute_result"
    }
   ],
   "source": [
    "ds = load_by_id(run_id_n)\n",
    "ds.get_parameter_data('x1')"
   ]
  },
  {
   "cell_type": "markdown",
   "metadata": {},
   "source": [
    "And a dataset stored as binary arrays"
   ]
  },
  {
   "cell_type": "code",
   "execution_count": 12,
   "metadata": {
    "execution": {
     "iopub.execute_input": "2021-01-18T10:59:04.801976Z",
     "iopub.status.busy": "2021-01-18T10:59:04.801370Z",
     "iopub.status.idle": "2021-01-18T10:59:04.869570Z",
     "shell.execute_reply": "2021-01-18T10:59:04.870273Z"
    },
    "scrolled": true
   },
   "outputs": [
    {
     "data": {
      "text/plain": [
       "{'x1': {'x1': array([[0.96872424],\n",
       "         [0.96872424],\n",
       "         [0.16844442],\n",
       "         [0.16844442],\n",
       "         [0.85076999],\n",
       "         [0.85076999],\n",
       "         [0.89508304],\n",
       "         [0.89508304],\n",
       "         [0.81956579],\n",
       "         [0.81956579],\n",
       "         [0.36347654],\n",
       "         [0.36347654],\n",
       "         [0.6777657 ],\n",
       "         [0.6777657 ],\n",
       "         [0.85907943],\n",
       "         [0.85907943],\n",
       "         [0.60850597],\n",
       "         [0.60850597],\n",
       "         [0.57001973],\n",
       "         [0.57001973],\n",
       "         [0.07867945],\n",
       "         [0.07867945],\n",
       "         [0.89099572],\n",
       "         [0.89099572],\n",
       "         [0.49949744],\n",
       "         [0.49949744],\n",
       "         [0.25059447],\n",
       "         [0.25059447],\n",
       "         [0.32542869],\n",
       "         [0.32542869],\n",
       "         [0.70325235],\n",
       "         [0.70325235],\n",
       "         [0.61448571],\n",
       "         [0.61448571],\n",
       "         [0.93494046],\n",
       "         [0.93494046],\n",
       "         [0.80088234],\n",
       "         [0.80088234],\n",
       "         [0.24490925],\n",
       "         [0.24490925],\n",
       "         [0.39521636],\n",
       "         [0.39521636],\n",
       "         [0.95636047],\n",
       "         [0.95636047],\n",
       "         [0.69505875],\n",
       "         [0.69505875],\n",
       "         [0.78463591],\n",
       "         [0.78463591],\n",
       "         [0.07756825],\n",
       "         [0.07756825],\n",
       "         [0.30713859],\n",
       "         [0.30713859],\n",
       "         [0.71612566],\n",
       "         [0.71612566],\n",
       "         [0.26899362],\n",
       "         [0.26899362],\n",
       "         [0.59913914],\n",
       "         [0.59913914],\n",
       "         [0.22706155],\n",
       "         [0.22706155],\n",
       "         [0.98501761],\n",
       "         [0.98501761],\n",
       "         [0.13953835],\n",
       "         [0.13953835],\n",
       "         [0.15927664],\n",
       "         [0.15927664],\n",
       "         [0.52678938],\n",
       "         [0.52678938],\n",
       "         [0.09393992],\n",
       "         [0.09393992],\n",
       "         [0.5759757 ],\n",
       "         [0.5759757 ],\n",
       "         [0.45267629],\n",
       "         [0.45267629],\n",
       "         [0.18529005],\n",
       "         [0.18529005],\n",
       "         [0.70946811],\n",
       "         [0.70946811],\n",
       "         [0.78114612],\n",
       "         [0.78114612],\n",
       "         [0.15021487],\n",
       "         [0.15021487],\n",
       "         [0.14475751],\n",
       "         [0.14475751],\n",
       "         [0.63527715],\n",
       "         [0.63527715],\n",
       "         [0.6932793 ],\n",
       "         [0.6932793 ],\n",
       "         [0.636837  ],\n",
       "         [0.636837  ],\n",
       "         [0.53780804],\n",
       "         [0.53780804],\n",
       "         [0.85305453],\n",
       "         [0.85305453],\n",
       "         [0.1312999 ],\n",
       "         [0.1312999 ],\n",
       "         [0.58662972],\n",
       "         [0.58662972],\n",
       "         [0.74553104],\n",
       "         [0.74553104],\n",
       "         [0.5870589 ],\n",
       "         [0.5870589 ],\n",
       "         [0.07652008],\n",
       "         [0.07652008],\n",
       "         [0.81022703],\n",
       "         [0.81022703],\n",
       "         [0.8096419 ],\n",
       "         [0.8096419 ],\n",
       "         [0.4553093 ],\n",
       "         [0.4553093 ],\n",
       "         [0.24348208],\n",
       "         [0.24348208],\n",
       "         [0.40902564],\n",
       "         [0.40902564],\n",
       "         [0.00171167],\n",
       "         [0.00171167],\n",
       "         [0.16912647],\n",
       "         [0.16912647],\n",
       "         [0.81041698],\n",
       "         [0.81041698],\n",
       "         [0.63182487],\n",
       "         [0.63182487],\n",
       "         [0.54846787],\n",
       "         [0.54846787],\n",
       "         [0.64081731],\n",
       "         [0.64081731],\n",
       "         [0.42572078],\n",
       "         [0.42572078],\n",
       "         [0.68538345],\n",
       "         [0.68538345],\n",
       "         [0.19659158],\n",
       "         [0.19659158],\n",
       "         [0.44258216],\n",
       "         [0.44258216],\n",
       "         [0.77909371],\n",
       "         [0.77909371],\n",
       "         [0.66044135],\n",
       "         [0.66044135],\n",
       "         [0.02689219],\n",
       "         [0.02689219],\n",
       "         [0.07649492],\n",
       "         [0.07649492],\n",
       "         [0.47343546],\n",
       "         [0.47343546],\n",
       "         [0.36030454],\n",
       "         [0.36030454],\n",
       "         [0.38287741],\n",
       "         [0.38287741],\n",
       "         [0.60364414],\n",
       "         [0.60364414],\n",
       "         [0.10024297],\n",
       "         [0.10024297],\n",
       "         [0.44231801],\n",
       "         [0.44231801],\n",
       "         [0.10193867],\n",
       "         [0.10193867],\n",
       "         [0.54790638],\n",
       "         [0.54790638],\n",
       "         [0.95347764],\n",
       "         [0.95347764],\n",
       "         [0.18924168],\n",
       "         [0.18924168],\n",
       "         [0.9162827 ],\n",
       "         [0.9162827 ],\n",
       "         [0.083257  ],\n",
       "         [0.083257  ],\n",
       "         [0.31568035],\n",
       "         [0.31568035],\n",
       "         [0.63214868],\n",
       "         [0.63214868],\n",
       "         [0.55737629],\n",
       "         [0.55737629],\n",
       "         [0.43937399],\n",
       "         [0.43937399],\n",
       "         [0.19773724],\n",
       "         [0.19773724],\n",
       "         [0.05060788],\n",
       "         [0.05060788],\n",
       "         [0.18192315],\n",
       "         [0.18192315],\n",
       "         [0.89814461],\n",
       "         [0.89814461],\n",
       "         [0.16939244],\n",
       "         [0.16939244],\n",
       "         [0.90957772],\n",
       "         [0.90957772],\n",
       "         [0.63138386],\n",
       "         [0.63138386],\n",
       "         [0.45384868],\n",
       "         [0.45384868],\n",
       "         [0.66275691],\n",
       "         [0.66275691],\n",
       "         [0.46560788],\n",
       "         [0.46560788],\n",
       "         [0.0046093 ],\n",
       "         [0.0046093 ],\n",
       "         [0.91935892],\n",
       "         [0.91935892],\n",
       "         [0.98447774],\n",
       "         [0.98447774]])}}"
      ]
     },
     "execution_count": 1,
     "metadata": {},
     "output_type": "execute_result"
    }
   ],
   "source": [
    "ds = load_by_id(run_id_a)\n",
    "ds.get_parameter_data('x1')"
   ]
  },
  {
   "cell_type": "code",
   "execution_count": null,
   "metadata": {},
   "outputs": [],
   "source": []
  }
 ],
 "metadata": {
  "kernelspec": {
   "display_name": "Python 3",
   "language": "python",
   "name": "python3"
  },
  "language_info": {
   "codemirror_mode": {
    "name": "ipython",
    "version": 3
   },
   "file_extension": ".py",
   "mimetype": "text/x-python",
   "name": "python",
   "nbconvert_exporter": "python",
   "pygments_lexer": "ipython3",
   "version": "3.7.9"
  },
  "nbsphinx": {
   "timeout": 600
  },
  "toc": {
   "base_numbering": 1,
   "nav_menu": {},
   "number_sections": true,
   "sideBar": true,
   "skip_h1_title": false,
   "title_cell": "Table of Contents",
   "title_sidebar": "Contents",
   "toc_cell": false,
   "toc_position": {},
   "toc_section_display": true,
   "toc_window_display": false
  },
  "varInspector": {
   "cols": {
    "lenName": 16,
    "lenType": 16,
    "lenVar": 40
   },
   "kernels_config": {
    "python": {
     "delete_cmd_postfix": "",
     "delete_cmd_prefix": "del ",
     "library": "var_list.py",
     "varRefreshCmd": "print(var_dic_list())"
    },
    "r": {
     "delete_cmd_postfix": ") ",
     "delete_cmd_prefix": "rm(",
     "library": "var_list.r",
     "varRefreshCmd": "cat(var_dic_list()) "
    }
   },
   "types_to_exclude": [
    "module",
    "function",
    "builtin_function_or_method",
    "instance",
    "_Feature"
   ],
   "window_display": false
  }
 },
 "nbformat": 4,
 "nbformat_minor": 2
}
