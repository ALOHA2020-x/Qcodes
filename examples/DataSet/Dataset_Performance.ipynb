{
 "cells": [
  {
   "cell_type": "markdown",
   "metadata": {},
   "source": [
    "# DataSet Performance\n",
    "\n",
    "This notebook shows the trade-off between inserting data into a database row-by-row and as binary blobs. Inserting the data row-by-row means that we have direct access to all the data and may perform queries directly on the values of the data. On the other hand, as we shall see, this is much slower than inserting the data directly as binary blobs."
   ]
  },
  {
   "cell_type": "markdown",
   "metadata": {},
   "source": [
    "First, we choose a new location for the database to ensure that we don't add a bunch of benchmarking data to the default one."
   ]
  },
  {
   "cell_type": "code",
   "execution_count": 1,
   "metadata": {
    "execution": {
     "iopub.execute_input": "2020-10-30T08:37:54.557273Z",
     "iopub.status.busy": "2020-10-30T08:37:54.556638Z",
     "iopub.status.idle": "2020-10-30T08:37:55.591549Z",
     "shell.execute_reply": "2020-10-30T08:37:55.592037Z"
    }
   },
   "outputs": [
    {
     "name": "stdout",
     "output_type": "stream",
     "text": [
      "Logging hadn't been started.\n",
      "Activating auto-logging. Current session state plus future input saved.\n",
      "Filename       : /home/vsts/.qcodes/logs/command_history.log\n",
      "Mode           : append\n",
      "Output logging : True\n",
      "Raw input log  : False\n",
      "Timestamping   : True\n",
      "State          : active\n"
     ]
    },
    {
     "name": "stdout",
     "output_type": "stream",
     "text": [
      "Qcodes Logfile : /home/vsts/.qcodes/logs/201030-14391-qcodes.log\n"
     ]
    }
   ],
   "source": [
    "import os\n",
    "cwd = os.getcwd()\n",
    "import qcodes as qc\n",
    "qc.config[\"core\"][\"db_location\"] = os.path.join(cwd, 'testing.db')\n"
   ]
  },
  {
   "cell_type": "code",
   "execution_count": 2,
   "metadata": {
    "execution": {
     "iopub.execute_input": "2020-10-30T08:37:55.599839Z",
     "iopub.status.busy": "2020-10-30T08:37:55.598053Z",
     "iopub.status.idle": "2020-10-30T08:37:55.800803Z",
     "shell.execute_reply": "2020-10-30T08:37:55.799843Z"
    }
   },
   "outputs": [],
   "source": [
    "%matplotlib inline\n",
    "import time\n",
    "import matplotlib.pyplot as plt\n",
    "import numpy as np\n",
    "\n",
    "import qcodes as qc\n",
    "from qcodes.instrument.parameter import ManualParameter\n",
    "from qcodes.dataset.experiment_container import (Experiment,\n",
    "                                                 load_last_experiment,\n",
    "                                                 new_experiment)\n",
    "from qcodes.dataset.sqlite.database import initialise_database\n",
    "from qcodes import load_or_create_experiment\n",
    "from qcodes.dataset.measurements import Measurement"
   ]
  },
  {
   "cell_type": "code",
   "execution_count": 3,
   "metadata": {
    "execution": {
     "iopub.execute_input": "2020-10-30T08:37:55.805223Z",
     "iopub.status.busy": "2020-10-30T08:37:55.804473Z",
     "iopub.status.idle": "2020-10-30T08:37:55.927283Z",
     "shell.execute_reply": "2020-10-30T08:37:55.927796Z"
    }
   },
   "outputs": [
    {
     "name": "stdout",
     "output_type": "stream",
     "text": [
      "\r",
      "0it [00:00, ?it/s]"
     ]
    },
    {
     "name": "stdout",
     "output_type": "stream",
     "text": [
      "\r",
      "Upgrading database; v0 -> v1: : 0it [00:00, ?it/s]"
     ]
    },
    {
     "name": "stdout",
     "output_type": "stream",
     "text": [
      "\r",
      "Upgrading database; v0 -> v1: : 0it [00:00, ?it/s]"
     ]
    },
    {
     "name": "stdout",
     "output_type": "stream",
     "text": [
      "\n",
      "\r",
      "  0%|          | 0/1 [00:00<?, ?it/s]"
     ]
    },
    {
     "name": "stdout",
     "output_type": "stream",
     "text": [
      "\r",
      "Upgrading database; v1 -> v2:   0%|          | 0/1 [00:00<?, ?it/s]"
     ]
    },
    {
     "name": "stdout",
     "output_type": "stream",
     "text": [
      "\r",
      "Upgrading database; v1 -> v2: 100%|██████████| 1/1 [00:00<00:00, 344.36it/s]"
     ]
    },
    {
     "name": "stdout",
     "output_type": "stream",
     "text": [
      "\n",
      "\r",
      "0it [00:00, ?it/s]"
     ]
    },
    {
     "name": "stdout",
     "output_type": "stream",
     "text": [
      "\r",
      "Upgrading database; v2 -> v3: : 0it [00:00, ?it/s]"
     ]
    },
    {
     "name": "stdout",
     "output_type": "stream",
     "text": [
      "\r",
      "Upgrading database; v2 -> v3: : 0it [00:00, ?it/s]"
     ]
    },
    {
     "name": "stdout",
     "output_type": "stream",
     "text": [
      "\n",
      "\r",
      "0it [00:00, ?it/s]"
     ]
    },
    {
     "name": "stdout",
     "output_type": "stream",
     "text": [
      "\r",
      "Upgrading database; v3 -> v4: : 0it [00:00, ?it/s]"
     ]
    },
    {
     "name": "stdout",
     "output_type": "stream",
     "text": [
      "\r",
      "Upgrading database; v3 -> v4: : 0it [00:00, ?it/s]"
     ]
    },
    {
     "name": "stdout",
     "output_type": "stream",
     "text": [
      "\n",
      "\r",
      "  0%|          | 0/1 [00:00<?, ?it/s]"
     ]
    },
    {
     "name": "stdout",
     "output_type": "stream",
     "text": [
      "\r",
      "Upgrading database; v4 -> v5:   0%|          | 0/1 [00:00<?, ?it/s]"
     ]
    },
    {
     "name": "stdout",
     "output_type": "stream",
     "text": [
      "\r",
      "Upgrading database; v4 -> v5: 100%|██████████| 1/1 [00:00<00:00, 717.34it/s]"
     ]
    },
    {
     "name": "stdout",
     "output_type": "stream",
     "text": [
      "\n",
      "\r",
      "0it [00:00, ?it/s]"
     ]
    },
    {
     "name": "stdout",
     "output_type": "stream",
     "text": [
      "\r",
      "Upgrading database; v5 -> v6: : 0it [00:00, ?it/s]"
     ]
    },
    {
     "name": "stdout",
     "output_type": "stream",
     "text": [
      "\r",
      "Upgrading database; v5 -> v6: : 0it [00:00, ?it/s]"
     ]
    },
    {
     "name": "stdout",
     "output_type": "stream",
     "text": [
      "\n",
      "\r",
      "  0%|          | 0/1 [00:00<?, ?it/s]"
     ]
    },
    {
     "name": "stdout",
     "output_type": "stream",
     "text": [
      "\r",
      "Upgrading database; v6 -> v7:   0%|          | 0/1 [00:00<?, ?it/s]"
     ]
    },
    {
     "name": "stdout",
     "output_type": "stream",
     "text": [
      "\r",
      "Upgrading database; v6 -> v7: 100%|██████████| 1/1 [00:00<00:00, 357.51it/s]"
     ]
    },
    {
     "name": "stdout",
     "output_type": "stream",
     "text": [
      "\n",
      "\r",
      "  0%|          | 0/1 [00:00<?, ?it/s]"
     ]
    },
    {
     "name": "stdout",
     "output_type": "stream",
     "text": [
      "\r",
      "Upgrading database; v7 -> v8:   0%|          | 0/1 [00:00<?, ?it/s]"
     ]
    },
    {
     "name": "stdout",
     "output_type": "stream",
     "text": [
      "\r",
      "Upgrading database; v7 -> v8: 100%|██████████| 1/1 [00:00<00:00, 392.17it/s]"
     ]
    },
    {
     "name": "stdout",
     "output_type": "stream",
     "text": [
      "\n",
      "\r",
      "  0%|          | 0/1 [00:00<?, ?it/s]"
     ]
    },
    {
     "name": "stdout",
     "output_type": "stream",
     "text": [
      "\r",
      "Upgrading database; v8 -> v9:   0%|          | 0/1 [00:00<?, ?it/s]"
     ]
    },
    {
     "name": "stdout",
     "output_type": "stream",
     "text": [
      "\r",
      "Upgrading database; v8 -> v9: 100%|██████████| 1/1 [00:00<00:00, 438.46it/s]"
     ]
    },
    {
     "name": "stdout",
     "output_type": "stream",
     "text": [
      "\n"
     ]
    }
   ],
   "source": [
    "initialise_database()\n",
    "exp = load_or_create_experiment(experiment_name='tutorial_exp', sample_name=\"no sample\")"
   ]
  },
  {
   "cell_type": "markdown",
   "metadata": {},
   "source": [
    "Here, we define a simple function to benchmark the time it takes to insert n points with either numeric or array data type.\n",
    "We will compare both the time used to call ``add_result`` and the time used for the full measurement."
   ]
  },
  {
   "cell_type": "code",
   "execution_count": 4,
   "metadata": {
    "execution": {
     "iopub.execute_input": "2020-10-30T08:37:55.935273Z",
     "iopub.status.busy": "2020-10-30T08:37:55.934551Z",
     "iopub.status.idle": "2020-10-30T08:37:55.938716Z",
     "shell.execute_reply": "2020-10-30T08:37:55.938226Z"
    }
   },
   "outputs": [],
   "source": [
    "def insert_data(paramtype, npoints, nreps=1):\n",
    "\n",
    "    meas = Measurement(exp=exp)\n",
    "\n",
    "    x1 = ManualParameter('x1')\n",
    "    x2 = ManualParameter('x2')\n",
    "    x3 = ManualParameter('x3')\n",
    "    y1 = ManualParameter('y1')\n",
    "    y2 = ManualParameter('y2')\n",
    "\n",
    "    meas.register_parameter(x1, paramtype=paramtype)\n",
    "    meas.register_parameter(x2, paramtype=paramtype)\n",
    "    meas.register_parameter(x3, paramtype=paramtype)\n",
    "    meas.register_parameter(y1, setpoints=[x1, x2, x3],\n",
    "                            paramtype=paramtype)\n",
    "    meas.register_parameter(y2, setpoints=[x1, x2, x3],\n",
    "                            paramtype=paramtype)\n",
    "    start = time.perf_counter()\n",
    "    with meas.run() as datasaver:\n",
    "        start_adding = time.perf_counter()\n",
    "        for i in range(nreps):\n",
    "            datasaver.add_result((x1, np.random.rand(npoints)),\n",
    "                                 (x2, np.random.rand(npoints)),\n",
    "                                 (x3, np.random.rand(npoints)),\n",
    "                                 (y1, np.random.rand(npoints)),\n",
    "                                 (y2, np.random.rand(npoints)))\n",
    "        stop_adding = time.perf_counter()\n",
    "        run_id = datasaver.run_id\n",
    "    stop = time.perf_counter()\n",
    "    tot_time = stop - start\n",
    "    add_time = stop_adding - start_adding\n",
    "    return tot_time, add_time, run_id"
   ]
  },
  {
   "cell_type": "markdown",
   "metadata": {},
   "source": [
    "## Comparison between numeric/array data and binary blob"
   ]
  },
  {
   "cell_type": "markdown",
   "metadata": {},
   "source": [
    "### Case1: Short experiment time"
   ]
  },
  {
   "cell_type": "code",
   "execution_count": 5,
   "metadata": {
    "execution": {
     "iopub.execute_input": "2020-10-30T08:37:55.944531Z",
     "iopub.status.busy": "2020-10-30T08:37:55.943219Z",
     "iopub.status.idle": "2020-10-30T08:37:56.805694Z",
     "shell.execute_reply": "2020-10-30T08:37:56.805187Z"
    }
   },
   "outputs": [
    {
     "name": "stdout",
     "output_type": "stream",
     "text": [
      "Starting experimental run with id: 1. \n",
      "Starting experimental run with id: 2. \n",
      "Starting experimental run with id: 3. \n",
      "Starting experimental run with id: 4. \n"
     ]
    },
    {
     "name": "stdout",
     "output_type": "stream",
     "text": [
      "Starting experimental run with id: 5. \n"
     ]
    },
    {
     "name": "stdout",
     "output_type": "stream",
     "text": [
      "Starting experimental run with id: 6. \n",
      "Starting experimental run with id: 7. \n"
     ]
    },
    {
     "name": "stdout",
     "output_type": "stream",
     "text": [
      "Starting experimental run with id: 8. \n",
      "Starting experimental run with id: 9. \n"
     ]
    },
    {
     "name": "stdout",
     "output_type": "stream",
     "text": [
      "Starting experimental run with id: 10. \n",
      "Starting experimental run with id: 11. \n"
     ]
    },
    {
     "name": "stdout",
     "output_type": "stream",
     "text": [
      "Starting experimental run with id: 12. \n",
      "Starting experimental run with id: 13. \n"
     ]
    },
    {
     "name": "stdout",
     "output_type": "stream",
     "text": [
      "Starting experimental run with id: 14. \n"
     ]
    }
   ],
   "source": [
    "sizes = [1,500,1000,2000,3000,4000,5000]\n",
    "t_numeric = []\n",
    "t_numeric_add = []\n",
    "t_array = []\n",
    "t_array_add = []\n",
    "for size in sizes:\n",
    "    tn, tna, run_id_n =  insert_data('numeric', size)\n",
    "    t_numeric.append(tn)\n",
    "    t_numeric_add.append(tna)\n",
    "\n",
    "    ta, taa, run_id_a =  insert_data('array', size)\n",
    "    t_array.append(ta)\n",
    "    t_array_add.append(taa)"
   ]
  },
  {
   "cell_type": "code",
   "execution_count": 6,
   "metadata": {
    "execution": {
     "iopub.execute_input": "2020-10-30T08:37:56.830202Z",
     "iopub.status.busy": "2020-10-30T08:37:56.823134Z",
     "iopub.status.idle": "2020-10-30T08:37:57.021744Z",
     "shell.execute_reply": "2020-10-30T08:37:57.021248Z"
    }
   },
   "outputs": [
    {
     "data": {
      "image/png": "[encoded data removed]",
      "text/plain": [
       "<Figure size 432x288 with 1 Axes>"
      ]
     },
     "metadata": {
      "needs_background": "light"
     },
     "output_type": "display_data"
    }
   ],
   "source": [
    "fig, ax = plt.subplots(1,1)\n",
    "ax.plot(sizes, t_numeric, 'o-', label='Inserting row-by-row')\n",
    "ax.plot(sizes, t_numeric_add, 'o-', label='Inserting row-by-row: add_result only')\n",
    "ax.plot(sizes, t_array, 'd-', label='Inserting as binary blob')\n",
    "ax.plot(sizes, t_array_add, 'd-', label='Inserting as binary blob: add_result only')\n",
    "ax.legend()\n",
    "ax.set_xlabel('Array length')\n",
    "ax.set_ylabel('Time (s)')\n",
    "fig.tight_layout()"
   ]
  },
  {
   "cell_type": "markdown",
   "metadata": {},
   "source": [
    "As shown in the latter figure, the time to setup and and close the experiment is approximately 0.4 sec. In case of small array sizes, the difference between inserting values of data as arrays and inserting them row-by-row is relatively unimportant. At larger array sizes, i.e. above 10000 points, the cost of writing data as individual datapoints starts to become important.\n"
   ]
  },
  {
   "cell_type": "markdown",
   "metadata": {},
   "source": [
    "### Case2: Long experiment time "
   ]
  },
  {
   "cell_type": "code",
   "execution_count": 7,
   "metadata": {
    "execution": {
     "iopub.execute_input": "2020-10-30T08:37:57.028344Z",
     "iopub.status.busy": "2020-10-30T08:37:57.027498Z",
     "iopub.status.idle": "2020-10-30T08:38:54.854862Z",
     "shell.execute_reply": "2020-10-30T08:38:54.855458Z"
    }
   },
   "outputs": [
    {
     "name": "stdout",
     "output_type": "stream",
     "text": [
      "Starting experimental run with id: 15. \n",
      "Starting experimental run with id: 16. \n",
      "Starting experimental run with id: 17. \n"
     ]
    },
    {
     "name": "stdout",
     "output_type": "stream",
     "text": [
      "Starting experimental run with id: 18. \n",
      "Starting experimental run with id: 19. \n"
     ]
    },
    {
     "name": "stdout",
     "output_type": "stream",
     "text": [
      "Starting experimental run with id: 20. \n"
     ]
    },
    {
     "name": "stdout",
     "output_type": "stream",
     "text": [
      "Starting experimental run with id: 21. \n"
     ]
    },
    {
     "name": "stdout",
     "output_type": "stream",
     "text": [
      "Starting experimental run with id: 22. \n"
     ]
    },
    {
     "name": "stdout",
     "output_type": "stream",
     "text": [
      "Starting experimental run with id: 23. \n"
     ]
    },
    {
     "name": "stdout",
     "output_type": "stream",
     "text": [
      "Starting experimental run with id: 24. \n"
     ]
    },
    {
     "name": "stdout",
     "output_type": "stream",
     "text": [
      "Starting experimental run with id: 25. \n"
     ]
    },
    {
     "name": "stdout",
     "output_type": "stream",
     "text": [
      "Starting experimental run with id: 26. \n"
     ]
    },
    {
     "name": "stdout",
     "output_type": "stream",
     "text": [
      "Starting experimental run with id: 27. \n"
     ]
    },
    {
     "name": "stdout",
     "output_type": "stream",
     "text": [
      "Starting experimental run with id: 28. \n"
     ]
    }
   ],
   "source": [
    "sizes = [1,500,1000,2000,3000,4000,5000]\n",
    "nreps = 100\n",
    "t_numeric = []\n",
    "t_numeric_add = []\n",
    "t_numeric_run_ids = []\n",
    "t_array = []\n",
    "t_array_add = []\n",
    "t_array_run_ids = []\n",
    "for size in sizes:\n",
    "    tn, tna, run_id_n =  insert_data('numeric', size, nreps=nreps)\n",
    "    t_numeric.append(tn)\n",
    "    t_numeric_add.append(tna)\n",
    "    t_numeric_run_ids.append(run_id_n)\n",
    "\n",
    "    ta, taa, run_id_a =  insert_data('array', size, nreps=nreps)\n",
    "    t_array.append(ta)\n",
    "    t_array_add.append(taa)\n",
    "    t_array_run_ids.append(run_id_a)"
   ]
  },
  {
   "cell_type": "code",
   "execution_count": 8,
   "metadata": {
    "execution": {
     "iopub.execute_input": "2020-10-30T08:38:54.876450Z",
     "iopub.status.busy": "2020-10-30T08:38:54.874683Z",
     "iopub.status.idle": "2020-10-30T08:38:55.080252Z",
     "shell.execute_reply": "2020-10-30T08:38:55.079293Z"
    },
    "scrolled": true
   },
   "outputs": [
    {
     "data": {
      "image/png": "[encoded data removed]",
      "text/plain": [
       "<Figure size 432x288 with 1 Axes>"
      ]
     },
     "metadata": {
      "needs_background": "light"
     },
     "output_type": "display_data"
    }
   ],
   "source": [
    "fig, ax = plt.subplots(1,1)\n",
    "ax.plot(sizes, t_numeric, 'o-', label='Inserting row-by-row')\n",
    "ax.plot(sizes, t_numeric_add, 'o-', label='Inserting row-by-row: add_result only')\n",
    "ax.plot(sizes, t_array, 'd-', label='Inserting as binary blob')\n",
    "ax.plot(sizes, t_array_add, 'd-', label='Inserting as binary blob: add_result only')\n",
    "ax.legend()\n",
    "ax.set_xlabel('Array length')\n",
    "ax.set_ylabel('Time (s)')\n",
    "fig.tight_layout()"
   ]
  },
  {
   "cell_type": "markdown",
   "metadata": {},
   "source": [
    "However, as we increase the length of the experiment, as seen here by repeating the insertion 100 times, we see a big difference between inserting values of the data row-by-row and inserting it as a binary blob."
   ]
  },
  {
   "cell_type": "markdown",
   "metadata": {},
   "source": [
    "## Loading the data "
   ]
  },
  {
   "cell_type": "code",
   "execution_count": 9,
   "metadata": {
    "execution": {
     "iopub.execute_input": "2020-10-30T08:38:55.085156Z",
     "iopub.status.busy": "2020-10-30T08:38:55.084295Z",
     "iopub.status.idle": "2020-10-30T08:38:55.089153Z",
     "shell.execute_reply": "2020-10-30T08:38:55.088402Z"
    }
   },
   "outputs": [],
   "source": [
    "from qcodes.dataset.data_set import load_by_id\n",
    "from qcodes.dataset.data_export import get_data_by_id"
   ]
  },
  {
   "cell_type": "markdown",
   "metadata": {},
   "source": [
    "As usual you can load the data by using the ``load_by_id`` function but you will notice that the different storage methods\n",
    "are reflected in shape of the data as it is retrieved. "
   ]
  },
  {
   "cell_type": "code",
   "execution_count": 10,
   "metadata": {
    "execution": {
     "iopub.execute_input": "2020-10-30T08:38:55.093077Z",
     "iopub.status.busy": "2020-10-30T08:38:55.092484Z",
     "iopub.status.idle": "2020-10-30T08:38:55.095731Z",
     "shell.execute_reply": "2020-10-30T08:38:55.096481Z"
    }
   },
   "outputs": [],
   "source": [
    "run_id_n = t_numeric_run_ids[0]\n",
    "run_id_a = t_array_run_ids[0]"
   ]
  },
  {
   "cell_type": "code",
   "execution_count": 11,
   "metadata": {
    "execution": {
     "iopub.execute_input": "2020-10-30T08:38:55.100637Z",
     "iopub.status.busy": "2020-10-30T08:38:55.099834Z",
     "iopub.status.idle": "2020-10-30T08:38:55.109608Z",
     "shell.execute_reply": "2020-10-30T08:38:55.110255Z"
    },
    "scrolled": true
   },
   "outputs": [
    {
     "data": {
      "text/plain": [
       "{'x1': {'x1': array([0.72868805, 0.72868805, 0.53039708, 0.53039708, 0.3835125 ,\n",
       "         0.3835125 , 0.51800109, 0.51800109, 0.74366479, 0.74366479,\n",
       "         0.55005802, 0.55005802, 0.40189531, 0.40189531, 0.62116507,\n",
       "         0.62116507, 0.30999979, 0.30999979, 0.7682788 , 0.7682788 ,\n",
       "         0.96782729, 0.96782729, 0.8365396 , 0.8365396 , 0.05596944,\n",
       "         0.05596944, 0.58045515, 0.58045515, 0.05977579, 0.05977579,\n",
       "         0.44679822, 0.44679822, 0.0936024 , 0.0936024 , 0.30608332,\n",
       "         0.30608332, 0.99716072, 0.99716072, 0.16280371, 0.16280371,\n",
       "         0.33881175, 0.33881175, 0.36660244, 0.36660244, 0.55219402,\n",
       "         0.55219402, 0.46298129, 0.46298129, 0.50484106, 0.50484106,\n",
       "         0.02059262, 0.02059262, 0.1807999 , 0.1807999 , 0.00506965,\n",
       "         0.00506965, 0.91713548, 0.91713548, 0.48050911, 0.48050911,\n",
       "         0.45990959, 0.45990959, 0.46591623, 0.46591623, 0.88420831,\n",
       "         0.88420831, 0.81640853, 0.81640853, 0.86995926, 0.86995926,\n",
       "         0.08468967, 0.08468967, 0.86486177, 0.86486177, 0.4448176 ,\n",
       "         0.4448176 , 0.31642965, 0.31642965, 0.75749451, 0.75749451,\n",
       "         0.9354661 , 0.9354661 , 0.12892508, 0.12892508, 0.95283747,\n",
       "         0.95283747, 0.49389468, 0.49389468, 0.08627546, 0.08627546,\n",
       "         0.0385064 , 0.0385064 , 0.05044151, 0.05044151, 0.9873763 ,\n",
       "         0.9873763 , 0.44289849, 0.44289849, 0.10013004, 0.10013004,\n",
       "         0.29499581, 0.29499581, 0.49677072, 0.49677072, 0.44712758,\n",
       "         0.44712758, 0.13489561, 0.13489561, 0.92521673, 0.92521673,\n",
       "         0.66586846, 0.66586846, 0.50541051, 0.50541051, 0.31672397,\n",
       "         0.31672397, 0.85222123, 0.85222123, 0.08151456, 0.08151456,\n",
       "         0.9577709 , 0.9577709 , 0.27818082, 0.27818082, 0.48656172,\n",
       "         0.48656172, 0.62871152, 0.62871152, 0.01869075, 0.01869075,\n",
       "         0.13268018, 0.13268018, 0.90917132, 0.90917132, 0.59952946,\n",
       "         0.59952946, 0.74538554, 0.74538554, 0.98886826, 0.98886826,\n",
       "         0.00796234, 0.00796234, 0.35626457, 0.35626457, 0.17443766,\n",
       "         0.17443766, 0.13446808, 0.13446808, 0.44808439, 0.44808439,\n",
       "         0.55437236, 0.55437236, 0.08977346, 0.08977346, 0.96341351,\n",
       "         0.96341351, 0.27290372, 0.27290372, 0.95017261, 0.95017261,\n",
       "         0.65516982, 0.65516982, 0.30896182, 0.30896182, 0.27462345,\n",
       "         0.27462345, 0.01897523, 0.01897523, 0.88605887, 0.88605887,\n",
       "         0.61034581, 0.61034581, 0.1005608 , 0.1005608 , 0.4552765 ,\n",
       "         0.4552765 , 0.47301517, 0.47301517, 0.61832938, 0.61832938,\n",
       "         0.42615803, 0.42615803, 0.69245751, 0.69245751, 0.10647473,\n",
       "         0.10647473, 0.56600007, 0.56600007, 0.05913817, 0.05913817,\n",
       "         0.8331273 , 0.8331273 , 0.88413022, 0.88413022, 0.79883852,\n",
       "         0.79883852, 0.00750556, 0.00750556, 0.54793316, 0.54793316])}}"
      ]
     },
     "execution_count": 1,
     "metadata": {},
     "output_type": "execute_result"
    }
   ],
   "source": [
    "ds = load_by_id(run_id_n)\n",
    "ds.get_parameter_data('x1')"
   ]
  },
  {
   "cell_type": "markdown",
   "metadata": {},
   "source": [
    "And a dataset stored as binary arrays"
   ]
  },
  {
   "cell_type": "code",
   "execution_count": 12,
   "metadata": {
    "execution": {
     "iopub.execute_input": "2020-10-30T08:38:55.114089Z",
     "iopub.status.busy": "2020-10-30T08:38:55.113460Z",
     "iopub.status.idle": "2020-10-30T08:38:55.179225Z",
     "shell.execute_reply": "2020-10-30T08:38:55.179724Z"
    },
    "scrolled": true
   },
   "outputs": [
    {
     "data": {
      "text/plain": [
       "{'x1': {'x1': array([[0.53576449],\n",
       "         [0.53576449],\n",
       "         [0.38853658],\n",
       "         [0.38853658],\n",
       "         [0.83930432],\n",
       "         [0.83930432],\n",
       "         [0.66801585],\n",
       "         [0.66801585],\n",
       "         [0.91652806],\n",
       "         [0.91652806],\n",
       "         [0.56534598],\n",
       "         [0.56534598],\n",
       "         [0.70992353],\n",
       "         [0.70992353],\n",
       "         [0.10472304],\n",
       "         [0.10472304],\n",
       "         [0.19128205],\n",
       "         [0.19128205],\n",
       "         [0.09723542],\n",
       "         [0.09723542],\n",
       "         [0.53101276],\n",
       "         [0.53101276],\n",
       "         [0.48940524],\n",
       "         [0.48940524],\n",
       "         [0.37947398],\n",
       "         [0.37947398],\n",
       "         [0.39780661],\n",
       "         [0.39780661],\n",
       "         [0.26742892],\n",
       "         [0.26742892],\n",
       "         [0.62597333],\n",
       "         [0.62597333],\n",
       "         [0.07602502],\n",
       "         [0.07602502],\n",
       "         [0.6223869 ],\n",
       "         [0.6223869 ],\n",
       "         [0.20255518],\n",
       "         [0.20255518],\n",
       "         [0.73878432],\n",
       "         [0.73878432],\n",
       "         [0.82722003],\n",
       "         [0.82722003],\n",
       "         [0.77549984],\n",
       "         [0.77549984],\n",
       "         [0.87338247],\n",
       "         [0.87338247],\n",
       "         [0.043066  ],\n",
       "         [0.043066  ],\n",
       "         [0.56638504],\n",
       "         [0.56638504],\n",
       "         [0.28073261],\n",
       "         [0.28073261],\n",
       "         [0.91909199],\n",
       "         [0.91909199],\n",
       "         [0.60582683],\n",
       "         [0.60582683],\n",
       "         [0.72399108],\n",
       "         [0.72399108],\n",
       "         [0.57992101],\n",
       "         [0.57992101],\n",
       "         [0.74310891],\n",
       "         [0.74310891],\n",
       "         [0.94008784],\n",
       "         [0.94008784],\n",
       "         [0.88143008],\n",
       "         [0.88143008],\n",
       "         [0.1626785 ],\n",
       "         [0.1626785 ],\n",
       "         [0.38864353],\n",
       "         [0.38864353],\n",
       "         [0.29936434],\n",
       "         [0.29936434],\n",
       "         [0.00279999],\n",
       "         [0.00279999],\n",
       "         [0.57015172],\n",
       "         [0.57015172],\n",
       "         [0.12099271],\n",
       "         [0.12099271],\n",
       "         [0.37674736],\n",
       "         [0.37674736],\n",
       "         [0.2452975 ],\n",
       "         [0.2452975 ],\n",
       "         [0.01357309],\n",
       "         [0.01357309],\n",
       "         [0.50361696],\n",
       "         [0.50361696],\n",
       "         [0.88487865],\n",
       "         [0.88487865],\n",
       "         [0.71521896],\n",
       "         [0.71521896],\n",
       "         [0.13256025],\n",
       "         [0.13256025],\n",
       "         [0.53701182],\n",
       "         [0.53701182],\n",
       "         [0.51793341],\n",
       "         [0.51793341],\n",
       "         [0.96545207],\n",
       "         [0.96545207],\n",
       "         [0.34530934],\n",
       "         [0.34530934],\n",
       "         [0.04172316],\n",
       "         [0.04172316],\n",
       "         [0.20968582],\n",
       "         [0.20968582],\n",
       "         [0.33522187],\n",
       "         [0.33522187],\n",
       "         [0.95053841],\n",
       "         [0.95053841],\n",
       "         [0.54860554],\n",
       "         [0.54860554],\n",
       "         [0.15628984],\n",
       "         [0.15628984],\n",
       "         [0.32112332],\n",
       "         [0.32112332],\n",
       "         [0.27893388],\n",
       "         [0.27893388],\n",
       "         [0.74488125],\n",
       "         [0.74488125],\n",
       "         [0.95371448],\n",
       "         [0.95371448],\n",
       "         [0.46904042],\n",
       "         [0.46904042],\n",
       "         [0.46786337],\n",
       "         [0.46786337],\n",
       "         [0.68694929],\n",
       "         [0.68694929],\n",
       "         [0.00504562],\n",
       "         [0.00504562],\n",
       "         [0.86538324],\n",
       "         [0.86538324],\n",
       "         [0.31698853],\n",
       "         [0.31698853],\n",
       "         [0.79615786],\n",
       "         [0.79615786],\n",
       "         [0.59356526],\n",
       "         [0.59356526],\n",
       "         [0.89380795],\n",
       "         [0.89380795],\n",
       "         [0.38267712],\n",
       "         [0.38267712],\n",
       "         [0.28868825],\n",
       "         [0.28868825],\n",
       "         [0.03427479],\n",
       "         [0.03427479],\n",
       "         [0.87897186],\n",
       "         [0.87897186],\n",
       "         [0.47273903],\n",
       "         [0.47273903],\n",
       "         [0.86091651],\n",
       "         [0.86091651],\n",
       "         [0.88191977],\n",
       "         [0.88191977],\n",
       "         [0.74357623],\n",
       "         [0.74357623],\n",
       "         [0.77660929],\n",
       "         [0.77660929],\n",
       "         [0.21060364],\n",
       "         [0.21060364],\n",
       "         [0.08132515],\n",
       "         [0.08132515],\n",
       "         [0.32179383],\n",
       "         [0.32179383],\n",
       "         [0.97427855],\n",
       "         [0.97427855],\n",
       "         [0.5307103 ],\n",
       "         [0.5307103 ],\n",
       "         [0.61393637],\n",
       "         [0.61393637],\n",
       "         [0.49547414],\n",
       "         [0.49547414],\n",
       "         [0.44214595],\n",
       "         [0.44214595],\n",
       "         [0.34986726],\n",
       "         [0.34986726],\n",
       "         [0.41975491],\n",
       "         [0.41975491],\n",
       "         [0.38822329],\n",
       "         [0.38822329],\n",
       "         [0.21331071],\n",
       "         [0.21331071],\n",
       "         [0.0655851 ],\n",
       "         [0.0655851 ],\n",
       "         [0.66903237],\n",
       "         [0.66903237],\n",
       "         [0.16076602],\n",
       "         [0.16076602],\n",
       "         [0.62967186],\n",
       "         [0.62967186],\n",
       "         [0.24269035],\n",
       "         [0.24269035],\n",
       "         [0.25557442],\n",
       "         [0.25557442],\n",
       "         [0.4996407 ],\n",
       "         [0.4996407 ],\n",
       "         [0.53743605],\n",
       "         [0.53743605],\n",
       "         [0.95679183],\n",
       "         [0.95679183],\n",
       "         [0.85630356],\n",
       "         [0.85630356]])}}"
      ]
     },
     "execution_count": 1,
     "metadata": {},
     "output_type": "execute_result"
    }
   ],
   "source": [
    "ds = load_by_id(run_id_a)\n",
    "ds.get_parameter_data('x1')"
   ]
  },
  {
   "cell_type": "code",
   "execution_count": null,
   "metadata": {},
   "outputs": [],
   "source": []
  }
 ],
 "metadata": {
  "kernelspec": {
   "display_name": "Python 3",
   "language": "python",
   "name": "python3"
  },
  "language_info": {
   "codemirror_mode": {
    "name": "ipython",
    "version": 3
   },
   "file_extension": ".py",
   "mimetype": "text/x-python",
   "name": "python",
   "nbconvert_exporter": "python",
   "pygments_lexer": "ipython3",
   "version": "3.7.9"
  },
  "nbsphinx": {
   "timeout": 600
  },
  "toc": {
   "base_numbering": 1,
   "nav_menu": {},
   "number_sections": true,
   "sideBar": true,
   "skip_h1_title": false,
   "title_cell": "Table of Contents",
   "title_sidebar": "Contents",
   "toc_cell": false,
   "toc_position": {},
   "toc_section_display": true,
   "toc_window_display": false
  },
  "varInspector": {
   "cols": {
    "lenName": 16,
    "lenType": 16,
    "lenVar": 40
   },
   "kernels_config": {
    "python": {
     "delete_cmd_postfix": "",
     "delete_cmd_prefix": "del ",
     "library": "var_list.py",
     "varRefreshCmd": "print(var_dic_list())"
    },
    "r": {
     "delete_cmd_postfix": ") ",
     "delete_cmd_prefix": "rm(",
     "library": "var_list.r",
     "varRefreshCmd": "cat(var_dic_list()) "
    }
   },
   "types_to_exclude": [
    "module",
    "function",
    "builtin_function_or_method",
    "instance",
    "_Feature"
   ],
   "window_display": false
  }
 },
 "nbformat": 4,
 "nbformat_minor": 2
}
