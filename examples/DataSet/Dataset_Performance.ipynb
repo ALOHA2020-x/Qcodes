{
 "cells": [
  {
   "cell_type": "markdown",
   "metadata": {},
   "source": [
    "# DataSet Performance\n",
    "\n",
    "This notebook shows the trade-off between inserting data into a database row-by-row and as binary blobs. Inserting the data row-by-row means that we have direct access to all the data and may perform queries directly on the values of the data. On the other hand, as we shall see, this is much slower than inserting the data directly as binary blobs."
   ]
  },
  {
   "cell_type": "markdown",
   "metadata": {},
   "source": [
    "First, we choose a new location for the database to ensure that we don't add a bunch of benchmarking data to the default one."
   ]
  },
  {
   "cell_type": "code",
   "execution_count": 1,
   "metadata": {
    "execution": {
     "iopub.execute_input": "2020-11-24T07:52:06.784513Z",
     "iopub.status.busy": "2020-11-24T07:52:06.783713Z",
     "iopub.status.idle": "2020-11-24T07:52:07.730850Z",
     "shell.execute_reply": "2020-11-24T07:52:07.730163Z"
    }
   },
   "outputs": [
    {
     "name": "stdout",
     "output_type": "stream",
     "text": [
      "Logging hadn't been started.\n",
      "Activating auto-logging. Current session state plus future input saved.\n",
      "Filename       : /home/vsts/.qcodes/logs/command_history.log\n",
      "Mode           : append\n",
      "Output logging : True\n",
      "Raw input log  : False\n",
      "Timestamping   : True\n",
      "State          : active\n"
     ]
    },
    {
     "name": "stdout",
     "output_type": "stream",
     "text": [
      "Qcodes Logfile : /home/vsts/.qcodes/logs/201124-14153-qcodes.log\n"
     ]
    }
   ],
   "source": [
    "import os\n",
    "cwd = os.getcwd()\n",
    "import qcodes as qc\n",
    "qc.config[\"core\"][\"db_location\"] = os.path.join(cwd, 'testing.db')\n"
   ]
  },
  {
   "cell_type": "code",
   "execution_count": 2,
   "metadata": {
    "execution": {
     "iopub.execute_input": "2020-11-24T07:52:07.736248Z",
     "iopub.status.busy": "2020-11-24T07:52:07.735842Z",
     "iopub.status.idle": "2020-11-24T07:52:07.905357Z",
     "shell.execute_reply": "2020-11-24T07:52:07.904810Z"
    }
   },
   "outputs": [],
   "source": [
    "%matplotlib inline\n",
    "import time\n",
    "import matplotlib.pyplot as plt\n",
    "import numpy as np\n",
    "\n",
    "import qcodes as qc\n",
    "from qcodes.instrument.parameter import ManualParameter\n",
    "from qcodes.dataset.experiment_container import (Experiment,\n",
    "                                                 load_last_experiment,\n",
    "                                                 new_experiment)\n",
    "from qcodes.dataset.sqlite.database import initialise_database\n",
    "from qcodes import load_or_create_experiment\n",
    "from qcodes.dataset.measurements import Measurement"
   ]
  },
  {
   "cell_type": "code",
   "execution_count": 3,
   "metadata": {
    "execution": {
     "iopub.execute_input": "2020-11-24T07:52:07.908927Z",
     "iopub.status.busy": "2020-11-24T07:52:07.908405Z",
     "iopub.status.idle": "2020-11-24T07:52:08.015046Z",
     "shell.execute_reply": "2020-11-24T07:52:08.015424Z"
    }
   },
   "outputs": [
    {
     "name": "stdout",
     "output_type": "stream",
     "text": [
      "\r",
      "0it [00:00, ?it/s]"
     ]
    },
    {
     "name": "stdout",
     "output_type": "stream",
     "text": [
      "\r",
      "Upgrading database; v0 -> v1: : 0it [00:00, ?it/s]"
     ]
    },
    {
     "name": "stdout",
     "output_type": "stream",
     "text": [
      "\r",
      "Upgrading database; v0 -> v1: : 0it [00:00, ?it/s]"
     ]
    },
    {
     "name": "stdout",
     "output_type": "stream",
     "text": [
      "\n",
      "\r",
      "  0%|          | 0/1 [00:00<?, ?it/s]"
     ]
    },
    {
     "name": "stdout",
     "output_type": "stream",
     "text": [
      "\r",
      "Upgrading database; v1 -> v2:   0%|          | 0/1 [00:00<?, ?it/s]"
     ]
    },
    {
     "name": "stdout",
     "output_type": "stream",
     "text": [
      "\r",
      "Upgrading database; v1 -> v2: 100%|██████████| 1/1 [00:00<00:00, 1199.40it/s]"
     ]
    },
    {
     "name": "stdout",
     "output_type": "stream",
     "text": [
      "\n",
      "\r",
      "0it [00:00, ?it/s]"
     ]
    },
    {
     "name": "stdout",
     "output_type": "stream",
     "text": [
      "\r",
      "Upgrading database; v2 -> v3: : 0it [00:00, ?it/s]"
     ]
    },
    {
     "name": "stdout",
     "output_type": "stream",
     "text": [
      "\r",
      "Upgrading database; v2 -> v3: : 0it [00:00, ?it/s]"
     ]
    },
    {
     "name": "stdout",
     "output_type": "stream",
     "text": [
      "\n",
      "\r",
      "0it [00:00, ?it/s]"
     ]
    },
    {
     "name": "stdout",
     "output_type": "stream",
     "text": [
      "\r",
      "Upgrading database; v3 -> v4: : 0it [00:00, ?it/s]"
     ]
    },
    {
     "name": "stdout",
     "output_type": "stream",
     "text": [
      "\r",
      "Upgrading database; v3 -> v4: : 0it [00:00, ?it/s]"
     ]
    },
    {
     "name": "stdout",
     "output_type": "stream",
     "text": [
      "\n",
      "\r",
      "  0%|          | 0/1 [00:00<?, ?it/s]"
     ]
    },
    {
     "name": "stdout",
     "output_type": "stream",
     "text": [
      "\r",
      "Upgrading database; v4 -> v5:   0%|          | 0/1 [00:00<?, ?it/s]"
     ]
    },
    {
     "name": "stdout",
     "output_type": "stream",
     "text": [
      "\r",
      "Upgrading database; v4 -> v5: 100%|██████████| 1/1 [00:00<00:00, 1137.90it/s]"
     ]
    },
    {
     "name": "stdout",
     "output_type": "stream",
     "text": [
      "\n",
      "\r",
      "0it [00:00, ?it/s]"
     ]
    },
    {
     "name": "stdout",
     "output_type": "stream",
     "text": [
      "\r",
      "Upgrading database; v5 -> v6: : 0it [00:00, ?it/s]"
     ]
    },
    {
     "name": "stdout",
     "output_type": "stream",
     "text": [
      "\r",
      "Upgrading database; v5 -> v6: : 0it [00:00, ?it/s]"
     ]
    },
    {
     "name": "stdout",
     "output_type": "stream",
     "text": [
      "\n",
      "\r",
      "  0%|          | 0/1 [00:00<?, ?it/s]"
     ]
    },
    {
     "name": "stdout",
     "output_type": "stream",
     "text": [
      "\r",
      "Upgrading database; v6 -> v7:   0%|          | 0/1 [00:00<?, ?it/s]"
     ]
    },
    {
     "name": "stdout",
     "output_type": "stream",
     "text": [
      "\r",
      "Upgrading database; v6 -> v7: 100%|██████████| 1/1 [00:00<00:00, 286.95it/s]"
     ]
    },
    {
     "name": "stdout",
     "output_type": "stream",
     "text": [
      "\n",
      "\r",
      "  0%|          | 0/1 [00:00<?, ?it/s]"
     ]
    },
    {
     "name": "stdout",
     "output_type": "stream",
     "text": [
      "\r",
      "Upgrading database; v7 -> v8:   0%|          | 0/1 [00:00<?, ?it/s]"
     ]
    },
    {
     "name": "stdout",
     "output_type": "stream",
     "text": [
      "\r",
      "Upgrading database; v7 -> v8: 100%|██████████| 1/1 [00:00<00:00, 460.36it/s]"
     ]
    },
    {
     "name": "stdout",
     "output_type": "stream",
     "text": [
      "\n",
      "\r",
      "  0%|          | 0/1 [00:00<?, ?it/s]"
     ]
    },
    {
     "name": "stdout",
     "output_type": "stream",
     "text": [
      "\r",
      "Upgrading database; v8 -> v9:   0%|          | 0/1 [00:00<?, ?it/s]"
     ]
    },
    {
     "name": "stdout",
     "output_type": "stream",
     "text": [
      "\r",
      "Upgrading database; v8 -> v9: 100%|██████████| 1/1 [00:00<00:00, 524.22it/s]"
     ]
    },
    {
     "name": "stdout",
     "output_type": "stream",
     "text": [
      "\n"
     ]
    }
   ],
   "source": [
    "initialise_database()\n",
    "exp = load_or_create_experiment(experiment_name='tutorial_exp', sample_name=\"no sample\")"
   ]
  },
  {
   "cell_type": "markdown",
   "metadata": {},
   "source": [
    "Here, we define a simple function to benchmark the time it takes to insert n points with either numeric or array data type.\n",
    "We will compare both the time used to call ``add_result`` and the time used for the full measurement."
   ]
  },
  {
   "cell_type": "code",
   "execution_count": 4,
   "metadata": {
    "execution": {
     "iopub.execute_input": "2020-11-24T07:52:08.023469Z",
     "iopub.status.busy": "2020-11-24T07:52:08.022928Z",
     "iopub.status.idle": "2020-11-24T07:52:08.026222Z",
     "shell.execute_reply": "2020-11-24T07:52:08.025868Z"
    }
   },
   "outputs": [],
   "source": [
    "def insert_data(paramtype, npoints, nreps=1):\n",
    "\n",
    "    meas = Measurement(exp=exp)\n",
    "\n",
    "    x1 = ManualParameter('x1')\n",
    "    x2 = ManualParameter('x2')\n",
    "    x3 = ManualParameter('x3')\n",
    "    y1 = ManualParameter('y1')\n",
    "    y2 = ManualParameter('y2')\n",
    "\n",
    "    meas.register_parameter(x1, paramtype=paramtype)\n",
    "    meas.register_parameter(x2, paramtype=paramtype)\n",
    "    meas.register_parameter(x3, paramtype=paramtype)\n",
    "    meas.register_parameter(y1, setpoints=[x1, x2, x3],\n",
    "                            paramtype=paramtype)\n",
    "    meas.register_parameter(y2, setpoints=[x1, x2, x3],\n",
    "                            paramtype=paramtype)\n",
    "    start = time.perf_counter()\n",
    "    with meas.run() as datasaver:\n",
    "        start_adding = time.perf_counter()\n",
    "        for i in range(nreps):\n",
    "            datasaver.add_result((x1, np.random.rand(npoints)),\n",
    "                                 (x2, np.random.rand(npoints)),\n",
    "                                 (x3, np.random.rand(npoints)),\n",
    "                                 (y1, np.random.rand(npoints)),\n",
    "                                 (y2, np.random.rand(npoints)))\n",
    "        stop_adding = time.perf_counter()\n",
    "        run_id = datasaver.run_id\n",
    "    stop = time.perf_counter()\n",
    "    tot_time = stop - start\n",
    "    add_time = stop_adding - start_adding\n",
    "    return tot_time, add_time, run_id"
   ]
  },
  {
   "cell_type": "markdown",
   "metadata": {},
   "source": [
    "## Comparison between numeric/array data and binary blob"
   ]
  },
  {
   "cell_type": "markdown",
   "metadata": {},
   "source": [
    "### Case1: Short experiment time"
   ]
  },
  {
   "cell_type": "code",
   "execution_count": 5,
   "metadata": {
    "execution": {
     "iopub.execute_input": "2020-11-24T07:52:08.031660Z",
     "iopub.status.busy": "2020-11-24T07:52:08.030703Z",
     "iopub.status.idle": "2020-11-24T07:52:08.778959Z",
     "shell.execute_reply": "2020-11-24T07:52:08.778546Z"
    }
   },
   "outputs": [
    {
     "name": "stdout",
     "output_type": "stream",
     "text": [
      "Starting experimental run with id: 1. \n",
      "Starting experimental run with id: 2. \n",
      "Starting experimental run with id: 3. \n",
      "Starting experimental run with id: 4. \n",
      "Starting experimental run with id: 5. \n"
     ]
    },
    {
     "name": "stdout",
     "output_type": "stream",
     "text": [
      "Starting experimental run with id: 6. \n"
     ]
    },
    {
     "name": "stdout",
     "output_type": "stream",
     "text": [
      "Starting experimental run with id: 7. \n"
     ]
    },
    {
     "name": "stdout",
     "output_type": "stream",
     "text": [
      "Starting experimental run with id: 8. \n",
      "Starting experimental run with id: 9. \n"
     ]
    },
    {
     "name": "stdout",
     "output_type": "stream",
     "text": [
      "Starting experimental run with id: 10. \n"
     ]
    },
    {
     "name": "stdout",
     "output_type": "stream",
     "text": [
      "Starting experimental run with id: 11. \n"
     ]
    },
    {
     "name": "stdout",
     "output_type": "stream",
     "text": [
      "Starting experimental run with id: 12. \n",
      "Starting experimental run with id: 13. \n"
     ]
    },
    {
     "name": "stdout",
     "output_type": "stream",
     "text": [
      "Starting experimental run with id: 14. \n"
     ]
    }
   ],
   "source": [
    "sizes = [1,500,1000,2000,3000,4000,5000]\n",
    "t_numeric = []\n",
    "t_numeric_add = []\n",
    "t_array = []\n",
    "t_array_add = []\n",
    "for size in sizes:\n",
    "    tn, tna, run_id_n =  insert_data('numeric', size)\n",
    "    t_numeric.append(tn)\n",
    "    t_numeric_add.append(tna)\n",
    "\n",
    "    ta, taa, run_id_a =  insert_data('array', size)\n",
    "    t_array.append(ta)\n",
    "    t_array_add.append(taa)"
   ]
  },
  {
   "cell_type": "code",
   "execution_count": 6,
   "metadata": {
    "execution": {
     "iopub.execute_input": "2020-11-24T07:52:08.795341Z",
     "iopub.status.busy": "2020-11-24T07:52:08.794801Z",
     "iopub.status.idle": "2020-11-24T07:52:08.982240Z",
     "shell.execute_reply": "2020-11-24T07:52:08.982953Z"
    }
   },
   "outputs": [
    {
     "data": {
      "image/png": "[encoded data removed]",
      "text/plain": [
       "<Figure size 432x288 with 1 Axes>"
      ]
     },
     "metadata": {
      "needs_background": "light"
     },
     "output_type": "display_data"
    }
   ],
   "source": [
    "fig, ax = plt.subplots(1,1)\n",
    "ax.plot(sizes, t_numeric, 'o-', label='Inserting row-by-row')\n",
    "ax.plot(sizes, t_numeric_add, 'o-', label='Inserting row-by-row: add_result only')\n",
    "ax.plot(sizes, t_array, 'd-', label='Inserting as binary blob')\n",
    "ax.plot(sizes, t_array_add, 'd-', label='Inserting as binary blob: add_result only')\n",
    "ax.legend()\n",
    "ax.set_xlabel('Array length')\n",
    "ax.set_ylabel('Time (s)')\n",
    "fig.tight_layout()"
   ]
  },
  {
   "cell_type": "markdown",
   "metadata": {},
   "source": [
    "As shown in the latter figure, the time to setup and and close the experiment is approximately 0.4 sec. In case of small array sizes, the difference between inserting values of data as arrays and inserting them row-by-row is relatively unimportant. At larger array sizes, i.e. above 10000 points, the cost of writing data as individual datapoints starts to become important.\n"
   ]
  },
  {
   "cell_type": "markdown",
   "metadata": {},
   "source": [
    "### Case2: Long experiment time "
   ]
  },
  {
   "cell_type": "code",
   "execution_count": 7,
   "metadata": {
    "execution": {
     "iopub.execute_input": "2020-11-24T07:52:08.990087Z",
     "iopub.status.busy": "2020-11-24T07:52:08.989551Z",
     "iopub.status.idle": "2020-11-24T07:53:01.929674Z",
     "shell.execute_reply": "2020-11-24T07:53:01.928736Z"
    }
   },
   "outputs": [
    {
     "name": "stdout",
     "output_type": "stream",
     "text": [
      "Starting experimental run with id: 15. \n",
      "Starting experimental run with id: 16. \n",
      "Starting experimental run with id: 17. \n"
     ]
    },
    {
     "name": "stdout",
     "output_type": "stream",
     "text": [
      "Starting experimental run with id: 18. \n",
      "Starting experimental run with id: 19. \n"
     ]
    },
    {
     "name": "stdout",
     "output_type": "stream",
     "text": [
      "Starting experimental run with id: 20. \n"
     ]
    },
    {
     "name": "stdout",
     "output_type": "stream",
     "text": [
      "Starting experimental run with id: 21. \n"
     ]
    },
    {
     "name": "stdout",
     "output_type": "stream",
     "text": [
      "Starting experimental run with id: 22. \n"
     ]
    },
    {
     "name": "stdout",
     "output_type": "stream",
     "text": [
      "Starting experimental run with id: 23. \n"
     ]
    },
    {
     "name": "stdout",
     "output_type": "stream",
     "text": [
      "Starting experimental run with id: 24. \n"
     ]
    },
    {
     "name": "stdout",
     "output_type": "stream",
     "text": [
      "Starting experimental run with id: 25. \n"
     ]
    },
    {
     "name": "stdout",
     "output_type": "stream",
     "text": [
      "Starting experimental run with id: 26. \n"
     ]
    },
    {
     "name": "stdout",
     "output_type": "stream",
     "text": [
      "Starting experimental run with id: 27. \n"
     ]
    },
    {
     "name": "stdout",
     "output_type": "stream",
     "text": [
      "Starting experimental run with id: 28. \n"
     ]
    }
   ],
   "source": [
    "sizes = [1,500,1000,2000,3000,4000,5000]\n",
    "nreps = 100\n",
    "t_numeric = []\n",
    "t_numeric_add = []\n",
    "t_numeric_run_ids = []\n",
    "t_array = []\n",
    "t_array_add = []\n",
    "t_array_run_ids = []\n",
    "for size in sizes:\n",
    "    tn, tna, run_id_n =  insert_data('numeric', size, nreps=nreps)\n",
    "    t_numeric.append(tn)\n",
    "    t_numeric_add.append(tna)\n",
    "    t_numeric_run_ids.append(run_id_n)\n",
    "\n",
    "    ta, taa, run_id_a =  insert_data('array', size, nreps=nreps)\n",
    "    t_array.append(ta)\n",
    "    t_array_add.append(taa)\n",
    "    t_array_run_ids.append(run_id_a)"
   ]
  },
  {
   "cell_type": "code",
   "execution_count": 8,
   "metadata": {
    "execution": {
     "iopub.execute_input": "2020-11-24T07:53:01.963906Z",
     "iopub.status.busy": "2020-11-24T07:53:01.944884Z",
     "iopub.status.idle": "2020-11-24T07:53:02.115412Z",
     "shell.execute_reply": "2020-11-24T07:53:02.115966Z"
    },
    "scrolled": true
   },
   "outputs": [
    {
     "data": {
      "image/png": "[encoded data removed]",
      "text/plain": [
       "<Figure size 432x288 with 1 Axes>"
      ]
     },
     "metadata": {
      "needs_background": "light"
     },
     "output_type": "display_data"
    }
   ],
   "source": [
    "fig, ax = plt.subplots(1,1)\n",
    "ax.plot(sizes, t_numeric, 'o-', label='Inserting row-by-row')\n",
    "ax.plot(sizes, t_numeric_add, 'o-', label='Inserting row-by-row: add_result only')\n",
    "ax.plot(sizes, t_array, 'd-', label='Inserting as binary blob')\n",
    "ax.plot(sizes, t_array_add, 'd-', label='Inserting as binary blob: add_result only')\n",
    "ax.legend()\n",
    "ax.set_xlabel('Array length')\n",
    "ax.set_ylabel('Time (s)')\n",
    "fig.tight_layout()"
   ]
  },
  {
   "cell_type": "markdown",
   "metadata": {},
   "source": [
    "However, as we increase the length of the experiment, as seen here by repeating the insertion 100 times, we see a big difference between inserting values of the data row-by-row and inserting it as a binary blob."
   ]
  },
  {
   "cell_type": "markdown",
   "metadata": {},
   "source": [
    "## Loading the data "
   ]
  },
  {
   "cell_type": "code",
   "execution_count": 9,
   "metadata": {
    "execution": {
     "iopub.execute_input": "2020-11-24T07:53:02.118506Z",
     "iopub.status.busy": "2020-11-24T07:53:02.118035Z",
     "iopub.status.idle": "2020-11-24T07:53:02.121245Z",
     "shell.execute_reply": "2020-11-24T07:53:02.121768Z"
    }
   },
   "outputs": [],
   "source": [
    "from qcodes.dataset.data_set import load_by_id\n",
    "from qcodes.dataset.data_export import get_data_by_id"
   ]
  },
  {
   "cell_type": "markdown",
   "metadata": {},
   "source": [
    "As usual you can load the data by using the ``load_by_id`` function but you will notice that the different storage methods\n",
    "are reflected in shape of the data as it is retrieved. "
   ]
  },
  {
   "cell_type": "code",
   "execution_count": 10,
   "metadata": {
    "execution": {
     "iopub.execute_input": "2020-11-24T07:53:02.124067Z",
     "iopub.status.busy": "2020-11-24T07:53:02.123639Z",
     "iopub.status.idle": "2020-11-24T07:53:02.126178Z",
     "shell.execute_reply": "2020-11-24T07:53:02.126707Z"
    }
   },
   "outputs": [],
   "source": [
    "run_id_n = t_numeric_run_ids[0]\n",
    "run_id_a = t_array_run_ids[0]"
   ]
  },
  {
   "cell_type": "code",
   "execution_count": 11,
   "metadata": {
    "execution": {
     "iopub.execute_input": "2020-11-24T07:53:02.129597Z",
     "iopub.status.busy": "2020-11-24T07:53:02.129128Z",
     "iopub.status.idle": "2020-11-24T07:53:02.137868Z",
     "shell.execute_reply": "2020-11-24T07:53:02.137318Z"
    },
    "scrolled": true
   },
   "outputs": [
    {
     "data": {
      "text/plain": [
       "{'x1': {'x1': array([0.60505168, 0.60505168, 0.86667445, 0.86667445, 0.50834106,\n",
       "         0.50834106, 0.66304643, 0.66304643, 0.56318978, 0.56318978,\n",
       "         0.2653203 , 0.2653203 , 0.443228  , 0.443228  , 0.26377725,\n",
       "         0.26377725, 0.29367195, 0.29367195, 0.05967782, 0.05967782,\n",
       "         0.52820672, 0.52820672, 0.43062925, 0.43062925, 0.83214268,\n",
       "         0.83214268, 0.01973741, 0.01973741, 0.08605798, 0.08605798,\n",
       "         0.68525101, 0.68525101, 0.21857837, 0.21857837, 0.3358111 ,\n",
       "         0.3358111 , 0.84393844, 0.84393844, 0.45117161, 0.45117161,\n",
       "         0.8904215 , 0.8904215 , 0.42838389, 0.42838389, 0.66704441,\n",
       "         0.66704441, 0.97733312, 0.97733312, 0.39437268, 0.39437268,\n",
       "         0.33575355, 0.33575355, 0.90300783, 0.90300783, 0.06973961,\n",
       "         0.06973961, 0.61466133, 0.61466133, 0.14556485, 0.14556485,\n",
       "         0.24480017, 0.24480017, 0.85212727, 0.85212727, 0.58713917,\n",
       "         0.58713917, 0.12494643, 0.12494643, 0.88548393, 0.88548393,\n",
       "         0.3693285 , 0.3693285 , 0.949934  , 0.949934  , 0.96150789,\n",
       "         0.96150789, 0.74984972, 0.74984972, 0.73735969, 0.73735969,\n",
       "         0.57487221, 0.57487221, 0.44768621, 0.44768621, 0.29818216,\n",
       "         0.29818216, 0.67148297, 0.67148297, 0.0334148 , 0.0334148 ,\n",
       "         0.08193526, 0.08193526, 0.73863203, 0.73863203, 0.1506427 ,\n",
       "         0.1506427 , 0.18082975, 0.18082975, 0.79196471, 0.79196471,\n",
       "         0.57171638, 0.57171638, 0.52927658, 0.52927658, 0.14304912,\n",
       "         0.14304912, 0.03911553, 0.03911553, 0.10331689, 0.10331689,\n",
       "         0.28837381, 0.28837381, 0.49321758, 0.49321758, 0.16011181,\n",
       "         0.16011181, 0.22886317, 0.22886317, 0.34158301, 0.34158301,\n",
       "         0.52322466, 0.52322466, 0.63435355, 0.63435355, 0.42172354,\n",
       "         0.42172354, 0.83903069, 0.83903069, 0.13310704, 0.13310704,\n",
       "         0.00402373, 0.00402373, 0.53931357, 0.53931357, 0.74981248,\n",
       "         0.74981248, 0.9753148 , 0.9753148 , 0.58668117, 0.58668117,\n",
       "         0.1069632 , 0.1069632 , 0.67918562, 0.67918562, 0.7808275 ,\n",
       "         0.7808275 , 0.51021133, 0.51021133, 0.94348589, 0.94348589,\n",
       "         0.96219856, 0.96219856, 0.06123824, 0.06123824, 0.64443746,\n",
       "         0.64443746, 0.76340196, 0.76340196, 0.43278064, 0.43278064,\n",
       "         0.3787003 , 0.3787003 , 0.95027638, 0.95027638, 0.30580638,\n",
       "         0.30580638, 0.46820278, 0.46820278, 0.60173779, 0.60173779,\n",
       "         0.1883542 , 0.1883542 , 0.07011131, 0.07011131, 0.22587236,\n",
       "         0.22587236, 0.2216079 , 0.2216079 , 0.83853066, 0.83853066,\n",
       "         0.57546373, 0.57546373, 0.38699494, 0.38699494, 0.72185492,\n",
       "         0.72185492, 0.09268966, 0.09268966, 0.13378818, 0.13378818,\n",
       "         0.08363634, 0.08363634, 0.8104208 , 0.8104208 , 0.99728907,\n",
       "         0.99728907, 0.99260312, 0.99260312, 0.03885354, 0.03885354])}}"
      ]
     },
     "execution_count": 1,
     "metadata": {},
     "output_type": "execute_result"
    }
   ],
   "source": [
    "ds = load_by_id(run_id_n)\n",
    "ds.get_parameter_data('x1')"
   ]
  },
  {
   "cell_type": "markdown",
   "metadata": {},
   "source": [
    "And a dataset stored as binary arrays"
   ]
  },
  {
   "cell_type": "code",
   "execution_count": 12,
   "metadata": {
    "execution": {
     "iopub.execute_input": "2020-11-24T07:53:02.140806Z",
     "iopub.status.busy": "2020-11-24T07:53:02.140323Z",
     "iopub.status.idle": "2020-11-24T07:53:02.190073Z",
     "shell.execute_reply": "2020-11-24T07:53:02.191006Z"
    },
    "scrolled": true
   },
   "outputs": [
    {
     "data": {
      "text/plain": [
       "{'x1': {'x1': array([[5.18371177e-01],\n",
       "         [5.18371177e-01],\n",
       "         [2.19290383e-01],\n",
       "         [2.19290383e-01],\n",
       "         [4.57761232e-02],\n",
       "         [4.57761232e-02],\n",
       "         [8.60130699e-01],\n",
       "         [8.60130699e-01],\n",
       "         [9.36672416e-01],\n",
       "         [9.36672416e-01],\n",
       "         [5.05697829e-01],\n",
       "         [5.05697829e-01],\n",
       "         [3.82945722e-01],\n",
       "         [3.82945722e-01],\n",
       "         [3.01088473e-01],\n",
       "         [3.01088473e-01],\n",
       "         [7.46982591e-01],\n",
       "         [7.46982591e-01],\n",
       "         [6.06327802e-01],\n",
       "         [6.06327802e-01],\n",
       "         [4.88113134e-02],\n",
       "         [4.88113134e-02],\n",
       "         [7.25686466e-01],\n",
       "         [7.25686466e-01],\n",
       "         [8.73509145e-01],\n",
       "         [8.73509145e-01],\n",
       "         [6.57886211e-01],\n",
       "         [6.57886211e-01],\n",
       "         [7.41178512e-01],\n",
       "         [7.41178512e-01],\n",
       "         [2.04609427e-01],\n",
       "         [2.04609427e-01],\n",
       "         [1.55636265e-01],\n",
       "         [1.55636265e-01],\n",
       "         [5.78618321e-02],\n",
       "         [5.78618321e-02],\n",
       "         [8.53310191e-01],\n",
       "         [8.53310191e-01],\n",
       "         [8.02920520e-01],\n",
       "         [8.02920520e-01],\n",
       "         [9.85061574e-01],\n",
       "         [9.85061574e-01],\n",
       "         [6.97986368e-02],\n",
       "         [6.97986368e-02],\n",
       "         [8.21317065e-02],\n",
       "         [8.21317065e-02],\n",
       "         [5.18410238e-01],\n",
       "         [5.18410238e-01],\n",
       "         [4.16015230e-01],\n",
       "         [4.16015230e-01],\n",
       "         [9.97476779e-01],\n",
       "         [9.97476779e-01],\n",
       "         [2.51527589e-01],\n",
       "         [2.51527589e-01],\n",
       "         [4.85740862e-01],\n",
       "         [4.85740862e-01],\n",
       "         [3.02429435e-01],\n",
       "         [3.02429435e-01],\n",
       "         [4.03816225e-01],\n",
       "         [4.03816225e-01],\n",
       "         [1.97280343e-01],\n",
       "         [1.97280343e-01],\n",
       "         [7.63482622e-01],\n",
       "         [7.63482622e-01],\n",
       "         [3.11087351e-01],\n",
       "         [3.11087351e-01],\n",
       "         [3.89988232e-02],\n",
       "         [3.89988232e-02],\n",
       "         [8.17037552e-01],\n",
       "         [8.17037552e-01],\n",
       "         [1.34339034e-01],\n",
       "         [1.34339034e-01],\n",
       "         [6.91029940e-01],\n",
       "         [6.91029940e-01],\n",
       "         [7.04149537e-01],\n",
       "         [7.04149537e-01],\n",
       "         [7.22890090e-01],\n",
       "         [7.22890090e-01],\n",
       "         [9.03840797e-01],\n",
       "         [9.03840797e-01],\n",
       "         [1.12599975e-01],\n",
       "         [1.12599975e-01],\n",
       "         [6.26940057e-01],\n",
       "         [6.26940057e-01],\n",
       "         [9.91572387e-01],\n",
       "         [9.91572387e-01],\n",
       "         [8.13043671e-01],\n",
       "         [8.13043671e-01],\n",
       "         [2.35759026e-02],\n",
       "         [2.35759026e-02],\n",
       "         [7.02856010e-01],\n",
       "         [7.02856010e-01],\n",
       "         [3.73934907e-01],\n",
       "         [3.73934907e-01],\n",
       "         [2.20492987e-01],\n",
       "         [2.20492987e-01],\n",
       "         [5.35742874e-01],\n",
       "         [5.35742874e-01],\n",
       "         [2.06036235e-01],\n",
       "         [2.06036235e-01],\n",
       "         [5.08419771e-02],\n",
       "         [5.08419771e-02],\n",
       "         [6.51429857e-01],\n",
       "         [6.51429857e-01],\n",
       "         [2.98779182e-01],\n",
       "         [2.98779182e-01],\n",
       "         [8.01551716e-02],\n",
       "         [8.01551716e-02],\n",
       "         [1.75570800e-01],\n",
       "         [1.75570800e-01],\n",
       "         [5.62581128e-01],\n",
       "         [5.62581128e-01],\n",
       "         [9.67838426e-01],\n",
       "         [9.67838426e-01],\n",
       "         [9.25315413e-01],\n",
       "         [9.25315413e-01],\n",
       "         [6.52707668e-01],\n",
       "         [6.52707668e-01],\n",
       "         [4.33364933e-01],\n",
       "         [4.33364933e-01],\n",
       "         [7.59326527e-01],\n",
       "         [7.59326527e-01],\n",
       "         [2.89948837e-01],\n",
       "         [2.89948837e-01],\n",
       "         [2.91560288e-01],\n",
       "         [2.91560288e-01],\n",
       "         [9.70333318e-01],\n",
       "         [9.70333318e-01],\n",
       "         [1.48252589e-01],\n",
       "         [1.48252589e-01],\n",
       "         [2.82568430e-01],\n",
       "         [2.82568430e-01],\n",
       "         [4.68822310e-01],\n",
       "         [4.68822310e-01],\n",
       "         [6.24882097e-01],\n",
       "         [6.24882097e-01],\n",
       "         [8.81249177e-01],\n",
       "         [8.81249177e-01],\n",
       "         [2.19892722e-01],\n",
       "         [2.19892722e-01],\n",
       "         [9.34578293e-01],\n",
       "         [9.34578293e-01],\n",
       "         [1.09098572e-01],\n",
       "         [1.09098572e-01],\n",
       "         [1.93699276e-01],\n",
       "         [1.93699276e-01],\n",
       "         [4.20426468e-01],\n",
       "         [4.20426468e-01],\n",
       "         [5.11707190e-01],\n",
       "         [5.11707190e-01],\n",
       "         [1.42635630e-04],\n",
       "         [1.42635630e-04],\n",
       "         [2.52097570e-01],\n",
       "         [2.52097570e-01],\n",
       "         [1.75596824e-01],\n",
       "         [1.75596824e-01],\n",
       "         [5.61970329e-01],\n",
       "         [5.61970329e-01],\n",
       "         [5.03873682e-01],\n",
       "         [5.03873682e-01],\n",
       "         [2.59084837e-01],\n",
       "         [2.59084837e-01],\n",
       "         [9.77814748e-01],\n",
       "         [9.77814748e-01],\n",
       "         [3.77590361e-01],\n",
       "         [3.77590361e-01],\n",
       "         [1.05155596e-01],\n",
       "         [1.05155596e-01],\n",
       "         [4.87273264e-01],\n",
       "         [4.87273264e-01],\n",
       "         [2.37175534e-01],\n",
       "         [2.37175534e-01],\n",
       "         [2.66127540e-01],\n",
       "         [2.66127540e-01],\n",
       "         [5.80822036e-01],\n",
       "         [5.80822036e-01],\n",
       "         [5.11010905e-01],\n",
       "         [5.11010905e-01],\n",
       "         [3.30916948e-01],\n",
       "         [3.30916948e-01],\n",
       "         [2.11567601e-01],\n",
       "         [2.11567601e-01],\n",
       "         [8.26678100e-01],\n",
       "         [8.26678100e-01],\n",
       "         [3.79354649e-01],\n",
       "         [3.79354649e-01],\n",
       "         [1.60275202e-01],\n",
       "         [1.60275202e-01],\n",
       "         [9.49545118e-01],\n",
       "         [9.49545118e-01],\n",
       "         [7.41803997e-01],\n",
       "         [7.41803997e-01],\n",
       "         [2.29925681e-01],\n",
       "         [2.29925681e-01],\n",
       "         [9.31277511e-01],\n",
       "         [9.31277511e-01],\n",
       "         [2.53581881e-01],\n",
       "         [2.53581881e-01],\n",
       "         [7.08373139e-02],\n",
       "         [7.08373139e-02]])}}"
      ]
     },
     "execution_count": 1,
     "metadata": {},
     "output_type": "execute_result"
    }
   ],
   "source": [
    "ds = load_by_id(run_id_a)\n",
    "ds.get_parameter_data('x1')"
   ]
  },
  {
   "cell_type": "code",
   "execution_count": null,
   "metadata": {},
   "outputs": [],
   "source": []
  }
 ],
 "metadata": {
  "kernelspec": {
   "display_name": "Python 3",
   "language": "python",
   "name": "python3"
  },
  "language_info": {
   "codemirror_mode": {
    "name": "ipython",
    "version": 3
   },
   "file_extension": ".py",
   "mimetype": "text/x-python",
   "name": "python",
   "nbconvert_exporter": "python",
   "pygments_lexer": "ipython3",
   "version": "3.7.9"
  },
  "nbsphinx": {
   "timeout": 600
  },
  "toc": {
   "base_numbering": 1,
   "nav_menu": {},
   "number_sections": true,
   "sideBar": true,
   "skip_h1_title": false,
   "title_cell": "Table of Contents",
   "title_sidebar": "Contents",
   "toc_cell": false,
   "toc_position": {},
   "toc_section_display": true,
   "toc_window_display": false
  },
  "varInspector": {
   "cols": {
    "lenName": 16,
    "lenType": 16,
    "lenVar": 40
   },
   "kernels_config": {
    "python": {
     "delete_cmd_postfix": "",
     "delete_cmd_prefix": "del ",
     "library": "var_list.py",
     "varRefreshCmd": "print(var_dic_list())"
    },
    "r": {
     "delete_cmd_postfix": ") ",
     "delete_cmd_prefix": "rm(",
     "library": "var_list.r",
     "varRefreshCmd": "cat(var_dic_list()) "
    }
   },
   "types_to_exclude": [
    "module",
    "function",
    "builtin_function_or_method",
    "instance",
    "_Feature"
   ],
   "window_display": false
  }
 },
 "nbformat": 4,
 "nbformat_minor": 2
}
