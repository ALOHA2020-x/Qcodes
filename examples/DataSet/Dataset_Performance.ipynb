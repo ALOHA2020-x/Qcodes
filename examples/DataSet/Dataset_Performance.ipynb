{
 "cells": [
  {
   "cell_type": "markdown",
   "metadata": {},
   "source": [
    "# DataSet Performance\n",
    "\n",
    "This notebook shows the trade-off between inserting data into a database row-by-row and as binary blobs. Inserting the data row-by-row means that we have direct access to all the data and may perform queries directly on the values of the data. On the other hand, as we shall see, this is much slower than inserting the data directly as binary blobs."
   ]
  },
  {
   "cell_type": "markdown",
   "metadata": {},
   "source": [
    "First, we choose a new location for the database to ensure that we don't add a bunch of benchmarking data to the default one."
   ]
  },
  {
   "cell_type": "code",
   "execution_count": 1,
   "metadata": {
    "execution": {
     "iopub.execute_input": "2020-11-12T18:38:50.037337Z",
     "iopub.status.busy": "2020-11-12T18:38:50.036739Z",
     "iopub.status.idle": "2020-11-12T18:38:51.286397Z",
     "shell.execute_reply": "2020-11-12T18:38:51.285474Z"
    }
   },
   "outputs": [
    {
     "name": "stdout",
     "output_type": "stream",
     "text": [
      "Logging hadn't been started.\n",
      "Activating auto-logging. Current session state plus future input saved.\n",
      "Filename       : /home/vsts/.qcodes/logs/command_history.log\n",
      "Mode           : append\n",
      "Output logging : True\n",
      "Raw input log  : False\n",
      "Timestamping   : True\n",
      "State          : active\n"
     ]
    },
    {
     "name": "stdout",
     "output_type": "stream",
     "text": [
      "Qcodes Logfile : /home/vsts/.qcodes/logs/201112-14625-qcodes.log\n"
     ]
    }
   ],
   "source": [
    "import os\n",
    "cwd = os.getcwd()\n",
    "import qcodes as qc\n",
    "qc.config[\"core\"][\"db_location\"] = os.path.join(cwd, 'testing.db')\n"
   ]
  },
  {
   "cell_type": "code",
   "execution_count": 2,
   "metadata": {
    "execution": {
     "iopub.execute_input": "2020-11-12T18:38:51.294079Z",
     "iopub.status.busy": "2020-11-12T18:38:51.293437Z",
     "iopub.status.idle": "2020-11-12T18:38:51.502815Z",
     "shell.execute_reply": "2020-11-12T18:38:51.503310Z"
    }
   },
   "outputs": [],
   "source": [
    "%matplotlib inline\n",
    "import time\n",
    "import matplotlib.pyplot as plt\n",
    "import numpy as np\n",
    "\n",
    "import qcodes as qc\n",
    "from qcodes.instrument.parameter import ManualParameter\n",
    "from qcodes.dataset.experiment_container import (Experiment,\n",
    "                                                 load_last_experiment,\n",
    "                                                 new_experiment)\n",
    "from qcodes.dataset.sqlite.database import initialise_database\n",
    "from qcodes import load_or_create_experiment\n",
    "from qcodes.dataset.measurements import Measurement"
   ]
  },
  {
   "cell_type": "code",
   "execution_count": 3,
   "metadata": {
    "execution": {
     "iopub.execute_input": "2020-11-12T18:38:51.507970Z",
     "iopub.status.busy": "2020-11-12T18:38:51.506977Z",
     "iopub.status.idle": "2020-11-12T18:38:51.649391Z",
     "shell.execute_reply": "2020-11-12T18:38:51.648828Z"
    }
   },
   "outputs": [
    {
     "name": "stdout",
     "output_type": "stream",
     "text": [
      "\r",
      "0it [00:00, ?it/s]"
     ]
    },
    {
     "name": "stdout",
     "output_type": "stream",
     "text": [
      "\r",
      "Upgrading database; v0 -> v1: : 0it [00:00, ?it/s]"
     ]
    },
    {
     "name": "stdout",
     "output_type": "stream",
     "text": [
      "\r",
      "Upgrading database; v0 -> v1: : 0it [00:00, ?it/s]"
     ]
    },
    {
     "name": "stdout",
     "output_type": "stream",
     "text": [
      "\n",
      "\r",
      "  0%|          | 0/1 [00:00<?, ?it/s]"
     ]
    },
    {
     "name": "stdout",
     "output_type": "stream",
     "text": [
      "\r",
      "Upgrading database; v1 -> v2:   0%|          | 0/1 [00:00<?, ?it/s]"
     ]
    },
    {
     "name": "stdout",
     "output_type": "stream",
     "text": [
      "\r",
      "Upgrading database; v1 -> v2: 100%|██████████| 1/1 [00:00<00:00, 462.79it/s]"
     ]
    },
    {
     "name": "stdout",
     "output_type": "stream",
     "text": [
      "\n",
      "\r",
      "0it [00:00, ?it/s]"
     ]
    },
    {
     "name": "stdout",
     "output_type": "stream",
     "text": [
      "\r",
      "Upgrading database; v2 -> v3: : 0it [00:00, ?it/s]"
     ]
    },
    {
     "name": "stdout",
     "output_type": "stream",
     "text": [
      "\r",
      "Upgrading database; v2 -> v3: : 0it [00:00, ?it/s]"
     ]
    },
    {
     "name": "stdout",
     "output_type": "stream",
     "text": [
      "\n",
      "\r",
      "0it [00:00, ?it/s]"
     ]
    },
    {
     "name": "stdout",
     "output_type": "stream",
     "text": [
      "\r",
      "Upgrading database; v3 -> v4: : 0it [00:00, ?it/s]"
     ]
    },
    {
     "name": "stdout",
     "output_type": "stream",
     "text": [
      "\r",
      "Upgrading database; v3 -> v4: : 0it [00:00, ?it/s]"
     ]
    },
    {
     "name": "stdout",
     "output_type": "stream",
     "text": [
      "\n",
      "\r",
      "  0%|          | 0/1 [00:00<?, ?it/s]"
     ]
    },
    {
     "name": "stdout",
     "output_type": "stream",
     "text": [
      "\r",
      "Upgrading database; v4 -> v5:   0%|          | 0/1 [00:00<?, ?it/s]"
     ]
    },
    {
     "name": "stdout",
     "output_type": "stream",
     "text": [
      "\r",
      "Upgrading database; v4 -> v5: 100%|██████████| 1/1 [00:00<00:00, 329.56it/s]"
     ]
    },
    {
     "name": "stdout",
     "output_type": "stream",
     "text": [
      "\n",
      "\r",
      "0it [00:00, ?it/s]"
     ]
    },
    {
     "name": "stdout",
     "output_type": "stream",
     "text": [
      "\r",
      "Upgrading database; v5 -> v6: : 0it [00:00, ?it/s]"
     ]
    },
    {
     "name": "stdout",
     "output_type": "stream",
     "text": [
      "\r",
      "Upgrading database; v5 -> v6: : 0it [00:00, ?it/s]"
     ]
    },
    {
     "name": "stdout",
     "output_type": "stream",
     "text": [
      "\n",
      "\r",
      "  0%|          | 0/1 [00:00<?, ?it/s]"
     ]
    },
    {
     "name": "stdout",
     "output_type": "stream",
     "text": [
      "\r",
      "Upgrading database; v6 -> v7:   0%|          | 0/1 [00:00<?, ?it/s]"
     ]
    },
    {
     "name": "stdout",
     "output_type": "stream",
     "text": [
      "\r",
      "Upgrading database; v6 -> v7: 100%|██████████| 1/1 [00:00<00:00, 214.65it/s]"
     ]
    },
    {
     "name": "stdout",
     "output_type": "stream",
     "text": [
      "\n",
      "\r",
      "  0%|          | 0/1 [00:00<?, ?it/s]"
     ]
    },
    {
     "name": "stdout",
     "output_type": "stream",
     "text": [
      "\r",
      "Upgrading database; v7 -> v8:   0%|          | 0/1 [00:00<?, ?it/s]"
     ]
    },
    {
     "name": "stdout",
     "output_type": "stream",
     "text": [
      "\r",
      "Upgrading database; v7 -> v8: 100%|██████████| 1/1 [00:00<00:00, 484.44it/s]"
     ]
    },
    {
     "name": "stdout",
     "output_type": "stream",
     "text": [
      "\n",
      "\r",
      "  0%|          | 0/1 [00:00<?, ?it/s]"
     ]
    },
    {
     "name": "stdout",
     "output_type": "stream",
     "text": [
      "\r",
      "Upgrading database; v8 -> v9:   0%|          | 0/1 [00:00<?, ?it/s]"
     ]
    },
    {
     "name": "stdout",
     "output_type": "stream",
     "text": [
      "\r",
      "Upgrading database; v8 -> v9: 100%|██████████| 1/1 [00:00<00:00, 1014.10it/s]"
     ]
    },
    {
     "name": "stdout",
     "output_type": "stream",
     "text": [
      "\n"
     ]
    }
   ],
   "source": [
    "initialise_database()\n",
    "exp = load_or_create_experiment(experiment_name='tutorial_exp', sample_name=\"no sample\")"
   ]
  },
  {
   "cell_type": "markdown",
   "metadata": {},
   "source": [
    "Here, we define a simple function to benchmark the time it takes to insert n points with either numeric or array data type.\n",
    "We will compare both the time used to call ``add_result`` and the time used for the full measurement."
   ]
  },
  {
   "cell_type": "code",
   "execution_count": 4,
   "metadata": {
    "execution": {
     "iopub.execute_input": "2020-11-12T18:38:51.659284Z",
     "iopub.status.busy": "2020-11-12T18:38:51.657791Z",
     "iopub.status.idle": "2020-11-12T18:38:51.660106Z",
     "shell.execute_reply": "2020-11-12T18:38:51.660636Z"
    }
   },
   "outputs": [],
   "source": [
    "def insert_data(paramtype, npoints, nreps=1):\n",
    "\n",
    "    meas = Measurement(exp=exp)\n",
    "\n",
    "    x1 = ManualParameter('x1')\n",
    "    x2 = ManualParameter('x2')\n",
    "    x3 = ManualParameter('x3')\n",
    "    y1 = ManualParameter('y1')\n",
    "    y2 = ManualParameter('y2')\n",
    "\n",
    "    meas.register_parameter(x1, paramtype=paramtype)\n",
    "    meas.register_parameter(x2, paramtype=paramtype)\n",
    "    meas.register_parameter(x3, paramtype=paramtype)\n",
    "    meas.register_parameter(y1, setpoints=[x1, x2, x3],\n",
    "                            paramtype=paramtype)\n",
    "    meas.register_parameter(y2, setpoints=[x1, x2, x3],\n",
    "                            paramtype=paramtype)\n",
    "    start = time.perf_counter()\n",
    "    with meas.run() as datasaver:\n",
    "        start_adding = time.perf_counter()\n",
    "        for i in range(nreps):\n",
    "            datasaver.add_result((x1, np.random.rand(npoints)),\n",
    "                                 (x2, np.random.rand(npoints)),\n",
    "                                 (x3, np.random.rand(npoints)),\n",
    "                                 (y1, np.random.rand(npoints)),\n",
    "                                 (y2, np.random.rand(npoints)))\n",
    "        stop_adding = time.perf_counter()\n",
    "        run_id = datasaver.run_id\n",
    "    stop = time.perf_counter()\n",
    "    tot_time = stop - start\n",
    "    add_time = stop_adding - start_adding\n",
    "    return tot_time, add_time, run_id"
   ]
  },
  {
   "cell_type": "markdown",
   "metadata": {},
   "source": [
    "## Comparison between numeric/array data and binary blob"
   ]
  },
  {
   "cell_type": "markdown",
   "metadata": {},
   "source": [
    "### Case1: Short experiment time"
   ]
  },
  {
   "cell_type": "code",
   "execution_count": 5,
   "metadata": {
    "execution": {
     "iopub.execute_input": "2020-11-12T18:38:51.670047Z",
     "iopub.status.busy": "2020-11-12T18:38:51.669224Z",
     "iopub.status.idle": "2020-11-12T18:38:52.678995Z",
     "shell.execute_reply": "2020-11-12T18:38:52.678406Z"
    }
   },
   "outputs": [
    {
     "name": "stdout",
     "output_type": "stream",
     "text": [
      "Starting experimental run with id: 1. \n",
      "Starting experimental run with id: 2. \n",
      "Starting experimental run with id: 3. \n"
     ]
    },
    {
     "name": "stdout",
     "output_type": "stream",
     "text": [
      "Starting experimental run with id: 4. \n"
     ]
    },
    {
     "name": "stdout",
     "output_type": "stream",
     "text": [
      "Starting experimental run with id: 5. \n"
     ]
    },
    {
     "name": "stdout",
     "output_type": "stream",
     "text": [
      "Starting experimental run with id: 6. \n"
     ]
    },
    {
     "name": "stdout",
     "output_type": "stream",
     "text": [
      "Starting experimental run with id: 7. \n"
     ]
    },
    {
     "name": "stdout",
     "output_type": "stream",
     "text": [
      "Starting experimental run with id: 8. \n"
     ]
    },
    {
     "name": "stdout",
     "output_type": "stream",
     "text": [
      "Starting experimental run with id: 9. \n"
     ]
    },
    {
     "name": "stdout",
     "output_type": "stream",
     "text": [
      "Starting experimental run with id: 10. \n",
      "Starting experimental run with id: 11. \n"
     ]
    },
    {
     "name": "stdout",
     "output_type": "stream",
     "text": [
      "Starting experimental run with id: 12. "
     ]
    },
    {
     "name": "stdout",
     "output_type": "stream",
     "text": [
      "\n",
      "Starting experimental run with id: 13. \n"
     ]
    },
    {
     "name": "stdout",
     "output_type": "stream",
     "text": [
      "Starting experimental run with id: 14. \n"
     ]
    }
   ],
   "source": [
    "sizes = [1,500,1000,2000,3000,4000,5000]\n",
    "t_numeric = []\n",
    "t_numeric_add = []\n",
    "t_array = []\n",
    "t_array_add = []\n",
    "for size in sizes:\n",
    "    tn, tna, run_id_n =  insert_data('numeric', size)\n",
    "    t_numeric.append(tn)\n",
    "    t_numeric_add.append(tna)\n",
    "\n",
    "    ta, taa, run_id_a =  insert_data('array', size)\n",
    "    t_array.append(ta)\n",
    "    t_array_add.append(taa)"
   ]
  },
  {
   "cell_type": "code",
   "execution_count": 6,
   "metadata": {
    "execution": {
     "iopub.execute_input": "2020-11-12T18:38:52.699089Z",
     "iopub.status.busy": "2020-11-12T18:38:52.698405Z",
     "iopub.status.idle": "2020-11-12T18:38:52.942011Z",
     "shell.execute_reply": "2020-11-12T18:38:52.941320Z"
    }
   },
   "outputs": [
    {
     "data": {
      "image/png": "[encoded data removed]",
      "text/plain": [
       "<Figure size 432x288 with 1 Axes>"
      ]
     },
     "metadata": {
      "needs_background": "light"
     },
     "output_type": "display_data"
    }
   ],
   "source": [
    "fig, ax = plt.subplots(1,1)\n",
    "ax.plot(sizes, t_numeric, 'o-', label='Inserting row-by-row')\n",
    "ax.plot(sizes, t_numeric_add, 'o-', label='Inserting row-by-row: add_result only')\n",
    "ax.plot(sizes, t_array, 'd-', label='Inserting as binary blob')\n",
    "ax.plot(sizes, t_array_add, 'd-', label='Inserting as binary blob: add_result only')\n",
    "ax.legend()\n",
    "ax.set_xlabel('Array length')\n",
    "ax.set_ylabel('Time (s)')\n",
    "fig.tight_layout()"
   ]
  },
  {
   "cell_type": "markdown",
   "metadata": {},
   "source": [
    "As shown in the latter figure, the time to setup and and close the experiment is approximately 0.4 sec. In case of small array sizes, the difference between inserting values of data as arrays and inserting them row-by-row is relatively unimportant. At larger array sizes, i.e. above 10000 points, the cost of writing data as individual datapoints starts to become important.\n"
   ]
  },
  {
   "cell_type": "markdown",
   "metadata": {},
   "source": [
    "### Case2: Long experiment time "
   ]
  },
  {
   "cell_type": "code",
   "execution_count": 7,
   "metadata": {
    "execution": {
     "iopub.execute_input": "2020-11-12T18:38:52.950957Z",
     "iopub.status.busy": "2020-11-12T18:38:52.950158Z",
     "iopub.status.idle": "2020-11-12T18:40:00.312128Z",
     "shell.execute_reply": "2020-11-12T18:40:00.312618Z"
    }
   },
   "outputs": [
    {
     "name": "stdout",
     "output_type": "stream",
     "text": [
      "Starting experimental run with id: 15. \n",
      "Starting experimental run with id: 16. \n"
     ]
    },
    {
     "name": "stdout",
     "output_type": "stream",
     "text": [
      "Starting experimental run with id: 17. \n"
     ]
    },
    {
     "name": "stdout",
     "output_type": "stream",
     "text": [
      "Starting experimental run with id: 18. \n",
      "Starting experimental run with id: 19. \n"
     ]
    },
    {
     "name": "stdout",
     "output_type": "stream",
     "text": [
      "Starting experimental run with id: 20. \n"
     ]
    },
    {
     "name": "stdout",
     "output_type": "stream",
     "text": [
      "Starting experimental run with id: 21. \n"
     ]
    },
    {
     "name": "stdout",
     "output_type": "stream",
     "text": [
      "Starting experimental run with id: 22. \n"
     ]
    },
    {
     "name": "stdout",
     "output_type": "stream",
     "text": [
      "Starting experimental run with id: 23. \n"
     ]
    },
    {
     "name": "stdout",
     "output_type": "stream",
     "text": [
      "Starting experimental run with id: 24. \n"
     ]
    },
    {
     "name": "stdout",
     "output_type": "stream",
     "text": [
      "Starting experimental run with id: 25. \n"
     ]
    },
    {
     "name": "stdout",
     "output_type": "stream",
     "text": [
      "Starting experimental run with id: 26. \n"
     ]
    },
    {
     "name": "stdout",
     "output_type": "stream",
     "text": [
      "Starting experimental run with id: 27. \n"
     ]
    },
    {
     "name": "stdout",
     "output_type": "stream",
     "text": [
      "Starting experimental run with id: 28. \n"
     ]
    }
   ],
   "source": [
    "sizes = [1,500,1000,2000,3000,4000,5000]\n",
    "nreps = 100\n",
    "t_numeric = []\n",
    "t_numeric_add = []\n",
    "t_numeric_run_ids = []\n",
    "t_array = []\n",
    "t_array_add = []\n",
    "t_array_run_ids = []\n",
    "for size in sizes:\n",
    "    tn, tna, run_id_n =  insert_data('numeric', size, nreps=nreps)\n",
    "    t_numeric.append(tn)\n",
    "    t_numeric_add.append(tna)\n",
    "    t_numeric_run_ids.append(run_id_n)\n",
    "\n",
    "    ta, taa, run_id_a =  insert_data('array', size, nreps=nreps)\n",
    "    t_array.append(ta)\n",
    "    t_array_add.append(taa)\n",
    "    t_array_run_ids.append(run_id_a)"
   ]
  },
  {
   "cell_type": "code",
   "execution_count": 8,
   "metadata": {
    "execution": {
     "iopub.execute_input": "2020-11-12T18:40:00.345425Z",
     "iopub.status.busy": "2020-11-12T18:40:00.333238Z",
     "iopub.status.idle": "2020-11-12T18:40:00.594085Z",
     "shell.execute_reply": "2020-11-12T18:40:00.593489Z"
    },
    "scrolled": true
   },
   "outputs": [
    {
     "data": {
      "image/png": "[encoded data removed]",
      "text/plain": [
       "<Figure size 432x288 with 1 Axes>"
      ]
     },
     "metadata": {
      "needs_background": "light"
     },
     "output_type": "display_data"
    }
   ],
   "source": [
    "fig, ax = plt.subplots(1,1)\n",
    "ax.plot(sizes, t_numeric, 'o-', label='Inserting row-by-row')\n",
    "ax.plot(sizes, t_numeric_add, 'o-', label='Inserting row-by-row: add_result only')\n",
    "ax.plot(sizes, t_array, 'd-', label='Inserting as binary blob')\n",
    "ax.plot(sizes, t_array_add, 'd-', label='Inserting as binary blob: add_result only')\n",
    "ax.legend()\n",
    "ax.set_xlabel('Array length')\n",
    "ax.set_ylabel('Time (s)')\n",
    "fig.tight_layout()"
   ]
  },
  {
   "cell_type": "markdown",
   "metadata": {},
   "source": [
    "However, as we increase the length of the experiment, as seen here by repeating the insertion 100 times, we see a big difference between inserting values of the data row-by-row and inserting it as a binary blob."
   ]
  },
  {
   "cell_type": "markdown",
   "metadata": {},
   "source": [
    "## Loading the data "
   ]
  },
  {
   "cell_type": "code",
   "execution_count": 9,
   "metadata": {
    "execution": {
     "iopub.execute_input": "2020-11-12T18:40:00.598863Z",
     "iopub.status.busy": "2020-11-12T18:40:00.598201Z",
     "iopub.status.idle": "2020-11-12T18:40:00.600657Z",
     "shell.execute_reply": "2020-11-12T18:40:00.601264Z"
    }
   },
   "outputs": [],
   "source": [
    "from qcodes.dataset.data_set import load_by_id\n",
    "from qcodes.dataset.data_export import get_data_by_id"
   ]
  },
  {
   "cell_type": "markdown",
   "metadata": {},
   "source": [
    "As usual you can load the data by using the ``load_by_id`` function but you will notice that the different storage methods\n",
    "are reflected in shape of the data as it is retrieved. "
   ]
  },
  {
   "cell_type": "code",
   "execution_count": 10,
   "metadata": {
    "execution": {
     "iopub.execute_input": "2020-11-12T18:40:00.606678Z",
     "iopub.status.busy": "2020-11-12T18:40:00.605372Z",
     "iopub.status.idle": "2020-11-12T18:40:00.607348Z",
     "shell.execute_reply": "2020-11-12T18:40:00.607915Z"
    }
   },
   "outputs": [],
   "source": [
    "run_id_n = t_numeric_run_ids[0]\n",
    "run_id_a = t_array_run_ids[0]"
   ]
  },
  {
   "cell_type": "code",
   "execution_count": 11,
   "metadata": {
    "execution": {
     "iopub.execute_input": "2020-11-12T18:40:00.611847Z",
     "iopub.status.busy": "2020-11-12T18:40:00.611145Z",
     "iopub.status.idle": "2020-11-12T18:40:00.621672Z",
     "shell.execute_reply": "2020-11-12T18:40:00.621205Z"
    },
    "scrolled": true
   },
   "outputs": [
    {
     "data": {
      "text/plain": [
       "{'x1': {'x1': array([0.29018674, 0.29018674, 0.44777798, 0.44777798, 0.17538886,\n",
       "         0.17538886, 0.16665031, 0.16665031, 0.56312714, 0.56312714,\n",
       "         0.55208407, 0.55208407, 0.58959569, 0.58959569, 0.91376035,\n",
       "         0.91376035, 0.16427555, 0.16427555, 0.62496358, 0.62496358,\n",
       "         0.18118396, 0.18118396, 0.71464435, 0.71464435, 0.41284791,\n",
       "         0.41284791, 0.17521127, 0.17521127, 0.006553  , 0.006553  ,\n",
       "         0.76356424, 0.76356424, 0.94882681, 0.94882681, 0.24523468,\n",
       "         0.24523468, 0.01765419, 0.01765419, 0.22940219, 0.22940219,\n",
       "         0.45011297, 0.45011297, 0.10198673, 0.10198673, 0.83341722,\n",
       "         0.83341722, 0.16056173, 0.16056173, 0.93835302, 0.93835302,\n",
       "         0.79467158, 0.79467158, 0.01707406, 0.01707406, 0.45635669,\n",
       "         0.45635669, 0.89215674, 0.89215674, 0.40835588, 0.40835588,\n",
       "         0.45644503, 0.45644503, 0.98409501, 0.98409501, 0.45523333,\n",
       "         0.45523333, 0.93158646, 0.93158646, 0.81567114, 0.81567114,\n",
       "         0.31562437, 0.31562437, 0.23106002, 0.23106002, 0.3482566 ,\n",
       "         0.3482566 , 0.7256318 , 0.7256318 , 0.19495187, 0.19495187,\n",
       "         0.9231026 , 0.9231026 , 0.81646328, 0.81646328, 0.27072303,\n",
       "         0.27072303, 0.14857546, 0.14857546, 0.49826209, 0.49826209,\n",
       "         0.02621012, 0.02621012, 0.55683715, 0.55683715, 0.39750866,\n",
       "         0.39750866, 0.89585521, 0.89585521, 0.39989005, 0.39989005,\n",
       "         0.25580815, 0.25580815, 0.9005055 , 0.9005055 , 0.19056651,\n",
       "         0.19056651, 0.61913238, 0.61913238, 0.63884196, 0.63884196,\n",
       "         0.83739541, 0.83739541, 0.76951133, 0.76951133, 0.83085247,\n",
       "         0.83085247, 0.11310225, 0.11310225, 0.60506039, 0.60506039,\n",
       "         0.43275639, 0.43275639, 0.94687802, 0.94687802, 0.45190993,\n",
       "         0.45190993, 0.79126797, 0.79126797, 0.16493028, 0.16493028,\n",
       "         0.61101901, 0.61101901, 0.17437543, 0.17437543, 0.57672328,\n",
       "         0.57672328, 0.54756075, 0.54756075, 0.22056045, 0.22056045,\n",
       "         0.16685724, 0.16685724, 0.83943075, 0.83943075, 0.84307427,\n",
       "         0.84307427, 0.7648127 , 0.7648127 , 0.57972379, 0.57972379,\n",
       "         0.74241843, 0.74241843, 0.8013302 , 0.8013302 , 0.35720657,\n",
       "         0.35720657, 0.52454364, 0.52454364, 0.01547506, 0.01547506,\n",
       "         0.6904409 , 0.6904409 , 0.815225  , 0.815225  , 0.67603686,\n",
       "         0.67603686, 0.13513077, 0.13513077, 0.80693246, 0.80693246,\n",
       "         0.76926035, 0.76926035, 0.41294114, 0.41294114, 0.90402579,\n",
       "         0.90402579, 0.7784541 , 0.7784541 , 0.06409939, 0.06409939,\n",
       "         0.32077814, 0.32077814, 0.81004481, 0.81004481, 0.49740615,\n",
       "         0.49740615, 0.95925925, 0.95925925, 0.61953531, 0.61953531,\n",
       "         0.43337136, 0.43337136, 0.33859836, 0.33859836, 0.60932721,\n",
       "         0.60932721, 0.46941804, 0.46941804, 0.90684709, 0.90684709])}}"
      ]
     },
     "execution_count": 1,
     "metadata": {},
     "output_type": "execute_result"
    }
   ],
   "source": [
    "ds = load_by_id(run_id_n)\n",
    "ds.get_parameter_data('x1')"
   ]
  },
  {
   "cell_type": "markdown",
   "metadata": {},
   "source": [
    "And a dataset stored as binary arrays"
   ]
  },
  {
   "cell_type": "code",
   "execution_count": 12,
   "metadata": {
    "execution": {
     "iopub.execute_input": "2020-11-12T18:40:00.625537Z",
     "iopub.status.busy": "2020-11-12T18:40:00.624834Z",
     "iopub.status.idle": "2020-11-12T18:40:00.693761Z",
     "shell.execute_reply": "2020-11-12T18:40:00.694289Z"
    },
    "scrolled": true
   },
   "outputs": [
    {
     "data": {
      "text/plain": [
       "{'x1': {'x1': array([[0.19850773],\n",
       "         [0.19850773],\n",
       "         [0.82723278],\n",
       "         [0.82723278],\n",
       "         [0.42958523],\n",
       "         [0.42958523],\n",
       "         [0.48993453],\n",
       "         [0.48993453],\n",
       "         [0.16720056],\n",
       "         [0.16720056],\n",
       "         [0.89327766],\n",
       "         [0.89327766],\n",
       "         [0.02467832],\n",
       "         [0.02467832],\n",
       "         [0.94882251],\n",
       "         [0.94882251],\n",
       "         [0.14952667],\n",
       "         [0.14952667],\n",
       "         [0.61338726],\n",
       "         [0.61338726],\n",
       "         [0.4927366 ],\n",
       "         [0.4927366 ],\n",
       "         [0.2048639 ],\n",
       "         [0.2048639 ],\n",
       "         [0.02517846],\n",
       "         [0.02517846],\n",
       "         [0.85928225],\n",
       "         [0.85928225],\n",
       "         [0.11657038],\n",
       "         [0.11657038],\n",
       "         [0.35925937],\n",
       "         [0.35925937],\n",
       "         [0.74864013],\n",
       "         [0.74864013],\n",
       "         [0.72803299],\n",
       "         [0.72803299],\n",
       "         [0.33961649],\n",
       "         [0.33961649],\n",
       "         [0.68250053],\n",
       "         [0.68250053],\n",
       "         [0.36190134],\n",
       "         [0.36190134],\n",
       "         [0.78441965],\n",
       "         [0.78441965],\n",
       "         [0.28888028],\n",
       "         [0.28888028],\n",
       "         [0.20871367],\n",
       "         [0.20871367],\n",
       "         [0.98592178],\n",
       "         [0.98592178],\n",
       "         [0.74461543],\n",
       "         [0.74461543],\n",
       "         [0.8977701 ],\n",
       "         [0.8977701 ],\n",
       "         [0.93304742],\n",
       "         [0.93304742],\n",
       "         [0.72740886],\n",
       "         [0.72740886],\n",
       "         [0.94792807],\n",
       "         [0.94792807],\n",
       "         [0.96904241],\n",
       "         [0.96904241],\n",
       "         [0.96127991],\n",
       "         [0.96127991],\n",
       "         [0.25047389],\n",
       "         [0.25047389],\n",
       "         [0.44816897],\n",
       "         [0.44816897],\n",
       "         [0.43569597],\n",
       "         [0.43569597],\n",
       "         [0.59305084],\n",
       "         [0.59305084],\n",
       "         [0.03898717],\n",
       "         [0.03898717],\n",
       "         [0.5506291 ],\n",
       "         [0.5506291 ],\n",
       "         [0.48017875],\n",
       "         [0.48017875],\n",
       "         [0.03270614],\n",
       "         [0.03270614],\n",
       "         [0.45568325],\n",
       "         [0.45568325],\n",
       "         [0.85199276],\n",
       "         [0.85199276],\n",
       "         [0.62718937],\n",
       "         [0.62718937],\n",
       "         [0.34903308],\n",
       "         [0.34903308],\n",
       "         [0.94847387],\n",
       "         [0.94847387],\n",
       "         [0.21029307],\n",
       "         [0.21029307],\n",
       "         [0.69381794],\n",
       "         [0.69381794],\n",
       "         [0.84795052],\n",
       "         [0.84795052],\n",
       "         [0.43312975],\n",
       "         [0.43312975],\n",
       "         [0.30882475],\n",
       "         [0.30882475],\n",
       "         [0.56093435],\n",
       "         [0.56093435],\n",
       "         [0.78244534],\n",
       "         [0.78244534],\n",
       "         [0.1589492 ],\n",
       "         [0.1589492 ],\n",
       "         [0.97595997],\n",
       "         [0.97595997],\n",
       "         [0.61530615],\n",
       "         [0.61530615],\n",
       "         [0.16302134],\n",
       "         [0.16302134],\n",
       "         [0.14511616],\n",
       "         [0.14511616],\n",
       "         [0.89548306],\n",
       "         [0.89548306],\n",
       "         [0.04875118],\n",
       "         [0.04875118],\n",
       "         [0.259061  ],\n",
       "         [0.259061  ],\n",
       "         [0.16316869],\n",
       "         [0.16316869],\n",
       "         [0.20386227],\n",
       "         [0.20386227],\n",
       "         [0.90556878],\n",
       "         [0.90556878],\n",
       "         [0.24921729],\n",
       "         [0.24921729],\n",
       "         [0.34426228],\n",
       "         [0.34426228],\n",
       "         [0.8388303 ],\n",
       "         [0.8388303 ],\n",
       "         [0.04011974],\n",
       "         [0.04011974],\n",
       "         [0.55631268],\n",
       "         [0.55631268],\n",
       "         [0.93503083],\n",
       "         [0.93503083],\n",
       "         [0.92814171],\n",
       "         [0.92814171],\n",
       "         [0.17209479],\n",
       "         [0.17209479],\n",
       "         [0.91330764],\n",
       "         [0.91330764],\n",
       "         [0.62076336],\n",
       "         [0.62076336],\n",
       "         [0.72310099],\n",
       "         [0.72310099],\n",
       "         [0.45897999],\n",
       "         [0.45897999],\n",
       "         [0.11611197],\n",
       "         [0.11611197],\n",
       "         [0.11326262],\n",
       "         [0.11326262],\n",
       "         [0.23623114],\n",
       "         [0.23623114],\n",
       "         [0.09200858],\n",
       "         [0.09200858],\n",
       "         [0.14188013],\n",
       "         [0.14188013],\n",
       "         [0.3411831 ],\n",
       "         [0.3411831 ],\n",
       "         [0.37851268],\n",
       "         [0.37851268],\n",
       "         [0.71651138],\n",
       "         [0.71651138],\n",
       "         [0.04915323],\n",
       "         [0.04915323],\n",
       "         [0.31817894],\n",
       "         [0.31817894],\n",
       "         [0.99125793],\n",
       "         [0.99125793],\n",
       "         [0.68707671],\n",
       "         [0.68707671],\n",
       "         [0.76713769],\n",
       "         [0.76713769],\n",
       "         [0.79506039],\n",
       "         [0.79506039],\n",
       "         [0.97907027],\n",
       "         [0.97907027],\n",
       "         [0.45683098],\n",
       "         [0.45683098],\n",
       "         [0.44036689],\n",
       "         [0.44036689],\n",
       "         [0.93470922],\n",
       "         [0.93470922],\n",
       "         [0.72999111],\n",
       "         [0.72999111],\n",
       "         [0.26296897],\n",
       "         [0.26296897],\n",
       "         [0.17405538],\n",
       "         [0.17405538],\n",
       "         [0.82684945],\n",
       "         [0.82684945],\n",
       "         [0.50873705],\n",
       "         [0.50873705],\n",
       "         [0.60443942],\n",
       "         [0.60443942],\n",
       "         [0.78368098],\n",
       "         [0.78368098]])}}"
      ]
     },
     "execution_count": 1,
     "metadata": {},
     "output_type": "execute_result"
    }
   ],
   "source": [
    "ds = load_by_id(run_id_a)\n",
    "ds.get_parameter_data('x1')"
   ]
  },
  {
   "cell_type": "code",
   "execution_count": null,
   "metadata": {},
   "outputs": [],
   "source": []
  }
 ],
 "metadata": {
  "kernelspec": {
   "display_name": "Python 3",
   "language": "python",
   "name": "python3"
  },
  "language_info": {
   "codemirror_mode": {
    "name": "ipython",
    "version": 3
   },
   "file_extension": ".py",
   "mimetype": "text/x-python",
   "name": "python",
   "nbconvert_exporter": "python",
   "pygments_lexer": "ipython3",
   "version": "3.7.9"
  },
  "nbsphinx": {
   "timeout": 600
  },
  "toc": {
   "base_numbering": 1,
   "nav_menu": {},
   "number_sections": true,
   "sideBar": true,
   "skip_h1_title": false,
   "title_cell": "Table of Contents",
   "title_sidebar": "Contents",
   "toc_cell": false,
   "toc_position": {},
   "toc_section_display": true,
   "toc_window_display": false
  },
  "varInspector": {
   "cols": {
    "lenName": 16,
    "lenType": 16,
    "lenVar": 40
   },
   "kernels_config": {
    "python": {
     "delete_cmd_postfix": "",
     "delete_cmd_prefix": "del ",
     "library": "var_list.py",
     "varRefreshCmd": "print(var_dic_list())"
    },
    "r": {
     "delete_cmd_postfix": ") ",
     "delete_cmd_prefix": "rm(",
     "library": "var_list.r",
     "varRefreshCmd": "cat(var_dic_list()) "
    }
   },
   "types_to_exclude": [
    "module",
    "function",
    "builtin_function_or_method",
    "instance",
    "_Feature"
   ],
   "window_display": false
  }
 },
 "nbformat": 4,
 "nbformat_minor": 2
}
