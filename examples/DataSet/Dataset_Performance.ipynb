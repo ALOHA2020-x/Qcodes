{
 "cells": [
  {
   "cell_type": "markdown",
   "metadata": {},
   "source": [
    "# DataSet Performance\n",
    "\n",
    "This notebook shows the trade-off between inserting data into a database row-by-row and as binary blobs. Inserting the data row-by-row means that we have direct access to all the data and may perform queries directly on the values of the data. On the other hand, as we shall see, this is much slower than inserting the data directly as binary blobs."
   ]
  },
  {
   "cell_type": "markdown",
   "metadata": {},
   "source": [
    "First, we choose a new location for the database to ensure that we don't add a bunch of benchmarking data to the default one."
   ]
  },
  {
   "cell_type": "code",
   "execution_count": 1,
   "metadata": {
    "execution": {
     "iopub.execute_input": "2020-11-02T17:38:08.621290Z",
     "iopub.status.busy": "2020-11-02T17:38:08.619990Z",
     "iopub.status.idle": "2020-11-02T17:38:09.656475Z",
     "shell.execute_reply": "2020-11-02T17:38:09.656947Z"
    }
   },
   "outputs": [
    {
     "name": "stdout",
     "output_type": "stream",
     "text": [
      "Logging hadn't been started.\n",
      "Activating auto-logging. Current session state plus future input saved.\n",
      "Filename       : /home/vsts/.qcodes/logs/command_history.log\n",
      "Mode           : append\n",
      "Output logging : True\n",
      "Raw input log  : False\n",
      "Timestamping   : True\n",
      "State          : active\n"
     ]
    },
    {
     "name": "stdout",
     "output_type": "stream",
     "text": [
      "Qcodes Logfile : /home/vsts/.qcodes/logs/201102-14253-qcodes.log\n"
     ]
    }
   ],
   "source": [
    "import os\n",
    "cwd = os.getcwd()\n",
    "import qcodes as qc\n",
    "qc.config[\"core\"][\"db_location\"] = os.path.join(cwd, 'testing.db')\n"
   ]
  },
  {
   "cell_type": "code",
   "execution_count": 2,
   "metadata": {
    "execution": {
     "iopub.execute_input": "2020-11-02T17:38:09.663464Z",
     "iopub.status.busy": "2020-11-02T17:38:09.662660Z",
     "iopub.status.idle": "2020-11-02T17:38:09.860080Z",
     "shell.execute_reply": "2020-11-02T17:38:09.859259Z"
    }
   },
   "outputs": [],
   "source": [
    "%matplotlib inline\n",
    "import time\n",
    "import matplotlib.pyplot as plt\n",
    "import numpy as np\n",
    "\n",
    "import qcodes as qc\n",
    "from qcodes.instrument.parameter import ManualParameter\n",
    "from qcodes.dataset.experiment_container import (Experiment,\n",
    "                                                 load_last_experiment,\n",
    "                                                 new_experiment)\n",
    "from qcodes.dataset.sqlite.database import initialise_database\n",
    "from qcodes import load_or_create_experiment\n",
    "from qcodes.dataset.measurements import Measurement"
   ]
  },
  {
   "cell_type": "code",
   "execution_count": 3,
   "metadata": {
    "execution": {
     "iopub.execute_input": "2020-11-02T17:38:09.863860Z",
     "iopub.status.busy": "2020-11-02T17:38:09.863311Z",
     "iopub.status.idle": "2020-11-02T17:38:09.979359Z",
     "shell.execute_reply": "2020-11-02T17:38:09.978886Z"
    }
   },
   "outputs": [
    {
     "name": "stdout",
     "output_type": "stream",
     "text": [
      "\r",
      "0it [00:00, ?it/s]"
     ]
    },
    {
     "name": "stdout",
     "output_type": "stream",
     "text": [
      "\r",
      "Upgrading database; v0 -> v1: : 0it [00:00, ?it/s]"
     ]
    },
    {
     "name": "stdout",
     "output_type": "stream",
     "text": [
      "\r",
      "Upgrading database; v0 -> v1: : 0it [00:00, ?it/s]"
     ]
    },
    {
     "name": "stdout",
     "output_type": "stream",
     "text": [
      "\n",
      "\r",
      "  0%|          | 0/1 [00:00<?, ?it/s]"
     ]
    },
    {
     "name": "stdout",
     "output_type": "stream",
     "text": [
      "\r",
      "Upgrading database; v1 -> v2:   0%|          | 0/1 [00:00<?, ?it/s]"
     ]
    },
    {
     "name": "stdout",
     "output_type": "stream",
     "text": [
      "\r",
      "Upgrading database; v1 -> v2: 100%|██████████| 1/1 [00:00<00:00, 484.39it/s]"
     ]
    },
    {
     "name": "stdout",
     "output_type": "stream",
     "text": [
      "\n",
      "\r",
      "0it [00:00, ?it/s]"
     ]
    },
    {
     "name": "stdout",
     "output_type": "stream",
     "text": [
      "\r",
      "Upgrading database; v2 -> v3: : 0it [00:00, ?it/s]"
     ]
    },
    {
     "name": "stdout",
     "output_type": "stream",
     "text": [
      "\r",
      "Upgrading database; v2 -> v3: : 0it [00:00, ?it/s]"
     ]
    },
    {
     "name": "stdout",
     "output_type": "stream",
     "text": [
      "\n",
      "\r",
      "0it [00:00, ?it/s]"
     ]
    },
    {
     "name": "stdout",
     "output_type": "stream",
     "text": [
      "\r",
      "Upgrading database; v3 -> v4: : 0it [00:00, ?it/s]"
     ]
    },
    {
     "name": "stdout",
     "output_type": "stream",
     "text": [
      "\r",
      "Upgrading database; v3 -> v4: : 0it [00:00, ?it/s]"
     ]
    },
    {
     "name": "stdout",
     "output_type": "stream",
     "text": [
      "\n",
      "\r",
      "  0%|          | 0/1 [00:00<?, ?it/s]"
     ]
    },
    {
     "name": "stdout",
     "output_type": "stream",
     "text": [
      "\r",
      "Upgrading database; v4 -> v5:   0%|          | 0/1 [00:00<?, ?it/s]"
     ]
    },
    {
     "name": "stdout",
     "output_type": "stream",
     "text": [
      "\r",
      "Upgrading database; v4 -> v5: 100%|██████████| 1/1 [00:00<00:00, 572.37it/s]"
     ]
    },
    {
     "name": "stdout",
     "output_type": "stream",
     "text": [
      "\n",
      "\r",
      "0it [00:00, ?it/s]"
     ]
    },
    {
     "name": "stdout",
     "output_type": "stream",
     "text": [
      "\r",
      "Upgrading database; v5 -> v6: : 0it [00:00, ?it/s]"
     ]
    },
    {
     "name": "stdout",
     "output_type": "stream",
     "text": [
      "\r",
      "Upgrading database; v5 -> v6: : 0it [00:00, ?it/s]"
     ]
    },
    {
     "name": "stdout",
     "output_type": "stream",
     "text": [
      "\n",
      "\r",
      "  0%|          | 0/1 [00:00<?, ?it/s]"
     ]
    },
    {
     "name": "stdout",
     "output_type": "stream",
     "text": [
      "\r",
      "Upgrading database; v6 -> v7:   0%|          | 0/1 [00:00<?, ?it/s]"
     ]
    },
    {
     "name": "stdout",
     "output_type": "stream",
     "text": [
      "\r",
      "Upgrading database; v6 -> v7: 100%|██████████| 1/1 [00:00<00:00, 352.64it/s]"
     ]
    },
    {
     "name": "stdout",
     "output_type": "stream",
     "text": [
      "\n",
      "\r",
      "  0%|          | 0/1 [00:00<?, ?it/s]"
     ]
    },
    {
     "name": "stdout",
     "output_type": "stream",
     "text": [
      "\r",
      "Upgrading database; v7 -> v8:   0%|          | 0/1 [00:00<?, ?it/s]"
     ]
    },
    {
     "name": "stdout",
     "output_type": "stream",
     "text": [
      "\r",
      "Upgrading database; v7 -> v8: 100%|██████████| 1/1 [00:00<00:00, 1026.76it/s]"
     ]
    },
    {
     "name": "stdout",
     "output_type": "stream",
     "text": [
      "\n",
      "\r",
      "  0%|          | 0/1 [00:00<?, ?it/s]"
     ]
    },
    {
     "name": "stdout",
     "output_type": "stream",
     "text": [
      "\r",
      "Upgrading database; v8 -> v9:   0%|          | 0/1 [00:00<?, ?it/s]"
     ]
    },
    {
     "name": "stdout",
     "output_type": "stream",
     "text": [
      "\r",
      "Upgrading database; v8 -> v9: 100%|██████████| 1/1 [00:00<00:00, 433.39it/s]"
     ]
    },
    {
     "name": "stdout",
     "output_type": "stream",
     "text": [
      "\n"
     ]
    }
   ],
   "source": [
    "initialise_database()\n",
    "exp = load_or_create_experiment(experiment_name='tutorial_exp', sample_name=\"no sample\")"
   ]
  },
  {
   "cell_type": "markdown",
   "metadata": {},
   "source": [
    "Here, we define a simple function to benchmark the time it takes to insert n points with either numeric or array data type.\n",
    "We will compare both the time used to call ``add_result`` and the time used for the full measurement."
   ]
  },
  {
   "cell_type": "code",
   "execution_count": 4,
   "metadata": {
    "execution": {
     "iopub.execute_input": "2020-11-02T17:38:09.987395Z",
     "iopub.status.busy": "2020-11-02T17:38:09.986779Z",
     "iopub.status.idle": "2020-11-02T17:38:09.989860Z",
     "shell.execute_reply": "2020-11-02T17:38:09.990253Z"
    }
   },
   "outputs": [],
   "source": [
    "def insert_data(paramtype, npoints, nreps=1):\n",
    "\n",
    "    meas = Measurement(exp=exp)\n",
    "\n",
    "    x1 = ManualParameter('x1')\n",
    "    x2 = ManualParameter('x2')\n",
    "    x3 = ManualParameter('x3')\n",
    "    y1 = ManualParameter('y1')\n",
    "    y2 = ManualParameter('y2')\n",
    "\n",
    "    meas.register_parameter(x1, paramtype=paramtype)\n",
    "    meas.register_parameter(x2, paramtype=paramtype)\n",
    "    meas.register_parameter(x3, paramtype=paramtype)\n",
    "    meas.register_parameter(y1, setpoints=[x1, x2, x3],\n",
    "                            paramtype=paramtype)\n",
    "    meas.register_parameter(y2, setpoints=[x1, x2, x3],\n",
    "                            paramtype=paramtype)\n",
    "    start = time.perf_counter()\n",
    "    with meas.run() as datasaver:\n",
    "        start_adding = time.perf_counter()\n",
    "        for i in range(nreps):\n",
    "            datasaver.add_result((x1, np.random.rand(npoints)),\n",
    "                                 (x2, np.random.rand(npoints)),\n",
    "                                 (x3, np.random.rand(npoints)),\n",
    "                                 (y1, np.random.rand(npoints)),\n",
    "                                 (y2, np.random.rand(npoints)))\n",
    "        stop_adding = time.perf_counter()\n",
    "        run_id = datasaver.run_id\n",
    "    stop = time.perf_counter()\n",
    "    tot_time = stop - start\n",
    "    add_time = stop_adding - start_adding\n",
    "    return tot_time, add_time, run_id"
   ]
  },
  {
   "cell_type": "markdown",
   "metadata": {},
   "source": [
    "## Comparison between numeric/array data and binary blob"
   ]
  },
  {
   "cell_type": "markdown",
   "metadata": {},
   "source": [
    "### Case1: Short experiment time"
   ]
  },
  {
   "cell_type": "code",
   "execution_count": 5,
   "metadata": {
    "execution": {
     "iopub.execute_input": "2020-11-02T17:38:09.996241Z",
     "iopub.status.busy": "2020-11-02T17:38:09.995622Z",
     "iopub.status.idle": "2020-11-02T17:38:10.812889Z",
     "shell.execute_reply": "2020-11-02T17:38:10.812418Z"
    }
   },
   "outputs": [
    {
     "name": "stdout",
     "output_type": "stream",
     "text": [
      "Starting experimental run with id: 1. \n",
      "Starting experimental run with id: 2. \n",
      "Starting experimental run with id: 3. \n",
      "Starting experimental run with id: 4. \n",
      "Starting experimental run with id: 5. \n"
     ]
    },
    {
     "name": "stdout",
     "output_type": "stream",
     "text": [
      "Starting experimental run with id: 6. \n"
     ]
    },
    {
     "name": "stdout",
     "output_type": "stream",
     "text": [
      "Starting experimental run with id: 7. \n"
     ]
    },
    {
     "name": "stdout",
     "output_type": "stream",
     "text": [
      "Starting experimental run with id: 8. \n",
      "Starting experimental run with id: 9. \n"
     ]
    },
    {
     "name": "stdout",
     "output_type": "stream",
     "text": [
      "Starting experimental run with id: 10. \n",
      "Starting experimental run with id: 11. \n"
     ]
    },
    {
     "name": "stdout",
     "output_type": "stream",
     "text": [
      "Starting experimental run with id: 12. \n",
      "Starting experimental run with id: 13. \n"
     ]
    },
    {
     "name": "stdout",
     "output_type": "stream",
     "text": [
      "Starting experimental run with id: 14. \n"
     ]
    }
   ],
   "source": [
    "sizes = [1,500,1000,2000,3000,4000,5000]\n",
    "t_numeric = []\n",
    "t_numeric_add = []\n",
    "t_array = []\n",
    "t_array_add = []\n",
    "for size in sizes:\n",
    "    tn, tna, run_id_n =  insert_data('numeric', size)\n",
    "    t_numeric.append(tn)\n",
    "    t_numeric_add.append(tna)\n",
    "\n",
    "    ta, taa, run_id_a =  insert_data('array', size)\n",
    "    t_array.append(ta)\n",
    "    t_array_add.append(taa)"
   ]
  },
  {
   "cell_type": "code",
   "execution_count": 6,
   "metadata": {
    "execution": {
     "iopub.execute_input": "2020-11-02T17:38:10.831543Z",
     "iopub.status.busy": "2020-11-02T17:38:10.830963Z",
     "iopub.status.idle": "2020-11-02T17:38:11.012479Z",
     "shell.execute_reply": "2020-11-02T17:38:11.013035Z"
    }
   },
   "outputs": [
    {
     "data": {
      "image/png": "[encoded data removed]",
      "text/plain": [
       "<Figure size 432x288 with 1 Axes>"
      ]
     },
     "metadata": {
      "needs_background": "light"
     },
     "output_type": "display_data"
    }
   ],
   "source": [
    "fig, ax = plt.subplots(1,1)\n",
    "ax.plot(sizes, t_numeric, 'o-', label='Inserting row-by-row')\n",
    "ax.plot(sizes, t_numeric_add, 'o-', label='Inserting row-by-row: add_result only')\n",
    "ax.plot(sizes, t_array, 'd-', label='Inserting as binary blob')\n",
    "ax.plot(sizes, t_array_add, 'd-', label='Inserting as binary blob: add_result only')\n",
    "ax.legend()\n",
    "ax.set_xlabel('Array length')\n",
    "ax.set_ylabel('Time (s)')\n",
    "fig.tight_layout()"
   ]
  },
  {
   "cell_type": "markdown",
   "metadata": {},
   "source": [
    "As shown in the latter figure, the time to setup and and close the experiment is approximately 0.4 sec. In case of small array sizes, the difference between inserting values of data as arrays and inserting them row-by-row is relatively unimportant. At larger array sizes, i.e. above 10000 points, the cost of writing data as individual datapoints starts to become important.\n"
   ]
  },
  {
   "cell_type": "markdown",
   "metadata": {},
   "source": [
    "### Case2: Long experiment time "
   ]
  },
  {
   "cell_type": "code",
   "execution_count": 7,
   "metadata": {
    "execution": {
     "iopub.execute_input": "2020-11-02T17:38:11.020526Z",
     "iopub.status.busy": "2020-11-02T17:38:11.019983Z",
     "iopub.status.idle": "2020-11-02T17:39:08.652767Z",
     "shell.execute_reply": "2020-11-02T17:39:08.651857Z"
    }
   },
   "outputs": [
    {
     "name": "stdout",
     "output_type": "stream",
     "text": [
      "Starting experimental run with id: 15. \n",
      "Starting experimental run with id: 16. \n",
      "Starting experimental run with id: 17. \n"
     ]
    },
    {
     "name": "stdout",
     "output_type": "stream",
     "text": [
      "Starting experimental run with id: 18. \n",
      "Starting experimental run with id: 19. \n"
     ]
    },
    {
     "name": "stdout",
     "output_type": "stream",
     "text": [
      "Starting experimental run with id: 20. \n"
     ]
    },
    {
     "name": "stdout",
     "output_type": "stream",
     "text": [
      "Starting experimental run with id: 21. \n"
     ]
    },
    {
     "name": "stdout",
     "output_type": "stream",
     "text": [
      "Starting experimental run with id: 22. \n"
     ]
    },
    {
     "name": "stdout",
     "output_type": "stream",
     "text": [
      "Starting experimental run with id: 23. \n"
     ]
    },
    {
     "name": "stdout",
     "output_type": "stream",
     "text": [
      "Starting experimental run with id: 24. \n"
     ]
    },
    {
     "name": "stdout",
     "output_type": "stream",
     "text": [
      "Starting experimental run with id: 25. \n"
     ]
    },
    {
     "name": "stdout",
     "output_type": "stream",
     "text": [
      "Starting experimental run with id: 26. \n"
     ]
    },
    {
     "name": "stdout",
     "output_type": "stream",
     "text": [
      "Starting experimental run with id: 27. \n"
     ]
    },
    {
     "name": "stdout",
     "output_type": "stream",
     "text": [
      "Starting experimental run with id: 28. \n"
     ]
    }
   ],
   "source": [
    "sizes = [1,500,1000,2000,3000,4000,5000]\n",
    "nreps = 100\n",
    "t_numeric = []\n",
    "t_numeric_add = []\n",
    "t_numeric_run_ids = []\n",
    "t_array = []\n",
    "t_array_add = []\n",
    "t_array_run_ids = []\n",
    "for size in sizes:\n",
    "    tn, tna, run_id_n =  insert_data('numeric', size, nreps=nreps)\n",
    "    t_numeric.append(tn)\n",
    "    t_numeric_add.append(tna)\n",
    "    t_numeric_run_ids.append(run_id_n)\n",
    "\n",
    "    ta, taa, run_id_a =  insert_data('array', size, nreps=nreps)\n",
    "    t_array.append(ta)\n",
    "    t_array_add.append(taa)\n",
    "    t_array_run_ids.append(run_id_a)"
   ]
  },
  {
   "cell_type": "code",
   "execution_count": 8,
   "metadata": {
    "execution": {
     "iopub.execute_input": "2020-11-02T17:39:08.680009Z",
     "iopub.status.busy": "2020-11-02T17:39:08.676728Z",
     "iopub.status.idle": "2020-11-02T17:39:08.842864Z",
     "shell.execute_reply": "2020-11-02T17:39:08.843346Z"
    },
    "scrolled": true
   },
   "outputs": [
    {
     "data": {
      "image/png": "[encoded data removed]",
      "text/plain": [
       "<Figure size 432x288 with 1 Axes>"
      ]
     },
     "metadata": {
      "needs_background": "light"
     },
     "output_type": "display_data"
    }
   ],
   "source": [
    "fig, ax = plt.subplots(1,1)\n",
    "ax.plot(sizes, t_numeric, 'o-', label='Inserting row-by-row')\n",
    "ax.plot(sizes, t_numeric_add, 'o-', label='Inserting row-by-row: add_result only')\n",
    "ax.plot(sizes, t_array, 'd-', label='Inserting as binary blob')\n",
    "ax.plot(sizes, t_array_add, 'd-', label='Inserting as binary blob: add_result only')\n",
    "ax.legend()\n",
    "ax.set_xlabel('Array length')\n",
    "ax.set_ylabel('Time (s)')\n",
    "fig.tight_layout()"
   ]
  },
  {
   "cell_type": "markdown",
   "metadata": {},
   "source": [
    "However, as we increase the length of the experiment, as seen here by repeating the insertion 100 times, we see a big difference between inserting values of the data row-by-row and inserting it as a binary blob."
   ]
  },
  {
   "cell_type": "markdown",
   "metadata": {},
   "source": [
    "## Loading the data "
   ]
  },
  {
   "cell_type": "code",
   "execution_count": 9,
   "metadata": {
    "execution": {
     "iopub.execute_input": "2020-11-02T17:39:08.847962Z",
     "iopub.status.busy": "2020-11-02T17:39:08.846845Z",
     "iopub.status.idle": "2020-11-02T17:39:08.850762Z",
     "shell.execute_reply": "2020-11-02T17:39:08.851423Z"
    }
   },
   "outputs": [],
   "source": [
    "from qcodes.dataset.data_set import load_by_id\n",
    "from qcodes.dataset.data_export import get_data_by_id"
   ]
  },
  {
   "cell_type": "markdown",
   "metadata": {},
   "source": [
    "As usual you can load the data by using the ``load_by_id`` function but you will notice that the different storage methods\n",
    "are reflected in shape of the data as it is retrieved. "
   ]
  },
  {
   "cell_type": "code",
   "execution_count": 10,
   "metadata": {
    "execution": {
     "iopub.execute_input": "2020-11-02T17:39:08.854840Z",
     "iopub.status.busy": "2020-11-02T17:39:08.854313Z",
     "iopub.status.idle": "2020-11-02T17:39:08.857571Z",
     "shell.execute_reply": "2020-11-02T17:39:08.857097Z"
    }
   },
   "outputs": [],
   "source": [
    "run_id_n = t_numeric_run_ids[0]\n",
    "run_id_a = t_array_run_ids[0]"
   ]
  },
  {
   "cell_type": "code",
   "execution_count": 11,
   "metadata": {
    "execution": {
     "iopub.execute_input": "2020-11-02T17:39:08.860533Z",
     "iopub.status.busy": "2020-11-02T17:39:08.860014Z",
     "iopub.status.idle": "2020-11-02T17:39:08.869007Z",
     "shell.execute_reply": "2020-11-02T17:39:08.868589Z"
    },
    "scrolled": true
   },
   "outputs": [
    {
     "data": {
      "text/plain": [
       "{'x1': {'x1': array([0.55172739, 0.55172739, 0.27287801, 0.27287801, 0.62370584,\n",
       "         0.62370584, 0.91868876, 0.91868876, 0.25627146, 0.25627146,\n",
       "         0.98754301, 0.98754301, 0.55775248, 0.55775248, 0.37273849,\n",
       "         0.37273849, 0.18189824, 0.18189824, 0.30714927, 0.30714927,\n",
       "         0.78851588, 0.78851588, 0.7399141 , 0.7399141 , 0.19730744,\n",
       "         0.19730744, 0.83441218, 0.83441218, 0.29118044, 0.29118044,\n",
       "         0.87181684, 0.87181684, 0.69127402, 0.69127402, 0.96318521,\n",
       "         0.96318521, 0.11658092, 0.11658092, 0.73127769, 0.73127769,\n",
       "         0.77286007, 0.77286007, 0.97223697, 0.97223697, 0.60696692,\n",
       "         0.60696692, 0.63155747, 0.63155747, 0.69587116, 0.69587116,\n",
       "         0.06630873, 0.06630873, 0.24873555, 0.24873555, 0.06694103,\n",
       "         0.06694103, 0.91742669, 0.91742669, 0.38686525, 0.38686525,\n",
       "         0.75219144, 0.75219144, 0.84866226, 0.84866226, 0.38123478,\n",
       "         0.38123478, 0.1779366 , 0.1779366 , 0.33551572, 0.33551572,\n",
       "         0.84595581, 0.84595581, 0.83460763, 0.83460763, 0.33192332,\n",
       "         0.33192332, 0.39479626, 0.39479626, 0.72439991, 0.72439991,\n",
       "         0.86545894, 0.86545894, 0.89976174, 0.89976174, 0.75964769,\n",
       "         0.75964769, 0.70697384, 0.70697384, 0.53648926, 0.53648926,\n",
       "         0.07119354, 0.07119354, 0.58564177, 0.58564177, 0.16717587,\n",
       "         0.16717587, 0.66392079, 0.66392079, 0.45760397, 0.45760397,\n",
       "         0.08422294, 0.08422294, 0.6050224 , 0.6050224 , 0.72282169,\n",
       "         0.72282169, 0.2816658 , 0.2816658 , 0.13868744, 0.13868744,\n",
       "         0.03518984, 0.03518984, 0.47022019, 0.47022019, 0.7460541 ,\n",
       "         0.7460541 , 0.14922167, 0.14922167, 0.2786529 , 0.2786529 ,\n",
       "         0.18629353, 0.18629353, 0.39969628, 0.39969628, 0.22912773,\n",
       "         0.22912773, 0.69164481, 0.69164481, 0.17700021, 0.17700021,\n",
       "         0.5765199 , 0.5765199 , 0.19764747, 0.19764747, 0.48707856,\n",
       "         0.48707856, 0.32055759, 0.32055759, 0.56163971, 0.56163971,\n",
       "         0.86070156, 0.86070156, 0.03793033, 0.03793033, 0.33241164,\n",
       "         0.33241164, 0.90772849, 0.90772849, 0.91839998, 0.91839998,\n",
       "         0.03149127, 0.03149127, 0.11689161, 0.11689161, 0.69521199,\n",
       "         0.69521199, 0.4465917 , 0.4465917 , 0.89588495, 0.89588495,\n",
       "         0.8521363 , 0.8521363 , 0.08778474, 0.08778474, 0.50205905,\n",
       "         0.50205905, 0.41405096, 0.41405096, 0.49846029, 0.49846029,\n",
       "         0.16389861, 0.16389861, 0.0835472 , 0.0835472 , 0.81198271,\n",
       "         0.81198271, 0.67649416, 0.67649416, 0.19981428, 0.19981428,\n",
       "         0.56177004, 0.56177004, 0.38142379, 0.38142379, 0.55279624,\n",
       "         0.55279624, 0.22726391, 0.22726391, 0.83278201, 0.83278201,\n",
       "         0.95275562, 0.95275562, 0.58905219, 0.58905219, 0.58177976,\n",
       "         0.58177976, 0.05742781, 0.05742781, 0.13013093, 0.13013093])}}"
      ]
     },
     "execution_count": 1,
     "metadata": {},
     "output_type": "execute_result"
    }
   ],
   "source": [
    "ds = load_by_id(run_id_n)\n",
    "ds.get_parameter_data('x1')"
   ]
  },
  {
   "cell_type": "markdown",
   "metadata": {},
   "source": [
    "And a dataset stored as binary arrays"
   ]
  },
  {
   "cell_type": "code",
   "execution_count": 12,
   "metadata": {
    "execution": {
     "iopub.execute_input": "2020-11-02T17:39:08.872152Z",
     "iopub.status.busy": "2020-11-02T17:39:08.871610Z",
     "iopub.status.idle": "2020-11-02T17:39:08.922922Z",
     "shell.execute_reply": "2020-11-02T17:39:08.922477Z"
    },
    "scrolled": true
   },
   "outputs": [
    {
     "data": {
      "text/plain": [
       "{'x1': {'x1': array([[0.45794718],\n",
       "         [0.45794718],\n",
       "         [0.12231165],\n",
       "         [0.12231165],\n",
       "         [0.00393114],\n",
       "         [0.00393114],\n",
       "         [0.61650114],\n",
       "         [0.61650114],\n",
       "         [0.13941373],\n",
       "         [0.13941373],\n",
       "         [0.59078484],\n",
       "         [0.59078484],\n",
       "         [0.35997879],\n",
       "         [0.35997879],\n",
       "         [0.53338533],\n",
       "         [0.53338533],\n",
       "         [0.294996  ],\n",
       "         [0.294996  ],\n",
       "         [0.71912415],\n",
       "         [0.71912415],\n",
       "         [0.06132328],\n",
       "         [0.06132328],\n",
       "         [0.94206877],\n",
       "         [0.94206877],\n",
       "         [0.6001606 ],\n",
       "         [0.6001606 ],\n",
       "         [0.99575676],\n",
       "         [0.99575676],\n",
       "         [0.39964941],\n",
       "         [0.39964941],\n",
       "         [0.64943876],\n",
       "         [0.64943876],\n",
       "         [0.89114911],\n",
       "         [0.89114911],\n",
       "         [0.05646851],\n",
       "         [0.05646851],\n",
       "         [0.58440961],\n",
       "         [0.58440961],\n",
       "         [0.51960444],\n",
       "         [0.51960444],\n",
       "         [0.66430378],\n",
       "         [0.66430378],\n",
       "         [0.15828414],\n",
       "         [0.15828414],\n",
       "         [0.01576973],\n",
       "         [0.01576973],\n",
       "         [0.88254204],\n",
       "         [0.88254204],\n",
       "         [0.37322134],\n",
       "         [0.37322134],\n",
       "         [0.52848872],\n",
       "         [0.52848872],\n",
       "         [0.45909754],\n",
       "         [0.45909754],\n",
       "         [0.33395742],\n",
       "         [0.33395742],\n",
       "         [0.97917   ],\n",
       "         [0.97917   ],\n",
       "         [0.26787353],\n",
       "         [0.26787353],\n",
       "         [0.10803282],\n",
       "         [0.10803282],\n",
       "         [0.10292315],\n",
       "         [0.10292315],\n",
       "         [0.61643354],\n",
       "         [0.61643354],\n",
       "         [0.90304947],\n",
       "         [0.90304947],\n",
       "         [0.14578891],\n",
       "         [0.14578891],\n",
       "         [0.15265341],\n",
       "         [0.15265341],\n",
       "         [0.2766608 ],\n",
       "         [0.2766608 ],\n",
       "         [0.35470447],\n",
       "         [0.35470447],\n",
       "         [0.85590313],\n",
       "         [0.85590313],\n",
       "         [0.08094762],\n",
       "         [0.08094762],\n",
       "         [0.75066998],\n",
       "         [0.75066998],\n",
       "         [0.68472645],\n",
       "         [0.68472645],\n",
       "         [0.40123047],\n",
       "         [0.40123047],\n",
       "         [0.03615689],\n",
       "         [0.03615689],\n",
       "         [0.16179366],\n",
       "         [0.16179366],\n",
       "         [0.77312377],\n",
       "         [0.77312377],\n",
       "         [0.31073819],\n",
       "         [0.31073819],\n",
       "         [0.1320874 ],\n",
       "         [0.1320874 ],\n",
       "         [0.44661644],\n",
       "         [0.44661644],\n",
       "         [0.0836037 ],\n",
       "         [0.0836037 ],\n",
       "         [0.3159451 ],\n",
       "         [0.3159451 ],\n",
       "         [0.68730248],\n",
       "         [0.68730248],\n",
       "         [0.07142854],\n",
       "         [0.07142854],\n",
       "         [0.38594639],\n",
       "         [0.38594639],\n",
       "         [0.2409335 ],\n",
       "         [0.2409335 ],\n",
       "         [0.78624181],\n",
       "         [0.78624181],\n",
       "         [0.34151695],\n",
       "         [0.34151695],\n",
       "         [0.8775087 ],\n",
       "         [0.8775087 ],\n",
       "         [0.62820492],\n",
       "         [0.62820492],\n",
       "         [0.27993256],\n",
       "         [0.27993256],\n",
       "         [0.35830657],\n",
       "         [0.35830657],\n",
       "         [0.35677154],\n",
       "         [0.35677154],\n",
       "         [0.3770159 ],\n",
       "         [0.3770159 ],\n",
       "         [0.98852913],\n",
       "         [0.98852913],\n",
       "         [0.86235472],\n",
       "         [0.86235472],\n",
       "         [0.07335486],\n",
       "         [0.07335486],\n",
       "         [0.12340944],\n",
       "         [0.12340944],\n",
       "         [0.53339206],\n",
       "         [0.53339206],\n",
       "         [0.41905229],\n",
       "         [0.41905229],\n",
       "         [0.14654668],\n",
       "         [0.14654668],\n",
       "         [0.71853005],\n",
       "         [0.71853005],\n",
       "         [0.64056028],\n",
       "         [0.64056028],\n",
       "         [0.73790187],\n",
       "         [0.73790187],\n",
       "         [0.78670873],\n",
       "         [0.78670873],\n",
       "         [0.51003108],\n",
       "         [0.51003108],\n",
       "         [0.7870386 ],\n",
       "         [0.7870386 ],\n",
       "         [0.83639923],\n",
       "         [0.83639923],\n",
       "         [0.65894842],\n",
       "         [0.65894842],\n",
       "         [0.37727123],\n",
       "         [0.37727123],\n",
       "         [0.47575861],\n",
       "         [0.47575861],\n",
       "         [0.54251764],\n",
       "         [0.54251764],\n",
       "         [0.08462676],\n",
       "         [0.08462676],\n",
       "         [0.3071089 ],\n",
       "         [0.3071089 ],\n",
       "         [0.87583542],\n",
       "         [0.87583542],\n",
       "         [0.18249614],\n",
       "         [0.18249614],\n",
       "         [0.4442207 ],\n",
       "         [0.4442207 ],\n",
       "         [0.47359856],\n",
       "         [0.47359856],\n",
       "         [0.84662406],\n",
       "         [0.84662406],\n",
       "         [0.06306261],\n",
       "         [0.06306261],\n",
       "         [0.73225547],\n",
       "         [0.73225547],\n",
       "         [0.35816549],\n",
       "         [0.35816549],\n",
       "         [0.76613275],\n",
       "         [0.76613275],\n",
       "         [0.18610038],\n",
       "         [0.18610038],\n",
       "         [0.855381  ],\n",
       "         [0.855381  ],\n",
       "         [0.47293412],\n",
       "         [0.47293412],\n",
       "         [0.99846704],\n",
       "         [0.99846704],\n",
       "         [0.07851718],\n",
       "         [0.07851718],\n",
       "         [0.30205185],\n",
       "         [0.30205185],\n",
       "         [0.17694619],\n",
       "         [0.17694619],\n",
       "         [0.12129328],\n",
       "         [0.12129328]])}}"
      ]
     },
     "execution_count": 1,
     "metadata": {},
     "output_type": "execute_result"
    }
   ],
   "source": [
    "ds = load_by_id(run_id_a)\n",
    "ds.get_parameter_data('x1')"
   ]
  },
  {
   "cell_type": "code",
   "execution_count": null,
   "metadata": {},
   "outputs": [],
   "source": []
  }
 ],
 "metadata": {
  "kernelspec": {
   "display_name": "Python 3",
   "language": "python",
   "name": "python3"
  },
  "language_info": {
   "codemirror_mode": {
    "name": "ipython",
    "version": 3
   },
   "file_extension": ".py",
   "mimetype": "text/x-python",
   "name": "python",
   "nbconvert_exporter": "python",
   "pygments_lexer": "ipython3",
   "version": "3.7.9"
  },
  "nbsphinx": {
   "timeout": 600
  },
  "toc": {
   "base_numbering": 1,
   "nav_menu": {},
   "number_sections": true,
   "sideBar": true,
   "skip_h1_title": false,
   "title_cell": "Table of Contents",
   "title_sidebar": "Contents",
   "toc_cell": false,
   "toc_position": {},
   "toc_section_display": true,
   "toc_window_display": false
  },
  "varInspector": {
   "cols": {
    "lenName": 16,
    "lenType": 16,
    "lenVar": 40
   },
   "kernels_config": {
    "python": {
     "delete_cmd_postfix": "",
     "delete_cmd_prefix": "del ",
     "library": "var_list.py",
     "varRefreshCmd": "print(var_dic_list())"
    },
    "r": {
     "delete_cmd_postfix": ") ",
     "delete_cmd_prefix": "rm(",
     "library": "var_list.r",
     "varRefreshCmd": "cat(var_dic_list()) "
    }
   },
   "types_to_exclude": [
    "module",
    "function",
    "builtin_function_or_method",
    "instance",
    "_Feature"
   ],
   "window_display": false
  }
 },
 "nbformat": 4,
 "nbformat_minor": 2
}
