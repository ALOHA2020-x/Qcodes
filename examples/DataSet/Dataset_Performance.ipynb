{
 "cells": [
  {
   "cell_type": "markdown",
   "metadata": {},
   "source": [
    "# DataSet Performance\n",
    "\n",
    "This notebook shows the trade-off between inserting data into a database row-by-row and as binary blobs. Inserting the data row-by-row means that we have direct access to all the data and may perform queries directly on the values of the data. On the other hand, as we shall see, this is much slower than inserting the data directly as binary blobs."
   ]
  },
  {
   "cell_type": "markdown",
   "metadata": {},
   "source": [
    "First, we choose a new location for the database to ensure that we don't add a bunch of benchmarking data to the default one."
   ]
  },
  {
   "cell_type": "code",
   "execution_count": 1,
   "metadata": {
    "execution": {
     "iopub.execute_input": "2021-05-06T07:26:17.455919Z",
     "iopub.status.busy": "2021-05-06T07:26:17.455231Z",
     "iopub.status.idle": "2021-05-06T07:26:18.813434Z",
     "shell.execute_reply": "2021-05-06T07:26:18.813987Z"
    }
   },
   "outputs": [
    {
     "name": "stdout",
     "output_type": "stream",
     "text": [
      "Logging hadn't been started.\n",
      "Activating auto-logging. Current session state plus future input saved.\n",
      "Filename       : /home/runner/.qcodes/logs/command_history.log\n",
      "Mode           : append\n",
      "Output logging : True\n",
      "Raw input log  : False\n",
      "Timestamping   : True\n",
      "State          : active\n"
     ]
    },
    {
     "name": "stdout",
     "output_type": "stream",
     "text": [
      "Qcodes Logfile : /home/runner/.qcodes/logs/210506-4482-qcodes.log\n"
     ]
    }
   ],
   "source": [
    "import os\n",
    "cwd = os.getcwd()\n",
    "import qcodes as qc\n",
    "qc.config[\"core\"][\"db_location\"] = os.path.join(cwd, 'testing.db')\n"
   ]
  },
  {
   "cell_type": "code",
   "execution_count": 2,
   "metadata": {
    "execution": {
     "iopub.execute_input": "2021-05-06T07:26:18.821168Z",
     "iopub.status.busy": "2021-05-06T07:26:18.819643Z",
     "iopub.status.idle": "2021-05-06T07:26:19.049160Z",
     "shell.execute_reply": "2021-05-06T07:26:19.049691Z"
    }
   },
   "outputs": [],
   "source": [
    "%matplotlib inline\n",
    "import time\n",
    "import matplotlib.pyplot as plt\n",
    "import numpy as np\n",
    "\n",
    "import qcodes as qc\n",
    "from qcodes.instrument.parameter import ManualParameter\n",
    "from qcodes.dataset.experiment_container import (Experiment,\n",
    "                                                 load_last_experiment,\n",
    "                                                 new_experiment)\n",
    "from qcodes.dataset.sqlite.database import initialise_database\n",
    "from qcodes import load_or_create_experiment\n",
    "from qcodes.dataset.measurements import Measurement"
   ]
  },
  {
   "cell_type": "code",
   "execution_count": 3,
   "metadata": {
    "execution": {
     "iopub.execute_input": "2021-05-06T07:26:19.054221Z",
     "iopub.status.busy": "2021-05-06T07:26:19.053430Z",
     "iopub.status.idle": "2021-05-06T07:26:19.129475Z",
     "shell.execute_reply": "2021-05-06T07:26:19.128861Z"
    }
   },
   "outputs": [
    {
     "name": "stdout",
     "output_type": "stream",
     "text": [
      "\r",
      "0it [00:00, ?it/s]"
     ]
    },
    {
     "name": "stdout",
     "output_type": "stream",
     "text": [
      "\r",
      "Upgrading database; v0 -> v1: : 0it [00:00, ?it/s]"
     ]
    },
    {
     "name": "stdout",
     "output_type": "stream",
     "text": [
      "\r",
      "Upgrading database; v0 -> v1: : 0it [00:00, ?it/s]"
     ]
    },
    {
     "name": "stdout",
     "output_type": "stream",
     "text": [
      "\n",
      "\r",
      "  0%|          | 0/1 [00:00<?, ?it/s]"
     ]
    },
    {
     "name": "stdout",
     "output_type": "stream",
     "text": [
      "\r",
      "Upgrading database; v1 -> v2:   0%|          | 0/1 [00:00<?, ?it/s]"
     ]
    },
    {
     "name": "stdout",
     "output_type": "stream",
     "text": [
      "\r",
      "Upgrading database; v1 -> v2: 100%|██████████| 1/1 [00:00<00:00, 482.66it/s]"
     ]
    },
    {
     "name": "stdout",
     "output_type": "stream",
     "text": [
      "\n",
      "\r",
      "0it [00:00, ?it/s]"
     ]
    },
    {
     "name": "stdout",
     "output_type": "stream",
     "text": [
      "\r",
      "Upgrading database; v2 -> v3: : 0it [00:00, ?it/s]"
     ]
    },
    {
     "name": "stdout",
     "output_type": "stream",
     "text": [
      "\r",
      "Upgrading database; v2 -> v3: : 0it [00:00, ?it/s]"
     ]
    },
    {
     "name": "stdout",
     "output_type": "stream",
     "text": [
      "\n",
      "\r",
      "0it [00:00, ?it/s]"
     ]
    },
    {
     "name": "stdout",
     "output_type": "stream",
     "text": [
      "\r",
      "Upgrading database; v3 -> v4: : 0it [00:00, ?it/s]"
     ]
    },
    {
     "name": "stdout",
     "output_type": "stream",
     "text": [
      "\r",
      "Upgrading database; v3 -> v4: : 0it [00:00, ?it/s]"
     ]
    },
    {
     "name": "stdout",
     "output_type": "stream",
     "text": [
      "\n",
      "\r",
      "  0%|          | 0/1 [00:00<?, ?it/s]"
     ]
    },
    {
     "name": "stdout",
     "output_type": "stream",
     "text": [
      "\r",
      "Upgrading database; v4 -> v5:   0%|          | 0/1 [00:00<?, ?it/s]"
     ]
    },
    {
     "name": "stdout",
     "output_type": "stream",
     "text": [
      "\r",
      "Upgrading database; v4 -> v5: 100%|██████████| 1/1 [00:00<00:00, 362.55it/s]"
     ]
    },
    {
     "name": "stdout",
     "output_type": "stream",
     "text": [
      "\n",
      "\r",
      "0it [00:00, ?it/s]"
     ]
    },
    {
     "name": "stdout",
     "output_type": "stream",
     "text": [
      "\r",
      "Upgrading database; v5 -> v6: : 0it [00:00, ?it/s]"
     ]
    },
    {
     "name": "stdout",
     "output_type": "stream",
     "text": [
      "\r",
      "Upgrading database; v5 -> v6: : 0it [00:00, ?it/s]"
     ]
    },
    {
     "name": "stdout",
     "output_type": "stream",
     "text": [
      "\n",
      "\r",
      "  0%|          | 0/1 [00:00<?, ?it/s]"
     ]
    },
    {
     "name": "stdout",
     "output_type": "stream",
     "text": [
      "\r",
      "Upgrading database; v6 -> v7:   0%|          | 0/1 [00:00<?, ?it/s]"
     ]
    },
    {
     "name": "stdout",
     "output_type": "stream",
     "text": [
      "\r",
      "Upgrading database; v6 -> v7: 100%|██████████| 1/1 [00:00<00:00, 429.22it/s]"
     ]
    },
    {
     "name": "stdout",
     "output_type": "stream",
     "text": [
      "\n",
      "\r",
      "  0%|          | 0/1 [00:00<?, ?it/s]"
     ]
    },
    {
     "name": "stdout",
     "output_type": "stream",
     "text": [
      "\r",
      "Upgrading database; v7 -> v8:   0%|          | 0/1 [00:00<?, ?it/s]"
     ]
    },
    {
     "name": "stdout",
     "output_type": "stream",
     "text": [
      "\r",
      "Upgrading database; v7 -> v8: 100%|██████████| 1/1 [00:00<00:00, 854.41it/s]"
     ]
    },
    {
     "name": "stdout",
     "output_type": "stream",
     "text": [
      "\n",
      "\r",
      "  0%|          | 0/1 [00:00<?, ?it/s]"
     ]
    },
    {
     "name": "stdout",
     "output_type": "stream",
     "text": [
      "\r",
      "Upgrading database; v8 -> v9:   0%|          | 0/1 [00:00<?, ?it/s]"
     ]
    },
    {
     "name": "stdout",
     "output_type": "stream",
     "text": [
      "\r",
      "Upgrading database; v8 -> v9: 100%|██████████| 1/1 [00:00<00:00, 996.98it/s]"
     ]
    },
    {
     "name": "stdout",
     "output_type": "stream",
     "text": [
      "\n"
     ]
    }
   ],
   "source": [
    "initialise_database()\n",
    "exp = load_or_create_experiment(experiment_name='tutorial_exp', sample_name=\"no sample\")"
   ]
  },
  {
   "cell_type": "markdown",
   "metadata": {},
   "source": [
    "Here, we define a simple function to benchmark the time it takes to insert n points with either numeric or array data type.\n",
    "We will compare both the time used to call ``add_result`` and the time used for the full measurement."
   ]
  },
  {
   "cell_type": "code",
   "execution_count": 4,
   "metadata": {
    "execution": {
     "iopub.execute_input": "2021-05-06T07:26:19.138657Z",
     "iopub.status.busy": "2021-05-06T07:26:19.137396Z",
     "iopub.status.idle": "2021-05-06T07:26:19.142300Z",
     "shell.execute_reply": "2021-05-06T07:26:19.141624Z"
    }
   },
   "outputs": [],
   "source": [
    "def insert_data(paramtype, npoints, nreps=1):\n",
    "\n",
    "    meas = Measurement(exp=exp)\n",
    "\n",
    "    x1 = ManualParameter('x1')\n",
    "    x2 = ManualParameter('x2')\n",
    "    x3 = ManualParameter('x3')\n",
    "    y1 = ManualParameter('y1')\n",
    "    y2 = ManualParameter('y2')\n",
    "\n",
    "    meas.register_parameter(x1, paramtype=paramtype)\n",
    "    meas.register_parameter(x2, paramtype=paramtype)\n",
    "    meas.register_parameter(x3, paramtype=paramtype)\n",
    "    meas.register_parameter(y1, setpoints=[x1, x2, x3],\n",
    "                            paramtype=paramtype)\n",
    "    meas.register_parameter(y2, setpoints=[x1, x2, x3],\n",
    "                            paramtype=paramtype)\n",
    "    start = time.perf_counter()\n",
    "    with meas.run() as datasaver:\n",
    "        start_adding = time.perf_counter()\n",
    "        for i in range(nreps):\n",
    "            datasaver.add_result((x1, np.random.rand(npoints)),\n",
    "                                 (x2, np.random.rand(npoints)),\n",
    "                                 (x3, np.random.rand(npoints)),\n",
    "                                 (y1, np.random.rand(npoints)),\n",
    "                                 (y2, np.random.rand(npoints)))\n",
    "        stop_adding = time.perf_counter()\n",
    "        run_id = datasaver.run_id\n",
    "    stop = time.perf_counter()\n",
    "    tot_time = stop - start\n",
    "    add_time = stop_adding - start_adding\n",
    "    return tot_time, add_time, run_id"
   ]
  },
  {
   "cell_type": "markdown",
   "metadata": {},
   "source": [
    "## Comparison between numeric/array data and binary blob"
   ]
  },
  {
   "cell_type": "markdown",
   "metadata": {},
   "source": [
    "### Case1: Short experiment time"
   ]
  },
  {
   "cell_type": "code",
   "execution_count": 5,
   "metadata": {
    "execution": {
     "iopub.execute_input": "2021-05-06T07:26:19.150233Z",
     "iopub.status.busy": "2021-05-06T07:26:19.149552Z",
     "iopub.status.idle": "2021-05-06T07:26:20.054153Z",
     "shell.execute_reply": "2021-05-06T07:26:20.054663Z"
    }
   },
   "outputs": [
    {
     "name": "stdout",
     "output_type": "stream",
     "text": [
      "Starting experimental run with id: 1. \n",
      "Starting experimental run with id: 2. \n",
      "Starting experimental run with id: 3. \n"
     ]
    },
    {
     "name": "stdout",
     "output_type": "stream",
     "text": [
      "Starting experimental run with id: 4. \n"
     ]
    },
    {
     "name": "stdout",
     "output_type": "stream",
     "text": [
      "Starting experimental run with id: 5. \n"
     ]
    },
    {
     "name": "stdout",
     "output_type": "stream",
     "text": [
      "Starting experimental run with id: 6. \n",
      "Starting experimental run with id: 7. \n",
      "Starting experimental run with id: 8. \n"
     ]
    },
    {
     "name": "stdout",
     "output_type": "stream",
     "text": [
      "Starting experimental run with id: 9. \n"
     ]
    },
    {
     "name": "stdout",
     "output_type": "stream",
     "text": [
      "Starting experimental run with id: 10. \n",
      "Starting experimental run with id: 11. \n"
     ]
    },
    {
     "name": "stdout",
     "output_type": "stream",
     "text": [
      "Starting experimental run with id: 12. \n"
     ]
    },
    {
     "name": "stdout",
     "output_type": "stream",
     "text": [
      "Starting experimental run with id: 13. \n"
     ]
    },
    {
     "name": "stdout",
     "output_type": "stream",
     "text": [
      "Starting experimental run with id: 14. \n"
     ]
    }
   ],
   "source": [
    "sizes = [1,500,1000,2000,3000,4000,5000]\n",
    "t_numeric = []\n",
    "t_numeric_add = []\n",
    "t_array = []\n",
    "t_array_add = []\n",
    "for size in sizes:\n",
    "    tn, tna, run_id_n =  insert_data('numeric', size)\n",
    "    t_numeric.append(tn)\n",
    "    t_numeric_add.append(tna)\n",
    "\n",
    "    ta, taa, run_id_a =  insert_data('array', size)\n",
    "    t_array.append(ta)\n",
    "    t_array_add.append(taa)"
   ]
  },
  {
   "cell_type": "code",
   "execution_count": 6,
   "metadata": {
    "execution": {
     "iopub.execute_input": "2021-05-06T07:26:20.092221Z",
     "iopub.status.busy": "2021-05-06T07:26:20.086142Z",
     "iopub.status.idle": "2021-05-06T07:26:20.358882Z",
     "shell.execute_reply": "2021-05-06T07:26:20.357881Z"
    }
   },
   "outputs": [
    {
     "data": {
      "image/png": "[encoded data removed]",
      "text/plain": [
       "<Figure size 640x480 with 1 Axes>"
      ]
     },
     "metadata": {},
     "output_type": "display_data"
    }
   ],
   "source": [
    "fig, ax = plt.subplots(1,1)\n",
    "ax.plot(sizes, t_numeric, 'o-', label='Inserting row-by-row')\n",
    "ax.plot(sizes, t_numeric_add, 'o-', label='Inserting row-by-row: add_result only')\n",
    "ax.plot(sizes, t_array, 'd-', label='Inserting as binary blob')\n",
    "ax.plot(sizes, t_array_add, 'd-', label='Inserting as binary blob: add_result only')\n",
    "ax.legend()\n",
    "ax.set_xlabel('Array length')\n",
    "ax.set_ylabel('Time (s)')\n",
    "fig.tight_layout()"
   ]
  },
  {
   "cell_type": "markdown",
   "metadata": {},
   "source": [
    "As shown in the latter figure, the time to setup and and close the experiment is approximately 0.4 sec. In case of small array sizes, the difference between inserting values of data as arrays and inserting them row-by-row is relatively unimportant. At larger array sizes, i.e. above 10000 points, the cost of writing data as individual datapoints starts to become important.\n"
   ]
  },
  {
   "cell_type": "markdown",
   "metadata": {},
   "source": [
    "### Case2: Long experiment time "
   ]
  },
  {
   "cell_type": "code",
   "execution_count": 7,
   "metadata": {
    "execution": {
     "iopub.execute_input": "2021-05-06T07:26:20.367626Z",
     "iopub.status.busy": "2021-05-06T07:26:20.366365Z",
     "iopub.status.idle": "2021-05-06T07:27:22.943293Z",
     "shell.execute_reply": "2021-05-06T07:27:22.942240Z"
    }
   },
   "outputs": [
    {
     "name": "stdout",
     "output_type": "stream",
     "text": [
      "Starting experimental run with id: 15. \n",
      "Starting experimental run with id: 16. \n"
     ]
    },
    {
     "name": "stdout",
     "output_type": "stream",
     "text": [
      "Starting experimental run with id: 17. \n"
     ]
    },
    {
     "name": "stdout",
     "output_type": "stream",
     "text": [
      "Starting experimental run with id: 18. \n"
     ]
    },
    {
     "name": "stdout",
     "output_type": "stream",
     "text": [
      "Starting experimental run with id: 19. \n"
     ]
    },
    {
     "name": "stdout",
     "output_type": "stream",
     "text": [
      "Starting experimental run with id: 20. \n"
     ]
    },
    {
     "name": "stdout",
     "output_type": "stream",
     "text": [
      "Starting experimental run with id: 21. \n"
     ]
    },
    {
     "name": "stdout",
     "output_type": "stream",
     "text": [
      "Starting experimental run with id: 22. \n"
     ]
    },
    {
     "name": "stdout",
     "output_type": "stream",
     "text": [
      "Starting experimental run with id: 23. \n"
     ]
    },
    {
     "name": "stdout",
     "output_type": "stream",
     "text": [
      "Starting experimental run with id: 24. \n"
     ]
    },
    {
     "name": "stdout",
     "output_type": "stream",
     "text": [
      "Starting experimental run with id: 25. \n"
     ]
    },
    {
     "name": "stdout",
     "output_type": "stream",
     "text": [
      "Starting experimental run with id: 26. \n"
     ]
    },
    {
     "name": "stdout",
     "output_type": "stream",
     "text": [
      "Starting experimental run with id: 27. \n"
     ]
    },
    {
     "name": "stdout",
     "output_type": "stream",
     "text": [
      "Starting experimental run with id: 28. \n"
     ]
    }
   ],
   "source": [
    "sizes = [1,500,1000,2000,3000,4000,5000]\n",
    "nreps = 100\n",
    "t_numeric = []\n",
    "t_numeric_add = []\n",
    "t_numeric_run_ids = []\n",
    "t_array = []\n",
    "t_array_add = []\n",
    "t_array_run_ids = []\n",
    "for size in sizes:\n",
    "    tn, tna, run_id_n =  insert_data('numeric', size, nreps=nreps)\n",
    "    t_numeric.append(tn)\n",
    "    t_numeric_add.append(tna)\n",
    "    t_numeric_run_ids.append(run_id_n)\n",
    "\n",
    "    ta, taa, run_id_a =  insert_data('array', size, nreps=nreps)\n",
    "    t_array.append(ta)\n",
    "    t_array_add.append(taa)\n",
    "    t_array_run_ids.append(run_id_a)"
   ]
  },
  {
   "cell_type": "code",
   "execution_count": 8,
   "metadata": {
    "execution": {
     "iopub.execute_input": "2021-05-06T07:27:22.978062Z",
     "iopub.status.busy": "2021-05-06T07:27:22.949470Z",
     "iopub.status.idle": "2021-05-06T07:27:23.230740Z",
     "shell.execute_reply": "2021-05-06T07:27:23.231295Z"
    },
    "scrolled": true
   },
   "outputs": [
    {
     "data": {
      "image/png": "[encoded data removed]",
      "text/plain": [
       "<Figure size 640x480 with 1 Axes>"
      ]
     },
     "metadata": {},
     "output_type": "display_data"
    }
   ],
   "source": [
    "fig, ax = plt.subplots(1,1)\n",
    "ax.plot(sizes, t_numeric, 'o-', label='Inserting row-by-row')\n",
    "ax.plot(sizes, t_numeric_add, 'o-', label='Inserting row-by-row: add_result only')\n",
    "ax.plot(sizes, t_array, 'd-', label='Inserting as binary blob')\n",
    "ax.plot(sizes, t_array_add, 'd-', label='Inserting as binary blob: add_result only')\n",
    "ax.legend()\n",
    "ax.set_xlabel('Array length')\n",
    "ax.set_ylabel('Time (s)')\n",
    "fig.tight_layout()"
   ]
  },
  {
   "cell_type": "markdown",
   "metadata": {},
   "source": [
    "However, as we increase the length of the experiment, as seen here by repeating the insertion 100 times, we see a big difference between inserting values of the data row-by-row and inserting it as a binary blob."
   ]
  },
  {
   "cell_type": "markdown",
   "metadata": {},
   "source": [
    "## Loading the data "
   ]
  },
  {
   "cell_type": "code",
   "execution_count": 9,
   "metadata": {
    "execution": {
     "iopub.execute_input": "2021-05-06T07:27:23.237699Z",
     "iopub.status.busy": "2021-05-06T07:27:23.236051Z",
     "iopub.status.idle": "2021-05-06T07:27:23.238423Z",
     "shell.execute_reply": "2021-05-06T07:27:23.238965Z"
    }
   },
   "outputs": [],
   "source": [
    "from qcodes.dataset.data_set import load_by_id"
   ]
  },
  {
   "cell_type": "markdown",
   "metadata": {},
   "source": [
    "As usual you can load the data by using the ``load_by_id`` function but you will notice that the different storage methods\n",
    "are reflected in shape of the data as it is retrieved. "
   ]
  },
  {
   "cell_type": "code",
   "execution_count": 10,
   "metadata": {
    "execution": {
     "iopub.execute_input": "2021-05-06T07:27:23.244157Z",
     "iopub.status.busy": "2021-05-06T07:27:23.242918Z",
     "iopub.status.idle": "2021-05-06T07:27:23.245383Z",
     "shell.execute_reply": "2021-05-06T07:27:23.245889Z"
    }
   },
   "outputs": [],
   "source": [
    "run_id_n = t_numeric_run_ids[0]\n",
    "run_id_a = t_array_run_ids[0]"
   ]
  },
  {
   "cell_type": "code",
   "execution_count": 11,
   "metadata": {
    "execution": {
     "iopub.execute_input": "2021-05-06T07:27:23.249829Z",
     "iopub.status.busy": "2021-05-06T07:27:23.249184Z",
     "iopub.status.idle": "2021-05-06T07:27:23.260676Z",
     "shell.execute_reply": "2021-05-06T07:27:23.261223Z"
    },
    "scrolled": true
   },
   "outputs": [
    {
     "data": {
      "text/plain": [
       "{'x1': {'x1': array([0.02920861, 0.02920861, 0.36545036, 0.36545036, 0.84452068,\n",
       "         0.84452068, 0.07327761, 0.07327761, 0.74012218, 0.74012218,\n",
       "         0.10820685, 0.10820685, 0.63828289, 0.63828289, 0.88036761,\n",
       "         0.88036761, 0.20649467, 0.20649467, 0.87239327, 0.87239327,\n",
       "         0.19462377, 0.19462377, 0.04251511, 0.04251511, 0.2862628 ,\n",
       "         0.2862628 , 0.31808611, 0.31808611, 0.14890871, 0.14890871,\n",
       "         0.91120213, 0.91120213, 0.74785617, 0.74785617, 0.27050865,\n",
       "         0.27050865, 0.37795507, 0.37795507, 0.5214961 , 0.5214961 ,\n",
       "         0.8350582 , 0.8350582 , 0.13516392, 0.13516392, 0.82452576,\n",
       "         0.82452576, 0.30554822, 0.30554822, 0.85245487, 0.85245487,\n",
       "         0.09040008, 0.09040008, 0.37419103, 0.37419103, 0.71323795,\n",
       "         0.71323795, 0.5733353 , 0.5733353 , 0.11477902, 0.11477902,\n",
       "         0.17418287, 0.17418287, 0.8408897 , 0.8408897 , 0.82332714,\n",
       "         0.82332714, 0.92681728, 0.92681728, 0.76951069, 0.76951069,\n",
       "         0.7743255 , 0.7743255 , 0.26334175, 0.26334175, 0.17261428,\n",
       "         0.17261428, 0.67317329, 0.67317329, 0.84692012, 0.84692012,\n",
       "         0.3021638 , 0.3021638 , 0.43547034, 0.43547034, 0.30819622,\n",
       "         0.30819622, 0.46800438, 0.46800438, 0.77691609, 0.77691609,\n",
       "         0.43740779, 0.43740779, 0.49111393, 0.49111393, 0.64322627,\n",
       "         0.64322627, 0.85851164, 0.85851164, 0.20148294, 0.20148294,\n",
       "         0.84705257, 0.84705257, 0.0999691 , 0.0999691 , 0.88185478,\n",
       "         0.88185478, 0.36119252, 0.36119252, 0.13747713, 0.13747713,\n",
       "         0.39886477, 0.39886477, 0.59136748, 0.59136748, 0.16017418,\n",
       "         0.16017418, 0.9971334 , 0.9971334 , 0.63701163, 0.63701163,\n",
       "         0.36389208, 0.36389208, 0.36083258, 0.36083258, 0.31914206,\n",
       "         0.31914206, 0.94719923, 0.94719923, 0.45237086, 0.45237086,\n",
       "         0.18268642, 0.18268642, 0.9562454 , 0.9562454 , 0.27641559,\n",
       "         0.27641559, 0.63351169, 0.63351169, 0.95194858, 0.95194858,\n",
       "         0.90824208, 0.90824208, 0.78551584, 0.78551584, 0.37543366,\n",
       "         0.37543366, 0.27452156, 0.27452156, 0.84088077, 0.84088077,\n",
       "         0.08186443, 0.08186443, 0.84906449, 0.84906449, 0.55624962,\n",
       "         0.55624962, 0.96751397, 0.96751397, 0.53030265, 0.53030265,\n",
       "         0.5770184 , 0.5770184 , 0.33058083, 0.33058083, 0.73324884,\n",
       "         0.73324884, 0.93298154, 0.93298154, 0.81523297, 0.81523297,\n",
       "         0.70623665, 0.70623665, 0.40576901, 0.40576901, 0.29960417,\n",
       "         0.29960417, 0.66665859, 0.66665859, 0.74015129, 0.74015129,\n",
       "         0.60435497, 0.60435497, 0.50547501, 0.50547501, 0.56321759,\n",
       "         0.56321759, 0.61201903, 0.61201903, 0.1321868 , 0.1321868 ,\n",
       "         0.57051516, 0.57051516, 0.60551092, 0.60551092, 0.81313292,\n",
       "         0.81313292, 0.22269416, 0.22269416, 0.63143359, 0.63143359])}}"
      ]
     },
     "execution_count": 1,
     "metadata": {},
     "output_type": "execute_result"
    }
   ],
   "source": [
    "ds = load_by_id(run_id_n)\n",
    "ds.get_parameter_data('x1')"
   ]
  },
  {
   "cell_type": "markdown",
   "metadata": {},
   "source": [
    "And a dataset stored as binary arrays"
   ]
  },
  {
   "cell_type": "code",
   "execution_count": 12,
   "metadata": {
    "execution": {
     "iopub.execute_input": "2021-05-06T07:27:23.265179Z",
     "iopub.status.busy": "2021-05-06T07:27:23.264523Z",
     "iopub.status.idle": "2021-05-06T07:27:23.338627Z",
     "shell.execute_reply": "2021-05-06T07:27:23.339182Z"
    },
    "scrolled": true
   },
   "outputs": [
    {
     "data": {
      "text/plain": [
       "{'x1': {'x1': array([[0.58799821],\n",
       "         [0.58799821],\n",
       "         [0.65357842],\n",
       "         [0.65357842],\n",
       "         [0.4105622 ],\n",
       "         [0.4105622 ],\n",
       "         [0.76844166],\n",
       "         [0.76844166],\n",
       "         [0.7043696 ],\n",
       "         [0.7043696 ],\n",
       "         [0.60912537],\n",
       "         [0.60912537],\n",
       "         [0.23315571],\n",
       "         [0.23315571],\n",
       "         [0.25832946],\n",
       "         [0.25832946],\n",
       "         [0.1741025 ],\n",
       "         [0.1741025 ],\n",
       "         [0.42182328],\n",
       "         [0.42182328],\n",
       "         [0.28790042],\n",
       "         [0.28790042],\n",
       "         [0.21303866],\n",
       "         [0.21303866],\n",
       "         [0.27386802],\n",
       "         [0.27386802],\n",
       "         [0.10086503],\n",
       "         [0.10086503],\n",
       "         [0.51638752],\n",
       "         [0.51638752],\n",
       "         [0.59412076],\n",
       "         [0.59412076],\n",
       "         [0.32824464],\n",
       "         [0.32824464],\n",
       "         [0.46845714],\n",
       "         [0.46845714],\n",
       "         [0.93258093],\n",
       "         [0.93258093],\n",
       "         [0.92612263],\n",
       "         [0.92612263],\n",
       "         [0.42298094],\n",
       "         [0.42298094],\n",
       "         [0.47649376],\n",
       "         [0.47649376],\n",
       "         [0.99524066],\n",
       "         [0.99524066],\n",
       "         [0.92241628],\n",
       "         [0.92241628],\n",
       "         [0.41713022],\n",
       "         [0.41713022],\n",
       "         [0.98588429],\n",
       "         [0.98588429],\n",
       "         [0.0276822 ],\n",
       "         [0.0276822 ],\n",
       "         [0.94117418],\n",
       "         [0.94117418],\n",
       "         [0.71318765],\n",
       "         [0.71318765],\n",
       "         [0.38077602],\n",
       "         [0.38077602],\n",
       "         [0.3459097 ],\n",
       "         [0.3459097 ],\n",
       "         [0.7710544 ],\n",
       "         [0.7710544 ],\n",
       "         [0.66897833],\n",
       "         [0.66897833],\n",
       "         [0.43615286],\n",
       "         [0.43615286],\n",
       "         [0.36192348],\n",
       "         [0.36192348],\n",
       "         [0.6763198 ],\n",
       "         [0.6763198 ],\n",
       "         [0.84225798],\n",
       "         [0.84225798],\n",
       "         [0.58858097],\n",
       "         [0.58858097],\n",
       "         [0.23185752],\n",
       "         [0.23185752],\n",
       "         [0.3161627 ],\n",
       "         [0.3161627 ],\n",
       "         [0.3551088 ],\n",
       "         [0.3551088 ],\n",
       "         [0.30519286],\n",
       "         [0.30519286],\n",
       "         [0.54848317],\n",
       "         [0.54848317],\n",
       "         [0.76738348],\n",
       "         [0.76738348],\n",
       "         [0.08281001],\n",
       "         [0.08281001],\n",
       "         [0.63146055],\n",
       "         [0.63146055],\n",
       "         [0.16247979],\n",
       "         [0.16247979],\n",
       "         [0.75112334],\n",
       "         [0.75112334],\n",
       "         [0.26067416],\n",
       "         [0.26067416],\n",
       "         [0.46576749],\n",
       "         [0.46576749],\n",
       "         [0.34732602],\n",
       "         [0.34732602],\n",
       "         [0.33486538],\n",
       "         [0.33486538],\n",
       "         [0.82560588],\n",
       "         [0.82560588],\n",
       "         [0.11597532],\n",
       "         [0.11597532],\n",
       "         [0.09619131],\n",
       "         [0.09619131],\n",
       "         [0.46223204],\n",
       "         [0.46223204],\n",
       "         [0.9062516 ],\n",
       "         [0.9062516 ],\n",
       "         [0.0725042 ],\n",
       "         [0.0725042 ],\n",
       "         [0.06025448],\n",
       "         [0.06025448],\n",
       "         [0.91514125],\n",
       "         [0.91514125],\n",
       "         [0.527232  ],\n",
       "         [0.527232  ],\n",
       "         [0.03462086],\n",
       "         [0.03462086],\n",
       "         [0.12438284],\n",
       "         [0.12438284],\n",
       "         [0.36478579],\n",
       "         [0.36478579],\n",
       "         [0.9979155 ],\n",
       "         [0.9979155 ],\n",
       "         [0.17355748],\n",
       "         [0.17355748],\n",
       "         [0.751263  ],\n",
       "         [0.751263  ],\n",
       "         [0.03332422],\n",
       "         [0.03332422],\n",
       "         [0.22386   ],\n",
       "         [0.22386   ],\n",
       "         [0.7709207 ],\n",
       "         [0.7709207 ],\n",
       "         [0.31621163],\n",
       "         [0.31621163],\n",
       "         [0.41717061],\n",
       "         [0.41717061],\n",
       "         [0.939828  ],\n",
       "         [0.939828  ],\n",
       "         [0.52978224],\n",
       "         [0.52978224],\n",
       "         [0.51960439],\n",
       "         [0.51960439],\n",
       "         [0.15599927],\n",
       "         [0.15599927],\n",
       "         [0.63533616],\n",
       "         [0.63533616],\n",
       "         [0.94811512],\n",
       "         [0.94811512],\n",
       "         [0.24492941],\n",
       "         [0.24492941],\n",
       "         [0.51979575],\n",
       "         [0.51979575],\n",
       "         [0.72843143],\n",
       "         [0.72843143],\n",
       "         [0.95136634],\n",
       "         [0.95136634],\n",
       "         [0.90317383],\n",
       "         [0.90317383],\n",
       "         [0.21846057],\n",
       "         [0.21846057],\n",
       "         [0.4220226 ],\n",
       "         [0.4220226 ],\n",
       "         [0.76732795],\n",
       "         [0.76732795],\n",
       "         [0.07840543],\n",
       "         [0.07840543],\n",
       "         [0.09807862],\n",
       "         [0.09807862],\n",
       "         [0.77735233],\n",
       "         [0.77735233],\n",
       "         [0.33476074],\n",
       "         [0.33476074],\n",
       "         [0.2960807 ],\n",
       "         [0.2960807 ],\n",
       "         [0.40968795],\n",
       "         [0.40968795],\n",
       "         [0.57514924],\n",
       "         [0.57514924],\n",
       "         [0.95625051],\n",
       "         [0.95625051],\n",
       "         [0.94647543],\n",
       "         [0.94647543],\n",
       "         [0.88824255],\n",
       "         [0.88824255],\n",
       "         [0.7967666 ],\n",
       "         [0.7967666 ],\n",
       "         [0.80300733],\n",
       "         [0.80300733],\n",
       "         [0.01179056],\n",
       "         [0.01179056],\n",
       "         [0.82248843],\n",
       "         [0.82248843]])}}"
      ]
     },
     "execution_count": 1,
     "metadata": {},
     "output_type": "execute_result"
    }
   ],
   "source": [
    "ds = load_by_id(run_id_a)\n",
    "ds.get_parameter_data('x1')"
   ]
  },
  {
   "cell_type": "code",
   "execution_count": null,
   "metadata": {},
   "outputs": [],
   "source": []
  }
 ],
 "metadata": {
  "kernelspec": {
   "display_name": "Python 3",
   "language": "python",
   "name": "python3"
  },
  "language_info": {
   "codemirror_mode": {
    "name": "ipython",
    "version": 3
   },
   "file_extension": ".py",
   "mimetype": "text/x-python",
   "name": "python",
   "nbconvert_exporter": "python",
   "pygments_lexer": "ipython3",
   "version": "3.7.10"
  },
  "nbsphinx": {
   "timeout": 600
  },
  "toc": {
   "base_numbering": 1,
   "nav_menu": {},
   "number_sections": true,
   "sideBar": true,
   "skip_h1_title": false,
   "title_cell": "Table of Contents",
   "title_sidebar": "Contents",
   "toc_cell": false,
   "toc_position": {},
   "toc_section_display": true,
   "toc_window_display": false
  },
  "varInspector": {
   "cols": {
    "lenName": 16,
    "lenType": 16,
    "lenVar": 40
   },
   "kernels_config": {
    "python": {
     "delete_cmd_postfix": "",
     "delete_cmd_prefix": "del ",
     "library": "var_list.py",
     "varRefreshCmd": "print(var_dic_list())"
    },
    "r": {
     "delete_cmd_postfix": ") ",
     "delete_cmd_prefix": "rm(",
     "library": "var_list.r",
     "varRefreshCmd": "cat(var_dic_list()) "
    }
   },
   "types_to_exclude": [
    "module",
    "function",
    "builtin_function_or_method",
    "instance",
    "_Feature"
   ],
   "window_display": false
  }
 },
 "nbformat": 4,
 "nbformat_minor": 4
}
