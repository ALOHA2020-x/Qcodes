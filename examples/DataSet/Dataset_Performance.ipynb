{
 "cells": [
  {
   "cell_type": "markdown",
   "metadata": {},
   "source": [
    "# DataSet Performance\n",
    "\n",
    "This notebook shows the trade-off between inserting data into a database row-by-row and as binary blobs. Inserting the data row-by-row means that we have direct access to all the data and may perform queries directly on the values of the data. On the other hand, as we shall see, this is much slower than inserting the data directly as binary blobs."
   ]
  },
  {
   "cell_type": "markdown",
   "metadata": {},
   "source": [
    "First, we choose a new location for the database to ensure that we don't add a bunch of benchmarking data to the default one."
   ]
  },
  {
   "cell_type": "code",
   "execution_count": 1,
   "metadata": {
    "execution": {
     "iopub.execute_input": "2020-10-03T17:22:24.380780Z",
     "iopub.status.busy": "2020-10-03T17:22:24.379915Z",
     "iopub.status.idle": "2020-10-03T17:22:25.249859Z",
     "shell.execute_reply": "2020-10-03T17:22:25.249299Z"
    }
   },
   "outputs": [
    {
     "name": "stdout",
     "output_type": "stream",
     "text": [
      "Logging hadn't been started.\n",
      "Activating auto-logging. Current session state plus future input saved.\n",
      "Filename       : /home/vsts/.qcodes/logs/command_history.log\n",
      "Mode           : append\n",
      "Output logging : True\n",
      "Raw input log  : False\n",
      "Timestamping   : True\n",
      "State          : active\n"
     ]
    },
    {
     "name": "stdout",
     "output_type": "stream",
     "text": [
      "Qcodes Logfile : /home/vsts/.qcodes/logs/201003-18748-qcodes.log\n"
     ]
    }
   ],
   "source": [
    "import os\n",
    "cwd = os.getcwd()\n",
    "import qcodes as qc\n",
    "qc.config[\"core\"][\"db_location\"] = os.path.join(cwd, 'testing.db')\n"
   ]
  },
  {
   "cell_type": "code",
   "execution_count": 2,
   "metadata": {
    "execution": {
     "iopub.execute_input": "2020-10-03T17:22:25.255102Z",
     "iopub.status.busy": "2020-10-03T17:22:25.254353Z",
     "iopub.status.idle": "2020-10-03T17:22:25.404675Z",
     "shell.execute_reply": "2020-10-03T17:22:25.403938Z"
    }
   },
   "outputs": [],
   "source": [
    "%matplotlib inline\n",
    "import time\n",
    "import matplotlib.pyplot as plt\n",
    "import numpy as np\n",
    "\n",
    "import qcodes as qc\n",
    "from qcodes.instrument.parameter import ManualParameter\n",
    "from qcodes.dataset.experiment_container import (Experiment,\n",
    "                                                 load_last_experiment,\n",
    "                                                 new_experiment)\n",
    "from qcodes.dataset.sqlite.database import initialise_database\n",
    "from qcodes import load_or_create_experiment\n",
    "from qcodes.dataset.measurements import Measurement"
   ]
  },
  {
   "cell_type": "code",
   "execution_count": 3,
   "metadata": {
    "execution": {
     "iopub.execute_input": "2020-10-03T17:22:25.408315Z",
     "iopub.status.busy": "2020-10-03T17:22:25.407548Z",
     "iopub.status.idle": "2020-10-03T17:22:25.509797Z",
     "shell.execute_reply": "2020-10-03T17:22:25.509295Z"
    }
   },
   "outputs": [
    {
     "name": "stdout",
     "output_type": "stream",
     "text": [
      "\r",
      "0it [00:00, ?it/s]"
     ]
    },
    {
     "name": "stdout",
     "output_type": "stream",
     "text": [
      "\r",
      "Upgrading database; v0 -> v1: : 0it [00:00, ?it/s]"
     ]
    },
    {
     "name": "stdout",
     "output_type": "stream",
     "text": [
      "\r",
      "Upgrading database; v0 -> v1: : 0it [00:00, ?it/s]"
     ]
    },
    {
     "name": "stdout",
     "output_type": "stream",
     "text": [
      "\n",
      "\r",
      "  0%|          | 0/1 [00:00<?, ?it/s]"
     ]
    },
    {
     "name": "stdout",
     "output_type": "stream",
     "text": [
      "\r",
      "Upgrading database; v1 -> v2:   0%|          | 0/1 [00:00<?, ?it/s]"
     ]
    },
    {
     "name": "stdout",
     "output_type": "stream",
     "text": [
      "\r",
      "Upgrading database; v1 -> v2: 100%|██████████| 1/1 [00:00<00:00, 545.64it/s]"
     ]
    },
    {
     "name": "stdout",
     "output_type": "stream",
     "text": [
      "\n",
      "\r",
      "0it [00:00, ?it/s]"
     ]
    },
    {
     "name": "stdout",
     "output_type": "stream",
     "text": [
      "\r",
      "Upgrading database; v2 -> v3: : 0it [00:00, ?it/s]"
     ]
    },
    {
     "name": "stdout",
     "output_type": "stream",
     "text": [
      "\r",
      "Upgrading database; v2 -> v3: : 0it [00:00, ?it/s]"
     ]
    },
    {
     "name": "stdout",
     "output_type": "stream",
     "text": [
      "\n",
      "\r",
      "0it [00:00, ?it/s]"
     ]
    },
    {
     "name": "stdout",
     "output_type": "stream",
     "text": [
      "\r",
      "Upgrading database; v3 -> v4: : 0it [00:00, ?it/s]"
     ]
    },
    {
     "name": "stdout",
     "output_type": "stream",
     "text": [
      "\r",
      "Upgrading database; v3 -> v4: : 0it [00:00, ?it/s]"
     ]
    },
    {
     "name": "stdout",
     "output_type": "stream",
     "text": [
      "\n",
      "\r",
      "  0%|          | 0/1 [00:00<?, ?it/s]"
     ]
    },
    {
     "name": "stdout",
     "output_type": "stream",
     "text": [
      "\r",
      "Upgrading database; v4 -> v5:   0%|          | 0/1 [00:00<?, ?it/s]"
     ]
    },
    {
     "name": "stdout",
     "output_type": "stream",
     "text": [
      "\r",
      "Upgrading database; v4 -> v5: 100%|██████████| 1/1 [00:00<00:00, 595.27it/s]"
     ]
    },
    {
     "name": "stdout",
     "output_type": "stream",
     "text": [
      "\n",
      "\r",
      "0it [00:00, ?it/s]"
     ]
    },
    {
     "name": "stdout",
     "output_type": "stream",
     "text": [
      "\r",
      "Upgrading database; v5 -> v6: : 0it [00:00, ?it/s]"
     ]
    },
    {
     "name": "stdout",
     "output_type": "stream",
     "text": [
      "\r",
      "Upgrading database; v5 -> v6: : 0it [00:00, ?it/s]"
     ]
    },
    {
     "name": "stdout",
     "output_type": "stream",
     "text": [
      "\n",
      "\r",
      "  0%|          | 0/1 [00:00<?, ?it/s]"
     ]
    },
    {
     "name": "stdout",
     "output_type": "stream",
     "text": [
      "\r",
      "Upgrading database; v6 -> v7:   0%|          | 0/1 [00:00<?, ?it/s]"
     ]
    },
    {
     "name": "stdout",
     "output_type": "stream",
     "text": [
      "\r",
      "Upgrading database; v6 -> v7: 100%|██████████| 1/1 [00:00<00:00, 290.75it/s]"
     ]
    },
    {
     "name": "stdout",
     "output_type": "stream",
     "text": [
      "\n",
      "\r",
      "  0%|          | 0/1 [00:00<?, ?it/s]"
     ]
    },
    {
     "name": "stdout",
     "output_type": "stream",
     "text": [
      "\r",
      "Upgrading database; v7 -> v8:   0%|          | 0/1 [00:00<?, ?it/s]"
     ]
    },
    {
     "name": "stdout",
     "output_type": "stream",
     "text": [
      "\r",
      "Upgrading database; v7 -> v8: 100%|██████████| 1/1 [00:00<00:00, 406.07it/s]"
     ]
    },
    {
     "name": "stdout",
     "output_type": "stream",
     "text": [
      "\n",
      "\r",
      "  0%|          | 0/1 [00:00<?, ?it/s]"
     ]
    },
    {
     "name": "stdout",
     "output_type": "stream",
     "text": [
      "\r",
      "Upgrading database; v8 -> v9:   0%|          | 0/1 [00:00<?, ?it/s]"
     ]
    },
    {
     "name": "stdout",
     "output_type": "stream",
     "text": [
      "\r",
      "Upgrading database; v8 -> v9: 100%|██████████| 1/1 [00:00<00:00, 458.90it/s]"
     ]
    },
    {
     "name": "stdout",
     "output_type": "stream",
     "text": [
      "\n"
     ]
    }
   ],
   "source": [
    "initialise_database()\n",
    "exp = load_or_create_experiment(experiment_name='tutorial_exp', sample_name=\"no sample\")"
   ]
  },
  {
   "cell_type": "markdown",
   "metadata": {},
   "source": [
    "Here, we define a simple function to benchmark the time it takes to insert n points with either numeric or array data type.\n",
    "We will compare both the time used to call ``add_result`` and the time used for the full measurement."
   ]
  },
  {
   "cell_type": "code",
   "execution_count": 4,
   "metadata": {
    "execution": {
     "iopub.execute_input": "2020-10-03T17:22:25.516812Z",
     "iopub.status.busy": "2020-10-03T17:22:25.516327Z",
     "iopub.status.idle": "2020-10-03T17:22:25.519235Z",
     "shell.execute_reply": "2020-10-03T17:22:25.519823Z"
    }
   },
   "outputs": [],
   "source": [
    "def insert_data(paramtype, npoints, nreps=1):\n",
    "\n",
    "    meas = Measurement(exp=exp)\n",
    "\n",
    "    x1 = ManualParameter('x1')\n",
    "    x2 = ManualParameter('x2')\n",
    "    x3 = ManualParameter('x3')\n",
    "    y1 = ManualParameter('y1')\n",
    "    y2 = ManualParameter('y2')\n",
    "\n",
    "    meas.register_parameter(x1, paramtype=paramtype)\n",
    "    meas.register_parameter(x2, paramtype=paramtype)\n",
    "    meas.register_parameter(x3, paramtype=paramtype)\n",
    "    meas.register_parameter(y1, setpoints=[x1, x2, x3],\n",
    "                            paramtype=paramtype)\n",
    "    meas.register_parameter(y2, setpoints=[x1, x2, x3],\n",
    "                            paramtype=paramtype)\n",
    "    start = time.perf_counter()\n",
    "    with meas.run() as datasaver:\n",
    "        start_adding = time.perf_counter()\n",
    "        for i in range(nreps):\n",
    "            datasaver.add_result((x1, np.random.rand(npoints)),\n",
    "                                 (x2, np.random.rand(npoints)),\n",
    "                                 (x3, np.random.rand(npoints)),\n",
    "                                 (y1, np.random.rand(npoints)),\n",
    "                                 (y2, np.random.rand(npoints)))\n",
    "        stop_adding = time.perf_counter()\n",
    "        run_id = datasaver.run_id\n",
    "    stop = time.perf_counter()\n",
    "    tot_time = stop - start\n",
    "    add_time = stop_adding - start_adding\n",
    "    return tot_time, add_time, run_id"
   ]
  },
  {
   "cell_type": "markdown",
   "metadata": {},
   "source": [
    "## Comparison between numeric/array data and binary blob"
   ]
  },
  {
   "cell_type": "markdown",
   "metadata": {},
   "source": [
    "### Case1: Short experiment time"
   ]
  },
  {
   "cell_type": "code",
   "execution_count": 5,
   "metadata": {
    "execution": {
     "iopub.execute_input": "2020-10-03T17:22:25.525254Z",
     "iopub.status.busy": "2020-10-03T17:22:25.524572Z",
     "iopub.status.idle": "2020-10-03T17:22:26.161683Z",
     "shell.execute_reply": "2020-10-03T17:22:26.161249Z"
    }
   },
   "outputs": [
    {
     "name": "stdout",
     "output_type": "stream",
     "text": [
      "Starting experimental run with id: 1. \n",
      "Starting experimental run with id: 2. \n",
      "Starting experimental run with id: 3. \n",
      "Starting experimental run with id: 4. \n",
      "Starting experimental run with id: 5. \n"
     ]
    },
    {
     "name": "stdout",
     "output_type": "stream",
     "text": [
      "Starting experimental run with id: 6. \n"
     ]
    },
    {
     "name": "stdout",
     "output_type": "stream",
     "text": [
      "Starting experimental run with id: 7. \n"
     ]
    },
    {
     "name": "stdout",
     "output_type": "stream",
     "text": [
      "Starting experimental run with id: 8. \n"
     ]
    },
    {
     "name": "stdout",
     "output_type": "stream",
     "text": [
      "Starting experimental run with id: 9. \n",
      "Starting experimental run with id: 10. \n"
     ]
    },
    {
     "name": "stdout",
     "output_type": "stream",
     "text": [
      "Starting experimental run with id: 11. \n"
     ]
    },
    {
     "name": "stdout",
     "output_type": "stream",
     "text": [
      "Starting experimental run with id: 12. \n",
      "Starting experimental run with id: 13. \n"
     ]
    },
    {
     "name": "stdout",
     "output_type": "stream",
     "text": [
      "Starting experimental run with id: 14. \n"
     ]
    }
   ],
   "source": [
    "sizes = [1,500,1000,2000,3000,4000,5000]\n",
    "t_numeric = []\n",
    "t_numeric_add = []\n",
    "t_array = []\n",
    "t_array_add = []\n",
    "for size in sizes:\n",
    "    tn, tna, run_id_n =  insert_data('numeric', size)\n",
    "    t_numeric.append(tn)\n",
    "    t_numeric_add.append(tna)\n",
    "\n",
    "    ta, taa, run_id_a =  insert_data('array', size)\n",
    "    t_array.append(ta)\n",
    "    t_array_add.append(taa)"
   ]
  },
  {
   "cell_type": "code",
   "execution_count": 6,
   "metadata": {
    "execution": {
     "iopub.execute_input": "2020-10-03T17:22:26.176753Z",
     "iopub.status.busy": "2020-10-03T17:22:26.176288Z",
     "iopub.status.idle": "2020-10-03T17:22:26.373759Z",
     "shell.execute_reply": "2020-10-03T17:22:26.374218Z"
    }
   },
   "outputs": [
    {
     "data": {
      "image/png": "[encoded data removed]",
      "text/plain": [
       "<Figure size 432x288 with 1 Axes>"
      ]
     },
     "metadata": {
      "needs_background": "light"
     },
     "output_type": "display_data"
    }
   ],
   "source": [
    "fig, ax = plt.subplots(1,1)\n",
    "ax.plot(sizes, t_numeric, 'o-', label='Inserting row-by-row')\n",
    "ax.plot(sizes, t_numeric_add, 'o-', label='Inserting row-by-row: add_result only')\n",
    "ax.plot(sizes, t_array, 'd-', label='Inserting as binary blob')\n",
    "ax.plot(sizes, t_array_add, 'd-', label='Inserting as binary blob: add_result only')\n",
    "ax.legend()\n",
    "ax.set_xlabel('Array length')\n",
    "ax.set_ylabel('Time (s)')\n",
    "fig.tight_layout()"
   ]
  },
  {
   "cell_type": "markdown",
   "metadata": {},
   "source": [
    "As shown in the latter figure, the time to setup and and close the experiment is approximately 0.4 sec. In case of small array sizes, the difference between inserting values of data as arrays and inserting them row-by-row is relatively unimportant. At larger array sizes, i.e. above 10000 points, the cost of writing data as individual datapoints starts to become important.\n"
   ]
  },
  {
   "cell_type": "markdown",
   "metadata": {},
   "source": [
    "### Case2: Long experiment time "
   ]
  },
  {
   "cell_type": "code",
   "execution_count": 7,
   "metadata": {
    "execution": {
     "iopub.execute_input": "2020-10-03T17:22:26.381393Z",
     "iopub.status.busy": "2020-10-03T17:22:26.380292Z",
     "iopub.status.idle": "2020-10-03T17:23:14.497146Z",
     "shell.execute_reply": "2020-10-03T17:23:14.497634Z"
    }
   },
   "outputs": [
    {
     "name": "stdout",
     "output_type": "stream",
     "text": [
      "Starting experimental run with id: 15. \n",
      "Starting experimental run with id: 16. \n",
      "Starting experimental run with id: 17. \n"
     ]
    },
    {
     "name": "stdout",
     "output_type": "stream",
     "text": [
      "Starting experimental run with id: 18. \n",
      "Starting experimental run with id: 19. \n"
     ]
    },
    {
     "name": "stdout",
     "output_type": "stream",
     "text": [
      "Starting experimental run with id: 20. \n"
     ]
    },
    {
     "name": "stdout",
     "output_type": "stream",
     "text": [
      "Starting experimental run with id: 21. \n"
     ]
    },
    {
     "name": "stdout",
     "output_type": "stream",
     "text": [
      "Starting experimental run with id: 22. \n"
     ]
    },
    {
     "name": "stdout",
     "output_type": "stream",
     "text": [
      "Starting experimental run with id: 23. \n"
     ]
    },
    {
     "name": "stdout",
     "output_type": "stream",
     "text": [
      "Starting experimental run with id: 24. \n"
     ]
    },
    {
     "name": "stdout",
     "output_type": "stream",
     "text": [
      "Starting experimental run with id: 25. \n"
     ]
    },
    {
     "name": "stdout",
     "output_type": "stream",
     "text": [
      "Starting experimental run with id: 26. \n"
     ]
    },
    {
     "name": "stdout",
     "output_type": "stream",
     "text": [
      "Starting experimental run with id: 27. \n"
     ]
    },
    {
     "name": "stdout",
     "output_type": "stream",
     "text": [
      "Starting experimental run with id: 28. \n"
     ]
    }
   ],
   "source": [
    "sizes = [1,500,1000,2000,3000,4000,5000]\n",
    "nreps = 100\n",
    "t_numeric = []\n",
    "t_numeric_add = []\n",
    "t_numeric_run_ids = []\n",
    "t_array = []\n",
    "t_array_add = []\n",
    "t_array_run_ids = []\n",
    "for size in sizes:\n",
    "    tn, tna, run_id_n =  insert_data('numeric', size, nreps=nreps)\n",
    "    t_numeric.append(tn)\n",
    "    t_numeric_add.append(tna)\n",
    "    t_numeric_run_ids.append(run_id_n)\n",
    "\n",
    "    ta, taa, run_id_a =  insert_data('array', size, nreps=nreps)\n",
    "    t_array.append(ta)\n",
    "    t_array_add.append(taa)\n",
    "    t_array_run_ids.append(run_id_a)"
   ]
  },
  {
   "cell_type": "code",
   "execution_count": 8,
   "metadata": {
    "execution": {
     "iopub.execute_input": "2020-10-03T17:23:14.523288Z",
     "iopub.status.busy": "2020-10-03T17:23:14.518250Z",
     "iopub.status.idle": "2020-10-03T17:23:14.711118Z",
     "shell.execute_reply": "2020-10-03T17:23:14.710712Z"
    },
    "scrolled": true
   },
   "outputs": [
    {
     "data": {
      "image/png": "[encoded data removed]",
      "text/plain": [
       "<Figure size 432x288 with 1 Axes>"
      ]
     },
     "metadata": {
      "needs_background": "light"
     },
     "output_type": "display_data"
    }
   ],
   "source": [
    "fig, ax = plt.subplots(1,1)\n",
    "ax.plot(sizes, t_numeric, 'o-', label='Inserting row-by-row')\n",
    "ax.plot(sizes, t_numeric_add, 'o-', label='Inserting row-by-row: add_result only')\n",
    "ax.plot(sizes, t_array, 'd-', label='Inserting as binary blob')\n",
    "ax.plot(sizes, t_array_add, 'd-', label='Inserting as binary blob: add_result only')\n",
    "ax.legend()\n",
    "ax.set_xlabel('Array length')\n",
    "ax.set_ylabel('Time (s)')\n",
    "fig.tight_layout()"
   ]
  },
  {
   "cell_type": "markdown",
   "metadata": {},
   "source": [
    "However, as we increase the length of the experiment, as seen here by repeating the insertion 100 times, we see a big difference between inserting values of the data row-by-row and inserting it as a binary blob."
   ]
  },
  {
   "cell_type": "markdown",
   "metadata": {},
   "source": [
    "## Loading the data "
   ]
  },
  {
   "cell_type": "code",
   "execution_count": 9,
   "metadata": {
    "execution": {
     "iopub.execute_input": "2020-10-03T17:23:14.714163Z",
     "iopub.status.busy": "2020-10-03T17:23:14.713708Z",
     "iopub.status.idle": "2020-10-03T17:23:14.716562Z",
     "shell.execute_reply": "2020-10-03T17:23:14.717022Z"
    }
   },
   "outputs": [],
   "source": [
    "from qcodes.dataset.data_set import load_by_id\n",
    "from qcodes.dataset.data_export import get_data_by_id"
   ]
  },
  {
   "cell_type": "markdown",
   "metadata": {},
   "source": [
    "As usual you can load the data by using the ``load_by_id`` function but you will notice that the different storage methods\n",
    "are reflected in shape of the data as it is retrieved. "
   ]
  },
  {
   "cell_type": "code",
   "execution_count": 10,
   "metadata": {
    "execution": {
     "iopub.execute_input": "2020-10-03T17:23:14.720657Z",
     "iopub.status.busy": "2020-10-03T17:23:14.719701Z",
     "iopub.status.idle": "2020-10-03T17:23:14.721732Z",
     "shell.execute_reply": "2020-10-03T17:23:14.721335Z"
    }
   },
   "outputs": [],
   "source": [
    "run_id_n = t_numeric_run_ids[0]\n",
    "run_id_a = t_array_run_ids[0]"
   ]
  },
  {
   "cell_type": "code",
   "execution_count": 11,
   "metadata": {
    "execution": {
     "iopub.execute_input": "2020-10-03T17:23:14.724451Z",
     "iopub.status.busy": "2020-10-03T17:23:14.723990Z",
     "iopub.status.idle": "2020-10-03T17:23:14.732140Z",
     "shell.execute_reply": "2020-10-03T17:23:14.731710Z"
    },
    "scrolled": true
   },
   "outputs": [
    {
     "data": {
      "text/plain": [
       "{'x1': {'x1': array([9.19555698e-01, 9.19555698e-01, 8.82803672e-01, 8.82803672e-01,\n",
       "         5.45971966e-01, 5.45971966e-01, 3.55266739e-01, 3.55266739e-01,\n",
       "         3.40936477e-01, 3.40936477e-01, 8.59035338e-01, 8.59035338e-01,\n",
       "         8.55008049e-01, 8.55008049e-01, 2.48550628e-01, 2.48550628e-01,\n",
       "         5.25568630e-01, 5.25568630e-01, 5.31580996e-01, 5.31580996e-01,\n",
       "         9.17626764e-01, 9.17626764e-01, 4.01866491e-02, 4.01866491e-02,\n",
       "         5.47844918e-01, 5.47844918e-01, 3.94370883e-01, 3.94370883e-01,\n",
       "         4.25636318e-01, 4.25636318e-01, 1.51956456e-01, 1.51956456e-01,\n",
       "         6.52117953e-01, 6.52117953e-01, 8.25186350e-02, 8.25186350e-02,\n",
       "         4.73343979e-01, 4.73343979e-01, 8.49172815e-01, 8.49172815e-01,\n",
       "         3.44374346e-01, 3.44374346e-01, 4.84094476e-01, 4.84094476e-01,\n",
       "         2.90486127e-04, 2.90486127e-04, 3.59630832e-01, 3.59630832e-01,\n",
       "         9.77448324e-01, 9.77448324e-01, 3.53353832e-01, 3.53353832e-01,\n",
       "         4.07765330e-02, 4.07765330e-02, 5.81756786e-01, 5.81756786e-01,\n",
       "         4.81852102e-01, 4.81852102e-01, 4.81676140e-01, 4.81676140e-01,\n",
       "         8.97552851e-01, 8.97552851e-01, 2.69848503e-01, 2.69848503e-01,\n",
       "         4.62164995e-01, 4.62164995e-01, 9.27840833e-01, 9.27840833e-01,\n",
       "         4.92354598e-01, 4.92354598e-01, 2.47719349e-01, 2.47719349e-01,\n",
       "         7.88917452e-01, 7.88917452e-01, 4.11069462e-01, 4.11069462e-01,\n",
       "         1.52504722e-01, 1.52504722e-01, 9.02063535e-01, 9.02063535e-01,\n",
       "         5.14329178e-01, 5.14329178e-01, 6.63245476e-02, 6.63245476e-02,\n",
       "         2.95195246e-01, 2.95195246e-01, 9.55145478e-01, 9.55145478e-01,\n",
       "         2.49732044e-01, 2.49732044e-01, 5.95726377e-01, 5.95726377e-01,\n",
       "         9.95017383e-01, 9.95017383e-01, 8.03346807e-01, 8.03346807e-01,\n",
       "         9.43635304e-01, 9.43635304e-01, 5.26824030e-01, 5.26824030e-01,\n",
       "         4.23853898e-02, 4.23853898e-02, 3.43016183e-01, 3.43016183e-01,\n",
       "         8.88644089e-01, 8.88644089e-01, 4.24439890e-01, 4.24439890e-01,\n",
       "         6.11652204e-01, 6.11652204e-01, 1.04281806e-01, 1.04281806e-01,\n",
       "         1.95187284e-01, 1.95187284e-01, 3.20112228e-01, 3.20112228e-01,\n",
       "         5.74249375e-01, 5.74249375e-01, 5.58297053e-01, 5.58297053e-01,\n",
       "         3.91113108e-01, 3.91113108e-01, 2.50982830e-01, 2.50982830e-01,\n",
       "         8.17643490e-01, 8.17643490e-01, 9.01463443e-01, 9.01463443e-01,\n",
       "         1.36013119e-01, 1.36013119e-01, 4.49605159e-01, 4.49605159e-01,\n",
       "         2.40531574e-01, 2.40531574e-01, 1.31435413e-01, 1.31435413e-01,\n",
       "         8.86499949e-01, 8.86499949e-01, 5.65971529e-01, 5.65971529e-01,\n",
       "         9.76750267e-01, 9.76750267e-01, 6.40368966e-01, 6.40368966e-01,\n",
       "         4.50501984e-01, 4.50501984e-01, 6.13999533e-01, 6.13999533e-01,\n",
       "         8.23136155e-01, 8.23136155e-01, 6.31016965e-01, 6.31016965e-01,\n",
       "         7.13266940e-01, 7.13266940e-01, 8.69439575e-01, 8.69439575e-01,\n",
       "         4.40353276e-01, 4.40353276e-01, 2.33000055e-01, 2.33000055e-01,\n",
       "         8.29614399e-01, 8.29614399e-01, 1.94758409e-01, 1.94758409e-01,\n",
       "         1.41705673e-01, 1.41705673e-01, 8.06729875e-01, 8.06729875e-01,\n",
       "         2.84216494e-01, 2.84216494e-01, 1.10359966e-01, 1.10359966e-01,\n",
       "         9.94787554e-01, 9.94787554e-01, 5.37509724e-01, 5.37509724e-01,\n",
       "         8.21623809e-01, 8.21623809e-01, 4.39698929e-01, 4.39698929e-01,\n",
       "         5.83439477e-01, 5.83439477e-01, 3.44184211e-03, 3.44184211e-03,\n",
       "         2.11310788e-02, 2.11310788e-02, 4.28934340e-01, 4.28934340e-01,\n",
       "         7.02871997e-01, 7.02871997e-01, 5.72402675e-01, 5.72402675e-01,\n",
       "         3.53554344e-01, 3.53554344e-01, 6.38587708e-01, 6.38587708e-01,\n",
       "         8.83655539e-01, 8.83655539e-01, 9.20923925e-02, 9.20923925e-02])}}"
      ]
     },
     "execution_count": 1,
     "metadata": {},
     "output_type": "execute_result"
    }
   ],
   "source": [
    "ds = load_by_id(run_id_n)\n",
    "ds.get_parameter_data('x1')"
   ]
  },
  {
   "cell_type": "markdown",
   "metadata": {},
   "source": [
    "And a dataset stored as binary arrays"
   ]
  },
  {
   "cell_type": "code",
   "execution_count": 12,
   "metadata": {
    "execution": {
     "iopub.execute_input": "2020-10-03T17:23:14.734976Z",
     "iopub.status.busy": "2020-10-03T17:23:14.734489Z",
     "iopub.status.idle": "2020-10-03T17:23:14.783766Z",
     "shell.execute_reply": "2020-10-03T17:23:14.783369Z"
    },
    "scrolled": true
   },
   "outputs": [
    {
     "data": {
      "text/plain": [
       "{'x1': {'x1': array([[0.46959489],\n",
       "         [0.46959489],\n",
       "         [0.5466402 ],\n",
       "         [0.5466402 ],\n",
       "         [0.91203631],\n",
       "         [0.91203631],\n",
       "         [0.80786738],\n",
       "         [0.80786738],\n",
       "         [0.16141882],\n",
       "         [0.16141882],\n",
       "         [0.80338826],\n",
       "         [0.80338826],\n",
       "         [0.90762294],\n",
       "         [0.90762294],\n",
       "         [0.4520538 ],\n",
       "         [0.4520538 ],\n",
       "         [0.17814502],\n",
       "         [0.17814502],\n",
       "         [0.9641683 ],\n",
       "         [0.9641683 ],\n",
       "         [0.77204014],\n",
       "         [0.77204014],\n",
       "         [0.4425897 ],\n",
       "         [0.4425897 ],\n",
       "         [0.7162192 ],\n",
       "         [0.7162192 ],\n",
       "         [0.82564024],\n",
       "         [0.82564024],\n",
       "         [0.30700645],\n",
       "         [0.30700645],\n",
       "         [0.16547022],\n",
       "         [0.16547022],\n",
       "         [0.719397  ],\n",
       "         [0.719397  ],\n",
       "         [0.19031746],\n",
       "         [0.19031746],\n",
       "         [0.31037818],\n",
       "         [0.31037818],\n",
       "         [0.11037628],\n",
       "         [0.11037628],\n",
       "         [0.4341522 ],\n",
       "         [0.4341522 ],\n",
       "         [0.1941107 ],\n",
       "         [0.1941107 ],\n",
       "         [0.04976993],\n",
       "         [0.04976993],\n",
       "         [0.40928845],\n",
       "         [0.40928845],\n",
       "         [0.02876739],\n",
       "         [0.02876739],\n",
       "         [0.39564806],\n",
       "         [0.39564806],\n",
       "         [0.16924067],\n",
       "         [0.16924067],\n",
       "         [0.90732066],\n",
       "         [0.90732066],\n",
       "         [0.79921109],\n",
       "         [0.79921109],\n",
       "         [0.30022409],\n",
       "         [0.30022409],\n",
       "         [0.71401742],\n",
       "         [0.71401742],\n",
       "         [0.22001219],\n",
       "         [0.22001219],\n",
       "         [0.62137633],\n",
       "         [0.62137633],\n",
       "         [0.90397973],\n",
       "         [0.90397973],\n",
       "         [0.1604717 ],\n",
       "         [0.1604717 ],\n",
       "         [0.60073043],\n",
       "         [0.60073043],\n",
       "         [0.31088502],\n",
       "         [0.31088502],\n",
       "         [0.96159177],\n",
       "         [0.96159177],\n",
       "         [0.85957308],\n",
       "         [0.85957308],\n",
       "         [0.11093272],\n",
       "         [0.11093272],\n",
       "         [0.94286892],\n",
       "         [0.94286892],\n",
       "         [0.00952958],\n",
       "         [0.00952958],\n",
       "         [0.16301733],\n",
       "         [0.16301733],\n",
       "         [0.01173224],\n",
       "         [0.01173224],\n",
       "         [0.83189663],\n",
       "         [0.83189663],\n",
       "         [0.82033208],\n",
       "         [0.82033208],\n",
       "         [0.88688462],\n",
       "         [0.88688462],\n",
       "         [0.612618  ],\n",
       "         [0.612618  ],\n",
       "         [0.94212741],\n",
       "         [0.94212741],\n",
       "         [0.50289526],\n",
       "         [0.50289526],\n",
       "         [0.82471481],\n",
       "         [0.82471481],\n",
       "         [0.36799762],\n",
       "         [0.36799762],\n",
       "         [0.10065521],\n",
       "         [0.10065521],\n",
       "         [0.85674399],\n",
       "         [0.85674399],\n",
       "         [0.34018099],\n",
       "         [0.34018099],\n",
       "         [0.5682604 ],\n",
       "         [0.5682604 ],\n",
       "         [0.57342368],\n",
       "         [0.57342368],\n",
       "         [0.91856426],\n",
       "         [0.91856426],\n",
       "         [0.2901777 ],\n",
       "         [0.2901777 ],\n",
       "         [0.89833909],\n",
       "         [0.89833909],\n",
       "         [0.47971221],\n",
       "         [0.47971221],\n",
       "         [0.53086566],\n",
       "         [0.53086566],\n",
       "         [0.49736915],\n",
       "         [0.49736915],\n",
       "         [0.48654721],\n",
       "         [0.48654721],\n",
       "         [0.23816721],\n",
       "         [0.23816721],\n",
       "         [0.47820605],\n",
       "         [0.47820605],\n",
       "         [0.37455838],\n",
       "         [0.37455838],\n",
       "         [0.17596528],\n",
       "         [0.17596528],\n",
       "         [0.94479971],\n",
       "         [0.94479971],\n",
       "         [0.34619461],\n",
       "         [0.34619461],\n",
       "         [0.66817231],\n",
       "         [0.66817231],\n",
       "         [0.77320538],\n",
       "         [0.77320538],\n",
       "         [0.07753568],\n",
       "         [0.07753568],\n",
       "         [0.01253362],\n",
       "         [0.01253362],\n",
       "         [0.28871797],\n",
       "         [0.28871797],\n",
       "         [0.85613003],\n",
       "         [0.85613003],\n",
       "         [0.55257652],\n",
       "         [0.55257652],\n",
       "         [0.78496345],\n",
       "         [0.78496345],\n",
       "         [0.5777782 ],\n",
       "         [0.5777782 ],\n",
       "         [0.9009595 ],\n",
       "         [0.9009595 ],\n",
       "         [0.53643379],\n",
       "         [0.53643379],\n",
       "         [0.68228689],\n",
       "         [0.68228689],\n",
       "         [0.04441714],\n",
       "         [0.04441714],\n",
       "         [0.76404813],\n",
       "         [0.76404813],\n",
       "         [0.64536563],\n",
       "         [0.64536563],\n",
       "         [0.93279817],\n",
       "         [0.93279817],\n",
       "         [0.76956025],\n",
       "         [0.76956025],\n",
       "         [0.96108527],\n",
       "         [0.96108527],\n",
       "         [0.74866728],\n",
       "         [0.74866728],\n",
       "         [0.90483211],\n",
       "         [0.90483211],\n",
       "         [0.66697404],\n",
       "         [0.66697404],\n",
       "         [0.39618747],\n",
       "         [0.39618747],\n",
       "         [0.14718127],\n",
       "         [0.14718127],\n",
       "         [0.53410326],\n",
       "         [0.53410326],\n",
       "         [0.48987493],\n",
       "         [0.48987493],\n",
       "         [0.52826796],\n",
       "         [0.52826796],\n",
       "         [0.11391488],\n",
       "         [0.11391488],\n",
       "         [0.50364757],\n",
       "         [0.50364757],\n",
       "         [0.78417321],\n",
       "         [0.78417321],\n",
       "         [0.46918403],\n",
       "         [0.46918403]])}}"
      ]
     },
     "execution_count": 1,
     "metadata": {},
     "output_type": "execute_result"
    }
   ],
   "source": [
    "ds = load_by_id(run_id_a)\n",
    "ds.get_parameter_data('x1')"
   ]
  },
  {
   "cell_type": "code",
   "execution_count": null,
   "metadata": {},
   "outputs": [],
   "source": []
  }
 ],
 "metadata": {
  "kernelspec": {
   "display_name": "Python 3",
   "language": "python",
   "name": "python3"
  },
  "language_info": {
   "codemirror_mode": {
    "name": "ipython",
    "version": 3
   },
   "file_extension": ".py",
   "mimetype": "text/x-python",
   "name": "python",
   "nbconvert_exporter": "python",
   "pygments_lexer": "ipython3",
   "version": "3.7.7"
  },
  "nbsphinx": {
   "timeout": 600
  },
  "toc": {
   "base_numbering": 1,
   "nav_menu": {},
   "number_sections": true,
   "sideBar": true,
   "skip_h1_title": false,
   "title_cell": "Table of Contents",
   "title_sidebar": "Contents",
   "toc_cell": false,
   "toc_position": {},
   "toc_section_display": true,
   "toc_window_display": false
  },
  "varInspector": {
   "cols": {
    "lenName": 16,
    "lenType": 16,
    "lenVar": 40
   },
   "kernels_config": {
    "python": {
     "delete_cmd_postfix": "",
     "delete_cmd_prefix": "del ",
     "library": "var_list.py",
     "varRefreshCmd": "print(var_dic_list())"
    },
    "r": {
     "delete_cmd_postfix": ") ",
     "delete_cmd_prefix": "rm(",
     "library": "var_list.r",
     "varRefreshCmd": "cat(var_dic_list()) "
    }
   },
   "types_to_exclude": [
    "module",
    "function",
    "builtin_function_or_method",
    "instance",
    "_Feature"
   ],
   "window_display": false
  }
 },
 "nbformat": 4,
 "nbformat_minor": 2
}
