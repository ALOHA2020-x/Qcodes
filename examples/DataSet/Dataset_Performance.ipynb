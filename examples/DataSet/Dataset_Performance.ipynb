{
 "cells": [
  {
   "cell_type": "markdown",
   "metadata": {},
   "source": [
    "# DataSet Performance\n",
    "\n",
    "This notebook shows the trade-off between inserting data into a database row-by-row and as binary blobs. Inserting the data row-by-row means that we have direct access to all the data and may perform queries directly on the values of the data. On the other hand, as we shall see, this is much slower than inserting the data directly as binary blobs."
   ]
  },
  {
   "cell_type": "markdown",
   "metadata": {},
   "source": [
    "First, we choose a new location for the database to ensure that we don't add a bunch of benchmarking data to the default one."
   ]
  },
  {
   "cell_type": "code",
   "execution_count": 1,
   "metadata": {
    "execution": {
     "iopub.execute_input": "2020-10-12T12:32:59.496315Z",
     "iopub.status.busy": "2020-10-12T12:32:59.495755Z",
     "iopub.status.idle": "2020-10-12T12:33:00.397603Z",
     "shell.execute_reply": "2020-10-12T12:33:00.398386Z"
    }
   },
   "outputs": [
    {
     "name": "stdout",
     "output_type": "stream",
     "text": [
      "Logging hadn't been started.\n",
      "Activating auto-logging. Current session state plus future input saved.\n",
      "Filename       : /home/vsts/.qcodes/logs/command_history.log\n",
      "Mode           : append\n",
      "Output logging : True\n",
      "Raw input log  : False\n",
      "Timestamping   : True\n",
      "State          : active\n"
     ]
    },
    {
     "name": "stdout",
     "output_type": "stream",
     "text": [
      "Qcodes Logfile : /home/vsts/.qcodes/logs/201012-14589-qcodes.log\n"
     ]
    }
   ],
   "source": [
    "import os\n",
    "cwd = os.getcwd()\n",
    "import qcodes as qc\n",
    "qc.config[\"core\"][\"db_location\"] = os.path.join(cwd, 'testing.db')\n"
   ]
  },
  {
   "cell_type": "code",
   "execution_count": 2,
   "metadata": {
    "execution": {
     "iopub.execute_input": "2020-10-12T12:33:00.405954Z",
     "iopub.status.busy": "2020-10-12T12:33:00.404382Z",
     "iopub.status.idle": "2020-10-12T12:33:00.580129Z",
     "shell.execute_reply": "2020-10-12T12:33:00.579109Z"
    }
   },
   "outputs": [],
   "source": [
    "%matplotlib inline\n",
    "import time\n",
    "import matplotlib.pyplot as plt\n",
    "import numpy as np\n",
    "\n",
    "import qcodes as qc\n",
    "from qcodes.instrument.parameter import ManualParameter\n",
    "from qcodes.dataset.experiment_container import (Experiment,\n",
    "                                                 load_last_experiment,\n",
    "                                                 new_experiment)\n",
    "from qcodes.dataset.sqlite.database import initialise_database\n",
    "from qcodes import load_or_create_experiment\n",
    "from qcodes.dataset.measurements import Measurement"
   ]
  },
  {
   "cell_type": "code",
   "execution_count": 3,
   "metadata": {
    "execution": {
     "iopub.execute_input": "2020-10-12T12:33:00.585123Z",
     "iopub.status.busy": "2020-10-12T12:33:00.584201Z",
     "iopub.status.idle": "2020-10-12T12:33:00.698420Z",
     "shell.execute_reply": "2020-10-12T12:33:00.697903Z"
    }
   },
   "outputs": [
    {
     "name": "stdout",
     "output_type": "stream",
     "text": [
      "\r",
      "0it [00:00, ?it/s]"
     ]
    },
    {
     "name": "stdout",
     "output_type": "stream",
     "text": [
      "\r",
      "Upgrading database; v0 -> v1: : 0it [00:00, ?it/s]"
     ]
    },
    {
     "name": "stdout",
     "output_type": "stream",
     "text": [
      "\r",
      "Upgrading database; v0 -> v1: : 0it [00:00, ?it/s]"
     ]
    },
    {
     "name": "stdout",
     "output_type": "stream",
     "text": [
      "\n",
      "\r",
      "  0%|          | 0/1 [00:00<?, ?it/s]"
     ]
    },
    {
     "name": "stdout",
     "output_type": "stream",
     "text": [
      "\r",
      "Upgrading database; v1 -> v2:   0%|          | 0/1 [00:00<?, ?it/s]"
     ]
    },
    {
     "name": "stdout",
     "output_type": "stream",
     "text": [
      "\r",
      "Upgrading database; v1 -> v2: 100%|██████████| 1/1 [00:00<00:00, 583.76it/s]"
     ]
    },
    {
     "name": "stdout",
     "output_type": "stream",
     "text": [
      "\n",
      "\r",
      "0it [00:00, ?it/s]"
     ]
    },
    {
     "name": "stdout",
     "output_type": "stream",
     "text": [
      "\r",
      "Upgrading database; v2 -> v3: : 0it [00:00, ?it/s]"
     ]
    },
    {
     "name": "stdout",
     "output_type": "stream",
     "text": [
      "\r",
      "Upgrading database; v2 -> v3: : 0it [00:00, ?it/s]"
     ]
    },
    {
     "name": "stdout",
     "output_type": "stream",
     "text": [
      "\n",
      "\r",
      "0it [00:00, ?it/s]"
     ]
    },
    {
     "name": "stdout",
     "output_type": "stream",
     "text": [
      "\r",
      "Upgrading database; v3 -> v4: : 0it [00:00, ?it/s]"
     ]
    },
    {
     "name": "stdout",
     "output_type": "stream",
     "text": [
      "\r",
      "Upgrading database; v3 -> v4: : 0it [00:00, ?it/s]"
     ]
    },
    {
     "name": "stdout",
     "output_type": "stream",
     "text": [
      "\n",
      "\r",
      "  0%|          | 0/1 [00:00<?, ?it/s]"
     ]
    },
    {
     "name": "stdout",
     "output_type": "stream",
     "text": [
      "\r",
      "Upgrading database; v4 -> v5:   0%|          | 0/1 [00:00<?, ?it/s]"
     ]
    },
    {
     "name": "stdout",
     "output_type": "stream",
     "text": [
      "\r",
      "Upgrading database; v4 -> v5: 100%|██████████| 1/1 [00:00<00:00, 691.56it/s]"
     ]
    },
    {
     "name": "stdout",
     "output_type": "stream",
     "text": [
      "\n",
      "\r",
      "0it [00:00, ?it/s]"
     ]
    },
    {
     "name": "stdout",
     "output_type": "stream",
     "text": [
      "\r",
      "Upgrading database; v5 -> v6: : 0it [00:00, ?it/s]"
     ]
    },
    {
     "name": "stdout",
     "output_type": "stream",
     "text": [
      "\r",
      "Upgrading database; v5 -> v6: : 0it [00:00, ?it/s]"
     ]
    },
    {
     "name": "stdout",
     "output_type": "stream",
     "text": [
      "\n",
      "\r",
      "  0%|          | 0/1 [00:00<?, ?it/s]"
     ]
    },
    {
     "name": "stdout",
     "output_type": "stream",
     "text": [
      "\r",
      "Upgrading database; v6 -> v7:   0%|          | 0/1 [00:00<?, ?it/s]"
     ]
    },
    {
     "name": "stdout",
     "output_type": "stream",
     "text": [
      "\r",
      "Upgrading database; v6 -> v7: 100%|██████████| 1/1 [00:00<00:00, 176.63it/s]"
     ]
    },
    {
     "name": "stdout",
     "output_type": "stream",
     "text": [
      "\n",
      "\r",
      "  0%|          | 0/1 [00:00<?, ?it/s]"
     ]
    },
    {
     "name": "stdout",
     "output_type": "stream",
     "text": [
      "\r",
      "Upgrading database; v7 -> v8:   0%|          | 0/1 [00:00<?, ?it/s]"
     ]
    },
    {
     "name": "stdout",
     "output_type": "stream",
     "text": [
      "\r",
      "Upgrading database; v7 -> v8: 100%|██████████| 1/1 [00:00<00:00, 623.41it/s]"
     ]
    },
    {
     "name": "stdout",
     "output_type": "stream",
     "text": [
      "\n",
      "\r",
      "  0%|          | 0/1 [00:00<?, ?it/s]"
     ]
    },
    {
     "name": "stdout",
     "output_type": "stream",
     "text": [
      "\r",
      "Upgrading database; v8 -> v9:   0%|          | 0/1 [00:00<?, ?it/s]"
     ]
    },
    {
     "name": "stdout",
     "output_type": "stream",
     "text": [
      "\r",
      "Upgrading database; v8 -> v9: 100%|██████████| 1/1 [00:00<00:00, 1292.54it/s]"
     ]
    },
    {
     "name": "stdout",
     "output_type": "stream",
     "text": [
      "\n"
     ]
    }
   ],
   "source": [
    "initialise_database()\n",
    "exp = load_or_create_experiment(experiment_name='tutorial_exp', sample_name=\"no sample\")"
   ]
  },
  {
   "cell_type": "markdown",
   "metadata": {},
   "source": [
    "Here, we define a simple function to benchmark the time it takes to insert n points with either numeric or array data type.\n",
    "We will compare both the time used to call ``add_result`` and the time used for the full measurement."
   ]
  },
  {
   "cell_type": "code",
   "execution_count": 4,
   "metadata": {
    "execution": {
     "iopub.execute_input": "2020-10-12T12:33:00.706547Z",
     "iopub.status.busy": "2020-10-12T12:33:00.705593Z",
     "iopub.status.idle": "2020-10-12T12:33:00.707259Z",
     "shell.execute_reply": "2020-10-12T12:33:00.707645Z"
    }
   },
   "outputs": [],
   "source": [
    "def insert_data(paramtype, npoints, nreps=1):\n",
    "\n",
    "    meas = Measurement(exp=exp)\n",
    "\n",
    "    x1 = ManualParameter('x1')\n",
    "    x2 = ManualParameter('x2')\n",
    "    x3 = ManualParameter('x3')\n",
    "    y1 = ManualParameter('y1')\n",
    "    y2 = ManualParameter('y2')\n",
    "\n",
    "    meas.register_parameter(x1, paramtype=paramtype)\n",
    "    meas.register_parameter(x2, paramtype=paramtype)\n",
    "    meas.register_parameter(x3, paramtype=paramtype)\n",
    "    meas.register_parameter(y1, setpoints=[x1, x2, x3],\n",
    "                            paramtype=paramtype)\n",
    "    meas.register_parameter(y2, setpoints=[x1, x2, x3],\n",
    "                            paramtype=paramtype)\n",
    "    start = time.perf_counter()\n",
    "    with meas.run() as datasaver:\n",
    "        start_adding = time.perf_counter()\n",
    "        for i in range(nreps):\n",
    "            datasaver.add_result((x1, np.random.rand(npoints)),\n",
    "                                 (x2, np.random.rand(npoints)),\n",
    "                                 (x3, np.random.rand(npoints)),\n",
    "                                 (y1, np.random.rand(npoints)),\n",
    "                                 (y2, np.random.rand(npoints)))\n",
    "        stop_adding = time.perf_counter()\n",
    "        run_id = datasaver.run_id\n",
    "    stop = time.perf_counter()\n",
    "    tot_time = stop - start\n",
    "    add_time = stop_adding - start_adding\n",
    "    return tot_time, add_time, run_id"
   ]
  },
  {
   "cell_type": "markdown",
   "metadata": {},
   "source": [
    "## Comparison between numeric/array data and binary blob"
   ]
  },
  {
   "cell_type": "markdown",
   "metadata": {},
   "source": [
    "### Case1: Short experiment time"
   ]
  },
  {
   "cell_type": "code",
   "execution_count": 5,
   "metadata": {
    "execution": {
     "iopub.execute_input": "2020-10-12T12:33:00.713371Z",
     "iopub.status.busy": "2020-10-12T12:33:00.712832Z",
     "iopub.status.idle": "2020-10-12T12:33:01.493781Z",
     "shell.execute_reply": "2020-10-12T12:33:01.493293Z"
    }
   },
   "outputs": [
    {
     "name": "stdout",
     "output_type": "stream",
     "text": [
      "Starting experimental run with id: 1. \n",
      "Starting experimental run with id: 2. \n",
      "Starting experimental run with id: 3. \n",
      "Starting experimental run with id: 4. \n",
      "Starting experimental run with id: 5. \n"
     ]
    },
    {
     "name": "stdout",
     "output_type": "stream",
     "text": [
      "Starting experimental run with id: 6. \n"
     ]
    },
    {
     "name": "stdout",
     "output_type": "stream",
     "text": [
      "Starting experimental run with id: 7. \n"
     ]
    },
    {
     "name": "stdout",
     "output_type": "stream",
     "text": [
      "Starting experimental run with id: 8. \n",
      "Starting experimental run with id: 9. \n"
     ]
    },
    {
     "name": "stdout",
     "output_type": "stream",
     "text": [
      "Starting experimental run with id: 10. \n",
      "Starting experimental run with id: 11. \n"
     ]
    },
    {
     "name": "stdout",
     "output_type": "stream",
     "text": [
      "Starting experimental run with id: 12. \n",
      "Starting experimental run with id: 13. \n"
     ]
    },
    {
     "name": "stdout",
     "output_type": "stream",
     "text": [
      "Starting experimental run with id: 14. \n"
     ]
    }
   ],
   "source": [
    "sizes = [1,500,1000,2000,3000,4000,5000]\n",
    "t_numeric = []\n",
    "t_numeric_add = []\n",
    "t_array = []\n",
    "t_array_add = []\n",
    "for size in sizes:\n",
    "    tn, tna, run_id_n =  insert_data('numeric', size)\n",
    "    t_numeric.append(tn)\n",
    "    t_numeric_add.append(tna)\n",
    "\n",
    "    ta, taa, run_id_a =  insert_data('array', size)\n",
    "    t_array.append(ta)\n",
    "    t_array_add.append(taa)"
   ]
  },
  {
   "cell_type": "code",
   "execution_count": 6,
   "metadata": {
    "execution": {
     "iopub.execute_input": "2020-10-12T12:33:01.510384Z",
     "iopub.status.busy": "2020-10-12T12:33:01.498845Z",
     "iopub.status.idle": "2020-10-12T12:33:01.677792Z",
     "shell.execute_reply": "2020-10-12T12:33:01.676790Z"
    }
   },
   "outputs": [
    {
     "data": {
      "image/png": "[encoded data removed]",
      "text/plain": [
       "<Figure size 432x288 with 1 Axes>"
      ]
     },
     "metadata": {
      "needs_background": "light"
     },
     "output_type": "display_data"
    }
   ],
   "source": [
    "fig, ax = plt.subplots(1,1)\n",
    "ax.plot(sizes, t_numeric, 'o-', label='Inserting row-by-row')\n",
    "ax.plot(sizes, t_numeric_add, 'o-', label='Inserting row-by-row: add_result only')\n",
    "ax.plot(sizes, t_array, 'd-', label='Inserting as binary blob')\n",
    "ax.plot(sizes, t_array_add, 'd-', label='Inserting as binary blob: add_result only')\n",
    "ax.legend()\n",
    "ax.set_xlabel('Array length')\n",
    "ax.set_ylabel('Time (s)')\n",
    "fig.tight_layout()"
   ]
  },
  {
   "cell_type": "markdown",
   "metadata": {},
   "source": [
    "As shown in the latter figure, the time to setup and and close the experiment is approximately 0.4 sec. In case of small array sizes, the difference between inserting values of data as arrays and inserting them row-by-row is relatively unimportant. At larger array sizes, i.e. above 10000 points, the cost of writing data as individual datapoints starts to become important.\n"
   ]
  },
  {
   "cell_type": "markdown",
   "metadata": {},
   "source": [
    "### Case2: Long experiment time "
   ]
  },
  {
   "cell_type": "code",
   "execution_count": 7,
   "metadata": {
    "execution": {
     "iopub.execute_input": "2020-10-12T12:33:01.685019Z",
     "iopub.status.busy": "2020-10-12T12:33:01.684396Z",
     "iopub.status.idle": "2020-10-12T12:33:58.264692Z",
     "shell.execute_reply": "2020-10-12T12:33:58.264200Z"
    }
   },
   "outputs": [
    {
     "name": "stdout",
     "output_type": "stream",
     "text": [
      "Starting experimental run with id: 15. \n",
      "Starting experimental run with id: 16. \n",
      "Starting experimental run with id: 17. \n"
     ]
    },
    {
     "name": "stdout",
     "output_type": "stream",
     "text": [
      "Starting experimental run with id: 18. \n",
      "Starting experimental run with id: 19. \n"
     ]
    },
    {
     "name": "stdout",
     "output_type": "stream",
     "text": [
      "Starting experimental run with id: 20. \n"
     ]
    },
    {
     "name": "stdout",
     "output_type": "stream",
     "text": [
      "Starting experimental run with id: 21. \n"
     ]
    },
    {
     "name": "stdout",
     "output_type": "stream",
     "text": [
      "Starting experimental run with id: 22. \n"
     ]
    },
    {
     "name": "stdout",
     "output_type": "stream",
     "text": [
      "Starting experimental run with id: 23. \n"
     ]
    },
    {
     "name": "stdout",
     "output_type": "stream",
     "text": [
      "Starting experimental run with id: 24. \n"
     ]
    },
    {
     "name": "stdout",
     "output_type": "stream",
     "text": [
      "Starting experimental run with id: 25. \n"
     ]
    },
    {
     "name": "stdout",
     "output_type": "stream",
     "text": [
      "Starting experimental run with id: 26. \n"
     ]
    },
    {
     "name": "stdout",
     "output_type": "stream",
     "text": [
      "Starting experimental run with id: 27. \n"
     ]
    },
    {
     "name": "stdout",
     "output_type": "stream",
     "text": [
      "Starting experimental run with id: 28. \n"
     ]
    }
   ],
   "source": [
    "sizes = [1,500,1000,2000,3000,4000,5000]\n",
    "nreps = 100\n",
    "t_numeric = []\n",
    "t_numeric_add = []\n",
    "t_numeric_run_ids = []\n",
    "t_array = []\n",
    "t_array_add = []\n",
    "t_array_run_ids = []\n",
    "for size in sizes:\n",
    "    tn, tna, run_id_n =  insert_data('numeric', size, nreps=nreps)\n",
    "    t_numeric.append(tn)\n",
    "    t_numeric_add.append(tna)\n",
    "    t_numeric_run_ids.append(run_id_n)\n",
    "\n",
    "    ta, taa, run_id_a =  insert_data('array', size, nreps=nreps)\n",
    "    t_array.append(ta)\n",
    "    t_array_add.append(taa)\n",
    "    t_array_run_ids.append(run_id_a)"
   ]
  },
  {
   "cell_type": "code",
   "execution_count": 8,
   "metadata": {
    "execution": {
     "iopub.execute_input": "2020-10-12T12:33:58.280651Z",
     "iopub.status.busy": "2020-10-12T12:33:58.269630Z",
     "iopub.status.idle": "2020-10-12T12:33:58.447479Z",
     "shell.execute_reply": "2020-10-12T12:33:58.446982Z"
    },
    "scrolled": true
   },
   "outputs": [
    {
     "data": {
      "image/png": "[encoded data removed]",
      "text/plain": [
       "<Figure size 432x288 with 1 Axes>"
      ]
     },
     "metadata": {
      "needs_background": "light"
     },
     "output_type": "display_data"
    }
   ],
   "source": [
    "fig, ax = plt.subplots(1,1)\n",
    "ax.plot(sizes, t_numeric, 'o-', label='Inserting row-by-row')\n",
    "ax.plot(sizes, t_numeric_add, 'o-', label='Inserting row-by-row: add_result only')\n",
    "ax.plot(sizes, t_array, 'd-', label='Inserting as binary blob')\n",
    "ax.plot(sizes, t_array_add, 'd-', label='Inserting as binary blob: add_result only')\n",
    "ax.legend()\n",
    "ax.set_xlabel('Array length')\n",
    "ax.set_ylabel('Time (s)')\n",
    "fig.tight_layout()"
   ]
  },
  {
   "cell_type": "markdown",
   "metadata": {},
   "source": [
    "However, as we increase the length of the experiment, as seen here by repeating the insertion 100 times, we see a big difference between inserting values of the data row-by-row and inserting it as a binary blob."
   ]
  },
  {
   "cell_type": "markdown",
   "metadata": {},
   "source": [
    "## Loading the data "
   ]
  },
  {
   "cell_type": "code",
   "execution_count": 9,
   "metadata": {
    "execution": {
     "iopub.execute_input": "2020-10-12T12:33:58.451371Z",
     "iopub.status.busy": "2020-10-12T12:33:58.450420Z",
     "iopub.status.idle": "2020-10-12T12:33:58.453533Z",
     "shell.execute_reply": "2020-10-12T12:33:58.453111Z"
    }
   },
   "outputs": [],
   "source": [
    "from qcodes.dataset.data_set import load_by_id\n",
    "from qcodes.dataset.data_export import get_data_by_id"
   ]
  },
  {
   "cell_type": "markdown",
   "metadata": {},
   "source": [
    "As usual you can load the data by using the ``load_by_id`` function but you will notice that the different storage methods\n",
    "are reflected in shape of the data as it is retrieved. "
   ]
  },
  {
   "cell_type": "code",
   "execution_count": 10,
   "metadata": {
    "execution": {
     "iopub.execute_input": "2020-10-12T12:33:58.456714Z",
     "iopub.status.busy": "2020-10-12T12:33:58.456173Z",
     "iopub.status.idle": "2020-10-12T12:33:58.458571Z",
     "shell.execute_reply": "2020-10-12T12:33:58.458016Z"
    }
   },
   "outputs": [],
   "source": [
    "run_id_n = t_numeric_run_ids[0]\n",
    "run_id_a = t_array_run_ids[0]"
   ]
  },
  {
   "cell_type": "code",
   "execution_count": 11,
   "metadata": {
    "execution": {
     "iopub.execute_input": "2020-10-12T12:33:58.461152Z",
     "iopub.status.busy": "2020-10-12T12:33:58.460628Z",
     "iopub.status.idle": "2020-10-12T12:33:58.469512Z",
     "shell.execute_reply": "2020-10-12T12:33:58.469051Z"
    },
    "scrolled": true
   },
   "outputs": [
    {
     "data": {
      "text/plain": [
       "{'x1': {'x1': array([0.87544808, 0.87544808, 0.57022556, 0.57022556, 0.22415406,\n",
       "         0.22415406, 0.0620542 , 0.0620542 , 0.02410883, 0.02410883,\n",
       "         0.42079001, 0.42079001, 0.22723345, 0.22723345, 0.3269254 ,\n",
       "         0.3269254 , 0.48804904, 0.48804904, 0.44278896, 0.44278896,\n",
       "         0.21503026, 0.21503026, 0.5980105 , 0.5980105 , 0.6935531 ,\n",
       "         0.6935531 , 0.88277403, 0.88277403, 0.03057051, 0.03057051,\n",
       "         0.26298278, 0.26298278, 0.93778073, 0.93778073, 0.23540817,\n",
       "         0.23540817, 0.33445552, 0.33445552, 0.22318772, 0.22318772,\n",
       "         0.60338588, 0.60338588, 0.52907813, 0.52907813, 0.69454097,\n",
       "         0.69454097, 0.00777277, 0.00777277, 0.57695333, 0.57695333,\n",
       "         0.49467475, 0.49467475, 0.44646882, 0.44646882, 0.94755365,\n",
       "         0.94755365, 0.13606913, 0.13606913, 0.13981159, 0.13981159,\n",
       "         0.84551995, 0.84551995, 0.1809085 , 0.1809085 , 0.74098364,\n",
       "         0.74098364, 0.88604169, 0.88604169, 0.64344285, 0.64344285,\n",
       "         0.06672518, 0.06672518, 0.29310374, 0.29310374, 0.81451884,\n",
       "         0.81451884, 0.04645686, 0.04645686, 0.52914484, 0.52914484,\n",
       "         0.6721434 , 0.6721434 , 0.98470985, 0.98470985, 0.78796816,\n",
       "         0.78796816, 0.8905479 , 0.8905479 , 0.69886949, 0.69886949,\n",
       "         0.80816216, 0.80816216, 0.9739594 , 0.9739594 , 0.71713584,\n",
       "         0.71713584, 0.3884828 , 0.3884828 , 0.23455242, 0.23455242,\n",
       "         0.41163422, 0.41163422, 0.48349519, 0.48349519, 0.49169892,\n",
       "         0.49169892, 0.63735546, 0.63735546, 0.52765832, 0.52765832,\n",
       "         0.15303791, 0.15303791, 0.74684997, 0.74684997, 0.04845396,\n",
       "         0.04845396, 0.37673298, 0.37673298, 0.19481409, 0.19481409,\n",
       "         0.59122723, 0.59122723, 0.21795175, 0.21795175, 0.98318973,\n",
       "         0.98318973, 0.43251144, 0.43251144, 0.5961863 , 0.5961863 ,\n",
       "         0.75481893, 0.75481893, 0.00293544, 0.00293544, 0.11021592,\n",
       "         0.11021592, 0.50203331, 0.50203331, 0.50805945, 0.50805945,\n",
       "         0.91448468, 0.91448468, 0.28484538, 0.28484538, 0.89034637,\n",
       "         0.89034637, 0.17366496, 0.17366496, 0.15833227, 0.15833227,\n",
       "         0.00815935, 0.00815935, 0.67760911, 0.67760911, 0.1918163 ,\n",
       "         0.1918163 , 0.2919223 , 0.2919223 , 0.06032148, 0.06032148,\n",
       "         0.74690403, 0.74690403, 0.92849928, 0.92849928, 0.15115334,\n",
       "         0.15115334, 0.42327157, 0.42327157, 0.15786936, 0.15786936,\n",
       "         0.14033138, 0.14033138, 0.45695012, 0.45695012, 0.62883954,\n",
       "         0.62883954, 0.35992664, 0.35992664, 0.54983149, 0.54983149,\n",
       "         0.164826  , 0.164826  , 0.67606481, 0.67606481, 0.34632962,\n",
       "         0.34632962, 0.77306786, 0.77306786, 0.49978942, 0.49978942,\n",
       "         0.44036133, 0.44036133, 0.06096722, 0.06096722, 0.38364656,\n",
       "         0.38364656, 0.84551205, 0.84551205, 0.38783215, 0.38783215])}}"
      ]
     },
     "execution_count": 1,
     "metadata": {},
     "output_type": "execute_result"
    }
   ],
   "source": [
    "ds = load_by_id(run_id_n)\n",
    "ds.get_parameter_data('x1')"
   ]
  },
  {
   "cell_type": "markdown",
   "metadata": {},
   "source": [
    "And a dataset stored as binary arrays"
   ]
  },
  {
   "cell_type": "code",
   "execution_count": 12,
   "metadata": {
    "execution": {
     "iopub.execute_input": "2020-10-12T12:33:58.472595Z",
     "iopub.status.busy": "2020-10-12T12:33:58.472110Z",
     "iopub.status.idle": "2020-10-12T12:33:58.524640Z",
     "shell.execute_reply": "2020-10-12T12:33:58.525591Z"
    },
    "scrolled": true
   },
   "outputs": [
    {
     "data": {
      "text/plain": [
       "{'x1': {'x1': array([[8.04698580e-01],\n",
       "         [8.04698580e-01],\n",
       "         [1.91824981e-01],\n",
       "         [1.91824981e-01],\n",
       "         [1.67612099e-02],\n",
       "         [1.67612099e-02],\n",
       "         [7.52886417e-01],\n",
       "         [7.52886417e-01],\n",
       "         [3.46345718e-01],\n",
       "         [3.46345718e-01],\n",
       "         [2.96100839e-01],\n",
       "         [2.96100839e-01],\n",
       "         [9.52960907e-01],\n",
       "         [9.52960907e-01],\n",
       "         [9.90175270e-01],\n",
       "         [9.90175270e-01],\n",
       "         [2.77069244e-02],\n",
       "         [2.77069244e-02],\n",
       "         [7.96445349e-01],\n",
       "         [7.96445349e-01],\n",
       "         [8.90095339e-02],\n",
       "         [8.90095339e-02],\n",
       "         [2.77464045e-01],\n",
       "         [2.77464045e-01],\n",
       "         [3.03198196e-01],\n",
       "         [3.03198196e-01],\n",
       "         [6.28550399e-01],\n",
       "         [6.28550399e-01],\n",
       "         [8.94968836e-01],\n",
       "         [8.94968836e-01],\n",
       "         [7.00470033e-01],\n",
       "         [7.00470033e-01],\n",
       "         [4.25195612e-02],\n",
       "         [4.25195612e-02],\n",
       "         [5.76732447e-01],\n",
       "         [5.76732447e-01],\n",
       "         [1.24787037e-02],\n",
       "         [1.24787037e-02],\n",
       "         [6.38290499e-02],\n",
       "         [6.38290499e-02],\n",
       "         [1.27703610e-02],\n",
       "         [1.27703610e-02],\n",
       "         [3.74589028e-01],\n",
       "         [3.74589028e-01],\n",
       "         [9.22923515e-01],\n",
       "         [9.22923515e-01],\n",
       "         [9.15674003e-01],\n",
       "         [9.15674003e-01],\n",
       "         [1.75420923e-01],\n",
       "         [1.75420923e-01],\n",
       "         [5.24661938e-02],\n",
       "         [5.24661938e-02],\n",
       "         [3.78490811e-01],\n",
       "         [3.78490811e-01],\n",
       "         [9.09736760e-01],\n",
       "         [9.09736760e-01],\n",
       "         [3.79918254e-01],\n",
       "         [3.79918254e-01],\n",
       "         [8.94223357e-01],\n",
       "         [8.94223357e-01],\n",
       "         [8.20990700e-01],\n",
       "         [8.20990700e-01],\n",
       "         [5.69210176e-02],\n",
       "         [5.69210176e-02],\n",
       "         [4.79621255e-01],\n",
       "         [4.79621255e-01],\n",
       "         [7.01787789e-01],\n",
       "         [7.01787789e-01],\n",
       "         [4.92630605e-01],\n",
       "         [4.92630605e-01],\n",
       "         [9.40139406e-02],\n",
       "         [9.40139406e-02],\n",
       "         [2.81761300e-01],\n",
       "         [2.81761300e-01],\n",
       "         [6.62658445e-04],\n",
       "         [6.62658445e-04],\n",
       "         [2.47502292e-01],\n",
       "         [2.47502292e-01],\n",
       "         [7.32185234e-01],\n",
       "         [7.32185234e-01],\n",
       "         [6.85558203e-01],\n",
       "         [6.85558203e-01],\n",
       "         [9.11701741e-01],\n",
       "         [9.11701741e-01],\n",
       "         [5.26081993e-01],\n",
       "         [5.26081993e-01],\n",
       "         [2.53970164e-01],\n",
       "         [2.53970164e-01],\n",
       "         [9.70259897e-01],\n",
       "         [9.70259897e-01],\n",
       "         [3.66271176e-01],\n",
       "         [3.66271176e-01],\n",
       "         [2.36738874e-01],\n",
       "         [2.36738874e-01],\n",
       "         [6.56960508e-02],\n",
       "         [6.56960508e-02],\n",
       "         [5.69887499e-01],\n",
       "         [5.69887499e-01],\n",
       "         [7.24099174e-01],\n",
       "         [7.24099174e-01],\n",
       "         [6.21133638e-01],\n",
       "         [6.21133638e-01],\n",
       "         [8.43018571e-01],\n",
       "         [8.43018571e-01],\n",
       "         [5.98550114e-01],\n",
       "         [5.98550114e-01],\n",
       "         [9.51081500e-01],\n",
       "         [9.51081500e-01],\n",
       "         [7.91933265e-01],\n",
       "         [7.91933265e-01],\n",
       "         [9.79412421e-01],\n",
       "         [9.79412421e-01],\n",
       "         [4.78929459e-02],\n",
       "         [4.78929459e-02],\n",
       "         [5.41037966e-01],\n",
       "         [5.41037966e-01],\n",
       "         [8.20530606e-01],\n",
       "         [8.20530606e-01],\n",
       "         [2.79601281e-01],\n",
       "         [2.79601281e-01],\n",
       "         [6.92339613e-01],\n",
       "         [6.92339613e-01],\n",
       "         [3.90236900e-01],\n",
       "         [3.90236900e-01],\n",
       "         [6.72750256e-01],\n",
       "         [6.72750256e-01],\n",
       "         [6.68194344e-01],\n",
       "         [6.68194344e-01],\n",
       "         [6.25739204e-01],\n",
       "         [6.25739204e-01],\n",
       "         [2.39128899e-01],\n",
       "         [2.39128899e-01],\n",
       "         [1.86440720e-01],\n",
       "         [1.86440720e-01],\n",
       "         [3.11515230e-01],\n",
       "         [3.11515230e-01],\n",
       "         [3.15344598e-01],\n",
       "         [3.15344598e-01],\n",
       "         [4.48279818e-01],\n",
       "         [4.48279818e-01],\n",
       "         [8.27891077e-01],\n",
       "         [8.27891077e-01],\n",
       "         [1.97282529e-01],\n",
       "         [1.97282529e-01],\n",
       "         [6.88629738e-01],\n",
       "         [6.88629738e-01],\n",
       "         [3.70891748e-01],\n",
       "         [3.70891748e-01],\n",
       "         [7.62379711e-01],\n",
       "         [7.62379711e-01],\n",
       "         [1.89204848e-01],\n",
       "         [1.89204848e-01],\n",
       "         [9.81918697e-01],\n",
       "         [9.81918697e-01],\n",
       "         [6.14936617e-01],\n",
       "         [6.14936617e-01],\n",
       "         [1.09484384e-01],\n",
       "         [1.09484384e-01],\n",
       "         [6.63059369e-01],\n",
       "         [6.63059369e-01],\n",
       "         [2.22159103e-01],\n",
       "         [2.22159103e-01],\n",
       "         [2.55951069e-01],\n",
       "         [2.55951069e-01],\n",
       "         [5.05201307e-01],\n",
       "         [5.05201307e-01],\n",
       "         [3.19643141e-01],\n",
       "         [3.19643141e-01],\n",
       "         [1.06827205e-01],\n",
       "         [1.06827205e-01],\n",
       "         [5.05404796e-01],\n",
       "         [5.05404796e-01],\n",
       "         [7.39929999e-01],\n",
       "         [7.39929999e-01],\n",
       "         [7.21704214e-01],\n",
       "         [7.21704214e-01],\n",
       "         [2.39246039e-01],\n",
       "         [2.39246039e-01],\n",
       "         [1.65130880e-02],\n",
       "         [1.65130880e-02],\n",
       "         [1.55803537e-01],\n",
       "         [1.55803537e-01],\n",
       "         [7.68957801e-01],\n",
       "         [7.68957801e-01],\n",
       "         [1.47092698e-01],\n",
       "         [1.47092698e-01],\n",
       "         [7.83662282e-01],\n",
       "         [7.83662282e-01],\n",
       "         [7.97117902e-01],\n",
       "         [7.97117902e-01],\n",
       "         [9.51111663e-01],\n",
       "         [9.51111663e-01],\n",
       "         [2.22188342e-01],\n",
       "         [2.22188342e-01],\n",
       "         [1.40563190e-01],\n",
       "         [1.40563190e-01],\n",
       "         [1.00417951e-01],\n",
       "         [1.00417951e-01],\n",
       "         [7.47082973e-01],\n",
       "         [7.47082973e-01]])}}"
      ]
     },
     "execution_count": 1,
     "metadata": {},
     "output_type": "execute_result"
    }
   ],
   "source": [
    "ds = load_by_id(run_id_a)\n",
    "ds.get_parameter_data('x1')"
   ]
  },
  {
   "cell_type": "code",
   "execution_count": null,
   "metadata": {},
   "outputs": [],
   "source": []
  }
 ],
 "metadata": {
  "kernelspec": {
   "display_name": "Python 3",
   "language": "python",
   "name": "python3"
  },
  "language_info": {
   "codemirror_mode": {
    "name": "ipython",
    "version": 3
   },
   "file_extension": ".py",
   "mimetype": "text/x-python",
   "name": "python",
   "nbconvert_exporter": "python",
   "pygments_lexer": "ipython3",
   "version": "3.7.7"
  },
  "nbsphinx": {
   "timeout": 600
  },
  "toc": {
   "base_numbering": 1,
   "nav_menu": {},
   "number_sections": true,
   "sideBar": true,
   "skip_h1_title": false,
   "title_cell": "Table of Contents",
   "title_sidebar": "Contents",
   "toc_cell": false,
   "toc_position": {},
   "toc_section_display": true,
   "toc_window_display": false
  },
  "varInspector": {
   "cols": {
    "lenName": 16,
    "lenType": 16,
    "lenVar": 40
   },
   "kernels_config": {
    "python": {
     "delete_cmd_postfix": "",
     "delete_cmd_prefix": "del ",
     "library": "var_list.py",
     "varRefreshCmd": "print(var_dic_list())"
    },
    "r": {
     "delete_cmd_postfix": ") ",
     "delete_cmd_prefix": "rm(",
     "library": "var_list.r",
     "varRefreshCmd": "cat(var_dic_list()) "
    }
   },
   "types_to_exclude": [
    "module",
    "function",
    "builtin_function_or_method",
    "instance",
    "_Feature"
   ],
   "window_display": false
  }
 },
 "nbformat": 4,
 "nbformat_minor": 2
}
