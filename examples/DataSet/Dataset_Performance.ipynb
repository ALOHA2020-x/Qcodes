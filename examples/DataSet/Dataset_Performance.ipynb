{
 "cells": [
  {
   "cell_type": "markdown",
   "metadata": {},
   "source": [
    "# DataSet Performance\n",
    "\n",
    "This notebook shows the trade-off between inserting data into a database row-by-row and as binary blobs. Inserting the data row-by-row means that we have direct access to all the data and may perform queries directly on the values of the data. On the other hand, as we shall see, this is much slower than inserting the data directly as binary blobs."
   ]
  },
  {
   "cell_type": "markdown",
   "metadata": {},
   "source": [
    "First, we choose a new location for the database to ensure that we don't add a bunch of benchmarking data to the default one."
   ]
  },
  {
   "cell_type": "code",
   "execution_count": 1,
   "metadata": {},
   "outputs": [
    {
     "name": "stdout",
     "output_type": "stream",
     "text": [
      "Logging hadn't been started.\n",
      "Activating auto-logging. Current session state plus future input saved.\n",
      "Filename       : /home/vsts/.qcodes/logs/command_history.log\n",
      "Mode           : append\n",
      "Output logging : True\n",
      "Raw input log  : False\n",
      "Timestamping   : True\n",
      "State          : active\n"
     ]
    },
    {
     "name": "stdout",
     "output_type": "stream",
     "text": [
      "Qcodes Logfile : /home/vsts/.qcodes/logs/200130-17574-qcodes.log\n"
     ]
    }
   ],
   "source": [
    "import os\n",
    "cwd = os.getcwd()\n",
    "import qcodes as qc\n",
    "qc.config[\"core\"][\"db_location\"] = os.path.join(cwd, 'testing.db')\n"
   ]
  },
  {
   "cell_type": "code",
   "execution_count": 2,
   "metadata": {},
   "outputs": [],
   "source": [
    "%matplotlib inline\n",
    "import time\n",
    "import matplotlib.pyplot as plt\n",
    "import numpy as np\n",
    "\n",
    "import qcodes as qc\n",
    "from qcodes.instrument.parameter import ManualParameter\n",
    "from qcodes.dataset.experiment_container import (Experiment,\n",
    "                                                 load_last_experiment,\n",
    "                                                 new_experiment)\n",
    "from qcodes.dataset.sqlite.database import initialise_database\n",
    "from qcodes import load_or_create_experiment\n",
    "from qcodes.dataset.measurements import Measurement"
   ]
  },
  {
   "cell_type": "code",
   "execution_count": 3,
   "metadata": {},
   "outputs": [
    {
     "name": "stdout",
     "output_type": "stream",
     "text": [
      "\r",
      "0it [00:00, ?it/s]"
     ]
    },
    {
     "name": "stdout",
     "output_type": "stream",
     "text": [
      "\r",
      "Upgrading database; v0 -> v1: : 0it [00:00, ?it/s]"
     ]
    },
    {
     "name": "stdout",
     "output_type": "stream",
     "text": [
      "\r",
      "Upgrading database; v0 -> v1: : 0it [00:00, ?it/s]"
     ]
    },
    {
     "name": "stdout",
     "output_type": "stream",
     "text": [
      "\n",
      "\r",
      "  0%|          | 0/1 [00:00<?, ?it/s]"
     ]
    },
    {
     "name": "stdout",
     "output_type": "stream",
     "text": [
      "\r",
      "Upgrading database; v1 -> v2:   0%|          | 0/1 [00:00<?, ?it/s]"
     ]
    },
    {
     "name": "stdout",
     "output_type": "stream",
     "text": [
      "\r",
      "Upgrading database; v1 -> v2: 100%|██████████| 1/1 [00:00<00:00, 782.67it/s]"
     ]
    },
    {
     "name": "stdout",
     "output_type": "stream",
     "text": [
      "\n",
      "\r",
      "0it [00:00, ?it/s]"
     ]
    },
    {
     "name": "stdout",
     "output_type": "stream",
     "text": [
      "\r",
      "Upgrading database; v2 -> v3: : 0it [00:00, ?it/s]"
     ]
    },
    {
     "name": "stdout",
     "output_type": "stream",
     "text": [
      "\r",
      "Upgrading database; v2 -> v3: : 0it [00:00, ?it/s]"
     ]
    },
    {
     "name": "stdout",
     "output_type": "stream",
     "text": [
      "\n",
      "\r",
      "0it [00:00, ?it/s]"
     ]
    },
    {
     "name": "stdout",
     "output_type": "stream",
     "text": [
      "\r",
      "Upgrading database; v3 -> v4: : 0it [00:00, ?it/s]"
     ]
    },
    {
     "name": "stdout",
     "output_type": "stream",
     "text": [
      "\r",
      "Upgrading database; v3 -> v4: : 0it [00:00, ?it/s]"
     ]
    },
    {
     "name": "stdout",
     "output_type": "stream",
     "text": [
      "\n",
      "\r",
      "  0%|          | 0/1 [00:00<?, ?it/s]"
     ]
    },
    {
     "name": "stdout",
     "output_type": "stream",
     "text": [
      "\r",
      "Upgrading database; v4 -> v5:   0%|          | 0/1 [00:00<?, ?it/s]"
     ]
    },
    {
     "name": "stdout",
     "output_type": "stream",
     "text": [
      "\r",
      "Upgrading database; v4 -> v5: 100%|██████████| 1/1 [00:00<00:00, 835.69it/s]"
     ]
    },
    {
     "name": "stdout",
     "output_type": "stream",
     "text": [
      "\n",
      "\r",
      "0it [00:00, ?it/s]"
     ]
    },
    {
     "name": "stdout",
     "output_type": "stream",
     "text": [
      "\r",
      "Upgrading database; v5 -> v6: : 0it [00:00, ?it/s]"
     ]
    },
    {
     "name": "stdout",
     "output_type": "stream",
     "text": [
      "\r",
      "Upgrading database; v5 -> v6: : 0it [00:00, ?it/s]"
     ]
    },
    {
     "name": "stdout",
     "output_type": "stream",
     "text": [
      "\n",
      "\r",
      "  0%|          | 0/1 [00:00<?, ?it/s]"
     ]
    },
    {
     "name": "stdout",
     "output_type": "stream",
     "text": [
      "\r",
      "Upgrading database; v6 -> v7:   0%|          | 0/1 [00:00<?, ?it/s]"
     ]
    },
    {
     "name": "stdout",
     "output_type": "stream",
     "text": [
      "\r",
      "Upgrading database; v6 -> v7: 100%|██████████| 1/1 [00:00<00:00, 369.67it/s]"
     ]
    },
    {
     "name": "stdout",
     "output_type": "stream",
     "text": [
      "\n",
      "\r",
      "  0%|          | 0/1 [00:00<?, ?it/s]"
     ]
    },
    {
     "name": "stdout",
     "output_type": "stream",
     "text": [
      "\r",
      "Upgrading database; v7 -> v8:   0%|          | 0/1 [00:00<?, ?it/s]"
     ]
    },
    {
     "name": "stdout",
     "output_type": "stream",
     "text": [
      "\r",
      "Upgrading database; v7 -> v8: 100%|██████████| 1/1 [00:00<00:00, 732.50it/s]"
     ]
    },
    {
     "name": "stdout",
     "output_type": "stream",
     "text": [
      "\n"
     ]
    }
   ],
   "source": [
    "initialise_database()\n",
    "exp = load_or_create_experiment(experiment_name='tutorial_exp', sample_name=\"no sample\")"
   ]
  },
  {
   "cell_type": "markdown",
   "metadata": {},
   "source": [
    "Here, we define a simple function to benchmark the time it takes to insert n points with either numeric or array data type.\n",
    "We will compare both the time used to call ``add_result`` and the time used for the full measurement."
   ]
  },
  {
   "cell_type": "code",
   "execution_count": 4,
   "metadata": {},
   "outputs": [],
   "source": [
    "def insert_data(paramtype, npoints, nreps=1):\n",
    "\n",
    "    meas = Measurement(exp=exp)\n",
    "\n",
    "    x1 = ManualParameter('x1')\n",
    "    x2 = ManualParameter('x2')\n",
    "    x3 = ManualParameter('x3')\n",
    "    y1 = ManualParameter('y1')\n",
    "    y2 = ManualParameter('y2')\n",
    "\n",
    "    meas.register_parameter(x1, paramtype=paramtype)\n",
    "    meas.register_parameter(x2, paramtype=paramtype)\n",
    "    meas.register_parameter(x3, paramtype=paramtype)\n",
    "    meas.register_parameter(y1, setpoints=[x1, x2, x3],\n",
    "                            paramtype=paramtype)\n",
    "    meas.register_parameter(y2, setpoints=[x1, x2, x3],\n",
    "                            paramtype=paramtype)\n",
    "    start = time.perf_counter()\n",
    "    with meas.run() as datasaver:\n",
    "        start_adding = time.perf_counter()\n",
    "        for i in range(nreps):\n",
    "            datasaver.add_result((x1, np.random.rand(npoints)),\n",
    "                                 (x2, np.random.rand(npoints)),\n",
    "                                 (x3, np.random.rand(npoints)),\n",
    "                                 (y1, np.random.rand(npoints)),\n",
    "                                 (y2, np.random.rand(npoints)))\n",
    "        stop_adding = time.perf_counter()\n",
    "        run_id = datasaver.run_id\n",
    "    stop = time.perf_counter()\n",
    "    tot_time = stop - start\n",
    "    add_time = stop_adding - start_adding\n",
    "    return tot_time, add_time, run_id"
   ]
  },
  {
   "cell_type": "markdown",
   "metadata": {},
   "source": [
    "## Comparison between numeric/array data and binary blob"
   ]
  },
  {
   "cell_type": "markdown",
   "metadata": {},
   "source": [
    "### Case1: Short experiment time"
   ]
  },
  {
   "cell_type": "code",
   "execution_count": 5,
   "metadata": {},
   "outputs": [
    {
     "name": "stdout",
     "output_type": "stream",
     "text": [
      "Starting experimental run with id: 1. \n",
      "Starting experimental run with id: 2. \n",
      "Starting experimental run with id: 3. \n",
      "Starting experimental run with id: 4. \n"
     ]
    },
    {
     "name": "stdout",
     "output_type": "stream",
     "text": [
      "Starting experimental run with id: 5. \n"
     ]
    },
    {
     "name": "stdout",
     "output_type": "stream",
     "text": [
      "Starting experimental run with id: 6. \n",
      "Starting experimental run with id: 7. \n"
     ]
    },
    {
     "name": "stdout",
     "output_type": "stream",
     "text": [
      "Starting experimental run with id: 8. \n"
     ]
    },
    {
     "name": "stdout",
     "output_type": "stream",
     "text": [
      "Starting experimental run with id: 9. \n"
     ]
    },
    {
     "name": "stdout",
     "output_type": "stream",
     "text": [
      "Starting experimental run with id: 10. \n",
      "Starting experimental run with id: 11. \n"
     ]
    },
    {
     "name": "stdout",
     "output_type": "stream",
     "text": [
      "Starting experimental run with id: 12. \n"
     ]
    },
    {
     "name": "stdout",
     "output_type": "stream",
     "text": [
      "Starting experimental run with id: 13. \n"
     ]
    },
    {
     "name": "stdout",
     "output_type": "stream",
     "text": [
      "Starting experimental run with id: 14. \n"
     ]
    }
   ],
   "source": [
    "sizes = [1,500,1000,2000,3000,4000,5000]\n",
    "t_numeric = []\n",
    "t_numeric_add = []\n",
    "t_array = []\n",
    "t_array_add = []\n",
    "for size in sizes:\n",
    "    tn, tna, run_id_n =  insert_data('numeric', size)\n",
    "    t_numeric.append(tn)\n",
    "    t_numeric_add.append(tna)\n",
    "\n",
    "    ta, taa, run_id_a =  insert_data('array', size)\n",
    "    t_array.append(ta)\n",
    "    t_array_add.append(taa)"
   ]
  },
  {
   "cell_type": "code",
   "execution_count": 6,
   "metadata": {},
   "outputs": [
    {
     "data": {
      "image/png": "[encoded data removed]",
      "text/plain": [
       "<Figure size 432x288 with 1 Axes>"
      ]
     },
     "metadata": {
      "needs_background": "light"
     },
     "output_type": "display_data"
    }
   ],
   "source": [
    "fig, ax = plt.subplots(1,1)\n",
    "ax.plot(sizes, t_numeric, 'o-', label='Inserting row-by-row')\n",
    "ax.plot(sizes, t_numeric_add, 'o-', label='Inserting row-by-row: add_result only')\n",
    "ax.plot(sizes, t_array, 'd-', label='Inserting as binary blob')\n",
    "ax.plot(sizes, t_array_add, 'd-', label='Inserting as binary blob: add_result only')\n",
    "ax.legend()\n",
    "ax.set_xlabel('Array length')\n",
    "ax.set_ylabel('Time (s)')\n",
    "fig.tight_layout()"
   ]
  },
  {
   "cell_type": "markdown",
   "metadata": {},
   "source": [
    "As shown in the latter figure, the time to setup and and close the experiment is approximately 0.4 sec. In case of small array sizes, the difference between inserting values of data as arrays and inserting them row-by-row is relatively unimportant. At larger array sizes, i.e. above 10000 points, the cost of writing data as individual datapoints starts to become important.\n"
   ]
  },
  {
   "cell_type": "markdown",
   "metadata": {},
   "source": [
    "### Case2: Long experiment time "
   ]
  },
  {
   "cell_type": "code",
   "execution_count": 7,
   "metadata": {},
   "outputs": [
    {
     "name": "stdout",
     "output_type": "stream",
     "text": [
      "Starting experimental run with id: 15. \n",
      "Starting experimental run with id: 16. \n",
      "Starting experimental run with id: 17. \n"
     ]
    },
    {
     "name": "stdout",
     "output_type": "stream",
     "text": [
      "Starting experimental run with id: 18. \n",
      "Starting experimental run with id: 19. \n"
     ]
    },
    {
     "name": "stdout",
     "output_type": "stream",
     "text": [
      "Starting experimental run with id: 20. \n"
     ]
    },
    {
     "name": "stdout",
     "output_type": "stream",
     "text": [
      "Starting experimental run with id: 21. \n"
     ]
    },
    {
     "name": "stdout",
     "output_type": "stream",
     "text": [
      "Starting experimental run with id: 22. \n"
     ]
    },
    {
     "name": "stdout",
     "output_type": "stream",
     "text": [
      "Starting experimental run with id: 23. \n"
     ]
    },
    {
     "name": "stdout",
     "output_type": "stream",
     "text": [
      "Starting experimental run with id: 24. \n"
     ]
    },
    {
     "name": "stdout",
     "output_type": "stream",
     "text": [
      "Starting experimental run with id: 25. \n"
     ]
    },
    {
     "name": "stdout",
     "output_type": "stream",
     "text": [
      "Starting experimental run with id: 26. \n"
     ]
    },
    {
     "name": "stdout",
     "output_type": "stream",
     "text": [
      "Starting experimental run with id: 27. \n"
     ]
    },
    {
     "name": "stdout",
     "output_type": "stream",
     "text": [
      "Starting experimental run with id: 28. \n"
     ]
    }
   ],
   "source": [
    "sizes = [1,500,1000,2000,3000,4000,5000]\n",
    "nreps = 100\n",
    "t_numeric = []\n",
    "t_numeric_add = []\n",
    "t_numeric_run_ids = []\n",
    "t_array = []\n",
    "t_array_add = []\n",
    "t_array_run_ids = []\n",
    "for size in sizes:\n",
    "    tn, tna, run_id_n =  insert_data('numeric', size, nreps=nreps)\n",
    "    t_numeric.append(tn)\n",
    "    t_numeric_add.append(tna)\n",
    "    t_numeric_run_ids.append(run_id_n)\n",
    "\n",
    "    ta, taa, run_id_a =  insert_data('array', size, nreps=nreps)\n",
    "    t_array.append(ta)\n",
    "    t_array_add.append(taa)\n",
    "    t_array_run_ids.append(run_id_a)"
   ]
  },
  {
   "cell_type": "code",
   "execution_count": 8,
   "metadata": {
    "scrolled": true
   },
   "outputs": [
    {
     "data": {
      "image/png": "[encoded data removed]",
      "text/plain": [
       "<Figure size 432x288 with 1 Axes>"
      ]
     },
     "metadata": {
      "needs_background": "light"
     },
     "output_type": "display_data"
    }
   ],
   "source": [
    "fig, ax = plt.subplots(1,1)\n",
    "ax.plot(sizes, t_numeric, 'o-', label='Inserting row-by-row')\n",
    "ax.plot(sizes, t_numeric_add, 'o-', label='Inserting row-by-row: add_result only')\n",
    "ax.plot(sizes, t_array, 'd-', label='Inserting as binary blob')\n",
    "ax.plot(sizes, t_array_add, 'd-', label='Inserting as binary blob: add_result only')\n",
    "ax.legend()\n",
    "ax.set_xlabel('Array length')\n",
    "ax.set_ylabel('Time (s)')\n",
    "fig.tight_layout()"
   ]
  },
  {
   "cell_type": "markdown",
   "metadata": {},
   "source": [
    "However, as we increase the length of the experiment, as seen here by repeating the insertion 100 times, we see a big difference between inserting values of the data row-by-row and inserting it as a binary blob."
   ]
  },
  {
   "cell_type": "markdown",
   "metadata": {},
   "source": [
    "## Loading the data "
   ]
  },
  {
   "cell_type": "code",
   "execution_count": 9,
   "metadata": {},
   "outputs": [],
   "source": [
    "from qcodes.dataset.data_set import load_by_id\n",
    "from qcodes.dataset.data_export import get_data_by_id"
   ]
  },
  {
   "cell_type": "markdown",
   "metadata": {},
   "source": [
    "As usual you can load the data by using the ``load_by_id`` function but you will notice that the different storage methods\n",
    "are reflected in shape of the data as it is retrieved. "
   ]
  },
  {
   "cell_type": "code",
   "execution_count": 10,
   "metadata": {},
   "outputs": [],
   "source": [
    "run_id_n = t_numeric_run_ids[0]\n",
    "run_id_a = t_array_run_ids[0]"
   ]
  },
  {
   "cell_type": "code",
   "execution_count": 11,
   "metadata": {
    "scrolled": true
   },
   "outputs": [
    {
     "data": {
      "text/plain": [
       "{'x1': {'x1': array([6.08799412e-01, 6.08799412e-01, 4.21697238e-01, 4.21697238e-01,\n",
       "         6.28323561e-01, 6.28323561e-01, 5.15034812e-01, 5.15034812e-01,\n",
       "         3.39890767e-01, 3.39890767e-01, 1.55598731e-01, 1.55598731e-01,\n",
       "         7.45475295e-01, 7.45475295e-01, 7.79114470e-02, 7.79114470e-02,\n",
       "         6.11544823e-02, 6.11544823e-02, 8.84232299e-01, 8.84232299e-01,\n",
       "         5.67993545e-01, 5.67993545e-01, 1.52154028e-01, 1.52154028e-01,\n",
       "         5.14791166e-01, 5.14791166e-01, 8.60593412e-01, 8.60593412e-01,\n",
       "         4.74123220e-01, 4.74123220e-01, 4.63203872e-01, 4.63203872e-01,\n",
       "         9.58650440e-01, 9.58650440e-01, 7.40001454e-02, 7.40001454e-02,\n",
       "         1.88422795e-01, 1.88422795e-01, 9.72493457e-02, 9.72493457e-02,\n",
       "         8.63586270e-01, 8.63586270e-01, 3.96124941e-01, 3.96124941e-01,\n",
       "         5.68992373e-01, 5.68992373e-01, 5.72844837e-01, 5.72844837e-01,\n",
       "         7.06795841e-01, 7.06795841e-01, 9.64517993e-01, 9.64517993e-01,\n",
       "         4.51118430e-01, 4.51118430e-01, 5.29188276e-01, 5.29188276e-01,\n",
       "         7.63884936e-02, 7.63884936e-02, 6.44564928e-01, 6.44564928e-01,\n",
       "         8.30012186e-01, 8.30012186e-01, 7.45534249e-01, 7.45534249e-01,\n",
       "         6.27566671e-01, 6.27566671e-01, 9.11523728e-02, 9.11523728e-02,\n",
       "         9.50198982e-01, 9.50198982e-01, 6.01364614e-01, 6.01364614e-01,\n",
       "         7.81601133e-01, 7.81601133e-01, 1.02816388e-01, 1.02816388e-01,\n",
       "         5.36360705e-01, 5.36360705e-01, 2.64802011e-01, 2.64802011e-01,\n",
       "         7.46428349e-01, 7.46428349e-01, 1.08088731e-04, 1.08088731e-04,\n",
       "         6.97409838e-01, 6.97409838e-01, 8.60027825e-02, 8.60027825e-02,\n",
       "         5.89323503e-01, 5.89323503e-01, 3.07599549e-01, 3.07599549e-01,\n",
       "         2.00485864e-01, 2.00485864e-01, 6.42670801e-01, 6.42670801e-01,\n",
       "         2.35230885e-01, 2.35230885e-01, 4.73487997e-01, 4.73487997e-01,\n",
       "         3.80286007e-01, 3.80286007e-01, 7.36596113e-01, 7.36596113e-01,\n",
       "         5.48193962e-01, 5.48193962e-01, 7.10945010e-01, 7.10945010e-01,\n",
       "         8.03892088e-01, 8.03892088e-01, 9.39354341e-01, 9.39354341e-01,\n",
       "         7.92343377e-01, 7.92343377e-01, 4.26297689e-01, 4.26297689e-01,\n",
       "         8.93509887e-01, 8.93509887e-01, 5.33253974e-01, 5.33253974e-01,\n",
       "         4.13621906e-01, 4.13621906e-01, 9.33231049e-01, 9.33231049e-01,\n",
       "         8.72557791e-01, 8.72557791e-01, 1.90212108e-01, 1.90212108e-01,\n",
       "         1.76710592e-01, 1.76710592e-01, 9.99326176e-02, 9.99326176e-02,\n",
       "         7.85715685e-01, 7.85715685e-01, 5.32559372e-01, 5.32559372e-01,\n",
       "         3.75766019e-01, 3.75766019e-01, 4.53247946e-01, 4.53247946e-01,\n",
       "         7.19783740e-01, 7.19783740e-01, 5.14024724e-01, 5.14024724e-01,\n",
       "         1.95508980e-01, 1.95508980e-01, 8.82376665e-01, 8.82376665e-01,\n",
       "         8.13757000e-01, 8.13757000e-01, 5.78448764e-01, 5.78448764e-01,\n",
       "         3.06134753e-01, 3.06134753e-01, 5.19632863e-01, 5.19632863e-01,\n",
       "         3.43982887e-01, 3.43982887e-01, 4.75920039e-02, 4.75920039e-02,\n",
       "         4.06194099e-01, 4.06194099e-01, 5.23590550e-01, 5.23590550e-01,\n",
       "         3.70007498e-01, 3.70007498e-01, 6.77475362e-01, 6.77475362e-01,\n",
       "         8.91719236e-01, 8.91719236e-01, 5.29173692e-01, 5.29173692e-01,\n",
       "         7.19627274e-01, 7.19627274e-01, 2.94247746e-01, 2.94247746e-01,\n",
       "         5.92950986e-01, 5.92950986e-01, 5.47807719e-01, 5.47807719e-01,\n",
       "         4.53093867e-02, 4.53093867e-02, 5.33921760e-01, 5.33921760e-01,\n",
       "         3.90970968e-01, 3.90970968e-01, 6.75614633e-01, 6.75614633e-01,\n",
       "         1.02479493e-01, 1.02479493e-01, 4.53587704e-01, 4.53587704e-01,\n",
       "         3.41397621e-01, 3.41397621e-01, 5.33772991e-01, 5.33772991e-01,\n",
       "         6.75589380e-01, 6.75589380e-01, 5.99206463e-01, 5.99206463e-01])}}"
      ]
     },
     "execution_count": 11,
     "metadata": {},
     "output_type": "execute_result"
    }
   ],
   "source": [
    "ds = load_by_id(run_id_n)\n",
    "ds.get_parameter_data('x1')"
   ]
  },
  {
   "cell_type": "markdown",
   "metadata": {},
   "source": [
    "And a dataset stored as binary arrays"
   ]
  },
  {
   "cell_type": "code",
   "execution_count": 12,
   "metadata": {
    "scrolled": true
   },
   "outputs": [
    {
     "data": {
      "text/plain": [
       "{'x1': {'x1': array([[0.42921532],\n",
       "         [0.42921532],\n",
       "         [0.00116146],\n",
       "         [0.00116146],\n",
       "         [0.55393808],\n",
       "         [0.55393808],\n",
       "         [0.18285852],\n",
       "         [0.18285852],\n",
       "         [0.12454465],\n",
       "         [0.12454465],\n",
       "         [0.0467628 ],\n",
       "         [0.0467628 ],\n",
       "         [0.57339053],\n",
       "         [0.57339053],\n",
       "         [0.58804608],\n",
       "         [0.58804608],\n",
       "         [0.63925867],\n",
       "         [0.63925867],\n",
       "         [0.4327264 ],\n",
       "         [0.4327264 ],\n",
       "         [0.22893659],\n",
       "         [0.22893659],\n",
       "         [0.99473461],\n",
       "         [0.99473461],\n",
       "         [0.10814296],\n",
       "         [0.10814296],\n",
       "         [0.88507387],\n",
       "         [0.88507387],\n",
       "         [0.61921847],\n",
       "         [0.61921847],\n",
       "         [0.70017518],\n",
       "         [0.70017518],\n",
       "         [0.35146147],\n",
       "         [0.35146147],\n",
       "         [0.15059548],\n",
       "         [0.15059548],\n",
       "         [0.84265261],\n",
       "         [0.84265261],\n",
       "         [0.96847653],\n",
       "         [0.96847653],\n",
       "         [0.76090526],\n",
       "         [0.76090526],\n",
       "         [0.03588196],\n",
       "         [0.03588196],\n",
       "         [0.59824378],\n",
       "         [0.59824378],\n",
       "         [0.34588008],\n",
       "         [0.34588008],\n",
       "         [0.97159918],\n",
       "         [0.97159918],\n",
       "         [0.30949596],\n",
       "         [0.30949596],\n",
       "         [0.4265867 ],\n",
       "         [0.4265867 ],\n",
       "         [0.22976049],\n",
       "         [0.22976049],\n",
       "         [0.90749085],\n",
       "         [0.90749085],\n",
       "         [0.30811261],\n",
       "         [0.30811261],\n",
       "         [0.88360452],\n",
       "         [0.88360452],\n",
       "         [0.52187673],\n",
       "         [0.52187673],\n",
       "         [0.82448025],\n",
       "         [0.82448025],\n",
       "         [0.88301603],\n",
       "         [0.88301603],\n",
       "         [0.61095964],\n",
       "         [0.61095964],\n",
       "         [0.03615634],\n",
       "         [0.03615634],\n",
       "         [0.02370543],\n",
       "         [0.02370543],\n",
       "         [0.09998554],\n",
       "         [0.09998554],\n",
       "         [0.16959868],\n",
       "         [0.16959868],\n",
       "         [0.4237683 ],\n",
       "         [0.4237683 ],\n",
       "         [0.108389  ],\n",
       "         [0.108389  ],\n",
       "         [0.29937155],\n",
       "         [0.29937155],\n",
       "         [0.51096467],\n",
       "         [0.51096467],\n",
       "         [0.3464787 ],\n",
       "         [0.3464787 ],\n",
       "         [0.5443525 ],\n",
       "         [0.5443525 ],\n",
       "         [0.44635646],\n",
       "         [0.44635646],\n",
       "         [0.76471866],\n",
       "         [0.76471866],\n",
       "         [0.16814136],\n",
       "         [0.16814136],\n",
       "         [0.78132108],\n",
       "         [0.78132108],\n",
       "         [0.29808245],\n",
       "         [0.29808245],\n",
       "         [0.4420413 ],\n",
       "         [0.4420413 ],\n",
       "         [0.28075504],\n",
       "         [0.28075504],\n",
       "         [0.74914459],\n",
       "         [0.74914459],\n",
       "         [0.6706975 ],\n",
       "         [0.6706975 ],\n",
       "         [0.77818027],\n",
       "         [0.77818027],\n",
       "         [0.44790329],\n",
       "         [0.44790329],\n",
       "         [0.22169696],\n",
       "         [0.22169696],\n",
       "         [0.02897789],\n",
       "         [0.02897789],\n",
       "         [0.42789692],\n",
       "         [0.42789692],\n",
       "         [0.76910223],\n",
       "         [0.76910223],\n",
       "         [0.1179029 ],\n",
       "         [0.1179029 ],\n",
       "         [0.94320244],\n",
       "         [0.94320244],\n",
       "         [0.18485792],\n",
       "         [0.18485792],\n",
       "         [0.62854372],\n",
       "         [0.62854372],\n",
       "         [0.94696372],\n",
       "         [0.94696372],\n",
       "         [0.7359715 ],\n",
       "         [0.7359715 ],\n",
       "         [0.49442488],\n",
       "         [0.49442488],\n",
       "         [0.25689625],\n",
       "         [0.25689625],\n",
       "         [0.00718945],\n",
       "         [0.00718945],\n",
       "         [0.38621413],\n",
       "         [0.38621413],\n",
       "         [0.09921756],\n",
       "         [0.09921756],\n",
       "         [0.8297972 ],\n",
       "         [0.8297972 ],\n",
       "         [0.33755706],\n",
       "         [0.33755706],\n",
       "         [0.12971707],\n",
       "         [0.12971707],\n",
       "         [0.7349212 ],\n",
       "         [0.7349212 ],\n",
       "         [0.26831785],\n",
       "         [0.26831785],\n",
       "         [0.1266346 ],\n",
       "         [0.1266346 ],\n",
       "         [0.49429037],\n",
       "         [0.49429037],\n",
       "         [0.21583838],\n",
       "         [0.21583838],\n",
       "         [0.14904387],\n",
       "         [0.14904387],\n",
       "         [0.07985873],\n",
       "         [0.07985873],\n",
       "         [0.27501749],\n",
       "         [0.27501749],\n",
       "         [0.33727284],\n",
       "         [0.33727284],\n",
       "         [0.0070066 ],\n",
       "         [0.0070066 ],\n",
       "         [0.60385616],\n",
       "         [0.60385616],\n",
       "         [0.78792278],\n",
       "         [0.78792278],\n",
       "         [0.20305955],\n",
       "         [0.20305955],\n",
       "         [0.15372045],\n",
       "         [0.15372045],\n",
       "         [0.42684851],\n",
       "         [0.42684851],\n",
       "         [0.71292297],\n",
       "         [0.71292297],\n",
       "         [0.54977199],\n",
       "         [0.54977199],\n",
       "         [0.0314877 ],\n",
       "         [0.0314877 ],\n",
       "         [0.61019015],\n",
       "         [0.61019015],\n",
       "         [0.89808876],\n",
       "         [0.89808876],\n",
       "         [0.68907196],\n",
       "         [0.68907196],\n",
       "         [0.95981658],\n",
       "         [0.95981658],\n",
       "         [0.14091557],\n",
       "         [0.14091557],\n",
       "         [0.50074858],\n",
       "         [0.50074858],\n",
       "         [0.46261548],\n",
       "         [0.46261548],\n",
       "         [0.71983265],\n",
       "         [0.71983265]])}}"
      ]
     },
     "execution_count": 12,
     "metadata": {},
     "output_type": "execute_result"
    }
   ],
   "source": [
    "ds = load_by_id(run_id_a)\n",
    "ds.get_parameter_data('x1')"
   ]
  },
  {
   "cell_type": "code",
   "execution_count": null,
   "metadata": {},
   "outputs": [],
   "source": []
  }
 ],
 "metadata": {
  "kernelspec": {
   "display_name": "Python 3",
   "language": "python",
   "name": "python3"
  },
  "language_info": {
   "codemirror_mode": {
    "name": "ipython",
    "version": 3
   },
   "file_extension": ".py",
   "mimetype": "text/x-python",
   "name": "python",
   "nbconvert_exporter": "python",
   "pygments_lexer": "ipython3",
   "version": "3.7.5"
  },
  "nbsphinx": {
   "timeout": 600
  },
  "toc": {
   "base_numbering": 1,
   "nav_menu": {},
   "number_sections": true,
   "sideBar": true,
   "skip_h1_title": false,
   "title_cell": "Table of Contents",
   "title_sidebar": "Contents",
   "toc_cell": false,
   "toc_position": {},
   "toc_section_display": true,
   "toc_window_display": false
  },
  "varInspector": {
   "cols": {
    "lenName": 16,
    "lenType": 16,
    "lenVar": 40
   },
   "kernels_config": {
    "python": {
     "delete_cmd_postfix": "",
     "delete_cmd_prefix": "del ",
     "library": "var_list.py",
     "varRefreshCmd": "print(var_dic_list())"
    },
    "r": {
     "delete_cmd_postfix": ") ",
     "delete_cmd_prefix": "rm(",
     "library": "var_list.r",
     "varRefreshCmd": "cat(var_dic_list()) "
    }
   },
   "types_to_exclude": [
    "module",
    "function",
    "builtin_function_or_method",
    "instance",
    "_Feature"
   ],
   "window_display": false
  }
 },
 "nbformat": 4,
 "nbformat_minor": 2
}
