{
 "cells": [
  {
   "cell_type": "markdown",
   "metadata": {},
   "source": [
    "# DataSet Performance\n",
    "\n",
    "This notebook shows the trade-off between inserting data into a database row-by-row and as binary blobs. Inserting the data row-by-row means that we have direct access to all the data and may perform queries directly on the values of the data. On the other hand, as we shall see, this is much slower than inserting the data directly as binary blobs."
   ]
  },
  {
   "cell_type": "markdown",
   "metadata": {},
   "source": [
    "First, we choose a new location for the database to ensure that we don't add a bunch of benchmarking data to the default one."
   ]
  },
  {
   "cell_type": "code",
   "execution_count": 1,
   "metadata": {
    "execution": {
     "iopub.execute_input": "2021-01-15T08:51:57.259449Z",
     "iopub.status.busy": "2021-01-15T08:51:57.258918Z",
     "iopub.status.idle": "2021-01-15T08:51:58.316217Z",
     "shell.execute_reply": "2021-01-15T08:51:58.316805Z"
    }
   },
   "outputs": [
    {
     "name": "stdout",
     "output_type": "stream",
     "text": [
      "Logging hadn't been started.\n",
      "Activating auto-logging. Current session state plus future input saved.\n",
      "Filename       : /home/vsts/.qcodes/logs/command_history.log\n",
      "Mode           : append\n",
      "Output logging : True\n",
      "Raw input log  : False\n",
      "Timestamping   : True\n",
      "State          : active\n"
     ]
    },
    {
     "name": "stdout",
     "output_type": "stream",
     "text": [
      "Qcodes Logfile : /home/vsts/.qcodes/logs/210115-13342-qcodes.log\n"
     ]
    }
   ],
   "source": [
    "import os\n",
    "cwd = os.getcwd()\n",
    "import qcodes as qc\n",
    "qc.config[\"core\"][\"db_location\"] = os.path.join(cwd, 'testing.db')\n"
   ]
  },
  {
   "cell_type": "code",
   "execution_count": 2,
   "metadata": {
    "execution": {
     "iopub.execute_input": "2021-01-15T08:51:58.324472Z",
     "iopub.status.busy": "2021-01-15T08:51:58.323929Z",
     "iopub.status.idle": "2021-01-15T08:51:58.513541Z",
     "shell.execute_reply": "2021-01-15T08:51:58.512655Z"
    }
   },
   "outputs": [],
   "source": [
    "%matplotlib inline\n",
    "import time\n",
    "import matplotlib.pyplot as plt\n",
    "import numpy as np\n",
    "\n",
    "import qcodes as qc\n",
    "from qcodes.instrument.parameter import ManualParameter\n",
    "from qcodes.dataset.experiment_container import (Experiment,\n",
    "                                                 load_last_experiment,\n",
    "                                                 new_experiment)\n",
    "from qcodes.dataset.sqlite.database import initialise_database\n",
    "from qcodes import load_or_create_experiment\n",
    "from qcodes.dataset.measurements import Measurement"
   ]
  },
  {
   "cell_type": "code",
   "execution_count": 3,
   "metadata": {
    "execution": {
     "iopub.execute_input": "2021-01-15T08:51:58.517222Z",
     "iopub.status.busy": "2021-01-15T08:51:58.516674Z",
     "iopub.status.idle": "2021-01-15T08:51:58.628570Z",
     "shell.execute_reply": "2021-01-15T08:51:58.627997Z"
    }
   },
   "outputs": [
    {
     "name": "stdout",
     "output_type": "stream",
     "text": [
      "\r",
      "0it [00:00, ?it/s]"
     ]
    },
    {
     "name": "stdout",
     "output_type": "stream",
     "text": [
      "\r",
      "Upgrading database; v0 -> v1: : 0it [00:00, ?it/s]"
     ]
    },
    {
     "name": "stdout",
     "output_type": "stream",
     "text": [
      "\r",
      "Upgrading database; v0 -> v1: : 0it [00:00, ?it/s]"
     ]
    },
    {
     "name": "stdout",
     "output_type": "stream",
     "text": [
      "\n",
      "\r",
      "  0%|          | 0/1 [00:00<?, ?it/s]"
     ]
    },
    {
     "name": "stdout",
     "output_type": "stream",
     "text": [
      "\r",
      "Upgrading database; v1 -> v2:   0%|          | 0/1 [00:00<?, ?it/s]"
     ]
    },
    {
     "name": "stdout",
     "output_type": "stream",
     "text": [
      "\r",
      "Upgrading database; v1 -> v2: 100%|██████████| 1/1 [00:00<00:00, 1080.45it/s]"
     ]
    },
    {
     "name": "stdout",
     "output_type": "stream",
     "text": [
      "\n",
      "\r",
      "0it [00:00, ?it/s]"
     ]
    },
    {
     "name": "stdout",
     "output_type": "stream",
     "text": [
      "\r",
      "Upgrading database; v2 -> v3: : 0it [00:00, ?it/s]"
     ]
    },
    {
     "name": "stdout",
     "output_type": "stream",
     "text": [
      "\r",
      "Upgrading database; v2 -> v3: : 0it [00:00, ?it/s]"
     ]
    },
    {
     "name": "stdout",
     "output_type": "stream",
     "text": [
      "\n",
      "\r",
      "0it [00:00, ?it/s]"
     ]
    },
    {
     "name": "stdout",
     "output_type": "stream",
     "text": [
      "\r",
      "Upgrading database; v3 -> v4: : 0it [00:00, ?it/s]"
     ]
    },
    {
     "name": "stdout",
     "output_type": "stream",
     "text": [
      "\r",
      "Upgrading database; v3 -> v4: : 0it [00:00, ?it/s]"
     ]
    },
    {
     "name": "stdout",
     "output_type": "stream",
     "text": [
      "\n",
      "\r",
      "  0%|          | 0/1 [00:00<?, ?it/s]"
     ]
    },
    {
     "name": "stdout",
     "output_type": "stream",
     "text": [
      "\r",
      "Upgrading database; v4 -> v5:   0%|          | 0/1 [00:00<?, ?it/s]"
     ]
    },
    {
     "name": "stdout",
     "output_type": "stream",
     "text": [
      "\r",
      "Upgrading database; v4 -> v5: 100%|██████████| 1/1 [00:00<00:00, 600.22it/s]"
     ]
    },
    {
     "name": "stdout",
     "output_type": "stream",
     "text": [
      "\n",
      "\r",
      "0it [00:00, ?it/s]"
     ]
    },
    {
     "name": "stdout",
     "output_type": "stream",
     "text": [
      "\r",
      "Upgrading database; v5 -> v6: : 0it [00:00, ?it/s]"
     ]
    },
    {
     "name": "stdout",
     "output_type": "stream",
     "text": [
      "\r",
      "Upgrading database; v5 -> v6: : 0it [00:00, ?it/s]"
     ]
    },
    {
     "name": "stdout",
     "output_type": "stream",
     "text": [
      "\n",
      "\r",
      "  0%|          | 0/1 [00:00<?, ?it/s]"
     ]
    },
    {
     "name": "stdout",
     "output_type": "stream",
     "text": [
      "\r",
      "Upgrading database; v6 -> v7:   0%|          | 0/1 [00:00<?, ?it/s]"
     ]
    },
    {
     "name": "stdout",
     "output_type": "stream",
     "text": [
      "\r",
      "Upgrading database; v6 -> v7: 100%|██████████| 1/1 [00:00<00:00, 453.73it/s]"
     ]
    },
    {
     "name": "stdout",
     "output_type": "stream",
     "text": [
      "\n",
      "\r",
      "  0%|          | 0/1 [00:00<?, ?it/s]"
     ]
    },
    {
     "name": "stdout",
     "output_type": "stream",
     "text": [
      "\r",
      "Upgrading database; v7 -> v8:   0%|          | 0/1 [00:00<?, ?it/s]"
     ]
    },
    {
     "name": "stdout",
     "output_type": "stream",
     "text": [
      "\r",
      "Upgrading database; v7 -> v8: 100%|██████████| 1/1 [00:00<00:00, 525.27it/s]"
     ]
    },
    {
     "name": "stdout",
     "output_type": "stream",
     "text": [
      "\n",
      "\r",
      "  0%|          | 0/1 [00:00<?, ?it/s]"
     ]
    },
    {
     "name": "stdout",
     "output_type": "stream",
     "text": [
      "\r",
      "Upgrading database; v8 -> v9:   0%|          | 0/1 [00:00<?, ?it/s]"
     ]
    },
    {
     "name": "stdout",
     "output_type": "stream",
     "text": [
      "\r",
      "Upgrading database; v8 -> v9: 100%|██████████| 1/1 [00:00<00:00, 969.56it/s]"
     ]
    },
    {
     "name": "stdout",
     "output_type": "stream",
     "text": [
      "\n"
     ]
    }
   ],
   "source": [
    "initialise_database()\n",
    "exp = load_or_create_experiment(experiment_name='tutorial_exp', sample_name=\"no sample\")"
   ]
  },
  {
   "cell_type": "markdown",
   "metadata": {},
   "source": [
    "Here, we define a simple function to benchmark the time it takes to insert n points with either numeric or array data type.\n",
    "We will compare both the time used to call ``add_result`` and the time used for the full measurement."
   ]
  },
  {
   "cell_type": "code",
   "execution_count": 4,
   "metadata": {
    "execution": {
     "iopub.execute_input": "2021-01-15T08:51:58.637771Z",
     "iopub.status.busy": "2021-01-15T08:51:58.636592Z",
     "iopub.status.idle": "2021-01-15T08:51:58.638316Z",
     "shell.execute_reply": "2021-01-15T08:51:58.638887Z"
    }
   },
   "outputs": [],
   "source": [
    "def insert_data(paramtype, npoints, nreps=1):\n",
    "\n",
    "    meas = Measurement(exp=exp)\n",
    "\n",
    "    x1 = ManualParameter('x1')\n",
    "    x2 = ManualParameter('x2')\n",
    "    x3 = ManualParameter('x3')\n",
    "    y1 = ManualParameter('y1')\n",
    "    y2 = ManualParameter('y2')\n",
    "\n",
    "    meas.register_parameter(x1, paramtype=paramtype)\n",
    "    meas.register_parameter(x2, paramtype=paramtype)\n",
    "    meas.register_parameter(x3, paramtype=paramtype)\n",
    "    meas.register_parameter(y1, setpoints=[x1, x2, x3],\n",
    "                            paramtype=paramtype)\n",
    "    meas.register_parameter(y2, setpoints=[x1, x2, x3],\n",
    "                            paramtype=paramtype)\n",
    "    start = time.perf_counter()\n",
    "    with meas.run() as datasaver:\n",
    "        start_adding = time.perf_counter()\n",
    "        for i in range(nreps):\n",
    "            datasaver.add_result((x1, np.random.rand(npoints)),\n",
    "                                 (x2, np.random.rand(npoints)),\n",
    "                                 (x3, np.random.rand(npoints)),\n",
    "                                 (y1, np.random.rand(npoints)),\n",
    "                                 (y2, np.random.rand(npoints)))\n",
    "        stop_adding = time.perf_counter()\n",
    "        run_id = datasaver.run_id\n",
    "    stop = time.perf_counter()\n",
    "    tot_time = stop - start\n",
    "    add_time = stop_adding - start_adding\n",
    "    return tot_time, add_time, run_id"
   ]
  },
  {
   "cell_type": "markdown",
   "metadata": {},
   "source": [
    "## Comparison between numeric/array data and binary blob"
   ]
  },
  {
   "cell_type": "markdown",
   "metadata": {},
   "source": [
    "### Case1: Short experiment time"
   ]
  },
  {
   "cell_type": "code",
   "execution_count": 5,
   "metadata": {
    "execution": {
     "iopub.execute_input": "2021-01-15T08:51:58.645174Z",
     "iopub.status.busy": "2021-01-15T08:51:58.644099Z",
     "iopub.status.idle": "2021-01-15T08:51:59.521934Z",
     "shell.execute_reply": "2021-01-15T08:51:59.520999Z"
    }
   },
   "outputs": [
    {
     "name": "stdout",
     "output_type": "stream",
     "text": [
      "Starting experimental run with id: 1. \n",
      "Starting experimental run with id: 2. \n",
      "Starting experimental run with id: 3. \n",
      "Starting experimental run with id: 4. \n",
      "Starting experimental run with id: 5. \n"
     ]
    },
    {
     "name": "stdout",
     "output_type": "stream",
     "text": [
      "Starting experimental run with id: 6. \n"
     ]
    },
    {
     "name": "stdout",
     "output_type": "stream",
     "text": [
      "Starting experimental run with id: 7. \n"
     ]
    },
    {
     "name": "stdout",
     "output_type": "stream",
     "text": [
      "Starting experimental run with id: 8. \n",
      "Starting experimental run with id: 9. \n"
     ]
    },
    {
     "name": "stdout",
     "output_type": "stream",
     "text": [
      "Starting experimental run with id: 10. \n",
      "Starting experimental run with id: 11. \n"
     ]
    },
    {
     "name": "stdout",
     "output_type": "stream",
     "text": [
      "Starting experimental run with id: 12. \n"
     ]
    },
    {
     "name": "stdout",
     "output_type": "stream",
     "text": [
      "Starting experimental run with id: 13. \n"
     ]
    },
    {
     "name": "stdout",
     "output_type": "stream",
     "text": [
      "Starting experimental run with id: 14. \n"
     ]
    }
   ],
   "source": [
    "sizes = [1,500,1000,2000,3000,4000,5000]\n",
    "t_numeric = []\n",
    "t_numeric_add = []\n",
    "t_array = []\n",
    "t_array_add = []\n",
    "for size in sizes:\n",
    "    tn, tna, run_id_n =  insert_data('numeric', size)\n",
    "    t_numeric.append(tn)\n",
    "    t_numeric_add.append(tna)\n",
    "\n",
    "    ta, taa, run_id_a =  insert_data('array', size)\n",
    "    t_array.append(ta)\n",
    "    t_array_add.append(taa)"
   ]
  },
  {
   "cell_type": "code",
   "execution_count": 6,
   "metadata": {
    "execution": {
     "iopub.execute_input": "2021-01-15T08:51:59.550051Z",
     "iopub.status.busy": "2021-01-15T08:51:59.539110Z",
     "iopub.status.idle": "2021-01-15T08:51:59.732826Z",
     "shell.execute_reply": "2021-01-15T08:51:59.733256Z"
    }
   },
   "outputs": [
    {
     "data": {
      "image/png": "[encoded data removed]",
      "text/plain": [
       "<Figure size 432x288 with 1 Axes>"
      ]
     },
     "metadata": {
      "needs_background": "light"
     },
     "output_type": "display_data"
    }
   ],
   "source": [
    "fig, ax = plt.subplots(1,1)\n",
    "ax.plot(sizes, t_numeric, 'o-', label='Inserting row-by-row')\n",
    "ax.plot(sizes, t_numeric_add, 'o-', label='Inserting row-by-row: add_result only')\n",
    "ax.plot(sizes, t_array, 'd-', label='Inserting as binary blob')\n",
    "ax.plot(sizes, t_array_add, 'd-', label='Inserting as binary blob: add_result only')\n",
    "ax.legend()\n",
    "ax.set_xlabel('Array length')\n",
    "ax.set_ylabel('Time (s)')\n",
    "fig.tight_layout()"
   ]
  },
  {
   "cell_type": "markdown",
   "metadata": {},
   "source": [
    "As shown in the latter figure, the time to setup and and close the experiment is approximately 0.4 sec. In case of small array sizes, the difference between inserting values of data as arrays and inserting them row-by-row is relatively unimportant. At larger array sizes, i.e. above 10000 points, the cost of writing data as individual datapoints starts to become important.\n"
   ]
  },
  {
   "cell_type": "markdown",
   "metadata": {},
   "source": [
    "### Case2: Long experiment time "
   ]
  },
  {
   "cell_type": "code",
   "execution_count": 7,
   "metadata": {
    "execution": {
     "iopub.execute_input": "2021-01-15T08:51:59.740122Z",
     "iopub.status.busy": "2021-01-15T08:51:59.737786Z",
     "iopub.status.idle": "2021-01-15T08:52:59.068488Z",
     "shell.execute_reply": "2021-01-15T08:52:59.067976Z"
    }
   },
   "outputs": [
    {
     "name": "stdout",
     "output_type": "stream",
     "text": [
      "Starting experimental run with id: 15. \n",
      "Starting experimental run with id: 16. \n",
      "Starting experimental run with id: 17. \n"
     ]
    },
    {
     "name": "stdout",
     "output_type": "stream",
     "text": [
      "Starting experimental run with id: 18. \n",
      "Starting experimental run with id: 19. \n"
     ]
    },
    {
     "name": "stdout",
     "output_type": "stream",
     "text": [
      "Starting experimental run with id: 20. \n"
     ]
    },
    {
     "name": "stdout",
     "output_type": "stream",
     "text": [
      "Starting experimental run with id: 21. \n"
     ]
    },
    {
     "name": "stdout",
     "output_type": "stream",
     "text": [
      "Starting experimental run with id: 22. \n"
     ]
    },
    {
     "name": "stdout",
     "output_type": "stream",
     "text": [
      "Starting experimental run with id: 23. \n"
     ]
    },
    {
     "name": "stdout",
     "output_type": "stream",
     "text": [
      "Starting experimental run with id: 24. \n"
     ]
    },
    {
     "name": "stdout",
     "output_type": "stream",
     "text": [
      "Starting experimental run with id: 25. \n"
     ]
    },
    {
     "name": "stdout",
     "output_type": "stream",
     "text": [
      "Starting experimental run with id: 26. \n"
     ]
    },
    {
     "name": "stdout",
     "output_type": "stream",
     "text": [
      "Starting experimental run with id: 27. \n"
     ]
    },
    {
     "name": "stdout",
     "output_type": "stream",
     "text": [
      "Starting experimental run with id: 28. \n"
     ]
    }
   ],
   "source": [
    "sizes = [1,500,1000,2000,3000,4000,5000]\n",
    "nreps = 100\n",
    "t_numeric = []\n",
    "t_numeric_add = []\n",
    "t_numeric_run_ids = []\n",
    "t_array = []\n",
    "t_array_add = []\n",
    "t_array_run_ids = []\n",
    "for size in sizes:\n",
    "    tn, tna, run_id_n =  insert_data('numeric', size, nreps=nreps)\n",
    "    t_numeric.append(tn)\n",
    "    t_numeric_add.append(tna)\n",
    "    t_numeric_run_ids.append(run_id_n)\n",
    "\n",
    "    ta, taa, run_id_a =  insert_data('array', size, nreps=nreps)\n",
    "    t_array.append(ta)\n",
    "    t_array_add.append(taa)\n",
    "    t_array_run_ids.append(run_id_a)"
   ]
  },
  {
   "cell_type": "code",
   "execution_count": 8,
   "metadata": {
    "execution": {
     "iopub.execute_input": "2021-01-15T08:52:59.099235Z",
     "iopub.status.busy": "2021-01-15T08:52:59.096209Z",
     "iopub.status.idle": "2021-01-15T08:52:59.279042Z",
     "shell.execute_reply": "2021-01-15T08:52:59.279601Z"
    },
    "scrolled": true
   },
   "outputs": [
    {
     "data": {
      "image/png": "[encoded data removed]",
      "text/plain": [
       "<Figure size 432x288 with 1 Axes>"
      ]
     },
     "metadata": {
      "needs_background": "light"
     },
     "output_type": "display_data"
    }
   ],
   "source": [
    "fig, ax = plt.subplots(1,1)\n",
    "ax.plot(sizes, t_numeric, 'o-', label='Inserting row-by-row')\n",
    "ax.plot(sizes, t_numeric_add, 'o-', label='Inserting row-by-row: add_result only')\n",
    "ax.plot(sizes, t_array, 'd-', label='Inserting as binary blob')\n",
    "ax.plot(sizes, t_array_add, 'd-', label='Inserting as binary blob: add_result only')\n",
    "ax.legend()\n",
    "ax.set_xlabel('Array length')\n",
    "ax.set_ylabel('Time (s)')\n",
    "fig.tight_layout()"
   ]
  },
  {
   "cell_type": "markdown",
   "metadata": {},
   "source": [
    "However, as we increase the length of the experiment, as seen here by repeating the insertion 100 times, we see a big difference between inserting values of the data row-by-row and inserting it as a binary blob."
   ]
  },
  {
   "cell_type": "markdown",
   "metadata": {},
   "source": [
    "## Loading the data "
   ]
  },
  {
   "cell_type": "code",
   "execution_count": 9,
   "metadata": {
    "execution": {
     "iopub.execute_input": "2021-01-15T08:52:59.282089Z",
     "iopub.status.busy": "2021-01-15T08:52:59.281591Z",
     "iopub.status.idle": "2021-01-15T08:52:59.285842Z",
     "shell.execute_reply": "2021-01-15T08:52:59.285293Z"
    }
   },
   "outputs": [],
   "source": [
    "from qcodes.dataset.data_set import load_by_id\n",
    "from qcodes.dataset.data_export import get_data_by_id"
   ]
  },
  {
   "cell_type": "markdown",
   "metadata": {},
   "source": [
    "As usual you can load the data by using the ``load_by_id`` function but you will notice that the different storage methods\n",
    "are reflected in shape of the data as it is retrieved. "
   ]
  },
  {
   "cell_type": "code",
   "execution_count": 10,
   "metadata": {
    "execution": {
     "iopub.execute_input": "2021-01-15T08:52:59.289418Z",
     "iopub.status.busy": "2021-01-15T08:52:59.288914Z",
     "iopub.status.idle": "2021-01-15T08:52:59.291194Z",
     "shell.execute_reply": "2021-01-15T08:52:59.290658Z"
    }
   },
   "outputs": [],
   "source": [
    "run_id_n = t_numeric_run_ids[0]\n",
    "run_id_a = t_array_run_ids[0]"
   ]
  },
  {
   "cell_type": "code",
   "execution_count": 11,
   "metadata": {
    "execution": {
     "iopub.execute_input": "2021-01-15T08:52:59.294299Z",
     "iopub.status.busy": "2021-01-15T08:52:59.293785Z",
     "iopub.status.idle": "2021-01-15T08:52:59.303114Z",
     "shell.execute_reply": "2021-01-15T08:52:59.302670Z"
    },
    "scrolled": true
   },
   "outputs": [
    {
     "data": {
      "text/plain": [
       "{'x1': {'x1': array([0.96937914, 0.96937914, 0.20567069, 0.20567069, 0.17383359,\n",
       "         0.17383359, 0.71093587, 0.71093587, 0.45604714, 0.45604714,\n",
       "         0.2683131 , 0.2683131 , 0.9342928 , 0.9342928 , 0.54498644,\n",
       "         0.54498644, 0.6119268 , 0.6119268 , 0.45952172, 0.45952172,\n",
       "         0.92561826, 0.92561826, 0.91283792, 0.91283792, 0.42083161,\n",
       "         0.42083161, 0.85432301, 0.85432301, 0.50496523, 0.50496523,\n",
       "         0.88479914, 0.88479914, 0.72163505, 0.72163505, 0.60019987,\n",
       "         0.60019987, 0.28114733, 0.28114733, 0.87811445, 0.87811445,\n",
       "         0.60691399, 0.60691399, 0.22403698, 0.22403698, 0.08300352,\n",
       "         0.08300352, 0.60752866, 0.60752866, 0.13804939, 0.13804939,\n",
       "         0.80308501, 0.80308501, 0.32633945, 0.32633945, 0.33241394,\n",
       "         0.33241394, 0.90605822, 0.90605822, 0.15022622, 0.15022622,\n",
       "         0.62981244, 0.62981244, 0.81604689, 0.81604689, 0.17392729,\n",
       "         0.17392729, 0.44748426, 0.44748426, 0.32255856, 0.32255856,\n",
       "         0.73889425, 0.73889425, 0.40653237, 0.40653237, 0.27204654,\n",
       "         0.27204654, 0.41822129, 0.41822129, 0.78968435, 0.78968435,\n",
       "         0.36417849, 0.36417849, 0.80398164, 0.80398164, 0.59283628,\n",
       "         0.59283628, 0.77666579, 0.77666579, 0.04146397, 0.04146397,\n",
       "         0.41944584, 0.41944584, 0.27700929, 0.27700929, 0.61399967,\n",
       "         0.61399967, 0.28272848, 0.28272848, 0.55724626, 0.55724626,\n",
       "         0.07307695, 0.07307695, 0.99008229, 0.99008229, 0.24644064,\n",
       "         0.24644064, 0.98932354, 0.98932354, 0.48029538, 0.48029538,\n",
       "         0.03971017, 0.03971017, 0.5511708 , 0.5511708 , 0.1466902 ,\n",
       "         0.1466902 , 0.48456536, 0.48456536, 0.74074481, 0.74074481,\n",
       "         0.29928227, 0.29928227, 0.25504173, 0.25504173, 0.6732683 ,\n",
       "         0.6732683 , 0.52116894, 0.52116894, 0.48664901, 0.48664901,\n",
       "         0.86780078, 0.86780078, 0.21338172, 0.21338172, 0.52754586,\n",
       "         0.52754586, 0.18038545, 0.18038545, 0.6927484 , 0.6927484 ,\n",
       "         0.26324398, 0.26324398, 0.17237563, 0.17237563, 0.43811864,\n",
       "         0.43811864, 0.31278924, 0.31278924, 0.26997615, 0.26997615,\n",
       "         0.7620474 , 0.7620474 , 0.42424134, 0.42424134, 0.9330541 ,\n",
       "         0.9330541 , 0.51197381, 0.51197381, 0.28156295, 0.28156295,\n",
       "         0.23640801, 0.23640801, 0.37890466, 0.37890466, 0.84693628,\n",
       "         0.84693628, 0.60207212, 0.60207212, 0.51027878, 0.51027878,\n",
       "         0.17588303, 0.17588303, 0.67576184, 0.67576184, 0.3131249 ,\n",
       "         0.3131249 , 0.73837938, 0.73837938, 0.64519155, 0.64519155,\n",
       "         0.04427018, 0.04427018, 0.11982234, 0.11982234, 0.67856189,\n",
       "         0.67856189, 0.70072655, 0.70072655, 0.23665289, 0.23665289,\n",
       "         0.57265753, 0.57265753, 0.78066123, 0.78066123, 0.49005528,\n",
       "         0.49005528, 0.22369247, 0.22369247, 0.50408231, 0.50408231])}}"
      ]
     },
     "execution_count": 1,
     "metadata": {},
     "output_type": "execute_result"
    }
   ],
   "source": [
    "ds = load_by_id(run_id_n)\n",
    "ds.get_parameter_data('x1')"
   ]
  },
  {
   "cell_type": "markdown",
   "metadata": {},
   "source": [
    "And a dataset stored as binary arrays"
   ]
  },
  {
   "cell_type": "code",
   "execution_count": 12,
   "metadata": {
    "execution": {
     "iopub.execute_input": "2021-01-15T08:52:59.306270Z",
     "iopub.status.busy": "2021-01-15T08:52:59.305760Z",
     "iopub.status.idle": "2021-01-15T08:52:59.361424Z",
     "shell.execute_reply": "2021-01-15T08:52:59.361963Z"
    },
    "scrolled": true
   },
   "outputs": [
    {
     "data": {
      "text/plain": [
       "{'x1': {'x1': array([[0.16168598],\n",
       "         [0.16168598],\n",
       "         [0.57460329],\n",
       "         [0.57460329],\n",
       "         [0.89886484],\n",
       "         [0.89886484],\n",
       "         [0.18050535],\n",
       "         [0.18050535],\n",
       "         [0.9554358 ],\n",
       "         [0.9554358 ],\n",
       "         [0.24684304],\n",
       "         [0.24684304],\n",
       "         [0.01489025],\n",
       "         [0.01489025],\n",
       "         [0.37816433],\n",
       "         [0.37816433],\n",
       "         [0.60542408],\n",
       "         [0.60542408],\n",
       "         [0.81419066],\n",
       "         [0.81419066],\n",
       "         [0.44202616],\n",
       "         [0.44202616],\n",
       "         [0.33068802],\n",
       "         [0.33068802],\n",
       "         [0.49211349],\n",
       "         [0.49211349],\n",
       "         [0.50153536],\n",
       "         [0.50153536],\n",
       "         [0.62994114],\n",
       "         [0.62994114],\n",
       "         [0.41603627],\n",
       "         [0.41603627],\n",
       "         [0.54611628],\n",
       "         [0.54611628],\n",
       "         [0.65465975],\n",
       "         [0.65465975],\n",
       "         [0.64195767],\n",
       "         [0.64195767],\n",
       "         [0.54046852],\n",
       "         [0.54046852],\n",
       "         [0.39873674],\n",
       "         [0.39873674],\n",
       "         [0.94348898],\n",
       "         [0.94348898],\n",
       "         [0.21416879],\n",
       "         [0.21416879],\n",
       "         [0.95244178],\n",
       "         [0.95244178],\n",
       "         [0.29636491],\n",
       "         [0.29636491],\n",
       "         [0.20217396],\n",
       "         [0.20217396],\n",
       "         [0.45503228],\n",
       "         [0.45503228],\n",
       "         [0.68648307],\n",
       "         [0.68648307],\n",
       "         [0.30511754],\n",
       "         [0.30511754],\n",
       "         [0.49465941],\n",
       "         [0.49465941],\n",
       "         [0.75514746],\n",
       "         [0.75514746],\n",
       "         [0.75199503],\n",
       "         [0.75199503],\n",
       "         [0.20836685],\n",
       "         [0.20836685],\n",
       "         [0.19993724],\n",
       "         [0.19993724],\n",
       "         [0.15458747],\n",
       "         [0.15458747],\n",
       "         [0.6905118 ],\n",
       "         [0.6905118 ],\n",
       "         [0.59716096],\n",
       "         [0.59716096],\n",
       "         [0.74901304],\n",
       "         [0.74901304],\n",
       "         [0.7273905 ],\n",
       "         [0.7273905 ],\n",
       "         [0.65757552],\n",
       "         [0.65757552],\n",
       "         [0.68693505],\n",
       "         [0.68693505],\n",
       "         [0.79428148],\n",
       "         [0.79428148],\n",
       "         [0.56798992],\n",
       "         [0.56798992],\n",
       "         [0.99622287],\n",
       "         [0.99622287],\n",
       "         [0.06046912],\n",
       "         [0.06046912],\n",
       "         [0.11246666],\n",
       "         [0.11246666],\n",
       "         [0.01192906],\n",
       "         [0.01192906],\n",
       "         [0.73004674],\n",
       "         [0.73004674],\n",
       "         [0.18557411],\n",
       "         [0.18557411],\n",
       "         [0.84451975],\n",
       "         [0.84451975],\n",
       "         [0.16443457],\n",
       "         [0.16443457],\n",
       "         [0.19664544],\n",
       "         [0.19664544],\n",
       "         [0.79906529],\n",
       "         [0.79906529],\n",
       "         [0.0118192 ],\n",
       "         [0.0118192 ],\n",
       "         [0.15109661],\n",
       "         [0.15109661],\n",
       "         [0.37965039],\n",
       "         [0.37965039],\n",
       "         [0.37199802],\n",
       "         [0.37199802],\n",
       "         [0.35552096],\n",
       "         [0.35552096],\n",
       "         [0.27937277],\n",
       "         [0.27937277],\n",
       "         [0.21785602],\n",
       "         [0.21785602],\n",
       "         [0.00495439],\n",
       "         [0.00495439],\n",
       "         [0.09347188],\n",
       "         [0.09347188],\n",
       "         [0.67656421],\n",
       "         [0.67656421],\n",
       "         [0.46768347],\n",
       "         [0.46768347],\n",
       "         [0.45730363],\n",
       "         [0.45730363],\n",
       "         [0.37751308],\n",
       "         [0.37751308],\n",
       "         [0.56215887],\n",
       "         [0.56215887],\n",
       "         [0.65643875],\n",
       "         [0.65643875],\n",
       "         [0.40930141],\n",
       "         [0.40930141],\n",
       "         [0.9561795 ],\n",
       "         [0.9561795 ],\n",
       "         [0.87855441],\n",
       "         [0.87855441],\n",
       "         [0.67186471],\n",
       "         [0.67186471],\n",
       "         [0.76065466],\n",
       "         [0.76065466],\n",
       "         [0.3762236 ],\n",
       "         [0.3762236 ],\n",
       "         [0.21504439],\n",
       "         [0.21504439],\n",
       "         [0.35995907],\n",
       "         [0.35995907],\n",
       "         [0.50270265],\n",
       "         [0.50270265],\n",
       "         [0.3061879 ],\n",
       "         [0.3061879 ],\n",
       "         [0.17477051],\n",
       "         [0.17477051],\n",
       "         [0.52868258],\n",
       "         [0.52868258],\n",
       "         [0.56237233],\n",
       "         [0.56237233],\n",
       "         [0.17971857],\n",
       "         [0.17971857],\n",
       "         [0.30028909],\n",
       "         [0.30028909],\n",
       "         [0.49721307],\n",
       "         [0.49721307],\n",
       "         [0.70889746],\n",
       "         [0.70889746],\n",
       "         [0.31914699],\n",
       "         [0.31914699],\n",
       "         [0.83421615],\n",
       "         [0.83421615],\n",
       "         [0.9088966 ],\n",
       "         [0.9088966 ],\n",
       "         [0.5698684 ],\n",
       "         [0.5698684 ],\n",
       "         [0.00882515],\n",
       "         [0.00882515],\n",
       "         [0.04935299],\n",
       "         [0.04935299],\n",
       "         [0.84946454],\n",
       "         [0.84946454],\n",
       "         [0.94555949],\n",
       "         [0.94555949],\n",
       "         [0.18371968],\n",
       "         [0.18371968],\n",
       "         [0.81625701],\n",
       "         [0.81625701],\n",
       "         [0.69818172],\n",
       "         [0.69818172],\n",
       "         [0.05813729],\n",
       "         [0.05813729],\n",
       "         [0.97911264],\n",
       "         [0.97911264],\n",
       "         [0.04860055],\n",
       "         [0.04860055],\n",
       "         [0.08551356],\n",
       "         [0.08551356]])}}"
      ]
     },
     "execution_count": 1,
     "metadata": {},
     "output_type": "execute_result"
    }
   ],
   "source": [
    "ds = load_by_id(run_id_a)\n",
    "ds.get_parameter_data('x1')"
   ]
  },
  {
   "cell_type": "code",
   "execution_count": null,
   "metadata": {},
   "outputs": [],
   "source": []
  }
 ],
 "metadata": {
  "kernelspec": {
   "display_name": "Python 3",
   "language": "python",
   "name": "python3"
  },
  "language_info": {
   "codemirror_mode": {
    "name": "ipython",
    "version": 3
   },
   "file_extension": ".py",
   "mimetype": "text/x-python",
   "name": "python",
   "nbconvert_exporter": "python",
   "pygments_lexer": "ipython3",
   "version": "3.7.9"
  },
  "nbsphinx": {
   "timeout": 600
  },
  "toc": {
   "base_numbering": 1,
   "nav_menu": {},
   "number_sections": true,
   "sideBar": true,
   "skip_h1_title": false,
   "title_cell": "Table of Contents",
   "title_sidebar": "Contents",
   "toc_cell": false,
   "toc_position": {},
   "toc_section_display": true,
   "toc_window_display": false
  },
  "varInspector": {
   "cols": {
    "lenName": 16,
    "lenType": 16,
    "lenVar": 40
   },
   "kernels_config": {
    "python": {
     "delete_cmd_postfix": "",
     "delete_cmd_prefix": "del ",
     "library": "var_list.py",
     "varRefreshCmd": "print(var_dic_list())"
    },
    "r": {
     "delete_cmd_postfix": ") ",
     "delete_cmd_prefix": "rm(",
     "library": "var_list.r",
     "varRefreshCmd": "cat(var_dic_list()) "
    }
   },
   "types_to_exclude": [
    "module",
    "function",
    "builtin_function_or_method",
    "instance",
    "_Feature"
   ],
   "window_display": false
  }
 },
 "nbformat": 4,
 "nbformat_minor": 2
}
