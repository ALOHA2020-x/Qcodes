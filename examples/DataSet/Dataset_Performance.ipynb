{
 "cells": [
  {
   "cell_type": "markdown",
   "metadata": {},
   "source": [
    "# DataSet Performance\n",
    "\n",
    "This notebook shows the trade-off between inserting data into a database row-by-row and as binary blobs. Inserting the data row-by-row means that we have direct access to all the data and may perform queries directly on the values of the data. On the other hand, as we shall see, this is much slower than inserting the data directly as binary blobs."
   ]
  },
  {
   "cell_type": "markdown",
   "metadata": {},
   "source": [
    "First, we choose a new location for the database to ensure that we don't add a bunch of benchmarking data to the default one."
   ]
  },
  {
   "cell_type": "code",
   "execution_count": 1,
   "metadata": {
    "execution": {
     "iopub.execute_input": "2020-10-05T12:31:26.536510Z",
     "iopub.status.busy": "2020-10-05T12:31:26.535845Z",
     "iopub.status.idle": "2020-10-05T12:31:27.554389Z",
     "shell.execute_reply": "2020-10-05T12:31:27.554829Z"
    }
   },
   "outputs": [
    {
     "name": "stdout",
     "output_type": "stream",
     "text": [
      "Logging hadn't been started.\n",
      "Activating auto-logging. Current session state plus future input saved.\n",
      "Filename       : /home/vsts/.qcodes/logs/command_history.log\n",
      "Mode           : append\n",
      "Output logging : True\n",
      "Raw input log  : False\n",
      "Timestamping   : True\n",
      "State          : active\n"
     ]
    },
    {
     "name": "stdout",
     "output_type": "stream",
     "text": [
      "Qcodes Logfile : /home/vsts/.qcodes/logs/201005-18722-qcodes.log\n"
     ]
    }
   ],
   "source": [
    "import os\n",
    "cwd = os.getcwd()\n",
    "import qcodes as qc\n",
    "qc.config[\"core\"][\"db_location\"] = os.path.join(cwd, 'testing.db')\n"
   ]
  },
  {
   "cell_type": "code",
   "execution_count": 2,
   "metadata": {
    "execution": {
     "iopub.execute_input": "2020-10-05T12:31:27.561205Z",
     "iopub.status.busy": "2020-10-05T12:31:27.560520Z",
     "iopub.status.idle": "2020-10-05T12:31:27.738271Z",
     "shell.execute_reply": "2020-10-05T12:31:27.738713Z"
    }
   },
   "outputs": [],
   "source": [
    "%matplotlib inline\n",
    "import time\n",
    "import matplotlib.pyplot as plt\n",
    "import numpy as np\n",
    "\n",
    "import qcodes as qc\n",
    "from qcodes.instrument.parameter import ManualParameter\n",
    "from qcodes.dataset.experiment_container import (Experiment,\n",
    "                                                 load_last_experiment,\n",
    "                                                 new_experiment)\n",
    "from qcodes.dataset.sqlite.database import initialise_database\n",
    "from qcodes import load_or_create_experiment\n",
    "from qcodes.dataset.measurements import Measurement"
   ]
  },
  {
   "cell_type": "code",
   "execution_count": 3,
   "metadata": {
    "execution": {
     "iopub.execute_input": "2020-10-05T12:31:27.742547Z",
     "iopub.status.busy": "2020-10-05T12:31:27.741938Z",
     "iopub.status.idle": "2020-10-05T12:31:27.847708Z",
     "shell.execute_reply": "2020-10-05T12:31:27.847024Z"
    }
   },
   "outputs": [
    {
     "name": "stdout",
     "output_type": "stream",
     "text": [
      "\r",
      "0it [00:00, ?it/s]"
     ]
    },
    {
     "name": "stdout",
     "output_type": "stream",
     "text": [
      "\r",
      "Upgrading database; v0 -> v1: : 0it [00:00, ?it/s]"
     ]
    },
    {
     "name": "stdout",
     "output_type": "stream",
     "text": [
      "\r",
      "Upgrading database; v0 -> v1: : 0it [00:00, ?it/s]"
     ]
    },
    {
     "name": "stdout",
     "output_type": "stream",
     "text": [
      "\n",
      "\r",
      "  0%|          | 0/1 [00:00<?, ?it/s]"
     ]
    },
    {
     "name": "stdout",
     "output_type": "stream",
     "text": [
      "\r",
      "Upgrading database; v1 -> v2:   0%|          | 0/1 [00:00<?, ?it/s]"
     ]
    },
    {
     "name": "stdout",
     "output_type": "stream",
     "text": [
      "\r",
      "Upgrading database; v1 -> v2: 100%|██████████| 1/1 [00:00<00:00, 399.99it/s]"
     ]
    },
    {
     "name": "stdout",
     "output_type": "stream",
     "text": [
      "\n",
      "\r",
      "0it [00:00, ?it/s]"
     ]
    },
    {
     "name": "stdout",
     "output_type": "stream",
     "text": [
      "\r",
      "Upgrading database; v2 -> v3: : 0it [00:00, ?it/s]"
     ]
    },
    {
     "name": "stdout",
     "output_type": "stream",
     "text": [
      "\r",
      "Upgrading database; v2 -> v3: : 0it [00:00, ?it/s]"
     ]
    },
    {
     "name": "stdout",
     "output_type": "stream",
     "text": [
      "\n",
      "\r",
      "0it [00:00, ?it/s]"
     ]
    },
    {
     "name": "stdout",
     "output_type": "stream",
     "text": [
      "\r",
      "Upgrading database; v3 -> v4: : 0it [00:00, ?it/s]"
     ]
    },
    {
     "name": "stdout",
     "output_type": "stream",
     "text": [
      "\r",
      "Upgrading database; v3 -> v4: : 0it [00:00, ?it/s]"
     ]
    },
    {
     "name": "stdout",
     "output_type": "stream",
     "text": [
      "\n",
      "\r",
      "  0%|          | 0/1 [00:00<?, ?it/s]"
     ]
    },
    {
     "name": "stdout",
     "output_type": "stream",
     "text": [
      "\r",
      "Upgrading database; v4 -> v5:   0%|          | 0/1 [00:00<?, ?it/s]"
     ]
    },
    {
     "name": "stdout",
     "output_type": "stream",
     "text": [
      "\r",
      "Upgrading database; v4 -> v5: 100%|██████████| 1/1 [00:00<00:00, 370.49it/s]"
     ]
    },
    {
     "name": "stdout",
     "output_type": "stream",
     "text": [
      "\n",
      "\r",
      "0it [00:00, ?it/s]"
     ]
    },
    {
     "name": "stdout",
     "output_type": "stream",
     "text": [
      "\r",
      "Upgrading database; v5 -> v6: : 0it [00:00, ?it/s]"
     ]
    },
    {
     "name": "stdout",
     "output_type": "stream",
     "text": [
      "\r",
      "Upgrading database; v5 -> v6: : 0it [00:00, ?it/s]"
     ]
    },
    {
     "name": "stdout",
     "output_type": "stream",
     "text": [
      "\n",
      "\r",
      "  0%|          | 0/1 [00:00<?, ?it/s]"
     ]
    },
    {
     "name": "stdout",
     "output_type": "stream",
     "text": [
      "\r",
      "Upgrading database; v6 -> v7:   0%|          | 0/1 [00:00<?, ?it/s]"
     ]
    },
    {
     "name": "stdout",
     "output_type": "stream",
     "text": [
      "\r",
      "Upgrading database; v6 -> v7: 100%|██████████| 1/1 [00:00<00:00, 306.53it/s]"
     ]
    },
    {
     "name": "stdout",
     "output_type": "stream",
     "text": [
      "\n",
      "\r",
      "  0%|          | 0/1 [00:00<?, ?it/s]"
     ]
    },
    {
     "name": "stdout",
     "output_type": "stream",
     "text": [
      "\r",
      "Upgrading database; v7 -> v8:   0%|          | 0/1 [00:00<?, ?it/s]"
     ]
    },
    {
     "name": "stdout",
     "output_type": "stream",
     "text": [
      "\r",
      "Upgrading database; v7 -> v8: 100%|██████████| 1/1 [00:00<00:00, 453.05it/s]"
     ]
    },
    {
     "name": "stdout",
     "output_type": "stream",
     "text": [
      "\n",
      "\r",
      "  0%|          | 0/1 [00:00<?, ?it/s]"
     ]
    },
    {
     "name": "stdout",
     "output_type": "stream",
     "text": [
      "\r",
      "Upgrading database; v8 -> v9:   0%|          | 0/1 [00:00<?, ?it/s]"
     ]
    },
    {
     "name": "stdout",
     "output_type": "stream",
     "text": [
      "\r",
      "Upgrading database; v8 -> v9: 100%|██████████| 1/1 [00:00<00:00, 606.81it/s]"
     ]
    },
    {
     "name": "stdout",
     "output_type": "stream",
     "text": [
      "\n"
     ]
    }
   ],
   "source": [
    "initialise_database()\n",
    "exp = load_or_create_experiment(experiment_name='tutorial_exp', sample_name=\"no sample\")"
   ]
  },
  {
   "cell_type": "markdown",
   "metadata": {},
   "source": [
    "Here, we define a simple function to benchmark the time it takes to insert n points with either numeric or array data type.\n",
    "We will compare both the time used to call ``add_result`` and the time used for the full measurement."
   ]
  },
  {
   "cell_type": "code",
   "execution_count": 4,
   "metadata": {
    "execution": {
     "iopub.execute_input": "2020-10-05T12:31:27.855652Z",
     "iopub.status.busy": "2020-10-05T12:31:27.855080Z",
     "iopub.status.idle": "2020-10-05T12:31:27.858804Z",
     "shell.execute_reply": "2020-10-05T12:31:27.858137Z"
    }
   },
   "outputs": [],
   "source": [
    "def insert_data(paramtype, npoints, nreps=1):\n",
    "\n",
    "    meas = Measurement(exp=exp)\n",
    "\n",
    "    x1 = ManualParameter('x1')\n",
    "    x2 = ManualParameter('x2')\n",
    "    x3 = ManualParameter('x3')\n",
    "    y1 = ManualParameter('y1')\n",
    "    y2 = ManualParameter('y2')\n",
    "\n",
    "    meas.register_parameter(x1, paramtype=paramtype)\n",
    "    meas.register_parameter(x2, paramtype=paramtype)\n",
    "    meas.register_parameter(x3, paramtype=paramtype)\n",
    "    meas.register_parameter(y1, setpoints=[x1, x2, x3],\n",
    "                            paramtype=paramtype)\n",
    "    meas.register_parameter(y2, setpoints=[x1, x2, x3],\n",
    "                            paramtype=paramtype)\n",
    "    start = time.perf_counter()\n",
    "    with meas.run() as datasaver:\n",
    "        start_adding = time.perf_counter()\n",
    "        for i in range(nreps):\n",
    "            datasaver.add_result((x1, np.random.rand(npoints)),\n",
    "                                 (x2, np.random.rand(npoints)),\n",
    "                                 (x3, np.random.rand(npoints)),\n",
    "                                 (y1, np.random.rand(npoints)),\n",
    "                                 (y2, np.random.rand(npoints)))\n",
    "        stop_adding = time.perf_counter()\n",
    "        run_id = datasaver.run_id\n",
    "    stop = time.perf_counter()\n",
    "    tot_time = stop - start\n",
    "    add_time = stop_adding - start_adding\n",
    "    return tot_time, add_time, run_id"
   ]
  },
  {
   "cell_type": "markdown",
   "metadata": {},
   "source": [
    "## Comparison between numeric/array data and binary blob"
   ]
  },
  {
   "cell_type": "markdown",
   "metadata": {},
   "source": [
    "### Case1: Short experiment time"
   ]
  },
  {
   "cell_type": "code",
   "execution_count": 5,
   "metadata": {
    "execution": {
     "iopub.execute_input": "2020-10-05T12:31:27.864962Z",
     "iopub.status.busy": "2020-10-05T12:31:27.864363Z",
     "iopub.status.idle": "2020-10-05T12:31:28.621741Z",
     "shell.execute_reply": "2020-10-05T12:31:28.621270Z"
    }
   },
   "outputs": [
    {
     "name": "stdout",
     "output_type": "stream",
     "text": [
      "Starting experimental run with id: 1. \n",
      "Starting experimental run with id: 2. \n",
      "Starting experimental run with id: 3. \n",
      "Starting experimental run with id: 4. \n",
      "Starting experimental run with id: 5. \n"
     ]
    },
    {
     "name": "stdout",
     "output_type": "stream",
     "text": [
      "Starting experimental run with id: 6. \n"
     ]
    },
    {
     "name": "stdout",
     "output_type": "stream",
     "text": [
      "Starting experimental run with id: 7. \n"
     ]
    },
    {
     "name": "stdout",
     "output_type": "stream",
     "text": [
      "Starting experimental run with id: 8. \n",
      "Starting experimental run with id: 9. \n"
     ]
    },
    {
     "name": "stdout",
     "output_type": "stream",
     "text": [
      "Starting experimental run with id: 10. \n",
      "Starting experimental run with id: 11. \n"
     ]
    },
    {
     "name": "stdout",
     "output_type": "stream",
     "text": [
      "Starting experimental run with id: 12. \n",
      "Starting experimental run with id: 13. \n"
     ]
    },
    {
     "name": "stdout",
     "output_type": "stream",
     "text": [
      "Starting experimental run with id: 14. \n"
     ]
    }
   ],
   "source": [
    "sizes = [1,500,1000,2000,3000,4000,5000]\n",
    "t_numeric = []\n",
    "t_numeric_add = []\n",
    "t_array = []\n",
    "t_array_add = []\n",
    "for size in sizes:\n",
    "    tn, tna, run_id_n =  insert_data('numeric', size)\n",
    "    t_numeric.append(tn)\n",
    "    t_numeric_add.append(tna)\n",
    "\n",
    "    ta, taa, run_id_a =  insert_data('array', size)\n",
    "    t_array.append(ta)\n",
    "    t_array_add.append(taa)"
   ]
  },
  {
   "cell_type": "code",
   "execution_count": 6,
   "metadata": {
    "execution": {
     "iopub.execute_input": "2020-10-05T12:31:28.639755Z",
     "iopub.status.busy": "2020-10-05T12:31:28.625597Z",
     "iopub.status.idle": "2020-10-05T12:31:28.853611Z",
     "shell.execute_reply": "2020-10-05T12:31:28.854137Z"
    }
   },
   "outputs": [
    {
     "data": {
      "image/png": "[encoded data removed]",
      "text/plain": [
       "<Figure size 432x288 with 1 Axes>"
      ]
     },
     "metadata": {
      "needs_background": "light"
     },
     "output_type": "display_data"
    }
   ],
   "source": [
    "fig, ax = plt.subplots(1,1)\n",
    "ax.plot(sizes, t_numeric, 'o-', label='Inserting row-by-row')\n",
    "ax.plot(sizes, t_numeric_add, 'o-', label='Inserting row-by-row: add_result only')\n",
    "ax.plot(sizes, t_array, 'd-', label='Inserting as binary blob')\n",
    "ax.plot(sizes, t_array_add, 'd-', label='Inserting as binary blob: add_result only')\n",
    "ax.legend()\n",
    "ax.set_xlabel('Array length')\n",
    "ax.set_ylabel('Time (s)')\n",
    "fig.tight_layout()"
   ]
  },
  {
   "cell_type": "markdown",
   "metadata": {},
   "source": [
    "As shown in the latter figure, the time to setup and and close the experiment is approximately 0.4 sec. In case of small array sizes, the difference between inserting values of data as arrays and inserting them row-by-row is relatively unimportant. At larger array sizes, i.e. above 10000 points, the cost of writing data as individual datapoints starts to become important.\n"
   ]
  },
  {
   "cell_type": "markdown",
   "metadata": {},
   "source": [
    "### Case2: Long experiment time "
   ]
  },
  {
   "cell_type": "code",
   "execution_count": 7,
   "metadata": {
    "execution": {
     "iopub.execute_input": "2020-10-05T12:31:28.861008Z",
     "iopub.status.busy": "2020-10-05T12:31:28.860015Z",
     "iopub.status.idle": "2020-10-05T12:32:24.296652Z",
     "shell.execute_reply": "2020-10-05T12:32:24.295699Z"
    }
   },
   "outputs": [
    {
     "name": "stdout",
     "output_type": "stream",
     "text": [
      "Starting experimental run with id: 15. \n",
      "Starting experimental run with id: 16. \n",
      "Starting experimental run with id: 17. \n"
     ]
    },
    {
     "name": "stdout",
     "output_type": "stream",
     "text": [
      "Starting experimental run with id: 18. \n",
      "Starting experimental run with id: 19. \n"
     ]
    },
    {
     "name": "stdout",
     "output_type": "stream",
     "text": [
      "Starting experimental run with id: 20. \n"
     ]
    },
    {
     "name": "stdout",
     "output_type": "stream",
     "text": [
      "Starting experimental run with id: 21. \n"
     ]
    },
    {
     "name": "stdout",
     "output_type": "stream",
     "text": [
      "Starting experimental run with id: 22. \n"
     ]
    },
    {
     "name": "stdout",
     "output_type": "stream",
     "text": [
      "Starting experimental run with id: 23. \n"
     ]
    },
    {
     "name": "stdout",
     "output_type": "stream",
     "text": [
      "Starting experimental run with id: 24. \n"
     ]
    },
    {
     "name": "stdout",
     "output_type": "stream",
     "text": [
      "Starting experimental run with id: 25. \n"
     ]
    },
    {
     "name": "stdout",
     "output_type": "stream",
     "text": [
      "Starting experimental run with id: 26. \n"
     ]
    },
    {
     "name": "stdout",
     "output_type": "stream",
     "text": [
      "Starting experimental run with id: 27. \n"
     ]
    },
    {
     "name": "stdout",
     "output_type": "stream",
     "text": [
      "Starting experimental run with id: 28. \n"
     ]
    }
   ],
   "source": [
    "sizes = [1,500,1000,2000,3000,4000,5000]\n",
    "nreps = 100\n",
    "t_numeric = []\n",
    "t_numeric_add = []\n",
    "t_numeric_run_ids = []\n",
    "t_array = []\n",
    "t_array_add = []\n",
    "t_array_run_ids = []\n",
    "for size in sizes:\n",
    "    tn, tna, run_id_n =  insert_data('numeric', size, nreps=nreps)\n",
    "    t_numeric.append(tn)\n",
    "    t_numeric_add.append(tna)\n",
    "    t_numeric_run_ids.append(run_id_n)\n",
    "\n",
    "    ta, taa, run_id_a =  insert_data('array', size, nreps=nreps)\n",
    "    t_array.append(ta)\n",
    "    t_array_add.append(taa)\n",
    "    t_array_run_ids.append(run_id_a)"
   ]
  },
  {
   "cell_type": "code",
   "execution_count": 8,
   "metadata": {
    "execution": {
     "iopub.execute_input": "2020-10-05T12:32:24.316537Z",
     "iopub.status.busy": "2020-10-05T12:32:24.314141Z",
     "iopub.status.idle": "2020-10-05T12:32:24.505623Z",
     "shell.execute_reply": "2020-10-05T12:32:24.504572Z"
    },
    "scrolled": true
   },
   "outputs": [
    {
     "data": {
      "image/png": "[encoded data removed]",
      "text/plain": [
       "<Figure size 432x288 with 1 Axes>"
      ]
     },
     "metadata": {
      "needs_background": "light"
     },
     "output_type": "display_data"
    }
   ],
   "source": [
    "fig, ax = plt.subplots(1,1)\n",
    "ax.plot(sizes, t_numeric, 'o-', label='Inserting row-by-row')\n",
    "ax.plot(sizes, t_numeric_add, 'o-', label='Inserting row-by-row: add_result only')\n",
    "ax.plot(sizes, t_array, 'd-', label='Inserting as binary blob')\n",
    "ax.plot(sizes, t_array_add, 'd-', label='Inserting as binary blob: add_result only')\n",
    "ax.legend()\n",
    "ax.set_xlabel('Array length')\n",
    "ax.set_ylabel('Time (s)')\n",
    "fig.tight_layout()"
   ]
  },
  {
   "cell_type": "markdown",
   "metadata": {},
   "source": [
    "However, as we increase the length of the experiment, as seen here by repeating the insertion 100 times, we see a big difference between inserting values of the data row-by-row and inserting it as a binary blob."
   ]
  },
  {
   "cell_type": "markdown",
   "metadata": {},
   "source": [
    "## Loading the data "
   ]
  },
  {
   "cell_type": "code",
   "execution_count": 9,
   "metadata": {
    "execution": {
     "iopub.execute_input": "2020-10-05T12:32:24.509706Z",
     "iopub.status.busy": "2020-10-05T12:32:24.509124Z",
     "iopub.status.idle": "2020-10-05T12:32:24.512943Z",
     "shell.execute_reply": "2020-10-05T12:32:24.513363Z"
    }
   },
   "outputs": [],
   "source": [
    "from qcodes.dataset.data_set import load_by_id\n",
    "from qcodes.dataset.data_export import get_data_by_id"
   ]
  },
  {
   "cell_type": "markdown",
   "metadata": {},
   "source": [
    "As usual you can load the data by using the ``load_by_id`` function but you will notice that the different storage methods\n",
    "are reflected in shape of the data as it is retrieved. "
   ]
  },
  {
   "cell_type": "code",
   "execution_count": 10,
   "metadata": {
    "execution": {
     "iopub.execute_input": "2020-10-05T12:32:24.517630Z",
     "iopub.status.busy": "2020-10-05T12:32:24.517119Z",
     "iopub.status.idle": "2020-10-05T12:32:24.520605Z",
     "shell.execute_reply": "2020-10-05T12:32:24.519939Z"
    }
   },
   "outputs": [],
   "source": [
    "run_id_n = t_numeric_run_ids[0]\n",
    "run_id_a = t_array_run_ids[0]"
   ]
  },
  {
   "cell_type": "code",
   "execution_count": 11,
   "metadata": {
    "execution": {
     "iopub.execute_input": "2020-10-05T12:32:24.524430Z",
     "iopub.status.busy": "2020-10-05T12:32:24.523475Z",
     "iopub.status.idle": "2020-10-05T12:32:24.534206Z",
     "shell.execute_reply": "2020-10-05T12:32:24.533681Z"
    },
    "scrolled": true
   },
   "outputs": [
    {
     "data": {
      "text/plain": [
       "{'x1': {'x1': array([0.12766413, 0.12766413, 0.99783408, 0.99783408, 0.49566038,\n",
       "         0.49566038, 0.15754961, 0.15754961, 0.66308508, 0.66308508,\n",
       "         0.13172455, 0.13172455, 0.04248553, 0.04248553, 0.41811616,\n",
       "         0.41811616, 0.34225307, 0.34225307, 0.25664978, 0.25664978,\n",
       "         0.3098125 , 0.3098125 , 0.38756598, 0.38756598, 0.70494931,\n",
       "         0.70494931, 0.87531978, 0.87531978, 0.89033363, 0.89033363,\n",
       "         0.15888825, 0.15888825, 0.39939665, 0.39939665, 0.70674633,\n",
       "         0.70674633, 0.61262495, 0.61262495, 0.43866031, 0.43866031,\n",
       "         0.88219594, 0.88219594, 0.525317  , 0.525317  , 0.43811849,\n",
       "         0.43811849, 0.23145889, 0.23145889, 0.48546899, 0.48546899,\n",
       "         0.42126983, 0.42126983, 0.88771804, 0.88771804, 0.45504463,\n",
       "         0.45504463, 0.41764955, 0.41764955, 0.36349501, 0.36349501,\n",
       "         0.4480439 , 0.4480439 , 0.54709882, 0.54709882, 0.52309962,\n",
       "         0.52309962, 0.28271883, 0.28271883, 0.72003526, 0.72003526,\n",
       "         0.21986035, 0.21986035, 0.94076028, 0.94076028, 0.02706683,\n",
       "         0.02706683, 0.9452025 , 0.9452025 , 0.67254824, 0.67254824,\n",
       "         0.1041984 , 0.1041984 , 0.42515891, 0.42515891, 0.89142158,\n",
       "         0.89142158, 0.00315336, 0.00315336, 0.34574824, 0.34574824,\n",
       "         0.84273219, 0.84273219, 0.28721446, 0.28721446, 0.97861938,\n",
       "         0.97861938, 0.15674474, 0.15674474, 0.08555189, 0.08555189,\n",
       "         0.41460284, 0.41460284, 0.63049371, 0.63049371, 0.41972253,\n",
       "         0.41972253, 0.54646794, 0.54646794, 0.70145725, 0.70145725,\n",
       "         0.12163788, 0.12163788, 0.34194614, 0.34194614, 0.67621801,\n",
       "         0.67621801, 0.94176836, 0.94176836, 0.51206198, 0.51206198,\n",
       "         0.48198674, 0.48198674, 0.35904329, 0.35904329, 0.84826451,\n",
       "         0.84826451, 0.93269369, 0.93269369, 0.32296233, 0.32296233,\n",
       "         0.30561454, 0.30561454, 0.88852215, 0.88852215, 0.96641752,\n",
       "         0.96641752, 0.88528204, 0.88528204, 0.28978254, 0.28978254,\n",
       "         0.6127028 , 0.6127028 , 0.91358713, 0.91358713, 0.70245453,\n",
       "         0.70245453, 0.32778102, 0.32778102, 0.95287488, 0.95287488,\n",
       "         0.50473507, 0.50473507, 0.13651747, 0.13651747, 0.45972518,\n",
       "         0.45972518, 0.8506241 , 0.8506241 , 0.63488262, 0.63488262,\n",
       "         0.4398709 , 0.4398709 , 0.70192256, 0.70192256, 0.22997469,\n",
       "         0.22997469, 0.28608817, 0.28608817, 0.36541157, 0.36541157,\n",
       "         0.91824791, 0.91824791, 0.58585755, 0.58585755, 0.27695149,\n",
       "         0.27695149, 0.60745812, 0.60745812, 0.45849106, 0.45849106,\n",
       "         0.06310016, 0.06310016, 0.3495716 , 0.3495716 , 0.55905632,\n",
       "         0.55905632, 0.46123796, 0.46123796, 0.66122212, 0.66122212,\n",
       "         0.19998709, 0.19998709, 0.08603024, 0.08603024, 0.54850982,\n",
       "         0.54850982, 0.86708858, 0.86708858, 0.91794747, 0.91794747])}}"
      ]
     },
     "execution_count": 1,
     "metadata": {},
     "output_type": "execute_result"
    }
   ],
   "source": [
    "ds = load_by_id(run_id_n)\n",
    "ds.get_parameter_data('x1')"
   ]
  },
  {
   "cell_type": "markdown",
   "metadata": {},
   "source": [
    "And a dataset stored as binary arrays"
   ]
  },
  {
   "cell_type": "code",
   "execution_count": 12,
   "metadata": {
    "execution": {
     "iopub.execute_input": "2020-10-05T12:32:24.537358Z",
     "iopub.status.busy": "2020-10-05T12:32:24.536854Z",
     "iopub.status.idle": "2020-10-05T12:32:24.598128Z",
     "shell.execute_reply": "2020-10-05T12:32:24.597574Z"
    },
    "scrolled": true
   },
   "outputs": [
    {
     "data": {
      "text/plain": [
       "{'x1': {'x1': array([[0.95872626],\n",
       "         [0.95872626],\n",
       "         [0.26272326],\n",
       "         [0.26272326],\n",
       "         [0.41043732],\n",
       "         [0.41043732],\n",
       "         [0.49517523],\n",
       "         [0.49517523],\n",
       "         [0.08135537],\n",
       "         [0.08135537],\n",
       "         [0.77637983],\n",
       "         [0.77637983],\n",
       "         [0.70149904],\n",
       "         [0.70149904],\n",
       "         [0.25775645],\n",
       "         [0.25775645],\n",
       "         [0.46274527],\n",
       "         [0.46274527],\n",
       "         [0.55964564],\n",
       "         [0.55964564],\n",
       "         [0.33436357],\n",
       "         [0.33436357],\n",
       "         [0.67184111],\n",
       "         [0.67184111],\n",
       "         [0.72361599],\n",
       "         [0.72361599],\n",
       "         [0.99898057],\n",
       "         [0.99898057],\n",
       "         [0.6426308 ],\n",
       "         [0.6426308 ],\n",
       "         [0.947744  ],\n",
       "         [0.947744  ],\n",
       "         [0.94763401],\n",
       "         [0.94763401],\n",
       "         [0.09161913],\n",
       "         [0.09161913],\n",
       "         [0.63412311],\n",
       "         [0.63412311],\n",
       "         [0.94789877],\n",
       "         [0.94789877],\n",
       "         [0.28075973],\n",
       "         [0.28075973],\n",
       "         [0.18695887],\n",
       "         [0.18695887],\n",
       "         [0.00264153],\n",
       "         [0.00264153],\n",
       "         [0.30113027],\n",
       "         [0.30113027],\n",
       "         [0.34423537],\n",
       "         [0.34423537],\n",
       "         [0.13146208],\n",
       "         [0.13146208],\n",
       "         [0.18436104],\n",
       "         [0.18436104],\n",
       "         [0.61526966],\n",
       "         [0.61526966],\n",
       "         [0.17138423],\n",
       "         [0.17138423],\n",
       "         [0.62168038],\n",
       "         [0.62168038],\n",
       "         [0.99300396],\n",
       "         [0.99300396],\n",
       "         [0.50447701],\n",
       "         [0.50447701],\n",
       "         [0.50936865],\n",
       "         [0.50936865],\n",
       "         [0.47965013],\n",
       "         [0.47965013],\n",
       "         [0.16726089],\n",
       "         [0.16726089],\n",
       "         [0.52156628],\n",
       "         [0.52156628],\n",
       "         [0.05578671],\n",
       "         [0.05578671],\n",
       "         [0.18084193],\n",
       "         [0.18084193],\n",
       "         [0.45089169],\n",
       "         [0.45089169],\n",
       "         [0.40894957],\n",
       "         [0.40894957],\n",
       "         [0.04180475],\n",
       "         [0.04180475],\n",
       "         [0.82173079],\n",
       "         [0.82173079],\n",
       "         [0.16749764],\n",
       "         [0.16749764],\n",
       "         [0.35129043],\n",
       "         [0.35129043],\n",
       "         [0.49177292],\n",
       "         [0.49177292],\n",
       "         [0.33434856],\n",
       "         [0.33434856],\n",
       "         [0.20953147],\n",
       "         [0.20953147],\n",
       "         [0.41883422],\n",
       "         [0.41883422],\n",
       "         [0.98559895],\n",
       "         [0.98559895],\n",
       "         [0.79292768],\n",
       "         [0.79292768],\n",
       "         [0.17025528],\n",
       "         [0.17025528],\n",
       "         [0.55480908],\n",
       "         [0.55480908],\n",
       "         [0.33034101],\n",
       "         [0.33034101],\n",
       "         [0.70744251],\n",
       "         [0.70744251],\n",
       "         [0.81714336],\n",
       "         [0.81714336],\n",
       "         [0.30353713],\n",
       "         [0.30353713],\n",
       "         [0.4333083 ],\n",
       "         [0.4333083 ],\n",
       "         [0.59648574],\n",
       "         [0.59648574],\n",
       "         [0.65654374],\n",
       "         [0.65654374],\n",
       "         [0.92341273],\n",
       "         [0.92341273],\n",
       "         [0.21802209],\n",
       "         [0.21802209],\n",
       "         [0.62490515],\n",
       "         [0.62490515],\n",
       "         [0.46473   ],\n",
       "         [0.46473   ],\n",
       "         [0.89992493],\n",
       "         [0.89992493],\n",
       "         [0.81352798],\n",
       "         [0.81352798],\n",
       "         [0.88485904],\n",
       "         [0.88485904],\n",
       "         [0.11572601],\n",
       "         [0.11572601],\n",
       "         [0.20608755],\n",
       "         [0.20608755],\n",
       "         [0.0790353 ],\n",
       "         [0.0790353 ],\n",
       "         [0.87974873],\n",
       "         [0.87974873],\n",
       "         [0.73861499],\n",
       "         [0.73861499],\n",
       "         [0.49272091],\n",
       "         [0.49272091],\n",
       "         [0.05890295],\n",
       "         [0.05890295],\n",
       "         [0.69676309],\n",
       "         [0.69676309],\n",
       "         [0.13825496],\n",
       "         [0.13825496],\n",
       "         [0.04624107],\n",
       "         [0.04624107],\n",
       "         [0.7032803 ],\n",
       "         [0.7032803 ],\n",
       "         [0.64154164],\n",
       "         [0.64154164],\n",
       "         [0.65609358],\n",
       "         [0.65609358],\n",
       "         [0.01470173],\n",
       "         [0.01470173],\n",
       "         [0.26227619],\n",
       "         [0.26227619],\n",
       "         [0.35614417],\n",
       "         [0.35614417],\n",
       "         [0.85180866],\n",
       "         [0.85180866],\n",
       "         [0.47000487],\n",
       "         [0.47000487],\n",
       "         [0.23769242],\n",
       "         [0.23769242],\n",
       "         [0.85465865],\n",
       "         [0.85465865],\n",
       "         [0.21059525],\n",
       "         [0.21059525],\n",
       "         [0.09101572],\n",
       "         [0.09101572],\n",
       "         [0.73841231],\n",
       "         [0.73841231],\n",
       "         [0.48138631],\n",
       "         [0.48138631],\n",
       "         [0.49354976],\n",
       "         [0.49354976],\n",
       "         [0.6825983 ],\n",
       "         [0.6825983 ],\n",
       "         [0.52783487],\n",
       "         [0.52783487],\n",
       "         [0.53061439],\n",
       "         [0.53061439],\n",
       "         [0.967569  ],\n",
       "         [0.967569  ],\n",
       "         [0.9149956 ],\n",
       "         [0.9149956 ],\n",
       "         [0.6298598 ],\n",
       "         [0.6298598 ],\n",
       "         [0.5765329 ],\n",
       "         [0.5765329 ],\n",
       "         [0.94976564],\n",
       "         [0.94976564],\n",
       "         [0.89628198],\n",
       "         [0.89628198]])}}"
      ]
     },
     "execution_count": 1,
     "metadata": {},
     "output_type": "execute_result"
    }
   ],
   "source": [
    "ds = load_by_id(run_id_a)\n",
    "ds.get_parameter_data('x1')"
   ]
  },
  {
   "cell_type": "code",
   "execution_count": null,
   "metadata": {},
   "outputs": [],
   "source": []
  }
 ],
 "metadata": {
  "kernelspec": {
   "display_name": "Python 3",
   "language": "python",
   "name": "python3"
  },
  "language_info": {
   "codemirror_mode": {
    "name": "ipython",
    "version": 3
   },
   "file_extension": ".py",
   "mimetype": "text/x-python",
   "name": "python",
   "nbconvert_exporter": "python",
   "pygments_lexer": "ipython3",
   "version": "3.7.7"
  },
  "nbsphinx": {
   "timeout": 600
  },
  "toc": {
   "base_numbering": 1,
   "nav_menu": {},
   "number_sections": true,
   "sideBar": true,
   "skip_h1_title": false,
   "title_cell": "Table of Contents",
   "title_sidebar": "Contents",
   "toc_cell": false,
   "toc_position": {},
   "toc_section_display": true,
   "toc_window_display": false
  },
  "varInspector": {
   "cols": {
    "lenName": 16,
    "lenType": 16,
    "lenVar": 40
   },
   "kernels_config": {
    "python": {
     "delete_cmd_postfix": "",
     "delete_cmd_prefix": "del ",
     "library": "var_list.py",
     "varRefreshCmd": "print(var_dic_list())"
    },
    "r": {
     "delete_cmd_postfix": ") ",
     "delete_cmd_prefix": "rm(",
     "library": "var_list.r",
     "varRefreshCmd": "cat(var_dic_list()) "
    }
   },
   "types_to_exclude": [
    "module",
    "function",
    "builtin_function_or_method",
    "instance",
    "_Feature"
   ],
   "window_display": false
  }
 },
 "nbformat": 4,
 "nbformat_minor": 2
}
