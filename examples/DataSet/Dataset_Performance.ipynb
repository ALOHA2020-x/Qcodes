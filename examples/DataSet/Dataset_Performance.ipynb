{
 "cells": [
  {
   "cell_type": "markdown",
   "metadata": {},
   "source": [
    "# DataSet Performance\n",
    "\n",
    "This notebook shows the trade-off between inserting data into a database row-by-row and as binary blobs. Inserting the data row-by-row means that we have direct access to all the data and may perform queries directly on the values of the data. On the other hand, as we shall see, this is much slower than inserting the data directly as binary blobs."
   ]
  },
  {
   "cell_type": "markdown",
   "metadata": {},
   "source": [
    "First, we choose a new location for the database to ensure that we don't add a bunch of benchmarking data to the default one."
   ]
  },
  {
   "cell_type": "code",
   "execution_count": 1,
   "metadata": {
    "execution": {
     "iopub.execute_input": "2021-05-06T10:34:06.974787Z",
     "iopub.status.busy": "2021-05-06T10:34:06.974140Z",
     "iopub.status.idle": "2021-05-06T10:34:08.316333Z",
     "shell.execute_reply": "2021-05-06T10:34:08.315556Z"
    }
   },
   "outputs": [
    {
     "name": "stdout",
     "output_type": "stream",
     "text": [
      "Logging hadn't been started.\n",
      "Activating auto-logging. Current session state plus future input saved.\n",
      "Filename       : /home/runner/.qcodes/logs/command_history.log\n",
      "Mode           : append\n",
      "Output logging : True\n",
      "Raw input log  : False\n",
      "Timestamping   : True\n",
      "State          : active\n"
     ]
    },
    {
     "name": "stdout",
     "output_type": "stream",
     "text": [
      "Qcodes Logfile : /home/runner/.qcodes/logs/210506-4402-qcodes.log\n"
     ]
    }
   ],
   "source": [
    "import os\n",
    "cwd = os.getcwd()\n",
    "import qcodes as qc\n",
    "qc.config[\"core\"][\"db_location\"] = os.path.join(cwd, 'testing.db')\n"
   ]
  },
  {
   "cell_type": "code",
   "execution_count": 2,
   "metadata": {
    "execution": {
     "iopub.execute_input": "2021-05-06T10:34:08.324176Z",
     "iopub.status.busy": "2021-05-06T10:34:08.322890Z",
     "iopub.status.idle": "2021-05-06T10:34:08.547972Z",
     "shell.execute_reply": "2021-05-06T10:34:08.547349Z"
    }
   },
   "outputs": [],
   "source": [
    "%matplotlib inline\n",
    "import time\n",
    "import matplotlib.pyplot as plt\n",
    "import numpy as np\n",
    "\n",
    "import qcodes as qc\n",
    "from qcodes.instrument.parameter import ManualParameter\n",
    "from qcodes.dataset.experiment_container import (Experiment,\n",
    "                                                 load_last_experiment,\n",
    "                                                 new_experiment)\n",
    "from qcodes.dataset.sqlite.database import initialise_database\n",
    "from qcodes import load_or_create_experiment\n",
    "from qcodes.dataset.measurements import Measurement"
   ]
  },
  {
   "cell_type": "code",
   "execution_count": 3,
   "metadata": {
    "execution": {
     "iopub.execute_input": "2021-05-06T10:34:08.554793Z",
     "iopub.status.busy": "2021-05-06T10:34:08.553719Z",
     "iopub.status.idle": "2021-05-06T10:34:08.643741Z",
     "shell.execute_reply": "2021-05-06T10:34:08.642877Z"
    }
   },
   "outputs": [
    {
     "name": "stdout",
     "output_type": "stream",
     "text": [
      "\r",
      "0it [00:00, ?it/s]"
     ]
    },
    {
     "name": "stdout",
     "output_type": "stream",
     "text": [
      "\r",
      "Upgrading database; v0 -> v1: : 0it [00:00, ?it/s]"
     ]
    },
    {
     "name": "stdout",
     "output_type": "stream",
     "text": [
      "\r",
      "Upgrading database; v0 -> v1: : 0it [00:00, ?it/s]"
     ]
    },
    {
     "name": "stdout",
     "output_type": "stream",
     "text": [
      "\n",
      "\r",
      "  0%|          | 0/1 [00:00<?, ?it/s]"
     ]
    },
    {
     "name": "stdout",
     "output_type": "stream",
     "text": [
      "\r",
      "Upgrading database; v1 -> v2:   0%|          | 0/1 [00:00<?, ?it/s]"
     ]
    },
    {
     "name": "stdout",
     "output_type": "stream",
     "text": [
      "\r",
      "Upgrading database; v1 -> v2: 100%|██████████| 1/1 [00:00<00:00, 906.29it/s]"
     ]
    },
    {
     "name": "stdout",
     "output_type": "stream",
     "text": [
      "\n",
      "\r",
      "0it [00:00, ?it/s]"
     ]
    },
    {
     "name": "stdout",
     "output_type": "stream",
     "text": [
      "\r",
      "Upgrading database; v2 -> v3: : 0it [00:00, ?it/s]"
     ]
    },
    {
     "name": "stdout",
     "output_type": "stream",
     "text": [
      "\r",
      "Upgrading database; v2 -> v3: : 0it [00:00, ?it/s]"
     ]
    },
    {
     "name": "stdout",
     "output_type": "stream",
     "text": [
      "\n",
      "\r",
      "0it [00:00, ?it/s]"
     ]
    },
    {
     "name": "stdout",
     "output_type": "stream",
     "text": [
      "\r",
      "Upgrading database; v3 -> v4: : 0it [00:00, ?it/s]"
     ]
    },
    {
     "name": "stdout",
     "output_type": "stream",
     "text": [
      "\r",
      "Upgrading database; v3 -> v4: : 0it [00:00, ?it/s]"
     ]
    },
    {
     "name": "stdout",
     "output_type": "stream",
     "text": [
      "\n",
      "\r",
      "  0%|          | 0/1 [00:00<?, ?it/s]"
     ]
    },
    {
     "name": "stdout",
     "output_type": "stream",
     "text": [
      "\r",
      "Upgrading database; v4 -> v5:   0%|          | 0/1 [00:00<?, ?it/s]"
     ]
    },
    {
     "name": "stdout",
     "output_type": "stream",
     "text": [
      "\r",
      "Upgrading database; v4 -> v5: 100%|██████████| 1/1 [00:00<00:00, 180.69it/s]"
     ]
    },
    {
     "name": "stdout",
     "output_type": "stream",
     "text": [
      "\n",
      "\r",
      "0it [00:00, ?it/s]"
     ]
    },
    {
     "name": "stdout",
     "output_type": "stream",
     "text": [
      "\r",
      "Upgrading database; v5 -> v6: : 0it [00:00, ?it/s]"
     ]
    },
    {
     "name": "stdout",
     "output_type": "stream",
     "text": [
      "\r",
      "Upgrading database; v5 -> v6: : 0it [00:00, ?it/s]"
     ]
    },
    {
     "name": "stdout",
     "output_type": "stream",
     "text": [
      "\n",
      "\r",
      "  0%|          | 0/1 [00:00<?, ?it/s]"
     ]
    },
    {
     "name": "stdout",
     "output_type": "stream",
     "text": [
      "\r",
      "Upgrading database; v6 -> v7:   0%|          | 0/1 [00:00<?, ?it/s]"
     ]
    },
    {
     "name": "stdout",
     "output_type": "stream",
     "text": [
      "\r",
      "Upgrading database; v6 -> v7: 100%|██████████| 1/1 [00:00<00:00, 465.36it/s]"
     ]
    },
    {
     "name": "stdout",
     "output_type": "stream",
     "text": [
      "\n",
      "\r",
      "  0%|          | 0/1 [00:00<?, ?it/s]"
     ]
    },
    {
     "name": "stdout",
     "output_type": "stream",
     "text": [
      "\r",
      "Upgrading database; v7 -> v8:   0%|          | 0/1 [00:00<?, ?it/s]"
     ]
    },
    {
     "name": "stdout",
     "output_type": "stream",
     "text": [
      "\r",
      "Upgrading database; v7 -> v8: 100%|██████████| 1/1 [00:00<00:00, 810.18it/s]"
     ]
    },
    {
     "name": "stdout",
     "output_type": "stream",
     "text": [
      "\n",
      "\r",
      "  0%|          | 0/1 [00:00<?, ?it/s]"
     ]
    },
    {
     "name": "stdout",
     "output_type": "stream",
     "text": [
      "\r",
      "Upgrading database; v8 -> v9:   0%|          | 0/1 [00:00<?, ?it/s]"
     ]
    },
    {
     "name": "stdout",
     "output_type": "stream",
     "text": [
      "\r",
      "Upgrading database; v8 -> v9: 100%|██████████| 1/1 [00:00<00:00, 532.95it/s]"
     ]
    },
    {
     "name": "stdout",
     "output_type": "stream",
     "text": [
      "\n"
     ]
    }
   ],
   "source": [
    "initialise_database()\n",
    "exp = load_or_create_experiment(experiment_name='tutorial_exp', sample_name=\"no sample\")"
   ]
  },
  {
   "cell_type": "markdown",
   "metadata": {},
   "source": [
    "Here, we define a simple function to benchmark the time it takes to insert n points with either numeric or array data type.\n",
    "We will compare both the time used to call ``add_result`` and the time used for the full measurement."
   ]
  },
  {
   "cell_type": "code",
   "execution_count": 4,
   "metadata": {
    "execution": {
     "iopub.execute_input": "2021-05-06T10:34:08.656242Z",
     "iopub.status.busy": "2021-05-06T10:34:08.655113Z",
     "iopub.status.idle": "2021-05-06T10:34:08.657221Z",
     "shell.execute_reply": "2021-05-06T10:34:08.657817Z"
    }
   },
   "outputs": [],
   "source": [
    "def insert_data(paramtype, npoints, nreps=1):\n",
    "\n",
    "    meas = Measurement(exp=exp)\n",
    "\n",
    "    x1 = ManualParameter('x1')\n",
    "    x2 = ManualParameter('x2')\n",
    "    x3 = ManualParameter('x3')\n",
    "    y1 = ManualParameter('y1')\n",
    "    y2 = ManualParameter('y2')\n",
    "\n",
    "    meas.register_parameter(x1, paramtype=paramtype)\n",
    "    meas.register_parameter(x2, paramtype=paramtype)\n",
    "    meas.register_parameter(x3, paramtype=paramtype)\n",
    "    meas.register_parameter(y1, setpoints=[x1, x2, x3],\n",
    "                            paramtype=paramtype)\n",
    "    meas.register_parameter(y2, setpoints=[x1, x2, x3],\n",
    "                            paramtype=paramtype)\n",
    "    start = time.perf_counter()\n",
    "    with meas.run() as datasaver:\n",
    "        start_adding = time.perf_counter()\n",
    "        for i in range(nreps):\n",
    "            datasaver.add_result((x1, np.random.rand(npoints)),\n",
    "                                 (x2, np.random.rand(npoints)),\n",
    "                                 (x3, np.random.rand(npoints)),\n",
    "                                 (y1, np.random.rand(npoints)),\n",
    "                                 (y2, np.random.rand(npoints)))\n",
    "        stop_adding = time.perf_counter()\n",
    "        run_id = datasaver.run_id\n",
    "    stop = time.perf_counter()\n",
    "    tot_time = stop - start\n",
    "    add_time = stop_adding - start_adding\n",
    "    return tot_time, add_time, run_id"
   ]
  },
  {
   "cell_type": "markdown",
   "metadata": {},
   "source": [
    "## Comparison between numeric/array data and binary blob"
   ]
  },
  {
   "cell_type": "markdown",
   "metadata": {},
   "source": [
    "### Case1: Short experiment time"
   ]
  },
  {
   "cell_type": "code",
   "execution_count": 5,
   "metadata": {
    "execution": {
     "iopub.execute_input": "2021-05-06T10:34:08.667914Z",
     "iopub.status.busy": "2021-05-06T10:34:08.666641Z",
     "iopub.status.idle": "2021-05-06T10:34:09.658413Z",
     "shell.execute_reply": "2021-05-06T10:34:09.658935Z"
    }
   },
   "outputs": [
    {
     "name": "stdout",
     "output_type": "stream",
     "text": [
      "Starting experimental run with id: 1. \n",
      "Starting experimental run with id: 2. \n",
      "Starting experimental run with id: 3. \n"
     ]
    },
    {
     "name": "stdout",
     "output_type": "stream",
     "text": [
      "Starting experimental run with id: 4. \n",
      "Starting experimental run with id: 5. \n"
     ]
    },
    {
     "name": "stdout",
     "output_type": "stream",
     "text": [
      "Starting experimental run with id: 6. \n",
      "Starting experimental run with id: 7. \n",
      "Starting experimental run with id: 8. \n"
     ]
    },
    {
     "name": "stdout",
     "output_type": "stream",
     "text": [
      "Starting experimental run with id: 9. \n"
     ]
    },
    {
     "name": "stdout",
     "output_type": "stream",
     "text": [
      "Starting experimental run with id: 10. \n",
      "Starting experimental run with id: 11. \n"
     ]
    },
    {
     "name": "stdout",
     "output_type": "stream",
     "text": [
      "Starting experimental run with id: 12. \n"
     ]
    },
    {
     "name": "stdout",
     "output_type": "stream",
     "text": [
      "Starting experimental run with id: 13. \n"
     ]
    },
    {
     "name": "stdout",
     "output_type": "stream",
     "text": [
      "Starting experimental run with id: 14. \n"
     ]
    }
   ],
   "source": [
    "sizes = [1,500,1000,2000,3000,4000,5000]\n",
    "t_numeric = []\n",
    "t_numeric_add = []\n",
    "t_array = []\n",
    "t_array_add = []\n",
    "for size in sizes:\n",
    "    tn, tna, run_id_n =  insert_data('numeric', size)\n",
    "    t_numeric.append(tn)\n",
    "    t_numeric_add.append(tna)\n",
    "\n",
    "    ta, taa, run_id_a =  insert_data('array', size)\n",
    "    t_array.append(ta)\n",
    "    t_array_add.append(taa)"
   ]
  },
  {
   "cell_type": "code",
   "execution_count": 6,
   "metadata": {
    "execution": {
     "iopub.execute_input": "2021-05-06T10:34:09.665672Z",
     "iopub.status.busy": "2021-05-06T10:34:09.663777Z",
     "iopub.status.idle": "2021-05-06T10:34:09.908026Z",
     "shell.execute_reply": "2021-05-06T10:34:09.906879Z"
    }
   },
   "outputs": [
    {
     "data": {
      "image/png": "[encoded data removed]",
      "text/plain": [
       "<Figure size 640x480 with 1 Axes>"
      ]
     },
     "metadata": {},
     "output_type": "display_data"
    }
   ],
   "source": [
    "fig, ax = plt.subplots(1,1)\n",
    "ax.plot(sizes, t_numeric, 'o-', label='Inserting row-by-row')\n",
    "ax.plot(sizes, t_numeric_add, 'o-', label='Inserting row-by-row: add_result only')\n",
    "ax.plot(sizes, t_array, 'd-', label='Inserting as binary blob')\n",
    "ax.plot(sizes, t_array_add, 'd-', label='Inserting as binary blob: add_result only')\n",
    "ax.legend()\n",
    "ax.set_xlabel('Array length')\n",
    "ax.set_ylabel('Time (s)')\n",
    "fig.tight_layout()"
   ]
  },
  {
   "cell_type": "markdown",
   "metadata": {},
   "source": [
    "As shown in the latter figure, the time to setup and and close the experiment is approximately 0.4 sec. In case of small array sizes, the difference between inserting values of data as arrays and inserting them row-by-row is relatively unimportant. At larger array sizes, i.e. above 10000 points, the cost of writing data as individual datapoints starts to become important.\n"
   ]
  },
  {
   "cell_type": "markdown",
   "metadata": {},
   "source": [
    "### Case2: Long experiment time "
   ]
  },
  {
   "cell_type": "code",
   "execution_count": 7,
   "metadata": {
    "execution": {
     "iopub.execute_input": "2021-05-06T10:34:09.916287Z",
     "iopub.status.busy": "2021-05-06T10:34:09.914954Z",
     "iopub.status.idle": "2021-05-06T10:35:08.093000Z",
     "shell.execute_reply": "2021-05-06T10:35:08.091715Z"
    }
   },
   "outputs": [
    {
     "name": "stdout",
     "output_type": "stream",
     "text": [
      "Starting experimental run with id: 15. \n",
      "Starting experimental run with id: 16. \n",
      "Starting experimental run with id: 17. \n"
     ]
    },
    {
     "name": "stdout",
     "output_type": "stream",
     "text": [
      "Starting experimental run with id: 18. \n",
      "Starting experimental run with id: 19. \n"
     ]
    },
    {
     "name": "stdout",
     "output_type": "stream",
     "text": [
      "Starting experimental run with id: 20. \n"
     ]
    },
    {
     "name": "stdout",
     "output_type": "stream",
     "text": [
      "Starting experimental run with id: 21. \n"
     ]
    },
    {
     "name": "stdout",
     "output_type": "stream",
     "text": [
      "Starting experimental run with id: 22. \n"
     ]
    },
    {
     "name": "stdout",
     "output_type": "stream",
     "text": [
      "Starting experimental run with id: 23. \n"
     ]
    },
    {
     "name": "stdout",
     "output_type": "stream",
     "text": [
      "Starting experimental run with id: 24. \n"
     ]
    },
    {
     "name": "stdout",
     "output_type": "stream",
     "text": [
      "Starting experimental run with id: 25. \n"
     ]
    },
    {
     "name": "stdout",
     "output_type": "stream",
     "text": [
      "Starting experimental run with id: 26. \n"
     ]
    },
    {
     "name": "stdout",
     "output_type": "stream",
     "text": [
      "Starting experimental run with id: 27. \n"
     ]
    },
    {
     "name": "stdout",
     "output_type": "stream",
     "text": [
      "Starting experimental run with id: 28. \n"
     ]
    }
   ],
   "source": [
    "sizes = [1,500,1000,2000,3000,4000,5000]\n",
    "nreps = 100\n",
    "t_numeric = []\n",
    "t_numeric_add = []\n",
    "t_numeric_run_ids = []\n",
    "t_array = []\n",
    "t_array_add = []\n",
    "t_array_run_ids = []\n",
    "for size in sizes:\n",
    "    tn, tna, run_id_n =  insert_data('numeric', size, nreps=nreps)\n",
    "    t_numeric.append(tn)\n",
    "    t_numeric_add.append(tna)\n",
    "    t_numeric_run_ids.append(run_id_n)\n",
    "\n",
    "    ta, taa, run_id_a =  insert_data('array', size, nreps=nreps)\n",
    "    t_array.append(ta)\n",
    "    t_array_add.append(taa)\n",
    "    t_array_run_ids.append(run_id_a)"
   ]
  },
  {
   "cell_type": "code",
   "execution_count": 8,
   "metadata": {
    "execution": {
     "iopub.execute_input": "2021-05-06T10:35:08.116275Z",
     "iopub.status.busy": "2021-05-06T10:35:08.100873Z",
     "iopub.status.idle": "2021-05-06T10:35:08.386314Z",
     "shell.execute_reply": "2021-05-06T10:35:08.386802Z"
    },
    "scrolled": true
   },
   "outputs": [
    {
     "data": {
      "image/png": "[encoded data removed]",
      "text/plain": [
       "<Figure size 640x480 with 1 Axes>"
      ]
     },
     "metadata": {},
     "output_type": "display_data"
    }
   ],
   "source": [
    "fig, ax = plt.subplots(1,1)\n",
    "ax.plot(sizes, t_numeric, 'o-', label='Inserting row-by-row')\n",
    "ax.plot(sizes, t_numeric_add, 'o-', label='Inserting row-by-row: add_result only')\n",
    "ax.plot(sizes, t_array, 'd-', label='Inserting as binary blob')\n",
    "ax.plot(sizes, t_array_add, 'd-', label='Inserting as binary blob: add_result only')\n",
    "ax.legend()\n",
    "ax.set_xlabel('Array length')\n",
    "ax.set_ylabel('Time (s)')\n",
    "fig.tight_layout()"
   ]
  },
  {
   "cell_type": "markdown",
   "metadata": {},
   "source": [
    "However, as we increase the length of the experiment, as seen here by repeating the insertion 100 times, we see a big difference between inserting values of the data row-by-row and inserting it as a binary blob."
   ]
  },
  {
   "cell_type": "markdown",
   "metadata": {},
   "source": [
    "## Loading the data "
   ]
  },
  {
   "cell_type": "code",
   "execution_count": 9,
   "metadata": {
    "execution": {
     "iopub.execute_input": "2021-05-06T10:35:08.396909Z",
     "iopub.status.busy": "2021-05-06T10:35:08.395791Z",
     "iopub.status.idle": "2021-05-06T10:35:08.398622Z",
     "shell.execute_reply": "2021-05-06T10:35:08.398088Z"
    }
   },
   "outputs": [],
   "source": [
    "from qcodes.dataset.data_set import load_by_id"
   ]
  },
  {
   "cell_type": "markdown",
   "metadata": {},
   "source": [
    "As usual you can load the data by using the ``load_by_id`` function but you will notice that the different storage methods\n",
    "are reflected in shape of the data as it is retrieved. "
   ]
  },
  {
   "cell_type": "code",
   "execution_count": 10,
   "metadata": {
    "execution": {
     "iopub.execute_input": "2021-05-06T10:35:08.407751Z",
     "iopub.status.busy": "2021-05-06T10:35:08.406266Z",
     "iopub.status.idle": "2021-05-06T10:35:08.408477Z",
     "shell.execute_reply": "2021-05-06T10:35:08.408968Z"
    }
   },
   "outputs": [],
   "source": [
    "run_id_n = t_numeric_run_ids[0]\n",
    "run_id_a = t_array_run_ids[0]"
   ]
  },
  {
   "cell_type": "code",
   "execution_count": 11,
   "metadata": {
    "execution": {
     "iopub.execute_input": "2021-05-06T10:35:08.412914Z",
     "iopub.status.busy": "2021-05-06T10:35:08.412333Z",
     "iopub.status.idle": "2021-05-06T10:35:08.423238Z",
     "shell.execute_reply": "2021-05-06T10:35:08.423924Z"
    },
    "scrolled": true
   },
   "outputs": [
    {
     "data": {
      "text/plain": [
       "{'x1': {'x1': array([0.83025281, 0.83025281, 0.7228943 , 0.7228943 , 0.71742943,\n",
       "         0.71742943, 0.0357006 , 0.0357006 , 0.61114607, 0.61114607,\n",
       "         0.48867762, 0.48867762, 0.05540231, 0.05540231, 0.98825245,\n",
       "         0.98825245, 0.17321725, 0.17321725, 0.75650973, 0.75650973,\n",
       "         0.92089303, 0.92089303, 0.41689529, 0.41689529, 0.31679958,\n",
       "         0.31679958, 0.4434368 , 0.4434368 , 0.19346992, 0.19346992,\n",
       "         0.95037866, 0.95037866, 0.78698162, 0.78698162, 0.7791431 ,\n",
       "         0.7791431 , 0.50694676, 0.50694676, 0.53672994, 0.53672994,\n",
       "         0.58597863, 0.58597863, 0.34188906, 0.34188906, 0.81171022,\n",
       "         0.81171022, 0.1562756 , 0.1562756 , 0.93238321, 0.93238321,\n",
       "         0.13928829, 0.13928829, 0.27575709, 0.27575709, 0.01800119,\n",
       "         0.01800119, 0.33922368, 0.33922368, 0.3287681 , 0.3287681 ,\n",
       "         0.69926294, 0.69926294, 0.24911546, 0.24911546, 0.96831832,\n",
       "         0.96831832, 0.56658395, 0.56658395, 0.73647914, 0.73647914,\n",
       "         0.01808575, 0.01808575, 0.77697826, 0.77697826, 0.06867364,\n",
       "         0.06867364, 0.6641809 , 0.6641809 , 0.48662725, 0.48662725,\n",
       "         0.72230483, 0.72230483, 0.13469994, 0.13469994, 0.92770885,\n",
       "         0.92770885, 0.77638637, 0.77638637, 0.25063297, 0.25063297,\n",
       "         0.05896347, 0.05896347, 0.38648854, 0.38648854, 0.81667838,\n",
       "         0.81667838, 0.91682351, 0.91682351, 0.17102526, 0.17102526,\n",
       "         0.02056593, 0.02056593, 0.80282579, 0.80282579, 0.42650534,\n",
       "         0.42650534, 0.19334569, 0.19334569, 0.9627301 , 0.9627301 ,\n",
       "         0.33199939, 0.33199939, 0.38963358, 0.38963358, 0.54250862,\n",
       "         0.54250862, 0.69938621, 0.69938621, 0.54871016, 0.54871016,\n",
       "         0.24337978, 0.24337978, 0.32968672, 0.32968672, 0.33064995,\n",
       "         0.33064995, 0.14812672, 0.14812672, 0.67349975, 0.67349975,\n",
       "         0.87411971, 0.87411971, 0.01084003, 0.01084003, 0.33889827,\n",
       "         0.33889827, 0.89164985, 0.89164985, 0.51294684, 0.51294684,\n",
       "         0.46425222, 0.46425222, 0.0526135 , 0.0526135 , 0.41985804,\n",
       "         0.41985804, 0.17018137, 0.17018137, 0.36262742, 0.36262742,\n",
       "         0.81159235, 0.81159235, 0.83533237, 0.83533237, 0.08628734,\n",
       "         0.08628734, 0.59857982, 0.59857982, 0.48350689, 0.48350689,\n",
       "         0.29751741, 0.29751741, 0.02392637, 0.02392637, 0.73311606,\n",
       "         0.73311606, 0.13100621, 0.13100621, 0.65452341, 0.65452341,\n",
       "         0.8734681 , 0.8734681 , 0.94836469, 0.94836469, 0.40385724,\n",
       "         0.40385724, 0.39277379, 0.39277379, 0.70304566, 0.70304566,\n",
       "         0.96604559, 0.96604559, 0.12201457, 0.12201457, 0.763043  ,\n",
       "         0.763043  , 0.62785713, 0.62785713, 0.2942622 , 0.2942622 ,\n",
       "         0.6614571 , 0.6614571 , 0.76989987, 0.76989987, 0.06555619,\n",
       "         0.06555619, 0.61173295, 0.61173295, 0.09753361, 0.09753361])}}"
      ]
     },
     "execution_count": 1,
     "metadata": {},
     "output_type": "execute_result"
    }
   ],
   "source": [
    "ds = load_by_id(run_id_n)\n",
    "ds.get_parameter_data('x1')"
   ]
  },
  {
   "cell_type": "markdown",
   "metadata": {},
   "source": [
    "And a dataset stored as binary arrays"
   ]
  },
  {
   "cell_type": "code",
   "execution_count": 12,
   "metadata": {
    "execution": {
     "iopub.execute_input": "2021-05-06T10:35:08.428365Z",
     "iopub.status.busy": "2021-05-06T10:35:08.427385Z",
     "iopub.status.idle": "2021-05-06T10:35:08.486008Z",
     "shell.execute_reply": "2021-05-06T10:35:08.486519Z"
    },
    "scrolled": true
   },
   "outputs": [
    {
     "data": {
      "text/plain": [
       "{'x1': {'x1': array([[0.60040859],\n",
       "         [0.60040859],\n",
       "         [0.45680915],\n",
       "         [0.45680915],\n",
       "         [0.61879989],\n",
       "         [0.61879989],\n",
       "         [0.65074544],\n",
       "         [0.65074544],\n",
       "         [0.40925433],\n",
       "         [0.40925433],\n",
       "         [0.57450926],\n",
       "         [0.57450926],\n",
       "         [0.15891421],\n",
       "         [0.15891421],\n",
       "         [0.70745846],\n",
       "         [0.70745846],\n",
       "         [0.62558963],\n",
       "         [0.62558963],\n",
       "         [0.80292057],\n",
       "         [0.80292057],\n",
       "         [0.67809696],\n",
       "         [0.67809696],\n",
       "         [0.26259231],\n",
       "         [0.26259231],\n",
       "         [0.83259015],\n",
       "         [0.83259015],\n",
       "         [0.84225182],\n",
       "         [0.84225182],\n",
       "         [0.30932579],\n",
       "         [0.30932579],\n",
       "         [0.1614514 ],\n",
       "         [0.1614514 ],\n",
       "         [0.41967955],\n",
       "         [0.41967955],\n",
       "         [0.88299516],\n",
       "         [0.88299516],\n",
       "         [0.67507791],\n",
       "         [0.67507791],\n",
       "         [0.93980509],\n",
       "         [0.93980509],\n",
       "         [0.55889497],\n",
       "         [0.55889497],\n",
       "         [0.06020522],\n",
       "         [0.06020522],\n",
       "         [0.58243014],\n",
       "         [0.58243014],\n",
       "         [0.03882526],\n",
       "         [0.03882526],\n",
       "         [0.95630669],\n",
       "         [0.95630669],\n",
       "         [0.45467399],\n",
       "         [0.45467399],\n",
       "         [0.38687022],\n",
       "         [0.38687022],\n",
       "         [0.44855306],\n",
       "         [0.44855306],\n",
       "         [0.79643217],\n",
       "         [0.79643217],\n",
       "         [0.24293501],\n",
       "         [0.24293501],\n",
       "         [0.14161473],\n",
       "         [0.14161473],\n",
       "         [0.08677786],\n",
       "         [0.08677786],\n",
       "         [0.17562816],\n",
       "         [0.17562816],\n",
       "         [0.68007344],\n",
       "         [0.68007344],\n",
       "         [0.02571572],\n",
       "         [0.02571572],\n",
       "         [0.20104934],\n",
       "         [0.20104934],\n",
       "         [0.65127336],\n",
       "         [0.65127336],\n",
       "         [0.72556461],\n",
       "         [0.72556461],\n",
       "         [0.64715755],\n",
       "         [0.64715755],\n",
       "         [0.49220401],\n",
       "         [0.49220401],\n",
       "         [0.95987038],\n",
       "         [0.95987038],\n",
       "         [0.55929458],\n",
       "         [0.55929458],\n",
       "         [0.17843229],\n",
       "         [0.17843229],\n",
       "         [0.94885759],\n",
       "         [0.94885759],\n",
       "         [0.42613897],\n",
       "         [0.42613897],\n",
       "         [0.00955982],\n",
       "         [0.00955982],\n",
       "         [0.2679281 ],\n",
       "         [0.2679281 ],\n",
       "         [0.58089129],\n",
       "         [0.58089129],\n",
       "         [0.46033698],\n",
       "         [0.46033698],\n",
       "         [0.31079359],\n",
       "         [0.31079359],\n",
       "         [0.78443765],\n",
       "         [0.78443765],\n",
       "         [0.08987344],\n",
       "         [0.08987344],\n",
       "         [0.47338557],\n",
       "         [0.47338557],\n",
       "         [0.95883643],\n",
       "         [0.95883643],\n",
       "         [0.07026749],\n",
       "         [0.07026749],\n",
       "         [0.04126444],\n",
       "         [0.04126444],\n",
       "         [0.43250594],\n",
       "         [0.43250594],\n",
       "         [0.58914165],\n",
       "         [0.58914165],\n",
       "         [0.80357546],\n",
       "         [0.80357546],\n",
       "         [0.3538727 ],\n",
       "         [0.3538727 ],\n",
       "         [0.97560098],\n",
       "         [0.97560098],\n",
       "         [0.51964306],\n",
       "         [0.51964306],\n",
       "         [0.24054102],\n",
       "         [0.24054102],\n",
       "         [0.90779164],\n",
       "         [0.90779164],\n",
       "         [0.39710418],\n",
       "         [0.39710418],\n",
       "         [0.05610727],\n",
       "         [0.05610727],\n",
       "         [0.36752043],\n",
       "         [0.36752043],\n",
       "         [0.04655757],\n",
       "         [0.04655757],\n",
       "         [0.69258583],\n",
       "         [0.69258583],\n",
       "         [0.64688566],\n",
       "         [0.64688566],\n",
       "         [0.16458426],\n",
       "         [0.16458426],\n",
       "         [0.8475712 ],\n",
       "         [0.8475712 ],\n",
       "         [0.69759257],\n",
       "         [0.69759257],\n",
       "         [0.66485644],\n",
       "         [0.66485644],\n",
       "         [0.81957284],\n",
       "         [0.81957284],\n",
       "         [0.28525592],\n",
       "         [0.28525592],\n",
       "         [0.49707292],\n",
       "         [0.49707292],\n",
       "         [0.43181151],\n",
       "         [0.43181151],\n",
       "         [0.25167429],\n",
       "         [0.25167429],\n",
       "         [0.37908316],\n",
       "         [0.37908316],\n",
       "         [0.51711711],\n",
       "         [0.51711711],\n",
       "         [0.3800212 ],\n",
       "         [0.3800212 ],\n",
       "         [0.25423613],\n",
       "         [0.25423613],\n",
       "         [0.15175995],\n",
       "         [0.15175995],\n",
       "         [0.65993739],\n",
       "         [0.65993739],\n",
       "         [0.35910794],\n",
       "         [0.35910794],\n",
       "         [0.36238152],\n",
       "         [0.36238152],\n",
       "         [0.47405024],\n",
       "         [0.47405024],\n",
       "         [0.82422249],\n",
       "         [0.82422249],\n",
       "         [0.20386475],\n",
       "         [0.20386475],\n",
       "         [0.98400534],\n",
       "         [0.98400534],\n",
       "         [0.86619613],\n",
       "         [0.86619613],\n",
       "         [0.9578321 ],\n",
       "         [0.9578321 ],\n",
       "         [0.02104842],\n",
       "         [0.02104842],\n",
       "         [0.32789988],\n",
       "         [0.32789988],\n",
       "         [0.04563932],\n",
       "         [0.04563932],\n",
       "         [0.1413399 ],\n",
       "         [0.1413399 ],\n",
       "         [0.77564663],\n",
       "         [0.77564663],\n",
       "         [0.7183408 ],\n",
       "         [0.7183408 ],\n",
       "         [0.9418417 ],\n",
       "         [0.9418417 ]])}}"
      ]
     },
     "execution_count": 1,
     "metadata": {},
     "output_type": "execute_result"
    }
   ],
   "source": [
    "ds = load_by_id(run_id_a)\n",
    "ds.get_parameter_data('x1')"
   ]
  },
  {
   "cell_type": "code",
   "execution_count": null,
   "metadata": {},
   "outputs": [],
   "source": []
  }
 ],
 "metadata": {
  "kernelspec": {
   "display_name": "Python 3",
   "language": "python",
   "name": "python3"
  },
  "language_info": {
   "codemirror_mode": {
    "name": "ipython",
    "version": 3
   },
   "file_extension": ".py",
   "mimetype": "text/x-python",
   "name": "python",
   "nbconvert_exporter": "python",
   "pygments_lexer": "ipython3",
   "version": "3.7.10"
  },
  "nbsphinx": {
   "timeout": 600
  },
  "toc": {
   "base_numbering": 1,
   "nav_menu": {},
   "number_sections": true,
   "sideBar": true,
   "skip_h1_title": false,
   "title_cell": "Table of Contents",
   "title_sidebar": "Contents",
   "toc_cell": false,
   "toc_position": {},
   "toc_section_display": true,
   "toc_window_display": false
  },
  "varInspector": {
   "cols": {
    "lenName": 16,
    "lenType": 16,
    "lenVar": 40
   },
   "kernels_config": {
    "python": {
     "delete_cmd_postfix": "",
     "delete_cmd_prefix": "del ",
     "library": "var_list.py",
     "varRefreshCmd": "print(var_dic_list())"
    },
    "r": {
     "delete_cmd_postfix": ") ",
     "delete_cmd_prefix": "rm(",
     "library": "var_list.r",
     "varRefreshCmd": "cat(var_dic_list()) "
    }
   },
   "types_to_exclude": [
    "module",
    "function",
    "builtin_function_or_method",
    "instance",
    "_Feature"
   ],
   "window_display": false
  }
 },
 "nbformat": 4,
 "nbformat_minor": 4
}
