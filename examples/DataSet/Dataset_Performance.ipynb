{
 "cells": [
  {
   "cell_type": "markdown",
   "metadata": {},
   "source": [
    "# DataSet Performance\n",
    "\n",
    "This notebook shows the trade-off between inserting data into a database row-by-row and as binary blobs. Inserting the data row-by-row means that we have direct access to all the data and may perform queries directly on the values of the data. On the other hand, as we shall see, this is much slower than inserting the data directly as binary blobs."
   ]
  },
  {
   "cell_type": "markdown",
   "metadata": {},
   "source": [
    "First, we choose a new location for the database to ensure that we don't add a bunch of benchmarking data to the default one."
   ]
  },
  {
   "cell_type": "code",
   "execution_count": 1,
   "metadata": {
    "execution": {
     "iopub.execute_input": "2020-12-26T11:42:46.211932Z",
     "iopub.status.busy": "2020-12-26T11:42:46.210865Z",
     "iopub.status.idle": "2020-12-26T11:42:47.246321Z",
     "shell.execute_reply": "2020-12-26T11:42:47.245692Z"
    }
   },
   "outputs": [
    {
     "name": "stdout",
     "output_type": "stream",
     "text": [
      "Logging hadn't been started.\n",
      "Activating auto-logging. Current session state plus future input saved.\n",
      "Filename       : /home/vsts/.qcodes/logs/command_history.log\n",
      "Mode           : append\n",
      "Output logging : True\n",
      "Raw input log  : False\n",
      "Timestamping   : True\n",
      "State          : active\n"
     ]
    },
    {
     "name": "stdout",
     "output_type": "stream",
     "text": [
      "Qcodes Logfile : /home/vsts/.qcodes/logs/201226-13804-qcodes.log\n"
     ]
    }
   ],
   "source": [
    "import os\n",
    "cwd = os.getcwd()\n",
    "import qcodes as qc\n",
    "qc.config[\"core\"][\"db_location\"] = os.path.join(cwd, 'testing.db')\n"
   ]
  },
  {
   "cell_type": "code",
   "execution_count": 2,
   "metadata": {
    "execution": {
     "iopub.execute_input": "2020-12-26T11:42:47.254983Z",
     "iopub.status.busy": "2020-12-26T11:42:47.252221Z",
     "iopub.status.idle": "2020-12-26T11:42:47.439699Z",
     "shell.execute_reply": "2020-12-26T11:42:47.440188Z"
    }
   },
   "outputs": [],
   "source": [
    "%matplotlib inline\n",
    "import time\n",
    "import matplotlib.pyplot as plt\n",
    "import numpy as np\n",
    "\n",
    "import qcodes as qc\n",
    "from qcodes.instrument.parameter import ManualParameter\n",
    "from qcodes.dataset.experiment_container import (Experiment,\n",
    "                                                 load_last_experiment,\n",
    "                                                 new_experiment)\n",
    "from qcodes.dataset.sqlite.database import initialise_database\n",
    "from qcodes import load_or_create_experiment\n",
    "from qcodes.dataset.measurements import Measurement"
   ]
  },
  {
   "cell_type": "code",
   "execution_count": 3,
   "metadata": {
    "execution": {
     "iopub.execute_input": "2020-12-26T11:42:47.444156Z",
     "iopub.status.busy": "2020-12-26T11:42:47.443215Z",
     "iopub.status.idle": "2020-12-26T11:42:47.551439Z",
     "shell.execute_reply": "2020-12-26T11:42:47.550920Z"
    }
   },
   "outputs": [
    {
     "name": "stdout",
     "output_type": "stream",
     "text": [
      "\r",
      "0it [00:00, ?it/s]"
     ]
    },
    {
     "name": "stdout",
     "output_type": "stream",
     "text": [
      "\r",
      "Upgrading database; v0 -> v1: : 0it [00:00, ?it/s]"
     ]
    },
    {
     "name": "stdout",
     "output_type": "stream",
     "text": [
      "\r",
      "Upgrading database; v0 -> v1: : 0it [00:00, ?it/s]"
     ]
    },
    {
     "name": "stdout",
     "output_type": "stream",
     "text": [
      "\n",
      "\r",
      "  0%|          | 0/1 [00:00<?, ?it/s]"
     ]
    },
    {
     "name": "stdout",
     "output_type": "stream",
     "text": [
      "\r",
      "Upgrading database; v1 -> v2:   0%|          | 0/1 [00:00<?, ?it/s]"
     ]
    },
    {
     "name": "stdout",
     "output_type": "stream",
     "text": [
      "\r",
      "Upgrading database; v1 -> v2: 100%|██████████| 1/1 [00:00<00:00, 892.60it/s]"
     ]
    },
    {
     "name": "stdout",
     "output_type": "stream",
     "text": [
      "\n",
      "\r",
      "0it [00:00, ?it/s]"
     ]
    },
    {
     "name": "stdout",
     "output_type": "stream",
     "text": [
      "\r",
      "Upgrading database; v2 -> v3: : 0it [00:00, ?it/s]"
     ]
    },
    {
     "name": "stdout",
     "output_type": "stream",
     "text": [
      "\r",
      "Upgrading database; v2 -> v3: : 0it [00:00, ?it/s]"
     ]
    },
    {
     "name": "stdout",
     "output_type": "stream",
     "text": [
      "\n",
      "\r",
      "0it [00:00, ?it/s]"
     ]
    },
    {
     "name": "stdout",
     "output_type": "stream",
     "text": [
      "\r",
      "Upgrading database; v3 -> v4: : 0it [00:00, ?it/s]"
     ]
    },
    {
     "name": "stdout",
     "output_type": "stream",
     "text": [
      "\r",
      "Upgrading database; v3 -> v4: : 0it [00:00, ?it/s]"
     ]
    },
    {
     "name": "stdout",
     "output_type": "stream",
     "text": [
      "\n",
      "\r",
      "  0%|          | 0/1 [00:00<?, ?it/s]"
     ]
    },
    {
     "name": "stdout",
     "output_type": "stream",
     "text": [
      "\r",
      "Upgrading database; v4 -> v5:   0%|          | 0/1 [00:00<?, ?it/s]"
     ]
    },
    {
     "name": "stdout",
     "output_type": "stream",
     "text": [
      "\r",
      "Upgrading database; v4 -> v5: 100%|██████████| 1/1 [00:00<00:00, 472.49it/s]"
     ]
    },
    {
     "name": "stdout",
     "output_type": "stream",
     "text": [
      "\n",
      "\r",
      "0it [00:00, ?it/s]"
     ]
    },
    {
     "name": "stdout",
     "output_type": "stream",
     "text": [
      "\r",
      "Upgrading database; v5 -> v6: : 0it [00:00, ?it/s]"
     ]
    },
    {
     "name": "stdout",
     "output_type": "stream",
     "text": [
      "\r",
      "Upgrading database; v5 -> v6: : 0it [00:00, ?it/s]"
     ]
    },
    {
     "name": "stdout",
     "output_type": "stream",
     "text": [
      "\n",
      "\r",
      "  0%|          | 0/1 [00:00<?, ?it/s]"
     ]
    },
    {
     "name": "stdout",
     "output_type": "stream",
     "text": [
      "\r",
      "Upgrading database; v6 -> v7:   0%|          | 0/1 [00:00<?, ?it/s]"
     ]
    },
    {
     "name": "stdout",
     "output_type": "stream",
     "text": [
      "\r",
      "Upgrading database; v6 -> v7: 100%|██████████| 1/1 [00:00<00:00, 293.27it/s]"
     ]
    },
    {
     "name": "stdout",
     "output_type": "stream",
     "text": [
      "\n",
      "\r",
      "  0%|          | 0/1 [00:00<?, ?it/s]"
     ]
    },
    {
     "name": "stdout",
     "output_type": "stream",
     "text": [
      "\r",
      "Upgrading database; v7 -> v8:   0%|          | 0/1 [00:00<?, ?it/s]"
     ]
    },
    {
     "name": "stdout",
     "output_type": "stream",
     "text": [
      "\r",
      "Upgrading database; v7 -> v8: 100%|██████████| 1/1 [00:00<00:00, 883.94it/s]"
     ]
    },
    {
     "name": "stdout",
     "output_type": "stream",
     "text": [
      "\n",
      "\r",
      "  0%|          | 0/1 [00:00<?, ?it/s]"
     ]
    },
    {
     "name": "stdout",
     "output_type": "stream",
     "text": [
      "\r",
      "Upgrading database; v8 -> v9:   0%|          | 0/1 [00:00<?, ?it/s]"
     ]
    },
    {
     "name": "stdout",
     "output_type": "stream",
     "text": [
      "\r",
      "Upgrading database; v8 -> v9: 100%|██████████| 1/1 [00:00<00:00, 1048.05it/s]"
     ]
    },
    {
     "name": "stdout",
     "output_type": "stream",
     "text": [
      "\n"
     ]
    }
   ],
   "source": [
    "initialise_database()\n",
    "exp = load_or_create_experiment(experiment_name='tutorial_exp', sample_name=\"no sample\")"
   ]
  },
  {
   "cell_type": "markdown",
   "metadata": {},
   "source": [
    "Here, we define a simple function to benchmark the time it takes to insert n points with either numeric or array data type.\n",
    "We will compare both the time used to call ``add_result`` and the time used for the full measurement."
   ]
  },
  {
   "cell_type": "code",
   "execution_count": 4,
   "metadata": {
    "execution": {
     "iopub.execute_input": "2020-12-26T11:42:47.559920Z",
     "iopub.status.busy": "2020-12-26T11:42:47.559363Z",
     "iopub.status.idle": "2020-12-26T11:42:47.563153Z",
     "shell.execute_reply": "2020-12-26T11:42:47.562614Z"
    }
   },
   "outputs": [],
   "source": [
    "def insert_data(paramtype, npoints, nreps=1):\n",
    "\n",
    "    meas = Measurement(exp=exp)\n",
    "\n",
    "    x1 = ManualParameter('x1')\n",
    "    x2 = ManualParameter('x2')\n",
    "    x3 = ManualParameter('x3')\n",
    "    y1 = ManualParameter('y1')\n",
    "    y2 = ManualParameter('y2')\n",
    "\n",
    "    meas.register_parameter(x1, paramtype=paramtype)\n",
    "    meas.register_parameter(x2, paramtype=paramtype)\n",
    "    meas.register_parameter(x3, paramtype=paramtype)\n",
    "    meas.register_parameter(y1, setpoints=[x1, x2, x3],\n",
    "                            paramtype=paramtype)\n",
    "    meas.register_parameter(y2, setpoints=[x1, x2, x3],\n",
    "                            paramtype=paramtype)\n",
    "    start = time.perf_counter()\n",
    "    with meas.run() as datasaver:\n",
    "        start_adding = time.perf_counter()\n",
    "        for i in range(nreps):\n",
    "            datasaver.add_result((x1, np.random.rand(npoints)),\n",
    "                                 (x2, np.random.rand(npoints)),\n",
    "                                 (x3, np.random.rand(npoints)),\n",
    "                                 (y1, np.random.rand(npoints)),\n",
    "                                 (y2, np.random.rand(npoints)))\n",
    "        stop_adding = time.perf_counter()\n",
    "        run_id = datasaver.run_id\n",
    "    stop = time.perf_counter()\n",
    "    tot_time = stop - start\n",
    "    add_time = stop_adding - start_adding\n",
    "    return tot_time, add_time, run_id"
   ]
  },
  {
   "cell_type": "markdown",
   "metadata": {},
   "source": [
    "## Comparison between numeric/array data and binary blob"
   ]
  },
  {
   "cell_type": "markdown",
   "metadata": {},
   "source": [
    "### Case1: Short experiment time"
   ]
  },
  {
   "cell_type": "code",
   "execution_count": 5,
   "metadata": {
    "execution": {
     "iopub.execute_input": "2020-12-26T11:42:47.569763Z",
     "iopub.status.busy": "2020-12-26T11:42:47.569245Z",
     "iopub.status.idle": "2020-12-26T11:42:48.394584Z",
     "shell.execute_reply": "2020-12-26T11:42:48.395260Z"
    }
   },
   "outputs": [
    {
     "name": "stdout",
     "output_type": "stream",
     "text": [
      "Starting experimental run with id: 1. \n",
      "Starting experimental run with id: 2. \n",
      "Starting experimental run with id: 3. \n",
      "Starting experimental run with id: 4. \n",
      "Starting experimental run with id: 5. \n"
     ]
    },
    {
     "name": "stdout",
     "output_type": "stream",
     "text": [
      "Starting experimental run with id: 6. \n"
     ]
    },
    {
     "name": "stdout",
     "output_type": "stream",
     "text": [
      "Starting experimental run with id: 7. \n"
     ]
    },
    {
     "name": "stdout",
     "output_type": "stream",
     "text": [
      "Starting experimental run with id: 8. \n",
      "Starting experimental run with id: 9. \n"
     ]
    },
    {
     "name": "stdout",
     "output_type": "stream",
     "text": [
      "Starting experimental run with id: 10. \n",
      "Starting experimental run with id: 11. \n"
     ]
    },
    {
     "name": "stdout",
     "output_type": "stream",
     "text": [
      "Starting experimental run with id: 12. \n",
      "Starting experimental run with id: 13. \n"
     ]
    },
    {
     "name": "stdout",
     "output_type": "stream",
     "text": [
      "Starting experimental run with id: 14. \n"
     ]
    }
   ],
   "source": [
    "sizes = [1,500,1000,2000,3000,4000,5000]\n",
    "t_numeric = []\n",
    "t_numeric_add = []\n",
    "t_array = []\n",
    "t_array_add = []\n",
    "for size in sizes:\n",
    "    tn, tna, run_id_n =  insert_data('numeric', size)\n",
    "    t_numeric.append(tn)\n",
    "    t_numeric_add.append(tna)\n",
    "\n",
    "    ta, taa, run_id_a =  insert_data('array', size)\n",
    "    t_array.append(ta)\n",
    "    t_array_add.append(taa)"
   ]
  },
  {
   "cell_type": "code",
   "execution_count": 6,
   "metadata": {
    "execution": {
     "iopub.execute_input": "2020-12-26T11:42:48.412293Z",
     "iopub.status.busy": "2020-12-26T11:42:48.400503Z",
     "iopub.status.idle": "2020-12-26T11:42:48.593259Z",
     "shell.execute_reply": "2020-12-26T11:42:48.594033Z"
    }
   },
   "outputs": [
    {
     "data": {
      "image/png": "[encoded data removed]",
      "text/plain": [
       "<Figure size 432x288 with 1 Axes>"
      ]
     },
     "metadata": {
      "needs_background": "light"
     },
     "output_type": "display_data"
    }
   ],
   "source": [
    "fig, ax = plt.subplots(1,1)\n",
    "ax.plot(sizes, t_numeric, 'o-', label='Inserting row-by-row')\n",
    "ax.plot(sizes, t_numeric_add, 'o-', label='Inserting row-by-row: add_result only')\n",
    "ax.plot(sizes, t_array, 'd-', label='Inserting as binary blob')\n",
    "ax.plot(sizes, t_array_add, 'd-', label='Inserting as binary blob: add_result only')\n",
    "ax.legend()\n",
    "ax.set_xlabel('Array length')\n",
    "ax.set_ylabel('Time (s)')\n",
    "fig.tight_layout()"
   ]
  },
  {
   "cell_type": "markdown",
   "metadata": {},
   "source": [
    "As shown in the latter figure, the time to setup and and close the experiment is approximately 0.4 sec. In case of small array sizes, the difference between inserting values of data as arrays and inserting them row-by-row is relatively unimportant. At larger array sizes, i.e. above 10000 points, the cost of writing data as individual datapoints starts to become important.\n"
   ]
  },
  {
   "cell_type": "markdown",
   "metadata": {},
   "source": [
    "### Case2: Long experiment time "
   ]
  },
  {
   "cell_type": "code",
   "execution_count": 7,
   "metadata": {
    "execution": {
     "iopub.execute_input": "2020-12-26T11:42:48.601237Z",
     "iopub.status.busy": "2020-12-26T11:42:48.600130Z",
     "iopub.status.idle": "2020-12-26T11:43:47.924751Z",
     "shell.execute_reply": "2020-12-26T11:43:47.925208Z"
    }
   },
   "outputs": [
    {
     "name": "stdout",
     "output_type": "stream",
     "text": [
      "Starting experimental run with id: 15. \n",
      "Starting experimental run with id: 16. \n",
      "Starting experimental run with id: 17. \n"
     ]
    },
    {
     "name": "stdout",
     "output_type": "stream",
     "text": [
      "Starting experimental run with id: 18. \n",
      "Starting experimental run with id: 19. \n"
     ]
    },
    {
     "name": "stdout",
     "output_type": "stream",
     "text": [
      "Starting experimental run with id: 20. \n"
     ]
    },
    {
     "name": "stdout",
     "output_type": "stream",
     "text": [
      "Starting experimental run with id: 21. \n"
     ]
    },
    {
     "name": "stdout",
     "output_type": "stream",
     "text": [
      "Starting experimental run with id: 22. \n"
     ]
    },
    {
     "name": "stdout",
     "output_type": "stream",
     "text": [
      "Starting experimental run with id: 23. \n"
     ]
    },
    {
     "name": "stdout",
     "output_type": "stream",
     "text": [
      "Starting experimental run with id: 24. \n"
     ]
    },
    {
     "name": "stdout",
     "output_type": "stream",
     "text": [
      "Starting experimental run with id: 25. \n"
     ]
    },
    {
     "name": "stdout",
     "output_type": "stream",
     "text": [
      "Starting experimental run with id: 26. \n"
     ]
    },
    {
     "name": "stdout",
     "output_type": "stream",
     "text": [
      "Starting experimental run with id: 27. \n"
     ]
    },
    {
     "name": "stdout",
     "output_type": "stream",
     "text": [
      "Starting experimental run with id: 28. \n"
     ]
    }
   ],
   "source": [
    "sizes = [1,500,1000,2000,3000,4000,5000]\n",
    "nreps = 100\n",
    "t_numeric = []\n",
    "t_numeric_add = []\n",
    "t_numeric_run_ids = []\n",
    "t_array = []\n",
    "t_array_add = []\n",
    "t_array_run_ids = []\n",
    "for size in sizes:\n",
    "    tn, tna, run_id_n =  insert_data('numeric', size, nreps=nreps)\n",
    "    t_numeric.append(tn)\n",
    "    t_numeric_add.append(tna)\n",
    "    t_numeric_run_ids.append(run_id_n)\n",
    "\n",
    "    ta, taa, run_id_a =  insert_data('array', size, nreps=nreps)\n",
    "    t_array.append(ta)\n",
    "    t_array_add.append(taa)\n",
    "    t_array_run_ids.append(run_id_a)"
   ]
  },
  {
   "cell_type": "code",
   "execution_count": 8,
   "metadata": {
    "execution": {
     "iopub.execute_input": "2020-12-26T11:43:47.964475Z",
     "iopub.status.busy": "2020-12-26T11:43:47.954803Z",
     "iopub.status.idle": "2020-12-26T11:43:48.126562Z",
     "shell.execute_reply": "2020-12-26T11:43:48.127103Z"
    },
    "scrolled": true
   },
   "outputs": [
    {
     "data": {
      "image/png": "[encoded data removed]",
      "text/plain": [
       "<Figure size 432x288 with 1 Axes>"
      ]
     },
     "metadata": {
      "needs_background": "light"
     },
     "output_type": "display_data"
    }
   ],
   "source": [
    "fig, ax = plt.subplots(1,1)\n",
    "ax.plot(sizes, t_numeric, 'o-', label='Inserting row-by-row')\n",
    "ax.plot(sizes, t_numeric_add, 'o-', label='Inserting row-by-row: add_result only')\n",
    "ax.plot(sizes, t_array, 'd-', label='Inserting as binary blob')\n",
    "ax.plot(sizes, t_array_add, 'd-', label='Inserting as binary blob: add_result only')\n",
    "ax.legend()\n",
    "ax.set_xlabel('Array length')\n",
    "ax.set_ylabel('Time (s)')\n",
    "fig.tight_layout()"
   ]
  },
  {
   "cell_type": "markdown",
   "metadata": {},
   "source": [
    "However, as we increase the length of the experiment, as seen here by repeating the insertion 100 times, we see a big difference between inserting values of the data row-by-row and inserting it as a binary blob."
   ]
  },
  {
   "cell_type": "markdown",
   "metadata": {},
   "source": [
    "## Loading the data "
   ]
  },
  {
   "cell_type": "code",
   "execution_count": 9,
   "metadata": {
    "execution": {
     "iopub.execute_input": "2020-12-26T11:43:48.129634Z",
     "iopub.status.busy": "2020-12-26T11:43:48.129134Z",
     "iopub.status.idle": "2020-12-26T11:43:48.133888Z",
     "shell.execute_reply": "2020-12-26T11:43:48.133294Z"
    }
   },
   "outputs": [],
   "source": [
    "from qcodes.dataset.data_set import load_by_id\n",
    "from qcodes.dataset.data_export import get_data_by_id"
   ]
  },
  {
   "cell_type": "markdown",
   "metadata": {},
   "source": [
    "As usual you can load the data by using the ``load_by_id`` function but you will notice that the different storage methods\n",
    "are reflected in shape of the data as it is retrieved. "
   ]
  },
  {
   "cell_type": "code",
   "execution_count": 10,
   "metadata": {
    "execution": {
     "iopub.execute_input": "2020-12-26T11:43:48.137608Z",
     "iopub.status.busy": "2020-12-26T11:43:48.137093Z",
     "iopub.status.idle": "2020-12-26T11:43:48.139592Z",
     "shell.execute_reply": "2020-12-26T11:43:48.139060Z"
    }
   },
   "outputs": [],
   "source": [
    "run_id_n = t_numeric_run_ids[0]\n",
    "run_id_a = t_array_run_ids[0]"
   ]
  },
  {
   "cell_type": "code",
   "execution_count": 11,
   "metadata": {
    "execution": {
     "iopub.execute_input": "2020-12-26T11:43:48.142724Z",
     "iopub.status.busy": "2020-12-26T11:43:48.142236Z",
     "iopub.status.idle": "2020-12-26T11:43:48.151572Z",
     "shell.execute_reply": "2020-12-26T11:43:48.151131Z"
    },
    "scrolled": true
   },
   "outputs": [
    {
     "data": {
      "text/plain": [
       "{'x1': {'x1': array([0.68014239, 0.68014239, 0.64019334, 0.64019334, 0.78845472,\n",
       "         0.78845472, 0.04021408, 0.04021408, 0.54851296, 0.54851296,\n",
       "         0.72525536, 0.72525536, 0.67373842, 0.67373842, 0.84800959,\n",
       "         0.84800959, 0.48655954, 0.48655954, 0.9580324 , 0.9580324 ,\n",
       "         0.85780443, 0.85780443, 0.84298463, 0.84298463, 0.20463835,\n",
       "         0.20463835, 0.46843318, 0.46843318, 0.89878512, 0.89878512,\n",
       "         0.39361937, 0.39361937, 0.80348484, 0.80348484, 0.97357301,\n",
       "         0.97357301, 0.42057282, 0.42057282, 0.30966313, 0.30966313,\n",
       "         0.43458808, 0.43458808, 0.36212441, 0.36212441, 0.1450293 ,\n",
       "         0.1450293 , 0.07084984, 0.07084984, 0.330842  , 0.330842  ,\n",
       "         0.06697112, 0.06697112, 0.67546148, 0.67546148, 0.72571849,\n",
       "         0.72571849, 0.15563111, 0.15563111, 0.32042863, 0.32042863,\n",
       "         0.80492631, 0.80492631, 0.08396882, 0.08396882, 0.20724543,\n",
       "         0.20724543, 0.63360599, 0.63360599, 0.91494188, 0.91494188,\n",
       "         0.46231249, 0.46231249, 0.32613696, 0.32613696, 0.21909529,\n",
       "         0.21909529, 0.15402499, 0.15402499, 0.95671456, 0.95671456,\n",
       "         0.19725713, 0.19725713, 0.1372995 , 0.1372995 , 0.59145876,\n",
       "         0.59145876, 0.76703559, 0.76703559, 0.22373015, 0.22373015,\n",
       "         0.55587005, 0.55587005, 0.26846413, 0.26846413, 0.12956676,\n",
       "         0.12956676, 0.32107277, 0.32107277, 0.49031868, 0.49031868,\n",
       "         0.35249075, 0.35249075, 0.32822542, 0.32822542, 0.74982611,\n",
       "         0.74982611, 0.82780147, 0.82780147, 0.68703314, 0.68703314,\n",
       "         0.13848898, 0.13848898, 0.17300933, 0.17300933, 0.55664478,\n",
       "         0.55664478, 0.42033438, 0.42033438, 0.89924242, 0.89924242,\n",
       "         0.8404422 , 0.8404422 , 0.71625272, 0.71625272, 0.92475373,\n",
       "         0.92475373, 0.60051451, 0.60051451, 0.72670283, 0.72670283,\n",
       "         0.91158319, 0.91158319, 0.61412967, 0.61412967, 0.61045851,\n",
       "         0.61045851, 0.96641555, 0.96641555, 0.41716061, 0.41716061,\n",
       "         0.17642762, 0.17642762, 0.57057041, 0.57057041, 0.30781515,\n",
       "         0.30781515, 0.70013233, 0.70013233, 0.01658143, 0.01658143,\n",
       "         0.70444599, 0.70444599, 0.5158414 , 0.5158414 , 0.45857609,\n",
       "         0.45857609, 0.49305854, 0.49305854, 0.43175897, 0.43175897,\n",
       "         0.73077901, 0.73077901, 0.20225224, 0.20225224, 0.57227945,\n",
       "         0.57227945, 0.81362208, 0.81362208, 0.73593473, 0.73593473,\n",
       "         0.13052185, 0.13052185, 0.85155125, 0.85155125, 0.59385108,\n",
       "         0.59385108, 0.67762659, 0.67762659, 0.12565098, 0.12565098,\n",
       "         0.65255337, 0.65255337, 0.19845554, 0.19845554, 0.44291756,\n",
       "         0.44291756, 0.71687725, 0.71687725, 0.60190555, 0.60190555,\n",
       "         0.16098041, 0.16098041, 0.65980485, 0.65980485, 0.49900605,\n",
       "         0.49900605, 0.22779293, 0.22779293, 0.75306013, 0.75306013])}}"
      ]
     },
     "execution_count": 1,
     "metadata": {},
     "output_type": "execute_result"
    }
   ],
   "source": [
    "ds = load_by_id(run_id_n)\n",
    "ds.get_parameter_data('x1')"
   ]
  },
  {
   "cell_type": "markdown",
   "metadata": {},
   "source": [
    "And a dataset stored as binary arrays"
   ]
  },
  {
   "cell_type": "code",
   "execution_count": 12,
   "metadata": {
    "execution": {
     "iopub.execute_input": "2020-12-26T11:43:48.154745Z",
     "iopub.status.busy": "2020-12-26T11:43:48.154280Z",
     "iopub.status.idle": "2020-12-26T11:43:48.208482Z",
     "shell.execute_reply": "2020-12-26T11:43:48.208905Z"
    },
    "scrolled": true
   },
   "outputs": [
    {
     "data": {
      "text/plain": [
       "{'x1': {'x1': array([[0.41612756],\n",
       "         [0.41612756],\n",
       "         [0.7171941 ],\n",
       "         [0.7171941 ],\n",
       "         [0.43535815],\n",
       "         [0.43535815],\n",
       "         [0.04688503],\n",
       "         [0.04688503],\n",
       "         [0.61954422],\n",
       "         [0.61954422],\n",
       "         [0.04738643],\n",
       "         [0.04738643],\n",
       "         [0.28755876],\n",
       "         [0.28755876],\n",
       "         [0.52883876],\n",
       "         [0.52883876],\n",
       "         [0.05776301],\n",
       "         [0.05776301],\n",
       "         [0.78150925],\n",
       "         [0.78150925],\n",
       "         [0.86934648],\n",
       "         [0.86934648],\n",
       "         [0.76419639],\n",
       "         [0.76419639],\n",
       "         [0.49095751],\n",
       "         [0.49095751],\n",
       "         [0.57007667],\n",
       "         [0.57007667],\n",
       "         [0.32382791],\n",
       "         [0.32382791],\n",
       "         [0.77050109],\n",
       "         [0.77050109],\n",
       "         [0.25065643],\n",
       "         [0.25065643],\n",
       "         [0.9391491 ],\n",
       "         [0.9391491 ],\n",
       "         [0.24867597],\n",
       "         [0.24867597],\n",
       "         [0.93721339],\n",
       "         [0.93721339],\n",
       "         [0.38922613],\n",
       "         [0.38922613],\n",
       "         [0.37526469],\n",
       "         [0.37526469],\n",
       "         [0.43986941],\n",
       "         [0.43986941],\n",
       "         [0.43424721],\n",
       "         [0.43424721],\n",
       "         [0.74234757],\n",
       "         [0.74234757],\n",
       "         [0.08376458],\n",
       "         [0.08376458],\n",
       "         [0.67147211],\n",
       "         [0.67147211],\n",
       "         [0.73901658],\n",
       "         [0.73901658],\n",
       "         [0.74961759],\n",
       "         [0.74961759],\n",
       "         [0.23853502],\n",
       "         [0.23853502],\n",
       "         [0.96031464],\n",
       "         [0.96031464],\n",
       "         [0.53675313],\n",
       "         [0.53675313],\n",
       "         [0.05572912],\n",
       "         [0.05572912],\n",
       "         [0.78468662],\n",
       "         [0.78468662],\n",
       "         [0.36683057],\n",
       "         [0.36683057],\n",
       "         [0.90191678],\n",
       "         [0.90191678],\n",
       "         [0.46691523],\n",
       "         [0.46691523],\n",
       "         [0.46599905],\n",
       "         [0.46599905],\n",
       "         [0.26893397],\n",
       "         [0.26893397],\n",
       "         [0.73374987],\n",
       "         [0.73374987],\n",
       "         [0.84950849],\n",
       "         [0.84950849],\n",
       "         [0.49513467],\n",
       "         [0.49513467],\n",
       "         [0.4309375 ],\n",
       "         [0.4309375 ],\n",
       "         [0.84363679],\n",
       "         [0.84363679],\n",
       "         [0.57386574],\n",
       "         [0.57386574],\n",
       "         [0.86757118],\n",
       "         [0.86757118],\n",
       "         [0.60528877],\n",
       "         [0.60528877],\n",
       "         [0.33593047],\n",
       "         [0.33593047],\n",
       "         [0.15156427],\n",
       "         [0.15156427],\n",
       "         [0.15138789],\n",
       "         [0.15138789],\n",
       "         [0.49581084],\n",
       "         [0.49581084],\n",
       "         [0.08321684],\n",
       "         [0.08321684],\n",
       "         [0.15823784],\n",
       "         [0.15823784],\n",
       "         [0.43478736],\n",
       "         [0.43478736],\n",
       "         [0.86084806],\n",
       "         [0.86084806],\n",
       "         [0.37450197],\n",
       "         [0.37450197],\n",
       "         [0.86214082],\n",
       "         [0.86214082],\n",
       "         [0.20762907],\n",
       "         [0.20762907],\n",
       "         [0.6801254 ],\n",
       "         [0.6801254 ],\n",
       "         [0.08539078],\n",
       "         [0.08539078],\n",
       "         [0.54839491],\n",
       "         [0.54839491],\n",
       "         [0.2890723 ],\n",
       "         [0.2890723 ],\n",
       "         [0.01324659],\n",
       "         [0.01324659],\n",
       "         [0.68182919],\n",
       "         [0.68182919],\n",
       "         [0.35170526],\n",
       "         [0.35170526],\n",
       "         [0.1344084 ],\n",
       "         [0.1344084 ],\n",
       "         [0.73627629],\n",
       "         [0.73627629],\n",
       "         [0.1183955 ],\n",
       "         [0.1183955 ],\n",
       "         [0.50067874],\n",
       "         [0.50067874],\n",
       "         [0.36152204],\n",
       "         [0.36152204],\n",
       "         [0.92594469],\n",
       "         [0.92594469],\n",
       "         [0.8942054 ],\n",
       "         [0.8942054 ],\n",
       "         [0.60241295],\n",
       "         [0.60241295],\n",
       "         [0.21976762],\n",
       "         [0.21976762],\n",
       "         [0.51330935],\n",
       "         [0.51330935],\n",
       "         [0.84726321],\n",
       "         [0.84726321],\n",
       "         [0.05083387],\n",
       "         [0.05083387],\n",
       "         [0.21927862],\n",
       "         [0.21927862],\n",
       "         [0.24471267],\n",
       "         [0.24471267],\n",
       "         [0.5676955 ],\n",
       "         [0.5676955 ],\n",
       "         [0.35345972],\n",
       "         [0.35345972],\n",
       "         [0.85896814],\n",
       "         [0.85896814],\n",
       "         [0.82574621],\n",
       "         [0.82574621],\n",
       "         [0.25216081],\n",
       "         [0.25216081],\n",
       "         [0.07257639],\n",
       "         [0.07257639],\n",
       "         [0.61719438],\n",
       "         [0.61719438],\n",
       "         [0.92737845],\n",
       "         [0.92737845],\n",
       "         [0.76182448],\n",
       "         [0.76182448],\n",
       "         [0.28895806],\n",
       "         [0.28895806],\n",
       "         [0.11290864],\n",
       "         [0.11290864],\n",
       "         [0.84626056],\n",
       "         [0.84626056],\n",
       "         [0.75261886],\n",
       "         [0.75261886],\n",
       "         [0.67451397],\n",
       "         [0.67451397],\n",
       "         [0.96586305],\n",
       "         [0.96586305],\n",
       "         [0.79951474],\n",
       "         [0.79951474],\n",
       "         [0.55999327],\n",
       "         [0.55999327],\n",
       "         [0.14511464],\n",
       "         [0.14511464],\n",
       "         [0.634159  ],\n",
       "         [0.634159  ],\n",
       "         [0.62003762],\n",
       "         [0.62003762],\n",
       "         [0.56467369],\n",
       "         [0.56467369]])}}"
      ]
     },
     "execution_count": 1,
     "metadata": {},
     "output_type": "execute_result"
    }
   ],
   "source": [
    "ds = load_by_id(run_id_a)\n",
    "ds.get_parameter_data('x1')"
   ]
  },
  {
   "cell_type": "code",
   "execution_count": null,
   "metadata": {},
   "outputs": [],
   "source": []
  }
 ],
 "metadata": {
  "kernelspec": {
   "display_name": "Python 3",
   "language": "python",
   "name": "python3"
  },
  "language_info": {
   "codemirror_mode": {
    "name": "ipython",
    "version": 3
   },
   "file_extension": ".py",
   "mimetype": "text/x-python",
   "name": "python",
   "nbconvert_exporter": "python",
   "pygments_lexer": "ipython3",
   "version": "3.7.9"
  },
  "nbsphinx": {
   "timeout": 600
  },
  "toc": {
   "base_numbering": 1,
   "nav_menu": {},
   "number_sections": true,
   "sideBar": true,
   "skip_h1_title": false,
   "title_cell": "Table of Contents",
   "title_sidebar": "Contents",
   "toc_cell": false,
   "toc_position": {},
   "toc_section_display": true,
   "toc_window_display": false
  },
  "varInspector": {
   "cols": {
    "lenName": 16,
    "lenType": 16,
    "lenVar": 40
   },
   "kernels_config": {
    "python": {
     "delete_cmd_postfix": "",
     "delete_cmd_prefix": "del ",
     "library": "var_list.py",
     "varRefreshCmd": "print(var_dic_list())"
    },
    "r": {
     "delete_cmd_postfix": ") ",
     "delete_cmd_prefix": "rm(",
     "library": "var_list.r",
     "varRefreshCmd": "cat(var_dic_list()) "
    }
   },
   "types_to_exclude": [
    "module",
    "function",
    "builtin_function_or_method",
    "instance",
    "_Feature"
   ],
   "window_display": false
  }
 },
 "nbformat": 4,
 "nbformat_minor": 2
}
