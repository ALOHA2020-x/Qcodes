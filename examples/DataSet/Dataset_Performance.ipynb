{
 "cells": [
  {
   "cell_type": "markdown",
   "metadata": {},
   "source": [
    "# DataSet Performance\n",
    "\n",
    "This notebook shows the trade-off between inserting data into a database row-by-row and as binary blobs. Inserting the data row-by-row means that we have direct access to all the data and may perform queries directly on the values of the data. On the other hand, as we shall see, this is much slower than inserting the data directly as binary blobs."
   ]
  },
  {
   "cell_type": "markdown",
   "metadata": {},
   "source": [
    "First, we choose a new location for the database to ensure that we don't add a bunch of benchmarking data to the default one."
   ]
  },
  {
   "cell_type": "code",
   "execution_count": 1,
   "metadata": {},
   "outputs": [
    {
     "name": "stdout",
     "output_type": "stream",
     "text": [
      "Logging hadn't been started.\n",
      "Activating auto-logging. Current session state plus future input saved.\n",
      "Filename       : /home/vsts/.qcodes/logs/command_history.log\n",
      "Mode           : append\n",
      "Output logging : True\n",
      "Raw input log  : False\n",
      "Timestamping   : True\n",
      "State          : active\n"
     ]
    },
    {
     "name": "stdout",
     "output_type": "stream",
     "text": [
      "Qcodes Logfile : /home/vsts/.qcodes/logs/200821-18275-qcodes.log\n"
     ]
    }
   ],
   "source": [
    "import os\n",
    "cwd = os.getcwd()\n",
    "import qcodes as qc\n",
    "qc.config[\"core\"][\"db_location\"] = os.path.join(cwd, 'testing.db')\n"
   ]
  },
  {
   "cell_type": "code",
   "execution_count": 2,
   "metadata": {},
   "outputs": [],
   "source": [
    "%matplotlib inline\n",
    "import time\n",
    "import matplotlib.pyplot as plt\n",
    "import numpy as np\n",
    "\n",
    "import qcodes as qc\n",
    "from qcodes.instrument.parameter import ManualParameter\n",
    "from qcodes.dataset.experiment_container import (Experiment,\n",
    "                                                 load_last_experiment,\n",
    "                                                 new_experiment)\n",
    "from qcodes.dataset.sqlite.database import initialise_database\n",
    "from qcodes import load_or_create_experiment\n",
    "from qcodes.dataset.measurements import Measurement"
   ]
  },
  {
   "cell_type": "code",
   "execution_count": 3,
   "metadata": {},
   "outputs": [
    {
     "name": "stdout",
     "output_type": "stream",
     "text": [
      "\r",
      "0it [00:00, ?it/s]"
     ]
    },
    {
     "name": "stdout",
     "output_type": "stream",
     "text": [
      "\r",
      "Upgrading database; v0 -> v1: : 0it [00:00, ?it/s]"
     ]
    },
    {
     "name": "stdout",
     "output_type": "stream",
     "text": [
      "\r",
      "Upgrading database; v0 -> v1: : 0it [00:00, ?it/s]"
     ]
    },
    {
     "name": "stdout",
     "output_type": "stream",
     "text": [
      "\n",
      "\r",
      "  0%|          | 0/1 [00:00<?, ?it/s]"
     ]
    },
    {
     "name": "stdout",
     "output_type": "stream",
     "text": [
      "\r",
      "Upgrading database; v1 -> v2:   0%|          | 0/1 [00:00<?, ?it/s]"
     ]
    },
    {
     "name": "stdout",
     "output_type": "stream",
     "text": [
      "\r",
      "Upgrading database; v1 -> v2: 100%|██████████| 1/1 [00:00<00:00, 936.44it/s]"
     ]
    },
    {
     "name": "stdout",
     "output_type": "stream",
     "text": [
      "\n",
      "\r",
      "0it [00:00, ?it/s]"
     ]
    },
    {
     "name": "stdout",
     "output_type": "stream",
     "text": [
      "\r",
      "Upgrading database; v2 -> v3: : 0it [00:00, ?it/s]"
     ]
    },
    {
     "name": "stdout",
     "output_type": "stream",
     "text": [
      "\r",
      "Upgrading database; v2 -> v3: : 0it [00:00, ?it/s]"
     ]
    },
    {
     "name": "stdout",
     "output_type": "stream",
     "text": [
      "\n",
      "\r",
      "0it [00:00, ?it/s]"
     ]
    },
    {
     "name": "stdout",
     "output_type": "stream",
     "text": [
      "\r",
      "Upgrading database; v3 -> v4: : 0it [00:00, ?it/s]"
     ]
    },
    {
     "name": "stdout",
     "output_type": "stream",
     "text": [
      "\r",
      "Upgrading database; v3 -> v4: : 0it [00:00, ?it/s]"
     ]
    },
    {
     "name": "stdout",
     "output_type": "stream",
     "text": [
      "\n",
      "\r",
      "  0%|          | 0/1 [00:00<?, ?it/s]"
     ]
    },
    {
     "name": "stdout",
     "output_type": "stream",
     "text": [
      "\r",
      "Upgrading database; v4 -> v5:   0%|          | 0/1 [00:00<?, ?it/s]"
     ]
    },
    {
     "name": "stdout",
     "output_type": "stream",
     "text": [
      "\r",
      "Upgrading database; v4 -> v5: 100%|██████████| 1/1 [00:00<00:00, 739.74it/s]"
     ]
    },
    {
     "name": "stdout",
     "output_type": "stream",
     "text": [
      "\n",
      "\r",
      "0it [00:00, ?it/s]"
     ]
    },
    {
     "name": "stdout",
     "output_type": "stream",
     "text": [
      "\r",
      "Upgrading database; v5 -> v6: : 0it [00:00, ?it/s]"
     ]
    },
    {
     "name": "stdout",
     "output_type": "stream",
     "text": [
      "\r",
      "Upgrading database; v5 -> v6: : 0it [00:00, ?it/s]"
     ]
    },
    {
     "name": "stdout",
     "output_type": "stream",
     "text": [
      "\n",
      "\r",
      "  0%|          | 0/1 [00:00<?, ?it/s]"
     ]
    },
    {
     "name": "stdout",
     "output_type": "stream",
     "text": [
      "\r",
      "Upgrading database; v6 -> v7:   0%|          | 0/1 [00:00<?, ?it/s]"
     ]
    },
    {
     "name": "stdout",
     "output_type": "stream",
     "text": [
      "\r",
      "Upgrading database; v6 -> v7: 100%|██████████| 1/1 [00:00<00:00, 393.35it/s]"
     ]
    },
    {
     "name": "stdout",
     "output_type": "stream",
     "text": [
      "\n",
      "\r",
      "  0%|          | 0/1 [00:00<?, ?it/s]"
     ]
    },
    {
     "name": "stdout",
     "output_type": "stream",
     "text": [
      "\r",
      "Upgrading database; v7 -> v8:   0%|          | 0/1 [00:00<?, ?it/s]"
     ]
    },
    {
     "name": "stdout",
     "output_type": "stream",
     "text": [
      "\r",
      "Upgrading database; v7 -> v8: 100%|██████████| 1/1 [00:00<00:00, 752.48it/s]"
     ]
    },
    {
     "name": "stdout",
     "output_type": "stream",
     "text": [
      "\n",
      "\r",
      "  0%|          | 0/1 [00:00<?, ?it/s]"
     ]
    },
    {
     "name": "stdout",
     "output_type": "stream",
     "text": [
      "\r",
      "Upgrading database; v8 -> v9:   0%|          | 0/1 [00:00<?, ?it/s]"
     ]
    },
    {
     "name": "stdout",
     "output_type": "stream",
     "text": [
      "\r",
      "Upgrading database; v8 -> v9: 100%|██████████| 1/1 [00:00<00:00, 1007.52it/s]"
     ]
    },
    {
     "name": "stdout",
     "output_type": "stream",
     "text": [
      "\n"
     ]
    }
   ],
   "source": [
    "initialise_database()\n",
    "exp = load_or_create_experiment(experiment_name='tutorial_exp', sample_name=\"no sample\")"
   ]
  },
  {
   "cell_type": "markdown",
   "metadata": {},
   "source": [
    "Here, we define a simple function to benchmark the time it takes to insert n points with either numeric or array data type.\n",
    "We will compare both the time used to call ``add_result`` and the time used for the full measurement."
   ]
  },
  {
   "cell_type": "code",
   "execution_count": 4,
   "metadata": {},
   "outputs": [],
   "source": [
    "def insert_data(paramtype, npoints, nreps=1):\n",
    "\n",
    "    meas = Measurement(exp=exp)\n",
    "\n",
    "    x1 = ManualParameter('x1')\n",
    "    x2 = ManualParameter('x2')\n",
    "    x3 = ManualParameter('x3')\n",
    "    y1 = ManualParameter('y1')\n",
    "    y2 = ManualParameter('y2')\n",
    "\n",
    "    meas.register_parameter(x1, paramtype=paramtype)\n",
    "    meas.register_parameter(x2, paramtype=paramtype)\n",
    "    meas.register_parameter(x3, paramtype=paramtype)\n",
    "    meas.register_parameter(y1, setpoints=[x1, x2, x3],\n",
    "                            paramtype=paramtype)\n",
    "    meas.register_parameter(y2, setpoints=[x1, x2, x3],\n",
    "                            paramtype=paramtype)\n",
    "    start = time.perf_counter()\n",
    "    with meas.run() as datasaver:\n",
    "        start_adding = time.perf_counter()\n",
    "        for i in range(nreps):\n",
    "            datasaver.add_result((x1, np.random.rand(npoints)),\n",
    "                                 (x2, np.random.rand(npoints)),\n",
    "                                 (x3, np.random.rand(npoints)),\n",
    "                                 (y1, np.random.rand(npoints)),\n",
    "                                 (y2, np.random.rand(npoints)))\n",
    "        stop_adding = time.perf_counter()\n",
    "        run_id = datasaver.run_id\n",
    "    stop = time.perf_counter()\n",
    "    tot_time = stop - start\n",
    "    add_time = stop_adding - start_adding\n",
    "    return tot_time, add_time, run_id"
   ]
  },
  {
   "cell_type": "markdown",
   "metadata": {},
   "source": [
    "## Comparison between numeric/array data and binary blob"
   ]
  },
  {
   "cell_type": "markdown",
   "metadata": {},
   "source": [
    "### Case1: Short experiment time"
   ]
  },
  {
   "cell_type": "code",
   "execution_count": 5,
   "metadata": {},
   "outputs": [
    {
     "name": "stdout",
     "output_type": "stream",
     "text": [
      "Starting experimental run with id: 1. \n",
      "Starting experimental run with id: 2. \n",
      "Starting experimental run with id: 3. \n"
     ]
    },
    {
     "name": "stdout",
     "output_type": "stream",
     "text": [
      "Starting experimental run with id: 4. "
     ]
    },
    {
     "name": "stdout",
     "output_type": "stream",
     "text": [
      "\n"
     ]
    },
    {
     "name": "stdout",
     "output_type": "stream",
     "text": [
      "Starting experimental run with id: 5. \n"
     ]
    },
    {
     "name": "stdout",
     "output_type": "stream",
     "text": [
      "Starting experimental run with id: 6. \n",
      "Starting experimental run with id: 7. \n"
     ]
    },
    {
     "name": "stdout",
     "output_type": "stream",
     "text": [
      "Starting experimental run with id: 8. \n",
      "Starting experimental run with id: 9. \n"
     ]
    },
    {
     "name": "stdout",
     "output_type": "stream",
     "text": [
      "Starting experimental run with id: 10. \n",
      "Starting experimental run with id: 11. \n"
     ]
    },
    {
     "name": "stdout",
     "output_type": "stream",
     "text": [
      "Starting experimental run with id: 12. \n",
      "Starting experimental run with id: 13. \n"
     ]
    },
    {
     "name": "stdout",
     "output_type": "stream",
     "text": [
      "Starting experimental run with id: 14. \n"
     ]
    }
   ],
   "source": [
    "sizes = [1,500,1000,2000,3000,4000,5000]\n",
    "t_numeric = []\n",
    "t_numeric_add = []\n",
    "t_array = []\n",
    "t_array_add = []\n",
    "for size in sizes:\n",
    "    tn, tna, run_id_n =  insert_data('numeric', size)\n",
    "    t_numeric.append(tn)\n",
    "    t_numeric_add.append(tna)\n",
    "\n",
    "    ta, taa, run_id_a =  insert_data('array', size)\n",
    "    t_array.append(ta)\n",
    "    t_array_add.append(taa)"
   ]
  },
  {
   "cell_type": "code",
   "execution_count": 6,
   "metadata": {},
   "outputs": [
    {
     "data": {
      "image/png": "[encoded data removed]",
      "text/plain": [
       "<Figure size 432x288 with 1 Axes>"
      ]
     },
     "metadata": {
      "needs_background": "light"
     },
     "output_type": "display_data"
    }
   ],
   "source": [
    "fig, ax = plt.subplots(1,1)\n",
    "ax.plot(sizes, t_numeric, 'o-', label='Inserting row-by-row')\n",
    "ax.plot(sizes, t_numeric_add, 'o-', label='Inserting row-by-row: add_result only')\n",
    "ax.plot(sizes, t_array, 'd-', label='Inserting as binary blob')\n",
    "ax.plot(sizes, t_array_add, 'd-', label='Inserting as binary blob: add_result only')\n",
    "ax.legend()\n",
    "ax.set_xlabel('Array length')\n",
    "ax.set_ylabel('Time (s)')\n",
    "fig.tight_layout()"
   ]
  },
  {
   "cell_type": "markdown",
   "metadata": {},
   "source": [
    "As shown in the latter figure, the time to setup and and close the experiment is approximately 0.4 sec. In case of small array sizes, the difference between inserting values of data as arrays and inserting them row-by-row is relatively unimportant. At larger array sizes, i.e. above 10000 points, the cost of writing data as individual datapoints starts to become important.\n"
   ]
  },
  {
   "cell_type": "markdown",
   "metadata": {},
   "source": [
    "### Case2: Long experiment time "
   ]
  },
  {
   "cell_type": "code",
   "execution_count": 7,
   "metadata": {},
   "outputs": [
    {
     "name": "stdout",
     "output_type": "stream",
     "text": [
      "Starting experimental run with id: 15. \n",
      "Starting experimental run with id: 16. \n",
      "Starting experimental run with id: 17. \n"
     ]
    },
    {
     "name": "stdout",
     "output_type": "stream",
     "text": [
      "Starting experimental run with id: 18. \n",
      "Starting experimental run with id: 19. \n"
     ]
    },
    {
     "name": "stdout",
     "output_type": "stream",
     "text": [
      "Starting experimental run with id: 20. \n"
     ]
    },
    {
     "name": "stdout",
     "output_type": "stream",
     "text": [
      "Starting experimental run with id: 21. \n"
     ]
    },
    {
     "name": "stdout",
     "output_type": "stream",
     "text": [
      "Starting experimental run with id: 22. \n"
     ]
    },
    {
     "name": "stdout",
     "output_type": "stream",
     "text": [
      "Starting experimental run with id: 23. \n"
     ]
    },
    {
     "name": "stdout",
     "output_type": "stream",
     "text": [
      "Starting experimental run with id: 24. \n"
     ]
    },
    {
     "name": "stdout",
     "output_type": "stream",
     "text": [
      "Starting experimental run with id: 25. \n"
     ]
    },
    {
     "name": "stdout",
     "output_type": "stream",
     "text": [
      "Starting experimental run with id: 26. \n"
     ]
    },
    {
     "name": "stdout",
     "output_type": "stream",
     "text": [
      "Starting experimental run with id: 27. \n"
     ]
    },
    {
     "name": "stdout",
     "output_type": "stream",
     "text": [
      "Starting experimental run with id: 28. \n"
     ]
    }
   ],
   "source": [
    "sizes = [1,500,1000,2000,3000,4000,5000]\n",
    "nreps = 100\n",
    "t_numeric = []\n",
    "t_numeric_add = []\n",
    "t_numeric_run_ids = []\n",
    "t_array = []\n",
    "t_array_add = []\n",
    "t_array_run_ids = []\n",
    "for size in sizes:\n",
    "    tn, tna, run_id_n =  insert_data('numeric', size, nreps=nreps)\n",
    "    t_numeric.append(tn)\n",
    "    t_numeric_add.append(tna)\n",
    "    t_numeric_run_ids.append(run_id_n)\n",
    "\n",
    "    ta, taa, run_id_a =  insert_data('array', size, nreps=nreps)\n",
    "    t_array.append(ta)\n",
    "    t_array_add.append(taa)\n",
    "    t_array_run_ids.append(run_id_a)"
   ]
  },
  {
   "cell_type": "code",
   "execution_count": 8,
   "metadata": {
    "scrolled": true
   },
   "outputs": [
    {
     "data": {
      "image/png": "[encoded data removed]",
      "text/plain": [
       "<Figure size 432x288 with 1 Axes>"
      ]
     },
     "metadata": {
      "needs_background": "light"
     },
     "output_type": "display_data"
    }
   ],
   "source": [
    "fig, ax = plt.subplots(1,1)\n",
    "ax.plot(sizes, t_numeric, 'o-', label='Inserting row-by-row')\n",
    "ax.plot(sizes, t_numeric_add, 'o-', label='Inserting row-by-row: add_result only')\n",
    "ax.plot(sizes, t_array, 'd-', label='Inserting as binary blob')\n",
    "ax.plot(sizes, t_array_add, 'd-', label='Inserting as binary blob: add_result only')\n",
    "ax.legend()\n",
    "ax.set_xlabel('Array length')\n",
    "ax.set_ylabel('Time (s)')\n",
    "fig.tight_layout()"
   ]
  },
  {
   "cell_type": "markdown",
   "metadata": {},
   "source": [
    "However, as we increase the length of the experiment, as seen here by repeating the insertion 100 times, we see a big difference between inserting values of the data row-by-row and inserting it as a binary blob."
   ]
  },
  {
   "cell_type": "markdown",
   "metadata": {},
   "source": [
    "## Loading the data "
   ]
  },
  {
   "cell_type": "code",
   "execution_count": 9,
   "metadata": {},
   "outputs": [],
   "source": [
    "from qcodes.dataset.data_set import load_by_id\n",
    "from qcodes.dataset.data_export import get_data_by_id"
   ]
  },
  {
   "cell_type": "markdown",
   "metadata": {},
   "source": [
    "As usual you can load the data by using the ``load_by_id`` function but you will notice that the different storage methods\n",
    "are reflected in shape of the data as it is retrieved. "
   ]
  },
  {
   "cell_type": "code",
   "execution_count": 10,
   "metadata": {},
   "outputs": [],
   "source": [
    "run_id_n = t_numeric_run_ids[0]\n",
    "run_id_a = t_array_run_ids[0]"
   ]
  },
  {
   "cell_type": "code",
   "execution_count": 11,
   "metadata": {
    "scrolled": true
   },
   "outputs": [
    {
     "data": {
      "text/plain": [
       "{'x1': {'x1': array([0.51609608, 0.51609608, 0.71966817, 0.71966817, 0.01466642,\n",
       "         0.01466642, 0.98907634, 0.98907634, 0.75936112, 0.75936112,\n",
       "         0.80087669, 0.80087669, 0.67013471, 0.67013471, 0.06085002,\n",
       "         0.06085002, 0.96963847, 0.96963847, 0.80289077, 0.80289077,\n",
       "         0.18196772, 0.18196772, 0.33870267, 0.33870267, 0.40884175,\n",
       "         0.40884175, 0.06540198, 0.06540198, 0.80491664, 0.80491664,\n",
       "         0.44577282, 0.44577282, 0.34914562, 0.34914562, 0.96779436,\n",
       "         0.96779436, 0.54437646, 0.54437646, 0.71614107, 0.71614107,\n",
       "         0.73472719, 0.73472719, 0.15713074, 0.15713074, 0.43655652,\n",
       "         0.43655652, 0.36322446, 0.36322446, 0.96823691, 0.96823691,\n",
       "         0.11314078, 0.11314078, 0.71948696, 0.71948696, 0.61384374,\n",
       "         0.61384374, 0.50415756, 0.50415756, 0.4932965 , 0.4932965 ,\n",
       "         0.18440129, 0.18440129, 0.54133858, 0.54133858, 0.15075918,\n",
       "         0.15075918, 0.7974704 , 0.7974704 , 0.01640269, 0.01640269,\n",
       "         0.81856819, 0.81856819, 0.7717852 , 0.7717852 , 0.47421082,\n",
       "         0.47421082, 0.38189876, 0.38189876, 0.01066993, 0.01066993,\n",
       "         0.79328685, 0.79328685, 0.43415581, 0.43415581, 0.76216506,\n",
       "         0.76216506, 0.08912707, 0.08912707, 0.81227415, 0.81227415,\n",
       "         0.42123444, 0.42123444, 0.11127606, 0.11127606, 0.33667352,\n",
       "         0.33667352, 0.91869419, 0.91869419, 0.25551582, 0.25551582,\n",
       "         0.72470453, 0.72470453, 0.81930986, 0.81930986, 0.27113825,\n",
       "         0.27113825, 0.35539796, 0.35539796, 0.55820547, 0.55820547,\n",
       "         0.15196406, 0.15196406, 0.73258303, 0.73258303, 0.61684103,\n",
       "         0.61684103, 0.74040152, 0.74040152, 0.08514108, 0.08514108,\n",
       "         0.3736861 , 0.3736861 , 0.58668156, 0.58668156, 0.98848914,\n",
       "         0.98848914, 0.23540897, 0.23540897, 0.43728134, 0.43728134,\n",
       "         0.12904227, 0.12904227, 0.95016116, 0.95016116, 0.41610126,\n",
       "         0.41610126, 0.99279649, 0.99279649, 0.76388933, 0.76388933,\n",
       "         0.23950995, 0.23950995, 0.67517696, 0.67517696, 0.54997173,\n",
       "         0.54997173, 0.12574156, 0.12574156, 0.71613803, 0.71613803,\n",
       "         0.6218833 , 0.6218833 , 0.81510786, 0.81510786, 0.01800253,\n",
       "         0.01800253, 0.64479626, 0.64479626, 0.55534264, 0.55534264,\n",
       "         0.75826903, 0.75826903, 0.74072032, 0.74072032, 0.01842924,\n",
       "         0.01842924, 0.50307793, 0.50307793, 0.73137625, 0.73137625,\n",
       "         0.24953854, 0.24953854, 0.55972455, 0.55972455, 0.80084157,\n",
       "         0.80084157, 0.38525207, 0.38525207, 0.59590367, 0.59590367,\n",
       "         0.94837498, 0.94837498, 0.34638045, 0.34638045, 0.31712867,\n",
       "         0.31712867, 0.83254988, 0.83254988, 0.33231806, 0.33231806,\n",
       "         0.43549904, 0.43549904, 0.43857138, 0.43857138, 0.48617599,\n",
       "         0.48617599, 0.26794893, 0.26794893, 0.47947688, 0.47947688])}}"
      ]
     },
     "execution_count": 11,
     "metadata": {},
     "output_type": "execute_result"
    }
   ],
   "source": [
    "ds = load_by_id(run_id_n)\n",
    "ds.get_parameter_data('x1')"
   ]
  },
  {
   "cell_type": "markdown",
   "metadata": {},
   "source": [
    "And a dataset stored as binary arrays"
   ]
  },
  {
   "cell_type": "code",
   "execution_count": 12,
   "metadata": {
    "scrolled": true
   },
   "outputs": [
    {
     "data": {
      "text/plain": [
       "{'x1': {'x1': array([[0.30246488],\n",
       "         [0.30246488],\n",
       "         [0.20403642],\n",
       "         [0.20403642],\n",
       "         [0.22330248],\n",
       "         [0.22330248],\n",
       "         [0.20604844],\n",
       "         [0.20604844],\n",
       "         [0.22009176],\n",
       "         [0.22009176],\n",
       "         [0.28680887],\n",
       "         [0.28680887],\n",
       "         [0.20951679],\n",
       "         [0.20951679],\n",
       "         [0.12052401],\n",
       "         [0.12052401],\n",
       "         [0.74047463],\n",
       "         [0.74047463],\n",
       "         [0.44337675],\n",
       "         [0.44337675],\n",
       "         [0.95105475],\n",
       "         [0.95105475],\n",
       "         [0.63798832],\n",
       "         [0.63798832],\n",
       "         [0.397015  ],\n",
       "         [0.397015  ],\n",
       "         [0.06307332],\n",
       "         [0.06307332],\n",
       "         [0.60531881],\n",
       "         [0.60531881],\n",
       "         [0.50878383],\n",
       "         [0.50878383],\n",
       "         [0.11600352],\n",
       "         [0.11600352],\n",
       "         [0.37667901],\n",
       "         [0.37667901],\n",
       "         [0.92545717],\n",
       "         [0.92545717],\n",
       "         [0.77923168],\n",
       "         [0.77923168],\n",
       "         [0.31852973],\n",
       "         [0.31852973],\n",
       "         [0.65122827],\n",
       "         [0.65122827],\n",
       "         [0.27379665],\n",
       "         [0.27379665],\n",
       "         [0.77122883],\n",
       "         [0.77122883],\n",
       "         [0.15639739],\n",
       "         [0.15639739],\n",
       "         [0.15397567],\n",
       "         [0.15397567],\n",
       "         [0.61327737],\n",
       "         [0.61327737],\n",
       "         [0.94609952],\n",
       "         [0.94609952],\n",
       "         [0.40333058],\n",
       "         [0.40333058],\n",
       "         [0.99856574],\n",
       "         [0.99856574],\n",
       "         [0.89584371],\n",
       "         [0.89584371],\n",
       "         [0.49531761],\n",
       "         [0.49531761],\n",
       "         [0.51631603],\n",
       "         [0.51631603],\n",
       "         [0.41149358],\n",
       "         [0.41149358],\n",
       "         [0.65696864],\n",
       "         [0.65696864],\n",
       "         [0.23964715],\n",
       "         [0.23964715],\n",
       "         [0.81723279],\n",
       "         [0.81723279],\n",
       "         [0.30888756],\n",
       "         [0.30888756],\n",
       "         [0.22190772],\n",
       "         [0.22190772],\n",
       "         [0.52836763],\n",
       "         [0.52836763],\n",
       "         [0.57615899],\n",
       "         [0.57615899],\n",
       "         [0.29518445],\n",
       "         [0.29518445],\n",
       "         [0.23330273],\n",
       "         [0.23330273],\n",
       "         [0.74822213],\n",
       "         [0.74822213],\n",
       "         [0.75246041],\n",
       "         [0.75246041],\n",
       "         [0.05816821],\n",
       "         [0.05816821],\n",
       "         [0.11325512],\n",
       "         [0.11325512],\n",
       "         [0.49501739],\n",
       "         [0.49501739],\n",
       "         [0.51567987],\n",
       "         [0.51567987],\n",
       "         [0.44958067],\n",
       "         [0.44958067],\n",
       "         [0.07677678],\n",
       "         [0.07677678],\n",
       "         [0.65488746],\n",
       "         [0.65488746],\n",
       "         [0.89533421],\n",
       "         [0.89533421],\n",
       "         [0.57687625],\n",
       "         [0.57687625],\n",
       "         [0.5593466 ],\n",
       "         [0.5593466 ],\n",
       "         [0.4642299 ],\n",
       "         [0.4642299 ],\n",
       "         [0.50194666],\n",
       "         [0.50194666],\n",
       "         [0.09439682],\n",
       "         [0.09439682],\n",
       "         [0.23272535],\n",
       "         [0.23272535],\n",
       "         [0.66761011],\n",
       "         [0.66761011],\n",
       "         [0.8870978 ],\n",
       "         [0.8870978 ],\n",
       "         [0.81122581],\n",
       "         [0.81122581],\n",
       "         [0.08852581],\n",
       "         [0.08852581],\n",
       "         [0.8090419 ],\n",
       "         [0.8090419 ],\n",
       "         [0.7696728 ],\n",
       "         [0.7696728 ],\n",
       "         [0.84540718],\n",
       "         [0.84540718],\n",
       "         [0.60500225],\n",
       "         [0.60500225],\n",
       "         [0.28936455],\n",
       "         [0.28936455],\n",
       "         [0.32923237],\n",
       "         [0.32923237],\n",
       "         [0.1332376 ],\n",
       "         [0.1332376 ],\n",
       "         [0.53117282],\n",
       "         [0.53117282],\n",
       "         [0.47605358],\n",
       "         [0.47605358],\n",
       "         [0.34115215],\n",
       "         [0.34115215],\n",
       "         [0.36420212],\n",
       "         [0.36420212],\n",
       "         [0.63629948],\n",
       "         [0.63629948],\n",
       "         [0.23660045],\n",
       "         [0.23660045],\n",
       "         [0.83879176],\n",
       "         [0.83879176],\n",
       "         [0.54421861],\n",
       "         [0.54421861],\n",
       "         [0.46778355],\n",
       "         [0.46778355],\n",
       "         [0.82310787],\n",
       "         [0.82310787],\n",
       "         [0.11506744],\n",
       "         [0.11506744],\n",
       "         [0.15659722],\n",
       "         [0.15659722],\n",
       "         [0.30936679],\n",
       "         [0.30936679],\n",
       "         [0.90117768],\n",
       "         [0.90117768],\n",
       "         [0.79285599],\n",
       "         [0.79285599],\n",
       "         [0.65936079],\n",
       "         [0.65936079],\n",
       "         [0.02043162],\n",
       "         [0.02043162],\n",
       "         [0.37298412],\n",
       "         [0.37298412],\n",
       "         [0.85803285],\n",
       "         [0.85803285],\n",
       "         [0.94184875],\n",
       "         [0.94184875],\n",
       "         [0.17171901],\n",
       "         [0.17171901],\n",
       "         [0.08689844],\n",
       "         [0.08689844],\n",
       "         [0.17059007],\n",
       "         [0.17059007],\n",
       "         [0.34029298],\n",
       "         [0.34029298],\n",
       "         [0.96704818],\n",
       "         [0.96704818],\n",
       "         [0.99047192],\n",
       "         [0.99047192],\n",
       "         [0.45399319],\n",
       "         [0.45399319],\n",
       "         [0.77044583],\n",
       "         [0.77044583],\n",
       "         [0.70782626],\n",
       "         [0.70782626],\n",
       "         [0.88533816],\n",
       "         [0.88533816]])}}"
      ]
     },
     "execution_count": 12,
     "metadata": {},
     "output_type": "execute_result"
    }
   ],
   "source": [
    "ds = load_by_id(run_id_a)\n",
    "ds.get_parameter_data('x1')"
   ]
  },
  {
   "cell_type": "code",
   "execution_count": null,
   "metadata": {},
   "outputs": [],
   "source": []
  }
 ],
 "metadata": {
  "kernelspec": {
   "display_name": "Python 3",
   "language": "python",
   "name": "python3"
  },
  "language_info": {
   "codemirror_mode": {
    "name": "ipython",
    "version": 3
   },
   "file_extension": ".py",
   "mimetype": "text/x-python",
   "name": "python",
   "nbconvert_exporter": "python",
   "pygments_lexer": "ipython3",
   "version": "3.7.7"
  },
  "nbsphinx": {
   "timeout": 600
  },
  "toc": {
   "base_numbering": 1,
   "nav_menu": {},
   "number_sections": true,
   "sideBar": true,
   "skip_h1_title": false,
   "title_cell": "Table of Contents",
   "title_sidebar": "Contents",
   "toc_cell": false,
   "toc_position": {},
   "toc_section_display": true,
   "toc_window_display": false
  },
  "varInspector": {
   "cols": {
    "lenName": 16,
    "lenType": 16,
    "lenVar": 40
   },
   "kernels_config": {
    "python": {
     "delete_cmd_postfix": "",
     "delete_cmd_prefix": "del ",
     "library": "var_list.py",
     "varRefreshCmd": "print(var_dic_list())"
    },
    "r": {
     "delete_cmd_postfix": ") ",
     "delete_cmd_prefix": "rm(",
     "library": "var_list.r",
     "varRefreshCmd": "cat(var_dic_list()) "
    }
   },
   "types_to_exclude": [
    "module",
    "function",
    "builtin_function_or_method",
    "instance",
    "_Feature"
   ],
   "window_display": false
  }
 },
 "nbformat": 4,
 "nbformat_minor": 2
}
