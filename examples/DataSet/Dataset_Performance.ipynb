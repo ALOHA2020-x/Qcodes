{
 "cells": [
  {
   "cell_type": "markdown",
   "metadata": {},
   "source": [
    "# DataSet Performance\n",
    "\n",
    "This notebook shows the trade-off between inserting data into a database row-by-row and as binary blobs. Inserting the data row-by-row means that we have direct access to all the data and may perform queries directly on the values of the data. On the other hand, as we shall see, this is much slower than inserting the data directly as binary blobs."
   ]
  },
  {
   "cell_type": "markdown",
   "metadata": {},
   "source": [
    "First, we choose a new location for the database to ensure that we don't add a bunch of benchmarking data to the default one."
   ]
  },
  {
   "cell_type": "code",
   "execution_count": 1,
   "metadata": {
    "execution": {
     "iopub.execute_input": "2020-09-30T06:53:15.020053Z",
     "iopub.status.busy": "2020-09-30T06:53:15.019554Z",
     "iopub.status.idle": "2020-09-30T06:53:16.040018Z",
     "shell.execute_reply": "2020-09-30T06:53:16.039463Z"
    }
   },
   "outputs": [
    {
     "name": "stdout",
     "output_type": "stream",
     "text": [
      "Logging hadn't been started.\n",
      "Activating auto-logging. Current session state plus future input saved.\n",
      "Filename       : /home/vsts/.qcodes/logs/command_history.log\n",
      "Mode           : append\n",
      "Output logging : True\n",
      "Raw input log  : False\n",
      "Timestamping   : True\n",
      "State          : active\n"
     ]
    },
    {
     "name": "stdout",
     "output_type": "stream",
     "text": [
      "Qcodes Logfile : /home/vsts/.qcodes/logs/200930-19098-qcodes.log\n"
     ]
    }
   ],
   "source": [
    "import os\n",
    "cwd = os.getcwd()\n",
    "import qcodes as qc\n",
    "qc.config[\"core\"][\"db_location\"] = os.path.join(cwd, 'testing.db')\n"
   ]
  },
  {
   "cell_type": "code",
   "execution_count": 2,
   "metadata": {
    "execution": {
     "iopub.execute_input": "2020-09-30T06:53:16.047801Z",
     "iopub.status.busy": "2020-09-30T06:53:16.047162Z",
     "iopub.status.idle": "2020-09-30T06:53:16.257795Z",
     "shell.execute_reply": "2020-09-30T06:53:16.258304Z"
    }
   },
   "outputs": [],
   "source": [
    "%matplotlib inline\n",
    "import time\n",
    "import matplotlib.pyplot as plt\n",
    "import numpy as np\n",
    "\n",
    "import qcodes as qc\n",
    "from qcodes.instrument.parameter import ManualParameter\n",
    "from qcodes.dataset.experiment_container import (Experiment,\n",
    "                                                 load_last_experiment,\n",
    "                                                 new_experiment)\n",
    "from qcodes.dataset.sqlite.database import initialise_database\n",
    "from qcodes import load_or_create_experiment\n",
    "from qcodes.dataset.measurements import Measurement"
   ]
  },
  {
   "cell_type": "code",
   "execution_count": 3,
   "metadata": {
    "execution": {
     "iopub.execute_input": "2020-09-30T06:53:16.262704Z",
     "iopub.status.busy": "2020-09-30T06:53:16.261888Z",
     "iopub.status.idle": "2020-09-30T06:53:16.377229Z",
     "shell.execute_reply": "2020-09-30T06:53:16.376674Z"
    }
   },
   "outputs": [
    {
     "name": "stdout",
     "output_type": "stream",
     "text": [
      "\r",
      "0it [00:00, ?it/s]"
     ]
    },
    {
     "name": "stdout",
     "output_type": "stream",
     "text": [
      "\r",
      "Upgrading database; v0 -> v1: : 0it [00:00, ?it/s]"
     ]
    },
    {
     "name": "stdout",
     "output_type": "stream",
     "text": [
      "\r",
      "Upgrading database; v0 -> v1: : 0it [00:00, ?it/s]"
     ]
    },
    {
     "name": "stdout",
     "output_type": "stream",
     "text": [
      "\n",
      "\r",
      "  0%|          | 0/1 [00:00<?, ?it/s]"
     ]
    },
    {
     "name": "stdout",
     "output_type": "stream",
     "text": [
      "\r",
      "Upgrading database; v1 -> v2:   0%|          | 0/1 [00:00<?, ?it/s]"
     ]
    },
    {
     "name": "stdout",
     "output_type": "stream",
     "text": [
      "\r",
      "Upgrading database; v1 -> v2: 100%|██████████| 1/1 [00:00<00:00, 528.72it/s]"
     ]
    },
    {
     "name": "stdout",
     "output_type": "stream",
     "text": [
      "\n",
      "\r",
      "0it [00:00, ?it/s]"
     ]
    },
    {
     "name": "stdout",
     "output_type": "stream",
     "text": [
      "\r",
      "Upgrading database; v2 -> v3: : 0it [00:00, ?it/s]"
     ]
    },
    {
     "name": "stdout",
     "output_type": "stream",
     "text": [
      "\r",
      "Upgrading database; v2 -> v3: : 0it [00:00, ?it/s]"
     ]
    },
    {
     "name": "stdout",
     "output_type": "stream",
     "text": [
      "\n",
      "\r",
      "0it [00:00, ?it/s]"
     ]
    },
    {
     "name": "stdout",
     "output_type": "stream",
     "text": [
      "\r",
      "Upgrading database; v3 -> v4: : 0it [00:00, ?it/s]"
     ]
    },
    {
     "name": "stdout",
     "output_type": "stream",
     "text": [
      "\r",
      "Upgrading database; v3 -> v4: : 0it [00:00, ?it/s]"
     ]
    },
    {
     "name": "stdout",
     "output_type": "stream",
     "text": [
      "\n",
      "\r",
      "  0%|          | 0/1 [00:00<?, ?it/s]"
     ]
    },
    {
     "name": "stdout",
     "output_type": "stream",
     "text": [
      "\r",
      "Upgrading database; v4 -> v5:   0%|          | 0/1 [00:00<?, ?it/s]"
     ]
    },
    {
     "name": "stdout",
     "output_type": "stream",
     "text": [
      "\r",
      "Upgrading database; v4 -> v5: 100%|██████████| 1/1 [00:00<00:00, 434.19it/s]"
     ]
    },
    {
     "name": "stdout",
     "output_type": "stream",
     "text": [
      "\n",
      "\r",
      "0it [00:00, ?it/s]"
     ]
    },
    {
     "name": "stdout",
     "output_type": "stream",
     "text": [
      "\r",
      "Upgrading database; v5 -> v6: : 0it [00:00, ?it/s]"
     ]
    },
    {
     "name": "stdout",
     "output_type": "stream",
     "text": [
      "\r",
      "Upgrading database; v5 -> v6: : 0it [00:00, ?it/s]"
     ]
    },
    {
     "name": "stdout",
     "output_type": "stream",
     "text": [
      "\n",
      "\r",
      "  0%|          | 0/1 [00:00<?, ?it/s]"
     ]
    },
    {
     "name": "stdout",
     "output_type": "stream",
     "text": [
      "\r",
      "Upgrading database; v6 -> v7:   0%|          | 0/1 [00:00<?, ?it/s]"
     ]
    },
    {
     "name": "stdout",
     "output_type": "stream",
     "text": [
      "\r",
      "Upgrading database; v6 -> v7: 100%|██████████| 1/1 [00:00<00:00, 328.42it/s]"
     ]
    },
    {
     "name": "stdout",
     "output_type": "stream",
     "text": [
      "\n",
      "\r",
      "  0%|          | 0/1 [00:00<?, ?it/s]"
     ]
    },
    {
     "name": "stdout",
     "output_type": "stream",
     "text": [
      "\r",
      "Upgrading database; v7 -> v8:   0%|          | 0/1 [00:00<?, ?it/s]"
     ]
    },
    {
     "name": "stdout",
     "output_type": "stream",
     "text": [
      "\r",
      "Upgrading database; v7 -> v8: 100%|██████████| 1/1 [00:00<00:00, 473.50it/s]"
     ]
    },
    {
     "name": "stdout",
     "output_type": "stream",
     "text": [
      "\n",
      "\r",
      "  0%|          | 0/1 [00:00<?, ?it/s]"
     ]
    },
    {
     "name": "stdout",
     "output_type": "stream",
     "text": [
      "\r",
      "Upgrading database; v8 -> v9:   0%|          | 0/1 [00:00<?, ?it/s]"
     ]
    },
    {
     "name": "stdout",
     "output_type": "stream",
     "text": [
      "\r",
      "Upgrading database; v8 -> v9: 100%|██████████| 1/1 [00:00<00:00, 980.66it/s]"
     ]
    },
    {
     "name": "stdout",
     "output_type": "stream",
     "text": [
      "\n"
     ]
    }
   ],
   "source": [
    "initialise_database()\n",
    "exp = load_or_create_experiment(experiment_name='tutorial_exp', sample_name=\"no sample\")"
   ]
  },
  {
   "cell_type": "markdown",
   "metadata": {},
   "source": [
    "Here, we define a simple function to benchmark the time it takes to insert n points with either numeric or array data type.\n",
    "We will compare both the time used to call ``add_result`` and the time used for the full measurement."
   ]
  },
  {
   "cell_type": "code",
   "execution_count": 4,
   "metadata": {
    "execution": {
     "iopub.execute_input": "2020-09-30T06:53:16.386517Z",
     "iopub.status.busy": "2020-09-30T06:53:16.385365Z",
     "iopub.status.idle": "2020-09-30T06:53:16.387141Z",
     "shell.execute_reply": "2020-09-30T06:53:16.387732Z"
    }
   },
   "outputs": [],
   "source": [
    "def insert_data(paramtype, npoints, nreps=1):\n",
    "\n",
    "    meas = Measurement(exp=exp)\n",
    "\n",
    "    x1 = ManualParameter('x1')\n",
    "    x2 = ManualParameter('x2')\n",
    "    x3 = ManualParameter('x3')\n",
    "    y1 = ManualParameter('y1')\n",
    "    y2 = ManualParameter('y2')\n",
    "\n",
    "    meas.register_parameter(x1, paramtype=paramtype)\n",
    "    meas.register_parameter(x2, paramtype=paramtype)\n",
    "    meas.register_parameter(x3, paramtype=paramtype)\n",
    "    meas.register_parameter(y1, setpoints=[x1, x2, x3],\n",
    "                            paramtype=paramtype)\n",
    "    meas.register_parameter(y2, setpoints=[x1, x2, x3],\n",
    "                            paramtype=paramtype)\n",
    "    start = time.perf_counter()\n",
    "    with meas.run() as datasaver:\n",
    "        start_adding = time.perf_counter()\n",
    "        for i in range(nreps):\n",
    "            datasaver.add_result((x1, np.random.rand(npoints)),\n",
    "                                 (x2, np.random.rand(npoints)),\n",
    "                                 (x3, np.random.rand(npoints)),\n",
    "                                 (y1, np.random.rand(npoints)),\n",
    "                                 (y2, np.random.rand(npoints)))\n",
    "        stop_adding = time.perf_counter()\n",
    "        run_id = datasaver.run_id\n",
    "    stop = time.perf_counter()\n",
    "    tot_time = stop - start\n",
    "    add_time = stop_adding - start_adding\n",
    "    return tot_time, add_time, run_id"
   ]
  },
  {
   "cell_type": "markdown",
   "metadata": {},
   "source": [
    "## Comparison between numeric/array data and binary blob"
   ]
  },
  {
   "cell_type": "markdown",
   "metadata": {},
   "source": [
    "### Case1: Short experiment time"
   ]
  },
  {
   "cell_type": "code",
   "execution_count": 5,
   "metadata": {
    "execution": {
     "iopub.execute_input": "2020-09-30T06:53:16.393075Z",
     "iopub.status.busy": "2020-09-30T06:53:16.392273Z",
     "iopub.status.idle": "2020-09-30T06:53:17.199949Z",
     "shell.execute_reply": "2020-09-30T06:53:17.199502Z"
    }
   },
   "outputs": [
    {
     "name": "stdout",
     "output_type": "stream",
     "text": [
      "Starting experimental run with id: 1. \n",
      "Starting experimental run with id: 2. \n",
      "Starting experimental run with id: 3. \n",
      "Starting experimental run with id: 4. \n",
      "Starting experimental run with id: 5. \n"
     ]
    },
    {
     "name": "stdout",
     "output_type": "stream",
     "text": [
      "Starting experimental run with id: 6. \n"
     ]
    },
    {
     "name": "stdout",
     "output_type": "stream",
     "text": [
      "Starting experimental run with id: 7. \n"
     ]
    },
    {
     "name": "stdout",
     "output_type": "stream",
     "text": [
      "Starting experimental run with id: 8. \n",
      "Starting experimental run with id: 9. \n"
     ]
    },
    {
     "name": "stdout",
     "output_type": "stream",
     "text": [
      "Starting experimental run with id: 10. \n",
      "Starting experimental run with id: 11. \n"
     ]
    },
    {
     "name": "stdout",
     "output_type": "stream",
     "text": [
      "Starting experimental run with id: 12. \n",
      "Starting experimental run with id: 13. \n"
     ]
    },
    {
     "name": "stdout",
     "output_type": "stream",
     "text": [
      "Starting experimental run with id: 14. \n"
     ]
    }
   ],
   "source": [
    "sizes = [1,500,1000,2000,3000,4000,5000]\n",
    "t_numeric = []\n",
    "t_numeric_add = []\n",
    "t_array = []\n",
    "t_array_add = []\n",
    "for size in sizes:\n",
    "    tn, tna, run_id_n =  insert_data('numeric', size)\n",
    "    t_numeric.append(tn)\n",
    "    t_numeric_add.append(tna)\n",
    "\n",
    "    ta, taa, run_id_a =  insert_data('array', size)\n",
    "    t_array.append(ta)\n",
    "    t_array_add.append(taa)"
   ]
  },
  {
   "cell_type": "code",
   "execution_count": 6,
   "metadata": {
    "execution": {
     "iopub.execute_input": "2020-09-30T06:53:17.217489Z",
     "iopub.status.busy": "2020-09-30T06:53:17.216542Z",
     "iopub.status.idle": "2020-09-30T06:53:17.448100Z",
     "shell.execute_reply": "2020-09-30T06:53:17.448552Z"
    }
   },
   "outputs": [
    {
     "data": {
      "image/png": "[encoded data removed]",
      "text/plain": [
       "<Figure size 432x288 with 1 Axes>"
      ]
     },
     "metadata": {
      "needs_background": "light"
     },
     "output_type": "display_data"
    }
   ],
   "source": [
    "fig, ax = plt.subplots(1,1)\n",
    "ax.plot(sizes, t_numeric, 'o-', label='Inserting row-by-row')\n",
    "ax.plot(sizes, t_numeric_add, 'o-', label='Inserting row-by-row: add_result only')\n",
    "ax.plot(sizes, t_array, 'd-', label='Inserting as binary blob')\n",
    "ax.plot(sizes, t_array_add, 'd-', label='Inserting as binary blob: add_result only')\n",
    "ax.legend()\n",
    "ax.set_xlabel('Array length')\n",
    "ax.set_ylabel('Time (s)')\n",
    "fig.tight_layout()"
   ]
  },
  {
   "cell_type": "markdown",
   "metadata": {},
   "source": [
    "As shown in the latter figure, the time to setup and and close the experiment is approximately 0.4 sec. In case of small array sizes, the difference between inserting values of data as arrays and inserting them row-by-row is relatively unimportant. At larger array sizes, i.e. above 10000 points, the cost of writing data as individual datapoints starts to become important.\n"
   ]
  },
  {
   "cell_type": "markdown",
   "metadata": {},
   "source": [
    "### Case2: Long experiment time "
   ]
  },
  {
   "cell_type": "code",
   "execution_count": 7,
   "metadata": {
    "execution": {
     "iopub.execute_input": "2020-09-30T06:53:17.455126Z",
     "iopub.status.busy": "2020-09-30T06:53:17.454444Z",
     "iopub.status.idle": "2020-09-30T06:54:11.448757Z",
     "shell.execute_reply": "2020-09-30T06:54:11.449207Z"
    }
   },
   "outputs": [
    {
     "name": "stdout",
     "output_type": "stream",
     "text": [
      "Starting experimental run with id: 15. \n",
      "Starting experimental run with id: 16. \n",
      "Starting experimental run with id: 17. \n"
     ]
    },
    {
     "name": "stdout",
     "output_type": "stream",
     "text": [
      "Starting experimental run with id: 18. \n",
      "Starting experimental run with id: 19. \n"
     ]
    },
    {
     "name": "stdout",
     "output_type": "stream",
     "text": [
      "Starting experimental run with id: 20. \n"
     ]
    },
    {
     "name": "stdout",
     "output_type": "stream",
     "text": [
      "Starting experimental run with id: 21. \n"
     ]
    },
    {
     "name": "stdout",
     "output_type": "stream",
     "text": [
      "Starting experimental run with id: 22. \n"
     ]
    },
    {
     "name": "stdout",
     "output_type": "stream",
     "text": [
      "Starting experimental run with id: 23. \n"
     ]
    },
    {
     "name": "stdout",
     "output_type": "stream",
     "text": [
      "Starting experimental run with id: 24. \n"
     ]
    },
    {
     "name": "stdout",
     "output_type": "stream",
     "text": [
      "Starting experimental run with id: 25. \n"
     ]
    },
    {
     "name": "stdout",
     "output_type": "stream",
     "text": [
      "Starting experimental run with id: 26. \n"
     ]
    },
    {
     "name": "stdout",
     "output_type": "stream",
     "text": [
      "Starting experimental run with id: 27. \n"
     ]
    },
    {
     "name": "stdout",
     "output_type": "stream",
     "text": [
      "Starting experimental run with id: 28. \n"
     ]
    }
   ],
   "source": [
    "sizes = [1,500,1000,2000,3000,4000,5000]\n",
    "nreps = 100\n",
    "t_numeric = []\n",
    "t_numeric_add = []\n",
    "t_numeric_run_ids = []\n",
    "t_array = []\n",
    "t_array_add = []\n",
    "t_array_run_ids = []\n",
    "for size in sizes:\n",
    "    tn, tna, run_id_n =  insert_data('numeric', size, nreps=nreps)\n",
    "    t_numeric.append(tn)\n",
    "    t_numeric_add.append(tna)\n",
    "    t_numeric_run_ids.append(run_id_n)\n",
    "\n",
    "    ta, taa, run_id_a =  insert_data('array', size, nreps=nreps)\n",
    "    t_array.append(ta)\n",
    "    t_array_add.append(taa)\n",
    "    t_array_run_ids.append(run_id_a)"
   ]
  },
  {
   "cell_type": "code",
   "execution_count": 8,
   "metadata": {
    "execution": {
     "iopub.execute_input": "2020-09-30T06:54:11.468776Z",
     "iopub.status.busy": "2020-09-30T06:54:11.466315Z",
     "iopub.status.idle": "2020-09-30T06:54:11.666626Z",
     "shell.execute_reply": "2020-09-30T06:54:11.666216Z"
    },
    "scrolled": true
   },
   "outputs": [
    {
     "data": {
      "image/png": "[encoded data removed]",
      "text/plain": [
       "<Figure size 432x288 with 1 Axes>"
      ]
     },
     "metadata": {
      "needs_background": "light"
     },
     "output_type": "display_data"
    }
   ],
   "source": [
    "fig, ax = plt.subplots(1,1)\n",
    "ax.plot(sizes, t_numeric, 'o-', label='Inserting row-by-row')\n",
    "ax.plot(sizes, t_numeric_add, 'o-', label='Inserting row-by-row: add_result only')\n",
    "ax.plot(sizes, t_array, 'd-', label='Inserting as binary blob')\n",
    "ax.plot(sizes, t_array_add, 'd-', label='Inserting as binary blob: add_result only')\n",
    "ax.legend()\n",
    "ax.set_xlabel('Array length')\n",
    "ax.set_ylabel('Time (s)')\n",
    "fig.tight_layout()"
   ]
  },
  {
   "cell_type": "markdown",
   "metadata": {},
   "source": [
    "However, as we increase the length of the experiment, as seen here by repeating the insertion 100 times, we see a big difference between inserting values of the data row-by-row and inserting it as a binary blob."
   ]
  },
  {
   "cell_type": "markdown",
   "metadata": {},
   "source": [
    "## Loading the data "
   ]
  },
  {
   "cell_type": "code",
   "execution_count": 9,
   "metadata": {
    "execution": {
     "iopub.execute_input": "2020-09-30T06:54:11.670321Z",
     "iopub.status.busy": "2020-09-30T06:54:11.669742Z",
     "iopub.status.idle": "2020-09-30T06:54:11.673383Z",
     "shell.execute_reply": "2020-09-30T06:54:11.672804Z"
    }
   },
   "outputs": [],
   "source": [
    "from qcodes.dataset.data_set import load_by_id\n",
    "from qcodes.dataset.data_export import get_data_by_id"
   ]
  },
  {
   "cell_type": "markdown",
   "metadata": {},
   "source": [
    "As usual you can load the data by using the ``load_by_id`` function but you will notice that the different storage methods\n",
    "are reflected in shape of the data as it is retrieved. "
   ]
  },
  {
   "cell_type": "code",
   "execution_count": 10,
   "metadata": {
    "execution": {
     "iopub.execute_input": "2020-09-30T06:54:11.678430Z",
     "iopub.status.busy": "2020-09-30T06:54:11.676839Z",
     "iopub.status.idle": "2020-09-30T06:54:11.679347Z",
     "shell.execute_reply": "2020-09-30T06:54:11.678911Z"
    }
   },
   "outputs": [],
   "source": [
    "run_id_n = t_numeric_run_ids[0]\n",
    "run_id_a = t_array_run_ids[0]"
   ]
  },
  {
   "cell_type": "code",
   "execution_count": 11,
   "metadata": {
    "execution": {
     "iopub.execute_input": "2020-09-30T06:54:11.682646Z",
     "iopub.status.busy": "2020-09-30T06:54:11.682109Z",
     "iopub.status.idle": "2020-09-30T06:54:11.689408Z",
     "shell.execute_reply": "2020-09-30T06:54:11.689013Z"
    },
    "scrolled": true
   },
   "outputs": [
    {
     "data": {
      "text/plain": [
       "{'x1': {'x1': array([0.94917146, 0.94917146, 0.10466198, 0.10466198, 0.69810067,\n",
       "         0.69810067, 0.2989238 , 0.2989238 , 0.77882955, 0.77882955,\n",
       "         0.96807275, 0.96807275, 0.99138324, 0.99138324, 0.9737725 ,\n",
       "         0.9737725 , 0.07307271, 0.07307271, 0.39954641, 0.39954641,\n",
       "         0.19957805, 0.19957805, 0.1989115 , 0.1989115 , 0.7874278 ,\n",
       "         0.7874278 , 0.06703878, 0.06703878, 0.85602212, 0.85602212,\n",
       "         0.05206426, 0.05206426, 0.2479522 , 0.2479522 , 0.69403855,\n",
       "         0.69403855, 0.24070344, 0.24070344, 0.4238356 , 0.4238356 ,\n",
       "         0.89410029, 0.89410029, 0.93920612, 0.93920612, 0.88323658,\n",
       "         0.88323658, 0.1146951 , 0.1146951 , 0.73990467, 0.73990467,\n",
       "         0.2722429 , 0.2722429 , 0.10083414, 0.10083414, 0.65068752,\n",
       "         0.65068752, 0.06907631, 0.06907631, 0.76966924, 0.76966924,\n",
       "         0.84703609, 0.84703609, 0.97882311, 0.97882311, 0.99106004,\n",
       "         0.99106004, 0.80834723, 0.80834723, 0.66367621, 0.66367621,\n",
       "         0.73654814, 0.73654814, 0.85118499, 0.85118499, 0.10614959,\n",
       "         0.10614959, 0.15789651, 0.15789651, 0.6015089 , 0.6015089 ,\n",
       "         0.35882457, 0.35882457, 0.56874009, 0.56874009, 0.28555235,\n",
       "         0.28555235, 0.22190622, 0.22190622, 0.48450394, 0.48450394,\n",
       "         0.15669721, 0.15669721, 0.49705715, 0.49705715, 0.58948365,\n",
       "         0.58948365, 0.3581683 , 0.3581683 , 0.54358333, 0.54358333,\n",
       "         0.85151917, 0.85151917, 0.68253128, 0.68253128, 0.99765069,\n",
       "         0.99765069, 0.74855708, 0.74855708, 0.24117457, 0.24117457,\n",
       "         0.0630604 , 0.0630604 , 0.76995988, 0.76995988, 0.22316827,\n",
       "         0.22316827, 0.38163121, 0.38163121, 0.00243572, 0.00243572,\n",
       "         0.51374665, 0.51374665, 0.95090898, 0.95090898, 0.65375599,\n",
       "         0.65375599, 0.26173008, 0.26173008, 0.47735819, 0.47735819,\n",
       "         0.69912464, 0.69912464, 0.98514332, 0.98514332, 0.99846615,\n",
       "         0.99846615, 0.27672598, 0.27672598, 0.89753279, 0.89753279,\n",
       "         0.29271947, 0.29271947, 0.66972462, 0.66972462, 0.32700198,\n",
       "         0.32700198, 0.73725072, 0.73725072, 0.10251137, 0.10251137,\n",
       "         0.22853655, 0.22853655, 0.22100385, 0.22100385, 0.39082028,\n",
       "         0.39082028, 0.4535974 , 0.4535974 , 0.71033325, 0.71033325,\n",
       "         0.51896363, 0.51896363, 0.89683318, 0.89683318, 0.19782452,\n",
       "         0.19782452, 0.38675312, 0.38675312, 0.28044326, 0.28044326,\n",
       "         0.421978  , 0.421978  , 0.74583292, 0.74583292, 0.11540858,\n",
       "         0.11540858, 0.52839446, 0.52839446, 0.39381681, 0.39381681,\n",
       "         0.47266727, 0.47266727, 0.19921207, 0.19921207, 0.4325809 ,\n",
       "         0.4325809 , 0.71434395, 0.71434395, 0.85770405, 0.85770405,\n",
       "         0.6344499 , 0.6344499 , 0.70214712, 0.70214712, 0.26152324,\n",
       "         0.26152324, 0.83110041, 0.83110041, 0.55550127, 0.55550127])}}"
      ]
     },
     "execution_count": 1,
     "metadata": {},
     "output_type": "execute_result"
    }
   ],
   "source": [
    "ds = load_by_id(run_id_n)\n",
    "ds.get_parameter_data('x1')"
   ]
  },
  {
   "cell_type": "markdown",
   "metadata": {},
   "source": [
    "And a dataset stored as binary arrays"
   ]
  },
  {
   "cell_type": "code",
   "execution_count": 12,
   "metadata": {
    "execution": {
     "iopub.execute_input": "2020-09-30T06:54:11.692724Z",
     "iopub.status.busy": "2020-09-30T06:54:11.691871Z",
     "iopub.status.idle": "2020-09-30T06:54:11.750973Z",
     "shell.execute_reply": "2020-09-30T06:54:11.750442Z"
    },
    "scrolled": true
   },
   "outputs": [
    {
     "data": {
      "text/plain": [
       "{'x1': {'x1': array([[0.99650385],\n",
       "         [0.99650385],\n",
       "         [0.88876854],\n",
       "         [0.88876854],\n",
       "         [0.58987464],\n",
       "         [0.58987464],\n",
       "         [0.72063024],\n",
       "         [0.72063024],\n",
       "         [0.74704039],\n",
       "         [0.74704039],\n",
       "         [0.81340925],\n",
       "         [0.81340925],\n",
       "         [0.22923419],\n",
       "         [0.22923419],\n",
       "         [0.03492   ],\n",
       "         [0.03492   ],\n",
       "         [0.77299428],\n",
       "         [0.77299428],\n",
       "         [0.63732959],\n",
       "         [0.63732959],\n",
       "         [0.77369678],\n",
       "         [0.77369678],\n",
       "         [0.44388727],\n",
       "         [0.44388727],\n",
       "         [0.9899022 ],\n",
       "         [0.9899022 ],\n",
       "         [0.48911785],\n",
       "         [0.48911785],\n",
       "         [0.34624048],\n",
       "         [0.34624048],\n",
       "         [0.53125298],\n",
       "         [0.53125298],\n",
       "         [0.61949394],\n",
       "         [0.61949394],\n",
       "         [0.66331302],\n",
       "         [0.66331302],\n",
       "         [0.58385526],\n",
       "         [0.58385526],\n",
       "         [0.07041139],\n",
       "         [0.07041139],\n",
       "         [0.39947589],\n",
       "         [0.39947589],\n",
       "         [0.06565746],\n",
       "         [0.06565746],\n",
       "         [0.43966151],\n",
       "         [0.43966151],\n",
       "         [0.26083832],\n",
       "         [0.26083832],\n",
       "         [0.34930796],\n",
       "         [0.34930796],\n",
       "         [0.51082917],\n",
       "         [0.51082917],\n",
       "         [0.20602251],\n",
       "         [0.20602251],\n",
       "         [0.21217141],\n",
       "         [0.21217141],\n",
       "         [0.82492595],\n",
       "         [0.82492595],\n",
       "         [0.98870592],\n",
       "         [0.98870592],\n",
       "         [0.32367078],\n",
       "         [0.32367078],\n",
       "         [0.29008856],\n",
       "         [0.29008856],\n",
       "         [0.49552747],\n",
       "         [0.49552747],\n",
       "         [0.3809241 ],\n",
       "         [0.3809241 ],\n",
       "         [0.82312801],\n",
       "         [0.82312801],\n",
       "         [0.24737237],\n",
       "         [0.24737237],\n",
       "         [0.20028775],\n",
       "         [0.20028775],\n",
       "         [0.9314577 ],\n",
       "         [0.9314577 ],\n",
       "         [0.85219568],\n",
       "         [0.85219568],\n",
       "         [0.01187561],\n",
       "         [0.01187561],\n",
       "         [0.95525012],\n",
       "         [0.95525012],\n",
       "         [0.59084995],\n",
       "         [0.59084995],\n",
       "         [0.72497509],\n",
       "         [0.72497509],\n",
       "         [0.16836826],\n",
       "         [0.16836826],\n",
       "         [0.90326702],\n",
       "         [0.90326702],\n",
       "         [0.33345707],\n",
       "         [0.33345707],\n",
       "         [0.33632264],\n",
       "         [0.33632264],\n",
       "         [0.95302709],\n",
       "         [0.95302709],\n",
       "         [0.96190239],\n",
       "         [0.96190239],\n",
       "         [0.59870986],\n",
       "         [0.59870986],\n",
       "         [0.01550306],\n",
       "         [0.01550306],\n",
       "         [0.14811672],\n",
       "         [0.14811672],\n",
       "         [0.08399079],\n",
       "         [0.08399079],\n",
       "         [0.1634995 ],\n",
       "         [0.1634995 ],\n",
       "         [0.86385887],\n",
       "         [0.86385887],\n",
       "         [0.67908553],\n",
       "         [0.67908553],\n",
       "         [0.31356115],\n",
       "         [0.31356115],\n",
       "         [0.24457763],\n",
       "         [0.24457763],\n",
       "         [0.69278172],\n",
       "         [0.69278172],\n",
       "         [0.54968322],\n",
       "         [0.54968322],\n",
       "         [0.68464778],\n",
       "         [0.68464778],\n",
       "         [0.70168324],\n",
       "         [0.70168324],\n",
       "         [0.68422772],\n",
       "         [0.68422772],\n",
       "         [0.41117502],\n",
       "         [0.41117502],\n",
       "         [0.59013321],\n",
       "         [0.59013321],\n",
       "         [0.5905956 ],\n",
       "         [0.5905956 ],\n",
       "         [0.11220241],\n",
       "         [0.11220241],\n",
       "         [0.96541521],\n",
       "         [0.96541521],\n",
       "         [0.41341867],\n",
       "         [0.41341867],\n",
       "         [0.65128763],\n",
       "         [0.65128763],\n",
       "         [0.59333073],\n",
       "         [0.59333073],\n",
       "         [0.44415761],\n",
       "         [0.44415761],\n",
       "         [0.13434684],\n",
       "         [0.13434684],\n",
       "         [0.18538074],\n",
       "         [0.18538074],\n",
       "         [0.67202675],\n",
       "         [0.67202675],\n",
       "         [0.57415155],\n",
       "         [0.57415155],\n",
       "         [0.64321548],\n",
       "         [0.64321548],\n",
       "         [0.72936895],\n",
       "         [0.72936895],\n",
       "         [0.82896139],\n",
       "         [0.82896139],\n",
       "         [0.78214697],\n",
       "         [0.78214697],\n",
       "         [0.53289435],\n",
       "         [0.53289435],\n",
       "         [0.08825022],\n",
       "         [0.08825022],\n",
       "         [0.41630654],\n",
       "         [0.41630654],\n",
       "         [0.08158839],\n",
       "         [0.08158839],\n",
       "         [0.55586243],\n",
       "         [0.55586243],\n",
       "         [0.57203968],\n",
       "         [0.57203968],\n",
       "         [0.91580092],\n",
       "         [0.91580092],\n",
       "         [0.88605597],\n",
       "         [0.88605597],\n",
       "         [0.12870414],\n",
       "         [0.12870414],\n",
       "         [0.53149403],\n",
       "         [0.53149403],\n",
       "         [0.51298064],\n",
       "         [0.51298064],\n",
       "         [0.12382841],\n",
       "         [0.12382841],\n",
       "         [0.95249164],\n",
       "         [0.95249164],\n",
       "         [0.55834452],\n",
       "         [0.55834452],\n",
       "         [0.82696972],\n",
       "         [0.82696972],\n",
       "         [0.33893084],\n",
       "         [0.33893084],\n",
       "         [0.09787259],\n",
       "         [0.09787259],\n",
       "         [0.13763925],\n",
       "         [0.13763925],\n",
       "         [0.27941044],\n",
       "         [0.27941044],\n",
       "         [0.2819225 ],\n",
       "         [0.2819225 ]])}}"
      ]
     },
     "execution_count": 1,
     "metadata": {},
     "output_type": "execute_result"
    }
   ],
   "source": [
    "ds = load_by_id(run_id_a)\n",
    "ds.get_parameter_data('x1')"
   ]
  },
  {
   "cell_type": "code",
   "execution_count": null,
   "metadata": {},
   "outputs": [],
   "source": []
  }
 ],
 "metadata": {
  "kernelspec": {
   "display_name": "Python 3",
   "language": "python",
   "name": "python3"
  },
  "language_info": {
   "codemirror_mode": {
    "name": "ipython",
    "version": 3
   },
   "file_extension": ".py",
   "mimetype": "text/x-python",
   "name": "python",
   "nbconvert_exporter": "python",
   "pygments_lexer": "ipython3",
   "version": "3.7.7"
  },
  "nbsphinx": {
   "timeout": 600
  },
  "toc": {
   "base_numbering": 1,
   "nav_menu": {},
   "number_sections": true,
   "sideBar": true,
   "skip_h1_title": false,
   "title_cell": "Table of Contents",
   "title_sidebar": "Contents",
   "toc_cell": false,
   "toc_position": {},
   "toc_section_display": true,
   "toc_window_display": false
  },
  "varInspector": {
   "cols": {
    "lenName": 16,
    "lenType": 16,
    "lenVar": 40
   },
   "kernels_config": {
    "python": {
     "delete_cmd_postfix": "",
     "delete_cmd_prefix": "del ",
     "library": "var_list.py",
     "varRefreshCmd": "print(var_dic_list())"
    },
    "r": {
     "delete_cmd_postfix": ") ",
     "delete_cmd_prefix": "rm(",
     "library": "var_list.r",
     "varRefreshCmd": "cat(var_dic_list()) "
    }
   },
   "types_to_exclude": [
    "module",
    "function",
    "builtin_function_or_method",
    "instance",
    "_Feature"
   ],
   "window_display": false
  }
 },
 "nbformat": 4,
 "nbformat_minor": 2
}
