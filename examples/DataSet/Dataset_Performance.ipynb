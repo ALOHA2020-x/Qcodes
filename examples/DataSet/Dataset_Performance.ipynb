{
 "cells": [
  {
   "cell_type": "markdown",
   "metadata": {},
   "source": [
    "# DataSet Performance\n",
    "\n",
    "This notebook shows the trade-off between inserting data into a database row-by-row and as binary blobs. Inserting the data row-by-row means that we have direct access to all the data and may perform queries directly on the values of the data. On the other hand, as we shall see, this is much slower than inserting the data directly as binary blobs."
   ]
  },
  {
   "cell_type": "markdown",
   "metadata": {},
   "source": [
    "First, we choose a new location for the database to ensure that we don't add a bunch of benchmarking data to the default one."
   ]
  },
  {
   "cell_type": "code",
   "execution_count": 1,
   "metadata": {
    "execution": {
     "iopub.execute_input": "2020-10-09T14:42:55.465998Z",
     "iopub.status.busy": "2020-10-09T14:42:55.465338Z",
     "iopub.status.idle": "2020-10-09T14:42:56.516304Z",
     "shell.execute_reply": "2020-10-09T14:42:56.516808Z"
    }
   },
   "outputs": [
    {
     "name": "stdout",
     "output_type": "stream",
     "text": [
      "Logging hadn't been started.\n",
      "Activating auto-logging. Current session state plus future input saved.\n",
      "Filename       : /home/vsts/.qcodes/logs/command_history.log\n",
      "Mode           : append\n",
      "Output logging : True\n",
      "Raw input log  : False\n",
      "Timestamping   : True\n",
      "State          : active\n"
     ]
    },
    {
     "name": "stdout",
     "output_type": "stream",
     "text": [
      "Qcodes Logfile : /home/vsts/.qcodes/logs/201009-15686-qcodes.log\n"
     ]
    }
   ],
   "source": [
    "import os\n",
    "cwd = os.getcwd()\n",
    "import qcodes as qc\n",
    "qc.config[\"core\"][\"db_location\"] = os.path.join(cwd, 'testing.db')\n"
   ]
  },
  {
   "cell_type": "code",
   "execution_count": 2,
   "metadata": {
    "execution": {
     "iopub.execute_input": "2020-10-09T14:42:56.524520Z",
     "iopub.status.busy": "2020-10-09T14:42:56.522654Z",
     "iopub.status.idle": "2020-10-09T14:42:56.707569Z",
     "shell.execute_reply": "2020-10-09T14:42:56.708045Z"
    }
   },
   "outputs": [],
   "source": [
    "%matplotlib inline\n",
    "import time\n",
    "import matplotlib.pyplot as plt\n",
    "import numpy as np\n",
    "\n",
    "import qcodes as qc\n",
    "from qcodes.instrument.parameter import ManualParameter\n",
    "from qcodes.dataset.experiment_container import (Experiment,\n",
    "                                                 load_last_experiment,\n",
    "                                                 new_experiment)\n",
    "from qcodes.dataset.sqlite.database import initialise_database\n",
    "from qcodes import load_or_create_experiment\n",
    "from qcodes.dataset.measurements import Measurement"
   ]
  },
  {
   "cell_type": "code",
   "execution_count": 3,
   "metadata": {
    "execution": {
     "iopub.execute_input": "2020-10-09T14:42:56.712164Z",
     "iopub.status.busy": "2020-10-09T14:42:56.711359Z",
     "iopub.status.idle": "2020-10-09T14:42:56.817776Z",
     "shell.execute_reply": "2020-10-09T14:42:56.816830Z"
    }
   },
   "outputs": [
    {
     "name": "stdout",
     "output_type": "stream",
     "text": [
      "\r",
      "0it [00:00, ?it/s]"
     ]
    },
    {
     "name": "stdout",
     "output_type": "stream",
     "text": [
      "\r",
      "Upgrading database; v0 -> v1: : 0it [00:00, ?it/s]"
     ]
    },
    {
     "name": "stdout",
     "output_type": "stream",
     "text": [
      "\r",
      "Upgrading database; v0 -> v1: : 0it [00:00, ?it/s]"
     ]
    },
    {
     "name": "stdout",
     "output_type": "stream",
     "text": [
      "\n",
      "\r",
      "  0%|          | 0/1 [00:00<?, ?it/s]"
     ]
    },
    {
     "name": "stdout",
     "output_type": "stream",
     "text": [
      "\r",
      "Upgrading database; v1 -> v2:   0%|          | 0/1 [00:00<?, ?it/s]"
     ]
    },
    {
     "name": "stdout",
     "output_type": "stream",
     "text": [
      "\r",
      "Upgrading database; v1 -> v2: 100%|██████████| 1/1 [00:00<00:00, 542.32it/s]"
     ]
    },
    {
     "name": "stdout",
     "output_type": "stream",
     "text": [
      "\n",
      "\r",
      "0it [00:00, ?it/s]"
     ]
    },
    {
     "name": "stdout",
     "output_type": "stream",
     "text": [
      "\r",
      "Upgrading database; v2 -> v3: : 0it [00:00, ?it/s]"
     ]
    },
    {
     "name": "stdout",
     "output_type": "stream",
     "text": [
      "\r",
      "Upgrading database; v2 -> v3: : 0it [00:00, ?it/s]"
     ]
    },
    {
     "name": "stdout",
     "output_type": "stream",
     "text": [
      "\n",
      "\r",
      "0it [00:00, ?it/s]"
     ]
    },
    {
     "name": "stdout",
     "output_type": "stream",
     "text": [
      "\r",
      "Upgrading database; v3 -> v4: : 0it [00:00, ?it/s]"
     ]
    },
    {
     "name": "stdout",
     "output_type": "stream",
     "text": [
      "\r",
      "Upgrading database; v3 -> v4: : 0it [00:00, ?it/s]"
     ]
    },
    {
     "name": "stdout",
     "output_type": "stream",
     "text": [
      "\n",
      "\r",
      "  0%|          | 0/1 [00:00<?, ?it/s]"
     ]
    },
    {
     "name": "stdout",
     "output_type": "stream",
     "text": [
      "\r",
      "Upgrading database; v4 -> v5:   0%|          | 0/1 [00:00<?, ?it/s]"
     ]
    },
    {
     "name": "stdout",
     "output_type": "stream",
     "text": [
      "\r",
      "Upgrading database; v4 -> v5: 100%|██████████| 1/1 [00:00<00:00, 838.02it/s]"
     ]
    },
    {
     "name": "stdout",
     "output_type": "stream",
     "text": [
      "\n",
      "\r",
      "0it [00:00, ?it/s]"
     ]
    },
    {
     "name": "stdout",
     "output_type": "stream",
     "text": [
      "\r",
      "Upgrading database; v5 -> v6: : 0it [00:00, ?it/s]"
     ]
    },
    {
     "name": "stdout",
     "output_type": "stream",
     "text": [
      "\r",
      "Upgrading database; v5 -> v6: : 0it [00:00, ?it/s]"
     ]
    },
    {
     "name": "stdout",
     "output_type": "stream",
     "text": [
      "\n",
      "\r",
      "  0%|          | 0/1 [00:00<?, ?it/s]"
     ]
    },
    {
     "name": "stdout",
     "output_type": "stream",
     "text": [
      "\r",
      "Upgrading database; v6 -> v7:   0%|          | 0/1 [00:00<?, ?it/s]"
     ]
    },
    {
     "name": "stdout",
     "output_type": "stream",
     "text": [
      "\r",
      "Upgrading database; v6 -> v7: 100%|██████████| 1/1 [00:00<00:00, 253.65it/s]"
     ]
    },
    {
     "name": "stdout",
     "output_type": "stream",
     "text": [
      "\n",
      "\r",
      "  0%|          | 0/1 [00:00<?, ?it/s]"
     ]
    },
    {
     "name": "stdout",
     "output_type": "stream",
     "text": [
      "\r",
      "Upgrading database; v7 -> v8:   0%|          | 0/1 [00:00<?, ?it/s]"
     ]
    },
    {
     "name": "stdout",
     "output_type": "stream",
     "text": [
      "\r",
      "Upgrading database; v7 -> v8: 100%|██████████| 1/1 [00:00<00:00, 498.79it/s]"
     ]
    },
    {
     "name": "stdout",
     "output_type": "stream",
     "text": [
      "\n",
      "\r",
      "  0%|          | 0/1 [00:00<?, ?it/s]"
     ]
    },
    {
     "name": "stdout",
     "output_type": "stream",
     "text": [
      "\r",
      "Upgrading database; v8 -> v9:   0%|          | 0/1 [00:00<?, ?it/s]"
     ]
    },
    {
     "name": "stdout",
     "output_type": "stream",
     "text": [
      "\r",
      "Upgrading database; v8 -> v9: 100%|██████████| 1/1 [00:00<00:00, 370.49it/s]"
     ]
    },
    {
     "name": "stdout",
     "output_type": "stream",
     "text": [
      "\n"
     ]
    }
   ],
   "source": [
    "initialise_database()\n",
    "exp = load_or_create_experiment(experiment_name='tutorial_exp', sample_name=\"no sample\")"
   ]
  },
  {
   "cell_type": "markdown",
   "metadata": {},
   "source": [
    "Here, we define a simple function to benchmark the time it takes to insert n points with either numeric or array data type.\n",
    "We will compare both the time used to call ``add_result`` and the time used for the full measurement."
   ]
  },
  {
   "cell_type": "code",
   "execution_count": 4,
   "metadata": {
    "execution": {
     "iopub.execute_input": "2020-10-09T14:42:56.826588Z",
     "iopub.status.busy": "2020-10-09T14:42:56.825961Z",
     "iopub.status.idle": "2020-10-09T14:42:56.829290Z",
     "shell.execute_reply": "2020-10-09T14:42:56.829907Z"
    }
   },
   "outputs": [],
   "source": [
    "def insert_data(paramtype, npoints, nreps=1):\n",
    "\n",
    "    meas = Measurement(exp=exp)\n",
    "\n",
    "    x1 = ManualParameter('x1')\n",
    "    x2 = ManualParameter('x2')\n",
    "    x3 = ManualParameter('x3')\n",
    "    y1 = ManualParameter('y1')\n",
    "    y2 = ManualParameter('y2')\n",
    "\n",
    "    meas.register_parameter(x1, paramtype=paramtype)\n",
    "    meas.register_parameter(x2, paramtype=paramtype)\n",
    "    meas.register_parameter(x3, paramtype=paramtype)\n",
    "    meas.register_parameter(y1, setpoints=[x1, x2, x3],\n",
    "                            paramtype=paramtype)\n",
    "    meas.register_parameter(y2, setpoints=[x1, x2, x3],\n",
    "                            paramtype=paramtype)\n",
    "    start = time.perf_counter()\n",
    "    with meas.run() as datasaver:\n",
    "        start_adding = time.perf_counter()\n",
    "        for i in range(nreps):\n",
    "            datasaver.add_result((x1, np.random.rand(npoints)),\n",
    "                                 (x2, np.random.rand(npoints)),\n",
    "                                 (x3, np.random.rand(npoints)),\n",
    "                                 (y1, np.random.rand(npoints)),\n",
    "                                 (y2, np.random.rand(npoints)))\n",
    "        stop_adding = time.perf_counter()\n",
    "        run_id = datasaver.run_id\n",
    "    stop = time.perf_counter()\n",
    "    tot_time = stop - start\n",
    "    add_time = stop_adding - start_adding\n",
    "    return tot_time, add_time, run_id"
   ]
  },
  {
   "cell_type": "markdown",
   "metadata": {},
   "source": [
    "## Comparison between numeric/array data and binary blob"
   ]
  },
  {
   "cell_type": "markdown",
   "metadata": {},
   "source": [
    "### Case1: Short experiment time"
   ]
  },
  {
   "cell_type": "code",
   "execution_count": 5,
   "metadata": {
    "execution": {
     "iopub.execute_input": "2020-10-09T14:42:56.834426Z",
     "iopub.status.busy": "2020-10-09T14:42:56.833861Z",
     "iopub.status.idle": "2020-10-09T14:42:57.699155Z",
     "shell.execute_reply": "2020-10-09T14:42:57.698629Z"
    }
   },
   "outputs": [
    {
     "name": "stdout",
     "output_type": "stream",
     "text": [
      "Starting experimental run with id: 1. \n",
      "Starting experimental run with id: 2. \n",
      "Starting experimental run with id: 3. \n",
      "Starting experimental run with id: 4. \n",
      "Starting experimental run with id: 5. \n"
     ]
    },
    {
     "name": "stdout",
     "output_type": "stream",
     "text": [
      "Starting experimental run with id: 6. \n"
     ]
    },
    {
     "name": "stdout",
     "output_type": "stream",
     "text": [
      "Starting experimental run with id: 7. \n"
     ]
    },
    {
     "name": "stdout",
     "output_type": "stream",
     "text": [
      "Starting experimental run with id: 8. \n",
      "Starting experimental run with id: 9. \n"
     ]
    },
    {
     "name": "stdout",
     "output_type": "stream",
     "text": [
      "Starting experimental run with id: 10. \n",
      "Starting experimental run with id: 11. \n"
     ]
    },
    {
     "name": "stdout",
     "output_type": "stream",
     "text": [
      "Starting experimental run with id: 12. \n"
     ]
    },
    {
     "name": "stdout",
     "output_type": "stream",
     "text": [
      "Starting experimental run with id: 13. \n"
     ]
    },
    {
     "name": "stdout",
     "output_type": "stream",
     "text": [
      "Starting experimental run with id: 14. \n"
     ]
    }
   ],
   "source": [
    "sizes = [1,500,1000,2000,3000,4000,5000]\n",
    "t_numeric = []\n",
    "t_numeric_add = []\n",
    "t_array = []\n",
    "t_array_add = []\n",
    "for size in sizes:\n",
    "    tn, tna, run_id_n =  insert_data('numeric', size)\n",
    "    t_numeric.append(tn)\n",
    "    t_numeric_add.append(tna)\n",
    "\n",
    "    ta, taa, run_id_a =  insert_data('array', size)\n",
    "    t_array.append(ta)\n",
    "    t_array_add.append(taa)"
   ]
  },
  {
   "cell_type": "code",
   "execution_count": 6,
   "metadata": {
    "execution": {
     "iopub.execute_input": "2020-10-09T14:42:57.718727Z",
     "iopub.status.busy": "2020-10-09T14:42:57.718116Z",
     "iopub.status.idle": "2020-10-09T14:42:57.928532Z",
     "shell.execute_reply": "2020-10-09T14:42:57.929041Z"
    }
   },
   "outputs": [
    {
     "data": {
      "image/png": "[encoded data removed]",
      "text/plain": [
       "<Figure size 432x288 with 1 Axes>"
      ]
     },
     "metadata": {
      "needs_background": "light"
     },
     "output_type": "display_data"
    }
   ],
   "source": [
    "fig, ax = plt.subplots(1,1)\n",
    "ax.plot(sizes, t_numeric, 'o-', label='Inserting row-by-row')\n",
    "ax.plot(sizes, t_numeric_add, 'o-', label='Inserting row-by-row: add_result only')\n",
    "ax.plot(sizes, t_array, 'd-', label='Inserting as binary blob')\n",
    "ax.plot(sizes, t_array_add, 'd-', label='Inserting as binary blob: add_result only')\n",
    "ax.legend()\n",
    "ax.set_xlabel('Array length')\n",
    "ax.set_ylabel('Time (s)')\n",
    "fig.tight_layout()"
   ]
  },
  {
   "cell_type": "markdown",
   "metadata": {},
   "source": [
    "As shown in the latter figure, the time to setup and and close the experiment is approximately 0.4 sec. In case of small array sizes, the difference between inserting values of data as arrays and inserting them row-by-row is relatively unimportant. At larger array sizes, i.e. above 10000 points, the cost of writing data as individual datapoints starts to become important.\n"
   ]
  },
  {
   "cell_type": "markdown",
   "metadata": {},
   "source": [
    "### Case2: Long experiment time "
   ]
  },
  {
   "cell_type": "code",
   "execution_count": 7,
   "metadata": {
    "execution": {
     "iopub.execute_input": "2020-10-09T14:42:57.937123Z",
     "iopub.status.busy": "2020-10-09T14:42:57.936412Z",
     "iopub.status.idle": "2020-10-09T14:43:53.393500Z",
     "shell.execute_reply": "2020-10-09T14:43:53.392981Z"
    }
   },
   "outputs": [
    {
     "name": "stdout",
     "output_type": "stream",
     "text": [
      "Starting experimental run with id: 15. \n",
      "Starting experimental run with id: 16. \n",
      "Starting experimental run with id: 17. \n"
     ]
    },
    {
     "name": "stdout",
     "output_type": "stream",
     "text": [
      "Starting experimental run with id: 18. \n",
      "Starting experimental run with id: 19. \n"
     ]
    },
    {
     "name": "stdout",
     "output_type": "stream",
     "text": [
      "Starting experimental run with id: 20. \n"
     ]
    },
    {
     "name": "stdout",
     "output_type": "stream",
     "text": [
      "Starting experimental run with id: 21. \n"
     ]
    },
    {
     "name": "stdout",
     "output_type": "stream",
     "text": [
      "Starting experimental run with id: 22. \n"
     ]
    },
    {
     "name": "stdout",
     "output_type": "stream",
     "text": [
      "Starting experimental run with id: 23. \n"
     ]
    },
    {
     "name": "stdout",
     "output_type": "stream",
     "text": [
      "Starting experimental run with id: 24. \n"
     ]
    },
    {
     "name": "stdout",
     "output_type": "stream",
     "text": [
      "Starting experimental run with id: 25. \n"
     ]
    },
    {
     "name": "stdout",
     "output_type": "stream",
     "text": [
      "Starting experimental run with id: 26. \n"
     ]
    },
    {
     "name": "stdout",
     "output_type": "stream",
     "text": [
      "Starting experimental run with id: 27. \n"
     ]
    },
    {
     "name": "stdout",
     "output_type": "stream",
     "text": [
      "Starting experimental run with id: 28. \n"
     ]
    }
   ],
   "source": [
    "sizes = [1,500,1000,2000,3000,4000,5000]\n",
    "nreps = 100\n",
    "t_numeric = []\n",
    "t_numeric_add = []\n",
    "t_numeric_run_ids = []\n",
    "t_array = []\n",
    "t_array_add = []\n",
    "t_array_run_ids = []\n",
    "for size in sizes:\n",
    "    tn, tna, run_id_n =  insert_data('numeric', size, nreps=nreps)\n",
    "    t_numeric.append(tn)\n",
    "    t_numeric_add.append(tna)\n",
    "    t_numeric_run_ids.append(run_id_n)\n",
    "\n",
    "    ta, taa, run_id_a =  insert_data('array', size, nreps=nreps)\n",
    "    t_array.append(ta)\n",
    "    t_array_add.append(taa)\n",
    "    t_array_run_ids.append(run_id_a)"
   ]
  },
  {
   "cell_type": "code",
   "execution_count": 8,
   "metadata": {
    "execution": {
     "iopub.execute_input": "2020-10-09T14:43:53.410324Z",
     "iopub.status.busy": "2020-10-09T14:43:53.409711Z",
     "iopub.status.idle": "2020-10-09T14:43:53.597245Z",
     "shell.execute_reply": "2020-10-09T14:43:53.596672Z"
    },
    "scrolled": true
   },
   "outputs": [
    {
     "data": {
      "image/png": "[encoded data removed]",
      "text/plain": [
       "<Figure size 432x288 with 1 Axes>"
      ]
     },
     "metadata": {
      "needs_background": "light"
     },
     "output_type": "display_data"
    }
   ],
   "source": [
    "fig, ax = plt.subplots(1,1)\n",
    "ax.plot(sizes, t_numeric, 'o-', label='Inserting row-by-row')\n",
    "ax.plot(sizes, t_numeric_add, 'o-', label='Inserting row-by-row: add_result only')\n",
    "ax.plot(sizes, t_array, 'd-', label='Inserting as binary blob')\n",
    "ax.plot(sizes, t_array_add, 'd-', label='Inserting as binary blob: add_result only')\n",
    "ax.legend()\n",
    "ax.set_xlabel('Array length')\n",
    "ax.set_ylabel('Time (s)')\n",
    "fig.tight_layout()"
   ]
  },
  {
   "cell_type": "markdown",
   "metadata": {},
   "source": [
    "However, as we increase the length of the experiment, as seen here by repeating the insertion 100 times, we see a big difference between inserting values of the data row-by-row and inserting it as a binary blob."
   ]
  },
  {
   "cell_type": "markdown",
   "metadata": {},
   "source": [
    "## Loading the data "
   ]
  },
  {
   "cell_type": "code",
   "execution_count": 9,
   "metadata": {
    "execution": {
     "iopub.execute_input": "2020-10-09T14:43:53.601280Z",
     "iopub.status.busy": "2020-10-09T14:43:53.600355Z",
     "iopub.status.idle": "2020-10-09T14:43:53.603574Z",
     "shell.execute_reply": "2020-10-09T14:43:53.603033Z"
    }
   },
   "outputs": [],
   "source": [
    "from qcodes.dataset.data_set import load_by_id\n",
    "from qcodes.dataset.data_export import get_data_by_id"
   ]
  },
  {
   "cell_type": "markdown",
   "metadata": {},
   "source": [
    "As usual you can load the data by using the ``load_by_id`` function but you will notice that the different storage methods\n",
    "are reflected in shape of the data as it is retrieved. "
   ]
  },
  {
   "cell_type": "code",
   "execution_count": 10,
   "metadata": {
    "execution": {
     "iopub.execute_input": "2020-10-09T14:43:53.608194Z",
     "iopub.status.busy": "2020-10-09T14:43:53.607029Z",
     "iopub.status.idle": "2020-10-09T14:43:53.608714Z",
     "shell.execute_reply": "2020-10-09T14:43:53.609244Z"
    }
   },
   "outputs": [],
   "source": [
    "run_id_n = t_numeric_run_ids[0]\n",
    "run_id_a = t_array_run_ids[0]"
   ]
  },
  {
   "cell_type": "code",
   "execution_count": 11,
   "metadata": {
    "execution": {
     "iopub.execute_input": "2020-10-09T14:43:53.612236Z",
     "iopub.status.busy": "2020-10-09T14:43:53.611710Z",
     "iopub.status.idle": "2020-10-09T14:43:53.622616Z",
     "shell.execute_reply": "2020-10-09T14:43:53.622083Z"
    },
    "scrolled": true
   },
   "outputs": [
    {
     "data": {
      "text/plain": [
       "{'x1': {'x1': array([0.43387831, 0.43387831, 0.9052872 , 0.9052872 , 0.49566781,\n",
       "         0.49566781, 0.38839476, 0.38839476, 0.14048192, 0.14048192,\n",
       "         0.89667373, 0.89667373, 0.7635236 , 0.7635236 , 0.39025987,\n",
       "         0.39025987, 0.3584786 , 0.3584786 , 0.32810006, 0.32810006,\n",
       "         0.69426656, 0.69426656, 0.86925195, 0.86925195, 0.68711788,\n",
       "         0.68711788, 0.27309282, 0.27309282, 0.73868088, 0.73868088,\n",
       "         0.54970053, 0.54970053, 0.10342929, 0.10342929, 0.22257701,\n",
       "         0.22257701, 0.31601634, 0.31601634, 0.90531776, 0.90531776,\n",
       "         0.00801944, 0.00801944, 0.77005724, 0.77005724, 0.11519605,\n",
       "         0.11519605, 0.91094938, 0.91094938, 0.96514403, 0.96514403,\n",
       "         0.2462633 , 0.2462633 , 0.48747208, 0.48747208, 0.72545654,\n",
       "         0.72545654, 0.83754092, 0.83754092, 0.61381993, 0.61381993,\n",
       "         0.5761147 , 0.5761147 , 0.9966537 , 0.9966537 , 0.18971322,\n",
       "         0.18971322, 0.96080577, 0.96080577, 0.23170409, 0.23170409,\n",
       "         0.04129264, 0.04129264, 0.69364369, 0.69364369, 0.31119684,\n",
       "         0.31119684, 0.9816712 , 0.9816712 , 0.35299897, 0.35299897,\n",
       "         0.8952929 , 0.8952929 , 0.48089294, 0.48089294, 0.29131401,\n",
       "         0.29131401, 0.23822908, 0.23822908, 0.71148761, 0.71148761,\n",
       "         0.41391802, 0.41391802, 0.65631281, 0.65631281, 0.7375256 ,\n",
       "         0.7375256 , 0.69289671, 0.69289671, 0.26402075, 0.26402075,\n",
       "         0.49461812, 0.49461812, 0.25230071, 0.25230071, 0.08356543,\n",
       "         0.08356543, 0.41179948, 0.41179948, 0.87944949, 0.87944949,\n",
       "         0.23909618, 0.23909618, 0.79018284, 0.79018284, 0.64449089,\n",
       "         0.64449089, 0.91759141, 0.91759141, 0.02199507, 0.02199507,\n",
       "         0.57894978, 0.57894978, 0.00540778, 0.00540778, 0.0775089 ,\n",
       "         0.0775089 , 0.02493197, 0.02493197, 0.98997488, 0.98997488,\n",
       "         0.61030098, 0.61030098, 0.95280976, 0.95280976, 0.82703741,\n",
       "         0.82703741, 0.31151818, 0.31151818, 0.38204351, 0.38204351,\n",
       "         0.94622805, 0.94622805, 0.73988364, 0.73988364, 0.62666301,\n",
       "         0.62666301, 0.89849726, 0.89849726, 0.23239475, 0.23239475,\n",
       "         0.83975715, 0.83975715, 0.1016244 , 0.1016244 , 0.66177302,\n",
       "         0.66177302, 0.92100562, 0.92100562, 0.25514442, 0.25514442,\n",
       "         0.48601792, 0.48601792, 0.48434427, 0.48434427, 0.46378952,\n",
       "         0.46378952, 0.26087517, 0.26087517, 0.68573697, 0.68573697,\n",
       "         0.37578369, 0.37578369, 0.00203458, 0.00203458, 0.14640359,\n",
       "         0.14640359, 0.92016074, 0.92016074, 0.0919957 , 0.0919957 ,\n",
       "         0.02442485, 0.02442485, 0.71483297, 0.71483297, 0.21136949,\n",
       "         0.21136949, 0.80558627, 0.80558627, 0.31889557, 0.31889557,\n",
       "         0.6647659 , 0.6647659 , 0.99167522, 0.99167522, 0.97515428,\n",
       "         0.97515428, 0.27156395, 0.27156395, 0.7465208 , 0.7465208 ])}}"
      ]
     },
     "execution_count": 1,
     "metadata": {},
     "output_type": "execute_result"
    }
   ],
   "source": [
    "ds = load_by_id(run_id_n)\n",
    "ds.get_parameter_data('x1')"
   ]
  },
  {
   "cell_type": "markdown",
   "metadata": {},
   "source": [
    "And a dataset stored as binary arrays"
   ]
  },
  {
   "cell_type": "code",
   "execution_count": 12,
   "metadata": {
    "execution": {
     "iopub.execute_input": "2020-10-09T14:43:53.626143Z",
     "iopub.status.busy": "2020-10-09T14:43:53.625575Z",
     "iopub.status.idle": "2020-10-09T14:43:53.682392Z",
     "shell.execute_reply": "2020-10-09T14:43:53.681929Z"
    },
    "scrolled": true
   },
   "outputs": [
    {
     "data": {
      "text/plain": [
       "{'x1': {'x1': array([[3.68133790e-01],\n",
       "         [3.68133790e-01],\n",
       "         [1.30602945e-01],\n",
       "         [1.30602945e-01],\n",
       "         [6.14288075e-01],\n",
       "         [6.14288075e-01],\n",
       "         [8.24923865e-01],\n",
       "         [8.24923865e-01],\n",
       "         [9.58068156e-04],\n",
       "         [9.58068156e-04],\n",
       "         [6.59238623e-01],\n",
       "         [6.59238623e-01],\n",
       "         [1.73287358e-01],\n",
       "         [1.73287358e-01],\n",
       "         [6.54779943e-01],\n",
       "         [6.54779943e-01],\n",
       "         [6.70924906e-01],\n",
       "         [6.70924906e-01],\n",
       "         [1.00087695e-01],\n",
       "         [1.00087695e-01],\n",
       "         [7.15456021e-02],\n",
       "         [7.15456021e-02],\n",
       "         [4.73249922e-02],\n",
       "         [4.73249922e-02],\n",
       "         [6.44020016e-01],\n",
       "         [6.44020016e-01],\n",
       "         [1.57041116e-01],\n",
       "         [1.57041116e-01],\n",
       "         [1.11192664e-01],\n",
       "         [1.11192664e-01],\n",
       "         [8.25202620e-01],\n",
       "         [8.25202620e-01],\n",
       "         [4.79048235e-01],\n",
       "         [4.79048235e-01],\n",
       "         [3.08470908e-01],\n",
       "         [3.08470908e-01],\n",
       "         [6.11532877e-01],\n",
       "         [6.11532877e-01],\n",
       "         [7.91513220e-01],\n",
       "         [7.91513220e-01],\n",
       "         [2.55083804e-01],\n",
       "         [2.55083804e-01],\n",
       "         [5.49655329e-01],\n",
       "         [5.49655329e-01],\n",
       "         [3.65999370e-01],\n",
       "         [3.65999370e-01],\n",
       "         [8.55075723e-01],\n",
       "         [8.55075723e-01],\n",
       "         [2.40352744e-01],\n",
       "         [2.40352744e-01],\n",
       "         [4.59797967e-01],\n",
       "         [4.59797967e-01],\n",
       "         [4.36292739e-01],\n",
       "         [4.36292739e-01],\n",
       "         [4.35212041e-01],\n",
       "         [4.35212041e-01],\n",
       "         [6.57217051e-01],\n",
       "         [6.57217051e-01],\n",
       "         [2.62093084e-01],\n",
       "         [2.62093084e-01],\n",
       "         [2.85092403e-01],\n",
       "         [2.85092403e-01],\n",
       "         [8.26506532e-03],\n",
       "         [8.26506532e-03],\n",
       "         [7.29390627e-01],\n",
       "         [7.29390627e-01],\n",
       "         [4.79657987e-01],\n",
       "         [4.79657987e-01],\n",
       "         [4.14594615e-01],\n",
       "         [4.14594615e-01],\n",
       "         [7.96909738e-01],\n",
       "         [7.96909738e-01],\n",
       "         [5.12380056e-01],\n",
       "         [5.12380056e-01],\n",
       "         [4.58780299e-01],\n",
       "         [4.58780299e-01],\n",
       "         [8.17506197e-01],\n",
       "         [8.17506197e-01],\n",
       "         [9.13908449e-01],\n",
       "         [9.13908449e-01],\n",
       "         [1.88767991e-01],\n",
       "         [1.88767991e-01],\n",
       "         [6.78664909e-01],\n",
       "         [6.78664909e-01],\n",
       "         [5.29060148e-01],\n",
       "         [5.29060148e-01],\n",
       "         [5.47366311e-01],\n",
       "         [5.47366311e-01],\n",
       "         [8.58371430e-01],\n",
       "         [8.58371430e-01],\n",
       "         [1.75317411e-01],\n",
       "         [1.75317411e-01],\n",
       "         [7.69253499e-01],\n",
       "         [7.69253499e-01],\n",
       "         [9.74171787e-01],\n",
       "         [9.74171787e-01],\n",
       "         [1.66604556e-01],\n",
       "         [1.66604556e-01],\n",
       "         [3.92382902e-02],\n",
       "         [3.92382902e-02],\n",
       "         [4.11343671e-01],\n",
       "         [4.11343671e-01],\n",
       "         [3.35696405e-01],\n",
       "         [3.35696405e-01],\n",
       "         [9.69636328e-01],\n",
       "         [9.69636328e-01],\n",
       "         [5.35947772e-01],\n",
       "         [5.35947772e-01],\n",
       "         [1.89704449e-01],\n",
       "         [1.89704449e-01],\n",
       "         [4.32373613e-01],\n",
       "         [4.32373613e-01],\n",
       "         [4.58033696e-02],\n",
       "         [4.58033696e-02],\n",
       "         [6.13138116e-01],\n",
       "         [6.13138116e-01],\n",
       "         [9.45463323e-01],\n",
       "         [9.45463323e-01],\n",
       "         [1.77620456e-01],\n",
       "         [1.77620456e-01],\n",
       "         [9.33070791e-02],\n",
       "         [9.33070791e-02],\n",
       "         [2.38417704e-01],\n",
       "         [2.38417704e-01],\n",
       "         [6.31143466e-01],\n",
       "         [6.31143466e-01],\n",
       "         [1.78431269e-01],\n",
       "         [1.78431269e-01],\n",
       "         [9.51990065e-01],\n",
       "         [9.51990065e-01],\n",
       "         [9.90192779e-01],\n",
       "         [9.90192779e-01],\n",
       "         [4.52787797e-01],\n",
       "         [4.52787797e-01],\n",
       "         [2.77641964e-01],\n",
       "         [2.77641964e-01],\n",
       "         [6.25745159e-01],\n",
       "         [6.25745159e-01],\n",
       "         [3.76491142e-01],\n",
       "         [3.76491142e-01],\n",
       "         [7.64605739e-01],\n",
       "         [7.64605739e-01],\n",
       "         [8.71805645e-01],\n",
       "         [8.71805645e-01],\n",
       "         [4.94877095e-01],\n",
       "         [4.94877095e-01],\n",
       "         [9.29053505e-01],\n",
       "         [9.29053505e-01],\n",
       "         [5.89113301e-01],\n",
       "         [5.89113301e-01],\n",
       "         [7.12142042e-01],\n",
       "         [7.12142042e-01],\n",
       "         [1.01972337e-01],\n",
       "         [1.01972337e-01],\n",
       "         [1.46966518e-01],\n",
       "         [1.46966518e-01],\n",
       "         [1.12126718e-01],\n",
       "         [1.12126718e-01],\n",
       "         [1.50812982e-01],\n",
       "         [1.50812982e-01],\n",
       "         [5.60893407e-01],\n",
       "         [5.60893407e-01],\n",
       "         [1.22383474e-01],\n",
       "         [1.22383474e-01],\n",
       "         [6.15187000e-02],\n",
       "         [6.15187000e-02],\n",
       "         [8.00578808e-02],\n",
       "         [8.00578808e-02],\n",
       "         [6.63051763e-01],\n",
       "         [6.63051763e-01],\n",
       "         [5.33590690e-02],\n",
       "         [5.33590690e-02],\n",
       "         [4.66156391e-01],\n",
       "         [4.66156391e-01],\n",
       "         [2.36681883e-01],\n",
       "         [2.36681883e-01],\n",
       "         [2.00719559e-01],\n",
       "         [2.00719559e-01],\n",
       "         [1.11659301e-04],\n",
       "         [1.11659301e-04],\n",
       "         [4.94419151e-01],\n",
       "         [4.94419151e-01],\n",
       "         [7.17125556e-01],\n",
       "         [7.17125556e-01],\n",
       "         [4.95895868e-01],\n",
       "         [4.95895868e-01],\n",
       "         [3.74352851e-01],\n",
       "         [3.74352851e-01],\n",
       "         [9.75940363e-01],\n",
       "         [9.75940363e-01],\n",
       "         [9.76399524e-01],\n",
       "         [9.76399524e-01],\n",
       "         [7.69575743e-01],\n",
       "         [7.69575743e-01],\n",
       "         [9.82317517e-02],\n",
       "         [9.82317517e-02],\n",
       "         [3.20830746e-01],\n",
       "         [3.20830746e-01],\n",
       "         [3.45931563e-02],\n",
       "         [3.45931563e-02]])}}"
      ]
     },
     "execution_count": 1,
     "metadata": {},
     "output_type": "execute_result"
    }
   ],
   "source": [
    "ds = load_by_id(run_id_a)\n",
    "ds.get_parameter_data('x1')"
   ]
  },
  {
   "cell_type": "code",
   "execution_count": null,
   "metadata": {},
   "outputs": [],
   "source": []
  }
 ],
 "metadata": {
  "kernelspec": {
   "display_name": "Python 3",
   "language": "python",
   "name": "python3"
  },
  "language_info": {
   "codemirror_mode": {
    "name": "ipython",
    "version": 3
   },
   "file_extension": ".py",
   "mimetype": "text/x-python",
   "name": "python",
   "nbconvert_exporter": "python",
   "pygments_lexer": "ipython3",
   "version": "3.7.7"
  },
  "nbsphinx": {
   "timeout": 600
  },
  "toc": {
   "base_numbering": 1,
   "nav_menu": {},
   "number_sections": true,
   "sideBar": true,
   "skip_h1_title": false,
   "title_cell": "Table of Contents",
   "title_sidebar": "Contents",
   "toc_cell": false,
   "toc_position": {},
   "toc_section_display": true,
   "toc_window_display": false
  },
  "varInspector": {
   "cols": {
    "lenName": 16,
    "lenType": 16,
    "lenVar": 40
   },
   "kernels_config": {
    "python": {
     "delete_cmd_postfix": "",
     "delete_cmd_prefix": "del ",
     "library": "var_list.py",
     "varRefreshCmd": "print(var_dic_list())"
    },
    "r": {
     "delete_cmd_postfix": ") ",
     "delete_cmd_prefix": "rm(",
     "library": "var_list.r",
     "varRefreshCmd": "cat(var_dic_list()) "
    }
   },
   "types_to_exclude": [
    "module",
    "function",
    "builtin_function_or_method",
    "instance",
    "_Feature"
   ],
   "window_display": false
  }
 },
 "nbformat": 4,
 "nbformat_minor": 2
}
