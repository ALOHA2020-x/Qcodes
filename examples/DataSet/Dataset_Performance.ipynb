{
 "cells": [
  {
   "cell_type": "markdown",
   "metadata": {},
   "source": [
    "# DataSet Performance\n",
    "\n",
    "This notebook shows the trade-off between inserting data into a database row-by-row and as binary blobs. Inserting the data row-by-row means that we have direct access to all the data and may perform queries directly on the values of the data. On the other hand, as we shall see, this is much slower than inserting the data directly as binary blobs."
   ]
  },
  {
   "cell_type": "markdown",
   "metadata": {},
   "source": [
    "First, we choose a new location for the database to ensure that we don't add a bunch of benchmarking data to the default one."
   ]
  },
  {
   "cell_type": "code",
   "execution_count": 1,
   "metadata": {},
   "outputs": [
    {
     "name": "stdout",
     "output_type": "stream",
     "text": [
      "Logging hadn't been started.\n",
      "Activating auto-logging. Current session state plus future input saved.\n",
      "Filename       : /home/vsts/.qcodes/logs/command_history.log\n",
      "Mode           : append\n",
      "Output logging : True\n",
      "Raw input log  : False\n",
      "Timestamping   : True\n",
      "State          : active\n"
     ]
    },
    {
     "name": "stdout",
     "output_type": "stream",
     "text": [
      "Qcodes Logfile : /home/vsts/.qcodes/logs/200306-19854-qcodes.log\n"
     ]
    }
   ],
   "source": [
    "import os\n",
    "cwd = os.getcwd()\n",
    "import qcodes as qc\n",
    "qc.config[\"core\"][\"db_location\"] = os.path.join(cwd, 'testing.db')\n"
   ]
  },
  {
   "cell_type": "code",
   "execution_count": 2,
   "metadata": {},
   "outputs": [],
   "source": [
    "%matplotlib inline\n",
    "import time\n",
    "import matplotlib.pyplot as plt\n",
    "import numpy as np\n",
    "\n",
    "import qcodes as qc\n",
    "from qcodes.instrument.parameter import ManualParameter\n",
    "from qcodes.dataset.experiment_container import (Experiment,\n",
    "                                                 load_last_experiment,\n",
    "                                                 new_experiment)\n",
    "from qcodes.dataset.sqlite.database import initialise_database\n",
    "from qcodes import load_or_create_experiment\n",
    "from qcodes.dataset.measurements import Measurement"
   ]
  },
  {
   "cell_type": "code",
   "execution_count": 3,
   "metadata": {},
   "outputs": [
    {
     "name": "stdout",
     "output_type": "stream",
     "text": [
      "\r",
      "0it [00:00, ?it/s]"
     ]
    },
    {
     "name": "stdout",
     "output_type": "stream",
     "text": [
      "\r",
      "Upgrading database; v0 -> v1: : 0it [00:00, ?it/s]"
     ]
    },
    {
     "name": "stdout",
     "output_type": "stream",
     "text": [
      "\r",
      "Upgrading database; v0 -> v1: : 0it [00:00, ?it/s]"
     ]
    },
    {
     "name": "stdout",
     "output_type": "stream",
     "text": [
      "\n",
      "\r",
      "  0%|          | 0/1 [00:00<?, ?it/s]"
     ]
    },
    {
     "name": "stdout",
     "output_type": "stream",
     "text": [
      "\r",
      "Upgrading database; v1 -> v2:   0%|          | 0/1 [00:00<?, ?it/s]"
     ]
    },
    {
     "name": "stdout",
     "output_type": "stream",
     "text": [
      "\r",
      "Upgrading database; v1 -> v2: 100%|██████████| 1/1 [00:00<00:00, 1013.61it/s]"
     ]
    },
    {
     "name": "stdout",
     "output_type": "stream",
     "text": [
      "\n",
      "\r",
      "0it [00:00, ?it/s]"
     ]
    },
    {
     "name": "stdout",
     "output_type": "stream",
     "text": [
      "\r",
      "Upgrading database; v2 -> v3: : 0it [00:00, ?it/s]"
     ]
    },
    {
     "name": "stdout",
     "output_type": "stream",
     "text": [
      "\r",
      "Upgrading database; v2 -> v3: : 0it [00:00, ?it/s]"
     ]
    },
    {
     "name": "stdout",
     "output_type": "stream",
     "text": [
      "\n",
      "\r",
      "0it [00:00, ?it/s]"
     ]
    },
    {
     "name": "stdout",
     "output_type": "stream",
     "text": [
      "\r",
      "Upgrading database; v3 -> v4: : 0it [00:00, ?it/s]"
     ]
    },
    {
     "name": "stdout",
     "output_type": "stream",
     "text": [
      "\r",
      "Upgrading database; v3 -> v4: : 0it [00:00, ?it/s]"
     ]
    },
    {
     "name": "stdout",
     "output_type": "stream",
     "text": [
      "\n",
      "\r",
      "  0%|          | 0/1 [00:00<?, ?it/s]"
     ]
    },
    {
     "name": "stdout",
     "output_type": "stream",
     "text": [
      "\r",
      "Upgrading database; v4 -> v5:   0%|          | 0/1 [00:00<?, ?it/s]"
     ]
    },
    {
     "name": "stdout",
     "output_type": "stream",
     "text": [
      "\r",
      "Upgrading database; v4 -> v5: 100%|██████████| 1/1 [00:00<00:00, 1043.36it/s]"
     ]
    },
    {
     "name": "stdout",
     "output_type": "stream",
     "text": [
      "\n",
      "\r",
      "0it [00:00, ?it/s]"
     ]
    },
    {
     "name": "stdout",
     "output_type": "stream",
     "text": [
      "\r",
      "Upgrading database; v5 -> v6: : 0it [00:00, ?it/s]"
     ]
    },
    {
     "name": "stdout",
     "output_type": "stream",
     "text": [
      "\r",
      "Upgrading database; v5 -> v6: : 0it [00:00, ?it/s]"
     ]
    },
    {
     "name": "stdout",
     "output_type": "stream",
     "text": [
      "\n",
      "\r",
      "  0%|          | 0/1 [00:00<?, ?it/s]"
     ]
    },
    {
     "name": "stdout",
     "output_type": "stream",
     "text": [
      "\r",
      "Upgrading database; v6 -> v7:   0%|          | 0/1 [00:00<?, ?it/s]"
     ]
    },
    {
     "name": "stdout",
     "output_type": "stream",
     "text": [
      "\r",
      "Upgrading database; v6 -> v7: 100%|██████████| 1/1 [00:00<00:00, 418.84it/s]"
     ]
    },
    {
     "name": "stdout",
     "output_type": "stream",
     "text": [
      "\n",
      "\r",
      "  0%|          | 0/1 [00:00<?, ?it/s]"
     ]
    },
    {
     "name": "stdout",
     "output_type": "stream",
     "text": [
      "\r",
      "Upgrading database; v7 -> v8:   0%|          | 0/1 [00:00<?, ?it/s]"
     ]
    },
    {
     "name": "stdout",
     "output_type": "stream",
     "text": [
      "\r",
      "Upgrading database; v7 -> v8: 100%|██████████| 1/1 [00:00<00:00, 900.07it/s]"
     ]
    },
    {
     "name": "stdout",
     "output_type": "stream",
     "text": [
      "\n",
      "\r",
      "  0%|          | 0/1 [00:00<?, ?it/s]"
     ]
    },
    {
     "name": "stdout",
     "output_type": "stream",
     "text": [
      "\r",
      "Upgrading database; v8 -> v9:   0%|          | 0/1 [00:00<?, ?it/s]"
     ]
    },
    {
     "name": "stdout",
     "output_type": "stream",
     "text": [
      "\r",
      "Upgrading database; v8 -> v9: 100%|██████████| 1/1 [00:00<00:00, 1255.03it/s]"
     ]
    },
    {
     "name": "stdout",
     "output_type": "stream",
     "text": [
      "\n"
     ]
    }
   ],
   "source": [
    "initialise_database()\n",
    "exp = load_or_create_experiment(experiment_name='tutorial_exp', sample_name=\"no sample\")"
   ]
  },
  {
   "cell_type": "markdown",
   "metadata": {},
   "source": [
    "Here, we define a simple function to benchmark the time it takes to insert n points with either numeric or array data type.\n",
    "We will compare both the time used to call ``add_result`` and the time used for the full measurement."
   ]
  },
  {
   "cell_type": "code",
   "execution_count": 4,
   "metadata": {},
   "outputs": [],
   "source": [
    "def insert_data(paramtype, npoints, nreps=1):\n",
    "\n",
    "    meas = Measurement(exp=exp)\n",
    "\n",
    "    x1 = ManualParameter('x1')\n",
    "    x2 = ManualParameter('x2')\n",
    "    x3 = ManualParameter('x3')\n",
    "    y1 = ManualParameter('y1')\n",
    "    y2 = ManualParameter('y2')\n",
    "\n",
    "    meas.register_parameter(x1, paramtype=paramtype)\n",
    "    meas.register_parameter(x2, paramtype=paramtype)\n",
    "    meas.register_parameter(x3, paramtype=paramtype)\n",
    "    meas.register_parameter(y1, setpoints=[x1, x2, x3],\n",
    "                            paramtype=paramtype)\n",
    "    meas.register_parameter(y2, setpoints=[x1, x2, x3],\n",
    "                            paramtype=paramtype)\n",
    "    start = time.perf_counter()\n",
    "    with meas.run() as datasaver:\n",
    "        start_adding = time.perf_counter()\n",
    "        for i in range(nreps):\n",
    "            datasaver.add_result((x1, np.random.rand(npoints)),\n",
    "                                 (x2, np.random.rand(npoints)),\n",
    "                                 (x3, np.random.rand(npoints)),\n",
    "                                 (y1, np.random.rand(npoints)),\n",
    "                                 (y2, np.random.rand(npoints)))\n",
    "        stop_adding = time.perf_counter()\n",
    "        run_id = datasaver.run_id\n",
    "    stop = time.perf_counter()\n",
    "    tot_time = stop - start\n",
    "    add_time = stop_adding - start_adding\n",
    "    return tot_time, add_time, run_id"
   ]
  },
  {
   "cell_type": "markdown",
   "metadata": {},
   "source": [
    "## Comparison between numeric/array data and binary blob"
   ]
  },
  {
   "cell_type": "markdown",
   "metadata": {},
   "source": [
    "### Case1: Short experiment time"
   ]
  },
  {
   "cell_type": "code",
   "execution_count": 5,
   "metadata": {},
   "outputs": [
    {
     "name": "stdout",
     "output_type": "stream",
     "text": [
      "Starting experimental run with id: 1. \n",
      "Starting experimental run with id: 2. \n",
      "Starting experimental run with id: 3. \n",
      "Starting experimental run with id: 4. \n"
     ]
    },
    {
     "name": "stdout",
     "output_type": "stream",
     "text": [
      "Starting experimental run with id: 5. \n"
     ]
    },
    {
     "name": "stdout",
     "output_type": "stream",
     "text": [
      "Starting experimental run with id: 6. \n",
      "Starting experimental run with id: 7. \n"
     ]
    },
    {
     "name": "stdout",
     "output_type": "stream",
     "text": [
      "Starting experimental run with id: 8. \n",
      "Starting experimental run with id: 9. \n"
     ]
    },
    {
     "name": "stdout",
     "output_type": "stream",
     "text": [
      "Starting experimental run with id: 10. \n",
      "Starting experimental run with id: 11. \n"
     ]
    },
    {
     "name": "stdout",
     "output_type": "stream",
     "text": [
      "Starting experimental run with id: 12. \n"
     ]
    },
    {
     "name": "stdout",
     "output_type": "stream",
     "text": [
      "Starting experimental run with id: 13. \n",
      "Starting experimental run with id: 14. \n"
     ]
    }
   ],
   "source": [
    "sizes = [1,500,1000,2000,3000,4000,5000]\n",
    "t_numeric = []\n",
    "t_numeric_add = []\n",
    "t_array = []\n",
    "t_array_add = []\n",
    "for size in sizes:\n",
    "    tn, tna, run_id_n =  insert_data('numeric', size)\n",
    "    t_numeric.append(tn)\n",
    "    t_numeric_add.append(tna)\n",
    "\n",
    "    ta, taa, run_id_a =  insert_data('array', size)\n",
    "    t_array.append(ta)\n",
    "    t_array_add.append(taa)"
   ]
  },
  {
   "cell_type": "code",
   "execution_count": 6,
   "metadata": {},
   "outputs": [
    {
     "data": {
      "image/png": "[encoded data removed]",
      "text/plain": [
       "<Figure size 432x288 with 1 Axes>"
      ]
     },
     "metadata": {
      "needs_background": "light"
     },
     "output_type": "display_data"
    }
   ],
   "source": [
    "fig, ax = plt.subplots(1,1)\n",
    "ax.plot(sizes, t_numeric, 'o-', label='Inserting row-by-row')\n",
    "ax.plot(sizes, t_numeric_add, 'o-', label='Inserting row-by-row: add_result only')\n",
    "ax.plot(sizes, t_array, 'd-', label='Inserting as binary blob')\n",
    "ax.plot(sizes, t_array_add, 'd-', label='Inserting as binary blob: add_result only')\n",
    "ax.legend()\n",
    "ax.set_xlabel('Array length')\n",
    "ax.set_ylabel('Time (s)')\n",
    "fig.tight_layout()"
   ]
  },
  {
   "cell_type": "markdown",
   "metadata": {},
   "source": [
    "As shown in the latter figure, the time to setup and and close the experiment is approximately 0.4 sec. In case of small array sizes, the difference between inserting values of data as arrays and inserting them row-by-row is relatively unimportant. At larger array sizes, i.e. above 10000 points, the cost of writing data as individual datapoints starts to become important.\n"
   ]
  },
  {
   "cell_type": "markdown",
   "metadata": {},
   "source": [
    "### Case2: Long experiment time "
   ]
  },
  {
   "cell_type": "code",
   "execution_count": 7,
   "metadata": {},
   "outputs": [
    {
     "name": "stdout",
     "output_type": "stream",
     "text": [
      "Starting experimental run with id: 15. \n",
      "Starting experimental run with id: 16. \n",
      "Starting experimental run with id: 17. \n"
     ]
    },
    {
     "name": "stdout",
     "output_type": "stream",
     "text": [
      "Starting experimental run with id: 18. \n",
      "Starting experimental run with id: 19. \n"
     ]
    },
    {
     "name": "stdout",
     "output_type": "stream",
     "text": [
      "Starting experimental run with id: 20. \n"
     ]
    },
    {
     "name": "stdout",
     "output_type": "stream",
     "text": [
      "Starting experimental run with id: 21. \n"
     ]
    },
    {
     "name": "stdout",
     "output_type": "stream",
     "text": [
      "Starting experimental run with id: 22. \n"
     ]
    },
    {
     "name": "stdout",
     "output_type": "stream",
     "text": [
      "Starting experimental run with id: 23. \n"
     ]
    },
    {
     "name": "stdout",
     "output_type": "stream",
     "text": [
      "Starting experimental run with id: 24. \n"
     ]
    },
    {
     "name": "stdout",
     "output_type": "stream",
     "text": [
      "Starting experimental run with id: 25. \n"
     ]
    },
    {
     "name": "stdout",
     "output_type": "stream",
     "text": [
      "Starting experimental run with id: 26. \n"
     ]
    },
    {
     "name": "stdout",
     "output_type": "stream",
     "text": [
      "Starting experimental run with id: 27. \n"
     ]
    },
    {
     "name": "stdout",
     "output_type": "stream",
     "text": [
      "Starting experimental run with id: 28. \n"
     ]
    }
   ],
   "source": [
    "sizes = [1,500,1000,2000,3000,4000,5000]\n",
    "nreps = 100\n",
    "t_numeric = []\n",
    "t_numeric_add = []\n",
    "t_numeric_run_ids = []\n",
    "t_array = []\n",
    "t_array_add = []\n",
    "t_array_run_ids = []\n",
    "for size in sizes:\n",
    "    tn, tna, run_id_n =  insert_data('numeric', size, nreps=nreps)\n",
    "    t_numeric.append(tn)\n",
    "    t_numeric_add.append(tna)\n",
    "    t_numeric_run_ids.append(run_id_n)\n",
    "\n",
    "    ta, taa, run_id_a =  insert_data('array', size, nreps=nreps)\n",
    "    t_array.append(ta)\n",
    "    t_array_add.append(taa)\n",
    "    t_array_run_ids.append(run_id_a)"
   ]
  },
  {
   "cell_type": "code",
   "execution_count": 8,
   "metadata": {
    "scrolled": true
   },
   "outputs": [
    {
     "data": {
      "image/png": "[encoded data removed]",
      "text/plain": [
       "<Figure size 432x288 with 1 Axes>"
      ]
     },
     "metadata": {
      "needs_background": "light"
     },
     "output_type": "display_data"
    }
   ],
   "source": [
    "fig, ax = plt.subplots(1,1)\n",
    "ax.plot(sizes, t_numeric, 'o-', label='Inserting row-by-row')\n",
    "ax.plot(sizes, t_numeric_add, 'o-', label='Inserting row-by-row: add_result only')\n",
    "ax.plot(sizes, t_array, 'd-', label='Inserting as binary blob')\n",
    "ax.plot(sizes, t_array_add, 'd-', label='Inserting as binary blob: add_result only')\n",
    "ax.legend()\n",
    "ax.set_xlabel('Array length')\n",
    "ax.set_ylabel('Time (s)')\n",
    "fig.tight_layout()"
   ]
  },
  {
   "cell_type": "markdown",
   "metadata": {},
   "source": [
    "However, as we increase the length of the experiment, as seen here by repeating the insertion 100 times, we see a big difference between inserting values of the data row-by-row and inserting it as a binary blob."
   ]
  },
  {
   "cell_type": "markdown",
   "metadata": {},
   "source": [
    "## Loading the data "
   ]
  },
  {
   "cell_type": "code",
   "execution_count": 9,
   "metadata": {},
   "outputs": [],
   "source": [
    "from qcodes.dataset.data_set import load_by_id\n",
    "from qcodes.dataset.data_export import get_data_by_id"
   ]
  },
  {
   "cell_type": "markdown",
   "metadata": {},
   "source": [
    "As usual you can load the data by using the ``load_by_id`` function but you will notice that the different storage methods\n",
    "are reflected in shape of the data as it is retrieved. "
   ]
  },
  {
   "cell_type": "code",
   "execution_count": 10,
   "metadata": {},
   "outputs": [],
   "source": [
    "run_id_n = t_numeric_run_ids[0]\n",
    "run_id_a = t_array_run_ids[0]"
   ]
  },
  {
   "cell_type": "code",
   "execution_count": 11,
   "metadata": {
    "scrolled": true
   },
   "outputs": [
    {
     "data": {
      "text/plain": [
       "{'x1': {'x1': array([0.25496982, 0.25496982, 0.20919609, 0.20919609, 0.7045096 ,\n",
       "         0.7045096 , 0.8195056 , 0.8195056 , 0.48025753, 0.48025753,\n",
       "         0.74778962, 0.74778962, 0.80438166, 0.80438166, 0.98995399,\n",
       "         0.98995399, 0.12445896, 0.12445896, 0.75447519, 0.75447519,\n",
       "         0.85693175, 0.85693175, 0.93538065, 0.93538065, 0.29806734,\n",
       "         0.29806734, 0.46353645, 0.46353645, 0.85962365, 0.85962365,\n",
       "         0.37921675, 0.37921675, 0.35666238, 0.35666238, 0.53628993,\n",
       "         0.53628993, 0.29898754, 0.29898754, 0.76337048, 0.76337048,\n",
       "         0.8110148 , 0.8110148 , 0.03702959, 0.03702959, 0.63630443,\n",
       "         0.63630443, 0.94847291, 0.94847291, 0.14986514, 0.14986514,\n",
       "         0.8972924 , 0.8972924 , 0.40819727, 0.40819727, 0.50194596,\n",
       "         0.50194596, 0.89624612, 0.89624612, 0.50243336, 0.50243336,\n",
       "         0.21896503, 0.21896503, 0.25279788, 0.25279788, 0.94948758,\n",
       "         0.94948758, 0.81451123, 0.81451123, 0.10019868, 0.10019868,\n",
       "         0.06675342, 0.06675342, 0.57345357, 0.57345357, 0.74799611,\n",
       "         0.74799611, 0.68098671, 0.68098671, 0.18381763, 0.18381763,\n",
       "         0.63264013, 0.63264013, 0.5551471 , 0.5551471 , 0.53750638,\n",
       "         0.53750638, 0.24129779, 0.24129779, 0.70746297, 0.70746297,\n",
       "         0.88094287, 0.88094287, 0.92350551, 0.92350551, 0.87552638,\n",
       "         0.87552638, 0.77089123, 0.77089123, 0.32677447, 0.32677447,\n",
       "         0.67862027, 0.67862027, 0.27397283, 0.27397283, 0.9125965 ,\n",
       "         0.9125965 , 0.36376265, 0.36376265, 0.53121895, 0.53121895,\n",
       "         0.28942625, 0.28942625, 0.72759153, 0.72759153, 0.91310121,\n",
       "         0.91310121, 0.27409975, 0.27409975, 0.4067015 , 0.4067015 ,\n",
       "         0.35196778, 0.35196778, 0.41139325, 0.41139325, 0.87547901,\n",
       "         0.87547901, 0.28245231, 0.28245231, 0.09515973, 0.09515973,\n",
       "         0.20335198, 0.20335198, 0.49465915, 0.49465915, 0.31637755,\n",
       "         0.31637755, 0.28529591, 0.28529591, 0.52515421, 0.52515421,\n",
       "         0.75824671, 0.75824671, 0.41812608, 0.41812608, 0.41521678,\n",
       "         0.41521678, 0.74816373, 0.74816373, 0.09576537, 0.09576537,\n",
       "         0.35539686, 0.35539686, 0.04518086, 0.04518086, 0.46395445,\n",
       "         0.46395445, 0.76630116, 0.76630116, 0.69582897, 0.69582897,\n",
       "         0.26782269, 0.26782269, 0.77536234, 0.77536234, 0.39705991,\n",
       "         0.39705991, 0.66599865, 0.66599865, 0.16706665, 0.16706665,\n",
       "         0.94492174, 0.94492174, 0.31867554, 0.31867554, 0.82707954,\n",
       "         0.82707954, 0.50588931, 0.50588931, 0.96433384, 0.96433384,\n",
       "         0.96950733, 0.96950733, 0.02246726, 0.02246726, 0.44891604,\n",
       "         0.44891604, 0.75956369, 0.75956369, 0.84248263, 0.84248263,\n",
       "         0.27306852, 0.27306852, 0.74065666, 0.74065666, 0.93911094,\n",
       "         0.93911094, 0.46928566, 0.46928566, 0.72968813, 0.72968813])}}"
      ]
     },
     "execution_count": 11,
     "metadata": {},
     "output_type": "execute_result"
    }
   ],
   "source": [
    "ds = load_by_id(run_id_n)\n",
    "ds.get_parameter_data('x1')"
   ]
  },
  {
   "cell_type": "markdown",
   "metadata": {},
   "source": [
    "And a dataset stored as binary arrays"
   ]
  },
  {
   "cell_type": "code",
   "execution_count": 12,
   "metadata": {
    "scrolled": true
   },
   "outputs": [
    {
     "data": {
      "text/plain": [
       "{'x1': {'x1': array([[0.07627144],\n",
       "         [0.07627144],\n",
       "         [0.87898695],\n",
       "         [0.87898695],\n",
       "         [0.16935616],\n",
       "         [0.16935616],\n",
       "         [0.46041537],\n",
       "         [0.46041537],\n",
       "         [0.56061697],\n",
       "         [0.56061697],\n",
       "         [0.12570084],\n",
       "         [0.12570084],\n",
       "         [0.66152316],\n",
       "         [0.66152316],\n",
       "         [0.93038172],\n",
       "         [0.93038172],\n",
       "         [0.32553445],\n",
       "         [0.32553445],\n",
       "         [0.24913005],\n",
       "         [0.24913005],\n",
       "         [0.36193018],\n",
       "         [0.36193018],\n",
       "         [0.50263095],\n",
       "         [0.50263095],\n",
       "         [0.39005209],\n",
       "         [0.39005209],\n",
       "         [0.81048554],\n",
       "         [0.81048554],\n",
       "         [0.5638894 ],\n",
       "         [0.5638894 ],\n",
       "         [0.6510815 ],\n",
       "         [0.6510815 ],\n",
       "         [0.91265666],\n",
       "         [0.91265666],\n",
       "         [0.5294449 ],\n",
       "         [0.5294449 ],\n",
       "         [0.596358  ],\n",
       "         [0.596358  ],\n",
       "         [0.2224205 ],\n",
       "         [0.2224205 ],\n",
       "         [0.86828433],\n",
       "         [0.86828433],\n",
       "         [0.45641312],\n",
       "         [0.45641312],\n",
       "         [0.28386868],\n",
       "         [0.28386868],\n",
       "         [0.79162182],\n",
       "         [0.79162182],\n",
       "         [0.02865026],\n",
       "         [0.02865026],\n",
       "         [0.40463807],\n",
       "         [0.40463807],\n",
       "         [0.84929389],\n",
       "         [0.84929389],\n",
       "         [0.99831583],\n",
       "         [0.99831583],\n",
       "         [0.62708129],\n",
       "         [0.62708129],\n",
       "         [0.42320086],\n",
       "         [0.42320086],\n",
       "         [0.71275237],\n",
       "         [0.71275237],\n",
       "         [0.49683426],\n",
       "         [0.49683426],\n",
       "         [0.65884631],\n",
       "         [0.65884631],\n",
       "         [0.07285907],\n",
       "         [0.07285907],\n",
       "         [0.93297746],\n",
       "         [0.93297746],\n",
       "         [0.78877018],\n",
       "         [0.78877018],\n",
       "         [0.07335658],\n",
       "         [0.07335658],\n",
       "         [0.24682549],\n",
       "         [0.24682549],\n",
       "         [0.71019413],\n",
       "         [0.71019413],\n",
       "         [0.46209784],\n",
       "         [0.46209784],\n",
       "         [0.88964283],\n",
       "         [0.88964283],\n",
       "         [0.63633908],\n",
       "         [0.63633908],\n",
       "         [0.02906433],\n",
       "         [0.02906433],\n",
       "         [0.73670076],\n",
       "         [0.73670076],\n",
       "         [0.97669623],\n",
       "         [0.97669623],\n",
       "         [0.53458428],\n",
       "         [0.53458428],\n",
       "         [0.65247887],\n",
       "         [0.65247887],\n",
       "         [0.06451505],\n",
       "         [0.06451505],\n",
       "         [0.90934218],\n",
       "         [0.90934218],\n",
       "         [0.11762231],\n",
       "         [0.11762231],\n",
       "         [0.9259805 ],\n",
       "         [0.9259805 ],\n",
       "         [0.82244453],\n",
       "         [0.82244453],\n",
       "         [0.96637052],\n",
       "         [0.96637052],\n",
       "         [0.21238738],\n",
       "         [0.21238738],\n",
       "         [0.12126432],\n",
       "         [0.12126432],\n",
       "         [0.51783084],\n",
       "         [0.51783084],\n",
       "         [0.12367735],\n",
       "         [0.12367735],\n",
       "         [0.21396768],\n",
       "         [0.21396768],\n",
       "         [0.14069523],\n",
       "         [0.14069523],\n",
       "         [0.18271317],\n",
       "         [0.18271317],\n",
       "         [0.27678268],\n",
       "         [0.27678268],\n",
       "         [0.95249493],\n",
       "         [0.95249493],\n",
       "         [0.98785198],\n",
       "         [0.98785198],\n",
       "         [0.7717581 ],\n",
       "         [0.7717581 ],\n",
       "         [0.08718509],\n",
       "         [0.08718509],\n",
       "         [0.07885135],\n",
       "         [0.07885135],\n",
       "         [0.3483354 ],\n",
       "         [0.3483354 ],\n",
       "         [0.89146505],\n",
       "         [0.89146505],\n",
       "         [0.78193743],\n",
       "         [0.78193743],\n",
       "         [0.84170003],\n",
       "         [0.84170003],\n",
       "         [0.84865473],\n",
       "         [0.84865473],\n",
       "         [0.60384015],\n",
       "         [0.60384015],\n",
       "         [0.16786433],\n",
       "         [0.16786433],\n",
       "         [0.90532683],\n",
       "         [0.90532683],\n",
       "         [0.41507431],\n",
       "         [0.41507431],\n",
       "         [0.36424733],\n",
       "         [0.36424733],\n",
       "         [0.94234132],\n",
       "         [0.94234132],\n",
       "         [0.6724155 ],\n",
       "         [0.6724155 ],\n",
       "         [0.94846896],\n",
       "         [0.94846896],\n",
       "         [0.60425616],\n",
       "         [0.60425616],\n",
       "         [0.34257568],\n",
       "         [0.34257568],\n",
       "         [0.59753295],\n",
       "         [0.59753295],\n",
       "         [0.42466747],\n",
       "         [0.42466747],\n",
       "         [0.91778843],\n",
       "         [0.91778843],\n",
       "         [0.11000893],\n",
       "         [0.11000893],\n",
       "         [0.83990136],\n",
       "         [0.83990136],\n",
       "         [0.65793771],\n",
       "         [0.65793771],\n",
       "         [0.36637372],\n",
       "         [0.36637372],\n",
       "         [0.04207352],\n",
       "         [0.04207352],\n",
       "         [0.763019  ],\n",
       "         [0.763019  ],\n",
       "         [0.47065927],\n",
       "         [0.47065927],\n",
       "         [0.92859639],\n",
       "         [0.92859639],\n",
       "         [0.82484791],\n",
       "         [0.82484791],\n",
       "         [0.13902554],\n",
       "         [0.13902554],\n",
       "         [0.81554032],\n",
       "         [0.81554032],\n",
       "         [0.88496711],\n",
       "         [0.88496711],\n",
       "         [0.09689371],\n",
       "         [0.09689371],\n",
       "         [0.64852684],\n",
       "         [0.64852684],\n",
       "         [0.39766894],\n",
       "         [0.39766894],\n",
       "         [0.37282359],\n",
       "         [0.37282359]])}}"
      ]
     },
     "execution_count": 12,
     "metadata": {},
     "output_type": "execute_result"
    }
   ],
   "source": [
    "ds = load_by_id(run_id_a)\n",
    "ds.get_parameter_data('x1')"
   ]
  },
  {
   "cell_type": "code",
   "execution_count": null,
   "metadata": {},
   "outputs": [],
   "source": []
  }
 ],
 "metadata": {
  "kernelspec": {
   "display_name": "Python 3",
   "language": "python",
   "name": "python3"
  },
  "language_info": {
   "codemirror_mode": {
    "name": "ipython",
    "version": 3
   },
   "file_extension": ".py",
   "mimetype": "text/x-python",
   "name": "python",
   "nbconvert_exporter": "python",
   "pygments_lexer": "ipython3",
   "version": "3.7.5"
  },
  "nbsphinx": {
   "timeout": 600
  },
  "toc": {
   "base_numbering": 1,
   "nav_menu": {},
   "number_sections": true,
   "sideBar": true,
   "skip_h1_title": false,
   "title_cell": "Table of Contents",
   "title_sidebar": "Contents",
   "toc_cell": false,
   "toc_position": {},
   "toc_section_display": true,
   "toc_window_display": false
  },
  "varInspector": {
   "cols": {
    "lenName": 16,
    "lenType": 16,
    "lenVar": 40
   },
   "kernels_config": {
    "python": {
     "delete_cmd_postfix": "",
     "delete_cmd_prefix": "del ",
     "library": "var_list.py",
     "varRefreshCmd": "print(var_dic_list())"
    },
    "r": {
     "delete_cmd_postfix": ") ",
     "delete_cmd_prefix": "rm(",
     "library": "var_list.r",
     "varRefreshCmd": "cat(var_dic_list()) "
    }
   },
   "types_to_exclude": [
    "module",
    "function",
    "builtin_function_or_method",
    "instance",
    "_Feature"
   ],
   "window_display": false
  }
 },
 "nbformat": 4,
 "nbformat_minor": 2
}
