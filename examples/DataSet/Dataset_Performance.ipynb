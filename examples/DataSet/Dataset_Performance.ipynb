{
 "cells": [
  {
   "cell_type": "markdown",
   "metadata": {},
   "source": [
    "# DataSet Performance\n",
    "\n",
    "This notebook shows the trade-off between inserting data into a database row-by-row and as binary blobs. Inserting the data row-by-row means that we have direct access to all the data and may perform queries directly on the values of the data. On the other hand, as we shall see, this is much slower than inserting the data directly as binary blobs."
   ]
  },
  {
   "cell_type": "markdown",
   "metadata": {},
   "source": [
    "First, we choose a new location for the database to ensure that we don't add a bunch of benchmarking data to the default one."
   ]
  },
  {
   "cell_type": "code",
   "execution_count": 1,
   "metadata": {
    "execution": {
     "iopub.execute_input": "2020-10-04T05:22:29.759114Z",
     "iopub.status.busy": "2020-10-04T05:22:29.758185Z",
     "iopub.status.idle": "2020-10-04T05:22:30.898696Z",
     "shell.execute_reply": "2020-10-04T05:22:30.898029Z"
    }
   },
   "outputs": [
    {
     "name": "stdout",
     "output_type": "stream",
     "text": [
      "Logging hadn't been started.\n",
      "Activating auto-logging. Current session state plus future input saved.\n",
      "Filename       : /home/vsts/.qcodes/logs/command_history.log\n",
      "Mode           : append\n",
      "Output logging : True\n",
      "Raw input log  : False\n",
      "Timestamping   : True\n",
      "State          : active\n"
     ]
    },
    {
     "name": "stdout",
     "output_type": "stream",
     "text": [
      "Qcodes Logfile : /home/vsts/.qcodes/logs/201004-19075-qcodes.log\n"
     ]
    }
   ],
   "source": [
    "import os\n",
    "cwd = os.getcwd()\n",
    "import qcodes as qc\n",
    "qc.config[\"core\"][\"db_location\"] = os.path.join(cwd, 'testing.db')\n"
   ]
  },
  {
   "cell_type": "code",
   "execution_count": 2,
   "metadata": {
    "execution": {
     "iopub.execute_input": "2020-10-04T05:22:30.906569Z",
     "iopub.status.busy": "2020-10-04T05:22:30.904817Z",
     "iopub.status.idle": "2020-10-04T05:22:31.124227Z",
     "shell.execute_reply": "2020-10-04T05:22:31.123351Z"
    }
   },
   "outputs": [],
   "source": [
    "%matplotlib inline\n",
    "import time\n",
    "import matplotlib.pyplot as plt\n",
    "import numpy as np\n",
    "\n",
    "import qcodes as qc\n",
    "from qcodes.instrument.parameter import ManualParameter\n",
    "from qcodes.dataset.experiment_container import (Experiment,\n",
    "                                                 load_last_experiment,\n",
    "                                                 new_experiment)\n",
    "from qcodes.dataset.sqlite.database import initialise_database\n",
    "from qcodes import load_or_create_experiment\n",
    "from qcodes.dataset.measurements import Measurement"
   ]
  },
  {
   "cell_type": "code",
   "execution_count": 3,
   "metadata": {
    "execution": {
     "iopub.execute_input": "2020-10-04T05:22:31.128255Z",
     "iopub.status.busy": "2020-10-04T05:22:31.127468Z",
     "iopub.status.idle": "2020-10-04T05:22:31.233241Z",
     "shell.execute_reply": "2020-10-04T05:22:31.232602Z"
    }
   },
   "outputs": [
    {
     "name": "stdout",
     "output_type": "stream",
     "text": [
      "\r",
      "0it [00:00, ?it/s]"
     ]
    },
    {
     "name": "stdout",
     "output_type": "stream",
     "text": [
      "\r",
      "Upgrading database; v0 -> v1: : 0it [00:00, ?it/s]"
     ]
    },
    {
     "name": "stdout",
     "output_type": "stream",
     "text": [
      "\r",
      "Upgrading database; v0 -> v1: : 0it [00:00, ?it/s]"
     ]
    },
    {
     "name": "stdout",
     "output_type": "stream",
     "text": [
      "\n",
      "\r",
      "  0%|          | 0/1 [00:00<?, ?it/s]"
     ]
    },
    {
     "name": "stdout",
     "output_type": "stream",
     "text": [
      "\r",
      "Upgrading database; v1 -> v2:   0%|          | 0/1 [00:00<?, ?it/s]"
     ]
    },
    {
     "name": "stdout",
     "output_type": "stream",
     "text": [
      "\r",
      "Upgrading database; v1 -> v2: 100%|██████████| 1/1 [00:00<00:00, 513.76it/s]"
     ]
    },
    {
     "name": "stdout",
     "output_type": "stream",
     "text": [
      "\n",
      "\r",
      "0it [00:00, ?it/s]"
     ]
    },
    {
     "name": "stdout",
     "output_type": "stream",
     "text": [
      "\r",
      "Upgrading database; v2 -> v3: : 0it [00:00, ?it/s]"
     ]
    },
    {
     "name": "stdout",
     "output_type": "stream",
     "text": [
      "\r",
      "Upgrading database; v2 -> v3: : 0it [00:00, ?it/s]"
     ]
    },
    {
     "name": "stdout",
     "output_type": "stream",
     "text": [
      "\n",
      "\r",
      "0it [00:00, ?it/s]"
     ]
    },
    {
     "name": "stdout",
     "output_type": "stream",
     "text": [
      "\r",
      "Upgrading database; v3 -> v4: : 0it [00:00, ?it/s]"
     ]
    },
    {
     "name": "stdout",
     "output_type": "stream",
     "text": [
      "\r",
      "Upgrading database; v3 -> v4: : 0it [00:00, ?it/s]"
     ]
    },
    {
     "name": "stdout",
     "output_type": "stream",
     "text": [
      "\n",
      "\r",
      "  0%|          | 0/1 [00:00<?, ?it/s]"
     ]
    },
    {
     "name": "stdout",
     "output_type": "stream",
     "text": [
      "\r",
      "Upgrading database; v4 -> v5:   0%|          | 0/1 [00:00<?, ?it/s]"
     ]
    },
    {
     "name": "stdout",
     "output_type": "stream",
     "text": [
      "\r",
      "Upgrading database; v4 -> v5: 100%|██████████| 1/1 [00:00<00:00, 551.01it/s]"
     ]
    },
    {
     "name": "stdout",
     "output_type": "stream",
     "text": [
      "\n",
      "\r",
      "0it [00:00, ?it/s]"
     ]
    },
    {
     "name": "stdout",
     "output_type": "stream",
     "text": [
      "\r",
      "Upgrading database; v5 -> v6: : 0it [00:00, ?it/s]"
     ]
    },
    {
     "name": "stdout",
     "output_type": "stream",
     "text": [
      "\r",
      "Upgrading database; v5 -> v6: : 0it [00:00, ?it/s]"
     ]
    },
    {
     "name": "stdout",
     "output_type": "stream",
     "text": [
      "\n",
      "\r",
      "  0%|          | 0/1 [00:00<?, ?it/s]"
     ]
    },
    {
     "name": "stdout",
     "output_type": "stream",
     "text": [
      "\r",
      "Upgrading database; v6 -> v7:   0%|          | 0/1 [00:00<?, ?it/s]"
     ]
    },
    {
     "name": "stdout",
     "output_type": "stream",
     "text": [
      "\r",
      "Upgrading database; v6 -> v7: 100%|██████████| 1/1 [00:00<00:00, 337.41it/s]"
     ]
    },
    {
     "name": "stdout",
     "output_type": "stream",
     "text": [
      "\n",
      "\r",
      "  0%|          | 0/1 [00:00<?, ?it/s]"
     ]
    },
    {
     "name": "stdout",
     "output_type": "stream",
     "text": [
      "\r",
      "Upgrading database; v7 -> v8:   0%|          | 0/1 [00:00<?, ?it/s]"
     ]
    },
    {
     "name": "stdout",
     "output_type": "stream",
     "text": [
      "\r",
      "Upgrading database; v7 -> v8: 100%|██████████| 1/1 [00:00<00:00, 427.60it/s]"
     ]
    },
    {
     "name": "stdout",
     "output_type": "stream",
     "text": [
      "\n",
      "\r",
      "  0%|          | 0/1 [00:00<?, ?it/s]"
     ]
    },
    {
     "name": "stdout",
     "output_type": "stream",
     "text": [
      "\r",
      "Upgrading database; v8 -> v9:   0%|          | 0/1 [00:00<?, ?it/s]"
     ]
    },
    {
     "name": "stdout",
     "output_type": "stream",
     "text": [
      "\r",
      "Upgrading database; v8 -> v9: 100%|██████████| 1/1 [00:00<00:00, 426.34it/s]"
     ]
    },
    {
     "name": "stdout",
     "output_type": "stream",
     "text": [
      "\n"
     ]
    }
   ],
   "source": [
    "initialise_database()\n",
    "exp = load_or_create_experiment(experiment_name='tutorial_exp', sample_name=\"no sample\")"
   ]
  },
  {
   "cell_type": "markdown",
   "metadata": {},
   "source": [
    "Here, we define a simple function to benchmark the time it takes to insert n points with either numeric or array data type.\n",
    "We will compare both the time used to call ``add_result`` and the time used for the full measurement."
   ]
  },
  {
   "cell_type": "code",
   "execution_count": 4,
   "metadata": {
    "execution": {
     "iopub.execute_input": "2020-10-04T05:22:31.242077Z",
     "iopub.status.busy": "2020-10-04T05:22:31.241500Z",
     "iopub.status.idle": "2020-10-04T05:22:31.245597Z",
     "shell.execute_reply": "2020-10-04T05:22:31.244984Z"
    }
   },
   "outputs": [],
   "source": [
    "def insert_data(paramtype, npoints, nreps=1):\n",
    "\n",
    "    meas = Measurement(exp=exp)\n",
    "\n",
    "    x1 = ManualParameter('x1')\n",
    "    x2 = ManualParameter('x2')\n",
    "    x3 = ManualParameter('x3')\n",
    "    y1 = ManualParameter('y1')\n",
    "    y2 = ManualParameter('y2')\n",
    "\n",
    "    meas.register_parameter(x1, paramtype=paramtype)\n",
    "    meas.register_parameter(x2, paramtype=paramtype)\n",
    "    meas.register_parameter(x3, paramtype=paramtype)\n",
    "    meas.register_parameter(y1, setpoints=[x1, x2, x3],\n",
    "                            paramtype=paramtype)\n",
    "    meas.register_parameter(y2, setpoints=[x1, x2, x3],\n",
    "                            paramtype=paramtype)\n",
    "    start = time.perf_counter()\n",
    "    with meas.run() as datasaver:\n",
    "        start_adding = time.perf_counter()\n",
    "        for i in range(nreps):\n",
    "            datasaver.add_result((x1, np.random.rand(npoints)),\n",
    "                                 (x2, np.random.rand(npoints)),\n",
    "                                 (x3, np.random.rand(npoints)),\n",
    "                                 (y1, np.random.rand(npoints)),\n",
    "                                 (y2, np.random.rand(npoints)))\n",
    "        stop_adding = time.perf_counter()\n",
    "        run_id = datasaver.run_id\n",
    "    stop = time.perf_counter()\n",
    "    tot_time = stop - start\n",
    "    add_time = stop_adding - start_adding\n",
    "    return tot_time, add_time, run_id"
   ]
  },
  {
   "cell_type": "markdown",
   "metadata": {},
   "source": [
    "## Comparison between numeric/array data and binary blob"
   ]
  },
  {
   "cell_type": "markdown",
   "metadata": {},
   "source": [
    "### Case1: Short experiment time"
   ]
  },
  {
   "cell_type": "code",
   "execution_count": 5,
   "metadata": {
    "execution": {
     "iopub.execute_input": "2020-10-04T05:22:31.252195Z",
     "iopub.status.busy": "2020-10-04T05:22:31.251620Z",
     "iopub.status.idle": "2020-10-04T05:22:32.110760Z",
     "shell.execute_reply": "2020-10-04T05:22:32.111519Z"
    }
   },
   "outputs": [
    {
     "name": "stdout",
     "output_type": "stream",
     "text": [
      "Starting experimental run with id: 1. \n",
      "Starting experimental run with id: 2. \n",
      "Starting experimental run with id: 3. \n",
      "Starting experimental run with id: 4. \n",
      "Starting experimental run with id: 5. \n"
     ]
    },
    {
     "name": "stdout",
     "output_type": "stream",
     "text": [
      "Starting experimental run with id: 6. \n"
     ]
    },
    {
     "name": "stdout",
     "output_type": "stream",
     "text": [
      "Starting experimental run with id: 7. \n"
     ]
    },
    {
     "name": "stdout",
     "output_type": "stream",
     "text": [
      "Starting experimental run with id: 8. \n",
      "Starting experimental run with id: 9. \n"
     ]
    },
    {
     "name": "stdout",
     "output_type": "stream",
     "text": [
      "Starting experimental run with id: 10. \n",
      "Starting experimental run with id: 11. \n"
     ]
    },
    {
     "name": "stdout",
     "output_type": "stream",
     "text": [
      "Starting experimental run with id: 12. \n"
     ]
    },
    {
     "name": "stdout",
     "output_type": "stream",
     "text": [
      "Starting experimental run with id: 13. \n"
     ]
    },
    {
     "name": "stdout",
     "output_type": "stream",
     "text": [
      "Starting experimental run with id: 14. \n"
     ]
    }
   ],
   "source": [
    "sizes = [1,500,1000,2000,3000,4000,5000]\n",
    "t_numeric = []\n",
    "t_numeric_add = []\n",
    "t_array = []\n",
    "t_array_add = []\n",
    "for size in sizes:\n",
    "    tn, tna, run_id_n =  insert_data('numeric', size)\n",
    "    t_numeric.append(tn)\n",
    "    t_numeric_add.append(tna)\n",
    "\n",
    "    ta, taa, run_id_a =  insert_data('array', size)\n",
    "    t_array.append(ta)\n",
    "    t_array_add.append(taa)"
   ]
  },
  {
   "cell_type": "code",
   "execution_count": 6,
   "metadata": {
    "execution": {
     "iopub.execute_input": "2020-10-04T05:22:32.144020Z",
     "iopub.status.busy": "2020-10-04T05:22:32.143160Z",
     "iopub.status.idle": "2020-10-04T05:22:32.360699Z",
     "shell.execute_reply": "2020-10-04T05:22:32.361166Z"
    }
   },
   "outputs": [
    {
     "data": {
      "image/png": "[encoded data removed]",
      "text/plain": [
       "<Figure size 432x288 with 1 Axes>"
      ]
     },
     "metadata": {
      "needs_background": "light"
     },
     "output_type": "display_data"
    }
   ],
   "source": [
    "fig, ax = plt.subplots(1,1)\n",
    "ax.plot(sizes, t_numeric, 'o-', label='Inserting row-by-row')\n",
    "ax.plot(sizes, t_numeric_add, 'o-', label='Inserting row-by-row: add_result only')\n",
    "ax.plot(sizes, t_array, 'd-', label='Inserting as binary blob')\n",
    "ax.plot(sizes, t_array_add, 'd-', label='Inserting as binary blob: add_result only')\n",
    "ax.legend()\n",
    "ax.set_xlabel('Array length')\n",
    "ax.set_ylabel('Time (s)')\n",
    "fig.tight_layout()"
   ]
  },
  {
   "cell_type": "markdown",
   "metadata": {},
   "source": [
    "As shown in the latter figure, the time to setup and and close the experiment is approximately 0.4 sec. In case of small array sizes, the difference between inserting values of data as arrays and inserting them row-by-row is relatively unimportant. At larger array sizes, i.e. above 10000 points, the cost of writing data as individual datapoints starts to become important.\n"
   ]
  },
  {
   "cell_type": "markdown",
   "metadata": {},
   "source": [
    "### Case2: Long experiment time "
   ]
  },
  {
   "cell_type": "code",
   "execution_count": 7,
   "metadata": {
    "execution": {
     "iopub.execute_input": "2020-10-04T05:22:32.369173Z",
     "iopub.status.busy": "2020-10-04T05:22:32.368384Z",
     "iopub.status.idle": "2020-10-04T05:23:33.599328Z",
     "shell.execute_reply": "2020-10-04T05:23:33.598486Z"
    }
   },
   "outputs": [
    {
     "name": "stdout",
     "output_type": "stream",
     "text": [
      "Starting experimental run with id: 15. \n",
      "Starting experimental run with id: 16. \n",
      "Starting experimental run with id: 17. \n"
     ]
    },
    {
     "name": "stdout",
     "output_type": "stream",
     "text": [
      "Starting experimental run with id: 18. \n",
      "Starting experimental run with id: 19. \n"
     ]
    },
    {
     "name": "stdout",
     "output_type": "stream",
     "text": [
      "Starting experimental run with id: 20. \n"
     ]
    },
    {
     "name": "stdout",
     "output_type": "stream",
     "text": [
      "Starting experimental run with id: 21. \n"
     ]
    },
    {
     "name": "stdout",
     "output_type": "stream",
     "text": [
      "Starting experimental run with id: 22. \n"
     ]
    },
    {
     "name": "stdout",
     "output_type": "stream",
     "text": [
      "Starting experimental run with id: 23. \n"
     ]
    },
    {
     "name": "stdout",
     "output_type": "stream",
     "text": [
      "Starting experimental run with id: 24. \n"
     ]
    },
    {
     "name": "stdout",
     "output_type": "stream",
     "text": [
      "Starting experimental run with id: 25. \n"
     ]
    },
    {
     "name": "stdout",
     "output_type": "stream",
     "text": [
      "Starting experimental run with id: 26. \n"
     ]
    },
    {
     "name": "stdout",
     "output_type": "stream",
     "text": [
      "Starting experimental run with id: 27. \n"
     ]
    },
    {
     "name": "stdout",
     "output_type": "stream",
     "text": [
      "Starting experimental run with id: 28. \n"
     ]
    }
   ],
   "source": [
    "sizes = [1,500,1000,2000,3000,4000,5000]\n",
    "nreps = 100\n",
    "t_numeric = []\n",
    "t_numeric_add = []\n",
    "t_numeric_run_ids = []\n",
    "t_array = []\n",
    "t_array_add = []\n",
    "t_array_run_ids = []\n",
    "for size in sizes:\n",
    "    tn, tna, run_id_n =  insert_data('numeric', size, nreps=nreps)\n",
    "    t_numeric.append(tn)\n",
    "    t_numeric_add.append(tna)\n",
    "    t_numeric_run_ids.append(run_id_n)\n",
    "\n",
    "    ta, taa, run_id_a =  insert_data('array', size, nreps=nreps)\n",
    "    t_array.append(ta)\n",
    "    t_array_add.append(taa)\n",
    "    t_array_run_ids.append(run_id_a)"
   ]
  },
  {
   "cell_type": "code",
   "execution_count": 8,
   "metadata": {
    "execution": {
     "iopub.execute_input": "2020-10-04T05:23:33.621381Z",
     "iopub.status.busy": "2020-10-04T05:23:33.618822Z",
     "iopub.status.idle": "2020-10-04T05:23:33.845233Z",
     "shell.execute_reply": "2020-10-04T05:23:33.844574Z"
    },
    "scrolled": true
   },
   "outputs": [
    {
     "data": {
      "image/png": "[encoded data removed]",
      "text/plain": [
       "<Figure size 432x288 with 1 Axes>"
      ]
     },
     "metadata": {
      "needs_background": "light"
     },
     "output_type": "display_data"
    }
   ],
   "source": [
    "fig, ax = plt.subplots(1,1)\n",
    "ax.plot(sizes, t_numeric, 'o-', label='Inserting row-by-row')\n",
    "ax.plot(sizes, t_numeric_add, 'o-', label='Inserting row-by-row: add_result only')\n",
    "ax.plot(sizes, t_array, 'd-', label='Inserting as binary blob')\n",
    "ax.plot(sizes, t_array_add, 'd-', label='Inserting as binary blob: add_result only')\n",
    "ax.legend()\n",
    "ax.set_xlabel('Array length')\n",
    "ax.set_ylabel('Time (s)')\n",
    "fig.tight_layout()"
   ]
  },
  {
   "cell_type": "markdown",
   "metadata": {},
   "source": [
    "However, as we increase the length of the experiment, as seen here by repeating the insertion 100 times, we see a big difference between inserting values of the data row-by-row and inserting it as a binary blob."
   ]
  },
  {
   "cell_type": "markdown",
   "metadata": {},
   "source": [
    "## Loading the data "
   ]
  },
  {
   "cell_type": "code",
   "execution_count": 9,
   "metadata": {
    "execution": {
     "iopub.execute_input": "2020-10-04T05:23:33.853544Z",
     "iopub.status.busy": "2020-10-04T05:23:33.852221Z",
     "iopub.status.idle": "2020-10-04T05:23:33.857720Z",
     "shell.execute_reply": "2020-10-04T05:23:33.858316Z"
    }
   },
   "outputs": [],
   "source": [
    "from qcodes.dataset.data_set import load_by_id\n",
    "from qcodes.dataset.data_export import get_data_by_id"
   ]
  },
  {
   "cell_type": "markdown",
   "metadata": {},
   "source": [
    "As usual you can load the data by using the ``load_by_id`` function but you will notice that the different storage methods\n",
    "are reflected in shape of the data as it is retrieved. "
   ]
  },
  {
   "cell_type": "code",
   "execution_count": 10,
   "metadata": {
    "execution": {
     "iopub.execute_input": "2020-10-04T05:23:33.862681Z",
     "iopub.status.busy": "2020-10-04T05:23:33.862124Z",
     "iopub.status.idle": "2020-10-04T05:23:33.864549Z",
     "shell.execute_reply": "2020-10-04T05:23:33.865126Z"
    }
   },
   "outputs": [],
   "source": [
    "run_id_n = t_numeric_run_ids[0]\n",
    "run_id_a = t_array_run_ids[0]"
   ]
  },
  {
   "cell_type": "code",
   "execution_count": 11,
   "metadata": {
    "execution": {
     "iopub.execute_input": "2020-10-04T05:23:33.868518Z",
     "iopub.status.busy": "2020-10-04T05:23:33.867990Z",
     "iopub.status.idle": "2020-10-04T05:23:33.880224Z",
     "shell.execute_reply": "2020-10-04T05:23:33.880775Z"
    },
    "scrolled": true
   },
   "outputs": [
    {
     "data": {
      "text/plain": [
       "{'x1': {'x1': array([0.414321  , 0.414321  , 0.79203121, 0.79203121, 0.4893752 ,\n",
       "         0.4893752 , 0.64833415, 0.64833415, 0.76732808, 0.76732808,\n",
       "         0.63537244, 0.63537244, 0.90162348, 0.90162348, 0.77834625,\n",
       "         0.77834625, 0.04103141, 0.04103141, 0.04926593, 0.04926593,\n",
       "         0.27499439, 0.27499439, 0.0935999 , 0.0935999 , 0.3832152 ,\n",
       "         0.3832152 , 0.50116532, 0.50116532, 0.76887651, 0.76887651,\n",
       "         0.40666559, 0.40666559, 0.18748173, 0.18748173, 0.45269691,\n",
       "         0.45269691, 0.76736461, 0.76736461, 0.45085797, 0.45085797,\n",
       "         0.36201147, 0.36201147, 0.69649133, 0.69649133, 0.97076286,\n",
       "         0.97076286, 0.64563554, 0.64563554, 0.37241801, 0.37241801,\n",
       "         0.69269414, 0.69269414, 0.47280956, 0.47280956, 0.11138649,\n",
       "         0.11138649, 0.20147918, 0.20147918, 0.70031779, 0.70031779,\n",
       "         0.21738776, 0.21738776, 0.38126642, 0.38126642, 0.37575004,\n",
       "         0.37575004, 0.20967415, 0.20967415, 0.53265406, 0.53265406,\n",
       "         0.73062282, 0.73062282, 0.47971639, 0.47971639, 0.22476   ,\n",
       "         0.22476   , 0.29199817, 0.29199817, 0.42121295, 0.42121295,\n",
       "         0.27911253, 0.27911253, 0.42179168, 0.42179168, 0.1713302 ,\n",
       "         0.1713302 , 0.56806711, 0.56806711, 0.25599083, 0.25599083,\n",
       "         0.94720106, 0.94720106, 0.63616961, 0.63616961, 0.93876521,\n",
       "         0.93876521, 0.04680674, 0.04680674, 0.30325828, 0.30325828,\n",
       "         0.20494254, 0.20494254, 0.13408469, 0.13408469, 0.00296665,\n",
       "         0.00296665, 0.63338343, 0.63338343, 0.90343256, 0.90343256,\n",
       "         0.41794529, 0.41794529, 0.59277147, 0.59277147, 0.16350782,\n",
       "         0.16350782, 0.55917866, 0.55917866, 0.50544574, 0.50544574,\n",
       "         0.97014609, 0.97014609, 0.95648706, 0.95648706, 0.47927988,\n",
       "         0.47927988, 0.76700273, 0.76700273, 0.46905514, 0.46905514,\n",
       "         0.90607171, 0.90607171, 0.20717307, 0.20717307, 0.8246494 ,\n",
       "         0.8246494 , 0.52074906, 0.52074906, 0.4894505 , 0.4894505 ,\n",
       "         0.65387086, 0.65387086, 0.91649688, 0.91649688, 0.3355365 ,\n",
       "         0.3355365 , 0.78038776, 0.78038776, 0.47039246, 0.47039246,\n",
       "         0.2195387 , 0.2195387 , 0.79033826, 0.79033826, 0.45094877,\n",
       "         0.45094877, 0.72095973, 0.72095973, 0.76171719, 0.76171719,\n",
       "         0.55702742, 0.55702742, 0.47859133, 0.47859133, 0.08041599,\n",
       "         0.08041599, 0.0453242 , 0.0453242 , 0.01445503, 0.01445503,\n",
       "         0.06445253, 0.06445253, 0.74458786, 0.74458786, 0.39587784,\n",
       "         0.39587784, 0.97807321, 0.97807321, 0.74768104, 0.74768104,\n",
       "         0.06235203, 0.06235203, 0.64774728, 0.64774728, 0.16515954,\n",
       "         0.16515954, 0.93911277, 0.93911277, 0.91397557, 0.91397557,\n",
       "         0.94485507, 0.94485507, 0.21492282, 0.21492282, 0.23145649,\n",
       "         0.23145649, 0.27269764, 0.27269764, 0.28525379, 0.28525379])}}"
      ]
     },
     "execution_count": 1,
     "metadata": {},
     "output_type": "execute_result"
    }
   ],
   "source": [
    "ds = load_by_id(run_id_n)\n",
    "ds.get_parameter_data('x1')"
   ]
  },
  {
   "cell_type": "markdown",
   "metadata": {},
   "source": [
    "And a dataset stored as binary arrays"
   ]
  },
  {
   "cell_type": "code",
   "execution_count": 12,
   "metadata": {
    "execution": {
     "iopub.execute_input": "2020-10-04T05:23:33.884296Z",
     "iopub.status.busy": "2020-10-04T05:23:33.883755Z",
     "iopub.status.idle": "2020-10-04T05:23:33.952075Z",
     "shell.execute_reply": "2020-10-04T05:23:33.951345Z"
    },
    "scrolled": true
   },
   "outputs": [
    {
     "data": {
      "text/plain": [
       "{'x1': {'x1': array([[0.11950007],\n",
       "         [0.11950007],\n",
       "         [0.84361022],\n",
       "         [0.84361022],\n",
       "         [0.51367709],\n",
       "         [0.51367709],\n",
       "         [0.24384817],\n",
       "         [0.24384817],\n",
       "         [0.42822704],\n",
       "         [0.42822704],\n",
       "         [0.3871183 ],\n",
       "         [0.3871183 ],\n",
       "         [0.19176175],\n",
       "         [0.19176175],\n",
       "         [0.13183354],\n",
       "         [0.13183354],\n",
       "         [0.23448217],\n",
       "         [0.23448217],\n",
       "         [0.90844445],\n",
       "         [0.90844445],\n",
       "         [0.1052052 ],\n",
       "         [0.1052052 ],\n",
       "         [0.8141424 ],\n",
       "         [0.8141424 ],\n",
       "         [0.61783105],\n",
       "         [0.61783105],\n",
       "         [0.78170671],\n",
       "         [0.78170671],\n",
       "         [0.5126777 ],\n",
       "         [0.5126777 ],\n",
       "         [0.4046262 ],\n",
       "         [0.4046262 ],\n",
       "         [0.57265818],\n",
       "         [0.57265818],\n",
       "         [0.97766881],\n",
       "         [0.97766881],\n",
       "         [0.50910244],\n",
       "         [0.50910244],\n",
       "         [0.25992498],\n",
       "         [0.25992498],\n",
       "         [0.51531095],\n",
       "         [0.51531095],\n",
       "         [0.27837413],\n",
       "         [0.27837413],\n",
       "         [0.3851898 ],\n",
       "         [0.3851898 ],\n",
       "         [0.42018757],\n",
       "         [0.42018757],\n",
       "         [0.22304569],\n",
       "         [0.22304569],\n",
       "         [0.56759319],\n",
       "         [0.56759319],\n",
       "         [0.72800202],\n",
       "         [0.72800202],\n",
       "         [0.85928575],\n",
       "         [0.85928575],\n",
       "         [0.7505143 ],\n",
       "         [0.7505143 ],\n",
       "         [0.82252571],\n",
       "         [0.82252571],\n",
       "         [0.94539936],\n",
       "         [0.94539936],\n",
       "         [0.36522979],\n",
       "         [0.36522979],\n",
       "         [0.38167314],\n",
       "         [0.38167314],\n",
       "         [0.56094457],\n",
       "         [0.56094457],\n",
       "         [0.68202248],\n",
       "         [0.68202248],\n",
       "         [0.36041532],\n",
       "         [0.36041532],\n",
       "         [0.42596827],\n",
       "         [0.42596827],\n",
       "         [0.49173636],\n",
       "         [0.49173636],\n",
       "         [0.15310868],\n",
       "         [0.15310868],\n",
       "         [0.49434052],\n",
       "         [0.49434052],\n",
       "         [0.86413767],\n",
       "         [0.86413767],\n",
       "         [0.77849762],\n",
       "         [0.77849762],\n",
       "         [0.8124369 ],\n",
       "         [0.8124369 ],\n",
       "         [0.41907159],\n",
       "         [0.41907159],\n",
       "         [0.79885114],\n",
       "         [0.79885114],\n",
       "         [0.32849176],\n",
       "         [0.32849176],\n",
       "         [0.80921591],\n",
       "         [0.80921591],\n",
       "         [0.12359305],\n",
       "         [0.12359305],\n",
       "         [0.58710934],\n",
       "         [0.58710934],\n",
       "         [0.23185968],\n",
       "         [0.23185968],\n",
       "         [0.74604666],\n",
       "         [0.74604666],\n",
       "         [0.63000663],\n",
       "         [0.63000663],\n",
       "         [0.06226409],\n",
       "         [0.06226409],\n",
       "         [0.70812232],\n",
       "         [0.70812232],\n",
       "         [0.42961756],\n",
       "         [0.42961756],\n",
       "         [0.11488551],\n",
       "         [0.11488551],\n",
       "         [0.36924888],\n",
       "         [0.36924888],\n",
       "         [0.45326183],\n",
       "         [0.45326183],\n",
       "         [0.38490503],\n",
       "         [0.38490503],\n",
       "         [0.34776297],\n",
       "         [0.34776297],\n",
       "         [0.50458503],\n",
       "         [0.50458503],\n",
       "         [0.9620078 ],\n",
       "         [0.9620078 ],\n",
       "         [0.84679123],\n",
       "         [0.84679123],\n",
       "         [0.50366524],\n",
       "         [0.50366524],\n",
       "         [0.58885226],\n",
       "         [0.58885226],\n",
       "         [0.09014278],\n",
       "         [0.09014278],\n",
       "         [0.77871158],\n",
       "         [0.77871158],\n",
       "         [0.59736557],\n",
       "         [0.59736557],\n",
       "         [0.92597822],\n",
       "         [0.92597822],\n",
       "         [0.74334452],\n",
       "         [0.74334452],\n",
       "         [0.44116211],\n",
       "         [0.44116211],\n",
       "         [0.70129342],\n",
       "         [0.70129342],\n",
       "         [0.19778571],\n",
       "         [0.19778571],\n",
       "         [0.31886691],\n",
       "         [0.31886691],\n",
       "         [0.32865879],\n",
       "         [0.32865879],\n",
       "         [0.68830974],\n",
       "         [0.68830974],\n",
       "         [0.23318353],\n",
       "         [0.23318353],\n",
       "         [0.12628442],\n",
       "         [0.12628442],\n",
       "         [0.2934722 ],\n",
       "         [0.2934722 ],\n",
       "         [0.88907911],\n",
       "         [0.88907911],\n",
       "         [0.38605118],\n",
       "         [0.38605118],\n",
       "         [0.03296943],\n",
       "         [0.03296943],\n",
       "         [0.99313957],\n",
       "         [0.99313957],\n",
       "         [0.67416574],\n",
       "         [0.67416574],\n",
       "         [0.11379775],\n",
       "         [0.11379775],\n",
       "         [0.17680839],\n",
       "         [0.17680839],\n",
       "         [0.30113224],\n",
       "         [0.30113224],\n",
       "         [0.43600306],\n",
       "         [0.43600306],\n",
       "         [0.00776027],\n",
       "         [0.00776027],\n",
       "         [0.17935654],\n",
       "         [0.17935654],\n",
       "         [0.37414354],\n",
       "         [0.37414354],\n",
       "         [0.56477779],\n",
       "         [0.56477779],\n",
       "         [0.50705619],\n",
       "         [0.50705619],\n",
       "         [0.01019177],\n",
       "         [0.01019177],\n",
       "         [0.69787191],\n",
       "         [0.69787191],\n",
       "         [0.86750324],\n",
       "         [0.86750324],\n",
       "         [0.28987764],\n",
       "         [0.28987764],\n",
       "         [0.49190446],\n",
       "         [0.49190446],\n",
       "         [0.44085995],\n",
       "         [0.44085995],\n",
       "         [0.69328003],\n",
       "         [0.69328003]])}}"
      ]
     },
     "execution_count": 1,
     "metadata": {},
     "output_type": "execute_result"
    }
   ],
   "source": [
    "ds = load_by_id(run_id_a)\n",
    "ds.get_parameter_data('x1')"
   ]
  },
  {
   "cell_type": "code",
   "execution_count": null,
   "metadata": {},
   "outputs": [],
   "source": []
  }
 ],
 "metadata": {
  "kernelspec": {
   "display_name": "Python 3",
   "language": "python",
   "name": "python3"
  },
  "language_info": {
   "codemirror_mode": {
    "name": "ipython",
    "version": 3
   },
   "file_extension": ".py",
   "mimetype": "text/x-python",
   "name": "python",
   "nbconvert_exporter": "python",
   "pygments_lexer": "ipython3",
   "version": "3.7.7"
  },
  "nbsphinx": {
   "timeout": 600
  },
  "toc": {
   "base_numbering": 1,
   "nav_menu": {},
   "number_sections": true,
   "sideBar": true,
   "skip_h1_title": false,
   "title_cell": "Table of Contents",
   "title_sidebar": "Contents",
   "toc_cell": false,
   "toc_position": {},
   "toc_section_display": true,
   "toc_window_display": false
  },
  "varInspector": {
   "cols": {
    "lenName": 16,
    "lenType": 16,
    "lenVar": 40
   },
   "kernels_config": {
    "python": {
     "delete_cmd_postfix": "",
     "delete_cmd_prefix": "del ",
     "library": "var_list.py",
     "varRefreshCmd": "print(var_dic_list())"
    },
    "r": {
     "delete_cmd_postfix": ") ",
     "delete_cmd_prefix": "rm(",
     "library": "var_list.r",
     "varRefreshCmd": "cat(var_dic_list()) "
    }
   },
   "types_to_exclude": [
    "module",
    "function",
    "builtin_function_or_method",
    "instance",
    "_Feature"
   ],
   "window_display": false
  }
 },
 "nbformat": 4,
 "nbformat_minor": 2
}
