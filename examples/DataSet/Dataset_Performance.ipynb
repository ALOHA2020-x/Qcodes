{
 "cells": [
  {
   "cell_type": "markdown",
   "metadata": {},
   "source": [
    "# DataSet Performance\n",
    "\n",
    "This notebook shows the trade-off between inserting data into a database row-by-row and as binary blobs. Inserting the data row-by-row means that we have direct access to all the data and may perform queries directly on the values of the data. On the other hand, as we shall see, this is much slower than inserting the data directly as binary blobs."
   ]
  },
  {
   "cell_type": "markdown",
   "metadata": {},
   "source": [
    "First, we choose a new location for the database to ensure that we don't add a bunch of benchmarking data to the default one."
   ]
  },
  {
   "cell_type": "code",
   "execution_count": 1,
   "metadata": {
    "execution": {
     "iopub.execute_input": "2020-12-03T19:06:01.726631Z",
     "iopub.status.busy": "2020-12-03T19:06:01.725844Z",
     "iopub.status.idle": "2020-12-03T19:06:02.787733Z",
     "shell.execute_reply": "2020-12-03T19:06:02.788304Z"
    }
   },
   "outputs": [
    {
     "name": "stdout",
     "output_type": "stream",
     "text": [
      "Logging hadn't been started.\n",
      "Activating auto-logging. Current session state plus future input saved.\n",
      "Filename       : /home/vsts/.qcodes/logs/command_history.log\n",
      "Mode           : append\n",
      "Output logging : True\n",
      "Raw input log  : False\n",
      "Timestamping   : True\n",
      "State          : active\n"
     ]
    },
    {
     "name": "stdout",
     "output_type": "stream",
     "text": [
      "Qcodes Logfile : /home/vsts/.qcodes/logs/201203-13901-qcodes.log\n"
     ]
    }
   ],
   "source": [
    "import os\n",
    "cwd = os.getcwd()\n",
    "import qcodes as qc\n",
    "qc.config[\"core\"][\"db_location\"] = os.path.join(cwd, 'testing.db')\n"
   ]
  },
  {
   "cell_type": "code",
   "execution_count": 2,
   "metadata": {
    "execution": {
     "iopub.execute_input": "2020-12-03T19:06:02.795005Z",
     "iopub.status.busy": "2020-12-03T19:06:02.794261Z",
     "iopub.status.idle": "2020-12-03T19:06:02.986766Z",
     "shell.execute_reply": "2020-12-03T19:06:02.985800Z"
    }
   },
   "outputs": [],
   "source": [
    "%matplotlib inline\n",
    "import time\n",
    "import matplotlib.pyplot as plt\n",
    "import numpy as np\n",
    "\n",
    "import qcodes as qc\n",
    "from qcodes.instrument.parameter import ManualParameter\n",
    "from qcodes.dataset.experiment_container import (Experiment,\n",
    "                                                 load_last_experiment,\n",
    "                                                 new_experiment)\n",
    "from qcodes.dataset.sqlite.database import initialise_database\n",
    "from qcodes import load_or_create_experiment\n",
    "from qcodes.dataset.measurements import Measurement"
   ]
  },
  {
   "cell_type": "code",
   "execution_count": 3,
   "metadata": {
    "execution": {
     "iopub.execute_input": "2020-12-03T19:06:02.991098Z",
     "iopub.status.busy": "2020-12-03T19:06:02.990119Z",
     "iopub.status.idle": "2020-12-03T19:06:03.116175Z",
     "shell.execute_reply": "2020-12-03T19:06:03.115496Z"
    }
   },
   "outputs": [
    {
     "name": "stdout",
     "output_type": "stream",
     "text": [
      "\r",
      "0it [00:00, ?it/s]"
     ]
    },
    {
     "name": "stdout",
     "output_type": "stream",
     "text": [
      "\r",
      "Upgrading database; v0 -> v1: : 0it [00:00, ?it/s]"
     ]
    },
    {
     "name": "stdout",
     "output_type": "stream",
     "text": [
      "\r",
      "Upgrading database; v0 -> v1: : 0it [00:00, ?it/s]"
     ]
    },
    {
     "name": "stdout",
     "output_type": "stream",
     "text": [
      "\n",
      "\r",
      "  0%|          | 0/1 [00:00<?, ?it/s]"
     ]
    },
    {
     "name": "stdout",
     "output_type": "stream",
     "text": [
      "\r",
      "Upgrading database; v1 -> v2:   0%|          | 0/1 [00:00<?, ?it/s]"
     ]
    },
    {
     "name": "stdout",
     "output_type": "stream",
     "text": [
      "\r",
      "Upgrading database; v1 -> v2: 100%|██████████| 1/1 [00:00<00:00, 754.64it/s]"
     ]
    },
    {
     "name": "stdout",
     "output_type": "stream",
     "text": [
      "\n",
      "\r",
      "0it [00:00, ?it/s]"
     ]
    },
    {
     "name": "stdout",
     "output_type": "stream",
     "text": [
      "\r",
      "Upgrading database; v2 -> v3: : 0it [00:00, ?it/s]"
     ]
    },
    {
     "name": "stdout",
     "output_type": "stream",
     "text": [
      "\r",
      "Upgrading database; v2 -> v3: : 0it [00:00, ?it/s]"
     ]
    },
    {
     "name": "stdout",
     "output_type": "stream",
     "text": [
      "\n",
      "\r",
      "0it [00:00, ?it/s]"
     ]
    },
    {
     "name": "stdout",
     "output_type": "stream",
     "text": [
      "\r",
      "Upgrading database; v3 -> v4: : 0it [00:00, ?it/s]"
     ]
    },
    {
     "name": "stdout",
     "output_type": "stream",
     "text": [
      "\r",
      "Upgrading database; v3 -> v4: : 0it [00:00, ?it/s]"
     ]
    },
    {
     "name": "stdout",
     "output_type": "stream",
     "text": [
      "\n",
      "\r",
      "  0%|          | 0/1 [00:00<?, ?it/s]"
     ]
    },
    {
     "name": "stdout",
     "output_type": "stream",
     "text": [
      "\r",
      "Upgrading database; v4 -> v5:   0%|          | 0/1 [00:00<?, ?it/s]"
     ]
    },
    {
     "name": "stdout",
     "output_type": "stream",
     "text": [
      "\r",
      "Upgrading database; v4 -> v5: 100%|██████████| 1/1 [00:00<00:00, 469.06it/s]"
     ]
    },
    {
     "name": "stdout",
     "output_type": "stream",
     "text": [
      "\n",
      "\r",
      "0it [00:00, ?it/s]"
     ]
    },
    {
     "name": "stdout",
     "output_type": "stream",
     "text": [
      "\r",
      "Upgrading database; v5 -> v6: : 0it [00:00, ?it/s]"
     ]
    },
    {
     "name": "stdout",
     "output_type": "stream",
     "text": [
      "\r",
      "Upgrading database; v5 -> v6: : 0it [00:00, ?it/s]"
     ]
    },
    {
     "name": "stdout",
     "output_type": "stream",
     "text": [
      "\n",
      "\r",
      "  0%|          | 0/1 [00:00<?, ?it/s]"
     ]
    },
    {
     "name": "stdout",
     "output_type": "stream",
     "text": [
      "\r",
      "Upgrading database; v6 -> v7:   0%|          | 0/1 [00:00<?, ?it/s]"
     ]
    },
    {
     "name": "stdout",
     "output_type": "stream",
     "text": [
      "\r",
      "Upgrading database; v6 -> v7: 100%|██████████| 1/1 [00:00<00:00, 273.58it/s]"
     ]
    },
    {
     "name": "stdout",
     "output_type": "stream",
     "text": [
      "\n",
      "\r",
      "  0%|          | 0/1 [00:00<?, ?it/s]"
     ]
    },
    {
     "name": "stdout",
     "output_type": "stream",
     "text": [
      "\r",
      "Upgrading database; v7 -> v8:   0%|          | 0/1 [00:00<?, ?it/s]"
     ]
    },
    {
     "name": "stdout",
     "output_type": "stream",
     "text": [
      "\r",
      "Upgrading database; v7 -> v8: 100%|██████████| 1/1 [00:00<00:00, 455.70it/s]"
     ]
    },
    {
     "name": "stdout",
     "output_type": "stream",
     "text": [
      "\n",
      "\r",
      "  0%|          | 0/1 [00:00<?, ?it/s]"
     ]
    },
    {
     "name": "stdout",
     "output_type": "stream",
     "text": [
      "\r",
      "Upgrading database; v8 -> v9:   0%|          | 0/1 [00:00<?, ?it/s]"
     ]
    },
    {
     "name": "stdout",
     "output_type": "stream",
     "text": [
      "\r",
      "Upgrading database; v8 -> v9: 100%|██████████| 1/1 [00:00<00:00, 491.31it/s]"
     ]
    },
    {
     "name": "stdout",
     "output_type": "stream",
     "text": [
      "\n"
     ]
    }
   ],
   "source": [
    "initialise_database()\n",
    "exp = load_or_create_experiment(experiment_name='tutorial_exp', sample_name=\"no sample\")"
   ]
  },
  {
   "cell_type": "markdown",
   "metadata": {},
   "source": [
    "Here, we define a simple function to benchmark the time it takes to insert n points with either numeric or array data type.\n",
    "We will compare both the time used to call ``add_result`` and the time used for the full measurement."
   ]
  },
  {
   "cell_type": "code",
   "execution_count": 4,
   "metadata": {
    "execution": {
     "iopub.execute_input": "2020-12-03T19:06:03.124019Z",
     "iopub.status.busy": "2020-12-03T19:06:03.122600Z",
     "iopub.status.idle": "2020-12-03T19:06:03.126433Z",
     "shell.execute_reply": "2020-12-03T19:06:03.126836Z"
    }
   },
   "outputs": [],
   "source": [
    "def insert_data(paramtype, npoints, nreps=1):\n",
    "\n",
    "    meas = Measurement(exp=exp)\n",
    "\n",
    "    x1 = ManualParameter('x1')\n",
    "    x2 = ManualParameter('x2')\n",
    "    x3 = ManualParameter('x3')\n",
    "    y1 = ManualParameter('y1')\n",
    "    y2 = ManualParameter('y2')\n",
    "\n",
    "    meas.register_parameter(x1, paramtype=paramtype)\n",
    "    meas.register_parameter(x2, paramtype=paramtype)\n",
    "    meas.register_parameter(x3, paramtype=paramtype)\n",
    "    meas.register_parameter(y1, setpoints=[x1, x2, x3],\n",
    "                            paramtype=paramtype)\n",
    "    meas.register_parameter(y2, setpoints=[x1, x2, x3],\n",
    "                            paramtype=paramtype)\n",
    "    start = time.perf_counter()\n",
    "    with meas.run() as datasaver:\n",
    "        start_adding = time.perf_counter()\n",
    "        for i in range(nreps):\n",
    "            datasaver.add_result((x1, np.random.rand(npoints)),\n",
    "                                 (x2, np.random.rand(npoints)),\n",
    "                                 (x3, np.random.rand(npoints)),\n",
    "                                 (y1, np.random.rand(npoints)),\n",
    "                                 (y2, np.random.rand(npoints)))\n",
    "        stop_adding = time.perf_counter()\n",
    "        run_id = datasaver.run_id\n",
    "    stop = time.perf_counter()\n",
    "    tot_time = stop - start\n",
    "    add_time = stop_adding - start_adding\n",
    "    return tot_time, add_time, run_id"
   ]
  },
  {
   "cell_type": "markdown",
   "metadata": {},
   "source": [
    "## Comparison between numeric/array data and binary blob"
   ]
  },
  {
   "cell_type": "markdown",
   "metadata": {},
   "source": [
    "### Case1: Short experiment time"
   ]
  },
  {
   "cell_type": "code",
   "execution_count": 5,
   "metadata": {
    "execution": {
     "iopub.execute_input": "2020-12-03T19:06:03.132675Z",
     "iopub.status.busy": "2020-12-03T19:06:03.131615Z",
     "iopub.status.idle": "2020-12-03T19:06:04.036805Z",
     "shell.execute_reply": "2020-12-03T19:06:04.037219Z"
    }
   },
   "outputs": [
    {
     "name": "stdout",
     "output_type": "stream",
     "text": [
      "Starting experimental run with id: 1. \n",
      "Starting experimental run with id: 2. \n",
      "Starting experimental run with id: 3. \n",
      "Starting experimental run with id: 4. \n",
      "Starting experimental run with id: 5. \n"
     ]
    },
    {
     "name": "stdout",
     "output_type": "stream",
     "text": [
      "Starting experimental run with id: 6. \n"
     ]
    },
    {
     "name": "stdout",
     "output_type": "stream",
     "text": [
      "Starting experimental run with id: 7. \n"
     ]
    },
    {
     "name": "stdout",
     "output_type": "stream",
     "text": [
      "Starting experimental run with id: 8. \n",
      "Starting experimental run with id: 9. \n"
     ]
    },
    {
     "name": "stdout",
     "output_type": "stream",
     "text": [
      "Starting experimental run with id: 10. \n",
      "Starting experimental run with id: 11. \n"
     ]
    },
    {
     "name": "stdout",
     "output_type": "stream",
     "text": [
      "Starting experimental run with id: 12. \n"
     ]
    },
    {
     "name": "stdout",
     "output_type": "stream",
     "text": [
      "Starting experimental run with id: 13. \n"
     ]
    },
    {
     "name": "stdout",
     "output_type": "stream",
     "text": [
      "Starting experimental run with id: 14. \n"
     ]
    }
   ],
   "source": [
    "sizes = [1,500,1000,2000,3000,4000,5000]\n",
    "t_numeric = []\n",
    "t_numeric_add = []\n",
    "t_array = []\n",
    "t_array_add = []\n",
    "for size in sizes:\n",
    "    tn, tna, run_id_n =  insert_data('numeric', size)\n",
    "    t_numeric.append(tn)\n",
    "    t_numeric_add.append(tna)\n",
    "\n",
    "    ta, taa, run_id_a =  insert_data('array', size)\n",
    "    t_array.append(ta)\n",
    "    t_array_add.append(taa)"
   ]
  },
  {
   "cell_type": "code",
   "execution_count": 6,
   "metadata": {
    "execution": {
     "iopub.execute_input": "2020-12-03T19:06:04.054616Z",
     "iopub.status.busy": "2020-12-03T19:06:04.054120Z",
     "iopub.status.idle": "2020-12-03T19:06:04.232721Z",
     "shell.execute_reply": "2020-12-03T19:06:04.233140Z"
    }
   },
   "outputs": [
    {
     "data": {
      "image/png": "[encoded data removed]",
      "text/plain": [
       "<Figure size 432x288 with 1 Axes>"
      ]
     },
     "metadata": {
      "needs_background": "light"
     },
     "output_type": "display_data"
    }
   ],
   "source": [
    "fig, ax = plt.subplots(1,1)\n",
    "ax.plot(sizes, t_numeric, 'o-', label='Inserting row-by-row')\n",
    "ax.plot(sizes, t_numeric_add, 'o-', label='Inserting row-by-row: add_result only')\n",
    "ax.plot(sizes, t_array, 'd-', label='Inserting as binary blob')\n",
    "ax.plot(sizes, t_array_add, 'd-', label='Inserting as binary blob: add_result only')\n",
    "ax.legend()\n",
    "ax.set_xlabel('Array length')\n",
    "ax.set_ylabel('Time (s)')\n",
    "fig.tight_layout()"
   ]
  },
  {
   "cell_type": "markdown",
   "metadata": {},
   "source": [
    "As shown in the latter figure, the time to setup and and close the experiment is approximately 0.4 sec. In case of small array sizes, the difference between inserting values of data as arrays and inserting them row-by-row is relatively unimportant. At larger array sizes, i.e. above 10000 points, the cost of writing data as individual datapoints starts to become important.\n"
   ]
  },
  {
   "cell_type": "markdown",
   "metadata": {},
   "source": [
    "### Case2: Long experiment time "
   ]
  },
  {
   "cell_type": "code",
   "execution_count": 7,
   "metadata": {
    "execution": {
     "iopub.execute_input": "2020-12-03T19:06:04.240497Z",
     "iopub.status.busy": "2020-12-03T19:06:04.239188Z",
     "iopub.status.idle": "2020-12-03T19:07:05.339163Z",
     "shell.execute_reply": "2020-12-03T19:07:05.338715Z"
    }
   },
   "outputs": [
    {
     "name": "stdout",
     "output_type": "stream",
     "text": [
      "Starting experimental run with id: 15. \n",
      "Starting experimental run with id: 16. \n",
      "Starting experimental run with id: 17. \n"
     ]
    },
    {
     "name": "stdout",
     "output_type": "stream",
     "text": [
      "Starting experimental run with id: 18. \n",
      "Starting experimental run with id: 19. \n"
     ]
    },
    {
     "name": "stdout",
     "output_type": "stream",
     "text": [
      "Starting experimental run with id: 20. \n"
     ]
    },
    {
     "name": "stdout",
     "output_type": "stream",
     "text": [
      "Starting experimental run with id: 21. \n"
     ]
    },
    {
     "name": "stdout",
     "output_type": "stream",
     "text": [
      "Starting experimental run with id: 22. \n"
     ]
    },
    {
     "name": "stdout",
     "output_type": "stream",
     "text": [
      "Starting experimental run with id: 23. \n"
     ]
    },
    {
     "name": "stdout",
     "output_type": "stream",
     "text": [
      "Starting experimental run with id: 24. \n"
     ]
    },
    {
     "name": "stdout",
     "output_type": "stream",
     "text": [
      "Starting experimental run with id: 25. \n"
     ]
    },
    {
     "name": "stdout",
     "output_type": "stream",
     "text": [
      "Starting experimental run with id: 26. \n"
     ]
    },
    {
     "name": "stdout",
     "output_type": "stream",
     "text": [
      "Starting experimental run with id: 27. \n"
     ]
    },
    {
     "name": "stdout",
     "output_type": "stream",
     "text": [
      "Starting experimental run with id: 28. \n"
     ]
    }
   ],
   "source": [
    "sizes = [1,500,1000,2000,3000,4000,5000]\n",
    "nreps = 100\n",
    "t_numeric = []\n",
    "t_numeric_add = []\n",
    "t_numeric_run_ids = []\n",
    "t_array = []\n",
    "t_array_add = []\n",
    "t_array_run_ids = []\n",
    "for size in sizes:\n",
    "    tn, tna, run_id_n =  insert_data('numeric', size, nreps=nreps)\n",
    "    t_numeric.append(tn)\n",
    "    t_numeric_add.append(tna)\n",
    "    t_numeric_run_ids.append(run_id_n)\n",
    "\n",
    "    ta, taa, run_id_a =  insert_data('array', size, nreps=nreps)\n",
    "    t_array.append(ta)\n",
    "    t_array_add.append(taa)\n",
    "    t_array_run_ids.append(run_id_a)"
   ]
  },
  {
   "cell_type": "code",
   "execution_count": 8,
   "metadata": {
    "execution": {
     "iopub.execute_input": "2020-12-03T19:07:05.366436Z",
     "iopub.status.busy": "2020-12-03T19:07:05.344224Z",
     "iopub.status.idle": "2020-12-03T19:07:05.537804Z",
     "shell.execute_reply": "2020-12-03T19:07:05.538503Z"
    },
    "scrolled": true
   },
   "outputs": [
    {
     "data": {
      "image/png": "[encoded data removed]",
      "text/plain": [
       "<Figure size 432x288 with 1 Axes>"
      ]
     },
     "metadata": {
      "needs_background": "light"
     },
     "output_type": "display_data"
    }
   ],
   "source": [
    "fig, ax = plt.subplots(1,1)\n",
    "ax.plot(sizes, t_numeric, 'o-', label='Inserting row-by-row')\n",
    "ax.plot(sizes, t_numeric_add, 'o-', label='Inserting row-by-row: add_result only')\n",
    "ax.plot(sizes, t_array, 'd-', label='Inserting as binary blob')\n",
    "ax.plot(sizes, t_array_add, 'd-', label='Inserting as binary blob: add_result only')\n",
    "ax.legend()\n",
    "ax.set_xlabel('Array length')\n",
    "ax.set_ylabel('Time (s)')\n",
    "fig.tight_layout()"
   ]
  },
  {
   "cell_type": "markdown",
   "metadata": {},
   "source": [
    "However, as we increase the length of the experiment, as seen here by repeating the insertion 100 times, we see a big difference between inserting values of the data row-by-row and inserting it as a binary blob."
   ]
  },
  {
   "cell_type": "markdown",
   "metadata": {},
   "source": [
    "## Loading the data "
   ]
  },
  {
   "cell_type": "code",
   "execution_count": 9,
   "metadata": {
    "execution": {
     "iopub.execute_input": "2020-12-03T19:07:05.542721Z",
     "iopub.status.busy": "2020-12-03T19:07:05.541866Z",
     "iopub.status.idle": "2020-12-03T19:07:05.545175Z",
     "shell.execute_reply": "2020-12-03T19:07:05.545557Z"
    }
   },
   "outputs": [],
   "source": [
    "from qcodes.dataset.data_set import load_by_id\n",
    "from qcodes.dataset.data_export import get_data_by_id"
   ]
  },
  {
   "cell_type": "markdown",
   "metadata": {},
   "source": [
    "As usual you can load the data by using the ``load_by_id`` function but you will notice that the different storage methods\n",
    "are reflected in shape of the data as it is retrieved. "
   ]
  },
  {
   "cell_type": "code",
   "execution_count": 10,
   "metadata": {
    "execution": {
     "iopub.execute_input": "2020-12-03T19:07:05.548938Z",
     "iopub.status.busy": "2020-12-03T19:07:05.548473Z",
     "iopub.status.idle": "2020-12-03T19:07:05.550818Z",
     "shell.execute_reply": "2020-12-03T19:07:05.550381Z"
    }
   },
   "outputs": [],
   "source": [
    "run_id_n = t_numeric_run_ids[0]\n",
    "run_id_a = t_array_run_ids[0]"
   ]
  },
  {
   "cell_type": "code",
   "execution_count": 11,
   "metadata": {
    "execution": {
     "iopub.execute_input": "2020-12-03T19:07:05.553903Z",
     "iopub.status.busy": "2020-12-03T19:07:05.553396Z",
     "iopub.status.idle": "2020-12-03T19:07:05.561684Z",
     "shell.execute_reply": "2020-12-03T19:07:05.562073Z"
    },
    "scrolled": true
   },
   "outputs": [
    {
     "data": {
      "text/plain": [
       "{'x1': {'x1': array([0.06912191, 0.06912191, 0.1942152 , 0.1942152 , 0.32553348,\n",
       "         0.32553348, 0.93057677, 0.93057677, 0.77579913, 0.77579913,\n",
       "         0.764379  , 0.764379  , 0.8332471 , 0.8332471 , 0.26364244,\n",
       "         0.26364244, 0.40201667, 0.40201667, 0.19510668, 0.19510668,\n",
       "         0.96215878, 0.96215878, 0.67264519, 0.67264519, 0.80155985,\n",
       "         0.80155985, 0.98164499, 0.98164499, 0.09537009, 0.09537009,\n",
       "         0.15065094, 0.15065094, 0.54192027, 0.54192027, 0.75254595,\n",
       "         0.75254595, 0.23388077, 0.23388077, 0.71530045, 0.71530045,\n",
       "         0.81935587, 0.81935587, 0.13841096, 0.13841096, 0.02715392,\n",
       "         0.02715392, 0.59880182, 0.59880182, 0.03939217, 0.03939217,\n",
       "         0.13380227, 0.13380227, 0.76063801, 0.76063801, 0.74417277,\n",
       "         0.74417277, 0.78015613, 0.78015613, 0.49866873, 0.49866873,\n",
       "         0.67512493, 0.67512493, 0.65984174, 0.65984174, 0.77066348,\n",
       "         0.77066348, 0.50344532, 0.50344532, 0.73395791, 0.73395791,\n",
       "         0.00650406, 0.00650406, 0.11336294, 0.11336294, 0.10793261,\n",
       "         0.10793261, 0.99061018, 0.99061018, 0.42236703, 0.42236703,\n",
       "         0.64895306, 0.64895306, 0.42342943, 0.42342943, 0.30250622,\n",
       "         0.30250622, 0.77101632, 0.77101632, 0.35783177, 0.35783177,\n",
       "         0.28840575, 0.28840575, 0.21223846, 0.21223846, 0.32300631,\n",
       "         0.32300631, 0.04889141, 0.04889141, 0.22593658, 0.22593658,\n",
       "         0.37557566, 0.37557566, 0.22029922, 0.22029922, 0.72825233,\n",
       "         0.72825233, 0.6256261 , 0.6256261 , 0.40524964, 0.40524964,\n",
       "         0.97877524, 0.97877524, 0.34418054, 0.34418054, 0.28843919,\n",
       "         0.28843919, 0.59508625, 0.59508625, 0.01545372, 0.01545372,\n",
       "         0.38538287, 0.38538287, 0.56885956, 0.56885956, 0.66823382,\n",
       "         0.66823382, 0.4893149 , 0.4893149 , 0.25336267, 0.25336267,\n",
       "         0.63684393, 0.63684393, 0.24897385, 0.24897385, 0.98486368,\n",
       "         0.98486368, 0.59833979, 0.59833979, 0.37660379, 0.37660379,\n",
       "         0.82325746, 0.82325746, 0.5519153 , 0.5519153 , 0.82775183,\n",
       "         0.82775183, 0.57901823, 0.57901823, 0.81895716, 0.81895716,\n",
       "         0.17770599, 0.17770599, 0.46697599, 0.46697599, 0.17464166,\n",
       "         0.17464166, 0.96720685, 0.96720685, 0.39258127, 0.39258127,\n",
       "         0.56677199, 0.56677199, 0.52354819, 0.52354819, 0.99563034,\n",
       "         0.99563034, 0.32514856, 0.32514856, 0.75353254, 0.75353254,\n",
       "         0.38360636, 0.38360636, 0.36966036, 0.36966036, 0.3503404 ,\n",
       "         0.3503404 , 0.39318159, 0.39318159, 0.05579629, 0.05579629,\n",
       "         0.9733983 , 0.9733983 , 0.89420453, 0.89420453, 0.91659369,\n",
       "         0.91659369, 0.69160175, 0.69160175, 0.83064719, 0.83064719,\n",
       "         0.24811661, 0.24811661, 0.8756642 , 0.8756642 , 0.62793951,\n",
       "         0.62793951, 0.21877448, 0.21877448, 0.75745945, 0.75745945])}}"
      ]
     },
     "execution_count": 1,
     "metadata": {},
     "output_type": "execute_result"
    }
   ],
   "source": [
    "ds = load_by_id(run_id_n)\n",
    "ds.get_parameter_data('x1')"
   ]
  },
  {
   "cell_type": "markdown",
   "metadata": {},
   "source": [
    "And a dataset stored as binary arrays"
   ]
  },
  {
   "cell_type": "code",
   "execution_count": 12,
   "metadata": {
    "execution": {
     "iopub.execute_input": "2020-12-03T19:07:05.565190Z",
     "iopub.status.busy": "2020-12-03T19:07:05.564516Z",
     "iopub.status.idle": "2020-12-03T19:07:05.618603Z",
     "shell.execute_reply": "2020-12-03T19:07:05.619504Z"
    },
    "scrolled": true
   },
   "outputs": [
    {
     "data": {
      "text/plain": [
       "{'x1': {'x1': array([[0.11165577],\n",
       "         [0.11165577],\n",
       "         [0.76058389],\n",
       "         [0.76058389],\n",
       "         [0.95810945],\n",
       "         [0.95810945],\n",
       "         [0.86235272],\n",
       "         [0.86235272],\n",
       "         [0.02176581],\n",
       "         [0.02176581],\n",
       "         [0.73926951],\n",
       "         [0.73926951],\n",
       "         [0.16588131],\n",
       "         [0.16588131],\n",
       "         [0.59756153],\n",
       "         [0.59756153],\n",
       "         [0.89728796],\n",
       "         [0.89728796],\n",
       "         [0.80360498],\n",
       "         [0.80360498],\n",
       "         [0.92566574],\n",
       "         [0.92566574],\n",
       "         [0.30096555],\n",
       "         [0.30096555],\n",
       "         [0.36295096],\n",
       "         [0.36295096],\n",
       "         [0.1008742 ],\n",
       "         [0.1008742 ],\n",
       "         [0.03965658],\n",
       "         [0.03965658],\n",
       "         [0.01568088],\n",
       "         [0.01568088],\n",
       "         [0.79183429],\n",
       "         [0.79183429],\n",
       "         [0.17598283],\n",
       "         [0.17598283],\n",
       "         [0.99692675],\n",
       "         [0.99692675],\n",
       "         [0.81296288],\n",
       "         [0.81296288],\n",
       "         [0.66811789],\n",
       "         [0.66811789],\n",
       "         [0.42181453],\n",
       "         [0.42181453],\n",
       "         [0.51791584],\n",
       "         [0.51791584],\n",
       "         [0.58905577],\n",
       "         [0.58905577],\n",
       "         [0.73761732],\n",
       "         [0.73761732],\n",
       "         [0.48056867],\n",
       "         [0.48056867],\n",
       "         [0.37428887],\n",
       "         [0.37428887],\n",
       "         [0.15937042],\n",
       "         [0.15937042],\n",
       "         [0.13214008],\n",
       "         [0.13214008],\n",
       "         [0.89808492],\n",
       "         [0.89808492],\n",
       "         [0.58294315],\n",
       "         [0.58294315],\n",
       "         [0.42270709],\n",
       "         [0.42270709],\n",
       "         [0.85973099],\n",
       "         [0.85973099],\n",
       "         [0.4308915 ],\n",
       "         [0.4308915 ],\n",
       "         [0.88198458],\n",
       "         [0.88198458],\n",
       "         [0.20286696],\n",
       "         [0.20286696],\n",
       "         [0.24828771],\n",
       "         [0.24828771],\n",
       "         [0.04307082],\n",
       "         [0.04307082],\n",
       "         [0.33828887],\n",
       "         [0.33828887],\n",
       "         [0.81357969],\n",
       "         [0.81357969],\n",
       "         [0.78671158],\n",
       "         [0.78671158],\n",
       "         [0.02459218],\n",
       "         [0.02459218],\n",
       "         [0.78208437],\n",
       "         [0.78208437],\n",
       "         [0.91041483],\n",
       "         [0.91041483],\n",
       "         [0.92621733],\n",
       "         [0.92621733],\n",
       "         [0.77699092],\n",
       "         [0.77699092],\n",
       "         [0.7023973 ],\n",
       "         [0.7023973 ],\n",
       "         [0.25163913],\n",
       "         [0.25163913],\n",
       "         [0.41044169],\n",
       "         [0.41044169],\n",
       "         [0.16472281],\n",
       "         [0.16472281],\n",
       "         [0.93231819],\n",
       "         [0.93231819],\n",
       "         [0.42819257],\n",
       "         [0.42819257],\n",
       "         [0.78370009],\n",
       "         [0.78370009],\n",
       "         [0.02819161],\n",
       "         [0.02819161],\n",
       "         [0.09977364],\n",
       "         [0.09977364],\n",
       "         [0.97404714],\n",
       "         [0.97404714],\n",
       "         [0.72938427],\n",
       "         [0.72938427],\n",
       "         [0.93499071],\n",
       "         [0.93499071],\n",
       "         [0.78534107],\n",
       "         [0.78534107],\n",
       "         [0.79149556],\n",
       "         [0.79149556],\n",
       "         [0.13717142],\n",
       "         [0.13717142],\n",
       "         [0.77444079],\n",
       "         [0.77444079],\n",
       "         [0.9592807 ],\n",
       "         [0.9592807 ],\n",
       "         [0.68327216],\n",
       "         [0.68327216],\n",
       "         [0.32690786],\n",
       "         [0.32690786],\n",
       "         [0.14670716],\n",
       "         [0.14670716],\n",
       "         [0.10306578],\n",
       "         [0.10306578],\n",
       "         [0.07134795],\n",
       "         [0.07134795],\n",
       "         [0.28297139],\n",
       "         [0.28297139],\n",
       "         [0.37612057],\n",
       "         [0.37612057],\n",
       "         [0.61488866],\n",
       "         [0.61488866],\n",
       "         [0.7705558 ],\n",
       "         [0.7705558 ],\n",
       "         [0.33704926],\n",
       "         [0.33704926],\n",
       "         [0.97119267],\n",
       "         [0.97119267],\n",
       "         [0.64210284],\n",
       "         [0.64210284],\n",
       "         [0.54979503],\n",
       "         [0.54979503],\n",
       "         [0.97237073],\n",
       "         [0.97237073],\n",
       "         [0.58215615],\n",
       "         [0.58215615],\n",
       "         [0.97666857],\n",
       "         [0.97666857],\n",
       "         [0.67830755],\n",
       "         [0.67830755],\n",
       "         [0.81013706],\n",
       "         [0.81013706],\n",
       "         [0.15187192],\n",
       "         [0.15187192],\n",
       "         [0.09287519],\n",
       "         [0.09287519],\n",
       "         [0.48494496],\n",
       "         [0.48494496],\n",
       "         [0.57882364],\n",
       "         [0.57882364],\n",
       "         [0.7977626 ],\n",
       "         [0.7977626 ],\n",
       "         [0.76184466],\n",
       "         [0.76184466],\n",
       "         [0.1706405 ],\n",
       "         [0.1706405 ],\n",
       "         [0.72022063],\n",
       "         [0.72022063],\n",
       "         [0.52835677],\n",
       "         [0.52835677],\n",
       "         [0.85266553],\n",
       "         [0.85266553],\n",
       "         [0.53341528],\n",
       "         [0.53341528],\n",
       "         [0.82970069],\n",
       "         [0.82970069],\n",
       "         [0.360073  ],\n",
       "         [0.360073  ],\n",
       "         [0.17771067],\n",
       "         [0.17771067],\n",
       "         [0.10917154],\n",
       "         [0.10917154],\n",
       "         [0.94617846],\n",
       "         [0.94617846],\n",
       "         [0.10852762],\n",
       "         [0.10852762],\n",
       "         [0.72925496],\n",
       "         [0.72925496],\n",
       "         [0.53681466],\n",
       "         [0.53681466]])}}"
      ]
     },
     "execution_count": 1,
     "metadata": {},
     "output_type": "execute_result"
    }
   ],
   "source": [
    "ds = load_by_id(run_id_a)\n",
    "ds.get_parameter_data('x1')"
   ]
  },
  {
   "cell_type": "code",
   "execution_count": null,
   "metadata": {},
   "outputs": [],
   "source": []
  }
 ],
 "metadata": {
  "kernelspec": {
   "display_name": "Python 3",
   "language": "python",
   "name": "python3"
  },
  "language_info": {
   "codemirror_mode": {
    "name": "ipython",
    "version": 3
   },
   "file_extension": ".py",
   "mimetype": "text/x-python",
   "name": "python",
   "nbconvert_exporter": "python",
   "pygments_lexer": "ipython3",
   "version": "3.7.9"
  },
  "nbsphinx": {
   "timeout": 600
  },
  "toc": {
   "base_numbering": 1,
   "nav_menu": {},
   "number_sections": true,
   "sideBar": true,
   "skip_h1_title": false,
   "title_cell": "Table of Contents",
   "title_sidebar": "Contents",
   "toc_cell": false,
   "toc_position": {},
   "toc_section_display": true,
   "toc_window_display": false
  },
  "varInspector": {
   "cols": {
    "lenName": 16,
    "lenType": 16,
    "lenVar": 40
   },
   "kernels_config": {
    "python": {
     "delete_cmd_postfix": "",
     "delete_cmd_prefix": "del ",
     "library": "var_list.py",
     "varRefreshCmd": "print(var_dic_list())"
    },
    "r": {
     "delete_cmd_postfix": ") ",
     "delete_cmd_prefix": "rm(",
     "library": "var_list.r",
     "varRefreshCmd": "cat(var_dic_list()) "
    }
   },
   "types_to_exclude": [
    "module",
    "function",
    "builtin_function_or_method",
    "instance",
    "_Feature"
   ],
   "window_display": false
  }
 },
 "nbformat": 4,
 "nbformat_minor": 2
}
