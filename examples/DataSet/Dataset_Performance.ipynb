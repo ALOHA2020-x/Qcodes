{
 "cells": [
  {
   "cell_type": "markdown",
   "metadata": {},
   "source": [
    "# DataSet Performance\n",
    "\n",
    "This notebook shows the trade-off between inserting data into a database row-by-row and as binary blobs. Inserting the data row-by-row means that we have direct access to all the data and may perform queries directly on the values of the data. On the other hand, as we shall see, this is much slower than inserting the data directly as binary blobs."
   ]
  },
  {
   "cell_type": "markdown",
   "metadata": {},
   "source": [
    "First, we choose a new location for the database to ensure that we don't add a bunch of benchmarking data to the default one."
   ]
  },
  {
   "cell_type": "code",
   "execution_count": 1,
   "metadata": {
    "execution": {
     "iopub.execute_input": "2020-11-23T09:55:05.142942Z",
     "iopub.status.busy": "2020-11-23T09:55:05.142425Z",
     "iopub.status.idle": "2020-11-23T09:55:06.110751Z",
     "shell.execute_reply": "2020-11-23T09:55:06.111217Z"
    }
   },
   "outputs": [
    {
     "name": "stdout",
     "output_type": "stream",
     "text": [
      "Logging hadn't been started.\n",
      "Activating auto-logging. Current session state plus future input saved.\n",
      "Filename       : /home/vsts/.qcodes/logs/command_history.log\n",
      "Mode           : append\n",
      "Output logging : True\n",
      "Raw input log  : False\n",
      "Timestamping   : True\n",
      "State          : active\n"
     ]
    },
    {
     "name": "stdout",
     "output_type": "stream",
     "text": [
      "Qcodes Logfile : /home/vsts/.qcodes/logs/201123-14265-qcodes.log\n"
     ]
    }
   ],
   "source": [
    "import os\n",
    "cwd = os.getcwd()\n",
    "import qcodes as qc\n",
    "qc.config[\"core\"][\"db_location\"] = os.path.join(cwd, 'testing.db')\n"
   ]
  },
  {
   "cell_type": "code",
   "execution_count": 2,
   "metadata": {
    "execution": {
     "iopub.execute_input": "2020-11-23T09:55:06.117730Z",
     "iopub.status.busy": "2020-11-23T09:55:06.117193Z",
     "iopub.status.idle": "2020-11-23T09:55:06.290166Z",
     "shell.execute_reply": "2020-11-23T09:55:06.289608Z"
    }
   },
   "outputs": [],
   "source": [
    "%matplotlib inline\n",
    "import time\n",
    "import matplotlib.pyplot as plt\n",
    "import numpy as np\n",
    "\n",
    "import qcodes as qc\n",
    "from qcodes.instrument.parameter import ManualParameter\n",
    "from qcodes.dataset.experiment_container import (Experiment,\n",
    "                                                 load_last_experiment,\n",
    "                                                 new_experiment)\n",
    "from qcodes.dataset.sqlite.database import initialise_database\n",
    "from qcodes import load_or_create_experiment\n",
    "from qcodes.dataset.measurements import Measurement"
   ]
  },
  {
   "cell_type": "code",
   "execution_count": 3,
   "metadata": {
    "execution": {
     "iopub.execute_input": "2020-11-23T09:55:06.295484Z",
     "iopub.status.busy": "2020-11-23T09:55:06.294068Z",
     "iopub.status.idle": "2020-11-23T09:55:06.391401Z",
     "shell.execute_reply": "2020-11-23T09:55:06.390920Z"
    }
   },
   "outputs": [
    {
     "name": "stdout",
     "output_type": "stream",
     "text": [
      "\r",
      "0it [00:00, ?it/s]"
     ]
    },
    {
     "name": "stdout",
     "output_type": "stream",
     "text": [
      "\r",
      "Upgrading database; v0 -> v1: : 0it [00:00, ?it/s]"
     ]
    },
    {
     "name": "stdout",
     "output_type": "stream",
     "text": [
      "\r",
      "Upgrading database; v0 -> v1: : 0it [00:00, ?it/s]"
     ]
    },
    {
     "name": "stdout",
     "output_type": "stream",
     "text": [
      "\n",
      "\r",
      "  0%|          | 0/1 [00:00<?, ?it/s]"
     ]
    },
    {
     "name": "stdout",
     "output_type": "stream",
     "text": [
      "\r",
      "Upgrading database; v1 -> v2:   0%|          | 0/1 [00:00<?, ?it/s]"
     ]
    },
    {
     "name": "stdout",
     "output_type": "stream",
     "text": [
      "\r",
      "Upgrading database; v1 -> v2: 100%|██████████| 1/1 [00:00<00:00, 526.33it/s]"
     ]
    },
    {
     "name": "stdout",
     "output_type": "stream",
     "text": [
      "\n",
      "\r",
      "0it [00:00, ?it/s]"
     ]
    },
    {
     "name": "stdout",
     "output_type": "stream",
     "text": [
      "\r",
      "Upgrading database; v2 -> v3: : 0it [00:00, ?it/s]"
     ]
    },
    {
     "name": "stdout",
     "output_type": "stream",
     "text": [
      "\r",
      "Upgrading database; v2 -> v3: : 0it [00:00, ?it/s]"
     ]
    },
    {
     "name": "stdout",
     "output_type": "stream",
     "text": [
      "\n",
      "\r",
      "0it [00:00, ?it/s]"
     ]
    },
    {
     "name": "stdout",
     "output_type": "stream",
     "text": [
      "\r",
      "Upgrading database; v3 -> v4: : 0it [00:00, ?it/s]"
     ]
    },
    {
     "name": "stdout",
     "output_type": "stream",
     "text": [
      "\r",
      "Upgrading database; v3 -> v4: : 0it [00:00, ?it/s]"
     ]
    },
    {
     "name": "stdout",
     "output_type": "stream",
     "text": [
      "\n",
      "\r",
      "  0%|          | 0/1 [00:00<?, ?it/s]"
     ]
    },
    {
     "name": "stdout",
     "output_type": "stream",
     "text": [
      "\r",
      "Upgrading database; v4 -> v5:   0%|          | 0/1 [00:00<?, ?it/s]"
     ]
    },
    {
     "name": "stdout",
     "output_type": "stream",
     "text": [
      "\r",
      "Upgrading database; v4 -> v5: 100%|██████████| 1/1 [00:00<00:00, 1000.31it/s]"
     ]
    },
    {
     "name": "stdout",
     "output_type": "stream",
     "text": [
      "\n",
      "\r",
      "0it [00:00, ?it/s]"
     ]
    },
    {
     "name": "stdout",
     "output_type": "stream",
     "text": [
      "\r",
      "Upgrading database; v5 -> v6: : 0it [00:00, ?it/s]"
     ]
    },
    {
     "name": "stdout",
     "output_type": "stream",
     "text": [
      "\r",
      "Upgrading database; v5 -> v6: : 0it [00:00, ?it/s]"
     ]
    },
    {
     "name": "stdout",
     "output_type": "stream",
     "text": [
      "\n",
      "\r",
      "  0%|          | 0/1 [00:00<?, ?it/s]"
     ]
    },
    {
     "name": "stdout",
     "output_type": "stream",
     "text": [
      "\r",
      "Upgrading database; v6 -> v7:   0%|          | 0/1 [00:00<?, ?it/s]"
     ]
    },
    {
     "name": "stdout",
     "output_type": "stream",
     "text": [
      "\r",
      "Upgrading database; v6 -> v7: 100%|██████████| 1/1 [00:00<00:00, 298.17it/s]"
     ]
    },
    {
     "name": "stdout",
     "output_type": "stream",
     "text": [
      "\n",
      "\r",
      "  0%|          | 0/1 [00:00<?, ?it/s]"
     ]
    },
    {
     "name": "stdout",
     "output_type": "stream",
     "text": [
      "\r",
      "Upgrading database; v7 -> v8:   0%|          | 0/1 [00:00<?, ?it/s]"
     ]
    },
    {
     "name": "stdout",
     "output_type": "stream",
     "text": [
      "\r",
      "Upgrading database; v7 -> v8: 100%|██████████| 1/1 [00:00<00:00, 1109.02it/s]"
     ]
    },
    {
     "name": "stdout",
     "output_type": "stream",
     "text": [
      "\n",
      "\r",
      "  0%|          | 0/1 [00:00<?, ?it/s]"
     ]
    },
    {
     "name": "stdout",
     "output_type": "stream",
     "text": [
      "\r",
      "Upgrading database; v8 -> v9:   0%|          | 0/1 [00:00<?, ?it/s]"
     ]
    },
    {
     "name": "stdout",
     "output_type": "stream",
     "text": [
      "\r",
      "Upgrading database; v8 -> v9: 100%|██████████| 1/1 [00:00<00:00, 1175.20it/s]"
     ]
    },
    {
     "name": "stdout",
     "output_type": "stream",
     "text": [
      "\n"
     ]
    }
   ],
   "source": [
    "initialise_database()\n",
    "exp = load_or_create_experiment(experiment_name='tutorial_exp', sample_name=\"no sample\")"
   ]
  },
  {
   "cell_type": "markdown",
   "metadata": {},
   "source": [
    "Here, we define a simple function to benchmark the time it takes to insert n points with either numeric or array data type.\n",
    "We will compare both the time used to call ``add_result`` and the time used for the full measurement."
   ]
  },
  {
   "cell_type": "code",
   "execution_count": 4,
   "metadata": {
    "execution": {
     "iopub.execute_input": "2020-11-23T09:55:06.400487Z",
     "iopub.status.busy": "2020-11-23T09:55:06.399199Z",
     "iopub.status.idle": "2020-11-23T09:55:06.401088Z",
     "shell.execute_reply": "2020-11-23T09:55:06.401518Z"
    }
   },
   "outputs": [],
   "source": [
    "def insert_data(paramtype, npoints, nreps=1):\n",
    "\n",
    "    meas = Measurement(exp=exp)\n",
    "\n",
    "    x1 = ManualParameter('x1')\n",
    "    x2 = ManualParameter('x2')\n",
    "    x3 = ManualParameter('x3')\n",
    "    y1 = ManualParameter('y1')\n",
    "    y2 = ManualParameter('y2')\n",
    "\n",
    "    meas.register_parameter(x1, paramtype=paramtype)\n",
    "    meas.register_parameter(x2, paramtype=paramtype)\n",
    "    meas.register_parameter(x3, paramtype=paramtype)\n",
    "    meas.register_parameter(y1, setpoints=[x1, x2, x3],\n",
    "                            paramtype=paramtype)\n",
    "    meas.register_parameter(y2, setpoints=[x1, x2, x3],\n",
    "                            paramtype=paramtype)\n",
    "    start = time.perf_counter()\n",
    "    with meas.run() as datasaver:\n",
    "        start_adding = time.perf_counter()\n",
    "        for i in range(nreps):\n",
    "            datasaver.add_result((x1, np.random.rand(npoints)),\n",
    "                                 (x2, np.random.rand(npoints)),\n",
    "                                 (x3, np.random.rand(npoints)),\n",
    "                                 (y1, np.random.rand(npoints)),\n",
    "                                 (y2, np.random.rand(npoints)))\n",
    "        stop_adding = time.perf_counter()\n",
    "        run_id = datasaver.run_id\n",
    "    stop = time.perf_counter()\n",
    "    tot_time = stop - start\n",
    "    add_time = stop_adding - start_adding\n",
    "    return tot_time, add_time, run_id"
   ]
  },
  {
   "cell_type": "markdown",
   "metadata": {},
   "source": [
    "## Comparison between numeric/array data and binary blob"
   ]
  },
  {
   "cell_type": "markdown",
   "metadata": {},
   "source": [
    "### Case1: Short experiment time"
   ]
  },
  {
   "cell_type": "code",
   "execution_count": 5,
   "metadata": {
    "execution": {
     "iopub.execute_input": "2020-11-23T09:55:06.407938Z",
     "iopub.status.busy": "2020-11-23T09:55:06.407309Z",
     "iopub.status.idle": "2020-11-23T09:55:07.192014Z",
     "shell.execute_reply": "2020-11-23T09:55:07.191518Z"
    }
   },
   "outputs": [
    {
     "name": "stdout",
     "output_type": "stream",
     "text": [
      "Starting experimental run with id: 1. \n",
      "Starting experimental run with id: 2. \n",
      "Starting experimental run with id: 3. \n",
      "Starting experimental run with id: 4. \n",
      "Starting experimental run with id: 5. \n"
     ]
    },
    {
     "name": "stdout",
     "output_type": "stream",
     "text": [
      "Starting experimental run with id: 6. \n"
     ]
    },
    {
     "name": "stdout",
     "output_type": "stream",
     "text": [
      "Starting experimental run with id: 7. \n"
     ]
    },
    {
     "name": "stdout",
     "output_type": "stream",
     "text": [
      "Starting experimental run with id: 8. \n",
      "Starting experimental run with id: 9. \n"
     ]
    },
    {
     "name": "stdout",
     "output_type": "stream",
     "text": [
      "Starting experimental run with id: 10. \n",
      "Starting experimental run with id: 11. \n"
     ]
    },
    {
     "name": "stdout",
     "output_type": "stream",
     "text": [
      "Starting experimental run with id: 12. \n",
      "Starting experimental run with id: 13. \n"
     ]
    },
    {
     "name": "stdout",
     "output_type": "stream",
     "text": [
      "Starting experimental run with id: 14. \n"
     ]
    }
   ],
   "source": [
    "sizes = [1,500,1000,2000,3000,4000,5000]\n",
    "t_numeric = []\n",
    "t_numeric_add = []\n",
    "t_array = []\n",
    "t_array_add = []\n",
    "for size in sizes:\n",
    "    tn, tna, run_id_n =  insert_data('numeric', size)\n",
    "    t_numeric.append(tn)\n",
    "    t_numeric_add.append(tna)\n",
    "\n",
    "    ta, taa, run_id_a =  insert_data('array', size)\n",
    "    t_array.append(ta)\n",
    "    t_array_add.append(taa)"
   ]
  },
  {
   "cell_type": "code",
   "execution_count": 6,
   "metadata": {
    "execution": {
     "iopub.execute_input": "2020-11-23T09:55:07.208917Z",
     "iopub.status.busy": "2020-11-23T09:55:07.208360Z",
     "iopub.status.idle": "2020-11-23T09:55:07.376802Z",
     "shell.execute_reply": "2020-11-23T09:55:07.377610Z"
    }
   },
   "outputs": [
    {
     "data": {
      "image/png": "[encoded data removed]",
      "text/plain": [
       "<Figure size 432x288 with 1 Axes>"
      ]
     },
     "metadata": {
      "needs_background": "light"
     },
     "output_type": "display_data"
    }
   ],
   "source": [
    "fig, ax = plt.subplots(1,1)\n",
    "ax.plot(sizes, t_numeric, 'o-', label='Inserting row-by-row')\n",
    "ax.plot(sizes, t_numeric_add, 'o-', label='Inserting row-by-row: add_result only')\n",
    "ax.plot(sizes, t_array, 'd-', label='Inserting as binary blob')\n",
    "ax.plot(sizes, t_array_add, 'd-', label='Inserting as binary blob: add_result only')\n",
    "ax.legend()\n",
    "ax.set_xlabel('Array length')\n",
    "ax.set_ylabel('Time (s)')\n",
    "fig.tight_layout()"
   ]
  },
  {
   "cell_type": "markdown",
   "metadata": {},
   "source": [
    "As shown in the latter figure, the time to setup and and close the experiment is approximately 0.4 sec. In case of small array sizes, the difference between inserting values of data as arrays and inserting them row-by-row is relatively unimportant. At larger array sizes, i.e. above 10000 points, the cost of writing data as individual datapoints starts to become important.\n"
   ]
  },
  {
   "cell_type": "markdown",
   "metadata": {},
   "source": [
    "### Case2: Long experiment time "
   ]
  },
  {
   "cell_type": "code",
   "execution_count": 7,
   "metadata": {
    "execution": {
     "iopub.execute_input": "2020-11-23T09:55:07.381228Z",
     "iopub.status.busy": "2020-11-23T09:55:07.380145Z",
     "iopub.status.idle": "2020-11-23T09:56:02.245658Z",
     "shell.execute_reply": "2020-11-23T09:56:02.244531Z"
    }
   },
   "outputs": [
    {
     "name": "stdout",
     "output_type": "stream",
     "text": [
      "Starting experimental run with id: 15. \n",
      "Starting experimental run with id: 16. \n",
      "Starting experimental run with id: 17. \n"
     ]
    },
    {
     "name": "stdout",
     "output_type": "stream",
     "text": [
      "Starting experimental run with id: 18. \n",
      "Starting experimental run with id: 19. \n"
     ]
    },
    {
     "name": "stdout",
     "output_type": "stream",
     "text": [
      "Starting experimental run with id: 20. \n"
     ]
    },
    {
     "name": "stdout",
     "output_type": "stream",
     "text": [
      "Starting experimental run with id: 21. \n"
     ]
    },
    {
     "name": "stdout",
     "output_type": "stream",
     "text": [
      "Starting experimental run with id: 22. \n"
     ]
    },
    {
     "name": "stdout",
     "output_type": "stream",
     "text": [
      "Starting experimental run with id: 23. \n"
     ]
    },
    {
     "name": "stdout",
     "output_type": "stream",
     "text": [
      "Starting experimental run with id: 24. \n"
     ]
    },
    {
     "name": "stdout",
     "output_type": "stream",
     "text": [
      "Starting experimental run with id: 25. \n"
     ]
    },
    {
     "name": "stdout",
     "output_type": "stream",
     "text": [
      "Starting experimental run with id: 26. \n"
     ]
    },
    {
     "name": "stdout",
     "output_type": "stream",
     "text": [
      "Starting experimental run with id: 27. \n"
     ]
    },
    {
     "name": "stdout",
     "output_type": "stream",
     "text": [
      "Starting experimental run with id: 28. \n"
     ]
    }
   ],
   "source": [
    "sizes = [1,500,1000,2000,3000,4000,5000]\n",
    "nreps = 100\n",
    "t_numeric = []\n",
    "t_numeric_add = []\n",
    "t_numeric_run_ids = []\n",
    "t_array = []\n",
    "t_array_add = []\n",
    "t_array_run_ids = []\n",
    "for size in sizes:\n",
    "    tn, tna, run_id_n =  insert_data('numeric', size, nreps=nreps)\n",
    "    t_numeric.append(tn)\n",
    "    t_numeric_add.append(tna)\n",
    "    t_numeric_run_ids.append(run_id_n)\n",
    "\n",
    "    ta, taa, run_id_a =  insert_data('array', size, nreps=nreps)\n",
    "    t_array.append(ta)\n",
    "    t_array_add.append(taa)\n",
    "    t_array_run_ids.append(run_id_a)"
   ]
  },
  {
   "cell_type": "code",
   "execution_count": 8,
   "metadata": {
    "execution": {
     "iopub.execute_input": "2020-11-23T09:56:02.275057Z",
     "iopub.status.busy": "2020-11-23T09:56:02.272179Z",
     "iopub.status.idle": "2020-11-23T09:56:02.442673Z",
     "shell.execute_reply": "2020-11-23T09:56:02.443439Z"
    },
    "scrolled": true
   },
   "outputs": [
    {
     "data": {
      "image/png": "[encoded data removed]",
      "text/plain": [
       "<Figure size 432x288 with 1 Axes>"
      ]
     },
     "metadata": {
      "needs_background": "light"
     },
     "output_type": "display_data"
    }
   ],
   "source": [
    "fig, ax = plt.subplots(1,1)\n",
    "ax.plot(sizes, t_numeric, 'o-', label='Inserting row-by-row')\n",
    "ax.plot(sizes, t_numeric_add, 'o-', label='Inserting row-by-row: add_result only')\n",
    "ax.plot(sizes, t_array, 'd-', label='Inserting as binary blob')\n",
    "ax.plot(sizes, t_array_add, 'd-', label='Inserting as binary blob: add_result only')\n",
    "ax.legend()\n",
    "ax.set_xlabel('Array length')\n",
    "ax.set_ylabel('Time (s)')\n",
    "fig.tight_layout()"
   ]
  },
  {
   "cell_type": "markdown",
   "metadata": {},
   "source": [
    "However, as we increase the length of the experiment, as seen here by repeating the insertion 100 times, we see a big difference between inserting values of the data row-by-row and inserting it as a binary blob."
   ]
  },
  {
   "cell_type": "markdown",
   "metadata": {},
   "source": [
    "## Loading the data "
   ]
  },
  {
   "cell_type": "code",
   "execution_count": 9,
   "metadata": {
    "execution": {
     "iopub.execute_input": "2020-11-23T09:56:02.447729Z",
     "iopub.status.busy": "2020-11-23T09:56:02.446921Z",
     "iopub.status.idle": "2020-11-23T09:56:02.451408Z",
     "shell.execute_reply": "2020-11-23T09:56:02.450940Z"
    }
   },
   "outputs": [],
   "source": [
    "from qcodes.dataset.data_set import load_by_id\n",
    "from qcodes.dataset.data_export import get_data_by_id"
   ]
  },
  {
   "cell_type": "markdown",
   "metadata": {},
   "source": [
    "As usual you can load the data by using the ``load_by_id`` function but you will notice that the different storage methods\n",
    "are reflected in shape of the data as it is retrieved. "
   ]
  },
  {
   "cell_type": "code",
   "execution_count": 10,
   "metadata": {
    "execution": {
     "iopub.execute_input": "2020-11-23T09:56:02.455384Z",
     "iopub.status.busy": "2020-11-23T09:56:02.454822Z",
     "iopub.status.idle": "2020-11-23T09:56:02.458195Z",
     "shell.execute_reply": "2020-11-23T09:56:02.457737Z"
    }
   },
   "outputs": [],
   "source": [
    "run_id_n = t_numeric_run_ids[0]\n",
    "run_id_a = t_array_run_ids[0]"
   ]
  },
  {
   "cell_type": "code",
   "execution_count": 11,
   "metadata": {
    "execution": {
     "iopub.execute_input": "2020-11-23T09:56:02.461269Z",
     "iopub.status.busy": "2020-11-23T09:56:02.460754Z",
     "iopub.status.idle": "2020-11-23T09:56:02.469627Z",
     "shell.execute_reply": "2020-11-23T09:56:02.469173Z"
    },
    "scrolled": true
   },
   "outputs": [
    {
     "data": {
      "text/plain": [
       "{'x1': {'x1': array([0.0106231 , 0.0106231 , 0.13088338, 0.13088338, 0.67227223,\n",
       "         0.67227223, 0.19846038, 0.19846038, 0.93981723, 0.93981723,\n",
       "         0.10631162, 0.10631162, 0.08545441, 0.08545441, 0.41058954,\n",
       "         0.41058954, 0.29097225, 0.29097225, 0.13468452, 0.13468452,\n",
       "         0.39538212, 0.39538212, 0.89106045, 0.89106045, 0.46994769,\n",
       "         0.46994769, 0.31162701, 0.31162701, 0.57130752, 0.57130752,\n",
       "         0.413067  , 0.413067  , 0.64276902, 0.64276902, 0.70460194,\n",
       "         0.70460194, 0.79674621, 0.79674621, 0.96740064, 0.96740064,\n",
       "         0.45891917, 0.45891917, 0.26422159, 0.26422159, 0.7798473 ,\n",
       "         0.7798473 , 0.14385895, 0.14385895, 0.88102322, 0.88102322,\n",
       "         0.92821081, 0.92821081, 0.50714916, 0.50714916, 0.79939106,\n",
       "         0.79939106, 0.65934194, 0.65934194, 0.07082764, 0.07082764,\n",
       "         0.49585948, 0.49585948, 0.59117438, 0.59117438, 0.46911836,\n",
       "         0.46911836, 0.05674288, 0.05674288, 0.27440521, 0.27440521,\n",
       "         0.66459426, 0.66459426, 0.78187537, 0.78187537, 0.80537553,\n",
       "         0.80537553, 0.26237286, 0.26237286, 0.41365271, 0.41365271,\n",
       "         0.33197662, 0.33197662, 0.09971046, 0.09971046, 0.07212848,\n",
       "         0.07212848, 0.87592065, 0.87592065, 0.30286165, 0.30286165,\n",
       "         0.69942959, 0.69942959, 0.58499667, 0.58499667, 0.27408682,\n",
       "         0.27408682, 0.9843612 , 0.9843612 , 0.04175948, 0.04175948,\n",
       "         0.51357015, 0.51357015, 0.42259909, 0.42259909, 0.81419174,\n",
       "         0.81419174, 0.89775534, 0.89775534, 0.52778577, 0.52778577,\n",
       "         0.75056123, 0.75056123, 0.08517373, 0.08517373, 0.96526897,\n",
       "         0.96526897, 0.36614767, 0.36614767, 0.98901678, 0.98901678,\n",
       "         0.02031252, 0.02031252, 0.10861976, 0.10861976, 0.08360128,\n",
       "         0.08360128, 0.62052392, 0.62052392, 0.17158749, 0.17158749,\n",
       "         0.42001949, 0.42001949, 0.72488922, 0.72488922, 0.71225819,\n",
       "         0.71225819, 0.4942796 , 0.4942796 , 0.08510057, 0.08510057,\n",
       "         0.98070688, 0.98070688, 0.94507004, 0.94507004, 0.38241392,\n",
       "         0.38241392, 0.72229274, 0.72229274, 0.20726524, 0.20726524,\n",
       "         0.81727581, 0.81727581, 0.59336772, 0.59336772, 0.67885379,\n",
       "         0.67885379, 0.69514553, 0.69514553, 0.46098827, 0.46098827,\n",
       "         0.58153185, 0.58153185, 0.64791464, 0.64791464, 0.85976751,\n",
       "         0.85976751, 0.59451025, 0.59451025, 0.29779391, 0.29779391,\n",
       "         0.5577952 , 0.5577952 , 0.83108647, 0.83108647, 0.95098834,\n",
       "         0.95098834, 0.71968983, 0.71968983, 0.85010596, 0.85010596,\n",
       "         0.83085713, 0.83085713, 0.66442445, 0.66442445, 0.66532232,\n",
       "         0.66532232, 0.84444697, 0.84444697, 0.59396623, 0.59396623,\n",
       "         0.99160274, 0.99160274, 0.51543368, 0.51543368, 0.19987022,\n",
       "         0.19987022, 0.19420457, 0.19420457, 0.33160291, 0.33160291])}}"
      ]
     },
     "execution_count": 1,
     "metadata": {},
     "output_type": "execute_result"
    }
   ],
   "source": [
    "ds = load_by_id(run_id_n)\n",
    "ds.get_parameter_data('x1')"
   ]
  },
  {
   "cell_type": "markdown",
   "metadata": {},
   "source": [
    "And a dataset stored as binary arrays"
   ]
  },
  {
   "cell_type": "code",
   "execution_count": 12,
   "metadata": {
    "execution": {
     "iopub.execute_input": "2020-11-23T09:56:02.472932Z",
     "iopub.status.busy": "2020-11-23T09:56:02.472361Z",
     "iopub.status.idle": "2020-11-23T09:56:02.525057Z",
     "shell.execute_reply": "2020-11-23T09:56:02.525540Z"
    },
    "scrolled": true
   },
   "outputs": [
    {
     "data": {
      "text/plain": [
       "{'x1': {'x1': array([[0.59112049],\n",
       "         [0.59112049],\n",
       "         [0.01879976],\n",
       "         [0.01879976],\n",
       "         [0.09183758],\n",
       "         [0.09183758],\n",
       "         [0.15007405],\n",
       "         [0.15007405],\n",
       "         [0.54455025],\n",
       "         [0.54455025],\n",
       "         [0.83237139],\n",
       "         [0.83237139],\n",
       "         [0.70669705],\n",
       "         [0.70669705],\n",
       "         [0.73130925],\n",
       "         [0.73130925],\n",
       "         [0.81453756],\n",
       "         [0.81453756],\n",
       "         [0.93526278],\n",
       "         [0.93526278],\n",
       "         [0.87609167],\n",
       "         [0.87609167],\n",
       "         [0.75615244],\n",
       "         [0.75615244],\n",
       "         [0.35134527],\n",
       "         [0.35134527],\n",
       "         [0.04681172],\n",
       "         [0.04681172],\n",
       "         [0.27448023],\n",
       "         [0.27448023],\n",
       "         [0.35962247],\n",
       "         [0.35962247],\n",
       "         [0.94871823],\n",
       "         [0.94871823],\n",
       "         [0.72022608],\n",
       "         [0.72022608],\n",
       "         [0.14929438],\n",
       "         [0.14929438],\n",
       "         [0.94522143],\n",
       "         [0.94522143],\n",
       "         [0.46500817],\n",
       "         [0.46500817],\n",
       "         [0.1921246 ],\n",
       "         [0.1921246 ],\n",
       "         [0.25296084],\n",
       "         [0.25296084],\n",
       "         [0.33010446],\n",
       "         [0.33010446],\n",
       "         [0.6437397 ],\n",
       "         [0.6437397 ],\n",
       "         [0.31788333],\n",
       "         [0.31788333],\n",
       "         [0.1381948 ],\n",
       "         [0.1381948 ],\n",
       "         [0.27268813],\n",
       "         [0.27268813],\n",
       "         [0.90667245],\n",
       "         [0.90667245],\n",
       "         [0.37784461],\n",
       "         [0.37784461],\n",
       "         [0.70426945],\n",
       "         [0.70426945],\n",
       "         [0.06027738],\n",
       "         [0.06027738],\n",
       "         [0.65477991],\n",
       "         [0.65477991],\n",
       "         [0.19777065],\n",
       "         [0.19777065],\n",
       "         [0.33045787],\n",
       "         [0.33045787],\n",
       "         [0.49601491],\n",
       "         [0.49601491],\n",
       "         [0.24755271],\n",
       "         [0.24755271],\n",
       "         [0.91073195],\n",
       "         [0.91073195],\n",
       "         [0.94306581],\n",
       "         [0.94306581],\n",
       "         [0.02312156],\n",
       "         [0.02312156],\n",
       "         [0.08862169],\n",
       "         [0.08862169],\n",
       "         [0.73064784],\n",
       "         [0.73064784],\n",
       "         [0.262528  ],\n",
       "         [0.262528  ],\n",
       "         [0.97336165],\n",
       "         [0.97336165],\n",
       "         [0.26940099],\n",
       "         [0.26940099],\n",
       "         [0.41441535],\n",
       "         [0.41441535],\n",
       "         [0.12023416],\n",
       "         [0.12023416],\n",
       "         [0.53669084],\n",
       "         [0.53669084],\n",
       "         [0.10760255],\n",
       "         [0.10760255],\n",
       "         [0.04173272],\n",
       "         [0.04173272],\n",
       "         [0.02893844],\n",
       "         [0.02893844],\n",
       "         [0.96192293],\n",
       "         [0.96192293],\n",
       "         [0.12748623],\n",
       "         [0.12748623],\n",
       "         [0.98183742],\n",
       "         [0.98183742],\n",
       "         [0.43578421],\n",
       "         [0.43578421],\n",
       "         [0.13189881],\n",
       "         [0.13189881],\n",
       "         [0.8320549 ],\n",
       "         [0.8320549 ],\n",
       "         [0.17095538],\n",
       "         [0.17095538],\n",
       "         [0.05514832],\n",
       "         [0.05514832],\n",
       "         [0.69122718],\n",
       "         [0.69122718],\n",
       "         [0.83133086],\n",
       "         [0.83133086],\n",
       "         [0.09770284],\n",
       "         [0.09770284],\n",
       "         [0.25976105],\n",
       "         [0.25976105],\n",
       "         [0.17851229],\n",
       "         [0.17851229],\n",
       "         [0.71818414],\n",
       "         [0.71818414],\n",
       "         [0.21726922],\n",
       "         [0.21726922],\n",
       "         [0.31997017],\n",
       "         [0.31997017],\n",
       "         [0.13694444],\n",
       "         [0.13694444],\n",
       "         [0.1847889 ],\n",
       "         [0.1847889 ],\n",
       "         [0.03103095],\n",
       "         [0.03103095],\n",
       "         [0.26032925],\n",
       "         [0.26032925],\n",
       "         [0.25110154],\n",
       "         [0.25110154],\n",
       "         [0.88136957],\n",
       "         [0.88136957],\n",
       "         [0.03540394],\n",
       "         [0.03540394],\n",
       "         [0.12444195],\n",
       "         [0.12444195],\n",
       "         [0.79482036],\n",
       "         [0.79482036],\n",
       "         [0.32239251],\n",
       "         [0.32239251],\n",
       "         [0.99535169],\n",
       "         [0.99535169],\n",
       "         [0.46336948],\n",
       "         [0.46336948],\n",
       "         [0.4393545 ],\n",
       "         [0.4393545 ],\n",
       "         [0.56408397],\n",
       "         [0.56408397],\n",
       "         [0.03190793],\n",
       "         [0.03190793],\n",
       "         [0.57335927],\n",
       "         [0.57335927],\n",
       "         [0.45311034],\n",
       "         [0.45311034],\n",
       "         [0.16055244],\n",
       "         [0.16055244],\n",
       "         [0.19394127],\n",
       "         [0.19394127],\n",
       "         [0.26539971],\n",
       "         [0.26539971],\n",
       "         [0.76436931],\n",
       "         [0.76436931],\n",
       "         [0.05126329],\n",
       "         [0.05126329],\n",
       "         [0.63596235],\n",
       "         [0.63596235],\n",
       "         [0.73071091],\n",
       "         [0.73071091],\n",
       "         [0.42623075],\n",
       "         [0.42623075],\n",
       "         [0.31638462],\n",
       "         [0.31638462],\n",
       "         [0.56272554],\n",
       "         [0.56272554],\n",
       "         [0.11841804],\n",
       "         [0.11841804],\n",
       "         [0.00665688],\n",
       "         [0.00665688],\n",
       "         [0.54730865],\n",
       "         [0.54730865],\n",
       "         [0.56953997],\n",
       "         [0.56953997],\n",
       "         [0.86076006],\n",
       "         [0.86076006],\n",
       "         [0.68312333],\n",
       "         [0.68312333]])}}"
      ]
     },
     "execution_count": 1,
     "metadata": {},
     "output_type": "execute_result"
    }
   ],
   "source": [
    "ds = load_by_id(run_id_a)\n",
    "ds.get_parameter_data('x1')"
   ]
  },
  {
   "cell_type": "code",
   "execution_count": null,
   "metadata": {},
   "outputs": [],
   "source": []
  }
 ],
 "metadata": {
  "kernelspec": {
   "display_name": "Python 3",
   "language": "python",
   "name": "python3"
  },
  "language_info": {
   "codemirror_mode": {
    "name": "ipython",
    "version": 3
   },
   "file_extension": ".py",
   "mimetype": "text/x-python",
   "name": "python",
   "nbconvert_exporter": "python",
   "pygments_lexer": "ipython3",
   "version": "3.7.9"
  },
  "nbsphinx": {
   "timeout": 600
  },
  "toc": {
   "base_numbering": 1,
   "nav_menu": {},
   "number_sections": true,
   "sideBar": true,
   "skip_h1_title": false,
   "title_cell": "Table of Contents",
   "title_sidebar": "Contents",
   "toc_cell": false,
   "toc_position": {},
   "toc_section_display": true,
   "toc_window_display": false
  },
  "varInspector": {
   "cols": {
    "lenName": 16,
    "lenType": 16,
    "lenVar": 40
   },
   "kernels_config": {
    "python": {
     "delete_cmd_postfix": "",
     "delete_cmd_prefix": "del ",
     "library": "var_list.py",
     "varRefreshCmd": "print(var_dic_list())"
    },
    "r": {
     "delete_cmd_postfix": ") ",
     "delete_cmd_prefix": "rm(",
     "library": "var_list.r",
     "varRefreshCmd": "cat(var_dic_list()) "
    }
   },
   "types_to_exclude": [
    "module",
    "function",
    "builtin_function_or_method",
    "instance",
    "_Feature"
   ],
   "window_display": false
  }
 },
 "nbformat": 4,
 "nbformat_minor": 2
}
