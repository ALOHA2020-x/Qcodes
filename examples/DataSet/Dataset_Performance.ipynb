{
 "cells": [
  {
   "cell_type": "markdown",
   "metadata": {},
   "source": [
    "# DataSet Performance\n",
    "\n",
    "This notebook shows the trade-off between inserting data into a database row-by-row and as binary blobs. Inserting the data row-by-row means that we have direct access to all the data and may perform queries directly on the values of the data. On the other hand, as we shall see, this is much slower than inserting the data directly as binary blobs."
   ]
  },
  {
   "cell_type": "markdown",
   "metadata": {},
   "source": [
    "First, we choose a new location for the database to ensure that we don't add a bunch of benchmarking data to the default one."
   ]
  },
  {
   "cell_type": "code",
   "execution_count": 1,
   "metadata": {
    "execution": {
     "iopub.execute_input": "2021-05-12T07:34:50.064692Z",
     "iopub.status.busy": "2021-05-12T07:34:50.064176Z",
     "iopub.status.idle": "2021-05-12T07:34:51.185480Z",
     "shell.execute_reply": "2021-05-12T07:34:51.184131Z"
    }
   },
   "outputs": [
    {
     "name": "stdout",
     "output_type": "stream",
     "text": [
      "Logging hadn't been started.\n",
      "Activating auto-logging. Current session state plus future input saved.\n",
      "Filename       : /home/runner/.qcodes/logs/command_history.log\n",
      "Mode           : append\n",
      "Output logging : True\n",
      "Raw input log  : False\n",
      "Timestamping   : True\n",
      "State          : active\n"
     ]
    },
    {
     "name": "stdout",
     "output_type": "stream",
     "text": [
      "Qcodes Logfile : /home/runner/.qcodes/logs/210512-4721-qcodes.log\n"
     ]
    }
   ],
   "source": [
    "import os\n",
    "cwd = os.getcwd()\n",
    "import qcodes as qc\n",
    "qc.config[\"core\"][\"db_location\"] = os.path.join(cwd, 'testing.db')\n"
   ]
  },
  {
   "cell_type": "code",
   "execution_count": 2,
   "metadata": {
    "execution": {
     "iopub.execute_input": "2021-05-12T07:34:51.191988Z",
     "iopub.status.busy": "2021-05-12T07:34:51.191449Z",
     "iopub.status.idle": "2021-05-12T07:34:51.391228Z",
     "shell.execute_reply": "2021-05-12T07:34:51.390091Z"
    }
   },
   "outputs": [],
   "source": [
    "%matplotlib inline\n",
    "import time\n",
    "import matplotlib.pyplot as plt\n",
    "import numpy as np\n",
    "\n",
    "import qcodes as qc\n",
    "from qcodes.instrument.parameter import ManualParameter\n",
    "from qcodes.dataset.experiment_container import (Experiment,\n",
    "                                                 load_last_experiment,\n",
    "                                                 new_experiment)\n",
    "from qcodes.dataset.sqlite.database import initialise_database\n",
    "from qcodes import load_or_create_experiment\n",
    "from qcodes.dataset.measurements import Measurement"
   ]
  },
  {
   "cell_type": "code",
   "execution_count": 3,
   "metadata": {
    "execution": {
     "iopub.execute_input": "2021-05-12T07:34:51.395282Z",
     "iopub.status.busy": "2021-05-12T07:34:51.394709Z",
     "iopub.status.idle": "2021-05-12T07:34:51.459720Z",
     "shell.execute_reply": "2021-05-12T07:34:51.459207Z"
    }
   },
   "outputs": [
    {
     "name": "stdout",
     "output_type": "stream",
     "text": [
      "\r",
      "0it [00:00, ?it/s]"
     ]
    },
    {
     "name": "stdout",
     "output_type": "stream",
     "text": [
      "\r",
      "Upgrading database; v0 -> v1: : 0it [00:00, ?it/s]"
     ]
    },
    {
     "name": "stdout",
     "output_type": "stream",
     "text": [
      "\r",
      "Upgrading database; v0 -> v1: : 0it [00:00, ?it/s]"
     ]
    },
    {
     "name": "stdout",
     "output_type": "stream",
     "text": [
      "\n",
      "\r",
      "  0%|          | 0/1 [00:00<?, ?it/s]"
     ]
    },
    {
     "name": "stdout",
     "output_type": "stream",
     "text": [
      "\r",
      "Upgrading database; v1 -> v2:   0%|          | 0/1 [00:00<?, ?it/s]"
     ]
    },
    {
     "name": "stdout",
     "output_type": "stream",
     "text": [
      "\r",
      "Upgrading database; v1 -> v2: 100%|██████████| 1/1 [00:00<00:00, 587.85it/s]"
     ]
    },
    {
     "name": "stdout",
     "output_type": "stream",
     "text": [
      "\n",
      "\r",
      "0it [00:00, ?it/s]"
     ]
    },
    {
     "name": "stdout",
     "output_type": "stream",
     "text": [
      "\r",
      "Upgrading database; v2 -> v3: : 0it [00:00, ?it/s]"
     ]
    },
    {
     "name": "stdout",
     "output_type": "stream",
     "text": [
      "\r",
      "Upgrading database; v2 -> v3: : 0it [00:00, ?it/s]"
     ]
    },
    {
     "name": "stdout",
     "output_type": "stream",
     "text": [
      "\n",
      "\r",
      "0it [00:00, ?it/s]"
     ]
    },
    {
     "name": "stdout",
     "output_type": "stream",
     "text": [
      "\r",
      "Upgrading database; v3 -> v4: : 0it [00:00, ?it/s]"
     ]
    },
    {
     "name": "stdout",
     "output_type": "stream",
     "text": [
      "\r",
      "Upgrading database; v3 -> v4: : 0it [00:00, ?it/s]"
     ]
    },
    {
     "name": "stdout",
     "output_type": "stream",
     "text": [
      "\n",
      "\r",
      "  0%|          | 0/1 [00:00<?, ?it/s]"
     ]
    },
    {
     "name": "stdout",
     "output_type": "stream",
     "text": [
      "\r",
      "Upgrading database; v4 -> v5:   0%|          | 0/1 [00:00<?, ?it/s]"
     ]
    },
    {
     "name": "stdout",
     "output_type": "stream",
     "text": [
      "\r",
      "Upgrading database; v4 -> v5: 100%|██████████| 1/1 [00:00<00:00, 444.78it/s]"
     ]
    },
    {
     "name": "stdout",
     "output_type": "stream",
     "text": [
      "\n",
      "\r",
      "0it [00:00, ?it/s]"
     ]
    },
    {
     "name": "stdout",
     "output_type": "stream",
     "text": [
      "\r",
      "Upgrading database; v5 -> v6: : 0it [00:00, ?it/s]"
     ]
    },
    {
     "name": "stdout",
     "output_type": "stream",
     "text": [
      "\r",
      "Upgrading database; v5 -> v6: : 0it [00:00, ?it/s]"
     ]
    },
    {
     "name": "stdout",
     "output_type": "stream",
     "text": [
      "\n",
      "\r",
      "  0%|          | 0/1 [00:00<?, ?it/s]"
     ]
    },
    {
     "name": "stdout",
     "output_type": "stream",
     "text": [
      "\r",
      "Upgrading database; v6 -> v7:   0%|          | 0/1 [00:00<?, ?it/s]"
     ]
    },
    {
     "name": "stdout",
     "output_type": "stream",
     "text": [
      "\r",
      "Upgrading database; v6 -> v7: 100%|██████████| 1/1 [00:00<00:00, 273.05it/s]"
     ]
    },
    {
     "name": "stdout",
     "output_type": "stream",
     "text": [
      "\n",
      "\r",
      "  0%|          | 0/1 [00:00<?, ?it/s]"
     ]
    },
    {
     "name": "stdout",
     "output_type": "stream",
     "text": [
      "\r",
      "Upgrading database; v7 -> v8:   0%|          | 0/1 [00:00<?, ?it/s]"
     ]
    },
    {
     "name": "stdout",
     "output_type": "stream",
     "text": [
      "\r",
      "Upgrading database; v7 -> v8: 100%|██████████| 1/1 [00:00<00:00, 999.60it/s]"
     ]
    },
    {
     "name": "stdout",
     "output_type": "stream",
     "text": [
      "\n",
      "\r",
      "  0%|          | 0/1 [00:00<?, ?it/s]"
     ]
    },
    {
     "name": "stdout",
     "output_type": "stream",
     "text": [
      "\r",
      "Upgrading database; v8 -> v9:   0%|          | 0/1 [00:00<?, ?it/s]"
     ]
    },
    {
     "name": "stdout",
     "output_type": "stream",
     "text": [
      "\r",
      "Upgrading database; v8 -> v9: 100%|██████████| 1/1 [00:00<00:00, 507.72it/s]"
     ]
    },
    {
     "name": "stdout",
     "output_type": "stream",
     "text": [
      "\n"
     ]
    }
   ],
   "source": [
    "initialise_database()\n",
    "exp = load_or_create_experiment(experiment_name='tutorial_exp', sample_name=\"no sample\")"
   ]
  },
  {
   "cell_type": "markdown",
   "metadata": {},
   "source": [
    "Here, we define a simple function to benchmark the time it takes to insert n points with either numeric or array data type.\n",
    "We will compare both the time used to call ``add_result`` and the time used for the full measurement."
   ]
  },
  {
   "cell_type": "code",
   "execution_count": 4,
   "metadata": {
    "execution": {
     "iopub.execute_input": "2021-05-12T07:34:51.468810Z",
     "iopub.status.busy": "2021-05-12T07:34:51.466742Z",
     "iopub.status.idle": "2021-05-12T07:34:51.471707Z",
     "shell.execute_reply": "2021-05-12T07:34:51.471257Z"
    }
   },
   "outputs": [],
   "source": [
    "def insert_data(paramtype, npoints, nreps=1):\n",
    "\n",
    "    meas = Measurement(exp=exp)\n",
    "\n",
    "    x1 = ManualParameter('x1')\n",
    "    x2 = ManualParameter('x2')\n",
    "    x3 = ManualParameter('x3')\n",
    "    y1 = ManualParameter('y1')\n",
    "    y2 = ManualParameter('y2')\n",
    "\n",
    "    meas.register_parameter(x1, paramtype=paramtype)\n",
    "    meas.register_parameter(x2, paramtype=paramtype)\n",
    "    meas.register_parameter(x3, paramtype=paramtype)\n",
    "    meas.register_parameter(y1, setpoints=[x1, x2, x3],\n",
    "                            paramtype=paramtype)\n",
    "    meas.register_parameter(y2, setpoints=[x1, x2, x3],\n",
    "                            paramtype=paramtype)\n",
    "    start = time.perf_counter()\n",
    "    with meas.run() as datasaver:\n",
    "        start_adding = time.perf_counter()\n",
    "        for i in range(nreps):\n",
    "            datasaver.add_result((x1, np.random.rand(npoints)),\n",
    "                                 (x2, np.random.rand(npoints)),\n",
    "                                 (x3, np.random.rand(npoints)),\n",
    "                                 (y1, np.random.rand(npoints)),\n",
    "                                 (y2, np.random.rand(npoints)))\n",
    "        stop_adding = time.perf_counter()\n",
    "        run_id = datasaver.run_id\n",
    "    stop = time.perf_counter()\n",
    "    tot_time = stop - start\n",
    "    add_time = stop_adding - start_adding\n",
    "    return tot_time, add_time, run_id"
   ]
  },
  {
   "cell_type": "markdown",
   "metadata": {},
   "source": [
    "## Comparison between numeric/array data and binary blob"
   ]
  },
  {
   "cell_type": "markdown",
   "metadata": {},
   "source": [
    "### Case1: Short experiment time"
   ]
  },
  {
   "cell_type": "code",
   "execution_count": 5,
   "metadata": {
    "execution": {
     "iopub.execute_input": "2021-05-12T07:34:51.478516Z",
     "iopub.status.busy": "2021-05-12T07:34:51.477532Z",
     "iopub.status.idle": "2021-05-12T07:34:52.241215Z",
     "shell.execute_reply": "2021-05-12T07:34:52.241668Z"
    }
   },
   "outputs": [
    {
     "name": "stdout",
     "output_type": "stream",
     "text": [
      "Starting experimental run with id: 1. \n",
      "Starting experimental run with id: 2. \n",
      "Starting experimental run with id: 3. \n",
      "Starting experimental run with id: 4. \n"
     ]
    },
    {
     "name": "stdout",
     "output_type": "stream",
     "text": [
      "Starting experimental run with id: 5. \n"
     ]
    },
    {
     "name": "stdout",
     "output_type": "stream",
     "text": [
      "Starting experimental run with id: 6. \n",
      "Starting experimental run with id: 7. \n"
     ]
    },
    {
     "name": "stdout",
     "output_type": "stream",
     "text": [
      "Starting experimental run with id: 8. \n",
      "Starting experimental run with id: 9. \n"
     ]
    },
    {
     "name": "stdout",
     "output_type": "stream",
     "text": [
      "Starting experimental run with id: 10. \n",
      "Starting experimental run with id: 11. \n"
     ]
    },
    {
     "name": "stdout",
     "output_type": "stream",
     "text": [
      "Starting experimental run with id: 12. \n",
      "Starting experimental run with id: 13. \n"
     ]
    },
    {
     "name": "stdout",
     "output_type": "stream",
     "text": [
      "Starting experimental run with id: 14. \n"
     ]
    }
   ],
   "source": [
    "sizes = [1,500,1000,2000,3000,4000,5000]\n",
    "t_numeric = []\n",
    "t_numeric_add = []\n",
    "t_array = []\n",
    "t_array_add = []\n",
    "for size in sizes:\n",
    "    tn, tna, run_id_n =  insert_data('numeric', size)\n",
    "    t_numeric.append(tn)\n",
    "    t_numeric_add.append(tna)\n",
    "\n",
    "    ta, taa, run_id_a =  insert_data('array', size)\n",
    "    t_array.append(ta)\n",
    "    t_array_add.append(taa)"
   ]
  },
  {
   "cell_type": "code",
   "execution_count": 6,
   "metadata": {
    "execution": {
     "iopub.execute_input": "2021-05-12T07:34:52.260653Z",
     "iopub.status.busy": "2021-05-12T07:34:52.247334Z",
     "iopub.status.idle": "2021-05-12T07:34:52.460777Z",
     "shell.execute_reply": "2021-05-12T07:34:52.459869Z"
    }
   },
   "outputs": [
    {
     "data": {
      "image/png": "[encoded data removed]",
      "text/plain": [
       "<Figure size 432x288 with 1 Axes>"
      ]
     },
     "metadata": {
      "needs_background": "light"
     },
     "output_type": "display_data"
    }
   ],
   "source": [
    "fig, ax = plt.subplots(1,1)\n",
    "ax.plot(sizes, t_numeric, 'o-', label='Inserting row-by-row')\n",
    "ax.plot(sizes, t_numeric_add, 'o-', label='Inserting row-by-row: add_result only')\n",
    "ax.plot(sizes, t_array, 'd-', label='Inserting as binary blob')\n",
    "ax.plot(sizes, t_array_add, 'd-', label='Inserting as binary blob: add_result only')\n",
    "ax.legend()\n",
    "ax.set_xlabel('Array length')\n",
    "ax.set_ylabel('Time (s)')\n",
    "fig.tight_layout()"
   ]
  },
  {
   "cell_type": "markdown",
   "metadata": {},
   "source": [
    "As shown in the latter figure, the time to setup and and close the experiment is approximately 0.4 sec. In case of small array sizes, the difference between inserting values of data as arrays and inserting them row-by-row is relatively unimportant. At larger array sizes, i.e. above 10000 points, the cost of writing data as individual datapoints starts to become important.\n"
   ]
  },
  {
   "cell_type": "markdown",
   "metadata": {},
   "source": [
    "### Case2: Long experiment time "
   ]
  },
  {
   "cell_type": "code",
   "execution_count": 7,
   "metadata": {
    "execution": {
     "iopub.execute_input": "2021-05-12T07:34:52.467548Z",
     "iopub.status.busy": "2021-05-12T07:34:52.466535Z",
     "iopub.status.idle": "2021-05-12T07:35:45.516586Z",
     "shell.execute_reply": "2021-05-12T07:35:45.515824Z"
    }
   },
   "outputs": [
    {
     "name": "stdout",
     "output_type": "stream",
     "text": [
      "Starting experimental run with id: 15. \n",
      "Starting experimental run with id: 16. \n",
      "Starting experimental run with id: 17. \n"
     ]
    },
    {
     "name": "stdout",
     "output_type": "stream",
     "text": [
      "Starting experimental run with id: 18. \n",
      "Starting experimental run with id: 19. \n"
     ]
    },
    {
     "name": "stdout",
     "output_type": "stream",
     "text": [
      "Starting experimental run with id: 20. \n"
     ]
    },
    {
     "name": "stdout",
     "output_type": "stream",
     "text": [
      "Starting experimental run with id: 21. \n"
     ]
    },
    {
     "name": "stdout",
     "output_type": "stream",
     "text": [
      "Starting experimental run with id: 22. \n"
     ]
    },
    {
     "name": "stdout",
     "output_type": "stream",
     "text": [
      "Starting experimental run with id: 23. \n"
     ]
    },
    {
     "name": "stdout",
     "output_type": "stream",
     "text": [
      "Starting experimental run with id: 24. \n"
     ]
    },
    {
     "name": "stdout",
     "output_type": "stream",
     "text": [
      "Starting experimental run with id: 25. \n"
     ]
    },
    {
     "name": "stdout",
     "output_type": "stream",
     "text": [
      "Starting experimental run with id: 26. \n"
     ]
    },
    {
     "name": "stdout",
     "output_type": "stream",
     "text": [
      "Starting experimental run with id: 27. \n"
     ]
    },
    {
     "name": "stdout",
     "output_type": "stream",
     "text": [
      "Starting experimental run with id: 28. \n"
     ]
    }
   ],
   "source": [
    "sizes = [1,500,1000,2000,3000,4000,5000]\n",
    "nreps = 100\n",
    "t_numeric = []\n",
    "t_numeric_add = []\n",
    "t_numeric_run_ids = []\n",
    "t_array = []\n",
    "t_array_add = []\n",
    "t_array_run_ids = []\n",
    "for size in sizes:\n",
    "    tn, tna, run_id_n =  insert_data('numeric', size, nreps=nreps)\n",
    "    t_numeric.append(tn)\n",
    "    t_numeric_add.append(tna)\n",
    "    t_numeric_run_ids.append(run_id_n)\n",
    "\n",
    "    ta, taa, run_id_a =  insert_data('array', size, nreps=nreps)\n",
    "    t_array.append(ta)\n",
    "    t_array_add.append(taa)\n",
    "    t_array_run_ids.append(run_id_a)"
   ]
  },
  {
   "cell_type": "code",
   "execution_count": 8,
   "metadata": {
    "execution": {
     "iopub.execute_input": "2021-05-12T07:35:45.535988Z",
     "iopub.status.busy": "2021-05-12T07:35:45.533830Z",
     "iopub.status.idle": "2021-05-12T07:35:45.713619Z",
     "shell.execute_reply": "2021-05-12T07:35:45.713148Z"
    },
    "scrolled": true
   },
   "outputs": [
    {
     "data": {
      "image/png": "[encoded data removed]",
      "text/plain": [
       "<Figure size 432x288 with 1 Axes>"
      ]
     },
     "metadata": {
      "needs_background": "light"
     },
     "output_type": "display_data"
    }
   ],
   "source": [
    "fig, ax = plt.subplots(1,1)\n",
    "ax.plot(sizes, t_numeric, 'o-', label='Inserting row-by-row')\n",
    "ax.plot(sizes, t_numeric_add, 'o-', label='Inserting row-by-row: add_result only')\n",
    "ax.plot(sizes, t_array, 'd-', label='Inserting as binary blob')\n",
    "ax.plot(sizes, t_array_add, 'd-', label='Inserting as binary blob: add_result only')\n",
    "ax.legend()\n",
    "ax.set_xlabel('Array length')\n",
    "ax.set_ylabel('Time (s)')\n",
    "fig.tight_layout()"
   ]
  },
  {
   "cell_type": "markdown",
   "metadata": {},
   "source": [
    "However, as we increase the length of the experiment, as seen here by repeating the insertion 100 times, we see a big difference between inserting values of the data row-by-row and inserting it as a binary blob."
   ]
  },
  {
   "cell_type": "markdown",
   "metadata": {},
   "source": [
    "## Loading the data "
   ]
  },
  {
   "cell_type": "code",
   "execution_count": 9,
   "metadata": {
    "execution": {
     "iopub.execute_input": "2021-05-12T07:35:45.718442Z",
     "iopub.status.busy": "2021-05-12T07:35:45.717264Z",
     "iopub.status.idle": "2021-05-12T07:35:45.719046Z",
     "shell.execute_reply": "2021-05-12T07:35:45.719472Z"
    }
   },
   "outputs": [],
   "source": [
    "from qcodes.dataset.data_set import load_by_id"
   ]
  },
  {
   "cell_type": "markdown",
   "metadata": {},
   "source": [
    "As usual you can load the data by using the ``load_by_id`` function but you will notice that the different storage methods\n",
    "are reflected in shape of the data as it is retrieved. "
   ]
  },
  {
   "cell_type": "code",
   "execution_count": 10,
   "metadata": {
    "execution": {
     "iopub.execute_input": "2021-05-12T07:35:45.724121Z",
     "iopub.status.busy": "2021-05-12T07:35:45.722948Z",
     "iopub.status.idle": "2021-05-12T07:35:45.724721Z",
     "shell.execute_reply": "2021-05-12T07:35:45.725149Z"
    }
   },
   "outputs": [],
   "source": [
    "run_id_n = t_numeric_run_ids[0]\n",
    "run_id_a = t_array_run_ids[0]"
   ]
  },
  {
   "cell_type": "code",
   "execution_count": 11,
   "metadata": {
    "execution": {
     "iopub.execute_input": "2021-05-12T07:35:45.728530Z",
     "iopub.status.busy": "2021-05-12T07:35:45.727971Z",
     "iopub.status.idle": "2021-05-12T07:35:45.737863Z",
     "shell.execute_reply": "2021-05-12T07:35:45.737294Z"
    },
    "scrolled": true
   },
   "outputs": [
    {
     "data": {
      "text/plain": [
       "{'x1': {'x1': array([8.10966988e-01, 8.10966988e-01, 9.97457692e-01, 9.97457692e-01,\n",
       "         1.17797279e-01, 1.17797279e-01, 3.44623414e-01, 3.44623414e-01,\n",
       "         7.48093463e-01, 7.48093463e-01, 6.85081569e-01, 6.85081569e-01,\n",
       "         7.50927354e-01, 7.50927354e-01, 2.74708518e-01, 2.74708518e-01,\n",
       "         3.76167683e-01, 3.76167683e-01, 4.78366620e-01, 4.78366620e-01,\n",
       "         4.19933912e-01, 4.19933912e-01, 1.66983282e-01, 1.66983282e-01,\n",
       "         3.71687850e-01, 3.71687850e-01, 4.94424721e-01, 4.94424721e-01,\n",
       "         3.76552063e-01, 3.76552063e-01, 6.34298894e-01, 6.34298894e-01,\n",
       "         2.89606589e-01, 2.89606589e-01, 2.80514714e-01, 2.80514714e-01,\n",
       "         1.14774055e-01, 1.14774055e-01, 6.39435697e-01, 6.39435697e-01,\n",
       "         2.39855870e-02, 2.39855870e-02, 7.47734965e-02, 7.47734965e-02,\n",
       "         9.35884234e-02, 9.35884234e-02, 7.62438828e-01, 7.62438828e-01,\n",
       "         4.44174160e-01, 4.44174160e-01, 5.99384276e-01, 5.99384276e-01,\n",
       "         6.83069758e-01, 6.83069758e-01, 1.79330140e-01, 1.79330140e-01,\n",
       "         3.85198285e-01, 3.85198285e-01, 7.30720071e-01, 7.30720071e-01,\n",
       "         6.00809947e-01, 6.00809947e-01, 7.23228292e-01, 7.23228292e-01,\n",
       "         7.95134270e-01, 7.95134270e-01, 4.16521359e-01, 4.16521359e-01,\n",
       "         4.49815262e-01, 4.49815262e-01, 4.86780891e-02, 4.86780891e-02,\n",
       "         2.80728812e-01, 2.80728812e-01, 6.77926122e-01, 6.77926122e-01,\n",
       "         1.87179620e-01, 1.87179620e-01, 4.02476280e-04, 4.02476280e-04,\n",
       "         2.52009883e-01, 2.52009883e-01, 4.08905086e-01, 4.08905086e-01,\n",
       "         8.10299790e-01, 8.10299790e-01, 7.83215519e-01, 7.83215519e-01,\n",
       "         8.15086135e-01, 8.15086135e-01, 1.85853171e-01, 1.85853171e-01,\n",
       "         8.50990633e-01, 8.50990633e-01, 4.54981018e-01, 4.54981018e-01,\n",
       "         3.72922645e-01, 3.72922645e-01, 3.53418810e-01, 3.53418810e-01,\n",
       "         8.26826182e-02, 8.26826182e-02, 3.97336748e-01, 3.97336748e-01,\n",
       "         4.87139458e-01, 4.87139458e-01, 3.34967009e-01, 3.34967009e-01,\n",
       "         4.70658156e-01, 4.70658156e-01, 1.71240788e-01, 1.71240788e-01,\n",
       "         8.03598697e-01, 8.03598697e-01, 4.04183720e-01, 4.04183720e-01,\n",
       "         6.91576874e-01, 6.91576874e-01, 1.82540393e-01, 1.82540393e-01,\n",
       "         8.91540043e-01, 8.91540043e-01, 8.45962723e-01, 8.45962723e-01,\n",
       "         7.65911189e-01, 7.65911189e-01, 8.83186928e-02, 8.83186928e-02,\n",
       "         8.56459398e-01, 8.56459398e-01, 8.35349764e-01, 8.35349764e-01,\n",
       "         7.62581174e-03, 7.62581174e-03, 6.58527980e-01, 6.58527980e-01,\n",
       "         6.88956236e-02, 6.88956236e-02, 3.53748054e-01, 3.53748054e-01,\n",
       "         6.91837493e-01, 6.91837493e-01, 1.38605911e-01, 1.38605911e-01,\n",
       "         8.02502425e-01, 8.02502425e-01, 6.15673246e-01, 6.15673246e-01,\n",
       "         8.40561292e-01, 8.40561292e-01, 2.81472956e-01, 2.81472956e-01,\n",
       "         3.69861877e-01, 3.69861877e-01, 6.47815824e-01, 6.47815824e-01,\n",
       "         1.70169462e-01, 1.70169462e-01, 8.91119565e-01, 8.91119565e-01,\n",
       "         6.33604583e-02, 6.33604583e-02, 3.93721375e-01, 3.93721375e-01,\n",
       "         1.61098235e-01, 1.61098235e-01, 9.98016786e-01, 9.98016786e-01,\n",
       "         2.58734445e-01, 2.58734445e-01, 4.41443697e-01, 4.41443697e-01,\n",
       "         6.09798865e-01, 6.09798865e-01, 5.37183802e-01, 5.37183802e-01,\n",
       "         9.05294382e-01, 9.05294382e-01, 6.92202305e-01, 6.92202305e-01,\n",
       "         9.51765662e-01, 9.51765662e-01, 4.52219317e-01, 4.52219317e-01,\n",
       "         6.59034082e-01, 6.59034082e-01, 7.97913121e-01, 7.97913121e-01,\n",
       "         6.21725282e-01, 6.21725282e-01, 1.54898498e-01, 1.54898498e-01,\n",
       "         3.32222066e-01, 3.32222066e-01, 8.21045821e-01, 8.21045821e-01,\n",
       "         6.75732118e-01, 6.75732118e-01, 3.77324311e-01, 3.77324311e-01])}}"
      ]
     },
     "execution_count": 1,
     "metadata": {},
     "output_type": "execute_result"
    }
   ],
   "source": [
    "ds = load_by_id(run_id_n)\n",
    "ds.get_parameter_data('x1')"
   ]
  },
  {
   "cell_type": "markdown",
   "metadata": {},
   "source": [
    "And a dataset stored as binary arrays"
   ]
  },
  {
   "cell_type": "code",
   "execution_count": 12,
   "metadata": {
    "execution": {
     "iopub.execute_input": "2021-05-12T07:35:45.741060Z",
     "iopub.status.busy": "2021-05-12T07:35:45.740521Z",
     "iopub.status.idle": "2021-05-12T07:35:45.790817Z",
     "shell.execute_reply": "2021-05-12T07:35:45.791629Z"
    },
    "scrolled": true
   },
   "outputs": [
    {
     "data": {
      "text/plain": [
       "{'x1': {'x1': array([[0.69480691],\n",
       "         [0.69480691],\n",
       "         [0.02879463],\n",
       "         [0.02879463],\n",
       "         [0.13100517],\n",
       "         [0.13100517],\n",
       "         [0.93443508],\n",
       "         [0.93443508],\n",
       "         [0.02028087],\n",
       "         [0.02028087],\n",
       "         [0.16491064],\n",
       "         [0.16491064],\n",
       "         [0.37851894],\n",
       "         [0.37851894],\n",
       "         [0.43182525],\n",
       "         [0.43182525],\n",
       "         [0.54271133],\n",
       "         [0.54271133],\n",
       "         [0.44654633],\n",
       "         [0.44654633],\n",
       "         [0.90944363],\n",
       "         [0.90944363],\n",
       "         [0.68250392],\n",
       "         [0.68250392],\n",
       "         [0.08682591],\n",
       "         [0.08682591],\n",
       "         [0.95818459],\n",
       "         [0.95818459],\n",
       "         [0.34171451],\n",
       "         [0.34171451],\n",
       "         [0.60488144],\n",
       "         [0.60488144],\n",
       "         [0.37302062],\n",
       "         [0.37302062],\n",
       "         [0.76780025],\n",
       "         [0.76780025],\n",
       "         [0.91328248],\n",
       "         [0.91328248],\n",
       "         [0.44763584],\n",
       "         [0.44763584],\n",
       "         [0.29957021],\n",
       "         [0.29957021],\n",
       "         [0.14758441],\n",
       "         [0.14758441],\n",
       "         [0.80400587],\n",
       "         [0.80400587],\n",
       "         [0.45203943],\n",
       "         [0.45203943],\n",
       "         [0.86399887],\n",
       "         [0.86399887],\n",
       "         [0.51077311],\n",
       "         [0.51077311],\n",
       "         [0.78104883],\n",
       "         [0.78104883],\n",
       "         [0.34617926],\n",
       "         [0.34617926],\n",
       "         [0.35930426],\n",
       "         [0.35930426],\n",
       "         [0.69041431],\n",
       "         [0.69041431],\n",
       "         [0.14095766],\n",
       "         [0.14095766],\n",
       "         [0.11240836],\n",
       "         [0.11240836],\n",
       "         [0.01609105],\n",
       "         [0.01609105],\n",
       "         [0.86462777],\n",
       "         [0.86462777],\n",
       "         [0.77658763],\n",
       "         [0.77658763],\n",
       "         [0.21151449],\n",
       "         [0.21151449],\n",
       "         [0.72630476],\n",
       "         [0.72630476],\n",
       "         [0.75503816],\n",
       "         [0.75503816],\n",
       "         [0.70818861],\n",
       "         [0.70818861],\n",
       "         [0.21586391],\n",
       "         [0.21586391],\n",
       "         [0.12942705],\n",
       "         [0.12942705],\n",
       "         [0.79221009],\n",
       "         [0.79221009],\n",
       "         [0.8813716 ],\n",
       "         [0.8813716 ],\n",
       "         [0.60517597],\n",
       "         [0.60517597],\n",
       "         [0.04989469],\n",
       "         [0.04989469],\n",
       "         [0.12238145],\n",
       "         [0.12238145],\n",
       "         [0.32418847],\n",
       "         [0.32418847],\n",
       "         [0.95824386],\n",
       "         [0.95824386],\n",
       "         [0.14406055],\n",
       "         [0.14406055],\n",
       "         [0.31138425],\n",
       "         [0.31138425],\n",
       "         [0.46951665],\n",
       "         [0.46951665],\n",
       "         [0.39241275],\n",
       "         [0.39241275],\n",
       "         [0.65688542],\n",
       "         [0.65688542],\n",
       "         [0.37685586],\n",
       "         [0.37685586],\n",
       "         [0.3789494 ],\n",
       "         [0.3789494 ],\n",
       "         [0.08483121],\n",
       "         [0.08483121],\n",
       "         [0.18145486],\n",
       "         [0.18145486],\n",
       "         [0.1760995 ],\n",
       "         [0.1760995 ],\n",
       "         [0.88462469],\n",
       "         [0.88462469],\n",
       "         [0.88020864],\n",
       "         [0.88020864],\n",
       "         [0.10953674],\n",
       "         [0.10953674],\n",
       "         [0.51417915],\n",
       "         [0.51417915],\n",
       "         [0.87311168],\n",
       "         [0.87311168],\n",
       "         [0.11614608],\n",
       "         [0.11614608],\n",
       "         [0.40022493],\n",
       "         [0.40022493],\n",
       "         [0.15816688],\n",
       "         [0.15816688],\n",
       "         [0.20684385],\n",
       "         [0.20684385],\n",
       "         [0.77228787],\n",
       "         [0.77228787],\n",
       "         [0.20483218],\n",
       "         [0.20483218],\n",
       "         [0.13418518],\n",
       "         [0.13418518],\n",
       "         [0.56835857],\n",
       "         [0.56835857],\n",
       "         [0.4091621 ],\n",
       "         [0.4091621 ],\n",
       "         [0.53488629],\n",
       "         [0.53488629],\n",
       "         [0.70443675],\n",
       "         [0.70443675],\n",
       "         [0.07418926],\n",
       "         [0.07418926],\n",
       "         [0.10438194],\n",
       "         [0.10438194],\n",
       "         [0.63093318],\n",
       "         [0.63093318],\n",
       "         [0.72398254],\n",
       "         [0.72398254],\n",
       "         [0.04107963],\n",
       "         [0.04107963],\n",
       "         [0.05113073],\n",
       "         [0.05113073],\n",
       "         [0.71851926],\n",
       "         [0.71851926],\n",
       "         [0.57584707],\n",
       "         [0.57584707],\n",
       "         [0.95984227],\n",
       "         [0.95984227],\n",
       "         [0.23099842],\n",
       "         [0.23099842],\n",
       "         [0.37689238],\n",
       "         [0.37689238],\n",
       "         [0.65114743],\n",
       "         [0.65114743],\n",
       "         [0.14514346],\n",
       "         [0.14514346],\n",
       "         [0.70037416],\n",
       "         [0.70037416],\n",
       "         [0.20513804],\n",
       "         [0.20513804],\n",
       "         [0.92844797],\n",
       "         [0.92844797],\n",
       "         [0.50674597],\n",
       "         [0.50674597],\n",
       "         [0.67702792],\n",
       "         [0.67702792],\n",
       "         [0.60435732],\n",
       "         [0.60435732],\n",
       "         [0.10769019],\n",
       "         [0.10769019],\n",
       "         [0.52259757],\n",
       "         [0.52259757],\n",
       "         [0.37643693],\n",
       "         [0.37643693],\n",
       "         [0.4332927 ],\n",
       "         [0.4332927 ],\n",
       "         [0.02278449],\n",
       "         [0.02278449],\n",
       "         [0.66511983],\n",
       "         [0.66511983],\n",
       "         [0.7040055 ],\n",
       "         [0.7040055 ]])}}"
      ]
     },
     "execution_count": 1,
     "metadata": {},
     "output_type": "execute_result"
    }
   ],
   "source": [
    "ds = load_by_id(run_id_a)\n",
    "ds.get_parameter_data('x1')"
   ]
  },
  {
   "cell_type": "code",
   "execution_count": null,
   "metadata": {},
   "outputs": [],
   "source": []
  }
 ],
 "metadata": {
  "kernelspec": {
   "display_name": "Python 3",
   "language": "python",
   "name": "python3"
  },
  "language_info": {
   "codemirror_mode": {
    "name": "ipython",
    "version": 3
   },
   "file_extension": ".py",
   "mimetype": "text/x-python",
   "name": "python",
   "nbconvert_exporter": "python",
   "pygments_lexer": "ipython3",
   "version": "3.7.10"
  },
  "nbsphinx": {
   "timeout": 600
  },
  "toc": {
   "base_numbering": 1,
   "nav_menu": {},
   "number_sections": true,
   "sideBar": true,
   "skip_h1_title": false,
   "title_cell": "Table of Contents",
   "title_sidebar": "Contents",
   "toc_cell": false,
   "toc_position": {},
   "toc_section_display": true,
   "toc_window_display": false
  },
  "varInspector": {
   "cols": {
    "lenName": 16,
    "lenType": 16,
    "lenVar": 40
   },
   "kernels_config": {
    "python": {
     "delete_cmd_postfix": "",
     "delete_cmd_prefix": "del ",
     "library": "var_list.py",
     "varRefreshCmd": "print(var_dic_list())"
    },
    "r": {
     "delete_cmd_postfix": ") ",
     "delete_cmd_prefix": "rm(",
     "library": "var_list.r",
     "varRefreshCmd": "cat(var_dic_list()) "
    }
   },
   "types_to_exclude": [
    "module",
    "function",
    "builtin_function_or_method",
    "instance",
    "_Feature"
   ],
   "window_display": false
  }
 },
 "nbformat": 4,
 "nbformat_minor": 4
}
