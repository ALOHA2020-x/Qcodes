{
 "cells": [
  {
   "cell_type": "markdown",
   "metadata": {},
   "source": [
    "# DataSet Performance\n",
    "\n",
    "This notebook shows the trade-off between inserting data into a database row-by-row and as binary blobs. Inserting the data row-by-row means that we have direct access to all the data and may perform queries directly on the values of the data. On the other hand, as we shall see, this is much slower than inserting the data directly as binary blobs."
   ]
  },
  {
   "cell_type": "markdown",
   "metadata": {},
   "source": [
    "First, we choose a new location for the database to ensure that we don't add a bunch of benchmarking data to the default one."
   ]
  },
  {
   "cell_type": "code",
   "execution_count": 1,
   "metadata": {
    "execution": {
     "iopub.execute_input": "2020-12-25T10:38:50.574472Z",
     "iopub.status.busy": "2020-12-25T10:38:50.573710Z",
     "iopub.status.idle": "2020-12-25T10:38:51.615718Z",
     "shell.execute_reply": "2020-12-25T10:38:51.615177Z"
    }
   },
   "outputs": [
    {
     "name": "stdout",
     "output_type": "stream",
     "text": [
      "Logging hadn't been started.\n",
      "Activating auto-logging. Current session state plus future input saved.\n",
      "Filename       : /home/vsts/.qcodes/logs/command_history.log\n",
      "Mode           : append\n",
      "Output logging : True\n",
      "Raw input log  : False\n",
      "Timestamping   : True\n",
      "State          : active\n"
     ]
    },
    {
     "name": "stdout",
     "output_type": "stream",
     "text": [
      "Qcodes Logfile : /home/vsts/.qcodes/logs/201225-13659-qcodes.log\n"
     ]
    }
   ],
   "source": [
    "import os\n",
    "cwd = os.getcwd()\n",
    "import qcodes as qc\n",
    "qc.config[\"core\"][\"db_location\"] = os.path.join(cwd, 'testing.db')\n"
   ]
  },
  {
   "cell_type": "code",
   "execution_count": 2,
   "metadata": {
    "execution": {
     "iopub.execute_input": "2020-12-25T10:38:51.621840Z",
     "iopub.status.busy": "2020-12-25T10:38:51.621050Z",
     "iopub.status.idle": "2020-12-25T10:38:51.808762Z",
     "shell.execute_reply": "2020-12-25T10:38:51.807989Z"
    }
   },
   "outputs": [],
   "source": [
    "%matplotlib inline\n",
    "import time\n",
    "import matplotlib.pyplot as plt\n",
    "import numpy as np\n",
    "\n",
    "import qcodes as qc\n",
    "from qcodes.instrument.parameter import ManualParameter\n",
    "from qcodes.dataset.experiment_container import (Experiment,\n",
    "                                                 load_last_experiment,\n",
    "                                                 new_experiment)\n",
    "from qcodes.dataset.sqlite.database import initialise_database\n",
    "from qcodes import load_or_create_experiment\n",
    "from qcodes.dataset.measurements import Measurement"
   ]
  },
  {
   "cell_type": "code",
   "execution_count": 3,
   "metadata": {
    "execution": {
     "iopub.execute_input": "2020-12-25T10:38:51.812112Z",
     "iopub.status.busy": "2020-12-25T10:38:51.811561Z",
     "iopub.status.idle": "2020-12-25T10:38:51.942589Z",
     "shell.execute_reply": "2020-12-25T10:38:51.942997Z"
    }
   },
   "outputs": [
    {
     "name": "stdout",
     "output_type": "stream",
     "text": [
      "\r",
      "0it [00:00, ?it/s]"
     ]
    },
    {
     "name": "stdout",
     "output_type": "stream",
     "text": [
      "\r",
      "Upgrading database; v0 -> v1: : 0it [00:00, ?it/s]"
     ]
    },
    {
     "name": "stdout",
     "output_type": "stream",
     "text": [
      "\r",
      "Upgrading database; v0 -> v1: : 0it [00:00, ?it/s]"
     ]
    },
    {
     "name": "stdout",
     "output_type": "stream",
     "text": [
      "\n",
      "\r",
      "  0%|          | 0/1 [00:00<?, ?it/s]"
     ]
    },
    {
     "name": "stdout",
     "output_type": "stream",
     "text": [
      "\r",
      "Upgrading database; v1 -> v2:   0%|          | 0/1 [00:00<?, ?it/s]"
     ]
    },
    {
     "name": "stdout",
     "output_type": "stream",
     "text": [
      "\r",
      "Upgrading database; v1 -> v2: 100%|██████████| 1/1 [00:00<00:00, 362.01it/s]"
     ]
    },
    {
     "name": "stdout",
     "output_type": "stream",
     "text": [
      "\n",
      "\r",
      "0it [00:00, ?it/s]"
     ]
    },
    {
     "name": "stdout",
     "output_type": "stream",
     "text": [
      "\r",
      "Upgrading database; v2 -> v3: : 0it [00:00, ?it/s]"
     ]
    },
    {
     "name": "stdout",
     "output_type": "stream",
     "text": [
      "\r",
      "Upgrading database; v2 -> v3: : 0it [00:00, ?it/s]"
     ]
    },
    {
     "name": "stdout",
     "output_type": "stream",
     "text": [
      "\n",
      "\r",
      "0it [00:00, ?it/s]"
     ]
    },
    {
     "name": "stdout",
     "output_type": "stream",
     "text": [
      "\r",
      "Upgrading database; v3 -> v4: : 0it [00:00, ?it/s]"
     ]
    },
    {
     "name": "stdout",
     "output_type": "stream",
     "text": [
      "\r",
      "Upgrading database; v3 -> v4: : 0it [00:00, ?it/s]"
     ]
    },
    {
     "name": "stdout",
     "output_type": "stream",
     "text": [
      "\n",
      "\r",
      "  0%|          | 0/1 [00:00<?, ?it/s]"
     ]
    },
    {
     "name": "stdout",
     "output_type": "stream",
     "text": [
      "\r",
      "Upgrading database; v4 -> v5:   0%|          | 0/1 [00:00<?, ?it/s]"
     ]
    },
    {
     "name": "stdout",
     "output_type": "stream",
     "text": [
      "\r",
      "Upgrading database; v4 -> v5: 100%|██████████| 1/1 [00:00<00:00, 441.55it/s]"
     ]
    },
    {
     "name": "stdout",
     "output_type": "stream",
     "text": [
      "\n",
      "\r",
      "0it [00:00, ?it/s]"
     ]
    },
    {
     "name": "stdout",
     "output_type": "stream",
     "text": [
      "\r",
      "Upgrading database; v5 -> v6: : 0it [00:00, ?it/s]"
     ]
    },
    {
     "name": "stdout",
     "output_type": "stream",
     "text": [
      "\r",
      "Upgrading database; v5 -> v6: : 0it [00:00, ?it/s]"
     ]
    },
    {
     "name": "stdout",
     "output_type": "stream",
     "text": [
      "\n",
      "\r",
      "  0%|          | 0/1 [00:00<?, ?it/s]"
     ]
    },
    {
     "name": "stdout",
     "output_type": "stream",
     "text": [
      "\r",
      "Upgrading database; v6 -> v7:   0%|          | 0/1 [00:00<?, ?it/s]"
     ]
    },
    {
     "name": "stdout",
     "output_type": "stream",
     "text": [
      "\r",
      "Upgrading database; v6 -> v7: 100%|██████████| 1/1 [00:00<00:00, 292.98it/s]"
     ]
    },
    {
     "name": "stdout",
     "output_type": "stream",
     "text": [
      "\n",
      "\r",
      "  0%|          | 0/1 [00:00<?, ?it/s]"
     ]
    },
    {
     "name": "stdout",
     "output_type": "stream",
     "text": [
      "\r",
      "Upgrading database; v7 -> v8:   0%|          | 0/1 [00:00<?, ?it/s]"
     ]
    },
    {
     "name": "stdout",
     "output_type": "stream",
     "text": [
      "\r",
      "Upgrading database; v7 -> v8: 100%|██████████| 1/1 [00:00<00:00, 416.27it/s]"
     ]
    },
    {
     "name": "stdout",
     "output_type": "stream",
     "text": [
      "\n",
      "\r",
      "  0%|          | 0/1 [00:00<?, ?it/s]"
     ]
    },
    {
     "name": "stdout",
     "output_type": "stream",
     "text": [
      "\r",
      "Upgrading database; v8 -> v9:   0%|          | 0/1 [00:00<?, ?it/s]"
     ]
    },
    {
     "name": "stdout",
     "output_type": "stream",
     "text": [
      "\r",
      "Upgrading database; v8 -> v9: 100%|██████████| 1/1 [00:00<00:00, 471.85it/s]"
     ]
    },
    {
     "name": "stdout",
     "output_type": "stream",
     "text": [
      "\n"
     ]
    }
   ],
   "source": [
    "initialise_database()\n",
    "exp = load_or_create_experiment(experiment_name='tutorial_exp', sample_name=\"no sample\")"
   ]
  },
  {
   "cell_type": "markdown",
   "metadata": {},
   "source": [
    "Here, we define a simple function to benchmark the time it takes to insert n points with either numeric or array data type.\n",
    "We will compare both the time used to call ``add_result`` and the time used for the full measurement."
   ]
  },
  {
   "cell_type": "code",
   "execution_count": 4,
   "metadata": {
    "execution": {
     "iopub.execute_input": "2020-12-25T10:38:51.951507Z",
     "iopub.status.busy": "2020-12-25T10:38:51.950973Z",
     "iopub.status.idle": "2020-12-25T10:38:51.954610Z",
     "shell.execute_reply": "2020-12-25T10:38:51.954072Z"
    }
   },
   "outputs": [],
   "source": [
    "def insert_data(paramtype, npoints, nreps=1):\n",
    "\n",
    "    meas = Measurement(exp=exp)\n",
    "\n",
    "    x1 = ManualParameter('x1')\n",
    "    x2 = ManualParameter('x2')\n",
    "    x3 = ManualParameter('x3')\n",
    "    y1 = ManualParameter('y1')\n",
    "    y2 = ManualParameter('y2')\n",
    "\n",
    "    meas.register_parameter(x1, paramtype=paramtype)\n",
    "    meas.register_parameter(x2, paramtype=paramtype)\n",
    "    meas.register_parameter(x3, paramtype=paramtype)\n",
    "    meas.register_parameter(y1, setpoints=[x1, x2, x3],\n",
    "                            paramtype=paramtype)\n",
    "    meas.register_parameter(y2, setpoints=[x1, x2, x3],\n",
    "                            paramtype=paramtype)\n",
    "    start = time.perf_counter()\n",
    "    with meas.run() as datasaver:\n",
    "        start_adding = time.perf_counter()\n",
    "        for i in range(nreps):\n",
    "            datasaver.add_result((x1, np.random.rand(npoints)),\n",
    "                                 (x2, np.random.rand(npoints)),\n",
    "                                 (x3, np.random.rand(npoints)),\n",
    "                                 (y1, np.random.rand(npoints)),\n",
    "                                 (y2, np.random.rand(npoints)))\n",
    "        stop_adding = time.perf_counter()\n",
    "        run_id = datasaver.run_id\n",
    "    stop = time.perf_counter()\n",
    "    tot_time = stop - start\n",
    "    add_time = stop_adding - start_adding\n",
    "    return tot_time, add_time, run_id"
   ]
  },
  {
   "cell_type": "markdown",
   "metadata": {},
   "source": [
    "## Comparison between numeric/array data and binary blob"
   ]
  },
  {
   "cell_type": "markdown",
   "metadata": {},
   "source": [
    "### Case1: Short experiment time"
   ]
  },
  {
   "cell_type": "code",
   "execution_count": 5,
   "metadata": {
    "execution": {
     "iopub.execute_input": "2020-12-25T10:38:51.960848Z",
     "iopub.status.busy": "2020-12-25T10:38:51.959732Z",
     "iopub.status.idle": "2020-12-25T10:38:52.864104Z",
     "shell.execute_reply": "2020-12-25T10:38:52.863228Z"
    }
   },
   "outputs": [
    {
     "name": "stdout",
     "output_type": "stream",
     "text": [
      "Starting experimental run with id: 1. \n",
      "Starting experimental run with id: 2. \n",
      "Starting experimental run with id: 3. \n",
      "Starting experimental run with id: 4. \n"
     ]
    },
    {
     "name": "stdout",
     "output_type": "stream",
     "text": [
      "Starting experimental run with id: 5. \n"
     ]
    },
    {
     "name": "stdout",
     "output_type": "stream",
     "text": [
      "Starting experimental run with id: 6. \n"
     ]
    },
    {
     "name": "stdout",
     "output_type": "stream",
     "text": [
      "Starting experimental run with id: 7. \n"
     ]
    },
    {
     "name": "stdout",
     "output_type": "stream",
     "text": [
      "Starting experimental run with id: 8. \n",
      "Starting experimental run with id: 9. \n"
     ]
    },
    {
     "name": "stdout",
     "output_type": "stream",
     "text": [
      "Starting experimental run with id: 10. \n",
      "Starting experimental run with id: 11. \n"
     ]
    },
    {
     "name": "stdout",
     "output_type": "stream",
     "text": [
      "Starting experimental run with id: 12. \n"
     ]
    },
    {
     "name": "stdout",
     "output_type": "stream",
     "text": [
      "Starting experimental run with id: 13. \n"
     ]
    },
    {
     "name": "stdout",
     "output_type": "stream",
     "text": [
      "Starting experimental run with id: 14. \n"
     ]
    }
   ],
   "source": [
    "sizes = [1,500,1000,2000,3000,4000,5000]\n",
    "t_numeric = []\n",
    "t_numeric_add = []\n",
    "t_array = []\n",
    "t_array_add = []\n",
    "for size in sizes:\n",
    "    tn, tna, run_id_n =  insert_data('numeric', size)\n",
    "    t_numeric.append(tn)\n",
    "    t_numeric_add.append(tna)\n",
    "\n",
    "    ta, taa, run_id_a =  insert_data('array', size)\n",
    "    t_array.append(ta)\n",
    "    t_array_add.append(taa)"
   ]
  },
  {
   "cell_type": "code",
   "execution_count": 6,
   "metadata": {
    "execution": {
     "iopub.execute_input": "2020-12-25T10:38:52.886299Z",
     "iopub.status.busy": "2020-12-25T10:38:52.885745Z",
     "iopub.status.idle": "2020-12-25T10:38:53.074066Z",
     "shell.execute_reply": "2020-12-25T10:38:53.073607Z"
    }
   },
   "outputs": [
    {
     "data": {
      "image/png": "[encoded data removed]",
      "text/plain": [
       "<Figure size 432x288 with 1 Axes>"
      ]
     },
     "metadata": {
      "needs_background": "light"
     },
     "output_type": "display_data"
    }
   ],
   "source": [
    "fig, ax = plt.subplots(1,1)\n",
    "ax.plot(sizes, t_numeric, 'o-', label='Inserting row-by-row')\n",
    "ax.plot(sizes, t_numeric_add, 'o-', label='Inserting row-by-row: add_result only')\n",
    "ax.plot(sizes, t_array, 'd-', label='Inserting as binary blob')\n",
    "ax.plot(sizes, t_array_add, 'd-', label='Inserting as binary blob: add_result only')\n",
    "ax.legend()\n",
    "ax.set_xlabel('Array length')\n",
    "ax.set_ylabel('Time (s)')\n",
    "fig.tight_layout()"
   ]
  },
  {
   "cell_type": "markdown",
   "metadata": {},
   "source": [
    "As shown in the latter figure, the time to setup and and close the experiment is approximately 0.4 sec. In case of small array sizes, the difference between inserting values of data as arrays and inserting them row-by-row is relatively unimportant. At larger array sizes, i.e. above 10000 points, the cost of writing data as individual datapoints starts to become important.\n"
   ]
  },
  {
   "cell_type": "markdown",
   "metadata": {},
   "source": [
    "### Case2: Long experiment time "
   ]
  },
  {
   "cell_type": "code",
   "execution_count": 7,
   "metadata": {
    "execution": {
     "iopub.execute_input": "2020-12-25T10:38:53.080304Z",
     "iopub.status.busy": "2020-12-25T10:38:53.079789Z",
     "iopub.status.idle": "2020-12-25T10:39:53.486880Z",
     "shell.execute_reply": "2020-12-25T10:39:53.486386Z"
    }
   },
   "outputs": [
    {
     "name": "stdout",
     "output_type": "stream",
     "text": [
      "Starting experimental run with id: 15. \n",
      "Starting experimental run with id: 16. \n",
      "Starting experimental run with id: 17. \n"
     ]
    },
    {
     "name": "stdout",
     "output_type": "stream",
     "text": [
      "Starting experimental run with id: 18. \n",
      "Starting experimental run with id: 19. \n"
     ]
    },
    {
     "name": "stdout",
     "output_type": "stream",
     "text": [
      "Starting experimental run with id: 20. \n"
     ]
    },
    {
     "name": "stdout",
     "output_type": "stream",
     "text": [
      "Starting experimental run with id: 21. \n"
     ]
    },
    {
     "name": "stdout",
     "output_type": "stream",
     "text": [
      "Starting experimental run with id: 22. \n"
     ]
    },
    {
     "name": "stdout",
     "output_type": "stream",
     "text": [
      "Starting experimental run with id: 23. \n"
     ]
    },
    {
     "name": "stdout",
     "output_type": "stream",
     "text": [
      "Starting experimental run with id: 24. \n"
     ]
    },
    {
     "name": "stdout",
     "output_type": "stream",
     "text": [
      "Starting experimental run with id: 25. \n"
     ]
    },
    {
     "name": "stdout",
     "output_type": "stream",
     "text": [
      "Starting experimental run with id: 26. \n"
     ]
    },
    {
     "name": "stdout",
     "output_type": "stream",
     "text": [
      "Starting experimental run with id: 27. \n"
     ]
    },
    {
     "name": "stdout",
     "output_type": "stream",
     "text": [
      "Starting experimental run with id: 28. \n"
     ]
    }
   ],
   "source": [
    "sizes = [1,500,1000,2000,3000,4000,5000]\n",
    "nreps = 100\n",
    "t_numeric = []\n",
    "t_numeric_add = []\n",
    "t_numeric_run_ids = []\n",
    "t_array = []\n",
    "t_array_add = []\n",
    "t_array_run_ids = []\n",
    "for size in sizes:\n",
    "    tn, tna, run_id_n =  insert_data('numeric', size, nreps=nreps)\n",
    "    t_numeric.append(tn)\n",
    "    t_numeric_add.append(tna)\n",
    "    t_numeric_run_ids.append(run_id_n)\n",
    "\n",
    "    ta, taa, run_id_a =  insert_data('array', size, nreps=nreps)\n",
    "    t_array.append(ta)\n",
    "    t_array_add.append(taa)\n",
    "    t_array_run_ids.append(run_id_a)"
   ]
  },
  {
   "cell_type": "code",
   "execution_count": 8,
   "metadata": {
    "execution": {
     "iopub.execute_input": "2020-12-25T10:39:53.512407Z",
     "iopub.status.busy": "2020-12-25T10:39:53.492207Z",
     "iopub.status.idle": "2020-12-25T10:39:53.690148Z",
     "shell.execute_reply": "2020-12-25T10:39:53.690675Z"
    },
    "scrolled": true
   },
   "outputs": [
    {
     "data": {
      "image/png": "[encoded data removed]",
      "text/plain": [
       "<Figure size 432x288 with 1 Axes>"
      ]
     },
     "metadata": {
      "needs_background": "light"
     },
     "output_type": "display_data"
    }
   ],
   "source": [
    "fig, ax = plt.subplots(1,1)\n",
    "ax.plot(sizes, t_numeric, 'o-', label='Inserting row-by-row')\n",
    "ax.plot(sizes, t_numeric_add, 'o-', label='Inserting row-by-row: add_result only')\n",
    "ax.plot(sizes, t_array, 'd-', label='Inserting as binary blob')\n",
    "ax.plot(sizes, t_array_add, 'd-', label='Inserting as binary blob: add_result only')\n",
    "ax.legend()\n",
    "ax.set_xlabel('Array length')\n",
    "ax.set_ylabel('Time (s)')\n",
    "fig.tight_layout()"
   ]
  },
  {
   "cell_type": "markdown",
   "metadata": {},
   "source": [
    "However, as we increase the length of the experiment, as seen here by repeating the insertion 100 times, we see a big difference between inserting values of the data row-by-row and inserting it as a binary blob."
   ]
  },
  {
   "cell_type": "markdown",
   "metadata": {},
   "source": [
    "## Loading the data "
   ]
  },
  {
   "cell_type": "code",
   "execution_count": 9,
   "metadata": {
    "execution": {
     "iopub.execute_input": "2020-12-25T10:39:53.694950Z",
     "iopub.status.busy": "2020-12-25T10:39:53.693874Z",
     "iopub.status.idle": "2020-12-25T10:39:53.697073Z",
     "shell.execute_reply": "2020-12-25T10:39:53.696609Z"
    }
   },
   "outputs": [],
   "source": [
    "from qcodes.dataset.data_set import load_by_id\n",
    "from qcodes.dataset.data_export import get_data_by_id"
   ]
  },
  {
   "cell_type": "markdown",
   "metadata": {},
   "source": [
    "As usual you can load the data by using the ``load_by_id`` function but you will notice that the different storage methods\n",
    "are reflected in shape of the data as it is retrieved. "
   ]
  },
  {
   "cell_type": "code",
   "execution_count": 10,
   "metadata": {
    "execution": {
     "iopub.execute_input": "2020-12-25T10:39:53.700386Z",
     "iopub.status.busy": "2020-12-25T10:39:53.699859Z",
     "iopub.status.idle": "2020-12-25T10:39:53.702449Z",
     "shell.execute_reply": "2020-12-25T10:39:53.701909Z"
    }
   },
   "outputs": [],
   "source": [
    "run_id_n = t_numeric_run_ids[0]\n",
    "run_id_a = t_array_run_ids[0]"
   ]
  },
  {
   "cell_type": "code",
   "execution_count": 11,
   "metadata": {
    "execution": {
     "iopub.execute_input": "2020-12-25T10:39:53.705326Z",
     "iopub.status.busy": "2020-12-25T10:39:53.704779Z",
     "iopub.status.idle": "2020-12-25T10:39:53.714425Z",
     "shell.execute_reply": "2020-12-25T10:39:53.713988Z"
    },
    "scrolled": true
   },
   "outputs": [
    {
     "data": {
      "text/plain": [
       "{'x1': {'x1': array([0.16231545, 0.16231545, 0.69691691, 0.69691691, 0.03999077,\n",
       "         0.03999077, 0.03534365, 0.03534365, 0.6541225 , 0.6541225 ,\n",
       "         0.58812479, 0.58812479, 0.46645014, 0.46645014, 0.09334884,\n",
       "         0.09334884, 0.94878323, 0.94878323, 0.38276476, 0.38276476,\n",
       "         0.06957097, 0.06957097, 0.94259721, 0.94259721, 0.31670124,\n",
       "         0.31670124, 0.07702482, 0.07702482, 0.61047178, 0.61047178,\n",
       "         0.87184381, 0.87184381, 0.89367726, 0.89367726, 0.57776646,\n",
       "         0.57776646, 0.25611314, 0.25611314, 0.24669493, 0.24669493,\n",
       "         0.41946099, 0.41946099, 0.91503265, 0.91503265, 0.34628191,\n",
       "         0.34628191, 0.85444731, 0.85444731, 0.72603863, 0.72603863,\n",
       "         0.80115808, 0.80115808, 0.60219085, 0.60219085, 0.28820165,\n",
       "         0.28820165, 0.99549929, 0.99549929, 0.35519669, 0.35519669,\n",
       "         0.76130028, 0.76130028, 0.24725493, 0.24725493, 0.86382695,\n",
       "         0.86382695, 0.02110608, 0.02110608, 0.24843731, 0.24843731,\n",
       "         0.46062355, 0.46062355, 0.40808277, 0.40808277, 0.11799011,\n",
       "         0.11799011, 0.79970396, 0.79970396, 0.50903493, 0.50903493,\n",
       "         0.1257873 , 0.1257873 , 0.07293509, 0.07293509, 0.56128725,\n",
       "         0.56128725, 0.47144049, 0.47144049, 0.74155598, 0.74155598,\n",
       "         0.74884763, 0.74884763, 0.78295194, 0.78295194, 0.33949615,\n",
       "         0.33949615, 0.97489849, 0.97489849, 0.9093605 , 0.9093605 ,\n",
       "         0.93123398, 0.93123398, 0.09247831, 0.09247831, 0.19632372,\n",
       "         0.19632372, 0.59001124, 0.59001124, 0.2105057 , 0.2105057 ,\n",
       "         0.67432912, 0.67432912, 0.25177122, 0.25177122, 0.82432551,\n",
       "         0.82432551, 0.4713639 , 0.4713639 , 0.55654161, 0.55654161,\n",
       "         0.03644194, 0.03644194, 0.35840069, 0.35840069, 0.97776446,\n",
       "         0.97776446, 0.54701258, 0.54701258, 0.11072683, 0.11072683,\n",
       "         0.4201777 , 0.4201777 , 0.15944442, 0.15944442, 0.78991039,\n",
       "         0.78991039, 0.66891125, 0.66891125, 0.64348858, 0.64348858,\n",
       "         0.98997577, 0.98997577, 0.19201886, 0.19201886, 0.65979958,\n",
       "         0.65979958, 0.67444513, 0.67444513, 0.00658853, 0.00658853,\n",
       "         0.7094264 , 0.7094264 , 0.99137165, 0.99137165, 0.28212327,\n",
       "         0.28212327, 0.5950654 , 0.5950654 , 0.29337333, 0.29337333,\n",
       "         0.90695019, 0.90695019, 0.17324893, 0.17324893, 0.4518307 ,\n",
       "         0.4518307 , 0.42828772, 0.42828772, 0.31961045, 0.31961045,\n",
       "         0.25407688, 0.25407688, 0.43044133, 0.43044133, 0.12861127,\n",
       "         0.12861127, 0.0158865 , 0.0158865 , 0.14937887, 0.14937887,\n",
       "         0.4749555 , 0.4749555 , 0.61845229, 0.61845229, 0.49547278,\n",
       "         0.49547278, 0.4014819 , 0.4014819 , 0.21319166, 0.21319166,\n",
       "         0.93191836, 0.93191836, 0.38409412, 0.38409412, 0.02700192,\n",
       "         0.02700192, 0.84115785, 0.84115785, 0.37152095, 0.37152095])}}"
      ]
     },
     "execution_count": 1,
     "metadata": {},
     "output_type": "execute_result"
    }
   ],
   "source": [
    "ds = load_by_id(run_id_n)\n",
    "ds.get_parameter_data('x1')"
   ]
  },
  {
   "cell_type": "markdown",
   "metadata": {},
   "source": [
    "And a dataset stored as binary arrays"
   ]
  },
  {
   "cell_type": "code",
   "execution_count": 12,
   "metadata": {
    "execution": {
     "iopub.execute_input": "2020-12-25T10:39:53.717617Z",
     "iopub.status.busy": "2020-12-25T10:39:53.717115Z",
     "iopub.status.idle": "2020-12-25T10:39:53.772832Z",
     "shell.execute_reply": "2020-12-25T10:39:53.773801Z"
    },
    "scrolled": true
   },
   "outputs": [
    {
     "data": {
      "text/plain": [
       "{'x1': {'x1': array([[0.79345215],\n",
       "         [0.79345215],\n",
       "         [0.89038954],\n",
       "         [0.89038954],\n",
       "         [0.07258067],\n",
       "         [0.07258067],\n",
       "         [0.5868219 ],\n",
       "         [0.5868219 ],\n",
       "         [0.19635035],\n",
       "         [0.19635035],\n",
       "         [0.21492638],\n",
       "         [0.21492638],\n",
       "         [0.63595087],\n",
       "         [0.63595087],\n",
       "         [0.00603439],\n",
       "         [0.00603439],\n",
       "         [0.9592084 ],\n",
       "         [0.9592084 ],\n",
       "         [0.45987435],\n",
       "         [0.45987435],\n",
       "         [0.98813976],\n",
       "         [0.98813976],\n",
       "         [0.80198529],\n",
       "         [0.80198529],\n",
       "         [0.60214682],\n",
       "         [0.60214682],\n",
       "         [0.43131441],\n",
       "         [0.43131441],\n",
       "         [0.58744339],\n",
       "         [0.58744339],\n",
       "         [0.84215416],\n",
       "         [0.84215416],\n",
       "         [0.91879175],\n",
       "         [0.91879175],\n",
       "         [0.49052995],\n",
       "         [0.49052995],\n",
       "         [0.23477262],\n",
       "         [0.23477262],\n",
       "         [0.61728521],\n",
       "         [0.61728521],\n",
       "         [0.71079395],\n",
       "         [0.71079395],\n",
       "         [0.78399063],\n",
       "         [0.78399063],\n",
       "         [0.89740436],\n",
       "         [0.89740436],\n",
       "         [0.07482747],\n",
       "         [0.07482747],\n",
       "         [0.59964093],\n",
       "         [0.59964093],\n",
       "         [0.25166476],\n",
       "         [0.25166476],\n",
       "         [0.29774137],\n",
       "         [0.29774137],\n",
       "         [0.40853786],\n",
       "         [0.40853786],\n",
       "         [0.85203031],\n",
       "         [0.85203031],\n",
       "         [0.94641322],\n",
       "         [0.94641322],\n",
       "         [0.23855743],\n",
       "         [0.23855743],\n",
       "         [0.50830637],\n",
       "         [0.50830637],\n",
       "         [0.91908038],\n",
       "         [0.91908038],\n",
       "         [0.1780493 ],\n",
       "         [0.1780493 ],\n",
       "         [0.35054182],\n",
       "         [0.35054182],\n",
       "         [0.40348488],\n",
       "         [0.40348488],\n",
       "         [0.42956806],\n",
       "         [0.42956806],\n",
       "         [0.83319793],\n",
       "         [0.83319793],\n",
       "         [0.20521964],\n",
       "         [0.20521964],\n",
       "         [0.55894541],\n",
       "         [0.55894541],\n",
       "         [0.86117245],\n",
       "         [0.86117245],\n",
       "         [0.55955659],\n",
       "         [0.55955659],\n",
       "         [0.55317066],\n",
       "         [0.55317066],\n",
       "         [0.74049402],\n",
       "         [0.74049402],\n",
       "         [0.60879755],\n",
       "         [0.60879755],\n",
       "         [0.78734943],\n",
       "         [0.78734943],\n",
       "         [0.09338951],\n",
       "         [0.09338951],\n",
       "         [0.81648529],\n",
       "         [0.81648529],\n",
       "         [0.35928926],\n",
       "         [0.35928926],\n",
       "         [0.38162803],\n",
       "         [0.38162803],\n",
       "         [0.97235799],\n",
       "         [0.97235799],\n",
       "         [0.17957991],\n",
       "         [0.17957991],\n",
       "         [0.12925597],\n",
       "         [0.12925597],\n",
       "         [0.31391428],\n",
       "         [0.31391428],\n",
       "         [0.73352624],\n",
       "         [0.73352624],\n",
       "         [0.75480435],\n",
       "         [0.75480435],\n",
       "         [0.40888948],\n",
       "         [0.40888948],\n",
       "         [0.64263382],\n",
       "         [0.64263382],\n",
       "         [0.60502429],\n",
       "         [0.60502429],\n",
       "         [0.00560779],\n",
       "         [0.00560779],\n",
       "         [0.84299631],\n",
       "         [0.84299631],\n",
       "         [0.16763937],\n",
       "         [0.16763937],\n",
       "         [0.23901999],\n",
       "         [0.23901999],\n",
       "         [0.84222756],\n",
       "         [0.84222756],\n",
       "         [0.57293045],\n",
       "         [0.57293045],\n",
       "         [0.28387829],\n",
       "         [0.28387829],\n",
       "         [0.54675538],\n",
       "         [0.54675538],\n",
       "         [0.69001749],\n",
       "         [0.69001749],\n",
       "         [0.58159738],\n",
       "         [0.58159738],\n",
       "         [0.0107811 ],\n",
       "         [0.0107811 ],\n",
       "         [0.17418495],\n",
       "         [0.17418495],\n",
       "         [0.9239348 ],\n",
       "         [0.9239348 ],\n",
       "         [0.47469515],\n",
       "         [0.47469515],\n",
       "         [0.5397788 ],\n",
       "         [0.5397788 ],\n",
       "         [0.37770971],\n",
       "         [0.37770971],\n",
       "         [0.23797789],\n",
       "         [0.23797789],\n",
       "         [0.08897422],\n",
       "         [0.08897422],\n",
       "         [0.87106003],\n",
       "         [0.87106003],\n",
       "         [0.39067682],\n",
       "         [0.39067682],\n",
       "         [0.41261073],\n",
       "         [0.41261073],\n",
       "         [0.77385501],\n",
       "         [0.77385501],\n",
       "         [0.12338382],\n",
       "         [0.12338382],\n",
       "         [0.36112219],\n",
       "         [0.36112219],\n",
       "         [0.15709325],\n",
       "         [0.15709325],\n",
       "         [0.18432961],\n",
       "         [0.18432961],\n",
       "         [0.80074933],\n",
       "         [0.80074933],\n",
       "         [0.49303112],\n",
       "         [0.49303112],\n",
       "         [0.95048652],\n",
       "         [0.95048652],\n",
       "         [0.78821389],\n",
       "         [0.78821389],\n",
       "         [0.87599076],\n",
       "         [0.87599076],\n",
       "         [0.74512683],\n",
       "         [0.74512683],\n",
       "         [0.24064481],\n",
       "         [0.24064481],\n",
       "         [0.95662033],\n",
       "         [0.95662033],\n",
       "         [0.15481176],\n",
       "         [0.15481176],\n",
       "         [0.52708604],\n",
       "         [0.52708604],\n",
       "         [0.12714915],\n",
       "         [0.12714915],\n",
       "         [0.34015476],\n",
       "         [0.34015476],\n",
       "         [0.72109401],\n",
       "         [0.72109401],\n",
       "         [0.97549655],\n",
       "         [0.97549655],\n",
       "         [0.92498967],\n",
       "         [0.92498967]])}}"
      ]
     },
     "execution_count": 1,
     "metadata": {},
     "output_type": "execute_result"
    }
   ],
   "source": [
    "ds = load_by_id(run_id_a)\n",
    "ds.get_parameter_data('x1')"
   ]
  },
  {
   "cell_type": "code",
   "execution_count": null,
   "metadata": {},
   "outputs": [],
   "source": []
  }
 ],
 "metadata": {
  "kernelspec": {
   "display_name": "Python 3",
   "language": "python",
   "name": "python3"
  },
  "language_info": {
   "codemirror_mode": {
    "name": "ipython",
    "version": 3
   },
   "file_extension": ".py",
   "mimetype": "text/x-python",
   "name": "python",
   "nbconvert_exporter": "python",
   "pygments_lexer": "ipython3",
   "version": "3.7.9"
  },
  "nbsphinx": {
   "timeout": 600
  },
  "toc": {
   "base_numbering": 1,
   "nav_menu": {},
   "number_sections": true,
   "sideBar": true,
   "skip_h1_title": false,
   "title_cell": "Table of Contents",
   "title_sidebar": "Contents",
   "toc_cell": false,
   "toc_position": {},
   "toc_section_display": true,
   "toc_window_display": false
  },
  "varInspector": {
   "cols": {
    "lenName": 16,
    "lenType": 16,
    "lenVar": 40
   },
   "kernels_config": {
    "python": {
     "delete_cmd_postfix": "",
     "delete_cmd_prefix": "del ",
     "library": "var_list.py",
     "varRefreshCmd": "print(var_dic_list())"
    },
    "r": {
     "delete_cmd_postfix": ") ",
     "delete_cmd_prefix": "rm(",
     "library": "var_list.r",
     "varRefreshCmd": "cat(var_dic_list()) "
    }
   },
   "types_to_exclude": [
    "module",
    "function",
    "builtin_function_or_method",
    "instance",
    "_Feature"
   ],
   "window_display": false
  }
 },
 "nbformat": 4,
 "nbformat_minor": 2
}
