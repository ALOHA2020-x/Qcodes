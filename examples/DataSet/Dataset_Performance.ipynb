{
 "cells": [
  {
   "cell_type": "markdown",
   "metadata": {},
   "source": [
    "# DataSet Performance\n",
    "\n",
    "This notebook shows the trade-off between inserting data into a database row-by-row and as binary blobs. Inserting the data row-by-row means that we have direct access to all the data and may perform queries directly on the values of the data. On the other hand, as we shall see, this is much slower than inserting the data directly as binary blobs."
   ]
  },
  {
   "cell_type": "markdown",
   "metadata": {},
   "source": [
    "First, we choose a new location for the database to ensure that we don't add a bunch of benchmarking data to the default one."
   ]
  },
  {
   "cell_type": "code",
   "execution_count": 1,
   "metadata": {
    "execution": {
     "iopub.execute_input": "2021-02-19T11:44:24.502556Z",
     "iopub.status.busy": "2021-02-19T11:44:24.501461Z",
     "iopub.status.idle": "2021-02-19T11:44:25.327453Z",
     "shell.execute_reply": "2021-02-19T11:44:25.327910Z"
    }
   },
   "outputs": [
    {
     "name": "stdout",
     "output_type": "stream",
     "text": [
      "Logging hadn't been started.\n",
      "Activating auto-logging. Current session state plus future input saved.\n",
      "Filename       : /home/runner/.qcodes/logs/command_history.log\n",
      "Mode           : append\n",
      "Output logging : True\n",
      "Raw input log  : False\n",
      "Timestamping   : True\n",
      "State          : active\n"
     ]
    },
    {
     "name": "stdout",
     "output_type": "stream",
     "text": [
      "Qcodes Logfile : /home/runner/.qcodes/logs/210219-4283-qcodes.log\n"
     ]
    }
   ],
   "source": [
    "import os\n",
    "cwd = os.getcwd()\n",
    "import qcodes as qc\n",
    "qc.config[\"core\"][\"db_location\"] = os.path.join(cwd, 'testing.db')\n"
   ]
  },
  {
   "cell_type": "code",
   "execution_count": 2,
   "metadata": {
    "execution": {
     "iopub.execute_input": "2021-02-19T11:44:25.333946Z",
     "iopub.status.busy": "2021-02-19T11:44:25.333155Z",
     "iopub.status.idle": "2021-02-19T11:44:25.511729Z",
     "shell.execute_reply": "2021-02-19T11:44:25.510844Z"
    }
   },
   "outputs": [],
   "source": [
    "%matplotlib inline\n",
    "import time\n",
    "import matplotlib.pyplot as plt\n",
    "import numpy as np\n",
    "\n",
    "import qcodes as qc\n",
    "from qcodes.instrument.parameter import ManualParameter\n",
    "from qcodes.dataset.experiment_container import (Experiment,\n",
    "                                                 load_last_experiment,\n",
    "                                                 new_experiment)\n",
    "from qcodes.dataset.sqlite.database import initialise_database\n",
    "from qcodes import load_or_create_experiment\n",
    "from qcodes.dataset.measurements import Measurement"
   ]
  },
  {
   "cell_type": "code",
   "execution_count": 3,
   "metadata": {
    "execution": {
     "iopub.execute_input": "2021-02-19T11:44:25.517561Z",
     "iopub.status.busy": "2021-02-19T11:44:25.516355Z",
     "iopub.status.idle": "2021-02-19T11:44:26.424348Z",
     "shell.execute_reply": "2021-02-19T11:44:26.423809Z"
    }
   },
   "outputs": [
    {
     "name": "stdout",
     "output_type": "stream",
     "text": [
      "\r",
      "0it [00:00, ?it/s]"
     ]
    },
    {
     "name": "stdout",
     "output_type": "stream",
     "text": [
      "\r",
      "Upgrading database; v0 -> v1: : 0it [00:00, ?it/s]"
     ]
    },
    {
     "name": "stdout",
     "output_type": "stream",
     "text": [
      "\r",
      "Upgrading database; v0 -> v1: : 0it [00:00, ?it/s]"
     ]
    },
    {
     "name": "stdout",
     "output_type": "stream",
     "text": [
      "\n",
      "\r",
      "  0%|          | 0/1 [00:00<?, ?it/s]"
     ]
    },
    {
     "name": "stdout",
     "output_type": "stream",
     "text": [
      "\r",
      "Upgrading database; v1 -> v2:   0%|          | 0/1 [00:00<?, ?it/s]"
     ]
    },
    {
     "name": "stdout",
     "output_type": "stream",
     "text": [
      "\r",
      "Upgrading database; v1 -> v2: 100%|██████████| 1/1 [00:00<00:00, 670.34it/s]"
     ]
    },
    {
     "name": "stdout",
     "output_type": "stream",
     "text": [
      "\n",
      "\r",
      "0it [00:00, ?it/s]"
     ]
    },
    {
     "name": "stdout",
     "output_type": "stream",
     "text": [
      "\r",
      "Upgrading database; v2 -> v3: : 0it [00:00, ?it/s]"
     ]
    },
    {
     "name": "stdout",
     "output_type": "stream",
     "text": [
      "\r",
      "Upgrading database; v2 -> v3: : 0it [00:00, ?it/s]"
     ]
    },
    {
     "name": "stdout",
     "output_type": "stream",
     "text": [
      "\n"
     ]
    },
    {
     "name": "stdout",
     "output_type": "stream",
     "text": [
      "\r",
      "0it [00:00, ?it/s]"
     ]
    },
    {
     "name": "stdout",
     "output_type": "stream",
     "text": [
      "\r",
      "Upgrading database; v3 -> v4: : 0it [00:00, ?it/s]"
     ]
    },
    {
     "name": "stdout",
     "output_type": "stream",
     "text": [
      "\r",
      "Upgrading database; v3 -> v4: : 0it [00:00, ?it/s]"
     ]
    },
    {
     "name": "stdout",
     "output_type": "stream",
     "text": [
      "\n",
      "\r",
      "  0%|          | 0/1 [00:00<?, ?it/s]"
     ]
    },
    {
     "name": "stdout",
     "output_type": "stream",
     "text": [
      "\r",
      "Upgrading database; v4 -> v5:   0%|          | 0/1 [00:00<?, ?it/s]"
     ]
    },
    {
     "name": "stdout",
     "output_type": "stream",
     "text": [
      "\r",
      "Upgrading database; v4 -> v5: 100%|██████████| 1/1 [00:00<00:00, 455.46it/s]"
     ]
    },
    {
     "name": "stdout",
     "output_type": "stream",
     "text": [
      "\n"
     ]
    },
    {
     "name": "stdout",
     "output_type": "stream",
     "text": [
      "\r",
      "0it [00:00, ?it/s]"
     ]
    },
    {
     "name": "stdout",
     "output_type": "stream",
     "text": [
      "\r",
      "Upgrading database; v5 -> v6: : 0it [00:00, ?it/s]"
     ]
    },
    {
     "name": "stdout",
     "output_type": "stream",
     "text": [
      "\r",
      "Upgrading database; v5 -> v6: : 0it [00:00, ?it/s]"
     ]
    },
    {
     "name": "stdout",
     "output_type": "stream",
     "text": [
      "\n",
      "\r",
      "  0%|          | 0/1 [00:00<?, ?it/s]"
     ]
    },
    {
     "name": "stdout",
     "output_type": "stream",
     "text": [
      "\r",
      "Upgrading database; v6 -> v7:   0%|          | 0/1 [00:00<?, ?it/s]"
     ]
    },
    {
     "name": "stdout",
     "output_type": "stream",
     "text": [
      "\r",
      "Upgrading database; v6 -> v7: 100%|██████████| 1/1 [00:00<00:00, 30.83it/s]"
     ]
    },
    {
     "name": "stdout",
     "output_type": "stream",
     "text": [
      "\n"
     ]
    },
    {
     "name": "stdout",
     "output_type": "stream",
     "text": [
      "\r",
      "  0%|          | 0/1 [00:00<?, ?it/s]"
     ]
    },
    {
     "name": "stdout",
     "output_type": "stream",
     "text": [
      "\r",
      "Upgrading database; v7 -> v8:   0%|          | 0/1 [00:00<?, ?it/s]"
     ]
    },
    {
     "name": "stdout",
     "output_type": "stream",
     "text": [
      "\r",
      "Upgrading database; v7 -> v8: 100%|██████████| 1/1 [00:00<00:00, 493.10it/s]"
     ]
    },
    {
     "name": "stdout",
     "output_type": "stream",
     "text": [
      "\n",
      "\r",
      "  0%|          | 0/1 [00:00<?, ?it/s]"
     ]
    },
    {
     "name": "stdout",
     "output_type": "stream",
     "text": [
      "\r",
      "Upgrading database; v8 -> v9:   0%|          | 0/1 [00:00<?, ?it/s]"
     ]
    },
    {
     "name": "stdout",
     "output_type": "stream",
     "text": [
      "\r",
      "Upgrading database; v8 -> v9: 100%|██████████| 1/1 [00:00<00:00, 525.01it/s]"
     ]
    },
    {
     "name": "stdout",
     "output_type": "stream",
     "text": [
      "\n"
     ]
    }
   ],
   "source": [
    "initialise_database()\n",
    "exp = load_or_create_experiment(experiment_name='tutorial_exp', sample_name=\"no sample\")"
   ]
  },
  {
   "cell_type": "markdown",
   "metadata": {},
   "source": [
    "Here, we define a simple function to benchmark the time it takes to insert n points with either numeric or array data type.\n",
    "We will compare both the time used to call ``add_result`` and the time used for the full measurement."
   ]
  },
  {
   "cell_type": "code",
   "execution_count": 4,
   "metadata": {
    "execution": {
     "iopub.execute_input": "2021-02-19T11:44:26.434643Z",
     "iopub.status.busy": "2021-02-19T11:44:26.433380Z",
     "iopub.status.idle": "2021-02-19T11:44:26.435284Z",
     "shell.execute_reply": "2021-02-19T11:44:26.435738Z"
    }
   },
   "outputs": [],
   "source": [
    "def insert_data(paramtype, npoints, nreps=1):\n",
    "\n",
    "    meas = Measurement(exp=exp)\n",
    "\n",
    "    x1 = ManualParameter('x1')\n",
    "    x2 = ManualParameter('x2')\n",
    "    x3 = ManualParameter('x3')\n",
    "    y1 = ManualParameter('y1')\n",
    "    y2 = ManualParameter('y2')\n",
    "\n",
    "    meas.register_parameter(x1, paramtype=paramtype)\n",
    "    meas.register_parameter(x2, paramtype=paramtype)\n",
    "    meas.register_parameter(x3, paramtype=paramtype)\n",
    "    meas.register_parameter(y1, setpoints=[x1, x2, x3],\n",
    "                            paramtype=paramtype)\n",
    "    meas.register_parameter(y2, setpoints=[x1, x2, x3],\n",
    "                            paramtype=paramtype)\n",
    "    start = time.perf_counter()\n",
    "    with meas.run() as datasaver:\n",
    "        start_adding = time.perf_counter()\n",
    "        for i in range(nreps):\n",
    "            datasaver.add_result((x1, np.random.rand(npoints)),\n",
    "                                 (x2, np.random.rand(npoints)),\n",
    "                                 (x3, np.random.rand(npoints)),\n",
    "                                 (y1, np.random.rand(npoints)),\n",
    "                                 (y2, np.random.rand(npoints)))\n",
    "        stop_adding = time.perf_counter()\n",
    "        run_id = datasaver.run_id\n",
    "    stop = time.perf_counter()\n",
    "    tot_time = stop - start\n",
    "    add_time = stop_adding - start_adding\n",
    "    return tot_time, add_time, run_id"
   ]
  },
  {
   "cell_type": "markdown",
   "metadata": {},
   "source": [
    "## Comparison between numeric/array data and binary blob"
   ]
  },
  {
   "cell_type": "markdown",
   "metadata": {},
   "source": [
    "### Case1: Short experiment time"
   ]
  },
  {
   "cell_type": "code",
   "execution_count": 5,
   "metadata": {
    "execution": {
     "iopub.execute_input": "2021-02-19T11:44:26.442653Z",
     "iopub.status.busy": "2021-02-19T11:44:26.442073Z",
     "iopub.status.idle": "2021-02-19T11:44:29.536961Z",
     "shell.execute_reply": "2021-02-19T11:44:29.536021Z"
    }
   },
   "outputs": [
    {
     "name": "stdout",
     "output_type": "stream",
     "text": [
      "Starting experimental run with id: 1. \n",
      "Starting experimental run with id: 2. \n"
     ]
    },
    {
     "name": "stdout",
     "output_type": "stream",
     "text": [
      "Starting experimental run with id: 3. \n"
     ]
    },
    {
     "name": "stdout",
     "output_type": "stream",
     "text": [
      "Starting experimental run with id: 4. \n"
     ]
    },
    {
     "name": "stdout",
     "output_type": "stream",
     "text": [
      "Starting experimental run with id: 5. \n",
      "Starting experimental run with id: 6. \n"
     ]
    },
    {
     "name": "stdout",
     "output_type": "stream",
     "text": [
      "Starting experimental run with id: 7. \n"
     ]
    },
    {
     "name": "stdout",
     "output_type": "stream",
     "text": [
      "Starting experimental run with id: 8. \n",
      "Starting experimental run with id: 9. \n"
     ]
    },
    {
     "name": "stdout",
     "output_type": "stream",
     "text": [
      "Starting experimental run with id: 10. \n",
      "Starting experimental run with id: 11. \n"
     ]
    },
    {
     "name": "stdout",
     "output_type": "stream",
     "text": [
      "Starting experimental run with id: 12. \n",
      "Starting experimental run with id: 13. \n"
     ]
    },
    {
     "name": "stdout",
     "output_type": "stream",
     "text": [
      "Starting experimental run with id: 14. \n"
     ]
    }
   ],
   "source": [
    "sizes = [1,500,1000,2000,3000,4000,5000]\n",
    "t_numeric = []\n",
    "t_numeric_add = []\n",
    "t_array = []\n",
    "t_array_add = []\n",
    "for size in sizes:\n",
    "    tn, tna, run_id_n =  insert_data('numeric', size)\n",
    "    t_numeric.append(tn)\n",
    "    t_numeric_add.append(tna)\n",
    "\n",
    "    ta, taa, run_id_a =  insert_data('array', size)\n",
    "    t_array.append(ta)\n",
    "    t_array_add.append(taa)"
   ]
  },
  {
   "cell_type": "code",
   "execution_count": 6,
   "metadata": {
    "execution": {
     "iopub.execute_input": "2021-02-19T11:44:29.579608Z",
     "iopub.status.busy": "2021-02-19T11:44:29.555775Z",
     "iopub.status.idle": "2021-02-19T11:44:29.753910Z",
     "shell.execute_reply": "2021-02-19T11:44:29.753430Z"
    }
   },
   "outputs": [
    {
     "data": {
      "image/png": "[encoded data removed]",
      "text/plain": [
       "<Figure size 432x288 with 1 Axes>"
      ]
     },
     "metadata": {
      "needs_background": "light"
     },
     "output_type": "display_data"
    }
   ],
   "source": [
    "fig, ax = plt.subplots(1,1)\n",
    "ax.plot(sizes, t_numeric, 'o-', label='Inserting row-by-row')\n",
    "ax.plot(sizes, t_numeric_add, 'o-', label='Inserting row-by-row: add_result only')\n",
    "ax.plot(sizes, t_array, 'd-', label='Inserting as binary blob')\n",
    "ax.plot(sizes, t_array_add, 'd-', label='Inserting as binary blob: add_result only')\n",
    "ax.legend()\n",
    "ax.set_xlabel('Array length')\n",
    "ax.set_ylabel('Time (s)')\n",
    "fig.tight_layout()"
   ]
  },
  {
   "cell_type": "markdown",
   "metadata": {},
   "source": [
    "As shown in the latter figure, the time to setup and and close the experiment is approximately 0.4 sec. In case of small array sizes, the difference between inserting values of data as arrays and inserting them row-by-row is relatively unimportant. At larger array sizes, i.e. above 10000 points, the cost of writing data as individual datapoints starts to become important.\n"
   ]
  },
  {
   "cell_type": "markdown",
   "metadata": {},
   "source": [
    "### Case2: Long experiment time "
   ]
  },
  {
   "cell_type": "code",
   "execution_count": 7,
   "metadata": {
    "execution": {
     "iopub.execute_input": "2021-02-19T11:44:29.761403Z",
     "iopub.status.busy": "2021-02-19T11:44:29.760244Z",
     "iopub.status.idle": "2021-02-19T11:45:32.147566Z",
     "shell.execute_reply": "2021-02-19T11:45:32.147016Z"
    }
   },
   "outputs": [
    {
     "name": "stdout",
     "output_type": "stream",
     "text": [
      "Starting experimental run with id: 15. \n",
      "Starting experimental run with id: 16. \n"
     ]
    },
    {
     "name": "stdout",
     "output_type": "stream",
     "text": [
      "Starting experimental run with id: 17. \n"
     ]
    },
    {
     "name": "stdout",
     "output_type": "stream",
     "text": [
      "Starting experimental run with id: 18. \n"
     ]
    },
    {
     "name": "stdout",
     "output_type": "stream",
     "text": [
      "Starting experimental run with id: 19. \n"
     ]
    },
    {
     "name": "stdout",
     "output_type": "stream",
     "text": [
      "Starting experimental run with id: 20. \n"
     ]
    },
    {
     "name": "stdout",
     "output_type": "stream",
     "text": [
      "Starting experimental run with id: 21. \n"
     ]
    },
    {
     "name": "stdout",
     "output_type": "stream",
     "text": [
      "Starting experimental run with id: 22. \n"
     ]
    },
    {
     "name": "stdout",
     "output_type": "stream",
     "text": [
      "Starting experimental run with id: 23. \n"
     ]
    },
    {
     "name": "stdout",
     "output_type": "stream",
     "text": [
      "Starting experimental run with id: 24. \n"
     ]
    },
    {
     "name": "stdout",
     "output_type": "stream",
     "text": [
      "Starting experimental run with id: 25. \n"
     ]
    },
    {
     "name": "stdout",
     "output_type": "stream",
     "text": [
      "Starting experimental run with id: 26. \n"
     ]
    },
    {
     "name": "stdout",
     "output_type": "stream",
     "text": [
      "Starting experimental run with id: 27. \n"
     ]
    },
    {
     "name": "stdout",
     "output_type": "stream",
     "text": [
      "Starting experimental run with id: 28. \n"
     ]
    }
   ],
   "source": [
    "sizes = [1,500,1000,2000,3000,4000,5000]\n",
    "nreps = 100\n",
    "t_numeric = []\n",
    "t_numeric_add = []\n",
    "t_numeric_run_ids = []\n",
    "t_array = []\n",
    "t_array_add = []\n",
    "t_array_run_ids = []\n",
    "for size in sizes:\n",
    "    tn, tna, run_id_n =  insert_data('numeric', size, nreps=nreps)\n",
    "    t_numeric.append(tn)\n",
    "    t_numeric_add.append(tna)\n",
    "    t_numeric_run_ids.append(run_id_n)\n",
    "\n",
    "    ta, taa, run_id_a =  insert_data('array', size, nreps=nreps)\n",
    "    t_array.append(ta)\n",
    "    t_array_add.append(taa)\n",
    "    t_array_run_ids.append(run_id_a)"
   ]
  },
  {
   "cell_type": "code",
   "execution_count": 8,
   "metadata": {
    "execution": {
     "iopub.execute_input": "2021-02-19T11:45:32.187456Z",
     "iopub.status.busy": "2021-02-19T11:45:32.186479Z",
     "iopub.status.idle": "2021-02-19T11:45:32.346357Z",
     "shell.execute_reply": "2021-02-19T11:45:32.346812Z"
    },
    "scrolled": true
   },
   "outputs": [
    {
     "data": {
      "image/png": "[encoded data removed]",
      "text/plain": [
       "<Figure size 432x288 with 1 Axes>"
      ]
     },
     "metadata": {
      "needs_background": "light"
     },
     "output_type": "display_data"
    }
   ],
   "source": [
    "fig, ax = plt.subplots(1,1)\n",
    "ax.plot(sizes, t_numeric, 'o-', label='Inserting row-by-row')\n",
    "ax.plot(sizes, t_numeric_add, 'o-', label='Inserting row-by-row: add_result only')\n",
    "ax.plot(sizes, t_array, 'd-', label='Inserting as binary blob')\n",
    "ax.plot(sizes, t_array_add, 'd-', label='Inserting as binary blob: add_result only')\n",
    "ax.legend()\n",
    "ax.set_xlabel('Array length')\n",
    "ax.set_ylabel('Time (s)')\n",
    "fig.tight_layout()"
   ]
  },
  {
   "cell_type": "markdown",
   "metadata": {},
   "source": [
    "However, as we increase the length of the experiment, as seen here by repeating the insertion 100 times, we see a big difference between inserting values of the data row-by-row and inserting it as a binary blob."
   ]
  },
  {
   "cell_type": "markdown",
   "metadata": {},
   "source": [
    "## Loading the data "
   ]
  },
  {
   "cell_type": "code",
   "execution_count": 9,
   "metadata": {
    "execution": {
     "iopub.execute_input": "2021-02-19T11:45:32.350715Z",
     "iopub.status.busy": "2021-02-19T11:45:32.350197Z",
     "iopub.status.idle": "2021-02-19T11:45:32.354163Z",
     "shell.execute_reply": "2021-02-19T11:45:32.353709Z"
    }
   },
   "outputs": [],
   "source": [
    "from qcodes.dataset.data_set import load_by_id\n",
    "from qcodes.dataset.data_export import get_data_by_id"
   ]
  },
  {
   "cell_type": "markdown",
   "metadata": {},
   "source": [
    "As usual you can load the data by using the ``load_by_id`` function but you will notice that the different storage methods\n",
    "are reflected in shape of the data as it is retrieved. "
   ]
  },
  {
   "cell_type": "code",
   "execution_count": 10,
   "metadata": {
    "execution": {
     "iopub.execute_input": "2021-02-19T11:45:32.357828Z",
     "iopub.status.busy": "2021-02-19T11:45:32.357310Z",
     "iopub.status.idle": "2021-02-19T11:45:32.361658Z",
     "shell.execute_reply": "2021-02-19T11:45:32.361174Z"
    }
   },
   "outputs": [],
   "source": [
    "run_id_n = t_numeric_run_ids[0]\n",
    "run_id_a = t_array_run_ids[0]"
   ]
  },
  {
   "cell_type": "code",
   "execution_count": 11,
   "metadata": {
    "execution": {
     "iopub.execute_input": "2021-02-19T11:45:32.365231Z",
     "iopub.status.busy": "2021-02-19T11:45:32.364653Z",
     "iopub.status.idle": "2021-02-19T11:45:32.376246Z",
     "shell.execute_reply": "2021-02-19T11:45:32.375779Z"
    },
    "scrolled": true
   },
   "outputs": [
    {
     "data": {
      "text/plain": [
       "{'x1': {'x1': array([0.10495507, 0.10495507, 0.37796271, 0.37796271, 0.31224958,\n",
       "         0.31224958, 0.89879705, 0.89879705, 0.71624366, 0.71624366,\n",
       "         0.75700915, 0.75700915, 0.58203989, 0.58203989, 0.68673116,\n",
       "         0.68673116, 0.01809092, 0.01809092, 0.25985042, 0.25985042,\n",
       "         0.20015345, 0.20015345, 0.49828203, 0.49828203, 0.35868957,\n",
       "         0.35868957, 0.02718758, 0.02718758, 0.96179524, 0.96179524,\n",
       "         0.18137653, 0.18137653, 0.49629405, 0.49629405, 0.06634995,\n",
       "         0.06634995, 0.64349104, 0.64349104, 0.04553752, 0.04553752,\n",
       "         0.29296128, 0.29296128, 0.00633345, 0.00633345, 0.6056031 ,\n",
       "         0.6056031 , 0.32695216, 0.32695216, 0.46467623, 0.46467623,\n",
       "         0.09561346, 0.09561346, 0.87844527, 0.87844527, 0.89132994,\n",
       "         0.89132994, 0.97411025, 0.97411025, 0.39234227, 0.39234227,\n",
       "         0.96317149, 0.96317149, 0.10524849, 0.10524849, 0.09018653,\n",
       "         0.09018653, 0.09207804, 0.09207804, 0.53915728, 0.53915728,\n",
       "         0.00834544, 0.00834544, 0.5224461 , 0.5224461 , 0.64860291,\n",
       "         0.64860291, 0.38631427, 0.38631427, 0.16423144, 0.16423144,\n",
       "         0.6979667 , 0.6979667 , 0.34171808, 0.34171808, 0.9505742 ,\n",
       "         0.9505742 , 0.57669923, 0.57669923, 0.62389311, 0.62389311,\n",
       "         0.94867218, 0.94867218, 0.85946029, 0.85946029, 0.13523363,\n",
       "         0.13523363, 0.55965322, 0.55965322, 0.02556556, 0.02556556,\n",
       "         0.91933869, 0.91933869, 0.17980554, 0.17980554, 0.05712698,\n",
       "         0.05712698, 0.60057863, 0.60057863, 0.71184897, 0.71184897,\n",
       "         0.18675328, 0.18675328, 0.24380539, 0.24380539, 0.63818389,\n",
       "         0.63818389, 0.84869499, 0.84869499, 0.10359738, 0.10359738,\n",
       "         0.52652174, 0.52652174, 0.60903819, 0.60903819, 0.84064449,\n",
       "         0.84064449, 0.550166  , 0.550166  , 0.54678347, 0.54678347,\n",
       "         0.35948347, 0.35948347, 0.67604366, 0.67604366, 0.13876703,\n",
       "         0.13876703, 0.9416423 , 0.9416423 , 0.45358366, 0.45358366,\n",
       "         0.82211169, 0.82211169, 0.63337437, 0.63337437, 0.32122111,\n",
       "         0.32122111, 0.39537602, 0.39537602, 0.69394847, 0.69394847,\n",
       "         0.02097948, 0.02097948, 0.5966072 , 0.5966072 , 0.10053994,\n",
       "         0.10053994, 0.21750184, 0.21750184, 0.10008702, 0.10008702,\n",
       "         0.92551082, 0.92551082, 0.49756282, 0.49756282, 0.81780859,\n",
       "         0.81780859, 0.58075484, 0.58075484, 0.13816325, 0.13816325,\n",
       "         0.78528809, 0.78528809, 0.29341469, 0.29341469, 0.16878146,\n",
       "         0.16878146, 0.13173579, 0.13173579, 0.8371805 , 0.8371805 ,\n",
       "         0.04639528, 0.04639528, 0.29352271, 0.29352271, 0.57819276,\n",
       "         0.57819276, 0.37920487, 0.37920487, 0.03140307, 0.03140307,\n",
       "         0.75025216, 0.75025216, 0.3533333 , 0.3533333 , 0.64304054,\n",
       "         0.64304054, 0.96157044, 0.96157044, 0.59841259, 0.59841259])}}"
      ]
     },
     "execution_count": 1,
     "metadata": {},
     "output_type": "execute_result"
    }
   ],
   "source": [
    "ds = load_by_id(run_id_n)\n",
    "ds.get_parameter_data('x1')"
   ]
  },
  {
   "cell_type": "markdown",
   "metadata": {},
   "source": [
    "And a dataset stored as binary arrays"
   ]
  },
  {
   "cell_type": "code",
   "execution_count": 12,
   "metadata": {
    "execution": {
     "iopub.execute_input": "2021-02-19T11:45:32.379518Z",
     "iopub.status.busy": "2021-02-19T11:45:32.378975Z",
     "iopub.status.idle": "2021-02-19T11:45:32.437734Z",
     "shell.execute_reply": "2021-02-19T11:45:32.438577Z"
    },
    "scrolled": true
   },
   "outputs": [
    {
     "data": {
      "text/plain": [
       "{'x1': {'x1': array([[1.01107851e-01],\n",
       "         [1.01107851e-01],\n",
       "         [9.48461533e-01],\n",
       "         [9.48461533e-01],\n",
       "         [8.91707064e-01],\n",
       "         [8.91707064e-01],\n",
       "         [6.90265093e-02],\n",
       "         [6.90265093e-02],\n",
       "         [7.13637558e-01],\n",
       "         [7.13637558e-01],\n",
       "         [9.26630612e-01],\n",
       "         [9.26630612e-01],\n",
       "         [7.95788570e-01],\n",
       "         [7.95788570e-01],\n",
       "         [1.78042285e-01],\n",
       "         [1.78042285e-01],\n",
       "         [7.32143153e-01],\n",
       "         [7.32143153e-01],\n",
       "         [8.86794299e-01],\n",
       "         [8.86794299e-01],\n",
       "         [2.25234428e-01],\n",
       "         [2.25234428e-01],\n",
       "         [3.46884328e-01],\n",
       "         [3.46884328e-01],\n",
       "         [5.67456036e-01],\n",
       "         [5.67456036e-01],\n",
       "         [4.05946649e-01],\n",
       "         [4.05946649e-01],\n",
       "         [1.20564589e-01],\n",
       "         [1.20564589e-01],\n",
       "         [7.79119824e-01],\n",
       "         [7.79119824e-01],\n",
       "         [2.27765948e-01],\n",
       "         [2.27765948e-01],\n",
       "         [3.07821774e-01],\n",
       "         [3.07821774e-01],\n",
       "         [4.21350234e-02],\n",
       "         [4.21350234e-02],\n",
       "         [8.47599546e-01],\n",
       "         [8.47599546e-01],\n",
       "         [4.67759306e-03],\n",
       "         [4.67759306e-03],\n",
       "         [1.03360841e-01],\n",
       "         [1.03360841e-01],\n",
       "         [4.99497131e-01],\n",
       "         [4.99497131e-01],\n",
       "         [3.54892022e-01],\n",
       "         [3.54892022e-01],\n",
       "         [9.43320920e-01],\n",
       "         [9.43320920e-01],\n",
       "         [3.88228053e-01],\n",
       "         [3.88228053e-01],\n",
       "         [8.77782475e-01],\n",
       "         [8.77782475e-01],\n",
       "         [5.59047228e-02],\n",
       "         [5.59047228e-02],\n",
       "         [1.15235496e-01],\n",
       "         [1.15235496e-01],\n",
       "         [7.37129405e-01],\n",
       "         [7.37129405e-01],\n",
       "         [9.32814732e-01],\n",
       "         [9.32814732e-01],\n",
       "         [8.03736899e-01],\n",
       "         [8.03736899e-01],\n",
       "         [5.18728926e-01],\n",
       "         [5.18728926e-01],\n",
       "         [3.01912049e-02],\n",
       "         [3.01912049e-02],\n",
       "         [4.97673269e-01],\n",
       "         [4.97673269e-01],\n",
       "         [1.94474179e-01],\n",
       "         [1.94474179e-01],\n",
       "         [1.05787273e-01],\n",
       "         [1.05787273e-01],\n",
       "         [5.68664587e-01],\n",
       "         [5.68664587e-01],\n",
       "         [4.52800051e-01],\n",
       "         [4.52800051e-01],\n",
       "         [7.50611154e-01],\n",
       "         [7.50611154e-01],\n",
       "         [1.20638231e-01],\n",
       "         [1.20638231e-01],\n",
       "         [2.08344097e-01],\n",
       "         [2.08344097e-01],\n",
       "         [7.93690838e-01],\n",
       "         [7.93690838e-01],\n",
       "         [7.25888084e-01],\n",
       "         [7.25888084e-01],\n",
       "         [4.96558998e-01],\n",
       "         [4.96558998e-01],\n",
       "         [6.66415645e-01],\n",
       "         [6.66415645e-01],\n",
       "         [3.08742345e-01],\n",
       "         [3.08742345e-01],\n",
       "         [1.19607215e-01],\n",
       "         [1.19607215e-01],\n",
       "         [8.09595866e-01],\n",
       "         [8.09595866e-01],\n",
       "         [6.71341799e-01],\n",
       "         [6.71341799e-01],\n",
       "         [7.38470861e-01],\n",
       "         [7.38470861e-01],\n",
       "         [4.27145459e-01],\n",
       "         [4.27145459e-01],\n",
       "         [8.01416192e-01],\n",
       "         [8.01416192e-01],\n",
       "         [8.90627542e-01],\n",
       "         [8.90627542e-01],\n",
       "         [8.47170839e-01],\n",
       "         [8.47170839e-01],\n",
       "         [4.74289969e-02],\n",
       "         [4.74289969e-02],\n",
       "         [4.61930016e-01],\n",
       "         [4.61930016e-01],\n",
       "         [2.11617675e-01],\n",
       "         [2.11617675e-01],\n",
       "         [4.60201228e-01],\n",
       "         [4.60201228e-01],\n",
       "         [5.15869881e-01],\n",
       "         [5.15869881e-01],\n",
       "         [1.52921910e-01],\n",
       "         [1.52921910e-01],\n",
       "         [7.30616146e-01],\n",
       "         [7.30616146e-01],\n",
       "         [2.66183369e-01],\n",
       "         [2.66183369e-01],\n",
       "         [9.31194986e-02],\n",
       "         [9.31194986e-02],\n",
       "         [7.66946124e-02],\n",
       "         [7.66946124e-02],\n",
       "         [8.15344380e-01],\n",
       "         [8.15344380e-01],\n",
       "         [6.55464889e-01],\n",
       "         [6.55464889e-01],\n",
       "         [5.02682762e-01],\n",
       "         [5.02682762e-01],\n",
       "         [5.44301674e-01],\n",
       "         [5.44301674e-01],\n",
       "         [2.33525470e-01],\n",
       "         [2.33525470e-01],\n",
       "         [7.93159830e-01],\n",
       "         [7.93159830e-01],\n",
       "         [3.43250018e-02],\n",
       "         [3.43250018e-02],\n",
       "         [9.03487955e-01],\n",
       "         [9.03487955e-01],\n",
       "         [2.28846051e-02],\n",
       "         [2.28846051e-02],\n",
       "         [2.95990041e-01],\n",
       "         [2.95990041e-01],\n",
       "         [4.71802287e-01],\n",
       "         [4.71802287e-01],\n",
       "         [3.39444547e-01],\n",
       "         [3.39444547e-01],\n",
       "         [3.07438308e-01],\n",
       "         [3.07438308e-01],\n",
       "         [3.20024883e-01],\n",
       "         [3.20024883e-01],\n",
       "         [6.84406979e-02],\n",
       "         [6.84406979e-02],\n",
       "         [8.25989443e-01],\n",
       "         [8.25989443e-01],\n",
       "         [3.03222833e-01],\n",
       "         [3.03222833e-01],\n",
       "         [4.16672254e-01],\n",
       "         [4.16672254e-01],\n",
       "         [7.97977437e-01],\n",
       "         [7.97977437e-01],\n",
       "         [2.18308841e-01],\n",
       "         [2.18308841e-01],\n",
       "         [9.51642724e-01],\n",
       "         [9.51642724e-01],\n",
       "         [1.01459530e-01],\n",
       "         [1.01459530e-01],\n",
       "         [2.63180769e-04],\n",
       "         [2.63180769e-04],\n",
       "         [2.01275292e-01],\n",
       "         [2.01275292e-01],\n",
       "         [4.07589951e-01],\n",
       "         [4.07589951e-01],\n",
       "         [8.94887234e-01],\n",
       "         [8.94887234e-01],\n",
       "         [3.04729982e-01],\n",
       "         [3.04729982e-01],\n",
       "         [6.06407466e-01],\n",
       "         [6.06407466e-01],\n",
       "         [6.52514956e-01],\n",
       "         [6.52514956e-01],\n",
       "         [4.61824677e-01],\n",
       "         [4.61824677e-01],\n",
       "         [6.40687823e-02],\n",
       "         [6.40687823e-02],\n",
       "         [2.70322674e-01],\n",
       "         [2.70322674e-01],\n",
       "         [6.46817253e-01],\n",
       "         [6.46817253e-01],\n",
       "         [2.86859252e-01],\n",
       "         [2.86859252e-01],\n",
       "         [1.03419633e-01],\n",
       "         [1.03419633e-01]])}}"
      ]
     },
     "execution_count": 1,
     "metadata": {},
     "output_type": "execute_result"
    }
   ],
   "source": [
    "ds = load_by_id(run_id_a)\n",
    "ds.get_parameter_data('x1')"
   ]
  },
  {
   "cell_type": "code",
   "execution_count": null,
   "metadata": {},
   "outputs": [],
   "source": []
  }
 ],
 "metadata": {
  "kernelspec": {
   "display_name": "Python 3",
   "language": "python",
   "name": "python3"
  },
  "language_info": {
   "codemirror_mode": {
    "name": "ipython",
    "version": 3
   },
   "file_extension": ".py",
   "mimetype": "text/x-python",
   "name": "python",
   "nbconvert_exporter": "python",
   "pygments_lexer": "ipython3",
   "version": "3.7.9"
  },
  "nbsphinx": {
   "timeout": 600
  },
  "toc": {
   "base_numbering": 1,
   "nav_menu": {},
   "number_sections": true,
   "sideBar": true,
   "skip_h1_title": false,
   "title_cell": "Table of Contents",
   "title_sidebar": "Contents",
   "toc_cell": false,
   "toc_position": {},
   "toc_section_display": true,
   "toc_window_display": false
  },
  "varInspector": {
   "cols": {
    "lenName": 16,
    "lenType": 16,
    "lenVar": 40
   },
   "kernels_config": {
    "python": {
     "delete_cmd_postfix": "",
     "delete_cmd_prefix": "del ",
     "library": "var_list.py",
     "varRefreshCmd": "print(var_dic_list())"
    },
    "r": {
     "delete_cmd_postfix": ") ",
     "delete_cmd_prefix": "rm(",
     "library": "var_list.r",
     "varRefreshCmd": "cat(var_dic_list()) "
    }
   },
   "types_to_exclude": [
    "module",
    "function",
    "builtin_function_or_method",
    "instance",
    "_Feature"
   ],
   "window_display": false
  }
 },
 "nbformat": 4,
 "nbformat_minor": 2
}
