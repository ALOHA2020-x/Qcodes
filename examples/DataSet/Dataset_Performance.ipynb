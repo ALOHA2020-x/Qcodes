{
 "cells": [
  {
   "cell_type": "markdown",
   "metadata": {},
   "source": [
    "# DataSet Performance\n",
    "\n",
    "This notebook shows the trade-off between inserting data into a database row-by-row and as binary blobs. Inserting the data row-by-row means that we have direct access to all the data and may perform queries directly on the values of the data. On the other hand, as we shall see, this is much slower than inserting the data directly as binary blobs."
   ]
  },
  {
   "cell_type": "markdown",
   "metadata": {},
   "source": [
    "First, we choose a new location for the database to ensure that we don't add a bunch of benchmarking data to the default one."
   ]
  },
  {
   "cell_type": "code",
   "execution_count": 1,
   "metadata": {
    "execution": {
     "iopub.execute_input": "2020-10-26T13:36:48.121459Z",
     "iopub.status.busy": "2020-10-26T13:36:48.120896Z",
     "iopub.status.idle": "2020-10-26T13:36:49.097162Z",
     "shell.execute_reply": "2020-10-26T13:36:49.097774Z"
    }
   },
   "outputs": [
    {
     "name": "stdout",
     "output_type": "stream",
     "text": [
      "Logging hadn't been started.\n",
      "Activating auto-logging. Current session state plus future input saved.\n",
      "Filename       : /home/vsts/.qcodes/logs/command_history.log\n",
      "Mode           : append\n",
      "Output logging : True\n",
      "Raw input log  : False\n",
      "Timestamping   : True\n",
      "State          : active\n"
     ]
    },
    {
     "name": "stdout",
     "output_type": "stream",
     "text": [
      "Qcodes Logfile : /home/vsts/.qcodes/logs/201026-15066-qcodes.log\n"
     ]
    }
   ],
   "source": [
    "import os\n",
    "cwd = os.getcwd()\n",
    "import qcodes as qc\n",
    "qc.config[\"core\"][\"db_location\"] = os.path.join(cwd, 'testing.db')\n"
   ]
  },
  {
   "cell_type": "code",
   "execution_count": 2,
   "metadata": {
    "execution": {
     "iopub.execute_input": "2020-10-26T13:36:49.105171Z",
     "iopub.status.busy": "2020-10-26T13:36:49.103279Z",
     "iopub.status.idle": "2020-10-26T13:36:49.270705Z",
     "shell.execute_reply": "2020-10-26T13:36:49.270220Z"
    }
   },
   "outputs": [],
   "source": [
    "%matplotlib inline\n",
    "import time\n",
    "import matplotlib.pyplot as plt\n",
    "import numpy as np\n",
    "\n",
    "import qcodes as qc\n",
    "from qcodes.instrument.parameter import ManualParameter\n",
    "from qcodes.dataset.experiment_container import (Experiment,\n",
    "                                                 load_last_experiment,\n",
    "                                                 new_experiment)\n",
    "from qcodes.dataset.sqlite.database import initialise_database\n",
    "from qcodes import load_or_create_experiment\n",
    "from qcodes.dataset.measurements import Measurement"
   ]
  },
  {
   "cell_type": "code",
   "execution_count": 3,
   "metadata": {
    "execution": {
     "iopub.execute_input": "2020-10-26T13:36:49.274703Z",
     "iopub.status.busy": "2020-10-26T13:36:49.273783Z",
     "iopub.status.idle": "2020-10-26T13:36:49.386057Z",
     "shell.execute_reply": "2020-10-26T13:36:49.384678Z"
    }
   },
   "outputs": [
    {
     "name": "stdout",
     "output_type": "stream",
     "text": [
      "\r",
      "0it [00:00, ?it/s]"
     ]
    },
    {
     "name": "stdout",
     "output_type": "stream",
     "text": [
      "\r",
      "Upgrading database; v0 -> v1: : 0it [00:00, ?it/s]"
     ]
    },
    {
     "name": "stdout",
     "output_type": "stream",
     "text": [
      "\r",
      "Upgrading database; v0 -> v1: : 0it [00:00, ?it/s]"
     ]
    },
    {
     "name": "stdout",
     "output_type": "stream",
     "text": [
      "\n",
      "\r",
      "  0%|          | 0/1 [00:00<?, ?it/s]"
     ]
    },
    {
     "name": "stdout",
     "output_type": "stream",
     "text": [
      "\r",
      "Upgrading database; v1 -> v2:   0%|          | 0/1 [00:00<?, ?it/s]"
     ]
    },
    {
     "name": "stdout",
     "output_type": "stream",
     "text": [
      "\r",
      "Upgrading database; v1 -> v2: 100%|██████████| 1/1 [00:00<00:00, 600.99it/s]"
     ]
    },
    {
     "name": "stdout",
     "output_type": "stream",
     "text": [
      "\n",
      "\r",
      "0it [00:00, ?it/s]"
     ]
    },
    {
     "name": "stdout",
     "output_type": "stream",
     "text": [
      "\r",
      "Upgrading database; v2 -> v3: : 0it [00:00, ?it/s]"
     ]
    },
    {
     "name": "stdout",
     "output_type": "stream",
     "text": [
      "\r",
      "Upgrading database; v2 -> v3: : 0it [00:00, ?it/s]"
     ]
    },
    {
     "name": "stdout",
     "output_type": "stream",
     "text": [
      "\n",
      "\r",
      "0it [00:00, ?it/s]"
     ]
    },
    {
     "name": "stdout",
     "output_type": "stream",
     "text": [
      "\r",
      "Upgrading database; v3 -> v4: : 0it [00:00, ?it/s]"
     ]
    },
    {
     "name": "stdout",
     "output_type": "stream",
     "text": [
      "\r",
      "Upgrading database; v3 -> v4: : 0it [00:00, ?it/s]"
     ]
    },
    {
     "name": "stdout",
     "output_type": "stream",
     "text": [
      "\n",
      "\r",
      "  0%|          | 0/1 [00:00<?, ?it/s]"
     ]
    },
    {
     "name": "stdout",
     "output_type": "stream",
     "text": [
      "\r",
      "Upgrading database; v4 -> v5:   0%|          | 0/1 [00:00<?, ?it/s]"
     ]
    },
    {
     "name": "stdout",
     "output_type": "stream",
     "text": [
      "\r",
      "Upgrading database; v4 -> v5: 100%|██████████| 1/1 [00:00<00:00, 339.54it/s]"
     ]
    },
    {
     "name": "stdout",
     "output_type": "stream",
     "text": [
      "\n",
      "\r",
      "0it [00:00, ?it/s]"
     ]
    },
    {
     "name": "stdout",
     "output_type": "stream",
     "text": [
      "\r",
      "Upgrading database; v5 -> v6: : 0it [00:00, ?it/s]"
     ]
    },
    {
     "name": "stdout",
     "output_type": "stream",
     "text": [
      "\r",
      "Upgrading database; v5 -> v6: : 0it [00:00, ?it/s]"
     ]
    },
    {
     "name": "stdout",
     "output_type": "stream",
     "text": [
      "\n",
      "\r",
      "  0%|          | 0/1 [00:00<?, ?it/s]"
     ]
    },
    {
     "name": "stdout",
     "output_type": "stream",
     "text": [
      "\r",
      "Upgrading database; v6 -> v7:   0%|          | 0/1 [00:00<?, ?it/s]"
     ]
    },
    {
     "name": "stdout",
     "output_type": "stream",
     "text": [
      "\r",
      "Upgrading database; v6 -> v7: 100%|██████████| 1/1 [00:00<00:00, 383.74it/s]"
     ]
    },
    {
     "name": "stdout",
     "output_type": "stream",
     "text": [
      "\n",
      "\r",
      "  0%|          | 0/1 [00:00<?, ?it/s]"
     ]
    },
    {
     "name": "stdout",
     "output_type": "stream",
     "text": [
      "\r",
      "Upgrading database; v7 -> v8:   0%|          | 0/1 [00:00<?, ?it/s]"
     ]
    },
    {
     "name": "stdout",
     "output_type": "stream",
     "text": [
      "\r",
      "Upgrading database; v7 -> v8: 100%|██████████| 1/1 [00:00<00:00, 782.08it/s]"
     ]
    },
    {
     "name": "stdout",
     "output_type": "stream",
     "text": [
      "\n",
      "\r",
      "  0%|          | 0/1 [00:00<?, ?it/s]"
     ]
    },
    {
     "name": "stdout",
     "output_type": "stream",
     "text": [
      "\r",
      "Upgrading database; v8 -> v9:   0%|          | 0/1 [00:00<?, ?it/s]"
     ]
    },
    {
     "name": "stdout",
     "output_type": "stream",
     "text": [
      "\r",
      "Upgrading database; v8 -> v9: 100%|██████████| 1/1 [00:00<00:00, 815.54it/s]"
     ]
    },
    {
     "name": "stdout",
     "output_type": "stream",
     "text": [
      "\n"
     ]
    }
   ],
   "source": [
    "initialise_database()\n",
    "exp = load_or_create_experiment(experiment_name='tutorial_exp', sample_name=\"no sample\")"
   ]
  },
  {
   "cell_type": "markdown",
   "metadata": {},
   "source": [
    "Here, we define a simple function to benchmark the time it takes to insert n points with either numeric or array data type.\n",
    "We will compare both the time used to call ``add_result`` and the time used for the full measurement."
   ]
  },
  {
   "cell_type": "code",
   "execution_count": 4,
   "metadata": {
    "execution": {
     "iopub.execute_input": "2020-10-26T13:36:49.395958Z",
     "iopub.status.busy": "2020-10-26T13:36:49.394720Z",
     "iopub.status.idle": "2020-10-26T13:36:49.396632Z",
     "shell.execute_reply": "2020-10-26T13:36:49.397124Z"
    }
   },
   "outputs": [],
   "source": [
    "def insert_data(paramtype, npoints, nreps=1):\n",
    "\n",
    "    meas = Measurement(exp=exp)\n",
    "\n",
    "    x1 = ManualParameter('x1')\n",
    "    x2 = ManualParameter('x2')\n",
    "    x3 = ManualParameter('x3')\n",
    "    y1 = ManualParameter('y1')\n",
    "    y2 = ManualParameter('y2')\n",
    "\n",
    "    meas.register_parameter(x1, paramtype=paramtype)\n",
    "    meas.register_parameter(x2, paramtype=paramtype)\n",
    "    meas.register_parameter(x3, paramtype=paramtype)\n",
    "    meas.register_parameter(y1, setpoints=[x1, x2, x3],\n",
    "                            paramtype=paramtype)\n",
    "    meas.register_parameter(y2, setpoints=[x1, x2, x3],\n",
    "                            paramtype=paramtype)\n",
    "    start = time.perf_counter()\n",
    "    with meas.run() as datasaver:\n",
    "        start_adding = time.perf_counter()\n",
    "        for i in range(nreps):\n",
    "            datasaver.add_result((x1, np.random.rand(npoints)),\n",
    "                                 (x2, np.random.rand(npoints)),\n",
    "                                 (x3, np.random.rand(npoints)),\n",
    "                                 (y1, np.random.rand(npoints)),\n",
    "                                 (y2, np.random.rand(npoints)))\n",
    "        stop_adding = time.perf_counter()\n",
    "        run_id = datasaver.run_id\n",
    "    stop = time.perf_counter()\n",
    "    tot_time = stop - start\n",
    "    add_time = stop_adding - start_adding\n",
    "    return tot_time, add_time, run_id"
   ]
  },
  {
   "cell_type": "markdown",
   "metadata": {},
   "source": [
    "## Comparison between numeric/array data and binary blob"
   ]
  },
  {
   "cell_type": "markdown",
   "metadata": {},
   "source": [
    "### Case1: Short experiment time"
   ]
  },
  {
   "cell_type": "code",
   "execution_count": 5,
   "metadata": {
    "execution": {
     "iopub.execute_input": "2020-10-26T13:36:49.406058Z",
     "iopub.status.busy": "2020-10-26T13:36:49.405009Z",
     "iopub.status.idle": "2020-10-26T13:36:50.190195Z",
     "shell.execute_reply": "2020-10-26T13:36:50.189644Z"
    }
   },
   "outputs": [
    {
     "name": "stdout",
     "output_type": "stream",
     "text": [
      "Starting experimental run with id: 1. \n",
      "Starting experimental run with id: 2. \n",
      "Starting experimental run with id: 3. \n",
      "Starting experimental run with id: 4. \n"
     ]
    },
    {
     "name": "stdout",
     "output_type": "stream",
     "text": [
      "Starting experimental run with id: 5. \n"
     ]
    },
    {
     "name": "stdout",
     "output_type": "stream",
     "text": [
      "Starting experimental run with id: 6. \n"
     ]
    },
    {
     "name": "stdout",
     "output_type": "stream",
     "text": [
      "Starting experimental run with id: 7. \n"
     ]
    },
    {
     "name": "stdout",
     "output_type": "stream",
     "text": [
      "Starting experimental run with id: 8. \n",
      "Starting experimental run with id: 9. \n"
     ]
    },
    {
     "name": "stdout",
     "output_type": "stream",
     "text": [
      "Starting experimental run with id: 10. \n",
      "Starting experimental run with id: 11. \n"
     ]
    },
    {
     "name": "stdout",
     "output_type": "stream",
     "text": [
      "Starting experimental run with id: 12. \n",
      "Starting experimental run with id: 13. \n"
     ]
    },
    {
     "name": "stdout",
     "output_type": "stream",
     "text": [
      "Starting experimental run with id: 14. \n"
     ]
    }
   ],
   "source": [
    "sizes = [1,500,1000,2000,3000,4000,5000]\n",
    "t_numeric = []\n",
    "t_numeric_add = []\n",
    "t_array = []\n",
    "t_array_add = []\n",
    "for size in sizes:\n",
    "    tn, tna, run_id_n =  insert_data('numeric', size)\n",
    "    t_numeric.append(tn)\n",
    "    t_numeric_add.append(tna)\n",
    "\n",
    "    ta, taa, run_id_a =  insert_data('array', size)\n",
    "    t_array.append(ta)\n",
    "    t_array_add.append(taa)"
   ]
  },
  {
   "cell_type": "code",
   "execution_count": 6,
   "metadata": {
    "execution": {
     "iopub.execute_input": "2020-10-26T13:36:50.214748Z",
     "iopub.status.busy": "2020-10-26T13:36:50.210346Z",
     "iopub.status.idle": "2020-10-26T13:36:50.435805Z",
     "shell.execute_reply": "2020-10-26T13:36:50.436193Z"
    }
   },
   "outputs": [
    {
     "data": {
      "image/png": "[encoded data removed]",
      "text/plain": [
       "<Figure size 432x288 with 1 Axes>"
      ]
     },
     "metadata": {
      "needs_background": "light"
     },
     "output_type": "display_data"
    }
   ],
   "source": [
    "fig, ax = plt.subplots(1,1)\n",
    "ax.plot(sizes, t_numeric, 'o-', label='Inserting row-by-row')\n",
    "ax.plot(sizes, t_numeric_add, 'o-', label='Inserting row-by-row: add_result only')\n",
    "ax.plot(sizes, t_array, 'd-', label='Inserting as binary blob')\n",
    "ax.plot(sizes, t_array_add, 'd-', label='Inserting as binary blob: add_result only')\n",
    "ax.legend()\n",
    "ax.set_xlabel('Array length')\n",
    "ax.set_ylabel('Time (s)')\n",
    "fig.tight_layout()"
   ]
  },
  {
   "cell_type": "markdown",
   "metadata": {},
   "source": [
    "As shown in the latter figure, the time to setup and and close the experiment is approximately 0.4 sec. In case of small array sizes, the difference between inserting values of data as arrays and inserting them row-by-row is relatively unimportant. At larger array sizes, i.e. above 10000 points, the cost of writing data as individual datapoints starts to become important.\n"
   ]
  },
  {
   "cell_type": "markdown",
   "metadata": {},
   "source": [
    "### Case2: Long experiment time "
   ]
  },
  {
   "cell_type": "code",
   "execution_count": 7,
   "metadata": {
    "execution": {
     "iopub.execute_input": "2020-10-26T13:36:50.442501Z",
     "iopub.status.busy": "2020-10-26T13:36:50.441237Z",
     "iopub.status.idle": "2020-10-26T13:37:44.689733Z",
     "shell.execute_reply": "2020-10-26T13:37:44.689172Z"
    }
   },
   "outputs": [
    {
     "name": "stdout",
     "output_type": "stream",
     "text": [
      "Starting experimental run with id: 15. \n",
      "Starting experimental run with id: 16. \n",
      "Starting experimental run with id: 17. \n"
     ]
    },
    {
     "name": "stdout",
     "output_type": "stream",
     "text": [
      "Starting experimental run with id: 18. \n",
      "Starting experimental run with id: 19. \n"
     ]
    },
    {
     "name": "stdout",
     "output_type": "stream",
     "text": [
      "Starting experimental run with id: 20. \n"
     ]
    },
    {
     "name": "stdout",
     "output_type": "stream",
     "text": [
      "Starting experimental run with id: 21. \n"
     ]
    },
    {
     "name": "stdout",
     "output_type": "stream",
     "text": [
      "Starting experimental run with id: 22. \n"
     ]
    },
    {
     "name": "stdout",
     "output_type": "stream",
     "text": [
      "Starting experimental run with id: 23. \n"
     ]
    },
    {
     "name": "stdout",
     "output_type": "stream",
     "text": [
      "Starting experimental run with id: 24. \n"
     ]
    },
    {
     "name": "stdout",
     "output_type": "stream",
     "text": [
      "Starting experimental run with id: 25. \n"
     ]
    },
    {
     "name": "stdout",
     "output_type": "stream",
     "text": [
      "Starting experimental run with id: 26. \n"
     ]
    },
    {
     "name": "stdout",
     "output_type": "stream",
     "text": [
      "Starting experimental run with id: 27. \n"
     ]
    },
    {
     "name": "stdout",
     "output_type": "stream",
     "text": [
      "Starting experimental run with id: 28. \n"
     ]
    }
   ],
   "source": [
    "sizes = [1,500,1000,2000,3000,4000,5000]\n",
    "nreps = 100\n",
    "t_numeric = []\n",
    "t_numeric_add = []\n",
    "t_numeric_run_ids = []\n",
    "t_array = []\n",
    "t_array_add = []\n",
    "t_array_run_ids = []\n",
    "for size in sizes:\n",
    "    tn, tna, run_id_n =  insert_data('numeric', size, nreps=nreps)\n",
    "    t_numeric.append(tn)\n",
    "    t_numeric_add.append(tna)\n",
    "    t_numeric_run_ids.append(run_id_n)\n",
    "\n",
    "    ta, taa, run_id_a =  insert_data('array', size, nreps=nreps)\n",
    "    t_array.append(ta)\n",
    "    t_array_add.append(taa)\n",
    "    t_array_run_ids.append(run_id_a)"
   ]
  },
  {
   "cell_type": "code",
   "execution_count": 8,
   "metadata": {
    "execution": {
     "iopub.execute_input": "2020-10-26T13:37:44.715049Z",
     "iopub.status.busy": "2020-10-26T13:37:44.694275Z",
     "iopub.status.idle": "2020-10-26T13:37:44.934045Z",
     "shell.execute_reply": "2020-10-26T13:37:44.934567Z"
    },
    "scrolled": true
   },
   "outputs": [
    {
     "data": {
      "image/png": "[encoded data removed]",
      "text/plain": [
       "<Figure size 432x288 with 1 Axes>"
      ]
     },
     "metadata": {
      "needs_background": "light"
     },
     "output_type": "display_data"
    }
   ],
   "source": [
    "fig, ax = plt.subplots(1,1)\n",
    "ax.plot(sizes, t_numeric, 'o-', label='Inserting row-by-row')\n",
    "ax.plot(sizes, t_numeric_add, 'o-', label='Inserting row-by-row: add_result only')\n",
    "ax.plot(sizes, t_array, 'd-', label='Inserting as binary blob')\n",
    "ax.plot(sizes, t_array_add, 'd-', label='Inserting as binary blob: add_result only')\n",
    "ax.legend()\n",
    "ax.set_xlabel('Array length')\n",
    "ax.set_ylabel('Time (s)')\n",
    "fig.tight_layout()"
   ]
  },
  {
   "cell_type": "markdown",
   "metadata": {},
   "source": [
    "However, as we increase the length of the experiment, as seen here by repeating the insertion 100 times, we see a big difference between inserting values of the data row-by-row and inserting it as a binary blob."
   ]
  },
  {
   "cell_type": "markdown",
   "metadata": {},
   "source": [
    "## Loading the data "
   ]
  },
  {
   "cell_type": "code",
   "execution_count": 9,
   "metadata": {
    "execution": {
     "iopub.execute_input": "2020-10-26T13:37:44.938882Z",
     "iopub.status.busy": "2020-10-26T13:37:44.938290Z",
     "iopub.status.idle": "2020-10-26T13:37:44.941038Z",
     "shell.execute_reply": "2020-10-26T13:37:44.940403Z"
    }
   },
   "outputs": [],
   "source": [
    "from qcodes.dataset.data_set import load_by_id\n",
    "from qcodes.dataset.data_export import get_data_by_id"
   ]
  },
  {
   "cell_type": "markdown",
   "metadata": {},
   "source": [
    "As usual you can load the data by using the ``load_by_id`` function but you will notice that the different storage methods\n",
    "are reflected in shape of the data as it is retrieved. "
   ]
  },
  {
   "cell_type": "code",
   "execution_count": 10,
   "metadata": {
    "execution": {
     "iopub.execute_input": "2020-10-26T13:37:44.945600Z",
     "iopub.status.busy": "2020-10-26T13:37:44.944265Z",
     "iopub.status.idle": "2020-10-26T13:37:44.946489Z",
     "shell.execute_reply": "2020-10-26T13:37:44.946912Z"
    }
   },
   "outputs": [],
   "source": [
    "run_id_n = t_numeric_run_ids[0]\n",
    "run_id_a = t_array_run_ids[0]"
   ]
  },
  {
   "cell_type": "code",
   "execution_count": 11,
   "metadata": {
    "execution": {
     "iopub.execute_input": "2020-10-26T13:37:44.950062Z",
     "iopub.status.busy": "2020-10-26T13:37:44.949506Z",
     "iopub.status.idle": "2020-10-26T13:37:44.958286Z",
     "shell.execute_reply": "2020-10-26T13:37:44.957775Z"
    },
    "scrolled": true
   },
   "outputs": [
    {
     "data": {
      "text/plain": [
       "{'x1': {'x1': array([0.42982041, 0.42982041, 0.75104944, 0.75104944, 0.24367883,\n",
       "         0.24367883, 0.19119679, 0.19119679, 0.28592307, 0.28592307,\n",
       "         0.93208109, 0.93208109, 0.00267438, 0.00267438, 0.71132054,\n",
       "         0.71132054, 0.57199734, 0.57199734, 0.75427703, 0.75427703,\n",
       "         0.63743664, 0.63743664, 0.00727372, 0.00727372, 0.81557207,\n",
       "         0.81557207, 0.31981952, 0.31981952, 0.37552862, 0.37552862,\n",
       "         0.86588482, 0.86588482, 0.37749171, 0.37749171, 0.73365599,\n",
       "         0.73365599, 0.54411512, 0.54411512, 0.17804042, 0.17804042,\n",
       "         0.22025038, 0.22025038, 0.58059962, 0.58059962, 0.86394283,\n",
       "         0.86394283, 0.90604965, 0.90604965, 0.04667706, 0.04667706,\n",
       "         0.62854103, 0.62854103, 0.5600527 , 0.5600527 , 0.13531331,\n",
       "         0.13531331, 0.99994195, 0.99994195, 0.09386337, 0.09386337,\n",
       "         0.22818239, 0.22818239, 0.74368966, 0.74368966, 0.27303388,\n",
       "         0.27303388, 0.66149146, 0.66149146, 0.30187867, 0.30187867,\n",
       "         0.50728155, 0.50728155, 0.52676842, 0.52676842, 0.23955699,\n",
       "         0.23955699, 0.18252072, 0.18252072, 0.14352323, 0.14352323,\n",
       "         0.3035002 , 0.3035002 , 0.20551093, 0.20551093, 0.10077479,\n",
       "         0.10077479, 0.86350418, 0.86350418, 0.50169379, 0.50169379,\n",
       "         0.3328808 , 0.3328808 , 0.96398074, 0.96398074, 0.93242171,\n",
       "         0.93242171, 0.46720946, 0.46720946, 0.39546764, 0.39546764,\n",
       "         0.16014594, 0.16014594, 0.74069031, 0.74069031, 0.53769963,\n",
       "         0.53769963, 0.33728431, 0.33728431, 0.0657045 , 0.0657045 ,\n",
       "         0.256494  , 0.256494  , 0.11898665, 0.11898665, 0.69262248,\n",
       "         0.69262248, 0.26692949, 0.26692949, 0.04675589, 0.04675589,\n",
       "         0.97440521, 0.97440521, 0.06226498, 0.06226498, 0.72218422,\n",
       "         0.72218422, 0.34627237, 0.34627237, 0.29647194, 0.29647194,\n",
       "         0.84220818, 0.84220818, 0.19044884, 0.19044884, 0.84273335,\n",
       "         0.84273335, 0.69834495, 0.69834495, 0.41456635, 0.41456635,\n",
       "         0.84202685, 0.84202685, 0.69213741, 0.69213741, 0.04940855,\n",
       "         0.04940855, 0.77148873, 0.77148873, 0.45674106, 0.45674106,\n",
       "         0.35405221, 0.35405221, 0.38154058, 0.38154058, 0.20975072,\n",
       "         0.20975072, 0.69029113, 0.69029113, 0.13851396, 0.13851396,\n",
       "         0.40366939, 0.40366939, 0.13430853, 0.13430853, 0.81085721,\n",
       "         0.81085721, 0.51372804, 0.51372804, 0.38865761, 0.38865761,\n",
       "         0.03277246, 0.03277246, 0.47032999, 0.47032999, 0.69783728,\n",
       "         0.69783728, 0.36251922, 0.36251922, 0.71900547, 0.71900547,\n",
       "         0.44591542, 0.44591542, 0.55626403, 0.55626403, 0.75655486,\n",
       "         0.75655486, 0.07360744, 0.07360744, 0.74473644, 0.74473644,\n",
       "         0.4984448 , 0.4984448 , 0.47268865, 0.47268865, 0.05659129,\n",
       "         0.05659129, 0.01515203, 0.01515203, 0.25672632, 0.25672632])}}"
      ]
     },
     "execution_count": 1,
     "metadata": {},
     "output_type": "execute_result"
    }
   ],
   "source": [
    "ds = load_by_id(run_id_n)\n",
    "ds.get_parameter_data('x1')"
   ]
  },
  {
   "cell_type": "markdown",
   "metadata": {},
   "source": [
    "And a dataset stored as binary arrays"
   ]
  },
  {
   "cell_type": "code",
   "execution_count": 12,
   "metadata": {
    "execution": {
     "iopub.execute_input": "2020-10-26T13:37:44.961823Z",
     "iopub.status.busy": "2020-10-26T13:37:44.961250Z",
     "iopub.status.idle": "2020-10-26T13:37:45.013338Z",
     "shell.execute_reply": "2020-10-26T13:37:45.013794Z"
    },
    "scrolled": true
   },
   "outputs": [
    {
     "data": {
      "text/plain": [
       "{'x1': {'x1': array([[0.35483   ],\n",
       "         [0.35483   ],\n",
       "         [0.60001015],\n",
       "         [0.60001015],\n",
       "         [0.06176591],\n",
       "         [0.06176591],\n",
       "         [0.79446867],\n",
       "         [0.79446867],\n",
       "         [0.78857252],\n",
       "         [0.78857252],\n",
       "         [0.55065583],\n",
       "         [0.55065583],\n",
       "         [0.02895001],\n",
       "         [0.02895001],\n",
       "         [0.03021571],\n",
       "         [0.03021571],\n",
       "         [0.87309711],\n",
       "         [0.87309711],\n",
       "         [0.78429939],\n",
       "         [0.78429939],\n",
       "         [0.41262477],\n",
       "         [0.41262477],\n",
       "         [0.51116065],\n",
       "         [0.51116065],\n",
       "         [0.03078921],\n",
       "         [0.03078921],\n",
       "         [0.31111119],\n",
       "         [0.31111119],\n",
       "         [0.88640907],\n",
       "         [0.88640907],\n",
       "         [0.01799822],\n",
       "         [0.01799822],\n",
       "         [0.37263328],\n",
       "         [0.37263328],\n",
       "         [0.83363007],\n",
       "         [0.83363007],\n",
       "         [0.11328794],\n",
       "         [0.11328794],\n",
       "         [0.62945479],\n",
       "         [0.62945479],\n",
       "         [0.65375457],\n",
       "         [0.65375457],\n",
       "         [0.25355305],\n",
       "         [0.25355305],\n",
       "         [0.14300207],\n",
       "         [0.14300207],\n",
       "         [0.257716  ],\n",
       "         [0.257716  ],\n",
       "         [0.30766415],\n",
       "         [0.30766415],\n",
       "         [0.01907725],\n",
       "         [0.01907725],\n",
       "         [0.77349562],\n",
       "         [0.77349562],\n",
       "         [0.20516051],\n",
       "         [0.20516051],\n",
       "         [0.78328542],\n",
       "         [0.78328542],\n",
       "         [0.50039588],\n",
       "         [0.50039588],\n",
       "         [0.57191782],\n",
       "         [0.57191782],\n",
       "         [0.3331311 ],\n",
       "         [0.3331311 ],\n",
       "         [0.52405611],\n",
       "         [0.52405611],\n",
       "         [0.67241465],\n",
       "         [0.67241465],\n",
       "         [0.07067367],\n",
       "         [0.07067367],\n",
       "         [0.48667932],\n",
       "         [0.48667932],\n",
       "         [0.41494855],\n",
       "         [0.41494855],\n",
       "         [0.15109063],\n",
       "         [0.15109063],\n",
       "         [0.26471703],\n",
       "         [0.26471703],\n",
       "         [0.60357308],\n",
       "         [0.60357308],\n",
       "         [0.74724011],\n",
       "         [0.74724011],\n",
       "         [0.02891564],\n",
       "         [0.02891564],\n",
       "         [0.85667371],\n",
       "         [0.85667371],\n",
       "         [0.24993611],\n",
       "         [0.24993611],\n",
       "         [0.24403636],\n",
       "         [0.24403636],\n",
       "         [0.97040684],\n",
       "         [0.97040684],\n",
       "         [0.42710846],\n",
       "         [0.42710846],\n",
       "         [0.37459664],\n",
       "         [0.37459664],\n",
       "         [0.91562471],\n",
       "         [0.91562471],\n",
       "         [0.5343374 ],\n",
       "         [0.5343374 ],\n",
       "         [0.53484616],\n",
       "         [0.53484616],\n",
       "         [0.23539048],\n",
       "         [0.23539048],\n",
       "         [0.11148856],\n",
       "         [0.11148856],\n",
       "         [0.54055154],\n",
       "         [0.54055154],\n",
       "         [0.53527355],\n",
       "         [0.53527355],\n",
       "         [0.75983093],\n",
       "         [0.75983093],\n",
       "         [0.83184349],\n",
       "         [0.83184349],\n",
       "         [0.56933623],\n",
       "         [0.56933623],\n",
       "         [0.88818307],\n",
       "         [0.88818307],\n",
       "         [0.29863537],\n",
       "         [0.29863537],\n",
       "         [0.23821259],\n",
       "         [0.23821259],\n",
       "         [0.58588496],\n",
       "         [0.58588496],\n",
       "         [0.64397486],\n",
       "         [0.64397486],\n",
       "         [0.29067044],\n",
       "         [0.29067044],\n",
       "         [0.4700833 ],\n",
       "         [0.4700833 ],\n",
       "         [0.03262902],\n",
       "         [0.03262902],\n",
       "         [0.53402953],\n",
       "         [0.53402953],\n",
       "         [0.88578495],\n",
       "         [0.88578495],\n",
       "         [0.47495565],\n",
       "         [0.47495565],\n",
       "         [0.45197364],\n",
       "         [0.45197364],\n",
       "         [0.21333824],\n",
       "         [0.21333824],\n",
       "         [0.39897987],\n",
       "         [0.39897987],\n",
       "         [0.512351  ],\n",
       "         [0.512351  ],\n",
       "         [0.20760606],\n",
       "         [0.20760606],\n",
       "         [0.99937441],\n",
       "         [0.99937441],\n",
       "         [0.40999233],\n",
       "         [0.40999233],\n",
       "         [0.64104292],\n",
       "         [0.64104292],\n",
       "         [0.66714513],\n",
       "         [0.66714513],\n",
       "         [0.77572662],\n",
       "         [0.77572662],\n",
       "         [0.17997822],\n",
       "         [0.17997822],\n",
       "         [0.3809373 ],\n",
       "         [0.3809373 ],\n",
       "         [0.88884504],\n",
       "         [0.88884504],\n",
       "         [0.1484104 ],\n",
       "         [0.1484104 ],\n",
       "         [0.60771634],\n",
       "         [0.60771634],\n",
       "         [0.49627753],\n",
       "         [0.49627753],\n",
       "         [0.23998408],\n",
       "         [0.23998408],\n",
       "         [0.21034646],\n",
       "         [0.21034646],\n",
       "         [0.91052105],\n",
       "         [0.91052105],\n",
       "         [0.50507659],\n",
       "         [0.50507659],\n",
       "         [0.49506888],\n",
       "         [0.49506888],\n",
       "         [0.63325618],\n",
       "         [0.63325618],\n",
       "         [0.38186309],\n",
       "         [0.38186309],\n",
       "         [0.69043337],\n",
       "         [0.69043337],\n",
       "         [0.83692148],\n",
       "         [0.83692148],\n",
       "         [0.80683367],\n",
       "         [0.80683367],\n",
       "         [0.31740909],\n",
       "         [0.31740909],\n",
       "         [0.09522169],\n",
       "         [0.09522169],\n",
       "         [0.08833372],\n",
       "         [0.08833372],\n",
       "         [0.36835037],\n",
       "         [0.36835037],\n",
       "         [0.67840283],\n",
       "         [0.67840283]])}}"
      ]
     },
     "execution_count": 1,
     "metadata": {},
     "output_type": "execute_result"
    }
   ],
   "source": [
    "ds = load_by_id(run_id_a)\n",
    "ds.get_parameter_data('x1')"
   ]
  },
  {
   "cell_type": "code",
   "execution_count": null,
   "metadata": {},
   "outputs": [],
   "source": []
  }
 ],
 "metadata": {
  "kernelspec": {
   "display_name": "Python 3",
   "language": "python",
   "name": "python3"
  },
  "language_info": {
   "codemirror_mode": {
    "name": "ipython",
    "version": 3
   },
   "file_extension": ".py",
   "mimetype": "text/x-python",
   "name": "python",
   "nbconvert_exporter": "python",
   "pygments_lexer": "ipython3",
   "version": "3.7.7"
  },
  "nbsphinx": {
   "timeout": 600
  },
  "toc": {
   "base_numbering": 1,
   "nav_menu": {},
   "number_sections": true,
   "sideBar": true,
   "skip_h1_title": false,
   "title_cell": "Table of Contents",
   "title_sidebar": "Contents",
   "toc_cell": false,
   "toc_position": {},
   "toc_section_display": true,
   "toc_window_display": false
  },
  "varInspector": {
   "cols": {
    "lenName": 16,
    "lenType": 16,
    "lenVar": 40
   },
   "kernels_config": {
    "python": {
     "delete_cmd_postfix": "",
     "delete_cmd_prefix": "del ",
     "library": "var_list.py",
     "varRefreshCmd": "print(var_dic_list())"
    },
    "r": {
     "delete_cmd_postfix": ") ",
     "delete_cmd_prefix": "rm(",
     "library": "var_list.r",
     "varRefreshCmd": "cat(var_dic_list()) "
    }
   },
   "types_to_exclude": [
    "module",
    "function",
    "builtin_function_or_method",
    "instance",
    "_Feature"
   ],
   "window_display": false
  }
 },
 "nbformat": 4,
 "nbformat_minor": 2
}
