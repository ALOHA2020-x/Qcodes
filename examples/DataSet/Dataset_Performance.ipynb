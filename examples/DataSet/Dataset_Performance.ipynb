{
 "cells": [
  {
   "cell_type": "markdown",
   "metadata": {},
   "source": [
    "# DataSet Performance\n",
    "\n",
    "This notebook shows the trade-off between inserting data into a database row-by-row and as binary blobs. Inserting the data row-by-row means that we have direct access to all the data and may perform queries directly on the values of the data. On the other hand, as we shall see, this is much slower than inserting the data directly as binary blobs."
   ]
  },
  {
   "cell_type": "markdown",
   "metadata": {},
   "source": [
    "First, we choose a new location for the database to ensure that we don't add a bunch of benchmarking data to the default one."
   ]
  },
  {
   "cell_type": "code",
   "execution_count": 1,
   "metadata": {
    "execution": {
     "iopub.execute_input": "2020-11-23T15:20:56.091688Z",
     "iopub.status.busy": "2020-11-23T15:20:56.091044Z",
     "iopub.status.idle": "2020-11-23T15:20:57.184085Z",
     "shell.execute_reply": "2020-11-23T15:20:57.183474Z"
    }
   },
   "outputs": [
    {
     "name": "stdout",
     "output_type": "stream",
     "text": [
      "Logging hadn't been started.\n",
      "Activating auto-logging. Current session state plus future input saved.\n",
      "Filename       : /home/vsts/.qcodes/logs/command_history.log\n",
      "Mode           : append\n",
      "Output logging : True\n",
      "Raw input log  : False\n",
      "Timestamping   : True\n",
      "State          : active\n"
     ]
    },
    {
     "name": "stdout",
     "output_type": "stream",
     "text": [
      "Qcodes Logfile : /home/vsts/.qcodes/logs/201123-14203-qcodes.log\n"
     ]
    }
   ],
   "source": [
    "import os\n",
    "cwd = os.getcwd()\n",
    "import qcodes as qc\n",
    "qc.config[\"core\"][\"db_location\"] = os.path.join(cwd, 'testing.db')\n"
   ]
  },
  {
   "cell_type": "code",
   "execution_count": 2,
   "metadata": {
    "execution": {
     "iopub.execute_input": "2020-11-23T15:20:57.191402Z",
     "iopub.status.busy": "2020-11-23T15:20:57.190804Z",
     "iopub.status.idle": "2020-11-23T15:20:57.380242Z",
     "shell.execute_reply": "2020-11-23T15:20:57.378891Z"
    }
   },
   "outputs": [],
   "source": [
    "%matplotlib inline\n",
    "import time\n",
    "import matplotlib.pyplot as plt\n",
    "import numpy as np\n",
    "\n",
    "import qcodes as qc\n",
    "from qcodes.instrument.parameter import ManualParameter\n",
    "from qcodes.dataset.experiment_container import (Experiment,\n",
    "                                                 load_last_experiment,\n",
    "                                                 new_experiment)\n",
    "from qcodes.dataset.sqlite.database import initialise_database\n",
    "from qcodes import load_or_create_experiment\n",
    "from qcodes.dataset.measurements import Measurement"
   ]
  },
  {
   "cell_type": "code",
   "execution_count": 3,
   "metadata": {
    "execution": {
     "iopub.execute_input": "2020-11-23T15:20:57.387715Z",
     "iopub.status.busy": "2020-11-23T15:20:57.387120Z",
     "iopub.status.idle": "2020-11-23T15:20:57.512261Z",
     "shell.execute_reply": "2020-11-23T15:20:57.511739Z"
    }
   },
   "outputs": [
    {
     "name": "stdout",
     "output_type": "stream",
     "text": [
      "\r",
      "0it [00:00, ?it/s]"
     ]
    },
    {
     "name": "stdout",
     "output_type": "stream",
     "text": [
      "\r",
      "Upgrading database; v0 -> v1: : 0it [00:00, ?it/s]"
     ]
    },
    {
     "name": "stdout",
     "output_type": "stream",
     "text": [
      "\r",
      "Upgrading database; v0 -> v1: : 0it [00:00, ?it/s]"
     ]
    },
    {
     "name": "stdout",
     "output_type": "stream",
     "text": [
      "\n",
      "\r",
      "  0%|          | 0/1 [00:00<?, ?it/s]"
     ]
    },
    {
     "name": "stdout",
     "output_type": "stream",
     "text": [
      "\r",
      "Upgrading database; v1 -> v2:   0%|          | 0/1 [00:00<?, ?it/s]"
     ]
    },
    {
     "name": "stdout",
     "output_type": "stream",
     "text": [
      "\r",
      "Upgrading database; v1 -> v2: 100%|██████████| 1/1 [00:00<00:00, 930.83it/s]"
     ]
    },
    {
     "name": "stdout",
     "output_type": "stream",
     "text": [
      "\n",
      "\r",
      "0it [00:00, ?it/s]"
     ]
    },
    {
     "name": "stdout",
     "output_type": "stream",
     "text": [
      "\r",
      "Upgrading database; v2 -> v3: : 0it [00:00, ?it/s]"
     ]
    },
    {
     "name": "stdout",
     "output_type": "stream",
     "text": [
      "\r",
      "Upgrading database; v2 -> v3: : 0it [00:00, ?it/s]"
     ]
    },
    {
     "name": "stdout",
     "output_type": "stream",
     "text": [
      "\n",
      "\r",
      "0it [00:00, ?it/s]"
     ]
    },
    {
     "name": "stdout",
     "output_type": "stream",
     "text": [
      "\r",
      "Upgrading database; v3 -> v4: : 0it [00:00, ?it/s]"
     ]
    },
    {
     "name": "stdout",
     "output_type": "stream",
     "text": [
      "\r",
      "Upgrading database; v3 -> v4: : 0it [00:00, ?it/s]"
     ]
    },
    {
     "name": "stdout",
     "output_type": "stream",
     "text": [
      "\n",
      "\r",
      "  0%|          | 0/1 [00:00<?, ?it/s]"
     ]
    },
    {
     "name": "stdout",
     "output_type": "stream",
     "text": [
      "\r",
      "Upgrading database; v4 -> v5:   0%|          | 0/1 [00:00<?, ?it/s]"
     ]
    },
    {
     "name": "stdout",
     "output_type": "stream",
     "text": [
      "\r",
      "Upgrading database; v4 -> v5: 100%|██████████| 1/1 [00:00<00:00, 1031.30it/s]"
     ]
    },
    {
     "name": "stdout",
     "output_type": "stream",
     "text": [
      "\n",
      "\r",
      "0it [00:00, ?it/s]"
     ]
    },
    {
     "name": "stdout",
     "output_type": "stream",
     "text": [
      "\r",
      "Upgrading database; v5 -> v6: : 0it [00:00, ?it/s]"
     ]
    },
    {
     "name": "stdout",
     "output_type": "stream",
     "text": [
      "\r",
      "Upgrading database; v5 -> v6: : 0it [00:00, ?it/s]"
     ]
    },
    {
     "name": "stdout",
     "output_type": "stream",
     "text": [
      "\n",
      "\r",
      "  0%|          | 0/1 [00:00<?, ?it/s]"
     ]
    },
    {
     "name": "stdout",
     "output_type": "stream",
     "text": [
      "\r",
      "Upgrading database; v6 -> v7:   0%|          | 0/1 [00:00<?, ?it/s]"
     ]
    },
    {
     "name": "stdout",
     "output_type": "stream",
     "text": [
      "\r",
      "Upgrading database; v6 -> v7: 100%|██████████| 1/1 [00:00<00:00, 478.91it/s]"
     ]
    },
    {
     "name": "stdout",
     "output_type": "stream",
     "text": [
      "\n",
      "\r",
      "  0%|          | 0/1 [00:00<?, ?it/s]"
     ]
    },
    {
     "name": "stdout",
     "output_type": "stream",
     "text": [
      "\r",
      "Upgrading database; v7 -> v8:   0%|          | 0/1 [00:00<?, ?it/s]"
     ]
    },
    {
     "name": "stdout",
     "output_type": "stream",
     "text": [
      "\r",
      "Upgrading database; v7 -> v8: 100%|██████████| 1/1 [00:00<00:00, 552.61it/s]"
     ]
    },
    {
     "name": "stdout",
     "output_type": "stream",
     "text": [
      "\n",
      "\r",
      "  0%|          | 0/1 [00:00<?, ?it/s]"
     ]
    },
    {
     "name": "stdout",
     "output_type": "stream",
     "text": [
      "\r",
      "Upgrading database; v8 -> v9:   0%|          | 0/1 [00:00<?, ?it/s]"
     ]
    },
    {
     "name": "stdout",
     "output_type": "stream",
     "text": [
      "\r",
      "Upgrading database; v8 -> v9: 100%|██████████| 1/1 [00:00<00:00, 436.04it/s]"
     ]
    },
    {
     "name": "stdout",
     "output_type": "stream",
     "text": [
      "\n"
     ]
    }
   ],
   "source": [
    "initialise_database()\n",
    "exp = load_or_create_experiment(experiment_name='tutorial_exp', sample_name=\"no sample\")"
   ]
  },
  {
   "cell_type": "markdown",
   "metadata": {},
   "source": [
    "Here, we define a simple function to benchmark the time it takes to insert n points with either numeric or array data type.\n",
    "We will compare both the time used to call ``add_result`` and the time used for the full measurement."
   ]
  },
  {
   "cell_type": "code",
   "execution_count": 4,
   "metadata": {
    "execution": {
     "iopub.execute_input": "2020-11-23T15:20:57.520421Z",
     "iopub.status.busy": "2020-11-23T15:20:57.519437Z",
     "iopub.status.idle": "2020-11-23T15:20:57.524748Z",
     "shell.execute_reply": "2020-11-23T15:20:57.524260Z"
    }
   },
   "outputs": [],
   "source": [
    "def insert_data(paramtype, npoints, nreps=1):\n",
    "\n",
    "    meas = Measurement(exp=exp)\n",
    "\n",
    "    x1 = ManualParameter('x1')\n",
    "    x2 = ManualParameter('x2')\n",
    "    x3 = ManualParameter('x3')\n",
    "    y1 = ManualParameter('y1')\n",
    "    y2 = ManualParameter('y2')\n",
    "\n",
    "    meas.register_parameter(x1, paramtype=paramtype)\n",
    "    meas.register_parameter(x2, paramtype=paramtype)\n",
    "    meas.register_parameter(x3, paramtype=paramtype)\n",
    "    meas.register_parameter(y1, setpoints=[x1, x2, x3],\n",
    "                            paramtype=paramtype)\n",
    "    meas.register_parameter(y2, setpoints=[x1, x2, x3],\n",
    "                            paramtype=paramtype)\n",
    "    start = time.perf_counter()\n",
    "    with meas.run() as datasaver:\n",
    "        start_adding = time.perf_counter()\n",
    "        for i in range(nreps):\n",
    "            datasaver.add_result((x1, np.random.rand(npoints)),\n",
    "                                 (x2, np.random.rand(npoints)),\n",
    "                                 (x3, np.random.rand(npoints)),\n",
    "                                 (y1, np.random.rand(npoints)),\n",
    "                                 (y2, np.random.rand(npoints)))\n",
    "        stop_adding = time.perf_counter()\n",
    "        run_id = datasaver.run_id\n",
    "    stop = time.perf_counter()\n",
    "    tot_time = stop - start\n",
    "    add_time = stop_adding - start_adding\n",
    "    return tot_time, add_time, run_id"
   ]
  },
  {
   "cell_type": "markdown",
   "metadata": {},
   "source": [
    "## Comparison between numeric/array data and binary blob"
   ]
  },
  {
   "cell_type": "markdown",
   "metadata": {},
   "source": [
    "### Case1: Short experiment time"
   ]
  },
  {
   "cell_type": "code",
   "execution_count": 5,
   "metadata": {
    "execution": {
     "iopub.execute_input": "2020-11-23T15:20:57.531241Z",
     "iopub.status.busy": "2020-11-23T15:20:57.530305Z",
     "iopub.status.idle": "2020-11-23T15:20:58.362021Z",
     "shell.execute_reply": "2020-11-23T15:20:58.361491Z"
    }
   },
   "outputs": [
    {
     "name": "stdout",
     "output_type": "stream",
     "text": [
      "Starting experimental run with id: 1. \n",
      "Starting experimental run with id: 2. \n",
      "Starting experimental run with id: 3. \n",
      "Starting experimental run with id: 4. \n",
      "Starting experimental run with id: 5. \n"
     ]
    },
    {
     "name": "stdout",
     "output_type": "stream",
     "text": [
      "Starting experimental run with id: 6. \n"
     ]
    },
    {
     "name": "stdout",
     "output_type": "stream",
     "text": [
      "Starting experimental run with id: 7. \n"
     ]
    },
    {
     "name": "stdout",
     "output_type": "stream",
     "text": [
      "Starting experimental run with id: 8. \n",
      "Starting experimental run with id: 9. \n"
     ]
    },
    {
     "name": "stdout",
     "output_type": "stream",
     "text": [
      "Starting experimental run with id: 10. \n",
      "Starting experimental run with id: 11. \n"
     ]
    },
    {
     "name": "stdout",
     "output_type": "stream",
     "text": [
      "Starting experimental run with id: 12. \n",
      "Starting experimental run with id: 13. \n"
     ]
    },
    {
     "name": "stdout",
     "output_type": "stream",
     "text": [
      "Starting experimental run with id: 14. \n"
     ]
    }
   ],
   "source": [
    "sizes = [1,500,1000,2000,3000,4000,5000]\n",
    "t_numeric = []\n",
    "t_numeric_add = []\n",
    "t_array = []\n",
    "t_array_add = []\n",
    "for size in sizes:\n",
    "    tn, tna, run_id_n =  insert_data('numeric', size)\n",
    "    t_numeric.append(tn)\n",
    "    t_numeric_add.append(tna)\n",
    "\n",
    "    ta, taa, run_id_a =  insert_data('array', size)\n",
    "    t_array.append(ta)\n",
    "    t_array_add.append(taa)"
   ]
  },
  {
   "cell_type": "code",
   "execution_count": 6,
   "metadata": {
    "execution": {
     "iopub.execute_input": "2020-11-23T15:20:58.392294Z",
     "iopub.status.busy": "2020-11-23T15:20:58.379142Z",
     "iopub.status.idle": "2020-11-23T15:20:58.560271Z",
     "shell.execute_reply": "2020-11-23T15:20:58.560718Z"
    }
   },
   "outputs": [
    {
     "data": {
      "image/png": "[encoded data removed]",
      "text/plain": [
       "<Figure size 432x288 with 1 Axes>"
      ]
     },
     "metadata": {
      "needs_background": "light"
     },
     "output_type": "display_data"
    }
   ],
   "source": [
    "fig, ax = plt.subplots(1,1)\n",
    "ax.plot(sizes, t_numeric, 'o-', label='Inserting row-by-row')\n",
    "ax.plot(sizes, t_numeric_add, 'o-', label='Inserting row-by-row: add_result only')\n",
    "ax.plot(sizes, t_array, 'd-', label='Inserting as binary blob')\n",
    "ax.plot(sizes, t_array_add, 'd-', label='Inserting as binary blob: add_result only')\n",
    "ax.legend()\n",
    "ax.set_xlabel('Array length')\n",
    "ax.set_ylabel('Time (s)')\n",
    "fig.tight_layout()"
   ]
  },
  {
   "cell_type": "markdown",
   "metadata": {},
   "source": [
    "As shown in the latter figure, the time to setup and and close the experiment is approximately 0.4 sec. In case of small array sizes, the difference between inserting values of data as arrays and inserting them row-by-row is relatively unimportant. At larger array sizes, i.e. above 10000 points, the cost of writing data as individual datapoints starts to become important.\n"
   ]
  },
  {
   "cell_type": "markdown",
   "metadata": {},
   "source": [
    "### Case2: Long experiment time "
   ]
  },
  {
   "cell_type": "code",
   "execution_count": 7,
   "metadata": {
    "execution": {
     "iopub.execute_input": "2020-11-23T15:20:58.567157Z",
     "iopub.status.busy": "2020-11-23T15:20:58.566591Z",
     "iopub.status.idle": "2020-11-23T15:21:58.699639Z",
     "shell.execute_reply": "2020-11-23T15:21:58.699112Z"
    }
   },
   "outputs": [
    {
     "name": "stdout",
     "output_type": "stream",
     "text": [
      "Starting experimental run with id: 15. \n",
      "Starting experimental run with id: 16. \n",
      "Starting experimental run with id: 17. \n"
     ]
    },
    {
     "name": "stdout",
     "output_type": "stream",
     "text": [
      "Starting experimental run with id: 18. \n",
      "Starting experimental run with id: 19. \n"
     ]
    },
    {
     "name": "stdout",
     "output_type": "stream",
     "text": [
      "Starting experimental run with id: 20. \n"
     ]
    },
    {
     "name": "stdout",
     "output_type": "stream",
     "text": [
      "Starting experimental run with id: 21. \n"
     ]
    },
    {
     "name": "stdout",
     "output_type": "stream",
     "text": [
      "Starting experimental run with id: 22. \n"
     ]
    },
    {
     "name": "stdout",
     "output_type": "stream",
     "text": [
      "Starting experimental run with id: 23. \n"
     ]
    },
    {
     "name": "stdout",
     "output_type": "stream",
     "text": [
      "Starting experimental run with id: 24. \n"
     ]
    },
    {
     "name": "stdout",
     "output_type": "stream",
     "text": [
      "Starting experimental run with id: 25. \n"
     ]
    },
    {
     "name": "stdout",
     "output_type": "stream",
     "text": [
      "Starting experimental run with id: 26. \n"
     ]
    },
    {
     "name": "stdout",
     "output_type": "stream",
     "text": [
      "Starting experimental run with id: 27. \n"
     ]
    },
    {
     "name": "stdout",
     "output_type": "stream",
     "text": [
      "Starting experimental run with id: 28. \n"
     ]
    }
   ],
   "source": [
    "sizes = [1,500,1000,2000,3000,4000,5000]\n",
    "nreps = 100\n",
    "t_numeric = []\n",
    "t_numeric_add = []\n",
    "t_numeric_run_ids = []\n",
    "t_array = []\n",
    "t_array_add = []\n",
    "t_array_run_ids = []\n",
    "for size in sizes:\n",
    "    tn, tna, run_id_n =  insert_data('numeric', size, nreps=nreps)\n",
    "    t_numeric.append(tn)\n",
    "    t_numeric_add.append(tna)\n",
    "    t_numeric_run_ids.append(run_id_n)\n",
    "\n",
    "    ta, taa, run_id_a =  insert_data('array', size, nreps=nreps)\n",
    "    t_array.append(ta)\n",
    "    t_array_add.append(taa)\n",
    "    t_array_run_ids.append(run_id_a)"
   ]
  },
  {
   "cell_type": "code",
   "execution_count": 8,
   "metadata": {
    "execution": {
     "iopub.execute_input": "2020-11-23T15:21:58.731098Z",
     "iopub.status.busy": "2020-11-23T15:21:58.717823Z",
     "iopub.status.idle": "2020-11-23T15:21:58.913332Z",
     "shell.execute_reply": "2020-11-23T15:21:58.912823Z"
    },
    "scrolled": true
   },
   "outputs": [
    {
     "data": {
      "image/png": "[encoded data removed]",
      "text/plain": [
       "<Figure size 432x288 with 1 Axes>"
      ]
     },
     "metadata": {
      "needs_background": "light"
     },
     "output_type": "display_data"
    }
   ],
   "source": [
    "fig, ax = plt.subplots(1,1)\n",
    "ax.plot(sizes, t_numeric, 'o-', label='Inserting row-by-row')\n",
    "ax.plot(sizes, t_numeric_add, 'o-', label='Inserting row-by-row: add_result only')\n",
    "ax.plot(sizes, t_array, 'd-', label='Inserting as binary blob')\n",
    "ax.plot(sizes, t_array_add, 'd-', label='Inserting as binary blob: add_result only')\n",
    "ax.legend()\n",
    "ax.set_xlabel('Array length')\n",
    "ax.set_ylabel('Time (s)')\n",
    "fig.tight_layout()"
   ]
  },
  {
   "cell_type": "markdown",
   "metadata": {},
   "source": [
    "However, as we increase the length of the experiment, as seen here by repeating the insertion 100 times, we see a big difference between inserting values of the data row-by-row and inserting it as a binary blob."
   ]
  },
  {
   "cell_type": "markdown",
   "metadata": {},
   "source": [
    "## Loading the data "
   ]
  },
  {
   "cell_type": "code",
   "execution_count": 9,
   "metadata": {
    "execution": {
     "iopub.execute_input": "2020-11-23T15:21:58.918253Z",
     "iopub.status.busy": "2020-11-23T15:21:58.917273Z",
     "iopub.status.idle": "2020-11-23T15:21:58.921525Z",
     "shell.execute_reply": "2020-11-23T15:21:58.921018Z"
    }
   },
   "outputs": [],
   "source": [
    "from qcodes.dataset.data_set import load_by_id\n",
    "from qcodes.dataset.data_export import get_data_by_id"
   ]
  },
  {
   "cell_type": "markdown",
   "metadata": {},
   "source": [
    "As usual you can load the data by using the ``load_by_id`` function but you will notice that the different storage methods\n",
    "are reflected in shape of the data as it is retrieved. "
   ]
  },
  {
   "cell_type": "code",
   "execution_count": 10,
   "metadata": {
    "execution": {
     "iopub.execute_input": "2020-11-23T15:21:58.925200Z",
     "iopub.status.busy": "2020-11-23T15:21:58.924653Z",
     "iopub.status.idle": "2020-11-23T15:21:58.928220Z",
     "shell.execute_reply": "2020-11-23T15:21:58.927689Z"
    }
   },
   "outputs": [],
   "source": [
    "run_id_n = t_numeric_run_ids[0]\n",
    "run_id_a = t_array_run_ids[0]"
   ]
  },
  {
   "cell_type": "code",
   "execution_count": 11,
   "metadata": {
    "execution": {
     "iopub.execute_input": "2020-11-23T15:21:58.931486Z",
     "iopub.status.busy": "2020-11-23T15:21:58.930977Z",
     "iopub.status.idle": "2020-11-23T15:21:58.939885Z",
     "shell.execute_reply": "2020-11-23T15:21:58.939464Z"
    },
    "scrolled": true
   },
   "outputs": [
    {
     "data": {
      "text/plain": [
       "{'x1': {'x1': array([0.7990279 , 0.7990279 , 0.33636174, 0.33636174, 0.97368538,\n",
       "         0.97368538, 0.42870006, 0.42870006, 0.50089472, 0.50089472,\n",
       "         0.4191207 , 0.4191207 , 0.30637865, 0.30637865, 0.70705619,\n",
       "         0.70705619, 0.24699288, 0.24699288, 0.49798604, 0.49798604,\n",
       "         0.98847036, 0.98847036, 0.77425934, 0.77425934, 0.24787562,\n",
       "         0.24787562, 0.49865095, 0.49865095, 0.97730033, 0.97730033,\n",
       "         0.47037854, 0.47037854, 0.49645185, 0.49645185, 0.44722275,\n",
       "         0.44722275, 0.15199876, 0.15199876, 0.04564702, 0.04564702,\n",
       "         0.33652616, 0.33652616, 0.98328881, 0.98328881, 0.41824742,\n",
       "         0.41824742, 0.90784562, 0.90784562, 0.12413694, 0.12413694,\n",
       "         0.32635645, 0.32635645, 0.66136676, 0.66136676, 0.82432389,\n",
       "         0.82432389, 0.89930764, 0.89930764, 0.0622191 , 0.0622191 ,\n",
       "         0.90297109, 0.90297109, 0.70362081, 0.70362081, 0.22614715,\n",
       "         0.22614715, 0.52810182, 0.52810182, 0.61687665, 0.61687665,\n",
       "         0.71840126, 0.71840126, 0.86917596, 0.86917596, 0.96635028,\n",
       "         0.96635028, 0.41810505, 0.41810505, 0.95836834, 0.95836834,\n",
       "         0.01203684, 0.01203684, 0.63104745, 0.63104745, 0.53206651,\n",
       "         0.53206651, 0.19952815, 0.19952815, 0.24507209, 0.24507209,\n",
       "         0.74597434, 0.74597434, 0.22298754, 0.22298754, 0.53153521,\n",
       "         0.53153521, 0.19410162, 0.19410162, 0.75824773, 0.75824773,\n",
       "         0.84050374, 0.84050374, 0.8442015 , 0.8442015 , 0.32981736,\n",
       "         0.32981736, 0.64346524, 0.64346524, 0.73506167, 0.73506167,\n",
       "         0.8279009 , 0.8279009 , 0.10259103, 0.10259103, 0.91965477,\n",
       "         0.91965477, 0.00130671, 0.00130671, 0.74696785, 0.74696785,\n",
       "         0.84550572, 0.84550572, 0.19548512, 0.19548512, 0.96671408,\n",
       "         0.96671408, 0.7564952 , 0.7564952 , 0.09363822, 0.09363822,\n",
       "         0.41332898, 0.41332898, 0.47340835, 0.47340835, 0.40927447,\n",
       "         0.40927447, 0.33332185, 0.33332185, 0.67681118, 0.67681118,\n",
       "         0.83863282, 0.83863282, 0.22478671, 0.22478671, 0.57453361,\n",
       "         0.57453361, 0.369582  , 0.369582  , 0.57837917, 0.57837917,\n",
       "         0.89250833, 0.89250833, 0.41598542, 0.41598542, 0.95498433,\n",
       "         0.95498433, 0.7449381 , 0.7449381 , 0.3514193 , 0.3514193 ,\n",
       "         0.16258439, 0.16258439, 0.22500697, 0.22500697, 0.52740872,\n",
       "         0.52740872, 0.76391391, 0.76391391, 0.29823599, 0.29823599,\n",
       "         0.71540233, 0.71540233, 0.25883797, 0.25883797, 0.43864233,\n",
       "         0.43864233, 0.44375341, 0.44375341, 0.09212819, 0.09212819,\n",
       "         0.62769731, 0.62769731, 0.28922477, 0.28922477, 0.91425843,\n",
       "         0.91425843, 0.32020648, 0.32020648, 0.83688544, 0.83688544,\n",
       "         0.02155638, 0.02155638, 0.57618759, 0.57618759, 0.47283853,\n",
       "         0.47283853, 0.21058843, 0.21058843, 0.52407209, 0.52407209])}}"
      ]
     },
     "execution_count": 1,
     "metadata": {},
     "output_type": "execute_result"
    }
   ],
   "source": [
    "ds = load_by_id(run_id_n)\n",
    "ds.get_parameter_data('x1')"
   ]
  },
  {
   "cell_type": "markdown",
   "metadata": {},
   "source": [
    "And a dataset stored as binary arrays"
   ]
  },
  {
   "cell_type": "code",
   "execution_count": 12,
   "metadata": {
    "execution": {
     "iopub.execute_input": "2020-11-23T15:21:58.943280Z",
     "iopub.status.busy": "2020-11-23T15:21:58.942726Z",
     "iopub.status.idle": "2020-11-23T15:21:58.999266Z",
     "shell.execute_reply": "2020-11-23T15:21:58.999776Z"
    },
    "scrolled": true
   },
   "outputs": [
    {
     "data": {
      "text/plain": [
       "{'x1': {'x1': array([[0.82264184],\n",
       "         [0.82264184],\n",
       "         [0.95409806],\n",
       "         [0.95409806],\n",
       "         [0.90363724],\n",
       "         [0.90363724],\n",
       "         [0.81999238],\n",
       "         [0.81999238],\n",
       "         [0.1565273 ],\n",
       "         [0.1565273 ],\n",
       "         [0.14659813],\n",
       "         [0.14659813],\n",
       "         [0.24483454],\n",
       "         [0.24483454],\n",
       "         [0.44693079],\n",
       "         [0.44693079],\n",
       "         [0.07981548],\n",
       "         [0.07981548],\n",
       "         [0.54083718],\n",
       "         [0.54083718],\n",
       "         [0.26666821],\n",
       "         [0.26666821],\n",
       "         [0.01584747],\n",
       "         [0.01584747],\n",
       "         [0.73853082],\n",
       "         [0.73853082],\n",
       "         [0.26970435],\n",
       "         [0.26970435],\n",
       "         [0.09673713],\n",
       "         [0.09673713],\n",
       "         [0.72771672],\n",
       "         [0.72771672],\n",
       "         [0.34455379],\n",
       "         [0.34455379],\n",
       "         [0.31501991],\n",
       "         [0.31501991],\n",
       "         [0.09587483],\n",
       "         [0.09587483],\n",
       "         [0.17799846],\n",
       "         [0.17799846],\n",
       "         [0.16855451],\n",
       "         [0.16855451],\n",
       "         [0.5679325 ],\n",
       "         [0.5679325 ],\n",
       "         [0.16721765],\n",
       "         [0.16721765],\n",
       "         [0.01386142],\n",
       "         [0.01386142],\n",
       "         [0.15876193],\n",
       "         [0.15876193],\n",
       "         [0.17759693],\n",
       "         [0.17759693],\n",
       "         [0.68125621],\n",
       "         [0.68125621],\n",
       "         [0.57550491],\n",
       "         [0.57550491],\n",
       "         [0.33131366],\n",
       "         [0.33131366],\n",
       "         [0.18940931],\n",
       "         [0.18940931],\n",
       "         [0.46530807],\n",
       "         [0.46530807],\n",
       "         [0.51355887],\n",
       "         [0.51355887],\n",
       "         [0.57403373],\n",
       "         [0.57403373],\n",
       "         [0.47446978],\n",
       "         [0.47446978],\n",
       "         [0.73677128],\n",
       "         [0.73677128],\n",
       "         [0.81073077],\n",
       "         [0.81073077],\n",
       "         [0.19235821],\n",
       "         [0.19235821],\n",
       "         [0.44660505],\n",
       "         [0.44660505],\n",
       "         [0.53967803],\n",
       "         [0.53967803],\n",
       "         [0.90640734],\n",
       "         [0.90640734],\n",
       "         [0.22676325],\n",
       "         [0.22676325],\n",
       "         [0.04402961],\n",
       "         [0.04402961],\n",
       "         [0.41734268],\n",
       "         [0.41734268],\n",
       "         [0.67403842],\n",
       "         [0.67403842],\n",
       "         [0.66350191],\n",
       "         [0.66350191],\n",
       "         [0.95097259],\n",
       "         [0.95097259],\n",
       "         [0.83134362],\n",
       "         [0.83134362],\n",
       "         [0.91810997],\n",
       "         [0.91810997],\n",
       "         [0.2698371 ],\n",
       "         [0.2698371 ],\n",
       "         [0.35905471],\n",
       "         [0.35905471],\n",
       "         [0.53392652],\n",
       "         [0.53392652],\n",
       "         [0.87540848],\n",
       "         [0.87540848],\n",
       "         [0.19603814],\n",
       "         [0.19603814],\n",
       "         [0.2370108 ],\n",
       "         [0.2370108 ],\n",
       "         [0.28475097],\n",
       "         [0.28475097],\n",
       "         [0.99589429],\n",
       "         [0.99589429],\n",
       "         [0.88505137],\n",
       "         [0.88505137],\n",
       "         [0.22497653],\n",
       "         [0.22497653],\n",
       "         [0.33263891],\n",
       "         [0.33263891],\n",
       "         [0.78707646],\n",
       "         [0.78707646],\n",
       "         [0.92097102],\n",
       "         [0.92097102],\n",
       "         [0.43238736],\n",
       "         [0.43238736],\n",
       "         [0.42650637],\n",
       "         [0.42650637],\n",
       "         [0.35319091],\n",
       "         [0.35319091],\n",
       "         [0.3986898 ],\n",
       "         [0.3986898 ],\n",
       "         [0.38538393],\n",
       "         [0.38538393],\n",
       "         [0.08809865],\n",
       "         [0.08809865],\n",
       "         [0.42273158],\n",
       "         [0.42273158],\n",
       "         [0.5974492 ],\n",
       "         [0.5974492 ],\n",
       "         [0.06213256],\n",
       "         [0.06213256],\n",
       "         [0.72328009],\n",
       "         [0.72328009],\n",
       "         [0.17537898],\n",
       "         [0.17537898],\n",
       "         [0.74035121],\n",
       "         [0.74035121],\n",
       "         [0.09906589],\n",
       "         [0.09906589],\n",
       "         [0.31802068],\n",
       "         [0.31802068],\n",
       "         [0.01390744],\n",
       "         [0.01390744],\n",
       "         [0.90184176],\n",
       "         [0.90184176],\n",
       "         [0.53807189],\n",
       "         [0.53807189],\n",
       "         [0.8973677 ],\n",
       "         [0.8973677 ],\n",
       "         [0.2501235 ],\n",
       "         [0.2501235 ],\n",
       "         [0.60180577],\n",
       "         [0.60180577],\n",
       "         [0.12625709],\n",
       "         [0.12625709],\n",
       "         [0.8937835 ],\n",
       "         [0.8937835 ],\n",
       "         [0.9384834 ],\n",
       "         [0.9384834 ],\n",
       "         [0.16581835],\n",
       "         [0.16581835],\n",
       "         [0.31918866],\n",
       "         [0.31918866],\n",
       "         [0.33314937],\n",
       "         [0.33314937],\n",
       "         [0.23284607],\n",
       "         [0.23284607],\n",
       "         [0.33545989],\n",
       "         [0.33545989],\n",
       "         [0.50837273],\n",
       "         [0.50837273],\n",
       "         [0.54222909],\n",
       "         [0.54222909],\n",
       "         [0.60308709],\n",
       "         [0.60308709],\n",
       "         [0.10396876],\n",
       "         [0.10396876],\n",
       "         [0.68032352],\n",
       "         [0.68032352],\n",
       "         [0.40585087],\n",
       "         [0.40585087],\n",
       "         [0.0889309 ],\n",
       "         [0.0889309 ],\n",
       "         [0.17599629],\n",
       "         [0.17599629],\n",
       "         [0.96826042],\n",
       "         [0.96826042],\n",
       "         [0.69230534],\n",
       "         [0.69230534],\n",
       "         [0.56541517],\n",
       "         [0.56541517]])}}"
      ]
     },
     "execution_count": 1,
     "metadata": {},
     "output_type": "execute_result"
    }
   ],
   "source": [
    "ds = load_by_id(run_id_a)\n",
    "ds.get_parameter_data('x1')"
   ]
  },
  {
   "cell_type": "code",
   "execution_count": null,
   "metadata": {},
   "outputs": [],
   "source": []
  }
 ],
 "metadata": {
  "kernelspec": {
   "display_name": "Python 3",
   "language": "python",
   "name": "python3"
  },
  "language_info": {
   "codemirror_mode": {
    "name": "ipython",
    "version": 3
   },
   "file_extension": ".py",
   "mimetype": "text/x-python",
   "name": "python",
   "nbconvert_exporter": "python",
   "pygments_lexer": "ipython3",
   "version": "3.7.9"
  },
  "nbsphinx": {
   "timeout": 600
  },
  "toc": {
   "base_numbering": 1,
   "nav_menu": {},
   "number_sections": true,
   "sideBar": true,
   "skip_h1_title": false,
   "title_cell": "Table of Contents",
   "title_sidebar": "Contents",
   "toc_cell": false,
   "toc_position": {},
   "toc_section_display": true,
   "toc_window_display": false
  },
  "varInspector": {
   "cols": {
    "lenName": 16,
    "lenType": 16,
    "lenVar": 40
   },
   "kernels_config": {
    "python": {
     "delete_cmd_postfix": "",
     "delete_cmd_prefix": "del ",
     "library": "var_list.py",
     "varRefreshCmd": "print(var_dic_list())"
    },
    "r": {
     "delete_cmd_postfix": ") ",
     "delete_cmd_prefix": "rm(",
     "library": "var_list.r",
     "varRefreshCmd": "cat(var_dic_list()) "
    }
   },
   "types_to_exclude": [
    "module",
    "function",
    "builtin_function_or_method",
    "instance",
    "_Feature"
   ],
   "window_display": false
  }
 },
 "nbformat": 4,
 "nbformat_minor": 2
}
