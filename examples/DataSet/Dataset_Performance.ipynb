{
 "cells": [
  {
   "cell_type": "markdown",
   "metadata": {},
   "source": [
    "# DataSet Performance\n",
    "\n",
    "This notebook shows the trade-off between inserting data into a database row-by-row and as binary blobs. Inserting the data row-by-row means that we have direct access to all the data and may perform queries directly on the values of the data. On the other hand, as we shall see, this is much slower than inserting the data directly as binary blobs."
   ]
  },
  {
   "cell_type": "markdown",
   "metadata": {},
   "source": [
    "First, we choose a new location for the database to ensure that we don't add a bunch of benchmarking data to the default one."
   ]
  },
  {
   "cell_type": "code",
   "execution_count": 1,
   "metadata": {
    "execution": {
     "iopub.execute_input": "2020-12-14T07:43:16.968634Z",
     "iopub.status.busy": "2020-12-14T07:43:16.968101Z",
     "iopub.status.idle": "2020-12-14T07:43:17.985203Z",
     "shell.execute_reply": "2020-12-14T07:43:17.985965Z"
    }
   },
   "outputs": [
    {
     "name": "stdout",
     "output_type": "stream",
     "text": [
      "Logging hadn't been started.\n",
      "Activating auto-logging. Current session state plus future input saved.\n",
      "Filename       : /home/vsts/.qcodes/logs/command_history.log\n",
      "Mode           : append\n",
      "Output logging : True\n",
      "Raw input log  : False\n",
      "Timestamping   : True\n",
      "State          : active\n"
     ]
    },
    {
     "name": "stdout",
     "output_type": "stream",
     "text": [
      "Qcodes Logfile : /home/vsts/.qcodes/logs/201214-14329-qcodes.log\n"
     ]
    }
   ],
   "source": [
    "import os\n",
    "cwd = os.getcwd()\n",
    "import qcodes as qc\n",
    "qc.config[\"core\"][\"db_location\"] = os.path.join(cwd, 'testing.db')\n"
   ]
  },
  {
   "cell_type": "code",
   "execution_count": 2,
   "metadata": {
    "execution": {
     "iopub.execute_input": "2020-12-14T07:43:17.992831Z",
     "iopub.status.busy": "2020-12-14T07:43:17.992263Z",
     "iopub.status.idle": "2020-12-14T07:43:18.178009Z",
     "shell.execute_reply": "2020-12-14T07:43:18.176781Z"
    }
   },
   "outputs": [],
   "source": [
    "%matplotlib inline\n",
    "import time\n",
    "import matplotlib.pyplot as plt\n",
    "import numpy as np\n",
    "\n",
    "import qcodes as qc\n",
    "from qcodes.instrument.parameter import ManualParameter\n",
    "from qcodes.dataset.experiment_container import (Experiment,\n",
    "                                                 load_last_experiment,\n",
    "                                                 new_experiment)\n",
    "from qcodes.dataset.sqlite.database import initialise_database\n",
    "from qcodes import load_or_create_experiment\n",
    "from qcodes.dataset.measurements import Measurement"
   ]
  },
  {
   "cell_type": "code",
   "execution_count": 3,
   "metadata": {
    "execution": {
     "iopub.execute_input": "2020-12-14T07:43:18.181863Z",
     "iopub.status.busy": "2020-12-14T07:43:18.181344Z",
     "iopub.status.idle": "2020-12-14T07:43:18.286471Z",
     "shell.execute_reply": "2020-12-14T07:43:18.286903Z"
    }
   },
   "outputs": [
    {
     "name": "stdout",
     "output_type": "stream",
     "text": [
      "\r",
      "0it [00:00, ?it/s]"
     ]
    },
    {
     "name": "stdout",
     "output_type": "stream",
     "text": [
      "\r",
      "Upgrading database; v0 -> v1: : 0it [00:00, ?it/s]"
     ]
    },
    {
     "name": "stdout",
     "output_type": "stream",
     "text": [
      "\r",
      "Upgrading database; v0 -> v1: : 0it [00:00, ?it/s]"
     ]
    },
    {
     "name": "stdout",
     "output_type": "stream",
     "text": [
      "\n",
      "\r",
      "  0%|          | 0/1 [00:00<?, ?it/s]"
     ]
    },
    {
     "name": "stdout",
     "output_type": "stream",
     "text": [
      "\r",
      "Upgrading database; v1 -> v2:   0%|          | 0/1 [00:00<?, ?it/s]"
     ]
    },
    {
     "name": "stdout",
     "output_type": "stream",
     "text": [
      "\r",
      "Upgrading database; v1 -> v2: 100%|██████████| 1/1 [00:00<00:00, 1277.58it/s]"
     ]
    },
    {
     "name": "stdout",
     "output_type": "stream",
     "text": [
      "\n",
      "\r",
      "0it [00:00, ?it/s]"
     ]
    },
    {
     "name": "stdout",
     "output_type": "stream",
     "text": [
      "\r",
      "Upgrading database; v2 -> v3: : 0it [00:00, ?it/s]"
     ]
    },
    {
     "name": "stdout",
     "output_type": "stream",
     "text": [
      "\r",
      "Upgrading database; v2 -> v3: : 0it [00:00, ?it/s]"
     ]
    },
    {
     "name": "stdout",
     "output_type": "stream",
     "text": [
      "\n",
      "\r",
      "0it [00:00, ?it/s]"
     ]
    },
    {
     "name": "stdout",
     "output_type": "stream",
     "text": [
      "\r",
      "Upgrading database; v3 -> v4: : 0it [00:00, ?it/s]"
     ]
    },
    {
     "name": "stdout",
     "output_type": "stream",
     "text": [
      "\r",
      "Upgrading database; v3 -> v4: : 0it [00:00, ?it/s]"
     ]
    },
    {
     "name": "stdout",
     "output_type": "stream",
     "text": [
      "\n",
      "\r",
      "  0%|          | 0/1 [00:00<?, ?it/s]"
     ]
    },
    {
     "name": "stdout",
     "output_type": "stream",
     "text": [
      "\r",
      "Upgrading database; v4 -> v5:   0%|          | 0/1 [00:00<?, ?it/s]"
     ]
    },
    {
     "name": "stdout",
     "output_type": "stream",
     "text": [
      "\r",
      "Upgrading database; v4 -> v5: 100%|██████████| 1/1 [00:00<00:00, 438.37it/s]"
     ]
    },
    {
     "name": "stdout",
     "output_type": "stream",
     "text": [
      "\n",
      "\r",
      "0it [00:00, ?it/s]"
     ]
    },
    {
     "name": "stdout",
     "output_type": "stream",
     "text": [
      "\r",
      "Upgrading database; v5 -> v6: : 0it [00:00, ?it/s]"
     ]
    },
    {
     "name": "stdout",
     "output_type": "stream",
     "text": [
      "\r",
      "Upgrading database; v5 -> v6: : 0it [00:00, ?it/s]"
     ]
    },
    {
     "name": "stdout",
     "output_type": "stream",
     "text": [
      "\n",
      "\r",
      "  0%|          | 0/1 [00:00<?, ?it/s]"
     ]
    },
    {
     "name": "stdout",
     "output_type": "stream",
     "text": [
      "\r",
      "Upgrading database; v6 -> v7:   0%|          | 0/1 [00:00<?, ?it/s]"
     ]
    },
    {
     "name": "stdout",
     "output_type": "stream",
     "text": [
      "\r",
      "Upgrading database; v6 -> v7: 100%|██████████| 1/1 [00:00<00:00, 348.62it/s]"
     ]
    },
    {
     "name": "stdout",
     "output_type": "stream",
     "text": [
      "\n",
      "\r",
      "  0%|          | 0/1 [00:00<?, ?it/s]"
     ]
    },
    {
     "name": "stdout",
     "output_type": "stream",
     "text": [
      "\r",
      "Upgrading database; v7 -> v8:   0%|          | 0/1 [00:00<?, ?it/s]"
     ]
    },
    {
     "name": "stdout",
     "output_type": "stream",
     "text": [
      "\r",
      "Upgrading database; v7 -> v8: 100%|██████████| 1/1 [00:00<00:00, 580.53it/s]"
     ]
    },
    {
     "name": "stdout",
     "output_type": "stream",
     "text": [
      "\n",
      "\r",
      "  0%|          | 0/1 [00:00<?, ?it/s]"
     ]
    },
    {
     "name": "stdout",
     "output_type": "stream",
     "text": [
      "\r",
      "Upgrading database; v8 -> v9:   0%|          | 0/1 [00:00<?, ?it/s]"
     ]
    },
    {
     "name": "stdout",
     "output_type": "stream",
     "text": [
      "\r",
      "Upgrading database; v8 -> v9: 100%|██████████| 1/1 [00:00<00:00, 1366.22it/s]"
     ]
    },
    {
     "name": "stdout",
     "output_type": "stream",
     "text": [
      "\n"
     ]
    }
   ],
   "source": [
    "initialise_database()\n",
    "exp = load_or_create_experiment(experiment_name='tutorial_exp', sample_name=\"no sample\")"
   ]
  },
  {
   "cell_type": "markdown",
   "metadata": {},
   "source": [
    "Here, we define a simple function to benchmark the time it takes to insert n points with either numeric or array data type.\n",
    "We will compare both the time used to call ``add_result`` and the time used for the full measurement."
   ]
  },
  {
   "cell_type": "code",
   "execution_count": 4,
   "metadata": {
    "execution": {
     "iopub.execute_input": "2020-12-14T07:43:18.294957Z",
     "iopub.status.busy": "2020-12-14T07:43:18.294428Z",
     "iopub.status.idle": "2020-12-14T07:43:18.297484Z",
     "shell.execute_reply": "2020-12-14T07:43:18.297910Z"
    }
   },
   "outputs": [],
   "source": [
    "def insert_data(paramtype, npoints, nreps=1):\n",
    "\n",
    "    meas = Measurement(exp=exp)\n",
    "\n",
    "    x1 = ManualParameter('x1')\n",
    "    x2 = ManualParameter('x2')\n",
    "    x3 = ManualParameter('x3')\n",
    "    y1 = ManualParameter('y1')\n",
    "    y2 = ManualParameter('y2')\n",
    "\n",
    "    meas.register_parameter(x1, paramtype=paramtype)\n",
    "    meas.register_parameter(x2, paramtype=paramtype)\n",
    "    meas.register_parameter(x3, paramtype=paramtype)\n",
    "    meas.register_parameter(y1, setpoints=[x1, x2, x3],\n",
    "                            paramtype=paramtype)\n",
    "    meas.register_parameter(y2, setpoints=[x1, x2, x3],\n",
    "                            paramtype=paramtype)\n",
    "    start = time.perf_counter()\n",
    "    with meas.run() as datasaver:\n",
    "        start_adding = time.perf_counter()\n",
    "        for i in range(nreps):\n",
    "            datasaver.add_result((x1, np.random.rand(npoints)),\n",
    "                                 (x2, np.random.rand(npoints)),\n",
    "                                 (x3, np.random.rand(npoints)),\n",
    "                                 (y1, np.random.rand(npoints)),\n",
    "                                 (y2, np.random.rand(npoints)))\n",
    "        stop_adding = time.perf_counter()\n",
    "        run_id = datasaver.run_id\n",
    "    stop = time.perf_counter()\n",
    "    tot_time = stop - start\n",
    "    add_time = stop_adding - start_adding\n",
    "    return tot_time, add_time, run_id"
   ]
  },
  {
   "cell_type": "markdown",
   "metadata": {},
   "source": [
    "## Comparison between numeric/array data and binary blob"
   ]
  },
  {
   "cell_type": "markdown",
   "metadata": {},
   "source": [
    "### Case1: Short experiment time"
   ]
  },
  {
   "cell_type": "code",
   "execution_count": 5,
   "metadata": {
    "execution": {
     "iopub.execute_input": "2020-12-14T07:43:18.304273Z",
     "iopub.status.busy": "2020-12-14T07:43:18.303719Z",
     "iopub.status.idle": "2020-12-14T07:43:19.135152Z",
     "shell.execute_reply": "2020-12-14T07:43:19.134304Z"
    }
   },
   "outputs": [
    {
     "name": "stdout",
     "output_type": "stream",
     "text": [
      "Starting experimental run with id: 1. \n",
      "Starting experimental run with id: 2. \n",
      "Starting experimental run with id: 3. \n",
      "Starting experimental run with id: 4. \n",
      "Starting experimental run with id: 5. \n"
     ]
    },
    {
     "name": "stdout",
     "output_type": "stream",
     "text": [
      "Starting experimental run with id: 6. \n"
     ]
    },
    {
     "name": "stdout",
     "output_type": "stream",
     "text": [
      "Starting experimental run with id: 7. "
     ]
    },
    {
     "name": "stdout",
     "output_type": "stream",
     "text": [
      "\n"
     ]
    },
    {
     "name": "stdout",
     "output_type": "stream",
     "text": [
      "Starting experimental run with id: 8. \n",
      "Starting experimental run with id: 9. \n"
     ]
    },
    {
     "name": "stdout",
     "output_type": "stream",
     "text": [
      "Starting experimental run with id: 10. \n",
      "Starting experimental run with id: 11. \n"
     ]
    },
    {
     "name": "stdout",
     "output_type": "stream",
     "text": [
      "Starting experimental run with id: 12. \n",
      "Starting experimental run with id: 13. \n"
     ]
    },
    {
     "name": "stdout",
     "output_type": "stream",
     "text": [
      "Starting experimental run with id: 14. \n"
     ]
    }
   ],
   "source": [
    "sizes = [1,500,1000,2000,3000,4000,5000]\n",
    "t_numeric = []\n",
    "t_numeric_add = []\n",
    "t_array = []\n",
    "t_array_add = []\n",
    "for size in sizes:\n",
    "    tn, tna, run_id_n =  insert_data('numeric', size)\n",
    "    t_numeric.append(tn)\n",
    "    t_numeric_add.append(tna)\n",
    "\n",
    "    ta, taa, run_id_a =  insert_data('array', size)\n",
    "    t_array.append(ta)\n",
    "    t_array_add.append(taa)"
   ]
  },
  {
   "cell_type": "code",
   "execution_count": 6,
   "metadata": {
    "execution": {
     "iopub.execute_input": "2020-12-14T07:43:19.164667Z",
     "iopub.status.busy": "2020-12-14T07:43:19.151820Z",
     "iopub.status.idle": "2020-12-14T07:43:19.333253Z",
     "shell.execute_reply": "2020-12-14T07:43:19.333888Z"
    }
   },
   "outputs": [
    {
     "data": {
      "image/png": "[encoded data removed]",
      "text/plain": [
       "<Figure size 432x288 with 1 Axes>"
      ]
     },
     "metadata": {
      "needs_background": "light"
     },
     "output_type": "display_data"
    }
   ],
   "source": [
    "fig, ax = plt.subplots(1,1)\n",
    "ax.plot(sizes, t_numeric, 'o-', label='Inserting row-by-row')\n",
    "ax.plot(sizes, t_numeric_add, 'o-', label='Inserting row-by-row: add_result only')\n",
    "ax.plot(sizes, t_array, 'd-', label='Inserting as binary blob')\n",
    "ax.plot(sizes, t_array_add, 'd-', label='Inserting as binary blob: add_result only')\n",
    "ax.legend()\n",
    "ax.set_xlabel('Array length')\n",
    "ax.set_ylabel('Time (s)')\n",
    "fig.tight_layout()"
   ]
  },
  {
   "cell_type": "markdown",
   "metadata": {},
   "source": [
    "As shown in the latter figure, the time to setup and and close the experiment is approximately 0.4 sec. In case of small array sizes, the difference between inserting values of data as arrays and inserting them row-by-row is relatively unimportant. At larger array sizes, i.e. above 10000 points, the cost of writing data as individual datapoints starts to become important.\n"
   ]
  },
  {
   "cell_type": "markdown",
   "metadata": {},
   "source": [
    "### Case2: Long experiment time "
   ]
  },
  {
   "cell_type": "code",
   "execution_count": 7,
   "metadata": {
    "execution": {
     "iopub.execute_input": "2020-12-14T07:43:19.340478Z",
     "iopub.status.busy": "2020-12-14T07:43:19.339958Z",
     "iopub.status.idle": "2020-12-14T07:44:18.797667Z",
     "shell.execute_reply": "2020-12-14T07:44:18.796638Z"
    }
   },
   "outputs": [
    {
     "name": "stdout",
     "output_type": "stream",
     "text": [
      "Starting experimental run with id: 15. \n",
      "Starting experimental run with id: 16. \n",
      "Starting experimental run with id: 17. \n"
     ]
    },
    {
     "name": "stdout",
     "output_type": "stream",
     "text": [
      "Starting experimental run with id: 18. \n",
      "Starting experimental run with id: 19. \n"
     ]
    },
    {
     "name": "stdout",
     "output_type": "stream",
     "text": [
      "Starting experimental run with id: 20. \n"
     ]
    },
    {
     "name": "stdout",
     "output_type": "stream",
     "text": [
      "Starting experimental run with id: 21. \n"
     ]
    },
    {
     "name": "stdout",
     "output_type": "stream",
     "text": [
      "Starting experimental run with id: 22. \n"
     ]
    },
    {
     "name": "stdout",
     "output_type": "stream",
     "text": [
      "Starting experimental run with id: 23. \n"
     ]
    },
    {
     "name": "stdout",
     "output_type": "stream",
     "text": [
      "Starting experimental run with id: 24. \n"
     ]
    },
    {
     "name": "stdout",
     "output_type": "stream",
     "text": [
      "Starting experimental run with id: 25. \n"
     ]
    },
    {
     "name": "stdout",
     "output_type": "stream",
     "text": [
      "Starting experimental run with id: 26. \n"
     ]
    },
    {
     "name": "stdout",
     "output_type": "stream",
     "text": [
      "Starting experimental run with id: 27. \n"
     ]
    },
    {
     "name": "stdout",
     "output_type": "stream",
     "text": [
      "Starting experimental run with id: 28. \n"
     ]
    }
   ],
   "source": [
    "sizes = [1,500,1000,2000,3000,4000,5000]\n",
    "nreps = 100\n",
    "t_numeric = []\n",
    "t_numeric_add = []\n",
    "t_numeric_run_ids = []\n",
    "t_array = []\n",
    "t_array_add = []\n",
    "t_array_run_ids = []\n",
    "for size in sizes:\n",
    "    tn, tna, run_id_n =  insert_data('numeric', size, nreps=nreps)\n",
    "    t_numeric.append(tn)\n",
    "    t_numeric_add.append(tna)\n",
    "    t_numeric_run_ids.append(run_id_n)\n",
    "\n",
    "    ta, taa, run_id_a =  insert_data('array', size, nreps=nreps)\n",
    "    t_array.append(ta)\n",
    "    t_array_add.append(taa)\n",
    "    t_array_run_ids.append(run_id_a)"
   ]
  },
  {
   "cell_type": "code",
   "execution_count": 8,
   "metadata": {
    "execution": {
     "iopub.execute_input": "2020-12-14T07:44:18.827283Z",
     "iopub.status.busy": "2020-12-14T07:44:18.802673Z",
     "iopub.status.idle": "2020-12-14T07:44:18.989535Z",
     "shell.execute_reply": "2020-12-14T07:44:18.990500Z"
    },
    "scrolled": true
   },
   "outputs": [
    {
     "data": {
      "image/png": "[encoded data removed]",
      "text/plain": [
       "<Figure size 432x288 with 1 Axes>"
      ]
     },
     "metadata": {
      "needs_background": "light"
     },
     "output_type": "display_data"
    }
   ],
   "source": [
    "fig, ax = plt.subplots(1,1)\n",
    "ax.plot(sizes, t_numeric, 'o-', label='Inserting row-by-row')\n",
    "ax.plot(sizes, t_numeric_add, 'o-', label='Inserting row-by-row: add_result only')\n",
    "ax.plot(sizes, t_array, 'd-', label='Inserting as binary blob')\n",
    "ax.plot(sizes, t_array_add, 'd-', label='Inserting as binary blob: add_result only')\n",
    "ax.legend()\n",
    "ax.set_xlabel('Array length')\n",
    "ax.set_ylabel('Time (s)')\n",
    "fig.tight_layout()"
   ]
  },
  {
   "cell_type": "markdown",
   "metadata": {},
   "source": [
    "However, as we increase the length of the experiment, as seen here by repeating the insertion 100 times, we see a big difference between inserting values of the data row-by-row and inserting it as a binary blob."
   ]
  },
  {
   "cell_type": "markdown",
   "metadata": {},
   "source": [
    "## Loading the data "
   ]
  },
  {
   "cell_type": "code",
   "execution_count": 9,
   "metadata": {
    "execution": {
     "iopub.execute_input": "2020-12-14T07:44:18.994044Z",
     "iopub.status.busy": "2020-12-14T07:44:18.993051Z",
     "iopub.status.idle": "2020-12-14T07:44:18.996745Z",
     "shell.execute_reply": "2020-12-14T07:44:18.997374Z"
    }
   },
   "outputs": [],
   "source": [
    "from qcodes.dataset.data_set import load_by_id\n",
    "from qcodes.dataset.data_export import get_data_by_id"
   ]
  },
  {
   "cell_type": "markdown",
   "metadata": {},
   "source": [
    "As usual you can load the data by using the ``load_by_id`` function but you will notice that the different storage methods\n",
    "are reflected in shape of the data as it is retrieved. "
   ]
  },
  {
   "cell_type": "code",
   "execution_count": 10,
   "metadata": {
    "execution": {
     "iopub.execute_input": "2020-12-14T07:44:19.000763Z",
     "iopub.status.busy": "2020-12-14T07:44:19.000311Z",
     "iopub.status.idle": "2020-12-14T07:44:19.003787Z",
     "shell.execute_reply": "2020-12-14T07:44:19.003328Z"
    }
   },
   "outputs": [],
   "source": [
    "run_id_n = t_numeric_run_ids[0]\n",
    "run_id_a = t_array_run_ids[0]"
   ]
  },
  {
   "cell_type": "code",
   "execution_count": 11,
   "metadata": {
    "execution": {
     "iopub.execute_input": "2020-12-14T07:44:19.006766Z",
     "iopub.status.busy": "2020-12-14T07:44:19.006271Z",
     "iopub.status.idle": "2020-12-14T07:44:19.015252Z",
     "shell.execute_reply": "2020-12-14T07:44:19.014779Z"
    },
    "scrolled": true
   },
   "outputs": [
    {
     "data": {
      "text/plain": [
       "{'x1': {'x1': array([0.90000008, 0.90000008, 0.71221417, 0.71221417, 0.09874161,\n",
       "         0.09874161, 0.25363902, 0.25363902, 0.71488648, 0.71488648,\n",
       "         0.44141819, 0.44141819, 0.37890799, 0.37890799, 0.499339  ,\n",
       "         0.499339  , 0.87894043, 0.87894043, 0.75387287, 0.75387287,\n",
       "         0.47076975, 0.47076975, 0.0969499 , 0.0969499 , 0.51118771,\n",
       "         0.51118771, 0.26905968, 0.26905968, 0.2404632 , 0.2404632 ,\n",
       "         0.34801331, 0.34801331, 0.23411719, 0.23411719, 0.38647715,\n",
       "         0.38647715, 0.70574574, 0.70574574, 0.24864908, 0.24864908,\n",
       "         0.34678262, 0.34678262, 0.71138964, 0.71138964, 0.69301449,\n",
       "         0.69301449, 0.57054179, 0.57054179, 0.73950163, 0.73950163,\n",
       "         0.90784706, 0.90784706, 0.34200562, 0.34200562, 0.18877076,\n",
       "         0.18877076, 0.44988306, 0.44988306, 0.82758996, 0.82758996,\n",
       "         0.30466018, 0.30466018, 0.74411275, 0.74411275, 0.30858886,\n",
       "         0.30858886, 0.03529176, 0.03529176, 0.8933924 , 0.8933924 ,\n",
       "         0.6977474 , 0.6977474 , 0.89355056, 0.89355056, 0.56301296,\n",
       "         0.56301296, 0.67673435, 0.67673435, 0.60252735, 0.60252735,\n",
       "         0.43628322, 0.43628322, 0.95963452, 0.95963452, 0.64091871,\n",
       "         0.64091871, 0.75394291, 0.75394291, 0.12149075, 0.12149075,\n",
       "         0.21285051, 0.21285051, 0.4851374 , 0.4851374 , 0.72462415,\n",
       "         0.72462415, 0.18020449, 0.18020449, 0.21190315, 0.21190315,\n",
       "         0.36572151, 0.36572151, 0.15763815, 0.15763815, 0.11657957,\n",
       "         0.11657957, 0.74148476, 0.74148476, 0.42971493, 0.42971493,\n",
       "         0.0443709 , 0.0443709 , 0.18938426, 0.18938426, 0.69059171,\n",
       "         0.69059171, 0.05229522, 0.05229522, 0.12972912, 0.12972912,\n",
       "         0.53658992, 0.53658992, 0.76239702, 0.76239702, 0.70248227,\n",
       "         0.70248227, 0.05232891, 0.05232891, 0.94833311, 0.94833311,\n",
       "         0.7147357 , 0.7147357 , 0.15255795, 0.15255795, 0.89878803,\n",
       "         0.89878803, 0.70754761, 0.70754761, 0.72597339, 0.72597339,\n",
       "         0.6340119 , 0.6340119 , 0.98471533, 0.98471533, 0.48981549,\n",
       "         0.48981549, 0.29255895, 0.29255895, 0.82247471, 0.82247471,\n",
       "         0.74241802, 0.74241802, 0.38913516, 0.38913516, 0.03755173,\n",
       "         0.03755173, 0.43472039, 0.43472039, 0.8604795 , 0.8604795 ,\n",
       "         0.47687874, 0.47687874, 0.17886262, 0.17886262, 0.82326518,\n",
       "         0.82326518, 0.47942979, 0.47942979, 0.0130626 , 0.0130626 ,\n",
       "         0.44440241, 0.44440241, 0.90516999, 0.90516999, 0.93064389,\n",
       "         0.93064389, 0.69916856, 0.69916856, 0.2514471 , 0.2514471 ,\n",
       "         0.661396  , 0.661396  , 0.12181765, 0.12181765, 0.45567894,\n",
       "         0.45567894, 0.73682253, 0.73682253, 0.40603461, 0.40603461,\n",
       "         0.01780022, 0.01780022, 0.92764944, 0.92764944, 0.62942427,\n",
       "         0.62942427, 0.91663608, 0.91663608, 0.4722049 , 0.4722049 ])}}"
      ]
     },
     "execution_count": 1,
     "metadata": {},
     "output_type": "execute_result"
    }
   ],
   "source": [
    "ds = load_by_id(run_id_n)\n",
    "ds.get_parameter_data('x1')"
   ]
  },
  {
   "cell_type": "markdown",
   "metadata": {},
   "source": [
    "And a dataset stored as binary arrays"
   ]
  },
  {
   "cell_type": "code",
   "execution_count": 12,
   "metadata": {
    "execution": {
     "iopub.execute_input": "2020-12-14T07:44:19.018278Z",
     "iopub.status.busy": "2020-12-14T07:44:19.017804Z",
     "iopub.status.idle": "2020-12-14T07:44:19.070161Z",
     "shell.execute_reply": "2020-12-14T07:44:19.070731Z"
    },
    "scrolled": true
   },
   "outputs": [
    {
     "data": {
      "text/plain": [
       "{'x1': {'x1': array([[0.63454173],\n",
       "         [0.63454173],\n",
       "         [0.92366294],\n",
       "         [0.92366294],\n",
       "         [0.64106499],\n",
       "         [0.64106499],\n",
       "         [0.0526143 ],\n",
       "         [0.0526143 ],\n",
       "         [0.79514006],\n",
       "         [0.79514006],\n",
       "         [0.051344  ],\n",
       "         [0.051344  ],\n",
       "         [0.50714943],\n",
       "         [0.50714943],\n",
       "         [0.95156471],\n",
       "         [0.95156471],\n",
       "         [0.25678155],\n",
       "         [0.25678155],\n",
       "         [0.17151728],\n",
       "         [0.17151728],\n",
       "         [0.46419813],\n",
       "         [0.46419813],\n",
       "         [0.05134275],\n",
       "         [0.05134275],\n",
       "         [0.11894331],\n",
       "         [0.11894331],\n",
       "         [0.05171162],\n",
       "         [0.05171162],\n",
       "         [0.42484642],\n",
       "         [0.42484642],\n",
       "         [0.67115589],\n",
       "         [0.67115589],\n",
       "         [0.67309195],\n",
       "         [0.67309195],\n",
       "         [0.68754423],\n",
       "         [0.68754423],\n",
       "         [0.94357834],\n",
       "         [0.94357834],\n",
       "         [0.53786053],\n",
       "         [0.53786053],\n",
       "         [0.02512763],\n",
       "         [0.02512763],\n",
       "         [0.74475425],\n",
       "         [0.74475425],\n",
       "         [0.67048575],\n",
       "         [0.67048575],\n",
       "         [0.95182023],\n",
       "         [0.95182023],\n",
       "         [0.42450533],\n",
       "         [0.42450533],\n",
       "         [0.64120119],\n",
       "         [0.64120119],\n",
       "         [0.79062311],\n",
       "         [0.79062311],\n",
       "         [0.36633879],\n",
       "         [0.36633879],\n",
       "         [0.37859854],\n",
       "         [0.37859854],\n",
       "         [0.13668071],\n",
       "         [0.13668071],\n",
       "         [0.69972185],\n",
       "         [0.69972185],\n",
       "         [0.11000008],\n",
       "         [0.11000008],\n",
       "         [0.05817006],\n",
       "         [0.05817006],\n",
       "         [0.17904988],\n",
       "         [0.17904988],\n",
       "         [0.23536767],\n",
       "         [0.23536767],\n",
       "         [0.70556184],\n",
       "         [0.70556184],\n",
       "         [0.03072474],\n",
       "         [0.03072474],\n",
       "         [0.29553797],\n",
       "         [0.29553797],\n",
       "         [0.16759102],\n",
       "         [0.16759102],\n",
       "         [0.68781239],\n",
       "         [0.68781239],\n",
       "         [0.28213491],\n",
       "         [0.28213491],\n",
       "         [0.95634179],\n",
       "         [0.95634179],\n",
       "         [0.24914357],\n",
       "         [0.24914357],\n",
       "         [0.40867182],\n",
       "         [0.40867182],\n",
       "         [0.58604018],\n",
       "         [0.58604018],\n",
       "         [0.3183881 ],\n",
       "         [0.3183881 ],\n",
       "         [0.03136873],\n",
       "         [0.03136873],\n",
       "         [0.44892346],\n",
       "         [0.44892346],\n",
       "         [0.8023901 ],\n",
       "         [0.8023901 ],\n",
       "         [0.29801411],\n",
       "         [0.29801411],\n",
       "         [0.79941981],\n",
       "         [0.79941981],\n",
       "         [0.15041134],\n",
       "         [0.15041134],\n",
       "         [0.23263732],\n",
       "         [0.23263732],\n",
       "         [0.13922839],\n",
       "         [0.13922839],\n",
       "         [0.24160331],\n",
       "         [0.24160331],\n",
       "         [0.8167045 ],\n",
       "         [0.8167045 ],\n",
       "         [0.83317522],\n",
       "         [0.83317522],\n",
       "         [0.18961359],\n",
       "         [0.18961359],\n",
       "         [0.02323834],\n",
       "         [0.02323834],\n",
       "         [0.57279849],\n",
       "         [0.57279849],\n",
       "         [0.53228688],\n",
       "         [0.53228688],\n",
       "         [0.55923112],\n",
       "         [0.55923112],\n",
       "         [0.0785131 ],\n",
       "         [0.0785131 ],\n",
       "         [0.10162277],\n",
       "         [0.10162277],\n",
       "         [0.15436836],\n",
       "         [0.15436836],\n",
       "         [0.21473527],\n",
       "         [0.21473527],\n",
       "         [0.68264787],\n",
       "         [0.68264787],\n",
       "         [0.18721149],\n",
       "         [0.18721149],\n",
       "         [0.07721885],\n",
       "         [0.07721885],\n",
       "         [0.22567434],\n",
       "         [0.22567434],\n",
       "         [0.62049771],\n",
       "         [0.62049771],\n",
       "         [0.80154235],\n",
       "         [0.80154235],\n",
       "         [0.19305735],\n",
       "         [0.19305735],\n",
       "         [0.68793411],\n",
       "         [0.68793411],\n",
       "         [0.56969234],\n",
       "         [0.56969234],\n",
       "         [0.96801557],\n",
       "         [0.96801557],\n",
       "         [0.04865854],\n",
       "         [0.04865854],\n",
       "         [0.1907806 ],\n",
       "         [0.1907806 ],\n",
       "         [0.29926036],\n",
       "         [0.29926036],\n",
       "         [0.43452762],\n",
       "         [0.43452762],\n",
       "         [0.32226526],\n",
       "         [0.32226526],\n",
       "         [0.82202445],\n",
       "         [0.82202445],\n",
       "         [0.83517706],\n",
       "         [0.83517706],\n",
       "         [0.13139386],\n",
       "         [0.13139386],\n",
       "         [0.64515456],\n",
       "         [0.64515456],\n",
       "         [0.3461755 ],\n",
       "         [0.3461755 ],\n",
       "         [0.32181673],\n",
       "         [0.32181673],\n",
       "         [0.2230847 ],\n",
       "         [0.2230847 ],\n",
       "         [0.2846575 ],\n",
       "         [0.2846575 ],\n",
       "         [0.96895096],\n",
       "         [0.96895096],\n",
       "         [0.8487396 ],\n",
       "         [0.8487396 ],\n",
       "         [0.60245314],\n",
       "         [0.60245314],\n",
       "         [0.78751406],\n",
       "         [0.78751406],\n",
       "         [0.92097414],\n",
       "         [0.92097414],\n",
       "         [0.89461812],\n",
       "         [0.89461812],\n",
       "         [0.6605359 ],\n",
       "         [0.6605359 ],\n",
       "         [0.10278261],\n",
       "         [0.10278261],\n",
       "         [0.25112832],\n",
       "         [0.25112832],\n",
       "         [0.31736032],\n",
       "         [0.31736032],\n",
       "         [0.9984236 ],\n",
       "         [0.9984236 ]])}}"
      ]
     },
     "execution_count": 1,
     "metadata": {},
     "output_type": "execute_result"
    }
   ],
   "source": [
    "ds = load_by_id(run_id_a)\n",
    "ds.get_parameter_data('x1')"
   ]
  },
  {
   "cell_type": "code",
   "execution_count": null,
   "metadata": {},
   "outputs": [],
   "source": []
  }
 ],
 "metadata": {
  "kernelspec": {
   "display_name": "Python 3",
   "language": "python",
   "name": "python3"
  },
  "language_info": {
   "codemirror_mode": {
    "name": "ipython",
    "version": 3
   },
   "file_extension": ".py",
   "mimetype": "text/x-python",
   "name": "python",
   "nbconvert_exporter": "python",
   "pygments_lexer": "ipython3",
   "version": "3.7.9"
  },
  "nbsphinx": {
   "timeout": 600
  },
  "toc": {
   "base_numbering": 1,
   "nav_menu": {},
   "number_sections": true,
   "sideBar": true,
   "skip_h1_title": false,
   "title_cell": "Table of Contents",
   "title_sidebar": "Contents",
   "toc_cell": false,
   "toc_position": {},
   "toc_section_display": true,
   "toc_window_display": false
  },
  "varInspector": {
   "cols": {
    "lenName": 16,
    "lenType": 16,
    "lenVar": 40
   },
   "kernels_config": {
    "python": {
     "delete_cmd_postfix": "",
     "delete_cmd_prefix": "del ",
     "library": "var_list.py",
     "varRefreshCmd": "print(var_dic_list())"
    },
    "r": {
     "delete_cmd_postfix": ") ",
     "delete_cmd_prefix": "rm(",
     "library": "var_list.r",
     "varRefreshCmd": "cat(var_dic_list()) "
    }
   },
   "types_to_exclude": [
    "module",
    "function",
    "builtin_function_or_method",
    "instance",
    "_Feature"
   ],
   "window_display": false
  }
 },
 "nbformat": 4,
 "nbformat_minor": 2
}
