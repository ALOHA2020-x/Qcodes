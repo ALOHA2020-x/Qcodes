{
 "cells": [
  {
   "cell_type": "markdown",
   "metadata": {},
   "source": [
    "# DataSet Performance\n",
    "\n",
    "This notebook shows the trade-off between inserting data into a database row-by-row and as binary blobs. Inserting the data row-by-row means that we have direct access to all the data and may perform queries directly on the values of the data. On the other hand, as we shall see, this is much slower than inserting the data directly as binary blobs."
   ]
  },
  {
   "cell_type": "markdown",
   "metadata": {},
   "source": [
    "First, we choose a new location for the database to ensure that we don't add a bunch of benchmarking data to the default one."
   ]
  },
  {
   "cell_type": "code",
   "execution_count": 1,
   "metadata": {
    "execution": {
     "iopub.execute_input": "2020-10-20T11:49:46.395917Z",
     "iopub.status.busy": "2020-10-20T11:49:46.395297Z",
     "iopub.status.idle": "2020-10-20T11:49:47.415343Z",
     "shell.execute_reply": "2020-10-20T11:49:47.414793Z"
    }
   },
   "outputs": [
    {
     "name": "stdout",
     "output_type": "stream",
     "text": [
      "Logging hadn't been started.\n",
      "Activating auto-logging. Current session state plus future input saved.\n",
      "Filename       : /home/vsts/.qcodes/logs/command_history.log\n",
      "Mode           : append\n",
      "Output logging : True\n",
      "Raw input log  : False\n",
      "Timestamping   : True\n",
      "State          : active\n"
     ]
    },
    {
     "name": "stdout",
     "output_type": "stream",
     "text": [
      "Qcodes Logfile : /home/vsts/.qcodes/logs/201020-15061-qcodes.log\n"
     ]
    }
   ],
   "source": [
    "import os\n",
    "cwd = os.getcwd()\n",
    "import qcodes as qc\n",
    "qc.config[\"core\"][\"db_location\"] = os.path.join(cwd, 'testing.db')\n"
   ]
  },
  {
   "cell_type": "code",
   "execution_count": 2,
   "metadata": {
    "execution": {
     "iopub.execute_input": "2020-10-20T11:49:47.421486Z",
     "iopub.status.busy": "2020-10-20T11:49:47.420708Z",
     "iopub.status.idle": "2020-10-20T11:49:47.603561Z",
     "shell.execute_reply": "2020-10-20T11:49:47.604003Z"
    }
   },
   "outputs": [],
   "source": [
    "%matplotlib inline\n",
    "import time\n",
    "import matplotlib.pyplot as plt\n",
    "import numpy as np\n",
    "\n",
    "import qcodes as qc\n",
    "from qcodes.instrument.parameter import ManualParameter\n",
    "from qcodes.dataset.experiment_container import (Experiment,\n",
    "                                                 load_last_experiment,\n",
    "                                                 new_experiment)\n",
    "from qcodes.dataset.sqlite.database import initialise_database\n",
    "from qcodes import load_or_create_experiment\n",
    "from qcodes.dataset.measurements import Measurement"
   ]
  },
  {
   "cell_type": "code",
   "execution_count": 3,
   "metadata": {
    "execution": {
     "iopub.execute_input": "2020-10-20T11:49:47.607864Z",
     "iopub.status.busy": "2020-10-20T11:49:47.607288Z",
     "iopub.status.idle": "2020-10-20T11:49:47.723195Z",
     "shell.execute_reply": "2020-10-20T11:49:47.723618Z"
    }
   },
   "outputs": [
    {
     "name": "stdout",
     "output_type": "stream",
     "text": [
      "\r",
      "0it [00:00, ?it/s]"
     ]
    },
    {
     "name": "stdout",
     "output_type": "stream",
     "text": [
      "\r",
      "Upgrading database; v0 -> v1: : 0it [00:00, ?it/s]"
     ]
    },
    {
     "name": "stdout",
     "output_type": "stream",
     "text": [
      "\r",
      "Upgrading database; v0 -> v1: : 0it [00:00, ?it/s]"
     ]
    },
    {
     "name": "stdout",
     "output_type": "stream",
     "text": [
      "\n",
      "\r",
      "  0%|          | 0/1 [00:00<?, ?it/s]"
     ]
    },
    {
     "name": "stdout",
     "output_type": "stream",
     "text": [
      "\r",
      "Upgrading database; v1 -> v2:   0%|          | 0/1 [00:00<?, ?it/s]"
     ]
    },
    {
     "name": "stdout",
     "output_type": "stream",
     "text": [
      "\r",
      "Upgrading database; v1 -> v2: 100%|██████████| 1/1 [00:00<00:00, 467.38it/s]"
     ]
    },
    {
     "name": "stdout",
     "output_type": "stream",
     "text": [
      "\n",
      "\r",
      "0it [00:00, ?it/s]"
     ]
    },
    {
     "name": "stdout",
     "output_type": "stream",
     "text": [
      "\r",
      "Upgrading database; v2 -> v3: : 0it [00:00, ?it/s]"
     ]
    },
    {
     "name": "stdout",
     "output_type": "stream",
     "text": [
      "\r",
      "Upgrading database; v2 -> v3: : 0it [00:00, ?it/s]"
     ]
    },
    {
     "name": "stdout",
     "output_type": "stream",
     "text": [
      "\n",
      "\r",
      "0it [00:00, ?it/s]"
     ]
    },
    {
     "name": "stdout",
     "output_type": "stream",
     "text": [
      "\r",
      "Upgrading database; v3 -> v4: : 0it [00:00, ?it/s]"
     ]
    },
    {
     "name": "stdout",
     "output_type": "stream",
     "text": [
      "\r",
      "Upgrading database; v3 -> v4: : 0it [00:00, ?it/s]"
     ]
    },
    {
     "name": "stdout",
     "output_type": "stream",
     "text": [
      "\n",
      "\r",
      "  0%|          | 0/1 [00:00<?, ?it/s]"
     ]
    },
    {
     "name": "stdout",
     "output_type": "stream",
     "text": [
      "\r",
      "Upgrading database; v4 -> v5:   0%|          | 0/1 [00:00<?, ?it/s]"
     ]
    },
    {
     "name": "stdout",
     "output_type": "stream",
     "text": [
      "\r",
      "Upgrading database; v4 -> v5: 100%|██████████| 1/1 [00:00<00:00, 1145.36it/s]"
     ]
    },
    {
     "name": "stdout",
     "output_type": "stream",
     "text": [
      "\n",
      "\r",
      "0it [00:00, ?it/s]"
     ]
    },
    {
     "name": "stdout",
     "output_type": "stream",
     "text": [
      "\r",
      "Upgrading database; v5 -> v6: : 0it [00:00, ?it/s]"
     ]
    },
    {
     "name": "stdout",
     "output_type": "stream",
     "text": [
      "\r",
      "Upgrading database; v5 -> v6: : 0it [00:00, ?it/s]"
     ]
    },
    {
     "name": "stdout",
     "output_type": "stream",
     "text": [
      "\n",
      "\r",
      "  0%|          | 0/1 [00:00<?, ?it/s]"
     ]
    },
    {
     "name": "stdout",
     "output_type": "stream",
     "text": [
      "\r",
      "Upgrading database; v6 -> v7:   0%|          | 0/1 [00:00<?, ?it/s]"
     ]
    },
    {
     "name": "stdout",
     "output_type": "stream",
     "text": [
      "\r",
      "Upgrading database; v6 -> v7: 100%|██████████| 1/1 [00:00<00:00, 255.58it/s]"
     ]
    },
    {
     "name": "stdout",
     "output_type": "stream",
     "text": [
      "\n",
      "\r",
      "  0%|          | 0/1 [00:00<?, ?it/s]"
     ]
    },
    {
     "name": "stdout",
     "output_type": "stream",
     "text": [
      "\r",
      "Upgrading database; v7 -> v8:   0%|          | 0/1 [00:00<?, ?it/s]"
     ]
    },
    {
     "name": "stdout",
     "output_type": "stream",
     "text": [
      "\r",
      "Upgrading database; v7 -> v8: 100%|██████████| 1/1 [00:00<00:00, 437.13it/s]"
     ]
    },
    {
     "name": "stdout",
     "output_type": "stream",
     "text": [
      "\n",
      "\r",
      "  0%|          | 0/1 [00:00<?, ?it/s]"
     ]
    },
    {
     "name": "stdout",
     "output_type": "stream",
     "text": [
      "\r",
      "Upgrading database; v8 -> v9:   0%|          | 0/1 [00:00<?, ?it/s]"
     ]
    },
    {
     "name": "stdout",
     "output_type": "stream",
     "text": [
      "\r",
      "Upgrading database; v8 -> v9: 100%|██████████| 1/1 [00:00<00:00, 1158.65it/s]"
     ]
    },
    {
     "name": "stdout",
     "output_type": "stream",
     "text": [
      "\n"
     ]
    }
   ],
   "source": [
    "initialise_database()\n",
    "exp = load_or_create_experiment(experiment_name='tutorial_exp', sample_name=\"no sample\")"
   ]
  },
  {
   "cell_type": "markdown",
   "metadata": {},
   "source": [
    "Here, we define a simple function to benchmark the time it takes to insert n points with either numeric or array data type.\n",
    "We will compare both the time used to call ``add_result`` and the time used for the full measurement."
   ]
  },
  {
   "cell_type": "code",
   "execution_count": 4,
   "metadata": {
    "execution": {
     "iopub.execute_input": "2020-10-20T11:49:47.732474Z",
     "iopub.status.busy": "2020-10-20T11:49:47.731666Z",
     "iopub.status.idle": "2020-10-20T11:49:47.734904Z",
     "shell.execute_reply": "2020-10-20T11:49:47.735317Z"
    }
   },
   "outputs": [],
   "source": [
    "def insert_data(paramtype, npoints, nreps=1):\n",
    "\n",
    "    meas = Measurement(exp=exp)\n",
    "\n",
    "    x1 = ManualParameter('x1')\n",
    "    x2 = ManualParameter('x2')\n",
    "    x3 = ManualParameter('x3')\n",
    "    y1 = ManualParameter('y1')\n",
    "    y2 = ManualParameter('y2')\n",
    "\n",
    "    meas.register_parameter(x1, paramtype=paramtype)\n",
    "    meas.register_parameter(x2, paramtype=paramtype)\n",
    "    meas.register_parameter(x3, paramtype=paramtype)\n",
    "    meas.register_parameter(y1, setpoints=[x1, x2, x3],\n",
    "                            paramtype=paramtype)\n",
    "    meas.register_parameter(y2, setpoints=[x1, x2, x3],\n",
    "                            paramtype=paramtype)\n",
    "    start = time.perf_counter()\n",
    "    with meas.run() as datasaver:\n",
    "        start_adding = time.perf_counter()\n",
    "        for i in range(nreps):\n",
    "            datasaver.add_result((x1, np.random.rand(npoints)),\n",
    "                                 (x2, np.random.rand(npoints)),\n",
    "                                 (x3, np.random.rand(npoints)),\n",
    "                                 (y1, np.random.rand(npoints)),\n",
    "                                 (y2, np.random.rand(npoints)))\n",
    "        stop_adding = time.perf_counter()\n",
    "        run_id = datasaver.run_id\n",
    "    stop = time.perf_counter()\n",
    "    tot_time = stop - start\n",
    "    add_time = stop_adding - start_adding\n",
    "    return tot_time, add_time, run_id"
   ]
  },
  {
   "cell_type": "markdown",
   "metadata": {},
   "source": [
    "## Comparison between numeric/array data and binary blob"
   ]
  },
  {
   "cell_type": "markdown",
   "metadata": {},
   "source": [
    "### Case1: Short experiment time"
   ]
  },
  {
   "cell_type": "code",
   "execution_count": 5,
   "metadata": {
    "execution": {
     "iopub.execute_input": "2020-10-20T11:49:47.741970Z",
     "iopub.status.busy": "2020-10-20T11:49:47.741047Z",
     "iopub.status.idle": "2020-10-20T11:49:48.620237Z",
     "shell.execute_reply": "2020-10-20T11:49:48.619724Z"
    }
   },
   "outputs": [
    {
     "name": "stdout",
     "output_type": "stream",
     "text": [
      "Starting experimental run with id: 1. \n",
      "Starting experimental run with id: 2. \n",
      "Starting experimental run with id: 3. \n",
      "Starting experimental run with id: 4. \n",
      "Starting experimental run with id: 5. \n"
     ]
    },
    {
     "name": "stdout",
     "output_type": "stream",
     "text": [
      "Starting experimental run with id: 6. "
     ]
    },
    {
     "name": "stdout",
     "output_type": "stream",
     "text": [
      "\n"
     ]
    },
    {
     "name": "stdout",
     "output_type": "stream",
     "text": [
      "Starting experimental run with id: 7. \n"
     ]
    },
    {
     "name": "stdout",
     "output_type": "stream",
     "text": [
      "Starting experimental run with id: 8. \n",
      "Starting experimental run with id: 9. \n"
     ]
    },
    {
     "name": "stdout",
     "output_type": "stream",
     "text": [
      "Starting experimental run with id: 10. \n",
      "Starting experimental run with id: 11. \n"
     ]
    },
    {
     "name": "stdout",
     "output_type": "stream",
     "text": [
      "Starting experimental run with id: 12. \n"
     ]
    },
    {
     "name": "stdout",
     "output_type": "stream",
     "text": [
      "Starting experimental run with id: 13. \n"
     ]
    },
    {
     "name": "stdout",
     "output_type": "stream",
     "text": [
      "Starting experimental run with id: 14. \n"
     ]
    }
   ],
   "source": [
    "sizes = [1,500,1000,2000,3000,4000,5000]\n",
    "t_numeric = []\n",
    "t_numeric_add = []\n",
    "t_array = []\n",
    "t_array_add = []\n",
    "for size in sizes:\n",
    "    tn, tna, run_id_n =  insert_data('numeric', size)\n",
    "    t_numeric.append(tn)\n",
    "    t_numeric_add.append(tna)\n",
    "\n",
    "    ta, taa, run_id_a =  insert_data('array', size)\n",
    "    t_array.append(ta)\n",
    "    t_array_add.append(taa)"
   ]
  },
  {
   "cell_type": "code",
   "execution_count": 6,
   "metadata": {
    "execution": {
     "iopub.execute_input": "2020-10-20T11:49:48.637258Z",
     "iopub.status.busy": "2020-10-20T11:49:48.625923Z",
     "iopub.status.idle": "2020-10-20T11:49:48.812033Z",
     "shell.execute_reply": "2020-10-20T11:49:48.812562Z"
    }
   },
   "outputs": [
    {
     "data": {
      "image/png": "[encoded data removed]",
      "text/plain": [
       "<Figure size 432x288 with 1 Axes>"
      ]
     },
     "metadata": {
      "needs_background": "light"
     },
     "output_type": "display_data"
    }
   ],
   "source": [
    "fig, ax = plt.subplots(1,1)\n",
    "ax.plot(sizes, t_numeric, 'o-', label='Inserting row-by-row')\n",
    "ax.plot(sizes, t_numeric_add, 'o-', label='Inserting row-by-row: add_result only')\n",
    "ax.plot(sizes, t_array, 'd-', label='Inserting as binary blob')\n",
    "ax.plot(sizes, t_array_add, 'd-', label='Inserting as binary blob: add_result only')\n",
    "ax.legend()\n",
    "ax.set_xlabel('Array length')\n",
    "ax.set_ylabel('Time (s)')\n",
    "fig.tight_layout()"
   ]
  },
  {
   "cell_type": "markdown",
   "metadata": {},
   "source": [
    "As shown in the latter figure, the time to setup and and close the experiment is approximately 0.4 sec. In case of small array sizes, the difference between inserting values of data as arrays and inserting them row-by-row is relatively unimportant. At larger array sizes, i.e. above 10000 points, the cost of writing data as individual datapoints starts to become important.\n"
   ]
  },
  {
   "cell_type": "markdown",
   "metadata": {},
   "source": [
    "### Case2: Long experiment time "
   ]
  },
  {
   "cell_type": "code",
   "execution_count": 7,
   "metadata": {
    "execution": {
     "iopub.execute_input": "2020-10-20T11:49:48.815082Z",
     "iopub.status.busy": "2020-10-20T11:49:48.814575Z",
     "iopub.status.idle": "2020-10-20T11:50:50.346091Z",
     "shell.execute_reply": "2020-10-20T11:50:50.345423Z"
    }
   },
   "outputs": [
    {
     "name": "stdout",
     "output_type": "stream",
     "text": [
      "Starting experimental run with id: 15. \n",
      "Starting experimental run with id: 16. \n",
      "Starting experimental run with id: 17. \n"
     ]
    },
    {
     "name": "stdout",
     "output_type": "stream",
     "text": [
      "Starting experimental run with id: 18. \n",
      "Starting experimental run with id: 19. \n"
     ]
    },
    {
     "name": "stdout",
     "output_type": "stream",
     "text": [
      "Starting experimental run with id: 20. \n"
     ]
    },
    {
     "name": "stdout",
     "output_type": "stream",
     "text": [
      "Starting experimental run with id: 21. \n"
     ]
    },
    {
     "name": "stdout",
     "output_type": "stream",
     "text": [
      "Starting experimental run with id: 22. \n"
     ]
    },
    {
     "name": "stdout",
     "output_type": "stream",
     "text": [
      "Starting experimental run with id: 23. \n"
     ]
    },
    {
     "name": "stdout",
     "output_type": "stream",
     "text": [
      "Starting experimental run with id: 24. \n"
     ]
    },
    {
     "name": "stdout",
     "output_type": "stream",
     "text": [
      "Starting experimental run with id: 25. \n"
     ]
    },
    {
     "name": "stdout",
     "output_type": "stream",
     "text": [
      "Starting experimental run with id: 26. \n"
     ]
    },
    {
     "name": "stdout",
     "output_type": "stream",
     "text": [
      "Starting experimental run with id: 27. \n"
     ]
    },
    {
     "name": "stdout",
     "output_type": "stream",
     "text": [
      "Starting experimental run with id: 28. \n"
     ]
    }
   ],
   "source": [
    "sizes = [1,500,1000,2000,3000,4000,5000]\n",
    "nreps = 100\n",
    "t_numeric = []\n",
    "t_numeric_add = []\n",
    "t_numeric_run_ids = []\n",
    "t_array = []\n",
    "t_array_add = []\n",
    "t_array_run_ids = []\n",
    "for size in sizes:\n",
    "    tn, tna, run_id_n =  insert_data('numeric', size, nreps=nreps)\n",
    "    t_numeric.append(tn)\n",
    "    t_numeric_add.append(tna)\n",
    "    t_numeric_run_ids.append(run_id_n)\n",
    "\n",
    "    ta, taa, run_id_a =  insert_data('array', size, nreps=nreps)\n",
    "    t_array.append(ta)\n",
    "    t_array_add.append(taa)\n",
    "    t_array_run_ids.append(run_id_a)"
   ]
  },
  {
   "cell_type": "code",
   "execution_count": 8,
   "metadata": {
    "execution": {
     "iopub.execute_input": "2020-10-20T11:50:50.386896Z",
     "iopub.status.busy": "2020-10-20T11:50:50.378121Z",
     "iopub.status.idle": "2020-10-20T11:50:50.547438Z",
     "shell.execute_reply": "2020-10-20T11:50:50.547974Z"
    },
    "scrolled": true
   },
   "outputs": [
    {
     "data": {
      "image/png": "[encoded data removed]",
      "text/plain": [
       "<Figure size 432x288 with 1 Axes>"
      ]
     },
     "metadata": {
      "needs_background": "light"
     },
     "output_type": "display_data"
    }
   ],
   "source": [
    "fig, ax = plt.subplots(1,1)\n",
    "ax.plot(sizes, t_numeric, 'o-', label='Inserting row-by-row')\n",
    "ax.plot(sizes, t_numeric_add, 'o-', label='Inserting row-by-row: add_result only')\n",
    "ax.plot(sizes, t_array, 'd-', label='Inserting as binary blob')\n",
    "ax.plot(sizes, t_array_add, 'd-', label='Inserting as binary blob: add_result only')\n",
    "ax.legend()\n",
    "ax.set_xlabel('Array length')\n",
    "ax.set_ylabel('Time (s)')\n",
    "fig.tight_layout()"
   ]
  },
  {
   "cell_type": "markdown",
   "metadata": {},
   "source": [
    "However, as we increase the length of the experiment, as seen here by repeating the insertion 100 times, we see a big difference between inserting values of the data row-by-row and inserting it as a binary blob."
   ]
  },
  {
   "cell_type": "markdown",
   "metadata": {},
   "source": [
    "## Loading the data "
   ]
  },
  {
   "cell_type": "code",
   "execution_count": 9,
   "metadata": {
    "execution": {
     "iopub.execute_input": "2020-10-20T11:50:50.550537Z",
     "iopub.status.busy": "2020-10-20T11:50:50.550026Z",
     "iopub.status.idle": "2020-10-20T11:50:50.554229Z",
     "shell.execute_reply": "2020-10-20T11:50:50.553682Z"
    }
   },
   "outputs": [],
   "source": [
    "from qcodes.dataset.data_set import load_by_id\n",
    "from qcodes.dataset.data_export import get_data_by_id"
   ]
  },
  {
   "cell_type": "markdown",
   "metadata": {},
   "source": [
    "As usual you can load the data by using the ``load_by_id`` function but you will notice that the different storage methods\n",
    "are reflected in shape of the data as it is retrieved. "
   ]
  },
  {
   "cell_type": "code",
   "execution_count": 10,
   "metadata": {
    "execution": {
     "iopub.execute_input": "2020-10-20T11:50:50.557904Z",
     "iopub.status.busy": "2020-10-20T11:50:50.557363Z",
     "iopub.status.idle": "2020-10-20T11:50:50.559556Z",
     "shell.execute_reply": "2020-10-20T11:50:50.559117Z"
    }
   },
   "outputs": [],
   "source": [
    "run_id_n = t_numeric_run_ids[0]\n",
    "run_id_a = t_array_run_ids[0]"
   ]
  },
  {
   "cell_type": "code",
   "execution_count": 11,
   "metadata": {
    "execution": {
     "iopub.execute_input": "2020-10-20T11:50:50.562705Z",
     "iopub.status.busy": "2020-10-20T11:50:50.562197Z",
     "iopub.status.idle": "2020-10-20T11:50:50.571338Z",
     "shell.execute_reply": "2020-10-20T11:50:50.570899Z"
    },
    "scrolled": true
   },
   "outputs": [
    {
     "data": {
      "text/plain": [
       "{'x1': {'x1': array([0.42919153, 0.42919153, 0.51993678, 0.51993678, 0.304642  ,\n",
       "         0.304642  , 0.8850148 , 0.8850148 , 0.04195863, 0.04195863,\n",
       "         0.69685178, 0.69685178, 0.32217171, 0.32217171, 0.72348171,\n",
       "         0.72348171, 0.56772329, 0.56772329, 0.90497305, 0.90497305,\n",
       "         0.2102084 , 0.2102084 , 0.66356931, 0.66356931, 0.27742308,\n",
       "         0.27742308, 0.81704058, 0.81704058, 0.78826448, 0.78826448,\n",
       "         0.00533538, 0.00533538, 0.99088936, 0.99088936, 0.40812479,\n",
       "         0.40812479, 0.36652447, 0.36652447, 0.72355995, 0.72355995,\n",
       "         0.284828  , 0.284828  , 0.81908002, 0.81908002, 0.77067856,\n",
       "         0.77067856, 0.08449213, 0.08449213, 0.86298273, 0.86298273,\n",
       "         0.50329732, 0.50329732, 0.13736498, 0.13736498, 0.65640489,\n",
       "         0.65640489, 0.68979941, 0.68979941, 0.04484301, 0.04484301,\n",
       "         0.89784018, 0.89784018, 0.45490438, 0.45490438, 0.67129982,\n",
       "         0.67129982, 0.93421124, 0.93421124, 0.50487948, 0.50487948,\n",
       "         0.38226802, 0.38226802, 0.17077506, 0.17077506, 0.66012071,\n",
       "         0.66012071, 0.2566342 , 0.2566342 , 0.75484478, 0.75484478,\n",
       "         0.08368358, 0.08368358, 0.65750216, 0.65750216, 0.5518938 ,\n",
       "         0.5518938 , 0.18281696, 0.18281696, 0.86637368, 0.86637368,\n",
       "         0.49375499, 0.49375499, 0.30008984, 0.30008984, 0.67377776,\n",
       "         0.67377776, 0.10058527, 0.10058527, 0.24292929, 0.24292929,\n",
       "         0.94882615, 0.94882615, 0.81008931, 0.81008931, 0.94863399,\n",
       "         0.94863399, 0.78007984, 0.78007984, 0.32217955, 0.32217955,\n",
       "         0.15873647, 0.15873647, 0.75342968, 0.75342968, 0.99250533,\n",
       "         0.99250533, 0.10564192, 0.10564192, 0.81513652, 0.81513652,\n",
       "         0.022741  , 0.022741  , 0.04535829, 0.04535829, 0.48214488,\n",
       "         0.48214488, 0.57844767, 0.57844767, 0.79350932, 0.79350932,\n",
       "         0.20269413, 0.20269413, 0.64406562, 0.64406562, 0.07191018,\n",
       "         0.07191018, 0.89059514, 0.89059514, 0.52288877, 0.52288877,\n",
       "         0.91230353, 0.91230353, 0.07285834, 0.07285834, 0.75105184,\n",
       "         0.75105184, 0.05888718, 0.05888718, 0.17597929, 0.17597929,\n",
       "         0.36668146, 0.36668146, 0.23660139, 0.23660139, 0.18250346,\n",
       "         0.18250346, 0.0598613 , 0.0598613 , 0.55186345, 0.55186345,\n",
       "         0.70291294, 0.70291294, 0.34252425, 0.34252425, 0.59369999,\n",
       "         0.59369999, 0.64280936, 0.64280936, 0.72039642, 0.72039642,\n",
       "         0.48029699, 0.48029699, 0.75479345, 0.75479345, 0.92016351,\n",
       "         0.92016351, 0.29924859, 0.29924859, 0.79645639, 0.79645639,\n",
       "         0.33863068, 0.33863068, 0.28052279, 0.28052279, 0.12832175,\n",
       "         0.12832175, 0.17783454, 0.17783454, 0.75921764, 0.75921764,\n",
       "         0.67536649, 0.67536649, 0.87466277, 0.87466277, 0.68136677,\n",
       "         0.68136677, 0.48453794, 0.48453794, 0.73165836, 0.73165836])}}"
      ]
     },
     "execution_count": 1,
     "metadata": {},
     "output_type": "execute_result"
    }
   ],
   "source": [
    "ds = load_by_id(run_id_n)\n",
    "ds.get_parameter_data('x1')"
   ]
  },
  {
   "cell_type": "markdown",
   "metadata": {},
   "source": [
    "And a dataset stored as binary arrays"
   ]
  },
  {
   "cell_type": "code",
   "execution_count": 12,
   "metadata": {
    "execution": {
     "iopub.execute_input": "2020-10-20T11:50:50.575051Z",
     "iopub.status.busy": "2020-10-20T11:50:50.574549Z",
     "iopub.status.idle": "2020-10-20T11:50:50.632292Z",
     "shell.execute_reply": "2020-10-20T11:50:50.633218Z"
    },
    "scrolled": true
   },
   "outputs": [
    {
     "data": {
      "text/plain": [
       "{'x1': {'x1': array([[0.24178622],\n",
       "         [0.24178622],\n",
       "         [0.54168478],\n",
       "         [0.54168478],\n",
       "         [0.96536075],\n",
       "         [0.96536075],\n",
       "         [0.23855747],\n",
       "         [0.23855747],\n",
       "         [0.5563731 ],\n",
       "         [0.5563731 ],\n",
       "         [0.61460112],\n",
       "         [0.61460112],\n",
       "         [0.46026497],\n",
       "         [0.46026497],\n",
       "         [0.01048321],\n",
       "         [0.01048321],\n",
       "         [0.96635168],\n",
       "         [0.96635168],\n",
       "         [0.99930004],\n",
       "         [0.99930004],\n",
       "         [0.01368015],\n",
       "         [0.01368015],\n",
       "         [0.56387127],\n",
       "         [0.56387127],\n",
       "         [0.59604501],\n",
       "         [0.59604501],\n",
       "         [0.3331211 ],\n",
       "         [0.3331211 ],\n",
       "         [0.94924065],\n",
       "         [0.94924065],\n",
       "         [0.96062158],\n",
       "         [0.96062158],\n",
       "         [0.82845712],\n",
       "         [0.82845712],\n",
       "         [0.02070816],\n",
       "         [0.02070816],\n",
       "         [0.67117986],\n",
       "         [0.67117986],\n",
       "         [0.00503976],\n",
       "         [0.00503976],\n",
       "         [0.24206716],\n",
       "         [0.24206716],\n",
       "         [0.03097113],\n",
       "         [0.03097113],\n",
       "         [0.4239672 ],\n",
       "         [0.4239672 ],\n",
       "         [0.3130234 ],\n",
       "         [0.3130234 ],\n",
       "         [0.28061698],\n",
       "         [0.28061698],\n",
       "         [0.64446404],\n",
       "         [0.64446404],\n",
       "         [0.78335418],\n",
       "         [0.78335418],\n",
       "         [0.40529452],\n",
       "         [0.40529452],\n",
       "         [0.48540861],\n",
       "         [0.48540861],\n",
       "         [0.32352072],\n",
       "         [0.32352072],\n",
       "         [0.40427756],\n",
       "         [0.40427756],\n",
       "         [0.49511361],\n",
       "         [0.49511361],\n",
       "         [0.56871671],\n",
       "         [0.56871671],\n",
       "         [0.23674844],\n",
       "         [0.23674844],\n",
       "         [0.83718434],\n",
       "         [0.83718434],\n",
       "         [0.24232491],\n",
       "         [0.24232491],\n",
       "         [0.24012028],\n",
       "         [0.24012028],\n",
       "         [0.38723711],\n",
       "         [0.38723711],\n",
       "         [0.07262789],\n",
       "         [0.07262789],\n",
       "         [0.08050852],\n",
       "         [0.08050852],\n",
       "         [0.41757097],\n",
       "         [0.41757097],\n",
       "         [0.3167272 ],\n",
       "         [0.3167272 ],\n",
       "         [0.20976859],\n",
       "         [0.20976859],\n",
       "         [0.15837589],\n",
       "         [0.15837589],\n",
       "         [0.06581923],\n",
       "         [0.06581923],\n",
       "         [0.64925448],\n",
       "         [0.64925448],\n",
       "         [0.36192811],\n",
       "         [0.36192811],\n",
       "         [0.67915114],\n",
       "         [0.67915114],\n",
       "         [0.6836301 ],\n",
       "         [0.6836301 ],\n",
       "         [0.24197395],\n",
       "         [0.24197395],\n",
       "         [0.40576424],\n",
       "         [0.40576424],\n",
       "         [0.96929731],\n",
       "         [0.96929731],\n",
       "         [0.52453223],\n",
       "         [0.52453223],\n",
       "         [0.10471716],\n",
       "         [0.10471716],\n",
       "         [0.21516624],\n",
       "         [0.21516624],\n",
       "         [0.50676834],\n",
       "         [0.50676834],\n",
       "         [0.58034138],\n",
       "         [0.58034138],\n",
       "         [0.29914599],\n",
       "         [0.29914599],\n",
       "         [0.66368214],\n",
       "         [0.66368214],\n",
       "         [0.97291667],\n",
       "         [0.97291667],\n",
       "         [0.64647761],\n",
       "         [0.64647761],\n",
       "         [0.55139772],\n",
       "         [0.55139772],\n",
       "         [0.49263582],\n",
       "         [0.49263582],\n",
       "         [0.60033079],\n",
       "         [0.60033079],\n",
       "         [0.6723651 ],\n",
       "         [0.6723651 ],\n",
       "         [0.86057963],\n",
       "         [0.86057963],\n",
       "         [0.30088152],\n",
       "         [0.30088152],\n",
       "         [0.79973735],\n",
       "         [0.79973735],\n",
       "         [0.73795059],\n",
       "         [0.73795059],\n",
       "         [0.39016982],\n",
       "         [0.39016982],\n",
       "         [0.98436348],\n",
       "         [0.98436348],\n",
       "         [0.41777736],\n",
       "         [0.41777736],\n",
       "         [0.92724287],\n",
       "         [0.92724287],\n",
       "         [0.16327177],\n",
       "         [0.16327177],\n",
       "         [0.04373179],\n",
       "         [0.04373179],\n",
       "         [0.75126427],\n",
       "         [0.75126427],\n",
       "         [0.70246735],\n",
       "         [0.70246735],\n",
       "         [0.28502255],\n",
       "         [0.28502255],\n",
       "         [0.20602158],\n",
       "         [0.20602158],\n",
       "         [0.38419686],\n",
       "         [0.38419686],\n",
       "         [0.57653455],\n",
       "         [0.57653455],\n",
       "         [0.88536907],\n",
       "         [0.88536907],\n",
       "         [0.20239155],\n",
       "         [0.20239155],\n",
       "         [0.88294111],\n",
       "         [0.88294111],\n",
       "         [0.71646769],\n",
       "         [0.71646769],\n",
       "         [0.96547277],\n",
       "         [0.96547277],\n",
       "         [0.42767642],\n",
       "         [0.42767642],\n",
       "         [0.66642556],\n",
       "         [0.66642556],\n",
       "         [0.24838129],\n",
       "         [0.24838129],\n",
       "         [0.78430536],\n",
       "         [0.78430536],\n",
       "         [0.15982881],\n",
       "         [0.15982881],\n",
       "         [0.84683547],\n",
       "         [0.84683547],\n",
       "         [0.62876437],\n",
       "         [0.62876437],\n",
       "         [0.64142154],\n",
       "         [0.64142154],\n",
       "         [0.42374158],\n",
       "         [0.42374158],\n",
       "         [0.59361999],\n",
       "         [0.59361999],\n",
       "         [0.75412181],\n",
       "         [0.75412181],\n",
       "         [0.40511653],\n",
       "         [0.40511653],\n",
       "         [0.79045843],\n",
       "         [0.79045843],\n",
       "         [0.85714511],\n",
       "         [0.85714511]])}}"
      ]
     },
     "execution_count": 1,
     "metadata": {},
     "output_type": "execute_result"
    }
   ],
   "source": [
    "ds = load_by_id(run_id_a)\n",
    "ds.get_parameter_data('x1')"
   ]
  },
  {
   "cell_type": "code",
   "execution_count": null,
   "metadata": {},
   "outputs": [],
   "source": []
  }
 ],
 "metadata": {
  "kernelspec": {
   "display_name": "Python 3",
   "language": "python",
   "name": "python3"
  },
  "language_info": {
   "codemirror_mode": {
    "name": "ipython",
    "version": 3
   },
   "file_extension": ".py",
   "mimetype": "text/x-python",
   "name": "python",
   "nbconvert_exporter": "python",
   "pygments_lexer": "ipython3",
   "version": "3.7.7"
  },
  "nbsphinx": {
   "timeout": 600
  },
  "toc": {
   "base_numbering": 1,
   "nav_menu": {},
   "number_sections": true,
   "sideBar": true,
   "skip_h1_title": false,
   "title_cell": "Table of Contents",
   "title_sidebar": "Contents",
   "toc_cell": false,
   "toc_position": {},
   "toc_section_display": true,
   "toc_window_display": false
  },
  "varInspector": {
   "cols": {
    "lenName": 16,
    "lenType": 16,
    "lenVar": 40
   },
   "kernels_config": {
    "python": {
     "delete_cmd_postfix": "",
     "delete_cmd_prefix": "del ",
     "library": "var_list.py",
     "varRefreshCmd": "print(var_dic_list())"
    },
    "r": {
     "delete_cmd_postfix": ") ",
     "delete_cmd_prefix": "rm(",
     "library": "var_list.r",
     "varRefreshCmd": "cat(var_dic_list()) "
    }
   },
   "types_to_exclude": [
    "module",
    "function",
    "builtin_function_or_method",
    "instance",
    "_Feature"
   ],
   "window_display": false
  }
 },
 "nbformat": 4,
 "nbformat_minor": 2
}
