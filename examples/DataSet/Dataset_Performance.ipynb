{
 "cells": [
  {
   "cell_type": "markdown",
   "metadata": {},
   "source": [
    "# DataSet Performance\n",
    "\n",
    "This notebook shows the trade-off between inserting data into a database row-by-row and as binary blobs. Inserting the data row-by-row means that we have direct access to all the data and may perform queries directly on the values of the data. On the other hand, as we shall see, this is much slower than inserting the data directly as binary blobs."
   ]
  },
  {
   "cell_type": "markdown",
   "metadata": {},
   "source": [
    "First, we choose a new location for the database to ensure that we don't add a bunch of benchmarking data to the default one."
   ]
  },
  {
   "cell_type": "code",
   "execution_count": 1,
   "metadata": {
    "execution": {
     "iopub.execute_input": "2020-12-07T08:29:44.209279Z",
     "iopub.status.busy": "2020-12-07T08:29:44.208798Z",
     "iopub.status.idle": "2020-12-07T08:29:45.244570Z",
     "shell.execute_reply": "2020-12-07T08:29:45.243829Z"
    }
   },
   "outputs": [
    {
     "name": "stdout",
     "output_type": "stream",
     "text": [
      "Logging hadn't been started.\n",
      "Activating auto-logging. Current session state plus future input saved.\n",
      "Filename       : /home/vsts/.qcodes/logs/command_history.log\n",
      "Mode           : append\n",
      "Output logging : True\n",
      "Raw input log  : False\n",
      "Timestamping   : True\n",
      "State          : active\n"
     ]
    },
    {
     "name": "stdout",
     "output_type": "stream",
     "text": [
      "Qcodes Logfile : /home/vsts/.qcodes/logs/201207-14456-qcodes.log\n"
     ]
    }
   ],
   "source": [
    "import os\n",
    "cwd = os.getcwd()\n",
    "import qcodes as qc\n",
    "qc.config[\"core\"][\"db_location\"] = os.path.join(cwd, 'testing.db')\n"
   ]
  },
  {
   "cell_type": "code",
   "execution_count": 2,
   "metadata": {
    "execution": {
     "iopub.execute_input": "2020-12-07T08:29:45.251322Z",
     "iopub.status.busy": "2020-12-07T08:29:45.250754Z",
     "iopub.status.idle": "2020-12-07T08:29:45.436047Z",
     "shell.execute_reply": "2020-12-07T08:29:45.436839Z"
    }
   },
   "outputs": [],
   "source": [
    "%matplotlib inline\n",
    "import time\n",
    "import matplotlib.pyplot as plt\n",
    "import numpy as np\n",
    "\n",
    "import qcodes as qc\n",
    "from qcodes.instrument.parameter import ManualParameter\n",
    "from qcodes.dataset.experiment_container import (Experiment,\n",
    "                                                 load_last_experiment,\n",
    "                                                 new_experiment)\n",
    "from qcodes.dataset.sqlite.database import initialise_database\n",
    "from qcodes import load_or_create_experiment\n",
    "from qcodes.dataset.measurements import Measurement"
   ]
  },
  {
   "cell_type": "code",
   "execution_count": 3,
   "metadata": {
    "execution": {
     "iopub.execute_input": "2020-12-07T08:29:45.441959Z",
     "iopub.status.busy": "2020-12-07T08:29:45.440788Z",
     "iopub.status.idle": "2020-12-07T08:29:45.575411Z",
     "shell.execute_reply": "2020-12-07T08:29:45.574828Z"
    }
   },
   "outputs": [
    {
     "name": "stdout",
     "output_type": "stream",
     "text": [
      "\r",
      "0it [00:00, ?it/s]"
     ]
    },
    {
     "name": "stdout",
     "output_type": "stream",
     "text": [
      "\r",
      "Upgrading database; v0 -> v1: : 0it [00:00, ?it/s]"
     ]
    },
    {
     "name": "stdout",
     "output_type": "stream",
     "text": [
      "\r",
      "Upgrading database; v0 -> v1: : 0it [00:00, ?it/s]"
     ]
    },
    {
     "name": "stdout",
     "output_type": "stream",
     "text": [
      "\n",
      "\r",
      "  0%|          | 0/1 [00:00<?, ?it/s]"
     ]
    },
    {
     "name": "stdout",
     "output_type": "stream",
     "text": [
      "\r",
      "Upgrading database; v1 -> v2:   0%|          | 0/1 [00:00<?, ?it/s]"
     ]
    },
    {
     "name": "stdout",
     "output_type": "stream",
     "text": [
      "\r",
      "Upgrading database; v1 -> v2: 100%|██████████| 1/1 [00:00<00:00, 595.11it/s]"
     ]
    },
    {
     "name": "stdout",
     "output_type": "stream",
     "text": [
      "\n",
      "\r",
      "0it [00:00, ?it/s]"
     ]
    },
    {
     "name": "stdout",
     "output_type": "stream",
     "text": [
      "\r",
      "Upgrading database; v2 -> v3: : 0it [00:00, ?it/s]"
     ]
    },
    {
     "name": "stdout",
     "output_type": "stream",
     "text": [
      "\r",
      "Upgrading database; v2 -> v3: : 0it [00:00, ?it/s]"
     ]
    },
    {
     "name": "stdout",
     "output_type": "stream",
     "text": [
      "\n",
      "\r",
      "0it [00:00, ?it/s]"
     ]
    },
    {
     "name": "stdout",
     "output_type": "stream",
     "text": [
      "\r",
      "Upgrading database; v3 -> v4: : 0it [00:00, ?it/s]"
     ]
    },
    {
     "name": "stdout",
     "output_type": "stream",
     "text": [
      "\r",
      "Upgrading database; v3 -> v4: : 0it [00:00, ?it/s]"
     ]
    },
    {
     "name": "stdout",
     "output_type": "stream",
     "text": [
      "\n",
      "\r",
      "  0%|          | 0/1 [00:00<?, ?it/s]"
     ]
    },
    {
     "name": "stdout",
     "output_type": "stream",
     "text": [
      "\r",
      "Upgrading database; v4 -> v5:   0%|          | 0/1 [00:00<?, ?it/s]"
     ]
    },
    {
     "name": "stdout",
     "output_type": "stream",
     "text": [
      "\r",
      "Upgrading database; v4 -> v5: 100%|██████████| 1/1 [00:00<00:00, 1072.71it/s]"
     ]
    },
    {
     "name": "stdout",
     "output_type": "stream",
     "text": [
      "\n",
      "\r",
      "0it [00:00, ?it/s]"
     ]
    },
    {
     "name": "stdout",
     "output_type": "stream",
     "text": [
      "\r",
      "Upgrading database; v5 -> v6: : 0it [00:00, ?it/s]"
     ]
    },
    {
     "name": "stdout",
     "output_type": "stream",
     "text": [
      "\r",
      "Upgrading database; v5 -> v6: : 0it [00:00, ?it/s]"
     ]
    },
    {
     "name": "stdout",
     "output_type": "stream",
     "text": [
      "\n",
      "\r",
      "  0%|          | 0/1 [00:00<?, ?it/s]"
     ]
    },
    {
     "name": "stdout",
     "output_type": "stream",
     "text": [
      "\r",
      "Upgrading database; v6 -> v7:   0%|          | 0/1 [00:00<?, ?it/s]"
     ]
    },
    {
     "name": "stdout",
     "output_type": "stream",
     "text": [
      "\r",
      "Upgrading database; v6 -> v7: 100%|██████████| 1/1 [00:00<00:00, 263.78it/s]"
     ]
    },
    {
     "name": "stdout",
     "output_type": "stream",
     "text": [
      "\n",
      "\r",
      "  0%|          | 0/1 [00:00<?, ?it/s]"
     ]
    },
    {
     "name": "stdout",
     "output_type": "stream",
     "text": [
      "\r",
      "Upgrading database; v7 -> v8:   0%|          | 0/1 [00:00<?, ?it/s]"
     ]
    },
    {
     "name": "stdout",
     "output_type": "stream",
     "text": [
      "\r",
      "Upgrading database; v7 -> v8: 100%|██████████| 1/1 [00:00<00:00, 527.32it/s]"
     ]
    },
    {
     "name": "stdout",
     "output_type": "stream",
     "text": [
      "\n",
      "\r",
      "  0%|          | 0/1 [00:00<?, ?it/s]"
     ]
    },
    {
     "name": "stdout",
     "output_type": "stream",
     "text": [
      "\r",
      "Upgrading database; v8 -> v9:   0%|          | 0/1 [00:00<?, ?it/s]"
     ]
    },
    {
     "name": "stdout",
     "output_type": "stream",
     "text": [
      "\r",
      "Upgrading database; v8 -> v9: 100%|██████████| 1/1 [00:00<00:00, 431.91it/s]"
     ]
    },
    {
     "name": "stdout",
     "output_type": "stream",
     "text": [
      "\n"
     ]
    }
   ],
   "source": [
    "initialise_database()\n",
    "exp = load_or_create_experiment(experiment_name='tutorial_exp', sample_name=\"no sample\")"
   ]
  },
  {
   "cell_type": "markdown",
   "metadata": {},
   "source": [
    "Here, we define a simple function to benchmark the time it takes to insert n points with either numeric or array data type.\n",
    "We will compare both the time used to call ``add_result`` and the time used for the full measurement."
   ]
  },
  {
   "cell_type": "code",
   "execution_count": 4,
   "metadata": {
    "execution": {
     "iopub.execute_input": "2020-12-07T08:29:45.584043Z",
     "iopub.status.busy": "2020-12-07T08:29:45.583470Z",
     "iopub.status.idle": "2020-12-07T08:29:45.586955Z",
     "shell.execute_reply": "2020-12-07T08:29:45.586499Z"
    }
   },
   "outputs": [],
   "source": [
    "def insert_data(paramtype, npoints, nreps=1):\n",
    "\n",
    "    meas = Measurement(exp=exp)\n",
    "\n",
    "    x1 = ManualParameter('x1')\n",
    "    x2 = ManualParameter('x2')\n",
    "    x3 = ManualParameter('x3')\n",
    "    y1 = ManualParameter('y1')\n",
    "    y2 = ManualParameter('y2')\n",
    "\n",
    "    meas.register_parameter(x1, paramtype=paramtype)\n",
    "    meas.register_parameter(x2, paramtype=paramtype)\n",
    "    meas.register_parameter(x3, paramtype=paramtype)\n",
    "    meas.register_parameter(y1, setpoints=[x1, x2, x3],\n",
    "                            paramtype=paramtype)\n",
    "    meas.register_parameter(y2, setpoints=[x1, x2, x3],\n",
    "                            paramtype=paramtype)\n",
    "    start = time.perf_counter()\n",
    "    with meas.run() as datasaver:\n",
    "        start_adding = time.perf_counter()\n",
    "        for i in range(nreps):\n",
    "            datasaver.add_result((x1, np.random.rand(npoints)),\n",
    "                                 (x2, np.random.rand(npoints)),\n",
    "                                 (x3, np.random.rand(npoints)),\n",
    "                                 (y1, np.random.rand(npoints)),\n",
    "                                 (y2, np.random.rand(npoints)))\n",
    "        stop_adding = time.perf_counter()\n",
    "        run_id = datasaver.run_id\n",
    "    stop = time.perf_counter()\n",
    "    tot_time = stop - start\n",
    "    add_time = stop_adding - start_adding\n",
    "    return tot_time, add_time, run_id"
   ]
  },
  {
   "cell_type": "markdown",
   "metadata": {},
   "source": [
    "## Comparison between numeric/array data and binary blob"
   ]
  },
  {
   "cell_type": "markdown",
   "metadata": {},
   "source": [
    "### Case1: Short experiment time"
   ]
  },
  {
   "cell_type": "code",
   "execution_count": 5,
   "metadata": {
    "execution": {
     "iopub.execute_input": "2020-12-07T08:29:45.593488Z",
     "iopub.status.busy": "2020-12-07T08:29:45.592959Z",
     "iopub.status.idle": "2020-12-07T08:29:46.528749Z",
     "shell.execute_reply": "2020-12-07T08:29:46.528227Z"
    }
   },
   "outputs": [
    {
     "name": "stdout",
     "output_type": "stream",
     "text": [
      "Starting experimental run with id: 1. \n",
      "Starting experimental run with id: 2. \n",
      "Starting experimental run with id: 3. \n",
      "Starting experimental run with id: 4. \n"
     ]
    },
    {
     "name": "stdout",
     "output_type": "stream",
     "text": [
      "Starting experimental run with id: 5. \n"
     ]
    },
    {
     "name": "stdout",
     "output_type": "stream",
     "text": [
      "Starting experimental run with id: 6. \n",
      "Starting experimental run with id: 7. \n"
     ]
    },
    {
     "name": "stdout",
     "output_type": "stream",
     "text": [
      "Starting experimental run with id: 8. \n"
     ]
    },
    {
     "name": "stdout",
     "output_type": "stream",
     "text": [
      "Starting experimental run with id: 9. \n"
     ]
    },
    {
     "name": "stdout",
     "output_type": "stream",
     "text": [
      "Starting experimental run with id: 10. \n",
      "Starting experimental run with id: 11. \n"
     ]
    },
    {
     "name": "stdout",
     "output_type": "stream",
     "text": [
      "Starting experimental run with id: 12. \n",
      "Starting experimental run with id: 13. \n"
     ]
    },
    {
     "name": "stdout",
     "output_type": "stream",
     "text": [
      "Starting experimental run with id: 14. \n"
     ]
    }
   ],
   "source": [
    "sizes = [1,500,1000,2000,3000,4000,5000]\n",
    "t_numeric = []\n",
    "t_numeric_add = []\n",
    "t_array = []\n",
    "t_array_add = []\n",
    "for size in sizes:\n",
    "    tn, tna, run_id_n =  insert_data('numeric', size)\n",
    "    t_numeric.append(tn)\n",
    "    t_numeric_add.append(tna)\n",
    "\n",
    "    ta, taa, run_id_a =  insert_data('array', size)\n",
    "    t_array.append(ta)\n",
    "    t_array_add.append(taa)"
   ]
  },
  {
   "cell_type": "code",
   "execution_count": 6,
   "metadata": {
    "execution": {
     "iopub.execute_input": "2020-12-07T08:29:46.546391Z",
     "iopub.status.busy": "2020-12-07T08:29:46.545792Z",
     "iopub.status.idle": "2020-12-07T08:29:46.728890Z",
     "shell.execute_reply": "2020-12-07T08:29:46.729651Z"
    }
   },
   "outputs": [
    {
     "data": {
      "image/png": "[encoded data removed]",
      "text/plain": [
       "<Figure size 432x288 with 1 Axes>"
      ]
     },
     "metadata": {
      "needs_background": "light"
     },
     "output_type": "display_data"
    }
   ],
   "source": [
    "fig, ax = plt.subplots(1,1)\n",
    "ax.plot(sizes, t_numeric, 'o-', label='Inserting row-by-row')\n",
    "ax.plot(sizes, t_numeric_add, 'o-', label='Inserting row-by-row: add_result only')\n",
    "ax.plot(sizes, t_array, 'd-', label='Inserting as binary blob')\n",
    "ax.plot(sizes, t_array_add, 'd-', label='Inserting as binary blob: add_result only')\n",
    "ax.legend()\n",
    "ax.set_xlabel('Array length')\n",
    "ax.set_ylabel('Time (s)')\n",
    "fig.tight_layout()"
   ]
  },
  {
   "cell_type": "markdown",
   "metadata": {},
   "source": [
    "As shown in the latter figure, the time to setup and and close the experiment is approximately 0.4 sec. In case of small array sizes, the difference between inserting values of data as arrays and inserting them row-by-row is relatively unimportant. At larger array sizes, i.e. above 10000 points, the cost of writing data as individual datapoints starts to become important.\n"
   ]
  },
  {
   "cell_type": "markdown",
   "metadata": {},
   "source": [
    "### Case2: Long experiment time "
   ]
  },
  {
   "cell_type": "code",
   "execution_count": 7,
   "metadata": {
    "execution": {
     "iopub.execute_input": "2020-12-07T08:29:46.735717Z",
     "iopub.status.busy": "2020-12-07T08:29:46.734335Z",
     "iopub.status.idle": "2020-12-07T08:30:46.862172Z",
     "shell.execute_reply": "2020-12-07T08:30:46.861538Z"
    }
   },
   "outputs": [
    {
     "name": "stdout",
     "output_type": "stream",
     "text": [
      "Starting experimental run with id: 15. \n",
      "Starting experimental run with id: 16. \n",
      "Starting experimental run with id: 17. \n"
     ]
    },
    {
     "name": "stdout",
     "output_type": "stream",
     "text": [
      "Starting experimental run with id: 18. \n",
      "Starting experimental run with id: 19. \n"
     ]
    },
    {
     "name": "stdout",
     "output_type": "stream",
     "text": [
      "Starting experimental run with id: 20. \n"
     ]
    },
    {
     "name": "stdout",
     "output_type": "stream",
     "text": [
      "Starting experimental run with id: 21. \n"
     ]
    },
    {
     "name": "stdout",
     "output_type": "stream",
     "text": [
      "Starting experimental run with id: 22. \n"
     ]
    },
    {
     "name": "stdout",
     "output_type": "stream",
     "text": [
      "Starting experimental run with id: 23. \n"
     ]
    },
    {
     "name": "stdout",
     "output_type": "stream",
     "text": [
      "Starting experimental run with id: 24. \n"
     ]
    },
    {
     "name": "stdout",
     "output_type": "stream",
     "text": [
      "Starting experimental run with id: 25. \n"
     ]
    },
    {
     "name": "stdout",
     "output_type": "stream",
     "text": [
      "Starting experimental run with id: 26. \n"
     ]
    },
    {
     "name": "stdout",
     "output_type": "stream",
     "text": [
      "Starting experimental run with id: 27. \n"
     ]
    },
    {
     "name": "stdout",
     "output_type": "stream",
     "text": [
      "Starting experimental run with id: 28. \n"
     ]
    }
   ],
   "source": [
    "sizes = [1,500,1000,2000,3000,4000,5000]\n",
    "nreps = 100\n",
    "t_numeric = []\n",
    "t_numeric_add = []\n",
    "t_numeric_run_ids = []\n",
    "t_array = []\n",
    "t_array_add = []\n",
    "t_array_run_ids = []\n",
    "for size in sizes:\n",
    "    tn, tna, run_id_n =  insert_data('numeric', size, nreps=nreps)\n",
    "    t_numeric.append(tn)\n",
    "    t_numeric_add.append(tna)\n",
    "    t_numeric_run_ids.append(run_id_n)\n",
    "\n",
    "    ta, taa, run_id_a =  insert_data('array', size, nreps=nreps)\n",
    "    t_array.append(ta)\n",
    "    t_array_add.append(taa)\n",
    "    t_array_run_ids.append(run_id_a)"
   ]
  },
  {
   "cell_type": "code",
   "execution_count": 8,
   "metadata": {
    "execution": {
     "iopub.execute_input": "2020-12-07T08:30:46.903694Z",
     "iopub.status.busy": "2020-12-07T08:30:46.903077Z",
     "iopub.status.idle": "2020-12-07T08:30:47.084969Z",
     "shell.execute_reply": "2020-12-07T08:30:47.084399Z"
    },
    "scrolled": true
   },
   "outputs": [
    {
     "data": {
      "image/png": "[encoded data removed]",
      "text/plain": [
       "<Figure size 432x288 with 1 Axes>"
      ]
     },
     "metadata": {
      "needs_background": "light"
     },
     "output_type": "display_data"
    }
   ],
   "source": [
    "fig, ax = plt.subplots(1,1)\n",
    "ax.plot(sizes, t_numeric, 'o-', label='Inserting row-by-row')\n",
    "ax.plot(sizes, t_numeric_add, 'o-', label='Inserting row-by-row: add_result only')\n",
    "ax.plot(sizes, t_array, 'd-', label='Inserting as binary blob')\n",
    "ax.plot(sizes, t_array_add, 'd-', label='Inserting as binary blob: add_result only')\n",
    "ax.legend()\n",
    "ax.set_xlabel('Array length')\n",
    "ax.set_ylabel('Time (s)')\n",
    "fig.tight_layout()"
   ]
  },
  {
   "cell_type": "markdown",
   "metadata": {},
   "source": [
    "However, as we increase the length of the experiment, as seen here by repeating the insertion 100 times, we see a big difference between inserting values of the data row-by-row and inserting it as a binary blob."
   ]
  },
  {
   "cell_type": "markdown",
   "metadata": {},
   "source": [
    "## Loading the data "
   ]
  },
  {
   "cell_type": "code",
   "execution_count": 9,
   "metadata": {
    "execution": {
     "iopub.execute_input": "2020-12-07T08:30:47.092717Z",
     "iopub.status.busy": "2020-12-07T08:30:47.091094Z",
     "iopub.status.idle": "2020-12-07T08:30:47.095706Z",
     "shell.execute_reply": "2020-12-07T08:30:47.095129Z"
    }
   },
   "outputs": [],
   "source": [
    "from qcodes.dataset.data_set import load_by_id\n",
    "from qcodes.dataset.data_export import get_data_by_id"
   ]
  },
  {
   "cell_type": "markdown",
   "metadata": {},
   "source": [
    "As usual you can load the data by using the ``load_by_id`` function but you will notice that the different storage methods\n",
    "are reflected in shape of the data as it is retrieved. "
   ]
  },
  {
   "cell_type": "code",
   "execution_count": 10,
   "metadata": {
    "execution": {
     "iopub.execute_input": "2020-12-07T08:30:47.099601Z",
     "iopub.status.busy": "2020-12-07T08:30:47.099070Z",
     "iopub.status.idle": "2020-12-07T08:30:47.102890Z",
     "shell.execute_reply": "2020-12-07T08:30:47.102069Z"
    }
   },
   "outputs": [],
   "source": [
    "run_id_n = t_numeric_run_ids[0]\n",
    "run_id_a = t_array_run_ids[0]"
   ]
  },
  {
   "cell_type": "code",
   "execution_count": 11,
   "metadata": {
    "execution": {
     "iopub.execute_input": "2020-12-07T08:30:47.106267Z",
     "iopub.status.busy": "2020-12-07T08:30:47.105349Z",
     "iopub.status.idle": "2020-12-07T08:30:47.115506Z",
     "shell.execute_reply": "2020-12-07T08:30:47.114951Z"
    },
    "scrolled": true
   },
   "outputs": [
    {
     "data": {
      "text/plain": [
       "{'x1': {'x1': array([0.61754744, 0.61754744, 0.11341088, 0.11341088, 0.42105529,\n",
       "         0.42105529, 0.12866969, 0.12866969, 0.36033769, 0.36033769,\n",
       "         0.18279726, 0.18279726, 0.4979681 , 0.4979681 , 0.02316661,\n",
       "         0.02316661, 0.15719581, 0.15719581, 0.36083636, 0.36083636,\n",
       "         0.30782462, 0.30782462, 0.17891512, 0.17891512, 0.83207452,\n",
       "         0.83207452, 0.5707653 , 0.5707653 , 0.77426462, 0.77426462,\n",
       "         0.27071359, 0.27071359, 0.9138986 , 0.9138986 , 0.56993781,\n",
       "         0.56993781, 0.08880044, 0.08880044, 0.2318218 , 0.2318218 ,\n",
       "         0.30559762, 0.30559762, 0.3565013 , 0.3565013 , 0.18910137,\n",
       "         0.18910137, 0.99721493, 0.99721493, 0.96524816, 0.96524816,\n",
       "         0.08770589, 0.08770589, 0.69325057, 0.69325057, 0.10215111,\n",
       "         0.10215111, 0.24852319, 0.24852319, 0.74335407, 0.74335407,\n",
       "         0.88282932, 0.88282932, 0.14157223, 0.14157223, 0.71099717,\n",
       "         0.71099717, 0.08315894, 0.08315894, 0.22624408, 0.22624408,\n",
       "         0.51371893, 0.51371893, 0.24093638, 0.24093638, 0.03565441,\n",
       "         0.03565441, 0.09962917, 0.09962917, 0.51081848, 0.51081848,\n",
       "         0.2796564 , 0.2796564 , 0.72375134, 0.72375134, 0.30501635,\n",
       "         0.30501635, 0.57139662, 0.57139662, 0.19796637, 0.19796637,\n",
       "         0.8709644 , 0.8709644 , 0.32324713, 0.32324713, 0.61640611,\n",
       "         0.61640611, 0.97524088, 0.97524088, 0.72072962, 0.72072962,\n",
       "         0.29019448, 0.29019448, 0.1299472 , 0.1299472 , 0.85886999,\n",
       "         0.85886999, 0.86146597, 0.86146597, 0.60881822, 0.60881822,\n",
       "         0.73040025, 0.73040025, 0.69170406, 0.69170406, 0.97143499,\n",
       "         0.97143499, 0.88335513, 0.88335513, 0.51234957, 0.51234957,\n",
       "         0.46911006, 0.46911006, 0.71122137, 0.71122137, 0.78508784,\n",
       "         0.78508784, 0.16064979, 0.16064979, 0.04581975, 0.04581975,\n",
       "         0.13046452, 0.13046452, 0.29075488, 0.29075488, 0.35337574,\n",
       "         0.35337574, 0.02222378, 0.02222378, 0.25545835, 0.25545835,\n",
       "         0.75695403, 0.75695403, 0.59170553, 0.59170553, 0.46355366,\n",
       "         0.46355366, 0.18746961, 0.18746961, 0.03501294, 0.03501294,\n",
       "         0.45595567, 0.45595567, 0.78180017, 0.78180017, 0.78354257,\n",
       "         0.78354257, 0.55447301, 0.55447301, 0.85097101, 0.85097101,\n",
       "         0.70213697, 0.70213697, 0.14625972, 0.14625972, 0.70129896,\n",
       "         0.70129896, 0.87160972, 0.87160972, 0.94623634, 0.94623634,\n",
       "         0.13492974, 0.13492974, 0.16358892, 0.16358892, 0.26520684,\n",
       "         0.26520684, 0.07707659, 0.07707659, 0.96249185, 0.96249185,\n",
       "         0.43866268, 0.43866268, 0.40545975, 0.40545975, 0.65762966,\n",
       "         0.65762966, 0.92480457, 0.92480457, 0.50082359, 0.50082359,\n",
       "         0.26913077, 0.26913077, 0.13245893, 0.13245893, 0.47883128,\n",
       "         0.47883128, 0.59211773, 0.59211773, 0.63680298, 0.63680298])}}"
      ]
     },
     "execution_count": 1,
     "metadata": {},
     "output_type": "execute_result"
    }
   ],
   "source": [
    "ds = load_by_id(run_id_n)\n",
    "ds.get_parameter_data('x1')"
   ]
  },
  {
   "cell_type": "markdown",
   "metadata": {},
   "source": [
    "And a dataset stored as binary arrays"
   ]
  },
  {
   "cell_type": "code",
   "execution_count": 12,
   "metadata": {
    "execution": {
     "iopub.execute_input": "2020-12-07T08:30:47.119115Z",
     "iopub.status.busy": "2020-12-07T08:30:47.118592Z",
     "iopub.status.idle": "2020-12-07T08:30:47.173986Z",
     "shell.execute_reply": "2020-12-07T08:30:47.174908Z"
    },
    "scrolled": true
   },
   "outputs": [
    {
     "data": {
      "text/plain": [
       "{'x1': {'x1': array([[0.75801087],\n",
       "         [0.75801087],\n",
       "         [0.9208619 ],\n",
       "         [0.9208619 ],\n",
       "         [0.35329142],\n",
       "         [0.35329142],\n",
       "         [0.72977844],\n",
       "         [0.72977844],\n",
       "         [0.66312552],\n",
       "         [0.66312552],\n",
       "         [0.71796466],\n",
       "         [0.71796466],\n",
       "         [0.6507401 ],\n",
       "         [0.6507401 ],\n",
       "         [0.47260912],\n",
       "         [0.47260912],\n",
       "         [0.48126406],\n",
       "         [0.48126406],\n",
       "         [0.51609964],\n",
       "         [0.51609964],\n",
       "         [0.73868294],\n",
       "         [0.73868294],\n",
       "         [0.04457702],\n",
       "         [0.04457702],\n",
       "         [0.07378928],\n",
       "         [0.07378928],\n",
       "         [0.35403405],\n",
       "         [0.35403405],\n",
       "         [0.25519771],\n",
       "         [0.25519771],\n",
       "         [0.92781034],\n",
       "         [0.92781034],\n",
       "         [0.17414353],\n",
       "         [0.17414353],\n",
       "         [0.64462314],\n",
       "         [0.64462314],\n",
       "         [0.66665819],\n",
       "         [0.66665819],\n",
       "         [0.25016233],\n",
       "         [0.25016233],\n",
       "         [0.75165888],\n",
       "         [0.75165888],\n",
       "         [0.51784848],\n",
       "         [0.51784848],\n",
       "         [0.99661507],\n",
       "         [0.99661507],\n",
       "         [0.58501161],\n",
       "         [0.58501161],\n",
       "         [0.42354426],\n",
       "         [0.42354426],\n",
       "         [0.67784927],\n",
       "         [0.67784927],\n",
       "         [0.32844511],\n",
       "         [0.32844511],\n",
       "         [0.6088519 ],\n",
       "         [0.6088519 ],\n",
       "         [0.21992526],\n",
       "         [0.21992526],\n",
       "         [0.61382882],\n",
       "         [0.61382882],\n",
       "         [0.97581591],\n",
       "         [0.97581591],\n",
       "         [0.40877354],\n",
       "         [0.40877354],\n",
       "         [0.35597795],\n",
       "         [0.35597795],\n",
       "         [0.32928266],\n",
       "         [0.32928266],\n",
       "         [0.40825596],\n",
       "         [0.40825596],\n",
       "         [0.98176141],\n",
       "         [0.98176141],\n",
       "         [0.57785699],\n",
       "         [0.57785699],\n",
       "         [0.48127038],\n",
       "         [0.48127038],\n",
       "         [0.17744699],\n",
       "         [0.17744699],\n",
       "         [0.48244349],\n",
       "         [0.48244349],\n",
       "         [0.58598219],\n",
       "         [0.58598219],\n",
       "         [0.76964948],\n",
       "         [0.76964948],\n",
       "         [0.95932013],\n",
       "         [0.95932013],\n",
       "         [0.27932177],\n",
       "         [0.27932177],\n",
       "         [0.66614326],\n",
       "         [0.66614326],\n",
       "         [0.35712137],\n",
       "         [0.35712137],\n",
       "         [0.37702375],\n",
       "         [0.37702375],\n",
       "         [0.59923244],\n",
       "         [0.59923244],\n",
       "         [0.04102332],\n",
       "         [0.04102332],\n",
       "         [0.5046208 ],\n",
       "         [0.5046208 ],\n",
       "         [0.0761905 ],\n",
       "         [0.0761905 ],\n",
       "         [0.93310003],\n",
       "         [0.93310003],\n",
       "         [0.28774357],\n",
       "         [0.28774357],\n",
       "         [0.76546527],\n",
       "         [0.76546527],\n",
       "         [0.1676309 ],\n",
       "         [0.1676309 ],\n",
       "         [0.67364911],\n",
       "         [0.67364911],\n",
       "         [0.97312977],\n",
       "         [0.97312977],\n",
       "         [0.34639753],\n",
       "         [0.34639753],\n",
       "         [0.48686423],\n",
       "         [0.48686423],\n",
       "         [0.50575844],\n",
       "         [0.50575844],\n",
       "         [0.16585348],\n",
       "         [0.16585348],\n",
       "         [0.96615602],\n",
       "         [0.96615602],\n",
       "         [0.90640035],\n",
       "         [0.90640035],\n",
       "         [0.41507712],\n",
       "         [0.41507712],\n",
       "         [0.44045698],\n",
       "         [0.44045698],\n",
       "         [0.24600461],\n",
       "         [0.24600461],\n",
       "         [0.52781703],\n",
       "         [0.52781703],\n",
       "         [0.54600261],\n",
       "         [0.54600261],\n",
       "         [0.74860952],\n",
       "         [0.74860952],\n",
       "         [0.37923989],\n",
       "         [0.37923989],\n",
       "         [0.85070636],\n",
       "         [0.85070636],\n",
       "         [0.13138987],\n",
       "         [0.13138987],\n",
       "         [0.72054238],\n",
       "         [0.72054238],\n",
       "         [0.2088736 ],\n",
       "         [0.2088736 ],\n",
       "         [0.83038889],\n",
       "         [0.83038889],\n",
       "         [0.26007368],\n",
       "         [0.26007368],\n",
       "         [0.86897467],\n",
       "         [0.86897467],\n",
       "         [0.88556707],\n",
       "         [0.88556707],\n",
       "         [0.18458759],\n",
       "         [0.18458759],\n",
       "         [0.866613  ],\n",
       "         [0.866613  ],\n",
       "         [0.93622348],\n",
       "         [0.93622348],\n",
       "         [0.03999392],\n",
       "         [0.03999392],\n",
       "         [0.68068303],\n",
       "         [0.68068303],\n",
       "         [0.28331527],\n",
       "         [0.28331527],\n",
       "         [0.67693253],\n",
       "         [0.67693253],\n",
       "         [0.27742243],\n",
       "         [0.27742243],\n",
       "         [0.2774171 ],\n",
       "         [0.2774171 ],\n",
       "         [0.80599642],\n",
       "         [0.80599642],\n",
       "         [0.73282133],\n",
       "         [0.73282133],\n",
       "         [0.97462668],\n",
       "         [0.97462668],\n",
       "         [0.70362171],\n",
       "         [0.70362171],\n",
       "         [0.43677927],\n",
       "         [0.43677927],\n",
       "         [0.47526966],\n",
       "         [0.47526966],\n",
       "         [0.63611883],\n",
       "         [0.63611883],\n",
       "         [0.62853515],\n",
       "         [0.62853515],\n",
       "         [0.24092831],\n",
       "         [0.24092831],\n",
       "         [0.92272289],\n",
       "         [0.92272289],\n",
       "         [0.27039569],\n",
       "         [0.27039569],\n",
       "         [0.22299795],\n",
       "         [0.22299795],\n",
       "         [0.07896876],\n",
       "         [0.07896876]])}}"
      ]
     },
     "execution_count": 1,
     "metadata": {},
     "output_type": "execute_result"
    }
   ],
   "source": [
    "ds = load_by_id(run_id_a)\n",
    "ds.get_parameter_data('x1')"
   ]
  },
  {
   "cell_type": "code",
   "execution_count": null,
   "metadata": {},
   "outputs": [],
   "source": []
  }
 ],
 "metadata": {
  "kernelspec": {
   "display_name": "Python 3",
   "language": "python",
   "name": "python3"
  },
  "language_info": {
   "codemirror_mode": {
    "name": "ipython",
    "version": 3
   },
   "file_extension": ".py",
   "mimetype": "text/x-python",
   "name": "python",
   "nbconvert_exporter": "python",
   "pygments_lexer": "ipython3",
   "version": "3.7.9"
  },
  "nbsphinx": {
   "timeout": 600
  },
  "toc": {
   "base_numbering": 1,
   "nav_menu": {},
   "number_sections": true,
   "sideBar": true,
   "skip_h1_title": false,
   "title_cell": "Table of Contents",
   "title_sidebar": "Contents",
   "toc_cell": false,
   "toc_position": {},
   "toc_section_display": true,
   "toc_window_display": false
  },
  "varInspector": {
   "cols": {
    "lenName": 16,
    "lenType": 16,
    "lenVar": 40
   },
   "kernels_config": {
    "python": {
     "delete_cmd_postfix": "",
     "delete_cmd_prefix": "del ",
     "library": "var_list.py",
     "varRefreshCmd": "print(var_dic_list())"
    },
    "r": {
     "delete_cmd_postfix": ") ",
     "delete_cmd_prefix": "rm(",
     "library": "var_list.r",
     "varRefreshCmd": "cat(var_dic_list()) "
    }
   },
   "types_to_exclude": [
    "module",
    "function",
    "builtin_function_or_method",
    "instance",
    "_Feature"
   ],
   "window_display": false
  }
 },
 "nbformat": 4,
 "nbformat_minor": 2
}
