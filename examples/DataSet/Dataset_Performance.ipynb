{
 "cells": [
  {
   "cell_type": "markdown",
   "metadata": {},
   "source": [
    "# DataSet Performance\n",
    "\n",
    "This notebook shows the trade-off between inserting data into a database row-by-row and as binary blobs. Inserting the data row-by-row means that we have direct access to all the data and may perform queries directly on the values of the data. On the other hand, as we shall see, this is much slower than inserting the data directly as binary blobs."
   ]
  },
  {
   "cell_type": "markdown",
   "metadata": {},
   "source": [
    "First, we choose a new location for the database to ensure that we don't add a bunch of benchmarking data to the default one."
   ]
  },
  {
   "cell_type": "code",
   "execution_count": 1,
   "metadata": {
    "execution": {
     "iopub.execute_input": "2020-09-29T11:45:21.840796Z",
     "iopub.status.busy": "2020-09-29T11:45:21.840147Z",
     "iopub.status.idle": "2020-09-29T11:45:23.025686Z",
     "shell.execute_reply": "2020-09-29T11:45:23.024627Z"
    }
   },
   "outputs": [
    {
     "name": "stdout",
     "output_type": "stream",
     "text": [
      "Logging hadn't been started.\n",
      "Activating auto-logging. Current session state plus future input saved.\n",
      "Filename       : /home/vsts/.qcodes/logs/command_history.log\n",
      "Mode           : append\n",
      "Output logging : True\n",
      "Raw input log  : False\n",
      "Timestamping   : True\n",
      "State          : active\n"
     ]
    },
    {
     "name": "stdout",
     "output_type": "stream",
     "text": [
      "Qcodes Logfile : /home/vsts/.qcodes/logs/200929-19883-qcodes.log\n"
     ]
    }
   ],
   "source": [
    "import os\n",
    "cwd = os.getcwd()\n",
    "import qcodes as qc\n",
    "qc.config[\"core\"][\"db_location\"] = os.path.join(cwd, 'testing.db')\n"
   ]
  },
  {
   "cell_type": "code",
   "execution_count": 2,
   "metadata": {
    "execution": {
     "iopub.execute_input": "2020-09-29T11:45:23.033392Z",
     "iopub.status.busy": "2020-09-29T11:45:23.032583Z",
     "iopub.status.idle": "2020-09-29T11:45:23.262533Z",
     "shell.execute_reply": "2020-09-29T11:45:23.261923Z"
    }
   },
   "outputs": [],
   "source": [
    "%matplotlib inline\n",
    "import time\n",
    "import matplotlib.pyplot as plt\n",
    "import numpy as np\n",
    "\n",
    "import qcodes as qc\n",
    "from qcodes.instrument.parameter import ManualParameter\n",
    "from qcodes.dataset.experiment_container import (Experiment,\n",
    "                                                 load_last_experiment,\n",
    "                                                 new_experiment)\n",
    "from qcodes.dataset.sqlite.database import initialise_database\n",
    "from qcodes import load_or_create_experiment\n",
    "from qcodes.dataset.measurements import Measurement"
   ]
  },
  {
   "cell_type": "code",
   "execution_count": 3,
   "metadata": {
    "execution": {
     "iopub.execute_input": "2020-09-29T11:45:23.266638Z",
     "iopub.status.busy": "2020-09-29T11:45:23.265882Z",
     "iopub.status.idle": "2020-09-29T11:45:23.394307Z",
     "shell.execute_reply": "2020-09-29T11:45:23.394912Z"
    }
   },
   "outputs": [
    {
     "name": "stdout",
     "output_type": "stream",
     "text": [
      "\r",
      "0it [00:00, ?it/s]"
     ]
    },
    {
     "name": "stdout",
     "output_type": "stream",
     "text": [
      "\r",
      "Upgrading database; v0 -> v1: : 0it [00:00, ?it/s]"
     ]
    },
    {
     "name": "stdout",
     "output_type": "stream",
     "text": [
      "\r",
      "Upgrading database; v0 -> v1: : 0it [00:00, ?it/s]"
     ]
    },
    {
     "name": "stdout",
     "output_type": "stream",
     "text": [
      "\n",
      "\r",
      "  0%|          | 0/1 [00:00<?, ?it/s]"
     ]
    },
    {
     "name": "stdout",
     "output_type": "stream",
     "text": [
      "\r",
      "Upgrading database; v1 -> v2:   0%|          | 0/1 [00:00<?, ?it/s]"
     ]
    },
    {
     "name": "stdout",
     "output_type": "stream",
     "text": [
      "\r",
      "Upgrading database; v1 -> v2: 100%|██████████| 1/1 [00:00<00:00, 241.62it/s]"
     ]
    },
    {
     "name": "stdout",
     "output_type": "stream",
     "text": [
      "\n",
      "\r",
      "0it [00:00, ?it/s]"
     ]
    },
    {
     "name": "stdout",
     "output_type": "stream",
     "text": [
      "\r",
      "Upgrading database; v2 -> v3: : 0it [00:00, ?it/s]"
     ]
    },
    {
     "name": "stdout",
     "output_type": "stream",
     "text": [
      "\r",
      "Upgrading database; v2 -> v3: : 0it [00:00, ?it/s]"
     ]
    },
    {
     "name": "stdout",
     "output_type": "stream",
     "text": [
      "\n",
      "\r",
      "0it [00:00, ?it/s]"
     ]
    },
    {
     "name": "stdout",
     "output_type": "stream",
     "text": [
      "\r",
      "Upgrading database; v3 -> v4: : 0it [00:00, ?it/s]"
     ]
    },
    {
     "name": "stdout",
     "output_type": "stream",
     "text": [
      "\r",
      "Upgrading database; v3 -> v4: : 0it [00:00, ?it/s]"
     ]
    },
    {
     "name": "stdout",
     "output_type": "stream",
     "text": [
      "\n",
      "\r",
      "  0%|          | 0/1 [00:00<?, ?it/s]"
     ]
    },
    {
     "name": "stdout",
     "output_type": "stream",
     "text": [
      "\r",
      "Upgrading database; v4 -> v5:   0%|          | 0/1 [00:00<?, ?it/s]"
     ]
    },
    {
     "name": "stdout",
     "output_type": "stream",
     "text": [
      "\r",
      "Upgrading database; v4 -> v5: 100%|██████████| 1/1 [00:00<00:00, 363.90it/s]"
     ]
    },
    {
     "name": "stdout",
     "output_type": "stream",
     "text": [
      "\n",
      "\r",
      "0it [00:00, ?it/s]"
     ]
    },
    {
     "name": "stdout",
     "output_type": "stream",
     "text": [
      "\r",
      "Upgrading database; v5 -> v6: : 0it [00:00, ?it/s]"
     ]
    },
    {
     "name": "stdout",
     "output_type": "stream",
     "text": [
      "\r",
      "Upgrading database; v5 -> v6: : 0it [00:00, ?it/s]"
     ]
    },
    {
     "name": "stdout",
     "output_type": "stream",
     "text": [
      "\n",
      "\r",
      "  0%|          | 0/1 [00:00<?, ?it/s]"
     ]
    },
    {
     "name": "stdout",
     "output_type": "stream",
     "text": [
      "\r",
      "Upgrading database; v6 -> v7:   0%|          | 0/1 [00:00<?, ?it/s]"
     ]
    },
    {
     "name": "stdout",
     "output_type": "stream",
     "text": [
      "\r",
      "Upgrading database; v6 -> v7: 100%|██████████| 1/1 [00:00<00:00, 267.94it/s]"
     ]
    },
    {
     "name": "stdout",
     "output_type": "stream",
     "text": [
      "\n",
      "\r",
      "  0%|          | 0/1 [00:00<?, ?it/s]"
     ]
    },
    {
     "name": "stdout",
     "output_type": "stream",
     "text": [
      "\r",
      "Upgrading database; v7 -> v8:   0%|          | 0/1 [00:00<?, ?it/s]"
     ]
    },
    {
     "name": "stdout",
     "output_type": "stream",
     "text": [
      "\r",
      "Upgrading database; v7 -> v8: 100%|██████████| 1/1 [00:00<00:00, 295.67it/s]"
     ]
    },
    {
     "name": "stdout",
     "output_type": "stream",
     "text": [
      "\n",
      "\r",
      "  0%|          | 0/1 [00:00<?, ?it/s]"
     ]
    },
    {
     "name": "stdout",
     "output_type": "stream",
     "text": [
      "\r",
      "Upgrading database; v8 -> v9:   0%|          | 0/1 [00:00<?, ?it/s]"
     ]
    },
    {
     "name": "stdout",
     "output_type": "stream",
     "text": [
      "\r",
      "Upgrading database; v8 -> v9: 100%|██████████| 1/1 [00:00<00:00, 795.58it/s]"
     ]
    },
    {
     "name": "stdout",
     "output_type": "stream",
     "text": [
      "\n"
     ]
    }
   ],
   "source": [
    "initialise_database()\n",
    "exp = load_or_create_experiment(experiment_name='tutorial_exp', sample_name=\"no sample\")"
   ]
  },
  {
   "cell_type": "markdown",
   "metadata": {},
   "source": [
    "Here, we define a simple function to benchmark the time it takes to insert n points with either numeric or array data type.\n",
    "We will compare both the time used to call ``add_result`` and the time used for the full measurement."
   ]
  },
  {
   "cell_type": "code",
   "execution_count": 4,
   "metadata": {
    "execution": {
     "iopub.execute_input": "2020-09-29T11:45:23.404607Z",
     "iopub.status.busy": "2020-09-29T11:45:23.403869Z",
     "iopub.status.idle": "2020-09-29T11:45:23.407702Z",
     "shell.execute_reply": "2020-09-29T11:45:23.408224Z"
    }
   },
   "outputs": [],
   "source": [
    "def insert_data(paramtype, npoints, nreps=1):\n",
    "\n",
    "    meas = Measurement(exp=exp)\n",
    "\n",
    "    x1 = ManualParameter('x1')\n",
    "    x2 = ManualParameter('x2')\n",
    "    x3 = ManualParameter('x3')\n",
    "    y1 = ManualParameter('y1')\n",
    "    y2 = ManualParameter('y2')\n",
    "\n",
    "    meas.register_parameter(x1, paramtype=paramtype)\n",
    "    meas.register_parameter(x2, paramtype=paramtype)\n",
    "    meas.register_parameter(x3, paramtype=paramtype)\n",
    "    meas.register_parameter(y1, setpoints=[x1, x2, x3],\n",
    "                            paramtype=paramtype)\n",
    "    meas.register_parameter(y2, setpoints=[x1, x2, x3],\n",
    "                            paramtype=paramtype)\n",
    "    start = time.perf_counter()\n",
    "    with meas.run() as datasaver:\n",
    "        start_adding = time.perf_counter()\n",
    "        for i in range(nreps):\n",
    "            datasaver.add_result((x1, np.random.rand(npoints)),\n",
    "                                 (x2, np.random.rand(npoints)),\n",
    "                                 (x3, np.random.rand(npoints)),\n",
    "                                 (y1, np.random.rand(npoints)),\n",
    "                                 (y2, np.random.rand(npoints)))\n",
    "        stop_adding = time.perf_counter()\n",
    "        run_id = datasaver.run_id\n",
    "    stop = time.perf_counter()\n",
    "    tot_time = stop - start\n",
    "    add_time = stop_adding - start_adding\n",
    "    return tot_time, add_time, run_id"
   ]
  },
  {
   "cell_type": "markdown",
   "metadata": {},
   "source": [
    "## Comparison between numeric/array data and binary blob"
   ]
  },
  {
   "cell_type": "markdown",
   "metadata": {},
   "source": [
    "### Case1: Short experiment time"
   ]
  },
  {
   "cell_type": "code",
   "execution_count": 5,
   "metadata": {
    "execution": {
     "iopub.execute_input": "2020-09-29T11:45:23.415566Z",
     "iopub.status.busy": "2020-09-29T11:45:23.414777Z",
     "iopub.status.idle": "2020-09-29T11:45:24.309343Z",
     "shell.execute_reply": "2020-09-29T11:45:24.308723Z"
    }
   },
   "outputs": [
    {
     "name": "stdout",
     "output_type": "stream",
     "text": [
      "Starting experimental run with id: 1. \n",
      "Starting experimental run with id: 2. \n",
      "Starting experimental run with id: 3. \n",
      "Starting experimental run with id: 4. \n"
     ]
    },
    {
     "name": "stdout",
     "output_type": "stream",
     "text": [
      "Starting experimental run with id: 5. \n"
     ]
    },
    {
     "name": "stdout",
     "output_type": "stream",
     "text": [
      "Starting experimental run with id: 6. \n"
     ]
    },
    {
     "name": "stdout",
     "output_type": "stream",
     "text": [
      "Starting experimental run with id: 7. \n"
     ]
    },
    {
     "name": "stdout",
     "output_type": "stream",
     "text": [
      "Starting experimental run with id: 8. \n",
      "Starting experimental run with id: 9. \n"
     ]
    },
    {
     "name": "stdout",
     "output_type": "stream",
     "text": [
      "Starting experimental run with id: 10. \n",
      "Starting experimental run with id: 11. \n"
     ]
    },
    {
     "name": "stdout",
     "output_type": "stream",
     "text": [
      "Starting experimental run with id: 12. \n"
     ]
    },
    {
     "name": "stdout",
     "output_type": "stream",
     "text": [
      "Starting experimental run with id: 13. \n"
     ]
    },
    {
     "name": "stdout",
     "output_type": "stream",
     "text": [
      "Starting experimental run with id: 14. \n"
     ]
    }
   ],
   "source": [
    "sizes = [1,500,1000,2000,3000,4000,5000]\n",
    "t_numeric = []\n",
    "t_numeric_add = []\n",
    "t_array = []\n",
    "t_array_add = []\n",
    "for size in sizes:\n",
    "    tn, tna, run_id_n =  insert_data('numeric', size)\n",
    "    t_numeric.append(tn)\n",
    "    t_numeric_add.append(tna)\n",
    "\n",
    "    ta, taa, run_id_a =  insert_data('array', size)\n",
    "    t_array.append(ta)\n",
    "    t_array_add.append(taa)"
   ]
  },
  {
   "cell_type": "code",
   "execution_count": 6,
   "metadata": {
    "execution": {
     "iopub.execute_input": "2020-09-29T11:45:24.329603Z",
     "iopub.status.busy": "2020-09-29T11:45:24.328940Z",
     "iopub.status.idle": "2020-09-29T11:45:24.567372Z",
     "shell.execute_reply": "2020-09-29T11:45:24.568287Z"
    }
   },
   "outputs": [
    {
     "data": {
      "image/png": "[encoded data removed]",
      "text/plain": [
       "<Figure size 432x288 with 1 Axes>"
      ]
     },
     "metadata": {
      "needs_background": "light"
     },
     "output_type": "display_data"
    }
   ],
   "source": [
    "fig, ax = plt.subplots(1,1)\n",
    "ax.plot(sizes, t_numeric, 'o-', label='Inserting row-by-row')\n",
    "ax.plot(sizes, t_numeric_add, 'o-', label='Inserting row-by-row: add_result only')\n",
    "ax.plot(sizes, t_array, 'd-', label='Inserting as binary blob')\n",
    "ax.plot(sizes, t_array_add, 'd-', label='Inserting as binary blob: add_result only')\n",
    "ax.legend()\n",
    "ax.set_xlabel('Array length')\n",
    "ax.set_ylabel('Time (s)')\n",
    "fig.tight_layout()"
   ]
  },
  {
   "cell_type": "markdown",
   "metadata": {},
   "source": [
    "As shown in the latter figure, the time to setup and and close the experiment is approximately 0.4 sec. In case of small array sizes, the difference between inserting values of data as arrays and inserting them row-by-row is relatively unimportant. At larger array sizes, i.e. above 10000 points, the cost of writing data as individual datapoints starts to become important.\n"
   ]
  },
  {
   "cell_type": "markdown",
   "metadata": {},
   "source": [
    "### Case2: Long experiment time "
   ]
  },
  {
   "cell_type": "code",
   "execution_count": 7,
   "metadata": {
    "execution": {
     "iopub.execute_input": "2020-09-29T11:45:24.576685Z",
     "iopub.status.busy": "2020-09-29T11:45:24.575861Z",
     "iopub.status.idle": "2020-09-29T11:46:29.443948Z",
     "shell.execute_reply": "2020-09-29T11:46:29.443386Z"
    }
   },
   "outputs": [
    {
     "name": "stdout",
     "output_type": "stream",
     "text": [
      "Starting experimental run with id: 15. \n",
      "Starting experimental run with id: 16. \n",
      "Starting experimental run with id: 17. \n"
     ]
    },
    {
     "name": "stdout",
     "output_type": "stream",
     "text": [
      "Starting experimental run with id: 18. \n",
      "Starting experimental run with id: 19. \n"
     ]
    },
    {
     "name": "stdout",
     "output_type": "stream",
     "text": [
      "Starting experimental run with id: 20. \n"
     ]
    },
    {
     "name": "stdout",
     "output_type": "stream",
     "text": [
      "Starting experimental run with id: 21. \n"
     ]
    },
    {
     "name": "stdout",
     "output_type": "stream",
     "text": [
      "Starting experimental run with id: 22. \n"
     ]
    },
    {
     "name": "stdout",
     "output_type": "stream",
     "text": [
      "Starting experimental run with id: 23. \n"
     ]
    },
    {
     "name": "stdout",
     "output_type": "stream",
     "text": [
      "Starting experimental run with id: 24. \n"
     ]
    },
    {
     "name": "stdout",
     "output_type": "stream",
     "text": [
      "Starting experimental run with id: 25. \n"
     ]
    },
    {
     "name": "stdout",
     "output_type": "stream",
     "text": [
      "Starting experimental run with id: 26. \n"
     ]
    },
    {
     "name": "stdout",
     "output_type": "stream",
     "text": [
      "Starting experimental run with id: 27. \n"
     ]
    },
    {
     "name": "stdout",
     "output_type": "stream",
     "text": [
      "Starting experimental run with id: 28. \n"
     ]
    }
   ],
   "source": [
    "sizes = [1,500,1000,2000,3000,4000,5000]\n",
    "nreps = 100\n",
    "t_numeric = []\n",
    "t_numeric_add = []\n",
    "t_numeric_run_ids = []\n",
    "t_array = []\n",
    "t_array_add = []\n",
    "t_array_run_ids = []\n",
    "for size in sizes:\n",
    "    tn, tna, run_id_n =  insert_data('numeric', size, nreps=nreps)\n",
    "    t_numeric.append(tn)\n",
    "    t_numeric_add.append(tna)\n",
    "    t_numeric_run_ids.append(run_id_n)\n",
    "\n",
    "    ta, taa, run_id_a =  insert_data('array', size, nreps=nreps)\n",
    "    t_array.append(ta)\n",
    "    t_array_add.append(taa)\n",
    "    t_array_run_ids.append(run_id_a)"
   ]
  },
  {
   "cell_type": "code",
   "execution_count": 8,
   "metadata": {
    "execution": {
     "iopub.execute_input": "2020-09-29T11:46:29.467275Z",
     "iopub.status.busy": "2020-09-29T11:46:29.462603Z",
     "iopub.status.idle": "2020-09-29T11:46:29.689580Z",
     "shell.execute_reply": "2020-09-29T11:46:29.688881Z"
    },
    "scrolled": true
   },
   "outputs": [
    {
     "data": {
      "image/png": "[encoded data removed]",
      "text/plain": [
       "<Figure size 432x288 with 1 Axes>"
      ]
     },
     "metadata": {
      "needs_background": "light"
     },
     "output_type": "display_data"
    }
   ],
   "source": [
    "fig, ax = plt.subplots(1,1)\n",
    "ax.plot(sizes, t_numeric, 'o-', label='Inserting row-by-row')\n",
    "ax.plot(sizes, t_numeric_add, 'o-', label='Inserting row-by-row: add_result only')\n",
    "ax.plot(sizes, t_array, 'd-', label='Inserting as binary blob')\n",
    "ax.plot(sizes, t_array_add, 'd-', label='Inserting as binary blob: add_result only')\n",
    "ax.legend()\n",
    "ax.set_xlabel('Array length')\n",
    "ax.set_ylabel('Time (s)')\n",
    "fig.tight_layout()"
   ]
  },
  {
   "cell_type": "markdown",
   "metadata": {},
   "source": [
    "However, as we increase the length of the experiment, as seen here by repeating the insertion 100 times, we see a big difference between inserting values of the data row-by-row and inserting it as a binary blob."
   ]
  },
  {
   "cell_type": "markdown",
   "metadata": {},
   "source": [
    "## Loading the data "
   ]
  },
  {
   "cell_type": "code",
   "execution_count": 9,
   "metadata": {
    "execution": {
     "iopub.execute_input": "2020-09-29T11:46:29.694542Z",
     "iopub.status.busy": "2020-09-29T11:46:29.693922Z",
     "iopub.status.idle": "2020-09-29T11:46:29.697234Z",
     "shell.execute_reply": "2020-09-29T11:46:29.696516Z"
    }
   },
   "outputs": [],
   "source": [
    "from qcodes.dataset.data_set import load_by_id\n",
    "from qcodes.dataset.data_export import get_data_by_id"
   ]
  },
  {
   "cell_type": "markdown",
   "metadata": {},
   "source": [
    "As usual you can load the data by using the ``load_by_id`` function but you will notice that the different storage methods\n",
    "are reflected in shape of the data as it is retrieved. "
   ]
  },
  {
   "cell_type": "code",
   "execution_count": 10,
   "metadata": {
    "execution": {
     "iopub.execute_input": "2020-09-29T11:46:29.703283Z",
     "iopub.status.busy": "2020-09-29T11:46:29.702287Z",
     "iopub.status.idle": "2020-09-29T11:46:29.703962Z",
     "shell.execute_reply": "2020-09-29T11:46:29.704469Z"
    }
   },
   "outputs": [],
   "source": [
    "run_id_n = t_numeric_run_ids[0]\n",
    "run_id_a = t_array_run_ids[0]"
   ]
  },
  {
   "cell_type": "code",
   "execution_count": 11,
   "metadata": {
    "execution": {
     "iopub.execute_input": "2020-09-29T11:46:29.708359Z",
     "iopub.status.busy": "2020-09-29T11:46:29.707626Z",
     "iopub.status.idle": "2020-09-29T11:46:29.719007Z",
     "shell.execute_reply": "2020-09-29T11:46:29.718336Z"
    },
    "scrolled": true
   },
   "outputs": [
    {
     "data": {
      "text/plain": [
       "{'x1': {'x1': array([7.88473072e-01, 7.88473072e-01, 9.85206642e-01, 9.85206642e-01,\n",
       "         1.96759246e-01, 1.96759246e-01, 2.34581113e-01, 2.34581113e-01,\n",
       "         3.15323872e-01, 3.15323872e-01, 8.83753808e-01, 8.83753808e-01,\n",
       "         9.69095891e-01, 9.69095891e-01, 5.80912057e-01, 5.80912057e-01,\n",
       "         4.59944656e-01, 4.59944656e-01, 9.21812980e-01, 9.21812980e-01,\n",
       "         3.97956192e-01, 3.97956192e-01, 5.79162444e-01, 5.79162444e-01,\n",
       "         4.37231307e-01, 4.37231307e-01, 4.17994943e-01, 4.17994943e-01,\n",
       "         3.23651052e-01, 3.23651052e-01, 1.13452103e-01, 1.13452103e-01,\n",
       "         5.72805459e-01, 5.72805459e-01, 8.03339777e-01, 8.03339777e-01,\n",
       "         6.22383442e-01, 6.22383442e-01, 6.87151200e-01, 6.87151200e-01,\n",
       "         9.49834893e-01, 9.49834893e-01, 8.88887309e-01, 8.88887309e-01,\n",
       "         8.05918245e-01, 8.05918245e-01, 8.87169103e-01, 8.87169103e-01,\n",
       "         4.45291814e-01, 4.45291814e-01, 2.72386199e-01, 2.72386199e-01,\n",
       "         5.95656629e-01, 5.95656629e-01, 3.58603671e-01, 3.58603671e-01,\n",
       "         4.70524789e-01, 4.70524789e-01, 4.68005805e-01, 4.68005805e-01,\n",
       "         1.26730566e-01, 1.26730566e-01, 2.59918107e-01, 2.59918107e-01,\n",
       "         8.49442093e-01, 8.49442093e-01, 3.42811921e-01, 3.42811921e-01,\n",
       "         1.37187801e-01, 1.37187801e-01, 1.73040603e-01, 1.73040603e-01,\n",
       "         2.84973744e-01, 2.84973744e-01, 2.45527437e-01, 2.45527437e-01,\n",
       "         6.78074603e-01, 6.78074603e-01, 8.75028790e-01, 8.75028790e-01,\n",
       "         5.04186722e-01, 5.04186722e-01, 1.96532382e-01, 1.96532382e-01,\n",
       "         6.62631156e-01, 6.62631156e-01, 5.46670758e-01, 5.46670758e-01,\n",
       "         3.63832195e-01, 3.63832195e-01, 8.47422966e-01, 8.47422966e-01,\n",
       "         7.10501198e-01, 7.10501198e-01, 5.76436899e-01, 5.76436899e-01,\n",
       "         8.25964315e-01, 8.25964315e-01, 8.20077019e-01, 8.20077019e-01,\n",
       "         2.82625795e-01, 2.82625795e-01, 2.33703011e-01, 2.33703011e-01,\n",
       "         7.29545370e-01, 7.29545370e-01, 7.47310496e-03, 7.47310496e-03,\n",
       "         1.37064368e-02, 1.37064368e-02, 5.96108450e-01, 5.96108450e-01,\n",
       "         4.28149669e-01, 4.28149669e-01, 6.98778816e-01, 6.98778816e-01,\n",
       "         8.90225257e-01, 8.90225257e-01, 4.68698629e-01, 4.68698629e-01,\n",
       "         8.85861251e-01, 8.85861251e-01, 6.76925328e-01, 6.76925328e-01,\n",
       "         3.12379122e-01, 3.12379122e-01, 3.21977914e-01, 3.21977914e-01,\n",
       "         4.77191810e-01, 4.77191810e-01, 6.60718336e-01, 6.60718336e-01,\n",
       "         5.50993807e-01, 5.50993807e-01, 3.90353004e-01, 3.90353004e-01,\n",
       "         3.12569391e-01, 3.12569391e-01, 7.28612354e-01, 7.28612354e-01,\n",
       "         4.76049499e-01, 4.76049499e-01, 1.97624898e-02, 1.97624898e-02,\n",
       "         6.20295961e-01, 6.20295961e-01, 3.24451838e-01, 3.24451838e-01,\n",
       "         9.98007801e-01, 9.98007801e-01, 8.42680268e-01, 8.42680268e-01,\n",
       "         4.97607158e-01, 4.97607158e-01, 5.50442795e-01, 5.50442795e-01,\n",
       "         8.26403177e-01, 8.26403177e-01, 9.39867221e-04, 9.39867221e-04,\n",
       "         8.09890254e-01, 8.09890254e-01, 8.13475185e-01, 8.13475185e-01,\n",
       "         3.90594314e-01, 3.90594314e-01, 1.85891014e-02, 1.85891014e-02,\n",
       "         2.65854429e-01, 2.65854429e-01, 4.93598926e-02, 4.93598926e-02,\n",
       "         8.11007638e-01, 8.11007638e-01, 3.11089682e-01, 3.11089682e-01,\n",
       "         1.05080564e-01, 1.05080564e-01, 9.92838724e-01, 9.92838724e-01,\n",
       "         4.77763444e-01, 4.77763444e-01, 7.52608391e-01, 7.52608391e-01,\n",
       "         6.71720549e-01, 6.71720549e-01, 9.63454399e-01, 9.63454399e-01,\n",
       "         6.76562954e-01, 6.76562954e-01, 1.38894713e-02, 1.38894713e-02,\n",
       "         1.53812349e-01, 1.53812349e-01, 1.76413559e-01, 1.76413559e-01,\n",
       "         6.27387134e-01, 6.27387134e-01, 3.92247969e-01, 3.92247969e-01])}}"
      ]
     },
     "execution_count": 1,
     "metadata": {},
     "output_type": "execute_result"
    }
   ],
   "source": [
    "ds = load_by_id(run_id_n)\n",
    "ds.get_parameter_data('x1')"
   ]
  },
  {
   "cell_type": "markdown",
   "metadata": {},
   "source": [
    "And a dataset stored as binary arrays"
   ]
  },
  {
   "cell_type": "code",
   "execution_count": 12,
   "metadata": {
    "execution": {
     "iopub.execute_input": "2020-09-29T11:46:29.723489Z",
     "iopub.status.busy": "2020-09-29T11:46:29.722504Z",
     "iopub.status.idle": "2020-09-29T11:46:29.789247Z",
     "shell.execute_reply": "2020-09-29T11:46:29.788597Z"
    },
    "scrolled": true
   },
   "outputs": [
    {
     "data": {
      "text/plain": [
       "{'x1': {'x1': array([[0.96399899],\n",
       "         [0.96399899],\n",
       "         [0.81669586],\n",
       "         [0.81669586],\n",
       "         [0.76101934],\n",
       "         [0.76101934],\n",
       "         [0.90329818],\n",
       "         [0.90329818],\n",
       "         [0.69581129],\n",
       "         [0.69581129],\n",
       "         [0.6582947 ],\n",
       "         [0.6582947 ],\n",
       "         [0.70173925],\n",
       "         [0.70173925],\n",
       "         [0.28141442],\n",
       "         [0.28141442],\n",
       "         [0.23934022],\n",
       "         [0.23934022],\n",
       "         [0.13057392],\n",
       "         [0.13057392],\n",
       "         [0.03068077],\n",
       "         [0.03068077],\n",
       "         [0.30587852],\n",
       "         [0.30587852],\n",
       "         [0.99484921],\n",
       "         [0.99484921],\n",
       "         [0.01609945],\n",
       "         [0.01609945],\n",
       "         [0.47079892],\n",
       "         [0.47079892],\n",
       "         [0.30046228],\n",
       "         [0.30046228],\n",
       "         [0.05090074],\n",
       "         [0.05090074],\n",
       "         [0.1248179 ],\n",
       "         [0.1248179 ],\n",
       "         [0.33596128],\n",
       "         [0.33596128],\n",
       "         [0.86445032],\n",
       "         [0.86445032],\n",
       "         [0.99789371],\n",
       "         [0.99789371],\n",
       "         [0.75268267],\n",
       "         [0.75268267],\n",
       "         [0.53598358],\n",
       "         [0.53598358],\n",
       "         [0.57106261],\n",
       "         [0.57106261],\n",
       "         [0.3048272 ],\n",
       "         [0.3048272 ],\n",
       "         [0.02522017],\n",
       "         [0.02522017],\n",
       "         [0.01773332],\n",
       "         [0.01773332],\n",
       "         [0.41981411],\n",
       "         [0.41981411],\n",
       "         [0.54231396],\n",
       "         [0.54231396],\n",
       "         [0.3202438 ],\n",
       "         [0.3202438 ],\n",
       "         [0.54156487],\n",
       "         [0.54156487],\n",
       "         [0.94156085],\n",
       "         [0.94156085],\n",
       "         [0.71257338],\n",
       "         [0.71257338],\n",
       "         [0.18371065],\n",
       "         [0.18371065],\n",
       "         [0.3232529 ],\n",
       "         [0.3232529 ],\n",
       "         [0.2287862 ],\n",
       "         [0.2287862 ],\n",
       "         [0.71491604],\n",
       "         [0.71491604],\n",
       "         [0.90194487],\n",
       "         [0.90194487],\n",
       "         [0.89181025],\n",
       "         [0.89181025],\n",
       "         [0.2883472 ],\n",
       "         [0.2883472 ],\n",
       "         [0.32153424],\n",
       "         [0.32153424],\n",
       "         [0.63281008],\n",
       "         [0.63281008],\n",
       "         [0.40615374],\n",
       "         [0.40615374],\n",
       "         [0.1687579 ],\n",
       "         [0.1687579 ],\n",
       "         [0.65410586],\n",
       "         [0.65410586],\n",
       "         [0.89405082],\n",
       "         [0.89405082],\n",
       "         [0.28423424],\n",
       "         [0.28423424],\n",
       "         [0.05216098],\n",
       "         [0.05216098],\n",
       "         [0.14480391],\n",
       "         [0.14480391],\n",
       "         [0.01566368],\n",
       "         [0.01566368],\n",
       "         [0.71108561],\n",
       "         [0.71108561],\n",
       "         [0.40092394],\n",
       "         [0.40092394],\n",
       "         [0.31225288],\n",
       "         [0.31225288],\n",
       "         [0.64136022],\n",
       "         [0.64136022],\n",
       "         [0.90976986],\n",
       "         [0.90976986],\n",
       "         [0.55270463],\n",
       "         [0.55270463],\n",
       "         [0.29976609],\n",
       "         [0.29976609],\n",
       "         [0.40450718],\n",
       "         [0.40450718],\n",
       "         [0.17463215],\n",
       "         [0.17463215],\n",
       "         [0.58839858],\n",
       "         [0.58839858],\n",
       "         [0.31530227],\n",
       "         [0.31530227],\n",
       "         [0.52560802],\n",
       "         [0.52560802],\n",
       "         [0.69884973],\n",
       "         [0.69884973],\n",
       "         [0.71562783],\n",
       "         [0.71562783],\n",
       "         [0.07802888],\n",
       "         [0.07802888],\n",
       "         [0.27974225],\n",
       "         [0.27974225],\n",
       "         [0.72904459],\n",
       "         [0.72904459],\n",
       "         [0.0390775 ],\n",
       "         [0.0390775 ],\n",
       "         [0.81935016],\n",
       "         [0.81935016],\n",
       "         [0.67982147],\n",
       "         [0.67982147],\n",
       "         [0.67617738],\n",
       "         [0.67617738],\n",
       "         [0.85312387],\n",
       "         [0.85312387],\n",
       "         [0.71059087],\n",
       "         [0.71059087],\n",
       "         [0.49882479],\n",
       "         [0.49882479],\n",
       "         [0.00525268],\n",
       "         [0.00525268],\n",
       "         [0.13000696],\n",
       "         [0.13000696],\n",
       "         [0.27076679],\n",
       "         [0.27076679],\n",
       "         [0.38740433],\n",
       "         [0.38740433],\n",
       "         [0.92035729],\n",
       "         [0.92035729],\n",
       "         [0.28645601],\n",
       "         [0.28645601],\n",
       "         [0.53368057],\n",
       "         [0.53368057],\n",
       "         [0.540237  ],\n",
       "         [0.540237  ],\n",
       "         [0.51276301],\n",
       "         [0.51276301],\n",
       "         [0.41807853],\n",
       "         [0.41807853],\n",
       "         [0.4633989 ],\n",
       "         [0.4633989 ],\n",
       "         [0.93991137],\n",
       "         [0.93991137],\n",
       "         [0.01530558],\n",
       "         [0.01530558],\n",
       "         [0.99615727],\n",
       "         [0.99615727],\n",
       "         [0.60640855],\n",
       "         [0.60640855],\n",
       "         [0.22317022],\n",
       "         [0.22317022],\n",
       "         [0.00435713],\n",
       "         [0.00435713],\n",
       "         [0.60563897],\n",
       "         [0.60563897],\n",
       "         [0.07616041],\n",
       "         [0.07616041],\n",
       "         [0.59992194],\n",
       "         [0.59992194],\n",
       "         [0.03731695],\n",
       "         [0.03731695],\n",
       "         [0.27619994],\n",
       "         [0.27619994],\n",
       "         [0.91444254],\n",
       "         [0.91444254],\n",
       "         [0.20986298],\n",
       "         [0.20986298],\n",
       "         [0.51486701],\n",
       "         [0.51486701],\n",
       "         [0.30881251],\n",
       "         [0.30881251]])}}"
      ]
     },
     "execution_count": 1,
     "metadata": {},
     "output_type": "execute_result"
    }
   ],
   "source": [
    "ds = load_by_id(run_id_a)\n",
    "ds.get_parameter_data('x1')"
   ]
  },
  {
   "cell_type": "code",
   "execution_count": null,
   "metadata": {},
   "outputs": [],
   "source": []
  }
 ],
 "metadata": {
  "kernelspec": {
   "display_name": "Python 3",
   "language": "python",
   "name": "python3"
  },
  "language_info": {
   "codemirror_mode": {
    "name": "ipython",
    "version": 3
   },
   "file_extension": ".py",
   "mimetype": "text/x-python",
   "name": "python",
   "nbconvert_exporter": "python",
   "pygments_lexer": "ipython3",
   "version": "3.7.7"
  },
  "nbsphinx": {
   "timeout": 600
  },
  "toc": {
   "base_numbering": 1,
   "nav_menu": {},
   "number_sections": true,
   "sideBar": true,
   "skip_h1_title": false,
   "title_cell": "Table of Contents",
   "title_sidebar": "Contents",
   "toc_cell": false,
   "toc_position": {},
   "toc_section_display": true,
   "toc_window_display": false
  },
  "varInspector": {
   "cols": {
    "lenName": 16,
    "lenType": 16,
    "lenVar": 40
   },
   "kernels_config": {
    "python": {
     "delete_cmd_postfix": "",
     "delete_cmd_prefix": "del ",
     "library": "var_list.py",
     "varRefreshCmd": "print(var_dic_list())"
    },
    "r": {
     "delete_cmd_postfix": ") ",
     "delete_cmd_prefix": "rm(",
     "library": "var_list.r",
     "varRefreshCmd": "cat(var_dic_list()) "
    }
   },
   "types_to_exclude": [
    "module",
    "function",
    "builtin_function_or_method",
    "instance",
    "_Feature"
   ],
   "window_display": false
  }
 },
 "nbformat": 4,
 "nbformat_minor": 2
}
