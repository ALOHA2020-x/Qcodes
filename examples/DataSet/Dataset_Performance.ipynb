{
 "cells": [
  {
   "cell_type": "markdown",
   "metadata": {},
   "source": [
    "# DataSet Performance\n",
    "\n",
    "This notebook shows the trade-off between inserting data into a database row-by-row and as binary blobs. Inserting the data row-by-row means that we have direct access to all the data and may perform queries directly on the values of the data. On the other hand, as we shall see, this is much slower than inserting the data directly as binary blobs."
   ]
  },
  {
   "cell_type": "markdown",
   "metadata": {},
   "source": [
    "First, we choose a new location for the database to ensure that we don't add a bunch of benchmarking data to the default one."
   ]
  },
  {
   "cell_type": "code",
   "execution_count": 1,
   "metadata": {
    "execution": {
     "iopub.execute_input": "2020-10-16T15:04:20.882666Z",
     "iopub.status.busy": "2020-10-16T15:04:20.882148Z",
     "iopub.status.idle": "2020-10-16T15:04:21.890430Z",
     "shell.execute_reply": "2020-10-16T15:04:21.891197Z"
    }
   },
   "outputs": [
    {
     "name": "stdout",
     "output_type": "stream",
     "text": [
      "Logging hadn't been started.\n",
      "Activating auto-logging. Current session state plus future input saved.\n",
      "Filename       : /home/vsts/.qcodes/logs/command_history.log\n",
      "Mode           : append\n",
      "Output logging : True\n",
      "Raw input log  : False\n",
      "Timestamping   : True\n",
      "State          : active\n"
     ]
    },
    {
     "name": "stdout",
     "output_type": "stream",
     "text": [
      "Qcodes Logfile : /home/vsts/.qcodes/logs/201016-15278-qcodes.log\n"
     ]
    }
   ],
   "source": [
    "import os\n",
    "cwd = os.getcwd()\n",
    "import qcodes as qc\n",
    "qc.config[\"core\"][\"db_location\"] = os.path.join(cwd, 'testing.db')\n"
   ]
  },
  {
   "cell_type": "code",
   "execution_count": 2,
   "metadata": {
    "execution": {
     "iopub.execute_input": "2020-10-16T15:04:21.898286Z",
     "iopub.status.busy": "2020-10-16T15:04:21.897711Z",
     "iopub.status.idle": "2020-10-16T15:04:22.082768Z",
     "shell.execute_reply": "2020-10-16T15:04:22.081691Z"
    }
   },
   "outputs": [],
   "source": [
    "%matplotlib inline\n",
    "import time\n",
    "import matplotlib.pyplot as plt\n",
    "import numpy as np\n",
    "\n",
    "import qcodes as qc\n",
    "from qcodes.instrument.parameter import ManualParameter\n",
    "from qcodes.dataset.experiment_container import (Experiment,\n",
    "                                                 load_last_experiment,\n",
    "                                                 new_experiment)\n",
    "from qcodes.dataset.sqlite.database import initialise_database\n",
    "from qcodes import load_or_create_experiment\n",
    "from qcodes.dataset.measurements import Measurement"
   ]
  },
  {
   "cell_type": "code",
   "execution_count": 3,
   "metadata": {
    "execution": {
     "iopub.execute_input": "2020-10-16T15:04:22.086737Z",
     "iopub.status.busy": "2020-10-16T15:04:22.086079Z",
     "iopub.status.idle": "2020-10-16T15:04:22.198454Z",
     "shell.execute_reply": "2020-10-16T15:04:22.199035Z"
    }
   },
   "outputs": [
    {
     "name": "stdout",
     "output_type": "stream",
     "text": [
      "\r",
      "0it [00:00, ?it/s]"
     ]
    },
    {
     "name": "stdout",
     "output_type": "stream",
     "text": [
      "\r",
      "Upgrading database; v0 -> v1: : 0it [00:00, ?it/s]"
     ]
    },
    {
     "name": "stdout",
     "output_type": "stream",
     "text": [
      "\r",
      "Upgrading database; v0 -> v1: : 0it [00:00, ?it/s]"
     ]
    },
    {
     "name": "stdout",
     "output_type": "stream",
     "text": [
      "\n",
      "\r",
      "  0%|          | 0/1 [00:00<?, ?it/s]"
     ]
    },
    {
     "name": "stdout",
     "output_type": "stream",
     "text": [
      "\r",
      "Upgrading database; v1 -> v2:   0%|          | 0/1 [00:00<?, ?it/s]"
     ]
    },
    {
     "name": "stdout",
     "output_type": "stream",
     "text": [
      "\r",
      "Upgrading database; v1 -> v2: 100%|██████████| 1/1 [00:00<00:00, 448.68it/s]"
     ]
    },
    {
     "name": "stdout",
     "output_type": "stream",
     "text": [
      "\n",
      "\r",
      "0it [00:00, ?it/s]"
     ]
    },
    {
     "name": "stdout",
     "output_type": "stream",
     "text": [
      "\r",
      "Upgrading database; v2 -> v3: : 0it [00:00, ?it/s]"
     ]
    },
    {
     "name": "stdout",
     "output_type": "stream",
     "text": [
      "\r",
      "Upgrading database; v2 -> v3: : 0it [00:00, ?it/s]"
     ]
    },
    {
     "name": "stdout",
     "output_type": "stream",
     "text": [
      "\n",
      "\r",
      "0it [00:00, ?it/s]"
     ]
    },
    {
     "name": "stdout",
     "output_type": "stream",
     "text": [
      "\r",
      "Upgrading database; v3 -> v4: : 0it [00:00, ?it/s]"
     ]
    },
    {
     "name": "stdout",
     "output_type": "stream",
     "text": [
      "\r",
      "Upgrading database; v3 -> v4: : 0it [00:00, ?it/s]"
     ]
    },
    {
     "name": "stdout",
     "output_type": "stream",
     "text": [
      "\n",
      "\r",
      "  0%|          | 0/1 [00:00<?, ?it/s]"
     ]
    },
    {
     "name": "stdout",
     "output_type": "stream",
     "text": [
      "\r",
      "Upgrading database; v4 -> v5:   0%|          | 0/1 [00:00<?, ?it/s]"
     ]
    },
    {
     "name": "stdout",
     "output_type": "stream",
     "text": [
      "\r",
      "Upgrading database; v4 -> v5: 100%|██████████| 1/1 [00:00<00:00, 337.87it/s]"
     ]
    },
    {
     "name": "stdout",
     "output_type": "stream",
     "text": [
      "\n",
      "\r",
      "0it [00:00, ?it/s]"
     ]
    },
    {
     "name": "stdout",
     "output_type": "stream",
     "text": [
      "\r",
      "Upgrading database; v5 -> v6: : 0it [00:00, ?it/s]"
     ]
    },
    {
     "name": "stdout",
     "output_type": "stream",
     "text": [
      "\r",
      "Upgrading database; v5 -> v6: : 0it [00:00, ?it/s]"
     ]
    },
    {
     "name": "stdout",
     "output_type": "stream",
     "text": [
      "\n",
      "\r",
      "  0%|          | 0/1 [00:00<?, ?it/s]"
     ]
    },
    {
     "name": "stdout",
     "output_type": "stream",
     "text": [
      "\r",
      "Upgrading database; v6 -> v7:   0%|          | 0/1 [00:00<?, ?it/s]"
     ]
    },
    {
     "name": "stdout",
     "output_type": "stream",
     "text": [
      "\r",
      "Upgrading database; v6 -> v7: 100%|██████████| 1/1 [00:00<00:00, 358.67it/s]"
     ]
    },
    {
     "name": "stdout",
     "output_type": "stream",
     "text": [
      "\n",
      "\r",
      "  0%|          | 0/1 [00:00<?, ?it/s]"
     ]
    },
    {
     "name": "stdout",
     "output_type": "stream",
     "text": [
      "\r",
      "Upgrading database; v7 -> v8:   0%|          | 0/1 [00:00<?, ?it/s]"
     ]
    },
    {
     "name": "stdout",
     "output_type": "stream",
     "text": [
      "\r",
      "Upgrading database; v7 -> v8: 100%|██████████| 1/1 [00:00<00:00, 935.81it/s]"
     ]
    },
    {
     "name": "stdout",
     "output_type": "stream",
     "text": [
      "\n",
      "\r",
      "  0%|          | 0/1 [00:00<?, ?it/s]"
     ]
    },
    {
     "name": "stdout",
     "output_type": "stream",
     "text": [
      "\r",
      "Upgrading database; v8 -> v9:   0%|          | 0/1 [00:00<?, ?it/s]"
     ]
    },
    {
     "name": "stdout",
     "output_type": "stream",
     "text": [
      "\r",
      "Upgrading database; v8 -> v9: 100%|██████████| 1/1 [00:00<00:00, 476.73it/s]"
     ]
    },
    {
     "name": "stdout",
     "output_type": "stream",
     "text": [
      "\n"
     ]
    }
   ],
   "source": [
    "initialise_database()\n",
    "exp = load_or_create_experiment(experiment_name='tutorial_exp', sample_name=\"no sample\")"
   ]
  },
  {
   "cell_type": "markdown",
   "metadata": {},
   "source": [
    "Here, we define a simple function to benchmark the time it takes to insert n points with either numeric or array data type.\n",
    "We will compare both the time used to call ``add_result`` and the time used for the full measurement."
   ]
  },
  {
   "cell_type": "code",
   "execution_count": 4,
   "metadata": {
    "execution": {
     "iopub.execute_input": "2020-10-16T15:04:22.209736Z",
     "iopub.status.busy": "2020-10-16T15:04:22.208426Z",
     "iopub.status.idle": "2020-10-16T15:04:22.212235Z",
     "shell.execute_reply": "2020-10-16T15:04:22.211676Z"
    }
   },
   "outputs": [],
   "source": [
    "def insert_data(paramtype, npoints, nreps=1):\n",
    "\n",
    "    meas = Measurement(exp=exp)\n",
    "\n",
    "    x1 = ManualParameter('x1')\n",
    "    x2 = ManualParameter('x2')\n",
    "    x3 = ManualParameter('x3')\n",
    "    y1 = ManualParameter('y1')\n",
    "    y2 = ManualParameter('y2')\n",
    "\n",
    "    meas.register_parameter(x1, paramtype=paramtype)\n",
    "    meas.register_parameter(x2, paramtype=paramtype)\n",
    "    meas.register_parameter(x3, paramtype=paramtype)\n",
    "    meas.register_parameter(y1, setpoints=[x1, x2, x3],\n",
    "                            paramtype=paramtype)\n",
    "    meas.register_parameter(y2, setpoints=[x1, x2, x3],\n",
    "                            paramtype=paramtype)\n",
    "    start = time.perf_counter()\n",
    "    with meas.run() as datasaver:\n",
    "        start_adding = time.perf_counter()\n",
    "        for i in range(nreps):\n",
    "            datasaver.add_result((x1, np.random.rand(npoints)),\n",
    "                                 (x2, np.random.rand(npoints)),\n",
    "                                 (x3, np.random.rand(npoints)),\n",
    "                                 (y1, np.random.rand(npoints)),\n",
    "                                 (y2, np.random.rand(npoints)))\n",
    "        stop_adding = time.perf_counter()\n",
    "        run_id = datasaver.run_id\n",
    "    stop = time.perf_counter()\n",
    "    tot_time = stop - start\n",
    "    add_time = stop_adding - start_adding\n",
    "    return tot_time, add_time, run_id"
   ]
  },
  {
   "cell_type": "markdown",
   "metadata": {},
   "source": [
    "## Comparison between numeric/array data and binary blob"
   ]
  },
  {
   "cell_type": "markdown",
   "metadata": {},
   "source": [
    "### Case1: Short experiment time"
   ]
  },
  {
   "cell_type": "code",
   "execution_count": 5,
   "metadata": {
    "execution": {
     "iopub.execute_input": "2020-10-16T15:04:22.218571Z",
     "iopub.status.busy": "2020-10-16T15:04:22.218042Z",
     "iopub.status.idle": "2020-10-16T15:04:22.991649Z",
     "shell.execute_reply": "2020-10-16T15:04:22.992075Z"
    }
   },
   "outputs": [
    {
     "name": "stdout",
     "output_type": "stream",
     "text": [
      "Starting experimental run with id: 1. \n",
      "Starting experimental run with id: 2. \n",
      "Starting experimental run with id: 3. \n",
      "Starting experimental run with id: 4. \n",
      "Starting experimental run with id: 5. \n"
     ]
    },
    {
     "name": "stdout",
     "output_type": "stream",
     "text": [
      "Starting experimental run with id: 6. \n"
     ]
    },
    {
     "name": "stdout",
     "output_type": "stream",
     "text": [
      "Starting experimental run with id: 7. \n"
     ]
    },
    {
     "name": "stdout",
     "output_type": "stream",
     "text": [
      "Starting experimental run with id: 8. \n",
      "Starting experimental run with id: 9. \n"
     ]
    },
    {
     "name": "stdout",
     "output_type": "stream",
     "text": [
      "Starting experimental run with id: 10. \n",
      "Starting experimental run with id: 11. \n"
     ]
    },
    {
     "name": "stdout",
     "output_type": "stream",
     "text": [
      "Starting experimental run with id: 12. \n",
      "Starting experimental run with id: 13. \n"
     ]
    },
    {
     "name": "stdout",
     "output_type": "stream",
     "text": [
      "Starting experimental run with id: 14. \n"
     ]
    }
   ],
   "source": [
    "sizes = [1,500,1000,2000,3000,4000,5000]\n",
    "t_numeric = []\n",
    "t_numeric_add = []\n",
    "t_array = []\n",
    "t_array_add = []\n",
    "for size in sizes:\n",
    "    tn, tna, run_id_n =  insert_data('numeric', size)\n",
    "    t_numeric.append(tn)\n",
    "    t_numeric_add.append(tna)\n",
    "\n",
    "    ta, taa, run_id_a =  insert_data('array', size)\n",
    "    t_array.append(ta)\n",
    "    t_array_add.append(taa)"
   ]
  },
  {
   "cell_type": "code",
   "execution_count": 6,
   "metadata": {
    "execution": {
     "iopub.execute_input": "2020-10-16T15:04:23.021043Z",
     "iopub.status.busy": "2020-10-16T15:04:23.008423Z",
     "iopub.status.idle": "2020-10-16T15:04:23.182184Z",
     "shell.execute_reply": "2020-10-16T15:04:23.182611Z"
    }
   },
   "outputs": [
    {
     "data": {
      "image/png": "[encoded data removed]",
      "text/plain": [
       "<Figure size 432x288 with 1 Axes>"
      ]
     },
     "metadata": {
      "needs_background": "light"
     },
     "output_type": "display_data"
    }
   ],
   "source": [
    "fig, ax = plt.subplots(1,1)\n",
    "ax.plot(sizes, t_numeric, 'o-', label='Inserting row-by-row')\n",
    "ax.plot(sizes, t_numeric_add, 'o-', label='Inserting row-by-row: add_result only')\n",
    "ax.plot(sizes, t_array, 'd-', label='Inserting as binary blob')\n",
    "ax.plot(sizes, t_array_add, 'd-', label='Inserting as binary blob: add_result only')\n",
    "ax.legend()\n",
    "ax.set_xlabel('Array length')\n",
    "ax.set_ylabel('Time (s)')\n",
    "fig.tight_layout()"
   ]
  },
  {
   "cell_type": "markdown",
   "metadata": {},
   "source": [
    "As shown in the latter figure, the time to setup and and close the experiment is approximately 0.4 sec. In case of small array sizes, the difference between inserting values of data as arrays and inserting them row-by-row is relatively unimportant. At larger array sizes, i.e. above 10000 points, the cost of writing data as individual datapoints starts to become important.\n"
   ]
  },
  {
   "cell_type": "markdown",
   "metadata": {},
   "source": [
    "### Case2: Long experiment time "
   ]
  },
  {
   "cell_type": "code",
   "execution_count": 7,
   "metadata": {
    "execution": {
     "iopub.execute_input": "2020-10-16T15:04:23.185150Z",
     "iopub.status.busy": "2020-10-16T15:04:23.184657Z",
     "iopub.status.idle": "2020-10-16T15:05:19.530941Z",
     "shell.execute_reply": "2020-10-16T15:05:19.530436Z"
    }
   },
   "outputs": [
    {
     "name": "stdout",
     "output_type": "stream",
     "text": [
      "Starting experimental run with id: 15. \n",
      "Starting experimental run with id: 16. \n",
      "Starting experimental run with id: 17. \n"
     ]
    },
    {
     "name": "stdout",
     "output_type": "stream",
     "text": [
      "Starting experimental run with id: 18. \n",
      "Starting experimental run with id: 19. \n"
     ]
    },
    {
     "name": "stdout",
     "output_type": "stream",
     "text": [
      "Starting experimental run with id: 20. \n"
     ]
    },
    {
     "name": "stdout",
     "output_type": "stream",
     "text": [
      "Starting experimental run with id: 21. \n"
     ]
    },
    {
     "name": "stdout",
     "output_type": "stream",
     "text": [
      "Starting experimental run with id: 22. \n"
     ]
    },
    {
     "name": "stdout",
     "output_type": "stream",
     "text": [
      "Starting experimental run with id: 23. \n"
     ]
    },
    {
     "name": "stdout",
     "output_type": "stream",
     "text": [
      "Starting experimental run with id: 24. \n"
     ]
    },
    {
     "name": "stdout",
     "output_type": "stream",
     "text": [
      "Starting experimental run with id: 25. \n"
     ]
    },
    {
     "name": "stdout",
     "output_type": "stream",
     "text": [
      "Starting experimental run with id: 26. \n"
     ]
    },
    {
     "name": "stdout",
     "output_type": "stream",
     "text": [
      "Starting experimental run with id: 27. \n"
     ]
    },
    {
     "name": "stdout",
     "output_type": "stream",
     "text": [
      "Starting experimental run with id: 28. \n"
     ]
    }
   ],
   "source": [
    "sizes = [1,500,1000,2000,3000,4000,5000]\n",
    "nreps = 100\n",
    "t_numeric = []\n",
    "t_numeric_add = []\n",
    "t_numeric_run_ids = []\n",
    "t_array = []\n",
    "t_array_add = []\n",
    "t_array_run_ids = []\n",
    "for size in sizes:\n",
    "    tn, tna, run_id_n =  insert_data('numeric', size, nreps=nreps)\n",
    "    t_numeric.append(tn)\n",
    "    t_numeric_add.append(tna)\n",
    "    t_numeric_run_ids.append(run_id_n)\n",
    "\n",
    "    ta, taa, run_id_a =  insert_data('array', size, nreps=nreps)\n",
    "    t_array.append(ta)\n",
    "    t_array_add.append(taa)\n",
    "    t_array_run_ids.append(run_id_a)"
   ]
  },
  {
   "cell_type": "code",
   "execution_count": 8,
   "metadata": {
    "execution": {
     "iopub.execute_input": "2020-10-16T15:05:19.555503Z",
     "iopub.status.busy": "2020-10-16T15:05:19.536220Z",
     "iopub.status.idle": "2020-10-16T15:05:19.726361Z",
     "shell.execute_reply": "2020-10-16T15:05:19.726905Z"
    },
    "scrolled": true
   },
   "outputs": [
    {
     "data": {
      "image/png": "[encoded data removed]",
      "text/plain": [
       "<Figure size 432x288 with 1 Axes>"
      ]
     },
     "metadata": {
      "needs_background": "light"
     },
     "output_type": "display_data"
    }
   ],
   "source": [
    "fig, ax = plt.subplots(1,1)\n",
    "ax.plot(sizes, t_numeric, 'o-', label='Inserting row-by-row')\n",
    "ax.plot(sizes, t_numeric_add, 'o-', label='Inserting row-by-row: add_result only')\n",
    "ax.plot(sizes, t_array, 'd-', label='Inserting as binary blob')\n",
    "ax.plot(sizes, t_array_add, 'd-', label='Inserting as binary blob: add_result only')\n",
    "ax.legend()\n",
    "ax.set_xlabel('Array length')\n",
    "ax.set_ylabel('Time (s)')\n",
    "fig.tight_layout()"
   ]
  },
  {
   "cell_type": "markdown",
   "metadata": {},
   "source": [
    "However, as we increase the length of the experiment, as seen here by repeating the insertion 100 times, we see a big difference between inserting values of the data row-by-row and inserting it as a binary blob."
   ]
  },
  {
   "cell_type": "markdown",
   "metadata": {},
   "source": [
    "## Loading the data "
   ]
  },
  {
   "cell_type": "code",
   "execution_count": 9,
   "metadata": {
    "execution": {
     "iopub.execute_input": "2020-10-16T15:05:19.730796Z",
     "iopub.status.busy": "2020-10-16T15:05:19.729686Z",
     "iopub.status.idle": "2020-10-16T15:05:19.733754Z",
     "shell.execute_reply": "2020-10-16T15:05:19.733212Z"
    }
   },
   "outputs": [],
   "source": [
    "from qcodes.dataset.data_set import load_by_id\n",
    "from qcodes.dataset.data_export import get_data_by_id"
   ]
  },
  {
   "cell_type": "markdown",
   "metadata": {},
   "source": [
    "As usual you can load the data by using the ``load_by_id`` function but you will notice that the different storage methods\n",
    "are reflected in shape of the data as it is retrieved. "
   ]
  },
  {
   "cell_type": "code",
   "execution_count": 10,
   "metadata": {
    "execution": {
     "iopub.execute_input": "2020-10-16T15:05:19.737265Z",
     "iopub.status.busy": "2020-10-16T15:05:19.736756Z",
     "iopub.status.idle": "2020-10-16T15:05:19.738939Z",
     "shell.execute_reply": "2020-10-16T15:05:19.738408Z"
    }
   },
   "outputs": [],
   "source": [
    "run_id_n = t_numeric_run_ids[0]\n",
    "run_id_a = t_array_run_ids[0]"
   ]
  },
  {
   "cell_type": "code",
   "execution_count": 11,
   "metadata": {
    "execution": {
     "iopub.execute_input": "2020-10-16T15:05:19.742047Z",
     "iopub.status.busy": "2020-10-16T15:05:19.741517Z",
     "iopub.status.idle": "2020-10-16T15:05:19.750623Z",
     "shell.execute_reply": "2020-10-16T15:05:19.750075Z"
    },
    "scrolled": true
   },
   "outputs": [
    {
     "data": {
      "text/plain": [
       "{'x1': {'x1': array([0.24106216, 0.24106216, 0.08758759, 0.08758759, 0.20338967,\n",
       "         0.20338967, 0.53048357, 0.53048357, 0.601785  , 0.601785  ,\n",
       "         0.32968456, 0.32968456, 0.83668205, 0.83668205, 0.90310395,\n",
       "         0.90310395, 0.49773644, 0.49773644, 0.73026915, 0.73026915,\n",
       "         0.17622631, 0.17622631, 0.77089719, 0.77089719, 0.1272164 ,\n",
       "         0.1272164 , 0.88023063, 0.88023063, 0.82724703, 0.82724703,\n",
       "         0.32876376, 0.32876376, 0.86852299, 0.86852299, 0.51018337,\n",
       "         0.51018337, 0.78124595, 0.78124595, 0.48727068, 0.48727068,\n",
       "         0.16453823, 0.16453823, 0.34192177, 0.34192177, 0.59913773,\n",
       "         0.59913773, 0.31941317, 0.31941317, 0.11167469, 0.11167469,\n",
       "         0.11638641, 0.11638641, 0.10885947, 0.10885947, 0.86723172,\n",
       "         0.86723172, 0.70124502, 0.70124502, 0.77260065, 0.77260065,\n",
       "         0.8703063 , 0.8703063 , 0.50768767, 0.50768767, 0.61568807,\n",
       "         0.61568807, 0.23524102, 0.23524102, 0.44378157, 0.44378157,\n",
       "         0.53372915, 0.53372915, 0.86394245, 0.86394245, 0.39619923,\n",
       "         0.39619923, 0.45953344, 0.45953344, 0.41542051, 0.41542051,\n",
       "         0.45307763, 0.45307763, 0.77569089, 0.77569089, 0.55243647,\n",
       "         0.55243647, 0.40535615, 0.40535615, 0.20801127, 0.20801127,\n",
       "         0.15562304, 0.15562304, 0.1062143 , 0.1062143 , 0.3350143 ,\n",
       "         0.3350143 , 0.34091155, 0.34091155, 0.51605646, 0.51605646,\n",
       "         0.7291146 , 0.7291146 , 0.36902757, 0.36902757, 0.48441046,\n",
       "         0.48441046, 0.25839096, 0.25839096, 0.13886175, 0.13886175,\n",
       "         0.39786675, 0.39786675, 0.35826295, 0.35826295, 0.51638525,\n",
       "         0.51638525, 0.39092109, 0.39092109, 0.72160852, 0.72160852,\n",
       "         0.08802322, 0.08802322, 0.09013394, 0.09013394, 0.11101   ,\n",
       "         0.11101   , 0.30895755, 0.30895755, 0.35554603, 0.35554603,\n",
       "         0.40649453, 0.40649453, 0.67959969, 0.67959969, 0.42426884,\n",
       "         0.42426884, 0.20763985, 0.20763985, 0.12554723, 0.12554723,\n",
       "         0.48300698, 0.48300698, 0.92453424, 0.92453424, 0.52507034,\n",
       "         0.52507034, 0.75226351, 0.75226351, 0.76280736, 0.76280736,\n",
       "         0.51751176, 0.51751176, 0.85412786, 0.85412786, 0.83114854,\n",
       "         0.83114854, 0.84404347, 0.84404347, 0.64126119, 0.64126119,\n",
       "         0.84172968, 0.84172968, 0.22231633, 0.22231633, 0.76840924,\n",
       "         0.76840924, 0.22746021, 0.22746021, 0.31586436, 0.31586436,\n",
       "         0.25880968, 0.25880968, 0.56031035, 0.56031035, 0.47899006,\n",
       "         0.47899006, 0.5385274 , 0.5385274 , 0.40628895, 0.40628895,\n",
       "         0.34514583, 0.34514583, 0.67760463, 0.67760463, 0.57752911,\n",
       "         0.57752911, 0.88380651, 0.88380651, 0.34223621, 0.34223621,\n",
       "         0.86255278, 0.86255278, 0.74111587, 0.74111587, 0.14451165,\n",
       "         0.14451165, 0.94769192, 0.94769192, 0.73582004, 0.73582004])}}"
      ]
     },
     "execution_count": 1,
     "metadata": {},
     "output_type": "execute_result"
    }
   ],
   "source": [
    "ds = load_by_id(run_id_n)\n",
    "ds.get_parameter_data('x1')"
   ]
  },
  {
   "cell_type": "markdown",
   "metadata": {},
   "source": [
    "And a dataset stored as binary arrays"
   ]
  },
  {
   "cell_type": "code",
   "execution_count": 12,
   "metadata": {
    "execution": {
     "iopub.execute_input": "2020-10-16T15:05:19.753731Z",
     "iopub.status.busy": "2020-10-16T15:05:19.753221Z",
     "iopub.status.idle": "2020-10-16T15:05:19.807470Z",
     "shell.execute_reply": "2020-10-16T15:05:19.808396Z"
    },
    "scrolled": true
   },
   "outputs": [
    {
     "data": {
      "text/plain": [
       "{'x1': {'x1': array([[0.76951301],\n",
       "         [0.76951301],\n",
       "         [0.09319067],\n",
       "         [0.09319067],\n",
       "         [0.89543724],\n",
       "         [0.89543724],\n",
       "         [0.81933935],\n",
       "         [0.81933935],\n",
       "         [0.54219444],\n",
       "         [0.54219444],\n",
       "         [0.53920066],\n",
       "         [0.53920066],\n",
       "         [0.74321048],\n",
       "         [0.74321048],\n",
       "         [0.44047601],\n",
       "         [0.44047601],\n",
       "         [0.99834431],\n",
       "         [0.99834431],\n",
       "         [0.45342686],\n",
       "         [0.45342686],\n",
       "         [0.85932642],\n",
       "         [0.85932642],\n",
       "         [0.6516162 ],\n",
       "         [0.6516162 ],\n",
       "         [0.1206973 ],\n",
       "         [0.1206973 ],\n",
       "         [0.32318988],\n",
       "         [0.32318988],\n",
       "         [0.03803819],\n",
       "         [0.03803819],\n",
       "         [0.63636673],\n",
       "         [0.63636673],\n",
       "         [0.75015222],\n",
       "         [0.75015222],\n",
       "         [0.80143612],\n",
       "         [0.80143612],\n",
       "         [0.57440149],\n",
       "         [0.57440149],\n",
       "         [0.7347992 ],\n",
       "         [0.7347992 ],\n",
       "         [0.09719603],\n",
       "         [0.09719603],\n",
       "         [0.09749389],\n",
       "         [0.09749389],\n",
       "         [0.17043062],\n",
       "         [0.17043062],\n",
       "         [0.84242231],\n",
       "         [0.84242231],\n",
       "         [0.23212224],\n",
       "         [0.23212224],\n",
       "         [0.63878535],\n",
       "         [0.63878535],\n",
       "         [0.54201871],\n",
       "         [0.54201871],\n",
       "         [0.53471805],\n",
       "         [0.53471805],\n",
       "         [0.85714159],\n",
       "         [0.85714159],\n",
       "         [0.8011577 ],\n",
       "         [0.8011577 ],\n",
       "         [0.36075349],\n",
       "         [0.36075349],\n",
       "         [0.63182616],\n",
       "         [0.63182616],\n",
       "         [0.19651375],\n",
       "         [0.19651375],\n",
       "         [0.5814394 ],\n",
       "         [0.5814394 ],\n",
       "         [0.5564525 ],\n",
       "         [0.5564525 ],\n",
       "         [0.87000526],\n",
       "         [0.87000526],\n",
       "         [0.46812549],\n",
       "         [0.46812549],\n",
       "         [0.36581989],\n",
       "         [0.36581989],\n",
       "         [0.48592624],\n",
       "         [0.48592624],\n",
       "         [0.64447049],\n",
       "         [0.64447049],\n",
       "         [0.35607644],\n",
       "         [0.35607644],\n",
       "         [0.50018341],\n",
       "         [0.50018341],\n",
       "         [0.15695279],\n",
       "         [0.15695279],\n",
       "         [0.41200187],\n",
       "         [0.41200187],\n",
       "         [0.90871169],\n",
       "         [0.90871169],\n",
       "         [0.52683829],\n",
       "         [0.52683829],\n",
       "         [0.27952025],\n",
       "         [0.27952025],\n",
       "         [0.65985935],\n",
       "         [0.65985935],\n",
       "         [0.63149192],\n",
       "         [0.63149192],\n",
       "         [0.70866925],\n",
       "         [0.70866925],\n",
       "         [0.6053856 ],\n",
       "         [0.6053856 ],\n",
       "         [0.76684087],\n",
       "         [0.76684087],\n",
       "         [0.23243338],\n",
       "         [0.23243338],\n",
       "         [0.03787713],\n",
       "         [0.03787713],\n",
       "         [0.38109588],\n",
       "         [0.38109588],\n",
       "         [0.27857629],\n",
       "         [0.27857629],\n",
       "         [0.54594545],\n",
       "         [0.54594545],\n",
       "         [0.86297087],\n",
       "         [0.86297087],\n",
       "         [0.79736511],\n",
       "         [0.79736511],\n",
       "         [0.73434286],\n",
       "         [0.73434286],\n",
       "         [0.44218905],\n",
       "         [0.44218905],\n",
       "         [0.80569999],\n",
       "         [0.80569999],\n",
       "         [0.68085543],\n",
       "         [0.68085543],\n",
       "         [0.32035338],\n",
       "         [0.32035338],\n",
       "         [0.48710342],\n",
       "         [0.48710342],\n",
       "         [0.31995613],\n",
       "         [0.31995613],\n",
       "         [0.41716029],\n",
       "         [0.41716029],\n",
       "         [0.36178433],\n",
       "         [0.36178433],\n",
       "         [0.3724473 ],\n",
       "         [0.3724473 ],\n",
       "         [0.50833705],\n",
       "         [0.50833705],\n",
       "         [0.7794052 ],\n",
       "         [0.7794052 ],\n",
       "         [0.98815794],\n",
       "         [0.98815794],\n",
       "         [0.8392244 ],\n",
       "         [0.8392244 ],\n",
       "         [0.99868451],\n",
       "         [0.99868451],\n",
       "         [0.99977542],\n",
       "         [0.99977542],\n",
       "         [0.1611996 ],\n",
       "         [0.1611996 ],\n",
       "         [0.05578838],\n",
       "         [0.05578838],\n",
       "         [0.75616778],\n",
       "         [0.75616778],\n",
       "         [0.38072442],\n",
       "         [0.38072442],\n",
       "         [0.85806974],\n",
       "         [0.85806974],\n",
       "         [0.32748479],\n",
       "         [0.32748479],\n",
       "         [0.9926256 ],\n",
       "         [0.9926256 ],\n",
       "         [0.86260101],\n",
       "         [0.86260101],\n",
       "         [0.64980645],\n",
       "         [0.64980645],\n",
       "         [0.42069066],\n",
       "         [0.42069066],\n",
       "         [0.74721399],\n",
       "         [0.74721399],\n",
       "         [0.11673448],\n",
       "         [0.11673448],\n",
       "         [0.31400386],\n",
       "         [0.31400386],\n",
       "         [0.03475129],\n",
       "         [0.03475129],\n",
       "         [0.79812899],\n",
       "         [0.79812899],\n",
       "         [0.07434032],\n",
       "         [0.07434032],\n",
       "         [0.37798996],\n",
       "         [0.37798996],\n",
       "         [0.16943   ],\n",
       "         [0.16943   ],\n",
       "         [0.90548842],\n",
       "         [0.90548842],\n",
       "         [0.18977953],\n",
       "         [0.18977953],\n",
       "         [0.97940958],\n",
       "         [0.97940958],\n",
       "         [0.18871314],\n",
       "         [0.18871314],\n",
       "         [0.7120929 ],\n",
       "         [0.7120929 ],\n",
       "         [0.97813234],\n",
       "         [0.97813234],\n",
       "         [0.97360605],\n",
       "         [0.97360605]])}}"
      ]
     },
     "execution_count": 1,
     "metadata": {},
     "output_type": "execute_result"
    }
   ],
   "source": [
    "ds = load_by_id(run_id_a)\n",
    "ds.get_parameter_data('x1')"
   ]
  },
  {
   "cell_type": "code",
   "execution_count": null,
   "metadata": {},
   "outputs": [],
   "source": []
  }
 ],
 "metadata": {
  "kernelspec": {
   "display_name": "Python 3",
   "language": "python",
   "name": "python3"
  },
  "language_info": {
   "codemirror_mode": {
    "name": "ipython",
    "version": 3
   },
   "file_extension": ".py",
   "mimetype": "text/x-python",
   "name": "python",
   "nbconvert_exporter": "python",
   "pygments_lexer": "ipython3",
   "version": "3.7.7"
  },
  "nbsphinx": {
   "timeout": 600
  },
  "toc": {
   "base_numbering": 1,
   "nav_menu": {},
   "number_sections": true,
   "sideBar": true,
   "skip_h1_title": false,
   "title_cell": "Table of Contents",
   "title_sidebar": "Contents",
   "toc_cell": false,
   "toc_position": {},
   "toc_section_display": true,
   "toc_window_display": false
  },
  "varInspector": {
   "cols": {
    "lenName": 16,
    "lenType": 16,
    "lenVar": 40
   },
   "kernels_config": {
    "python": {
     "delete_cmd_postfix": "",
     "delete_cmd_prefix": "del ",
     "library": "var_list.py",
     "varRefreshCmd": "print(var_dic_list())"
    },
    "r": {
     "delete_cmd_postfix": ") ",
     "delete_cmd_prefix": "rm(",
     "library": "var_list.r",
     "varRefreshCmd": "cat(var_dic_list()) "
    }
   },
   "types_to_exclude": [
    "module",
    "function",
    "builtin_function_or_method",
    "instance",
    "_Feature"
   ],
   "window_display": false
  }
 },
 "nbformat": 4,
 "nbformat_minor": 2
}
