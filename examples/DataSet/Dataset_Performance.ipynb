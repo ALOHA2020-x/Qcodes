{
 "cells": [
  {
   "cell_type": "markdown",
   "metadata": {},
   "source": [
    "# DataSet Performance\n",
    "\n",
    "This notebook shows the trade-off between inserting data into a database row-by-row and as binary blobs. Inserting the data row-by-row means that we have direct access to all the data and may perform queries directly on the values of the data. On the other hand, as we shall see, this is much slower than inserting the data directly as binary blobs."
   ]
  },
  {
   "cell_type": "markdown",
   "metadata": {},
   "source": [
    "First, we choose a new location for the database to ensure that we don't add a bunch of benchmarking data to the default one."
   ]
  },
  {
   "cell_type": "code",
   "execution_count": 1,
   "metadata": {
    "execution": {
     "iopub.execute_input": "2021-04-22T07:39:13.998882Z",
     "iopub.status.busy": "2021-04-22T07:39:13.997733Z",
     "iopub.status.idle": "2021-04-22T07:39:15.503079Z",
     "shell.execute_reply": "2021-04-22T07:39:15.503612Z"
    }
   },
   "outputs": [
    {
     "name": "stdout",
     "output_type": "stream",
     "text": [
      "Logging hadn't been started.\n",
      "Activating auto-logging. Current session state plus future input saved.\n",
      "Filename       : /home/runner/.qcodes/logs/command_history.log\n",
      "Mode           : append\n",
      "Output logging : True\n",
      "Raw input log  : False\n",
      "Timestamping   : True\n",
      "State          : active\n"
     ]
    },
    {
     "name": "stdout",
     "output_type": "stream",
     "text": [
      "Qcodes Logfile : /home/runner/.qcodes/logs/210422-4645-qcodes.log\n"
     ]
    }
   ],
   "source": [
    "import os\n",
    "cwd = os.getcwd()\n",
    "import qcodes as qc\n",
    "qc.config[\"core\"][\"db_location\"] = os.path.join(cwd, 'testing.db')\n"
   ]
  },
  {
   "cell_type": "code",
   "execution_count": 2,
   "metadata": {
    "execution": {
     "iopub.execute_input": "2021-04-22T07:39:15.510497Z",
     "iopub.status.busy": "2021-04-22T07:39:15.509193Z",
     "iopub.status.idle": "2021-04-22T07:39:15.759206Z",
     "shell.execute_reply": "2021-04-22T07:39:15.759798Z"
    }
   },
   "outputs": [],
   "source": [
    "%matplotlib inline\n",
    "import time\n",
    "import matplotlib.pyplot as plt\n",
    "import numpy as np\n",
    "\n",
    "import qcodes as qc\n",
    "from qcodes.instrument.parameter import ManualParameter\n",
    "from qcodes.dataset.experiment_container import (Experiment,\n",
    "                                                 load_last_experiment,\n",
    "                                                 new_experiment)\n",
    "from qcodes.dataset.sqlite.database import initialise_database\n",
    "from qcodes import load_or_create_experiment\n",
    "from qcodes.dataset.measurements import Measurement"
   ]
  },
  {
   "cell_type": "code",
   "execution_count": 3,
   "metadata": {
    "execution": {
     "iopub.execute_input": "2021-04-22T07:39:15.766648Z",
     "iopub.status.busy": "2021-04-22T07:39:15.765651Z",
     "iopub.status.idle": "2021-04-22T07:39:15.908690Z",
     "shell.execute_reply": "2021-04-22T07:39:15.907975Z"
    }
   },
   "outputs": [
    {
     "name": "stdout",
     "output_type": "stream",
     "text": [
      "\r",
      "0it [00:00, ?it/s]"
     ]
    },
    {
     "name": "stdout",
     "output_type": "stream",
     "text": [
      "\r",
      "Upgrading database; v0 -> v1: : 0it [00:00, ?it/s]"
     ]
    },
    {
     "name": "stdout",
     "output_type": "stream",
     "text": [
      "\r",
      "Upgrading database; v0 -> v1: : 0it [00:00, ?it/s]"
     ]
    },
    {
     "name": "stdout",
     "output_type": "stream",
     "text": [
      "\n",
      "\r",
      "  0%|          | 0/1 [00:00<?, ?it/s]"
     ]
    },
    {
     "name": "stdout",
     "output_type": "stream",
     "text": [
      "\r",
      "Upgrading database; v1 -> v2:   0%|          | 0/1 [00:00<?, ?it/s]"
     ]
    },
    {
     "name": "stdout",
     "output_type": "stream",
     "text": [
      "\r",
      "Upgrading database; v1 -> v2: 100%|██████████| 1/1 [00:00<00:00, 857.91it/s]"
     ]
    },
    {
     "name": "stdout",
     "output_type": "stream",
     "text": [
      "\n",
      "\r",
      "0it [00:00, ?it/s]"
     ]
    },
    {
     "name": "stdout",
     "output_type": "stream",
     "text": [
      "\r",
      "Upgrading database; v2 -> v3: : 0it [00:00, ?it/s]"
     ]
    },
    {
     "name": "stdout",
     "output_type": "stream",
     "text": [
      "\r",
      "Upgrading database; v2 -> v3: : 0it [00:00, ?it/s]"
     ]
    },
    {
     "name": "stdout",
     "output_type": "stream",
     "text": [
      "\n",
      "\r",
      "0it [00:00, ?it/s]"
     ]
    },
    {
     "name": "stdout",
     "output_type": "stream",
     "text": [
      "\r",
      "Upgrading database; v3 -> v4: : 0it [00:00, ?it/s]"
     ]
    },
    {
     "name": "stdout",
     "output_type": "stream",
     "text": [
      "\r",
      "Upgrading database; v3 -> v4: : 0it [00:00, ?it/s]"
     ]
    },
    {
     "name": "stdout",
     "output_type": "stream",
     "text": [
      "\n",
      "\r",
      "  0%|          | 0/1 [00:00<?, ?it/s]"
     ]
    },
    {
     "name": "stdout",
     "output_type": "stream",
     "text": [
      "\r",
      "Upgrading database; v4 -> v5:   0%|          | 0/1 [00:00<?, ?it/s]"
     ]
    },
    {
     "name": "stdout",
     "output_type": "stream",
     "text": [
      "\r",
      "Upgrading database; v4 -> v5: 100%|██████████| 1/1 [00:00<00:00, 653.22it/s]"
     ]
    },
    {
     "name": "stdout",
     "output_type": "stream",
     "text": [
      "\n",
      "\r",
      "0it [00:00, ?it/s]"
     ]
    },
    {
     "name": "stdout",
     "output_type": "stream",
     "text": [
      "\r",
      "Upgrading database; v5 -> v6: : 0it [00:00, ?it/s]"
     ]
    },
    {
     "name": "stdout",
     "output_type": "stream",
     "text": [
      "\r",
      "Upgrading database; v5 -> v6: : 0it [00:00, ?it/s]"
     ]
    },
    {
     "name": "stdout",
     "output_type": "stream",
     "text": [
      "\n",
      "\r",
      "  0%|          | 0/1 [00:00<?, ?it/s]"
     ]
    },
    {
     "name": "stdout",
     "output_type": "stream",
     "text": [
      "\r",
      "Upgrading database; v6 -> v7:   0%|          | 0/1 [00:00<?, ?it/s]"
     ]
    },
    {
     "name": "stdout",
     "output_type": "stream",
     "text": [
      "\r",
      "Upgrading database; v6 -> v7: 100%|██████████| 1/1 [00:00<00:00, 355.33it/s]"
     ]
    },
    {
     "name": "stdout",
     "output_type": "stream",
     "text": [
      "\n",
      "\r",
      "  0%|          | 0/1 [00:00<?, ?it/s]"
     ]
    },
    {
     "name": "stdout",
     "output_type": "stream",
     "text": [
      "\r",
      "Upgrading database; v7 -> v8:   0%|          | 0/1 [00:00<?, ?it/s]"
     ]
    },
    {
     "name": "stdout",
     "output_type": "stream",
     "text": [
      "\r",
      "Upgrading database; v7 -> v8: 100%|██████████| 1/1 [00:00<00:00, 535.47it/s]"
     ]
    },
    {
     "name": "stdout",
     "output_type": "stream",
     "text": [
      "\n",
      "\r",
      "  0%|          | 0/1 [00:00<?, ?it/s]"
     ]
    },
    {
     "name": "stdout",
     "output_type": "stream",
     "text": [
      "\r",
      "Upgrading database; v8 -> v9:   0%|          | 0/1 [00:00<?, ?it/s]"
     ]
    },
    {
     "name": "stdout",
     "output_type": "stream",
     "text": [
      "\r",
      "Upgrading database; v8 -> v9: 100%|██████████| 1/1 [00:00<00:00, 573.78it/s]"
     ]
    },
    {
     "name": "stdout",
     "output_type": "stream",
     "text": [
      "\n"
     ]
    }
   ],
   "source": [
    "initialise_database()\n",
    "exp = load_or_create_experiment(experiment_name='tutorial_exp', sample_name=\"no sample\")"
   ]
  },
  {
   "cell_type": "markdown",
   "metadata": {},
   "source": [
    "Here, we define a simple function to benchmark the time it takes to insert n points with either numeric or array data type.\n",
    "We will compare both the time used to call ``add_result`` and the time used for the full measurement."
   ]
  },
  {
   "cell_type": "code",
   "execution_count": 4,
   "metadata": {
    "execution": {
     "iopub.execute_input": "2021-04-22T07:39:15.919555Z",
     "iopub.status.busy": "2021-04-22T07:39:15.916934Z",
     "iopub.status.idle": "2021-04-22T07:39:15.922281Z",
     "shell.execute_reply": "2021-04-22T07:39:15.921674Z"
    }
   },
   "outputs": [],
   "source": [
    "def insert_data(paramtype, npoints, nreps=1):\n",
    "\n",
    "    meas = Measurement(exp=exp)\n",
    "\n",
    "    x1 = ManualParameter('x1')\n",
    "    x2 = ManualParameter('x2')\n",
    "    x3 = ManualParameter('x3')\n",
    "    y1 = ManualParameter('y1')\n",
    "    y2 = ManualParameter('y2')\n",
    "\n",
    "    meas.register_parameter(x1, paramtype=paramtype)\n",
    "    meas.register_parameter(x2, paramtype=paramtype)\n",
    "    meas.register_parameter(x3, paramtype=paramtype)\n",
    "    meas.register_parameter(y1, setpoints=[x1, x2, x3],\n",
    "                            paramtype=paramtype)\n",
    "    meas.register_parameter(y2, setpoints=[x1, x2, x3],\n",
    "                            paramtype=paramtype)\n",
    "    start = time.perf_counter()\n",
    "    with meas.run() as datasaver:\n",
    "        start_adding = time.perf_counter()\n",
    "        for i in range(nreps):\n",
    "            datasaver.add_result((x1, np.random.rand(npoints)),\n",
    "                                 (x2, np.random.rand(npoints)),\n",
    "                                 (x3, np.random.rand(npoints)),\n",
    "                                 (y1, np.random.rand(npoints)),\n",
    "                                 (y2, np.random.rand(npoints)))\n",
    "        stop_adding = time.perf_counter()\n",
    "        run_id = datasaver.run_id\n",
    "    stop = time.perf_counter()\n",
    "    tot_time = stop - start\n",
    "    add_time = stop_adding - start_adding\n",
    "    return tot_time, add_time, run_id"
   ]
  },
  {
   "cell_type": "markdown",
   "metadata": {},
   "source": [
    "## Comparison between numeric/array data and binary blob"
   ]
  },
  {
   "cell_type": "markdown",
   "metadata": {},
   "source": [
    "### Case1: Short experiment time"
   ]
  },
  {
   "cell_type": "code",
   "execution_count": 5,
   "metadata": {
    "execution": {
     "iopub.execute_input": "2021-04-22T07:39:15.931550Z",
     "iopub.status.busy": "2021-04-22T07:39:15.930850Z",
     "iopub.status.idle": "2021-04-22T07:39:16.862240Z",
     "shell.execute_reply": "2021-04-22T07:39:16.863128Z"
    }
   },
   "outputs": [
    {
     "name": "stdout",
     "output_type": "stream",
     "text": [
      "Starting experimental run with id: 1. \n",
      "Starting experimental run with id: 2. \n",
      "Starting experimental run with id: 3. \n",
      "Starting experimental run with id: 4. \n"
     ]
    },
    {
     "name": "stdout",
     "output_type": "stream",
     "text": [
      "Starting experimental run with id: 5. \n"
     ]
    },
    {
     "name": "stdout",
     "output_type": "stream",
     "text": [
      "Starting experimental run with id: 6. \n",
      "Starting experimental run with id: 7. \n"
     ]
    },
    {
     "name": "stdout",
     "output_type": "stream",
     "text": [
      "Starting experimental run with id: 8. \n"
     ]
    },
    {
     "name": "stdout",
     "output_type": "stream",
     "text": [
      "Starting experimental run with id: 9. \n"
     ]
    },
    {
     "name": "stdout",
     "output_type": "stream",
     "text": [
      "Starting experimental run with id: 10. \n"
     ]
    },
    {
     "name": "stdout",
     "output_type": "stream",
     "text": [
      "Starting experimental run with id: 11. \n"
     ]
    },
    {
     "name": "stdout",
     "output_type": "stream",
     "text": [
      "Starting experimental run with id: 12. \n"
     ]
    },
    {
     "name": "stdout",
     "output_type": "stream",
     "text": [
      "Starting experimental run with id: 13. \n"
     ]
    },
    {
     "name": "stdout",
     "output_type": "stream",
     "text": [
      "Starting experimental run with id: 14. \n"
     ]
    }
   ],
   "source": [
    "sizes = [1,500,1000,2000,3000,4000,5000]\n",
    "t_numeric = []\n",
    "t_numeric_add = []\n",
    "t_array = []\n",
    "t_array_add = []\n",
    "for size in sizes:\n",
    "    tn, tna, run_id_n =  insert_data('numeric', size)\n",
    "    t_numeric.append(tn)\n",
    "    t_numeric_add.append(tna)\n",
    "\n",
    "    ta, taa, run_id_a =  insert_data('array', size)\n",
    "    t_array.append(ta)\n",
    "    t_array_add.append(taa)"
   ]
  },
  {
   "cell_type": "code",
   "execution_count": 6,
   "metadata": {
    "execution": {
     "iopub.execute_input": "2021-04-22T07:39:16.868877Z",
     "iopub.status.busy": "2021-04-22T07:39:16.868145Z",
     "iopub.status.idle": "2021-04-22T07:39:17.140808Z",
     "shell.execute_reply": "2021-04-22T07:39:17.139783Z"
    }
   },
   "outputs": [
    {
     "data": {
      "image/png": "[encoded data removed]",
      "text/plain": [
       "<Figure size 432x288 with 1 Axes>"
      ]
     },
     "metadata": {
      "needs_background": "light"
     },
     "output_type": "display_data"
    }
   ],
   "source": [
    "fig, ax = plt.subplots(1,1)\n",
    "ax.plot(sizes, t_numeric, 'o-', label='Inserting row-by-row')\n",
    "ax.plot(sizes, t_numeric_add, 'o-', label='Inserting row-by-row: add_result only')\n",
    "ax.plot(sizes, t_array, 'd-', label='Inserting as binary blob')\n",
    "ax.plot(sizes, t_array_add, 'd-', label='Inserting as binary blob: add_result only')\n",
    "ax.legend()\n",
    "ax.set_xlabel('Array length')\n",
    "ax.set_ylabel('Time (s)')\n",
    "fig.tight_layout()"
   ]
  },
  {
   "cell_type": "markdown",
   "metadata": {},
   "source": [
    "As shown in the latter figure, the time to setup and and close the experiment is approximately 0.4 sec. In case of small array sizes, the difference between inserting values of data as arrays and inserting them row-by-row is relatively unimportant. At larger array sizes, i.e. above 10000 points, the cost of writing data as individual datapoints starts to become important.\n"
   ]
  },
  {
   "cell_type": "markdown",
   "metadata": {},
   "source": [
    "### Case2: Long experiment time "
   ]
  },
  {
   "cell_type": "code",
   "execution_count": 7,
   "metadata": {
    "execution": {
     "iopub.execute_input": "2021-04-22T07:39:17.150170Z",
     "iopub.status.busy": "2021-04-22T07:39:17.149008Z",
     "iopub.status.idle": "2021-04-22T07:40:22.920975Z",
     "shell.execute_reply": "2021-04-22T07:40:22.920261Z"
    }
   },
   "outputs": [
    {
     "name": "stdout",
     "output_type": "stream",
     "text": [
      "Starting experimental run with id: 15. \n",
      "Starting experimental run with id: 16. \n"
     ]
    },
    {
     "name": "stdout",
     "output_type": "stream",
     "text": [
      "Starting experimental run with id: 17. \n"
     ]
    },
    {
     "name": "stdout",
     "output_type": "stream",
     "text": [
      "Starting experimental run with id: 18. \n"
     ]
    },
    {
     "name": "stdout",
     "output_type": "stream",
     "text": [
      "Starting experimental run with id: 19. \n"
     ]
    },
    {
     "name": "stdout",
     "output_type": "stream",
     "text": [
      "Starting experimental run with id: 20. \n"
     ]
    },
    {
     "name": "stdout",
     "output_type": "stream",
     "text": [
      "Starting experimental run with id: 21. \n"
     ]
    },
    {
     "name": "stdout",
     "output_type": "stream",
     "text": [
      "Starting experimental run with id: 22. \n"
     ]
    },
    {
     "name": "stdout",
     "output_type": "stream",
     "text": [
      "Starting experimental run with id: 23. \n"
     ]
    },
    {
     "name": "stdout",
     "output_type": "stream",
     "text": [
      "Starting experimental run with id: 24. \n"
     ]
    },
    {
     "name": "stdout",
     "output_type": "stream",
     "text": [
      "Starting experimental run with id: 25. \n"
     ]
    },
    {
     "name": "stdout",
     "output_type": "stream",
     "text": [
      "Starting experimental run with id: 26. \n"
     ]
    },
    {
     "name": "stdout",
     "output_type": "stream",
     "text": [
      "Starting experimental run with id: 27. \n"
     ]
    },
    {
     "name": "stdout",
     "output_type": "stream",
     "text": [
      "Starting experimental run with id: 28. \n"
     ]
    }
   ],
   "source": [
    "sizes = [1,500,1000,2000,3000,4000,5000]\n",
    "nreps = 100\n",
    "t_numeric = []\n",
    "t_numeric_add = []\n",
    "t_numeric_run_ids = []\n",
    "t_array = []\n",
    "t_array_add = []\n",
    "t_array_run_ids = []\n",
    "for size in sizes:\n",
    "    tn, tna, run_id_n =  insert_data('numeric', size, nreps=nreps)\n",
    "    t_numeric.append(tn)\n",
    "    t_numeric_add.append(tna)\n",
    "    t_numeric_run_ids.append(run_id_n)\n",
    "\n",
    "    ta, taa, run_id_a =  insert_data('array', size, nreps=nreps)\n",
    "    t_array.append(ta)\n",
    "    t_array_add.append(taa)\n",
    "    t_array_run_ids.append(run_id_a)"
   ]
  },
  {
   "cell_type": "code",
   "execution_count": 8,
   "metadata": {
    "execution": {
     "iopub.execute_input": "2021-04-22T07:40:22.961766Z",
     "iopub.status.busy": "2021-04-22T07:40:22.952379Z",
     "iopub.status.idle": "2021-04-22T07:40:23.193285Z",
     "shell.execute_reply": "2021-04-22T07:40:23.193930Z"
    },
    "scrolled": true
   },
   "outputs": [
    {
     "data": {
      "image/png": "[encoded data removed]",
      "text/plain": [
       "<Figure size 432x288 with 1 Axes>"
      ]
     },
     "metadata": {
      "needs_background": "light"
     },
     "output_type": "display_data"
    }
   ],
   "source": [
    "fig, ax = plt.subplots(1,1)\n",
    "ax.plot(sizes, t_numeric, 'o-', label='Inserting row-by-row')\n",
    "ax.plot(sizes, t_numeric_add, 'o-', label='Inserting row-by-row: add_result only')\n",
    "ax.plot(sizes, t_array, 'd-', label='Inserting as binary blob')\n",
    "ax.plot(sizes, t_array_add, 'd-', label='Inserting as binary blob: add_result only')\n",
    "ax.legend()\n",
    "ax.set_xlabel('Array length')\n",
    "ax.set_ylabel('Time (s)')\n",
    "fig.tight_layout()"
   ]
  },
  {
   "cell_type": "markdown",
   "metadata": {},
   "source": [
    "However, as we increase the length of the experiment, as seen here by repeating the insertion 100 times, we see a big difference between inserting values of the data row-by-row and inserting it as a binary blob."
   ]
  },
  {
   "cell_type": "markdown",
   "metadata": {},
   "source": [
    "## Loading the data "
   ]
  },
  {
   "cell_type": "code",
   "execution_count": 9,
   "metadata": {
    "execution": {
     "iopub.execute_input": "2021-04-22T07:40:23.200472Z",
     "iopub.status.busy": "2021-04-22T07:40:23.198872Z",
     "iopub.status.idle": "2021-04-22T07:40:23.201333Z",
     "shell.execute_reply": "2021-04-22T07:40:23.202015Z"
    }
   },
   "outputs": [],
   "source": [
    "from qcodes.dataset.data_set import load_by_id"
   ]
  },
  {
   "cell_type": "markdown",
   "metadata": {},
   "source": [
    "As usual you can load the data by using the ``load_by_id`` function but you will notice that the different storage methods\n",
    "are reflected in shape of the data as it is retrieved. "
   ]
  },
  {
   "cell_type": "code",
   "execution_count": 10,
   "metadata": {
    "execution": {
     "iopub.execute_input": "2021-04-22T07:40:23.207874Z",
     "iopub.status.busy": "2021-04-22T07:40:23.206246Z",
     "iopub.status.idle": "2021-04-22T07:40:23.208757Z",
     "shell.execute_reply": "2021-04-22T07:40:23.209473Z"
    }
   },
   "outputs": [],
   "source": [
    "run_id_n = t_numeric_run_ids[0]\n",
    "run_id_a = t_array_run_ids[0]"
   ]
  },
  {
   "cell_type": "code",
   "execution_count": 11,
   "metadata": {
    "execution": {
     "iopub.execute_input": "2021-04-22T07:40:23.213862Z",
     "iopub.status.busy": "2021-04-22T07:40:23.212911Z",
     "iopub.status.idle": "2021-04-22T07:40:23.225251Z",
     "shell.execute_reply": "2021-04-22T07:40:23.225922Z"
    },
    "scrolled": true
   },
   "outputs": [
    {
     "data": {
      "text/plain": [
       "{'x1': {'x1': array([0.59586779, 0.59586779, 0.26313818, 0.26313818, 0.00460436,\n",
       "         0.00460436, 0.91276306, 0.91276306, 0.65602405, 0.65602405,\n",
       "         0.92368766, 0.92368766, 0.22364439, 0.22364439, 0.89612787,\n",
       "         0.89612787, 0.2086428 , 0.2086428 , 0.60348978, 0.60348978,\n",
       "         0.17353976, 0.17353976, 0.01327317, 0.01327317, 0.37644061,\n",
       "         0.37644061, 0.81419596, 0.81419596, 0.35094525, 0.35094525,\n",
       "         0.0466012 , 0.0466012 , 0.98019396, 0.98019396, 0.03403965,\n",
       "         0.03403965, 0.58475362, 0.58475362, 0.62403291, 0.62403291,\n",
       "         0.34378428, 0.34378428, 0.98752201, 0.98752201, 0.65605935,\n",
       "         0.65605935, 0.18938887, 0.18938887, 0.57703972, 0.57703972,\n",
       "         0.65654301, 0.65654301, 0.81305927, 0.81305927, 0.53193141,\n",
       "         0.53193141, 0.60822269, 0.60822269, 0.01086846, 0.01086846,\n",
       "         0.30854387, 0.30854387, 0.34267449, 0.34267449, 0.11494091,\n",
       "         0.11494091, 0.74157643, 0.74157643, 0.40383242, 0.40383242,\n",
       "         0.63257178, 0.63257178, 0.96967785, 0.96967785, 0.43454638,\n",
       "         0.43454638, 0.03626392, 0.03626392, 0.06832752, 0.06832752,\n",
       "         0.7006077 , 0.7006077 , 0.06931489, 0.06931489, 0.55169309,\n",
       "         0.55169309, 0.25766742, 0.25766742, 0.77765533, 0.77765533,\n",
       "         0.11108507, 0.11108507, 0.29147847, 0.29147847, 0.04152004,\n",
       "         0.04152004, 0.06507748, 0.06507748, 0.65860956, 0.65860956,\n",
       "         0.50668968, 0.50668968, 0.07752218, 0.07752218, 0.55995419,\n",
       "         0.55995419, 0.23830735, 0.23830735, 0.32469144, 0.32469144,\n",
       "         0.69416349, 0.69416349, 0.87766535, 0.87766535, 0.54556424,\n",
       "         0.54556424, 0.22621935, 0.22621935, 0.82622509, 0.82622509,\n",
       "         0.0526469 , 0.0526469 , 0.07807889, 0.07807889, 0.93572397,\n",
       "         0.93572397, 0.21090188, 0.21090188, 0.21548015, 0.21548015,\n",
       "         0.3422854 , 0.3422854 , 0.58048207, 0.58048207, 0.23971942,\n",
       "         0.23971942, 0.57098294, 0.57098294, 0.28857779, 0.28857779,\n",
       "         0.06613838, 0.06613838, 0.57153303, 0.57153303, 0.88647349,\n",
       "         0.88647349, 0.98181657, 0.98181657, 0.04222155, 0.04222155,\n",
       "         0.697309  , 0.697309  , 0.21101991, 0.21101991, 0.68743253,\n",
       "         0.68743253, 0.86402197, 0.86402197, 0.77588626, 0.77588626,\n",
       "         0.64129501, 0.64129501, 0.05154158, 0.05154158, 0.85031195,\n",
       "         0.85031195, 0.86570261, 0.86570261, 0.89121827, 0.89121827,\n",
       "         0.68662837, 0.68662837, 0.49923507, 0.49923507, 0.24063975,\n",
       "         0.24063975, 0.15590403, 0.15590403, 0.40921093, 0.40921093,\n",
       "         0.19278616, 0.19278616, 0.27606716, 0.27606716, 0.93498568,\n",
       "         0.93498568, 0.73750295, 0.73750295, 0.08465726, 0.08465726,\n",
       "         0.49456295, 0.49456295, 0.01991501, 0.01991501, 0.54075237,\n",
       "         0.54075237, 0.18966842, 0.18966842, 0.73815704, 0.73815704])}}"
      ]
     },
     "execution_count": 1,
     "metadata": {},
     "output_type": "execute_result"
    }
   ],
   "source": [
    "ds = load_by_id(run_id_n)\n",
    "ds.get_parameter_data('x1')"
   ]
  },
  {
   "cell_type": "markdown",
   "metadata": {},
   "source": [
    "And a dataset stored as binary arrays"
   ]
  },
  {
   "cell_type": "code",
   "execution_count": 12,
   "metadata": {
    "execution": {
     "iopub.execute_input": "2021-04-22T07:40:23.230766Z",
     "iopub.status.busy": "2021-04-22T07:40:23.229976Z",
     "iopub.status.idle": "2021-04-22T07:40:23.310389Z",
     "shell.execute_reply": "2021-04-22T07:40:23.309598Z"
    },
    "scrolled": true
   },
   "outputs": [
    {
     "data": {
      "text/plain": [
       "{'x1': {'x1': array([[0.63488281],\n",
       "         [0.63488281],\n",
       "         [0.03406505],\n",
       "         [0.03406505],\n",
       "         [0.39843969],\n",
       "         [0.39843969],\n",
       "         [0.20606939],\n",
       "         [0.20606939],\n",
       "         [0.58713181],\n",
       "         [0.58713181],\n",
       "         [0.05646555],\n",
       "         [0.05646555],\n",
       "         [0.31190464],\n",
       "         [0.31190464],\n",
       "         [0.19069824],\n",
       "         [0.19069824],\n",
       "         [0.29774182],\n",
       "         [0.29774182],\n",
       "         [0.37670278],\n",
       "         [0.37670278],\n",
       "         [0.19191465],\n",
       "         [0.19191465],\n",
       "         [0.73991067],\n",
       "         [0.73991067],\n",
       "         [0.14888596],\n",
       "         [0.14888596],\n",
       "         [0.07985953],\n",
       "         [0.07985953],\n",
       "         [0.43070025],\n",
       "         [0.43070025],\n",
       "         [0.92696061],\n",
       "         [0.92696061],\n",
       "         [0.70635619],\n",
       "         [0.70635619],\n",
       "         [0.3672867 ],\n",
       "         [0.3672867 ],\n",
       "         [0.66627182],\n",
       "         [0.66627182],\n",
       "         [0.58885674],\n",
       "         [0.58885674],\n",
       "         [0.79423244],\n",
       "         [0.79423244],\n",
       "         [0.1813446 ],\n",
       "         [0.1813446 ],\n",
       "         [0.77461209],\n",
       "         [0.77461209],\n",
       "         [0.59472598],\n",
       "         [0.59472598],\n",
       "         [0.69007277],\n",
       "         [0.69007277],\n",
       "         [0.61106739],\n",
       "         [0.61106739],\n",
       "         [0.7355022 ],\n",
       "         [0.7355022 ],\n",
       "         [0.60477337],\n",
       "         [0.60477337],\n",
       "         [0.57022031],\n",
       "         [0.57022031],\n",
       "         [0.61802237],\n",
       "         [0.61802237],\n",
       "         [0.67580323],\n",
       "         [0.67580323],\n",
       "         [0.0852328 ],\n",
       "         [0.0852328 ],\n",
       "         [0.1911476 ],\n",
       "         [0.1911476 ],\n",
       "         [0.06544823],\n",
       "         [0.06544823],\n",
       "         [0.10608886],\n",
       "         [0.10608886],\n",
       "         [0.75786607],\n",
       "         [0.75786607],\n",
       "         [0.63093922],\n",
       "         [0.63093922],\n",
       "         [0.66093856],\n",
       "         [0.66093856],\n",
       "         [0.86758754],\n",
       "         [0.86758754],\n",
       "         [0.54946204],\n",
       "         [0.54946204],\n",
       "         [0.01741471],\n",
       "         [0.01741471],\n",
       "         [0.87984913],\n",
       "         [0.87984913],\n",
       "         [0.86159408],\n",
       "         [0.86159408],\n",
       "         [0.63136367],\n",
       "         [0.63136367],\n",
       "         [0.45327759],\n",
       "         [0.45327759],\n",
       "         [0.04363415],\n",
       "         [0.04363415],\n",
       "         [0.60271843],\n",
       "         [0.60271843],\n",
       "         [0.7751634 ],\n",
       "         [0.7751634 ],\n",
       "         [0.92365979],\n",
       "         [0.92365979],\n",
       "         [0.42698312],\n",
       "         [0.42698312],\n",
       "         [0.7124718 ],\n",
       "         [0.7124718 ],\n",
       "         [0.92689134],\n",
       "         [0.92689134],\n",
       "         [0.8123304 ],\n",
       "         [0.8123304 ],\n",
       "         [0.04845797],\n",
       "         [0.04845797],\n",
       "         [0.00305418],\n",
       "         [0.00305418],\n",
       "         [0.88723488],\n",
       "         [0.88723488],\n",
       "         [0.8642948 ],\n",
       "         [0.8642948 ],\n",
       "         [0.82413664],\n",
       "         [0.82413664],\n",
       "         [0.09215754],\n",
       "         [0.09215754],\n",
       "         [0.21484772],\n",
       "         [0.21484772],\n",
       "         [0.60718726],\n",
       "         [0.60718726],\n",
       "         [0.96311919],\n",
       "         [0.96311919],\n",
       "         [0.18355791],\n",
       "         [0.18355791],\n",
       "         [0.01899884],\n",
       "         [0.01899884],\n",
       "         [0.04467537],\n",
       "         [0.04467537],\n",
       "         [0.61553053],\n",
       "         [0.61553053],\n",
       "         [0.94354426],\n",
       "         [0.94354426],\n",
       "         [0.76840043],\n",
       "         [0.76840043],\n",
       "         [0.40618075],\n",
       "         [0.40618075],\n",
       "         [0.43842163],\n",
       "         [0.43842163],\n",
       "         [0.44834961],\n",
       "         [0.44834961],\n",
       "         [0.08861101],\n",
       "         [0.08861101],\n",
       "         [0.54757185],\n",
       "         [0.54757185],\n",
       "         [0.51588128],\n",
       "         [0.51588128],\n",
       "         [0.73935069],\n",
       "         [0.73935069],\n",
       "         [0.30155706],\n",
       "         [0.30155706],\n",
       "         [0.73761367],\n",
       "         [0.73761367],\n",
       "         [0.8100812 ],\n",
       "         [0.8100812 ],\n",
       "         [0.3506073 ],\n",
       "         [0.3506073 ],\n",
       "         [0.43755606],\n",
       "         [0.43755606],\n",
       "         [0.05217024],\n",
       "         [0.05217024],\n",
       "         [0.62989941],\n",
       "         [0.62989941],\n",
       "         [0.58392368],\n",
       "         [0.58392368],\n",
       "         [0.47111187],\n",
       "         [0.47111187],\n",
       "         [0.91567991],\n",
       "         [0.91567991],\n",
       "         [0.44239725],\n",
       "         [0.44239725],\n",
       "         [0.55085073],\n",
       "         [0.55085073],\n",
       "         [0.16800373],\n",
       "         [0.16800373],\n",
       "         [0.76785888],\n",
       "         [0.76785888],\n",
       "         [0.45816169],\n",
       "         [0.45816169],\n",
       "         [0.68635467],\n",
       "         [0.68635467],\n",
       "         [0.59705104],\n",
       "         [0.59705104],\n",
       "         [0.47994622],\n",
       "         [0.47994622],\n",
       "         [0.36519393],\n",
       "         [0.36519393],\n",
       "         [0.60031229],\n",
       "         [0.60031229],\n",
       "         [0.20667156],\n",
       "         [0.20667156],\n",
       "         [0.31925657],\n",
       "         [0.31925657],\n",
       "         [0.41606369],\n",
       "         [0.41606369],\n",
       "         [0.22614668],\n",
       "         [0.22614668],\n",
       "         [0.71949185],\n",
       "         [0.71949185]])}}"
      ]
     },
     "execution_count": 1,
     "metadata": {},
     "output_type": "execute_result"
    }
   ],
   "source": [
    "ds = load_by_id(run_id_a)\n",
    "ds.get_parameter_data('x1')"
   ]
  },
  {
   "cell_type": "code",
   "execution_count": null,
   "metadata": {},
   "outputs": [],
   "source": []
  }
 ],
 "metadata": {
  "kernelspec": {
   "display_name": "Python 3",
   "language": "python",
   "name": "python3"
  },
  "language_info": {
   "codemirror_mode": {
    "name": "ipython",
    "version": 3
   },
   "file_extension": ".py",
   "mimetype": "text/x-python",
   "name": "python",
   "nbconvert_exporter": "python",
   "pygments_lexer": "ipython3",
   "version": "3.7.10"
  },
  "nbsphinx": {
   "timeout": 600
  },
  "toc": {
   "base_numbering": 1,
   "nav_menu": {},
   "number_sections": true,
   "sideBar": true,
   "skip_h1_title": false,
   "title_cell": "Table of Contents",
   "title_sidebar": "Contents",
   "toc_cell": false,
   "toc_position": {},
   "toc_section_display": true,
   "toc_window_display": false
  },
  "varInspector": {
   "cols": {
    "lenName": 16,
    "lenType": 16,
    "lenVar": 40
   },
   "kernels_config": {
    "python": {
     "delete_cmd_postfix": "",
     "delete_cmd_prefix": "del ",
     "library": "var_list.py",
     "varRefreshCmd": "print(var_dic_list())"
    },
    "r": {
     "delete_cmd_postfix": ") ",
     "delete_cmd_prefix": "rm(",
     "library": "var_list.r",
     "varRefreshCmd": "cat(var_dic_list()) "
    }
   },
   "types_to_exclude": [
    "module",
    "function",
    "builtin_function_or_method",
    "instance",
    "_Feature"
   ],
   "window_display": false
  }
 },
 "nbformat": 4,
 "nbformat_minor": 4
}
