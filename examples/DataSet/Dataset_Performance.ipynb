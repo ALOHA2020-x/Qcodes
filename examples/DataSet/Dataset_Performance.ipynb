{
 "cells": [
  {
   "cell_type": "markdown",
   "metadata": {},
   "source": [
    "# DataSet Performance\n",
    "\n",
    "This notebook shows the trade-off between inserting data into a database row-by-row and as binary blobs. Inserting the data row-by-row means that we have direct access to all the data and may perform queries directly on the values of the data. On the other hand, as we shall see, this is much slower than inserting the data directly as binary blobs."
   ]
  },
  {
   "cell_type": "markdown",
   "metadata": {},
   "source": [
    "First, we choose a new location for the database to ensure that we don't add a bunch of benchmarking data to the default one."
   ]
  },
  {
   "cell_type": "code",
   "execution_count": 1,
   "metadata": {},
   "outputs": [
    {
     "name": "stdout",
     "output_type": "stream",
     "text": [
      "Logging hadn't been started.\n",
      "Activating auto-logging. Current session state plus future input saved.\n",
      "Filename       : /home/vsts/.qcodes/logs/command_history.log\n",
      "Mode           : append\n",
      "Output logging : True\n",
      "Raw input log  : False\n",
      "Timestamping   : True\n",
      "State          : active\n"
     ]
    },
    {
     "name": "stdout",
     "output_type": "stream",
     "text": [
      "Qcodes Logfile : /home/vsts/.qcodes/logs/200717-18538-qcodes.log\n"
     ]
    }
   ],
   "source": [
    "import os\n",
    "cwd = os.getcwd()\n",
    "import qcodes as qc\n",
    "qc.config[\"core\"][\"db_location\"] = os.path.join(cwd, 'testing.db')\n"
   ]
  },
  {
   "cell_type": "code",
   "execution_count": 2,
   "metadata": {},
   "outputs": [],
   "source": [
    "%matplotlib inline\n",
    "import time\n",
    "import matplotlib.pyplot as plt\n",
    "import numpy as np\n",
    "\n",
    "import qcodes as qc\n",
    "from qcodes.instrument.parameter import ManualParameter\n",
    "from qcodes.dataset.experiment_container import (Experiment,\n",
    "                                                 load_last_experiment,\n",
    "                                                 new_experiment)\n",
    "from qcodes.dataset.sqlite.database import initialise_database\n",
    "from qcodes import load_or_create_experiment\n",
    "from qcodes.dataset.measurements import Measurement"
   ]
  },
  {
   "cell_type": "code",
   "execution_count": 3,
   "metadata": {},
   "outputs": [
    {
     "name": "stdout",
     "output_type": "stream",
     "text": [
      "\r",
      "0it [00:00, ?it/s]"
     ]
    },
    {
     "name": "stdout",
     "output_type": "stream",
     "text": [
      "\r",
      "Upgrading database; v0 -> v1: : 0it [00:00, ?it/s]"
     ]
    },
    {
     "name": "stdout",
     "output_type": "stream",
     "text": [
      "\r",
      "Upgrading database; v0 -> v1: : 0it [00:00, ?it/s]"
     ]
    },
    {
     "name": "stdout",
     "output_type": "stream",
     "text": [
      "\n",
      "\r",
      "  0%|          | 0/1 [00:00<?, ?it/s]"
     ]
    },
    {
     "name": "stdout",
     "output_type": "stream",
     "text": [
      "\r",
      "Upgrading database; v1 -> v2:   0%|          | 0/1 [00:00<?, ?it/s]"
     ]
    },
    {
     "name": "stdout",
     "output_type": "stream",
     "text": [
      "\r",
      "Upgrading database; v1 -> v2: 100%|██████████| 1/1 [00:00<00:00, 787.66it/s]"
     ]
    },
    {
     "name": "stdout",
     "output_type": "stream",
     "text": [
      "\n",
      "\r",
      "0it [00:00, ?it/s]"
     ]
    },
    {
     "name": "stdout",
     "output_type": "stream",
     "text": [
      "\r",
      "Upgrading database; v2 -> v3: : 0it [00:00, ?it/s]"
     ]
    },
    {
     "name": "stdout",
     "output_type": "stream",
     "text": [
      "\r",
      "Upgrading database; v2 -> v3: : 0it [00:00, ?it/s]"
     ]
    },
    {
     "name": "stdout",
     "output_type": "stream",
     "text": [
      "\n",
      "\r",
      "0it [00:00, ?it/s]"
     ]
    },
    {
     "name": "stdout",
     "output_type": "stream",
     "text": [
      "\r",
      "Upgrading database; v3 -> v4: : 0it [00:00, ?it/s]"
     ]
    },
    {
     "name": "stdout",
     "output_type": "stream",
     "text": [
      "\r",
      "Upgrading database; v3 -> v4: : 0it [00:00, ?it/s]"
     ]
    },
    {
     "name": "stdout",
     "output_type": "stream",
     "text": [
      "\n",
      "\r",
      "  0%|          | 0/1 [00:00<?, ?it/s]"
     ]
    },
    {
     "name": "stdout",
     "output_type": "stream",
     "text": [
      "\r",
      "Upgrading database; v4 -> v5:   0%|          | 0/1 [00:00<?, ?it/s]"
     ]
    },
    {
     "name": "stdout",
     "output_type": "stream",
     "text": [
      "\r",
      "Upgrading database; v4 -> v5: 100%|██████████| 1/1 [00:00<00:00, 632.24it/s]"
     ]
    },
    {
     "name": "stdout",
     "output_type": "stream",
     "text": [
      "\n",
      "\r",
      "0it [00:00, ?it/s]"
     ]
    },
    {
     "name": "stdout",
     "output_type": "stream",
     "text": [
      "\r",
      "Upgrading database; v5 -> v6: : 0it [00:00, ?it/s]"
     ]
    },
    {
     "name": "stdout",
     "output_type": "stream",
     "text": [
      "\r",
      "Upgrading database; v5 -> v6: : 0it [00:00, ?it/s]"
     ]
    },
    {
     "name": "stdout",
     "output_type": "stream",
     "text": [
      "\n",
      "\r",
      "  0%|          | 0/1 [00:00<?, ?it/s]"
     ]
    },
    {
     "name": "stdout",
     "output_type": "stream",
     "text": [
      "\r",
      "Upgrading database; v6 -> v7:   0%|          | 0/1 [00:00<?, ?it/s]"
     ]
    },
    {
     "name": "stdout",
     "output_type": "stream",
     "text": [
      "\r",
      "Upgrading database; v6 -> v7: 100%|██████████| 1/1 [00:00<00:00, 352.94it/s]"
     ]
    },
    {
     "name": "stdout",
     "output_type": "stream",
     "text": [
      "\n",
      "\r",
      "  0%|          | 0/1 [00:00<?, ?it/s]"
     ]
    },
    {
     "name": "stdout",
     "output_type": "stream",
     "text": [
      "\r",
      "Upgrading database; v7 -> v8:   0%|          | 0/1 [00:00<?, ?it/s]"
     ]
    },
    {
     "name": "stdout",
     "output_type": "stream",
     "text": [
      "\r",
      "Upgrading database; v7 -> v8: 100%|██████████| 1/1 [00:00<00:00, 585.06it/s]"
     ]
    },
    {
     "name": "stdout",
     "output_type": "stream",
     "text": [
      "\n",
      "\r",
      "  0%|          | 0/1 [00:00<?, ?it/s]"
     ]
    },
    {
     "name": "stdout",
     "output_type": "stream",
     "text": [
      "\r",
      "Upgrading database; v8 -> v9:   0%|          | 0/1 [00:00<?, ?it/s]"
     ]
    },
    {
     "name": "stdout",
     "output_type": "stream",
     "text": [
      "\r",
      "Upgrading database; v8 -> v9: 100%|██████████| 1/1 [00:00<00:00, 821.45it/s]"
     ]
    },
    {
     "name": "stdout",
     "output_type": "stream",
     "text": [
      "\n"
     ]
    }
   ],
   "source": [
    "initialise_database()\n",
    "exp = load_or_create_experiment(experiment_name='tutorial_exp', sample_name=\"no sample\")"
   ]
  },
  {
   "cell_type": "markdown",
   "metadata": {},
   "source": [
    "Here, we define a simple function to benchmark the time it takes to insert n points with either numeric or array data type.\n",
    "We will compare both the time used to call ``add_result`` and the time used for the full measurement."
   ]
  },
  {
   "cell_type": "code",
   "execution_count": 4,
   "metadata": {},
   "outputs": [],
   "source": [
    "def insert_data(paramtype, npoints, nreps=1):\n",
    "\n",
    "    meas = Measurement(exp=exp)\n",
    "\n",
    "    x1 = ManualParameter('x1')\n",
    "    x2 = ManualParameter('x2')\n",
    "    x3 = ManualParameter('x3')\n",
    "    y1 = ManualParameter('y1')\n",
    "    y2 = ManualParameter('y2')\n",
    "\n",
    "    meas.register_parameter(x1, paramtype=paramtype)\n",
    "    meas.register_parameter(x2, paramtype=paramtype)\n",
    "    meas.register_parameter(x3, paramtype=paramtype)\n",
    "    meas.register_parameter(y1, setpoints=[x1, x2, x3],\n",
    "                            paramtype=paramtype)\n",
    "    meas.register_parameter(y2, setpoints=[x1, x2, x3],\n",
    "                            paramtype=paramtype)\n",
    "    start = time.perf_counter()\n",
    "    with meas.run() as datasaver:\n",
    "        start_adding = time.perf_counter()\n",
    "        for i in range(nreps):\n",
    "            datasaver.add_result((x1, np.random.rand(npoints)),\n",
    "                                 (x2, np.random.rand(npoints)),\n",
    "                                 (x3, np.random.rand(npoints)),\n",
    "                                 (y1, np.random.rand(npoints)),\n",
    "                                 (y2, np.random.rand(npoints)))\n",
    "        stop_adding = time.perf_counter()\n",
    "        run_id = datasaver.run_id\n",
    "    stop = time.perf_counter()\n",
    "    tot_time = stop - start\n",
    "    add_time = stop_adding - start_adding\n",
    "    return tot_time, add_time, run_id"
   ]
  },
  {
   "cell_type": "markdown",
   "metadata": {},
   "source": [
    "## Comparison between numeric/array data and binary blob"
   ]
  },
  {
   "cell_type": "markdown",
   "metadata": {},
   "source": [
    "### Case1: Short experiment time"
   ]
  },
  {
   "cell_type": "code",
   "execution_count": 5,
   "metadata": {},
   "outputs": [
    {
     "name": "stdout",
     "output_type": "stream",
     "text": [
      "Starting experimental run with id: 1. \n",
      "Starting experimental run with id: 2. \n",
      "Starting experimental run with id: 3. \n"
     ]
    },
    {
     "name": "stdout",
     "output_type": "stream",
     "text": [
      "Starting experimental run with id: 4. \n"
     ]
    },
    {
     "name": "stdout",
     "output_type": "stream",
     "text": [
      "Starting experimental run with id: 5. \n"
     ]
    },
    {
     "name": "stdout",
     "output_type": "stream",
     "text": [
      "Starting experimental run with id: 6. \n",
      "Starting experimental run with id: 7. \n"
     ]
    },
    {
     "name": "stdout",
     "output_type": "stream",
     "text": [
      "Starting experimental run with id: 8. \n",
      "Starting experimental run with id: 9. \n"
     ]
    },
    {
     "name": "stdout",
     "output_type": "stream",
     "text": [
      "Starting experimental run with id: 10. \n",
      "Starting experimental run with id: 11. \n"
     ]
    },
    {
     "name": "stdout",
     "output_type": "stream",
     "text": [
      "Starting experimental run with id: 12. \n",
      "Starting experimental run with id: 13. \n"
     ]
    },
    {
     "name": "stdout",
     "output_type": "stream",
     "text": [
      "Starting experimental run with id: 14. \n"
     ]
    }
   ],
   "source": [
    "sizes = [1,500,1000,2000,3000,4000,5000]\n",
    "t_numeric = []\n",
    "t_numeric_add = []\n",
    "t_array = []\n",
    "t_array_add = []\n",
    "for size in sizes:\n",
    "    tn, tna, run_id_n =  insert_data('numeric', size)\n",
    "    t_numeric.append(tn)\n",
    "    t_numeric_add.append(tna)\n",
    "\n",
    "    ta, taa, run_id_a =  insert_data('array', size)\n",
    "    t_array.append(ta)\n",
    "    t_array_add.append(taa)"
   ]
  },
  {
   "cell_type": "code",
   "execution_count": 6,
   "metadata": {},
   "outputs": [
    {
     "data": {
      "image/png": "[encoded data removed]",
      "text/plain": [
       "<Figure size 432x288 with 1 Axes>"
      ]
     },
     "metadata": {
      "needs_background": "light"
     },
     "output_type": "display_data"
    }
   ],
   "source": [
    "fig, ax = plt.subplots(1,1)\n",
    "ax.plot(sizes, t_numeric, 'o-', label='Inserting row-by-row')\n",
    "ax.plot(sizes, t_numeric_add, 'o-', label='Inserting row-by-row: add_result only')\n",
    "ax.plot(sizes, t_array, 'd-', label='Inserting as binary blob')\n",
    "ax.plot(sizes, t_array_add, 'd-', label='Inserting as binary blob: add_result only')\n",
    "ax.legend()\n",
    "ax.set_xlabel('Array length')\n",
    "ax.set_ylabel('Time (s)')\n",
    "fig.tight_layout()"
   ]
  },
  {
   "cell_type": "markdown",
   "metadata": {},
   "source": [
    "As shown in the latter figure, the time to setup and and close the experiment is approximately 0.4 sec. In case of small array sizes, the difference between inserting values of data as arrays and inserting them row-by-row is relatively unimportant. At larger array sizes, i.e. above 10000 points, the cost of writing data as individual datapoints starts to become important.\n"
   ]
  },
  {
   "cell_type": "markdown",
   "metadata": {},
   "source": [
    "### Case2: Long experiment time "
   ]
  },
  {
   "cell_type": "code",
   "execution_count": 7,
   "metadata": {},
   "outputs": [
    {
     "name": "stdout",
     "output_type": "stream",
     "text": [
      "Starting experimental run with id: 15. \n",
      "Starting experimental run with id: 16. \n"
     ]
    },
    {
     "name": "stdout",
     "output_type": "stream",
     "text": [
      "Starting experimental run with id: 17. \n"
     ]
    },
    {
     "name": "stdout",
     "output_type": "stream",
     "text": [
      "Starting experimental run with id: 18. \n",
      "Starting experimental run with id: 19. \n"
     ]
    },
    {
     "name": "stdout",
     "output_type": "stream",
     "text": [
      "Starting experimental run with id: 20. \n"
     ]
    },
    {
     "name": "stdout",
     "output_type": "stream",
     "text": [
      "Starting experimental run with id: 21. \n"
     ]
    },
    {
     "name": "stdout",
     "output_type": "stream",
     "text": [
      "Starting experimental run with id: 22. \n"
     ]
    },
    {
     "name": "stdout",
     "output_type": "stream",
     "text": [
      "Starting experimental run with id: 23. \n"
     ]
    },
    {
     "name": "stdout",
     "output_type": "stream",
     "text": [
      "Starting experimental run with id: 24. \n"
     ]
    },
    {
     "name": "stdout",
     "output_type": "stream",
     "text": [
      "Starting experimental run with id: 25. \n"
     ]
    },
    {
     "name": "stdout",
     "output_type": "stream",
     "text": [
      "Starting experimental run with id: 26. \n"
     ]
    },
    {
     "name": "stdout",
     "output_type": "stream",
     "text": [
      "Starting experimental run with id: 27. \n"
     ]
    },
    {
     "name": "stdout",
     "output_type": "stream",
     "text": [
      "Starting experimental run with id: 28. \n"
     ]
    }
   ],
   "source": [
    "sizes = [1,500,1000,2000,3000,4000,5000]\n",
    "nreps = 100\n",
    "t_numeric = []\n",
    "t_numeric_add = []\n",
    "t_numeric_run_ids = []\n",
    "t_array = []\n",
    "t_array_add = []\n",
    "t_array_run_ids = []\n",
    "for size in sizes:\n",
    "    tn, tna, run_id_n =  insert_data('numeric', size, nreps=nreps)\n",
    "    t_numeric.append(tn)\n",
    "    t_numeric_add.append(tna)\n",
    "    t_numeric_run_ids.append(run_id_n)\n",
    "\n",
    "    ta, taa, run_id_a =  insert_data('array', size, nreps=nreps)\n",
    "    t_array.append(ta)\n",
    "    t_array_add.append(taa)\n",
    "    t_array_run_ids.append(run_id_a)"
   ]
  },
  {
   "cell_type": "code",
   "execution_count": 8,
   "metadata": {
    "scrolled": true
   },
   "outputs": [
    {
     "data": {
      "image/png": "[encoded data removed]",
      "text/plain": [
       "<Figure size 432x288 with 1 Axes>"
      ]
     },
     "metadata": {
      "needs_background": "light"
     },
     "output_type": "display_data"
    }
   ],
   "source": [
    "fig, ax = plt.subplots(1,1)\n",
    "ax.plot(sizes, t_numeric, 'o-', label='Inserting row-by-row')\n",
    "ax.plot(sizes, t_numeric_add, 'o-', label='Inserting row-by-row: add_result only')\n",
    "ax.plot(sizes, t_array, 'd-', label='Inserting as binary blob')\n",
    "ax.plot(sizes, t_array_add, 'd-', label='Inserting as binary blob: add_result only')\n",
    "ax.legend()\n",
    "ax.set_xlabel('Array length')\n",
    "ax.set_ylabel('Time (s)')\n",
    "fig.tight_layout()"
   ]
  },
  {
   "cell_type": "markdown",
   "metadata": {},
   "source": [
    "However, as we increase the length of the experiment, as seen here by repeating the insertion 100 times, we see a big difference between inserting values of the data row-by-row and inserting it as a binary blob."
   ]
  },
  {
   "cell_type": "markdown",
   "metadata": {},
   "source": [
    "## Loading the data "
   ]
  },
  {
   "cell_type": "code",
   "execution_count": 9,
   "metadata": {},
   "outputs": [],
   "source": [
    "from qcodes.dataset.data_set import load_by_id\n",
    "from qcodes.dataset.data_export import get_data_by_id"
   ]
  },
  {
   "cell_type": "markdown",
   "metadata": {},
   "source": [
    "As usual you can load the data by using the ``load_by_id`` function but you will notice that the different storage methods\n",
    "are reflected in shape of the data as it is retrieved. "
   ]
  },
  {
   "cell_type": "code",
   "execution_count": 10,
   "metadata": {},
   "outputs": [],
   "source": [
    "run_id_n = t_numeric_run_ids[0]\n",
    "run_id_a = t_array_run_ids[0]"
   ]
  },
  {
   "cell_type": "code",
   "execution_count": 11,
   "metadata": {
    "scrolled": true
   },
   "outputs": [
    {
     "data": {
      "text/plain": [
       "{'x1': {'x1': array([0.406972  , 0.406972  , 0.74177054, 0.74177054, 0.76916026,\n",
       "         0.76916026, 0.8684246 , 0.8684246 , 0.95405891, 0.95405891,\n",
       "         0.32937815, 0.32937815, 0.17187835, 0.17187835, 0.64848712,\n",
       "         0.64848712, 0.00198278, 0.00198278, 0.58061695, 0.58061695,\n",
       "         0.38592757, 0.38592757, 0.16107645, 0.16107645, 0.23457724,\n",
       "         0.23457724, 0.96885971, 0.96885971, 0.81317024, 0.81317024,\n",
       "         0.70007283, 0.70007283, 0.99505626, 0.99505626, 0.55049845,\n",
       "         0.55049845, 0.51245067, 0.51245067, 0.36385562, 0.36385562,\n",
       "         0.41512759, 0.41512759, 0.06739567, 0.06739567, 0.52155103,\n",
       "         0.52155103, 0.08559245, 0.08559245, 0.21550703, 0.21550703,\n",
       "         0.58593227, 0.58593227, 0.91044325, 0.91044325, 0.48462366,\n",
       "         0.48462366, 0.53631255, 0.53631255, 0.70038494, 0.70038494,\n",
       "         0.4828573 , 0.4828573 , 0.44671488, 0.44671488, 0.71463918,\n",
       "         0.71463918, 0.08570424, 0.08570424, 0.77043196, 0.77043196,\n",
       "         0.72082245, 0.72082245, 0.08469032, 0.08469032, 0.3933093 ,\n",
       "         0.3933093 , 0.54178545, 0.54178545, 0.9015005 , 0.9015005 ,\n",
       "         0.66746186, 0.66746186, 0.07471614, 0.07471614, 0.65303169,\n",
       "         0.65303169, 0.72088894, 0.72088894, 0.34213226, 0.34213226,\n",
       "         0.26377693, 0.26377693, 0.32042747, 0.32042747, 0.03263087,\n",
       "         0.03263087, 0.55408239, 0.55408239, 0.97207823, 0.97207823,\n",
       "         0.87247242, 0.87247242, 0.33095463, 0.33095463, 0.8750743 ,\n",
       "         0.8750743 , 0.23665479, 0.23665479, 0.72467926, 0.72467926,\n",
       "         0.85744057, 0.85744057, 0.48768495, 0.48768495, 0.77647405,\n",
       "         0.77647405, 0.40555051, 0.40555051, 0.07454784, 0.07454784,\n",
       "         0.11762335, 0.11762335, 0.00177727, 0.00177727, 0.97994364,\n",
       "         0.97994364, 0.1369282 , 0.1369282 , 0.10489747, 0.10489747,\n",
       "         0.25461267, 0.25461267, 0.18291349, 0.18291349, 0.35211713,\n",
       "         0.35211713, 0.68777554, 0.68777554, 0.96227211, 0.96227211,\n",
       "         0.83746142, 0.83746142, 0.04115852, 0.04115852, 0.20318183,\n",
       "         0.20318183, 0.95377434, 0.95377434, 0.89439516, 0.89439516,\n",
       "         0.42697175, 0.42697175, 0.52392851, 0.52392851, 0.46584161,\n",
       "         0.46584161, 0.96687096, 0.96687096, 0.05616177, 0.05616177,\n",
       "         0.71753957, 0.71753957, 0.72545692, 0.72545692, 0.33342202,\n",
       "         0.33342202, 0.75847775, 0.75847775, 0.68121352, 0.68121352,\n",
       "         0.80661937, 0.80661937, 0.01378179, 0.01378179, 0.5375543 ,\n",
       "         0.5375543 , 0.04945255, 0.04945255, 0.27783617, 0.27783617,\n",
       "         0.25347754, 0.25347754, 0.72318366, 0.72318366, 0.00734144,\n",
       "         0.00734144, 0.50779909, 0.50779909, 0.20985354, 0.20985354,\n",
       "         0.24458917, 0.24458917, 0.87584361, 0.87584361, 0.60742271,\n",
       "         0.60742271, 0.54555337, 0.54555337, 0.59600814, 0.59600814])}}"
      ]
     },
     "execution_count": 11,
     "metadata": {},
     "output_type": "execute_result"
    }
   ],
   "source": [
    "ds = load_by_id(run_id_n)\n",
    "ds.get_parameter_data('x1')"
   ]
  },
  {
   "cell_type": "markdown",
   "metadata": {},
   "source": [
    "And a dataset stored as binary arrays"
   ]
  },
  {
   "cell_type": "code",
   "execution_count": 12,
   "metadata": {
    "scrolled": true
   },
   "outputs": [
    {
     "data": {
      "text/plain": [
       "{'x1': {'x1': array([[0.7614194 ],\n",
       "         [0.7614194 ],\n",
       "         [0.87232257],\n",
       "         [0.87232257],\n",
       "         [0.98606095],\n",
       "         [0.98606095],\n",
       "         [0.16392656],\n",
       "         [0.16392656],\n",
       "         [0.99321855],\n",
       "         [0.99321855],\n",
       "         [0.07091615],\n",
       "         [0.07091615],\n",
       "         [0.93582821],\n",
       "         [0.93582821],\n",
       "         [0.62520481],\n",
       "         [0.62520481],\n",
       "         [0.72106539],\n",
       "         [0.72106539],\n",
       "         [0.35802492],\n",
       "         [0.35802492],\n",
       "         [0.77079021],\n",
       "         [0.77079021],\n",
       "         [0.91548849],\n",
       "         [0.91548849],\n",
       "         [0.52344174],\n",
       "         [0.52344174],\n",
       "         [0.49093636],\n",
       "         [0.49093636],\n",
       "         [0.72752488],\n",
       "         [0.72752488],\n",
       "         [0.18674137],\n",
       "         [0.18674137],\n",
       "         [0.45379456],\n",
       "         [0.45379456],\n",
       "         [0.07615296],\n",
       "         [0.07615296],\n",
       "         [0.63829222],\n",
       "         [0.63829222],\n",
       "         [0.50310351],\n",
       "         [0.50310351],\n",
       "         [0.0234357 ],\n",
       "         [0.0234357 ],\n",
       "         [0.05801896],\n",
       "         [0.05801896],\n",
       "         [0.9337456 ],\n",
       "         [0.9337456 ],\n",
       "         [0.71532321],\n",
       "         [0.71532321],\n",
       "         [0.11910519],\n",
       "         [0.11910519],\n",
       "         [0.63659651],\n",
       "         [0.63659651],\n",
       "         [0.146825  ],\n",
       "         [0.146825  ],\n",
       "         [0.40624109],\n",
       "         [0.40624109],\n",
       "         [0.51414943],\n",
       "         [0.51414943],\n",
       "         [0.04065397],\n",
       "         [0.04065397],\n",
       "         [0.63638691],\n",
       "         [0.63638691],\n",
       "         [0.54292638],\n",
       "         [0.54292638],\n",
       "         [0.95967374],\n",
       "         [0.95967374],\n",
       "         [0.91002566],\n",
       "         [0.91002566],\n",
       "         [0.65464775],\n",
       "         [0.65464775],\n",
       "         [0.53375811],\n",
       "         [0.53375811],\n",
       "         [0.32182965],\n",
       "         [0.32182965],\n",
       "         [0.39157794],\n",
       "         [0.39157794],\n",
       "         [0.08045899],\n",
       "         [0.08045899],\n",
       "         [0.67410309],\n",
       "         [0.67410309],\n",
       "         [0.67960287],\n",
       "         [0.67960287],\n",
       "         [0.93515923],\n",
       "         [0.93515923],\n",
       "         [0.90719117],\n",
       "         [0.90719117],\n",
       "         [0.59052699],\n",
       "         [0.59052699],\n",
       "         [0.32881217],\n",
       "         [0.32881217],\n",
       "         [0.71756538],\n",
       "         [0.71756538],\n",
       "         [0.28139596],\n",
       "         [0.28139596],\n",
       "         [0.98956996],\n",
       "         [0.98956996],\n",
       "         [0.19229975],\n",
       "         [0.19229975],\n",
       "         [0.25233518],\n",
       "         [0.25233518],\n",
       "         [0.10370446],\n",
       "         [0.10370446],\n",
       "         [0.64334462],\n",
       "         [0.64334462],\n",
       "         [0.84421281],\n",
       "         [0.84421281],\n",
       "         [0.82059167],\n",
       "         [0.82059167],\n",
       "         [0.65521747],\n",
       "         [0.65521747],\n",
       "         [0.8631723 ],\n",
       "         [0.8631723 ],\n",
       "         [0.10031653],\n",
       "         [0.10031653],\n",
       "         [0.37771626],\n",
       "         [0.37771626],\n",
       "         [0.48578934],\n",
       "         [0.48578934],\n",
       "         [0.78741924],\n",
       "         [0.78741924],\n",
       "         [0.64111456],\n",
       "         [0.64111456],\n",
       "         [0.02425099],\n",
       "         [0.02425099],\n",
       "         [0.03462603],\n",
       "         [0.03462603],\n",
       "         [0.48856993],\n",
       "         [0.48856993],\n",
       "         [0.65208126],\n",
       "         [0.65208126],\n",
       "         [0.22021676],\n",
       "         [0.22021676],\n",
       "         [0.37561703],\n",
       "         [0.37561703],\n",
       "         [0.2388962 ],\n",
       "         [0.2388962 ],\n",
       "         [0.04967721],\n",
       "         [0.04967721],\n",
       "         [0.37227456],\n",
       "         [0.37227456],\n",
       "         [0.54982416],\n",
       "         [0.54982416],\n",
       "         [0.36368201],\n",
       "         [0.36368201],\n",
       "         [0.32729985],\n",
       "         [0.32729985],\n",
       "         [0.54013617],\n",
       "         [0.54013617],\n",
       "         [0.60635486],\n",
       "         [0.60635486],\n",
       "         [0.39707226],\n",
       "         [0.39707226],\n",
       "         [0.97680784],\n",
       "         [0.97680784],\n",
       "         [0.53893208],\n",
       "         [0.53893208],\n",
       "         [0.72098739],\n",
       "         [0.72098739],\n",
       "         [0.89118583],\n",
       "         [0.89118583],\n",
       "         [0.35599754],\n",
       "         [0.35599754],\n",
       "         [0.26994135],\n",
       "         [0.26994135],\n",
       "         [0.83076599],\n",
       "         [0.83076599],\n",
       "         [0.28178388],\n",
       "         [0.28178388],\n",
       "         [0.49410631],\n",
       "         [0.49410631],\n",
       "         [0.60734416],\n",
       "         [0.60734416],\n",
       "         [0.62473147],\n",
       "         [0.62473147],\n",
       "         [0.2739649 ],\n",
       "         [0.2739649 ],\n",
       "         [0.07204268],\n",
       "         [0.07204268],\n",
       "         [0.48829399],\n",
       "         [0.48829399],\n",
       "         [0.83614092],\n",
       "         [0.83614092],\n",
       "         [0.17632729],\n",
       "         [0.17632729],\n",
       "         [0.97333261],\n",
       "         [0.97333261],\n",
       "         [0.15171441],\n",
       "         [0.15171441],\n",
       "         [0.35101342],\n",
       "         [0.35101342],\n",
       "         [0.88321997],\n",
       "         [0.88321997],\n",
       "         [0.35244075],\n",
       "         [0.35244075],\n",
       "         [0.89393252],\n",
       "         [0.89393252],\n",
       "         [0.92051312],\n",
       "         [0.92051312],\n",
       "         [0.31452609],\n",
       "         [0.31452609]])}}"
      ]
     },
     "execution_count": 12,
     "metadata": {},
     "output_type": "execute_result"
    }
   ],
   "source": [
    "ds = load_by_id(run_id_a)\n",
    "ds.get_parameter_data('x1')"
   ]
  },
  {
   "cell_type": "code",
   "execution_count": null,
   "metadata": {},
   "outputs": [],
   "source": []
  }
 ],
 "metadata": {
  "kernelspec": {
   "display_name": "Python 3",
   "language": "python",
   "name": "python3"
  },
  "language_info": {
   "codemirror_mode": {
    "name": "ipython",
    "version": 3
   },
   "file_extension": ".py",
   "mimetype": "text/x-python",
   "name": "python",
   "nbconvert_exporter": "python",
   "pygments_lexer": "ipython3",
   "version": "3.7.7"
  },
  "nbsphinx": {
   "timeout": 600
  },
  "toc": {
   "base_numbering": 1,
   "nav_menu": {},
   "number_sections": true,
   "sideBar": true,
   "skip_h1_title": false,
   "title_cell": "Table of Contents",
   "title_sidebar": "Contents",
   "toc_cell": false,
   "toc_position": {},
   "toc_section_display": true,
   "toc_window_display": false
  },
  "varInspector": {
   "cols": {
    "lenName": 16,
    "lenType": 16,
    "lenVar": 40
   },
   "kernels_config": {
    "python": {
     "delete_cmd_postfix": "",
     "delete_cmd_prefix": "del ",
     "library": "var_list.py",
     "varRefreshCmd": "print(var_dic_list())"
    },
    "r": {
     "delete_cmd_postfix": ") ",
     "delete_cmd_prefix": "rm(",
     "library": "var_list.r",
     "varRefreshCmd": "cat(var_dic_list()) "
    }
   },
   "types_to_exclude": [
    "module",
    "function",
    "builtin_function_or_method",
    "instance",
    "_Feature"
   ],
   "window_display": false
  }
 },
 "nbformat": 4,
 "nbformat_minor": 2
}
