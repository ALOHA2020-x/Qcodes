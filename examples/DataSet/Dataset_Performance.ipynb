{
 "cells": [
  {
   "cell_type": "markdown",
   "metadata": {},
   "source": [
    "# DataSet Performance\n",
    "\n",
    "This notebook shows the trade-off between inserting data into a database row-by-row and as binary blobs. Inserting the data row-by-row means that we have direct access to all the data and may perform queries directly on the values of the data. On the other hand, as we shall see, this is much slower than inserting the data directly as binary blobs."
   ]
  },
  {
   "cell_type": "markdown",
   "metadata": {},
   "source": [
    "First, we choose a new location for the database to ensure that we don't add a bunch of benchmarking data to the default one."
   ]
  },
  {
   "cell_type": "code",
   "execution_count": 1,
   "metadata": {
    "execution": {
     "iopub.execute_input": "2021-05-12T07:40:20.664365Z",
     "iopub.status.busy": "2021-05-12T07:40:20.663673Z",
     "iopub.status.idle": "2021-05-12T07:40:22.069128Z",
     "shell.execute_reply": "2021-05-12T07:40:22.068407Z"
    }
   },
   "outputs": [
    {
     "name": "stdout",
     "output_type": "stream",
     "text": [
      "Logging hadn't been started.\n",
      "Activating auto-logging. Current session state plus future input saved.\n",
      "Filename       : /home/runner/.qcodes/logs/command_history.log\n",
      "Mode           : append\n",
      "Output logging : True\n",
      "Raw input log  : False\n",
      "Timestamping   : True\n",
      "State          : active\n"
     ]
    },
    {
     "name": "stdout",
     "output_type": "stream",
     "text": [
      "Qcodes Logfile : /home/runner/.qcodes/logs/210512-4828-qcodes.log\n"
     ]
    }
   ],
   "source": [
    "import os\n",
    "cwd = os.getcwd()\n",
    "import qcodes as qc\n",
    "qc.config[\"core\"][\"db_location\"] = os.path.join(cwd, 'testing.db')\n"
   ]
  },
  {
   "cell_type": "code",
   "execution_count": 2,
   "metadata": {
    "execution": {
     "iopub.execute_input": "2021-05-12T07:40:22.077495Z",
     "iopub.status.busy": "2021-05-12T07:40:22.075777Z",
     "iopub.status.idle": "2021-05-12T07:40:22.320787Z",
     "shell.execute_reply": "2021-05-12T07:40:22.319747Z"
    }
   },
   "outputs": [],
   "source": [
    "%matplotlib inline\n",
    "import time\n",
    "import matplotlib.pyplot as plt\n",
    "import numpy as np\n",
    "\n",
    "import qcodes as qc\n",
    "from qcodes.instrument.parameter import ManualParameter\n",
    "from qcodes.dataset.experiment_container import (Experiment,\n",
    "                                                 load_last_experiment,\n",
    "                                                 new_experiment)\n",
    "from qcodes.dataset.sqlite.database import initialise_database\n",
    "from qcodes import load_or_create_experiment\n",
    "from qcodes.dataset.measurements import Measurement"
   ]
  },
  {
   "cell_type": "code",
   "execution_count": 3,
   "metadata": {
    "execution": {
     "iopub.execute_input": "2021-05-12T07:40:22.324785Z",
     "iopub.status.busy": "2021-05-12T07:40:22.324033Z",
     "iopub.status.idle": "2021-05-12T07:40:22.426689Z",
     "shell.execute_reply": "2021-05-12T07:40:22.426070Z"
    }
   },
   "outputs": [
    {
     "name": "stdout",
     "output_type": "stream",
     "text": [
      "\r",
      "0it [00:00, ?it/s]"
     ]
    },
    {
     "name": "stdout",
     "output_type": "stream",
     "text": [
      "\r",
      "Upgrading database; v0 -> v1: : 0it [00:00, ?it/s]"
     ]
    },
    {
     "name": "stdout",
     "output_type": "stream",
     "text": [
      "\r",
      "Upgrading database; v0 -> v1: : 0it [00:00, ?it/s]"
     ]
    },
    {
     "name": "stdout",
     "output_type": "stream",
     "text": [
      "\n",
      "\r",
      "  0%|          | 0/1 [00:00<?, ?it/s]"
     ]
    },
    {
     "name": "stdout",
     "output_type": "stream",
     "text": [
      "\r",
      "Upgrading database; v1 -> v2:   0%|          | 0/1 [00:00<?, ?it/s]"
     ]
    },
    {
     "name": "stdout",
     "output_type": "stream",
     "text": [
      "\r",
      "Upgrading database; v1 -> v2: 100%|██████████| 1/1 [00:00<00:00, 365.52it/s]"
     ]
    },
    {
     "name": "stdout",
     "output_type": "stream",
     "text": [
      "\n",
      "\r",
      "0it [00:00, ?it/s]"
     ]
    },
    {
     "name": "stdout",
     "output_type": "stream",
     "text": [
      "\r",
      "Upgrading database; v2 -> v3: : 0it [00:00, ?it/s]"
     ]
    },
    {
     "name": "stdout",
     "output_type": "stream",
     "text": [
      "\r",
      "Upgrading database; v2 -> v3: : 0it [00:00, ?it/s]"
     ]
    },
    {
     "name": "stdout",
     "output_type": "stream",
     "text": [
      "\n",
      "\r",
      "0it [00:00, ?it/s]"
     ]
    },
    {
     "name": "stdout",
     "output_type": "stream",
     "text": [
      "\r",
      "Upgrading database; v3 -> v4: : 0it [00:00, ?it/s]"
     ]
    },
    {
     "name": "stdout",
     "output_type": "stream",
     "text": [
      "\r",
      "Upgrading database; v3 -> v4: : 0it [00:00, ?it/s]"
     ]
    },
    {
     "name": "stdout",
     "output_type": "stream",
     "text": [
      "\n",
      "\r",
      "  0%|          | 0/1 [00:00<?, ?it/s]"
     ]
    },
    {
     "name": "stdout",
     "output_type": "stream",
     "text": [
      "\r",
      "Upgrading database; v4 -> v5:   0%|          | 0/1 [00:00<?, ?it/s]"
     ]
    },
    {
     "name": "stdout",
     "output_type": "stream",
     "text": [
      "\r",
      "Upgrading database; v4 -> v5: 100%|██████████| 1/1 [00:00<00:00, 341.33it/s]"
     ]
    },
    {
     "name": "stdout",
     "output_type": "stream",
     "text": [
      "\n",
      "\r",
      "0it [00:00, ?it/s]"
     ]
    },
    {
     "name": "stdout",
     "output_type": "stream",
     "text": [
      "\r",
      "Upgrading database; v5 -> v6: : 0it [00:00, ?it/s]"
     ]
    },
    {
     "name": "stdout",
     "output_type": "stream",
     "text": [
      "\r",
      "Upgrading database; v5 -> v6: : 0it [00:00, ?it/s]"
     ]
    },
    {
     "name": "stdout",
     "output_type": "stream",
     "text": [
      "\n",
      "\r",
      "  0%|          | 0/1 [00:00<?, ?it/s]"
     ]
    },
    {
     "name": "stdout",
     "output_type": "stream",
     "text": [
      "\r",
      "Upgrading database; v6 -> v7:   0%|          | 0/1 [00:00<?, ?it/s]"
     ]
    },
    {
     "name": "stdout",
     "output_type": "stream",
     "text": [
      "\r",
      "Upgrading database; v6 -> v7: 100%|██████████| 1/1 [00:00<00:00, 179.02it/s]"
     ]
    },
    {
     "name": "stdout",
     "output_type": "stream",
     "text": [
      "\n",
      "\r",
      "  0%|          | 0/1 [00:00<?, ?it/s]"
     ]
    },
    {
     "name": "stdout",
     "output_type": "stream",
     "text": [
      "\r",
      "Upgrading database; v7 -> v8:   0%|          | 0/1 [00:00<?, ?it/s]"
     ]
    },
    {
     "name": "stdout",
     "output_type": "stream",
     "text": [
      "\r",
      "Upgrading database; v7 -> v8: 100%|██████████| 1/1 [00:00<00:00, 431.29it/s]"
     ]
    },
    {
     "name": "stdout",
     "output_type": "stream",
     "text": [
      "\n",
      "\r",
      "  0%|          | 0/1 [00:00<?, ?it/s]"
     ]
    },
    {
     "name": "stdout",
     "output_type": "stream",
     "text": [
      "\r",
      "Upgrading database; v8 -> v9:   0%|          | 0/1 [00:00<?, ?it/s]"
     ]
    },
    {
     "name": "stdout",
     "output_type": "stream",
     "text": [
      "\r",
      "Upgrading database; v8 -> v9: 100%|██████████| 1/1 [00:00<00:00, 752.07it/s]"
     ]
    },
    {
     "name": "stdout",
     "output_type": "stream",
     "text": [
      "\n"
     ]
    }
   ],
   "source": [
    "initialise_database()\n",
    "exp = load_or_create_experiment(experiment_name='tutorial_exp', sample_name=\"no sample\")"
   ]
  },
  {
   "cell_type": "markdown",
   "metadata": {},
   "source": [
    "Here, we define a simple function to benchmark the time it takes to insert n points with either numeric or array data type.\n",
    "We will compare both the time used to call ``add_result`` and the time used for the full measurement."
   ]
  },
  {
   "cell_type": "code",
   "execution_count": 4,
   "metadata": {
    "execution": {
     "iopub.execute_input": "2021-05-12T07:40:22.437749Z",
     "iopub.status.busy": "2021-05-12T07:40:22.437010Z",
     "iopub.status.idle": "2021-05-12T07:40:22.440353Z",
     "shell.execute_reply": "2021-05-12T07:40:22.440933Z"
    }
   },
   "outputs": [],
   "source": [
    "def insert_data(paramtype, npoints, nreps=1):\n",
    "\n",
    "    meas = Measurement(exp=exp)\n",
    "\n",
    "    x1 = ManualParameter('x1')\n",
    "    x2 = ManualParameter('x2')\n",
    "    x3 = ManualParameter('x3')\n",
    "    y1 = ManualParameter('y1')\n",
    "    y2 = ManualParameter('y2')\n",
    "\n",
    "    meas.register_parameter(x1, paramtype=paramtype)\n",
    "    meas.register_parameter(x2, paramtype=paramtype)\n",
    "    meas.register_parameter(x3, paramtype=paramtype)\n",
    "    meas.register_parameter(y1, setpoints=[x1, x2, x3],\n",
    "                            paramtype=paramtype)\n",
    "    meas.register_parameter(y2, setpoints=[x1, x2, x3],\n",
    "                            paramtype=paramtype)\n",
    "    start = time.perf_counter()\n",
    "    with meas.run() as datasaver:\n",
    "        start_adding = time.perf_counter()\n",
    "        for i in range(nreps):\n",
    "            datasaver.add_result((x1, np.random.rand(npoints)),\n",
    "                                 (x2, np.random.rand(npoints)),\n",
    "                                 (x3, np.random.rand(npoints)),\n",
    "                                 (y1, np.random.rand(npoints)),\n",
    "                                 (y2, np.random.rand(npoints)))\n",
    "        stop_adding = time.perf_counter()\n",
    "        run_id = datasaver.run_id\n",
    "    stop = time.perf_counter()\n",
    "    tot_time = stop - start\n",
    "    add_time = stop_adding - start_adding\n",
    "    return tot_time, add_time, run_id"
   ]
  },
  {
   "cell_type": "markdown",
   "metadata": {},
   "source": [
    "## Comparison between numeric/array data and binary blob"
   ]
  },
  {
   "cell_type": "markdown",
   "metadata": {},
   "source": [
    "### Case1: Short experiment time"
   ]
  },
  {
   "cell_type": "code",
   "execution_count": 5,
   "metadata": {
    "execution": {
     "iopub.execute_input": "2021-05-12T07:40:22.446929Z",
     "iopub.status.busy": "2021-05-12T07:40:22.446249Z",
     "iopub.status.idle": "2021-05-12T07:40:23.391362Z",
     "shell.execute_reply": "2021-05-12T07:40:23.392024Z"
    }
   },
   "outputs": [
    {
     "name": "stdout",
     "output_type": "stream",
     "text": [
      "Starting experimental run with id: 1. \n",
      "Starting experimental run with id: 2. \n",
      "Starting experimental run with id: 3. \n"
     ]
    },
    {
     "name": "stdout",
     "output_type": "stream",
     "text": [
      "Starting experimental run with id: 4. \n",
      "Starting experimental run with id: 5. \n"
     ]
    },
    {
     "name": "stdout",
     "output_type": "stream",
     "text": [
      "Starting experimental run with id: 6. \n",
      "Starting experimental run with id: 7. \n",
      "Starting experimental run with id: 8. \n"
     ]
    },
    {
     "name": "stdout",
     "output_type": "stream",
     "text": [
      "Starting experimental run with id: 9. \n"
     ]
    },
    {
     "name": "stdout",
     "output_type": "stream",
     "text": [
      "Starting experimental run with id: 10. \n",
      "Starting experimental run with id: 11. \n"
     ]
    },
    {
     "name": "stdout",
     "output_type": "stream",
     "text": [
      "Starting experimental run with id: 12. \n"
     ]
    },
    {
     "name": "stdout",
     "output_type": "stream",
     "text": [
      "Starting experimental run with id: 13. \n"
     ]
    },
    {
     "name": "stdout",
     "output_type": "stream",
     "text": [
      "Starting experimental run with id: 14. \n"
     ]
    }
   ],
   "source": [
    "sizes = [1,500,1000,2000,3000,4000,5000]\n",
    "t_numeric = []\n",
    "t_numeric_add = []\n",
    "t_array = []\n",
    "t_array_add = []\n",
    "for size in sizes:\n",
    "    tn, tna, run_id_n =  insert_data('numeric', size)\n",
    "    t_numeric.append(tn)\n",
    "    t_numeric_add.append(tna)\n",
    "\n",
    "    ta, taa, run_id_a =  insert_data('array', size)\n",
    "    t_array.append(ta)\n",
    "    t_array_add.append(taa)"
   ]
  },
  {
   "cell_type": "code",
   "execution_count": 6,
   "metadata": {
    "execution": {
     "iopub.execute_input": "2021-05-12T07:40:23.414832Z",
     "iopub.status.busy": "2021-05-12T07:40:23.414122Z",
     "iopub.status.idle": "2021-05-12T07:40:23.666627Z",
     "shell.execute_reply": "2021-05-12T07:40:23.667436Z"
    }
   },
   "outputs": [
    {
     "data": {
      "image/png": "[encoded data removed]",
      "text/plain": [
       "<Figure size 432x288 with 1 Axes>"
      ]
     },
     "metadata": {
      "needs_background": "light"
     },
     "output_type": "display_data"
    }
   ],
   "source": [
    "fig, ax = plt.subplots(1,1)\n",
    "ax.plot(sizes, t_numeric, 'o-', label='Inserting row-by-row')\n",
    "ax.plot(sizes, t_numeric_add, 'o-', label='Inserting row-by-row: add_result only')\n",
    "ax.plot(sizes, t_array, 'd-', label='Inserting as binary blob')\n",
    "ax.plot(sizes, t_array_add, 'd-', label='Inserting as binary blob: add_result only')\n",
    "ax.legend()\n",
    "ax.set_xlabel('Array length')\n",
    "ax.set_ylabel('Time (s)')\n",
    "fig.tight_layout()"
   ]
  },
  {
   "cell_type": "markdown",
   "metadata": {},
   "source": [
    "As shown in the latter figure, the time to setup and and close the experiment is approximately 0.4 sec. In case of small array sizes, the difference between inserting values of data as arrays and inserting them row-by-row is relatively unimportant. At larger array sizes, i.e. above 10000 points, the cost of writing data as individual datapoints starts to become important.\n"
   ]
  },
  {
   "cell_type": "markdown",
   "metadata": {},
   "source": [
    "### Case2: Long experiment time "
   ]
  },
  {
   "cell_type": "code",
   "execution_count": 7,
   "metadata": {
    "execution": {
     "iopub.execute_input": "2021-05-12T07:40:23.675672Z",
     "iopub.status.busy": "2021-05-12T07:40:23.674711Z",
     "iopub.status.idle": "2021-05-12T07:41:25.207891Z",
     "shell.execute_reply": "2021-05-12T07:41:25.207286Z"
    }
   },
   "outputs": [
    {
     "name": "stdout",
     "output_type": "stream",
     "text": [
      "Starting experimental run with id: 15. \n",
      "Starting experimental run with id: 16. \n"
     ]
    },
    {
     "name": "stdout",
     "output_type": "stream",
     "text": [
      "Starting experimental run with id: 17. \n"
     ]
    },
    {
     "name": "stdout",
     "output_type": "stream",
     "text": [
      "Starting experimental run with id: 18. \n"
     ]
    },
    {
     "name": "stdout",
     "output_type": "stream",
     "text": [
      "Starting experimental run with id: 19. \n"
     ]
    },
    {
     "name": "stdout",
     "output_type": "stream",
     "text": [
      "Starting experimental run with id: 20. \n"
     ]
    },
    {
     "name": "stdout",
     "output_type": "stream",
     "text": [
      "Starting experimental run with id: 21. \n"
     ]
    },
    {
     "name": "stdout",
     "output_type": "stream",
     "text": [
      "Starting experimental run with id: 22. \n"
     ]
    },
    {
     "name": "stdout",
     "output_type": "stream",
     "text": [
      "Starting experimental run with id: 23. \n"
     ]
    },
    {
     "name": "stdout",
     "output_type": "stream",
     "text": [
      "Starting experimental run with id: 24. \n"
     ]
    },
    {
     "name": "stdout",
     "output_type": "stream",
     "text": [
      "Starting experimental run with id: 25. \n"
     ]
    },
    {
     "name": "stdout",
     "output_type": "stream",
     "text": [
      "Starting experimental run with id: 26. \n"
     ]
    },
    {
     "name": "stdout",
     "output_type": "stream",
     "text": [
      "Starting experimental run with id: 27. \n"
     ]
    },
    {
     "name": "stdout",
     "output_type": "stream",
     "text": [
      "Starting experimental run with id: 28. \n"
     ]
    }
   ],
   "source": [
    "sizes = [1,500,1000,2000,3000,4000,5000]\n",
    "nreps = 100\n",
    "t_numeric = []\n",
    "t_numeric_add = []\n",
    "t_numeric_run_ids = []\n",
    "t_array = []\n",
    "t_array_add = []\n",
    "t_array_run_ids = []\n",
    "for size in sizes:\n",
    "    tn, tna, run_id_n =  insert_data('numeric', size, nreps=nreps)\n",
    "    t_numeric.append(tn)\n",
    "    t_numeric_add.append(tna)\n",
    "    t_numeric_run_ids.append(run_id_n)\n",
    "\n",
    "    ta, taa, run_id_a =  insert_data('array', size, nreps=nreps)\n",
    "    t_array.append(ta)\n",
    "    t_array_add.append(taa)\n",
    "    t_array_run_ids.append(run_id_a)"
   ]
  },
  {
   "cell_type": "code",
   "execution_count": 8,
   "metadata": {
    "execution": {
     "iopub.execute_input": "2021-05-12T07:41:25.255677Z",
     "iopub.status.busy": "2021-05-12T07:41:25.229083Z",
     "iopub.status.idle": "2021-05-12T07:41:25.475207Z",
     "shell.execute_reply": "2021-05-12T07:41:25.475731Z"
    },
    "scrolled": true
   },
   "outputs": [
    {
     "data": {
      "image/png": "[encoded data removed]",
      "text/plain": [
       "<Figure size 432x288 with 1 Axes>"
      ]
     },
     "metadata": {
      "needs_background": "light"
     },
     "output_type": "display_data"
    }
   ],
   "source": [
    "fig, ax = plt.subplots(1,1)\n",
    "ax.plot(sizes, t_numeric, 'o-', label='Inserting row-by-row')\n",
    "ax.plot(sizes, t_numeric_add, 'o-', label='Inserting row-by-row: add_result only')\n",
    "ax.plot(sizes, t_array, 'd-', label='Inserting as binary blob')\n",
    "ax.plot(sizes, t_array_add, 'd-', label='Inserting as binary blob: add_result only')\n",
    "ax.legend()\n",
    "ax.set_xlabel('Array length')\n",
    "ax.set_ylabel('Time (s)')\n",
    "fig.tight_layout()"
   ]
  },
  {
   "cell_type": "markdown",
   "metadata": {},
   "source": [
    "However, as we increase the length of the experiment, as seen here by repeating the insertion 100 times, we see a big difference between inserting values of the data row-by-row and inserting it as a binary blob."
   ]
  },
  {
   "cell_type": "markdown",
   "metadata": {},
   "source": [
    "## Loading the data "
   ]
  },
  {
   "cell_type": "code",
   "execution_count": 9,
   "metadata": {
    "execution": {
     "iopub.execute_input": "2021-05-12T07:41:25.481802Z",
     "iopub.status.busy": "2021-05-12T07:41:25.480215Z",
     "iopub.status.idle": "2021-05-12T07:41:25.482983Z",
     "shell.execute_reply": "2021-05-12T07:41:25.483540Z"
    }
   },
   "outputs": [],
   "source": [
    "from qcodes.dataset.data_set import load_by_id"
   ]
  },
  {
   "cell_type": "markdown",
   "metadata": {},
   "source": [
    "As usual you can load the data by using the ``load_by_id`` function but you will notice that the different storage methods\n",
    "are reflected in shape of the data as it is retrieved. "
   ]
  },
  {
   "cell_type": "code",
   "execution_count": 10,
   "metadata": {
    "execution": {
     "iopub.execute_input": "2021-05-12T07:41:25.488344Z",
     "iopub.status.busy": "2021-05-12T07:41:25.487164Z",
     "iopub.status.idle": "2021-05-12T07:41:25.490071Z",
     "shell.execute_reply": "2021-05-12T07:41:25.489514Z"
    }
   },
   "outputs": [],
   "source": [
    "run_id_n = t_numeric_run_ids[0]\n",
    "run_id_a = t_array_run_ids[0]"
   ]
  },
  {
   "cell_type": "code",
   "execution_count": 11,
   "metadata": {
    "execution": {
     "iopub.execute_input": "2021-05-12T07:41:25.493830Z",
     "iopub.status.busy": "2021-05-12T07:41:25.493158Z",
     "iopub.status.idle": "2021-05-12T07:41:25.504890Z",
     "shell.execute_reply": "2021-05-12T07:41:25.505482Z"
    },
    "scrolled": true
   },
   "outputs": [
    {
     "data": {
      "text/plain": [
       "{'x1': {'x1': array([0.85548867, 0.85548867, 0.99371637, 0.99371637, 0.79445148,\n",
       "         0.79445148, 0.57171951, 0.57171951, 0.00278972, 0.00278972,\n",
       "         0.39653851, 0.39653851, 0.05795833, 0.05795833, 0.75039215,\n",
       "         0.75039215, 0.74864116, 0.74864116, 0.59920182, 0.59920182,\n",
       "         0.96881343, 0.96881343, 0.63758645, 0.63758645, 0.52669095,\n",
       "         0.52669095, 0.37259405, 0.37259405, 0.42979147, 0.42979147,\n",
       "         0.42458407, 0.42458407, 0.19396815, 0.19396815, 0.29882567,\n",
       "         0.29882567, 0.85817318, 0.85817318, 0.33170302, 0.33170302,\n",
       "         0.88501031, 0.88501031, 0.65885885, 0.65885885, 0.04521978,\n",
       "         0.04521978, 0.84125593, 0.84125593, 0.64277878, 0.64277878,\n",
       "         0.60073481, 0.60073481, 0.79032242, 0.79032242, 0.81837033,\n",
       "         0.81837033, 0.3474499 , 0.3474499 , 0.44682487, 0.44682487,\n",
       "         0.4127215 , 0.4127215 , 0.06018181, 0.06018181, 0.52147934,\n",
       "         0.52147934, 0.23187635, 0.23187635, 0.81737221, 0.81737221,\n",
       "         0.04354965, 0.04354965, 0.56929024, 0.56929024, 0.0642086 ,\n",
       "         0.0642086 , 0.97654486, 0.97654486, 0.82208318, 0.82208318,\n",
       "         0.50173516, 0.50173516, 0.7512168 , 0.7512168 , 0.25174947,\n",
       "         0.25174947, 0.60230985, 0.60230985, 0.23881001, 0.23881001,\n",
       "         0.76375091, 0.76375091, 0.87055521, 0.87055521, 0.76425692,\n",
       "         0.76425692, 0.60350011, 0.60350011, 0.4856183 , 0.4856183 ,\n",
       "         0.48935697, 0.48935697, 0.90219457, 0.90219457, 0.85576441,\n",
       "         0.85576441, 0.25998508, 0.25998508, 0.04632351, 0.04632351,\n",
       "         0.93112092, 0.93112092, 0.73559471, 0.73559471, 0.62060308,\n",
       "         0.62060308, 0.49016189, 0.49016189, 0.04408378, 0.04408378,\n",
       "         0.6055984 , 0.6055984 , 0.15513051, 0.15513051, 0.86130902,\n",
       "         0.86130902, 0.48388339, 0.48388339, 0.59770632, 0.59770632,\n",
       "         0.04109541, 0.04109541, 0.8111793 , 0.8111793 , 0.7091724 ,\n",
       "         0.7091724 , 0.66123566, 0.66123566, 0.74250719, 0.74250719,\n",
       "         0.90174353, 0.90174353, 0.93898436, 0.93898436, 0.93994172,\n",
       "         0.93994172, 0.56819583, 0.56819583, 0.48659925, 0.48659925,\n",
       "         0.6975638 , 0.6975638 , 0.95128771, 0.95128771, 0.16976953,\n",
       "         0.16976953, 0.47600086, 0.47600086, 0.86625306, 0.86625306,\n",
       "         0.83479841, 0.83479841, 0.75016982, 0.75016982, 0.50677206,\n",
       "         0.50677206, 0.14705543, 0.14705543, 0.78099539, 0.78099539,\n",
       "         0.9932145 , 0.9932145 , 0.45426913, 0.45426913, 0.56510823,\n",
       "         0.56510823, 0.94440125, 0.94440125, 0.37862363, 0.37862363,\n",
       "         0.97650331, 0.97650331, 0.2755183 , 0.2755183 , 0.03970489,\n",
       "         0.03970489, 0.16751049, 0.16751049, 0.72660659, 0.72660659,\n",
       "         0.56958285, 0.56958285, 0.66931963, 0.66931963, 0.31090926,\n",
       "         0.31090926, 0.28760694, 0.28760694, 0.05001834, 0.05001834])}}"
      ]
     },
     "execution_count": 1,
     "metadata": {},
     "output_type": "execute_result"
    }
   ],
   "source": [
    "ds = load_by_id(run_id_n)\n",
    "ds.get_parameter_data('x1')"
   ]
  },
  {
   "cell_type": "markdown",
   "metadata": {},
   "source": [
    "And a dataset stored as binary arrays"
   ]
  },
  {
   "cell_type": "code",
   "execution_count": 12,
   "metadata": {
    "execution": {
     "iopub.execute_input": "2021-05-12T07:41:25.509579Z",
     "iopub.status.busy": "2021-05-12T07:41:25.508892Z",
     "iopub.status.idle": "2021-05-12T07:41:25.580324Z",
     "shell.execute_reply": "2021-05-12T07:41:25.580889Z"
    },
    "scrolled": true
   },
   "outputs": [
    {
     "data": {
      "text/plain": [
       "{'x1': {'x1': array([[0.00422721],\n",
       "         [0.00422721],\n",
       "         [0.66081373],\n",
       "         [0.66081373],\n",
       "         [0.91352236],\n",
       "         [0.91352236],\n",
       "         [0.36281939],\n",
       "         [0.36281939],\n",
       "         [0.66342133],\n",
       "         [0.66342133],\n",
       "         [0.46787364],\n",
       "         [0.46787364],\n",
       "         [0.1379119 ],\n",
       "         [0.1379119 ],\n",
       "         [0.44757761],\n",
       "         [0.44757761],\n",
       "         [0.67423675],\n",
       "         [0.67423675],\n",
       "         [0.49168962],\n",
       "         [0.49168962],\n",
       "         [0.89012999],\n",
       "         [0.89012999],\n",
       "         [0.62688175],\n",
       "         [0.62688175],\n",
       "         [0.2225696 ],\n",
       "         [0.2225696 ],\n",
       "         [0.24666505],\n",
       "         [0.24666505],\n",
       "         [0.61656977],\n",
       "         [0.61656977],\n",
       "         [0.15701491],\n",
       "         [0.15701491],\n",
       "         [0.51946317],\n",
       "         [0.51946317],\n",
       "         [0.20343624],\n",
       "         [0.20343624],\n",
       "         [0.4269597 ],\n",
       "         [0.4269597 ],\n",
       "         [0.6674652 ],\n",
       "         [0.6674652 ],\n",
       "         [0.01482792],\n",
       "         [0.01482792],\n",
       "         [0.29557583],\n",
       "         [0.29557583],\n",
       "         [0.86368332],\n",
       "         [0.86368332],\n",
       "         [0.97199846],\n",
       "         [0.97199846],\n",
       "         [0.5612706 ],\n",
       "         [0.5612706 ],\n",
       "         [0.0147465 ],\n",
       "         [0.0147465 ],\n",
       "         [0.16949573],\n",
       "         [0.16949573],\n",
       "         [0.53176291],\n",
       "         [0.53176291],\n",
       "         [0.93519635],\n",
       "         [0.93519635],\n",
       "         [0.75093437],\n",
       "         [0.75093437],\n",
       "         [0.22168446],\n",
       "         [0.22168446],\n",
       "         [0.89850508],\n",
       "         [0.89850508],\n",
       "         [0.20840669],\n",
       "         [0.20840669],\n",
       "         [0.2328154 ],\n",
       "         [0.2328154 ],\n",
       "         [0.95566139],\n",
       "         [0.95566139],\n",
       "         [0.43348153],\n",
       "         [0.43348153],\n",
       "         [0.46870833],\n",
       "         [0.46870833],\n",
       "         [0.22793098],\n",
       "         [0.22793098],\n",
       "         [0.93160674],\n",
       "         [0.93160674],\n",
       "         [0.82265952],\n",
       "         [0.82265952],\n",
       "         [0.26936277],\n",
       "         [0.26936277],\n",
       "         [0.36154221],\n",
       "         [0.36154221],\n",
       "         [0.55121189],\n",
       "         [0.55121189],\n",
       "         [0.30602602],\n",
       "         [0.30602602],\n",
       "         [0.43448162],\n",
       "         [0.43448162],\n",
       "         [0.21991846],\n",
       "         [0.21991846],\n",
       "         [0.69773143],\n",
       "         [0.69773143],\n",
       "         [0.25053575],\n",
       "         [0.25053575],\n",
       "         [0.51644722],\n",
       "         [0.51644722],\n",
       "         [0.82104153],\n",
       "         [0.82104153],\n",
       "         [0.25418752],\n",
       "         [0.25418752],\n",
       "         [0.49466742],\n",
       "         [0.49466742],\n",
       "         [0.62233593],\n",
       "         [0.62233593],\n",
       "         [0.62196733],\n",
       "         [0.62196733],\n",
       "         [0.04070806],\n",
       "         [0.04070806],\n",
       "         [0.13659408],\n",
       "         [0.13659408],\n",
       "         [0.96838091],\n",
       "         [0.96838091],\n",
       "         [0.55043266],\n",
       "         [0.55043266],\n",
       "         [0.24688833],\n",
       "         [0.24688833],\n",
       "         [0.97197615],\n",
       "         [0.97197615],\n",
       "         [0.52878759],\n",
       "         [0.52878759],\n",
       "         [0.53666086],\n",
       "         [0.53666086],\n",
       "         [0.3887561 ],\n",
       "         [0.3887561 ],\n",
       "         [0.20753426],\n",
       "         [0.20753426],\n",
       "         [0.26063467],\n",
       "         [0.26063467],\n",
       "         [0.8737102 ],\n",
       "         [0.8737102 ],\n",
       "         [0.94244554],\n",
       "         [0.94244554],\n",
       "         [0.22430541],\n",
       "         [0.22430541],\n",
       "         [0.88281756],\n",
       "         [0.88281756],\n",
       "         [0.89611475],\n",
       "         [0.89611475],\n",
       "         [0.98207232],\n",
       "         [0.98207232],\n",
       "         [0.39322947],\n",
       "         [0.39322947],\n",
       "         [0.44679869],\n",
       "         [0.44679869],\n",
       "         [0.352964  ],\n",
       "         [0.352964  ],\n",
       "         [0.78192865],\n",
       "         [0.78192865],\n",
       "         [0.05493039],\n",
       "         [0.05493039],\n",
       "         [0.64860681],\n",
       "         [0.64860681],\n",
       "         [0.96027224],\n",
       "         [0.96027224],\n",
       "         [0.39446978],\n",
       "         [0.39446978],\n",
       "         [0.25517919],\n",
       "         [0.25517919],\n",
       "         [0.17493199],\n",
       "         [0.17493199],\n",
       "         [0.48421576],\n",
       "         [0.48421576],\n",
       "         [0.2465703 ],\n",
       "         [0.2465703 ],\n",
       "         [0.29454108],\n",
       "         [0.29454108],\n",
       "         [0.325589  ],\n",
       "         [0.325589  ],\n",
       "         [0.76596745],\n",
       "         [0.76596745],\n",
       "         [0.05442958],\n",
       "         [0.05442958],\n",
       "         [0.89004849],\n",
       "         [0.89004849],\n",
       "         [0.25721534],\n",
       "         [0.25721534],\n",
       "         [0.65294524],\n",
       "         [0.65294524],\n",
       "         [0.39038991],\n",
       "         [0.39038991],\n",
       "         [0.94934126],\n",
       "         [0.94934126],\n",
       "         [0.08915157],\n",
       "         [0.08915157],\n",
       "         [0.72093891],\n",
       "         [0.72093891],\n",
       "         [0.51021815],\n",
       "         [0.51021815],\n",
       "         [0.45283315],\n",
       "         [0.45283315],\n",
       "         [0.87598695],\n",
       "         [0.87598695],\n",
       "         [0.58222072],\n",
       "         [0.58222072],\n",
       "         [0.22713153],\n",
       "         [0.22713153],\n",
       "         [0.36835333],\n",
       "         [0.36835333]])}}"
      ]
     },
     "execution_count": 1,
     "metadata": {},
     "output_type": "execute_result"
    }
   ],
   "source": [
    "ds = load_by_id(run_id_a)\n",
    "ds.get_parameter_data('x1')"
   ]
  },
  {
   "cell_type": "code",
   "execution_count": null,
   "metadata": {},
   "outputs": [],
   "source": []
  }
 ],
 "metadata": {
  "kernelspec": {
   "display_name": "Python 3",
   "language": "python",
   "name": "python3"
  },
  "language_info": {
   "codemirror_mode": {
    "name": "ipython",
    "version": 3
   },
   "file_extension": ".py",
   "mimetype": "text/x-python",
   "name": "python",
   "nbconvert_exporter": "python",
   "pygments_lexer": "ipython3",
   "version": "3.7.10"
  },
  "nbsphinx": {
   "timeout": 600
  },
  "toc": {
   "base_numbering": 1,
   "nav_menu": {},
   "number_sections": true,
   "sideBar": true,
   "skip_h1_title": false,
   "title_cell": "Table of Contents",
   "title_sidebar": "Contents",
   "toc_cell": false,
   "toc_position": {},
   "toc_section_display": true,
   "toc_window_display": false
  },
  "varInspector": {
   "cols": {
    "lenName": 16,
    "lenType": 16,
    "lenVar": 40
   },
   "kernels_config": {
    "python": {
     "delete_cmd_postfix": "",
     "delete_cmd_prefix": "del ",
     "library": "var_list.py",
     "varRefreshCmd": "print(var_dic_list())"
    },
    "r": {
     "delete_cmd_postfix": ") ",
     "delete_cmd_prefix": "rm(",
     "library": "var_list.r",
     "varRefreshCmd": "cat(var_dic_list()) "
    }
   },
   "types_to_exclude": [
    "module",
    "function",
    "builtin_function_or_method",
    "instance",
    "_Feature"
   ],
   "window_display": false
  }
 },
 "nbformat": 4,
 "nbformat_minor": 4
}
