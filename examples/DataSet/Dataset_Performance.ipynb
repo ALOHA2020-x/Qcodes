{
 "cells": [
  {
   "cell_type": "markdown",
   "metadata": {},
   "source": [
    "# DataSet Performance\n",
    "\n",
    "This notebook shows the trade-off between inserting data into a database row-by-row and as binary blobs. Inserting the data row-by-row means that we have direct access to all the data and may perform queries directly on the values of the data. On the other hand, as we shall see, this is much slower than inserting the data directly as binary blobs."
   ]
  },
  {
   "cell_type": "markdown",
   "metadata": {},
   "source": [
    "First, we choose a new location for the database to ensure that we don't add a bunch of benchmarking data to the default one."
   ]
  },
  {
   "cell_type": "code",
   "execution_count": 1,
   "metadata": {
    "execution": {
     "iopub.execute_input": "2021-05-03T07:22:20.284319Z",
     "iopub.status.busy": "2021-05-03T07:22:20.283767Z",
     "iopub.status.idle": "2021-05-03T07:22:21.262586Z",
     "shell.execute_reply": "2021-05-03T07:22:21.261920Z"
    }
   },
   "outputs": [
    {
     "name": "stdout",
     "output_type": "stream",
     "text": [
      "Logging hadn't been started.\n",
      "Activating auto-logging. Current session state plus future input saved.\n",
      "Filename       : /home/runner/.qcodes/logs/command_history.log\n",
      "Mode           : append\n",
      "Output logging : True\n",
      "Raw input log  : False\n",
      "Timestamping   : True\n",
      "State          : active\n"
     ]
    },
    {
     "name": "stdout",
     "output_type": "stream",
     "text": [
      "Qcodes Logfile : /home/runner/.qcodes/logs/210503-4368-qcodes.log\n"
     ]
    }
   ],
   "source": [
    "import os\n",
    "cwd = os.getcwd()\n",
    "import qcodes as qc\n",
    "qc.config[\"core\"][\"db_location\"] = os.path.join(cwd, 'testing.db')\n"
   ]
  },
  {
   "cell_type": "code",
   "execution_count": 2,
   "metadata": {
    "execution": {
     "iopub.execute_input": "2021-05-03T07:22:21.268844Z",
     "iopub.status.busy": "2021-05-03T07:22:21.267872Z",
     "iopub.status.idle": "2021-05-03T07:22:21.431380Z",
     "shell.execute_reply": "2021-05-03T07:22:21.430830Z"
    }
   },
   "outputs": [],
   "source": [
    "%matplotlib inline\n",
    "import time\n",
    "import matplotlib.pyplot as plt\n",
    "import numpy as np\n",
    "\n",
    "import qcodes as qc\n",
    "from qcodes.instrument.parameter import ManualParameter\n",
    "from qcodes.dataset.experiment_container import (Experiment,\n",
    "                                                 load_last_experiment,\n",
    "                                                 new_experiment)\n",
    "from qcodes.dataset.sqlite.database import initialise_database\n",
    "from qcodes import load_or_create_experiment\n",
    "from qcodes.dataset.measurements import Measurement"
   ]
  },
  {
   "cell_type": "code",
   "execution_count": 3,
   "metadata": {
    "execution": {
     "iopub.execute_input": "2021-05-03T07:22:21.435096Z",
     "iopub.status.busy": "2021-05-03T07:22:21.434410Z",
     "iopub.status.idle": "2021-05-03T07:22:21.537804Z",
     "shell.execute_reply": "2021-05-03T07:22:21.538161Z"
    }
   },
   "outputs": [
    {
     "name": "stdout",
     "output_type": "stream",
     "text": [
      "\r",
      "0it [00:00, ?it/s]"
     ]
    },
    {
     "name": "stdout",
     "output_type": "stream",
     "text": [
      "\r",
      "Upgrading database; v0 -> v1: : 0it [00:00, ?it/s]"
     ]
    },
    {
     "name": "stdout",
     "output_type": "stream",
     "text": [
      "\r",
      "Upgrading database; v0 -> v1: : 0it [00:00, ?it/s]"
     ]
    },
    {
     "name": "stdout",
     "output_type": "stream",
     "text": [
      "\n",
      "\r",
      "  0%|          | 0/1 [00:00<?, ?it/s]"
     ]
    },
    {
     "name": "stdout",
     "output_type": "stream",
     "text": [
      "\r",
      "Upgrading database; v1 -> v2:   0%|          | 0/1 [00:00<?, ?it/s]"
     ]
    },
    {
     "name": "stdout",
     "output_type": "stream",
     "text": [
      "\r",
      "Upgrading database; v1 -> v2: 100%|██████████| 1/1 [00:00<00:00, 689.97it/s]"
     ]
    },
    {
     "name": "stdout",
     "output_type": "stream",
     "text": [
      "\n",
      "\r",
      "0it [00:00, ?it/s]"
     ]
    },
    {
     "name": "stdout",
     "output_type": "stream",
     "text": [
      "\r",
      "Upgrading database; v2 -> v3: : 0it [00:00, ?it/s]"
     ]
    },
    {
     "name": "stdout",
     "output_type": "stream",
     "text": [
      "\r",
      "Upgrading database; v2 -> v3: : 0it [00:00, ?it/s]"
     ]
    },
    {
     "name": "stdout",
     "output_type": "stream",
     "text": [
      "\n",
      "\r",
      "0it [00:00, ?it/s]"
     ]
    },
    {
     "name": "stdout",
     "output_type": "stream",
     "text": [
      "\r",
      "Upgrading database; v3 -> v4: : 0it [00:00, ?it/s]"
     ]
    },
    {
     "name": "stdout",
     "output_type": "stream",
     "text": [
      "\r",
      "Upgrading database; v3 -> v4: : 0it [00:00, ?it/s]"
     ]
    },
    {
     "name": "stdout",
     "output_type": "stream",
     "text": [
      "\n",
      "\r",
      "  0%|          | 0/1 [00:00<?, ?it/s]"
     ]
    },
    {
     "name": "stdout",
     "output_type": "stream",
     "text": [
      "\r",
      "Upgrading database; v4 -> v5:   0%|          | 0/1 [00:00<?, ?it/s]"
     ]
    },
    {
     "name": "stdout",
     "output_type": "stream",
     "text": [
      "\r",
      "Upgrading database; v4 -> v5: 100%|██████████| 1/1 [00:00<00:00, 868.21it/s]"
     ]
    },
    {
     "name": "stdout",
     "output_type": "stream",
     "text": [
      "\n",
      "\r",
      "0it [00:00, ?it/s]"
     ]
    },
    {
     "name": "stdout",
     "output_type": "stream",
     "text": [
      "\r",
      "Upgrading database; v5 -> v6: : 0it [00:00, ?it/s]"
     ]
    },
    {
     "name": "stdout",
     "output_type": "stream",
     "text": [
      "\r",
      "Upgrading database; v5 -> v6: : 0it [00:00, ?it/s]"
     ]
    },
    {
     "name": "stdout",
     "output_type": "stream",
     "text": [
      "\n",
      "\r",
      "  0%|          | 0/1 [00:00<?, ?it/s]"
     ]
    },
    {
     "name": "stdout",
     "output_type": "stream",
     "text": [
      "\r",
      "Upgrading database; v6 -> v7:   0%|          | 0/1 [00:00<?, ?it/s]"
     ]
    },
    {
     "name": "stdout",
     "output_type": "stream",
     "text": [
      "\r",
      "Upgrading database; v6 -> v7: 100%|██████████| 1/1 [00:00<00:00, 368.63it/s]"
     ]
    },
    {
     "name": "stdout",
     "output_type": "stream",
     "text": [
      "\n",
      "\r",
      "  0%|          | 0/1 [00:00<?, ?it/s]"
     ]
    },
    {
     "name": "stdout",
     "output_type": "stream",
     "text": [
      "\r",
      "Upgrading database; v7 -> v8:   0%|          | 0/1 [00:00<?, ?it/s]"
     ]
    },
    {
     "name": "stdout",
     "output_type": "stream",
     "text": [
      "\r",
      "Upgrading database; v7 -> v8: 100%|██████████| 1/1 [00:00<00:00, 539.53it/s]"
     ]
    },
    {
     "name": "stdout",
     "output_type": "stream",
     "text": [
      "\n",
      "\r",
      "  0%|          | 0/1 [00:00<?, ?it/s]"
     ]
    },
    {
     "name": "stdout",
     "output_type": "stream",
     "text": [
      "\r",
      "Upgrading database; v8 -> v9:   0%|          | 0/1 [00:00<?, ?it/s]"
     ]
    },
    {
     "name": "stdout",
     "output_type": "stream",
     "text": [
      "\r",
      "Upgrading database; v8 -> v9: 100%|██████████| 1/1 [00:00<00:00, 575.98it/s]"
     ]
    },
    {
     "name": "stdout",
     "output_type": "stream",
     "text": [
      "\n"
     ]
    }
   ],
   "source": [
    "initialise_database()\n",
    "exp = load_or_create_experiment(experiment_name='tutorial_exp', sample_name=\"no sample\")"
   ]
  },
  {
   "cell_type": "markdown",
   "metadata": {},
   "source": [
    "Here, we define a simple function to benchmark the time it takes to insert n points with either numeric or array data type.\n",
    "We will compare both the time used to call ``add_result`` and the time used for the full measurement."
   ]
  },
  {
   "cell_type": "code",
   "execution_count": 4,
   "metadata": {
    "execution": {
     "iopub.execute_input": "2021-05-03T07:22:21.545679Z",
     "iopub.status.busy": "2021-05-03T07:22:21.544889Z",
     "iopub.status.idle": "2021-05-03T07:22:21.546421Z",
     "shell.execute_reply": "2021-05-03T07:22:21.546787Z"
    }
   },
   "outputs": [],
   "source": [
    "def insert_data(paramtype, npoints, nreps=1):\n",
    "\n",
    "    meas = Measurement(exp=exp)\n",
    "\n",
    "    x1 = ManualParameter('x1')\n",
    "    x2 = ManualParameter('x2')\n",
    "    x3 = ManualParameter('x3')\n",
    "    y1 = ManualParameter('y1')\n",
    "    y2 = ManualParameter('y2')\n",
    "\n",
    "    meas.register_parameter(x1, paramtype=paramtype)\n",
    "    meas.register_parameter(x2, paramtype=paramtype)\n",
    "    meas.register_parameter(x3, paramtype=paramtype)\n",
    "    meas.register_parameter(y1, setpoints=[x1, x2, x3],\n",
    "                            paramtype=paramtype)\n",
    "    meas.register_parameter(y2, setpoints=[x1, x2, x3],\n",
    "                            paramtype=paramtype)\n",
    "    start = time.perf_counter()\n",
    "    with meas.run() as datasaver:\n",
    "        start_adding = time.perf_counter()\n",
    "        for i in range(nreps):\n",
    "            datasaver.add_result((x1, np.random.rand(npoints)),\n",
    "                                 (x2, np.random.rand(npoints)),\n",
    "                                 (x3, np.random.rand(npoints)),\n",
    "                                 (y1, np.random.rand(npoints)),\n",
    "                                 (y2, np.random.rand(npoints)))\n",
    "        stop_adding = time.perf_counter()\n",
    "        run_id = datasaver.run_id\n",
    "    stop = time.perf_counter()\n",
    "    tot_time = stop - start\n",
    "    add_time = stop_adding - start_adding\n",
    "    return tot_time, add_time, run_id"
   ]
  },
  {
   "cell_type": "markdown",
   "metadata": {},
   "source": [
    "## Comparison between numeric/array data and binary blob"
   ]
  },
  {
   "cell_type": "markdown",
   "metadata": {},
   "source": [
    "### Case1: Short experiment time"
   ]
  },
  {
   "cell_type": "code",
   "execution_count": 5,
   "metadata": {
    "execution": {
     "iopub.execute_input": "2021-05-03T07:22:21.552090Z",
     "iopub.status.busy": "2021-05-03T07:22:21.551049Z",
     "iopub.status.idle": "2021-05-03T07:22:22.143903Z",
     "shell.execute_reply": "2021-05-03T07:22:22.144289Z"
    }
   },
   "outputs": [
    {
     "name": "stdout",
     "output_type": "stream",
     "text": [
      "Starting experimental run with id: 1. \n",
      "Starting experimental run with id: 2. \n",
      "Starting experimental run with id: 3. \n",
      "Starting experimental run with id: 4. \n",
      "Starting experimental run with id: 5. \n",
      "Starting experimental run with id: 6. \n",
      "Starting experimental run with id: 7. \n"
     ]
    },
    {
     "name": "stdout",
     "output_type": "stream",
     "text": [
      "Starting experimental run with id: 8. \n",
      "Starting experimental run with id: 9. \n"
     ]
    },
    {
     "name": "stdout",
     "output_type": "stream",
     "text": [
      "Starting experimental run with id: 10. \n",
      "Starting experimental run with id: 11. \n"
     ]
    },
    {
     "name": "stdout",
     "output_type": "stream",
     "text": [
      "Starting experimental run with id: 12. \n",
      "Starting experimental run with id: 13. \n"
     ]
    },
    {
     "name": "stdout",
     "output_type": "stream",
     "text": [
      "Starting experimental run with id: 14. \n"
     ]
    }
   ],
   "source": [
    "sizes = [1,500,1000,2000,3000,4000,5000]\n",
    "t_numeric = []\n",
    "t_numeric_add = []\n",
    "t_array = []\n",
    "t_array_add = []\n",
    "for size in sizes:\n",
    "    tn, tna, run_id_n =  insert_data('numeric', size)\n",
    "    t_numeric.append(tn)\n",
    "    t_numeric_add.append(tna)\n",
    "\n",
    "    ta, taa, run_id_a =  insert_data('array', size)\n",
    "    t_array.append(ta)\n",
    "    t_array_add.append(taa)"
   ]
  },
  {
   "cell_type": "code",
   "execution_count": 6,
   "metadata": {
    "execution": {
     "iopub.execute_input": "2021-05-03T07:22:22.183800Z",
     "iopub.status.busy": "2021-05-03T07:22:22.170745Z",
     "iopub.status.idle": "2021-05-03T07:22:22.310955Z",
     "shell.execute_reply": "2021-05-03T07:22:22.311562Z"
    }
   },
   "outputs": [
    {
     "data": {
      "image/png": "[encoded data removed]",
      "text/plain": [
       "<Figure size 432x288 with 1 Axes>"
      ]
     },
     "metadata": {
      "needs_background": "light"
     },
     "output_type": "display_data"
    }
   ],
   "source": [
    "fig, ax = plt.subplots(1,1)\n",
    "ax.plot(sizes, t_numeric, 'o-', label='Inserting row-by-row')\n",
    "ax.plot(sizes, t_numeric_add, 'o-', label='Inserting row-by-row: add_result only')\n",
    "ax.plot(sizes, t_array, 'd-', label='Inserting as binary blob')\n",
    "ax.plot(sizes, t_array_add, 'd-', label='Inserting as binary blob: add_result only')\n",
    "ax.legend()\n",
    "ax.set_xlabel('Array length')\n",
    "ax.set_ylabel('Time (s)')\n",
    "fig.tight_layout()"
   ]
  },
  {
   "cell_type": "markdown",
   "metadata": {},
   "source": [
    "As shown in the latter figure, the time to setup and and close the experiment is approximately 0.4 sec. In case of small array sizes, the difference between inserting values of data as arrays and inserting them row-by-row is relatively unimportant. At larger array sizes, i.e. above 10000 points, the cost of writing data as individual datapoints starts to become important.\n"
   ]
  },
  {
   "cell_type": "markdown",
   "metadata": {},
   "source": [
    "### Case2: Long experiment time "
   ]
  },
  {
   "cell_type": "code",
   "execution_count": 7,
   "metadata": {
    "execution": {
     "iopub.execute_input": "2021-05-03T07:22:22.314598Z",
     "iopub.status.busy": "2021-05-03T07:22:22.313702Z",
     "iopub.status.idle": "2021-05-03T07:23:10.474599Z",
     "shell.execute_reply": "2021-05-03T07:23:10.474039Z"
    }
   },
   "outputs": [
    {
     "name": "stdout",
     "output_type": "stream",
     "text": [
      "Starting experimental run with id: 15. \n",
      "Starting experimental run with id: 16. \n",
      "Starting experimental run with id: 17. \n"
     ]
    },
    {
     "name": "stdout",
     "output_type": "stream",
     "text": [
      "Starting experimental run with id: 18. \n",
      "Starting experimental run with id: 19. \n"
     ]
    },
    {
     "name": "stdout",
     "output_type": "stream",
     "text": [
      "Starting experimental run with id: 20. \n"
     ]
    },
    {
     "name": "stdout",
     "output_type": "stream",
     "text": [
      "Starting experimental run with id: 21. \n"
     ]
    },
    {
     "name": "stdout",
     "output_type": "stream",
     "text": [
      "Starting experimental run with id: 22. \n"
     ]
    },
    {
     "name": "stdout",
     "output_type": "stream",
     "text": [
      "Starting experimental run with id: 23. \n"
     ]
    },
    {
     "name": "stdout",
     "output_type": "stream",
     "text": [
      "Starting experimental run with id: 24. \n"
     ]
    },
    {
     "name": "stdout",
     "output_type": "stream",
     "text": [
      "Starting experimental run with id: 25. \n"
     ]
    },
    {
     "name": "stdout",
     "output_type": "stream",
     "text": [
      "Starting experimental run with id: 26. \n"
     ]
    },
    {
     "name": "stdout",
     "output_type": "stream",
     "text": [
      "Starting experimental run with id: 27. \n"
     ]
    },
    {
     "name": "stdout",
     "output_type": "stream",
     "text": [
      "Starting experimental run with id: 28. \n"
     ]
    }
   ],
   "source": [
    "sizes = [1,500,1000,2000,3000,4000,5000]\n",
    "nreps = 100\n",
    "t_numeric = []\n",
    "t_numeric_add = []\n",
    "t_numeric_run_ids = []\n",
    "t_array = []\n",
    "t_array_add = []\n",
    "t_array_run_ids = []\n",
    "for size in sizes:\n",
    "    tn, tna, run_id_n =  insert_data('numeric', size, nreps=nreps)\n",
    "    t_numeric.append(tn)\n",
    "    t_numeric_add.append(tna)\n",
    "    t_numeric_run_ids.append(run_id_n)\n",
    "\n",
    "    ta, taa, run_id_a =  insert_data('array', size, nreps=nreps)\n",
    "    t_array.append(ta)\n",
    "    t_array_add.append(taa)\n",
    "    t_array_run_ids.append(run_id_a)"
   ]
  },
  {
   "cell_type": "code",
   "execution_count": 8,
   "metadata": {
    "execution": {
     "iopub.execute_input": "2021-05-03T07:23:10.498707Z",
     "iopub.status.busy": "2021-05-03T07:23:10.479797Z",
     "iopub.status.idle": "2021-05-03T07:23:10.631652Z",
     "shell.execute_reply": "2021-05-03T07:23:10.632282Z"
    },
    "scrolled": true
   },
   "outputs": [
    {
     "data": {
      "image/png": "[encoded data removed]",
      "text/plain": [
       "<Figure size 432x288 with 1 Axes>"
      ]
     },
     "metadata": {
      "needs_background": "light"
     },
     "output_type": "display_data"
    }
   ],
   "source": [
    "fig, ax = plt.subplots(1,1)\n",
    "ax.plot(sizes, t_numeric, 'o-', label='Inserting row-by-row')\n",
    "ax.plot(sizes, t_numeric_add, 'o-', label='Inserting row-by-row: add_result only')\n",
    "ax.plot(sizes, t_array, 'd-', label='Inserting as binary blob')\n",
    "ax.plot(sizes, t_array_add, 'd-', label='Inserting as binary blob: add_result only')\n",
    "ax.legend()\n",
    "ax.set_xlabel('Array length')\n",
    "ax.set_ylabel('Time (s)')\n",
    "fig.tight_layout()"
   ]
  },
  {
   "cell_type": "markdown",
   "metadata": {},
   "source": [
    "However, as we increase the length of the experiment, as seen here by repeating the insertion 100 times, we see a big difference between inserting values of the data row-by-row and inserting it as a binary blob."
   ]
  },
  {
   "cell_type": "markdown",
   "metadata": {},
   "source": [
    "## Loading the data "
   ]
  },
  {
   "cell_type": "code",
   "execution_count": 9,
   "metadata": {
    "execution": {
     "iopub.execute_input": "2021-05-03T07:23:10.636117Z",
     "iopub.status.busy": "2021-05-03T07:23:10.635685Z",
     "iopub.status.idle": "2021-05-03T07:23:10.638189Z",
     "shell.execute_reply": "2021-05-03T07:23:10.638788Z"
    }
   },
   "outputs": [],
   "source": [
    "from qcodes.dataset.data_set import load_by_id"
   ]
  },
  {
   "cell_type": "markdown",
   "metadata": {},
   "source": [
    "As usual you can load the data by using the ``load_by_id`` function but you will notice that the different storage methods\n",
    "are reflected in shape of the data as it is retrieved. "
   ]
  },
  {
   "cell_type": "code",
   "execution_count": 10,
   "metadata": {
    "execution": {
     "iopub.execute_input": "2021-05-03T07:23:10.642887Z",
     "iopub.status.busy": "2021-05-03T07:23:10.641609Z",
     "iopub.status.idle": "2021-05-03T07:23:10.646695Z",
     "shell.execute_reply": "2021-05-03T07:23:10.646299Z"
    }
   },
   "outputs": [],
   "source": [
    "run_id_n = t_numeric_run_ids[0]\n",
    "run_id_a = t_array_run_ids[0]"
   ]
  },
  {
   "cell_type": "code",
   "execution_count": 11,
   "metadata": {
    "execution": {
     "iopub.execute_input": "2021-05-03T07:23:10.651777Z",
     "iopub.status.busy": "2021-05-03T07:23:10.650341Z",
     "iopub.status.idle": "2021-05-03T07:23:10.657477Z",
     "shell.execute_reply": "2021-05-03T07:23:10.657065Z"
    },
    "scrolled": true
   },
   "outputs": [
    {
     "data": {
      "text/plain": [
       "{'x1': {'x1': array([0.59143442, 0.59143442, 0.05637059, 0.05637059, 0.09310248,\n",
       "         0.09310248, 0.43439918, 0.43439918, 0.09437306, 0.09437306,\n",
       "         0.95424804, 0.95424804, 0.08960102, 0.08960102, 0.52911997,\n",
       "         0.52911997, 0.57017022, 0.57017022, 0.196505  , 0.196505  ,\n",
       "         0.7891267 , 0.7891267 , 0.86992581, 0.86992581, 0.52946986,\n",
       "         0.52946986, 0.71726863, 0.71726863, 0.3020175 , 0.3020175 ,\n",
       "         0.22499168, 0.22499168, 0.09978128, 0.09978128, 0.13827523,\n",
       "         0.13827523, 0.14593935, 0.14593935, 0.0543158 , 0.0543158 ,\n",
       "         0.45997099, 0.45997099, 0.91005481, 0.91005481, 0.27656856,\n",
       "         0.27656856, 0.12128914, 0.12128914, 0.32566612, 0.32566612,\n",
       "         0.96475445, 0.96475445, 0.99390632, 0.99390632, 0.1245892 ,\n",
       "         0.1245892 , 0.78677004, 0.78677004, 0.75574225, 0.75574225,\n",
       "         0.89716674, 0.89716674, 0.56715586, 0.56715586, 0.00844765,\n",
       "         0.00844765, 0.80256815, 0.80256815, 0.58589592, 0.58589592,\n",
       "         0.94258693, 0.94258693, 0.30872118, 0.30872118, 0.51763062,\n",
       "         0.51763062, 0.13909433, 0.13909433, 0.64498262, 0.64498262,\n",
       "         0.81671489, 0.81671489, 0.79294572, 0.79294572, 0.56399703,\n",
       "         0.56399703, 0.18417898, 0.18417898, 0.7051287 , 0.7051287 ,\n",
       "         0.51150655, 0.51150655, 0.97589272, 0.97589272, 0.75940706,\n",
       "         0.75940706, 0.06479671, 0.06479671, 0.10676719, 0.10676719,\n",
       "         0.15657433, 0.15657433, 0.68248794, 0.68248794, 0.43514323,\n",
       "         0.43514323, 0.49782107, 0.49782107, 0.04475643, 0.04475643,\n",
       "         0.13540089, 0.13540089, 0.92259792, 0.92259792, 0.60820554,\n",
       "         0.60820554, 0.64682601, 0.64682601, 0.05657582, 0.05657582,\n",
       "         0.46883797, 0.46883797, 0.35992141, 0.35992141, 0.8496721 ,\n",
       "         0.8496721 , 0.12165541, 0.12165541, 0.68939526, 0.68939526,\n",
       "         0.89664763, 0.89664763, 0.30107646, 0.30107646, 0.5837092 ,\n",
       "         0.5837092 , 0.0590761 , 0.0590761 , 0.85544337, 0.85544337,\n",
       "         0.54341084, 0.54341084, 0.69940804, 0.69940804, 0.40971654,\n",
       "         0.40971654, 0.2472466 , 0.2472466 , 0.33232453, 0.33232453,\n",
       "         0.44225193, 0.44225193, 0.77269562, 0.77269562, 0.53050188,\n",
       "         0.53050188, 0.48504082, 0.48504082, 0.53628218, 0.53628218,\n",
       "         0.55222301, 0.55222301, 0.47009344, 0.47009344, 0.49342988,\n",
       "         0.49342988, 0.38815495, 0.38815495, 0.69792649, 0.69792649,\n",
       "         0.17142899, 0.17142899, 0.87190468, 0.87190468, 0.72757786,\n",
       "         0.72757786, 0.39716218, 0.39716218, 0.41978939, 0.41978939,\n",
       "         0.6232702 , 0.6232702 , 0.10459404, 0.10459404, 0.33933381,\n",
       "         0.33933381, 0.40870905, 0.40870905, 0.35042654, 0.35042654,\n",
       "         0.14711851, 0.14711851, 0.79594816, 0.79594816, 0.47692954,\n",
       "         0.47692954, 0.55965413, 0.55965413, 0.87616803, 0.87616803])}}"
      ]
     },
     "execution_count": 1,
     "metadata": {},
     "output_type": "execute_result"
    }
   ],
   "source": [
    "ds = load_by_id(run_id_n)\n",
    "ds.get_parameter_data('x1')"
   ]
  },
  {
   "cell_type": "markdown",
   "metadata": {},
   "source": [
    "And a dataset stored as binary arrays"
   ]
  },
  {
   "cell_type": "code",
   "execution_count": 12,
   "metadata": {
    "execution": {
     "iopub.execute_input": "2021-05-03T07:23:10.660620Z",
     "iopub.status.busy": "2021-05-03T07:23:10.660133Z",
     "iopub.status.idle": "2021-05-03T07:23:10.703916Z",
     "shell.execute_reply": "2021-05-03T07:23:10.704393Z"
    },
    "scrolled": true
   },
   "outputs": [
    {
     "data": {
      "text/plain": [
       "{'x1': {'x1': array([[0.95014519],\n",
       "         [0.95014519],\n",
       "         [0.98148842],\n",
       "         [0.98148842],\n",
       "         [0.92173109],\n",
       "         [0.92173109],\n",
       "         [0.80118302],\n",
       "         [0.80118302],\n",
       "         [0.89839315],\n",
       "         [0.89839315],\n",
       "         [0.41847287],\n",
       "         [0.41847287],\n",
       "         [0.99465832],\n",
       "         [0.99465832],\n",
       "         [0.27844381],\n",
       "         [0.27844381],\n",
       "         [0.91089353],\n",
       "         [0.91089353],\n",
       "         [0.18101587],\n",
       "         [0.18101587],\n",
       "         [0.30170655],\n",
       "         [0.30170655],\n",
       "         [0.86166322],\n",
       "         [0.86166322],\n",
       "         [0.50060878],\n",
       "         [0.50060878],\n",
       "         [0.01033046],\n",
       "         [0.01033046],\n",
       "         [0.00310717],\n",
       "         [0.00310717],\n",
       "         [0.53078681],\n",
       "         [0.53078681],\n",
       "         [0.43807651],\n",
       "         [0.43807651],\n",
       "         [0.09100993],\n",
       "         [0.09100993],\n",
       "         [0.5490239 ],\n",
       "         [0.5490239 ],\n",
       "         [0.24912585],\n",
       "         [0.24912585],\n",
       "         [0.42428096],\n",
       "         [0.42428096],\n",
       "         [0.63269688],\n",
       "         [0.63269688],\n",
       "         [0.04384924],\n",
       "         [0.04384924],\n",
       "         [0.60882149],\n",
       "         [0.60882149],\n",
       "         [0.70778256],\n",
       "         [0.70778256],\n",
       "         [0.9441999 ],\n",
       "         [0.9441999 ],\n",
       "         [0.93024218],\n",
       "         [0.93024218],\n",
       "         [0.45624346],\n",
       "         [0.45624346],\n",
       "         [0.3856527 ],\n",
       "         [0.3856527 ],\n",
       "         [0.5417587 ],\n",
       "         [0.5417587 ],\n",
       "         [0.34636037],\n",
       "         [0.34636037],\n",
       "         [0.91338846],\n",
       "         [0.91338846],\n",
       "         [0.6978077 ],\n",
       "         [0.6978077 ],\n",
       "         [0.08276626],\n",
       "         [0.08276626],\n",
       "         [0.22530021],\n",
       "         [0.22530021],\n",
       "         [0.01542872],\n",
       "         [0.01542872],\n",
       "         [0.51686219],\n",
       "         [0.51686219],\n",
       "         [0.78920268],\n",
       "         [0.78920268],\n",
       "         [0.91826748],\n",
       "         [0.91826748],\n",
       "         [0.6020227 ],\n",
       "         [0.6020227 ],\n",
       "         [0.83780182],\n",
       "         [0.83780182],\n",
       "         [0.08133737],\n",
       "         [0.08133737],\n",
       "         [0.73067853],\n",
       "         [0.73067853],\n",
       "         [0.59984293],\n",
       "         [0.59984293],\n",
       "         [0.86604543],\n",
       "         [0.86604543],\n",
       "         [0.06994943],\n",
       "         [0.06994943],\n",
       "         [0.68403704],\n",
       "         [0.68403704],\n",
       "         [0.6383032 ],\n",
       "         [0.6383032 ],\n",
       "         [0.22122119],\n",
       "         [0.22122119],\n",
       "         [0.61663244],\n",
       "         [0.61663244],\n",
       "         [0.56774674],\n",
       "         [0.56774674],\n",
       "         [0.641697  ],\n",
       "         [0.641697  ],\n",
       "         [0.38702663],\n",
       "         [0.38702663],\n",
       "         [0.98056467],\n",
       "         [0.98056467],\n",
       "         [0.84278962],\n",
       "         [0.84278962],\n",
       "         [0.2339084 ],\n",
       "         [0.2339084 ],\n",
       "         [0.03843275],\n",
       "         [0.03843275],\n",
       "         [0.38176909],\n",
       "         [0.38176909],\n",
       "         [0.04736148],\n",
       "         [0.04736148],\n",
       "         [0.47611594],\n",
       "         [0.47611594],\n",
       "         [0.29882621],\n",
       "         [0.29882621],\n",
       "         [0.00839791],\n",
       "         [0.00839791],\n",
       "         [0.17602329],\n",
       "         [0.17602329],\n",
       "         [0.89624179],\n",
       "         [0.89624179],\n",
       "         [0.24367558],\n",
       "         [0.24367558],\n",
       "         [0.20212076],\n",
       "         [0.20212076],\n",
       "         [0.31284546],\n",
       "         [0.31284546],\n",
       "         [0.4680746 ],\n",
       "         [0.4680746 ],\n",
       "         [0.71000939],\n",
       "         [0.71000939],\n",
       "         [0.14108586],\n",
       "         [0.14108586],\n",
       "         [0.98934071],\n",
       "         [0.98934071],\n",
       "         [0.40829741],\n",
       "         [0.40829741],\n",
       "         [0.40697689],\n",
       "         [0.40697689],\n",
       "         [0.67747319],\n",
       "         [0.67747319],\n",
       "         [0.01950329],\n",
       "         [0.01950329],\n",
       "         [0.29609668],\n",
       "         [0.29609668],\n",
       "         [0.49356684],\n",
       "         [0.49356684],\n",
       "         [0.59417398],\n",
       "         [0.59417398],\n",
       "         [0.34778013],\n",
       "         [0.34778013],\n",
       "         [0.3164464 ],\n",
       "         [0.3164464 ],\n",
       "         [0.36596809],\n",
       "         [0.36596809],\n",
       "         [0.06928409],\n",
       "         [0.06928409],\n",
       "         [0.68902434],\n",
       "         [0.68902434],\n",
       "         [0.76572405],\n",
       "         [0.76572405],\n",
       "         [0.61785435],\n",
       "         [0.61785435],\n",
       "         [0.07392471],\n",
       "         [0.07392471],\n",
       "         [0.80720431],\n",
       "         [0.80720431],\n",
       "         [0.15172144],\n",
       "         [0.15172144],\n",
       "         [0.71814492],\n",
       "         [0.71814492],\n",
       "         [0.51870789],\n",
       "         [0.51870789],\n",
       "         [0.68719622],\n",
       "         [0.68719622],\n",
       "         [0.40019721],\n",
       "         [0.40019721],\n",
       "         [0.71590817],\n",
       "         [0.71590817],\n",
       "         [0.09999673],\n",
       "         [0.09999673],\n",
       "         [0.46692668],\n",
       "         [0.46692668],\n",
       "         [0.77090603],\n",
       "         [0.77090603],\n",
       "         [0.62310709],\n",
       "         [0.62310709],\n",
       "         [0.676758  ],\n",
       "         [0.676758  ],\n",
       "         [0.72731701],\n",
       "         [0.72731701],\n",
       "         [0.21701125],\n",
       "         [0.21701125]])}}"
      ]
     },
     "execution_count": 1,
     "metadata": {},
     "output_type": "execute_result"
    }
   ],
   "source": [
    "ds = load_by_id(run_id_a)\n",
    "ds.get_parameter_data('x1')"
   ]
  },
  {
   "cell_type": "code",
   "execution_count": null,
   "metadata": {},
   "outputs": [],
   "source": []
  }
 ],
 "metadata": {
  "kernelspec": {
   "display_name": "Python 3",
   "language": "python",
   "name": "python3"
  },
  "language_info": {
   "codemirror_mode": {
    "name": "ipython",
    "version": 3
   },
   "file_extension": ".py",
   "mimetype": "text/x-python",
   "name": "python",
   "nbconvert_exporter": "python",
   "pygments_lexer": "ipython3",
   "version": "3.7.10"
  },
  "nbsphinx": {
   "timeout": 600
  },
  "toc": {
   "base_numbering": 1,
   "nav_menu": {},
   "number_sections": true,
   "sideBar": true,
   "skip_h1_title": false,
   "title_cell": "Table of Contents",
   "title_sidebar": "Contents",
   "toc_cell": false,
   "toc_position": {},
   "toc_section_display": true,
   "toc_window_display": false
  },
  "varInspector": {
   "cols": {
    "lenName": 16,
    "lenType": 16,
    "lenVar": 40
   },
   "kernels_config": {
    "python": {
     "delete_cmd_postfix": "",
     "delete_cmd_prefix": "del ",
     "library": "var_list.py",
     "varRefreshCmd": "print(var_dic_list())"
    },
    "r": {
     "delete_cmd_postfix": ") ",
     "delete_cmd_prefix": "rm(",
     "library": "var_list.r",
     "varRefreshCmd": "cat(var_dic_list()) "
    }
   },
   "types_to_exclude": [
    "module",
    "function",
    "builtin_function_or_method",
    "instance",
    "_Feature"
   ],
   "window_display": false
  }
 },
 "nbformat": 4,
 "nbformat_minor": 4
}
