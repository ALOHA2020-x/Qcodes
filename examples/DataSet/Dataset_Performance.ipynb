{
 "cells": [
  {
   "cell_type": "markdown",
   "metadata": {},
   "source": [
    "# DataSet Performance\n",
    "\n",
    "This notebook shows the trade-off between inserting data into a database row-by-row and as binary blobs. Inserting the data row-by-row means that we have direct access to all the data and may perform queries directly on the values of the data. On the other hand, as we shall see, this is much slower than inserting the data directly as binary blobs."
   ]
  },
  {
   "cell_type": "markdown",
   "metadata": {},
   "source": [
    "First, we choose a new location for the database to ensure that we don't add a bunch of benchmarking data to the default one."
   ]
  },
  {
   "cell_type": "code",
   "execution_count": 1,
   "metadata": {
    "execution": {
     "iopub.execute_input": "2021-02-17T06:22:58.727777Z",
     "iopub.status.busy": "2021-02-17T06:22:58.727173Z",
     "iopub.status.idle": "2021-02-17T06:22:59.724174Z",
     "shell.execute_reply": "2021-02-17T06:22:59.724683Z"
    }
   },
   "outputs": [
    {
     "name": "stdout",
     "output_type": "stream",
     "text": [
      "Logging hadn't been started.\n",
      "Activating auto-logging. Current session state plus future input saved.\n",
      "Filename       : /home/runner/.qcodes/logs/command_history.log\n",
      "Mode           : append\n",
      "Output logging : True\n",
      "Raw input log  : False\n",
      "Timestamping   : True\n",
      "State          : active\n"
     ]
    },
    {
     "name": "stdout",
     "output_type": "stream",
     "text": [
      "Qcodes Logfile : /home/runner/.qcodes/logs/210217-3859-qcodes.log\n"
     ]
    }
   ],
   "source": [
    "import os\n",
    "cwd = os.getcwd()\n",
    "import qcodes as qc\n",
    "qc.config[\"core\"][\"db_location\"] = os.path.join(cwd, 'testing.db')\n"
   ]
  },
  {
   "cell_type": "code",
   "execution_count": 2,
   "metadata": {
    "execution": {
     "iopub.execute_input": "2021-02-17T06:22:59.733075Z",
     "iopub.status.busy": "2021-02-17T06:22:59.732142Z",
     "iopub.status.idle": "2021-02-17T06:22:59.953527Z",
     "shell.execute_reply": "2021-02-17T06:22:59.952849Z"
    }
   },
   "outputs": [],
   "source": [
    "%matplotlib inline\n",
    "import time\n",
    "import matplotlib.pyplot as plt\n",
    "import numpy as np\n",
    "\n",
    "import qcodes as qc\n",
    "from qcodes.instrument.parameter import ManualParameter\n",
    "from qcodes.dataset.experiment_container import (Experiment,\n",
    "                                                 load_last_experiment,\n",
    "                                                 new_experiment)\n",
    "from qcodes.dataset.sqlite.database import initialise_database\n",
    "from qcodes import load_or_create_experiment\n",
    "from qcodes.dataset.measurements import Measurement"
   ]
  },
  {
   "cell_type": "code",
   "execution_count": 3,
   "metadata": {
    "execution": {
     "iopub.execute_input": "2021-02-17T06:22:59.958458Z",
     "iopub.status.busy": "2021-02-17T06:22:59.957610Z",
     "iopub.status.idle": "2021-02-17T06:23:00.111211Z",
     "shell.execute_reply": "2021-02-17T06:23:00.111722Z"
    }
   },
   "outputs": [
    {
     "name": "stdout",
     "output_type": "stream",
     "text": [
      "\r",
      "0it [00:00, ?it/s]"
     ]
    },
    {
     "name": "stdout",
     "output_type": "stream",
     "text": [
      "\r",
      "Upgrading database; v0 -> v1: : 0it [00:00, ?it/s]"
     ]
    },
    {
     "name": "stdout",
     "output_type": "stream",
     "text": [
      "\r",
      "Upgrading database; v0 -> v1: : 0it [00:00, ?it/s]"
     ]
    },
    {
     "name": "stdout",
     "output_type": "stream",
     "text": [
      "\n",
      "\r",
      "  0%|          | 0/1 [00:00<?, ?it/s]"
     ]
    },
    {
     "name": "stdout",
     "output_type": "stream",
     "text": [
      "\r",
      "Upgrading database; v1 -> v2:   0%|          | 0/1 [00:00<?, ?it/s]"
     ]
    },
    {
     "name": "stdout",
     "output_type": "stream",
     "text": [
      "\r",
      "Upgrading database; v1 -> v2: 100%|██████████| 1/1 [00:00<00:00, 399.46it/s]"
     ]
    },
    {
     "name": "stdout",
     "output_type": "stream",
     "text": [
      "\n",
      "\r",
      "0it [00:00, ?it/s]"
     ]
    },
    {
     "name": "stdout",
     "output_type": "stream",
     "text": [
      "\r",
      "Upgrading database; v2 -> v3: : 0it [00:00, ?it/s]"
     ]
    },
    {
     "name": "stdout",
     "output_type": "stream",
     "text": [
      "\r",
      "Upgrading database; v2 -> v3: : 0it [00:00, ?it/s]"
     ]
    },
    {
     "name": "stdout",
     "output_type": "stream",
     "text": [
      "\n",
      "\r",
      "0it [00:00, ?it/s]"
     ]
    },
    {
     "name": "stdout",
     "output_type": "stream",
     "text": [
      "\r",
      "Upgrading database; v3 -> v4: : 0it [00:00, ?it/s]"
     ]
    },
    {
     "name": "stdout",
     "output_type": "stream",
     "text": [
      "\r",
      "Upgrading database; v3 -> v4: : 0it [00:00, ?it/s]"
     ]
    },
    {
     "name": "stdout",
     "output_type": "stream",
     "text": [
      "\n",
      "\r",
      "  0%|          | 0/1 [00:00<?, ?it/s]"
     ]
    },
    {
     "name": "stdout",
     "output_type": "stream",
     "text": [
      "\r",
      "Upgrading database; v4 -> v5:   0%|          | 0/1 [00:00<?, ?it/s]"
     ]
    },
    {
     "name": "stdout",
     "output_type": "stream",
     "text": [
      "\r",
      "Upgrading database; v4 -> v5: 100%|██████████| 1/1 [00:00<00:00, 1105.51it/s]"
     ]
    },
    {
     "name": "stdout",
     "output_type": "stream",
     "text": [
      "\n",
      "\r",
      "0it [00:00, ?it/s]"
     ]
    },
    {
     "name": "stdout",
     "output_type": "stream",
     "text": [
      "\r",
      "Upgrading database; v5 -> v6: : 0it [00:00, ?it/s]"
     ]
    },
    {
     "name": "stdout",
     "output_type": "stream",
     "text": [
      "\r",
      "Upgrading database; v5 -> v6: : 0it [00:00, ?it/s]"
     ]
    },
    {
     "name": "stdout",
     "output_type": "stream",
     "text": [
      "\n",
      "\r",
      "  0%|          | 0/1 [00:00<?, ?it/s]"
     ]
    },
    {
     "name": "stdout",
     "output_type": "stream",
     "text": [
      "\r",
      "Upgrading database; v6 -> v7:   0%|          | 0/1 [00:00<?, ?it/s]"
     ]
    },
    {
     "name": "stdout",
     "output_type": "stream",
     "text": [
      "\r",
      "Upgrading database; v6 -> v7: 100%|██████████| 1/1 [00:00<00:00, 202.82it/s]"
     ]
    },
    {
     "name": "stdout",
     "output_type": "stream",
     "text": [
      "\n",
      "\r",
      "  0%|          | 0/1 [00:00<?, ?it/s]"
     ]
    },
    {
     "name": "stdout",
     "output_type": "stream",
     "text": [
      "\r",
      "Upgrading database; v7 -> v8:   0%|          | 0/1 [00:00<?, ?it/s]"
     ]
    },
    {
     "name": "stdout",
     "output_type": "stream",
     "text": [
      "\r",
      "Upgrading database; v7 -> v8: 100%|██████████| 1/1 [00:00<00:00, 392.91it/s]"
     ]
    },
    {
     "name": "stdout",
     "output_type": "stream",
     "text": [
      "\n",
      "\r",
      "  0%|          | 0/1 [00:00<?, ?it/s]"
     ]
    },
    {
     "name": "stdout",
     "output_type": "stream",
     "text": [
      "\r",
      "Upgrading database; v8 -> v9:   0%|          | 0/1 [00:00<?, ?it/s]"
     ]
    },
    {
     "name": "stdout",
     "output_type": "stream",
     "text": [
      "\r",
      "Upgrading database; v8 -> v9: 100%|██████████| 1/1 [00:00<00:00, 475.76it/s]"
     ]
    },
    {
     "name": "stdout",
     "output_type": "stream",
     "text": [
      "\n"
     ]
    }
   ],
   "source": [
    "initialise_database()\n",
    "exp = load_or_create_experiment(experiment_name='tutorial_exp', sample_name=\"no sample\")"
   ]
  },
  {
   "cell_type": "markdown",
   "metadata": {},
   "source": [
    "Here, we define a simple function to benchmark the time it takes to insert n points with either numeric or array data type.\n",
    "We will compare both the time used to call ``add_result`` and the time used for the full measurement."
   ]
  },
  {
   "cell_type": "code",
   "execution_count": 4,
   "metadata": {
    "execution": {
     "iopub.execute_input": "2021-02-17T06:23:00.121120Z",
     "iopub.status.busy": "2021-02-17T06:23:00.119457Z",
     "iopub.status.idle": "2021-02-17T06:23:00.124269Z",
     "shell.execute_reply": "2021-02-17T06:23:00.123775Z"
    }
   },
   "outputs": [],
   "source": [
    "def insert_data(paramtype, npoints, nreps=1):\n",
    "\n",
    "    meas = Measurement(exp=exp)\n",
    "\n",
    "    x1 = ManualParameter('x1')\n",
    "    x2 = ManualParameter('x2')\n",
    "    x3 = ManualParameter('x3')\n",
    "    y1 = ManualParameter('y1')\n",
    "    y2 = ManualParameter('y2')\n",
    "\n",
    "    meas.register_parameter(x1, paramtype=paramtype)\n",
    "    meas.register_parameter(x2, paramtype=paramtype)\n",
    "    meas.register_parameter(x3, paramtype=paramtype)\n",
    "    meas.register_parameter(y1, setpoints=[x1, x2, x3],\n",
    "                            paramtype=paramtype)\n",
    "    meas.register_parameter(y2, setpoints=[x1, x2, x3],\n",
    "                            paramtype=paramtype)\n",
    "    start = time.perf_counter()\n",
    "    with meas.run() as datasaver:\n",
    "        start_adding = time.perf_counter()\n",
    "        for i in range(nreps):\n",
    "            datasaver.add_result((x1, np.random.rand(npoints)),\n",
    "                                 (x2, np.random.rand(npoints)),\n",
    "                                 (x3, np.random.rand(npoints)),\n",
    "                                 (y1, np.random.rand(npoints)),\n",
    "                                 (y2, np.random.rand(npoints)))\n",
    "        stop_adding = time.perf_counter()\n",
    "        run_id = datasaver.run_id\n",
    "    stop = time.perf_counter()\n",
    "    tot_time = stop - start\n",
    "    add_time = stop_adding - start_adding\n",
    "    return tot_time, add_time, run_id"
   ]
  },
  {
   "cell_type": "markdown",
   "metadata": {},
   "source": [
    "## Comparison between numeric/array data and binary blob"
   ]
  },
  {
   "cell_type": "markdown",
   "metadata": {},
   "source": [
    "### Case1: Short experiment time"
   ]
  },
  {
   "cell_type": "code",
   "execution_count": 5,
   "metadata": {
    "execution": {
     "iopub.execute_input": "2021-02-17T06:23:00.131360Z",
     "iopub.status.busy": "2021-02-17T06:23:00.129959Z",
     "iopub.status.idle": "2021-02-17T06:23:01.125028Z",
     "shell.execute_reply": "2021-02-17T06:23:01.124452Z"
    }
   },
   "outputs": [
    {
     "name": "stdout",
     "output_type": "stream",
     "text": [
      "Starting experimental run with id: 1. \n",
      "Starting experimental run with id: 2. \n",
      "Starting experimental run with id: 3. \n",
      "Starting experimental run with id: 4. \n"
     ]
    },
    {
     "name": "stdout",
     "output_type": "stream",
     "text": [
      "Starting experimental run with id: 5. \n"
     ]
    },
    {
     "name": "stdout",
     "output_type": "stream",
     "text": [
      "Starting experimental run with id: 6. \n",
      "Starting experimental run with id: 7. \n"
     ]
    },
    {
     "name": "stdout",
     "output_type": "stream",
     "text": [
      "Starting experimental run with id: 8. \n",
      "Starting experimental run with id: 9. \n"
     ]
    },
    {
     "name": "stdout",
     "output_type": "stream",
     "text": [
      "Starting experimental run with id: 10. \n",
      "Starting experimental run with id: 11. \n"
     ]
    },
    {
     "name": "stdout",
     "output_type": "stream",
     "text": [
      "Starting experimental run with id: 12. \n"
     ]
    },
    {
     "name": "stdout",
     "output_type": "stream",
     "text": [
      "Starting experimental run with id: 13. \n"
     ]
    },
    {
     "name": "stdout",
     "output_type": "stream",
     "text": [
      "Starting experimental run with id: 14. \n"
     ]
    }
   ],
   "source": [
    "sizes = [1,500,1000,2000,3000,4000,5000]\n",
    "t_numeric = []\n",
    "t_numeric_add = []\n",
    "t_array = []\n",
    "t_array_add = []\n",
    "for size in sizes:\n",
    "    tn, tna, run_id_n =  insert_data('numeric', size)\n",
    "    t_numeric.append(tn)\n",
    "    t_numeric_add.append(tna)\n",
    "\n",
    "    ta, taa, run_id_a =  insert_data('array', size)\n",
    "    t_array.append(ta)\n",
    "    t_array_add.append(taa)"
   ]
  },
  {
   "cell_type": "code",
   "execution_count": 6,
   "metadata": {
    "execution": {
     "iopub.execute_input": "2021-02-17T06:23:01.146077Z",
     "iopub.status.busy": "2021-02-17T06:23:01.145443Z",
     "iopub.status.idle": "2021-02-17T06:23:01.366716Z",
     "shell.execute_reply": "2021-02-17T06:23:01.365628Z"
    }
   },
   "outputs": [
    {
     "data": {
      "image/png": "[encoded data removed]",
      "text/plain": [
       "<Figure size 432x288 with 1 Axes>"
      ]
     },
     "metadata": {
      "needs_background": "light"
     },
     "output_type": "display_data"
    }
   ],
   "source": [
    "fig, ax = plt.subplots(1,1)\n",
    "ax.plot(sizes, t_numeric, 'o-', label='Inserting row-by-row')\n",
    "ax.plot(sizes, t_numeric_add, 'o-', label='Inserting row-by-row: add_result only')\n",
    "ax.plot(sizes, t_array, 'd-', label='Inserting as binary blob')\n",
    "ax.plot(sizes, t_array_add, 'd-', label='Inserting as binary blob: add_result only')\n",
    "ax.legend()\n",
    "ax.set_xlabel('Array length')\n",
    "ax.set_ylabel('Time (s)')\n",
    "fig.tight_layout()"
   ]
  },
  {
   "cell_type": "markdown",
   "metadata": {},
   "source": [
    "As shown in the latter figure, the time to setup and and close the experiment is approximately 0.4 sec. In case of small array sizes, the difference between inserting values of data as arrays and inserting them row-by-row is relatively unimportant. At larger array sizes, i.e. above 10000 points, the cost of writing data as individual datapoints starts to become important.\n"
   ]
  },
  {
   "cell_type": "markdown",
   "metadata": {},
   "source": [
    "### Case2: Long experiment time "
   ]
  },
  {
   "cell_type": "code",
   "execution_count": 7,
   "metadata": {
    "execution": {
     "iopub.execute_input": "2021-02-17T06:23:01.375421Z",
     "iopub.status.busy": "2021-02-17T06:23:01.374715Z",
     "iopub.status.idle": "2021-02-17T06:24:12.084460Z",
     "shell.execute_reply": "2021-02-17T06:24:12.083702Z"
    }
   },
   "outputs": [
    {
     "name": "stdout",
     "output_type": "stream",
     "text": [
      "Starting experimental run with id: 15. \n",
      "Starting experimental run with id: 16. \n",
      "Starting experimental run with id: 17. \n"
     ]
    },
    {
     "name": "stdout",
     "output_type": "stream",
     "text": [
      "Starting experimental run with id: 18. \n"
     ]
    },
    {
     "name": "stdout",
     "output_type": "stream",
     "text": [
      "Starting experimental run with id: 19. \n"
     ]
    },
    {
     "name": "stdout",
     "output_type": "stream",
     "text": [
      "Starting experimental run with id: 20. \n"
     ]
    },
    {
     "name": "stdout",
     "output_type": "stream",
     "text": [
      "Starting experimental run with id: 21. \n"
     ]
    },
    {
     "name": "stdout",
     "output_type": "stream",
     "text": [
      "Starting experimental run with id: 22. \n"
     ]
    },
    {
     "name": "stdout",
     "output_type": "stream",
     "text": [
      "Starting experimental run with id: 23. \n"
     ]
    },
    {
     "name": "stdout",
     "output_type": "stream",
     "text": [
      "Starting experimental run with id: 24. \n"
     ]
    },
    {
     "name": "stdout",
     "output_type": "stream",
     "text": [
      "Starting experimental run with id: 25. \n"
     ]
    },
    {
     "name": "stdout",
     "output_type": "stream",
     "text": [
      "Starting experimental run with id: 26. \n"
     ]
    },
    {
     "name": "stdout",
     "output_type": "stream",
     "text": [
      "Starting experimental run with id: 27. \n"
     ]
    },
    {
     "name": "stdout",
     "output_type": "stream",
     "text": [
      "Starting experimental run with id: 28. \n"
     ]
    }
   ],
   "source": [
    "sizes = [1,500,1000,2000,3000,4000,5000]\n",
    "nreps = 100\n",
    "t_numeric = []\n",
    "t_numeric_add = []\n",
    "t_numeric_run_ids = []\n",
    "t_array = []\n",
    "t_array_add = []\n",
    "t_array_run_ids = []\n",
    "for size in sizes:\n",
    "    tn, tna, run_id_n =  insert_data('numeric', size, nreps=nreps)\n",
    "    t_numeric.append(tn)\n",
    "    t_numeric_add.append(tna)\n",
    "    t_numeric_run_ids.append(run_id_n)\n",
    "\n",
    "    ta, taa, run_id_a =  insert_data('array', size, nreps=nreps)\n",
    "    t_array.append(ta)\n",
    "    t_array_add.append(taa)\n",
    "    t_array_run_ids.append(run_id_a)"
   ]
  },
  {
   "cell_type": "code",
   "execution_count": 8,
   "metadata": {
    "execution": {
     "iopub.execute_input": "2021-02-17T06:24:12.129972Z",
     "iopub.status.busy": "2021-02-17T06:24:12.105290Z",
     "iopub.status.idle": "2021-02-17T06:24:12.302090Z",
     "shell.execute_reply": "2021-02-17T06:24:12.302606Z"
    },
    "scrolled": true
   },
   "outputs": [
    {
     "data": {
      "image/png": "[encoded data removed]",
      "text/plain": [
       "<Figure size 432x288 with 1 Axes>"
      ]
     },
     "metadata": {
      "needs_background": "light"
     },
     "output_type": "display_data"
    }
   ],
   "source": [
    "fig, ax = plt.subplots(1,1)\n",
    "ax.plot(sizes, t_numeric, 'o-', label='Inserting row-by-row')\n",
    "ax.plot(sizes, t_numeric_add, 'o-', label='Inserting row-by-row: add_result only')\n",
    "ax.plot(sizes, t_array, 'd-', label='Inserting as binary blob')\n",
    "ax.plot(sizes, t_array_add, 'd-', label='Inserting as binary blob: add_result only')\n",
    "ax.legend()\n",
    "ax.set_xlabel('Array length')\n",
    "ax.set_ylabel('Time (s)')\n",
    "fig.tight_layout()"
   ]
  },
  {
   "cell_type": "markdown",
   "metadata": {},
   "source": [
    "However, as we increase the length of the experiment, as seen here by repeating the insertion 100 times, we see a big difference between inserting values of the data row-by-row and inserting it as a binary blob."
   ]
  },
  {
   "cell_type": "markdown",
   "metadata": {},
   "source": [
    "## Loading the data "
   ]
  },
  {
   "cell_type": "code",
   "execution_count": 9,
   "metadata": {
    "execution": {
     "iopub.execute_input": "2021-02-17T06:24:12.307905Z",
     "iopub.status.busy": "2021-02-17T06:24:12.307020Z",
     "iopub.status.idle": "2021-02-17T06:24:12.310714Z",
     "shell.execute_reply": "2021-02-17T06:24:12.311244Z"
    }
   },
   "outputs": [],
   "source": [
    "from qcodes.dataset.data_set import load_by_id\n",
    "from qcodes.dataset.data_export import get_data_by_id"
   ]
  },
  {
   "cell_type": "markdown",
   "metadata": {},
   "source": [
    "As usual you can load the data by using the ``load_by_id`` function but you will notice that the different storage methods\n",
    "are reflected in shape of the data as it is retrieved. "
   ]
  },
  {
   "cell_type": "code",
   "execution_count": 10,
   "metadata": {
    "execution": {
     "iopub.execute_input": "2021-02-17T06:24:12.315539Z",
     "iopub.status.busy": "2021-02-17T06:24:12.314954Z",
     "iopub.status.idle": "2021-02-17T06:24:12.317083Z",
     "shell.execute_reply": "2021-02-17T06:24:12.317526Z"
    }
   },
   "outputs": [],
   "source": [
    "run_id_n = t_numeric_run_ids[0]\n",
    "run_id_a = t_array_run_ids[0]"
   ]
  },
  {
   "cell_type": "code",
   "execution_count": 11,
   "metadata": {
    "execution": {
     "iopub.execute_input": "2021-02-17T06:24:12.321270Z",
     "iopub.status.busy": "2021-02-17T06:24:12.320688Z",
     "iopub.status.idle": "2021-02-17T06:24:12.331690Z",
     "shell.execute_reply": "2021-02-17T06:24:12.332179Z"
    },
    "scrolled": true
   },
   "outputs": [
    {
     "data": {
      "text/plain": [
       "{'x1': {'x1': array([5.34090369e-01, 5.34090369e-01, 1.82381272e-01, 1.82381272e-01,\n",
       "         4.95139639e-01, 4.95139639e-01, 5.74888624e-01, 5.74888624e-01,\n",
       "         7.26390642e-01, 7.26390642e-01, 6.48251114e-01, 6.48251114e-01,\n",
       "         3.19210900e-01, 3.19210900e-01, 9.11574730e-01, 9.11574730e-01,\n",
       "         8.23614611e-01, 8.23614611e-01, 4.01563649e-01, 4.01563649e-01,\n",
       "         2.76234887e-02, 2.76234887e-02, 6.17474174e-01, 6.17474174e-01,\n",
       "         7.79221251e-01, 7.79221251e-01, 8.26922330e-01, 8.26922330e-01,\n",
       "         5.41861709e-01, 5.41861709e-01, 6.25842114e-01, 6.25842114e-01,\n",
       "         6.97192733e-01, 6.97192733e-01, 7.86431151e-01, 7.86431151e-01,\n",
       "         7.08661771e-01, 7.08661771e-01, 7.65592903e-01, 7.65592903e-01,\n",
       "         9.11261598e-01, 9.11261598e-01, 1.21449720e-01, 1.21449720e-01,\n",
       "         7.40091724e-01, 7.40091724e-01, 6.83348771e-01, 6.83348771e-01,\n",
       "         7.90481627e-01, 7.90481627e-01, 7.24452856e-02, 7.24452856e-02,\n",
       "         1.22963519e-01, 1.22963519e-01, 9.26245494e-01, 9.26245494e-01,\n",
       "         1.92045368e-01, 1.92045368e-01, 1.90341518e-01, 1.90341518e-01,\n",
       "         7.94628282e-01, 7.94628282e-01, 6.69810548e-01, 6.69810548e-01,\n",
       "         2.05385430e-01, 2.05385430e-01, 3.45617105e-01, 3.45617105e-01,\n",
       "         8.21088094e-01, 8.21088094e-01, 4.75335371e-01, 4.75335371e-01,\n",
       "         3.22745941e-01, 3.22745941e-01, 7.00581121e-01, 7.00581121e-01,\n",
       "         6.67538123e-01, 6.67538123e-01, 6.11585769e-01, 6.11585769e-01,\n",
       "         7.40367184e-01, 7.40367184e-01, 8.68546066e-01, 8.68546066e-01,\n",
       "         1.93965428e-01, 1.93965428e-01, 7.68752700e-01, 7.68752700e-01,\n",
       "         3.69119887e-01, 3.69119887e-01, 4.92124793e-01, 4.92124793e-01,\n",
       "         3.28360845e-01, 3.28360845e-01, 8.35533054e-01, 8.35533054e-01,\n",
       "         8.75308226e-01, 8.75308226e-01, 2.59071863e-01, 2.59071863e-01,\n",
       "         9.74332197e-01, 9.74332197e-01, 8.77727150e-01, 8.77727150e-01,\n",
       "         2.87043906e-02, 2.87043906e-02, 3.79320500e-01, 3.79320500e-01,\n",
       "         7.17136359e-01, 7.17136359e-01, 6.17473543e-01, 6.17473543e-01,\n",
       "         4.92417494e-02, 4.92417494e-02, 9.14060804e-01, 9.14060804e-01,\n",
       "         1.20948966e-01, 1.20948966e-01, 1.50577104e-01, 1.50577104e-01,\n",
       "         3.35740037e-01, 3.35740037e-01, 4.76600778e-01, 4.76600778e-01,\n",
       "         7.14844294e-01, 7.14844294e-01, 9.69281594e-01, 9.69281594e-01,\n",
       "         1.58503065e-01, 1.58503065e-01, 3.97002803e-01, 3.97002803e-01,\n",
       "         3.33847697e-01, 3.33847697e-01, 6.31278621e-01, 6.31278621e-01,\n",
       "         2.20375696e-04, 2.20375696e-04, 2.05729149e-01, 2.05729149e-01,\n",
       "         8.59151027e-01, 8.59151027e-01, 3.80234318e-01, 3.80234318e-01,\n",
       "         2.37643521e-01, 2.37643521e-01, 6.94173507e-02, 6.94173507e-02,\n",
       "         7.80633573e-01, 7.80633573e-01, 1.23585536e-01, 1.23585536e-01,\n",
       "         9.51892477e-02, 9.51892477e-02, 3.88075612e-01, 3.88075612e-01,\n",
       "         5.62918657e-01, 5.62918657e-01, 5.04891630e-01, 5.04891630e-01,\n",
       "         4.15058270e-01, 4.15058270e-01, 5.76346766e-02, 5.76346766e-02,\n",
       "         6.43778346e-01, 6.43778346e-01, 7.82481506e-01, 7.82481506e-01,\n",
       "         8.19438564e-01, 8.19438564e-01, 4.68707399e-01, 4.68707399e-01,\n",
       "         9.02735618e-01, 9.02735618e-01, 3.71284852e-01, 3.71284852e-01,\n",
       "         7.10251897e-01, 7.10251897e-01, 1.39478497e-01, 1.39478497e-01,\n",
       "         8.32257494e-01, 8.32257494e-01, 3.64040260e-01, 3.64040260e-01,\n",
       "         1.48650344e-01, 1.48650344e-01, 7.90460029e-01, 7.90460029e-01,\n",
       "         3.57087700e-01, 3.57087700e-01, 2.62822357e-01, 2.62822357e-01,\n",
       "         2.49746013e-01, 2.49746013e-01, 4.92631917e-01, 4.92631917e-01,\n",
       "         5.73219707e-01, 5.73219707e-01, 9.01224391e-01, 9.01224391e-01])}}"
      ]
     },
     "execution_count": 1,
     "metadata": {},
     "output_type": "execute_result"
    }
   ],
   "source": [
    "ds = load_by_id(run_id_n)\n",
    "ds.get_parameter_data('x1')"
   ]
  },
  {
   "cell_type": "markdown",
   "metadata": {},
   "source": [
    "And a dataset stored as binary arrays"
   ]
  },
  {
   "cell_type": "code",
   "execution_count": 12,
   "metadata": {
    "execution": {
     "iopub.execute_input": "2021-02-17T06:24:12.336195Z",
     "iopub.status.busy": "2021-02-17T06:24:12.335636Z",
     "iopub.status.idle": "2021-02-17T06:24:12.396537Z",
     "shell.execute_reply": "2021-02-17T06:24:12.397138Z"
    },
    "scrolled": true
   },
   "outputs": [
    {
     "data": {
      "text/plain": [
       "{'x1': {'x1': array([[0.31348256],\n",
       "         [0.31348256],\n",
       "         [0.4449021 ],\n",
       "         [0.4449021 ],\n",
       "         [0.63546645],\n",
       "         [0.63546645],\n",
       "         [0.64535614],\n",
       "         [0.64535614],\n",
       "         [0.97172868],\n",
       "         [0.97172868],\n",
       "         [0.22158321],\n",
       "         [0.22158321],\n",
       "         [0.05844705],\n",
       "         [0.05844705],\n",
       "         [0.20924401],\n",
       "         [0.20924401],\n",
       "         [0.76888605],\n",
       "         [0.76888605],\n",
       "         [0.51241185],\n",
       "         [0.51241185],\n",
       "         [0.07038904],\n",
       "         [0.07038904],\n",
       "         [0.65263829],\n",
       "         [0.65263829],\n",
       "         [0.39938504],\n",
       "         [0.39938504],\n",
       "         [0.67107653],\n",
       "         [0.67107653],\n",
       "         [0.68712619],\n",
       "         [0.68712619],\n",
       "         [0.36691693],\n",
       "         [0.36691693],\n",
       "         [0.52600759],\n",
       "         [0.52600759],\n",
       "         [0.69819045],\n",
       "         [0.69819045],\n",
       "         [0.46700924],\n",
       "         [0.46700924],\n",
       "         [0.76024846],\n",
       "         [0.76024846],\n",
       "         [0.27276601],\n",
       "         [0.27276601],\n",
       "         [0.52491614],\n",
       "         [0.52491614],\n",
       "         [0.59169181],\n",
       "         [0.59169181],\n",
       "         [0.24519785],\n",
       "         [0.24519785],\n",
       "         [0.28478871],\n",
       "         [0.28478871],\n",
       "         [0.60427203],\n",
       "         [0.60427203],\n",
       "         [0.19074607],\n",
       "         [0.19074607],\n",
       "         [0.49332069],\n",
       "         [0.49332069],\n",
       "         [0.5647987 ],\n",
       "         [0.5647987 ],\n",
       "         [0.56496286],\n",
       "         [0.56496286],\n",
       "         [0.98765287],\n",
       "         [0.98765287],\n",
       "         [0.32558028],\n",
       "         [0.32558028],\n",
       "         [0.86403705],\n",
       "         [0.86403705],\n",
       "         [0.36798085],\n",
       "         [0.36798085],\n",
       "         [0.40076577],\n",
       "         [0.40076577],\n",
       "         [0.08601003],\n",
       "         [0.08601003],\n",
       "         [0.96423458],\n",
       "         [0.96423458],\n",
       "         [0.52103199],\n",
       "         [0.52103199],\n",
       "         [0.25202576],\n",
       "         [0.25202576],\n",
       "         [0.614869  ],\n",
       "         [0.614869  ],\n",
       "         [0.00468197],\n",
       "         [0.00468197],\n",
       "         [0.93370594],\n",
       "         [0.93370594],\n",
       "         [0.20972722],\n",
       "         [0.20972722],\n",
       "         [0.8716474 ],\n",
       "         [0.8716474 ],\n",
       "         [0.55686674],\n",
       "         [0.55686674],\n",
       "         [0.472416  ],\n",
       "         [0.472416  ],\n",
       "         [0.46370726],\n",
       "         [0.46370726],\n",
       "         [0.07477658],\n",
       "         [0.07477658],\n",
       "         [0.78347917],\n",
       "         [0.78347917],\n",
       "         [0.8256019 ],\n",
       "         [0.8256019 ],\n",
       "         [0.87861174],\n",
       "         [0.87861174],\n",
       "         [0.65491858],\n",
       "         [0.65491858],\n",
       "         [0.35001262],\n",
       "         [0.35001262],\n",
       "         [0.85027868],\n",
       "         [0.85027868],\n",
       "         [0.85891993],\n",
       "         [0.85891993],\n",
       "         [0.56373916],\n",
       "         [0.56373916],\n",
       "         [0.71526432],\n",
       "         [0.71526432],\n",
       "         [0.99460151],\n",
       "         [0.99460151],\n",
       "         [0.21982906],\n",
       "         [0.21982906],\n",
       "         [0.50205911],\n",
       "         [0.50205911],\n",
       "         [0.79713605],\n",
       "         [0.79713605],\n",
       "         [0.43015522],\n",
       "         [0.43015522],\n",
       "         [0.09392524],\n",
       "         [0.09392524],\n",
       "         [0.93725844],\n",
       "         [0.93725844],\n",
       "         [0.0334929 ],\n",
       "         [0.0334929 ],\n",
       "         [0.21083489],\n",
       "         [0.21083489],\n",
       "         [0.59684567],\n",
       "         [0.59684567],\n",
       "         [0.31228387],\n",
       "         [0.31228387],\n",
       "         [0.8514561 ],\n",
       "         [0.8514561 ],\n",
       "         [0.83987537],\n",
       "         [0.83987537],\n",
       "         [0.76902005],\n",
       "         [0.76902005],\n",
       "         [0.17410335],\n",
       "         [0.17410335],\n",
       "         [0.18863797],\n",
       "         [0.18863797],\n",
       "         [0.17830683],\n",
       "         [0.17830683],\n",
       "         [0.41865031],\n",
       "         [0.41865031],\n",
       "         [0.64474441],\n",
       "         [0.64474441],\n",
       "         [0.08710609],\n",
       "         [0.08710609],\n",
       "         [0.97415362],\n",
       "         [0.97415362],\n",
       "         [0.39589959],\n",
       "         [0.39589959],\n",
       "         [0.48245897],\n",
       "         [0.48245897],\n",
       "         [0.2489121 ],\n",
       "         [0.2489121 ],\n",
       "         [0.6759773 ],\n",
       "         [0.6759773 ],\n",
       "         [0.36640559],\n",
       "         [0.36640559],\n",
       "         [0.51082711],\n",
       "         [0.51082711],\n",
       "         [0.29237661],\n",
       "         [0.29237661],\n",
       "         [0.01023865],\n",
       "         [0.01023865],\n",
       "         [0.5723032 ],\n",
       "         [0.5723032 ],\n",
       "         [0.2739939 ],\n",
       "         [0.2739939 ],\n",
       "         [0.6891129 ],\n",
       "         [0.6891129 ],\n",
       "         [0.69668579],\n",
       "         [0.69668579],\n",
       "         [0.90939992],\n",
       "         [0.90939992],\n",
       "         [0.86565208],\n",
       "         [0.86565208],\n",
       "         [0.88717553],\n",
       "         [0.88717553],\n",
       "         [0.89974942],\n",
       "         [0.89974942],\n",
       "         [0.44896111],\n",
       "         [0.44896111],\n",
       "         [0.96044363],\n",
       "         [0.96044363],\n",
       "         [0.12374866],\n",
       "         [0.12374866],\n",
       "         [0.49538109],\n",
       "         [0.49538109],\n",
       "         [0.49676706],\n",
       "         [0.49676706],\n",
       "         [0.34153574],\n",
       "         [0.34153574]])}}"
      ]
     },
     "execution_count": 1,
     "metadata": {},
     "output_type": "execute_result"
    }
   ],
   "source": [
    "ds = load_by_id(run_id_a)\n",
    "ds.get_parameter_data('x1')"
   ]
  },
  {
   "cell_type": "code",
   "execution_count": null,
   "metadata": {},
   "outputs": [],
   "source": []
  }
 ],
 "metadata": {
  "kernelspec": {
   "display_name": "Python 3",
   "language": "python",
   "name": "python3"
  },
  "language_info": {
   "codemirror_mode": {
    "name": "ipython",
    "version": 3
   },
   "file_extension": ".py",
   "mimetype": "text/x-python",
   "name": "python",
   "nbconvert_exporter": "python",
   "pygments_lexer": "ipython3",
   "version": "3.7.9"
  },
  "nbsphinx": {
   "timeout": 600
  },
  "toc": {
   "base_numbering": 1,
   "nav_menu": {},
   "number_sections": true,
   "sideBar": true,
   "skip_h1_title": false,
   "title_cell": "Table of Contents",
   "title_sidebar": "Contents",
   "toc_cell": false,
   "toc_position": {},
   "toc_section_display": true,
   "toc_window_display": false
  },
  "varInspector": {
   "cols": {
    "lenName": 16,
    "lenType": 16,
    "lenVar": 40
   },
   "kernels_config": {
    "python": {
     "delete_cmd_postfix": "",
     "delete_cmd_prefix": "del ",
     "library": "var_list.py",
     "varRefreshCmd": "print(var_dic_list())"
    },
    "r": {
     "delete_cmd_postfix": ") ",
     "delete_cmd_prefix": "rm(",
     "library": "var_list.r",
     "varRefreshCmd": "cat(var_dic_list()) "
    }
   },
   "types_to_exclude": [
    "module",
    "function",
    "builtin_function_or_method",
    "instance",
    "_Feature"
   ],
   "window_display": false
  }
 },
 "nbformat": 4,
 "nbformat_minor": 2
}
