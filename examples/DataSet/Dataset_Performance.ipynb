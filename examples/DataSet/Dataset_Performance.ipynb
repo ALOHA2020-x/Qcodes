{
 "cells": [
  {
   "cell_type": "markdown",
   "metadata": {},
   "source": [
    "# DataSet Performance\n",
    "\n",
    "This notebook shows the trade-off between inserting data into a database row-by-row and as binary blobs. Inserting the data row-by-row means that we have direct access to all the data and may perform queries directly on the values of the data. On the other hand, as we shall see, this is much slower than inserting the data directly as binary blobs."
   ]
  },
  {
   "cell_type": "markdown",
   "metadata": {},
   "source": [
    "First, we choose a new location for the database to ensure that we don't add a bunch of benchmarking data to the default one."
   ]
  },
  {
   "cell_type": "code",
   "execution_count": 1,
   "metadata": {},
   "outputs": [
    {
     "name": "stdout",
     "output_type": "stream",
     "text": [
      "Logging hadn't been started.\n",
      "Activating auto-logging. Current session state plus future input saved.\n",
      "Filename       : /home/vsts/.qcodes/logs/command_history.log\n",
      "Mode           : append\n",
      "Output logging : True\n",
      "Raw input log  : False\n",
      "Timestamping   : True\n",
      "State          : active\n"
     ]
    },
    {
     "name": "stdout",
     "output_type": "stream",
     "text": [
      "Qcodes Logfile : /home/vsts/.qcodes/logs/200210-18335-qcodes.log\n"
     ]
    }
   ],
   "source": [
    "import os\n",
    "cwd = os.getcwd()\n",
    "import qcodes as qc\n",
    "qc.config[\"core\"][\"db_location\"] = os.path.join(cwd, 'testing.db')\n"
   ]
  },
  {
   "cell_type": "code",
   "execution_count": 2,
   "metadata": {},
   "outputs": [],
   "source": [
    "%matplotlib inline\n",
    "import time\n",
    "import matplotlib.pyplot as plt\n",
    "import numpy as np\n",
    "\n",
    "import qcodes as qc\n",
    "from qcodes.instrument.parameter import ManualParameter\n",
    "from qcodes.dataset.experiment_container import (Experiment,\n",
    "                                                 load_last_experiment,\n",
    "                                                 new_experiment)\n",
    "from qcodes.dataset.sqlite.database import initialise_database\n",
    "from qcodes import load_or_create_experiment\n",
    "from qcodes.dataset.measurements import Measurement"
   ]
  },
  {
   "cell_type": "code",
   "execution_count": 3,
   "metadata": {},
   "outputs": [
    {
     "name": "stdout",
     "output_type": "stream",
     "text": [
      "\r",
      "0it [00:00, ?it/s]"
     ]
    },
    {
     "name": "stdout",
     "output_type": "stream",
     "text": [
      "\r",
      "Upgrading database; v0 -> v1: : 0it [00:00, ?it/s]"
     ]
    },
    {
     "name": "stdout",
     "output_type": "stream",
     "text": [
      "\r",
      "Upgrading database; v0 -> v1: : 0it [00:00, ?it/s]"
     ]
    },
    {
     "name": "stdout",
     "output_type": "stream",
     "text": [
      "\n",
      "\r",
      "  0%|          | 0/1 [00:00<?, ?it/s]"
     ]
    },
    {
     "name": "stdout",
     "output_type": "stream",
     "text": [
      "\r",
      "Upgrading database; v1 -> v2:   0%|          | 0/1 [00:00<?, ?it/s]"
     ]
    },
    {
     "name": "stdout",
     "output_type": "stream",
     "text": [
      "\r",
      "Upgrading database; v1 -> v2: 100%|██████████| 1/1 [00:00<00:00, 730.84it/s]"
     ]
    },
    {
     "name": "stdout",
     "output_type": "stream",
     "text": [
      "\n",
      "\r",
      "0it [00:00, ?it/s]"
     ]
    },
    {
     "name": "stdout",
     "output_type": "stream",
     "text": [
      "\r",
      "Upgrading database; v2 -> v3: : 0it [00:00, ?it/s]"
     ]
    },
    {
     "name": "stdout",
     "output_type": "stream",
     "text": [
      "\r",
      "Upgrading database; v2 -> v3: : 0it [00:00, ?it/s]"
     ]
    },
    {
     "name": "stdout",
     "output_type": "stream",
     "text": [
      "\n",
      "\r",
      "0it [00:00, ?it/s]"
     ]
    },
    {
     "name": "stdout",
     "output_type": "stream",
     "text": [
      "\r",
      "Upgrading database; v3 -> v4: : 0it [00:00, ?it/s]"
     ]
    },
    {
     "name": "stdout",
     "output_type": "stream",
     "text": [
      "\r",
      "Upgrading database; v3 -> v4: : 0it [00:00, ?it/s]"
     ]
    },
    {
     "name": "stdout",
     "output_type": "stream",
     "text": [
      "\n",
      "\r",
      "  0%|          | 0/1 [00:00<?, ?it/s]"
     ]
    },
    {
     "name": "stdout",
     "output_type": "stream",
     "text": [
      "\r",
      "Upgrading database; v4 -> v5:   0%|          | 0/1 [00:00<?, ?it/s]"
     ]
    },
    {
     "name": "stdout",
     "output_type": "stream",
     "text": [
      "\r",
      "Upgrading database; v4 -> v5: 100%|██████████| 1/1 [00:00<00:00, 667.46it/s]"
     ]
    },
    {
     "name": "stdout",
     "output_type": "stream",
     "text": [
      "\n",
      "\r",
      "0it [00:00, ?it/s]"
     ]
    },
    {
     "name": "stdout",
     "output_type": "stream",
     "text": [
      "\r",
      "Upgrading database; v5 -> v6: : 0it [00:00, ?it/s]"
     ]
    },
    {
     "name": "stdout",
     "output_type": "stream",
     "text": [
      "\r",
      "Upgrading database; v5 -> v6: : 0it [00:00, ?it/s]"
     ]
    },
    {
     "name": "stdout",
     "output_type": "stream",
     "text": [
      "\n"
     ]
    },
    {
     "name": "stdout",
     "output_type": "stream",
     "text": [
      "\r",
      "  0%|          | 0/1 [00:00<?, ?it/s]"
     ]
    },
    {
     "name": "stdout",
     "output_type": "stream",
     "text": [
      "\r",
      "Upgrading database; v6 -> v7:   0%|          | 0/1 [00:00<?, ?it/s]"
     ]
    },
    {
     "name": "stdout",
     "output_type": "stream",
     "text": [
      "\r",
      "Upgrading database; v6 -> v7: 100%|██████████| 1/1 [00:00<00:00, 39.33it/s]"
     ]
    },
    {
     "name": "stdout",
     "output_type": "stream",
     "text": [
      "\n",
      "\r",
      "  0%|          | 0/1 [00:00<?, ?it/s]"
     ]
    },
    {
     "name": "stdout",
     "output_type": "stream",
     "text": [
      "\r",
      "Upgrading database; v7 -> v8:   0%|          | 0/1 [00:00<?, ?it/s]"
     ]
    },
    {
     "name": "stdout",
     "output_type": "stream",
     "text": [
      "\r",
      "Upgrading database; v7 -> v8: 100%|██████████| 1/1 [00:00<00:00, 759.42it/s]"
     ]
    },
    {
     "name": "stdout",
     "output_type": "stream",
     "text": [
      "\n"
     ]
    }
   ],
   "source": [
    "initialise_database()\n",
    "exp = load_or_create_experiment(experiment_name='tutorial_exp', sample_name=\"no sample\")"
   ]
  },
  {
   "cell_type": "markdown",
   "metadata": {},
   "source": [
    "Here, we define a simple function to benchmark the time it takes to insert n points with either numeric or array data type.\n",
    "We will compare both the time used to call ``add_result`` and the time used for the full measurement."
   ]
  },
  {
   "cell_type": "code",
   "execution_count": 4,
   "metadata": {},
   "outputs": [],
   "source": [
    "def insert_data(paramtype, npoints, nreps=1):\n",
    "\n",
    "    meas = Measurement(exp=exp)\n",
    "\n",
    "    x1 = ManualParameter('x1')\n",
    "    x2 = ManualParameter('x2')\n",
    "    x3 = ManualParameter('x3')\n",
    "    y1 = ManualParameter('y1')\n",
    "    y2 = ManualParameter('y2')\n",
    "\n",
    "    meas.register_parameter(x1, paramtype=paramtype)\n",
    "    meas.register_parameter(x2, paramtype=paramtype)\n",
    "    meas.register_parameter(x3, paramtype=paramtype)\n",
    "    meas.register_parameter(y1, setpoints=[x1, x2, x3],\n",
    "                            paramtype=paramtype)\n",
    "    meas.register_parameter(y2, setpoints=[x1, x2, x3],\n",
    "                            paramtype=paramtype)\n",
    "    start = time.perf_counter()\n",
    "    with meas.run() as datasaver:\n",
    "        start_adding = time.perf_counter()\n",
    "        for i in range(nreps):\n",
    "            datasaver.add_result((x1, np.random.rand(npoints)),\n",
    "                                 (x2, np.random.rand(npoints)),\n",
    "                                 (x3, np.random.rand(npoints)),\n",
    "                                 (y1, np.random.rand(npoints)),\n",
    "                                 (y2, np.random.rand(npoints)))\n",
    "        stop_adding = time.perf_counter()\n",
    "        run_id = datasaver.run_id\n",
    "    stop = time.perf_counter()\n",
    "    tot_time = stop - start\n",
    "    add_time = stop_adding - start_adding\n",
    "    return tot_time, add_time, run_id"
   ]
  },
  {
   "cell_type": "markdown",
   "metadata": {},
   "source": [
    "## Comparison between numeric/array data and binary blob"
   ]
  },
  {
   "cell_type": "markdown",
   "metadata": {},
   "source": [
    "### Case1: Short experiment time"
   ]
  },
  {
   "cell_type": "code",
   "execution_count": 5,
   "metadata": {},
   "outputs": [
    {
     "name": "stdout",
     "output_type": "stream",
     "text": [
      "Starting experimental run with id: 1. \n"
     ]
    },
    {
     "name": "stdout",
     "output_type": "stream",
     "text": [
      "Starting experimental run with id: 2. \n",
      "Starting experimental run with id: 3. \n"
     ]
    },
    {
     "name": "stdout",
     "output_type": "stream",
     "text": [
      "Starting experimental run with id: 4. \n",
      "Starting experimental run with id: 5. \n"
     ]
    },
    {
     "name": "stdout",
     "output_type": "stream",
     "text": [
      "Starting experimental run with id: 6. \n",
      "Starting experimental run with id: 7. \n"
     ]
    },
    {
     "name": "stdout",
     "output_type": "stream",
     "text": [
      "Starting experimental run with id: 8. \n",
      "Starting experimental run with id: 9. \n"
     ]
    },
    {
     "name": "stdout",
     "output_type": "stream",
     "text": [
      "Starting experimental run with id: 10. \n",
      "Starting experimental run with id: 11. \n"
     ]
    },
    {
     "name": "stdout",
     "output_type": "stream",
     "text": [
      "Starting experimental run with id: 12. \n",
      "Starting experimental run with id: 13. \n"
     ]
    },
    {
     "name": "stdout",
     "output_type": "stream",
     "text": [
      "Starting experimental run with id: 14. \n"
     ]
    }
   ],
   "source": [
    "sizes = [1,500,1000,2000,3000,4000,5000]\n",
    "t_numeric = []\n",
    "t_numeric_add = []\n",
    "t_array = []\n",
    "t_array_add = []\n",
    "for size in sizes:\n",
    "    tn, tna, run_id_n =  insert_data('numeric', size)\n",
    "    t_numeric.append(tn)\n",
    "    t_numeric_add.append(tna)\n",
    "\n",
    "    ta, taa, run_id_a =  insert_data('array', size)\n",
    "    t_array.append(ta)\n",
    "    t_array_add.append(taa)"
   ]
  },
  {
   "cell_type": "code",
   "execution_count": 6,
   "metadata": {},
   "outputs": [
    {
     "data": {
      "image/png": "[encoded data removed]",
      "text/plain": [
       "<Figure size 432x288 with 1 Axes>"
      ]
     },
     "metadata": {
      "needs_background": "light"
     },
     "output_type": "display_data"
    }
   ],
   "source": [
    "fig, ax = plt.subplots(1,1)\n",
    "ax.plot(sizes, t_numeric, 'o-', label='Inserting row-by-row')\n",
    "ax.plot(sizes, t_numeric_add, 'o-', label='Inserting row-by-row: add_result only')\n",
    "ax.plot(sizes, t_array, 'd-', label='Inserting as binary blob')\n",
    "ax.plot(sizes, t_array_add, 'd-', label='Inserting as binary blob: add_result only')\n",
    "ax.legend()\n",
    "ax.set_xlabel('Array length')\n",
    "ax.set_ylabel('Time (s)')\n",
    "fig.tight_layout()"
   ]
  },
  {
   "cell_type": "markdown",
   "metadata": {},
   "source": [
    "As shown in the latter figure, the time to setup and and close the experiment is approximately 0.4 sec. In case of small array sizes, the difference between inserting values of data as arrays and inserting them row-by-row is relatively unimportant. At larger array sizes, i.e. above 10000 points, the cost of writing data as individual datapoints starts to become important.\n"
   ]
  },
  {
   "cell_type": "markdown",
   "metadata": {},
   "source": [
    "### Case2: Long experiment time "
   ]
  },
  {
   "cell_type": "code",
   "execution_count": 7,
   "metadata": {},
   "outputs": [
    {
     "name": "stdout",
     "output_type": "stream",
     "text": [
      "Starting experimental run with id: 15. \n",
      "Starting experimental run with id: 16. \n"
     ]
    },
    {
     "name": "stdout",
     "output_type": "stream",
     "text": [
      "Starting experimental run with id: 17. \n"
     ]
    },
    {
     "name": "stdout",
     "output_type": "stream",
     "text": [
      "Starting experimental run with id: 18. \n"
     ]
    },
    {
     "name": "stdout",
     "output_type": "stream",
     "text": [
      "Starting experimental run with id: 19. \n"
     ]
    },
    {
     "name": "stdout",
     "output_type": "stream",
     "text": [
      "Starting experimental run with id: 20. \n"
     ]
    },
    {
     "name": "stdout",
     "output_type": "stream",
     "text": [
      "Starting experimental run with id: 21. \n"
     ]
    },
    {
     "name": "stdout",
     "output_type": "stream",
     "text": [
      "Starting experimental run with id: 22. \n"
     ]
    },
    {
     "name": "stdout",
     "output_type": "stream",
     "text": [
      "Starting experimental run with id: 23. \n"
     ]
    },
    {
     "name": "stdout",
     "output_type": "stream",
     "text": [
      "Starting experimental run with id: 24. \n"
     ]
    },
    {
     "name": "stdout",
     "output_type": "stream",
     "text": [
      "Starting experimental run with id: 25. \n"
     ]
    },
    {
     "name": "stdout",
     "output_type": "stream",
     "text": [
      "Starting experimental run with id: 26. \n"
     ]
    },
    {
     "name": "stdout",
     "output_type": "stream",
     "text": [
      "Starting experimental run with id: 27. \n"
     ]
    },
    {
     "name": "stdout",
     "output_type": "stream",
     "text": [
      "Starting experimental run with id: 28. \n"
     ]
    }
   ],
   "source": [
    "sizes = [1,500,1000,2000,3000,4000,5000]\n",
    "nreps = 100\n",
    "t_numeric = []\n",
    "t_numeric_add = []\n",
    "t_numeric_run_ids = []\n",
    "t_array = []\n",
    "t_array_add = []\n",
    "t_array_run_ids = []\n",
    "for size in sizes:\n",
    "    tn, tna, run_id_n =  insert_data('numeric', size, nreps=nreps)\n",
    "    t_numeric.append(tn)\n",
    "    t_numeric_add.append(tna)\n",
    "    t_numeric_run_ids.append(run_id_n)\n",
    "\n",
    "    ta, taa, run_id_a =  insert_data('array', size, nreps=nreps)\n",
    "    t_array.append(ta)\n",
    "    t_array_add.append(taa)\n",
    "    t_array_run_ids.append(run_id_a)"
   ]
  },
  {
   "cell_type": "code",
   "execution_count": 8,
   "metadata": {
    "scrolled": true
   },
   "outputs": [
    {
     "data": {
      "image/png": "[encoded data removed]",
      "text/plain": [
       "<Figure size 432x288 with 1 Axes>"
      ]
     },
     "metadata": {
      "needs_background": "light"
     },
     "output_type": "display_data"
    }
   ],
   "source": [
    "fig, ax = plt.subplots(1,1)\n",
    "ax.plot(sizes, t_numeric, 'o-', label='Inserting row-by-row')\n",
    "ax.plot(sizes, t_numeric_add, 'o-', label='Inserting row-by-row: add_result only')\n",
    "ax.plot(sizes, t_array, 'd-', label='Inserting as binary blob')\n",
    "ax.plot(sizes, t_array_add, 'd-', label='Inserting as binary blob: add_result only')\n",
    "ax.legend()\n",
    "ax.set_xlabel('Array length')\n",
    "ax.set_ylabel('Time (s)')\n",
    "fig.tight_layout()"
   ]
  },
  {
   "cell_type": "markdown",
   "metadata": {},
   "source": [
    "However, as we increase the length of the experiment, as seen here by repeating the insertion 100 times, we see a big difference between inserting values of the data row-by-row and inserting it as a binary blob."
   ]
  },
  {
   "cell_type": "markdown",
   "metadata": {},
   "source": [
    "## Loading the data "
   ]
  },
  {
   "cell_type": "code",
   "execution_count": 9,
   "metadata": {},
   "outputs": [],
   "source": [
    "from qcodes.dataset.data_set import load_by_id\n",
    "from qcodes.dataset.data_export import get_data_by_id"
   ]
  },
  {
   "cell_type": "markdown",
   "metadata": {},
   "source": [
    "As usual you can load the data by using the ``load_by_id`` function but you will notice that the different storage methods\n",
    "are reflected in shape of the data as it is retrieved. "
   ]
  },
  {
   "cell_type": "code",
   "execution_count": 10,
   "metadata": {},
   "outputs": [],
   "source": [
    "run_id_n = t_numeric_run_ids[0]\n",
    "run_id_a = t_array_run_ids[0]"
   ]
  },
  {
   "cell_type": "code",
   "execution_count": 11,
   "metadata": {
    "scrolled": true
   },
   "outputs": [
    {
     "data": {
      "text/plain": [
       "{'x1': {'x1': array([0.60277877, 0.60277877, 0.89795447, 0.89795447, 0.08453773,\n",
       "         0.08453773, 0.0517067 , 0.0517067 , 0.46318057, 0.46318057,\n",
       "         0.59021224, 0.59021224, 0.10127993, 0.10127993, 0.03144976,\n",
       "         0.03144976, 0.84632394, 0.84632394, 0.48501864, 0.48501864,\n",
       "         0.48411994, 0.48411994, 0.29572753, 0.29572753, 0.89914726,\n",
       "         0.89914726, 0.05378051, 0.05378051, 0.36474164, 0.36474164,\n",
       "         0.1462502 , 0.1462502 , 0.7510553 , 0.7510553 , 0.58749506,\n",
       "         0.58749506, 0.01737427, 0.01737427, 0.06941321, 0.06941321,\n",
       "         0.94477016, 0.94477016, 0.07185327, 0.07185327, 0.24700961,\n",
       "         0.24700961, 0.98527482, 0.98527482, 0.86547954, 0.86547954,\n",
       "         0.0698579 , 0.0698579 , 0.00916843, 0.00916843, 0.64377639,\n",
       "         0.64377639, 0.74767366, 0.74767366, 0.07893953, 0.07893953,\n",
       "         0.3219013 , 0.3219013 , 0.63479114, 0.63479114, 0.29712178,\n",
       "         0.29712178, 0.785615  , 0.785615  , 0.28426027, 0.28426027,\n",
       "         0.51833683, 0.51833683, 0.37313575, 0.37313575, 0.10477843,\n",
       "         0.10477843, 0.25975761, 0.25975761, 0.04885296, 0.04885296,\n",
       "         0.53317944, 0.53317944, 0.20506051, 0.20506051, 0.41832391,\n",
       "         0.41832391, 0.9459974 , 0.9459974 , 0.00590024, 0.00590024,\n",
       "         0.49275419, 0.49275419, 0.838848  , 0.838848  , 0.54308197,\n",
       "         0.54308197, 0.10953708, 0.10953708, 0.13687719, 0.13687719,\n",
       "         0.42914373, 0.42914373, 0.54809314, 0.54809314, 0.15166428,\n",
       "         0.15166428, 0.63638488, 0.63638488, 0.20327047, 0.20327047,\n",
       "         0.76974938, 0.76974938, 0.21155847, 0.21155847, 0.92182719,\n",
       "         0.92182719, 0.15087543, 0.15087543, 0.65133733, 0.65133733,\n",
       "         0.1445454 , 0.1445454 , 0.64483164, 0.64483164, 0.04160746,\n",
       "         0.04160746, 0.9605009 , 0.9605009 , 0.16642762, 0.16642762,\n",
       "         0.56600004, 0.56600004, 0.52157608, 0.52157608, 0.1000151 ,\n",
       "         0.1000151 , 0.44779963, 0.44779963, 0.61506214, 0.61506214,\n",
       "         0.93802057, 0.93802057, 0.30719234, 0.30719234, 0.44663815,\n",
       "         0.44663815, 0.71127492, 0.71127492, 0.72231861, 0.72231861,\n",
       "         0.0323037 , 0.0323037 , 0.04125498, 0.04125498, 0.85232277,\n",
       "         0.85232277, 0.11101272, 0.11101272, 0.02712876, 0.02712876,\n",
       "         0.86270265, 0.86270265, 0.58055301, 0.58055301, 0.84497075,\n",
       "         0.84497075, 0.21617708, 0.21617708, 0.32793806, 0.32793806,\n",
       "         0.12188646, 0.12188646, 0.0888528 , 0.0888528 , 0.61051649,\n",
       "         0.61051649, 0.14917445, 0.14917445, 0.98037306, 0.98037306,\n",
       "         0.387371  , 0.387371  , 0.10014527, 0.10014527, 0.14375126,\n",
       "         0.14375126, 0.34318165, 0.34318165, 0.83081508, 0.83081508,\n",
       "         0.63335499, 0.63335499, 0.4667361 , 0.4667361 , 0.31139995,\n",
       "         0.31139995, 0.79706687, 0.79706687, 0.50850314, 0.50850314])}}"
      ]
     },
     "execution_count": 11,
     "metadata": {},
     "output_type": "execute_result"
    }
   ],
   "source": [
    "ds = load_by_id(run_id_n)\n",
    "ds.get_parameter_data('x1')"
   ]
  },
  {
   "cell_type": "markdown",
   "metadata": {},
   "source": [
    "And a dataset stored as binary arrays"
   ]
  },
  {
   "cell_type": "code",
   "execution_count": 12,
   "metadata": {
    "scrolled": true
   },
   "outputs": [
    {
     "data": {
      "text/plain": [
       "{'x1': {'x1': array([[0.3294724 ],\n",
       "         [0.3294724 ],\n",
       "         [0.2033615 ],\n",
       "         [0.2033615 ],\n",
       "         [0.9921161 ],\n",
       "         [0.9921161 ],\n",
       "         [0.26677094],\n",
       "         [0.26677094],\n",
       "         [0.85455587],\n",
       "         [0.85455587],\n",
       "         [0.96248723],\n",
       "         [0.96248723],\n",
       "         [0.95074242],\n",
       "         [0.95074242],\n",
       "         [0.16839205],\n",
       "         [0.16839205],\n",
       "         [0.29699375],\n",
       "         [0.29699375],\n",
       "         [0.97181643],\n",
       "         [0.97181643],\n",
       "         [0.42265727],\n",
       "         [0.42265727],\n",
       "         [0.4637269 ],\n",
       "         [0.4637269 ],\n",
       "         [0.49879787],\n",
       "         [0.49879787],\n",
       "         [0.36601835],\n",
       "         [0.36601835],\n",
       "         [0.53426549],\n",
       "         [0.53426549],\n",
       "         [0.54002144],\n",
       "         [0.54002144],\n",
       "         [0.28426235],\n",
       "         [0.28426235],\n",
       "         [0.05091015],\n",
       "         [0.05091015],\n",
       "         [0.24595619],\n",
       "         [0.24595619],\n",
       "         [0.72477392],\n",
       "         [0.72477392],\n",
       "         [0.98780329],\n",
       "         [0.98780329],\n",
       "         [0.46000689],\n",
       "         [0.46000689],\n",
       "         [0.26225409],\n",
       "         [0.26225409],\n",
       "         [0.21418137],\n",
       "         [0.21418137],\n",
       "         [0.84780765],\n",
       "         [0.84780765],\n",
       "         [0.52733763],\n",
       "         [0.52733763],\n",
       "         [0.57688   ],\n",
       "         [0.57688   ],\n",
       "         [0.92227964],\n",
       "         [0.92227964],\n",
       "         [0.15041723],\n",
       "         [0.15041723],\n",
       "         [0.90021862],\n",
       "         [0.90021862],\n",
       "         [0.6876687 ],\n",
       "         [0.6876687 ],\n",
       "         [0.05006505],\n",
       "         [0.05006505],\n",
       "         [0.61390786],\n",
       "         [0.61390786],\n",
       "         [0.79687506],\n",
       "         [0.79687506],\n",
       "         [0.42664064],\n",
       "         [0.42664064],\n",
       "         [0.54495363],\n",
       "         [0.54495363],\n",
       "         [0.22223105],\n",
       "         [0.22223105],\n",
       "         [0.72008781],\n",
       "         [0.72008781],\n",
       "         [0.80144087],\n",
       "         [0.80144087],\n",
       "         [0.72093543],\n",
       "         [0.72093543],\n",
       "         [0.26327815],\n",
       "         [0.26327815],\n",
       "         [0.25791939],\n",
       "         [0.25791939],\n",
       "         [0.76385966],\n",
       "         [0.76385966],\n",
       "         [0.19022031],\n",
       "         [0.19022031],\n",
       "         [0.06767171],\n",
       "         [0.06767171],\n",
       "         [0.03678077],\n",
       "         [0.03678077],\n",
       "         [0.75289131],\n",
       "         [0.75289131],\n",
       "         [0.65149093],\n",
       "         [0.65149093],\n",
       "         [0.69014638],\n",
       "         [0.69014638],\n",
       "         [0.88409972],\n",
       "         [0.88409972],\n",
       "         [0.71009437],\n",
       "         [0.71009437],\n",
       "         [0.27084716],\n",
       "         [0.27084716],\n",
       "         [0.435015  ],\n",
       "         [0.435015  ],\n",
       "         [0.92402188],\n",
       "         [0.92402188],\n",
       "         [0.10348375],\n",
       "         [0.10348375],\n",
       "         [0.74811498],\n",
       "         [0.74811498],\n",
       "         [0.3826436 ],\n",
       "         [0.3826436 ],\n",
       "         [0.35847246],\n",
       "         [0.35847246],\n",
       "         [0.60362569],\n",
       "         [0.60362569],\n",
       "         [0.97530459],\n",
       "         [0.97530459],\n",
       "         [0.78497546],\n",
       "         [0.78497546],\n",
       "         [0.62283828],\n",
       "         [0.62283828],\n",
       "         [0.79364456],\n",
       "         [0.79364456],\n",
       "         [0.13238231],\n",
       "         [0.13238231],\n",
       "         [0.25280256],\n",
       "         [0.25280256],\n",
       "         [0.14633687],\n",
       "         [0.14633687],\n",
       "         [0.91483729],\n",
       "         [0.91483729],\n",
       "         [0.14384786],\n",
       "         [0.14384786],\n",
       "         [0.10092082],\n",
       "         [0.10092082],\n",
       "         [0.5239807 ],\n",
       "         [0.5239807 ],\n",
       "         [0.60375171],\n",
       "         [0.60375171],\n",
       "         [0.38673639],\n",
       "         [0.38673639],\n",
       "         [0.95271777],\n",
       "         [0.95271777],\n",
       "         [0.4118104 ],\n",
       "         [0.4118104 ],\n",
       "         [0.26922121],\n",
       "         [0.26922121],\n",
       "         [0.76385882],\n",
       "         [0.76385882],\n",
       "         [0.30027167],\n",
       "         [0.30027167],\n",
       "         [0.03757284],\n",
       "         [0.03757284],\n",
       "         [0.05804655],\n",
       "         [0.05804655],\n",
       "         [0.08570008],\n",
       "         [0.08570008],\n",
       "         [0.27172774],\n",
       "         [0.27172774],\n",
       "         [0.12403098],\n",
       "         [0.12403098],\n",
       "         [0.32013677],\n",
       "         [0.32013677],\n",
       "         [0.29504417],\n",
       "         [0.29504417],\n",
       "         [0.06520976],\n",
       "         [0.06520976],\n",
       "         [0.82445736],\n",
       "         [0.82445736],\n",
       "         [0.73628934],\n",
       "         [0.73628934],\n",
       "         [0.99063803],\n",
       "         [0.99063803],\n",
       "         [0.25943833],\n",
       "         [0.25943833],\n",
       "         [0.30364842],\n",
       "         [0.30364842],\n",
       "         [0.72040104],\n",
       "         [0.72040104],\n",
       "         [0.11319517],\n",
       "         [0.11319517],\n",
       "         [0.26932716],\n",
       "         [0.26932716],\n",
       "         [0.66199759],\n",
       "         [0.66199759],\n",
       "         [0.87999662],\n",
       "         [0.87999662],\n",
       "         [0.13001567],\n",
       "         [0.13001567],\n",
       "         [0.90105773],\n",
       "         [0.90105773],\n",
       "         [0.59528528],\n",
       "         [0.59528528],\n",
       "         [0.65617396],\n",
       "         [0.65617396],\n",
       "         [0.73647633],\n",
       "         [0.73647633]])}}"
      ]
     },
     "execution_count": 12,
     "metadata": {},
     "output_type": "execute_result"
    }
   ],
   "source": [
    "ds = load_by_id(run_id_a)\n",
    "ds.get_parameter_data('x1')"
   ]
  },
  {
   "cell_type": "code",
   "execution_count": null,
   "metadata": {},
   "outputs": [],
   "source": []
  }
 ],
 "metadata": {
  "kernelspec": {
   "display_name": "Python 3",
   "language": "python",
   "name": "python3"
  },
  "language_info": {
   "codemirror_mode": {
    "name": "ipython",
    "version": 3
   },
   "file_extension": ".py",
   "mimetype": "text/x-python",
   "name": "python",
   "nbconvert_exporter": "python",
   "pygments_lexer": "ipython3",
   "version": "3.7.5"
  },
  "nbsphinx": {
   "timeout": 600
  },
  "toc": {
   "base_numbering": 1,
   "nav_menu": {},
   "number_sections": true,
   "sideBar": true,
   "skip_h1_title": false,
   "title_cell": "Table of Contents",
   "title_sidebar": "Contents",
   "toc_cell": false,
   "toc_position": {},
   "toc_section_display": true,
   "toc_window_display": false
  },
  "varInspector": {
   "cols": {
    "lenName": 16,
    "lenType": 16,
    "lenVar": 40
   },
   "kernels_config": {
    "python": {
     "delete_cmd_postfix": "",
     "delete_cmd_prefix": "del ",
     "library": "var_list.py",
     "varRefreshCmd": "print(var_dic_list())"
    },
    "r": {
     "delete_cmd_postfix": ") ",
     "delete_cmd_prefix": "rm(",
     "library": "var_list.r",
     "varRefreshCmd": "cat(var_dic_list()) "
    }
   },
   "types_to_exclude": [
    "module",
    "function",
    "builtin_function_or_method",
    "instance",
    "_Feature"
   ],
   "window_display": false
  }
 },
 "nbformat": 4,
 "nbformat_minor": 2
}
