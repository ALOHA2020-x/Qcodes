{
 "cells": [
  {
   "cell_type": "markdown",
   "metadata": {},
   "source": [
    "# DataSet Performance\n",
    "\n",
    "This notebook shows the trade-off between inserting data into a database row-by-row and as binary blobs. Inserting the data row-by-row means that we have direct access to all the data and may perform queries directly on the values of the data. On the other hand, as we shall see, this is much slower than inserting the data directly as binary blobs."
   ]
  },
  {
   "cell_type": "markdown",
   "metadata": {},
   "source": [
    "First, we choose a new location for the database to ensure that we don't add a bunch of benchmarking data to the default one."
   ]
  },
  {
   "cell_type": "code",
   "execution_count": 1,
   "metadata": {
    "execution": {
     "iopub.execute_input": "2020-10-26T09:20:12.940031Z",
     "iopub.status.busy": "2020-10-26T09:20:12.939428Z",
     "iopub.status.idle": "2020-10-26T09:20:14.138189Z",
     "shell.execute_reply": "2020-10-26T09:20:14.137113Z"
    }
   },
   "outputs": [
    {
     "name": "stdout",
     "output_type": "stream",
     "text": [
      "Logging hadn't been started.\n",
      "Activating auto-logging. Current session state plus future input saved.\n",
      "Filename       : /home/vsts/.qcodes/logs/command_history.log\n",
      "Mode           : append\n",
      "Output logging : True\n",
      "Raw input log  : False\n",
      "Timestamping   : True\n",
      "State          : active\n"
     ]
    },
    {
     "name": "stdout",
     "output_type": "stream",
     "text": [
      "Qcodes Logfile : /home/vsts/.qcodes/logs/201026-14685-qcodes.log\n"
     ]
    }
   ],
   "source": [
    "import os\n",
    "cwd = os.getcwd()\n",
    "import qcodes as qc\n",
    "qc.config[\"core\"][\"db_location\"] = os.path.join(cwd, 'testing.db')\n"
   ]
  },
  {
   "cell_type": "code",
   "execution_count": 2,
   "metadata": {
    "execution": {
     "iopub.execute_input": "2020-10-26T09:20:14.145553Z",
     "iopub.status.busy": "2020-10-26T09:20:14.144898Z",
     "iopub.status.idle": "2020-10-26T09:20:14.348397Z",
     "shell.execute_reply": "2020-10-26T09:20:14.348872Z"
    }
   },
   "outputs": [],
   "source": [
    "%matplotlib inline\n",
    "import time\n",
    "import matplotlib.pyplot as plt\n",
    "import numpy as np\n",
    "\n",
    "import qcodes as qc\n",
    "from qcodes.instrument.parameter import ManualParameter\n",
    "from qcodes.dataset.experiment_container import (Experiment,\n",
    "                                                 load_last_experiment,\n",
    "                                                 new_experiment)\n",
    "from qcodes.dataset.sqlite.database import initialise_database\n",
    "from qcodes import load_or_create_experiment\n",
    "from qcodes.dataset.measurements import Measurement"
   ]
  },
  {
   "cell_type": "code",
   "execution_count": 3,
   "metadata": {
    "execution": {
     "iopub.execute_input": "2020-10-26T09:20:14.353124Z",
     "iopub.status.busy": "2020-10-26T09:20:14.352342Z",
     "iopub.status.idle": "2020-10-26T09:20:14.503295Z",
     "shell.execute_reply": "2020-10-26T09:20:14.503815Z"
    }
   },
   "outputs": [
    {
     "name": "stdout",
     "output_type": "stream",
     "text": [
      "\r",
      "0it [00:00, ?it/s]"
     ]
    },
    {
     "name": "stdout",
     "output_type": "stream",
     "text": [
      "\r",
      "Upgrading database; v0 -> v1: : 0it [00:00, ?it/s]"
     ]
    },
    {
     "name": "stdout",
     "output_type": "stream",
     "text": [
      "\r",
      "Upgrading database; v0 -> v1: : 0it [00:00, ?it/s]"
     ]
    },
    {
     "name": "stdout",
     "output_type": "stream",
     "text": [
      "\n",
      "\r",
      "  0%|          | 0/1 [00:00<?, ?it/s]"
     ]
    },
    {
     "name": "stdout",
     "output_type": "stream",
     "text": [
      "\r",
      "Upgrading database; v1 -> v2:   0%|          | 0/1 [00:00<?, ?it/s]"
     ]
    },
    {
     "name": "stdout",
     "output_type": "stream",
     "text": [
      "\r",
      "Upgrading database; v1 -> v2: 100%|██████████| 1/1 [00:00<00:00, 471.06it/s]"
     ]
    },
    {
     "name": "stdout",
     "output_type": "stream",
     "text": [
      "\n",
      "\r",
      "0it [00:00, ?it/s]"
     ]
    },
    {
     "name": "stdout",
     "output_type": "stream",
     "text": [
      "\r",
      "Upgrading database; v2 -> v3: : 0it [00:00, ?it/s]"
     ]
    },
    {
     "name": "stdout",
     "output_type": "stream",
     "text": [
      "\r",
      "Upgrading database; v2 -> v3: : 0it [00:00, ?it/s]"
     ]
    },
    {
     "name": "stdout",
     "output_type": "stream",
     "text": [
      "\n",
      "\r",
      "0it [00:00, ?it/s]"
     ]
    },
    {
     "name": "stdout",
     "output_type": "stream",
     "text": [
      "\r",
      "Upgrading database; v3 -> v4: : 0it [00:00, ?it/s]"
     ]
    },
    {
     "name": "stdout",
     "output_type": "stream",
     "text": [
      "\r",
      "Upgrading database; v3 -> v4: : 0it [00:00, ?it/s]"
     ]
    },
    {
     "name": "stdout",
     "output_type": "stream",
     "text": [
      "\n",
      "\r",
      "  0%|          | 0/1 [00:00<?, ?it/s]"
     ]
    },
    {
     "name": "stdout",
     "output_type": "stream",
     "text": [
      "\r",
      "Upgrading database; v4 -> v5:   0%|          | 0/1 [00:00<?, ?it/s]"
     ]
    },
    {
     "name": "stdout",
     "output_type": "stream",
     "text": [
      "\r",
      "Upgrading database; v4 -> v5: 100%|██████████| 1/1 [00:00<00:00, 453.24it/s]"
     ]
    },
    {
     "name": "stdout",
     "output_type": "stream",
     "text": [
      "\n",
      "\r",
      "0it [00:00, ?it/s]"
     ]
    },
    {
     "name": "stdout",
     "output_type": "stream",
     "text": [
      "\r",
      "Upgrading database; v5 -> v6: : 0it [00:00, ?it/s]"
     ]
    },
    {
     "name": "stdout",
     "output_type": "stream",
     "text": [
      "\r",
      "Upgrading database; v5 -> v6: : 0it [00:00, ?it/s]"
     ]
    },
    {
     "name": "stdout",
     "output_type": "stream",
     "text": [
      "\n",
      "\r",
      "  0%|          | 0/1 [00:00<?, ?it/s]"
     ]
    },
    {
     "name": "stdout",
     "output_type": "stream",
     "text": [
      "\r",
      "Upgrading database; v6 -> v7:   0%|          | 0/1 [00:00<?, ?it/s]"
     ]
    },
    {
     "name": "stdout",
     "output_type": "stream",
     "text": [
      "\r",
      "Upgrading database; v6 -> v7: 100%|██████████| 1/1 [00:00<00:00, 205.57it/s]"
     ]
    },
    {
     "name": "stdout",
     "output_type": "stream",
     "text": [
      "\n",
      "\r",
      "  0%|          | 0/1 [00:00<?, ?it/s]"
     ]
    },
    {
     "name": "stdout",
     "output_type": "stream",
     "text": [
      "\r",
      "Upgrading database; v7 -> v8:   0%|          | 0/1 [00:00<?, ?it/s]"
     ]
    },
    {
     "name": "stdout",
     "output_type": "stream",
     "text": [
      "\r",
      "Upgrading database; v7 -> v8: 100%|██████████| 1/1 [00:00<00:00, 444.83it/s]"
     ]
    },
    {
     "name": "stdout",
     "output_type": "stream",
     "text": [
      "\n",
      "\r",
      "  0%|          | 0/1 [00:00<?, ?it/s]"
     ]
    },
    {
     "name": "stdout",
     "output_type": "stream",
     "text": [
      "\r",
      "Upgrading database; v8 -> v9:   0%|          | 0/1 [00:00<?, ?it/s]"
     ]
    },
    {
     "name": "stdout",
     "output_type": "stream",
     "text": [
      "\r",
      "Upgrading database; v8 -> v9: 100%|██████████| 1/1 [00:00<00:00, 229.26it/s]"
     ]
    },
    {
     "name": "stdout",
     "output_type": "stream",
     "text": [
      "\n"
     ]
    }
   ],
   "source": [
    "initialise_database()\n",
    "exp = load_or_create_experiment(experiment_name='tutorial_exp', sample_name=\"no sample\")"
   ]
  },
  {
   "cell_type": "markdown",
   "metadata": {},
   "source": [
    "Here, we define a simple function to benchmark the time it takes to insert n points with either numeric or array data type.\n",
    "We will compare both the time used to call ``add_result`` and the time used for the full measurement."
   ]
  },
  {
   "cell_type": "code",
   "execution_count": 4,
   "metadata": {
    "execution": {
     "iopub.execute_input": "2020-10-26T09:20:14.513709Z",
     "iopub.status.busy": "2020-10-26T09:20:14.513057Z",
     "iopub.status.idle": "2020-10-26T09:20:14.516778Z",
     "shell.execute_reply": "2020-10-26T09:20:14.517214Z"
    }
   },
   "outputs": [],
   "source": [
    "def insert_data(paramtype, npoints, nreps=1):\n",
    "\n",
    "    meas = Measurement(exp=exp)\n",
    "\n",
    "    x1 = ManualParameter('x1')\n",
    "    x2 = ManualParameter('x2')\n",
    "    x3 = ManualParameter('x3')\n",
    "    y1 = ManualParameter('y1')\n",
    "    y2 = ManualParameter('y2')\n",
    "\n",
    "    meas.register_parameter(x1, paramtype=paramtype)\n",
    "    meas.register_parameter(x2, paramtype=paramtype)\n",
    "    meas.register_parameter(x3, paramtype=paramtype)\n",
    "    meas.register_parameter(y1, setpoints=[x1, x2, x3],\n",
    "                            paramtype=paramtype)\n",
    "    meas.register_parameter(y2, setpoints=[x1, x2, x3],\n",
    "                            paramtype=paramtype)\n",
    "    start = time.perf_counter()\n",
    "    with meas.run() as datasaver:\n",
    "        start_adding = time.perf_counter()\n",
    "        for i in range(nreps):\n",
    "            datasaver.add_result((x1, np.random.rand(npoints)),\n",
    "                                 (x2, np.random.rand(npoints)),\n",
    "                                 (x3, np.random.rand(npoints)),\n",
    "                                 (y1, np.random.rand(npoints)),\n",
    "                                 (y2, np.random.rand(npoints)))\n",
    "        stop_adding = time.perf_counter()\n",
    "        run_id = datasaver.run_id\n",
    "    stop = time.perf_counter()\n",
    "    tot_time = stop - start\n",
    "    add_time = stop_adding - start_adding\n",
    "    return tot_time, add_time, run_id"
   ]
  },
  {
   "cell_type": "markdown",
   "metadata": {},
   "source": [
    "## Comparison between numeric/array data and binary blob"
   ]
  },
  {
   "cell_type": "markdown",
   "metadata": {},
   "source": [
    "### Case1: Short experiment time"
   ]
  },
  {
   "cell_type": "code",
   "execution_count": 5,
   "metadata": {
    "execution": {
     "iopub.execute_input": "2020-10-26T09:20:14.524627Z",
     "iopub.status.busy": "2020-10-26T09:20:14.523931Z",
     "iopub.status.idle": "2020-10-26T09:20:15.497336Z",
     "shell.execute_reply": "2020-10-26T09:20:15.498097Z"
    }
   },
   "outputs": [
    {
     "name": "stdout",
     "output_type": "stream",
     "text": [
      "Starting experimental run with id: 1. \n",
      "Starting experimental run with id: 2. \n",
      "Starting experimental run with id: 3. \n"
     ]
    },
    {
     "name": "stdout",
     "output_type": "stream",
     "text": [
      "Starting experimental run with id: 4. \n"
     ]
    },
    {
     "name": "stdout",
     "output_type": "stream",
     "text": [
      "Starting experimental run with id: 5. \n"
     ]
    },
    {
     "name": "stdout",
     "output_type": "stream",
     "text": [
      "Starting experimental run with id: 6. \n"
     ]
    },
    {
     "name": "stdout",
     "output_type": "stream",
     "text": [
      "Starting experimental run with id: 7. \n"
     ]
    },
    {
     "name": "stdout",
     "output_type": "stream",
     "text": [
      "Starting experimental run with id: 8. \n"
     ]
    },
    {
     "name": "stdout",
     "output_type": "stream",
     "text": [
      "Starting experimental run with id: 9. \n"
     ]
    },
    {
     "name": "stdout",
     "output_type": "stream",
     "text": [
      "Starting experimental run with id: 10. \n",
      "Starting experimental run with id: 11. \n"
     ]
    },
    {
     "name": "stdout",
     "output_type": "stream",
     "text": [
      "Starting experimental run with id: 12. \n"
     ]
    },
    {
     "name": "stdout",
     "output_type": "stream",
     "text": [
      "Starting experimental run with id: 13. \n"
     ]
    },
    {
     "name": "stdout",
     "output_type": "stream",
     "text": [
      "Starting experimental run with id: 14. \n"
     ]
    }
   ],
   "source": [
    "sizes = [1,500,1000,2000,3000,4000,5000]\n",
    "t_numeric = []\n",
    "t_numeric_add = []\n",
    "t_array = []\n",
    "t_array_add = []\n",
    "for size in sizes:\n",
    "    tn, tna, run_id_n =  insert_data('numeric', size)\n",
    "    t_numeric.append(tn)\n",
    "    t_numeric_add.append(tna)\n",
    "\n",
    "    ta, taa, run_id_a =  insert_data('array', size)\n",
    "    t_array.append(ta)\n",
    "    t_array_add.append(taa)"
   ]
  },
  {
   "cell_type": "code",
   "execution_count": 6,
   "metadata": {
    "execution": {
     "iopub.execute_input": "2020-10-26T09:20:15.517877Z",
     "iopub.status.busy": "2020-10-26T09:20:15.517292Z",
     "iopub.status.idle": "2020-10-26T09:20:15.758913Z",
     "shell.execute_reply": "2020-10-26T09:20:15.759430Z"
    }
   },
   "outputs": [
    {
     "data": {
      "image/png": "[encoded data removed]",
      "text/plain": [
       "<Figure size 432x288 with 1 Axes>"
      ]
     },
     "metadata": {
      "needs_background": "light"
     },
     "output_type": "display_data"
    }
   ],
   "source": [
    "fig, ax = plt.subplots(1,1)\n",
    "ax.plot(sizes, t_numeric, 'o-', label='Inserting row-by-row')\n",
    "ax.plot(sizes, t_numeric_add, 'o-', label='Inserting row-by-row: add_result only')\n",
    "ax.plot(sizes, t_array, 'd-', label='Inserting as binary blob')\n",
    "ax.plot(sizes, t_array_add, 'd-', label='Inserting as binary blob: add_result only')\n",
    "ax.legend()\n",
    "ax.set_xlabel('Array length')\n",
    "ax.set_ylabel('Time (s)')\n",
    "fig.tight_layout()"
   ]
  },
  {
   "cell_type": "markdown",
   "metadata": {},
   "source": [
    "As shown in the latter figure, the time to setup and and close the experiment is approximately 0.4 sec. In case of small array sizes, the difference between inserting values of data as arrays and inserting them row-by-row is relatively unimportant. At larger array sizes, i.e. above 10000 points, the cost of writing data as individual datapoints starts to become important.\n"
   ]
  },
  {
   "cell_type": "markdown",
   "metadata": {},
   "source": [
    "### Case2: Long experiment time "
   ]
  },
  {
   "cell_type": "code",
   "execution_count": 7,
   "metadata": {
    "execution": {
     "iopub.execute_input": "2020-10-26T09:20:15.767859Z",
     "iopub.status.busy": "2020-10-26T09:20:15.766485Z",
     "iopub.status.idle": "2020-10-26T09:21:17.615255Z",
     "shell.execute_reply": "2020-10-26T09:21:17.614736Z"
    }
   },
   "outputs": [
    {
     "name": "stdout",
     "output_type": "stream",
     "text": [
      "Starting experimental run with id: 15. \n",
      "Starting experimental run with id: 16. \n",
      "Starting experimental run with id: 17. \n"
     ]
    },
    {
     "name": "stdout",
     "output_type": "stream",
     "text": [
      "Starting experimental run with id: 18. \n",
      "Starting experimental run with id: 19. \n"
     ]
    },
    {
     "name": "stdout",
     "output_type": "stream",
     "text": [
      "Starting experimental run with id: 20. \n"
     ]
    },
    {
     "name": "stdout",
     "output_type": "stream",
     "text": [
      "Starting experimental run with id: 21. \n"
     ]
    },
    {
     "name": "stdout",
     "output_type": "stream",
     "text": [
      "Starting experimental run with id: 22. \n"
     ]
    },
    {
     "name": "stdout",
     "output_type": "stream",
     "text": [
      "Starting experimental run with id: 23. \n"
     ]
    },
    {
     "name": "stdout",
     "output_type": "stream",
     "text": [
      "Starting experimental run with id: 24. \n"
     ]
    },
    {
     "name": "stdout",
     "output_type": "stream",
     "text": [
      "Starting experimental run with id: 25. \n"
     ]
    },
    {
     "name": "stdout",
     "output_type": "stream",
     "text": [
      "Starting experimental run with id: 26. \n"
     ]
    },
    {
     "name": "stdout",
     "output_type": "stream",
     "text": [
      "Starting experimental run with id: 27. \n"
     ]
    },
    {
     "name": "stdout",
     "output_type": "stream",
     "text": [
      "Starting experimental run with id: 28. \n"
     ]
    }
   ],
   "source": [
    "sizes = [1,500,1000,2000,3000,4000,5000]\n",
    "nreps = 100\n",
    "t_numeric = []\n",
    "t_numeric_add = []\n",
    "t_numeric_run_ids = []\n",
    "t_array = []\n",
    "t_array_add = []\n",
    "t_array_run_ids = []\n",
    "for size in sizes:\n",
    "    tn, tna, run_id_n =  insert_data('numeric', size, nreps=nreps)\n",
    "    t_numeric.append(tn)\n",
    "    t_numeric_add.append(tna)\n",
    "    t_numeric_run_ids.append(run_id_n)\n",
    "\n",
    "    ta, taa, run_id_a =  insert_data('array', size, nreps=nreps)\n",
    "    t_array.append(ta)\n",
    "    t_array_add.append(taa)\n",
    "    t_array_run_ids.append(run_id_a)"
   ]
  },
  {
   "cell_type": "code",
   "execution_count": 8,
   "metadata": {
    "execution": {
     "iopub.execute_input": "2020-10-26T09:21:17.643495Z",
     "iopub.status.busy": "2020-10-26T09:21:17.639342Z",
     "iopub.status.idle": "2020-10-26T09:21:17.868464Z",
     "shell.execute_reply": "2020-10-26T09:21:17.867933Z"
    },
    "scrolled": true
   },
   "outputs": [
    {
     "data": {
      "image/png": "[encoded data removed]",
      "text/plain": [
       "<Figure size 432x288 with 1 Axes>"
      ]
     },
     "metadata": {
      "needs_background": "light"
     },
     "output_type": "display_data"
    }
   ],
   "source": [
    "fig, ax = plt.subplots(1,1)\n",
    "ax.plot(sizes, t_numeric, 'o-', label='Inserting row-by-row')\n",
    "ax.plot(sizes, t_numeric_add, 'o-', label='Inserting row-by-row: add_result only')\n",
    "ax.plot(sizes, t_array, 'd-', label='Inserting as binary blob')\n",
    "ax.plot(sizes, t_array_add, 'd-', label='Inserting as binary blob: add_result only')\n",
    "ax.legend()\n",
    "ax.set_xlabel('Array length')\n",
    "ax.set_ylabel('Time (s)')\n",
    "fig.tight_layout()"
   ]
  },
  {
   "cell_type": "markdown",
   "metadata": {},
   "source": [
    "However, as we increase the length of the experiment, as seen here by repeating the insertion 100 times, we see a big difference between inserting values of the data row-by-row and inserting it as a binary blob."
   ]
  },
  {
   "cell_type": "markdown",
   "metadata": {},
   "source": [
    "## Loading the data "
   ]
  },
  {
   "cell_type": "code",
   "execution_count": 9,
   "metadata": {
    "execution": {
     "iopub.execute_input": "2020-10-26T09:21:17.873561Z",
     "iopub.status.busy": "2020-10-26T09:21:17.872167Z",
     "iopub.status.idle": "2020-10-26T09:21:17.875630Z",
     "shell.execute_reply": "2020-10-26T09:21:17.875163Z"
    }
   },
   "outputs": [],
   "source": [
    "from qcodes.dataset.data_set import load_by_id\n",
    "from qcodes.dataset.data_export import get_data_by_id"
   ]
  },
  {
   "cell_type": "markdown",
   "metadata": {},
   "source": [
    "As usual you can load the data by using the ``load_by_id`` function but you will notice that the different storage methods\n",
    "are reflected in shape of the data as it is retrieved. "
   ]
  },
  {
   "cell_type": "code",
   "execution_count": 10,
   "metadata": {
    "execution": {
     "iopub.execute_input": "2020-10-26T09:21:17.880147Z",
     "iopub.status.busy": "2020-10-26T09:21:17.878954Z",
     "iopub.status.idle": "2020-10-26T09:21:17.880780Z",
     "shell.execute_reply": "2020-10-26T09:21:17.881270Z"
    }
   },
   "outputs": [],
   "source": [
    "run_id_n = t_numeric_run_ids[0]\n",
    "run_id_a = t_array_run_ids[0]"
   ]
  },
  {
   "cell_type": "code",
   "execution_count": 11,
   "metadata": {
    "execution": {
     "iopub.execute_input": "2020-10-26T09:21:17.884958Z",
     "iopub.status.busy": "2020-10-26T09:21:17.884389Z",
     "iopub.status.idle": "2020-10-26T09:21:17.893374Z",
     "shell.execute_reply": "2020-10-26T09:21:17.893915Z"
    },
    "scrolled": true
   },
   "outputs": [
    {
     "data": {
      "text/plain": [
       "{'x1': {'x1': array([0.20305072, 0.20305072, 0.08963849, 0.08963849, 0.36437936,\n",
       "         0.36437936, 0.23618377, 0.23618377, 0.07819964, 0.07819964,\n",
       "         0.48025876, 0.48025876, 0.80111101, 0.80111101, 0.51992694,\n",
       "         0.51992694, 0.99612066, 0.99612066, 0.37299658, 0.37299658,\n",
       "         0.44871007, 0.44871007, 0.42660674, 0.42660674, 0.88513542,\n",
       "         0.88513542, 0.74419802, 0.74419802, 0.66116121, 0.66116121,\n",
       "         0.88958054, 0.88958054, 0.99247914, 0.99247914, 0.96025786,\n",
       "         0.96025786, 0.71337807, 0.71337807, 0.3608205 , 0.3608205 ,\n",
       "         0.09946944, 0.09946944, 0.36038652, 0.36038652, 0.91178054,\n",
       "         0.91178054, 0.65954107, 0.65954107, 0.17406243, 0.17406243,\n",
       "         0.27006779, 0.27006779, 0.50049023, 0.50049023, 0.14232247,\n",
       "         0.14232247, 0.07786614, 0.07786614, 0.76466593, 0.76466593,\n",
       "         0.49205287, 0.49205287, 0.10092407, 0.10092407, 0.83191076,\n",
       "         0.83191076, 0.56302686, 0.56302686, 0.80588243, 0.80588243,\n",
       "         0.63198394, 0.63198394, 0.17190028, 0.17190028, 0.56961486,\n",
       "         0.56961486, 0.43104142, 0.43104142, 0.12467731, 0.12467731,\n",
       "         0.34358281, 0.34358281, 0.0798638 , 0.0798638 , 0.0103227 ,\n",
       "         0.0103227 , 0.44030116, 0.44030116, 0.42681804, 0.42681804,\n",
       "         0.11528968, 0.11528968, 0.55993248, 0.55993248, 0.67020112,\n",
       "         0.67020112, 0.29400438, 0.29400438, 0.86452709, 0.86452709,\n",
       "         0.76280126, 0.76280126, 0.88371709, 0.88371709, 0.9339537 ,\n",
       "         0.9339537 , 0.14605276, 0.14605276, 0.50629831, 0.50629831,\n",
       "         0.82308505, 0.82308505, 0.52348016, 0.52348016, 0.51104756,\n",
       "         0.51104756, 0.01989223, 0.01989223, 0.07563073, 0.07563073,\n",
       "         0.21796816, 0.21796816, 0.70726454, 0.70726454, 0.25863744,\n",
       "         0.25863744, 0.12875737, 0.12875737, 0.73998855, 0.73998855,\n",
       "         0.77237744, 0.77237744, 0.56635873, 0.56635873, 0.61590657,\n",
       "         0.61590657, 0.41882992, 0.41882992, 0.87466044, 0.87466044,\n",
       "         0.23746548, 0.23746548, 0.04368825, 0.04368825, 0.01638293,\n",
       "         0.01638293, 0.23156118, 0.23156118, 0.16289926, 0.16289926,\n",
       "         0.56138946, 0.56138946, 0.02443165, 0.02443165, 0.07557017,\n",
       "         0.07557017, 0.57686665, 0.57686665, 0.7833519 , 0.7833519 ,\n",
       "         0.72988282, 0.72988282, 0.86875105, 0.86875105, 0.63503663,\n",
       "         0.63503663, 0.46035682, 0.46035682, 0.35710017, 0.35710017,\n",
       "         0.95427572, 0.95427572, 0.96419555, 0.96419555, 0.16942124,\n",
       "         0.16942124, 0.39496355, 0.39496355, 0.29495071, 0.29495071,\n",
       "         0.58395186, 0.58395186, 0.23467894, 0.23467894, 0.56873846,\n",
       "         0.56873846, 0.28612986, 0.28612986, 0.30677685, 0.30677685,\n",
       "         0.69235988, 0.69235988, 0.9629457 , 0.9629457 , 0.99341249,\n",
       "         0.99341249, 0.47958137, 0.47958137, 0.44882827, 0.44882827])}}"
      ]
     },
     "execution_count": 1,
     "metadata": {},
     "output_type": "execute_result"
    }
   ],
   "source": [
    "ds = load_by_id(run_id_n)\n",
    "ds.get_parameter_data('x1')"
   ]
  },
  {
   "cell_type": "markdown",
   "metadata": {},
   "source": [
    "And a dataset stored as binary arrays"
   ]
  },
  {
   "cell_type": "code",
   "execution_count": 12,
   "metadata": {
    "execution": {
     "iopub.execute_input": "2020-10-26T09:21:17.897350Z",
     "iopub.status.busy": "2020-10-26T09:21:17.896742Z",
     "iopub.status.idle": "2020-10-26T09:21:17.957693Z",
     "shell.execute_reply": "2020-10-26T09:21:17.958144Z"
    },
    "scrolled": true
   },
   "outputs": [
    {
     "data": {
      "text/plain": [
       "{'x1': {'x1': array([[0.82384886],\n",
       "         [0.82384886],\n",
       "         [0.20008383],\n",
       "         [0.20008383],\n",
       "         [0.93344143],\n",
       "         [0.93344143],\n",
       "         [0.82167032],\n",
       "         [0.82167032],\n",
       "         [0.54314964],\n",
       "         [0.54314964],\n",
       "         [0.36094035],\n",
       "         [0.36094035],\n",
       "         [0.18599809],\n",
       "         [0.18599809],\n",
       "         [0.2686545 ],\n",
       "         [0.2686545 ],\n",
       "         [0.99280594],\n",
       "         [0.99280594],\n",
       "         [0.69951653],\n",
       "         [0.69951653],\n",
       "         [0.97971742],\n",
       "         [0.97971742],\n",
       "         [0.50752146],\n",
       "         [0.50752146],\n",
       "         [0.19007071],\n",
       "         [0.19007071],\n",
       "         [0.05108048],\n",
       "         [0.05108048],\n",
       "         [0.12856122],\n",
       "         [0.12856122],\n",
       "         [0.86476267],\n",
       "         [0.86476267],\n",
       "         [0.07252465],\n",
       "         [0.07252465],\n",
       "         [0.90060846],\n",
       "         [0.90060846],\n",
       "         [0.70897282],\n",
       "         [0.70897282],\n",
       "         [0.95753249],\n",
       "         [0.95753249],\n",
       "         [0.84617002],\n",
       "         [0.84617002],\n",
       "         [0.02151837],\n",
       "         [0.02151837],\n",
       "         [0.83726434],\n",
       "         [0.83726434],\n",
       "         [0.4628039 ],\n",
       "         [0.4628039 ],\n",
       "         [0.29920959],\n",
       "         [0.29920959],\n",
       "         [0.00591358],\n",
       "         [0.00591358],\n",
       "         [0.11197537],\n",
       "         [0.11197537],\n",
       "         [0.21408352],\n",
       "         [0.21408352],\n",
       "         [0.17542034],\n",
       "         [0.17542034],\n",
       "         [0.8780841 ],\n",
       "         [0.8780841 ],\n",
       "         [0.58730652],\n",
       "         [0.58730652],\n",
       "         [0.00222864],\n",
       "         [0.00222864],\n",
       "         [0.71490656],\n",
       "         [0.71490656],\n",
       "         [0.62917159],\n",
       "         [0.62917159],\n",
       "         [0.25790255],\n",
       "         [0.25790255],\n",
       "         [0.62723709],\n",
       "         [0.62723709],\n",
       "         [0.54447654],\n",
       "         [0.54447654],\n",
       "         [0.96094164],\n",
       "         [0.96094164],\n",
       "         [0.48532012],\n",
       "         [0.48532012],\n",
       "         [0.57895788],\n",
       "         [0.57895788],\n",
       "         [0.19048849],\n",
       "         [0.19048849],\n",
       "         [0.97369726],\n",
       "         [0.97369726],\n",
       "         [0.62862174],\n",
       "         [0.62862174],\n",
       "         [0.74623075],\n",
       "         [0.74623075],\n",
       "         [0.54410324],\n",
       "         [0.54410324],\n",
       "         [0.5239666 ],\n",
       "         [0.5239666 ],\n",
       "         [0.74407157],\n",
       "         [0.74407157],\n",
       "         [0.13948485],\n",
       "         [0.13948485],\n",
       "         [0.29342445],\n",
       "         [0.29342445],\n",
       "         [0.80662691],\n",
       "         [0.80662691],\n",
       "         [0.95520794],\n",
       "         [0.95520794],\n",
       "         [0.03500838],\n",
       "         [0.03500838],\n",
       "         [0.39459474],\n",
       "         [0.39459474],\n",
       "         [0.41574454],\n",
       "         [0.41574454],\n",
       "         [0.78631712],\n",
       "         [0.78631712],\n",
       "         [0.24981821],\n",
       "         [0.24981821],\n",
       "         [0.27282581],\n",
       "         [0.27282581],\n",
       "         [0.43694562],\n",
       "         [0.43694562],\n",
       "         [0.16237828],\n",
       "         [0.16237828],\n",
       "         [0.45136412],\n",
       "         [0.45136412],\n",
       "         [0.48052649],\n",
       "         [0.48052649],\n",
       "         [0.78142008],\n",
       "         [0.78142008],\n",
       "         [0.04641557],\n",
       "         [0.04641557],\n",
       "         [0.44604416],\n",
       "         [0.44604416],\n",
       "         [0.89655593],\n",
       "         [0.89655593],\n",
       "         [0.45853589],\n",
       "         [0.45853589],\n",
       "         [0.44299288],\n",
       "         [0.44299288],\n",
       "         [0.44787073],\n",
       "         [0.44787073],\n",
       "         [0.40712482],\n",
       "         [0.40712482],\n",
       "         [0.38919174],\n",
       "         [0.38919174],\n",
       "         [0.23947888],\n",
       "         [0.23947888],\n",
       "         [0.35202329],\n",
       "         [0.35202329],\n",
       "         [0.46366023],\n",
       "         [0.46366023],\n",
       "         [0.49982406],\n",
       "         [0.49982406],\n",
       "         [0.44382007],\n",
       "         [0.44382007],\n",
       "         [0.03783533],\n",
       "         [0.03783533],\n",
       "         [0.54409635],\n",
       "         [0.54409635],\n",
       "         [0.9815917 ],\n",
       "         [0.9815917 ],\n",
       "         [0.86955593],\n",
       "         [0.86955593],\n",
       "         [0.43893497],\n",
       "         [0.43893497],\n",
       "         [0.9731318 ],\n",
       "         [0.9731318 ],\n",
       "         [0.98481751],\n",
       "         [0.98481751],\n",
       "         [0.05664268],\n",
       "         [0.05664268],\n",
       "         [0.94493643],\n",
       "         [0.94493643],\n",
       "         [0.91923309],\n",
       "         [0.91923309],\n",
       "         [0.9141845 ],\n",
       "         [0.9141845 ],\n",
       "         [0.03731991],\n",
       "         [0.03731991],\n",
       "         [0.24977738],\n",
       "         [0.24977738],\n",
       "         [0.97105105],\n",
       "         [0.97105105],\n",
       "         [0.65019064],\n",
       "         [0.65019064],\n",
       "         [0.17433093],\n",
       "         [0.17433093],\n",
       "         [0.31748497],\n",
       "         [0.31748497],\n",
       "         [0.73577011],\n",
       "         [0.73577011],\n",
       "         [0.01909984],\n",
       "         [0.01909984],\n",
       "         [0.30653557],\n",
       "         [0.30653557],\n",
       "         [0.77043559],\n",
       "         [0.77043559],\n",
       "         [0.67041193],\n",
       "         [0.67041193],\n",
       "         [0.92541143],\n",
       "         [0.92541143],\n",
       "         [0.53654489],\n",
       "         [0.53654489],\n",
       "         [0.17397394],\n",
       "         [0.17397394]])}}"
      ]
     },
     "execution_count": 1,
     "metadata": {},
     "output_type": "execute_result"
    }
   ],
   "source": [
    "ds = load_by_id(run_id_a)\n",
    "ds.get_parameter_data('x1')"
   ]
  },
  {
   "cell_type": "code",
   "execution_count": null,
   "metadata": {},
   "outputs": [],
   "source": []
  }
 ],
 "metadata": {
  "kernelspec": {
   "display_name": "Python 3",
   "language": "python",
   "name": "python3"
  },
  "language_info": {
   "codemirror_mode": {
    "name": "ipython",
    "version": 3
   },
   "file_extension": ".py",
   "mimetype": "text/x-python",
   "name": "python",
   "nbconvert_exporter": "python",
   "pygments_lexer": "ipython3",
   "version": "3.7.7"
  },
  "nbsphinx": {
   "timeout": 600
  },
  "toc": {
   "base_numbering": 1,
   "nav_menu": {},
   "number_sections": true,
   "sideBar": true,
   "skip_h1_title": false,
   "title_cell": "Table of Contents",
   "title_sidebar": "Contents",
   "toc_cell": false,
   "toc_position": {},
   "toc_section_display": true,
   "toc_window_display": false
  },
  "varInspector": {
   "cols": {
    "lenName": 16,
    "lenType": 16,
    "lenVar": 40
   },
   "kernels_config": {
    "python": {
     "delete_cmd_postfix": "",
     "delete_cmd_prefix": "del ",
     "library": "var_list.py",
     "varRefreshCmd": "print(var_dic_list())"
    },
    "r": {
     "delete_cmd_postfix": ") ",
     "delete_cmd_prefix": "rm(",
     "library": "var_list.r",
     "varRefreshCmd": "cat(var_dic_list()) "
    }
   },
   "types_to_exclude": [
    "module",
    "function",
    "builtin_function_or_method",
    "instance",
    "_Feature"
   ],
   "window_display": false
  }
 },
 "nbformat": 4,
 "nbformat_minor": 2
}
