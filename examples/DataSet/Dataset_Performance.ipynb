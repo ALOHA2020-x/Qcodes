{
 "cells": [
  {
   "cell_type": "markdown",
   "metadata": {},
   "source": [
    "# DataSet Performance\n",
    "\n",
    "This notebook shows the trade-off between inserting data into a database row-by-row and as binary blobs. Inserting the data row-by-row means that we have direct access to all the data and may perform queries directly on the values of the data. On the other hand, as we shall see, this is much slower than inserting the data directly as binary blobs."
   ]
  },
  {
   "cell_type": "markdown",
   "metadata": {},
   "source": [
    "First, we choose a new location for the database to ensure that we don't add a bunch of benchmarking data to the default one."
   ]
  },
  {
   "cell_type": "code",
   "execution_count": 1,
   "metadata": {
    "execution": {
     "iopub.execute_input": "2020-10-30T10:41:17.965352Z",
     "iopub.status.busy": "2020-10-30T10:41:17.964397Z",
     "iopub.status.idle": "2020-10-30T10:41:18.942835Z",
     "shell.execute_reply": "2020-10-30T10:41:18.941947Z"
    }
   },
   "outputs": [
    {
     "name": "stdout",
     "output_type": "stream",
     "text": [
      "Logging hadn't been started.\n",
      "Activating auto-logging. Current session state plus future input saved.\n",
      "Filename       : /home/vsts/.qcodes/logs/command_history.log\n",
      "Mode           : append\n",
      "Output logging : True\n",
      "Raw input log  : False\n",
      "Timestamping   : True\n",
      "State          : active\n"
     ]
    },
    {
     "name": "stdout",
     "output_type": "stream",
     "text": [
      "Qcodes Logfile : /home/vsts/.qcodes/logs/201030-14664-qcodes.log\n"
     ]
    }
   ],
   "source": [
    "import os\n",
    "cwd = os.getcwd()\n",
    "import qcodes as qc\n",
    "qc.config[\"core\"][\"db_location\"] = os.path.join(cwd, 'testing.db')\n"
   ]
  },
  {
   "cell_type": "code",
   "execution_count": 2,
   "metadata": {
    "execution": {
     "iopub.execute_input": "2020-10-30T10:41:18.951194Z",
     "iopub.status.busy": "2020-10-30T10:41:18.948756Z",
     "iopub.status.idle": "2020-10-30T10:41:19.136245Z",
     "shell.execute_reply": "2020-10-30T10:41:19.135389Z"
    }
   },
   "outputs": [],
   "source": [
    "%matplotlib inline\n",
    "import time\n",
    "import matplotlib.pyplot as plt\n",
    "import numpy as np\n",
    "\n",
    "import qcodes as qc\n",
    "from qcodes.instrument.parameter import ManualParameter\n",
    "from qcodes.dataset.experiment_container import (Experiment,\n",
    "                                                 load_last_experiment,\n",
    "                                                 new_experiment)\n",
    "from qcodes.dataset.sqlite.database import initialise_database\n",
    "from qcodes import load_or_create_experiment\n",
    "from qcodes.dataset.measurements import Measurement"
   ]
  },
  {
   "cell_type": "code",
   "execution_count": 3,
   "metadata": {
    "execution": {
     "iopub.execute_input": "2020-10-30T10:41:19.139934Z",
     "iopub.status.busy": "2020-10-30T10:41:19.139249Z",
     "iopub.status.idle": "2020-10-30T10:41:19.236539Z",
     "shell.execute_reply": "2020-10-30T10:41:19.236970Z"
    }
   },
   "outputs": [
    {
     "name": "stdout",
     "output_type": "stream",
     "text": [
      "\r",
      "0it [00:00, ?it/s]"
     ]
    },
    {
     "name": "stdout",
     "output_type": "stream",
     "text": [
      "\r",
      "Upgrading database; v0 -> v1: : 0it [00:00, ?it/s]"
     ]
    },
    {
     "name": "stdout",
     "output_type": "stream",
     "text": [
      "\r",
      "Upgrading database; v0 -> v1: : 0it [00:00, ?it/s]"
     ]
    },
    {
     "name": "stdout",
     "output_type": "stream",
     "text": [
      "\n",
      "\r",
      "  0%|          | 0/1 [00:00<?, ?it/s]"
     ]
    },
    {
     "name": "stdout",
     "output_type": "stream",
     "text": [
      "\r",
      "Upgrading database; v1 -> v2:   0%|          | 0/1 [00:00<?, ?it/s]"
     ]
    },
    {
     "name": "stdout",
     "output_type": "stream",
     "text": [
      "\r",
      "Upgrading database; v1 -> v2: 100%|██████████| 1/1 [00:00<00:00, 580.21it/s]"
     ]
    },
    {
     "name": "stdout",
     "output_type": "stream",
     "text": [
      "\n",
      "\r",
      "0it [00:00, ?it/s]"
     ]
    },
    {
     "name": "stdout",
     "output_type": "stream",
     "text": [
      "\r",
      "Upgrading database; v2 -> v3: : 0it [00:00, ?it/s]"
     ]
    },
    {
     "name": "stdout",
     "output_type": "stream",
     "text": [
      "\r",
      "Upgrading database; v2 -> v3: : 0it [00:00, ?it/s]"
     ]
    },
    {
     "name": "stdout",
     "output_type": "stream",
     "text": [
      "\n",
      "\r",
      "0it [00:00, ?it/s]"
     ]
    },
    {
     "name": "stdout",
     "output_type": "stream",
     "text": [
      "\r",
      "Upgrading database; v3 -> v4: : 0it [00:00, ?it/s]"
     ]
    },
    {
     "name": "stdout",
     "output_type": "stream",
     "text": [
      "\r",
      "Upgrading database; v3 -> v4: : 0it [00:00, ?it/s]"
     ]
    },
    {
     "name": "stdout",
     "output_type": "stream",
     "text": [
      "\n",
      "\r",
      "  0%|          | 0/1 [00:00<?, ?it/s]"
     ]
    },
    {
     "name": "stdout",
     "output_type": "stream",
     "text": [
      "\r",
      "Upgrading database; v4 -> v5:   0%|          | 0/1 [00:00<?, ?it/s]"
     ]
    },
    {
     "name": "stdout",
     "output_type": "stream",
     "text": [
      "\r",
      "Upgrading database; v4 -> v5: 100%|██████████| 1/1 [00:00<00:00, 516.54it/s]"
     ]
    },
    {
     "name": "stdout",
     "output_type": "stream",
     "text": [
      "\n",
      "\r",
      "0it [00:00, ?it/s]"
     ]
    },
    {
     "name": "stdout",
     "output_type": "stream",
     "text": [
      "\r",
      "Upgrading database; v5 -> v6: : 0it [00:00, ?it/s]"
     ]
    },
    {
     "name": "stdout",
     "output_type": "stream",
     "text": [
      "\r",
      "Upgrading database; v5 -> v6: : 0it [00:00, ?it/s]"
     ]
    },
    {
     "name": "stdout",
     "output_type": "stream",
     "text": [
      "\n",
      "\r",
      "  0%|          | 0/1 [00:00<?, ?it/s]"
     ]
    },
    {
     "name": "stdout",
     "output_type": "stream",
     "text": [
      "\r",
      "Upgrading database; v6 -> v7:   0%|          | 0/1 [00:00<?, ?it/s]"
     ]
    },
    {
     "name": "stdout",
     "output_type": "stream",
     "text": [
      "\r",
      "Upgrading database; v6 -> v7: 100%|██████████| 1/1 [00:00<00:00, 468.27it/s]"
     ]
    },
    {
     "name": "stdout",
     "output_type": "stream",
     "text": [
      "\n",
      "\r",
      "  0%|          | 0/1 [00:00<?, ?it/s]"
     ]
    },
    {
     "name": "stdout",
     "output_type": "stream",
     "text": [
      "\r",
      "Upgrading database; v7 -> v8:   0%|          | 0/1 [00:00<?, ?it/s]"
     ]
    },
    {
     "name": "stdout",
     "output_type": "stream",
     "text": [
      "\r",
      "Upgrading database; v7 -> v8: 100%|██████████| 1/1 [00:00<00:00, 1241.29it/s]"
     ]
    },
    {
     "name": "stdout",
     "output_type": "stream",
     "text": [
      "\n",
      "\r",
      "  0%|          | 0/1 [00:00<?, ?it/s]"
     ]
    },
    {
     "name": "stdout",
     "output_type": "stream",
     "text": [
      "\r",
      "Upgrading database; v8 -> v9:   0%|          | 0/1 [00:00<?, ?it/s]"
     ]
    },
    {
     "name": "stdout",
     "output_type": "stream",
     "text": [
      "\r",
      "Upgrading database; v8 -> v9: 100%|██████████| 1/1 [00:00<00:00, 1088.58it/s]"
     ]
    },
    {
     "name": "stdout",
     "output_type": "stream",
     "text": [
      "\n"
     ]
    }
   ],
   "source": [
    "initialise_database()\n",
    "exp = load_or_create_experiment(experiment_name='tutorial_exp', sample_name=\"no sample\")"
   ]
  },
  {
   "cell_type": "markdown",
   "metadata": {},
   "source": [
    "Here, we define a simple function to benchmark the time it takes to insert n points with either numeric or array data type.\n",
    "We will compare both the time used to call ``add_result`` and the time used for the full measurement."
   ]
  },
  {
   "cell_type": "code",
   "execution_count": 4,
   "metadata": {
    "execution": {
     "iopub.execute_input": "2020-10-30T10:41:19.244845Z",
     "iopub.status.busy": "2020-10-30T10:41:19.243628Z",
     "iopub.status.idle": "2020-10-30T10:41:19.245568Z",
     "shell.execute_reply": "2020-10-30T10:41:19.246024Z"
    }
   },
   "outputs": [],
   "source": [
    "def insert_data(paramtype, npoints, nreps=1):\n",
    "\n",
    "    meas = Measurement(exp=exp)\n",
    "\n",
    "    x1 = ManualParameter('x1')\n",
    "    x2 = ManualParameter('x2')\n",
    "    x3 = ManualParameter('x3')\n",
    "    y1 = ManualParameter('y1')\n",
    "    y2 = ManualParameter('y2')\n",
    "\n",
    "    meas.register_parameter(x1, paramtype=paramtype)\n",
    "    meas.register_parameter(x2, paramtype=paramtype)\n",
    "    meas.register_parameter(x3, paramtype=paramtype)\n",
    "    meas.register_parameter(y1, setpoints=[x1, x2, x3],\n",
    "                            paramtype=paramtype)\n",
    "    meas.register_parameter(y2, setpoints=[x1, x2, x3],\n",
    "                            paramtype=paramtype)\n",
    "    start = time.perf_counter()\n",
    "    with meas.run() as datasaver:\n",
    "        start_adding = time.perf_counter()\n",
    "        for i in range(nreps):\n",
    "            datasaver.add_result((x1, np.random.rand(npoints)),\n",
    "                                 (x2, np.random.rand(npoints)),\n",
    "                                 (x3, np.random.rand(npoints)),\n",
    "                                 (y1, np.random.rand(npoints)),\n",
    "                                 (y2, np.random.rand(npoints)))\n",
    "        stop_adding = time.perf_counter()\n",
    "        run_id = datasaver.run_id\n",
    "    stop = time.perf_counter()\n",
    "    tot_time = stop - start\n",
    "    add_time = stop_adding - start_adding\n",
    "    return tot_time, add_time, run_id"
   ]
  },
  {
   "cell_type": "markdown",
   "metadata": {},
   "source": [
    "## Comparison between numeric/array data and binary blob"
   ]
  },
  {
   "cell_type": "markdown",
   "metadata": {},
   "source": [
    "### Case1: Short experiment time"
   ]
  },
  {
   "cell_type": "code",
   "execution_count": 5,
   "metadata": {
    "execution": {
     "iopub.execute_input": "2020-10-30T10:41:19.250919Z",
     "iopub.status.busy": "2020-10-30T10:41:19.249866Z",
     "iopub.status.idle": "2020-10-30T10:41:20.031427Z",
     "shell.execute_reply": "2020-10-30T10:41:20.030549Z"
    }
   },
   "outputs": [
    {
     "name": "stdout",
     "output_type": "stream",
     "text": [
      "Starting experimental run with id: 1. \n",
      "Starting experimental run with id: 2. \n",
      "Starting experimental run with id: 3. \n",
      "Starting experimental run with id: 4. \n",
      "Starting experimental run with id: 5. \n"
     ]
    },
    {
     "name": "stdout",
     "output_type": "stream",
     "text": [
      "Starting experimental run with id: 6. \n"
     ]
    },
    {
     "name": "stdout",
     "output_type": "stream",
     "text": [
      "Starting experimental run with id: 7. \n"
     ]
    },
    {
     "name": "stdout",
     "output_type": "stream",
     "text": [
      "Starting experimental run with id: 8. \n",
      "Starting experimental run with id: 9. \n"
     ]
    },
    {
     "name": "stdout",
     "output_type": "stream",
     "text": [
      "Starting experimental run with id: 10. \n",
      "Starting experimental run with id: 11. \n"
     ]
    },
    {
     "name": "stdout",
     "output_type": "stream",
     "text": [
      "Starting experimental run with id: 12. \n",
      "Starting experimental run with id: 13. \n"
     ]
    },
    {
     "name": "stdout",
     "output_type": "stream",
     "text": [
      "Starting experimental run with id: 14. \n"
     ]
    }
   ],
   "source": [
    "sizes = [1,500,1000,2000,3000,4000,5000]\n",
    "t_numeric = []\n",
    "t_numeric_add = []\n",
    "t_array = []\n",
    "t_array_add = []\n",
    "for size in sizes:\n",
    "    tn, tna, run_id_n =  insert_data('numeric', size)\n",
    "    t_numeric.append(tn)\n",
    "    t_numeric_add.append(tna)\n",
    "\n",
    "    ta, taa, run_id_a =  insert_data('array', size)\n",
    "    t_array.append(ta)\n",
    "    t_array_add.append(taa)"
   ]
  },
  {
   "cell_type": "code",
   "execution_count": 6,
   "metadata": {
    "execution": {
     "iopub.execute_input": "2020-10-30T10:41:20.035444Z",
     "iopub.status.busy": "2020-10-30T10:41:20.034940Z",
     "iopub.status.idle": "2020-10-30T10:41:20.264996Z",
     "shell.execute_reply": "2020-10-30T10:41:20.264550Z"
    }
   },
   "outputs": [
    {
     "data": {
      "image/png": "[encoded data removed]",
      "text/plain": [
       "<Figure size 432x288 with 1 Axes>"
      ]
     },
     "metadata": {
      "needs_background": "light"
     },
     "output_type": "display_data"
    }
   ],
   "source": [
    "fig, ax = plt.subplots(1,1)\n",
    "ax.plot(sizes, t_numeric, 'o-', label='Inserting row-by-row')\n",
    "ax.plot(sizes, t_numeric_add, 'o-', label='Inserting row-by-row: add_result only')\n",
    "ax.plot(sizes, t_array, 'd-', label='Inserting as binary blob')\n",
    "ax.plot(sizes, t_array_add, 'd-', label='Inserting as binary blob: add_result only')\n",
    "ax.legend()\n",
    "ax.set_xlabel('Array length')\n",
    "ax.set_ylabel('Time (s)')\n",
    "fig.tight_layout()"
   ]
  },
  {
   "cell_type": "markdown",
   "metadata": {},
   "source": [
    "As shown in the latter figure, the time to setup and and close the experiment is approximately 0.4 sec. In case of small array sizes, the difference between inserting values of data as arrays and inserting them row-by-row is relatively unimportant. At larger array sizes, i.e. above 10000 points, the cost of writing data as individual datapoints starts to become important.\n"
   ]
  },
  {
   "cell_type": "markdown",
   "metadata": {},
   "source": [
    "### Case2: Long experiment time "
   ]
  },
  {
   "cell_type": "code",
   "execution_count": 7,
   "metadata": {
    "execution": {
     "iopub.execute_input": "2020-10-30T10:41:20.270892Z",
     "iopub.status.busy": "2020-10-30T10:41:20.270405Z",
     "iopub.status.idle": "2020-10-30T10:42:13.798808Z",
     "shell.execute_reply": "2020-10-30T10:42:13.797939Z"
    }
   },
   "outputs": [
    {
     "name": "stdout",
     "output_type": "stream",
     "text": [
      "Starting experimental run with id: 15. \n",
      "Starting experimental run with id: 16. \n",
      "Starting experimental run with id: 17. \n"
     ]
    },
    {
     "name": "stdout",
     "output_type": "stream",
     "text": [
      "Starting experimental run with id: 18. \n",
      "Starting experimental run with id: 19. \n"
     ]
    },
    {
     "name": "stdout",
     "output_type": "stream",
     "text": [
      "Starting experimental run with id: 20. \n"
     ]
    },
    {
     "name": "stdout",
     "output_type": "stream",
     "text": [
      "Starting experimental run with id: 21. \n"
     ]
    },
    {
     "name": "stdout",
     "output_type": "stream",
     "text": [
      "Starting experimental run with id: 22. \n"
     ]
    },
    {
     "name": "stdout",
     "output_type": "stream",
     "text": [
      "Starting experimental run with id: 23. \n"
     ]
    },
    {
     "name": "stdout",
     "output_type": "stream",
     "text": [
      "Starting experimental run with id: 24. \n"
     ]
    },
    {
     "name": "stdout",
     "output_type": "stream",
     "text": [
      "Starting experimental run with id: 25. \n"
     ]
    },
    {
     "name": "stdout",
     "output_type": "stream",
     "text": [
      "Starting experimental run with id: 26. \n"
     ]
    },
    {
     "name": "stdout",
     "output_type": "stream",
     "text": [
      "Starting experimental run with id: 27. \n"
     ]
    },
    {
     "name": "stdout",
     "output_type": "stream",
     "text": [
      "Starting experimental run with id: 28. \n"
     ]
    }
   ],
   "source": [
    "sizes = [1,500,1000,2000,3000,4000,5000]\n",
    "nreps = 100\n",
    "t_numeric = []\n",
    "t_numeric_add = []\n",
    "t_numeric_run_ids = []\n",
    "t_array = []\n",
    "t_array_add = []\n",
    "t_array_run_ids = []\n",
    "for size in sizes:\n",
    "    tn, tna, run_id_n =  insert_data('numeric', size, nreps=nreps)\n",
    "    t_numeric.append(tn)\n",
    "    t_numeric_add.append(tna)\n",
    "    t_numeric_run_ids.append(run_id_n)\n",
    "\n",
    "    ta, taa, run_id_a =  insert_data('array', size, nreps=nreps)\n",
    "    t_array.append(ta)\n",
    "    t_array_add.append(taa)\n",
    "    t_array_run_ids.append(run_id_a)"
   ]
  },
  {
   "cell_type": "code",
   "execution_count": 8,
   "metadata": {
    "execution": {
     "iopub.execute_input": "2020-10-30T10:42:13.826178Z",
     "iopub.status.busy": "2020-10-30T10:42:13.820121Z",
     "iopub.status.idle": "2020-10-30T10:42:14.035084Z",
     "shell.execute_reply": "2020-10-30T10:42:14.034640Z"
    },
    "scrolled": true
   },
   "outputs": [
    {
     "data": {
      "image/png": "[encoded data removed]",
      "text/plain": [
       "<Figure size 432x288 with 1 Axes>"
      ]
     },
     "metadata": {
      "needs_background": "light"
     },
     "output_type": "display_data"
    }
   ],
   "source": [
    "fig, ax = plt.subplots(1,1)\n",
    "ax.plot(sizes, t_numeric, 'o-', label='Inserting row-by-row')\n",
    "ax.plot(sizes, t_numeric_add, 'o-', label='Inserting row-by-row: add_result only')\n",
    "ax.plot(sizes, t_array, 'd-', label='Inserting as binary blob')\n",
    "ax.plot(sizes, t_array_add, 'd-', label='Inserting as binary blob: add_result only')\n",
    "ax.legend()\n",
    "ax.set_xlabel('Array length')\n",
    "ax.set_ylabel('Time (s)')\n",
    "fig.tight_layout()"
   ]
  },
  {
   "cell_type": "markdown",
   "metadata": {},
   "source": [
    "However, as we increase the length of the experiment, as seen here by repeating the insertion 100 times, we see a big difference between inserting values of the data row-by-row and inserting it as a binary blob."
   ]
  },
  {
   "cell_type": "markdown",
   "metadata": {},
   "source": [
    "## Loading the data "
   ]
  },
  {
   "cell_type": "code",
   "execution_count": 9,
   "metadata": {
    "execution": {
     "iopub.execute_input": "2020-10-30T10:42:14.039436Z",
     "iopub.status.busy": "2020-10-30T10:42:14.038549Z",
     "iopub.status.idle": "2020-10-30T10:42:14.041485Z",
     "shell.execute_reply": "2020-10-30T10:42:14.042087Z"
    }
   },
   "outputs": [],
   "source": [
    "from qcodes.dataset.data_set import load_by_id\n",
    "from qcodes.dataset.data_export import get_data_by_id"
   ]
  },
  {
   "cell_type": "markdown",
   "metadata": {},
   "source": [
    "As usual you can load the data by using the ``load_by_id`` function but you will notice that the different storage methods\n",
    "are reflected in shape of the data as it is retrieved. "
   ]
  },
  {
   "cell_type": "code",
   "execution_count": 10,
   "metadata": {
    "execution": {
     "iopub.execute_input": "2020-10-30T10:42:14.046770Z",
     "iopub.status.busy": "2020-10-30T10:42:14.045652Z",
     "iopub.status.idle": "2020-10-30T10:42:14.047474Z",
     "shell.execute_reply": "2020-10-30T10:42:14.048139Z"
    }
   },
   "outputs": [],
   "source": [
    "run_id_n = t_numeric_run_ids[0]\n",
    "run_id_a = t_array_run_ids[0]"
   ]
  },
  {
   "cell_type": "code",
   "execution_count": 11,
   "metadata": {
    "execution": {
     "iopub.execute_input": "2020-10-30T10:42:14.052063Z",
     "iopub.status.busy": "2020-10-30T10:42:14.051283Z",
     "iopub.status.idle": "2020-10-30T10:42:14.062423Z",
     "shell.execute_reply": "2020-10-30T10:42:14.061764Z"
    },
    "scrolled": true
   },
   "outputs": [
    {
     "data": {
      "text/plain": [
       "{'x1': {'x1': array([0.24156317, 0.24156317, 0.47411451, 0.47411451, 0.65818969,\n",
       "         0.65818969, 0.42563493, 0.42563493, 0.5515838 , 0.5515838 ,\n",
       "         0.63414596, 0.63414596, 0.91436914, 0.91436914, 0.51052217,\n",
       "         0.51052217, 0.81245687, 0.81245687, 0.52137579, 0.52137579,\n",
       "         0.47076593, 0.47076593, 0.64413904, 0.64413904, 0.71848815,\n",
       "         0.71848815, 0.13692373, 0.13692373, 0.5247422 , 0.5247422 ,\n",
       "         0.3595499 , 0.3595499 , 0.45233808, 0.45233808, 0.87758533,\n",
       "         0.87758533, 0.52223691, 0.52223691, 0.66062208, 0.66062208,\n",
       "         0.95482795, 0.95482795, 0.71929298, 0.71929298, 0.15691648,\n",
       "         0.15691648, 0.28177924, 0.28177924, 0.8604401 , 0.8604401 ,\n",
       "         0.619217  , 0.619217  , 0.88539274, 0.88539274, 0.9097312 ,\n",
       "         0.9097312 , 0.34910005, 0.34910005, 0.92313869, 0.92313869,\n",
       "         0.13331317, 0.13331317, 0.94463998, 0.94463998, 0.86413725,\n",
       "         0.86413725, 0.89357794, 0.89357794, 0.96065256, 0.96065256,\n",
       "         0.21016491, 0.21016491, 0.2695809 , 0.2695809 , 0.38432603,\n",
       "         0.38432603, 0.43535262, 0.43535262, 0.37605903, 0.37605903,\n",
       "         0.33190395, 0.33190395, 0.55278251, 0.55278251, 0.24391526,\n",
       "         0.24391526, 0.51577496, 0.51577496, 0.62113135, 0.62113135,\n",
       "         0.21936835, 0.21936835, 0.52052574, 0.52052574, 0.0996492 ,\n",
       "         0.0996492 , 0.11125901, 0.11125901, 0.14303614, 0.14303614,\n",
       "         0.50730231, 0.50730231, 0.91037023, 0.91037023, 0.10367955,\n",
       "         0.10367955, 0.76235341, 0.76235341, 0.57663887, 0.57663887,\n",
       "         0.84307987, 0.84307987, 0.79090879, 0.79090879, 0.27611194,\n",
       "         0.27611194, 0.50381533, 0.50381533, 0.15007452, 0.15007452,\n",
       "         0.18453137, 0.18453137, 0.46822801, 0.46822801, 0.97415662,\n",
       "         0.97415662, 0.67563384, 0.67563384, 0.33243293, 0.33243293,\n",
       "         0.31943066, 0.31943066, 0.33064466, 0.33064466, 0.24091859,\n",
       "         0.24091859, 0.57000375, 0.57000375, 0.84281871, 0.84281871,\n",
       "         0.50132239, 0.50132239, 0.93871497, 0.93871497, 0.5743812 ,\n",
       "         0.5743812 , 0.39066227, 0.39066227, 0.43248633, 0.43248633,\n",
       "         0.41148224, 0.41148224, 0.14039984, 0.14039984, 0.41429464,\n",
       "         0.41429464, 0.19614229, 0.19614229, 0.11090105, 0.11090105,\n",
       "         0.11563504, 0.11563504, 0.56149275, 0.56149275, 0.40938655,\n",
       "         0.40938655, 0.5095049 , 0.5095049 , 0.33699466, 0.33699466,\n",
       "         0.45190291, 0.45190291, 0.3768044 , 0.3768044 , 0.01458084,\n",
       "         0.01458084, 0.07159824, 0.07159824, 0.18131254, 0.18131254,\n",
       "         0.45088805, 0.45088805, 0.57965408, 0.57965408, 0.87694447,\n",
       "         0.87694447, 0.67819462, 0.67819462, 0.78125243, 0.78125243,\n",
       "         0.20217414, 0.20217414, 0.4436556 , 0.4436556 , 0.99578056,\n",
       "         0.99578056, 0.432214  , 0.432214  , 0.89246219, 0.89246219])}}"
      ]
     },
     "execution_count": 1,
     "metadata": {},
     "output_type": "execute_result"
    }
   ],
   "source": [
    "ds = load_by_id(run_id_n)\n",
    "ds.get_parameter_data('x1')"
   ]
  },
  {
   "cell_type": "markdown",
   "metadata": {},
   "source": [
    "And a dataset stored as binary arrays"
   ]
  },
  {
   "cell_type": "code",
   "execution_count": 12,
   "metadata": {
    "execution": {
     "iopub.execute_input": "2020-10-30T10:42:14.066252Z",
     "iopub.status.busy": "2020-10-30T10:42:14.065669Z",
     "iopub.status.idle": "2020-10-30T10:42:14.123867Z",
     "shell.execute_reply": "2020-10-30T10:42:14.124403Z"
    },
    "scrolled": true
   },
   "outputs": [
    {
     "data": {
      "text/plain": [
       "{'x1': {'x1': array([[0.21857628],\n",
       "         [0.21857628],\n",
       "         [0.14301975],\n",
       "         [0.14301975],\n",
       "         [0.33605499],\n",
       "         [0.33605499],\n",
       "         [0.89508541],\n",
       "         [0.89508541],\n",
       "         [0.25297232],\n",
       "         [0.25297232],\n",
       "         [0.87452196],\n",
       "         [0.87452196],\n",
       "         [0.93447436],\n",
       "         [0.93447436],\n",
       "         [0.76633204],\n",
       "         [0.76633204],\n",
       "         [0.35936979],\n",
       "         [0.35936979],\n",
       "         [0.3670395 ],\n",
       "         [0.3670395 ],\n",
       "         [0.97497566],\n",
       "         [0.97497566],\n",
       "         [0.74305024],\n",
       "         [0.74305024],\n",
       "         [0.41628481],\n",
       "         [0.41628481],\n",
       "         [0.19110216],\n",
       "         [0.19110216],\n",
       "         [0.34550098],\n",
       "         [0.34550098],\n",
       "         [0.17060592],\n",
       "         [0.17060592],\n",
       "         [0.22302982],\n",
       "         [0.22302982],\n",
       "         [0.48468841],\n",
       "         [0.48468841],\n",
       "         [0.37522207],\n",
       "         [0.37522207],\n",
       "         [0.08643028],\n",
       "         [0.08643028],\n",
       "         [0.96843783],\n",
       "         [0.96843783],\n",
       "         [0.73339677],\n",
       "         [0.73339677],\n",
       "         [0.99041307],\n",
       "         [0.99041307],\n",
       "         [0.77212061],\n",
       "         [0.77212061],\n",
       "         [0.80332162],\n",
       "         [0.80332162],\n",
       "         [0.19642883],\n",
       "         [0.19642883],\n",
       "         [0.36698337],\n",
       "         [0.36698337],\n",
       "         [0.92436025],\n",
       "         [0.92436025],\n",
       "         [0.14268901],\n",
       "         [0.14268901],\n",
       "         [0.74363559],\n",
       "         [0.74363559],\n",
       "         [0.04078391],\n",
       "         [0.04078391],\n",
       "         [0.36387732],\n",
       "         [0.36387732],\n",
       "         [0.34642604],\n",
       "         [0.34642604],\n",
       "         [0.04211471],\n",
       "         [0.04211471],\n",
       "         [0.78785752],\n",
       "         [0.78785752],\n",
       "         [0.80098438],\n",
       "         [0.80098438],\n",
       "         [0.42167942],\n",
       "         [0.42167942],\n",
       "         [0.9174646 ],\n",
       "         [0.9174646 ],\n",
       "         [0.06826163],\n",
       "         [0.06826163],\n",
       "         [0.97966473],\n",
       "         [0.97966473],\n",
       "         [0.20904131],\n",
       "         [0.20904131],\n",
       "         [0.51053675],\n",
       "         [0.51053675],\n",
       "         [0.07122146],\n",
       "         [0.07122146],\n",
       "         [0.22051296],\n",
       "         [0.22051296],\n",
       "         [0.85266626],\n",
       "         [0.85266626],\n",
       "         [0.63280497],\n",
       "         [0.63280497],\n",
       "         [0.47388931],\n",
       "         [0.47388931],\n",
       "         [0.32558712],\n",
       "         [0.32558712],\n",
       "         [0.14694313],\n",
       "         [0.14694313],\n",
       "         [0.44771975],\n",
       "         [0.44771975],\n",
       "         [0.4829509 ],\n",
       "         [0.4829509 ],\n",
       "         [0.91328343],\n",
       "         [0.91328343],\n",
       "         [0.1386436 ],\n",
       "         [0.1386436 ],\n",
       "         [0.80471686],\n",
       "         [0.80471686],\n",
       "         [0.42443476],\n",
       "         [0.42443476],\n",
       "         [0.81159965],\n",
       "         [0.81159965],\n",
       "         [0.59232887],\n",
       "         [0.59232887],\n",
       "         [0.30834382],\n",
       "         [0.30834382],\n",
       "         [0.67536952],\n",
       "         [0.67536952],\n",
       "         [0.07087821],\n",
       "         [0.07087821],\n",
       "         [0.92153735],\n",
       "         [0.92153735],\n",
       "         [0.97200186],\n",
       "         [0.97200186],\n",
       "         [0.86407938],\n",
       "         [0.86407938],\n",
       "         [0.77327323],\n",
       "         [0.77327323],\n",
       "         [0.72203068],\n",
       "         [0.72203068],\n",
       "         [0.36047788],\n",
       "         [0.36047788],\n",
       "         [0.6184369 ],\n",
       "         [0.6184369 ],\n",
       "         [0.21034691],\n",
       "         [0.21034691],\n",
       "         [0.54951914],\n",
       "         [0.54951914],\n",
       "         [0.3163106 ],\n",
       "         [0.3163106 ],\n",
       "         [0.61981772],\n",
       "         [0.61981772],\n",
       "         [0.5665566 ],\n",
       "         [0.5665566 ],\n",
       "         [0.33783307],\n",
       "         [0.33783307],\n",
       "         [0.64466599],\n",
       "         [0.64466599],\n",
       "         [0.26905854],\n",
       "         [0.26905854],\n",
       "         [0.28313072],\n",
       "         [0.28313072],\n",
       "         [0.45327409],\n",
       "         [0.45327409],\n",
       "         [0.98046634],\n",
       "         [0.98046634],\n",
       "         [0.35558068],\n",
       "         [0.35558068],\n",
       "         [0.74010999],\n",
       "         [0.74010999],\n",
       "         [0.06114128],\n",
       "         [0.06114128],\n",
       "         [0.59641508],\n",
       "         [0.59641508],\n",
       "         [0.00386612],\n",
       "         [0.00386612],\n",
       "         [0.40257536],\n",
       "         [0.40257536],\n",
       "         [0.91376955],\n",
       "         [0.91376955],\n",
       "         [0.11324957],\n",
       "         [0.11324957],\n",
       "         [0.28032422],\n",
       "         [0.28032422],\n",
       "         [0.19030361],\n",
       "         [0.19030361],\n",
       "         [0.6428701 ],\n",
       "         [0.6428701 ],\n",
       "         [0.80320561],\n",
       "         [0.80320561],\n",
       "         [0.67837065],\n",
       "         [0.67837065],\n",
       "         [0.14592718],\n",
       "         [0.14592718],\n",
       "         [0.20260415],\n",
       "         [0.20260415],\n",
       "         [0.24147607],\n",
       "         [0.24147607],\n",
       "         [0.44127976],\n",
       "         [0.44127976],\n",
       "         [0.57377812],\n",
       "         [0.57377812],\n",
       "         [0.89726664],\n",
       "         [0.89726664],\n",
       "         [0.74321518],\n",
       "         [0.74321518],\n",
       "         [0.77523135],\n",
       "         [0.77523135],\n",
       "         [0.60434697],\n",
       "         [0.60434697]])}}"
      ]
     },
     "execution_count": 1,
     "metadata": {},
     "output_type": "execute_result"
    }
   ],
   "source": [
    "ds = load_by_id(run_id_a)\n",
    "ds.get_parameter_data('x1')"
   ]
  },
  {
   "cell_type": "code",
   "execution_count": null,
   "metadata": {},
   "outputs": [],
   "source": []
  }
 ],
 "metadata": {
  "kernelspec": {
   "display_name": "Python 3",
   "language": "python",
   "name": "python3"
  },
  "language_info": {
   "codemirror_mode": {
    "name": "ipython",
    "version": 3
   },
   "file_extension": ".py",
   "mimetype": "text/x-python",
   "name": "python",
   "nbconvert_exporter": "python",
   "pygments_lexer": "ipython3",
   "version": "3.7.9"
  },
  "nbsphinx": {
   "timeout": 600
  },
  "toc": {
   "base_numbering": 1,
   "nav_menu": {},
   "number_sections": true,
   "sideBar": true,
   "skip_h1_title": false,
   "title_cell": "Table of Contents",
   "title_sidebar": "Contents",
   "toc_cell": false,
   "toc_position": {},
   "toc_section_display": true,
   "toc_window_display": false
  },
  "varInspector": {
   "cols": {
    "lenName": 16,
    "lenType": 16,
    "lenVar": 40
   },
   "kernels_config": {
    "python": {
     "delete_cmd_postfix": "",
     "delete_cmd_prefix": "del ",
     "library": "var_list.py",
     "varRefreshCmd": "print(var_dic_list())"
    },
    "r": {
     "delete_cmd_postfix": ") ",
     "delete_cmd_prefix": "rm(",
     "library": "var_list.r",
     "varRefreshCmd": "cat(var_dic_list()) "
    }
   },
   "types_to_exclude": [
    "module",
    "function",
    "builtin_function_or_method",
    "instance",
    "_Feature"
   ],
   "window_display": false
  }
 },
 "nbformat": 4,
 "nbformat_minor": 2
}
