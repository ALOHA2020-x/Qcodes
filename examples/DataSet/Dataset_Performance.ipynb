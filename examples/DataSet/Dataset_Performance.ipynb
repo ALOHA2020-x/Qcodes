{
 "cells": [
  {
   "cell_type": "markdown",
   "metadata": {},
   "source": [
    "# DataSet Performance\n",
    "\n",
    "This notebook shows the trade-off between inserting data into a database row-by-row and as binary blobs. Inserting the data row-by-row means that we have direct access to all the data and may perform queries directly on the values of the data. On the other hand, as we shall see, this is much slower than inserting the data directly as binary blobs."
   ]
  },
  {
   "cell_type": "markdown",
   "metadata": {},
   "source": [
    "First, we choose a new location for the database to ensure that we don't add a bunch of benchmarking data to the default one."
   ]
  },
  {
   "cell_type": "code",
   "execution_count": 1,
   "metadata": {
    "execution": {
     "iopub.execute_input": "2021-04-14T09:38:02.924024Z",
     "iopub.status.busy": "2021-04-14T09:38:02.923087Z",
     "iopub.status.idle": "2021-04-14T09:38:03.865859Z",
     "shell.execute_reply": "2021-04-14T09:38:03.864806Z"
    }
   },
   "outputs": [
    {
     "name": "stdout",
     "output_type": "stream",
     "text": [
      "Logging hadn't been started.\n",
      "Activating auto-logging. Current session state plus future input saved.\n",
      "Filename       : /home/runner/.qcodes/logs/command_history.log\n",
      "Mode           : append\n",
      "Output logging : True\n",
      "Raw input log  : False\n",
      "Timestamping   : True\n",
      "State          : active\n"
     ]
    },
    {
     "name": "stdout",
     "output_type": "stream",
     "text": [
      "Qcodes Logfile : /home/runner/.qcodes/logs/210414-4414-qcodes.log\n"
     ]
    }
   ],
   "source": [
    "import os\n",
    "cwd = os.getcwd()\n",
    "import qcodes as qc\n",
    "qc.config[\"core\"][\"db_location\"] = os.path.join(cwd, 'testing.db')\n"
   ]
  },
  {
   "cell_type": "code",
   "execution_count": 2,
   "metadata": {
    "execution": {
     "iopub.execute_input": "2021-04-14T09:38:03.873572Z",
     "iopub.status.busy": "2021-04-14T09:38:03.871751Z",
     "iopub.status.idle": "2021-04-14T09:38:04.095692Z",
     "shell.execute_reply": "2021-04-14T09:38:04.094615Z"
    }
   },
   "outputs": [],
   "source": [
    "%matplotlib inline\n",
    "import time\n",
    "import matplotlib.pyplot as plt\n",
    "import numpy as np\n",
    "\n",
    "import qcodes as qc\n",
    "from qcodes.instrument.parameter import ManualParameter\n",
    "from qcodes.dataset.experiment_container import (Experiment,\n",
    "                                                 load_last_experiment,\n",
    "                                                 new_experiment)\n",
    "from qcodes.dataset.sqlite.database import initialise_database\n",
    "from qcodes import load_or_create_experiment\n",
    "from qcodes.dataset.measurements import Measurement"
   ]
  },
  {
   "cell_type": "code",
   "execution_count": 3,
   "metadata": {
    "execution": {
     "iopub.execute_input": "2021-04-14T09:38:04.100813Z",
     "iopub.status.busy": "2021-04-14T09:38:04.099802Z",
     "iopub.status.idle": "2021-04-14T09:38:04.162678Z",
     "shell.execute_reply": "2021-04-14T09:38:04.163140Z"
    }
   },
   "outputs": [
    {
     "name": "stdout",
     "output_type": "stream",
     "text": [
      "\r",
      "0it [00:00, ?it/s]"
     ]
    },
    {
     "name": "stdout",
     "output_type": "stream",
     "text": [
      "\r",
      "Upgrading database; v0 -> v1: : 0it [00:00, ?it/s]"
     ]
    },
    {
     "name": "stdout",
     "output_type": "stream",
     "text": [
      "\r",
      "Upgrading database; v0 -> v1: : 0it [00:00, ?it/s]"
     ]
    },
    {
     "name": "stdout",
     "output_type": "stream",
     "text": [
      "\n",
      "\r",
      "  0%|          | 0/1 [00:00<?, ?it/s]"
     ]
    },
    {
     "name": "stdout",
     "output_type": "stream",
     "text": [
      "\r",
      "Upgrading database; v1 -> v2:   0%|          | 0/1 [00:00<?, ?it/s]"
     ]
    },
    {
     "name": "stdout",
     "output_type": "stream",
     "text": [
      "\r",
      "Upgrading database; v1 -> v2: 100%|██████████| 1/1 [00:00<00:00, 1127.50it/s]"
     ]
    },
    {
     "name": "stdout",
     "output_type": "stream",
     "text": [
      "\n",
      "\r",
      "0it [00:00, ?it/s]"
     ]
    },
    {
     "name": "stdout",
     "output_type": "stream",
     "text": [
      "\r",
      "Upgrading database; v2 -> v3: : 0it [00:00, ?it/s]"
     ]
    },
    {
     "name": "stdout",
     "output_type": "stream",
     "text": [
      "\r",
      "Upgrading database; v2 -> v3: : 0it [00:00, ?it/s]"
     ]
    },
    {
     "name": "stdout",
     "output_type": "stream",
     "text": [
      "\n",
      "\r",
      "0it [00:00, ?it/s]"
     ]
    },
    {
     "name": "stdout",
     "output_type": "stream",
     "text": [
      "\r",
      "Upgrading database; v3 -> v4: : 0it [00:00, ?it/s]"
     ]
    },
    {
     "name": "stdout",
     "output_type": "stream",
     "text": [
      "\r",
      "Upgrading database; v3 -> v4: : 0it [00:00, ?it/s]"
     ]
    },
    {
     "name": "stdout",
     "output_type": "stream",
     "text": [
      "\n",
      "\r",
      "  0%|          | 0/1 [00:00<?, ?it/s]"
     ]
    },
    {
     "name": "stdout",
     "output_type": "stream",
     "text": [
      "\r",
      "Upgrading database; v4 -> v5:   0%|          | 0/1 [00:00<?, ?it/s]"
     ]
    },
    {
     "name": "stdout",
     "output_type": "stream",
     "text": [
      "\r",
      "Upgrading database; v4 -> v5: 100%|██████████| 1/1 [00:00<00:00, 388.61it/s]"
     ]
    },
    {
     "name": "stdout",
     "output_type": "stream",
     "text": [
      "\n",
      "\r",
      "0it [00:00, ?it/s]"
     ]
    },
    {
     "name": "stdout",
     "output_type": "stream",
     "text": [
      "\r",
      "Upgrading database; v5 -> v6: : 0it [00:00, ?it/s]"
     ]
    },
    {
     "name": "stdout",
     "output_type": "stream",
     "text": [
      "\r",
      "Upgrading database; v5 -> v6: : 0it [00:00, ?it/s]"
     ]
    },
    {
     "name": "stdout",
     "output_type": "stream",
     "text": [
      "\n",
      "\r",
      "  0%|          | 0/1 [00:00<?, ?it/s]"
     ]
    },
    {
     "name": "stdout",
     "output_type": "stream",
     "text": [
      "\r",
      "Upgrading database; v6 -> v7:   0%|          | 0/1 [00:00<?, ?it/s]"
     ]
    },
    {
     "name": "stdout",
     "output_type": "stream",
     "text": [
      "\r",
      "Upgrading database; v6 -> v7: 100%|██████████| 1/1 [00:00<00:00, 510.82it/s]"
     ]
    },
    {
     "name": "stdout",
     "output_type": "stream",
     "text": [
      "\n",
      "\r",
      "  0%|          | 0/1 [00:00<?, ?it/s]"
     ]
    },
    {
     "name": "stdout",
     "output_type": "stream",
     "text": [
      "\r",
      "Upgrading database; v7 -> v8:   0%|          | 0/1 [00:00<?, ?it/s]"
     ]
    },
    {
     "name": "stdout",
     "output_type": "stream",
     "text": [
      "\r",
      "Upgrading database; v7 -> v8: 100%|██████████| 1/1 [00:00<00:00, 516.73it/s]"
     ]
    },
    {
     "name": "stdout",
     "output_type": "stream",
     "text": [
      "\n",
      "\r",
      "  0%|          | 0/1 [00:00<?, ?it/s]"
     ]
    },
    {
     "name": "stdout",
     "output_type": "stream",
     "text": [
      "\r",
      "Upgrading database; v8 -> v9:   0%|          | 0/1 [00:00<?, ?it/s]"
     ]
    },
    {
     "name": "stdout",
     "output_type": "stream",
     "text": [
      "\r",
      "Upgrading database; v8 -> v9: 100%|██████████| 1/1 [00:00<00:00, 1286.60it/s]"
     ]
    },
    {
     "name": "stdout",
     "output_type": "stream",
     "text": [
      "\n"
     ]
    }
   ],
   "source": [
    "initialise_database()\n",
    "exp = load_or_create_experiment(experiment_name='tutorial_exp', sample_name=\"no sample\")"
   ]
  },
  {
   "cell_type": "markdown",
   "metadata": {},
   "source": [
    "Here, we define a simple function to benchmark the time it takes to insert n points with either numeric or array data type.\n",
    "We will compare both the time used to call ``add_result`` and the time used for the full measurement."
   ]
  },
  {
   "cell_type": "code",
   "execution_count": 4,
   "metadata": {
    "execution": {
     "iopub.execute_input": "2021-04-14T09:38:04.172733Z",
     "iopub.status.busy": "2021-04-14T09:38:04.171472Z",
     "iopub.status.idle": "2021-04-14T09:38:04.173341Z",
     "shell.execute_reply": "2021-04-14T09:38:04.173827Z"
    }
   },
   "outputs": [],
   "source": [
    "def insert_data(paramtype, npoints, nreps=1):\n",
    "\n",
    "    meas = Measurement(exp=exp)\n",
    "\n",
    "    x1 = ManualParameter('x1')\n",
    "    x2 = ManualParameter('x2')\n",
    "    x3 = ManualParameter('x3')\n",
    "    y1 = ManualParameter('y1')\n",
    "    y2 = ManualParameter('y2')\n",
    "\n",
    "    meas.register_parameter(x1, paramtype=paramtype)\n",
    "    meas.register_parameter(x2, paramtype=paramtype)\n",
    "    meas.register_parameter(x3, paramtype=paramtype)\n",
    "    meas.register_parameter(y1, setpoints=[x1, x2, x3],\n",
    "                            paramtype=paramtype)\n",
    "    meas.register_parameter(y2, setpoints=[x1, x2, x3],\n",
    "                            paramtype=paramtype)\n",
    "    start = time.perf_counter()\n",
    "    with meas.run() as datasaver:\n",
    "        start_adding = time.perf_counter()\n",
    "        for i in range(nreps):\n",
    "            datasaver.add_result((x1, np.random.rand(npoints)),\n",
    "                                 (x2, np.random.rand(npoints)),\n",
    "                                 (x3, np.random.rand(npoints)),\n",
    "                                 (y1, np.random.rand(npoints)),\n",
    "                                 (y2, np.random.rand(npoints)))\n",
    "        stop_adding = time.perf_counter()\n",
    "        run_id = datasaver.run_id\n",
    "    stop = time.perf_counter()\n",
    "    tot_time = stop - start\n",
    "    add_time = stop_adding - start_adding\n",
    "    return tot_time, add_time, run_id"
   ]
  },
  {
   "cell_type": "markdown",
   "metadata": {},
   "source": [
    "## Comparison between numeric/array data and binary blob"
   ]
  },
  {
   "cell_type": "markdown",
   "metadata": {},
   "source": [
    "### Case1: Short experiment time"
   ]
  },
  {
   "cell_type": "code",
   "execution_count": 5,
   "metadata": {
    "execution": {
     "iopub.execute_input": "2021-04-14T09:38:04.181141Z",
     "iopub.status.busy": "2021-04-14T09:38:04.180160Z",
     "iopub.status.idle": "2021-04-14T09:38:05.034764Z",
     "shell.execute_reply": "2021-04-14T09:38:05.035182Z"
    }
   },
   "outputs": [
    {
     "name": "stdout",
     "output_type": "stream",
     "text": [
      "Starting experimental run with id: 1. \n",
      "Starting experimental run with id: 2. \n",
      "Starting experimental run with id: 3. \n",
      "Starting experimental run with id: 4. \n"
     ]
    },
    {
     "name": "stdout",
     "output_type": "stream",
     "text": [
      "Starting experimental run with id: 5. \n"
     ]
    },
    {
     "name": "stdout",
     "output_type": "stream",
     "text": [
      "Starting experimental run with id: 6. \n",
      "Starting experimental run with id: 7. \n"
     ]
    },
    {
     "name": "stdout",
     "output_type": "stream",
     "text": [
      "Starting experimental run with id: 8. \n",
      "Starting experimental run with id: 9. \n"
     ]
    },
    {
     "name": "stdout",
     "output_type": "stream",
     "text": [
      "Starting experimental run with id: 10. \n",
      "Starting experimental run with id: 11. \n"
     ]
    },
    {
     "name": "stdout",
     "output_type": "stream",
     "text": [
      "Starting experimental run with id: 12. \n",
      "Starting experimental run with id: 13. \n"
     ]
    },
    {
     "name": "stdout",
     "output_type": "stream",
     "text": [
      "Starting experimental run with id: 14. \n"
     ]
    }
   ],
   "source": [
    "sizes = [1,500,1000,2000,3000,4000,5000]\n",
    "t_numeric = []\n",
    "t_numeric_add = []\n",
    "t_array = []\n",
    "t_array_add = []\n",
    "for size in sizes:\n",
    "    tn, tna, run_id_n =  insert_data('numeric', size)\n",
    "    t_numeric.append(tn)\n",
    "    t_numeric_add.append(tna)\n",
    "\n",
    "    ta, taa, run_id_a =  insert_data('array', size)\n",
    "    t_array.append(ta)\n",
    "    t_array_add.append(taa)"
   ]
  },
  {
   "cell_type": "code",
   "execution_count": 6,
   "metadata": {
    "execution": {
     "iopub.execute_input": "2021-04-14T09:38:05.040382Z",
     "iopub.status.busy": "2021-04-14T09:38:05.037652Z",
     "iopub.status.idle": "2021-04-14T09:38:05.238055Z",
     "shell.execute_reply": "2021-04-14T09:38:05.238836Z"
    }
   },
   "outputs": [
    {
     "data": {
      "image/png": "[encoded data removed]",
      "text/plain": [
       "<Figure size 432x288 with 1 Axes>"
      ]
     },
     "metadata": {
      "needs_background": "light"
     },
     "output_type": "display_data"
    }
   ],
   "source": [
    "fig, ax = plt.subplots(1,1)\n",
    "ax.plot(sizes, t_numeric, 'o-', label='Inserting row-by-row')\n",
    "ax.plot(sizes, t_numeric_add, 'o-', label='Inserting row-by-row: add_result only')\n",
    "ax.plot(sizes, t_array, 'd-', label='Inserting as binary blob')\n",
    "ax.plot(sizes, t_array_add, 'd-', label='Inserting as binary blob: add_result only')\n",
    "ax.legend()\n",
    "ax.set_xlabel('Array length')\n",
    "ax.set_ylabel('Time (s)')\n",
    "fig.tight_layout()"
   ]
  },
  {
   "cell_type": "markdown",
   "metadata": {},
   "source": [
    "As shown in the latter figure, the time to setup and and close the experiment is approximately 0.4 sec. In case of small array sizes, the difference between inserting values of data as arrays and inserting them row-by-row is relatively unimportant. At larger array sizes, i.e. above 10000 points, the cost of writing data as individual datapoints starts to become important.\n"
   ]
  },
  {
   "cell_type": "markdown",
   "metadata": {},
   "source": [
    "### Case2: Long experiment time "
   ]
  },
  {
   "cell_type": "code",
   "execution_count": 7,
   "metadata": {
    "execution": {
     "iopub.execute_input": "2021-04-14T09:38:05.242126Z",
     "iopub.status.busy": "2021-04-14T09:38:05.241144Z",
     "iopub.status.idle": "2021-04-14T09:38:57.631555Z",
     "shell.execute_reply": "2021-04-14T09:38:57.632421Z"
    }
   },
   "outputs": [
    {
     "name": "stdout",
     "output_type": "stream",
     "text": [
      "Starting experimental run with id: 15. \n",
      "Starting experimental run with id: 16. \n",
      "Starting experimental run with id: 17. \n"
     ]
    },
    {
     "name": "stdout",
     "output_type": "stream",
     "text": [
      "Starting experimental run with id: 18. \n",
      "Starting experimental run with id: 19. \n"
     ]
    },
    {
     "name": "stdout",
     "output_type": "stream",
     "text": [
      "Starting experimental run with id: 20. \n"
     ]
    },
    {
     "name": "stdout",
     "output_type": "stream",
     "text": [
      "Starting experimental run with id: 21. \n"
     ]
    },
    {
     "name": "stdout",
     "output_type": "stream",
     "text": [
      "Starting experimental run with id: 22. \n"
     ]
    },
    {
     "name": "stdout",
     "output_type": "stream",
     "text": [
      "Starting experimental run with id: 23. \n"
     ]
    },
    {
     "name": "stdout",
     "output_type": "stream",
     "text": [
      "Starting experimental run with id: 24. \n"
     ]
    },
    {
     "name": "stdout",
     "output_type": "stream",
     "text": [
      "Starting experimental run with id: 25. \n"
     ]
    },
    {
     "name": "stdout",
     "output_type": "stream",
     "text": [
      "Starting experimental run with id: 26. \n"
     ]
    },
    {
     "name": "stdout",
     "output_type": "stream",
     "text": [
      "Starting experimental run with id: 27. \n"
     ]
    },
    {
     "name": "stdout",
     "output_type": "stream",
     "text": [
      "Starting experimental run with id: 28. \n"
     ]
    }
   ],
   "source": [
    "sizes = [1,500,1000,2000,3000,4000,5000]\n",
    "nreps = 100\n",
    "t_numeric = []\n",
    "t_numeric_add = []\n",
    "t_numeric_run_ids = []\n",
    "t_array = []\n",
    "t_array_add = []\n",
    "t_array_run_ids = []\n",
    "for size in sizes:\n",
    "    tn, tna, run_id_n =  insert_data('numeric', size, nreps=nreps)\n",
    "    t_numeric.append(tn)\n",
    "    t_numeric_add.append(tna)\n",
    "    t_numeric_run_ids.append(run_id_n)\n",
    "\n",
    "    ta, taa, run_id_a =  insert_data('array', size, nreps=nreps)\n",
    "    t_array.append(ta)\n",
    "    t_array_add.append(taa)\n",
    "    t_array_run_ids.append(run_id_a)"
   ]
  },
  {
   "cell_type": "code",
   "execution_count": 8,
   "metadata": {
    "execution": {
     "iopub.execute_input": "2021-04-14T09:38:57.651591Z",
     "iopub.status.busy": "2021-04-14T09:38:57.649765Z",
     "iopub.status.idle": "2021-04-14T09:38:57.821280Z",
     "shell.execute_reply": "2021-04-14T09:38:57.821760Z"
    },
    "scrolled": true
   },
   "outputs": [
    {
     "data": {
      "image/png": "[encoded data removed]",
      "text/plain": [
       "<Figure size 432x288 with 1 Axes>"
      ]
     },
     "metadata": {
      "needs_background": "light"
     },
     "output_type": "display_data"
    }
   ],
   "source": [
    "fig, ax = plt.subplots(1,1)\n",
    "ax.plot(sizes, t_numeric, 'o-', label='Inserting row-by-row')\n",
    "ax.plot(sizes, t_numeric_add, 'o-', label='Inserting row-by-row: add_result only')\n",
    "ax.plot(sizes, t_array, 'd-', label='Inserting as binary blob')\n",
    "ax.plot(sizes, t_array_add, 'd-', label='Inserting as binary blob: add_result only')\n",
    "ax.legend()\n",
    "ax.set_xlabel('Array length')\n",
    "ax.set_ylabel('Time (s)')\n",
    "fig.tight_layout()"
   ]
  },
  {
   "cell_type": "markdown",
   "metadata": {},
   "source": [
    "However, as we increase the length of the experiment, as seen here by repeating the insertion 100 times, we see a big difference between inserting values of the data row-by-row and inserting it as a binary blob."
   ]
  },
  {
   "cell_type": "markdown",
   "metadata": {},
   "source": [
    "## Loading the data "
   ]
  },
  {
   "cell_type": "code",
   "execution_count": 9,
   "metadata": {
    "execution": {
     "iopub.execute_input": "2021-04-14T09:38:57.826127Z",
     "iopub.status.busy": "2021-04-14T09:38:57.825605Z",
     "iopub.status.idle": "2021-04-14T09:38:57.827138Z",
     "shell.execute_reply": "2021-04-14T09:38:57.827691Z"
    }
   },
   "outputs": [],
   "source": [
    "from qcodes.dataset.data_set import load_by_id"
   ]
  },
  {
   "cell_type": "markdown",
   "metadata": {},
   "source": [
    "As usual you can load the data by using the ``load_by_id`` function but you will notice that the different storage methods\n",
    "are reflected in shape of the data as it is retrieved. "
   ]
  },
  {
   "cell_type": "code",
   "execution_count": 10,
   "metadata": {
    "execution": {
     "iopub.execute_input": "2021-04-14T09:38:57.831545Z",
     "iopub.status.busy": "2021-04-14T09:38:57.831014Z",
     "iopub.status.idle": "2021-04-14T09:38:57.832475Z",
     "shell.execute_reply": "2021-04-14T09:38:57.832988Z"
    }
   },
   "outputs": [],
   "source": [
    "run_id_n = t_numeric_run_ids[0]\n",
    "run_id_a = t_array_run_ids[0]"
   ]
  },
  {
   "cell_type": "code",
   "execution_count": 11,
   "metadata": {
    "execution": {
     "iopub.execute_input": "2021-04-14T09:38:57.835475Z",
     "iopub.status.busy": "2021-04-14T09:38:57.834969Z",
     "iopub.status.idle": "2021-04-14T09:38:57.845612Z",
     "shell.execute_reply": "2021-04-14T09:38:57.845089Z"
    },
    "scrolled": true
   },
   "outputs": [
    {
     "data": {
      "text/plain": [
       "{'x1': {'x1': array([0.70716999, 0.70716999, 0.15185927, 0.15185927, 0.84159542,\n",
       "         0.84159542, 0.32891507, 0.32891507, 0.6826834 , 0.6826834 ,\n",
       "         0.8231162 , 0.8231162 , 0.50032954, 0.50032954, 0.00357838,\n",
       "         0.00357838, 0.80292922, 0.80292922, 0.66839498, 0.66839498,\n",
       "         0.27425708, 0.27425708, 0.06646608, 0.06646608, 0.89036126,\n",
       "         0.89036126, 0.29574384, 0.29574384, 0.39404594, 0.39404594,\n",
       "         0.291023  , 0.291023  , 0.4556762 , 0.4556762 , 0.73273215,\n",
       "         0.73273215, 0.87938473, 0.87938473, 0.08488244, 0.08488244,\n",
       "         0.88185697, 0.88185697, 0.01143015, 0.01143015, 0.32867383,\n",
       "         0.32867383, 0.53207112, 0.53207112, 0.60548136, 0.60548136,\n",
       "         0.30934541, 0.30934541, 0.68260321, 0.68260321, 0.22715006,\n",
       "         0.22715006, 0.73106729, 0.73106729, 0.04508349, 0.04508349,\n",
       "         0.4423893 , 0.4423893 , 0.72582246, 0.72582246, 0.1161541 ,\n",
       "         0.1161541 , 0.11005522, 0.11005522, 0.39164344, 0.39164344,\n",
       "         0.4671612 , 0.4671612 , 0.21946128, 0.21946128, 0.49702549,\n",
       "         0.49702549, 0.12822701, 0.12822701, 0.75076695, 0.75076695,\n",
       "         0.64346084, 0.64346084, 0.89316232, 0.89316232, 0.84231132,\n",
       "         0.84231132, 0.56014578, 0.56014578, 0.46150184, 0.46150184,\n",
       "         0.82639809, 0.82639809, 0.44089143, 0.44089143, 0.68633559,\n",
       "         0.68633559, 0.86232106, 0.86232106, 0.50597075, 0.50597075,\n",
       "         0.91120397, 0.91120397, 0.74671202, 0.74671202, 0.09626744,\n",
       "         0.09626744, 0.50964807, 0.50964807, 0.54505843, 0.54505843,\n",
       "         0.05083962, 0.05083962, 0.85697887, 0.85697887, 0.31578007,\n",
       "         0.31578007, 0.66598717, 0.66598717, 0.8326843 , 0.8326843 ,\n",
       "         0.17520902, 0.17520902, 0.45437917, 0.45437917, 0.70253094,\n",
       "         0.70253094, 0.14991916, 0.14991916, 0.14891214, 0.14891214,\n",
       "         0.17024768, 0.17024768, 0.21541881, 0.21541881, 0.18968466,\n",
       "         0.18968466, 0.25834689, 0.25834689, 0.29042786, 0.29042786,\n",
       "         0.03592852, 0.03592852, 0.37313902, 0.37313902, 0.54850469,\n",
       "         0.54850469, 0.55230772, 0.55230772, 0.2472164 , 0.2472164 ,\n",
       "         0.85613262, 0.85613262, 0.51562122, 0.51562122, 0.98697888,\n",
       "         0.98697888, 0.55062577, 0.55062577, 0.09972896, 0.09972896,\n",
       "         0.49756104, 0.49756104, 0.7930014 , 0.7930014 , 0.22875659,\n",
       "         0.22875659, 0.29808949, 0.29808949, 0.67395865, 0.67395865,\n",
       "         0.46026173, 0.46026173, 0.88853058, 0.88853058, 0.35671343,\n",
       "         0.35671343, 0.93625509, 0.93625509, 0.98442224, 0.98442224,\n",
       "         0.49165769, 0.49165769, 0.4527361 , 0.4527361 , 0.11919199,\n",
       "         0.11919199, 0.90192372, 0.90192372, 0.96629104, 0.96629104,\n",
       "         0.40824006, 0.40824006, 0.80061713, 0.80061713, 0.45056591,\n",
       "         0.45056591, 0.61884516, 0.61884516, 0.95515942, 0.95515942])}}"
      ]
     },
     "execution_count": 1,
     "metadata": {},
     "output_type": "execute_result"
    }
   ],
   "source": [
    "ds = load_by_id(run_id_n)\n",
    "ds.get_parameter_data('x1')"
   ]
  },
  {
   "cell_type": "markdown",
   "metadata": {},
   "source": [
    "And a dataset stored as binary arrays"
   ]
  },
  {
   "cell_type": "code",
   "execution_count": 12,
   "metadata": {
    "execution": {
     "iopub.execute_input": "2021-04-14T09:38:57.849135Z",
     "iopub.status.busy": "2021-04-14T09:38:57.848594Z",
     "iopub.status.idle": "2021-04-14T09:38:57.904783Z",
     "shell.execute_reply": "2021-04-14T09:38:57.905609Z"
    },
    "scrolled": true
   },
   "outputs": [
    {
     "data": {
      "text/plain": [
       "{'x1': {'x1': array([[0.48598081],\n",
       "         [0.48598081],\n",
       "         [0.04164897],\n",
       "         [0.04164897],\n",
       "         [0.41247181],\n",
       "         [0.41247181],\n",
       "         [0.59748466],\n",
       "         [0.59748466],\n",
       "         [0.84330375],\n",
       "         [0.84330375],\n",
       "         [0.70320504],\n",
       "         [0.70320504],\n",
       "         [0.21325836],\n",
       "         [0.21325836],\n",
       "         [0.96943889],\n",
       "         [0.96943889],\n",
       "         [0.80052856],\n",
       "         [0.80052856],\n",
       "         [0.69930458],\n",
       "         [0.69930458],\n",
       "         [0.03945453],\n",
       "         [0.03945453],\n",
       "         [0.63922616],\n",
       "         [0.63922616],\n",
       "         [0.53350317],\n",
       "         [0.53350317],\n",
       "         [0.99620393],\n",
       "         [0.99620393],\n",
       "         [0.9240752 ],\n",
       "         [0.9240752 ],\n",
       "         [0.6299032 ],\n",
       "         [0.6299032 ],\n",
       "         [0.91707953],\n",
       "         [0.91707953],\n",
       "         [0.3969222 ],\n",
       "         [0.3969222 ],\n",
       "         [0.22418886],\n",
       "         [0.22418886],\n",
       "         [0.4863246 ],\n",
       "         [0.4863246 ],\n",
       "         [0.80387179],\n",
       "         [0.80387179],\n",
       "         [0.74662545],\n",
       "         [0.74662545],\n",
       "         [0.4416179 ],\n",
       "         [0.4416179 ],\n",
       "         [0.28556733],\n",
       "         [0.28556733],\n",
       "         [0.15619298],\n",
       "         [0.15619298],\n",
       "         [0.60779095],\n",
       "         [0.60779095],\n",
       "         [0.48368189],\n",
       "         [0.48368189],\n",
       "         [0.51593184],\n",
       "         [0.51593184],\n",
       "         [0.19072699],\n",
       "         [0.19072699],\n",
       "         [0.97409927],\n",
       "         [0.97409927],\n",
       "         [0.63701474],\n",
       "         [0.63701474],\n",
       "         [0.58037075],\n",
       "         [0.58037075],\n",
       "         [0.80831298],\n",
       "         [0.80831298],\n",
       "         [0.70280596],\n",
       "         [0.70280596],\n",
       "         [0.37759562],\n",
       "         [0.37759562],\n",
       "         [0.18801233],\n",
       "         [0.18801233],\n",
       "         [0.80469901],\n",
       "         [0.80469901],\n",
       "         [0.40080047],\n",
       "         [0.40080047],\n",
       "         [0.97130721],\n",
       "         [0.97130721],\n",
       "         [0.52482274],\n",
       "         [0.52482274],\n",
       "         [0.32306222],\n",
       "         [0.32306222],\n",
       "         [0.10192909],\n",
       "         [0.10192909],\n",
       "         [0.52481772],\n",
       "         [0.52481772],\n",
       "         [0.54163965],\n",
       "         [0.54163965],\n",
       "         [0.59965401],\n",
       "         [0.59965401],\n",
       "         [0.48064191],\n",
       "         [0.48064191],\n",
       "         [0.96576582],\n",
       "         [0.96576582],\n",
       "         [0.02639737],\n",
       "         [0.02639737],\n",
       "         [0.99442393],\n",
       "         [0.99442393],\n",
       "         [0.95348911],\n",
       "         [0.95348911],\n",
       "         [0.39573679],\n",
       "         [0.39573679],\n",
       "         [0.28510299],\n",
       "         [0.28510299],\n",
       "         [0.94071982],\n",
       "         [0.94071982],\n",
       "         [0.38302929],\n",
       "         [0.38302929],\n",
       "         [0.87695325],\n",
       "         [0.87695325],\n",
       "         [0.51377509],\n",
       "         [0.51377509],\n",
       "         [0.99979903],\n",
       "         [0.99979903],\n",
       "         [0.91842585],\n",
       "         [0.91842585],\n",
       "         [0.79637197],\n",
       "         [0.79637197],\n",
       "         [0.87882191],\n",
       "         [0.87882191],\n",
       "         [0.8378333 ],\n",
       "         [0.8378333 ],\n",
       "         [0.91230699],\n",
       "         [0.91230699],\n",
       "         [0.69682053],\n",
       "         [0.69682053],\n",
       "         [0.6291724 ],\n",
       "         [0.6291724 ],\n",
       "         [0.24765532],\n",
       "         [0.24765532],\n",
       "         [0.92382513],\n",
       "         [0.92382513],\n",
       "         [0.94900194],\n",
       "         [0.94900194],\n",
       "         [0.76948456],\n",
       "         [0.76948456],\n",
       "         [0.73257669],\n",
       "         [0.73257669],\n",
       "         [0.64687133],\n",
       "         [0.64687133],\n",
       "         [0.68902855],\n",
       "         [0.68902855],\n",
       "         [0.16404652],\n",
       "         [0.16404652],\n",
       "         [0.01813208],\n",
       "         [0.01813208],\n",
       "         [0.14432394],\n",
       "         [0.14432394],\n",
       "         [0.50203167],\n",
       "         [0.50203167],\n",
       "         [0.41943174],\n",
       "         [0.41943174],\n",
       "         [0.46656967],\n",
       "         [0.46656967],\n",
       "         [0.97057015],\n",
       "         [0.97057015],\n",
       "         [0.28786524],\n",
       "         [0.28786524],\n",
       "         [0.79667054],\n",
       "         [0.79667054],\n",
       "         [0.78363747],\n",
       "         [0.78363747],\n",
       "         [0.31716175],\n",
       "         [0.31716175],\n",
       "         [0.62615361],\n",
       "         [0.62615361],\n",
       "         [0.72162175],\n",
       "         [0.72162175],\n",
       "         [0.12417104],\n",
       "         [0.12417104],\n",
       "         [0.08731662],\n",
       "         [0.08731662],\n",
       "         [0.40486748],\n",
       "         [0.40486748],\n",
       "         [0.57623127],\n",
       "         [0.57623127],\n",
       "         [0.38032198],\n",
       "         [0.38032198],\n",
       "         [0.27854494],\n",
       "         [0.27854494],\n",
       "         [0.64624283],\n",
       "         [0.64624283],\n",
       "         [0.94996448],\n",
       "         [0.94996448],\n",
       "         [0.54070157],\n",
       "         [0.54070157],\n",
       "         [0.186435  ],\n",
       "         [0.186435  ],\n",
       "         [0.30683783],\n",
       "         [0.30683783],\n",
       "         [0.37296086],\n",
       "         [0.37296086],\n",
       "         [0.69873686],\n",
       "         [0.69873686],\n",
       "         [0.36757579],\n",
       "         [0.36757579],\n",
       "         [0.37320509],\n",
       "         [0.37320509],\n",
       "         [0.70392511],\n",
       "         [0.70392511]])}}"
      ]
     },
     "execution_count": 1,
     "metadata": {},
     "output_type": "execute_result"
    }
   ],
   "source": [
    "ds = load_by_id(run_id_a)\n",
    "ds.get_parameter_data('x1')"
   ]
  },
  {
   "cell_type": "code",
   "execution_count": null,
   "metadata": {},
   "outputs": [],
   "source": []
  }
 ],
 "metadata": {
  "kernelspec": {
   "display_name": "Python 3",
   "language": "python",
   "name": "python3"
  },
  "language_info": {
   "codemirror_mode": {
    "name": "ipython",
    "version": 3
   },
   "file_extension": ".py",
   "mimetype": "text/x-python",
   "name": "python",
   "nbconvert_exporter": "python",
   "pygments_lexer": "ipython3",
   "version": "3.7.10"
  },
  "nbsphinx": {
   "timeout": 600
  },
  "toc": {
   "base_numbering": 1,
   "nav_menu": {},
   "number_sections": true,
   "sideBar": true,
   "skip_h1_title": false,
   "title_cell": "Table of Contents",
   "title_sidebar": "Contents",
   "toc_cell": false,
   "toc_position": {},
   "toc_section_display": true,
   "toc_window_display": false
  },
  "varInspector": {
   "cols": {
    "lenName": 16,
    "lenType": 16,
    "lenVar": 40
   },
   "kernels_config": {
    "python": {
     "delete_cmd_postfix": "",
     "delete_cmd_prefix": "del ",
     "library": "var_list.py",
     "varRefreshCmd": "print(var_dic_list())"
    },
    "r": {
     "delete_cmd_postfix": ") ",
     "delete_cmd_prefix": "rm(",
     "library": "var_list.r",
     "varRefreshCmd": "cat(var_dic_list()) "
    }
   },
   "types_to_exclude": [
    "module",
    "function",
    "builtin_function_or_method",
    "instance",
    "_Feature"
   ],
   "window_display": false
  }
 },
 "nbformat": 4,
 "nbformat_minor": 4
}
