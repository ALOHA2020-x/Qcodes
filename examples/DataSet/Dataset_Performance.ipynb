{
 "cells": [
  {
   "cell_type": "markdown",
   "metadata": {},
   "source": [
    "# DataSet Performance\n",
    "\n",
    "This notebook shows the trade-off between inserting data into a database row-by-row and as binary blobs. Inserting the data row-by-row means that we have direct access to all the data and may perform queries directly on the values of the data. On the other hand, as we shall see, this is much slower than inserting the data directly as binary blobs."
   ]
  },
  {
   "cell_type": "markdown",
   "metadata": {},
   "source": [
    "First, we choose a new location for the database to ensure that we don't add a bunch of benchmarking data to the default one."
   ]
  },
  {
   "cell_type": "code",
   "execution_count": 1,
   "metadata": {
    "execution": {
     "iopub.execute_input": "2020-09-26T06:27:00.995568Z",
     "iopub.status.busy": "2020-09-26T06:27:00.995060Z",
     "iopub.status.idle": "2020-09-26T06:27:02.076311Z",
     "shell.execute_reply": "2020-09-26T06:27:02.075829Z"
    }
   },
   "outputs": [
    {
     "name": "stdout",
     "output_type": "stream",
     "text": [
      "Logging hadn't been started.\n",
      "Activating auto-logging. Current session state plus future input saved.\n",
      "Filename       : /home/vsts/.qcodes/logs/command_history.log\n",
      "Mode           : append\n",
      "Output logging : True\n",
      "Raw input log  : False\n",
      "Timestamping   : True\n",
      "State          : active\n"
     ]
    },
    {
     "name": "stdout",
     "output_type": "stream",
     "text": [
      "Qcodes Logfile : /home/vsts/.qcodes/logs/200926-19261-qcodes.log\n"
     ]
    }
   ],
   "source": [
    "import os\n",
    "cwd = os.getcwd()\n",
    "import qcodes as qc\n",
    "qc.config[\"core\"][\"db_location\"] = os.path.join(cwd, 'testing.db')\n"
   ]
  },
  {
   "cell_type": "code",
   "execution_count": 2,
   "metadata": {
    "execution": {
     "iopub.execute_input": "2020-09-26T06:27:02.084044Z",
     "iopub.status.busy": "2020-09-26T06:27:02.081889Z",
     "iopub.status.idle": "2020-09-26T06:27:02.270187Z",
     "shell.execute_reply": "2020-09-26T06:27:02.269250Z"
    }
   },
   "outputs": [],
   "source": [
    "%matplotlib inline\n",
    "import time\n",
    "import matplotlib.pyplot as plt\n",
    "import numpy as np\n",
    "\n",
    "import qcodes as qc\n",
    "from qcodes.instrument.parameter import ManualParameter\n",
    "from qcodes.dataset.experiment_container import (Experiment,\n",
    "                                                 load_last_experiment,\n",
    "                                                 new_experiment)\n",
    "from qcodes.dataset.sqlite.database import initialise_database\n",
    "from qcodes import load_or_create_experiment\n",
    "from qcodes.dataset.measurements import Measurement"
   ]
  },
  {
   "cell_type": "code",
   "execution_count": 3,
   "metadata": {
    "execution": {
     "iopub.execute_input": "2020-09-26T06:27:02.274216Z",
     "iopub.status.busy": "2020-09-26T06:27:02.273596Z",
     "iopub.status.idle": "2020-09-26T06:27:02.394487Z",
     "shell.execute_reply": "2020-09-26T06:27:02.394007Z"
    }
   },
   "outputs": [
    {
     "name": "stdout",
     "output_type": "stream",
     "text": [
      "\r",
      "0it [00:00, ?it/s]"
     ]
    },
    {
     "name": "stdout",
     "output_type": "stream",
     "text": [
      "\r",
      "Upgrading database; v0 -> v1: : 0it [00:00, ?it/s]"
     ]
    },
    {
     "name": "stdout",
     "output_type": "stream",
     "text": [
      "\r",
      "Upgrading database; v0 -> v1: : 0it [00:00, ?it/s]"
     ]
    },
    {
     "name": "stdout",
     "output_type": "stream",
     "text": [
      "\n",
      "\r",
      "  0%|          | 0/1 [00:00<?, ?it/s]"
     ]
    },
    {
     "name": "stdout",
     "output_type": "stream",
     "text": [
      "\r",
      "Upgrading database; v1 -> v2:   0%|          | 0/1 [00:00<?, ?it/s]"
     ]
    },
    {
     "name": "stdout",
     "output_type": "stream",
     "text": [
      "\r",
      "Upgrading database; v1 -> v2: 100%|██████████| 1/1 [00:00<00:00, 681.45it/s]"
     ]
    },
    {
     "name": "stdout",
     "output_type": "stream",
     "text": [
      "\n",
      "\r",
      "0it [00:00, ?it/s]"
     ]
    },
    {
     "name": "stdout",
     "output_type": "stream",
     "text": [
      "\r",
      "Upgrading database; v2 -> v3: : 0it [00:00, ?it/s]"
     ]
    },
    {
     "name": "stdout",
     "output_type": "stream",
     "text": [
      "\r",
      "Upgrading database; v2 -> v3: : 0it [00:00, ?it/s]"
     ]
    },
    {
     "name": "stdout",
     "output_type": "stream",
     "text": [
      "\n",
      "\r",
      "0it [00:00, ?it/s]"
     ]
    },
    {
     "name": "stdout",
     "output_type": "stream",
     "text": [
      "\r",
      "Upgrading database; v3 -> v4: : 0it [00:00, ?it/s]"
     ]
    },
    {
     "name": "stdout",
     "output_type": "stream",
     "text": [
      "\r",
      "Upgrading database; v3 -> v4: : 0it [00:00, ?it/s]"
     ]
    },
    {
     "name": "stdout",
     "output_type": "stream",
     "text": [
      "\n",
      "\r",
      "  0%|          | 0/1 [00:00<?, ?it/s]"
     ]
    },
    {
     "name": "stdout",
     "output_type": "stream",
     "text": [
      "\r",
      "Upgrading database; v4 -> v5:   0%|          | 0/1 [00:00<?, ?it/s]"
     ]
    },
    {
     "name": "stdout",
     "output_type": "stream",
     "text": [
      "\r",
      "Upgrading database; v4 -> v5: 100%|██████████| 1/1 [00:00<00:00, 424.01it/s]"
     ]
    },
    {
     "name": "stdout",
     "output_type": "stream",
     "text": [
      "\n",
      "\r",
      "0it [00:00, ?it/s]"
     ]
    },
    {
     "name": "stdout",
     "output_type": "stream",
     "text": [
      "\r",
      "Upgrading database; v5 -> v6: : 0it [00:00, ?it/s]"
     ]
    },
    {
     "name": "stdout",
     "output_type": "stream",
     "text": [
      "\r",
      "Upgrading database; v5 -> v6: : 0it [00:00, ?it/s]"
     ]
    },
    {
     "name": "stdout",
     "output_type": "stream",
     "text": [
      "\n",
      "\r",
      "  0%|          | 0/1 [00:00<?, ?it/s]"
     ]
    },
    {
     "name": "stdout",
     "output_type": "stream",
     "text": [
      "\r",
      "Upgrading database; v6 -> v7:   0%|          | 0/1 [00:00<?, ?it/s]"
     ]
    },
    {
     "name": "stdout",
     "output_type": "stream",
     "text": [
      "\r",
      "Upgrading database; v6 -> v7: 100%|██████████| 1/1 [00:00<00:00, 274.44it/s]"
     ]
    },
    {
     "name": "stdout",
     "output_type": "stream",
     "text": [
      "\n",
      "\r",
      "  0%|          | 0/1 [00:00<?, ?it/s]"
     ]
    },
    {
     "name": "stdout",
     "output_type": "stream",
     "text": [
      "\r",
      "Upgrading database; v7 -> v8:   0%|          | 0/1 [00:00<?, ?it/s]"
     ]
    },
    {
     "name": "stdout",
     "output_type": "stream",
     "text": [
      "\r",
      "Upgrading database; v7 -> v8: 100%|██████████| 1/1 [00:00<00:00, 398.77it/s]"
     ]
    },
    {
     "name": "stdout",
     "output_type": "stream",
     "text": [
      "\n",
      "\r",
      "  0%|          | 0/1 [00:00<?, ?it/s]"
     ]
    },
    {
     "name": "stdout",
     "output_type": "stream",
     "text": [
      "\r",
      "Upgrading database; v8 -> v9:   0%|          | 0/1 [00:00<?, ?it/s]"
     ]
    },
    {
     "name": "stdout",
     "output_type": "stream",
     "text": [
      "\r",
      "Upgrading database; v8 -> v9: 100%|██████████| 1/1 [00:00<00:00, 421.20it/s]"
     ]
    },
    {
     "name": "stdout",
     "output_type": "stream",
     "text": [
      "\n"
     ]
    }
   ],
   "source": [
    "initialise_database()\n",
    "exp = load_or_create_experiment(experiment_name='tutorial_exp', sample_name=\"no sample\")"
   ]
  },
  {
   "cell_type": "markdown",
   "metadata": {},
   "source": [
    "Here, we define a simple function to benchmark the time it takes to insert n points with either numeric or array data type.\n",
    "We will compare both the time used to call ``add_result`` and the time used for the full measurement."
   ]
  },
  {
   "cell_type": "code",
   "execution_count": 4,
   "metadata": {
    "execution": {
     "iopub.execute_input": "2020-09-26T06:27:02.404311Z",
     "iopub.status.busy": "2020-09-26T06:27:02.403047Z",
     "iopub.status.idle": "2020-09-26T06:27:02.405026Z",
     "shell.execute_reply": "2020-09-26T06:27:02.405466Z"
    }
   },
   "outputs": [],
   "source": [
    "def insert_data(paramtype, npoints, nreps=1):\n",
    "\n",
    "    meas = Measurement(exp=exp)\n",
    "\n",
    "    x1 = ManualParameter('x1')\n",
    "    x2 = ManualParameter('x2')\n",
    "    x3 = ManualParameter('x3')\n",
    "    y1 = ManualParameter('y1')\n",
    "    y2 = ManualParameter('y2')\n",
    "\n",
    "    meas.register_parameter(x1, paramtype=paramtype)\n",
    "    meas.register_parameter(x2, paramtype=paramtype)\n",
    "    meas.register_parameter(x3, paramtype=paramtype)\n",
    "    meas.register_parameter(y1, setpoints=[x1, x2, x3],\n",
    "                            paramtype=paramtype)\n",
    "    meas.register_parameter(y2, setpoints=[x1, x2, x3],\n",
    "                            paramtype=paramtype)\n",
    "    start = time.perf_counter()\n",
    "    with meas.run() as datasaver:\n",
    "        start_adding = time.perf_counter()\n",
    "        for i in range(nreps):\n",
    "            datasaver.add_result((x1, np.random.rand(npoints)),\n",
    "                                 (x2, np.random.rand(npoints)),\n",
    "                                 (x3, np.random.rand(npoints)),\n",
    "                                 (y1, np.random.rand(npoints)),\n",
    "                                 (y2, np.random.rand(npoints)))\n",
    "        stop_adding = time.perf_counter()\n",
    "        run_id = datasaver.run_id\n",
    "    stop = time.perf_counter()\n",
    "    tot_time = stop - start\n",
    "    add_time = stop_adding - start_adding\n",
    "    return tot_time, add_time, run_id"
   ]
  },
  {
   "cell_type": "markdown",
   "metadata": {},
   "source": [
    "## Comparison between numeric/array data and binary blob"
   ]
  },
  {
   "cell_type": "markdown",
   "metadata": {},
   "source": [
    "### Case1: Short experiment time"
   ]
  },
  {
   "cell_type": "code",
   "execution_count": 5,
   "metadata": {
    "execution": {
     "iopub.execute_input": "2020-09-26T06:27:02.412162Z",
     "iopub.status.busy": "2020-09-26T06:27:02.411625Z",
     "iopub.status.idle": "2020-09-26T06:27:03.280521Z",
     "shell.execute_reply": "2020-09-26T06:27:03.281356Z"
    }
   },
   "outputs": [
    {
     "name": "stdout",
     "output_type": "stream",
     "text": [
      "Starting experimental run with id: 1. \n",
      "Starting experimental run with id: 2. \n",
      "Starting experimental run with id: 3. \n",
      "Starting experimental run with id: 4. \n",
      "Starting experimental run with id: 5. \n"
     ]
    },
    {
     "name": "stdout",
     "output_type": "stream",
     "text": [
      "Starting experimental run with id: 6. \n"
     ]
    },
    {
     "name": "stdout",
     "output_type": "stream",
     "text": [
      "Starting experimental run with id: 7. \n"
     ]
    },
    {
     "name": "stdout",
     "output_type": "stream",
     "text": [
      "Starting experimental run with id: 8. \n",
      "Starting experimental run with id: 9. \n"
     ]
    },
    {
     "name": "stdout",
     "output_type": "stream",
     "text": [
      "Starting experimental run with id: 10. \n",
      "Starting experimental run with id: 11. \n"
     ]
    },
    {
     "name": "stdout",
     "output_type": "stream",
     "text": [
      "Starting experimental run with id: 12. \n",
      "Starting experimental run with id: 13. \n"
     ]
    },
    {
     "name": "stdout",
     "output_type": "stream",
     "text": [
      "Starting experimental run with id: 14. \n"
     ]
    }
   ],
   "source": [
    "sizes = [1,500,1000,2000,3000,4000,5000]\n",
    "t_numeric = []\n",
    "t_numeric_add = []\n",
    "t_array = []\n",
    "t_array_add = []\n",
    "for size in sizes:\n",
    "    tn, tna, run_id_n =  insert_data('numeric', size)\n",
    "    t_numeric.append(tn)\n",
    "    t_numeric_add.append(tna)\n",
    "\n",
    "    ta, taa, run_id_a =  insert_data('array', size)\n",
    "    t_array.append(ta)\n",
    "    t_array_add.append(taa)"
   ]
  },
  {
   "cell_type": "code",
   "execution_count": 6,
   "metadata": {
    "execution": {
     "iopub.execute_input": "2020-09-26T06:27:03.299207Z",
     "iopub.status.busy": "2020-09-26T06:27:03.298589Z",
     "iopub.status.idle": "2020-09-26T06:27:03.479842Z",
     "shell.execute_reply": "2020-09-26T06:27:03.479355Z"
    }
   },
   "outputs": [
    {
     "data": {
      "image/png": "[encoded data removed]",
      "text/plain": [
       "<Figure size 432x288 with 1 Axes>"
      ]
     },
     "metadata": {
      "needs_background": "light"
     },
     "output_type": "display_data"
    }
   ],
   "source": [
    "fig, ax = plt.subplots(1,1)\n",
    "ax.plot(sizes, t_numeric, 'o-', label='Inserting row-by-row')\n",
    "ax.plot(sizes, t_numeric_add, 'o-', label='Inserting row-by-row: add_result only')\n",
    "ax.plot(sizes, t_array, 'd-', label='Inserting as binary blob')\n",
    "ax.plot(sizes, t_array_add, 'd-', label='Inserting as binary blob: add_result only')\n",
    "ax.legend()\n",
    "ax.set_xlabel('Array length')\n",
    "ax.set_ylabel('Time (s)')\n",
    "fig.tight_layout()"
   ]
  },
  {
   "cell_type": "markdown",
   "metadata": {},
   "source": [
    "As shown in the latter figure, the time to setup and and close the experiment is approximately 0.4 sec. In case of small array sizes, the difference between inserting values of data as arrays and inserting them row-by-row is relatively unimportant. At larger array sizes, i.e. above 10000 points, the cost of writing data as individual datapoints starts to become important.\n"
   ]
  },
  {
   "cell_type": "markdown",
   "metadata": {},
   "source": [
    "### Case2: Long experiment time "
   ]
  },
  {
   "cell_type": "code",
   "execution_count": 7,
   "metadata": {
    "execution": {
     "iopub.execute_input": "2020-09-26T06:27:03.485947Z",
     "iopub.status.busy": "2020-09-26T06:27:03.484615Z",
     "iopub.status.idle": "2020-09-26T06:28:05.030776Z",
     "shell.execute_reply": "2020-09-26T06:28:05.030293Z"
    }
   },
   "outputs": [
    {
     "name": "stdout",
     "output_type": "stream",
     "text": [
      "Starting experimental run with id: 15. \n",
      "Starting experimental run with id: 16. \n",
      "Starting experimental run with id: 17. \n"
     ]
    },
    {
     "name": "stdout",
     "output_type": "stream",
     "text": [
      "Starting experimental run with id: 18. \n",
      "Starting experimental run with id: 19. \n"
     ]
    },
    {
     "name": "stdout",
     "output_type": "stream",
     "text": [
      "Starting experimental run with id: 20. \n"
     ]
    },
    {
     "name": "stdout",
     "output_type": "stream",
     "text": [
      "Starting experimental run with id: 21. \n"
     ]
    },
    {
     "name": "stdout",
     "output_type": "stream",
     "text": [
      "Starting experimental run with id: 22. \n"
     ]
    },
    {
     "name": "stdout",
     "output_type": "stream",
     "text": [
      "Starting experimental run with id: 23. \n"
     ]
    },
    {
     "name": "stdout",
     "output_type": "stream",
     "text": [
      "Starting experimental run with id: 24. \n"
     ]
    },
    {
     "name": "stdout",
     "output_type": "stream",
     "text": [
      "Starting experimental run with id: 25. \n"
     ]
    },
    {
     "name": "stdout",
     "output_type": "stream",
     "text": [
      "Starting experimental run with id: 26. \n"
     ]
    },
    {
     "name": "stdout",
     "output_type": "stream",
     "text": [
      "Starting experimental run with id: 27. \n"
     ]
    },
    {
     "name": "stdout",
     "output_type": "stream",
     "text": [
      "Starting experimental run with id: 28. \n"
     ]
    }
   ],
   "source": [
    "sizes = [1,500,1000,2000,3000,4000,5000]\n",
    "nreps = 100\n",
    "t_numeric = []\n",
    "t_numeric_add = []\n",
    "t_numeric_run_ids = []\n",
    "t_array = []\n",
    "t_array_add = []\n",
    "t_array_run_ids = []\n",
    "for size in sizes:\n",
    "    tn, tna, run_id_n =  insert_data('numeric', size, nreps=nreps)\n",
    "    t_numeric.append(tn)\n",
    "    t_numeric_add.append(tna)\n",
    "    t_numeric_run_ids.append(run_id_n)\n",
    "\n",
    "    ta, taa, run_id_a =  insert_data('array', size, nreps=nreps)\n",
    "    t_array.append(ta)\n",
    "    t_array_add.append(taa)\n",
    "    t_array_run_ids.append(run_id_a)"
   ]
  },
  {
   "cell_type": "code",
   "execution_count": 8,
   "metadata": {
    "execution": {
     "iopub.execute_input": "2020-09-26T06:28:05.053085Z",
     "iopub.status.busy": "2020-09-26T06:28:05.035347Z",
     "iopub.status.idle": "2020-09-26T06:28:05.251282Z",
     "shell.execute_reply": "2020-09-26T06:28:05.250704Z"
    },
    "scrolled": true
   },
   "outputs": [
    {
     "data": {
      "image/png": "[encoded data removed]",
      "text/plain": [
       "<Figure size 432x288 with 1 Axes>"
      ]
     },
     "metadata": {
      "needs_background": "light"
     },
     "output_type": "display_data"
    }
   ],
   "source": [
    "fig, ax = plt.subplots(1,1)\n",
    "ax.plot(sizes, t_numeric, 'o-', label='Inserting row-by-row')\n",
    "ax.plot(sizes, t_numeric_add, 'o-', label='Inserting row-by-row: add_result only')\n",
    "ax.plot(sizes, t_array, 'd-', label='Inserting as binary blob')\n",
    "ax.plot(sizes, t_array_add, 'd-', label='Inserting as binary blob: add_result only')\n",
    "ax.legend()\n",
    "ax.set_xlabel('Array length')\n",
    "ax.set_ylabel('Time (s)')\n",
    "fig.tight_layout()"
   ]
  },
  {
   "cell_type": "markdown",
   "metadata": {},
   "source": [
    "However, as we increase the length of the experiment, as seen here by repeating the insertion 100 times, we see a big difference between inserting values of the data row-by-row and inserting it as a binary blob."
   ]
  },
  {
   "cell_type": "markdown",
   "metadata": {},
   "source": [
    "## Loading the data "
   ]
  },
  {
   "cell_type": "code",
   "execution_count": 9,
   "metadata": {
    "execution": {
     "iopub.execute_input": "2020-09-26T06:28:05.255676Z",
     "iopub.status.busy": "2020-09-26T06:28:05.254730Z",
     "iopub.status.idle": "2020-09-26T06:28:05.257959Z",
     "shell.execute_reply": "2020-09-26T06:28:05.257494Z"
    }
   },
   "outputs": [],
   "source": [
    "from qcodes.dataset.data_set import load_by_id\n",
    "from qcodes.dataset.data_export import get_data_by_id"
   ]
  },
  {
   "cell_type": "markdown",
   "metadata": {},
   "source": [
    "As usual you can load the data by using the ``load_by_id`` function but you will notice that the different storage methods\n",
    "are reflected in shape of the data as it is retrieved. "
   ]
  },
  {
   "cell_type": "code",
   "execution_count": 10,
   "metadata": {
    "execution": {
     "iopub.execute_input": "2020-09-26T06:28:05.262506Z",
     "iopub.status.busy": "2020-09-26T06:28:05.261340Z",
     "iopub.status.idle": "2020-09-26T06:28:05.263205Z",
     "shell.execute_reply": "2020-09-26T06:28:05.263655Z"
    }
   },
   "outputs": [],
   "source": [
    "run_id_n = t_numeric_run_ids[0]\n",
    "run_id_a = t_array_run_ids[0]"
   ]
  },
  {
   "cell_type": "code",
   "execution_count": 11,
   "metadata": {
    "execution": {
     "iopub.execute_input": "2020-09-26T06:28:05.266757Z",
     "iopub.status.busy": "2020-09-26T06:28:05.266230Z",
     "iopub.status.idle": "2020-09-26T06:28:05.280878Z",
     "shell.execute_reply": "2020-09-26T06:28:05.280146Z"
    },
    "scrolled": true
   },
   "outputs": [
    {
     "data": {
      "text/plain": [
       "{'x1': {'x1': array([0.86700189, 0.86700189, 0.06014266, 0.06014266, 0.87274644,\n",
       "         0.87274644, 0.33031526, 0.33031526, 0.49572304, 0.49572304,\n",
       "         0.61764235, 0.61764235, 0.35620329, 0.35620329, 0.55699088,\n",
       "         0.55699088, 0.31299092, 0.31299092, 0.22702709, 0.22702709,\n",
       "         0.91232973, 0.91232973, 0.0921462 , 0.0921462 , 0.64593115,\n",
       "         0.64593115, 0.85757206, 0.85757206, 0.93884101, 0.93884101,\n",
       "         0.9979147 , 0.9979147 , 0.28137091, 0.28137091, 0.38805698,\n",
       "         0.38805698, 0.28328916, 0.28328916, 0.96205089, 0.96205089,\n",
       "         0.02033337, 0.02033337, 0.8646435 , 0.8646435 , 0.15617736,\n",
       "         0.15617736, 0.13660096, 0.13660096, 0.84547686, 0.84547686,\n",
       "         0.61023546, 0.61023546, 0.46450831, 0.46450831, 0.423982  ,\n",
       "         0.423982  , 0.6450854 , 0.6450854 , 0.34206198, 0.34206198,\n",
       "         0.34276472, 0.34276472, 0.92605449, 0.92605449, 0.73658408,\n",
       "         0.73658408, 0.72929352, 0.72929352, 0.15768136, 0.15768136,\n",
       "         0.66673917, 0.66673917, 0.09954985, 0.09954985, 0.82732235,\n",
       "         0.82732235, 0.06822078, 0.06822078, 0.96346577, 0.96346577,\n",
       "         0.48676932, 0.48676932, 0.44771821, 0.44771821, 0.36944967,\n",
       "         0.36944967, 0.70022713, 0.70022713, 0.33460759, 0.33460759,\n",
       "         0.82731357, 0.82731357, 0.09489452, 0.09489452, 0.86245838,\n",
       "         0.86245838, 0.83109568, 0.83109568, 0.62705693, 0.62705693,\n",
       "         0.77068927, 0.77068927, 0.97802524, 0.97802524, 0.37966939,\n",
       "         0.37966939, 0.93025733, 0.93025733, 0.05182689, 0.05182689,\n",
       "         0.09792791, 0.09792791, 0.74443175, 0.74443175, 0.37216805,\n",
       "         0.37216805, 0.79398284, 0.79398284, 0.76183904, 0.76183904,\n",
       "         0.34207976, 0.34207976, 0.61898389, 0.61898389, 0.07404039,\n",
       "         0.07404039, 0.85176735, 0.85176735, 0.42306575, 0.42306575,\n",
       "         0.87251158, 0.87251158, 0.75555808, 0.75555808, 0.14963489,\n",
       "         0.14963489, 0.80136835, 0.80136835, 0.44926496, 0.44926496,\n",
       "         0.26531665, 0.26531665, 0.64583876, 0.64583876, 0.95724585,\n",
       "         0.95724585, 0.78215587, 0.78215587, 0.39500307, 0.39500307,\n",
       "         0.79512911, 0.79512911, 0.45730118, 0.45730118, 0.10417224,\n",
       "         0.10417224, 0.94374649, 0.94374649, 0.33369221, 0.33369221,\n",
       "         0.38562167, 0.38562167, 0.33269048, 0.33269048, 0.14911957,\n",
       "         0.14911957, 0.74731468, 0.74731468, 0.47077578, 0.47077578,\n",
       "         0.07292467, 0.07292467, 0.42953028, 0.42953028, 0.49176705,\n",
       "         0.49176705, 0.11346371, 0.11346371, 0.84623155, 0.84623155,\n",
       "         0.65833177, 0.65833177, 0.27139868, 0.27139868, 0.4113151 ,\n",
       "         0.4113151 , 0.05044793, 0.05044793, 0.51176138, 0.51176138,\n",
       "         0.6082109 , 0.6082109 , 0.5899122 , 0.5899122 , 0.64240088,\n",
       "         0.64240088, 0.75170562, 0.75170562, 0.65188876, 0.65188876])}}"
      ]
     },
     "execution_count": 1,
     "metadata": {},
     "output_type": "execute_result"
    }
   ],
   "source": [
    "ds = load_by_id(run_id_n)\n",
    "ds.get_parameter_data('x1')"
   ]
  },
  {
   "cell_type": "markdown",
   "metadata": {},
   "source": [
    "And a dataset stored as binary arrays"
   ]
  },
  {
   "cell_type": "code",
   "execution_count": 12,
   "metadata": {
    "execution": {
     "iopub.execute_input": "2020-09-26T06:28:05.284385Z",
     "iopub.status.busy": "2020-09-26T06:28:05.283850Z",
     "iopub.status.idle": "2020-09-26T06:28:05.350796Z",
     "shell.execute_reply": "2020-09-26T06:28:05.350105Z"
    },
    "scrolled": true
   },
   "outputs": [
    {
     "data": {
      "text/plain": [
       "{'x1': {'x1': array([[0.82366884],\n",
       "         [0.82366884],\n",
       "         [0.30799978],\n",
       "         [0.30799978],\n",
       "         [0.87010692],\n",
       "         [0.87010692],\n",
       "         [0.5030976 ],\n",
       "         [0.5030976 ],\n",
       "         [0.23275029],\n",
       "         [0.23275029],\n",
       "         [0.44751844],\n",
       "         [0.44751844],\n",
       "         [0.41254856],\n",
       "         [0.41254856],\n",
       "         [0.5985928 ],\n",
       "         [0.5985928 ],\n",
       "         [0.72522753],\n",
       "         [0.72522753],\n",
       "         [0.00274837],\n",
       "         [0.00274837],\n",
       "         [0.94803012],\n",
       "         [0.94803012],\n",
       "         [0.35670276],\n",
       "         [0.35670276],\n",
       "         [0.27091264],\n",
       "         [0.27091264],\n",
       "         [0.6484502 ],\n",
       "         [0.6484502 ],\n",
       "         [0.33330868],\n",
       "         [0.33330868],\n",
       "         [0.45380503],\n",
       "         [0.45380503],\n",
       "         [0.21933462],\n",
       "         [0.21933462],\n",
       "         [0.64879506],\n",
       "         [0.64879506],\n",
       "         [0.32068779],\n",
       "         [0.32068779],\n",
       "         [0.16494033],\n",
       "         [0.16494033],\n",
       "         [0.43894514],\n",
       "         [0.43894514],\n",
       "         [0.9236369 ],\n",
       "         [0.9236369 ],\n",
       "         [0.49501775],\n",
       "         [0.49501775],\n",
       "         [0.99091001],\n",
       "         [0.99091001],\n",
       "         [0.363601  ],\n",
       "         [0.363601  ],\n",
       "         [0.96222749],\n",
       "         [0.96222749],\n",
       "         [0.7097149 ],\n",
       "         [0.7097149 ],\n",
       "         [0.41542493],\n",
       "         [0.41542493],\n",
       "         [0.74612592],\n",
       "         [0.74612592],\n",
       "         [0.73486978],\n",
       "         [0.73486978],\n",
       "         [0.1602993 ],\n",
       "         [0.1602993 ],\n",
       "         [0.14445837],\n",
       "         [0.14445837],\n",
       "         [0.71186242],\n",
       "         [0.71186242],\n",
       "         [0.59488059],\n",
       "         [0.59488059],\n",
       "         [0.4070086 ],\n",
       "         [0.4070086 ],\n",
       "         [0.71114889],\n",
       "         [0.71114889],\n",
       "         [0.20029313],\n",
       "         [0.20029313],\n",
       "         [0.91655987],\n",
       "         [0.91655987],\n",
       "         [0.25579548],\n",
       "         [0.25579548],\n",
       "         [0.68945369],\n",
       "         [0.68945369],\n",
       "         [0.82955871],\n",
       "         [0.82955871],\n",
       "         [0.21287513],\n",
       "         [0.21287513],\n",
       "         [0.3722508 ],\n",
       "         [0.3722508 ],\n",
       "         [0.06356194],\n",
       "         [0.06356194],\n",
       "         [0.47006985],\n",
       "         [0.47006985],\n",
       "         [0.44115691],\n",
       "         [0.44115691],\n",
       "         [0.95060831],\n",
       "         [0.95060831],\n",
       "         [0.17167658],\n",
       "         [0.17167658],\n",
       "         [0.84937098],\n",
       "         [0.84937098],\n",
       "         [0.9006848 ],\n",
       "         [0.9006848 ],\n",
       "         [0.80142651],\n",
       "         [0.80142651],\n",
       "         [0.9149937 ],\n",
       "         [0.9149937 ],\n",
       "         [0.79267689],\n",
       "         [0.79267689],\n",
       "         [0.09797393],\n",
       "         [0.09797393],\n",
       "         [0.61645337],\n",
       "         [0.61645337],\n",
       "         [0.82806517],\n",
       "         [0.82806517],\n",
       "         [0.13673233],\n",
       "         [0.13673233],\n",
       "         [0.56441345],\n",
       "         [0.56441345],\n",
       "         [0.42529775],\n",
       "         [0.42529775],\n",
       "         [0.6948438 ],\n",
       "         [0.6948438 ],\n",
       "         [0.74463284],\n",
       "         [0.74463284],\n",
       "         [0.01134035],\n",
       "         [0.01134035],\n",
       "         [0.5884064 ],\n",
       "         [0.5884064 ],\n",
       "         [0.02580256],\n",
       "         [0.02580256],\n",
       "         [0.47179488],\n",
       "         [0.47179488],\n",
       "         [0.43276183],\n",
       "         [0.43276183],\n",
       "         [0.34813986],\n",
       "         [0.34813986],\n",
       "         [0.15544533],\n",
       "         [0.15544533],\n",
       "         [0.46813652],\n",
       "         [0.46813652],\n",
       "         [0.45952675],\n",
       "         [0.45952675],\n",
       "         [0.38026973],\n",
       "         [0.38026973],\n",
       "         [0.44926301],\n",
       "         [0.44926301],\n",
       "         [0.87789187],\n",
       "         [0.87789187],\n",
       "         [0.25955593],\n",
       "         [0.25955593],\n",
       "         [0.16708296],\n",
       "         [0.16708296],\n",
       "         [0.03695053],\n",
       "         [0.03695053],\n",
       "         [0.48938615],\n",
       "         [0.48938615],\n",
       "         [0.08872058],\n",
       "         [0.08872058],\n",
       "         [0.17248186],\n",
       "         [0.17248186],\n",
       "         [0.78300759],\n",
       "         [0.78300759],\n",
       "         [0.47844036],\n",
       "         [0.47844036],\n",
       "         [0.71451145],\n",
       "         [0.71451145],\n",
       "         [0.29441689],\n",
       "         [0.29441689],\n",
       "         [0.92513685],\n",
       "         [0.92513685],\n",
       "         [0.64418715],\n",
       "         [0.64418715],\n",
       "         [0.88999049],\n",
       "         [0.88999049],\n",
       "         [0.64619383],\n",
       "         [0.64619383],\n",
       "         [0.5910582 ],\n",
       "         [0.5910582 ],\n",
       "         [0.14427826],\n",
       "         [0.14427826],\n",
       "         [0.78491509],\n",
       "         [0.78491509],\n",
       "         [0.93236809],\n",
       "         [0.93236809],\n",
       "         [0.09800103],\n",
       "         [0.09800103],\n",
       "         [0.88432882],\n",
       "         [0.88432882],\n",
       "         [0.50777379],\n",
       "         [0.50777379],\n",
       "         [0.509458  ],\n",
       "         [0.509458  ],\n",
       "         [0.9541501 ],\n",
       "         [0.9541501 ],\n",
       "         [0.80766497],\n",
       "         [0.80766497],\n",
       "         [0.83527239],\n",
       "         [0.83527239],\n",
       "         [0.54314533],\n",
       "         [0.54314533],\n",
       "         [0.9164645 ],\n",
       "         [0.9164645 ]])}}"
      ]
     },
     "execution_count": 1,
     "metadata": {},
     "output_type": "execute_result"
    }
   ],
   "source": [
    "ds = load_by_id(run_id_a)\n",
    "ds.get_parameter_data('x1')"
   ]
  },
  {
   "cell_type": "code",
   "execution_count": null,
   "metadata": {},
   "outputs": [],
   "source": []
  }
 ],
 "metadata": {
  "kernelspec": {
   "display_name": "Python 3",
   "language": "python",
   "name": "python3"
  },
  "language_info": {
   "codemirror_mode": {
    "name": "ipython",
    "version": 3
   },
   "file_extension": ".py",
   "mimetype": "text/x-python",
   "name": "python",
   "nbconvert_exporter": "python",
   "pygments_lexer": "ipython3",
   "version": "3.7.7"
  },
  "nbsphinx": {
   "timeout": 600
  },
  "toc": {
   "base_numbering": 1,
   "nav_menu": {},
   "number_sections": true,
   "sideBar": true,
   "skip_h1_title": false,
   "title_cell": "Table of Contents",
   "title_sidebar": "Contents",
   "toc_cell": false,
   "toc_position": {},
   "toc_section_display": true,
   "toc_window_display": false
  },
  "varInspector": {
   "cols": {
    "lenName": 16,
    "lenType": 16,
    "lenVar": 40
   },
   "kernels_config": {
    "python": {
     "delete_cmd_postfix": "",
     "delete_cmd_prefix": "del ",
     "library": "var_list.py",
     "varRefreshCmd": "print(var_dic_list())"
    },
    "r": {
     "delete_cmd_postfix": ") ",
     "delete_cmd_prefix": "rm(",
     "library": "var_list.r",
     "varRefreshCmd": "cat(var_dic_list()) "
    }
   },
   "types_to_exclude": [
    "module",
    "function",
    "builtin_function_or_method",
    "instance",
    "_Feature"
   ],
   "window_display": false
  }
 },
 "nbformat": 4,
 "nbformat_minor": 2
}
