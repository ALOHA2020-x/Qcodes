{
 "cells": [
  {
   "cell_type": "markdown",
   "metadata": {},
   "source": [
    "# DataSet Performance\n",
    "\n",
    "This notebook shows the trade-off between inserting data into a database row-by-row and as binary blobs. Inserting the data row-by-row means that we have direct access to all the data and may perform queries directly on the values of the data. On the other hand, as we shall see, this is much slower than inserting the data directly as binary blobs."
   ]
  },
  {
   "cell_type": "markdown",
   "metadata": {},
   "source": [
    "First, we choose a new location for the database to ensure that we don't add a bunch of benchmarking data to the default one."
   ]
  },
  {
   "cell_type": "code",
   "execution_count": 1,
   "metadata": {},
   "outputs": [
    {
     "name": "stdout",
     "output_type": "stream",
     "text": [
      "Logging hadn't been started.\n",
      "Activating auto-logging. Current session state plus future input saved.\n",
      "Filename       : /home/vsts/.qcodes/logs/command_history.log\n",
      "Mode           : append\n",
      "Output logging : True\n",
      "Raw input log  : False\n",
      "Timestamping   : True\n",
      "State          : active\n"
     ]
    },
    {
     "name": "stdout",
     "output_type": "stream",
     "text": [
      "Qcodes Logfile : /home/vsts/.qcodes/logs/200514-19653-qcodes.log\n"
     ]
    }
   ],
   "source": [
    "import os\n",
    "cwd = os.getcwd()\n",
    "import qcodes as qc\n",
    "qc.config[\"core\"][\"db_location\"] = os.path.join(cwd, 'testing.db')\n"
   ]
  },
  {
   "cell_type": "code",
   "execution_count": 2,
   "metadata": {},
   "outputs": [],
   "source": [
    "%matplotlib inline\n",
    "import time\n",
    "import matplotlib.pyplot as plt\n",
    "import numpy as np\n",
    "\n",
    "import qcodes as qc\n",
    "from qcodes.instrument.parameter import ManualParameter\n",
    "from qcodes.dataset.experiment_container import (Experiment,\n",
    "                                                 load_last_experiment,\n",
    "                                                 new_experiment)\n",
    "from qcodes.dataset.sqlite.database import initialise_database\n",
    "from qcodes import load_or_create_experiment\n",
    "from qcodes.dataset.measurements import Measurement"
   ]
  },
  {
   "cell_type": "code",
   "execution_count": 3,
   "metadata": {},
   "outputs": [
    {
     "name": "stdout",
     "output_type": "stream",
     "text": [
      "\r",
      "0it [00:00, ?it/s]"
     ]
    },
    {
     "name": "stdout",
     "output_type": "stream",
     "text": [
      "\r",
      "Upgrading database; v0 -> v1: : 0it [00:00, ?it/s]"
     ]
    },
    {
     "name": "stdout",
     "output_type": "stream",
     "text": [
      "\r",
      "Upgrading database; v0 -> v1: : 0it [00:00, ?it/s]"
     ]
    },
    {
     "name": "stdout",
     "output_type": "stream",
     "text": [
      "\n",
      "\r",
      "  0%|          | 0/1 [00:00<?, ?it/s]"
     ]
    },
    {
     "name": "stdout",
     "output_type": "stream",
     "text": [
      "\r",
      "Upgrading database; v1 -> v2:   0%|          | 0/1 [00:00<?, ?it/s]"
     ]
    },
    {
     "name": "stdout",
     "output_type": "stream",
     "text": [
      "\r",
      "Upgrading database; v1 -> v2: 100%|██████████| 1/1 [00:00<00:00, 812.22it/s]"
     ]
    },
    {
     "name": "stdout",
     "output_type": "stream",
     "text": [
      "\n",
      "\r",
      "0it [00:00, ?it/s]"
     ]
    },
    {
     "name": "stdout",
     "output_type": "stream",
     "text": [
      "\r",
      "Upgrading database; v2 -> v3: : 0it [00:00, ?it/s]"
     ]
    },
    {
     "name": "stdout",
     "output_type": "stream",
     "text": [
      "\r",
      "Upgrading database; v2 -> v3: : 0it [00:00, ?it/s]"
     ]
    },
    {
     "name": "stdout",
     "output_type": "stream",
     "text": [
      "\n",
      "\r",
      "0it [00:00, ?it/s]"
     ]
    },
    {
     "name": "stdout",
     "output_type": "stream",
     "text": [
      "\r",
      "Upgrading database; v3 -> v4: : 0it [00:00, ?it/s]"
     ]
    },
    {
     "name": "stdout",
     "output_type": "stream",
     "text": [
      "\r",
      "Upgrading database; v3 -> v4: : 0it [00:00, ?it/s]"
     ]
    },
    {
     "name": "stdout",
     "output_type": "stream",
     "text": [
      "\n",
      "\r",
      "  0%|          | 0/1 [00:00<?, ?it/s]"
     ]
    },
    {
     "name": "stdout",
     "output_type": "stream",
     "text": [
      "\r",
      "Upgrading database; v4 -> v5:   0%|          | 0/1 [00:00<?, ?it/s]"
     ]
    },
    {
     "name": "stdout",
     "output_type": "stream",
     "text": [
      "\r",
      "Upgrading database; v4 -> v5: 100%|██████████| 1/1 [00:00<00:00, 892.60it/s]"
     ]
    },
    {
     "name": "stdout",
     "output_type": "stream",
     "text": [
      "\n",
      "\r",
      "0it [00:00, ?it/s]"
     ]
    },
    {
     "name": "stdout",
     "output_type": "stream",
     "text": [
      "\r",
      "Upgrading database; v5 -> v6: : 0it [00:00, ?it/s]"
     ]
    },
    {
     "name": "stdout",
     "output_type": "stream",
     "text": [
      "\r",
      "Upgrading database; v5 -> v6: : 0it [00:00, ?it/s]"
     ]
    },
    {
     "name": "stdout",
     "output_type": "stream",
     "text": [
      "\n",
      "\r",
      "  0%|          | 0/1 [00:00<?, ?it/s]"
     ]
    },
    {
     "name": "stdout",
     "output_type": "stream",
     "text": [
      "\r",
      "Upgrading database; v6 -> v7:   0%|          | 0/1 [00:00<?, ?it/s]"
     ]
    },
    {
     "name": "stdout",
     "output_type": "stream",
     "text": [
      "\r",
      "Upgrading database; v6 -> v7: 100%|██████████| 1/1 [00:00<00:00, 330.03it/s]"
     ]
    },
    {
     "name": "stdout",
     "output_type": "stream",
     "text": [
      "\n",
      "\r",
      "  0%|          | 0/1 [00:00<?, ?it/s]"
     ]
    },
    {
     "name": "stdout",
     "output_type": "stream",
     "text": [
      "\r",
      "Upgrading database; v7 -> v8:   0%|          | 0/1 [00:00<?, ?it/s]"
     ]
    },
    {
     "name": "stdout",
     "output_type": "stream",
     "text": [
      "\r",
      "Upgrading database; v7 -> v8: 100%|██████████| 1/1 [00:00<00:00, 881.16it/s]"
     ]
    },
    {
     "name": "stdout",
     "output_type": "stream",
     "text": [
      "\n",
      "\r",
      "  0%|          | 0/1 [00:00<?, ?it/s]"
     ]
    },
    {
     "name": "stdout",
     "output_type": "stream",
     "text": [
      "\r",
      "Upgrading database; v8 -> v9:   0%|          | 0/1 [00:00<?, ?it/s]"
     ]
    },
    {
     "name": "stdout",
     "output_type": "stream",
     "text": [
      "\r",
      "Upgrading database; v8 -> v9: 100%|██████████| 1/1 [00:00<00:00, 985.27it/s]"
     ]
    },
    {
     "name": "stdout",
     "output_type": "stream",
     "text": [
      "\n"
     ]
    }
   ],
   "source": [
    "initialise_database()\n",
    "exp = load_or_create_experiment(experiment_name='tutorial_exp', sample_name=\"no sample\")"
   ]
  },
  {
   "cell_type": "markdown",
   "metadata": {},
   "source": [
    "Here, we define a simple function to benchmark the time it takes to insert n points with either numeric or array data type.\n",
    "We will compare both the time used to call ``add_result`` and the time used for the full measurement."
   ]
  },
  {
   "cell_type": "code",
   "execution_count": 4,
   "metadata": {},
   "outputs": [],
   "source": [
    "def insert_data(paramtype, npoints, nreps=1):\n",
    "\n",
    "    meas = Measurement(exp=exp)\n",
    "\n",
    "    x1 = ManualParameter('x1')\n",
    "    x2 = ManualParameter('x2')\n",
    "    x3 = ManualParameter('x3')\n",
    "    y1 = ManualParameter('y1')\n",
    "    y2 = ManualParameter('y2')\n",
    "\n",
    "    meas.register_parameter(x1, paramtype=paramtype)\n",
    "    meas.register_parameter(x2, paramtype=paramtype)\n",
    "    meas.register_parameter(x3, paramtype=paramtype)\n",
    "    meas.register_parameter(y1, setpoints=[x1, x2, x3],\n",
    "                            paramtype=paramtype)\n",
    "    meas.register_parameter(y2, setpoints=[x1, x2, x3],\n",
    "                            paramtype=paramtype)\n",
    "    start = time.perf_counter()\n",
    "    with meas.run() as datasaver:\n",
    "        start_adding = time.perf_counter()\n",
    "        for i in range(nreps):\n",
    "            datasaver.add_result((x1, np.random.rand(npoints)),\n",
    "                                 (x2, np.random.rand(npoints)),\n",
    "                                 (x3, np.random.rand(npoints)),\n",
    "                                 (y1, np.random.rand(npoints)),\n",
    "                                 (y2, np.random.rand(npoints)))\n",
    "        stop_adding = time.perf_counter()\n",
    "        run_id = datasaver.run_id\n",
    "    stop = time.perf_counter()\n",
    "    tot_time = stop - start\n",
    "    add_time = stop_adding - start_adding\n",
    "    return tot_time, add_time, run_id"
   ]
  },
  {
   "cell_type": "markdown",
   "metadata": {},
   "source": [
    "## Comparison between numeric/array data and binary blob"
   ]
  },
  {
   "cell_type": "markdown",
   "metadata": {},
   "source": [
    "### Case1: Short experiment time"
   ]
  },
  {
   "cell_type": "code",
   "execution_count": 5,
   "metadata": {},
   "outputs": [
    {
     "name": "stdout",
     "output_type": "stream",
     "text": [
      "Starting experimental run with id: 1. \n",
      "Starting experimental run with id: 2. \n",
      "Starting experimental run with id: 3. \n",
      "Starting experimental run with id: 4. \n"
     ]
    },
    {
     "name": "stdout",
     "output_type": "stream",
     "text": [
      "Starting experimental run with id: 5. \n"
     ]
    },
    {
     "name": "stdout",
     "output_type": "stream",
     "text": [
      "Starting experimental run with id: 6. \n",
      "Starting experimental run with id: 7. \n"
     ]
    },
    {
     "name": "stdout",
     "output_type": "stream",
     "text": [
      "Starting experimental run with id: 8. \n",
      "Starting experimental run with id: 9. \n"
     ]
    },
    {
     "name": "stdout",
     "output_type": "stream",
     "text": [
      "Starting experimental run with id: 10. \n",
      "Starting experimental run with id: 11. \n"
     ]
    },
    {
     "name": "stdout",
     "output_type": "stream",
     "text": [
      "Starting experimental run with id: 12. \n"
     ]
    },
    {
     "name": "stdout",
     "output_type": "stream",
     "text": [
      "Starting experimental run with id: 13. \n"
     ]
    },
    {
     "name": "stdout",
     "output_type": "stream",
     "text": [
      "Starting experimental run with id: 14. \n"
     ]
    }
   ],
   "source": [
    "sizes = [1,500,1000,2000,3000,4000,5000]\n",
    "t_numeric = []\n",
    "t_numeric_add = []\n",
    "t_array = []\n",
    "t_array_add = []\n",
    "for size in sizes:\n",
    "    tn, tna, run_id_n =  insert_data('numeric', size)\n",
    "    t_numeric.append(tn)\n",
    "    t_numeric_add.append(tna)\n",
    "\n",
    "    ta, taa, run_id_a =  insert_data('array', size)\n",
    "    t_array.append(ta)\n",
    "    t_array_add.append(taa)"
   ]
  },
  {
   "cell_type": "code",
   "execution_count": 6,
   "metadata": {},
   "outputs": [
    {
     "data": {
      "image/png": "[encoded data removed]",
      "text/plain": [
       "<Figure size 432x288 with 1 Axes>"
      ]
     },
     "metadata": {
      "needs_background": "light"
     },
     "output_type": "display_data"
    }
   ],
   "source": [
    "fig, ax = plt.subplots(1,1)\n",
    "ax.plot(sizes, t_numeric, 'o-', label='Inserting row-by-row')\n",
    "ax.plot(sizes, t_numeric_add, 'o-', label='Inserting row-by-row: add_result only')\n",
    "ax.plot(sizes, t_array, 'd-', label='Inserting as binary blob')\n",
    "ax.plot(sizes, t_array_add, 'd-', label='Inserting as binary blob: add_result only')\n",
    "ax.legend()\n",
    "ax.set_xlabel('Array length')\n",
    "ax.set_ylabel('Time (s)')\n",
    "fig.tight_layout()"
   ]
  },
  {
   "cell_type": "markdown",
   "metadata": {},
   "source": [
    "As shown in the latter figure, the time to setup and and close the experiment is approximately 0.4 sec. In case of small array sizes, the difference between inserting values of data as arrays and inserting them row-by-row is relatively unimportant. At larger array sizes, i.e. above 10000 points, the cost of writing data as individual datapoints starts to become important.\n"
   ]
  },
  {
   "cell_type": "markdown",
   "metadata": {},
   "source": [
    "### Case2: Long experiment time "
   ]
  },
  {
   "cell_type": "code",
   "execution_count": 7,
   "metadata": {},
   "outputs": [
    {
     "name": "stdout",
     "output_type": "stream",
     "text": [
      "Starting experimental run with id: 15. \n",
      "Starting experimental run with id: 16. \n",
      "Starting experimental run with id: 17. \n"
     ]
    },
    {
     "name": "stdout",
     "output_type": "stream",
     "text": [
      "Starting experimental run with id: 18. \n",
      "Starting experimental run with id: 19. \n"
     ]
    },
    {
     "name": "stdout",
     "output_type": "stream",
     "text": [
      "Starting experimental run with id: 20. \n"
     ]
    },
    {
     "name": "stdout",
     "output_type": "stream",
     "text": [
      "Starting experimental run with id: 21. \n"
     ]
    },
    {
     "name": "stdout",
     "output_type": "stream",
     "text": [
      "Starting experimental run with id: 22. \n"
     ]
    },
    {
     "name": "stdout",
     "output_type": "stream",
     "text": [
      "Starting experimental run with id: 23. \n"
     ]
    },
    {
     "name": "stdout",
     "output_type": "stream",
     "text": [
      "Starting experimental run with id: 24. \n"
     ]
    },
    {
     "name": "stdout",
     "output_type": "stream",
     "text": [
      "Starting experimental run with id: 25. \n"
     ]
    },
    {
     "name": "stdout",
     "output_type": "stream",
     "text": [
      "Starting experimental run with id: 26. \n"
     ]
    },
    {
     "name": "stdout",
     "output_type": "stream",
     "text": [
      "Starting experimental run with id: 27. \n"
     ]
    },
    {
     "name": "stdout",
     "output_type": "stream",
     "text": [
      "Starting experimental run with id: 28. \n"
     ]
    }
   ],
   "source": [
    "sizes = [1,500,1000,2000,3000,4000,5000]\n",
    "nreps = 100\n",
    "t_numeric = []\n",
    "t_numeric_add = []\n",
    "t_numeric_run_ids = []\n",
    "t_array = []\n",
    "t_array_add = []\n",
    "t_array_run_ids = []\n",
    "for size in sizes:\n",
    "    tn, tna, run_id_n =  insert_data('numeric', size, nreps=nreps)\n",
    "    t_numeric.append(tn)\n",
    "    t_numeric_add.append(tna)\n",
    "    t_numeric_run_ids.append(run_id_n)\n",
    "\n",
    "    ta, taa, run_id_a =  insert_data('array', size, nreps=nreps)\n",
    "    t_array.append(ta)\n",
    "    t_array_add.append(taa)\n",
    "    t_array_run_ids.append(run_id_a)"
   ]
  },
  {
   "cell_type": "code",
   "execution_count": 8,
   "metadata": {
    "scrolled": true
   },
   "outputs": [
    {
     "data": {
      "image/png": "[encoded data removed]",
      "text/plain": [
       "<Figure size 432x288 with 1 Axes>"
      ]
     },
     "metadata": {
      "needs_background": "light"
     },
     "output_type": "display_data"
    }
   ],
   "source": [
    "fig, ax = plt.subplots(1,1)\n",
    "ax.plot(sizes, t_numeric, 'o-', label='Inserting row-by-row')\n",
    "ax.plot(sizes, t_numeric_add, 'o-', label='Inserting row-by-row: add_result only')\n",
    "ax.plot(sizes, t_array, 'd-', label='Inserting as binary blob')\n",
    "ax.plot(sizes, t_array_add, 'd-', label='Inserting as binary blob: add_result only')\n",
    "ax.legend()\n",
    "ax.set_xlabel('Array length')\n",
    "ax.set_ylabel('Time (s)')\n",
    "fig.tight_layout()"
   ]
  },
  {
   "cell_type": "markdown",
   "metadata": {},
   "source": [
    "However, as we increase the length of the experiment, as seen here by repeating the insertion 100 times, we see a big difference between inserting values of the data row-by-row and inserting it as a binary blob."
   ]
  },
  {
   "cell_type": "markdown",
   "metadata": {},
   "source": [
    "## Loading the data "
   ]
  },
  {
   "cell_type": "code",
   "execution_count": 9,
   "metadata": {},
   "outputs": [],
   "source": [
    "from qcodes.dataset.data_set import load_by_id\n",
    "from qcodes.dataset.data_export import get_data_by_id"
   ]
  },
  {
   "cell_type": "markdown",
   "metadata": {},
   "source": [
    "As usual you can load the data by using the ``load_by_id`` function but you will notice that the different storage methods\n",
    "are reflected in shape of the data as it is retrieved. "
   ]
  },
  {
   "cell_type": "code",
   "execution_count": 10,
   "metadata": {},
   "outputs": [],
   "source": [
    "run_id_n = t_numeric_run_ids[0]\n",
    "run_id_a = t_array_run_ids[0]"
   ]
  },
  {
   "cell_type": "code",
   "execution_count": 11,
   "metadata": {
    "scrolled": true
   },
   "outputs": [
    {
     "data": {
      "text/plain": [
       "{'x1': {'x1': array([0.35854503, 0.35854503, 0.1537165 , 0.1537165 , 0.55254123,\n",
       "         0.55254123, 0.340216  , 0.340216  , 0.66288042, 0.66288042,\n",
       "         0.8974282 , 0.8974282 , 0.18668086, 0.18668086, 0.357094  ,\n",
       "         0.357094  , 0.92437482, 0.92437482, 0.83791808, 0.83791808,\n",
       "         0.21582403, 0.21582403, 0.6972963 , 0.6972963 , 0.37551828,\n",
       "         0.37551828, 0.33405891, 0.33405891, 0.91208853, 0.91208853,\n",
       "         0.21296461, 0.21296461, 0.10082649, 0.10082649, 0.90891836,\n",
       "         0.90891836, 0.43148767, 0.43148767, 0.52089516, 0.52089516,\n",
       "         0.59483986, 0.59483986, 0.40034413, 0.40034413, 0.7245407 ,\n",
       "         0.7245407 , 0.34515308, 0.34515308, 0.39351228, 0.39351228,\n",
       "         0.6969184 , 0.6969184 , 0.856897  , 0.856897  , 0.12172368,\n",
       "         0.12172368, 0.43525304, 0.43525304, 0.25325898, 0.25325898,\n",
       "         0.34449883, 0.34449883, 0.56717755, 0.56717755, 0.12156345,\n",
       "         0.12156345, 0.55852853, 0.55852853, 0.23246331, 0.23246331,\n",
       "         0.23655373, 0.23655373, 0.0021569 , 0.0021569 , 0.82593679,\n",
       "         0.82593679, 0.00719982, 0.00719982, 0.18794825, 0.18794825,\n",
       "         0.18781751, 0.18781751, 0.01030323, 0.01030323, 0.19709548,\n",
       "         0.19709548, 0.68788296, 0.68788296, 0.55843842, 0.55843842,\n",
       "         0.3359499 , 0.3359499 , 0.28401528, 0.28401528, 0.92553402,\n",
       "         0.92553402, 0.99891974, 0.99891974, 0.66536729, 0.66536729,\n",
       "         0.00867118, 0.00867118, 0.32467821, 0.32467821, 0.72751399,\n",
       "         0.72751399, 0.29593677, 0.29593677, 0.69782403, 0.69782403,\n",
       "         0.52981543, 0.52981543, 0.58932749, 0.58932749, 0.40481935,\n",
       "         0.40481935, 0.77335893, 0.77335893, 0.37916526, 0.37916526,\n",
       "         0.38837372, 0.38837372, 0.98686882, 0.98686882, 0.84644185,\n",
       "         0.84644185, 0.33251106, 0.33251106, 0.2172582 , 0.2172582 ,\n",
       "         0.78451962, 0.78451962, 0.77149084, 0.77149084, 0.22139245,\n",
       "         0.22139245, 0.58167056, 0.58167056, 0.67012622, 0.67012622,\n",
       "         0.35630378, 0.35630378, 0.50697025, 0.50697025, 0.71901446,\n",
       "         0.71901446, 0.64408734, 0.64408734, 0.2696371 , 0.2696371 ,\n",
       "         0.75902721, 0.75902721, 0.32011107, 0.32011107, 0.48853209,\n",
       "         0.48853209, 0.18887449, 0.18887449, 0.38472868, 0.38472868,\n",
       "         0.85213497, 0.85213497, 0.83319379, 0.83319379, 0.97673412,\n",
       "         0.97673412, 0.70077997, 0.70077997, 0.21792148, 0.21792148,\n",
       "         0.76182451, 0.76182451, 0.02953441, 0.02953441, 0.35247381,\n",
       "         0.35247381, 0.68375329, 0.68375329, 0.44500529, 0.44500529,\n",
       "         0.51646017, 0.51646017, 0.11006119, 0.11006119, 0.46189377,\n",
       "         0.46189377, 0.15443845, 0.15443845, 0.0193834 , 0.0193834 ,\n",
       "         0.33514861, 0.33514861, 0.06563108, 0.06563108, 0.34367605,\n",
       "         0.34367605, 0.44497292, 0.44497292, 0.04556077, 0.04556077])}}"
      ]
     },
     "execution_count": 11,
     "metadata": {},
     "output_type": "execute_result"
    }
   ],
   "source": [
    "ds = load_by_id(run_id_n)\n",
    "ds.get_parameter_data('x1')"
   ]
  },
  {
   "cell_type": "markdown",
   "metadata": {},
   "source": [
    "And a dataset stored as binary arrays"
   ]
  },
  {
   "cell_type": "code",
   "execution_count": 12,
   "metadata": {
    "scrolled": true
   },
   "outputs": [
    {
     "data": {
      "text/plain": [
       "{'x1': {'x1': array([[0.63189297],\n",
       "         [0.63189297],\n",
       "         [0.18070841],\n",
       "         [0.18070841],\n",
       "         [0.36838688],\n",
       "         [0.36838688],\n",
       "         [0.34741538],\n",
       "         [0.34741538],\n",
       "         [0.64066664],\n",
       "         [0.64066664],\n",
       "         [0.9218158 ],\n",
       "         [0.9218158 ],\n",
       "         [0.00681079],\n",
       "         [0.00681079],\n",
       "         [0.34201197],\n",
       "         [0.34201197],\n",
       "         [0.06500574],\n",
       "         [0.06500574],\n",
       "         [0.42771505],\n",
       "         [0.42771505],\n",
       "         [0.57301216],\n",
       "         [0.57301216],\n",
       "         [0.69235757],\n",
       "         [0.69235757],\n",
       "         [0.81205161],\n",
       "         [0.81205161],\n",
       "         [0.46295962],\n",
       "         [0.46295962],\n",
       "         [0.82536937],\n",
       "         [0.82536937],\n",
       "         [0.66820711],\n",
       "         [0.66820711],\n",
       "         [0.94543383],\n",
       "         [0.94543383],\n",
       "         [0.20555142],\n",
       "         [0.20555142],\n",
       "         [0.08966581],\n",
       "         [0.08966581],\n",
       "         [0.06327165],\n",
       "         [0.06327165],\n",
       "         [0.55673222],\n",
       "         [0.55673222],\n",
       "         [0.52484874],\n",
       "         [0.52484874],\n",
       "         [0.31770896],\n",
       "         [0.31770896],\n",
       "         [0.77770155],\n",
       "         [0.77770155],\n",
       "         [0.86249025],\n",
       "         [0.86249025],\n",
       "         [0.08135943],\n",
       "         [0.08135943],\n",
       "         [0.8775396 ],\n",
       "         [0.8775396 ],\n",
       "         [0.54468345],\n",
       "         [0.54468345],\n",
       "         [0.4148268 ],\n",
       "         [0.4148268 ],\n",
       "         [0.0722726 ],\n",
       "         [0.0722726 ],\n",
       "         [0.36352822],\n",
       "         [0.36352822],\n",
       "         [0.64450939],\n",
       "         [0.64450939],\n",
       "         [0.72709875],\n",
       "         [0.72709875],\n",
       "         [0.83746578],\n",
       "         [0.83746578],\n",
       "         [0.38369589],\n",
       "         [0.38369589],\n",
       "         [0.11400565],\n",
       "         [0.11400565],\n",
       "         [0.24771124],\n",
       "         [0.24771124],\n",
       "         [0.24112433],\n",
       "         [0.24112433],\n",
       "         [0.69186259],\n",
       "         [0.69186259],\n",
       "         [0.05908094],\n",
       "         [0.05908094],\n",
       "         [0.5824383 ],\n",
       "         [0.5824383 ],\n",
       "         [0.33255666],\n",
       "         [0.33255666],\n",
       "         [0.68401248],\n",
       "         [0.68401248],\n",
       "         [0.10616848],\n",
       "         [0.10616848],\n",
       "         [0.78541141],\n",
       "         [0.78541141],\n",
       "         [0.76890037],\n",
       "         [0.76890037],\n",
       "         [0.54164131],\n",
       "         [0.54164131],\n",
       "         [0.61346403],\n",
       "         [0.61346403],\n",
       "         [0.58122265],\n",
       "         [0.58122265],\n",
       "         [0.14183612],\n",
       "         [0.14183612],\n",
       "         [0.68329646],\n",
       "         [0.68329646],\n",
       "         [0.93723679],\n",
       "         [0.93723679],\n",
       "         [0.12292024],\n",
       "         [0.12292024],\n",
       "         [0.55048586],\n",
       "         [0.55048586],\n",
       "         [0.00202716],\n",
       "         [0.00202716],\n",
       "         [0.0653206 ],\n",
       "         [0.0653206 ],\n",
       "         [0.71512695],\n",
       "         [0.71512695],\n",
       "         [0.56651492],\n",
       "         [0.56651492],\n",
       "         [0.99311476],\n",
       "         [0.99311476],\n",
       "         [0.16612416],\n",
       "         [0.16612416],\n",
       "         [0.42661369],\n",
       "         [0.42661369],\n",
       "         [0.47444874],\n",
       "         [0.47444874],\n",
       "         [0.71319263],\n",
       "         [0.71319263],\n",
       "         [0.00207442],\n",
       "         [0.00207442],\n",
       "         [0.04646241],\n",
       "         [0.04646241],\n",
       "         [0.27091109],\n",
       "         [0.27091109],\n",
       "         [0.48082504],\n",
       "         [0.48082504],\n",
       "         [0.61997618],\n",
       "         [0.61997618],\n",
       "         [0.67809526],\n",
       "         [0.67809526],\n",
       "         [0.87132685],\n",
       "         [0.87132685],\n",
       "         [0.92523944],\n",
       "         [0.92523944],\n",
       "         [0.27777809],\n",
       "         [0.27777809],\n",
       "         [0.94848149],\n",
       "         [0.94848149],\n",
       "         [0.3337236 ],\n",
       "         [0.3337236 ],\n",
       "         [0.79497787],\n",
       "         [0.79497787],\n",
       "         [0.75962486],\n",
       "         [0.75962486],\n",
       "         [0.27333027],\n",
       "         [0.27333027],\n",
       "         [0.63108928],\n",
       "         [0.63108928],\n",
       "         [0.63493838],\n",
       "         [0.63493838],\n",
       "         [0.98309592],\n",
       "         [0.98309592],\n",
       "         [0.27099249],\n",
       "         [0.27099249],\n",
       "         [0.50391054],\n",
       "         [0.50391054],\n",
       "         [0.22518317],\n",
       "         [0.22518317],\n",
       "         [0.60664983],\n",
       "         [0.60664983],\n",
       "         [0.41075373],\n",
       "         [0.41075373],\n",
       "         [0.5073857 ],\n",
       "         [0.5073857 ],\n",
       "         [0.5272746 ],\n",
       "         [0.5272746 ],\n",
       "         [0.35374846],\n",
       "         [0.35374846],\n",
       "         [0.8189559 ],\n",
       "         [0.8189559 ],\n",
       "         [0.05594005],\n",
       "         [0.05594005],\n",
       "         [0.88958497],\n",
       "         [0.88958497],\n",
       "         [0.59360547],\n",
       "         [0.59360547],\n",
       "         [0.71117378],\n",
       "         [0.71117378],\n",
       "         [0.77050375],\n",
       "         [0.77050375],\n",
       "         [0.62150425],\n",
       "         [0.62150425],\n",
       "         [0.15478873],\n",
       "         [0.15478873],\n",
       "         [0.895153  ],\n",
       "         [0.895153  ],\n",
       "         [0.29115311],\n",
       "         [0.29115311],\n",
       "         [0.02031562],\n",
       "         [0.02031562],\n",
       "         [0.81452941],\n",
       "         [0.81452941]])}}"
      ]
     },
     "execution_count": 12,
     "metadata": {},
     "output_type": "execute_result"
    }
   ],
   "source": [
    "ds = load_by_id(run_id_a)\n",
    "ds.get_parameter_data('x1')"
   ]
  },
  {
   "cell_type": "code",
   "execution_count": null,
   "metadata": {},
   "outputs": [],
   "source": []
  }
 ],
 "metadata": {
  "kernelspec": {
   "display_name": "Python 3",
   "language": "python",
   "name": "python3"
  },
  "language_info": {
   "codemirror_mode": {
    "name": "ipython",
    "version": 3
   },
   "file_extension": ".py",
   "mimetype": "text/x-python",
   "name": "python",
   "nbconvert_exporter": "python",
   "pygments_lexer": "ipython3",
   "version": "3.7.7"
  },
  "nbsphinx": {
   "timeout": 600
  },
  "toc": {
   "base_numbering": 1,
   "nav_menu": {},
   "number_sections": true,
   "sideBar": true,
   "skip_h1_title": false,
   "title_cell": "Table of Contents",
   "title_sidebar": "Contents",
   "toc_cell": false,
   "toc_position": {},
   "toc_section_display": true,
   "toc_window_display": false
  },
  "varInspector": {
   "cols": {
    "lenName": 16,
    "lenType": 16,
    "lenVar": 40
   },
   "kernels_config": {
    "python": {
     "delete_cmd_postfix": "",
     "delete_cmd_prefix": "del ",
     "library": "var_list.py",
     "varRefreshCmd": "print(var_dic_list())"
    },
    "r": {
     "delete_cmd_postfix": ") ",
     "delete_cmd_prefix": "rm(",
     "library": "var_list.r",
     "varRefreshCmd": "cat(var_dic_list()) "
    }
   },
   "types_to_exclude": [
    "module",
    "function",
    "builtin_function_or_method",
    "instance",
    "_Feature"
   ],
   "window_display": false
  }
 },
 "nbformat": 4,
 "nbformat_minor": 2
}
