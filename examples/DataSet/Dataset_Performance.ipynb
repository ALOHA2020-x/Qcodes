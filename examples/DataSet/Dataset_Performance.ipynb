{
 "cells": [
  {
   "cell_type": "markdown",
   "metadata": {},
   "source": [
    "# DataSet Performance\n",
    "\n",
    "This notebook shows the trade-off between inserting data into a database row-by-row and as binary blobs. Inserting the data row-by-row means that we have direct access to all the data and may perform queries directly on the values of the data. On the other hand, as we shall see, this is much slower than inserting the data directly as binary blobs."
   ]
  },
  {
   "cell_type": "markdown",
   "metadata": {},
   "source": [
    "First, we choose a new location for the database to ensure that we don't add a bunch of benchmarking data to the default one."
   ]
  },
  {
   "cell_type": "code",
   "execution_count": 1,
   "metadata": {
    "execution": {
     "iopub.execute_input": "2020-12-16T14:23:43.841896Z",
     "iopub.status.busy": "2020-12-16T14:23:43.841006Z",
     "iopub.status.idle": "2020-12-16T14:23:44.997818Z",
     "shell.execute_reply": "2020-12-16T14:23:44.997148Z"
    }
   },
   "outputs": [
    {
     "name": "stdout",
     "output_type": "stream",
     "text": [
      "Logging hadn't been started.\n",
      "Activating auto-logging. Current session state plus future input saved.\n",
      "Filename       : /home/vsts/.qcodes/logs/command_history.log\n",
      "Mode           : append\n",
      "Output logging : True\n",
      "Raw input log  : False\n",
      "Timestamping   : True\n",
      "State          : active\n"
     ]
    },
    {
     "name": "stdout",
     "output_type": "stream",
     "text": [
      "Qcodes Logfile : /home/vsts/.qcodes/logs/201216-14394-qcodes.log\n"
     ]
    }
   ],
   "source": [
    "import os\n",
    "cwd = os.getcwd()\n",
    "import qcodes as qc\n",
    "qc.config[\"core\"][\"db_location\"] = os.path.join(cwd, 'testing.db')\n"
   ]
  },
  {
   "cell_type": "code",
   "execution_count": 2,
   "metadata": {
    "execution": {
     "iopub.execute_input": "2020-12-16T14:23:45.004038Z",
     "iopub.status.busy": "2020-12-16T14:23:45.002949Z",
     "iopub.status.idle": "2020-12-16T14:23:45.200242Z",
     "shell.execute_reply": "2020-12-16T14:23:45.199713Z"
    }
   },
   "outputs": [],
   "source": [
    "%matplotlib inline\n",
    "import time\n",
    "import matplotlib.pyplot as plt\n",
    "import numpy as np\n",
    "\n",
    "import qcodes as qc\n",
    "from qcodes.instrument.parameter import ManualParameter\n",
    "from qcodes.dataset.experiment_container import (Experiment,\n",
    "                                                 load_last_experiment,\n",
    "                                                 new_experiment)\n",
    "from qcodes.dataset.sqlite.database import initialise_database\n",
    "from qcodes import load_or_create_experiment\n",
    "from qcodes.dataset.measurements import Measurement"
   ]
  },
  {
   "cell_type": "code",
   "execution_count": 3,
   "metadata": {
    "execution": {
     "iopub.execute_input": "2020-12-16T14:23:45.204164Z",
     "iopub.status.busy": "2020-12-16T14:23:45.203543Z",
     "iopub.status.idle": "2020-12-16T14:23:45.329781Z",
     "shell.execute_reply": "2020-12-16T14:23:45.329318Z"
    }
   },
   "outputs": [
    {
     "name": "stdout",
     "output_type": "stream",
     "text": [
      "\r",
      "0it [00:00, ?it/s]"
     ]
    },
    {
     "name": "stdout",
     "output_type": "stream",
     "text": [
      "\r",
      "Upgrading database; v0 -> v1: : 0it [00:00, ?it/s]"
     ]
    },
    {
     "name": "stdout",
     "output_type": "stream",
     "text": [
      "\r",
      "Upgrading database; v0 -> v1: : 0it [00:00, ?it/s]"
     ]
    },
    {
     "name": "stdout",
     "output_type": "stream",
     "text": [
      "\n",
      "\r",
      "  0%|          | 0/1 [00:00<?, ?it/s]"
     ]
    },
    {
     "name": "stdout",
     "output_type": "stream",
     "text": [
      "\r",
      "Upgrading database; v1 -> v2:   0%|          | 0/1 [00:00<?, ?it/s]"
     ]
    },
    {
     "name": "stdout",
     "output_type": "stream",
     "text": [
      "\r",
      "Upgrading database; v1 -> v2: 100%|██████████| 1/1 [00:00<00:00, 572.05it/s]"
     ]
    },
    {
     "name": "stdout",
     "output_type": "stream",
     "text": [
      "\n",
      "\r",
      "0it [00:00, ?it/s]"
     ]
    },
    {
     "name": "stdout",
     "output_type": "stream",
     "text": [
      "\r",
      "Upgrading database; v2 -> v3: : 0it [00:00, ?it/s]"
     ]
    },
    {
     "name": "stdout",
     "output_type": "stream",
     "text": [
      "\r",
      "Upgrading database; v2 -> v3: : 0it [00:00, ?it/s]"
     ]
    },
    {
     "name": "stdout",
     "output_type": "stream",
     "text": [
      "\n",
      "\r",
      "0it [00:00, ?it/s]"
     ]
    },
    {
     "name": "stdout",
     "output_type": "stream",
     "text": [
      "\r",
      "Upgrading database; v3 -> v4: : 0it [00:00, ?it/s]"
     ]
    },
    {
     "name": "stdout",
     "output_type": "stream",
     "text": [
      "\r",
      "Upgrading database; v3 -> v4: : 0it [00:00, ?it/s]"
     ]
    },
    {
     "name": "stdout",
     "output_type": "stream",
     "text": [
      "\n",
      "\r",
      "  0%|          | 0/1 [00:00<?, ?it/s]"
     ]
    },
    {
     "name": "stdout",
     "output_type": "stream",
     "text": [
      "\r",
      "Upgrading database; v4 -> v5:   0%|          | 0/1 [00:00<?, ?it/s]"
     ]
    },
    {
     "name": "stdout",
     "output_type": "stream",
     "text": [
      "\r",
      "Upgrading database; v4 -> v5: 100%|██████████| 1/1 [00:00<00:00, 610.79it/s]"
     ]
    },
    {
     "name": "stdout",
     "output_type": "stream",
     "text": [
      "\n",
      "\r",
      "0it [00:00, ?it/s]"
     ]
    },
    {
     "name": "stdout",
     "output_type": "stream",
     "text": [
      "\r",
      "Upgrading database; v5 -> v6: : 0it [00:00, ?it/s]"
     ]
    },
    {
     "name": "stdout",
     "output_type": "stream",
     "text": [
      "\r",
      "Upgrading database; v5 -> v6: : 0it [00:00, ?it/s]"
     ]
    },
    {
     "name": "stdout",
     "output_type": "stream",
     "text": [
      "\n",
      "\r",
      "  0%|          | 0/1 [00:00<?, ?it/s]"
     ]
    },
    {
     "name": "stdout",
     "output_type": "stream",
     "text": [
      "\r",
      "Upgrading database; v6 -> v7:   0%|          | 0/1 [00:00<?, ?it/s]"
     ]
    },
    {
     "name": "stdout",
     "output_type": "stream",
     "text": [
      "\r",
      "Upgrading database; v6 -> v7: 100%|██████████| 1/1 [00:00<00:00, 339.59it/s]"
     ]
    },
    {
     "name": "stdout",
     "output_type": "stream",
     "text": [
      "\n",
      "\r",
      "  0%|          | 0/1 [00:00<?, ?it/s]"
     ]
    },
    {
     "name": "stdout",
     "output_type": "stream",
     "text": [
      "\r",
      "Upgrading database; v7 -> v8:   0%|          | 0/1 [00:00<?, ?it/s]"
     ]
    },
    {
     "name": "stdout",
     "output_type": "stream",
     "text": [
      "\r",
      "Upgrading database; v7 -> v8: 100%|██████████| 1/1 [00:00<00:00, 979.06it/s]"
     ]
    },
    {
     "name": "stdout",
     "output_type": "stream",
     "text": [
      "\n",
      "\r",
      "  0%|          | 0/1 [00:00<?, ?it/s]"
     ]
    },
    {
     "name": "stdout",
     "output_type": "stream",
     "text": [
      "\r",
      "Upgrading database; v8 -> v9:   0%|          | 0/1 [00:00<?, ?it/s]"
     ]
    },
    {
     "name": "stdout",
     "output_type": "stream",
     "text": [
      "\r",
      "Upgrading database; v8 -> v9: 100%|██████████| 1/1 [00:00<00:00, 1205.26it/s]"
     ]
    },
    {
     "name": "stdout",
     "output_type": "stream",
     "text": [
      "\n"
     ]
    }
   ],
   "source": [
    "initialise_database()\n",
    "exp = load_or_create_experiment(experiment_name='tutorial_exp', sample_name=\"no sample\")"
   ]
  },
  {
   "cell_type": "markdown",
   "metadata": {},
   "source": [
    "Here, we define a simple function to benchmark the time it takes to insert n points with either numeric or array data type.\n",
    "We will compare both the time used to call ``add_result`` and the time used for the full measurement."
   ]
  },
  {
   "cell_type": "code",
   "execution_count": 4,
   "metadata": {
    "execution": {
     "iopub.execute_input": "2020-12-16T14:23:45.338701Z",
     "iopub.status.busy": "2020-12-16T14:23:45.338128Z",
     "iopub.status.idle": "2020-12-16T14:23:45.341731Z",
     "shell.execute_reply": "2020-12-16T14:23:45.341179Z"
    }
   },
   "outputs": [],
   "source": [
    "def insert_data(paramtype, npoints, nreps=1):\n",
    "\n",
    "    meas = Measurement(exp=exp)\n",
    "\n",
    "    x1 = ManualParameter('x1')\n",
    "    x2 = ManualParameter('x2')\n",
    "    x3 = ManualParameter('x3')\n",
    "    y1 = ManualParameter('y1')\n",
    "    y2 = ManualParameter('y2')\n",
    "\n",
    "    meas.register_parameter(x1, paramtype=paramtype)\n",
    "    meas.register_parameter(x2, paramtype=paramtype)\n",
    "    meas.register_parameter(x3, paramtype=paramtype)\n",
    "    meas.register_parameter(y1, setpoints=[x1, x2, x3],\n",
    "                            paramtype=paramtype)\n",
    "    meas.register_parameter(y2, setpoints=[x1, x2, x3],\n",
    "                            paramtype=paramtype)\n",
    "    start = time.perf_counter()\n",
    "    with meas.run() as datasaver:\n",
    "        start_adding = time.perf_counter()\n",
    "        for i in range(nreps):\n",
    "            datasaver.add_result((x1, np.random.rand(npoints)),\n",
    "                                 (x2, np.random.rand(npoints)),\n",
    "                                 (x3, np.random.rand(npoints)),\n",
    "                                 (y1, np.random.rand(npoints)),\n",
    "                                 (y2, np.random.rand(npoints)))\n",
    "        stop_adding = time.perf_counter()\n",
    "        run_id = datasaver.run_id\n",
    "    stop = time.perf_counter()\n",
    "    tot_time = stop - start\n",
    "    add_time = stop_adding - start_adding\n",
    "    return tot_time, add_time, run_id"
   ]
  },
  {
   "cell_type": "markdown",
   "metadata": {},
   "source": [
    "## Comparison between numeric/array data and binary blob"
   ]
  },
  {
   "cell_type": "markdown",
   "metadata": {},
   "source": [
    "### Case1: Short experiment time"
   ]
  },
  {
   "cell_type": "code",
   "execution_count": 5,
   "metadata": {
    "execution": {
     "iopub.execute_input": "2020-12-16T14:23:45.348055Z",
     "iopub.status.busy": "2020-12-16T14:23:45.346693Z",
     "iopub.status.idle": "2020-12-16T14:23:46.205300Z",
     "shell.execute_reply": "2020-12-16T14:23:46.205805Z"
    }
   },
   "outputs": [
    {
     "name": "stdout",
     "output_type": "stream",
     "text": [
      "Starting experimental run with id: 1. \n",
      "Starting experimental run with id: 2. \n",
      "Starting experimental run with id: 3. \n",
      "Starting experimental run with id: 4. \n",
      "Starting experimental run with id: 5. \n"
     ]
    },
    {
     "name": "stdout",
     "output_type": "stream",
     "text": [
      "Starting experimental run with id: 6. \n"
     ]
    },
    {
     "name": "stdout",
     "output_type": "stream",
     "text": [
      "Starting experimental run with id: 7. "
     ]
    },
    {
     "name": "stdout",
     "output_type": "stream",
     "text": [
      "\n"
     ]
    },
    {
     "name": "stdout",
     "output_type": "stream",
     "text": [
      "Starting experimental run with id: 8. \n",
      "Starting experimental run with id: 9. \n"
     ]
    },
    {
     "name": "stdout",
     "output_type": "stream",
     "text": [
      "Starting experimental run with id: 10. \n",
      "Starting experimental run with id: 11. \n"
     ]
    },
    {
     "name": "stdout",
     "output_type": "stream",
     "text": [
      "Starting experimental run with id: 12. \n"
     ]
    },
    {
     "name": "stdout",
     "output_type": "stream",
     "text": [
      "Starting experimental run with id: 13. \n"
     ]
    },
    {
     "name": "stdout",
     "output_type": "stream",
     "text": [
      "Starting experimental run with id: 14. \n"
     ]
    }
   ],
   "source": [
    "sizes = [1,500,1000,2000,3000,4000,5000]\n",
    "t_numeric = []\n",
    "t_numeric_add = []\n",
    "t_array = []\n",
    "t_array_add = []\n",
    "for size in sizes:\n",
    "    tn, tna, run_id_n =  insert_data('numeric', size)\n",
    "    t_numeric.append(tn)\n",
    "    t_numeric_add.append(tna)\n",
    "\n",
    "    ta, taa, run_id_a =  insert_data('array', size)\n",
    "    t_array.append(ta)\n",
    "    t_array_add.append(taa)"
   ]
  },
  {
   "cell_type": "code",
   "execution_count": 6,
   "metadata": {
    "execution": {
     "iopub.execute_input": "2020-12-16T14:23:46.222952Z",
     "iopub.status.busy": "2020-12-16T14:23:46.210183Z",
     "iopub.status.idle": "2020-12-16T14:23:46.415534Z",
     "shell.execute_reply": "2020-12-16T14:23:46.416160Z"
    }
   },
   "outputs": [
    {
     "data": {
      "image/png": "[encoded data removed]",
      "text/plain": [
       "<Figure size 432x288 with 1 Axes>"
      ]
     },
     "metadata": {
      "needs_background": "light"
     },
     "output_type": "display_data"
    }
   ],
   "source": [
    "fig, ax = plt.subplots(1,1)\n",
    "ax.plot(sizes, t_numeric, 'o-', label='Inserting row-by-row')\n",
    "ax.plot(sizes, t_numeric_add, 'o-', label='Inserting row-by-row: add_result only')\n",
    "ax.plot(sizes, t_array, 'd-', label='Inserting as binary blob')\n",
    "ax.plot(sizes, t_array_add, 'd-', label='Inserting as binary blob: add_result only')\n",
    "ax.legend()\n",
    "ax.set_xlabel('Array length')\n",
    "ax.set_ylabel('Time (s)')\n",
    "fig.tight_layout()"
   ]
  },
  {
   "cell_type": "markdown",
   "metadata": {},
   "source": [
    "As shown in the latter figure, the time to setup and and close the experiment is approximately 0.4 sec. In case of small array sizes, the difference between inserting values of data as arrays and inserting them row-by-row is relatively unimportant. At larger array sizes, i.e. above 10000 points, the cost of writing data as individual datapoints starts to become important.\n"
   ]
  },
  {
   "cell_type": "markdown",
   "metadata": {},
   "source": [
    "### Case2: Long experiment time "
   ]
  },
  {
   "cell_type": "code",
   "execution_count": 7,
   "metadata": {
    "execution": {
     "iopub.execute_input": "2020-12-16T14:23:46.426764Z",
     "iopub.status.busy": "2020-12-16T14:23:46.426219Z",
     "iopub.status.idle": "2020-12-16T14:24:46.881118Z",
     "shell.execute_reply": "2020-12-16T14:24:46.879718Z"
    }
   },
   "outputs": [
    {
     "name": "stdout",
     "output_type": "stream",
     "text": [
      "Starting experimental run with id: 15. \n",
      "Starting experimental run with id: 16. \n",
      "Starting experimental run with id: 17. \n"
     ]
    },
    {
     "name": "stdout",
     "output_type": "stream",
     "text": [
      "Starting experimental run with id: 18. \n",
      "Starting experimental run with id: 19. \n"
     ]
    },
    {
     "name": "stdout",
     "output_type": "stream",
     "text": [
      "Starting experimental run with id: 20. \n"
     ]
    },
    {
     "name": "stdout",
     "output_type": "stream",
     "text": [
      "Starting experimental run with id: 21. \n"
     ]
    },
    {
     "name": "stdout",
     "output_type": "stream",
     "text": [
      "Starting experimental run with id: 22. \n"
     ]
    },
    {
     "name": "stdout",
     "output_type": "stream",
     "text": [
      "Starting experimental run with id: 23. \n"
     ]
    },
    {
     "name": "stdout",
     "output_type": "stream",
     "text": [
      "Starting experimental run with id: 24. \n"
     ]
    },
    {
     "name": "stdout",
     "output_type": "stream",
     "text": [
      "Starting experimental run with id: 25. \n"
     ]
    },
    {
     "name": "stdout",
     "output_type": "stream",
     "text": [
      "Starting experimental run with id: 26. \n"
     ]
    },
    {
     "name": "stdout",
     "output_type": "stream",
     "text": [
      "Starting experimental run with id: 27. \n"
     ]
    },
    {
     "name": "stdout",
     "output_type": "stream",
     "text": [
      "Starting experimental run with id: 28. \n"
     ]
    }
   ],
   "source": [
    "sizes = [1,500,1000,2000,3000,4000,5000]\n",
    "nreps = 100\n",
    "t_numeric = []\n",
    "t_numeric_add = []\n",
    "t_numeric_run_ids = []\n",
    "t_array = []\n",
    "t_array_add = []\n",
    "t_array_run_ids = []\n",
    "for size in sizes:\n",
    "    tn, tna, run_id_n =  insert_data('numeric', size, nreps=nreps)\n",
    "    t_numeric.append(tn)\n",
    "    t_numeric_add.append(tna)\n",
    "    t_numeric_run_ids.append(run_id_n)\n",
    "\n",
    "    ta, taa, run_id_a =  insert_data('array', size, nreps=nreps)\n",
    "    t_array.append(ta)\n",
    "    t_array_add.append(taa)\n",
    "    t_array_run_ids.append(run_id_a)"
   ]
  },
  {
   "cell_type": "code",
   "execution_count": 8,
   "metadata": {
    "execution": {
     "iopub.execute_input": "2020-12-16T14:24:46.911743Z",
     "iopub.status.busy": "2020-12-16T14:24:46.886936Z",
     "iopub.status.idle": "2020-12-16T14:24:47.105033Z",
     "shell.execute_reply": "2020-12-16T14:24:47.104448Z"
    },
    "scrolled": true
   },
   "outputs": [
    {
     "data": {
      "image/png": "[encoded data removed]",
      "text/plain": [
       "<Figure size 432x288 with 1 Axes>"
      ]
     },
     "metadata": {
      "needs_background": "light"
     },
     "output_type": "display_data"
    }
   ],
   "source": [
    "fig, ax = plt.subplots(1,1)\n",
    "ax.plot(sizes, t_numeric, 'o-', label='Inserting row-by-row')\n",
    "ax.plot(sizes, t_numeric_add, 'o-', label='Inserting row-by-row: add_result only')\n",
    "ax.plot(sizes, t_array, 'd-', label='Inserting as binary blob')\n",
    "ax.plot(sizes, t_array_add, 'd-', label='Inserting as binary blob: add_result only')\n",
    "ax.legend()\n",
    "ax.set_xlabel('Array length')\n",
    "ax.set_ylabel('Time (s)')\n",
    "fig.tight_layout()"
   ]
  },
  {
   "cell_type": "markdown",
   "metadata": {},
   "source": [
    "However, as we increase the length of the experiment, as seen here by repeating the insertion 100 times, we see a big difference between inserting values of the data row-by-row and inserting it as a binary blob."
   ]
  },
  {
   "cell_type": "markdown",
   "metadata": {},
   "source": [
    "## Loading the data "
   ]
  },
  {
   "cell_type": "code",
   "execution_count": 9,
   "metadata": {
    "execution": {
     "iopub.execute_input": "2020-12-16T14:24:47.108989Z",
     "iopub.status.busy": "2020-12-16T14:24:47.108462Z",
     "iopub.status.idle": "2020-12-16T14:24:47.112011Z",
     "shell.execute_reply": "2020-12-16T14:24:47.111469Z"
    }
   },
   "outputs": [],
   "source": [
    "from qcodes.dataset.data_set import load_by_id\n",
    "from qcodes.dataset.data_export import get_data_by_id"
   ]
  },
  {
   "cell_type": "markdown",
   "metadata": {},
   "source": [
    "As usual you can load the data by using the ``load_by_id`` function but you will notice that the different storage methods\n",
    "are reflected in shape of the data as it is retrieved. "
   ]
  },
  {
   "cell_type": "code",
   "execution_count": 10,
   "metadata": {
    "execution": {
     "iopub.execute_input": "2020-12-16T14:24:47.115585Z",
     "iopub.status.busy": "2020-12-16T14:24:47.115048Z",
     "iopub.status.idle": "2020-12-16T14:24:47.117459Z",
     "shell.execute_reply": "2020-12-16T14:24:47.116925Z"
    }
   },
   "outputs": [],
   "source": [
    "run_id_n = t_numeric_run_ids[0]\n",
    "run_id_a = t_array_run_ids[0]"
   ]
  },
  {
   "cell_type": "code",
   "execution_count": 11,
   "metadata": {
    "execution": {
     "iopub.execute_input": "2020-12-16T14:24:47.120607Z",
     "iopub.status.busy": "2020-12-16T14:24:47.120067Z",
     "iopub.status.idle": "2020-12-16T14:24:47.129675Z",
     "shell.execute_reply": "2020-12-16T14:24:47.129123Z"
    },
    "scrolled": true
   },
   "outputs": [
    {
     "data": {
      "text/plain": [
       "{'x1': {'x1': array([0.32371492, 0.32371492, 0.0567332 , 0.0567332 , 0.90373851,\n",
       "         0.90373851, 0.36898191, 0.36898191, 0.99775975, 0.99775975,\n",
       "         0.79007923, 0.79007923, 0.30405814, 0.30405814, 0.36084874,\n",
       "         0.36084874, 0.78798643, 0.78798643, 0.8066735 , 0.8066735 ,\n",
       "         0.14055327, 0.14055327, 0.10043804, 0.10043804, 0.07750787,\n",
       "         0.07750787, 0.98805063, 0.98805063, 0.02041251, 0.02041251,\n",
       "         0.60243261, 0.60243261, 0.44923858, 0.44923858, 0.55389991,\n",
       "         0.55389991, 0.23513489, 0.23513489, 0.52643037, 0.52643037,\n",
       "         0.59042043, 0.59042043, 0.41719879, 0.41719879, 0.61545632,\n",
       "         0.61545632, 0.04239192, 0.04239192, 0.82614728, 0.82614728,\n",
       "         0.96630594, 0.96630594, 0.48683778, 0.48683778, 0.76274459,\n",
       "         0.76274459, 0.59248629, 0.59248629, 0.80689964, 0.80689964,\n",
       "         0.23958749, 0.23958749, 0.34913376, 0.34913376, 0.17715275,\n",
       "         0.17715275, 0.55905668, 0.55905668, 0.97625699, 0.97625699,\n",
       "         0.6436417 , 0.6436417 , 0.80323656, 0.80323656, 0.16570174,\n",
       "         0.16570174, 0.57004611, 0.57004611, 0.31997865, 0.31997865,\n",
       "         0.38812306, 0.38812306, 0.73185227, 0.73185227, 0.18283861,\n",
       "         0.18283861, 0.67107349, 0.67107349, 0.70842816, 0.70842816,\n",
       "         0.44087697, 0.44087697, 0.81174131, 0.81174131, 0.78843597,\n",
       "         0.78843597, 0.19449807, 0.19449807, 0.07710721, 0.07710721,\n",
       "         0.33040448, 0.33040448, 0.10775972, 0.10775972, 0.26518672,\n",
       "         0.26518672, 0.26917738, 0.26917738, 0.55619841, 0.55619841,\n",
       "         0.86738194, 0.86738194, 0.99283509, 0.99283509, 0.03522505,\n",
       "         0.03522505, 0.55982706, 0.55982706, 0.06098012, 0.06098012,\n",
       "         0.5914948 , 0.5914948 , 0.14405244, 0.14405244, 0.46453279,\n",
       "         0.46453279, 0.4797261 , 0.4797261 , 0.52204364, 0.52204364,\n",
       "         0.74718392, 0.74718392, 0.49893144, 0.49893144, 0.51353357,\n",
       "         0.51353357, 0.32634832, 0.32634832, 0.22136371, 0.22136371,\n",
       "         0.49040349, 0.49040349, 0.32322627, 0.32322627, 0.07246457,\n",
       "         0.07246457, 0.27873517, 0.27873517, 0.18828604, 0.18828604,\n",
       "         0.87150133, 0.87150133, 0.9750897 , 0.9750897 , 0.77788922,\n",
       "         0.77788922, 0.17009618, 0.17009618, 0.31332245, 0.31332245,\n",
       "         0.66841508, 0.66841508, 0.50997098, 0.50997098, 0.23164062,\n",
       "         0.23164062, 0.58901472, 0.58901472, 0.04862299, 0.04862299,\n",
       "         0.76682117, 0.76682117, 0.74723622, 0.74723622, 0.85363156,\n",
       "         0.85363156, 0.02053587, 0.02053587, 0.26123985, 0.26123985,\n",
       "         0.11505774, 0.11505774, 0.87702139, 0.87702139, 0.24743354,\n",
       "         0.24743354, 0.09559226, 0.09559226, 0.87469003, 0.87469003,\n",
       "         0.22287383, 0.22287383, 0.72135654, 0.72135654, 0.47006532,\n",
       "         0.47006532, 0.72113538, 0.72113538, 0.60894034, 0.60894034])}}"
      ]
     },
     "execution_count": 1,
     "metadata": {},
     "output_type": "execute_result"
    }
   ],
   "source": [
    "ds = load_by_id(run_id_n)\n",
    "ds.get_parameter_data('x1')"
   ]
  },
  {
   "cell_type": "markdown",
   "metadata": {},
   "source": [
    "And a dataset stored as binary arrays"
   ]
  },
  {
   "cell_type": "code",
   "execution_count": 12,
   "metadata": {
    "execution": {
     "iopub.execute_input": "2020-12-16T14:24:47.132921Z",
     "iopub.status.busy": "2020-12-16T14:24:47.132404Z",
     "iopub.status.idle": "2020-12-16T14:24:47.189909Z",
     "shell.execute_reply": "2020-12-16T14:24:47.190738Z"
    },
    "scrolled": true
   },
   "outputs": [
    {
     "data": {
      "text/plain": [
       "{'x1': {'x1': array([[0.24980111],\n",
       "         [0.24980111],\n",
       "         [0.21904042],\n",
       "         [0.21904042],\n",
       "         [0.78138885],\n",
       "         [0.78138885],\n",
       "         [0.80376076],\n",
       "         [0.80376076],\n",
       "         [0.81060483],\n",
       "         [0.81060483],\n",
       "         [0.79199819],\n",
       "         [0.79199819],\n",
       "         [0.59018746],\n",
       "         [0.59018746],\n",
       "         [0.7164728 ],\n",
       "         [0.7164728 ],\n",
       "         [0.20503567],\n",
       "         [0.20503567],\n",
       "         [0.69155556],\n",
       "         [0.69155556],\n",
       "         [0.44820613],\n",
       "         [0.44820613],\n",
       "         [0.47766489],\n",
       "         [0.47766489],\n",
       "         [0.7301753 ],\n",
       "         [0.7301753 ],\n",
       "         [0.55617237],\n",
       "         [0.55617237],\n",
       "         [0.32161129],\n",
       "         [0.32161129],\n",
       "         [0.95610107],\n",
       "         [0.95610107],\n",
       "         [0.01707089],\n",
       "         [0.01707089],\n",
       "         [0.21809212],\n",
       "         [0.21809212],\n",
       "         [0.97334126],\n",
       "         [0.97334126],\n",
       "         [0.19349757],\n",
       "         [0.19349757],\n",
       "         [0.46141861],\n",
       "         [0.46141861],\n",
       "         [0.84875223],\n",
       "         [0.84875223],\n",
       "         [0.8000538 ],\n",
       "         [0.8000538 ],\n",
       "         [0.68784559],\n",
       "         [0.68784559],\n",
       "         [0.96274602],\n",
       "         [0.96274602],\n",
       "         [0.87035065],\n",
       "         [0.87035065],\n",
       "         [0.54125541],\n",
       "         [0.54125541],\n",
       "         [0.17559407],\n",
       "         [0.17559407],\n",
       "         [0.60894423],\n",
       "         [0.60894423],\n",
       "         [0.01762757],\n",
       "         [0.01762757],\n",
       "         [0.80521556],\n",
       "         [0.80521556],\n",
       "         [0.08505402],\n",
       "         [0.08505402],\n",
       "         [0.81502053],\n",
       "         [0.81502053],\n",
       "         [0.27190279],\n",
       "         [0.27190279],\n",
       "         [0.09388355],\n",
       "         [0.09388355],\n",
       "         [0.24446559],\n",
       "         [0.24446559],\n",
       "         [0.16188352],\n",
       "         [0.16188352],\n",
       "         [0.60370003],\n",
       "         [0.60370003],\n",
       "         [0.78269008],\n",
       "         [0.78269008],\n",
       "         [0.69971499],\n",
       "         [0.69971499],\n",
       "         [0.87253547],\n",
       "         [0.87253547],\n",
       "         [0.22136673],\n",
       "         [0.22136673],\n",
       "         [0.47089984],\n",
       "         [0.47089984],\n",
       "         [0.6800505 ],\n",
       "         [0.6800505 ],\n",
       "         [0.80570507],\n",
       "         [0.80570507],\n",
       "         [0.79549484],\n",
       "         [0.79549484],\n",
       "         [0.45756063],\n",
       "         [0.45756063],\n",
       "         [0.77793301],\n",
       "         [0.77793301],\n",
       "         [0.81841348],\n",
       "         [0.81841348],\n",
       "         [0.62340329],\n",
       "         [0.62340329],\n",
       "         [0.04029432],\n",
       "         [0.04029432],\n",
       "         [0.75722941],\n",
       "         [0.75722941],\n",
       "         [0.43407004],\n",
       "         [0.43407004],\n",
       "         [0.82853783],\n",
       "         [0.82853783],\n",
       "         [0.75930661],\n",
       "         [0.75930661],\n",
       "         [0.43990559],\n",
       "         [0.43990559],\n",
       "         [0.71915488],\n",
       "         [0.71915488],\n",
       "         [0.13118189],\n",
       "         [0.13118189],\n",
       "         [0.88532402],\n",
       "         [0.88532402],\n",
       "         [0.60700692],\n",
       "         [0.60700692],\n",
       "         [0.7518599 ],\n",
       "         [0.7518599 ],\n",
       "         [0.53325069],\n",
       "         [0.53325069],\n",
       "         [0.96207998],\n",
       "         [0.96207998],\n",
       "         [0.89044131],\n",
       "         [0.89044131],\n",
       "         [0.29915499],\n",
       "         [0.29915499],\n",
       "         [0.80348294],\n",
       "         [0.80348294],\n",
       "         [0.77962244],\n",
       "         [0.77962244],\n",
       "         [0.0137802 ],\n",
       "         [0.0137802 ],\n",
       "         [0.01735423],\n",
       "         [0.01735423],\n",
       "         [0.72415672],\n",
       "         [0.72415672],\n",
       "         [0.72376205],\n",
       "         [0.72376205],\n",
       "         [0.26796297],\n",
       "         [0.26796297],\n",
       "         [0.75580558],\n",
       "         [0.75580558],\n",
       "         [0.31934114],\n",
       "         [0.31934114],\n",
       "         [0.99560092],\n",
       "         [0.99560092],\n",
       "         [0.8298929 ],\n",
       "         [0.8298929 ],\n",
       "         [0.36006677],\n",
       "         [0.36006677],\n",
       "         [0.88948593],\n",
       "         [0.88948593],\n",
       "         [0.04732159],\n",
       "         [0.04732159],\n",
       "         [0.33851802],\n",
       "         [0.33851802],\n",
       "         [0.89423337],\n",
       "         [0.89423337],\n",
       "         [0.20161768],\n",
       "         [0.20161768],\n",
       "         [0.01319528],\n",
       "         [0.01319528],\n",
       "         [0.40538578],\n",
       "         [0.40538578],\n",
       "         [0.83350193],\n",
       "         [0.83350193],\n",
       "         [0.65490393],\n",
       "         [0.65490393],\n",
       "         [0.87531811],\n",
       "         [0.87531811],\n",
       "         [0.82097377],\n",
       "         [0.82097377],\n",
       "         [0.94168605],\n",
       "         [0.94168605],\n",
       "         [0.850596  ],\n",
       "         [0.850596  ],\n",
       "         [0.6679641 ],\n",
       "         [0.6679641 ],\n",
       "         [0.75654739],\n",
       "         [0.75654739],\n",
       "         [0.97714113],\n",
       "         [0.97714113],\n",
       "         [0.08350241],\n",
       "         [0.08350241],\n",
       "         [0.95520573],\n",
       "         [0.95520573],\n",
       "         [0.15651155],\n",
       "         [0.15651155],\n",
       "         [0.0541544 ],\n",
       "         [0.0541544 ],\n",
       "         [0.83122091],\n",
       "         [0.83122091],\n",
       "         [0.53922569],\n",
       "         [0.53922569],\n",
       "         [0.64724327],\n",
       "         [0.64724327]])}}"
      ]
     },
     "execution_count": 1,
     "metadata": {},
     "output_type": "execute_result"
    }
   ],
   "source": [
    "ds = load_by_id(run_id_a)\n",
    "ds.get_parameter_data('x1')"
   ]
  },
  {
   "cell_type": "code",
   "execution_count": null,
   "metadata": {},
   "outputs": [],
   "source": []
  }
 ],
 "metadata": {
  "kernelspec": {
   "display_name": "Python 3",
   "language": "python",
   "name": "python3"
  },
  "language_info": {
   "codemirror_mode": {
    "name": "ipython",
    "version": 3
   },
   "file_extension": ".py",
   "mimetype": "text/x-python",
   "name": "python",
   "nbconvert_exporter": "python",
   "pygments_lexer": "ipython3",
   "version": "3.7.9"
  },
  "nbsphinx": {
   "timeout": 600
  },
  "toc": {
   "base_numbering": 1,
   "nav_menu": {},
   "number_sections": true,
   "sideBar": true,
   "skip_h1_title": false,
   "title_cell": "Table of Contents",
   "title_sidebar": "Contents",
   "toc_cell": false,
   "toc_position": {},
   "toc_section_display": true,
   "toc_window_display": false
  },
  "varInspector": {
   "cols": {
    "lenName": 16,
    "lenType": 16,
    "lenVar": 40
   },
   "kernels_config": {
    "python": {
     "delete_cmd_postfix": "",
     "delete_cmd_prefix": "del ",
     "library": "var_list.py",
     "varRefreshCmd": "print(var_dic_list())"
    },
    "r": {
     "delete_cmd_postfix": ") ",
     "delete_cmd_prefix": "rm(",
     "library": "var_list.r",
     "varRefreshCmd": "cat(var_dic_list()) "
    }
   },
   "types_to_exclude": [
    "module",
    "function",
    "builtin_function_or_method",
    "instance",
    "_Feature"
   ],
   "window_display": false
  }
 },
 "nbformat": 4,
 "nbformat_minor": 2
}
