{
 "cells": [
  {
   "cell_type": "markdown",
   "metadata": {},
   "source": [
    "# DataSet Performance\n",
    "\n",
    "This notebook shows the trade-off between inserting data into a database row-by-row and as binary blobs. Inserting the data row-by-row means that we have direct access to all the data and may perform queries directly on the values of the data. On the other hand, as we shall see, this is much slower than inserting the data directly as binary blobs."
   ]
  },
  {
   "cell_type": "markdown",
   "metadata": {},
   "source": [
    "First, we choose a new location for the database to ensure that we don't add a bunch of benchmarking data to the default one."
   ]
  },
  {
   "cell_type": "code",
   "execution_count": 1,
   "metadata": {
    "execution": {
     "iopub.execute_input": "2021-05-17T08:47:24.796780Z",
     "iopub.status.busy": "2021-05-17T08:47:24.796209Z",
     "iopub.status.idle": "2021-05-17T08:47:26.058572Z",
     "shell.execute_reply": "2021-05-17T08:47:26.059082Z"
    }
   },
   "outputs": [
    {
     "name": "stdout",
     "output_type": "stream",
     "text": [
      "Logging hadn't been started.\n",
      "Activating auto-logging. Current session state plus future input saved.\n",
      "Filename       : /home/runner/.qcodes/logs/command_history.log\n",
      "Mode           : append\n",
      "Output logging : True\n",
      "Raw input log  : False\n",
      "Timestamping   : True\n",
      "State          : active\n"
     ]
    },
    {
     "name": "stdout",
     "output_type": "stream",
     "text": [
      "Qcodes Logfile : /home/runner/.qcodes/logs/210517-4555-qcodes.log\n"
     ]
    }
   ],
   "source": [
    "import os\n",
    "cwd = os.getcwd()\n",
    "import qcodes as qc\n",
    "qc.config[\"core\"][\"db_location\"] = os.path.join(cwd, 'testing.db')\n"
   ]
  },
  {
   "cell_type": "code",
   "execution_count": 2,
   "metadata": {
    "execution": {
     "iopub.execute_input": "2021-05-17T08:47:26.069307Z",
     "iopub.status.busy": "2021-05-17T08:47:26.066874Z",
     "iopub.status.idle": "2021-05-17T08:47:26.273457Z",
     "shell.execute_reply": "2021-05-17T08:47:26.273980Z"
    }
   },
   "outputs": [],
   "source": [
    "%matplotlib inline\n",
    "import time\n",
    "import matplotlib.pyplot as plt\n",
    "import numpy as np\n",
    "\n",
    "import qcodes as qc\n",
    "from qcodes.instrument.parameter import ManualParameter\n",
    "from qcodes.dataset.experiment_container import (Experiment,\n",
    "                                                 load_last_experiment,\n",
    "                                                 new_experiment)\n",
    "from qcodes.dataset.sqlite.database import initialise_database\n",
    "from qcodes import load_or_create_experiment\n",
    "from qcodes.dataset.measurements import Measurement"
   ]
  },
  {
   "cell_type": "code",
   "execution_count": 3,
   "metadata": {
    "execution": {
     "iopub.execute_input": "2021-05-17T08:47:26.278038Z",
     "iopub.status.busy": "2021-05-17T08:47:26.277464Z",
     "iopub.status.idle": "2021-05-17T08:47:26.374185Z",
     "shell.execute_reply": "2021-05-17T08:47:26.373638Z"
    }
   },
   "outputs": [
    {
     "name": "stdout",
     "output_type": "stream",
     "text": [
      "\r",
      "0it [00:00, ?it/s]"
     ]
    },
    {
     "name": "stdout",
     "output_type": "stream",
     "text": [
      "\r",
      "Upgrading database; v0 -> v1: : 0it [00:00, ?it/s]"
     ]
    },
    {
     "name": "stdout",
     "output_type": "stream",
     "text": [
      "\r",
      "Upgrading database; v0 -> v1: : 0it [00:00, ?it/s]"
     ]
    },
    {
     "name": "stdout",
     "output_type": "stream",
     "text": [
      "\n",
      "\r",
      "  0%|          | 0/1 [00:00<?, ?it/s]"
     ]
    },
    {
     "name": "stdout",
     "output_type": "stream",
     "text": [
      "\r",
      "Upgrading database; v1 -> v2:   0%|          | 0/1 [00:00<?, ?it/s]"
     ]
    },
    {
     "name": "stdout",
     "output_type": "stream",
     "text": [
      "\r",
      "Upgrading database; v1 -> v2: 100%|██████████| 1/1 [00:00<00:00, 436.86it/s]"
     ]
    },
    {
     "name": "stdout",
     "output_type": "stream",
     "text": [
      "\n",
      "\r",
      "0it [00:00, ?it/s]"
     ]
    },
    {
     "name": "stdout",
     "output_type": "stream",
     "text": [
      "\r",
      "Upgrading database; v2 -> v3: : 0it [00:00, ?it/s]"
     ]
    },
    {
     "name": "stdout",
     "output_type": "stream",
     "text": [
      "\r",
      "Upgrading database; v2 -> v3: : 0it [00:00, ?it/s]"
     ]
    },
    {
     "name": "stdout",
     "output_type": "stream",
     "text": [
      "\n",
      "\r",
      "0it [00:00, ?it/s]"
     ]
    },
    {
     "name": "stdout",
     "output_type": "stream",
     "text": [
      "\r",
      "Upgrading database; v3 -> v4: : 0it [00:00, ?it/s]"
     ]
    },
    {
     "name": "stdout",
     "output_type": "stream",
     "text": [
      "\r",
      "Upgrading database; v3 -> v4: : 0it [00:00, ?it/s]"
     ]
    },
    {
     "name": "stdout",
     "output_type": "stream",
     "text": [
      "\n",
      "\r",
      "  0%|          | 0/1 [00:00<?, ?it/s]"
     ]
    },
    {
     "name": "stdout",
     "output_type": "stream",
     "text": [
      "\r",
      "Upgrading database; v4 -> v5:   0%|          | 0/1 [00:00<?, ?it/s]"
     ]
    },
    {
     "name": "stdout",
     "output_type": "stream",
     "text": [
      "\r",
      "Upgrading database; v4 -> v5: 100%|██████████| 1/1 [00:00<00:00, 1049.36it/s]"
     ]
    },
    {
     "name": "stdout",
     "output_type": "stream",
     "text": [
      "\n",
      "\r",
      "0it [00:00, ?it/s]"
     ]
    },
    {
     "name": "stdout",
     "output_type": "stream",
     "text": [
      "\r",
      "Upgrading database; v5 -> v6: : 0it [00:00, ?it/s]"
     ]
    },
    {
     "name": "stdout",
     "output_type": "stream",
     "text": [
      "\r",
      "Upgrading database; v5 -> v6: : 0it [00:00, ?it/s]"
     ]
    },
    {
     "name": "stdout",
     "output_type": "stream",
     "text": [
      "\n",
      "\r",
      "  0%|          | 0/1 [00:00<?, ?it/s]"
     ]
    },
    {
     "name": "stdout",
     "output_type": "stream",
     "text": [
      "\r",
      "Upgrading database; v6 -> v7:   0%|          | 0/1 [00:00<?, ?it/s]"
     ]
    },
    {
     "name": "stdout",
     "output_type": "stream",
     "text": [
      "\r",
      "Upgrading database; v6 -> v7: 100%|██████████| 1/1 [00:00<00:00, 398.51it/s]"
     ]
    },
    {
     "name": "stdout",
     "output_type": "stream",
     "text": [
      "\n",
      "\r",
      "  0%|          | 0/1 [00:00<?, ?it/s]"
     ]
    },
    {
     "name": "stdout",
     "output_type": "stream",
     "text": [
      "\r",
      "Upgrading database; v7 -> v8:   0%|          | 0/1 [00:00<?, ?it/s]"
     ]
    },
    {
     "name": "stdout",
     "output_type": "stream",
     "text": [
      "\r",
      "Upgrading database; v7 -> v8: 100%|██████████| 1/1 [00:00<00:00, 1024.75it/s]"
     ]
    },
    {
     "name": "stdout",
     "output_type": "stream",
     "text": [
      "\n",
      "\r",
      "  0%|          | 0/1 [00:00<?, ?it/s]"
     ]
    },
    {
     "name": "stdout",
     "output_type": "stream",
     "text": [
      "\r",
      "Upgrading database; v8 -> v9:   0%|          | 0/1 [00:00<?, ?it/s]"
     ]
    },
    {
     "name": "stdout",
     "output_type": "stream",
     "text": [
      "\r",
      "Upgrading database; v8 -> v9: 100%|██████████| 1/1 [00:00<00:00, 1316.48it/s]"
     ]
    },
    {
     "name": "stdout",
     "output_type": "stream",
     "text": [
      "\n"
     ]
    }
   ],
   "source": [
    "initialise_database()\n",
    "exp = load_or_create_experiment(experiment_name='tutorial_exp', sample_name=\"no sample\")"
   ]
  },
  {
   "cell_type": "markdown",
   "metadata": {},
   "source": [
    "Here, we define a simple function to benchmark the time it takes to insert n points with either numeric or array data type.\n",
    "We will compare both the time used to call ``add_result`` and the time used for the full measurement."
   ]
  },
  {
   "cell_type": "code",
   "execution_count": 4,
   "metadata": {
    "execution": {
     "iopub.execute_input": "2021-05-17T08:47:26.384177Z",
     "iopub.status.busy": "2021-05-17T08:47:26.382887Z",
     "iopub.status.idle": "2021-05-17T08:47:26.384829Z",
     "shell.execute_reply": "2021-05-17T08:47:26.385297Z"
    }
   },
   "outputs": [],
   "source": [
    "def insert_data(paramtype, npoints, nreps=1):\n",
    "\n",
    "    meas = Measurement(exp=exp)\n",
    "\n",
    "    x1 = ManualParameter('x1')\n",
    "    x2 = ManualParameter('x2')\n",
    "    x3 = ManualParameter('x3')\n",
    "    y1 = ManualParameter('y1')\n",
    "    y2 = ManualParameter('y2')\n",
    "\n",
    "    meas.register_parameter(x1, paramtype=paramtype)\n",
    "    meas.register_parameter(x2, paramtype=paramtype)\n",
    "    meas.register_parameter(x3, paramtype=paramtype)\n",
    "    meas.register_parameter(y1, setpoints=[x1, x2, x3],\n",
    "                            paramtype=paramtype)\n",
    "    meas.register_parameter(y2, setpoints=[x1, x2, x3],\n",
    "                            paramtype=paramtype)\n",
    "    start = time.perf_counter()\n",
    "    with meas.run() as datasaver:\n",
    "        start_adding = time.perf_counter()\n",
    "        for i in range(nreps):\n",
    "            datasaver.add_result((x1, np.random.rand(npoints)),\n",
    "                                 (x2, np.random.rand(npoints)),\n",
    "                                 (x3, np.random.rand(npoints)),\n",
    "                                 (y1, np.random.rand(npoints)),\n",
    "                                 (y2, np.random.rand(npoints)))\n",
    "        stop_adding = time.perf_counter()\n",
    "        run_id = datasaver.run_id\n",
    "    stop = time.perf_counter()\n",
    "    tot_time = stop - start\n",
    "    add_time = stop_adding - start_adding\n",
    "    return tot_time, add_time, run_id"
   ]
  },
  {
   "cell_type": "markdown",
   "metadata": {},
   "source": [
    "## Comparison between numeric/array data and binary blob"
   ]
  },
  {
   "cell_type": "markdown",
   "metadata": {},
   "source": [
    "### Case1: Short experiment time"
   ]
  },
  {
   "cell_type": "code",
   "execution_count": 5,
   "metadata": {
    "execution": {
     "iopub.execute_input": "2021-05-17T08:47:26.392439Z",
     "iopub.status.busy": "2021-05-17T08:47:26.391763Z",
     "iopub.status.idle": "2021-05-17T08:47:27.261913Z",
     "shell.execute_reply": "2021-05-17T08:47:27.260984Z"
    }
   },
   "outputs": [
    {
     "name": "stdout",
     "output_type": "stream",
     "text": [
      "Starting experimental run with id: 1. \n",
      "Starting experimental run with id: 2. \n",
      "Starting experimental run with id: 3. \n"
     ]
    },
    {
     "name": "stdout",
     "output_type": "stream",
     "text": [
      "Starting experimental run with id: 4. \n"
     ]
    },
    {
     "name": "stdout",
     "output_type": "stream",
     "text": [
      "Starting experimental run with id: 5. \n"
     ]
    },
    {
     "name": "stdout",
     "output_type": "stream",
     "text": [
      "Starting experimental run with id: 6. \n"
     ]
    },
    {
     "name": "stdout",
     "output_type": "stream",
     "text": [
      "Starting experimental run with id: 7. \n",
      "Starting experimental run with id: 8. \n",
      "Starting experimental run with id: 9. \n"
     ]
    },
    {
     "name": "stdout",
     "output_type": "stream",
     "text": [
      "Starting experimental run with id: 10. \n",
      "Starting experimental run with id: 11. \n",
      "Starting experimental run with id: 12. \n",
      "Starting experimental run with id: 13. \n"
     ]
    },
    {
     "name": "stdout",
     "output_type": "stream",
     "text": [
      "Starting experimental run with id: 14. \n"
     ]
    }
   ],
   "source": [
    "sizes = [1,500,1000,2000,3000,4000,5000]\n",
    "t_numeric = []\n",
    "t_numeric_add = []\n",
    "t_array = []\n",
    "t_array_add = []\n",
    "for size in sizes:\n",
    "    tn, tna, run_id_n =  insert_data('numeric', size)\n",
    "    t_numeric.append(tn)\n",
    "    t_numeric_add.append(tna)\n",
    "\n",
    "    ta, taa, run_id_a =  insert_data('array', size)\n",
    "    t_array.append(ta)\n",
    "    t_array_add.append(taa)"
   ]
  },
  {
   "cell_type": "code",
   "execution_count": 6,
   "metadata": {
    "execution": {
     "iopub.execute_input": "2021-05-17T08:47:27.280361Z",
     "iopub.status.busy": "2021-05-17T08:47:27.266618Z",
     "iopub.status.idle": "2021-05-17T08:47:27.502140Z",
     "shell.execute_reply": "2021-05-17T08:47:27.502960Z"
    }
   },
   "outputs": [
    {
     "data": {
      "image/png": "[encoded data removed]",
      "text/plain": [
       "<Figure size 432x288 with 1 Axes>"
      ]
     },
     "metadata": {
      "needs_background": "light"
     },
     "output_type": "display_data"
    }
   ],
   "source": [
    "fig, ax = plt.subplots(1,1)\n",
    "ax.plot(sizes, t_numeric, 'o-', label='Inserting row-by-row')\n",
    "ax.plot(sizes, t_numeric_add, 'o-', label='Inserting row-by-row: add_result only')\n",
    "ax.plot(sizes, t_array, 'd-', label='Inserting as binary blob')\n",
    "ax.plot(sizes, t_array_add, 'd-', label='Inserting as binary blob: add_result only')\n",
    "ax.legend()\n",
    "ax.set_xlabel('Array length')\n",
    "ax.set_ylabel('Time (s)')\n",
    "fig.tight_layout()"
   ]
  },
  {
   "cell_type": "markdown",
   "metadata": {},
   "source": [
    "As shown in the latter figure, the time to setup and and close the experiment is approximately 0.4 sec. In case of small array sizes, the difference between inserting values of data as arrays and inserting them row-by-row is relatively unimportant. At larger array sizes, i.e. above 10000 points, the cost of writing data as individual datapoints starts to become important.\n"
   ]
  },
  {
   "cell_type": "markdown",
   "metadata": {},
   "source": [
    "### Case2: Long experiment time "
   ]
  },
  {
   "cell_type": "code",
   "execution_count": 7,
   "metadata": {
    "execution": {
     "iopub.execute_input": "2021-05-17T08:47:27.570845Z",
     "iopub.status.busy": "2021-05-17T08:47:27.510341Z",
     "iopub.status.idle": "2021-05-17T08:48:25.846406Z",
     "shell.execute_reply": "2021-05-17T08:48:25.845824Z"
    }
   },
   "outputs": [
    {
     "name": "stdout",
     "output_type": "stream",
     "text": [
      "Starting experimental run with id: 15. \n",
      "Starting experimental run with id: 16. \n"
     ]
    },
    {
     "name": "stdout",
     "output_type": "stream",
     "text": [
      "Starting experimental run with id: 17. \n"
     ]
    },
    {
     "name": "stdout",
     "output_type": "stream",
     "text": [
      "Starting experimental run with id: 18. \n",
      "Starting experimental run with id: 19. \n"
     ]
    },
    {
     "name": "stdout",
     "output_type": "stream",
     "text": [
      "Starting experimental run with id: 20. \n"
     ]
    },
    {
     "name": "stdout",
     "output_type": "stream",
     "text": [
      "Starting experimental run with id: 21. \n"
     ]
    },
    {
     "name": "stdout",
     "output_type": "stream",
     "text": [
      "Starting experimental run with id: 22. \n"
     ]
    },
    {
     "name": "stdout",
     "output_type": "stream",
     "text": [
      "Starting experimental run with id: 23. \n"
     ]
    },
    {
     "name": "stdout",
     "output_type": "stream",
     "text": [
      "Starting experimental run with id: 24. \n"
     ]
    },
    {
     "name": "stdout",
     "output_type": "stream",
     "text": [
      "Starting experimental run with id: 25. \n"
     ]
    },
    {
     "name": "stdout",
     "output_type": "stream",
     "text": [
      "Starting experimental run with id: 26. \n"
     ]
    },
    {
     "name": "stdout",
     "output_type": "stream",
     "text": [
      "Starting experimental run with id: 27. \n"
     ]
    },
    {
     "name": "stdout",
     "output_type": "stream",
     "text": [
      "Starting experimental run with id: 28. \n"
     ]
    }
   ],
   "source": [
    "sizes = [1,500,1000,2000,3000,4000,5000]\n",
    "nreps = 100\n",
    "t_numeric = []\n",
    "t_numeric_add = []\n",
    "t_numeric_run_ids = []\n",
    "t_array = []\n",
    "t_array_add = []\n",
    "t_array_run_ids = []\n",
    "for size in sizes:\n",
    "    tn, tna, run_id_n =  insert_data('numeric', size, nreps=nreps)\n",
    "    t_numeric.append(tn)\n",
    "    t_numeric_add.append(tna)\n",
    "    t_numeric_run_ids.append(run_id_n)\n",
    "\n",
    "    ta, taa, run_id_a =  insert_data('array', size, nreps=nreps)\n",
    "    t_array.append(ta)\n",
    "    t_array_add.append(taa)\n",
    "    t_array_run_ids.append(run_id_a)"
   ]
  },
  {
   "cell_type": "code",
   "execution_count": 8,
   "metadata": {
    "execution": {
     "iopub.execute_input": "2021-05-17T08:48:25.866160Z",
     "iopub.status.busy": "2021-05-17T08:48:25.852300Z",
     "iopub.status.idle": "2021-05-17T08:48:26.064922Z",
     "shell.execute_reply": "2021-05-17T08:48:26.065381Z"
    },
    "scrolled": true
   },
   "outputs": [
    {
     "data": {
      "image/png": "[encoded data removed]",
      "text/plain": [
       "<Figure size 432x288 with 1 Axes>"
      ]
     },
     "metadata": {
      "needs_background": "light"
     },
     "output_type": "display_data"
    }
   ],
   "source": [
    "fig, ax = plt.subplots(1,1)\n",
    "ax.plot(sizes, t_numeric, 'o-', label='Inserting row-by-row')\n",
    "ax.plot(sizes, t_numeric_add, 'o-', label='Inserting row-by-row: add_result only')\n",
    "ax.plot(sizes, t_array, 'd-', label='Inserting as binary blob')\n",
    "ax.plot(sizes, t_array_add, 'd-', label='Inserting as binary blob: add_result only')\n",
    "ax.legend()\n",
    "ax.set_xlabel('Array length')\n",
    "ax.set_ylabel('Time (s)')\n",
    "fig.tight_layout()"
   ]
  },
  {
   "cell_type": "markdown",
   "metadata": {},
   "source": [
    "However, as we increase the length of the experiment, as seen here by repeating the insertion 100 times, we see a big difference between inserting values of the data row-by-row and inserting it as a binary blob."
   ]
  },
  {
   "cell_type": "markdown",
   "metadata": {},
   "source": [
    "## Loading the data "
   ]
  },
  {
   "cell_type": "code",
   "execution_count": 9,
   "metadata": {
    "execution": {
     "iopub.execute_input": "2021-05-17T08:48:26.070655Z",
     "iopub.status.busy": "2021-05-17T08:48:26.070073Z",
     "iopub.status.idle": "2021-05-17T08:48:26.077293Z",
     "shell.execute_reply": "2021-05-17T08:48:26.076801Z"
    }
   },
   "outputs": [],
   "source": [
    "from qcodes.dataset.data_set import load_by_id"
   ]
  },
  {
   "cell_type": "markdown",
   "metadata": {},
   "source": [
    "As usual you can load the data by using the ``load_by_id`` function but you will notice that the different storage methods\n",
    "are reflected in shape of the data as it is retrieved. "
   ]
  },
  {
   "cell_type": "code",
   "execution_count": 10,
   "metadata": {
    "execution": {
     "iopub.execute_input": "2021-05-17T08:48:26.084731Z",
     "iopub.status.busy": "2021-05-17T08:48:26.083443Z",
     "iopub.status.idle": "2021-05-17T08:48:26.085388Z",
     "shell.execute_reply": "2021-05-17T08:48:26.085864Z"
    }
   },
   "outputs": [],
   "source": [
    "run_id_n = t_numeric_run_ids[0]\n",
    "run_id_a = t_array_run_ids[0]"
   ]
  },
  {
   "cell_type": "code",
   "execution_count": 11,
   "metadata": {
    "execution": {
     "iopub.execute_input": "2021-05-17T08:48:26.090637Z",
     "iopub.status.busy": "2021-05-17T08:48:26.090071Z",
     "iopub.status.idle": "2021-05-17T08:48:26.099979Z",
     "shell.execute_reply": "2021-05-17T08:48:26.100489Z"
    },
    "scrolled": true
   },
   "outputs": [
    {
     "data": {
      "text/plain": [
       "{'x1': {'x1': array([7.66822177e-01, 7.66822177e-01, 1.66663815e-01, 1.66663815e-01,\n",
       "         3.03807356e-01, 3.03807356e-01, 5.70092208e-01, 5.70092208e-01,\n",
       "         7.92458025e-01, 7.92458025e-01, 4.12480052e-01, 4.12480052e-01,\n",
       "         4.18016576e-02, 4.18016576e-02, 5.09643438e-01, 5.09643438e-01,\n",
       "         7.42804183e-01, 7.42804183e-01, 5.17650115e-01, 5.17650115e-01,\n",
       "         4.77415075e-01, 4.77415075e-01, 8.74588062e-02, 8.74588062e-02,\n",
       "         4.11220601e-01, 4.11220601e-01, 6.85794553e-01, 6.85794553e-01,\n",
       "         3.32817287e-02, 3.32817287e-02, 9.26372823e-01, 9.26372823e-01,\n",
       "         8.45359090e-01, 8.45359090e-01, 5.33723090e-01, 5.33723090e-01,\n",
       "         2.77386979e-04, 2.77386979e-04, 9.23274392e-01, 9.23274392e-01,\n",
       "         5.31585697e-03, 5.31585697e-03, 6.27434430e-01, 6.27434430e-01,\n",
       "         3.46978492e-01, 3.46978492e-01, 3.48746258e-01, 3.48746258e-01,\n",
       "         6.89122245e-01, 6.89122245e-01, 3.21125321e-01, 3.21125321e-01,\n",
       "         1.84825101e-01, 1.84825101e-01, 8.18779365e-01, 8.18779365e-01,\n",
       "         9.39426363e-01, 9.39426363e-01, 2.30305290e-01, 2.30305290e-01,\n",
       "         3.05246754e-01, 3.05246754e-01, 5.16887553e-02, 5.16887553e-02,\n",
       "         2.39139060e-01, 2.39139060e-01, 9.27571559e-01, 9.27571559e-01,\n",
       "         8.39220570e-02, 8.39220570e-02, 1.92139331e-01, 1.92139331e-01,\n",
       "         2.21329239e-01, 2.21329239e-01, 8.31938153e-01, 8.31938153e-01,\n",
       "         2.32341083e-01, 2.32341083e-01, 4.18212246e-01, 4.18212246e-01,\n",
       "         1.51567097e-01, 1.51567097e-01, 7.45555914e-01, 7.45555914e-01,\n",
       "         2.72961970e-01, 2.72961970e-01, 5.99156151e-01, 5.99156151e-01,\n",
       "         8.49312172e-01, 8.49312172e-01, 6.77630333e-01, 6.77630333e-01,\n",
       "         7.49144041e-01, 7.49144041e-01, 3.16483328e-01, 3.16483328e-01,\n",
       "         1.35206039e-01, 1.35206039e-01, 5.28515863e-01, 5.28515863e-01,\n",
       "         3.04050645e-01, 3.04050645e-01, 7.16728327e-01, 7.16728327e-01,\n",
       "         6.72994847e-01, 6.72994847e-01, 9.24218030e-01, 9.24218030e-01,\n",
       "         6.69429844e-01, 6.69429844e-01, 7.84973335e-01, 7.84973335e-01,\n",
       "         6.14068026e-01, 6.14068026e-01, 5.89598903e-01, 5.89598903e-01,\n",
       "         5.91864240e-01, 5.91864240e-01, 7.24966012e-01, 7.24966012e-01,\n",
       "         2.56984791e-01, 2.56984791e-01, 3.30224726e-01, 3.30224726e-01,\n",
       "         1.60386257e-01, 1.60386257e-01, 1.55480805e-01, 1.55480805e-01,\n",
       "         5.52495041e-01, 5.52495041e-01, 3.53265780e-01, 3.53265780e-01,\n",
       "         4.35516375e-01, 4.35516375e-01, 1.84655687e-01, 1.84655687e-01,\n",
       "         5.05683972e-01, 5.05683972e-01, 4.24050744e-01, 4.24050744e-01,\n",
       "         2.89500432e-01, 2.89500432e-01, 6.67505033e-02, 6.67505033e-02,\n",
       "         7.04244811e-01, 7.04244811e-01, 4.52573284e-01, 4.52573284e-01,\n",
       "         8.41422824e-01, 8.41422824e-01, 8.92150743e-01, 8.92150743e-01,\n",
       "         1.32457877e-01, 1.32457877e-01, 1.13715486e-01, 1.13715486e-01,\n",
       "         8.85499848e-01, 8.85499848e-01, 7.73002541e-01, 7.73002541e-01,\n",
       "         1.08292293e-01, 1.08292293e-01, 9.04061966e-01, 9.04061966e-01,\n",
       "         4.95427757e-01, 4.95427757e-01, 2.83719759e-02, 2.83719759e-02,\n",
       "         6.72822213e-01, 6.72822213e-01, 8.30022714e-01, 8.30022714e-01,\n",
       "         2.74984298e-02, 2.74984298e-02, 7.81046690e-01, 7.81046690e-01,\n",
       "         1.67541867e-01, 1.67541867e-01, 1.26711354e-01, 1.26711354e-01,\n",
       "         2.45511316e-02, 2.45511316e-02, 5.15406230e-01, 5.15406230e-01,\n",
       "         8.35612473e-01, 8.35612473e-01, 9.78634231e-01, 9.78634231e-01,\n",
       "         8.20743858e-02, 8.20743858e-02, 2.90614563e-01, 2.90614563e-01,\n",
       "         4.83801525e-01, 4.83801525e-01, 2.26848762e-01, 2.26848762e-01,\n",
       "         7.15495479e-01, 7.15495479e-01, 3.29454820e-01, 3.29454820e-01])}}"
      ]
     },
     "execution_count": 1,
     "metadata": {},
     "output_type": "execute_result"
    }
   ],
   "source": [
    "ds = load_by_id(run_id_n)\n",
    "ds.get_parameter_data('x1')"
   ]
  },
  {
   "cell_type": "markdown",
   "metadata": {},
   "source": [
    "And a dataset stored as binary arrays"
   ]
  },
  {
   "cell_type": "code",
   "execution_count": 12,
   "metadata": {
    "execution": {
     "iopub.execute_input": "2021-05-17T08:48:26.104112Z",
     "iopub.status.busy": "2021-05-17T08:48:26.103571Z",
     "iopub.status.idle": "2021-05-17T08:48:26.164854Z",
     "shell.execute_reply": "2021-05-17T08:48:26.165426Z"
    },
    "scrolled": true
   },
   "outputs": [
    {
     "data": {
      "text/plain": [
       "{'x1': {'x1': array([[0.6337641 ],\n",
       "         [0.6337641 ],\n",
       "         [0.06875971],\n",
       "         [0.06875971],\n",
       "         [0.76438387],\n",
       "         [0.76438387],\n",
       "         [0.79131612],\n",
       "         [0.79131612],\n",
       "         [0.25479619],\n",
       "         [0.25479619],\n",
       "         [0.00451209],\n",
       "         [0.00451209],\n",
       "         [0.93060878],\n",
       "         [0.93060878],\n",
       "         [0.43334276],\n",
       "         [0.43334276],\n",
       "         [0.18881457],\n",
       "         [0.18881457],\n",
       "         [0.27690993],\n",
       "         [0.27690993],\n",
       "         [0.46408252],\n",
       "         [0.46408252],\n",
       "         [0.54552046],\n",
       "         [0.54552046],\n",
       "         [0.33103966],\n",
       "         [0.33103966],\n",
       "         [0.85726458],\n",
       "         [0.85726458],\n",
       "         [0.50915983],\n",
       "         [0.50915983],\n",
       "         [0.48224892],\n",
       "         [0.48224892],\n",
       "         [0.08071675],\n",
       "         [0.08071675],\n",
       "         [0.23579428],\n",
       "         [0.23579428],\n",
       "         [0.48552546],\n",
       "         [0.48552546],\n",
       "         [0.27188532],\n",
       "         [0.27188532],\n",
       "         [0.27345731],\n",
       "         [0.27345731],\n",
       "         [0.47194909],\n",
       "         [0.47194909],\n",
       "         [0.35226361],\n",
       "         [0.35226361],\n",
       "         [0.67102676],\n",
       "         [0.67102676],\n",
       "         [0.1323866 ],\n",
       "         [0.1323866 ],\n",
       "         [0.70583718],\n",
       "         [0.70583718],\n",
       "         [0.79219488],\n",
       "         [0.79219488],\n",
       "         [0.13730568],\n",
       "         [0.13730568],\n",
       "         [0.93177425],\n",
       "         [0.93177425],\n",
       "         [0.16248306],\n",
       "         [0.16248306],\n",
       "         [0.61158085],\n",
       "         [0.61158085],\n",
       "         [0.84583804],\n",
       "         [0.84583804],\n",
       "         [0.41499443],\n",
       "         [0.41499443],\n",
       "         [0.27211361],\n",
       "         [0.27211361],\n",
       "         [0.02127701],\n",
       "         [0.02127701],\n",
       "         [0.15321521],\n",
       "         [0.15321521],\n",
       "         [0.57922256],\n",
       "         [0.57922256],\n",
       "         [0.77846006],\n",
       "         [0.77846006],\n",
       "         [0.47418535],\n",
       "         [0.47418535],\n",
       "         [0.52748871],\n",
       "         [0.52748871],\n",
       "         [0.3065782 ],\n",
       "         [0.3065782 ],\n",
       "         [0.18542548],\n",
       "         [0.18542548],\n",
       "         [0.22041703],\n",
       "         [0.22041703],\n",
       "         [0.08985676],\n",
       "         [0.08985676],\n",
       "         [0.50403461],\n",
       "         [0.50403461],\n",
       "         [0.58881402],\n",
       "         [0.58881402],\n",
       "         [0.96954046],\n",
       "         [0.96954046],\n",
       "         [0.5438943 ],\n",
       "         [0.5438943 ],\n",
       "         [0.50245985],\n",
       "         [0.50245985],\n",
       "         [0.79675608],\n",
       "         [0.79675608],\n",
       "         [0.54322971],\n",
       "         [0.54322971],\n",
       "         [0.74127317],\n",
       "         [0.74127317],\n",
       "         [0.20623061],\n",
       "         [0.20623061],\n",
       "         [0.38993588],\n",
       "         [0.38993588],\n",
       "         [0.86286235],\n",
       "         [0.86286235],\n",
       "         [0.009587  ],\n",
       "         [0.009587  ],\n",
       "         [0.62110567],\n",
       "         [0.62110567],\n",
       "         [0.82052693],\n",
       "         [0.82052693],\n",
       "         [0.75779452],\n",
       "         [0.75779452],\n",
       "         [0.30993593],\n",
       "         [0.30993593],\n",
       "         [0.23342307],\n",
       "         [0.23342307],\n",
       "         [0.41200121],\n",
       "         [0.41200121],\n",
       "         [0.16490997],\n",
       "         [0.16490997],\n",
       "         [0.30580589],\n",
       "         [0.30580589],\n",
       "         [0.03786586],\n",
       "         [0.03786586],\n",
       "         [0.154082  ],\n",
       "         [0.154082  ],\n",
       "         [0.92742298],\n",
       "         [0.92742298],\n",
       "         [0.12330232],\n",
       "         [0.12330232],\n",
       "         [0.38447738],\n",
       "         [0.38447738],\n",
       "         [0.17019448],\n",
       "         [0.17019448],\n",
       "         [0.59050215],\n",
       "         [0.59050215],\n",
       "         [0.25558898],\n",
       "         [0.25558898],\n",
       "         [0.82076909],\n",
       "         [0.82076909],\n",
       "         [0.1148442 ],\n",
       "         [0.1148442 ],\n",
       "         [0.0363297 ],\n",
       "         [0.0363297 ],\n",
       "         [0.85094812],\n",
       "         [0.85094812],\n",
       "         [0.93845555],\n",
       "         [0.93845555],\n",
       "         [0.25369193],\n",
       "         [0.25369193],\n",
       "         [0.27185171],\n",
       "         [0.27185171],\n",
       "         [0.85947361],\n",
       "         [0.85947361],\n",
       "         [0.64950757],\n",
       "         [0.64950757],\n",
       "         [0.48314671],\n",
       "         [0.48314671],\n",
       "         [0.23719129],\n",
       "         [0.23719129],\n",
       "         [0.19376368],\n",
       "         [0.19376368],\n",
       "         [0.52439787],\n",
       "         [0.52439787],\n",
       "         [0.2641688 ],\n",
       "         [0.2641688 ],\n",
       "         [0.24871571],\n",
       "         [0.24871571],\n",
       "         [0.84765539],\n",
       "         [0.84765539],\n",
       "         [0.57537399],\n",
       "         [0.57537399],\n",
       "         [0.2585086 ],\n",
       "         [0.2585086 ],\n",
       "         [0.28117539],\n",
       "         [0.28117539],\n",
       "         [0.39836385],\n",
       "         [0.39836385],\n",
       "         [0.96390796],\n",
       "         [0.96390796],\n",
       "         [0.67408648],\n",
       "         [0.67408648],\n",
       "         [0.03076471],\n",
       "         [0.03076471],\n",
       "         [0.77492191],\n",
       "         [0.77492191],\n",
       "         [0.04351727],\n",
       "         [0.04351727],\n",
       "         [0.8547653 ],\n",
       "         [0.8547653 ],\n",
       "         [0.16551141],\n",
       "         [0.16551141],\n",
       "         [0.1244176 ],\n",
       "         [0.1244176 ]])}}"
      ]
     },
     "execution_count": 1,
     "metadata": {},
     "output_type": "execute_result"
    }
   ],
   "source": [
    "ds = load_by_id(run_id_a)\n",
    "ds.get_parameter_data('x1')"
   ]
  },
  {
   "cell_type": "code",
   "execution_count": null,
   "metadata": {},
   "outputs": [],
   "source": []
  }
 ],
 "metadata": {
  "kernelspec": {
   "display_name": "Python 3",
   "language": "python",
   "name": "python3"
  },
  "language_info": {
   "codemirror_mode": {
    "name": "ipython",
    "version": 3
   },
   "file_extension": ".py",
   "mimetype": "text/x-python",
   "name": "python",
   "nbconvert_exporter": "python",
   "pygments_lexer": "ipython3",
   "version": "3.7.10"
  },
  "nbsphinx": {
   "timeout": 600
  },
  "toc": {
   "base_numbering": 1,
   "nav_menu": {},
   "number_sections": true,
   "sideBar": true,
   "skip_h1_title": false,
   "title_cell": "Table of Contents",
   "title_sidebar": "Contents",
   "toc_cell": false,
   "toc_position": {},
   "toc_section_display": true,
   "toc_window_display": false
  },
  "varInspector": {
   "cols": {
    "lenName": 16,
    "lenType": 16,
    "lenVar": 40
   },
   "kernels_config": {
    "python": {
     "delete_cmd_postfix": "",
     "delete_cmd_prefix": "del ",
     "library": "var_list.py",
     "varRefreshCmd": "print(var_dic_list())"
    },
    "r": {
     "delete_cmd_postfix": ") ",
     "delete_cmd_prefix": "rm(",
     "library": "var_list.r",
     "varRefreshCmd": "cat(var_dic_list()) "
    }
   },
   "types_to_exclude": [
    "module",
    "function",
    "builtin_function_or_method",
    "instance",
    "_Feature"
   ],
   "window_display": false
  }
 },
 "nbformat": 4,
 "nbformat_minor": 4
}
