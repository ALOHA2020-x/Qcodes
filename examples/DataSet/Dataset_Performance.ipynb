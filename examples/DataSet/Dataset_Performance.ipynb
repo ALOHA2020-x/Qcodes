{
 "cells": [
  {
   "cell_type": "markdown",
   "metadata": {},
   "source": [
    "# DataSet Performance\n",
    "\n",
    "This notebook shows the trade-off between inserting data into a database row-by-row and as binary blobs. Inserting the data row-by-row means that we have direct access to all the data and may perform queries directly on the values of the data. On the other hand, as we shall see, this is much slower than inserting the data directly as binary blobs."
   ]
  },
  {
   "cell_type": "markdown",
   "metadata": {},
   "source": [
    "First, we choose a new location for the database to ensure that we don't add a bunch of benchmarking data to the default one."
   ]
  },
  {
   "cell_type": "code",
   "execution_count": 1,
   "metadata": {
    "execution": {
     "iopub.execute_input": "2020-11-11T16:23:31.212844Z",
     "iopub.status.busy": "2020-11-11T16:23:31.212258Z",
     "iopub.status.idle": "2020-11-11T16:23:32.241640Z",
     "shell.execute_reply": "2020-11-11T16:23:32.242076Z"
    }
   },
   "outputs": [
    {
     "name": "stdout",
     "output_type": "stream",
     "text": [
      "Logging hadn't been started.\n",
      "Activating auto-logging. Current session state plus future input saved.\n",
      "Filename       : /home/vsts/.qcodes/logs/command_history.log\n",
      "Mode           : append\n",
      "Output logging : True\n",
      "Raw input log  : False\n",
      "Timestamping   : True\n",
      "State          : active\n"
     ]
    },
    {
     "name": "stdout",
     "output_type": "stream",
     "text": [
      "Qcodes Logfile : /home/vsts/.qcodes/logs/201111-14229-qcodes.log\n"
     ]
    }
   ],
   "source": [
    "import os\n",
    "cwd = os.getcwd()\n",
    "import qcodes as qc\n",
    "qc.config[\"core\"][\"db_location\"] = os.path.join(cwd, 'testing.db')\n"
   ]
  },
  {
   "cell_type": "code",
   "execution_count": 2,
   "metadata": {
    "execution": {
     "iopub.execute_input": "2020-11-11T16:23:32.248842Z",
     "iopub.status.busy": "2020-11-11T16:23:32.248243Z",
     "iopub.status.idle": "2020-11-11T16:23:32.434273Z",
     "shell.execute_reply": "2020-11-11T16:23:32.433330Z"
    }
   },
   "outputs": [],
   "source": [
    "%matplotlib inline\n",
    "import time\n",
    "import matplotlib.pyplot as plt\n",
    "import numpy as np\n",
    "\n",
    "import qcodes as qc\n",
    "from qcodes.instrument.parameter import ManualParameter\n",
    "from qcodes.dataset.experiment_container import (Experiment,\n",
    "                                                 load_last_experiment,\n",
    "                                                 new_experiment)\n",
    "from qcodes.dataset.sqlite.database import initialise_database\n",
    "from qcodes import load_or_create_experiment\n",
    "from qcodes.dataset.measurements import Measurement"
   ]
  },
  {
   "cell_type": "code",
   "execution_count": 3,
   "metadata": {
    "execution": {
     "iopub.execute_input": "2020-11-11T16:23:32.438395Z",
     "iopub.status.busy": "2020-11-11T16:23:32.437669Z",
     "iopub.status.idle": "2020-11-11T16:23:32.553493Z",
     "shell.execute_reply": "2020-11-11T16:23:32.552982Z"
    }
   },
   "outputs": [
    {
     "name": "stdout",
     "output_type": "stream",
     "text": [
      "\r",
      "0it [00:00, ?it/s]"
     ]
    },
    {
     "name": "stdout",
     "output_type": "stream",
     "text": [
      "\r",
      "Upgrading database; v0 -> v1: : 0it [00:00, ?it/s]"
     ]
    },
    {
     "name": "stdout",
     "output_type": "stream",
     "text": [
      "\r",
      "Upgrading database; v0 -> v1: : 0it [00:00, ?it/s]"
     ]
    },
    {
     "name": "stdout",
     "output_type": "stream",
     "text": [
      "\n",
      "\r",
      "  0%|          | 0/1 [00:00<?, ?it/s]"
     ]
    },
    {
     "name": "stdout",
     "output_type": "stream",
     "text": [
      "\r",
      "Upgrading database; v1 -> v2:   0%|          | 0/1 [00:00<?, ?it/s]"
     ]
    },
    {
     "name": "stdout",
     "output_type": "stream",
     "text": [
      "\r",
      "Upgrading database; v1 -> v2: 100%|██████████| 1/1 [00:00<00:00, 1216.80it/s]"
     ]
    },
    {
     "name": "stdout",
     "output_type": "stream",
     "text": [
      "\n",
      "\r",
      "0it [00:00, ?it/s]"
     ]
    },
    {
     "name": "stdout",
     "output_type": "stream",
     "text": [
      "\r",
      "Upgrading database; v2 -> v3: : 0it [00:00, ?it/s]"
     ]
    },
    {
     "name": "stdout",
     "output_type": "stream",
     "text": [
      "\r",
      "Upgrading database; v2 -> v3: : 0it [00:00, ?it/s]"
     ]
    },
    {
     "name": "stdout",
     "output_type": "stream",
     "text": [
      "\n",
      "\r",
      "0it [00:00, ?it/s]"
     ]
    },
    {
     "name": "stdout",
     "output_type": "stream",
     "text": [
      "\r",
      "Upgrading database; v3 -> v4: : 0it [00:00, ?it/s]"
     ]
    },
    {
     "name": "stdout",
     "output_type": "stream",
     "text": [
      "\r",
      "Upgrading database; v3 -> v4: : 0it [00:00, ?it/s]"
     ]
    },
    {
     "name": "stdout",
     "output_type": "stream",
     "text": [
      "\n",
      "\r",
      "  0%|          | 0/1 [00:00<?, ?it/s]"
     ]
    },
    {
     "name": "stdout",
     "output_type": "stream",
     "text": [
      "\r",
      "Upgrading database; v4 -> v5:   0%|          | 0/1 [00:00<?, ?it/s]"
     ]
    },
    {
     "name": "stdout",
     "output_type": "stream",
     "text": [
      "\r",
      "Upgrading database; v4 -> v5: 100%|██████████| 1/1 [00:00<00:00, 432.80it/s]"
     ]
    },
    {
     "name": "stdout",
     "output_type": "stream",
     "text": [
      "\n",
      "\r",
      "0it [00:00, ?it/s]"
     ]
    },
    {
     "name": "stdout",
     "output_type": "stream",
     "text": [
      "\r",
      "Upgrading database; v5 -> v6: : 0it [00:00, ?it/s]"
     ]
    },
    {
     "name": "stdout",
     "output_type": "stream",
     "text": [
      "\r",
      "Upgrading database; v5 -> v6: : 0it [00:00, ?it/s]"
     ]
    },
    {
     "name": "stdout",
     "output_type": "stream",
     "text": [
      "\n",
      "\r",
      "  0%|          | 0/1 [00:00<?, ?it/s]"
     ]
    },
    {
     "name": "stdout",
     "output_type": "stream",
     "text": [
      "\r",
      "Upgrading database; v6 -> v7:   0%|          | 0/1 [00:00<?, ?it/s]"
     ]
    },
    {
     "name": "stdout",
     "output_type": "stream",
     "text": [
      "\r",
      "Upgrading database; v6 -> v7: 100%|██████████| 1/1 [00:00<00:00, 208.47it/s]"
     ]
    },
    {
     "name": "stdout",
     "output_type": "stream",
     "text": [
      "\n",
      "\r",
      "  0%|          | 0/1 [00:00<?, ?it/s]"
     ]
    },
    {
     "name": "stdout",
     "output_type": "stream",
     "text": [
      "\r",
      "Upgrading database; v7 -> v8:   0%|          | 0/1 [00:00<?, ?it/s]"
     ]
    },
    {
     "name": "stdout",
     "output_type": "stream",
     "text": [
      "\r",
      "Upgrading database; v7 -> v8: 100%|██████████| 1/1 [00:00<00:00, 433.03it/s]"
     ]
    },
    {
     "name": "stdout",
     "output_type": "stream",
     "text": [
      "\n",
      "\r",
      "  0%|          | 0/1 [00:00<?, ?it/s]"
     ]
    },
    {
     "name": "stdout",
     "output_type": "stream",
     "text": [
      "\r",
      "Upgrading database; v8 -> v9:   0%|          | 0/1 [00:00<?, ?it/s]"
     ]
    },
    {
     "name": "stdout",
     "output_type": "stream",
     "text": [
      "\r",
      "Upgrading database; v8 -> v9: 100%|██████████| 1/1 [00:00<00:00, 467.80it/s]"
     ]
    },
    {
     "name": "stdout",
     "output_type": "stream",
     "text": [
      "\n"
     ]
    }
   ],
   "source": [
    "initialise_database()\n",
    "exp = load_or_create_experiment(experiment_name='tutorial_exp', sample_name=\"no sample\")"
   ]
  },
  {
   "cell_type": "markdown",
   "metadata": {},
   "source": [
    "Here, we define a simple function to benchmark the time it takes to insert n points with either numeric or array data type.\n",
    "We will compare both the time used to call ``add_result`` and the time used for the full measurement."
   ]
  },
  {
   "cell_type": "code",
   "execution_count": 4,
   "metadata": {
    "execution": {
     "iopub.execute_input": "2020-11-11T16:23:32.562974Z",
     "iopub.status.busy": "2020-11-11T16:23:32.561729Z",
     "iopub.status.idle": "2020-11-11T16:23:32.563629Z",
     "shell.execute_reply": "2020-11-11T16:23:32.564110Z"
    }
   },
   "outputs": [],
   "source": [
    "def insert_data(paramtype, npoints, nreps=1):\n",
    "\n",
    "    meas = Measurement(exp=exp)\n",
    "\n",
    "    x1 = ManualParameter('x1')\n",
    "    x2 = ManualParameter('x2')\n",
    "    x3 = ManualParameter('x3')\n",
    "    y1 = ManualParameter('y1')\n",
    "    y2 = ManualParameter('y2')\n",
    "\n",
    "    meas.register_parameter(x1, paramtype=paramtype)\n",
    "    meas.register_parameter(x2, paramtype=paramtype)\n",
    "    meas.register_parameter(x3, paramtype=paramtype)\n",
    "    meas.register_parameter(y1, setpoints=[x1, x2, x3],\n",
    "                            paramtype=paramtype)\n",
    "    meas.register_parameter(y2, setpoints=[x1, x2, x3],\n",
    "                            paramtype=paramtype)\n",
    "    start = time.perf_counter()\n",
    "    with meas.run() as datasaver:\n",
    "        start_adding = time.perf_counter()\n",
    "        for i in range(nreps):\n",
    "            datasaver.add_result((x1, np.random.rand(npoints)),\n",
    "                                 (x2, np.random.rand(npoints)),\n",
    "                                 (x3, np.random.rand(npoints)),\n",
    "                                 (y1, np.random.rand(npoints)),\n",
    "                                 (y2, np.random.rand(npoints)))\n",
    "        stop_adding = time.perf_counter()\n",
    "        run_id = datasaver.run_id\n",
    "    stop = time.perf_counter()\n",
    "    tot_time = stop - start\n",
    "    add_time = stop_adding - start_adding\n",
    "    return tot_time, add_time, run_id"
   ]
  },
  {
   "cell_type": "markdown",
   "metadata": {},
   "source": [
    "## Comparison between numeric/array data and binary blob"
   ]
  },
  {
   "cell_type": "markdown",
   "metadata": {},
   "source": [
    "### Case1: Short experiment time"
   ]
  },
  {
   "cell_type": "code",
   "execution_count": 5,
   "metadata": {
    "execution": {
     "iopub.execute_input": "2020-11-11T16:23:32.570225Z",
     "iopub.status.busy": "2020-11-11T16:23:32.569000Z",
     "iopub.status.idle": "2020-11-11T16:23:33.406077Z",
     "shell.execute_reply": "2020-11-11T16:23:33.405369Z"
    }
   },
   "outputs": [
    {
     "name": "stdout",
     "output_type": "stream",
     "text": [
      "Starting experimental run with id: 1. \n",
      "Starting experimental run with id: 2. \n",
      "Starting experimental run with id: 3. \n",
      "Starting experimental run with id: 4. \n",
      "Starting experimental run with id: 5. \n"
     ]
    },
    {
     "name": "stdout",
     "output_type": "stream",
     "text": [
      "Starting experimental run with id: 6. \n"
     ]
    },
    {
     "name": "stdout",
     "output_type": "stream",
     "text": [
      "Starting experimental run with id: 7. \n"
     ]
    },
    {
     "name": "stdout",
     "output_type": "stream",
     "text": [
      "Starting experimental run with id: 8. \n",
      "Starting experimental run with id: 9. \n"
     ]
    },
    {
     "name": "stdout",
     "output_type": "stream",
     "text": [
      "Starting experimental run with id: 10. \n",
      "Starting experimental run with id: 11. \n"
     ]
    },
    {
     "name": "stdout",
     "output_type": "stream",
     "text": [
      "Starting experimental run with id: 12. \n"
     ]
    },
    {
     "name": "stdout",
     "output_type": "stream",
     "text": [
      "Starting experimental run with id: 13. \n"
     ]
    },
    {
     "name": "stdout",
     "output_type": "stream",
     "text": [
      "Starting experimental run with id: 14. \n"
     ]
    }
   ],
   "source": [
    "sizes = [1,500,1000,2000,3000,4000,5000]\n",
    "t_numeric = []\n",
    "t_numeric_add = []\n",
    "t_array = []\n",
    "t_array_add = []\n",
    "for size in sizes:\n",
    "    tn, tna, run_id_n =  insert_data('numeric', size)\n",
    "    t_numeric.append(tn)\n",
    "    t_numeric_add.append(tna)\n",
    "\n",
    "    ta, taa, run_id_a =  insert_data('array', size)\n",
    "    t_array.append(ta)\n",
    "    t_array_add.append(taa)"
   ]
  },
  {
   "cell_type": "code",
   "execution_count": 6,
   "metadata": {
    "execution": {
     "iopub.execute_input": "2020-11-11T16:23:33.431522Z",
     "iopub.status.busy": "2020-11-11T16:23:33.411843Z",
     "iopub.status.idle": "2020-11-11T16:23:33.599492Z",
     "shell.execute_reply": "2020-11-11T16:23:33.599951Z"
    }
   },
   "outputs": [
    {
     "data": {
      "image/png": "[encoded data removed]",
      "text/plain": [
       "<Figure size 432x288 with 1 Axes>"
      ]
     },
     "metadata": {
      "needs_background": "light"
     },
     "output_type": "display_data"
    }
   ],
   "source": [
    "fig, ax = plt.subplots(1,1)\n",
    "ax.plot(sizes, t_numeric, 'o-', label='Inserting row-by-row')\n",
    "ax.plot(sizes, t_numeric_add, 'o-', label='Inserting row-by-row: add_result only')\n",
    "ax.plot(sizes, t_array, 'd-', label='Inserting as binary blob')\n",
    "ax.plot(sizes, t_array_add, 'd-', label='Inserting as binary blob: add_result only')\n",
    "ax.legend()\n",
    "ax.set_xlabel('Array length')\n",
    "ax.set_ylabel('Time (s)')\n",
    "fig.tight_layout()"
   ]
  },
  {
   "cell_type": "markdown",
   "metadata": {},
   "source": [
    "As shown in the latter figure, the time to setup and and close the experiment is approximately 0.4 sec. In case of small array sizes, the difference between inserting values of data as arrays and inserting them row-by-row is relatively unimportant. At larger array sizes, i.e. above 10000 points, the cost of writing data as individual datapoints starts to become important.\n"
   ]
  },
  {
   "cell_type": "markdown",
   "metadata": {},
   "source": [
    "### Case2: Long experiment time "
   ]
  },
  {
   "cell_type": "code",
   "execution_count": 7,
   "metadata": {
    "execution": {
     "iopub.execute_input": "2020-11-11T16:23:33.606204Z",
     "iopub.status.busy": "2020-11-11T16:23:33.605506Z",
     "iopub.status.idle": "2020-11-11T16:24:33.537953Z",
     "shell.execute_reply": "2020-11-11T16:24:33.538414Z"
    }
   },
   "outputs": [
    {
     "name": "stdout",
     "output_type": "stream",
     "text": [
      "Starting experimental run with id: 15. \n",
      "Starting experimental run with id: 16. \n",
      "Starting experimental run with id: 17. \n"
     ]
    },
    {
     "name": "stdout",
     "output_type": "stream",
     "text": [
      "Starting experimental run with id: 18. \n",
      "Starting experimental run with id: 19. \n"
     ]
    },
    {
     "name": "stdout",
     "output_type": "stream",
     "text": [
      "Starting experimental run with id: 20. \n"
     ]
    },
    {
     "name": "stdout",
     "output_type": "stream",
     "text": [
      "Starting experimental run with id: 21. \n"
     ]
    },
    {
     "name": "stdout",
     "output_type": "stream",
     "text": [
      "Starting experimental run with id: 22. \n"
     ]
    },
    {
     "name": "stdout",
     "output_type": "stream",
     "text": [
      "Starting experimental run with id: 23. \n"
     ]
    },
    {
     "name": "stdout",
     "output_type": "stream",
     "text": [
      "Starting experimental run with id: 24. \n"
     ]
    },
    {
     "name": "stdout",
     "output_type": "stream",
     "text": [
      "Starting experimental run with id: 25. \n"
     ]
    },
    {
     "name": "stdout",
     "output_type": "stream",
     "text": [
      "Starting experimental run with id: 26. \n"
     ]
    },
    {
     "name": "stdout",
     "output_type": "stream",
     "text": [
      "Starting experimental run with id: 27. \n"
     ]
    },
    {
     "name": "stdout",
     "output_type": "stream",
     "text": [
      "Starting experimental run with id: 28. \n"
     ]
    }
   ],
   "source": [
    "sizes = [1,500,1000,2000,3000,4000,5000]\n",
    "nreps = 100\n",
    "t_numeric = []\n",
    "t_numeric_add = []\n",
    "t_numeric_run_ids = []\n",
    "t_array = []\n",
    "t_array_add = []\n",
    "t_array_run_ids = []\n",
    "for size in sizes:\n",
    "    tn, tna, run_id_n =  insert_data('numeric', size, nreps=nreps)\n",
    "    t_numeric.append(tn)\n",
    "    t_numeric_add.append(tna)\n",
    "    t_numeric_run_ids.append(run_id_n)\n",
    "\n",
    "    ta, taa, run_id_a =  insert_data('array', size, nreps=nreps)\n",
    "    t_array.append(ta)\n",
    "    t_array_add.append(taa)\n",
    "    t_array_run_ids.append(run_id_a)"
   ]
  },
  {
   "cell_type": "code",
   "execution_count": 8,
   "metadata": {
    "execution": {
     "iopub.execute_input": "2020-11-11T16:24:33.568001Z",
     "iopub.status.busy": "2020-11-11T16:24:33.566747Z",
     "iopub.status.idle": "2020-11-11T16:24:33.750265Z",
     "shell.execute_reply": "2020-11-11T16:24:33.750695Z"
    },
    "scrolled": true
   },
   "outputs": [
    {
     "data": {
      "image/png": "[encoded data removed]",
      "text/plain": [
       "<Figure size 432x288 with 1 Axes>"
      ]
     },
     "metadata": {
      "needs_background": "light"
     },
     "output_type": "display_data"
    }
   ],
   "source": [
    "fig, ax = plt.subplots(1,1)\n",
    "ax.plot(sizes, t_numeric, 'o-', label='Inserting row-by-row')\n",
    "ax.plot(sizes, t_numeric_add, 'o-', label='Inserting row-by-row: add_result only')\n",
    "ax.plot(sizes, t_array, 'd-', label='Inserting as binary blob')\n",
    "ax.plot(sizes, t_array_add, 'd-', label='Inserting as binary blob: add_result only')\n",
    "ax.legend()\n",
    "ax.set_xlabel('Array length')\n",
    "ax.set_ylabel('Time (s)')\n",
    "fig.tight_layout()"
   ]
  },
  {
   "cell_type": "markdown",
   "metadata": {},
   "source": [
    "However, as we increase the length of the experiment, as seen here by repeating the insertion 100 times, we see a big difference between inserting values of the data row-by-row and inserting it as a binary blob."
   ]
  },
  {
   "cell_type": "markdown",
   "metadata": {},
   "source": [
    "## Loading the data "
   ]
  },
  {
   "cell_type": "code",
   "execution_count": 9,
   "metadata": {
    "execution": {
     "iopub.execute_input": "2020-11-11T16:24:33.755179Z",
     "iopub.status.busy": "2020-11-11T16:24:33.754188Z",
     "iopub.status.idle": "2020-11-11T16:24:33.757280Z",
     "shell.execute_reply": "2020-11-11T16:24:33.756842Z"
    }
   },
   "outputs": [],
   "source": [
    "from qcodes.dataset.data_set import load_by_id\n",
    "from qcodes.dataset.data_export import get_data_by_id"
   ]
  },
  {
   "cell_type": "markdown",
   "metadata": {},
   "source": [
    "As usual you can load the data by using the ``load_by_id`` function but you will notice that the different storage methods\n",
    "are reflected in shape of the data as it is retrieved. "
   ]
  },
  {
   "cell_type": "code",
   "execution_count": 10,
   "metadata": {
    "execution": {
     "iopub.execute_input": "2020-11-11T16:24:33.761660Z",
     "iopub.status.busy": "2020-11-11T16:24:33.760515Z",
     "iopub.status.idle": "2020-11-11T16:24:33.762290Z",
     "shell.execute_reply": "2020-11-11T16:24:33.762749Z"
    }
   },
   "outputs": [],
   "source": [
    "run_id_n = t_numeric_run_ids[0]\n",
    "run_id_a = t_array_run_ids[0]"
   ]
  },
  {
   "cell_type": "code",
   "execution_count": 11,
   "metadata": {
    "execution": {
     "iopub.execute_input": "2020-11-11T16:24:33.766070Z",
     "iopub.status.busy": "2020-11-11T16:24:33.765520Z",
     "iopub.status.idle": "2020-11-11T16:24:33.774778Z",
     "shell.execute_reply": "2020-11-11T16:24:33.774323Z"
    },
    "scrolled": true
   },
   "outputs": [
    {
     "data": {
      "text/plain": [
       "{'x1': {'x1': array([0.06260249, 0.06260249, 0.68310662, 0.68310662, 0.05740216,\n",
       "         0.05740216, 0.87341017, 0.87341017, 0.0477826 , 0.0477826 ,\n",
       "         0.92187228, 0.92187228, 0.09909761, 0.09909761, 0.56032542,\n",
       "         0.56032542, 0.86600811, 0.86600811, 0.19722654, 0.19722654,\n",
       "         0.23471495, 0.23471495, 0.32713818, 0.32713818, 0.20753309,\n",
       "         0.20753309, 0.74035371, 0.74035371, 0.63643271, 0.63643271,\n",
       "         0.21248474, 0.21248474, 0.60433818, 0.60433818, 0.67622797,\n",
       "         0.67622797, 0.79750101, 0.79750101, 0.12372327, 0.12372327,\n",
       "         0.12398859, 0.12398859, 0.44323872, 0.44323872, 0.10326999,\n",
       "         0.10326999, 0.53314319, 0.53314319, 0.98276649, 0.98276649,\n",
       "         0.4551848 , 0.4551848 , 0.44357732, 0.44357732, 0.57784179,\n",
       "         0.57784179, 0.3758921 , 0.3758921 , 0.959895  , 0.959895  ,\n",
       "         0.26381393, 0.26381393, 0.13315499, 0.13315499, 0.92270539,\n",
       "         0.92270539, 0.04961925, 0.04961925, 0.29492092, 0.29492092,\n",
       "         0.33804636, 0.33804636, 0.49420743, 0.49420743, 0.17286902,\n",
       "         0.17286902, 0.04215983, 0.04215983, 0.68597896, 0.68597896,\n",
       "         0.87974508, 0.87974508, 0.95774044, 0.95774044, 0.53987798,\n",
       "         0.53987798, 0.83492221, 0.83492221, 0.31758779, 0.31758779,\n",
       "         0.85974573, 0.85974573, 0.97519932, 0.97519932, 0.58992015,\n",
       "         0.58992015, 0.58693589, 0.58693589, 0.01856366, 0.01856366,\n",
       "         0.07017789, 0.07017789, 0.19302843, 0.19302843, 0.88551401,\n",
       "         0.88551401, 0.51582476, 0.51582476, 0.81059609, 0.81059609,\n",
       "         0.45030507, 0.45030507, 0.13567004, 0.13567004, 0.86790575,\n",
       "         0.86790575, 0.94811523, 0.94811523, 0.38549972, 0.38549972,\n",
       "         0.1285789 , 0.1285789 , 0.80937617, 0.80937617, 0.44145146,\n",
       "         0.44145146, 0.77678418, 0.77678418, 0.30729254, 0.30729254,\n",
       "         0.83578647, 0.83578647, 0.13344137, 0.13344137, 0.82371071,\n",
       "         0.82371071, 0.35168945, 0.35168945, 0.36422044, 0.36422044,\n",
       "         0.10495492, 0.10495492, 0.14750545, 0.14750545, 0.81921076,\n",
       "         0.81921076, 0.98832475, 0.98832475, 0.46505637, 0.46505637,\n",
       "         0.39981042, 0.39981042, 0.48129179, 0.48129179, 0.8803413 ,\n",
       "         0.8803413 , 0.84326065, 0.84326065, 0.22537122, 0.22537122,\n",
       "         0.92516444, 0.92516444, 0.62723484, 0.62723484, 0.45354401,\n",
       "         0.45354401, 0.3787806 , 0.3787806 , 0.90793366, 0.90793366,\n",
       "         0.79520188, 0.79520188, 0.4390097 , 0.4390097 , 0.64166384,\n",
       "         0.64166384, 0.36193293, 0.36193293, 0.6940118 , 0.6940118 ,\n",
       "         0.72359413, 0.72359413, 0.23833938, 0.23833938, 0.08811318,\n",
       "         0.08811318, 0.09242386, 0.09242386, 0.65085356, 0.65085356,\n",
       "         0.11492948, 0.11492948, 0.79395649, 0.79395649, 0.00500871,\n",
       "         0.00500871, 0.00839922, 0.00839922, 0.00298694, 0.00298694])}}"
      ]
     },
     "execution_count": 1,
     "metadata": {},
     "output_type": "execute_result"
    }
   ],
   "source": [
    "ds = load_by_id(run_id_n)\n",
    "ds.get_parameter_data('x1')"
   ]
  },
  {
   "cell_type": "markdown",
   "metadata": {},
   "source": [
    "And a dataset stored as binary arrays"
   ]
  },
  {
   "cell_type": "code",
   "execution_count": 12,
   "metadata": {
    "execution": {
     "iopub.execute_input": "2020-11-11T16:24:33.778063Z",
     "iopub.status.busy": "2020-11-11T16:24:33.777513Z",
     "iopub.status.idle": "2020-11-11T16:24:33.833057Z",
     "shell.execute_reply": "2020-11-11T16:24:33.833524Z"
    },
    "scrolled": true
   },
   "outputs": [
    {
     "data": {
      "text/plain": [
       "{'x1': {'x1': array([[0.76125449],\n",
       "         [0.76125449],\n",
       "         [0.02314295],\n",
       "         [0.02314295],\n",
       "         [0.12352558],\n",
       "         [0.12352558],\n",
       "         [0.33362065],\n",
       "         [0.33362065],\n",
       "         [0.56937582],\n",
       "         [0.56937582],\n",
       "         [0.91795153],\n",
       "         [0.91795153],\n",
       "         [0.17461117],\n",
       "         [0.17461117],\n",
       "         [0.70501718],\n",
       "         [0.70501718],\n",
       "         [0.27743288],\n",
       "         [0.27743288],\n",
       "         [0.22232527],\n",
       "         [0.22232527],\n",
       "         [0.84922858],\n",
       "         [0.84922858],\n",
       "         [0.90446487],\n",
       "         [0.90446487],\n",
       "         [0.57588987],\n",
       "         [0.57588987],\n",
       "         [0.24609467],\n",
       "         [0.24609467],\n",
       "         [0.86153706],\n",
       "         [0.86153706],\n",
       "         [0.13685097],\n",
       "         [0.13685097],\n",
       "         [0.71833498],\n",
       "         [0.71833498],\n",
       "         [0.01556191],\n",
       "         [0.01556191],\n",
       "         [0.47610108],\n",
       "         [0.47610108],\n",
       "         [0.15864395],\n",
       "         [0.15864395],\n",
       "         [0.45538266],\n",
       "         [0.45538266],\n",
       "         [0.16452081],\n",
       "         [0.16452081],\n",
       "         [0.17355455],\n",
       "         [0.17355455],\n",
       "         [0.50523428],\n",
       "         [0.50523428],\n",
       "         [0.62942087],\n",
       "         [0.62942087],\n",
       "         [0.93175807],\n",
       "         [0.93175807],\n",
       "         [0.74801464],\n",
       "         [0.74801464],\n",
       "         [0.08264751],\n",
       "         [0.08264751],\n",
       "         [0.33743819],\n",
       "         [0.33743819],\n",
       "         [0.28691807],\n",
       "         [0.28691807],\n",
       "         [0.2568287 ],\n",
       "         [0.2568287 ],\n",
       "         [0.48031065],\n",
       "         [0.48031065],\n",
       "         [0.23723685],\n",
       "         [0.23723685],\n",
       "         [0.19427206],\n",
       "         [0.19427206],\n",
       "         [0.27225627],\n",
       "         [0.27225627],\n",
       "         [0.88064433],\n",
       "         [0.88064433],\n",
       "         [0.40051992],\n",
       "         [0.40051992],\n",
       "         [0.7890104 ],\n",
       "         [0.7890104 ],\n",
       "         [0.97472406],\n",
       "         [0.97472406],\n",
       "         [0.89685942],\n",
       "         [0.89685942],\n",
       "         [0.01477848],\n",
       "         [0.01477848],\n",
       "         [0.29994057],\n",
       "         [0.29994057],\n",
       "         [0.38609366],\n",
       "         [0.38609366],\n",
       "         [0.01508848],\n",
       "         [0.01508848],\n",
       "         [0.4377201 ],\n",
       "         [0.4377201 ],\n",
       "         [0.40031443],\n",
       "         [0.40031443],\n",
       "         [0.07630514],\n",
       "         [0.07630514],\n",
       "         [0.32700401],\n",
       "         [0.32700401],\n",
       "         [0.35221098],\n",
       "         [0.35221098],\n",
       "         [0.65445994],\n",
       "         [0.65445994],\n",
       "         [0.06079039],\n",
       "         [0.06079039],\n",
       "         [0.29856741],\n",
       "         [0.29856741],\n",
       "         [0.90496512],\n",
       "         [0.90496512],\n",
       "         [0.0364453 ],\n",
       "         [0.0364453 ],\n",
       "         [0.89731536],\n",
       "         [0.89731536],\n",
       "         [0.48116853],\n",
       "         [0.48116853],\n",
       "         [0.623153  ],\n",
       "         [0.623153  ],\n",
       "         [0.5380088 ],\n",
       "         [0.5380088 ],\n",
       "         [0.61491098],\n",
       "         [0.61491098],\n",
       "         [0.3650162 ],\n",
       "         [0.3650162 ],\n",
       "         [0.65742598],\n",
       "         [0.65742598],\n",
       "         [0.03540296],\n",
       "         [0.03540296],\n",
       "         [0.80650094],\n",
       "         [0.80650094],\n",
       "         [0.59887488],\n",
       "         [0.59887488],\n",
       "         [0.07515928],\n",
       "         [0.07515928],\n",
       "         [0.07868051],\n",
       "         [0.07868051],\n",
       "         [0.84791996],\n",
       "         [0.84791996],\n",
       "         [0.66627527],\n",
       "         [0.66627527],\n",
       "         [0.27477188],\n",
       "         [0.27477188],\n",
       "         [0.70129403],\n",
       "         [0.70129403],\n",
       "         [0.83674342],\n",
       "         [0.83674342],\n",
       "         [0.7938164 ],\n",
       "         [0.7938164 ],\n",
       "         [0.63410468],\n",
       "         [0.63410468],\n",
       "         [0.1555317 ],\n",
       "         [0.1555317 ],\n",
       "         [0.88696278],\n",
       "         [0.88696278],\n",
       "         [0.26028062],\n",
       "         [0.26028062],\n",
       "         [0.55695898],\n",
       "         [0.55695898],\n",
       "         [0.14646668],\n",
       "         [0.14646668],\n",
       "         [0.54685344],\n",
       "         [0.54685344],\n",
       "         [0.94622628],\n",
       "         [0.94622628],\n",
       "         [0.77833771],\n",
       "         [0.77833771],\n",
       "         [0.55540131],\n",
       "         [0.55540131],\n",
       "         [0.52379341],\n",
       "         [0.52379341],\n",
       "         [0.16195455],\n",
       "         [0.16195455],\n",
       "         [0.04496223],\n",
       "         [0.04496223],\n",
       "         [0.73090218],\n",
       "         [0.73090218],\n",
       "         [0.1675336 ],\n",
       "         [0.1675336 ],\n",
       "         [0.78632752],\n",
       "         [0.78632752],\n",
       "         [0.83420764],\n",
       "         [0.83420764],\n",
       "         [0.26314329],\n",
       "         [0.26314329],\n",
       "         [0.78351644],\n",
       "         [0.78351644],\n",
       "         [0.83374793],\n",
       "         [0.83374793],\n",
       "         [0.66126505],\n",
       "         [0.66126505],\n",
       "         [0.5350895 ],\n",
       "         [0.5350895 ],\n",
       "         [0.60076711],\n",
       "         [0.60076711],\n",
       "         [0.90293852],\n",
       "         [0.90293852],\n",
       "         [0.69526804],\n",
       "         [0.69526804],\n",
       "         [0.76802662],\n",
       "         [0.76802662],\n",
       "         [0.59602127],\n",
       "         [0.59602127],\n",
       "         [0.67584408],\n",
       "         [0.67584408]])}}"
      ]
     },
     "execution_count": 1,
     "metadata": {},
     "output_type": "execute_result"
    }
   ],
   "source": [
    "ds = load_by_id(run_id_a)\n",
    "ds.get_parameter_data('x1')"
   ]
  },
  {
   "cell_type": "code",
   "execution_count": null,
   "metadata": {},
   "outputs": [],
   "source": []
  }
 ],
 "metadata": {
  "kernelspec": {
   "display_name": "Python 3",
   "language": "python",
   "name": "python3"
  },
  "language_info": {
   "codemirror_mode": {
    "name": "ipython",
    "version": 3
   },
   "file_extension": ".py",
   "mimetype": "text/x-python",
   "name": "python",
   "nbconvert_exporter": "python",
   "pygments_lexer": "ipython3",
   "version": "3.7.9"
  },
  "nbsphinx": {
   "timeout": 600
  },
  "toc": {
   "base_numbering": 1,
   "nav_menu": {},
   "number_sections": true,
   "sideBar": true,
   "skip_h1_title": false,
   "title_cell": "Table of Contents",
   "title_sidebar": "Contents",
   "toc_cell": false,
   "toc_position": {},
   "toc_section_display": true,
   "toc_window_display": false
  },
  "varInspector": {
   "cols": {
    "lenName": 16,
    "lenType": 16,
    "lenVar": 40
   },
   "kernels_config": {
    "python": {
     "delete_cmd_postfix": "",
     "delete_cmd_prefix": "del ",
     "library": "var_list.py",
     "varRefreshCmd": "print(var_dic_list())"
    },
    "r": {
     "delete_cmd_postfix": ") ",
     "delete_cmd_prefix": "rm(",
     "library": "var_list.r",
     "varRefreshCmd": "cat(var_dic_list()) "
    }
   },
   "types_to_exclude": [
    "module",
    "function",
    "builtin_function_or_method",
    "instance",
    "_Feature"
   ],
   "window_display": false
  }
 },
 "nbformat": 4,
 "nbformat_minor": 2
}
