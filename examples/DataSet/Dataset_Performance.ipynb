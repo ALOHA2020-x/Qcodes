{
 "cells": [
  {
   "cell_type": "markdown",
   "metadata": {},
   "source": [
    "# DataSet Performance\n",
    "\n",
    "This notebook shows the trade-off between inserting data into a database row-by-row and as binary blobs. Inserting the data row-by-row means that we have direct access to all the data and may perform queries directly on the values of the data. On the other hand, as we shall see, this is much slower than inserting the data directly as binary blobs."
   ]
  },
  {
   "cell_type": "markdown",
   "metadata": {},
   "source": [
    "First, we choose a new location for the database to ensure that we don't add a bunch of benchmarking data to the default one."
   ]
  },
  {
   "cell_type": "code",
   "execution_count": 1,
   "metadata": {
    "execution": {
     "iopub.execute_input": "2020-10-26T17:33:46.451905Z",
     "iopub.status.busy": "2020-10-26T17:33:46.451294Z",
     "iopub.status.idle": "2020-10-26T17:33:47.585311Z",
     "shell.execute_reply": "2020-10-26T17:33:47.584708Z"
    }
   },
   "outputs": [
    {
     "name": "stdout",
     "output_type": "stream",
     "text": [
      "Logging hadn't been started.\n",
      "Activating auto-logging. Current session state plus future input saved.\n",
      "Filename       : /home/vsts/.qcodes/logs/command_history.log\n",
      "Mode           : append\n",
      "Output logging : True\n",
      "Raw input log  : False\n",
      "Timestamping   : True\n",
      "State          : active\n"
     ]
    },
    {
     "name": "stdout",
     "output_type": "stream",
     "text": [
      "Qcodes Logfile : /home/vsts/.qcodes/logs/201026-14494-qcodes.log\n"
     ]
    }
   ],
   "source": [
    "import os\n",
    "cwd = os.getcwd()\n",
    "import qcodes as qc\n",
    "qc.config[\"core\"][\"db_location\"] = os.path.join(cwd, 'testing.db')\n"
   ]
  },
  {
   "cell_type": "code",
   "execution_count": 2,
   "metadata": {
    "execution": {
     "iopub.execute_input": "2020-10-26T17:33:47.591684Z",
     "iopub.status.busy": "2020-10-26T17:33:47.591076Z",
     "iopub.status.idle": "2020-10-26T17:33:47.788221Z",
     "shell.execute_reply": "2020-10-26T17:33:47.787333Z"
    }
   },
   "outputs": [],
   "source": [
    "%matplotlib inline\n",
    "import time\n",
    "import matplotlib.pyplot as plt\n",
    "import numpy as np\n",
    "\n",
    "import qcodes as qc\n",
    "from qcodes.instrument.parameter import ManualParameter\n",
    "from qcodes.dataset.experiment_container import (Experiment,\n",
    "                                                 load_last_experiment,\n",
    "                                                 new_experiment)\n",
    "from qcodes.dataset.sqlite.database import initialise_database\n",
    "from qcodes import load_or_create_experiment\n",
    "from qcodes.dataset.measurements import Measurement"
   ]
  },
  {
   "cell_type": "code",
   "execution_count": 3,
   "metadata": {
    "execution": {
     "iopub.execute_input": "2020-10-26T17:33:47.792481Z",
     "iopub.status.busy": "2020-10-26T17:33:47.791740Z",
     "iopub.status.idle": "2020-10-26T17:33:47.895150Z",
     "shell.execute_reply": "2020-10-26T17:33:47.894594Z"
    }
   },
   "outputs": [
    {
     "name": "stdout",
     "output_type": "stream",
     "text": [
      "\r",
      "0it [00:00, ?it/s]"
     ]
    },
    {
     "name": "stdout",
     "output_type": "stream",
     "text": [
      "\r",
      "Upgrading database; v0 -> v1: : 0it [00:00, ?it/s]"
     ]
    },
    {
     "name": "stdout",
     "output_type": "stream",
     "text": [
      "\r",
      "Upgrading database; v0 -> v1: : 0it [00:00, ?it/s]"
     ]
    },
    {
     "name": "stdout",
     "output_type": "stream",
     "text": [
      "\n",
      "\r",
      "  0%|          | 0/1 [00:00<?, ?it/s]"
     ]
    },
    {
     "name": "stdout",
     "output_type": "stream",
     "text": [
      "\r",
      "Upgrading database; v1 -> v2:   0%|          | 0/1 [00:00<?, ?it/s]"
     ]
    },
    {
     "name": "stdout",
     "output_type": "stream",
     "text": [
      "\r",
      "Upgrading database; v1 -> v2: 100%|██████████| 1/1 [00:00<00:00, 445.87it/s]"
     ]
    },
    {
     "name": "stdout",
     "output_type": "stream",
     "text": [
      "\n",
      "\r",
      "0it [00:00, ?it/s]"
     ]
    },
    {
     "name": "stdout",
     "output_type": "stream",
     "text": [
      "\r",
      "Upgrading database; v2 -> v3: : 0it [00:00, ?it/s]"
     ]
    },
    {
     "name": "stdout",
     "output_type": "stream",
     "text": [
      "\r",
      "Upgrading database; v2 -> v3: : 0it [00:00, ?it/s]"
     ]
    },
    {
     "name": "stdout",
     "output_type": "stream",
     "text": [
      "\n",
      "\r",
      "0it [00:00, ?it/s]"
     ]
    },
    {
     "name": "stdout",
     "output_type": "stream",
     "text": [
      "\r",
      "Upgrading database; v3 -> v4: : 0it [00:00, ?it/s]"
     ]
    },
    {
     "name": "stdout",
     "output_type": "stream",
     "text": [
      "\r",
      "Upgrading database; v3 -> v4: : 0it [00:00, ?it/s]"
     ]
    },
    {
     "name": "stdout",
     "output_type": "stream",
     "text": [
      "\n",
      "\r",
      "  0%|          | 0/1 [00:00<?, ?it/s]"
     ]
    },
    {
     "name": "stdout",
     "output_type": "stream",
     "text": [
      "\r",
      "Upgrading database; v4 -> v5:   0%|          | 0/1 [00:00<?, ?it/s]"
     ]
    },
    {
     "name": "stdout",
     "output_type": "stream",
     "text": [
      "\r",
      "Upgrading database; v4 -> v5: 100%|██████████| 1/1 [00:00<00:00, 416.14it/s]"
     ]
    },
    {
     "name": "stdout",
     "output_type": "stream",
     "text": [
      "\n",
      "\r",
      "0it [00:00, ?it/s]"
     ]
    },
    {
     "name": "stdout",
     "output_type": "stream",
     "text": [
      "\r",
      "Upgrading database; v5 -> v6: : 0it [00:00, ?it/s]"
     ]
    },
    {
     "name": "stdout",
     "output_type": "stream",
     "text": [
      "\r",
      "Upgrading database; v5 -> v6: : 0it [00:00, ?it/s]"
     ]
    },
    {
     "name": "stdout",
     "output_type": "stream",
     "text": [
      "\n",
      "\r",
      "  0%|          | 0/1 [00:00<?, ?it/s]"
     ]
    },
    {
     "name": "stdout",
     "output_type": "stream",
     "text": [
      "\r",
      "Upgrading database; v6 -> v7:   0%|          | 0/1 [00:00<?, ?it/s]"
     ]
    },
    {
     "name": "stdout",
     "output_type": "stream",
     "text": [
      "\r",
      "Upgrading database; v6 -> v7: 100%|██████████| 1/1 [00:00<00:00, 413.07it/s]"
     ]
    },
    {
     "name": "stdout",
     "output_type": "stream",
     "text": [
      "\n",
      "\r",
      "  0%|          | 0/1 [00:00<?, ?it/s]"
     ]
    },
    {
     "name": "stdout",
     "output_type": "stream",
     "text": [
      "\r",
      "Upgrading database; v7 -> v8:   0%|          | 0/1 [00:00<?, ?it/s]"
     ]
    },
    {
     "name": "stdout",
     "output_type": "stream",
     "text": [
      "\r",
      "Upgrading database; v7 -> v8: 100%|██████████| 1/1 [00:00<00:00, 633.10it/s]"
     ]
    },
    {
     "name": "stdout",
     "output_type": "stream",
     "text": [
      "\n",
      "\r",
      "  0%|          | 0/1 [00:00<?, ?it/s]"
     ]
    },
    {
     "name": "stdout",
     "output_type": "stream",
     "text": [
      "\r",
      "Upgrading database; v8 -> v9:   0%|          | 0/1 [00:00<?, ?it/s]"
     ]
    },
    {
     "name": "stdout",
     "output_type": "stream",
     "text": [
      "\r",
      "Upgrading database; v8 -> v9: 100%|██████████| 1/1 [00:00<00:00, 448.40it/s]"
     ]
    },
    {
     "name": "stdout",
     "output_type": "stream",
     "text": [
      "\n"
     ]
    }
   ],
   "source": [
    "initialise_database()\n",
    "exp = load_or_create_experiment(experiment_name='tutorial_exp', sample_name=\"no sample\")"
   ]
  },
  {
   "cell_type": "markdown",
   "metadata": {},
   "source": [
    "Here, we define a simple function to benchmark the time it takes to insert n points with either numeric or array data type.\n",
    "We will compare both the time used to call ``add_result`` and the time used for the full measurement."
   ]
  },
  {
   "cell_type": "code",
   "execution_count": 4,
   "metadata": {
    "execution": {
     "iopub.execute_input": "2020-10-26T17:33:47.903633Z",
     "iopub.status.busy": "2020-10-26T17:33:47.901986Z",
     "iopub.status.idle": "2020-10-26T17:33:47.905802Z",
     "shell.execute_reply": "2020-10-26T17:33:47.905298Z"
    }
   },
   "outputs": [],
   "source": [
    "def insert_data(paramtype, npoints, nreps=1):\n",
    "\n",
    "    meas = Measurement(exp=exp)\n",
    "\n",
    "    x1 = ManualParameter('x1')\n",
    "    x2 = ManualParameter('x2')\n",
    "    x3 = ManualParameter('x3')\n",
    "    y1 = ManualParameter('y1')\n",
    "    y2 = ManualParameter('y2')\n",
    "\n",
    "    meas.register_parameter(x1, paramtype=paramtype)\n",
    "    meas.register_parameter(x2, paramtype=paramtype)\n",
    "    meas.register_parameter(x3, paramtype=paramtype)\n",
    "    meas.register_parameter(y1, setpoints=[x1, x2, x3],\n",
    "                            paramtype=paramtype)\n",
    "    meas.register_parameter(y2, setpoints=[x1, x2, x3],\n",
    "                            paramtype=paramtype)\n",
    "    start = time.perf_counter()\n",
    "    with meas.run() as datasaver:\n",
    "        start_adding = time.perf_counter()\n",
    "        for i in range(nreps):\n",
    "            datasaver.add_result((x1, np.random.rand(npoints)),\n",
    "                                 (x2, np.random.rand(npoints)),\n",
    "                                 (x3, np.random.rand(npoints)),\n",
    "                                 (y1, np.random.rand(npoints)),\n",
    "                                 (y2, np.random.rand(npoints)))\n",
    "        stop_adding = time.perf_counter()\n",
    "        run_id = datasaver.run_id\n",
    "    stop = time.perf_counter()\n",
    "    tot_time = stop - start\n",
    "    add_time = stop_adding - start_adding\n",
    "    return tot_time, add_time, run_id"
   ]
  },
  {
   "cell_type": "markdown",
   "metadata": {},
   "source": [
    "## Comparison between numeric/array data and binary blob"
   ]
  },
  {
   "cell_type": "markdown",
   "metadata": {},
   "source": [
    "### Case1: Short experiment time"
   ]
  },
  {
   "cell_type": "code",
   "execution_count": 5,
   "metadata": {
    "execution": {
     "iopub.execute_input": "2020-10-26T17:33:47.912813Z",
     "iopub.status.busy": "2020-10-26T17:33:47.911067Z",
     "iopub.status.idle": "2020-10-26T17:33:48.815036Z",
     "shell.execute_reply": "2020-10-26T17:33:48.815515Z"
    }
   },
   "outputs": [
    {
     "name": "stdout",
     "output_type": "stream",
     "text": [
      "Starting experimental run with id: 1. \n",
      "Starting experimental run with id: 2. \n",
      "Starting experimental run with id: 3. \n",
      "Starting experimental run with id: 4. \n",
      "Starting experimental run with id: 5. \n"
     ]
    },
    {
     "name": "stdout",
     "output_type": "stream",
     "text": [
      "Starting experimental run with id: 6. \n"
     ]
    },
    {
     "name": "stdout",
     "output_type": "stream",
     "text": [
      "Starting experimental run with id: 7. \n"
     ]
    },
    {
     "name": "stdout",
     "output_type": "stream",
     "text": [
      "Starting experimental run with id: 8. \n",
      "Starting experimental run with id: 9. \n"
     ]
    },
    {
     "name": "stdout",
     "output_type": "stream",
     "text": [
      "Starting experimental run with id: 10. \n",
      "Starting experimental run with id: 11. \n"
     ]
    },
    {
     "name": "stdout",
     "output_type": "stream",
     "text": [
      "Starting experimental run with id: 12. \n"
     ]
    },
    {
     "name": "stdout",
     "output_type": "stream",
     "text": [
      "Starting experimental run with id: 13. \n"
     ]
    },
    {
     "name": "stdout",
     "output_type": "stream",
     "text": [
      "Starting experimental run with id: 14. \n"
     ]
    }
   ],
   "source": [
    "sizes = [1,500,1000,2000,3000,4000,5000]\n",
    "t_numeric = []\n",
    "t_numeric_add = []\n",
    "t_array = []\n",
    "t_array_add = []\n",
    "for size in sizes:\n",
    "    tn, tna, run_id_n =  insert_data('numeric', size)\n",
    "    t_numeric.append(tn)\n",
    "    t_numeric_add.append(tna)\n",
    "\n",
    "    ta, taa, run_id_a =  insert_data('array', size)\n",
    "    t_array.append(ta)\n",
    "    t_array_add.append(taa)"
   ]
  },
  {
   "cell_type": "code",
   "execution_count": 6,
   "metadata": {
    "execution": {
     "iopub.execute_input": "2020-10-26T17:33:48.829824Z",
     "iopub.status.busy": "2020-10-26T17:33:48.819734Z",
     "iopub.status.idle": "2020-10-26T17:33:49.058788Z",
     "shell.execute_reply": "2020-10-26T17:33:49.059265Z"
    }
   },
   "outputs": [
    {
     "data": {
      "image/png": "[encoded data removed]",
      "text/plain": [
       "<Figure size 432x288 with 1 Axes>"
      ]
     },
     "metadata": {
      "needs_background": "light"
     },
     "output_type": "display_data"
    }
   ],
   "source": [
    "fig, ax = plt.subplots(1,1)\n",
    "ax.plot(sizes, t_numeric, 'o-', label='Inserting row-by-row')\n",
    "ax.plot(sizes, t_numeric_add, 'o-', label='Inserting row-by-row: add_result only')\n",
    "ax.plot(sizes, t_array, 'd-', label='Inserting as binary blob')\n",
    "ax.plot(sizes, t_array_add, 'd-', label='Inserting as binary blob: add_result only')\n",
    "ax.legend()\n",
    "ax.set_xlabel('Array length')\n",
    "ax.set_ylabel('Time (s)')\n",
    "fig.tight_layout()"
   ]
  },
  {
   "cell_type": "markdown",
   "metadata": {},
   "source": [
    "As shown in the latter figure, the time to setup and and close the experiment is approximately 0.4 sec. In case of small array sizes, the difference between inserting values of data as arrays and inserting them row-by-row is relatively unimportant. At larger array sizes, i.e. above 10000 points, the cost of writing data as individual datapoints starts to become important.\n"
   ]
  },
  {
   "cell_type": "markdown",
   "metadata": {},
   "source": [
    "### Case2: Long experiment time "
   ]
  },
  {
   "cell_type": "code",
   "execution_count": 7,
   "metadata": {
    "execution": {
     "iopub.execute_input": "2020-10-26T17:33:49.067793Z",
     "iopub.status.busy": "2020-10-26T17:33:49.067149Z",
     "iopub.status.idle": "2020-10-26T17:34:51.414884Z",
     "shell.execute_reply": "2020-10-26T17:34:51.415361Z"
    }
   },
   "outputs": [
    {
     "name": "stdout",
     "output_type": "stream",
     "text": [
      "Starting experimental run with id: 15. \n",
      "Starting experimental run with id: 16. \n",
      "Starting experimental run with id: 17. \n"
     ]
    },
    {
     "name": "stdout",
     "output_type": "stream",
     "text": [
      "Starting experimental run with id: 18. \n",
      "Starting experimental run with id: 19. \n"
     ]
    },
    {
     "name": "stdout",
     "output_type": "stream",
     "text": [
      "Starting experimental run with id: 20. \n"
     ]
    },
    {
     "name": "stdout",
     "output_type": "stream",
     "text": [
      "Starting experimental run with id: 21. \n"
     ]
    },
    {
     "name": "stdout",
     "output_type": "stream",
     "text": [
      "Starting experimental run with id: 22. \n"
     ]
    },
    {
     "name": "stdout",
     "output_type": "stream",
     "text": [
      "Starting experimental run with id: 23. \n"
     ]
    },
    {
     "name": "stdout",
     "output_type": "stream",
     "text": [
      "Starting experimental run with id: 24. \n"
     ]
    },
    {
     "name": "stdout",
     "output_type": "stream",
     "text": [
      "Starting experimental run with id: 25. \n"
     ]
    },
    {
     "name": "stdout",
     "output_type": "stream",
     "text": [
      "Starting experimental run with id: 26. \n"
     ]
    },
    {
     "name": "stdout",
     "output_type": "stream",
     "text": [
      "Starting experimental run with id: 27. \n"
     ]
    },
    {
     "name": "stdout",
     "output_type": "stream",
     "text": [
      "Starting experimental run with id: 28. \n"
     ]
    }
   ],
   "source": [
    "sizes = [1,500,1000,2000,3000,4000,5000]\n",
    "nreps = 100\n",
    "t_numeric = []\n",
    "t_numeric_add = []\n",
    "t_numeric_run_ids = []\n",
    "t_array = []\n",
    "t_array_add = []\n",
    "t_array_run_ids = []\n",
    "for size in sizes:\n",
    "    tn, tna, run_id_n =  insert_data('numeric', size, nreps=nreps)\n",
    "    t_numeric.append(tn)\n",
    "    t_numeric_add.append(tna)\n",
    "    t_numeric_run_ids.append(run_id_n)\n",
    "\n",
    "    ta, taa, run_id_a =  insert_data('array', size, nreps=nreps)\n",
    "    t_array.append(ta)\n",
    "    t_array_add.append(taa)\n",
    "    t_array_run_ids.append(run_id_a)"
   ]
  },
  {
   "cell_type": "code",
   "execution_count": 8,
   "metadata": {
    "execution": {
     "iopub.execute_input": "2020-10-26T17:34:51.440295Z",
     "iopub.status.busy": "2020-10-26T17:34:51.432479Z",
     "iopub.status.idle": "2020-10-26T17:34:51.660355Z",
     "shell.execute_reply": "2020-10-26T17:34:51.660868Z"
    },
    "scrolled": true
   },
   "outputs": [
    {
     "data": {
      "image/png": "[encoded data removed]",
      "text/plain": [
       "<Figure size 432x288 with 1 Axes>"
      ]
     },
     "metadata": {
      "needs_background": "light"
     },
     "output_type": "display_data"
    }
   ],
   "source": [
    "fig, ax = plt.subplots(1,1)\n",
    "ax.plot(sizes, t_numeric, 'o-', label='Inserting row-by-row')\n",
    "ax.plot(sizes, t_numeric_add, 'o-', label='Inserting row-by-row: add_result only')\n",
    "ax.plot(sizes, t_array, 'd-', label='Inserting as binary blob')\n",
    "ax.plot(sizes, t_array_add, 'd-', label='Inserting as binary blob: add_result only')\n",
    "ax.legend()\n",
    "ax.set_xlabel('Array length')\n",
    "ax.set_ylabel('Time (s)')\n",
    "fig.tight_layout()"
   ]
  },
  {
   "cell_type": "markdown",
   "metadata": {},
   "source": [
    "However, as we increase the length of the experiment, as seen here by repeating the insertion 100 times, we see a big difference between inserting values of the data row-by-row and inserting it as a binary blob."
   ]
  },
  {
   "cell_type": "markdown",
   "metadata": {},
   "source": [
    "## Loading the data "
   ]
  },
  {
   "cell_type": "code",
   "execution_count": 9,
   "metadata": {
    "execution": {
     "iopub.execute_input": "2020-10-26T17:34:51.665574Z",
     "iopub.status.busy": "2020-10-26T17:34:51.664955Z",
     "iopub.status.idle": "2020-10-26T17:34:51.668865Z",
     "shell.execute_reply": "2020-10-26T17:34:51.668345Z"
    }
   },
   "outputs": [],
   "source": [
    "from qcodes.dataset.data_set import load_by_id\n",
    "from qcodes.dataset.data_export import get_data_by_id"
   ]
  },
  {
   "cell_type": "markdown",
   "metadata": {},
   "source": [
    "As usual you can load the data by using the ``load_by_id`` function but you will notice that the different storage methods\n",
    "are reflected in shape of the data as it is retrieved. "
   ]
  },
  {
   "cell_type": "code",
   "execution_count": 10,
   "metadata": {
    "execution": {
     "iopub.execute_input": "2020-10-26T17:34:51.673584Z",
     "iopub.status.busy": "2020-10-26T17:34:51.672187Z",
     "iopub.status.idle": "2020-10-26T17:34:51.674246Z",
     "shell.execute_reply": "2020-10-26T17:34:51.674752Z"
    }
   },
   "outputs": [],
   "source": [
    "run_id_n = t_numeric_run_ids[0]\n",
    "run_id_a = t_array_run_ids[0]"
   ]
  },
  {
   "cell_type": "code",
   "execution_count": 11,
   "metadata": {
    "execution": {
     "iopub.execute_input": "2020-10-26T17:34:51.678194Z",
     "iopub.status.busy": "2020-10-26T17:34:51.677590Z",
     "iopub.status.idle": "2020-10-26T17:34:51.687699Z",
     "shell.execute_reply": "2020-10-26T17:34:51.687204Z"
    },
    "scrolled": true
   },
   "outputs": [
    {
     "data": {
      "text/plain": [
       "{'x1': {'x1': array([0.43233042, 0.43233042, 0.88068644, 0.88068644, 0.78828453,\n",
       "         0.78828453, 0.78890653, 0.78890653, 0.88065462, 0.88065462,\n",
       "         0.61635278, 0.61635278, 0.44569049, 0.44569049, 0.01047234,\n",
       "         0.01047234, 0.78443835, 0.78443835, 0.75482215, 0.75482215,\n",
       "         0.35431757, 0.35431757, 0.30967127, 0.30967127, 0.63800386,\n",
       "         0.63800386, 0.41746329, 0.41746329, 0.79733596, 0.79733596,\n",
       "         0.81080625, 0.81080625, 0.07206784, 0.07206784, 0.73596833,\n",
       "         0.73596833, 0.13784287, 0.13784287, 0.98127121, 0.98127121,\n",
       "         0.61688488, 0.61688488, 0.92685887, 0.92685887, 0.50851971,\n",
       "         0.50851971, 0.81415284, 0.81415284, 0.03409842, 0.03409842,\n",
       "         0.65464045, 0.65464045, 0.59336129, 0.59336129, 0.78052375,\n",
       "         0.78052375, 0.82023643, 0.82023643, 0.13823755, 0.13823755,\n",
       "         0.11320806, 0.11320806, 0.86107499, 0.86107499, 0.06713301,\n",
       "         0.06713301, 0.76615779, 0.76615779, 0.14708855, 0.14708855,\n",
       "         0.99319012, 0.99319012, 0.34763028, 0.34763028, 0.36742134,\n",
       "         0.36742134, 0.76014844, 0.76014844, 0.13356949, 0.13356949,\n",
       "         0.85938585, 0.85938585, 0.62783958, 0.62783958, 0.59422955,\n",
       "         0.59422955, 0.01827505, 0.01827505, 0.85480971, 0.85480971,\n",
       "         0.80581393, 0.80581393, 0.80510588, 0.80510588, 0.28822014,\n",
       "         0.28822014, 0.65005098, 0.65005098, 0.90721763, 0.90721763,\n",
       "         0.84640048, 0.84640048, 0.63711337, 0.63711337, 0.91860366,\n",
       "         0.91860366, 0.84859939, 0.84859939, 0.68751568, 0.68751568,\n",
       "         0.96329988, 0.96329988, 0.63983127, 0.63983127, 0.8859547 ,\n",
       "         0.8859547 , 0.2579015 , 0.2579015 , 0.02720535, 0.02720535,\n",
       "         0.47034314, 0.47034314, 0.76982664, 0.76982664, 0.64826481,\n",
       "         0.64826481, 0.77435163, 0.77435163, 0.41527928, 0.41527928,\n",
       "         0.05288648, 0.05288648, 0.02876891, 0.02876891, 0.49696335,\n",
       "         0.49696335, 0.76509144, 0.76509144, 0.21934083, 0.21934083,\n",
       "         0.72653291, 0.72653291, 0.98308177, 0.98308177, 0.91638054,\n",
       "         0.91638054, 0.02291501, 0.02291501, 0.05187879, 0.05187879,\n",
       "         0.96328668, 0.96328668, 0.71193475, 0.71193475, 0.3592847 ,\n",
       "         0.3592847 , 0.60434052, 0.60434052, 0.97184715, 0.97184715,\n",
       "         0.18878856, 0.18878856, 0.06089301, 0.06089301, 0.47806788,\n",
       "         0.47806788, 0.22530969, 0.22530969, 0.6949605 , 0.6949605 ,\n",
       "         0.52580536, 0.52580536, 0.19707258, 0.19707258, 0.02839335,\n",
       "         0.02839335, 0.02849452, 0.02849452, 0.42654069, 0.42654069,\n",
       "         0.65975524, 0.65975524, 0.77846551, 0.77846551, 0.4912759 ,\n",
       "         0.4912759 , 0.42831043, 0.42831043, 0.92646024, 0.92646024,\n",
       "         0.49208483, 0.49208483, 0.20373419, 0.20373419, 0.43405884,\n",
       "         0.43405884, 0.04661463, 0.04661463, 0.04123874, 0.04123874])}}"
      ]
     },
     "execution_count": 1,
     "metadata": {},
     "output_type": "execute_result"
    }
   ],
   "source": [
    "ds = load_by_id(run_id_n)\n",
    "ds.get_parameter_data('x1')"
   ]
  },
  {
   "cell_type": "markdown",
   "metadata": {},
   "source": [
    "And a dataset stored as binary arrays"
   ]
  },
  {
   "cell_type": "code",
   "execution_count": 12,
   "metadata": {
    "execution": {
     "iopub.execute_input": "2020-10-26T17:34:51.691245Z",
     "iopub.status.busy": "2020-10-26T17:34:51.690646Z",
     "iopub.status.idle": "2020-10-26T17:34:51.763679Z",
     "shell.execute_reply": "2020-10-26T17:34:51.764232Z"
    },
    "scrolled": true
   },
   "outputs": [
    {
     "data": {
      "text/plain": [
       "{'x1': {'x1': array([[0.83716312],\n",
       "         [0.83716312],\n",
       "         [0.81398671],\n",
       "         [0.81398671],\n",
       "         [0.94759867],\n",
       "         [0.94759867],\n",
       "         [0.6629833 ],\n",
       "         [0.6629833 ],\n",
       "         [0.69541427],\n",
       "         [0.69541427],\n",
       "         [0.92072338],\n",
       "         [0.92072338],\n",
       "         [0.326777  ],\n",
       "         [0.326777  ],\n",
       "         [0.41926876],\n",
       "         [0.41926876],\n",
       "         [0.25349443],\n",
       "         [0.25349443],\n",
       "         [0.40638504],\n",
       "         [0.40638504],\n",
       "         [0.44817392],\n",
       "         [0.44817392],\n",
       "         [0.61204893],\n",
       "         [0.61204893],\n",
       "         [0.07375552],\n",
       "         [0.07375552],\n",
       "         [0.97548846],\n",
       "         [0.97548846],\n",
       "         [0.70609862],\n",
       "         [0.70609862],\n",
       "         [0.00368323],\n",
       "         [0.00368323],\n",
       "         [0.28325199],\n",
       "         [0.28325199],\n",
       "         [0.77344055],\n",
       "         [0.77344055],\n",
       "         [0.75621759],\n",
       "         [0.75621759],\n",
       "         [0.88155208],\n",
       "         [0.88155208],\n",
       "         [0.98324016],\n",
       "         [0.98324016],\n",
       "         [0.82533166],\n",
       "         [0.82533166],\n",
       "         [0.14141032],\n",
       "         [0.14141032],\n",
       "         [0.99723349],\n",
       "         [0.99723349],\n",
       "         [0.60467796],\n",
       "         [0.60467796],\n",
       "         [0.35339239],\n",
       "         [0.35339239],\n",
       "         [0.7074841 ],\n",
       "         [0.7074841 ],\n",
       "         [0.71728486],\n",
       "         [0.71728486],\n",
       "         [0.23588721],\n",
       "         [0.23588721],\n",
       "         [0.04592743],\n",
       "         [0.04592743],\n",
       "         [0.55858603],\n",
       "         [0.55858603],\n",
       "         [0.57409589],\n",
       "         [0.57409589],\n",
       "         [0.61938491],\n",
       "         [0.61938491],\n",
       "         [0.82139853],\n",
       "         [0.82139853],\n",
       "         [0.48923421],\n",
       "         [0.48923421],\n",
       "         [0.5567691 ],\n",
       "         [0.5567691 ],\n",
       "         [0.34836601],\n",
       "         [0.34836601],\n",
       "         [0.46728151],\n",
       "         [0.46728151],\n",
       "         [0.05823608],\n",
       "         [0.05823608],\n",
       "         [0.70413146],\n",
       "         [0.70413146],\n",
       "         [0.66627055],\n",
       "         [0.66627055],\n",
       "         [0.17969918],\n",
       "         [0.17969918],\n",
       "         [0.53760577],\n",
       "         [0.53760577],\n",
       "         [0.73400181],\n",
       "         [0.73400181],\n",
       "         [0.20256862],\n",
       "         [0.20256862],\n",
       "         [0.08465981],\n",
       "         [0.08465981],\n",
       "         [0.11015696],\n",
       "         [0.11015696],\n",
       "         [0.0078334 ],\n",
       "         [0.0078334 ],\n",
       "         [0.79238559],\n",
       "         [0.79238559],\n",
       "         [0.70640299],\n",
       "         [0.70640299],\n",
       "         [0.52822459],\n",
       "         [0.52822459],\n",
       "         [0.04214913],\n",
       "         [0.04214913],\n",
       "         [0.35862379],\n",
       "         [0.35862379],\n",
       "         [0.53813143],\n",
       "         [0.53813143],\n",
       "         [0.96375603],\n",
       "         [0.96375603],\n",
       "         [0.26822892],\n",
       "         [0.26822892],\n",
       "         [0.70599635],\n",
       "         [0.70599635],\n",
       "         [0.74042263],\n",
       "         [0.74042263],\n",
       "         [0.60915957],\n",
       "         [0.60915957],\n",
       "         [0.66064544],\n",
       "         [0.66064544],\n",
       "         [0.56803074],\n",
       "         [0.56803074],\n",
       "         [0.23570558],\n",
       "         [0.23570558],\n",
       "         [0.92483409],\n",
       "         [0.92483409],\n",
       "         [0.3176717 ],\n",
       "         [0.3176717 ],\n",
       "         [0.30851515],\n",
       "         [0.30851515],\n",
       "         [0.9422008 ],\n",
       "         [0.9422008 ],\n",
       "         [0.09883935],\n",
       "         [0.09883935],\n",
       "         [0.7536583 ],\n",
       "         [0.7536583 ],\n",
       "         [0.14830751],\n",
       "         [0.14830751],\n",
       "         [0.68246309],\n",
       "         [0.68246309],\n",
       "         [0.73228919],\n",
       "         [0.73228919],\n",
       "         [0.10218512],\n",
       "         [0.10218512],\n",
       "         [0.6377322 ],\n",
       "         [0.6377322 ],\n",
       "         [0.47901911],\n",
       "         [0.47901911],\n",
       "         [0.3154068 ],\n",
       "         [0.3154068 ],\n",
       "         [0.31233486],\n",
       "         [0.31233486],\n",
       "         [0.40483708],\n",
       "         [0.40483708],\n",
       "         [0.8712759 ],\n",
       "         [0.8712759 ],\n",
       "         [0.24617647],\n",
       "         [0.24617647],\n",
       "         [0.05862357],\n",
       "         [0.05862357],\n",
       "         [0.21586758],\n",
       "         [0.21586758],\n",
       "         [0.26054559],\n",
       "         [0.26054559],\n",
       "         [0.44326186],\n",
       "         [0.44326186],\n",
       "         [0.29396539],\n",
       "         [0.29396539],\n",
       "         [0.82616924],\n",
       "         [0.82616924],\n",
       "         [0.33068526],\n",
       "         [0.33068526],\n",
       "         [0.50749015],\n",
       "         [0.50749015],\n",
       "         [0.19966715],\n",
       "         [0.19966715],\n",
       "         [0.08821726],\n",
       "         [0.08821726],\n",
       "         [0.53471206],\n",
       "         [0.53471206],\n",
       "         [0.65008711],\n",
       "         [0.65008711],\n",
       "         [0.41355459],\n",
       "         [0.41355459],\n",
       "         [0.48907955],\n",
       "         [0.48907955],\n",
       "         [0.97232827],\n",
       "         [0.97232827],\n",
       "         [0.9156384 ],\n",
       "         [0.9156384 ],\n",
       "         [0.47541247],\n",
       "         [0.47541247],\n",
       "         [0.47946304],\n",
       "         [0.47946304],\n",
       "         [0.54848857],\n",
       "         [0.54848857],\n",
       "         [0.77100418],\n",
       "         [0.77100418],\n",
       "         [0.38591595],\n",
       "         [0.38591595]])}}"
      ]
     },
     "execution_count": 1,
     "metadata": {},
     "output_type": "execute_result"
    }
   ],
   "source": [
    "ds = load_by_id(run_id_a)\n",
    "ds.get_parameter_data('x1')"
   ]
  },
  {
   "cell_type": "code",
   "execution_count": null,
   "metadata": {},
   "outputs": [],
   "source": []
  }
 ],
 "metadata": {
  "kernelspec": {
   "display_name": "Python 3",
   "language": "python",
   "name": "python3"
  },
  "language_info": {
   "codemirror_mode": {
    "name": "ipython",
    "version": 3
   },
   "file_extension": ".py",
   "mimetype": "text/x-python",
   "name": "python",
   "nbconvert_exporter": "python",
   "pygments_lexer": "ipython3",
   "version": "3.7.7"
  },
  "nbsphinx": {
   "timeout": 600
  },
  "toc": {
   "base_numbering": 1,
   "nav_menu": {},
   "number_sections": true,
   "sideBar": true,
   "skip_h1_title": false,
   "title_cell": "Table of Contents",
   "title_sidebar": "Contents",
   "toc_cell": false,
   "toc_position": {},
   "toc_section_display": true,
   "toc_window_display": false
  },
  "varInspector": {
   "cols": {
    "lenName": 16,
    "lenType": 16,
    "lenVar": 40
   },
   "kernels_config": {
    "python": {
     "delete_cmd_postfix": "",
     "delete_cmd_prefix": "del ",
     "library": "var_list.py",
     "varRefreshCmd": "print(var_dic_list())"
    },
    "r": {
     "delete_cmd_postfix": ") ",
     "delete_cmd_prefix": "rm(",
     "library": "var_list.r",
     "varRefreshCmd": "cat(var_dic_list()) "
    }
   },
   "types_to_exclude": [
    "module",
    "function",
    "builtin_function_or_method",
    "instance",
    "_Feature"
   ],
   "window_display": false
  }
 },
 "nbformat": 4,
 "nbformat_minor": 2
}
