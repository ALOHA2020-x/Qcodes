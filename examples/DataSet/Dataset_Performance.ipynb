{
 "cells": [
  {
   "cell_type": "markdown",
   "metadata": {},
   "source": [
    "# DataSet Performance\n",
    "\n",
    "This notebook shows the trade-off between inserting data into a database row-by-row and as binary blobs. Inserting the data row-by-row means that we have direct access to all the data and may perform queries directly on the values of the data. On the other hand, as we shall see, this is much slower than inserting the data directly as binary blobs."
   ]
  },
  {
   "cell_type": "markdown",
   "metadata": {},
   "source": [
    "First, we choose a new location for the database to ensure that we don't add a bunch of benchmarking data to the default one."
   ]
  },
  {
   "cell_type": "code",
   "execution_count": 1,
   "metadata": {
    "execution": {
     "iopub.execute_input": "2020-11-02T07:57:59.927854Z",
     "iopub.status.busy": "2020-11-02T07:57:59.926931Z",
     "iopub.status.idle": "2020-11-02T07:58:00.950506Z",
     "shell.execute_reply": "2020-11-02T07:58:00.949866Z"
    }
   },
   "outputs": [
    {
     "name": "stdout",
     "output_type": "stream",
     "text": [
      "Logging hadn't been started.\n",
      "Activating auto-logging. Current session state plus future input saved.\n",
      "Filename       : /home/vsts/.qcodes/logs/command_history.log\n",
      "Mode           : append\n",
      "Output logging : True\n",
      "Raw input log  : False\n",
      "Timestamping   : True\n",
      "State          : active\n"
     ]
    },
    {
     "name": "stdout",
     "output_type": "stream",
     "text": [
      "Qcodes Logfile : /home/vsts/.qcodes/logs/201102-14384-qcodes.log\n"
     ]
    }
   ],
   "source": [
    "import os\n",
    "cwd = os.getcwd()\n",
    "import qcodes as qc\n",
    "qc.config[\"core\"][\"db_location\"] = os.path.join(cwd, 'testing.db')\n"
   ]
  },
  {
   "cell_type": "code",
   "execution_count": 2,
   "metadata": {
    "execution": {
     "iopub.execute_input": "2020-11-02T07:58:00.957290Z",
     "iopub.status.busy": "2020-11-02T07:58:00.956408Z",
     "iopub.status.idle": "2020-11-02T07:58:01.142356Z",
     "shell.execute_reply": "2020-11-02T07:58:01.141181Z"
    }
   },
   "outputs": [],
   "source": [
    "%matplotlib inline\n",
    "import time\n",
    "import matplotlib.pyplot as plt\n",
    "import numpy as np\n",
    "\n",
    "import qcodes as qc\n",
    "from qcodes.instrument.parameter import ManualParameter\n",
    "from qcodes.dataset.experiment_container import (Experiment,\n",
    "                                                 load_last_experiment,\n",
    "                                                 new_experiment)\n",
    "from qcodes.dataset.sqlite.database import initialise_database\n",
    "from qcodes import load_or_create_experiment\n",
    "from qcodes.dataset.measurements import Measurement"
   ]
  },
  {
   "cell_type": "code",
   "execution_count": 3,
   "metadata": {
    "execution": {
     "iopub.execute_input": "2020-11-02T07:58:01.146199Z",
     "iopub.status.busy": "2020-11-02T07:58:01.145579Z",
     "iopub.status.idle": "2020-11-02T07:58:01.261609Z",
     "shell.execute_reply": "2020-11-02T07:58:01.261060Z"
    }
   },
   "outputs": [
    {
     "name": "stdout",
     "output_type": "stream",
     "text": [
      "\r",
      "0it [00:00, ?it/s]"
     ]
    },
    {
     "name": "stdout",
     "output_type": "stream",
     "text": [
      "\r",
      "Upgrading database; v0 -> v1: : 0it [00:00, ?it/s]"
     ]
    },
    {
     "name": "stdout",
     "output_type": "stream",
     "text": [
      "\r",
      "Upgrading database; v0 -> v1: : 0it [00:00, ?it/s]"
     ]
    },
    {
     "name": "stdout",
     "output_type": "stream",
     "text": [
      "\n",
      "\r",
      "  0%|          | 0/1 [00:00<?, ?it/s]"
     ]
    },
    {
     "name": "stdout",
     "output_type": "stream",
     "text": [
      "\r",
      "Upgrading database; v1 -> v2:   0%|          | 0/1 [00:00<?, ?it/s]"
     ]
    },
    {
     "name": "stdout",
     "output_type": "stream",
     "text": [
      "\r",
      "Upgrading database; v1 -> v2: 100%|██████████| 1/1 [00:00<00:00, 1279.92it/s]"
     ]
    },
    {
     "name": "stdout",
     "output_type": "stream",
     "text": [
      "\n",
      "\r",
      "0it [00:00, ?it/s]"
     ]
    },
    {
     "name": "stdout",
     "output_type": "stream",
     "text": [
      "\r",
      "Upgrading database; v2 -> v3: : 0it [00:00, ?it/s]"
     ]
    },
    {
     "name": "stdout",
     "output_type": "stream",
     "text": [
      "\r",
      "Upgrading database; v2 -> v3: : 0it [00:00, ?it/s]"
     ]
    },
    {
     "name": "stdout",
     "output_type": "stream",
     "text": [
      "\n",
      "\r",
      "0it [00:00, ?it/s]"
     ]
    },
    {
     "name": "stdout",
     "output_type": "stream",
     "text": [
      "\r",
      "Upgrading database; v3 -> v4: : 0it [00:00, ?it/s]"
     ]
    },
    {
     "name": "stdout",
     "output_type": "stream",
     "text": [
      "\r",
      "Upgrading database; v3 -> v4: : 0it [00:00, ?it/s]"
     ]
    },
    {
     "name": "stdout",
     "output_type": "stream",
     "text": [
      "\n",
      "\r",
      "  0%|          | 0/1 [00:00<?, ?it/s]"
     ]
    },
    {
     "name": "stdout",
     "output_type": "stream",
     "text": [
      "\r",
      "Upgrading database; v4 -> v5:   0%|          | 0/1 [00:00<?, ?it/s]"
     ]
    },
    {
     "name": "stdout",
     "output_type": "stream",
     "text": [
      "\r",
      "Upgrading database; v4 -> v5: 100%|██████████| 1/1 [00:00<00:00, 447.20it/s]"
     ]
    },
    {
     "name": "stdout",
     "output_type": "stream",
     "text": [
      "\n",
      "\r",
      "0it [00:00, ?it/s]"
     ]
    },
    {
     "name": "stdout",
     "output_type": "stream",
     "text": [
      "\r",
      "Upgrading database; v5 -> v6: : 0it [00:00, ?it/s]"
     ]
    },
    {
     "name": "stdout",
     "output_type": "stream",
     "text": [
      "\r",
      "Upgrading database; v5 -> v6: : 0it [00:00, ?it/s]"
     ]
    },
    {
     "name": "stdout",
     "output_type": "stream",
     "text": [
      "\n",
      "\r",
      "  0%|          | 0/1 [00:00<?, ?it/s]"
     ]
    },
    {
     "name": "stdout",
     "output_type": "stream",
     "text": [
      "\r",
      "Upgrading database; v6 -> v7:   0%|          | 0/1 [00:00<?, ?it/s]"
     ]
    },
    {
     "name": "stdout",
     "output_type": "stream",
     "text": [
      "\r",
      "Upgrading database; v6 -> v7: 100%|██████████| 1/1 [00:00<00:00, 525.60it/s]"
     ]
    },
    {
     "name": "stdout",
     "output_type": "stream",
     "text": [
      "\n",
      "\r",
      "  0%|          | 0/1 [00:00<?, ?it/s]"
     ]
    },
    {
     "name": "stdout",
     "output_type": "stream",
     "text": [
      "\r",
      "Upgrading database; v7 -> v8:   0%|          | 0/1 [00:00<?, ?it/s]"
     ]
    },
    {
     "name": "stdout",
     "output_type": "stream",
     "text": [
      "\r",
      "Upgrading database; v7 -> v8: 100%|██████████| 1/1 [00:00<00:00, 477.28it/s]"
     ]
    },
    {
     "name": "stdout",
     "output_type": "stream",
     "text": [
      "\n",
      "\r",
      "  0%|          | 0/1 [00:00<?, ?it/s]"
     ]
    },
    {
     "name": "stdout",
     "output_type": "stream",
     "text": [
      "\r",
      "Upgrading database; v8 -> v9:   0%|          | 0/1 [00:00<?, ?it/s]"
     ]
    },
    {
     "name": "stdout",
     "output_type": "stream",
     "text": [
      "\r",
      "Upgrading database; v8 -> v9: 100%|██████████| 1/1 [00:00<00:00, 362.11it/s]"
     ]
    },
    {
     "name": "stdout",
     "output_type": "stream",
     "text": [
      "\n"
     ]
    }
   ],
   "source": [
    "initialise_database()\n",
    "exp = load_or_create_experiment(experiment_name='tutorial_exp', sample_name=\"no sample\")"
   ]
  },
  {
   "cell_type": "markdown",
   "metadata": {},
   "source": [
    "Here, we define a simple function to benchmark the time it takes to insert n points with either numeric or array data type.\n",
    "We will compare both the time used to call ``add_result`` and the time used for the full measurement."
   ]
  },
  {
   "cell_type": "code",
   "execution_count": 4,
   "metadata": {
    "execution": {
     "iopub.execute_input": "2020-11-02T07:58:01.271218Z",
     "iopub.status.busy": "2020-11-02T07:58:01.269967Z",
     "iopub.status.idle": "2020-11-02T07:58:01.271865Z",
     "shell.execute_reply": "2020-11-02T07:58:01.272329Z"
    }
   },
   "outputs": [],
   "source": [
    "def insert_data(paramtype, npoints, nreps=1):\n",
    "\n",
    "    meas = Measurement(exp=exp)\n",
    "\n",
    "    x1 = ManualParameter('x1')\n",
    "    x2 = ManualParameter('x2')\n",
    "    x3 = ManualParameter('x3')\n",
    "    y1 = ManualParameter('y1')\n",
    "    y2 = ManualParameter('y2')\n",
    "\n",
    "    meas.register_parameter(x1, paramtype=paramtype)\n",
    "    meas.register_parameter(x2, paramtype=paramtype)\n",
    "    meas.register_parameter(x3, paramtype=paramtype)\n",
    "    meas.register_parameter(y1, setpoints=[x1, x2, x3],\n",
    "                            paramtype=paramtype)\n",
    "    meas.register_parameter(y2, setpoints=[x1, x2, x3],\n",
    "                            paramtype=paramtype)\n",
    "    start = time.perf_counter()\n",
    "    with meas.run() as datasaver:\n",
    "        start_adding = time.perf_counter()\n",
    "        for i in range(nreps):\n",
    "            datasaver.add_result((x1, np.random.rand(npoints)),\n",
    "                                 (x2, np.random.rand(npoints)),\n",
    "                                 (x3, np.random.rand(npoints)),\n",
    "                                 (y1, np.random.rand(npoints)),\n",
    "                                 (y2, np.random.rand(npoints)))\n",
    "        stop_adding = time.perf_counter()\n",
    "        run_id = datasaver.run_id\n",
    "    stop = time.perf_counter()\n",
    "    tot_time = stop - start\n",
    "    add_time = stop_adding - start_adding\n",
    "    return tot_time, add_time, run_id"
   ]
  },
  {
   "cell_type": "markdown",
   "metadata": {},
   "source": [
    "## Comparison between numeric/array data and binary blob"
   ]
  },
  {
   "cell_type": "markdown",
   "metadata": {},
   "source": [
    "### Case1: Short experiment time"
   ]
  },
  {
   "cell_type": "code",
   "execution_count": 5,
   "metadata": {
    "execution": {
     "iopub.execute_input": "2020-11-02T07:58:01.279266Z",
     "iopub.status.busy": "2020-11-02T07:58:01.278605Z",
     "iopub.status.idle": "2020-11-02T07:58:02.075656Z",
     "shell.execute_reply": "2020-11-02T07:58:02.075154Z"
    }
   },
   "outputs": [
    {
     "name": "stdout",
     "output_type": "stream",
     "text": [
      "Starting experimental run with id: 1. \n",
      "Starting experimental run with id: 2. \n",
      "Starting experimental run with id: 3. \n",
      "Starting experimental run with id: 4. \n",
      "Starting experimental run with id: 5. \n"
     ]
    },
    {
     "name": "stdout",
     "output_type": "stream",
     "text": [
      "Starting experimental run with id: 6. \n"
     ]
    },
    {
     "name": "stdout",
     "output_type": "stream",
     "text": [
      "Starting experimental run with id: 7. \n"
     ]
    },
    {
     "name": "stdout",
     "output_type": "stream",
     "text": [
      "Starting experimental run with id: 8. \n",
      "Starting experimental run with id: 9. \n"
     ]
    },
    {
     "name": "stdout",
     "output_type": "stream",
     "text": [
      "Starting experimental run with id: 10. \n",
      "Starting experimental run with id: 11. \n"
     ]
    },
    {
     "name": "stdout",
     "output_type": "stream",
     "text": [
      "Starting experimental run with id: 12. \n",
      "Starting experimental run with id: 13. \n"
     ]
    },
    {
     "name": "stdout",
     "output_type": "stream",
     "text": [
      "Starting experimental run with id: 14. \n"
     ]
    }
   ],
   "source": [
    "sizes = [1,500,1000,2000,3000,4000,5000]\n",
    "t_numeric = []\n",
    "t_numeric_add = []\n",
    "t_array = []\n",
    "t_array_add = []\n",
    "for size in sizes:\n",
    "    tn, tna, run_id_n =  insert_data('numeric', size)\n",
    "    t_numeric.append(tn)\n",
    "    t_numeric_add.append(tna)\n",
    "\n",
    "    ta, taa, run_id_a =  insert_data('array', size)\n",
    "    t_array.append(ta)\n",
    "    t_array_add.append(taa)"
   ]
  },
  {
   "cell_type": "code",
   "execution_count": 6,
   "metadata": {
    "execution": {
     "iopub.execute_input": "2020-11-02T07:58:02.093823Z",
     "iopub.status.busy": "2020-11-02T07:58:02.093241Z",
     "iopub.status.idle": "2020-11-02T07:58:02.271749Z",
     "shell.execute_reply": "2020-11-02T07:58:02.272269Z"
    }
   },
   "outputs": [
    {
     "data": {
      "image/png": "[encoded data removed]",
      "text/plain": [
       "<Figure size 432x288 with 1 Axes>"
      ]
     },
     "metadata": {
      "needs_background": "light"
     },
     "output_type": "display_data"
    }
   ],
   "source": [
    "fig, ax = plt.subplots(1,1)\n",
    "ax.plot(sizes, t_numeric, 'o-', label='Inserting row-by-row')\n",
    "ax.plot(sizes, t_numeric_add, 'o-', label='Inserting row-by-row: add_result only')\n",
    "ax.plot(sizes, t_array, 'd-', label='Inserting as binary blob')\n",
    "ax.plot(sizes, t_array_add, 'd-', label='Inserting as binary blob: add_result only')\n",
    "ax.legend()\n",
    "ax.set_xlabel('Array length')\n",
    "ax.set_ylabel('Time (s)')\n",
    "fig.tight_layout()"
   ]
  },
  {
   "cell_type": "markdown",
   "metadata": {},
   "source": [
    "As shown in the latter figure, the time to setup and and close the experiment is approximately 0.4 sec. In case of small array sizes, the difference between inserting values of data as arrays and inserting them row-by-row is relatively unimportant. At larger array sizes, i.e. above 10000 points, the cost of writing data as individual datapoints starts to become important.\n"
   ]
  },
  {
   "cell_type": "markdown",
   "metadata": {},
   "source": [
    "### Case2: Long experiment time "
   ]
  },
  {
   "cell_type": "code",
   "execution_count": 7,
   "metadata": {
    "execution": {
     "iopub.execute_input": "2020-11-02T07:58:02.274865Z",
     "iopub.status.busy": "2020-11-02T07:58:02.274405Z",
     "iopub.status.idle": "2020-11-02T07:59:00.626607Z",
     "shell.execute_reply": "2020-11-02T07:59:00.625707Z"
    }
   },
   "outputs": [
    {
     "name": "stdout",
     "output_type": "stream",
     "text": [
      "Starting experimental run with id: 15. \n",
      "Starting experimental run with id: 16. \n",
      "Starting experimental run with id: 17. \n"
     ]
    },
    {
     "name": "stdout",
     "output_type": "stream",
     "text": [
      "Starting experimental run with id: 18. \n",
      "Starting experimental run with id: 19. \n"
     ]
    },
    {
     "name": "stdout",
     "output_type": "stream",
     "text": [
      "Starting experimental run with id: 20. \n"
     ]
    },
    {
     "name": "stdout",
     "output_type": "stream",
     "text": [
      "Starting experimental run with id: 21. \n"
     ]
    },
    {
     "name": "stdout",
     "output_type": "stream",
     "text": [
      "Starting experimental run with id: 22. \n"
     ]
    },
    {
     "name": "stdout",
     "output_type": "stream",
     "text": [
      "Starting experimental run with id: 23. \n"
     ]
    },
    {
     "name": "stdout",
     "output_type": "stream",
     "text": [
      "Starting experimental run with id: 24. \n"
     ]
    },
    {
     "name": "stdout",
     "output_type": "stream",
     "text": [
      "Starting experimental run with id: 25. \n"
     ]
    },
    {
     "name": "stdout",
     "output_type": "stream",
     "text": [
      "Starting experimental run with id: 26. \n"
     ]
    },
    {
     "name": "stdout",
     "output_type": "stream",
     "text": [
      "Starting experimental run with id: 27. \n"
     ]
    },
    {
     "name": "stdout",
     "output_type": "stream",
     "text": [
      "Starting experimental run with id: 28. \n"
     ]
    }
   ],
   "source": [
    "sizes = [1,500,1000,2000,3000,4000,5000]\n",
    "nreps = 100\n",
    "t_numeric = []\n",
    "t_numeric_add = []\n",
    "t_numeric_run_ids = []\n",
    "t_array = []\n",
    "t_array_add = []\n",
    "t_array_run_ids = []\n",
    "for size in sizes:\n",
    "    tn, tna, run_id_n =  insert_data('numeric', size, nreps=nreps)\n",
    "    t_numeric.append(tn)\n",
    "    t_numeric_add.append(tna)\n",
    "    t_numeric_run_ids.append(run_id_n)\n",
    "\n",
    "    ta, taa, run_id_a =  insert_data('array', size, nreps=nreps)\n",
    "    t_array.append(ta)\n",
    "    t_array_add.append(taa)\n",
    "    t_array_run_ids.append(run_id_a)"
   ]
  },
  {
   "cell_type": "code",
   "execution_count": 8,
   "metadata": {
    "execution": {
     "iopub.execute_input": "2020-11-02T07:59:00.666428Z",
     "iopub.status.busy": "2020-11-02T07:59:00.656350Z",
     "iopub.status.idle": "2020-11-02T07:59:00.826071Z",
     "shell.execute_reply": "2020-11-02T07:59:00.826634Z"
    },
    "scrolled": true
   },
   "outputs": [
    {
     "data": {
      "image/png": "[encoded data removed]",
      "text/plain": [
       "<Figure size 432x288 with 1 Axes>"
      ]
     },
     "metadata": {
      "needs_background": "light"
     },
     "output_type": "display_data"
    }
   ],
   "source": [
    "fig, ax = plt.subplots(1,1)\n",
    "ax.plot(sizes, t_numeric, 'o-', label='Inserting row-by-row')\n",
    "ax.plot(sizes, t_numeric_add, 'o-', label='Inserting row-by-row: add_result only')\n",
    "ax.plot(sizes, t_array, 'd-', label='Inserting as binary blob')\n",
    "ax.plot(sizes, t_array_add, 'd-', label='Inserting as binary blob: add_result only')\n",
    "ax.legend()\n",
    "ax.set_xlabel('Array length')\n",
    "ax.set_ylabel('Time (s)')\n",
    "fig.tight_layout()"
   ]
  },
  {
   "cell_type": "markdown",
   "metadata": {},
   "source": [
    "However, as we increase the length of the experiment, as seen here by repeating the insertion 100 times, we see a big difference between inserting values of the data row-by-row and inserting it as a binary blob."
   ]
  },
  {
   "cell_type": "markdown",
   "metadata": {},
   "source": [
    "## Loading the data "
   ]
  },
  {
   "cell_type": "code",
   "execution_count": 9,
   "metadata": {
    "execution": {
     "iopub.execute_input": "2020-11-02T07:59:00.829620Z",
     "iopub.status.busy": "2020-11-02T07:59:00.828727Z",
     "iopub.status.idle": "2020-11-02T07:59:00.833136Z",
     "shell.execute_reply": "2020-11-02T07:59:00.832656Z"
    }
   },
   "outputs": [],
   "source": [
    "from qcodes.dataset.data_set import load_by_id\n",
    "from qcodes.dataset.data_export import get_data_by_id"
   ]
  },
  {
   "cell_type": "markdown",
   "metadata": {},
   "source": [
    "As usual you can load the data by using the ``load_by_id`` function but you will notice that the different storage methods\n",
    "are reflected in shape of the data as it is retrieved. "
   ]
  },
  {
   "cell_type": "code",
   "execution_count": 10,
   "metadata": {
    "execution": {
     "iopub.execute_input": "2020-11-02T07:59:00.836847Z",
     "iopub.status.busy": "2020-11-02T07:59:00.836260Z",
     "iopub.status.idle": "2020-11-02T07:59:00.838457Z",
     "shell.execute_reply": "2020-11-02T07:59:00.837997Z"
    }
   },
   "outputs": [],
   "source": [
    "run_id_n = t_numeric_run_ids[0]\n",
    "run_id_a = t_array_run_ids[0]"
   ]
  },
  {
   "cell_type": "code",
   "execution_count": 11,
   "metadata": {
    "execution": {
     "iopub.execute_input": "2020-11-02T07:59:00.841411Z",
     "iopub.status.busy": "2020-11-02T07:59:00.840891Z",
     "iopub.status.idle": "2020-11-02T07:59:00.850455Z",
     "shell.execute_reply": "2020-11-02T07:59:00.849994Z"
    },
    "scrolled": true
   },
   "outputs": [
    {
     "data": {
      "text/plain": [
       "{'x1': {'x1': array([0.64860951, 0.64860951, 0.26864958, 0.26864958, 0.57414782,\n",
       "         0.57414782, 0.48515311, 0.48515311, 0.57805456, 0.57805456,\n",
       "         0.15567413, 0.15567413, 0.25405398, 0.25405398, 0.30749349,\n",
       "         0.30749349, 0.17143096, 0.17143096, 0.47052407, 0.47052407,\n",
       "         0.87883088, 0.87883088, 0.30182137, 0.30182137, 0.97738873,\n",
       "         0.97738873, 0.01690059, 0.01690059, 0.64505315, 0.64505315,\n",
       "         0.29731694, 0.29731694, 0.98897973, 0.98897973, 0.67375626,\n",
       "         0.67375626, 0.48673343, 0.48673343, 0.32167919, 0.32167919,\n",
       "         0.93494584, 0.93494584, 0.1117898 , 0.1117898 , 0.55053944,\n",
       "         0.55053944, 0.67796785, 0.67796785, 0.21879107, 0.21879107,\n",
       "         0.69007064, 0.69007064, 0.88972156, 0.88972156, 0.50616891,\n",
       "         0.50616891, 0.30108035, 0.30108035, 0.19585957, 0.19585957,\n",
       "         0.90517393, 0.90517393, 0.99001777, 0.99001777, 0.4023413 ,\n",
       "         0.4023413 , 0.03487718, 0.03487718, 0.7204343 , 0.7204343 ,\n",
       "         0.98240701, 0.98240701, 0.09950631, 0.09950631, 0.63982748,\n",
       "         0.63982748, 0.47050952, 0.47050952, 0.09440713, 0.09440713,\n",
       "         0.59397904, 0.59397904, 0.27109459, 0.27109459, 0.1212963 ,\n",
       "         0.1212963 , 0.5322448 , 0.5322448 , 0.34089912, 0.34089912,\n",
       "         0.51522902, 0.51522902, 0.97443141, 0.97443141, 0.76843143,\n",
       "         0.76843143, 0.46165075, 0.46165075, 0.16482982, 0.16482982,\n",
       "         0.81275625, 0.81275625, 0.16718493, 0.16718493, 0.11941794,\n",
       "         0.11941794, 0.17992894, 0.17992894, 0.98192807, 0.98192807,\n",
       "         0.9756699 , 0.9756699 , 0.96427388, 0.96427388, 0.27041022,\n",
       "         0.27041022, 0.24479463, 0.24479463, 0.4478965 , 0.4478965 ,\n",
       "         0.28272432, 0.28272432, 0.1402646 , 0.1402646 , 0.17459975,\n",
       "         0.17459975, 0.34243537, 0.34243537, 0.06488995, 0.06488995,\n",
       "         0.21211961, 0.21211961, 0.32769226, 0.32769226, 0.42873969,\n",
       "         0.42873969, 0.0664098 , 0.0664098 , 0.31592309, 0.31592309,\n",
       "         0.17744299, 0.17744299, 0.03841234, 0.03841234, 0.38257745,\n",
       "         0.38257745, 0.79759245, 0.79759245, 0.63830365, 0.63830365,\n",
       "         0.37752559, 0.37752559, 0.97655371, 0.97655371, 0.09894844,\n",
       "         0.09894844, 0.07848909, 0.07848909, 0.04035509, 0.04035509,\n",
       "         0.34389147, 0.34389147, 0.37989764, 0.37989764, 0.49878794,\n",
       "         0.49878794, 0.29931284, 0.29931284, 0.67724804, 0.67724804,\n",
       "         0.89248416, 0.89248416, 0.63002011, 0.63002011, 0.99973369,\n",
       "         0.99973369, 0.63326628, 0.63326628, 0.33380407, 0.33380407,\n",
       "         0.41777523, 0.41777523, 0.57673033, 0.57673033, 0.1785012 ,\n",
       "         0.1785012 , 0.59954581, 0.59954581, 0.5170646 , 0.5170646 ,\n",
       "         0.9664254 , 0.9664254 , 0.61886871, 0.61886871, 0.39801195,\n",
       "         0.39801195, 0.85117137, 0.85117137, 0.73179562, 0.73179562])}}"
      ]
     },
     "execution_count": 1,
     "metadata": {},
     "output_type": "execute_result"
    }
   ],
   "source": [
    "ds = load_by_id(run_id_n)\n",
    "ds.get_parameter_data('x1')"
   ]
  },
  {
   "cell_type": "markdown",
   "metadata": {},
   "source": [
    "And a dataset stored as binary arrays"
   ]
  },
  {
   "cell_type": "code",
   "execution_count": 12,
   "metadata": {
    "execution": {
     "iopub.execute_input": "2020-11-02T07:59:00.853859Z",
     "iopub.status.busy": "2020-11-02T07:59:00.853256Z",
     "iopub.status.idle": "2020-11-02T07:59:00.907214Z",
     "shell.execute_reply": "2020-11-02T07:59:00.908036Z"
    },
    "scrolled": true
   },
   "outputs": [
    {
     "data": {
      "text/plain": [
       "{'x1': {'x1': array([[0.06227536],\n",
       "         [0.06227536],\n",
       "         [0.39356093],\n",
       "         [0.39356093],\n",
       "         [0.05464094],\n",
       "         [0.05464094],\n",
       "         [0.01288927],\n",
       "         [0.01288927],\n",
       "         [0.74204895],\n",
       "         [0.74204895],\n",
       "         [0.40203866],\n",
       "         [0.40203866],\n",
       "         [0.04785447],\n",
       "         [0.04785447],\n",
       "         [0.69495385],\n",
       "         [0.69495385],\n",
       "         [0.33792311],\n",
       "         [0.33792311],\n",
       "         [0.02557155],\n",
       "         [0.02557155],\n",
       "         [0.34252833],\n",
       "         [0.34252833],\n",
       "         [0.74439044],\n",
       "         [0.74439044],\n",
       "         [0.6708591 ],\n",
       "         [0.6708591 ],\n",
       "         [0.06563839],\n",
       "         [0.06563839],\n",
       "         [0.68300704],\n",
       "         [0.68300704],\n",
       "         [0.40340804],\n",
       "         [0.40340804],\n",
       "         [0.58842305],\n",
       "         [0.58842305],\n",
       "         [0.35887368],\n",
       "         [0.35887368],\n",
       "         [0.3977353 ],\n",
       "         [0.3977353 ],\n",
       "         [0.30533946],\n",
       "         [0.30533946],\n",
       "         [0.10479345],\n",
       "         [0.10479345],\n",
       "         [0.3425133 ],\n",
       "         [0.3425133 ],\n",
       "         [0.77917927],\n",
       "         [0.77917927],\n",
       "         [0.991136  ],\n",
       "         [0.991136  ],\n",
       "         [0.13242045],\n",
       "         [0.13242045],\n",
       "         [0.4350477 ],\n",
       "         [0.4350477 ],\n",
       "         [0.94743751],\n",
       "         [0.94743751],\n",
       "         [0.23889418],\n",
       "         [0.23889418],\n",
       "         [0.26404402],\n",
       "         [0.26404402],\n",
       "         [0.11323406],\n",
       "         [0.11323406],\n",
       "         [0.184172  ],\n",
       "         [0.184172  ],\n",
       "         [0.4158051 ],\n",
       "         [0.4158051 ],\n",
       "         [0.45479934],\n",
       "         [0.45479934],\n",
       "         [0.10374116],\n",
       "         [0.10374116],\n",
       "         [0.34509229],\n",
       "         [0.34509229],\n",
       "         [0.95952982],\n",
       "         [0.95952982],\n",
       "         [0.16148481],\n",
       "         [0.16148481],\n",
       "         [0.34164909],\n",
       "         [0.34164909],\n",
       "         [0.44253015],\n",
       "         [0.44253015],\n",
       "         [0.34560636],\n",
       "         [0.34560636],\n",
       "         [0.83509226],\n",
       "         [0.83509226],\n",
       "         [0.49051753],\n",
       "         [0.49051753],\n",
       "         [0.48165328],\n",
       "         [0.48165328],\n",
       "         [0.47229472],\n",
       "         [0.47229472],\n",
       "         [0.46542384],\n",
       "         [0.46542384],\n",
       "         [0.88463133],\n",
       "         [0.88463133],\n",
       "         [0.04914589],\n",
       "         [0.04914589],\n",
       "         [0.28826343],\n",
       "         [0.28826343],\n",
       "         [0.95787979],\n",
       "         [0.95787979],\n",
       "         [0.02407568],\n",
       "         [0.02407568],\n",
       "         [0.56977144],\n",
       "         [0.56977144],\n",
       "         [0.82471675],\n",
       "         [0.82471675],\n",
       "         [0.76879156],\n",
       "         [0.76879156],\n",
       "         [0.4666334 ],\n",
       "         [0.4666334 ],\n",
       "         [0.6310864 ],\n",
       "         [0.6310864 ],\n",
       "         [0.8570227 ],\n",
       "         [0.8570227 ],\n",
       "         [0.34219741],\n",
       "         [0.34219741],\n",
       "         [0.84719892],\n",
       "         [0.84719892],\n",
       "         [0.19646788],\n",
       "         [0.19646788],\n",
       "         [0.30481177],\n",
       "         [0.30481177],\n",
       "         [0.82454748],\n",
       "         [0.82454748],\n",
       "         [0.84979781],\n",
       "         [0.84979781],\n",
       "         [0.16316407],\n",
       "         [0.16316407],\n",
       "         [0.75072556],\n",
       "         [0.75072556],\n",
       "         [0.94995923],\n",
       "         [0.94995923],\n",
       "         [0.80359586],\n",
       "         [0.80359586],\n",
       "         [0.14686546],\n",
       "         [0.14686546],\n",
       "         [0.08416998],\n",
       "         [0.08416998],\n",
       "         [0.00769616],\n",
       "         [0.00769616],\n",
       "         [0.78878742],\n",
       "         [0.78878742],\n",
       "         [0.6783386 ],\n",
       "         [0.6783386 ],\n",
       "         [0.33312091],\n",
       "         [0.33312091],\n",
       "         [0.24481529],\n",
       "         [0.24481529],\n",
       "         [0.92313011],\n",
       "         [0.92313011],\n",
       "         [0.49760041],\n",
       "         [0.49760041],\n",
       "         [0.76948017],\n",
       "         [0.76948017],\n",
       "         [0.76873602],\n",
       "         [0.76873602],\n",
       "         [0.51971198],\n",
       "         [0.51971198],\n",
       "         [0.01504289],\n",
       "         [0.01504289],\n",
       "         [0.58736628],\n",
       "         [0.58736628],\n",
       "         [0.20675916],\n",
       "         [0.20675916],\n",
       "         [0.62971531],\n",
       "         [0.62971531],\n",
       "         [0.09648047],\n",
       "         [0.09648047],\n",
       "         [0.77246334],\n",
       "         [0.77246334],\n",
       "         [0.82788351],\n",
       "         [0.82788351],\n",
       "         [0.94481094],\n",
       "         [0.94481094],\n",
       "         [0.56317774],\n",
       "         [0.56317774],\n",
       "         [0.21415822],\n",
       "         [0.21415822],\n",
       "         [0.55110417],\n",
       "         [0.55110417],\n",
       "         [0.63784982],\n",
       "         [0.63784982],\n",
       "         [0.08446558],\n",
       "         [0.08446558],\n",
       "         [0.08955287],\n",
       "         [0.08955287],\n",
       "         [0.02583929],\n",
       "         [0.02583929],\n",
       "         [0.90041163],\n",
       "         [0.90041163],\n",
       "         [0.9090692 ],\n",
       "         [0.9090692 ],\n",
       "         [0.96421608],\n",
       "         [0.96421608],\n",
       "         [0.39187074],\n",
       "         [0.39187074],\n",
       "         [0.55262079],\n",
       "         [0.55262079],\n",
       "         [0.97883538],\n",
       "         [0.97883538],\n",
       "         [0.80845837],\n",
       "         [0.80845837]])}}"
      ]
     },
     "execution_count": 1,
     "metadata": {},
     "output_type": "execute_result"
    }
   ],
   "source": [
    "ds = load_by_id(run_id_a)\n",
    "ds.get_parameter_data('x1')"
   ]
  },
  {
   "cell_type": "code",
   "execution_count": null,
   "metadata": {},
   "outputs": [],
   "source": []
  }
 ],
 "metadata": {
  "kernelspec": {
   "display_name": "Python 3",
   "language": "python",
   "name": "python3"
  },
  "language_info": {
   "codemirror_mode": {
    "name": "ipython",
    "version": 3
   },
   "file_extension": ".py",
   "mimetype": "text/x-python",
   "name": "python",
   "nbconvert_exporter": "python",
   "pygments_lexer": "ipython3",
   "version": "3.7.9"
  },
  "nbsphinx": {
   "timeout": 600
  },
  "toc": {
   "base_numbering": 1,
   "nav_menu": {},
   "number_sections": true,
   "sideBar": true,
   "skip_h1_title": false,
   "title_cell": "Table of Contents",
   "title_sidebar": "Contents",
   "toc_cell": false,
   "toc_position": {},
   "toc_section_display": true,
   "toc_window_display": false
  },
  "varInspector": {
   "cols": {
    "lenName": 16,
    "lenType": 16,
    "lenVar": 40
   },
   "kernels_config": {
    "python": {
     "delete_cmd_postfix": "",
     "delete_cmd_prefix": "del ",
     "library": "var_list.py",
     "varRefreshCmd": "print(var_dic_list())"
    },
    "r": {
     "delete_cmd_postfix": ") ",
     "delete_cmd_prefix": "rm(",
     "library": "var_list.r",
     "varRefreshCmd": "cat(var_dic_list()) "
    }
   },
   "types_to_exclude": [
    "module",
    "function",
    "builtin_function_or_method",
    "instance",
    "_Feature"
   ],
   "window_display": false
  }
 },
 "nbformat": 4,
 "nbformat_minor": 2
}
