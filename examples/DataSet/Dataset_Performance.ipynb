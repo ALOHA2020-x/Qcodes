{
 "cells": [
  {
   "cell_type": "markdown",
   "metadata": {},
   "source": [
    "# DataSet Performance\n",
    "\n",
    "This notebook shows the trade-off between inserting data into a database row-by-row and as binary blobs. Inserting the data row-by-row means that we have direct access to all the data and may perform queries directly on the values of the data. On the other hand, as we shall see, this is much slower than inserting the data directly as binary blobs."
   ]
  },
  {
   "cell_type": "markdown",
   "metadata": {},
   "source": [
    "First, we choose a new location for the database to ensure that we don't add a bunch of benchmarking data to the default one."
   ]
  },
  {
   "cell_type": "code",
   "execution_count": 1,
   "metadata": {
    "execution": {
     "iopub.execute_input": "2021-04-09T06:18:28.107494Z",
     "iopub.status.busy": "2021-04-09T06:18:28.107048Z",
     "iopub.status.idle": "2021-04-09T06:18:28.978742Z",
     "shell.execute_reply": "2021-04-09T06:18:28.978175Z"
    }
   },
   "outputs": [
    {
     "name": "stdout",
     "output_type": "stream",
     "text": [
      "Logging hadn't been started.\n",
      "Activating auto-logging. Current session state plus future input saved.\n",
      "Filename       : /home/runner/.qcodes/logs/command_history.log\n",
      "Mode           : append\n",
      "Output logging : True\n",
      "Raw input log  : False\n",
      "Timestamping   : True\n",
      "State          : active\n"
     ]
    },
    {
     "name": "stdout",
     "output_type": "stream",
     "text": [
      "Qcodes Logfile : /home/runner/.qcodes/logs/210409-4356-qcodes.log\n"
     ]
    }
   ],
   "source": [
    "import os\n",
    "cwd = os.getcwd()\n",
    "import qcodes as qc\n",
    "qc.config[\"core\"][\"db_location\"] = os.path.join(cwd, 'testing.db')\n"
   ]
  },
  {
   "cell_type": "code",
   "execution_count": 2,
   "metadata": {
    "execution": {
     "iopub.execute_input": "2021-04-09T06:18:28.983961Z",
     "iopub.status.busy": "2021-04-09T06:18:28.983518Z",
     "iopub.status.idle": "2021-04-09T06:18:29.186057Z",
     "shell.execute_reply": "2021-04-09T06:18:29.185499Z"
    }
   },
   "outputs": [],
   "source": [
    "%matplotlib inline\n",
    "import time\n",
    "import matplotlib.pyplot as plt\n",
    "import numpy as np\n",
    "\n",
    "import qcodes as qc\n",
    "from qcodes.instrument.parameter import ManualParameter\n",
    "from qcodes.dataset.experiment_container import (Experiment,\n",
    "                                                 load_last_experiment,\n",
    "                                                 new_experiment)\n",
    "from qcodes.dataset.sqlite.database import initialise_database\n",
    "from qcodes import load_or_create_experiment\n",
    "from qcodes.dataset.measurements import Measurement"
   ]
  },
  {
   "cell_type": "code",
   "execution_count": 3,
   "metadata": {
    "execution": {
     "iopub.execute_input": "2021-04-09T06:18:29.189896Z",
     "iopub.status.busy": "2021-04-09T06:18:29.189101Z",
     "iopub.status.idle": "2021-04-09T06:18:29.239696Z",
     "shell.execute_reply": "2021-04-09T06:18:29.239270Z"
    }
   },
   "outputs": [
    {
     "name": "stdout",
     "output_type": "stream",
     "text": [
      "\r",
      "0it [00:00, ?it/s]"
     ]
    },
    {
     "name": "stdout",
     "output_type": "stream",
     "text": [
      "\r",
      "Upgrading database; v0 -> v1: : 0it [00:00, ?it/s]"
     ]
    },
    {
     "name": "stdout",
     "output_type": "stream",
     "text": [
      "\r",
      "Upgrading database; v0 -> v1: : 0it [00:00, ?it/s]"
     ]
    },
    {
     "name": "stdout",
     "output_type": "stream",
     "text": [
      "\n",
      "\r",
      "  0%|          | 0/1 [00:00<?, ?it/s]"
     ]
    },
    {
     "name": "stdout",
     "output_type": "stream",
     "text": [
      "\r",
      "Upgrading database; v1 -> v2:   0%|          | 0/1 [00:00<?, ?it/s]"
     ]
    },
    {
     "name": "stdout",
     "output_type": "stream",
     "text": [
      "\r",
      "Upgrading database; v1 -> v2: 100%|██████████| 1/1 [00:00<00:00, 808.31it/s]"
     ]
    },
    {
     "name": "stdout",
     "output_type": "stream",
     "text": [
      "\n",
      "\r",
      "0it [00:00, ?it/s]"
     ]
    },
    {
     "name": "stdout",
     "output_type": "stream",
     "text": [
      "\r",
      "Upgrading database; v2 -> v3: : 0it [00:00, ?it/s]"
     ]
    },
    {
     "name": "stdout",
     "output_type": "stream",
     "text": [
      "\r",
      "Upgrading database; v2 -> v3: : 0it [00:00, ?it/s]"
     ]
    },
    {
     "name": "stdout",
     "output_type": "stream",
     "text": [
      "\n",
      "\r",
      "0it [00:00, ?it/s]"
     ]
    },
    {
     "name": "stdout",
     "output_type": "stream",
     "text": [
      "\r",
      "Upgrading database; v3 -> v4: : 0it [00:00, ?it/s]"
     ]
    },
    {
     "name": "stdout",
     "output_type": "stream",
     "text": [
      "\r",
      "Upgrading database; v3 -> v4: : 0it [00:00, ?it/s]"
     ]
    },
    {
     "name": "stdout",
     "output_type": "stream",
     "text": [
      "\n",
      "\r",
      "  0%|          | 0/1 [00:00<?, ?it/s]"
     ]
    },
    {
     "name": "stdout",
     "output_type": "stream",
     "text": [
      "\r",
      "Upgrading database; v4 -> v5:   0%|          | 0/1 [00:00<?, ?it/s]"
     ]
    },
    {
     "name": "stdout",
     "output_type": "stream",
     "text": [
      "\r",
      "Upgrading database; v4 -> v5: 100%|██████████| 1/1 [00:00<00:00, 1288.18it/s]"
     ]
    },
    {
     "name": "stdout",
     "output_type": "stream",
     "text": [
      "\n",
      "\r",
      "0it [00:00, ?it/s]"
     ]
    },
    {
     "name": "stdout",
     "output_type": "stream",
     "text": [
      "\r",
      "Upgrading database; v5 -> v6: : 0it [00:00, ?it/s]"
     ]
    },
    {
     "name": "stdout",
     "output_type": "stream",
     "text": [
      "\r",
      "Upgrading database; v5 -> v6: : 0it [00:00, ?it/s]"
     ]
    },
    {
     "name": "stdout",
     "output_type": "stream",
     "text": [
      "\n",
      "\r",
      "  0%|          | 0/1 [00:00<?, ?it/s]"
     ]
    },
    {
     "name": "stdout",
     "output_type": "stream",
     "text": [
      "\r",
      "Upgrading database; v6 -> v7:   0%|          | 0/1 [00:00<?, ?it/s]"
     ]
    },
    {
     "name": "stdout",
     "output_type": "stream",
     "text": [
      "\r",
      "Upgrading database; v6 -> v7: 100%|██████████| 1/1 [00:00<00:00, 562.24it/s]"
     ]
    },
    {
     "name": "stdout",
     "output_type": "stream",
     "text": [
      "\n",
      "\r",
      "  0%|          | 0/1 [00:00<?, ?it/s]"
     ]
    },
    {
     "name": "stdout",
     "output_type": "stream",
     "text": [
      "\r",
      "Upgrading database; v7 -> v8:   0%|          | 0/1 [00:00<?, ?it/s]"
     ]
    },
    {
     "name": "stdout",
     "output_type": "stream",
     "text": [
      "\r",
      "Upgrading database; v7 -> v8: 100%|██████████| 1/1 [00:00<00:00, 1205.61it/s]"
     ]
    },
    {
     "name": "stdout",
     "output_type": "stream",
     "text": [
      "\n",
      "\r",
      "  0%|          | 0/1 [00:00<?, ?it/s]"
     ]
    },
    {
     "name": "stdout",
     "output_type": "stream",
     "text": [
      "\r",
      "Upgrading database; v8 -> v9:   0%|          | 0/1 [00:00<?, ?it/s]"
     ]
    },
    {
     "name": "stdout",
     "output_type": "stream",
     "text": [
      "\r",
      "Upgrading database; v8 -> v9: 100%|██████████| 1/1 [00:00<00:00, 1000.31it/s]"
     ]
    },
    {
     "name": "stdout",
     "output_type": "stream",
     "text": [
      "\n"
     ]
    }
   ],
   "source": [
    "initialise_database()\n",
    "exp = load_or_create_experiment(experiment_name='tutorial_exp', sample_name=\"no sample\")"
   ]
  },
  {
   "cell_type": "markdown",
   "metadata": {},
   "source": [
    "Here, we define a simple function to benchmark the time it takes to insert n points with either numeric or array data type.\n",
    "We will compare both the time used to call ``add_result`` and the time used for the full measurement."
   ]
  },
  {
   "cell_type": "code",
   "execution_count": 4,
   "metadata": {
    "execution": {
     "iopub.execute_input": "2021-04-09T06:18:29.247419Z",
     "iopub.status.busy": "2021-04-09T06:18:29.246888Z",
     "iopub.status.idle": "2021-04-09T06:18:29.249502Z",
     "shell.execute_reply": "2021-04-09T06:18:29.249082Z"
    }
   },
   "outputs": [],
   "source": [
    "def insert_data(paramtype, npoints, nreps=1):\n",
    "\n",
    "    meas = Measurement(exp=exp)\n",
    "\n",
    "    x1 = ManualParameter('x1')\n",
    "    x2 = ManualParameter('x2')\n",
    "    x3 = ManualParameter('x3')\n",
    "    y1 = ManualParameter('y1')\n",
    "    y2 = ManualParameter('y2')\n",
    "\n",
    "    meas.register_parameter(x1, paramtype=paramtype)\n",
    "    meas.register_parameter(x2, paramtype=paramtype)\n",
    "    meas.register_parameter(x3, paramtype=paramtype)\n",
    "    meas.register_parameter(y1, setpoints=[x1, x2, x3],\n",
    "                            paramtype=paramtype)\n",
    "    meas.register_parameter(y2, setpoints=[x1, x2, x3],\n",
    "                            paramtype=paramtype)\n",
    "    start = time.perf_counter()\n",
    "    with meas.run() as datasaver:\n",
    "        start_adding = time.perf_counter()\n",
    "        for i in range(nreps):\n",
    "            datasaver.add_result((x1, np.random.rand(npoints)),\n",
    "                                 (x2, np.random.rand(npoints)),\n",
    "                                 (x3, np.random.rand(npoints)),\n",
    "                                 (y1, np.random.rand(npoints)),\n",
    "                                 (y2, np.random.rand(npoints)))\n",
    "        stop_adding = time.perf_counter()\n",
    "        run_id = datasaver.run_id\n",
    "    stop = time.perf_counter()\n",
    "    tot_time = stop - start\n",
    "    add_time = stop_adding - start_adding\n",
    "    return tot_time, add_time, run_id"
   ]
  },
  {
   "cell_type": "markdown",
   "metadata": {},
   "source": [
    "## Comparison between numeric/array data and binary blob"
   ]
  },
  {
   "cell_type": "markdown",
   "metadata": {},
   "source": [
    "### Case1: Short experiment time"
   ]
  },
  {
   "cell_type": "code",
   "execution_count": 5,
   "metadata": {
    "execution": {
     "iopub.execute_input": "2021-04-09T06:18:29.254551Z",
     "iopub.status.busy": "2021-04-09T06:18:29.253561Z",
     "iopub.status.idle": "2021-04-09T06:18:29.870575Z",
     "shell.execute_reply": "2021-04-09T06:18:29.870950Z"
    }
   },
   "outputs": [
    {
     "name": "stdout",
     "output_type": "stream",
     "text": [
      "Starting experimental run with id: 1. \n",
      "Starting experimental run with id: 2. \n",
      "Starting experimental run with id: 3. \n",
      "Starting experimental run with id: 4. \n",
      "Starting experimental run with id: 5. \n",
      "Starting experimental run with id: 6. \n",
      "Starting experimental run with id: 7. \n"
     ]
    },
    {
     "name": "stdout",
     "output_type": "stream",
     "text": [
      "Starting experimental run with id: 8. \n"
     ]
    },
    {
     "name": "stdout",
     "output_type": "stream",
     "text": [
      "Starting experimental run with id: 9. \n"
     ]
    },
    {
     "name": "stdout",
     "output_type": "stream",
     "text": [
      "Starting experimental run with id: 10. \n",
      "Starting experimental run with id: 11. \n"
     ]
    },
    {
     "name": "stdout",
     "output_type": "stream",
     "text": [
      "Starting experimental run with id: 12. \n",
      "Starting experimental run with id: 13. \n"
     ]
    },
    {
     "name": "stdout",
     "output_type": "stream",
     "text": [
      "Starting experimental run with id: 14. \n"
     ]
    }
   ],
   "source": [
    "sizes = [1,500,1000,2000,3000,4000,5000]\n",
    "t_numeric = []\n",
    "t_numeric_add = []\n",
    "t_array = []\n",
    "t_array_add = []\n",
    "for size in sizes:\n",
    "    tn, tna, run_id_n =  insert_data('numeric', size)\n",
    "    t_numeric.append(tn)\n",
    "    t_numeric_add.append(tna)\n",
    "\n",
    "    ta, taa, run_id_a =  insert_data('array', size)\n",
    "    t_array.append(ta)\n",
    "    t_array_add.append(taa)"
   ]
  },
  {
   "cell_type": "code",
   "execution_count": 6,
   "metadata": {
    "execution": {
     "iopub.execute_input": "2021-04-09T06:18:29.885097Z",
     "iopub.status.busy": "2021-04-09T06:18:29.876431Z",
     "iopub.status.idle": "2021-04-09T06:18:30.049076Z",
     "shell.execute_reply": "2021-04-09T06:18:30.049424Z"
    }
   },
   "outputs": [
    {
     "data": {
      "image/png": "[encoded data removed]",
      "text/plain": [
       "<Figure size 432x288 with 1 Axes>"
      ]
     },
     "metadata": {
      "needs_background": "light"
     },
     "output_type": "display_data"
    }
   ],
   "source": [
    "fig, ax = plt.subplots(1,1)\n",
    "ax.plot(sizes, t_numeric, 'o-', label='Inserting row-by-row')\n",
    "ax.plot(sizes, t_numeric_add, 'o-', label='Inserting row-by-row: add_result only')\n",
    "ax.plot(sizes, t_array, 'd-', label='Inserting as binary blob')\n",
    "ax.plot(sizes, t_array_add, 'd-', label='Inserting as binary blob: add_result only')\n",
    "ax.legend()\n",
    "ax.set_xlabel('Array length')\n",
    "ax.set_ylabel('Time (s)')\n",
    "fig.tight_layout()"
   ]
  },
  {
   "cell_type": "markdown",
   "metadata": {},
   "source": [
    "As shown in the latter figure, the time to setup and and close the experiment is approximately 0.4 sec. In case of small array sizes, the difference between inserting values of data as arrays and inserting them row-by-row is relatively unimportant. At larger array sizes, i.e. above 10000 points, the cost of writing data as individual datapoints starts to become important.\n"
   ]
  },
  {
   "cell_type": "markdown",
   "metadata": {},
   "source": [
    "### Case2: Long experiment time "
   ]
  },
  {
   "cell_type": "code",
   "execution_count": 7,
   "metadata": {
    "execution": {
     "iopub.execute_input": "2021-04-09T06:18:30.055223Z",
     "iopub.status.busy": "2021-04-09T06:18:30.054258Z",
     "iopub.status.idle": "2021-04-09T06:19:15.428380Z",
     "shell.execute_reply": "2021-04-09T06:19:15.427825Z"
    }
   },
   "outputs": [
    {
     "name": "stdout",
     "output_type": "stream",
     "text": [
      "Starting experimental run with id: 15. \n",
      "Starting experimental run with id: 16. \n",
      "Starting experimental run with id: 17. \n"
     ]
    },
    {
     "name": "stdout",
     "output_type": "stream",
     "text": [
      "Starting experimental run with id: 18. \n",
      "Starting experimental run with id: 19. \n"
     ]
    },
    {
     "name": "stdout",
     "output_type": "stream",
     "text": [
      "Starting experimental run with id: 20. \n"
     ]
    },
    {
     "name": "stdout",
     "output_type": "stream",
     "text": [
      "Starting experimental run with id: 21. \n"
     ]
    },
    {
     "name": "stdout",
     "output_type": "stream",
     "text": [
      "Starting experimental run with id: 22. \n"
     ]
    },
    {
     "name": "stdout",
     "output_type": "stream",
     "text": [
      "Starting experimental run with id: 23. \n"
     ]
    },
    {
     "name": "stdout",
     "output_type": "stream",
     "text": [
      "Starting experimental run with id: 24. \n"
     ]
    },
    {
     "name": "stdout",
     "output_type": "stream",
     "text": [
      "Starting experimental run with id: 25. \n"
     ]
    },
    {
     "name": "stdout",
     "output_type": "stream",
     "text": [
      "Starting experimental run with id: 26. \n"
     ]
    },
    {
     "name": "stdout",
     "output_type": "stream",
     "text": [
      "Starting experimental run with id: 27. \n"
     ]
    },
    {
     "name": "stdout",
     "output_type": "stream",
     "text": [
      "Starting experimental run with id: 28. \n"
     ]
    }
   ],
   "source": [
    "sizes = [1,500,1000,2000,3000,4000,5000]\n",
    "nreps = 100\n",
    "t_numeric = []\n",
    "t_numeric_add = []\n",
    "t_numeric_run_ids = []\n",
    "t_array = []\n",
    "t_array_add = []\n",
    "t_array_run_ids = []\n",
    "for size in sizes:\n",
    "    tn, tna, run_id_n =  insert_data('numeric', size, nreps=nreps)\n",
    "    t_numeric.append(tn)\n",
    "    t_numeric_add.append(tna)\n",
    "    t_numeric_run_ids.append(run_id_n)\n",
    "\n",
    "    ta, taa, run_id_a =  insert_data('array', size, nreps=nreps)\n",
    "    t_array.append(ta)\n",
    "    t_array_add.append(taa)\n",
    "    t_array_run_ids.append(run_id_a)"
   ]
  },
  {
   "cell_type": "code",
   "execution_count": 8,
   "metadata": {
    "execution": {
     "iopub.execute_input": "2021-04-09T06:19:15.451449Z",
     "iopub.status.busy": "2021-04-09T06:19:15.443233Z",
     "iopub.status.idle": "2021-04-09T06:19:15.578387Z",
     "shell.execute_reply": "2021-04-09T06:19:15.578762Z"
    },
    "scrolled": true
   },
   "outputs": [
    {
     "data": {
      "image/png": "[encoded data removed]",
      "text/plain": [
       "<Figure size 432x288 with 1 Axes>"
      ]
     },
     "metadata": {
      "needs_background": "light"
     },
     "output_type": "display_data"
    }
   ],
   "source": [
    "fig, ax = plt.subplots(1,1)\n",
    "ax.plot(sizes, t_numeric, 'o-', label='Inserting row-by-row')\n",
    "ax.plot(sizes, t_numeric_add, 'o-', label='Inserting row-by-row: add_result only')\n",
    "ax.plot(sizes, t_array, 'd-', label='Inserting as binary blob')\n",
    "ax.plot(sizes, t_array_add, 'd-', label='Inserting as binary blob: add_result only')\n",
    "ax.legend()\n",
    "ax.set_xlabel('Array length')\n",
    "ax.set_ylabel('Time (s)')\n",
    "fig.tight_layout()"
   ]
  },
  {
   "cell_type": "markdown",
   "metadata": {},
   "source": [
    "However, as we increase the length of the experiment, as seen here by repeating the insertion 100 times, we see a big difference between inserting values of the data row-by-row and inserting it as a binary blob."
   ]
  },
  {
   "cell_type": "markdown",
   "metadata": {},
   "source": [
    "## Loading the data "
   ]
  },
  {
   "cell_type": "code",
   "execution_count": 9,
   "metadata": {
    "execution": {
     "iopub.execute_input": "2021-04-09T06:19:15.582365Z",
     "iopub.status.busy": "2021-04-09T06:19:15.581489Z",
     "iopub.status.idle": "2021-04-09T06:19:15.584377Z",
     "shell.execute_reply": "2021-04-09T06:19:15.584977Z"
    }
   },
   "outputs": [],
   "source": [
    "from qcodes.dataset.data_set import load_by_id\n",
    "from qcodes.dataset.data_export import get_data_by_id"
   ]
  },
  {
   "cell_type": "markdown",
   "metadata": {},
   "source": [
    "As usual you can load the data by using the ``load_by_id`` function but you will notice that the different storage methods\n",
    "are reflected in shape of the data as it is retrieved. "
   ]
  },
  {
   "cell_type": "code",
   "execution_count": 10,
   "metadata": {
    "execution": {
     "iopub.execute_input": "2021-04-09T06:19:15.588484Z",
     "iopub.status.busy": "2021-04-09T06:19:15.587831Z",
     "iopub.status.idle": "2021-04-09T06:19:15.590977Z",
     "shell.execute_reply": "2021-04-09T06:19:15.590574Z"
    }
   },
   "outputs": [],
   "source": [
    "run_id_n = t_numeric_run_ids[0]\n",
    "run_id_a = t_array_run_ids[0]"
   ]
  },
  {
   "cell_type": "code",
   "execution_count": 11,
   "metadata": {
    "execution": {
     "iopub.execute_input": "2021-04-09T06:19:15.593652Z",
     "iopub.status.busy": "2021-04-09T06:19:15.593213Z",
     "iopub.status.idle": "2021-04-09T06:19:15.601027Z",
     "shell.execute_reply": "2021-04-09T06:19:15.600634Z"
    },
    "scrolled": true
   },
   "outputs": [
    {
     "data": {
      "text/plain": [
       "{'x1': {'x1': array([0.63400805, 0.63400805, 0.1874045 , 0.1874045 , 0.9754915 ,\n",
       "         0.9754915 , 0.68751464, 0.68751464, 0.01120797, 0.01120797,\n",
       "         0.33719316, 0.33719316, 0.64836756, 0.64836756, 0.29104928,\n",
       "         0.29104928, 0.14305674, 0.14305674, 0.83804298, 0.83804298,\n",
       "         0.10661633, 0.10661633, 0.80993973, 0.80993973, 0.29423183,\n",
       "         0.29423183, 0.45966953, 0.45966953, 0.38087243, 0.38087243,\n",
       "         0.82942356, 0.82942356, 0.00703556, 0.00703556, 0.78637312,\n",
       "         0.78637312, 0.02648171, 0.02648171, 0.03999706, 0.03999706,\n",
       "         0.07408393, 0.07408393, 0.02189303, 0.02189303, 0.42787165,\n",
       "         0.42787165, 0.50404897, 0.50404897, 0.71082196, 0.71082196,\n",
       "         0.45182923, 0.45182923, 0.61061139, 0.61061139, 0.42669829,\n",
       "         0.42669829, 0.61131601, 0.61131601, 0.36378778, 0.36378778,\n",
       "         0.46627105, 0.46627105, 0.74808513, 0.74808513, 0.4985133 ,\n",
       "         0.4985133 , 0.14616912, 0.14616912, 0.70022748, 0.70022748,\n",
       "         0.5595597 , 0.5595597 , 0.87557907, 0.87557907, 0.74008768,\n",
       "         0.74008768, 0.66088845, 0.66088845, 0.5677648 , 0.5677648 ,\n",
       "         0.32821395, 0.32821395, 0.51766072, 0.51766072, 0.86625391,\n",
       "         0.86625391, 0.04038009, 0.04038009, 0.44075162, 0.44075162,\n",
       "         0.91263536, 0.91263536, 0.39020667, 0.39020667, 0.39706266,\n",
       "         0.39706266, 0.44354877, 0.44354877, 0.02169114, 0.02169114,\n",
       "         0.53178127, 0.53178127, 0.87922228, 0.87922228, 0.86818932,\n",
       "         0.86818932, 0.74195771, 0.74195771, 0.5517797 , 0.5517797 ,\n",
       "         0.29401379, 0.29401379, 0.48387036, 0.48387036, 0.13795298,\n",
       "         0.13795298, 0.17962889, 0.17962889, 0.17944026, 0.17944026,\n",
       "         0.96000037, 0.96000037, 0.34271152, 0.34271152, 0.92251667,\n",
       "         0.92251667, 0.8301176 , 0.8301176 , 0.59907761, 0.59907761,\n",
       "         0.45807996, 0.45807996, 0.14643865, 0.14643865, 0.89767505,\n",
       "         0.89767505, 0.37356399, 0.37356399, 0.54354699, 0.54354699,\n",
       "         0.08586937, 0.08586937, 0.37100578, 0.37100578, 0.38383476,\n",
       "         0.38383476, 0.7060749 , 0.7060749 , 0.37796646, 0.37796646,\n",
       "         0.05534551, 0.05534551, 0.81992773, 0.81992773, 0.35953575,\n",
       "         0.35953575, 0.53908977, 0.53908977, 0.48442185, 0.48442185,\n",
       "         0.40854731, 0.40854731, 0.46167131, 0.46167131, 0.77408867,\n",
       "         0.77408867, 0.936049  , 0.936049  , 0.91636551, 0.91636551,\n",
       "         0.91328226, 0.91328226, 0.21818038, 0.21818038, 0.70151225,\n",
       "         0.70151225, 0.6148972 , 0.6148972 , 0.75454007, 0.75454007,\n",
       "         0.33986252, 0.33986252, 0.06095394, 0.06095394, 0.85212497,\n",
       "         0.85212497, 0.67282425, 0.67282425, 0.12573489, 0.12573489,\n",
       "         0.10570345, 0.10570345, 0.87146336, 0.87146336, 0.69180284,\n",
       "         0.69180284, 0.8254146 , 0.8254146 , 0.98246197, 0.98246197])}}"
      ]
     },
     "execution_count": 1,
     "metadata": {},
     "output_type": "execute_result"
    }
   ],
   "source": [
    "ds = load_by_id(run_id_n)\n",
    "ds.get_parameter_data('x1')"
   ]
  },
  {
   "cell_type": "markdown",
   "metadata": {},
   "source": [
    "And a dataset stored as binary arrays"
   ]
  },
  {
   "cell_type": "code",
   "execution_count": 12,
   "metadata": {
    "execution": {
     "iopub.execute_input": "2021-04-09T06:19:15.603761Z",
     "iopub.status.busy": "2021-04-09T06:19:15.603326Z",
     "iopub.status.idle": "2021-04-09T06:19:15.647858Z",
     "shell.execute_reply": "2021-04-09T06:19:15.648343Z"
    },
    "scrolled": true
   },
   "outputs": [
    {
     "data": {
      "text/plain": [
       "{'x1': {'x1': array([[0.01209054],\n",
       "         [0.01209054],\n",
       "         [0.85478914],\n",
       "         [0.85478914],\n",
       "         [0.05889434],\n",
       "         [0.05889434],\n",
       "         [0.97934251],\n",
       "         [0.97934251],\n",
       "         [0.04834729],\n",
       "         [0.04834729],\n",
       "         [0.39619464],\n",
       "         [0.39619464],\n",
       "         [0.30928664],\n",
       "         [0.30928664],\n",
       "         [0.31158623],\n",
       "         [0.31158623],\n",
       "         [0.08872417],\n",
       "         [0.08872417],\n",
       "         [0.3196503 ],\n",
       "         [0.3196503 ],\n",
       "         [0.08212934],\n",
       "         [0.08212934],\n",
       "         [0.22775123],\n",
       "         [0.22775123],\n",
       "         [0.90948047],\n",
       "         [0.90948047],\n",
       "         [0.03820524],\n",
       "         [0.03820524],\n",
       "         [0.53862961],\n",
       "         [0.53862961],\n",
       "         [0.05541733],\n",
       "         [0.05541733],\n",
       "         [0.48820969],\n",
       "         [0.48820969],\n",
       "         [0.04347117],\n",
       "         [0.04347117],\n",
       "         [0.70681583],\n",
       "         [0.70681583],\n",
       "         [0.65373376],\n",
       "         [0.65373376],\n",
       "         [0.26620103],\n",
       "         [0.26620103],\n",
       "         [0.21227611],\n",
       "         [0.21227611],\n",
       "         [0.71868965],\n",
       "         [0.71868965],\n",
       "         [0.32679826],\n",
       "         [0.32679826],\n",
       "         [0.9147385 ],\n",
       "         [0.9147385 ],\n",
       "         [0.60090221],\n",
       "         [0.60090221],\n",
       "         [0.53980883],\n",
       "         [0.53980883],\n",
       "         [0.34900917],\n",
       "         [0.34900917],\n",
       "         [0.34013093],\n",
       "         [0.34013093],\n",
       "         [0.89519041],\n",
       "         [0.89519041],\n",
       "         [0.16156861],\n",
       "         [0.16156861],\n",
       "         [0.86630964],\n",
       "         [0.86630964],\n",
       "         [0.12353288],\n",
       "         [0.12353288],\n",
       "         [0.28435757],\n",
       "         [0.28435757],\n",
       "         [0.15460843],\n",
       "         [0.15460843],\n",
       "         [0.91368053],\n",
       "         [0.91368053],\n",
       "         [0.60596819],\n",
       "         [0.60596819],\n",
       "         [0.03327169],\n",
       "         [0.03327169],\n",
       "         [0.74502028],\n",
       "         [0.74502028],\n",
       "         [0.04994069],\n",
       "         [0.04994069],\n",
       "         [0.8016533 ],\n",
       "         [0.8016533 ],\n",
       "         [0.92275426],\n",
       "         [0.92275426],\n",
       "         [0.07293715],\n",
       "         [0.07293715],\n",
       "         [0.58866096],\n",
       "         [0.58866096],\n",
       "         [0.71839125],\n",
       "         [0.71839125],\n",
       "         [0.76131218],\n",
       "         [0.76131218],\n",
       "         [0.69767118],\n",
       "         [0.69767118],\n",
       "         [0.85186379],\n",
       "         [0.85186379],\n",
       "         [0.21151313],\n",
       "         [0.21151313],\n",
       "         [0.87389707],\n",
       "         [0.87389707],\n",
       "         [0.24870486],\n",
       "         [0.24870486],\n",
       "         [0.71182697],\n",
       "         [0.71182697],\n",
       "         [0.59010727],\n",
       "         [0.59010727],\n",
       "         [0.79069281],\n",
       "         [0.79069281],\n",
       "         [0.09480897],\n",
       "         [0.09480897],\n",
       "         [0.36694838],\n",
       "         [0.36694838],\n",
       "         [0.43933032],\n",
       "         [0.43933032],\n",
       "         [0.82740226],\n",
       "         [0.82740226],\n",
       "         [0.93891363],\n",
       "         [0.93891363],\n",
       "         [0.32155806],\n",
       "         [0.32155806],\n",
       "         [0.45842365],\n",
       "         [0.45842365],\n",
       "         [0.89144845],\n",
       "         [0.89144845],\n",
       "         [0.77877442],\n",
       "         [0.77877442],\n",
       "         [0.5625993 ],\n",
       "         [0.5625993 ],\n",
       "         [0.82883391],\n",
       "         [0.82883391],\n",
       "         [0.05676909],\n",
       "         [0.05676909],\n",
       "         [0.45208606],\n",
       "         [0.45208606],\n",
       "         [0.10958819],\n",
       "         [0.10958819],\n",
       "         [0.4256587 ],\n",
       "         [0.4256587 ],\n",
       "         [0.77418063],\n",
       "         [0.77418063],\n",
       "         [0.42487008],\n",
       "         [0.42487008],\n",
       "         [0.23837234],\n",
       "         [0.23837234],\n",
       "         [0.95639123],\n",
       "         [0.95639123],\n",
       "         [0.53006649],\n",
       "         [0.53006649],\n",
       "         [0.86657251],\n",
       "         [0.86657251],\n",
       "         [0.42543693],\n",
       "         [0.42543693],\n",
       "         [0.6293507 ],\n",
       "         [0.6293507 ],\n",
       "         [0.46901284],\n",
       "         [0.46901284],\n",
       "         [0.89005771],\n",
       "         [0.89005771],\n",
       "         [0.57054441],\n",
       "         [0.57054441],\n",
       "         [0.77755487],\n",
       "         [0.77755487],\n",
       "         [0.91842735],\n",
       "         [0.91842735],\n",
       "         [0.18480914],\n",
       "         [0.18480914],\n",
       "         [0.52884109],\n",
       "         [0.52884109],\n",
       "         [0.66670107],\n",
       "         [0.66670107],\n",
       "         [0.71607389],\n",
       "         [0.71607389],\n",
       "         [0.90142443],\n",
       "         [0.90142443],\n",
       "         [0.93291495],\n",
       "         [0.93291495],\n",
       "         [0.32821034],\n",
       "         [0.32821034],\n",
       "         [0.48966547],\n",
       "         [0.48966547],\n",
       "         [0.76074639],\n",
       "         [0.76074639],\n",
       "         [0.33811357],\n",
       "         [0.33811357],\n",
       "         [0.16031691],\n",
       "         [0.16031691],\n",
       "         [0.02364589],\n",
       "         [0.02364589],\n",
       "         [0.04945885],\n",
       "         [0.04945885],\n",
       "         [0.16399147],\n",
       "         [0.16399147],\n",
       "         [0.73348041],\n",
       "         [0.73348041],\n",
       "         [0.64066814],\n",
       "         [0.64066814],\n",
       "         [0.47482388],\n",
       "         [0.47482388],\n",
       "         [0.65560285],\n",
       "         [0.65560285]])}}"
      ]
     },
     "execution_count": 1,
     "metadata": {},
     "output_type": "execute_result"
    }
   ],
   "source": [
    "ds = load_by_id(run_id_a)\n",
    "ds.get_parameter_data('x1')"
   ]
  },
  {
   "cell_type": "code",
   "execution_count": null,
   "metadata": {},
   "outputs": [],
   "source": []
  }
 ],
 "metadata": {
  "kernelspec": {
   "display_name": "Python 3",
   "language": "python",
   "name": "python3"
  },
  "language_info": {
   "codemirror_mode": {
    "name": "ipython",
    "version": 3
   },
   "file_extension": ".py",
   "mimetype": "text/x-python",
   "name": "python",
   "nbconvert_exporter": "python",
   "pygments_lexer": "ipython3",
   "version": "3.7.10"
  },
  "nbsphinx": {
   "timeout": 600
  },
  "toc": {
   "base_numbering": 1,
   "nav_menu": {},
   "number_sections": true,
   "sideBar": true,
   "skip_h1_title": false,
   "title_cell": "Table of Contents",
   "title_sidebar": "Contents",
   "toc_cell": false,
   "toc_position": {},
   "toc_section_display": true,
   "toc_window_display": false
  },
  "varInspector": {
   "cols": {
    "lenName": 16,
    "lenType": 16,
    "lenVar": 40
   },
   "kernels_config": {
    "python": {
     "delete_cmd_postfix": "",
     "delete_cmd_prefix": "del ",
     "library": "var_list.py",
     "varRefreshCmd": "print(var_dic_list())"
    },
    "r": {
     "delete_cmd_postfix": ") ",
     "delete_cmd_prefix": "rm(",
     "library": "var_list.r",
     "varRefreshCmd": "cat(var_dic_list()) "
    }
   },
   "types_to_exclude": [
    "module",
    "function",
    "builtin_function_or_method",
    "instance",
    "_Feature"
   ],
   "window_display": false
  }
 },
 "nbformat": 4,
 "nbformat_minor": 2
}
