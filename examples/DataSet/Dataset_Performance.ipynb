{
 "cells": [
  {
   "cell_type": "markdown",
   "metadata": {},
   "source": [
    "# DataSet Performance\n",
    "\n",
    "This notebook shows the trade-off between inserting data into a database row-by-row and as binary blobs. Inserting the data row-by-row means that we have direct access to all the data and may perform queries directly on the values of the data. On the other hand, as we shall see, this is much slower than inserting the data directly as binary blobs."
   ]
  },
  {
   "cell_type": "markdown",
   "metadata": {},
   "source": [
    "First, we choose a new location for the database to ensure that we don't add a bunch of benchmarking data to the default one."
   ]
  },
  {
   "cell_type": "code",
   "execution_count": 1,
   "metadata": {
    "execution": {
     "iopub.execute_input": "2021-02-22T12:23:14.423169Z",
     "iopub.status.busy": "2021-02-22T12:23:14.422595Z",
     "iopub.status.idle": "2021-02-22T12:23:15.309658Z",
     "shell.execute_reply": "2021-02-22T12:23:15.309038Z"
    }
   },
   "outputs": [
    {
     "name": "stdout",
     "output_type": "stream",
     "text": [
      "Logging hadn't been started.\n",
      "Activating auto-logging. Current session state plus future input saved.\n",
      "Filename       : /home/runner/.qcodes/logs/command_history.log\n",
      "Mode           : append\n",
      "Output logging : True\n",
      "Raw input log  : False\n",
      "Timestamping   : True\n",
      "State          : active\n"
     ]
    },
    {
     "name": "stdout",
     "output_type": "stream",
     "text": [
      "Qcodes Logfile : /home/runner/.qcodes/logs/210222-3929-qcodes.log\n"
     ]
    }
   ],
   "source": [
    "import os\n",
    "cwd = os.getcwd()\n",
    "import qcodes as qc\n",
    "qc.config[\"core\"][\"db_location\"] = os.path.join(cwd, 'testing.db')\n"
   ]
  },
  {
   "cell_type": "code",
   "execution_count": 2,
   "metadata": {
    "execution": {
     "iopub.execute_input": "2021-02-22T12:23:15.316495Z",
     "iopub.status.busy": "2021-02-22T12:23:15.315125Z",
     "iopub.status.idle": "2021-02-22T12:23:15.516086Z",
     "shell.execute_reply": "2021-02-22T12:23:15.515536Z"
    }
   },
   "outputs": [],
   "source": [
    "%matplotlib inline\n",
    "import time\n",
    "import matplotlib.pyplot as plt\n",
    "import numpy as np\n",
    "\n",
    "import qcodes as qc\n",
    "from qcodes.instrument.parameter import ManualParameter\n",
    "from qcodes.dataset.experiment_container import (Experiment,\n",
    "                                                 load_last_experiment,\n",
    "                                                 new_experiment)\n",
    "from qcodes.dataset.sqlite.database import initialise_database\n",
    "from qcodes import load_or_create_experiment\n",
    "from qcodes.dataset.measurements import Measurement"
   ]
  },
  {
   "cell_type": "code",
   "execution_count": 3,
   "metadata": {
    "execution": {
     "iopub.execute_input": "2021-02-22T12:23:15.520222Z",
     "iopub.status.busy": "2021-02-22T12:23:15.519631Z",
     "iopub.status.idle": "2021-02-22T12:23:15.662640Z",
     "shell.execute_reply": "2021-02-22T12:23:15.662072Z"
    }
   },
   "outputs": [
    {
     "name": "stdout",
     "output_type": "stream",
     "text": [
      "\r",
      "0it [00:00, ?it/s]"
     ]
    },
    {
     "name": "stdout",
     "output_type": "stream",
     "text": [
      "\r",
      "Upgrading database; v0 -> v1: : 0it [00:00, ?it/s]"
     ]
    },
    {
     "name": "stdout",
     "output_type": "stream",
     "text": [
      "\r",
      "Upgrading database; v0 -> v1: : 0it [00:00, ?it/s]"
     ]
    },
    {
     "name": "stdout",
     "output_type": "stream",
     "text": [
      "\n",
      "\r",
      "  0%|          | 0/1 [00:00<?, ?it/s]"
     ]
    },
    {
     "name": "stdout",
     "output_type": "stream",
     "text": [
      "\r",
      "Upgrading database; v1 -> v2:   0%|          | 0/1 [00:00<?, ?it/s]"
     ]
    },
    {
     "name": "stdout",
     "output_type": "stream",
     "text": [
      "\r",
      "Upgrading database; v1 -> v2: 100%|██████████| 1/1 [00:00<00:00, 399.19it/s]"
     ]
    },
    {
     "name": "stdout",
     "output_type": "stream",
     "text": [
      "\n",
      "\r",
      "0it [00:00, ?it/s]"
     ]
    },
    {
     "name": "stdout",
     "output_type": "stream",
     "text": [
      "\r",
      "Upgrading database; v2 -> v3: : 0it [00:00, ?it/s]"
     ]
    },
    {
     "name": "stdout",
     "output_type": "stream",
     "text": [
      "\r",
      "Upgrading database; v2 -> v3: : 0it [00:00, ?it/s]"
     ]
    },
    {
     "name": "stdout",
     "output_type": "stream",
     "text": [
      "\n",
      "\r",
      "0it [00:00, ?it/s]"
     ]
    },
    {
     "name": "stdout",
     "output_type": "stream",
     "text": [
      "\r",
      "Upgrading database; v3 -> v4: : 0it [00:00, ?it/s]"
     ]
    },
    {
     "name": "stdout",
     "output_type": "stream",
     "text": [
      "\r",
      "Upgrading database; v3 -> v4: : 0it [00:00, ?it/s]"
     ]
    },
    {
     "name": "stdout",
     "output_type": "stream",
     "text": [
      "\n",
      "\r",
      "  0%|          | 0/1 [00:00<?, ?it/s]"
     ]
    },
    {
     "name": "stdout",
     "output_type": "stream",
     "text": [
      "\r",
      "Upgrading database; v4 -> v5:   0%|          | 0/1 [00:00<?, ?it/s]"
     ]
    },
    {
     "name": "stdout",
     "output_type": "stream",
     "text": [
      "\r",
      "Upgrading database; v4 -> v5: 100%|██████████| 1/1 [00:00<00:00, 400.45it/s]"
     ]
    },
    {
     "name": "stdout",
     "output_type": "stream",
     "text": [
      "\n",
      "\r",
      "0it [00:00, ?it/s]"
     ]
    },
    {
     "name": "stdout",
     "output_type": "stream",
     "text": [
      "\r",
      "Upgrading database; v5 -> v6: : 0it [00:00, ?it/s]"
     ]
    },
    {
     "name": "stdout",
     "output_type": "stream",
     "text": [
      "\r",
      "Upgrading database; v5 -> v6: : 0it [00:00, ?it/s]"
     ]
    },
    {
     "name": "stdout",
     "output_type": "stream",
     "text": [
      "\n",
      "\r",
      "  0%|          | 0/1 [00:00<?, ?it/s]"
     ]
    },
    {
     "name": "stdout",
     "output_type": "stream",
     "text": [
      "\r",
      "Upgrading database; v6 -> v7:   0%|          | 0/1 [00:00<?, ?it/s]"
     ]
    },
    {
     "name": "stdout",
     "output_type": "stream",
     "text": [
      "\r",
      "Upgrading database; v6 -> v7: 100%|██████████| 1/1 [00:00<00:00, 188.98it/s]"
     ]
    },
    {
     "name": "stdout",
     "output_type": "stream",
     "text": [
      "\n",
      "\r",
      "  0%|          | 0/1 [00:00<?, ?it/s]"
     ]
    },
    {
     "name": "stdout",
     "output_type": "stream",
     "text": [
      "\r",
      "Upgrading database; v7 -> v8:   0%|          | 0/1 [00:00<?, ?it/s]"
     ]
    },
    {
     "name": "stdout",
     "output_type": "stream",
     "text": [
      "\r",
      "Upgrading database; v7 -> v8: 100%|██████████| 1/1 [00:00<00:00, 279.14it/s]"
     ]
    },
    {
     "name": "stdout",
     "output_type": "stream",
     "text": [
      "\n",
      "\r",
      "  0%|          | 0/1 [00:00<?, ?it/s]"
     ]
    },
    {
     "name": "stdout",
     "output_type": "stream",
     "text": [
      "\r",
      "Upgrading database; v8 -> v9:   0%|          | 0/1 [00:00<?, ?it/s]"
     ]
    },
    {
     "name": "stdout",
     "output_type": "stream",
     "text": [
      "\r",
      "Upgrading database; v8 -> v9: 100%|██████████| 1/1 [00:00<00:00, 488.22it/s]"
     ]
    },
    {
     "name": "stdout",
     "output_type": "stream",
     "text": [
      "\n"
     ]
    }
   ],
   "source": [
    "initialise_database()\n",
    "exp = load_or_create_experiment(experiment_name='tutorial_exp', sample_name=\"no sample\")"
   ]
  },
  {
   "cell_type": "markdown",
   "metadata": {},
   "source": [
    "Here, we define a simple function to benchmark the time it takes to insert n points with either numeric or array data type.\n",
    "We will compare both the time used to call ``add_result`` and the time used for the full measurement."
   ]
  },
  {
   "cell_type": "code",
   "execution_count": 4,
   "metadata": {
    "execution": {
     "iopub.execute_input": "2021-02-22T12:23:15.673009Z",
     "iopub.status.busy": "2021-02-22T12:23:15.672383Z",
     "iopub.status.idle": "2021-02-22T12:23:15.675281Z",
     "shell.execute_reply": "2021-02-22T12:23:15.674403Z"
    }
   },
   "outputs": [],
   "source": [
    "def insert_data(paramtype, npoints, nreps=1):\n",
    "\n",
    "    meas = Measurement(exp=exp)\n",
    "\n",
    "    x1 = ManualParameter('x1')\n",
    "    x2 = ManualParameter('x2')\n",
    "    x3 = ManualParameter('x3')\n",
    "    y1 = ManualParameter('y1')\n",
    "    y2 = ManualParameter('y2')\n",
    "\n",
    "    meas.register_parameter(x1, paramtype=paramtype)\n",
    "    meas.register_parameter(x2, paramtype=paramtype)\n",
    "    meas.register_parameter(x3, paramtype=paramtype)\n",
    "    meas.register_parameter(y1, setpoints=[x1, x2, x3],\n",
    "                            paramtype=paramtype)\n",
    "    meas.register_parameter(y2, setpoints=[x1, x2, x3],\n",
    "                            paramtype=paramtype)\n",
    "    start = time.perf_counter()\n",
    "    with meas.run() as datasaver:\n",
    "        start_adding = time.perf_counter()\n",
    "        for i in range(nreps):\n",
    "            datasaver.add_result((x1, np.random.rand(npoints)),\n",
    "                                 (x2, np.random.rand(npoints)),\n",
    "                                 (x3, np.random.rand(npoints)),\n",
    "                                 (y1, np.random.rand(npoints)),\n",
    "                                 (y2, np.random.rand(npoints)))\n",
    "        stop_adding = time.perf_counter()\n",
    "        run_id = datasaver.run_id\n",
    "    stop = time.perf_counter()\n",
    "    tot_time = stop - start\n",
    "    add_time = stop_adding - start_adding\n",
    "    return tot_time, add_time, run_id"
   ]
  },
  {
   "cell_type": "markdown",
   "metadata": {},
   "source": [
    "## Comparison between numeric/array data and binary blob"
   ]
  },
  {
   "cell_type": "markdown",
   "metadata": {},
   "source": [
    "### Case1: Short experiment time"
   ]
  },
  {
   "cell_type": "code",
   "execution_count": 5,
   "metadata": {
    "execution": {
     "iopub.execute_input": "2021-02-22T12:23:15.681232Z",
     "iopub.status.busy": "2021-02-22T12:23:15.679221Z",
     "iopub.status.idle": "2021-02-22T12:23:16.596156Z",
     "shell.execute_reply": "2021-02-22T12:23:16.595625Z"
    }
   },
   "outputs": [
    {
     "name": "stdout",
     "output_type": "stream",
     "text": [
      "Starting experimental run with id: 1. \n",
      "Starting experimental run with id: 2. \n",
      "Starting experimental run with id: 3. \n"
     ]
    },
    {
     "name": "stdout",
     "output_type": "stream",
     "text": [
      "Starting experimental run with id: 4. \n"
     ]
    },
    {
     "name": "stdout",
     "output_type": "stream",
     "text": [
      "Starting experimental run with id: 5. \n"
     ]
    },
    {
     "name": "stdout",
     "output_type": "stream",
     "text": [
      "Starting experimental run with id: 6. \n",
      "Starting experimental run with id: 7. \n"
     ]
    },
    {
     "name": "stdout",
     "output_type": "stream",
     "text": [
      "Starting experimental run with id: 8. \n"
     ]
    },
    {
     "name": "stdout",
     "output_type": "stream",
     "text": [
      "Starting experimental run with id: 9. \n"
     ]
    },
    {
     "name": "stdout",
     "output_type": "stream",
     "text": [
      "Starting experimental run with id: 10. \n",
      "Starting experimental run with id: 11. \n"
     ]
    },
    {
     "name": "stdout",
     "output_type": "stream",
     "text": [
      "Starting experimental run with id: 12. \n"
     ]
    },
    {
     "name": "stdout",
     "output_type": "stream",
     "text": [
      "Starting experimental run with id: 13. \n"
     ]
    },
    {
     "name": "stdout",
     "output_type": "stream",
     "text": [
      "Starting experimental run with id: 14. \n"
     ]
    }
   ],
   "source": [
    "sizes = [1,500,1000,2000,3000,4000,5000]\n",
    "t_numeric = []\n",
    "t_numeric_add = []\n",
    "t_array = []\n",
    "t_array_add = []\n",
    "for size in sizes:\n",
    "    tn, tna, run_id_n =  insert_data('numeric', size)\n",
    "    t_numeric.append(tn)\n",
    "    t_numeric_add.append(tna)\n",
    "\n",
    "    ta, taa, run_id_a =  insert_data('array', size)\n",
    "    t_array.append(ta)\n",
    "    t_array_add.append(taa)"
   ]
  },
  {
   "cell_type": "code",
   "execution_count": 6,
   "metadata": {
    "execution": {
     "iopub.execute_input": "2021-02-22T12:23:16.623098Z",
     "iopub.status.busy": "2021-02-22T12:23:16.617204Z",
     "iopub.status.idle": "2021-02-22T12:23:16.868744Z",
     "shell.execute_reply": "2021-02-22T12:23:16.867848Z"
    }
   },
   "outputs": [
    {
     "data": {
      "image/png": "[encoded data removed]",
      "text/plain": [
       "<Figure size 432x288 with 1 Axes>"
      ]
     },
     "metadata": {
      "needs_background": "light"
     },
     "output_type": "display_data"
    }
   ],
   "source": [
    "fig, ax = plt.subplots(1,1)\n",
    "ax.plot(sizes, t_numeric, 'o-', label='Inserting row-by-row')\n",
    "ax.plot(sizes, t_numeric_add, 'o-', label='Inserting row-by-row: add_result only')\n",
    "ax.plot(sizes, t_array, 'd-', label='Inserting as binary blob')\n",
    "ax.plot(sizes, t_array_add, 'd-', label='Inserting as binary blob: add_result only')\n",
    "ax.legend()\n",
    "ax.set_xlabel('Array length')\n",
    "ax.set_ylabel('Time (s)')\n",
    "fig.tight_layout()"
   ]
  },
  {
   "cell_type": "markdown",
   "metadata": {},
   "source": [
    "As shown in the latter figure, the time to setup and and close the experiment is approximately 0.4 sec. In case of small array sizes, the difference between inserting values of data as arrays and inserting them row-by-row is relatively unimportant. At larger array sizes, i.e. above 10000 points, the cost of writing data as individual datapoints starts to become important.\n"
   ]
  },
  {
   "cell_type": "markdown",
   "metadata": {},
   "source": [
    "### Case2: Long experiment time "
   ]
  },
  {
   "cell_type": "code",
   "execution_count": 7,
   "metadata": {
    "execution": {
     "iopub.execute_input": "2021-02-22T12:23:16.879012Z",
     "iopub.status.busy": "2021-02-22T12:23:16.877637Z",
     "iopub.status.idle": "2021-02-22T12:24:12.897128Z",
     "shell.execute_reply": "2021-02-22T12:24:12.896155Z"
    }
   },
   "outputs": [
    {
     "name": "stdout",
     "output_type": "stream",
     "text": [
      "Starting experimental run with id: 15. \n",
      "Starting experimental run with id: 16. \n"
     ]
    },
    {
     "name": "stdout",
     "output_type": "stream",
     "text": [
      "Starting experimental run with id: 17. \n"
     ]
    },
    {
     "name": "stdout",
     "output_type": "stream",
     "text": [
      "Starting experimental run with id: 18. \n"
     ]
    },
    {
     "name": "stdout",
     "output_type": "stream",
     "text": [
      "Starting experimental run with id: 19. \n"
     ]
    },
    {
     "name": "stdout",
     "output_type": "stream",
     "text": [
      "Starting experimental run with id: 20. \n"
     ]
    },
    {
     "name": "stdout",
     "output_type": "stream",
     "text": [
      "Starting experimental run with id: 21. \n"
     ]
    },
    {
     "name": "stdout",
     "output_type": "stream",
     "text": [
      "Starting experimental run with id: 22. \n"
     ]
    },
    {
     "name": "stdout",
     "output_type": "stream",
     "text": [
      "Starting experimental run with id: 23. \n"
     ]
    },
    {
     "name": "stdout",
     "output_type": "stream",
     "text": [
      "Starting experimental run with id: 24. \n"
     ]
    },
    {
     "name": "stdout",
     "output_type": "stream",
     "text": [
      "Starting experimental run with id: 25. \n"
     ]
    },
    {
     "name": "stdout",
     "output_type": "stream",
     "text": [
      "Starting experimental run with id: 26. \n"
     ]
    },
    {
     "name": "stdout",
     "output_type": "stream",
     "text": [
      "Starting experimental run with id: 27. \n"
     ]
    },
    {
     "name": "stdout",
     "output_type": "stream",
     "text": [
      "Starting experimental run with id: 28. \n"
     ]
    }
   ],
   "source": [
    "sizes = [1,500,1000,2000,3000,4000,5000]\n",
    "nreps = 100\n",
    "t_numeric = []\n",
    "t_numeric_add = []\n",
    "t_numeric_run_ids = []\n",
    "t_array = []\n",
    "t_array_add = []\n",
    "t_array_run_ids = []\n",
    "for size in sizes:\n",
    "    tn, tna, run_id_n =  insert_data('numeric', size, nreps=nreps)\n",
    "    t_numeric.append(tn)\n",
    "    t_numeric_add.append(tna)\n",
    "    t_numeric_run_ids.append(run_id_n)\n",
    "\n",
    "    ta, taa, run_id_a =  insert_data('array', size, nreps=nreps)\n",
    "    t_array.append(ta)\n",
    "    t_array_add.append(taa)\n",
    "    t_array_run_ids.append(run_id_a)"
   ]
  },
  {
   "cell_type": "code",
   "execution_count": 8,
   "metadata": {
    "execution": {
     "iopub.execute_input": "2021-02-22T12:24:12.918203Z",
     "iopub.status.busy": "2021-02-22T12:24:12.917552Z",
     "iopub.status.idle": "2021-02-22T12:24:13.147567Z",
     "shell.execute_reply": "2021-02-22T12:24:13.147011Z"
    },
    "scrolled": true
   },
   "outputs": [
    {
     "data": {
      "image/png": "[encoded data removed]",
      "text/plain": [
       "<Figure size 432x288 with 1 Axes>"
      ]
     },
     "metadata": {
      "needs_background": "light"
     },
     "output_type": "display_data"
    }
   ],
   "source": [
    "fig, ax = plt.subplots(1,1)\n",
    "ax.plot(sizes, t_numeric, 'o-', label='Inserting row-by-row')\n",
    "ax.plot(sizes, t_numeric_add, 'o-', label='Inserting row-by-row: add_result only')\n",
    "ax.plot(sizes, t_array, 'd-', label='Inserting as binary blob')\n",
    "ax.plot(sizes, t_array_add, 'd-', label='Inserting as binary blob: add_result only')\n",
    "ax.legend()\n",
    "ax.set_xlabel('Array length')\n",
    "ax.set_ylabel('Time (s)')\n",
    "fig.tight_layout()"
   ]
  },
  {
   "cell_type": "markdown",
   "metadata": {},
   "source": [
    "However, as we increase the length of the experiment, as seen here by repeating the insertion 100 times, we see a big difference between inserting values of the data row-by-row and inserting it as a binary blob."
   ]
  },
  {
   "cell_type": "markdown",
   "metadata": {},
   "source": [
    "## Loading the data "
   ]
  },
  {
   "cell_type": "code",
   "execution_count": 9,
   "metadata": {
    "execution": {
     "iopub.execute_input": "2021-02-22T12:24:13.152270Z",
     "iopub.status.busy": "2021-02-22T12:24:13.151198Z",
     "iopub.status.idle": "2021-02-22T12:24:13.154253Z",
     "shell.execute_reply": "2021-02-22T12:24:13.154685Z"
    }
   },
   "outputs": [],
   "source": [
    "from qcodes.dataset.data_set import load_by_id\n",
    "from qcodes.dataset.data_export import get_data_by_id"
   ]
  },
  {
   "cell_type": "markdown",
   "metadata": {},
   "source": [
    "As usual you can load the data by using the ``load_by_id`` function but you will notice that the different storage methods\n",
    "are reflected in shape of the data as it is retrieved. "
   ]
  },
  {
   "cell_type": "code",
   "execution_count": 10,
   "metadata": {
    "execution": {
     "iopub.execute_input": "2021-02-22T12:24:13.159489Z",
     "iopub.status.busy": "2021-02-22T12:24:13.158140Z",
     "iopub.status.idle": "2021-02-22T12:24:13.160157Z",
     "shell.execute_reply": "2021-02-22T12:24:13.160650Z"
    }
   },
   "outputs": [],
   "source": [
    "run_id_n = t_numeric_run_ids[0]\n",
    "run_id_a = t_array_run_ids[0]"
   ]
  },
  {
   "cell_type": "code",
   "execution_count": 11,
   "metadata": {
    "execution": {
     "iopub.execute_input": "2021-02-22T12:24:13.164059Z",
     "iopub.status.busy": "2021-02-22T12:24:13.163483Z",
     "iopub.status.idle": "2021-02-22T12:24:13.173278Z",
     "shell.execute_reply": "2021-02-22T12:24:13.172661Z"
    },
    "scrolled": true
   },
   "outputs": [
    {
     "data": {
      "text/plain": [
       "{'x1': {'x1': array([0.86649362, 0.86649362, 0.24856271, 0.24856271, 0.28062629,\n",
       "         0.28062629, 0.75465295, 0.75465295, 0.79114175, 0.79114175,\n",
       "         0.45308867, 0.45308867, 0.13072528, 0.13072528, 0.5522932 ,\n",
       "         0.5522932 , 0.09986614, 0.09986614, 0.16015608, 0.16015608,\n",
       "         0.84346934, 0.84346934, 0.18556401, 0.18556401, 0.26191929,\n",
       "         0.26191929, 0.83872083, 0.83872083, 0.73791528, 0.73791528,\n",
       "         0.06991596, 0.06991596, 0.08702343, 0.08702343, 0.61559547,\n",
       "         0.61559547, 0.58098127, 0.58098127, 0.70314462, 0.70314462,\n",
       "         0.73030438, 0.73030438, 0.26484696, 0.26484696, 0.59843773,\n",
       "         0.59843773, 0.20639268, 0.20639268, 0.94568113, 0.94568113,\n",
       "         0.57102797, 0.57102797, 0.87397724, 0.87397724, 0.69127584,\n",
       "         0.69127584, 0.29562317, 0.29562317, 0.192759  , 0.192759  ,\n",
       "         0.87892322, 0.87892322, 0.2600046 , 0.2600046 , 0.2095121 ,\n",
       "         0.2095121 , 0.7395259 , 0.7395259 , 0.2500754 , 0.2500754 ,\n",
       "         0.91534849, 0.91534849, 0.81252656, 0.81252656, 0.66952826,\n",
       "         0.66952826, 0.83572615, 0.83572615, 0.85216798, 0.85216798,\n",
       "         0.15589168, 0.15589168, 0.46390807, 0.46390807, 0.43148702,\n",
       "         0.43148702, 0.64434429, 0.64434429, 0.94347414, 0.94347414,\n",
       "         0.34700127, 0.34700127, 0.87404127, 0.87404127, 0.76231351,\n",
       "         0.76231351, 0.94704187, 0.94704187, 0.02595389, 0.02595389,\n",
       "         0.36111484, 0.36111484, 0.54907477, 0.54907477, 0.31530571,\n",
       "         0.31530571, 0.30789702, 0.30789702, 0.33387873, 0.33387873,\n",
       "         0.51602578, 0.51602578, 0.10569339, 0.10569339, 0.33250628,\n",
       "         0.33250628, 0.80503201, 0.80503201, 0.12713343, 0.12713343,\n",
       "         0.66108643, 0.66108643, 0.02373835, 0.02373835, 0.44461262,\n",
       "         0.44461262, 0.64973485, 0.64973485, 0.48618209, 0.48618209,\n",
       "         0.74857337, 0.74857337, 0.20528667, 0.20528667, 0.97266994,\n",
       "         0.97266994, 0.18998694, 0.18998694, 0.79387011, 0.79387011,\n",
       "         0.83947333, 0.83947333, 0.79942342, 0.79942342, 0.80825135,\n",
       "         0.80825135, 0.49412587, 0.49412587, 0.76856828, 0.76856828,\n",
       "         0.07281067, 0.07281067, 0.39946438, 0.39946438, 0.02514176,\n",
       "         0.02514176, 0.43466891, 0.43466891, 0.26399156, 0.26399156,\n",
       "         0.31097545, 0.31097545, 0.10638545, 0.10638545, 0.47997046,\n",
       "         0.47997046, 0.27844064, 0.27844064, 0.63036632, 0.63036632,\n",
       "         0.52899701, 0.52899701, 0.72116825, 0.72116825, 0.31307764,\n",
       "         0.31307764, 0.55599394, 0.55599394, 0.99614435, 0.99614435,\n",
       "         0.69766856, 0.69766856, 0.14210453, 0.14210453, 0.95466179,\n",
       "         0.95466179, 0.47340469, 0.47340469, 0.51270495, 0.51270495,\n",
       "         0.86234352, 0.86234352, 0.40352264, 0.40352264, 0.30682086,\n",
       "         0.30682086, 0.84850055, 0.84850055, 0.46623295, 0.46623295])}}"
      ]
     },
     "execution_count": 1,
     "metadata": {},
     "output_type": "execute_result"
    }
   ],
   "source": [
    "ds = load_by_id(run_id_n)\n",
    "ds.get_parameter_data('x1')"
   ]
  },
  {
   "cell_type": "markdown",
   "metadata": {},
   "source": [
    "And a dataset stored as binary arrays"
   ]
  },
  {
   "cell_type": "code",
   "execution_count": 12,
   "metadata": {
    "execution": {
     "iopub.execute_input": "2021-02-22T12:24:13.176864Z",
     "iopub.status.busy": "2021-02-22T12:24:13.176248Z",
     "iopub.status.idle": "2021-02-22T12:24:13.240404Z",
     "shell.execute_reply": "2021-02-22T12:24:13.240966Z"
    },
    "scrolled": true
   },
   "outputs": [
    {
     "data": {
      "text/plain": [
       "{'x1': {'x1': array([[0.83340072],\n",
       "         [0.83340072],\n",
       "         [0.4152645 ],\n",
       "         [0.4152645 ],\n",
       "         [0.98257239],\n",
       "         [0.98257239],\n",
       "         [0.23530182],\n",
       "         [0.23530182],\n",
       "         [0.86817538],\n",
       "         [0.86817538],\n",
       "         [0.71410245],\n",
       "         [0.71410245],\n",
       "         [0.79220654],\n",
       "         [0.79220654],\n",
       "         [0.03526086],\n",
       "         [0.03526086],\n",
       "         [0.72319901],\n",
       "         [0.72319901],\n",
       "         [0.20282972],\n",
       "         [0.20282972],\n",
       "         [0.17769709],\n",
       "         [0.17769709],\n",
       "         [0.86031845],\n",
       "         [0.86031845],\n",
       "         [0.46864951],\n",
       "         [0.46864951],\n",
       "         [0.59518111],\n",
       "         [0.59518111],\n",
       "         [0.80550377],\n",
       "         [0.80550377],\n",
       "         [0.48985633],\n",
       "         [0.48985633],\n",
       "         [0.36305755],\n",
       "         [0.36305755],\n",
       "         [0.79476237],\n",
       "         [0.79476237],\n",
       "         [0.25608054],\n",
       "         [0.25608054],\n",
       "         [0.11930317],\n",
       "         [0.11930317],\n",
       "         [0.19073279],\n",
       "         [0.19073279],\n",
       "         [0.65546104],\n",
       "         [0.65546104],\n",
       "         [0.60987375],\n",
       "         [0.60987375],\n",
       "         [0.67188786],\n",
       "         [0.67188786],\n",
       "         [0.24373698],\n",
       "         [0.24373698],\n",
       "         [0.626358  ],\n",
       "         [0.626358  ],\n",
       "         [0.97990181],\n",
       "         [0.97990181],\n",
       "         [0.86816699],\n",
       "         [0.86816699],\n",
       "         [0.26815295],\n",
       "         [0.26815295],\n",
       "         [0.03690964],\n",
       "         [0.03690964],\n",
       "         [0.79859733],\n",
       "         [0.79859733],\n",
       "         [0.18321242],\n",
       "         [0.18321242],\n",
       "         [0.71759375],\n",
       "         [0.71759375],\n",
       "         [0.67759219],\n",
       "         [0.67759219],\n",
       "         [0.2233922 ],\n",
       "         [0.2233922 ],\n",
       "         [0.84769946],\n",
       "         [0.84769946],\n",
       "         [0.41968065],\n",
       "         [0.41968065],\n",
       "         [0.45851632],\n",
       "         [0.45851632],\n",
       "         [0.12501832],\n",
       "         [0.12501832],\n",
       "         [0.80087922],\n",
       "         [0.80087922],\n",
       "         [0.07446769],\n",
       "         [0.07446769],\n",
       "         [0.884824  ],\n",
       "         [0.884824  ],\n",
       "         [0.79626127],\n",
       "         [0.79626127],\n",
       "         [0.41516587],\n",
       "         [0.41516587],\n",
       "         [0.23924532],\n",
       "         [0.23924532],\n",
       "         [0.66712764],\n",
       "         [0.66712764],\n",
       "         [0.73951083],\n",
       "         [0.73951083],\n",
       "         [0.95477474],\n",
       "         [0.95477474],\n",
       "         [0.93846877],\n",
       "         [0.93846877],\n",
       "         [0.62655994],\n",
       "         [0.62655994],\n",
       "         [0.72412754],\n",
       "         [0.72412754],\n",
       "         [0.34881393],\n",
       "         [0.34881393],\n",
       "         [0.4111814 ],\n",
       "         [0.4111814 ],\n",
       "         [0.06469947],\n",
       "         [0.06469947],\n",
       "         [0.05817256],\n",
       "         [0.05817256],\n",
       "         [0.85756745],\n",
       "         [0.85756745],\n",
       "         [0.20470612],\n",
       "         [0.20470612],\n",
       "         [0.74120805],\n",
       "         [0.74120805],\n",
       "         [0.23455732],\n",
       "         [0.23455732],\n",
       "         [0.90915277],\n",
       "         [0.90915277],\n",
       "         [0.23147821],\n",
       "         [0.23147821],\n",
       "         [0.97779642],\n",
       "         [0.97779642],\n",
       "         [0.28938441],\n",
       "         [0.28938441],\n",
       "         [0.9399191 ],\n",
       "         [0.9399191 ],\n",
       "         [0.04056918],\n",
       "         [0.04056918],\n",
       "         [0.05983739],\n",
       "         [0.05983739],\n",
       "         [0.37632154],\n",
       "         [0.37632154],\n",
       "         [0.46601582],\n",
       "         [0.46601582],\n",
       "         [0.31629139],\n",
       "         [0.31629139],\n",
       "         [0.73402837],\n",
       "         [0.73402837],\n",
       "         [0.86950308],\n",
       "         [0.86950308],\n",
       "         [0.6431414 ],\n",
       "         [0.6431414 ],\n",
       "         [0.85250777],\n",
       "         [0.85250777],\n",
       "         [0.76851751],\n",
       "         [0.76851751],\n",
       "         [0.69524674],\n",
       "         [0.69524674],\n",
       "         [0.73992842],\n",
       "         [0.73992842],\n",
       "         [0.81656998],\n",
       "         [0.81656998],\n",
       "         [0.46627524],\n",
       "         [0.46627524],\n",
       "         [0.9560083 ],\n",
       "         [0.9560083 ],\n",
       "         [0.98708887],\n",
       "         [0.98708887],\n",
       "         [0.28084605],\n",
       "         [0.28084605],\n",
       "         [0.0726568 ],\n",
       "         [0.0726568 ],\n",
       "         [0.56050852],\n",
       "         [0.56050852],\n",
       "         [0.6024602 ],\n",
       "         [0.6024602 ],\n",
       "         [0.73001108],\n",
       "         [0.73001108],\n",
       "         [0.88309465],\n",
       "         [0.88309465],\n",
       "         [0.32177789],\n",
       "         [0.32177789],\n",
       "         [0.91429245],\n",
       "         [0.91429245],\n",
       "         [0.10786812],\n",
       "         [0.10786812],\n",
       "         [0.21053577],\n",
       "         [0.21053577],\n",
       "         [0.06216855],\n",
       "         [0.06216855],\n",
       "         [0.39706245],\n",
       "         [0.39706245],\n",
       "         [0.10857529],\n",
       "         [0.10857529],\n",
       "         [0.98238862],\n",
       "         [0.98238862],\n",
       "         [0.537255  ],\n",
       "         [0.537255  ],\n",
       "         [0.46142652],\n",
       "         [0.46142652],\n",
       "         [0.77933634],\n",
       "         [0.77933634],\n",
       "         [0.8283024 ],\n",
       "         [0.8283024 ],\n",
       "         [0.51351874],\n",
       "         [0.51351874],\n",
       "         [0.36700986],\n",
       "         [0.36700986]])}}"
      ]
     },
     "execution_count": 1,
     "metadata": {},
     "output_type": "execute_result"
    }
   ],
   "source": [
    "ds = load_by_id(run_id_a)\n",
    "ds.get_parameter_data('x1')"
   ]
  },
  {
   "cell_type": "code",
   "execution_count": null,
   "metadata": {},
   "outputs": [],
   "source": []
  }
 ],
 "metadata": {
  "kernelspec": {
   "display_name": "Python 3",
   "language": "python",
   "name": "python3"
  },
  "language_info": {
   "codemirror_mode": {
    "name": "ipython",
    "version": 3
   },
   "file_extension": ".py",
   "mimetype": "text/x-python",
   "name": "python",
   "nbconvert_exporter": "python",
   "pygments_lexer": "ipython3",
   "version": "3.7.9"
  },
  "nbsphinx": {
   "timeout": 600
  },
  "toc": {
   "base_numbering": 1,
   "nav_menu": {},
   "number_sections": true,
   "sideBar": true,
   "skip_h1_title": false,
   "title_cell": "Table of Contents",
   "title_sidebar": "Contents",
   "toc_cell": false,
   "toc_position": {},
   "toc_section_display": true,
   "toc_window_display": false
  },
  "varInspector": {
   "cols": {
    "lenName": 16,
    "lenType": 16,
    "lenVar": 40
   },
   "kernels_config": {
    "python": {
     "delete_cmd_postfix": "",
     "delete_cmd_prefix": "del ",
     "library": "var_list.py",
     "varRefreshCmd": "print(var_dic_list())"
    },
    "r": {
     "delete_cmd_postfix": ") ",
     "delete_cmd_prefix": "rm(",
     "library": "var_list.r",
     "varRefreshCmd": "cat(var_dic_list()) "
    }
   },
   "types_to_exclude": [
    "module",
    "function",
    "builtin_function_or_method",
    "instance",
    "_Feature"
   ],
   "window_display": false
  }
 },
 "nbformat": 4,
 "nbformat_minor": 2
}
