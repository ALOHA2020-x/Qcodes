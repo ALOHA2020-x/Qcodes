{
 "cells": [
  {
   "cell_type": "markdown",
   "metadata": {},
   "source": [
    "# DataSet Performance\n",
    "\n",
    "This notebook shows the trade-off between inserting data into a database row-by-row and as binary blobs. Inserting the data row-by-row means that we have direct access to all the data and may perform queries directly on the values of the data. On the other hand, as we shall see, this is much slower than inserting the data directly as binary blobs."
   ]
  },
  {
   "cell_type": "markdown",
   "metadata": {},
   "source": [
    "First, we choose a new location for the database to ensure that we don't add a bunch of benchmarking data to the default one."
   ]
  },
  {
   "cell_type": "code",
   "execution_count": 1,
   "metadata": {
    "execution": {
     "iopub.execute_input": "2020-10-13T07:09:46.540941Z",
     "iopub.status.busy": "2020-10-13T07:09:46.540257Z",
     "iopub.status.idle": "2020-10-13T07:09:47.697984Z",
     "shell.execute_reply": "2020-10-13T07:09:47.697341Z"
    }
   },
   "outputs": [
    {
     "name": "stdout",
     "output_type": "stream",
     "text": [
      "Logging hadn't been started.\n",
      "Activating auto-logging. Current session state plus future input saved.\n",
      "Filename       : /home/vsts/.qcodes/logs/command_history.log\n",
      "Mode           : append\n",
      "Output logging : True\n",
      "Raw input log  : False\n",
      "Timestamping   : True\n",
      "State          : active\n"
     ]
    },
    {
     "name": "stdout",
     "output_type": "stream",
     "text": [
      "Qcodes Logfile : /home/vsts/.qcodes/logs/201013-14917-qcodes.log\n"
     ]
    }
   ],
   "source": [
    "import os\n",
    "cwd = os.getcwd()\n",
    "import qcodes as qc\n",
    "qc.config[\"core\"][\"db_location\"] = os.path.join(cwd, 'testing.db')\n"
   ]
  },
  {
   "cell_type": "code",
   "execution_count": 2,
   "metadata": {
    "execution": {
     "iopub.execute_input": "2020-10-13T07:09:47.707614Z",
     "iopub.status.busy": "2020-10-13T07:09:47.706148Z",
     "iopub.status.idle": "2020-10-13T07:09:47.919764Z",
     "shell.execute_reply": "2020-10-13T07:09:47.918728Z"
    }
   },
   "outputs": [],
   "source": [
    "%matplotlib inline\n",
    "import time\n",
    "import matplotlib.pyplot as plt\n",
    "import numpy as np\n",
    "\n",
    "import qcodes as qc\n",
    "from qcodes.instrument.parameter import ManualParameter\n",
    "from qcodes.dataset.experiment_container import (Experiment,\n",
    "                                                 load_last_experiment,\n",
    "                                                 new_experiment)\n",
    "from qcodes.dataset.sqlite.database import initialise_database\n",
    "from qcodes import load_or_create_experiment\n",
    "from qcodes.dataset.measurements import Measurement"
   ]
  },
  {
   "cell_type": "code",
   "execution_count": 3,
   "metadata": {
    "execution": {
     "iopub.execute_input": "2020-10-13T07:09:47.924077Z",
     "iopub.status.busy": "2020-10-13T07:09:47.923435Z",
     "iopub.status.idle": "2020-10-13T07:09:48.069144Z",
     "shell.execute_reply": "2020-10-13T07:09:48.069786Z"
    }
   },
   "outputs": [
    {
     "name": "stdout",
     "output_type": "stream",
     "text": [
      "\r",
      "0it [00:00, ?it/s]"
     ]
    },
    {
     "name": "stdout",
     "output_type": "stream",
     "text": [
      "\r",
      "Upgrading database; v0 -> v1: : 0it [00:00, ?it/s]"
     ]
    },
    {
     "name": "stdout",
     "output_type": "stream",
     "text": [
      "\r",
      "Upgrading database; v0 -> v1: : 0it [00:00, ?it/s]"
     ]
    },
    {
     "name": "stdout",
     "output_type": "stream",
     "text": [
      "\n",
      "\r",
      "  0%|          | 0/1 [00:00<?, ?it/s]"
     ]
    },
    {
     "name": "stdout",
     "output_type": "stream",
     "text": [
      "\r",
      "Upgrading database; v1 -> v2:   0%|          | 0/1 [00:00<?, ?it/s]"
     ]
    },
    {
     "name": "stdout",
     "output_type": "stream",
     "text": [
      "\r",
      "Upgrading database; v1 -> v2: 100%|██████████| 1/1 [00:00<00:00, 504.55it/s]"
     ]
    },
    {
     "name": "stdout",
     "output_type": "stream",
     "text": [
      "\n",
      "\r",
      "0it [00:00, ?it/s]"
     ]
    },
    {
     "name": "stdout",
     "output_type": "stream",
     "text": [
      "\r",
      "Upgrading database; v2 -> v3: : 0it [00:00, ?it/s]"
     ]
    },
    {
     "name": "stdout",
     "output_type": "stream",
     "text": [
      "\r",
      "Upgrading database; v2 -> v3: : 0it [00:00, ?it/s]"
     ]
    },
    {
     "name": "stdout",
     "output_type": "stream",
     "text": [
      "\n",
      "\r",
      "0it [00:00, ?it/s]"
     ]
    },
    {
     "name": "stdout",
     "output_type": "stream",
     "text": [
      "\r",
      "Upgrading database; v3 -> v4: : 0it [00:00, ?it/s]"
     ]
    },
    {
     "name": "stdout",
     "output_type": "stream",
     "text": [
      "\r",
      "Upgrading database; v3 -> v4: : 0it [00:00, ?it/s]"
     ]
    },
    {
     "name": "stdout",
     "output_type": "stream",
     "text": [
      "\n",
      "\r",
      "  0%|          | 0/1 [00:00<?, ?it/s]"
     ]
    },
    {
     "name": "stdout",
     "output_type": "stream",
     "text": [
      "\r",
      "Upgrading database; v4 -> v5:   0%|          | 0/1 [00:00<?, ?it/s]"
     ]
    },
    {
     "name": "stdout",
     "output_type": "stream",
     "text": [
      "\r",
      "Upgrading database; v4 -> v5: 100%|██████████| 1/1 [00:00<00:00, 315.65it/s]"
     ]
    },
    {
     "name": "stdout",
     "output_type": "stream",
     "text": [
      "\n",
      "\r",
      "0it [00:00, ?it/s]"
     ]
    },
    {
     "name": "stdout",
     "output_type": "stream",
     "text": [
      "\r",
      "Upgrading database; v5 -> v6: : 0it [00:00, ?it/s]"
     ]
    },
    {
     "name": "stdout",
     "output_type": "stream",
     "text": [
      "\r",
      "Upgrading database; v5 -> v6: : 0it [00:00, ?it/s]"
     ]
    },
    {
     "name": "stdout",
     "output_type": "stream",
     "text": [
      "\n",
      "\r",
      "  0%|          | 0/1 [00:00<?, ?it/s]"
     ]
    },
    {
     "name": "stdout",
     "output_type": "stream",
     "text": [
      "\r",
      "Upgrading database; v6 -> v7:   0%|          | 0/1 [00:00<?, ?it/s]"
     ]
    },
    {
     "name": "stdout",
     "output_type": "stream",
     "text": [
      "\r",
      "Upgrading database; v6 -> v7: 100%|██████████| 1/1 [00:00<00:00, 365.74it/s]"
     ]
    },
    {
     "name": "stdout",
     "output_type": "stream",
     "text": [
      "\n",
      "\r",
      "  0%|          | 0/1 [00:00<?, ?it/s]"
     ]
    },
    {
     "name": "stdout",
     "output_type": "stream",
     "text": [
      "\r",
      "Upgrading database; v7 -> v8:   0%|          | 0/1 [00:00<?, ?it/s]"
     ]
    },
    {
     "name": "stdout",
     "output_type": "stream",
     "text": [
      "\r",
      "Upgrading database; v7 -> v8: 100%|██████████| 1/1 [00:00<00:00, 406.70it/s]"
     ]
    },
    {
     "name": "stdout",
     "output_type": "stream",
     "text": [
      "\n",
      "\r",
      "  0%|          | 0/1 [00:00<?, ?it/s]"
     ]
    },
    {
     "name": "stdout",
     "output_type": "stream",
     "text": [
      "\r",
      "Upgrading database; v8 -> v9:   0%|          | 0/1 [00:00<?, ?it/s]"
     ]
    },
    {
     "name": "stdout",
     "output_type": "stream",
     "text": [
      "\r",
      "Upgrading database; v8 -> v9: 100%|██████████| 1/1 [00:00<00:00, 592.92it/s]"
     ]
    },
    {
     "name": "stdout",
     "output_type": "stream",
     "text": [
      "\n"
     ]
    }
   ],
   "source": [
    "initialise_database()\n",
    "exp = load_or_create_experiment(experiment_name='tutorial_exp', sample_name=\"no sample\")"
   ]
  },
  {
   "cell_type": "markdown",
   "metadata": {},
   "source": [
    "Here, we define a simple function to benchmark the time it takes to insert n points with either numeric or array data type.\n",
    "We will compare both the time used to call ``add_result`` and the time used for the full measurement."
   ]
  },
  {
   "cell_type": "code",
   "execution_count": 4,
   "metadata": {
    "execution": {
     "iopub.execute_input": "2020-10-13T07:09:48.079074Z",
     "iopub.status.busy": "2020-10-13T07:09:48.078413Z",
     "iopub.status.idle": "2020-10-13T07:09:48.082549Z",
     "shell.execute_reply": "2020-10-13T07:09:48.081937Z"
    }
   },
   "outputs": [],
   "source": [
    "def insert_data(paramtype, npoints, nreps=1):\n",
    "\n",
    "    meas = Measurement(exp=exp)\n",
    "\n",
    "    x1 = ManualParameter('x1')\n",
    "    x2 = ManualParameter('x2')\n",
    "    x3 = ManualParameter('x3')\n",
    "    y1 = ManualParameter('y1')\n",
    "    y2 = ManualParameter('y2')\n",
    "\n",
    "    meas.register_parameter(x1, paramtype=paramtype)\n",
    "    meas.register_parameter(x2, paramtype=paramtype)\n",
    "    meas.register_parameter(x3, paramtype=paramtype)\n",
    "    meas.register_parameter(y1, setpoints=[x1, x2, x3],\n",
    "                            paramtype=paramtype)\n",
    "    meas.register_parameter(y2, setpoints=[x1, x2, x3],\n",
    "                            paramtype=paramtype)\n",
    "    start = time.perf_counter()\n",
    "    with meas.run() as datasaver:\n",
    "        start_adding = time.perf_counter()\n",
    "        for i in range(nreps):\n",
    "            datasaver.add_result((x1, np.random.rand(npoints)),\n",
    "                                 (x2, np.random.rand(npoints)),\n",
    "                                 (x3, np.random.rand(npoints)),\n",
    "                                 (y1, np.random.rand(npoints)),\n",
    "                                 (y2, np.random.rand(npoints)))\n",
    "        stop_adding = time.perf_counter()\n",
    "        run_id = datasaver.run_id\n",
    "    stop = time.perf_counter()\n",
    "    tot_time = stop - start\n",
    "    add_time = stop_adding - start_adding\n",
    "    return tot_time, add_time, run_id"
   ]
  },
  {
   "cell_type": "markdown",
   "metadata": {},
   "source": [
    "## Comparison between numeric/array data and binary blob"
   ]
  },
  {
   "cell_type": "markdown",
   "metadata": {},
   "source": [
    "### Case1: Short experiment time"
   ]
  },
  {
   "cell_type": "code",
   "execution_count": 5,
   "metadata": {
    "execution": {
     "iopub.execute_input": "2020-10-13T07:09:48.088600Z",
     "iopub.status.busy": "2020-10-13T07:09:48.087211Z",
     "iopub.status.idle": "2020-10-13T07:09:48.987708Z",
     "shell.execute_reply": "2020-10-13T07:09:48.987070Z"
    }
   },
   "outputs": [
    {
     "name": "stdout",
     "output_type": "stream",
     "text": [
      "Starting experimental run with id: 1. \n",
      "Starting experimental run with id: 2. \n",
      "Starting experimental run with id: 3. \n"
     ]
    },
    {
     "name": "stdout",
     "output_type": "stream",
     "text": [
      "Starting experimental run with id: 4. \n"
     ]
    },
    {
     "name": "stdout",
     "output_type": "stream",
     "text": [
      "Starting experimental run with id: 5. \n"
     ]
    },
    {
     "name": "stdout",
     "output_type": "stream",
     "text": [
      "Starting experimental run with id: 6. \n",
      "Starting experimental run with id: 7. \n"
     ]
    },
    {
     "name": "stdout",
     "output_type": "stream",
     "text": [
      "Starting experimental run with id: 8. \n"
     ]
    },
    {
     "name": "stdout",
     "output_type": "stream",
     "text": [
      "Starting experimental run with id: 9. \n"
     ]
    },
    {
     "name": "stdout",
     "output_type": "stream",
     "text": [
      "Starting experimental run with id: 10. \n",
      "Starting experimental run with id: 11. \n"
     ]
    },
    {
     "name": "stdout",
     "output_type": "stream",
     "text": [
      "Starting experimental run with id: 12. \n"
     ]
    },
    {
     "name": "stdout",
     "output_type": "stream",
     "text": [
      "Starting experimental run with id: 13. \n"
     ]
    },
    {
     "name": "stdout",
     "output_type": "stream",
     "text": [
      "Starting experimental run with id: 14. \n"
     ]
    }
   ],
   "source": [
    "sizes = [1,500,1000,2000,3000,4000,5000]\n",
    "t_numeric = []\n",
    "t_numeric_add = []\n",
    "t_array = []\n",
    "t_array_add = []\n",
    "for size in sizes:\n",
    "    tn, tna, run_id_n =  insert_data('numeric', size)\n",
    "    t_numeric.append(tn)\n",
    "    t_numeric_add.append(tna)\n",
    "\n",
    "    ta, taa, run_id_a =  insert_data('array', size)\n",
    "    t_array.append(ta)\n",
    "    t_array_add.append(taa)"
   ]
  },
  {
   "cell_type": "code",
   "execution_count": 6,
   "metadata": {
    "execution": {
     "iopub.execute_input": "2020-10-13T07:09:49.010209Z",
     "iopub.status.busy": "2020-10-13T07:09:48.995195Z",
     "iopub.status.idle": "2020-10-13T07:09:49.234588Z",
     "shell.execute_reply": "2020-10-13T07:09:49.234007Z"
    }
   },
   "outputs": [
    {
     "data": {
      "image/png": "[encoded data removed]",
      "text/plain": [
       "<Figure size 432x288 with 1 Axes>"
      ]
     },
     "metadata": {
      "needs_background": "light"
     },
     "output_type": "display_data"
    }
   ],
   "source": [
    "fig, ax = plt.subplots(1,1)\n",
    "ax.plot(sizes, t_numeric, 'o-', label='Inserting row-by-row')\n",
    "ax.plot(sizes, t_numeric_add, 'o-', label='Inserting row-by-row: add_result only')\n",
    "ax.plot(sizes, t_array, 'd-', label='Inserting as binary blob')\n",
    "ax.plot(sizes, t_array_add, 'd-', label='Inserting as binary blob: add_result only')\n",
    "ax.legend()\n",
    "ax.set_xlabel('Array length')\n",
    "ax.set_ylabel('Time (s)')\n",
    "fig.tight_layout()"
   ]
  },
  {
   "cell_type": "markdown",
   "metadata": {},
   "source": [
    "As shown in the latter figure, the time to setup and and close the experiment is approximately 0.4 sec. In case of small array sizes, the difference between inserting values of data as arrays and inserting them row-by-row is relatively unimportant. At larger array sizes, i.e. above 10000 points, the cost of writing data as individual datapoints starts to become important.\n"
   ]
  },
  {
   "cell_type": "markdown",
   "metadata": {},
   "source": [
    "### Case2: Long experiment time "
   ]
  },
  {
   "cell_type": "code",
   "execution_count": 7,
   "metadata": {
    "execution": {
     "iopub.execute_input": "2020-10-13T07:09:49.243094Z",
     "iopub.status.busy": "2020-10-13T07:09:49.241714Z",
     "iopub.status.idle": "2020-10-13T07:10:52.141942Z",
     "shell.execute_reply": "2020-10-13T07:10:52.140926Z"
    }
   },
   "outputs": [
    {
     "name": "stdout",
     "output_type": "stream",
     "text": [
      "Starting experimental run with id: 15. \n",
      "Starting experimental run with id: 16. \n",
      "Starting experimental run with id: 17. \n"
     ]
    },
    {
     "name": "stdout",
     "output_type": "stream",
     "text": [
      "Starting experimental run with id: 18. \n",
      "Starting experimental run with id: 19. \n"
     ]
    },
    {
     "name": "stdout",
     "output_type": "stream",
     "text": [
      "Starting experimental run with id: 20. \n"
     ]
    },
    {
     "name": "stdout",
     "output_type": "stream",
     "text": [
      "Starting experimental run with id: 21. \n"
     ]
    },
    {
     "name": "stdout",
     "output_type": "stream",
     "text": [
      "Starting experimental run with id: 22. \n"
     ]
    },
    {
     "name": "stdout",
     "output_type": "stream",
     "text": [
      "Starting experimental run with id: 23. \n"
     ]
    },
    {
     "name": "stdout",
     "output_type": "stream",
     "text": [
      "Starting experimental run with id: 24. \n"
     ]
    },
    {
     "name": "stdout",
     "output_type": "stream",
     "text": [
      "Starting experimental run with id: 25. \n"
     ]
    },
    {
     "name": "stdout",
     "output_type": "stream",
     "text": [
      "Starting experimental run with id: 26. \n"
     ]
    },
    {
     "name": "stdout",
     "output_type": "stream",
     "text": [
      "Starting experimental run with id: 27. \n"
     ]
    },
    {
     "name": "stdout",
     "output_type": "stream",
     "text": [
      "Starting experimental run with id: 28. \n"
     ]
    }
   ],
   "source": [
    "sizes = [1,500,1000,2000,3000,4000,5000]\n",
    "nreps = 100\n",
    "t_numeric = []\n",
    "t_numeric_add = []\n",
    "t_numeric_run_ids = []\n",
    "t_array = []\n",
    "t_array_add = []\n",
    "t_array_run_ids = []\n",
    "for size in sizes:\n",
    "    tn, tna, run_id_n =  insert_data('numeric', size, nreps=nreps)\n",
    "    t_numeric.append(tn)\n",
    "    t_numeric_add.append(tna)\n",
    "    t_numeric_run_ids.append(run_id_n)\n",
    "\n",
    "    ta, taa, run_id_a =  insert_data('array', size, nreps=nreps)\n",
    "    t_array.append(ta)\n",
    "    t_array_add.append(taa)\n",
    "    t_array_run_ids.append(run_id_a)"
   ]
  },
  {
   "cell_type": "code",
   "execution_count": 8,
   "metadata": {
    "execution": {
     "iopub.execute_input": "2020-10-13T07:10:52.163839Z",
     "iopub.status.busy": "2020-10-13T07:10:52.162543Z",
     "iopub.status.idle": "2020-10-13T07:10:52.390776Z",
     "shell.execute_reply": "2020-10-13T07:10:52.391249Z"
    },
    "scrolled": true
   },
   "outputs": [
    {
     "data": {
      "image/png": "[encoded data removed]",
      "text/plain": [
       "<Figure size 432x288 with 1 Axes>"
      ]
     },
     "metadata": {
      "needs_background": "light"
     },
     "output_type": "display_data"
    }
   ],
   "source": [
    "fig, ax = plt.subplots(1,1)\n",
    "ax.plot(sizes, t_numeric, 'o-', label='Inserting row-by-row')\n",
    "ax.plot(sizes, t_numeric_add, 'o-', label='Inserting row-by-row: add_result only')\n",
    "ax.plot(sizes, t_array, 'd-', label='Inserting as binary blob')\n",
    "ax.plot(sizes, t_array_add, 'd-', label='Inserting as binary blob: add_result only')\n",
    "ax.legend()\n",
    "ax.set_xlabel('Array length')\n",
    "ax.set_ylabel('Time (s)')\n",
    "fig.tight_layout()"
   ]
  },
  {
   "cell_type": "markdown",
   "metadata": {},
   "source": [
    "However, as we increase the length of the experiment, as seen here by repeating the insertion 100 times, we see a big difference between inserting values of the data row-by-row and inserting it as a binary blob."
   ]
  },
  {
   "cell_type": "markdown",
   "metadata": {},
   "source": [
    "## Loading the data "
   ]
  },
  {
   "cell_type": "code",
   "execution_count": 9,
   "metadata": {
    "execution": {
     "iopub.execute_input": "2020-10-13T07:10:52.395793Z",
     "iopub.status.busy": "2020-10-13T07:10:52.394827Z",
     "iopub.status.idle": "2020-10-13T07:10:52.400020Z",
     "shell.execute_reply": "2020-10-13T07:10:52.399286Z"
    }
   },
   "outputs": [],
   "source": [
    "from qcodes.dataset.data_set import load_by_id\n",
    "from qcodes.dataset.data_export import get_data_by_id"
   ]
  },
  {
   "cell_type": "markdown",
   "metadata": {},
   "source": [
    "As usual you can load the data by using the ``load_by_id`` function but you will notice that the different storage methods\n",
    "are reflected in shape of the data as it is retrieved. "
   ]
  },
  {
   "cell_type": "code",
   "execution_count": 10,
   "metadata": {
    "execution": {
     "iopub.execute_input": "2020-10-13T07:10:52.403864Z",
     "iopub.status.busy": "2020-10-13T07:10:52.403215Z",
     "iopub.status.idle": "2020-10-13T07:10:52.407524Z",
     "shell.execute_reply": "2020-10-13T07:10:52.406871Z"
    }
   },
   "outputs": [],
   "source": [
    "run_id_n = t_numeric_run_ids[0]\n",
    "run_id_a = t_array_run_ids[0]"
   ]
  },
  {
   "cell_type": "code",
   "execution_count": 11,
   "metadata": {
    "execution": {
     "iopub.execute_input": "2020-10-13T07:10:52.411049Z",
     "iopub.status.busy": "2020-10-13T07:10:52.410517Z",
     "iopub.status.idle": "2020-10-13T07:10:52.423969Z",
     "shell.execute_reply": "2020-10-13T07:10:52.423309Z"
    },
    "scrolled": true
   },
   "outputs": [
    {
     "data": {
      "text/plain": [
       "{'x1': {'x1': array([0.6406898 , 0.6406898 , 0.65570022, 0.65570022, 0.65426818,\n",
       "         0.65426818, 0.217244  , 0.217244  , 0.06729264, 0.06729264,\n",
       "         0.71982621, 0.71982621, 0.43231216, 0.43231216, 0.0365419 ,\n",
       "         0.0365419 , 0.54939843, 0.54939843, 0.76645836, 0.76645836,\n",
       "         0.90295088, 0.90295088, 0.66186351, 0.66186351, 0.10899452,\n",
       "         0.10899452, 0.04255541, 0.04255541, 0.61446643, 0.61446643,\n",
       "         0.50475226, 0.50475226, 0.33652136, 0.33652136, 0.2394122 ,\n",
       "         0.2394122 , 0.25082877, 0.25082877, 0.54843017, 0.54843017,\n",
       "         0.2807067 , 0.2807067 , 0.33608008, 0.33608008, 0.80480849,\n",
       "         0.80480849, 0.30791324, 0.30791324, 0.72667902, 0.72667902,\n",
       "         0.92856031, 0.92856031, 0.44019497, 0.44019497, 0.09824201,\n",
       "         0.09824201, 0.09182616, 0.09182616, 0.55127691, 0.55127691,\n",
       "         0.91829741, 0.91829741, 0.18265899, 0.18265899, 0.84887612,\n",
       "         0.84887612, 0.70727794, 0.70727794, 0.55599788, 0.55599788,\n",
       "         0.21615714, 0.21615714, 0.64578014, 0.64578014, 0.28487342,\n",
       "         0.28487342, 0.34913211, 0.34913211, 0.34001046, 0.34001046,\n",
       "         0.44985038, 0.44985038, 0.31822558, 0.31822558, 0.48500272,\n",
       "         0.48500272, 0.65757388, 0.65757388, 0.96708991, 0.96708991,\n",
       "         0.16568863, 0.16568863, 0.77823661, 0.77823661, 0.96131498,\n",
       "         0.96131498, 0.65055733, 0.65055733, 0.28198408, 0.28198408,\n",
       "         0.41967785, 0.41967785, 0.58038574, 0.58038574, 0.75885566,\n",
       "         0.75885566, 0.55261375, 0.55261375, 0.18597097, 0.18597097,\n",
       "         0.82858619, 0.82858619, 0.14580691, 0.14580691, 0.07612779,\n",
       "         0.07612779, 0.13037407, 0.13037407, 0.35445195, 0.35445195,\n",
       "         0.60325641, 0.60325641, 0.30277704, 0.30277704, 0.6580801 ,\n",
       "         0.6580801 , 0.48298814, 0.48298814, 0.03098574, 0.03098574,\n",
       "         0.62688875, 0.62688875, 0.81676472, 0.81676472, 0.46059273,\n",
       "         0.46059273, 0.9435269 , 0.9435269 , 0.96688133, 0.96688133,\n",
       "         0.7872259 , 0.7872259 , 0.70825622, 0.70825622, 0.757956  ,\n",
       "         0.757956  , 0.05563775, 0.05563775, 0.32883248, 0.32883248,\n",
       "         0.37074451, 0.37074451, 0.35463921, 0.35463921, 0.10166582,\n",
       "         0.10166582, 0.95252106, 0.95252106, 0.26599412, 0.26599412,\n",
       "         0.81314139, 0.81314139, 0.81547179, 0.81547179, 0.81272608,\n",
       "         0.81272608, 0.18938152, 0.18938152, 0.24797879, 0.24797879,\n",
       "         0.55916931, 0.55916931, 0.3303063 , 0.3303063 , 0.79130052,\n",
       "         0.79130052, 0.78606664, 0.78606664, 0.74064697, 0.74064697,\n",
       "         0.70320844, 0.70320844, 0.59746553, 0.59746553, 0.39544154,\n",
       "         0.39544154, 0.95050506, 0.95050506, 0.78001667, 0.78001667,\n",
       "         0.49975563, 0.49975563, 0.97872749, 0.97872749, 0.19169816,\n",
       "         0.19169816, 0.32708262, 0.32708262, 0.27610162, 0.27610162])}}"
      ]
     },
     "execution_count": 1,
     "metadata": {},
     "output_type": "execute_result"
    }
   ],
   "source": [
    "ds = load_by_id(run_id_n)\n",
    "ds.get_parameter_data('x1')"
   ]
  },
  {
   "cell_type": "markdown",
   "metadata": {},
   "source": [
    "And a dataset stored as binary arrays"
   ]
  },
  {
   "cell_type": "code",
   "execution_count": 12,
   "metadata": {
    "execution": {
     "iopub.execute_input": "2020-10-13T07:10:52.431775Z",
     "iopub.status.busy": "2020-10-13T07:10:52.429973Z",
     "iopub.status.idle": "2020-10-13T07:10:52.491064Z",
     "shell.execute_reply": "2020-10-13T07:10:52.491749Z"
    },
    "scrolled": true
   },
   "outputs": [
    {
     "data": {
      "text/plain": [
       "{'x1': {'x1': array([[0.89202887],\n",
       "         [0.89202887],\n",
       "         [0.8027449 ],\n",
       "         [0.8027449 ],\n",
       "         [0.33351614],\n",
       "         [0.33351614],\n",
       "         [0.25154773],\n",
       "         [0.25154773],\n",
       "         [0.20670505],\n",
       "         [0.20670505],\n",
       "         [0.56457414],\n",
       "         [0.56457414],\n",
       "         [0.13110851],\n",
       "         [0.13110851],\n",
       "         [0.70854413],\n",
       "         [0.70854413],\n",
       "         [0.44684887],\n",
       "         [0.44684887],\n",
       "         [0.89886989],\n",
       "         [0.89886989],\n",
       "         [0.52953684],\n",
       "         [0.52953684],\n",
       "         [0.75971904],\n",
       "         [0.75971904],\n",
       "         [0.94648004],\n",
       "         [0.94648004],\n",
       "         [0.63407924],\n",
       "         [0.63407924],\n",
       "         [0.42317382],\n",
       "         [0.42317382],\n",
       "         [0.93076229],\n",
       "         [0.93076229],\n",
       "         [0.10645884],\n",
       "         [0.10645884],\n",
       "         [0.12880605],\n",
       "         [0.12880605],\n",
       "         [0.35118964],\n",
       "         [0.35118964],\n",
       "         [0.14431891],\n",
       "         [0.14431891],\n",
       "         [0.68842879],\n",
       "         [0.68842879],\n",
       "         [0.21221116],\n",
       "         [0.21221116],\n",
       "         [0.51901207],\n",
       "         [0.51901207],\n",
       "         [0.16790609],\n",
       "         [0.16790609],\n",
       "         [0.86094572],\n",
       "         [0.86094572],\n",
       "         [0.23204123],\n",
       "         [0.23204123],\n",
       "         [0.78121978],\n",
       "         [0.78121978],\n",
       "         [0.88949836],\n",
       "         [0.88949836],\n",
       "         [0.46002314],\n",
       "         [0.46002314],\n",
       "         [0.68844613],\n",
       "         [0.68844613],\n",
       "         [0.85796486],\n",
       "         [0.85796486],\n",
       "         [0.02011503],\n",
       "         [0.02011503],\n",
       "         [0.05816804],\n",
       "         [0.05816804],\n",
       "         [0.96376074],\n",
       "         [0.96376074],\n",
       "         [0.63806637],\n",
       "         [0.63806637],\n",
       "         [0.7059332 ],\n",
       "         [0.7059332 ],\n",
       "         [0.41356697],\n",
       "         [0.41356697],\n",
       "         [0.38271857],\n",
       "         [0.38271857],\n",
       "         [0.52041479],\n",
       "         [0.52041479],\n",
       "         [0.22186388],\n",
       "         [0.22186388],\n",
       "         [0.82151565],\n",
       "         [0.82151565],\n",
       "         [0.63279353],\n",
       "         [0.63279353],\n",
       "         [0.70124343],\n",
       "         [0.70124343],\n",
       "         [0.79776538],\n",
       "         [0.79776538],\n",
       "         [0.83696565],\n",
       "         [0.83696565],\n",
       "         [0.96816775],\n",
       "         [0.96816775],\n",
       "         [0.54076838],\n",
       "         [0.54076838],\n",
       "         [0.77737697],\n",
       "         [0.77737697],\n",
       "         [0.29533175],\n",
       "         [0.29533175],\n",
       "         [0.88536178],\n",
       "         [0.88536178],\n",
       "         [0.28747192],\n",
       "         [0.28747192],\n",
       "         [0.47607529],\n",
       "         [0.47607529],\n",
       "         [0.79513336],\n",
       "         [0.79513336],\n",
       "         [0.75797904],\n",
       "         [0.75797904],\n",
       "         [0.24258874],\n",
       "         [0.24258874],\n",
       "         [0.92839603],\n",
       "         [0.92839603],\n",
       "         [0.0817673 ],\n",
       "         [0.0817673 ],\n",
       "         [0.13067563],\n",
       "         [0.13067563],\n",
       "         [0.82465327],\n",
       "         [0.82465327],\n",
       "         [0.65145632],\n",
       "         [0.65145632],\n",
       "         [0.44539269],\n",
       "         [0.44539269],\n",
       "         [0.33732997],\n",
       "         [0.33732997],\n",
       "         [0.39040165],\n",
       "         [0.39040165],\n",
       "         [0.72620284],\n",
       "         [0.72620284],\n",
       "         [0.50271913],\n",
       "         [0.50271913],\n",
       "         [0.10290036],\n",
       "         [0.10290036],\n",
       "         [0.48203056],\n",
       "         [0.48203056],\n",
       "         [0.18417914],\n",
       "         [0.18417914],\n",
       "         [0.17241599],\n",
       "         [0.17241599],\n",
       "         [0.48043835],\n",
       "         [0.48043835],\n",
       "         [0.87019673],\n",
       "         [0.87019673],\n",
       "         [0.76223442],\n",
       "         [0.76223442],\n",
       "         [0.2692119 ],\n",
       "         [0.2692119 ],\n",
       "         [0.80784004],\n",
       "         [0.80784004],\n",
       "         [0.96529123],\n",
       "         [0.96529123],\n",
       "         [0.13238647],\n",
       "         [0.13238647],\n",
       "         [0.00652214],\n",
       "         [0.00652214],\n",
       "         [0.20118233],\n",
       "         [0.20118233],\n",
       "         [0.45796505],\n",
       "         [0.45796505],\n",
       "         [0.03999423],\n",
       "         [0.03999423],\n",
       "         [0.75867531],\n",
       "         [0.75867531],\n",
       "         [0.59098931],\n",
       "         [0.59098931],\n",
       "         [0.01350111],\n",
       "         [0.01350111],\n",
       "         [0.63081036],\n",
       "         [0.63081036],\n",
       "         [0.57117367],\n",
       "         [0.57117367],\n",
       "         [0.9656463 ],\n",
       "         [0.9656463 ],\n",
       "         [0.72237905],\n",
       "         [0.72237905],\n",
       "         [0.96147558],\n",
       "         [0.96147558],\n",
       "         [0.48565861],\n",
       "         [0.48565861],\n",
       "         [0.12000851],\n",
       "         [0.12000851],\n",
       "         [0.68907286],\n",
       "         [0.68907286],\n",
       "         [0.76576107],\n",
       "         [0.76576107],\n",
       "         [0.05651208],\n",
       "         [0.05651208],\n",
       "         [0.64496235],\n",
       "         [0.64496235],\n",
       "         [0.10774393],\n",
       "         [0.10774393],\n",
       "         [0.42353105],\n",
       "         [0.42353105],\n",
       "         [0.9609314 ],\n",
       "         [0.9609314 ],\n",
       "         [0.90845337],\n",
       "         [0.90845337],\n",
       "         [0.27197695],\n",
       "         [0.27197695],\n",
       "         [0.84621444],\n",
       "         [0.84621444]])}}"
      ]
     },
     "execution_count": 1,
     "metadata": {},
     "output_type": "execute_result"
    }
   ],
   "source": [
    "ds = load_by_id(run_id_a)\n",
    "ds.get_parameter_data('x1')"
   ]
  },
  {
   "cell_type": "code",
   "execution_count": null,
   "metadata": {},
   "outputs": [],
   "source": []
  }
 ],
 "metadata": {
  "kernelspec": {
   "display_name": "Python 3",
   "language": "python",
   "name": "python3"
  },
  "language_info": {
   "codemirror_mode": {
    "name": "ipython",
    "version": 3
   },
   "file_extension": ".py",
   "mimetype": "text/x-python",
   "name": "python",
   "nbconvert_exporter": "python",
   "pygments_lexer": "ipython3",
   "version": "3.7.7"
  },
  "nbsphinx": {
   "timeout": 600
  },
  "toc": {
   "base_numbering": 1,
   "nav_menu": {},
   "number_sections": true,
   "sideBar": true,
   "skip_h1_title": false,
   "title_cell": "Table of Contents",
   "title_sidebar": "Contents",
   "toc_cell": false,
   "toc_position": {},
   "toc_section_display": true,
   "toc_window_display": false
  },
  "varInspector": {
   "cols": {
    "lenName": 16,
    "lenType": 16,
    "lenVar": 40
   },
   "kernels_config": {
    "python": {
     "delete_cmd_postfix": "",
     "delete_cmd_prefix": "del ",
     "library": "var_list.py",
     "varRefreshCmd": "print(var_dic_list())"
    },
    "r": {
     "delete_cmd_postfix": ") ",
     "delete_cmd_prefix": "rm(",
     "library": "var_list.r",
     "varRefreshCmd": "cat(var_dic_list()) "
    }
   },
   "types_to_exclude": [
    "module",
    "function",
    "builtin_function_or_method",
    "instance",
    "_Feature"
   ],
   "window_display": false
  }
 },
 "nbformat": 4,
 "nbformat_minor": 2
}
