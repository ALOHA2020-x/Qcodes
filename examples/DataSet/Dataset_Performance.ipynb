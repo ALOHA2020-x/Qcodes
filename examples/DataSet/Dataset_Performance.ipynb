{
 "cells": [
  {
   "cell_type": "markdown",
   "metadata": {},
   "source": [
    "# DataSet Performance\n",
    "\n",
    "This notebook shows the trade-off between inserting data into a database row-by-row and as binary blobs. Inserting the data row-by-row means that we have direct access to all the data and may perform queries directly on the values of the data. On the other hand, as we shall see, this is much slower than inserting the data directly as binary blobs."
   ]
  },
  {
   "cell_type": "markdown",
   "metadata": {},
   "source": [
    "First, we choose a new location for the database to ensure that we don't add a bunch of benchmarking data to the default one."
   ]
  },
  {
   "cell_type": "code",
   "execution_count": 1,
   "metadata": {
    "execution": {
     "iopub.execute_input": "2021-05-10T08:07:16.087866Z",
     "iopub.status.busy": "2021-05-10T08:07:16.087267Z",
     "iopub.status.idle": "2021-05-10T08:07:17.322892Z",
     "shell.execute_reply": "2021-05-10T08:07:17.321667Z"
    }
   },
   "outputs": [
    {
     "name": "stdout",
     "output_type": "stream",
     "text": [
      "Logging hadn't been started.\n",
      "Activating auto-logging. Current session state plus future input saved.\n",
      "Filename       : /home/runner/.qcodes/logs/command_history.log\n",
      "Mode           : append\n",
      "Output logging : True\n",
      "Raw input log  : False\n",
      "Timestamping   : True\n",
      "State          : active\n"
     ]
    },
    {
     "name": "stdout",
     "output_type": "stream",
     "text": [
      "Qcodes Logfile : /home/runner/.qcodes/logs/210510-5021-qcodes.log\n"
     ]
    }
   ],
   "source": [
    "import os\n",
    "cwd = os.getcwd()\n",
    "import qcodes as qc\n",
    "qc.config[\"core\"][\"db_location\"] = os.path.join(cwd, 'testing.db')\n"
   ]
  },
  {
   "cell_type": "code",
   "execution_count": 2,
   "metadata": {
    "execution": {
     "iopub.execute_input": "2021-05-10T08:07:17.329614Z",
     "iopub.status.busy": "2021-05-10T08:07:17.329021Z",
     "iopub.status.idle": "2021-05-10T08:07:17.538779Z",
     "shell.execute_reply": "2021-05-10T08:07:17.538213Z"
    }
   },
   "outputs": [],
   "source": [
    "%matplotlib inline\n",
    "import time\n",
    "import matplotlib.pyplot as plt\n",
    "import numpy as np\n",
    "\n",
    "import qcodes as qc\n",
    "from qcodes.instrument.parameter import ManualParameter\n",
    "from qcodes.dataset.experiment_container import (Experiment,\n",
    "                                                 load_last_experiment,\n",
    "                                                 new_experiment)\n",
    "from qcodes.dataset.sqlite.database import initialise_database\n",
    "from qcodes import load_or_create_experiment\n",
    "from qcodes.dataset.measurements import Measurement"
   ]
  },
  {
   "cell_type": "code",
   "execution_count": 3,
   "metadata": {
    "execution": {
     "iopub.execute_input": "2021-05-10T08:07:17.544436Z",
     "iopub.status.busy": "2021-05-10T08:07:17.543588Z",
     "iopub.status.idle": "2021-05-10T08:07:17.604664Z",
     "shell.execute_reply": "2021-05-10T08:07:17.605158Z"
    }
   },
   "outputs": [
    {
     "name": "stdout",
     "output_type": "stream",
     "text": [
      "\r",
      "0it [00:00, ?it/s]"
     ]
    },
    {
     "name": "stdout",
     "output_type": "stream",
     "text": [
      "\r",
      "Upgrading database; v0 -> v1: : 0it [00:00, ?it/s]"
     ]
    },
    {
     "name": "stdout",
     "output_type": "stream",
     "text": [
      "\r",
      "Upgrading database; v0 -> v1: : 0it [00:00, ?it/s]"
     ]
    },
    {
     "name": "stdout",
     "output_type": "stream",
     "text": [
      "\n",
      "\r",
      "  0%|          | 0/1 [00:00<?, ?it/s]"
     ]
    },
    {
     "name": "stdout",
     "output_type": "stream",
     "text": [
      "\r",
      "Upgrading database; v1 -> v2:   0%|          | 0/1 [00:00<?, ?it/s]"
     ]
    },
    {
     "name": "stdout",
     "output_type": "stream",
     "text": [
      "\r",
      "Upgrading database; v1 -> v2: 100%|██████████| 1/1 [00:00<00:00, 675.63it/s]"
     ]
    },
    {
     "name": "stdout",
     "output_type": "stream",
     "text": [
      "\n",
      "\r",
      "0it [00:00, ?it/s]"
     ]
    },
    {
     "name": "stdout",
     "output_type": "stream",
     "text": [
      "\r",
      "Upgrading database; v2 -> v3: : 0it [00:00, ?it/s]"
     ]
    },
    {
     "name": "stdout",
     "output_type": "stream",
     "text": [
      "\r",
      "Upgrading database; v2 -> v3: : 0it [00:00, ?it/s]"
     ]
    },
    {
     "name": "stdout",
     "output_type": "stream",
     "text": [
      "\n",
      "\r",
      "0it [00:00, ?it/s]"
     ]
    },
    {
     "name": "stdout",
     "output_type": "stream",
     "text": [
      "\r",
      "Upgrading database; v3 -> v4: : 0it [00:00, ?it/s]"
     ]
    },
    {
     "name": "stdout",
     "output_type": "stream",
     "text": [
      "\r",
      "Upgrading database; v3 -> v4: : 0it [00:00, ?it/s]"
     ]
    },
    {
     "name": "stdout",
     "output_type": "stream",
     "text": [
      "\n",
      "\r",
      "  0%|          | 0/1 [00:00<?, ?it/s]"
     ]
    },
    {
     "name": "stdout",
     "output_type": "stream",
     "text": [
      "\r",
      "Upgrading database; v4 -> v5:   0%|          | 0/1 [00:00<?, ?it/s]"
     ]
    },
    {
     "name": "stdout",
     "output_type": "stream",
     "text": [
      "\r",
      "Upgrading database; v4 -> v5: 100%|██████████| 1/1 [00:00<00:00, 744.73it/s]"
     ]
    },
    {
     "name": "stdout",
     "output_type": "stream",
     "text": [
      "\n",
      "\r",
      "0it [00:00, ?it/s]"
     ]
    },
    {
     "name": "stdout",
     "output_type": "stream",
     "text": [
      "\r",
      "Upgrading database; v5 -> v6: : 0it [00:00, ?it/s]"
     ]
    },
    {
     "name": "stdout",
     "output_type": "stream",
     "text": [
      "\r",
      "Upgrading database; v5 -> v6: : 0it [00:00, ?it/s]"
     ]
    },
    {
     "name": "stdout",
     "output_type": "stream",
     "text": [
      "\n",
      "\r",
      "  0%|          | 0/1 [00:00<?, ?it/s]"
     ]
    },
    {
     "name": "stdout",
     "output_type": "stream",
     "text": [
      "\r",
      "Upgrading database; v6 -> v7:   0%|          | 0/1 [00:00<?, ?it/s]"
     ]
    },
    {
     "name": "stdout",
     "output_type": "stream",
     "text": [
      "\r",
      "Upgrading database; v6 -> v7: 100%|██████████| 1/1 [00:00<00:00, 400.11it/s]"
     ]
    },
    {
     "name": "stdout",
     "output_type": "stream",
     "text": [
      "\n",
      "\r",
      "  0%|          | 0/1 [00:00<?, ?it/s]"
     ]
    },
    {
     "name": "stdout",
     "output_type": "stream",
     "text": [
      "\r",
      "Upgrading database; v7 -> v8:   0%|          | 0/1 [00:00<?, ?it/s]"
     ]
    },
    {
     "name": "stdout",
     "output_type": "stream",
     "text": [
      "\r",
      "Upgrading database; v7 -> v8: 100%|██████████| 1/1 [00:00<00:00, 843.75it/s]"
     ]
    },
    {
     "name": "stdout",
     "output_type": "stream",
     "text": [
      "\n",
      "\r",
      "  0%|          | 0/1 [00:00<?, ?it/s]"
     ]
    },
    {
     "name": "stdout",
     "output_type": "stream",
     "text": [
      "\r",
      "Upgrading database; v8 -> v9:   0%|          | 0/1 [00:00<?, ?it/s]"
     ]
    },
    {
     "name": "stdout",
     "output_type": "stream",
     "text": [
      "\r",
      "Upgrading database; v8 -> v9: 100%|██████████| 1/1 [00:00<00:00, 805.51it/s]"
     ]
    },
    {
     "name": "stdout",
     "output_type": "stream",
     "text": [
      "\n"
     ]
    }
   ],
   "source": [
    "initialise_database()\n",
    "exp = load_or_create_experiment(experiment_name='tutorial_exp', sample_name=\"no sample\")"
   ]
  },
  {
   "cell_type": "markdown",
   "metadata": {},
   "source": [
    "Here, we define a simple function to benchmark the time it takes to insert n points with either numeric or array data type.\n",
    "We will compare both the time used to call ``add_result`` and the time used for the full measurement."
   ]
  },
  {
   "cell_type": "code",
   "execution_count": 4,
   "metadata": {
    "execution": {
     "iopub.execute_input": "2021-05-10T08:07:17.615337Z",
     "iopub.status.busy": "2021-05-10T08:07:17.614051Z",
     "iopub.status.idle": "2021-05-10T08:07:17.616029Z",
     "shell.execute_reply": "2021-05-10T08:07:17.616533Z"
    }
   },
   "outputs": [],
   "source": [
    "def insert_data(paramtype, npoints, nreps=1):\n",
    "\n",
    "    meas = Measurement(exp=exp)\n",
    "\n",
    "    x1 = ManualParameter('x1')\n",
    "    x2 = ManualParameter('x2')\n",
    "    x3 = ManualParameter('x3')\n",
    "    y1 = ManualParameter('y1')\n",
    "    y2 = ManualParameter('y2')\n",
    "\n",
    "    meas.register_parameter(x1, paramtype=paramtype)\n",
    "    meas.register_parameter(x2, paramtype=paramtype)\n",
    "    meas.register_parameter(x3, paramtype=paramtype)\n",
    "    meas.register_parameter(y1, setpoints=[x1, x2, x3],\n",
    "                            paramtype=paramtype)\n",
    "    meas.register_parameter(y2, setpoints=[x1, x2, x3],\n",
    "                            paramtype=paramtype)\n",
    "    start = time.perf_counter()\n",
    "    with meas.run() as datasaver:\n",
    "        start_adding = time.perf_counter()\n",
    "        for i in range(nreps):\n",
    "            datasaver.add_result((x1, np.random.rand(npoints)),\n",
    "                                 (x2, np.random.rand(npoints)),\n",
    "                                 (x3, np.random.rand(npoints)),\n",
    "                                 (y1, np.random.rand(npoints)),\n",
    "                                 (y2, np.random.rand(npoints)))\n",
    "        stop_adding = time.perf_counter()\n",
    "        run_id = datasaver.run_id\n",
    "    stop = time.perf_counter()\n",
    "    tot_time = stop - start\n",
    "    add_time = stop_adding - start_adding\n",
    "    return tot_time, add_time, run_id"
   ]
  },
  {
   "cell_type": "markdown",
   "metadata": {},
   "source": [
    "## Comparison between numeric/array data and binary blob"
   ]
  },
  {
   "cell_type": "markdown",
   "metadata": {},
   "source": [
    "### Case1: Short experiment time"
   ]
  },
  {
   "cell_type": "code",
   "execution_count": 5,
   "metadata": {
    "execution": {
     "iopub.execute_input": "2021-05-10T08:07:17.624157Z",
     "iopub.status.busy": "2021-05-10T08:07:17.623513Z",
     "iopub.status.idle": "2021-05-10T08:07:18.466652Z",
     "shell.execute_reply": "2021-05-10T08:07:18.465462Z"
    }
   },
   "outputs": [
    {
     "name": "stdout",
     "output_type": "stream",
     "text": [
      "Starting experimental run with id: 1. \n",
      "Starting experimental run with id: 2. \n",
      "Starting experimental run with id: 3. \n"
     ]
    },
    {
     "name": "stdout",
     "output_type": "stream",
     "text": [
      "Starting experimental run with id: 4. \n"
     ]
    },
    {
     "name": "stdout",
     "output_type": "stream",
     "text": [
      "Starting experimental run with id: 5. \n"
     ]
    },
    {
     "name": "stdout",
     "output_type": "stream",
     "text": [
      "Starting experimental run with id: 6. \n"
     ]
    },
    {
     "name": "stdout",
     "output_type": "stream",
     "text": [
      "Starting experimental run with id: 7. \n",
      "Starting experimental run with id: 8. \n",
      "Starting experimental run with id: 9. \n"
     ]
    },
    {
     "name": "stdout",
     "output_type": "stream",
     "text": [
      "Starting experimental run with id: 10. \n",
      "Starting experimental run with id: 11. \n",
      "Starting experimental run with id: 12. \n",
      "Starting experimental run with id: 13. \n"
     ]
    },
    {
     "name": "stdout",
     "output_type": "stream",
     "text": [
      "Starting experimental run with id: 14. \n"
     ]
    }
   ],
   "source": [
    "sizes = [1,500,1000,2000,3000,4000,5000]\n",
    "t_numeric = []\n",
    "t_numeric_add = []\n",
    "t_array = []\n",
    "t_array_add = []\n",
    "for size in sizes:\n",
    "    tn, tna, run_id_n =  insert_data('numeric', size)\n",
    "    t_numeric.append(tn)\n",
    "    t_numeric_add.append(tna)\n",
    "\n",
    "    ta, taa, run_id_a =  insert_data('array', size)\n",
    "    t_array.append(ta)\n",
    "    t_array_add.append(taa)"
   ]
  },
  {
   "cell_type": "code",
   "execution_count": 6,
   "metadata": {
    "execution": {
     "iopub.execute_input": "2021-05-10T08:07:18.498295Z",
     "iopub.status.busy": "2021-05-10T08:07:18.487897Z",
     "iopub.status.idle": "2021-05-10T08:07:18.705583Z",
     "shell.execute_reply": "2021-05-10T08:07:18.704647Z"
    }
   },
   "outputs": [
    {
     "data": {
      "image/png": "[encoded data removed]",
      "text/plain": [
       "<Figure size 432x288 with 1 Axes>"
      ]
     },
     "metadata": {
      "needs_background": "light"
     },
     "output_type": "display_data"
    }
   ],
   "source": [
    "fig, ax = plt.subplots(1,1)\n",
    "ax.plot(sizes, t_numeric, 'o-', label='Inserting row-by-row')\n",
    "ax.plot(sizes, t_numeric_add, 'o-', label='Inserting row-by-row: add_result only')\n",
    "ax.plot(sizes, t_array, 'd-', label='Inserting as binary blob')\n",
    "ax.plot(sizes, t_array_add, 'd-', label='Inserting as binary blob: add_result only')\n",
    "ax.legend()\n",
    "ax.set_xlabel('Array length')\n",
    "ax.set_ylabel('Time (s)')\n",
    "fig.tight_layout()"
   ]
  },
  {
   "cell_type": "markdown",
   "metadata": {},
   "source": [
    "As shown in the latter figure, the time to setup and and close the experiment is approximately 0.4 sec. In case of small array sizes, the difference between inserting values of data as arrays and inserting them row-by-row is relatively unimportant. At larger array sizes, i.e. above 10000 points, the cost of writing data as individual datapoints starts to become important.\n"
   ]
  },
  {
   "cell_type": "markdown",
   "metadata": {},
   "source": [
    "### Case2: Long experiment time "
   ]
  },
  {
   "cell_type": "code",
   "execution_count": 7,
   "metadata": {
    "execution": {
     "iopub.execute_input": "2021-05-10T08:07:18.715369Z",
     "iopub.status.busy": "2021-05-10T08:07:18.713818Z",
     "iopub.status.idle": "2021-05-10T08:08:15.612752Z",
     "shell.execute_reply": "2021-05-10T08:08:15.613559Z"
    }
   },
   "outputs": [
    {
     "name": "stdout",
     "output_type": "stream",
     "text": [
      "Starting experimental run with id: 15. \n",
      "Starting experimental run with id: 16. \n",
      "Starting experimental run with id: 17. \n"
     ]
    },
    {
     "name": "stdout",
     "output_type": "stream",
     "text": [
      "Starting experimental run with id: 18. \n",
      "Starting experimental run with id: 19. \n"
     ]
    },
    {
     "name": "stdout",
     "output_type": "stream",
     "text": [
      "Starting experimental run with id: 20. \n"
     ]
    },
    {
     "name": "stdout",
     "output_type": "stream",
     "text": [
      "Starting experimental run with id: 21. \n"
     ]
    },
    {
     "name": "stdout",
     "output_type": "stream",
     "text": [
      "Starting experimental run with id: 22. \n"
     ]
    },
    {
     "name": "stdout",
     "output_type": "stream",
     "text": [
      "Starting experimental run with id: 23. \n"
     ]
    },
    {
     "name": "stdout",
     "output_type": "stream",
     "text": [
      "Starting experimental run with id: 24. \n"
     ]
    },
    {
     "name": "stdout",
     "output_type": "stream",
     "text": [
      "Starting experimental run with id: 25. \n"
     ]
    },
    {
     "name": "stdout",
     "output_type": "stream",
     "text": [
      "Starting experimental run with id: 26. \n"
     ]
    },
    {
     "name": "stdout",
     "output_type": "stream",
     "text": [
      "Starting experimental run with id: 27. \n"
     ]
    },
    {
     "name": "stdout",
     "output_type": "stream",
     "text": [
      "Starting experimental run with id: 28. \n"
     ]
    }
   ],
   "source": [
    "sizes = [1,500,1000,2000,3000,4000,5000]\n",
    "nreps = 100\n",
    "t_numeric = []\n",
    "t_numeric_add = []\n",
    "t_numeric_run_ids = []\n",
    "t_array = []\n",
    "t_array_add = []\n",
    "t_array_run_ids = []\n",
    "for size in sizes:\n",
    "    tn, tna, run_id_n =  insert_data('numeric', size, nreps=nreps)\n",
    "    t_numeric.append(tn)\n",
    "    t_numeric_add.append(tna)\n",
    "    t_numeric_run_ids.append(run_id_n)\n",
    "\n",
    "    ta, taa, run_id_a =  insert_data('array', size, nreps=nreps)\n",
    "    t_array.append(ta)\n",
    "    t_array_add.append(taa)\n",
    "    t_array_run_ids.append(run_id_a)"
   ]
  },
  {
   "cell_type": "code",
   "execution_count": 8,
   "metadata": {
    "execution": {
     "iopub.execute_input": "2021-05-10T08:08:15.642180Z",
     "iopub.status.busy": "2021-05-10T08:08:15.633640Z",
     "iopub.status.idle": "2021-05-10T08:08:15.837524Z",
     "shell.execute_reply": "2021-05-10T08:08:15.837020Z"
    },
    "scrolled": true
   },
   "outputs": [
    {
     "data": {
      "image/png": "[encoded data removed]",
      "text/plain": [
       "<Figure size 432x288 with 1 Axes>"
      ]
     },
     "metadata": {
      "needs_background": "light"
     },
     "output_type": "display_data"
    }
   ],
   "source": [
    "fig, ax = plt.subplots(1,1)\n",
    "ax.plot(sizes, t_numeric, 'o-', label='Inserting row-by-row')\n",
    "ax.plot(sizes, t_numeric_add, 'o-', label='Inserting row-by-row: add_result only')\n",
    "ax.plot(sizes, t_array, 'd-', label='Inserting as binary blob')\n",
    "ax.plot(sizes, t_array_add, 'd-', label='Inserting as binary blob: add_result only')\n",
    "ax.legend()\n",
    "ax.set_xlabel('Array length')\n",
    "ax.set_ylabel('Time (s)')\n",
    "fig.tight_layout()"
   ]
  },
  {
   "cell_type": "markdown",
   "metadata": {},
   "source": [
    "However, as we increase the length of the experiment, as seen here by repeating the insertion 100 times, we see a big difference between inserting values of the data row-by-row and inserting it as a binary blob."
   ]
  },
  {
   "cell_type": "markdown",
   "metadata": {},
   "source": [
    "## Loading the data "
   ]
  },
  {
   "cell_type": "code",
   "execution_count": 9,
   "metadata": {
    "execution": {
     "iopub.execute_input": "2021-05-10T08:08:15.842736Z",
     "iopub.status.busy": "2021-05-10T08:08:15.841494Z",
     "iopub.status.idle": "2021-05-10T08:08:15.843388Z",
     "shell.execute_reply": "2021-05-10T08:08:15.843883Z"
    }
   },
   "outputs": [],
   "source": [
    "from qcodes.dataset.data_set import load_by_id"
   ]
  },
  {
   "cell_type": "markdown",
   "metadata": {},
   "source": [
    "As usual you can load the data by using the ``load_by_id`` function but you will notice that the different storage methods\n",
    "are reflected in shape of the data as it is retrieved. "
   ]
  },
  {
   "cell_type": "code",
   "execution_count": 10,
   "metadata": {
    "execution": {
     "iopub.execute_input": "2021-05-10T08:08:15.848650Z",
     "iopub.status.busy": "2021-05-10T08:08:15.847379Z",
     "iopub.status.idle": "2021-05-10T08:08:15.849300Z",
     "shell.execute_reply": "2021-05-10T08:08:15.849774Z"
    }
   },
   "outputs": [],
   "source": [
    "run_id_n = t_numeric_run_ids[0]\n",
    "run_id_a = t_array_run_ids[0]"
   ]
  },
  {
   "cell_type": "code",
   "execution_count": 11,
   "metadata": {
    "execution": {
     "iopub.execute_input": "2021-05-10T08:08:15.853235Z",
     "iopub.status.busy": "2021-05-10T08:08:15.852673Z",
     "iopub.status.idle": "2021-05-10T08:08:15.862600Z",
     "shell.execute_reply": "2021-05-10T08:08:15.862125Z"
    },
    "scrolled": true
   },
   "outputs": [
    {
     "data": {
      "text/plain": [
       "{'x1': {'x1': array([0.90686525, 0.90686525, 0.67199924, 0.67199924, 0.29914513,\n",
       "         0.29914513, 0.69342153, 0.69342153, 0.19551661, 0.19551661,\n",
       "         0.71015294, 0.71015294, 0.14569001, 0.14569001, 0.66962304,\n",
       "         0.66962304, 0.52121075, 0.52121075, 0.96338732, 0.96338732,\n",
       "         0.27979923, 0.27979923, 0.88452125, 0.88452125, 0.84327311,\n",
       "         0.84327311, 0.59816356, 0.59816356, 0.20622064, 0.20622064,\n",
       "         0.83394237, 0.83394237, 0.82940119, 0.82940119, 0.07324066,\n",
       "         0.07324066, 0.98845947, 0.98845947, 0.9263821 , 0.9263821 ,\n",
       "         0.82393225, 0.82393225, 0.25566244, 0.25566244, 0.51531805,\n",
       "         0.51531805, 0.56378086, 0.56378086, 0.69820725, 0.69820725,\n",
       "         0.62103672, 0.62103672, 0.38204134, 0.38204134, 0.60198634,\n",
       "         0.60198634, 0.10832752, 0.10832752, 0.91883745, 0.91883745,\n",
       "         0.81599215, 0.81599215, 0.89134922, 0.89134922, 0.61104273,\n",
       "         0.61104273, 0.89586232, 0.89586232, 0.86323497, 0.86323497,\n",
       "         0.54735813, 0.54735813, 0.01633592, 0.01633592, 0.39665225,\n",
       "         0.39665225, 0.25161945, 0.25161945, 0.66179292, 0.66179292,\n",
       "         0.70698075, 0.70698075, 0.97662655, 0.97662655, 0.90458478,\n",
       "         0.90458478, 0.78361067, 0.78361067, 0.95378467, 0.95378467,\n",
       "         0.92221088, 0.92221088, 0.12273543, 0.12273543, 0.41443641,\n",
       "         0.41443641, 0.64951919, 0.64951919, 0.24543041, 0.24543041,\n",
       "         0.71314711, 0.71314711, 0.75800769, 0.75800769, 0.46574933,\n",
       "         0.46574933, 0.11428726, 0.11428726, 0.23488981, 0.23488981,\n",
       "         0.75500208, 0.75500208, 0.97985456, 0.97985456, 0.79664806,\n",
       "         0.79664806, 0.39036728, 0.39036728, 0.22087831, 0.22087831,\n",
       "         0.413828  , 0.413828  , 0.63638737, 0.63638737, 0.70133968,\n",
       "         0.70133968, 0.14069674, 0.14069674, 0.91285341, 0.91285341,\n",
       "         0.61786634, 0.61786634, 0.97173108, 0.97173108, 0.84889312,\n",
       "         0.84889312, 0.13083296, 0.13083296, 0.78667569, 0.78667569,\n",
       "         0.11606515, 0.11606515, 0.72530021, 0.72530021, 0.96723201,\n",
       "         0.96723201, 0.30701987, 0.30701987, 0.55162407, 0.55162407,\n",
       "         0.30383338, 0.30383338, 0.31968771, 0.31968771, 0.08806379,\n",
       "         0.08806379, 0.08081585, 0.08081585, 0.40346966, 0.40346966,\n",
       "         0.07836962, 0.07836962, 0.74205454, 0.74205454, 0.20118932,\n",
       "         0.20118932, 0.06229121, 0.06229121, 0.07692704, 0.07692704,\n",
       "         0.51036377, 0.51036377, 0.07993862, 0.07993862, 0.76302662,\n",
       "         0.76302662, 0.62521638, 0.62521638, 0.14706894, 0.14706894,\n",
       "         0.25329315, 0.25329315, 0.87065665, 0.87065665, 0.51628681,\n",
       "         0.51628681, 0.51218855, 0.51218855, 0.67699877, 0.67699877,\n",
       "         0.95540133, 0.95540133, 0.62353452, 0.62353452, 0.16073042,\n",
       "         0.16073042, 0.69236128, 0.69236128, 0.89991484, 0.89991484])}}"
      ]
     },
     "execution_count": 1,
     "metadata": {},
     "output_type": "execute_result"
    }
   ],
   "source": [
    "ds = load_by_id(run_id_n)\n",
    "ds.get_parameter_data('x1')"
   ]
  },
  {
   "cell_type": "markdown",
   "metadata": {},
   "source": [
    "And a dataset stored as binary arrays"
   ]
  },
  {
   "cell_type": "code",
   "execution_count": 12,
   "metadata": {
    "execution": {
     "iopub.execute_input": "2021-05-10T08:08:15.866065Z",
     "iopub.status.busy": "2021-05-10T08:08:15.865502Z",
     "iopub.status.idle": "2021-05-10T08:08:15.923758Z",
     "shell.execute_reply": "2021-05-10T08:08:15.924283Z"
    },
    "scrolled": true
   },
   "outputs": [
    {
     "data": {
      "text/plain": [
       "{'x1': {'x1': array([[0.18702084],\n",
       "         [0.18702084],\n",
       "         [0.17168275],\n",
       "         [0.17168275],\n",
       "         [0.94434798],\n",
       "         [0.94434798],\n",
       "         [0.56865137],\n",
       "         [0.56865137],\n",
       "         [0.52382669],\n",
       "         [0.52382669],\n",
       "         [0.02328373],\n",
       "         [0.02328373],\n",
       "         [0.06604964],\n",
       "         [0.06604964],\n",
       "         [0.75064453],\n",
       "         [0.75064453],\n",
       "         [0.63375575],\n",
       "         [0.63375575],\n",
       "         [0.90961932],\n",
       "         [0.90961932],\n",
       "         [0.48133404],\n",
       "         [0.48133404],\n",
       "         [0.13859602],\n",
       "         [0.13859602],\n",
       "         [0.89747397],\n",
       "         [0.89747397],\n",
       "         [0.60231041],\n",
       "         [0.60231041],\n",
       "         [0.99634204],\n",
       "         [0.99634204],\n",
       "         [0.19051982],\n",
       "         [0.19051982],\n",
       "         [0.99471253],\n",
       "         [0.99471253],\n",
       "         [0.09840139],\n",
       "         [0.09840139],\n",
       "         [0.43652687],\n",
       "         [0.43652687],\n",
       "         [0.38412408],\n",
       "         [0.38412408],\n",
       "         [0.65712626],\n",
       "         [0.65712626],\n",
       "         [0.9947213 ],\n",
       "         [0.9947213 ],\n",
       "         [0.98625937],\n",
       "         [0.98625937],\n",
       "         [0.79765987],\n",
       "         [0.79765987],\n",
       "         [0.2145846 ],\n",
       "         [0.2145846 ],\n",
       "         [0.57918571],\n",
       "         [0.57918571],\n",
       "         [0.60630012],\n",
       "         [0.60630012],\n",
       "         [0.30175379],\n",
       "         [0.30175379],\n",
       "         [0.42269218],\n",
       "         [0.42269218],\n",
       "         [0.09869405],\n",
       "         [0.09869405],\n",
       "         [0.57987208],\n",
       "         [0.57987208],\n",
       "         [0.00446834],\n",
       "         [0.00446834],\n",
       "         [0.91584952],\n",
       "         [0.91584952],\n",
       "         [0.5046063 ],\n",
       "         [0.5046063 ],\n",
       "         [0.73623112],\n",
       "         [0.73623112],\n",
       "         [0.31849538],\n",
       "         [0.31849538],\n",
       "         [0.94874566],\n",
       "         [0.94874566],\n",
       "         [0.69561249],\n",
       "         [0.69561249],\n",
       "         [0.30025937],\n",
       "         [0.30025937],\n",
       "         [0.87698772],\n",
       "         [0.87698772],\n",
       "         [0.13371922],\n",
       "         [0.13371922],\n",
       "         [0.04687779],\n",
       "         [0.04687779],\n",
       "         [0.28538627],\n",
       "         [0.28538627],\n",
       "         [0.46912877],\n",
       "         [0.46912877],\n",
       "         [0.68068384],\n",
       "         [0.68068384],\n",
       "         [0.9380301 ],\n",
       "         [0.9380301 ],\n",
       "         [0.77313246],\n",
       "         [0.77313246],\n",
       "         [0.59605971],\n",
       "         [0.59605971],\n",
       "         [0.61397623],\n",
       "         [0.61397623],\n",
       "         [0.61914814],\n",
       "         [0.61914814],\n",
       "         [0.54528109],\n",
       "         [0.54528109],\n",
       "         [0.38848054],\n",
       "         [0.38848054],\n",
       "         [0.44873181],\n",
       "         [0.44873181],\n",
       "         [0.14604729],\n",
       "         [0.14604729],\n",
       "         [0.75872628],\n",
       "         [0.75872628],\n",
       "         [0.91533517],\n",
       "         [0.91533517],\n",
       "         [0.66174577],\n",
       "         [0.66174577],\n",
       "         [0.58486822],\n",
       "         [0.58486822],\n",
       "         [0.23648149],\n",
       "         [0.23648149],\n",
       "         [0.63186013],\n",
       "         [0.63186013],\n",
       "         [0.19738689],\n",
       "         [0.19738689],\n",
       "         [0.74272127],\n",
       "         [0.74272127],\n",
       "         [0.19267725],\n",
       "         [0.19267725],\n",
       "         [0.91988683],\n",
       "         [0.91988683],\n",
       "         [0.32294322],\n",
       "         [0.32294322],\n",
       "         [0.71195715],\n",
       "         [0.71195715],\n",
       "         [0.21482106],\n",
       "         [0.21482106],\n",
       "         [0.73517055],\n",
       "         [0.73517055],\n",
       "         [0.17347942],\n",
       "         [0.17347942],\n",
       "         [0.15383819],\n",
       "         [0.15383819],\n",
       "         [0.74654221],\n",
       "         [0.74654221],\n",
       "         [0.25997816],\n",
       "         [0.25997816],\n",
       "         [0.97731756],\n",
       "         [0.97731756],\n",
       "         [0.5477418 ],\n",
       "         [0.5477418 ],\n",
       "         [0.67359544],\n",
       "         [0.67359544],\n",
       "         [0.51319796],\n",
       "         [0.51319796],\n",
       "         [0.54755499],\n",
       "         [0.54755499],\n",
       "         [0.81327811],\n",
       "         [0.81327811],\n",
       "         [0.67963558],\n",
       "         [0.67963558],\n",
       "         [0.2414171 ],\n",
       "         [0.2414171 ],\n",
       "         [0.3517735 ],\n",
       "         [0.3517735 ],\n",
       "         [0.21801934],\n",
       "         [0.21801934],\n",
       "         [0.34239846],\n",
       "         [0.34239846],\n",
       "         [0.18664499],\n",
       "         [0.18664499],\n",
       "         [0.10131988],\n",
       "         [0.10131988],\n",
       "         [0.63640317],\n",
       "         [0.63640317],\n",
       "         [0.5129067 ],\n",
       "         [0.5129067 ],\n",
       "         [0.57738313],\n",
       "         [0.57738313],\n",
       "         [0.76213497],\n",
       "         [0.76213497],\n",
       "         [0.17208406],\n",
       "         [0.17208406],\n",
       "         [0.83655548],\n",
       "         [0.83655548],\n",
       "         [0.06190762],\n",
       "         [0.06190762],\n",
       "         [0.38621761],\n",
       "         [0.38621761],\n",
       "         [0.02468944],\n",
       "         [0.02468944],\n",
       "         [0.73683808],\n",
       "         [0.73683808],\n",
       "         [0.95767023],\n",
       "         [0.95767023],\n",
       "         [0.29325493],\n",
       "         [0.29325493],\n",
       "         [0.00432425],\n",
       "         [0.00432425],\n",
       "         [0.67453804],\n",
       "         [0.67453804],\n",
       "         [0.92468723],\n",
       "         [0.92468723]])}}"
      ]
     },
     "execution_count": 1,
     "metadata": {},
     "output_type": "execute_result"
    }
   ],
   "source": [
    "ds = load_by_id(run_id_a)\n",
    "ds.get_parameter_data('x1')"
   ]
  },
  {
   "cell_type": "code",
   "execution_count": null,
   "metadata": {},
   "outputs": [],
   "source": []
  }
 ],
 "metadata": {
  "kernelspec": {
   "display_name": "Python 3",
   "language": "python",
   "name": "python3"
  },
  "language_info": {
   "codemirror_mode": {
    "name": "ipython",
    "version": 3
   },
   "file_extension": ".py",
   "mimetype": "text/x-python",
   "name": "python",
   "nbconvert_exporter": "python",
   "pygments_lexer": "ipython3",
   "version": "3.7.10"
  },
  "nbsphinx": {
   "timeout": 600
  },
  "toc": {
   "base_numbering": 1,
   "nav_menu": {},
   "number_sections": true,
   "sideBar": true,
   "skip_h1_title": false,
   "title_cell": "Table of Contents",
   "title_sidebar": "Contents",
   "toc_cell": false,
   "toc_position": {},
   "toc_section_display": true,
   "toc_window_display": false
  },
  "varInspector": {
   "cols": {
    "lenName": 16,
    "lenType": 16,
    "lenVar": 40
   },
   "kernels_config": {
    "python": {
     "delete_cmd_postfix": "",
     "delete_cmd_prefix": "del ",
     "library": "var_list.py",
     "varRefreshCmd": "print(var_dic_list())"
    },
    "r": {
     "delete_cmd_postfix": ") ",
     "delete_cmd_prefix": "rm(",
     "library": "var_list.r",
     "varRefreshCmd": "cat(var_dic_list()) "
    }
   },
   "types_to_exclude": [
    "module",
    "function",
    "builtin_function_or_method",
    "instance",
    "_Feature"
   ],
   "window_display": false
  }
 },
 "nbformat": 4,
 "nbformat_minor": 4
}
