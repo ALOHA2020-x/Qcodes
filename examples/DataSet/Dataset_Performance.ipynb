{
 "cells": [
  {
   "cell_type": "markdown",
   "metadata": {},
   "source": [
    "# DataSet Performance\n",
    "\n",
    "This notebook shows the trade-off between inserting data into a database row-by-row and as binary blobs. Inserting the data row-by-row means that we have direct access to all the data and may perform queries directly on the values of the data. On the other hand, as we shall see, this is much slower than inserting the data directly as binary blobs."
   ]
  },
  {
   "cell_type": "markdown",
   "metadata": {},
   "source": [
    "First, we choose a new location for the database to ensure that we don't add a bunch of benchmarking data to the default one."
   ]
  },
  {
   "cell_type": "code",
   "execution_count": 1,
   "metadata": {
    "execution": {
     "iopub.execute_input": "2020-11-06T09:56:51.591614Z",
     "iopub.status.busy": "2020-11-06T09:56:51.591069Z",
     "iopub.status.idle": "2020-11-06T09:56:52.623692Z",
     "shell.execute_reply": "2020-11-06T09:56:52.624186Z"
    }
   },
   "outputs": [
    {
     "name": "stdout",
     "output_type": "stream",
     "text": [
      "Logging hadn't been started.\n",
      "Activating auto-logging. Current session state plus future input saved.\n",
      "Filename       : /home/vsts/.qcodes/logs/command_history.log\n",
      "Mode           : append\n",
      "Output logging : True\n",
      "Raw input log  : False\n",
      "Timestamping   : True\n",
      "State          : active\n"
     ]
    },
    {
     "name": "stdout",
     "output_type": "stream",
     "text": [
      "Qcodes Logfile : /home/vsts/.qcodes/logs/201106-14672-qcodes.log\n"
     ]
    }
   ],
   "source": [
    "import os\n",
    "cwd = os.getcwd()\n",
    "import qcodes as qc\n",
    "qc.config[\"core\"][\"db_location\"] = os.path.join(cwd, 'testing.db')\n"
   ]
  },
  {
   "cell_type": "code",
   "execution_count": 2,
   "metadata": {
    "execution": {
     "iopub.execute_input": "2020-11-06T09:56:52.631014Z",
     "iopub.status.busy": "2020-11-06T09:56:52.629386Z",
     "iopub.status.idle": "2020-11-06T09:56:52.808462Z",
     "shell.execute_reply": "2020-11-06T09:56:52.807892Z"
    }
   },
   "outputs": [],
   "source": [
    "%matplotlib inline\n",
    "import time\n",
    "import matplotlib.pyplot as plt\n",
    "import numpy as np\n",
    "\n",
    "import qcodes as qc\n",
    "from qcodes.instrument.parameter import ManualParameter\n",
    "from qcodes.dataset.experiment_container import (Experiment,\n",
    "                                                 load_last_experiment,\n",
    "                                                 new_experiment)\n",
    "from qcodes.dataset.sqlite.database import initialise_database\n",
    "from qcodes import load_or_create_experiment\n",
    "from qcodes.dataset.measurements import Measurement"
   ]
  },
  {
   "cell_type": "code",
   "execution_count": 3,
   "metadata": {
    "execution": {
     "iopub.execute_input": "2020-11-06T09:56:52.812595Z",
     "iopub.status.busy": "2020-11-06T09:56:52.811894Z",
     "iopub.status.idle": "2020-11-06T09:56:52.917113Z",
     "shell.execute_reply": "2020-11-06T09:56:52.916502Z"
    }
   },
   "outputs": [
    {
     "name": "stdout",
     "output_type": "stream",
     "text": [
      "\r",
      "0it [00:00, ?it/s]"
     ]
    },
    {
     "name": "stdout",
     "output_type": "stream",
     "text": [
      "\r",
      "Upgrading database; v0 -> v1: : 0it [00:00, ?it/s]"
     ]
    },
    {
     "name": "stdout",
     "output_type": "stream",
     "text": [
      "\r",
      "Upgrading database; v0 -> v1: : 0it [00:00, ?it/s]"
     ]
    },
    {
     "name": "stdout",
     "output_type": "stream",
     "text": [
      "\n",
      "\r",
      "  0%|          | 0/1 [00:00<?, ?it/s]"
     ]
    },
    {
     "name": "stdout",
     "output_type": "stream",
     "text": [
      "\r",
      "Upgrading database; v1 -> v2:   0%|          | 0/1 [00:00<?, ?it/s]"
     ]
    },
    {
     "name": "stdout",
     "output_type": "stream",
     "text": [
      "\r",
      "Upgrading database; v1 -> v2: 100%|██████████| 1/1 [00:00<00:00, 961.33it/s]"
     ]
    },
    {
     "name": "stdout",
     "output_type": "stream",
     "text": [
      "\n",
      "\r",
      "0it [00:00, ?it/s]"
     ]
    },
    {
     "name": "stdout",
     "output_type": "stream",
     "text": [
      "\r",
      "Upgrading database; v2 -> v3: : 0it [00:00, ?it/s]"
     ]
    },
    {
     "name": "stdout",
     "output_type": "stream",
     "text": [
      "\r",
      "Upgrading database; v2 -> v3: : 0it [00:00, ?it/s]"
     ]
    },
    {
     "name": "stdout",
     "output_type": "stream",
     "text": [
      "\n",
      "\r",
      "0it [00:00, ?it/s]"
     ]
    },
    {
     "name": "stdout",
     "output_type": "stream",
     "text": [
      "\r",
      "Upgrading database; v3 -> v4: : 0it [00:00, ?it/s]"
     ]
    },
    {
     "name": "stdout",
     "output_type": "stream",
     "text": [
      "\r",
      "Upgrading database; v3 -> v4: : 0it [00:00, ?it/s]"
     ]
    },
    {
     "name": "stdout",
     "output_type": "stream",
     "text": [
      "\n",
      "\r",
      "  0%|          | 0/1 [00:00<?, ?it/s]"
     ]
    },
    {
     "name": "stdout",
     "output_type": "stream",
     "text": [
      "\r",
      "Upgrading database; v4 -> v5:   0%|          | 0/1 [00:00<?, ?it/s]"
     ]
    },
    {
     "name": "stdout",
     "output_type": "stream",
     "text": [
      "\r",
      "Upgrading database; v4 -> v5: 100%|██████████| 1/1 [00:00<00:00, 535.60it/s]"
     ]
    },
    {
     "name": "stdout",
     "output_type": "stream",
     "text": [
      "\n",
      "\r",
      "0it [00:00, ?it/s]"
     ]
    },
    {
     "name": "stdout",
     "output_type": "stream",
     "text": [
      "\r",
      "Upgrading database; v5 -> v6: : 0it [00:00, ?it/s]"
     ]
    },
    {
     "name": "stdout",
     "output_type": "stream",
     "text": [
      "\r",
      "Upgrading database; v5 -> v6: : 0it [00:00, ?it/s]"
     ]
    },
    {
     "name": "stdout",
     "output_type": "stream",
     "text": [
      "\n",
      "\r",
      "  0%|          | 0/1 [00:00<?, ?it/s]"
     ]
    },
    {
     "name": "stdout",
     "output_type": "stream",
     "text": [
      "\r",
      "Upgrading database; v6 -> v7:   0%|          | 0/1 [00:00<?, ?it/s]"
     ]
    },
    {
     "name": "stdout",
     "output_type": "stream",
     "text": [
      "\r",
      "Upgrading database; v6 -> v7: 100%|██████████| 1/1 [00:00<00:00, 439.19it/s]"
     ]
    },
    {
     "name": "stdout",
     "output_type": "stream",
     "text": [
      "\n",
      "\r",
      "  0%|          | 0/1 [00:00<?, ?it/s]"
     ]
    },
    {
     "name": "stdout",
     "output_type": "stream",
     "text": [
      "\r",
      "Upgrading database; v7 -> v8:   0%|          | 0/1 [00:00<?, ?it/s]"
     ]
    },
    {
     "name": "stdout",
     "output_type": "stream",
     "text": [
      "\r",
      "Upgrading database; v7 -> v8: 100%|██████████| 1/1 [00:00<00:00, 339.48it/s]"
     ]
    },
    {
     "name": "stdout",
     "output_type": "stream",
     "text": [
      "\n",
      "\r",
      "  0%|          | 0/1 [00:00<?, ?it/s]"
     ]
    },
    {
     "name": "stdout",
     "output_type": "stream",
     "text": [
      "\r",
      "Upgrading database; v8 -> v9:   0%|          | 0/1 [00:00<?, ?it/s]"
     ]
    },
    {
     "name": "stdout",
     "output_type": "stream",
     "text": [
      "\r",
      "Upgrading database; v8 -> v9: 100%|██████████| 1/1 [00:00<00:00, 344.25it/s]"
     ]
    },
    {
     "name": "stdout",
     "output_type": "stream",
     "text": [
      "\n"
     ]
    }
   ],
   "source": [
    "initialise_database()\n",
    "exp = load_or_create_experiment(experiment_name='tutorial_exp', sample_name=\"no sample\")"
   ]
  },
  {
   "cell_type": "markdown",
   "metadata": {},
   "source": [
    "Here, we define a simple function to benchmark the time it takes to insert n points with either numeric or array data type.\n",
    "We will compare both the time used to call ``add_result`` and the time used for the full measurement."
   ]
  },
  {
   "cell_type": "code",
   "execution_count": 4,
   "metadata": {
    "execution": {
     "iopub.execute_input": "2020-11-06T09:56:52.926260Z",
     "iopub.status.busy": "2020-11-06T09:56:52.925656Z",
     "iopub.status.idle": "2020-11-06T09:56:52.930079Z",
     "shell.execute_reply": "2020-11-06T09:56:52.929525Z"
    }
   },
   "outputs": [],
   "source": [
    "def insert_data(paramtype, npoints, nreps=1):\n",
    "\n",
    "    meas = Measurement(exp=exp)\n",
    "\n",
    "    x1 = ManualParameter('x1')\n",
    "    x2 = ManualParameter('x2')\n",
    "    x3 = ManualParameter('x3')\n",
    "    y1 = ManualParameter('y1')\n",
    "    y2 = ManualParameter('y2')\n",
    "\n",
    "    meas.register_parameter(x1, paramtype=paramtype)\n",
    "    meas.register_parameter(x2, paramtype=paramtype)\n",
    "    meas.register_parameter(x3, paramtype=paramtype)\n",
    "    meas.register_parameter(y1, setpoints=[x1, x2, x3],\n",
    "                            paramtype=paramtype)\n",
    "    meas.register_parameter(y2, setpoints=[x1, x2, x3],\n",
    "                            paramtype=paramtype)\n",
    "    start = time.perf_counter()\n",
    "    with meas.run() as datasaver:\n",
    "        start_adding = time.perf_counter()\n",
    "        for i in range(nreps):\n",
    "            datasaver.add_result((x1, np.random.rand(npoints)),\n",
    "                                 (x2, np.random.rand(npoints)),\n",
    "                                 (x3, np.random.rand(npoints)),\n",
    "                                 (y1, np.random.rand(npoints)),\n",
    "                                 (y2, np.random.rand(npoints)))\n",
    "        stop_adding = time.perf_counter()\n",
    "        run_id = datasaver.run_id\n",
    "    stop = time.perf_counter()\n",
    "    tot_time = stop - start\n",
    "    add_time = stop_adding - start_adding\n",
    "    return tot_time, add_time, run_id"
   ]
  },
  {
   "cell_type": "markdown",
   "metadata": {},
   "source": [
    "## Comparison between numeric/array data and binary blob"
   ]
  },
  {
   "cell_type": "markdown",
   "metadata": {},
   "source": [
    "### Case1: Short experiment time"
   ]
  },
  {
   "cell_type": "code",
   "execution_count": 5,
   "metadata": {
    "execution": {
     "iopub.execute_input": "2020-11-06T09:56:52.936822Z",
     "iopub.status.busy": "2020-11-06T09:56:52.934142Z",
     "iopub.status.idle": "2020-11-06T09:56:53.833266Z",
     "shell.execute_reply": "2020-11-06T09:56:53.833787Z"
    }
   },
   "outputs": [
    {
     "name": "stdout",
     "output_type": "stream",
     "text": [
      "Starting experimental run with id: 1. \n",
      "Starting experimental run with id: 2. \n",
      "Starting experimental run with id: 3. \n",
      "Starting experimental run with id: 4. \n"
     ]
    },
    {
     "name": "stdout",
     "output_type": "stream",
     "text": [
      "Starting experimental run with id: 5. \n"
     ]
    },
    {
     "name": "stdout",
     "output_type": "stream",
     "text": [
      "Starting experimental run with id: 6. \n",
      "Starting experimental run with id: 7. \n"
     ]
    },
    {
     "name": "stdout",
     "output_type": "stream",
     "text": [
      "Starting experimental run with id: 8. \n",
      "Starting experimental run with id: 9. \n"
     ]
    },
    {
     "name": "stdout",
     "output_type": "stream",
     "text": [
      "Starting experimental run with id: 10. \n",
      "Starting experimental run with id: 11. \n"
     ]
    },
    {
     "name": "stdout",
     "output_type": "stream",
     "text": [
      "Starting experimental run with id: 12. \n"
     ]
    },
    {
     "name": "stdout",
     "output_type": "stream",
     "text": [
      "Starting experimental run with id: 13. \n"
     ]
    },
    {
     "name": "stdout",
     "output_type": "stream",
     "text": [
      "Starting experimental run with id: 14. \n"
     ]
    }
   ],
   "source": [
    "sizes = [1,500,1000,2000,3000,4000,5000]\n",
    "t_numeric = []\n",
    "t_numeric_add = []\n",
    "t_array = []\n",
    "t_array_add = []\n",
    "for size in sizes:\n",
    "    tn, tna, run_id_n =  insert_data('numeric', size)\n",
    "    t_numeric.append(tn)\n",
    "    t_numeric_add.append(tna)\n",
    "\n",
    "    ta, taa, run_id_a =  insert_data('array', size)\n",
    "    t_array.append(ta)\n",
    "    t_array_add.append(taa)"
   ]
  },
  {
   "cell_type": "code",
   "execution_count": 6,
   "metadata": {
    "execution": {
     "iopub.execute_input": "2020-11-06T09:56:53.852468Z",
     "iopub.status.busy": "2020-11-06T09:56:53.850551Z",
     "iopub.status.idle": "2020-11-06T09:56:54.046885Z",
     "shell.execute_reply": "2020-11-06T09:56:54.047322Z"
    }
   },
   "outputs": [
    {
     "data": {
      "image/png": "[encoded data removed]",
      "text/plain": [
       "<Figure size 432x288 with 1 Axes>"
      ]
     },
     "metadata": {
      "needs_background": "light"
     },
     "output_type": "display_data"
    }
   ],
   "source": [
    "fig, ax = plt.subplots(1,1)\n",
    "ax.plot(sizes, t_numeric, 'o-', label='Inserting row-by-row')\n",
    "ax.plot(sizes, t_numeric_add, 'o-', label='Inserting row-by-row: add_result only')\n",
    "ax.plot(sizes, t_array, 'd-', label='Inserting as binary blob')\n",
    "ax.plot(sizes, t_array_add, 'd-', label='Inserting as binary blob: add_result only')\n",
    "ax.legend()\n",
    "ax.set_xlabel('Array length')\n",
    "ax.set_ylabel('Time (s)')\n",
    "fig.tight_layout()"
   ]
  },
  {
   "cell_type": "markdown",
   "metadata": {},
   "source": [
    "As shown in the latter figure, the time to setup and and close the experiment is approximately 0.4 sec. In case of small array sizes, the difference between inserting values of data as arrays and inserting them row-by-row is relatively unimportant. At larger array sizes, i.e. above 10000 points, the cost of writing data as individual datapoints starts to become important.\n"
   ]
  },
  {
   "cell_type": "markdown",
   "metadata": {},
   "source": [
    "### Case2: Long experiment time "
   ]
  },
  {
   "cell_type": "code",
   "execution_count": 7,
   "metadata": {
    "execution": {
     "iopub.execute_input": "2020-11-06T09:56:54.052849Z",
     "iopub.status.busy": "2020-11-06T09:56:54.051630Z",
     "iopub.status.idle": "2020-11-06T09:57:51.818558Z",
     "shell.execute_reply": "2020-11-06T09:57:51.817681Z"
    }
   },
   "outputs": [
    {
     "name": "stdout",
     "output_type": "stream",
     "text": [
      "Starting experimental run with id: 15. \n",
      "Starting experimental run with id: 16. \n",
      "Starting experimental run with id: 17. \n"
     ]
    },
    {
     "name": "stdout",
     "output_type": "stream",
     "text": [
      "Starting experimental run with id: 18. \n",
      "Starting experimental run with id: 19. \n"
     ]
    },
    {
     "name": "stdout",
     "output_type": "stream",
     "text": [
      "Starting experimental run with id: 20. \n"
     ]
    },
    {
     "name": "stdout",
     "output_type": "stream",
     "text": [
      "Starting experimental run with id: 21. \n"
     ]
    },
    {
     "name": "stdout",
     "output_type": "stream",
     "text": [
      "Starting experimental run with id: 22. \n"
     ]
    },
    {
     "name": "stdout",
     "output_type": "stream",
     "text": [
      "Starting experimental run with id: 23. \n"
     ]
    },
    {
     "name": "stdout",
     "output_type": "stream",
     "text": [
      "Starting experimental run with id: 24. \n"
     ]
    },
    {
     "name": "stdout",
     "output_type": "stream",
     "text": [
      "Starting experimental run with id: 25. \n"
     ]
    },
    {
     "name": "stdout",
     "output_type": "stream",
     "text": [
      "Starting experimental run with id: 26. \n"
     ]
    },
    {
     "name": "stdout",
     "output_type": "stream",
     "text": [
      "Starting experimental run with id: 27. \n"
     ]
    },
    {
     "name": "stdout",
     "output_type": "stream",
     "text": [
      "Starting experimental run with id: 28. \n"
     ]
    }
   ],
   "source": [
    "sizes = [1,500,1000,2000,3000,4000,5000]\n",
    "nreps = 100\n",
    "t_numeric = []\n",
    "t_numeric_add = []\n",
    "t_numeric_run_ids = []\n",
    "t_array = []\n",
    "t_array_add = []\n",
    "t_array_run_ids = []\n",
    "for size in sizes:\n",
    "    tn, tna, run_id_n =  insert_data('numeric', size, nreps=nreps)\n",
    "    t_numeric.append(tn)\n",
    "    t_numeric_add.append(tna)\n",
    "    t_numeric_run_ids.append(run_id_n)\n",
    "\n",
    "    ta, taa, run_id_a =  insert_data('array', size, nreps=nreps)\n",
    "    t_array.append(ta)\n",
    "    t_array_add.append(taa)\n",
    "    t_array_run_ids.append(run_id_a)"
   ]
  },
  {
   "cell_type": "code",
   "execution_count": 8,
   "metadata": {
    "execution": {
     "iopub.execute_input": "2020-11-06T09:57:51.838429Z",
     "iopub.status.busy": "2020-11-06T09:57:51.836696Z",
     "iopub.status.idle": "2020-11-06T09:57:52.038203Z",
     "shell.execute_reply": "2020-11-06T09:57:52.037710Z"
    },
    "scrolled": true
   },
   "outputs": [
    {
     "data": {
      "image/png": "[encoded data removed]",
      "text/plain": [
       "<Figure size 432x288 with 1 Axes>"
      ]
     },
     "metadata": {
      "needs_background": "light"
     },
     "output_type": "display_data"
    }
   ],
   "source": [
    "fig, ax = plt.subplots(1,1)\n",
    "ax.plot(sizes, t_numeric, 'o-', label='Inserting row-by-row')\n",
    "ax.plot(sizes, t_numeric_add, 'o-', label='Inserting row-by-row: add_result only')\n",
    "ax.plot(sizes, t_array, 'd-', label='Inserting as binary blob')\n",
    "ax.plot(sizes, t_array_add, 'd-', label='Inserting as binary blob: add_result only')\n",
    "ax.legend()\n",
    "ax.set_xlabel('Array length')\n",
    "ax.set_ylabel('Time (s)')\n",
    "fig.tight_layout()"
   ]
  },
  {
   "cell_type": "markdown",
   "metadata": {},
   "source": [
    "However, as we increase the length of the experiment, as seen here by repeating the insertion 100 times, we see a big difference between inserting values of the data row-by-row and inserting it as a binary blob."
   ]
  },
  {
   "cell_type": "markdown",
   "metadata": {},
   "source": [
    "## Loading the data "
   ]
  },
  {
   "cell_type": "code",
   "execution_count": 9,
   "metadata": {
    "execution": {
     "iopub.execute_input": "2020-11-06T09:57:52.042365Z",
     "iopub.status.busy": "2020-11-06T09:57:52.041615Z",
     "iopub.status.idle": "2020-11-06T09:57:52.044028Z",
     "shell.execute_reply": "2020-11-06T09:57:52.044713Z"
    }
   },
   "outputs": [],
   "source": [
    "from qcodes.dataset.data_set import load_by_id\n",
    "from qcodes.dataset.data_export import get_data_by_id"
   ]
  },
  {
   "cell_type": "markdown",
   "metadata": {},
   "source": [
    "As usual you can load the data by using the ``load_by_id`` function but you will notice that the different storage methods\n",
    "are reflected in shape of the data as it is retrieved. "
   ]
  },
  {
   "cell_type": "code",
   "execution_count": 10,
   "metadata": {
    "execution": {
     "iopub.execute_input": "2020-11-06T09:57:52.049353Z",
     "iopub.status.busy": "2020-11-06T09:57:52.048155Z",
     "iopub.status.idle": "2020-11-06T09:57:52.049952Z",
     "shell.execute_reply": "2020-11-06T09:57:52.050413Z"
    }
   },
   "outputs": [],
   "source": [
    "run_id_n = t_numeric_run_ids[0]\n",
    "run_id_a = t_array_run_ids[0]"
   ]
  },
  {
   "cell_type": "code",
   "execution_count": 11,
   "metadata": {
    "execution": {
     "iopub.execute_input": "2020-11-06T09:57:52.053657Z",
     "iopub.status.busy": "2020-11-06T09:57:52.053110Z",
     "iopub.status.idle": "2020-11-06T09:57:52.062462Z",
     "shell.execute_reply": "2020-11-06T09:57:52.062920Z"
    },
    "scrolled": true
   },
   "outputs": [
    {
     "data": {
      "text/plain": [
       "{'x1': {'x1': array([1.62881660e-01, 1.62881660e-01, 7.58915793e-01, 7.58915793e-01,\n",
       "         8.25709275e-01, 8.25709275e-01, 3.35112417e-01, 3.35112417e-01,\n",
       "         5.94183805e-01, 5.94183805e-01, 9.86086502e-02, 9.86086502e-02,\n",
       "         8.20580516e-01, 8.20580516e-01, 2.37685834e-01, 2.37685834e-01,\n",
       "         5.53865854e-01, 5.53865854e-01, 3.37839904e-01, 3.37839904e-01,\n",
       "         1.68923036e-01, 1.68923036e-01, 7.93900806e-01, 7.93900806e-01,\n",
       "         6.00953644e-01, 6.00953644e-01, 7.15961304e-01, 7.15961304e-01,\n",
       "         2.12680580e-01, 2.12680580e-01, 2.66757533e-01, 2.66757533e-01,\n",
       "         1.98121015e-01, 1.98121015e-01, 3.29435432e-01, 3.29435432e-01,\n",
       "         3.39403409e-01, 3.39403409e-01, 9.17967290e-04, 9.17967290e-04,\n",
       "         1.42618651e-01, 1.42618651e-01, 1.24107316e-01, 1.24107316e-01,\n",
       "         9.92209884e-01, 9.92209884e-01, 7.64745896e-01, 7.64745896e-01,\n",
       "         4.74620224e-01, 4.74620224e-01, 7.64895665e-01, 7.64895665e-01,\n",
       "         9.74401393e-01, 9.74401393e-01, 8.18434541e-01, 8.18434541e-01,\n",
       "         2.62993387e-01, 2.62993387e-01, 7.36236251e-01, 7.36236251e-01,\n",
       "         1.83721062e-01, 1.83721062e-01, 8.42251842e-01, 8.42251842e-01,\n",
       "         7.18603928e-01, 7.18603928e-01, 3.64957851e-01, 3.64957851e-01,\n",
       "         3.68008868e-02, 3.68008868e-02, 8.56875050e-01, 8.56875050e-01,\n",
       "         7.68046411e-01, 7.68046411e-01, 4.76535493e-01, 4.76535493e-01,\n",
       "         8.75296053e-01, 8.75296053e-01, 9.67171960e-01, 9.67171960e-01,\n",
       "         9.67794885e-03, 9.67794885e-03, 6.62923566e-01, 6.62923566e-01,\n",
       "         7.02445984e-01, 7.02445984e-01, 5.28356328e-01, 5.28356328e-01,\n",
       "         2.91078819e-01, 2.91078819e-01, 6.47475425e-01, 6.47475425e-01,\n",
       "         8.92756070e-02, 8.92756070e-02, 4.42288672e-01, 4.42288672e-01,\n",
       "         9.09628534e-01, 9.09628534e-01, 2.17653479e-01, 2.17653479e-01,\n",
       "         4.04813699e-01, 4.04813699e-01, 5.69445407e-01, 5.69445407e-01,\n",
       "         8.51094986e-02, 8.51094986e-02, 3.95236542e-01, 3.95236542e-01,\n",
       "         1.34171015e-01, 1.34171015e-01, 7.29493835e-01, 7.29493835e-01,\n",
       "         2.18466503e-02, 2.18466503e-02, 2.79832202e-01, 2.79832202e-01,\n",
       "         5.29603112e-01, 5.29603112e-01, 6.27644376e-01, 6.27644376e-01,\n",
       "         4.79603597e-01, 4.79603597e-01, 3.74857399e-01, 3.74857399e-01,\n",
       "         5.18366283e-01, 5.18366283e-01, 4.43482890e-01, 4.43482890e-01,\n",
       "         9.70202850e-02, 9.70202850e-02, 7.19323875e-01, 7.19323875e-01,\n",
       "         9.50663405e-01, 9.50663405e-01, 7.25052523e-01, 7.25052523e-01,\n",
       "         1.12386331e-01, 1.12386331e-01, 3.53943815e-01, 3.53943815e-01,\n",
       "         1.92869271e-01, 1.92869271e-01, 2.68337615e-01, 2.68337615e-01,\n",
       "         2.07787895e-01, 2.07787895e-01, 1.81749081e-01, 1.81749081e-01,\n",
       "         7.04113915e-01, 7.04113915e-01, 7.43256488e-01, 7.43256488e-01,\n",
       "         1.39491937e-01, 1.39491937e-01, 5.20505679e-01, 5.20505679e-01,\n",
       "         9.78006525e-01, 9.78006525e-01, 4.25008701e-02, 4.25008701e-02,\n",
       "         2.21951612e-01, 2.21951612e-01, 6.94145446e-01, 6.94145446e-01,\n",
       "         9.98478616e-01, 9.98478616e-01, 3.24145006e-01, 3.24145006e-01,\n",
       "         2.04842434e-01, 2.04842434e-01, 2.59851682e-01, 2.59851682e-01,\n",
       "         4.66422935e-01, 4.66422935e-01, 3.55197873e-01, 3.55197873e-01,\n",
       "         6.34344090e-02, 6.34344090e-02, 4.63501317e-01, 4.63501317e-01,\n",
       "         9.04923846e-01, 9.04923846e-01, 9.66840148e-01, 9.66840148e-01,\n",
       "         1.84963984e-01, 1.84963984e-01, 7.28186020e-01, 7.28186020e-01,\n",
       "         3.25787533e-01, 3.25787533e-01, 5.58199316e-01, 5.58199316e-01,\n",
       "         1.33408996e-01, 1.33408996e-01, 4.80105386e-01, 4.80105386e-01,\n",
       "         3.40966251e-01, 3.40966251e-01, 7.89779396e-01, 7.89779396e-01])}}"
      ]
     },
     "execution_count": 1,
     "metadata": {},
     "output_type": "execute_result"
    }
   ],
   "source": [
    "ds = load_by_id(run_id_n)\n",
    "ds.get_parameter_data('x1')"
   ]
  },
  {
   "cell_type": "markdown",
   "metadata": {},
   "source": [
    "And a dataset stored as binary arrays"
   ]
  },
  {
   "cell_type": "code",
   "execution_count": 12,
   "metadata": {
    "execution": {
     "iopub.execute_input": "2020-11-06T09:57:52.066119Z",
     "iopub.status.busy": "2020-11-06T09:57:52.065503Z",
     "iopub.status.idle": "2020-11-06T09:57:52.125132Z",
     "shell.execute_reply": "2020-11-06T09:57:52.125627Z"
    },
    "scrolled": true
   },
   "outputs": [
    {
     "data": {
      "text/plain": [
       "{'x1': {'x1': array([[0.314375  ],\n",
       "         [0.314375  ],\n",
       "         [0.13227537],\n",
       "         [0.13227537],\n",
       "         [0.23830786],\n",
       "         [0.23830786],\n",
       "         [0.40280488],\n",
       "         [0.40280488],\n",
       "         [0.56337916],\n",
       "         [0.56337916],\n",
       "         [0.54730367],\n",
       "         [0.54730367],\n",
       "         [0.47486558],\n",
       "         [0.47486558],\n",
       "         [0.4380042 ],\n",
       "         [0.4380042 ],\n",
       "         [0.54475339],\n",
       "         [0.54475339],\n",
       "         [0.21823208],\n",
       "         [0.21823208],\n",
       "         [0.08405202],\n",
       "         [0.08405202],\n",
       "         [0.44809569],\n",
       "         [0.44809569],\n",
       "         [0.07428433],\n",
       "         [0.07428433],\n",
       "         [0.89237206],\n",
       "         [0.89237206],\n",
       "         [0.26672643],\n",
       "         [0.26672643],\n",
       "         [0.13317011],\n",
       "         [0.13317011],\n",
       "         [0.00826879],\n",
       "         [0.00826879],\n",
       "         [0.21422651],\n",
       "         [0.21422651],\n",
       "         [0.93690813],\n",
       "         [0.93690813],\n",
       "         [0.9383848 ],\n",
       "         [0.9383848 ],\n",
       "         [0.8383391 ],\n",
       "         [0.8383391 ],\n",
       "         [0.81354715],\n",
       "         [0.81354715],\n",
       "         [0.19652946],\n",
       "         [0.19652946],\n",
       "         [0.01224937],\n",
       "         [0.01224937],\n",
       "         [0.99543919],\n",
       "         [0.99543919],\n",
       "         [0.78105499],\n",
       "         [0.78105499],\n",
       "         [0.62239467],\n",
       "         [0.62239467],\n",
       "         [0.86756087],\n",
       "         [0.86756087],\n",
       "         [0.64367887],\n",
       "         [0.64367887],\n",
       "         [0.01420525],\n",
       "         [0.01420525],\n",
       "         [0.93295148],\n",
       "         [0.93295148],\n",
       "         [0.04693347],\n",
       "         [0.04693347],\n",
       "         [0.14009693],\n",
       "         [0.14009693],\n",
       "         [0.08435356],\n",
       "         [0.08435356],\n",
       "         [0.56334072],\n",
       "         [0.56334072],\n",
       "         [0.67805873],\n",
       "         [0.67805873],\n",
       "         [0.71456353],\n",
       "         [0.71456353],\n",
       "         [0.82381531],\n",
       "         [0.82381531],\n",
       "         [0.81321327],\n",
       "         [0.81321327],\n",
       "         [0.86116928],\n",
       "         [0.86116928],\n",
       "         [0.60084918],\n",
       "         [0.60084918],\n",
       "         [0.66434292],\n",
       "         [0.66434292],\n",
       "         [0.33302993],\n",
       "         [0.33302993],\n",
       "         [0.22176359],\n",
       "         [0.22176359],\n",
       "         [0.58511569],\n",
       "         [0.58511569],\n",
       "         [0.3863227 ],\n",
       "         [0.3863227 ],\n",
       "         [0.02236453],\n",
       "         [0.02236453],\n",
       "         [0.6031248 ],\n",
       "         [0.6031248 ],\n",
       "         [0.65060197],\n",
       "         [0.65060197],\n",
       "         [0.96966894],\n",
       "         [0.96966894],\n",
       "         [0.83814781],\n",
       "         [0.83814781],\n",
       "         [0.00438865],\n",
       "         [0.00438865],\n",
       "         [0.43326845],\n",
       "         [0.43326845],\n",
       "         [0.45369033],\n",
       "         [0.45369033],\n",
       "         [0.14041377],\n",
       "         [0.14041377],\n",
       "         [0.20782071],\n",
       "         [0.20782071],\n",
       "         [0.77830237],\n",
       "         [0.77830237],\n",
       "         [0.06536394],\n",
       "         [0.06536394],\n",
       "         [0.87778561],\n",
       "         [0.87778561],\n",
       "         [0.47710111],\n",
       "         [0.47710111],\n",
       "         [0.72511943],\n",
       "         [0.72511943],\n",
       "         [0.77843694],\n",
       "         [0.77843694],\n",
       "         [0.71762356],\n",
       "         [0.71762356],\n",
       "         [0.22714334],\n",
       "         [0.22714334],\n",
       "         [0.44073951],\n",
       "         [0.44073951],\n",
       "         [0.87878172],\n",
       "         [0.87878172],\n",
       "         [0.73024979],\n",
       "         [0.73024979],\n",
       "         [0.18271298],\n",
       "         [0.18271298],\n",
       "         [0.33754456],\n",
       "         [0.33754456],\n",
       "         [0.85443444],\n",
       "         [0.85443444],\n",
       "         [0.27225086],\n",
       "         [0.27225086],\n",
       "         [0.1349635 ],\n",
       "         [0.1349635 ],\n",
       "         [0.05845523],\n",
       "         [0.05845523],\n",
       "         [0.44387662],\n",
       "         [0.44387662],\n",
       "         [0.05966139],\n",
       "         [0.05966139],\n",
       "         [0.67528535],\n",
       "         [0.67528535],\n",
       "         [0.76061426],\n",
       "         [0.76061426],\n",
       "         [0.89491096],\n",
       "         [0.89491096],\n",
       "         [0.0605783 ],\n",
       "         [0.0605783 ],\n",
       "         [0.01030698],\n",
       "         [0.01030698],\n",
       "         [0.24366571],\n",
       "         [0.24366571],\n",
       "         [0.46270387],\n",
       "         [0.46270387],\n",
       "         [0.67499387],\n",
       "         [0.67499387],\n",
       "         [0.8272415 ],\n",
       "         [0.8272415 ],\n",
       "         [0.95659719],\n",
       "         [0.95659719],\n",
       "         [0.48077926],\n",
       "         [0.48077926],\n",
       "         [0.31100619],\n",
       "         [0.31100619],\n",
       "         [0.66180042],\n",
       "         [0.66180042],\n",
       "         [0.91548253],\n",
       "         [0.91548253],\n",
       "         [0.54909684],\n",
       "         [0.54909684],\n",
       "         [0.05146617],\n",
       "         [0.05146617],\n",
       "         [0.6516571 ],\n",
       "         [0.6516571 ],\n",
       "         [0.79118967],\n",
       "         [0.79118967],\n",
       "         [0.11436369],\n",
       "         [0.11436369],\n",
       "         [0.99330011],\n",
       "         [0.99330011],\n",
       "         [0.23568908],\n",
       "         [0.23568908],\n",
       "         [0.82466226],\n",
       "         [0.82466226],\n",
       "         [0.77487963],\n",
       "         [0.77487963],\n",
       "         [0.83448453],\n",
       "         [0.83448453],\n",
       "         [0.94875971],\n",
       "         [0.94875971]])}}"
      ]
     },
     "execution_count": 1,
     "metadata": {},
     "output_type": "execute_result"
    }
   ],
   "source": [
    "ds = load_by_id(run_id_a)\n",
    "ds.get_parameter_data('x1')"
   ]
  },
  {
   "cell_type": "code",
   "execution_count": null,
   "metadata": {},
   "outputs": [],
   "source": []
  }
 ],
 "metadata": {
  "kernelspec": {
   "display_name": "Python 3",
   "language": "python",
   "name": "python3"
  },
  "language_info": {
   "codemirror_mode": {
    "name": "ipython",
    "version": 3
   },
   "file_extension": ".py",
   "mimetype": "text/x-python",
   "name": "python",
   "nbconvert_exporter": "python",
   "pygments_lexer": "ipython3",
   "version": "3.7.9"
  },
  "nbsphinx": {
   "timeout": 600
  },
  "toc": {
   "base_numbering": 1,
   "nav_menu": {},
   "number_sections": true,
   "sideBar": true,
   "skip_h1_title": false,
   "title_cell": "Table of Contents",
   "title_sidebar": "Contents",
   "toc_cell": false,
   "toc_position": {},
   "toc_section_display": true,
   "toc_window_display": false
  },
  "varInspector": {
   "cols": {
    "lenName": 16,
    "lenType": 16,
    "lenVar": 40
   },
   "kernels_config": {
    "python": {
     "delete_cmd_postfix": "",
     "delete_cmd_prefix": "del ",
     "library": "var_list.py",
     "varRefreshCmd": "print(var_dic_list())"
    },
    "r": {
     "delete_cmd_postfix": ") ",
     "delete_cmd_prefix": "rm(",
     "library": "var_list.r",
     "varRefreshCmd": "cat(var_dic_list()) "
    }
   },
   "types_to_exclude": [
    "module",
    "function",
    "builtin_function_or_method",
    "instance",
    "_Feature"
   ],
   "window_display": false
  }
 },
 "nbformat": 4,
 "nbformat_minor": 2
}
