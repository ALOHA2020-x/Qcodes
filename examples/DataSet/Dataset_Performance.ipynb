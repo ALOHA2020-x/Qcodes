{
 "cells": [
  {
   "cell_type": "markdown",
   "metadata": {},
   "source": [
    "# DataSet Performance\n",
    "\n",
    "This notebook shows the trade-off between inserting data into a database row-by-row and as binary blobs. Inserting the data row-by-row means that we have direct access to all the data and may perform queries directly on the values of the data. On the other hand, as we shall see, this is much slower than inserting the data directly as binary blobs."
   ]
  },
  {
   "cell_type": "markdown",
   "metadata": {},
   "source": [
    "First, we choose a new location for the database to ensure that we don't add a bunch of benchmarking data to the default one."
   ]
  },
  {
   "cell_type": "code",
   "execution_count": 1,
   "metadata": {
    "execution": {
     "iopub.execute_input": "2021-02-20T12:48:02.485533Z",
     "iopub.status.busy": "2021-02-20T12:48:02.484780Z",
     "iopub.status.idle": "2021-02-20T12:48:03.397200Z",
     "shell.execute_reply": "2021-02-20T12:48:03.396603Z"
    }
   },
   "outputs": [
    {
     "name": "stdout",
     "output_type": "stream",
     "text": [
      "Logging hadn't been started.\n",
      "Activating auto-logging. Current session state plus future input saved.\n",
      "Filename       : /home/runner/.qcodes/logs/command_history.log\n",
      "Mode           : append\n",
      "Output logging : True\n",
      "Raw input log  : False\n",
      "Timestamping   : True\n",
      "State          : active\n"
     ]
    },
    {
     "name": "stdout",
     "output_type": "stream",
     "text": [
      "Qcodes Logfile : /home/runner/.qcodes/logs/210220-4233-qcodes.log\n"
     ]
    }
   ],
   "source": [
    "import os\n",
    "cwd = os.getcwd()\n",
    "import qcodes as qc\n",
    "qc.config[\"core\"][\"db_location\"] = os.path.join(cwd, 'testing.db')\n"
   ]
  },
  {
   "cell_type": "code",
   "execution_count": 2,
   "metadata": {
    "execution": {
     "iopub.execute_input": "2021-02-20T12:48:03.404667Z",
     "iopub.status.busy": "2021-02-20T12:48:03.403160Z",
     "iopub.status.idle": "2021-02-20T12:48:03.590216Z",
     "shell.execute_reply": "2021-02-20T12:48:03.589735Z"
    }
   },
   "outputs": [],
   "source": [
    "%matplotlib inline\n",
    "import time\n",
    "import matplotlib.pyplot as plt\n",
    "import numpy as np\n",
    "\n",
    "import qcodes as qc\n",
    "from qcodes.instrument.parameter import ManualParameter\n",
    "from qcodes.dataset.experiment_container import (Experiment,\n",
    "                                                 load_last_experiment,\n",
    "                                                 new_experiment)\n",
    "from qcodes.dataset.sqlite.database import initialise_database\n",
    "from qcodes import load_or_create_experiment\n",
    "from qcodes.dataset.measurements import Measurement"
   ]
  },
  {
   "cell_type": "code",
   "execution_count": 3,
   "metadata": {
    "execution": {
     "iopub.execute_input": "2021-02-20T12:48:03.594766Z",
     "iopub.status.busy": "2021-02-20T12:48:03.593682Z",
     "iopub.status.idle": "2021-02-20T12:48:03.907454Z",
     "shell.execute_reply": "2021-02-20T12:48:03.906660Z"
    }
   },
   "outputs": [
    {
     "name": "stdout",
     "output_type": "stream",
     "text": [
      "\r",
      "0it [00:00, ?it/s]"
     ]
    },
    {
     "name": "stdout",
     "output_type": "stream",
     "text": [
      "\r",
      "Upgrading database; v0 -> v1: : 0it [00:00, ?it/s]"
     ]
    },
    {
     "name": "stdout",
     "output_type": "stream",
     "text": [
      "\r",
      "Upgrading database; v0 -> v1: : 0it [00:00, ?it/s]"
     ]
    },
    {
     "name": "stdout",
     "output_type": "stream",
     "text": [
      "\n",
      "\r",
      "  0%|          | 0/1 [00:00<?, ?it/s]"
     ]
    },
    {
     "name": "stdout",
     "output_type": "stream",
     "text": [
      "\r",
      "Upgrading database; v1 -> v2:   0%|          | 0/1 [00:00<?, ?it/s]"
     ]
    },
    {
     "name": "stdout",
     "output_type": "stream",
     "text": [
      "\r",
      "Upgrading database; v1 -> v2: 100%|██████████| 1/1 [00:00<00:00, 970.45it/s]"
     ]
    },
    {
     "name": "stdout",
     "output_type": "stream",
     "text": [
      "\n",
      "\r",
      "0it [00:00, ?it/s]"
     ]
    },
    {
     "name": "stdout",
     "output_type": "stream",
     "text": [
      "\r",
      "Upgrading database; v2 -> v3: : 0it [00:00, ?it/s]"
     ]
    },
    {
     "name": "stdout",
     "output_type": "stream",
     "text": [
      "\r",
      "Upgrading database; v2 -> v3: : 0it [00:00, ?it/s]"
     ]
    },
    {
     "name": "stdout",
     "output_type": "stream",
     "text": [
      "\n",
      "\r",
      "0it [00:00, ?it/s]"
     ]
    },
    {
     "name": "stdout",
     "output_type": "stream",
     "text": [
      "\r",
      "Upgrading database; v3 -> v4: : 0it [00:00, ?it/s]"
     ]
    },
    {
     "name": "stdout",
     "output_type": "stream",
     "text": [
      "\r",
      "Upgrading database; v3 -> v4: : 0it [00:00, ?it/s]"
     ]
    },
    {
     "name": "stdout",
     "output_type": "stream",
     "text": [
      "\n",
      "\r",
      "  0%|          | 0/1 [00:00<?, ?it/s]"
     ]
    },
    {
     "name": "stdout",
     "output_type": "stream",
     "text": [
      "\r",
      "Upgrading database; v4 -> v5:   0%|          | 0/1 [00:00<?, ?it/s]"
     ]
    },
    {
     "name": "stdout",
     "output_type": "stream",
     "text": [
      "\r",
      "Upgrading database; v4 -> v5: 100%|██████████| 1/1 [00:00<00:00, 380.09it/s]"
     ]
    },
    {
     "name": "stdout",
     "output_type": "stream",
     "text": [
      "\n",
      "\r",
      "0it [00:00, ?it/s]"
     ]
    },
    {
     "name": "stdout",
     "output_type": "stream",
     "text": [
      "\r",
      "Upgrading database; v5 -> v6: : 0it [00:00, ?it/s]"
     ]
    },
    {
     "name": "stdout",
     "output_type": "stream",
     "text": [
      "\r",
      "Upgrading database; v5 -> v6: : 0it [00:00, ?it/s]"
     ]
    },
    {
     "name": "stdout",
     "output_type": "stream",
     "text": [
      "\n",
      "\r",
      "  0%|          | 0/1 [00:00<?, ?it/s]"
     ]
    },
    {
     "name": "stdout",
     "output_type": "stream",
     "text": [
      "\r",
      "Upgrading database; v6 -> v7:   0%|          | 0/1 [00:00<?, ?it/s]"
     ]
    },
    {
     "name": "stdout",
     "output_type": "stream",
     "text": [
      "\r",
      "Upgrading database; v6 -> v7: 100%|██████████| 1/1 [00:00<00:00, 75.84it/s]"
     ]
    },
    {
     "name": "stdout",
     "output_type": "stream",
     "text": [
      "\n",
      "\r",
      "  0%|          | 0/1 [00:00<?, ?it/s]"
     ]
    },
    {
     "name": "stdout",
     "output_type": "stream",
     "text": [
      "\r",
      "Upgrading database; v7 -> v8:   0%|          | 0/1 [00:00<?, ?it/s]"
     ]
    },
    {
     "name": "stdout",
     "output_type": "stream",
     "text": [
      "\r",
      "Upgrading database; v7 -> v8: 100%|██████████| 1/1 [00:00<00:00, 348.68it/s]"
     ]
    },
    {
     "name": "stdout",
     "output_type": "stream",
     "text": [
      "\n"
     ]
    },
    {
     "name": "stdout",
     "output_type": "stream",
     "text": [
      "\r",
      "  0%|          | 0/1 [00:00<?, ?it/s]"
     ]
    },
    {
     "name": "stdout",
     "output_type": "stream",
     "text": [
      "\r",
      "Upgrading database; v8 -> v9:   0%|          | 0/1 [00:00<?, ?it/s]"
     ]
    },
    {
     "name": "stdout",
     "output_type": "stream",
     "text": [
      "\r",
      "Upgrading database; v8 -> v9: 100%|██████████| 1/1 [00:00<00:00, 482.99it/s]"
     ]
    },
    {
     "name": "stdout",
     "output_type": "stream",
     "text": [
      "\n"
     ]
    }
   ],
   "source": [
    "initialise_database()\n",
    "exp = load_or_create_experiment(experiment_name='tutorial_exp', sample_name=\"no sample\")"
   ]
  },
  {
   "cell_type": "markdown",
   "metadata": {},
   "source": [
    "Here, we define a simple function to benchmark the time it takes to insert n points with either numeric or array data type.\n",
    "We will compare both the time used to call ``add_result`` and the time used for the full measurement."
   ]
  },
  {
   "cell_type": "code",
   "execution_count": 4,
   "metadata": {
    "execution": {
     "iopub.execute_input": "2021-02-20T12:48:03.916097Z",
     "iopub.status.busy": "2021-02-20T12:48:03.915264Z",
     "iopub.status.idle": "2021-02-20T12:48:03.919693Z",
     "shell.execute_reply": "2021-02-20T12:48:03.920270Z"
    }
   },
   "outputs": [],
   "source": [
    "def insert_data(paramtype, npoints, nreps=1):\n",
    "\n",
    "    meas = Measurement(exp=exp)\n",
    "\n",
    "    x1 = ManualParameter('x1')\n",
    "    x2 = ManualParameter('x2')\n",
    "    x3 = ManualParameter('x3')\n",
    "    y1 = ManualParameter('y1')\n",
    "    y2 = ManualParameter('y2')\n",
    "\n",
    "    meas.register_parameter(x1, paramtype=paramtype)\n",
    "    meas.register_parameter(x2, paramtype=paramtype)\n",
    "    meas.register_parameter(x3, paramtype=paramtype)\n",
    "    meas.register_parameter(y1, setpoints=[x1, x2, x3],\n",
    "                            paramtype=paramtype)\n",
    "    meas.register_parameter(y2, setpoints=[x1, x2, x3],\n",
    "                            paramtype=paramtype)\n",
    "    start = time.perf_counter()\n",
    "    with meas.run() as datasaver:\n",
    "        start_adding = time.perf_counter()\n",
    "        for i in range(nreps):\n",
    "            datasaver.add_result((x1, np.random.rand(npoints)),\n",
    "                                 (x2, np.random.rand(npoints)),\n",
    "                                 (x3, np.random.rand(npoints)),\n",
    "                                 (y1, np.random.rand(npoints)),\n",
    "                                 (y2, np.random.rand(npoints)))\n",
    "        stop_adding = time.perf_counter()\n",
    "        run_id = datasaver.run_id\n",
    "    stop = time.perf_counter()\n",
    "    tot_time = stop - start\n",
    "    add_time = stop_adding - start_adding\n",
    "    return tot_time, add_time, run_id"
   ]
  },
  {
   "cell_type": "markdown",
   "metadata": {},
   "source": [
    "## Comparison between numeric/array data and binary blob"
   ]
  },
  {
   "cell_type": "markdown",
   "metadata": {},
   "source": [
    "### Case1: Short experiment time"
   ]
  },
  {
   "cell_type": "code",
   "execution_count": 5,
   "metadata": {
    "execution": {
     "iopub.execute_input": "2021-02-20T12:48:03.927864Z",
     "iopub.status.busy": "2021-02-20T12:48:03.926974Z",
     "iopub.status.idle": "2021-02-20T12:48:05.363014Z",
     "shell.execute_reply": "2021-02-20T12:48:05.364288Z"
    }
   },
   "outputs": [
    {
     "name": "stdout",
     "output_type": "stream",
     "text": [
      "Starting experimental run with id: 1. \n"
     ]
    },
    {
     "name": "stdout",
     "output_type": "stream",
     "text": [
      "Starting experimental run with id: 2. \n"
     ]
    },
    {
     "name": "stdout",
     "output_type": "stream",
     "text": [
      "Starting experimental run with id: 3. \n",
      "Starting experimental run with id: 4. \n"
     ]
    },
    {
     "name": "stdout",
     "output_type": "stream",
     "text": [
      "Starting experimental run with id: 5. \n"
     ]
    },
    {
     "name": "stdout",
     "output_type": "stream",
     "text": [
      "Starting experimental run with id: 6. \n",
      "Starting experimental run with id: 7. \n"
     ]
    },
    {
     "name": "stdout",
     "output_type": "stream",
     "text": [
      "Starting experimental run with id: 8. \n"
     ]
    },
    {
     "name": "stdout",
     "output_type": "stream",
     "text": [
      "Starting experimental run with id: 9. \n"
     ]
    },
    {
     "name": "stdout",
     "output_type": "stream",
     "text": [
      "Starting experimental run with id: 10. \n"
     ]
    },
    {
     "name": "stdout",
     "output_type": "stream",
     "text": [
      "Starting experimental run with id: 11. \n"
     ]
    },
    {
     "name": "stdout",
     "output_type": "stream",
     "text": [
      "Starting experimental run with id: 12. \n"
     ]
    },
    {
     "name": "stdout",
     "output_type": "stream",
     "text": [
      "Starting experimental run with id: 13. \n"
     ]
    },
    {
     "name": "stdout",
     "output_type": "stream",
     "text": [
      "Starting experimental run with id: 14. \n"
     ]
    }
   ],
   "source": [
    "sizes = [1,500,1000,2000,3000,4000,5000]\n",
    "t_numeric = []\n",
    "t_numeric_add = []\n",
    "t_array = []\n",
    "t_array_add = []\n",
    "for size in sizes:\n",
    "    tn, tna, run_id_n =  insert_data('numeric', size)\n",
    "    t_numeric.append(tn)\n",
    "    t_numeric_add.append(tna)\n",
    "\n",
    "    ta, taa, run_id_a =  insert_data('array', size)\n",
    "    t_array.append(ta)\n",
    "    t_array_add.append(taa)"
   ]
  },
  {
   "cell_type": "code",
   "execution_count": 6,
   "metadata": {
    "execution": {
     "iopub.execute_input": "2021-02-20T12:48:05.390117Z",
     "iopub.status.busy": "2021-02-20T12:48:05.384340Z",
     "iopub.status.idle": "2021-02-20T12:48:05.629790Z",
     "shell.execute_reply": "2021-02-20T12:48:05.628708Z"
    }
   },
   "outputs": [
    {
     "data": {
      "image/png": "[encoded data removed]",
      "text/plain": [
       "<Figure size 432x288 with 1 Axes>"
      ]
     },
     "metadata": {
      "needs_background": "light"
     },
     "output_type": "display_data"
    }
   ],
   "source": [
    "fig, ax = plt.subplots(1,1)\n",
    "ax.plot(sizes, t_numeric, 'o-', label='Inserting row-by-row')\n",
    "ax.plot(sizes, t_numeric_add, 'o-', label='Inserting row-by-row: add_result only')\n",
    "ax.plot(sizes, t_array, 'd-', label='Inserting as binary blob')\n",
    "ax.plot(sizes, t_array_add, 'd-', label='Inserting as binary blob: add_result only')\n",
    "ax.legend()\n",
    "ax.set_xlabel('Array length')\n",
    "ax.set_ylabel('Time (s)')\n",
    "fig.tight_layout()"
   ]
  },
  {
   "cell_type": "markdown",
   "metadata": {},
   "source": [
    "As shown in the latter figure, the time to setup and and close the experiment is approximately 0.4 sec. In case of small array sizes, the difference between inserting values of data as arrays and inserting them row-by-row is relatively unimportant. At larger array sizes, i.e. above 10000 points, the cost of writing data as individual datapoints starts to become important.\n"
   ]
  },
  {
   "cell_type": "markdown",
   "metadata": {},
   "source": [
    "### Case2: Long experiment time "
   ]
  },
  {
   "cell_type": "code",
   "execution_count": 7,
   "metadata": {
    "execution": {
     "iopub.execute_input": "2021-02-20T12:48:05.637892Z",
     "iopub.status.busy": "2021-02-20T12:48:05.637006Z",
     "iopub.status.idle": "2021-02-20T12:49:14.455376Z",
     "shell.execute_reply": "2021-02-20T12:49:14.454813Z"
    }
   },
   "outputs": [
    {
     "name": "stdout",
     "output_type": "stream",
     "text": [
      "Starting experimental run with id: 15. \n",
      "Starting experimental run with id: 16. \n"
     ]
    },
    {
     "name": "stdout",
     "output_type": "stream",
     "text": [
      "Starting experimental run with id: 17. \n"
     ]
    },
    {
     "name": "stdout",
     "output_type": "stream",
     "text": [
      "Starting experimental run with id: 18. \n"
     ]
    },
    {
     "name": "stdout",
     "output_type": "stream",
     "text": [
      "Starting experimental run with id: 19. \n"
     ]
    },
    {
     "name": "stdout",
     "output_type": "stream",
     "text": [
      "Starting experimental run with id: 20. \n"
     ]
    },
    {
     "name": "stdout",
     "output_type": "stream",
     "text": [
      "Starting experimental run with id: 21. \n"
     ]
    },
    {
     "name": "stdout",
     "output_type": "stream",
     "text": [
      "Starting experimental run with id: 22. \n"
     ]
    },
    {
     "name": "stdout",
     "output_type": "stream",
     "text": [
      "Starting experimental run with id: 23. \n"
     ]
    },
    {
     "name": "stdout",
     "output_type": "stream",
     "text": [
      "Starting experimental run with id: 24. \n"
     ]
    },
    {
     "name": "stdout",
     "output_type": "stream",
     "text": [
      "Starting experimental run with id: 25. \n"
     ]
    },
    {
     "name": "stdout",
     "output_type": "stream",
     "text": [
      "Starting experimental run with id: 26. \n"
     ]
    },
    {
     "name": "stdout",
     "output_type": "stream",
     "text": [
      "Starting experimental run with id: 27. \n"
     ]
    },
    {
     "name": "stdout",
     "output_type": "stream",
     "text": [
      "Starting experimental run with id: 28. \n"
     ]
    }
   ],
   "source": [
    "sizes = [1,500,1000,2000,3000,4000,5000]\n",
    "nreps = 100\n",
    "t_numeric = []\n",
    "t_numeric_add = []\n",
    "t_numeric_run_ids = []\n",
    "t_array = []\n",
    "t_array_add = []\n",
    "t_array_run_ids = []\n",
    "for size in sizes:\n",
    "    tn, tna, run_id_n =  insert_data('numeric', size, nreps=nreps)\n",
    "    t_numeric.append(tn)\n",
    "    t_numeric_add.append(tna)\n",
    "    t_numeric_run_ids.append(run_id_n)\n",
    "\n",
    "    ta, taa, run_id_a =  insert_data('array', size, nreps=nreps)\n",
    "    t_array.append(ta)\n",
    "    t_array_add.append(taa)\n",
    "    t_array_run_ids.append(run_id_a)"
   ]
  },
  {
   "cell_type": "code",
   "execution_count": 8,
   "metadata": {
    "execution": {
     "iopub.execute_input": "2021-02-20T12:49:14.488727Z",
     "iopub.status.busy": "2021-02-20T12:49:14.483501Z",
     "iopub.status.idle": "2021-02-20T12:49:14.742542Z",
     "shell.execute_reply": "2021-02-20T12:49:14.741855Z"
    },
    "scrolled": true
   },
   "outputs": [
    {
     "data": {
      "image/png": "[encoded data removed]",
      "text/plain": [
       "<Figure size 432x288 with 1 Axes>"
      ]
     },
     "metadata": {
      "needs_background": "light"
     },
     "output_type": "display_data"
    }
   ],
   "source": [
    "fig, ax = plt.subplots(1,1)\n",
    "ax.plot(sizes, t_numeric, 'o-', label='Inserting row-by-row')\n",
    "ax.plot(sizes, t_numeric_add, 'o-', label='Inserting row-by-row: add_result only')\n",
    "ax.plot(sizes, t_array, 'd-', label='Inserting as binary blob')\n",
    "ax.plot(sizes, t_array_add, 'd-', label='Inserting as binary blob: add_result only')\n",
    "ax.legend()\n",
    "ax.set_xlabel('Array length')\n",
    "ax.set_ylabel('Time (s)')\n",
    "fig.tight_layout()"
   ]
  },
  {
   "cell_type": "markdown",
   "metadata": {},
   "source": [
    "However, as we increase the length of the experiment, as seen here by repeating the insertion 100 times, we see a big difference between inserting values of the data row-by-row and inserting it as a binary blob."
   ]
  },
  {
   "cell_type": "markdown",
   "metadata": {},
   "source": [
    "## Loading the data "
   ]
  },
  {
   "cell_type": "code",
   "execution_count": 9,
   "metadata": {
    "execution": {
     "iopub.execute_input": "2021-02-20T12:49:14.747919Z",
     "iopub.status.busy": "2021-02-20T12:49:14.746444Z",
     "iopub.status.idle": "2021-02-20T12:49:14.750608Z",
     "shell.execute_reply": "2021-02-20T12:49:14.749974Z"
    }
   },
   "outputs": [],
   "source": [
    "from qcodes.dataset.data_set import load_by_id\n",
    "from qcodes.dataset.data_export import get_data_by_id"
   ]
  },
  {
   "cell_type": "markdown",
   "metadata": {},
   "source": [
    "As usual you can load the data by using the ``load_by_id`` function but you will notice that the different storage methods\n",
    "are reflected in shape of the data as it is retrieved. "
   ]
  },
  {
   "cell_type": "code",
   "execution_count": 10,
   "metadata": {
    "execution": {
     "iopub.execute_input": "2021-02-20T12:49:14.755933Z",
     "iopub.status.busy": "2021-02-20T12:49:14.754726Z",
     "iopub.status.idle": "2021-02-20T12:49:14.757003Z",
     "shell.execute_reply": "2021-02-20T12:49:14.757625Z"
    }
   },
   "outputs": [],
   "source": [
    "run_id_n = t_numeric_run_ids[0]\n",
    "run_id_a = t_array_run_ids[0]"
   ]
  },
  {
   "cell_type": "code",
   "execution_count": 11,
   "metadata": {
    "execution": {
     "iopub.execute_input": "2021-02-20T12:49:14.761836Z",
     "iopub.status.busy": "2021-02-20T12:49:14.761158Z",
     "iopub.status.idle": "2021-02-20T12:49:14.773478Z",
     "shell.execute_reply": "2021-02-20T12:49:14.772897Z"
    },
    "scrolled": true
   },
   "outputs": [
    {
     "data": {
      "text/plain": [
       "{'x1': {'x1': array([0.53463541, 0.53463541, 0.74693733, 0.74693733, 0.95753932,\n",
       "         0.95753932, 0.37885206, 0.37885206, 0.37913853, 0.37913853,\n",
       "         0.52923814, 0.52923814, 0.1061534 , 0.1061534 , 0.54904328,\n",
       "         0.54904328, 0.33782863, 0.33782863, 0.80005339, 0.80005339,\n",
       "         0.0808335 , 0.0808335 , 0.98795355, 0.98795355, 0.36876667,\n",
       "         0.36876667, 0.49074106, 0.49074106, 0.79043337, 0.79043337,\n",
       "         0.57931713, 0.57931713, 0.1436877 , 0.1436877 , 0.83597367,\n",
       "         0.83597367, 0.94945755, 0.94945755, 0.5093923 , 0.5093923 ,\n",
       "         0.03214898, 0.03214898, 0.55149648, 0.55149648, 0.28345854,\n",
       "         0.28345854, 0.3857988 , 0.3857988 , 0.9551888 , 0.9551888 ,\n",
       "         0.59969982, 0.59969982, 0.84834748, 0.84834748, 0.65189666,\n",
       "         0.65189666, 0.52931987, 0.52931987, 0.38278099, 0.38278099,\n",
       "         0.37311622, 0.37311622, 0.05003884, 0.05003884, 0.98907285,\n",
       "         0.98907285, 0.05515505, 0.05515505, 0.8798682 , 0.8798682 ,\n",
       "         0.94550624, 0.94550624, 0.70852856, 0.70852856, 0.23750635,\n",
       "         0.23750635, 0.01419966, 0.01419966, 0.20765698, 0.20765698,\n",
       "         0.95243821, 0.95243821, 0.52941417, 0.52941417, 0.90452571,\n",
       "         0.90452571, 0.54548321, 0.54548321, 0.79045928, 0.79045928,\n",
       "         0.51625515, 0.51625515, 0.72817455, 0.72817455, 0.25548012,\n",
       "         0.25548012, 0.96029663, 0.96029663, 0.67920432, 0.67920432,\n",
       "         0.29315434, 0.29315434, 0.09587821, 0.09587821, 0.24238787,\n",
       "         0.24238787, 0.50924833, 0.50924833, 0.42416269, 0.42416269,\n",
       "         0.58222176, 0.58222176, 0.51869059, 0.51869059, 0.59165702,\n",
       "         0.59165702, 0.57149891, 0.57149891, 0.67162515, 0.67162515,\n",
       "         0.16919309, 0.16919309, 0.38860824, 0.38860824, 0.63625976,\n",
       "         0.63625976, 0.72715871, 0.72715871, 0.03583041, 0.03583041,\n",
       "         0.22073365, 0.22073365, 0.83055736, 0.83055736, 0.72255914,\n",
       "         0.72255914, 0.7918084 , 0.7918084 , 0.98133982, 0.98133982,\n",
       "         0.10328901, 0.10328901, 0.65066782, 0.65066782, 0.52984501,\n",
       "         0.52984501, 0.82170105, 0.82170105, 0.90845676, 0.90845676,\n",
       "         0.24961466, 0.24961466, 0.08178331, 0.08178331, 0.82508704,\n",
       "         0.82508704, 0.17319093, 0.17319093, 0.7176563 , 0.7176563 ,\n",
       "         0.13281505, 0.13281505, 0.51041748, 0.51041748, 0.45138682,\n",
       "         0.45138682, 0.48214431, 0.48214431, 0.12587779, 0.12587779,\n",
       "         0.02365232, 0.02365232, 0.41455788, 0.41455788, 0.62628067,\n",
       "         0.62628067, 0.4700788 , 0.4700788 , 0.40330079, 0.40330079,\n",
       "         0.2600312 , 0.2600312 , 0.77221092, 0.77221092, 0.96035477,\n",
       "         0.96035477, 0.45025654, 0.45025654, 0.62419516, 0.62419516,\n",
       "         0.46157187, 0.46157187, 0.65045089, 0.65045089, 0.72371638,\n",
       "         0.72371638, 0.49465348, 0.49465348, 0.21689611, 0.21689611])}}"
      ]
     },
     "execution_count": 1,
     "metadata": {},
     "output_type": "execute_result"
    }
   ],
   "source": [
    "ds = load_by_id(run_id_n)\n",
    "ds.get_parameter_data('x1')"
   ]
  },
  {
   "cell_type": "markdown",
   "metadata": {},
   "source": [
    "And a dataset stored as binary arrays"
   ]
  },
  {
   "cell_type": "code",
   "execution_count": 12,
   "metadata": {
    "execution": {
     "iopub.execute_input": "2021-02-20T12:49:14.777475Z",
     "iopub.status.busy": "2021-02-20T12:49:14.776827Z",
     "iopub.status.idle": "2021-02-20T12:49:14.842764Z",
     "shell.execute_reply": "2021-02-20T12:49:14.843266Z"
    },
    "scrolled": true
   },
   "outputs": [
    {
     "data": {
      "text/plain": [
       "{'x1': {'x1': array([[0.53242677],\n",
       "         [0.53242677],\n",
       "         [0.19410667],\n",
       "         [0.19410667],\n",
       "         [0.62831832],\n",
       "         [0.62831832],\n",
       "         [0.4865709 ],\n",
       "         [0.4865709 ],\n",
       "         [0.02636134],\n",
       "         [0.02636134],\n",
       "         [0.2940927 ],\n",
       "         [0.2940927 ],\n",
       "         [0.02598323],\n",
       "         [0.02598323],\n",
       "         [0.45289785],\n",
       "         [0.45289785],\n",
       "         [0.05728719],\n",
       "         [0.05728719],\n",
       "         [0.77221037],\n",
       "         [0.77221037],\n",
       "         [0.60161913],\n",
       "         [0.60161913],\n",
       "         [0.94630465],\n",
       "         [0.94630465],\n",
       "         [0.13679826],\n",
       "         [0.13679826],\n",
       "         [0.61904543],\n",
       "         [0.61904543],\n",
       "         [0.61843165],\n",
       "         [0.61843165],\n",
       "         [0.0715215 ],\n",
       "         [0.0715215 ],\n",
       "         [0.40476   ],\n",
       "         [0.40476   ],\n",
       "         [0.77361411],\n",
       "         [0.77361411],\n",
       "         [0.43107644],\n",
       "         [0.43107644],\n",
       "         [0.91815055],\n",
       "         [0.91815055],\n",
       "         [0.10862836],\n",
       "         [0.10862836],\n",
       "         [0.21175612],\n",
       "         [0.21175612],\n",
       "         [0.79120599],\n",
       "         [0.79120599],\n",
       "         [0.69134357],\n",
       "         [0.69134357],\n",
       "         [0.71992172],\n",
       "         [0.71992172],\n",
       "         [0.5492417 ],\n",
       "         [0.5492417 ],\n",
       "         [0.25842458],\n",
       "         [0.25842458],\n",
       "         [0.30913509],\n",
       "         [0.30913509],\n",
       "         [0.32773269],\n",
       "         [0.32773269],\n",
       "         [0.84271715],\n",
       "         [0.84271715],\n",
       "         [0.26399996],\n",
       "         [0.26399996],\n",
       "         [0.03408745],\n",
       "         [0.03408745],\n",
       "         [0.02501107],\n",
       "         [0.02501107],\n",
       "         [0.90782785],\n",
       "         [0.90782785],\n",
       "         [0.31047909],\n",
       "         [0.31047909],\n",
       "         [0.2981158 ],\n",
       "         [0.2981158 ],\n",
       "         [0.11521064],\n",
       "         [0.11521064],\n",
       "         [0.36739487],\n",
       "         [0.36739487],\n",
       "         [0.5356882 ],\n",
       "         [0.5356882 ],\n",
       "         [0.58662718],\n",
       "         [0.58662718],\n",
       "         [0.32680108],\n",
       "         [0.32680108],\n",
       "         [0.80632895],\n",
       "         [0.80632895],\n",
       "         [0.84472438],\n",
       "         [0.84472438],\n",
       "         [0.1219734 ],\n",
       "         [0.1219734 ],\n",
       "         [0.81889764],\n",
       "         [0.81889764],\n",
       "         [0.8753955 ],\n",
       "         [0.8753955 ],\n",
       "         [0.94256199],\n",
       "         [0.94256199],\n",
       "         [0.02742188],\n",
       "         [0.02742188],\n",
       "         [0.60496694],\n",
       "         [0.60496694],\n",
       "         [0.42769787],\n",
       "         [0.42769787],\n",
       "         [0.29020734],\n",
       "         [0.29020734],\n",
       "         [0.12325236],\n",
       "         [0.12325236],\n",
       "         [0.49034494],\n",
       "         [0.49034494],\n",
       "         [0.93445158],\n",
       "         [0.93445158],\n",
       "         [0.83223218],\n",
       "         [0.83223218],\n",
       "         [0.89225302],\n",
       "         [0.89225302],\n",
       "         [0.48356407],\n",
       "         [0.48356407],\n",
       "         [0.95271489],\n",
       "         [0.95271489],\n",
       "         [0.52391124],\n",
       "         [0.52391124],\n",
       "         [0.22333324],\n",
       "         [0.22333324],\n",
       "         [0.86636301],\n",
       "         [0.86636301],\n",
       "         [0.83513525],\n",
       "         [0.83513525],\n",
       "         [0.70701318],\n",
       "         [0.70701318],\n",
       "         [0.40676258],\n",
       "         [0.40676258],\n",
       "         [0.43539895],\n",
       "         [0.43539895],\n",
       "         [0.40065507],\n",
       "         [0.40065507],\n",
       "         [0.66579206],\n",
       "         [0.66579206],\n",
       "         [0.66525013],\n",
       "         [0.66525013],\n",
       "         [0.85976785],\n",
       "         [0.85976785],\n",
       "         [0.54751843],\n",
       "         [0.54751843],\n",
       "         [0.57738104],\n",
       "         [0.57738104],\n",
       "         [0.62193518],\n",
       "         [0.62193518],\n",
       "         [0.77742169],\n",
       "         [0.77742169],\n",
       "         [0.77737662],\n",
       "         [0.77737662],\n",
       "         [0.34625043],\n",
       "         [0.34625043],\n",
       "         [0.60193672],\n",
       "         [0.60193672],\n",
       "         [0.33324245],\n",
       "         [0.33324245],\n",
       "         [0.05016671],\n",
       "         [0.05016671],\n",
       "         [0.6640236 ],\n",
       "         [0.6640236 ],\n",
       "         [0.45658853],\n",
       "         [0.45658853],\n",
       "         [0.92710603],\n",
       "         [0.92710603],\n",
       "         [0.16854748],\n",
       "         [0.16854748],\n",
       "         [0.11294834],\n",
       "         [0.11294834],\n",
       "         [0.5735258 ],\n",
       "         [0.5735258 ],\n",
       "         [0.0678955 ],\n",
       "         [0.0678955 ],\n",
       "         [0.64740783],\n",
       "         [0.64740783],\n",
       "         [0.48881167],\n",
       "         [0.48881167],\n",
       "         [0.08051103],\n",
       "         [0.08051103],\n",
       "         [0.15644675],\n",
       "         [0.15644675],\n",
       "         [0.38884456],\n",
       "         [0.38884456],\n",
       "         [0.90118473],\n",
       "         [0.90118473],\n",
       "         [0.34762275],\n",
       "         [0.34762275],\n",
       "         [0.52862404],\n",
       "         [0.52862404],\n",
       "         [0.06295263],\n",
       "         [0.06295263],\n",
       "         [0.83623757],\n",
       "         [0.83623757],\n",
       "         [0.07502391],\n",
       "         [0.07502391],\n",
       "         [0.74880925],\n",
       "         [0.74880925],\n",
       "         [0.02039614],\n",
       "         [0.02039614],\n",
       "         [0.17363591],\n",
       "         [0.17363591],\n",
       "         [0.27542559],\n",
       "         [0.27542559]])}}"
      ]
     },
     "execution_count": 1,
     "metadata": {},
     "output_type": "execute_result"
    }
   ],
   "source": [
    "ds = load_by_id(run_id_a)\n",
    "ds.get_parameter_data('x1')"
   ]
  },
  {
   "cell_type": "code",
   "execution_count": null,
   "metadata": {},
   "outputs": [],
   "source": []
  }
 ],
 "metadata": {
  "kernelspec": {
   "display_name": "Python 3",
   "language": "python",
   "name": "python3"
  },
  "language_info": {
   "codemirror_mode": {
    "name": "ipython",
    "version": 3
   },
   "file_extension": ".py",
   "mimetype": "text/x-python",
   "name": "python",
   "nbconvert_exporter": "python",
   "pygments_lexer": "ipython3",
   "version": "3.7.9"
  },
  "nbsphinx": {
   "timeout": 600
  },
  "toc": {
   "base_numbering": 1,
   "nav_menu": {},
   "number_sections": true,
   "sideBar": true,
   "skip_h1_title": false,
   "title_cell": "Table of Contents",
   "title_sidebar": "Contents",
   "toc_cell": false,
   "toc_position": {},
   "toc_section_display": true,
   "toc_window_display": false
  },
  "varInspector": {
   "cols": {
    "lenName": 16,
    "lenType": 16,
    "lenVar": 40
   },
   "kernels_config": {
    "python": {
     "delete_cmd_postfix": "",
     "delete_cmd_prefix": "del ",
     "library": "var_list.py",
     "varRefreshCmd": "print(var_dic_list())"
    },
    "r": {
     "delete_cmd_postfix": ") ",
     "delete_cmd_prefix": "rm(",
     "library": "var_list.r",
     "varRefreshCmd": "cat(var_dic_list()) "
    }
   },
   "types_to_exclude": [
    "module",
    "function",
    "builtin_function_or_method",
    "instance",
    "_Feature"
   ],
   "window_display": false
  }
 },
 "nbformat": 4,
 "nbformat_minor": 2
}
