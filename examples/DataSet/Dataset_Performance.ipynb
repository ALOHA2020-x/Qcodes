{
 "cells": [
  {
   "cell_type": "markdown",
   "metadata": {},
   "source": [
    "# DataSet Performance\n",
    "\n",
    "This notebook shows the trade-off between inserting data into a database row-by-row and as binary blobs. Inserting the data row-by-row means that we have direct access to all the data and may perform queries directly on the values of the data. On the other hand, as we shall see, this is much slower than inserting the data directly as binary blobs."
   ]
  },
  {
   "cell_type": "markdown",
   "metadata": {},
   "source": [
    "First, we choose a new location for the database to ensure that we don't add a bunch of benchmarking data to the default one."
   ]
  },
  {
   "cell_type": "code",
   "execution_count": 1,
   "metadata": {
    "execution": {
     "iopub.execute_input": "2020-09-22T07:19:03.082024Z",
     "iopub.status.busy": "2020-09-22T07:19:03.081546Z",
     "iopub.status.idle": "2020-09-22T07:19:04.008146Z",
     "shell.execute_reply": "2020-09-22T07:19:04.007090Z"
    }
   },
   "outputs": [
    {
     "name": "stdout",
     "output_type": "stream",
     "text": [
      "Logging hadn't been started.\n",
      "Activating auto-logging. Current session state plus future input saved.\n",
      "Filename       : /home/vsts/.qcodes/logs/command_history.log\n",
      "Mode           : append\n",
      "Output logging : True\n",
      "Raw input log  : False\n",
      "Timestamping   : True\n",
      "State          : active\n"
     ]
    },
    {
     "name": "stdout",
     "output_type": "stream",
     "text": [
      "Qcodes Logfile : /home/vsts/.qcodes/logs/200922-18743-qcodes.log\n"
     ]
    }
   ],
   "source": [
    "import os\n",
    "cwd = os.getcwd()\n",
    "import qcodes as qc\n",
    "qc.config[\"core\"][\"db_location\"] = os.path.join(cwd, 'testing.db')\n"
   ]
  },
  {
   "cell_type": "code",
   "execution_count": 2,
   "metadata": {
    "execution": {
     "iopub.execute_input": "2020-09-22T07:19:04.014252Z",
     "iopub.status.busy": "2020-09-22T07:19:04.013226Z",
     "iopub.status.idle": "2020-09-22T07:19:04.183152Z",
     "shell.execute_reply": "2020-09-22T07:19:04.182417Z"
    }
   },
   "outputs": [],
   "source": [
    "%matplotlib inline\n",
    "import time\n",
    "import matplotlib.pyplot as plt\n",
    "import numpy as np\n",
    "\n",
    "import qcodes as qc\n",
    "from qcodes.instrument.parameter import ManualParameter\n",
    "from qcodes.dataset.experiment_container import (Experiment,\n",
    "                                                 load_last_experiment,\n",
    "                                                 new_experiment)\n",
    "from qcodes.dataset.sqlite.database import initialise_database\n",
    "from qcodes import load_or_create_experiment\n",
    "from qcodes.dataset.measurements import Measurement"
   ]
  },
  {
   "cell_type": "code",
   "execution_count": 3,
   "metadata": {
    "execution": {
     "iopub.execute_input": "2020-09-22T07:19:04.187572Z",
     "iopub.status.busy": "2020-09-22T07:19:04.186226Z",
     "iopub.status.idle": "2020-09-22T07:19:04.284697Z",
     "shell.execute_reply": "2020-09-22T07:19:04.284285Z"
    }
   },
   "outputs": [
    {
     "name": "stdout",
     "output_type": "stream",
     "text": [
      "\r",
      "0it [00:00, ?it/s]"
     ]
    },
    {
     "name": "stdout",
     "output_type": "stream",
     "text": [
      "\r",
      "Upgrading database; v0 -> v1: : 0it [00:00, ?it/s]"
     ]
    },
    {
     "name": "stdout",
     "output_type": "stream",
     "text": [
      "\r",
      "Upgrading database; v0 -> v1: : 0it [00:00, ?it/s]"
     ]
    },
    {
     "name": "stdout",
     "output_type": "stream",
     "text": [
      "\n",
      "\r",
      "  0%|          | 0/1 [00:00<?, ?it/s]"
     ]
    },
    {
     "name": "stdout",
     "output_type": "stream",
     "text": [
      "\r",
      "Upgrading database; v1 -> v2:   0%|          | 0/1 [00:00<?, ?it/s]"
     ]
    },
    {
     "name": "stdout",
     "output_type": "stream",
     "text": [
      "\r",
      "Upgrading database; v1 -> v2: 100%|██████████| 1/1 [00:00<00:00, 425.43it/s]"
     ]
    },
    {
     "name": "stdout",
     "output_type": "stream",
     "text": [
      "\n",
      "\r",
      "0it [00:00, ?it/s]"
     ]
    },
    {
     "name": "stdout",
     "output_type": "stream",
     "text": [
      "\r",
      "Upgrading database; v2 -> v3: : 0it [00:00, ?it/s]"
     ]
    },
    {
     "name": "stdout",
     "output_type": "stream",
     "text": [
      "\r",
      "Upgrading database; v2 -> v3: : 0it [00:00, ?it/s]"
     ]
    },
    {
     "name": "stdout",
     "output_type": "stream",
     "text": [
      "\n",
      "\r",
      "0it [00:00, ?it/s]"
     ]
    },
    {
     "name": "stdout",
     "output_type": "stream",
     "text": [
      "\r",
      "Upgrading database; v3 -> v4: : 0it [00:00, ?it/s]"
     ]
    },
    {
     "name": "stdout",
     "output_type": "stream",
     "text": [
      "\r",
      "Upgrading database; v3 -> v4: : 0it [00:00, ?it/s]"
     ]
    },
    {
     "name": "stdout",
     "output_type": "stream",
     "text": [
      "\n",
      "\r",
      "  0%|          | 0/1 [00:00<?, ?it/s]"
     ]
    },
    {
     "name": "stdout",
     "output_type": "stream",
     "text": [
      "\r",
      "Upgrading database; v4 -> v5:   0%|          | 0/1 [00:00<?, ?it/s]"
     ]
    },
    {
     "name": "stdout",
     "output_type": "stream",
     "text": [
      "\r",
      "Upgrading database; v4 -> v5: 100%|██████████| 1/1 [00:00<00:00, 405.48it/s]"
     ]
    },
    {
     "name": "stdout",
     "output_type": "stream",
     "text": [
      "\n",
      "\r",
      "0it [00:00, ?it/s]"
     ]
    },
    {
     "name": "stdout",
     "output_type": "stream",
     "text": [
      "\r",
      "Upgrading database; v5 -> v6: : 0it [00:00, ?it/s]"
     ]
    },
    {
     "name": "stdout",
     "output_type": "stream",
     "text": [
      "\r",
      "Upgrading database; v5 -> v6: : 0it [00:00, ?it/s]"
     ]
    },
    {
     "name": "stdout",
     "output_type": "stream",
     "text": [
      "\n",
      "\r",
      "  0%|          | 0/1 [00:00<?, ?it/s]"
     ]
    },
    {
     "name": "stdout",
     "output_type": "stream",
     "text": [
      "\r",
      "Upgrading database; v6 -> v7:   0%|          | 0/1 [00:00<?, ?it/s]"
     ]
    },
    {
     "name": "stdout",
     "output_type": "stream",
     "text": [
      "\r",
      "Upgrading database; v6 -> v7: 100%|██████████| 1/1 [00:00<00:00, 383.08it/s]"
     ]
    },
    {
     "name": "stdout",
     "output_type": "stream",
     "text": [
      "\n",
      "\r",
      "  0%|          | 0/1 [00:00<?, ?it/s]"
     ]
    },
    {
     "name": "stdout",
     "output_type": "stream",
     "text": [
      "\r",
      "Upgrading database; v7 -> v8:   0%|          | 0/1 [00:00<?, ?it/s]"
     ]
    },
    {
     "name": "stdout",
     "output_type": "stream",
     "text": [
      "\r",
      "Upgrading database; v7 -> v8: 100%|██████████| 1/1 [00:00<00:00, 554.00it/s]"
     ]
    },
    {
     "name": "stdout",
     "output_type": "stream",
     "text": [
      "\n",
      "\r",
      "  0%|          | 0/1 [00:00<?, ?it/s]"
     ]
    },
    {
     "name": "stdout",
     "output_type": "stream",
     "text": [
      "\r",
      "Upgrading database; v8 -> v9:   0%|          | 0/1 [00:00<?, ?it/s]"
     ]
    },
    {
     "name": "stdout",
     "output_type": "stream",
     "text": [
      "\r",
      "Upgrading database; v8 -> v9: 100%|██████████| 1/1 [00:00<00:00, 654.64it/s]"
     ]
    },
    {
     "name": "stdout",
     "output_type": "stream",
     "text": [
      "\n"
     ]
    }
   ],
   "source": [
    "initialise_database()\n",
    "exp = load_or_create_experiment(experiment_name='tutorial_exp', sample_name=\"no sample\")"
   ]
  },
  {
   "cell_type": "markdown",
   "metadata": {},
   "source": [
    "Here, we define a simple function to benchmark the time it takes to insert n points with either numeric or array data type.\n",
    "We will compare both the time used to call ``add_result`` and the time used for the full measurement."
   ]
  },
  {
   "cell_type": "code",
   "execution_count": 4,
   "metadata": {
    "execution": {
     "iopub.execute_input": "2020-09-22T07:19:04.291663Z",
     "iopub.status.busy": "2020-09-22T07:19:04.291188Z",
     "iopub.status.idle": "2020-09-22T07:19:04.294734Z",
     "shell.execute_reply": "2020-09-22T07:19:04.294083Z"
    }
   },
   "outputs": [],
   "source": [
    "def insert_data(paramtype, npoints, nreps=1):\n",
    "\n",
    "    meas = Measurement(exp=exp)\n",
    "\n",
    "    x1 = ManualParameter('x1')\n",
    "    x2 = ManualParameter('x2')\n",
    "    x3 = ManualParameter('x3')\n",
    "    y1 = ManualParameter('y1')\n",
    "    y2 = ManualParameter('y2')\n",
    "\n",
    "    meas.register_parameter(x1, paramtype=paramtype)\n",
    "    meas.register_parameter(x2, paramtype=paramtype)\n",
    "    meas.register_parameter(x3, paramtype=paramtype)\n",
    "    meas.register_parameter(y1, setpoints=[x1, x2, x3],\n",
    "                            paramtype=paramtype)\n",
    "    meas.register_parameter(y2, setpoints=[x1, x2, x3],\n",
    "                            paramtype=paramtype)\n",
    "    start = time.perf_counter()\n",
    "    with meas.run() as datasaver:\n",
    "        start_adding = time.perf_counter()\n",
    "        for i in range(nreps):\n",
    "            datasaver.add_result((x1, np.random.rand(npoints)),\n",
    "                                 (x2, np.random.rand(npoints)),\n",
    "                                 (x3, np.random.rand(npoints)),\n",
    "                                 (y1, np.random.rand(npoints)),\n",
    "                                 (y2, np.random.rand(npoints)))\n",
    "        stop_adding = time.perf_counter()\n",
    "        run_id = datasaver.run_id\n",
    "    stop = time.perf_counter()\n",
    "    tot_time = stop - start\n",
    "    add_time = stop_adding - start_adding\n",
    "    return tot_time, add_time, run_id"
   ]
  },
  {
   "cell_type": "markdown",
   "metadata": {},
   "source": [
    "## Comparison between numeric/array data and binary blob"
   ]
  },
  {
   "cell_type": "markdown",
   "metadata": {},
   "source": [
    "### Case1: Short experiment time"
   ]
  },
  {
   "cell_type": "code",
   "execution_count": 5,
   "metadata": {
    "execution": {
     "iopub.execute_input": "2020-09-22T07:19:04.303057Z",
     "iopub.status.busy": "2020-09-22T07:19:04.302205Z",
     "iopub.status.idle": "2020-09-22T07:19:04.999526Z",
     "shell.execute_reply": "2020-09-22T07:19:05.000142Z"
    }
   },
   "outputs": [
    {
     "name": "stdout",
     "output_type": "stream",
     "text": [
      "Starting experimental run with id: 1. \n",
      "Starting experimental run with id: 2. \n",
      "Starting experimental run with id: 3. \n",
      "Starting experimental run with id: 4. \n",
      "Starting experimental run with id: 5. \n"
     ]
    },
    {
     "name": "stdout",
     "output_type": "stream",
     "text": [
      "Starting experimental run with id: 6. \n"
     ]
    },
    {
     "name": "stdout",
     "output_type": "stream",
     "text": [
      "Starting experimental run with id: 7. \n"
     ]
    },
    {
     "name": "stdout",
     "output_type": "stream",
     "text": [
      "Starting experimental run with id: 8. \n",
      "Starting experimental run with id: 9. \n"
     ]
    },
    {
     "name": "stdout",
     "output_type": "stream",
     "text": [
      "Starting experimental run with id: 10. \n",
      "Starting experimental run with id: 11. \n"
     ]
    },
    {
     "name": "stdout",
     "output_type": "stream",
     "text": [
      "Starting experimental run with id: 12. \n",
      "Starting experimental run with id: 13. \n"
     ]
    },
    {
     "name": "stdout",
     "output_type": "stream",
     "text": [
      "Starting experimental run with id: 14. \n"
     ]
    }
   ],
   "source": [
    "sizes = [1,500,1000,2000,3000,4000,5000]\n",
    "t_numeric = []\n",
    "t_numeric_add = []\n",
    "t_array = []\n",
    "t_array_add = []\n",
    "for size in sizes:\n",
    "    tn, tna, run_id_n =  insert_data('numeric', size)\n",
    "    t_numeric.append(tn)\n",
    "    t_numeric_add.append(tna)\n",
    "\n",
    "    ta, taa, run_id_a =  insert_data('array', size)\n",
    "    t_array.append(ta)\n",
    "    t_array_add.append(taa)"
   ]
  },
  {
   "cell_type": "code",
   "execution_count": 6,
   "metadata": {
    "execution": {
     "iopub.execute_input": "2020-09-22T07:19:05.015750Z",
     "iopub.status.busy": "2020-09-22T07:19:05.015050Z",
     "iopub.status.idle": "2020-09-22T07:19:05.219308Z",
     "shell.execute_reply": "2020-09-22T07:19:05.218735Z"
    }
   },
   "outputs": [
    {
     "data": {
      "image/png": "[encoded data removed]",
      "text/plain": [
       "<Figure size 432x288 with 1 Axes>"
      ]
     },
     "metadata": {
      "needs_background": "light"
     },
     "output_type": "display_data"
    }
   ],
   "source": [
    "fig, ax = plt.subplots(1,1)\n",
    "ax.plot(sizes, t_numeric, 'o-', label='Inserting row-by-row')\n",
    "ax.plot(sizes, t_numeric_add, 'o-', label='Inserting row-by-row: add_result only')\n",
    "ax.plot(sizes, t_array, 'd-', label='Inserting as binary blob')\n",
    "ax.plot(sizes, t_array_add, 'd-', label='Inserting as binary blob: add_result only')\n",
    "ax.legend()\n",
    "ax.set_xlabel('Array length')\n",
    "ax.set_ylabel('Time (s)')\n",
    "fig.tight_layout()"
   ]
  },
  {
   "cell_type": "markdown",
   "metadata": {},
   "source": [
    "As shown in the latter figure, the time to setup and and close the experiment is approximately 0.4 sec. In case of small array sizes, the difference between inserting values of data as arrays and inserting them row-by-row is relatively unimportant. At larger array sizes, i.e. above 10000 points, the cost of writing data as individual datapoints starts to become important.\n"
   ]
  },
  {
   "cell_type": "markdown",
   "metadata": {},
   "source": [
    "### Case2: Long experiment time "
   ]
  },
  {
   "cell_type": "code",
   "execution_count": 7,
   "metadata": {
    "execution": {
     "iopub.execute_input": "2020-09-22T07:19:05.226067Z",
     "iopub.status.busy": "2020-09-22T07:19:05.224960Z",
     "iopub.status.idle": "2020-09-22T07:19:57.396631Z",
     "shell.execute_reply": "2020-09-22T07:19:57.395720Z"
    }
   },
   "outputs": [
    {
     "name": "stdout",
     "output_type": "stream",
     "text": [
      "Starting experimental run with id: 15. \n",
      "Starting experimental run with id: 16. \n",
      "Starting experimental run with id: 17. \n"
     ]
    },
    {
     "name": "stdout",
     "output_type": "stream",
     "text": [
      "Starting experimental run with id: 18. \n",
      "Starting experimental run with id: 19. \n"
     ]
    },
    {
     "name": "stdout",
     "output_type": "stream",
     "text": [
      "Starting experimental run with id: 20. \n"
     ]
    },
    {
     "name": "stdout",
     "output_type": "stream",
     "text": [
      "Starting experimental run with id: 21. \n"
     ]
    },
    {
     "name": "stdout",
     "output_type": "stream",
     "text": [
      "Starting experimental run with id: 22. \n"
     ]
    },
    {
     "name": "stdout",
     "output_type": "stream",
     "text": [
      "Starting experimental run with id: 23. \n"
     ]
    },
    {
     "name": "stdout",
     "output_type": "stream",
     "text": [
      "Starting experimental run with id: 24. \n"
     ]
    },
    {
     "name": "stdout",
     "output_type": "stream",
     "text": [
      "Starting experimental run with id: 25. \n"
     ]
    },
    {
     "name": "stdout",
     "output_type": "stream",
     "text": [
      "Starting experimental run with id: 26. \n"
     ]
    },
    {
     "name": "stdout",
     "output_type": "stream",
     "text": [
      "Starting experimental run with id: 27. \n"
     ]
    },
    {
     "name": "stdout",
     "output_type": "stream",
     "text": [
      "Starting experimental run with id: 28. \n"
     ]
    }
   ],
   "source": [
    "sizes = [1,500,1000,2000,3000,4000,5000]\n",
    "nreps = 100\n",
    "t_numeric = []\n",
    "t_numeric_add = []\n",
    "t_numeric_run_ids = []\n",
    "t_array = []\n",
    "t_array_add = []\n",
    "t_array_run_ids = []\n",
    "for size in sizes:\n",
    "    tn, tna, run_id_n =  insert_data('numeric', size, nreps=nreps)\n",
    "    t_numeric.append(tn)\n",
    "    t_numeric_add.append(tna)\n",
    "    t_numeric_run_ids.append(run_id_n)\n",
    "\n",
    "    ta, taa, run_id_a =  insert_data('array', size, nreps=nreps)\n",
    "    t_array.append(ta)\n",
    "    t_array_add.append(taa)\n",
    "    t_array_run_ids.append(run_id_a)"
   ]
  },
  {
   "cell_type": "code",
   "execution_count": 8,
   "metadata": {
    "execution": {
     "iopub.execute_input": "2020-09-22T07:19:57.413197Z",
     "iopub.status.busy": "2020-09-22T07:19:57.412644Z",
     "iopub.status.idle": "2020-09-22T07:19:57.640056Z",
     "shell.execute_reply": "2020-09-22T07:19:57.639448Z"
    },
    "scrolled": true
   },
   "outputs": [
    {
     "data": {
      "image/png": "[encoded data removed]",
      "text/plain": [
       "<Figure size 432x288 with 1 Axes>"
      ]
     },
     "metadata": {
      "needs_background": "light"
     },
     "output_type": "display_data"
    }
   ],
   "source": [
    "fig, ax = plt.subplots(1,1)\n",
    "ax.plot(sizes, t_numeric, 'o-', label='Inserting row-by-row')\n",
    "ax.plot(sizes, t_numeric_add, 'o-', label='Inserting row-by-row: add_result only')\n",
    "ax.plot(sizes, t_array, 'd-', label='Inserting as binary blob')\n",
    "ax.plot(sizes, t_array_add, 'd-', label='Inserting as binary blob: add_result only')\n",
    "ax.legend()\n",
    "ax.set_xlabel('Array length')\n",
    "ax.set_ylabel('Time (s)')\n",
    "fig.tight_layout()"
   ]
  },
  {
   "cell_type": "markdown",
   "metadata": {},
   "source": [
    "However, as we increase the length of the experiment, as seen here by repeating the insertion 100 times, we see a big difference between inserting values of the data row-by-row and inserting it as a binary blob."
   ]
  },
  {
   "cell_type": "markdown",
   "metadata": {},
   "source": [
    "## Loading the data "
   ]
  },
  {
   "cell_type": "code",
   "execution_count": 9,
   "metadata": {
    "execution": {
     "iopub.execute_input": "2020-09-22T07:19:57.644437Z",
     "iopub.status.busy": "2020-09-22T07:19:57.643632Z",
     "iopub.status.idle": "2020-09-22T07:19:57.647469Z",
     "shell.execute_reply": "2020-09-22T07:19:57.646956Z"
    }
   },
   "outputs": [],
   "source": [
    "from qcodes.dataset.data_set import load_by_id\n",
    "from qcodes.dataset.data_export import get_data_by_id"
   ]
  },
  {
   "cell_type": "markdown",
   "metadata": {},
   "source": [
    "As usual you can load the data by using the ``load_by_id`` function but you will notice that the different storage methods\n",
    "are reflected in shape of the data as it is retrieved. "
   ]
  },
  {
   "cell_type": "code",
   "execution_count": 10,
   "metadata": {
    "execution": {
     "iopub.execute_input": "2020-09-22T07:19:57.651066Z",
     "iopub.status.busy": "2020-09-22T07:19:57.650584Z",
     "iopub.status.idle": "2020-09-22T07:19:57.653912Z",
     "shell.execute_reply": "2020-09-22T07:19:57.653420Z"
    }
   },
   "outputs": [],
   "source": [
    "run_id_n = t_numeric_run_ids[0]\n",
    "run_id_a = t_array_run_ids[0]"
   ]
  },
  {
   "cell_type": "code",
   "execution_count": 11,
   "metadata": {
    "execution": {
     "iopub.execute_input": "2020-09-22T07:19:57.658390Z",
     "iopub.status.busy": "2020-09-22T07:19:57.657860Z",
     "iopub.status.idle": "2020-09-22T07:19:57.669447Z",
     "shell.execute_reply": "2020-09-22T07:19:57.668789Z"
    },
    "scrolled": true
   },
   "outputs": [
    {
     "data": {
      "text/plain": [
       "{'x1': {'x1': array([0.48314191, 0.48314191, 0.0885958 , 0.0885958 , 0.25700402,\n",
       "         0.25700402, 0.55298677, 0.55298677, 0.27702204, 0.27702204,\n",
       "         0.830391  , 0.830391  , 0.10673505, 0.10673505, 0.47842337,\n",
       "         0.47842337, 0.11556341, 0.11556341, 0.21442017, 0.21442017,\n",
       "         0.30799592, 0.30799592, 0.66920879, 0.66920879, 0.96020221,\n",
       "         0.96020221, 0.0932246 , 0.0932246 , 0.43048651, 0.43048651,\n",
       "         0.53238597, 0.53238597, 0.38664541, 0.38664541, 0.64741088,\n",
       "         0.64741088, 0.01251887, 0.01251887, 0.12740518, 0.12740518,\n",
       "         0.61236194, 0.61236194, 0.96965926, 0.96965926, 0.18245177,\n",
       "         0.18245177, 0.04058446, 0.04058446, 0.5447033 , 0.5447033 ,\n",
       "         0.68359752, 0.68359752, 0.87731186, 0.87731186, 0.88034506,\n",
       "         0.88034506, 0.23805536, 0.23805536, 0.49863561, 0.49863561,\n",
       "         0.80466149, 0.80466149, 0.40051827, 0.40051827, 0.15038596,\n",
       "         0.15038596, 0.30820424, 0.30820424, 0.44608492, 0.44608492,\n",
       "         0.95343743, 0.95343743, 0.85609632, 0.85609632, 0.26766533,\n",
       "         0.26766533, 0.51559008, 0.51559008, 0.87661266, 0.87661266,\n",
       "         0.0487995 , 0.0487995 , 0.74757959, 0.74757959, 0.08130429,\n",
       "         0.08130429, 0.48344412, 0.48344412, 0.65435601, 0.65435601,\n",
       "         0.59854338, 0.59854338, 0.2232135 , 0.2232135 , 0.95932056,\n",
       "         0.95932056, 0.89468417, 0.89468417, 0.63608935, 0.63608935,\n",
       "         0.86711919, 0.86711919, 0.46081211, 0.46081211, 0.06792926,\n",
       "         0.06792926, 0.17229667, 0.17229667, 0.94991108, 0.94991108,\n",
       "         0.92923093, 0.92923093, 0.44023563, 0.44023563, 0.04182531,\n",
       "         0.04182531, 0.61862495, 0.61862495, 0.79829224, 0.79829224,\n",
       "         0.3800818 , 0.3800818 , 0.18872075, 0.18872075, 0.87839636,\n",
       "         0.87839636, 0.64709226, 0.64709226, 0.28209175, 0.28209175,\n",
       "         0.04811656, 0.04811656, 0.65681465, 0.65681465, 0.75281646,\n",
       "         0.75281646, 0.35445246, 0.35445246, 0.09698615, 0.09698615,\n",
       "         0.12385109, 0.12385109, 0.31244318, 0.31244318, 0.57624772,\n",
       "         0.57624772, 0.00297455, 0.00297455, 0.25271299, 0.25271299,\n",
       "         0.57201648, 0.57201648, 0.27760093, 0.27760093, 0.35640405,\n",
       "         0.35640405, 0.54549019, 0.54549019, 0.26843171, 0.26843171,\n",
       "         0.98362684, 0.98362684, 0.22142412, 0.22142412, 0.70919066,\n",
       "         0.70919066, 0.16428024, 0.16428024, 0.53791984, 0.53791984,\n",
       "         0.46012604, 0.46012604, 0.41559739, 0.41559739, 0.98020749,\n",
       "         0.98020749, 0.8865553 , 0.8865553 , 0.6874821 , 0.6874821 ,\n",
       "         0.58644242, 0.58644242, 0.53676498, 0.53676498, 0.29815561,\n",
       "         0.29815561, 0.98877527, 0.98877527, 0.73124898, 0.73124898,\n",
       "         0.65643623, 0.65643623, 0.52798598, 0.52798598, 0.55573612,\n",
       "         0.55573612, 0.84512272, 0.84512272, 0.9464908 , 0.9464908 ])}}"
      ]
     },
     "execution_count": 1,
     "metadata": {},
     "output_type": "execute_result"
    }
   ],
   "source": [
    "ds = load_by_id(run_id_n)\n",
    "ds.get_parameter_data('x1')"
   ]
  },
  {
   "cell_type": "markdown",
   "metadata": {},
   "source": [
    "And a dataset stored as binary arrays"
   ]
  },
  {
   "cell_type": "code",
   "execution_count": 12,
   "metadata": {
    "execution": {
     "iopub.execute_input": "2020-09-22T07:19:57.672872Z",
     "iopub.status.busy": "2020-09-22T07:19:57.672387Z",
     "iopub.status.idle": "2020-09-22T07:19:57.728475Z",
     "shell.execute_reply": "2020-09-22T07:19:57.727969Z"
    },
    "scrolled": true
   },
   "outputs": [
    {
     "data": {
      "text/plain": [
       "{'x1': {'x1': array([[0.64801582],\n",
       "         [0.64801582],\n",
       "         [0.5630188 ],\n",
       "         [0.5630188 ],\n",
       "         [0.66330279],\n",
       "         [0.66330279],\n",
       "         [0.9682397 ],\n",
       "         [0.9682397 ],\n",
       "         [0.12590001],\n",
       "         [0.12590001],\n",
       "         [0.38975105],\n",
       "         [0.38975105],\n",
       "         [0.16226032],\n",
       "         [0.16226032],\n",
       "         [0.963847  ],\n",
       "         [0.963847  ],\n",
       "         [0.18187835],\n",
       "         [0.18187835],\n",
       "         [0.72831939],\n",
       "         [0.72831939],\n",
       "         [0.41109798],\n",
       "         [0.41109798],\n",
       "         [0.61115122],\n",
       "         [0.61115122],\n",
       "         [0.05524309],\n",
       "         [0.05524309],\n",
       "         [0.67194582],\n",
       "         [0.67194582],\n",
       "         [0.26769336],\n",
       "         [0.26769336],\n",
       "         [0.96994823],\n",
       "         [0.96994823],\n",
       "         [0.62572057],\n",
       "         [0.62572057],\n",
       "         [0.04787632],\n",
       "         [0.04787632],\n",
       "         [0.13214304],\n",
       "         [0.13214304],\n",
       "         [0.72550197],\n",
       "         [0.72550197],\n",
       "         [0.08803807],\n",
       "         [0.08803807],\n",
       "         [0.38651727],\n",
       "         [0.38651727],\n",
       "         [0.56624909],\n",
       "         [0.56624909],\n",
       "         [0.64642373],\n",
       "         [0.64642373],\n",
       "         [0.41771499],\n",
       "         [0.41771499],\n",
       "         [0.63386079],\n",
       "         [0.63386079],\n",
       "         [0.03572658],\n",
       "         [0.03572658],\n",
       "         [0.5369816 ],\n",
       "         [0.5369816 ],\n",
       "         [0.91090772],\n",
       "         [0.91090772],\n",
       "         [0.28388467],\n",
       "         [0.28388467],\n",
       "         [0.79856753],\n",
       "         [0.79856753],\n",
       "         [0.06071028],\n",
       "         [0.06071028],\n",
       "         [0.98925116],\n",
       "         [0.98925116],\n",
       "         [0.44293501],\n",
       "         [0.44293501],\n",
       "         [0.71082875],\n",
       "         [0.71082875],\n",
       "         [0.75212286],\n",
       "         [0.75212286],\n",
       "         [0.36082381],\n",
       "         [0.36082381],\n",
       "         [0.20930144],\n",
       "         [0.20930144],\n",
       "         [0.67039108],\n",
       "         [0.67039108],\n",
       "         [0.92570776],\n",
       "         [0.92570776],\n",
       "         [0.10519309],\n",
       "         [0.10519309],\n",
       "         [0.93711578],\n",
       "         [0.93711578],\n",
       "         [0.7073569 ],\n",
       "         [0.7073569 ],\n",
       "         [0.44809528],\n",
       "         [0.44809528],\n",
       "         [0.37557012],\n",
       "         [0.37557012],\n",
       "         [0.85167994],\n",
       "         [0.85167994],\n",
       "         [0.91363813],\n",
       "         [0.91363813],\n",
       "         [0.13085403],\n",
       "         [0.13085403],\n",
       "         [0.72143738],\n",
       "         [0.72143738],\n",
       "         [0.39108806],\n",
       "         [0.39108806],\n",
       "         [0.52115639],\n",
       "         [0.52115639],\n",
       "         [0.77832844],\n",
       "         [0.77832844],\n",
       "         [0.22490281],\n",
       "         [0.22490281],\n",
       "         [0.29143396],\n",
       "         [0.29143396],\n",
       "         [0.68862874],\n",
       "         [0.68862874],\n",
       "         [0.62014412],\n",
       "         [0.62014412],\n",
       "         [0.11534702],\n",
       "         [0.11534702],\n",
       "         [0.87767236],\n",
       "         [0.87767236],\n",
       "         [0.02569103],\n",
       "         [0.02569103],\n",
       "         [0.40155616],\n",
       "         [0.40155616],\n",
       "         [0.97965333],\n",
       "         [0.97965333],\n",
       "         [0.53564451],\n",
       "         [0.53564451],\n",
       "         [0.00219827],\n",
       "         [0.00219827],\n",
       "         [0.56147922],\n",
       "         [0.56147922],\n",
       "         [0.51327518],\n",
       "         [0.51327518],\n",
       "         [0.53997128],\n",
       "         [0.53997128],\n",
       "         [0.43691095],\n",
       "         [0.43691095],\n",
       "         [0.90384534],\n",
       "         [0.90384534],\n",
       "         [0.27239458],\n",
       "         [0.27239458],\n",
       "         [0.94957377],\n",
       "         [0.94957377],\n",
       "         [0.37786372],\n",
       "         [0.37786372],\n",
       "         [0.29741432],\n",
       "         [0.29741432],\n",
       "         [0.27138478],\n",
       "         [0.27138478],\n",
       "         [0.59534039],\n",
       "         [0.59534039],\n",
       "         [0.8029573 ],\n",
       "         [0.8029573 ],\n",
       "         [0.61816196],\n",
       "         [0.61816196],\n",
       "         [0.86390844],\n",
       "         [0.86390844],\n",
       "         [0.4991483 ],\n",
       "         [0.4991483 ],\n",
       "         [0.40707053],\n",
       "         [0.40707053],\n",
       "         [0.69159331],\n",
       "         [0.69159331],\n",
       "         [0.56252823],\n",
       "         [0.56252823],\n",
       "         [0.6708579 ],\n",
       "         [0.6708579 ],\n",
       "         [0.40638712],\n",
       "         [0.40638712],\n",
       "         [0.5041525 ],\n",
       "         [0.5041525 ],\n",
       "         [0.40425602],\n",
       "         [0.40425602],\n",
       "         [0.59787535],\n",
       "         [0.59787535],\n",
       "         [0.30163402],\n",
       "         [0.30163402],\n",
       "         [0.67040483],\n",
       "         [0.67040483],\n",
       "         [0.86308821],\n",
       "         [0.86308821],\n",
       "         [0.73403418],\n",
       "         [0.73403418],\n",
       "         [0.29832757],\n",
       "         [0.29832757],\n",
       "         [0.69979027],\n",
       "         [0.69979027],\n",
       "         [0.89577555],\n",
       "         [0.89577555],\n",
       "         [0.81790916],\n",
       "         [0.81790916],\n",
       "         [0.78715385],\n",
       "         [0.78715385],\n",
       "         [0.43264792],\n",
       "         [0.43264792],\n",
       "         [0.47017022],\n",
       "         [0.47017022],\n",
       "         [0.71687675],\n",
       "         [0.71687675],\n",
       "         [0.92267068],\n",
       "         [0.92267068],\n",
       "         [0.27451781],\n",
       "         [0.27451781]])}}"
      ]
     },
     "execution_count": 1,
     "metadata": {},
     "output_type": "execute_result"
    }
   ],
   "source": [
    "ds = load_by_id(run_id_a)\n",
    "ds.get_parameter_data('x1')"
   ]
  },
  {
   "cell_type": "code",
   "execution_count": null,
   "metadata": {},
   "outputs": [],
   "source": []
  }
 ],
 "metadata": {
  "kernelspec": {
   "display_name": "Python 3",
   "language": "python",
   "name": "python3"
  },
  "language_info": {
   "codemirror_mode": {
    "name": "ipython",
    "version": 3
   },
   "file_extension": ".py",
   "mimetype": "text/x-python",
   "name": "python",
   "nbconvert_exporter": "python",
   "pygments_lexer": "ipython3",
   "version": "3.7.7"
  },
  "nbsphinx": {
   "timeout": 600
  },
  "toc": {
   "base_numbering": 1,
   "nav_menu": {},
   "number_sections": true,
   "sideBar": true,
   "skip_h1_title": false,
   "title_cell": "Table of Contents",
   "title_sidebar": "Contents",
   "toc_cell": false,
   "toc_position": {},
   "toc_section_display": true,
   "toc_window_display": false
  },
  "varInspector": {
   "cols": {
    "lenName": 16,
    "lenType": 16,
    "lenVar": 40
   },
   "kernels_config": {
    "python": {
     "delete_cmd_postfix": "",
     "delete_cmd_prefix": "del ",
     "library": "var_list.py",
     "varRefreshCmd": "print(var_dic_list())"
    },
    "r": {
     "delete_cmd_postfix": ") ",
     "delete_cmd_prefix": "rm(",
     "library": "var_list.r",
     "varRefreshCmd": "cat(var_dic_list()) "
    }
   },
   "types_to_exclude": [
    "module",
    "function",
    "builtin_function_or_method",
    "instance",
    "_Feature"
   ],
   "window_display": false
  }
 },
 "nbformat": 4,
 "nbformat_minor": 2
}
