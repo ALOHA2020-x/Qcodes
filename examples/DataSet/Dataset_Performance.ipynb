{
 "cells": [
  {
   "cell_type": "markdown",
   "metadata": {},
   "source": [
    "# DataSet Performance\n",
    "\n",
    "This notebook shows the trade-off between inserting data into a database row-by-row and as binary blobs. Inserting the data row-by-row means that we have direct access to all the data and may perform queries directly on the values of the data. On the other hand, as we shall see, this is much slower than inserting the data directly as binary blobs."
   ]
  },
  {
   "cell_type": "markdown",
   "metadata": {},
   "source": [
    "First, we choose a new location for the database to ensure that we don't add a bunch of benchmarking data to the default one."
   ]
  },
  {
   "cell_type": "code",
   "execution_count": 1,
   "metadata": {
    "execution": {
     "iopub.execute_input": "2021-01-14T12:18:13.012010Z",
     "iopub.status.busy": "2021-01-14T12:18:13.011451Z",
     "iopub.status.idle": "2021-01-14T12:18:14.172362Z",
     "shell.execute_reply": "2021-01-14T12:18:14.172857Z"
    }
   },
   "outputs": [
    {
     "name": "stdout",
     "output_type": "stream",
     "text": [
      "Logging hadn't been started.\n",
      "Activating auto-logging. Current session state plus future input saved.\n",
      "Filename       : /home/vsts/.qcodes/logs/command_history.log\n",
      "Mode           : append\n",
      "Output logging : True\n",
      "Raw input log  : False\n",
      "Timestamping   : True\n",
      "State          : active\n"
     ]
    },
    {
     "name": "stdout",
     "output_type": "stream",
     "text": [
      "Qcodes Logfile : /home/vsts/.qcodes/logs/210114-13325-qcodes.log\n"
     ]
    }
   ],
   "source": [
    "import os\n",
    "cwd = os.getcwd()\n",
    "import qcodes as qc\n",
    "qc.config[\"core\"][\"db_location\"] = os.path.join(cwd, 'testing.db')\n"
   ]
  },
  {
   "cell_type": "code",
   "execution_count": 2,
   "metadata": {
    "execution": {
     "iopub.execute_input": "2021-01-14T12:18:14.178578Z",
     "iopub.status.busy": "2021-01-14T12:18:14.178011Z",
     "iopub.status.idle": "2021-01-14T12:18:14.388271Z",
     "shell.execute_reply": "2021-01-14T12:18:14.387346Z"
    }
   },
   "outputs": [],
   "source": [
    "%matplotlib inline\n",
    "import time\n",
    "import matplotlib.pyplot as plt\n",
    "import numpy as np\n",
    "\n",
    "import qcodes as qc\n",
    "from qcodes.instrument.parameter import ManualParameter\n",
    "from qcodes.dataset.experiment_container import (Experiment,\n",
    "                                                 load_last_experiment,\n",
    "                                                 new_experiment)\n",
    "from qcodes.dataset.sqlite.database import initialise_database\n",
    "from qcodes import load_or_create_experiment\n",
    "from qcodes.dataset.measurements import Measurement"
   ]
  },
  {
   "cell_type": "code",
   "execution_count": 3,
   "metadata": {
    "execution": {
     "iopub.execute_input": "2021-01-14T12:18:14.392490Z",
     "iopub.status.busy": "2021-01-14T12:18:14.391967Z",
     "iopub.status.idle": "2021-01-14T12:18:14.525939Z",
     "shell.execute_reply": "2021-01-14T12:18:14.526581Z"
    }
   },
   "outputs": [
    {
     "name": "stdout",
     "output_type": "stream",
     "text": [
      "\r",
      "0it [00:00, ?it/s]"
     ]
    },
    {
     "name": "stdout",
     "output_type": "stream",
     "text": [
      "\r",
      "Upgrading database; v0 -> v1: : 0it [00:00, ?it/s]"
     ]
    },
    {
     "name": "stdout",
     "output_type": "stream",
     "text": [
      "\r",
      "Upgrading database; v0 -> v1: : 0it [00:00, ?it/s]"
     ]
    },
    {
     "name": "stdout",
     "output_type": "stream",
     "text": [
      "\n",
      "\r",
      "  0%|          | 0/1 [00:00<?, ?it/s]"
     ]
    },
    {
     "name": "stdout",
     "output_type": "stream",
     "text": [
      "\r",
      "Upgrading database; v1 -> v2:   0%|          | 0/1 [00:00<?, ?it/s]"
     ]
    },
    {
     "name": "stdout",
     "output_type": "stream",
     "text": [
      "\r",
      "Upgrading database; v1 -> v2: 100%|██████████| 1/1 [00:00<00:00, 396.59it/s]"
     ]
    },
    {
     "name": "stdout",
     "output_type": "stream",
     "text": [
      "\n",
      "\r",
      "0it [00:00, ?it/s]"
     ]
    },
    {
     "name": "stdout",
     "output_type": "stream",
     "text": [
      "\r",
      "Upgrading database; v2 -> v3: : 0it [00:00, ?it/s]"
     ]
    },
    {
     "name": "stdout",
     "output_type": "stream",
     "text": [
      "\r",
      "Upgrading database; v2 -> v3: : 0it [00:00, ?it/s]"
     ]
    },
    {
     "name": "stdout",
     "output_type": "stream",
     "text": [
      "\n",
      "\r",
      "0it [00:00, ?it/s]"
     ]
    },
    {
     "name": "stdout",
     "output_type": "stream",
     "text": [
      "\r",
      "Upgrading database; v3 -> v4: : 0it [00:00, ?it/s]"
     ]
    },
    {
     "name": "stdout",
     "output_type": "stream",
     "text": [
      "\r",
      "Upgrading database; v3 -> v4: : 0it [00:00, ?it/s]"
     ]
    },
    {
     "name": "stdout",
     "output_type": "stream",
     "text": [
      "\n",
      "\r",
      "  0%|          | 0/1 [00:00<?, ?it/s]"
     ]
    },
    {
     "name": "stdout",
     "output_type": "stream",
     "text": [
      "\r",
      "Upgrading database; v4 -> v5:   0%|          | 0/1 [00:00<?, ?it/s]"
     ]
    },
    {
     "name": "stdout",
     "output_type": "stream",
     "text": [
      "\r",
      "Upgrading database; v4 -> v5: 100%|██████████| 1/1 [00:00<00:00, 562.09it/s]"
     ]
    },
    {
     "name": "stdout",
     "output_type": "stream",
     "text": [
      "\n",
      "\r",
      "0it [00:00, ?it/s]"
     ]
    },
    {
     "name": "stdout",
     "output_type": "stream",
     "text": [
      "\r",
      "Upgrading database; v5 -> v6: : 0it [00:00, ?it/s]"
     ]
    },
    {
     "name": "stdout",
     "output_type": "stream",
     "text": [
      "\r",
      "Upgrading database; v5 -> v6: : 0it [00:00, ?it/s]"
     ]
    },
    {
     "name": "stdout",
     "output_type": "stream",
     "text": [
      "\n",
      "\r",
      "  0%|          | 0/1 [00:00<?, ?it/s]"
     ]
    },
    {
     "name": "stdout",
     "output_type": "stream",
     "text": [
      "\r",
      "Upgrading database; v6 -> v7:   0%|          | 0/1 [00:00<?, ?it/s]"
     ]
    },
    {
     "name": "stdout",
     "output_type": "stream",
     "text": [
      "\r",
      "Upgrading database; v6 -> v7: 100%|██████████| 1/1 [00:00<00:00, 218.80it/s]"
     ]
    },
    {
     "name": "stdout",
     "output_type": "stream",
     "text": [
      "\n",
      "\r",
      "  0%|          | 0/1 [00:00<?, ?it/s]"
     ]
    },
    {
     "name": "stdout",
     "output_type": "stream",
     "text": [
      "\r",
      "Upgrading database; v7 -> v8:   0%|          | 0/1 [00:00<?, ?it/s]"
     ]
    },
    {
     "name": "stdout",
     "output_type": "stream",
     "text": [
      "\r",
      "Upgrading database; v7 -> v8: 100%|██████████| 1/1 [00:00<00:00, 860.72it/s]"
     ]
    },
    {
     "name": "stdout",
     "output_type": "stream",
     "text": [
      "\n",
      "\r",
      "  0%|          | 0/1 [00:00<?, ?it/s]"
     ]
    },
    {
     "name": "stdout",
     "output_type": "stream",
     "text": [
      "\r",
      "Upgrading database; v8 -> v9:   0%|          | 0/1 [00:00<?, ?it/s]"
     ]
    },
    {
     "name": "stdout",
     "output_type": "stream",
     "text": [
      "\r",
      "Upgrading database; v8 -> v9: 100%|██████████| 1/1 [00:00<00:00, 604.19it/s]"
     ]
    },
    {
     "name": "stdout",
     "output_type": "stream",
     "text": [
      "\n"
     ]
    }
   ],
   "source": [
    "initialise_database()\n",
    "exp = load_or_create_experiment(experiment_name='tutorial_exp', sample_name=\"no sample\")"
   ]
  },
  {
   "cell_type": "markdown",
   "metadata": {},
   "source": [
    "Here, we define a simple function to benchmark the time it takes to insert n points with either numeric or array data type.\n",
    "We will compare both the time used to call ``add_result`` and the time used for the full measurement."
   ]
  },
  {
   "cell_type": "code",
   "execution_count": 4,
   "metadata": {
    "execution": {
     "iopub.execute_input": "2021-01-14T12:18:14.535713Z",
     "iopub.status.busy": "2021-01-14T12:18:14.535003Z",
     "iopub.status.idle": "2021-01-14T12:18:14.538267Z",
     "shell.execute_reply": "2021-01-14T12:18:14.538718Z"
    }
   },
   "outputs": [],
   "source": [
    "def insert_data(paramtype, npoints, nreps=1):\n",
    "\n",
    "    meas = Measurement(exp=exp)\n",
    "\n",
    "    x1 = ManualParameter('x1')\n",
    "    x2 = ManualParameter('x2')\n",
    "    x3 = ManualParameter('x3')\n",
    "    y1 = ManualParameter('y1')\n",
    "    y2 = ManualParameter('y2')\n",
    "\n",
    "    meas.register_parameter(x1, paramtype=paramtype)\n",
    "    meas.register_parameter(x2, paramtype=paramtype)\n",
    "    meas.register_parameter(x3, paramtype=paramtype)\n",
    "    meas.register_parameter(y1, setpoints=[x1, x2, x3],\n",
    "                            paramtype=paramtype)\n",
    "    meas.register_parameter(y2, setpoints=[x1, x2, x3],\n",
    "                            paramtype=paramtype)\n",
    "    start = time.perf_counter()\n",
    "    with meas.run() as datasaver:\n",
    "        start_adding = time.perf_counter()\n",
    "        for i in range(nreps):\n",
    "            datasaver.add_result((x1, np.random.rand(npoints)),\n",
    "                                 (x2, np.random.rand(npoints)),\n",
    "                                 (x3, np.random.rand(npoints)),\n",
    "                                 (y1, np.random.rand(npoints)),\n",
    "                                 (y2, np.random.rand(npoints)))\n",
    "        stop_adding = time.perf_counter()\n",
    "        run_id = datasaver.run_id\n",
    "    stop = time.perf_counter()\n",
    "    tot_time = stop - start\n",
    "    add_time = stop_adding - start_adding\n",
    "    return tot_time, add_time, run_id"
   ]
  },
  {
   "cell_type": "markdown",
   "metadata": {},
   "source": [
    "## Comparison between numeric/array data and binary blob"
   ]
  },
  {
   "cell_type": "markdown",
   "metadata": {},
   "source": [
    "### Case1: Short experiment time"
   ]
  },
  {
   "cell_type": "code",
   "execution_count": 5,
   "metadata": {
    "execution": {
     "iopub.execute_input": "2021-01-14T12:18:14.545324Z",
     "iopub.status.busy": "2021-01-14T12:18:14.544277Z",
     "iopub.status.idle": "2021-01-14T12:18:15.432027Z",
     "shell.execute_reply": "2021-01-14T12:18:15.431274Z"
    }
   },
   "outputs": [
    {
     "name": "stdout",
     "output_type": "stream",
     "text": [
      "Starting experimental run with id: 1. \n",
      "Starting experimental run with id: 2. \n",
      "Starting experimental run with id: 3. \n"
     ]
    },
    {
     "name": "stdout",
     "output_type": "stream",
     "text": [
      "Starting experimental run with id: 4. "
     ]
    },
    {
     "name": "stdout",
     "output_type": "stream",
     "text": [
      "\n"
     ]
    },
    {
     "name": "stdout",
     "output_type": "stream",
     "text": [
      "Starting experimental run with id: 5. \n"
     ]
    },
    {
     "name": "stdout",
     "output_type": "stream",
     "text": [
      "Starting experimental run with id: 6. \n",
      "Starting experimental run with id: 7. \n"
     ]
    },
    {
     "name": "stdout",
     "output_type": "stream",
     "text": [
      "Starting experimental run with id: 8. \n"
     ]
    },
    {
     "name": "stdout",
     "output_type": "stream",
     "text": [
      "Starting experimental run with id: 9. \n"
     ]
    },
    {
     "name": "stdout",
     "output_type": "stream",
     "text": [
      "Starting experimental run with id: 10. \n",
      "Starting experimental run with id: 11. \n"
     ]
    },
    {
     "name": "stdout",
     "output_type": "stream",
     "text": [
      "Starting experimental run with id: 12. \n"
     ]
    },
    {
     "name": "stdout",
     "output_type": "stream",
     "text": [
      "Starting experimental run with id: 13. \n"
     ]
    },
    {
     "name": "stdout",
     "output_type": "stream",
     "text": [
      "Starting experimental run with id: 14. \n"
     ]
    }
   ],
   "source": [
    "sizes = [1,500,1000,2000,3000,4000,5000]\n",
    "t_numeric = []\n",
    "t_numeric_add = []\n",
    "t_array = []\n",
    "t_array_add = []\n",
    "for size in sizes:\n",
    "    tn, tna, run_id_n =  insert_data('numeric', size)\n",
    "    t_numeric.append(tn)\n",
    "    t_numeric_add.append(tna)\n",
    "\n",
    "    ta, taa, run_id_a =  insert_data('array', size)\n",
    "    t_array.append(ta)\n",
    "    t_array_add.append(taa)"
   ]
  },
  {
   "cell_type": "code",
   "execution_count": 6,
   "metadata": {
    "execution": {
     "iopub.execute_input": "2021-01-14T12:18:15.450878Z",
     "iopub.status.busy": "2021-01-14T12:18:15.450217Z",
     "iopub.status.idle": "2021-01-14T12:18:15.672662Z",
     "shell.execute_reply": "2021-01-14T12:18:15.672073Z"
    }
   },
   "outputs": [
    {
     "data": {
      "image/png": "[encoded data removed]",
      "text/plain": [
       "<Figure size 432x288 with 1 Axes>"
      ]
     },
     "metadata": {
      "needs_background": "light"
     },
     "output_type": "display_data"
    }
   ],
   "source": [
    "fig, ax = plt.subplots(1,1)\n",
    "ax.plot(sizes, t_numeric, 'o-', label='Inserting row-by-row')\n",
    "ax.plot(sizes, t_numeric_add, 'o-', label='Inserting row-by-row: add_result only')\n",
    "ax.plot(sizes, t_array, 'd-', label='Inserting as binary blob')\n",
    "ax.plot(sizes, t_array_add, 'd-', label='Inserting as binary blob: add_result only')\n",
    "ax.legend()\n",
    "ax.set_xlabel('Array length')\n",
    "ax.set_ylabel('Time (s)')\n",
    "fig.tight_layout()"
   ]
  },
  {
   "cell_type": "markdown",
   "metadata": {},
   "source": [
    "As shown in the latter figure, the time to setup and and close the experiment is approximately 0.4 sec. In case of small array sizes, the difference between inserting values of data as arrays and inserting them row-by-row is relatively unimportant. At larger array sizes, i.e. above 10000 points, the cost of writing data as individual datapoints starts to become important.\n"
   ]
  },
  {
   "cell_type": "markdown",
   "metadata": {},
   "source": [
    "### Case2: Long experiment time "
   ]
  },
  {
   "cell_type": "code",
   "execution_count": 7,
   "metadata": {
    "execution": {
     "iopub.execute_input": "2021-01-14T12:18:15.679168Z",
     "iopub.status.busy": "2021-01-14T12:18:15.678573Z",
     "iopub.status.idle": "2021-01-14T12:19:17.262406Z",
     "shell.execute_reply": "2021-01-14T12:19:17.262925Z"
    }
   },
   "outputs": [
    {
     "name": "stdout",
     "output_type": "stream",
     "text": [
      "Starting experimental run with id: 15. \n",
      "Starting experimental run with id: 16. \n",
      "Starting experimental run with id: 17. \n"
     ]
    },
    {
     "name": "stdout",
     "output_type": "stream",
     "text": [
      "Starting experimental run with id: 18. \n",
      "Starting experimental run with id: 19. \n"
     ]
    },
    {
     "name": "stdout",
     "output_type": "stream",
     "text": [
      "Starting experimental run with id: 20. \n"
     ]
    },
    {
     "name": "stdout",
     "output_type": "stream",
     "text": [
      "Starting experimental run with id: 21. \n"
     ]
    },
    {
     "name": "stdout",
     "output_type": "stream",
     "text": [
      "Starting experimental run with id: 22. \n"
     ]
    },
    {
     "name": "stdout",
     "output_type": "stream",
     "text": [
      "Starting experimental run with id: 23. \n"
     ]
    },
    {
     "name": "stdout",
     "output_type": "stream",
     "text": [
      "Starting experimental run with id: 24. \n"
     ]
    },
    {
     "name": "stdout",
     "output_type": "stream",
     "text": [
      "Starting experimental run with id: 25. \n"
     ]
    },
    {
     "name": "stdout",
     "output_type": "stream",
     "text": [
      "Starting experimental run with id: 26. \n"
     ]
    },
    {
     "name": "stdout",
     "output_type": "stream",
     "text": [
      "Starting experimental run with id: 27. \n"
     ]
    },
    {
     "name": "stdout",
     "output_type": "stream",
     "text": [
      "Starting experimental run with id: 28. \n"
     ]
    }
   ],
   "source": [
    "sizes = [1,500,1000,2000,3000,4000,5000]\n",
    "nreps = 100\n",
    "t_numeric = []\n",
    "t_numeric_add = []\n",
    "t_numeric_run_ids = []\n",
    "t_array = []\n",
    "t_array_add = []\n",
    "t_array_run_ids = []\n",
    "for size in sizes:\n",
    "    tn, tna, run_id_n =  insert_data('numeric', size, nreps=nreps)\n",
    "    t_numeric.append(tn)\n",
    "    t_numeric_add.append(tna)\n",
    "    t_numeric_run_ids.append(run_id_n)\n",
    "\n",
    "    ta, taa, run_id_a =  insert_data('array', size, nreps=nreps)\n",
    "    t_array.append(ta)\n",
    "    t_array_add.append(taa)\n",
    "    t_array_run_ids.append(run_id_a)"
   ]
  },
  {
   "cell_type": "code",
   "execution_count": 8,
   "metadata": {
    "execution": {
     "iopub.execute_input": "2021-01-14T12:19:17.291337Z",
     "iopub.status.busy": "2021-01-14T12:19:17.283764Z",
     "iopub.status.idle": "2021-01-14T12:19:17.510208Z",
     "shell.execute_reply": "2021-01-14T12:19:17.509701Z"
    },
    "scrolled": true
   },
   "outputs": [
    {
     "data": {
      "image/png": "[encoded data removed]",
      "text/plain": [
       "<Figure size 432x288 with 1 Axes>"
      ]
     },
     "metadata": {
      "needs_background": "light"
     },
     "output_type": "display_data"
    }
   ],
   "source": [
    "fig, ax = plt.subplots(1,1)\n",
    "ax.plot(sizes, t_numeric, 'o-', label='Inserting row-by-row')\n",
    "ax.plot(sizes, t_numeric_add, 'o-', label='Inserting row-by-row: add_result only')\n",
    "ax.plot(sizes, t_array, 'd-', label='Inserting as binary blob')\n",
    "ax.plot(sizes, t_array_add, 'd-', label='Inserting as binary blob: add_result only')\n",
    "ax.legend()\n",
    "ax.set_xlabel('Array length')\n",
    "ax.set_ylabel('Time (s)')\n",
    "fig.tight_layout()"
   ]
  },
  {
   "cell_type": "markdown",
   "metadata": {},
   "source": [
    "However, as we increase the length of the experiment, as seen here by repeating the insertion 100 times, we see a big difference between inserting values of the data row-by-row and inserting it as a binary blob."
   ]
  },
  {
   "cell_type": "markdown",
   "metadata": {},
   "source": [
    "## Loading the data "
   ]
  },
  {
   "cell_type": "code",
   "execution_count": 9,
   "metadata": {
    "execution": {
     "iopub.execute_input": "2021-01-14T12:19:17.515307Z",
     "iopub.status.busy": "2021-01-14T12:19:17.514014Z",
     "iopub.status.idle": "2021-01-14T12:19:17.517869Z",
     "shell.execute_reply": "2021-01-14T12:19:17.517328Z"
    }
   },
   "outputs": [],
   "source": [
    "from qcodes.dataset.data_set import load_by_id\n",
    "from qcodes.dataset.data_export import get_data_by_id"
   ]
  },
  {
   "cell_type": "markdown",
   "metadata": {},
   "source": [
    "As usual you can load the data by using the ``load_by_id`` function but you will notice that the different storage methods\n",
    "are reflected in shape of the data as it is retrieved. "
   ]
  },
  {
   "cell_type": "code",
   "execution_count": 10,
   "metadata": {
    "execution": {
     "iopub.execute_input": "2021-01-14T12:19:17.522833Z",
     "iopub.status.busy": "2021-01-14T12:19:17.521090Z",
     "iopub.status.idle": "2021-01-14T12:19:17.523462Z",
     "shell.execute_reply": "2021-01-14T12:19:17.523952Z"
    }
   },
   "outputs": [],
   "source": [
    "run_id_n = t_numeric_run_ids[0]\n",
    "run_id_a = t_array_run_ids[0]"
   ]
  },
  {
   "cell_type": "code",
   "execution_count": 11,
   "metadata": {
    "execution": {
     "iopub.execute_input": "2021-01-14T12:19:17.527341Z",
     "iopub.status.busy": "2021-01-14T12:19:17.526590Z",
     "iopub.status.idle": "2021-01-14T12:19:17.536714Z",
     "shell.execute_reply": "2021-01-14T12:19:17.537765Z"
    },
    "scrolled": true
   },
   "outputs": [
    {
     "data": {
      "text/plain": [
       "{'x1': {'x1': array([0.58690895, 0.58690895, 0.75611561, 0.75611561, 0.56768676,\n",
       "         0.56768676, 0.2424056 , 0.2424056 , 0.75644556, 0.75644556,\n",
       "         0.97454138, 0.97454138, 0.93871546, 0.93871546, 0.43818384,\n",
       "         0.43818384, 0.9607431 , 0.9607431 , 0.53608966, 0.53608966,\n",
       "         0.17952208, 0.17952208, 0.61048575, 0.61048575, 0.28013608,\n",
       "         0.28013608, 0.04129809, 0.04129809, 0.20037186, 0.20037186,\n",
       "         0.59569107, 0.59569107, 0.99236362, 0.99236362, 0.76923135,\n",
       "         0.76923135, 0.6937788 , 0.6937788 , 0.6213907 , 0.6213907 ,\n",
       "         0.22638454, 0.22638454, 0.41269148, 0.41269148, 0.37996239,\n",
       "         0.37996239, 0.44691887, 0.44691887, 0.20892754, 0.20892754,\n",
       "         0.3023374 , 0.3023374 , 0.29519124, 0.29519124, 0.23140416,\n",
       "         0.23140416, 0.33843821, 0.33843821, 0.93292041, 0.93292041,\n",
       "         0.19909232, 0.19909232, 0.71614543, 0.71614543, 0.3898162 ,\n",
       "         0.3898162 , 0.58128076, 0.58128076, 0.51893381, 0.51893381,\n",
       "         0.62979969, 0.62979969, 0.82950377, 0.82950377, 0.47006052,\n",
       "         0.47006052, 0.14249705, 0.14249705, 0.02004987, 0.02004987,\n",
       "         0.61812431, 0.61812431, 0.11589507, 0.11589507, 0.24638284,\n",
       "         0.24638284, 0.80110894, 0.80110894, 0.03507619, 0.03507619,\n",
       "         0.16708622, 0.16708622, 0.1097904 , 0.1097904 , 0.14714098,\n",
       "         0.14714098, 0.96099463, 0.96099463, 0.24804912, 0.24804912,\n",
       "         0.98245294, 0.98245294, 0.96907628, 0.96907628, 0.96660235,\n",
       "         0.96660235, 0.30679908, 0.30679908, 0.39255771, 0.39255771,\n",
       "         0.19945673, 0.19945673, 0.78039725, 0.78039725, 0.45773462,\n",
       "         0.45773462, 0.56922365, 0.56922365, 0.67190092, 0.67190092,\n",
       "         0.25268489, 0.25268489, 0.73537798, 0.73537798, 0.10047831,\n",
       "         0.10047831, 0.84153956, 0.84153956, 0.1568677 , 0.1568677 ,\n",
       "         0.31259652, 0.31259652, 0.36412512, 0.36412512, 0.50134015,\n",
       "         0.50134015, 0.31491404, 0.31491404, 0.01735311, 0.01735311,\n",
       "         0.9828777 , 0.9828777 , 0.1010092 , 0.1010092 , 0.2057408 ,\n",
       "         0.2057408 , 0.54762408, 0.54762408, 0.87503291, 0.87503291,\n",
       "         0.34351754, 0.34351754, 0.79619082, 0.79619082, 0.87405476,\n",
       "         0.87405476, 0.75507868, 0.75507868, 0.54494501, 0.54494501,\n",
       "         0.67411853, 0.67411853, 0.92037327, 0.92037327, 0.86022171,\n",
       "         0.86022171, 0.67476053, 0.67476053, 0.30960449, 0.30960449,\n",
       "         0.20468645, 0.20468645, 0.36345297, 0.36345297, 0.72519368,\n",
       "         0.72519368, 0.65512724, 0.65512724, 0.98416484, 0.98416484,\n",
       "         0.51603854, 0.51603854, 0.81012557, 0.81012557, 0.84082204,\n",
       "         0.84082204, 0.15900936, 0.15900936, 0.24297808, 0.24297808,\n",
       "         0.22310998, 0.22310998, 0.28039395, 0.28039395, 0.60741641,\n",
       "         0.60741641, 0.94447799, 0.94447799, 0.41206197, 0.41206197])}}"
      ]
     },
     "execution_count": 1,
     "metadata": {},
     "output_type": "execute_result"
    }
   ],
   "source": [
    "ds = load_by_id(run_id_n)\n",
    "ds.get_parameter_data('x1')"
   ]
  },
  {
   "cell_type": "markdown",
   "metadata": {},
   "source": [
    "And a dataset stored as binary arrays"
   ]
  },
  {
   "cell_type": "code",
   "execution_count": 12,
   "metadata": {
    "execution": {
     "iopub.execute_input": "2021-01-14T12:19:17.541249Z",
     "iopub.status.busy": "2021-01-14T12:19:17.540721Z",
     "iopub.status.idle": "2021-01-14T12:19:17.606293Z",
     "shell.execute_reply": "2021-01-14T12:19:17.607224Z"
    },
    "scrolled": true
   },
   "outputs": [
    {
     "data": {
      "text/plain": [
       "{'x1': {'x1': array([[0.29812385],\n",
       "         [0.29812385],\n",
       "         [0.06781696],\n",
       "         [0.06781696],\n",
       "         [0.47123403],\n",
       "         [0.47123403],\n",
       "         [0.22803158],\n",
       "         [0.22803158],\n",
       "         [0.90851146],\n",
       "         [0.90851146],\n",
       "         [0.84643768],\n",
       "         [0.84643768],\n",
       "         [0.32847242],\n",
       "         [0.32847242],\n",
       "         [0.38943662],\n",
       "         [0.38943662],\n",
       "         [0.20799108],\n",
       "         [0.20799108],\n",
       "         [0.68885372],\n",
       "         [0.68885372],\n",
       "         [0.86201797],\n",
       "         [0.86201797],\n",
       "         [0.28835765],\n",
       "         [0.28835765],\n",
       "         [0.55704327],\n",
       "         [0.55704327],\n",
       "         [0.92661607],\n",
       "         [0.92661607],\n",
       "         [0.85581286],\n",
       "         [0.85581286],\n",
       "         [0.69343231],\n",
       "         [0.69343231],\n",
       "         [0.28941917],\n",
       "         [0.28941917],\n",
       "         [0.99003174],\n",
       "         [0.99003174],\n",
       "         [0.12344569],\n",
       "         [0.12344569],\n",
       "         [0.83694637],\n",
       "         [0.83694637],\n",
       "         [0.26610018],\n",
       "         [0.26610018],\n",
       "         [0.68132506],\n",
       "         [0.68132506],\n",
       "         [0.17321614],\n",
       "         [0.17321614],\n",
       "         [0.9402743 ],\n",
       "         [0.9402743 ],\n",
       "         [0.22241147],\n",
       "         [0.22241147],\n",
       "         [0.46667018],\n",
       "         [0.46667018],\n",
       "         [0.68331948],\n",
       "         [0.68331948],\n",
       "         [0.76040673],\n",
       "         [0.76040673],\n",
       "         [0.73870934],\n",
       "         [0.73870934],\n",
       "         [0.58081903],\n",
       "         [0.58081903],\n",
       "         [0.7575941 ],\n",
       "         [0.7575941 ],\n",
       "         [0.31779667],\n",
       "         [0.31779667],\n",
       "         [0.62415478],\n",
       "         [0.62415478],\n",
       "         [0.7662047 ],\n",
       "         [0.7662047 ],\n",
       "         [0.40360152],\n",
       "         [0.40360152],\n",
       "         [0.32194118],\n",
       "         [0.32194118],\n",
       "         [0.43078782],\n",
       "         [0.43078782],\n",
       "         [0.02979233],\n",
       "         [0.02979233],\n",
       "         [0.23817817],\n",
       "         [0.23817817],\n",
       "         [0.27013933],\n",
       "         [0.27013933],\n",
       "         [0.71483406],\n",
       "         [0.71483406],\n",
       "         [0.38072943],\n",
       "         [0.38072943],\n",
       "         [0.35542566],\n",
       "         [0.35542566],\n",
       "         [0.20940089],\n",
       "         [0.20940089],\n",
       "         [0.02128287],\n",
       "         [0.02128287],\n",
       "         [0.94282222],\n",
       "         [0.94282222],\n",
       "         [0.0618299 ],\n",
       "         [0.0618299 ],\n",
       "         [0.658127  ],\n",
       "         [0.658127  ],\n",
       "         [0.91901012],\n",
       "         [0.91901012],\n",
       "         [0.99686576],\n",
       "         [0.99686576],\n",
       "         [0.90683886],\n",
       "         [0.90683886],\n",
       "         [0.50627834],\n",
       "         [0.50627834],\n",
       "         [0.59900105],\n",
       "         [0.59900105],\n",
       "         [0.49774384],\n",
       "         [0.49774384],\n",
       "         [0.99245829],\n",
       "         [0.99245829],\n",
       "         [0.87646064],\n",
       "         [0.87646064],\n",
       "         [0.4051867 ],\n",
       "         [0.4051867 ],\n",
       "         [0.87425804],\n",
       "         [0.87425804],\n",
       "         [0.71136634],\n",
       "         [0.71136634],\n",
       "         [0.49860262],\n",
       "         [0.49860262],\n",
       "         [0.61188822],\n",
       "         [0.61188822],\n",
       "         [0.35770732],\n",
       "         [0.35770732],\n",
       "         [0.56833724],\n",
       "         [0.56833724],\n",
       "         [0.64235089],\n",
       "         [0.64235089],\n",
       "         [0.57010715],\n",
       "         [0.57010715],\n",
       "         [0.39617998],\n",
       "         [0.39617998],\n",
       "         [0.54785104],\n",
       "         [0.54785104],\n",
       "         [0.3355668 ],\n",
       "         [0.3355668 ],\n",
       "         [0.72046198],\n",
       "         [0.72046198],\n",
       "         [0.42528433],\n",
       "         [0.42528433],\n",
       "         [0.84405429],\n",
       "         [0.84405429],\n",
       "         [0.86429194],\n",
       "         [0.86429194],\n",
       "         [0.89413171],\n",
       "         [0.89413171],\n",
       "         [0.13532118],\n",
       "         [0.13532118],\n",
       "         [0.20918648],\n",
       "         [0.20918648],\n",
       "         [0.54950129],\n",
       "         [0.54950129],\n",
       "         [0.34593608],\n",
       "         [0.34593608],\n",
       "         [0.33820446],\n",
       "         [0.33820446],\n",
       "         [0.65310071],\n",
       "         [0.65310071],\n",
       "         [0.39671826],\n",
       "         [0.39671826],\n",
       "         [0.48727362],\n",
       "         [0.48727362],\n",
       "         [0.67215813],\n",
       "         [0.67215813],\n",
       "         [0.73886786],\n",
       "         [0.73886786],\n",
       "         [0.5361641 ],\n",
       "         [0.5361641 ],\n",
       "         [0.0299917 ],\n",
       "         [0.0299917 ],\n",
       "         [0.85043015],\n",
       "         [0.85043015],\n",
       "         [0.99148044],\n",
       "         [0.99148044],\n",
       "         [0.30874277],\n",
       "         [0.30874277],\n",
       "         [0.0166428 ],\n",
       "         [0.0166428 ],\n",
       "         [0.65670951],\n",
       "         [0.65670951],\n",
       "         [0.24445476],\n",
       "         [0.24445476],\n",
       "         [0.79120736],\n",
       "         [0.79120736],\n",
       "         [0.10793219],\n",
       "         [0.10793219],\n",
       "         [0.92428056],\n",
       "         [0.92428056],\n",
       "         [0.68475061],\n",
       "         [0.68475061],\n",
       "         [0.5867607 ],\n",
       "         [0.5867607 ],\n",
       "         [0.37074407],\n",
       "         [0.37074407],\n",
       "         [0.05515337],\n",
       "         [0.05515337],\n",
       "         [0.1852945 ],\n",
       "         [0.1852945 ],\n",
       "         [0.27240532],\n",
       "         [0.27240532]])}}"
      ]
     },
     "execution_count": 1,
     "metadata": {},
     "output_type": "execute_result"
    }
   ],
   "source": [
    "ds = load_by_id(run_id_a)\n",
    "ds.get_parameter_data('x1')"
   ]
  },
  {
   "cell_type": "code",
   "execution_count": null,
   "metadata": {},
   "outputs": [],
   "source": []
  }
 ],
 "metadata": {
  "kernelspec": {
   "display_name": "Python 3",
   "language": "python",
   "name": "python3"
  },
  "language_info": {
   "codemirror_mode": {
    "name": "ipython",
    "version": 3
   },
   "file_extension": ".py",
   "mimetype": "text/x-python",
   "name": "python",
   "nbconvert_exporter": "python",
   "pygments_lexer": "ipython3",
   "version": "3.7.9"
  },
  "nbsphinx": {
   "timeout": 600
  },
  "toc": {
   "base_numbering": 1,
   "nav_menu": {},
   "number_sections": true,
   "sideBar": true,
   "skip_h1_title": false,
   "title_cell": "Table of Contents",
   "title_sidebar": "Contents",
   "toc_cell": false,
   "toc_position": {},
   "toc_section_display": true,
   "toc_window_display": false
  },
  "varInspector": {
   "cols": {
    "lenName": 16,
    "lenType": 16,
    "lenVar": 40
   },
   "kernels_config": {
    "python": {
     "delete_cmd_postfix": "",
     "delete_cmd_prefix": "del ",
     "library": "var_list.py",
     "varRefreshCmd": "print(var_dic_list())"
    },
    "r": {
     "delete_cmd_postfix": ") ",
     "delete_cmd_prefix": "rm(",
     "library": "var_list.r",
     "varRefreshCmd": "cat(var_dic_list()) "
    }
   },
   "types_to_exclude": [
    "module",
    "function",
    "builtin_function_or_method",
    "instance",
    "_Feature"
   ],
   "window_display": false
  }
 },
 "nbformat": 4,
 "nbformat_minor": 2
}
