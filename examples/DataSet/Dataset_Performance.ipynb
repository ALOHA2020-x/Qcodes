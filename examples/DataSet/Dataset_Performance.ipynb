{
 "cells": [
  {
   "cell_type": "markdown",
   "metadata": {},
   "source": [
    "# DataSet Performance\n",
    "\n",
    "This notebook shows the trade-off between inserting data into a database row-by-row and as binary blobs. Inserting the data row-by-row means that we have direct access to all the data and may perform queries directly on the values of the data. On the other hand, as we shall see, this is much slower than inserting the data directly as binary blobs."
   ]
  },
  {
   "cell_type": "markdown",
   "metadata": {},
   "source": [
    "First, we choose a new location for the database to ensure that we don't add a bunch of benchmarking data to the default one."
   ]
  },
  {
   "cell_type": "code",
   "execution_count": 1,
   "metadata": {},
   "outputs": [
    {
     "name": "stdout",
     "output_type": "stream",
     "text": [
      "Logging hadn't been started.\n",
      "Activating auto-logging. Current session state plus future input saved.\n",
      "Filename       : /home/vsts/.qcodes/logs/command_history.log\n",
      "Mode           : append\n",
      "Output logging : True\n",
      "Raw input log  : False\n",
      "Timestamping   : True\n",
      "State          : active\n"
     ]
    },
    {
     "name": "stdout",
     "output_type": "stream",
     "text": [
      "Qcodes Logfile : /home/vsts/.qcodes/logs/200316-20958-qcodes.log\n"
     ]
    }
   ],
   "source": [
    "import os\n",
    "cwd = os.getcwd()\n",
    "import qcodes as qc\n",
    "qc.config[\"core\"][\"db_location\"] = os.path.join(cwd, 'testing.db')\n"
   ]
  },
  {
   "cell_type": "code",
   "execution_count": 2,
   "metadata": {},
   "outputs": [],
   "source": [
    "%matplotlib inline\n",
    "import time\n",
    "import matplotlib.pyplot as plt\n",
    "import numpy as np\n",
    "\n",
    "import qcodes as qc\n",
    "from qcodes.instrument.parameter import ManualParameter\n",
    "from qcodes.dataset.experiment_container import (Experiment,\n",
    "                                                 load_last_experiment,\n",
    "                                                 new_experiment)\n",
    "from qcodes.dataset.sqlite.database import initialise_database\n",
    "from qcodes import load_or_create_experiment\n",
    "from qcodes.dataset.measurements import Measurement"
   ]
  },
  {
   "cell_type": "code",
   "execution_count": 3,
   "metadata": {},
   "outputs": [
    {
     "name": "stdout",
     "output_type": "stream",
     "text": [
      "\r",
      "0it [00:00, ?it/s]"
     ]
    },
    {
     "name": "stdout",
     "output_type": "stream",
     "text": [
      "\r",
      "Upgrading database; v0 -> v1: : 0it [00:00, ?it/s]"
     ]
    },
    {
     "name": "stdout",
     "output_type": "stream",
     "text": [
      "\r",
      "Upgrading database; v0 -> v1: : 0it [00:00, ?it/s]"
     ]
    },
    {
     "name": "stdout",
     "output_type": "stream",
     "text": [
      "\n",
      "\r",
      "  0%|          | 0/1 [00:00<?, ?it/s]"
     ]
    },
    {
     "name": "stdout",
     "output_type": "stream",
     "text": [
      "\r",
      "Upgrading database; v1 -> v2:   0%|          | 0/1 [00:00<?, ?it/s]"
     ]
    },
    {
     "name": "stdout",
     "output_type": "stream",
     "text": [
      "\r",
      "Upgrading database; v1 -> v2: 100%|██████████| 1/1 [00:00<00:00, 695.57it/s]"
     ]
    },
    {
     "name": "stdout",
     "output_type": "stream",
     "text": [
      "\n",
      "\r",
      "0it [00:00, ?it/s]"
     ]
    },
    {
     "name": "stdout",
     "output_type": "stream",
     "text": [
      "\r",
      "Upgrading database; v2 -> v3: : 0it [00:00, ?it/s]"
     ]
    },
    {
     "name": "stdout",
     "output_type": "stream",
     "text": [
      "\r",
      "Upgrading database; v2 -> v3: : 0it [00:00, ?it/s]"
     ]
    },
    {
     "name": "stdout",
     "output_type": "stream",
     "text": [
      "\n",
      "\r",
      "0it [00:00, ?it/s]"
     ]
    },
    {
     "name": "stdout",
     "output_type": "stream",
     "text": [
      "\r",
      "Upgrading database; v3 -> v4: : 0it [00:00, ?it/s]"
     ]
    },
    {
     "name": "stdout",
     "output_type": "stream",
     "text": [
      "\r",
      "Upgrading database; v3 -> v4: : 0it [00:00, ?it/s]"
     ]
    },
    {
     "name": "stdout",
     "output_type": "stream",
     "text": [
      "\n",
      "\r",
      "  0%|          | 0/1 [00:00<?, ?it/s]"
     ]
    },
    {
     "name": "stdout",
     "output_type": "stream",
     "text": [
      "\r",
      "Upgrading database; v4 -> v5:   0%|          | 0/1 [00:00<?, ?it/s]"
     ]
    },
    {
     "name": "stdout",
     "output_type": "stream",
     "text": [
      "\r",
      "Upgrading database; v4 -> v5: 100%|██████████| 1/1 [00:00<00:00, 742.22it/s]"
     ]
    },
    {
     "name": "stdout",
     "output_type": "stream",
     "text": [
      "\n",
      "\r",
      "0it [00:00, ?it/s]"
     ]
    },
    {
     "name": "stdout",
     "output_type": "stream",
     "text": [
      "\r",
      "Upgrading database; v5 -> v6: : 0it [00:00, ?it/s]"
     ]
    },
    {
     "name": "stdout",
     "output_type": "stream",
     "text": [
      "\r",
      "Upgrading database; v5 -> v6: : 0it [00:00, ?it/s]"
     ]
    },
    {
     "name": "stdout",
     "output_type": "stream",
     "text": [
      "\n",
      "\r",
      "  0%|          | 0/1 [00:00<?, ?it/s]"
     ]
    },
    {
     "name": "stdout",
     "output_type": "stream",
     "text": [
      "\r",
      "Upgrading database; v6 -> v7:   0%|          | 0/1 [00:00<?, ?it/s]"
     ]
    },
    {
     "name": "stdout",
     "output_type": "stream",
     "text": [
      "\r",
      "Upgrading database; v6 -> v7: 100%|██████████| 1/1 [00:00<00:00, 358.33it/s]"
     ]
    },
    {
     "name": "stdout",
     "output_type": "stream",
     "text": [
      "\n",
      "\r",
      "  0%|          | 0/1 [00:00<?, ?it/s]"
     ]
    },
    {
     "name": "stdout",
     "output_type": "stream",
     "text": [
      "\r",
      "Upgrading database; v7 -> v8:   0%|          | 0/1 [00:00<?, ?it/s]"
     ]
    },
    {
     "name": "stdout",
     "output_type": "stream",
     "text": [
      "\r",
      "Upgrading database; v7 -> v8: 100%|██████████| 1/1 [00:00<00:00, 693.16it/s]"
     ]
    },
    {
     "name": "stdout",
     "output_type": "stream",
     "text": [
      "\n",
      "\r",
      "  0%|          | 0/1 [00:00<?, ?it/s]"
     ]
    },
    {
     "name": "stdout",
     "output_type": "stream",
     "text": [
      "\r",
      "Upgrading database; v8 -> v9:   0%|          | 0/1 [00:00<?, ?it/s]"
     ]
    },
    {
     "name": "stdout",
     "output_type": "stream",
     "text": [
      "\r",
      "Upgrading database; v8 -> v9: 100%|██████████| 1/1 [00:00<00:00, 1061.31it/s]"
     ]
    },
    {
     "name": "stdout",
     "output_type": "stream",
     "text": [
      "\n"
     ]
    }
   ],
   "source": [
    "initialise_database()\n",
    "exp = load_or_create_experiment(experiment_name='tutorial_exp', sample_name=\"no sample\")"
   ]
  },
  {
   "cell_type": "markdown",
   "metadata": {},
   "source": [
    "Here, we define a simple function to benchmark the time it takes to insert n points with either numeric or array data type.\n",
    "We will compare both the time used to call ``add_result`` and the time used for the full measurement."
   ]
  },
  {
   "cell_type": "code",
   "execution_count": 4,
   "metadata": {},
   "outputs": [],
   "source": [
    "def insert_data(paramtype, npoints, nreps=1):\n",
    "\n",
    "    meas = Measurement(exp=exp)\n",
    "\n",
    "    x1 = ManualParameter('x1')\n",
    "    x2 = ManualParameter('x2')\n",
    "    x3 = ManualParameter('x3')\n",
    "    y1 = ManualParameter('y1')\n",
    "    y2 = ManualParameter('y2')\n",
    "\n",
    "    meas.register_parameter(x1, paramtype=paramtype)\n",
    "    meas.register_parameter(x2, paramtype=paramtype)\n",
    "    meas.register_parameter(x3, paramtype=paramtype)\n",
    "    meas.register_parameter(y1, setpoints=[x1, x2, x3],\n",
    "                            paramtype=paramtype)\n",
    "    meas.register_parameter(y2, setpoints=[x1, x2, x3],\n",
    "                            paramtype=paramtype)\n",
    "    start = time.perf_counter()\n",
    "    with meas.run() as datasaver:\n",
    "        start_adding = time.perf_counter()\n",
    "        for i in range(nreps):\n",
    "            datasaver.add_result((x1, np.random.rand(npoints)),\n",
    "                                 (x2, np.random.rand(npoints)),\n",
    "                                 (x3, np.random.rand(npoints)),\n",
    "                                 (y1, np.random.rand(npoints)),\n",
    "                                 (y2, np.random.rand(npoints)))\n",
    "        stop_adding = time.perf_counter()\n",
    "        run_id = datasaver.run_id\n",
    "    stop = time.perf_counter()\n",
    "    tot_time = stop - start\n",
    "    add_time = stop_adding - start_adding\n",
    "    return tot_time, add_time, run_id"
   ]
  },
  {
   "cell_type": "markdown",
   "metadata": {},
   "source": [
    "## Comparison between numeric/array data and binary blob"
   ]
  },
  {
   "cell_type": "markdown",
   "metadata": {},
   "source": [
    "### Case1: Short experiment time"
   ]
  },
  {
   "cell_type": "code",
   "execution_count": 5,
   "metadata": {},
   "outputs": [
    {
     "name": "stdout",
     "output_type": "stream",
     "text": [
      "Starting experimental run with id: 1. \n",
      "Starting experimental run with id: 2. \n",
      "Starting experimental run with id: 3. \n",
      "Starting experimental run with id: 4. \n"
     ]
    },
    {
     "name": "stdout",
     "output_type": "stream",
     "text": [
      "Starting experimental run with id: 5. "
     ]
    },
    {
     "name": "stdout",
     "output_type": "stream",
     "text": [
      "\n"
     ]
    },
    {
     "name": "stdout",
     "output_type": "stream",
     "text": [
      "Starting experimental run with id: 6. \n",
      "Starting experimental run with id: 7. \n"
     ]
    },
    {
     "name": "stdout",
     "output_type": "stream",
     "text": [
      "Starting experimental run with id: 8. \n"
     ]
    },
    {
     "name": "stdout",
     "output_type": "stream",
     "text": [
      "Starting experimental run with id: 9. \n"
     ]
    },
    {
     "name": "stdout",
     "output_type": "stream",
     "text": [
      "Starting experimental run with id: 10. \n",
      "Starting experimental run with id: 11. \n"
     ]
    },
    {
     "name": "stdout",
     "output_type": "stream",
     "text": [
      "Starting experimental run with id: 12. \n",
      "Starting experimental run with id: 13. \n"
     ]
    },
    {
     "name": "stdout",
     "output_type": "stream",
     "text": [
      "Starting experimental run with id: 14. \n"
     ]
    }
   ],
   "source": [
    "sizes = [1,500,1000,2000,3000,4000,5000]\n",
    "t_numeric = []\n",
    "t_numeric_add = []\n",
    "t_array = []\n",
    "t_array_add = []\n",
    "for size in sizes:\n",
    "    tn, tna, run_id_n =  insert_data('numeric', size)\n",
    "    t_numeric.append(tn)\n",
    "    t_numeric_add.append(tna)\n",
    "\n",
    "    ta, taa, run_id_a =  insert_data('array', size)\n",
    "    t_array.append(ta)\n",
    "    t_array_add.append(taa)"
   ]
  },
  {
   "cell_type": "code",
   "execution_count": 6,
   "metadata": {},
   "outputs": [
    {
     "data": {
      "image/png": "[encoded data removed]",
      "text/plain": [
       "<Figure size 432x288 with 1 Axes>"
      ]
     },
     "metadata": {
      "needs_background": "light"
     },
     "output_type": "display_data"
    }
   ],
   "source": [
    "fig, ax = plt.subplots(1,1)\n",
    "ax.plot(sizes, t_numeric, 'o-', label='Inserting row-by-row')\n",
    "ax.plot(sizes, t_numeric_add, 'o-', label='Inserting row-by-row: add_result only')\n",
    "ax.plot(sizes, t_array, 'd-', label='Inserting as binary blob')\n",
    "ax.plot(sizes, t_array_add, 'd-', label='Inserting as binary blob: add_result only')\n",
    "ax.legend()\n",
    "ax.set_xlabel('Array length')\n",
    "ax.set_ylabel('Time (s)')\n",
    "fig.tight_layout()"
   ]
  },
  {
   "cell_type": "markdown",
   "metadata": {},
   "source": [
    "As shown in the latter figure, the time to setup and and close the experiment is approximately 0.4 sec. In case of small array sizes, the difference between inserting values of data as arrays and inserting them row-by-row is relatively unimportant. At larger array sizes, i.e. above 10000 points, the cost of writing data as individual datapoints starts to become important.\n"
   ]
  },
  {
   "cell_type": "markdown",
   "metadata": {},
   "source": [
    "### Case2: Long experiment time "
   ]
  },
  {
   "cell_type": "code",
   "execution_count": 7,
   "metadata": {},
   "outputs": [
    {
     "name": "stdout",
     "output_type": "stream",
     "text": [
      "Starting experimental run with id: 15. \n",
      "Starting experimental run with id: 16. \n",
      "Starting experimental run with id: 17. \n"
     ]
    },
    {
     "name": "stdout",
     "output_type": "stream",
     "text": [
      "Starting experimental run with id: 18. \n",
      "Starting experimental run with id: 19. \n"
     ]
    },
    {
     "name": "stdout",
     "output_type": "stream",
     "text": [
      "Starting experimental run with id: 20. \n"
     ]
    },
    {
     "name": "stdout",
     "output_type": "stream",
     "text": [
      "Starting experimental run with id: 21. \n"
     ]
    },
    {
     "name": "stdout",
     "output_type": "stream",
     "text": [
      "Starting experimental run with id: 22. \n"
     ]
    },
    {
     "name": "stdout",
     "output_type": "stream",
     "text": [
      "Starting experimental run with id: 23. \n"
     ]
    },
    {
     "name": "stdout",
     "output_type": "stream",
     "text": [
      "Starting experimental run with id: 24. \n"
     ]
    },
    {
     "name": "stdout",
     "output_type": "stream",
     "text": [
      "Starting experimental run with id: 25. \n"
     ]
    },
    {
     "name": "stdout",
     "output_type": "stream",
     "text": [
      "Starting experimental run with id: 26. \n"
     ]
    },
    {
     "name": "stdout",
     "output_type": "stream",
     "text": [
      "Starting experimental run with id: 27. \n"
     ]
    },
    {
     "name": "stdout",
     "output_type": "stream",
     "text": [
      "Starting experimental run with id: 28. \n"
     ]
    }
   ],
   "source": [
    "sizes = [1,500,1000,2000,3000,4000,5000]\n",
    "nreps = 100\n",
    "t_numeric = []\n",
    "t_numeric_add = []\n",
    "t_numeric_run_ids = []\n",
    "t_array = []\n",
    "t_array_add = []\n",
    "t_array_run_ids = []\n",
    "for size in sizes:\n",
    "    tn, tna, run_id_n =  insert_data('numeric', size, nreps=nreps)\n",
    "    t_numeric.append(tn)\n",
    "    t_numeric_add.append(tna)\n",
    "    t_numeric_run_ids.append(run_id_n)\n",
    "\n",
    "    ta, taa, run_id_a =  insert_data('array', size, nreps=nreps)\n",
    "    t_array.append(ta)\n",
    "    t_array_add.append(taa)\n",
    "    t_array_run_ids.append(run_id_a)"
   ]
  },
  {
   "cell_type": "code",
   "execution_count": 8,
   "metadata": {
    "scrolled": true
   },
   "outputs": [
    {
     "data": {
      "image/png": "[encoded data removed]",
      "text/plain": [
       "<Figure size 432x288 with 1 Axes>"
      ]
     },
     "metadata": {
      "needs_background": "light"
     },
     "output_type": "display_data"
    }
   ],
   "source": [
    "fig, ax = plt.subplots(1,1)\n",
    "ax.plot(sizes, t_numeric, 'o-', label='Inserting row-by-row')\n",
    "ax.plot(sizes, t_numeric_add, 'o-', label='Inserting row-by-row: add_result only')\n",
    "ax.plot(sizes, t_array, 'd-', label='Inserting as binary blob')\n",
    "ax.plot(sizes, t_array_add, 'd-', label='Inserting as binary blob: add_result only')\n",
    "ax.legend()\n",
    "ax.set_xlabel('Array length')\n",
    "ax.set_ylabel('Time (s)')\n",
    "fig.tight_layout()"
   ]
  },
  {
   "cell_type": "markdown",
   "metadata": {},
   "source": [
    "However, as we increase the length of the experiment, as seen here by repeating the insertion 100 times, we see a big difference between inserting values of the data row-by-row and inserting it as a binary blob."
   ]
  },
  {
   "cell_type": "markdown",
   "metadata": {},
   "source": [
    "## Loading the data "
   ]
  },
  {
   "cell_type": "code",
   "execution_count": 9,
   "metadata": {},
   "outputs": [],
   "source": [
    "from qcodes.dataset.data_set import load_by_id\n",
    "from qcodes.dataset.data_export import get_data_by_id"
   ]
  },
  {
   "cell_type": "markdown",
   "metadata": {},
   "source": [
    "As usual you can load the data by using the ``load_by_id`` function but you will notice that the different storage methods\n",
    "are reflected in shape of the data as it is retrieved. "
   ]
  },
  {
   "cell_type": "code",
   "execution_count": 10,
   "metadata": {},
   "outputs": [],
   "source": [
    "run_id_n = t_numeric_run_ids[0]\n",
    "run_id_a = t_array_run_ids[0]"
   ]
  },
  {
   "cell_type": "code",
   "execution_count": 11,
   "metadata": {
    "scrolled": true
   },
   "outputs": [
    {
     "data": {
      "text/plain": [
       "{'x1': {'x1': array([0.99856609, 0.99856609, 0.28262234, 0.28262234, 0.10055076,\n",
       "         0.10055076, 0.76080254, 0.76080254, 0.76690978, 0.76690978,\n",
       "         0.78307973, 0.78307973, 0.60332002, 0.60332002, 0.51727051,\n",
       "         0.51727051, 0.0012286 , 0.0012286 , 0.20056537, 0.20056537,\n",
       "         0.59725375, 0.59725375, 0.49622606, 0.49622606, 0.87906903,\n",
       "         0.87906903, 0.62901614, 0.62901614, 0.38939402, 0.38939402,\n",
       "         0.49730049, 0.49730049, 0.38113609, 0.38113609, 0.61396376,\n",
       "         0.61396376, 0.93663467, 0.93663467, 0.22182436, 0.22182436,\n",
       "         0.72820795, 0.72820795, 0.77081481, 0.77081481, 0.9964723 ,\n",
       "         0.9964723 , 0.51062575, 0.51062575, 0.03723741, 0.03723741,\n",
       "         0.40255577, 0.40255577, 0.3227444 , 0.3227444 , 0.4999109 ,\n",
       "         0.4999109 , 0.85824719, 0.85824719, 0.90981663, 0.90981663,\n",
       "         0.89051227, 0.89051227, 0.46250833, 0.46250833, 0.58008019,\n",
       "         0.58008019, 0.58970763, 0.58970763, 0.78868342, 0.78868342,\n",
       "         0.61149615, 0.61149615, 0.26022256, 0.26022256, 0.84711151,\n",
       "         0.84711151, 0.74375158, 0.74375158, 0.53185787, 0.53185787,\n",
       "         0.15404386, 0.15404386, 0.0011877 , 0.0011877 , 0.01420029,\n",
       "         0.01420029, 0.83845393, 0.83845393, 0.61093249, 0.61093249,\n",
       "         0.27133   , 0.27133   , 0.84945334, 0.84945334, 0.28545621,\n",
       "         0.28545621, 0.20615933, 0.20615933, 0.16496125, 0.16496125,\n",
       "         0.4027207 , 0.4027207 , 0.45194458, 0.45194458, 0.65171053,\n",
       "         0.65171053, 0.80743641, 0.80743641, 0.72958383, 0.72958383,\n",
       "         0.72639655, 0.72639655, 0.51343877, 0.51343877, 0.46708125,\n",
       "         0.46708125, 0.06591504, 0.06591504, 0.63538355, 0.63538355,\n",
       "         0.70826194, 0.70826194, 0.03436681, 0.03436681, 0.28296806,\n",
       "         0.28296806, 0.32480009, 0.32480009, 0.81832027, 0.81832027,\n",
       "         0.39013276, 0.39013276, 0.17082253, 0.17082253, 0.26473643,\n",
       "         0.26473643, 0.72219949, 0.72219949, 0.5891451 , 0.5891451 ,\n",
       "         0.81824017, 0.81824017, 0.97480454, 0.97480454, 0.23396685,\n",
       "         0.23396685, 0.9538329 , 0.9538329 , 0.45212724, 0.45212724,\n",
       "         0.2978483 , 0.2978483 , 0.16647221, 0.16647221, 0.70177873,\n",
       "         0.70177873, 0.41262725, 0.41262725, 0.25647212, 0.25647212,\n",
       "         0.36392818, 0.36392818, 0.59534787, 0.59534787, 0.51728227,\n",
       "         0.51728227, 0.27008979, 0.27008979, 0.83055661, 0.83055661,\n",
       "         0.90491483, 0.90491483, 0.03398181, 0.03398181, 0.44885109,\n",
       "         0.44885109, 0.66460992, 0.66460992, 0.93772335, 0.93772335,\n",
       "         0.44629231, 0.44629231, 0.38659756, 0.38659756, 0.2193465 ,\n",
       "         0.2193465 , 0.66399065, 0.66399065, 0.18866895, 0.18866895,\n",
       "         0.03095353, 0.03095353, 0.98143863, 0.98143863, 0.06858335,\n",
       "         0.06858335, 0.39826608, 0.39826608, 0.70823039, 0.70823039])}}"
      ]
     },
     "execution_count": 11,
     "metadata": {},
     "output_type": "execute_result"
    }
   ],
   "source": [
    "ds = load_by_id(run_id_n)\n",
    "ds.get_parameter_data('x1')"
   ]
  },
  {
   "cell_type": "markdown",
   "metadata": {},
   "source": [
    "And a dataset stored as binary arrays"
   ]
  },
  {
   "cell_type": "code",
   "execution_count": 12,
   "metadata": {
    "scrolled": true
   },
   "outputs": [
    {
     "data": {
      "text/plain": [
       "{'x1': {'x1': array([[0.0446687 ],\n",
       "         [0.0446687 ],\n",
       "         [0.63929182],\n",
       "         [0.63929182],\n",
       "         [0.00809794],\n",
       "         [0.00809794],\n",
       "         [0.04726907],\n",
       "         [0.04726907],\n",
       "         [0.65282222],\n",
       "         [0.65282222],\n",
       "         [0.4680471 ],\n",
       "         [0.4680471 ],\n",
       "         [0.0713117 ],\n",
       "         [0.0713117 ],\n",
       "         [0.06005995],\n",
       "         [0.06005995],\n",
       "         [0.78421137],\n",
       "         [0.78421137],\n",
       "         [0.70223826],\n",
       "         [0.70223826],\n",
       "         [0.02807901],\n",
       "         [0.02807901],\n",
       "         [0.3437499 ],\n",
       "         [0.3437499 ],\n",
       "         [0.05259541],\n",
       "         [0.05259541],\n",
       "         [0.43290035],\n",
       "         [0.43290035],\n",
       "         [0.31020664],\n",
       "         [0.31020664],\n",
       "         [0.17323663],\n",
       "         [0.17323663],\n",
       "         [0.5234188 ],\n",
       "         [0.5234188 ],\n",
       "         [0.82689986],\n",
       "         [0.82689986],\n",
       "         [0.19947363],\n",
       "         [0.19947363],\n",
       "         [0.80424308],\n",
       "         [0.80424308],\n",
       "         [0.24075932],\n",
       "         [0.24075932],\n",
       "         [0.94842882],\n",
       "         [0.94842882],\n",
       "         [0.20000295],\n",
       "         [0.20000295],\n",
       "         [0.21935416],\n",
       "         [0.21935416],\n",
       "         [0.01582567],\n",
       "         [0.01582567],\n",
       "         [0.0601401 ],\n",
       "         [0.0601401 ],\n",
       "         [0.56879185],\n",
       "         [0.56879185],\n",
       "         [0.28926099],\n",
       "         [0.28926099],\n",
       "         [0.76176454],\n",
       "         [0.76176454],\n",
       "         [0.19350568],\n",
       "         [0.19350568],\n",
       "         [0.01970456],\n",
       "         [0.01970456],\n",
       "         [0.01226636],\n",
       "         [0.01226636],\n",
       "         [0.81902301],\n",
       "         [0.81902301],\n",
       "         [0.8846886 ],\n",
       "         [0.8846886 ],\n",
       "         [0.80430686],\n",
       "         [0.80430686],\n",
       "         [0.56437105],\n",
       "         [0.56437105],\n",
       "         [0.84878018],\n",
       "         [0.84878018],\n",
       "         [0.8377635 ],\n",
       "         [0.8377635 ],\n",
       "         [0.26633382],\n",
       "         [0.26633382],\n",
       "         [0.94287689],\n",
       "         [0.94287689],\n",
       "         [0.45125529],\n",
       "         [0.45125529],\n",
       "         [0.25240596],\n",
       "         [0.25240596],\n",
       "         [0.59302351],\n",
       "         [0.59302351],\n",
       "         [0.52055442],\n",
       "         [0.52055442],\n",
       "         [0.18660999],\n",
       "         [0.18660999],\n",
       "         [0.1895185 ],\n",
       "         [0.1895185 ],\n",
       "         [0.84046218],\n",
       "         [0.84046218],\n",
       "         [0.76737085],\n",
       "         [0.76737085],\n",
       "         [0.96437724],\n",
       "         [0.96437724],\n",
       "         [0.62475804],\n",
       "         [0.62475804],\n",
       "         [0.81821422],\n",
       "         [0.81821422],\n",
       "         [0.68838659],\n",
       "         [0.68838659],\n",
       "         [0.40590225],\n",
       "         [0.40590225],\n",
       "         [0.31309192],\n",
       "         [0.31309192],\n",
       "         [0.87418554],\n",
       "         [0.87418554],\n",
       "         [0.60257366],\n",
       "         [0.60257366],\n",
       "         [0.75194116],\n",
       "         [0.75194116],\n",
       "         [0.07494007],\n",
       "         [0.07494007],\n",
       "         [0.14000947],\n",
       "         [0.14000947],\n",
       "         [0.8960575 ],\n",
       "         [0.8960575 ],\n",
       "         [0.79967515],\n",
       "         [0.79967515],\n",
       "         [0.22188417],\n",
       "         [0.22188417],\n",
       "         [0.08198181],\n",
       "         [0.08198181],\n",
       "         [0.0395838 ],\n",
       "         [0.0395838 ],\n",
       "         [0.91645853],\n",
       "         [0.91645853],\n",
       "         [0.02789867],\n",
       "         [0.02789867],\n",
       "         [0.03338196],\n",
       "         [0.03338196],\n",
       "         [0.86692571],\n",
       "         [0.86692571],\n",
       "         [0.23430364],\n",
       "         [0.23430364],\n",
       "         [0.87966216],\n",
       "         [0.87966216],\n",
       "         [0.94304636],\n",
       "         [0.94304636],\n",
       "         [0.83023169],\n",
       "         [0.83023169],\n",
       "         [0.66432913],\n",
       "         [0.66432913],\n",
       "         [0.11603741],\n",
       "         [0.11603741],\n",
       "         [0.09403947],\n",
       "         [0.09403947],\n",
       "         [0.93100241],\n",
       "         [0.93100241],\n",
       "         [0.20735407],\n",
       "         [0.20735407],\n",
       "         [0.07110846],\n",
       "         [0.07110846],\n",
       "         [0.36159797],\n",
       "         [0.36159797],\n",
       "         [0.38243069],\n",
       "         [0.38243069],\n",
       "         [0.84965803],\n",
       "         [0.84965803],\n",
       "         [0.49113857],\n",
       "         [0.49113857],\n",
       "         [0.05661698],\n",
       "         [0.05661698],\n",
       "         [0.06053617],\n",
       "         [0.06053617],\n",
       "         [0.10717573],\n",
       "         [0.10717573],\n",
       "         [0.17001071],\n",
       "         [0.17001071],\n",
       "         [0.79483953],\n",
       "         [0.79483953],\n",
       "         [0.73294897],\n",
       "         [0.73294897],\n",
       "         [0.59132307],\n",
       "         [0.59132307],\n",
       "         [0.33378982],\n",
       "         [0.33378982],\n",
       "         [0.38554884],\n",
       "         [0.38554884],\n",
       "         [0.42290623],\n",
       "         [0.42290623],\n",
       "         [0.73331184],\n",
       "         [0.73331184],\n",
       "         [0.06337023],\n",
       "         [0.06337023],\n",
       "         [0.39455625],\n",
       "         [0.39455625],\n",
       "         [0.85101935],\n",
       "         [0.85101935],\n",
       "         [0.27327937],\n",
       "         [0.27327937],\n",
       "         [0.30646711],\n",
       "         [0.30646711],\n",
       "         [0.78709081],\n",
       "         [0.78709081],\n",
       "         [0.77087628],\n",
       "         [0.77087628]])}}"
      ]
     },
     "execution_count": 12,
     "metadata": {},
     "output_type": "execute_result"
    }
   ],
   "source": [
    "ds = load_by_id(run_id_a)\n",
    "ds.get_parameter_data('x1')"
   ]
  },
  {
   "cell_type": "code",
   "execution_count": null,
   "metadata": {},
   "outputs": [],
   "source": []
  }
 ],
 "metadata": {
  "kernelspec": {
   "display_name": "Python 3",
   "language": "python",
   "name": "python3"
  },
  "language_info": {
   "codemirror_mode": {
    "name": "ipython",
    "version": 3
   },
   "file_extension": ".py",
   "mimetype": "text/x-python",
   "name": "python",
   "nbconvert_exporter": "python",
   "pygments_lexer": "ipython3",
   "version": "3.7.5"
  },
  "nbsphinx": {
   "timeout": 600
  },
  "toc": {
   "base_numbering": 1,
   "nav_menu": {},
   "number_sections": true,
   "sideBar": true,
   "skip_h1_title": false,
   "title_cell": "Table of Contents",
   "title_sidebar": "Contents",
   "toc_cell": false,
   "toc_position": {},
   "toc_section_display": true,
   "toc_window_display": false
  },
  "varInspector": {
   "cols": {
    "lenName": 16,
    "lenType": 16,
    "lenVar": 40
   },
   "kernels_config": {
    "python": {
     "delete_cmd_postfix": "",
     "delete_cmd_prefix": "del ",
     "library": "var_list.py",
     "varRefreshCmd": "print(var_dic_list())"
    },
    "r": {
     "delete_cmd_postfix": ") ",
     "delete_cmd_prefix": "rm(",
     "library": "var_list.r",
     "varRefreshCmd": "cat(var_dic_list()) "
    }
   },
   "types_to_exclude": [
    "module",
    "function",
    "builtin_function_or_method",
    "instance",
    "_Feature"
   ],
   "window_display": false
  }
 },
 "nbformat": 4,
 "nbformat_minor": 2
}
