{
 "cells": [
  {
   "cell_type": "markdown",
   "metadata": {},
   "source": [
    "# DataSet Performance\n",
    "\n",
    "This notebook shows the trade-off between inserting data into a database row-by-row and as binary blobs. Inserting the data row-by-row means that we have direct access to all the data and may perform queries directly on the values of the data. On the other hand, as we shall see, this is much slower than inserting the data directly as binary blobs."
   ]
  },
  {
   "cell_type": "markdown",
   "metadata": {},
   "source": [
    "First, we choose a new location for the database to ensure that we don't add a bunch of benchmarking data to the default one."
   ]
  },
  {
   "cell_type": "code",
   "execution_count": 1,
   "metadata": {
    "execution": {
     "iopub.execute_input": "2020-11-20T10:21:13.470867Z",
     "iopub.status.busy": "2020-11-20T10:21:13.470393Z",
     "iopub.status.idle": "2020-11-20T10:21:14.437179Z",
     "shell.execute_reply": "2020-11-20T10:21:14.436487Z"
    }
   },
   "outputs": [
    {
     "name": "stdout",
     "output_type": "stream",
     "text": [
      "Logging hadn't been started.\n",
      "Activating auto-logging. Current session state plus future input saved.\n",
      "Filename       : /home/vsts/.qcodes/logs/command_history.log\n",
      "Mode           : append\n",
      "Output logging : True\n",
      "Raw input log  : False\n",
      "Timestamping   : True\n",
      "State          : active\n"
     ]
    },
    {
     "name": "stdout",
     "output_type": "stream",
     "text": [
      "Qcodes Logfile : /home/vsts/.qcodes/logs/201120-14196-qcodes.log\n"
     ]
    }
   ],
   "source": [
    "import os\n",
    "cwd = os.getcwd()\n",
    "import qcodes as qc\n",
    "qc.config[\"core\"][\"db_location\"] = os.path.join(cwd, 'testing.db')\n"
   ]
  },
  {
   "cell_type": "code",
   "execution_count": 2,
   "metadata": {
    "execution": {
     "iopub.execute_input": "2020-11-20T10:21:14.443826Z",
     "iopub.status.busy": "2020-11-20T10:21:14.442894Z",
     "iopub.status.idle": "2020-11-20T10:21:14.628940Z",
     "shell.execute_reply": "2020-11-20T10:21:14.627860Z"
    }
   },
   "outputs": [],
   "source": [
    "%matplotlib inline\n",
    "import time\n",
    "import matplotlib.pyplot as plt\n",
    "import numpy as np\n",
    "\n",
    "import qcodes as qc\n",
    "from qcodes.instrument.parameter import ManualParameter\n",
    "from qcodes.dataset.experiment_container import (Experiment,\n",
    "                                                 load_last_experiment,\n",
    "                                                 new_experiment)\n",
    "from qcodes.dataset.sqlite.database import initialise_database\n",
    "from qcodes import load_or_create_experiment\n",
    "from qcodes.dataset.measurements import Measurement"
   ]
  },
  {
   "cell_type": "code",
   "execution_count": 3,
   "metadata": {
    "execution": {
     "iopub.execute_input": "2020-11-20T10:21:14.632861Z",
     "iopub.status.busy": "2020-11-20T10:21:14.632274Z",
     "iopub.status.idle": "2020-11-20T10:21:14.735906Z",
     "shell.execute_reply": "2020-11-20T10:21:14.735439Z"
    }
   },
   "outputs": [
    {
     "name": "stdout",
     "output_type": "stream",
     "text": [
      "\r",
      "0it [00:00, ?it/s]"
     ]
    },
    {
     "name": "stdout",
     "output_type": "stream",
     "text": [
      "\r",
      "Upgrading database; v0 -> v1: : 0it [00:00, ?it/s]"
     ]
    },
    {
     "name": "stdout",
     "output_type": "stream",
     "text": [
      "\r",
      "Upgrading database; v0 -> v1: : 0it [00:00, ?it/s]"
     ]
    },
    {
     "name": "stdout",
     "output_type": "stream",
     "text": [
      "\n",
      "\r",
      "  0%|          | 0/1 [00:00<?, ?it/s]"
     ]
    },
    {
     "name": "stdout",
     "output_type": "stream",
     "text": [
      "\r",
      "Upgrading database; v1 -> v2:   0%|          | 0/1 [00:00<?, ?it/s]"
     ]
    },
    {
     "name": "stdout",
     "output_type": "stream",
     "text": [
      "\r",
      "Upgrading database; v1 -> v2: 100%|██████████| 1/1 [00:00<00:00, 731.61it/s]"
     ]
    },
    {
     "name": "stdout",
     "output_type": "stream",
     "text": [
      "\n",
      "\r",
      "0it [00:00, ?it/s]"
     ]
    },
    {
     "name": "stdout",
     "output_type": "stream",
     "text": [
      "\r",
      "Upgrading database; v2 -> v3: : 0it [00:00, ?it/s]"
     ]
    },
    {
     "name": "stdout",
     "output_type": "stream",
     "text": [
      "\r",
      "Upgrading database; v2 -> v3: : 0it [00:00, ?it/s]"
     ]
    },
    {
     "name": "stdout",
     "output_type": "stream",
     "text": [
      "\n",
      "\r",
      "0it [00:00, ?it/s]"
     ]
    },
    {
     "name": "stdout",
     "output_type": "stream",
     "text": [
      "\r",
      "Upgrading database; v3 -> v4: : 0it [00:00, ?it/s]"
     ]
    },
    {
     "name": "stdout",
     "output_type": "stream",
     "text": [
      "\r",
      "Upgrading database; v3 -> v4: : 0it [00:00, ?it/s]"
     ]
    },
    {
     "name": "stdout",
     "output_type": "stream",
     "text": [
      "\n",
      "\r",
      "  0%|          | 0/1 [00:00<?, ?it/s]"
     ]
    },
    {
     "name": "stdout",
     "output_type": "stream",
     "text": [
      "\r",
      "Upgrading database; v4 -> v5:   0%|          | 0/1 [00:00<?, ?it/s]"
     ]
    },
    {
     "name": "stdout",
     "output_type": "stream",
     "text": [
      "\r",
      "Upgrading database; v4 -> v5: 100%|██████████| 1/1 [00:00<00:00, 450.61it/s]"
     ]
    },
    {
     "name": "stdout",
     "output_type": "stream",
     "text": [
      "\n",
      "\r",
      "0it [00:00, ?it/s]"
     ]
    },
    {
     "name": "stdout",
     "output_type": "stream",
     "text": [
      "\r",
      "Upgrading database; v5 -> v6: : 0it [00:00, ?it/s]"
     ]
    },
    {
     "name": "stdout",
     "output_type": "stream",
     "text": [
      "\r",
      "Upgrading database; v5 -> v6: : 0it [00:00, ?it/s]"
     ]
    },
    {
     "name": "stdout",
     "output_type": "stream",
     "text": [
      "\n",
      "\r",
      "  0%|          | 0/1 [00:00<?, ?it/s]"
     ]
    },
    {
     "name": "stdout",
     "output_type": "stream",
     "text": [
      "\r",
      "Upgrading database; v6 -> v7:   0%|          | 0/1 [00:00<?, ?it/s]"
     ]
    },
    {
     "name": "stdout",
     "output_type": "stream",
     "text": [
      "\r",
      "Upgrading database; v6 -> v7: 100%|██████████| 1/1 [00:00<00:00, 529.78it/s]"
     ]
    },
    {
     "name": "stdout",
     "output_type": "stream",
     "text": [
      "\n",
      "\r",
      "  0%|          | 0/1 [00:00<?, ?it/s]"
     ]
    },
    {
     "name": "stdout",
     "output_type": "stream",
     "text": [
      "\r",
      "Upgrading database; v7 -> v8:   0%|          | 0/1 [00:00<?, ?it/s]"
     ]
    },
    {
     "name": "stdout",
     "output_type": "stream",
     "text": [
      "\r",
      "Upgrading database; v7 -> v8: 100%|██████████| 1/1 [00:00<00:00, 433.56it/s]"
     ]
    },
    {
     "name": "stdout",
     "output_type": "stream",
     "text": [
      "\n",
      "\r",
      "  0%|          | 0/1 [00:00<?, ?it/s]"
     ]
    },
    {
     "name": "stdout",
     "output_type": "stream",
     "text": [
      "\r",
      "Upgrading database; v8 -> v9:   0%|          | 0/1 [00:00<?, ?it/s]"
     ]
    },
    {
     "name": "stdout",
     "output_type": "stream",
     "text": [
      "\r",
      "Upgrading database; v8 -> v9: 100%|██████████| 1/1 [00:00<00:00, 459.00it/s]"
     ]
    },
    {
     "name": "stdout",
     "output_type": "stream",
     "text": [
      "\n"
     ]
    }
   ],
   "source": [
    "initialise_database()\n",
    "exp = load_or_create_experiment(experiment_name='tutorial_exp', sample_name=\"no sample\")"
   ]
  },
  {
   "cell_type": "markdown",
   "metadata": {},
   "source": [
    "Here, we define a simple function to benchmark the time it takes to insert n points with either numeric or array data type.\n",
    "We will compare both the time used to call ``add_result`` and the time used for the full measurement."
   ]
  },
  {
   "cell_type": "code",
   "execution_count": 4,
   "metadata": {
    "execution": {
     "iopub.execute_input": "2020-11-20T10:21:14.745123Z",
     "iopub.status.busy": "2020-11-20T10:21:14.743921Z",
     "iopub.status.idle": "2020-11-20T10:21:14.745754Z",
     "shell.execute_reply": "2020-11-20T10:21:14.746200Z"
    }
   },
   "outputs": [],
   "source": [
    "def insert_data(paramtype, npoints, nreps=1):\n",
    "\n",
    "    meas = Measurement(exp=exp)\n",
    "\n",
    "    x1 = ManualParameter('x1')\n",
    "    x2 = ManualParameter('x2')\n",
    "    x3 = ManualParameter('x3')\n",
    "    y1 = ManualParameter('y1')\n",
    "    y2 = ManualParameter('y2')\n",
    "\n",
    "    meas.register_parameter(x1, paramtype=paramtype)\n",
    "    meas.register_parameter(x2, paramtype=paramtype)\n",
    "    meas.register_parameter(x3, paramtype=paramtype)\n",
    "    meas.register_parameter(y1, setpoints=[x1, x2, x3],\n",
    "                            paramtype=paramtype)\n",
    "    meas.register_parameter(y2, setpoints=[x1, x2, x3],\n",
    "                            paramtype=paramtype)\n",
    "    start = time.perf_counter()\n",
    "    with meas.run() as datasaver:\n",
    "        start_adding = time.perf_counter()\n",
    "        for i in range(nreps):\n",
    "            datasaver.add_result((x1, np.random.rand(npoints)),\n",
    "                                 (x2, np.random.rand(npoints)),\n",
    "                                 (x3, np.random.rand(npoints)),\n",
    "                                 (y1, np.random.rand(npoints)),\n",
    "                                 (y2, np.random.rand(npoints)))\n",
    "        stop_adding = time.perf_counter()\n",
    "        run_id = datasaver.run_id\n",
    "    stop = time.perf_counter()\n",
    "    tot_time = stop - start\n",
    "    add_time = stop_adding - start_adding\n",
    "    return tot_time, add_time, run_id"
   ]
  },
  {
   "cell_type": "markdown",
   "metadata": {},
   "source": [
    "## Comparison between numeric/array data and binary blob"
   ]
  },
  {
   "cell_type": "markdown",
   "metadata": {},
   "source": [
    "### Case1: Short experiment time"
   ]
  },
  {
   "cell_type": "code",
   "execution_count": 5,
   "metadata": {
    "execution": {
     "iopub.execute_input": "2020-11-20T10:21:14.752737Z",
     "iopub.status.busy": "2020-11-20T10:21:14.752172Z",
     "iopub.status.idle": "2020-11-20T10:21:15.516389Z",
     "shell.execute_reply": "2020-11-20T10:21:15.515872Z"
    }
   },
   "outputs": [
    {
     "name": "stdout",
     "output_type": "stream",
     "text": [
      "Starting experimental run with id: 1. \n",
      "Starting experimental run with id: 2. \n",
      "Starting experimental run with id: 3. \n",
      "Starting experimental run with id: 4. \n",
      "Starting experimental run with id: 5. \n"
     ]
    },
    {
     "name": "stdout",
     "output_type": "stream",
     "text": [
      "Starting experimental run with id: 6. \n"
     ]
    },
    {
     "name": "stdout",
     "output_type": "stream",
     "text": [
      "Starting experimental run with id: 7. \n"
     ]
    },
    {
     "name": "stdout",
     "output_type": "stream",
     "text": [
      "Starting experimental run with id: 8. \n",
      "Starting experimental run with id: 9. \n"
     ]
    },
    {
     "name": "stdout",
     "output_type": "stream",
     "text": [
      "Starting experimental run with id: 10. \n",
      "Starting experimental run with id: 11. \n"
     ]
    },
    {
     "name": "stdout",
     "output_type": "stream",
     "text": [
      "Starting experimental run with id: 12. \n",
      "Starting experimental run with id: 13. \n"
     ]
    },
    {
     "name": "stdout",
     "output_type": "stream",
     "text": [
      "Starting experimental run with id: 14. \n"
     ]
    }
   ],
   "source": [
    "sizes = [1,500,1000,2000,3000,4000,5000]\n",
    "t_numeric = []\n",
    "t_numeric_add = []\n",
    "t_array = []\n",
    "t_array_add = []\n",
    "for size in sizes:\n",
    "    tn, tna, run_id_n =  insert_data('numeric', size)\n",
    "    t_numeric.append(tn)\n",
    "    t_numeric_add.append(tna)\n",
    "\n",
    "    ta, taa, run_id_a =  insert_data('array', size)\n",
    "    t_array.append(ta)\n",
    "    t_array_add.append(taa)"
   ]
  },
  {
   "cell_type": "code",
   "execution_count": 6,
   "metadata": {
    "execution": {
     "iopub.execute_input": "2020-11-20T10:21:15.557972Z",
     "iopub.status.busy": "2020-11-20T10:21:15.545620Z",
     "iopub.status.idle": "2020-11-20T10:21:15.708446Z",
     "shell.execute_reply": "2020-11-20T10:21:15.708863Z"
    }
   },
   "outputs": [
    {
     "data": {
      "image/png": "[encoded data removed]",
      "text/plain": [
       "<Figure size 432x288 with 1 Axes>"
      ]
     },
     "metadata": {
      "needs_background": "light"
     },
     "output_type": "display_data"
    }
   ],
   "source": [
    "fig, ax = plt.subplots(1,1)\n",
    "ax.plot(sizes, t_numeric, 'o-', label='Inserting row-by-row')\n",
    "ax.plot(sizes, t_numeric_add, 'o-', label='Inserting row-by-row: add_result only')\n",
    "ax.plot(sizes, t_array, 'd-', label='Inserting as binary blob')\n",
    "ax.plot(sizes, t_array_add, 'd-', label='Inserting as binary blob: add_result only')\n",
    "ax.legend()\n",
    "ax.set_xlabel('Array length')\n",
    "ax.set_ylabel('Time (s)')\n",
    "fig.tight_layout()"
   ]
  },
  {
   "cell_type": "markdown",
   "metadata": {},
   "source": [
    "As shown in the latter figure, the time to setup and and close the experiment is approximately 0.4 sec. In case of small array sizes, the difference between inserting values of data as arrays and inserting them row-by-row is relatively unimportant. At larger array sizes, i.e. above 10000 points, the cost of writing data as individual datapoints starts to become important.\n"
   ]
  },
  {
   "cell_type": "markdown",
   "metadata": {},
   "source": [
    "### Case2: Long experiment time "
   ]
  },
  {
   "cell_type": "code",
   "execution_count": 7,
   "metadata": {
    "execution": {
     "iopub.execute_input": "2020-11-20T10:21:15.711557Z",
     "iopub.status.busy": "2020-11-20T10:21:15.710978Z",
     "iopub.status.idle": "2020-11-20T10:22:08.769375Z",
     "shell.execute_reply": "2020-11-20T10:22:08.770165Z"
    }
   },
   "outputs": [
    {
     "name": "stdout",
     "output_type": "stream",
     "text": [
      "Starting experimental run with id: 15. \n",
      "Starting experimental run with id: 16. \n",
      "Starting experimental run with id: 17. \n"
     ]
    },
    {
     "name": "stdout",
     "output_type": "stream",
     "text": [
      "Starting experimental run with id: 18. \n",
      "Starting experimental run with id: 19. \n"
     ]
    },
    {
     "name": "stdout",
     "output_type": "stream",
     "text": [
      "Starting experimental run with id: 20. \n"
     ]
    },
    {
     "name": "stdout",
     "output_type": "stream",
     "text": [
      "Starting experimental run with id: 21. \n"
     ]
    },
    {
     "name": "stdout",
     "output_type": "stream",
     "text": [
      "Starting experimental run with id: 22. \n"
     ]
    },
    {
     "name": "stdout",
     "output_type": "stream",
     "text": [
      "Starting experimental run with id: 23. \n"
     ]
    },
    {
     "name": "stdout",
     "output_type": "stream",
     "text": [
      "Starting experimental run with id: 24. \n"
     ]
    },
    {
     "name": "stdout",
     "output_type": "stream",
     "text": [
      "Starting experimental run with id: 25. \n"
     ]
    },
    {
     "name": "stdout",
     "output_type": "stream",
     "text": [
      "Starting experimental run with id: 26. \n"
     ]
    },
    {
     "name": "stdout",
     "output_type": "stream",
     "text": [
      "Starting experimental run with id: 27. \n"
     ]
    },
    {
     "name": "stdout",
     "output_type": "stream",
     "text": [
      "Starting experimental run with id: 28. \n"
     ]
    }
   ],
   "source": [
    "sizes = [1,500,1000,2000,3000,4000,5000]\n",
    "nreps = 100\n",
    "t_numeric = []\n",
    "t_numeric_add = []\n",
    "t_numeric_run_ids = []\n",
    "t_array = []\n",
    "t_array_add = []\n",
    "t_array_run_ids = []\n",
    "for size in sizes:\n",
    "    tn, tna, run_id_n =  insert_data('numeric', size, nreps=nreps)\n",
    "    t_numeric.append(tn)\n",
    "    t_numeric_add.append(tna)\n",
    "    t_numeric_run_ids.append(run_id_n)\n",
    "\n",
    "    ta, taa, run_id_a =  insert_data('array', size, nreps=nreps)\n",
    "    t_array.append(ta)\n",
    "    t_array_add.append(taa)\n",
    "    t_array_run_ids.append(run_id_a)"
   ]
  },
  {
   "cell_type": "code",
   "execution_count": 8,
   "metadata": {
    "execution": {
     "iopub.execute_input": "2020-11-20T10:22:08.804727Z",
     "iopub.status.busy": "2020-11-20T10:22:08.796093Z",
     "iopub.status.idle": "2020-11-20T10:22:08.949835Z",
     "shell.execute_reply": "2020-11-20T10:22:08.950335Z"
    },
    "scrolled": true
   },
   "outputs": [
    {
     "data": {
      "image/png": "[encoded data removed]",
      "text/plain": [
       "<Figure size 432x288 with 1 Axes>"
      ]
     },
     "metadata": {
      "needs_background": "light"
     },
     "output_type": "display_data"
    }
   ],
   "source": [
    "fig, ax = plt.subplots(1,1)\n",
    "ax.plot(sizes, t_numeric, 'o-', label='Inserting row-by-row')\n",
    "ax.plot(sizes, t_numeric_add, 'o-', label='Inserting row-by-row: add_result only')\n",
    "ax.plot(sizes, t_array, 'd-', label='Inserting as binary blob')\n",
    "ax.plot(sizes, t_array_add, 'd-', label='Inserting as binary blob: add_result only')\n",
    "ax.legend()\n",
    "ax.set_xlabel('Array length')\n",
    "ax.set_ylabel('Time (s)')\n",
    "fig.tight_layout()"
   ]
  },
  {
   "cell_type": "markdown",
   "metadata": {},
   "source": [
    "However, as we increase the length of the experiment, as seen here by repeating the insertion 100 times, we see a big difference between inserting values of the data row-by-row and inserting it as a binary blob."
   ]
  },
  {
   "cell_type": "markdown",
   "metadata": {},
   "source": [
    "## Loading the data "
   ]
  },
  {
   "cell_type": "code",
   "execution_count": 9,
   "metadata": {
    "execution": {
     "iopub.execute_input": "2020-11-20T10:22:08.952847Z",
     "iopub.status.busy": "2020-11-20T10:22:08.952300Z",
     "iopub.status.idle": "2020-11-20T10:22:08.955492Z",
     "shell.execute_reply": "2020-11-20T10:22:08.955921Z"
    }
   },
   "outputs": [],
   "source": [
    "from qcodes.dataset.data_set import load_by_id\n",
    "from qcodes.dataset.data_export import get_data_by_id"
   ]
  },
  {
   "cell_type": "markdown",
   "metadata": {},
   "source": [
    "As usual you can load the data by using the ``load_by_id`` function but you will notice that the different storage methods\n",
    "are reflected in shape of the data as it is retrieved. "
   ]
  },
  {
   "cell_type": "code",
   "execution_count": 10,
   "metadata": {
    "execution": {
     "iopub.execute_input": "2020-11-20T10:22:08.958079Z",
     "iopub.status.busy": "2020-11-20T10:22:08.957541Z",
     "iopub.status.idle": "2020-11-20T10:22:08.960160Z",
     "shell.execute_reply": "2020-11-20T10:22:08.960628Z"
    }
   },
   "outputs": [],
   "source": [
    "run_id_n = t_numeric_run_ids[0]\n",
    "run_id_a = t_array_run_ids[0]"
   ]
  },
  {
   "cell_type": "code",
   "execution_count": 11,
   "metadata": {
    "execution": {
     "iopub.execute_input": "2020-11-20T10:22:08.962951Z",
     "iopub.status.busy": "2020-11-20T10:22:08.962403Z",
     "iopub.status.idle": "2020-11-20T10:22:08.971881Z",
     "shell.execute_reply": "2020-11-20T10:22:08.971464Z"
    },
    "scrolled": true
   },
   "outputs": [
    {
     "data": {
      "text/plain": [
       "{'x1': {'x1': array([0.80325573, 0.80325573, 0.60268946, 0.60268946, 0.02691375,\n",
       "         0.02691375, 0.58884023, 0.58884023, 0.97708   , 0.97708   ,\n",
       "         0.63611269, 0.63611269, 0.17056255, 0.17056255, 0.79793046,\n",
       "         0.79793046, 0.17943521, 0.17943521, 0.14948629, 0.14948629,\n",
       "         0.66747432, 0.66747432, 0.74958533, 0.74958533, 0.33230323,\n",
       "         0.33230323, 0.44800018, 0.44800018, 0.60459742, 0.60459742,\n",
       "         0.50703193, 0.50703193, 0.62038137, 0.62038137, 0.2635964 ,\n",
       "         0.2635964 , 0.70284861, 0.70284861, 0.51468159, 0.51468159,\n",
       "         0.25238876, 0.25238876, 0.1019694 , 0.1019694 , 0.08697851,\n",
       "         0.08697851, 0.10626252, 0.10626252, 0.31271692, 0.31271692,\n",
       "         0.5762879 , 0.5762879 , 0.20811226, 0.20811226, 0.09090535,\n",
       "         0.09090535, 0.67891109, 0.67891109, 0.09369014, 0.09369014,\n",
       "         0.3417008 , 0.3417008 , 0.53158859, 0.53158859, 0.66770421,\n",
       "         0.66770421, 0.07269331, 0.07269331, 0.59659283, 0.59659283,\n",
       "         0.18207425, 0.18207425, 0.49191157, 0.49191157, 0.23814075,\n",
       "         0.23814075, 0.85012926, 0.85012926, 0.11202798, 0.11202798,\n",
       "         0.82118683, 0.82118683, 0.0080738 , 0.0080738 , 0.92051257,\n",
       "         0.92051257, 0.1892118 , 0.1892118 , 0.37343697, 0.37343697,\n",
       "         0.65974026, 0.65974026, 0.57694801, 0.57694801, 0.40327937,\n",
       "         0.40327937, 0.55559987, 0.55559987, 0.82334469, 0.82334469,\n",
       "         0.34763197, 0.34763197, 0.58138873, 0.58138873, 0.86398747,\n",
       "         0.86398747, 0.11255876, 0.11255876, 0.19686449, 0.19686449,\n",
       "         0.66922844, 0.66922844, 0.6843993 , 0.6843993 , 0.27165556,\n",
       "         0.27165556, 0.19308978, 0.19308978, 0.31988876, 0.31988876,\n",
       "         0.16721085, 0.16721085, 0.01274953, 0.01274953, 0.25605912,\n",
       "         0.25605912, 0.96509196, 0.96509196, 0.92196642, 0.92196642,\n",
       "         0.49744599, 0.49744599, 0.20911903, 0.20911903, 0.1504965 ,\n",
       "         0.1504965 , 0.14687177, 0.14687177, 0.12868424, 0.12868424,\n",
       "         0.23278128, 0.23278128, 0.98748211, 0.98748211, 0.30280014,\n",
       "         0.30280014, 0.79146046, 0.79146046, 0.01459536, 0.01459536,\n",
       "         0.84749572, 0.84749572, 0.69563519, 0.69563519, 0.05769743,\n",
       "         0.05769743, 0.50901187, 0.50901187, 0.13109566, 0.13109566,\n",
       "         0.07492656, 0.07492656, 0.86509618, 0.86509618, 0.33094964,\n",
       "         0.33094964, 0.17147494, 0.17147494, 0.56002624, 0.56002624,\n",
       "         0.0633984 , 0.0633984 , 0.09441528, 0.09441528, 0.42581897,\n",
       "         0.42581897, 0.1753718 , 0.1753718 , 0.8189442 , 0.8189442 ,\n",
       "         0.06713762, 0.06713762, 0.46159825, 0.46159825, 0.04216452,\n",
       "         0.04216452, 0.48071096, 0.48071096, 0.18074892, 0.18074892,\n",
       "         0.33057657, 0.33057657, 0.09996783, 0.09996783, 0.04266294,\n",
       "         0.04266294, 0.69823781, 0.69823781, 0.03349161, 0.03349161])}}"
      ]
     },
     "execution_count": 1,
     "metadata": {},
     "output_type": "execute_result"
    }
   ],
   "source": [
    "ds = load_by_id(run_id_n)\n",
    "ds.get_parameter_data('x1')"
   ]
  },
  {
   "cell_type": "markdown",
   "metadata": {},
   "source": [
    "And a dataset stored as binary arrays"
   ]
  },
  {
   "cell_type": "code",
   "execution_count": 12,
   "metadata": {
    "execution": {
     "iopub.execute_input": "2020-11-20T10:22:08.974973Z",
     "iopub.status.busy": "2020-11-20T10:22:08.974527Z",
     "iopub.status.idle": "2020-11-20T10:22:09.023896Z",
     "shell.execute_reply": "2020-11-20T10:22:09.024458Z"
    },
    "scrolled": true
   },
   "outputs": [
    {
     "data": {
      "text/plain": [
       "{'x1': {'x1': array([[0.15222135],\n",
       "         [0.15222135],\n",
       "         [0.46257385],\n",
       "         [0.46257385],\n",
       "         [0.61359631],\n",
       "         [0.61359631],\n",
       "         [0.51351168],\n",
       "         [0.51351168],\n",
       "         [0.18813538],\n",
       "         [0.18813538],\n",
       "         [0.56853456],\n",
       "         [0.56853456],\n",
       "         [0.61887709],\n",
       "         [0.61887709],\n",
       "         [0.6193541 ],\n",
       "         [0.6193541 ],\n",
       "         [0.82421372],\n",
       "         [0.82421372],\n",
       "         [0.40740531],\n",
       "         [0.40740531],\n",
       "         [0.52137207],\n",
       "         [0.52137207],\n",
       "         [0.33617674],\n",
       "         [0.33617674],\n",
       "         [0.27981332],\n",
       "         [0.27981332],\n",
       "         [0.90339911],\n",
       "         [0.90339911],\n",
       "         [0.05482062],\n",
       "         [0.05482062],\n",
       "         [0.26225953],\n",
       "         [0.26225953],\n",
       "         [0.21548765],\n",
       "         [0.21548765],\n",
       "         [0.26679842],\n",
       "         [0.26679842],\n",
       "         [0.8070294 ],\n",
       "         [0.8070294 ],\n",
       "         [0.82202826],\n",
       "         [0.82202826],\n",
       "         [0.77464493],\n",
       "         [0.77464493],\n",
       "         [0.10696397],\n",
       "         [0.10696397],\n",
       "         [0.58285535],\n",
       "         [0.58285535],\n",
       "         [0.30980909],\n",
       "         [0.30980909],\n",
       "         [0.22584652],\n",
       "         [0.22584652],\n",
       "         [0.93740417],\n",
       "         [0.93740417],\n",
       "         [0.06370645],\n",
       "         [0.06370645],\n",
       "         [0.66621186],\n",
       "         [0.66621186],\n",
       "         [0.8671357 ],\n",
       "         [0.8671357 ],\n",
       "         [0.886478  ],\n",
       "         [0.886478  ],\n",
       "         [0.40899098],\n",
       "         [0.40899098],\n",
       "         [0.69536885],\n",
       "         [0.69536885],\n",
       "         [0.76033058],\n",
       "         [0.76033058],\n",
       "         [0.23861243],\n",
       "         [0.23861243],\n",
       "         [0.17296156],\n",
       "         [0.17296156],\n",
       "         [0.13248031],\n",
       "         [0.13248031],\n",
       "         [0.42291047],\n",
       "         [0.42291047],\n",
       "         [0.42344368],\n",
       "         [0.42344368],\n",
       "         [0.89849833],\n",
       "         [0.89849833],\n",
       "         [0.30801078],\n",
       "         [0.30801078],\n",
       "         [0.04396341],\n",
       "         [0.04396341],\n",
       "         [0.05241641],\n",
       "         [0.05241641],\n",
       "         [0.07059495],\n",
       "         [0.07059495],\n",
       "         [0.80370035],\n",
       "         [0.80370035],\n",
       "         [0.0172172 ],\n",
       "         [0.0172172 ],\n",
       "         [0.57568648],\n",
       "         [0.57568648],\n",
       "         [0.56315069],\n",
       "         [0.56315069],\n",
       "         [0.8951443 ],\n",
       "         [0.8951443 ],\n",
       "         [0.24263475],\n",
       "         [0.24263475],\n",
       "         [0.59313705],\n",
       "         [0.59313705],\n",
       "         [0.33810144],\n",
       "         [0.33810144],\n",
       "         [0.53728457],\n",
       "         [0.53728457],\n",
       "         [0.75352485],\n",
       "         [0.75352485],\n",
       "         [0.44957363],\n",
       "         [0.44957363],\n",
       "         [0.51072834],\n",
       "         [0.51072834],\n",
       "         [0.78144761],\n",
       "         [0.78144761],\n",
       "         [0.34255319],\n",
       "         [0.34255319],\n",
       "         [0.49857054],\n",
       "         [0.49857054],\n",
       "         [0.99518088],\n",
       "         [0.99518088],\n",
       "         [0.24821623],\n",
       "         [0.24821623],\n",
       "         [0.70665448],\n",
       "         [0.70665448],\n",
       "         [0.13802539],\n",
       "         [0.13802539],\n",
       "         [0.37890551],\n",
       "         [0.37890551],\n",
       "         [0.30595798],\n",
       "         [0.30595798],\n",
       "         [0.90979266],\n",
       "         [0.90979266],\n",
       "         [0.62775218],\n",
       "         [0.62775218],\n",
       "         [0.66700562],\n",
       "         [0.66700562],\n",
       "         [0.66881001],\n",
       "         [0.66881001],\n",
       "         [0.75310289],\n",
       "         [0.75310289],\n",
       "         [0.57022974],\n",
       "         [0.57022974],\n",
       "         [0.90716517],\n",
       "         [0.90716517],\n",
       "         [0.55798524],\n",
       "         [0.55798524],\n",
       "         [0.48334437],\n",
       "         [0.48334437],\n",
       "         [0.45740575],\n",
       "         [0.45740575],\n",
       "         [0.47336947],\n",
       "         [0.47336947],\n",
       "         [0.1577604 ],\n",
       "         [0.1577604 ],\n",
       "         [0.79012242],\n",
       "         [0.79012242],\n",
       "         [0.57586937],\n",
       "         [0.57586937],\n",
       "         [0.21235097],\n",
       "         [0.21235097],\n",
       "         [0.67691351],\n",
       "         [0.67691351],\n",
       "         [0.39054253],\n",
       "         [0.39054253],\n",
       "         [0.42767637],\n",
       "         [0.42767637],\n",
       "         [0.98936967],\n",
       "         [0.98936967],\n",
       "         [0.00494115],\n",
       "         [0.00494115],\n",
       "         [0.16581411],\n",
       "         [0.16581411],\n",
       "         [0.41429513],\n",
       "         [0.41429513],\n",
       "         [0.74016112],\n",
       "         [0.74016112],\n",
       "         [0.39188297],\n",
       "         [0.39188297],\n",
       "         [0.09105501],\n",
       "         [0.09105501],\n",
       "         [0.91720489],\n",
       "         [0.91720489],\n",
       "         [0.60350861],\n",
       "         [0.60350861],\n",
       "         [0.28139152],\n",
       "         [0.28139152],\n",
       "         [0.04330336],\n",
       "         [0.04330336],\n",
       "         [0.6516035 ],\n",
       "         [0.6516035 ],\n",
       "         [0.35357836],\n",
       "         [0.35357836],\n",
       "         [0.28453486],\n",
       "         [0.28453486],\n",
       "         [0.99183351],\n",
       "         [0.99183351],\n",
       "         [0.0449331 ],\n",
       "         [0.0449331 ],\n",
       "         [0.0296192 ],\n",
       "         [0.0296192 ],\n",
       "         [0.34337494],\n",
       "         [0.34337494]])}}"
      ]
     },
     "execution_count": 1,
     "metadata": {},
     "output_type": "execute_result"
    }
   ],
   "source": [
    "ds = load_by_id(run_id_a)\n",
    "ds.get_parameter_data('x1')"
   ]
  },
  {
   "cell_type": "code",
   "execution_count": null,
   "metadata": {},
   "outputs": [],
   "source": []
  }
 ],
 "metadata": {
  "kernelspec": {
   "display_name": "Python 3",
   "language": "python",
   "name": "python3"
  },
  "language_info": {
   "codemirror_mode": {
    "name": "ipython",
    "version": 3
   },
   "file_extension": ".py",
   "mimetype": "text/x-python",
   "name": "python",
   "nbconvert_exporter": "python",
   "pygments_lexer": "ipython3",
   "version": "3.7.9"
  },
  "nbsphinx": {
   "timeout": 600
  },
  "toc": {
   "base_numbering": 1,
   "nav_menu": {},
   "number_sections": true,
   "sideBar": true,
   "skip_h1_title": false,
   "title_cell": "Table of Contents",
   "title_sidebar": "Contents",
   "toc_cell": false,
   "toc_position": {},
   "toc_section_display": true,
   "toc_window_display": false
  },
  "varInspector": {
   "cols": {
    "lenName": 16,
    "lenType": 16,
    "lenVar": 40
   },
   "kernels_config": {
    "python": {
     "delete_cmd_postfix": "",
     "delete_cmd_prefix": "del ",
     "library": "var_list.py",
     "varRefreshCmd": "print(var_dic_list())"
    },
    "r": {
     "delete_cmd_postfix": ") ",
     "delete_cmd_prefix": "rm(",
     "library": "var_list.r",
     "varRefreshCmd": "cat(var_dic_list()) "
    }
   },
   "types_to_exclude": [
    "module",
    "function",
    "builtin_function_or_method",
    "instance",
    "_Feature"
   ],
   "window_display": false
  }
 },
 "nbformat": 4,
 "nbformat_minor": 2
}
