{
 "cells": [
  {
   "cell_type": "markdown",
   "metadata": {},
   "source": [
    "# DataSet Performance\n",
    "\n",
    "This notebook shows the trade-off between inserting data into a database row-by-row and as binary blobs. Inserting the data row-by-row means that we have direct access to all the data and may perform queries directly on the values of the data. On the other hand, as we shall see, this is much slower than inserting the data directly as binary blobs."
   ]
  },
  {
   "cell_type": "markdown",
   "metadata": {},
   "source": [
    "First, we choose a new location for the database to ensure that we don't add a bunch of benchmarking data to the default one."
   ]
  },
  {
   "cell_type": "code",
   "execution_count": 1,
   "metadata": {
    "execution": {
     "iopub.execute_input": "2020-10-14T11:53:38.620589Z",
     "iopub.status.busy": "2020-10-14T11:53:38.619866Z",
     "iopub.status.idle": "2020-10-14T11:53:39.739215Z",
     "shell.execute_reply": "2020-10-14T11:53:39.738362Z"
    }
   },
   "outputs": [
    {
     "name": "stdout",
     "output_type": "stream",
     "text": [
      "Logging hadn't been started.\n",
      "Activating auto-logging. Current session state plus future input saved.\n",
      "Filename       : /home/vsts/.qcodes/logs/command_history.log\n",
      "Mode           : append\n",
      "Output logging : True\n",
      "Raw input log  : False\n",
      "Timestamping   : True\n",
      "State          : active\n"
     ]
    },
    {
     "name": "stdout",
     "output_type": "stream",
     "text": [
      "Qcodes Logfile : /home/vsts/.qcodes/logs/201014-15990-qcodes.log\n"
     ]
    }
   ],
   "source": [
    "import os\n",
    "cwd = os.getcwd()\n",
    "import qcodes as qc\n",
    "qc.config[\"core\"][\"db_location\"] = os.path.join(cwd, 'testing.db')\n"
   ]
  },
  {
   "cell_type": "code",
   "execution_count": 2,
   "metadata": {
    "execution": {
     "iopub.execute_input": "2020-10-14T11:53:39.744299Z",
     "iopub.status.busy": "2020-10-14T11:53:39.743726Z",
     "iopub.status.idle": "2020-10-14T11:53:39.945699Z",
     "shell.execute_reply": "2020-10-14T11:53:39.945060Z"
    }
   },
   "outputs": [],
   "source": [
    "%matplotlib inline\n",
    "import time\n",
    "import matplotlib.pyplot as plt\n",
    "import numpy as np\n",
    "\n",
    "import qcodes as qc\n",
    "from qcodes.instrument.parameter import ManualParameter\n",
    "from qcodes.dataset.experiment_container import (Experiment,\n",
    "                                                 load_last_experiment,\n",
    "                                                 new_experiment)\n",
    "from qcodes.dataset.sqlite.database import initialise_database\n",
    "from qcodes import load_or_create_experiment\n",
    "from qcodes.dataset.measurements import Measurement"
   ]
  },
  {
   "cell_type": "code",
   "execution_count": 3,
   "metadata": {
    "execution": {
     "iopub.execute_input": "2020-10-14T11:53:39.951283Z",
     "iopub.status.busy": "2020-10-14T11:53:39.949892Z",
     "iopub.status.idle": "2020-10-14T11:53:40.071599Z",
     "shell.execute_reply": "2020-10-14T11:53:40.070794Z"
    }
   },
   "outputs": [
    {
     "name": "stdout",
     "output_type": "stream",
     "text": [
      "\r",
      "0it [00:00, ?it/s]"
     ]
    },
    {
     "name": "stdout",
     "output_type": "stream",
     "text": [
      "\r",
      "Upgrading database; v0 -> v1: : 0it [00:00, ?it/s]"
     ]
    },
    {
     "name": "stdout",
     "output_type": "stream",
     "text": [
      "\r",
      "Upgrading database; v0 -> v1: : 0it [00:00, ?it/s]"
     ]
    },
    {
     "name": "stdout",
     "output_type": "stream",
     "text": [
      "\n",
      "\r",
      "  0%|          | 0/1 [00:00<?, ?it/s]"
     ]
    },
    {
     "name": "stdout",
     "output_type": "stream",
     "text": [
      "\r",
      "Upgrading database; v1 -> v2:   0%|          | 0/1 [00:00<?, ?it/s]"
     ]
    },
    {
     "name": "stdout",
     "output_type": "stream",
     "text": [
      "\r",
      "Upgrading database; v1 -> v2: 100%|██████████| 1/1 [00:00<00:00, 504.06it/s]"
     ]
    },
    {
     "name": "stdout",
     "output_type": "stream",
     "text": [
      "\n",
      "\r",
      "0it [00:00, ?it/s]"
     ]
    },
    {
     "name": "stdout",
     "output_type": "stream",
     "text": [
      "\r",
      "Upgrading database; v2 -> v3: : 0it [00:00, ?it/s]"
     ]
    },
    {
     "name": "stdout",
     "output_type": "stream",
     "text": [
      "\r",
      "Upgrading database; v2 -> v3: : 0it [00:00, ?it/s]"
     ]
    },
    {
     "name": "stdout",
     "output_type": "stream",
     "text": [
      "\n",
      "\r",
      "0it [00:00, ?it/s]"
     ]
    },
    {
     "name": "stdout",
     "output_type": "stream",
     "text": [
      "\r",
      "Upgrading database; v3 -> v4: : 0it [00:00, ?it/s]"
     ]
    },
    {
     "name": "stdout",
     "output_type": "stream",
     "text": [
      "\r",
      "Upgrading database; v3 -> v4: : 0it [00:00, ?it/s]"
     ]
    },
    {
     "name": "stdout",
     "output_type": "stream",
     "text": [
      "\n",
      "\r",
      "  0%|          | 0/1 [00:00<?, ?it/s]"
     ]
    },
    {
     "name": "stdout",
     "output_type": "stream",
     "text": [
      "\r",
      "Upgrading database; v4 -> v5:   0%|          | 0/1 [00:00<?, ?it/s]"
     ]
    },
    {
     "name": "stdout",
     "output_type": "stream",
     "text": [
      "\r",
      "Upgrading database; v4 -> v5: 100%|██████████| 1/1 [00:00<00:00, 979.75it/s]"
     ]
    },
    {
     "name": "stdout",
     "output_type": "stream",
     "text": [
      "\n",
      "\r",
      "0it [00:00, ?it/s]"
     ]
    },
    {
     "name": "stdout",
     "output_type": "stream",
     "text": [
      "\r",
      "Upgrading database; v5 -> v6: : 0it [00:00, ?it/s]"
     ]
    },
    {
     "name": "stdout",
     "output_type": "stream",
     "text": [
      "\r",
      "Upgrading database; v5 -> v6: : 0it [00:00, ?it/s]"
     ]
    },
    {
     "name": "stdout",
     "output_type": "stream",
     "text": [
      "\n",
      "\r",
      "  0%|          | 0/1 [00:00<?, ?it/s]"
     ]
    },
    {
     "name": "stdout",
     "output_type": "stream",
     "text": [
      "\r",
      "Upgrading database; v6 -> v7:   0%|          | 0/1 [00:00<?, ?it/s]"
     ]
    },
    {
     "name": "stdout",
     "output_type": "stream",
     "text": [
      "\r",
      "Upgrading database; v6 -> v7: 100%|██████████| 1/1 [00:00<00:00, 378.89it/s]"
     ]
    },
    {
     "name": "stdout",
     "output_type": "stream",
     "text": [
      "\n",
      "\r",
      "  0%|          | 0/1 [00:00<?, ?it/s]"
     ]
    },
    {
     "name": "stdout",
     "output_type": "stream",
     "text": [
      "\r",
      "Upgrading database; v7 -> v8:   0%|          | 0/1 [00:00<?, ?it/s]"
     ]
    },
    {
     "name": "stdout",
     "output_type": "stream",
     "text": [
      "\r",
      "Upgrading database; v7 -> v8: 100%|██████████| 1/1 [00:00<00:00, 363.96it/s]"
     ]
    },
    {
     "name": "stdout",
     "output_type": "stream",
     "text": [
      "\n",
      "\r",
      "  0%|          | 0/1 [00:00<?, ?it/s]"
     ]
    },
    {
     "name": "stdout",
     "output_type": "stream",
     "text": [
      "\r",
      "Upgrading database; v8 -> v9:   0%|          | 0/1 [00:00<?, ?it/s]"
     ]
    },
    {
     "name": "stdout",
     "output_type": "stream",
     "text": [
      "\r",
      "Upgrading database; v8 -> v9: 100%|██████████| 1/1 [00:00<00:00, 1034.35it/s]"
     ]
    },
    {
     "name": "stdout",
     "output_type": "stream",
     "text": [
      "\n"
     ]
    }
   ],
   "source": [
    "initialise_database()\n",
    "exp = load_or_create_experiment(experiment_name='tutorial_exp', sample_name=\"no sample\")"
   ]
  },
  {
   "cell_type": "markdown",
   "metadata": {},
   "source": [
    "Here, we define a simple function to benchmark the time it takes to insert n points with either numeric or array data type.\n",
    "We will compare both the time used to call ``add_result`` and the time used for the full measurement."
   ]
  },
  {
   "cell_type": "code",
   "execution_count": 4,
   "metadata": {
    "execution": {
     "iopub.execute_input": "2020-10-14T11:53:40.082559Z",
     "iopub.status.busy": "2020-10-14T11:53:40.080694Z",
     "iopub.status.idle": "2020-10-14T11:53:40.083169Z",
     "shell.execute_reply": "2020-10-14T11:53:40.083814Z"
    }
   },
   "outputs": [],
   "source": [
    "def insert_data(paramtype, npoints, nreps=1):\n",
    "\n",
    "    meas = Measurement(exp=exp)\n",
    "\n",
    "    x1 = ManualParameter('x1')\n",
    "    x2 = ManualParameter('x2')\n",
    "    x3 = ManualParameter('x3')\n",
    "    y1 = ManualParameter('y1')\n",
    "    y2 = ManualParameter('y2')\n",
    "\n",
    "    meas.register_parameter(x1, paramtype=paramtype)\n",
    "    meas.register_parameter(x2, paramtype=paramtype)\n",
    "    meas.register_parameter(x3, paramtype=paramtype)\n",
    "    meas.register_parameter(y1, setpoints=[x1, x2, x3],\n",
    "                            paramtype=paramtype)\n",
    "    meas.register_parameter(y2, setpoints=[x1, x2, x3],\n",
    "                            paramtype=paramtype)\n",
    "    start = time.perf_counter()\n",
    "    with meas.run() as datasaver:\n",
    "        start_adding = time.perf_counter()\n",
    "        for i in range(nreps):\n",
    "            datasaver.add_result((x1, np.random.rand(npoints)),\n",
    "                                 (x2, np.random.rand(npoints)),\n",
    "                                 (x3, np.random.rand(npoints)),\n",
    "                                 (y1, np.random.rand(npoints)),\n",
    "                                 (y2, np.random.rand(npoints)))\n",
    "        stop_adding = time.perf_counter()\n",
    "        run_id = datasaver.run_id\n",
    "    stop = time.perf_counter()\n",
    "    tot_time = stop - start\n",
    "    add_time = stop_adding - start_adding\n",
    "    return tot_time, add_time, run_id"
   ]
  },
  {
   "cell_type": "markdown",
   "metadata": {},
   "source": [
    "## Comparison between numeric/array data and binary blob"
   ]
  },
  {
   "cell_type": "markdown",
   "metadata": {},
   "source": [
    "### Case1: Short experiment time"
   ]
  },
  {
   "cell_type": "code",
   "execution_count": 5,
   "metadata": {
    "execution": {
     "iopub.execute_input": "2020-10-14T11:53:40.091041Z",
     "iopub.status.busy": "2020-10-14T11:53:40.090418Z",
     "iopub.status.idle": "2020-10-14T11:53:40.925665Z",
     "shell.execute_reply": "2020-10-14T11:53:40.926374Z"
    }
   },
   "outputs": [
    {
     "name": "stdout",
     "output_type": "stream",
     "text": [
      "Starting experimental run with id: 1. \n",
      "Starting experimental run with id: 2. \n",
      "Starting experimental run with id: 3. \n",
      "Starting experimental run with id: 4. \n",
      "Starting experimental run with id: 5. \n"
     ]
    },
    {
     "name": "stdout",
     "output_type": "stream",
     "text": [
      "Starting experimental run with id: 6. \n"
     ]
    },
    {
     "name": "stdout",
     "output_type": "stream",
     "text": [
      "Starting experimental run with id: 7. \n"
     ]
    },
    {
     "name": "stdout",
     "output_type": "stream",
     "text": [
      "Starting experimental run with id: 8. \n",
      "Starting experimental run with id: 9. \n"
     ]
    },
    {
     "name": "stdout",
     "output_type": "stream",
     "text": [
      "Starting experimental run with id: 10. \n",
      "Starting experimental run with id: 11. \n"
     ]
    },
    {
     "name": "stdout",
     "output_type": "stream",
     "text": [
      "Starting experimental run with id: 12. \n"
     ]
    },
    {
     "name": "stdout",
     "output_type": "stream",
     "text": [
      "Starting experimental run with id: 13. \n"
     ]
    },
    {
     "name": "stdout",
     "output_type": "stream",
     "text": [
      "Starting experimental run with id: 14. \n"
     ]
    }
   ],
   "source": [
    "sizes = [1,500,1000,2000,3000,4000,5000]\n",
    "t_numeric = []\n",
    "t_numeric_add = []\n",
    "t_array = []\n",
    "t_array_add = []\n",
    "for size in sizes:\n",
    "    tn, tna, run_id_n =  insert_data('numeric', size)\n",
    "    t_numeric.append(tn)\n",
    "    t_numeric_add.append(tna)\n",
    "\n",
    "    ta, taa, run_id_a =  insert_data('array', size)\n",
    "    t_array.append(ta)\n",
    "    t_array_add.append(taa)"
   ]
  },
  {
   "cell_type": "code",
   "execution_count": 6,
   "metadata": {
    "execution": {
     "iopub.execute_input": "2020-10-14T11:53:40.954474Z",
     "iopub.status.busy": "2020-10-14T11:53:40.944483Z",
     "iopub.status.idle": "2020-10-14T11:53:41.158803Z",
     "shell.execute_reply": "2020-10-14T11:53:41.159241Z"
    }
   },
   "outputs": [
    {
     "data": {
      "image/png": "[encoded data removed]",
      "text/plain": [
       "<Figure size 432x288 with 1 Axes>"
      ]
     },
     "metadata": {
      "needs_background": "light"
     },
     "output_type": "display_data"
    }
   ],
   "source": [
    "fig, ax = plt.subplots(1,1)\n",
    "ax.plot(sizes, t_numeric, 'o-', label='Inserting row-by-row')\n",
    "ax.plot(sizes, t_numeric_add, 'o-', label='Inserting row-by-row: add_result only')\n",
    "ax.plot(sizes, t_array, 'd-', label='Inserting as binary blob')\n",
    "ax.plot(sizes, t_array_add, 'd-', label='Inserting as binary blob: add_result only')\n",
    "ax.legend()\n",
    "ax.set_xlabel('Array length')\n",
    "ax.set_ylabel('Time (s)')\n",
    "fig.tight_layout()"
   ]
  },
  {
   "cell_type": "markdown",
   "metadata": {},
   "source": [
    "As shown in the latter figure, the time to setup and and close the experiment is approximately 0.4 sec. In case of small array sizes, the difference between inserting values of data as arrays and inserting them row-by-row is relatively unimportant. At larger array sizes, i.e. above 10000 points, the cost of writing data as individual datapoints starts to become important.\n"
   ]
  },
  {
   "cell_type": "markdown",
   "metadata": {},
   "source": [
    "### Case2: Long experiment time "
   ]
  },
  {
   "cell_type": "code",
   "execution_count": 7,
   "metadata": {
    "execution": {
     "iopub.execute_input": "2020-10-14T11:53:41.167219Z",
     "iopub.status.busy": "2020-10-14T11:53:41.164509Z",
     "iopub.status.idle": "2020-10-14T11:54:41.726071Z",
     "shell.execute_reply": "2020-10-14T11:54:41.725198Z"
    }
   },
   "outputs": [
    {
     "name": "stdout",
     "output_type": "stream",
     "text": [
      "Starting experimental run with id: 15. \n",
      "Starting experimental run with id: 16. \n",
      "Starting experimental run with id: 17. \n"
     ]
    },
    {
     "name": "stdout",
     "output_type": "stream",
     "text": [
      "Starting experimental run with id: 18. \n",
      "Starting experimental run with id: 19. \n"
     ]
    },
    {
     "name": "stdout",
     "output_type": "stream",
     "text": [
      "Starting experimental run with id: 20. \n"
     ]
    },
    {
     "name": "stdout",
     "output_type": "stream",
     "text": [
      "Starting experimental run with id: 21. \n"
     ]
    },
    {
     "name": "stdout",
     "output_type": "stream",
     "text": [
      "Starting experimental run with id: 22. \n"
     ]
    },
    {
     "name": "stdout",
     "output_type": "stream",
     "text": [
      "Starting experimental run with id: 23. \n"
     ]
    },
    {
     "name": "stdout",
     "output_type": "stream",
     "text": [
      "Starting experimental run with id: 24. \n"
     ]
    },
    {
     "name": "stdout",
     "output_type": "stream",
     "text": [
      "Starting experimental run with id: 25. \n"
     ]
    },
    {
     "name": "stdout",
     "output_type": "stream",
     "text": [
      "Starting experimental run with id: 26. \n"
     ]
    },
    {
     "name": "stdout",
     "output_type": "stream",
     "text": [
      "Starting experimental run with id: 27. \n"
     ]
    },
    {
     "name": "stdout",
     "output_type": "stream",
     "text": [
      "Starting experimental run with id: 28. \n"
     ]
    }
   ],
   "source": [
    "sizes = [1,500,1000,2000,3000,4000,5000]\n",
    "nreps = 100\n",
    "t_numeric = []\n",
    "t_numeric_add = []\n",
    "t_numeric_run_ids = []\n",
    "t_array = []\n",
    "t_array_add = []\n",
    "t_array_run_ids = []\n",
    "for size in sizes:\n",
    "    tn, tna, run_id_n =  insert_data('numeric', size, nreps=nreps)\n",
    "    t_numeric.append(tn)\n",
    "    t_numeric_add.append(tna)\n",
    "    t_numeric_run_ids.append(run_id_n)\n",
    "\n",
    "    ta, taa, run_id_a =  insert_data('array', size, nreps=nreps)\n",
    "    t_array.append(ta)\n",
    "    t_array_add.append(taa)\n",
    "    t_array_run_ids.append(run_id_a)"
   ]
  },
  {
   "cell_type": "code",
   "execution_count": 8,
   "metadata": {
    "execution": {
     "iopub.execute_input": "2020-10-14T11:54:41.754822Z",
     "iopub.status.busy": "2020-10-14T11:54:41.748963Z",
     "iopub.status.idle": "2020-10-14T11:54:41.969900Z",
     "shell.execute_reply": "2020-10-14T11:54:41.969368Z"
    },
    "scrolled": true
   },
   "outputs": [
    {
     "data": {
      "image/png": "[encoded data removed]",
      "text/plain": [
       "<Figure size 432x288 with 1 Axes>"
      ]
     },
     "metadata": {
      "needs_background": "light"
     },
     "output_type": "display_data"
    }
   ],
   "source": [
    "fig, ax = plt.subplots(1,1)\n",
    "ax.plot(sizes, t_numeric, 'o-', label='Inserting row-by-row')\n",
    "ax.plot(sizes, t_numeric_add, 'o-', label='Inserting row-by-row: add_result only')\n",
    "ax.plot(sizes, t_array, 'd-', label='Inserting as binary blob')\n",
    "ax.plot(sizes, t_array_add, 'd-', label='Inserting as binary blob: add_result only')\n",
    "ax.legend()\n",
    "ax.set_xlabel('Array length')\n",
    "ax.set_ylabel('Time (s)')\n",
    "fig.tight_layout()"
   ]
  },
  {
   "cell_type": "markdown",
   "metadata": {},
   "source": [
    "However, as we increase the length of the experiment, as seen here by repeating the insertion 100 times, we see a big difference between inserting values of the data row-by-row and inserting it as a binary blob."
   ]
  },
  {
   "cell_type": "markdown",
   "metadata": {},
   "source": [
    "## Loading the data "
   ]
  },
  {
   "cell_type": "code",
   "execution_count": 9,
   "metadata": {
    "execution": {
     "iopub.execute_input": "2020-10-14T11:54:41.977273Z",
     "iopub.status.busy": "2020-10-14T11:54:41.975830Z",
     "iopub.status.idle": "2020-10-14T11:54:41.978935Z",
     "shell.execute_reply": "2020-10-14T11:54:41.978357Z"
    }
   },
   "outputs": [],
   "source": [
    "from qcodes.dataset.data_set import load_by_id\n",
    "from qcodes.dataset.data_export import get_data_by_id"
   ]
  },
  {
   "cell_type": "markdown",
   "metadata": {},
   "source": [
    "As usual you can load the data by using the ``load_by_id`` function but you will notice that the different storage methods\n",
    "are reflected in shape of the data as it is retrieved. "
   ]
  },
  {
   "cell_type": "code",
   "execution_count": 10,
   "metadata": {
    "execution": {
     "iopub.execute_input": "2020-10-14T11:54:41.984047Z",
     "iopub.status.busy": "2020-10-14T11:54:41.982675Z",
     "iopub.status.idle": "2020-10-14T11:54:41.984628Z",
     "shell.execute_reply": "2020-10-14T11:54:41.985522Z"
    }
   },
   "outputs": [],
   "source": [
    "run_id_n = t_numeric_run_ids[0]\n",
    "run_id_a = t_array_run_ids[0]"
   ]
  },
  {
   "cell_type": "code",
   "execution_count": 11,
   "metadata": {
    "execution": {
     "iopub.execute_input": "2020-10-14T11:54:41.991163Z",
     "iopub.status.busy": "2020-10-14T11:54:41.990594Z",
     "iopub.status.idle": "2020-10-14T11:54:41.999988Z",
     "shell.execute_reply": "2020-10-14T11:54:42.000453Z"
    },
    "scrolled": true
   },
   "outputs": [
    {
     "data": {
      "text/plain": [
       "{'x1': {'x1': array([0.69614152, 0.69614152, 0.4250316 , 0.4250316 , 0.42274016,\n",
       "         0.42274016, 0.06836074, 0.06836074, 0.82904899, 0.82904899,\n",
       "         0.43964522, 0.43964522, 0.96690255, 0.96690255, 0.17268392,\n",
       "         0.17268392, 0.95517982, 0.95517982, 0.23472377, 0.23472377,\n",
       "         0.18956232, 0.18956232, 0.0871701 , 0.0871701 , 0.6989914 ,\n",
       "         0.6989914 , 0.87065285, 0.87065285, 0.87315724, 0.87315724,\n",
       "         0.67453309, 0.67453309, 0.60231234, 0.60231234, 0.54312237,\n",
       "         0.54312237, 0.34690378, 0.34690378, 0.93668948, 0.93668948,\n",
       "         0.96717373, 0.96717373, 0.11286498, 0.11286498, 0.30766987,\n",
       "         0.30766987, 0.26505773, 0.26505773, 0.89539562, 0.89539562,\n",
       "         0.39031184, 0.39031184, 0.99965072, 0.99965072, 0.96084753,\n",
       "         0.96084753, 0.6287434 , 0.6287434 , 0.89017372, 0.89017372,\n",
       "         0.03631157, 0.03631157, 0.98781411, 0.98781411, 0.58135076,\n",
       "         0.58135076, 0.95118693, 0.95118693, 0.70499886, 0.70499886,\n",
       "         0.15079667, 0.15079667, 0.16622583, 0.16622583, 0.67117906,\n",
       "         0.67117906, 0.52101401, 0.52101401, 0.69398242, 0.69398242,\n",
       "         0.63113614, 0.63113614, 0.50896538, 0.50896538, 0.79307903,\n",
       "         0.79307903, 0.42606491, 0.42606491, 0.66705881, 0.66705881,\n",
       "         0.52461463, 0.52461463, 0.61379565, 0.61379565, 0.02744706,\n",
       "         0.02744706, 0.65883687, 0.65883687, 0.39876949, 0.39876949,\n",
       "         0.09531085, 0.09531085, 0.93662727, 0.93662727, 0.67186764,\n",
       "         0.67186764, 0.04312218, 0.04312218, 0.59363305, 0.59363305,\n",
       "         0.63270169, 0.63270169, 0.28597957, 0.28597957, 0.2610918 ,\n",
       "         0.2610918 , 0.40004623, 0.40004623, 0.47658468, 0.47658468,\n",
       "         0.15934479, 0.15934479, 0.58436977, 0.58436977, 0.85212967,\n",
       "         0.85212967, 0.20865075, 0.20865075, 0.75121819, 0.75121819,\n",
       "         0.69001253, 0.69001253, 0.29525815, 0.29525815, 0.41393999,\n",
       "         0.41393999, 0.87410521, 0.87410521, 0.39721682, 0.39721682,\n",
       "         0.91308198, 0.91308198, 0.71123232, 0.71123232, 0.79155861,\n",
       "         0.79155861, 0.85894893, 0.85894893, 0.16444007, 0.16444007,\n",
       "         0.07941634, 0.07941634, 0.25600888, 0.25600888, 0.94274953,\n",
       "         0.94274953, 0.588339  , 0.588339  , 0.98559631, 0.98559631,\n",
       "         0.92422975, 0.92422975, 0.34373711, 0.34373711, 0.41914058,\n",
       "         0.41914058, 0.29243039, 0.29243039, 0.56435154, 0.56435154,\n",
       "         0.53864036, 0.53864036, 0.92620114, 0.92620114, 0.41874342,\n",
       "         0.41874342, 0.87541214, 0.87541214, 0.57412577, 0.57412577,\n",
       "         0.20562029, 0.20562029, 0.31486947, 0.31486947, 0.94077417,\n",
       "         0.94077417, 0.44067639, 0.44067639, 0.65598248, 0.65598248,\n",
       "         0.285727  , 0.285727  , 0.52233245, 0.52233245, 0.96093274,\n",
       "         0.96093274, 0.839663  , 0.839663  , 0.64307428, 0.64307428])}}"
      ]
     },
     "execution_count": 1,
     "metadata": {},
     "output_type": "execute_result"
    }
   ],
   "source": [
    "ds = load_by_id(run_id_n)\n",
    "ds.get_parameter_data('x1')"
   ]
  },
  {
   "cell_type": "markdown",
   "metadata": {},
   "source": [
    "And a dataset stored as binary arrays"
   ]
  },
  {
   "cell_type": "code",
   "execution_count": 12,
   "metadata": {
    "execution": {
     "iopub.execute_input": "2020-10-14T11:54:42.004074Z",
     "iopub.status.busy": "2020-10-14T11:54:42.003434Z",
     "iopub.status.idle": "2020-10-14T11:54:42.066400Z",
     "shell.execute_reply": "2020-10-14T11:54:42.067005Z"
    },
    "scrolled": true
   },
   "outputs": [
    {
     "data": {
      "text/plain": [
       "{'x1': {'x1': array([[0.70142365],\n",
       "         [0.70142365],\n",
       "         [0.11450524],\n",
       "         [0.11450524],\n",
       "         [0.99606585],\n",
       "         [0.99606585],\n",
       "         [0.98806529],\n",
       "         [0.98806529],\n",
       "         [0.67816098],\n",
       "         [0.67816098],\n",
       "         [0.53806304],\n",
       "         [0.53806304],\n",
       "         [0.64106987],\n",
       "         [0.64106987],\n",
       "         [0.11443475],\n",
       "         [0.11443475],\n",
       "         [0.05317058],\n",
       "         [0.05317058],\n",
       "         [0.81925287],\n",
       "         [0.81925287],\n",
       "         [0.16868945],\n",
       "         [0.16868945],\n",
       "         [0.88040114],\n",
       "         [0.88040114],\n",
       "         [0.49694228],\n",
       "         [0.49694228],\n",
       "         [0.28849463],\n",
       "         [0.28849463],\n",
       "         [0.56079764],\n",
       "         [0.56079764],\n",
       "         [0.68088757],\n",
       "         [0.68088757],\n",
       "         [0.25323736],\n",
       "         [0.25323736],\n",
       "         [0.27663533],\n",
       "         [0.27663533],\n",
       "         [0.06809742],\n",
       "         [0.06809742],\n",
       "         [0.5515958 ],\n",
       "         [0.5515958 ],\n",
       "         [0.73206907],\n",
       "         [0.73206907],\n",
       "         [0.63569413],\n",
       "         [0.63569413],\n",
       "         [0.66020901],\n",
       "         [0.66020901],\n",
       "         [0.87249161],\n",
       "         [0.87249161],\n",
       "         [0.35698317],\n",
       "         [0.35698317],\n",
       "         [0.61964802],\n",
       "         [0.61964802],\n",
       "         [0.74016221],\n",
       "         [0.74016221],\n",
       "         [0.90549084],\n",
       "         [0.90549084],\n",
       "         [0.89817012],\n",
       "         [0.89817012],\n",
       "         [0.01342058],\n",
       "         [0.01342058],\n",
       "         [0.69096056],\n",
       "         [0.69096056],\n",
       "         [0.04892718],\n",
       "         [0.04892718],\n",
       "         [0.05642529],\n",
       "         [0.05642529],\n",
       "         [0.64089117],\n",
       "         [0.64089117],\n",
       "         [0.44867284],\n",
       "         [0.44867284],\n",
       "         [0.00879987],\n",
       "         [0.00879987],\n",
       "         [0.04399436],\n",
       "         [0.04399436],\n",
       "         [0.78526725],\n",
       "         [0.78526725],\n",
       "         [0.60476854],\n",
       "         [0.60476854],\n",
       "         [0.93478547],\n",
       "         [0.93478547],\n",
       "         [0.963039  ],\n",
       "         [0.963039  ],\n",
       "         [0.94719593],\n",
       "         [0.94719593],\n",
       "         [0.70065246],\n",
       "         [0.70065246],\n",
       "         [0.81847351],\n",
       "         [0.81847351],\n",
       "         [0.42079712],\n",
       "         [0.42079712],\n",
       "         [0.96014561],\n",
       "         [0.96014561],\n",
       "         [0.47524566],\n",
       "         [0.47524566],\n",
       "         [0.95152893],\n",
       "         [0.95152893],\n",
       "         [0.61746568],\n",
       "         [0.61746568],\n",
       "         [0.22242537],\n",
       "         [0.22242537],\n",
       "         [0.60882791],\n",
       "         [0.60882791],\n",
       "         [0.46140077],\n",
       "         [0.46140077],\n",
       "         [0.13030514],\n",
       "         [0.13030514],\n",
       "         [0.01000394],\n",
       "         [0.01000394],\n",
       "         [0.24075297],\n",
       "         [0.24075297],\n",
       "         [0.69447773],\n",
       "         [0.69447773],\n",
       "         [0.82008827],\n",
       "         [0.82008827],\n",
       "         [0.47113475],\n",
       "         [0.47113475],\n",
       "         [0.84419616],\n",
       "         [0.84419616],\n",
       "         [0.9326391 ],\n",
       "         [0.9326391 ],\n",
       "         [0.29081239],\n",
       "         [0.29081239],\n",
       "         [0.81019451],\n",
       "         [0.81019451],\n",
       "         [0.41142468],\n",
       "         [0.41142468],\n",
       "         [0.01273873],\n",
       "         [0.01273873],\n",
       "         [0.59728858],\n",
       "         [0.59728858],\n",
       "         [0.0642283 ],\n",
       "         [0.0642283 ],\n",
       "         [0.78503348],\n",
       "         [0.78503348],\n",
       "         [0.41182742],\n",
       "         [0.41182742],\n",
       "         [0.41041379],\n",
       "         [0.41041379],\n",
       "         [0.25113207],\n",
       "         [0.25113207],\n",
       "         [0.32876933],\n",
       "         [0.32876933],\n",
       "         [0.42795889],\n",
       "         [0.42795889],\n",
       "         [0.70877873],\n",
       "         [0.70877873],\n",
       "         [0.88302736],\n",
       "         [0.88302736],\n",
       "         [0.36061657],\n",
       "         [0.36061657],\n",
       "         [0.14311408],\n",
       "         [0.14311408],\n",
       "         [0.47830658],\n",
       "         [0.47830658],\n",
       "         [0.94660089],\n",
       "         [0.94660089],\n",
       "         [0.81305067],\n",
       "         [0.81305067],\n",
       "         [0.92641219],\n",
       "         [0.92641219],\n",
       "         [0.69279551],\n",
       "         [0.69279551],\n",
       "         [0.52164773],\n",
       "         [0.52164773],\n",
       "         [0.82623431],\n",
       "         [0.82623431],\n",
       "         [0.78529005],\n",
       "         [0.78529005],\n",
       "         [0.77373737],\n",
       "         [0.77373737],\n",
       "         [0.07853579],\n",
       "         [0.07853579],\n",
       "         [0.90650479],\n",
       "         [0.90650479],\n",
       "         [0.35495502],\n",
       "         [0.35495502],\n",
       "         [0.87122585],\n",
       "         [0.87122585],\n",
       "         [0.3839918 ],\n",
       "         [0.3839918 ],\n",
       "         [0.35390022],\n",
       "         [0.35390022],\n",
       "         [0.59180824],\n",
       "         [0.59180824],\n",
       "         [0.64952906],\n",
       "         [0.64952906],\n",
       "         [0.68714881],\n",
       "         [0.68714881],\n",
       "         [0.25910513],\n",
       "         [0.25910513],\n",
       "         [0.64491436],\n",
       "         [0.64491436],\n",
       "         [0.46287393],\n",
       "         [0.46287393],\n",
       "         [0.02274295],\n",
       "         [0.02274295],\n",
       "         [0.57561806],\n",
       "         [0.57561806],\n",
       "         [0.65290838],\n",
       "         [0.65290838]])}}"
      ]
     },
     "execution_count": 1,
     "metadata": {},
     "output_type": "execute_result"
    }
   ],
   "source": [
    "ds = load_by_id(run_id_a)\n",
    "ds.get_parameter_data('x1')"
   ]
  },
  {
   "cell_type": "code",
   "execution_count": null,
   "metadata": {},
   "outputs": [],
   "source": []
  }
 ],
 "metadata": {
  "kernelspec": {
   "display_name": "Python 3",
   "language": "python",
   "name": "python3"
  },
  "language_info": {
   "codemirror_mode": {
    "name": "ipython",
    "version": 3
   },
   "file_extension": ".py",
   "mimetype": "text/x-python",
   "name": "python",
   "nbconvert_exporter": "python",
   "pygments_lexer": "ipython3",
   "version": "3.7.7"
  },
  "nbsphinx": {
   "timeout": 600
  },
  "toc": {
   "base_numbering": 1,
   "nav_menu": {},
   "number_sections": true,
   "sideBar": true,
   "skip_h1_title": false,
   "title_cell": "Table of Contents",
   "title_sidebar": "Contents",
   "toc_cell": false,
   "toc_position": {},
   "toc_section_display": true,
   "toc_window_display": false
  },
  "varInspector": {
   "cols": {
    "lenName": 16,
    "lenType": 16,
    "lenVar": 40
   },
   "kernels_config": {
    "python": {
     "delete_cmd_postfix": "",
     "delete_cmd_prefix": "del ",
     "library": "var_list.py",
     "varRefreshCmd": "print(var_dic_list())"
    },
    "r": {
     "delete_cmd_postfix": ") ",
     "delete_cmd_prefix": "rm(",
     "library": "var_list.r",
     "varRefreshCmd": "cat(var_dic_list()) "
    }
   },
   "types_to_exclude": [
    "module",
    "function",
    "builtin_function_or_method",
    "instance",
    "_Feature"
   ],
   "window_display": false
  }
 },
 "nbformat": 4,
 "nbformat_minor": 2
}
