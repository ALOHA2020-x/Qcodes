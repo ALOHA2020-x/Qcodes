{
 "cells": [
  {
   "cell_type": "markdown",
   "metadata": {},
   "source": [
    "# DataSet Performance\n",
    "\n",
    "This notebook shows the trade-off between inserting data into a database row-by-row and as binary blobs. Inserting the data row-by-row means that we have direct access to all the data and may perform queries directly on the values of the data. On the other hand, as we shall see, this is much slower than inserting the data directly as binary blobs."
   ]
  },
  {
   "cell_type": "markdown",
   "metadata": {},
   "source": [
    "First, we choose a new location for the database to ensure that we don't add a bunch of benchmarking data to the default one."
   ]
  },
  {
   "cell_type": "code",
   "execution_count": 1,
   "metadata": {
    "execution": {
     "iopub.execute_input": "2020-11-20T15:02:03.236546Z",
     "iopub.status.busy": "2020-11-20T15:02:03.235523Z",
     "iopub.status.idle": "2020-11-20T15:02:04.403779Z",
     "shell.execute_reply": "2020-11-20T15:02:04.404293Z"
    }
   },
   "outputs": [
    {
     "name": "stdout",
     "output_type": "stream",
     "text": [
      "Logging hadn't been started.\n",
      "Activating auto-logging. Current session state plus future input saved.\n",
      "Filename       : /home/vsts/.qcodes/logs/command_history.log\n",
      "Mode           : append\n",
      "Output logging : True\n",
      "Raw input log  : False\n",
      "Timestamping   : True\n",
      "State          : active\n"
     ]
    },
    {
     "name": "stdout",
     "output_type": "stream",
     "text": [
      "Qcodes Logfile : /home/vsts/.qcodes/logs/201120-14055-qcodes.log\n"
     ]
    }
   ],
   "source": [
    "import os\n",
    "cwd = os.getcwd()\n",
    "import qcodes as qc\n",
    "qc.config[\"core\"][\"db_location\"] = os.path.join(cwd, 'testing.db')\n"
   ]
  },
  {
   "cell_type": "code",
   "execution_count": 2,
   "metadata": {
    "execution": {
     "iopub.execute_input": "2020-11-20T15:02:04.411756Z",
     "iopub.status.busy": "2020-11-20T15:02:04.410576Z",
     "iopub.status.idle": "2020-11-20T15:02:04.624922Z",
     "shell.execute_reply": "2020-11-20T15:02:04.624196Z"
    }
   },
   "outputs": [],
   "source": [
    "%matplotlib inline\n",
    "import time\n",
    "import matplotlib.pyplot as plt\n",
    "import numpy as np\n",
    "\n",
    "import qcodes as qc\n",
    "from qcodes.instrument.parameter import ManualParameter\n",
    "from qcodes.dataset.experiment_container import (Experiment,\n",
    "                                                 load_last_experiment,\n",
    "                                                 new_experiment)\n",
    "from qcodes.dataset.sqlite.database import initialise_database\n",
    "from qcodes import load_or_create_experiment\n",
    "from qcodes.dataset.measurements import Measurement"
   ]
  },
  {
   "cell_type": "code",
   "execution_count": 3,
   "metadata": {
    "execution": {
     "iopub.execute_input": "2020-11-20T15:02:04.629673Z",
     "iopub.status.busy": "2020-11-20T15:02:04.628803Z",
     "iopub.status.idle": "2020-11-20T15:02:04.760732Z",
     "shell.execute_reply": "2020-11-20T15:02:04.761277Z"
    }
   },
   "outputs": [
    {
     "name": "stdout",
     "output_type": "stream",
     "text": [
      "\r",
      "0it [00:00, ?it/s]"
     ]
    },
    {
     "name": "stdout",
     "output_type": "stream",
     "text": [
      "\r",
      "Upgrading database; v0 -> v1: : 0it [00:00, ?it/s]"
     ]
    },
    {
     "name": "stdout",
     "output_type": "stream",
     "text": [
      "\r",
      "Upgrading database; v0 -> v1: : 0it [00:00, ?it/s]"
     ]
    },
    {
     "name": "stdout",
     "output_type": "stream",
     "text": [
      "\n",
      "\r",
      "  0%|          | 0/1 [00:00<?, ?it/s]"
     ]
    },
    {
     "name": "stdout",
     "output_type": "stream",
     "text": [
      "\r",
      "Upgrading database; v1 -> v2:   0%|          | 0/1 [00:00<?, ?it/s]"
     ]
    },
    {
     "name": "stdout",
     "output_type": "stream",
     "text": [
      "\r",
      "Upgrading database; v1 -> v2: 100%|██████████| 1/1 [00:00<00:00, 956.51it/s]"
     ]
    },
    {
     "name": "stdout",
     "output_type": "stream",
     "text": [
      "\n",
      "\r",
      "0it [00:00, ?it/s]"
     ]
    },
    {
     "name": "stdout",
     "output_type": "stream",
     "text": [
      "\r",
      "Upgrading database; v2 -> v3: : 0it [00:00, ?it/s]"
     ]
    },
    {
     "name": "stdout",
     "output_type": "stream",
     "text": [
      "\r",
      "Upgrading database; v2 -> v3: : 0it [00:00, ?it/s]"
     ]
    },
    {
     "name": "stdout",
     "output_type": "stream",
     "text": [
      "\n",
      "\r",
      "0it [00:00, ?it/s]"
     ]
    },
    {
     "name": "stdout",
     "output_type": "stream",
     "text": [
      "\r",
      "Upgrading database; v3 -> v4: : 0it [00:00, ?it/s]"
     ]
    },
    {
     "name": "stdout",
     "output_type": "stream",
     "text": [
      "\r",
      "Upgrading database; v3 -> v4: : 0it [00:00, ?it/s]"
     ]
    },
    {
     "name": "stdout",
     "output_type": "stream",
     "text": [
      "\n",
      "\r",
      "  0%|          | 0/1 [00:00<?, ?it/s]"
     ]
    },
    {
     "name": "stdout",
     "output_type": "stream",
     "text": [
      "\r",
      "Upgrading database; v4 -> v5:   0%|          | 0/1 [00:00<?, ?it/s]"
     ]
    },
    {
     "name": "stdout",
     "output_type": "stream",
     "text": [
      "\r",
      "Upgrading database; v4 -> v5: 100%|██████████| 1/1 [00:00<00:00, 502.61it/s]"
     ]
    },
    {
     "name": "stdout",
     "output_type": "stream",
     "text": [
      "\n",
      "\r",
      "0it [00:00, ?it/s]"
     ]
    },
    {
     "name": "stdout",
     "output_type": "stream",
     "text": [
      "\r",
      "Upgrading database; v5 -> v6: : 0it [00:00, ?it/s]"
     ]
    },
    {
     "name": "stdout",
     "output_type": "stream",
     "text": [
      "\r",
      "Upgrading database; v5 -> v6: : 0it [00:00, ?it/s]"
     ]
    },
    {
     "name": "stdout",
     "output_type": "stream",
     "text": [
      "\n",
      "\r",
      "  0%|          | 0/1 [00:00<?, ?it/s]"
     ]
    },
    {
     "name": "stdout",
     "output_type": "stream",
     "text": [
      "\r",
      "Upgrading database; v6 -> v7:   0%|          | 0/1 [00:00<?, ?it/s]"
     ]
    },
    {
     "name": "stdout",
     "output_type": "stream",
     "text": [
      "\r",
      "Upgrading database; v6 -> v7: 100%|██████████| 1/1 [00:00<00:00, 235.32it/s]"
     ]
    },
    {
     "name": "stdout",
     "output_type": "stream",
     "text": [
      "\n",
      "\r",
      "  0%|          | 0/1 [00:00<?, ?it/s]"
     ]
    },
    {
     "name": "stdout",
     "output_type": "stream",
     "text": [
      "\r",
      "Upgrading database; v7 -> v8:   0%|          | 0/1 [00:00<?, ?it/s]"
     ]
    },
    {
     "name": "stdout",
     "output_type": "stream",
     "text": [
      "\r",
      "Upgrading database; v7 -> v8: 100%|██████████| 1/1 [00:00<00:00, 567.80it/s]"
     ]
    },
    {
     "name": "stdout",
     "output_type": "stream",
     "text": [
      "\n",
      "\r",
      "  0%|          | 0/1 [00:00<?, ?it/s]"
     ]
    },
    {
     "name": "stdout",
     "output_type": "stream",
     "text": [
      "\r",
      "Upgrading database; v8 -> v9:   0%|          | 0/1 [00:00<?, ?it/s]"
     ]
    },
    {
     "name": "stdout",
     "output_type": "stream",
     "text": [
      "\r",
      "Upgrading database; v8 -> v9: 100%|██████████| 1/1 [00:00<00:00, 904.53it/s]"
     ]
    },
    {
     "name": "stdout",
     "output_type": "stream",
     "text": [
      "\n"
     ]
    }
   ],
   "source": [
    "initialise_database()\n",
    "exp = load_or_create_experiment(experiment_name='tutorial_exp', sample_name=\"no sample\")"
   ]
  },
  {
   "cell_type": "markdown",
   "metadata": {},
   "source": [
    "Here, we define a simple function to benchmark the time it takes to insert n points with either numeric or array data type.\n",
    "We will compare both the time used to call ``add_result`` and the time used for the full measurement."
   ]
  },
  {
   "cell_type": "code",
   "execution_count": 4,
   "metadata": {
    "execution": {
     "iopub.execute_input": "2020-11-20T15:02:04.769893Z",
     "iopub.status.busy": "2020-11-20T15:02:04.768481Z",
     "iopub.status.idle": "2020-11-20T15:02:04.773533Z",
     "shell.execute_reply": "2020-11-20T15:02:04.772960Z"
    }
   },
   "outputs": [],
   "source": [
    "def insert_data(paramtype, npoints, nreps=1):\n",
    "\n",
    "    meas = Measurement(exp=exp)\n",
    "\n",
    "    x1 = ManualParameter('x1')\n",
    "    x2 = ManualParameter('x2')\n",
    "    x3 = ManualParameter('x3')\n",
    "    y1 = ManualParameter('y1')\n",
    "    y2 = ManualParameter('y2')\n",
    "\n",
    "    meas.register_parameter(x1, paramtype=paramtype)\n",
    "    meas.register_parameter(x2, paramtype=paramtype)\n",
    "    meas.register_parameter(x3, paramtype=paramtype)\n",
    "    meas.register_parameter(y1, setpoints=[x1, x2, x3],\n",
    "                            paramtype=paramtype)\n",
    "    meas.register_parameter(y2, setpoints=[x1, x2, x3],\n",
    "                            paramtype=paramtype)\n",
    "    start = time.perf_counter()\n",
    "    with meas.run() as datasaver:\n",
    "        start_adding = time.perf_counter()\n",
    "        for i in range(nreps):\n",
    "            datasaver.add_result((x1, np.random.rand(npoints)),\n",
    "                                 (x2, np.random.rand(npoints)),\n",
    "                                 (x3, np.random.rand(npoints)),\n",
    "                                 (y1, np.random.rand(npoints)),\n",
    "                                 (y2, np.random.rand(npoints)))\n",
    "        stop_adding = time.perf_counter()\n",
    "        run_id = datasaver.run_id\n",
    "    stop = time.perf_counter()\n",
    "    tot_time = stop - start\n",
    "    add_time = stop_adding - start_adding\n",
    "    return tot_time, add_time, run_id"
   ]
  },
  {
   "cell_type": "markdown",
   "metadata": {},
   "source": [
    "## Comparison between numeric/array data and binary blob"
   ]
  },
  {
   "cell_type": "markdown",
   "metadata": {},
   "source": [
    "### Case1: Short experiment time"
   ]
  },
  {
   "cell_type": "code",
   "execution_count": 5,
   "metadata": {
    "execution": {
     "iopub.execute_input": "2020-11-20T15:02:04.781770Z",
     "iopub.status.busy": "2020-11-20T15:02:04.780443Z",
     "iopub.status.idle": "2020-11-20T15:02:05.690580Z",
     "shell.execute_reply": "2020-11-20T15:02:05.691074Z"
    }
   },
   "outputs": [
    {
     "name": "stdout",
     "output_type": "stream",
     "text": [
      "Starting experimental run with id: 1. \n",
      "Starting experimental run with id: 2. \n",
      "Starting experimental run with id: 3. \n",
      "Starting experimental run with id: 4. \n"
     ]
    },
    {
     "name": "stdout",
     "output_type": "stream",
     "text": [
      "Starting experimental run with id: 5. \n"
     ]
    },
    {
     "name": "stdout",
     "output_type": "stream",
     "text": [
      "Starting experimental run with id: 6. \n"
     ]
    },
    {
     "name": "stdout",
     "output_type": "stream",
     "text": [
      "Starting experimental run with id: 7. \n"
     ]
    },
    {
     "name": "stdout",
     "output_type": "stream",
     "text": [
      "Starting experimental run with id: 8. \n",
      "Starting experimental run with id: 9. \n"
     ]
    },
    {
     "name": "stdout",
     "output_type": "stream",
     "text": [
      "Starting experimental run with id: 10. \n",
      "Starting experimental run with id: 11. \n"
     ]
    },
    {
     "name": "stdout",
     "output_type": "stream",
     "text": [
      "Starting experimental run with id: 12. \n"
     ]
    },
    {
     "name": "stdout",
     "output_type": "stream",
     "text": [
      "Starting experimental run with id: 13. \n"
     ]
    },
    {
     "name": "stdout",
     "output_type": "stream",
     "text": [
      "Starting experimental run with id: 14. \n"
     ]
    }
   ],
   "source": [
    "sizes = [1,500,1000,2000,3000,4000,5000]\n",
    "t_numeric = []\n",
    "t_numeric_add = []\n",
    "t_array = []\n",
    "t_array_add = []\n",
    "for size in sizes:\n",
    "    tn, tna, run_id_n =  insert_data('numeric', size)\n",
    "    t_numeric.append(tn)\n",
    "    t_numeric_add.append(tna)\n",
    "\n",
    "    ta, taa, run_id_a =  insert_data('array', size)\n",
    "    t_array.append(ta)\n",
    "    t_array_add.append(taa)"
   ]
  },
  {
   "cell_type": "code",
   "execution_count": 6,
   "metadata": {
    "execution": {
     "iopub.execute_input": "2020-11-20T15:02:05.710520Z",
     "iopub.status.busy": "2020-11-20T15:02:05.695814Z",
     "iopub.status.idle": "2020-11-20T15:02:05.928630Z",
     "shell.execute_reply": "2020-11-20T15:02:05.929505Z"
    }
   },
   "outputs": [
    {
     "data": {
      "image/png": "[encoded data removed]",
      "text/plain": [
       "<Figure size 432x288 with 1 Axes>"
      ]
     },
     "metadata": {
      "needs_background": "light"
     },
     "output_type": "display_data"
    }
   ],
   "source": [
    "fig, ax = plt.subplots(1,1)\n",
    "ax.plot(sizes, t_numeric, 'o-', label='Inserting row-by-row')\n",
    "ax.plot(sizes, t_numeric_add, 'o-', label='Inserting row-by-row: add_result only')\n",
    "ax.plot(sizes, t_array, 'd-', label='Inserting as binary blob')\n",
    "ax.plot(sizes, t_array_add, 'd-', label='Inserting as binary blob: add_result only')\n",
    "ax.legend()\n",
    "ax.set_xlabel('Array length')\n",
    "ax.set_ylabel('Time (s)')\n",
    "fig.tight_layout()"
   ]
  },
  {
   "cell_type": "markdown",
   "metadata": {},
   "source": [
    "As shown in the latter figure, the time to setup and and close the experiment is approximately 0.4 sec. In case of small array sizes, the difference between inserting values of data as arrays and inserting them row-by-row is relatively unimportant. At larger array sizes, i.e. above 10000 points, the cost of writing data as individual datapoints starts to become important.\n"
   ]
  },
  {
   "cell_type": "markdown",
   "metadata": {},
   "source": [
    "### Case2: Long experiment time "
   ]
  },
  {
   "cell_type": "code",
   "execution_count": 7,
   "metadata": {
    "execution": {
     "iopub.execute_input": "2020-11-20T15:02:05.937411Z",
     "iopub.status.busy": "2020-11-20T15:02:05.936096Z",
     "iopub.status.idle": "2020-11-20T15:03:09.486095Z",
     "shell.execute_reply": "2020-11-20T15:03:09.486965Z"
    }
   },
   "outputs": [
    {
     "name": "stdout",
     "output_type": "stream",
     "text": [
      "Starting experimental run with id: 15. \n",
      "Starting experimental run with id: 16. \n",
      "Starting experimental run with id: 17. \n"
     ]
    },
    {
     "name": "stdout",
     "output_type": "stream",
     "text": [
      "Starting experimental run with id: 18. \n",
      "Starting experimental run with id: 19. \n"
     ]
    },
    {
     "name": "stdout",
     "output_type": "stream",
     "text": [
      "Starting experimental run with id: 20. \n"
     ]
    },
    {
     "name": "stdout",
     "output_type": "stream",
     "text": [
      "Starting experimental run with id: 21. \n"
     ]
    },
    {
     "name": "stdout",
     "output_type": "stream",
     "text": [
      "Starting experimental run with id: 22. \n"
     ]
    },
    {
     "name": "stdout",
     "output_type": "stream",
     "text": [
      "Starting experimental run with id: 23. \n"
     ]
    },
    {
     "name": "stdout",
     "output_type": "stream",
     "text": [
      "Starting experimental run with id: 24. \n"
     ]
    },
    {
     "name": "stdout",
     "output_type": "stream",
     "text": [
      "Starting experimental run with id: 25. \n"
     ]
    },
    {
     "name": "stdout",
     "output_type": "stream",
     "text": [
      "Starting experimental run with id: 26. \n"
     ]
    },
    {
     "name": "stdout",
     "output_type": "stream",
     "text": [
      "Starting experimental run with id: 27. \n"
     ]
    },
    {
     "name": "stdout",
     "output_type": "stream",
     "text": [
      "Starting experimental run with id: 28. \n"
     ]
    }
   ],
   "source": [
    "sizes = [1,500,1000,2000,3000,4000,5000]\n",
    "nreps = 100\n",
    "t_numeric = []\n",
    "t_numeric_add = []\n",
    "t_numeric_run_ids = []\n",
    "t_array = []\n",
    "t_array_add = []\n",
    "t_array_run_ids = []\n",
    "for size in sizes:\n",
    "    tn, tna, run_id_n =  insert_data('numeric', size, nreps=nreps)\n",
    "    t_numeric.append(tn)\n",
    "    t_numeric_add.append(tna)\n",
    "    t_numeric_run_ids.append(run_id_n)\n",
    "\n",
    "    ta, taa, run_id_a =  insert_data('array', size, nreps=nreps)\n",
    "    t_array.append(ta)\n",
    "    t_array_add.append(taa)\n",
    "    t_array_run_ids.append(run_id_a)"
   ]
  },
  {
   "cell_type": "code",
   "execution_count": 8,
   "metadata": {
    "execution": {
     "iopub.execute_input": "2020-11-20T15:03:09.510724Z",
     "iopub.status.busy": "2020-11-20T15:03:09.508422Z",
     "iopub.status.idle": "2020-11-20T15:03:09.735860Z",
     "shell.execute_reply": "2020-11-20T15:03:09.736446Z"
    },
    "scrolled": true
   },
   "outputs": [
    {
     "data": {
      "image/png": "[encoded data removed]",
      "text/plain": [
       "<Figure size 432x288 with 1 Axes>"
      ]
     },
     "metadata": {
      "needs_background": "light"
     },
     "output_type": "display_data"
    }
   ],
   "source": [
    "fig, ax = plt.subplots(1,1)\n",
    "ax.plot(sizes, t_numeric, 'o-', label='Inserting row-by-row')\n",
    "ax.plot(sizes, t_numeric_add, 'o-', label='Inserting row-by-row: add_result only')\n",
    "ax.plot(sizes, t_array, 'd-', label='Inserting as binary blob')\n",
    "ax.plot(sizes, t_array_add, 'd-', label='Inserting as binary blob: add_result only')\n",
    "ax.legend()\n",
    "ax.set_xlabel('Array length')\n",
    "ax.set_ylabel('Time (s)')\n",
    "fig.tight_layout()"
   ]
  },
  {
   "cell_type": "markdown",
   "metadata": {},
   "source": [
    "However, as we increase the length of the experiment, as seen here by repeating the insertion 100 times, we see a big difference between inserting values of the data row-by-row and inserting it as a binary blob."
   ]
  },
  {
   "cell_type": "markdown",
   "metadata": {},
   "source": [
    "## Loading the data "
   ]
  },
  {
   "cell_type": "code",
   "execution_count": 9,
   "metadata": {
    "execution": {
     "iopub.execute_input": "2020-11-20T15:03:09.741488Z",
     "iopub.status.busy": "2020-11-20T15:03:09.740269Z",
     "iopub.status.idle": "2020-11-20T15:03:09.745867Z",
     "shell.execute_reply": "2020-11-20T15:03:09.745343Z"
    }
   },
   "outputs": [],
   "source": [
    "from qcodes.dataset.data_set import load_by_id\n",
    "from qcodes.dataset.data_export import get_data_by_id"
   ]
  },
  {
   "cell_type": "markdown",
   "metadata": {},
   "source": [
    "As usual you can load the data by using the ``load_by_id`` function but you will notice that the different storage methods\n",
    "are reflected in shape of the data as it is retrieved. "
   ]
  },
  {
   "cell_type": "code",
   "execution_count": 10,
   "metadata": {
    "execution": {
     "iopub.execute_input": "2020-11-20T15:03:09.751437Z",
     "iopub.status.busy": "2020-11-20T15:03:09.750043Z",
     "iopub.status.idle": "2020-11-20T15:03:09.752221Z",
     "shell.execute_reply": "2020-11-20T15:03:09.752760Z"
    }
   },
   "outputs": [],
   "source": [
    "run_id_n = t_numeric_run_ids[0]\n",
    "run_id_a = t_array_run_ids[0]"
   ]
  },
  {
   "cell_type": "code",
   "execution_count": 11,
   "metadata": {
    "execution": {
     "iopub.execute_input": "2020-11-20T15:03:09.756432Z",
     "iopub.status.busy": "2020-11-20T15:03:09.755760Z",
     "iopub.status.idle": "2020-11-20T15:03:09.766768Z",
     "shell.execute_reply": "2020-11-20T15:03:09.767368Z"
    },
    "scrolled": true
   },
   "outputs": [
    {
     "data": {
      "text/plain": [
       "{'x1': {'x1': array([0.40881146, 0.40881146, 0.18232781, 0.18232781, 0.18433578,\n",
       "         0.18433578, 0.40183359, 0.40183359, 0.83107185, 0.83107185,\n",
       "         0.90046834, 0.90046834, 0.24769048, 0.24769048, 0.84439559,\n",
       "         0.84439559, 0.48955014, 0.48955014, 0.8961469 , 0.8961469 ,\n",
       "         0.19385959, 0.19385959, 0.91059107, 0.91059107, 0.91141336,\n",
       "         0.91141336, 0.63854167, 0.63854167, 0.35904976, 0.35904976,\n",
       "         0.65350292, 0.65350292, 0.86929015, 0.86929015, 0.59408471,\n",
       "         0.59408471, 0.51500863, 0.51500863, 0.64554287, 0.64554287,\n",
       "         0.56229359, 0.56229359, 0.41659473, 0.41659473, 0.10375238,\n",
       "         0.10375238, 0.47452968, 0.47452968, 0.59138806, 0.59138806,\n",
       "         0.70021803, 0.70021803, 0.88953323, 0.88953323, 0.94370118,\n",
       "         0.94370118, 0.34481504, 0.34481504, 0.26124342, 0.26124342,\n",
       "         0.61752469, 0.61752469, 0.73798087, 0.73798087, 0.79877754,\n",
       "         0.79877754, 0.20282134, 0.20282134, 0.1739747 , 0.1739747 ,\n",
       "         0.2324742 , 0.2324742 , 0.56838091, 0.56838091, 0.77853761,\n",
       "         0.77853761, 0.38451031, 0.38451031, 0.40758274, 0.40758274,\n",
       "         0.4286375 , 0.4286375 , 0.13268378, 0.13268378, 0.99896618,\n",
       "         0.99896618, 0.56791808, 0.56791808, 0.8239701 , 0.8239701 ,\n",
       "         0.65672348, 0.65672348, 0.42060951, 0.42060951, 0.7326035 ,\n",
       "         0.7326035 , 0.34899723, 0.34899723, 0.76643446, 0.76643446,\n",
       "         0.30805244, 0.30805244, 0.16897216, 0.16897216, 0.40492566,\n",
       "         0.40492566, 0.91931354, 0.91931354, 0.43707215, 0.43707215,\n",
       "         0.47193059, 0.47193059, 0.47569544, 0.47569544, 0.49399407,\n",
       "         0.49399407, 0.40441632, 0.40441632, 0.81593915, 0.81593915,\n",
       "         0.57099235, 0.57099235, 0.36940229, 0.36940229, 0.47707781,\n",
       "         0.47707781, 0.09533722, 0.09533722, 0.69877401, 0.69877401,\n",
       "         0.92533769, 0.92533769, 0.5788279 , 0.5788279 , 0.94603545,\n",
       "         0.94603545, 0.02933094, 0.02933094, 0.49048684, 0.49048684,\n",
       "         0.43053779, 0.43053779, 0.86518147, 0.86518147, 0.02793064,\n",
       "         0.02793064, 0.77882875, 0.77882875, 0.39660884, 0.39660884,\n",
       "         0.66820947, 0.66820947, 0.08229355, 0.08229355, 0.23406396,\n",
       "         0.23406396, 0.57881302, 0.57881302, 0.45717659, 0.45717659,\n",
       "         0.52946552, 0.52946552, 0.60006751, 0.60006751, 0.38216868,\n",
       "         0.38216868, 0.97704295, 0.97704295, 0.27737975, 0.27737975,\n",
       "         0.42426521, 0.42426521, 0.61102847, 0.61102847, 0.11912889,\n",
       "         0.11912889, 0.06783318, 0.06783318, 0.30844652, 0.30844652,\n",
       "         0.5553114 , 0.5553114 , 0.19254425, 0.19254425, 0.63298115,\n",
       "         0.63298115, 0.09853861, 0.09853861, 0.24316208, 0.24316208,\n",
       "         0.52983267, 0.52983267, 0.32604918, 0.32604918, 0.99733146,\n",
       "         0.99733146, 0.1282035 , 0.1282035 , 0.95989454, 0.95989454])}}"
      ]
     },
     "execution_count": 1,
     "metadata": {},
     "output_type": "execute_result"
    }
   ],
   "source": [
    "ds = load_by_id(run_id_n)\n",
    "ds.get_parameter_data('x1')"
   ]
  },
  {
   "cell_type": "markdown",
   "metadata": {},
   "source": [
    "And a dataset stored as binary arrays"
   ]
  },
  {
   "cell_type": "code",
   "execution_count": 12,
   "metadata": {
    "execution": {
     "iopub.execute_input": "2020-11-20T15:03:09.771437Z",
     "iopub.status.busy": "2020-11-20T15:03:09.770817Z",
     "iopub.status.idle": "2020-11-20T15:03:09.837771Z",
     "shell.execute_reply": "2020-11-20T15:03:09.838363Z"
    },
    "scrolled": true
   },
   "outputs": [
    {
     "data": {
      "text/plain": [
       "{'x1': {'x1': array([[0.36396728],\n",
       "         [0.36396728],\n",
       "         [0.33442879],\n",
       "         [0.33442879],\n",
       "         [0.56076358],\n",
       "         [0.56076358],\n",
       "         [0.69116837],\n",
       "         [0.69116837],\n",
       "         [0.40463931],\n",
       "         [0.40463931],\n",
       "         [0.77181501],\n",
       "         [0.77181501],\n",
       "         [0.11526934],\n",
       "         [0.11526934],\n",
       "         [0.02538347],\n",
       "         [0.02538347],\n",
       "         [0.35469032],\n",
       "         [0.35469032],\n",
       "         [0.53782925],\n",
       "         [0.53782925],\n",
       "         [0.69778308],\n",
       "         [0.69778308],\n",
       "         [0.41116813],\n",
       "         [0.41116813],\n",
       "         [0.75042743],\n",
       "         [0.75042743],\n",
       "         [0.82052829],\n",
       "         [0.82052829],\n",
       "         [0.30243754],\n",
       "         [0.30243754],\n",
       "         [0.90656732],\n",
       "         [0.90656732],\n",
       "         [0.83394917],\n",
       "         [0.83394917],\n",
       "         [0.08467545],\n",
       "         [0.08467545],\n",
       "         [0.99168559],\n",
       "         [0.99168559],\n",
       "         [0.2796279 ],\n",
       "         [0.2796279 ],\n",
       "         [0.88541333],\n",
       "         [0.88541333],\n",
       "         [0.30616365],\n",
       "         [0.30616365],\n",
       "         [0.33681036],\n",
       "         [0.33681036],\n",
       "         [0.23187313],\n",
       "         [0.23187313],\n",
       "         [0.39696509],\n",
       "         [0.39696509],\n",
       "         [0.37041651],\n",
       "         [0.37041651],\n",
       "         [0.59700818],\n",
       "         [0.59700818],\n",
       "         [0.52370011],\n",
       "         [0.52370011],\n",
       "         [0.57089643],\n",
       "         [0.57089643],\n",
       "         [0.44073479],\n",
       "         [0.44073479],\n",
       "         [0.74192952],\n",
       "         [0.74192952],\n",
       "         [0.09787722],\n",
       "         [0.09787722],\n",
       "         [0.3636134 ],\n",
       "         [0.3636134 ],\n",
       "         [0.48681521],\n",
       "         [0.48681521],\n",
       "         [0.38313701],\n",
       "         [0.38313701],\n",
       "         [0.55380915],\n",
       "         [0.55380915],\n",
       "         [0.82598359],\n",
       "         [0.82598359],\n",
       "         [0.3080333 ],\n",
       "         [0.3080333 ],\n",
       "         [0.58162975],\n",
       "         [0.58162975],\n",
       "         [0.4789608 ],\n",
       "         [0.4789608 ],\n",
       "         [0.9390687 ],\n",
       "         [0.9390687 ],\n",
       "         [0.57310509],\n",
       "         [0.57310509],\n",
       "         [0.20860823],\n",
       "         [0.20860823],\n",
       "         [0.24338098],\n",
       "         [0.24338098],\n",
       "         [0.49612708],\n",
       "         [0.49612708],\n",
       "         [0.40390728],\n",
       "         [0.40390728],\n",
       "         [0.92088448],\n",
       "         [0.92088448],\n",
       "         [0.64321329],\n",
       "         [0.64321329],\n",
       "         [0.09728159],\n",
       "         [0.09728159],\n",
       "         [0.22059758],\n",
       "         [0.22059758],\n",
       "         [0.79820781],\n",
       "         [0.79820781],\n",
       "         [0.98082997],\n",
       "         [0.98082997],\n",
       "         [0.15336455],\n",
       "         [0.15336455],\n",
       "         [0.90019511],\n",
       "         [0.90019511],\n",
       "         [0.70428826],\n",
       "         [0.70428826],\n",
       "         [0.41785942],\n",
       "         [0.41785942],\n",
       "         [0.83132158],\n",
       "         [0.83132158],\n",
       "         [0.64743316],\n",
       "         [0.64743316],\n",
       "         [0.02556257],\n",
       "         [0.02556257],\n",
       "         [0.79240953],\n",
       "         [0.79240953],\n",
       "         [0.8636988 ],\n",
       "         [0.8636988 ],\n",
       "         [0.9686445 ],\n",
       "         [0.9686445 ],\n",
       "         [0.80106668],\n",
       "         [0.80106668],\n",
       "         [0.23418321],\n",
       "         [0.23418321],\n",
       "         [0.42433727],\n",
       "         [0.42433727],\n",
       "         [0.44180446],\n",
       "         [0.44180446],\n",
       "         [0.57547796],\n",
       "         [0.57547796],\n",
       "         [0.05542093],\n",
       "         [0.05542093],\n",
       "         [0.21841992],\n",
       "         [0.21841992],\n",
       "         [0.57315185],\n",
       "         [0.57315185],\n",
       "         [0.0281776 ],\n",
       "         [0.0281776 ],\n",
       "         [0.50013344],\n",
       "         [0.50013344],\n",
       "         [0.21000434],\n",
       "         [0.21000434],\n",
       "         [0.18384942],\n",
       "         [0.18384942],\n",
       "         [0.59742094],\n",
       "         [0.59742094],\n",
       "         [0.38606519],\n",
       "         [0.38606519],\n",
       "         [0.65549845],\n",
       "         [0.65549845],\n",
       "         [0.47842273],\n",
       "         [0.47842273],\n",
       "         [0.39762674],\n",
       "         [0.39762674],\n",
       "         [0.05703176],\n",
       "         [0.05703176],\n",
       "         [0.46283401],\n",
       "         [0.46283401],\n",
       "         [0.17606508],\n",
       "         [0.17606508],\n",
       "         [0.14214445],\n",
       "         [0.14214445],\n",
       "         [0.92392154],\n",
       "         [0.92392154],\n",
       "         [0.74335463],\n",
       "         [0.74335463],\n",
       "         [0.25911178],\n",
       "         [0.25911178],\n",
       "         [0.34181574],\n",
       "         [0.34181574],\n",
       "         [0.0105075 ],\n",
       "         [0.0105075 ],\n",
       "         [0.52739284],\n",
       "         [0.52739284],\n",
       "         [0.53680946],\n",
       "         [0.53680946],\n",
       "         [0.49011329],\n",
       "         [0.49011329],\n",
       "         [0.63794757],\n",
       "         [0.63794757],\n",
       "         [0.46117765],\n",
       "         [0.46117765],\n",
       "         [0.50438847],\n",
       "         [0.50438847],\n",
       "         [0.5963285 ],\n",
       "         [0.5963285 ],\n",
       "         [0.5731809 ],\n",
       "         [0.5731809 ],\n",
       "         [0.47486109],\n",
       "         [0.47486109],\n",
       "         [0.54720955],\n",
       "         [0.54720955],\n",
       "         [0.74537129],\n",
       "         [0.74537129],\n",
       "         [0.17554804],\n",
       "         [0.17554804]])}}"
      ]
     },
     "execution_count": 1,
     "metadata": {},
     "output_type": "execute_result"
    }
   ],
   "source": [
    "ds = load_by_id(run_id_a)\n",
    "ds.get_parameter_data('x1')"
   ]
  },
  {
   "cell_type": "code",
   "execution_count": null,
   "metadata": {},
   "outputs": [],
   "source": []
  }
 ],
 "metadata": {
  "kernelspec": {
   "display_name": "Python 3",
   "language": "python",
   "name": "python3"
  },
  "language_info": {
   "codemirror_mode": {
    "name": "ipython",
    "version": 3
   },
   "file_extension": ".py",
   "mimetype": "text/x-python",
   "name": "python",
   "nbconvert_exporter": "python",
   "pygments_lexer": "ipython3",
   "version": "3.7.9"
  },
  "nbsphinx": {
   "timeout": 600
  },
  "toc": {
   "base_numbering": 1,
   "nav_menu": {},
   "number_sections": true,
   "sideBar": true,
   "skip_h1_title": false,
   "title_cell": "Table of Contents",
   "title_sidebar": "Contents",
   "toc_cell": false,
   "toc_position": {},
   "toc_section_display": true,
   "toc_window_display": false
  },
  "varInspector": {
   "cols": {
    "lenName": 16,
    "lenType": 16,
    "lenVar": 40
   },
   "kernels_config": {
    "python": {
     "delete_cmd_postfix": "",
     "delete_cmd_prefix": "del ",
     "library": "var_list.py",
     "varRefreshCmd": "print(var_dic_list())"
    },
    "r": {
     "delete_cmd_postfix": ") ",
     "delete_cmd_prefix": "rm(",
     "library": "var_list.r",
     "varRefreshCmd": "cat(var_dic_list()) "
    }
   },
   "types_to_exclude": [
    "module",
    "function",
    "builtin_function_or_method",
    "instance",
    "_Feature"
   ],
   "window_display": false
  }
 },
 "nbformat": 4,
 "nbformat_minor": 2
}
