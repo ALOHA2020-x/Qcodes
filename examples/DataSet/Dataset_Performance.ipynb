{
 "cells": [
  {
   "cell_type": "markdown",
   "metadata": {},
   "source": [
    "# DataSet Performance\n",
    "\n",
    "This notebook shows the trade-off between inserting data into a database row-by-row and as binary blobs. Inserting the data row-by-row means that we have direct access to all the data and may perform queries directly on the values of the data. On the other hand, as we shall see, this is much slower than inserting the data directly as binary blobs."
   ]
  },
  {
   "cell_type": "markdown",
   "metadata": {},
   "source": [
    "First, we choose a new location for the database to ensure that we don't add a bunch of benchmarking data to the default one."
   ]
  },
  {
   "cell_type": "code",
   "execution_count": 1,
   "metadata": {},
   "outputs": [
    {
     "name": "stdout",
     "output_type": "stream",
     "text": [
      "Logging hadn't been started.\n",
      "Activating auto-logging. Current session state plus future input saved.\n",
      "Filename       : /home/vsts/.qcodes/logs/command_history.log\n",
      "Mode           : append\n",
      "Output logging : True\n",
      "Raw input log  : False\n",
      "Timestamping   : True\n",
      "State          : active\n"
     ]
    },
    {
     "name": "stdout",
     "output_type": "stream",
     "text": [
      "Qcodes Logfile : /home/vsts/.qcodes/logs/200612-19463-qcodes.log\n"
     ]
    }
   ],
   "source": [
    "import os\n",
    "cwd = os.getcwd()\n",
    "import qcodes as qc\n",
    "qc.config[\"core\"][\"db_location\"] = os.path.join(cwd, 'testing.db')\n"
   ]
  },
  {
   "cell_type": "code",
   "execution_count": 2,
   "metadata": {},
   "outputs": [],
   "source": [
    "%matplotlib inline\n",
    "import time\n",
    "import matplotlib.pyplot as plt\n",
    "import numpy as np\n",
    "\n",
    "import qcodes as qc\n",
    "from qcodes.instrument.parameter import ManualParameter\n",
    "from qcodes.dataset.experiment_container import (Experiment,\n",
    "                                                 load_last_experiment,\n",
    "                                                 new_experiment)\n",
    "from qcodes.dataset.sqlite.database import initialise_database\n",
    "from qcodes import load_or_create_experiment\n",
    "from qcodes.dataset.measurements import Measurement"
   ]
  },
  {
   "cell_type": "code",
   "execution_count": 3,
   "metadata": {},
   "outputs": [
    {
     "name": "stdout",
     "output_type": "stream",
     "text": [
      "\r",
      "0it [00:00, ?it/s]"
     ]
    },
    {
     "name": "stdout",
     "output_type": "stream",
     "text": [
      "\r",
      "Upgrading database; v0 -> v1: : 0it [00:00, ?it/s]"
     ]
    },
    {
     "name": "stdout",
     "output_type": "stream",
     "text": [
      "\r",
      "Upgrading database; v0 -> v1: : 0it [00:00, ?it/s]"
     ]
    },
    {
     "name": "stdout",
     "output_type": "stream",
     "text": [
      "\n",
      "\r",
      "  0%|          | 0/1 [00:00<?, ?it/s]"
     ]
    },
    {
     "name": "stdout",
     "output_type": "stream",
     "text": [
      "\r",
      "Upgrading database; v1 -> v2:   0%|          | 0/1 [00:00<?, ?it/s]"
     ]
    },
    {
     "name": "stdout",
     "output_type": "stream",
     "text": [
      "\r",
      "Upgrading database; v1 -> v2: 100%|██████████| 1/1 [00:00<00:00, 799.83it/s]"
     ]
    },
    {
     "name": "stdout",
     "output_type": "stream",
     "text": [
      "\n",
      "\r",
      "0it [00:00, ?it/s]"
     ]
    },
    {
     "name": "stdout",
     "output_type": "stream",
     "text": [
      "\r",
      "Upgrading database; v2 -> v3: : 0it [00:00, ?it/s]"
     ]
    },
    {
     "name": "stdout",
     "output_type": "stream",
     "text": [
      "\r",
      "Upgrading database; v2 -> v3: : 0it [00:00, ?it/s]"
     ]
    },
    {
     "name": "stdout",
     "output_type": "stream",
     "text": [
      "\n",
      "\r",
      "0it [00:00, ?it/s]"
     ]
    },
    {
     "name": "stdout",
     "output_type": "stream",
     "text": [
      "\r",
      "Upgrading database; v3 -> v4: : 0it [00:00, ?it/s]"
     ]
    },
    {
     "name": "stdout",
     "output_type": "stream",
     "text": [
      "\r",
      "Upgrading database; v3 -> v4: : 0it [00:00, ?it/s]"
     ]
    },
    {
     "name": "stdout",
     "output_type": "stream",
     "text": [
      "\n",
      "\r",
      "  0%|          | 0/1 [00:00<?, ?it/s]"
     ]
    },
    {
     "name": "stdout",
     "output_type": "stream",
     "text": [
      "\r",
      "Upgrading database; v4 -> v5:   0%|          | 0/1 [00:00<?, ?it/s]"
     ]
    },
    {
     "name": "stdout",
     "output_type": "stream",
     "text": [
      "\r",
      "Upgrading database; v4 -> v5: 100%|██████████| 1/1 [00:00<00:00, 828.75it/s]"
     ]
    },
    {
     "name": "stdout",
     "output_type": "stream",
     "text": [
      "\n",
      "\r",
      "0it [00:00, ?it/s]"
     ]
    },
    {
     "name": "stdout",
     "output_type": "stream",
     "text": [
      "\r",
      "Upgrading database; v5 -> v6: : 0it [00:00, ?it/s]"
     ]
    },
    {
     "name": "stdout",
     "output_type": "stream",
     "text": [
      "\r",
      "Upgrading database; v5 -> v6: : 0it [00:00, ?it/s]"
     ]
    },
    {
     "name": "stdout",
     "output_type": "stream",
     "text": [
      "\n",
      "\r",
      "  0%|          | 0/1 [00:00<?, ?it/s]"
     ]
    },
    {
     "name": "stdout",
     "output_type": "stream",
     "text": [
      "\r",
      "Upgrading database; v6 -> v7:   0%|          | 0/1 [00:00<?, ?it/s]"
     ]
    },
    {
     "name": "stdout",
     "output_type": "stream",
     "text": [
      "\r",
      "Upgrading database; v6 -> v7: 100%|██████████| 1/1 [00:00<00:00, 401.06it/s]"
     ]
    },
    {
     "name": "stdout",
     "output_type": "stream",
     "text": [
      "\n",
      "\r",
      "  0%|          | 0/1 [00:00<?, ?it/s]"
     ]
    },
    {
     "name": "stdout",
     "output_type": "stream",
     "text": [
      "\r",
      "Upgrading database; v7 -> v8:   0%|          | 0/1 [00:00<?, ?it/s]"
     ]
    },
    {
     "name": "stdout",
     "output_type": "stream",
     "text": [
      "\r",
      "Upgrading database; v7 -> v8: 100%|██████████| 1/1 [00:00<00:00, 985.27it/s]"
     ]
    },
    {
     "name": "stdout",
     "output_type": "stream",
     "text": [
      "\n",
      "\r",
      "  0%|          | 0/1 [00:00<?, ?it/s]"
     ]
    },
    {
     "name": "stdout",
     "output_type": "stream",
     "text": [
      "\r",
      "Upgrading database; v8 -> v9:   0%|          | 0/1 [00:00<?, ?it/s]"
     ]
    },
    {
     "name": "stdout",
     "output_type": "stream",
     "text": [
      "\r",
      "Upgrading database; v8 -> v9: 100%|██████████| 1/1 [00:00<00:00, 1160.57it/s]"
     ]
    },
    {
     "name": "stdout",
     "output_type": "stream",
     "text": [
      "\n"
     ]
    }
   ],
   "source": [
    "initialise_database()\n",
    "exp = load_or_create_experiment(experiment_name='tutorial_exp', sample_name=\"no sample\")"
   ]
  },
  {
   "cell_type": "markdown",
   "metadata": {},
   "source": [
    "Here, we define a simple function to benchmark the time it takes to insert n points with either numeric or array data type.\n",
    "We will compare both the time used to call ``add_result`` and the time used for the full measurement."
   ]
  },
  {
   "cell_type": "code",
   "execution_count": 4,
   "metadata": {},
   "outputs": [],
   "source": [
    "def insert_data(paramtype, npoints, nreps=1):\n",
    "\n",
    "    meas = Measurement(exp=exp)\n",
    "\n",
    "    x1 = ManualParameter('x1')\n",
    "    x2 = ManualParameter('x2')\n",
    "    x3 = ManualParameter('x3')\n",
    "    y1 = ManualParameter('y1')\n",
    "    y2 = ManualParameter('y2')\n",
    "\n",
    "    meas.register_parameter(x1, paramtype=paramtype)\n",
    "    meas.register_parameter(x2, paramtype=paramtype)\n",
    "    meas.register_parameter(x3, paramtype=paramtype)\n",
    "    meas.register_parameter(y1, setpoints=[x1, x2, x3],\n",
    "                            paramtype=paramtype)\n",
    "    meas.register_parameter(y2, setpoints=[x1, x2, x3],\n",
    "                            paramtype=paramtype)\n",
    "    start = time.perf_counter()\n",
    "    with meas.run() as datasaver:\n",
    "        start_adding = time.perf_counter()\n",
    "        for i in range(nreps):\n",
    "            datasaver.add_result((x1, np.random.rand(npoints)),\n",
    "                                 (x2, np.random.rand(npoints)),\n",
    "                                 (x3, np.random.rand(npoints)),\n",
    "                                 (y1, np.random.rand(npoints)),\n",
    "                                 (y2, np.random.rand(npoints)))\n",
    "        stop_adding = time.perf_counter()\n",
    "        run_id = datasaver.run_id\n",
    "    stop = time.perf_counter()\n",
    "    tot_time = stop - start\n",
    "    add_time = stop_adding - start_adding\n",
    "    return tot_time, add_time, run_id"
   ]
  },
  {
   "cell_type": "markdown",
   "metadata": {},
   "source": [
    "## Comparison between numeric/array data and binary blob"
   ]
  },
  {
   "cell_type": "markdown",
   "metadata": {},
   "source": [
    "### Case1: Short experiment time"
   ]
  },
  {
   "cell_type": "code",
   "execution_count": 5,
   "metadata": {},
   "outputs": [
    {
     "name": "stdout",
     "output_type": "stream",
     "text": [
      "Starting experimental run with id: 1. \n",
      "Starting experimental run with id: 2. \n",
      "Starting experimental run with id: 3. \n",
      "Starting experimental run with id: 4. \n",
      "Starting experimental run with id: 5. \n"
     ]
    },
    {
     "name": "stdout",
     "output_type": "stream",
     "text": [
      "Starting experimental run with id: 6. \n"
     ]
    },
    {
     "name": "stdout",
     "output_type": "stream",
     "text": [
      "Starting experimental run with id: 7. \n"
     ]
    },
    {
     "name": "stdout",
     "output_type": "stream",
     "text": [
      "Starting experimental run with id: 8. \n",
      "Starting experimental run with id: 9. \n"
     ]
    },
    {
     "name": "stdout",
     "output_type": "stream",
     "text": [
      "Starting experimental run with id: 10. \n",
      "Starting experimental run with id: 11. \n"
     ]
    },
    {
     "name": "stdout",
     "output_type": "stream",
     "text": [
      "Starting experimental run with id: 12. \n",
      "Starting experimental run with id: 13. \n"
     ]
    },
    {
     "name": "stdout",
     "output_type": "stream",
     "text": [
      "Starting experimental run with id: 14. \n"
     ]
    }
   ],
   "source": [
    "sizes = [1,500,1000,2000,3000,4000,5000]\n",
    "t_numeric = []\n",
    "t_numeric_add = []\n",
    "t_array = []\n",
    "t_array_add = []\n",
    "for size in sizes:\n",
    "    tn, tna, run_id_n =  insert_data('numeric', size)\n",
    "    t_numeric.append(tn)\n",
    "    t_numeric_add.append(tna)\n",
    "\n",
    "    ta, taa, run_id_a =  insert_data('array', size)\n",
    "    t_array.append(ta)\n",
    "    t_array_add.append(taa)"
   ]
  },
  {
   "cell_type": "code",
   "execution_count": 6,
   "metadata": {},
   "outputs": [
    {
     "data": {
      "image/png": "[encoded data removed]",
      "text/plain": [
       "<Figure size 432x288 with 1 Axes>"
      ]
     },
     "metadata": {
      "needs_background": "light"
     },
     "output_type": "display_data"
    }
   ],
   "source": [
    "fig, ax = plt.subplots(1,1)\n",
    "ax.plot(sizes, t_numeric, 'o-', label='Inserting row-by-row')\n",
    "ax.plot(sizes, t_numeric_add, 'o-', label='Inserting row-by-row: add_result only')\n",
    "ax.plot(sizes, t_array, 'd-', label='Inserting as binary blob')\n",
    "ax.plot(sizes, t_array_add, 'd-', label='Inserting as binary blob: add_result only')\n",
    "ax.legend()\n",
    "ax.set_xlabel('Array length')\n",
    "ax.set_ylabel('Time (s)')\n",
    "fig.tight_layout()"
   ]
  },
  {
   "cell_type": "markdown",
   "metadata": {},
   "source": [
    "As shown in the latter figure, the time to setup and and close the experiment is approximately 0.4 sec. In case of small array sizes, the difference between inserting values of data as arrays and inserting them row-by-row is relatively unimportant. At larger array sizes, i.e. above 10000 points, the cost of writing data as individual datapoints starts to become important.\n"
   ]
  },
  {
   "cell_type": "markdown",
   "metadata": {},
   "source": [
    "### Case2: Long experiment time "
   ]
  },
  {
   "cell_type": "code",
   "execution_count": 7,
   "metadata": {},
   "outputs": [
    {
     "name": "stdout",
     "output_type": "stream",
     "text": [
      "Starting experimental run with id: 15. \n",
      "Starting experimental run with id: 16. \n",
      "Starting experimental run with id: 17. \n"
     ]
    },
    {
     "name": "stdout",
     "output_type": "stream",
     "text": [
      "Starting experimental run with id: 18. \n",
      "Starting experimental run with id: 19. \n"
     ]
    },
    {
     "name": "stdout",
     "output_type": "stream",
     "text": [
      "Starting experimental run with id: 20. \n"
     ]
    },
    {
     "name": "stdout",
     "output_type": "stream",
     "text": [
      "Starting experimental run with id: 21. \n"
     ]
    },
    {
     "name": "stdout",
     "output_type": "stream",
     "text": [
      "Starting experimental run with id: 22. \n"
     ]
    },
    {
     "name": "stdout",
     "output_type": "stream",
     "text": [
      "Starting experimental run with id: 23. \n"
     ]
    },
    {
     "name": "stdout",
     "output_type": "stream",
     "text": [
      "Starting experimental run with id: 24. \n"
     ]
    },
    {
     "name": "stdout",
     "output_type": "stream",
     "text": [
      "Starting experimental run with id: 25. \n"
     ]
    },
    {
     "name": "stdout",
     "output_type": "stream",
     "text": [
      "Starting experimental run with id: 26. \n"
     ]
    },
    {
     "name": "stdout",
     "output_type": "stream",
     "text": [
      "Starting experimental run with id: 27. \n"
     ]
    },
    {
     "name": "stdout",
     "output_type": "stream",
     "text": [
      "Starting experimental run with id: 28. \n"
     ]
    }
   ],
   "source": [
    "sizes = [1,500,1000,2000,3000,4000,5000]\n",
    "nreps = 100\n",
    "t_numeric = []\n",
    "t_numeric_add = []\n",
    "t_numeric_run_ids = []\n",
    "t_array = []\n",
    "t_array_add = []\n",
    "t_array_run_ids = []\n",
    "for size in sizes:\n",
    "    tn, tna, run_id_n =  insert_data('numeric', size, nreps=nreps)\n",
    "    t_numeric.append(tn)\n",
    "    t_numeric_add.append(tna)\n",
    "    t_numeric_run_ids.append(run_id_n)\n",
    "\n",
    "    ta, taa, run_id_a =  insert_data('array', size, nreps=nreps)\n",
    "    t_array.append(ta)\n",
    "    t_array_add.append(taa)\n",
    "    t_array_run_ids.append(run_id_a)"
   ]
  },
  {
   "cell_type": "code",
   "execution_count": 8,
   "metadata": {
    "scrolled": true
   },
   "outputs": [
    {
     "data": {
      "image/png": "[encoded data removed]",
      "text/plain": [
       "<Figure size 432x288 with 1 Axes>"
      ]
     },
     "metadata": {
      "needs_background": "light"
     },
     "output_type": "display_data"
    }
   ],
   "source": [
    "fig, ax = plt.subplots(1,1)\n",
    "ax.plot(sizes, t_numeric, 'o-', label='Inserting row-by-row')\n",
    "ax.plot(sizes, t_numeric_add, 'o-', label='Inserting row-by-row: add_result only')\n",
    "ax.plot(sizes, t_array, 'd-', label='Inserting as binary blob')\n",
    "ax.plot(sizes, t_array_add, 'd-', label='Inserting as binary blob: add_result only')\n",
    "ax.legend()\n",
    "ax.set_xlabel('Array length')\n",
    "ax.set_ylabel('Time (s)')\n",
    "fig.tight_layout()"
   ]
  },
  {
   "cell_type": "markdown",
   "metadata": {},
   "source": [
    "However, as we increase the length of the experiment, as seen here by repeating the insertion 100 times, we see a big difference between inserting values of the data row-by-row and inserting it as a binary blob."
   ]
  },
  {
   "cell_type": "markdown",
   "metadata": {},
   "source": [
    "## Loading the data "
   ]
  },
  {
   "cell_type": "code",
   "execution_count": 9,
   "metadata": {},
   "outputs": [],
   "source": [
    "from qcodes.dataset.data_set import load_by_id\n",
    "from qcodes.dataset.data_export import get_data_by_id"
   ]
  },
  {
   "cell_type": "markdown",
   "metadata": {},
   "source": [
    "As usual you can load the data by using the ``load_by_id`` function but you will notice that the different storage methods\n",
    "are reflected in shape of the data as it is retrieved. "
   ]
  },
  {
   "cell_type": "code",
   "execution_count": 10,
   "metadata": {},
   "outputs": [],
   "source": [
    "run_id_n = t_numeric_run_ids[0]\n",
    "run_id_a = t_array_run_ids[0]"
   ]
  },
  {
   "cell_type": "code",
   "execution_count": 11,
   "metadata": {
    "scrolled": true
   },
   "outputs": [
    {
     "data": {
      "text/plain": [
       "{'x1': {'x1': array([0.09665783, 0.09665783, 0.18069464, 0.18069464, 0.06690053,\n",
       "         0.06690053, 0.32308846, 0.32308846, 0.02674536, 0.02674536,\n",
       "         0.74788829, 0.74788829, 0.98792828, 0.98792828, 0.37146833,\n",
       "         0.37146833, 0.17591704, 0.17591704, 0.6932922 , 0.6932922 ,\n",
       "         0.90530249, 0.90530249, 0.07278978, 0.07278978, 0.12635727,\n",
       "         0.12635727, 0.29716124, 0.29716124, 0.37407346, 0.37407346,\n",
       "         0.62631945, 0.62631945, 0.71845836, 0.71845836, 0.45295905,\n",
       "         0.45295905, 0.91230904, 0.91230904, 0.18763466, 0.18763466,\n",
       "         0.35986174, 0.35986174, 0.77005409, 0.77005409, 0.05482924,\n",
       "         0.05482924, 0.69639373, 0.69639373, 0.68739762, 0.68739762,\n",
       "         0.07455504, 0.07455504, 0.48800415, 0.48800415, 0.21167306,\n",
       "         0.21167306, 0.84751159, 0.84751159, 0.3861667 , 0.3861667 ,\n",
       "         0.58870241, 0.58870241, 0.60779227, 0.60779227, 0.94418316,\n",
       "         0.94418316, 0.07574452, 0.07574452, 0.18197346, 0.18197346,\n",
       "         0.6691031 , 0.6691031 , 0.99263731, 0.99263731, 0.86353479,\n",
       "         0.86353479, 0.36595826, 0.36595826, 0.79598607, 0.79598607,\n",
       "         0.0289599 , 0.0289599 , 0.58361077, 0.58361077, 0.23762248,\n",
       "         0.23762248, 0.554936  , 0.554936  , 0.01498882, 0.01498882,\n",
       "         0.9136807 , 0.9136807 , 0.99336075, 0.99336075, 0.41901444,\n",
       "         0.41901444, 0.90276781, 0.90276781, 0.14516324, 0.14516324,\n",
       "         0.93192309, 0.93192309, 0.16055119, 0.16055119, 0.27048215,\n",
       "         0.27048215, 0.39380324, 0.39380324, 0.86895767, 0.86895767,\n",
       "         0.24388224, 0.24388224, 0.35985592, 0.35985592, 0.31949356,\n",
       "         0.31949356, 0.16683337, 0.16683337, 0.55219285, 0.55219285,\n",
       "         0.25290489, 0.25290489, 0.78169203, 0.78169203, 0.07255205,\n",
       "         0.07255205, 0.76669635, 0.76669635, 0.97201051, 0.97201051,\n",
       "         0.0640949 , 0.0640949 , 0.76236196, 0.76236196, 0.93658076,\n",
       "         0.93658076, 0.00632506, 0.00632506, 0.68562851, 0.68562851,\n",
       "         0.10637593, 0.10637593, 0.41194065, 0.41194065, 0.59955163,\n",
       "         0.59955163, 0.83501582, 0.83501582, 0.20221019, 0.20221019,\n",
       "         0.3084412 , 0.3084412 , 0.75153712, 0.75153712, 0.01760131,\n",
       "         0.01760131, 0.41278435, 0.41278435, 0.13568445, 0.13568445,\n",
       "         0.37582102, 0.37582102, 0.98350742, 0.98350742, 0.81541066,\n",
       "         0.81541066, 0.32790049, 0.32790049, 0.37785098, 0.37785098,\n",
       "         0.25194994, 0.25194994, 0.45779013, 0.45779013, 0.1590716 ,\n",
       "         0.1590716 , 0.04267123, 0.04267123, 0.88558122, 0.88558122,\n",
       "         0.54288782, 0.54288782, 0.71422622, 0.71422622, 0.39954853,\n",
       "         0.39954853, 0.59071815, 0.59071815, 0.13456564, 0.13456564,\n",
       "         0.63898035, 0.63898035, 0.45607904, 0.45607904, 0.04980177,\n",
       "         0.04980177, 0.03691207, 0.03691207, 0.57293964, 0.57293964])}}"
      ]
     },
     "execution_count": 11,
     "metadata": {},
     "output_type": "execute_result"
    }
   ],
   "source": [
    "ds = load_by_id(run_id_n)\n",
    "ds.get_parameter_data('x1')"
   ]
  },
  {
   "cell_type": "markdown",
   "metadata": {},
   "source": [
    "And a dataset stored as binary arrays"
   ]
  },
  {
   "cell_type": "code",
   "execution_count": 12,
   "metadata": {
    "scrolled": true
   },
   "outputs": [
    {
     "data": {
      "text/plain": [
       "{'x1': {'x1': array([[0.75557276],\n",
       "         [0.75557276],\n",
       "         [0.17349773],\n",
       "         [0.17349773],\n",
       "         [0.53793747],\n",
       "         [0.53793747],\n",
       "         [0.26739151],\n",
       "         [0.26739151],\n",
       "         [0.29061354],\n",
       "         [0.29061354],\n",
       "         [0.11838127],\n",
       "         [0.11838127],\n",
       "         [0.94437746],\n",
       "         [0.94437746],\n",
       "         [0.32875445],\n",
       "         [0.32875445],\n",
       "         [0.67105252],\n",
       "         [0.67105252],\n",
       "         [0.50192486],\n",
       "         [0.50192486],\n",
       "         [0.67418208],\n",
       "         [0.67418208],\n",
       "         [0.74383585],\n",
       "         [0.74383585],\n",
       "         [0.65583868],\n",
       "         [0.65583868],\n",
       "         [0.73086031],\n",
       "         [0.73086031],\n",
       "         [0.42129006],\n",
       "         [0.42129006],\n",
       "         [0.96091319],\n",
       "         [0.96091319],\n",
       "         [0.8773119 ],\n",
       "         [0.8773119 ],\n",
       "         [0.81848528],\n",
       "         [0.81848528],\n",
       "         [0.29536564],\n",
       "         [0.29536564],\n",
       "         [0.3678377 ],\n",
       "         [0.3678377 ],\n",
       "         [0.59162175],\n",
       "         [0.59162175],\n",
       "         [0.06431939],\n",
       "         [0.06431939],\n",
       "         [0.7217084 ],\n",
       "         [0.7217084 ],\n",
       "         [0.30931855],\n",
       "         [0.30931855],\n",
       "         [0.0247887 ],\n",
       "         [0.0247887 ],\n",
       "         [0.85343111],\n",
       "         [0.85343111],\n",
       "         [0.8991733 ],\n",
       "         [0.8991733 ],\n",
       "         [0.6497462 ],\n",
       "         [0.6497462 ],\n",
       "         [0.67706677],\n",
       "         [0.67706677],\n",
       "         [0.4007887 ],\n",
       "         [0.4007887 ],\n",
       "         [0.03134032],\n",
       "         [0.03134032],\n",
       "         [0.37830246],\n",
       "         [0.37830246],\n",
       "         [0.02357945],\n",
       "         [0.02357945],\n",
       "         [0.82323605],\n",
       "         [0.82323605],\n",
       "         [0.97295093],\n",
       "         [0.97295093],\n",
       "         [0.02967508],\n",
       "         [0.02967508],\n",
       "         [0.33178581],\n",
       "         [0.33178581],\n",
       "         [0.55452337],\n",
       "         [0.55452337],\n",
       "         [0.16130833],\n",
       "         [0.16130833],\n",
       "         [0.70833784],\n",
       "         [0.70833784],\n",
       "         [0.37038391],\n",
       "         [0.37038391],\n",
       "         [0.58668676],\n",
       "         [0.58668676],\n",
       "         [0.87009969],\n",
       "         [0.87009969],\n",
       "         [0.30356716],\n",
       "         [0.30356716],\n",
       "         [0.99887748],\n",
       "         [0.99887748],\n",
       "         [0.76121271],\n",
       "         [0.76121271],\n",
       "         [0.65118689],\n",
       "         [0.65118689],\n",
       "         [0.32303043],\n",
       "         [0.32303043],\n",
       "         [0.94848567],\n",
       "         [0.94848567],\n",
       "         [0.90120419],\n",
       "         [0.90120419],\n",
       "         [0.91185906],\n",
       "         [0.91185906],\n",
       "         [0.69041351],\n",
       "         [0.69041351],\n",
       "         [0.450272  ],\n",
       "         [0.450272  ],\n",
       "         [0.01937256],\n",
       "         [0.01937256],\n",
       "         [0.05018068],\n",
       "         [0.05018068],\n",
       "         [0.23511539],\n",
       "         [0.23511539],\n",
       "         [0.37504915],\n",
       "         [0.37504915],\n",
       "         [0.3120356 ],\n",
       "         [0.3120356 ],\n",
       "         [0.94621162],\n",
       "         [0.94621162],\n",
       "         [0.00734894],\n",
       "         [0.00734894],\n",
       "         [0.88155923],\n",
       "         [0.88155923],\n",
       "         [0.88638724],\n",
       "         [0.88638724],\n",
       "         [0.44757225],\n",
       "         [0.44757225],\n",
       "         [0.34130007],\n",
       "         [0.34130007],\n",
       "         [0.31289101],\n",
       "         [0.31289101],\n",
       "         [0.49540257],\n",
       "         [0.49540257],\n",
       "         [0.69957157],\n",
       "         [0.69957157],\n",
       "         [0.64416019],\n",
       "         [0.64416019],\n",
       "         [0.70974015],\n",
       "         [0.70974015],\n",
       "         [0.50157938],\n",
       "         [0.50157938],\n",
       "         [0.57416997],\n",
       "         [0.57416997],\n",
       "         [0.25516485],\n",
       "         [0.25516485],\n",
       "         [0.85412106],\n",
       "         [0.85412106],\n",
       "         [0.132379  ],\n",
       "         [0.132379  ],\n",
       "         [0.76337264],\n",
       "         [0.76337264],\n",
       "         [0.2480172 ],\n",
       "         [0.2480172 ],\n",
       "         [0.13238905],\n",
       "         [0.13238905],\n",
       "         [0.77371249],\n",
       "         [0.77371249],\n",
       "         [0.4080591 ],\n",
       "         [0.4080591 ],\n",
       "         [0.62326421],\n",
       "         [0.62326421],\n",
       "         [0.22561571],\n",
       "         [0.22561571],\n",
       "         [0.29641677],\n",
       "         [0.29641677],\n",
       "         [0.18648933],\n",
       "         [0.18648933],\n",
       "         [0.8917828 ],\n",
       "         [0.8917828 ],\n",
       "         [0.57424952],\n",
       "         [0.57424952],\n",
       "         [0.64574335],\n",
       "         [0.64574335],\n",
       "         [0.74475141],\n",
       "         [0.74475141],\n",
       "         [0.13113872],\n",
       "         [0.13113872],\n",
       "         [0.63448733],\n",
       "         [0.63448733],\n",
       "         [0.48954838],\n",
       "         [0.48954838],\n",
       "         [0.48295832],\n",
       "         [0.48295832],\n",
       "         [0.99916691],\n",
       "         [0.99916691],\n",
       "         [0.72756948],\n",
       "         [0.72756948],\n",
       "         [0.36129917],\n",
       "         [0.36129917],\n",
       "         [0.67353974],\n",
       "         [0.67353974],\n",
       "         [0.27375748],\n",
       "         [0.27375748],\n",
       "         [0.74058166],\n",
       "         [0.74058166],\n",
       "         [0.54794599],\n",
       "         [0.54794599],\n",
       "         [0.83395087],\n",
       "         [0.83395087],\n",
       "         [0.90344697],\n",
       "         [0.90344697]])}}"
      ]
     },
     "execution_count": 12,
     "metadata": {},
     "output_type": "execute_result"
    }
   ],
   "source": [
    "ds = load_by_id(run_id_a)\n",
    "ds.get_parameter_data('x1')"
   ]
  },
  {
   "cell_type": "code",
   "execution_count": null,
   "metadata": {},
   "outputs": [],
   "source": []
  }
 ],
 "metadata": {
  "kernelspec": {
   "display_name": "Python 3",
   "language": "python",
   "name": "python3"
  },
  "language_info": {
   "codemirror_mode": {
    "name": "ipython",
    "version": 3
   },
   "file_extension": ".py",
   "mimetype": "text/x-python",
   "name": "python",
   "nbconvert_exporter": "python",
   "pygments_lexer": "ipython3",
   "version": "3.7.7"
  },
  "nbsphinx": {
   "timeout": 600
  },
  "toc": {
   "base_numbering": 1,
   "nav_menu": {},
   "number_sections": true,
   "sideBar": true,
   "skip_h1_title": false,
   "title_cell": "Table of Contents",
   "title_sidebar": "Contents",
   "toc_cell": false,
   "toc_position": {},
   "toc_section_display": true,
   "toc_window_display": false
  },
  "varInspector": {
   "cols": {
    "lenName": 16,
    "lenType": 16,
    "lenVar": 40
   },
   "kernels_config": {
    "python": {
     "delete_cmd_postfix": "",
     "delete_cmd_prefix": "del ",
     "library": "var_list.py",
     "varRefreshCmd": "print(var_dic_list())"
    },
    "r": {
     "delete_cmd_postfix": ") ",
     "delete_cmd_prefix": "rm(",
     "library": "var_list.r",
     "varRefreshCmd": "cat(var_dic_list()) "
    }
   },
   "types_to_exclude": [
    "module",
    "function",
    "builtin_function_or_method",
    "instance",
    "_Feature"
   ],
   "window_display": false
  }
 },
 "nbformat": 4,
 "nbformat_minor": 2
}
