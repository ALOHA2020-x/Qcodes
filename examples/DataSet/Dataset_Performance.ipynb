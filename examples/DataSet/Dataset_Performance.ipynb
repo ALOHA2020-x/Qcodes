{
 "cells": [
  {
   "cell_type": "markdown",
   "metadata": {},
   "source": [
    "# DataSet Performance\n",
    "\n",
    "This notebook shows the trade-off between inserting data into a database row-by-row and as binary blobs. Inserting the data row-by-row means that we have direct access to all the data and may perform queries directly on the values of the data. On the other hand, as we shall see, this is much slower than inserting the data directly as binary blobs."
   ]
  },
  {
   "cell_type": "markdown",
   "metadata": {},
   "source": [
    "First, we choose a new location for the database to ensure that we don't add a bunch of benchmarking data to the default one."
   ]
  },
  {
   "cell_type": "code",
   "execution_count": 1,
   "metadata": {
    "execution": {
     "iopub.execute_input": "2020-12-28T16:18:39.231007Z",
     "iopub.status.busy": "2020-12-28T16:18:39.230362Z",
     "iopub.status.idle": "2020-12-28T16:18:40.222331Z",
     "shell.execute_reply": "2020-12-28T16:18:40.222783Z"
    }
   },
   "outputs": [
    {
     "name": "stdout",
     "output_type": "stream",
     "text": [
      "Logging hadn't been started.\n",
      "Activating auto-logging. Current session state plus future input saved.\n",
      "Filename       : /home/vsts/.qcodes/logs/command_history.log\n",
      "Mode           : append\n",
      "Output logging : True\n",
      "Raw input log  : False\n",
      "Timestamping   : True\n",
      "State          : active\n"
     ]
    },
    {
     "name": "stdout",
     "output_type": "stream",
     "text": [
      "Qcodes Logfile : /home/vsts/.qcodes/logs/201228-13389-qcodes.log\n"
     ]
    }
   ],
   "source": [
    "import os\n",
    "cwd = os.getcwd()\n",
    "import qcodes as qc\n",
    "qc.config[\"core\"][\"db_location\"] = os.path.join(cwd, 'testing.db')\n"
   ]
  },
  {
   "cell_type": "code",
   "execution_count": 2,
   "metadata": {
    "execution": {
     "iopub.execute_input": "2020-12-28T16:18:40.229124Z",
     "iopub.status.busy": "2020-12-28T16:18:40.228598Z",
     "iopub.status.idle": "2020-12-28T16:18:40.401629Z",
     "shell.execute_reply": "2020-12-28T16:18:40.401115Z"
    }
   },
   "outputs": [],
   "source": [
    "%matplotlib inline\n",
    "import time\n",
    "import matplotlib.pyplot as plt\n",
    "import numpy as np\n",
    "\n",
    "import qcodes as qc\n",
    "from qcodes.instrument.parameter import ManualParameter\n",
    "from qcodes.dataset.experiment_container import (Experiment,\n",
    "                                                 load_last_experiment,\n",
    "                                                 new_experiment)\n",
    "from qcodes.dataset.sqlite.database import initialise_database\n",
    "from qcodes import load_or_create_experiment\n",
    "from qcodes.dataset.measurements import Measurement"
   ]
  },
  {
   "cell_type": "code",
   "execution_count": 3,
   "metadata": {
    "execution": {
     "iopub.execute_input": "2020-12-28T16:18:40.405163Z",
     "iopub.status.busy": "2020-12-28T16:18:40.404492Z",
     "iopub.status.idle": "2020-12-28T16:18:40.509871Z",
     "shell.execute_reply": "2020-12-28T16:18:40.509314Z"
    }
   },
   "outputs": [
    {
     "name": "stdout",
     "output_type": "stream",
     "text": [
      "\r",
      "0it [00:00, ?it/s]"
     ]
    },
    {
     "name": "stdout",
     "output_type": "stream",
     "text": [
      "\r",
      "Upgrading database; v0 -> v1: : 0it [00:00, ?it/s]"
     ]
    },
    {
     "name": "stdout",
     "output_type": "stream",
     "text": [
      "\r",
      "Upgrading database; v0 -> v1: : 0it [00:00, ?it/s]"
     ]
    },
    {
     "name": "stdout",
     "output_type": "stream",
     "text": [
      "\n",
      "\r",
      "  0%|          | 0/1 [00:00<?, ?it/s]"
     ]
    },
    {
     "name": "stdout",
     "output_type": "stream",
     "text": [
      "\r",
      "Upgrading database; v1 -> v2:   0%|          | 0/1 [00:00<?, ?it/s]"
     ]
    },
    {
     "name": "stdout",
     "output_type": "stream",
     "text": [
      "\r",
      "Upgrading database; v1 -> v2: 100%|██████████| 1/1 [00:00<00:00, 1166.38it/s]"
     ]
    },
    {
     "name": "stdout",
     "output_type": "stream",
     "text": [
      "\n",
      "\r",
      "0it [00:00, ?it/s]"
     ]
    },
    {
     "name": "stdout",
     "output_type": "stream",
     "text": [
      "\r",
      "Upgrading database; v2 -> v3: : 0it [00:00, ?it/s]"
     ]
    },
    {
     "name": "stdout",
     "output_type": "stream",
     "text": [
      "\r",
      "Upgrading database; v2 -> v3: : 0it [00:00, ?it/s]"
     ]
    },
    {
     "name": "stdout",
     "output_type": "stream",
     "text": [
      "\n",
      "\r",
      "0it [00:00, ?it/s]"
     ]
    },
    {
     "name": "stdout",
     "output_type": "stream",
     "text": [
      "\r",
      "Upgrading database; v3 -> v4: : 0it [00:00, ?it/s]"
     ]
    },
    {
     "name": "stdout",
     "output_type": "stream",
     "text": [
      "\r",
      "Upgrading database; v3 -> v4: : 0it [00:00, ?it/s]"
     ]
    },
    {
     "name": "stdout",
     "output_type": "stream",
     "text": [
      "\n",
      "\r",
      "  0%|          | 0/1 [00:00<?, ?it/s]"
     ]
    },
    {
     "name": "stdout",
     "output_type": "stream",
     "text": [
      "\r",
      "Upgrading database; v4 -> v5:   0%|          | 0/1 [00:00<?, ?it/s]"
     ]
    },
    {
     "name": "stdout",
     "output_type": "stream",
     "text": [
      "\r",
      "Upgrading database; v4 -> v5: 100%|██████████| 1/1 [00:00<00:00, 641.04it/s]"
     ]
    },
    {
     "name": "stdout",
     "output_type": "stream",
     "text": [
      "\n",
      "\r",
      "0it [00:00, ?it/s]"
     ]
    },
    {
     "name": "stdout",
     "output_type": "stream",
     "text": [
      "\r",
      "Upgrading database; v5 -> v6: : 0it [00:00, ?it/s]"
     ]
    },
    {
     "name": "stdout",
     "output_type": "stream",
     "text": [
      "\r",
      "Upgrading database; v5 -> v6: : 0it [00:00, ?it/s]"
     ]
    },
    {
     "name": "stdout",
     "output_type": "stream",
     "text": [
      "\n",
      "\r",
      "  0%|          | 0/1 [00:00<?, ?it/s]"
     ]
    },
    {
     "name": "stdout",
     "output_type": "stream",
     "text": [
      "\r",
      "Upgrading database; v6 -> v7:   0%|          | 0/1 [00:00<?, ?it/s]"
     ]
    },
    {
     "name": "stdout",
     "output_type": "stream",
     "text": [
      "\r",
      "Upgrading database; v6 -> v7: 100%|██████████| 1/1 [00:00<00:00, 294.67it/s]"
     ]
    },
    {
     "name": "stdout",
     "output_type": "stream",
     "text": [
      "\n",
      "\r",
      "  0%|          | 0/1 [00:00<?, ?it/s]"
     ]
    },
    {
     "name": "stdout",
     "output_type": "stream",
     "text": [
      "\r",
      "Upgrading database; v7 -> v8:   0%|          | 0/1 [00:00<?, ?it/s]"
     ]
    },
    {
     "name": "stdout",
     "output_type": "stream",
     "text": [
      "\r",
      "Upgrading database; v7 -> v8: 100%|██████████| 1/1 [00:00<00:00, 471.91it/s]"
     ]
    },
    {
     "name": "stdout",
     "output_type": "stream",
     "text": [
      "\n",
      "\r",
      "  0%|          | 0/1 [00:00<?, ?it/s]"
     ]
    },
    {
     "name": "stdout",
     "output_type": "stream",
     "text": [
      "\r",
      "Upgrading database; v8 -> v9:   0%|          | 0/1 [00:00<?, ?it/s]"
     ]
    },
    {
     "name": "stdout",
     "output_type": "stream",
     "text": [
      "\r",
      "Upgrading database; v8 -> v9: 100%|██████████| 1/1 [00:00<00:00, 987.59it/s]"
     ]
    },
    {
     "name": "stdout",
     "output_type": "stream",
     "text": [
      "\n"
     ]
    }
   ],
   "source": [
    "initialise_database()\n",
    "exp = load_or_create_experiment(experiment_name='tutorial_exp', sample_name=\"no sample\")"
   ]
  },
  {
   "cell_type": "markdown",
   "metadata": {},
   "source": [
    "Here, we define a simple function to benchmark the time it takes to insert n points with either numeric or array data type.\n",
    "We will compare both the time used to call ``add_result`` and the time used for the full measurement."
   ]
  },
  {
   "cell_type": "code",
   "execution_count": 4,
   "metadata": {
    "execution": {
     "iopub.execute_input": "2020-12-28T16:18:40.517864Z",
     "iopub.status.busy": "2020-12-28T16:18:40.516972Z",
     "iopub.status.idle": "2020-12-28T16:18:40.522063Z",
     "shell.execute_reply": "2020-12-28T16:18:40.521133Z"
    }
   },
   "outputs": [],
   "source": [
    "def insert_data(paramtype, npoints, nreps=1):\n",
    "\n",
    "    meas = Measurement(exp=exp)\n",
    "\n",
    "    x1 = ManualParameter('x1')\n",
    "    x2 = ManualParameter('x2')\n",
    "    x3 = ManualParameter('x3')\n",
    "    y1 = ManualParameter('y1')\n",
    "    y2 = ManualParameter('y2')\n",
    "\n",
    "    meas.register_parameter(x1, paramtype=paramtype)\n",
    "    meas.register_parameter(x2, paramtype=paramtype)\n",
    "    meas.register_parameter(x3, paramtype=paramtype)\n",
    "    meas.register_parameter(y1, setpoints=[x1, x2, x3],\n",
    "                            paramtype=paramtype)\n",
    "    meas.register_parameter(y2, setpoints=[x1, x2, x3],\n",
    "                            paramtype=paramtype)\n",
    "    start = time.perf_counter()\n",
    "    with meas.run() as datasaver:\n",
    "        start_adding = time.perf_counter()\n",
    "        for i in range(nreps):\n",
    "            datasaver.add_result((x1, np.random.rand(npoints)),\n",
    "                                 (x2, np.random.rand(npoints)),\n",
    "                                 (x3, np.random.rand(npoints)),\n",
    "                                 (y1, np.random.rand(npoints)),\n",
    "                                 (y2, np.random.rand(npoints)))\n",
    "        stop_adding = time.perf_counter()\n",
    "        run_id = datasaver.run_id\n",
    "    stop = time.perf_counter()\n",
    "    tot_time = stop - start\n",
    "    add_time = stop_adding - start_adding\n",
    "    return tot_time, add_time, run_id"
   ]
  },
  {
   "cell_type": "markdown",
   "metadata": {},
   "source": [
    "## Comparison between numeric/array data and binary blob"
   ]
  },
  {
   "cell_type": "markdown",
   "metadata": {},
   "source": [
    "### Case1: Short experiment time"
   ]
  },
  {
   "cell_type": "code",
   "execution_count": 5,
   "metadata": {
    "execution": {
     "iopub.execute_input": "2020-12-28T16:18:40.528242Z",
     "iopub.status.busy": "2020-12-28T16:18:40.527561Z",
     "iopub.status.idle": "2020-12-28T16:18:41.337174Z",
     "shell.execute_reply": "2020-12-28T16:18:41.336483Z"
    }
   },
   "outputs": [
    {
     "name": "stdout",
     "output_type": "stream",
     "text": [
      "Starting experimental run with id: 1. \n",
      "Starting experimental run with id: 2. \n",
      "Starting experimental run with id: 3. \n",
      "Starting experimental run with id: 4. \n",
      "Starting experimental run with id: 5. \n"
     ]
    },
    {
     "name": "stdout",
     "output_type": "stream",
     "text": [
      "Starting experimental run with id: 6. \n"
     ]
    },
    {
     "name": "stdout",
     "output_type": "stream",
     "text": [
      "Starting experimental run with id: 7. \n"
     ]
    },
    {
     "name": "stdout",
     "output_type": "stream",
     "text": [
      "Starting experimental run with id: 8. \n",
      "Starting experimental run with id: 9. \n"
     ]
    },
    {
     "name": "stdout",
     "output_type": "stream",
     "text": [
      "Starting experimental run with id: 10. \n",
      "Starting experimental run with id: 11. \n"
     ]
    },
    {
     "name": "stdout",
     "output_type": "stream",
     "text": [
      "Starting experimental run with id: 12. \n",
      "Starting experimental run with id: 13. \n"
     ]
    },
    {
     "name": "stdout",
     "output_type": "stream",
     "text": [
      "Starting experimental run with id: 14. \n"
     ]
    }
   ],
   "source": [
    "sizes = [1,500,1000,2000,3000,4000,5000]\n",
    "t_numeric = []\n",
    "t_numeric_add = []\n",
    "t_array = []\n",
    "t_array_add = []\n",
    "for size in sizes:\n",
    "    tn, tna, run_id_n =  insert_data('numeric', size)\n",
    "    t_numeric.append(tn)\n",
    "    t_numeric_add.append(tna)\n",
    "\n",
    "    ta, taa, run_id_a =  insert_data('array', size)\n",
    "    t_array.append(ta)\n",
    "    t_array_add.append(taa)"
   ]
  },
  {
   "cell_type": "code",
   "execution_count": 6,
   "metadata": {
    "execution": {
     "iopub.execute_input": "2020-12-28T16:18:41.363644Z",
     "iopub.status.busy": "2020-12-28T16:18:41.354519Z",
     "iopub.status.idle": "2020-12-28T16:18:41.546203Z",
     "shell.execute_reply": "2020-12-28T16:18:41.545508Z"
    }
   },
   "outputs": [
    {
     "data": {
      "image/png": "[encoded data removed]",
      "text/plain": [
       "<Figure size 432x288 with 1 Axes>"
      ]
     },
     "metadata": {
      "needs_background": "light"
     },
     "output_type": "display_data"
    }
   ],
   "source": [
    "fig, ax = plt.subplots(1,1)\n",
    "ax.plot(sizes, t_numeric, 'o-', label='Inserting row-by-row')\n",
    "ax.plot(sizes, t_numeric_add, 'o-', label='Inserting row-by-row: add_result only')\n",
    "ax.plot(sizes, t_array, 'd-', label='Inserting as binary blob')\n",
    "ax.plot(sizes, t_array_add, 'd-', label='Inserting as binary blob: add_result only')\n",
    "ax.legend()\n",
    "ax.set_xlabel('Array length')\n",
    "ax.set_ylabel('Time (s)')\n",
    "fig.tight_layout()"
   ]
  },
  {
   "cell_type": "markdown",
   "metadata": {},
   "source": [
    "As shown in the latter figure, the time to setup and and close the experiment is approximately 0.4 sec. In case of small array sizes, the difference between inserting values of data as arrays and inserting them row-by-row is relatively unimportant. At larger array sizes, i.e. above 10000 points, the cost of writing data as individual datapoints starts to become important.\n"
   ]
  },
  {
   "cell_type": "markdown",
   "metadata": {},
   "source": [
    "### Case2: Long experiment time "
   ]
  },
  {
   "cell_type": "code",
   "execution_count": 7,
   "metadata": {
    "execution": {
     "iopub.execute_input": "2020-12-28T16:18:41.553331Z",
     "iopub.status.busy": "2020-12-28T16:18:41.552563Z",
     "iopub.status.idle": "2020-12-28T16:19:40.093800Z",
     "shell.execute_reply": "2020-12-28T16:19:40.092225Z"
    }
   },
   "outputs": [
    {
     "name": "stdout",
     "output_type": "stream",
     "text": [
      "Starting experimental run with id: 15. \n",
      "Starting experimental run with id: 16. \n",
      "Starting experimental run with id: 17. \n"
     ]
    },
    {
     "name": "stdout",
     "output_type": "stream",
     "text": [
      "Starting experimental run with id: 18. \n",
      "Starting experimental run with id: 19. \n"
     ]
    },
    {
     "name": "stdout",
     "output_type": "stream",
     "text": [
      "Starting experimental run with id: 20. \n"
     ]
    },
    {
     "name": "stdout",
     "output_type": "stream",
     "text": [
      "Starting experimental run with id: 21. \n"
     ]
    },
    {
     "name": "stdout",
     "output_type": "stream",
     "text": [
      "Starting experimental run with id: 22. \n"
     ]
    },
    {
     "name": "stdout",
     "output_type": "stream",
     "text": [
      "Starting experimental run with id: 23. \n"
     ]
    },
    {
     "name": "stdout",
     "output_type": "stream",
     "text": [
      "Starting experimental run with id: 24. \n"
     ]
    },
    {
     "name": "stdout",
     "output_type": "stream",
     "text": [
      "Starting experimental run with id: 25. \n"
     ]
    },
    {
     "name": "stdout",
     "output_type": "stream",
     "text": [
      "Starting experimental run with id: 26. \n"
     ]
    },
    {
     "name": "stdout",
     "output_type": "stream",
     "text": [
      "Starting experimental run with id: 27. \n"
     ]
    },
    {
     "name": "stdout",
     "output_type": "stream",
     "text": [
      "Starting experimental run with id: 28. \n"
     ]
    }
   ],
   "source": [
    "sizes = [1,500,1000,2000,3000,4000,5000]\n",
    "nreps = 100\n",
    "t_numeric = []\n",
    "t_numeric_add = []\n",
    "t_numeric_run_ids = []\n",
    "t_array = []\n",
    "t_array_add = []\n",
    "t_array_run_ids = []\n",
    "for size in sizes:\n",
    "    tn, tna, run_id_n =  insert_data('numeric', size, nreps=nreps)\n",
    "    t_numeric.append(tn)\n",
    "    t_numeric_add.append(tna)\n",
    "    t_numeric_run_ids.append(run_id_n)\n",
    "\n",
    "    ta, taa, run_id_a =  insert_data('array', size, nreps=nreps)\n",
    "    t_array.append(ta)\n",
    "    t_array_add.append(taa)\n",
    "    t_array_run_ids.append(run_id_a)"
   ]
  },
  {
   "cell_type": "code",
   "execution_count": 8,
   "metadata": {
    "execution": {
     "iopub.execute_input": "2020-12-28T16:19:40.117889Z",
     "iopub.status.busy": "2020-12-28T16:19:40.114395Z",
     "iopub.status.idle": "2020-12-28T16:19:40.325515Z",
     "shell.execute_reply": "2020-12-28T16:19:40.325994Z"
    },
    "scrolled": true
   },
   "outputs": [
    {
     "data": {
      "image/png": "[encoded data removed]",
      "text/plain": [
       "<Figure size 432x288 with 1 Axes>"
      ]
     },
     "metadata": {
      "needs_background": "light"
     },
     "output_type": "display_data"
    }
   ],
   "source": [
    "fig, ax = plt.subplots(1,1)\n",
    "ax.plot(sizes, t_numeric, 'o-', label='Inserting row-by-row')\n",
    "ax.plot(sizes, t_numeric_add, 'o-', label='Inserting row-by-row: add_result only')\n",
    "ax.plot(sizes, t_array, 'd-', label='Inserting as binary blob')\n",
    "ax.plot(sizes, t_array_add, 'd-', label='Inserting as binary blob: add_result only')\n",
    "ax.legend()\n",
    "ax.set_xlabel('Array length')\n",
    "ax.set_ylabel('Time (s)')\n",
    "fig.tight_layout()"
   ]
  },
  {
   "cell_type": "markdown",
   "metadata": {},
   "source": [
    "However, as we increase the length of the experiment, as seen here by repeating the insertion 100 times, we see a big difference between inserting values of the data row-by-row and inserting it as a binary blob."
   ]
  },
  {
   "cell_type": "markdown",
   "metadata": {},
   "source": [
    "## Loading the data "
   ]
  },
  {
   "cell_type": "code",
   "execution_count": 9,
   "metadata": {
    "execution": {
     "iopub.execute_input": "2020-12-28T16:19:40.330530Z",
     "iopub.status.busy": "2020-12-28T16:19:40.329841Z",
     "iopub.status.idle": "2020-12-28T16:19:40.333699Z",
     "shell.execute_reply": "2020-12-28T16:19:40.333198Z"
    }
   },
   "outputs": [],
   "source": [
    "from qcodes.dataset.data_set import load_by_id\n",
    "from qcodes.dataset.data_export import get_data_by_id"
   ]
  },
  {
   "cell_type": "markdown",
   "metadata": {},
   "source": [
    "As usual you can load the data by using the ``load_by_id`` function but you will notice that the different storage methods\n",
    "are reflected in shape of the data as it is retrieved. "
   ]
  },
  {
   "cell_type": "code",
   "execution_count": 10,
   "metadata": {
    "execution": {
     "iopub.execute_input": "2020-12-28T16:19:40.338203Z",
     "iopub.status.busy": "2020-12-28T16:19:40.336979Z",
     "iopub.status.idle": "2020-12-28T16:19:40.338779Z",
     "shell.execute_reply": "2020-12-28T16:19:40.339361Z"
    }
   },
   "outputs": [],
   "source": [
    "run_id_n = t_numeric_run_ids[0]\n",
    "run_id_a = t_array_run_ids[0]"
   ]
  },
  {
   "cell_type": "code",
   "execution_count": 11,
   "metadata": {
    "execution": {
     "iopub.execute_input": "2020-12-28T16:19:40.343083Z",
     "iopub.status.busy": "2020-12-28T16:19:40.342365Z",
     "iopub.status.idle": "2020-12-28T16:19:40.352984Z",
     "shell.execute_reply": "2020-12-28T16:19:40.353537Z"
    },
    "scrolled": true
   },
   "outputs": [
    {
     "data": {
      "text/plain": [
       "{'x1': {'x1': array([0.65331004, 0.65331004, 0.60356318, 0.60356318, 0.53833083,\n",
       "         0.53833083, 0.41352204, 0.41352204, 0.02943864, 0.02943864,\n",
       "         0.47187099, 0.47187099, 0.30679869, 0.30679869, 0.0293651 ,\n",
       "         0.0293651 , 0.6929021 , 0.6929021 , 0.08843483, 0.08843483,\n",
       "         0.51731351, 0.51731351, 0.25617347, 0.25617347, 0.71136896,\n",
       "         0.71136896, 0.22886697, 0.22886697, 0.53281203, 0.53281203,\n",
       "         0.16339548, 0.16339548, 0.0471495 , 0.0471495 , 0.33840425,\n",
       "         0.33840425, 0.64701393, 0.64701393, 0.73588192, 0.73588192,\n",
       "         0.36784481, 0.36784481, 0.6377624 , 0.6377624 , 0.26184926,\n",
       "         0.26184926, 0.78619373, 0.78619373, 0.10019125, 0.10019125,\n",
       "         0.12045896, 0.12045896, 0.90241888, 0.90241888, 0.40258979,\n",
       "         0.40258979, 0.13650459, 0.13650459, 0.30600809, 0.30600809,\n",
       "         0.55927441, 0.55927441, 0.47136206, 0.47136206, 0.82424771,\n",
       "         0.82424771, 0.74934576, 0.74934576, 0.84605009, 0.84605009,\n",
       "         0.67987152, 0.67987152, 0.47455342, 0.47455342, 0.55983547,\n",
       "         0.55983547, 0.9877588 , 0.9877588 , 0.73637113, 0.73637113,\n",
       "         0.15706313, 0.15706313, 0.98320536, 0.98320536, 0.51830551,\n",
       "         0.51830551, 0.20220281, 0.20220281, 0.62480149, 0.62480149,\n",
       "         0.66016932, 0.66016932, 0.43180631, 0.43180631, 0.02884073,\n",
       "         0.02884073, 0.41998125, 0.41998125, 0.54178294, 0.54178294,\n",
       "         0.52011807, 0.52011807, 0.27443801, 0.27443801, 0.66857375,\n",
       "         0.66857375, 0.70637306, 0.70637306, 0.84053101, 0.84053101,\n",
       "         0.7487912 , 0.7487912 , 0.89166822, 0.89166822, 0.827886  ,\n",
       "         0.827886  , 0.49932268, 0.49932268, 0.60809519, 0.60809519,\n",
       "         0.05542244, 0.05542244, 0.47763235, 0.47763235, 0.56882571,\n",
       "         0.56882571, 0.13585641, 0.13585641, 0.68691449, 0.68691449,\n",
       "         0.85220225, 0.85220225, 0.77385847, 0.77385847, 0.65614878,\n",
       "         0.65614878, 0.03951407, 0.03951407, 0.15132785, 0.15132785,\n",
       "         0.91809974, 0.91809974, 0.67171119, 0.67171119, 0.27754093,\n",
       "         0.27754093, 0.53160378, 0.53160378, 0.03436763, 0.03436763,\n",
       "         0.54782276, 0.54782276, 0.02232104, 0.02232104, 0.57243044,\n",
       "         0.57243044, 0.66383115, 0.66383115, 0.66102995, 0.66102995,\n",
       "         0.37388396, 0.37388396, 0.95262107, 0.95262107, 0.06149438,\n",
       "         0.06149438, 0.94600308, 0.94600308, 0.56643368, 0.56643368,\n",
       "         0.20979149, 0.20979149, 0.92152913, 0.92152913, 0.4480276 ,\n",
       "         0.4480276 , 0.71277856, 0.71277856, 0.70341305, 0.70341305,\n",
       "         0.67100083, 0.67100083, 0.32382721, 0.32382721, 0.28796933,\n",
       "         0.28796933, 0.85073094, 0.85073094, 0.74590042, 0.74590042,\n",
       "         0.08419341, 0.08419341, 0.27257264, 0.27257264, 0.70201472,\n",
       "         0.70201472, 0.0348364 , 0.0348364 , 0.70648353, 0.70648353])}}"
      ]
     },
     "execution_count": 1,
     "metadata": {},
     "output_type": "execute_result"
    }
   ],
   "source": [
    "ds = load_by_id(run_id_n)\n",
    "ds.get_parameter_data('x1')"
   ]
  },
  {
   "cell_type": "markdown",
   "metadata": {},
   "source": [
    "And a dataset stored as binary arrays"
   ]
  },
  {
   "cell_type": "code",
   "execution_count": 12,
   "metadata": {
    "execution": {
     "iopub.execute_input": "2020-12-28T16:19:40.358046Z",
     "iopub.status.busy": "2020-12-28T16:19:40.357519Z",
     "iopub.status.idle": "2020-12-28T16:19:40.414403Z",
     "shell.execute_reply": "2020-12-28T16:19:40.413965Z"
    },
    "scrolled": true
   },
   "outputs": [
    {
     "data": {
      "text/plain": [
       "{'x1': {'x1': array([[0.60385715],\n",
       "         [0.60385715],\n",
       "         [0.99642055],\n",
       "         [0.99642055],\n",
       "         [0.35580829],\n",
       "         [0.35580829],\n",
       "         [0.92571792],\n",
       "         [0.92571792],\n",
       "         [0.12505954],\n",
       "         [0.12505954],\n",
       "         [0.71867623],\n",
       "         [0.71867623],\n",
       "         [0.41543635],\n",
       "         [0.41543635],\n",
       "         [0.0239797 ],\n",
       "         [0.0239797 ],\n",
       "         [0.67659223],\n",
       "         [0.67659223],\n",
       "         [0.51488183],\n",
       "         [0.51488183],\n",
       "         [0.05591684],\n",
       "         [0.05591684],\n",
       "         [0.03813525],\n",
       "         [0.03813525],\n",
       "         [0.77964275],\n",
       "         [0.77964275],\n",
       "         [0.19433157],\n",
       "         [0.19433157],\n",
       "         [0.4366643 ],\n",
       "         [0.4366643 ],\n",
       "         [0.04825567],\n",
       "         [0.04825567],\n",
       "         [0.10593993],\n",
       "         [0.10593993],\n",
       "         [0.51354876],\n",
       "         [0.51354876],\n",
       "         [0.6099336 ],\n",
       "         [0.6099336 ],\n",
       "         [0.92812625],\n",
       "         [0.92812625],\n",
       "         [0.43998249],\n",
       "         [0.43998249],\n",
       "         [0.85008529],\n",
       "         [0.85008529],\n",
       "         [0.55620417],\n",
       "         [0.55620417],\n",
       "         [0.01535346],\n",
       "         [0.01535346],\n",
       "         [0.48305794],\n",
       "         [0.48305794],\n",
       "         [0.49409577],\n",
       "         [0.49409577],\n",
       "         [0.02984946],\n",
       "         [0.02984946],\n",
       "         [0.84967255],\n",
       "         [0.84967255],\n",
       "         [0.59019407],\n",
       "         [0.59019407],\n",
       "         [0.61942218],\n",
       "         [0.61942218],\n",
       "         [0.24866633],\n",
       "         [0.24866633],\n",
       "         [0.90646914],\n",
       "         [0.90646914],\n",
       "         [0.64024899],\n",
       "         [0.64024899],\n",
       "         [0.12043243],\n",
       "         [0.12043243],\n",
       "         [0.82499001],\n",
       "         [0.82499001],\n",
       "         [0.09721376],\n",
       "         [0.09721376],\n",
       "         [0.54764243],\n",
       "         [0.54764243],\n",
       "         [0.61266379],\n",
       "         [0.61266379],\n",
       "         [0.04094197],\n",
       "         [0.04094197],\n",
       "         [0.82434941],\n",
       "         [0.82434941],\n",
       "         [0.88303447],\n",
       "         [0.88303447],\n",
       "         [0.37810563],\n",
       "         [0.37810563],\n",
       "         [0.01510357],\n",
       "         [0.01510357],\n",
       "         [0.38085431],\n",
       "         [0.38085431],\n",
       "         [0.4270709 ],\n",
       "         [0.4270709 ],\n",
       "         [0.59176164],\n",
       "         [0.59176164],\n",
       "         [0.13119937],\n",
       "         [0.13119937],\n",
       "         [0.65229541],\n",
       "         [0.65229541],\n",
       "         [0.62040522],\n",
       "         [0.62040522],\n",
       "         [0.24964425],\n",
       "         [0.24964425],\n",
       "         [0.09411209],\n",
       "         [0.09411209],\n",
       "         [0.2452615 ],\n",
       "         [0.2452615 ],\n",
       "         [0.35272469],\n",
       "         [0.35272469],\n",
       "         [0.76800341],\n",
       "         [0.76800341],\n",
       "         [0.7966938 ],\n",
       "         [0.7966938 ],\n",
       "         [0.15870877],\n",
       "         [0.15870877],\n",
       "         [0.29982852],\n",
       "         [0.29982852],\n",
       "         [0.76655948],\n",
       "         [0.76655948],\n",
       "         [0.20675281],\n",
       "         [0.20675281],\n",
       "         [0.38700242],\n",
       "         [0.38700242],\n",
       "         [0.23180048],\n",
       "         [0.23180048],\n",
       "         [0.56770922],\n",
       "         [0.56770922],\n",
       "         [0.85631156],\n",
       "         [0.85631156],\n",
       "         [0.35339917],\n",
       "         [0.35339917],\n",
       "         [0.8785274 ],\n",
       "         [0.8785274 ],\n",
       "         [0.97680229],\n",
       "         [0.97680229],\n",
       "         [0.5957416 ],\n",
       "         [0.5957416 ],\n",
       "         [0.81785046],\n",
       "         [0.81785046],\n",
       "         [0.46162577],\n",
       "         [0.46162577],\n",
       "         [0.17569035],\n",
       "         [0.17569035],\n",
       "         [0.79382039],\n",
       "         [0.79382039],\n",
       "         [0.58499616],\n",
       "         [0.58499616],\n",
       "         [0.65921181],\n",
       "         [0.65921181],\n",
       "         [0.74120301],\n",
       "         [0.74120301],\n",
       "         [0.01152703],\n",
       "         [0.01152703],\n",
       "         [0.72921481],\n",
       "         [0.72921481],\n",
       "         [0.27013555],\n",
       "         [0.27013555],\n",
       "         [0.12804559],\n",
       "         [0.12804559],\n",
       "         [0.13371189],\n",
       "         [0.13371189],\n",
       "         [0.76002521],\n",
       "         [0.76002521],\n",
       "         [0.13953644],\n",
       "         [0.13953644],\n",
       "         [0.82315017],\n",
       "         [0.82315017],\n",
       "         [0.38770216],\n",
       "         [0.38770216],\n",
       "         [0.02225394],\n",
       "         [0.02225394],\n",
       "         [0.37475208],\n",
       "         [0.37475208],\n",
       "         [0.61302434],\n",
       "         [0.61302434],\n",
       "         [0.21951498],\n",
       "         [0.21951498],\n",
       "         [0.5047878 ],\n",
       "         [0.5047878 ],\n",
       "         [0.73895887],\n",
       "         [0.73895887],\n",
       "         [0.27089846],\n",
       "         [0.27089846],\n",
       "         [0.0468529 ],\n",
       "         [0.0468529 ],\n",
       "         [0.99415812],\n",
       "         [0.99415812],\n",
       "         [0.47683413],\n",
       "         [0.47683413],\n",
       "         [0.94793098],\n",
       "         [0.94793098],\n",
       "         [0.32653121],\n",
       "         [0.32653121],\n",
       "         [0.69579636],\n",
       "         [0.69579636],\n",
       "         [0.80652391],\n",
       "         [0.80652391],\n",
       "         [0.0100128 ],\n",
       "         [0.0100128 ],\n",
       "         [0.56620395],\n",
       "         [0.56620395],\n",
       "         [0.66905562],\n",
       "         [0.66905562]])}}"
      ]
     },
     "execution_count": 1,
     "metadata": {},
     "output_type": "execute_result"
    }
   ],
   "source": [
    "ds = load_by_id(run_id_a)\n",
    "ds.get_parameter_data('x1')"
   ]
  },
  {
   "cell_type": "code",
   "execution_count": null,
   "metadata": {},
   "outputs": [],
   "source": []
  }
 ],
 "metadata": {
  "kernelspec": {
   "display_name": "Python 3",
   "language": "python",
   "name": "python3"
  },
  "language_info": {
   "codemirror_mode": {
    "name": "ipython",
    "version": 3
   },
   "file_extension": ".py",
   "mimetype": "text/x-python",
   "name": "python",
   "nbconvert_exporter": "python",
   "pygments_lexer": "ipython3",
   "version": "3.7.9"
  },
  "nbsphinx": {
   "timeout": 600
  },
  "toc": {
   "base_numbering": 1,
   "nav_menu": {},
   "number_sections": true,
   "sideBar": true,
   "skip_h1_title": false,
   "title_cell": "Table of Contents",
   "title_sidebar": "Contents",
   "toc_cell": false,
   "toc_position": {},
   "toc_section_display": true,
   "toc_window_display": false
  },
  "varInspector": {
   "cols": {
    "lenName": 16,
    "lenType": 16,
    "lenVar": 40
   },
   "kernels_config": {
    "python": {
     "delete_cmd_postfix": "",
     "delete_cmd_prefix": "del ",
     "library": "var_list.py",
     "varRefreshCmd": "print(var_dic_list())"
    },
    "r": {
     "delete_cmd_postfix": ") ",
     "delete_cmd_prefix": "rm(",
     "library": "var_list.r",
     "varRefreshCmd": "cat(var_dic_list()) "
    }
   },
   "types_to_exclude": [
    "module",
    "function",
    "builtin_function_or_method",
    "instance",
    "_Feature"
   ],
   "window_display": false
  }
 },
 "nbformat": 4,
 "nbformat_minor": 2
}
