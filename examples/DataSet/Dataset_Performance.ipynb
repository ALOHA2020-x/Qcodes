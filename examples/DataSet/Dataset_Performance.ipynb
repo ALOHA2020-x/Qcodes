{
 "cells": [
  {
   "cell_type": "markdown",
   "metadata": {},
   "source": [
    "# DataSet Performance\n",
    "\n",
    "This notebook shows the trade-off between inserting data into a database row-by-row and as binary blobs. Inserting the data row-by-row means that we have direct access to all the data and may perform queries directly on the values of the data. On the other hand, as we shall see, this is much slower than inserting the data directly as binary blobs."
   ]
  },
  {
   "cell_type": "markdown",
   "metadata": {},
   "source": [
    "First, we choose a new location for the database to ensure that we don't add a bunch of benchmarking data to the default one."
   ]
  },
  {
   "cell_type": "code",
   "execution_count": 1,
   "metadata": {
    "execution": {
     "iopub.execute_input": "2020-12-14T10:13:28.917623Z",
     "iopub.status.busy": "2020-12-14T10:13:28.916701Z",
     "iopub.status.idle": "2020-12-14T10:13:30.016399Z",
     "shell.execute_reply": "2020-12-14T10:13:30.015566Z"
    }
   },
   "outputs": [
    {
     "name": "stdout",
     "output_type": "stream",
     "text": [
      "Logging hadn't been started.\n",
      "Activating auto-logging. Current session state plus future input saved.\n",
      "Filename       : /home/vsts/.qcodes/logs/command_history.log\n",
      "Mode           : append\n",
      "Output logging : True\n",
      "Raw input log  : False\n",
      "Timestamping   : True\n",
      "State          : active\n"
     ]
    },
    {
     "name": "stdout",
     "output_type": "stream",
     "text": [
      "Qcodes Logfile : /home/vsts/.qcodes/logs/201214-14357-qcodes.log\n"
     ]
    }
   ],
   "source": [
    "import os\n",
    "cwd = os.getcwd()\n",
    "import qcodes as qc\n",
    "qc.config[\"core\"][\"db_location\"] = os.path.join(cwd, 'testing.db')\n"
   ]
  },
  {
   "cell_type": "code",
   "execution_count": 2,
   "metadata": {
    "execution": {
     "iopub.execute_input": "2020-12-14T10:13:30.022228Z",
     "iopub.status.busy": "2020-12-14T10:13:30.021114Z",
     "iopub.status.idle": "2020-12-14T10:13:30.216375Z",
     "shell.execute_reply": "2020-12-14T10:13:30.215518Z"
    }
   },
   "outputs": [],
   "source": [
    "%matplotlib inline\n",
    "import time\n",
    "import matplotlib.pyplot as plt\n",
    "import numpy as np\n",
    "\n",
    "import qcodes as qc\n",
    "from qcodes.instrument.parameter import ManualParameter\n",
    "from qcodes.dataset.experiment_container import (Experiment,\n",
    "                                                 load_last_experiment,\n",
    "                                                 new_experiment)\n",
    "from qcodes.dataset.sqlite.database import initialise_database\n",
    "from qcodes import load_or_create_experiment\n",
    "from qcodes.dataset.measurements import Measurement"
   ]
  },
  {
   "cell_type": "code",
   "execution_count": 3,
   "metadata": {
    "execution": {
     "iopub.execute_input": "2020-12-14T10:13:30.220377Z",
     "iopub.status.busy": "2020-12-14T10:13:30.219858Z",
     "iopub.status.idle": "2020-12-14T10:13:30.330096Z",
     "shell.execute_reply": "2020-12-14T10:13:30.329626Z"
    }
   },
   "outputs": [
    {
     "name": "stdout",
     "output_type": "stream",
     "text": [
      "\r",
      "0it [00:00, ?it/s]"
     ]
    },
    {
     "name": "stdout",
     "output_type": "stream",
     "text": [
      "\r",
      "Upgrading database; v0 -> v1: : 0it [00:00, ?it/s]"
     ]
    },
    {
     "name": "stdout",
     "output_type": "stream",
     "text": [
      "\r",
      "Upgrading database; v0 -> v1: : 0it [00:00, ?it/s]"
     ]
    },
    {
     "name": "stdout",
     "output_type": "stream",
     "text": [
      "\n",
      "\r",
      "  0%|          | 0/1 [00:00<?, ?it/s]"
     ]
    },
    {
     "name": "stdout",
     "output_type": "stream",
     "text": [
      "\r",
      "Upgrading database; v1 -> v2:   0%|          | 0/1 [00:00<?, ?it/s]"
     ]
    },
    {
     "name": "stdout",
     "output_type": "stream",
     "text": [
      "\r",
      "Upgrading database; v1 -> v2: 100%|██████████| 1/1 [00:00<00:00, 1205.26it/s]"
     ]
    },
    {
     "name": "stdout",
     "output_type": "stream",
     "text": [
      "\n",
      "\r",
      "0it [00:00, ?it/s]"
     ]
    },
    {
     "name": "stdout",
     "output_type": "stream",
     "text": [
      "\r",
      "Upgrading database; v2 -> v3: : 0it [00:00, ?it/s]"
     ]
    },
    {
     "name": "stdout",
     "output_type": "stream",
     "text": [
      "\r",
      "Upgrading database; v2 -> v3: : 0it [00:00, ?it/s]"
     ]
    },
    {
     "name": "stdout",
     "output_type": "stream",
     "text": [
      "\n",
      "\r",
      "0it [00:00, ?it/s]"
     ]
    },
    {
     "name": "stdout",
     "output_type": "stream",
     "text": [
      "\r",
      "Upgrading database; v3 -> v4: : 0it [00:00, ?it/s]"
     ]
    },
    {
     "name": "stdout",
     "output_type": "stream",
     "text": [
      "\r",
      "Upgrading database; v3 -> v4: : 0it [00:00, ?it/s]"
     ]
    },
    {
     "name": "stdout",
     "output_type": "stream",
     "text": [
      "\n",
      "\r",
      "  0%|          | 0/1 [00:00<?, ?it/s]"
     ]
    },
    {
     "name": "stdout",
     "output_type": "stream",
     "text": [
      "\r",
      "Upgrading database; v4 -> v5:   0%|          | 0/1 [00:00<?, ?it/s]"
     ]
    },
    {
     "name": "stdout",
     "output_type": "stream",
     "text": [
      "\r",
      "Upgrading database; v4 -> v5: 100%|██████████| 1/1 [00:00<00:00, 494.61it/s]"
     ]
    },
    {
     "name": "stdout",
     "output_type": "stream",
     "text": [
      "\n",
      "\r",
      "0it [00:00, ?it/s]"
     ]
    },
    {
     "name": "stdout",
     "output_type": "stream",
     "text": [
      "\r",
      "Upgrading database; v5 -> v6: : 0it [00:00, ?it/s]"
     ]
    },
    {
     "name": "stdout",
     "output_type": "stream",
     "text": [
      "\r",
      "Upgrading database; v5 -> v6: : 0it [00:00, ?it/s]"
     ]
    },
    {
     "name": "stdout",
     "output_type": "stream",
     "text": [
      "\n",
      "\r",
      "  0%|          | 0/1 [00:00<?, ?it/s]"
     ]
    },
    {
     "name": "stdout",
     "output_type": "stream",
     "text": [
      "\r",
      "Upgrading database; v6 -> v7:   0%|          | 0/1 [00:00<?, ?it/s]"
     ]
    },
    {
     "name": "stdout",
     "output_type": "stream",
     "text": [
      "\r",
      "Upgrading database; v6 -> v7: 100%|██████████| 1/1 [00:00<00:00, 306.38it/s]"
     ]
    },
    {
     "name": "stdout",
     "output_type": "stream",
     "text": [
      "\n",
      "\r",
      "  0%|          | 0/1 [00:00<?, ?it/s]"
     ]
    },
    {
     "name": "stdout",
     "output_type": "stream",
     "text": [
      "\r",
      "Upgrading database; v7 -> v8:   0%|          | 0/1 [00:00<?, ?it/s]"
     ]
    },
    {
     "name": "stdout",
     "output_type": "stream",
     "text": [
      "\r",
      "Upgrading database; v7 -> v8: 100%|██████████| 1/1 [00:00<00:00, 425.39it/s]"
     ]
    },
    {
     "name": "stdout",
     "output_type": "stream",
     "text": [
      "\n",
      "\r",
      "  0%|          | 0/1 [00:00<?, ?it/s]"
     ]
    },
    {
     "name": "stdout",
     "output_type": "stream",
     "text": [
      "\r",
      "Upgrading database; v8 -> v9:   0%|          | 0/1 [00:00<?, ?it/s]"
     ]
    },
    {
     "name": "stdout",
     "output_type": "stream",
     "text": [
      "\r",
      "Upgrading database; v8 -> v9: 100%|██████████| 1/1 [00:00<00:00, 1016.80it/s]"
     ]
    },
    {
     "name": "stdout",
     "output_type": "stream",
     "text": [
      "\n"
     ]
    }
   ],
   "source": [
    "initialise_database()\n",
    "exp = load_or_create_experiment(experiment_name='tutorial_exp', sample_name=\"no sample\")"
   ]
  },
  {
   "cell_type": "markdown",
   "metadata": {},
   "source": [
    "Here, we define a simple function to benchmark the time it takes to insert n points with either numeric or array data type.\n",
    "We will compare both the time used to call ``add_result`` and the time used for the full measurement."
   ]
  },
  {
   "cell_type": "code",
   "execution_count": 4,
   "metadata": {
    "execution": {
     "iopub.execute_input": "2020-12-14T10:13:30.339604Z",
     "iopub.status.busy": "2020-12-14T10:13:30.339045Z",
     "iopub.status.idle": "2020-12-14T10:13:30.341574Z",
     "shell.execute_reply": "2020-12-14T10:13:30.342112Z"
    }
   },
   "outputs": [],
   "source": [
    "def insert_data(paramtype, npoints, nreps=1):\n",
    "\n",
    "    meas = Measurement(exp=exp)\n",
    "\n",
    "    x1 = ManualParameter('x1')\n",
    "    x2 = ManualParameter('x2')\n",
    "    x3 = ManualParameter('x3')\n",
    "    y1 = ManualParameter('y1')\n",
    "    y2 = ManualParameter('y2')\n",
    "\n",
    "    meas.register_parameter(x1, paramtype=paramtype)\n",
    "    meas.register_parameter(x2, paramtype=paramtype)\n",
    "    meas.register_parameter(x3, paramtype=paramtype)\n",
    "    meas.register_parameter(y1, setpoints=[x1, x2, x3],\n",
    "                            paramtype=paramtype)\n",
    "    meas.register_parameter(y2, setpoints=[x1, x2, x3],\n",
    "                            paramtype=paramtype)\n",
    "    start = time.perf_counter()\n",
    "    with meas.run() as datasaver:\n",
    "        start_adding = time.perf_counter()\n",
    "        for i in range(nreps):\n",
    "            datasaver.add_result((x1, np.random.rand(npoints)),\n",
    "                                 (x2, np.random.rand(npoints)),\n",
    "                                 (x3, np.random.rand(npoints)),\n",
    "                                 (y1, np.random.rand(npoints)),\n",
    "                                 (y2, np.random.rand(npoints)))\n",
    "        stop_adding = time.perf_counter()\n",
    "        run_id = datasaver.run_id\n",
    "    stop = time.perf_counter()\n",
    "    tot_time = stop - start\n",
    "    add_time = stop_adding - start_adding\n",
    "    return tot_time, add_time, run_id"
   ]
  },
  {
   "cell_type": "markdown",
   "metadata": {},
   "source": [
    "## Comparison between numeric/array data and binary blob"
   ]
  },
  {
   "cell_type": "markdown",
   "metadata": {},
   "source": [
    "### Case1: Short experiment time"
   ]
  },
  {
   "cell_type": "code",
   "execution_count": 5,
   "metadata": {
    "execution": {
     "iopub.execute_input": "2020-12-14T10:13:30.348260Z",
     "iopub.status.busy": "2020-12-14T10:13:30.347733Z",
     "iopub.status.idle": "2020-12-14T10:13:31.215058Z",
     "shell.execute_reply": "2020-12-14T10:13:31.214079Z"
    }
   },
   "outputs": [
    {
     "name": "stdout",
     "output_type": "stream",
     "text": [
      "Starting experimental run with id: 1. \n",
      "Starting experimental run with id: 2. \n",
      "Starting experimental run with id: 3. \n",
      "Starting experimental run with id: 4. \n",
      "Starting experimental run with id: 5. \n"
     ]
    },
    {
     "name": "stdout",
     "output_type": "stream",
     "text": [
      "Starting experimental run with id: 6. \n"
     ]
    },
    {
     "name": "stdout",
     "output_type": "stream",
     "text": [
      "Starting experimental run with id: 7. \n"
     ]
    },
    {
     "name": "stdout",
     "output_type": "stream",
     "text": [
      "Starting experimental run with id: 8. \n",
      "Starting experimental run with id: 9. \n"
     ]
    },
    {
     "name": "stdout",
     "output_type": "stream",
     "text": [
      "Starting experimental run with id: 10. \n",
      "Starting experimental run with id: 11. \n"
     ]
    },
    {
     "name": "stdout",
     "output_type": "stream",
     "text": [
      "Starting experimental run with id: 12. \n",
      "Starting experimental run with id: 13. \n"
     ]
    },
    {
     "name": "stdout",
     "output_type": "stream",
     "text": [
      "Starting experimental run with id: 14. \n"
     ]
    }
   ],
   "source": [
    "sizes = [1,500,1000,2000,3000,4000,5000]\n",
    "t_numeric = []\n",
    "t_numeric_add = []\n",
    "t_array = []\n",
    "t_array_add = []\n",
    "for size in sizes:\n",
    "    tn, tna, run_id_n =  insert_data('numeric', size)\n",
    "    t_numeric.append(tn)\n",
    "    t_numeric_add.append(tna)\n",
    "\n",
    "    ta, taa, run_id_a =  insert_data('array', size)\n",
    "    t_array.append(ta)\n",
    "    t_array_add.append(taa)"
   ]
  },
  {
   "cell_type": "code",
   "execution_count": 6,
   "metadata": {
    "execution": {
     "iopub.execute_input": "2020-12-14T10:13:31.244859Z",
     "iopub.status.busy": "2020-12-14T10:13:31.231684Z",
     "iopub.status.idle": "2020-12-14T10:13:31.417973Z",
     "shell.execute_reply": "2020-12-14T10:13:31.418400Z"
    }
   },
   "outputs": [
    {
     "data": {
      "image/png": "[encoded data removed]",
      "text/plain": [
       "<Figure size 432x288 with 1 Axes>"
      ]
     },
     "metadata": {
      "needs_background": "light"
     },
     "output_type": "display_data"
    }
   ],
   "source": [
    "fig, ax = plt.subplots(1,1)\n",
    "ax.plot(sizes, t_numeric, 'o-', label='Inserting row-by-row')\n",
    "ax.plot(sizes, t_numeric_add, 'o-', label='Inserting row-by-row: add_result only')\n",
    "ax.plot(sizes, t_array, 'd-', label='Inserting as binary blob')\n",
    "ax.plot(sizes, t_array_add, 'd-', label='Inserting as binary blob: add_result only')\n",
    "ax.legend()\n",
    "ax.set_xlabel('Array length')\n",
    "ax.set_ylabel('Time (s)')\n",
    "fig.tight_layout()"
   ]
  },
  {
   "cell_type": "markdown",
   "metadata": {},
   "source": [
    "As shown in the latter figure, the time to setup and and close the experiment is approximately 0.4 sec. In case of small array sizes, the difference between inserting values of data as arrays and inserting them row-by-row is relatively unimportant. At larger array sizes, i.e. above 10000 points, the cost of writing data as individual datapoints starts to become important.\n"
   ]
  },
  {
   "cell_type": "markdown",
   "metadata": {},
   "source": [
    "### Case2: Long experiment time "
   ]
  },
  {
   "cell_type": "code",
   "execution_count": 7,
   "metadata": {
    "execution": {
     "iopub.execute_input": "2020-12-14T10:13:31.425653Z",
     "iopub.status.busy": "2020-12-14T10:13:31.425116Z",
     "iopub.status.idle": "2020-12-14T10:14:31.060986Z",
     "shell.execute_reply": "2020-12-14T10:14:31.060296Z"
    }
   },
   "outputs": [
    {
     "name": "stdout",
     "output_type": "stream",
     "text": [
      "Starting experimental run with id: 15. \n",
      "Starting experimental run with id: 16. \n",
      "Starting experimental run with id: 17. \n"
     ]
    },
    {
     "name": "stdout",
     "output_type": "stream",
     "text": [
      "Starting experimental run with id: 18. \n",
      "Starting experimental run with id: 19. \n"
     ]
    },
    {
     "name": "stdout",
     "output_type": "stream",
     "text": [
      "Starting experimental run with id: 20. \n"
     ]
    },
    {
     "name": "stdout",
     "output_type": "stream",
     "text": [
      "Starting experimental run with id: 21. \n"
     ]
    },
    {
     "name": "stdout",
     "output_type": "stream",
     "text": [
      "Starting experimental run with id: 22. \n"
     ]
    },
    {
     "name": "stdout",
     "output_type": "stream",
     "text": [
      "Starting experimental run with id: 23. \n"
     ]
    },
    {
     "name": "stdout",
     "output_type": "stream",
     "text": [
      "Starting experimental run with id: 24. \n"
     ]
    },
    {
     "name": "stdout",
     "output_type": "stream",
     "text": [
      "Starting experimental run with id: 25. \n"
     ]
    },
    {
     "name": "stdout",
     "output_type": "stream",
     "text": [
      "Starting experimental run with id: 26. \n"
     ]
    },
    {
     "name": "stdout",
     "output_type": "stream",
     "text": [
      "Starting experimental run with id: 27. \n"
     ]
    },
    {
     "name": "stdout",
     "output_type": "stream",
     "text": [
      "Starting experimental run with id: 28. \n"
     ]
    }
   ],
   "source": [
    "sizes = [1,500,1000,2000,3000,4000,5000]\n",
    "nreps = 100\n",
    "t_numeric = []\n",
    "t_numeric_add = []\n",
    "t_numeric_run_ids = []\n",
    "t_array = []\n",
    "t_array_add = []\n",
    "t_array_run_ids = []\n",
    "for size in sizes:\n",
    "    tn, tna, run_id_n =  insert_data('numeric', size, nreps=nreps)\n",
    "    t_numeric.append(tn)\n",
    "    t_numeric_add.append(tna)\n",
    "    t_numeric_run_ids.append(run_id_n)\n",
    "\n",
    "    ta, taa, run_id_a =  insert_data('array', size, nreps=nreps)\n",
    "    t_array.append(ta)\n",
    "    t_array_add.append(taa)\n",
    "    t_array_run_ids.append(run_id_a)"
   ]
  },
  {
   "cell_type": "code",
   "execution_count": 8,
   "metadata": {
    "execution": {
     "iopub.execute_input": "2020-12-14T10:14:31.067329Z",
     "iopub.status.busy": "2020-12-14T10:14:31.065785Z",
     "iopub.status.idle": "2020-12-14T10:14:31.264072Z",
     "shell.execute_reply": "2020-12-14T10:14:31.264655Z"
    },
    "scrolled": true
   },
   "outputs": [
    {
     "data": {
      "image/png": "[encoded data removed]",
      "text/plain": [
       "<Figure size 432x288 with 1 Axes>"
      ]
     },
     "metadata": {
      "needs_background": "light"
     },
     "output_type": "display_data"
    }
   ],
   "source": [
    "fig, ax = plt.subplots(1,1)\n",
    "ax.plot(sizes, t_numeric, 'o-', label='Inserting row-by-row')\n",
    "ax.plot(sizes, t_numeric_add, 'o-', label='Inserting row-by-row: add_result only')\n",
    "ax.plot(sizes, t_array, 'd-', label='Inserting as binary blob')\n",
    "ax.plot(sizes, t_array_add, 'd-', label='Inserting as binary blob: add_result only')\n",
    "ax.legend()\n",
    "ax.set_xlabel('Array length')\n",
    "ax.set_ylabel('Time (s)')\n",
    "fig.tight_layout()"
   ]
  },
  {
   "cell_type": "markdown",
   "metadata": {},
   "source": [
    "However, as we increase the length of the experiment, as seen here by repeating the insertion 100 times, we see a big difference between inserting values of the data row-by-row and inserting it as a binary blob."
   ]
  },
  {
   "cell_type": "markdown",
   "metadata": {},
   "source": [
    "## Loading the data "
   ]
  },
  {
   "cell_type": "code",
   "execution_count": 9,
   "metadata": {
    "execution": {
     "iopub.execute_input": "2020-12-14T10:14:31.269033Z",
     "iopub.status.busy": "2020-12-14T10:14:31.268012Z",
     "iopub.status.idle": "2020-12-14T10:14:31.271266Z",
     "shell.execute_reply": "2020-12-14T10:14:31.270816Z"
    }
   },
   "outputs": [],
   "source": [
    "from qcodes.dataset.data_set import load_by_id\n",
    "from qcodes.dataset.data_export import get_data_by_id"
   ]
  },
  {
   "cell_type": "markdown",
   "metadata": {},
   "source": [
    "As usual you can load the data by using the ``load_by_id`` function but you will notice that the different storage methods\n",
    "are reflected in shape of the data as it is retrieved. "
   ]
  },
  {
   "cell_type": "code",
   "execution_count": 10,
   "metadata": {
    "execution": {
     "iopub.execute_input": "2020-12-14T10:14:31.275793Z",
     "iopub.status.busy": "2020-12-14T10:14:31.274716Z",
     "iopub.status.idle": "2020-12-14T10:14:31.276346Z",
     "shell.execute_reply": "2020-12-14T10:14:31.276908Z"
    }
   },
   "outputs": [],
   "source": [
    "run_id_n = t_numeric_run_ids[0]\n",
    "run_id_a = t_array_run_ids[0]"
   ]
  },
  {
   "cell_type": "code",
   "execution_count": 11,
   "metadata": {
    "execution": {
     "iopub.execute_input": "2020-12-14T10:14:31.280008Z",
     "iopub.status.busy": "2020-12-14T10:14:31.279504Z",
     "iopub.status.idle": "2020-12-14T10:14:31.289208Z",
     "shell.execute_reply": "2020-12-14T10:14:31.288657Z"
    },
    "scrolled": true
   },
   "outputs": [
    {
     "data": {
      "text/plain": [
       "{'x1': {'x1': array([0.27855478, 0.27855478, 0.5140575 , 0.5140575 , 0.2167641 ,\n",
       "         0.2167641 , 0.22705664, 0.22705664, 0.63030601, 0.63030601,\n",
       "         0.62848694, 0.62848694, 0.84602055, 0.84602055, 0.8761864 ,\n",
       "         0.8761864 , 0.93016723, 0.93016723, 0.96997532, 0.96997532,\n",
       "         0.92750028, 0.92750028, 0.42414608, 0.42414608, 0.42133659,\n",
       "         0.42133659, 0.15710578, 0.15710578, 0.64195288, 0.64195288,\n",
       "         0.22213426, 0.22213426, 0.84408592, 0.84408592, 0.70099854,\n",
       "         0.70099854, 0.5672883 , 0.5672883 , 0.4409272 , 0.4409272 ,\n",
       "         0.09940578, 0.09940578, 0.59640817, 0.59640817, 0.14720015,\n",
       "         0.14720015, 0.15049118, 0.15049118, 0.73458947, 0.73458947,\n",
       "         0.65902889, 0.65902889, 0.52403353, 0.52403353, 0.51286545,\n",
       "         0.51286545, 0.92835153, 0.92835153, 0.15341084, 0.15341084,\n",
       "         0.78214294, 0.78214294, 0.67336057, 0.67336057, 0.37650365,\n",
       "         0.37650365, 0.19347091, 0.19347091, 0.8152832 , 0.8152832 ,\n",
       "         0.30181966, 0.30181966, 0.12733715, 0.12733715, 0.87172506,\n",
       "         0.87172506, 0.54492384, 0.54492384, 0.197644  , 0.197644  ,\n",
       "         0.88339686, 0.88339686, 0.03987654, 0.03987654, 0.10224467,\n",
       "         0.10224467, 0.60750668, 0.60750668, 0.30087538, 0.30087538,\n",
       "         0.30674923, 0.30674923, 0.50459628, 0.50459628, 0.26231348,\n",
       "         0.26231348, 0.66948353, 0.66948353, 0.70002519, 0.70002519,\n",
       "         0.44786864, 0.44786864, 0.20131823, 0.20131823, 0.23255481,\n",
       "         0.23255481, 0.13264758, 0.13264758, 0.12001991, 0.12001991,\n",
       "         0.68022642, 0.68022642, 0.5084232 , 0.5084232 , 0.73875234,\n",
       "         0.73875234, 0.18813381, 0.18813381, 0.38210404, 0.38210404,\n",
       "         0.63100646, 0.63100646, 0.27180414, 0.27180414, 0.93903344,\n",
       "         0.93903344, 0.50283599, 0.50283599, 0.43434832, 0.43434832,\n",
       "         0.72099315, 0.72099315, 0.57614772, 0.57614772, 0.38193738,\n",
       "         0.38193738, 0.50444541, 0.50444541, 0.67892952, 0.67892952,\n",
       "         0.08123809, 0.08123809, 0.20986452, 0.20986452, 0.28442264,\n",
       "         0.28442264, 0.86354327, 0.86354327, 0.74755857, 0.74755857,\n",
       "         0.50859093, 0.50859093, 0.89132378, 0.89132378, 0.76740054,\n",
       "         0.76740054, 0.58315451, 0.58315451, 0.8022523 , 0.8022523 ,\n",
       "         0.05023397, 0.05023397, 0.33069805, 0.33069805, 0.68660666,\n",
       "         0.68660666, 0.76854059, 0.76854059, 0.45262302, 0.45262302,\n",
       "         0.45524094, 0.45524094, 0.54975183, 0.54975183, 0.7951689 ,\n",
       "         0.7951689 , 0.33870066, 0.33870066, 0.29979714, 0.29979714,\n",
       "         0.87586827, 0.87586827, 0.25613161, 0.25613161, 0.98880689,\n",
       "         0.98880689, 0.94213792, 0.94213792, 0.03046396, 0.03046396,\n",
       "         0.19544308, 0.19544308, 0.28247027, 0.28247027, 0.03325656,\n",
       "         0.03325656, 0.79691289, 0.79691289, 0.73706017, 0.73706017])}}"
      ]
     },
     "execution_count": 1,
     "metadata": {},
     "output_type": "execute_result"
    }
   ],
   "source": [
    "ds = load_by_id(run_id_n)\n",
    "ds.get_parameter_data('x1')"
   ]
  },
  {
   "cell_type": "markdown",
   "metadata": {},
   "source": [
    "And a dataset stored as binary arrays"
   ]
  },
  {
   "cell_type": "code",
   "execution_count": 12,
   "metadata": {
    "execution": {
     "iopub.execute_input": "2020-12-14T10:14:31.292520Z",
     "iopub.status.busy": "2020-12-14T10:14:31.291981Z",
     "iopub.status.idle": "2020-12-14T10:14:31.347407Z",
     "shell.execute_reply": "2020-12-14T10:14:31.348342Z"
    },
    "scrolled": true
   },
   "outputs": [
    {
     "data": {
      "text/plain": [
       "{'x1': {'x1': array([[4.64183314e-01],\n",
       "         [4.64183314e-01],\n",
       "         [4.26791249e-01],\n",
       "         [4.26791249e-01],\n",
       "         [9.08604560e-01],\n",
       "         [9.08604560e-01],\n",
       "         [7.67641708e-02],\n",
       "         [7.67641708e-02],\n",
       "         [6.47464436e-01],\n",
       "         [6.47464436e-01],\n",
       "         [9.84942836e-01],\n",
       "         [9.84942836e-01],\n",
       "         [9.06475678e-01],\n",
       "         [9.06475678e-01],\n",
       "         [2.51903360e-01],\n",
       "         [2.51903360e-01],\n",
       "         [3.15781334e-01],\n",
       "         [3.15781334e-01],\n",
       "         [9.83887556e-01],\n",
       "         [9.83887556e-01],\n",
       "         [3.98735810e-01],\n",
       "         [3.98735810e-01],\n",
       "         [5.13356836e-01],\n",
       "         [5.13356836e-01],\n",
       "         [5.42471190e-02],\n",
       "         [5.42471190e-02],\n",
       "         [6.56604196e-01],\n",
       "         [6.56604196e-01],\n",
       "         [1.79111298e-01],\n",
       "         [1.79111298e-01],\n",
       "         [4.62220484e-01],\n",
       "         [4.62220484e-01],\n",
       "         [9.95393333e-01],\n",
       "         [9.95393333e-01],\n",
       "         [1.85687164e-01],\n",
       "         [1.85687164e-01],\n",
       "         [8.31595092e-01],\n",
       "         [8.31595092e-01],\n",
       "         [5.78302099e-01],\n",
       "         [5.78302099e-01],\n",
       "         [3.23580035e-01],\n",
       "         [3.23580035e-01],\n",
       "         [9.21911865e-01],\n",
       "         [9.21911865e-01],\n",
       "         [2.35288190e-01],\n",
       "         [2.35288190e-01],\n",
       "         [3.79305116e-01],\n",
       "         [3.79305116e-01],\n",
       "         [9.45349729e-01],\n",
       "         [9.45349729e-01],\n",
       "         [9.85672860e-03],\n",
       "         [9.85672860e-03],\n",
       "         [3.79830807e-01],\n",
       "         [3.79830807e-01],\n",
       "         [8.47302261e-01],\n",
       "         [8.47302261e-01],\n",
       "         [4.87718417e-01],\n",
       "         [4.87718417e-01],\n",
       "         [3.50229103e-01],\n",
       "         [3.50229103e-01],\n",
       "         [7.65367074e-01],\n",
       "         [7.65367074e-01],\n",
       "         [9.67377120e-01],\n",
       "         [9.67377120e-01],\n",
       "         [4.14001906e-01],\n",
       "         [4.14001906e-01],\n",
       "         [9.76915192e-01],\n",
       "         [9.76915192e-01],\n",
       "         [6.64009389e-01],\n",
       "         [6.64009389e-01],\n",
       "         [4.69572097e-02],\n",
       "         [4.69572097e-02],\n",
       "         [4.44187299e-02],\n",
       "         [4.44187299e-02],\n",
       "         [4.00727291e-01],\n",
       "         [4.00727291e-01],\n",
       "         [8.13744183e-01],\n",
       "         [8.13744183e-01],\n",
       "         [1.46543831e-01],\n",
       "         [1.46543831e-01],\n",
       "         [2.08217102e-01],\n",
       "         [2.08217102e-01],\n",
       "         [2.60495377e-01],\n",
       "         [2.60495377e-01],\n",
       "         [9.33252195e-01],\n",
       "         [9.33252195e-01],\n",
       "         [9.72543486e-01],\n",
       "         [9.72543486e-01],\n",
       "         [4.98471463e-01],\n",
       "         [4.98471463e-01],\n",
       "         [4.76405581e-01],\n",
       "         [4.76405581e-01],\n",
       "         [8.65937652e-01],\n",
       "         [8.65937652e-01],\n",
       "         [8.03955877e-02],\n",
       "         [8.03955877e-02],\n",
       "         [5.63809896e-01],\n",
       "         [5.63809896e-01],\n",
       "         [1.79295930e-01],\n",
       "         [1.79295930e-01],\n",
       "         [1.04789047e-02],\n",
       "         [1.04789047e-02],\n",
       "         [9.12439311e-01],\n",
       "         [9.12439311e-01],\n",
       "         [1.89030967e-01],\n",
       "         [1.89030967e-01],\n",
       "         [7.55370455e-02],\n",
       "         [7.55370455e-02],\n",
       "         [5.76232580e-01],\n",
       "         [5.76232580e-01],\n",
       "         [7.80328092e-01],\n",
       "         [7.80328092e-01],\n",
       "         [5.59371165e-01],\n",
       "         [5.59371165e-01],\n",
       "         [5.05896191e-01],\n",
       "         [5.05896191e-01],\n",
       "         [2.95779977e-01],\n",
       "         [2.95779977e-01],\n",
       "         [7.17828260e-01],\n",
       "         [7.17828260e-01],\n",
       "         [1.59875859e-01],\n",
       "         [1.59875859e-01],\n",
       "         [3.44980432e-01],\n",
       "         [3.44980432e-01],\n",
       "         [3.96394868e-01],\n",
       "         [3.96394868e-01],\n",
       "         [5.26156905e-01],\n",
       "         [5.26156905e-01],\n",
       "         [5.76172539e-01],\n",
       "         [5.76172539e-01],\n",
       "         [3.65963955e-01],\n",
       "         [3.65963955e-01],\n",
       "         [7.08801751e-01],\n",
       "         [7.08801751e-01],\n",
       "         [8.57675921e-01],\n",
       "         [8.57675921e-01],\n",
       "         [1.82986504e-02],\n",
       "         [1.82986504e-02],\n",
       "         [9.56973197e-01],\n",
       "         [9.56973197e-01],\n",
       "         [4.00018969e-02],\n",
       "         [4.00018969e-02],\n",
       "         [2.13616028e-01],\n",
       "         [2.13616028e-01],\n",
       "         [3.10379557e-01],\n",
       "         [3.10379557e-01],\n",
       "         [8.51479310e-01],\n",
       "         [8.51479310e-01],\n",
       "         [8.70080205e-03],\n",
       "         [8.70080205e-03],\n",
       "         [3.30785774e-01],\n",
       "         [3.30785774e-01],\n",
       "         [1.13503826e-01],\n",
       "         [1.13503826e-01],\n",
       "         [1.29336689e-01],\n",
       "         [1.29336689e-01],\n",
       "         [2.37063238e-02],\n",
       "         [2.37063238e-02],\n",
       "         [6.39243845e-01],\n",
       "         [6.39243845e-01],\n",
       "         [1.18820692e-01],\n",
       "         [1.18820692e-01],\n",
       "         [2.70976297e-01],\n",
       "         [2.70976297e-01],\n",
       "         [3.19334208e-01],\n",
       "         [3.19334208e-01],\n",
       "         [6.04988493e-01],\n",
       "         [6.04988493e-01],\n",
       "         [3.70405739e-01],\n",
       "         [3.70405739e-01],\n",
       "         [2.13583635e-01],\n",
       "         [2.13583635e-01],\n",
       "         [1.52931693e-01],\n",
       "         [1.52931693e-01],\n",
       "         [9.51547164e-01],\n",
       "         [9.51547164e-01],\n",
       "         [7.34399293e-01],\n",
       "         [7.34399293e-01],\n",
       "         [2.05438980e-01],\n",
       "         [2.05438980e-01],\n",
       "         [1.01632671e-01],\n",
       "         [1.01632671e-01],\n",
       "         [1.77091309e-01],\n",
       "         [1.77091309e-01],\n",
       "         [5.69574320e-01],\n",
       "         [5.69574320e-01],\n",
       "         [6.00717261e-01],\n",
       "         [6.00717261e-01],\n",
       "         [7.92909273e-02],\n",
       "         [7.92909273e-02],\n",
       "         [7.12801483e-01],\n",
       "         [7.12801483e-01],\n",
       "         [5.17854902e-01],\n",
       "         [5.17854902e-01],\n",
       "         [8.99232445e-01],\n",
       "         [8.99232445e-01],\n",
       "         [4.10780079e-01],\n",
       "         [4.10780079e-01],\n",
       "         [3.94880463e-04],\n",
       "         [3.94880463e-04]])}}"
      ]
     },
     "execution_count": 1,
     "metadata": {},
     "output_type": "execute_result"
    }
   ],
   "source": [
    "ds = load_by_id(run_id_a)\n",
    "ds.get_parameter_data('x1')"
   ]
  },
  {
   "cell_type": "code",
   "execution_count": null,
   "metadata": {},
   "outputs": [],
   "source": []
  }
 ],
 "metadata": {
  "kernelspec": {
   "display_name": "Python 3",
   "language": "python",
   "name": "python3"
  },
  "language_info": {
   "codemirror_mode": {
    "name": "ipython",
    "version": 3
   },
   "file_extension": ".py",
   "mimetype": "text/x-python",
   "name": "python",
   "nbconvert_exporter": "python",
   "pygments_lexer": "ipython3",
   "version": "3.7.9"
  },
  "nbsphinx": {
   "timeout": 600
  },
  "toc": {
   "base_numbering": 1,
   "nav_menu": {},
   "number_sections": true,
   "sideBar": true,
   "skip_h1_title": false,
   "title_cell": "Table of Contents",
   "title_sidebar": "Contents",
   "toc_cell": false,
   "toc_position": {},
   "toc_section_display": true,
   "toc_window_display": false
  },
  "varInspector": {
   "cols": {
    "lenName": 16,
    "lenType": 16,
    "lenVar": 40
   },
   "kernels_config": {
    "python": {
     "delete_cmd_postfix": "",
     "delete_cmd_prefix": "del ",
     "library": "var_list.py",
     "varRefreshCmd": "print(var_dic_list())"
    },
    "r": {
     "delete_cmd_postfix": ") ",
     "delete_cmd_prefix": "rm(",
     "library": "var_list.r",
     "varRefreshCmd": "cat(var_dic_list()) "
    }
   },
   "types_to_exclude": [
    "module",
    "function",
    "builtin_function_or_method",
    "instance",
    "_Feature"
   ],
   "window_display": false
  }
 },
 "nbformat": 4,
 "nbformat_minor": 2
}
