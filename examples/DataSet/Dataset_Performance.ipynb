{
 "cells": [
  {
   "cell_type": "markdown",
   "metadata": {},
   "source": [
    "# DataSet Performance\n",
    "\n",
    "This notebook shows the trade-off between inserting data into a database row-by-row and as binary blobs. Inserting the data row-by-row means that we have direct access to all the data and may perform queries directly on the values of the data. On the other hand, as we shall see, this is much slower than inserting the data directly as binary blobs."
   ]
  },
  {
   "cell_type": "markdown",
   "metadata": {},
   "source": [
    "First, we choose a new location for the database to ensure that we don't add a bunch of benchmarking data to the default one."
   ]
  },
  {
   "cell_type": "code",
   "execution_count": 1,
   "metadata": {
    "execution": {
     "iopub.execute_input": "2020-11-12T07:15:46.748748Z",
     "iopub.status.busy": "2020-11-12T07:15:46.748212Z",
     "iopub.status.idle": "2020-11-12T07:15:47.856137Z",
     "shell.execute_reply": "2020-11-12T07:15:47.856598Z"
    }
   },
   "outputs": [
    {
     "name": "stdout",
     "output_type": "stream",
     "text": [
      "Logging hadn't been started.\n",
      "Activating auto-logging. Current session state plus future input saved.\n",
      "Filename       : /home/vsts/.qcodes/logs/command_history.log\n",
      "Mode           : append\n",
      "Output logging : True\n",
      "Raw input log  : False\n",
      "Timestamping   : True\n",
      "State          : active\n"
     ]
    },
    {
     "name": "stdout",
     "output_type": "stream",
     "text": [
      "Qcodes Logfile : /home/vsts/.qcodes/logs/201112-14972-qcodes.log\n"
     ]
    }
   ],
   "source": [
    "import os\n",
    "cwd = os.getcwd()\n",
    "import qcodes as qc\n",
    "qc.config[\"core\"][\"db_location\"] = os.path.join(cwd, 'testing.db')\n"
   ]
  },
  {
   "cell_type": "code",
   "execution_count": 2,
   "metadata": {
    "execution": {
     "iopub.execute_input": "2020-11-12T07:15:47.863199Z",
     "iopub.status.busy": "2020-11-12T07:15:47.862520Z",
     "iopub.status.idle": "2020-11-12T07:15:48.057872Z",
     "shell.execute_reply": "2020-11-12T07:15:48.058371Z"
    }
   },
   "outputs": [],
   "source": [
    "%matplotlib inline\n",
    "import time\n",
    "import matplotlib.pyplot as plt\n",
    "import numpy as np\n",
    "\n",
    "import qcodes as qc\n",
    "from qcodes.instrument.parameter import ManualParameter\n",
    "from qcodes.dataset.experiment_container import (Experiment,\n",
    "                                                 load_last_experiment,\n",
    "                                                 new_experiment)\n",
    "from qcodes.dataset.sqlite.database import initialise_database\n",
    "from qcodes import load_or_create_experiment\n",
    "from qcodes.dataset.measurements import Measurement"
   ]
  },
  {
   "cell_type": "code",
   "execution_count": 3,
   "metadata": {
    "execution": {
     "iopub.execute_input": "2020-11-12T07:15:48.063463Z",
     "iopub.status.busy": "2020-11-12T07:15:48.062646Z",
     "iopub.status.idle": "2020-11-12T07:15:48.181179Z",
     "shell.execute_reply": "2020-11-12T07:15:48.181713Z"
    }
   },
   "outputs": [
    {
     "name": "stdout",
     "output_type": "stream",
     "text": [
      "\r",
      "0it [00:00, ?it/s]"
     ]
    },
    {
     "name": "stdout",
     "output_type": "stream",
     "text": [
      "\r",
      "Upgrading database; v0 -> v1: : 0it [00:00, ?it/s]"
     ]
    },
    {
     "name": "stdout",
     "output_type": "stream",
     "text": [
      "\r",
      "Upgrading database; v0 -> v1: : 0it [00:00, ?it/s]"
     ]
    },
    {
     "name": "stdout",
     "output_type": "stream",
     "text": [
      "\n",
      "\r",
      "  0%|          | 0/1 [00:00<?, ?it/s]"
     ]
    },
    {
     "name": "stdout",
     "output_type": "stream",
     "text": [
      "\r",
      "Upgrading database; v1 -> v2:   0%|          | 0/1 [00:00<?, ?it/s]"
     ]
    },
    {
     "name": "stdout",
     "output_type": "stream",
     "text": [
      "\r",
      "Upgrading database; v1 -> v2: 100%|██████████| 1/1 [00:00<00:00, 578.76it/s]"
     ]
    },
    {
     "name": "stdout",
     "output_type": "stream",
     "text": [
      "\n",
      "\r",
      "0it [00:00, ?it/s]"
     ]
    },
    {
     "name": "stdout",
     "output_type": "stream",
     "text": [
      "\r",
      "Upgrading database; v2 -> v3: : 0it [00:00, ?it/s]"
     ]
    },
    {
     "name": "stdout",
     "output_type": "stream",
     "text": [
      "\r",
      "Upgrading database; v2 -> v3: : 0it [00:00, ?it/s]"
     ]
    },
    {
     "name": "stdout",
     "output_type": "stream",
     "text": [
      "\n",
      "\r",
      "0it [00:00, ?it/s]"
     ]
    },
    {
     "name": "stdout",
     "output_type": "stream",
     "text": [
      "\r",
      "Upgrading database; v3 -> v4: : 0it [00:00, ?it/s]"
     ]
    },
    {
     "name": "stdout",
     "output_type": "stream",
     "text": [
      "\r",
      "Upgrading database; v3 -> v4: : 0it [00:00, ?it/s]"
     ]
    },
    {
     "name": "stdout",
     "output_type": "stream",
     "text": [
      "\n",
      "\r",
      "  0%|          | 0/1 [00:00<?, ?it/s]"
     ]
    },
    {
     "name": "stdout",
     "output_type": "stream",
     "text": [
      "\r",
      "Upgrading database; v4 -> v5:   0%|          | 0/1 [00:00<?, ?it/s]"
     ]
    },
    {
     "name": "stdout",
     "output_type": "stream",
     "text": [
      "\r",
      "Upgrading database; v4 -> v5: 100%|██████████| 1/1 [00:00<00:00, 590.25it/s]"
     ]
    },
    {
     "name": "stdout",
     "output_type": "stream",
     "text": [
      "\n",
      "\r",
      "0it [00:00, ?it/s]"
     ]
    },
    {
     "name": "stdout",
     "output_type": "stream",
     "text": [
      "\r",
      "Upgrading database; v5 -> v6: : 0it [00:00, ?it/s]"
     ]
    },
    {
     "name": "stdout",
     "output_type": "stream",
     "text": [
      "\r",
      "Upgrading database; v5 -> v6: : 0it [00:00, ?it/s]"
     ]
    },
    {
     "name": "stdout",
     "output_type": "stream",
     "text": [
      "\n",
      "\r",
      "  0%|          | 0/1 [00:00<?, ?it/s]"
     ]
    },
    {
     "name": "stdout",
     "output_type": "stream",
     "text": [
      "\r",
      "Upgrading database; v6 -> v7:   0%|          | 0/1 [00:00<?, ?it/s]"
     ]
    },
    {
     "name": "stdout",
     "output_type": "stream",
     "text": [
      "\r",
      "Upgrading database; v6 -> v7: 100%|██████████| 1/1 [00:00<00:00, 247.16it/s]"
     ]
    },
    {
     "name": "stdout",
     "output_type": "stream",
     "text": [
      "\n",
      "\r",
      "  0%|          | 0/1 [00:00<?, ?it/s]"
     ]
    },
    {
     "name": "stdout",
     "output_type": "stream",
     "text": [
      "\r",
      "Upgrading database; v7 -> v8:   0%|          | 0/1 [00:00<?, ?it/s]"
     ]
    },
    {
     "name": "stdout",
     "output_type": "stream",
     "text": [
      "\r",
      "Upgrading database; v7 -> v8: 100%|██████████| 1/1 [00:00<00:00, 417.63it/s]"
     ]
    },
    {
     "name": "stdout",
     "output_type": "stream",
     "text": [
      "\n",
      "\r",
      "  0%|          | 0/1 [00:00<?, ?it/s]"
     ]
    },
    {
     "name": "stdout",
     "output_type": "stream",
     "text": [
      "\r",
      "Upgrading database; v8 -> v9:   0%|          | 0/1 [00:00<?, ?it/s]"
     ]
    },
    {
     "name": "stdout",
     "output_type": "stream",
     "text": [
      "\r",
      "Upgrading database; v8 -> v9: 100%|██████████| 1/1 [00:00<00:00, 527.72it/s]"
     ]
    },
    {
     "name": "stdout",
     "output_type": "stream",
     "text": [
      "\n"
     ]
    }
   ],
   "source": [
    "initialise_database()\n",
    "exp = load_or_create_experiment(experiment_name='tutorial_exp', sample_name=\"no sample\")"
   ]
  },
  {
   "cell_type": "markdown",
   "metadata": {},
   "source": [
    "Here, we define a simple function to benchmark the time it takes to insert n points with either numeric or array data type.\n",
    "We will compare both the time used to call ``add_result`` and the time used for the full measurement."
   ]
  },
  {
   "cell_type": "code",
   "execution_count": 4,
   "metadata": {
    "execution": {
     "iopub.execute_input": "2020-11-12T07:15:48.191692Z",
     "iopub.status.busy": "2020-11-12T07:15:48.190367Z",
     "iopub.status.idle": "2020-11-12T07:15:48.192356Z",
     "shell.execute_reply": "2020-11-12T07:15:48.192877Z"
    }
   },
   "outputs": [],
   "source": [
    "def insert_data(paramtype, npoints, nreps=1):\n",
    "\n",
    "    meas = Measurement(exp=exp)\n",
    "\n",
    "    x1 = ManualParameter('x1')\n",
    "    x2 = ManualParameter('x2')\n",
    "    x3 = ManualParameter('x3')\n",
    "    y1 = ManualParameter('y1')\n",
    "    y2 = ManualParameter('y2')\n",
    "\n",
    "    meas.register_parameter(x1, paramtype=paramtype)\n",
    "    meas.register_parameter(x2, paramtype=paramtype)\n",
    "    meas.register_parameter(x3, paramtype=paramtype)\n",
    "    meas.register_parameter(y1, setpoints=[x1, x2, x3],\n",
    "                            paramtype=paramtype)\n",
    "    meas.register_parameter(y2, setpoints=[x1, x2, x3],\n",
    "                            paramtype=paramtype)\n",
    "    start = time.perf_counter()\n",
    "    with meas.run() as datasaver:\n",
    "        start_adding = time.perf_counter()\n",
    "        for i in range(nreps):\n",
    "            datasaver.add_result((x1, np.random.rand(npoints)),\n",
    "                                 (x2, np.random.rand(npoints)),\n",
    "                                 (x3, np.random.rand(npoints)),\n",
    "                                 (y1, np.random.rand(npoints)),\n",
    "                                 (y2, np.random.rand(npoints)))\n",
    "        stop_adding = time.perf_counter()\n",
    "        run_id = datasaver.run_id\n",
    "    stop = time.perf_counter()\n",
    "    tot_time = stop - start\n",
    "    add_time = stop_adding - start_adding\n",
    "    return tot_time, add_time, run_id"
   ]
  },
  {
   "cell_type": "markdown",
   "metadata": {},
   "source": [
    "## Comparison between numeric/array data and binary blob"
   ]
  },
  {
   "cell_type": "markdown",
   "metadata": {},
   "source": [
    "### Case1: Short experiment time"
   ]
  },
  {
   "cell_type": "code",
   "execution_count": 5,
   "metadata": {
    "execution": {
     "iopub.execute_input": "2020-11-12T07:15:48.197883Z",
     "iopub.status.busy": "2020-11-12T07:15:48.197200Z",
     "iopub.status.idle": "2020-11-12T07:15:49.090775Z",
     "shell.execute_reply": "2020-11-12T07:15:49.090087Z"
    }
   },
   "outputs": [
    {
     "name": "stdout",
     "output_type": "stream",
     "text": [
      "Starting experimental run with id: 1. \n",
      "Starting experimental run with id: 2. \n",
      "Starting experimental run with id: 3. \n",
      "Starting experimental run with id: 4. \n"
     ]
    },
    {
     "name": "stdout",
     "output_type": "stream",
     "text": [
      "Starting experimental run with id: 5. \n"
     ]
    },
    {
     "name": "stdout",
     "output_type": "stream",
     "text": [
      "Starting experimental run with id: 6. \n",
      "Starting experimental run with id: 7. \n"
     ]
    },
    {
     "name": "stdout",
     "output_type": "stream",
     "text": [
      "Starting experimental run with id: 8. \n",
      "Starting experimental run with id: 9. \n"
     ]
    },
    {
     "name": "stdout",
     "output_type": "stream",
     "text": [
      "Starting experimental run with id: 10. \n",
      "Starting experimental run with id: 11. \n"
     ]
    },
    {
     "name": "stdout",
     "output_type": "stream",
     "text": [
      "Starting experimental run with id: 12. \n"
     ]
    },
    {
     "name": "stdout",
     "output_type": "stream",
     "text": [
      "Starting experimental run with id: 13. \n"
     ]
    },
    {
     "name": "stdout",
     "output_type": "stream",
     "text": [
      "Starting experimental run with id: 14. \n"
     ]
    }
   ],
   "source": [
    "sizes = [1,500,1000,2000,3000,4000,5000]\n",
    "t_numeric = []\n",
    "t_numeric_add = []\n",
    "t_array = []\n",
    "t_array_add = []\n",
    "for size in sizes:\n",
    "    tn, tna, run_id_n =  insert_data('numeric', size)\n",
    "    t_numeric.append(tn)\n",
    "    t_numeric_add.append(tna)\n",
    "\n",
    "    ta, taa, run_id_a =  insert_data('array', size)\n",
    "    t_array.append(ta)\n",
    "    t_array_add.append(taa)"
   ]
  },
  {
   "cell_type": "code",
   "execution_count": 6,
   "metadata": {
    "execution": {
     "iopub.execute_input": "2020-11-12T07:15:49.117503Z",
     "iopub.status.busy": "2020-11-12T07:15:49.113630Z",
     "iopub.status.idle": "2020-11-12T07:15:49.320794Z",
     "shell.execute_reply": "2020-11-12T07:15:49.320259Z"
    }
   },
   "outputs": [
    {
     "data": {
      "image/png": "[encoded data removed]",
      "text/plain": [
       "<Figure size 432x288 with 1 Axes>"
      ]
     },
     "metadata": {
      "needs_background": "light"
     },
     "output_type": "display_data"
    }
   ],
   "source": [
    "fig, ax = plt.subplots(1,1)\n",
    "ax.plot(sizes, t_numeric, 'o-', label='Inserting row-by-row')\n",
    "ax.plot(sizes, t_numeric_add, 'o-', label='Inserting row-by-row: add_result only')\n",
    "ax.plot(sizes, t_array, 'd-', label='Inserting as binary blob')\n",
    "ax.plot(sizes, t_array_add, 'd-', label='Inserting as binary blob: add_result only')\n",
    "ax.legend()\n",
    "ax.set_xlabel('Array length')\n",
    "ax.set_ylabel('Time (s)')\n",
    "fig.tight_layout()"
   ]
  },
  {
   "cell_type": "markdown",
   "metadata": {},
   "source": [
    "As shown in the latter figure, the time to setup and and close the experiment is approximately 0.4 sec. In case of small array sizes, the difference between inserting values of data as arrays and inserting them row-by-row is relatively unimportant. At larger array sizes, i.e. above 10000 points, the cost of writing data as individual datapoints starts to become important.\n"
   ]
  },
  {
   "cell_type": "markdown",
   "metadata": {},
   "source": [
    "### Case2: Long experiment time "
   ]
  },
  {
   "cell_type": "code",
   "execution_count": 7,
   "metadata": {
    "execution": {
     "iopub.execute_input": "2020-11-12T07:15:49.327840Z",
     "iopub.status.busy": "2020-11-12T07:15:49.326832Z",
     "iopub.status.idle": "2020-11-12T07:16:48.129533Z",
     "shell.execute_reply": "2020-11-12T07:16:48.128972Z"
    }
   },
   "outputs": [
    {
     "name": "stdout",
     "output_type": "stream",
     "text": [
      "Starting experimental run with id: 15. \n",
      "Starting experimental run with id: 16. \n",
      "Starting experimental run with id: 17. \n"
     ]
    },
    {
     "name": "stdout",
     "output_type": "stream",
     "text": [
      "Starting experimental run with id: 18. \n",
      "Starting experimental run with id: 19. \n"
     ]
    },
    {
     "name": "stdout",
     "output_type": "stream",
     "text": [
      "Starting experimental run with id: 20. \n"
     ]
    },
    {
     "name": "stdout",
     "output_type": "stream",
     "text": [
      "Starting experimental run with id: 21. \n"
     ]
    },
    {
     "name": "stdout",
     "output_type": "stream",
     "text": [
      "Starting experimental run with id: 22. \n"
     ]
    },
    {
     "name": "stdout",
     "output_type": "stream",
     "text": [
      "Starting experimental run with id: 23. \n"
     ]
    },
    {
     "name": "stdout",
     "output_type": "stream",
     "text": [
      "Starting experimental run with id: 24. \n"
     ]
    },
    {
     "name": "stdout",
     "output_type": "stream",
     "text": [
      "Starting experimental run with id: 25. \n"
     ]
    },
    {
     "name": "stdout",
     "output_type": "stream",
     "text": [
      "Starting experimental run with id: 26. \n"
     ]
    },
    {
     "name": "stdout",
     "output_type": "stream",
     "text": [
      "Starting experimental run with id: 27. \n"
     ]
    },
    {
     "name": "stdout",
     "output_type": "stream",
     "text": [
      "Starting experimental run with id: 28. \n"
     ]
    }
   ],
   "source": [
    "sizes = [1,500,1000,2000,3000,4000,5000]\n",
    "nreps = 100\n",
    "t_numeric = []\n",
    "t_numeric_add = []\n",
    "t_numeric_run_ids = []\n",
    "t_array = []\n",
    "t_array_add = []\n",
    "t_array_run_ids = []\n",
    "for size in sizes:\n",
    "    tn, tna, run_id_n =  insert_data('numeric', size, nreps=nreps)\n",
    "    t_numeric.append(tn)\n",
    "    t_numeric_add.append(tna)\n",
    "    t_numeric_run_ids.append(run_id_n)\n",
    "\n",
    "    ta, taa, run_id_a =  insert_data('array', size, nreps=nreps)\n",
    "    t_array.append(ta)\n",
    "    t_array_add.append(taa)\n",
    "    t_array_run_ids.append(run_id_a)"
   ]
  },
  {
   "cell_type": "code",
   "execution_count": 8,
   "metadata": {
    "execution": {
     "iopub.execute_input": "2020-11-12T07:16:48.156686Z",
     "iopub.status.busy": "2020-11-12T07:16:48.149170Z",
     "iopub.status.idle": "2020-11-12T07:16:48.381692Z",
     "shell.execute_reply": "2020-11-12T07:16:48.381170Z"
    },
    "scrolled": true
   },
   "outputs": [
    {
     "data": {
      "image/png": "[encoded data removed]",
      "text/plain": [
       "<Figure size 432x288 with 1 Axes>"
      ]
     },
     "metadata": {
      "needs_background": "light"
     },
     "output_type": "display_data"
    }
   ],
   "source": [
    "fig, ax = plt.subplots(1,1)\n",
    "ax.plot(sizes, t_numeric, 'o-', label='Inserting row-by-row')\n",
    "ax.plot(sizes, t_numeric_add, 'o-', label='Inserting row-by-row: add_result only')\n",
    "ax.plot(sizes, t_array, 'd-', label='Inserting as binary blob')\n",
    "ax.plot(sizes, t_array_add, 'd-', label='Inserting as binary blob: add_result only')\n",
    "ax.legend()\n",
    "ax.set_xlabel('Array length')\n",
    "ax.set_ylabel('Time (s)')\n",
    "fig.tight_layout()"
   ]
  },
  {
   "cell_type": "markdown",
   "metadata": {},
   "source": [
    "However, as we increase the length of the experiment, as seen here by repeating the insertion 100 times, we see a big difference between inserting values of the data row-by-row and inserting it as a binary blob."
   ]
  },
  {
   "cell_type": "markdown",
   "metadata": {},
   "source": [
    "## Loading the data "
   ]
  },
  {
   "cell_type": "code",
   "execution_count": 9,
   "metadata": {
    "execution": {
     "iopub.execute_input": "2020-11-12T07:16:48.386667Z",
     "iopub.status.busy": "2020-11-12T07:16:48.385509Z",
     "iopub.status.idle": "2020-11-12T07:16:48.389407Z",
     "shell.execute_reply": "2020-11-12T07:16:48.389914Z"
    }
   },
   "outputs": [],
   "source": [
    "from qcodes.dataset.data_set import load_by_id\n",
    "from qcodes.dataset.data_export import get_data_by_id"
   ]
  },
  {
   "cell_type": "markdown",
   "metadata": {},
   "source": [
    "As usual you can load the data by using the ``load_by_id`` function but you will notice that the different storage methods\n",
    "are reflected in shape of the data as it is retrieved. "
   ]
  },
  {
   "cell_type": "code",
   "execution_count": 10,
   "metadata": {
    "execution": {
     "iopub.execute_input": "2020-11-12T07:16:48.394859Z",
     "iopub.status.busy": "2020-11-12T07:16:48.393516Z",
     "iopub.status.idle": "2020-11-12T07:16:48.395563Z",
     "shell.execute_reply": "2020-11-12T07:16:48.396065Z"
    }
   },
   "outputs": [],
   "source": [
    "run_id_n = t_numeric_run_ids[0]\n",
    "run_id_a = t_array_run_ids[0]"
   ]
  },
  {
   "cell_type": "code",
   "execution_count": 11,
   "metadata": {
    "execution": {
     "iopub.execute_input": "2020-11-12T07:16:48.399448Z",
     "iopub.status.busy": "2020-11-12T07:16:48.398873Z",
     "iopub.status.idle": "2020-11-12T07:16:48.408634Z",
     "shell.execute_reply": "2020-11-12T07:16:48.409227Z"
    },
    "scrolled": true
   },
   "outputs": [
    {
     "data": {
      "text/plain": [
       "{'x1': {'x1': array([0.38712733, 0.38712733, 0.03868226, 0.03868226, 0.22362375,\n",
       "         0.22362375, 0.01963838, 0.01963838, 0.68203887, 0.68203887,\n",
       "         0.75715058, 0.75715058, 0.36511038, 0.36511038, 0.65844564,\n",
       "         0.65844564, 0.44333707, 0.44333707, 0.94597932, 0.94597932,\n",
       "         0.61975794, 0.61975794, 0.63709668, 0.63709668, 0.36515154,\n",
       "         0.36515154, 0.59339143, 0.59339143, 0.82262793, 0.82262793,\n",
       "         0.455744  , 0.455744  , 0.8493922 , 0.8493922 , 0.09314686,\n",
       "         0.09314686, 0.9107637 , 0.9107637 , 0.99849223, 0.99849223,\n",
       "         0.18864465, 0.18864465, 0.24501569, 0.24501569, 0.87578306,\n",
       "         0.87578306, 0.40431708, 0.40431708, 0.52388894, 0.52388894,\n",
       "         0.39441708, 0.39441708, 0.29770409, 0.29770409, 0.16647298,\n",
       "         0.16647298, 0.59606868, 0.59606868, 0.93924187, 0.93924187,\n",
       "         0.80993605, 0.80993605, 0.58767738, 0.58767738, 0.31291507,\n",
       "         0.31291507, 0.18992667, 0.18992667, 0.7466929 , 0.7466929 ,\n",
       "         0.19149901, 0.19149901, 0.20606067, 0.20606067, 0.35797343,\n",
       "         0.35797343, 0.5853556 , 0.5853556 , 0.61033645, 0.61033645,\n",
       "         0.51864092, 0.51864092, 0.7676534 , 0.7676534 , 0.18419294,\n",
       "         0.18419294, 0.0573065 , 0.0573065 , 0.84140569, 0.84140569,\n",
       "         0.32868663, 0.32868663, 0.88096234, 0.88096234, 0.86288977,\n",
       "         0.86288977, 0.91585489, 0.91585489, 0.60494803, 0.60494803,\n",
       "         0.34452169, 0.34452169, 0.6366981 , 0.6366981 , 0.15818303,\n",
       "         0.15818303, 0.63012364, 0.63012364, 0.73986106, 0.73986106,\n",
       "         0.30224128, 0.30224128, 0.28047953, 0.28047953, 0.85149509,\n",
       "         0.85149509, 0.25648805, 0.25648805, 0.64793788, 0.64793788,\n",
       "         0.81746701, 0.81746701, 0.76304528, 0.76304528, 0.4370502 ,\n",
       "         0.4370502 , 0.9112444 , 0.9112444 , 0.12208511, 0.12208511,\n",
       "         0.7043551 , 0.7043551 , 0.75237769, 0.75237769, 0.73013358,\n",
       "         0.73013358, 0.39397471, 0.39397471, 0.34458693, 0.34458693,\n",
       "         0.7713617 , 0.7713617 , 0.66877606, 0.66877606, 0.37985845,\n",
       "         0.37985845, 0.05528186, 0.05528186, 0.01694321, 0.01694321,\n",
       "         0.15993551, 0.15993551, 0.85460177, 0.85460177, 0.59392189,\n",
       "         0.59392189, 0.55701829, 0.55701829, 0.33807785, 0.33807785,\n",
       "         0.35043771, 0.35043771, 0.10002287, 0.10002287, 0.27735979,\n",
       "         0.27735979, 0.77374945, 0.77374945, 0.12838192, 0.12838192,\n",
       "         0.83724547, 0.83724547, 0.04574048, 0.04574048, 0.66315356,\n",
       "         0.66315356, 0.18412483, 0.18412483, 0.09054788, 0.09054788,\n",
       "         0.97233403, 0.97233403, 0.33041688, 0.33041688, 0.35165065,\n",
       "         0.35165065, 0.11477555, 0.11477555, 0.15823069, 0.15823069,\n",
       "         0.19652508, 0.19652508, 0.48379799, 0.48379799, 0.46628453,\n",
       "         0.46628453, 0.07651809, 0.07651809, 0.46941463, 0.46941463])}}"
      ]
     },
     "execution_count": 1,
     "metadata": {},
     "output_type": "execute_result"
    }
   ],
   "source": [
    "ds = load_by_id(run_id_n)\n",
    "ds.get_parameter_data('x1')"
   ]
  },
  {
   "cell_type": "markdown",
   "metadata": {},
   "source": [
    "And a dataset stored as binary arrays"
   ]
  },
  {
   "cell_type": "code",
   "execution_count": 12,
   "metadata": {
    "execution": {
     "iopub.execute_input": "2020-11-12T07:16:48.412777Z",
     "iopub.status.busy": "2020-11-12T07:16:48.412189Z",
     "iopub.status.idle": "2020-11-12T07:16:48.477569Z",
     "shell.execute_reply": "2020-11-12T07:16:48.478108Z"
    },
    "scrolled": true
   },
   "outputs": [
    {
     "data": {
      "text/plain": [
       "{'x1': {'x1': array([[0.09409245],\n",
       "         [0.09409245],\n",
       "         [0.9789162 ],\n",
       "         [0.9789162 ],\n",
       "         [0.69406836],\n",
       "         [0.69406836],\n",
       "         [0.94096966],\n",
       "         [0.94096966],\n",
       "         [0.05537833],\n",
       "         [0.05537833],\n",
       "         [0.89945325],\n",
       "         [0.89945325],\n",
       "         [0.05502394],\n",
       "         [0.05502394],\n",
       "         [0.55920736],\n",
       "         [0.55920736],\n",
       "         [0.37114415],\n",
       "         [0.37114415],\n",
       "         [0.59155503],\n",
       "         [0.59155503],\n",
       "         [0.75565758],\n",
       "         [0.75565758],\n",
       "         [0.62654444],\n",
       "         [0.62654444],\n",
       "         [0.96800201],\n",
       "         [0.96800201],\n",
       "         [0.44471781],\n",
       "         [0.44471781],\n",
       "         [0.62935076],\n",
       "         [0.62935076],\n",
       "         [0.84916665],\n",
       "         [0.84916665],\n",
       "         [0.39875987],\n",
       "         [0.39875987],\n",
       "         [0.73986396],\n",
       "         [0.73986396],\n",
       "         [0.84640898],\n",
       "         [0.84640898],\n",
       "         [0.77220802],\n",
       "         [0.77220802],\n",
       "         [0.36567451],\n",
       "         [0.36567451],\n",
       "         [0.57818368],\n",
       "         [0.57818368],\n",
       "         [0.04782562],\n",
       "         [0.04782562],\n",
       "         [0.18451425],\n",
       "         [0.18451425],\n",
       "         [0.29371096],\n",
       "         [0.29371096],\n",
       "         [0.38151873],\n",
       "         [0.38151873],\n",
       "         [0.696186  ],\n",
       "         [0.696186  ],\n",
       "         [0.05645115],\n",
       "         [0.05645115],\n",
       "         [0.91152487],\n",
       "         [0.91152487],\n",
       "         [0.8033563 ],\n",
       "         [0.8033563 ],\n",
       "         [0.47986979],\n",
       "         [0.47986979],\n",
       "         [0.75348843],\n",
       "         [0.75348843],\n",
       "         [0.22766084],\n",
       "         [0.22766084],\n",
       "         [0.95775191],\n",
       "         [0.95775191],\n",
       "         [0.40691772],\n",
       "         [0.40691772],\n",
       "         [0.42896044],\n",
       "         [0.42896044],\n",
       "         [0.39150722],\n",
       "         [0.39150722],\n",
       "         [0.09545924],\n",
       "         [0.09545924],\n",
       "         [0.65493761],\n",
       "         [0.65493761],\n",
       "         [0.31485275],\n",
       "         [0.31485275],\n",
       "         [0.55488655],\n",
       "         [0.55488655],\n",
       "         [0.62446934],\n",
       "         [0.62446934],\n",
       "         [0.1828452 ],\n",
       "         [0.1828452 ],\n",
       "         [0.9564665 ],\n",
       "         [0.9564665 ],\n",
       "         [0.57440509],\n",
       "         [0.57440509],\n",
       "         [0.1815866 ],\n",
       "         [0.1815866 ],\n",
       "         [0.57011157],\n",
       "         [0.57011157],\n",
       "         [0.33010854],\n",
       "         [0.33010854],\n",
       "         [0.88709302],\n",
       "         [0.88709302],\n",
       "         [0.55064964],\n",
       "         [0.55064964],\n",
       "         [0.93272346],\n",
       "         [0.93272346],\n",
       "         [0.98244779],\n",
       "         [0.98244779],\n",
       "         [0.11473153],\n",
       "         [0.11473153],\n",
       "         [0.49798364],\n",
       "         [0.49798364],\n",
       "         [0.2659883 ],\n",
       "         [0.2659883 ],\n",
       "         [0.061539  ],\n",
       "         [0.061539  ],\n",
       "         [0.48272521],\n",
       "         [0.48272521],\n",
       "         [0.63216429],\n",
       "         [0.63216429],\n",
       "         [0.41030027],\n",
       "         [0.41030027],\n",
       "         [0.55005645],\n",
       "         [0.55005645],\n",
       "         [0.70741257],\n",
       "         [0.70741257],\n",
       "         [0.06209781],\n",
       "         [0.06209781],\n",
       "         [0.67554203],\n",
       "         [0.67554203],\n",
       "         [0.79963408],\n",
       "         [0.79963408],\n",
       "         [0.34457408],\n",
       "         [0.34457408],\n",
       "         [0.93794396],\n",
       "         [0.93794396],\n",
       "         [0.81197181],\n",
       "         [0.81197181],\n",
       "         [0.19907768],\n",
       "         [0.19907768],\n",
       "         [0.57029577],\n",
       "         [0.57029577],\n",
       "         [0.15738193],\n",
       "         [0.15738193],\n",
       "         [0.19070636],\n",
       "         [0.19070636],\n",
       "         [0.60357618],\n",
       "         [0.60357618],\n",
       "         [0.25873198],\n",
       "         [0.25873198],\n",
       "         [0.89607125],\n",
       "         [0.89607125],\n",
       "         [0.88370615],\n",
       "         [0.88370615],\n",
       "         [0.27434784],\n",
       "         [0.27434784],\n",
       "         [0.49445364],\n",
       "         [0.49445364],\n",
       "         [0.93625225],\n",
       "         [0.93625225],\n",
       "         [0.48511537],\n",
       "         [0.48511537],\n",
       "         [0.09838876],\n",
       "         [0.09838876],\n",
       "         [0.44547078],\n",
       "         [0.44547078],\n",
       "         [0.1715432 ],\n",
       "         [0.1715432 ],\n",
       "         [0.51049564],\n",
       "         [0.51049564],\n",
       "         [0.99074967],\n",
       "         [0.99074967],\n",
       "         [0.42927813],\n",
       "         [0.42927813],\n",
       "         [0.32626177],\n",
       "         [0.32626177],\n",
       "         [0.89220848],\n",
       "         [0.89220848],\n",
       "         [0.78844269],\n",
       "         [0.78844269],\n",
       "         [0.63592454],\n",
       "         [0.63592454],\n",
       "         [0.37857907],\n",
       "         [0.37857907],\n",
       "         [0.31313227],\n",
       "         [0.31313227],\n",
       "         [0.13991154],\n",
       "         [0.13991154],\n",
       "         [0.66260959],\n",
       "         [0.66260959],\n",
       "         [0.16599815],\n",
       "         [0.16599815],\n",
       "         [0.72317361],\n",
       "         [0.72317361],\n",
       "         [0.86302143],\n",
       "         [0.86302143],\n",
       "         [0.90974346],\n",
       "         [0.90974346],\n",
       "         [0.15588924],\n",
       "         [0.15588924],\n",
       "         [0.76899718],\n",
       "         [0.76899718],\n",
       "         [0.45385127],\n",
       "         [0.45385127]])}}"
      ]
     },
     "execution_count": 1,
     "metadata": {},
     "output_type": "execute_result"
    }
   ],
   "source": [
    "ds = load_by_id(run_id_a)\n",
    "ds.get_parameter_data('x1')"
   ]
  },
  {
   "cell_type": "code",
   "execution_count": null,
   "metadata": {},
   "outputs": [],
   "source": []
  }
 ],
 "metadata": {
  "kernelspec": {
   "display_name": "Python 3",
   "language": "python",
   "name": "python3"
  },
  "language_info": {
   "codemirror_mode": {
    "name": "ipython",
    "version": 3
   },
   "file_extension": ".py",
   "mimetype": "text/x-python",
   "name": "python",
   "nbconvert_exporter": "python",
   "pygments_lexer": "ipython3",
   "version": "3.7.9"
  },
  "nbsphinx": {
   "timeout": 600
  },
  "toc": {
   "base_numbering": 1,
   "nav_menu": {},
   "number_sections": true,
   "sideBar": true,
   "skip_h1_title": false,
   "title_cell": "Table of Contents",
   "title_sidebar": "Contents",
   "toc_cell": false,
   "toc_position": {},
   "toc_section_display": true,
   "toc_window_display": false
  },
  "varInspector": {
   "cols": {
    "lenName": 16,
    "lenType": 16,
    "lenVar": 40
   },
   "kernels_config": {
    "python": {
     "delete_cmd_postfix": "",
     "delete_cmd_prefix": "del ",
     "library": "var_list.py",
     "varRefreshCmd": "print(var_dic_list())"
    },
    "r": {
     "delete_cmd_postfix": ") ",
     "delete_cmd_prefix": "rm(",
     "library": "var_list.r",
     "varRefreshCmd": "cat(var_dic_list()) "
    }
   },
   "types_to_exclude": [
    "module",
    "function",
    "builtin_function_or_method",
    "instance",
    "_Feature"
   ],
   "window_display": false
  }
 },
 "nbformat": 4,
 "nbformat_minor": 2
}
