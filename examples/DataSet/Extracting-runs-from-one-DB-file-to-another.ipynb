{
 "cells": [
  {
   "cell_type": "markdown",
   "metadata": {},
   "source": [
    "# Extracting runs from one DB file to another\n",
    "\n",
    "This notebook shows how to use the `extract_runs_into_db` function to extract runs from a database (DB) file (the source DB) into another DB file (the target DB). If the target DB does not exist, it will be created. The runs are **NOT** removed from the original DB file; they are copied over.\n"
   ]
  },
  {
   "cell_type": "markdown",
   "metadata": {},
   "source": [
    "## Setup\n",
    "\n",
    "Let us set up a DB file with some runs in it."
   ]
  },
  {
   "cell_type": "code",
   "execution_count": 1,
   "metadata": {
    "execution": {
     "iopub.execute_input": "2020-12-10T08:23:17.271932Z",
     "iopub.status.busy": "2020-12-10T08:23:17.271446Z",
     "iopub.status.idle": "2020-12-10T08:23:18.218254Z",
     "shell.execute_reply": "2020-12-10T08:23:18.218669Z"
    }
   },
   "outputs": [
    {
     "name": "stdout",
     "output_type": "stream",
     "text": [
      "Logging hadn't been started.\n",
      "Activating auto-logging. Current session state plus future input saved.\n",
      "Filename       : /home/vsts/.qcodes/logs/command_history.log\n",
      "Mode           : append\n",
      "Output logging : True\n",
      "Raw input log  : False\n",
      "Timestamping   : True\n",
      "State          : active\n"
     ]
    },
    {
     "name": "stdout",
     "output_type": "stream",
     "text": [
      "Qcodes Logfile : /home/vsts/.qcodes/logs/201210-14390-qcodes.log\n"
     ]
    }
   ],
   "source": [
    "import os \n",
    "\n",
    "import numpy as np\n",
    "\n",
    "from qcodes.dataset.database_extract_runs import extract_runs_into_db\n",
    "from qcodes.dataset.experiment_container import Experiment, load_experiment_by_name\n",
    "from qcodes.tests.instrument_mocks import DummyInstrument\n",
    "from qcodes.dataset.measurements import Measurement\n",
    "from qcodes import Station\n",
    "\n",
    "# The following function is imported and used here only for the sake\n",
    "# of explicitness. As a qcodes user, please, consider this function\n",
    "# private to qcodes which means its name, behavior, and location may\n",
    "# change without notice between qcodes versions.\n",
    "from qcodes.dataset.sqlite.database import connect"
   ]
  },
  {
   "cell_type": "code",
   "execution_count": 2,
   "metadata": {
    "execution": {
     "iopub.execute_input": "2020-12-10T08:23:18.222985Z",
     "iopub.status.busy": "2020-12-10T08:23:18.222497Z",
     "iopub.status.idle": "2020-12-10T08:23:18.225687Z",
     "shell.execute_reply": "2020-12-10T08:23:18.225284Z"
    }
   },
   "outputs": [],
   "source": [
    "source_path = os.path.join(os.getcwd(), 'extract_runs_notebook_source.db')\n",
    "target_path = os.path.join(os.getcwd(), 'extract_runs_notebook_target.db')"
   ]
  },
  {
   "cell_type": "code",
   "execution_count": 3,
   "metadata": {
    "execution": {
     "iopub.execute_input": "2020-12-10T08:23:18.229180Z",
     "iopub.status.busy": "2020-12-10T08:23:18.228391Z",
     "iopub.status.idle": "2020-12-10T08:23:18.336759Z",
     "shell.execute_reply": "2020-12-10T08:23:18.337155Z"
    }
   },
   "outputs": [
    {
     "name": "stdout",
     "output_type": "stream",
     "text": [
      "\r",
      "0it [00:00, ?it/s]"
     ]
    },
    {
     "name": "stdout",
     "output_type": "stream",
     "text": [
      "\r",
      "Upgrading database; v0 -> v1: : 0it [00:00, ?it/s]"
     ]
    },
    {
     "name": "stdout",
     "output_type": "stream",
     "text": [
      "\r",
      "Upgrading database; v0 -> v1: : 0it [00:00, ?it/s]"
     ]
    },
    {
     "name": "stdout",
     "output_type": "stream",
     "text": [
      "\n",
      "\r",
      "  0%|          | 0/1 [00:00<?, ?it/s]"
     ]
    },
    {
     "name": "stdout",
     "output_type": "stream",
     "text": [
      "\r",
      "Upgrading database; v1 -> v2:   0%|          | 0/1 [00:00<?, ?it/s]"
     ]
    },
    {
     "name": "stdout",
     "output_type": "stream",
     "text": [
      "\r",
      "Upgrading database; v1 -> v2: 100%|██████████| 1/1 [00:00<00:00, 902.39it/s]"
     ]
    },
    {
     "name": "stdout",
     "output_type": "stream",
     "text": [
      "\n",
      "\r",
      "0it [00:00, ?it/s]"
     ]
    },
    {
     "name": "stdout",
     "output_type": "stream",
     "text": [
      "\r",
      "Upgrading database; v2 -> v3: : 0it [00:00, ?it/s]"
     ]
    },
    {
     "name": "stdout",
     "output_type": "stream",
     "text": [
      "\r",
      "Upgrading database; v2 -> v3: : 0it [00:00, ?it/s]"
     ]
    },
    {
     "name": "stdout",
     "output_type": "stream",
     "text": [
      "\n",
      "\r",
      "0it [00:00, ?it/s]"
     ]
    },
    {
     "name": "stdout",
     "output_type": "stream",
     "text": [
      "\r",
      "Upgrading database; v3 -> v4: : 0it [00:00, ?it/s]"
     ]
    },
    {
     "name": "stdout",
     "output_type": "stream",
     "text": [
      "\r",
      "Upgrading database; v3 -> v4: : 0it [00:00, ?it/s]"
     ]
    },
    {
     "name": "stdout",
     "output_type": "stream",
     "text": [
      "\n",
      "\r",
      "  0%|          | 0/1 [00:00<?, ?it/s]"
     ]
    },
    {
     "name": "stdout",
     "output_type": "stream",
     "text": [
      "\r",
      "Upgrading database; v4 -> v5:   0%|          | 0/1 [00:00<?, ?it/s]"
     ]
    },
    {
     "name": "stdout",
     "output_type": "stream",
     "text": [
      "\r",
      "Upgrading database; v4 -> v5: 100%|██████████| 1/1 [00:00<00:00, 843.25it/s]"
     ]
    },
    {
     "name": "stdout",
     "output_type": "stream",
     "text": [
      "\n",
      "\r",
      "0it [00:00, ?it/s]"
     ]
    },
    {
     "name": "stdout",
     "output_type": "stream",
     "text": [
      "\r",
      "Upgrading database; v5 -> v6: : 0it [00:00, ?it/s]"
     ]
    },
    {
     "name": "stdout",
     "output_type": "stream",
     "text": [
      "\r",
      "Upgrading database; v5 -> v6: : 0it [00:00, ?it/s]"
     ]
    },
    {
     "name": "stdout",
     "output_type": "stream",
     "text": [
      "\n",
      "\r",
      "  0%|          | 0/1 [00:00<?, ?it/s]"
     ]
    },
    {
     "name": "stdout",
     "output_type": "stream",
     "text": [
      "\r",
      "Upgrading database; v6 -> v7:   0%|          | 0/1 [00:00<?, ?it/s]"
     ]
    },
    {
     "name": "stdout",
     "output_type": "stream",
     "text": [
      "\r",
      "Upgrading database; v6 -> v7: 100%|██████████| 1/1 [00:00<00:00, 408.01it/s]"
     ]
    },
    {
     "name": "stdout",
     "output_type": "stream",
     "text": [
      "\n",
      "\r",
      "  0%|          | 0/1 [00:00<?, ?it/s]"
     ]
    },
    {
     "name": "stdout",
     "output_type": "stream",
     "text": [
      "\r",
      "Upgrading database; v7 -> v8:   0%|          | 0/1 [00:00<?, ?it/s]"
     ]
    },
    {
     "name": "stdout",
     "output_type": "stream",
     "text": [
      "\r",
      "Upgrading database; v7 -> v8: 100%|██████████| 1/1 [00:00<00:00, 783.10it/s]"
     ]
    },
    {
     "name": "stdout",
     "output_type": "stream",
     "text": [
      "\n",
      "\r",
      "  0%|          | 0/1 [00:00<?, ?it/s]"
     ]
    },
    {
     "name": "stdout",
     "output_type": "stream",
     "text": [
      "\r",
      "Upgrading database; v8 -> v9:   0%|          | 0/1 [00:00<?, ?it/s]"
     ]
    },
    {
     "name": "stdout",
     "output_type": "stream",
     "text": [
      "\r",
      "Upgrading database; v8 -> v9: 100%|██████████| 1/1 [00:00<00:00, 1008.97it/s]"
     ]
    },
    {
     "name": "stdout",
     "output_type": "stream",
     "text": [
      "\n",
      "\r",
      "0it [00:00, ?it/s]"
     ]
    },
    {
     "name": "stdout",
     "output_type": "stream",
     "text": [
      "\r",
      "Upgrading database; v0 -> v1: : 0it [00:00, ?it/s]"
     ]
    },
    {
     "name": "stdout",
     "output_type": "stream",
     "text": [
      "\r",
      "Upgrading database; v0 -> v1: : 0it [00:00, ?it/s]"
     ]
    },
    {
     "name": "stdout",
     "output_type": "stream",
     "text": [
      "\n",
      "\r",
      "  0%|          | 0/1 [00:00<?, ?it/s]"
     ]
    },
    {
     "name": "stdout",
     "output_type": "stream",
     "text": [
      "\r",
      "Upgrading database; v1 -> v2:   0%|          | 0/1 [00:00<?, ?it/s]"
     ]
    },
    {
     "name": "stdout",
     "output_type": "stream",
     "text": [
      "\r",
      "Upgrading database; v1 -> v2: 100%|██████████| 1/1 [00:00<00:00, 533.49it/s]"
     ]
    },
    {
     "name": "stdout",
     "output_type": "stream",
     "text": [
      "\n",
      "\r",
      "0it [00:00, ?it/s]"
     ]
    },
    {
     "name": "stdout",
     "output_type": "stream",
     "text": [
      "\r",
      "Upgrading database; v2 -> v3: : 0it [00:00, ?it/s]"
     ]
    },
    {
     "name": "stdout",
     "output_type": "stream",
     "text": [
      "\r",
      "Upgrading database; v2 -> v3: : 0it [00:00, ?it/s]"
     ]
    },
    {
     "name": "stdout",
     "output_type": "stream",
     "text": [
      "\n",
      "\r",
      "0it [00:00, ?it/s]"
     ]
    },
    {
     "name": "stdout",
     "output_type": "stream",
     "text": [
      "\r",
      "Upgrading database; v3 -> v4: : 0it [00:00, ?it/s]"
     ]
    },
    {
     "name": "stdout",
     "output_type": "stream",
     "text": [
      "\r",
      "Upgrading database; v3 -> v4: : 0it [00:00, ?it/s]"
     ]
    },
    {
     "name": "stdout",
     "output_type": "stream",
     "text": [
      "\n",
      "\r",
      "  0%|          | 0/1 [00:00<?, ?it/s]"
     ]
    },
    {
     "name": "stdout",
     "output_type": "stream",
     "text": [
      "\r",
      "Upgrading database; v4 -> v5:   0%|          | 0/1 [00:00<?, ?it/s]"
     ]
    },
    {
     "name": "stdout",
     "output_type": "stream",
     "text": [
      "\r",
      "Upgrading database; v4 -> v5: 100%|██████████| 1/1 [00:00<00:00, 904.72it/s]"
     ]
    },
    {
     "name": "stdout",
     "output_type": "stream",
     "text": [
      "\n",
      "\r",
      "0it [00:00, ?it/s]"
     ]
    },
    {
     "name": "stdout",
     "output_type": "stream",
     "text": [
      "\r",
      "Upgrading database; v5 -> v6: : 0it [00:00, ?it/s]"
     ]
    },
    {
     "name": "stdout",
     "output_type": "stream",
     "text": [
      "\r",
      "Upgrading database; v5 -> v6: : 0it [00:00, ?it/s]"
     ]
    },
    {
     "name": "stdout",
     "output_type": "stream",
     "text": [
      "\n",
      "\r",
      "  0%|          | 0/1 [00:00<?, ?it/s]"
     ]
    },
    {
     "name": "stdout",
     "output_type": "stream",
     "text": [
      "\r",
      "Upgrading database; v6 -> v7:   0%|          | 0/1 [00:00<?, ?it/s]"
     ]
    },
    {
     "name": "stdout",
     "output_type": "stream",
     "text": [
      "\r",
      "Upgrading database; v6 -> v7: 100%|██████████| 1/1 [00:00<00:00, 397.41it/s]"
     ]
    },
    {
     "name": "stdout",
     "output_type": "stream",
     "text": [
      "\n",
      "\r",
      "  0%|          | 0/1 [00:00<?, ?it/s]"
     ]
    },
    {
     "name": "stdout",
     "output_type": "stream",
     "text": [
      "\r",
      "Upgrading database; v7 -> v8:   0%|          | 0/1 [00:00<?, ?it/s]"
     ]
    },
    {
     "name": "stdout",
     "output_type": "stream",
     "text": [
      "\r",
      "Upgrading database; v7 -> v8: 100%|██████████| 1/1 [00:00<00:00, 780.77it/s]"
     ]
    },
    {
     "name": "stdout",
     "output_type": "stream",
     "text": [
      "\n",
      "\r",
      "  0%|          | 0/1 [00:00<?, ?it/s]"
     ]
    },
    {
     "name": "stdout",
     "output_type": "stream",
     "text": [
      "\r",
      "Upgrading database; v8 -> v9:   0%|          | 0/1 [00:00<?, ?it/s]"
     ]
    },
    {
     "name": "stdout",
     "output_type": "stream",
     "text": [
      "\r",
      "Upgrading database; v8 -> v9: 100%|██████████| 1/1 [00:00<00:00, 1221.05it/s]"
     ]
    },
    {
     "name": "stdout",
     "output_type": "stream",
     "text": [
      "\n"
     ]
    }
   ],
   "source": [
    "source_conn = connect(source_path)\n",
    "target_conn = connect(target_path)"
   ]
  },
  {
   "cell_type": "code",
   "execution_count": 4,
   "metadata": {
    "execution": {
     "iopub.execute_input": "2020-12-10T08:23:18.340704Z",
     "iopub.status.busy": "2020-12-10T08:23:18.339988Z",
     "iopub.status.idle": "2020-12-10T08:23:18.346752Z",
     "shell.execute_reply": "2020-12-10T08:23:18.345642Z"
    }
   },
   "outputs": [],
   "source": [
    "exp = Experiment(name='extract_runs_experiment',\n",
    "                 sample_name='no_sample',\n",
    "                 conn=source_conn)\n",
    "\n",
    "my_inst = DummyInstrument('my_inst', gates=['voltage', 'current'])\n",
    "station = Station(my_inst)"
   ]
  },
  {
   "cell_type": "code",
   "execution_count": 5,
   "metadata": {
    "execution": {
     "iopub.execute_input": "2020-12-10T08:23:18.352629Z",
     "iopub.status.busy": "2020-12-10T08:23:18.351568Z",
     "iopub.status.idle": "2020-12-10T08:23:18.528534Z",
     "shell.execute_reply": "2020-12-10T08:23:18.529132Z"
    }
   },
   "outputs": [
    {
     "name": "stdout",
     "output_type": "stream",
     "text": [
      "Starting experimental run with id: 1. \n",
      "Starting experimental run with id: 2. \n",
      "Starting experimental run with id: 3. \n",
      "Starting experimental run with id: 4. \n",
      "Starting experimental run with id: 5. \n"
     ]
    },
    {
     "name": "stdout",
     "output_type": "stream",
     "text": [
      "Starting experimental run with id: 6. \n"
     ]
    },
    {
     "name": "stdout",
     "output_type": "stream",
     "text": [
      "Starting experimental run with id: 7. \n"
     ]
    },
    {
     "name": "stdout",
     "output_type": "stream",
     "text": [
      "Starting experimental run with id: 8. \n"
     ]
    },
    {
     "name": "stdout",
     "output_type": "stream",
     "text": [
      "Starting experimental run with id: 9. \n"
     ]
    },
    {
     "name": "stdout",
     "output_type": "stream",
     "text": [
      "Starting experimental run with id: 10. \n"
     ]
    }
   ],
   "source": [
    "meas = Measurement(exp=exp)\n",
    "meas.register_parameter(my_inst.voltage)\n",
    "meas.register_parameter(my_inst.current, setpoints=(my_inst.voltage,))\n",
    "\n",
    "#Add 10 runs with gradually more and more data\n",
    "\n",
    "for run_id in range(1, 11):\n",
    "    with meas.run() as datasaver:\n",
    "        for step, noise in enumerate(np.random.randn(run_id)):\n",
    "            datasaver.add_result((my_inst.voltage, step),\n",
    "                                 (my_inst.current, noise))"
   ]
  },
  {
   "cell_type": "markdown",
   "metadata": {},
   "source": [
    "## Extraction\n",
    "\n",
    "Now let us extract runs 3 and 7 into our desired target DB file. All runs must come from the same experiment. To extract runs from different experiments, one may call the function several times.\n",
    "\n",
    "The function will look in the target DB to see if an experiment with matching attributes already exists. If not, such an experiment is created."
   ]
  },
  {
   "cell_type": "code",
   "execution_count": 6,
   "metadata": {
    "execution": {
     "iopub.execute_input": "2020-12-10T08:23:18.532940Z",
     "iopub.status.busy": "2020-12-10T08:23:18.532222Z",
     "iopub.status.idle": "2020-12-10T08:23:18.545095Z",
     "shell.execute_reply": "2020-12-10T08:23:18.545504Z"
    },
    "scrolled": false
   },
   "outputs": [],
   "source": [
    "extract_runs_into_db(source_path, target_path, 3, 7)"
   ]
  },
  {
   "cell_type": "code",
   "execution_count": 7,
   "metadata": {
    "execution": {
     "iopub.execute_input": "2020-12-10T08:23:18.549012Z",
     "iopub.status.busy": "2020-12-10T08:23:18.548208Z",
     "iopub.status.idle": "2020-12-10T08:23:18.551949Z",
     "shell.execute_reply": "2020-12-10T08:23:18.551454Z"
    }
   },
   "outputs": [],
   "source": [
    "target_exp = load_experiment_by_name(name='extract_runs_experiment', conn=target_conn)"
   ]
  },
  {
   "cell_type": "code",
   "execution_count": 8,
   "metadata": {
    "execution": {
     "iopub.execute_input": "2020-12-10T08:23:18.560443Z",
     "iopub.status.busy": "2020-12-10T08:23:18.559687Z",
     "iopub.status.idle": "2020-12-10T08:23:18.566819Z",
     "shell.execute_reply": "2020-12-10T08:23:18.567400Z"
    }
   },
   "outputs": [
    {
     "data": {
      "text/plain": [
       "extract_runs_experiment#no_sample#1@/home/vsts/work/1/s/docs/examples/DataSet/extract_runs_notebook_target.db\n",
       "-------------------------------------------------------------------------------------------------------------\n",
       "1-results-1-my_inst_voltage,my_inst_current-3\n",
       "2-results-2-my_inst_voltage,my_inst_current-7"
      ]
     },
     "execution_count": 1,
     "metadata": {},
     "output_type": "execute_result"
    }
   ],
   "source": [
    "target_exp"
   ]
  },
  {
   "cell_type": "markdown",
   "metadata": {},
   "source": [
    "The last number printed in each line is the number of data points. As expected, we get 3 and 7.\n",
    "\n",
    "Note that the runs will have different `run_id`s in the new database. Their GUIDs are, however, the same (as they must be)."
   ]
  },
  {
   "cell_type": "code",
   "execution_count": 9,
   "metadata": {
    "execution": {
     "iopub.execute_input": "2020-12-10T08:23:18.570538Z",
     "iopub.status.busy": "2020-12-10T08:23:18.569819Z",
     "iopub.status.idle": "2020-12-10T08:23:18.574610Z",
     "shell.execute_reply": "2020-12-10T08:23:18.573717Z"
    },
    "scrolled": true
   },
   "outputs": [
    {
     "data": {
      "text/plain": [
       "'aaaaaaaa-0000-0000-0000-01764bbf5272'"
      ]
     },
     "execution_count": 1,
     "metadata": {},
     "output_type": "execute_result"
    }
   ],
   "source": [
    "exp.data_set(3).guid"
   ]
  },
  {
   "cell_type": "code",
   "execution_count": 10,
   "metadata": {
    "execution": {
     "iopub.execute_input": "2020-12-10T08:23:18.577654Z",
     "iopub.status.busy": "2020-12-10T08:23:18.576987Z",
     "iopub.status.idle": "2020-12-10T08:23:18.581619Z",
     "shell.execute_reply": "2020-12-10T08:23:18.581145Z"
    }
   },
   "outputs": [
    {
     "data": {
      "text/plain": [
       "'aaaaaaaa-0000-0000-0000-01764bbf5272'"
      ]
     },
     "execution_count": 1,
     "metadata": {},
     "output_type": "execute_result"
    }
   ],
   "source": [
    "target_exp.data_set(1).guid"
   ]
  },
  {
   "cell_type": "markdown",
   "metadata": {},
   "source": [
    "Furthermore, note that the original `run_id` preserved as `captured_run_id`. We will demonstrate below how to look up data via the `captured_run_id`."
   ]
  },
  {
   "cell_type": "code",
   "execution_count": 11,
   "metadata": {
    "execution": {
     "iopub.execute_input": "2020-12-10T08:23:18.584465Z",
     "iopub.status.busy": "2020-12-10T08:23:18.584014Z",
     "iopub.status.idle": "2020-12-10T08:23:18.588552Z",
     "shell.execute_reply": "2020-12-10T08:23:18.588921Z"
    }
   },
   "outputs": [
    {
     "data": {
      "text/plain": [
       "3"
      ]
     },
     "execution_count": 1,
     "metadata": {},
     "output_type": "execute_result"
    }
   ],
   "source": [
    "target_exp.data_set(1).captured_run_id"
   ]
  },
  {
   "cell_type": "markdown",
   "metadata": {},
   "source": [
    "## Merging data from 2 databases"
   ]
  },
  {
   "cell_type": "markdown",
   "metadata": {},
   "source": [
    "There are occasions where it is convenient to combine data from several databases."
   ]
  },
  {
   "cell_type": "markdown",
   "metadata": {},
   "source": [
    "Let's first demonstrate this by creating some new experiments in another db file."
   ]
  },
  {
   "cell_type": "code",
   "execution_count": 12,
   "metadata": {
    "execution": {
     "iopub.execute_input": "2020-12-10T08:23:18.592619Z",
     "iopub.status.busy": "2020-12-10T08:23:18.591990Z",
     "iopub.status.idle": "2020-12-10T08:23:18.594919Z",
     "shell.execute_reply": "2020-12-10T08:23:18.595292Z"
    }
   },
   "outputs": [],
   "source": [
    "extra_source_path = os.path.join(os.getcwd(), 'extract_runs_notebook_source_aux.db')"
   ]
  },
  {
   "cell_type": "code",
   "execution_count": 13,
   "metadata": {
    "execution": {
     "iopub.execute_input": "2020-12-10T08:23:18.598236Z",
     "iopub.status.busy": "2020-12-10T08:23:18.597634Z",
     "iopub.status.idle": "2020-12-10T08:23:18.650033Z",
     "shell.execute_reply": "2020-12-10T08:23:18.650569Z"
    }
   },
   "outputs": [
    {
     "name": "stdout",
     "output_type": "stream",
     "text": [
      "\r",
      "0it [00:00, ?it/s]"
     ]
    },
    {
     "name": "stdout",
     "output_type": "stream",
     "text": [
      "\r",
      "Upgrading database; v0 -> v1: : 0it [00:00, ?it/s]"
     ]
    },
    {
     "name": "stdout",
     "output_type": "stream",
     "text": [
      "\r",
      "Upgrading database; v0 -> v1: : 0it [00:00, ?it/s]"
     ]
    },
    {
     "name": "stdout",
     "output_type": "stream",
     "text": [
      "\n",
      "\r",
      "  0%|          | 0/1 [00:00<?, ?it/s]"
     ]
    },
    {
     "name": "stdout",
     "output_type": "stream",
     "text": [
      "\r",
      "Upgrading database; v1 -> v2:   0%|          | 0/1 [00:00<?, ?it/s]"
     ]
    },
    {
     "name": "stdout",
     "output_type": "stream",
     "text": [
      "\r",
      "Upgrading database; v1 -> v2: 100%|██████████| 1/1 [00:00<00:00, 879.31it/s]"
     ]
    },
    {
     "name": "stdout",
     "output_type": "stream",
     "text": [
      "\n",
      "\r",
      "0it [00:00, ?it/s]"
     ]
    },
    {
     "name": "stdout",
     "output_type": "stream",
     "text": [
      "\r",
      "Upgrading database; v2 -> v3: : 0it [00:00, ?it/s]"
     ]
    },
    {
     "name": "stdout",
     "output_type": "stream",
     "text": [
      "\r",
      "Upgrading database; v2 -> v3: : 0it [00:00, ?it/s]"
     ]
    },
    {
     "name": "stdout",
     "output_type": "stream",
     "text": [
      "\n",
      "\r",
      "0it [00:00, ?it/s]"
     ]
    },
    {
     "name": "stdout",
     "output_type": "stream",
     "text": [
      "\r",
      "Upgrading database; v3 -> v4: : 0it [00:00, ?it/s]"
     ]
    },
    {
     "name": "stdout",
     "output_type": "stream",
     "text": [
      "\r",
      "Upgrading database; v3 -> v4: : 0it [00:00, ?it/s]"
     ]
    },
    {
     "name": "stdout",
     "output_type": "stream",
     "text": [
      "\n",
      "\r",
      "  0%|          | 0/1 [00:00<?, ?it/s]"
     ]
    },
    {
     "name": "stdout",
     "output_type": "stream",
     "text": [
      "\r",
      "Upgrading database; v4 -> v5:   0%|          | 0/1 [00:00<?, ?it/s]"
     ]
    },
    {
     "name": "stdout",
     "output_type": "stream",
     "text": [
      "\r",
      "Upgrading database; v4 -> v5: 100%|██████████| 1/1 [00:00<00:00, 1301.37it/s]"
     ]
    },
    {
     "name": "stdout",
     "output_type": "stream",
     "text": [
      "\n",
      "\r",
      "0it [00:00, ?it/s]"
     ]
    },
    {
     "name": "stdout",
     "output_type": "stream",
     "text": [
      "\r",
      "Upgrading database; v5 -> v6: : 0it [00:00, ?it/s]"
     ]
    },
    {
     "name": "stdout",
     "output_type": "stream",
     "text": [
      "\r",
      "Upgrading database; v5 -> v6: : 0it [00:00, ?it/s]"
     ]
    },
    {
     "name": "stdout",
     "output_type": "stream",
     "text": [
      "\n",
      "\r",
      "  0%|          | 0/1 [00:00<?, ?it/s]"
     ]
    },
    {
     "name": "stdout",
     "output_type": "stream",
     "text": [
      "\r",
      "Upgrading database; v6 -> v7:   0%|          | 0/1 [00:00<?, ?it/s]"
     ]
    },
    {
     "name": "stdout",
     "output_type": "stream",
     "text": [
      "\r",
      "Upgrading database; v6 -> v7: 100%|██████████| 1/1 [00:00<00:00, 407.93it/s]"
     ]
    },
    {
     "name": "stdout",
     "output_type": "stream",
     "text": [
      "\n",
      "\r",
      "  0%|          | 0/1 [00:00<?, ?it/s]"
     ]
    },
    {
     "name": "stdout",
     "output_type": "stream",
     "text": [
      "\r",
      "Upgrading database; v7 -> v8:   0%|          | 0/1 [00:00<?, ?it/s]"
     ]
    },
    {
     "name": "stdout",
     "output_type": "stream",
     "text": [
      "\r",
      "Upgrading database; v7 -> v8: 100%|██████████| 1/1 [00:00<00:00, 882.08it/s]"
     ]
    },
    {
     "name": "stdout",
     "output_type": "stream",
     "text": [
      "\n",
      "\r",
      "  0%|          | 0/1 [00:00<?, ?it/s]"
     ]
    },
    {
     "name": "stdout",
     "output_type": "stream",
     "text": [
      "\r",
      "Upgrading database; v8 -> v9:   0%|          | 0/1 [00:00<?, ?it/s]"
     ]
    },
    {
     "name": "stdout",
     "output_type": "stream",
     "text": [
      "\r",
      "Upgrading database; v8 -> v9: 100%|██████████| 1/1 [00:00<00:00, 982.73it/s]"
     ]
    },
    {
     "name": "stdout",
     "output_type": "stream",
     "text": [
      "\n"
     ]
    }
   ],
   "source": [
    "source_extra_conn = connect(extra_source_path)"
   ]
  },
  {
   "cell_type": "code",
   "execution_count": 14,
   "metadata": {
    "execution": {
     "iopub.execute_input": "2020-12-10T08:23:18.654089Z",
     "iopub.status.busy": "2020-12-10T08:23:18.653458Z",
     "iopub.status.idle": "2020-12-10T08:23:18.657502Z",
     "shell.execute_reply": "2020-12-10T08:23:18.656981Z"
    }
   },
   "outputs": [],
   "source": [
    "exp = Experiment(name='extract_runs_experiment_aux',\n",
    "                 sample_name='no_sample',\n",
    "                 conn=source_extra_conn)\n"
   ]
  },
  {
   "cell_type": "code",
   "execution_count": 15,
   "metadata": {
    "execution": {
     "iopub.execute_input": "2020-12-10T08:23:18.661487Z",
     "iopub.status.busy": "2020-12-10T08:23:18.661016Z",
     "iopub.status.idle": "2020-12-10T08:23:18.833621Z",
     "shell.execute_reply": "2020-12-10T08:23:18.834000Z"
    }
   },
   "outputs": [
    {
     "name": "stdout",
     "output_type": "stream",
     "text": [
      "Starting experimental run with id: 1. \n"
     ]
    },
    {
     "name": "stdout",
     "output_type": "stream",
     "text": [
      "Starting experimental run with id: 2. \n"
     ]
    },
    {
     "name": "stdout",
     "output_type": "stream",
     "text": [
      "Starting experimental run with id: 3. \n"
     ]
    },
    {
     "name": "stdout",
     "output_type": "stream",
     "text": [
      "Starting experimental run with id: 4. \n",
      "Starting experimental run with id: 5. \n",
      "Starting experimental run with id: 6. \n",
      "Starting experimental run with id: 7. \n",
      "Starting experimental run with id: 8. \n"
     ]
    },
    {
     "name": "stdout",
     "output_type": "stream",
     "text": [
      "Starting experimental run with id: 9. \n"
     ]
    },
    {
     "name": "stdout",
     "output_type": "stream",
     "text": [
      "Starting experimental run with id: 10. \n"
     ]
    }
   ],
   "source": [
    "meas = Measurement(exp=exp)\n",
    "meas.register_parameter(my_inst.current)\n",
    "meas.register_parameter(my_inst.voltage, setpoints=(my_inst.current,))\n",
    "\n",
    "#Add 10 runs with gradually more and more data\n",
    "\n",
    "for run_id in range(1, 11):\n",
    "    with meas.run() as datasaver:\n",
    "        for step, noise in enumerate(np.random.randn(run_id)):\n",
    "            datasaver.add_result((my_inst.current, step),\n",
    "                                 (my_inst.voltage, noise))"
   ]
  },
  {
   "cell_type": "code",
   "execution_count": 16,
   "metadata": {
    "execution": {
     "iopub.execute_input": "2020-12-10T08:23:18.837711Z",
     "iopub.status.busy": "2020-12-10T08:23:18.837030Z",
     "iopub.status.idle": "2020-12-10T08:23:18.841822Z",
     "shell.execute_reply": "2020-12-10T08:23:18.842289Z"
    }
   },
   "outputs": [
    {
     "data": {
      "text/plain": [
       "'aaaaaaaa-0000-0000-0000-01764bbf53ae'"
      ]
     },
     "execution_count": 1,
     "metadata": {},
     "output_type": "execute_result"
    }
   ],
   "source": [
    "exp.data_set(3).guid"
   ]
  },
  {
   "cell_type": "code",
   "execution_count": 17,
   "metadata": {
    "execution": {
     "iopub.execute_input": "2020-12-10T08:23:18.845310Z",
     "iopub.status.busy": "2020-12-10T08:23:18.844851Z",
     "iopub.status.idle": "2020-12-10T08:23:18.858366Z",
     "shell.execute_reply": "2020-12-10T08:23:18.857886Z"
    }
   },
   "outputs": [],
   "source": [
    "extract_runs_into_db(extra_source_path, target_path, 1, 3)"
   ]
  },
  {
   "cell_type": "code",
   "execution_count": 18,
   "metadata": {
    "execution": {
     "iopub.execute_input": "2020-12-10T08:23:18.861698Z",
     "iopub.status.busy": "2020-12-10T08:23:18.861245Z",
     "iopub.status.idle": "2020-12-10T08:23:18.865318Z",
     "shell.execute_reply": "2020-12-10T08:23:18.864721Z"
    }
   },
   "outputs": [],
   "source": [
    "target_exp_aux = load_experiment_by_name(name='extract_runs_experiment_aux', conn=target_conn)"
   ]
  },
  {
   "cell_type": "markdown",
   "metadata": {},
   "source": [
    "The GUID should be preserved."
   ]
  },
  {
   "cell_type": "code",
   "execution_count": 19,
   "metadata": {
    "execution": {
     "iopub.execute_input": "2020-12-10T08:23:18.868648Z",
     "iopub.status.busy": "2020-12-10T08:23:18.868120Z",
     "iopub.status.idle": "2020-12-10T08:23:18.873156Z",
     "shell.execute_reply": "2020-12-10T08:23:18.873560Z"
    }
   },
   "outputs": [
    {
     "data": {
      "text/plain": [
       "'aaaaaaaa-0000-0000-0000-01764bbf53ae'"
      ]
     },
     "execution_count": 1,
     "metadata": {},
     "output_type": "execute_result"
    }
   ],
   "source": [
    "target_exp_aux.data_set(2).guid"
   ]
  },
  {
   "cell_type": "markdown",
   "metadata": {},
   "source": [
    "And the original `run_id` is preserved as `captured_run_id` "
   ]
  },
  {
   "cell_type": "code",
   "execution_count": 20,
   "metadata": {
    "execution": {
     "iopub.execute_input": "2020-12-10T08:23:18.876731Z",
     "iopub.status.busy": "2020-12-10T08:23:18.876200Z",
     "iopub.status.idle": "2020-12-10T08:23:18.880619Z",
     "shell.execute_reply": "2020-12-10T08:23:18.880121Z"
    }
   },
   "outputs": [
    {
     "data": {
      "text/plain": [
       "3"
      ]
     },
     "execution_count": 1,
     "metadata": {},
     "output_type": "execute_result"
    }
   ],
   "source": [
    "target_exp_aux.data_set(2).captured_run_id"
   ]
  },
  {
   "cell_type": "markdown",
   "metadata": {},
   "source": [
    "## Uniquely identifying and loading runs\n",
    "\n",
    "As runs move from one database to the other, uniquely identifying a run becomes non-trivial."
   ]
  },
  {
   "cell_type": "markdown",
   "metadata": {},
   "source": [
    "Note how we now have 2 runs in the same DB sharing the same `captured_run_id`. This means that `captured_run_id` is **not** a unique key. We can demonstrate that `captured_run_id` is not unique by looking up the `GUID`s that match this `captured_run_id`."
   ]
  },
  {
   "cell_type": "code",
   "execution_count": 21,
   "metadata": {
    "execution": {
     "iopub.execute_input": "2020-12-10T08:23:18.884307Z",
     "iopub.status.busy": "2020-12-10T08:23:18.883445Z",
     "iopub.status.idle": "2020-12-10T08:23:18.885037Z",
     "shell.execute_reply": "2020-12-10T08:23:18.885552Z"
    }
   },
   "outputs": [],
   "source": [
    "from qcodes.dataset.sqlite.queries import get_guids_from_run_spec\n",
    "from qcodes.dataset.data_set import load_by_guid, load_by_run_spec"
   ]
  },
  {
   "cell_type": "code",
   "execution_count": 22,
   "metadata": {
    "execution": {
     "iopub.execute_input": "2020-12-10T08:23:18.890493Z",
     "iopub.status.busy": "2020-12-10T08:23:18.889299Z",
     "iopub.status.idle": "2020-12-10T08:23:18.892204Z",
     "shell.execute_reply": "2020-12-10T08:23:18.892703Z"
    }
   },
   "outputs": [
    {
     "data": {
      "text/plain": [
       "['aaaaaaaa-0000-0000-0000-01764bbf5272',\n",
       " 'aaaaaaaa-0000-0000-0000-01764bbf53ae']"
      ]
     },
     "execution_count": 1,
     "metadata": {},
     "output_type": "execute_result"
    }
   ],
   "source": [
    "guids = get_guids_from_run_spec(target_conn, captured_run_id=3)\n",
    "guids"
   ]
  },
  {
   "cell_type": "code",
   "execution_count": 23,
   "metadata": {
    "execution": {
     "iopub.execute_input": "2020-12-10T08:23:18.895738Z",
     "iopub.status.busy": "2020-12-10T08:23:18.895254Z",
     "iopub.status.idle": "2020-12-10T08:23:18.899377Z",
     "shell.execute_reply": "2020-12-10T08:23:18.898954Z"
    }
   },
   "outputs": [
    {
     "data": {
      "text/plain": [
       "results #1@/home/vsts/work/1/s/docs/examples/DataSet/extract_runs_notebook_target.db\n",
       "------------------------------------------------------------------------------------\n",
       "my_inst_voltage - numeric\n",
       "my_inst_current - numeric"
      ]
     },
     "execution_count": 1,
     "metadata": {},
     "output_type": "execute_result"
    }
   ],
   "source": [
    "load_by_guid(guids[0], conn=target_conn)"
   ]
  },
  {
   "cell_type": "code",
   "execution_count": 24,
   "metadata": {
    "execution": {
     "iopub.execute_input": "2020-12-10T08:23:18.902373Z",
     "iopub.status.busy": "2020-12-10T08:23:18.901894Z",
     "iopub.status.idle": "2020-12-10T08:23:18.906053Z",
     "shell.execute_reply": "2020-12-10T08:23:18.906422Z"
    }
   },
   "outputs": [
    {
     "data": {
      "text/plain": [
       "results #4@/home/vsts/work/1/s/docs/examples/DataSet/extract_runs_notebook_target.db\n",
       "------------------------------------------------------------------------------------\n",
       "my_inst_current - numeric\n",
       "my_inst_voltage - numeric"
      ]
     },
     "execution_count": 1,
     "metadata": {},
     "output_type": "execute_result"
    }
   ],
   "source": [
    "load_by_guid(guids[1], conn=target_conn)"
   ]
  },
  {
   "cell_type": "markdown",
   "metadata": {},
   "source": [
    "To enable loading of runs that may share the same `captured_run_id`, the function `load_by_run_data` is supplied.\n",
    "This function takes one or more optional sets of metadata. If more than one run matching this information is found the metadata of the matching runs is printed and an error is raised. It is now possible to suply more information to the function to uniquely identify a specific run."
   ]
  },
  {
   "cell_type": "code",
   "execution_count": 25,
   "metadata": {
    "execution": {
     "iopub.execute_input": "2020-12-10T08:23:18.909509Z",
     "iopub.status.busy": "2020-12-10T08:23:18.909052Z",
     "iopub.status.idle": "2020-12-10T08:23:18.916824Z",
     "shell.execute_reply": "2020-12-10T08:23:18.916355Z"
    }
   },
   "outputs": [
    {
     "name": "stdout",
     "output_type": "stream",
     "text": [
      "  captured_run_id    captured_counter  experiment_name              sample_name      sample_id    location    work_station\n",
      "-----------------  ------------------  ---------------------------  -------------  -----------  ----------  --------------\n",
      "                3                   3  extract_runs_experiment      no_sample       2863311530           0               0\n",
      "                3                   3  extract_runs_experiment_aux  no_sample       2863311530           0               0\n",
      "Caught a NameError\n"
     ]
    }
   ],
   "source": [
    "try:\n",
    "    load_by_run_spec(captured_run_id=3,\n",
    "                     conn=target_conn)\n",
    "except NameError:\n",
    "    print(\"Caught a NameError\")"
   ]
  },
  {
   "cell_type": "markdown",
   "metadata": {},
   "source": [
    "To single out one of these two runs, we can thus specify the `experiment_name`:"
   ]
  },
  {
   "cell_type": "code",
   "execution_count": 26,
   "metadata": {
    "execution": {
     "iopub.execute_input": "2020-12-10T08:23:18.920332Z",
     "iopub.status.busy": "2020-12-10T08:23:18.919798Z",
     "iopub.status.idle": "2020-12-10T08:23:18.924595Z",
     "shell.execute_reply": "2020-12-10T08:23:18.924048Z"
    }
   },
   "outputs": [
    {
     "data": {
      "text/plain": [
       "results #4@/home/vsts/work/1/s/docs/examples/DataSet/extract_runs_notebook_target.db\n",
       "------------------------------------------------------------------------------------\n",
       "my_inst_current - numeric\n",
       "my_inst_voltage - numeric"
      ]
     },
     "execution_count": 1,
     "metadata": {},
     "output_type": "execute_result"
    }
   ],
   "source": [
    "load_by_run_spec(captured_run_id=3,\n",
    "                 experiment_name='extract_runs_experiment_aux',\n",
    "                 conn=target_conn)"
   ]
  },
  {
   "cell_type": "code",
   "execution_count": null,
   "metadata": {},
   "outputs": [],
   "source": []
  }
 ],
 "metadata": {
  "kernelspec": {
   "display_name": "Python 3",
   "language": "python",
   "name": "python3"
  },
  "language_info": {
   "codemirror_mode": {
    "name": "ipython",
    "version": 3
   },
   "file_extension": ".py",
   "mimetype": "text/x-python",
   "name": "python",
   "nbconvert_exporter": "python",
   "pygments_lexer": "ipython3",
   "version": "3.7.9"
  }
 },
 "nbformat": 4,
 "nbformat_minor": 2
}
