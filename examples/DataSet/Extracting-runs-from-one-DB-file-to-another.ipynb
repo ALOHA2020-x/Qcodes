{
 "cells": [
  {
   "cell_type": "markdown",
   "metadata": {},
   "source": [
    "# Extracting runs from one DB file to another\n",
    "\n",
    "This notebook shows how to use the `extract_runs_into_db` function to extract runs from a database (DB) file (the source DB) into another DB file (the target DB). If the target DB does not exist, it will be created. The runs are **NOT** removed from the original DB file; they are copied over.\n"
   ]
  },
  {
   "cell_type": "markdown",
   "metadata": {},
   "source": [
    "## Setup\n",
    "\n",
    "Let us set up a DB file with some runs in it."
   ]
  },
  {
   "cell_type": "code",
   "execution_count": 1,
   "metadata": {
    "execution": {
     "iopub.execute_input": "2020-10-06T07:37:20.966619Z",
     "iopub.status.busy": "2020-10-06T07:37:20.965897Z",
     "iopub.status.idle": "2020-10-06T07:37:22.063444Z",
     "shell.execute_reply": "2020-10-06T07:37:22.062878Z"
    }
   },
   "outputs": [
    {
     "name": "stdout",
     "output_type": "stream",
     "text": [
      "Logging hadn't been started.\n",
      "Activating auto-logging. Current session state plus future input saved.\n",
      "Filename       : /home/vsts/.qcodes/logs/command_history.log\n",
      "Mode           : append\n",
      "Output logging : True\n",
      "Raw input log  : False\n",
      "Timestamping   : True\n",
      "State          : active\n"
     ]
    },
    {
     "name": "stdout",
     "output_type": "stream",
     "text": [
      "Qcodes Logfile : /home/vsts/.qcodes/logs/201006-19615-qcodes.log\n"
     ]
    }
   ],
   "source": [
    "import os \n",
    "\n",
    "import numpy as np\n",
    "\n",
    "from qcodes.dataset.database_extract_runs import extract_runs_into_db\n",
    "from qcodes.dataset.experiment_container import Experiment, load_experiment_by_name\n",
    "from qcodes.tests.instrument_mocks import DummyInstrument\n",
    "from qcodes.dataset.measurements import Measurement\n",
    "from qcodes import Station\n",
    "\n",
    "# The following function is imported and used here only for the sake\n",
    "# of explicitness. As a qcodes user, please, consider this function\n",
    "# private to qcodes which means its name, behavior, and location may\n",
    "# change without notice between qcodes versions.\n",
    "from qcodes.dataset.sqlite.database import connect"
   ]
  },
  {
   "cell_type": "code",
   "execution_count": 2,
   "metadata": {
    "execution": {
     "iopub.execute_input": "2020-10-06T07:37:22.067859Z",
     "iopub.status.busy": "2020-10-06T07:37:22.067251Z",
     "iopub.status.idle": "2020-10-06T07:37:22.071091Z",
     "shell.execute_reply": "2020-10-06T07:37:22.070599Z"
    }
   },
   "outputs": [],
   "source": [
    "source_path = os.path.join(os.getcwd(), 'extract_runs_notebook_source.db')\n",
    "target_path = os.path.join(os.getcwd(), 'extract_runs_notebook_target.db')"
   ]
  },
  {
   "cell_type": "code",
   "execution_count": 3,
   "metadata": {
    "execution": {
     "iopub.execute_input": "2020-10-06T07:37:22.074678Z",
     "iopub.status.busy": "2020-10-06T07:37:22.074071Z",
     "iopub.status.idle": "2020-10-06T07:37:22.224231Z",
     "shell.execute_reply": "2020-10-06T07:37:22.223645Z"
    }
   },
   "outputs": [
    {
     "name": "stdout",
     "output_type": "stream",
     "text": [
      "\r",
      "0it [00:00, ?it/s]"
     ]
    },
    {
     "name": "stdout",
     "output_type": "stream",
     "text": [
      "\r",
      "Upgrading database; v0 -> v1: : 0it [00:00, ?it/s]"
     ]
    },
    {
     "name": "stdout",
     "output_type": "stream",
     "text": [
      "\r",
      "Upgrading database; v0 -> v1: : 0it [00:00, ?it/s]"
     ]
    },
    {
     "name": "stdout",
     "output_type": "stream",
     "text": [
      "\n",
      "\r",
      "  0%|          | 0/1 [00:00<?, ?it/s]"
     ]
    },
    {
     "name": "stdout",
     "output_type": "stream",
     "text": [
      "\r",
      "Upgrading database; v1 -> v2:   0%|          | 0/1 [00:00<?, ?it/s]"
     ]
    },
    {
     "name": "stdout",
     "output_type": "stream",
     "text": [
      "\r",
      "Upgrading database; v1 -> v2: 100%|██████████| 1/1 [00:00<00:00, 584.00it/s]"
     ]
    },
    {
     "name": "stdout",
     "output_type": "stream",
     "text": [
      "\n",
      "\r",
      "0it [00:00, ?it/s]"
     ]
    },
    {
     "name": "stdout",
     "output_type": "stream",
     "text": [
      "\r",
      "Upgrading database; v2 -> v3: : 0it [00:00, ?it/s]"
     ]
    },
    {
     "name": "stdout",
     "output_type": "stream",
     "text": [
      "\r",
      "Upgrading database; v2 -> v3: : 0it [00:00, ?it/s]"
     ]
    },
    {
     "name": "stdout",
     "output_type": "stream",
     "text": [
      "\n",
      "\r",
      "0it [00:00, ?it/s]"
     ]
    },
    {
     "name": "stdout",
     "output_type": "stream",
     "text": [
      "\r",
      "Upgrading database; v3 -> v4: : 0it [00:00, ?it/s]"
     ]
    },
    {
     "name": "stdout",
     "output_type": "stream",
     "text": [
      "\r",
      "Upgrading database; v3 -> v4: : 0it [00:00, ?it/s]"
     ]
    },
    {
     "name": "stdout",
     "output_type": "stream",
     "text": [
      "\n",
      "\r",
      "  0%|          | 0/1 [00:00<?, ?it/s]"
     ]
    },
    {
     "name": "stdout",
     "output_type": "stream",
     "text": [
      "\r",
      "Upgrading database; v4 -> v5:   0%|          | 0/1 [00:00<?, ?it/s]"
     ]
    },
    {
     "name": "stdout",
     "output_type": "stream",
     "text": [
      "\r",
      "Upgrading database; v4 -> v5: 100%|██████████| 1/1 [00:00<00:00, 844.94it/s]"
     ]
    },
    {
     "name": "stdout",
     "output_type": "stream",
     "text": [
      "\n",
      "\r",
      "0it [00:00, ?it/s]"
     ]
    },
    {
     "name": "stdout",
     "output_type": "stream",
     "text": [
      "\r",
      "Upgrading database; v5 -> v6: : 0it [00:00, ?it/s]"
     ]
    },
    {
     "name": "stdout",
     "output_type": "stream",
     "text": [
      "\r",
      "Upgrading database; v5 -> v6: : 0it [00:00, ?it/s]"
     ]
    },
    {
     "name": "stdout",
     "output_type": "stream",
     "text": [
      "\n",
      "\r",
      "  0%|          | 0/1 [00:00<?, ?it/s]"
     ]
    },
    {
     "name": "stdout",
     "output_type": "stream",
     "text": [
      "\r",
      "Upgrading database; v6 -> v7:   0%|          | 0/1 [00:00<?, ?it/s]"
     ]
    },
    {
     "name": "stdout",
     "output_type": "stream",
     "text": [
      "\r",
      "Upgrading database; v6 -> v7: 100%|██████████| 1/1 [00:00<00:00, 240.40it/s]"
     ]
    },
    {
     "name": "stdout",
     "output_type": "stream",
     "text": [
      "\n",
      "\r",
      "  0%|          | 0/1 [00:00<?, ?it/s]"
     ]
    },
    {
     "name": "stdout",
     "output_type": "stream",
     "text": [
      "\r",
      "Upgrading database; v7 -> v8:   0%|          | 0/1 [00:00<?, ?it/s]"
     ]
    },
    {
     "name": "stdout",
     "output_type": "stream",
     "text": [
      "\r",
      "Upgrading database; v7 -> v8: 100%|██████████| 1/1 [00:00<00:00, 368.21it/s]"
     ]
    },
    {
     "name": "stdout",
     "output_type": "stream",
     "text": [
      "\n",
      "\r",
      "  0%|          | 0/1 [00:00<?, ?it/s]"
     ]
    },
    {
     "name": "stdout",
     "output_type": "stream",
     "text": [
      "\r",
      "Upgrading database; v8 -> v9:   0%|          | 0/1 [00:00<?, ?it/s]"
     ]
    },
    {
     "name": "stdout",
     "output_type": "stream",
     "text": [
      "\r",
      "Upgrading database; v8 -> v9: 100%|██████████| 1/1 [00:00<00:00, 494.20it/s]"
     ]
    },
    {
     "name": "stdout",
     "output_type": "stream",
     "text": [
      "\n",
      "\r",
      "0it [00:00, ?it/s]"
     ]
    },
    {
     "name": "stdout",
     "output_type": "stream",
     "text": [
      "\r",
      "Upgrading database; v0 -> v1: : 0it [00:00, ?it/s]"
     ]
    },
    {
     "name": "stdout",
     "output_type": "stream",
     "text": [
      "\r",
      "Upgrading database; v0 -> v1: : 0it [00:00, ?it/s]"
     ]
    },
    {
     "name": "stdout",
     "output_type": "stream",
     "text": [
      "\n",
      "\r",
      "  0%|          | 0/1 [00:00<?, ?it/s]"
     ]
    },
    {
     "name": "stdout",
     "output_type": "stream",
     "text": [
      "\r",
      "Upgrading database; v1 -> v2:   0%|          | 0/1 [00:00<?, ?it/s]"
     ]
    },
    {
     "name": "stdout",
     "output_type": "stream",
     "text": [
      "\r",
      "Upgrading database; v1 -> v2: 100%|██████████| 1/1 [00:00<00:00, 649.47it/s]"
     ]
    },
    {
     "name": "stdout",
     "output_type": "stream",
     "text": [
      "\n",
      "\r",
      "0it [00:00, ?it/s]"
     ]
    },
    {
     "name": "stdout",
     "output_type": "stream",
     "text": [
      "\r",
      "Upgrading database; v2 -> v3: : 0it [00:00, ?it/s]"
     ]
    },
    {
     "name": "stdout",
     "output_type": "stream",
     "text": [
      "\r",
      "Upgrading database; v2 -> v3: : 0it [00:00, ?it/s]"
     ]
    },
    {
     "name": "stdout",
     "output_type": "stream",
     "text": [
      "\n",
      "\r",
      "0it [00:00, ?it/s]"
     ]
    },
    {
     "name": "stdout",
     "output_type": "stream",
     "text": [
      "\r",
      "Upgrading database; v3 -> v4: : 0it [00:00, ?it/s]"
     ]
    },
    {
     "name": "stdout",
     "output_type": "stream",
     "text": [
      "\r",
      "Upgrading database; v3 -> v4: : 0it [00:00, ?it/s]"
     ]
    },
    {
     "name": "stdout",
     "output_type": "stream",
     "text": [
      "\n",
      "\r",
      "  0%|          | 0/1 [00:00<?, ?it/s]"
     ]
    },
    {
     "name": "stdout",
     "output_type": "stream",
     "text": [
      "\r",
      "Upgrading database; v4 -> v5:   0%|          | 0/1 [00:00<?, ?it/s]"
     ]
    },
    {
     "name": "stdout",
     "output_type": "stream",
     "text": [
      "\r",
      "Upgrading database; v4 -> v5: 100%|██████████| 1/1 [00:00<00:00, 450.47it/s]"
     ]
    },
    {
     "name": "stdout",
     "output_type": "stream",
     "text": [
      "\n",
      "\r",
      "0it [00:00, ?it/s]"
     ]
    },
    {
     "name": "stdout",
     "output_type": "stream",
     "text": [
      "\r",
      "Upgrading database; v5 -> v6: : 0it [00:00, ?it/s]"
     ]
    },
    {
     "name": "stdout",
     "output_type": "stream",
     "text": [
      "\r",
      "Upgrading database; v5 -> v6: : 0it [00:00, ?it/s]"
     ]
    },
    {
     "name": "stdout",
     "output_type": "stream",
     "text": [
      "\n",
      "\r",
      "  0%|          | 0/1 [00:00<?, ?it/s]"
     ]
    },
    {
     "name": "stdout",
     "output_type": "stream",
     "text": [
      "\r",
      "Upgrading database; v6 -> v7:   0%|          | 0/1 [00:00<?, ?it/s]"
     ]
    },
    {
     "name": "stdout",
     "output_type": "stream",
     "text": [
      "\r",
      "Upgrading database; v6 -> v7: 100%|██████████| 1/1 [00:00<00:00, 255.00it/s]"
     ]
    },
    {
     "name": "stdout",
     "output_type": "stream",
     "text": [
      "\n",
      "\r",
      "  0%|          | 0/1 [00:00<?, ?it/s]"
     ]
    },
    {
     "name": "stdout",
     "output_type": "stream",
     "text": [
      "\r",
      "Upgrading database; v7 -> v8:   0%|          | 0/1 [00:00<?, ?it/s]"
     ]
    },
    {
     "name": "stdout",
     "output_type": "stream",
     "text": [
      "\r",
      "Upgrading database; v7 -> v8: 100%|██████████| 1/1 [00:00<00:00, 380.54it/s]"
     ]
    },
    {
     "name": "stdout",
     "output_type": "stream",
     "text": [
      "\n",
      "\r",
      "  0%|          | 0/1 [00:00<?, ?it/s]"
     ]
    },
    {
     "name": "stdout",
     "output_type": "stream",
     "text": [
      "\r",
      "Upgrading database; v8 -> v9:   0%|          | 0/1 [00:00<?, ?it/s]"
     ]
    },
    {
     "name": "stdout",
     "output_type": "stream",
     "text": [
      "\r",
      "Upgrading database; v8 -> v9: 100%|██████████| 1/1 [00:00<00:00, 391.48it/s]"
     ]
    },
    {
     "name": "stdout",
     "output_type": "stream",
     "text": [
      "\n"
     ]
    }
   ],
   "source": [
    "source_conn = connect(source_path)\n",
    "target_conn = connect(target_path)"
   ]
  },
  {
   "cell_type": "code",
   "execution_count": 4,
   "metadata": {
    "execution": {
     "iopub.execute_input": "2020-10-06T07:37:22.228658Z",
     "iopub.status.busy": "2020-10-06T07:37:22.227880Z",
     "iopub.status.idle": "2020-10-06T07:37:22.234264Z",
     "shell.execute_reply": "2020-10-06T07:37:22.233470Z"
    }
   },
   "outputs": [],
   "source": [
    "exp = Experiment(name='extract_runs_experiment',\n",
    "                 sample_name='no_sample',\n",
    "                 conn=source_conn)\n",
    "\n",
    "my_inst = DummyInstrument('my_inst', gates=['voltage', 'current'])\n",
    "station = Station(my_inst)"
   ]
  },
  {
   "cell_type": "code",
   "execution_count": 5,
   "metadata": {
    "execution": {
     "iopub.execute_input": "2020-10-06T07:37:22.240740Z",
     "iopub.status.busy": "2020-10-06T07:37:22.240141Z",
     "iopub.status.idle": "2020-10-06T07:37:22.479331Z",
     "shell.execute_reply": "2020-10-06T07:37:22.480029Z"
    }
   },
   "outputs": [
    {
     "name": "stdout",
     "output_type": "stream",
     "text": [
      "Starting experimental run with id: 1. \n",
      "Starting experimental run with id: 2. \n"
     ]
    },
    {
     "name": "stdout",
     "output_type": "stream",
     "text": [
      "Starting experimental run with id: 3. \n"
     ]
    },
    {
     "name": "stdout",
     "output_type": "stream",
     "text": [
      "Starting experimental run with id: 4. \n"
     ]
    },
    {
     "name": "stdout",
     "output_type": "stream",
     "text": [
      "Starting experimental run with id: 5. \n"
     ]
    },
    {
     "name": "stdout",
     "output_type": "stream",
     "text": [
      "Starting experimental run with id: 6. \n"
     ]
    },
    {
     "name": "stdout",
     "output_type": "stream",
     "text": [
      "Starting experimental run with id: 7. \n"
     ]
    },
    {
     "name": "stdout",
     "output_type": "stream",
     "text": [
      "Starting experimental run with id: 8. \n"
     ]
    },
    {
     "name": "stdout",
     "output_type": "stream",
     "text": [
      "Starting experimental run with id: 9. \n"
     ]
    },
    {
     "name": "stdout",
     "output_type": "stream",
     "text": [
      "Starting experimental run with id: 10. \n"
     ]
    }
   ],
   "source": [
    "meas = Measurement(exp=exp)\n",
    "meas.register_parameter(my_inst.voltage)\n",
    "meas.register_parameter(my_inst.current, setpoints=(my_inst.voltage,))\n",
    "\n",
    "#Add 10 runs with gradually more and more data\n",
    "\n",
    "for run_id in range(1, 11):\n",
    "    with meas.run() as datasaver:\n",
    "        for step, noise in enumerate(np.random.randn(run_id)):\n",
    "            datasaver.add_result((my_inst.voltage, step),\n",
    "                                 (my_inst.current, noise))"
   ]
  },
  {
   "cell_type": "markdown",
   "metadata": {},
   "source": [
    "## Extraction\n",
    "\n",
    "Now let us extract runs 3 and 7 into our desired target DB file. All runs must come from the same experiment. To extract runs from different experiments, one may call the function several times.\n",
    "\n",
    "The function will look in the target DB to see if an experiment with matching attributes already exists. If not, such an experiment is created."
   ]
  },
  {
   "cell_type": "code",
   "execution_count": 6,
   "metadata": {
    "execution": {
     "iopub.execute_input": "2020-10-06T07:37:22.484408Z",
     "iopub.status.busy": "2020-10-06T07:37:22.483556Z",
     "iopub.status.idle": "2020-10-06T07:37:22.498223Z",
     "shell.execute_reply": "2020-10-06T07:37:22.498707Z"
    },
    "scrolled": false
   },
   "outputs": [],
   "source": [
    "extract_runs_into_db(source_path, target_path, 3, 7)"
   ]
  },
  {
   "cell_type": "code",
   "execution_count": 7,
   "metadata": {
    "execution": {
     "iopub.execute_input": "2020-10-06T07:37:22.502852Z",
     "iopub.status.busy": "2020-10-06T07:37:22.502036Z",
     "iopub.status.idle": "2020-10-06T07:37:22.505664Z",
     "shell.execute_reply": "2020-10-06T07:37:22.506243Z"
    }
   },
   "outputs": [],
   "source": [
    "target_exp = load_experiment_by_name(name='extract_runs_experiment', conn=target_conn)"
   ]
  },
  {
   "cell_type": "code",
   "execution_count": 8,
   "metadata": {
    "execution": {
     "iopub.execute_input": "2020-10-06T07:37:22.515600Z",
     "iopub.status.busy": "2020-10-06T07:37:22.514811Z",
     "iopub.status.idle": "2020-10-06T07:37:22.524614Z",
     "shell.execute_reply": "2020-10-06T07:37:22.524020Z"
    }
   },
   "outputs": [
    {
     "data": {
      "text/plain": [
       "extract_runs_experiment#no_sample#1@/home/vsts/work/1/s/docs/examples/DataSet/extract_runs_notebook_target.db\n",
       "-------------------------------------------------------------------------------------------------------------\n",
       "1-results-1-my_inst_voltage,my_inst_current-3\n",
       "2-results-2-my_inst_voltage,my_inst_current-7"
      ]
     },
     "execution_count": 1,
     "metadata": {},
     "output_type": "execute_result"
    }
   ],
   "source": [
    "target_exp"
   ]
  },
  {
   "cell_type": "markdown",
   "metadata": {},
   "source": [
    "The last number printed in each line is the number of data points. As expected, we get 3 and 7.\n",
    "\n",
    "Note that the runs will have different `run_id`s in the new database. Their GUIDs are, however, the same (as they must be)."
   ]
  },
  {
   "cell_type": "code",
   "execution_count": 9,
   "metadata": {
    "execution": {
     "iopub.execute_input": "2020-10-06T07:37:22.528340Z",
     "iopub.status.busy": "2020-10-06T07:37:22.527780Z",
     "iopub.status.idle": "2020-10-06T07:37:22.532588Z",
     "shell.execute_reply": "2020-10-06T07:37:22.533020Z"
    },
    "scrolled": true
   },
   "outputs": [
    {
     "data": {
      "text/plain": [
       "'aaaaaaaa-0000-0000-0000-0174fcd7e867'"
      ]
     },
     "execution_count": 1,
     "metadata": {},
     "output_type": "execute_result"
    }
   ],
   "source": [
    "exp.data_set(3).guid"
   ]
  },
  {
   "cell_type": "code",
   "execution_count": 10,
   "metadata": {
    "execution": {
     "iopub.execute_input": "2020-10-06T07:37:22.536470Z",
     "iopub.status.busy": "2020-10-06T07:37:22.535803Z",
     "iopub.status.idle": "2020-10-06T07:37:22.541082Z",
     "shell.execute_reply": "2020-10-06T07:37:22.540475Z"
    }
   },
   "outputs": [
    {
     "data": {
      "text/plain": [
       "'aaaaaaaa-0000-0000-0000-0174fcd7e867'"
      ]
     },
     "execution_count": 1,
     "metadata": {},
     "output_type": "execute_result"
    }
   ],
   "source": [
    "target_exp.data_set(1).guid"
   ]
  },
  {
   "cell_type": "markdown",
   "metadata": {},
   "source": [
    "Furthermore, note that the original `run_id` preserved as `captured_run_id`. We will demonstrate below how to look up data via the `captured_run_id`."
   ]
  },
  {
   "cell_type": "code",
   "execution_count": 11,
   "metadata": {
    "execution": {
     "iopub.execute_input": "2020-10-06T07:37:22.544545Z",
     "iopub.status.busy": "2020-10-06T07:37:22.543959Z",
     "iopub.status.idle": "2020-10-06T07:37:22.548294Z",
     "shell.execute_reply": "2020-10-06T07:37:22.548811Z"
    }
   },
   "outputs": [
    {
     "data": {
      "text/plain": [
       "3"
      ]
     },
     "execution_count": 1,
     "metadata": {},
     "output_type": "execute_result"
    }
   ],
   "source": [
    "target_exp.data_set(1).captured_run_id"
   ]
  },
  {
   "cell_type": "markdown",
   "metadata": {},
   "source": [
    "## Merging data from 2 databases"
   ]
  },
  {
   "cell_type": "markdown",
   "metadata": {},
   "source": [
    "There are occasions where it is convenient to combine data from several databases."
   ]
  },
  {
   "cell_type": "markdown",
   "metadata": {},
   "source": [
    "Let's first demonstrate this by creating some new experiments in another db file."
   ]
  },
  {
   "cell_type": "code",
   "execution_count": 12,
   "metadata": {
    "execution": {
     "iopub.execute_input": "2020-10-06T07:37:22.553176Z",
     "iopub.status.busy": "2020-10-06T07:37:22.552167Z",
     "iopub.status.idle": "2020-10-06T07:37:22.553996Z",
     "shell.execute_reply": "2020-10-06T07:37:22.554471Z"
    }
   },
   "outputs": [],
   "source": [
    "extra_source_path = os.path.join(os.getcwd(), 'extract_runs_notebook_source_aux.db')"
   ]
  },
  {
   "cell_type": "code",
   "execution_count": 13,
   "metadata": {
    "execution": {
     "iopub.execute_input": "2020-10-06T07:37:22.557399Z",
     "iopub.status.busy": "2020-10-06T07:37:22.556907Z",
     "iopub.status.idle": "2020-10-06T07:37:22.637800Z",
     "shell.execute_reply": "2020-10-06T07:37:22.637150Z"
    }
   },
   "outputs": [
    {
     "name": "stdout",
     "output_type": "stream",
     "text": [
      "\r",
      "0it [00:00, ?it/s]"
     ]
    },
    {
     "name": "stdout",
     "output_type": "stream",
     "text": [
      "\r",
      "Upgrading database; v0 -> v1: : 0it [00:00, ?it/s]"
     ]
    },
    {
     "name": "stdout",
     "output_type": "stream",
     "text": [
      "\r",
      "Upgrading database; v0 -> v1: : 0it [00:00, ?it/s]"
     ]
    },
    {
     "name": "stdout",
     "output_type": "stream",
     "text": [
      "\n",
      "\r",
      "  0%|          | 0/1 [00:00<?, ?it/s]"
     ]
    },
    {
     "name": "stdout",
     "output_type": "stream",
     "text": [
      "\r",
      "Upgrading database; v1 -> v2:   0%|          | 0/1 [00:00<?, ?it/s]"
     ]
    },
    {
     "name": "stdout",
     "output_type": "stream",
     "text": [
      "\r",
      "Upgrading database; v1 -> v2: 100%|██████████| 1/1 [00:00<00:00, 717.96it/s]"
     ]
    },
    {
     "name": "stdout",
     "output_type": "stream",
     "text": [
      "\n"
     ]
    },
    {
     "name": "stdout",
     "output_type": "stream",
     "text": [
      "\r",
      "0it [00:00, ?it/s]"
     ]
    },
    {
     "name": "stdout",
     "output_type": "stream",
     "text": [
      "\r",
      "Upgrading database; v2 -> v3: : 0it [00:00, ?it/s]"
     ]
    },
    {
     "name": "stdout",
     "output_type": "stream",
     "text": [
      "\r",
      "Upgrading database; v2 -> v3: : 0it [00:00, ?it/s]"
     ]
    },
    {
     "name": "stdout",
     "output_type": "stream",
     "text": [
      "\n",
      "\r",
      "0it [00:00, ?it/s]"
     ]
    },
    {
     "name": "stdout",
     "output_type": "stream",
     "text": [
      "\r",
      "Upgrading database; v3 -> v4: : 0it [00:00, ?it/s]"
     ]
    },
    {
     "name": "stdout",
     "output_type": "stream",
     "text": [
      "\r",
      "Upgrading database; v3 -> v4: : 0it [00:00, ?it/s]"
     ]
    },
    {
     "name": "stdout",
     "output_type": "stream",
     "text": [
      "\n",
      "\r",
      "  0%|          | 0/1 [00:00<?, ?it/s]"
     ]
    },
    {
     "name": "stdout",
     "output_type": "stream",
     "text": [
      "\r",
      "Upgrading database; v4 -> v5:   0%|          | 0/1 [00:00<?, ?it/s]"
     ]
    },
    {
     "name": "stdout",
     "output_type": "stream",
     "text": [
      "\r",
      "Upgrading database; v4 -> v5: 100%|██████████| 1/1 [00:00<00:00, 382.94it/s]"
     ]
    },
    {
     "name": "stdout",
     "output_type": "stream",
     "text": [
      "\n"
     ]
    },
    {
     "name": "stdout",
     "output_type": "stream",
     "text": [
      "\r",
      "0it [00:00, ?it/s]"
     ]
    },
    {
     "name": "stdout",
     "output_type": "stream",
     "text": [
      "\r",
      "Upgrading database; v5 -> v6: : 0it [00:00, ?it/s]"
     ]
    },
    {
     "name": "stdout",
     "output_type": "stream",
     "text": [
      "\r",
      "Upgrading database; v5 -> v6: : 0it [00:00, ?it/s]"
     ]
    },
    {
     "name": "stdout",
     "output_type": "stream",
     "text": [
      "\n",
      "\r",
      "  0%|          | 0/1 [00:00<?, ?it/s]"
     ]
    },
    {
     "name": "stdout",
     "output_type": "stream",
     "text": [
      "\r",
      "Upgrading database; v6 -> v7:   0%|          | 0/1 [00:00<?, ?it/s]"
     ]
    },
    {
     "name": "stdout",
     "output_type": "stream",
     "text": [
      "\r",
      "Upgrading database; v6 -> v7: 100%|██████████| 1/1 [00:00<00:00, 341.89it/s]"
     ]
    },
    {
     "name": "stdout",
     "output_type": "stream",
     "text": [
      "\n",
      "\r",
      "  0%|          | 0/1 [00:00<?, ?it/s]"
     ]
    },
    {
     "name": "stdout",
     "output_type": "stream",
     "text": [
      "\r",
      "Upgrading database; v7 -> v8:   0%|          | 0/1 [00:00<?, ?it/s]"
     ]
    },
    {
     "name": "stdout",
     "output_type": "stream",
     "text": [
      "\r",
      "Upgrading database; v7 -> v8: 100%|██████████| 1/1 [00:00<00:00, 340.09it/s]"
     ]
    },
    {
     "name": "stdout",
     "output_type": "stream",
     "text": [
      "\n"
     ]
    },
    {
     "name": "stdout",
     "output_type": "stream",
     "text": [
      "\r",
      "  0%|          | 0/1 [00:00<?, ?it/s]"
     ]
    },
    {
     "name": "stdout",
     "output_type": "stream",
     "text": [
      "\r",
      "Upgrading database; v8 -> v9:   0%|          | 0/1 [00:00<?, ?it/s]"
     ]
    },
    {
     "name": "stdout",
     "output_type": "stream",
     "text": [
      "\r",
      "Upgrading database; v8 -> v9: 100%|██████████| 1/1 [00:00<00:00, 395.99it/s]"
     ]
    },
    {
     "name": "stdout",
     "output_type": "stream",
     "text": [
      "\n"
     ]
    }
   ],
   "source": [
    "source_extra_conn = connect(extra_source_path)"
   ]
  },
  {
   "cell_type": "code",
   "execution_count": 14,
   "metadata": {
    "execution": {
     "iopub.execute_input": "2020-10-06T07:37:22.641925Z",
     "iopub.status.busy": "2020-10-06T07:37:22.640866Z",
     "iopub.status.idle": "2020-10-06T07:37:22.645141Z",
     "shell.execute_reply": "2020-10-06T07:37:22.644540Z"
    }
   },
   "outputs": [],
   "source": [
    "exp = Experiment(name='extract_runs_experiment_aux',\n",
    "                 sample_name='no_sample',\n",
    "                 conn=source_extra_conn)\n"
   ]
  },
  {
   "cell_type": "code",
   "execution_count": 15,
   "metadata": {
    "execution": {
     "iopub.execute_input": "2020-10-06T07:37:22.650638Z",
     "iopub.status.busy": "2020-10-06T07:37:22.650124Z",
     "iopub.status.idle": "2020-10-06T07:37:22.892424Z",
     "shell.execute_reply": "2020-10-06T07:37:22.891809Z"
    }
   },
   "outputs": [
    {
     "name": "stdout",
     "output_type": "stream",
     "text": [
      "Starting experimental run with id: 1. \n"
     ]
    },
    {
     "name": "stdout",
     "output_type": "stream",
     "text": [
      "Starting experimental run with id: 2. \n",
      "Starting experimental run with id: 3. \n",
      "Starting experimental run with id: 4. \n",
      "Starting experimental run with id: 5. \n"
     ]
    },
    {
     "name": "stdout",
     "output_type": "stream",
     "text": [
      "Starting experimental run with id: 6. \n"
     ]
    },
    {
     "name": "stdout",
     "output_type": "stream",
     "text": [
      "Starting experimental run with id: 7. \n"
     ]
    },
    {
     "name": "stdout",
     "output_type": "stream",
     "text": [
      "Starting experimental run with id: 8. \n",
      "Starting experimental run with id: 9. \n"
     ]
    },
    {
     "name": "stdout",
     "output_type": "stream",
     "text": [
      "Starting experimental run with id: 10. \n"
     ]
    }
   ],
   "source": [
    "meas = Measurement(exp=exp)\n",
    "meas.register_parameter(my_inst.current)\n",
    "meas.register_parameter(my_inst.voltage, setpoints=(my_inst.current,))\n",
    "\n",
    "#Add 10 runs with gradually more and more data\n",
    "\n",
    "for run_id in range(1, 11):\n",
    "    with meas.run() as datasaver:\n",
    "        for step, noise in enumerate(np.random.randn(run_id)):\n",
    "            datasaver.add_result((my_inst.current, step),\n",
    "                                 (my_inst.voltage, noise))"
   ]
  },
  {
   "cell_type": "code",
   "execution_count": 16,
   "metadata": {
    "execution": {
     "iopub.execute_input": "2020-10-06T07:37:22.896394Z",
     "iopub.status.busy": "2020-10-06T07:37:22.895838Z",
     "iopub.status.idle": "2020-10-06T07:37:22.902836Z",
     "shell.execute_reply": "2020-10-06T07:37:22.903355Z"
    }
   },
   "outputs": [
    {
     "data": {
      "text/plain": [
       "'aaaaaaaa-0000-0000-0000-0174fcd7ea06'"
      ]
     },
     "execution_count": 1,
     "metadata": {},
     "output_type": "execute_result"
    }
   ],
   "source": [
    "exp.data_set(3).guid"
   ]
  },
  {
   "cell_type": "code",
   "execution_count": 17,
   "metadata": {
    "execution": {
     "iopub.execute_input": "2020-10-06T07:37:22.907145Z",
     "iopub.status.busy": "2020-10-06T07:37:22.906073Z",
     "iopub.status.idle": "2020-10-06T07:37:22.921809Z",
     "shell.execute_reply": "2020-10-06T07:37:22.921116Z"
    }
   },
   "outputs": [],
   "source": [
    "extract_runs_into_db(extra_source_path, target_path, 1, 3)"
   ]
  },
  {
   "cell_type": "code",
   "execution_count": 18,
   "metadata": {
    "execution": {
     "iopub.execute_input": "2020-10-06T07:37:22.925687Z",
     "iopub.status.busy": "2020-10-06T07:37:22.925119Z",
     "iopub.status.idle": "2020-10-06T07:37:22.929809Z",
     "shell.execute_reply": "2020-10-06T07:37:22.928977Z"
    }
   },
   "outputs": [],
   "source": [
    "target_exp_aux = load_experiment_by_name(name='extract_runs_experiment_aux', conn=target_conn)"
   ]
  },
  {
   "cell_type": "markdown",
   "metadata": {},
   "source": [
    "The GUID should be preserved."
   ]
  },
  {
   "cell_type": "code",
   "execution_count": 19,
   "metadata": {
    "execution": {
     "iopub.execute_input": "2020-10-06T07:37:22.933930Z",
     "iopub.status.busy": "2020-10-06T07:37:22.932594Z",
     "iopub.status.idle": "2020-10-06T07:37:22.936912Z",
     "shell.execute_reply": "2020-10-06T07:37:22.937813Z"
    }
   },
   "outputs": [
    {
     "data": {
      "text/plain": [
       "'aaaaaaaa-0000-0000-0000-0174fcd7ea06'"
      ]
     },
     "execution_count": 1,
     "metadata": {},
     "output_type": "execute_result"
    }
   ],
   "source": [
    "target_exp_aux.data_set(2).guid"
   ]
  },
  {
   "cell_type": "markdown",
   "metadata": {},
   "source": [
    "And the original `run_id` is preserved as `captured_run_id` "
   ]
  },
  {
   "cell_type": "code",
   "execution_count": 20,
   "metadata": {
    "execution": {
     "iopub.execute_input": "2020-10-06T07:37:22.941759Z",
     "iopub.status.busy": "2020-10-06T07:37:22.940790Z",
     "iopub.status.idle": "2020-10-06T07:37:22.946542Z",
     "shell.execute_reply": "2020-10-06T07:37:22.945560Z"
    }
   },
   "outputs": [
    {
     "data": {
      "text/plain": [
       "3"
      ]
     },
     "execution_count": 1,
     "metadata": {},
     "output_type": "execute_result"
    }
   ],
   "source": [
    "target_exp_aux.data_set(2).captured_run_id"
   ]
  },
  {
   "cell_type": "markdown",
   "metadata": {},
   "source": [
    "## Uniquely identifying and loading runs\n",
    "\n",
    "As runs move from one database to the other, uniquely identifying a run becomes non-trivial."
   ]
  },
  {
   "cell_type": "markdown",
   "metadata": {},
   "source": [
    "Note how we now have 2 runs in the same DB sharing the same `captured_run_id`. This means that `captured_run_id` is **not** a unique key. We can demonstrate that `captured_run_id` is not unique by looking up the `GUID`s that match this `captured_run_id`."
   ]
  },
  {
   "cell_type": "code",
   "execution_count": 21,
   "metadata": {
    "execution": {
     "iopub.execute_input": "2020-10-06T07:37:22.950830Z",
     "iopub.status.busy": "2020-10-06T07:37:22.949711Z",
     "iopub.status.idle": "2020-10-06T07:37:22.951327Z",
     "shell.execute_reply": "2020-10-06T07:37:22.951824Z"
    }
   },
   "outputs": [],
   "source": [
    "from qcodes.dataset.sqlite.queries import get_guids_from_run_spec\n",
    "from qcodes.dataset.data_set import load_by_guid, load_by_run_spec"
   ]
  },
  {
   "cell_type": "code",
   "execution_count": 22,
   "metadata": {
    "execution": {
     "iopub.execute_input": "2020-10-06T07:37:22.956092Z",
     "iopub.status.busy": "2020-10-06T07:37:22.954940Z",
     "iopub.status.idle": "2020-10-06T07:37:22.957874Z",
     "shell.execute_reply": "2020-10-06T07:37:22.958345Z"
    }
   },
   "outputs": [
    {
     "data": {
      "text/plain": [
       "['aaaaaaaa-0000-0000-0000-0174fcd7e867',\n",
       " 'aaaaaaaa-0000-0000-0000-0174fcd7ea06']"
      ]
     },
     "execution_count": 1,
     "metadata": {},
     "output_type": "execute_result"
    }
   ],
   "source": [
    "guids = get_guids_from_run_spec(target_conn, captured_run_id=3)\n",
    "guids"
   ]
  },
  {
   "cell_type": "code",
   "execution_count": 23,
   "metadata": {
    "execution": {
     "iopub.execute_input": "2020-10-06T07:37:22.962778Z",
     "iopub.status.busy": "2020-10-06T07:37:22.962078Z",
     "iopub.status.idle": "2020-10-06T07:37:22.968078Z",
     "shell.execute_reply": "2020-10-06T07:37:22.967370Z"
    }
   },
   "outputs": [
    {
     "data": {
      "text/plain": [
       "results #1@/home/vsts/work/1/s/docs/examples/DataSet/extract_runs_notebook_target.db\n",
       "------------------------------------------------------------------------------------\n",
       "my_inst_voltage - numeric\n",
       "my_inst_current - numeric"
      ]
     },
     "execution_count": 1,
     "metadata": {},
     "output_type": "execute_result"
    }
   ],
   "source": [
    "load_by_guid(guids[0], conn=target_conn)"
   ]
  },
  {
   "cell_type": "code",
   "execution_count": 24,
   "metadata": {
    "execution": {
     "iopub.execute_input": "2020-10-06T07:37:22.971756Z",
     "iopub.status.busy": "2020-10-06T07:37:22.971224Z",
     "iopub.status.idle": "2020-10-06T07:37:22.976164Z",
     "shell.execute_reply": "2020-10-06T07:37:22.975542Z"
    }
   },
   "outputs": [
    {
     "data": {
      "text/plain": [
       "results #4@/home/vsts/work/1/s/docs/examples/DataSet/extract_runs_notebook_target.db\n",
       "------------------------------------------------------------------------------------\n",
       "my_inst_current - numeric\n",
       "my_inst_voltage - numeric"
      ]
     },
     "execution_count": 1,
     "metadata": {},
     "output_type": "execute_result"
    }
   ],
   "source": [
    "load_by_guid(guids[1], conn=target_conn)"
   ]
  },
  {
   "cell_type": "markdown",
   "metadata": {},
   "source": [
    "To enable loading of runs that may share the same `captured_run_id`, the function `load_by_run_data` is supplied.\n",
    "This function takes one or more optional sets of metadata. If more than one run matching this information is found the metadata of the matching runs is printed and an error is raised. It is now possible to suply more information to the function to uniquely identify a specific run."
   ]
  },
  {
   "cell_type": "code",
   "execution_count": 25,
   "metadata": {
    "execution": {
     "iopub.execute_input": "2020-10-06T07:37:22.979853Z",
     "iopub.status.busy": "2020-10-06T07:37:22.979331Z",
     "iopub.status.idle": "2020-10-06T07:37:22.988658Z",
     "shell.execute_reply": "2020-10-06T07:37:22.988222Z"
    }
   },
   "outputs": [
    {
     "name": "stdout",
     "output_type": "stream",
     "text": [
      "  captured_run_id    captured_counter  experiment_name              sample_name      sample_id    location    work_station\n",
      "-----------------  ------------------  ---------------------------  -------------  -----------  ----------  --------------\n",
      "                3                   3  extract_runs_experiment      no_sample       2863311530           0               0\n",
      "                3                   3  extract_runs_experiment_aux  no_sample       2863311530           0               0\n",
      "Caught a NameError\n"
     ]
    }
   ],
   "source": [
    "try:\n",
    "    load_by_run_spec(captured_run_id=3,\n",
    "                     conn=target_conn)\n",
    "except NameError:\n",
    "    print(\"Caught a NameError\")"
   ]
  },
  {
   "cell_type": "markdown",
   "metadata": {},
   "source": [
    "To single out one of these two runs, we can thus specify the `experiment_name`:"
   ]
  },
  {
   "cell_type": "code",
   "execution_count": 26,
   "metadata": {
    "execution": {
     "iopub.execute_input": "2020-10-06T07:37:22.992643Z",
     "iopub.status.busy": "2020-10-06T07:37:22.991929Z",
     "iopub.status.idle": "2020-10-06T07:37:22.996374Z",
     "shell.execute_reply": "2020-10-06T07:37:22.996883Z"
    }
   },
   "outputs": [
    {
     "data": {
      "text/plain": [
       "results #4@/home/vsts/work/1/s/docs/examples/DataSet/extract_runs_notebook_target.db\n",
       "------------------------------------------------------------------------------------\n",
       "my_inst_current - numeric\n",
       "my_inst_voltage - numeric"
      ]
     },
     "execution_count": 1,
     "metadata": {},
     "output_type": "execute_result"
    }
   ],
   "source": [
    "load_by_run_spec(captured_run_id=3,\n",
    "                 experiment_name='extract_runs_experiment_aux',\n",
    "                 conn=target_conn)"
   ]
  },
  {
   "cell_type": "code",
   "execution_count": null,
   "metadata": {},
   "outputs": [],
   "source": []
  }
 ],
 "metadata": {
  "kernelspec": {
   "display_name": "Python 3",
   "language": "python",
   "name": "python3"
  },
  "language_info": {
   "codemirror_mode": {
    "name": "ipython",
    "version": 3
   },
   "file_extension": ".py",
   "mimetype": "text/x-python",
   "name": "python",
   "nbconvert_exporter": "python",
   "pygments_lexer": "ipython3",
   "version": "3.7.7"
  }
 },
 "nbformat": 4,
 "nbformat_minor": 2
}
