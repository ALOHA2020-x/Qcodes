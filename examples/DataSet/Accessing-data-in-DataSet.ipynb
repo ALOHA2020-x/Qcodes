{
 "cells": [
  {
   "cell_type": "markdown",
   "metadata": {},
   "source": [
    "# Accessing data in a DataSet\r\n",
    "\r\n",
    "After a measurement is completed all the acquired data and metadata around it is accessible via a `DataSet` object. This notebook presents the useful methods and properties of the `DataSet` object which enable convenient access to the data, parameters information, and more. For general overview of the `DataSet` class, refer to [DataSet class walkthrough](DataSet-class-walkthrough.ipynb)."
   ]
  },
  {
   "cell_type": "markdown",
   "metadata": {},
   "source": [
    "## Preparation: a DataSet from a dummy Measurement\n",
    "\n",
    "In order to obtain a `DataSet` object, we are going to run a `Measurement` storing some dummy data (see notebook on [Performing measurements using qcodes parameters and dataset](Performing-measurements-using-qcodes-parameters-and-dataset.ipynb) notebook for more details)."
   ]
  },
  {
   "cell_type": "code",
   "execution_count": 1,
   "metadata": {
    "execution": {
     "iopub.execute_input": "2021-03-05T11:24:46.596743Z",
     "iopub.status.busy": "2021-03-05T11:24:46.596159Z",
     "iopub.status.idle": "2021-03-05T11:24:47.580430Z",
     "shell.execute_reply": "2021-03-05T11:24:47.580895Z"
    }
   },
   "outputs": [
    {
     "name": "stdout",
     "output_type": "stream",
     "text": [
      "Logging hadn't been started.\n",
      "Activating auto-logging. Current session state plus future input saved.\n",
      "Filename       : /home/runner/.qcodes/logs/command_history.log\n",
      "Mode           : append\n",
      "Output logging : True\n",
      "Raw input log  : False\n",
      "Timestamping   : True\n",
      "State          : active\n"
     ]
    },
    {
     "name": "stdout",
     "output_type": "stream",
     "text": [
      "Qcodes Logfile : /home/runner/.qcodes/logs/210305-3733-qcodes.log\n"
     ]
    }
   ],
   "source": [
    "import tempfile\n",
    "import os\n",
    "\n",
    "import numpy as np\n",
    "\n",
    "import qcodes\n",
    "from qcodes import initialise_or_create_database_at, \\\n",
    "    load_or_create_experiment, Measurement, Parameter, \\\n",
    "    Station\n",
    "from qcodes.dataset.plotting import plot_dataset"
   ]
  },
  {
   "cell_type": "code",
   "execution_count": 2,
   "metadata": {
    "execution": {
     "iopub.execute_input": "2021-03-05T11:24:47.585795Z",
     "iopub.status.busy": "2021-03-05T11:24:47.584647Z",
     "iopub.status.idle": "2021-03-05T11:24:47.881718Z",
     "shell.execute_reply": "2021-03-05T11:24:47.881205Z"
    }
   },
   "outputs": [
    {
     "name": "stdout",
     "output_type": "stream",
     "text": [
      "\r",
      "0it [00:00, ?it/s]"
     ]
    },
    {
     "name": "stdout",
     "output_type": "stream",
     "text": [
      "\r",
      "Upgrading database; v0 -> v1: : 0it [00:00, ?it/s]"
     ]
    },
    {
     "name": "stdout",
     "output_type": "stream",
     "text": [
      "\r",
      "Upgrading database; v0 -> v1: : 0it [00:00, ?it/s]"
     ]
    },
    {
     "name": "stdout",
     "output_type": "stream",
     "text": [
      "\n",
      "\r",
      "  0%|          | 0/1 [00:00<?, ?it/s]"
     ]
    },
    {
     "name": "stdout",
     "output_type": "stream",
     "text": [
      "\r",
      "Upgrading database; v1 -> v2:   0%|          | 0/1 [00:00<?, ?it/s]"
     ]
    },
    {
     "name": "stdout",
     "output_type": "stream",
     "text": [
      "\r",
      "Upgrading database; v1 -> v2: 100%|██████████| 1/1 [00:00<00:00, 779.03it/s]"
     ]
    },
    {
     "name": "stdout",
     "output_type": "stream",
     "text": [
      "\n",
      "\r",
      "0it [00:00, ?it/s]"
     ]
    },
    {
     "name": "stdout",
     "output_type": "stream",
     "text": [
      "\r",
      "Upgrading database; v2 -> v3: : 0it [00:00, ?it/s]"
     ]
    },
    {
     "name": "stdout",
     "output_type": "stream",
     "text": [
      "\r",
      "Upgrading database; v2 -> v3: : 0it [00:00, ?it/s]"
     ]
    },
    {
     "name": "stdout",
     "output_type": "stream",
     "text": [
      "\n",
      "\r",
      "0it [00:00, ?it/s]"
     ]
    },
    {
     "name": "stdout",
     "output_type": "stream",
     "text": [
      "\r",
      "Upgrading database; v3 -> v4: : 0it [00:00, ?it/s]"
     ]
    },
    {
     "name": "stdout",
     "output_type": "stream",
     "text": [
      "\r",
      "Upgrading database; v3 -> v4: : 0it [00:00, ?it/s]"
     ]
    },
    {
     "name": "stdout",
     "output_type": "stream",
     "text": [
      "\n",
      "\r",
      "  0%|          | 0/1 [00:00<?, ?it/s]"
     ]
    },
    {
     "name": "stdout",
     "output_type": "stream",
     "text": [
      "\r",
      "Upgrading database; v4 -> v5:   0%|          | 0/1 [00:00<?, ?it/s]"
     ]
    },
    {
     "name": "stdout",
     "output_type": "stream",
     "text": [
      "\r",
      "Upgrading database; v4 -> v5: 100%|██████████| 1/1 [00:00<00:00, 737.14it/s]"
     ]
    },
    {
     "name": "stdout",
     "output_type": "stream",
     "text": [
      "\n",
      "\r",
      "0it [00:00, ?it/s]"
     ]
    },
    {
     "name": "stdout",
     "output_type": "stream",
     "text": [
      "\r",
      "Upgrading database; v5 -> v6: : 0it [00:00, ?it/s]"
     ]
    },
    {
     "name": "stdout",
     "output_type": "stream",
     "text": [
      "\r",
      "Upgrading database; v5 -> v6: : 0it [00:00, ?it/s]"
     ]
    },
    {
     "name": "stdout",
     "output_type": "stream",
     "text": [
      "\n",
      "\r",
      "  0%|          | 0/1 [00:00<?, ?it/s]"
     ]
    },
    {
     "name": "stdout",
     "output_type": "stream",
     "text": [
      "\r",
      "Upgrading database; v6 -> v7:   0%|          | 0/1 [00:00<?, ?it/s]"
     ]
    },
    {
     "name": "stdout",
     "output_type": "stream",
     "text": [
      "\r",
      "Upgrading database; v6 -> v7: 100%|██████████| 1/1 [00:00<00:00, 73.99it/s]"
     ]
    },
    {
     "name": "stdout",
     "output_type": "stream",
     "text": [
      "\n",
      "\r",
      "  0%|          | 0/1 [00:00<?, ?it/s]"
     ]
    },
    {
     "name": "stdout",
     "output_type": "stream",
     "text": [
      "\r",
      "Upgrading database; v7 -> v8:   0%|          | 0/1 [00:00<?, ?it/s]"
     ]
    },
    {
     "name": "stdout",
     "output_type": "stream",
     "text": [
      "\r",
      "Upgrading database; v7 -> v8: 100%|██████████| 1/1 [00:00<00:00, 1049.89it/s]"
     ]
    },
    {
     "name": "stdout",
     "output_type": "stream",
     "text": [
      "\n"
     ]
    },
    {
     "name": "stdout",
     "output_type": "stream",
     "text": [
      "\r",
      "  0%|          | 0/1 [00:00<?, ?it/s]"
     ]
    },
    {
     "name": "stdout",
     "output_type": "stream",
     "text": [
      "\r",
      "Upgrading database; v8 -> v9:   0%|          | 0/1 [00:00<?, ?it/s]"
     ]
    },
    {
     "name": "stdout",
     "output_type": "stream",
     "text": [
      "\r",
      "Upgrading database; v8 -> v9: 100%|██████████| 1/1 [00:00<00:00, 1208.04it/s]"
     ]
    },
    {
     "name": "stdout",
     "output_type": "stream",
     "text": [
      "\n"
     ]
    }
   ],
   "source": [
    "db_path = os.path.join(tempfile.gettempdir(), 'data_access_example.db')\n",
    "initialise_or_create_database_at(db_path)\n",
    "\n",
    "exp = load_or_create_experiment(experiment_name='greco', sample_name='draco')"
   ]
  },
  {
   "cell_type": "code",
   "execution_count": 3,
   "metadata": {
    "execution": {
     "iopub.execute_input": "2021-03-05T11:24:47.888852Z",
     "iopub.status.busy": "2021-03-05T11:24:47.887612Z",
     "iopub.status.idle": "2021-03-05T11:24:47.889477Z",
     "shell.execute_reply": "2021-03-05T11:24:47.889951Z"
    }
   },
   "outputs": [],
   "source": [
    "x = Parameter(name='x', label='Voltage', unit='V',\n",
    "              set_cmd=None, get_cmd=None)\n",
    "t = Parameter(name='t', label='Time', unit='s',\n",
    "              set_cmd=None, get_cmd=None)\n",
    "y = Parameter(name='y', label='Voltage', unit='V',\n",
    "              set_cmd=None, get_cmd=None)\n",
    "y2 = Parameter(name='y2', label='Current', unit='A',\n",
    "               set_cmd=None, get_cmd=None)\n",
    "q = Parameter(name='q', label='Qredibility', unit='$',\n",
    "               set_cmd=None, get_cmd=None)"
   ]
  },
  {
   "cell_type": "code",
   "execution_count": 4,
   "metadata": {
    "execution": {
     "iopub.execute_input": "2021-03-05T11:24:47.898295Z",
     "iopub.status.busy": "2021-03-05T11:24:47.897053Z",
     "iopub.status.idle": "2021-03-05T11:24:48.222361Z",
     "shell.execute_reply": "2021-03-05T11:24:48.222842Z"
    }
   },
   "outputs": [
    {
     "name": "stdout",
     "output_type": "stream",
     "text": [
      "Starting experimental run with id: 1. \n"
     ]
    }
   ],
   "source": [
    "meas = Measurement(exp=exp, name='fresco')\n",
    "\n",
    "meas.register_parameter(x)\n",
    "meas.register_parameter(t)\n",
    "meas.register_parameter(y, setpoints=(x, t))\n",
    "meas.register_parameter(y2, setpoints=(x, t))\n",
    "meas.register_parameter(q)  # a standalone parameter\n",
    "\n",
    "x_vals = np.linspace(-4, 5, 50)\n",
    "t_vals = np.linspace(-500, 1500, 25)\n",
    "\n",
    "with meas.run() as datasaver:\n",
    "    for xv in x_vals:\n",
    "        for tv in t_vals:\n",
    "            yv = np.sin(2*np.pi*xv)*np.cos(2*np.pi*0.001*tv) + 0.001*tv\n",
    "            y2v = np.sin(2*np.pi*xv)*np.cos(2*np.pi*0.001*tv + 0.5*np.pi) - 0.001*tv\n",
    "            datasaver.add_result((x, xv), (t, tv), (y, yv), (y2, y2v))\n",
    "        q_val = np.max(yv) - np.min(y2v)  # a meaningless value\n",
    "        datasaver.add_result((q, q_val))\n",
    "\n",
    "dataset = datasaver.dataset"
   ]
  },
  {
   "cell_type": "markdown",
   "metadata": {},
   "source": [
    "For the sake of demonstrating what kind of data we've produced, let's use `plot_dataset` to make some default plots of the data."
   ]
  },
  {
   "cell_type": "code",
   "execution_count": 5,
   "metadata": {
    "execution": {
     "iopub.execute_input": "2021-03-05T11:24:48.226986Z",
     "iopub.status.busy": "2021-03-05T11:24:48.226161Z",
     "iopub.status.idle": "2021-03-05T11:24:48.696180Z",
     "shell.execute_reply": "2021-03-05T11:24:48.695655Z"
    }
   },
   "outputs": [
    {
     "data": {
      "text/plain": [
       "([<AxesSubplot:title={'center':'Run #1, Experiment greco (draco)'}, xlabel='Voltage (V)', ylabel='Time (ks)'>,\n",
       "  <AxesSubplot:title={'center':'Run #1, Experiment greco (draco)'}, xlabel='Voltage (V)', ylabel='Time (ks)'>],\n",
       " [<matplotlib.colorbar.Colorbar at 0x7f20e5637d50>,\n",
       "  <matplotlib.colorbar.Colorbar at 0x7f20e55d1290>])"
      ]
     },
     "execution_count": 1,
     "metadata": {},
     "output_type": "execute_result"
    },
    {
     "data": {
      "image/png": "[encoded data removed]",
      "text/plain": [
       "<Figure size 432x288 with 2 Axes>"
      ]
     },
     "metadata": {
      "needs_background": "light"
     },
     "output_type": "display_data"
    },
    {
     "data": {
      "image/png": "[encoded data removed]",
      "text/plain": [
       "<Figure size 432x288 with 2 Axes>"
      ]
     },
     "metadata": {
      "needs_background": "light"
     },
     "output_type": "display_data"
    }
   ],
   "source": [
    "plot_dataset(dataset)"
   ]
  },
  {
   "cell_type": "markdown",
   "metadata": {},
   "source": [
    "## DataSet indentification\n",
    "\n",
    "Before we dive into what's in the `DataSet`, let's briefly note how a `DataSet` is identified."
   ]
  },
  {
   "cell_type": "code",
   "execution_count": 6,
   "metadata": {
    "execution": {
     "iopub.execute_input": "2021-03-05T11:24:48.700312Z",
     "iopub.status.busy": "2021-03-05T11:24:48.699426Z",
     "iopub.status.idle": "2021-03-05T11:24:48.704762Z",
     "shell.execute_reply": "2021-03-05T11:24:48.705231Z"
    }
   },
   "outputs": [
    {
     "data": {
      "text/plain": [
       "1"
      ]
     },
     "execution_count": 1,
     "metadata": {},
     "output_type": "execute_result"
    }
   ],
   "source": [
    "dataset.captured_run_id"
   ]
  },
  {
   "cell_type": "code",
   "execution_count": 7,
   "metadata": {
    "execution": {
     "iopub.execute_input": "2021-03-05T11:24:48.708935Z",
     "iopub.status.busy": "2021-03-05T11:24:48.708135Z",
     "iopub.status.idle": "2021-03-05T11:24:48.714018Z",
     "shell.execute_reply": "2021-03-05T11:24:48.713544Z"
    }
   },
   "outputs": [
    {
     "data": {
      "text/plain": [
       "'greco'"
      ]
     },
     "execution_count": 1,
     "metadata": {},
     "output_type": "execute_result"
    }
   ],
   "source": [
    "dataset.exp_name"
   ]
  },
  {
   "cell_type": "code",
   "execution_count": 8,
   "metadata": {
    "execution": {
     "iopub.execute_input": "2021-03-05T11:24:48.717595Z",
     "iopub.status.busy": "2021-03-05T11:24:48.716624Z",
     "iopub.status.idle": "2021-03-05T11:24:48.722414Z",
     "shell.execute_reply": "2021-03-05T11:24:48.721934Z"
    }
   },
   "outputs": [
    {
     "data": {
      "text/plain": [
       "'draco'"
      ]
     },
     "execution_count": 1,
     "metadata": {},
     "output_type": "execute_result"
    }
   ],
   "source": [
    "dataset.sample_name"
   ]
  },
  {
   "cell_type": "code",
   "execution_count": 9,
   "metadata": {
    "execution": {
     "iopub.execute_input": "2021-03-05T11:24:48.726773Z",
     "iopub.status.busy": "2021-03-05T11:24:48.726178Z",
     "iopub.status.idle": "2021-03-05T11:24:48.729128Z",
     "shell.execute_reply": "2021-03-05T11:24:48.729592Z"
    }
   },
   "outputs": [
    {
     "data": {
      "text/plain": [
       "'fresco'"
      ]
     },
     "execution_count": 1,
     "metadata": {},
     "output_type": "execute_result"
    }
   ],
   "source": [
    "dataset.name"
   ]
  },
  {
   "cell_type": "markdown",
   "metadata": {},
   "source": [
    "## Parameters in the DataSet\n",
    "\n",
    "In this section we are getting information about the parameters stored in the given `DataSet`.\n",
    "\n",
    "> Why is that important? Let's jump into *data*!\n",
    "\n",
    "As it turns out, just \"arrays of numbers\" are not enough to reason about a given `DataSet`. Even comping up with a reasonable deafult plot, which is what `plot_dataset` does, requires information on `DataSet`'s parameters. In this notebook, we first have a detailed look at what is stored about parameters and how to work with this information. After that, we will cover data access methods."
   ]
  },
  {
   "cell_type": "markdown",
   "metadata": {},
   "source": [
    "### Run description\n",
    "\n",
    "Every dataset comes with a \"description\" (aka \"run description\"):"
   ]
  },
  {
   "cell_type": "code",
   "execution_count": 10,
   "metadata": {
    "execution": {
     "iopub.execute_input": "2021-03-05T11:24:48.734209Z",
     "iopub.status.busy": "2021-03-05T11:24:48.733426Z",
     "iopub.status.idle": "2021-03-05T11:24:48.736034Z",
     "shell.execute_reply": "2021-03-05T11:24:48.736520Z"
    }
   },
   "outputs": [
    {
     "data": {
      "text/plain": [
       "RunDescriber(InterDependencies_(dependencies={ParamSpecBase('y', 'numeric', 'Voltage', 'V'): (ParamSpecBase('x', 'numeric', 'Voltage', 'V'), ParamSpecBase('t', 'numeric', 'Time', 's')), ParamSpecBase('y2', 'numeric', 'Current', 'A'): (ParamSpecBase('x', 'numeric', 'Voltage', 'V'), ParamSpecBase('t', 'numeric', 'Time', 's'))}, inferences={}, standalones=frozenset({ParamSpecBase('q', 'numeric', 'Qredibility', '$')})), Shapes: None)"
      ]
     },
     "execution_count": 1,
     "metadata": {},
     "output_type": "execute_result"
    }
   ],
   "source": [
    "dataset.description"
   ]
  },
  {
   "cell_type": "markdown",
   "metadata": {},
   "source": [
    "The description, an instance of `RunDescriber` object, is intended to describe the details of a dataset. In the future releases of QCoDeS it will likely be expanded. At the moment, it only contains an `InterDependencies_` object under its `interdeps` attribute - which stores all the information about the parameters of the `DataSet`.\n",
    "\n",
    "Let's look into this `InterDependencies_` object."
   ]
  },
  {
   "cell_type": "markdown",
   "metadata": {},
   "source": [
    "### Interdependencies\n",
    "\n",
    "`Interdependencies_` object inside the run description contains information about all the parameters that are stored in the `DataSet`. Subsections below explain how the individual information about the parameters as well as their relationships are captured in the `Interdependencies_` object."
   ]
  },
  {
   "cell_type": "code",
   "execution_count": 11,
   "metadata": {
    "execution": {
     "iopub.execute_input": "2021-03-05T11:24:48.741154Z",
     "iopub.status.busy": "2021-03-05T11:24:48.740382Z",
     "iopub.status.idle": "2021-03-05T11:24:48.742975Z",
     "shell.execute_reply": "2021-03-05T11:24:48.744780Z"
    }
   },
   "outputs": [
    {
     "data": {
      "text/plain": [
       "InterDependencies_(dependencies={ParamSpecBase('y', 'numeric', 'Voltage', 'V'): (ParamSpecBase('x', 'numeric', 'Voltage', 'V'), ParamSpecBase('t', 'numeric', 'Time', 's')), ParamSpecBase('y2', 'numeric', 'Current', 'A'): (ParamSpecBase('x', 'numeric', 'Voltage', 'V'), ParamSpecBase('t', 'numeric', 'Time', 's'))}, inferences={}, standalones=frozenset({ParamSpecBase('q', 'numeric', 'Qredibility', '$')}))"
      ]
     },
     "execution_count": 1,
     "metadata": {},
     "output_type": "execute_result"
    }
   ],
   "source": [
    "interdeps = dataset.description.interdeps\n",
    "interdeps"
   ]
  },
  {
   "cell_type": "markdown",
   "metadata": {},
   "source": [
    "#### Dependencies, inferences, standalones"
   ]
  },
  {
   "cell_type": "markdown",
   "metadata": {},
   "source": [
    "Information about every parameter is stored in the form of `ParamSpecBase` objects, and the releationship between parameters is captured via `dependencies`, `inferences`, and `standalones` attributes.\n",
    "\n",
    "For example, the dataset that we are inspecting contains no inferences, and one standalone parameter `q`, and two dependent parameters `y` and `y2`, which both depend on independent `x` and `t` parameters:"
   ]
  },
  {
   "cell_type": "code",
   "execution_count": 12,
   "metadata": {
    "execution": {
     "iopub.execute_input": "2021-03-05T11:24:48.752153Z",
     "iopub.status.busy": "2021-03-05T11:24:48.751573Z",
     "iopub.status.idle": "2021-03-05T11:24:48.754147Z",
     "shell.execute_reply": "2021-03-05T11:24:48.754588Z"
    }
   },
   "outputs": [
    {
     "data": {
      "text/plain": [
       "{}"
      ]
     },
     "execution_count": 1,
     "metadata": {},
     "output_type": "execute_result"
    }
   ],
   "source": [
    "interdeps.inferences"
   ]
  },
  {
   "cell_type": "code",
   "execution_count": 13,
   "metadata": {
    "execution": {
     "iopub.execute_input": "2021-03-05T11:24:48.758642Z",
     "iopub.status.busy": "2021-03-05T11:24:48.757527Z",
     "iopub.status.idle": "2021-03-05T11:24:48.761319Z",
     "shell.execute_reply": "2021-03-05T11:24:48.761794Z"
    }
   },
   "outputs": [
    {
     "data": {
      "text/plain": [
       "frozenset({ParamSpecBase('q', 'numeric', 'Qredibility', '$')})"
      ]
     },
     "execution_count": 1,
     "metadata": {},
     "output_type": "execute_result"
    }
   ],
   "source": [
    "interdeps.standalones"
   ]
  },
  {
   "cell_type": "code",
   "execution_count": 14,
   "metadata": {
    "execution": {
     "iopub.execute_input": "2021-03-05T11:24:48.766791Z",
     "iopub.status.busy": "2021-03-05T11:24:48.765960Z",
     "iopub.status.idle": "2021-03-05T11:24:48.768722Z",
     "shell.execute_reply": "2021-03-05T11:24:48.769192Z"
    }
   },
   "outputs": [
    {
     "data": {
      "text/plain": [
       "{ParamSpecBase('y', 'numeric', 'Voltage', 'V'): (ParamSpecBase('x', 'numeric', 'Voltage', 'V'),\n",
       "  ParamSpecBase('t', 'numeric', 'Time', 's')),\n",
       " ParamSpecBase('y2', 'numeric', 'Current', 'A'): (ParamSpecBase('x', 'numeric', 'Voltage', 'V'),\n",
       "  ParamSpecBase('t', 'numeric', 'Time', 's'))}"
      ]
     },
     "execution_count": 1,
     "metadata": {},
     "output_type": "execute_result"
    }
   ],
   "source": [
    "interdeps.dependencies"
   ]
  },
  {
   "cell_type": "markdown",
   "metadata": {},
   "source": [
    "`dependencies` is a dictionary of `ParamSpecBase` objects. The keys are dependent parameters (those which depend on other parameters), and the corresponding values in the dictionary are tuples of independent parameters that the dependent parameter in the key depends on. Coloquially, each key-value pair of the `dependencies` dictionary is sometimes referred to as \"parameter tree\".\n",
    "\n",
    "`inferences` follows the same structure as `dependencies`.\n",
    "\n",
    "`standalones` is a set - an unordered collection of `ParamSpecBase` objects representing \"standalone\" parameters, the ones which do not depend on other parameters, and no other parameter depends on them."
   ]
  },
  {
   "cell_type": "markdown",
   "metadata": {},
   "source": [
    "#### ParamSpecBase objects"
   ]
  },
  {
   "cell_type": "markdown",
   "metadata": {},
   "source": [
    "`ParamSpecBase` object contains all the necessary information about a given parameter, for example, its `name` and `unit`:"
   ]
  },
  {
   "cell_type": "code",
   "execution_count": 15,
   "metadata": {
    "execution": {
     "iopub.execute_input": "2021-03-05T11:24:48.773729Z",
     "iopub.status.busy": "2021-03-05T11:24:48.773113Z",
     "iopub.status.idle": "2021-03-05T11:24:48.775938Z",
     "shell.execute_reply": "2021-03-05T11:24:48.776422Z"
    }
   },
   "outputs": [
    {
     "name": "stdout",
     "output_type": "stream",
     "text": [
      "Parameter 'y' is in 'V'\n"
     ]
    }
   ],
   "source": [
    "ps = list(interdeps.dependencies.keys())[0]\n",
    "print(f'Parameter {ps.name!r} is in {ps.unit!r}')"
   ]
  },
  {
   "cell_type": "markdown",
   "metadata": {},
   "source": [
    "`paramspecs` property returns a tuple of `ParamSpecBase`s for all the parameters contained in the `Interdependencies_` object:"
   ]
  },
  {
   "cell_type": "code",
   "execution_count": 16,
   "metadata": {
    "execution": {
     "iopub.execute_input": "2021-03-05T11:24:48.780698Z",
     "iopub.status.busy": "2021-03-05T11:24:48.779567Z",
     "iopub.status.idle": "2021-03-05T11:24:48.782866Z",
     "shell.execute_reply": "2021-03-05T11:24:48.783345Z"
    }
   },
   "outputs": [
    {
     "data": {
      "text/plain": [
       "(ParamSpecBase('y', 'numeric', 'Voltage', 'V'),\n",
       " ParamSpecBase('x', 'numeric', 'Voltage', 'V'),\n",
       " ParamSpecBase('t', 'numeric', 'Time', 's'),\n",
       " ParamSpecBase('y2', 'numeric', 'Current', 'A'),\n",
       " ParamSpecBase('q', 'numeric', 'Qredibility', '$'))"
      ]
     },
     "execution_count": 1,
     "metadata": {},
     "output_type": "execute_result"
    }
   ],
   "source": [
    "interdeps.paramspecs"
   ]
  },
  {
   "cell_type": "markdown",
   "metadata": {},
   "source": [
    "Here's a trivial example of iterating through dependent parameters of the `Interdependencies_` object and extracting information about them from the `ParamSpecBase` objects:"
   ]
  },
  {
   "cell_type": "code",
   "execution_count": 17,
   "metadata": {
    "execution": {
     "iopub.execute_input": "2021-03-05T11:24:48.789765Z",
     "iopub.status.busy": "2021-03-05T11:24:48.788457Z",
     "iopub.status.idle": "2021-03-05T11:24:48.791765Z",
     "shell.execute_reply": "2021-03-05T11:24:48.791264Z"
    }
   },
   "outputs": [
    {
     "name": "stdout",
     "output_type": "stream",
     "text": [
      "Parameter 'y' (Voltage, V) depends on:\n",
      "- 'x' (Voltage, V)\n",
      "- 't' (Time, s)\n",
      "Parameter 'y2' (Current, A) depends on:\n",
      "- 'x' (Voltage, V)\n",
      "- 't' (Time, s)\n"
     ]
    }
   ],
   "source": [
    "for d in interdeps.dependencies.keys():\n",
    "    print(f'Parameter {d.name!r} ({d.label}, {d.unit}) depends on:')\n",
    "    for i in interdeps.dependencies[d]:\n",
    "        print(f'- {i.name!r} ({i.label}, {i.unit})')"
   ]
  },
  {
   "cell_type": "markdown",
   "metadata": {},
   "source": [
    "#### Other useful methods and properties"
   ]
  },
  {
   "cell_type": "markdown",
   "metadata": {},
   "source": [
    "`Interdependencies_` object has a few useful properties and methods which make it easy to work it and with other `Interdependencies_` and `ParamSpecBase` objects.\n",
    "\n",
    "For example, `non_dependencies` returns a tuple of all dependent parameters together with standalone parameters:"
   ]
  },
  {
   "cell_type": "code",
   "execution_count": 18,
   "metadata": {
    "execution": {
     "iopub.execute_input": "2021-03-05T11:24:48.796787Z",
     "iopub.status.busy": "2021-03-05T11:24:48.795966Z",
     "iopub.status.idle": "2021-03-05T11:24:48.798711Z",
     "shell.execute_reply": "2021-03-05T11:24:48.799197Z"
    }
   },
   "outputs": [
    {
     "data": {
      "text/plain": [
       "(ParamSpecBase('q', 'numeric', 'Qredibility', '$'),\n",
       " ParamSpecBase('y', 'numeric', 'Voltage', 'V'),\n",
       " ParamSpecBase('y2', 'numeric', 'Current', 'A'))"
      ]
     },
     "execution_count": 1,
     "metadata": {},
     "output_type": "execute_result"
    }
   ],
   "source": [
    "interdeps.non_dependencies"
   ]
  },
  {
   "cell_type": "markdown",
   "metadata": {},
   "source": [
    "`what_depends_on` method allows to find what parameters depend on a given parameter:"
   ]
  },
  {
   "cell_type": "code",
   "execution_count": 19,
   "metadata": {
    "execution": {
     "iopub.execute_input": "2021-03-05T11:24:48.804219Z",
     "iopub.status.busy": "2021-03-05T11:24:48.802403Z",
     "iopub.status.idle": "2021-03-05T11:24:48.806889Z",
     "shell.execute_reply": "2021-03-05T11:24:48.807373Z"
    }
   },
   "outputs": [
    {
     "name": "stdout",
     "output_type": "stream",
     "text": [
      "Following parameters depend on 't' (Time, s):\n",
      "- 'y' (Voltage, V)\n",
      "- 'y2' (Current, A)\n"
     ]
    }
   ],
   "source": [
    "t_ps = interdeps.paramspecs[2]\n",
    "t_deps = interdeps.what_depends_on(t_ps)\n",
    "\n",
    "print(f'Following parameters depend on {t_ps.name!r} ({t_ps.label}, {t_ps.unit}):')\n",
    "for t_dep in t_deps:\n",
    "    print(f'- {t_dep.name!r} ({t_dep.label}, {t_dep.unit})')"
   ]
  },
  {
   "cell_type": "markdown",
   "metadata": {},
   "source": [
    "### Shortcuts to important parameters\n",
    "\n",
    "For the frequently needed groups of parameters, `DataSet` object itself provides convenient methods and properties.\n",
    "\n",
    "For example, use `dependent_parameters` property to get only dependent parameters of a given `DataSet`:"
   ]
  },
  {
   "cell_type": "code",
   "execution_count": 20,
   "metadata": {
    "execution": {
     "iopub.execute_input": "2021-03-05T11:24:48.812204Z",
     "iopub.status.busy": "2021-03-05T11:24:48.811525Z",
     "iopub.status.idle": "2021-03-05T11:24:48.813649Z",
     "shell.execute_reply": "2021-03-05T11:24:48.814122Z"
    }
   },
   "outputs": [
    {
     "data": {
      "text/plain": [
       "(ParamSpecBase('y', 'numeric', 'Voltage', 'V'),\n",
       " ParamSpecBase('y2', 'numeric', 'Current', 'A'))"
      ]
     },
     "execution_count": 1,
     "metadata": {},
     "output_type": "execute_result"
    }
   ],
   "source": [
    "dataset.dependent_parameters"
   ]
  },
  {
   "cell_type": "markdown",
   "metadata": {},
   "source": [
    "This is equivalent to:"
   ]
  },
  {
   "cell_type": "code",
   "execution_count": 21,
   "metadata": {
    "execution": {
     "iopub.execute_input": "2021-03-05T11:24:48.817916Z",
     "iopub.status.busy": "2021-03-05T11:24:48.817330Z",
     "iopub.status.idle": "2021-03-05T11:24:48.820924Z",
     "shell.execute_reply": "2021-03-05T11:24:48.820423Z"
    }
   },
   "outputs": [
    {
     "data": {
      "text/plain": [
       "(ParamSpecBase('y', 'numeric', 'Voltage', 'V'),\n",
       " ParamSpecBase('y2', 'numeric', 'Current', 'A'))"
      ]
     },
     "execution_count": 1,
     "metadata": {},
     "output_type": "execute_result"
    }
   ],
   "source": [
    "tuple(dataset.description.interdeps.dependencies.keys())"
   ]
  },
  {
   "cell_type": "markdown",
   "metadata": {},
   "source": [
    "### Note on inferences\n",
    "\n",
    "Inferences between parameters is a feature that has not been used yet within QCoDeS. The initial concepts around `DataSet` included it in order to link parameters that are not directly dependent on each other as \"dependencies\" are. It is very likely that \"inferences\" will be eventually deprecated and removed."
   ]
  },
  {
   "cell_type": "markdown",
   "metadata": {},
   "source": [
    "### Note on ParamSpec's\n",
    "\n",
    "> `ParamSpec`s originate from QCoDeS versions prior to `0.2.0` and for now are kept for backwards compatibility. `ParamSpec`s are completely superseded by `InterDependencies_`/`ParamSpecBase` bundle and will likely be deprecated in future versions of QCoDeS together with the `DataSet` methods/properties that return `ParamSpec`s objects.\n",
    "\n",
    "In addition to the `Interdependencies_` object, `DataSet` also holds `ParamSpec` objects (not to be confused with `ParamSpecBase` objects from above). Similar to `Interdependencies_` object, the `ParamSpec` objects hold information about parameters and their interdependencies but in a different way: for a given parameter, `ParamSpec` object itself contains information on names of parameters that it depends on, while for the `InterDependencies_`/`ParamSpecBase`s this information is stored only in the `InterDependencies_` object."
   ]
  },
  {
   "cell_type": "markdown",
   "metadata": {},
   "source": [
    "`DataSet` exposes `paramspecs` property and `get_parameters()` method, both of which return `ParamSpec` objects of all the parameters of the dataset, and are not recommended for use:"
   ]
  },
  {
   "cell_type": "code",
   "execution_count": 22,
   "metadata": {
    "execution": {
     "iopub.execute_input": "2021-03-05T11:24:48.825963Z",
     "iopub.status.busy": "2021-03-05T11:24:48.825364Z",
     "iopub.status.idle": "2021-03-05T11:24:48.827421Z",
     "shell.execute_reply": "2021-03-05T11:24:48.827923Z"
    }
   },
   "outputs": [
    {
     "data": {
      "text/plain": [
       "{'x': ParamSpec('x', 'numeric', 'Voltage', 'V', inferred_from=[], depends_on=[]),\n",
       " 't': ParamSpec('t', 'numeric', 'Time', 's', inferred_from=[], depends_on=[]),\n",
       " 'y': ParamSpec('y', 'numeric', 'Voltage', 'V', inferred_from=[], depends_on=['x', 't']),\n",
       " 'y2': ParamSpec('y2', 'numeric', 'Current', 'A', inferred_from=[], depends_on=['x', 't']),\n",
       " 'q': ParamSpec('q', 'numeric', 'Qredibility', '$', inferred_from=[], depends_on=[])}"
      ]
     },
     "execution_count": 1,
     "metadata": {},
     "output_type": "execute_result"
    }
   ],
   "source": [
    "dataset.paramspecs"
   ]
  },
  {
   "cell_type": "code",
   "execution_count": 23,
   "metadata": {
    "execution": {
     "iopub.execute_input": "2021-03-05T11:24:48.831220Z",
     "iopub.status.busy": "2021-03-05T11:24:48.830378Z",
     "iopub.status.idle": "2021-03-05T11:24:48.834581Z",
     "shell.execute_reply": "2021-03-05T11:24:48.834087Z"
    }
   },
   "outputs": [
    {
     "data": {
      "text/plain": [
       "[ParamSpec('x', 'numeric', 'Voltage', 'V', inferred_from=[], depends_on=[]),\n",
       " ParamSpec('t', 'numeric', 'Time', 's', inferred_from=[], depends_on=[]),\n",
       " ParamSpec('y', 'numeric', 'Voltage', 'V', inferred_from=[], depends_on=['x', 't']),\n",
       " ParamSpec('y2', 'numeric', 'Current', 'A', inferred_from=[], depends_on=['x', 't']),\n",
       " ParamSpec('q', 'numeric', 'Qredibility', '$', inferred_from=[], depends_on=[])]"
      ]
     },
     "execution_count": 1,
     "metadata": {},
     "output_type": "execute_result"
    }
   ],
   "source": [
    "dataset.get_parameters()"
   ]
  },
  {
   "cell_type": "code",
   "execution_count": 24,
   "metadata": {
    "execution": {
     "iopub.execute_input": "2021-03-05T11:24:48.841364Z",
     "iopub.status.busy": "2021-03-05T11:24:48.840764Z",
     "iopub.status.idle": "2021-03-05T11:24:48.844369Z",
     "shell.execute_reply": "2021-03-05T11:24:48.843867Z"
    }
   },
   "outputs": [
    {
     "data": {
      "text/plain": [
       "'x,t,y,y2,q'"
      ]
     },
     "execution_count": 1,
     "metadata": {},
     "output_type": "execute_result"
    }
   ],
   "source": [
    "dataset.parameters"
   ]
  },
  {
   "cell_type": "markdown",
   "metadata": {},
   "source": [
    "To give an example of what it takes to work with `ParamSpec` objects as opposed to `Interdependencies_` object, here's a function that one needs to write in order to find standalone `ParamSpec`s from a given list of `ParamSpec`s:"
   ]
  },
  {
   "cell_type": "code",
   "execution_count": 25,
   "metadata": {
    "execution": {
     "iopub.execute_input": "2021-03-05T11:24:48.850307Z",
     "iopub.status.busy": "2021-03-05T11:24:48.848134Z",
     "iopub.status.idle": "2021-03-05T11:24:48.852383Z",
     "shell.execute_reply": "2021-03-05T11:24:48.853107Z"
    }
   },
   "outputs": [
    {
     "data": {
      "text/plain": [
       "(ParamSpec('q', 'numeric', 'Qredibility', '$', inferred_from=[], depends_on=[]),)"
      ]
     },
     "execution_count": 1,
     "metadata": {},
     "output_type": "execute_result"
    }
   ],
   "source": [
    "def get_standalone_parameters(paramspecs):\n",
    "    all_independents = set(spec.name\n",
    "                           for spec in paramspecs\n",
    "                           if len(spec.depends_on_) == 0)\n",
    "    used_independents = set(d for spec in paramspecs for d in spec.depends_on_)\n",
    "    standalones = all_independents.difference(used_independents)\n",
    "    return tuple(ps for ps in paramspecs if ps.name in standalones)\n",
    "\n",
    "all_parameters = dataset.get_parameters()\n",
    "standalone_parameters = get_standalone_parameters(all_parameters)\n",
    "standalone_parameters"
   ]
  },
  {
   "cell_type": "markdown",
   "metadata": {},
   "source": [
    "## Getting data from DataSet\n",
    "\n",
    "In this section methods for retrieving the actual data from the `DataSet` are discussed.\n",
    "\n",
    "### `get_parameter_data` - the powerhorse\n",
    "\n",
    "`DataSet` provides one main method of accessing data - `get_parameter_data`. It returns data for groups of dependent-parameter-and-its-independent-parameters in a form of a nested dictionary of `numpy` arrays:"
   ]
  },
  {
   "cell_type": "code",
   "execution_count": 26,
   "metadata": {
    "execution": {
     "iopub.execute_input": "2021-03-05T11:24:48.857082Z",
     "iopub.status.busy": "2021-03-05T11:24:48.856480Z",
     "iopub.status.idle": "2021-03-05T11:24:48.893281Z",
     "shell.execute_reply": "2021-03-05T11:24:48.892750Z"
    }
   },
   "outputs": [
    {
     "data": {
      "text/plain": [
       "{'q': {'q': array([3.        , 2.08558738, 2.259722  , 3.31510822, 3.99537911,\n",
       "         3.49071755, 2.40188947, 2.02507209, 2.80884137, 3.82017225,\n",
       "         3.85514276, 2.87212284, 2.04133215, 2.3517716 , 3.43388374,\n",
       "         3.99948622, 3.375267  , 2.30431745, 2.06153158, 2.93592978,\n",
       "         3.88659931, 3.78183148, 2.74634542, 2.01281822, 2.4544651 ,\n",
       "         3.5455349 , 3.98718178, 3.25365458, 2.21816852, 2.11340069,\n",
       "         3.06407022, 3.93846842, 3.69568255, 2.624733  , 2.00051378,\n",
       "         2.56611626, 3.6482284 , 3.95866785, 3.12787716, 2.14485724,\n",
       "         2.17982775, 3.19115863, 3.97492791, 3.59811053, 2.50928245,\n",
       "         2.00462089, 2.68489178, 3.740278  , 3.91441262, 3.        ])},\n",
       " 'y': {'y': array([-0.5       , -0.41666667, -0.33333333, ...,  1.33333333,\n",
       "          1.41666667,  1.5       ]),\n",
       "  'x': array([-4., -4., -4., ...,  5.,  5.,  5.]),\n",
       "  't': array([-500.        , -416.66666667, -333.33333333, ..., 1333.33333333,\n",
       "         1416.66666667, 1500.        ])},\n",
       " 'y2': {'y2': array([ 0.5       ,  0.41666667,  0.33333333, ..., -1.33333333,\n",
       "         -1.41666667, -1.5       ]),\n",
       "  'x': array([-4., -4., -4., ...,  5.,  5.,  5.]),\n",
       "  't': array([-500.        , -416.66666667, -333.33333333, ..., 1333.33333333,\n",
       "         1416.66666667, 1500.        ])}}"
      ]
     },
     "execution_count": 1,
     "metadata": {},
     "output_type": "execute_result"
    }
   ],
   "source": [
    "dataset.get_parameter_data()"
   ]
  },
  {
   "cell_type": "markdown",
   "metadata": {},
   "source": [
    "#### Avoid excessive calls to loading data\n",
    "\n",
    "Note that this call actually reads the data of the `DataSet` and in case of a `DataSet` with a lot of data can take noticable amount of time. Hence, it is recommended to limit the number of times the same data gets loaded in order to speed up the user's code."
   ]
  },
  {
   "cell_type": "markdown",
   "metadata": {},
   "source": [
    "#### Loading data of selected parameters\n",
    "\n",
    "Sometimes data only for a particular parameter or parameters needs to be loaded. For example, let's assume that after inspecting the `InterDependencies_` object from `dataset.description.interdeps`, we concluded that we want to load data of the `q` parameter and the `y2` parameter. In order to do that, we just pass the names of these parameters, or their `ParamSpecBase`s to `get_parameter_data` call:"
   ]
  },
  {
   "cell_type": "code",
   "execution_count": 27,
   "metadata": {
    "execution": {
     "iopub.execute_input": "2021-03-05T11:24:48.897796Z",
     "iopub.status.busy": "2021-03-05T11:24:48.896580Z",
     "iopub.status.idle": "2021-03-05T11:24:48.900228Z",
     "shell.execute_reply": "2021-03-05T11:24:48.900727Z"
    }
   },
   "outputs": [
    {
     "data": {
      "text/plain": [
       "ParamSpecBase('q', 'numeric', 'Qredibility', '$')"
      ]
     },
     "execution_count": 1,
     "metadata": {},
     "output_type": "execute_result"
    }
   ],
   "source": [
    "q_param_spec = list(interdeps.standalones)[0]\n",
    "q_param_spec"
   ]
  },
  {
   "cell_type": "code",
   "execution_count": 28,
   "metadata": {
    "execution": {
     "iopub.execute_input": "2021-03-05T11:24:48.904992Z",
     "iopub.status.busy": "2021-03-05T11:24:48.903824Z",
     "iopub.status.idle": "2021-03-05T11:24:48.907240Z",
     "shell.execute_reply": "2021-03-05T11:24:48.907738Z"
    }
   },
   "outputs": [
    {
     "data": {
      "text/plain": [
       "ParamSpecBase('y2', 'numeric', 'Current', 'A')"
      ]
     },
     "execution_count": 1,
     "metadata": {},
     "output_type": "execute_result"
    }
   ],
   "source": [
    "y2_param_spec = interdeps.non_dependencies[-1]\n",
    "y2_param_spec"
   ]
  },
  {
   "cell_type": "code",
   "execution_count": 29,
   "metadata": {
    "execution": {
     "iopub.execute_input": "2021-03-05T11:24:48.911978Z",
     "iopub.status.busy": "2021-03-05T11:24:48.911390Z",
     "iopub.status.idle": "2021-03-05T11:24:48.930856Z",
     "shell.execute_reply": "2021-03-05T11:24:48.930328Z"
    }
   },
   "outputs": [
    {
     "data": {
      "text/plain": [
       "{'q': {'q': array([3.        , 2.08558738, 2.259722  , 3.31510822, 3.99537911,\n",
       "         3.49071755, 2.40188947, 2.02507209, 2.80884137, 3.82017225,\n",
       "         3.85514276, 2.87212284, 2.04133215, 2.3517716 , 3.43388374,\n",
       "         3.99948622, 3.375267  , 2.30431745, 2.06153158, 2.93592978,\n",
       "         3.88659931, 3.78183148, 2.74634542, 2.01281822, 2.4544651 ,\n",
       "         3.5455349 , 3.98718178, 3.25365458, 2.21816852, 2.11340069,\n",
       "         3.06407022, 3.93846842, 3.69568255, 2.624733  , 2.00051378,\n",
       "         2.56611626, 3.6482284 , 3.95866785, 3.12787716, 2.14485724,\n",
       "         2.17982775, 3.19115863, 3.97492791, 3.59811053, 2.50928245,\n",
       "         2.00462089, 2.68489178, 3.740278  , 3.91441262, 3.        ])},\n",
       " 'y2': {'y2': array([ 0.5       ,  0.41666667,  0.33333333, ..., -1.33333333,\n",
       "         -1.41666667, -1.5       ]),\n",
       "  'x': array([-4., -4., -4., ...,  5.,  5.,  5.]),\n",
       "  't': array([-500.        , -416.66666667, -333.33333333, ..., 1333.33333333,\n",
       "         1416.66666667, 1500.        ])}}"
      ]
     },
     "execution_count": 1,
     "metadata": {},
     "output_type": "execute_result"
    }
   ],
   "source": [
    "dataset.get_parameter_data(q_param_spec, y2_param_spec)"
   ]
  },
  {
   "cell_type": "markdown",
   "metadata": {},
   "source": [
    "### `to_pandas_dataframe_dict` and `to_pandas_dataframe` - for `pandas` fans\r\n",
    "\r\n",
    "`DataSet` provides two methods for accessing data with `pandas` - `to_pandas_dataframe` and  `to_pandas_dataframe_dict`. The method `to_pandas_dataframe_dict` returns data for groups of dependent-parameter-and-its-independent-parameters in a form of a dictionary of `pandas.DataFrame` s, while `to_pandas_dataframe` returns a concatendated `pandas.DataFrame` for groups of dependent-parameter-and-its-independent-parameters:"
   ]
  },
  {
   "cell_type": "code",
   "execution_count": 30,
   "metadata": {
    "execution": {
     "iopub.execute_input": "2021-03-05T11:24:48.936141Z",
     "iopub.status.busy": "2021-03-05T11:24:48.935523Z",
     "iopub.status.idle": "2021-03-05T11:24:49.203970Z",
     "shell.execute_reply": "2021-03-05T11:24:49.203489Z"
    }
   },
   "outputs": [
    {
     "name": "stdout",
     "output_type": "stream",
     "text": [
      "DataFrame for parameter q\n",
      "-----------------------------\n",
      "          q\n",
      "0  3.000000\n",
      "1  2.085587\n",
      "2  2.259722\n",
      "3  3.315108\n",
      "4  3.995379\n",
      "\n",
      "DataFrame for parameter y\n",
      "-----------------------------\n",
      "                         y\n",
      "x    t                    \n",
      "-4.0 -500.000000 -0.500000\n",
      "     -416.666667 -0.416667\n",
      "     -333.333333 -0.333333\n",
      "     -250.000000 -0.250000\n",
      "     -166.666667 -0.166667\n",
      "\n",
      "DataFrame for parameter y2\n",
      "-----------------------------\n",
      "                        y2\n",
      "x    t                    \n",
      "-4.0 -500.000000  0.500000\n",
      "     -416.666667  0.416667\n",
      "     -333.333333  0.333333\n",
      "     -250.000000  0.250000\n",
      "     -166.666667  0.166667\n",
      "\n"
     ]
    }
   ],
   "source": [
    "df_dict = dataset.to_pandas_dataframe_dict()\r\n",
    "\r\n",
    "# For the sake of making this article more readable,\r\n",
    "# we will print the contents of the `dfs` dictionary\r\n",
    "# manually by calling `.head()` on each of the DataFrames\r\n",
    "for parameter_name, df in df_dict.items():\r\n",
    "    print(f\"DataFrame for parameter {parameter_name}\")\r\n",
    "    print(\"-----------------------------\")\r\n",
    "    print(f\"{df.head()!r}\")\r\n",
    "    print(\"\")"
   ]
  },
  {
   "cell_type": "markdown",
   "metadata": {},
   "source": [
    "Alternativly to concatinate the DataSet data into a single pandas Dataframe run the following:"
   ]
  },
  {
   "cell_type": "code",
   "execution_count": 31,
   "metadata": {
    "execution": {
     "iopub.execute_input": "2021-03-05T11:24:49.208366Z",
     "iopub.status.busy": "2021-03-05T11:24:49.207813Z",
     "iopub.status.idle": "2021-03-05T11:24:49.255529Z",
     "shell.execute_reply": "2021-03-05T11:24:49.254965Z"
    }
   },
   "outputs": [
    {
     "name": "stderr",
     "output_type": "stream",
     "text": [
      "2021-03-05 11:24:49,238 ¦ py.warnings ¦ WARNING ¦ warnings ¦ _showwarnmsg ¦ 110 ¦ /opt/hostedtoolcache/Python/3.7.10/x64/lib/python3.7/site-packages/qcodes/dataset/data_set.py:1119: UserWarning: Independent parameter setpoints are not equal. Check concatenated output carefully. Please consider using `to_pandas_dataframe_dict` to export each independent parameter to its own dataframe.\n",
      "  \"Independent parameter setpoints are not equal. \"\n",
      "\n"
     ]
    },
    {
     "name": "stderr",
     "output_type": "stream",
     "text": [
      "2021-03-05 11:24:49,246 ¦ py.warnings ¦ WARNING ¦ warnings ¦ _showwarnmsg ¦ 110 ¦ /opt/hostedtoolcache/Python/3.7.10/x64/lib/python3.7/site-packages/pandas/core/indexes/base.py:2618: RuntimeWarning: '<' not supported between instances of 'tuple' and 'int', sort order is undefined for incomparable objects\n",
      "  return Index.union(this, other, sort=sort).astype(object, copy=False)\n",
      "\n"
     ]
    },
    {
     "name": "stdout",
     "output_type": "stream",
     "text": [
      "          q   y  y2\n",
      "0  3.000000 NaN NaN\n",
      "1  2.085587 NaN NaN\n",
      "2  2.259722 NaN NaN\n",
      "3  3.315108 NaN NaN\n",
      "4  3.995379 NaN NaN\n"
     ]
    }
   ],
   "source": [
    "df = dataset.to_pandas_dataframe()\r\n",
    "print(f\"{df.head()!r}\")"
   ]
  },
  {
   "cell_type": "markdown",
   "metadata": {},
   "source": [
    "Similar to `get_parameter_data`, `to_pandas_dataframe_dict` and `to_pandas_dataframe_dict` also supports retrieving data for a given parameter(s), as well as `start`/`stop` arguments.\r\n",
    "\r\n",
    "Both `to_pandas_dataframe` and `to_pandas_dataframe_dict` is implemented based on `get_parameter_data`, hence the performance considerations mentioned above for `get_parameter_data` apply to these methods as well.\r\n",
    "\r\n",
    "For more details on `to_pandas_dataframe` refer to [Working with pandas and xarray article](Working-With-Pandas-and-XArray.ipynb)."
   ]
  },
  {
   "cell_type": "markdown",
   "metadata": {},
   "source": [
    "### Data extraction into \"other\" formats\r\n",
    "\r\n",
    "If the user desires to export a QCoDeS `DataSet` into a format that is not readily supported by `DataSet` methods, we recommend to use `to_pandas_dataframe_dict` or `to_pandas_dataframe_dict` first, and then convert the resulting `DataFrame` s into a the desired format. This is becuase `pandas` package already implements converting `DataFrame` to various popular formats including comma-separated text file (`.csv`), HDF (`.hdf5`), xarray, Excel (`.xls`, `.xlsx`), and more; refer to [Working with pandas and xarray article](Working-With-Pandas-and-XArray.ipynb), and [`pandas` documentation](https://pandas.pydata.org/pandas-docs/stable/reference/frame.html#serialization-io-conversion) for more information.\r\n",
    "\r\n",
    "Nevertheless, `DataSet` also provides the following convenient methods:\r\n",
    "\r\n",
    "* `DataSet.write_data_to_text_file`\r\n",
    "\r\n",
    "Refer to the docstrings of those methods for more information on how to use them."
   ]
  }
 ],
 "metadata": {
  "kernelspec": {
   "display_name": "Python 3",
   "language": "python",
   "name": "python3"
  },
  "language_info": {
   "codemirror_mode": {
    "name": "ipython",
    "version": 3
   },
   "file_extension": ".py",
   "mimetype": "text/x-python",
   "name": "python",
   "nbconvert_exporter": "python",
   "pygments_lexer": "ipython3",
   "version": "3.7.10"
  },
  "toc": {
   "base_numbering": 1,
   "nav_menu": {},
   "number_sections": true,
   "sideBar": true,
   "skip_h1_title": false,
   "title_cell": "Table of Contents",
   "title_sidebar": "Contents",
   "toc_cell": false,
   "toc_position": {},
   "toc_section_display": true,
   "toc_window_display": false
  },
  "varInspector": {
   "cols": {
    "lenName": 16,
    "lenType": 16,
    "lenVar": 40
   },
   "kernels_config": {
    "python": {
     "delete_cmd_postfix": "",
     "delete_cmd_prefix": "del ",
     "library": "var_list.py",
     "varRefreshCmd": "print(var_dic_list())"
    },
    "r": {
     "delete_cmd_postfix": ") ",
     "delete_cmd_prefix": "rm(",
     "library": "var_list.r",
     "varRefreshCmd": "cat(var_dic_list()) "
    }
   },
   "types_to_exclude": [
    "module",
    "function",
    "builtin_function_or_method",
    "instance",
    "_Feature"
   ],
   "window_display": false
  }
 },
 "nbformat": 4,
 "nbformat_minor": 2
}
